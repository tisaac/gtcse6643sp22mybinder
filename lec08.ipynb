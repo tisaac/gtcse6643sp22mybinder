{
 "cells": [
  {
   "cell_type": "code",
   "execution_count": 1,
   "metadata": {},
   "outputs": [
    {
     "name": "stderr",
     "output_type": "stream",
     "text": [
      "\u001b[32m\u001b[1m    Updating\u001b[22m\u001b[39m registry at `~/.julia/registries/General.toml`\n",
      "\u001b[32m\u001b[1m   Resolving\u001b[22m\u001b[39m package versions...\n",
      "\u001b[32m\u001b[1m  No Changes\u001b[22m\u001b[39m to `~/srv/rep/22-course-cse6643/mybinder/Project.toml`\n",
      "\u001b[32m\u001b[1m  No Changes\u001b[22m\u001b[39m to `~/srv/rep/22-course-cse6643/mybinder/Manifest.toml`\n"
     ]
    },
    {
     "data": {
      "text/plain": [
       "LogLevel(1)"
      ]
     },
     "execution_count": 1,
     "metadata": {},
     "output_type": "execute_result"
    }
   ],
   "source": [
    "import Pkg; Pkg.add([\"Plots\", \"Interact\", \"Polyhedra\", \"GLPK\"]);\n",
    "import Logging; Logging.disable_logging(Logging.Info)"
   ]
  },
  {
   "cell_type": "code",
   "execution_count": 2,
   "metadata": {},
   "outputs": [],
   "source": [
    "const STATIC_LECTURE = false;"
   ]
  },
  {
   "cell_type": "code",
   "execution_count": 3,
   "metadata": {},
   "outputs": [
    {
     "data": {
      "text/plain": [
       "draw (generic function with 1 method)"
      ]
     },
     "execution_count": 3,
     "metadata": {},
     "output_type": "execute_result"
    }
   ],
   "source": [
    "function draw(plt)\n",
    "    if STATIC_LECTURE\n",
    "        filename = Base.Filesystem.tempname() * \".png\"\n",
    "        savefig(filename)\n",
    "        return display(\"image/png\", read(filename))\n",
    "    else\n",
    "        return plt\n",
    "    end\n",
    "end"
   ]
  },
  {
   "cell_type": "code",
   "execution_count": 4,
   "metadata": {},
   "outputs": [
    {
     "data": {
      "application/vnd.webio.node+json": {
       "children": [],
       "instanceArgs": {
        "namespace": "html",
        "tag": "div"
       },
       "nodeType": "DOM",
       "props": {},
       "type": "node"
      },
      "text/html": [
       "<div style=\"padding: 1em; background-color: #f8d6da; border: 1px solid #f5c6cb; font-weight: bold;\">\n",
       "<p>The WebIO Jupyter extension was not detected. See the\n",
       "<a href=\"https://juliagizmos.github.io/WebIO.jl/latest/providers/ijulia/\" target=\"_blank\">\n",
       "    WebIO Jupyter integration documentation\n",
       "</a>\n",
       "for more information.\n",
       "</div>\n"
      ],
      "text/plain": [
       "WebIO._IJuliaInit()"
      ]
     },
     "metadata": {
      "application/vnd.webio.node+json": {
       "kernelId": "d09180db-63cc-4700-a156-6dec3ca877f3"
      }
     },
     "output_type": "display_data"
    },
    {
     "data": {
      "text/plain": [
       "imshow (generic function with 1 method)"
      ]
     },
     "execution_count": 4,
     "metadata": {},
     "output_type": "execute_result"
    }
   ],
   "source": [
    "using LinearAlgebra;\n",
    "using Plots; plotlyjs(); default(l=5, size=(900,550), label=false);\n",
    "using Interact;\n",
    "using Polyhedra;\n",
    "using Printf;\n",
    "\n",
    "import GLPK\n",
    "lib = DefaultLibrary{Float64}(GLPK.Optimizer)\n",
    "\n",
    "prettyprint(a) = map(x -> @sprintf(\"%+.2f\", x), v)\n",
    "\n",
    "function imshow(x; kwargs...)\n",
    "    return heatmap(x\n",
    "        , aspect_ratio=:equal\n",
    "        , framestyle=:none\n",
    "        , yflip=true\n",
    "        , c=:diverging_gwv_55_95_c39_n256\n",
    "        ; kwargs...\n",
    "    )\n",
    "end"
   ]
  },
  {
   "cell_type": "markdown",
   "metadata": {
    "slideshow": {
     "slide_type": "slide"
    }
   },
   "source": [
    "**(Follow along: <https://tinyurl.com/gtcse6643lec8>)**\n",
    "\n",
    "### Warmup\n",
    "\n",
    "- Look over HW2 and prepare questions for office hours / piazza"
   ]
  },
  {
   "cell_type": "markdown",
   "metadata": {
    "slideshow": {
     "slide_type": "slide"
    }
   },
   "source": [
    "# Parallelism, Least Squares Problems\n",
    "\n",
    "**1. Parallelism and QR**\n",
    "\n",
    "**2. Least Squares Problems**\n",
    "\n",
    "**3. Orthogonal Projection and the Normal Equations**\n",
    "\n",
    "**4. The Pseudoinverse**\n",
    "\n",
    "**5. Solving the Least Squares Problem**"
   ]
  },
  {
   "cell_type": "markdown",
   "metadata": {
    "slideshow": {
     "slide_type": "slide"
    }
   },
   "source": [
    "## Parallelism and QR"
   ]
  },
  {
   "cell_type": "markdown",
   "metadata": {
    "slideshow": {
     "slide_type": "subslide"
    }
   },
   "source": [
    "### A summary comparison of algorithms\n",
    "\n",
    "| algorithm | acts on | stability | behavior | cost |\n",
    "| :-: | :-: | :-: | :-: | :-: |\n",
    "| classical Gram-Schmidt | $$Q$$ | ❌ | left-looking | $$\\sim 2mn^2$$ |\n",
    "| modified Gram-Schmidt | $$Q$$ | ⚠️ | right-looking | $$\\sim 2mn^2$$ |\n",
    "| Householder QR | $$R$$ | ✅ | down-looking | $$\\sim 2mn^2 - \\textstyle{\\frac{2}{3}}n^3$$ |"
   ]
  },
  {
   "cell_type": "markdown",
   "metadata": {
    "slideshow": {
     "slide_type": "subslide"
    }
   },
   "source": [
    "### The missing column(s)?\n",
    "\n",
    "| algorithm | acts on | stability | behavior | cost | **_parallelism_** |\n",
    "| :-: | :-: | :-: | :-: | :-: | :-: |\n",
    "| classical Gram-Schmidt | $$Q$$ | ❌ | left-looking | $$\\sim 2mn^2$$ | **?** |\n",
    "| modified Gram-Schmidt | $$Q$$ | ⚠️ | right-looking | $$\\sim 2mn^2$$ | **?** |\n",
    "| Householder QR | $$R$$ | ✅ | down-looking | $$\\sim 2mn^2 - \\textstyle{\\frac{2}{3}}n^3$$ | **?** |"
   ]
  },
  {
   "cell_type": "markdown",
   "metadata": {
    "slideshow": {
     "slide_type": "subslide"
    }
   },
   "source": [
    "### The importance of parallelism\n",
    "\n",
    "- Most of the performance of modern computers is tied up in their ability to do multiple things **in parallel**\n",
    "- The work (flops) is sometimes overshadowed by the cost of **moving data (communicating)** between the parallel parts of the machine"
   ]
  },
  {
   "cell_type": "markdown",
   "metadata": {
    "slideshow": {
     "slide_type": "subslide"
    }
   },
   "source": [
    "### Concurrency\n",
    "\n",
    "- Roughly speaking, the **concurrency** of an algorithm is how much it exploits the paralleism of a computer:\n",
    "\n",
    "  - High concurrency $\\Rightarrow$ adding parallelism will make the implementation faster\n",
    "  \n",
    "  - Low concurrency $\\Rightarrow$ adding parallelism does not speed up the calculation"
   ]
  },
  {
   "cell_type": "markdown",
   "metadata": {
    "cell_style": "split",
    "slideshow": {
     "slide_type": "subslide"
    }
   },
   "source": [
    "### A simple model of parallelism for today: factoring lots of distributed data"
   ]
  },
  {
   "cell_type": "markdown",
   "metadata": {
    "cell_style": "split",
    "slideshow": {
     "slide_type": "-"
    }
   },
   "source": [
    "$$\n",
    "\\begin{aligned}\n",
    "&\\begin{bmatrix} \\hline\n",
    "\\\\\n",
    "A_1 \\\\\n",
    "\\\\ \\hline\n",
    "\\end{bmatrix}\n",
    "&&\\begin{bmatrix} \\hline\n",
    "\\\\\n",
    "Q_1 \\\\\n",
    "\\\\ \\hline\n",
    "\\end{bmatrix}\n",
    "\\begin{bmatrix}\\hline \\strut R \\\\ \\hline\n",
    "\\end{bmatrix}\n",
    "\\\\\n",
    "&\\begin{bmatrix} \\hline\n",
    "\\\\\n",
    "A_2 \\\\\n",
    "\\\\ \\hline\n",
    "\\end{bmatrix}\n",
    "&&\\begin{bmatrix} \\hline\n",
    "\\\\\n",
    "Q_2 \\\\\n",
    "\\\\ \\hline\n",
    "\\end{bmatrix}\n",
    "\\begin{bmatrix}\\hline \\strut R \\\\ \\hline\n",
    "\\end{bmatrix}\\\\\n",
    "&\\quad \\vdots \\quad \\quad \\quad=& &\\quad \\vdots\\\\\n",
    "&\\begin{bmatrix} \\hline\n",
    "\\\\\n",
    "A_p \\\\\n",
    "\\\\ \\hline\n",
    "\\end{bmatrix}\n",
    "&&\\begin{bmatrix} \\hline\n",
    "\\\\\n",
    "Q_p \\\\\n",
    "\\\\ \\hline\n",
    "\\end{bmatrix}\n",
    "\\begin{bmatrix}\\hline \\strut R \\\\ \\hline\n",
    "\\end{bmatrix}\n",
    "\\end{aligned}\n",
    "$$"
   ]
  },
  {
   "cell_type": "markdown",
   "metadata": {
    "cell_style": "split"
   },
   "source": [
    "- $m \\gg n$, so each _processor_ has a portion of each column of $A$ and $Q$\n",
    "\n",
    "- Copies of $R$ are small and can be duplicated for each processor\n",
    "\n",
    "- We want to count **rounds of communication**: one round of communication for each matrix matrix product $A B$ where _both_ $A$ and $B$ have an $m$ dimension:\n",
    "\n",
    "  - $Q \\cdot R$, $Q \\in \\mathbb{C}^{m\\times n}$, $R \\in \\mathbb{C}^{n\\times n}$: 0 rounds\n",
    "  \n",
    "  - $Q^* Q$, $Q \\in \\mathbb{C}^{m \\times n}$: 1 round\n",
    "  \n",
    "  - $Q y$, $Q \\in \\mathbb{C}^{m \\times n}$, $y \\in \\mathbb{C}^n$: 0 rounds\n",
    "  - $v^*w$, $v, w \\in \\mathbb{C}^m$: 1 round"
   ]
  },
  {
   "cell_type": "markdown",
   "metadata": {
    "slideshow": {
     "slide_type": "subslide"
    }
   },
   "source": [
    "### Rounds of communication in CGS / MGS?"
   ]
  },
  {
   "cell_type": "code",
   "execution_count": 5,
   "metadata": {
    "cell_style": "split"
   },
   "outputs": [],
   "source": [
    "function cgs(A)\n",
    "    m, n = size(A); Q = copy(A); R = zeros(n, n);\n",
    "    for j = 1:n\n",
    "        R[1:j-1,j] = Q[:,1:j-1]' * Q[:,j] # 1\n",
    "        Q[:,j] -= Q[:,1:j-1] * R[1:j-1,j] # 0\n",
    "        R[j,j] = norm(Q[:,j])             # 1\n",
    "        Q[:,j] /= R[j,j]                  # 0\n",
    "    end\n",
    "    return Q, R\n",
    "end;"
   ]
  },
  {
   "cell_type": "code",
   "execution_count": 6,
   "metadata": {
    "cell_style": "split"
   },
   "outputs": [],
   "source": [
    "function mgs(A)\n",
    "    m, n = size(A); Q = copy(A); R = zeros(n, n);\n",
    "    for i = 1:n\n",
    "        R[i,i] = norm(Q[:,i])             # 1\n",
    "        Q[:,i] /= R[i,i]                  # 0\n",
    "        R[i,i+1:n] = Q[:,i]' * Q[:,i+1:n] # 1\n",
    "        Q[:,j] -= Q[:,[i]] * R[[i],i+1:n] # 0\n",
    "    end\n",
    "    return Q, R\n",
    "end;"
   ]
  },
  {
   "cell_type": "markdown",
   "metadata": {},
   "source": [
    "- Each of classical and modified Gram-Schmidt has two round of communication per iteration\n",
    "\n",
    "$$\\Rightarrow 2n \\text{ rounds of communication}$$"
   ]
  },
  {
   "cell_type": "markdown",
   "metadata": {
    "slideshow": {
     "slide_type": "subslide"
    }
   },
   "source": [
    "### Rounds of communication in Householder?\n",
    "\n",
    "(products subvectors of $m$-vectors will incur a round of communication, even if the length is $m - (i-1) < m$."
   ]
  },
  {
   "cell_type": "code",
   "execution_count": 7,
   "metadata": {
    "cell_style": "split"
   },
   "outputs": [],
   "source": [
    "function householder_vector(x)\n",
    "    u = copy(x)\n",
    "    xnorm_tail = norm(x[2:end])           # 1 (broadcast x[1] in the same communication)\n",
    "    xnorm = (xnorm_tail^2 + conj(u[1])*u[1])^(1/2) # 0\n",
    "    phi = sign(u[1])                      # 0\n",
    "    u[1] += phi * xnorm                   # 0\n",
    "    unorm = (xnorm_tail^2 + u[1]^2)^(1/2) # 0\n",
    "    u /= unorm                            # 0\n",
    "    return u\n",
    "end;"
   ]
  },
  {
   "cell_type": "code",
   "execution_count": 8,
   "metadata": {
    "cell_style": "split"
   },
   "outputs": [
    {
     "data": {
      "text/plain": [
       "householder_reflect (generic function with 1 method)"
      ]
     },
     "execution_count": 8,
     "metadata": {},
     "output_type": "execute_result"
    }
   ],
   "source": [
    "function householder_reflect(u,v)\n",
    "    return v - 2*u*(u'*v) # 1\n",
    "end"
   ]
  },
  {
   "cell_type": "code",
   "execution_count": 9,
   "metadata": {
    "cell_style": "split"
   },
   "outputs": [
    {
     "data": {
      "text/plain": [
       "householder_reflect_left (generic function with 1 method)"
      ]
     },
     "execution_count": 9,
     "metadata": {},
     "output_type": "execute_result"
    }
   ],
   "source": [
    "function householder_reflect_left(vstar,u)\n",
    "    return vstar - 2*(vstar*u)*u' # 1\n",
    "end"
   ]
  },
  {
   "cell_type": "code",
   "execution_count": 10,
   "metadata": {},
   "outputs": [
    {
     "data": {
      "text/plain": [
       "householder_qr (generic function with 1 method)"
      ]
     },
     "execution_count": 10,
     "metadata": {},
     "output_type": "execute_result"
    }
   ],
   "source": [
    "function householder_qr(A)\n",
    "    m, n = size(A)\n",
    "    U = zeros(eltype(A), m, n)\n",
    "    R = copy(A)\n",
    "    for i = 1:n\n",
    "        U[i:m,i] = householder_vector(R[i:m,i])                # 1\n",
    "        R[i:m,i:n] = householder_reflect(U[i:m,i], R[i:m,i:n]) # 1\n",
    "        R[i+1:m,i] .= 0\n",
    "    end\n",
    "    return U, R\n",
    "end"
   ]
  },
  {
   "cell_type": "markdown",
   "metadata": {},
   "source": [
    "$$\\Rightarrow 2n \\text{ rounds of communication}$$"
   ]
  },
  {
   "cell_type": "markdown",
   "metadata": {
    "slideshow": {
     "slide_type": "subslide"
    }
   },
   "source": [
    "| algorithm | acts on | stability | behavior | cost | comm. rounds |\n",
    "| :-: | :-: | :-: | :-: | :-: | :-: |\n",
    "| classical Gram-Schmidt | $$Q$$ | ❌ | left-looking | $$\\sim 2mn^2$$ | $$2n$$ |\n",
    "| modified Gram-Schmidt | $$Q$$ | ⚠️ | right-looking | $$\\sim 2mn^2$$ | $$2n$$ |\n",
    "| Householder QR | $$R$$ | ✅ | down-looking | $$\\sim 2mn^2 - \\textstyle{\\frac{2}{3}}n^3$$ | $$2n$$ |"
   ]
  },
  {
   "cell_type": "markdown",
   "metadata": {
    "slideshow": {
     "slide_type": "subslide"
    }
   },
   "source": [
    "### Online variant\n",
    "\n",
    "How much communication is required if a new vector $v$ must be orthogonalized after the others have already been orthogonalized?"
   ]
  },
  {
   "cell_type": "markdown",
   "metadata": {
    "cell_style": "split",
    "slideshow": {
     "slide_type": "-"
    }
   },
   "source": [
    "$$\n",
    "\\begin{aligned}\n",
    "&\\begin{bmatrix} \\hline\n",
    "& & \\\\\n",
    "& Q_1 & \\\\\n",
    "\\\\ \\hline\n",
    "\\end{bmatrix}\n",
    "\\begin{bmatrix}\\hline \\strut R \\\\ \\hline\n",
    "\\end{bmatrix},\n",
    "\\begin{bmatrix} \\hline\n",
    "\\\\\n",
    "v_{1}\\\\\n",
    "\\\\ \\hline\n",
    "\\end{bmatrix}\n",
    "\\\\\n",
    "&\\begin{bmatrix} \\hline\n",
    "& & \\\\\n",
    "& Q_2 & \\\\\n",
    "& & \\\\ \\hline\n",
    "\\end{bmatrix}\n",
    "\\begin{bmatrix}\\hline \\strut R \\\\ \\hline\n",
    "\\end{bmatrix},\\begin{bmatrix} \\hline\n",
    "\\\\\n",
    "v_{2}\\\\\n",
    "\\\\ \\hline\n",
    "\\end{bmatrix}\\\\\n",
    "&\\quad \\vdots\\\\\n",
    "&\\begin{bmatrix} \\hline\n",
    "& & \\\\\n",
    "& Q_p &  \\\\\n",
    "& & \\\\ \\hline\n",
    "\\end{bmatrix}\n",
    "\\begin{bmatrix}\\hline \\strut R \\\\ \\hline\n",
    "\\end{bmatrix},\\begin{bmatrix} \\hline\n",
    "\\\\\n",
    "v_{p}\\\\\n",
    "\\\\ \\hline\n",
    "\\end{bmatrix}\n",
    "\\end{aligned}\n",
    "$$"
   ]
  },
  {
   "cell_type": "markdown",
   "metadata": {
    "cell_style": "split",
    "slideshow": {
     "slide_type": "-"
    }
   },
   "source": [
    "$$\n",
    "\\begin{aligned}\n",
    "&\\left[\\begin{array}{ccc|c} \\hline\n",
    "& & & \\\\\n",
    "& Q_1 & & q_1 \\\\\n",
    "& & & \\\\ \\hline\n",
    "\\end{array}\n",
    "\\right]\n",
    "\\begin{bmatrix}\\hline \\strut \\tilde{R} \\\\ \\hline\n",
    "\\end{bmatrix}\n",
    "\\\\\n",
    "&\\left[\\begin{array}{ccc|c} \\hline\n",
    "& & & \\\\\n",
    "& Q_p & & q_p \\\\\n",
    "& & & \\\\ \\hline\n",
    "\\end{array}\n",
    "\\right]\n",
    "\\begin{bmatrix}\\hline \\strut \\tilde{R} \\\\ \\hline\n",
    "\\end{bmatrix}\\\\\n",
    "&\\quad \\vdots\\\\\n",
    "&\\left[\\begin{array}{ccc|c} \\hline\n",
    "& & & \\\\\n",
    "& Q_p & & q_p \\\\\n",
    "& & & \\\\ \\hline\n",
    "\\end{array}\n",
    "\\right]\n",
    "\\begin{bmatrix}\\hline \\strut \\tilde{R} \\\\ \\hline\n",
    "\\end{bmatrix}\n",
    "\\end{aligned}\n",
    "$$"
   ]
  },
  {
   "cell_type": "markdown",
   "metadata": {
    "slideshow": {
     "slide_type": "subslide"
    }
   },
   "source": [
    "### Classical Gram-Schmidt vs. Modified Gram-Schmidt, online communication"
   ]
  },
  {
   "cell_type": "code",
   "execution_count": 11,
   "metadata": {
    "cell_style": "split"
   },
   "outputs": [
    {
     "data": {
      "text/plain": [
       "cgs_new_vec! (generic function with 1 method)"
      ]
     },
     "execution_count": 11,
     "metadata": {},
     "output_type": "execute_result"
    }
   ],
   "source": [
    "function cgs_new_vec!(Q,R,v)\n",
    "    # store the orthogonalization of v as the last\n",
    "    # columns of Q and R\n",
    "    R[1:end-1,end] = Q[:,1:end-1]' * v           # 1\n",
    "    Q[:,end] = v - Q[:,1:end-1] * R[1:end-1,end] # 0\n",
    "    R[end,end] = norm(Q[:,end])                  # 1\n",
    "    Q[:,end] /= R[end,end]                       # 0\n",
    "end"
   ]
  },
  {
   "cell_type": "code",
   "execution_count": 12,
   "metadata": {
    "cell_style": "split"
   },
   "outputs": [
    {
     "data": {
      "text/plain": [
       "mgs_new_vec! (generic function with 1 method)"
      ]
     },
     "execution_count": 12,
     "metadata": {},
     "output_type": "execute_result"
    }
   ],
   "source": [
    "function mgs_new_vec!(Q,R,v)\n",
    "    # store the orthogonalization of v as the last\n",
    "    # columns of Q and R\n",
    "    Q[:,end] = v\n",
    "    for i = 1:size(Q)[2]-1\n",
    "        R[i,end] = Q[:,i]' * Q[:,end] # 1\n",
    "        Q[:,end] -= Q[:,i] * R[i,end] # 0\n",
    "    end\n",
    "    R[end,end] = norm(Q[:,end]) # 1\n",
    "    Q[:,end] /= R[end,end]      # 0\n",
    "end"
   ]
  },
  {
   "cell_type": "markdown",
   "metadata": {},
   "source": [
    "- Classical Gram-Schmidt: 2 rounds of communication for column $k$ $\\Rightarrow$ $2n$ total"
   ]
  },
  {
   "cell_type": "markdown",
   "metadata": {},
   "source": [
    "- Modified Gram-Schmidt: $k$ rounds of communication for column $k$ $\\Rightarrow$ $(1/2)n^2$ total"
   ]
  },
  {
   "cell_type": "markdown",
   "metadata": {
    "slideshow": {
     "slide_type": "fragment"
    }
   },
   "source": [
    "- Householder QR: $k$ rounds of communication for column $k$  $\\Rightarrow$ $(1/2)n^2$ total"
   ]
  },
  {
   "cell_type": "markdown",
   "metadata": {
    "slideshow": {
     "slide_type": "subslide"
    }
   },
   "source": [
    "| algorithm | acts on | stability | behavior | cost | static comm. rounds | online comm. rounds |\n",
    "| :-: | :-: | :-: | :-: | :-: | :-: | :-: |\n",
    "| classical Gram-Schmidt | $$Q$$ | ❌ | left-looking | $$\\sim 2mn^2$$ | $$2n$$ | $$2n$$ |\n",
    "| modified Gram-Schmidt | $$Q$$ | ⚠️ | right-looking | $$\\sim 2mn^2$$ | $$2n$$ | $$\\sim\\textstyle\\frac{1}{2}n^2$$ |\n",
    "| Householder QR | $$R$$ | ✅ | down-looking | $$\\sim 2mn^2 - \\textstyle{\\frac{2}{3}}n^3$$ | $$2n$$ | $$\\sim\\textstyle\\frac{1}{2}n^2$$ |\n",
    "\n",
    "- Classical Gram-Schmidt is widely used in online parallel orthogonalization.  It's stability deficiencies can be overcome using the same idea as HW2, Problem 8."
   ]
  },
  {
   "cell_type": "markdown",
   "metadata": {
    "slideshow": {
     "slide_type": "subslide"
    }
   },
   "source": [
    "### Tall Skinny QR <https://arxiv.org/abs/0806.2159>\n",
    "\n",
    "Consider just 2 processors:\n",
    "\n",
    "1. Each processor does a QR factorization on its portion of the columns of $A$:\n",
    "\n",
    "   $$\\begin{aligned}\n",
    "   A_1 &= \\tilde{Q}_1 \\hat{R}_1, \\\\\n",
    "   A_2 &= \\tilde{Q}_2 \\hat{R}_2. \\\\\n",
    "   \\end{aligned}$$\n",
    "   \n",
    "   These separate equations can be restated as one matrix equation,\n",
    "   \n",
    "   $$\n",
    "   A = \\begin{bmatrix} A_1 \\\\ \\hline A_2 \\end{bmatrix} = \n",
    "   \\underbrace{\\left[\\begin{array}{c|c} \\tilde{Q}_1 & \\\\ \\hline & \\tilde{Q}_2 \\end{array}\\right]}_{\\text{orthonormal columns}} \\begin{bmatrix} \\hat{R}_1 \\\\ \\hline \\hat{R}_2 \\end{bmatrix}.\n",
    "   $$\n",
    "   "
   ]
  },
  {
   "cell_type": "markdown",
   "metadata": {
    "slideshow": {
     "slide_type": "subslide"
    }
   },
   "source": [
    "2. The processors exchange $\\hat{R}_1$ and $\\hat{R}_2$ with each other (1 round of communiciation) and each does a duplicate QR factorization of the vertical stack:\n",
    "\n",
    "   $$\\begin{bmatrix} \\hat{R}_1 \\\\ \\hline \\hat{R}_2 \\end{bmatrix} = \\tilde{U} \\hat{R} = \n",
    "   \\begin{bmatrix} \\tilde{U}_1  \\\\ \\hline \\tilde{U}_2 \\end{bmatrix} \\hat{R}$$\n",
    "   \n",
    "3. Each process can form its portion of the columns of $\\hat{Q}$:\n",
    "\n",
    "   $$A = \\begin{bmatrix} A_1 \\\\ \\hline A_2 \\end{bmatrix} = \\left[\\begin{array}{c|c} \\tilde{Q}_1 & \\\\ \\hline & \\tilde{Q}_2 \\end{array}\\right] \\begin{bmatrix} \\hat{R}_1 \\\\ \\hline \\hat{R}_2 \\end{bmatrix} =\n",
    "   \\left[\\begin{array}{c|c} \\tilde{Q}_1 & \\\\ \\hline & \\tilde{Q}_2 \\end{array}\\right]\\begin{bmatrix} \\tilde{U}_1  \\\\ \\hline \\tilde{U}_2 \\end{bmatrix} \\hat{R} =\n",
    "   \\begin{bmatrix} \\tilde{Q}_1\\tilde{U}_1  \\\\ \\hline \\tilde{Q}_2 \\tilde{U}_2 \\end{bmatrix} \\hat{R}.$$"
   ]
  },
  {
   "cell_type": "markdown",
   "metadata": {
    "slideshow": {
     "slide_type": "subslide"
    }
   },
   "source": [
    "### Tall Skinny QR is recursive\n",
    "\n",
    "We can generalize this idea to halve the number of processes in each iteration for a total of\n",
    "\n",
    "$$\\log p\\text{ round of communication}$$"
   ]
  },
  {
   "cell_type": "markdown",
   "metadata": {
    "slideshow": {
     "slide_type": "subslide"
    }
   },
   "source": [
    "| algorithm | acts on | stability | behavior | cost | static comm. rounds | online comm. rounds |\n",
    "| :-: | :-: | :-: | :-: | :-: | :-: | :-: |\n",
    "| classical Gram-Schmidt | $$Q$$ | ❌ | left-looking | $$\\sim 2mn^2$$ | $$2n$$ | $$2n$$ |\n",
    "| modified Gram-Schmidt | $$Q$$ | ⚠️ | right-looking | $$\\sim 2mn^2$$ | $$2n$$ | $$\\sim\\textstyle\\frac{1}{2}n^2$$ |\n",
    "| Householder QR | $$R$$ | ✅ | down-looking | $$\\sim 2mn^2 - \\textstyle{\\frac{2}{3}}n^3$$ | $$2n$$ | $$\\sim\\textstyle\\frac{1}{2}n^2$$ |\n",
    "| Tall Skinny QR (TSQR) | $$R$$ | ✅ | recursive | $$\\sim 2mn^2 + \\textstyle{\\frac{2}{3}}n^3 p \\log p$$ | $$\\log p$$ | $$-$$ |\n",
    "| Cholesky QR | $$A^*A$$ | ❌ | Cholesky | $$\\sim 2mn^2 + \\textstyle{\\frac{1}{3}}n^3p$$ | $$1$$ | $$n$$ |"
   ]
  },
  {
   "cell_type": "markdown",
   "metadata": {},
   "source": [
    "- There are tradeoffs in stability, work, and parallelism: different situations call for different QRs"
   ]
  },
  {
   "cell_type": "markdown",
   "metadata": {
    "slideshow": {
     "slide_type": "slide"
    }
   },
   "source": [
    "## Least Squares Problems"
   ]
  },
  {
   "cell_type": "markdown",
   "metadata": {
    "slideshow": {
     "slide_type": "subslide"
    }
   },
   "source": [
    "### The problem\n",
    "\n",
    "The linear problem\n",
    "\n",
    "$$A x= b, \\quad x\\in \\mathbb{C}^n, b \\in \\mathbb{C}^m, m > n,$$\n",
    "\n",
    "is _overdetermined:_ in the general case ($b \\not \\in \\mathrm{range}(A)$), there is no solution."
   ]
  },
  {
   "cell_type": "markdown",
   "metadata": {
    "slideshow": {
     "slide_type": "subslide"
    }
   },
   "source": [
    "### The residual\n",
    "\n",
    "Restated: for a particular $x$, the _residual_ vector, \n",
    "\n",
    "$$r = b - A x \\in \\mathbb{C}^m,$$\n",
    "\n",
    "is not zero if $b \\not \\in \\mathrm{range}(A)$."
   ]
  },
  {
   "cell_type": "markdown",
   "metadata": {
    "slideshow": {
     "slide_type": "subslide"
    }
   },
   "source": [
    "### Residual visualized"
   ]
  },
  {
   "cell_type": "code",
   "execution_count": 25,
   "metadata": {
    "hideCode": true,
    "slideshow": {
     "slide_type": "-"
    }
   },
   "outputs": [
    {
     "data": {
      "application/vnd.plotly.v1+json": {
       "data": [
        {
         "colorbar": {
          "title": ""
         },
         "hoverinfo": "text",
         "legendgroup": "b",
         "line": {
          "color": "rgba(0, 154, 250, 1.000)",
          "dash": "solid",
          "shape": "linear",
          "width": 5
         },
         "marker": {
          "color": "rgba(0, 154, 250, 1.000)",
          "line": {
           "color": "rgba(0, 0, 0, 1.000)",
           "width": 1
          },
          "size": 8,
          "symbol": "octagon"
         },
         "mode": "lines+markers",
         "name": "b",
         "scene": "scene",
         "showlegend": true,
         "text": [
          "b:<br>+1.62<br>+1.36<br>-1.48"
         ],
         "type": "scatter3d",
         "x": [
          1.619498449169771
         ],
         "xaxis": "x",
         "y": [
          1.3614830970225151
         ],
         "yaxis": "y",
         "z": [
          -1.4807768387898466
         ],
         "zaxis": "z",
         "zmax": null,
         "zmin": null
        },
        {
         "colorbar": {
          "title": ""
         },
         "hoverinfo": "text",
         "legendgroup": "Ax",
         "line": {
          "color": "rgba(227, 111, 71, 1.000)",
          "dash": "solid",
          "shape": "linear",
          "width": 5
         },
         "marker": {
          "color": "rgba(227, 111, 71, 1.000)",
          "line": {
           "color": "rgba(0, 0, 0, 1.000)",
           "width": 1
          },
          "size": 8,
          "symbol": "square"
         },
         "mode": "lines+markers",
         "name": "Ax",
         "scene": "scene",
         "showlegend": true,
         "text": [
          "x:<br>-1.13<br>+0.81<br>Ax:<br>-0.27<br>-0.53<br>-1.37"
         ],
         "type": "scatter3d",
         "x": [
          -0.2709220991408662
         ],
         "xaxis": "x",
         "y": [
          -0.5274584670380926
         ],
         "yaxis": "y",
         "z": [
          -1.3711872446626079
         ],
         "zaxis": "z",
         "zmax": null,
         "zmin": null
        },
        {
         "colorbar": {
          "title": ""
         },
         "hoverinfo": "text",
         "legendgroup": "r = b - Ax",
         "line": {
          "color": "rgba(62, 164, 78, 1.000)",
          "dash": "solid",
          "shape": "linear",
          "width": 5
         },
         "mode": "lines",
         "name": "r = b - Ax",
         "scene": "scene",
         "showlegend": true,
         "text": [
          "r:<br>+1.89<br>+1.89<br>-0.11",
          "r:<br>+1.89<br>+1.89<br>-0.11"
         ],
         "type": "scatter3d",
         "x": [
          -0.2709220991408662,
          1.619498449169771
         ],
         "xaxis": "x",
         "y": [
          -0.5274584670380926,
          1.3614830970225151
         ],
         "yaxis": "y",
         "z": [
          -1.3711872446626079,
          -1.4807768387898466
         ],
         "zaxis": "z",
         "zmax": null,
         "zmin": null
        },
        {
         "color": "rgba(195, 113, 210, 0.500)",
         "colorbar": {
          "title": ""
         },
         "colorscale": [
          [
           0,
           "rgba(195, 113, 210, 0.500)"
          ],
          [
           1,
           "rgba(195, 113, 210, 0.500)"
          ]
         ],
         "hoverinfo": "none",
         "name": "range(A)",
         "opacity": 0.5,
         "scene": "scene",
         "showlegend": true,
         "showscale": false,
         "type": "mesh3d",
         "x": [
          0.28473946811618384,
          -1.7814482940867478,
          1.7814482940867482,
          -1.7814482940867478,
          1.7814482940867482,
          -0.2847394681161888
         ],
         "xaxis": "x",
         "y": [
          -1.781448294086749,
          1.77567870501246,
          -1.781448294086749,
          1.7814482940867473,
          -1.7756787050124712,
          1.7814482940867475
         ],
         "yaxis": "y",
         "z": [
          -1.781448294086749,
          -1.7814482940867493,
          1.7734883532005694,
          -1.7734883532005572,
          1.781448294086749,
          1.7814482940867482
         ],
         "zaxis": "z",
         "zmax": null,
         "zmin": null
        },
        {
         "colorbar": {
          "title": ""
         },
         "hoverinfo": "text",
         "legendgroup": "a₁",
         "line": {
          "color": "rgba(172, 142, 24, 1.000)",
          "dash": "solid",
          "shape": "linear",
          "width": 5
         },
         "mode": "lines",
         "name": "a₁",
         "scene": "scene",
         "showlegend": true,
         "text": [
          "a₁:<br>-0.10<br>+0.71<br>+0.75",
          "a₁:<br>-0.10<br>+0.71<br>+0.75"
         ],
         "type": "scatter3d",
         "x": [
          0.23998269886993132,
          -0.23998269886993132
         ],
         "xaxis": "x",
         "y": [
          -1.7043955135066495,
          1.7043955135066495
         ],
         "yaxis": "y",
         "z": [
          -1.781448294086748,
          1.781448294086748
         ],
         "zaxis": "z",
         "zmax": null,
         "zmin": null
        },
        {
         "colorbar": {
          "title": ""
         },
         "hoverinfo": "text",
         "legendgroup": "a₂",
         "line": {
          "color": "rgba(0, 170, 174, 1.000)",
          "dash": "solid",
          "shape": "linear",
          "width": 5
         },
         "mode": "lines",
         "name": "a₂",
         "scene": "scene",
         "showlegend": true,
         "text": [
          "a₂:<br>-0.48<br>+0.35<br>-0.65",
          "a₂:<br>-0.48<br>+0.35<br>-0.65"
         ],
         "type": "scatter3d",
         "x": [
          1.3088861759474957,
          -1.3088861759474957
         ],
         "xaxis": "x",
         "y": [
          -0.9621207603112389,
          0.9621207603112389
         ],
         "yaxis": "y",
         "z": [
          1.781448294086748,
          -1.781448294086748
         ],
         "zaxis": "z",
         "zmax": null,
         "zmin": null
        }
       ],
       "layout": {
        "annotations": [],
        "height": 1000,
        "legend_position": {
         "bgcolor": "rgba(255, 255, 255, 1.000)",
         "bordercolor": "rgba(0, 0, 0, 1.000)",
         "borderwidth": 1,
         "font": {
          "color": "rgba(0, 0, 0, 1.000)",
          "family": "sans-serif",
          "size": 11
         },
         "title": {
          "font": {
           "color": "rgba(0, 0, 0, 1.000)",
           "family": "sans-serif",
           "size": 15
          },
          "text": ""
         },
         "tracegroupgap": 0,
         "traceorder": "normal",
         "x": 1,
         "xanchor": "auto",
         "y": 1,
         "yanchor": "auto"
        },
        "margin": {
         "b": 20,
         "l": 0,
         "r": 0,
         "t": 20
        },
        "paper_bgcolor": "rgba(255, 255, 255, 1.000)",
        "plot_bgcolor": "rgba(255, 255, 255, 1.000)",
        "scene": {
         "camera": {
          "eye": {
           "x": 1.12583302491977,
           "y": -1.9499999999999997,
           "z": 1.3
          }
         },
         "domain": {
          "x": [
           0.039492563429571304,
           0.9960629921259843
          ],
          "y": [
           0.015048118985126861,
           0.9960629921259841
          ]
         },
         "xaxis": {
          "gridcolor": "rgba(0, 0, 0, 0.100)",
          "gridwidth": 0.5,
          "linecolor": "rgba(0, 0, 0, 1.000)",
          "mirror": false,
          "range": [
           -1.7814482940867482,
           1.7814482940867482
          ],
          "showgrid": true,
          "showline": true,
          "showticklabels": true,
          "tickangle": 0,
          "tickcolor": "rgb(0, 0, 0)",
          "tickfont": {
           "color": "rgba(0, 0, 0, 1.000)",
           "family": "sans-serif",
           "size": 11
          },
          "tickmode": "array",
          "ticks": "inside",
          "ticktext": [
           "-1.5",
           "-1.0",
           "-0.5",
           "0.0",
           "0.5",
           "1.0",
           "1.5"
          ],
          "tickvals": [
           -1.5,
           -1,
           -0.5,
           0,
           0.5,
           1,
           1.5
          ],
          "title": "",
          "titlefont": {
           "color": "rgba(0, 0, 0, 1.000)",
           "family": "sans-serif",
           "size": 15
          },
          "type": "-",
          "visible": true,
          "zeroline": false,
          "zerolinecolor": "rgba(0, 0, 0, 1.000)"
         },
         "yaxis": {
          "gridcolor": "rgba(0, 0, 0, 0.100)",
          "gridwidth": 0.5,
          "linecolor": "rgba(0, 0, 0, 1.000)",
          "mirror": false,
          "range": [
           -1.7814482940867482,
           1.7814482940867482
          ],
          "showgrid": true,
          "showline": true,
          "showticklabels": true,
          "tickangle": 0,
          "tickcolor": "rgb(0, 0, 0)",
          "tickfont": {
           "color": "rgba(0, 0, 0, 1.000)",
           "family": "sans-serif",
           "size": 11
          },
          "tickmode": "array",
          "ticks": "inside",
          "ticktext": [
           "-1.5",
           "-1.0",
           "-0.5",
           "0.0",
           "0.5",
           "1.0",
           "1.5"
          ],
          "tickvals": [
           -1.5,
           -1,
           -0.5,
           0,
           0.5,
           1,
           1.5
          ],
          "title": "",
          "titlefont": {
           "color": "rgba(0, 0, 0, 1.000)",
           "family": "sans-serif",
           "size": 15
          },
          "type": "-",
          "visible": true,
          "zeroline": false,
          "zerolinecolor": "rgba(0, 0, 0, 1.000)"
         },
         "zaxis": {
          "gridcolor": "rgba(0, 0, 0, 0.100)",
          "gridwidth": 0.5,
          "linecolor": "rgba(0, 0, 0, 1.000)",
          "mirror": false,
          "range": [
           -1.7814482940867482,
           1.7814482940867482
          ],
          "showgrid": true,
          "showline": true,
          "showticklabels": true,
          "tickangle": 0,
          "tickcolor": "rgb(0, 0, 0)",
          "tickfont": {
           "color": "rgba(0, 0, 0, 1.000)",
           "family": "sans-serif",
           "size": 11
          },
          "tickmode": "array",
          "ticks": "inside",
          "ticktext": [
           "-1.5",
           "-1.0",
           "-0.5",
           "0.0",
           "0.5",
           "1.0",
           "1.5"
          ],
          "tickvals": [
           -1.5,
           -1,
           -0.5,
           0,
           0.5,
           1,
           1.5
          ],
          "title": "",
          "titlefont": {
           "color": "rgba(0, 0, 0, 1.000)",
           "family": "sans-serif",
           "size": 15
          },
          "type": "-",
          "visible": true,
          "zeroline": false,
          "zerolinecolor": "rgba(0, 0, 0, 1.000)"
         }
        },
        "showlegend": true,
        "width": 1000
       }
      },
      "text/html": [
       "    <div id=\"0dc0b30d-bcb9-49ed-af6a-3168aa70bb2c\" style=\"width:1000px;height:1000px;\"></div>\n",
       "    <script>\n",
       "        requirejs.config({\n",
       "        paths: {\n",
       "            Plotly: 'https://cdn.plot.ly/plotly-2.6.3.min'\n",
       "        }\n",
       "    });\n",
       "    require(['Plotly'], function (Plotly) {\n",
       "\n",
       "        Plotly.newPlot('0dc0b30d-bcb9-49ed-af6a-3168aa70bb2c', [\n",
       "    {\n",
       "        \"xaxis\": \"x\",\n",
       "        \"colorbar\": {\n",
       "            \"title\": \"\"\n",
       "        },\n",
       "        \"yaxis\": \"y\",\n",
       "        \"zaxis\": \"z\",\n",
       "        \"text\": [\n",
       "            \"b:<br>+1.62<br>+1.36<br>-1.48\"\n",
       "        ],\n",
       "        \"x\": [\n",
       "            1.619498449169771\n",
       "        ],\n",
       "        \"showlegend\": true,\n",
       "        \"mode\": \"lines+markers\",\n",
       "        \"name\": \"b\",\n",
       "        \"zmin\": null,\n",
       "        \"legendgroup\": \"b\",\n",
       "        \"z\": [\n",
       "            -1.4807768387898466\n",
       "        ],\n",
       "        \"marker\": {\n",
       "            \"symbol\": \"octagon\",\n",
       "            \"color\": \"rgba(0, 154, 250, 1.000)\",\n",
       "            \"line\": {\n",
       "                \"color\": \"rgba(0, 0, 0, 1.000)\",\n",
       "                \"width\": 1\n",
       "            },\n",
       "            \"size\": 8\n",
       "        },\n",
       "        \"zmax\": null,\n",
       "        \"line\": {\n",
       "            \"color\": \"rgba(0, 154, 250, 1.000)\",\n",
       "            \"shape\": \"linear\",\n",
       "            \"dash\": \"solid\",\n",
       "            \"width\": 5\n",
       "        },\n",
       "        \"y\": [\n",
       "            1.3614830970225151\n",
       "        ],\n",
       "        \"type\": \"scatter3d\",\n",
       "        \"scene\": \"scene\",\n",
       "        \"hoverinfo\": \"text\"\n",
       "    },\n",
       "    {\n",
       "        \"xaxis\": \"x\",\n",
       "        \"colorbar\": {\n",
       "            \"title\": \"\"\n",
       "        },\n",
       "        \"yaxis\": \"y\",\n",
       "        \"zaxis\": \"z\",\n",
       "        \"text\": [\n",
       "            \"x:<br>-1.13<br>+0.81<br>Ax:<br>-0.27<br>-0.53<br>-1.37\"\n",
       "        ],\n",
       "        \"x\": [\n",
       "            -0.2709220991408662\n",
       "        ],\n",
       "        \"showlegend\": true,\n",
       "        \"mode\": \"lines+markers\",\n",
       "        \"name\": \"Ax\",\n",
       "        \"zmin\": null,\n",
       "        \"legendgroup\": \"Ax\",\n",
       "        \"z\": [\n",
       "            -1.3711872446626079\n",
       "        ],\n",
       "        \"marker\": {\n",
       "            \"symbol\": \"square\",\n",
       "            \"color\": \"rgba(227, 111, 71, 1.000)\",\n",
       "            \"line\": {\n",
       "                \"color\": \"rgba(0, 0, 0, 1.000)\",\n",
       "                \"width\": 1\n",
       "            },\n",
       "            \"size\": 8\n",
       "        },\n",
       "        \"zmax\": null,\n",
       "        \"line\": {\n",
       "            \"color\": \"rgba(227, 111, 71, 1.000)\",\n",
       "            \"shape\": \"linear\",\n",
       "            \"dash\": \"solid\",\n",
       "            \"width\": 5\n",
       "        },\n",
       "        \"y\": [\n",
       "            -0.5274584670380926\n",
       "        ],\n",
       "        \"type\": \"scatter3d\",\n",
       "        \"scene\": \"scene\",\n",
       "        \"hoverinfo\": \"text\"\n",
       "    },\n",
       "    {\n",
       "        \"xaxis\": \"x\",\n",
       "        \"colorbar\": {\n",
       "            \"title\": \"\"\n",
       "        },\n",
       "        \"yaxis\": \"y\",\n",
       "        \"zaxis\": \"z\",\n",
       "        \"text\": [\n",
       "            \"r:<br>+1.89<br>+1.89<br>-0.11\",\n",
       "            \"r:<br>+1.89<br>+1.89<br>-0.11\"\n",
       "        ],\n",
       "        \"x\": [\n",
       "            -0.2709220991408662,\n",
       "            1.619498449169771\n",
       "        ],\n",
       "        \"showlegend\": true,\n",
       "        \"mode\": \"lines\",\n",
       "        \"name\": \"r = b - Ax\",\n",
       "        \"zmin\": null,\n",
       "        \"legendgroup\": \"r = b - Ax\",\n",
       "        \"z\": [\n",
       "            -1.3711872446626079,\n",
       "            -1.4807768387898466\n",
       "        ],\n",
       "        \"zmax\": null,\n",
       "        \"line\": {\n",
       "            \"color\": \"rgba(62, 164, 78, 1.000)\",\n",
       "            \"shape\": \"linear\",\n",
       "            \"dash\": \"solid\",\n",
       "            \"width\": 5\n",
       "        },\n",
       "        \"y\": [\n",
       "            -0.5274584670380926,\n",
       "            1.3614830970225151\n",
       "        ],\n",
       "        \"type\": \"scatter3d\",\n",
       "        \"scene\": \"scene\",\n",
       "        \"hoverinfo\": \"text\"\n",
       "    },\n",
       "    {\n",
       "        \"xaxis\": \"x\",\n",
       "        \"colorbar\": {\n",
       "            \"title\": \"\"\n",
       "        },\n",
       "        \"colorscale\": [\n",
       "            [\n",
       "                0.0,\n",
       "                \"rgba(195, 113, 210, 0.500)\"\n",
       "            ],\n",
       "            [\n",
       "                1.0,\n",
       "                \"rgba(195, 113, 210, 0.500)\"\n",
       "            ]\n",
       "        ],\n",
       "        \"yaxis\": \"y\",\n",
       "        \"zaxis\": \"z\",\n",
       "        \"showscale\": false,\n",
       "        \"x\": [\n",
       "            0.28473946811618384,\n",
       "            -1.7814482940867478,\n",
       "            1.7814482940867482,\n",
       "            -1.7814482940867478,\n",
       "            1.7814482940867482,\n",
       "            -0.2847394681161888\n",
       "        ],\n",
       "        \"showlegend\": true,\n",
       "        \"name\": \"range(A)\",\n",
       "        \"opacity\": 0.5,\n",
       "        \"zmin\": null,\n",
       "        \"z\": [\n",
       "            -1.781448294086749,\n",
       "            -1.7814482940867493,\n",
       "            1.7734883532005694,\n",
       "            -1.7734883532005572,\n",
       "            1.781448294086749,\n",
       "            1.7814482940867482\n",
       "        ],\n",
       "        \"zmax\": null,\n",
       "        \"color\": \"rgba(195, 113, 210, 0.500)\",\n",
       "        \"y\": [\n",
       "            -1.781448294086749,\n",
       "            1.77567870501246,\n",
       "            -1.781448294086749,\n",
       "            1.7814482940867473,\n",
       "            -1.7756787050124712,\n",
       "            1.7814482940867475\n",
       "        ],\n",
       "        \"type\": \"mesh3d\",\n",
       "        \"scene\": \"scene\",\n",
       "        \"hoverinfo\": \"none\"\n",
       "    },\n",
       "    {\n",
       "        \"xaxis\": \"x\",\n",
       "        \"colorbar\": {\n",
       "            \"title\": \"\"\n",
       "        },\n",
       "        \"yaxis\": \"y\",\n",
       "        \"zaxis\": \"z\",\n",
       "        \"text\": [\n",
       "            \"a₁:<br>-0.10<br>+0.71<br>+0.75\",\n",
       "            \"a₁:<br>-0.10<br>+0.71<br>+0.75\"\n",
       "        ],\n",
       "        \"x\": [\n",
       "            0.23998269886993132,\n",
       "            -0.23998269886993132\n",
       "        ],\n",
       "        \"showlegend\": true,\n",
       "        \"mode\": \"lines\",\n",
       "        \"name\": \"a₁\",\n",
       "        \"zmin\": null,\n",
       "        \"legendgroup\": \"a₁\",\n",
       "        \"z\": [\n",
       "            -1.781448294086748,\n",
       "            1.781448294086748\n",
       "        ],\n",
       "        \"zmax\": null,\n",
       "        \"line\": {\n",
       "            \"color\": \"rgba(172, 142, 24, 1.000)\",\n",
       "            \"shape\": \"linear\",\n",
       "            \"dash\": \"solid\",\n",
       "            \"width\": 5\n",
       "        },\n",
       "        \"y\": [\n",
       "            -1.7043955135066495,\n",
       "            1.7043955135066495\n",
       "        ],\n",
       "        \"type\": \"scatter3d\",\n",
       "        \"scene\": \"scene\",\n",
       "        \"hoverinfo\": \"text\"\n",
       "    },\n",
       "    {\n",
       "        \"xaxis\": \"x\",\n",
       "        \"colorbar\": {\n",
       "            \"title\": \"\"\n",
       "        },\n",
       "        \"yaxis\": \"y\",\n",
       "        \"zaxis\": \"z\",\n",
       "        \"text\": [\n",
       "            \"a₂:<br>-0.48<br>+0.35<br>-0.65\",\n",
       "            \"a₂:<br>-0.48<br>+0.35<br>-0.65\"\n",
       "        ],\n",
       "        \"x\": [\n",
       "            1.3088861759474957,\n",
       "            -1.3088861759474957\n",
       "        ],\n",
       "        \"showlegend\": true,\n",
       "        \"mode\": \"lines\",\n",
       "        \"name\": \"a₂\",\n",
       "        \"zmin\": null,\n",
       "        \"legendgroup\": \"a₂\",\n",
       "        \"z\": [\n",
       "            1.781448294086748,\n",
       "            -1.781448294086748\n",
       "        ],\n",
       "        \"zmax\": null,\n",
       "        \"line\": {\n",
       "            \"color\": \"rgba(0, 170, 174, 1.000)\",\n",
       "            \"shape\": \"linear\",\n",
       "            \"dash\": \"solid\",\n",
       "            \"width\": 5\n",
       "        },\n",
       "        \"y\": [\n",
       "            -0.9621207603112389,\n",
       "            0.9621207603112389\n",
       "        ],\n",
       "        \"type\": \"scatter3d\",\n",
       "        \"scene\": \"scene\",\n",
       "        \"hoverinfo\": \"text\"\n",
       "    }\n",
       "]\n",
       ", {\n",
       "    \"showlegend\": true,\n",
       "    \"paper_bgcolor\": \"rgba(255, 255, 255, 1.000)\",\n",
       "    \"annotations\": [],\n",
       "    \"height\": 1000,\n",
       "    \"margin\": {\n",
       "        \"l\": 0,\n",
       "        \"b\": 20,\n",
       "        \"r\": 0,\n",
       "        \"t\": 20\n",
       "    },\n",
       "    \"plot_bgcolor\": \"rgba(255, 255, 255, 1.000)\",\n",
       "    \"scene\": {\n",
       "        \"camera\": {\n",
       "            \"eye\": {\n",
       "                \"y\": -1.9499999999999997,\n",
       "                \"z\": 1.3,\n",
       "                \"x\": 1.12583302491977\n",
       "            }\n",
       "        },\n",
       "        \"xaxis\": {\n",
       "            \"tickangle\": 0,\n",
       "            \"showline\": true,\n",
       "            \"gridcolor\": \"rgba(0, 0, 0, 0.100)\",\n",
       "            \"showticklabels\": true,\n",
       "            \"gridwidth\": 0.5,\n",
       "            \"titlefont\": {\n",
       "                \"color\": \"rgba(0, 0, 0, 1.000)\",\n",
       "                \"family\": \"sans-serif\",\n",
       "                \"size\": 15\n",
       "            },\n",
       "            \"visible\": true,\n",
       "            \"ticks\": \"inside\",\n",
       "            \"range\": [\n",
       "                -1.7814482940867482,\n",
       "                1.7814482940867482\n",
       "            ],\n",
       "            \"tickmode\": \"array\",\n",
       "            \"tickvals\": [\n",
       "                -1.5,\n",
       "                -1.0,\n",
       "                -0.5,\n",
       "                0.0,\n",
       "                0.5,\n",
       "                1.0,\n",
       "                1.5\n",
       "            ],\n",
       "            \"tickcolor\": \"rgb(0, 0, 0)\",\n",
       "            \"ticktext\": [\n",
       "                \"-1.5\",\n",
       "                \"-1.0\",\n",
       "                \"-0.5\",\n",
       "                \"0.0\",\n",
       "                \"0.5\",\n",
       "                \"1.0\",\n",
       "                \"1.5\"\n",
       "            ],\n",
       "            \"linecolor\": \"rgba(0, 0, 0, 1.000)\",\n",
       "            \"showgrid\": true,\n",
       "            \"zeroline\": false,\n",
       "            \"type\": \"-\",\n",
       "            \"tickfont\": {\n",
       "                \"color\": \"rgba(0, 0, 0, 1.000)\",\n",
       "                \"family\": \"sans-serif\",\n",
       "                \"size\": 11\n",
       "            },\n",
       "            \"title\": \"\",\n",
       "            \"zerolinecolor\": \"rgba(0, 0, 0, 1.000)\",\n",
       "            \"mirror\": false\n",
       "        },\n",
       "        \"domain\": {\n",
       "            \"y\": [\n",
       "                0.015048118985126861,\n",
       "                0.9960629921259841\n",
       "            ],\n",
       "            \"x\": [\n",
       "                0.039492563429571304,\n",
       "                0.9960629921259843\n",
       "            ]\n",
       "        },\n",
       "        \"yaxis\": {\n",
       "            \"tickangle\": 0,\n",
       "            \"showline\": true,\n",
       "            \"gridcolor\": \"rgba(0, 0, 0, 0.100)\",\n",
       "            \"showticklabels\": true,\n",
       "            \"gridwidth\": 0.5,\n",
       "            \"titlefont\": {\n",
       "                \"color\": \"rgba(0, 0, 0, 1.000)\",\n",
       "                \"family\": \"sans-serif\",\n",
       "                \"size\": 15\n",
       "            },\n",
       "            \"visible\": true,\n",
       "            \"ticks\": \"inside\",\n",
       "            \"range\": [\n",
       "                -1.7814482940867482,\n",
       "                1.7814482940867482\n",
       "            ],\n",
       "            \"tickmode\": \"array\",\n",
       "            \"tickvals\": [\n",
       "                -1.5,\n",
       "                -1.0,\n",
       "                -0.5,\n",
       "                0.0,\n",
       "                0.5,\n",
       "                1.0,\n",
       "                1.5\n",
       "            ],\n",
       "            \"tickcolor\": \"rgb(0, 0, 0)\",\n",
       "            \"ticktext\": [\n",
       "                \"-1.5\",\n",
       "                \"-1.0\",\n",
       "                \"-0.5\",\n",
       "                \"0.0\",\n",
       "                \"0.5\",\n",
       "                \"1.0\",\n",
       "                \"1.5\"\n",
       "            ],\n",
       "            \"linecolor\": \"rgba(0, 0, 0, 1.000)\",\n",
       "            \"showgrid\": true,\n",
       "            \"zeroline\": false,\n",
       "            \"type\": \"-\",\n",
       "            \"tickfont\": {\n",
       "                \"color\": \"rgba(0, 0, 0, 1.000)\",\n",
       "                \"family\": \"sans-serif\",\n",
       "                \"size\": 11\n",
       "            },\n",
       "            \"title\": \"\",\n",
       "            \"zerolinecolor\": \"rgba(0, 0, 0, 1.000)\",\n",
       "            \"mirror\": false\n",
       "        },\n",
       "        \"zaxis\": {\n",
       "            \"tickangle\": 0,\n",
       "            \"showline\": true,\n",
       "            \"gridcolor\": \"rgba(0, 0, 0, 0.100)\",\n",
       "            \"showticklabels\": true,\n",
       "            \"gridwidth\": 0.5,\n",
       "            \"titlefont\": {\n",
       "                \"color\": \"rgba(0, 0, 0, 1.000)\",\n",
       "                \"family\": \"sans-serif\",\n",
       "                \"size\": 15\n",
       "            },\n",
       "            \"visible\": true,\n",
       "            \"ticks\": \"inside\",\n",
       "            \"range\": [\n",
       "                -1.7814482940867482,\n",
       "                1.7814482940867482\n",
       "            ],\n",
       "            \"tickmode\": \"array\",\n",
       "            \"tickvals\": [\n",
       "                -1.5,\n",
       "                -1.0,\n",
       "                -0.5,\n",
       "                0.0,\n",
       "                0.5,\n",
       "                1.0,\n",
       "                1.5\n",
       "            ],\n",
       "            \"tickcolor\": \"rgb(0, 0, 0)\",\n",
       "            \"ticktext\": [\n",
       "                \"-1.5\",\n",
       "                \"-1.0\",\n",
       "                \"-0.5\",\n",
       "                \"0.0\",\n",
       "                \"0.5\",\n",
       "                \"1.0\",\n",
       "                \"1.5\"\n",
       "            ],\n",
       "            \"linecolor\": \"rgba(0, 0, 0, 1.000)\",\n",
       "            \"showgrid\": true,\n",
       "            \"zeroline\": false,\n",
       "            \"type\": \"-\",\n",
       "            \"tickfont\": {\n",
       "                \"color\": \"rgba(0, 0, 0, 1.000)\",\n",
       "                \"family\": \"sans-serif\",\n",
       "                \"size\": 11\n",
       "            },\n",
       "            \"title\": \"\",\n",
       "            \"zerolinecolor\": \"rgba(0, 0, 0, 1.000)\",\n",
       "            \"mirror\": false\n",
       "        }\n",
       "    },\n",
       "    \"legend_position\": {\n",
       "        \"yanchor\": \"auto\",\n",
       "        \"xanchor\": \"auto\",\n",
       "        \"bordercolor\": \"rgba(0, 0, 0, 1.000)\",\n",
       "        \"bgcolor\": \"rgba(255, 255, 255, 1.000)\",\n",
       "        \"borderwidth\": 1,\n",
       "        \"tracegroupgap\": 0,\n",
       "        \"y\": 1.0,\n",
       "        \"font\": {\n",
       "            \"color\": \"rgba(0, 0, 0, 1.000)\",\n",
       "            \"family\": \"sans-serif\",\n",
       "            \"size\": 11\n",
       "        },\n",
       "        \"title\": {\n",
       "            \"font\": {\n",
       "                \"color\": \"rgba(0, 0, 0, 1.000)\",\n",
       "                \"family\": \"sans-serif\",\n",
       "                \"size\": 15\n",
       "            },\n",
       "            \"text\": \"\"\n",
       "        },\n",
       "        \"traceorder\": \"normal\",\n",
       "        \"x\": 1.0\n",
       "    },\n",
       "    \"width\": 1000\n",
       "}\n",
       ");\n",
       "\n",
       "    });\n",
       "    </script>\n"
      ]
     },
     "execution_count": 25,
     "metadata": {},
     "output_type": "execute_result"
    }
   ],
   "source": [
    "plotlyjs();\n",
    "function plot_residual(A,x,b)\n",
    "    corners = Float64[[-1,-1,-1] [ 1,-1,-1] [-1, 1,-1] [ 1, 1,-1] [-1,-1, 1] [ 1,-1, 1] [-1, 1, 1] [ 1, 1, 1]];\n",
    "    cube = polyhedron(vrep(corners'), lib)\n",
    "    triangle = [[2.0, 0.0] [-1.0, sqrt(3.)] [-1.0, -sqrt(3)]]*4\n",
    "    Ax = A * x\n",
    "    Q, R = qr(A, ColumnNorm())\n",
    "    scale = maximum(abs.([b Ax]))\n",
    "    if scale == 0\n",
    "        scale = 1\n",
    "    end\n",
    "    scale *= 1.1\n",
    "    p = plot(b[[1]], b[[2]], b[[3]]\n",
    "        , m=:o\n",
    "        , lim=(-scale, scale)\n",
    "        , size=(1000,1000)\n",
    "        , colorbar=:legend\n",
    "        , label=\"b\"\n",
    "        , hover=\"b:<br>$(@sprintf(\"%+.2f\", b[1]))<br>$(@sprintf(\"%+.2f\", b[2]))<br>$(@sprintf(\"%+.2f\", b[3]))\"\n",
    "    )\n",
    "    plot!(p,Ax[[1]], Ax[[2]], Ax[[3]]\n",
    "        , m=:square\n",
    "        , label=\"Ax\"\n",
    "        , hover=\"x:<br>$(@sprintf(\"%+.2f\", x[1]))<br>$(@sprintf(\"%+.2f\", x[2]))<br>Ax:<br>$(@sprintf(\"%+.2f\", Ax[1]))<br>$(@sprintf(\"%+.2f\", Ax[2]))<br>$(@sprintf(\"%+.2f\", Ax[3]))\"\n",
    "    )\n",
    "    plot!(p,[Ax[1],b[1]],[Ax[2],b[2]],[Ax[3],b[3]]\n",
    "        , label=\"r = b - Ax\"\n",
    "        , hover=\"r:<br>$(@sprintf(\"%+.2f\", b[1] - Ax[1]))<br>$(@sprintf(\"%+.2f\", b[2] - Ax[2]))<br>$(@sprintf(\"%+.2f\", b[3] - Ax[3]))\"\n",
    "        )\n",
    "    if (abs(R[1,1]) != 0.0)\n",
    "        if abs(R[2,2]) > eps() * 100. * abs(R[1,1])\n",
    "            # plot plane \n",
    "            Qtrivert = Q[:,1:2]*triangle\n",
    "            Qtri = polyhedron(vrep((Q[:,1:2]*triangle)'), lib)\n",
    "            isect = hcat(points(vrep(intersect(cube, Qtri)))...)*scale\n",
    "            plot!(p,isect[1,:],isect[2,:],isect[3,:],st=:mesh3d\n",
    "                , l = 0\n",
    "                , fillalpha=0.5\n",
    "                , label=\"range(A)\"\n",
    "                )\n",
    "            q1 = A[:,1]\n",
    "            q1max = maximum(abs.(q1))\n",
    "            q1 *= scale / q1max\n",
    "            plot!(p,[-q1[1], q1[1]],[-q1[2],q1[2]],[-q1[3],q1[3]]\n",
    "                , label = \"a₁\"\n",
    "                , hover=\"a₁:<br>$(@sprintf(\"%+.2f\", A[1,1]))<br>$(@sprintf(\"%+.2f\", A[2,1]))<br>$(@sprintf(\"%+.2f\", A[3,1]))\"\n",
    "            )\n",
    "            q2 = A[:,2]\n",
    "            q2max = maximum(abs.(q2))\n",
    "            q2 *= scale / q2max\n",
    "            plot!(p,[-q2[1], q2[1]],[-q2[2],q2[2]],[-q2[3],q2[3]]\n",
    "                , label = \"a₂\"\n",
    "                , hover=\"a₂:<br>$(@sprintf(\"%+.2f\", A[1,2]))<br>$(@sprintf(\"%+.2f\", A[2,2]))<br>$(@sprintf(\"%+.2f\", A[3,2]))\"\n",
    "            )\n",
    "        else\n",
    "            # plot line\n",
    "            q = Q[:,1]\n",
    "            qmax = maximum(abs.(q))\n",
    "            q *= scale / qmax\n",
    "            plot!(p,[-q[1], q[1]],[-q[2],q[2]],[-q[3],q[3]]\n",
    "            )\n",
    "        end\n",
    "    end\n",
    "    return p\n",
    "end;\n",
    "draw(plot_residual(randn(3,2), randn(2), randn(3)))"
   ]
  },
  {
   "cell_type": "markdown",
   "metadata": {
    "slideshow": {
     "slide_type": "subslide"
    }
   },
   "source": [
    "### Residual minimization\n",
    "\n",
    "If $Ax \\neq b$, we settle for the $x$ that makes the residual the smallest."
   ]
  },
  {
   "cell_type": "markdown",
   "metadata": {
    "slideshow": {
     "slide_type": "fragment"
    }
   },
   "source": [
    "- \"Smallest\" implies a choice of norm.  As elsewhere, the Euclidean / 2-norm is our default choice.  The least squares problem:\n",
    "\n",
    "$$\\mathrm{minimize}_{x\\in \\mathbb{C}^n}\\ \\| Ax - b \\|_2$$"
   ]
  },
  {
   "cell_type": "markdown",
   "metadata": {
    "slideshow": {
     "slide_type": "fragment"
    }
   },
   "source": [
    "- We more often see the equivalent minimization problem (hence the name _least squares_):\n",
    "\n",
    "$$\\mathrm{minimize}_{x \\in \\mathbb{C}^n}\\ {\\textstyle\\frac 1 2} \\| A x - b \\|_2^2.$$"
   ]
  },
  {
   "cell_type": "code",
   "execution_count": 35,
   "metadata": {
    "hideCode": true,
    "slideshow": {
     "slide_type": "-"
    }
   },
   "outputs": [
    {
     "data": {
      "application/vnd.plotly.v1+json": {
       "data": [
        {
         "colorbar": {
          "title": ""
         },
         "hoverinfo": "text",
         "legendgroup": "b",
         "line": {
          "color": "rgba(0, 154, 250, 1.000)",
          "dash": "solid",
          "shape": "linear",
          "width": 5
         },
         "marker": {
          "color": "rgba(0, 154, 250, 1.000)",
          "line": {
           "color": "rgba(0, 0, 0, 1.000)",
           "width": 1
          },
          "size": 8,
          "symbol": "octagon"
         },
         "mode": "lines+markers",
         "name": "b",
         "scene": "scene",
         "showlegend": true,
         "text": [
          "b:<br>+1.57<br>-0.09<br>-0.10"
         ],
         "type": "scatter3d",
         "x": [
          1.574324779579175
         ],
         "xaxis": "x",
         "y": [
          -0.0935785653373862
         ],
         "yaxis": "y",
         "z": [
          -0.1037487685549434
         ],
         "zaxis": "z",
         "zmax": null,
         "zmin": null
        },
        {
         "colorbar": {
          "title": ""
         },
         "hoverinfo": "text",
         "legendgroup": "Ax",
         "line": {
          "color": "rgba(227, 111, 71, 1.000)",
          "dash": "solid",
          "shape": "linear",
          "width": 5
         },
         "marker": {
          "color": "rgba(227, 111, 71, 1.000)",
          "line": {
           "color": "rgba(0, 0, 0, 1.000)",
           "width": 1
          },
          "size": 8,
          "symbol": "square"
         },
         "mode": "lines+markers",
         "name": "Ax",
         "scene": "scene",
         "showlegend": true,
         "text": [
          "x:<br>+2.71<br>+4.13<br>Ax:<br>+0.72<br>-0.77<br>-0.37"
         ],
         "type": "scatter3d",
         "x": [
          0.7150664470610337
         ],
         "xaxis": "x",
         "y": [
          -0.7684417067804508
         ],
         "yaxis": "y",
         "z": [
          -0.3657609409054626
         ],
         "zaxis": "z",
         "zmax": null,
         "zmin": null
        },
        {
         "colorbar": {
          "title": ""
         },
         "hoverinfo": "text",
         "legendgroup": "r = b - Ax",
         "line": {
          "color": "rgba(62, 164, 78, 1.000)",
          "dash": "solid",
          "shape": "linear",
          "width": 5
         },
         "mode": "lines",
         "name": "r = b - Ax",
         "scene": "scene",
         "showlegend": true,
         "text": [
          "r:<br>+0.86<br>+0.67<br>+0.26",
          "r:<br>+0.86<br>+0.67<br>+0.26"
         ],
         "type": "scatter3d",
         "x": [
          0.7150664470610337,
          1.574324779579175
         ],
         "xaxis": "x",
         "y": [
          -0.7684417067804508,
          -0.0935785653373862
         ],
         "yaxis": "y",
         "z": [
          -0.3657609409054626,
          -0.1037487685549434
         ],
         "zaxis": "z",
         "zmax": null,
         "zmin": null
        },
        {
         "color": "rgba(195, 113, 210, 0.500)",
         "colorbar": {
          "title": ""
         },
         "colorscale": [
          [
           0,
           "rgba(195, 113, 210, 0.500)"
          ],
          [
           1,
           "rgba(195, 113, 210, 0.500)"
          ]
         ],
         "hoverinfo": "none",
         "name": "range(A)",
         "opacity": 0.5,
         "scene": "scene",
         "showlegend": true,
         "showscale": false,
         "type": "mesh3d",
         "x": [
          1.7317572575370925,
          -0.8320636937113042,
          1.7317572575370925,
          0.8320636937112544,
          -1.7317572575370923,
          -1.7317572575370923
         ],
         "xaxis": "x",
         "y": [
          -1.5325853627075265,
          1.7317572575370925,
          -1.7317572575370923,
          -1.7317572575370923,
          1.7317572575370932,
          1.5325853627074637
         ],
         "yaxis": "y",
         "z": [
          -1.7317572575370934,
          -1.7317572575370932,
          -1.2187514325556863,
          1.7317572575370928,
          1.2187514325555222,
          1.7317572575370932
         ],
         "zaxis": "z",
         "zmax": null,
         "zmin": null
        },
        {
         "colorbar": {
          "title": ""
         },
         "hoverinfo": "text",
         "legendgroup": "a₁",
         "line": {
          "color": "rgba(172, 142, 24, 1.000)",
          "dash": "solid",
          "shape": "linear",
          "width": 5
         },
         "mode": "lines",
         "name": "a₁",
         "scene": "scene",
         "showlegend": true,
         "text": [
          "a₁:<br>-0.40<br>+0.68<br>-0.44",
          "a₁:<br>-0.40<br>+0.68<br>-0.44"
         ],
         "type": "scatter3d",
         "x": [
          1.0145180802705718,
          -1.0145180802705718
         ],
         "xaxis": "x",
         "y": [
          -1.7317572575370928,
          1.7317572575370928
         ],
         "yaxis": "y",
         "z": [
          1.1334054689574964,
          -1.1334054689574964
         ],
         "zaxis": "z",
         "zmax": null,
         "zmin": null
        },
        {
         "colorbar": {
          "title": ""
         },
         "hoverinfo": "text",
         "legendgroup": "a₂",
         "line": {
          "color": "rgba(0, 170, 174, 1.000)",
          "dash": "solid",
          "shape": "linear",
          "width": 5
         },
         "mode": "lines",
         "name": "a₂",
         "scene": "scene",
         "showlegend": true,
         "text": [
          "a₂:<br>+0.43<br>-0.63<br>+0.20",
          "a₂:<br>+0.43<br>-0.63<br>+0.20"
         ],
         "type": "scatter3d",
         "x": [
          -1.190518558272875,
          1.190518558272875
         ],
         "xaxis": "x",
         "y": [
          1.7317572575370928,
          -1.7317572575370928
         ],
         "yaxis": "y",
         "z": [
          -0.5562190127178216,
          0.5562190127178216
         ],
         "zaxis": "z",
         "zmax": null,
         "zmin": null
        }
       ],
       "layout": {
        "annotations": [],
        "height": 1000,
        "legend_position": {
         "bgcolor": "rgba(255, 255, 255, 1.000)",
         "bordercolor": "rgba(0, 0, 0, 1.000)",
         "borderwidth": 1,
         "font": {
          "color": "rgba(0, 0, 0, 1.000)",
          "family": "sans-serif",
          "size": 11
         },
         "title": {
          "font": {
           "color": "rgba(0, 0, 0, 1.000)",
           "family": "sans-serif",
           "size": 15
          },
          "text": ""
         },
         "tracegroupgap": 0,
         "traceorder": "normal",
         "x": 1,
         "xanchor": "auto",
         "y": 1,
         "yanchor": "auto"
        },
        "margin": {
         "b": 20,
         "l": 0,
         "r": 0,
         "t": 20
        },
        "paper_bgcolor": "rgba(255, 255, 255, 1.000)",
        "plot_bgcolor": "rgba(255, 255, 255, 1.000)",
        "scene": {
         "camera": {
          "eye": {
           "x": 1.12583302491977,
           "y": -1.9499999999999997,
           "z": 1.3
          }
         },
         "domain": {
          "x": [
           0.039492563429571304,
           0.9960629921259843
          ],
          "y": [
           0.015048118985126861,
           0.9960629921259841
          ]
         },
         "xaxis": {
          "gridcolor": "rgba(0, 0, 0, 0.100)",
          "gridwidth": 0.5,
          "linecolor": "rgba(0, 0, 0, 1.000)",
          "mirror": false,
          "range": [
           -1.7317572575370928,
           1.7317572575370928
          ],
          "showgrid": true,
          "showline": true,
          "showticklabels": true,
          "tickangle": 0,
          "tickcolor": "rgb(0, 0, 0)",
          "tickfont": {
           "color": "rgba(0, 0, 0, 1.000)",
           "family": "sans-serif",
           "size": 11
          },
          "tickmode": "array",
          "ticks": "inside",
          "ticktext": [
           "-1.5",
           "-1.0",
           "-0.5",
           "0.0",
           "0.5",
           "1.0",
           "1.5"
          ],
          "tickvals": [
           -1.5,
           -1,
           -0.5,
           0,
           0.5,
           1,
           1.5
          ],
          "title": "",
          "titlefont": {
           "color": "rgba(0, 0, 0, 1.000)",
           "family": "sans-serif",
           "size": 15
          },
          "type": "-",
          "visible": true,
          "zeroline": false,
          "zerolinecolor": "rgba(0, 0, 0, 1.000)"
         },
         "yaxis": {
          "gridcolor": "rgba(0, 0, 0, 0.100)",
          "gridwidth": 0.5,
          "linecolor": "rgba(0, 0, 0, 1.000)",
          "mirror": false,
          "range": [
           -1.7317572575370928,
           1.7317572575370928
          ],
          "showgrid": true,
          "showline": true,
          "showticklabels": true,
          "tickangle": 0,
          "tickcolor": "rgb(0, 0, 0)",
          "tickfont": {
           "color": "rgba(0, 0, 0, 1.000)",
           "family": "sans-serif",
           "size": 11
          },
          "tickmode": "array",
          "ticks": "inside",
          "ticktext": [
           "-1.5",
           "-1.0",
           "-0.5",
           "0.0",
           "0.5",
           "1.0",
           "1.5"
          ],
          "tickvals": [
           -1.5,
           -1,
           -0.5,
           0,
           0.5,
           1,
           1.5
          ],
          "title": "",
          "titlefont": {
           "color": "rgba(0, 0, 0, 1.000)",
           "family": "sans-serif",
           "size": 15
          },
          "type": "-",
          "visible": true,
          "zeroline": false,
          "zerolinecolor": "rgba(0, 0, 0, 1.000)"
         },
         "zaxis": {
          "gridcolor": "rgba(0, 0, 0, 0.100)",
          "gridwidth": 0.5,
          "linecolor": "rgba(0, 0, 0, 1.000)",
          "mirror": false,
          "range": [
           -1.7317572575370928,
           1.7317572575370928
          ],
          "showgrid": true,
          "showline": true,
          "showticklabels": true,
          "tickangle": 0,
          "tickcolor": "rgb(0, 0, 0)",
          "tickfont": {
           "color": "rgba(0, 0, 0, 1.000)",
           "family": "sans-serif",
           "size": 11
          },
          "tickmode": "array",
          "ticks": "inside",
          "ticktext": [
           "-1.5",
           "-1.0",
           "-0.5",
           "0.0",
           "0.5",
           "1.0",
           "1.5"
          ],
          "tickvals": [
           -1.5,
           -1,
           -0.5,
           0,
           0.5,
           1,
           1.5
          ],
          "title": "",
          "titlefont": {
           "color": "rgba(0, 0, 0, 1.000)",
           "family": "sans-serif",
           "size": 15
          },
          "type": "-",
          "visible": true,
          "zeroline": false,
          "zerolinecolor": "rgba(0, 0, 0, 1.000)"
         }
        },
        "showlegend": true,
        "width": 1000
       }
      },
      "text/html": [
       "    <div id=\"c6b41919-92de-48ee-b34f-f150ee585c11\" style=\"width:1000px;height:1000px;\"></div>\n",
       "    <script>\n",
       "        requirejs.config({\n",
       "        paths: {\n",
       "            Plotly: 'https://cdn.plot.ly/plotly-2.6.3.min'\n",
       "        }\n",
       "    });\n",
       "    require(['Plotly'], function (Plotly) {\n",
       "\n",
       "        Plotly.newPlot('c6b41919-92de-48ee-b34f-f150ee585c11', [\n",
       "    {\n",
       "        \"xaxis\": \"x\",\n",
       "        \"colorbar\": {\n",
       "            \"title\": \"\"\n",
       "        },\n",
       "        \"yaxis\": \"y\",\n",
       "        \"zaxis\": \"z\",\n",
       "        \"text\": [\n",
       "            \"b:<br>+1.57<br>-0.09<br>-0.10\"\n",
       "        ],\n",
       "        \"x\": [\n",
       "            1.574324779579175\n",
       "        ],\n",
       "        \"showlegend\": true,\n",
       "        \"mode\": \"lines+markers\",\n",
       "        \"name\": \"b\",\n",
       "        \"zmin\": null,\n",
       "        \"legendgroup\": \"b\",\n",
       "        \"z\": [\n",
       "            -0.1037487685549434\n",
       "        ],\n",
       "        \"marker\": {\n",
       "            \"symbol\": \"octagon\",\n",
       "            \"color\": \"rgba(0, 154, 250, 1.000)\",\n",
       "            \"line\": {\n",
       "                \"color\": \"rgba(0, 0, 0, 1.000)\",\n",
       "                \"width\": 1\n",
       "            },\n",
       "            \"size\": 8\n",
       "        },\n",
       "        \"zmax\": null,\n",
       "        \"line\": {\n",
       "            \"color\": \"rgba(0, 154, 250, 1.000)\",\n",
       "            \"shape\": \"linear\",\n",
       "            \"dash\": \"solid\",\n",
       "            \"width\": 5\n",
       "        },\n",
       "        \"y\": [\n",
       "            -0.0935785653373862\n",
       "        ],\n",
       "        \"type\": \"scatter3d\",\n",
       "        \"scene\": \"scene\",\n",
       "        \"hoverinfo\": \"text\"\n",
       "    },\n",
       "    {\n",
       "        \"xaxis\": \"x\",\n",
       "        \"colorbar\": {\n",
       "            \"title\": \"\"\n",
       "        },\n",
       "        \"yaxis\": \"y\",\n",
       "        \"zaxis\": \"z\",\n",
       "        \"text\": [\n",
       "            \"x:<br>+2.71<br>+4.13<br>Ax:<br>+0.72<br>-0.77<br>-0.37\"\n",
       "        ],\n",
       "        \"x\": [\n",
       "            0.7150664470610337\n",
       "        ],\n",
       "        \"showlegend\": true,\n",
       "        \"mode\": \"lines+markers\",\n",
       "        \"name\": \"Ax\",\n",
       "        \"zmin\": null,\n",
       "        \"legendgroup\": \"Ax\",\n",
       "        \"z\": [\n",
       "            -0.3657609409054626\n",
       "        ],\n",
       "        \"marker\": {\n",
       "            \"symbol\": \"square\",\n",
       "            \"color\": \"rgba(227, 111, 71, 1.000)\",\n",
       "            \"line\": {\n",
       "                \"color\": \"rgba(0, 0, 0, 1.000)\",\n",
       "                \"width\": 1\n",
       "            },\n",
       "            \"size\": 8\n",
       "        },\n",
       "        \"zmax\": null,\n",
       "        \"line\": {\n",
       "            \"color\": \"rgba(227, 111, 71, 1.000)\",\n",
       "            \"shape\": \"linear\",\n",
       "            \"dash\": \"solid\",\n",
       "            \"width\": 5\n",
       "        },\n",
       "        \"y\": [\n",
       "            -0.7684417067804508\n",
       "        ],\n",
       "        \"type\": \"scatter3d\",\n",
       "        \"scene\": \"scene\",\n",
       "        \"hoverinfo\": \"text\"\n",
       "    },\n",
       "    {\n",
       "        \"xaxis\": \"x\",\n",
       "        \"colorbar\": {\n",
       "            \"title\": \"\"\n",
       "        },\n",
       "        \"yaxis\": \"y\",\n",
       "        \"zaxis\": \"z\",\n",
       "        \"text\": [\n",
       "            \"r:<br>+0.86<br>+0.67<br>+0.26\",\n",
       "            \"r:<br>+0.86<br>+0.67<br>+0.26\"\n",
       "        ],\n",
       "        \"x\": [\n",
       "            0.7150664470610337,\n",
       "            1.574324779579175\n",
       "        ],\n",
       "        \"showlegend\": true,\n",
       "        \"mode\": \"lines\",\n",
       "        \"name\": \"r = b - Ax\",\n",
       "        \"zmin\": null,\n",
       "        \"legendgroup\": \"r = b - Ax\",\n",
       "        \"z\": [\n",
       "            -0.3657609409054626,\n",
       "            -0.1037487685549434\n",
       "        ],\n",
       "        \"zmax\": null,\n",
       "        \"line\": {\n",
       "            \"color\": \"rgba(62, 164, 78, 1.000)\",\n",
       "            \"shape\": \"linear\",\n",
       "            \"dash\": \"solid\",\n",
       "            \"width\": 5\n",
       "        },\n",
       "        \"y\": [\n",
       "            -0.7684417067804508,\n",
       "            -0.0935785653373862\n",
       "        ],\n",
       "        \"type\": \"scatter3d\",\n",
       "        \"scene\": \"scene\",\n",
       "        \"hoverinfo\": \"text\"\n",
       "    },\n",
       "    {\n",
       "        \"xaxis\": \"x\",\n",
       "        \"colorbar\": {\n",
       "            \"title\": \"\"\n",
       "        },\n",
       "        \"colorscale\": [\n",
       "            [\n",
       "                0.0,\n",
       "                \"rgba(195, 113, 210, 0.500)\"\n",
       "            ],\n",
       "            [\n",
       "                1.0,\n",
       "                \"rgba(195, 113, 210, 0.500)\"\n",
       "            ]\n",
       "        ],\n",
       "        \"yaxis\": \"y\",\n",
       "        \"zaxis\": \"z\",\n",
       "        \"showscale\": false,\n",
       "        \"x\": [\n",
       "            1.7317572575370925,\n",
       "            -0.8320636937113042,\n",
       "            1.7317572575370925,\n",
       "            0.8320636937112544,\n",
       "            -1.7317572575370923,\n",
       "            -1.7317572575370923\n",
       "        ],\n",
       "        \"showlegend\": true,\n",
       "        \"name\": \"range(A)\",\n",
       "        \"opacity\": 0.5,\n",
       "        \"zmin\": null,\n",
       "        \"z\": [\n",
       "            -1.7317572575370934,\n",
       "            -1.7317572575370932,\n",
       "            -1.2187514325556863,\n",
       "            1.7317572575370928,\n",
       "            1.2187514325555222,\n",
       "            1.7317572575370932\n",
       "        ],\n",
       "        \"zmax\": null,\n",
       "        \"color\": \"rgba(195, 113, 210, 0.500)\",\n",
       "        \"y\": [\n",
       "            -1.5325853627075265,\n",
       "            1.7317572575370925,\n",
       "            -1.7317572575370923,\n",
       "            -1.7317572575370923,\n",
       "            1.7317572575370932,\n",
       "            1.5325853627074637\n",
       "        ],\n",
       "        \"type\": \"mesh3d\",\n",
       "        \"scene\": \"scene\",\n",
       "        \"hoverinfo\": \"none\"\n",
       "    },\n",
       "    {\n",
       "        \"xaxis\": \"x\",\n",
       "        \"colorbar\": {\n",
       "            \"title\": \"\"\n",
       "        },\n",
       "        \"yaxis\": \"y\",\n",
       "        \"zaxis\": \"z\",\n",
       "        \"text\": [\n",
       "            \"a₁:<br>-0.40<br>+0.68<br>-0.44\",\n",
       "            \"a₁:<br>-0.40<br>+0.68<br>-0.44\"\n",
       "        ],\n",
       "        \"x\": [\n",
       "            1.0145180802705718,\n",
       "            -1.0145180802705718\n",
       "        ],\n",
       "        \"showlegend\": true,\n",
       "        \"mode\": \"lines\",\n",
       "        \"name\": \"a₁\",\n",
       "        \"zmin\": null,\n",
       "        \"legendgroup\": \"a₁\",\n",
       "        \"z\": [\n",
       "            1.1334054689574964,\n",
       "            -1.1334054689574964\n",
       "        ],\n",
       "        \"zmax\": null,\n",
       "        \"line\": {\n",
       "            \"color\": \"rgba(172, 142, 24, 1.000)\",\n",
       "            \"shape\": \"linear\",\n",
       "            \"dash\": \"solid\",\n",
       "            \"width\": 5\n",
       "        },\n",
       "        \"y\": [\n",
       "            -1.7317572575370928,\n",
       "            1.7317572575370928\n",
       "        ],\n",
       "        \"type\": \"scatter3d\",\n",
       "        \"scene\": \"scene\",\n",
       "        \"hoverinfo\": \"text\"\n",
       "    },\n",
       "    {\n",
       "        \"xaxis\": \"x\",\n",
       "        \"colorbar\": {\n",
       "            \"title\": \"\"\n",
       "        },\n",
       "        \"yaxis\": \"y\",\n",
       "        \"zaxis\": \"z\",\n",
       "        \"text\": [\n",
       "            \"a₂:<br>+0.43<br>-0.63<br>+0.20\",\n",
       "            \"a₂:<br>+0.43<br>-0.63<br>+0.20\"\n",
       "        ],\n",
       "        \"x\": [\n",
       "            -1.190518558272875,\n",
       "            1.190518558272875\n",
       "        ],\n",
       "        \"showlegend\": true,\n",
       "        \"mode\": \"lines\",\n",
       "        \"name\": \"a₂\",\n",
       "        \"zmin\": null,\n",
       "        \"legendgroup\": \"a₂\",\n",
       "        \"z\": [\n",
       "            -0.5562190127178216,\n",
       "            0.5562190127178216\n",
       "        ],\n",
       "        \"zmax\": null,\n",
       "        \"line\": {\n",
       "            \"color\": \"rgba(0, 170, 174, 1.000)\",\n",
       "            \"shape\": \"linear\",\n",
       "            \"dash\": \"solid\",\n",
       "            \"width\": 5\n",
       "        },\n",
       "        \"y\": [\n",
       "            1.7317572575370928,\n",
       "            -1.7317572575370928\n",
       "        ],\n",
       "        \"type\": \"scatter3d\",\n",
       "        \"scene\": \"scene\",\n",
       "        \"hoverinfo\": \"text\"\n",
       "    }\n",
       "]\n",
       ", {\n",
       "    \"showlegend\": true,\n",
       "    \"paper_bgcolor\": \"rgba(255, 255, 255, 1.000)\",\n",
       "    \"annotations\": [],\n",
       "    \"height\": 1000,\n",
       "    \"margin\": {\n",
       "        \"l\": 0,\n",
       "        \"b\": 20,\n",
       "        \"r\": 0,\n",
       "        \"t\": 20\n",
       "    },\n",
       "    \"plot_bgcolor\": \"rgba(255, 255, 255, 1.000)\",\n",
       "    \"scene\": {\n",
       "        \"camera\": {\n",
       "            \"eye\": {\n",
       "                \"y\": -1.9499999999999997,\n",
       "                \"z\": 1.3,\n",
       "                \"x\": 1.12583302491977\n",
       "            }\n",
       "        },\n",
       "        \"xaxis\": {\n",
       "            \"tickangle\": 0,\n",
       "            \"showline\": true,\n",
       "            \"gridcolor\": \"rgba(0, 0, 0, 0.100)\",\n",
       "            \"showticklabels\": true,\n",
       "            \"gridwidth\": 0.5,\n",
       "            \"titlefont\": {\n",
       "                \"color\": \"rgba(0, 0, 0, 1.000)\",\n",
       "                \"family\": \"sans-serif\",\n",
       "                \"size\": 15\n",
       "            },\n",
       "            \"visible\": true,\n",
       "            \"ticks\": \"inside\",\n",
       "            \"range\": [\n",
       "                -1.7317572575370928,\n",
       "                1.7317572575370928\n",
       "            ],\n",
       "            \"tickmode\": \"array\",\n",
       "            \"tickvals\": [\n",
       "                -1.5,\n",
       "                -1.0,\n",
       "                -0.5,\n",
       "                0.0,\n",
       "                0.5,\n",
       "                1.0,\n",
       "                1.5\n",
       "            ],\n",
       "            \"tickcolor\": \"rgb(0, 0, 0)\",\n",
       "            \"ticktext\": [\n",
       "                \"-1.5\",\n",
       "                \"-1.0\",\n",
       "                \"-0.5\",\n",
       "                \"0.0\",\n",
       "                \"0.5\",\n",
       "                \"1.0\",\n",
       "                \"1.5\"\n",
       "            ],\n",
       "            \"linecolor\": \"rgba(0, 0, 0, 1.000)\",\n",
       "            \"showgrid\": true,\n",
       "            \"zeroline\": false,\n",
       "            \"type\": \"-\",\n",
       "            \"tickfont\": {\n",
       "                \"color\": \"rgba(0, 0, 0, 1.000)\",\n",
       "                \"family\": \"sans-serif\",\n",
       "                \"size\": 11\n",
       "            },\n",
       "            \"title\": \"\",\n",
       "            \"zerolinecolor\": \"rgba(0, 0, 0, 1.000)\",\n",
       "            \"mirror\": false\n",
       "        },\n",
       "        \"domain\": {\n",
       "            \"y\": [\n",
       "                0.015048118985126861,\n",
       "                0.9960629921259841\n",
       "            ],\n",
       "            \"x\": [\n",
       "                0.039492563429571304,\n",
       "                0.9960629921259843\n",
       "            ]\n",
       "        },\n",
       "        \"yaxis\": {\n",
       "            \"tickangle\": 0,\n",
       "            \"showline\": true,\n",
       "            \"gridcolor\": \"rgba(0, 0, 0, 0.100)\",\n",
       "            \"showticklabels\": true,\n",
       "            \"gridwidth\": 0.5,\n",
       "            \"titlefont\": {\n",
       "                \"color\": \"rgba(0, 0, 0, 1.000)\",\n",
       "                \"family\": \"sans-serif\",\n",
       "                \"size\": 15\n",
       "            },\n",
       "            \"visible\": true,\n",
       "            \"ticks\": \"inside\",\n",
       "            \"range\": [\n",
       "                -1.7317572575370928,\n",
       "                1.7317572575370928\n",
       "            ],\n",
       "            \"tickmode\": \"array\",\n",
       "            \"tickvals\": [\n",
       "                -1.5,\n",
       "                -1.0,\n",
       "                -0.5,\n",
       "                0.0,\n",
       "                0.5,\n",
       "                1.0,\n",
       "                1.5\n",
       "            ],\n",
       "            \"tickcolor\": \"rgb(0, 0, 0)\",\n",
       "            \"ticktext\": [\n",
       "                \"-1.5\",\n",
       "                \"-1.0\",\n",
       "                \"-0.5\",\n",
       "                \"0.0\",\n",
       "                \"0.5\",\n",
       "                \"1.0\",\n",
       "                \"1.5\"\n",
       "            ],\n",
       "            \"linecolor\": \"rgba(0, 0, 0, 1.000)\",\n",
       "            \"showgrid\": true,\n",
       "            \"zeroline\": false,\n",
       "            \"type\": \"-\",\n",
       "            \"tickfont\": {\n",
       "                \"color\": \"rgba(0, 0, 0, 1.000)\",\n",
       "                \"family\": \"sans-serif\",\n",
       "                \"size\": 11\n",
       "            },\n",
       "            \"title\": \"\",\n",
       "            \"zerolinecolor\": \"rgba(0, 0, 0, 1.000)\",\n",
       "            \"mirror\": false\n",
       "        },\n",
       "        \"zaxis\": {\n",
       "            \"tickangle\": 0,\n",
       "            \"showline\": true,\n",
       "            \"gridcolor\": \"rgba(0, 0, 0, 0.100)\",\n",
       "            \"showticklabels\": true,\n",
       "            \"gridwidth\": 0.5,\n",
       "            \"titlefont\": {\n",
       "                \"color\": \"rgba(0, 0, 0, 1.000)\",\n",
       "                \"family\": \"sans-serif\",\n",
       "                \"size\": 15\n",
       "            },\n",
       "            \"visible\": true,\n",
       "            \"ticks\": \"inside\",\n",
       "            \"range\": [\n",
       "                -1.7317572575370928,\n",
       "                1.7317572575370928\n",
       "            ],\n",
       "            \"tickmode\": \"array\",\n",
       "            \"tickvals\": [\n",
       "                -1.5,\n",
       "                -1.0,\n",
       "                -0.5,\n",
       "                0.0,\n",
       "                0.5,\n",
       "                1.0,\n",
       "                1.5\n",
       "            ],\n",
       "            \"tickcolor\": \"rgb(0, 0, 0)\",\n",
       "            \"ticktext\": [\n",
       "                \"-1.5\",\n",
       "                \"-1.0\",\n",
       "                \"-0.5\",\n",
       "                \"0.0\",\n",
       "                \"0.5\",\n",
       "                \"1.0\",\n",
       "                \"1.5\"\n",
       "            ],\n",
       "            \"linecolor\": \"rgba(0, 0, 0, 1.000)\",\n",
       "            \"showgrid\": true,\n",
       "            \"zeroline\": false,\n",
       "            \"type\": \"-\",\n",
       "            \"tickfont\": {\n",
       "                \"color\": \"rgba(0, 0, 0, 1.000)\",\n",
       "                \"family\": \"sans-serif\",\n",
       "                \"size\": 11\n",
       "            },\n",
       "            \"title\": \"\",\n",
       "            \"zerolinecolor\": \"rgba(0, 0, 0, 1.000)\",\n",
       "            \"mirror\": false\n",
       "        }\n",
       "    },\n",
       "    \"legend_position\": {\n",
       "        \"yanchor\": \"auto\",\n",
       "        \"xanchor\": \"auto\",\n",
       "        \"bordercolor\": \"rgba(0, 0, 0, 1.000)\",\n",
       "        \"bgcolor\": \"rgba(255, 255, 255, 1.000)\",\n",
       "        \"borderwidth\": 1,\n",
       "        \"tracegroupgap\": 0,\n",
       "        \"y\": 1.0,\n",
       "        \"font\": {\n",
       "            \"color\": \"rgba(0, 0, 0, 1.000)\",\n",
       "            \"family\": \"sans-serif\",\n",
       "            \"size\": 11\n",
       "        },\n",
       "        \"title\": {\n",
       "            \"font\": {\n",
       "                \"color\": \"rgba(0, 0, 0, 1.000)\",\n",
       "                \"family\": \"sans-serif\",\n",
       "                \"size\": 15\n",
       "            },\n",
       "            \"text\": \"\"\n",
       "        },\n",
       "        \"traceorder\": \"normal\",\n",
       "        \"x\": 1.0\n",
       "    },\n",
       "    \"width\": 1000\n",
       "}\n",
       ");\n",
       "\n",
       "    });\n",
       "    </script>\n"
      ]
     },
     "execution_count": 35,
     "metadata": {},
     "output_type": "execute_result"
    }
   ],
   "source": [
    "function plot_smallest_residual(A,b)\n",
    "    corners = Float64[[-1,-1,-1] [ 1,-1,-1] [-1, 1,-1] [ 1, 1,-1] [-1,-1, 1] [ 1,-1, 1] [-1, 1, 1] [ 1, 1, 1]];\n",
    "    cube = polyhedron(vrep(corners'), lib)\n",
    "    triangle = [[2.0, 0.0] [-1.0, sqrt(3.)] [-1.0, -sqrt(3)]]*4\n",
    "    x = A \\ b\n",
    "    Ax = A * x\n",
    "    scale = maximum(abs.([b Ax]))\n",
    "    if scale == 0\n",
    "        scale = 1\n",
    "    end\n",
    "    scale *= 1.1\n",
    "    p = plot(b[[1]], b[[2]], b[[3]]\n",
    "        , m=:o\n",
    "        , lim=(-scale, scale)\n",
    "        , size=(1000,1000)\n",
    "        , colorbar=:legend\n",
    "        , label=\"b\"\n",
    "        , hover=\"b:<br>$(@sprintf(\"%+.2f\", b[1]))<br>$(@sprintf(\"%+.2f\", b[2]))<br>$(@sprintf(\"%+.2f\", b[3]))\"\n",
    "    )\n",
    "    plot!(p,Ax[[1]], Ax[[2]], Ax[[3]]\n",
    "        , m=:square\n",
    "        , label=\"Ax\"\n",
    "        , hover=\"x:<br>$(@sprintf(\"%+.2f\", x[1]))<br>$(@sprintf(\"%+.2f\", x[2]))<br>Ax:<br>$(@sprintf(\"%+.2f\", Ax[1]))<br>$(@sprintf(\"%+.2f\", Ax[2]))<br>$(@sprintf(\"%+.2f\", Ax[3]))\"\n",
    "    )\n",
    "    plot!(p,[Ax[1],b[1]],[Ax[2],b[2]],[Ax[3],b[3]]\n",
    "        , label=\"r = b - Ax\"\n",
    "        , hover=\"r:<br>$(@sprintf(\"%+.2f\", b[1] - Ax[1]))<br>$(@sprintf(\"%+.2f\", b[2] - Ax[2]))<br>$(@sprintf(\"%+.2f\", b[3] - Ax[3]))\"\n",
    "        )\n",
    "    Q, R = qr(A, ColumnNorm())\n",
    "    if (abs(R[1,1]) != 0.0)\n",
    "        if abs(R[2,2]) > eps() * 100. * abs(R[1,1])\n",
    "            # plot plane \n",
    "            Qtrivert = Q[:,1:2]*triangle\n",
    "            Qtri = polyhedron(vrep((Q[:,1:2]*triangle)'), lib)\n",
    "            isect = hcat(points(vrep(intersect(cube, Qtri)))...)*scale\n",
    "            plot!(p,isect[1,:],isect[2,:],isect[3,:],st=:mesh3d\n",
    "                , l = 0\n",
    "                , fillalpha=0.5\n",
    "                , label=\"range(A)\"\n",
    "                )\n",
    "            q1 = A[:,1]\n",
    "            q1max = maximum(abs.(q1))\n",
    "            q1 *= scale / q1max\n",
    "            plot!(p,[-q1[1], q1[1]],[-q1[2],q1[2]],[-q1[3],q1[3]]\n",
    "                , label = \"a₁\"\n",
    "                , hover=\"a₁:<br>$(@sprintf(\"%+.2f\", A[1,1]))<br>$(@sprintf(\"%+.2f\", A[2,1]))<br>$(@sprintf(\"%+.2f\", A[3,1]))\"\n",
    "            )\n",
    "            q2 = A[:,2]\n",
    "            q2max = maximum(abs.(q2))\n",
    "            q2 *= scale / q2max\n",
    "            plot!(p,[-q2[1], q2[1]],[-q2[2],q2[2]],[-q2[3],q2[3]]\n",
    "                , label = \"a₂\"\n",
    "                , hover=\"a₂:<br>$(@sprintf(\"%+.2f\", A[1,2]))<br>$(@sprintf(\"%+.2f\", A[2,2]))<br>$(@sprintf(\"%+.2f\", A[3,2]))\"\n",
    "            )\n",
    "        else\n",
    "            # plot line\n",
    "            q = Q[:,1]\n",
    "            qmax = maximum(abs.(q))\n",
    "            q *= scale / qmax\n",
    "            plot!(p,[-q[1], q[1]],[-q[2],q[2]],[-q[3],q[3]]\n",
    "            )\n",
    "        end\n",
    "    end\n",
    "    #plot!(p, corners[1,:], corners[2,:], corners[3,:], l=:none)\n",
    "    return p\n",
    "end;\n",
    "draw(plot_smallest_residual(randn(3,2), randn(3)))"
   ]
  },
  {
   "cell_type": "markdown",
   "metadata": {
    "slideshow": {
     "slide_type": "subslide"
    }
   },
   "source": [
    "### Example: polynomial interpolation (degree $n-1$ through $n$ points) can be a bad fit "
   ]
  },
  {
   "cell_type": "code",
   "execution_count": 36,
   "metadata": {
    "cell_style": "split",
    "hideCode": true
   },
   "outputs": [
    {
     "data": {
      "application/vnd.webio.node+json": {
       "children": [
        {
         "children": [
          {
           "children": [
            {
             "children": [
              {
               "children": [
                {
                 "children": [
                  "n"
                 ],
                 "instanceArgs": {
                  "namespace": "html",
                  "tag": "label"
                 },
                 "nodeType": "DOM",
                 "props": {
                  "className": "interact ",
                  "style": {
                   "padding": "5px 10px 0px 10px"
                  }
                 },
                 "type": "node"
                }
               ],
               "instanceArgs": {
                "namespace": "html",
                "tag": "div"
               },
               "nodeType": "DOM",
               "props": {
                "className": "interact-flex-row-left"
               },
               "type": "node"
              },
              {
               "children": [
                {
                 "children": [],
                 "instanceArgs": {
                  "namespace": "html",
                  "tag": "input"
                 },
                 "nodeType": "DOM",
                 "props": {
                  "attributes": {
                   "data-bind": "numericValue: index, valueUpdate: 'input', event: {change: function (){this.changes(this.changes()+1)}}",
                   "orient": "horizontal",
                   "type": "range"
                  },
                  "className": "slider slider is-fullwidth",
                  "max": 21,
                  "min": 2,
                  "step": 1,
                  "style": {}
                 },
                 "type": "node"
                }
               ],
               "instanceArgs": {
                "namespace": "html",
                "tag": "div"
               },
               "nodeType": "DOM",
               "props": {
                "className": "interact-flex-row-center"
               },
               "type": "node"
              },
              {
               "children": [
                {
                 "children": [],
                 "instanceArgs": {
                  "namespace": "html",
                  "tag": "p"
                 },
                 "nodeType": "DOM",
                 "props": {
                  "attributes": {
                   "data-bind": "text: formatted_val"
                  }
                 },
                 "type": "node"
                }
               ],
               "instanceArgs": {
                "namespace": "html",
                "tag": "div"
               },
               "nodeType": "DOM",
               "props": {
                "className": "interact-flex-row-right"
               },
               "type": "node"
              }
             ],
             "instanceArgs": {
              "namespace": "html",
              "tag": "div"
             },
             "nodeType": "DOM",
             "props": {
              "className": "interact-flex-row interact-widget"
             },
             "type": "node"
            }
           ],
           "instanceArgs": {
            "handlers": {
             "changes": [
              "(function (val){return (val!=this.model[\"changes\"]()) ? (this.valueFromJulia[\"changes\"]=true, this.model[\"changes\"](val)) : undefined})"
             ],
             "index": [
              "(function (val){return (val!=this.model[\"index\"]()) ? (this.valueFromJulia[\"index\"]=true, this.model[\"index\"](val)) : undefined})"
             ]
            },
            "id": "10093488433629681561",
            "imports": {
             "data": [
              {
               "name": "knockout",
               "type": "js",
               "url": "/assetserver/46ca1ae6128ce5cef46ae6c83c10cbc27a02b7d5-knockout.js"
              },
              {
               "name": "knockout_punches",
               "type": "js",
               "url": "/assetserver/ae9f554c0387f76781e87553335a640c2663983d-knockout_punches.js"
              },
              {
               "name": null,
               "type": "js",
               "url": "/assetserver/7eb702f04b44b9a3937e021b87223b20d5750a09-all.js"
              },
              {
               "name": null,
               "type": "css",
               "url": "/assetserver/a7c3e8b7a7fd3e462a7aeaf12ab4ac957d9781c2-style.css"
              },
              {
               "name": null,
               "type": "css",
               "url": "/assetserver/e66482be06717616844d1fa8450722a9c1fd9e07-bulma_confined.min.css"
              }
             ],
             "type": "async_block"
            },
            "mount_callbacks": [
             "function () {\n    var handler = (function (ko, koPunches) {\n    ko.punches.enableAll();\n    ko.bindingHandlers.numericValue = {\n        init: function(element, valueAccessor, allBindings, data, context) {\n            var stringified = ko.observable(ko.unwrap(valueAccessor()));\n            stringified.subscribe(function(value) {\n                var val = parseFloat(value);\n                if (!isNaN(val)) {\n                    valueAccessor()(val);\n                }\n            });\n            valueAccessor().subscribe(function(value) {\n                var str = JSON.stringify(value);\n                if ((str == \"0\") && ([\"-0\", \"-0.\"].indexOf(stringified()) >= 0))\n                     return;\n                 if ([\"null\", \"\"].indexOf(str) >= 0)\n                     return;\n                stringified(str);\n            });\n            ko.applyBindingsToNode(\n                element,\n                {\n                    value: stringified,\n                    valueUpdate: allBindings.get('valueUpdate'),\n                },\n                context,\n            );\n        }\n    };\n    var json_data = {\"formatted_vals\":[\"2\",\"3\",\"4\",\"5\",\"6\",\"7\",\"8\",\"9\",\"10\",\"11\",\"12\",\"13\",\"14\",\"15\",\"16\",\"17\",\"18\",\"19\",\"20\",\"21\"],\"changes\":WebIO.getval({\"name\":\"changes\",\"scope\":\"10093488433629681561\",\"id\":\"18288996532057175255\",\"type\":\"observable\"}),\"index\":WebIO.getval({\"name\":\"index\",\"scope\":\"10093488433629681561\",\"id\":\"11849217862170383083\",\"type\":\"observable\"})};\n    var self = this;\n    function AppViewModel() {\n        for (var key in json_data) {\n            var el = json_data[key];\n            this[key] = Array.isArray(el) ? ko.observableArray(el) : ko.observable(el);\n        }\n        \n        [this[\"formatted_val\"]=ko.computed(    function(){\n        return this.formatted_vals()[parseInt(this.index())-(2)];\n    }\n,this)]\n        [this[\"changes\"].subscribe((function (val){!(this.valueFromJulia[\"changes\"]) ? (WebIO.setval({\"name\":\"changes\",\"scope\":\"10093488433629681561\",\"id\":\"18288996532057175255\",\"type\":\"observable\"},val)) : undefined; return this.valueFromJulia[\"changes\"]=false}),self),this[\"index\"].subscribe((function (val){!(this.valueFromJulia[\"index\"]) ? (WebIO.setval({\"name\":\"index\",\"scope\":\"10093488433629681561\",\"id\":\"11849217862170383083\",\"type\":\"observable\"},val)) : undefined; return this.valueFromJulia[\"index\"]=false}),self)]\n        \n    }\n    self.model = new AppViewModel();\n    self.valueFromJulia = {};\n    for (var key in json_data) {\n        self.valueFromJulia[key] = false;\n    }\n    ko.applyBindings(self.model, self.dom);\n}\n);\n    (WebIO.importBlock({\"data\":[{\"name\":\"knockout\",\"type\":\"js\",\"url\":\"/assetserver/46ca1ae6128ce5cef46ae6c83c10cbc27a02b7d5-knockout.js\"},{\"name\":\"knockout_punches\",\"type\":\"js\",\"url\":\"/assetserver/ae9f554c0387f76781e87553335a640c2663983d-knockout_punches.js\"}],\"type\":\"async_block\"})).then((imports) => handler.apply(this, imports));\n}\n"
            ],
            "observables": {
             "changes": {
              "id": "18288996532057175255",
              "sync": false,
              "value": 0
             },
             "index": {
              "id": "11849217862170383083",
              "sync": true,
              "value": 11
             }
            },
            "systemjs_options": null
           },
           "nodeType": "Scope",
           "props": {},
           "type": "node"
          }
         ],
         "instanceArgs": {
          "namespace": "html",
          "tag": "div"
         },
         "nodeType": "DOM",
         "props": {
          "className": "field interact-widget"
         },
         "type": "node"
        },
        {
         "children": [
          {
           "children": [],
           "instanceArgs": {
            "id": "11069242751487063521",
            "name": "obs-node"
           },
           "nodeType": "ObservableNode",
           "props": {},
           "type": "node"
          }
         ],
         "instanceArgs": {
          "handlers": {},
          "id": "2386772102721440843",
          "imports": {
           "data": [],
           "type": "async_block"
          },
          "mount_callbacks": [],
          "observables": {
           "obs-node": {
            "id": "11069242751487063521",
            "sync": false,
            "value": {
             "children": [
              {
               "children": [
                "||V||₂ ||V⁻¹||₂ = 1.4e+04",
                {
                 "children": [],
                 "instanceArgs": {
                  "namespace": "html",
                  "tag": "div"
                 },
                 "nodeType": "DOM",
                 "props": {
                  "setInnerHtml": "<?xml version=\"1.0\" encoding=\"utf-8\"?>\n<svg xmlns=\"http://www.w3.org/2000/svg\" xmlns:xlink=\"http://www.w3.org/1999/xlink\" width=\"900\" height=\"550\" viewBox=\"0 0 3600 2200\">\n<defs>\n  <clipPath id=\"clip470\">\n    <rect x=\"0\" y=\"0\" width=\"3600\" height=\"2200\"/>\n  </clipPath>\n</defs>\n<path clip-path=\"url(#clip470)\" d=\"\nM0 2200 L3600 2200 L3600 0 L0 0  Z\n  \" fill=\"#ffffff\" fill-rule=\"evenodd\" fill-opacity=\"1\"/>\n<defs>\n  <clipPath id=\"clip471\">\n    <rect x=\"720\" y=\"0\" width=\"2521\" height=\"2200\"/>\n  </clipPath>\n</defs>\n<path clip-path=\"url(#clip470)\" d=\"\nM159.478 2083.33 L3552.76 2083.33 L3552.76 47.2441 L159.478 47.2441  Z\n  \" fill=\"#ffffff\" fill-rule=\"evenodd\" fill-opacity=\"1\"/>\n<defs>\n  <clipPath id=\"clip472\">\n    <rect x=\"159\" y=\"47\" width=\"3394\" height=\"2037\"/>\n  </clipPath>\n</defs>\n<polyline clip-path=\"url(#clip472)\" style=\"stroke:#000000; stroke-linecap:butt; stroke-linejoin:round; stroke-width:2; stroke-opacity:0.1; fill:none\" points=\"\n  255.514,2083.33 255.514,47.2441 \n  \"/>\n<polyline clip-path=\"url(#clip472)\" style=\"stroke:#000000; stroke-linecap:butt; stroke-linejoin:round; stroke-width:2; stroke-opacity:0.1; fill:none\" points=\"\n  1055.82,2083.33 1055.82,47.2441 \n  \"/>\n<polyline clip-path=\"url(#clip472)\" style=\"stroke:#000000; stroke-linecap:butt; stroke-linejoin:round; stroke-width:2; stroke-opacity:0.1; fill:none\" points=\"\n  1856.12,2083.33 1856.12,47.2441 \n  \"/>\n<polyline clip-path=\"url(#clip472)\" style=\"stroke:#000000; stroke-linecap:butt; stroke-linejoin:round; stroke-width:2; stroke-opacity:0.1; fill:none\" points=\"\n  2656.42,2083.33 2656.42,47.2441 \n  \"/>\n<polyline clip-path=\"url(#clip472)\" style=\"stroke:#000000; stroke-linecap:butt; stroke-linejoin:round; stroke-width:2; stroke-opacity:0.1; fill:none\" points=\"\n  3456.72,2083.33 3456.72,47.2441 \n  \"/>\n<polyline clip-path=\"url(#clip470)\" style=\"stroke:#000000; stroke-linecap:butt; stroke-linejoin:round; stroke-width:4; stroke-opacity:1; fill:none\" points=\"\n  159.478,2083.33 3552.76,2083.33 \n  \"/>\n<polyline clip-path=\"url(#clip470)\" style=\"stroke:#000000; stroke-linecap:butt; stroke-linejoin:round; stroke-width:4; stroke-opacity:1; fill:none\" points=\"\n  255.514,2083.33 255.514,2064.43 \n  \"/>\n<polyline clip-path=\"url(#clip470)\" style=\"stroke:#000000; stroke-linecap:butt; stroke-linejoin:round; stroke-width:4; stroke-opacity:1; fill:none\" points=\"\n  1055.82,2083.33 1055.82,2064.43 \n  \"/>\n<polyline clip-path=\"url(#clip470)\" style=\"stroke:#000000; stroke-linecap:butt; stroke-linejoin:round; stroke-width:4; stroke-opacity:1; fill:none\" points=\"\n  1856.12,2083.33 1856.12,2064.43 \n  \"/>\n<polyline clip-path=\"url(#clip470)\" style=\"stroke:#000000; stroke-linecap:butt; stroke-linejoin:round; stroke-width:4; stroke-opacity:1; fill:none\" points=\"\n  2656.42,2083.33 2656.42,2064.43 \n  \"/>\n<polyline clip-path=\"url(#clip470)\" style=\"stroke:#000000; stroke-linecap:butt; stroke-linejoin:round; stroke-width:4; stroke-opacity:1; fill:none\" points=\"\n  3456.72,2083.33 3456.72,2064.43 \n  \"/>\n<path clip-path=\"url(#clip470)\" d=\"M202.042 2138.5 L231.718 2138.5 L231.718 2142.43 L202.042 2142.43 L202.042 2138.5 Z\" fill=\"#000000\" fill-rule=\"evenodd\" fill-opacity=\"1\" /><path clip-path=\"url(#clip470)\" d=\"M242.621 2151.39 L250.259 2151.39 L250.259 2125.03 L241.949 2126.69 L241.949 2122.43 L250.213 2120.77 L254.889 2120.77 L254.889 2151.39 L262.528 2151.39 L262.528 2155.33 L242.621 2155.33 L242.621 2151.39 Z\" fill=\"#000000\" fill-rule=\"evenodd\" fill-opacity=\"1\" /><path clip-path=\"url(#clip470)\" d=\"M271.972 2149.45 L276.857 2149.45 L276.857 2155.33 L271.972 2155.33 L271.972 2149.45 Z\" fill=\"#000000\" fill-rule=\"evenodd\" fill-opacity=\"1\" /><path clip-path=\"url(#clip470)\" d=\"M297.042 2123.85 Q293.431 2123.85 291.602 2127.41 Q289.796 2130.95 289.796 2138.08 Q289.796 2145.19 291.602 2148.75 Q293.431 2152.3 297.042 2152.3 Q300.676 2152.3 302.481 2148.75 Q304.31 2145.19 304.31 2138.08 Q304.31 2130.95 302.481 2127.41 Q300.676 2123.85 297.042 2123.85 M297.042 2120.14 Q302.852 2120.14 305.907 2124.75 Q308.986 2129.33 308.986 2138.08 Q308.986 2146.81 305.907 2151.42 Q302.852 2156 297.042 2156 Q291.231 2156 288.153 2151.42 Q285.097 2146.81 285.097 2138.08 Q285.097 2129.33 288.153 2124.75 Q291.231 2120.14 297.042 2120.14 Z\" fill=\"#000000\" fill-rule=\"evenodd\" fill-opacity=\"1\" /><path clip-path=\"url(#clip470)\" d=\"M1002.84 2138.5 L1032.52 2138.5 L1032.52 2142.43 L1002.84 2142.43 L1002.84 2138.5 Z\" fill=\"#000000\" fill-rule=\"evenodd\" fill-opacity=\"1\" /><path clip-path=\"url(#clip470)\" d=\"M1052.61 2123.85 Q1049 2123.85 1047.17 2127.41 Q1045.36 2130.95 1045.36 2138.08 Q1045.36 2145.19 1047.17 2148.75 Q1049 2152.3 1052.61 2152.3 Q1056.24 2152.3 1058.05 2148.75 Q1059.88 2145.19 1059.88 2138.08 Q1059.88 2130.95 1058.05 2127.41 Q1056.24 2123.85 1052.61 2123.85 M1052.61 2120.14 Q1058.42 2120.14 1061.48 2124.75 Q1064.55 2129.33 1064.55 2138.08 Q1064.55 2146.81 1061.48 2151.42 Q1058.42 2156 1052.61 2156 Q1046.8 2156 1043.72 2151.42 Q1040.67 2146.81 1040.67 2138.08 Q1040.67 2129.33 1043.72 2124.75 Q1046.8 2120.14 1052.61 2120.14 Z\" fill=\"#000000\" fill-rule=\"evenodd\" fill-opacity=\"1\" /><path clip-path=\"url(#clip470)\" d=\"M1072.77 2149.45 L1077.66 2149.45 L1077.66 2155.33 L1072.77 2155.33 L1072.77 2149.45 Z\" fill=\"#000000\" fill-rule=\"evenodd\" fill-opacity=\"1\" /><path clip-path=\"url(#clip470)\" d=\"M1087.89 2120.77 L1106.24 2120.77 L1106.24 2124.7 L1092.17 2124.7 L1092.17 2133.18 Q1093.19 2132.83 1094.21 2132.67 Q1095.23 2132.48 1096.24 2132.48 Q1102.03 2132.48 1105.41 2135.65 Q1108.79 2138.82 1108.79 2144.24 Q1108.79 2149.82 1105.32 2152.92 Q1101.85 2156 1095.53 2156 Q1093.35 2156 1091.08 2155.63 Q1088.84 2155.26 1086.43 2154.52 L1086.43 2149.82 Q1088.51 2150.95 1090.73 2151.51 Q1092.96 2152.06 1095.43 2152.06 Q1099.44 2152.06 1101.78 2149.96 Q1104.11 2147.85 1104.11 2144.24 Q1104.11 2140.63 1101.78 2138.52 Q1099.44 2136.42 1095.43 2136.42 Q1093.56 2136.42 1091.68 2136.83 Q1089.83 2137.25 1087.89 2138.13 L1087.89 2120.77 Z\" fill=\"#000000\" fill-rule=\"evenodd\" fill-opacity=\"1\" /><path clip-path=\"url(#clip470)\" d=\"M1833.5 2123.85 Q1829.89 2123.85 1828.06 2127.41 Q1826.26 2130.95 1826.26 2138.08 Q1826.26 2145.19 1828.06 2148.75 Q1829.89 2152.3 1833.5 2152.3 Q1837.14 2152.3 1838.94 2148.75 Q1840.77 2145.19 1840.77 2138.08 Q1840.77 2130.95 1838.94 2127.41 Q1837.14 2123.85 1833.5 2123.85 M1833.5 2120.14 Q1839.31 2120.14 1842.37 2124.75 Q1845.45 2129.33 1845.45 2138.08 Q1845.45 2146.81 1842.37 2151.42 Q1839.31 2156 1833.5 2156 Q1827.69 2156 1824.61 2151.42 Q1821.56 2146.81 1821.56 2138.08 Q1821.56 2129.33 1824.61 2124.75 Q1827.69 2120.14 1833.5 2120.14 Z\" fill=\"#000000\" fill-rule=\"evenodd\" fill-opacity=\"1\" /><path clip-path=\"url(#clip470)\" d=\"M1853.66 2149.45 L1858.55 2149.45 L1858.55 2155.33 L1853.66 2155.33 L1853.66 2149.45 Z\" fill=\"#000000\" fill-rule=\"evenodd\" fill-opacity=\"1\" /><path clip-path=\"url(#clip470)\" d=\"M1878.73 2123.85 Q1875.12 2123.85 1873.29 2127.41 Q1871.49 2130.95 1871.49 2138.08 Q1871.49 2145.19 1873.29 2148.75 Q1875.12 2152.3 1878.73 2152.3 Q1882.37 2152.3 1884.17 2148.75 Q1886 2145.19 1886 2138.08 Q1886 2130.95 1884.17 2127.41 Q1882.37 2123.85 1878.73 2123.85 M1878.73 2120.14 Q1884.54 2120.14 1887.6 2124.75 Q1890.68 2129.33 1890.68 2138.08 Q1890.68 2146.81 1887.6 2151.42 Q1884.54 2156 1878.73 2156 Q1872.92 2156 1869.84 2151.42 Q1866.79 2146.81 1866.79 2138.08 Q1866.79 2129.33 1869.84 2124.75 Q1872.92 2120.14 1878.73 2120.14 Z\" fill=\"#000000\" fill-rule=\"evenodd\" fill-opacity=\"1\" /><path clip-path=\"url(#clip470)\" d=\"M2634.3 2123.85 Q2630.69 2123.85 2628.86 2127.41 Q2627.06 2130.95 2627.06 2138.08 Q2627.06 2145.19 2628.86 2148.75 Q2630.69 2152.3 2634.3 2152.3 Q2637.93 2152.3 2639.74 2148.75 Q2641.57 2145.19 2641.57 2138.08 Q2641.57 2130.95 2639.74 2127.41 Q2637.93 2123.85 2634.3 2123.85 M2634.3 2120.14 Q2640.11 2120.14 2643.17 2124.75 Q2646.24 2129.33 2646.24 2138.08 Q2646.24 2146.81 2643.17 2151.42 Q2640.11 2156 2634.3 2156 Q2628.49 2156 2625.41 2151.42 Q2622.36 2146.81 2622.36 2138.08 Q2622.36 2129.33 2625.41 2124.75 Q2628.49 2120.14 2634.3 2120.14 Z\" fill=\"#000000\" fill-rule=\"evenodd\" fill-opacity=\"1\" /><path clip-path=\"url(#clip470)\" d=\"M2654.46 2149.45 L2659.35 2149.45 L2659.35 2155.33 L2654.46 2155.33 L2654.46 2149.45 Z\" fill=\"#000000\" fill-rule=\"evenodd\" fill-opacity=\"1\" /><path clip-path=\"url(#clip470)\" d=\"M2669.58 2120.77 L2687.93 2120.77 L2687.93 2124.7 L2673.86 2124.7 L2673.86 2133.18 Q2674.88 2132.83 2675.9 2132.67 Q2676.92 2132.48 2677.93 2132.48 Q2683.72 2132.48 2687.1 2135.65 Q2690.48 2138.82 2690.48 2144.24 Q2690.48 2149.82 2687.01 2152.92 Q2683.54 2156 2677.22 2156 Q2675.04 2156 2672.77 2155.63 Q2670.53 2155.26 2668.12 2154.52 L2668.12 2149.82 Q2670.2 2150.95 2672.43 2151.51 Q2674.65 2152.06 2677.12 2152.06 Q2681.13 2152.06 2683.47 2149.96 Q2685.8 2147.85 2685.8 2144.24 Q2685.8 2140.63 2683.47 2138.52 Q2681.13 2136.42 2677.12 2136.42 Q2675.25 2136.42 2673.37 2136.83 Q2671.52 2137.25 2669.58 2138.13 L2669.58 2120.77 Z\" fill=\"#000000\" fill-rule=\"evenodd\" fill-opacity=\"1\" /><path clip-path=\"url(#clip470)\" d=\"M3423.87 2151.39 L3431.51 2151.39 L3431.51 2125.03 L3423.2 2126.69 L3423.2 2122.43 L3431.47 2120.77 L3436.14 2120.77 L3436.14 2151.39 L3443.78 2151.39 L3443.78 2155.33 L3423.87 2155.33 L3423.87 2151.39 Z\" fill=\"#000000\" fill-rule=\"evenodd\" fill-opacity=\"1\" /><path clip-path=\"url(#clip470)\" d=\"M3453.22 2149.45 L3458.11 2149.45 L3458.11 2155.33 L3453.22 2155.33 L3453.22 2149.45 Z\" fill=\"#000000\" fill-rule=\"evenodd\" fill-opacity=\"1\" /><path clip-path=\"url(#clip470)\" d=\"M3478.29 2123.85 Q3474.68 2123.85 3472.85 2127.41 Q3471.05 2130.95 3471.05 2138.08 Q3471.05 2145.19 3472.85 2148.75 Q3474.68 2152.3 3478.29 2152.3 Q3481.93 2152.3 3483.73 2148.75 Q3485.56 2145.19 3485.56 2138.08 Q3485.56 2130.95 3483.73 2127.41 Q3481.93 2123.85 3478.29 2123.85 M3478.29 2120.14 Q3484.1 2120.14 3487.16 2124.75 Q3490.24 2129.33 3490.24 2138.08 Q3490.24 2146.81 3487.16 2151.42 Q3484.1 2156 3478.29 2156 Q3472.48 2156 3469.4 2151.42 Q3466.35 2146.81 3466.35 2138.08 Q3466.35 2129.33 3469.4 2124.75 Q3472.48 2120.14 3478.29 2120.14 Z\" fill=\"#000000\" fill-rule=\"evenodd\" fill-opacity=\"1\" /><polyline clip-path=\"url(#clip472)\" style=\"stroke:#000000; stroke-linecap:butt; stroke-linejoin:round; stroke-width:2; stroke-opacity:0.1; fill:none\" points=\"\n  159.478,2083.33 3552.76,2083.33 \n  \"/>\n<polyline clip-path=\"url(#clip472)\" style=\"stroke:#000000; stroke-linecap:butt; stroke-linejoin:round; stroke-width:2; stroke-opacity:0.1; fill:none\" points=\"\n  159.478,1574.31 3552.76,1574.31 \n  \"/>\n<polyline clip-path=\"url(#clip472)\" style=\"stroke:#000000; stroke-linecap:butt; stroke-linejoin:round; stroke-width:2; stroke-opacity:0.1; fill:none\" points=\"\n  159.478,1065.29 3552.76,1065.29 \n  \"/>\n<polyline clip-path=\"url(#clip472)\" style=\"stroke:#000000; stroke-linecap:butt; stroke-linejoin:round; stroke-width:2; stroke-opacity:0.1; fill:none\" points=\"\n  159.478,556.265 3552.76,556.265 \n  \"/>\n<polyline clip-path=\"url(#clip472)\" style=\"stroke:#000000; stroke-linecap:butt; stroke-linejoin:round; stroke-width:2; stroke-opacity:0.1; fill:none\" points=\"\n  159.478,47.2441 3552.76,47.2441 \n  \"/>\n<polyline clip-path=\"url(#clip470)\" style=\"stroke:#000000; stroke-linecap:butt; stroke-linejoin:round; stroke-width:4; stroke-opacity:1; fill:none\" points=\"\n  159.478,2083.33 159.478,47.2441 \n  \"/>\n<polyline clip-path=\"url(#clip470)\" style=\"stroke:#000000; stroke-linecap:butt; stroke-linejoin:round; stroke-width:4; stroke-opacity:1; fill:none\" points=\"\n  159.478,2083.33 178.376,2083.33 \n  \"/>\n<polyline clip-path=\"url(#clip470)\" style=\"stroke:#000000; stroke-linecap:butt; stroke-linejoin:round; stroke-width:4; stroke-opacity:1; fill:none\" points=\"\n  159.478,1574.31 178.376,1574.31 \n  \"/>\n<polyline clip-path=\"url(#clip470)\" style=\"stroke:#000000; stroke-linecap:butt; stroke-linejoin:round; stroke-width:4; stroke-opacity:1; fill:none\" points=\"\n  159.478,1065.29 178.376,1065.29 \n  \"/>\n<polyline clip-path=\"url(#clip470)\" style=\"stroke:#000000; stroke-linecap:butt; stroke-linejoin:round; stroke-width:4; stroke-opacity:1; fill:none\" points=\"\n  159.478,556.265 178.376,556.265 \n  \"/>\n<polyline clip-path=\"url(#clip470)\" style=\"stroke:#000000; stroke-linecap:butt; stroke-linejoin:round; stroke-width:4; stroke-opacity:1; fill:none\" points=\"\n  159.478,47.2441 178.376,47.2441 \n  \"/>\n<path clip-path=\"url(#clip470)\" d=\"M45.3625 2083.78 L75.0383 2083.78 L75.0383 2087.71 L45.3625 2087.71 L45.3625 2083.78 Z\" fill=\"#000000\" fill-rule=\"evenodd\" fill-opacity=\"1\" /><path clip-path=\"url(#clip470)\" d=\"M89.1586 2096.67 L105.478 2096.67 L105.478 2100.61 L83.5336 2100.61 L83.5336 2096.67 Q86.1956 2093.92 90.7789 2089.29 Q95.3854 2084.64 96.5659 2083.29 Q98.8113 2080.77 99.6909 2079.03 Q100.594 2077.27 100.594 2075.58 Q100.594 2072.83 98.6492 2071.09 Q96.728 2069.36 93.6261 2069.36 Q91.4271 2069.36 88.9734 2070.12 Q86.5428 2070.89 83.7651 2072.44 L83.7651 2067.71 Q86.5891 2066.58 89.0428 2066 Q91.4965 2065.42 93.5335 2065.42 Q98.9039 2065.42 102.098 2068.11 Q105.293 2070.79 105.293 2075.28 Q105.293 2077.41 104.483 2079.33 Q103.696 2081.23 101.589 2083.83 Q101.01 2084.5 97.9085 2087.71 Q94.8067 2090.91 89.1586 2096.67 Z\" fill=\"#000000\" fill-rule=\"evenodd\" fill-opacity=\"1\" /><path clip-path=\"url(#clip470)\" d=\"M44.9921 1574.76 L74.6679 1574.76 L74.6679 1578.69 L44.9921 1578.69 L44.9921 1574.76 Z\" fill=\"#000000\" fill-rule=\"evenodd\" fill-opacity=\"1\" /><path clip-path=\"url(#clip470)\" d=\"M85.5706 1587.65 L93.2095 1587.65 L93.2095 1561.29 L84.8993 1562.95 L84.8993 1558.69 L93.1632 1557.03 L97.8391 1557.03 L97.8391 1587.65 L105.478 1587.65 L105.478 1591.59 L85.5706 1591.59 L85.5706 1587.65 Z\" fill=\"#000000\" fill-rule=\"evenodd\" fill-opacity=\"1\" /><path clip-path=\"url(#clip470)\" d=\"M93.5335 1051.08 Q89.9224 1051.08 88.0937 1054.65 Q86.2882 1058.19 86.2882 1065.32 Q86.2882 1072.43 88.0937 1075.99 Q89.9224 1079.53 93.5335 1079.53 Q97.1678 1079.53 98.9733 1075.99 Q100.802 1072.43 100.802 1065.32 Q100.802 1058.19 98.9733 1054.65 Q97.1678 1051.08 93.5335 1051.08 M93.5335 1047.38 Q99.3437 1047.38 102.399 1051.99 Q105.478 1056.57 105.478 1065.32 Q105.478 1074.05 102.399 1078.65 Q99.3437 1083.24 93.5335 1083.24 Q87.7234 1083.24 84.6447 1078.65 Q81.5892 1074.05 81.5892 1065.32 Q81.5892 1056.57 84.6447 1051.99 Q87.7234 1047.38 93.5335 1047.38 Z\" fill=\"#000000\" fill-rule=\"evenodd\" fill-opacity=\"1\" /><path clip-path=\"url(#clip470)\" d=\"M85.5706 569.61 L93.2095 569.61 L93.2095 543.244 L84.8993 544.911 L84.8993 540.652 L93.1632 538.985 L97.8391 538.985 L97.8391 569.61 L105.478 569.61 L105.478 573.545 L85.5706 573.545 L85.5706 569.61 Z\" fill=\"#000000\" fill-rule=\"evenodd\" fill-opacity=\"1\" /><path clip-path=\"url(#clip470)\" d=\"M89.1586 60.5889 L105.478 60.5889 L105.478 64.5241 L83.5336 64.5241 L83.5336 60.5889 Q86.1956 57.8343 90.7789 53.2047 Q95.3854 48.552 96.5659 47.2094 Q98.8113 44.6862 99.6909 42.9501 Q100.594 41.1909 100.594 39.5011 Q100.594 36.7465 98.6492 35.0104 Q96.728 33.2743 93.6261 33.2743 Q91.4271 33.2743 88.9734 34.0381 Q86.5428 34.802 83.7651 36.3529 L83.7651 31.6308 Q86.5891 30.4965 89.0428 29.9178 Q91.4965 29.3391 93.5335 29.3391 Q98.9039 29.3391 102.098 32.0243 Q105.293 34.7094 105.293 39.2002 Q105.293 41.3298 104.483 43.2511 Q103.696 45.1492 101.589 47.7418 Q101.01 48.4131 97.9085 51.6306 Q94.8067 54.8251 89.1586 60.5889 Z\" fill=\"#000000\" fill-rule=\"evenodd\" fill-opacity=\"1\" /><polyline clip-path=\"url(#clip472)\" style=\"stroke:#009af9; stroke-linecap:butt; stroke-linejoin:round; stroke-width:20; stroke-opacity:1; fill:none\" points=\"\n  255.514,1045.71 271.601,1045.32 287.687,1044.93 303.773,1044.52 319.86,1044.1 335.946,1043.67 352.033,1043.23 368.119,1042.77 384.206,1042.3 400.292,1041.81 \n  416.379,1041.31 432.465,1040.79 448.552,1040.25 464.638,1039.7 480.725,1039.13 496.811,1038.54 512.897,1037.93 528.984,1037.3 545.07,1036.65 561.157,1035.97 \n  577.243,1035.27 593.33,1034.55 609.416,1033.8 625.503,1033.02 641.589,1032.22 657.676,1031.39 673.762,1030.52 689.849,1029.62 705.935,1028.69 722.021,1027.72 \n  738.108,1026.72 754.194,1025.67 770.281,1024.58 786.367,1023.45 802.454,1022.27 818.54,1021.04 834.627,1019.77 850.713,1018.43 866.8,1017.04 882.886,1015.59 \n  898.973,1014.08 915.059,1012.49 931.145,1010.84 947.232,1009.11 963.318,1007.3 979.405,1005.4 995.491,1003.42 1011.58,1001.34 1027.66,999.157 1043.75,996.868 \n  1059.84,994.464 1075.92,991.939 1092.01,989.284 1108.1,986.491 1124.18,983.552 1140.27,980.456 1156.36,977.194 1172.44,973.754 1188.53,970.124 1204.62,966.292 \n  1220.7,962.244 1236.79,957.965 1252.87,953.439 1268.96,948.65 1285.05,943.58 1301.13,938.209 1317.22,932.517 1333.31,926.483 1349.39,920.085 1365.48,913.297 \n  1381.57,906.095 1397.65,898.453 1413.74,890.345 1429.83,881.743 1445.91,872.621 1462,862.952 1478.09,852.71 1494.17,841.872 1510.26,830.418 1526.34,818.334 \n  1542.43,805.608 1558.52,792.242 1574.6,778.245 1590.69,763.641 1606.78,748.47 1622.86,732.793 1638.95,716.693 1655.04,700.281 1671.12,683.699 1687.21,667.116 \n  1703.3,650.739 1719.38,634.804 1735.47,619.575 1751.55,605.337 1767.64,592.388 1783.73,581.028 1799.81,571.538 1815.9,564.174 1831.99,559.141 1848.07,556.586 \n  1864.16,556.586 1880.25,559.141 1896.33,564.174 1912.42,571.538 1928.51,581.028 1944.59,592.388 1960.68,605.337 1976.77,619.575 1992.85,634.804 2008.94,650.739 \n  2025.02,667.116 2041.11,683.699 2057.2,700.281 2073.28,716.693 2089.37,732.793 2105.46,748.47 2121.54,763.641 2137.63,778.245 2153.72,792.242 2169.8,805.608 \n  2185.89,818.334 2201.98,830.418 2218.06,841.872 2234.15,852.71 2250.24,862.952 2266.32,872.621 2282.41,881.743 2298.49,890.345 2314.58,898.453 2330.67,906.095 \n  2346.75,913.297 2362.84,920.085 2378.93,926.483 2395.01,932.517 2411.1,938.209 2427.19,943.58 2443.27,948.65 2459.36,953.439 2475.45,957.965 2491.53,962.244 \n  2507.62,966.292 2523.71,970.124 2539.79,973.754 2555.88,977.194 2571.96,980.456 2588.05,983.552 2604.14,986.491 2620.22,989.284 2636.31,991.939 2652.4,994.464 \n  2668.48,996.868 2684.57,999.157 2700.66,1001.34 2716.74,1003.42 2732.83,1005.4 2748.92,1007.3 2765,1009.11 2781.09,1010.84 2797.17,1012.49 2813.26,1014.08 \n  2829.35,1015.59 2845.43,1017.04 2861.52,1018.43 2877.61,1019.77 2893.69,1021.04 2909.78,1022.27 2925.87,1023.45 2941.95,1024.58 2958.04,1025.67 2974.13,1026.72 \n  2990.21,1027.72 3006.3,1028.69 3022.39,1029.62 3038.47,1030.52 3054.56,1031.39 3070.64,1032.22 3086.73,1033.02 3102.82,1033.8 3118.9,1034.55 3134.99,1035.27 \n  3151.08,1035.97 3167.16,1036.65 3183.25,1037.3 3199.34,1037.93 3215.42,1038.54 3231.51,1039.13 3247.6,1039.7 3263.68,1040.25 3279.77,1040.79 3295.86,1041.31 \n  3311.94,1041.81 3328.03,1042.3 3344.11,1042.77 3360.2,1043.23 3376.29,1043.67 3392.37,1044.1 3408.46,1044.52 3424.55,1044.93 3440.63,1045.32 3456.72,1045.71 \n  \n  \"/>\n<polyline clip-path=\"url(#clip472)\" style=\"stroke:#e26f46; stroke-linecap:butt; stroke-linejoin:round; stroke-width:20; stroke-opacity:1; fill:none\" points=\"\n  255.514,1045.71 271.601,694.191 287.687,436.87 303.773,258.366 319.86,145.111 335.946,85.1827 352.033,68.1625 368.119,84.9904 384.206,127.838 400.292,189.986 \n  416.379,265.715 432.465,350.2 448.552,439.414 464.638,530.043 480.725,619.4 496.811,705.356 512.897,786.264 528.984,860.903 545.07,928.418 561.157,988.266 \n  577.243,1040.17 593.33,1084.09 609.416,1120.15 625.503,1148.63 641.589,1169.95 657.676,1184.59 673.762,1193.13 689.849,1196.17 705.935,1194.36 722.021,1188.35 \n  738.108,1178.79 754.194,1166.31 770.281,1151.53 786.367,1135.03 802.454,1117.35 818.54,1099 834.627,1080.43 850.713,1062.05 866.8,1044.2 882.886,1027.2 \n  898.973,1011.3 915.059,996.708 931.145,983.575 947.232,972.013 963.318,962.09 979.405,953.833 995.491,947.231 1011.58,942.24 1027.66,938.786 1043.75,936.766 \n  1059.84,936.057 1075.92,936.515 1092.01,937.98 1108.1,940.28 1124.18,943.235 1140.27,946.66 1156.36,950.366 1172.44,954.166 1188.53,957.877 1204.62,961.321 \n  1220.7,964.329 1236.79,966.741 1252.87,968.413 1268.96,969.211 1285.05,969.018 1301.13,967.734 1317.22,965.276 1333.31,961.578 1349.39,956.594 1365.48,950.295 \n  1381.57,942.671 1397.65,933.73 1413.74,923.5 1429.83,912.023 1445.91,899.359 1462,885.584 1478.09,870.788 1494.17,855.073 1510.26,838.556 1526.34,821.362 \n  1542.43,803.625 1558.52,785.487 1574.6,767.098 1590.69,748.61 1606.78,730.178 1622.86,711.959 1638.95,694.108 1655.04,676.78 1671.12,660.124 1687.21,644.286 \n  1703.3,629.404 1719.38,615.608 1735.47,603.02 1751.55,591.751 1767.64,581.899 1783.73,573.553 1799.81,566.785 1815.9,561.656 1831.99,558.212 1848.07,556.482 \n  1864.16,556.482 1880.25,558.212 1896.33,561.656 1912.42,566.785 1928.51,573.553 1944.59,581.899 1960.68,591.751 1976.77,603.02 1992.85,615.608 2008.94,629.404 \n  2025.02,644.286 2041.11,660.124 2057.2,676.78 2073.28,694.108 2089.37,711.959 2105.46,730.178 2121.54,748.61 2137.63,767.098 2153.72,785.487 2169.8,803.625 \n  2185.89,821.362 2201.98,838.556 2218.06,855.073 2234.15,870.788 2250.24,885.584 2266.32,899.359 2282.41,912.023 2298.49,923.5 2314.58,933.73 2330.67,942.671 \n  2346.75,950.295 2362.84,956.594 2378.93,961.578 2395.01,965.276 2411.1,967.734 2427.19,969.018 2443.27,969.211 2459.36,968.413 2475.45,966.741 2491.53,964.329 \n  2507.62,961.321 2523.71,957.877 2539.79,954.166 2555.88,950.366 2571.96,946.66 2588.05,943.235 2604.14,940.28 2620.22,937.98 2636.31,936.515 2652.4,936.057 \n  2668.48,936.766 2684.57,938.786 2700.66,942.24 2716.74,947.231 2732.83,953.833 2748.92,962.09 2765,972.013 2781.09,983.575 2797.17,996.708 2813.26,1011.3 \n  2829.35,1027.2 2845.43,1044.2 2861.52,1062.05 2877.61,1080.43 2893.69,1099 2909.78,1117.35 2925.87,1135.03 2941.95,1151.53 2958.04,1166.31 2974.13,1178.79 \n  2990.21,1188.35 3006.3,1194.36 3022.39,1196.17 3038.47,1193.13 3054.56,1184.59 3070.64,1169.95 3086.73,1148.63 3102.82,1120.15 3118.9,1084.09 3134.99,1040.17 \n  3151.08,988.266 3167.16,928.418 3183.25,860.903 3199.34,786.264 3215.42,705.356 3231.51,619.4 3247.6,530.043 3263.68,439.414 3279.77,350.2 3295.86,265.715 \n  3311.94,189.986 3328.03,127.838 3344.11,84.9904 3360.2,68.1625 3376.29,85.1827 3392.37,145.111 3408.46,258.366 3424.55,436.87 3440.63,694.191 3456.72,1045.71 \n  \n  \"/>\n<polyline clip-path=\"url(#clip472)\" style=\"stroke:#3da44d; stroke-linecap:butt; stroke-linejoin:round; stroke-width:0; stroke-opacity:1; fill:none\" points=\"\n  255.514,1045.71 575.635,1035.34 895.755,1014.38 1215.88,963.482 1536,810.776 1856.12,556.265 2176.24,810.776 2496.36,963.482 2816.48,1014.38 3136.6,1035.34 \n  3456.72,1045.71 \n  \"/>\n<path clip-path=\"url(#clip472)\" d=\"M255.514 1061.71 L244.202 1057.02 L239.514 1045.71 L244.202 1034.4 L255.514 1029.71 L266.826 1034.4 L271.514 1045.71 L266.826 1057.02 Z\" fill=\"#3da44d\" fill-rule=\"evenodd\" fill-opacity=\"1\" stroke=\"#000000\" stroke-opacity=\"1\" stroke-width=\"4.4\"/>\n<path clip-path=\"url(#clip472)\" d=\"M575.635 1051.34 L564.323 1046.66 L559.635 1035.34 L564.323 1024.03 L575.635 1019.34 L586.947 1024.03 L591.635 1035.34 L586.947 1046.66 Z\" fill=\"#3da44d\" fill-rule=\"evenodd\" fill-opacity=\"1\" stroke=\"#000000\" stroke-opacity=\"1\" stroke-width=\"4.4\"/>\n<path clip-path=\"url(#clip472)\" d=\"M895.755 1030.38 L884.443 1025.7 L879.755 1014.38 L884.443 1003.07 L895.755 998.384 L907.067 1003.07 L911.755 1014.38 L907.067 1025.7 Z\" fill=\"#3da44d\" fill-rule=\"evenodd\" fill-opacity=\"1\" stroke=\"#000000\" stroke-opacity=\"1\" stroke-width=\"4.4\"/>\n<path clip-path=\"url(#clip472)\" d=\"M1215.88 979.482 L1204.56 974.794 L1199.88 963.482 L1204.56 952.17 L1215.88 947.482 L1227.19 952.17 L1231.88 963.482 L1227.19 974.794 Z\" fill=\"#3da44d\" fill-rule=\"evenodd\" fill-opacity=\"1\" stroke=\"#000000\" stroke-opacity=\"1\" stroke-width=\"4.4\"/>\n<path clip-path=\"url(#clip472)\" d=\"M1536 826.776 L1524.68 822.088 L1520 810.776 L1524.68 799.464 L1536 794.776 L1547.31 799.464 L1552 810.776 L1547.31 822.088 Z\" fill=\"#3da44d\" fill-rule=\"evenodd\" fill-opacity=\"1\" stroke=\"#000000\" stroke-opacity=\"1\" stroke-width=\"4.4\"/>\n<path clip-path=\"url(#clip472)\" d=\"M1856.12 572.265 L1844.8 567.577 L1840.12 556.265 L1844.8 544.953 L1856.12 540.265 L1867.43 544.953 L1872.12 556.265 L1867.43 567.577 Z\" fill=\"#3da44d\" fill-rule=\"evenodd\" fill-opacity=\"1\" stroke=\"#000000\" stroke-opacity=\"1\" stroke-width=\"4.4\"/>\n<path clip-path=\"url(#clip472)\" d=\"M2176.24 826.776 L2164.93 822.088 L2160.24 810.776 L2164.93 799.464 L2176.24 794.776 L2187.55 799.464 L2192.24 810.776 L2187.55 822.088 Z\" fill=\"#3da44d\" fill-rule=\"evenodd\" fill-opacity=\"1\" stroke=\"#000000\" stroke-opacity=\"1\" stroke-width=\"4.4\"/>\n<path clip-path=\"url(#clip472)\" d=\"M2496.36 979.482 L2485.05 974.794 L2480.36 963.482 L2485.05 952.17 L2496.36 947.482 L2507.67 952.17 L2512.36 963.482 L2507.67 974.794 Z\" fill=\"#3da44d\" fill-rule=\"evenodd\" fill-opacity=\"1\" stroke=\"#000000\" stroke-opacity=\"1\" stroke-width=\"4.4\"/>\n<path clip-path=\"url(#clip472)\" d=\"M2816.48 1030.38 L2805.17 1025.7 L2800.48 1014.38 L2805.17 1003.07 L2816.48 998.384 L2827.79 1003.07 L2832.48 1014.38 L2827.79 1025.7 Z\" fill=\"#3da44d\" fill-rule=\"evenodd\" fill-opacity=\"1\" stroke=\"#000000\" stroke-opacity=\"1\" stroke-width=\"4.4\"/>\n<path clip-path=\"url(#clip472)\" d=\"M3136.6 1051.34 L3125.29 1046.66 L3120.6 1035.34 L3125.29 1024.03 L3136.6 1019.34 L3147.91 1024.03 L3152.6 1035.34 L3147.91 1046.66 Z\" fill=\"#3da44d\" fill-rule=\"evenodd\" fill-opacity=\"1\" stroke=\"#000000\" stroke-opacity=\"1\" stroke-width=\"4.4\"/>\n<path clip-path=\"url(#clip472)\" d=\"M3456.72 1061.71 L3445.41 1057.02 L3440.72 1045.71 L3445.41 1034.4 L3456.72 1029.71 L3468.03 1034.4 L3472.72 1045.71 L3468.03 1057.02 Z\" fill=\"#3da44d\" fill-rule=\"evenodd\" fill-opacity=\"1\" stroke=\"#000000\" stroke-opacity=\"1\" stroke-width=\"4.4\"/>\n</svg>\n"
                 },
                 "type": "node"
                }
               ],
               "instanceArgs": {
                "namespace": "html",
                "tag": "div"
               },
               "nodeType": "DOM",
               "props": {
                "style": {
                 "display": "flex",
                 "flex-direction": "column"
                }
               },
               "type": "node"
              }
             ],
             "instanceArgs": {
              "namespace": "html",
              "tag": "div"
             },
             "nodeType": "DOM",
             "props": {
              "className": "interact-flex-row interact-widget"
             },
             "type": "node"
            }
           }
          },
          "systemjs_options": null
         },
         "nodeType": "Scope",
         "props": {},
         "type": "node"
        }
       ],
       "instanceArgs": {
        "namespace": "html",
        "tag": "div"
       },
       "nodeType": "DOM",
       "props": {},
       "type": "node"
      },
      "text/html": [
       "<div\n",
       "    class=\"webio-mountpoint\"\n",
       "    data-webio-mountpoint=\"1010618439239089848\"\n",
       ">\n",
       "    <script>\n",
       "    (function(){\n",
       "    // Some integrations (namely, IJulia/Jupyter) use an alternate render pathway than\n",
       "    // just putting the html on the page. If WebIO isn't defined, then it's pretty likely\n",
       "    // that we're in one of those situations and the integration just isn't installed\n",
       "    // correctly.\n",
       "    if (typeof window.WebIO === \"undefined\") {\n",
       "        document\n",
       "            .querySelector('[data-webio-mountpoint=\"1010618439239089848\"]')\n",
       "            .innerHTML = (\n",
       "                '<div style=\"padding: 1em; background-color: #f8d6da; border: 1px solid #f5c6cb; font-weight: bold;\">' +\n",
       "                '<p><strong>WebIO not detected.</strong></p>' +\n",
       "                '<p>Please read ' +\n",
       "                '<a href=\"https://juliagizmos.github.io/WebIO.jl/latest/troubleshooting/not-detected/\" target=\"_blank\">the troubleshooting guide</a> ' +\n",
       "                'for more information on how to resolve this issue.</p>' +\n",
       "                '<p><a href=\"https://juliagizmos.github.io/WebIO.jl/latest/troubleshooting/not-detected/\" target=\"_blank\">https://juliagizmos.github.io/WebIO.jl/latest/troubleshooting/not-detected/</a></p>' +\n",
       "                '</div>'\n",
       "            );\n",
       "        return;\n",
       "    }\n",
       "    WebIO.mount(\n",
       "        document.querySelector('[data-webio-mountpoint=\"1010618439239089848\"]'),\n",
       "        {\"props\":{},\"nodeType\":\"DOM\",\"type\":\"node\",\"instanceArgs\":{\"namespace\":\"html\",\"tag\":\"div\"},\"children\":[{\"props\":{\"className\":\"field interact-widget\"},\"nodeType\":\"DOM\",\"type\":\"node\",\"instanceArgs\":{\"namespace\":\"html\",\"tag\":\"div\"},\"children\":[{\"props\":{},\"nodeType\":\"Scope\",\"type\":\"node\",\"instanceArgs\":{\"imports\":{\"data\":[{\"name\":\"knockout\",\"type\":\"js\",\"url\":\"\\/assetserver\\/46ca1ae6128ce5cef46ae6c83c10cbc27a02b7d5-knockout.js\"},{\"name\":\"knockout_punches\",\"type\":\"js\",\"url\":\"\\/assetserver\\/ae9f554c0387f76781e87553335a640c2663983d-knockout_punches.js\"},{\"name\":null,\"type\":\"js\",\"url\":\"\\/assetserver\\/7eb702f04b44b9a3937e021b87223b20d5750a09-all.js\"},{\"name\":null,\"type\":\"css\",\"url\":\"\\/assetserver\\/a7c3e8b7a7fd3e462a7aeaf12ab4ac957d9781c2-style.css\"},{\"name\":null,\"type\":\"css\",\"url\":\"\\/assetserver\\/e66482be06717616844d1fa8450722a9c1fd9e07-bulma_confined.min.css\"}],\"type\":\"async_block\"},\"id\":\"10093488433629681561\",\"handlers\":{\"changes\":[\"(function (val){return (val!=this.model[\\\"changes\\\"]()) ? (this.valueFromJulia[\\\"changes\\\"]=true, this.model[\\\"changes\\\"](val)) : undefined})\"],\"index\":[\"(function (val){return (val!=this.model[\\\"index\\\"]()) ? (this.valueFromJulia[\\\"index\\\"]=true, this.model[\\\"index\\\"](val)) : undefined})\"]},\"systemjs_options\":null,\"mount_callbacks\":[\"function () {\\n    var handler = (function (ko, koPunches) {\\n    ko.punches.enableAll();\\n    ko.bindingHandlers.numericValue = {\\n        init: function(element, valueAccessor, allBindings, data, context) {\\n            var stringified = ko.observable(ko.unwrap(valueAccessor()));\\n            stringified.subscribe(function(value) {\\n                var val = parseFloat(value);\\n                if (!isNaN(val)) {\\n                    valueAccessor()(val);\\n                }\\n            });\\n            valueAccessor().subscribe(function(value) {\\n                var str = JSON.stringify(value);\\n                if ((str == \\\"0\\\") && ([\\\"-0\\\", \\\"-0.\\\"].indexOf(stringified()) >= 0))\\n                     return;\\n                 if ([\\\"null\\\", \\\"\\\"].indexOf(str) >= 0)\\n                     return;\\n                stringified(str);\\n            });\\n            ko.applyBindingsToNode(\\n                element,\\n                {\\n                    value: stringified,\\n                    valueUpdate: allBindings.get('valueUpdate'),\\n                },\\n                context,\\n            );\\n        }\\n    };\\n    var json_data = {\\\"formatted_vals\\\":[\\\"2\\\",\\\"3\\\",\\\"4\\\",\\\"5\\\",\\\"6\\\",\\\"7\\\",\\\"8\\\",\\\"9\\\",\\\"10\\\",\\\"11\\\",\\\"12\\\",\\\"13\\\",\\\"14\\\",\\\"15\\\",\\\"16\\\",\\\"17\\\",\\\"18\\\",\\\"19\\\",\\\"20\\\",\\\"21\\\"],\\\"changes\\\":WebIO.getval({\\\"name\\\":\\\"changes\\\",\\\"scope\\\":\\\"10093488433629681561\\\",\\\"id\\\":\\\"18288996532057175255\\\",\\\"type\\\":\\\"observable\\\"}),\\\"index\\\":WebIO.getval({\\\"name\\\":\\\"index\\\",\\\"scope\\\":\\\"10093488433629681561\\\",\\\"id\\\":\\\"11849217862170383083\\\",\\\"type\\\":\\\"observable\\\"})};\\n    var self = this;\\n    function AppViewModel() {\\n        for (var key in json_data) {\\n            var el = json_data[key];\\n            this[key] = Array.isArray(el) ? ko.observableArray(el) : ko.observable(el);\\n        }\\n        \\n        [this[\\\"formatted_val\\\"]=ko.computed(    function(){\\n        return this.formatted_vals()[parseInt(this.index())-(2)];\\n    }\\n,this)]\\n        [this[\\\"changes\\\"].subscribe((function (val){!(this.valueFromJulia[\\\"changes\\\"]) ? (WebIO.setval({\\\"name\\\":\\\"changes\\\",\\\"scope\\\":\\\"10093488433629681561\\\",\\\"id\\\":\\\"18288996532057175255\\\",\\\"type\\\":\\\"observable\\\"},val)) : undefined; return this.valueFromJulia[\\\"changes\\\"]=false}),self),this[\\\"index\\\"].subscribe((function (val){!(this.valueFromJulia[\\\"index\\\"]) ? (WebIO.setval({\\\"name\\\":\\\"index\\\",\\\"scope\\\":\\\"10093488433629681561\\\",\\\"id\\\":\\\"11849217862170383083\\\",\\\"type\\\":\\\"observable\\\"},val)) : undefined; return this.valueFromJulia[\\\"index\\\"]=false}),self)]\\n        \\n    }\\n    self.model = new AppViewModel();\\n    self.valueFromJulia = {};\\n    for (var key in json_data) {\\n        self.valueFromJulia[key] = false;\\n    }\\n    ko.applyBindings(self.model, self.dom);\\n}\\n);\\n    (WebIO.importBlock({\\\"data\\\":[{\\\"name\\\":\\\"knockout\\\",\\\"type\\\":\\\"js\\\",\\\"url\\\":\\\"\\/assetserver\\/46ca1ae6128ce5cef46ae6c83c10cbc27a02b7d5-knockout.js\\\"},{\\\"name\\\":\\\"knockout_punches\\\",\\\"type\\\":\\\"js\\\",\\\"url\\\":\\\"\\/assetserver\\/ae9f554c0387f76781e87553335a640c2663983d-knockout_punches.js\\\"}],\\\"type\\\":\\\"async_block\\\"})).then((imports) => handler.apply(this, imports));\\n}\\n\"],\"observables\":{\"changes\":{\"sync\":false,\"id\":\"18288996532057175255\",\"value\":0},\"index\":{\"sync\":true,\"id\":\"11849217862170383083\",\"value\":11}}},\"children\":[{\"props\":{\"className\":\"interact-flex-row interact-widget\"},\"nodeType\":\"DOM\",\"type\":\"node\",\"instanceArgs\":{\"namespace\":\"html\",\"tag\":\"div\"},\"children\":[{\"props\":{\"className\":\"interact-flex-row-left\"},\"nodeType\":\"DOM\",\"type\":\"node\",\"instanceArgs\":{\"namespace\":\"html\",\"tag\":\"div\"},\"children\":[{\"props\":{\"className\":\"interact \",\"style\":{\"padding\":\"5px 10px 0px 10px\"}},\"nodeType\":\"DOM\",\"type\":\"node\",\"instanceArgs\":{\"namespace\":\"html\",\"tag\":\"label\"},\"children\":[\"n\"]}]},{\"props\":{\"className\":\"interact-flex-row-center\"},\"nodeType\":\"DOM\",\"type\":\"node\",\"instanceArgs\":{\"namespace\":\"html\",\"tag\":\"div\"},\"children\":[{\"props\":{\"max\":21,\"min\":2,\"attributes\":{\"type\":\"range\",\"data-bind\":\"numericValue: index, valueUpdate: 'input', event: {change: function (){this.changes(this.changes()+1)}}\",\"orient\":\"horizontal\"},\"step\":1,\"className\":\"slider slider is-fullwidth\",\"style\":{}},\"nodeType\":\"DOM\",\"type\":\"node\",\"instanceArgs\":{\"namespace\":\"html\",\"tag\":\"input\"},\"children\":[]}]},{\"props\":{\"className\":\"interact-flex-row-right\"},\"nodeType\":\"DOM\",\"type\":\"node\",\"instanceArgs\":{\"namespace\":\"html\",\"tag\":\"div\"},\"children\":[{\"props\":{\"attributes\":{\"data-bind\":\"text: formatted_val\"}},\"nodeType\":\"DOM\",\"type\":\"node\",\"instanceArgs\":{\"namespace\":\"html\",\"tag\":\"p\"},\"children\":[]}]}]}]}]},{\"props\":{},\"nodeType\":\"Scope\",\"type\":\"node\",\"instanceArgs\":{\"imports\":{\"data\":[],\"type\":\"async_block\"},\"id\":\"12579419274775514996\",\"handlers\":{},\"systemjs_options\":null,\"mount_callbacks\":[],\"observables\":{\"obs-node\":{\"sync\":false,\"id\":\"4402211050411017766\",\"value\":{\"props\":{\"className\":\"interact-flex-row interact-widget\"},\"nodeType\":\"DOM\",\"type\":\"node\",\"instanceArgs\":{\"namespace\":\"html\",\"tag\":\"div\"},\"children\":[{\"props\":{\"style\":{\"display\":\"flex\",\"flex-direction\":\"column\"}},\"nodeType\":\"DOM\",\"type\":\"node\",\"instanceArgs\":{\"namespace\":\"html\",\"tag\":\"div\"},\"children\":[\"||V||₂ ||V⁻¹||₂ = 1.4e+04\",{\"props\":{\"setInnerHtml\":\"<?xml version=\\\"1.0\\\" encoding=\\\"utf-8\\\"?>\\n<svg xmlns=\\\"http:\\/\\/www.w3.org\\/2000\\/svg\\\" xmlns:xlink=\\\"http:\\/\\/www.w3.org\\/1999\\/xlink\\\" width=\\\"900\\\" height=\\\"550\\\" viewBox=\\\"0 0 3600 2200\\\">\\n<defs>\\n  <clipPath id=\\\"clip430\\\">\\n    <rect x=\\\"0\\\" y=\\\"0\\\" width=\\\"3600\\\" height=\\\"2200\\\"\\/>\\n  <\\/clipPath>\\n<\\/defs>\\n<path clip-path=\\\"url(#clip430)\\\" d=\\\"\\nM0 2200 L3600 2200 L3600 0 L0 0  Z\\n  \\\" fill=\\\"#ffffff\\\" fill-rule=\\\"evenodd\\\" fill-opacity=\\\"1\\\"\\/>\\n<defs>\\n  <clipPath id=\\\"clip431\\\">\\n    <rect x=\\\"720\\\" y=\\\"0\\\" width=\\\"2521\\\" height=\\\"2200\\\"\\/>\\n  <\\/clipPath>\\n<\\/defs>\\n<path clip-path=\\\"url(#clip430)\\\" d=\\\"\\nM159.478 2083.33 L3552.76 2083.33 L3552.76 47.2441 L159.478 47.2441  Z\\n  \\\" fill=\\\"#ffffff\\\" fill-rule=\\\"evenodd\\\" fill-opacity=\\\"1\\\"\\/>\\n<defs>\\n  <clipPath id=\\\"clip432\\\">\\n    <rect x=\\\"159\\\" y=\\\"47\\\" width=\\\"3394\\\" height=\\\"2037\\\"\\/>\\n  <\\/clipPath>\\n<\\/defs>\\n<polyline clip-path=\\\"url(#clip432)\\\" style=\\\"stroke:#000000; stroke-linecap:butt; stroke-linejoin:round; stroke-width:2; stroke-opacity:0.1; fill:none\\\" points=\\\"\\n  255.514,2083.33 255.514,47.2441 \\n  \\\"\\/>\\n<polyline clip-path=\\\"url(#clip432)\\\" style=\\\"stroke:#000000; stroke-linecap:butt; stroke-linejoin:round; stroke-width:2; stroke-opacity:0.1; fill:none\\\" points=\\\"\\n  1055.82,2083.33 1055.82,47.2441 \\n  \\\"\\/>\\n<polyline clip-path=\\\"url(#clip432)\\\" style=\\\"stroke:#000000; stroke-linecap:butt; stroke-linejoin:round; stroke-width:2; stroke-opacity:0.1; fill:none\\\" points=\\\"\\n  1856.12,2083.33 1856.12,47.2441 \\n  \\\"\\/>\\n<polyline clip-path=\\\"url(#clip432)\\\" style=\\\"stroke:#000000; stroke-linecap:butt; stroke-linejoin:round; stroke-width:2; stroke-opacity:0.1; fill:none\\\" points=\\\"\\n  2656.42,2083.33 2656.42,47.2441 \\n  \\\"\\/>\\n<polyline clip-path=\\\"url(#clip432)\\\" style=\\\"stroke:#000000; stroke-linecap:butt; stroke-linejoin:round; stroke-width:2; stroke-opacity:0.1; fill:none\\\" points=\\\"\\n  3456.72,2083.33 3456.72,47.2441 \\n  \\\"\\/>\\n<polyline clip-path=\\\"url(#clip430)\\\" style=\\\"stroke:#000000; stroke-linecap:butt; stroke-linejoin:round; stroke-width:4; stroke-opacity:1; fill:none\\\" points=\\\"\\n  159.478,2083.33 3552.76,2083.33 \\n  \\\"\\/>\\n<polyline clip-path=\\\"url(#clip430)\\\" style=\\\"stroke:#000000; stroke-linecap:butt; stroke-linejoin:round; stroke-width:4; stroke-opacity:1; fill:none\\\" points=\\\"\\n  255.514,2083.33 255.514,2064.43 \\n  \\\"\\/>\\n<polyline clip-path=\\\"url(#clip430)\\\" style=\\\"stroke:#000000; stroke-linecap:butt; stroke-linejoin:round; stroke-width:4; stroke-opacity:1; fill:none\\\" points=\\\"\\n  1055.82,2083.33 1055.82,2064.43 \\n  \\\"\\/>\\n<polyline clip-path=\\\"url(#clip430)\\\" style=\\\"stroke:#000000; stroke-linecap:butt; stroke-linejoin:round; stroke-width:4; stroke-opacity:1; fill:none\\\" points=\\\"\\n  1856.12,2083.33 1856.12,2064.43 \\n  \\\"\\/>\\n<polyline clip-path=\\\"url(#clip430)\\\" style=\\\"stroke:#000000; stroke-linecap:butt; stroke-linejoin:round; stroke-width:4; stroke-opacity:1; fill:none\\\" points=\\\"\\n  2656.42,2083.33 2656.42,2064.43 \\n  \\\"\\/>\\n<polyline clip-path=\\\"url(#clip430)\\\" style=\\\"stroke:#000000; stroke-linecap:butt; stroke-linejoin:round; stroke-width:4; stroke-opacity:1; fill:none\\\" points=\\\"\\n  3456.72,2083.33 3456.72,2064.43 \\n  \\\"\\/>\\n<path clip-path=\\\"url(#clip430)\\\" d=\\\"M202.042 2138.5 L231.718 2138.5 L231.718 2142.43 L202.042 2142.43 L202.042 2138.5 Z\\\" fill=\\\"#000000\\\" fill-rule=\\\"evenodd\\\" fill-opacity=\\\"1\\\" \\/><path clip-path=\\\"url(#clip430)\\\" d=\\\"M242.621 2151.39 L250.259 2151.39 L250.259 2125.03 L241.949 2126.69 L241.949 2122.43 L250.213 2120.77 L254.889 2120.77 L254.889 2151.39 L262.528 2151.39 L262.528 2155.33 L242.621 2155.33 L242.621 2151.39 Z\\\" fill=\\\"#000000\\\" fill-rule=\\\"evenodd\\\" fill-opacity=\\\"1\\\" \\/><path clip-path=\\\"url(#clip430)\\\" d=\\\"M271.972 2149.45 L276.857 2149.45 L276.857 2155.33 L271.972 2155.33 L271.972 2149.45 Z\\\" fill=\\\"#000000\\\" fill-rule=\\\"evenodd\\\" fill-opacity=\\\"1\\\" \\/><path clip-path=\\\"url(#clip430)\\\" d=\\\"M297.042 2123.85 Q293.431 2123.85 291.602 2127.41 Q289.796 2130.95 289.796 2138.08 Q289.796 2145.19 291.602 2148.75 Q293.431 2152.3 297.042 2152.3 Q300.676 2152.3 302.481 2148.75 Q304.31 2145.19 304.31 2138.08 Q304.31 2130.95 302.481 2127.41 Q300.676 2123.85 297.042 2123.85 M297.042 2120.14 Q302.852 2120.14 305.907 2124.75 Q308.986 2129.33 308.986 2138.08 Q308.986 2146.81 305.907 2151.42 Q302.852 2156 297.042 2156 Q291.231 2156 288.153 2151.42 Q285.097 2146.81 285.097 2138.08 Q285.097 2129.33 288.153 2124.75 Q291.231 2120.14 297.042 2120.14 Z\\\" fill=\\\"#000000\\\" fill-rule=\\\"evenodd\\\" fill-opacity=\\\"1\\\" \\/><path clip-path=\\\"url(#clip430)\\\" d=\\\"M1002.84 2138.5 L1032.52 2138.5 L1032.52 2142.43 L1002.84 2142.43 L1002.84 2138.5 Z\\\" fill=\\\"#000000\\\" fill-rule=\\\"evenodd\\\" fill-opacity=\\\"1\\\" \\/><path clip-path=\\\"url(#clip430)\\\" d=\\\"M1052.61 2123.85 Q1049 2123.85 1047.17 2127.41 Q1045.36 2130.95 1045.36 2138.08 Q1045.36 2145.19 1047.17 2148.75 Q1049 2152.3 1052.61 2152.3 Q1056.24 2152.3 1058.05 2148.75 Q1059.88 2145.19 1059.88 2138.08 Q1059.88 2130.95 1058.05 2127.41 Q1056.24 2123.85 1052.61 2123.85 M1052.61 2120.14 Q1058.42 2120.14 1061.48 2124.75 Q1064.55 2129.33 1064.55 2138.08 Q1064.55 2146.81 1061.48 2151.42 Q1058.42 2156 1052.61 2156 Q1046.8 2156 1043.72 2151.42 Q1040.67 2146.81 1040.67 2138.08 Q1040.67 2129.33 1043.72 2124.75 Q1046.8 2120.14 1052.61 2120.14 Z\\\" fill=\\\"#000000\\\" fill-rule=\\\"evenodd\\\" fill-opacity=\\\"1\\\" \\/><path clip-path=\\\"url(#clip430)\\\" d=\\\"M1072.77 2149.45 L1077.66 2149.45 L1077.66 2155.33 L1072.77 2155.33 L1072.77 2149.45 Z\\\" fill=\\\"#000000\\\" fill-rule=\\\"evenodd\\\" fill-opacity=\\\"1\\\" \\/><path clip-path=\\\"url(#clip430)\\\" d=\\\"M1087.89 2120.77 L1106.24 2120.77 L1106.24 2124.7 L1092.17 2124.7 L1092.17 2133.18 Q1093.19 2132.83 1094.21 2132.67 Q1095.23 2132.48 1096.24 2132.48 Q1102.03 2132.48 1105.41 2135.65 Q1108.79 2138.82 1108.79 2144.24 Q1108.79 2149.82 1105.32 2152.92 Q1101.85 2156 1095.53 2156 Q1093.35 2156 1091.08 2155.63 Q1088.84 2155.26 1086.43 2154.52 L1086.43 2149.82 Q1088.51 2150.95 1090.73 2151.51 Q1092.96 2152.06 1095.43 2152.06 Q1099.44 2152.06 1101.78 2149.96 Q1104.11 2147.85 1104.11 2144.24 Q1104.11 2140.63 1101.78 2138.52 Q1099.44 2136.42 1095.43 2136.42 Q1093.56 2136.42 1091.68 2136.83 Q1089.83 2137.25 1087.89 2138.13 L1087.89 2120.77 Z\\\" fill=\\\"#000000\\\" fill-rule=\\\"evenodd\\\" fill-opacity=\\\"1\\\" \\/><path clip-path=\\\"url(#clip430)\\\" d=\\\"M1833.5 2123.85 Q1829.89 2123.85 1828.06 2127.41 Q1826.26 2130.95 1826.26 2138.08 Q1826.26 2145.19 1828.06 2148.75 Q1829.89 2152.3 1833.5 2152.3 Q1837.14 2152.3 1838.94 2148.75 Q1840.77 2145.19 1840.77 2138.08 Q1840.77 2130.95 1838.94 2127.41 Q1837.14 2123.85 1833.5 2123.85 M1833.5 2120.14 Q1839.31 2120.14 1842.37 2124.75 Q1845.45 2129.33 1845.45 2138.08 Q1845.45 2146.81 1842.37 2151.42 Q1839.31 2156 1833.5 2156 Q1827.69 2156 1824.61 2151.42 Q1821.56 2146.81 1821.56 2138.08 Q1821.56 2129.33 1824.61 2124.75 Q1827.69 2120.14 1833.5 2120.14 Z\\\" fill=\\\"#000000\\\" fill-rule=\\\"evenodd\\\" fill-opacity=\\\"1\\\" \\/><path clip-path=\\\"url(#clip430)\\\" d=\\\"M1853.66 2149.45 L1858.55 2149.45 L1858.55 2155.33 L1853.66 2155.33 L1853.66 2149.45 Z\\\" fill=\\\"#000000\\\" fill-rule=\\\"evenodd\\\" fill-opacity=\\\"1\\\" \\/><path clip-path=\\\"url(#clip430)\\\" d=\\\"M1878.73 2123.85 Q1875.12 2123.85 1873.29 2127.41 Q1871.49 2130.95 1871.49 2138.08 Q1871.49 2145.19 1873.29 2148.75 Q1875.12 2152.3 1878.73 2152.3 Q1882.37 2152.3 1884.17 2148.75 Q1886 2145.19 1886 2138.08 Q1886 2130.95 1884.17 2127.41 Q1882.37 2123.85 1878.73 2123.85 M1878.73 2120.14 Q1884.54 2120.14 1887.6 2124.75 Q1890.68 2129.33 1890.68 2138.08 Q1890.68 2146.81 1887.6 2151.42 Q1884.54 2156 1878.73 2156 Q1872.92 2156 1869.84 2151.42 Q1866.79 2146.81 1866.79 2138.08 Q1866.79 2129.33 1869.84 2124.75 Q1872.92 2120.14 1878.73 2120.14 Z\\\" fill=\\\"#000000\\\" fill-rule=\\\"evenodd\\\" fill-opacity=\\\"1\\\" \\/><path clip-path=\\\"url(#clip430)\\\" d=\\\"M2634.3 2123.85 Q2630.69 2123.85 2628.86 2127.41 Q2627.06 2130.95 2627.06 2138.08 Q2627.06 2145.19 2628.86 2148.75 Q2630.69 2152.3 2634.3 2152.3 Q2637.93 2152.3 2639.74 2148.75 Q2641.57 2145.19 2641.57 2138.08 Q2641.57 2130.95 2639.74 2127.41 Q2637.93 2123.85 2634.3 2123.85 M2634.3 2120.14 Q2640.11 2120.14 2643.17 2124.75 Q2646.24 2129.33 2646.24 2138.08 Q2646.24 2146.81 2643.17 2151.42 Q2640.11 2156 2634.3 2156 Q2628.49 2156 2625.41 2151.42 Q2622.36 2146.81 2622.36 2138.08 Q2622.36 2129.33 2625.41 2124.75 Q2628.49 2120.14 2634.3 2120.14 Z\\\" fill=\\\"#000000\\\" fill-rule=\\\"evenodd\\\" fill-opacity=\\\"1\\\" \\/><path clip-path=\\\"url(#clip430)\\\" d=\\\"M2654.46 2149.45 L2659.35 2149.45 L2659.35 2155.33 L2654.46 2155.33 L2654.46 2149.45 Z\\\" fill=\\\"#000000\\\" fill-rule=\\\"evenodd\\\" fill-opacity=\\\"1\\\" \\/><path clip-path=\\\"url(#clip430)\\\" d=\\\"M2669.58 2120.77 L2687.93 2120.77 L2687.93 2124.7 L2673.86 2124.7 L2673.86 2133.18 Q2674.88 2132.83 2675.9 2132.67 Q2676.92 2132.48 2677.93 2132.48 Q2683.72 2132.48 2687.1 2135.65 Q2690.48 2138.82 2690.48 2144.24 Q2690.48 2149.82 2687.01 2152.92 Q2683.54 2156 2677.22 2156 Q2675.04 2156 2672.77 2155.63 Q2670.53 2155.26 2668.12 2154.52 L2668.12 2149.82 Q2670.2 2150.95 2672.43 2151.51 Q2674.65 2152.06 2677.12 2152.06 Q2681.13 2152.06 2683.47 2149.96 Q2685.8 2147.85 2685.8 2144.24 Q2685.8 2140.63 2683.47 2138.52 Q2681.13 2136.42 2677.12 2136.42 Q2675.25 2136.42 2673.37 2136.83 Q2671.52 2137.25 2669.58 2138.13 L2669.58 2120.77 Z\\\" fill=\\\"#000000\\\" fill-rule=\\\"evenodd\\\" fill-opacity=\\\"1\\\" \\/><path clip-path=\\\"url(#clip430)\\\" d=\\\"M3423.87 2151.39 L3431.51 2151.39 L3431.51 2125.03 L3423.2 2126.69 L3423.2 2122.43 L3431.47 2120.77 L3436.14 2120.77 L3436.14 2151.39 L3443.78 2151.39 L3443.78 2155.33 L3423.87 2155.33 L3423.87 2151.39 Z\\\" fill=\\\"#000000\\\" fill-rule=\\\"evenodd\\\" fill-opacity=\\\"1\\\" \\/><path clip-path=\\\"url(#clip430)\\\" d=\\\"M3453.22 2149.45 L3458.11 2149.45 L3458.11 2155.33 L3453.22 2155.33 L3453.22 2149.45 Z\\\" fill=\\\"#000000\\\" fill-rule=\\\"evenodd\\\" fill-opacity=\\\"1\\\" \\/><path clip-path=\\\"url(#clip430)\\\" d=\\\"M3478.29 2123.85 Q3474.68 2123.85 3472.85 2127.41 Q3471.05 2130.95 3471.05 2138.08 Q3471.05 2145.19 3472.85 2148.75 Q3474.68 2152.3 3478.29 2152.3 Q3481.93 2152.3 3483.73 2148.75 Q3485.56 2145.19 3485.56 2138.08 Q3485.56 2130.95 3483.73 2127.41 Q3481.93 2123.85 3478.29 2123.85 M3478.29 2120.14 Q3484.1 2120.14 3487.16 2124.75 Q3490.24 2129.33 3490.24 2138.08 Q3490.24 2146.81 3487.16 2151.42 Q3484.1 2156 3478.29 2156 Q3472.48 2156 3469.4 2151.42 Q3466.35 2146.81 3466.35 2138.08 Q3466.35 2129.33 3469.4 2124.75 Q3472.48 2120.14 3478.29 2120.14 Z\\\" fill=\\\"#000000\\\" fill-rule=\\\"evenodd\\\" fill-opacity=\\\"1\\\" \\/><polyline clip-path=\\\"url(#clip432)\\\" style=\\\"stroke:#000000; stroke-linecap:butt; stroke-linejoin:round; stroke-width:2; stroke-opacity:0.1; fill:none\\\" points=\\\"\\n  159.478,2083.33 3552.76,2083.33 \\n  \\\"\\/>\\n<polyline clip-path=\\\"url(#clip432)\\\" style=\\\"stroke:#000000; stroke-linecap:butt; stroke-linejoin:round; stroke-width:2; stroke-opacity:0.1; fill:none\\\" points=\\\"\\n  159.478,1574.31 3552.76,1574.31 \\n  \\\"\\/>\\n<polyline clip-path=\\\"url(#clip432)\\\" style=\\\"stroke:#000000; stroke-linecap:butt; stroke-linejoin:round; stroke-width:2; stroke-opacity:0.1; fill:none\\\" points=\\\"\\n  159.478,1065.29 3552.76,1065.29 \\n  \\\"\\/>\\n<polyline clip-path=\\\"url(#clip432)\\\" style=\\\"stroke:#000000; stroke-linecap:butt; stroke-linejoin:round; stroke-width:2; stroke-opacity:0.1; fill:none\\\" points=\\\"\\n  159.478,556.265 3552.76,556.265 \\n  \\\"\\/>\\n<polyline clip-path=\\\"url(#clip432)\\\" style=\\\"stroke:#000000; stroke-linecap:butt; stroke-linejoin:round; stroke-width:2; stroke-opacity:0.1; fill:none\\\" points=\\\"\\n  159.478,47.2441 3552.76,47.2441 \\n  \\\"\\/>\\n<polyline clip-path=\\\"url(#clip430)\\\" style=\\\"stroke:#000000; stroke-linecap:butt; stroke-linejoin:round; stroke-width:4; stroke-opacity:1; fill:none\\\" points=\\\"\\n  159.478,2083.33 159.478,47.2441 \\n  \\\"\\/>\\n<polyline clip-path=\\\"url(#clip430)\\\" style=\\\"stroke:#000000; stroke-linecap:butt; stroke-linejoin:round; stroke-width:4; stroke-opacity:1; fill:none\\\" points=\\\"\\n  159.478,2083.33 178.376,2083.33 \\n  \\\"\\/>\\n<polyline clip-path=\\\"url(#clip430)\\\" style=\\\"stroke:#000000; stroke-linecap:butt; stroke-linejoin:round; stroke-width:4; stroke-opacity:1; fill:none\\\" points=\\\"\\n  159.478,1574.31 178.376,1574.31 \\n  \\\"\\/>\\n<polyline clip-path=\\\"url(#clip430)\\\" style=\\\"stroke:#000000; stroke-linecap:butt; stroke-linejoin:round; stroke-width:4; stroke-opacity:1; fill:none\\\" points=\\\"\\n  159.478,1065.29 178.376,1065.29 \\n  \\\"\\/>\\n<polyline clip-path=\\\"url(#clip430)\\\" style=\\\"stroke:#000000; stroke-linecap:butt; stroke-linejoin:round; stroke-width:4; stroke-opacity:1; fill:none\\\" points=\\\"\\n  159.478,556.265 178.376,556.265 \\n  \\\"\\/>\\n<polyline clip-path=\\\"url(#clip430)\\\" style=\\\"stroke:#000000; stroke-linecap:butt; stroke-linejoin:round; stroke-width:4; stroke-opacity:1; fill:none\\\" points=\\\"\\n  159.478,47.2441 178.376,47.2441 \\n  \\\"\\/>\\n<path clip-path=\\\"url(#clip430)\\\" d=\\\"M45.3625 2083.78 L75.0383 2083.78 L75.0383 2087.71 L45.3625 2087.71 L45.3625 2083.78 Z\\\" fill=\\\"#000000\\\" fill-rule=\\\"evenodd\\\" fill-opacity=\\\"1\\\" \\/><path clip-path=\\\"url(#clip430)\\\" d=\\\"M89.1586 2096.67 L105.478 2096.67 L105.478 2100.61 L83.5336 2100.61 L83.5336 2096.67 Q86.1956 2093.92 90.7789 2089.29 Q95.3854 2084.64 96.5659 2083.29 Q98.8113 2080.77 99.6909 2079.03 Q100.594 2077.27 100.594 2075.58 Q100.594 2072.83 98.6492 2071.09 Q96.728 2069.36 93.6261 2069.36 Q91.4271 2069.36 88.9734 2070.12 Q86.5428 2070.89 83.7651 2072.44 L83.7651 2067.71 Q86.5891 2066.58 89.0428 2066 Q91.4965 2065.42 93.5335 2065.42 Q98.9039 2065.42 102.098 2068.11 Q105.293 2070.79 105.293 2075.28 Q105.293 2077.41 104.483 2079.33 Q103.696 2081.23 101.589 2083.83 Q101.01 2084.5 97.9085 2087.71 Q94.8067 2090.91 89.1586 2096.67 Z\\\" fill=\\\"#000000\\\" fill-rule=\\\"evenodd\\\" fill-opacity=\\\"1\\\" \\/><path clip-path=\\\"url(#clip430)\\\" d=\\\"M44.9921 1574.76 L74.6679 1574.76 L74.6679 1578.69 L44.9921 1578.69 L44.9921 1574.76 Z\\\" fill=\\\"#000000\\\" fill-rule=\\\"evenodd\\\" fill-opacity=\\\"1\\\" \\/><path clip-path=\\\"url(#clip430)\\\" d=\\\"M85.5706 1587.65 L93.2095 1587.65 L93.2095 1561.29 L84.8993 1562.95 L84.8993 1558.69 L93.1632 1557.03 L97.8391 1557.03 L97.8391 1587.65 L105.478 1587.65 L105.478 1591.59 L85.5706 1591.59 L85.5706 1587.65 Z\\\" fill=\\\"#000000\\\" fill-rule=\\\"evenodd\\\" fill-opacity=\\\"1\\\" \\/><path clip-path=\\\"url(#clip430)\\\" d=\\\"M93.5335 1051.08 Q89.9224 1051.08 88.0937 1054.65 Q86.2882 1058.19 86.2882 1065.32 Q86.2882 1072.43 88.0937 1075.99 Q89.9224 1079.53 93.5335 1079.53 Q97.1678 1079.53 98.9733 1075.99 Q100.802 1072.43 100.802 1065.32 Q100.802 1058.19 98.9733 1054.65 Q97.1678 1051.08 93.5335 1051.08 M93.5335 1047.38 Q99.3437 1047.38 102.399 1051.99 Q105.478 1056.57 105.478 1065.32 Q105.478 1074.05 102.399 1078.65 Q99.3437 1083.24 93.5335 1083.24 Q87.7234 1083.24 84.6447 1078.65 Q81.5892 1074.05 81.5892 1065.32 Q81.5892 1056.57 84.6447 1051.99 Q87.7234 1047.38 93.5335 1047.38 Z\\\" fill=\\\"#000000\\\" fill-rule=\\\"evenodd\\\" fill-opacity=\\\"1\\\" \\/><path clip-path=\\\"url(#clip430)\\\" d=\\\"M85.5706 569.61 L93.2095 569.61 L93.2095 543.244 L84.8993 544.911 L84.8993 540.652 L93.1632 538.985 L97.8391 538.985 L97.8391 569.61 L105.478 569.61 L105.478 573.545 L85.5706 573.545 L85.5706 569.61 Z\\\" fill=\\\"#000000\\\" fill-rule=\\\"evenodd\\\" fill-opacity=\\\"1\\\" \\/><path clip-path=\\\"url(#clip430)\\\" d=\\\"M89.1586 60.5889 L105.478 60.5889 L105.478 64.5241 L83.5336 64.5241 L83.5336 60.5889 Q86.1956 57.8343 90.7789 53.2047 Q95.3854 48.552 96.5659 47.2094 Q98.8113 44.6862 99.6909 42.9501 Q100.594 41.1909 100.594 39.5011 Q100.594 36.7465 98.6492 35.0104 Q96.728 33.2743 93.6261 33.2743 Q91.4271 33.2743 88.9734 34.0381 Q86.5428 34.802 83.7651 36.3529 L83.7651 31.6308 Q86.5891 30.4965 89.0428 29.9178 Q91.4965 29.3391 93.5335 29.3391 Q98.9039 29.3391 102.098 32.0243 Q105.293 34.7094 105.293 39.2002 Q105.293 41.3298 104.483 43.2511 Q103.696 45.1492 101.589 47.7418 Q101.01 48.4131 97.9085 51.6306 Q94.8067 54.8251 89.1586 60.5889 Z\\\" fill=\\\"#000000\\\" fill-rule=\\\"evenodd\\\" fill-opacity=\\\"1\\\" \\/><polyline clip-path=\\\"url(#clip432)\\\" style=\\\"stroke:#009af9; stroke-linecap:butt; stroke-linejoin:round; stroke-width:20; stroke-opacity:1; fill:none\\\" points=\\\"\\n  255.514,1045.71 271.601,1045.32 287.687,1044.93 303.773,1044.52 319.86,1044.1 335.946,1043.67 352.033,1043.23 368.119,1042.77 384.206,1042.3 400.292,1041.81 \\n  416.379,1041.31 432.465,1040.79 448.552,1040.25 464.638,1039.7 480.725,1039.13 496.811,1038.54 512.897,1037.93 528.984,1037.3 545.07,1036.65 561.157,1035.97 \\n  577.243,1035.27 593.33,1034.55 609.416,1033.8 625.503,1033.02 641.589,1032.22 657.676,1031.39 673.762,1030.52 689.849,1029.62 705.935,1028.69 722.021,1027.72 \\n  738.108,1026.72 754.194,1025.67 770.281,1024.58 786.367,1023.45 802.454,1022.27 818.54,1021.04 834.627,1019.77 850.713,1018.43 866.8,1017.04 882.886,1015.59 \\n  898.973,1014.08 915.059,1012.49 931.145,1010.84 947.232,1009.11 963.318,1007.3 979.405,1005.4 995.491,1003.42 1011.58,1001.34 1027.66,999.157 1043.75,996.868 \\n  1059.84,994.464 1075.92,991.939 1092.01,989.284 1108.1,986.491 1124.18,983.552 1140.27,980.456 1156.36,977.194 1172.44,973.754 1188.53,970.124 1204.62,966.292 \\n  1220.7,962.244 1236.79,957.965 1252.87,953.439 1268.96,948.65 1285.05,943.58 1301.13,938.209 1317.22,932.517 1333.31,926.483 1349.39,920.085 1365.48,913.297 \\n  1381.57,906.095 1397.65,898.453 1413.74,890.345 1429.83,881.743 1445.91,872.621 1462,862.952 1478.09,852.71 1494.17,841.872 1510.26,830.418 1526.34,818.334 \\n  1542.43,805.608 1558.52,792.242 1574.6,778.245 1590.69,763.641 1606.78,748.47 1622.86,732.793 1638.95,716.693 1655.04,700.281 1671.12,683.699 1687.21,667.116 \\n  1703.3,650.739 1719.38,634.804 1735.47,619.575 1751.55,605.337 1767.64,592.388 1783.73,581.028 1799.81,571.538 1815.9,564.174 1831.99,559.141 1848.07,556.586 \\n  1864.16,556.586 1880.25,559.141 1896.33,564.174 1912.42,571.538 1928.51,581.028 1944.59,592.388 1960.68,605.337 1976.77,619.575 1992.85,634.804 2008.94,650.739 \\n  2025.02,667.116 2041.11,683.699 2057.2,700.281 2073.28,716.693 2089.37,732.793 2105.46,748.47 2121.54,763.641 2137.63,778.245 2153.72,792.242 2169.8,805.608 \\n  2185.89,818.334 2201.98,830.418 2218.06,841.872 2234.15,852.71 2250.24,862.952 2266.32,872.621 2282.41,881.743 2298.49,890.345 2314.58,898.453 2330.67,906.095 \\n  2346.75,913.297 2362.84,920.085 2378.93,926.483 2395.01,932.517 2411.1,938.209 2427.19,943.58 2443.27,948.65 2459.36,953.439 2475.45,957.965 2491.53,962.244 \\n  2507.62,966.292 2523.71,970.124 2539.79,973.754 2555.88,977.194 2571.96,980.456 2588.05,983.552 2604.14,986.491 2620.22,989.284 2636.31,991.939 2652.4,994.464 \\n  2668.48,996.868 2684.57,999.157 2700.66,1001.34 2716.74,1003.42 2732.83,1005.4 2748.92,1007.3 2765,1009.11 2781.09,1010.84 2797.17,1012.49 2813.26,1014.08 \\n  2829.35,1015.59 2845.43,1017.04 2861.52,1018.43 2877.61,1019.77 2893.69,1021.04 2909.78,1022.27 2925.87,1023.45 2941.95,1024.58 2958.04,1025.67 2974.13,1026.72 \\n  2990.21,1027.72 3006.3,1028.69 3022.39,1029.62 3038.47,1030.52 3054.56,1031.39 3070.64,1032.22 3086.73,1033.02 3102.82,1033.8 3118.9,1034.55 3134.99,1035.27 \\n  3151.08,1035.97 3167.16,1036.65 3183.25,1037.3 3199.34,1037.93 3215.42,1038.54 3231.51,1039.13 3247.6,1039.7 3263.68,1040.25 3279.77,1040.79 3295.86,1041.31 \\n  3311.94,1041.81 3328.03,1042.3 3344.11,1042.77 3360.2,1043.23 3376.29,1043.67 3392.37,1044.1 3408.46,1044.52 3424.55,1044.93 3440.63,1045.32 3456.72,1045.71 \\n  \\n  \\\"\\/>\\n<polyline clip-path=\\\"url(#clip432)\\\" style=\\\"stroke:#e26f46; stroke-linecap:butt; stroke-linejoin:round; stroke-width:20; stroke-opacity:1; fill:none\\\" points=\\\"\\n  255.514,1045.71 271.601,694.191 287.687,436.87 303.773,258.366 319.86,145.111 335.946,85.1827 352.033,68.1625 368.119,84.9904 384.206,127.838 400.292,189.986 \\n  416.379,265.715 432.465,350.2 448.552,439.414 464.638,530.043 480.725,619.4 496.811,705.356 512.897,786.264 528.984,860.903 545.07,928.418 561.157,988.266 \\n  577.243,1040.17 593.33,1084.09 609.416,1120.15 625.503,1148.63 641.589,1169.95 657.676,1184.59 673.762,1193.13 689.849,1196.17 705.935,1194.36 722.021,1188.35 \\n  738.108,1178.79 754.194,1166.31 770.281,1151.53 786.367,1135.03 802.454,1117.35 818.54,1099 834.627,1080.43 850.713,1062.05 866.8,1044.2 882.886,1027.2 \\n  898.973,1011.3 915.059,996.708 931.145,983.575 947.232,972.013 963.318,962.09 979.405,953.833 995.491,947.231 1011.58,942.24 1027.66,938.786 1043.75,936.766 \\n  1059.84,936.057 1075.92,936.515 1092.01,937.98 1108.1,940.28 1124.18,943.235 1140.27,946.66 1156.36,950.366 1172.44,954.166 1188.53,957.877 1204.62,961.321 \\n  1220.7,964.329 1236.79,966.741 1252.87,968.413 1268.96,969.211 1285.05,969.018 1301.13,967.734 1317.22,965.276 1333.31,961.578 1349.39,956.594 1365.48,950.295 \\n  1381.57,942.671 1397.65,933.73 1413.74,923.5 1429.83,912.023 1445.91,899.359 1462,885.584 1478.09,870.788 1494.17,855.073 1510.26,838.556 1526.34,821.362 \\n  1542.43,803.625 1558.52,785.487 1574.6,767.098 1590.69,748.61 1606.78,730.178 1622.86,711.959 1638.95,694.108 1655.04,676.78 1671.12,660.124 1687.21,644.286 \\n  1703.3,629.404 1719.38,615.608 1735.47,603.02 1751.55,591.751 1767.64,581.899 1783.73,573.553 1799.81,566.785 1815.9,561.656 1831.99,558.212 1848.07,556.482 \\n  1864.16,556.482 1880.25,558.212 1896.33,561.656 1912.42,566.785 1928.51,573.553 1944.59,581.899 1960.68,591.751 1976.77,603.02 1992.85,615.608 2008.94,629.404 \\n  2025.02,644.286 2041.11,660.124 2057.2,676.78 2073.28,694.108 2089.37,711.959 2105.46,730.178 2121.54,748.61 2137.63,767.098 2153.72,785.487 2169.8,803.625 \\n  2185.89,821.362 2201.98,838.556 2218.06,855.073 2234.15,870.788 2250.24,885.584 2266.32,899.359 2282.41,912.023 2298.49,923.5 2314.58,933.73 2330.67,942.671 \\n  2346.75,950.295 2362.84,956.594 2378.93,961.578 2395.01,965.276 2411.1,967.734 2427.19,969.018 2443.27,969.211 2459.36,968.413 2475.45,966.741 2491.53,964.329 \\n  2507.62,961.321 2523.71,957.877 2539.79,954.166 2555.88,950.366 2571.96,946.66 2588.05,943.235 2604.14,940.28 2620.22,937.98 2636.31,936.515 2652.4,936.057 \\n  2668.48,936.766 2684.57,938.786 2700.66,942.24 2716.74,947.231 2732.83,953.833 2748.92,962.09 2765,972.013 2781.09,983.575 2797.17,996.708 2813.26,1011.3 \\n  2829.35,1027.2 2845.43,1044.2 2861.52,1062.05 2877.61,1080.43 2893.69,1099 2909.78,1117.35 2925.87,1135.03 2941.95,1151.53 2958.04,1166.31 2974.13,1178.79 \\n  2990.21,1188.35 3006.3,1194.36 3022.39,1196.17 3038.47,1193.13 3054.56,1184.59 3070.64,1169.95 3086.73,1148.63 3102.82,1120.15 3118.9,1084.09 3134.99,1040.17 \\n  3151.08,988.266 3167.16,928.418 3183.25,860.903 3199.34,786.264 3215.42,705.356 3231.51,619.4 3247.6,530.043 3263.68,439.414 3279.77,350.2 3295.86,265.715 \\n  3311.94,189.986 3328.03,127.838 3344.11,84.9904 3360.2,68.1625 3376.29,85.1827 3392.37,145.111 3408.46,258.366 3424.55,436.87 3440.63,694.191 3456.72,1045.71 \\n  \\n  \\\"\\/>\\n<polyline clip-path=\\\"url(#clip432)\\\" style=\\\"stroke:#3da44d; stroke-linecap:butt; stroke-linejoin:round; stroke-width:0; stroke-opacity:1; fill:none\\\" points=\\\"\\n  255.514,1045.71 575.635,1035.34 895.755,1014.38 1215.88,963.482 1536,810.776 1856.12,556.265 2176.24,810.776 2496.36,963.482 2816.48,1014.38 3136.6,1035.34 \\n  3456.72,1045.71 \\n  \\\"\\/>\\n<path clip-path=\\\"url(#clip432)\\\" d=\\\"M255.514 1061.71 L244.202 1057.02 L239.514 1045.71 L244.202 1034.4 L255.514 1029.71 L266.826 1034.4 L271.514 1045.71 L266.826 1057.02 Z\\\" fill=\\\"#3da44d\\\" fill-rule=\\\"evenodd\\\" fill-opacity=\\\"1\\\" stroke=\\\"#000000\\\" stroke-opacity=\\\"1\\\" stroke-width=\\\"4.4\\\"\\/>\\n<path clip-path=\\\"url(#clip432)\\\" d=\\\"M575.635 1051.34 L564.323 1046.66 L559.635 1035.34 L564.323 1024.03 L575.635 1019.34 L586.947 1024.03 L591.635 1035.34 L586.947 1046.66 Z\\\" fill=\\\"#3da44d\\\" fill-rule=\\\"evenodd\\\" fill-opacity=\\\"1\\\" stroke=\\\"#000000\\\" stroke-opacity=\\\"1\\\" stroke-width=\\\"4.4\\\"\\/>\\n<path clip-path=\\\"url(#clip432)\\\" d=\\\"M895.755 1030.38 L884.443 1025.7 L879.755 1014.38 L884.443 1003.07 L895.755 998.384 L907.067 1003.07 L911.755 1014.38 L907.067 1025.7 Z\\\" fill=\\\"#3da44d\\\" fill-rule=\\\"evenodd\\\" fill-opacity=\\\"1\\\" stroke=\\\"#000000\\\" stroke-opacity=\\\"1\\\" stroke-width=\\\"4.4\\\"\\/>\\n<path clip-path=\\\"url(#clip432)\\\" d=\\\"M1215.88 979.482 L1204.56 974.794 L1199.88 963.482 L1204.56 952.17 L1215.88 947.482 L1227.19 952.17 L1231.88 963.482 L1227.19 974.794 Z\\\" fill=\\\"#3da44d\\\" fill-rule=\\\"evenodd\\\" fill-opacity=\\\"1\\\" stroke=\\\"#000000\\\" stroke-opacity=\\\"1\\\" stroke-width=\\\"4.4\\\"\\/>\\n<path clip-path=\\\"url(#clip432)\\\" d=\\\"M1536 826.776 L1524.68 822.088 L1520 810.776 L1524.68 799.464 L1536 794.776 L1547.31 799.464 L1552 810.776 L1547.31 822.088 Z\\\" fill=\\\"#3da44d\\\" fill-rule=\\\"evenodd\\\" fill-opacity=\\\"1\\\" stroke=\\\"#000000\\\" stroke-opacity=\\\"1\\\" stroke-width=\\\"4.4\\\"\\/>\\n<path clip-path=\\\"url(#clip432)\\\" d=\\\"M1856.12 572.265 L1844.8 567.577 L1840.12 556.265 L1844.8 544.953 L1856.12 540.265 L1867.43 544.953 L1872.12 556.265 L1867.43 567.577 Z\\\" fill=\\\"#3da44d\\\" fill-rule=\\\"evenodd\\\" fill-opacity=\\\"1\\\" stroke=\\\"#000000\\\" stroke-opacity=\\\"1\\\" stroke-width=\\\"4.4\\\"\\/>\\n<path clip-path=\\\"url(#clip432)\\\" d=\\\"M2176.24 826.776 L2164.93 822.088 L2160.24 810.776 L2164.93 799.464 L2176.24 794.776 L2187.55 799.464 L2192.24 810.776 L2187.55 822.088 Z\\\" fill=\\\"#3da44d\\\" fill-rule=\\\"evenodd\\\" fill-opacity=\\\"1\\\" stroke=\\\"#000000\\\" stroke-opacity=\\\"1\\\" stroke-width=\\\"4.4\\\"\\/>\\n<path clip-path=\\\"url(#clip432)\\\" d=\\\"M2496.36 979.482 L2485.05 974.794 L2480.36 963.482 L2485.05 952.17 L2496.36 947.482 L2507.67 952.17 L2512.36 963.482 L2507.67 974.794 Z\\\" fill=\\\"#3da44d\\\" fill-rule=\\\"evenodd\\\" fill-opacity=\\\"1\\\" stroke=\\\"#000000\\\" stroke-opacity=\\\"1\\\" stroke-width=\\\"4.4\\\"\\/>\\n<path clip-path=\\\"url(#clip432)\\\" d=\\\"M2816.48 1030.38 L2805.17 1025.7 L2800.48 1014.38 L2805.17 1003.07 L2816.48 998.384 L2827.79 1003.07 L2832.48 1014.38 L2827.79 1025.7 Z\\\" fill=\\\"#3da44d\\\" fill-rule=\\\"evenodd\\\" fill-opacity=\\\"1\\\" stroke=\\\"#000000\\\" stroke-opacity=\\\"1\\\" stroke-width=\\\"4.4\\\"\\/>\\n<path clip-path=\\\"url(#clip432)\\\" d=\\\"M3136.6 1051.34 L3125.29 1046.66 L3120.6 1035.34 L3125.29 1024.03 L3136.6 1019.34 L3147.91 1024.03 L3152.6 1035.34 L3147.91 1046.66 Z\\\" fill=\\\"#3da44d\\\" fill-rule=\\\"evenodd\\\" fill-opacity=\\\"1\\\" stroke=\\\"#000000\\\" stroke-opacity=\\\"1\\\" stroke-width=\\\"4.4\\\"\\/>\\n<path clip-path=\\\"url(#clip432)\\\" d=\\\"M3456.72 1061.71 L3445.41 1057.02 L3440.72 1045.71 L3445.41 1034.4 L3456.72 1029.71 L3468.03 1034.4 L3472.72 1045.71 L3468.03 1057.02 Z\\\" fill=\\\"#3da44d\\\" fill-rule=\\\"evenodd\\\" fill-opacity=\\\"1\\\" stroke=\\\"#000000\\\" stroke-opacity=\\\"1\\\" stroke-width=\\\"4.4\\\"\\/>\\n<\\/svg>\\n\"},\"nodeType\":\"DOM\",\"type\":\"node\",\"instanceArgs\":{\"namespace\":\"html\",\"tag\":\"div\"},\"children\":[]}]}]}}}},\"children\":[{\"props\":{},\"nodeType\":\"ObservableNode\",\"type\":\"node\",\"instanceArgs\":{\"id\":\"4402211050411017766\",\"name\":\"obs-node\"},\"children\":[]}]}]},\n",
       "        window,\n",
       "    );\n",
       "    })()\n",
       "    </script>\n",
       "</div>\n"
      ],
      "text/plain": [
       "Node{WebIO.DOM}(WebIO.DOM(:html, :div), Any[Node{WebIO.DOM}(WebIO.DOM(:html, :div), Any[Scope(Node{WebIO.DOM}(WebIO.DOM(:html, :div), Any[Node{WebIO.DOM}(WebIO.DOM(:html, :div), Any[Node{WebIO.DOM}(WebIO.DOM(:html, :label), Any[\"n\"], Dict{Symbol, Any}(:className => \"interact \", :style => Dict{Any, Any}(:padding => \"5px 10px 0px 10px\")))], Dict{Symbol, Any}(:className => \"interact-flex-row-left\")), Node{WebIO.DOM}(WebIO.DOM(:html, :div), Any[Node{WebIO.DOM}(WebIO.DOM(:html, :input), Any[], Dict{Symbol, Any}(:max => 21, :min => 2, :attributes => Dict{Any, Any}(:type => \"range\", Symbol(\"data-bind\") => \"numericValue: index, valueUpdate: 'input', event: {change: function (){this.changes(this.changes()+1)}}\", \"orient\" => \"horizontal\"), :step => 1, :className => \"slider slider is-fullwidth\", :style => Dict{Any, Any}()))], Dict{Symbol, Any}(:className => \"interact-flex-row-center\")), Node{WebIO.DOM}(WebIO.DOM(:html, :div), Any[Node{WebIO.DOM}(WebIO.DOM(:html, :p), Any[], Dict{Symbol, Any}(:attributes => Dict(\"data-bind\" => \"text: formatted_val\")))], Dict{Symbol, Any}(:className => \"interact-flex-row-right\"))], Dict{Symbol, Any}(:className => \"interact-flex-row interact-widget\")), Dict{String, Tuple{Observables.AbstractObservable, Union{Nothing, Bool}}}(\"changes\" => (Observable{Int64} with 1 listeners. Value:\n",
       "0, nothing), \"index\" => (Observable{Int64} with 2 listeners. Value:\n",
       "11, nothing)), Set{String}(), nothing, Asset[Asset(\"js\", \"knockout\", \"/home/tisaac/.julia/packages/Knockout/3gjS1/src/../assets/knockout.js\"), Asset(\"js\", \"knockout_punches\", \"/home/tisaac/.julia/packages/Knockout/3gjS1/src/../assets/knockout_punches.js\"), Asset(\"js\", nothing, \"/home/tisaac/.julia/packages/InteractBase/o1I6G/src/../assets/all.js\"), Asset(\"css\", nothing, \"/home/tisaac/.julia/packages/InteractBase/o1I6G/src/../assets/style.css\"), Asset(\"css\", nothing, \"/home/tisaac/.julia/packages/Interact/pVyN2/src/../assets/bulma_confined.min.css\")], Dict{Any, Any}(\"changes\" => Any[WebIO.JSString(\"(function (val){return (val!=this.model[\\\"changes\\\"]()) ? (this.valueFromJulia[\\\"changes\\\"]=true, this.model[\\\"changes\\\"](val)) : undefined})\")], \"index\" => Any[WebIO.JSString(\"(function (val){return (val!=this.model[\\\"index\\\"]()) ? (this.valueFromJulia[\\\"index\\\"]=true, this.model[\\\"index\\\"](val)) : undefined})\")]), WebIO.ConnectionPool(Channel{Any}(32), Set{AbstractConnection}(), Condition(Base.InvasiveLinkedList{Task}(Task (runnable) @0x00007f18ae3cf990, Task (runnable) @0x00007f18ae3cf990), Base.AlwaysLockedST(1))), WebIO.JSString[WebIO.JSString(\"function () {\\n    var handler = (function (ko, koPunches) {\\n    ko.punches.enableAll();\\n    ko.bindingHandlers.numericValue = {\\n        init: function(element, valueAccessor, allBindings, data, context) {\\n            var stringified = ko.observable(ko.unwrap(valueAccessor()));\\n            stringified.subscribe(function(value) {\\n                var val = parseFloat(value);\\n                if (!isNaN(val)) {\\n                    valueAccessor()(val);\\n                }\\n            });\\n            valueAccessor().subscribe(function(value) {\\n                var str = JSON.stringify(value);\\n                if ((str == \\\"0\\\") && ([\\\"-0\\\", \\\"-0.\\\"].indexOf(stringified()) >= 0))\\n                     return;\\n                 if ([\\\"null\\\", \\\"\\\"].indexOf(str) >= 0)\\n                     return;\\n                stringified(str);\\n            });\\n            ko.applyBindingsToNode(\\n                element,\\n                {\\n                    value: stringified,\\n                    valueUpdate: allBindings.get('valueUpdate'),\\n                },\\n                context,\\n            );\\n        }\\n    };\\n    var json_data = {\\\"formatted_vals\\\":[\\\"2\\\",\\\"3\\\",\\\"4\\\",\\\"5\\\",\\\"6\\\",\\\"7\\\",\\\"8\\\",\\\"9\\\",\\\"10\\\",\\\"11\\\",\\\"12\\\",\\\"13\\\",\\\"14\\\",\\\"15\\\",\\\"16\\\",\\\"17\\\",\\\"18\\\",\\\"19\\\",\\\"20\\\",\\\"21\\\"],\\\"changes\\\":WebIO.getval({\\\"name\\\":\\\"changes\\\",\\\"scope\\\":\\\"10093488433629681561\\\",\\\"id\\\":\\\"18288996532057175255\\\",\\\"type\\\":\\\"observable\\\"}),\\\"index\\\":WebIO.getval({\\\"name\\\":\\\"index\\\",\\\"scope\\\":\\\"10093488433629681561\\\",\\\"id\\\":\\\"11849217862170383083\\\",\\\"type\\\":\\\"observable\\\"})};\\n    var self = this;\\n    function AppViewModel() {\\n        for (var key in json_data) {\\n            var el = json_data[key];\\n            this[key] = Array.isArray(el) ? ko.observableArray(el) : ko.observable(el);\\n        }\\n        \\n        [this[\\\"formatted_val\\\"]=ko.computed(    function(){\\n        return this.formatted_vals()[parseInt(this.index())-(2)];\\n    }\\n,this)]\\n        [this[\\\"changes\\\"].subscribe((function (val){!(this.valueFromJulia[\\\"changes\\\"]) ? (WebIO.setval({\\\"name\\\":\\\"changes\\\",\\\"scope\\\":\\\"10093488433629681561\\\",\\\"id\\\":\\\"18288996532057175255\\\",\\\"type\\\":\\\"observable\\\"},val)) : undefined; return this.valueFromJulia[\\\"changes\\\"]=false}),self),this[\\\"index\\\"].subscribe((function (val){!(this.valueFromJulia[\\\"index\\\"]) ? (WebIO.setval({\\\"name\\\":\\\"index\\\",\\\"scope\\\":\\\"10093488433629681561\\\",\\\"id\\\":\\\"11849217862170383083\\\",\\\"type\\\":\\\"observable\\\"},val)) : undefined; return this.valueFromJulia[\\\"index\\\"]=false}),self)]\\n        \\n    }\\n    self.model = new AppViewModel();\\n    self.valueFromJulia = {};\\n    for (var key in json_data) {\\n        self.valueFromJulia[key] = false;\\n    }\\n    ko.applyBindings(self.model, self.dom);\\n}\\n);\\n    (WebIO.importBlock({\\\"data\\\":[{\\\"name\\\":\\\"knockout\\\",\\\"type\\\":\\\"js\\\",\\\"url\\\":\\\"/assetserver/46ca1ae6128ce5cef46ae6c83c10cbc27a02b7d5-knockout.js\\\"},{\\\"name\\\":\\\"knockout_punches\\\",\\\"type\\\":\\\"js\\\",\\\"url\\\":\\\"/assetserver/ae9f554c0387f76781e87553335a640c2663983d-knockout_punches.js\\\"}],\\\"type\\\":\\\"async_block\\\"})).then((imports) => handler.apply(this, imports));\\n}\\n\")])], Dict{Symbol, Any}(:className => \"field interact-widget\")), Observable{Node{WebIO.DOM}} with 0 listeners. Value:\n",
       "Node{WebIO.DOM}(WebIO.DOM(:html, :div), Any[Node{WebIO.DOM}(WebIO.DOM(:html, :div), Any[\"||V||₂ ||V⁻¹||₂ = 1.4e+04\", Plot{Plots.GRBackend() n=3}], Dict{Symbol, Any}(:style => Dict(\"display\" => \"flex\", \"flex-direction\" => \"column\")))], Dict{Symbol, Any}(:className => \"interact-flex-row interact-widget\"))], Dict{Symbol, Any}())"
      ]
     },
     "execution_count": 36,
     "metadata": {
      "application/vnd.webio.node+json": {
       "kernelId": "d09180db-63cc-4700-a156-6dec3ca877f3"
      }
     },
     "output_type": "execute_result"
    }
   ],
   "source": [
    "gr();\n",
    "agnesi(x) = 1 ./ (1 .+ 25 * x .^ 2)\n",
    "@manipulate for n = 2:21\n",
    "    p = n - 1\n",
    "    x = LinRange(-1.0,1.0,p+1)\n",
    "    y = agnesi(x)\n",
    "    pows = 0:p\n",
    "    V = hcat([ x .^ q for q in pows]...)\n",
    "    c = V \\ y\n",
    "    xfull = LinRange(-1.0,1.0,200)\n",
    "    yfull = map(x -> c' * (x .^ pows), xfull)\n",
    "    txt = \"||V||₂ ||V⁻¹||₂ = $(@sprintf(\"%.1e\",cond(V)))\"\n",
    "    p = plot(xfull, agnesi(xfull))\n",
    "    plot!(p, xfull, yfull, ylim=(-2,2))\n",
    "    plot!(p, x, y, l = 0, m = :o)\n",
    "    vbox(txt, p)\n",
    "end"
   ]
  },
  {
   "cell_type": "markdown",
   "metadata": {
    "cell_style": "split"
   },
   "source": [
    "Recall the Vandermonde matrix equation that solves for coefficients from interpolation values\n",
    "\n",
    "$$\n",
    "\\underbrace{\n",
    "\\begin{bmatrix}\n",
    "1 & x_1 & x_1^2 & & x_1^{n-1} \\\\\n",
    "1 & x_2 & x_2^2 & \\dots &x_2^{n-1} \\\\\n",
    "1 & x_3 & x_3^2 & & x_3^{n-1} \\\\\n",
    "  & \\vdots & & & \\vdots \\\\\n",
    "1 & x_n & x_n^2 & & x_n^{n-1}\n",
    "\\end{bmatrix}\n",
    "}_{V}\n",
    "\\begin{bmatrix}\n",
    "c_0 \\\\ c_1 \\\\ c_2 \\\\ \\vdots \\\\ c_{n-1}\n",
    "\\end{bmatrix}\n",
    "=\n",
    "\\begin{bmatrix}\n",
    "y_0 \\\\ y_1 \\\\ y_2 \\\\ \\vdots \\\\ y_{n-1}\n",
    "\\end{bmatrix}\n",
    "$$"
   ]
  },
  {
   "cell_type": "markdown",
   "metadata": {
    "slideshow": {
     "slide_type": "subslide"
    }
   },
   "source": [
    "### Polynomial least-squares (degree $n-1$ through $m>n$ points) is more stable"
   ]
  },
  {
   "cell_type": "code",
   "execution_count": 37,
   "metadata": {
    "cell_style": "split",
    "hideCode": true
   },
   "outputs": [
    {
     "data": {
      "application/vnd.webio.node+json": {
       "children": [
        {
         "children": [
          {
           "children": [
            {
             "children": [
              {
               "children": [
                {
                 "children": [
                  "n"
                 ],
                 "instanceArgs": {
                  "namespace": "html",
                  "tag": "label"
                 },
                 "nodeType": "DOM",
                 "props": {
                  "className": "interact ",
                  "style": {
                   "padding": "5px 10px 0px 10px"
                  }
                 },
                 "type": "node"
                }
               ],
               "instanceArgs": {
                "namespace": "html",
                "tag": "div"
               },
               "nodeType": "DOM",
               "props": {
                "className": "interact-flex-row-left"
               },
               "type": "node"
              },
              {
               "children": [
                {
                 "children": [],
                 "instanceArgs": {
                  "namespace": "html",
                  "tag": "input"
                 },
                 "nodeType": "DOM",
                 "props": {
                  "attributes": {
                   "data-bind": "numericValue: index, valueUpdate: 'input', event: {change: function (){this.changes(this.changes()+1)}}",
                   "orient": "horizontal",
                   "type": "range"
                  },
                  "className": "slider slider is-fullwidth",
                  "max": 21,
                  "min": 2,
                  "step": 1,
                  "style": {}
                 },
                 "type": "node"
                }
               ],
               "instanceArgs": {
                "namespace": "html",
                "tag": "div"
               },
               "nodeType": "DOM",
               "props": {
                "className": "interact-flex-row-center"
               },
               "type": "node"
              },
              {
               "children": [
                {
                 "children": [],
                 "instanceArgs": {
                  "namespace": "html",
                  "tag": "p"
                 },
                 "nodeType": "DOM",
                 "props": {
                  "attributes": {
                   "data-bind": "text: formatted_val"
                  }
                 },
                 "type": "node"
                }
               ],
               "instanceArgs": {
                "namespace": "html",
                "tag": "div"
               },
               "nodeType": "DOM",
               "props": {
                "className": "interact-flex-row-right"
               },
               "type": "node"
              }
             ],
             "instanceArgs": {
              "namespace": "html",
              "tag": "div"
             },
             "nodeType": "DOM",
             "props": {
              "className": "interact-flex-row interact-widget"
             },
             "type": "node"
            }
           ],
           "instanceArgs": {
            "handlers": {
             "changes": [
              "(function (val){return (val!=this.model[\"changes\"]()) ? (this.valueFromJulia[\"changes\"]=true, this.model[\"changes\"](val)) : undefined})"
             ],
             "index": [
              "(function (val){return (val!=this.model[\"index\"]()) ? (this.valueFromJulia[\"index\"]=true, this.model[\"index\"](val)) : undefined})"
             ]
            },
            "id": "14070968435950504006",
            "imports": {
             "data": [
              {
               "name": "knockout",
               "type": "js",
               "url": "/assetserver/46ca1ae6128ce5cef46ae6c83c10cbc27a02b7d5-knockout.js"
              },
              {
               "name": "knockout_punches",
               "type": "js",
               "url": "/assetserver/ae9f554c0387f76781e87553335a640c2663983d-knockout_punches.js"
              },
              {
               "name": null,
               "type": "js",
               "url": "/assetserver/7eb702f04b44b9a3937e021b87223b20d5750a09-all.js"
              },
              {
               "name": null,
               "type": "css",
               "url": "/assetserver/a7c3e8b7a7fd3e462a7aeaf12ab4ac957d9781c2-style.css"
              },
              {
               "name": null,
               "type": "css",
               "url": "/assetserver/e66482be06717616844d1fa8450722a9c1fd9e07-bulma_confined.min.css"
              }
             ],
             "type": "async_block"
            },
            "mount_callbacks": [
             "function () {\n    var handler = (function (ko, koPunches) {\n    ko.punches.enableAll();\n    ko.bindingHandlers.numericValue = {\n        init: function(element, valueAccessor, allBindings, data, context) {\n            var stringified = ko.observable(ko.unwrap(valueAccessor()));\n            stringified.subscribe(function(value) {\n                var val = parseFloat(value);\n                if (!isNaN(val)) {\n                    valueAccessor()(val);\n                }\n            });\n            valueAccessor().subscribe(function(value) {\n                var str = JSON.stringify(value);\n                if ((str == \"0\") && ([\"-0\", \"-0.\"].indexOf(stringified()) >= 0))\n                     return;\n                 if ([\"null\", \"\"].indexOf(str) >= 0)\n                     return;\n                stringified(str);\n            });\n            ko.applyBindingsToNode(\n                element,\n                {\n                    value: stringified,\n                    valueUpdate: allBindings.get('valueUpdate'),\n                },\n                context,\n            );\n        }\n    };\n    var json_data = {\"formatted_vals\":[\"2\",\"3\",\"4\",\"5\",\"6\",\"7\",\"8\",\"9\",\"10\",\"11\",\"12\",\"13\",\"14\",\"15\",\"16\",\"17\",\"18\",\"19\",\"20\",\"21\"],\"changes\":WebIO.getval({\"name\":\"changes\",\"scope\":\"14070968435950504006\",\"id\":\"4849622990898378558\",\"type\":\"observable\"}),\"index\":WebIO.getval({\"name\":\"index\",\"scope\":\"14070968435950504006\",\"id\":\"3639163041518966976\",\"type\":\"observable\"})};\n    var self = this;\n    function AppViewModel() {\n        for (var key in json_data) {\n            var el = json_data[key];\n            this[key] = Array.isArray(el) ? ko.observableArray(el) : ko.observable(el);\n        }\n        \n        [this[\"formatted_val\"]=ko.computed(    function(){\n        return this.formatted_vals()[parseInt(this.index())-(2)];\n    }\n,this)]\n        [this[\"changes\"].subscribe((function (val){!(this.valueFromJulia[\"changes\"]) ? (WebIO.setval({\"name\":\"changes\",\"scope\":\"14070968435950504006\",\"id\":\"4849622990898378558\",\"type\":\"observable\"},val)) : undefined; return this.valueFromJulia[\"changes\"]=false}),self),this[\"index\"].subscribe((function (val){!(this.valueFromJulia[\"index\"]) ? (WebIO.setval({\"name\":\"index\",\"scope\":\"14070968435950504006\",\"id\":\"3639163041518966976\",\"type\":\"observable\"},val)) : undefined; return this.valueFromJulia[\"index\"]=false}),self)]\n        \n    }\n    self.model = new AppViewModel();\n    self.valueFromJulia = {};\n    for (var key in json_data) {\n        self.valueFromJulia[key] = false;\n    }\n    ko.applyBindings(self.model, self.dom);\n}\n);\n    (WebIO.importBlock({\"data\":[{\"name\":\"knockout\",\"type\":\"js\",\"url\":\"/assetserver/46ca1ae6128ce5cef46ae6c83c10cbc27a02b7d5-knockout.js\"},{\"name\":\"knockout_punches\",\"type\":\"js\",\"url\":\"/assetserver/ae9f554c0387f76781e87553335a640c2663983d-knockout_punches.js\"}],\"type\":\"async_block\"})).then((imports) => handler.apply(this, imports));\n}\n"
            ],
            "observables": {
             "changes": {
              "id": "4849622990898378558",
              "sync": false,
              "value": 0
             },
             "index": {
              "id": "3639163041518966976",
              "sync": true,
              "value": 11
             }
            },
            "systemjs_options": null
           },
           "nodeType": "Scope",
           "props": {},
           "type": "node"
          }
         ],
         "instanceArgs": {
          "namespace": "html",
          "tag": "div"
         },
         "nodeType": "DOM",
         "props": {
          "className": "field interact-widget"
         },
         "type": "node"
        },
        {
         "children": [
          {
           "children": [
            {
             "children": [
              {
               "children": [
                {
                 "children": [
                  "m"
                 ],
                 "instanceArgs": {
                  "namespace": "html",
                  "tag": "label"
                 },
                 "nodeType": "DOM",
                 "props": {
                  "className": "interact ",
                  "style": {
                   "padding": "5px 10px 0px 10px"
                  }
                 },
                 "type": "node"
                }
               ],
               "instanceArgs": {
                "namespace": "html",
                "tag": "div"
               },
               "nodeType": "DOM",
               "props": {
                "className": "interact-flex-row-left"
               },
               "type": "node"
              },
              {
               "children": [
                {
                 "children": [],
                 "instanceArgs": {
                  "namespace": "html",
                  "tag": "input"
                 },
                 "nodeType": "DOM",
                 "props": {
                  "attributes": {
                   "data-bind": "numericValue: index, valueUpdate: 'input', event: {change: function (){this.changes(this.changes()+1)}}",
                   "orient": "horizontal",
                   "type": "range"
                  },
                  "className": "slider slider is-fullwidth",
                  "max": 21,
                  "min": 2,
                  "step": 1,
                  "style": {}
                 },
                 "type": "node"
                }
               ],
               "instanceArgs": {
                "namespace": "html",
                "tag": "div"
               },
               "nodeType": "DOM",
               "props": {
                "className": "interact-flex-row-center"
               },
               "type": "node"
              },
              {
               "children": [
                {
                 "children": [],
                 "instanceArgs": {
                  "namespace": "html",
                  "tag": "p"
                 },
                 "nodeType": "DOM",
                 "props": {
                  "attributes": {
                   "data-bind": "text: formatted_val"
                  }
                 },
                 "type": "node"
                }
               ],
               "instanceArgs": {
                "namespace": "html",
                "tag": "div"
               },
               "nodeType": "DOM",
               "props": {
                "className": "interact-flex-row-right"
               },
               "type": "node"
              }
             ],
             "instanceArgs": {
              "namespace": "html",
              "tag": "div"
             },
             "nodeType": "DOM",
             "props": {
              "className": "interact-flex-row interact-widget"
             },
             "type": "node"
            }
           ],
           "instanceArgs": {
            "handlers": {
             "changes": [
              "(function (val){return (val!=this.model[\"changes\"]()) ? (this.valueFromJulia[\"changes\"]=true, this.model[\"changes\"](val)) : undefined})"
             ],
             "index": [
              "(function (val){return (val!=this.model[\"index\"]()) ? (this.valueFromJulia[\"index\"]=true, this.model[\"index\"](val)) : undefined})"
             ]
            },
            "id": "3604159059442142776",
            "imports": {
             "data": [
              {
               "name": "knockout",
               "type": "js",
               "url": "/assetserver/46ca1ae6128ce5cef46ae6c83c10cbc27a02b7d5-knockout.js"
              },
              {
               "name": "knockout_punches",
               "type": "js",
               "url": "/assetserver/ae9f554c0387f76781e87553335a640c2663983d-knockout_punches.js"
              },
              {
               "name": null,
               "type": "js",
               "url": "/assetserver/7eb702f04b44b9a3937e021b87223b20d5750a09-all.js"
              },
              {
               "name": null,
               "type": "css",
               "url": "/assetserver/a7c3e8b7a7fd3e462a7aeaf12ab4ac957d9781c2-style.css"
              },
              {
               "name": null,
               "type": "css",
               "url": "/assetserver/e66482be06717616844d1fa8450722a9c1fd9e07-bulma_confined.min.css"
              }
             ],
             "type": "async_block"
            },
            "mount_callbacks": [
             "function () {\n    var handler = (function (ko, koPunches) {\n    ko.punches.enableAll();\n    ko.bindingHandlers.numericValue = {\n        init: function(element, valueAccessor, allBindings, data, context) {\n            var stringified = ko.observable(ko.unwrap(valueAccessor()));\n            stringified.subscribe(function(value) {\n                var val = parseFloat(value);\n                if (!isNaN(val)) {\n                    valueAccessor()(val);\n                }\n            });\n            valueAccessor().subscribe(function(value) {\n                var str = JSON.stringify(value);\n                if ((str == \"0\") && ([\"-0\", \"-0.\"].indexOf(stringified()) >= 0))\n                     return;\n                 if ([\"null\", \"\"].indexOf(str) >= 0)\n                     return;\n                stringified(str);\n            });\n            ko.applyBindingsToNode(\n                element,\n                {\n                    value: stringified,\n                    valueUpdate: allBindings.get('valueUpdate'),\n                },\n                context,\n            );\n        }\n    };\n    var json_data = {\"formatted_vals\":[\"2\",\"3\",\"4\",\"5\",\"6\",\"7\",\"8\",\"9\",\"10\",\"11\",\"12\",\"13\",\"14\",\"15\",\"16\",\"17\",\"18\",\"19\",\"20\",\"21\"],\"changes\":WebIO.getval({\"name\":\"changes\",\"scope\":\"3604159059442142776\",\"id\":\"6919608494783488120\",\"type\":\"observable\"}),\"index\":WebIO.getval({\"name\":\"index\",\"scope\":\"3604159059442142776\",\"id\":\"7085498823529930020\",\"type\":\"observable\"})};\n    var self = this;\n    function AppViewModel() {\n        for (var key in json_data) {\n            var el = json_data[key];\n            this[key] = Array.isArray(el) ? ko.observableArray(el) : ko.observable(el);\n        }\n        \n        [this[\"formatted_val\"]=ko.computed(    function(){\n        return this.formatted_vals()[parseInt(this.index())-(2)];\n    }\n,this)]\n        [this[\"changes\"].subscribe((function (val){!(this.valueFromJulia[\"changes\"]) ? (WebIO.setval({\"name\":\"changes\",\"scope\":\"3604159059442142776\",\"id\":\"6919608494783488120\",\"type\":\"observable\"},val)) : undefined; return this.valueFromJulia[\"changes\"]=false}),self),this[\"index\"].subscribe((function (val){!(this.valueFromJulia[\"index\"]) ? (WebIO.setval({\"name\":\"index\",\"scope\":\"3604159059442142776\",\"id\":\"7085498823529930020\",\"type\":\"observable\"},val)) : undefined; return this.valueFromJulia[\"index\"]=false}),self)]\n        \n    }\n    self.model = new AppViewModel();\n    self.valueFromJulia = {};\n    for (var key in json_data) {\n        self.valueFromJulia[key] = false;\n    }\n    ko.applyBindings(self.model, self.dom);\n}\n);\n    (WebIO.importBlock({\"data\":[{\"name\":\"knockout\",\"type\":\"js\",\"url\":\"/assetserver/46ca1ae6128ce5cef46ae6c83c10cbc27a02b7d5-knockout.js\"},{\"name\":\"knockout_punches\",\"type\":\"js\",\"url\":\"/assetserver/ae9f554c0387f76781e87553335a640c2663983d-knockout_punches.js\"}],\"type\":\"async_block\"})).then((imports) => handler.apply(this, imports));\n}\n"
            ],
            "observables": {
             "changes": {
              "id": "6919608494783488120",
              "sync": false,
              "value": 0
             },
             "index": {
              "id": "7085498823529930020",
              "sync": true,
              "value": 11
             }
            },
            "systemjs_options": null
           },
           "nodeType": "Scope",
           "props": {},
           "type": "node"
          }
         ],
         "instanceArgs": {
          "namespace": "html",
          "tag": "div"
         },
         "nodeType": "DOM",
         "props": {
          "className": "field interact-widget"
         },
         "type": "node"
        },
        {
         "children": [
          {
           "children": [],
           "instanceArgs": {
            "id": "3344808766766081749",
            "name": "obs-node"
           },
           "nodeType": "ObservableNode",
           "props": {},
           "type": "node"
          }
         ],
         "instanceArgs": {
          "handlers": {},
          "id": "2237055603242556313",
          "imports": {
           "data": [],
           "type": "async_block"
          },
          "mount_callbacks": [],
          "observables": {
           "obs-node": {
            "id": "3344808766766081749",
            "sync": false,
            "value": {
             "children": [
              {
               "children": [
                "||V||₂ ||V⁺||₂ = 1.4e+04",
                {
                 "children": [],
                 "instanceArgs": {
                  "namespace": "html",
                  "tag": "div"
                 },
                 "nodeType": "DOM",
                 "props": {
                  "setInnerHtml": "<?xml version=\"1.0\" encoding=\"utf-8\"?>\n<svg xmlns=\"http://www.w3.org/2000/svg\" xmlns:xlink=\"http://www.w3.org/1999/xlink\" width=\"900\" height=\"550\" viewBox=\"0 0 3600 2200\">\n<defs>\n  <clipPath id=\"clip910\">\n    <rect x=\"0\" y=\"0\" width=\"3600\" height=\"2200\"/>\n  </clipPath>\n</defs>\n<path clip-path=\"url(#clip910)\" d=\"\nM0 2200 L3600 2200 L3600 0 L0 0  Z\n  \" fill=\"#ffffff\" fill-rule=\"evenodd\" fill-opacity=\"1\"/>\n<defs>\n  <clipPath id=\"clip911\">\n    <rect x=\"720\" y=\"0\" width=\"2521\" height=\"2200\"/>\n  </clipPath>\n</defs>\n<path clip-path=\"url(#clip910)\" d=\"\nM159.478 2083.33 L3552.76 2083.33 L3552.76 47.2441 L159.478 47.2441  Z\n  \" fill=\"#ffffff\" fill-rule=\"evenodd\" fill-opacity=\"1\"/>\n<defs>\n  <clipPath id=\"clip912\">\n    <rect x=\"159\" y=\"47\" width=\"3394\" height=\"2037\"/>\n  </clipPath>\n</defs>\n<polyline clip-path=\"url(#clip912)\" style=\"stroke:#000000; stroke-linecap:butt; stroke-linejoin:round; stroke-width:2; stroke-opacity:0.1; fill:none\" points=\"\n  255.514,2083.33 255.514,47.2441 \n  \"/>\n<polyline clip-path=\"url(#clip912)\" style=\"stroke:#000000; stroke-linecap:butt; stroke-linejoin:round; stroke-width:2; stroke-opacity:0.1; fill:none\" points=\"\n  1055.82,2083.33 1055.82,47.2441 \n  \"/>\n<polyline clip-path=\"url(#clip912)\" style=\"stroke:#000000; stroke-linecap:butt; stroke-linejoin:round; stroke-width:2; stroke-opacity:0.1; fill:none\" points=\"\n  1856.12,2083.33 1856.12,47.2441 \n  \"/>\n<polyline clip-path=\"url(#clip912)\" style=\"stroke:#000000; stroke-linecap:butt; stroke-linejoin:round; stroke-width:2; stroke-opacity:0.1; fill:none\" points=\"\n  2656.42,2083.33 2656.42,47.2441 \n  \"/>\n<polyline clip-path=\"url(#clip912)\" style=\"stroke:#000000; stroke-linecap:butt; stroke-linejoin:round; stroke-width:2; stroke-opacity:0.1; fill:none\" points=\"\n  3456.72,2083.33 3456.72,47.2441 \n  \"/>\n<polyline clip-path=\"url(#clip910)\" style=\"stroke:#000000; stroke-linecap:butt; stroke-linejoin:round; stroke-width:4; stroke-opacity:1; fill:none\" points=\"\n  159.478,2083.33 3552.76,2083.33 \n  \"/>\n<polyline clip-path=\"url(#clip910)\" style=\"stroke:#000000; stroke-linecap:butt; stroke-linejoin:round; stroke-width:4; stroke-opacity:1; fill:none\" points=\"\n  255.514,2083.33 255.514,2064.43 \n  \"/>\n<polyline clip-path=\"url(#clip910)\" style=\"stroke:#000000; stroke-linecap:butt; stroke-linejoin:round; stroke-width:4; stroke-opacity:1; fill:none\" points=\"\n  1055.82,2083.33 1055.82,2064.43 \n  \"/>\n<polyline clip-path=\"url(#clip910)\" style=\"stroke:#000000; stroke-linecap:butt; stroke-linejoin:round; stroke-width:4; stroke-opacity:1; fill:none\" points=\"\n  1856.12,2083.33 1856.12,2064.43 \n  \"/>\n<polyline clip-path=\"url(#clip910)\" style=\"stroke:#000000; stroke-linecap:butt; stroke-linejoin:round; stroke-width:4; stroke-opacity:1; fill:none\" points=\"\n  2656.42,2083.33 2656.42,2064.43 \n  \"/>\n<polyline clip-path=\"url(#clip910)\" style=\"stroke:#000000; stroke-linecap:butt; stroke-linejoin:round; stroke-width:4; stroke-opacity:1; fill:none\" points=\"\n  3456.72,2083.33 3456.72,2064.43 \n  \"/>\n<path clip-path=\"url(#clip910)\" d=\"M202.042 2138.5 L231.718 2138.5 L231.718 2142.43 L202.042 2142.43 L202.042 2138.5 Z\" fill=\"#000000\" fill-rule=\"evenodd\" fill-opacity=\"1\" /><path clip-path=\"url(#clip910)\" d=\"M242.621 2151.39 L250.259 2151.39 L250.259 2125.03 L241.949 2126.69 L241.949 2122.43 L250.213 2120.77 L254.889 2120.77 L254.889 2151.39 L262.528 2151.39 L262.528 2155.33 L242.621 2155.33 L242.621 2151.39 Z\" fill=\"#000000\" fill-rule=\"evenodd\" fill-opacity=\"1\" /><path clip-path=\"url(#clip910)\" d=\"M271.972 2149.45 L276.857 2149.45 L276.857 2155.33 L271.972 2155.33 L271.972 2149.45 Z\" fill=\"#000000\" fill-rule=\"evenodd\" fill-opacity=\"1\" /><path clip-path=\"url(#clip910)\" d=\"M297.042 2123.85 Q293.431 2123.85 291.602 2127.41 Q289.796 2130.95 289.796 2138.08 Q289.796 2145.19 291.602 2148.75 Q293.431 2152.3 297.042 2152.3 Q300.676 2152.3 302.481 2148.75 Q304.31 2145.19 304.31 2138.08 Q304.31 2130.95 302.481 2127.41 Q300.676 2123.85 297.042 2123.85 M297.042 2120.14 Q302.852 2120.14 305.907 2124.75 Q308.986 2129.33 308.986 2138.08 Q308.986 2146.81 305.907 2151.42 Q302.852 2156 297.042 2156 Q291.231 2156 288.153 2151.42 Q285.097 2146.81 285.097 2138.08 Q285.097 2129.33 288.153 2124.75 Q291.231 2120.14 297.042 2120.14 Z\" fill=\"#000000\" fill-rule=\"evenodd\" fill-opacity=\"1\" /><path clip-path=\"url(#clip910)\" d=\"M1002.84 2138.5 L1032.52 2138.5 L1032.52 2142.43 L1002.84 2142.43 L1002.84 2138.5 Z\" fill=\"#000000\" fill-rule=\"evenodd\" fill-opacity=\"1\" /><path clip-path=\"url(#clip910)\" d=\"M1052.61 2123.85 Q1049 2123.85 1047.17 2127.41 Q1045.36 2130.95 1045.36 2138.08 Q1045.36 2145.19 1047.17 2148.75 Q1049 2152.3 1052.61 2152.3 Q1056.24 2152.3 1058.05 2148.75 Q1059.88 2145.19 1059.88 2138.08 Q1059.88 2130.95 1058.05 2127.41 Q1056.24 2123.85 1052.61 2123.85 M1052.61 2120.14 Q1058.42 2120.14 1061.48 2124.75 Q1064.55 2129.33 1064.55 2138.08 Q1064.55 2146.81 1061.48 2151.42 Q1058.42 2156 1052.61 2156 Q1046.8 2156 1043.72 2151.42 Q1040.67 2146.81 1040.67 2138.08 Q1040.67 2129.33 1043.72 2124.75 Q1046.8 2120.14 1052.61 2120.14 Z\" fill=\"#000000\" fill-rule=\"evenodd\" fill-opacity=\"1\" /><path clip-path=\"url(#clip910)\" d=\"M1072.77 2149.45 L1077.66 2149.45 L1077.66 2155.33 L1072.77 2155.33 L1072.77 2149.45 Z\" fill=\"#000000\" fill-rule=\"evenodd\" fill-opacity=\"1\" /><path clip-path=\"url(#clip910)\" d=\"M1087.89 2120.77 L1106.24 2120.77 L1106.24 2124.7 L1092.17 2124.7 L1092.17 2133.18 Q1093.19 2132.83 1094.21 2132.67 Q1095.23 2132.48 1096.24 2132.48 Q1102.03 2132.48 1105.41 2135.65 Q1108.79 2138.82 1108.79 2144.24 Q1108.79 2149.82 1105.32 2152.92 Q1101.85 2156 1095.53 2156 Q1093.35 2156 1091.08 2155.63 Q1088.84 2155.26 1086.43 2154.52 L1086.43 2149.82 Q1088.51 2150.95 1090.73 2151.51 Q1092.96 2152.06 1095.43 2152.06 Q1099.44 2152.06 1101.78 2149.96 Q1104.11 2147.85 1104.11 2144.24 Q1104.11 2140.63 1101.78 2138.52 Q1099.44 2136.42 1095.43 2136.42 Q1093.56 2136.42 1091.68 2136.83 Q1089.83 2137.25 1087.89 2138.13 L1087.89 2120.77 Z\" fill=\"#000000\" fill-rule=\"evenodd\" fill-opacity=\"1\" /><path clip-path=\"url(#clip910)\" d=\"M1833.5 2123.85 Q1829.89 2123.85 1828.06 2127.41 Q1826.26 2130.95 1826.26 2138.08 Q1826.26 2145.19 1828.06 2148.75 Q1829.89 2152.3 1833.5 2152.3 Q1837.14 2152.3 1838.94 2148.75 Q1840.77 2145.19 1840.77 2138.08 Q1840.77 2130.95 1838.94 2127.41 Q1837.14 2123.85 1833.5 2123.85 M1833.5 2120.14 Q1839.31 2120.14 1842.37 2124.75 Q1845.45 2129.33 1845.45 2138.08 Q1845.45 2146.81 1842.37 2151.42 Q1839.31 2156 1833.5 2156 Q1827.69 2156 1824.61 2151.42 Q1821.56 2146.81 1821.56 2138.08 Q1821.56 2129.33 1824.61 2124.75 Q1827.69 2120.14 1833.5 2120.14 Z\" fill=\"#000000\" fill-rule=\"evenodd\" fill-opacity=\"1\" /><path clip-path=\"url(#clip910)\" d=\"M1853.66 2149.45 L1858.55 2149.45 L1858.55 2155.33 L1853.66 2155.33 L1853.66 2149.45 Z\" fill=\"#000000\" fill-rule=\"evenodd\" fill-opacity=\"1\" /><path clip-path=\"url(#clip910)\" d=\"M1878.73 2123.85 Q1875.12 2123.85 1873.29 2127.41 Q1871.49 2130.95 1871.49 2138.08 Q1871.49 2145.19 1873.29 2148.75 Q1875.12 2152.3 1878.73 2152.3 Q1882.37 2152.3 1884.17 2148.75 Q1886 2145.19 1886 2138.08 Q1886 2130.95 1884.17 2127.41 Q1882.37 2123.85 1878.73 2123.85 M1878.73 2120.14 Q1884.54 2120.14 1887.6 2124.75 Q1890.68 2129.33 1890.68 2138.08 Q1890.68 2146.81 1887.6 2151.42 Q1884.54 2156 1878.73 2156 Q1872.92 2156 1869.84 2151.42 Q1866.79 2146.81 1866.79 2138.08 Q1866.79 2129.33 1869.84 2124.75 Q1872.92 2120.14 1878.73 2120.14 Z\" fill=\"#000000\" fill-rule=\"evenodd\" fill-opacity=\"1\" /><path clip-path=\"url(#clip910)\" d=\"M2634.3 2123.85 Q2630.69 2123.85 2628.86 2127.41 Q2627.06 2130.95 2627.06 2138.08 Q2627.06 2145.19 2628.86 2148.75 Q2630.69 2152.3 2634.3 2152.3 Q2637.93 2152.3 2639.74 2148.75 Q2641.57 2145.19 2641.57 2138.08 Q2641.57 2130.95 2639.74 2127.41 Q2637.93 2123.85 2634.3 2123.85 M2634.3 2120.14 Q2640.11 2120.14 2643.17 2124.75 Q2646.24 2129.33 2646.24 2138.08 Q2646.24 2146.81 2643.17 2151.42 Q2640.11 2156 2634.3 2156 Q2628.49 2156 2625.41 2151.42 Q2622.36 2146.81 2622.36 2138.08 Q2622.36 2129.33 2625.41 2124.75 Q2628.49 2120.14 2634.3 2120.14 Z\" fill=\"#000000\" fill-rule=\"evenodd\" fill-opacity=\"1\" /><path clip-path=\"url(#clip910)\" d=\"M2654.46 2149.45 L2659.35 2149.45 L2659.35 2155.33 L2654.46 2155.33 L2654.46 2149.45 Z\" fill=\"#000000\" fill-rule=\"evenodd\" fill-opacity=\"1\" /><path clip-path=\"url(#clip910)\" d=\"M2669.58 2120.77 L2687.93 2120.77 L2687.93 2124.7 L2673.86 2124.7 L2673.86 2133.18 Q2674.88 2132.83 2675.9 2132.67 Q2676.92 2132.48 2677.93 2132.48 Q2683.72 2132.48 2687.1 2135.65 Q2690.48 2138.82 2690.48 2144.24 Q2690.48 2149.82 2687.01 2152.92 Q2683.54 2156 2677.22 2156 Q2675.04 2156 2672.77 2155.63 Q2670.53 2155.26 2668.12 2154.52 L2668.12 2149.82 Q2670.2 2150.95 2672.43 2151.51 Q2674.65 2152.06 2677.12 2152.06 Q2681.13 2152.06 2683.47 2149.96 Q2685.8 2147.85 2685.8 2144.24 Q2685.8 2140.63 2683.47 2138.52 Q2681.13 2136.42 2677.12 2136.42 Q2675.25 2136.42 2673.37 2136.83 Q2671.52 2137.25 2669.58 2138.13 L2669.58 2120.77 Z\" fill=\"#000000\" fill-rule=\"evenodd\" fill-opacity=\"1\" /><path clip-path=\"url(#clip910)\" d=\"M3423.87 2151.39 L3431.51 2151.39 L3431.51 2125.03 L3423.2 2126.69 L3423.2 2122.43 L3431.47 2120.77 L3436.14 2120.77 L3436.14 2151.39 L3443.78 2151.39 L3443.78 2155.33 L3423.87 2155.33 L3423.87 2151.39 Z\" fill=\"#000000\" fill-rule=\"evenodd\" fill-opacity=\"1\" /><path clip-path=\"url(#clip910)\" d=\"M3453.22 2149.45 L3458.11 2149.45 L3458.11 2155.33 L3453.22 2155.33 L3453.22 2149.45 Z\" fill=\"#000000\" fill-rule=\"evenodd\" fill-opacity=\"1\" /><path clip-path=\"url(#clip910)\" d=\"M3478.29 2123.85 Q3474.68 2123.85 3472.85 2127.41 Q3471.05 2130.95 3471.05 2138.08 Q3471.05 2145.19 3472.85 2148.75 Q3474.68 2152.3 3478.29 2152.3 Q3481.93 2152.3 3483.73 2148.75 Q3485.56 2145.19 3485.56 2138.08 Q3485.56 2130.95 3483.73 2127.41 Q3481.93 2123.85 3478.29 2123.85 M3478.29 2120.14 Q3484.1 2120.14 3487.16 2124.75 Q3490.24 2129.33 3490.24 2138.08 Q3490.24 2146.81 3487.16 2151.42 Q3484.1 2156 3478.29 2156 Q3472.48 2156 3469.4 2151.42 Q3466.35 2146.81 3466.35 2138.08 Q3466.35 2129.33 3469.4 2124.75 Q3472.48 2120.14 3478.29 2120.14 Z\" fill=\"#000000\" fill-rule=\"evenodd\" fill-opacity=\"1\" /><polyline clip-path=\"url(#clip912)\" style=\"stroke:#000000; stroke-linecap:butt; stroke-linejoin:round; stroke-width:2; stroke-opacity:0.1; fill:none\" points=\"\n  159.478,2083.33 3552.76,2083.33 \n  \"/>\n<polyline clip-path=\"url(#clip912)\" style=\"stroke:#000000; stroke-linecap:butt; stroke-linejoin:round; stroke-width:2; stroke-opacity:0.1; fill:none\" points=\"\n  159.478,1574.31 3552.76,1574.31 \n  \"/>\n<polyline clip-path=\"url(#clip912)\" style=\"stroke:#000000; stroke-linecap:butt; stroke-linejoin:round; stroke-width:2; stroke-opacity:0.1; fill:none\" points=\"\n  159.478,1065.29 3552.76,1065.29 \n  \"/>\n<polyline clip-path=\"url(#clip912)\" style=\"stroke:#000000; stroke-linecap:butt; stroke-linejoin:round; stroke-width:2; stroke-opacity:0.1; fill:none\" points=\"\n  159.478,556.265 3552.76,556.265 \n  \"/>\n<polyline clip-path=\"url(#clip912)\" style=\"stroke:#000000; stroke-linecap:butt; stroke-linejoin:round; stroke-width:2; stroke-opacity:0.1; fill:none\" points=\"\n  159.478,47.2441 3552.76,47.2441 \n  \"/>\n<polyline clip-path=\"url(#clip910)\" style=\"stroke:#000000; stroke-linecap:butt; stroke-linejoin:round; stroke-width:4; stroke-opacity:1; fill:none\" points=\"\n  159.478,2083.33 159.478,47.2441 \n  \"/>\n<polyline clip-path=\"url(#clip910)\" style=\"stroke:#000000; stroke-linecap:butt; stroke-linejoin:round; stroke-width:4; stroke-opacity:1; fill:none\" points=\"\n  159.478,2083.33 178.376,2083.33 \n  \"/>\n<polyline clip-path=\"url(#clip910)\" style=\"stroke:#000000; stroke-linecap:butt; stroke-linejoin:round; stroke-width:4; stroke-opacity:1; fill:none\" points=\"\n  159.478,1574.31 178.376,1574.31 \n  \"/>\n<polyline clip-path=\"url(#clip910)\" style=\"stroke:#000000; stroke-linecap:butt; stroke-linejoin:round; stroke-width:4; stroke-opacity:1; fill:none\" points=\"\n  159.478,1065.29 178.376,1065.29 \n  \"/>\n<polyline clip-path=\"url(#clip910)\" style=\"stroke:#000000; stroke-linecap:butt; stroke-linejoin:round; stroke-width:4; stroke-opacity:1; fill:none\" points=\"\n  159.478,556.265 178.376,556.265 \n  \"/>\n<polyline clip-path=\"url(#clip910)\" style=\"stroke:#000000; stroke-linecap:butt; stroke-linejoin:round; stroke-width:4; stroke-opacity:1; fill:none\" points=\"\n  159.478,47.2441 178.376,47.2441 \n  \"/>\n<path clip-path=\"url(#clip910)\" d=\"M45.3625 2083.78 L75.0383 2083.78 L75.0383 2087.71 L45.3625 2087.71 L45.3625 2083.78 Z\" fill=\"#000000\" fill-rule=\"evenodd\" fill-opacity=\"1\" /><path clip-path=\"url(#clip910)\" d=\"M89.1586 2096.67 L105.478 2096.67 L105.478 2100.61 L83.5336 2100.61 L83.5336 2096.67 Q86.1956 2093.92 90.7789 2089.29 Q95.3854 2084.64 96.5659 2083.29 Q98.8113 2080.77 99.6909 2079.03 Q100.594 2077.27 100.594 2075.58 Q100.594 2072.83 98.6492 2071.09 Q96.728 2069.36 93.6261 2069.36 Q91.4271 2069.36 88.9734 2070.12 Q86.5428 2070.89 83.7651 2072.44 L83.7651 2067.71 Q86.5891 2066.58 89.0428 2066 Q91.4965 2065.42 93.5335 2065.42 Q98.9039 2065.42 102.098 2068.11 Q105.293 2070.79 105.293 2075.28 Q105.293 2077.41 104.483 2079.33 Q103.696 2081.23 101.589 2083.83 Q101.01 2084.5 97.9085 2087.71 Q94.8067 2090.91 89.1586 2096.67 Z\" fill=\"#000000\" fill-rule=\"evenodd\" fill-opacity=\"1\" /><path clip-path=\"url(#clip910)\" d=\"M44.9921 1574.76 L74.6679 1574.76 L74.6679 1578.69 L44.9921 1578.69 L44.9921 1574.76 Z\" fill=\"#000000\" fill-rule=\"evenodd\" fill-opacity=\"1\" /><path clip-path=\"url(#clip910)\" d=\"M85.5706 1587.65 L93.2095 1587.65 L93.2095 1561.29 L84.8993 1562.95 L84.8993 1558.69 L93.1632 1557.03 L97.8391 1557.03 L97.8391 1587.65 L105.478 1587.65 L105.478 1591.59 L85.5706 1591.59 L85.5706 1587.65 Z\" fill=\"#000000\" fill-rule=\"evenodd\" fill-opacity=\"1\" /><path clip-path=\"url(#clip910)\" d=\"M93.5335 1051.08 Q89.9224 1051.08 88.0937 1054.65 Q86.2882 1058.19 86.2882 1065.32 Q86.2882 1072.43 88.0937 1075.99 Q89.9224 1079.53 93.5335 1079.53 Q97.1678 1079.53 98.9733 1075.99 Q100.802 1072.43 100.802 1065.32 Q100.802 1058.19 98.9733 1054.65 Q97.1678 1051.08 93.5335 1051.08 M93.5335 1047.38 Q99.3437 1047.38 102.399 1051.99 Q105.478 1056.57 105.478 1065.32 Q105.478 1074.05 102.399 1078.65 Q99.3437 1083.24 93.5335 1083.24 Q87.7234 1083.24 84.6447 1078.65 Q81.5892 1074.05 81.5892 1065.32 Q81.5892 1056.57 84.6447 1051.99 Q87.7234 1047.38 93.5335 1047.38 Z\" fill=\"#000000\" fill-rule=\"evenodd\" fill-opacity=\"1\" /><path clip-path=\"url(#clip910)\" d=\"M85.5706 569.61 L93.2095 569.61 L93.2095 543.244 L84.8993 544.911 L84.8993 540.652 L93.1632 538.985 L97.8391 538.985 L97.8391 569.61 L105.478 569.61 L105.478 573.545 L85.5706 573.545 L85.5706 569.61 Z\" fill=\"#000000\" fill-rule=\"evenodd\" fill-opacity=\"1\" /><path clip-path=\"url(#clip910)\" d=\"M89.1586 60.5889 L105.478 60.5889 L105.478 64.5241 L83.5336 64.5241 L83.5336 60.5889 Q86.1956 57.8343 90.7789 53.2047 Q95.3854 48.552 96.5659 47.2094 Q98.8113 44.6862 99.6909 42.9501 Q100.594 41.1909 100.594 39.5011 Q100.594 36.7465 98.6492 35.0104 Q96.728 33.2743 93.6261 33.2743 Q91.4271 33.2743 88.9734 34.0381 Q86.5428 34.802 83.7651 36.3529 L83.7651 31.6308 Q86.5891 30.4965 89.0428 29.9178 Q91.4965 29.3391 93.5335 29.3391 Q98.9039 29.3391 102.098 32.0243 Q105.293 34.7094 105.293 39.2002 Q105.293 41.3298 104.483 43.2511 Q103.696 45.1492 101.589 47.7418 Q101.01 48.4131 97.9085 51.6306 Q94.8067 54.8251 89.1586 60.5889 Z\" fill=\"#000000\" fill-rule=\"evenodd\" fill-opacity=\"1\" /><polyline clip-path=\"url(#clip912)\" style=\"stroke:#009af9; stroke-linecap:butt; stroke-linejoin:round; stroke-width:20; stroke-opacity:1; fill:none\" points=\"\n  255.514,1045.71 271.601,1045.32 287.687,1044.93 303.773,1044.52 319.86,1044.1 335.946,1043.67 352.033,1043.23 368.119,1042.77 384.206,1042.3 400.292,1041.81 \n  416.379,1041.31 432.465,1040.79 448.552,1040.25 464.638,1039.7 480.725,1039.13 496.811,1038.54 512.897,1037.93 528.984,1037.3 545.07,1036.65 561.157,1035.97 \n  577.243,1035.27 593.33,1034.55 609.416,1033.8 625.503,1033.02 641.589,1032.22 657.676,1031.39 673.762,1030.52 689.849,1029.62 705.935,1028.69 722.021,1027.72 \n  738.108,1026.72 754.194,1025.67 770.281,1024.58 786.367,1023.45 802.454,1022.27 818.54,1021.04 834.627,1019.77 850.713,1018.43 866.8,1017.04 882.886,1015.59 \n  898.973,1014.08 915.059,1012.49 931.145,1010.84 947.232,1009.11 963.318,1007.3 979.405,1005.4 995.491,1003.42 1011.58,1001.34 1027.66,999.157 1043.75,996.868 \n  1059.84,994.464 1075.92,991.939 1092.01,989.284 1108.1,986.491 1124.18,983.552 1140.27,980.456 1156.36,977.194 1172.44,973.754 1188.53,970.124 1204.62,966.292 \n  1220.7,962.244 1236.79,957.965 1252.87,953.439 1268.96,948.65 1285.05,943.58 1301.13,938.209 1317.22,932.517 1333.31,926.483 1349.39,920.085 1365.48,913.297 \n  1381.57,906.095 1397.65,898.453 1413.74,890.345 1429.83,881.743 1445.91,872.621 1462,862.952 1478.09,852.71 1494.17,841.872 1510.26,830.418 1526.34,818.334 \n  1542.43,805.608 1558.52,792.242 1574.6,778.245 1590.69,763.641 1606.78,748.47 1622.86,732.793 1638.95,716.693 1655.04,700.281 1671.12,683.699 1687.21,667.116 \n  1703.3,650.739 1719.38,634.804 1735.47,619.575 1751.55,605.337 1767.64,592.388 1783.73,581.028 1799.81,571.538 1815.9,564.174 1831.99,559.141 1848.07,556.586 \n  1864.16,556.586 1880.25,559.141 1896.33,564.174 1912.42,571.538 1928.51,581.028 1944.59,592.388 1960.68,605.337 1976.77,619.575 1992.85,634.804 2008.94,650.739 \n  2025.02,667.116 2041.11,683.699 2057.2,700.281 2073.28,716.693 2089.37,732.793 2105.46,748.47 2121.54,763.641 2137.63,778.245 2153.72,792.242 2169.8,805.608 \n  2185.89,818.334 2201.98,830.418 2218.06,841.872 2234.15,852.71 2250.24,862.952 2266.32,872.621 2282.41,881.743 2298.49,890.345 2314.58,898.453 2330.67,906.095 \n  2346.75,913.297 2362.84,920.085 2378.93,926.483 2395.01,932.517 2411.1,938.209 2427.19,943.58 2443.27,948.65 2459.36,953.439 2475.45,957.965 2491.53,962.244 \n  2507.62,966.292 2523.71,970.124 2539.79,973.754 2555.88,977.194 2571.96,980.456 2588.05,983.552 2604.14,986.491 2620.22,989.284 2636.31,991.939 2652.4,994.464 \n  2668.48,996.868 2684.57,999.157 2700.66,1001.34 2716.74,1003.42 2732.83,1005.4 2748.92,1007.3 2765,1009.11 2781.09,1010.84 2797.17,1012.49 2813.26,1014.08 \n  2829.35,1015.59 2845.43,1017.04 2861.52,1018.43 2877.61,1019.77 2893.69,1021.04 2909.78,1022.27 2925.87,1023.45 2941.95,1024.58 2958.04,1025.67 2974.13,1026.72 \n  2990.21,1027.72 3006.3,1028.69 3022.39,1029.62 3038.47,1030.52 3054.56,1031.39 3070.64,1032.22 3086.73,1033.02 3102.82,1033.8 3118.9,1034.55 3134.99,1035.27 \n  3151.08,1035.97 3167.16,1036.65 3183.25,1037.3 3199.34,1037.93 3215.42,1038.54 3231.51,1039.13 3247.6,1039.7 3263.68,1040.25 3279.77,1040.79 3295.86,1041.31 \n  3311.94,1041.81 3328.03,1042.3 3344.11,1042.77 3360.2,1043.23 3376.29,1043.67 3392.37,1044.1 3408.46,1044.52 3424.55,1044.93 3440.63,1045.32 3456.72,1045.71 \n  \n  \"/>\n<polyline clip-path=\"url(#clip912)\" style=\"stroke:#e26f46; stroke-linecap:butt; stroke-linejoin:round; stroke-width:20; stroke-opacity:1; fill:none\" points=\"\n  255.514,1045.71 271.601,694.191 287.687,436.87 303.773,258.366 319.86,145.111 335.946,85.1827 352.033,68.1625 368.119,84.9904 384.206,127.838 400.292,189.986 \n  416.379,265.715 432.465,350.2 448.552,439.414 464.638,530.043 480.725,619.4 496.811,705.356 512.897,786.264 528.984,860.903 545.07,928.418 561.157,988.266 \n  577.243,1040.17 593.33,1084.09 609.416,1120.15 625.503,1148.63 641.589,1169.95 657.676,1184.59 673.762,1193.13 689.849,1196.17 705.935,1194.36 722.021,1188.35 \n  738.108,1178.79 754.194,1166.31 770.281,1151.53 786.367,1135.03 802.454,1117.35 818.54,1099 834.627,1080.43 850.713,1062.05 866.8,1044.2 882.886,1027.2 \n  898.973,1011.3 915.059,996.708 931.145,983.575 947.232,972.013 963.318,962.09 979.405,953.833 995.491,947.231 1011.58,942.24 1027.66,938.786 1043.75,936.766 \n  1059.84,936.057 1075.92,936.515 1092.01,937.98 1108.1,940.28 1124.18,943.235 1140.27,946.66 1156.36,950.366 1172.44,954.166 1188.53,957.877 1204.62,961.321 \n  1220.7,964.329 1236.79,966.741 1252.87,968.413 1268.96,969.211 1285.05,969.018 1301.13,967.734 1317.22,965.276 1333.31,961.578 1349.39,956.594 1365.48,950.295 \n  1381.57,942.671 1397.65,933.73 1413.74,923.5 1429.83,912.023 1445.91,899.359 1462,885.584 1478.09,870.788 1494.17,855.073 1510.26,838.556 1526.34,821.362 \n  1542.43,803.625 1558.52,785.487 1574.6,767.098 1590.69,748.61 1606.78,730.178 1622.86,711.959 1638.95,694.108 1655.04,676.78 1671.12,660.124 1687.21,644.286 \n  1703.3,629.404 1719.38,615.608 1735.47,603.02 1751.55,591.751 1767.64,581.899 1783.73,573.553 1799.81,566.785 1815.9,561.656 1831.99,558.212 1848.07,556.482 \n  1864.16,556.482 1880.25,558.212 1896.33,561.656 1912.42,566.785 1928.51,573.553 1944.59,581.899 1960.68,591.751 1976.77,603.02 1992.85,615.608 2008.94,629.404 \n  2025.02,644.286 2041.11,660.124 2057.2,676.78 2073.28,694.108 2089.37,711.959 2105.46,730.178 2121.54,748.61 2137.63,767.098 2153.72,785.487 2169.8,803.625 \n  2185.89,821.362 2201.98,838.556 2218.06,855.073 2234.15,870.788 2250.24,885.584 2266.32,899.359 2282.41,912.023 2298.49,923.5 2314.58,933.73 2330.67,942.671 \n  2346.75,950.295 2362.84,956.594 2378.93,961.578 2395.01,965.276 2411.1,967.734 2427.19,969.018 2443.27,969.211 2459.36,968.413 2475.45,966.741 2491.53,964.329 \n  2507.62,961.321 2523.71,957.877 2539.79,954.166 2555.88,950.366 2571.96,946.66 2588.05,943.235 2604.14,940.28 2620.22,937.98 2636.31,936.515 2652.4,936.057 \n  2668.48,936.766 2684.57,938.786 2700.66,942.24 2716.74,947.231 2732.83,953.833 2748.92,962.09 2765,972.013 2781.09,983.575 2797.17,996.708 2813.26,1011.3 \n  2829.35,1027.2 2845.43,1044.2 2861.52,1062.05 2877.61,1080.43 2893.69,1099 2909.78,1117.35 2925.87,1135.03 2941.95,1151.53 2958.04,1166.31 2974.13,1178.79 \n  2990.21,1188.35 3006.3,1194.36 3022.39,1196.17 3038.47,1193.13 3054.56,1184.59 3070.64,1169.95 3086.73,1148.63 3102.82,1120.15 3118.9,1084.09 3134.99,1040.17 \n  3151.08,988.266 3167.16,928.418 3183.25,860.903 3199.34,786.264 3215.42,705.356 3231.51,619.4 3247.6,530.043 3263.68,439.414 3279.77,350.2 3295.86,265.715 \n  3311.94,189.986 3328.03,127.838 3344.11,84.9904 3360.2,68.1625 3376.29,85.1827 3392.37,145.111 3408.46,258.366 3424.55,436.87 3440.63,694.191 3456.72,1045.71 \n  \n  \"/>\n<polyline clip-path=\"url(#clip912)\" style=\"stroke:#3da44d; stroke-linecap:butt; stroke-linejoin:round; stroke-width:0; stroke-opacity:1; fill:none\" points=\"\n  255.514,1045.71 575.635,1035.34 895.755,1014.38 1215.88,963.482 1536,810.776 1856.12,556.265 2176.24,810.776 2496.36,963.482 2816.48,1014.38 3136.6,1035.34 \n  3456.72,1045.71 \n  \"/>\n<path clip-path=\"url(#clip912)\" d=\"M255.514 1061.71 L244.202 1057.02 L239.514 1045.71 L244.202 1034.4 L255.514 1029.71 L266.826 1034.4 L271.514 1045.71 L266.826 1057.02 Z\" fill=\"#3da44d\" fill-rule=\"evenodd\" fill-opacity=\"1\" stroke=\"#000000\" stroke-opacity=\"1\" stroke-width=\"4.4\"/>\n<path clip-path=\"url(#clip912)\" d=\"M575.635 1051.34 L564.323 1046.66 L559.635 1035.34 L564.323 1024.03 L575.635 1019.34 L586.947 1024.03 L591.635 1035.34 L586.947 1046.66 Z\" fill=\"#3da44d\" fill-rule=\"evenodd\" fill-opacity=\"1\" stroke=\"#000000\" stroke-opacity=\"1\" stroke-width=\"4.4\"/>\n<path clip-path=\"url(#clip912)\" d=\"M895.755 1030.38 L884.443 1025.7 L879.755 1014.38 L884.443 1003.07 L895.755 998.384 L907.067 1003.07 L911.755 1014.38 L907.067 1025.7 Z\" fill=\"#3da44d\" fill-rule=\"evenodd\" fill-opacity=\"1\" stroke=\"#000000\" stroke-opacity=\"1\" stroke-width=\"4.4\"/>\n<path clip-path=\"url(#clip912)\" d=\"M1215.88 979.482 L1204.56 974.794 L1199.88 963.482 L1204.56 952.17 L1215.88 947.482 L1227.19 952.17 L1231.88 963.482 L1227.19 974.794 Z\" fill=\"#3da44d\" fill-rule=\"evenodd\" fill-opacity=\"1\" stroke=\"#000000\" stroke-opacity=\"1\" stroke-width=\"4.4\"/>\n<path clip-path=\"url(#clip912)\" d=\"M1536 826.776 L1524.68 822.088 L1520 810.776 L1524.68 799.464 L1536 794.776 L1547.31 799.464 L1552 810.776 L1547.31 822.088 Z\" fill=\"#3da44d\" fill-rule=\"evenodd\" fill-opacity=\"1\" stroke=\"#000000\" stroke-opacity=\"1\" stroke-width=\"4.4\"/>\n<path clip-path=\"url(#clip912)\" d=\"M1856.12 572.265 L1844.8 567.577 L1840.12 556.265 L1844.8 544.953 L1856.12 540.265 L1867.43 544.953 L1872.12 556.265 L1867.43 567.577 Z\" fill=\"#3da44d\" fill-rule=\"evenodd\" fill-opacity=\"1\" stroke=\"#000000\" stroke-opacity=\"1\" stroke-width=\"4.4\"/>\n<path clip-path=\"url(#clip912)\" d=\"M2176.24 826.776 L2164.93 822.088 L2160.24 810.776 L2164.93 799.464 L2176.24 794.776 L2187.55 799.464 L2192.24 810.776 L2187.55 822.088 Z\" fill=\"#3da44d\" fill-rule=\"evenodd\" fill-opacity=\"1\" stroke=\"#000000\" stroke-opacity=\"1\" stroke-width=\"4.4\"/>\n<path clip-path=\"url(#clip912)\" d=\"M2496.36 979.482 L2485.05 974.794 L2480.36 963.482 L2485.05 952.17 L2496.36 947.482 L2507.67 952.17 L2512.36 963.482 L2507.67 974.794 Z\" fill=\"#3da44d\" fill-rule=\"evenodd\" fill-opacity=\"1\" stroke=\"#000000\" stroke-opacity=\"1\" stroke-width=\"4.4\"/>\n<path clip-path=\"url(#clip912)\" d=\"M2816.48 1030.38 L2805.17 1025.7 L2800.48 1014.38 L2805.17 1003.07 L2816.48 998.384 L2827.79 1003.07 L2832.48 1014.38 L2827.79 1025.7 Z\" fill=\"#3da44d\" fill-rule=\"evenodd\" fill-opacity=\"1\" stroke=\"#000000\" stroke-opacity=\"1\" stroke-width=\"4.4\"/>\n<path clip-path=\"url(#clip912)\" d=\"M3136.6 1051.34 L3125.29 1046.66 L3120.6 1035.34 L3125.29 1024.03 L3136.6 1019.34 L3147.91 1024.03 L3152.6 1035.34 L3147.91 1046.66 Z\" fill=\"#3da44d\" fill-rule=\"evenodd\" fill-opacity=\"1\" stroke=\"#000000\" stroke-opacity=\"1\" stroke-width=\"4.4\"/>\n<path clip-path=\"url(#clip912)\" d=\"M3456.72 1061.71 L3445.41 1057.02 L3440.72 1045.71 L3445.41 1034.4 L3456.72 1029.71 L3468.03 1034.4 L3472.72 1045.71 L3468.03 1057.02 Z\" fill=\"#3da44d\" fill-rule=\"evenodd\" fill-opacity=\"1\" stroke=\"#000000\" stroke-opacity=\"1\" stroke-width=\"4.4\"/>\n</svg>\n"
                 },
                 "type": "node"
                }
               ],
               "instanceArgs": {
                "namespace": "html",
                "tag": "div"
               },
               "nodeType": "DOM",
               "props": {
                "style": {
                 "display": "flex",
                 "flex-direction": "column"
                }
               },
               "type": "node"
              }
             ],
             "instanceArgs": {
              "namespace": "html",
              "tag": "div"
             },
             "nodeType": "DOM",
             "props": {
              "className": "interact-flex-row interact-widget"
             },
             "type": "node"
            }
           }
          },
          "systemjs_options": null
         },
         "nodeType": "Scope",
         "props": {},
         "type": "node"
        }
       ],
       "instanceArgs": {
        "namespace": "html",
        "tag": "div"
       },
       "nodeType": "DOM",
       "props": {},
       "type": "node"
      },
      "text/html": [
       "<div\n",
       "    class=\"webio-mountpoint\"\n",
       "    data-webio-mountpoint=\"2097190334066781722\"\n",
       ">\n",
       "    <script>\n",
       "    (function(){\n",
       "    // Some integrations (namely, IJulia/Jupyter) use an alternate render pathway than\n",
       "    // just putting the html on the page. If WebIO isn't defined, then it's pretty likely\n",
       "    // that we're in one of those situations and the integration just isn't installed\n",
       "    // correctly.\n",
       "    if (typeof window.WebIO === \"undefined\") {\n",
       "        document\n",
       "            .querySelector('[data-webio-mountpoint=\"2097190334066781722\"]')\n",
       "            .innerHTML = (\n",
       "                '<div style=\"padding: 1em; background-color: #f8d6da; border: 1px solid #f5c6cb; font-weight: bold;\">' +\n",
       "                '<p><strong>WebIO not detected.</strong></p>' +\n",
       "                '<p>Please read ' +\n",
       "                '<a href=\"https://juliagizmos.github.io/WebIO.jl/latest/troubleshooting/not-detected/\" target=\"_blank\">the troubleshooting guide</a> ' +\n",
       "                'for more information on how to resolve this issue.</p>' +\n",
       "                '<p><a href=\"https://juliagizmos.github.io/WebIO.jl/latest/troubleshooting/not-detected/\" target=\"_blank\">https://juliagizmos.github.io/WebIO.jl/latest/troubleshooting/not-detected/</a></p>' +\n",
       "                '</div>'\n",
       "            );\n",
       "        return;\n",
       "    }\n",
       "    WebIO.mount(\n",
       "        document.querySelector('[data-webio-mountpoint=\"2097190334066781722\"]'),\n",
       "        {\"props\":{},\"nodeType\":\"DOM\",\"type\":\"node\",\"instanceArgs\":{\"namespace\":\"html\",\"tag\":\"div\"},\"children\":[{\"props\":{\"className\":\"field interact-widget\"},\"nodeType\":\"DOM\",\"type\":\"node\",\"instanceArgs\":{\"namespace\":\"html\",\"tag\":\"div\"},\"children\":[{\"props\":{},\"nodeType\":\"Scope\",\"type\":\"node\",\"instanceArgs\":{\"imports\":{\"data\":[{\"name\":\"knockout\",\"type\":\"js\",\"url\":\"\\/assetserver\\/46ca1ae6128ce5cef46ae6c83c10cbc27a02b7d5-knockout.js\"},{\"name\":\"knockout_punches\",\"type\":\"js\",\"url\":\"\\/assetserver\\/ae9f554c0387f76781e87553335a640c2663983d-knockout_punches.js\"},{\"name\":null,\"type\":\"js\",\"url\":\"\\/assetserver\\/7eb702f04b44b9a3937e021b87223b20d5750a09-all.js\"},{\"name\":null,\"type\":\"css\",\"url\":\"\\/assetserver\\/a7c3e8b7a7fd3e462a7aeaf12ab4ac957d9781c2-style.css\"},{\"name\":null,\"type\":\"css\",\"url\":\"\\/assetserver\\/e66482be06717616844d1fa8450722a9c1fd9e07-bulma_confined.min.css\"}],\"type\":\"async_block\"},\"id\":\"14070968435950504006\",\"handlers\":{\"changes\":[\"(function (val){return (val!=this.model[\\\"changes\\\"]()) ? (this.valueFromJulia[\\\"changes\\\"]=true, this.model[\\\"changes\\\"](val)) : undefined})\"],\"index\":[\"(function (val){return (val!=this.model[\\\"index\\\"]()) ? (this.valueFromJulia[\\\"index\\\"]=true, this.model[\\\"index\\\"](val)) : undefined})\"]},\"systemjs_options\":null,\"mount_callbacks\":[\"function () {\\n    var handler = (function (ko, koPunches) {\\n    ko.punches.enableAll();\\n    ko.bindingHandlers.numericValue = {\\n        init: function(element, valueAccessor, allBindings, data, context) {\\n            var stringified = ko.observable(ko.unwrap(valueAccessor()));\\n            stringified.subscribe(function(value) {\\n                var val = parseFloat(value);\\n                if (!isNaN(val)) {\\n                    valueAccessor()(val);\\n                }\\n            });\\n            valueAccessor().subscribe(function(value) {\\n                var str = JSON.stringify(value);\\n                if ((str == \\\"0\\\") && ([\\\"-0\\\", \\\"-0.\\\"].indexOf(stringified()) >= 0))\\n                     return;\\n                 if ([\\\"null\\\", \\\"\\\"].indexOf(str) >= 0)\\n                     return;\\n                stringified(str);\\n            });\\n            ko.applyBindingsToNode(\\n                element,\\n                {\\n                    value: stringified,\\n                    valueUpdate: allBindings.get('valueUpdate'),\\n                },\\n                context,\\n            );\\n        }\\n    };\\n    var json_data = {\\\"formatted_vals\\\":[\\\"2\\\",\\\"3\\\",\\\"4\\\",\\\"5\\\",\\\"6\\\",\\\"7\\\",\\\"8\\\",\\\"9\\\",\\\"10\\\",\\\"11\\\",\\\"12\\\",\\\"13\\\",\\\"14\\\",\\\"15\\\",\\\"16\\\",\\\"17\\\",\\\"18\\\",\\\"19\\\",\\\"20\\\",\\\"21\\\"],\\\"changes\\\":WebIO.getval({\\\"name\\\":\\\"changes\\\",\\\"scope\\\":\\\"14070968435950504006\\\",\\\"id\\\":\\\"4849622990898378558\\\",\\\"type\\\":\\\"observable\\\"}),\\\"index\\\":WebIO.getval({\\\"name\\\":\\\"index\\\",\\\"scope\\\":\\\"14070968435950504006\\\",\\\"id\\\":\\\"3639163041518966976\\\",\\\"type\\\":\\\"observable\\\"})};\\n    var self = this;\\n    function AppViewModel() {\\n        for (var key in json_data) {\\n            var el = json_data[key];\\n            this[key] = Array.isArray(el) ? ko.observableArray(el) : ko.observable(el);\\n        }\\n        \\n        [this[\\\"formatted_val\\\"]=ko.computed(    function(){\\n        return this.formatted_vals()[parseInt(this.index())-(2)];\\n    }\\n,this)]\\n        [this[\\\"changes\\\"].subscribe((function (val){!(this.valueFromJulia[\\\"changes\\\"]) ? (WebIO.setval({\\\"name\\\":\\\"changes\\\",\\\"scope\\\":\\\"14070968435950504006\\\",\\\"id\\\":\\\"4849622990898378558\\\",\\\"type\\\":\\\"observable\\\"},val)) : undefined; return this.valueFromJulia[\\\"changes\\\"]=false}),self),this[\\\"index\\\"].subscribe((function (val){!(this.valueFromJulia[\\\"index\\\"]) ? (WebIO.setval({\\\"name\\\":\\\"index\\\",\\\"scope\\\":\\\"14070968435950504006\\\",\\\"id\\\":\\\"3639163041518966976\\\",\\\"type\\\":\\\"observable\\\"},val)) : undefined; return this.valueFromJulia[\\\"index\\\"]=false}),self)]\\n        \\n    }\\n    self.model = new AppViewModel();\\n    self.valueFromJulia = {};\\n    for (var key in json_data) {\\n        self.valueFromJulia[key] = false;\\n    }\\n    ko.applyBindings(self.model, self.dom);\\n}\\n);\\n    (WebIO.importBlock({\\\"data\\\":[{\\\"name\\\":\\\"knockout\\\",\\\"type\\\":\\\"js\\\",\\\"url\\\":\\\"\\/assetserver\\/46ca1ae6128ce5cef46ae6c83c10cbc27a02b7d5-knockout.js\\\"},{\\\"name\\\":\\\"knockout_punches\\\",\\\"type\\\":\\\"js\\\",\\\"url\\\":\\\"\\/assetserver\\/ae9f554c0387f76781e87553335a640c2663983d-knockout_punches.js\\\"}],\\\"type\\\":\\\"async_block\\\"})).then((imports) => handler.apply(this, imports));\\n}\\n\"],\"observables\":{\"changes\":{\"sync\":false,\"id\":\"4849622990898378558\",\"value\":0},\"index\":{\"sync\":true,\"id\":\"3639163041518966976\",\"value\":11}}},\"children\":[{\"props\":{\"className\":\"interact-flex-row interact-widget\"},\"nodeType\":\"DOM\",\"type\":\"node\",\"instanceArgs\":{\"namespace\":\"html\",\"tag\":\"div\"},\"children\":[{\"props\":{\"className\":\"interact-flex-row-left\"},\"nodeType\":\"DOM\",\"type\":\"node\",\"instanceArgs\":{\"namespace\":\"html\",\"tag\":\"div\"},\"children\":[{\"props\":{\"className\":\"interact \",\"style\":{\"padding\":\"5px 10px 0px 10px\"}},\"nodeType\":\"DOM\",\"type\":\"node\",\"instanceArgs\":{\"namespace\":\"html\",\"tag\":\"label\"},\"children\":[\"n\"]}]},{\"props\":{\"className\":\"interact-flex-row-center\"},\"nodeType\":\"DOM\",\"type\":\"node\",\"instanceArgs\":{\"namespace\":\"html\",\"tag\":\"div\"},\"children\":[{\"props\":{\"max\":21,\"min\":2,\"attributes\":{\"type\":\"range\",\"data-bind\":\"numericValue: index, valueUpdate: 'input', event: {change: function (){this.changes(this.changes()+1)}}\",\"orient\":\"horizontal\"},\"step\":1,\"className\":\"slider slider is-fullwidth\",\"style\":{}},\"nodeType\":\"DOM\",\"type\":\"node\",\"instanceArgs\":{\"namespace\":\"html\",\"tag\":\"input\"},\"children\":[]}]},{\"props\":{\"className\":\"interact-flex-row-right\"},\"nodeType\":\"DOM\",\"type\":\"node\",\"instanceArgs\":{\"namespace\":\"html\",\"tag\":\"div\"},\"children\":[{\"props\":{\"attributes\":{\"data-bind\":\"text: formatted_val\"}},\"nodeType\":\"DOM\",\"type\":\"node\",\"instanceArgs\":{\"namespace\":\"html\",\"tag\":\"p\"},\"children\":[]}]}]}]}]},{\"props\":{\"className\":\"field interact-widget\"},\"nodeType\":\"DOM\",\"type\":\"node\",\"instanceArgs\":{\"namespace\":\"html\",\"tag\":\"div\"},\"children\":[{\"props\":{},\"nodeType\":\"Scope\",\"type\":\"node\",\"instanceArgs\":{\"imports\":{\"data\":[{\"name\":\"knockout\",\"type\":\"js\",\"url\":\"\\/assetserver\\/46ca1ae6128ce5cef46ae6c83c10cbc27a02b7d5-knockout.js\"},{\"name\":\"knockout_punches\",\"type\":\"js\",\"url\":\"\\/assetserver\\/ae9f554c0387f76781e87553335a640c2663983d-knockout_punches.js\"},{\"name\":null,\"type\":\"js\",\"url\":\"\\/assetserver\\/7eb702f04b44b9a3937e021b87223b20d5750a09-all.js\"},{\"name\":null,\"type\":\"css\",\"url\":\"\\/assetserver\\/a7c3e8b7a7fd3e462a7aeaf12ab4ac957d9781c2-style.css\"},{\"name\":null,\"type\":\"css\",\"url\":\"\\/assetserver\\/e66482be06717616844d1fa8450722a9c1fd9e07-bulma_confined.min.css\"}],\"type\":\"async_block\"},\"id\":\"3604159059442142776\",\"handlers\":{\"changes\":[\"(function (val){return (val!=this.model[\\\"changes\\\"]()) ? (this.valueFromJulia[\\\"changes\\\"]=true, this.model[\\\"changes\\\"](val)) : undefined})\"],\"index\":[\"(function (val){return (val!=this.model[\\\"index\\\"]()) ? (this.valueFromJulia[\\\"index\\\"]=true, this.model[\\\"index\\\"](val)) : undefined})\"]},\"systemjs_options\":null,\"mount_callbacks\":[\"function () {\\n    var handler = (function (ko, koPunches) {\\n    ko.punches.enableAll();\\n    ko.bindingHandlers.numericValue = {\\n        init: function(element, valueAccessor, allBindings, data, context) {\\n            var stringified = ko.observable(ko.unwrap(valueAccessor()));\\n            stringified.subscribe(function(value) {\\n                var val = parseFloat(value);\\n                if (!isNaN(val)) {\\n                    valueAccessor()(val);\\n                }\\n            });\\n            valueAccessor().subscribe(function(value) {\\n                var str = JSON.stringify(value);\\n                if ((str == \\\"0\\\") && ([\\\"-0\\\", \\\"-0.\\\"].indexOf(stringified()) >= 0))\\n                     return;\\n                 if ([\\\"null\\\", \\\"\\\"].indexOf(str) >= 0)\\n                     return;\\n                stringified(str);\\n            });\\n            ko.applyBindingsToNode(\\n                element,\\n                {\\n                    value: stringified,\\n                    valueUpdate: allBindings.get('valueUpdate'),\\n                },\\n                context,\\n            );\\n        }\\n    };\\n    var json_data = {\\\"formatted_vals\\\":[\\\"2\\\",\\\"3\\\",\\\"4\\\",\\\"5\\\",\\\"6\\\",\\\"7\\\",\\\"8\\\",\\\"9\\\",\\\"10\\\",\\\"11\\\",\\\"12\\\",\\\"13\\\",\\\"14\\\",\\\"15\\\",\\\"16\\\",\\\"17\\\",\\\"18\\\",\\\"19\\\",\\\"20\\\",\\\"21\\\"],\\\"changes\\\":WebIO.getval({\\\"name\\\":\\\"changes\\\",\\\"scope\\\":\\\"3604159059442142776\\\",\\\"id\\\":\\\"6919608494783488120\\\",\\\"type\\\":\\\"observable\\\"}),\\\"index\\\":WebIO.getval({\\\"name\\\":\\\"index\\\",\\\"scope\\\":\\\"3604159059442142776\\\",\\\"id\\\":\\\"7085498823529930020\\\",\\\"type\\\":\\\"observable\\\"})};\\n    var self = this;\\n    function AppViewModel() {\\n        for (var key in json_data) {\\n            var el = json_data[key];\\n            this[key] = Array.isArray(el) ? ko.observableArray(el) : ko.observable(el);\\n        }\\n        \\n        [this[\\\"formatted_val\\\"]=ko.computed(    function(){\\n        return this.formatted_vals()[parseInt(this.index())-(2)];\\n    }\\n,this)]\\n        [this[\\\"changes\\\"].subscribe((function (val){!(this.valueFromJulia[\\\"changes\\\"]) ? (WebIO.setval({\\\"name\\\":\\\"changes\\\",\\\"scope\\\":\\\"3604159059442142776\\\",\\\"id\\\":\\\"6919608494783488120\\\",\\\"type\\\":\\\"observable\\\"},val)) : undefined; return this.valueFromJulia[\\\"changes\\\"]=false}),self),this[\\\"index\\\"].subscribe((function (val){!(this.valueFromJulia[\\\"index\\\"]) ? (WebIO.setval({\\\"name\\\":\\\"index\\\",\\\"scope\\\":\\\"3604159059442142776\\\",\\\"id\\\":\\\"7085498823529930020\\\",\\\"type\\\":\\\"observable\\\"},val)) : undefined; return this.valueFromJulia[\\\"index\\\"]=false}),self)]\\n        \\n    }\\n    self.model = new AppViewModel();\\n    self.valueFromJulia = {};\\n    for (var key in json_data) {\\n        self.valueFromJulia[key] = false;\\n    }\\n    ko.applyBindings(self.model, self.dom);\\n}\\n);\\n    (WebIO.importBlock({\\\"data\\\":[{\\\"name\\\":\\\"knockout\\\",\\\"type\\\":\\\"js\\\",\\\"url\\\":\\\"\\/assetserver\\/46ca1ae6128ce5cef46ae6c83c10cbc27a02b7d5-knockout.js\\\"},{\\\"name\\\":\\\"knockout_punches\\\",\\\"type\\\":\\\"js\\\",\\\"url\\\":\\\"\\/assetserver\\/ae9f554c0387f76781e87553335a640c2663983d-knockout_punches.js\\\"}],\\\"type\\\":\\\"async_block\\\"})).then((imports) => handler.apply(this, imports));\\n}\\n\"],\"observables\":{\"changes\":{\"sync\":false,\"id\":\"6919608494783488120\",\"value\":0},\"index\":{\"sync\":true,\"id\":\"7085498823529930020\",\"value\":11}}},\"children\":[{\"props\":{\"className\":\"interact-flex-row interact-widget\"},\"nodeType\":\"DOM\",\"type\":\"node\",\"instanceArgs\":{\"namespace\":\"html\",\"tag\":\"div\"},\"children\":[{\"props\":{\"className\":\"interact-flex-row-left\"},\"nodeType\":\"DOM\",\"type\":\"node\",\"instanceArgs\":{\"namespace\":\"html\",\"tag\":\"div\"},\"children\":[{\"props\":{\"className\":\"interact \",\"style\":{\"padding\":\"5px 10px 0px 10px\"}},\"nodeType\":\"DOM\",\"type\":\"node\",\"instanceArgs\":{\"namespace\":\"html\",\"tag\":\"label\"},\"children\":[\"m\"]}]},{\"props\":{\"className\":\"interact-flex-row-center\"},\"nodeType\":\"DOM\",\"type\":\"node\",\"instanceArgs\":{\"namespace\":\"html\",\"tag\":\"div\"},\"children\":[{\"props\":{\"max\":21,\"min\":2,\"attributes\":{\"type\":\"range\",\"data-bind\":\"numericValue: index, valueUpdate: 'input', event: {change: function (){this.changes(this.changes()+1)}}\",\"orient\":\"horizontal\"},\"step\":1,\"className\":\"slider slider is-fullwidth\",\"style\":{}},\"nodeType\":\"DOM\",\"type\":\"node\",\"instanceArgs\":{\"namespace\":\"html\",\"tag\":\"input\"},\"children\":[]}]},{\"props\":{\"className\":\"interact-flex-row-right\"},\"nodeType\":\"DOM\",\"type\":\"node\",\"instanceArgs\":{\"namespace\":\"html\",\"tag\":\"div\"},\"children\":[{\"props\":{\"attributes\":{\"data-bind\":\"text: formatted_val\"}},\"nodeType\":\"DOM\",\"type\":\"node\",\"instanceArgs\":{\"namespace\":\"html\",\"tag\":\"p\"},\"children\":[]}]}]}]}]},{\"props\":{},\"nodeType\":\"Scope\",\"type\":\"node\",\"instanceArgs\":{\"imports\":{\"data\":[],\"type\":\"async_block\"},\"id\":\"7616589589520065417\",\"handlers\":{},\"systemjs_options\":null,\"mount_callbacks\":[],\"observables\":{\"obs-node\":{\"sync\":false,\"id\":\"5789352896949658663\",\"value\":{\"props\":{\"className\":\"interact-flex-row interact-widget\"},\"nodeType\":\"DOM\",\"type\":\"node\",\"instanceArgs\":{\"namespace\":\"html\",\"tag\":\"div\"},\"children\":[{\"props\":{\"style\":{\"display\":\"flex\",\"flex-direction\":\"column\"}},\"nodeType\":\"DOM\",\"type\":\"node\",\"instanceArgs\":{\"namespace\":\"html\",\"tag\":\"div\"},\"children\":[\"||V||₂ ||V⁺||₂ = 1.4e+04\",{\"props\":{\"setInnerHtml\":\"<?xml version=\\\"1.0\\\" encoding=\\\"utf-8\\\"?>\\n<svg xmlns=\\\"http:\\/\\/www.w3.org\\/2000\\/svg\\\" xmlns:xlink=\\\"http:\\/\\/www.w3.org\\/1999\\/xlink\\\" width=\\\"900\\\" height=\\\"550\\\" viewBox=\\\"0 0 3600 2200\\\">\\n<defs>\\n  <clipPath id=\\\"clip870\\\">\\n    <rect x=\\\"0\\\" y=\\\"0\\\" width=\\\"3600\\\" height=\\\"2200\\\"\\/>\\n  <\\/clipPath>\\n<\\/defs>\\n<path clip-path=\\\"url(#clip870)\\\" d=\\\"\\nM0 2200 L3600 2200 L3600 0 L0 0  Z\\n  \\\" fill=\\\"#ffffff\\\" fill-rule=\\\"evenodd\\\" fill-opacity=\\\"1\\\"\\/>\\n<defs>\\n  <clipPath id=\\\"clip871\\\">\\n    <rect x=\\\"720\\\" y=\\\"0\\\" width=\\\"2521\\\" height=\\\"2200\\\"\\/>\\n  <\\/clipPath>\\n<\\/defs>\\n<path clip-path=\\\"url(#clip870)\\\" d=\\\"\\nM159.478 2083.33 L3552.76 2083.33 L3552.76 47.2441 L159.478 47.2441  Z\\n  \\\" fill=\\\"#ffffff\\\" fill-rule=\\\"evenodd\\\" fill-opacity=\\\"1\\\"\\/>\\n<defs>\\n  <clipPath id=\\\"clip872\\\">\\n    <rect x=\\\"159\\\" y=\\\"47\\\" width=\\\"3394\\\" height=\\\"2037\\\"\\/>\\n  <\\/clipPath>\\n<\\/defs>\\n<polyline clip-path=\\\"url(#clip872)\\\" style=\\\"stroke:#000000; stroke-linecap:butt; stroke-linejoin:round; stroke-width:2; stroke-opacity:0.1; fill:none\\\" points=\\\"\\n  255.514,2083.33 255.514,47.2441 \\n  \\\"\\/>\\n<polyline clip-path=\\\"url(#clip872)\\\" style=\\\"stroke:#000000; stroke-linecap:butt; stroke-linejoin:round; stroke-width:2; stroke-opacity:0.1; fill:none\\\" points=\\\"\\n  1055.82,2083.33 1055.82,47.2441 \\n  \\\"\\/>\\n<polyline clip-path=\\\"url(#clip872)\\\" style=\\\"stroke:#000000; stroke-linecap:butt; stroke-linejoin:round; stroke-width:2; stroke-opacity:0.1; fill:none\\\" points=\\\"\\n  1856.12,2083.33 1856.12,47.2441 \\n  \\\"\\/>\\n<polyline clip-path=\\\"url(#clip872)\\\" style=\\\"stroke:#000000; stroke-linecap:butt; stroke-linejoin:round; stroke-width:2; stroke-opacity:0.1; fill:none\\\" points=\\\"\\n  2656.42,2083.33 2656.42,47.2441 \\n  \\\"\\/>\\n<polyline clip-path=\\\"url(#clip872)\\\" style=\\\"stroke:#000000; stroke-linecap:butt; stroke-linejoin:round; stroke-width:2; stroke-opacity:0.1; fill:none\\\" points=\\\"\\n  3456.72,2083.33 3456.72,47.2441 \\n  \\\"\\/>\\n<polyline clip-path=\\\"url(#clip870)\\\" style=\\\"stroke:#000000; stroke-linecap:butt; stroke-linejoin:round; stroke-width:4; stroke-opacity:1; fill:none\\\" points=\\\"\\n  159.478,2083.33 3552.76,2083.33 \\n  \\\"\\/>\\n<polyline clip-path=\\\"url(#clip870)\\\" style=\\\"stroke:#000000; stroke-linecap:butt; stroke-linejoin:round; stroke-width:4; stroke-opacity:1; fill:none\\\" points=\\\"\\n  255.514,2083.33 255.514,2064.43 \\n  \\\"\\/>\\n<polyline clip-path=\\\"url(#clip870)\\\" style=\\\"stroke:#000000; stroke-linecap:butt; stroke-linejoin:round; stroke-width:4; stroke-opacity:1; fill:none\\\" points=\\\"\\n  1055.82,2083.33 1055.82,2064.43 \\n  \\\"\\/>\\n<polyline clip-path=\\\"url(#clip870)\\\" style=\\\"stroke:#000000; stroke-linecap:butt; stroke-linejoin:round; stroke-width:4; stroke-opacity:1; fill:none\\\" points=\\\"\\n  1856.12,2083.33 1856.12,2064.43 \\n  \\\"\\/>\\n<polyline clip-path=\\\"url(#clip870)\\\" style=\\\"stroke:#000000; stroke-linecap:butt; stroke-linejoin:round; stroke-width:4; stroke-opacity:1; fill:none\\\" points=\\\"\\n  2656.42,2083.33 2656.42,2064.43 \\n  \\\"\\/>\\n<polyline clip-path=\\\"url(#clip870)\\\" style=\\\"stroke:#000000; stroke-linecap:butt; stroke-linejoin:round; stroke-width:4; stroke-opacity:1; fill:none\\\" points=\\\"\\n  3456.72,2083.33 3456.72,2064.43 \\n  \\\"\\/>\\n<path clip-path=\\\"url(#clip870)\\\" d=\\\"M202.042 2138.5 L231.718 2138.5 L231.718 2142.43 L202.042 2142.43 L202.042 2138.5 Z\\\" fill=\\\"#000000\\\" fill-rule=\\\"evenodd\\\" fill-opacity=\\\"1\\\" \\/><path clip-path=\\\"url(#clip870)\\\" d=\\\"M242.621 2151.39 L250.259 2151.39 L250.259 2125.03 L241.949 2126.69 L241.949 2122.43 L250.213 2120.77 L254.889 2120.77 L254.889 2151.39 L262.528 2151.39 L262.528 2155.33 L242.621 2155.33 L242.621 2151.39 Z\\\" fill=\\\"#000000\\\" fill-rule=\\\"evenodd\\\" fill-opacity=\\\"1\\\" \\/><path clip-path=\\\"url(#clip870)\\\" d=\\\"M271.972 2149.45 L276.857 2149.45 L276.857 2155.33 L271.972 2155.33 L271.972 2149.45 Z\\\" fill=\\\"#000000\\\" fill-rule=\\\"evenodd\\\" fill-opacity=\\\"1\\\" \\/><path clip-path=\\\"url(#clip870)\\\" d=\\\"M297.042 2123.85 Q293.431 2123.85 291.602 2127.41 Q289.796 2130.95 289.796 2138.08 Q289.796 2145.19 291.602 2148.75 Q293.431 2152.3 297.042 2152.3 Q300.676 2152.3 302.481 2148.75 Q304.31 2145.19 304.31 2138.08 Q304.31 2130.95 302.481 2127.41 Q300.676 2123.85 297.042 2123.85 M297.042 2120.14 Q302.852 2120.14 305.907 2124.75 Q308.986 2129.33 308.986 2138.08 Q308.986 2146.81 305.907 2151.42 Q302.852 2156 297.042 2156 Q291.231 2156 288.153 2151.42 Q285.097 2146.81 285.097 2138.08 Q285.097 2129.33 288.153 2124.75 Q291.231 2120.14 297.042 2120.14 Z\\\" fill=\\\"#000000\\\" fill-rule=\\\"evenodd\\\" fill-opacity=\\\"1\\\" \\/><path clip-path=\\\"url(#clip870)\\\" d=\\\"M1002.84 2138.5 L1032.52 2138.5 L1032.52 2142.43 L1002.84 2142.43 L1002.84 2138.5 Z\\\" fill=\\\"#000000\\\" fill-rule=\\\"evenodd\\\" fill-opacity=\\\"1\\\" \\/><path clip-path=\\\"url(#clip870)\\\" d=\\\"M1052.61 2123.85 Q1049 2123.85 1047.17 2127.41 Q1045.36 2130.95 1045.36 2138.08 Q1045.36 2145.19 1047.17 2148.75 Q1049 2152.3 1052.61 2152.3 Q1056.24 2152.3 1058.05 2148.75 Q1059.88 2145.19 1059.88 2138.08 Q1059.88 2130.95 1058.05 2127.41 Q1056.24 2123.85 1052.61 2123.85 M1052.61 2120.14 Q1058.42 2120.14 1061.48 2124.75 Q1064.55 2129.33 1064.55 2138.08 Q1064.55 2146.81 1061.48 2151.42 Q1058.42 2156 1052.61 2156 Q1046.8 2156 1043.72 2151.42 Q1040.67 2146.81 1040.67 2138.08 Q1040.67 2129.33 1043.72 2124.75 Q1046.8 2120.14 1052.61 2120.14 Z\\\" fill=\\\"#000000\\\" fill-rule=\\\"evenodd\\\" fill-opacity=\\\"1\\\" \\/><path clip-path=\\\"url(#clip870)\\\" d=\\\"M1072.77 2149.45 L1077.66 2149.45 L1077.66 2155.33 L1072.77 2155.33 L1072.77 2149.45 Z\\\" fill=\\\"#000000\\\" fill-rule=\\\"evenodd\\\" fill-opacity=\\\"1\\\" \\/><path clip-path=\\\"url(#clip870)\\\" d=\\\"M1087.89 2120.77 L1106.24 2120.77 L1106.24 2124.7 L1092.17 2124.7 L1092.17 2133.18 Q1093.19 2132.83 1094.21 2132.67 Q1095.23 2132.48 1096.24 2132.48 Q1102.03 2132.48 1105.41 2135.65 Q1108.79 2138.82 1108.79 2144.24 Q1108.79 2149.82 1105.32 2152.92 Q1101.85 2156 1095.53 2156 Q1093.35 2156 1091.08 2155.63 Q1088.84 2155.26 1086.43 2154.52 L1086.43 2149.82 Q1088.51 2150.95 1090.73 2151.51 Q1092.96 2152.06 1095.43 2152.06 Q1099.44 2152.06 1101.78 2149.96 Q1104.11 2147.85 1104.11 2144.24 Q1104.11 2140.63 1101.78 2138.52 Q1099.44 2136.42 1095.43 2136.42 Q1093.56 2136.42 1091.68 2136.83 Q1089.83 2137.25 1087.89 2138.13 L1087.89 2120.77 Z\\\" fill=\\\"#000000\\\" fill-rule=\\\"evenodd\\\" fill-opacity=\\\"1\\\" \\/><path clip-path=\\\"url(#clip870)\\\" d=\\\"M1833.5 2123.85 Q1829.89 2123.85 1828.06 2127.41 Q1826.26 2130.95 1826.26 2138.08 Q1826.26 2145.19 1828.06 2148.75 Q1829.89 2152.3 1833.5 2152.3 Q1837.14 2152.3 1838.94 2148.75 Q1840.77 2145.19 1840.77 2138.08 Q1840.77 2130.95 1838.94 2127.41 Q1837.14 2123.85 1833.5 2123.85 M1833.5 2120.14 Q1839.31 2120.14 1842.37 2124.75 Q1845.45 2129.33 1845.45 2138.08 Q1845.45 2146.81 1842.37 2151.42 Q1839.31 2156 1833.5 2156 Q1827.69 2156 1824.61 2151.42 Q1821.56 2146.81 1821.56 2138.08 Q1821.56 2129.33 1824.61 2124.75 Q1827.69 2120.14 1833.5 2120.14 Z\\\" fill=\\\"#000000\\\" fill-rule=\\\"evenodd\\\" fill-opacity=\\\"1\\\" \\/><path clip-path=\\\"url(#clip870)\\\" d=\\\"M1853.66 2149.45 L1858.55 2149.45 L1858.55 2155.33 L1853.66 2155.33 L1853.66 2149.45 Z\\\" fill=\\\"#000000\\\" fill-rule=\\\"evenodd\\\" fill-opacity=\\\"1\\\" \\/><path clip-path=\\\"url(#clip870)\\\" d=\\\"M1878.73 2123.85 Q1875.12 2123.85 1873.29 2127.41 Q1871.49 2130.95 1871.49 2138.08 Q1871.49 2145.19 1873.29 2148.75 Q1875.12 2152.3 1878.73 2152.3 Q1882.37 2152.3 1884.17 2148.75 Q1886 2145.19 1886 2138.08 Q1886 2130.95 1884.17 2127.41 Q1882.37 2123.85 1878.73 2123.85 M1878.73 2120.14 Q1884.54 2120.14 1887.6 2124.75 Q1890.68 2129.33 1890.68 2138.08 Q1890.68 2146.81 1887.6 2151.42 Q1884.54 2156 1878.73 2156 Q1872.92 2156 1869.84 2151.42 Q1866.79 2146.81 1866.79 2138.08 Q1866.79 2129.33 1869.84 2124.75 Q1872.92 2120.14 1878.73 2120.14 Z\\\" fill=\\\"#000000\\\" fill-rule=\\\"evenodd\\\" fill-opacity=\\\"1\\\" \\/><path clip-path=\\\"url(#clip870)\\\" d=\\\"M2634.3 2123.85 Q2630.69 2123.85 2628.86 2127.41 Q2627.06 2130.95 2627.06 2138.08 Q2627.06 2145.19 2628.86 2148.75 Q2630.69 2152.3 2634.3 2152.3 Q2637.93 2152.3 2639.74 2148.75 Q2641.57 2145.19 2641.57 2138.08 Q2641.57 2130.95 2639.74 2127.41 Q2637.93 2123.85 2634.3 2123.85 M2634.3 2120.14 Q2640.11 2120.14 2643.17 2124.75 Q2646.24 2129.33 2646.24 2138.08 Q2646.24 2146.81 2643.17 2151.42 Q2640.11 2156 2634.3 2156 Q2628.49 2156 2625.41 2151.42 Q2622.36 2146.81 2622.36 2138.08 Q2622.36 2129.33 2625.41 2124.75 Q2628.49 2120.14 2634.3 2120.14 Z\\\" fill=\\\"#000000\\\" fill-rule=\\\"evenodd\\\" fill-opacity=\\\"1\\\" \\/><path clip-path=\\\"url(#clip870)\\\" d=\\\"M2654.46 2149.45 L2659.35 2149.45 L2659.35 2155.33 L2654.46 2155.33 L2654.46 2149.45 Z\\\" fill=\\\"#000000\\\" fill-rule=\\\"evenodd\\\" fill-opacity=\\\"1\\\" \\/><path clip-path=\\\"url(#clip870)\\\" d=\\\"M2669.58 2120.77 L2687.93 2120.77 L2687.93 2124.7 L2673.86 2124.7 L2673.86 2133.18 Q2674.88 2132.83 2675.9 2132.67 Q2676.92 2132.48 2677.93 2132.48 Q2683.72 2132.48 2687.1 2135.65 Q2690.48 2138.82 2690.48 2144.24 Q2690.48 2149.82 2687.01 2152.92 Q2683.54 2156 2677.22 2156 Q2675.04 2156 2672.77 2155.63 Q2670.53 2155.26 2668.12 2154.52 L2668.12 2149.82 Q2670.2 2150.95 2672.43 2151.51 Q2674.65 2152.06 2677.12 2152.06 Q2681.13 2152.06 2683.47 2149.96 Q2685.8 2147.85 2685.8 2144.24 Q2685.8 2140.63 2683.47 2138.52 Q2681.13 2136.42 2677.12 2136.42 Q2675.25 2136.42 2673.37 2136.83 Q2671.52 2137.25 2669.58 2138.13 L2669.58 2120.77 Z\\\" fill=\\\"#000000\\\" fill-rule=\\\"evenodd\\\" fill-opacity=\\\"1\\\" \\/><path clip-path=\\\"url(#clip870)\\\" d=\\\"M3423.87 2151.39 L3431.51 2151.39 L3431.51 2125.03 L3423.2 2126.69 L3423.2 2122.43 L3431.47 2120.77 L3436.14 2120.77 L3436.14 2151.39 L3443.78 2151.39 L3443.78 2155.33 L3423.87 2155.33 L3423.87 2151.39 Z\\\" fill=\\\"#000000\\\" fill-rule=\\\"evenodd\\\" fill-opacity=\\\"1\\\" \\/><path clip-path=\\\"url(#clip870)\\\" d=\\\"M3453.22 2149.45 L3458.11 2149.45 L3458.11 2155.33 L3453.22 2155.33 L3453.22 2149.45 Z\\\" fill=\\\"#000000\\\" fill-rule=\\\"evenodd\\\" fill-opacity=\\\"1\\\" \\/><path clip-path=\\\"url(#clip870)\\\" d=\\\"M3478.29 2123.85 Q3474.68 2123.85 3472.85 2127.41 Q3471.05 2130.95 3471.05 2138.08 Q3471.05 2145.19 3472.85 2148.75 Q3474.68 2152.3 3478.29 2152.3 Q3481.93 2152.3 3483.73 2148.75 Q3485.56 2145.19 3485.56 2138.08 Q3485.56 2130.95 3483.73 2127.41 Q3481.93 2123.85 3478.29 2123.85 M3478.29 2120.14 Q3484.1 2120.14 3487.16 2124.75 Q3490.24 2129.33 3490.24 2138.08 Q3490.24 2146.81 3487.16 2151.42 Q3484.1 2156 3478.29 2156 Q3472.48 2156 3469.4 2151.42 Q3466.35 2146.81 3466.35 2138.08 Q3466.35 2129.33 3469.4 2124.75 Q3472.48 2120.14 3478.29 2120.14 Z\\\" fill=\\\"#000000\\\" fill-rule=\\\"evenodd\\\" fill-opacity=\\\"1\\\" \\/><polyline clip-path=\\\"url(#clip872)\\\" style=\\\"stroke:#000000; stroke-linecap:butt; stroke-linejoin:round; stroke-width:2; stroke-opacity:0.1; fill:none\\\" points=\\\"\\n  159.478,2083.33 3552.76,2083.33 \\n  \\\"\\/>\\n<polyline clip-path=\\\"url(#clip872)\\\" style=\\\"stroke:#000000; stroke-linecap:butt; stroke-linejoin:round; stroke-width:2; stroke-opacity:0.1; fill:none\\\" points=\\\"\\n  159.478,1574.31 3552.76,1574.31 \\n  \\\"\\/>\\n<polyline clip-path=\\\"url(#clip872)\\\" style=\\\"stroke:#000000; stroke-linecap:butt; stroke-linejoin:round; stroke-width:2; stroke-opacity:0.1; fill:none\\\" points=\\\"\\n  159.478,1065.29 3552.76,1065.29 \\n  \\\"\\/>\\n<polyline clip-path=\\\"url(#clip872)\\\" style=\\\"stroke:#000000; stroke-linecap:butt; stroke-linejoin:round; stroke-width:2; stroke-opacity:0.1; fill:none\\\" points=\\\"\\n  159.478,556.265 3552.76,556.265 \\n  \\\"\\/>\\n<polyline clip-path=\\\"url(#clip872)\\\" style=\\\"stroke:#000000; stroke-linecap:butt; stroke-linejoin:round; stroke-width:2; stroke-opacity:0.1; fill:none\\\" points=\\\"\\n  159.478,47.2441 3552.76,47.2441 \\n  \\\"\\/>\\n<polyline clip-path=\\\"url(#clip870)\\\" style=\\\"stroke:#000000; stroke-linecap:butt; stroke-linejoin:round; stroke-width:4; stroke-opacity:1; fill:none\\\" points=\\\"\\n  159.478,2083.33 159.478,47.2441 \\n  \\\"\\/>\\n<polyline clip-path=\\\"url(#clip870)\\\" style=\\\"stroke:#000000; stroke-linecap:butt; stroke-linejoin:round; stroke-width:4; stroke-opacity:1; fill:none\\\" points=\\\"\\n  159.478,2083.33 178.376,2083.33 \\n  \\\"\\/>\\n<polyline clip-path=\\\"url(#clip870)\\\" style=\\\"stroke:#000000; stroke-linecap:butt; stroke-linejoin:round; stroke-width:4; stroke-opacity:1; fill:none\\\" points=\\\"\\n  159.478,1574.31 178.376,1574.31 \\n  \\\"\\/>\\n<polyline clip-path=\\\"url(#clip870)\\\" style=\\\"stroke:#000000; stroke-linecap:butt; stroke-linejoin:round; stroke-width:4; stroke-opacity:1; fill:none\\\" points=\\\"\\n  159.478,1065.29 178.376,1065.29 \\n  \\\"\\/>\\n<polyline clip-path=\\\"url(#clip870)\\\" style=\\\"stroke:#000000; stroke-linecap:butt; stroke-linejoin:round; stroke-width:4; stroke-opacity:1; fill:none\\\" points=\\\"\\n  159.478,556.265 178.376,556.265 \\n  \\\"\\/>\\n<polyline clip-path=\\\"url(#clip870)\\\" style=\\\"stroke:#000000; stroke-linecap:butt; stroke-linejoin:round; stroke-width:4; stroke-opacity:1; fill:none\\\" points=\\\"\\n  159.478,47.2441 178.376,47.2441 \\n  \\\"\\/>\\n<path clip-path=\\\"url(#clip870)\\\" d=\\\"M45.3625 2083.78 L75.0383 2083.78 L75.0383 2087.71 L45.3625 2087.71 L45.3625 2083.78 Z\\\" fill=\\\"#000000\\\" fill-rule=\\\"evenodd\\\" fill-opacity=\\\"1\\\" \\/><path clip-path=\\\"url(#clip870)\\\" d=\\\"M89.1586 2096.67 L105.478 2096.67 L105.478 2100.61 L83.5336 2100.61 L83.5336 2096.67 Q86.1956 2093.92 90.7789 2089.29 Q95.3854 2084.64 96.5659 2083.29 Q98.8113 2080.77 99.6909 2079.03 Q100.594 2077.27 100.594 2075.58 Q100.594 2072.83 98.6492 2071.09 Q96.728 2069.36 93.6261 2069.36 Q91.4271 2069.36 88.9734 2070.12 Q86.5428 2070.89 83.7651 2072.44 L83.7651 2067.71 Q86.5891 2066.58 89.0428 2066 Q91.4965 2065.42 93.5335 2065.42 Q98.9039 2065.42 102.098 2068.11 Q105.293 2070.79 105.293 2075.28 Q105.293 2077.41 104.483 2079.33 Q103.696 2081.23 101.589 2083.83 Q101.01 2084.5 97.9085 2087.71 Q94.8067 2090.91 89.1586 2096.67 Z\\\" fill=\\\"#000000\\\" fill-rule=\\\"evenodd\\\" fill-opacity=\\\"1\\\" \\/><path clip-path=\\\"url(#clip870)\\\" d=\\\"M44.9921 1574.76 L74.6679 1574.76 L74.6679 1578.69 L44.9921 1578.69 L44.9921 1574.76 Z\\\" fill=\\\"#000000\\\" fill-rule=\\\"evenodd\\\" fill-opacity=\\\"1\\\" \\/><path clip-path=\\\"url(#clip870)\\\" d=\\\"M85.5706 1587.65 L93.2095 1587.65 L93.2095 1561.29 L84.8993 1562.95 L84.8993 1558.69 L93.1632 1557.03 L97.8391 1557.03 L97.8391 1587.65 L105.478 1587.65 L105.478 1591.59 L85.5706 1591.59 L85.5706 1587.65 Z\\\" fill=\\\"#000000\\\" fill-rule=\\\"evenodd\\\" fill-opacity=\\\"1\\\" \\/><path clip-path=\\\"url(#clip870)\\\" d=\\\"M93.5335 1051.08 Q89.9224 1051.08 88.0937 1054.65 Q86.2882 1058.19 86.2882 1065.32 Q86.2882 1072.43 88.0937 1075.99 Q89.9224 1079.53 93.5335 1079.53 Q97.1678 1079.53 98.9733 1075.99 Q100.802 1072.43 100.802 1065.32 Q100.802 1058.19 98.9733 1054.65 Q97.1678 1051.08 93.5335 1051.08 M93.5335 1047.38 Q99.3437 1047.38 102.399 1051.99 Q105.478 1056.57 105.478 1065.32 Q105.478 1074.05 102.399 1078.65 Q99.3437 1083.24 93.5335 1083.24 Q87.7234 1083.24 84.6447 1078.65 Q81.5892 1074.05 81.5892 1065.32 Q81.5892 1056.57 84.6447 1051.99 Q87.7234 1047.38 93.5335 1047.38 Z\\\" fill=\\\"#000000\\\" fill-rule=\\\"evenodd\\\" fill-opacity=\\\"1\\\" \\/><path clip-path=\\\"url(#clip870)\\\" d=\\\"M85.5706 569.61 L93.2095 569.61 L93.2095 543.244 L84.8993 544.911 L84.8993 540.652 L93.1632 538.985 L97.8391 538.985 L97.8391 569.61 L105.478 569.61 L105.478 573.545 L85.5706 573.545 L85.5706 569.61 Z\\\" fill=\\\"#000000\\\" fill-rule=\\\"evenodd\\\" fill-opacity=\\\"1\\\" \\/><path clip-path=\\\"url(#clip870)\\\" d=\\\"M89.1586 60.5889 L105.478 60.5889 L105.478 64.5241 L83.5336 64.5241 L83.5336 60.5889 Q86.1956 57.8343 90.7789 53.2047 Q95.3854 48.552 96.5659 47.2094 Q98.8113 44.6862 99.6909 42.9501 Q100.594 41.1909 100.594 39.5011 Q100.594 36.7465 98.6492 35.0104 Q96.728 33.2743 93.6261 33.2743 Q91.4271 33.2743 88.9734 34.0381 Q86.5428 34.802 83.7651 36.3529 L83.7651 31.6308 Q86.5891 30.4965 89.0428 29.9178 Q91.4965 29.3391 93.5335 29.3391 Q98.9039 29.3391 102.098 32.0243 Q105.293 34.7094 105.293 39.2002 Q105.293 41.3298 104.483 43.2511 Q103.696 45.1492 101.589 47.7418 Q101.01 48.4131 97.9085 51.6306 Q94.8067 54.8251 89.1586 60.5889 Z\\\" fill=\\\"#000000\\\" fill-rule=\\\"evenodd\\\" fill-opacity=\\\"1\\\" \\/><polyline clip-path=\\\"url(#clip872)\\\" style=\\\"stroke:#009af9; stroke-linecap:butt; stroke-linejoin:round; stroke-width:20; stroke-opacity:1; fill:none\\\" points=\\\"\\n  255.514,1045.71 271.601,1045.32 287.687,1044.93 303.773,1044.52 319.86,1044.1 335.946,1043.67 352.033,1043.23 368.119,1042.77 384.206,1042.3 400.292,1041.81 \\n  416.379,1041.31 432.465,1040.79 448.552,1040.25 464.638,1039.7 480.725,1039.13 496.811,1038.54 512.897,1037.93 528.984,1037.3 545.07,1036.65 561.157,1035.97 \\n  577.243,1035.27 593.33,1034.55 609.416,1033.8 625.503,1033.02 641.589,1032.22 657.676,1031.39 673.762,1030.52 689.849,1029.62 705.935,1028.69 722.021,1027.72 \\n  738.108,1026.72 754.194,1025.67 770.281,1024.58 786.367,1023.45 802.454,1022.27 818.54,1021.04 834.627,1019.77 850.713,1018.43 866.8,1017.04 882.886,1015.59 \\n  898.973,1014.08 915.059,1012.49 931.145,1010.84 947.232,1009.11 963.318,1007.3 979.405,1005.4 995.491,1003.42 1011.58,1001.34 1027.66,999.157 1043.75,996.868 \\n  1059.84,994.464 1075.92,991.939 1092.01,989.284 1108.1,986.491 1124.18,983.552 1140.27,980.456 1156.36,977.194 1172.44,973.754 1188.53,970.124 1204.62,966.292 \\n  1220.7,962.244 1236.79,957.965 1252.87,953.439 1268.96,948.65 1285.05,943.58 1301.13,938.209 1317.22,932.517 1333.31,926.483 1349.39,920.085 1365.48,913.297 \\n  1381.57,906.095 1397.65,898.453 1413.74,890.345 1429.83,881.743 1445.91,872.621 1462,862.952 1478.09,852.71 1494.17,841.872 1510.26,830.418 1526.34,818.334 \\n  1542.43,805.608 1558.52,792.242 1574.6,778.245 1590.69,763.641 1606.78,748.47 1622.86,732.793 1638.95,716.693 1655.04,700.281 1671.12,683.699 1687.21,667.116 \\n  1703.3,650.739 1719.38,634.804 1735.47,619.575 1751.55,605.337 1767.64,592.388 1783.73,581.028 1799.81,571.538 1815.9,564.174 1831.99,559.141 1848.07,556.586 \\n  1864.16,556.586 1880.25,559.141 1896.33,564.174 1912.42,571.538 1928.51,581.028 1944.59,592.388 1960.68,605.337 1976.77,619.575 1992.85,634.804 2008.94,650.739 \\n  2025.02,667.116 2041.11,683.699 2057.2,700.281 2073.28,716.693 2089.37,732.793 2105.46,748.47 2121.54,763.641 2137.63,778.245 2153.72,792.242 2169.8,805.608 \\n  2185.89,818.334 2201.98,830.418 2218.06,841.872 2234.15,852.71 2250.24,862.952 2266.32,872.621 2282.41,881.743 2298.49,890.345 2314.58,898.453 2330.67,906.095 \\n  2346.75,913.297 2362.84,920.085 2378.93,926.483 2395.01,932.517 2411.1,938.209 2427.19,943.58 2443.27,948.65 2459.36,953.439 2475.45,957.965 2491.53,962.244 \\n  2507.62,966.292 2523.71,970.124 2539.79,973.754 2555.88,977.194 2571.96,980.456 2588.05,983.552 2604.14,986.491 2620.22,989.284 2636.31,991.939 2652.4,994.464 \\n  2668.48,996.868 2684.57,999.157 2700.66,1001.34 2716.74,1003.42 2732.83,1005.4 2748.92,1007.3 2765,1009.11 2781.09,1010.84 2797.17,1012.49 2813.26,1014.08 \\n  2829.35,1015.59 2845.43,1017.04 2861.52,1018.43 2877.61,1019.77 2893.69,1021.04 2909.78,1022.27 2925.87,1023.45 2941.95,1024.58 2958.04,1025.67 2974.13,1026.72 \\n  2990.21,1027.72 3006.3,1028.69 3022.39,1029.62 3038.47,1030.52 3054.56,1031.39 3070.64,1032.22 3086.73,1033.02 3102.82,1033.8 3118.9,1034.55 3134.99,1035.27 \\n  3151.08,1035.97 3167.16,1036.65 3183.25,1037.3 3199.34,1037.93 3215.42,1038.54 3231.51,1039.13 3247.6,1039.7 3263.68,1040.25 3279.77,1040.79 3295.86,1041.31 \\n  3311.94,1041.81 3328.03,1042.3 3344.11,1042.77 3360.2,1043.23 3376.29,1043.67 3392.37,1044.1 3408.46,1044.52 3424.55,1044.93 3440.63,1045.32 3456.72,1045.71 \\n  \\n  \\\"\\/>\\n<polyline clip-path=\\\"url(#clip872)\\\" style=\\\"stroke:#e26f46; stroke-linecap:butt; stroke-linejoin:round; stroke-width:20; stroke-opacity:1; fill:none\\\" points=\\\"\\n  255.514,1045.71 271.601,694.191 287.687,436.87 303.773,258.366 319.86,145.111 335.946,85.1827 352.033,68.1625 368.119,84.9904 384.206,127.838 400.292,189.986 \\n  416.379,265.715 432.465,350.2 448.552,439.414 464.638,530.043 480.725,619.4 496.811,705.356 512.897,786.264 528.984,860.903 545.07,928.418 561.157,988.266 \\n  577.243,1040.17 593.33,1084.09 609.416,1120.15 625.503,1148.63 641.589,1169.95 657.676,1184.59 673.762,1193.13 689.849,1196.17 705.935,1194.36 722.021,1188.35 \\n  738.108,1178.79 754.194,1166.31 770.281,1151.53 786.367,1135.03 802.454,1117.35 818.54,1099 834.627,1080.43 850.713,1062.05 866.8,1044.2 882.886,1027.2 \\n  898.973,1011.3 915.059,996.708 931.145,983.575 947.232,972.013 963.318,962.09 979.405,953.833 995.491,947.231 1011.58,942.24 1027.66,938.786 1043.75,936.766 \\n  1059.84,936.057 1075.92,936.515 1092.01,937.98 1108.1,940.28 1124.18,943.235 1140.27,946.66 1156.36,950.366 1172.44,954.166 1188.53,957.877 1204.62,961.321 \\n  1220.7,964.329 1236.79,966.741 1252.87,968.413 1268.96,969.211 1285.05,969.018 1301.13,967.734 1317.22,965.276 1333.31,961.578 1349.39,956.594 1365.48,950.295 \\n  1381.57,942.671 1397.65,933.73 1413.74,923.5 1429.83,912.023 1445.91,899.359 1462,885.584 1478.09,870.788 1494.17,855.073 1510.26,838.556 1526.34,821.362 \\n  1542.43,803.625 1558.52,785.487 1574.6,767.098 1590.69,748.61 1606.78,730.178 1622.86,711.959 1638.95,694.108 1655.04,676.78 1671.12,660.124 1687.21,644.286 \\n  1703.3,629.404 1719.38,615.608 1735.47,603.02 1751.55,591.751 1767.64,581.899 1783.73,573.553 1799.81,566.785 1815.9,561.656 1831.99,558.212 1848.07,556.482 \\n  1864.16,556.482 1880.25,558.212 1896.33,561.656 1912.42,566.785 1928.51,573.553 1944.59,581.899 1960.68,591.751 1976.77,603.02 1992.85,615.608 2008.94,629.404 \\n  2025.02,644.286 2041.11,660.124 2057.2,676.78 2073.28,694.108 2089.37,711.959 2105.46,730.178 2121.54,748.61 2137.63,767.098 2153.72,785.487 2169.8,803.625 \\n  2185.89,821.362 2201.98,838.556 2218.06,855.073 2234.15,870.788 2250.24,885.584 2266.32,899.359 2282.41,912.023 2298.49,923.5 2314.58,933.73 2330.67,942.671 \\n  2346.75,950.295 2362.84,956.594 2378.93,961.578 2395.01,965.276 2411.1,967.734 2427.19,969.018 2443.27,969.211 2459.36,968.413 2475.45,966.741 2491.53,964.329 \\n  2507.62,961.321 2523.71,957.877 2539.79,954.166 2555.88,950.366 2571.96,946.66 2588.05,943.235 2604.14,940.28 2620.22,937.98 2636.31,936.515 2652.4,936.057 \\n  2668.48,936.766 2684.57,938.786 2700.66,942.24 2716.74,947.231 2732.83,953.833 2748.92,962.09 2765,972.013 2781.09,983.575 2797.17,996.708 2813.26,1011.3 \\n  2829.35,1027.2 2845.43,1044.2 2861.52,1062.05 2877.61,1080.43 2893.69,1099 2909.78,1117.35 2925.87,1135.03 2941.95,1151.53 2958.04,1166.31 2974.13,1178.79 \\n  2990.21,1188.35 3006.3,1194.36 3022.39,1196.17 3038.47,1193.13 3054.56,1184.59 3070.64,1169.95 3086.73,1148.63 3102.82,1120.15 3118.9,1084.09 3134.99,1040.17 \\n  3151.08,988.266 3167.16,928.418 3183.25,860.903 3199.34,786.264 3215.42,705.356 3231.51,619.4 3247.6,530.043 3263.68,439.414 3279.77,350.2 3295.86,265.715 \\n  3311.94,189.986 3328.03,127.838 3344.11,84.9904 3360.2,68.1625 3376.29,85.1827 3392.37,145.111 3408.46,258.366 3424.55,436.87 3440.63,694.191 3456.72,1045.71 \\n  \\n  \\\"\\/>\\n<polyline clip-path=\\\"url(#clip872)\\\" style=\\\"stroke:#3da44d; stroke-linecap:butt; stroke-linejoin:round; stroke-width:0; stroke-opacity:1; fill:none\\\" points=\\\"\\n  255.514,1045.71 575.635,1035.34 895.755,1014.38 1215.88,963.482 1536,810.776 1856.12,556.265 2176.24,810.776 2496.36,963.482 2816.48,1014.38 3136.6,1035.34 \\n  3456.72,1045.71 \\n  \\\"\\/>\\n<path clip-path=\\\"url(#clip872)\\\" d=\\\"M255.514 1061.71 L244.202 1057.02 L239.514 1045.71 L244.202 1034.4 L255.514 1029.71 L266.826 1034.4 L271.514 1045.71 L266.826 1057.02 Z\\\" fill=\\\"#3da44d\\\" fill-rule=\\\"evenodd\\\" fill-opacity=\\\"1\\\" stroke=\\\"#000000\\\" stroke-opacity=\\\"1\\\" stroke-width=\\\"4.4\\\"\\/>\\n<path clip-path=\\\"url(#clip872)\\\" d=\\\"M575.635 1051.34 L564.323 1046.66 L559.635 1035.34 L564.323 1024.03 L575.635 1019.34 L586.947 1024.03 L591.635 1035.34 L586.947 1046.66 Z\\\" fill=\\\"#3da44d\\\" fill-rule=\\\"evenodd\\\" fill-opacity=\\\"1\\\" stroke=\\\"#000000\\\" stroke-opacity=\\\"1\\\" stroke-width=\\\"4.4\\\"\\/>\\n<path clip-path=\\\"url(#clip872)\\\" d=\\\"M895.755 1030.38 L884.443 1025.7 L879.755 1014.38 L884.443 1003.07 L895.755 998.384 L907.067 1003.07 L911.755 1014.38 L907.067 1025.7 Z\\\" fill=\\\"#3da44d\\\" fill-rule=\\\"evenodd\\\" fill-opacity=\\\"1\\\" stroke=\\\"#000000\\\" stroke-opacity=\\\"1\\\" stroke-width=\\\"4.4\\\"\\/>\\n<path clip-path=\\\"url(#clip872)\\\" d=\\\"M1215.88 979.482 L1204.56 974.794 L1199.88 963.482 L1204.56 952.17 L1215.88 947.482 L1227.19 952.17 L1231.88 963.482 L1227.19 974.794 Z\\\" fill=\\\"#3da44d\\\" fill-rule=\\\"evenodd\\\" fill-opacity=\\\"1\\\" stroke=\\\"#000000\\\" stroke-opacity=\\\"1\\\" stroke-width=\\\"4.4\\\"\\/>\\n<path clip-path=\\\"url(#clip872)\\\" d=\\\"M1536 826.776 L1524.68 822.088 L1520 810.776 L1524.68 799.464 L1536 794.776 L1547.31 799.464 L1552 810.776 L1547.31 822.088 Z\\\" fill=\\\"#3da44d\\\" fill-rule=\\\"evenodd\\\" fill-opacity=\\\"1\\\" stroke=\\\"#000000\\\" stroke-opacity=\\\"1\\\" stroke-width=\\\"4.4\\\"\\/>\\n<path clip-path=\\\"url(#clip872)\\\" d=\\\"M1856.12 572.265 L1844.8 567.577 L1840.12 556.265 L1844.8 544.953 L1856.12 540.265 L1867.43 544.953 L1872.12 556.265 L1867.43 567.577 Z\\\" fill=\\\"#3da44d\\\" fill-rule=\\\"evenodd\\\" fill-opacity=\\\"1\\\" stroke=\\\"#000000\\\" stroke-opacity=\\\"1\\\" stroke-width=\\\"4.4\\\"\\/>\\n<path clip-path=\\\"url(#clip872)\\\" d=\\\"M2176.24 826.776 L2164.93 822.088 L2160.24 810.776 L2164.93 799.464 L2176.24 794.776 L2187.55 799.464 L2192.24 810.776 L2187.55 822.088 Z\\\" fill=\\\"#3da44d\\\" fill-rule=\\\"evenodd\\\" fill-opacity=\\\"1\\\" stroke=\\\"#000000\\\" stroke-opacity=\\\"1\\\" stroke-width=\\\"4.4\\\"\\/>\\n<path clip-path=\\\"url(#clip872)\\\" d=\\\"M2496.36 979.482 L2485.05 974.794 L2480.36 963.482 L2485.05 952.17 L2496.36 947.482 L2507.67 952.17 L2512.36 963.482 L2507.67 974.794 Z\\\" fill=\\\"#3da44d\\\" fill-rule=\\\"evenodd\\\" fill-opacity=\\\"1\\\" stroke=\\\"#000000\\\" stroke-opacity=\\\"1\\\" stroke-width=\\\"4.4\\\"\\/>\\n<path clip-path=\\\"url(#clip872)\\\" d=\\\"M2816.48 1030.38 L2805.17 1025.7 L2800.48 1014.38 L2805.17 1003.07 L2816.48 998.384 L2827.79 1003.07 L2832.48 1014.38 L2827.79 1025.7 Z\\\" fill=\\\"#3da44d\\\" fill-rule=\\\"evenodd\\\" fill-opacity=\\\"1\\\" stroke=\\\"#000000\\\" stroke-opacity=\\\"1\\\" stroke-width=\\\"4.4\\\"\\/>\\n<path clip-path=\\\"url(#clip872)\\\" d=\\\"M3136.6 1051.34 L3125.29 1046.66 L3120.6 1035.34 L3125.29 1024.03 L3136.6 1019.34 L3147.91 1024.03 L3152.6 1035.34 L3147.91 1046.66 Z\\\" fill=\\\"#3da44d\\\" fill-rule=\\\"evenodd\\\" fill-opacity=\\\"1\\\" stroke=\\\"#000000\\\" stroke-opacity=\\\"1\\\" stroke-width=\\\"4.4\\\"\\/>\\n<path clip-path=\\\"url(#clip872)\\\" d=\\\"M3456.72 1061.71 L3445.41 1057.02 L3440.72 1045.71 L3445.41 1034.4 L3456.72 1029.71 L3468.03 1034.4 L3472.72 1045.71 L3468.03 1057.02 Z\\\" fill=\\\"#3da44d\\\" fill-rule=\\\"evenodd\\\" fill-opacity=\\\"1\\\" stroke=\\\"#000000\\\" stroke-opacity=\\\"1\\\" stroke-width=\\\"4.4\\\"\\/>\\n<\\/svg>\\n\"},\"nodeType\":\"DOM\",\"type\":\"node\",\"instanceArgs\":{\"namespace\":\"html\",\"tag\":\"div\"},\"children\":[]}]}]}}}},\"children\":[{\"props\":{},\"nodeType\":\"ObservableNode\",\"type\":\"node\",\"instanceArgs\":{\"id\":\"5789352896949658663\",\"name\":\"obs-node\"},\"children\":[]}]}]},\n",
       "        window,\n",
       "    );\n",
       "    })()\n",
       "    </script>\n",
       "</div>\n"
      ],
      "text/plain": [
       "Node{WebIO.DOM}(WebIO.DOM(:html, :div), Any[Node{WebIO.DOM}(WebIO.DOM(:html, :div), Any[Scope(Node{WebIO.DOM}(WebIO.DOM(:html, :div), Any[Node{WebIO.DOM}(WebIO.DOM(:html, :div), Any[Node{WebIO.DOM}(WebIO.DOM(:html, :label), Any[\"n\"], Dict{Symbol, Any}(:className => \"interact \", :style => Dict{Any, Any}(:padding => \"5px 10px 0px 10px\")))], Dict{Symbol, Any}(:className => \"interact-flex-row-left\")), Node{WebIO.DOM}(WebIO.DOM(:html, :div), Any[Node{WebIO.DOM}(WebIO.DOM(:html, :input), Any[], Dict{Symbol, Any}(:max => 21, :min => 2, :attributes => Dict{Any, Any}(:type => \"range\", Symbol(\"data-bind\") => \"numericValue: index, valueUpdate: 'input', event: {change: function (){this.changes(this.changes()+1)}}\", \"orient\" => \"horizontal\"), :step => 1, :className => \"slider slider is-fullwidth\", :style => Dict{Any, Any}()))], Dict{Symbol, Any}(:className => \"interact-flex-row-center\")), Node{WebIO.DOM}(WebIO.DOM(:html, :div), Any[Node{WebIO.DOM}(WebIO.DOM(:html, :p), Any[], Dict{Symbol, Any}(:attributes => Dict(\"data-bind\" => \"text: formatted_val\")))], Dict{Symbol, Any}(:className => \"interact-flex-row-right\"))], Dict{Symbol, Any}(:className => \"interact-flex-row interact-widget\")), Dict{String, Tuple{Observables.AbstractObservable, Union{Nothing, Bool}}}(\"changes\" => (Observable{Int64} with 1 listeners. Value:\n",
       "0, nothing), \"index\" => (Observable{Int64} with 2 listeners. Value:\n",
       "11, nothing)), Set{String}(), nothing, Asset[Asset(\"js\", \"knockout\", \"/home/tisaac/.julia/packages/Knockout/3gjS1/src/../assets/knockout.js\"), Asset(\"js\", \"knockout_punches\", \"/home/tisaac/.julia/packages/Knockout/3gjS1/src/../assets/knockout_punches.js\"), Asset(\"js\", nothing, \"/home/tisaac/.julia/packages/InteractBase/o1I6G/src/../assets/all.js\"), Asset(\"css\", nothing, \"/home/tisaac/.julia/packages/InteractBase/o1I6G/src/../assets/style.css\"), Asset(\"css\", nothing, \"/home/tisaac/.julia/packages/Interact/pVyN2/src/../assets/bulma_confined.min.css\")], Dict{Any, Any}(\"changes\" => Any[WebIO.JSString(\"(function (val){return (val!=this.model[\\\"changes\\\"]()) ? (this.valueFromJulia[\\\"changes\\\"]=true, this.model[\\\"changes\\\"](val)) : undefined})\")], \"index\" => Any[WebIO.JSString(\"(function (val){return (val!=this.model[\\\"index\\\"]()) ? (this.valueFromJulia[\\\"index\\\"]=true, this.model[\\\"index\\\"](val)) : undefined})\")]), WebIO.ConnectionPool(Channel{Any}(32), Set{AbstractConnection}(), Condition(Base.InvasiveLinkedList{Task}(Task (runnable) @0x00007f18b4ac2e10, Task (runnable) @0x00007f18b4ac2e10), Base.AlwaysLockedST(1))), WebIO.JSString[WebIO.JSString(\"function () {\\n    var handler = (function (ko, koPunches) {\\n    ko.punches.enableAll();\\n    ko.bindingHandlers.numericValue = {\\n        init: function(element, valueAccessor, allBindings, data, context) {\\n            var stringified = ko.observable(ko.unwrap(valueAccessor()));\\n            stringified.subscribe(function(value) {\\n                var val = parseFloat(value);\\n                if (!isNaN(val)) {\\n                    valueAccessor()(val);\\n                }\\n            });\\n            valueAccessor().subscribe(function(value) {\\n                var str = JSON.stringify(value);\\n                if ((str == \\\"0\\\") && ([\\\"-0\\\", \\\"-0.\\\"].indexOf(stringified()) >= 0))\\n                     return;\\n                 if ([\\\"null\\\", \\\"\\\"].indexOf(str) >= 0)\\n                     return;\\n                stringified(str);\\n            });\\n            ko.applyBindingsToNode(\\n                element,\\n                {\\n                    value: stringified,\\n                    valueUpdate: allBindings.get('valueUpdate'),\\n                },\\n                context,\\n            );\\n        }\\n    };\\n    var json_data = {\\\"formatted_vals\\\":[\\\"2\\\",\\\"3\\\",\\\"4\\\",\\\"5\\\",\\\"6\\\",\\\"7\\\",\\\"8\\\",\\\"9\\\",\\\"10\\\",\\\"11\\\",\\\"12\\\",\\\"13\\\",\\\"14\\\",\\\"15\\\",\\\"16\\\",\\\"17\\\",\\\"18\\\",\\\"19\\\",\\\"20\\\",\\\"21\\\"],\\\"changes\\\":WebIO.getval({\\\"name\\\":\\\"changes\\\",\\\"scope\\\":\\\"14070968435950504006\\\",\\\"id\\\":\\\"4849622990898378558\\\",\\\"type\\\":\\\"observable\\\"}),\\\"index\\\":WebIO.getval({\\\"name\\\":\\\"index\\\",\\\"scope\\\":\\\"14070968435950504006\\\",\\\"id\\\":\\\"3639163041518966976\\\",\\\"type\\\":\\\"observable\\\"})};\\n    var self = this;\\n    function AppViewModel() {\\n        for (var key in json_data) {\\n            var el = json_data[key];\\n            this[key] = Array.isArray(el) ? ko.observableArray(el) : ko.observable(el);\\n        }\\n        \\n        [this[\\\"formatted_val\\\"]=ko.computed(    function(){\\n        return this.formatted_vals()[parseInt(this.index())-(2)];\\n    }\\n,this)]\\n        [this[\\\"changes\\\"].subscribe((function (val){!(this.valueFromJulia[\\\"changes\\\"]) ? (WebIO.setval({\\\"name\\\":\\\"changes\\\",\\\"scope\\\":\\\"14070968435950504006\\\",\\\"id\\\":\\\"4849622990898378558\\\",\\\"type\\\":\\\"observable\\\"},val)) : undefined; return this.valueFromJulia[\\\"changes\\\"]=false}),self),this[\\\"index\\\"].subscribe((function (val){!(this.valueFromJulia[\\\"index\\\"]) ? (WebIO.setval({\\\"name\\\":\\\"index\\\",\\\"scope\\\":\\\"14070968435950504006\\\",\\\"id\\\":\\\"3639163041518966976\\\",\\\"type\\\":\\\"observable\\\"},val)) : undefined; return this.valueFromJulia[\\\"index\\\"]=false}),self)]\\n        \\n    }\\n    self.model = new AppViewModel();\\n    self.valueFromJulia = {};\\n    for (var key in json_data) {\\n        self.valueFromJulia[key] = false;\\n    }\\n    ko.applyBindings(self.model, self.dom);\\n}\\n);\\n    (WebIO.importBlock({\\\"data\\\":[{\\\"name\\\":\\\"knockout\\\",\\\"type\\\":\\\"js\\\",\\\"url\\\":\\\"/assetserver/46ca1ae6128ce5cef46ae6c83c10cbc27a02b7d5-knockout.js\\\"},{\\\"name\\\":\\\"knockout_punches\\\",\\\"type\\\":\\\"js\\\",\\\"url\\\":\\\"/assetserver/ae9f554c0387f76781e87553335a640c2663983d-knockout_punches.js\\\"}],\\\"type\\\":\\\"async_block\\\"})).then((imports) => handler.apply(this, imports));\\n}\\n\")])], Dict{Symbol, Any}(:className => \"field interact-widget\")), Node{WebIO.DOM}(WebIO.DOM(:html, :div), Any[Scope(Node{WebIO.DOM}(WebIO.DOM(:html, :div), Any[Node{WebIO.DOM}(WebIO.DOM(:html, :div), Any[Node{WebIO.DOM}(WebIO.DOM(:html, :label), Any[\"m\"], Dict{Symbol, Any}(:className => \"interact \", :style => Dict{Any, Any}(:padding => \"5px 10px 0px 10px\")))], Dict{Symbol, Any}(:className => \"interact-flex-row-left\")), Node{WebIO.DOM}(WebIO.DOM(:html, :div), Any[Node{WebIO.DOM}(WebIO.DOM(:html, :input), Any[], Dict{Symbol, Any}(:max => 21, :min => 2, :attributes => Dict{Any, Any}(:type => \"range\", Symbol(\"data-bind\") => \"numericValue: index, valueUpdate: 'input', event: {change: function (){this.changes(this.changes()+1)}}\", \"orient\" => \"horizontal\"), :step => 1, :className => \"slider slider is-fullwidth\", :style => Dict{Any, Any}()))], Dict{Symbol, Any}(:className => \"interact-flex-row-center\")), Node{WebIO.DOM}(WebIO.DOM(:html, :div), Any[Node{WebIO.DOM}(WebIO.DOM(:html, :p), Any[], Dict{Symbol, Any}(:attributes => Dict(\"data-bind\" => \"text: formatted_val\")))], Dict{Symbol, Any}(:className => \"interact-flex-row-right\"))], Dict{Symbol, Any}(:className => \"interact-flex-row interact-widget\")), Dict{String, Tuple{Observables.AbstractObservable, Union{Nothing, Bool}}}(\"changes\" => (Observable{Int64} with 1 listeners. Value:\n",
       "0, nothing), \"index\" => (Observable{Int64} with 2 listeners. Value:\n",
       "11, nothing)), Set{String}(), nothing, Asset[Asset(\"js\", \"knockout\", \"/home/tisaac/.julia/packages/Knockout/3gjS1/src/../assets/knockout.js\"), Asset(\"js\", \"knockout_punches\", \"/home/tisaac/.julia/packages/Knockout/3gjS1/src/../assets/knockout_punches.js\"), Asset(\"js\", nothing, \"/home/tisaac/.julia/packages/InteractBase/o1I6G/src/../assets/all.js\"), Asset(\"css\", nothing, \"/home/tisaac/.julia/packages/InteractBase/o1I6G/src/../assets/style.css\"), Asset(\"css\", nothing, \"/home/tisaac/.julia/packages/Interact/pVyN2/src/../assets/bulma_confined.min.css\")], Dict{Any, Any}(\"changes\" => Any[WebIO.JSString(\"(function (val){return (val!=this.model[\\\"changes\\\"]()) ? (this.valueFromJulia[\\\"changes\\\"]=true, this.model[\\\"changes\\\"](val)) : undefined})\")], \"index\" => Any[WebIO.JSString(\"(function (val){return (val!=this.model[\\\"index\\\"]()) ? (this.valueFromJulia[\\\"index\\\"]=true, this.model[\\\"index\\\"](val)) : undefined})\")]), WebIO.ConnectionPool(Channel{Any}(32), Set{AbstractConnection}(), Condition(Base.InvasiveLinkedList{Task}(Task (runnable) @0x00007f18b4ad7990, Task (runnable) @0x00007f18b4ad7990), Base.AlwaysLockedST(1))), WebIO.JSString[WebIO.JSString(\"function () {\\n    var handler = (function (ko, koPunches) {\\n    ko.punches.enableAll();\\n    ko.bindingHandlers.numericValue = {\\n        init: function(element, valueAccessor, allBindings, data, context) {\\n            var stringified = ko.observable(ko.unwrap(valueAccessor()));\\n            stringified.subscribe(function(value) {\\n                var val = parseFloat(value);\\n                if (!isNaN(val)) {\\n                    valueAccessor()(val);\\n                }\\n            });\\n            valueAccessor().subscribe(function(value) {\\n                var str = JSON.stringify(value);\\n                if ((str == \\\"0\\\") && ([\\\"-0\\\", \\\"-0.\\\"].indexOf(stringified()) >= 0))\\n                     return;\\n                 if ([\\\"null\\\", \\\"\\\"].indexOf(str) >= 0)\\n                     return;\\n                stringified(str);\\n            });\\n            ko.applyBindingsToNode(\\n                element,\\n                {\\n                    value: stringified,\\n                    valueUpdate: allBindings.get('valueUpdate'),\\n                },\\n                context,\\n            );\\n        }\\n    };\\n    var json_data = {\\\"formatted_vals\\\":[\\\"2\\\",\\\"3\\\",\\\"4\\\",\\\"5\\\",\\\"6\\\",\\\"7\\\",\\\"8\\\",\\\"9\\\",\\\"10\\\",\\\"11\\\",\\\"12\\\",\\\"13\\\",\\\"14\\\",\\\"15\\\",\\\"16\\\",\\\"17\\\",\\\"18\\\",\\\"19\\\",\\\"20\\\",\\\"21\\\"],\\\"changes\\\":WebIO.getval({\\\"name\\\":\\\"changes\\\",\\\"scope\\\":\\\"3604159059442142776\\\",\\\"id\\\":\\\"6919608494783488120\\\",\\\"type\\\":\\\"observable\\\"}),\\\"index\\\":WebIO.getval({\\\"name\\\":\\\"index\\\",\\\"scope\\\":\\\"3604159059442142776\\\",\\\"id\\\":\\\"7085498823529930020\\\",\\\"type\\\":\\\"observable\\\"})};\\n    var self = this;\\n    function AppViewModel() {\\n        for (var key in json_data) {\\n            var el = json_data[key];\\n            this[key] = Array.isArray(el) ? ko.observableArray(el) : ko.observable(el);\\n        }\\n        \\n        [this[\\\"formatted_val\\\"]=ko.computed(    function(){\\n        return this.formatted_vals()[parseInt(this.index())-(2)];\\n    }\\n,this)]\\n        [this[\\\"changes\\\"].subscribe((function (val){!(this.valueFromJulia[\\\"changes\\\"]) ? (WebIO.setval({\\\"name\\\":\\\"changes\\\",\\\"scope\\\":\\\"3604159059442142776\\\",\\\"id\\\":\\\"6919608494783488120\\\",\\\"type\\\":\\\"observable\\\"},val)) : undefined; return this.valueFromJulia[\\\"changes\\\"]=false}),self),this[\\\"index\\\"].subscribe((function (val){!(this.valueFromJulia[\\\"index\\\"]) ? (WebIO.setval({\\\"name\\\":\\\"index\\\",\\\"scope\\\":\\\"3604159059442142776\\\",\\\"id\\\":\\\"7085498823529930020\\\",\\\"type\\\":\\\"observable\\\"},val)) : undefined; return this.valueFromJulia[\\\"index\\\"]=false}),self)]\\n        \\n    }\\n    self.model = new AppViewModel();\\n    self.valueFromJulia = {};\\n    for (var key in json_data) {\\n        self.valueFromJulia[key] = false;\\n    }\\n    ko.applyBindings(self.model, self.dom);\\n}\\n);\\n    (WebIO.importBlock({\\\"data\\\":[{\\\"name\\\":\\\"knockout\\\",\\\"type\\\":\\\"js\\\",\\\"url\\\":\\\"/assetserver/46ca1ae6128ce5cef46ae6c83c10cbc27a02b7d5-knockout.js\\\"},{\\\"name\\\":\\\"knockout_punches\\\",\\\"type\\\":\\\"js\\\",\\\"url\\\":\\\"/assetserver/ae9f554c0387f76781e87553335a640c2663983d-knockout_punches.js\\\"}],\\\"type\\\":\\\"async_block\\\"})).then((imports) => handler.apply(this, imports));\\n}\\n\")])], Dict{Symbol, Any}(:className => \"field interact-widget\")), Observable{Node{WebIO.DOM}} with 0 listeners. Value:\n",
       "Node{WebIO.DOM}(WebIO.DOM(:html, :div), Any[Node{WebIO.DOM}(WebIO.DOM(:html, :div), Any[\"||V||₂ ||V⁺||₂ = 1.4e+04\", Plot{Plots.GRBackend() n=3}], Dict{Symbol, Any}(:style => Dict(\"display\" => \"flex\", \"flex-direction\" => \"column\")))], Dict{Symbol, Any}(:className => \"interact-flex-row interact-widget\"))], Dict{Symbol, Any}())"
      ]
     },
     "execution_count": 37,
     "metadata": {
      "application/vnd.webio.node+json": {
       "kernelId": "d09180db-63cc-4700-a156-6dec3ca877f3"
      }
     },
     "output_type": "execute_result"
    }
   ],
   "source": [
    "gr();\n",
    "agnesi(x) = 1 ./ (1 .+ 25 * x .^ 2)\n",
    "@manipulate for n = 2:21, m = 2:21\n",
    "    p = n - 1\n",
    "    x = LinRange(-1.0,1.0,m)\n",
    "    y = agnesi(x)\n",
    "    pows = 0:p\n",
    "    V = hcat([ x .^ q for q in pows]...)\n",
    "    c = V \\ y\n",
    "    xfull = LinRange(-1.0,1.0,200)\n",
    "    yfull = map(x -> c' * (x .^ pows), xfull)\n",
    "    txt = \"||V||₂ ||V⁺||₂ = $(@sprintf(\"%.1e\",cond(V)))\"\n",
    "    p = plot(xfull, agnesi(xfull))\n",
    "    plot!(p, xfull, yfull, ylim=(-2,2))\n",
    "    plot!(p, x, y, l = 0, m = :o)\n",
    "    vbox(txt, p)\n",
    "end"
   ]
  },
  {
   "cell_type": "markdown",
   "metadata": {
    "cell_style": "split",
    "slideshow": {
     "slide_type": "subslide"
    }
   },
   "source": [
    "$$\\mathrm{minimize}_{p \\in \\mathcal{P}^{n-1}}\\ {\\textstyle\\frac 1 2} \\sum_{i=1}^m |p(x_i) - y_i|^2$$\n",
    "\n",
    "In terms of solving for the coefficients:\n",
    "\n",
    "$$\\mathrm{minimize}_{c \\in \\mathbb{C}^n}\\ \n",
    "{\\textstyle\\frac 1 2} \\| V c - y \\|_2^2$$\n",
    "\n"
   ]
  },
  {
   "cell_type": "markdown",
   "metadata": {
    "slideshow": {
     "slide_type": "subslide"
    }
   },
   "source": [
    "### Least-squares over evenly spaced appoints approximately minimizes the $L^2$ inner product\n",
    "\n",
    "If $\\{x_i\\}$ are evenly spaced throughout $[a, b]$, then (roughly speaking)\n",
    "\n",
    "$$\n",
    "\\lim_{m \\to \\infty} \\frac{1}{m} \\sum_{i=1}^m |f(x_i) - g(x_i)|^2 = \\| f - g \\|_{L^2[a,b]}^2.\n",
    "$$\n",
    "\n",
    "Make the equivalent of $V$ for the given basis functions and solve for the coefficients as a least-squares problem."
   ]
  },
  {
   "cell_type": "markdown",
   "metadata": {
    "slideshow": {
     "slide_type": "slide"
    }
   },
   "source": [
    "## Orthogonal Projection and Normal Equations"
   ]
  },
  {
   "cell_type": "markdown",
   "metadata": {
    "slideshow": {
     "slide_type": "subslide"
    }
   },
   "source": [
    "### Go back and look at the first 3D residual plot\n",
    "\n",
    "Your visual intuition is that $Ax$ can't be the closest to $b$ if $r$ is oblique to the plane of $\\mathrm{range}(A)$."
   ]
  },
  {
   "cell_type": "markdown",
   "metadata": {
    "slideshow": {
     "slide_type": "fragment"
    }
   },
   "source": [
    "Translated into math, the best choice of $x$ has\n",
    "\n",
    "$$r \\perp \\mathrm{range}(A) \\quad \\Leftrightarrow \\quad A^*r = 0.$$"
   ]
  },
  {
   "cell_type": "markdown",
   "metadata": {
    "slideshow": {
     "slide_type": "subslide"
    }
   },
   "source": [
    "**T&B Theorem 11.1.** Let $A \\in \\mathbb{C}^{m \\times n}$ ($m \\geq n$) and $b \\in \\mathbb{C}^m$ be given.\n",
    "\n",
    "$$x = \\arg\\min_{\\hat x} {\\textstyle\\frac 1 2}\\|b - A\\hat x\\|_2^2 \\quad \\stackrel{i}{\\Leftrightarrow} \\quad A^*\\underbrace{r}_{b - A x} = 0 \\quad \\stackrel{ii}{\\Leftrightarrow} \\quad \\underbrace{A^*A x = A^*b}_{\\text{normal equations}} \\quad \\stackrel{iii}{\\Leftrightarrow} \\quad \\underbrace{Pb = Ax}_{P = \\text{orth. proj. onto }\\mathrm{range}(A)}$$\n",
    "\n",
    "_Proof._ (just _i_, others follow from definitions)."
   ]
  },
  {
   "cell_type": "markdown",
   "metadata": {
    "slideshow": {
     "slide_type": "fragment"
    }
   },
   "source": [
    "_i._ ($\\Rightarrow$) We can write $r = r_{\\parallel} + r_{\\perp},$ an orthogonal decompostion with $A^* r_{\\perp} = 0$ and $r_{\\parallel} = Ay \\in \\mathrm{range}(A)$:\n",
    "\n",
    "$$\n",
    "\\|b - A(x + y)\\|_2^2 = \\|r - r_\\parallel\\|_2^2 = \\|r\\|_2^2 - \\|r_\\parallel\\|_2^2.$$\n",
    "\n",
    "By the assumption that $\\|r\\|_2$ is minimal $\\|r_\\parallel\\|_2 = 0 \\Rightarrow r_\\parallel = 0.$\n",
    "\n",
    "($\\Leftarrow$) For every $z$ in $\\mathbb{C}^n$,\n",
    "\n",
    "$$\\|b - Az \\|_2^2 = \\|r - A(z-x)\\|_2^2 = \\|r\\|_2^2 + \\|A(z-x)\\|_2^2 \\geq \\|r\\|_2^2.$$"
   ]
  },
  {
   "cell_type": "markdown",
   "metadata": {
    "slideshow": {
     "slide_type": "subslide"
    }
   },
   "source": [
    "### This equivalence is important\n",
    "\n",
    "$$\\underbrace{A^*A x = A^*b}_{\\text{normal equations}} \\quad \\Leftrightarrow \\quad \\underbrace{Pb = Ax}_{P = \\text{orth. proj. onto }\\mathrm{range}(A)}$$"
   ]
  },
  {
   "cell_type": "markdown",
   "metadata": {
    "slideshow": {
     "slide_type": "slide"
    }
   },
   "source": [
    "## The Pseudoinverse"
   ]
  },
  {
   "cell_type": "markdown",
   "metadata": {
    "slideshow": {
     "slide_type": "subslide"
    }
   },
   "source": [
    "### If we assume the normal equations are solvable\n",
    "\n",
    "The matrix that maps $b \\to x$ is the _pseudoinverse_ $A^+\\in \\mathbb{C}^{n \\times m}$,\n",
    "\n",
    "$$\n",
    "x = \\underbrace{(A^* A)^{-1} A^*}_{\\text{pseudoinverse }A^+} b.\n",
    "$$\n",
    "\n",
    "$$A^+ A = (A^* A)^{-1} (A^* A) = I$$"
   ]
  },
  {
   "cell_type": "markdown",
   "metadata": {
    "slideshow": {
     "slide_type": "subslide"
    }
   },
   "source": [
    "### Recall a fact about projectors\n",
    "\n",
    "Given $A$ full rank,\n",
    "\n",
    "$$P = A (A^* A)^{-1} A^*$$\n",
    "\n",
    "is the orthogonal projector onto $\\mathrm{range}(A)$ (we did not have to construct an orthonormal basis of $\\mathrm{range}(A)$ to build the projector)."
   ]
  },
  {
   "cell_type": "markdown",
   "metadata": {
    "slideshow": {
     "slide_type": "fragment"
    }
   },
   "source": [
    "But this is\n",
    "\n",
    "$$P = A A^+.$$"
   ]
  },
  {
   "cell_type": "markdown",
   "metadata": {
    "slideshow": {
     "slide_type": "subslide"
    }
   },
   "source": [
    "### The pseudoinverse and the SVD\n",
    "\n",
    "Let $\\hat{U} \\hat{\\Sigma} V^*$ be the reduced SVD of $A$ (full rank, $\\hat{\\Sigma}$ invertible):\n",
    "\n",
    "$$\n",
    "\\begin{aligned}A^+ &= (A^*A)^{-1} A^*\n",
    "\\\\&= (V \\hat{\\Sigma}^* \\hat{U}^* \\hat{U}\\hat{\\Sigma} V^*)^{-1} V \\hat\\Sigma \\hat U^*\n",
    "\\\\&= (V \\hat{\\Sigma}^2 V^*)^{-1} V \\hat\\Sigma \\hat{U}^*\n",
    "\\\\&= V \\hat{\\Sigma}^{-2} V^* V \\hat\\Sigma \\hat{U}^*\n",
    "\\\\&= V \\hat{\\Sigma}^{-1} \\hat{U}^*.\n",
    "\\end{aligned}\n",
    "$$"
   ]
  },
  {
   "cell_type": "markdown",
   "metadata": {
    "slideshow": {
     "slide_type": "subslide"
    }
   },
   "source": [
    "### Exercise\n",
    "\n",
    "**T&B Exercise 11.1.** Suppose the $m \\times n$ matrix $A$ has the form\n",
    "\n",
    "$$A = \\begin{bmatrix} A_1 \\\\ A_2 \\end{bmatrix},$$\n",
    "\n",
    "where $A_1$ is a nonsingular matrix of dimension $n \\times n$ and $A_2$ is an arbitrary matrix of dimension $(m-n) \\times n$.  Prove that\n",
    "\n",
    "$$(1 / \\sigma_{\\min}(A))\\leq (1 / \\sigma_{\\min} (A_1)).$$\n",
    "\n",
    "_Hint._\n",
    "\n",
    "1. From the previous slide, every singular value of $A^+$ is the reciprocal of a singular value of $A$.\n",
    "2. $\\sigma_{\\min}(A)^2 = \\min_{\\|x\\|_2 = 1} \\|Ax\\|_2^2 = \\|A_1 x\\|_2^2 + \\|A_2 x\\|_2^2$.\n",
    "3. $\\sigma_{\\min}(A_1)^2 = \\min_{\\|x\\|_2 = 1} \\|A_1 x\\|_2^2.$"
   ]
  },
  {
   "cell_type": "markdown",
   "metadata": {
    "slideshow": {
     "slide_type": "slide"
    }
   },
   "source": [
    "## Solving the Least Squares Problem"
   ]
  },
  {
   "cell_type": "markdown",
   "metadata": {
    "cell_style": "split",
    "slideshow": {
     "slide_type": "subslide"
    }
   },
   "source": [
    "### Method 0: backslash\n",
    "\n",
    "- Algorithm?\n",
    "- Work?\n",
    "- Stability?\n",
    "- Parallelism?"
   ]
  },
  {
   "cell_type": "code",
   "execution_count": 17,
   "metadata": {
    "cell_style": "split"
   },
   "outputs": [
    {
     "data": {
      "text/plain": [
       "1.6199208758998565e-13"
      ]
     },
     "execution_count": 17,
     "metadata": {},
     "output_type": "execute_result"
    }
   ],
   "source": [
    "m = 1000; n = 50;\n",
    "\n",
    "A = randn(m, n); b = randn(m);\n",
    "\n",
    "x_backslash = A \\ b\n",
    "\n",
    "orthogonality_error(A,x,b) = norm(A'*(b - A*x),2)\n",
    "orthogonality_error(A, x_backslash, b)"
   ]
  },
  {
   "cell_type": "markdown",
   "metadata": {
    "cell_style": "split",
    "slideshow": {
     "slide_type": "subslide"
    }
   },
   "source": [
    "### Method 1: Cholesky factorization of $A^*A$ in normal equations\n",
    "\n",
    "If $A$ is full rank, $A^*A$ has a Cholesky factorization, $A^*A = LL^*$, $L$ lower triangular and invertible.\n",
    "\n",
    "1. Compute $A^*A$ (symmetry saves work, $\\sim mn^2$)\n",
    "2. Compute Cholesky factorization $LL^* = A^*A$, ($\\sim \\frac{1}{3}n^3$)\n",
    "3. Compute $z = A^* b$ ($\\sim 2mn$)\n",
    "4. Solve $Lw = z$ ($\\sim n^2$)\n",
    "5. Solve $L^*x = w$ ($\\sim n^2$)\n",
    "\n",
    "Total work $\\sim mn^2 + \\frac{1}{3}n^3$."
   ]
  },
  {
   "cell_type": "code",
   "execution_count": 18,
   "metadata": {
    "cell_style": "split"
   },
   "outputs": [
    {
     "data": {
      "text/plain": [
       "1.68913428029423e-13"
      ]
     },
     "execution_count": 18,
     "metadata": {},
     "output_type": "execute_result"
    }
   ],
   "source": [
    "K = A'*A\n",
    "L = cholesky(K).L\n",
    "z = A'*b\n",
    "w = L \\ z\n",
    "x_cholesky = L' \\ w\n",
    "\n",
    "orthogonality_error(A, x_cholesky, b)"
   ]
  },
  {
   "cell_type": "markdown",
   "metadata": {
    "cell_style": "split",
    "slideshow": {
     "slide_type": "subslide"
    }
   },
   "source": [
    "### Method 2: QR Factorization of $A$\n",
    "\n",
    "1. Compute reduced QR factorization $A = \\hat{Q}\\hat{R}$ (most work efficient we've seen is Householder, $\\sim 2mn^2 - \\frac{2}{3}n^3$)\n",
    "2. Compute $z = \\hat Q^*b$ ($\\sim 4mn - 2n^2$ with Householder reflectors)\n",
    "3. Solve $\\hat{R}x = z$ ($\\sim n^2$)\n",
    "\n",
    "Total work $\\sim 2mn^2 - \\frac{2}{3}n^3$"
   ]
  },
  {
   "cell_type": "code",
   "execution_count": 19,
   "metadata": {
    "cell_style": "split"
   },
   "outputs": [
    {
     "data": {
      "text/plain": [
       "1.4584444456623774e-13"
      ]
     },
     "execution_count": 19,
     "metadata": {},
     "output_type": "execute_result"
    }
   ],
   "source": [
    "Q, R = qr(A)\n",
    "z = (Q'*b)[1:n]\n",
    "x_qr = R \\ z\n",
    "# note: norm((Q'*b)[n+1:m]) = ||r||_2\n",
    "\n",
    "orthogonality_error(A, x_qr, b)"
   ]
  },
  {
   "cell_type": "markdown",
   "metadata": {
    "cell_style": "split",
    "slideshow": {
     "slide_type": "subslide"
    }
   },
   "source": [
    "### Method 3: SVD of $A$\n",
    "\n",
    "1. Compute the reduced SVD $A = \\hat{U} \\hat \\Sigma V^*$ (approx $\\sim 2mn^2 + 11n^3$)\n",
    "2. Compute $z = \\hat U^* b$ ($\\sim 2mn$)\n",
    "3. Solve $\\hat \\Sigma w = z$ ($\\sim n$)\n",
    "4. Compute $x = V w$ ($\\sim 2n^2$)\n",
    "\n",
    "Total work $\\sim 2mn^2 + 11n^3$"
   ]
  },
  {
   "cell_type": "code",
   "execution_count": 20,
   "metadata": {
    "cell_style": "split"
   },
   "outputs": [
    {
     "data": {
      "text/plain": [
       "4.646388576030304e-13"
      ]
     },
     "execution_count": 20,
     "metadata": {},
     "output_type": "execute_result"
    }
   ],
   "source": [
    "U, σ , V = svd(A) # reduced by default\n",
    "z = U'*b\n",
    "w = z ./ σ\n",
    "x_svd = V * w\n",
    "\n",
    "orthogonality_error(A, x_svd, b)"
   ]
  },
  {
   "cell_type": "markdown",
   "metadata": {
    "slideshow": {
     "slide_type": "subslide"
    }
   },
   "source": [
    "### Comparison\n",
    "\n",
    "| algorithm | work | stability | parallelism |\n",
    "| :-: | :-: | :-: | :-: |\n",
    "| Cholesky | $$\\sim mn^2 + {\\textstyle\\frac{1}{3}}n^3$$ | ❌? | best |\n",
    "| QR | $$\\sim 2mn^2 - {\\textstyle\\frac{2}{3}{n^3}}$$ | ✅? | good--better |\n",
    "| SVD | $$\\sim 2mn^2 + 11n^3$$ | ✅✅? | bad--good |"
   ]
  },
  {
   "cell_type": "markdown",
   "metadata": {
    "slideshow": {
     "slide_type": "fragment"
    }
   },
   "source": [
    "The next section of our class is making the stability of these algorithms _quantifiable_."
   ]
  }
 ],
 "metadata": {
  "@webio": {
   "lastCommId": "3874480167fd4d4481405595c0c4f45a",
   "lastKernelId": "d09180db-63cc-4700-a156-6dec3ca877f3"
  },
  "celltoolbar": "Hide code",
  "hide_input": false,
  "kernelspec": {
   "display_name": "Julia 1.7.0",
   "language": "julia",
   "name": "julia-1.7"
  },
  "language_info": {
   "file_extension": ".jl",
   "mimetype": "application/julia",
   "name": "julia",
   "version": "1.7.0"
  }
 },
 "nbformat": 4,
 "nbformat_minor": 4
}
