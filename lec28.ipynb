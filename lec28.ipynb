{
 "cells": [
  {
   "cell_type": "code",
   "execution_count": 1,
   "id": "fa92a880",
   "metadata": {},
   "outputs": [
    {
     "name": "stderr",
     "output_type": "stream",
     "text": [
      "\u001b[32m\u001b[1m    Updating\u001b[22m\u001b[39m registry at `~/.julia/registries/General.toml`\n",
      "\u001b[32m\u001b[1m   Resolving\u001b[22m\u001b[39m package versions...\n",
      "\u001b[32m\u001b[1m  No Changes\u001b[22m\u001b[39m to `~/.julia/environments/v1.7/Project.toml`\n",
      "\u001b[32m\u001b[1m  No Changes\u001b[22m\u001b[39m to `~/.julia/environments/v1.7/Manifest.toml`\n"
     ]
    },
    {
     "data": {
      "text/plain": [
       "LogLevel(1)"
      ]
     },
     "execution_count": 1,
     "metadata": {},
     "output_type": "execute_result"
    }
   ],
   "source": [
    "import Pkg; Pkg.add([\"Plots\"]);\n",
    "import Logging; Logging.disable_logging(Logging.Info)"
   ]
  },
  {
   "cell_type": "code",
   "execution_count": 2,
   "id": "e62b4335",
   "metadata": {},
   "outputs": [],
   "source": [
    "const STATIC_LECTURE = false;"
   ]
  },
  {
   "cell_type": "code",
   "execution_count": 3,
   "id": "188cf698",
   "metadata": {},
   "outputs": [],
   "source": [
    "using LinearAlgebra;\n",
    "using Plots; gr(); default(l=5, size=(900,550), label=false, fmt=:png);\n",
    "using Printf;\n",
    "\n",
    "BLAS.set_num_threads(1)\n",
    "\n",
    "if STATIC_LECTURE\n",
    "    default(fmt=:png)\n",
    "    macro manipulate(v)\n",
    "        return :($v; plot!())\n",
    "    end\n",
    "end\n",
    "\n",
    "prettyprint(a) = map(x -> @sprintf(\"%+.2f\", x), a)\n",
    "sciprint(a) = map(x -> @sprintf(\"%+.2e\", x), a)\n",
    "\n",
    "function imshow(x; kwargs...)\n",
    "    return heatmap(x\n",
    "        , aspect_ratio=:equal\n",
    "        , framestyle=:none\n",
    "        , yflip=true\n",
    "        , c=cgrad(:diverging_gwv_55_95_c39_n256, rev=true)\n",
    "        ; kwargs...\n",
    "    )\n",
    "end\n",
    "function imshowlog(x; kwargs...)\n",
    "    return heatmap(max.(log.(abs.(x)), log(eps()))\n",
    "        , aspect_ratio=:equal\n",
    "        , framestyle=:none\n",
    "        , yflip=true\n",
    "        , c=cgrad(:linear_worb_100_25_c53_n256)\n",
    "        ; kwargs...\n",
    "    )\n",
    "end\n",
    "bigspy(x; kwargs...) = spy(x, m=4, c=:diverging_gwv_55_95_c39_n256; kwargs...)\n",
    "p = plot!([0,1],[0,1]);"
   ]
  },
  {
   "cell_type": "markdown",
   "id": "66a6aa82",
   "metadata": {
    "slideshow": {
     "slide_type": "slide"
    }
   },
   "source": [
    "# Finding Structure with Randomness\n",
    "\n",
    "**Probabilistic Algorithms for Constructing Approximate Matrix Decompositions**\n",
    "\n",
    "_Halko, Martinsson, & Tropp, 2011_"
   ]
  },
  {
   "cell_type": "markdown",
   "id": "a9288e49",
   "metadata": {
    "slideshow": {
     "slide_type": "subslide"
    }
   },
   "source": [
    "## Main points of this article\n",
    "\n",
    "Matrix factorizations are useful tools for understanding data relationships, but:\n",
    "\n",
    "- Many are large enough that $O(m^3)$ or $O(mn^2)$ costs are infeasible\n",
    "\n",
    "- Contrary to precise matrices coming from math and scientific applications, data matrices have errors, omissions, ...\n",
    "\n",
    "- Data movement is the dominant cost of many algorithms"
   ]
  },
  {
   "cell_type": "markdown",
   "id": "18ab63a1",
   "metadata": {
    "slideshow": {
     "slide_type": "subslide"
    }
   },
   "source": [
    "These points suggest that **random algorithms for approximate matrix factorizations** win out over classic deterministic algorithms in time"
   ]
  },
  {
   "cell_type": "markdown",
   "id": "eef006b4",
   "metadata": {
    "slideshow": {
     "slide_type": "fragment"
    }
   },
   "source": [
    "... and sometime also in robustness"
   ]
  },
  {
   "cell_type": "markdown",
   "id": "2bbc535a",
   "metadata": {
    "slideshow": {
     "slide_type": "slide"
    }
   },
   "source": [
    "## Review: low-rank approximation in the SVD"
   ]
  },
  {
   "cell_type": "markdown",
   "id": "5b39a20a",
   "metadata": {
    "slideshow": {
     "slide_type": "subslide"
    }
   },
   "source": [
    "Let\n",
    "\n",
    "$$\\large A = \\hat{U} \\Sigma V^*$$\n",
    "\n",
    "be a reduced SVD of $A$. ($\\Sigma$ is square.)"
   ]
  },
  {
   "cell_type": "markdown",
   "id": "6befdfc1",
   "metadata": {
    "slideshow": {
     "slide_type": "subslide"
    }
   },
   "source": [
    "### Operator 2-norm matrix approximation\n",
    "\n",
    "$$\\large \\mathop{\\arg\\min}_{\\mathrm{rank}(B) \\leq r} \\| A - B \\|_2 = \\sum_{k=1}^r u_r \\sigma_r v_r^* = \\hat U_{1:r} \\Sigma_{1:r} (V_{1:r})^*$$\n",
    "\n",
    "$$\\min_{\\mathrm{rank}(B) \\leq r} \\| A - B \\|_2 = \\sigma_{r+1}$$"
   ]
  },
  {
   "cell_type": "markdown",
   "id": "b84f4aa8",
   "metadata": {
    "slideshow": {
     "slide_type": "subslide"
    }
   },
   "source": [
    "### Frobenius norm matrix approximation\n",
    "\n",
    "$$\\large \\mathop{\\arg\\min}_{\\mathrm{rank}(B) \\leq r} \\| A - B \\|_F = \\sum_{k=1}^r u_r \\sigma_r v_r^* = \\hat U_{1:r} \\Sigma_{1:r} (V_{1:r})^*$$\n",
    "\n",
    "$$\\min_{\\mathrm{rank}(B) \\leq r} \\| A - B \\|_2 = \\sqrt{\\sum_{k=r+1}^n \\sigma_{k}^2}$$"
   ]
  },
  {
   "cell_type": "markdown",
   "id": "cc9f995b",
   "metadata": {
    "slideshow": {
     "slide_type": "subslide"
    }
   },
   "source": [
    "If $r \\ll n$, the approximation $\\sum_{k=1}^r u_r \\sigma_r v_r^* = \\hat U_{1:r} \\Sigma_{1:r} (V_{1:r})^*$ is much smaller than $A$:\n",
    "\n",
    "- Less storage / work to apply: $O(mr + nr)$ vs $O(mn)$"
   ]
  },
  {
   "cell_type": "markdown",
   "id": "71cc5298",
   "metadata": {
    "slideshow": {
     "slide_type": "subslide"
    }
   },
   "source": [
    "If we had an oracle that could give us $\\hat U_{1:r} \\Sigma_{1:r} (V_{1:r})^*$, we would use it any time we need a low-rank approximation."
   ]
  },
  {
   "cell_type": "markdown",
   "id": "0cb891a6",
   "metadata": {
    "slideshow": {
     "slide_type": "fragment"
    }
   },
   "source": [
    "Without an oracle, how should we compute it?"
   ]
  },
  {
   "cell_type": "markdown",
   "id": "a685c31d",
   "metadata": {
    "slideshow": {
     "slide_type": "subslide"
    }
   },
   "source": [
    "If we compute the entire reduced SVD and then extract the first $r$ vectors, that defeats the purpose ($O(mn^2)$ work to get our approximation), and may not be feasible."
   ]
  },
  {
   "cell_type": "markdown",
   "id": "35f7a135",
   "metadata": {
    "slideshow": {
     "slide_type": "fragment"
    }
   },
   "source": [
    "Are there algorithms available to use that compute just the portion of the SVD that we want?"
   ]
  },
  {
   "cell_type": "markdown",
   "id": "f4321d7d",
   "metadata": {
    "slideshow": {
     "slide_type": "subslide"
    }
   },
   "source": [
    "### Recall how we compute the SVD of $A$ in practice"
   ]
  },
  {
   "cell_type": "markdown",
   "id": "a4365008",
   "metadata": {
    "cell_style": "split",
    "slideshow": {
     "slide_type": "fragment"
    }
   },
   "source": [
    "1. Eigenvalue decomposition of $A^* A$\n",
    "\n",
    "Discouraged in T&B as unstable:\n",
    "\n",
    "$$|\\tilde \\sigma_k - \\sigma_k| = O(\\epsilon_{\\text{machine}}\\|A\\|^2 / \\sigma_k)$$"
   ]
  },
  {
   "cell_type": "markdown",
   "id": "d9a1b6d5",
   "metadata": {
    "cell_style": "split",
    "slideshow": {
     "slide_type": "fragment"
    }
   },
   "source": [
    "2. Eigenvalue decomposition of $\\begin{bmatrix} 0 & A^* \\\\ A & 0\\end{bmatrix}$\n",
    "\n",
    "Stable:\n",
    "\n",
    "$$|\\tilde \\sigma_k - \\sigma_k | = O(\\epsilon_{\\text{machine}} \\|A\\|)$$"
   ]
  },
  {
   "cell_type": "markdown",
   "id": "ffe0c58c",
   "metadata": {
    "slideshow": {
     "slide_type": "fragment"
    }
   },
   "source": [
    "**Review Q:** Is algorithm 1 unstable for all singular values?"
   ]
  },
  {
   "cell_type": "markdown",
   "id": "30100887",
   "metadata": {
    "slideshow": {
     "slide_type": "fragment"
    }
   },
   "source": [
    "Because the instability is for the smallest values of $\\Sigma$ -- the first ones to be dropped in a low-rank approximation -- we see why maybe method 1 is not a bad idea for our purposes."
   ]
  },
  {
   "cell_type": "markdown",
   "id": "d6dee269",
   "metadata": {
    "slideshow": {
     "slide_type": "subslide"
    }
   },
   "source": [
    "### Could we use a method that uses the Phase 1 reduction to Hessenberg / bidiagonal form?"
   ]
  },
  {
   "cell_type": "markdown",
   "id": "b69c5098",
   "metadata": {
    "slideshow": {
     "slide_type": "fragment"
    }
   },
   "source": [
    "This is the most expensive part of the classical QR algorithm $O(mn^2)$, it is too expensive in this case"
   ]
  },
  {
   "cell_type": "markdown",
   "id": "b7b6c19e",
   "metadata": {
    "slideshow": {
     "slide_type": "subslide"
    }
   },
   "source": [
    "The QR algorithm without Phase 1 is too expensive as well: then every step requires an $O(mn^2)$ factorization."
   ]
  },
  {
   "cell_type": "markdown",
   "id": "c6967d5f",
   "metadata": {
    "slideshow": {
     "slide_type": "fragment"
    }
   },
   "source": [
    "What methods did we discuss that converged only a few eigenvalues?"
   ]
  },
  {
   "cell_type": "markdown",
   "id": "1a3ad19c",
   "metadata": {
    "slideshow": {
     "slide_type": "subslide"
    }
   },
   "source": [
    "1. Power iteration\n",
    "2. Inverse iteration (**requires matrix inverse**)\n",
    "3. Rayleigh Quotient iteration (**requires matrix inverse**)"
   ]
  },
  {
   "cell_type": "markdown",
   "id": "b11c7080",
   "metadata": {
    "slideshow": {
     "slide_type": "fragment"
    }
   },
   "source": [
    "(We seem to be whittling away all but the most primitive algorithm as too expensive!)"
   ]
  },
  {
   "cell_type": "markdown",
   "id": "82e4e5f1",
   "metadata": {
    "slideshow": {
     "slide_type": "subslide"
    }
   },
   "source": [
    "### Recall our algorithm from the constructive uniqueness proof of the SVD\n",
    "\n",
    "1. Find unit vector $v_1$ that maximizes $\\|Av\\|_2$ (by the power iteration from a **random initial guess**)\n",
    "\n",
    "2. $\\sigma_1 = \\|A v\\|_2$, $u_1 = A v / \\sigma_1$\n",
    "\n",
    "3. Project $u_1$ and $v_1$ out of $A$ and recursively find the SVD of the remainder"
   ]
  },
  {
   "cell_type": "markdown",
   "id": "41327c36",
   "metadata": {
    "slideshow": {
     "slide_type": "subslide"
    }
   },
   "source": [
    "Our implementation of this was slower than built in methods for computing the full SVD:"
   ]
  },
  {
   "cell_type": "markdown",
   "id": "293f67af",
   "metadata": {
    "slideshow": {
     "slide_type": "fragment"
    }
   },
   "source": [
    "1. We converged each $\\sigma_k$ completely before proceeding to the next value"
   ]
  },
  {
   "cell_type": "markdown",
   "id": "986023cb",
   "metadata": {
    "slideshow": {
     "slide_type": "fragment"
    }
   },
   "source": [
    "2. We didn't project out $u_1$ and $v_1$ as efficiently as we could have"
   ]
  },
  {
   "cell_type": "markdown",
   "id": "88596ccf",
   "metadata": {
    "slideshow": {
     "slide_type": "fragment"
    }
   },
   "source": [
    "3. By proceeding one vector at a time, our power method used primarily matrix-vector products (_level 2 BLAS_, when high performance usually only comes with matrix-matrix operations, _level 3 BLAS_)"
   ]
  },
  {
   "cell_type": "markdown",
   "id": "987b051d",
   "metadata": {
    "slideshow": {
     "slide_type": "fragment"
    }
   },
   "source": [
    "Could we take this basic idea, correct these defficiencies,  and make it faster for computing the leading portion of the SVD?"
   ]
  },
  {
   "cell_type": "markdown",
   "id": "7885baa8",
   "metadata": {
    "slideshow": {
     "slide_type": "slide"
    }
   },
   "source": [
    "## Range approximation\n",
    "\n",
    "Assuming $m \\geq n$, a first step that is useful not just for approximate SVD calculations, but other matrix factorizations, is **finding an approxiate orthonormal basis for the range of $A$**,\n",
    "\n",
    "$$\\large A  \\approx Q Q^* A.$$"
   ]
  },
  {
   "cell_type": "markdown",
   "id": "d5e8c5fc",
   "metadata": {
    "slideshow": {
     "slide_type": "subslide"
    }
   },
   "source": [
    "### Making this notion quantitative\n",
    "\n",
    "We want to find orthonormal $Q$ such that\n",
    "\n",
    "$$\\large \\|A - QQ^* A\\|_{2} \\leq \\epsilon.$$ "
   ]
  },
  {
   "cell_type": "markdown",
   "id": "664499f4",
   "metadata": {
    "slideshow": {
     "slide_type": "subslide"
    }
   },
   "source": [
    "Note we are not looking for the optimal $Q$ of some rank that minimizes $\\|A - QQ^* A\\|_2$."
   ]
  },
  {
   "cell_type": "markdown",
   "id": "93b05ba8",
   "metadata": {
    "slideshow": {
     "slide_type": "fragment"
    }
   },
   "source": [
    "(**Claim.** The optimality result we stated at the start says that the optimal $Q$ is $U_{1:r}$.)"
   ]
  },
  {
   "cell_type": "markdown",
   "id": "35759f19",
   "metadata": {
    "slideshow": {
     "slide_type": "fragment"
    }
   },
   "source": [
    "The range approximation problem statement recognizes that there is some threshold $\\epsilon$ at which $Q$ is good enough, determined by:\n",
    "\n",
    "1. The accuracy of the entries in $A$ (if there is noise that is $O(\\epsilon)$ in the entries of $A$, why try to be more accurate than that in your numerical linear algebra?)"
   ]
  },
  {
   "cell_type": "markdown",
   "id": "1b858102",
   "metadata": {
    "slideshow": {
     "slide_type": "fragment"
    }
   },
   "source": [
    "2. The accuracy required by a task.\n",
    "\n",
    "   - Approximate matrix factorizations appear often in recommender systems.  What is the regret if a suboptimal $Q$ is used?"
   ]
  },
  {
   "cell_type": "markdown",
   "id": "776997c9",
   "metadata": {
    "slideshow": {
     "slide_type": "subslide"
    }
   },
   "source": [
    "### Using the range approximation $Q$ in an approximate SVD\n",
    "\n",
    "1. Compute $B = Q^*A$. (Claim: $A \\approx Q B$)\n",
    "\n",
    "2. Compute an SVD of the small matrix $B = \\tilde U \\Sigma V^*$.\n",
    "\n",
    "3. Set $U = Q \\tilde U$\n"
   ]
  },
  {
   "cell_type": "markdown",
   "id": "cf6d8c99",
   "metadata": {
    "slideshow": {
     "slide_type": "slide"
    }
   },
   "source": [
    "### Computing the random range approximation $Q$"
   ]
  },
  {
   "cell_type": "markdown",
   "id": "dbd9aad1",
   "metadata": {
    "slideshow": {
     "slide_type": "subslide"
    }
   },
   "source": [
    "First suppose we want to find the best approximation with rank at least $k$."
   ]
  },
  {
   "cell_type": "markdown",
   "id": "efe8d6df",
   "metadata": {
    "slideshow": {
     "slide_type": "fragment"
    }
   },
   "source": [
    "Suppose we first compute $k$ vectors in the range of $A$ randomly,\n",
    "\n",
    "$$y^{(i)} = A \\omega^{(i)}, \\quad i = 1, 2, \\dots, k.$$"
   ]
  },
  {
   "cell_type": "markdown",
   "id": "6d501f8b",
   "metadata": {
    "slideshow": {
     "slide_type": "subslide"
    }
   },
   "source": [
    "If $A$ has exactly rank $k$, then with probability 1 the $y^{(i)}$ vectors span the range of $A$.  We can compute a QR factorization of the matrix $Y = [y^{(1)} | \\cdots | y^{(k)}]$ and be done."
   ]
  },
  {
   "cell_type": "markdown",
   "id": "0229f18f",
   "metadata": {
    "slideshow": {
     "slide_type": "subslide"
    }
   },
   "source": [
    "Now suppose $A$ has rank greater than $k$, so that\n",
    "\n",
    "$$\\large A  = \\underbrace{B}_{\\text{optimal part}} + \\underbrace{E}_{\\text{remainder}}$$\n",
    "\n",
    "What we want is a basis of $\\mathrm{range}(B)$."
   ]
  },
  {
   "cell_type": "markdown",
   "id": "a982352e",
   "metadata": {
    "slideshow": {
     "slide_type": "subslide"
    }
   },
   "source": [
    "If we only computed $k$ products,\n",
    "\n",
    "$$y^{(i)} = A \\omega^{(i)} = B \\omega^{(i)} + E \\omega^{(i)}, \\quad i = 1, 2, \\dots, k,$$\n",
    "\n",
    "\n",
    "The span of the $y^{(i)}$s will be at an angle to $\\mathrm{range}(B)$ because of the $E \\omega^{(i)}$ portions (which are orthogonal)."
   ]
  },
  {
   "cell_type": "markdown",
   "id": "ba8a3289",
   "metadata": {
    "slideshow": {
     "slide_type": "subslide"
    }
   },
   "source": [
    "But we are willing to use more than $k$ vectors if necessary.\n",
    "\n",
    "If we compute\n",
    "\n",
    "$$y^{(i)} = A \\omega^{(i)} = B \\omega^{(i)} + E \\omega^{(i)}, \\quad i = 1, 2, \\dots, k + p,$$\n",
    "\n",
    "Then the span of the $y^{(i)}$s comes closer to containing $\\mathrm{range}(B)$ the larger the _safety factor_ $p$ is."
   ]
  },
  {
   "cell_type": "markdown",
   "id": "84761594",
   "metadata": {
    "slideshow": {
     "slide_type": "subslide"
    }
   },
   "source": [
    "### Proto-algorithm\n",
    "\n",
    "Given a target rank $k$ and an over sampling parameter $p$,\n",
    "\n",
    "1. Draw a random $n \\times (k+p)$ test matrix $\\Omega$.\n",
    "\n",
    "2. Form the matrix product $Y = A \\Omega.$\n",
    "\n",
    "3. Construct a matrix $Q$ whose columns frm an orthonormal basis of the range of $Y$."
   ]
  },
  {
   "cell_type": "markdown",
   "id": "67c751da",
   "metadata": {
    "slideshow": {
     "slide_type": "subslide"
    }
   },
   "source": [
    "How big does the safety factor $p$ have to be for\n",
    "\n",
    "$$\\large P(\\|U_{1:k} - Q Q^* U_{1:k}\\|_2 < \\epsilon) \\approx 1?$$\n"
   ]
  },
  {
   "cell_type": "markdown",
   "id": "266ece1e",
   "metadata": {
    "slideshow": {
     "slide_type": "subslide"
    }
   },
   "source": [
    "### HMT Theorem 1.1\n",
    "\n",
    "If $\\Omega \\in \\mathbb{C}^{m \\times (k + p)}$ is a standard normal test matrix and $Q$ is an orthonormal basis of\n",
    "$Y = A \\Omega$, then\n",
    "\n",
    "$$\\large \\mathbb{E}\\left[\\|A - QQ^* A\\|\\right] \\leq \\left[1 + \\underbrace{\\frac{4\\sqrt{k+p}}{p-1} \\sqrt{\\min\\{m,n\\}}}_{\\text{suboptimality}} \\right] \\sigma_{k+1}$$"
   ]
  },
  {
   "cell_type": "markdown",
   "id": "5e9dac98",
   "metadata": {
    "slideshow": {
     "slide_type": "subslide"
    }
   },
   "source": [
    "### Corollary\n",
    "\n",
    "$$\\large P\\left(\\|A - QQ^* A\\| \\leq [1 + 9\\sqrt{k+p}\\sqrt{\\min\\{m,n\\}} ] \\sigma_{k+1}\\right) \\geq 1 - 3 p^{-p}$$"
   ]
  },
  {
   "cell_type": "code",
   "execution_count": 9,
   "id": "db4f55f3",
   "metadata": {},
   "outputs": [
    {
     "data": {
      "image/png": "[encoded data removed]"
     },
     "execution_count": 9,
     "metadata": {},
     "output_type": "execute_result"
    }
   ],
   "source": [
    "err = [3*p^(-Float64(p)) for p in 2:10]\n",
    "\n",
    "plot(2:10, err, yscale=:log10, xlabel=\"p\", st=:scatter, title=\"distance of probability from 1\")"
   ]
  },
  {
   "cell_type": "markdown",
   "id": "b51320a6",
   "metadata": {
    "slideshow": {
     "slide_type": "subslide"
    }
   },
   "source": [
    "This is the type of bound we can get with _one pass_ over $A$ (one matrix-matrix product of size $O(mn(k+p))$).\n",
    "\n",
    "If we are willing to make multiple passes, a _power iteration_, we can improve on these bounds."
   ]
  },
  {
   "cell_type": "markdown",
   "id": "553fa6e6",
   "metadata": {
    "slideshow": {
     "slide_type": "subslide"
    }
   },
   "source": [
    "### Power iteration proto-algorithm\n",
    "\n",
    "Given a target rank $k$ and an over sampling parameter $p$,\n",
    "\n",
    "1. Draw a random $n \\times (k+p)$ test matrix $\\Omega$.\n",
    "\n",
    "2. Form the matrix product $Y = (A^*A)^q A \\Omega.$\n",
    "\n",
    "3. Construct a matrix $Q$ whose columns form an orthonormal basis of the range of $Y$."
   ]
  },
  {
   "cell_type": "markdown",
   "id": "ce293a48",
   "metadata": {
    "slideshow": {
     "slide_type": "subslide"
    }
   },
   "source": [
    "### HMT Theorem 1.2\n",
    "\n",
    "If we choose $p = k$,\n",
    "\n",
    "$$\\large \\mathbb{E}\\left[\\|A - QQ^* A\\|\\right] \\leq \\left[1 + 4\\sqrt{\\frac{2 \\min\\{m,n\\}}{k-1}} \\right]^{1/(2q+1)} \\sigma_{k+1}$$"
   ]
  },
  {
   "cell_type": "markdown",
   "id": "75803d90",
   "metadata": {
    "slideshow": {
     "slide_type": "slide"
    }
   },
   "source": [
    "## Work complexity analysis"
   ]
  },
  {
   "cell_type": "markdown",
   "id": "63e05074",
   "metadata": {
    "slideshow": {
     "slide_type": "subslide"
    }
   },
   "source": [
    "### Work complexity analysis case I: $\\Omega$ a standard normal random matrix"
   ]
  },
  {
   "cell_type": "markdown",
   "id": "a864f9be",
   "metadata": {
    "slideshow": {
     "slide_type": "subslide"
    }
   },
   "source": [
    "### Work complexity analysis case II: $\\Omega$ a subsampled random FFT matrix (SRFT)"
   ]
  },
  {
   "cell_type": "markdown",
   "id": "23ce9313",
   "metadata": {
    "slideshow": {
     "slide_type": "slide"
    }
   },
   "source": [
    "## Breaking down the proof of theorem 1.1"
   ]
  },
  {
   "cell_type": "markdown",
   "id": "f52105e9",
   "metadata": {
    "slideshow": {
     "slide_type": "subslide"
    }
   },
   "source": [
    "### Part 1: The deterministic projection part"
   ]
  },
  {
   "cell_type": "markdown",
   "id": "b7734224",
   "metadata": {
    "slideshow": {
     "slide_type": "subslide"
    }
   },
   "source": [
    "### Part 2: The random matrix part"
   ]
  }
 ],
 "metadata": {
  "celltoolbar": "Slideshow",
  "hide_input": false,
  "kernelspec": {
   "display_name": "Julia 1.7.2",
   "language": "julia",
   "name": "julia-1.7"
  },
  "language_info": {
   "file_extension": ".jl",
   "mimetype": "application/julia",
   "name": "julia",
   "version": "1.7.2"
  }
 },
 "nbformat": 4,
 "nbformat_minor": 5
}
