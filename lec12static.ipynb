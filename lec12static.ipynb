{
 "cells": [
  {
   "cell_type": "code",
   "execution_count": 1,
   "id": "2bc1e293",
   "metadata": {},
   "outputs": [
    {
     "name": "stderr",
     "output_type": "stream",
     "text": [
      "\u001b[32m\u001b[1m    Updating\u001b[22m\u001b[39m registry at `~/.julia/registries/General.toml`\n",
      "\u001b[32m\u001b[1m   Resolving\u001b[22m\u001b[39m package versions...\n",
      "\u001b[32m\u001b[1m  No Changes\u001b[22m\u001b[39m to `~/srv/rep/22-course-cse6643/mybinder/Project.toml`\n",
      "\u001b[32m\u001b[1m  No Changes\u001b[22m\u001b[39m to `~/srv/rep/22-course-cse6643/mybinder/Manifest.toml`\n"
     ]
    },
    {
     "data": {
      "text/plain": [
       "LogLevel(1)"
      ]
     },
     "execution_count": 1,
     "metadata": {},
     "output_type": "execute_result"
    }
   ],
   "source": [
    "import Pkg; Pkg.add([\"Plots\"]);\n",
    "import Logging; Logging.disable_logging(Logging.Info)"
   ]
  },
  {
   "cell_type": "code",
   "execution_count": 2,
   "id": "a274d139",
   "metadata": {},
   "outputs": [],
   "source": [
    "const STATIC_LECTURE = true;"
   ]
  },
  {
   "cell_type": "code",
   "execution_count": 3,
   "id": "a0cef079",
   "metadata": {},
   "outputs": [
    {
     "data": {
      "application/vnd.webio.node+json": {
       "children": [],
       "instanceArgs": {
        "namespace": "html",
        "tag": "div"
       },
       "nodeType": "DOM",
       "props": {},
       "type": "node"
      },
      "text/html": [
       "<div style=\"padding: 1em; background-color: #f8d6da; border: 1px solid #f5c6cb; font-weight: bold;\">\n",
       "<p>The WebIO Jupyter extension was not detected. See the\n",
       "<a href=\"https://juliagizmos.github.io/WebIO.jl/latest/providers/ijulia/\" target=\"_blank\">\n",
       "    WebIO Jupyter integration documentation\n",
       "</a>\n",
       "for more information.\n",
       "</div>\n"
      ],
      "text/plain": [
       "WebIO._IJuliaInit()"
      ]
     },
     "metadata": {
      "application/vnd.webio.node+json": {
       "kernelId": "cef3af29-4223-4093-91b5-a3ce30226431"
      }
     },
     "output_type": "display_data"
    }
   ],
   "source": [
    "using LinearAlgebra;\n",
    "using Plots; plotlyjs(); default(l=5, size=(900,550), label=false);\n",
    "using Printf;\n",
    "using Polynomials;\n",
    "\n",
    "BLAS.set_num_threads(1)\n",
    "\n",
    "if STATIC_LECTURE\n",
    "    default(fmt=:png)\n",
    "end\n",
    "\n",
    "prettyprint(a) = map(x -> @sprintf(\"%+.2f\", x), v)\n",
    "\n",
    "function imshow(x; kwargs...)\n",
    "    return heatmap(x\n",
    "        , aspect_ratio=:equal\n",
    "        , framestyle=:none\n",
    "        , yflip=true\n",
    "        , c=:diverging_gwv_55_95_c39_n256\n",
    "        ; kwargs...\n",
    "    )\n",
    "end\n",
    "p = plot!([0,1],[0,1]);"
   ]
  },
  {
   "cell_type": "markdown",
   "id": "22a3dac4",
   "metadata": {},
   "source": [
    "### Warmup"
   ]
  },
  {
   "cell_type": "markdown",
   "id": "7a66ca7c",
   "metadata": {},
   "source": [
    "# Stability of Householder Triangularization & Back Substitution"
   ]
  },
  {
   "cell_type": "markdown",
   "id": "be196b03",
   "metadata": {
    "slideshow": {
     "slide_type": "slide"
    }
   },
   "source": [
    "## Review"
   ]
  },
  {
   "cell_type": "markdown",
   "id": "dea06816",
   "metadata": {
    "slideshow": {
     "slide_type": "subslide"
    }
   },
   "source": [
    "### Backward Error Analysis\n",
    "\n",
    "Forward relative error ...\n",
    "\n",
    "$$\n",
    "\\frac{\\|\\tilde{f}(x) - f(x)\\|}{\\|f(x)\\|}\n",
    "\\leq\n",
    "\\frac{\\|\\tilde{f}(x) - f(\\tilde x)\\|}{\\|f(x)\\|}\n",
    "+\n",
    "\\frac{\\|f(\\tilde{x}) - f(x)\\|}{\\|f(x)\\|}\n",
    "$$"
   ]
  },
  {
   "cell_type": "markdown",
   "id": "2b57c788",
   "metadata": {
    "slideshow": {
     "slide_type": "fragment"
    }
   },
   "source": [
    "$$\n",
    "\\leq\n",
    "\\frac{\\|\\tilde{f}(x) - f(\\tilde x)\\|}{\\|f(x)\\|}\n",
    "+\n",
    "(\\kappa(x) + o(1))\\frac{\\|\\tilde{x} - x\\|}{\\|x\\|}\n",
    "$$"
   ]
  },
  {
   "cell_type": "markdown",
   "id": "03e539a7",
   "metadata": {
    "slideshow": {
     "slide_type": "fragment"
    }
   },
   "source": [
    "$$\n",
    "\\underbrace{\\frac{\\|\\tilde{f}(x) - f(\\tilde x)\\|}{\\|f(x)\\|}}_{\\substack{O(\\epsilon_{\\text{machine}}) \\\\ \\text{if (backward) stable}}}\n",
    "+\n",
    "\\underbrace{(\\kappa(x) + o(1))}_{O(\\kappa(x))}\\underbrace{\\frac{\\|\\tilde{x} - x\\|}{\\|x\\|}}_{\\substack{O(\\epsilon_{\\text{machine}}) \\\\ \\text{if (backward) stable}}}\n",
    "= O(\\kappa(x) \\epsilon_{\\text{machine}})\n",
    "$$"
   ]
  },
  {
   "cell_type": "markdown",
   "id": "b61d656b",
   "metadata": {
    "slideshow": {
     "slide_type": "fragment"
    }
   },
   "source": [
    "... is bounded by the product of conditioning and backward relative error for stable algorithms"
   ]
  },
  {
   "cell_type": "markdown",
   "id": "5b9f1d3e",
   "metadata": {
    "slideshow": {
     "slide_type": "subslide"
    }
   },
   "source": [
    "### Review: forward and backward errors of Householder QR"
   ]
  },
  {
   "cell_type": "code",
   "execution_count": 4,
   "id": "dd46356f",
   "metadata": {
    "cell_style": "split",
    "hideCode": false
   },
   "outputs": [],
   "source": [
    "n_samples = 100; m_min = 10; m_max = 50\n",
    "\n",
    "conds = Float64[]; Q_errs = Float64[]\n",
    "R_rel_errs = Float64[]; A_rel_errs = Float64[]\n",
    "for i in 1:n_samples\n",
    "    # random size, Q, and R\n",
    "    m = rand(m_min:m_max)\n",
    "    R = triu(randn(m, m)); Q = qr(randn(m, m)).Q\n",
    "    # construct A\n",
    "    A = Q * R\n",
    "    # algorithm: Householder QR\n",
    "    Q2, R2 = qr(A)\n",
    "    # fix signs\n",
    "    signs = diagm(sign.(diag(R)).*sign.(diag(R2)))\n",
    "    Q2 = Q2 * signs; R2 = signs * R2\n",
    "    # compute errors \n",
    "    Q_err = norm(Q2 - Q)\n",
    "    R_rel_err = norm(R2 - R) / norm(R)\n",
    "    A_rel_err = norm(A - Q2 * R2) / norm(A)\n",
    "    push!(conds, cond(A))\n",
    "    push!(Q_errs, Q_err)\n",
    "    push!(R_rel_errs, R_rel_err)\n",
    "    push!(A_rel_errs, A_rel_err)\n",
    "end"
   ]
  },
  {
   "cell_type": "code",
   "execution_count": 5,
   "id": "de6497b2",
   "metadata": {
    "cell_style": "split",
    "hideCode": true
   },
   "outputs": [
    {
     "data": {
      "image/png": "[encoded data removed]"
     },
     "execution_count": 5,
     "metadata": {},
     "output_type": "execute_result"
    }
   ],
   "source": [
    "q = plot(conds, Q_errs\n",
    "    , st = :scatter\n",
    "    , title = \"||Q₂ - Q||\"\n",
    ")\n",
    "r = plot(conds, R_rel_errs\n",
    "    , st = :scatter\n",
    "    , title = \"||R₂ - R|| / ||R||\"\n",
    ")\n",
    "a = plot(conds, A_rel_errs\n",
    "    , st = :scatter\n",
    "    , title = \"||A - Q₂R₂|| / ||A||\"\n",
    "    , ylim = (1.e-17, 1.e0)\n",
    "    , xlabel = \"κ(A)\"\n",
    ")\n",
    "plot(q, r, a, layout=(3,1)\n",
    "    , scale = :log10\n",
    "\n",
    "    , size = (600,600)\n",
    ")"
   ]
  },
  {
   "cell_type": "markdown",
   "id": "c2bd7abc",
   "metadata": {
    "cell_style": "center",
    "slideshow": {
     "slide_type": "fragment"
    }
   },
   "source": [
    "- Small backward errors (stable), forward errors $\\propto \\kappa(A)$"
   ]
  },
  {
   "cell_type": "markdown",
   "id": "06af6c0a",
   "metadata": {
    "slideshow": {
     "slide_type": "subslide"
    }
   },
   "source": [
    "### T&B Theorem 16.1\n",
    "\n",
    "Let the QR factorization $A = QR$ of a matrix $A \\in \\mathbb{C}^{m \\times n}$ be computed by Householder triangularization on a computer satisfying the floating point axioms, and let the computed $\\tilde{Q}$ be\n",
    "\n",
    "$$\n",
    "\\tilde{Q} = \\tilde{Q}_1 \\tilde{Q}_2 \\dots \\tilde{Q}_n,\n",
    "$$\n",
    "\n",
    "where $\\tilde{Q}_k$ is the Householder reflector of the computed reflector $\\tilde{v}_k$.  Then\n",
    "\n",
    "$$\\tilde{Q}\\tilde{R} = A + \\delta A, \\quad \\frac{\\|\\delta A\\|}{\\|A\\|} = O(\\epsilon_{\\text{machine}}), \\quad \\text{[backward stability]}$$\n",
    "\n",
    "for some $\\delta A \\in \\mathbb{C}^{m \\times n}$."
   ]
  },
  {
   "cell_type": "markdown",
   "id": "f1641ea3",
   "metadata": {
    "slideshow": {
     "slide_type": "subslide"
    }
   },
   "source": [
    "### Details on $\\tilde{Q}_k$\n",
    "\n",
    "- In Householder QR the solution is not a computed $Q$, it is the Householder reflectors $v_k$ that define\n",
    "$Q_k$:\n",
    "\n",
    "$$Q = Q_1 Q_2 \\cdots Q_n.$$"
   ]
  },
  {
   "cell_type": "markdown",
   "id": "f682f11d",
   "metadata": {
    "slideshow": {
     "slide_type": "fragment"
    }
   },
   "source": [
    "- $\\tilde{Q}_k$ is the _exactly unitary_ matrix for the computed vector $\\tilde{v}_k$\n",
    "- so $\\tilde{Q}$ is _exactly unitary_, even though $\\tilde{Q} \\neq Q$ (as demonstrated in the experiment)"
   ]
  },
  {
   "cell_type": "markdown",
   "id": "5c526d29",
   "metadata": {
    "slideshow": {
     "slide_type": "slide"
    }
   },
   "source": [
    "## Analyzing Solving $Ax = b$ with Householder QR\n",
    "\n",
    "> QR factorization is generally not an end itself, but a means to other ends such as solution of a system of equations [...]"
   ]
  },
  {
   "cell_type": "markdown",
   "id": "16c64b72",
   "metadata": {
    "slideshow": {
     "slide_type": "fragment"
    }
   },
   "source": [
    "> Is its backward stability enough to make it a satisfactory piece of a larger algorithm? [...] or do we need accuracy of $Q$ and $R$ individually?"
   ]
  },
  {
   "cell_type": "markdown",
   "id": "45e96466",
   "metadata": {
    "slideshow": {
     "slide_type": "subslide"
    }
   },
   "source": [
    "### Solving $Ax = b$ with Householder QR"
   ]
  },
  {
   "cell_type": "code",
   "execution_count": 6,
   "id": "2fd3867c",
   "metadata": {
    "cell_style": "center"
   },
   "outputs": [],
   "source": [
    "function householder_solve(A, b)\n",
    "    Q, R = qr(A) # Factor A by Householder triangularization\n",
    "    y = Q' * b   # Compute Q* b by applying the reflectors in order\n",
    "    x = R \\ y    # Solve the triangular system R x = y by back substitution\n",
    "    return x\n",
    "end;"
   ]
  },
  {
   "cell_type": "markdown",
   "id": "87d9b13c",
   "metadata": {
    "slideshow": {
     "slide_type": "fragment"
    }
   },
   "source": [
    "**Backward stability of steps (takes as given for now):**"
   ]
  },
  {
   "cell_type": "markdown",
   "id": "3a545670",
   "metadata": {
    "cell_style": "split",
    "slideshow": {
     "slide_type": "fragment"
    }
   },
   "source": [
    "1. $\\tilde{Q}, \\tilde{R} \\gets QR(A)$: just stated as T&B Theorem 16.1"
   ]
  },
  {
   "cell_type": "markdown",
   "id": "9cfa400f",
   "metadata": {
    "cell_style": "split",
    "slideshow": {
     "slide_type": "fragment"
    }
   },
   "source": [
    "2. $\\tilde y \\gets \\tilde{Q}^* b$: yes (**HW 3 Q 6**, roughly)\n",
    "\n",
    "$$(\\tilde{Q} + \\delta Q) \\tilde y = b, \\quad \\|\\delta Q\\| = O(\\epsilon_{\\text{machine}})$$"
   ]
  },
  {
   "cell_type": "markdown",
   "id": "dce53db1",
   "metadata": {
    "slideshow": {
     "slide_type": "fragment"
    }
   },
   "source": [
    "3. $\\tilde x \\gets \\tilde{R}^{-1} \\tilde y$: yes (coming up next),\n",
    "\n",
    "$$(\\tilde R + \\delta R) \\tilde x = \\tilde y, \\quad \\frac{\\|\\delta R\\|}{\\|\\tilde R\\|} = O(\\epsilon_{\\text{machine}}).$$"
   ]
  },
  {
   "cell_type": "markdown",
   "id": "cda3c2e2",
   "metadata": {
    "slideshow": {
     "slide_type": "subslide"
    }
   },
   "source": [
    "### T&B Theorem 16.2.\n",
    "\n",
    "`householder_solve` is backwardstable, satisfying\n",
    "\n",
    "$$\n",
    "(A + \\Delta A) \\tilde x = b, \\quad \\frac{\\|\\Delta A\\|}{\\|A\\|} = O(\\epsilon_{\\text{machine}})\n",
    "$$\n",
    "\n",
    "for some $\\Delta A \\in \\mathbb{C}^{m \\times m}$."
   ]
  },
  {
   "cell_type": "markdown",
   "id": "e7fbac99",
   "metadata": {
    "cell_style": "center",
    "slideshow": {
     "slide_type": "subslide"
    }
   },
   "source": [
    "$$\n",
    "\\begin{aligned}\n",
    "A + \\delta A &= \\tilde Q \\tilde R &\\star\\\\\n",
    "(\\tilde Q + \\delta Q) \\tilde y &= b &\\clubsuit \\\\\n",
    "(\\tilde R + \\delta R) \\tilde x &= \\tilde y & \\spadesuit\n",
    "\\end{aligned}\n",
    "$$"
   ]
  },
  {
   "cell_type": "markdown",
   "id": "6bd5bc63",
   "metadata": {
    "cell_style": "center"
   },
   "source": [
    "_Proof._ "
   ]
  },
  {
   "cell_type": "markdown",
   "id": "d79b0bc1",
   "metadata": {
    "cell_style": "center",
    "slideshow": {
     "slide_type": "fragment"
    }
   },
   "source": [
    "Combine $\\clubsuit$, $\\spadesuit$:\n",
    "\n",
    "$$\n",
    "b = (\\tilde Q + \\delta Q)(\\tilde R + \\delta R) \\tilde x = [\\tilde Q \\tilde R + (\\delta Q) \\tilde R + \\tilde Q (\\delta R) + (\\delta Q)(\\delta R)]\\tilde x\n",
    "$$"
   ]
  },
  {
   "cell_type": "markdown",
   "id": "6f9b9636",
   "metadata": {
    "slideshow": {
     "slide_type": "fragment"
    }
   },
   "source": [
    "Apply $\\star$:\n",
    "\n",
    "$$\n",
    "b = [A + \\underbrace{\\delta A + (\\delta Q) \\tilde R + \\tilde Q (\\delta R) + (\\delta Q)(\\delta R)}_{\\Delta A}]\\tilde x\n",
    "$$"
   ]
  },
  {
   "cell_type": "markdown",
   "id": "52e63e0b",
   "metadata": {
    "slideshow": {
     "slide_type": "fragment"
    }
   },
   "source": [
    "We want $\\|\\Delta A\\| / \\|A\\| = O(\\epsilon_{\\text{machine}})$, will show each of the four terms is $O(\\epsilon_{\\text{machine}})$"
   ]
  },
  {
   "cell_type": "markdown",
   "id": "1b147251",
   "metadata": {
    "slideshow": {
     "slide_type": "subslide"
    }
   },
   "source": [
    "$$\\frac{\\|\\delta A\\|}{\\|A\\|} = O(\\epsilon_{\\text{machine}})\\quad[\\star]$$"
   ]
  },
  {
   "cell_type": "markdown",
   "id": "b26c9e91",
   "metadata": {
    "slideshow": {
     "slide_type": "fragment"
    }
   },
   "source": [
    "$$\n",
    "\\frac{\\|(\\delta Q) \\tilde R\\|}{\\|A\\|} \\leq\n",
    "\\|\\delta Q\\| \\frac{\\|\\tilde R\\|}{\\|A\\|} =\n",
    "\\|\\delta Q\\| \\frac{\\|\\tilde{Q}^*(A + \\delta A)\\|}{\\|A\\|}\n",
    "=\n",
    "\\underbrace{\\|\\delta Q\\|}_{O(\\epsilon_{\\text{machine}}) [\\clubsuit]} \\underbrace{\\frac{\\|A + \\delta A\\|}{\\|A\\|}}_{O(1)}\n",
    "= O(\\epsilon_{\\text{machine}})\n",
    "$$"
   ]
  },
  {
   "cell_type": "markdown",
   "id": "76faafd4",
   "metadata": {
    "slideshow": {
     "slide_type": "fragment"
    }
   },
   "source": [
    "$$\n",
    "\\frac{\\|\\tilde{Q}(\\delta R)\\|}{\\|A\\|} =\n",
    "\\frac{\\|\\delta R\\|}{\\|A\\|} = \\underbrace{\\frac{\\|\\delta R\\|}{\\|\\tilde R\\|}}_{O(\\epsilon_{\\text{machine}}) [\\spadesuit]}\\frac{\\|\\tilde R\\|}{\\|A\\|} =O(\\epsilon_{\\text{machine}})\n",
    "$$"
   ]
  },
  {
   "cell_type": "markdown",
   "id": "4caec2d3",
   "metadata": {
    "slideshow": {
     "slide_type": "fragment"
    }
   },
   "source": [
    "$$\\frac{\\|(\\delta Q)(\\delta R)\\|}{\\|A\\|} \\leq\n",
    "\\|(\\delta Q)\\|\\frac{\\|(\\delta R)\\|}{\\|A\\|} = O(\\epsilon_{\\text{machine}}^2)\n",
    "$$"
   ]
  },
  {
   "cell_type": "markdown",
   "id": "8231cfb9",
   "metadata": {
    "slideshow": {
     "slide_type": "subslide"
    }
   },
   "source": [
    "### Now applying our backward error analysis theorem"
   ]
  },
  {
   "cell_type": "markdown",
   "id": "e4a8313d",
   "metadata": {},
   "source": [
    "**T&B Theorem 16.3.** The computed solution $\\tilde{x}$ of `householder_solve` satisfies\n",
    "\n",
    "$$\\frac{\\|\\tilde x - x\\|}{\\|x\\|} = O(\\kappa(A) \\epsilon_{\\text{machine}}).$$"
   ]
  },
  {
   "cell_type": "markdown",
   "id": "9971f9da",
   "metadata": {
    "slideshow": {
     "slide_type": "slide"
    }
   },
   "source": [
    "## Stability of Back Substitution"
   ]
  },
  {
   "cell_type": "markdown",
   "id": "1a674bc0",
   "metadata": {
    "cell_style": "split"
   },
   "source": [
    "### Triangular Systems\n",
    "\n",
    "We wish to solve $Rx = b$,\n",
    "\n",
    "$$\n",
    "\\begin{bmatrix}\n",
    "r_{11} & r_{12} & \\cdots & r_{1m} \\\\\n",
    "       & r_{22} &        & \\vdots \\\\\n",
    "       &        & \\ddots & \\vdots \\\\\n",
    "       &        &        & r_{mm}\n",
    "\\end{bmatrix}\n",
    "\\begin{bmatrix}\n",
    "x_1 \\\\ x_2 \\\\ \\vdots \\\\ x_m\n",
    "\\end{bmatrix}\n",
    "=\n",
    "\\begin{bmatrix}\n",
    "b_1 \\\\ b_2 \\\\ \\vdots \\\\ b_m\n",
    "\\end{bmatrix}\n",
    "$$"
   ]
  },
  {
   "cell_type": "markdown",
   "id": "8dec30bb",
   "metadata": {
    "cell_style": "split"
   },
   "source": [
    "Subproblem of:\n",
    "\n",
    "- Solving $Ax = b$ / least squares by QR\n",
    "- Solving $Ax = b$ by LU (Gaussian elimination)\n",
    "- Solving $Ax = b$ by Cholesky"
   ]
  },
  {
   "cell_type": "code",
   "execution_count": 7,
   "id": "959fa643",
   "metadata": {
    "cell_style": "split",
    "slideshow": {
     "slide_type": "subslide"
    }
   },
   "outputs": [],
   "source": [
    "function backsubstitution(R, b)\n",
    "    m = length(b)\n",
    "    x = copy(b)\n",
    "    for j = m:-1:1\n",
    "        x[j] /= R[j,j]\n",
    "        for i = 1:j-1\n",
    "            x[i] -= R[i,j] * x[j]\n",
    "        end\n",
    "    end\n",
    "    return x\n",
    "end;"
   ]
  },
  {
   "cell_type": "code",
   "execution_count": 8,
   "id": "3a9f1e60",
   "metadata": {
    "cell_style": "split",
    "slideshow": {
     "slide_type": "-"
    }
   },
   "outputs": [],
   "source": [
    "function backsubstitution_vec(R, b)\n",
    "    m = length(b)\n",
    "    x = copy(b)\n",
    "    for j = m:-1:1\n",
    "        x[j] /= R[j,j]\n",
    "        x[1:j-1] -= R[1:j-1,j] * x[j]\n",
    "    end\n",
    "    return x\n",
    "end;"
   ]
  },
  {
   "cell_type": "markdown",
   "id": "14171157",
   "metadata": {},
   "source": [
    "These two algorithms are floating-point identical.  They differ from backslash only in the order of subtractions:"
   ]
  },
  {
   "cell_type": "code",
   "execution_count": 9,
   "id": "c0a64301",
   "metadata": {},
   "outputs": [
    {
     "data": {
      "text/plain": [
       "4.761811772240387e-16"
      ]
     },
     "metadata": {},
     "output_type": "display_data"
    },
    {
     "data": {
      "text/plain": [
       "4.761811772240387e-16"
      ]
     },
     "metadata": {},
     "output_type": "display_data"
    }
   ],
   "source": [
    "m = 100;\n",
    "R = qr(randn(m,m)).R\n",
    "\n",
    "b = randn(m)\n",
    "x_backslash = R \\ b\n",
    "x_backsub = backsubstitution(R, b)\n",
    "x_backsubv = backsubstitution_vec(R, b)\n",
    "display(norm(x_backslash - x_backsub) / norm(x_backslash))\n",
    "display(norm(x_backslash - x_backsubv) / norm(x_backslash))"
   ]
  },
  {
   "cell_type": "markdown",
   "id": "41ed9194",
   "metadata": {
    "slideshow": {
     "slide_type": "subslide"
    }
   },
   "source": [
    "### T&B Theorem 17.1.\n",
    "\n",
    "Suppose $b = \\mathrm{fl}(b)$ and $R = \\mathrm{fl}(R)$.  `backsubstitution` is backward stable:\n",
    "\n",
    "$$(R + \\delta R) \\tilde x = b$$\n",
    "\n",
    "for some upper-triangular $\\delta R$ with\n",
    "\n",
    "$$\\frac{\\|\\delta R\\|}{\\|R\\|} = O( \\epsilon_{\\text{machine}} ).$$\n",
    "\n",
    "Elementwise,\n",
    "\n",
    "$$\n",
    "\\frac{|\\delta r_{ij}|}{|r_{ij}|} \\leq m \\epsilon_{\\text{machine}} + O(\\epsilon^2).\n",
    "$$"
   ]
  },
  {
   "cell_type": "markdown",
   "id": "290a5d9b",
   "metadata": {
    "slideshow": {
     "slide_type": "subslide"
    }
   },
   "source": [
    "### Exercise\n",
    "\n",
    "What does this theorem imply about $\\|\\tilde x - x\\| / \\|x\\|$?"
   ]
  },
  {
   "cell_type": "code",
   "execution_count": 10,
   "id": "af497e48",
   "metadata": {
    "cell_style": "split",
    "hideCode": false
   },
   "outputs": [],
   "source": [
    "n_samples = 100; m_min = 10; m_max = 50\n",
    "\n",
    "conds = Float64[]; \n",
    "x_rel_errs = Float64[]; b_rel_errs = Float64[]\n",
    "for i in 1:n_samples\n",
    "    # random size, R, and x\n",
    "    m = rand(m_min:m_max)\n",
    "    # construct b\n",
    "    # algorithm: backsubstitution\n",
    "    # compute errors \n",
    "    push!(conds, cond(R))\n",
    "end"
   ]
  },
  {
   "cell_type": "code",
   "execution_count": 11,
   "id": "1150e005",
   "metadata": {
    "cell_style": "split",
    "hideCode": true
   },
   "outputs": [
    {
     "name": "stderr",
     "output_type": "stream",
     "text": [
      "┌ Warning: No strict ticks found\n",
      "└ @ PlotUtils /home/tisaac/.julia/packages/PlotUtils/xekml/src/ticks.jl:333\n"
     ]
    },
    {
     "ename": "BoundsError",
     "evalue": "BoundsError: attempt to access 0-element Vector{Float64} at index [1:100]",
     "output_type": "error",
     "traceback": [
      "BoundsError: attempt to access 0-element Vector{Float64} at index [1:100]",
      "",
      "Stacktrace:",
      "  [1] throw_boundserror(A::Vector{Float64}, I::Tuple{UnitRange{Int64}})",
      "    @ Base ./abstractarray.jl:691",
      "  [2] checkbounds",
      "    @ ./abstractarray.jl:656 [inlined]",
      "  [3] getindex(A::Vector{Float64}, I::UnitRange{Int64})",
      "    @ Base ./array.jl:867",
      "  [4] plotly_series_segments(series::Plots.Series, plotattributes_base::Dict{Symbol, Any}, x::Vector{Float64}, y::Vector{Float64}, z::Nothing, clims::Tuple{Float64, Float64})",
      "    @ Plots ~/.julia/packages/Plots/Xv2qA/src/backends/plotly.jl:873",
      "  [5] plotly_series(plt::Plots.Plot{Plots.PlotlyJSBackend}, series::Plots.Series)",
      "    @ Plots ~/.julia/packages/Plots/Xv2qA/src/backends/plotly.jl:606",
      "  [6] #369",
      "    @ ./none:0 [inlined]",
      "  [7] MappingRF",
      "    @ ./reduce.jl:95 [inlined]",
      "  [8] _foldl_impl(op::Base.MappingRF{Plots.var\"#369#370\"{Plots.Plot{Plots.PlotlyJSBackend}}, Base.BottomRF{typeof(vcat)}}, init::Base._InitialValue, itr::Vector{Plots.Series})",
      "    @ Base ./reduce.jl:58",
      "  [9] foldl_impl",
      "    @ ./reduce.jl:48 [inlined]",
      " [10] mapfoldl_impl",
      "    @ ./reduce.jl:44 [inlined]",
      " [11] #mapfoldl#244",
      "    @ ./reduce.jl:162 [inlined]",
      " [12] mapfoldl",
      "    @ ./reduce.jl:162 [inlined]",
      " [13] #mapreduce#248",
      "    @ ./reduce.jl:289 [inlined]",
      " [14] mapreduce",
      "    @ ./reduce.jl:289 [inlined]",
      " [15] #reduce#250",
      "    @ ./reduce.jl:458 [inlined]",
      " [16] reduce",
      "    @ ./reduce.jl:458 [inlined]",
      " [17] plotly_series",
      "    @ ~/.julia/packages/Plots/Xv2qA/src/backends/plotly.jl:1034 [inlined]",
      " [18] plotlyjs_syncplot(plt::Plots.Plot{Plots.PlotlyJSBackend})",
      "    @ Plots ~/.julia/packages/Plots/Xv2qA/src/backends/plotlyjs.jl:9",
      " [19] _show(io::Base64.Base64EncodePipe, #unused#::MIME{Symbol(\"image/png\")}, plt::Plots.Plot{Plots.PlotlyJSBackend})",
      "    @ Plots ~/.julia/packages/Plots/Xv2qA/src/backends/plotlyjs.jl:29",
      " [20] show(io::Base64.Base64EncodePipe, m::MIME{Symbol(\"image/png\")}, plt::Plots.Plot{Plots.PlotlyJSBackend})",
      "    @ Plots ~/.julia/packages/Plots/Xv2qA/src/output.jl:214",
      " [21] base64encode(::Function, ::MIME{Symbol(\"image/png\")}, ::Vararg{Any}; context::Nothing)",
      "    @ Base64 ~/srv/rep/julia/usr/share/julia/stdlib/v1.7/Base64/src/encode.jl:209",
      " [22] base64encode",
      "    @ ~/srv/rep/julia/usr/share/julia/stdlib/v1.7/Base64/src/encode.jl:206 [inlined]",
      " [23] _ijulia_display_dict(plt::Plots.Plot{Plots.PlotlyJSBackend})",
      "    @ Plots ~/.julia/packages/Plots/Xv2qA/src/ijulia.jl:44",
      " [24] display_dict(plt::Plots.Plot{Plots.PlotlyJSBackend})",
      "    @ Plots ~/.julia/packages/Plots/Xv2qA/src/init.jl:92",
      " [25] #invokelatest#2",
      "    @ ./essentials.jl:716 [inlined]",
      " [26] invokelatest",
      "    @ ./essentials.jl:714 [inlined]",
      " [27] execute_request(socket::ZMQ.Socket, msg::IJulia.Msg)",
      "    @ IJulia ~/.julia/packages/IJulia/e8kqU/src/execute_request.jl:112",
      " [28] #invokelatest#2",
      "    @ ./essentials.jl:716 [inlined]",
      " [29] invokelatest",
      "    @ ./essentials.jl:714 [inlined]",
      " [30] eventloop(socket::ZMQ.Socket)",
      "    @ IJulia ~/.julia/packages/IJulia/e8kqU/src/eventloop.jl:8",
      " [31] (::IJulia.var\"#15#18\")()",
      "    @ IJulia ./task.jl:423"
     ]
    }
   ],
   "source": [
    "x = plot(conds, x_rel_errs\n",
    "    , st = :scatter\n",
    "    , title = \"||x₂ - x|| / ||x||\"\n",
    ")\n",
    "b = plot(conds, b_rel_errs\n",
    "    , st = :scatter\n",
    "    , title = \"||b - R x₂|| / ||R||\"\n",
    "    , ylim = (1.e-17, 1.e0)\n",
    "    , xlabel = \"κ(A)\"\n",
    ")\n",
    "plot(x, b, layout=(2,1)\n",
    "    , scale = :log10\n",
    "\n",
    "    , size = (600,600)\n",
    ")"
   ]
  },
  {
   "cell_type": "markdown",
   "id": "13813587",
   "metadata": {
    "slideshow": {
     "slide_type": "subslide"
    }
   },
   "source": [
    "Remember we are trying to prove $(R + \\delta R)\\tilde x = b$: accumulate backward errors into $\\tilde{R}$"
   ]
  },
  {
   "cell_type": "markdown",
   "id": "ab61e6b5",
   "metadata": {
    "slideshow": {
     "slide_type": "subslide"
    }
   },
   "source": [
    "### A useful lemma (Higham)\n",
    "\n",
    "If $|\\epsilon_i| \\leq \\epsilon_{\\text{machine}}$ for each $i$ and $\\rho_i = \\pm 1$, then\n",
    "\n",
    "$$\n",
    "\\prod_{i=1}^n (1 + \\epsilon_i)^{\\rho_i} = (1 + \\theta_n), \\quad |\\theta_n| \\leq \\frac{n\\epsilon_{\\text{machine}}}{1 - n\\epsilon_{\\text{machine}}} =: \\gamma_n = n \\epsilon_{\\text{machine}} + O(\\epsilon_{\\text{machine}}^2).\n",
    "$$\n",
    "\n",
    "We can treat $(1 + \\epsilon_i)^{-1}$ and $(1 + \\epsilon)$ the same!"
   ]
  },
  {
   "cell_type": "markdown",
   "id": "f92ef02b",
   "metadata": {
    "slideshow": {
     "slide_type": "fragment"
    }
   },
   "source": [
    "If $\\theta_n$ appears twice in the same expression, such as $x(1 + \\theta_n) + y(1 + \\theta_n)$, each one represents a different accumulated error."
   ]
  },
  {
   "cell_type": "markdown",
   "id": "f5d8db89",
   "metadata": {
    "slideshow": {
     "slide_type": "subslide"
    }
   },
   "source": [
    "## $m = 1$"
   ]
  },
  {
   "cell_type": "markdown",
   "id": "baccb2a9",
   "metadata": {},
   "source": [
    "$$\\tilde{x}_1 \\gets b_1 \\bigcirc\\!\\!\\!\\!\\!\\!\\div\\ \\ r_{11}$$"
   ]
  },
  {
   "cell_type": "markdown",
   "id": "7a13f633",
   "metadata": {
    "slideshow": {
     "slide_type": "fragment"
    }
   },
   "source": [
    "By floating point axiom,\n",
    "\n",
    "$$\\tilde x_1 = (b_1 / r_{11})(1 + \\epsilon_1) = b_1 / (r_{11}(1 + \\epsilon_1)^{-1})$$"
   ]
  },
  {
   "cell_type": "markdown",
   "id": "05c1a2dc",
   "metadata": {
    "slideshow": {
     "slide_type": "fragment"
    }
   },
   "source": [
    "By our useful lemma,\n",
    "\n",
    "$$\\tilde{x}_1 = b_1 / (r_{11}(1 + \\theta_1)) \\Rightarrow (r_{11} + \\theta_1 r_{11}) \\tilde{x}_1 = b_1.$$"
   ]
  },
  {
   "cell_type": "markdown",
   "id": "14405037",
   "metadata": {
    "slideshow": {
     "slide_type": "fragment"
    }
   },
   "source": [
    "$$\\frac{|\\theta_1 r_{11}|}{|r_{11}|} = |\\theta_1| \\leq \\gamma_1 = \\epsilon_{\\text{machine}} + O(\\epsilon_{\\text{machine}}^2).$$"
   ]
  },
  {
   "cell_type": "markdown",
   "id": "d88bff05",
   "metadata": {
    "slideshow": {
     "slide_type": "subslide"
    }
   },
   "source": [
    "### $m = 2$\n",
    "\n",
    "The prevous case is now used in row 2,\n",
    "\n",
    "$$\n",
    "\\tilde{x}_2 = b_2 / (r_{22}(1 + \\theta_1))\n",
    "$$"
   ]
  },
  {
   "cell_type": "markdown",
   "id": "52b9e136",
   "metadata": {
    "slideshow": {
     "slide_type": "fragment"
    }
   },
   "source": [
    "The next step:\n",
    "\n",
    "$$\\tilde{x}_1 = (b_{1} \\bigcirc\\!\\!\\!\\!\\!\\!\\!-\\ \\ (\\tilde{x}_2 \\otimes r_{12})) \\bigcirc\\!\\!\\!\\!\\!\\!\\div\\ \\ r_{11}$$"
   ]
  },
  {
   "cell_type": "markdown",
   "id": "b6633e48",
   "metadata": {
    "slideshow": {
     "slide_type": "fragment"
    }
   },
   "source": [
    "$$\\tilde{x}_2 \\otimes r_{12} = \\tilde{x}_2 r_{12} (1 + \\epsilon_2)$$"
   ]
  },
  {
   "cell_type": "markdown",
   "id": "a5bb539c",
   "metadata": {
    "slideshow": {
     "slide_type": "fragment"
    }
   },
   "source": [
    "$$b_1 \\bigcirc\\!\\!\\!\\!\\!\\!\\!-\\ \\ \\tilde{x}_2 r_{12}(1 + \\epsilon_2) =\n",
    "(b_1 - \\tilde{x}_2 r_{12}(1 + \\epsilon_2))(1 + \\epsilon_3)$$"
   ]
  },
  {
   "cell_type": "markdown",
   "id": "cf1e0426",
   "metadata": {
    "slideshow": {
     "slide_type": "subslide"
    }
   },
   "source": [
    "$$b_1 \\bigcirc\\!\\!\\!\\!\\!\\!\\!-\\ \\ \\tilde{x}_2 r_{12}(1 + \\epsilon_2) =\n",
    "(b_1 - \\tilde{x}_2 r_{12}(1 + \\epsilon_2))(1 + \\epsilon_3)$$"
   ]
  },
  {
   "cell_type": "markdown",
   "id": "9b504b23",
   "metadata": {
    "slideshow": {
     "slide_type": "fragment"
    }
   },
   "source": [
    "$$\n",
    "\\begin{aligned}\n",
    "(b_1 - \\tilde{x}_2 r_{12}(1 + \\epsilon_2))(1 + \\epsilon_3) \\bigcirc\\!\\!\\!\\!\\!\\!\\div\\ \\ r_{11}\n",
    "&= \\frac{(b_1 - \\tilde{x}_2 r_{12}(1 + \\epsilon_2))}{r_{11}}(1 + \\epsilon_3)(1 + \\epsilon_4)\\\\ &=\n",
    "\\frac{(b_1 - \\tilde{x}_2 r_{12}(1 + \\epsilon_2))}{r_{11}(1 + \\theta_2)}\n",
    "\\end{aligned}$$"
   ]
  },
  {
   "cell_type": "markdown",
   "id": "5f4a7569",
   "metadata": {
    "slideshow": {
     "slide_type": "fragment"
    }
   },
   "source": [
    "$$\n",
    "\\begin{aligned}\n",
    "\\Rightarrow r_{11}(1 + \\theta_2)\\tilde{x}_1 + r_{12}(1 + \\epsilon_2)\\tilde x_2 &= b_1 \\\\\n",
    "r_{22}(1 + \\theta_1) \\tilde{x}_2 &= b_2.\n",
    "\\end{aligned}\n",
    "$$"
   ]
  },
  {
   "cell_type": "markdown",
   "id": "5f4c65e8",
   "metadata": {
    "slideshow": {
     "slide_type": "fragment"
    }
   },
   "source": [
    "$$\n",
    "[R \\odot (I + \\Theta_2)] \\tilde x = b,\n",
    "$$\n",
    "\n",
    "- $\\odot$ Hadamard (pointwise) product of matrices\n",
    "- $\\Theta_k$ upper triangular $k \\times k$ matrix whose entries are $\\theta_k$"
   ]
  },
  {
   "cell_type": "markdown",
   "id": "4893d3ae",
   "metadata": {
    "slideshow": {
     "slide_type": "subslide"
    }
   },
   "source": [
    "### $m = 3, \\dots$\n",
    "\n",
    "$$\\tilde{x}_1 = (\\cdots ((b_{1} \\bigcirc\\!\\!\\!\\!\\!\\!\\!-\\ \\ (\\tilde{x}_m \\otimes r_{1m})) \\bigcirc\\!\\!\\!\\!\\!\\!\\!-\\ \\ (\\tilde{x}_{m-1} \\otimes r_{1{m-1}})) \\bigcirc\\!\\!\\!\\!\\!\\!\\!-\\ \\ \\cdots \\bigcirc\\!\\!\\!\\!\\!\\!\\!-\\ \\ (\\tilde{x}_2 \\otimes r_{12})) \\bigcirc\\!\\!\\!\\!\\!\\!\\div\\ \\ r_{11}$$\n",
    "\n",
    "(our `backsubstitution` does the updates in the opposite order of the book)"
   ]
  },
  {
   "cell_type": "markdown",
   "id": "7e589052",
   "metadata": {
    "slideshow": {
     "slide_type": "fragment"
    }
   },
   "source": [
    "What we had in the top row of the $m=2$ case can generalize like\n",
    "\n",
    "$$\n",
    "\\begin{aligned}\n",
    "\\tilde{x}_1 &= \\left([b_1 - \\{r_{1,3:m} \\odot (1 + \\vec{\\theta}_{m-2})\\} \\cdot\\tilde{x}_{3:m}] (1 + \\theta_{m-2}) \\bigcirc\\!\\!\\!\\!\\!\\!\\!-\\ \\ (r_2 (1 + \\epsilon_1)) \\cdot \\tilde x_2\\right) \\bigcirc\\!\\!\\!\\!\\!\\!\\div\\ \\ r_{11}\n",
    "\\\\\n",
    "&= \\frac{\\left([b_1 - \\{r_{1,3:m} \\odot (1 + \\vec{\\theta}_{m-2})\\} \\cdot\\tilde{x}_{3:m}] (1 + \\theta_{m-2}) - (r_2 (1 + \\epsilon_2)) \\cdot \\tilde x_2\\right)}{r_{11}(1 + \\theta_2)}\n",
    "\\end{aligned}\n",
    "$$\n",
    "\n",
    "where $\\vec{\\theta}_{m-2}$ is a vector with $\\theta_{m-2}$ entries"
   ]
  },
  {
   "cell_type": "markdown",
   "id": "41caa9c7",
   "metadata": {
    "slideshow": {
     "slide_type": "fragment"
    }
   },
   "source": [
    "we want to sneak that $(1 + \\epsilon_1)$ term out so that it doesn't perturb $b_1$"
   ]
  },
  {
   "cell_type": "markdown",
   "id": "7539eb6e",
   "metadata": {
    "slideshow": {
     "slide_type": "subslide"
    }
   },
   "source": [
    "Divide the top and the bottom by $(1 + \\theta_{m-2})$, combining $(1 + \\theta_{m-2})^{-1}(1 + \\epsilon_2)$\n",
    "into $(1 + \\theta_{m-1})$:\n",
    "\n",
    "$$\n",
    "\\begin{aligned}\n",
    "\\tilde{x}_1 \n",
    "&= \\frac{\\left([b_1 - \\{r_{1,3:m} \\odot (1 + \\vec{\\theta}_{m-2})\\} \\cdot\\tilde{x}_{3:m}] - (r_2 (1 + \\theta_{m-1})) \\cdot \\tilde x_2\\right)}{r_{11}(1 + \\theta_m)}\n",
    "\\\\\n",
    "&= \\frac{\\left(b_1 - \\{r_{1,3:m} \\odot (1 + \\vec{\\theta}_{m-2})\\} \\cdot\\tilde{x}_{3:m} - (r_2 (1 + \\theta_{m-1})) \\cdot \\tilde x_2\\right)}{r_{11}(1 + \\theta_m)}\n",
    "\\\\\n",
    "&= \\frac{\\left(b_1 - \\{r_{1,2:m} \\odot (1 + \\vec{\\theta}_{m-1})\\} \\cdot\\tilde{x}_{2:m}\\right)}{r_{11}(1 + \\theta_m)}\n",
    "\\end{aligned}\n",
    "$$"
   ]
  },
  {
   "cell_type": "markdown",
   "id": "bc361917",
   "metadata": {
    "slideshow": {
     "slide_type": "fragment"
    }
   },
   "source": [
    "This matches the inductive case and gives us the backward error form\n",
    "\n",
    "$$\n",
    "[R \\odot (I + \\Theta_m)] \\tilde x = b,\n",
    "$$"
   ]
  }
 ],
 "metadata": {
  "@webio": {
   "lastCommId": "e5f5d1ec44474635b983322e97c3b7f6",
   "lastKernelId": "cef3af29-4223-4093-91b5-a3ce30226431"
  },
  "celltoolbar": "Slideshow",
  "hide_input": false,
  "kernelspec": {
   "display_name": "Julia 1.7.0",
   "language": "julia",
   "name": "julia-1.7"
  },
  "language_info": {
   "file_extension": ".jl",
   "mimetype": "application/julia",
   "name": "julia",
   "version": "1.7.0"
  }
 },
 "nbformat": 4,
 "nbformat_minor": 5
}
