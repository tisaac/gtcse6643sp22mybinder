{
 "cells": [
  {
   "cell_type": "code",
   "execution_count": 1,
   "id": "104e846d",
   "metadata": {},
   "outputs": [
    {
     "name": "stderr",
     "output_type": "stream",
     "text": [
      "\u001b[32m\u001b[1m    Updating\u001b[22m\u001b[39m registry at `~/.julia/registries/General.toml`\n",
      "\u001b[32m\u001b[1m   Resolving\u001b[22m\u001b[39m package versions...\n",
      "\u001b[32m\u001b[1m  No Changes\u001b[22m\u001b[39m to `~/srv/rep/22-course-cse6643/mybinder/Project.toml`\n",
      "\u001b[32m\u001b[1m  No Changes\u001b[22m\u001b[39m to `~/srv/rep/22-course-cse6643/mybinder/Manifest.toml`\n"
     ]
    }
   ],
   "source": [
    "import Pkg; Pkg.add([\"QuadGK\", \"Plots\"]);\n",
    "using LinearAlgebra;\n",
    "using Plots;default(l=2, size=(900,550), label=false);"
   ]
  },
  {
   "cell_type": "markdown",
   "id": "554af06a",
   "metadata": {
    "slideshow": {
     "slide_type": "slide"
    }
   },
   "source": [
    "# Gram-Schmidt Orthogonalization on Vectors that are Functions"
   ]
  },
  {
   "cell_type": "markdown",
   "id": "926caca0",
   "metadata": {
    "hidePrompt": false,
    "slideshow": {
     "slide_type": "slide"
    }
   },
   "source": [
    "## The inputs / outputs to our implementations of QR factorization have been matrices"
   ]
  },
  {
   "cell_type": "markdown",
   "id": "ce955445",
   "metadata": {},
   "source": [
    "Like this implementation of modified Gram-Schmidt:"
   ]
  },
  {
   "cell_type": "code",
   "execution_count": 2,
   "id": "f27524ca",
   "metadata": {},
   "outputs": [
    {
     "data": {
      "text/plain": [
       "mgs (generic function with 1 method)"
      ]
     },
     "execution_count": 2,
     "metadata": {},
     "output_type": "execute_result"
    }
   ],
   "source": [
    "function mgs(A)\n",
    "    _, n = size(A)\n",
    "    Q = copy(A)\n",
    "    R = zeros(eltype(A), n, n)\n",
    "    for i in 1:n\n",
    "        R[i,i] = norm(Q[:,i])\n",
    "        Q[:,i] /= R[i,i]\n",
    "        R[i,i+1:n] = Q[:,i]' * Q[:,i+1:n]\n",
    "        Q[:,i+1:n] -= Q[:,[i]] * R[[i],i+1:n]\n",
    "    end \n",
    "    return Q, R\n",
    "end"
   ]
  },
  {
   "cell_type": "markdown",
   "id": "4a945e05",
   "metadata": {
    "slideshow": {
     "slide_type": "subslide"
    }
   },
   "source": [
    "## But $A$ and $Q$ can be treated as arrays of column vectors"
   ]
  },
  {
   "cell_type": "markdown",
   "id": "e6cdecd2",
   "metadata": {},
   "source": [
    "Like this implementation of modified Gram-Schmidt:"
   ]
  },
  {
   "cell_type": "code",
   "execution_count": 3,
   "id": "289aa10c",
   "metadata": {},
   "outputs": [
    {
     "data": {
      "text/plain": [
       "mgs_vectors (generic function with 1 method)"
      ]
     },
     "execution_count": 3,
     "metadata": {},
     "output_type": "execute_result"
    }
   ],
   "source": [
    "function mgs_vectors(A::Array{V,1}) where V # V is the type of the column vector\n",
    "    n = length(A) # the number of vectors\n",
    "    Q = collect(copy.(A)) # copy all of the individual vectors\n",
    "    R = zeros(eltype(V), n, n) \n",
    "    for i in 1:n\n",
    "        R[i,i] = sqrt(dot(Q[i], Q[i])) # definition of norm(Q[i])\n",
    "        Q[i] /= R[i,i]\n",
    "        for j in i+1:n\n",
    "            R[i,j] = dot(Q[i], Q[j])\n",
    "            Q[j] -= Q[i] * R[i,j]\n",
    "        end\n",
    "    end\n",
    "    return Q, R\n",
    "end"
   ]
  },
  {
   "cell_type": "markdown",
   "id": "d5e99c91",
   "metadata": {
    "slideshow": {
     "slide_type": "subslide"
    }
   },
   "source": [
    "### A demonstration that these are the same algorithm"
   ]
  },
  {
   "cell_type": "code",
   "execution_count": 4,
   "id": "ff8b71d4",
   "metadata": {},
   "outputs": [],
   "source": [
    "m = 6; n = 4;\n",
    "A = randn(4,4);\n",
    "A_vecs = collect(A[:,i] for i in 1:n);"
   ]
  },
  {
   "cell_type": "code",
   "execution_count": 5,
   "id": "3ce55b54",
   "metadata": {
    "cell_style": "split"
   },
   "outputs": [],
   "source": [
    "Q, R = mgs(A);"
   ]
  },
  {
   "cell_type": "code",
   "execution_count": 6,
   "id": "eb56a9e2",
   "metadata": {
    "cell_style": "split"
   },
   "outputs": [],
   "source": [
    "Q_vecs, R_vecs = mgs_vectors(A_vecs);"
   ]
  },
  {
   "cell_type": "code",
   "execution_count": 7,
   "id": "a2ea0576",
   "metadata": {
    "cell_style": "split"
   },
   "outputs": [
    {
     "data": {
      "text/plain": [
       "2.9893669801409083e-16"
      ]
     },
     "execution_count": 7,
     "metadata": {},
     "output_type": "execute_result"
    }
   ],
   "source": [
    "norm(R - R_vecs)"
   ]
  },
  {
   "cell_type": "code",
   "execution_count": 8,
   "id": "d25e82fe",
   "metadata": {
    "cell_style": "split",
    "scrolled": true
   },
   "outputs": [
    {
     "data": {
      "text/plain": [
       "1.7554167342883506e-16"
      ]
     },
     "execution_count": 8,
     "metadata": {},
     "output_type": "execute_result"
    }
   ],
   "source": [
    "maximum(norm(Q[:,i] - Q_vecs[i]) for i in 1:n)"
   ]
  },
  {
   "cell_type": "markdown",
   "id": "1d43fb58",
   "metadata": {
    "slideshow": {
     "slide_type": "subslide"
    }
   },
   "source": [
    "## What does `mgs_vectors` need the type `V` to provide? What doesn't it need?"
   ]
  },
  {
   "cell_type": "markdown",
   "id": "bfa20587",
   "metadata": {
    "cell_style": "split"
   },
   "source": [
    "**Does need:**\n",
    "\n",
    "1. number type `eltype(V)`\n",
    "2. vector addition `v + w`\n",
    "3. vector scaling `a * v`\n",
    "4. inner product `dot(v, w)`"
   ]
  },
  {
   "cell_type": "markdown",
   "id": "bac04aa3",
   "metadata": {
    "cell_style": "split"
   },
   "source": [
    "**Does not need:**\n",
    "\n",
    "1. The dimension of the space `length(v)`\n",
    "2. Access to individual coefficients `v[i]`"
   ]
  },
  {
   "cell_type": "markdown",
   "id": "8408c934",
   "metadata": {},
   "source": [
    "- The things it _does need_ describe a vector space with an inner product.\n",
    "- The things it _does not need_ are specific to $\\mathbb{C}^m$ or $\\mathbb{R}^m$."
   ]
  },
  {
   "cell_type": "markdown",
   "id": "7f63529a",
   "metadata": {
    "slideshow": {
     "slide_type": "subslide"
    }
   },
   "source": [
    "## Recall that functions on an interval form a vector space\n",
    "\n",
    "- We mentioned this in a lecture, but let's repeat:\n",
    "\n",
    "> The set $V[a,b] = \\{f: [a, b] \\to \\mathbb{C}\\}$ is a vector space, with vector addition being the function $(f + g): x \\mapsto f(x) + g(x)$ and vector scaling $(\\alpha f): x \\mapsto \\alpha f(x).$"
   ]
  },
  {
   "cell_type": "markdown",
   "id": "350a5d96",
   "metadata": {
    "slideshow": {
     "slide_type": "subslide"
    }
   },
   "source": [
    "## Define a type for functions as vectors\n",
    "\n",
    "- Let's give ourselves our own type for functions on an interval.  To emphasize that they are vectors, our type will use indexing notation to evaluate the function"
   ]
  },
  {
   "cell_type": "code",
   "execution_count": 9,
   "id": "480ee091",
   "metadata": {
    "cell_style": "center"
   },
   "outputs": [],
   "source": [
    "# Define type Func for function taking values in field F\n",
    "struct Func{F <: Number}\n",
    "    _f # inner callable\n",
    "end\n",
    "\n",
    "Base.copy(f::Func{F}) where F = f\n",
    "Base.eltype(::Type{<:Func{F}}) where F = F\n",
    "# evaluate at one point\n",
    "Base.getindex(f::Func{F},x) where F where T = F(f._f(x))\n",
    "# evaluate at many points\n",
    "Base.getindex(f::Func{F},v::AbstractVector{T}) where F where T = collect(F(f._f(x)) for x in v)"
   ]
  },
  {
   "cell_type": "markdown",
   "id": "e9f90a13",
   "metadata": {
    "slideshow": {
     "slide_type": "subslide"
    }
   },
   "source": [
    "Our type can be evaluated at points, but notice that we can't get its length and we can't get `v[:]` AKA \"all the components\""
   ]
  },
  {
   "cell_type": "code",
   "execution_count": 10,
   "id": "3ba2266b",
   "metadata": {
    "cell_style": "split"
   },
   "outputs": [],
   "source": [
    "f = Func{Float64}(x->x^2);"
   ]
  },
  {
   "cell_type": "code",
   "execution_count": 11,
   "id": "b3e9ce46",
   "metadata": {
    "cell_style": "split"
   },
   "outputs": [
    {
     "data": {
      "text/plain": [
       "3-element Vector{Float64}:\n",
       " 1.0\n",
       " 4.0\n",
       " 9.0"
      ]
     },
     "execution_count": 11,
     "metadata": {},
     "output_type": "execute_result"
    }
   ],
   "source": [
    "f[[1,2,3]]"
   ]
  },
  {
   "cell_type": "code",
   "execution_count": 12,
   "id": "013fbe11",
   "metadata": {
    "cell_style": "split",
    "scrolled": true
   },
   "outputs": [
    {
     "ename": "LoadError",
     "evalue": "MethodError: no method matching length(::Func{Float64})\n\u001b[0mClosest candidates are:\n\u001b[0m  length(\u001b[91m::Union{Base.KeySet, Base.ValueIterator}\u001b[39m) at ~/srv/rep/julia/usr/share/julia/base/abstractdict.jl:58\n\u001b[0m  length(\u001b[91m::Union{ZMQ._Message, Base.RefValue{ZMQ._Message}}\u001b[39m) at ~/.julia/packages/ZMQ/R3wSD/src/_message.jl:31\n\u001b[0m  length(\u001b[91m::Union{DataStructures.OrderedRobinDict, DataStructures.RobinDict}\u001b[39m) at ~/.julia/packages/DataStructures/vSp4s/src/ordered_robin_dict.jl:86\n\u001b[0m  ...",
     "output_type": "error",
     "traceback": [
      "MethodError: no method matching length(::Func{Float64})\n\u001b[0mClosest candidates are:\n\u001b[0m  length(\u001b[91m::Union{Base.KeySet, Base.ValueIterator}\u001b[39m) at ~/srv/rep/julia/usr/share/julia/base/abstractdict.jl:58\n\u001b[0m  length(\u001b[91m::Union{ZMQ._Message, Base.RefValue{ZMQ._Message}}\u001b[39m) at ~/.julia/packages/ZMQ/R3wSD/src/_message.jl:31\n\u001b[0m  length(\u001b[91m::Union{DataStructures.OrderedRobinDict, DataStructures.RobinDict}\u001b[39m) at ~/.julia/packages/DataStructures/vSp4s/src/ordered_robin_dict.jl:86\n\u001b[0m  ...",
      "",
      "Stacktrace:",
      " [1] top-level scope",
      "   @ In[12]:1",
      " [2] eval",
      "   @ ./boot.jl:373 [inlined]",
      " [3] include_string(mapexpr::typeof(REPL.softscope), mod::Module, code::String, filename::String)",
      "   @ Base ./loading.jl:1196"
     ]
    }
   ],
   "source": [
    "length(f)"
   ]
  },
  {
   "cell_type": "code",
   "execution_count": 13,
   "id": "aee50a2a",
   "metadata": {
    "cell_style": "split",
    "scrolled": true
   },
   "outputs": [
    {
     "ename": "LoadError",
     "evalue": "MethodError: no method matching ^(::Colon, ::Int64)\n\u001b[0mClosest candidates are:\n\u001b[0m  ^(\u001b[91m::Union{AbstractChar, AbstractString}\u001b[39m, ::Integer) at ~/srv/rep/julia/usr/share/julia/base/strings/basic.jl:721\n\u001b[0m  ^(\u001b[91m::UniformScaling\u001b[39m, ::Number) at ~/srv/rep/julia/usr/share/julia/stdlib/v1.7/LinearAlgebra/src/uniformscaling.jl:318\n\u001b[0m  ^(\u001b[91m::Diagonal\u001b[39m, ::Integer) at ~/srv/rep/julia/usr/share/julia/stdlib/v1.7/LinearAlgebra/src/diagonal.jl:196\n\u001b[0m  ...",
     "output_type": "error",
     "traceback": [
      "MethodError: no method matching ^(::Colon, ::Int64)\n\u001b[0mClosest candidates are:\n\u001b[0m  ^(\u001b[91m::Union{AbstractChar, AbstractString}\u001b[39m, ::Integer) at ~/srv/rep/julia/usr/share/julia/base/strings/basic.jl:721\n\u001b[0m  ^(\u001b[91m::UniformScaling\u001b[39m, ::Number) at ~/srv/rep/julia/usr/share/julia/stdlib/v1.7/LinearAlgebra/src/uniformscaling.jl:318\n\u001b[0m  ^(\u001b[91m::Diagonal\u001b[39m, ::Integer) at ~/srv/rep/julia/usr/share/julia/stdlib/v1.7/LinearAlgebra/src/diagonal.jl:196\n\u001b[0m  ...",
      "",
      "Stacktrace:",
      " [1] literal_pow",
      "   @ ./intfuncs.jl:325 [inlined]",
      " [2] (::var\"#7#8\")(x::Function)",
      "   @ Main ./In[10]:1",
      " [3] getindex(f::Func{Float64}, x::Function)",
      "   @ Main ./In[9]:9",
      " [4] top-level scope",
      "   @ In[13]:1",
      " [5] eval",
      "   @ ./boot.jl:373 [inlined]",
      " [6] include_string(mapexpr::typeof(REPL.softscope), mod::Module, code::String, filename::String)",
      "   @ Base ./loading.jl:1196"
     ]
    }
   ],
   "source": [
    "f[:] "
   ]
  },
  {
   "cell_type": "markdown",
   "id": "80cb061a",
   "metadata": {
    "slideshow": {
     "slide_type": "subslide"
    }
   },
   "source": [
    "## Implement the vector algebra rules for functions\n",
    "\n",
    "> The set $V[a,b] = \\{f: [a, b] \\to \\mathbb{C}\\}$ is a vector space, with vector addition being the function $(f + g): x \\mapsto f(x) + g(x)$ and vector scaling $(\\alpha f): x \\mapsto \\alpha f(x).$"
   ]
  },
  {
   "cell_type": "code",
   "execution_count": 14,
   "id": "46787c6f",
   "metadata": {
    "cell_style": "center"
   },
   "outputs": [],
   "source": [
    "# import these operators so we can extend them\n",
    "import Base: *,/,\\,+,-\n",
    "\n",
    "# Define scaling\n",
    "*(a::N, v::Func{F}) where N <: Number where F = Func{F}(x -> a * v._f(x))\n",
    "# Define addition\n",
    "+(v::Func{F}, w::Func{F}) where F = Func{F}(x -> v._f(x) + w._f(x));"
   ]
  },
  {
   "cell_type": "markdown",
   "id": "d7c8c45f",
   "metadata": {
    "slideshow": {
     "slide_type": "subslide"
    }
   },
   "source": [
    "### With some syntactic sugar"
   ]
  },
  {
   "cell_type": "code",
   "execution_count": 15,
   "id": "9ddfc76c",
   "metadata": {
    "cell_style": "center"
   },
   "outputs": [],
   "source": [
    "# multiplication on the right = multiplication on the left\n",
    "*(v::Func{F}, a::N) where F where N <: Number = a * v\n",
    "# v / a = (1/a) * v\n",
    "/(v::Func{F}, a::N) where F where N <: Number = (1/a) * v\n",
    "# v - w = v + (-1 * w)\n",
    "-(v::Func{F}, w::Func{F}) where F = v + ((-1) * w);"
   ]
  },
  {
   "cell_type": "markdown",
   "id": "43cfb1aa",
   "metadata": {
    "slideshow": {
     "slide_type": "subslide"
    }
   },
   "source": [
    "### In action"
   ]
  },
  {
   "cell_type": "code",
   "execution_count": 16,
   "id": "b2f00d72",
   "metadata": {
    "slideshow": {
     "slide_type": "-"
    }
   },
   "outputs": [
    {
     "data": {
      "image/svg+xml": [
       "<?xml version=\"1.0\" encoding=\"utf-8\"?>\n",
       "<svg xmlns=\"http://www.w3.org/2000/svg\" xmlns:xlink=\"http://www.w3.org/1999/xlink\" width=\"900\" height=\"550\" viewBox=\"0 0 3600 2200\">\n",
       "<defs>\n",
       "  <clipPath id=\"clip440\">\n",
       "    <rect x=\"0\" y=\"0\" width=\"3600\" height=\"2200\"/>\n",
       "  </clipPath>\n",
       "</defs>\n",
       "<path clip-path=\"url(#clip440)\" d=\"\n",
       "M0 2200 L3600 2200 L3600 0 L0 0  Z\n",
       "  \" fill=\"#ffffff\" fill-rule=\"evenodd\" fill-opacity=\"1\"/>\n",
       "<defs>\n",
       "  <clipPath id=\"clip441\">\n",
       "    <rect x=\"720\" y=\"0\" width=\"2521\" height=\"2200\"/>\n",
       "  </clipPath>\n",
       "</defs>\n",
       "<path clip-path=\"url(#clip440)\" d=\"\n",
       "M205.936 2083.33 L3552.76 2083.33 L3552.76 47.2441 L205.936 47.2441  Z\n",
       "  \" fill=\"#ffffff\" fill-rule=\"evenodd\" fill-opacity=\"1\"/>\n",
       "<defs>\n",
       "  <clipPath id=\"clip442\">\n",
       "    <rect x=\"205\" y=\"47\" width=\"3348\" height=\"2037\"/>\n",
       "  </clipPath>\n",
       "</defs>\n",
       "<polyline clip-path=\"url(#clip442)\" style=\"stroke:#000000; stroke-linecap:butt; stroke-linejoin:round; stroke-width:2; stroke-opacity:0.1; fill:none\" points=\"\n",
       "  300.657,2083.33 300.657,47.2441 \n",
       "  \"/>\n",
       "<polyline clip-path=\"url(#clip442)\" style=\"stroke:#000000; stroke-linecap:butt; stroke-linejoin:round; stroke-width:2; stroke-opacity:0.1; fill:none\" points=\"\n",
       "  1090,2083.33 1090,47.2441 \n",
       "  \"/>\n",
       "<polyline clip-path=\"url(#clip442)\" style=\"stroke:#000000; stroke-linecap:butt; stroke-linejoin:round; stroke-width:2; stroke-opacity:0.1; fill:none\" points=\"\n",
       "  1879.35,2083.33 1879.35,47.2441 \n",
       "  \"/>\n",
       "<polyline clip-path=\"url(#clip442)\" style=\"stroke:#000000; stroke-linecap:butt; stroke-linejoin:round; stroke-width:2; stroke-opacity:0.1; fill:none\" points=\"\n",
       "  2668.69,2083.33 2668.69,47.2441 \n",
       "  \"/>\n",
       "<polyline clip-path=\"url(#clip442)\" style=\"stroke:#000000; stroke-linecap:butt; stroke-linejoin:round; stroke-width:2; stroke-opacity:0.1; fill:none\" points=\"\n",
       "  3458.03,2083.33 3458.03,47.2441 \n",
       "  \"/>\n",
       "<polyline clip-path=\"url(#clip440)\" style=\"stroke:#000000; stroke-linecap:butt; stroke-linejoin:round; stroke-width:4; stroke-opacity:1; fill:none\" points=\"\n",
       "  205.936,2083.33 3552.76,2083.33 \n",
       "  \"/>\n",
       "<polyline clip-path=\"url(#clip440)\" style=\"stroke:#000000; stroke-linecap:butt; stroke-linejoin:round; stroke-width:4; stroke-opacity:1; fill:none\" points=\"\n",
       "  300.657,2083.33 300.657,2064.43 \n",
       "  \"/>\n",
       "<polyline clip-path=\"url(#clip440)\" style=\"stroke:#000000; stroke-linecap:butt; stroke-linejoin:round; stroke-width:4; stroke-opacity:1; fill:none\" points=\"\n",
       "  1090,2083.33 1090,2064.43 \n",
       "  \"/>\n",
       "<polyline clip-path=\"url(#clip440)\" style=\"stroke:#000000; stroke-linecap:butt; stroke-linejoin:round; stroke-width:4; stroke-opacity:1; fill:none\" points=\"\n",
       "  1879.35,2083.33 1879.35,2064.43 \n",
       "  \"/>\n",
       "<polyline clip-path=\"url(#clip440)\" style=\"stroke:#000000; stroke-linecap:butt; stroke-linejoin:round; stroke-width:4; stroke-opacity:1; fill:none\" points=\"\n",
       "  2668.69,2083.33 2668.69,2064.43 \n",
       "  \"/>\n",
       "<polyline clip-path=\"url(#clip440)\" style=\"stroke:#000000; stroke-linecap:butt; stroke-linejoin:round; stroke-width:4; stroke-opacity:1; fill:none\" points=\"\n",
       "  3458.03,2083.33 3458.03,2064.43 \n",
       "  \"/>\n",
       "<path clip-path=\"url(#clip440)\" d=\"M262.961 2123.85 Q259.35 2123.85 257.521 2127.41 Q255.715 2130.95 255.715 2138.08 Q255.715 2145.19 257.521 2148.75 Q259.35 2152.3 262.961 2152.3 Q266.595 2152.3 268.401 2148.75 Q270.229 2145.19 270.229 2138.08 Q270.229 2130.95 268.401 2127.41 Q266.595 2123.85 262.961 2123.85 M262.961 2120.14 Q268.771 2120.14 271.826 2124.75 Q274.905 2129.33 274.905 2138.08 Q274.905 2146.81 271.826 2151.42 Q268.771 2156 262.961 2156 Q257.151 2156 254.072 2151.42 Q251.016 2146.81 251.016 2138.08 Q251.016 2129.33 254.072 2124.75 Q257.151 2120.14 262.961 2120.14 Z\" fill=\"#000000\" fill-rule=\"evenodd\" fill-opacity=\"1\" /><path clip-path=\"url(#clip440)\" d=\"M283.123 2149.45 L288.007 2149.45 L288.007 2155.33 L283.123 2155.33 L283.123 2149.45 Z\" fill=\"#000000\" fill-rule=\"evenodd\" fill-opacity=\"1\" /><path clip-path=\"url(#clip440)\" d=\"M308.192 2123.85 Q304.581 2123.85 302.752 2127.41 Q300.947 2130.95 300.947 2138.08 Q300.947 2145.19 302.752 2148.75 Q304.581 2152.3 308.192 2152.3 Q311.826 2152.3 313.632 2148.75 Q315.46 2145.19 315.46 2138.08 Q315.46 2130.95 313.632 2127.41 Q311.826 2123.85 308.192 2123.85 M308.192 2120.14 Q314.002 2120.14 317.058 2124.75 Q320.136 2129.33 320.136 2138.08 Q320.136 2146.81 317.058 2151.42 Q314.002 2156 308.192 2156 Q302.382 2156 299.303 2151.42 Q296.248 2146.81 296.248 2138.08 Q296.248 2129.33 299.303 2124.75 Q302.382 2120.14 308.192 2120.14 Z\" fill=\"#000000\" fill-rule=\"evenodd\" fill-opacity=\"1\" /><path clip-path=\"url(#clip440)\" d=\"M338.354 2123.85 Q334.743 2123.85 332.914 2127.41 Q331.109 2130.95 331.109 2138.08 Q331.109 2145.19 332.914 2148.75 Q334.743 2152.3 338.354 2152.3 Q341.988 2152.3 343.794 2148.75 Q345.622 2145.19 345.622 2138.08 Q345.622 2130.95 343.794 2127.41 Q341.988 2123.85 338.354 2123.85 M338.354 2120.14 Q344.164 2120.14 347.22 2124.75 Q350.298 2129.33 350.298 2138.08 Q350.298 2146.81 347.22 2151.42 Q344.164 2156 338.354 2156 Q332.544 2156 329.465 2151.42 Q326.409 2146.81 326.409 2138.08 Q326.409 2129.33 329.465 2124.75 Q332.544 2120.14 338.354 2120.14 Z\" fill=\"#000000\" fill-rule=\"evenodd\" fill-opacity=\"1\" /><path clip-path=\"url(#clip440)\" d=\"M1052.8 2123.85 Q1049.19 2123.85 1047.36 2127.41 Q1045.56 2130.95 1045.56 2138.08 Q1045.56 2145.19 1047.36 2148.75 Q1049.19 2152.3 1052.8 2152.3 Q1056.44 2152.3 1058.24 2148.75 Q1060.07 2145.19 1060.07 2138.08 Q1060.07 2130.95 1058.24 2127.41 Q1056.44 2123.85 1052.8 2123.85 M1052.8 2120.14 Q1058.61 2120.14 1061.67 2124.75 Q1064.75 2129.33 1064.75 2138.08 Q1064.75 2146.81 1061.67 2151.42 Q1058.61 2156 1052.8 2156 Q1046.99 2156 1043.91 2151.42 Q1040.86 2146.81 1040.86 2138.08 Q1040.86 2129.33 1043.91 2124.75 Q1046.99 2120.14 1052.8 2120.14 Z\" fill=\"#000000\" fill-rule=\"evenodd\" fill-opacity=\"1\" /><path clip-path=\"url(#clip440)\" d=\"M1072.96 2149.45 L1077.85 2149.45 L1077.85 2155.33 L1072.96 2155.33 L1072.96 2149.45 Z\" fill=\"#000000\" fill-rule=\"evenodd\" fill-opacity=\"1\" /><path clip-path=\"url(#clip440)\" d=\"M1092.06 2151.39 L1108.38 2151.39 L1108.38 2155.33 L1086.44 2155.33 L1086.44 2151.39 Q1089.1 2148.64 1093.68 2144.01 Q1098.29 2139.36 1099.47 2138.01 Q1101.71 2135.49 1102.59 2133.75 Q1103.5 2131.99 1103.5 2130.3 Q1103.5 2127.55 1101.55 2125.81 Q1099.63 2124.08 1096.53 2124.08 Q1094.33 2124.08 1091.88 2124.84 Q1089.45 2125.61 1086.67 2127.16 L1086.67 2122.43 Q1089.49 2121.3 1091.95 2120.72 Q1094.4 2120.14 1096.44 2120.14 Q1101.81 2120.14 1105 2122.83 Q1108.2 2125.51 1108.2 2130 Q1108.2 2132.13 1107.39 2134.05 Q1106.6 2135.95 1104.49 2138.55 Q1103.91 2139.22 1100.81 2142.43 Q1097.71 2145.63 1092.06 2151.39 Z\" fill=\"#000000\" fill-rule=\"evenodd\" fill-opacity=\"1\" /><path clip-path=\"url(#clip440)\" d=\"M1118.24 2120.77 L1136.6 2120.77 L1136.6 2124.7 L1122.52 2124.7 L1122.52 2133.18 Q1123.54 2132.83 1124.56 2132.67 Q1125.58 2132.48 1126.6 2132.48 Q1132.39 2132.48 1135.77 2135.65 Q1139.14 2138.82 1139.14 2144.24 Q1139.14 2149.82 1135.67 2152.92 Q1132.2 2156 1125.88 2156 Q1123.71 2156 1121.44 2155.63 Q1119.19 2155.26 1116.78 2154.52 L1116.78 2149.82 Q1118.87 2150.95 1121.09 2151.51 Q1123.31 2152.06 1125.79 2152.06 Q1129.79 2152.06 1132.13 2149.96 Q1134.47 2147.85 1134.47 2144.24 Q1134.47 2140.63 1132.13 2138.52 Q1129.79 2136.42 1125.79 2136.42 Q1123.91 2136.42 1122.04 2136.83 Q1120.19 2137.25 1118.24 2138.13 L1118.24 2120.77 Z\" fill=\"#000000\" fill-rule=\"evenodd\" fill-opacity=\"1\" /><path clip-path=\"url(#clip440)\" d=\"M1841.65 2123.85 Q1838.04 2123.85 1836.21 2127.41 Q1834.4 2130.95 1834.4 2138.08 Q1834.4 2145.19 1836.21 2148.75 Q1838.04 2152.3 1841.65 2152.3 Q1845.28 2152.3 1847.09 2148.75 Q1848.92 2145.19 1848.92 2138.08 Q1848.92 2130.95 1847.09 2127.41 Q1845.28 2123.85 1841.65 2123.85 M1841.65 2120.14 Q1847.46 2120.14 1850.52 2124.75 Q1853.59 2129.33 1853.59 2138.08 Q1853.59 2146.81 1850.52 2151.42 Q1847.46 2156 1841.65 2156 Q1835.84 2156 1832.76 2151.42 Q1829.71 2146.81 1829.71 2138.08 Q1829.71 2129.33 1832.76 2124.75 Q1835.84 2120.14 1841.65 2120.14 Z\" fill=\"#000000\" fill-rule=\"evenodd\" fill-opacity=\"1\" /><path clip-path=\"url(#clip440)\" d=\"M1861.81 2149.45 L1866.7 2149.45 L1866.7 2155.33 L1861.81 2155.33 L1861.81 2149.45 Z\" fill=\"#000000\" fill-rule=\"evenodd\" fill-opacity=\"1\" /><path clip-path=\"url(#clip440)\" d=\"M1876.93 2120.77 L1895.28 2120.77 L1895.28 2124.7 L1881.21 2124.7 L1881.21 2133.18 Q1882.23 2132.83 1883.25 2132.67 Q1884.26 2132.48 1885.28 2132.48 Q1891.07 2132.48 1894.45 2135.65 Q1897.83 2138.82 1897.83 2144.24 Q1897.83 2149.82 1894.36 2152.92 Q1890.89 2156 1884.57 2156 Q1882.39 2156 1880.12 2155.63 Q1877.88 2155.26 1875.47 2154.52 L1875.47 2149.82 Q1877.55 2150.95 1879.77 2151.51 Q1882 2152.06 1884.47 2152.06 Q1888.48 2152.06 1890.82 2149.96 Q1893.15 2147.85 1893.15 2144.24 Q1893.15 2140.63 1890.82 2138.52 Q1888.48 2136.42 1884.47 2136.42 Q1882.6 2136.42 1880.72 2136.83 Q1878.87 2137.25 1876.93 2138.13 L1876.93 2120.77 Z\" fill=\"#000000\" fill-rule=\"evenodd\" fill-opacity=\"1\" /><path clip-path=\"url(#clip440)\" d=\"M1917.04 2123.85 Q1913.43 2123.85 1911.6 2127.41 Q1909.8 2130.95 1909.8 2138.08 Q1909.8 2145.19 1911.6 2148.75 Q1913.43 2152.3 1917.04 2152.3 Q1920.68 2152.3 1922.48 2148.75 Q1924.31 2145.19 1924.31 2138.08 Q1924.31 2130.95 1922.48 2127.41 Q1920.68 2123.85 1917.04 2123.85 M1917.04 2120.14 Q1922.85 2120.14 1925.91 2124.75 Q1928.99 2129.33 1928.99 2138.08 Q1928.99 2146.81 1925.91 2151.42 Q1922.85 2156 1917.04 2156 Q1911.23 2156 1908.15 2151.42 Q1905.1 2146.81 1905.1 2138.08 Q1905.1 2129.33 1908.15 2124.75 Q1911.23 2120.14 1917.04 2120.14 Z\" fill=\"#000000\" fill-rule=\"evenodd\" fill-opacity=\"1\" /><path clip-path=\"url(#clip440)\" d=\"M2631.49 2123.85 Q2627.88 2123.85 2626.05 2127.41 Q2624.25 2130.95 2624.25 2138.08 Q2624.25 2145.19 2626.05 2148.75 Q2627.88 2152.3 2631.49 2152.3 Q2635.13 2152.3 2636.93 2148.75 Q2638.76 2145.19 2638.76 2138.08 Q2638.76 2130.95 2636.93 2127.41 Q2635.13 2123.85 2631.49 2123.85 M2631.49 2120.14 Q2637.3 2120.14 2640.36 2124.75 Q2643.44 2129.33 2643.44 2138.08 Q2643.44 2146.81 2640.36 2151.42 Q2637.3 2156 2631.49 2156 Q2625.68 2156 2622.6 2151.42 Q2619.55 2146.81 2619.55 2138.08 Q2619.55 2129.33 2622.6 2124.75 Q2625.68 2120.14 2631.49 2120.14 Z\" fill=\"#000000\" fill-rule=\"evenodd\" fill-opacity=\"1\" /><path clip-path=\"url(#clip440)\" d=\"M2651.65 2149.45 L2656.54 2149.45 L2656.54 2155.33 L2651.65 2155.33 L2651.65 2149.45 Z\" fill=\"#000000\" fill-rule=\"evenodd\" fill-opacity=\"1\" /><path clip-path=\"url(#clip440)\" d=\"M2665.54 2120.77 L2687.76 2120.77 L2687.76 2122.76 L2675.22 2155.33 L2670.33 2155.33 L2682.14 2124.7 L2665.54 2124.7 L2665.54 2120.77 Z\" fill=\"#000000\" fill-rule=\"evenodd\" fill-opacity=\"1\" /><path clip-path=\"url(#clip440)\" d=\"M2696.93 2120.77 L2715.29 2120.77 L2715.29 2124.7 L2701.21 2124.7 L2701.21 2133.18 Q2702.23 2132.83 2703.25 2132.67 Q2704.27 2132.48 2705.29 2132.48 Q2711.07 2132.48 2714.45 2135.65 Q2717.83 2138.82 2717.83 2144.24 Q2717.83 2149.82 2714.36 2152.92 Q2710.89 2156 2704.57 2156 Q2702.39 2156 2700.13 2155.63 Q2697.88 2155.26 2695.47 2154.52 L2695.47 2149.82 Q2697.56 2150.95 2699.78 2151.51 Q2702 2152.06 2704.48 2152.06 Q2708.48 2152.06 2710.82 2149.96 Q2713.16 2147.85 2713.16 2144.24 Q2713.16 2140.63 2710.82 2138.52 Q2708.48 2136.42 2704.48 2136.42 Q2702.6 2136.42 2700.73 2136.83 Q2698.88 2137.25 2696.93 2138.13 L2696.93 2120.77 Z\" fill=\"#000000\" fill-rule=\"evenodd\" fill-opacity=\"1\" /><path clip-path=\"url(#clip440)\" d=\"M3410.11 2151.39 L3417.75 2151.39 L3417.75 2125.03 L3409.44 2126.69 L3409.44 2122.43 L3417.7 2120.77 L3422.38 2120.77 L3422.38 2151.39 L3430.01 2151.39 L3430.01 2155.33 L3410.11 2155.33 L3410.11 2151.39 Z\" fill=\"#000000\" fill-rule=\"evenodd\" fill-opacity=\"1\" /><path clip-path=\"url(#clip440)\" d=\"M3439.46 2149.45 L3444.34 2149.45 L3444.34 2155.33 L3439.46 2155.33 L3439.46 2149.45 Z\" fill=\"#000000\" fill-rule=\"evenodd\" fill-opacity=\"1\" /><path clip-path=\"url(#clip440)\" d=\"M3464.53 2123.85 Q3460.92 2123.85 3459.09 2127.41 Q3457.28 2130.95 3457.28 2138.08 Q3457.28 2145.19 3459.09 2148.75 Q3460.92 2152.3 3464.53 2152.3 Q3468.16 2152.3 3469.97 2148.75 Q3471.8 2145.19 3471.8 2138.08 Q3471.8 2130.95 3469.97 2127.41 Q3468.16 2123.85 3464.53 2123.85 M3464.53 2120.14 Q3470.34 2120.14 3473.39 2124.75 Q3476.47 2129.33 3476.47 2138.08 Q3476.47 2146.81 3473.39 2151.42 Q3470.34 2156 3464.53 2156 Q3458.72 2156 3455.64 2151.42 Q3452.58 2146.81 3452.58 2138.08 Q3452.58 2129.33 3455.64 2124.75 Q3458.72 2120.14 3464.53 2120.14 Z\" fill=\"#000000\" fill-rule=\"evenodd\" fill-opacity=\"1\" /><path clip-path=\"url(#clip440)\" d=\"M3494.69 2123.85 Q3491.08 2123.85 3489.25 2127.41 Q3487.44 2130.95 3487.44 2138.08 Q3487.44 2145.19 3489.25 2148.75 Q3491.08 2152.3 3494.69 2152.3 Q3498.32 2152.3 3500.13 2148.75 Q3501.96 2145.19 3501.96 2138.08 Q3501.96 2130.95 3500.13 2127.41 Q3498.32 2123.85 3494.69 2123.85 M3494.69 2120.14 Q3500.5 2120.14 3503.56 2124.75 Q3506.63 2129.33 3506.63 2138.08 Q3506.63 2146.81 3503.56 2151.42 Q3500.5 2156 3494.69 2156 Q3488.88 2156 3485.8 2151.42 Q3482.75 2146.81 3482.75 2138.08 Q3482.75 2129.33 3485.8 2124.75 Q3488.88 2120.14 3494.69 2120.14 Z\" fill=\"#000000\" fill-rule=\"evenodd\" fill-opacity=\"1\" /><polyline clip-path=\"url(#clip442)\" style=\"stroke:#000000; stroke-linecap:butt; stroke-linejoin:round; stroke-width:2; stroke-opacity:0.1; fill:none\" points=\"\n",
       "  205.936,2025.7 3552.76,2025.7 \n",
       "  \"/>\n",
       "<polyline clip-path=\"url(#clip442)\" style=\"stroke:#000000; stroke-linecap:butt; stroke-linejoin:round; stroke-width:2; stroke-opacity:0.1; fill:none\" points=\"\n",
       "  205.936,1545.49 3552.76,1545.49 \n",
       "  \"/>\n",
       "<polyline clip-path=\"url(#clip442)\" style=\"stroke:#000000; stroke-linecap:butt; stroke-linejoin:round; stroke-width:2; stroke-opacity:0.1; fill:none\" points=\"\n",
       "  205.936,1065.29 3552.76,1065.29 \n",
       "  \"/>\n",
       "<polyline clip-path=\"url(#clip442)\" style=\"stroke:#000000; stroke-linecap:butt; stroke-linejoin:round; stroke-width:2; stroke-opacity:0.1; fill:none\" points=\"\n",
       "  205.936,585.078 3552.76,585.078 \n",
       "  \"/>\n",
       "<polyline clip-path=\"url(#clip442)\" style=\"stroke:#000000; stroke-linecap:butt; stroke-linejoin:round; stroke-width:2; stroke-opacity:0.1; fill:none\" points=\"\n",
       "  205.936,104.869 3552.76,104.869 \n",
       "  \"/>\n",
       "<polyline clip-path=\"url(#clip440)\" style=\"stroke:#000000; stroke-linecap:butt; stroke-linejoin:round; stroke-width:4; stroke-opacity:1; fill:none\" points=\"\n",
       "  205.936,2083.33 205.936,47.2441 \n",
       "  \"/>\n",
       "<polyline clip-path=\"url(#clip440)\" style=\"stroke:#000000; stroke-linecap:butt; stroke-linejoin:round; stroke-width:4; stroke-opacity:1; fill:none\" points=\"\n",
       "  205.936,2025.7 224.834,2025.7 \n",
       "  \"/>\n",
       "<polyline clip-path=\"url(#clip440)\" style=\"stroke:#000000; stroke-linecap:butt; stroke-linejoin:round; stroke-width:4; stroke-opacity:1; fill:none\" points=\"\n",
       "  205.936,1545.49 224.834,1545.49 \n",
       "  \"/>\n",
       "<polyline clip-path=\"url(#clip440)\" style=\"stroke:#000000; stroke-linecap:butt; stroke-linejoin:round; stroke-width:4; stroke-opacity:1; fill:none\" points=\"\n",
       "  205.936,1065.29 224.834,1065.29 \n",
       "  \"/>\n",
       "<polyline clip-path=\"url(#clip440)\" style=\"stroke:#000000; stroke-linecap:butt; stroke-linejoin:round; stroke-width:4; stroke-opacity:1; fill:none\" points=\"\n",
       "  205.936,585.078 224.834,585.078 \n",
       "  \"/>\n",
       "<polyline clip-path=\"url(#clip440)\" style=\"stroke:#000000; stroke-linecap:butt; stroke-linejoin:round; stroke-width:4; stroke-opacity:1; fill:none\" points=\"\n",
       "  205.936,104.869 224.834,104.869 \n",
       "  \"/>\n",
       "<path clip-path=\"url(#clip440)\" d=\"M44.9921 2026.15 L74.6679 2026.15 L74.6679 2030.09 L44.9921 2030.09 L44.9921 2026.15 Z\" fill=\"#000000\" fill-rule=\"evenodd\" fill-opacity=\"1\" /><path clip-path=\"url(#clip440)\" d=\"M85.5706 2039.05 L93.2095 2039.05 L93.2095 2012.68 L84.8993 2014.35 L84.8993 2010.09 L93.1632 2008.42 L97.8391 2008.42 L97.8391 2039.05 L105.478 2039.05 L105.478 2042.98 L85.5706 2042.98 L85.5706 2039.05 Z\" fill=\"#000000\" fill-rule=\"evenodd\" fill-opacity=\"1\" /><path clip-path=\"url(#clip440)\" d=\"M114.922 2037.1 L119.807 2037.1 L119.807 2042.98 L114.922 2042.98 L114.922 2037.1 Z\" fill=\"#000000\" fill-rule=\"evenodd\" fill-opacity=\"1\" /><path clip-path=\"url(#clip440)\" d=\"M139.992 2011.5 Q136.381 2011.5 134.552 2015.07 Q132.746 2018.61 132.746 2025.74 Q132.746 2032.84 134.552 2036.41 Q136.381 2039.95 139.992 2039.95 Q143.626 2039.95 145.431 2036.41 Q147.26 2032.84 147.26 2025.74 Q147.26 2018.61 145.431 2015.07 Q143.626 2011.5 139.992 2011.5 M139.992 2007.8 Q145.802 2007.8 148.857 2012.4 Q151.936 2016.99 151.936 2025.74 Q151.936 2034.46 148.857 2039.07 Q145.802 2043.65 139.992 2043.65 Q134.181 2043.65 131.103 2039.07 Q128.047 2034.46 128.047 2025.74 Q128.047 2016.99 131.103 2012.4 Q134.181 2007.8 139.992 2007.8 Z\" fill=\"#000000\" fill-rule=\"evenodd\" fill-opacity=\"1\" /><path clip-path=\"url(#clip440)\" d=\"M45.9875 1545.95 L75.6633 1545.95 L75.6633 1549.88 L45.9875 1549.88 L45.9875 1545.95 Z\" fill=\"#000000\" fill-rule=\"evenodd\" fill-opacity=\"1\" /><path clip-path=\"url(#clip440)\" d=\"M95.7557 1531.29 Q92.1447 1531.29 90.316 1534.86 Q88.5104 1538.4 88.5104 1545.53 Q88.5104 1552.64 90.316 1556.2 Q92.1447 1559.74 95.7557 1559.74 Q99.39 1559.74 101.196 1556.2 Q103.024 1552.64 103.024 1545.53 Q103.024 1538.4 101.196 1534.86 Q99.39 1531.29 95.7557 1531.29 M95.7557 1527.59 Q101.566 1527.59 104.621 1532.2 Q107.7 1536.78 107.7 1545.53 Q107.7 1554.26 104.621 1558.86 Q101.566 1563.45 95.7557 1563.45 Q89.9456 1563.45 86.8669 1558.86 Q83.8114 1554.26 83.8114 1545.53 Q83.8114 1536.78 86.8669 1532.2 Q89.9456 1527.59 95.7557 1527.59 Z\" fill=\"#000000\" fill-rule=\"evenodd\" fill-opacity=\"1\" /><path clip-path=\"url(#clip440)\" d=\"M115.918 1556.89 L120.802 1556.89 L120.802 1562.77 L115.918 1562.77 L115.918 1556.89 Z\" fill=\"#000000\" fill-rule=\"evenodd\" fill-opacity=\"1\" /><path clip-path=\"url(#clip440)\" d=\"M131.033 1528.21 L149.39 1528.21 L149.39 1532.15 L135.316 1532.15 L135.316 1540.62 Q136.334 1540.27 137.353 1540.11 Q138.371 1539.93 139.39 1539.93 Q145.177 1539.93 148.556 1543.1 Q151.936 1546.27 151.936 1551.69 Q151.936 1557.27 148.464 1560.37 Q144.992 1563.45 138.672 1563.45 Q136.496 1563.45 134.228 1563.08 Q131.982 1562.7 129.575 1561.96 L129.575 1557.27 Q131.658 1558.4 133.881 1558.95 Q136.103 1559.51 138.58 1559.51 Q142.584 1559.51 144.922 1557.4 Q147.26 1555.3 147.26 1551.69 Q147.26 1548.08 144.922 1545.97 Q142.584 1543.86 138.58 1543.86 Q136.705 1543.86 134.83 1544.28 Q132.978 1544.7 131.033 1545.58 L131.033 1528.21 Z\" fill=\"#000000\" fill-rule=\"evenodd\" fill-opacity=\"1\" /><path clip-path=\"url(#clip440)\" d=\"M94.7604 1051.08 Q91.1493 1051.08 89.3206 1054.65 Q87.515 1058.19 87.515 1065.32 Q87.515 1072.43 89.3206 1075.99 Q91.1493 1079.53 94.7604 1079.53 Q98.3946 1079.53 100.2 1075.99 Q102.029 1072.43 102.029 1065.32 Q102.029 1058.19 100.2 1054.65 Q98.3946 1051.08 94.7604 1051.08 M94.7604 1047.38 Q100.571 1047.38 103.626 1051.99 Q106.705 1056.57 106.705 1065.32 Q106.705 1074.05 103.626 1078.65 Q100.571 1083.24 94.7604 1083.24 Q88.9502 1083.24 85.8715 1078.65 Q82.816 1074.05 82.816 1065.32 Q82.816 1056.57 85.8715 1051.99 Q88.9502 1047.38 94.7604 1047.38 Z\" fill=\"#000000\" fill-rule=\"evenodd\" fill-opacity=\"1\" /><path clip-path=\"url(#clip440)\" d=\"M114.922 1076.69 L119.807 1076.69 L119.807 1082.57 L114.922 1082.57 L114.922 1076.69 Z\" fill=\"#000000\" fill-rule=\"evenodd\" fill-opacity=\"1\" /><path clip-path=\"url(#clip440)\" d=\"M139.992 1051.08 Q136.381 1051.08 134.552 1054.65 Q132.746 1058.19 132.746 1065.32 Q132.746 1072.43 134.552 1075.99 Q136.381 1079.53 139.992 1079.53 Q143.626 1079.53 145.431 1075.99 Q147.26 1072.43 147.26 1065.32 Q147.26 1058.19 145.431 1054.65 Q143.626 1051.08 139.992 1051.08 M139.992 1047.38 Q145.802 1047.38 148.857 1051.99 Q151.936 1056.57 151.936 1065.32 Q151.936 1074.05 148.857 1078.65 Q145.802 1083.24 139.992 1083.24 Q134.181 1083.24 131.103 1078.65 Q128.047 1074.05 128.047 1065.32 Q128.047 1056.57 131.103 1051.99 Q134.181 1047.38 139.992 1047.38 Z\" fill=\"#000000\" fill-rule=\"evenodd\" fill-opacity=\"1\" /><path clip-path=\"url(#clip440)\" d=\"M95.7557 570.876 Q92.1447 570.876 90.316 574.441 Q88.5104 577.983 88.5104 585.112 Q88.5104 592.219 90.316 595.784 Q92.1447 599.325 95.7557 599.325 Q99.39 599.325 101.196 595.784 Q103.024 592.219 103.024 585.112 Q103.024 577.983 101.196 574.441 Q99.39 570.876 95.7557 570.876 M95.7557 567.173 Q101.566 567.173 104.621 571.779 Q107.7 576.362 107.7 585.112 Q107.7 593.839 104.621 598.446 Q101.566 603.029 95.7557 603.029 Q89.9456 603.029 86.8669 598.446 Q83.8114 593.839 83.8114 585.112 Q83.8114 576.362 86.8669 571.779 Q89.9456 567.173 95.7557 567.173 Z\" fill=\"#000000\" fill-rule=\"evenodd\" fill-opacity=\"1\" /><path clip-path=\"url(#clip440)\" d=\"M115.918 596.478 L120.802 596.478 L120.802 602.358 L115.918 602.358 L115.918 596.478 Z\" fill=\"#000000\" fill-rule=\"evenodd\" fill-opacity=\"1\" /><path clip-path=\"url(#clip440)\" d=\"M131.033 567.798 L149.39 567.798 L149.39 571.733 L135.316 571.733 L135.316 580.205 Q136.334 579.858 137.353 579.696 Q138.371 579.51 139.39 579.51 Q145.177 579.51 148.556 582.682 Q151.936 585.853 151.936 591.27 Q151.936 596.848 148.464 599.95 Q144.992 603.029 138.672 603.029 Q136.496 603.029 134.228 602.658 Q131.982 602.288 129.575 601.547 L129.575 596.848 Q131.658 597.983 133.881 598.538 Q136.103 599.094 138.58 599.094 Q142.584 599.094 144.922 596.987 Q147.26 594.881 147.26 591.27 Q147.26 587.659 144.922 585.552 Q142.584 583.446 138.58 583.446 Q136.705 583.446 134.83 583.862 Q132.978 584.279 131.033 585.159 L131.033 567.798 Z\" fill=\"#000000\" fill-rule=\"evenodd\" fill-opacity=\"1\" /><path clip-path=\"url(#clip440)\" d=\"M85.5706 118.214 L93.2095 118.214 L93.2095 91.8483 L84.8993 93.515 L84.8993 89.2558 L93.1632 87.5891 L97.8391 87.5891 L97.8391 118.214 L105.478 118.214 L105.478 122.149 L85.5706 122.149 L85.5706 118.214 Z\" fill=\"#000000\" fill-rule=\"evenodd\" fill-opacity=\"1\" /><path clip-path=\"url(#clip440)\" d=\"M114.922 116.27 L119.807 116.27 L119.807 122.149 L114.922 122.149 L114.922 116.27 Z\" fill=\"#000000\" fill-rule=\"evenodd\" fill-opacity=\"1\" /><path clip-path=\"url(#clip440)\" d=\"M139.992 90.6678 Q136.381 90.6678 134.552 94.2326 Q132.746 97.7742 132.746 104.904 Q132.746 112.01 134.552 115.575 Q136.381 119.117 139.992 119.117 Q143.626 119.117 145.431 115.575 Q147.26 112.01 147.26 104.904 Q147.26 97.7742 145.431 94.2326 Q143.626 90.6678 139.992 90.6678 M139.992 86.9641 Q145.802 86.9641 148.857 91.5706 Q151.936 96.1539 151.936 104.904 Q151.936 113.631 148.857 118.237 Q145.802 122.82 139.992 122.82 Q134.181 122.82 131.103 118.237 Q128.047 113.631 128.047 104.904 Q128.047 96.1539 131.103 91.5706 Q134.181 86.9641 139.992 86.9641 Z\" fill=\"#000000\" fill-rule=\"evenodd\" fill-opacity=\"1\" /><polyline clip-path=\"url(#clip442)\" style=\"stroke:#009af9; stroke-linecap:butt; stroke-linejoin:round; stroke-width:8; stroke-opacity:1; fill:none\" points=\"\n",
       "  300.657,1065.29 316.524,1070.11 332.39,1074.94 348.256,1079.76 364.122,1084.59 379.988,1089.42 395.855,1094.24 411.721,1099.07 427.587,1103.9 443.453,1108.72 \n",
       "  459.319,1113.55 475.186,1118.37 491.052,1123.2 506.918,1128.03 522.784,1132.85 538.651,1137.68 554.517,1142.51 570.383,1147.33 586.249,1152.16 602.115,1156.98 \n",
       "  617.982,1161.81 633.848,1166.64 649.714,1171.46 665.58,1176.29 681.447,1181.12 697.313,1185.94 713.179,1190.77 729.045,1195.59 744.911,1200.42 760.778,1205.25 \n",
       "  776.644,1210.07 792.51,1214.9 808.376,1219.72 824.242,1224.55 840.109,1229.38 855.975,1234.2 871.841,1239.03 887.707,1243.86 903.574,1248.68 919.44,1253.51 \n",
       "  935.306,1258.33 951.172,1263.16 967.038,1267.99 982.905,1272.81 998.771,1277.64 1014.64,1282.47 1030.5,1287.29 1046.37,1292.12 1062.24,1296.94 1078.1,1301.77 \n",
       "  1093.97,1306.6 1109.83,1311.42 1125.7,1316.25 1141.57,1321.08 1157.43,1325.9 1173.3,1330.73 1189.17,1335.55 1205.03,1340.38 1220.9,1345.21 1236.76,1350.03 \n",
       "  1252.63,1354.86 1268.5,1359.69 1284.36,1364.51 1300.23,1369.34 1316.1,1374.16 1331.96,1378.99 1347.83,1383.82 1363.69,1388.64 1379.56,1393.47 1395.43,1398.29 \n",
       "  1411.29,1403.12 1427.16,1407.95 1443.02,1412.77 1458.89,1417.6 1474.76,1422.43 1490.62,1427.25 1506.49,1432.08 1522.36,1436.9 1538.22,1441.73 1554.09,1446.56 \n",
       "  1569.95,1451.38 1585.82,1456.21 1601.69,1461.04 1617.55,1465.86 1633.42,1470.69 1649.29,1475.51 1665.15,1480.34 1681.02,1485.17 1696.88,1489.99 1712.75,1494.82 \n",
       "  1728.62,1499.65 1744.48,1504.47 1760.35,1509.3 1776.22,1514.12 1792.08,1518.95 1807.95,1523.78 1823.81,1528.6 1839.68,1533.43 1855.55,1538.26 1871.41,1543.08 \n",
       "  1887.28,1547.91 1903.15,1552.73 1919.01,1557.56 1934.88,1562.39 1950.74,1567.21 1966.61,1572.04 1982.48,1576.86 1998.34,1581.69 2014.21,1586.52 2030.08,1591.34 \n",
       "  2045.94,1596.17 2061.81,1601 2077.67,1605.82 2093.54,1610.65 2109.41,1615.47 2125.27,1620.3 2141.14,1625.13 2157,1629.95 2172.87,1634.78 2188.74,1639.61 \n",
       "  2204.6,1644.43 2220.47,1649.26 2236.34,1654.08 2252.2,1658.91 2268.07,1663.74 2283.93,1668.56 2299.8,1673.39 2315.67,1678.22 2331.53,1683.04 2347.4,1687.87 \n",
       "  2363.27,1692.69 2379.13,1697.52 2395,1702.35 2410.86,1707.17 2426.73,1712 2442.6,1716.83 2458.46,1721.65 2474.33,1726.48 2490.2,1731.3 2506.06,1736.13 \n",
       "  2521.93,1740.96 2537.79,1745.78 2553.66,1750.61 2569.53,1755.43 2585.39,1760.26 2601.26,1765.09 2617.13,1769.91 2632.99,1774.74 2648.86,1779.57 2664.72,1784.39 \n",
       "  2680.59,1789.22 2696.46,1794.04 2712.32,1798.87 2728.19,1803.7 2744.05,1808.52 2759.92,1813.35 2775.79,1818.18 2791.65,1823 2807.52,1827.83 2823.39,1832.65 \n",
       "  2839.25,1837.48 2855.12,1842.31 2870.98,1847.13 2886.85,1851.96 2902.72,1856.79 2918.58,1861.61 2934.45,1866.44 2950.32,1871.26 2966.18,1876.09 2982.05,1880.92 \n",
       "  2997.91,1885.74 3013.78,1890.57 3029.65,1895.4 3045.51,1900.22 3061.38,1905.05 3077.25,1909.87 3093.11,1914.7 3108.98,1919.53 3124.84,1924.35 3140.71,1929.18 \n",
       "  3156.58,1934 3172.44,1938.83 3188.31,1943.66 3204.18,1948.48 3220.04,1953.31 3235.91,1958.14 3251.77,1962.96 3267.64,1967.79 3283.51,1972.61 3299.37,1977.44 \n",
       "  3315.24,1982.27 3331.1,1987.09 3346.97,1991.92 3362.84,1996.75 3378.7,2001.57 3394.57,2006.4 3410.44,2011.22 3426.3,2016.05 3442.17,2020.88 3458.03,2025.7 \n",
       "  \n",
       "  \"/>\n",
       "<polyline clip-path=\"url(#clip442)\" style=\"stroke:#e26f46; stroke-linecap:butt; stroke-linejoin:round; stroke-width:8; stroke-opacity:1; fill:none\" points=\"\n",
       "  300.657,1065.29 316.524,1065.26 332.39,1065.19 348.256,1065.07 364.122,1064.9 379.988,1064.68 395.855,1064.41 411.721,1064.1 427.587,1063.73 443.453,1063.32 \n",
       "  459.319,1062.86 475.186,1062.35 491.052,1061.79 506.918,1061.19 522.784,1060.53 538.651,1059.83 554.517,1059.08 570.383,1058.28 586.249,1057.43 602.115,1056.53 \n",
       "  617.982,1055.59 633.848,1054.59 649.714,1053.55 665.58,1052.46 681.447,1051.32 697.313,1050.13 713.179,1048.89 729.045,1047.61 744.911,1046.27 760.778,1044.89 \n",
       "  776.644,1043.46 792.51,1041.98 808.376,1040.45 824.242,1038.88 840.109,1037.25 855.975,1035.58 871.841,1033.85 887.707,1032.08 903.574,1030.27 919.44,1028.4 \n",
       "  935.306,1026.48 951.172,1024.52 967.038,1022.5 982.905,1020.44 998.771,1018.33 1014.64,1016.17 1030.5,1013.97 1046.37,1011.71 1062.24,1009.41 1078.1,1007.06 \n",
       "  1093.97,1004.66 1109.83,1002.21 1125.7,999.708 1141.57,997.161 1157.43,994.566 1173.3,991.923 1189.17,989.231 1205.03,986.49 1220.9,983.701 1236.76,980.864 \n",
       "  1252.63,977.978 1268.5,975.043 1284.36,972.06 1300.23,969.028 1316.1,965.948 1331.96,962.82 1347.83,959.643 1363.69,956.417 1379.56,953.143 1395.43,949.821 \n",
       "  1411.29,946.45 1427.16,943.03 1443.02,939.562 1458.89,936.045 1474.76,932.48 1490.62,928.867 1506.49,925.204 1522.36,921.494 1538.22,917.735 1554.09,913.927 \n",
       "  1569.95,910.071 1585.82,906.166 1601.69,902.213 1617.55,898.212 1633.42,894.161 1649.29,890.063 1665.15,885.916 1681.02,881.72 1696.88,877.476 1712.75,873.183 \n",
       "  1728.62,868.842 1744.48,864.452 1760.35,860.014 1776.22,855.528 1792.08,850.992 1807.95,846.409 1823.81,841.776 1839.68,837.096 1855.55,832.367 1871.41,827.589 \n",
       "  1887.28,822.763 1903.15,817.888 1919.01,812.965 1934.88,807.993 1950.74,802.973 1966.61,797.904 1982.48,792.787 1998.34,787.621 2014.21,782.407 2030.08,777.144 \n",
       "  2045.94,771.833 2061.81,766.473 2077.67,761.065 2093.54,755.608 2109.41,750.103 2125.27,744.549 2141.14,738.947 2157,733.296 2172.87,727.596 2188.74,721.849 \n",
       "  2204.6,716.052 2220.47,710.207 2236.34,704.314 2252.2,698.372 2268.07,692.382 2283.93,686.343 2299.8,680.256 2315.67,674.12 2331.53,667.936 2347.4,661.703 \n",
       "  2363.27,655.421 2379.13,649.092 2395,642.713 2410.86,636.286 2426.73,629.811 2442.6,623.287 2458.46,616.715 2474.33,610.094 2490.2,603.424 2506.06,596.707 \n",
       "  2521.93,589.94 2537.79,583.125 2553.66,576.262 2569.53,569.35 2585.39,562.389 2601.26,555.381 2617.13,548.323 2632.99,541.217 2648.86,534.063 2664.72,526.86 \n",
       "  2680.59,519.608 2696.46,512.308 2712.32,504.96 2728.19,497.563 2744.05,490.118 2759.92,482.624 2775.79,475.081 2791.65,467.49 2807.52,459.851 2823.39,452.163 \n",
       "  2839.25,444.426 2855.12,436.641 2870.98,428.808 2886.85,420.926 2902.72,412.995 2918.58,405.016 2934.45,396.989 2950.32,388.913 2966.18,380.788 2982.05,372.615 \n",
       "  2997.91,364.393 3013.78,356.123 3029.65,347.805 3045.51,339.438 3061.38,331.022 3077.25,322.558 3093.11,314.046 3108.98,305.484 3124.84,296.875 3140.71,288.217 \n",
       "  3156.58,279.51 3172.44,270.755 3188.31,261.952 3204.18,253.099 3220.04,244.199 3235.91,235.25 3251.77,226.252 3267.64,217.206 3283.51,208.111 3299.37,198.968 \n",
       "  3315.24,189.777 3331.1,180.536 3346.97,171.248 3362.84,161.911 3378.7,152.525 3394.57,143.091 3410.44,133.608 3426.3,124.077 3442.17,114.497 3458.03,104.869 \n",
       "  \n",
       "  \"/>\n",
       "<polyline clip-path=\"url(#clip442)\" style=\"stroke:#3da44d; stroke-linecap:butt; stroke-linejoin:round; stroke-width:8; stroke-opacity:1; fill:none\" points=\"\n",
       "  300.657,1065.29 316.524,1070.09 332.39,1074.84 348.256,1079.55 364.122,1084.2 379.988,1088.81 395.855,1093.37 411.721,1097.88 427.587,1102.34 443.453,1106.76 \n",
       "  459.319,1111.12 475.186,1115.44 491.052,1119.71 506.918,1123.93 522.784,1128.1 538.651,1132.22 554.517,1136.3 570.383,1140.32 586.249,1144.3 602.115,1148.23 \n",
       "  617.982,1152.11 633.848,1155.94 649.714,1159.72 665.58,1163.46 681.447,1167.15 697.313,1170.78 713.179,1174.37 729.045,1177.91 744.911,1181.41 760.778,1184.85 \n",
       "  776.644,1188.25 792.51,1191.59 808.376,1194.89 824.242,1198.14 840.109,1201.34 855.975,1204.49 871.841,1207.6 887.707,1210.65 903.574,1213.66 919.44,1216.62 \n",
       "  935.306,1219.53 951.172,1222.39 967.038,1225.21 982.905,1227.97 998.771,1230.69 1014.64,1233.35 1030.5,1235.97 1046.37,1238.54 1062.24,1241.07 1078.1,1243.54 \n",
       "  1093.97,1245.97 1109.83,1248.34 1125.7,1250.67 1141.57,1252.95 1157.43,1255.18 1173.3,1257.36 1189.17,1259.5 1205.03,1261.58 1220.9,1263.62 1236.76,1265.61 \n",
       "  1252.63,1267.55 1268.5,1269.44 1284.36,1271.29 1300.23,1273.08 1316.1,1274.83 1331.96,1276.52 1347.83,1278.17 1363.69,1279.77 1379.56,1281.33 1395.43,1282.83 \n",
       "  1411.29,1284.28 1427.16,1285.69 1443.02,1287.05 1458.89,1288.36 1474.76,1289.62 1490.62,1290.83 1506.49,1292 1522.36,1293.11 1538.22,1294.18 1554.09,1295.2 \n",
       "  1569.95,1296.17 1585.82,1297.09 1601.69,1297.96 1617.55,1298.79 1633.42,1299.56 1649.29,1300.29 1665.15,1300.97 1681.02,1301.6 1696.88,1302.18 1712.75,1302.72 \n",
       "  1728.62,1303.2 1744.48,1303.64 1760.35,1304.03 1776.22,1304.37 1792.08,1304.66 1807.95,1304.9 1823.81,1305.09 1839.68,1305.24 1855.55,1305.34 1871.41,1305.38 \n",
       "  1887.28,1305.38 1903.15,1305.34 1919.01,1305.24 1934.88,1305.09 1950.74,1304.9 1966.61,1304.66 1982.48,1304.37 1998.34,1304.03 2014.21,1303.64 2030.08,1303.2 \n",
       "  2045.94,1302.72 2061.81,1302.18 2077.67,1301.6 2093.54,1300.97 2109.41,1300.29 2125.27,1299.56 2141.14,1298.79 2157,1297.96 2172.87,1297.09 2188.74,1296.17 \n",
       "  2204.6,1295.2 2220.47,1294.18 2236.34,1293.11 2252.2,1292 2268.07,1290.83 2283.93,1289.62 2299.8,1288.36 2315.67,1287.05 2331.53,1285.69 2347.4,1284.28 \n",
       "  2363.27,1282.83 2379.13,1281.33 2395,1279.77 2410.86,1278.17 2426.73,1276.52 2442.6,1274.83 2458.46,1273.08 2474.33,1271.29 2490.2,1269.44 2506.06,1267.55 \n",
       "  2521.93,1265.61 2537.79,1263.62 2553.66,1261.58 2569.53,1259.5 2585.39,1257.36 2601.26,1255.18 2617.13,1252.95 2632.99,1250.67 2648.86,1248.34 2664.72,1245.97 \n",
       "  2680.59,1243.54 2696.46,1241.07 2712.32,1238.54 2728.19,1235.97 2744.05,1233.35 2759.92,1230.69 2775.79,1227.97 2791.65,1225.21 2807.52,1222.39 2823.39,1219.53 \n",
       "  2839.25,1216.62 2855.12,1213.66 2870.98,1210.65 2886.85,1207.6 2902.72,1204.49 2918.58,1201.34 2934.45,1198.14 2950.32,1194.89 2966.18,1191.59 2982.05,1188.25 \n",
       "  2997.91,1184.85 3013.78,1181.41 3029.65,1177.91 3045.51,1174.37 3061.38,1170.78 3077.25,1167.15 3093.11,1163.46 3108.98,1159.72 3124.84,1155.94 3140.71,1152.11 \n",
       "  3156.58,1148.23 3172.44,1144.3 3188.31,1140.32 3204.18,1136.3 3220.04,1132.22 3235.91,1128.1 3251.77,1123.93 3267.64,1119.71 3283.51,1115.44 3299.37,1111.12 \n",
       "  3315.24,1106.76 3331.1,1102.34 3346.97,1097.88 3362.84,1093.37 3378.7,1088.81 3394.57,1084.2 3410.44,1079.55 3426.3,1074.84 3442.17,1070.09 3458.03,1065.29 \n",
       "  \n",
       "  \"/>\n",
       "<polyline clip-path=\"url(#clip442)\" style=\"stroke:#c271d2; stroke-linecap:butt; stroke-linejoin:round; stroke-width:8; stroke-opacity:1; fill:none\" points=\"\n",
       "  300.657,1065.29 316.524,1065.3 332.39,1065.33 348.256,1065.4 364.122,1065.48 379.988,1065.59 395.855,1065.72 411.721,1065.88 427.587,1066.06 443.453,1066.27 \n",
       "  459.319,1066.5 475.186,1066.75 491.052,1067.03 506.918,1067.34 522.784,1067.66 538.651,1068.01 554.517,1068.39 570.383,1068.79 586.249,1069.21 602.115,1069.66 \n",
       "  617.982,1070.14 633.848,1070.63 649.714,1071.16 665.58,1071.7 681.447,1072.27 697.313,1072.86 713.179,1073.48 729.045,1074.13 744.911,1074.79 760.778,1075.48 \n",
       "  776.644,1076.2 792.51,1076.94 808.376,1077.7 824.242,1078.49 840.109,1079.3 855.975,1080.14 871.841,1081 887.707,1081.89 903.574,1082.8 919.44,1083.73 \n",
       "  935.306,1084.69 951.172,1085.67 967.038,1086.68 982.905,1087.71 998.771,1088.76 1014.64,1089.84 1030.5,1090.94 1046.37,1092.07 1062.24,1093.22 1078.1,1094.4 \n",
       "  1093.97,1095.6 1109.83,1096.83 1125.7,1098.08 1141.57,1099.35 1157.43,1100.65 1173.3,1101.97 1189.17,1103.31 1205.03,1104.68 1220.9,1106.08 1236.76,1107.5 \n",
       "  1252.63,1108.94 1268.5,1110.41 1284.36,1111.9 1300.23,1113.41 1316.1,1114.95 1331.96,1116.52 1347.83,1118.11 1363.69,1119.72 1379.56,1121.36 1395.43,1123.02 \n",
       "  1411.29,1124.7 1427.16,1126.41 1443.02,1128.15 1458.89,1129.91 1474.76,1131.69 1490.62,1133.5 1506.49,1135.33 1522.36,1137.18 1538.22,1139.06 1554.09,1140.97 \n",
       "  1569.95,1142.89 1585.82,1144.85 1601.69,1146.82 1617.55,1148.82 1633.42,1150.85 1649.29,1152.9 1665.15,1154.97 1681.02,1157.07 1696.88,1159.19 1712.75,1161.34 \n",
       "  1728.62,1163.51 1744.48,1165.7 1760.35,1167.92 1776.22,1170.17 1792.08,1172.43 1807.95,1174.72 1823.81,1177.04 1839.68,1179.38 1855.55,1181.75 1871.41,1184.13 \n",
       "  1887.28,1186.55 1903.15,1188.99 1919.01,1191.45 1934.88,1193.93 1950.74,1196.44 1966.61,1198.98 1982.48,1201.54 1998.34,1204.12 2014.21,1206.73 2030.08,1209.36 \n",
       "  2045.94,1212.01 2061.81,1214.69 2077.67,1217.4 2093.54,1220.13 2109.41,1222.88 2125.27,1225.65 2141.14,1228.46 2157,1231.28 2172.87,1234.13 2188.74,1237 \n",
       "  2204.6,1239.9 2220.47,1242.83 2236.34,1245.77 2252.2,1248.74 2268.07,1251.74 2283.93,1254.76 2299.8,1257.8 2315.67,1260.87 2331.53,1263.96 2347.4,1267.08 \n",
       "  2363.27,1270.22 2379.13,1273.38 2395,1276.57 2410.86,1279.79 2426.73,1283.02 2442.6,1286.29 2458.46,1289.57 2474.33,1292.88 2490.2,1296.22 2506.06,1299.58 \n",
       "  2521.93,1302.96 2537.79,1306.37 2553.66,1309.8 2569.53,1313.25 2585.39,1316.73 2601.26,1320.24 2617.13,1323.77 2632.99,1327.32 2648.86,1330.9 2664.72,1334.5 \n",
       "  2680.59,1338.12 2696.46,1341.77 2712.32,1345.45 2728.19,1349.15 2744.05,1352.87 2759.92,1356.62 2775.79,1360.39 2791.65,1364.18 2807.52,1368 2823.39,1371.85 \n",
       "  2839.25,1375.72 2855.12,1379.61 2870.98,1383.53 2886.85,1387.47 2902.72,1391.43 2918.58,1395.42 2934.45,1399.43 2950.32,1403.47 2966.18,1407.53 2982.05,1411.62 \n",
       "  2997.91,1415.73 3013.78,1419.87 3029.65,1424.03 3045.51,1428.21 3061.38,1432.42 3077.25,1436.65 3093.11,1440.91 3108.98,1445.19 3124.84,1449.49 3140.71,1453.82 \n",
       "  3156.58,1458.17 3172.44,1462.55 3188.31,1466.95 3204.18,1471.38 3220.04,1475.83 3235.91,1480.3 3251.77,1484.8 3267.64,1489.33 3283.51,1493.87 3299.37,1498.44 \n",
       "  3315.24,1503.04 3331.1,1507.66 3346.97,1512.31 3362.84,1516.97 3378.7,1521.67 3394.57,1526.38 3410.44,1531.12 3426.3,1535.89 3442.17,1540.68 3458.03,1545.49 \n",
       "  \n",
       "  \"/>\n",
       "<path clip-path=\"url(#clip440)\" d=\"\n",
       "M2906.23 374.314 L3441.2 374.314 L3441.2 115.114 L2906.23 115.114  Z\n",
       "  \" fill=\"#ffffff\" fill-rule=\"evenodd\" fill-opacity=\"1\"/>\n",
       "<polyline clip-path=\"url(#clip440)\" style=\"stroke:#000000; stroke-linecap:butt; stroke-linejoin:round; stroke-width:4; stroke-opacity:1; fill:none\" points=\"\n",
       "  2906.23,374.314 3441.2,374.314 3441.2,115.114 2906.23,115.114 2906.23,374.314 \n",
       "  \"/>\n",
       "<polyline clip-path=\"url(#clip440)\" style=\"stroke:#009af9; stroke-linecap:butt; stroke-linejoin:round; stroke-width:4; stroke-opacity:1; fill:none\" points=\"\n",
       "  2943.41,166.954 3166.53,166.954 \n",
       "  \"/>\n",
       "<path clip-path=\"url(#clip440)\" d=\"M3203.72 158.308 L3208.23 158.308 L3216.34 180.067 L3224.44 158.308 L3228.95 158.308 L3219.23 184.234 L3213.44 184.234 L3203.72 158.308 Z\" fill=\"#000000\" fill-rule=\"evenodd\" fill-opacity=\"1\" /><polyline clip-path=\"url(#clip440)\" style=\"stroke:#e26f46; stroke-linecap:butt; stroke-linejoin:round; stroke-width:4; stroke-opacity:1; fill:none\" points=\"\n",
       "  2943.41,218.794 3166.53,218.794 \n",
       "  \"/>\n",
       "<path clip-path=\"url(#clip440)\" d=\"M3203.72 210.148 L3207.98 210.148 L3213.3 230.379 L3218.6 210.148 L3223.63 210.148 L3228.95 230.379 L3234.25 210.148 L3238.51 210.148 L3231.73 236.074 L3226.71 236.074 L3221.13 214.824 L3215.53 236.074 L3210.5 236.074 L3203.72 210.148 Z\" fill=\"#000000\" fill-rule=\"evenodd\" fill-opacity=\"1\" /><polyline clip-path=\"url(#clip440)\" style=\"stroke:#3da44d; stroke-linecap:butt; stroke-linejoin:round; stroke-width:4; stroke-opacity:1; fill:none\" points=\"\n",
       "  2943.41,270.634 3166.53,270.634 \n",
       "  \"/>\n",
       "<path clip-path=\"url(#clip440)\" d=\"M3203.72 261.988 L3208.23 261.988 L3216.34 283.747 L3224.44 261.988 L3228.95 261.988 L3219.23 287.914 L3213.44 287.914 L3203.72 261.988 Z\" fill=\"#000000\" fill-rule=\"evenodd\" fill-opacity=\"1\" /><path clip-path=\"url(#clip440)\" d=\"M3252.17 258.191 L3252.17 271.085 L3265.06 271.085 L3265.06 275.02 L3252.17 275.02 L3252.17 287.914 L3248.28 287.914 L3248.28 275.02 L3235.39 275.02 L3235.39 271.085 L3248.28 271.085 L3248.28 258.191 L3252.17 258.191 Z\" fill=\"#000000\" fill-rule=\"evenodd\" fill-opacity=\"1\" /><path clip-path=\"url(#clip440)\" d=\"M3272.08 261.988 L3276.34 261.988 L3281.66 282.219 L3286.96 261.988 L3291.98 261.988 L3297.31 282.219 L3302.61 261.988 L3306.87 261.988 L3300.09 287.914 L3295.06 287.914 L3289.48 266.664 L3283.88 287.914 L3278.86 287.914 L3272.08 261.988 Z\" fill=\"#000000\" fill-rule=\"evenodd\" fill-opacity=\"1\" /><polyline clip-path=\"url(#clip440)\" style=\"stroke:#c271d2; stroke-linecap:butt; stroke-linejoin:round; stroke-width:4; stroke-opacity:1; fill:none\" points=\"\n",
       "  2943.41,322.474 3166.53,322.474 \n",
       "  \"/>\n",
       "<path clip-path=\"url(#clip440)\" d=\"M3214.35 303.782 Q3211.24 309.106 3209.74 314.314 Q3208.23 319.522 3208.23 324.869 Q3208.23 330.217 3209.74 335.471 Q3211.27 340.703 3214.35 346.004 L3210.64 346.004 Q3207.17 340.564 3205.43 335.309 Q3203.72 330.055 3203.72 324.869 Q3203.72 319.707 3205.43 314.476 Q3207.15 309.244 3210.64 303.782 L3214.35 303.782 Z\" fill=\"#000000\" fill-rule=\"evenodd\" fill-opacity=\"1\" /><path clip-path=\"url(#clip440)\" d=\"M3220.46 324.869 L3232.93 324.869 L3232.93 328.666 L3220.46 328.666 L3220.46 324.869 Z\" fill=\"#000000\" fill-rule=\"evenodd\" fill-opacity=\"1\" /><path clip-path=\"url(#clip440)\" d=\"M3241.13 335.818 L3248.77 335.818 L3248.77 309.453 L3240.46 311.119 L3240.46 306.86 L3248.72 305.194 L3253.4 305.194 L3253.4 335.818 L3261.03 335.818 L3261.03 339.754 L3241.13 339.754 L3241.13 335.818 Z\" fill=\"#000000\" fill-rule=\"evenodd\" fill-opacity=\"1\" /><path clip-path=\"url(#clip440)\" d=\"M3277.45 305.194 L3281.38 305.194 L3269.35 344.152 L3265.41 344.152 L3277.45 305.194 Z\" fill=\"#000000\" fill-rule=\"evenodd\" fill-opacity=\"1\" /><path clip-path=\"url(#clip440)\" d=\"M3290.48 335.818 L3306.8 335.818 L3306.8 339.754 L3284.85 339.754 L3284.85 335.818 Q3287.52 333.064 3292.1 328.434 Q3296.71 323.781 3297.89 322.439 Q3300.13 319.916 3301.01 318.18 Q3301.91 316.42 3301.91 314.731 Q3301.91 311.976 3299.97 310.24 Q3298.05 308.504 3294.95 308.504 Q3292.75 308.504 3290.29 309.268 Q3287.86 310.031 3285.09 311.582 L3285.09 306.86 Q3287.91 305.726 3290.36 305.147 Q3292.82 304.569 3294.85 304.569 Q3300.22 304.569 3303.42 307.254 Q3306.61 309.939 3306.61 314.43 Q3306.61 316.559 3305.8 318.481 Q3305.02 320.379 3302.91 322.971 Q3302.33 323.643 3299.23 326.86 Q3296.13 330.055 3290.48 335.818 Z\" fill=\"#000000\" fill-rule=\"evenodd\" fill-opacity=\"1\" /><path clip-path=\"url(#clip440)\" d=\"M3315.34 303.782 L3319.04 303.782 Q3322.52 309.244 3324.23 314.476 Q3325.97 319.707 3325.97 324.869 Q3325.97 330.055 3324.23 335.309 Q3322.52 340.564 3319.04 346.004 L3315.34 346.004 Q3318.42 340.703 3319.92 335.471 Q3321.45 330.217 3321.45 324.869 Q3321.45 319.522 3319.92 314.314 Q3318.42 309.106 3315.34 303.782 Z\" fill=\"#000000\" fill-rule=\"evenodd\" fill-opacity=\"1\" /><path clip-path=\"url(#clip440)\" d=\"M3332.03 313.828 L3336.29 313.828 L3341.61 334.059 L3346.91 313.828 L3351.94 313.828 L3357.26 334.059 L3362.56 313.828 L3366.82 313.828 L3360.04 339.754 L3355.02 339.754 L3349.44 318.504 L3343.84 339.754 L3338.81 339.754 L3332.03 313.828 Z\" fill=\"#000000\" fill-rule=\"evenodd\" fill-opacity=\"1\" /></svg>\n"
      ]
     },
     "execution_count": 16,
     "metadata": {},
     "output_type": "execute_result"
    }
   ],
   "source": [
    "v = Func{Float64}(x -> -x)\n",
    "w = Func{Float64}(x -> x^2)\n",
    "vpw = v + w\n",
    "sw = -0.5 * w\n",
    "x = LinRange(0, 1, 200)\n",
    "\n",
    "plot(x, [v[x] w[x] vpw[x] sw[x]], labels = [\"v\" \"w\" \"v+w\" \"(-1/2)w\"])"
   ]
  },
  {
   "cell_type": "markdown",
   "id": "7cb450d4",
   "metadata": {
    "slideshow": {
     "slide_type": "subslide"
    }
   },
   "source": [
    "## We can define inner products on vectors spaces other than $\\mathbb{C}^m$, including on functions on an interval\n",
    "\n",
    "- Recall that an inner product has axioms, just like a vector space.  For a complex vector space $V$, if I can define an operation $(\\cdot,\\cdot):(V \\otimes V) \\to \\mathbb{C}$ that satisfies the inner product axioms, then $(\\cdot,\\cdot)$ is an inner product.  Those axioms again are:\n",
    "\n",
    "1. $(u, v) = \\overline{(v, u)}$ (conjugate symmetry)\n",
    "2. $(u, \\alpha v) = \\alpha(u, v)$ and $(u, v + w) = (u, v) + (u, w)$ (linearity in the second argument, which combined with property 1 implies conjugate linearity in the first argument)\n",
    "3. $(u, u) \\geq 0$ with $[(u, u) = 0] \\Leftrightarrow [u = 0]$ (positive definiteness)"
   ]
  },
  {
   "cell_type": "markdown",
   "id": "792a67ba",
   "metadata": {
    "slideshow": {
     "slide_type": "subslide"
    }
   },
   "source": [
    "## The simplest inner product on functions is the $L^2$ inner product\n",
    "\n",
    "- Consider just continuous functions on the interval $[a,b]$,\n",
    "\n",
    "$$C^0[a,b] = \\{f:[a,b] \\to \\mathbb{C}, \\text{such that } f \\text{ is continuous}\\}.$$\n",
    "\n",
    "- Define the operation $(\\cdot,\\cdot): (C^0[a,b] \\otimes C^0[a,b]) \\to \\mathbb{C}$ by\n",
    "$$(f, g) = \\int_a^b \\overline{f(x)} g(x)\\ dx.$$\n",
    "\n",
    "- This is the **$L^2$ inner product**.  Verifying the inner product axioms is an exercise you should try if you're not convinced.\n",
    "\n",
    "- _Every_ inner product defines a norm, so there is an $L^2$ norm on $C^0[a,b]$,\n",
    "\n",
    "$$\\|f\\|_{L^2} = \\left\\{\\int_a^b |f(x)|^2\\ dx\\right\\}^{1/2}.$$"
   ]
  },
  {
   "cell_type": "markdown",
   "id": "ab41bcf0",
   "metadata": {
    "hideCode": true,
    "hidePrompt": false,
    "slideshow": {
     "slide_type": "subslide"
    }
   },
   "source": [
    "## Let's (approximately) implement the $L^2$ inner product\n",
    "\n",
    "- Methods that evaluate $f(x)$ at a finite number of points in order to estimate $\\int f(x)\\ dx$ are called _quadrature_ rules.  Let's get some numerical quadrature methods from the `QuadGK` package.  Example usage:"
   ]
  },
  {
   "cell_type": "code",
   "execution_count": 17,
   "id": "40dae13d",
   "metadata": {},
   "outputs": [
    {
     "data": {
      "text/plain": [
       "(1.0, 1.0428675273326288e-9)"
      ]
     },
     "execution_count": 17,
     "metadata": {},
     "output_type": "execute_result"
    }
   ],
   "source": [
    "using QuadGK\n",
    "\n",
    "integral, err = quadgk(x -> exp(-x^2 / 2) / sqrt(2 * π), -10, 10)"
   ]
  },
  {
   "cell_type": "markdown",
   "id": "c703bc5a",
   "metadata": {
    "slideshow": {
     "slide_type": "subslide"
    }
   },
   "source": [
    "### Equations to code\n",
    "\n",
    "$$(f, g) = \\int_a^b \\overline{f(x)} g(x)\\ dx.$$"
   ]
  },
  {
   "cell_type": "code",
   "execution_count": 18,
   "id": "ab3b0ae2",
   "metadata": {},
   "outputs": [
    {
     "data": {
      "text/plain": [
       "L2_inner_product (generic function with 1 method)"
      ]
     },
     "execution_count": 18,
     "metadata": {},
     "output_type": "execute_result"
    }
   ],
   "source": [
    "function L2_inner_product(f, g; a=-1, b=1, rtol=1.e-12)\n",
    "    val, _ = quadgk(x -> conj(f(x)) * g(x), a, b,  rtol=rtol)\n",
    "    return val\n",
    "end"
   ]
  },
  {
   "cell_type": "code",
   "execution_count": 19,
   "id": "46b3e96c",
   "metadata": {},
   "outputs": [
    {
     "data": {
      "text/plain": [
       "-0.39999999999999997"
      ]
     },
     "execution_count": 19,
     "metadata": {},
     "output_type": "execute_result"
    }
   ],
   "source": [
    "L2_inner_product(x -> -x, x-> x^3) # ∫₋₁,₁ (-x)*x³ dx = -∫₋₁,₁ x⁴ dx = -(1/5)(1⁵ - (-1)⁵) = -1/5 * 2 = -2/5"
   ]
  },
  {
   "cell_type": "markdown",
   "id": "c2fcd254",
   "metadata": {
    "slideshow": {
     "slide_type": "subslide"
    }
   },
   "source": [
    "## Define the $L^2$ inner product to be `dot` for our function type"
   ]
  },
  {
   "cell_type": "code",
   "execution_count": 20,
   "id": "f468ae13",
   "metadata": {},
   "outputs": [
    {
     "data": {
      "text/plain": [
       "dot (generic function with 74 methods)"
      ]
     },
     "execution_count": 20,
     "metadata": {},
     "output_type": "execute_result"
    }
   ],
   "source": [
    "import LinearAlgebra: dot\n",
    "\n",
    "dot(v::Func{F}, w::Func{F}) where F = L2_inner_product(v._f, w._f)"
   ]
  },
  {
   "cell_type": "markdown",
   "id": "a29b2d42",
   "metadata": {
    "slideshow": {
     "slide_type": "subslide"
    }
   },
   "source": [
    "## Basis functions with large cosine similarity have problems"
   ]
  },
  {
   "cell_type": "markdown",
   "id": "31a44d1b",
   "metadata": {},
   "source": [
    "- The angle between the two angles on the left is $1$ degree: how well can you tell them apart?\n",
    "- The angle (defined as $(f,g) / (\\|f\\|\\ \\|g\\|)$) between $x^{55}$ and $x^{57}$ is about $1$ degree: how well can you tell them apart?"
   ]
  },
  {
   "cell_type": "code",
   "execution_count": 21,
   "id": "446228b0",
   "metadata": {
    "hideCode": true
   },
   "outputs": [
    {
     "data": {
      "image/svg+xml": [
       "<?xml version=\"1.0\" encoding=\"utf-8\"?>\n",
       "<svg xmlns=\"http://www.w3.org/2000/svg\" xmlns:xlink=\"http://www.w3.org/1999/xlink\" width=\"900\" height=\"550\" viewBox=\"0 0 3600 2200\">\n",
       "<defs>\n",
       "  <clipPath id=\"clip480\">\n",
       "    <rect x=\"0\" y=\"0\" width=\"3600\" height=\"2200\"/>\n",
       "  </clipPath>\n",
       "</defs>\n",
       "<path clip-path=\"url(#clip480)\" d=\"\n",
       "M0 2200 L3600 2200 L3600 0 L0 0  Z\n",
       "  \" fill=\"#ffffff\" fill-rule=\"evenodd\" fill-opacity=\"1\"/>\n",
       "<defs>\n",
       "  <clipPath id=\"clip481\">\n",
       "    <rect x=\"720\" y=\"0\" width=\"2521\" height=\"2200\"/>\n",
       "  </clipPath>\n",
       "</defs>\n",
       "<path clip-path=\"url(#clip480)\" d=\"\n",
       "M206.098 1838.66 L1752.84 1838.66 L1752.84 291.917 L206.098 291.917  Z\n",
       "  \" fill=\"#ffffff\" fill-rule=\"evenodd\" fill-opacity=\"1\"/>\n",
       "<defs>\n",
       "  <clipPath id=\"clip482\">\n",
       "    <rect x=\"206\" y=\"291\" width=\"1548\" height=\"1548\"/>\n",
       "  </clipPath>\n",
       "</defs>\n",
       "<polyline clip-path=\"url(#clip482)\" style=\"stroke:#000000; stroke-linecap:butt; stroke-linejoin:round; stroke-width:2; stroke-opacity:0.1; fill:none\" points=\"\n",
       "  399.44,1838.66 399.44,291.917 \n",
       "  \"/>\n",
       "<polyline clip-path=\"url(#clip482)\" style=\"stroke:#000000; stroke-linecap:butt; stroke-linejoin:round; stroke-width:2; stroke-opacity:0.1; fill:none\" points=\"\n",
       "  689.454,1838.66 689.454,291.917 \n",
       "  \"/>\n",
       "<polyline clip-path=\"url(#clip482)\" style=\"stroke:#000000; stroke-linecap:butt; stroke-linejoin:round; stroke-width:2; stroke-opacity:0.1; fill:none\" points=\"\n",
       "  1269.48,1838.66 1269.48,291.917 \n",
       "  \"/>\n",
       "<polyline clip-path=\"url(#clip482)\" style=\"stroke:#000000; stroke-linecap:butt; stroke-linejoin:round; stroke-width:2; stroke-opacity:0.1; fill:none\" points=\"\n",
       "  1559.49,1838.66 1559.49,291.917 \n",
       "  \"/>\n",
       "<polyline clip-path=\"url(#clip480)\" style=\"stroke:#000000; stroke-linecap:butt; stroke-linejoin:round; stroke-width:4; stroke-opacity:1; fill:none\" points=\"\n",
       "  206.098,1065.29 1752.84,1065.29 \n",
       "  \"/>\n",
       "<polyline clip-path=\"url(#clip480)\" style=\"stroke:#000000; stroke-linecap:butt; stroke-linejoin:round; stroke-width:4; stroke-opacity:1; fill:none\" points=\"\n",
       "  399.44,1079.64 399.44,1050.93 \n",
       "  \"/>\n",
       "<polyline clip-path=\"url(#clip480)\" style=\"stroke:#000000; stroke-linecap:butt; stroke-linejoin:round; stroke-width:4; stroke-opacity:1; fill:none\" points=\"\n",
       "  689.454,1079.64 689.454,1050.93 \n",
       "  \"/>\n",
       "<polyline clip-path=\"url(#clip480)\" style=\"stroke:#000000; stroke-linecap:butt; stroke-linejoin:round; stroke-width:4; stroke-opacity:1; fill:none\" points=\"\n",
       "  1269.48,1079.64 1269.48,1050.93 \n",
       "  \"/>\n",
       "<polyline clip-path=\"url(#clip480)\" style=\"stroke:#000000; stroke-linecap:butt; stroke-linejoin:round; stroke-width:4; stroke-opacity:1; fill:none\" points=\"\n",
       "  1559.49,1079.64 1559.49,1050.93 \n",
       "  \"/>\n",
       "<path clip-path=\"url(#clip480)\" d=\"M345.887 1120.46 L375.563 1120.46 L375.563 1124.39 L345.887 1124.39 L345.887 1120.46 Z\" fill=\"#000000\" fill-rule=\"evenodd\" fill-opacity=\"1\" /><path clip-path=\"url(#clip480)\" d=\"M395.656 1105.8 Q392.045 1105.8 390.216 1109.37 Q388.41 1112.91 388.41 1120.04 Q388.41 1127.15 390.216 1130.71 Q392.045 1134.25 395.656 1134.25 Q399.29 1134.25 401.095 1130.71 Q402.924 1127.15 402.924 1120.04 Q402.924 1112.91 401.095 1109.37 Q399.29 1105.8 395.656 1105.8 M395.656 1102.1 Q401.466 1102.1 404.521 1106.71 Q407.6 1111.29 407.6 1120.04 Q407.6 1128.77 404.521 1133.37 Q401.466 1137.96 395.656 1137.96 Q389.846 1137.96 386.767 1133.37 Q383.711 1128.77 383.711 1120.04 Q383.711 1111.29 386.767 1106.71 Q389.846 1102.1 395.656 1102.1 Z\" fill=\"#000000\" fill-rule=\"evenodd\" fill-opacity=\"1\" /><path clip-path=\"url(#clip480)\" d=\"M415.818 1131.41 L420.702 1131.41 L420.702 1137.29 L415.818 1137.29 L415.818 1131.41 Z\" fill=\"#000000\" fill-rule=\"evenodd\" fill-opacity=\"1\" /><path clip-path=\"url(#clip480)\" d=\"M441.466 1118.14 Q438.318 1118.14 436.466 1120.3 Q434.637 1122.45 434.637 1126.2 Q434.637 1129.92 436.466 1132.1 Q438.318 1134.25 441.466 1134.25 Q444.614 1134.25 446.442 1132.1 Q448.294 1129.92 448.294 1126.2 Q448.294 1122.45 446.442 1120.3 Q444.614 1118.14 441.466 1118.14 M450.748 1103.49 L450.748 1107.75 Q448.989 1106.92 447.183 1106.48 Q445.401 1106.04 443.642 1106.04 Q439.012 1106.04 436.558 1109.16 Q434.128 1112.29 433.78 1118.61 Q435.146 1116.59 437.206 1115.53 Q439.267 1114.44 441.743 1114.44 Q446.952 1114.44 449.961 1117.61 Q452.993 1120.76 452.993 1126.2 Q452.993 1131.52 449.845 1134.74 Q446.697 1137.96 441.466 1137.96 Q435.47 1137.96 432.299 1133.37 Q429.128 1128.77 429.128 1120.04 Q429.128 1111.85 433.017 1106.99 Q436.905 1102.1 443.456 1102.1 Q445.216 1102.1 446.998 1102.45 Q448.804 1102.8 450.748 1103.49 Z\" fill=\"#000000\" fill-rule=\"evenodd\" fill-opacity=\"1\" /><path clip-path=\"url(#clip480)\" d=\"M636.306 1120.46 L665.982 1120.46 L665.982 1124.39 L636.306 1124.39 L636.306 1120.46 Z\" fill=\"#000000\" fill-rule=\"evenodd\" fill-opacity=\"1\" /><path clip-path=\"url(#clip480)\" d=\"M686.074 1105.8 Q682.463 1105.8 680.635 1109.37 Q678.829 1112.91 678.829 1120.04 Q678.829 1127.15 680.635 1130.71 Q682.463 1134.25 686.074 1134.25 Q689.709 1134.25 691.514 1130.71 Q693.343 1127.15 693.343 1120.04 Q693.343 1112.91 691.514 1109.37 Q689.709 1105.8 686.074 1105.8 M686.074 1102.1 Q691.884 1102.1 694.94 1106.71 Q698.019 1111.29 698.019 1120.04 Q698.019 1128.77 694.94 1133.37 Q691.884 1137.96 686.074 1137.96 Q680.264 1137.96 677.185 1133.37 Q674.13 1128.77 674.13 1120.04 Q674.13 1111.29 677.185 1106.71 Q680.264 1102.1 686.074 1102.1 Z\" fill=\"#000000\" fill-rule=\"evenodd\" fill-opacity=\"1\" /><path clip-path=\"url(#clip480)\" d=\"M706.236 1131.41 L711.12 1131.41 L711.12 1137.29 L706.236 1137.29 L706.236 1131.41 Z\" fill=\"#000000\" fill-rule=\"evenodd\" fill-opacity=\"1\" /><path clip-path=\"url(#clip480)\" d=\"M735.472 1118.65 Q738.829 1119.37 740.704 1121.64 Q742.602 1123.91 742.602 1127.24 Q742.602 1132.36 739.083 1135.16 Q735.565 1137.96 729.083 1137.96 Q726.907 1137.96 724.593 1137.52 Q722.301 1137.1 719.847 1136.24 L719.847 1131.73 Q721.792 1132.86 724.107 1133.44 Q726.421 1134.02 728.944 1134.02 Q733.343 1134.02 735.634 1132.29 Q737.949 1130.55 737.949 1127.24 Q737.949 1124.18 735.796 1122.47 Q733.667 1120.74 729.847 1120.74 L725.819 1120.74 L725.819 1116.89 L730.032 1116.89 Q733.481 1116.89 735.31 1115.53 Q737.139 1114.14 737.139 1111.55 Q737.139 1108.88 735.241 1107.47 Q733.366 1106.04 729.847 1106.04 Q727.926 1106.04 725.727 1106.45 Q723.528 1106.87 720.889 1107.75 L720.889 1103.58 Q723.551 1102.84 725.866 1102.47 Q728.204 1102.1 730.264 1102.1 Q735.588 1102.1 738.69 1104.53 Q741.792 1106.94 741.792 1111.06 Q741.792 1113.93 740.148 1115.92 Q738.505 1117.89 735.472 1118.65 Z\" fill=\"#000000\" fill-rule=\"evenodd\" fill-opacity=\"1\" /><path clip-path=\"url(#clip480)\" d=\"M1247.19 1105.8 Q1243.58 1105.8 1241.75 1109.37 Q1239.94 1112.91 1239.94 1120.04 Q1239.94 1127.15 1241.75 1130.71 Q1243.58 1134.25 1247.19 1134.25 Q1250.82 1134.25 1252.63 1130.71 Q1254.46 1127.15 1254.46 1120.04 Q1254.46 1112.91 1252.63 1109.37 Q1250.82 1105.8 1247.19 1105.8 M1247.19 1102.1 Q1253 1102.1 1256.06 1106.71 Q1259.13 1111.29 1259.13 1120.04 Q1259.13 1128.77 1256.06 1133.37 Q1253 1137.96 1247.19 1137.96 Q1241.38 1137.96 1238.3 1133.37 Q1235.25 1128.77 1235.25 1120.04 Q1235.25 1111.29 1238.3 1106.71 Q1241.38 1102.1 1247.19 1102.1 Z\" fill=\"#000000\" fill-rule=\"evenodd\" fill-opacity=\"1\" /><path clip-path=\"url(#clip480)\" d=\"M1267.35 1131.41 L1272.24 1131.41 L1272.24 1137.29 L1267.35 1137.29 L1267.35 1131.41 Z\" fill=\"#000000\" fill-rule=\"evenodd\" fill-opacity=\"1\" /><path clip-path=\"url(#clip480)\" d=\"M1296.59 1118.65 Q1299.94 1119.37 1301.82 1121.64 Q1303.72 1123.91 1303.72 1127.24 Q1303.72 1132.36 1300.2 1135.16 Q1296.68 1137.96 1290.2 1137.96 Q1288.02 1137.96 1285.71 1137.52 Q1283.42 1137.1 1280.96 1136.24 L1280.96 1131.73 Q1282.91 1132.86 1285.22 1133.44 Q1287.54 1134.02 1290.06 1134.02 Q1294.46 1134.02 1296.75 1132.29 Q1299.06 1130.55 1299.06 1127.24 Q1299.06 1124.18 1296.91 1122.47 Q1294.78 1120.74 1290.96 1120.74 L1286.93 1120.74 L1286.93 1116.89 L1291.15 1116.89 Q1294.6 1116.89 1296.43 1115.53 Q1298.25 1114.14 1298.25 1111.55 Q1298.25 1108.88 1296.36 1107.47 Q1294.48 1106.04 1290.96 1106.04 Q1289.04 1106.04 1286.84 1106.45 Q1284.64 1106.87 1282 1107.75 L1282 1103.58 Q1284.67 1102.84 1286.98 1102.47 Q1289.32 1102.1 1291.38 1102.1 Q1296.7 1102.1 1299.8 1104.53 Q1302.91 1106.94 1302.91 1111.06 Q1302.91 1113.93 1301.26 1115.92 Q1299.62 1117.89 1296.59 1118.65 Z\" fill=\"#000000\" fill-rule=\"evenodd\" fill-opacity=\"1\" /><path clip-path=\"url(#clip480)\" d=\"M1536.8 1105.8 Q1533.19 1105.8 1531.36 1109.37 Q1529.55 1112.91 1529.55 1120.04 Q1529.55 1127.15 1531.36 1130.71 Q1533.19 1134.25 1536.8 1134.25 Q1540.43 1134.25 1542.24 1130.71 Q1544.07 1127.15 1544.07 1120.04 Q1544.07 1112.91 1542.24 1109.37 Q1540.43 1105.8 1536.8 1105.8 M1536.8 1102.1 Q1542.61 1102.1 1545.66 1106.71 Q1548.74 1111.29 1548.74 1120.04 Q1548.74 1128.77 1545.66 1133.37 Q1542.61 1137.96 1536.8 1137.96 Q1530.99 1137.96 1527.91 1133.37 Q1524.85 1128.77 1524.85 1120.04 Q1524.85 1111.29 1527.91 1106.71 Q1530.99 1102.1 1536.8 1102.1 Z\" fill=\"#000000\" fill-rule=\"evenodd\" fill-opacity=\"1\" /><path clip-path=\"url(#clip480)\" d=\"M1556.96 1131.41 L1561.84 1131.41 L1561.84 1137.29 L1556.96 1137.29 L1556.96 1131.41 Z\" fill=\"#000000\" fill-rule=\"evenodd\" fill-opacity=\"1\" /><path clip-path=\"url(#clip480)\" d=\"M1582.61 1118.14 Q1579.46 1118.14 1577.61 1120.3 Q1575.78 1122.45 1575.78 1126.2 Q1575.78 1129.92 1577.61 1132.1 Q1579.46 1134.25 1582.61 1134.25 Q1585.76 1134.25 1587.58 1132.1 Q1589.44 1129.92 1589.44 1126.2 Q1589.44 1122.45 1587.58 1120.3 Q1585.76 1118.14 1582.61 1118.14 M1591.89 1103.49 L1591.89 1107.75 Q1590.13 1106.92 1588.33 1106.48 Q1586.54 1106.04 1584.78 1106.04 Q1580.15 1106.04 1577.7 1109.16 Q1575.27 1112.29 1574.92 1118.61 Q1576.29 1116.59 1578.35 1115.53 Q1580.41 1114.44 1582.89 1114.44 Q1588.09 1114.44 1591.1 1117.61 Q1594.14 1120.76 1594.14 1126.2 Q1594.14 1131.52 1590.99 1134.74 Q1587.84 1137.96 1582.61 1137.96 Q1576.61 1137.96 1573.44 1133.37 Q1570.27 1128.77 1570.27 1120.04 Q1570.27 1111.85 1574.16 1106.99 Q1578.05 1102.1 1584.6 1102.1 Q1586.36 1102.1 1588.14 1102.45 Q1589.95 1102.8 1591.89 1103.49 Z\" fill=\"#000000\" fill-rule=\"evenodd\" fill-opacity=\"1\" /><polyline clip-path=\"url(#clip482)\" style=\"stroke:#000000; stroke-linecap:butt; stroke-linejoin:round; stroke-width:2; stroke-opacity:0.1; fill:none\" points=\"\n",
       "  206.098,1645.31 1752.84,1645.31 \n",
       "  \"/>\n",
       "<polyline clip-path=\"url(#clip482)\" style=\"stroke:#000000; stroke-linecap:butt; stroke-linejoin:round; stroke-width:2; stroke-opacity:0.1; fill:none\" points=\"\n",
       "  206.098,1355.3 1752.84,1355.3 \n",
       "  \"/>\n",
       "<polyline clip-path=\"url(#clip482)\" style=\"stroke:#000000; stroke-linecap:butt; stroke-linejoin:round; stroke-width:2; stroke-opacity:0.1; fill:none\" points=\"\n",
       "  206.098,775.272 1752.84,775.272 \n",
       "  \"/>\n",
       "<polyline clip-path=\"url(#clip482)\" style=\"stroke:#000000; stroke-linecap:butt; stroke-linejoin:round; stroke-width:2; stroke-opacity:0.1; fill:none\" points=\"\n",
       "  206.098,485.259 1752.84,485.259 \n",
       "  \"/>\n",
       "<polyline clip-path=\"url(#clip480)\" style=\"stroke:#000000; stroke-linecap:butt; stroke-linejoin:round; stroke-width:4; stroke-opacity:1; fill:none\" points=\"\n",
       "  979.467,1838.66 979.467,291.917 \n",
       "  \"/>\n",
       "<polyline clip-path=\"url(#clip480)\" style=\"stroke:#000000; stroke-linecap:butt; stroke-linejoin:round; stroke-width:4; stroke-opacity:1; fill:none\" points=\"\n",
       "  960.57,1645.31 998.365,1645.31 \n",
       "  \"/>\n",
       "<polyline clip-path=\"url(#clip480)\" style=\"stroke:#000000; stroke-linecap:butt; stroke-linejoin:round; stroke-width:4; stroke-opacity:1; fill:none\" points=\"\n",
       "  960.57,1355.3 998.365,1355.3 \n",
       "  \"/>\n",
       "<polyline clip-path=\"url(#clip480)\" style=\"stroke:#000000; stroke-linecap:butt; stroke-linejoin:round; stroke-width:4; stroke-opacity:1; fill:none\" points=\"\n",
       "  960.57,775.272 998.365,775.272 \n",
       "  \"/>\n",
       "<polyline clip-path=\"url(#clip480)\" style=\"stroke:#000000; stroke-linecap:butt; stroke-linejoin:round; stroke-width:4; stroke-opacity:1; fill:none\" points=\"\n",
       "  960.57,485.259 998.365,485.259 \n",
       "  \"/>\n",
       "<path clip-path=\"url(#clip480)\" d=\"M818.362 1645.76 L848.037 1645.76 L848.037 1649.7 L818.362 1649.7 L818.362 1645.76 Z\" fill=\"#000000\" fill-rule=\"evenodd\" fill-opacity=\"1\" /><path clip-path=\"url(#clip480)\" d=\"M868.13 1631.11 Q864.519 1631.11 862.69 1634.68 Q860.884 1638.22 860.884 1645.35 Q860.884 1652.45 862.69 1656.02 Q864.519 1659.56 868.13 1659.56 Q871.764 1659.56 873.57 1656.02 Q875.398 1652.45 875.398 1645.35 Q875.398 1638.22 873.57 1634.68 Q871.764 1631.11 868.13 1631.11 M868.13 1627.41 Q873.94 1627.41 876.996 1632.01 Q880.074 1636.6 880.074 1645.35 Q880.074 1654.07 876.996 1658.68 Q873.94 1663.26 868.13 1663.26 Q862.32 1663.26 859.241 1658.68 Q856.185 1654.07 856.185 1645.35 Q856.185 1636.6 859.241 1632.01 Q862.32 1627.41 868.13 1627.41 Z\" fill=\"#000000\" fill-rule=\"evenodd\" fill-opacity=\"1\" /><path clip-path=\"url(#clip480)\" d=\"M888.292 1656.71 L893.176 1656.71 L893.176 1662.59 L888.292 1662.59 L888.292 1656.71 Z\" fill=\"#000000\" fill-rule=\"evenodd\" fill-opacity=\"1\" /><path clip-path=\"url(#clip480)\" d=\"M913.94 1643.45 Q910.792 1643.45 908.94 1645.6 Q907.111 1647.76 907.111 1651.51 Q907.111 1655.23 908.94 1657.41 Q910.792 1659.56 913.94 1659.56 Q917.088 1659.56 918.917 1657.41 Q920.768 1655.23 920.768 1651.51 Q920.768 1647.76 918.917 1645.6 Q917.088 1643.45 913.94 1643.45 M923.222 1628.8 L923.222 1633.06 Q921.463 1632.22 919.657 1631.78 Q917.875 1631.34 916.116 1631.34 Q911.486 1631.34 909.032 1634.47 Q906.602 1637.59 906.255 1643.91 Q907.62 1641.9 909.681 1640.83 Q911.741 1639.75 914.218 1639.75 Q919.426 1639.75 922.435 1642.92 Q925.467 1646.07 925.467 1651.51 Q925.467 1656.83 922.319 1660.05 Q919.171 1663.26 913.94 1663.26 Q907.944 1663.26 904.773 1658.68 Q901.602 1654.07 901.602 1645.35 Q901.602 1637.15 905.491 1632.29 Q909.38 1627.41 915.93 1627.41 Q917.69 1627.41 919.472 1627.76 Q921.278 1628.1 923.222 1628.8 Z\" fill=\"#000000\" fill-rule=\"evenodd\" fill-opacity=\"1\" /><path clip-path=\"url(#clip480)\" d=\"M819.172 1355.75 L848.848 1355.75 L848.848 1359.69 L819.172 1359.69 L819.172 1355.75 Z\" fill=\"#000000\" fill-rule=\"evenodd\" fill-opacity=\"1\" /><path clip-path=\"url(#clip480)\" d=\"M868.94 1341.1 Q865.329 1341.1 863.5 1344.66 Q861.695 1348.2 861.695 1355.33 Q861.695 1362.44 863.5 1366.01 Q865.329 1369.55 868.94 1369.55 Q872.574 1369.55 874.38 1366.01 Q876.208 1362.44 876.208 1355.33 Q876.208 1348.2 874.38 1344.66 Q872.574 1341.1 868.94 1341.1 M868.94 1337.39 Q874.75 1337.39 877.806 1342 Q880.884 1346.58 880.884 1355.33 Q880.884 1364.06 877.806 1368.67 Q874.75 1373.25 868.94 1373.25 Q863.13 1373.25 860.051 1368.67 Q856.996 1364.06 856.996 1355.33 Q856.996 1346.58 860.051 1342 Q863.13 1337.39 868.94 1337.39 Z\" fill=\"#000000\" fill-rule=\"evenodd\" fill-opacity=\"1\" /><path clip-path=\"url(#clip480)\" d=\"M889.102 1366.7 L893.986 1366.7 L893.986 1372.58 L889.102 1372.58 L889.102 1366.7 Z\" fill=\"#000000\" fill-rule=\"evenodd\" fill-opacity=\"1\" /><path clip-path=\"url(#clip480)\" d=\"M918.338 1353.95 Q921.694 1354.66 923.569 1356.93 Q925.467 1359.2 925.467 1362.53 Q925.467 1367.65 921.949 1370.45 Q918.43 1373.25 911.949 1373.25 Q909.773 1373.25 907.458 1372.81 Q905.167 1372.39 902.713 1371.54 L902.713 1367.02 Q904.657 1368.16 906.972 1368.74 Q909.287 1369.32 911.81 1369.32 Q916.208 1369.32 918.5 1367.58 Q920.815 1365.84 920.815 1362.53 Q920.815 1359.48 918.662 1357.76 Q916.532 1356.03 912.713 1356.03 L908.685 1356.03 L908.685 1352.19 L912.898 1352.19 Q916.347 1352.19 918.176 1350.82 Q920.005 1349.43 920.005 1346.84 Q920.005 1344.18 918.106 1342.76 Q916.231 1341.33 912.713 1341.33 Q910.792 1341.33 908.593 1341.75 Q906.394 1342.16 903.755 1343.04 L903.755 1338.88 Q906.417 1338.14 908.731 1337.76 Q911.069 1337.39 913.13 1337.39 Q918.454 1337.39 921.555 1339.83 Q924.657 1342.23 924.657 1346.35 Q924.657 1349.22 923.014 1351.21 Q921.37 1353.18 918.338 1353.95 Z\" fill=\"#000000\" fill-rule=\"evenodd\" fill-opacity=\"1\" /><path clip-path=\"url(#clip480)\" d=\"M868.94 761.071 Q865.329 761.071 863.5 764.636 Q861.695 768.178 861.695 775.307 Q861.695 782.414 863.5 785.978 Q865.329 789.52 868.94 789.52 Q872.574 789.52 874.38 785.978 Q876.208 782.414 876.208 775.307 Q876.208 768.178 874.38 764.636 Q872.574 761.071 868.94 761.071 M868.94 757.367 Q874.75 757.367 877.806 761.974 Q880.884 766.557 880.884 775.307 Q880.884 784.034 877.806 788.64 Q874.75 793.224 868.94 793.224 Q863.13 793.224 860.051 788.64 Q856.996 784.034 856.996 775.307 Q856.996 766.557 860.051 761.974 Q863.13 757.367 868.94 757.367 Z\" fill=\"#000000\" fill-rule=\"evenodd\" fill-opacity=\"1\" /><path clip-path=\"url(#clip480)\" d=\"M889.102 786.673 L893.986 786.673 L893.986 792.552 L889.102 792.552 L889.102 786.673 Z\" fill=\"#000000\" fill-rule=\"evenodd\" fill-opacity=\"1\" /><path clip-path=\"url(#clip480)\" d=\"M918.338 773.918 Q921.694 774.636 923.569 776.904 Q925.467 779.173 925.467 782.506 Q925.467 787.622 921.949 790.423 Q918.43 793.224 911.949 793.224 Q909.773 793.224 907.458 792.784 Q905.167 792.367 902.713 791.511 L902.713 786.997 Q904.657 788.131 906.972 788.71 Q909.287 789.289 911.81 789.289 Q916.208 789.289 918.5 787.552 Q920.815 785.816 920.815 782.506 Q920.815 779.451 918.662 777.738 Q916.532 776.002 912.713 776.002 L908.685 776.002 L908.685 772.159 L912.898 772.159 Q916.347 772.159 918.176 770.793 Q920.005 769.404 920.005 766.812 Q920.005 764.15 918.106 762.738 Q916.231 761.303 912.713 761.303 Q910.792 761.303 908.593 761.719 Q906.394 762.136 903.755 763.016 L903.755 758.849 Q906.417 758.108 908.731 757.738 Q911.069 757.367 913.13 757.367 Q918.454 757.367 921.555 759.798 Q924.657 762.205 924.657 766.326 Q924.657 769.196 923.014 771.187 Q921.37 773.154 918.338 773.918 Z\" fill=\"#000000\" fill-rule=\"evenodd\" fill-opacity=\"1\" /><path clip-path=\"url(#clip480)\" d=\"M868.13 471.058 Q864.519 471.058 862.69 474.622 Q860.884 478.164 860.884 485.294 Q860.884 492.4 862.69 495.965 Q864.519 499.507 868.13 499.507 Q871.764 499.507 873.57 495.965 Q875.398 492.4 875.398 485.294 Q875.398 478.164 873.57 474.622 Q871.764 471.058 868.13 471.058 M868.13 467.354 Q873.94 467.354 876.996 471.96 Q880.074 476.544 880.074 485.294 Q880.074 494.02 876.996 498.627 Q873.94 503.21 868.13 503.21 Q862.32 503.21 859.241 498.627 Q856.185 494.02 856.185 485.294 Q856.185 476.544 859.241 471.96 Q862.32 467.354 868.13 467.354 Z\" fill=\"#000000\" fill-rule=\"evenodd\" fill-opacity=\"1\" /><path clip-path=\"url(#clip480)\" d=\"M888.292 496.659 L893.176 496.659 L893.176 502.539 L888.292 502.539 L888.292 496.659 Z\" fill=\"#000000\" fill-rule=\"evenodd\" fill-opacity=\"1\" /><path clip-path=\"url(#clip480)\" d=\"M913.94 483.395 Q910.792 483.395 908.94 485.548 Q907.111 487.701 907.111 491.451 Q907.111 495.178 908.94 497.354 Q910.792 499.507 913.94 499.507 Q917.088 499.507 918.917 497.354 Q920.768 495.178 920.768 491.451 Q920.768 487.701 918.917 485.548 Q917.088 483.395 913.94 483.395 M923.222 468.743 L923.222 473.002 Q921.463 472.169 919.657 471.729 Q917.875 471.289 916.116 471.289 Q911.486 471.289 909.032 474.414 Q906.602 477.539 906.255 483.858 Q907.62 481.845 909.681 480.78 Q911.741 479.692 914.218 479.692 Q919.426 479.692 922.435 482.863 Q925.467 486.011 925.467 491.451 Q925.467 496.775 922.319 499.993 Q919.171 503.21 913.94 503.21 Q907.944 503.21 904.773 498.627 Q901.602 494.02 901.602 485.294 Q901.602 477.099 905.491 472.238 Q909.38 467.354 915.93 467.354 Q917.69 467.354 919.472 467.701 Q921.278 468.048 923.222 468.743 Z\" fill=\"#000000\" fill-rule=\"evenodd\" fill-opacity=\"1\" /><polyline clip-path=\"url(#clip482)\" style=\"stroke:#009af9; stroke-linecap:butt; stroke-linejoin:round; stroke-width:8; stroke-opacity:1; fill:none\" points=\"\n",
       "  979.467,1065.29 1462.82,581.93 \n",
       "  \"/>\n",
       "<polyline clip-path=\"url(#clip482)\" style=\"stroke:#e26f46; stroke-linecap:butt; stroke-linejoin:round; stroke-width:8; stroke-opacity:1; fill:none\" points=\"\n",
       "  979.467,1065.29 1454.31,573.568 \n",
       "  \"/>\n",
       "<path clip-path=\"url(#clip480)\" d=\"\n",
       "M2006.02 2083.33 L3552.76 2083.33 L3552.76 47.2441 L2006.02 47.2441  Z\n",
       "  \" fill=\"#ffffff\" fill-rule=\"evenodd\" fill-opacity=\"1\"/>\n",
       "<defs>\n",
       "  <clipPath id=\"clip483\">\n",
       "    <rect x=\"2006\" y=\"47\" width=\"1548\" height=\"2037\"/>\n",
       "  </clipPath>\n",
       "</defs>\n",
       "<polyline clip-path=\"url(#clip483)\" style=\"stroke:#000000; stroke-linecap:butt; stroke-linejoin:round; stroke-width:2; stroke-opacity:0.1; fill:none\" points=\"\n",
       "  2049.79,2083.33 2049.79,47.2441 \n",
       "  \"/>\n",
       "<polyline clip-path=\"url(#clip483)\" style=\"stroke:#000000; stroke-linecap:butt; stroke-linejoin:round; stroke-width:2; stroke-opacity:0.1; fill:none\" points=\"\n",
       "  2414.59,2083.33 2414.59,47.2441 \n",
       "  \"/>\n",
       "<polyline clip-path=\"url(#clip483)\" style=\"stroke:#000000; stroke-linecap:butt; stroke-linejoin:round; stroke-width:2; stroke-opacity:0.1; fill:none\" points=\"\n",
       "  3144.18,2083.33 3144.18,47.2441 \n",
       "  \"/>\n",
       "<polyline clip-path=\"url(#clip483)\" style=\"stroke:#000000; stroke-linecap:butt; stroke-linejoin:round; stroke-width:2; stroke-opacity:0.1; fill:none\" points=\"\n",
       "  3508.98,2083.33 3508.98,47.2441 \n",
       "  \"/>\n",
       "<polyline clip-path=\"url(#clip480)\" style=\"stroke:#000000; stroke-linecap:butt; stroke-linejoin:round; stroke-width:4; stroke-opacity:1; fill:none\" points=\"\n",
       "  2006.02,1065.29 3552.76,1065.29 \n",
       "  \"/>\n",
       "<polyline clip-path=\"url(#clip480)\" style=\"stroke:#000000; stroke-linecap:butt; stroke-linejoin:round; stroke-width:4; stroke-opacity:1; fill:none\" points=\"\n",
       "  2049.79,1084.18 2049.79,1046.39 \n",
       "  \"/>\n",
       "<polyline clip-path=\"url(#clip480)\" style=\"stroke:#000000; stroke-linecap:butt; stroke-linejoin:round; stroke-width:4; stroke-opacity:1; fill:none\" points=\"\n",
       "  2414.59,1084.18 2414.59,1046.39 \n",
       "  \"/>\n",
       "<polyline clip-path=\"url(#clip480)\" style=\"stroke:#000000; stroke-linecap:butt; stroke-linejoin:round; stroke-width:4; stroke-opacity:1; fill:none\" points=\"\n",
       "  3144.18,1084.18 3144.18,1046.39 \n",
       "  \"/>\n",
       "<polyline clip-path=\"url(#clip480)\" style=\"stroke:#000000; stroke-linecap:butt; stroke-linejoin:round; stroke-width:4; stroke-opacity:1; fill:none\" points=\"\n",
       "  3508.98,1084.18 3508.98,1046.39 \n",
       "  \"/>\n",
       "<path clip-path=\"url(#clip480)\" d=\"M1996.32 1120.46 L2026 1120.46 L2026 1124.39 L1996.32 1124.39 L1996.32 1120.46 Z\" fill=\"#000000\" fill-rule=\"evenodd\" fill-opacity=\"1\" /><path clip-path=\"url(#clip480)\" d=\"M2036.9 1133.35 L2044.54 1133.35 L2044.54 1106.99 L2036.23 1108.65 L2036.23 1104.39 L2044.49 1102.73 L2049.17 1102.73 L2049.17 1133.35 L2056.81 1133.35 L2056.81 1137.29 L2036.9 1137.29 L2036.9 1133.35 Z\" fill=\"#000000\" fill-rule=\"evenodd\" fill-opacity=\"1\" /><path clip-path=\"url(#clip480)\" d=\"M2066.25 1131.41 L2071.14 1131.41 L2071.14 1137.29 L2066.25 1137.29 L2066.25 1131.41 Z\" fill=\"#000000\" fill-rule=\"evenodd\" fill-opacity=\"1\" /><path clip-path=\"url(#clip480)\" d=\"M2091.32 1105.8 Q2087.71 1105.8 2085.88 1109.37 Q2084.07 1112.91 2084.07 1120.04 Q2084.07 1127.15 2085.88 1130.71 Q2087.71 1134.25 2091.32 1134.25 Q2094.95 1134.25 2096.76 1130.71 Q2098.59 1127.15 2098.59 1120.04 Q2098.59 1112.91 2096.76 1109.37 Q2094.95 1105.8 2091.32 1105.8 M2091.32 1102.1 Q2097.13 1102.1 2100.19 1106.71 Q2103.26 1111.29 2103.26 1120.04 Q2103.26 1128.77 2100.19 1133.37 Q2097.13 1137.96 2091.32 1137.96 Q2085.51 1137.96 2082.43 1133.37 Q2079.38 1128.77 2079.38 1120.04 Q2079.38 1111.29 2082.43 1106.71 Q2085.51 1102.1 2091.32 1102.1 Z\" fill=\"#000000\" fill-rule=\"evenodd\" fill-opacity=\"1\" /><path clip-path=\"url(#clip480)\" d=\"M2361.62 1120.46 L2391.29 1120.46 L2391.29 1124.39 L2361.62 1124.39 L2361.62 1120.46 Z\" fill=\"#000000\" fill-rule=\"evenodd\" fill-opacity=\"1\" /><path clip-path=\"url(#clip480)\" d=\"M2411.38 1105.8 Q2407.77 1105.8 2405.94 1109.37 Q2404.14 1112.91 2404.14 1120.04 Q2404.14 1127.15 2405.94 1130.71 Q2407.77 1134.25 2411.38 1134.25 Q2415.02 1134.25 2416.82 1130.71 Q2418.65 1127.15 2418.65 1120.04 Q2418.65 1112.91 2416.82 1109.37 Q2415.02 1105.8 2411.38 1105.8 M2411.38 1102.1 Q2417.19 1102.1 2420.25 1106.71 Q2423.33 1111.29 2423.33 1120.04 Q2423.33 1128.77 2420.25 1133.37 Q2417.19 1137.96 2411.38 1137.96 Q2405.57 1137.96 2402.49 1133.37 Q2399.44 1128.77 2399.44 1120.04 Q2399.44 1111.29 2402.49 1106.71 Q2405.57 1102.1 2411.38 1102.1 Z\" fill=\"#000000\" fill-rule=\"evenodd\" fill-opacity=\"1\" /><path clip-path=\"url(#clip480)\" d=\"M2431.55 1131.41 L2436.43 1131.41 L2436.43 1137.29 L2431.55 1137.29 L2431.55 1131.41 Z\" fill=\"#000000\" fill-rule=\"evenodd\" fill-opacity=\"1\" /><path clip-path=\"url(#clip480)\" d=\"M2446.66 1102.73 L2465.02 1102.73 L2465.02 1106.66 L2450.94 1106.66 L2450.94 1115.13 Q2451.96 1114.79 2452.98 1114.62 Q2454 1114.44 2455.02 1114.44 Q2460.8 1114.44 2464.18 1117.61 Q2467.56 1120.78 2467.56 1126.2 Q2467.56 1131.78 2464.09 1134.88 Q2460.62 1137.96 2454.3 1137.96 Q2452.12 1137.96 2449.86 1137.59 Q2447.61 1137.22 2445.2 1136.48 L2445.2 1131.78 Q2447.29 1132.91 2449.51 1133.47 Q2451.73 1134.02 2454.21 1134.02 Q2458.21 1134.02 2460.55 1131.92 Q2462.89 1129.81 2462.89 1126.2 Q2462.89 1122.59 2460.55 1120.48 Q2458.21 1118.37 2454.21 1118.37 Q2452.33 1118.37 2450.46 1118.79 Q2448.61 1119.21 2446.66 1120.09 L2446.66 1102.73 Z\" fill=\"#000000\" fill-rule=\"evenodd\" fill-opacity=\"1\" /><path clip-path=\"url(#clip480)\" d=\"M3122.07 1105.8 Q3118.45 1105.8 3116.63 1109.37 Q3114.82 1112.91 3114.82 1120.04 Q3114.82 1127.15 3116.63 1130.71 Q3118.45 1134.25 3122.07 1134.25 Q3125.7 1134.25 3127.51 1130.71 Q3129.33 1127.15 3129.33 1120.04 Q3129.33 1112.91 3127.51 1109.37 Q3125.7 1105.8 3122.07 1105.8 M3122.07 1102.1 Q3127.88 1102.1 3130.93 1106.71 Q3134.01 1111.29 3134.01 1120.04 Q3134.01 1128.77 3130.93 1133.37 Q3127.88 1137.96 3122.07 1137.96 Q3116.26 1137.96 3113.18 1133.37 Q3110.12 1128.77 3110.12 1120.04 Q3110.12 1111.29 3113.18 1106.71 Q3116.26 1102.1 3122.07 1102.1 Z\" fill=\"#000000\" fill-rule=\"evenodd\" fill-opacity=\"1\" /><path clip-path=\"url(#clip480)\" d=\"M3142.23 1131.41 L3147.11 1131.41 L3147.11 1137.29 L3142.23 1137.29 L3142.23 1131.41 Z\" fill=\"#000000\" fill-rule=\"evenodd\" fill-opacity=\"1\" /><path clip-path=\"url(#clip480)\" d=\"M3157.34 1102.73 L3175.7 1102.73 L3175.7 1106.66 L3161.63 1106.66 L3161.63 1115.13 Q3162.64 1114.79 3163.66 1114.62 Q3164.68 1114.44 3165.7 1114.44 Q3171.49 1114.44 3174.87 1117.61 Q3178.25 1120.78 3178.25 1126.2 Q3178.25 1131.78 3174.77 1134.88 Q3171.3 1137.96 3164.98 1137.96 Q3162.81 1137.96 3160.54 1137.59 Q3158.29 1137.22 3155.88 1136.48 L3155.88 1131.78 Q3157.97 1132.91 3160.19 1133.47 Q3162.41 1134.02 3164.89 1134.02 Q3168.89 1134.02 3171.23 1131.92 Q3173.57 1129.81 3173.57 1126.2 Q3173.57 1122.59 3171.23 1120.48 Q3168.89 1118.37 3164.89 1118.37 Q3163.01 1118.37 3161.14 1118.79 Q3159.29 1119.21 3157.34 1120.09 L3157.34 1102.73 Z\" fill=\"#000000\" fill-rule=\"evenodd\" fill-opacity=\"1\" /><path clip-path=\"url(#clip480)\" d=\"M3476.13 1133.35 L3483.77 1133.35 L3483.77 1106.99 L3475.46 1108.65 L3475.46 1104.39 L3483.73 1102.73 L3488.4 1102.73 L3488.4 1133.35 L3496.04 1133.35 L3496.04 1137.29 L3476.13 1137.29 L3476.13 1133.35 Z\" fill=\"#000000\" fill-rule=\"evenodd\" fill-opacity=\"1\" /><path clip-path=\"url(#clip480)\" d=\"M3505.48 1131.41 L3510.37 1131.41 L3510.37 1137.29 L3505.48 1137.29 L3505.48 1131.41 Z\" fill=\"#000000\" fill-rule=\"evenodd\" fill-opacity=\"1\" /><path clip-path=\"url(#clip480)\" d=\"M3530.55 1105.8 Q3526.94 1105.8 3525.11 1109.37 Q3523.31 1112.91 3523.31 1120.04 Q3523.31 1127.15 3525.11 1130.71 Q3526.94 1134.25 3530.55 1134.25 Q3534.19 1134.25 3535.99 1130.71 Q3537.82 1127.15 3537.82 1120.04 Q3537.82 1112.91 3535.99 1109.37 Q3534.19 1105.8 3530.55 1105.8 M3530.55 1102.1 Q3536.36 1102.1 3539.42 1106.71 Q3542.5 1111.29 3542.5 1120.04 Q3542.5 1128.77 3539.42 1133.37 Q3536.36 1137.96 3530.55 1137.96 Q3524.74 1137.96 3521.67 1133.37 Q3518.61 1128.77 3518.61 1120.04 Q3518.61 1111.29 3521.67 1106.71 Q3524.74 1102.1 3530.55 1102.1 Z\" fill=\"#000000\" fill-rule=\"evenodd\" fill-opacity=\"1\" /><polyline clip-path=\"url(#clip483)\" style=\"stroke:#000000; stroke-linecap:butt; stroke-linejoin:round; stroke-width:2; stroke-opacity:0.1; fill:none\" points=\"\n",
       "  2006.02,2025.7 3552.76,2025.7 \n",
       "  \"/>\n",
       "<polyline clip-path=\"url(#clip483)\" style=\"stroke:#000000; stroke-linecap:butt; stroke-linejoin:round; stroke-width:2; stroke-opacity:0.1; fill:none\" points=\"\n",
       "  2006.02,1545.49 3552.76,1545.49 \n",
       "  \"/>\n",
       "<polyline clip-path=\"url(#clip483)\" style=\"stroke:#000000; stroke-linecap:butt; stroke-linejoin:round; stroke-width:2; stroke-opacity:0.1; fill:none\" points=\"\n",
       "  2006.02,585.078 3552.76,585.078 \n",
       "  \"/>\n",
       "<polyline clip-path=\"url(#clip483)\" style=\"stroke:#000000; stroke-linecap:butt; stroke-linejoin:round; stroke-width:2; stroke-opacity:0.1; fill:none\" points=\"\n",
       "  2006.02,104.869 3552.76,104.869 \n",
       "  \"/>\n",
       "<polyline clip-path=\"url(#clip480)\" style=\"stroke:#000000; stroke-linecap:butt; stroke-linejoin:round; stroke-width:4; stroke-opacity:1; fill:none\" points=\"\n",
       "  2779.39,2083.33 2779.39,47.2441 \n",
       "  \"/>\n",
       "<polyline clip-path=\"url(#clip480)\" style=\"stroke:#000000; stroke-linecap:butt; stroke-linejoin:round; stroke-width:4; stroke-opacity:1; fill:none\" points=\"\n",
       "  2760.49,2025.7 2798.28,2025.7 \n",
       "  \"/>\n",
       "<polyline clip-path=\"url(#clip480)\" style=\"stroke:#000000; stroke-linecap:butt; stroke-linejoin:round; stroke-width:4; stroke-opacity:1; fill:none\" points=\"\n",
       "  2760.49,1545.49 2798.28,1545.49 \n",
       "  \"/>\n",
       "<polyline clip-path=\"url(#clip480)\" style=\"stroke:#000000; stroke-linecap:butt; stroke-linejoin:round; stroke-width:4; stroke-opacity:1; fill:none\" points=\"\n",
       "  2760.49,585.078 2798.28,585.078 \n",
       "  \"/>\n",
       "<polyline clip-path=\"url(#clip480)\" style=\"stroke:#000000; stroke-linecap:butt; stroke-linejoin:round; stroke-width:4; stroke-opacity:1; fill:none\" points=\"\n",
       "  2760.49,104.869 2798.28,104.869 \n",
       "  \"/>\n",
       "<path clip-path=\"url(#clip480)\" d=\"M2618.44 2026.15 L2648.12 2026.15 L2648.12 2030.09 L2618.44 2030.09 L2618.44 2026.15 Z\" fill=\"#000000\" fill-rule=\"evenodd\" fill-opacity=\"1\" /><path clip-path=\"url(#clip480)\" d=\"M2659.02 2039.05 L2666.66 2039.05 L2666.66 2012.68 L2658.35 2014.35 L2658.35 2010.09 L2666.61 2008.42 L2671.29 2008.42 L2671.29 2039.05 L2678.93 2039.05 L2678.93 2042.98 L2659.02 2042.98 L2659.02 2039.05 Z\" fill=\"#000000\" fill-rule=\"evenodd\" fill-opacity=\"1\" /><path clip-path=\"url(#clip480)\" d=\"M2688.37 2037.1 L2693.26 2037.1 L2693.26 2042.98 L2688.37 2042.98 L2688.37 2037.1 Z\" fill=\"#000000\" fill-rule=\"evenodd\" fill-opacity=\"1\" /><path clip-path=\"url(#clip480)\" d=\"M2713.44 2011.5 Q2709.83 2011.5 2708 2015.07 Q2706.2 2018.61 2706.2 2025.74 Q2706.2 2032.84 2708 2036.41 Q2709.83 2039.95 2713.44 2039.95 Q2717.08 2039.95 2718.88 2036.41 Q2720.71 2032.84 2720.71 2025.74 Q2720.71 2018.61 2718.88 2015.07 Q2717.08 2011.5 2713.44 2011.5 M2713.44 2007.8 Q2719.25 2007.8 2722.31 2012.4 Q2725.39 2016.99 2725.39 2025.74 Q2725.39 2034.46 2722.31 2039.07 Q2719.25 2043.65 2713.44 2043.65 Q2707.63 2043.65 2704.55 2039.07 Q2701.5 2034.46 2701.5 2025.74 Q2701.5 2016.99 2704.55 2012.4 Q2707.63 2007.8 2713.44 2007.8 Z\" fill=\"#000000\" fill-rule=\"evenodd\" fill-opacity=\"1\" /><path clip-path=\"url(#clip480)\" d=\"M2619.44 1545.95 L2649.11 1545.95 L2649.11 1549.88 L2619.44 1549.88 L2619.44 1545.95 Z\" fill=\"#000000\" fill-rule=\"evenodd\" fill-opacity=\"1\" /><path clip-path=\"url(#clip480)\" d=\"M2669.21 1531.29 Q2665.6 1531.29 2663.77 1534.86 Q2661.96 1538.4 2661.96 1545.53 Q2661.96 1552.64 2663.77 1556.2 Q2665.6 1559.74 2669.21 1559.74 Q2672.84 1559.74 2674.65 1556.2 Q2676.47 1552.64 2676.47 1545.53 Q2676.47 1538.4 2674.65 1534.86 Q2672.84 1531.29 2669.21 1531.29 M2669.21 1527.59 Q2675.02 1527.59 2678.07 1532.2 Q2681.15 1536.78 2681.15 1545.53 Q2681.15 1554.26 2678.07 1558.86 Q2675.02 1563.45 2669.21 1563.45 Q2663.4 1563.45 2660.32 1558.86 Q2657.26 1554.26 2657.26 1545.53 Q2657.26 1536.78 2660.32 1532.2 Q2663.4 1527.59 2669.21 1527.59 Z\" fill=\"#000000\" fill-rule=\"evenodd\" fill-opacity=\"1\" /><path clip-path=\"url(#clip480)\" d=\"M2689.37 1556.89 L2694.25 1556.89 L2694.25 1562.77 L2689.37 1562.77 L2689.37 1556.89 Z\" fill=\"#000000\" fill-rule=\"evenodd\" fill-opacity=\"1\" /><path clip-path=\"url(#clip480)\" d=\"M2704.48 1528.21 L2722.84 1528.21 L2722.84 1532.15 L2708.77 1532.15 L2708.77 1540.62 Q2709.78 1540.27 2710.8 1540.11 Q2711.82 1539.93 2712.84 1539.93 Q2718.63 1539.93 2722.01 1543.1 Q2725.39 1546.27 2725.39 1551.69 Q2725.39 1557.27 2721.91 1560.37 Q2718.44 1563.45 2712.12 1563.45 Q2709.95 1563.45 2707.68 1563.08 Q2705.43 1562.7 2703.03 1561.96 L2703.03 1557.27 Q2705.11 1558.4 2707.33 1558.95 Q2709.55 1559.51 2712.03 1559.51 Q2716.03 1559.51 2718.37 1557.4 Q2720.71 1555.3 2720.71 1551.69 Q2720.71 1548.08 2718.37 1545.97 Q2716.03 1543.86 2712.03 1543.86 Q2710.16 1543.86 2708.28 1544.28 Q2706.43 1544.7 2704.48 1545.58 L2704.48 1528.21 Z\" fill=\"#000000\" fill-rule=\"evenodd\" fill-opacity=\"1\" /><path clip-path=\"url(#clip480)\" d=\"M2669.21 570.876 Q2665.6 570.876 2663.77 574.441 Q2661.96 577.983 2661.96 585.112 Q2661.96 592.219 2663.77 595.784 Q2665.6 599.325 2669.21 599.325 Q2672.84 599.325 2674.65 595.784 Q2676.47 592.219 2676.47 585.112 Q2676.47 577.983 2674.65 574.441 Q2672.84 570.876 2669.21 570.876 M2669.21 567.173 Q2675.02 567.173 2678.07 571.779 Q2681.15 576.362 2681.15 585.112 Q2681.15 593.839 2678.07 598.446 Q2675.02 603.029 2669.21 603.029 Q2663.4 603.029 2660.32 598.446 Q2657.26 593.839 2657.26 585.112 Q2657.26 576.362 2660.32 571.779 Q2663.4 567.173 2669.21 567.173 Z\" fill=\"#000000\" fill-rule=\"evenodd\" fill-opacity=\"1\" /><path clip-path=\"url(#clip480)\" d=\"M2689.37 596.478 L2694.25 596.478 L2694.25 602.358 L2689.37 602.358 L2689.37 596.478 Z\" fill=\"#000000\" fill-rule=\"evenodd\" fill-opacity=\"1\" /><path clip-path=\"url(#clip480)\" d=\"M2704.48 567.798 L2722.84 567.798 L2722.84 571.733 L2708.77 571.733 L2708.77 580.205 Q2709.78 579.858 2710.8 579.696 Q2711.82 579.51 2712.84 579.51 Q2718.63 579.51 2722.01 582.682 Q2725.39 585.853 2725.39 591.27 Q2725.39 596.848 2721.91 599.95 Q2718.44 603.029 2712.12 603.029 Q2709.95 603.029 2707.68 602.658 Q2705.43 602.288 2703.03 601.547 L2703.03 596.848 Q2705.11 597.983 2707.33 598.538 Q2709.55 599.094 2712.03 599.094 Q2716.03 599.094 2718.37 596.987 Q2720.71 594.881 2720.71 591.27 Q2720.71 587.659 2718.37 585.552 Q2716.03 583.446 2712.03 583.446 Q2710.16 583.446 2708.28 583.862 Q2706.43 584.279 2704.48 585.159 L2704.48 567.798 Z\" fill=\"#000000\" fill-rule=\"evenodd\" fill-opacity=\"1\" /><path clip-path=\"url(#clip480)\" d=\"M2659.02 118.214 L2666.66 118.214 L2666.66 91.8483 L2658.35 93.515 L2658.35 89.2558 L2666.61 87.5891 L2671.29 87.5891 L2671.29 118.214 L2678.93 118.214 L2678.93 122.149 L2659.02 122.149 L2659.02 118.214 Z\" fill=\"#000000\" fill-rule=\"evenodd\" fill-opacity=\"1\" /><path clip-path=\"url(#clip480)\" d=\"M2688.37 116.27 L2693.26 116.27 L2693.26 122.149 L2688.37 122.149 L2688.37 116.27 Z\" fill=\"#000000\" fill-rule=\"evenodd\" fill-opacity=\"1\" /><path clip-path=\"url(#clip480)\" d=\"M2713.44 90.6678 Q2709.83 90.6678 2708 94.2326 Q2706.2 97.7742 2706.2 104.904 Q2706.2 112.01 2708 115.575 Q2709.83 119.117 2713.44 119.117 Q2717.08 119.117 2718.88 115.575 Q2720.71 112.01 2720.71 104.904 Q2720.71 97.7742 2718.88 94.2326 Q2717.08 90.6678 2713.44 90.6678 M2713.44 86.9641 Q2719.25 86.9641 2722.31 91.5706 Q2725.39 96.1539 2725.39 104.904 Q2725.39 113.631 2722.31 118.237 Q2719.25 122.82 2713.44 122.82 Q2707.63 122.82 2704.55 118.237 Q2701.5 113.631 2701.5 104.904 Q2701.5 96.1539 2704.55 91.5706 Q2707.63 86.9641 2713.44 86.9641 Z\" fill=\"#000000\" fill-rule=\"evenodd\" fill-opacity=\"1\" /><polyline clip-path=\"url(#clip483)\" style=\"stroke:#009af9; stroke-linecap:butt; stroke-linejoin:round; stroke-width:8; stroke-opacity:1; fill:none\" points=\"\n",
       "  2049.79,2025.7 2057.13,1616.33 2064.46,1379.66 2071.79,1243.6 2079.12,1165.83 2086.46,1121.64 2093.79,1096.68 2101.12,1082.66 2108.45,1074.84 2115.79,1070.51 \n",
       "  2123.12,1068.12 2130.45,1066.81 2137.78,1066.1 2145.12,1065.72 2152.45,1065.52 2159.78,1065.41 2167.11,1065.35 2174.45,1065.32 2181.78,1065.3 2189.11,1065.29 \n",
       "  2196.44,1065.29 2203.78,1065.29 2211.11,1065.29 2218.44,1065.29 2225.78,1065.29 2233.11,1065.29 2240.44,1065.29 2247.77,1065.29 2255.11,1065.29 2262.44,1065.29 \n",
       "  2269.77,1065.29 2277.1,1065.29 2284.44,1065.29 2291.77,1065.29 2299.1,1065.29 2306.43,1065.29 2313.77,1065.29 2321.1,1065.29 2328.43,1065.29 2335.76,1065.29 \n",
       "  2343.1,1065.29 2350.43,1065.29 2357.76,1065.29 2365.09,1065.29 2372.43,1065.29 2379.76,1065.29 2387.09,1065.29 2394.42,1065.29 2401.76,1065.29 2409.09,1065.29 \n",
       "  2416.42,1065.29 2423.76,1065.29 2431.09,1065.29 2438.42,1065.29 2445.75,1065.29 2453.09,1065.29 2460.42,1065.29 2467.75,1065.29 2475.08,1065.29 2482.42,1065.29 \n",
       "  2489.75,1065.29 2497.08,1065.29 2504.41,1065.29 2511.75,1065.29 2519.08,1065.29 2526.41,1065.29 2533.74,1065.29 2541.08,1065.29 2548.41,1065.29 2555.74,1065.29 \n",
       "  2563.07,1065.29 2570.41,1065.29 2577.74,1065.29 2585.07,1065.29 2592.41,1065.29 2599.74,1065.29 2607.07,1065.29 2614.4,1065.29 2621.74,1065.29 2629.07,1065.29 \n",
       "  2636.4,1065.29 2643.73,1065.29 2651.07,1065.29 2658.4,1065.29 2665.73,1065.29 2673.06,1065.29 2680.4,1065.29 2687.73,1065.29 2695.06,1065.29 2702.39,1065.29 \n",
       "  2709.73,1065.29 2717.06,1065.29 2724.39,1065.29 2731.72,1065.29 2739.06,1065.29 2746.39,1065.29 2753.72,1065.29 2761.05,1065.29 2768.39,1065.29 2775.72,1065.29 \n",
       "  2783.05,1065.29 2790.39,1065.29 2797.72,1065.29 2805.05,1065.29 2812.38,1065.29 2819.72,1065.29 2827.05,1065.29 2834.38,1065.29 2841.71,1065.29 2849.05,1065.29 \n",
       "  2856.38,1065.29 2863.71,1065.29 2871.04,1065.29 2878.38,1065.29 2885.71,1065.29 2893.04,1065.29 2900.37,1065.29 2907.71,1065.29 2915.04,1065.29 2922.37,1065.29 \n",
       "  2929.7,1065.29 2937.04,1065.29 2944.37,1065.29 2951.7,1065.29 2959.04,1065.29 2966.37,1065.29 2973.7,1065.29 2981.03,1065.29 2988.37,1065.29 2995.7,1065.29 \n",
       "  3003.03,1065.29 3010.36,1065.29 3017.7,1065.29 3025.03,1065.29 3032.36,1065.29 3039.69,1065.29 3047.03,1065.29 3054.36,1065.29 3061.69,1065.29 3069.02,1065.29 \n",
       "  3076.36,1065.29 3083.69,1065.29 3091.02,1065.29 3098.35,1065.29 3105.69,1065.29 3113.02,1065.29 3120.35,1065.29 3127.69,1065.29 3135.02,1065.29 3142.35,1065.29 \n",
       "  3149.68,1065.29 3157.02,1065.29 3164.35,1065.29 3171.68,1065.29 3179.01,1065.29 3186.35,1065.29 3193.68,1065.29 3201.01,1065.29 3208.34,1065.29 3215.68,1065.29 \n",
       "  3223.01,1065.29 3230.34,1065.29 3237.67,1065.29 3245.01,1065.29 3252.34,1065.29 3259.67,1065.29 3267,1065.29 3274.34,1065.29 3281.67,1065.29 3289,1065.29 \n",
       "  3296.33,1065.29 3303.67,1065.29 3311,1065.29 3318.33,1065.29 3325.67,1065.29 3333,1065.29 3340.33,1065.29 3347.66,1065.28 3355,1065.28 3362.33,1065.28 \n",
       "  3369.66,1065.28 3376.99,1065.27 3384.33,1065.25 3391.66,1065.22 3398.99,1065.17 3406.32,1065.06 3413.66,1064.85 3420.99,1064.47 3428.32,1063.76 3435.65,1062.45 \n",
       "  3442.99,1060.06 3450.32,1055.73 3457.65,1047.91 3464.98,1033.89 3472.32,1008.93 3479.65,964.737 3486.98,886.969 3494.32,750.914 3501.65,514.246 3508.98,104.869 \n",
       "  \n",
       "  \"/>\n",
       "<polyline clip-path=\"url(#clip483)\" style=\"stroke:#e26f46; stroke-linecap:butt; stroke-linejoin:round; stroke-width:8; stroke-opacity:1; fill:none\" points=\"\n",
       "  2049.79,2025.7 2057.13,1605.31 2064.46,1367.15 2071.79,1233.01 2079.12,1157.91 2086.46,1116.12 2093.79,1093.01 2101.12,1080.3 2108.45,1073.37 2115.79,1069.61 \n",
       "  2123.12,1067.58 2130.45,1066.49 2137.78,1065.92 2145.12,1065.61 2152.45,1065.46 2159.78,1065.37 2167.11,1065.33 2174.45,1065.31 2181.78,1065.3 2189.11,1065.29 \n",
       "  2196.44,1065.29 2203.78,1065.29 2211.11,1065.29 2218.44,1065.29 2225.78,1065.29 2233.11,1065.29 2240.44,1065.29 2247.77,1065.29 2255.11,1065.29 2262.44,1065.29 \n",
       "  2269.77,1065.29 2277.1,1065.29 2284.44,1065.29 2291.77,1065.29 2299.1,1065.29 2306.43,1065.29 2313.77,1065.29 2321.1,1065.29 2328.43,1065.29 2335.76,1065.29 \n",
       "  2343.1,1065.29 2350.43,1065.29 2357.76,1065.29 2365.09,1065.29 2372.43,1065.29 2379.76,1065.29 2387.09,1065.29 2394.42,1065.29 2401.76,1065.29 2409.09,1065.29 \n",
       "  2416.42,1065.29 2423.76,1065.29 2431.09,1065.29 2438.42,1065.29 2445.75,1065.29 2453.09,1065.29 2460.42,1065.29 2467.75,1065.29 2475.08,1065.29 2482.42,1065.29 \n",
       "  2489.75,1065.29 2497.08,1065.29 2504.41,1065.29 2511.75,1065.29 2519.08,1065.29 2526.41,1065.29 2533.74,1065.29 2541.08,1065.29 2548.41,1065.29 2555.74,1065.29 \n",
       "  2563.07,1065.29 2570.41,1065.29 2577.74,1065.29 2585.07,1065.29 2592.41,1065.29 2599.74,1065.29 2607.07,1065.29 2614.4,1065.29 2621.74,1065.29 2629.07,1065.29 \n",
       "  2636.4,1065.29 2643.73,1065.29 2651.07,1065.29 2658.4,1065.29 2665.73,1065.29 2673.06,1065.29 2680.4,1065.29 2687.73,1065.29 2695.06,1065.29 2702.39,1065.29 \n",
       "  2709.73,1065.29 2717.06,1065.29 2724.39,1065.29 2731.72,1065.29 2739.06,1065.29 2746.39,1065.29 2753.72,1065.29 2761.05,1065.29 2768.39,1065.29 2775.72,1065.29 \n",
       "  2783.05,1065.29 2790.39,1065.29 2797.72,1065.29 2805.05,1065.29 2812.38,1065.29 2819.72,1065.29 2827.05,1065.29 2834.38,1065.29 2841.71,1065.29 2849.05,1065.29 \n",
       "  2856.38,1065.29 2863.71,1065.29 2871.04,1065.29 2878.38,1065.29 2885.71,1065.29 2893.04,1065.29 2900.37,1065.29 2907.71,1065.29 2915.04,1065.29 2922.37,1065.29 \n",
       "  2929.7,1065.29 2937.04,1065.29 2944.37,1065.29 2951.7,1065.29 2959.04,1065.29 2966.37,1065.29 2973.7,1065.29 2981.03,1065.29 2988.37,1065.29 2995.7,1065.29 \n",
       "  3003.03,1065.29 3010.36,1065.29 3017.7,1065.29 3025.03,1065.29 3032.36,1065.29 3039.69,1065.29 3047.03,1065.29 3054.36,1065.29 3061.69,1065.29 3069.02,1065.29 \n",
       "  3076.36,1065.29 3083.69,1065.29 3091.02,1065.29 3098.35,1065.29 3105.69,1065.29 3113.02,1065.29 3120.35,1065.29 3127.69,1065.29 3135.02,1065.29 3142.35,1065.29 \n",
       "  3149.68,1065.29 3157.02,1065.29 3164.35,1065.29 3171.68,1065.29 3179.01,1065.29 3186.35,1065.29 3193.68,1065.29 3201.01,1065.29 3208.34,1065.29 3215.68,1065.29 \n",
       "  3223.01,1065.29 3230.34,1065.29 3237.67,1065.29 3245.01,1065.29 3252.34,1065.29 3259.67,1065.29 3267,1065.29 3274.34,1065.29 3281.67,1065.29 3289,1065.29 \n",
       "  3296.33,1065.29 3303.67,1065.29 3311,1065.29 3318.33,1065.29 3325.67,1065.29 3333,1065.29 3340.33,1065.29 3347.66,1065.29 3355,1065.28 3362.33,1065.28 \n",
       "  3369.66,1065.28 3376.99,1065.27 3384.33,1065.26 3391.66,1065.24 3398.99,1065.2 3406.32,1065.12 3413.66,1064.96 3420.99,1064.65 3428.32,1064.08 3435.65,1062.99 \n",
       "  3442.99,1060.97 3450.32,1057.2 3457.65,1050.27 3464.98,1037.57 3472.32,1014.45 3479.65,972.659 3486.98,897.56 3494.32,763.425 3501.65,525.267 3508.98,104.869 \n",
       "  \n",
       "  \"/>\n",
       "<path clip-path=\"url(#clip480)\" d=\"\n",
       "M3266.86 270.634 L3501.2 270.634 L3501.2 115.114 L3266.86 115.114  Z\n",
       "  \" fill=\"#ffffff\" fill-rule=\"evenodd\" fill-opacity=\"1\"/>\n",
       "<polyline clip-path=\"url(#clip480)\" style=\"stroke:#000000; stroke-linecap:butt; stroke-linejoin:round; stroke-width:4; stroke-opacity:1; fill:none\" points=\"\n",
       "  3266.86,270.634 3501.2,270.634 3501.2,115.114 3266.86,115.114 3266.86,270.634 \n",
       "  \"/>\n",
       "<polyline clip-path=\"url(#clip480)\" style=\"stroke:#009af9; stroke-linecap:butt; stroke-linejoin:round; stroke-width:4; stroke-opacity:1; fill:none\" points=\"\n",
       "  3284.05,166.954 3387.16,166.954 \n",
       "  \"/>\n",
       "<path clip-path=\"url(#clip480)\" d=\"M3429 158.308 L3419.63 170.923 L3429.49 184.234 L3424.47 184.234 L3416.92 174.048 L3409.37 184.234 L3404.35 184.234 L3414.42 170.669 L3405.21 158.308 L3410.23 158.308 L3417.1 167.544 L3423.98 158.308 L3429 158.308 Z\" fill=\"#000000\" fill-rule=\"evenodd\" fill-opacity=\"1\" /><path clip-path=\"url(#clip480)\" d=\"M3434.33 149.442 L3446.13 149.442 L3446.13 151.641 L3437.08 151.641 L3437.08 156.363 Q3437.73 156.155 3438.4 156.062 Q3439.05 155.97 3439.7 155.97 Q3443.42 155.97 3445.6 157.752 Q3447.78 159.511 3447.78 162.544 Q3447.78 165.669 3445.53 167.405 Q3443.31 169.118 3439.23 169.118 Q3437.84 169.118 3436.39 168.91 Q3434.93 168.701 3433.4 168.285 L3433.4 165.669 Q3434.72 166.294 3436.15 166.618 Q3437.59 166.919 3439.19 166.919 Q3441.76 166.919 3443.26 165.738 Q3444.77 164.558 3444.77 162.544 Q3444.77 160.53 3443.26 159.349 Q3441.76 158.169 3439.19 158.169 Q3437.98 158.169 3436.78 158.4 Q3435.58 158.632 3434.33 159.118 L3434.33 149.442 Z\" fill=\"#000000\" fill-rule=\"evenodd\" fill-opacity=\"1\" /><path clip-path=\"url(#clip480)\" d=\"M3453.33 149.442 L3465.14 149.442 L3465.14 151.641 L3456.09 151.641 L3456.09 156.363 Q3456.73 156.155 3457.4 156.062 Q3458.05 155.97 3458.7 155.97 Q3462.43 155.97 3464.6 157.752 Q3466.78 159.511 3466.78 162.544 Q3466.78 165.669 3464.53 167.405 Q3462.31 169.118 3458.24 169.118 Q3456.85 169.118 3455.39 168.91 Q3453.93 168.701 3452.4 168.285 L3452.4 165.669 Q3453.72 166.294 3455.16 166.618 Q3456.59 166.919 3458.19 166.919 Q3460.76 166.919 3462.27 165.738 Q3463.77 164.558 3463.77 162.544 Q3463.77 160.53 3462.27 159.349 Q3460.76 158.169 3458.19 158.169 Q3456.99 158.169 3455.78 158.4 Q3454.58 158.632 3453.33 159.118 L3453.33 149.442 Z\" fill=\"#000000\" fill-rule=\"evenodd\" fill-opacity=\"1\" /><polyline clip-path=\"url(#clip480)\" style=\"stroke:#e26f46; stroke-linecap:butt; stroke-linejoin:round; stroke-width:4; stroke-opacity:1; fill:none\" points=\"\n",
       "  3284.05,218.794 3387.16,218.794 \n",
       "  \"/>\n",
       "<path clip-path=\"url(#clip480)\" d=\"M3429 210.148 L3419.63 222.763 L3429.49 236.074 L3424.47 236.074 L3416.92 225.888 L3409.37 236.074 L3404.35 236.074 L3414.42 222.509 L3405.21 210.148 L3410.23 210.148 L3417.1 219.384 L3423.98 210.148 L3429 210.148 Z\" fill=\"#000000\" fill-rule=\"evenodd\" fill-opacity=\"1\" /><path clip-path=\"url(#clip480)\" d=\"M3434.33 201.282 L3446.13 201.282 L3446.13 203.481 L3437.08 203.481 L3437.08 208.203 Q3437.73 207.995 3438.4 207.902 Q3439.05 207.81 3439.7 207.81 Q3443.42 207.81 3445.6 209.592 Q3447.78 211.351 3447.78 214.384 Q3447.78 217.509 3445.53 219.245 Q3443.31 220.958 3439.23 220.958 Q3437.84 220.958 3436.39 220.75 Q3434.93 220.541 3433.4 220.125 L3433.4 217.509 Q3434.72 218.134 3436.15 218.458 Q3437.59 218.759 3439.19 218.759 Q3441.76 218.759 3443.26 217.578 Q3444.77 216.398 3444.77 214.384 Q3444.77 212.37 3443.26 211.189 Q3441.76 210.009 3439.19 210.009 Q3437.98 210.009 3436.78 210.24 Q3435.58 210.472 3434.33 210.958 L3434.33 201.282 Z\" fill=\"#000000\" fill-rule=\"evenodd\" fill-opacity=\"1\" /><path clip-path=\"url(#clip480)\" d=\"M3452.54 201.282 L3466.83 201.282 L3466.83 202.393 L3458.77 220.611 L3455.62 220.611 L3463.21 203.481 L3452.54 203.481 L3452.54 201.282 Z\" fill=\"#000000\" fill-rule=\"evenodd\" fill-opacity=\"1\" /></svg>\n"
      ]
     },
     "execution_count": 21,
     "metadata": {},
     "output_type": "execute_result"
    }
   ],
   "source": [
    "v = [0.5,0.5]\n",
    "θ = π / 180\n",
    "c, s = [cos(θ), sin(θ)]\n",
    "w = [[c,s] [-s,c]] * v\n",
    "p = plot([[0,v[1]] [0,w[1]]], [[0,v[2]] [0,w[2]]]\n",
    "    , aspect_ratio = :equal\n",
    "    , lim=(-.8,.8)\n",
    "    , framestyle = :origin\n",
    "    )\n",
    "\n",
    "f = Func{Float64}(x->x^55)\n",
    "g = Func{Float64}(x->x^57)\n",
    "x = LinRange(-1,1,200)\n",
    "q = plot(x, [f[x] g[x]], label=[\"x⁵⁵\" \"x⁵⁷\"], framestyle=:origin)\n",
    "plot(p,q,layout=(1,2))"
   ]
  },
  {
   "cell_type": "markdown",
   "id": "d3da2c95",
   "metadata": {
    "slideshow": {
     "slide_type": "subslide"
    }
   },
   "source": [
    "## Using Gram-Schmidt to create orthonormal bases"
   ]
  },
  {
   "cell_type": "markdown",
   "id": "3f760ccc",
   "metadata": {},
   "source": [
    "Suppose we want a good basis of functions for $\\mathcal{P}^5[-1,1]$: polynomials up to degree 5 on the interval $[-1,1]$."
   ]
  },
  {
   "cell_type": "markdown",
   "id": "775b17da",
   "metadata": {
    "slideshow": {
     "slide_type": "subslide"
    }
   },
   "source": [
    "### Start with a basis that is easy to define and evaluate: the _monomial basis_\n",
    "\n",
    "The monomial basis is $\\{x^0, x^1, x^2, x^3, x^4, x^5\\}$"
   ]
  },
  {
   "cell_type": "code",
   "execution_count": 22,
   "id": "51526a2d",
   "metadata": {},
   "outputs": [
    {
     "data": {
      "image/svg+xml": [
       "<?xml version=\"1.0\" encoding=\"utf-8\"?>\n",
       "<svg xmlns=\"http://www.w3.org/2000/svg\" xmlns:xlink=\"http://www.w3.org/1999/xlink\" width=\"900\" height=\"550\" viewBox=\"0 0 3600 2200\">\n",
       "<defs>\n",
       "  <clipPath id=\"clip520\">\n",
       "    <rect x=\"0\" y=\"0\" width=\"3600\" height=\"2200\"/>\n",
       "  </clipPath>\n",
       "</defs>\n",
       "<path clip-path=\"url(#clip520)\" d=\"\n",
       "M0 2200 L3600 2200 L3600 0 L0 0  Z\n",
       "  \" fill=\"#ffffff\" fill-rule=\"evenodd\" fill-opacity=\"1\"/>\n",
       "<defs>\n",
       "  <clipPath id=\"clip521\">\n",
       "    <rect x=\"720\" y=\"0\" width=\"2521\" height=\"2200\"/>\n",
       "  </clipPath>\n",
       "</defs>\n",
       "<path clip-path=\"url(#clip520)\" d=\"\n",
       "M205.936 2083.33 L3552.76 2083.33 L3552.76 47.2441 L205.936 47.2441  Z\n",
       "  \" fill=\"#ffffff\" fill-rule=\"evenodd\" fill-opacity=\"1\"/>\n",
       "<defs>\n",
       "  <clipPath id=\"clip522\">\n",
       "    <rect x=\"205\" y=\"47\" width=\"3348\" height=\"2037\"/>\n",
       "  </clipPath>\n",
       "</defs>\n",
       "<polyline clip-path=\"url(#clip522)\" style=\"stroke:#000000; stroke-linecap:butt; stroke-linejoin:round; stroke-width:2; stroke-opacity:0.1; fill:none\" points=\"\n",
       "  300.657,2083.33 300.657,47.2441 \n",
       "  \"/>\n",
       "<polyline clip-path=\"url(#clip522)\" style=\"stroke:#000000; stroke-linecap:butt; stroke-linejoin:round; stroke-width:2; stroke-opacity:0.1; fill:none\" points=\"\n",
       "  1090,2083.33 1090,47.2441 \n",
       "  \"/>\n",
       "<polyline clip-path=\"url(#clip522)\" style=\"stroke:#000000; stroke-linecap:butt; stroke-linejoin:round; stroke-width:2; stroke-opacity:0.1; fill:none\" points=\"\n",
       "  2668.69,2083.33 2668.69,47.2441 \n",
       "  \"/>\n",
       "<polyline clip-path=\"url(#clip522)\" style=\"stroke:#000000; stroke-linecap:butt; stroke-linejoin:round; stroke-width:2; stroke-opacity:0.1; fill:none\" points=\"\n",
       "  3458.03,2083.33 3458.03,47.2441 \n",
       "  \"/>\n",
       "<polyline clip-path=\"url(#clip520)\" style=\"stroke:#000000; stroke-linecap:butt; stroke-linejoin:round; stroke-width:4; stroke-opacity:1; fill:none\" points=\"\n",
       "  205.936,1065.29 3552.76,1065.29 \n",
       "  \"/>\n",
       "<polyline clip-path=\"url(#clip520)\" style=\"stroke:#000000; stroke-linecap:butt; stroke-linejoin:round; stroke-width:4; stroke-opacity:1; fill:none\" points=\"\n",
       "  300.657,1084.18 300.657,1046.39 \n",
       "  \"/>\n",
       "<polyline clip-path=\"url(#clip520)\" style=\"stroke:#000000; stroke-linecap:butt; stroke-linejoin:round; stroke-width:4; stroke-opacity:1; fill:none\" points=\"\n",
       "  1090,1084.18 1090,1046.39 \n",
       "  \"/>\n",
       "<polyline clip-path=\"url(#clip520)\" style=\"stroke:#000000; stroke-linecap:butt; stroke-linejoin:round; stroke-width:4; stroke-opacity:1; fill:none\" points=\"\n",
       "  2668.69,1084.18 2668.69,1046.39 \n",
       "  \"/>\n",
       "<polyline clip-path=\"url(#clip520)\" style=\"stroke:#000000; stroke-linecap:butt; stroke-linejoin:round; stroke-width:4; stroke-opacity:1; fill:none\" points=\"\n",
       "  3458.03,1084.18 3458.03,1046.39 \n",
       "  \"/>\n",
       "<path clip-path=\"url(#clip520)\" d=\"M247.185 1120.46 L276.861 1120.46 L276.861 1124.39 L247.185 1124.39 L247.185 1120.46 Z\" fill=\"#000000\" fill-rule=\"evenodd\" fill-opacity=\"1\" /><path clip-path=\"url(#clip520)\" d=\"M287.764 1133.35 L295.403 1133.35 L295.403 1106.99 L287.093 1108.65 L287.093 1104.39 L295.356 1102.73 L300.032 1102.73 L300.032 1133.35 L307.671 1133.35 L307.671 1137.29 L287.764 1137.29 L287.764 1133.35 Z\" fill=\"#000000\" fill-rule=\"evenodd\" fill-opacity=\"1\" /><path clip-path=\"url(#clip520)\" d=\"M317.116 1131.41 L322 1131.41 L322 1137.29 L317.116 1137.29 L317.116 1131.41 Z\" fill=\"#000000\" fill-rule=\"evenodd\" fill-opacity=\"1\" /><path clip-path=\"url(#clip520)\" d=\"M342.185 1105.8 Q338.574 1105.8 336.745 1109.37 Q334.94 1112.91 334.94 1120.04 Q334.94 1127.15 336.745 1130.71 Q338.574 1134.25 342.185 1134.25 Q345.819 1134.25 347.625 1130.71 Q349.453 1127.15 349.453 1120.04 Q349.453 1112.91 347.625 1109.37 Q345.819 1105.8 342.185 1105.8 M342.185 1102.1 Q347.995 1102.1 351.051 1106.71 Q354.129 1111.29 354.129 1120.04 Q354.129 1128.77 351.051 1133.37 Q347.995 1137.96 342.185 1137.96 Q336.375 1137.96 333.296 1133.37 Q330.24 1128.77 330.24 1120.04 Q330.24 1111.29 333.296 1106.71 Q336.375 1102.1 342.185 1102.1 Z\" fill=\"#000000\" fill-rule=\"evenodd\" fill-opacity=\"1\" /><path clip-path=\"url(#clip520)\" d=\"M1037.03 1120.46 L1066.7 1120.46 L1066.7 1124.39 L1037.03 1124.39 L1037.03 1120.46 Z\" fill=\"#000000\" fill-rule=\"evenodd\" fill-opacity=\"1\" /><path clip-path=\"url(#clip520)\" d=\"M1086.8 1105.8 Q1083.18 1105.8 1081.36 1109.37 Q1079.55 1112.91 1079.55 1120.04 Q1079.55 1127.15 1081.36 1130.71 Q1083.18 1134.25 1086.8 1134.25 Q1090.43 1134.25 1092.24 1130.71 Q1094.06 1127.15 1094.06 1120.04 Q1094.06 1112.91 1092.24 1109.37 Q1090.43 1105.8 1086.8 1105.8 M1086.8 1102.1 Q1092.61 1102.1 1095.66 1106.71 Q1098.74 1111.29 1098.74 1120.04 Q1098.74 1128.77 1095.66 1133.37 Q1092.61 1137.96 1086.8 1137.96 Q1080.99 1137.96 1077.91 1133.37 Q1074.85 1128.77 1074.85 1120.04 Q1074.85 1111.29 1077.91 1106.71 Q1080.99 1102.1 1086.8 1102.1 Z\" fill=\"#000000\" fill-rule=\"evenodd\" fill-opacity=\"1\" /><path clip-path=\"url(#clip520)\" d=\"M1106.96 1131.41 L1111.84 1131.41 L1111.84 1137.29 L1106.96 1137.29 L1106.96 1131.41 Z\" fill=\"#000000\" fill-rule=\"evenodd\" fill-opacity=\"1\" /><path clip-path=\"url(#clip520)\" d=\"M1122.07 1102.73 L1140.43 1102.73 L1140.43 1106.66 L1126.36 1106.66 L1126.36 1115.13 Q1127.37 1114.79 1128.39 1114.62 Q1129.41 1114.44 1130.43 1114.44 Q1136.22 1114.44 1139.6 1117.61 Q1142.98 1120.78 1142.98 1126.2 Q1142.98 1131.78 1139.5 1134.88 Q1136.03 1137.96 1129.71 1137.96 Q1127.54 1137.96 1125.27 1137.59 Q1123.02 1137.22 1120.61 1136.48 L1120.61 1131.78 Q1122.7 1132.91 1124.92 1133.47 Q1127.14 1134.02 1129.62 1134.02 Q1133.62 1134.02 1135.96 1131.92 Q1138.3 1129.81 1138.3 1126.2 Q1138.3 1122.59 1135.96 1120.48 Q1133.62 1118.37 1129.62 1118.37 Q1127.74 1118.37 1125.87 1118.79 Q1124.02 1119.21 1122.07 1120.09 L1122.07 1102.73 Z\" fill=\"#000000\" fill-rule=\"evenodd\" fill-opacity=\"1\" /><path clip-path=\"url(#clip520)\" d=\"M2646.57 1105.8 Q2642.96 1105.8 2641.13 1109.37 Q2639.33 1112.91 2639.33 1120.04 Q2639.33 1127.15 2641.13 1130.71 Q2642.96 1134.25 2646.57 1134.25 Q2650.21 1134.25 2652.01 1130.71 Q2653.84 1127.15 2653.84 1120.04 Q2653.84 1112.91 2652.01 1109.37 Q2650.21 1105.8 2646.57 1105.8 M2646.57 1102.1 Q2652.38 1102.1 2655.44 1106.71 Q2658.52 1111.29 2658.52 1120.04 Q2658.52 1128.77 2655.44 1133.37 Q2652.38 1137.96 2646.57 1137.96 Q2640.76 1137.96 2637.68 1133.37 Q2634.63 1128.77 2634.63 1120.04 Q2634.63 1111.29 2637.68 1106.71 Q2640.76 1102.1 2646.57 1102.1 Z\" fill=\"#000000\" fill-rule=\"evenodd\" fill-opacity=\"1\" /><path clip-path=\"url(#clip520)\" d=\"M2666.73 1131.41 L2671.62 1131.41 L2671.62 1137.29 L2666.73 1137.29 L2666.73 1131.41 Z\" fill=\"#000000\" fill-rule=\"evenodd\" fill-opacity=\"1\" /><path clip-path=\"url(#clip520)\" d=\"M2681.85 1102.73 L2700.21 1102.73 L2700.21 1106.66 L2686.13 1106.66 L2686.13 1115.13 Q2687.15 1114.79 2688.17 1114.62 Q2689.19 1114.44 2690.21 1114.44 Q2695.99 1114.44 2699.37 1117.61 Q2702.75 1120.78 2702.75 1126.2 Q2702.75 1131.78 2699.28 1134.88 Q2695.81 1137.96 2689.49 1137.96 Q2687.31 1137.96 2685.04 1137.59 Q2682.8 1137.22 2680.39 1136.48 L2680.39 1131.78 Q2682.47 1132.91 2684.7 1133.47 Q2686.92 1134.02 2689.4 1134.02 Q2693.4 1134.02 2695.74 1131.92 Q2698.08 1129.81 2698.08 1126.2 Q2698.08 1122.59 2695.74 1120.48 Q2693.4 1118.37 2689.4 1118.37 Q2687.52 1118.37 2685.65 1118.79 Q2683.79 1119.21 2681.85 1120.09 L2681.85 1102.73 Z\" fill=\"#000000\" fill-rule=\"evenodd\" fill-opacity=\"1\" /><path clip-path=\"url(#clip520)\" d=\"M3425.19 1133.35 L3432.83 1133.35 L3432.83 1106.99 L3424.52 1108.65 L3424.52 1104.39 L3432.78 1102.73 L3437.46 1102.73 L3437.46 1133.35 L3445.09 1133.35 L3445.09 1137.29 L3425.19 1137.29 L3425.19 1133.35 Z\" fill=\"#000000\" fill-rule=\"evenodd\" fill-opacity=\"1\" /><path clip-path=\"url(#clip520)\" d=\"M3454.54 1131.41 L3459.42 1131.41 L3459.42 1137.29 L3454.54 1137.29 L3454.54 1131.41 Z\" fill=\"#000000\" fill-rule=\"evenodd\" fill-opacity=\"1\" /><path clip-path=\"url(#clip520)\" d=\"M3479.61 1105.8 Q3476 1105.8 3474.17 1109.37 Q3472.36 1112.91 3472.36 1120.04 Q3472.36 1127.15 3474.17 1130.71 Q3476 1134.25 3479.61 1134.25 Q3483.24 1134.25 3485.05 1130.71 Q3486.88 1127.15 3486.88 1120.04 Q3486.88 1112.91 3485.05 1109.37 Q3483.24 1105.8 3479.61 1105.8 M3479.61 1102.1 Q3485.42 1102.1 3488.47 1106.71 Q3491.55 1111.29 3491.55 1120.04 Q3491.55 1128.77 3488.47 1133.37 Q3485.42 1137.96 3479.61 1137.96 Q3473.8 1137.96 3470.72 1133.37 Q3467.66 1128.77 3467.66 1120.04 Q3467.66 1111.29 3470.72 1106.71 Q3473.8 1102.1 3479.61 1102.1 Z\" fill=\"#000000\" fill-rule=\"evenodd\" fill-opacity=\"1\" /><polyline clip-path=\"url(#clip522)\" style=\"stroke:#000000; stroke-linecap:butt; stroke-linejoin:round; stroke-width:2; stroke-opacity:0.1; fill:none\" points=\"\n",
       "  205.936,2025.7 3552.76,2025.7 \n",
       "  \"/>\n",
       "<polyline clip-path=\"url(#clip522)\" style=\"stroke:#000000; stroke-linecap:butt; stroke-linejoin:round; stroke-width:2; stroke-opacity:0.1; fill:none\" points=\"\n",
       "  205.936,1545.49 3552.76,1545.49 \n",
       "  \"/>\n",
       "<polyline clip-path=\"url(#clip522)\" style=\"stroke:#000000; stroke-linecap:butt; stroke-linejoin:round; stroke-width:2; stroke-opacity:0.1; fill:none\" points=\"\n",
       "  205.936,585.078 3552.76,585.078 \n",
       "  \"/>\n",
       "<polyline clip-path=\"url(#clip522)\" style=\"stroke:#000000; stroke-linecap:butt; stroke-linejoin:round; stroke-width:2; stroke-opacity:0.1; fill:none\" points=\"\n",
       "  205.936,104.869 3552.76,104.869 \n",
       "  \"/>\n",
       "<polyline clip-path=\"url(#clip520)\" style=\"stroke:#000000; stroke-linecap:butt; stroke-linejoin:round; stroke-width:4; stroke-opacity:1; fill:none\" points=\"\n",
       "  1879.35,2083.33 1879.35,47.2441 \n",
       "  \"/>\n",
       "<polyline clip-path=\"url(#clip520)\" style=\"stroke:#000000; stroke-linecap:butt; stroke-linejoin:round; stroke-width:4; stroke-opacity:1; fill:none\" points=\"\n",
       "  1860.45,2025.7 1898.24,2025.7 \n",
       "  \"/>\n",
       "<polyline clip-path=\"url(#clip520)\" style=\"stroke:#000000; stroke-linecap:butt; stroke-linejoin:round; stroke-width:4; stroke-opacity:1; fill:none\" points=\"\n",
       "  1860.45,1545.49 1898.24,1545.49 \n",
       "  \"/>\n",
       "<polyline clip-path=\"url(#clip520)\" style=\"stroke:#000000; stroke-linecap:butt; stroke-linejoin:round; stroke-width:4; stroke-opacity:1; fill:none\" points=\"\n",
       "  1860.45,585.078 1898.24,585.078 \n",
       "  \"/>\n",
       "<polyline clip-path=\"url(#clip520)\" style=\"stroke:#000000; stroke-linecap:butt; stroke-linejoin:round; stroke-width:4; stroke-opacity:1; fill:none\" points=\"\n",
       "  1860.45,104.869 1898.24,104.869 \n",
       "  \"/>\n",
       "<path clip-path=\"url(#clip520)\" d=\"M1718.4 2026.15 L1748.08 2026.15 L1748.08 2030.09 L1718.4 2030.09 L1718.4 2026.15 Z\" fill=\"#000000\" fill-rule=\"evenodd\" fill-opacity=\"1\" /><path clip-path=\"url(#clip520)\" d=\"M1758.98 2039.05 L1766.62 2039.05 L1766.62 2012.68 L1758.31 2014.35 L1758.31 2010.09 L1766.57 2008.42 L1771.25 2008.42 L1771.25 2039.05 L1778.89 2039.05 L1778.89 2042.98 L1758.98 2042.98 L1758.98 2039.05 Z\" fill=\"#000000\" fill-rule=\"evenodd\" fill-opacity=\"1\" /><path clip-path=\"url(#clip520)\" d=\"M1788.33 2037.1 L1793.22 2037.1 L1793.22 2042.98 L1788.33 2042.98 L1788.33 2037.1 Z\" fill=\"#000000\" fill-rule=\"evenodd\" fill-opacity=\"1\" /><path clip-path=\"url(#clip520)\" d=\"M1813.4 2011.5 Q1809.79 2011.5 1807.96 2015.07 Q1806.16 2018.61 1806.16 2025.74 Q1806.16 2032.84 1807.96 2036.41 Q1809.79 2039.95 1813.4 2039.95 Q1817.04 2039.95 1818.84 2036.41 Q1820.67 2032.84 1820.67 2025.74 Q1820.67 2018.61 1818.84 2015.07 Q1817.04 2011.5 1813.4 2011.5 M1813.4 2007.8 Q1819.21 2007.8 1822.27 2012.4 Q1825.35 2016.99 1825.35 2025.74 Q1825.35 2034.46 1822.27 2039.07 Q1819.21 2043.65 1813.4 2043.65 Q1807.59 2043.65 1804.51 2039.07 Q1801.46 2034.46 1801.46 2025.74 Q1801.46 2016.99 1804.51 2012.4 Q1807.59 2007.8 1813.4 2007.8 Z\" fill=\"#000000\" fill-rule=\"evenodd\" fill-opacity=\"1\" /><path clip-path=\"url(#clip520)\" d=\"M1719.4 1545.95 L1749.07 1545.95 L1749.07 1549.88 L1719.4 1549.88 L1719.4 1545.95 Z\" fill=\"#000000\" fill-rule=\"evenodd\" fill-opacity=\"1\" /><path clip-path=\"url(#clip520)\" d=\"M1769.17 1531.29 Q1765.55 1531.29 1763.73 1534.86 Q1761.92 1538.4 1761.92 1545.53 Q1761.92 1552.64 1763.73 1556.2 Q1765.55 1559.74 1769.17 1559.74 Q1772.8 1559.74 1774.61 1556.2 Q1776.43 1552.64 1776.43 1545.53 Q1776.43 1538.4 1774.61 1534.86 Q1772.8 1531.29 1769.17 1531.29 M1769.17 1527.59 Q1774.98 1527.59 1778.03 1532.2 Q1781.11 1536.78 1781.11 1545.53 Q1781.11 1554.26 1778.03 1558.86 Q1774.98 1563.45 1769.17 1563.45 Q1763.36 1563.45 1760.28 1558.86 Q1757.22 1554.26 1757.22 1545.53 Q1757.22 1536.78 1760.28 1532.2 Q1763.36 1527.59 1769.17 1527.59 Z\" fill=\"#000000\" fill-rule=\"evenodd\" fill-opacity=\"1\" /><path clip-path=\"url(#clip520)\" d=\"M1789.33 1556.89 L1794.21 1556.89 L1794.21 1562.77 L1789.33 1562.77 L1789.33 1556.89 Z\" fill=\"#000000\" fill-rule=\"evenodd\" fill-opacity=\"1\" /><path clip-path=\"url(#clip520)\" d=\"M1804.44 1528.21 L1822.8 1528.21 L1822.8 1532.15 L1808.73 1532.15 L1808.73 1540.62 Q1809.74 1540.27 1810.76 1540.11 Q1811.78 1539.93 1812.8 1539.93 Q1818.59 1539.93 1821.97 1543.1 Q1825.35 1546.27 1825.35 1551.69 Q1825.35 1557.27 1821.87 1560.37 Q1818.4 1563.45 1812.08 1563.45 Q1809.91 1563.45 1807.64 1563.08 Q1805.39 1562.7 1802.98 1561.96 L1802.98 1557.27 Q1805.07 1558.4 1807.29 1558.95 Q1809.51 1559.51 1811.99 1559.51 Q1815.99 1559.51 1818.33 1557.4 Q1820.67 1555.3 1820.67 1551.69 Q1820.67 1548.08 1818.33 1545.97 Q1815.99 1543.86 1811.99 1543.86 Q1810.11 1543.86 1808.24 1544.28 Q1806.39 1544.7 1804.44 1545.58 L1804.44 1528.21 Z\" fill=\"#000000\" fill-rule=\"evenodd\" fill-opacity=\"1\" /><path clip-path=\"url(#clip520)\" d=\"M1769.17 570.876 Q1765.55 570.876 1763.73 574.441 Q1761.92 577.983 1761.92 585.112 Q1761.92 592.219 1763.73 595.784 Q1765.55 599.325 1769.17 599.325 Q1772.8 599.325 1774.61 595.784 Q1776.43 592.219 1776.43 585.112 Q1776.43 577.983 1774.61 574.441 Q1772.8 570.876 1769.17 570.876 M1769.17 567.173 Q1774.98 567.173 1778.03 571.779 Q1781.11 576.362 1781.11 585.112 Q1781.11 593.839 1778.03 598.446 Q1774.98 603.029 1769.17 603.029 Q1763.36 603.029 1760.28 598.446 Q1757.22 593.839 1757.22 585.112 Q1757.22 576.362 1760.28 571.779 Q1763.36 567.173 1769.17 567.173 Z\" fill=\"#000000\" fill-rule=\"evenodd\" fill-opacity=\"1\" /><path clip-path=\"url(#clip520)\" d=\"M1789.33 596.478 L1794.21 596.478 L1794.21 602.358 L1789.33 602.358 L1789.33 596.478 Z\" fill=\"#000000\" fill-rule=\"evenodd\" fill-opacity=\"1\" /><path clip-path=\"url(#clip520)\" d=\"M1804.44 567.798 L1822.8 567.798 L1822.8 571.733 L1808.73 571.733 L1808.73 580.205 Q1809.74 579.858 1810.76 579.696 Q1811.78 579.51 1812.8 579.51 Q1818.59 579.51 1821.97 582.682 Q1825.35 585.853 1825.35 591.27 Q1825.35 596.848 1821.87 599.95 Q1818.4 603.029 1812.08 603.029 Q1809.91 603.029 1807.64 602.658 Q1805.39 602.288 1802.98 601.547 L1802.98 596.848 Q1805.07 597.983 1807.29 598.538 Q1809.51 599.094 1811.99 599.094 Q1815.99 599.094 1818.33 596.987 Q1820.67 594.881 1820.67 591.27 Q1820.67 587.659 1818.33 585.552 Q1815.99 583.446 1811.99 583.446 Q1810.11 583.446 1808.24 583.862 Q1806.39 584.279 1804.44 585.159 L1804.44 567.798 Z\" fill=\"#000000\" fill-rule=\"evenodd\" fill-opacity=\"1\" /><path clip-path=\"url(#clip520)\" d=\"M1758.98 118.214 L1766.62 118.214 L1766.62 91.8483 L1758.31 93.515 L1758.31 89.2558 L1766.57 87.5891 L1771.25 87.5891 L1771.25 118.214 L1778.89 118.214 L1778.89 122.149 L1758.98 122.149 L1758.98 118.214 Z\" fill=\"#000000\" fill-rule=\"evenodd\" fill-opacity=\"1\" /><path clip-path=\"url(#clip520)\" d=\"M1788.33 116.27 L1793.22 116.27 L1793.22 122.149 L1788.33 122.149 L1788.33 116.27 Z\" fill=\"#000000\" fill-rule=\"evenodd\" fill-opacity=\"1\" /><path clip-path=\"url(#clip520)\" d=\"M1813.4 90.6678 Q1809.79 90.6678 1807.96 94.2326 Q1806.16 97.7742 1806.16 104.904 Q1806.16 112.01 1807.96 115.575 Q1809.79 119.117 1813.4 119.117 Q1817.04 119.117 1818.84 115.575 Q1820.67 112.01 1820.67 104.904 Q1820.67 97.7742 1818.84 94.2326 Q1817.04 90.6678 1813.4 90.6678 M1813.4 86.9641 Q1819.21 86.9641 1822.27 91.5706 Q1825.35 96.1539 1825.35 104.904 Q1825.35 113.631 1822.27 118.237 Q1819.21 122.82 1813.4 122.82 Q1807.59 122.82 1804.51 118.237 Q1801.46 113.631 1801.46 104.904 Q1801.46 96.1539 1804.51 91.5706 Q1807.59 86.9641 1813.4 86.9641 Z\" fill=\"#000000\" fill-rule=\"evenodd\" fill-opacity=\"1\" /><polyline clip-path=\"url(#clip522)\" style=\"stroke:#009af9; stroke-linecap:butt; stroke-linejoin:round; stroke-width:8; stroke-opacity:1; fill:none\" points=\"\n",
       "  300.657,104.869 316.524,104.869 332.39,104.869 348.256,104.869 364.122,104.869 379.988,104.869 395.855,104.869 411.721,104.869 427.587,104.869 443.453,104.869 \n",
       "  459.319,104.869 475.186,104.869 491.052,104.869 506.918,104.869 522.784,104.869 538.651,104.869 554.517,104.869 570.383,104.869 586.249,104.869 602.115,104.869 \n",
       "  617.982,104.869 633.848,104.869 649.714,104.869 665.58,104.869 681.447,104.869 697.313,104.869 713.179,104.869 729.045,104.869 744.911,104.869 760.778,104.869 \n",
       "  776.644,104.869 792.51,104.869 808.376,104.869 824.242,104.869 840.109,104.869 855.975,104.869 871.841,104.869 887.707,104.869 903.574,104.869 919.44,104.869 \n",
       "  935.306,104.869 951.172,104.869 967.038,104.869 982.905,104.869 998.771,104.869 1014.64,104.869 1030.5,104.869 1046.37,104.869 1062.24,104.869 1078.1,104.869 \n",
       "  1093.97,104.869 1109.83,104.869 1125.7,104.869 1141.57,104.869 1157.43,104.869 1173.3,104.869 1189.17,104.869 1205.03,104.869 1220.9,104.869 1236.76,104.869 \n",
       "  1252.63,104.869 1268.5,104.869 1284.36,104.869 1300.23,104.869 1316.1,104.869 1331.96,104.869 1347.83,104.869 1363.69,104.869 1379.56,104.869 1395.43,104.869 \n",
       "  1411.29,104.869 1427.16,104.869 1443.02,104.869 1458.89,104.869 1474.76,104.869 1490.62,104.869 1506.49,104.869 1522.36,104.869 1538.22,104.869 1554.09,104.869 \n",
       "  1569.95,104.869 1585.82,104.869 1601.69,104.869 1617.55,104.869 1633.42,104.869 1649.29,104.869 1665.15,104.869 1681.02,104.869 1696.88,104.869 1712.75,104.869 \n",
       "  1728.62,104.869 1744.48,104.869 1760.35,104.869 1776.22,104.869 1792.08,104.869 1807.95,104.869 1823.81,104.869 1839.68,104.869 1855.55,104.869 1871.41,104.869 \n",
       "  1887.28,104.869 1903.15,104.869 1919.01,104.869 1934.88,104.869 1950.74,104.869 1966.61,104.869 1982.48,104.869 1998.34,104.869 2014.21,104.869 2030.08,104.869 \n",
       "  2045.94,104.869 2061.81,104.869 2077.67,104.869 2093.54,104.869 2109.41,104.869 2125.27,104.869 2141.14,104.869 2157,104.869 2172.87,104.869 2188.74,104.869 \n",
       "  2204.6,104.869 2220.47,104.869 2236.34,104.869 2252.2,104.869 2268.07,104.869 2283.93,104.869 2299.8,104.869 2315.67,104.869 2331.53,104.869 2347.4,104.869 \n",
       "  2363.27,104.869 2379.13,104.869 2395,104.869 2410.86,104.869 2426.73,104.869 2442.6,104.869 2458.46,104.869 2474.33,104.869 2490.2,104.869 2506.06,104.869 \n",
       "  2521.93,104.869 2537.79,104.869 2553.66,104.869 2569.53,104.869 2585.39,104.869 2601.26,104.869 2617.13,104.869 2632.99,104.869 2648.86,104.869 2664.72,104.869 \n",
       "  2680.59,104.869 2696.46,104.869 2712.32,104.869 2728.19,104.869 2744.05,104.869 2759.92,104.869 2775.79,104.869 2791.65,104.869 2807.52,104.869 2823.39,104.869 \n",
       "  2839.25,104.869 2855.12,104.869 2870.98,104.869 2886.85,104.869 2902.72,104.869 2918.58,104.869 2934.45,104.869 2950.32,104.869 2966.18,104.869 2982.05,104.869 \n",
       "  2997.91,104.869 3013.78,104.869 3029.65,104.869 3045.51,104.869 3061.38,104.869 3077.25,104.869 3093.11,104.869 3108.98,104.869 3124.84,104.869 3140.71,104.869 \n",
       "  3156.58,104.869 3172.44,104.869 3188.31,104.869 3204.18,104.869 3220.04,104.869 3235.91,104.869 3251.77,104.869 3267.64,104.869 3283.51,104.869 3299.37,104.869 \n",
       "  3315.24,104.869 3331.1,104.869 3346.97,104.869 3362.84,104.869 3378.7,104.869 3394.57,104.869 3410.44,104.869 3426.3,104.869 3442.17,104.869 3458.03,104.869 \n",
       "  \n",
       "  \"/>\n",
       "<polyline clip-path=\"url(#clip522)\" style=\"stroke:#e26f46; stroke-linecap:butt; stroke-linejoin:round; stroke-width:8; stroke-opacity:1; fill:none\" points=\"\n",
       "  300.657,2025.7 316.524,2016.05 332.39,2006.4 348.256,1996.75 364.122,1987.09 379.988,1977.44 395.855,1967.79 411.721,1958.14 427.587,1948.48 443.453,1938.83 \n",
       "  459.319,1929.18 475.186,1919.53 491.052,1909.87 506.918,1900.22 522.784,1890.57 538.651,1880.92 554.517,1871.26 570.383,1861.61 586.249,1851.96 602.115,1842.31 \n",
       "  617.982,1832.65 633.848,1823 649.714,1813.35 665.58,1803.7 681.447,1794.04 697.313,1784.39 713.179,1774.74 729.045,1765.09 744.911,1755.43 760.778,1745.78 \n",
       "  776.644,1736.13 792.51,1726.48 808.376,1716.83 824.242,1707.17 840.109,1697.52 855.975,1687.87 871.841,1678.22 887.707,1668.56 903.574,1658.91 919.44,1649.26 \n",
       "  935.306,1639.61 951.172,1629.95 967.038,1620.3 982.905,1610.65 998.771,1601 1014.64,1591.34 1030.5,1581.69 1046.37,1572.04 1062.24,1562.39 1078.1,1552.73 \n",
       "  1093.97,1543.08 1109.83,1533.43 1125.7,1523.78 1141.57,1514.12 1157.43,1504.47 1173.3,1494.82 1189.17,1485.17 1205.03,1475.51 1220.9,1465.86 1236.76,1456.21 \n",
       "  1252.63,1446.56 1268.5,1436.9 1284.36,1427.25 1300.23,1417.6 1316.1,1407.95 1331.96,1398.29 1347.83,1388.64 1363.69,1378.99 1379.56,1369.34 1395.43,1359.69 \n",
       "  1411.29,1350.03 1427.16,1340.38 1443.02,1330.73 1458.89,1321.08 1474.76,1311.42 1490.62,1301.77 1506.49,1292.12 1522.36,1282.47 1538.22,1272.81 1554.09,1263.16 \n",
       "  1569.95,1253.51 1585.82,1243.86 1601.69,1234.2 1617.55,1224.55 1633.42,1214.9 1649.29,1205.25 1665.15,1195.59 1681.02,1185.94 1696.88,1176.29 1712.75,1166.64 \n",
       "  1728.62,1156.98 1744.48,1147.33 1760.35,1137.68 1776.22,1128.03 1792.08,1118.37 1807.95,1108.72 1823.81,1099.07 1839.68,1089.42 1855.55,1079.76 1871.41,1070.11 \n",
       "  1887.28,1060.46 1903.15,1050.81 1919.01,1041.15 1934.88,1031.5 1950.74,1021.85 1966.61,1012.2 1982.48,1002.55 1998.34,992.893 2014.21,983.24 2030.08,973.588 \n",
       "  2045.94,963.935 2061.81,954.283 2077.67,944.631 2093.54,934.978 2109.41,925.326 2125.27,915.673 2141.14,906.021 2157,896.368 2172.87,886.716 2188.74,877.064 \n",
       "  2204.6,867.411 2220.47,857.759 2236.34,848.106 2252.2,838.454 2268.07,828.801 2283.93,819.149 2299.8,809.497 2315.67,799.844 2331.53,790.192 2347.4,780.539 \n",
       "  2363.27,770.887 2379.13,761.234 2395,751.582 2410.86,741.93 2426.73,732.277 2442.6,722.625 2458.46,712.972 2474.33,703.32 2490.2,693.667 2506.06,684.015 \n",
       "  2521.93,674.363 2537.79,664.71 2553.66,655.058 2569.53,645.405 2585.39,635.753 2601.26,626.1 2617.13,616.448 2632.99,606.796 2648.86,597.143 2664.72,587.491 \n",
       "  2680.59,577.838 2696.46,568.186 2712.32,558.533 2728.19,548.881 2744.05,539.228 2759.92,529.576 2775.79,519.924 2791.65,510.271 2807.52,500.619 2823.39,490.966 \n",
       "  2839.25,481.314 2855.12,471.661 2870.98,462.009 2886.85,452.357 2902.72,442.704 2918.58,433.052 2934.45,423.399 2950.32,413.747 2966.18,404.094 2982.05,394.442 \n",
       "  2997.91,384.79 3013.78,375.137 3029.65,365.485 3045.51,355.832 3061.38,346.18 3077.25,336.527 3093.11,326.875 3108.98,317.223 3124.84,307.57 3140.71,297.918 \n",
       "  3156.58,288.265 3172.44,278.613 3188.31,268.96 3204.18,259.308 3220.04,249.656 3235.91,240.003 3251.77,230.351 3267.64,220.698 3283.51,211.046 3299.37,201.393 \n",
       "  3315.24,191.741 3331.1,182.089 3346.97,172.436 3362.84,162.784 3378.7,153.131 3394.57,143.479 3410.44,133.826 3426.3,124.174 3442.17,114.522 3458.03,104.869 \n",
       "  \n",
       "  \"/>\n",
       "<polyline clip-path=\"url(#clip522)\" style=\"stroke:#3da44d; stroke-linecap:butt; stroke-linejoin:round; stroke-width:8; stroke-opacity:1; fill:none\" points=\"\n",
       "  300.657,104.869 316.524,124.077 332.39,143.091 348.256,161.911 364.122,180.536 379.988,198.968 395.855,217.206 411.721,235.25 427.587,253.099 443.453,270.755 \n",
       "  459.319,288.217 475.186,305.484 491.052,322.558 506.918,339.438 522.784,356.123 538.651,372.615 554.517,388.913 570.383,405.016 586.249,420.926 602.115,436.641 \n",
       "  617.982,452.163 633.848,467.49 649.714,482.624 665.58,497.563 681.447,512.308 697.313,526.86 713.179,541.217 729.045,555.381 744.911,569.35 760.778,583.125 \n",
       "  776.644,596.707 792.51,610.094 808.376,623.287 824.242,636.286 840.109,649.092 855.975,661.703 871.841,674.12 887.707,686.343 903.574,698.372 919.44,710.207 \n",
       "  935.306,721.849 951.172,733.296 967.038,744.549 982.905,755.608 998.771,766.473 1014.64,777.144 1030.5,787.621 1046.37,797.904 1062.24,807.993 1078.1,817.888 \n",
       "  1093.97,827.589 1109.83,837.096 1125.7,846.409 1141.57,855.528 1157.43,864.452 1173.3,873.183 1189.17,881.72 1205.03,890.063 1220.9,898.212 1236.76,906.166 \n",
       "  1252.63,913.927 1268.5,921.494 1284.36,928.867 1300.23,936.045 1316.1,943.03 1331.96,949.821 1347.83,956.417 1363.69,962.82 1379.56,969.028 1395.43,975.043 \n",
       "  1411.29,980.864 1427.16,986.49 1443.02,991.923 1458.89,997.161 1474.76,1002.21 1490.62,1007.06 1506.49,1011.71 1522.36,1016.17 1538.22,1020.44 1554.09,1024.52 \n",
       "  1569.95,1028.4 1585.82,1032.08 1601.69,1035.58 1617.55,1038.88 1633.42,1041.98 1649.29,1044.89 1665.15,1047.61 1681.02,1050.13 1696.88,1052.46 1712.75,1054.59 \n",
       "  1728.62,1056.53 1744.48,1058.28 1760.35,1059.83 1776.22,1061.19 1792.08,1062.35 1807.95,1063.32 1823.81,1064.1 1839.68,1064.68 1855.55,1065.07 1871.41,1065.26 \n",
       "  1887.28,1065.26 1903.15,1065.07 1919.01,1064.68 1934.88,1064.1 1950.74,1063.32 1966.61,1062.35 1982.48,1061.19 1998.34,1059.83 2014.21,1058.28 2030.08,1056.53 \n",
       "  2045.94,1054.59 2061.81,1052.46 2077.67,1050.13 2093.54,1047.61 2109.41,1044.89 2125.27,1041.98 2141.14,1038.88 2157,1035.58 2172.87,1032.08 2188.74,1028.4 \n",
       "  2204.6,1024.52 2220.47,1020.44 2236.34,1016.17 2252.2,1011.71 2268.07,1007.06 2283.93,1002.21 2299.8,997.161 2315.67,991.923 2331.53,986.49 2347.4,980.864 \n",
       "  2363.27,975.043 2379.13,969.028 2395,962.82 2410.86,956.417 2426.73,949.821 2442.6,943.03 2458.46,936.045 2474.33,928.867 2490.2,921.494 2506.06,913.927 \n",
       "  2521.93,906.166 2537.79,898.212 2553.66,890.063 2569.53,881.72 2585.39,873.183 2601.26,864.452 2617.13,855.528 2632.99,846.409 2648.86,837.096 2664.72,827.589 \n",
       "  2680.59,817.888 2696.46,807.993 2712.32,797.904 2728.19,787.621 2744.05,777.144 2759.92,766.473 2775.79,755.608 2791.65,744.549 2807.52,733.296 2823.39,721.849 \n",
       "  2839.25,710.207 2855.12,698.372 2870.98,686.343 2886.85,674.12 2902.72,661.703 2918.58,649.092 2934.45,636.286 2950.32,623.287 2966.18,610.094 2982.05,596.707 \n",
       "  2997.91,583.125 3013.78,569.35 3029.65,555.381 3045.51,541.217 3061.38,526.86 3077.25,512.308 3093.11,497.563 3108.98,482.624 3124.84,467.49 3140.71,452.163 \n",
       "  3156.58,436.641 3172.44,420.926 3188.31,405.016 3204.18,388.913 3220.04,372.615 3235.91,356.123 3251.77,339.438 3267.64,322.558 3283.51,305.484 3299.37,288.217 \n",
       "  3315.24,270.755 3331.1,253.099 3346.97,235.25 3362.84,217.206 3378.7,198.968 3394.57,180.536 3410.44,161.911 3426.3,143.091 3442.17,124.077 3458.03,104.869 \n",
       "  \n",
       "  \"/>\n",
       "<polyline clip-path=\"url(#clip522)\" style=\"stroke:#c271d2; stroke-linecap:butt; stroke-linejoin:round; stroke-width:8; stroke-opacity:1; fill:none\" points=\"\n",
       "  300.657,2025.7 316.524,1997.04 332.39,1968.94 348.256,1941.42 364.122,1914.47 379.988,1888.07 395.855,1862.23 411.721,1836.93 427.587,1812.17 443.453,1787.95 \n",
       "  459.319,1764.26 475.186,1741.09 491.052,1718.44 506.918,1696.3 522.784,1674.67 538.651,1653.53 554.517,1632.9 570.383,1612.75 586.249,1593.08 602.115,1573.89 \n",
       "  617.982,1555.17 633.848,1536.91 649.714,1519.12 665.58,1501.78 681.447,1484.88 697.313,1468.43 713.179,1452.41 729.045,1436.83 744.911,1421.66 760.778,1406.92 \n",
       "  776.644,1392.59 792.51,1378.66 808.376,1365.13 824.242,1352 840.109,1339.26 855.975,1326.91 871.841,1314.92 887.707,1303.32 903.574,1292.07 919.44,1281.19 \n",
       "  935.306,1270.66 951.172,1260.48 967.038,1250.64 982.905,1241.13 998.771,1231.96 1014.64,1223.11 1030.5,1214.58 1046.37,1206.37 1062.24,1198.46 1078.1,1190.85 \n",
       "  1093.97,1183.54 1109.83,1176.51 1125.7,1169.78 1141.57,1163.31 1157.43,1157.12 1173.3,1151.2 1189.17,1145.54 1205.03,1140.13 1220.9,1134.97 1236.76,1130.05 \n",
       "  1252.63,1125.37 1268.5,1120.92 1284.36,1116.7 1300.23,1112.7 1316.1,1108.9 1331.96,1105.32 1347.83,1101.94 1363.69,1098.75 1379.56,1095.76 1395.43,1092.95 \n",
       "  1411.29,1090.32 1427.16,1087.86 1443.02,1085.56 1458.89,1083.43 1474.76,1081.45 1490.62,1079.62 1506.49,1077.94 1522.36,1076.39 1538.22,1074.98 1554.09,1073.69 \n",
       "  1569.95,1072.52 1585.82,1071.46 1601.69,1070.51 1617.55,1069.67 1633.42,1068.92 1649.29,1068.26 1665.15,1067.68 1681.02,1067.19 1696.88,1066.77 1712.75,1066.41 \n",
       "  1728.62,1066.12 1744.48,1065.88 1760.35,1065.7 1776.22,1065.55 1792.08,1065.45 1807.95,1065.37 1823.81,1065.33 1839.68,1065.3 1855.55,1065.29 1871.41,1065.29 \n",
       "  1887.28,1065.29 1903.15,1065.28 1919.01,1065.27 1934.88,1065.24 1950.74,1065.2 1966.61,1065.12 1982.48,1065.02 1998.34,1064.87 2014.21,1064.69 2030.08,1064.45 \n",
       "  2045.94,1064.16 2061.81,1063.8 2077.67,1063.38 2093.54,1062.89 2109.41,1062.31 2125.27,1061.66 2141.14,1060.91 2157,1060.06 2172.87,1059.11 2188.74,1058.06 \n",
       "  2204.6,1056.89 2220.47,1055.6 2236.34,1054.18 2252.2,1052.63 2268.07,1050.95 2283.93,1049.12 2299.8,1047.14 2315.67,1045.01 2331.53,1042.72 2347.4,1040.26 \n",
       "  2363.27,1037.62 2379.13,1034.81 2395,1031.82 2410.86,1028.63 2426.73,1025.25 2442.6,1021.67 2458.46,1017.88 2474.33,1013.87 2490.2,1009.65 2506.06,1005.2 \n",
       "  2521.93,1000.52 2537.79,995.602 2553.66,990.442 2569.53,985.034 2585.39,979.371 2601.26,973.447 2617.13,967.258 2632.99,960.797 2648.86,954.058 2664.72,947.035 \n",
       "  2680.59,939.722 2696.46,932.114 2712.32,924.205 2728.19,915.989 2744.05,907.459 2759.92,898.611 2775.79,889.439 2791.65,879.935 2807.52,870.096 2823.39,859.914 \n",
       "  2839.25,849.384 2855.12,838.5 2870.98,827.257 2886.85,815.647 2902.72,803.667 2918.58,791.309 2934.45,778.568 2950.32,765.437 2966.18,751.912 2982.05,737.987 \n",
       "  2997.91,723.654 3013.78,708.91 3029.65,693.747 3045.51,678.16 3061.38,662.143 3077.25,645.69 3093.11,628.795 3108.98,611.453 3124.84,593.658 3140.71,575.403 \n",
       "  3156.58,556.684 3172.44,537.493 3188.31,517.826 3204.18,497.676 3220.04,477.038 3235.91,455.905 3251.77,434.272 3267.64,412.133 3283.51,389.483 3299.37,366.314 \n",
       "  3315.24,342.622 3331.1,318.401 3346.97,293.644 3362.84,268.346 3378.7,242.502 3394.57,216.104 3410.44,189.148 3426.3,161.627 3442.17,133.536 3458.03,104.869 \n",
       "  \n",
       "  \"/>\n",
       "<polyline clip-path=\"url(#clip522)\" style=\"stroke:#ac8d18; stroke-linecap:butt; stroke-linejoin:round; stroke-width:8; stroke-opacity:1; fill:none\" points=\"\n",
       "  300.657,104.869 316.524,142.901 332.39,179.791 348.256,215.564 364.122,250.242 379.988,283.848 395.855,316.403 411.721,347.931 427.587,378.452 443.453,407.989 \n",
       "  459.319,436.563 475.186,464.195 491.052,490.906 506.918,516.716 522.784,541.647 538.651,565.718 554.517,588.95 570.383,611.362 586.249,632.973 602.115,653.804 \n",
       "  617.982,673.872 633.848,693.198 649.714,711.798 665.58,729.693 681.447,746.899 697.313,763.435 713.179,779.318 729.045,794.567 744.911,809.197 760.778,823.225 \n",
       "  776.644,836.67 792.51,849.546 808.376,861.871 824.242,873.66 840.109,884.929 855.975,895.694 871.841,905.969 887.707,915.77 903.574,925.112 919.44,934.009 \n",
       "  935.306,942.476 951.172,950.526 967.038,958.174 982.905,965.433 998.771,972.317 1014.64,978.838 1030.5,985.011 1046.37,990.846 1062.24,996.358 1078.1,1001.56 \n",
       "  1093.97,1006.46 1109.83,1011.07 1125.7,1015.4 1141.57,1019.47 1157.43,1023.29 1173.3,1026.86 1189.17,1030.2 1205.03,1033.32 1220.9,1036.22 1236.76,1038.92 \n",
       "  1252.63,1041.43 1268.5,1043.76 1284.36,1045.91 1300.23,1047.89 1316.1,1049.72 1331.96,1051.4 1347.83,1052.95 1363.69,1054.35 1379.56,1055.64 1395.43,1056.81 \n",
       "  1411.29,1057.87 1427.16,1058.82 1443.02,1059.68 1458.89,1060.45 1474.76,1061.14 1490.62,1061.76 1506.49,1062.3 1522.36,1062.77 1538.22,1063.19 1554.09,1063.56 \n",
       "  1569.95,1063.87 1585.82,1064.14 1601.69,1064.37 1617.55,1064.56 1633.42,1064.72 1649.29,1064.85 1665.15,1064.96 1681.02,1065.05 1696.88,1065.11 1712.75,1065.17 \n",
       "  1728.62,1065.21 1744.48,1065.23 1760.35,1065.25 1776.22,1065.27 1792.08,1065.28 1807.95,1065.28 1823.81,1065.28 1839.68,1065.29 1855.55,1065.29 1871.41,1065.29 \n",
       "  1887.28,1065.29 1903.15,1065.29 1919.01,1065.29 1934.88,1065.28 1950.74,1065.28 1966.61,1065.28 1982.48,1065.27 1998.34,1065.25 2014.21,1065.23 2030.08,1065.21 \n",
       "  2045.94,1065.17 2061.81,1065.11 2077.67,1065.05 2093.54,1064.96 2109.41,1064.85 2125.27,1064.72 2141.14,1064.56 2157,1064.37 2172.87,1064.14 2188.74,1063.87 \n",
       "  2204.6,1063.56 2220.47,1063.19 2236.34,1062.77 2252.2,1062.3 2268.07,1061.76 2283.93,1061.14 2299.8,1060.45 2315.67,1059.68 2331.53,1058.82 2347.4,1057.87 \n",
       "  2363.27,1056.81 2379.13,1055.64 2395,1054.35 2410.86,1052.95 2426.73,1051.4 2442.6,1049.72 2458.46,1047.89 2474.33,1045.91 2490.2,1043.76 2506.06,1041.43 \n",
       "  2521.93,1038.92 2537.79,1036.22 2553.66,1033.32 2569.53,1030.2 2585.39,1026.86 2601.26,1023.29 2617.13,1019.47 2632.99,1015.4 2648.86,1011.07 2664.72,1006.46 \n",
       "  2680.59,1001.56 2696.46,996.358 2712.32,990.846 2728.19,985.011 2744.05,978.838 2759.92,972.317 2775.79,965.433 2791.65,958.174 2807.52,950.526 2823.39,942.476 \n",
       "  2839.25,934.009 2855.12,925.112 2870.98,915.77 2886.85,905.969 2902.72,895.694 2918.58,884.929 2934.45,873.66 2950.32,861.871 2966.18,849.546 2982.05,836.67 \n",
       "  2997.91,823.225 3013.78,809.197 3029.65,794.567 3045.51,779.318 3061.38,763.435 3077.25,746.899 3093.11,729.693 3108.98,711.798 3124.84,693.198 3140.71,673.872 \n",
       "  3156.58,653.804 3172.44,632.973 3188.31,611.362 3204.18,588.95 3220.04,565.718 3235.91,541.647 3251.77,516.716 3267.64,490.906 3283.51,464.195 3299.37,436.563 \n",
       "  3315.24,407.989 3331.1,378.452 3346.97,347.931 3362.84,316.403 3378.7,283.848 3394.57,250.242 3410.44,215.564 3426.3,179.791 3442.17,142.901 3458.03,104.869 \n",
       "  \n",
       "  \"/>\n",
       "<polyline clip-path=\"url(#clip522)\" style=\"stroke:#00a9ad; stroke-linecap:butt; stroke-linejoin:round; stroke-width:8; stroke-opacity:1; fill:none\" points=\"\n",
       "  300.657,2025.7 316.524,1978.4 332.39,1932.98 348.256,1889.39 364.122,1847.56 379.988,1807.46 395.855,1769.01 411.721,1732.17 427.587,1696.9 443.453,1663.13 \n",
       "  459.319,1630.82 475.186,1599.93 491.052,1570.39 506.918,1542.18 522.784,1515.25 538.651,1489.54 554.517,1465.03 570.383,1441.66 586.249,1419.39 602.115,1398.19 \n",
       "  617.982,1378.02 633.848,1358.84 649.714,1340.62 665.58,1323.3 681.447,1306.88 697.313,1291.29 713.179,1276.53 729.045,1262.54 744.911,1249.31 760.778,1236.8 \n",
       "  776.644,1224.97 792.51,1213.81 808.376,1203.28 824.242,1193.36 840.109,1184.01 855.975,1175.22 871.841,1166.96 887.707,1159.2 903.574,1151.93 919.44,1145.11 \n",
       "  935.306,1138.73 951.172,1132.76 967.038,1127.18 982.905,1121.99 998.771,1117.14 1014.64,1112.64 1030.5,1108.45 1046.37,1104.56 1062.24,1100.96 1078.1,1097.63 \n",
       "  1093.97,1094.55 1109.83,1091.71 1125.7,1089.1 1141.57,1086.7 1157.43,1084.49 1173.3,1082.47 1189.17,1080.62 1205.03,1078.94 1220.9,1077.41 1236.76,1076.02 \n",
       "  1252.63,1074.76 1268.5,1073.62 1284.36,1072.59 1300.23,1071.67 1316.1,1070.84 1331.96,1070.1 1347.83,1069.44 1363.69,1068.86 1379.56,1068.34 1395.43,1067.89 \n",
       "  1411.29,1067.49 1427.16,1067.14 1443.02,1066.83 1458.89,1066.57 1474.76,1066.35 1490.62,1066.16 1506.49,1065.99 1522.36,1065.85 1538.22,1065.74 1554.09,1065.64 \n",
       "  1569.95,1065.56 1585.82,1065.5 1601.69,1065.45 1617.55,1065.41 1633.42,1065.37 1649.29,1065.35 1665.15,1065.33 1681.02,1065.32 1696.88,1065.31 1712.75,1065.3 \n",
       "  1728.62,1065.29 1744.48,1065.29 1760.35,1065.29 1776.22,1065.29 1792.08,1065.29 1807.95,1065.29 1823.81,1065.29 1839.68,1065.29 1855.55,1065.29 1871.41,1065.29 \n",
       "  1887.28,1065.29 1903.15,1065.29 1919.01,1065.29 1934.88,1065.29 1950.74,1065.29 1966.61,1065.29 1982.48,1065.28 1998.34,1065.28 2014.21,1065.28 2030.08,1065.28 \n",
       "  2045.94,1065.27 2061.81,1065.27 2077.67,1065.26 2093.54,1065.24 2109.41,1065.22 2125.27,1065.2 2141.14,1065.17 2157,1065.12 2172.87,1065.07 2188.74,1065.01 \n",
       "  2204.6,1064.93 2220.47,1064.83 2236.34,1064.72 2252.2,1064.58 2268.07,1064.42 2283.93,1064.22 2299.8,1064 2315.67,1063.74 2331.53,1063.43 2347.4,1063.09 \n",
       "  2363.27,1062.69 2379.13,1062.23 2395,1061.72 2410.86,1061.13 2426.73,1060.47 2442.6,1059.73 2458.46,1058.91 2474.33,1057.98 2490.2,1056.96 2506.06,1055.82 \n",
       "  2521.93,1054.56 2537.79,1053.16 2553.66,1051.63 2569.53,1049.95 2585.39,1048.1 2601.26,1046.08 2617.13,1043.88 2632.99,1041.47 2648.86,1038.86 2664.72,1036.02 \n",
       "  2680.59,1032.94 2696.46,1029.61 2712.32,1026.01 2728.19,1022.12 2744.05,1017.94 2759.92,1013.43 2775.79,1008.59 2791.65,1003.39 2807.52,997.814 2823.39,991.847 \n",
       "  2839.25,985.464 2855.12,978.646 2870.98,971.369 2886.85,963.611 2902.72,955.349 2918.58,946.559 2934.45,937.214 2950.32,927.291 2966.18,916.762 2982.05,905.599 \n",
       "  2997.91,893.776 3013.78,881.262 3029.65,868.028 3045.51,854.044 3061.38,839.277 3077.25,823.696 3093.11,807.267 3108.98,789.956 3124.84,771.729 3140.71,752.548 \n",
       "  3156.58,732.378 3172.44,711.181 3188.31,688.917 3204.18,665.547 3220.04,641.03 3235.91,615.325 3251.77,588.389 3267.64,560.178 3283.51,530.647 3299.37,499.751 \n",
       "  3315.24,467.443 3331.1,433.675 3346.97,398.398 3362.84,361.562 3378.7,323.116 3394.57,283.008 3410.44,241.184 3426.3,197.59 3442.17,152.171 3458.03,104.869 \n",
       "  \n",
       "  \"/>\n",
       "<path clip-path=\"url(#clip520)\" d=\"\n",
       "M2975.41 477.994 L3441.2 477.994 L3441.2 115.114 L2975.41 115.114  Z\n",
       "  \" fill=\"#ffffff\" fill-rule=\"evenodd\" fill-opacity=\"1\"/>\n",
       "<polyline clip-path=\"url(#clip520)\" style=\"stroke:#000000; stroke-linecap:butt; stroke-linejoin:round; stroke-width:4; stroke-opacity:1; fill:none\" points=\"\n",
       "  2975.41,477.994 3441.2,477.994 3441.2,115.114 2975.41,115.114 2975.41,477.994 \n",
       "  \"/>\n",
       "<polyline clip-path=\"url(#clip520)\" style=\"stroke:#009af9; stroke-linecap:butt; stroke-linejoin:round; stroke-width:4; stroke-opacity:1; fill:none\" points=\"\n",
       "  3012.6,166.954 3235.72,166.954 \n",
       "  \"/>\n",
       "<path clip-path=\"url(#clip520)\" d=\"M3297.56 158.308 L3288.19 170.923 L3298.05 184.234 L3293.03 184.234 L3285.48 174.048 L3277.93 184.234 L3272.91 184.234 L3282.98 170.669 L3273.77 158.308 L3278.79 158.308 L3285.66 167.544 L3292.54 158.308 L3297.56 158.308 Z\" fill=\"#000000\" fill-rule=\"evenodd\" fill-opacity=\"1\" /><path clip-path=\"url(#clip520)\" d=\"M3321.73 149.674 L3334.3 162.567 L3329.65 162.567 L3319.46 153.424 L3309.28 162.567 L3304.62 162.567 L3317.19 149.674 L3321.73 149.674 Z\" fill=\"#000000\" fill-rule=\"evenodd\" fill-opacity=\"1\" /><path clip-path=\"url(#clip520)\" d=\"M3354.39 152.752 Q3350.78 152.752 3348.95 156.317 Q3347.15 159.859 3347.15 166.988 Q3347.15 174.095 3348.95 177.66 Q3350.78 181.201 3354.39 181.201 Q3358.03 181.201 3359.83 177.66 Q3361.66 174.095 3361.66 166.988 Q3361.66 159.859 3359.83 156.317 Q3358.03 152.752 3354.39 152.752 M3354.39 149.049 Q3360.2 149.049 3363.26 153.655 Q3366.34 158.238 3366.34 166.988 Q3366.34 175.715 3363.26 180.322 Q3360.2 184.905 3354.39 184.905 Q3348.58 184.905 3345.5 180.322 Q3342.45 175.715 3342.45 166.988 Q3342.45 158.238 3345.5 153.655 Q3348.58 149.049 3354.39 149.049 Z\" fill=\"#000000\" fill-rule=\"evenodd\" fill-opacity=\"1\" /><polyline clip-path=\"url(#clip520)\" style=\"stroke:#e26f46; stroke-linecap:butt; stroke-linejoin:round; stroke-width:4; stroke-opacity:1; fill:none\" points=\"\n",
       "  3012.6,218.794 3235.72,218.794 \n",
       "  \"/>\n",
       "<path clip-path=\"url(#clip520)\" d=\"M3297.56 210.148 L3288.19 222.763 L3298.05 236.074 L3293.03 236.074 L3285.48 225.888 L3277.93 236.074 L3272.91 236.074 L3282.98 222.509 L3273.77 210.148 L3278.79 210.148 L3285.66 219.384 L3292.54 210.148 L3297.56 210.148 Z\" fill=\"#000000\" fill-rule=\"evenodd\" fill-opacity=\"1\" /><path clip-path=\"url(#clip520)\" d=\"M3321.73 201.514 L3334.3 214.407 L3329.65 214.407 L3319.46 205.264 L3309.28 214.407 L3304.62 214.407 L3317.19 201.514 L3321.73 201.514 Z\" fill=\"#000000\" fill-rule=\"evenodd\" fill-opacity=\"1\" /><path clip-path=\"url(#clip520)\" d=\"M3345.2 232.138 L3352.84 232.138 L3352.84 205.773 L3344.53 207.439 L3344.53 203.18 L3352.79 201.514 L3357.47 201.514 L3357.47 232.138 L3365.11 232.138 L3365.11 236.074 L3345.2 236.074 L3345.2 232.138 Z\" fill=\"#000000\" fill-rule=\"evenodd\" fill-opacity=\"1\" /><polyline clip-path=\"url(#clip520)\" style=\"stroke:#3da44d; stroke-linecap:butt; stroke-linejoin:round; stroke-width:4; stroke-opacity:1; fill:none\" points=\"\n",
       "  3012.6,270.634 3235.72,270.634 \n",
       "  \"/>\n",
       "<path clip-path=\"url(#clip520)\" d=\"M3297.56 261.988 L3288.19 274.603 L3298.05 287.914 L3293.03 287.914 L3285.48 277.728 L3277.93 287.914 L3272.91 287.914 L3282.98 274.349 L3273.77 261.988 L3278.79 261.988 L3285.66 271.224 L3292.54 261.988 L3297.56 261.988 Z\" fill=\"#000000\" fill-rule=\"evenodd\" fill-opacity=\"1\" /><path clip-path=\"url(#clip520)\" d=\"M3321.73 253.354 L3334.3 266.247 L3329.65 266.247 L3319.46 257.104 L3309.28 266.247 L3304.62 266.247 L3317.19 253.354 L3321.73 253.354 Z\" fill=\"#000000\" fill-rule=\"evenodd\" fill-opacity=\"1\" /><path clip-path=\"url(#clip520)\" d=\"M3348.42 283.978 L3364.74 283.978 L3364.74 287.914 L3342.79 287.914 L3342.79 283.978 Q3345.46 281.224 3350.04 276.594 Q3354.65 271.941 3355.83 270.599 Q3358.07 268.076 3358.95 266.34 Q3359.85 264.58 3359.85 262.891 Q3359.85 260.136 3357.91 258.4 Q3355.99 256.664 3352.89 256.664 Q3350.69 256.664 3348.23 257.428 Q3345.8 258.191 3343.03 259.742 L3343.03 255.02 Q3345.85 253.886 3348.3 253.307 Q3350.76 252.729 3352.79 252.729 Q3358.16 252.729 3361.36 255.414 Q3364.55 258.099 3364.55 262.59 Q3364.55 264.719 3363.74 266.641 Q3362.96 268.539 3360.85 271.131 Q3360.27 271.803 3357.17 275.02 Q3354.07 278.215 3348.42 283.978 Z\" fill=\"#000000\" fill-rule=\"evenodd\" fill-opacity=\"1\" /><polyline clip-path=\"url(#clip520)\" style=\"stroke:#c271d2; stroke-linecap:butt; stroke-linejoin:round; stroke-width:4; stroke-opacity:1; fill:none\" points=\"\n",
       "  3012.6,322.474 3235.72,322.474 \n",
       "  \"/>\n",
       "<path clip-path=\"url(#clip520)\" d=\"M3297.56 313.828 L3288.19 326.443 L3298.05 339.754 L3293.03 339.754 L3285.48 329.568 L3277.93 339.754 L3272.91 339.754 L3282.98 326.189 L3273.77 313.828 L3278.79 313.828 L3285.66 323.064 L3292.54 313.828 L3297.56 313.828 Z\" fill=\"#000000\" fill-rule=\"evenodd\" fill-opacity=\"1\" /><path clip-path=\"url(#clip520)\" d=\"M3321.73 305.194 L3334.3 318.087 L3329.65 318.087 L3319.46 308.944 L3309.28 318.087 L3304.62 318.087 L3317.19 305.194 L3321.73 305.194 Z\" fill=\"#000000\" fill-rule=\"evenodd\" fill-opacity=\"1\" /><path clip-path=\"url(#clip520)\" d=\"M3358.56 321.119 Q3361.91 321.837 3363.79 324.105 Q3365.69 326.374 3365.69 329.707 Q3365.69 334.823 3362.17 337.624 Q3358.65 340.425 3352.17 340.425 Q3349.99 340.425 3347.68 339.985 Q3345.39 339.568 3342.93 338.712 L3342.93 334.198 Q3344.88 335.332 3347.19 335.911 Q3349.51 336.49 3352.03 336.49 Q3356.43 336.49 3358.72 334.754 Q3361.03 333.017 3361.03 329.707 Q3361.03 326.652 3358.88 324.939 Q3356.75 323.203 3352.93 323.203 L3348.9 323.203 L3348.9 319.36 L3353.12 319.36 Q3356.57 319.36 3358.4 317.994 Q3360.22 316.606 3360.22 314.013 Q3360.22 311.351 3358.33 309.939 Q3356.45 308.504 3352.93 308.504 Q3351.01 308.504 3348.81 308.92 Q3346.61 309.337 3343.97 310.217 L3343.97 306.05 Q3346.64 305.309 3348.95 304.939 Q3351.29 304.569 3353.35 304.569 Q3358.67 304.569 3361.78 306.999 Q3364.88 309.406 3364.88 313.527 Q3364.88 316.397 3363.23 318.388 Q3361.59 320.356 3358.56 321.119 Z\" fill=\"#000000\" fill-rule=\"evenodd\" fill-opacity=\"1\" /><polyline clip-path=\"url(#clip520)\" style=\"stroke:#ac8d18; stroke-linecap:butt; stroke-linejoin:round; stroke-width:4; stroke-opacity:1; fill:none\" points=\"\n",
       "  3012.6,374.314 3235.72,374.314 \n",
       "  \"/>\n",
       "<path clip-path=\"url(#clip520)\" d=\"M3297.56 365.668 L3288.19 378.283 L3298.05 391.594 L3293.03 391.594 L3285.48 381.408 L3277.93 391.594 L3272.91 391.594 L3282.98 378.029 L3273.77 365.668 L3278.79 365.668 L3285.66 374.904 L3292.54 365.668 L3297.56 365.668 Z\" fill=\"#000000\" fill-rule=\"evenodd\" fill-opacity=\"1\" /><path clip-path=\"url(#clip520)\" d=\"M3321.73 357.034 L3334.3 369.927 L3329.65 369.927 L3319.46 360.784 L3309.28 369.927 L3304.62 369.927 L3317.19 357.034 L3321.73 357.034 Z\" fill=\"#000000\" fill-rule=\"evenodd\" fill-opacity=\"1\" /><path clip-path=\"url(#clip520)\" d=\"M3357.24 361.108 L3345.43 379.557 L3357.24 379.557 L3357.24 361.108 M3356.01 357.034 L3361.89 357.034 L3361.89 379.557 L3366.82 379.557 L3366.82 383.445 L3361.89 383.445 L3361.89 391.594 L3357.24 391.594 L3357.24 383.445 L3341.64 383.445 L3341.64 378.932 L3356.01 357.034 Z\" fill=\"#000000\" fill-rule=\"evenodd\" fill-opacity=\"1\" /><polyline clip-path=\"url(#clip520)\" style=\"stroke:#00a9ad; stroke-linecap:butt; stroke-linejoin:round; stroke-width:4; stroke-opacity:1; fill:none\" points=\"\n",
       "  3012.6,426.154 3235.72,426.154 \n",
       "  \"/>\n",
       "<path clip-path=\"url(#clip520)\" d=\"M3297.56 417.508 L3288.19 430.123 L3298.05 443.434 L3293.03 443.434 L3285.48 433.248 L3277.93 443.434 L3272.91 443.434 L3282.98 429.869 L3273.77 417.508 L3278.79 417.508 L3285.66 426.744 L3292.54 417.508 L3297.56 417.508 Z\" fill=\"#000000\" fill-rule=\"evenodd\" fill-opacity=\"1\" /><path clip-path=\"url(#clip520)\" d=\"M3321.73 408.874 L3334.3 421.767 L3329.65 421.767 L3319.46 412.624 L3309.28 421.767 L3304.62 421.767 L3317.19 408.874 L3321.73 408.874 Z\" fill=\"#000000\" fill-rule=\"evenodd\" fill-opacity=\"1\" /><path clip-path=\"url(#clip520)\" d=\"M3344.44 408.874 L3362.79 408.874 L3362.79 412.809 L3348.72 412.809 L3348.72 421.281 Q3349.74 420.934 3350.76 420.772 Q3351.78 420.586 3352.79 420.586 Q3358.58 420.586 3361.96 423.758 Q3365.34 426.929 3365.34 432.346 Q3365.34 437.924 3361.87 441.026 Q3358.4 444.105 3352.08 444.105 Q3349.9 444.105 3347.63 443.734 Q3345.39 443.364 3342.98 442.623 L3342.98 437.924 Q3345.06 439.059 3347.28 439.614 Q3349.51 440.17 3351.98 440.17 Q3355.99 440.17 3358.33 438.063 Q3360.66 435.957 3360.66 432.346 Q3360.66 428.735 3358.33 426.628 Q3355.99 424.522 3351.98 424.522 Q3350.11 424.522 3348.23 424.938 Q3346.38 425.355 3344.44 426.235 L3344.44 408.874 Z\" fill=\"#000000\" fill-rule=\"evenodd\" fill-opacity=\"1\" /></svg>\n"
      ]
     },
     "execution_count": 22,
     "metadata": {},
     "output_type": "execute_result"
    }
   ],
   "source": [
    "p = 5\n",
    "A = collect(Func{Float64}(x->x^i) for i in 0:p);\n",
    "x = LinRange(-1,1,200)\n",
    "plot(x, hcat(collect(A[i][x] for i in 1:p+1)...)\n",
    "    , framestyle=:origin\n",
    "    , label=hcat(collect(\"x^$i\" for i in 0:p)...))"
   ]
  },
  {
   "cell_type": "markdown",
   "id": "f534d519",
   "metadata": {
    "slideshow": {
     "slide_type": "subslide"
    }
   },
   "source": [
    "### Run Gram-Schmidt to Construct an Orthonormal Basis"
   ]
  },
  {
   "cell_type": "code",
   "execution_count": 23,
   "id": "e9be06c4",
   "metadata": {},
   "outputs": [],
   "source": [
    "Q, R = mgs_vectors(A);"
   ]
  },
  {
   "cell_type": "code",
   "execution_count": 24,
   "id": "ad98cc22",
   "metadata": {},
   "outputs": [
    {
     "data": {
      "image/svg+xml": [
       "<?xml version=\"1.0\" encoding=\"utf-8\"?>\n",
       "<svg xmlns=\"http://www.w3.org/2000/svg\" xmlns:xlink=\"http://www.w3.org/1999/xlink\" width=\"900\" height=\"550\" viewBox=\"0 0 3600 2200\">\n",
       "<defs>\n",
       "  <clipPath id=\"clip560\">\n",
       "    <rect x=\"0\" y=\"0\" width=\"3600\" height=\"2200\"/>\n",
       "  </clipPath>\n",
       "</defs>\n",
       "<path clip-path=\"url(#clip560)\" d=\"\n",
       "M0 2200 L3600 2200 L3600 0 L0 0  Z\n",
       "  \" fill=\"#ffffff\" fill-rule=\"evenodd\" fill-opacity=\"1\"/>\n",
       "<defs>\n",
       "  <clipPath id=\"clip561\">\n",
       "    <rect x=\"720\" y=\"0\" width=\"2521\" height=\"2200\"/>\n",
       "  </clipPath>\n",
       "</defs>\n",
       "<path clip-path=\"url(#clip560)\" d=\"\n",
       "M159.478 2083.33 L3552.76 2083.33 L3552.76 47.2441 L159.478 47.2441  Z\n",
       "  \" fill=\"#ffffff\" fill-rule=\"evenodd\" fill-opacity=\"1\"/>\n",
       "<defs>\n",
       "  <clipPath id=\"clip562\">\n",
       "    <rect x=\"159\" y=\"47\" width=\"3394\" height=\"2037\"/>\n",
       "  </clipPath>\n",
       "</defs>\n",
       "<polyline clip-path=\"url(#clip562)\" style=\"stroke:#000000; stroke-linecap:butt; stroke-linejoin:round; stroke-width:2; stroke-opacity:0.1; fill:none\" points=\"\n",
       "  255.514,2083.33 255.514,47.2441 \n",
       "  \"/>\n",
       "<polyline clip-path=\"url(#clip562)\" style=\"stroke:#000000; stroke-linecap:butt; stroke-linejoin:round; stroke-width:2; stroke-opacity:0.1; fill:none\" points=\"\n",
       "  1055.82,2083.33 1055.82,47.2441 \n",
       "  \"/>\n",
       "<polyline clip-path=\"url(#clip562)\" style=\"stroke:#000000; stroke-linecap:butt; stroke-linejoin:round; stroke-width:2; stroke-opacity:0.1; fill:none\" points=\"\n",
       "  2656.42,2083.33 2656.42,47.2441 \n",
       "  \"/>\n",
       "<polyline clip-path=\"url(#clip562)\" style=\"stroke:#000000; stroke-linecap:butt; stroke-linejoin:round; stroke-width:2; stroke-opacity:0.1; fill:none\" points=\"\n",
       "  3456.72,2083.33 3456.72,47.2441 \n",
       "  \"/>\n",
       "<polyline clip-path=\"url(#clip560)\" style=\"stroke:#000000; stroke-linecap:butt; stroke-linejoin:round; stroke-width:4; stroke-opacity:1; fill:none\" points=\"\n",
       "  159.478,1065.29 3552.76,1065.29 \n",
       "  \"/>\n",
       "<polyline clip-path=\"url(#clip560)\" style=\"stroke:#000000; stroke-linecap:butt; stroke-linejoin:round; stroke-width:4; stroke-opacity:1; fill:none\" points=\"\n",
       "  255.514,1084.18 255.514,1046.39 \n",
       "  \"/>\n",
       "<polyline clip-path=\"url(#clip560)\" style=\"stroke:#000000; stroke-linecap:butt; stroke-linejoin:round; stroke-width:4; stroke-opacity:1; fill:none\" points=\"\n",
       "  1055.82,1084.18 1055.82,1046.39 \n",
       "  \"/>\n",
       "<polyline clip-path=\"url(#clip560)\" style=\"stroke:#000000; stroke-linecap:butt; stroke-linejoin:round; stroke-width:4; stroke-opacity:1; fill:none\" points=\"\n",
       "  2656.42,1084.18 2656.42,1046.39 \n",
       "  \"/>\n",
       "<polyline clip-path=\"url(#clip560)\" style=\"stroke:#000000; stroke-linecap:butt; stroke-linejoin:round; stroke-width:4; stroke-opacity:1; fill:none\" points=\"\n",
       "  3456.72,1084.18 3456.72,1046.39 \n",
       "  \"/>\n",
       "<path clip-path=\"url(#clip560)\" d=\"M202.042 1120.46 L231.718 1120.46 L231.718 1124.39 L202.042 1124.39 L202.042 1120.46 Z\" fill=\"#000000\" fill-rule=\"evenodd\" fill-opacity=\"1\" /><path clip-path=\"url(#clip560)\" d=\"M242.621 1133.35 L250.259 1133.35 L250.259 1106.99 L241.949 1108.65 L241.949 1104.39 L250.213 1102.73 L254.889 1102.73 L254.889 1133.35 L262.528 1133.35 L262.528 1137.29 L242.621 1137.29 L242.621 1133.35 Z\" fill=\"#000000\" fill-rule=\"evenodd\" fill-opacity=\"1\" /><path clip-path=\"url(#clip560)\" d=\"M271.972 1131.41 L276.857 1131.41 L276.857 1137.29 L271.972 1137.29 L271.972 1131.41 Z\" fill=\"#000000\" fill-rule=\"evenodd\" fill-opacity=\"1\" /><path clip-path=\"url(#clip560)\" d=\"M297.042 1105.8 Q293.431 1105.8 291.602 1109.37 Q289.796 1112.91 289.796 1120.04 Q289.796 1127.15 291.602 1130.71 Q293.431 1134.25 297.042 1134.25 Q300.676 1134.25 302.481 1130.71 Q304.31 1127.15 304.31 1120.04 Q304.31 1112.91 302.481 1109.37 Q300.676 1105.8 297.042 1105.8 M297.042 1102.1 Q302.852 1102.1 305.907 1106.71 Q308.986 1111.29 308.986 1120.04 Q308.986 1128.77 305.907 1133.37 Q302.852 1137.96 297.042 1137.96 Q291.231 1137.96 288.153 1133.37 Q285.097 1128.77 285.097 1120.04 Q285.097 1111.29 288.153 1106.71 Q291.231 1102.1 297.042 1102.1 Z\" fill=\"#000000\" fill-rule=\"evenodd\" fill-opacity=\"1\" /><path clip-path=\"url(#clip560)\" d=\"M1002.84 1120.46 L1032.52 1120.46 L1032.52 1124.39 L1002.84 1124.39 L1002.84 1120.46 Z\" fill=\"#000000\" fill-rule=\"evenodd\" fill-opacity=\"1\" /><path clip-path=\"url(#clip560)\" d=\"M1052.61 1105.8 Q1049 1105.8 1047.17 1109.37 Q1045.36 1112.91 1045.36 1120.04 Q1045.36 1127.15 1047.17 1130.71 Q1049 1134.25 1052.61 1134.25 Q1056.24 1134.25 1058.05 1130.71 Q1059.88 1127.15 1059.88 1120.04 Q1059.88 1112.91 1058.05 1109.37 Q1056.24 1105.8 1052.61 1105.8 M1052.61 1102.1 Q1058.42 1102.1 1061.48 1106.71 Q1064.55 1111.29 1064.55 1120.04 Q1064.55 1128.77 1061.48 1133.37 Q1058.42 1137.96 1052.61 1137.96 Q1046.8 1137.96 1043.72 1133.37 Q1040.67 1128.77 1040.67 1120.04 Q1040.67 1111.29 1043.72 1106.71 Q1046.8 1102.1 1052.61 1102.1 Z\" fill=\"#000000\" fill-rule=\"evenodd\" fill-opacity=\"1\" /><path clip-path=\"url(#clip560)\" d=\"M1072.77 1131.41 L1077.66 1131.41 L1077.66 1137.29 L1072.77 1137.29 L1072.77 1131.41 Z\" fill=\"#000000\" fill-rule=\"evenodd\" fill-opacity=\"1\" /><path clip-path=\"url(#clip560)\" d=\"M1087.89 1102.73 L1106.24 1102.73 L1106.24 1106.66 L1092.17 1106.66 L1092.17 1115.13 Q1093.19 1114.79 1094.21 1114.62 Q1095.23 1114.44 1096.24 1114.44 Q1102.03 1114.44 1105.41 1117.61 Q1108.79 1120.78 1108.79 1126.2 Q1108.79 1131.78 1105.32 1134.88 Q1101.85 1137.96 1095.53 1137.96 Q1093.35 1137.96 1091.08 1137.59 Q1088.84 1137.22 1086.43 1136.48 L1086.43 1131.78 Q1088.51 1132.91 1090.73 1133.47 Q1092.96 1134.02 1095.43 1134.02 Q1099.44 1134.02 1101.78 1131.92 Q1104.11 1129.81 1104.11 1126.2 Q1104.11 1122.59 1101.78 1120.48 Q1099.44 1118.37 1095.43 1118.37 Q1093.56 1118.37 1091.68 1118.79 Q1089.83 1119.21 1087.89 1120.09 L1087.89 1102.73 Z\" fill=\"#000000\" fill-rule=\"evenodd\" fill-opacity=\"1\" /><path clip-path=\"url(#clip560)\" d=\"M2634.3 1105.8 Q2630.69 1105.8 2628.86 1109.37 Q2627.06 1112.91 2627.06 1120.04 Q2627.06 1127.15 2628.86 1130.71 Q2630.69 1134.25 2634.3 1134.25 Q2637.93 1134.25 2639.74 1130.71 Q2641.57 1127.15 2641.57 1120.04 Q2641.57 1112.91 2639.74 1109.37 Q2637.93 1105.8 2634.3 1105.8 M2634.3 1102.1 Q2640.11 1102.1 2643.17 1106.71 Q2646.24 1111.29 2646.24 1120.04 Q2646.24 1128.77 2643.17 1133.37 Q2640.11 1137.96 2634.3 1137.96 Q2628.49 1137.96 2625.41 1133.37 Q2622.36 1128.77 2622.36 1120.04 Q2622.36 1111.29 2625.41 1106.71 Q2628.49 1102.1 2634.3 1102.1 Z\" fill=\"#000000\" fill-rule=\"evenodd\" fill-opacity=\"1\" /><path clip-path=\"url(#clip560)\" d=\"M2654.46 1131.41 L2659.35 1131.41 L2659.35 1137.29 L2654.46 1137.29 L2654.46 1131.41 Z\" fill=\"#000000\" fill-rule=\"evenodd\" fill-opacity=\"1\" /><path clip-path=\"url(#clip560)\" d=\"M2669.58 1102.73 L2687.93 1102.73 L2687.93 1106.66 L2673.86 1106.66 L2673.86 1115.13 Q2674.88 1114.79 2675.9 1114.62 Q2676.92 1114.44 2677.93 1114.44 Q2683.72 1114.44 2687.1 1117.61 Q2690.48 1120.78 2690.48 1126.2 Q2690.48 1131.78 2687.01 1134.88 Q2683.54 1137.96 2677.22 1137.96 Q2675.04 1137.96 2672.77 1137.59 Q2670.53 1137.22 2668.12 1136.48 L2668.12 1131.78 Q2670.2 1132.91 2672.43 1133.47 Q2674.65 1134.02 2677.12 1134.02 Q2681.13 1134.02 2683.47 1131.92 Q2685.8 1129.81 2685.8 1126.2 Q2685.8 1122.59 2683.47 1120.48 Q2681.13 1118.37 2677.12 1118.37 Q2675.25 1118.37 2673.37 1118.79 Q2671.52 1119.21 2669.58 1120.09 L2669.58 1102.73 Z\" fill=\"#000000\" fill-rule=\"evenodd\" fill-opacity=\"1\" /><path clip-path=\"url(#clip560)\" d=\"M3423.87 1133.35 L3431.51 1133.35 L3431.51 1106.99 L3423.2 1108.65 L3423.2 1104.39 L3431.47 1102.73 L3436.14 1102.73 L3436.14 1133.35 L3443.78 1133.35 L3443.78 1137.29 L3423.87 1137.29 L3423.87 1133.35 Z\" fill=\"#000000\" fill-rule=\"evenodd\" fill-opacity=\"1\" /><path clip-path=\"url(#clip560)\" d=\"M3453.22 1131.41 L3458.11 1131.41 L3458.11 1137.29 L3453.22 1137.29 L3453.22 1131.41 Z\" fill=\"#000000\" fill-rule=\"evenodd\" fill-opacity=\"1\" /><path clip-path=\"url(#clip560)\" d=\"M3478.29 1105.8 Q3474.68 1105.8 3472.85 1109.37 Q3471.05 1112.91 3471.05 1120.04 Q3471.05 1127.15 3472.85 1130.71 Q3474.68 1134.25 3478.29 1134.25 Q3481.93 1134.25 3483.73 1130.71 Q3485.56 1127.15 3485.56 1120.04 Q3485.56 1112.91 3483.73 1109.37 Q3481.93 1105.8 3478.29 1105.8 M3478.29 1102.1 Q3484.1 1102.1 3487.16 1106.71 Q3490.24 1111.29 3490.24 1120.04 Q3490.24 1128.77 3487.16 1133.37 Q3484.1 1137.96 3478.29 1137.96 Q3472.48 1137.96 3469.4 1133.37 Q3466.35 1128.77 3466.35 1120.04 Q3466.35 1111.29 3469.4 1106.71 Q3472.48 1102.1 3478.29 1102.1 Z\" fill=\"#000000\" fill-rule=\"evenodd\" fill-opacity=\"1\" /><polyline clip-path=\"url(#clip562)\" style=\"stroke:#000000; stroke-linecap:butt; stroke-linejoin:round; stroke-width:2; stroke-opacity:0.1; fill:none\" points=\"\n",
       "  159.478,1884.33 3552.76,1884.33 \n",
       "  \"/>\n",
       "<polyline clip-path=\"url(#clip562)\" style=\"stroke:#000000; stroke-linecap:butt; stroke-linejoin:round; stroke-width:2; stroke-opacity:0.1; fill:none\" points=\"\n",
       "  159.478,1474.81 3552.76,1474.81 \n",
       "  \"/>\n",
       "<polyline clip-path=\"url(#clip562)\" style=\"stroke:#000000; stroke-linecap:butt; stroke-linejoin:round; stroke-width:2; stroke-opacity:0.1; fill:none\" points=\"\n",
       "  159.478,655.763 3552.76,655.763 \n",
       "  \"/>\n",
       "<polyline clip-path=\"url(#clip562)\" style=\"stroke:#000000; stroke-linecap:butt; stroke-linejoin:round; stroke-width:2; stroke-opacity:0.1; fill:none\" points=\"\n",
       "  159.478,246.24 3552.76,246.24 \n",
       "  \"/>\n",
       "<polyline clip-path=\"url(#clip560)\" style=\"stroke:#000000; stroke-linecap:butt; stroke-linejoin:round; stroke-width:4; stroke-opacity:1; fill:none\" points=\"\n",
       "  1856.12,2083.33 1856.12,47.2441 \n",
       "  \"/>\n",
       "<polyline clip-path=\"url(#clip560)\" style=\"stroke:#000000; stroke-linecap:butt; stroke-linejoin:round; stroke-width:4; stroke-opacity:1; fill:none\" points=\"\n",
       "  1837.22,1884.33 1875.01,1884.33 \n",
       "  \"/>\n",
       "<polyline clip-path=\"url(#clip560)\" style=\"stroke:#000000; stroke-linecap:butt; stroke-linejoin:round; stroke-width:4; stroke-opacity:1; fill:none\" points=\"\n",
       "  1837.22,1474.81 1875.01,1474.81 \n",
       "  \"/>\n",
       "<polyline clip-path=\"url(#clip560)\" style=\"stroke:#000000; stroke-linecap:butt; stroke-linejoin:round; stroke-width:4; stroke-opacity:1; fill:none\" points=\"\n",
       "  1837.22,655.763 1875.01,655.763 \n",
       "  \"/>\n",
       "<polyline clip-path=\"url(#clip560)\" style=\"stroke:#000000; stroke-linecap:butt; stroke-linejoin:round; stroke-width:4; stroke-opacity:1; fill:none\" points=\"\n",
       "  1837.22,246.24 1875.01,246.24 \n",
       "  \"/>\n",
       "<path clip-path=\"url(#clip560)\" d=\"M1742 1884.78 L1771.68 1884.78 L1771.68 1888.72 L1742 1888.72 L1742 1884.78 Z\" fill=\"#000000\" fill-rule=\"evenodd\" fill-opacity=\"1\" /><path clip-path=\"url(#clip560)\" d=\"M1785.8 1897.68 L1802.12 1897.68 L1802.12 1901.61 L1780.17 1901.61 L1780.17 1897.68 Q1782.83 1894.92 1787.42 1890.29 Q1792.02 1885.64 1793.2 1884.3 Q1795.45 1881.77 1796.33 1880.04 Q1797.23 1878.28 1797.23 1876.59 Q1797.23 1873.83 1795.29 1872.1 Q1793.37 1870.36 1790.27 1870.36 Q1788.07 1870.36 1785.61 1871.13 Q1783.18 1871.89 1780.4 1873.44 L1780.4 1868.72 Q1783.23 1867.58 1785.68 1867.01 Q1788.14 1866.43 1790.17 1866.43 Q1795.54 1866.43 1798.74 1869.11 Q1801.93 1871.8 1801.93 1876.29 Q1801.93 1878.42 1801.12 1880.34 Q1800.33 1882.24 1798.23 1884.83 Q1797.65 1885.5 1794.55 1888.72 Q1791.45 1891.91 1785.8 1897.68 Z\" fill=\"#000000\" fill-rule=\"evenodd\" fill-opacity=\"1\" /><path clip-path=\"url(#clip560)\" d=\"M1741.63 1475.26 L1771.31 1475.26 L1771.31 1479.2 L1741.63 1479.2 L1741.63 1475.26 Z\" fill=\"#000000\" fill-rule=\"evenodd\" fill-opacity=\"1\" /><path clip-path=\"url(#clip560)\" d=\"M1782.21 1488.15 L1789.85 1488.15 L1789.85 1461.79 L1781.54 1463.46 L1781.54 1459.2 L1789.8 1457.53 L1794.48 1457.53 L1794.48 1488.15 L1802.12 1488.15 L1802.12 1492.09 L1782.21 1492.09 L1782.21 1488.15 Z\" fill=\"#000000\" fill-rule=\"evenodd\" fill-opacity=\"1\" /><path clip-path=\"url(#clip560)\" d=\"M1782.21 669.108 L1789.85 669.108 L1789.85 642.742 L1781.54 644.409 L1781.54 640.15 L1789.8 638.483 L1794.48 638.483 L1794.48 669.108 L1802.12 669.108 L1802.12 673.043 L1782.21 673.043 L1782.21 669.108 Z\" fill=\"#000000\" fill-rule=\"evenodd\" fill-opacity=\"1\" /><path clip-path=\"url(#clip560)\" d=\"M1785.8 259.585 L1802.12 259.585 L1802.12 263.52 L1780.17 263.52 L1780.17 259.585 Q1782.83 256.83 1787.42 252.2 Q1792.02 247.548 1793.2 246.205 Q1795.45 243.682 1796.33 241.946 Q1797.23 240.187 1797.23 238.497 Q1797.23 235.742 1795.29 234.006 Q1793.37 232.27 1790.27 232.27 Q1788.07 232.27 1785.61 233.034 Q1783.18 233.798 1780.4 235.349 L1780.4 230.626 Q1783.23 229.492 1785.68 228.913 Q1788.14 228.335 1790.17 228.335 Q1795.54 228.335 1798.74 231.02 Q1801.93 233.705 1801.93 238.196 Q1801.93 240.325 1801.12 242.247 Q1800.33 244.145 1798.23 246.737 Q1797.65 247.409 1794.55 250.626 Q1791.45 253.821 1785.8 259.585 Z\" fill=\"#000000\" fill-rule=\"evenodd\" fill-opacity=\"1\" /><polyline clip-path=\"url(#clip562)\" style=\"stroke:#009af9; stroke-linecap:butt; stroke-linejoin:round; stroke-width:8; stroke-opacity:1; fill:none\" points=\"\n",
       "  255.514,775.709 271.601,775.709 287.687,775.709 303.773,775.709 319.86,775.709 335.946,775.709 352.033,775.709 368.119,775.709 384.206,775.709 400.292,775.709 \n",
       "  416.379,775.709 432.465,775.709 448.552,775.709 464.638,775.709 480.725,775.709 496.811,775.709 512.897,775.709 528.984,775.709 545.07,775.709 561.157,775.709 \n",
       "  577.243,775.709 593.33,775.709 609.416,775.709 625.503,775.709 641.589,775.709 657.676,775.709 673.762,775.709 689.849,775.709 705.935,775.709 722.021,775.709 \n",
       "  738.108,775.709 754.194,775.709 770.281,775.709 786.367,775.709 802.454,775.709 818.54,775.709 834.627,775.709 850.713,775.709 866.8,775.709 882.886,775.709 \n",
       "  898.973,775.709 915.059,775.709 931.145,775.709 947.232,775.709 963.318,775.709 979.405,775.709 995.491,775.709 1011.58,775.709 1027.66,775.709 1043.75,775.709 \n",
       "  1059.84,775.709 1075.92,775.709 1092.01,775.709 1108.1,775.709 1124.18,775.709 1140.27,775.709 1156.36,775.709 1172.44,775.709 1188.53,775.709 1204.62,775.709 \n",
       "  1220.7,775.709 1236.79,775.709 1252.87,775.709 1268.96,775.709 1285.05,775.709 1301.13,775.709 1317.22,775.709 1333.31,775.709 1349.39,775.709 1365.48,775.709 \n",
       "  1381.57,775.709 1397.65,775.709 1413.74,775.709 1429.83,775.709 1445.91,775.709 1462,775.709 1478.09,775.709 1494.17,775.709 1510.26,775.709 1526.34,775.709 \n",
       "  1542.43,775.709 1558.52,775.709 1574.6,775.709 1590.69,775.709 1606.78,775.709 1622.86,775.709 1638.95,775.709 1655.04,775.709 1671.12,775.709 1687.21,775.709 \n",
       "  1703.3,775.709 1719.38,775.709 1735.47,775.709 1751.55,775.709 1767.64,775.709 1783.73,775.709 1799.81,775.709 1815.9,775.709 1831.99,775.709 1848.07,775.709 \n",
       "  1864.16,775.709 1880.25,775.709 1896.33,775.709 1912.42,775.709 1928.51,775.709 1944.59,775.709 1960.68,775.709 1976.77,775.709 1992.85,775.709 2008.94,775.709 \n",
       "  2025.02,775.709 2041.11,775.709 2057.2,775.709 2073.28,775.709 2089.37,775.709 2105.46,775.709 2121.54,775.709 2137.63,775.709 2153.72,775.709 2169.8,775.709 \n",
       "  2185.89,775.709 2201.98,775.709 2218.06,775.709 2234.15,775.709 2250.24,775.709 2266.32,775.709 2282.41,775.709 2298.49,775.709 2314.58,775.709 2330.67,775.709 \n",
       "  2346.75,775.709 2362.84,775.709 2378.93,775.709 2395.01,775.709 2411.1,775.709 2427.19,775.709 2443.27,775.709 2459.36,775.709 2475.45,775.709 2491.53,775.709 \n",
       "  2507.62,775.709 2523.71,775.709 2539.79,775.709 2555.88,775.709 2571.96,775.709 2588.05,775.709 2604.14,775.709 2620.22,775.709 2636.31,775.709 2652.4,775.709 \n",
       "  2668.48,775.709 2684.57,775.709 2700.66,775.709 2716.74,775.709 2732.83,775.709 2748.92,775.709 2765,775.709 2781.09,775.709 2797.17,775.709 2813.26,775.709 \n",
       "  2829.35,775.709 2845.43,775.709 2861.52,775.709 2877.61,775.709 2893.69,775.709 2909.78,775.709 2925.87,775.709 2941.95,775.709 2958.04,775.709 2974.13,775.709 \n",
       "  2990.21,775.709 3006.3,775.709 3022.39,775.709 3038.47,775.709 3054.56,775.709 3070.64,775.709 3086.73,775.709 3102.82,775.709 3118.9,775.709 3134.99,775.709 \n",
       "  3151.08,775.709 3167.16,775.709 3183.25,775.709 3199.34,775.709 3215.42,775.709 3231.51,775.709 3247.6,775.709 3263.68,775.709 3279.77,775.709 3295.86,775.709 \n",
       "  3311.94,775.709 3328.03,775.709 3344.11,775.709 3360.2,775.709 3376.29,775.709 3392.37,775.709 3408.46,775.709 3424.55,775.709 3440.63,775.709 3456.72,775.709 \n",
       "  \n",
       "  \"/>\n",
       "<polyline clip-path=\"url(#clip562)\" style=\"stroke:#e26f46; stroke-linecap:butt; stroke-linejoin:round; stroke-width:8; stroke-opacity:1; fill:none\" points=\"\n",
       "  255.514,1566.85 271.601,1561.81 287.687,1556.77 303.773,1551.72 319.86,1546.68 335.946,1541.64 352.033,1536.6 368.119,1531.56 384.206,1526.52 400.292,1521.48 \n",
       "  416.379,1516.44 432.465,1511.4 448.552,1506.36 464.638,1501.32 480.725,1496.28 496.811,1491.24 512.897,1486.19 528.984,1481.15 545.07,1476.11 561.157,1471.07 \n",
       "  577.243,1466.03 593.33,1460.99 609.416,1455.95 625.503,1450.91 641.589,1445.87 657.676,1440.83 673.762,1435.79 689.849,1430.75 705.935,1425.7 722.021,1420.66 \n",
       "  738.108,1415.62 754.194,1410.58 770.281,1405.54 786.367,1400.5 802.454,1395.46 818.54,1390.42 834.627,1385.38 850.713,1380.34 866.8,1375.3 882.886,1370.26 \n",
       "  898.973,1365.21 915.059,1360.17 931.145,1355.13 947.232,1350.09 963.318,1345.05 979.405,1340.01 995.491,1334.97 1011.58,1329.93 1027.66,1324.89 1043.75,1319.85 \n",
       "  1059.84,1314.81 1075.92,1309.77 1092.01,1304.72 1108.1,1299.68 1124.18,1294.64 1140.27,1289.6 1156.36,1284.56 1172.44,1279.52 1188.53,1274.48 1204.62,1269.44 \n",
       "  1220.7,1264.4 1236.79,1259.36 1252.87,1254.32 1268.96,1249.28 1285.05,1244.24 1301.13,1239.19 1317.22,1234.15 1333.31,1229.11 1349.39,1224.07 1365.48,1219.03 \n",
       "  1381.57,1213.99 1397.65,1208.95 1413.74,1203.91 1429.83,1198.87 1445.91,1193.83 1462,1188.79 1478.09,1183.75 1494.17,1178.7 1510.26,1173.66 1526.34,1168.62 \n",
       "  1542.43,1163.58 1558.52,1158.54 1574.6,1153.5 1590.69,1148.46 1606.78,1143.42 1622.86,1138.38 1638.95,1133.34 1655.04,1128.3 1671.12,1123.26 1687.21,1118.21 \n",
       "  1703.3,1113.17 1719.38,1108.13 1735.47,1103.09 1751.55,1098.05 1767.64,1093.01 1783.73,1087.97 1799.81,1082.93 1815.9,1077.89 1831.99,1072.85 1848.07,1067.81 \n",
       "  1864.16,1062.77 1880.25,1057.72 1896.33,1052.68 1912.42,1047.64 1928.51,1042.6 1944.59,1037.56 1960.68,1032.52 1976.77,1027.48 1992.85,1022.44 2008.94,1017.4 \n",
       "  2025.02,1012.36 2041.11,1007.32 2057.2,1002.28 2073.28,997.235 2089.37,992.194 2105.46,987.153 2121.54,982.112 2137.63,977.072 2153.72,972.031 2169.8,966.99 \n",
       "  2185.89,961.949 2201.98,956.908 2218.06,951.868 2234.15,946.827 2250.24,941.786 2266.32,936.745 2282.41,931.704 2298.49,926.663 2314.58,921.623 2330.67,916.582 \n",
       "  2346.75,911.541 2362.84,906.5 2378.93,901.459 2395.01,896.419 2411.1,891.378 2427.19,886.337 2443.27,881.296 2459.36,876.255 2475.45,871.215 2491.53,866.174 \n",
       "  2507.62,861.133 2523.71,856.092 2539.79,851.051 2555.88,846.01 2571.96,840.97 2588.05,835.929 2604.14,830.888 2620.22,825.847 2636.31,820.806 2652.4,815.766 \n",
       "  2668.48,810.725 2684.57,805.684 2700.66,800.643 2716.74,795.602 2732.83,790.561 2748.92,785.521 2765,780.48 2781.09,775.439 2797.17,770.398 2813.26,765.357 \n",
       "  2829.35,760.317 2845.43,755.276 2861.52,750.235 2877.61,745.194 2893.69,740.153 2909.78,735.112 2925.87,730.072 2941.95,725.031 2958.04,719.99 2974.13,714.949 \n",
       "  2990.21,709.908 3006.3,704.868 3022.39,699.827 3038.47,694.786 3054.56,689.745 3070.64,684.704 3086.73,679.663 3102.82,674.623 3118.9,669.582 3134.99,664.541 \n",
       "  3151.08,659.5 3167.16,654.459 3183.25,649.419 3199.34,644.378 3215.42,639.337 3231.51,634.296 3247.6,629.255 3263.68,624.214 3279.77,619.174 3295.86,614.133 \n",
       "  3311.94,609.092 3328.03,604.051 3344.11,599.01 3360.2,593.97 3376.29,588.929 3392.37,583.888 3408.46,578.847 3424.55,573.806 3440.63,568.765 3456.72,563.725 \n",
       "  \n",
       "  \"/>\n",
       "<polyline clip-path=\"url(#clip562)\" style=\"stroke:#3da44d; stroke-linecap:butt; stroke-linejoin:round; stroke-width:8; stroke-opacity:1; fill:none\" points=\"\n",
       "  255.514,417.773 271.601,437.198 287.687,456.427 303.773,475.459 319.86,494.295 335.946,512.935 352.033,531.379 368.119,549.627 384.206,567.678 400.292,585.534 \n",
       "  416.379,603.193 432.465,620.655 448.552,637.922 464.638,654.992 480.725,671.866 496.811,688.544 512.897,705.026 528.984,721.312 545.07,737.401 561.157,753.294 \n",
       "  577.243,768.991 593.33,784.492 609.416,799.796 625.503,814.904 641.589,829.816 657.676,844.532 673.762,859.052 689.849,873.375 705.935,887.502 722.021,901.433 \n",
       "  738.108,915.168 754.194,928.707 770.281,942.049 786.367,955.195 802.454,968.145 818.54,980.899 834.627,993.456 850.713,1005.82 866.8,1017.98 882.886,1029.95 \n",
       "  898.973,1041.72 915.059,1053.3 931.145,1064.68 947.232,1075.87 963.318,1086.85 979.405,1097.64 995.491,1108.24 1011.58,1118.64 1027.66,1128.84 1043.75,1138.85 \n",
       "  1059.84,1148.66 1075.92,1158.27 1092.01,1167.69 1108.1,1176.91 1124.18,1185.94 1140.27,1194.77 1156.36,1203.4 1172.44,1211.84 1188.53,1220.08 1204.62,1228.12 \n",
       "  1220.7,1235.97 1236.79,1243.63 1252.87,1251.08 1268.96,1258.34 1285.05,1265.4 1301.13,1272.27 1317.22,1278.94 1333.31,1285.42 1349.39,1291.7 1365.48,1297.78 \n",
       "  1381.57,1303.67 1397.65,1309.36 1413.74,1314.85 1429.83,1320.15 1445.91,1325.25 1462,1330.15 1478.09,1334.86 1494.17,1339.38 1510.26,1343.69 1526.34,1347.81 \n",
       "  1542.43,1351.74 1558.52,1355.47 1574.6,1359 1590.69,1362.33 1606.78,1365.47 1622.86,1368.42 1638.95,1371.16 1655.04,1373.71 1671.12,1376.07 1687.21,1378.23 \n",
       "  1703.3,1380.19 1719.38,1381.95 1735.47,1383.52 1751.55,1384.9 1767.64,1386.07 1783.73,1387.06 1799.81,1387.84 1815.9,1388.43 1831.99,1388.82 1848.07,1389.02 \n",
       "  1864.16,1389.02 1880.25,1388.82 1896.33,1388.43 1912.42,1387.84 1928.51,1387.06 1944.59,1386.07 1960.68,1384.9 1976.77,1383.52 1992.85,1381.95 2008.94,1380.19 \n",
       "  2025.02,1378.23 2041.11,1376.07 2057.2,1373.71 2073.28,1371.16 2089.37,1368.42 2105.46,1365.47 2121.54,1362.33 2137.63,1359 2153.72,1355.47 2169.8,1351.74 \n",
       "  2185.89,1347.81 2201.98,1343.69 2218.06,1339.38 2234.15,1334.86 2250.24,1330.15 2266.32,1325.25 2282.41,1320.15 2298.49,1314.85 2314.58,1309.36 2330.67,1303.67 \n",
       "  2346.75,1297.78 2362.84,1291.7 2378.93,1285.42 2395.01,1278.94 2411.1,1272.27 2427.19,1265.4 2443.27,1258.34 2459.36,1251.08 2475.45,1243.63 2491.53,1235.97 \n",
       "  2507.62,1228.12 2523.71,1220.08 2539.79,1211.84 2555.88,1203.4 2571.96,1194.77 2588.05,1185.94 2604.14,1176.91 2620.22,1167.69 2636.31,1158.27 2652.4,1148.66 \n",
       "  2668.48,1138.85 2684.57,1128.84 2700.66,1118.64 2716.74,1108.24 2732.83,1097.64 2748.92,1086.85 2765,1075.87 2781.09,1064.68 2797.17,1053.3 2813.26,1041.72 \n",
       "  2829.35,1029.95 2845.43,1017.98 2861.52,1005.82 2877.61,993.456 2893.69,980.899 2909.78,968.145 2925.87,955.195 2941.95,942.049 2958.04,928.707 2974.13,915.168 \n",
       "  2990.21,901.433 3006.3,887.502 3022.39,873.375 3038.47,859.052 3054.56,844.532 3070.64,829.816 3086.73,814.904 3102.82,799.796 3118.9,784.492 3134.99,768.991 \n",
       "  3151.08,753.294 3167.16,737.401 3183.25,721.312 3199.34,705.026 3215.42,688.544 3231.51,671.866 3247.6,654.992 3263.68,637.922 3279.77,620.655 3295.86,603.193 \n",
       "  3311.94,585.534 3328.03,567.678 3344.11,549.627 3360.2,531.379 3376.29,512.935 3392.37,494.295 3408.46,475.459 3424.55,456.427 3440.63,437.198 3456.72,417.773 \n",
       "  \n",
       "  \"/>\n",
       "<polyline clip-path=\"url(#clip562)\" style=\"stroke:#c271d2; stroke-linecap:butt; stroke-linejoin:round; stroke-width:8; stroke-opacity:1; fill:none\" points=\"\n",
       "  255.514,1831.43 271.601,1785.81 287.687,1741.34 303.773,1698.01 319.86,1655.8 335.946,1614.7 352.033,1574.71 368.119,1535.81 384.206,1497.98 400.292,1461.23 \n",
       "  416.379,1425.53 432.465,1390.88 448.552,1357.25 464.638,1324.65 480.725,1293.06 496.811,1262.46 512.897,1232.85 528.984,1204.22 545.07,1176.55 561.157,1149.82 \n",
       "  577.243,1124.04 593.33,1099.19 609.416,1075.25 625.503,1052.21 641.589,1030.07 657.676,1008.81 673.762,988.413 689.849,968.878 705.935,950.188 722.021,932.333 \n",
       "  738.108,915.3 754.194,899.077 770.281,883.654 786.367,869.019 802.454,855.159 818.54,842.063 834.627,829.72 850.713,818.118 866.8,807.244 882.886,797.089 \n",
       "  898.973,787.639 915.059,778.883 931.145,770.81 947.232,763.407 963.318,756.664 979.405,750.568 995.491,745.108 1011.58,740.272 1027.66,736.049 1043.75,732.426 \n",
       "  1059.84,729.393 1075.92,726.937 1092.01,725.047 1108.1,723.711 1124.18,722.917 1140.27,722.654 1156.36,722.911 1172.44,723.675 1188.53,724.935 1204.62,726.678 \n",
       "  1220.7,728.895 1236.79,731.572 1252.87,734.698 1268.96,738.262 1285.05,742.252 1301.13,746.656 1317.22,751.462 1333.31,756.659 1349.39,762.236 1365.48,768.18 \n",
       "  1381.57,774.479 1397.65,781.123 1413.74,788.099 1429.83,795.396 1445.91,803.003 1462,810.906 1478.09,819.096 1494.17,827.56 1510.26,836.286 1526.34,845.263 \n",
       "  1542.43,854.479 1558.52,863.923 1574.6,873.582 1590.69,883.446 1606.78,893.502 1622.86,903.739 1638.95,914.145 1655.04,924.709 1671.12,935.419 1687.21,946.262 \n",
       "  1703.3,957.228 1719.38,968.305 1735.47,979.482 1751.55,990.745 1767.64,1002.08 1783.73,1013.49 1799.81,1024.94 1815.9,1036.44 1831.99,1047.97 1848.07,1059.51 \n",
       "  1864.16,1071.06 1880.25,1082.6 1896.33,1094.13 1912.42,1105.63 1928.51,1117.08 1944.59,1128.49 1960.68,1139.83 1976.77,1151.09 1992.85,1162.27 2008.94,1173.34 \n",
       "  2025.02,1184.31 2041.11,1195.15 2057.2,1205.86 2073.28,1216.43 2089.37,1226.83 2105.46,1237.07 2121.54,1247.13 2137.63,1256.99 2153.72,1266.65 2169.8,1276.09 \n",
       "  2185.89,1285.31 2201.98,1294.29 2218.06,1303.01 2234.15,1311.48 2250.24,1319.67 2266.32,1327.57 2282.41,1335.18 2298.49,1342.47 2314.58,1349.45 2330.67,1356.09 \n",
       "  2346.75,1362.39 2362.84,1368.34 2378.93,1373.91 2395.01,1379.11 2411.1,1383.92 2427.19,1388.32 2443.27,1392.31 2459.36,1395.87 2475.45,1399 2491.53,1401.68 \n",
       "  2507.62,1403.89 2523.71,1405.64 2539.79,1406.9 2555.88,1407.66 2571.96,1407.92 2588.05,1407.65 2604.14,1406.86 2620.22,1405.53 2636.31,1403.64 2652.4,1401.18 \n",
       "  2668.48,1398.15 2684.57,1394.52 2700.66,1390.3 2716.74,1385.46 2732.83,1380 2748.92,1373.91 2765,1367.16 2781.09,1359.76 2797.17,1351.69 2813.26,1342.93 \n",
       "  2829.35,1333.48 2845.43,1323.33 2861.52,1312.45 2877.61,1300.85 2893.69,1288.51 2909.78,1275.41 2925.87,1261.55 2941.95,1246.92 2958.04,1231.49 2974.13,1215.27 \n",
       "  2990.21,1198.24 3006.3,1180.38 3022.39,1161.69 3038.47,1142.16 3054.56,1121.77 3070.64,1100.5 3086.73,1078.36 3102.82,1055.33 3118.9,1031.39 3134.99,1006.53 \n",
       "  3151.08,980.748 3167.16,954.026 3183.25,926.353 3199.34,897.718 3215.42,868.108 3231.51,837.513 3247.6,805.921 3263.68,773.319 3279.77,739.696 3295.86,705.041 \n",
       "  3311.94,669.342 3328.03,632.587 3344.11,594.765 3360.2,555.863 3376.29,515.871 3392.37,474.776 3408.46,432.567 3424.55,389.232 3440.63,344.76 3456.72,299.138 \n",
       "  \n",
       "  \"/>\n",
       "<polyline clip-path=\"url(#clip562)\" style=\"stroke:#ac8d18; stroke-linecap:butt; stroke-linejoin:round; stroke-width:8; stroke-opacity:1; fill:none\" points=\"\n",
       "  255.514,196.556 271.601,281.907 287.687,363.401 303.773,441.129 319.86,515.183 335.946,585.65 352.033,652.621 368.119,716.181 384.206,776.418 400.292,833.417 \n",
       "  416.379,887.263 432.465,938.04 448.552,985.83 464.638,1030.72 480.725,1072.78 496.811,1112.1 512.897,1148.75 528.984,1182.82 545.07,1214.38 561.157,1243.5 \n",
       "  577.243,1270.27 593.33,1294.76 609.416,1317.04 625.503,1337.17 641.589,1355.25 657.676,1371.33 673.762,1385.49 689.849,1397.78 705.935,1408.3 722.021,1417.09 \n",
       "  738.108,1424.22 754.194,1429.77 770.281,1433.79 786.367,1436.35 802.454,1437.51 818.54,1437.33 834.627,1435.88 850.713,1433.2 866.8,1429.37 882.886,1424.43 \n",
       "  898.973,1418.45 915.059,1411.48 931.145,1403.57 947.232,1394.79 963.318,1385.18 979.405,1374.79 995.491,1363.68 1011.58,1351.89 1027.66,1339.48 1043.75,1326.49 \n",
       "  1059.84,1312.98 1075.92,1298.98 1092.01,1284.55 1108.1,1269.72 1124.18,1254.55 1140.27,1239.07 1156.36,1223.32 1172.44,1207.36 1188.53,1191.21 1204.62,1174.92 \n",
       "  1220.7,1158.52 1236.79,1142.06 1252.87,1125.56 1268.96,1109.07 1285.05,1092.62 1301.13,1076.24 1317.22,1059.96 1333.31,1043.82 1349.39,1027.84 1365.48,1012.06 \n",
       "  1381.57,996.506 1397.65,981.205 1413.74,966.184 1429.83,951.469 1445.91,937.085 1462,923.057 1478.09,909.407 1494.17,896.159 1510.26,883.333 1526.34,870.95 \n",
       "  1542.43,859.029 1558.52,847.59 1574.6,836.649 1590.69,826.224 1606.78,816.33 1622.86,806.982 1638.95,798.195 1655.04,789.981 1671.12,782.352 1687.21,775.319 \n",
       "  1703.3,768.894 1719.38,763.084 1735.47,757.899 1751.55,753.346 1767.64,749.431 1783.73,746.16 1799.81,743.537 1815.9,741.567 1831.99,740.253 1848.07,739.595 \n",
       "  1864.16,739.595 1880.25,740.253 1896.33,741.567 1912.42,743.537 1928.51,746.16 1944.59,749.431 1960.68,753.346 1976.77,757.899 1992.85,763.084 2008.94,768.894 \n",
       "  2025.02,775.319 2041.11,782.352 2057.2,789.981 2073.28,798.195 2089.37,806.982 2105.46,816.33 2121.54,826.224 2137.63,836.649 2153.72,847.59 2169.8,859.029 \n",
       "  2185.89,870.95 2201.98,883.333 2218.06,896.159 2234.15,909.407 2250.24,923.057 2266.32,937.085 2282.41,951.469 2298.49,966.184 2314.58,981.205 2330.67,996.506 \n",
       "  2346.75,1012.06 2362.84,1027.84 2378.93,1043.82 2395.01,1059.96 2411.1,1076.24 2427.19,1092.62 2443.27,1109.07 2459.36,1125.56 2475.45,1142.06 2491.53,1158.52 \n",
       "  2507.62,1174.92 2523.71,1191.21 2539.79,1207.36 2555.88,1223.32 2571.96,1239.07 2588.05,1254.55 2604.14,1269.72 2620.22,1284.55 2636.31,1298.98 2652.4,1312.98 \n",
       "  2668.48,1326.49 2684.57,1339.48 2700.66,1351.89 2716.74,1363.68 2732.83,1374.79 2748.92,1385.18 2765,1394.79 2781.09,1403.57 2797.17,1411.48 2813.26,1418.45 \n",
       "  2829.35,1424.43 2845.43,1429.37 2861.52,1433.2 2877.61,1435.88 2893.69,1437.33 2909.78,1437.51 2925.87,1436.35 2941.95,1433.79 2958.04,1429.77 2974.13,1424.22 \n",
       "  2990.21,1417.09 3006.3,1408.3 3022.39,1397.78 3038.47,1385.49 3054.56,1371.33 3070.64,1355.25 3086.73,1337.17 3102.82,1317.04 3118.9,1294.76 3134.99,1270.27 \n",
       "  3151.08,1243.5 3167.16,1214.38 3183.25,1182.82 3199.34,1148.75 3215.42,1112.1 3231.51,1072.78 3247.6,1030.72 3263.68,985.83 3279.77,938.04 3295.86,887.263 \n",
       "  3311.94,833.417 3328.03,776.418 3344.11,716.181 3360.2,652.621 3376.29,585.65 3392.37,515.183 3408.46,441.129 3424.55,363.401 3440.63,281.907 3456.72,196.556 \n",
       "  \n",
       "  \"/>\n",
       "<polyline clip-path=\"url(#clip562)\" style=\"stroke:#00a9ad; stroke-linecap:butt; stroke-linejoin:round; stroke-width:8; stroke-opacity:1; fill:none\" points=\"\n",
       "  255.514,2025.7 271.601,1885.94 287.687,1755.96 303.773,1635.37 319.86,1523.77 335.946,1420.8 352.033,1326.08 368.119,1239.26 384.206,1159.97 400.292,1087.89 \n",
       "  416.379,1022.67 432.465,963.99 448.552,911.531 464.638,864.985 480.725,824.051 496.811,788.436 512.897,757.854 528.984,732.029 545.07,710.691 561.157,693.579 \n",
       "  577.243,680.438 593.33,671.021 609.416,665.091 625.503,662.413 641.589,662.765 657.676,665.928 673.762,671.691 689.849,679.852 705.935,690.213 722.021,702.584 \n",
       "  738.108,716.782 754.194,732.63 770.281,749.958 786.367,768.601 802.454,788.403 818.54,809.21 834.627,830.879 850.713,853.27 866.8,876.248 882.886,899.687 \n",
       "  898.973,923.465 915.059,947.464 931.145,971.575 947.232,995.692 963.318,1019.71 979.405,1043.55 995.491,1067.1 1011.58,1090.3 1027.66,1113.05 1043.75,1135.28 \n",
       "  1059.84,1156.93 1075.92,1177.92 1092.01,1198.2 1108.1,1217.71 1124.18,1236.41 1140.27,1254.23 1156.36,1271.15 1172.44,1287.11 1188.53,1302.09 1204.62,1316.06 \n",
       "  1220.7,1328.98 1236.79,1340.84 1252.87,1351.61 1268.96,1361.28 1285.05,1369.84 1301.13,1377.27 1317.22,1383.57 1333.31,1388.75 1349.39,1392.79 1365.48,1395.71 \n",
       "  1381.57,1397.5 1397.65,1398.19 1413.74,1397.77 1429.83,1396.27 1445.91,1393.7 1462,1390.08 1478.09,1385.44 1494.17,1379.8 1510.26,1373.18 1526.34,1365.61 \n",
       "  1542.43,1357.13 1558.52,1347.77 1574.6,1337.56 1590.69,1326.53 1606.78,1314.74 1622.86,1302.2 1638.95,1288.97 1655.04,1275.09 1671.12,1260.6 1687.21,1245.54 \n",
       "  1703.3,1229.97 1719.38,1213.92 1735.47,1197.44 1751.55,1180.59 1767.64,1163.41 1783.73,1145.95 1799.81,1128.26 1815.9,1110.4 1831.99,1092.4 1848.07,1074.33 \n",
       "  1864.16,1056.24 1880.25,1038.17 1896.33,1020.17 1912.42,1002.31 1928.51,984.62 1944.59,967.161 1960.68,949.981 1976.77,933.129 1992.85,916.655 2008.94,900.606 \n",
       "  2025.02,885.03 2041.11,869.974 2057.2,855.483 2073.28,841.6 2089.37,828.371 2105.46,815.837 2121.54,804.038 2137.63,793.013 2153.72,782.802 2169.8,773.438 \n",
       "  2185.89,764.958 2201.98,757.394 2218.06,750.775 2234.15,745.131 2250.24,740.489 2266.32,736.873 2282.41,734.304 2298.49,732.803 2314.58,732.387 2330.67,733.07 \n",
       "  2346.75,734.865 2362.84,737.781 2378.93,741.824 2395.01,746.997 2411.1,753.303 2427.19,760.737 2443.27,769.293 2459.36,778.964 2475.45,789.736 2491.53,801.593 \n",
       "  2507.62,814.516 2523.71,828.481 2539.79,843.461 2555.88,859.426 2571.96,876.34 2588.05,894.165 2604.14,912.857 2620.22,932.37 2636.31,952.652 2652.4,973.646 \n",
       "  2668.48,995.292 2684.57,1017.52 2700.66,1040.28 2716.74,1063.47 2732.83,1087.02 2748.92,1110.86 2765,1134.88 2781.09,1159 2797.17,1183.11 2813.26,1207.11 \n",
       "  2829.35,1230.88 2845.43,1254.32 2861.52,1277.3 2877.61,1299.69 2893.69,1321.36 2909.78,1342.17 2925.87,1361.97 2941.95,1380.61 2958.04,1397.94 2974.13,1413.79 \n",
       "  2990.21,1427.99 3006.3,1440.36 3022.39,1450.72 3038.47,1458.88 3054.56,1464.64 3070.64,1467.81 3086.73,1468.16 3102.82,1465.48 3118.9,1459.55 3134.99,1450.13 \n",
       "  3151.08,1436.99 3167.16,1419.88 3183.25,1398.54 3199.34,1372.72 3215.42,1342.14 3231.51,1306.52 3247.6,1265.59 3263.68,1219.04 3279.77,1166.58 3295.86,1107.9 \n",
       "  3311.94,1042.68 3328.03,970.597 3344.11,891.313 3360.2,804.488 3376.29,709.769 3392.37,606.797 3408.46,495.203 3424.55,374.61 3440.63,244.63 3456.72,104.869 \n",
       "  \n",
       "  \"/>\n",
       "<path clip-path=\"url(#clip560)\" d=\"\n",
       "M2983.94 477.994 L3439.65 477.994 L3439.65 115.114 L2983.94 115.114  Z\n",
       "  \" fill=\"#ffffff\" fill-rule=\"evenodd\" fill-opacity=\"1\"/>\n",
       "<polyline clip-path=\"url(#clip560)\" style=\"stroke:#000000; stroke-linecap:butt; stroke-linejoin:round; stroke-width:4; stroke-opacity:1; fill:none\" points=\"\n",
       "  2983.94,477.994 3439.65,477.994 3439.65,115.114 2983.94,115.114 2983.94,477.994 \n",
       "  \"/>\n",
       "<polyline clip-path=\"url(#clip560)\" style=\"stroke:#009af9; stroke-linecap:butt; stroke-linejoin:round; stroke-width:4; stroke-opacity:1; fill:none\" points=\"\n",
       "  3021.64,166.954 3247.86,166.954 \n",
       "  \"/>\n",
       "<path clip-path=\"url(#clip560)\" d=\"M3289.96 171.294 Q3289.96 175.993 3291.88 178.678 Q3293.82 181.34 3297.2 181.34 Q3300.58 181.34 3302.53 178.678 Q3304.47 175.993 3304.47 171.294 Q3304.47 166.595 3302.53 163.933 Q3300.58 161.248 3297.2 161.248 Q3293.82 161.248 3291.88 163.933 Q3289.96 166.595 3289.96 171.294 M3304.47 180.345 Q3303.13 182.659 3301.07 183.794 Q3299.03 184.905 3296.16 184.905 Q3291.46 184.905 3288.5 181.155 Q3285.56 177.405 3285.56 171.294 Q3285.56 165.183 3288.5 161.433 Q3291.46 157.683 3296.16 157.683 Q3299.03 157.683 3301.07 158.817 Q3303.13 159.928 3304.47 162.243 L3304.47 158.308 L3308.73 158.308 L3308.73 194.095 L3304.47 194.095 L3304.47 180.345 Z\" fill=\"#000000\" fill-rule=\"evenodd\" fill-opacity=\"1\" /><path clip-path=\"url(#clip560)\" d=\"M3337.2 192.104 L3337.2 195.414 L3312.57 195.414 L3312.57 192.104 L3337.2 192.104 Z\" fill=\"#000000\" fill-rule=\"evenodd\" fill-opacity=\"1\" /><path clip-path=\"url(#clip560)\" d=\"M3351.81 152.752 Q3348.2 152.752 3346.37 156.317 Q3344.56 159.859 3344.56 166.988 Q3344.56 174.095 3346.37 177.66 Q3348.2 181.201 3351.81 181.201 Q3355.44 181.201 3357.25 177.66 Q3359.08 174.095 3359.08 166.988 Q3359.08 159.859 3357.25 156.317 Q3355.44 152.752 3351.81 152.752 M3351.81 149.049 Q3357.62 149.049 3360.68 153.655 Q3363.75 158.238 3363.75 166.988 Q3363.75 175.715 3360.68 180.322 Q3357.62 184.905 3351.81 184.905 Q3346 184.905 3342.92 180.322 Q3339.87 175.715 3339.87 166.988 Q3339.87 158.238 3342.92 153.655 Q3346 149.049 3351.81 149.049 Z\" fill=\"#000000\" fill-rule=\"evenodd\" fill-opacity=\"1\" /><polyline clip-path=\"url(#clip560)\" style=\"stroke:#e26f46; stroke-linecap:butt; stroke-linejoin:round; stroke-width:4; stroke-opacity:1; fill:none\" points=\"\n",
       "  3021.64,218.794 3247.86,218.794 \n",
       "  \"/>\n",
       "<path clip-path=\"url(#clip560)\" d=\"M3289.96 223.134 Q3289.96 227.833 3291.88 230.518 Q3293.82 233.18 3297.2 233.18 Q3300.58 233.18 3302.53 230.518 Q3304.47 227.833 3304.47 223.134 Q3304.47 218.435 3302.53 215.773 Q3300.58 213.088 3297.2 213.088 Q3293.82 213.088 3291.88 215.773 Q3289.96 218.435 3289.96 223.134 M3304.47 232.185 Q3303.13 234.499 3301.07 235.634 Q3299.03 236.745 3296.16 236.745 Q3291.46 236.745 3288.5 232.995 Q3285.56 229.245 3285.56 223.134 Q3285.56 217.023 3288.5 213.273 Q3291.46 209.523 3296.16 209.523 Q3299.03 209.523 3301.07 210.657 Q3303.13 211.768 3304.47 214.083 L3304.47 210.148 L3308.73 210.148 L3308.73 245.935 L3304.47 245.935 L3304.47 232.185 Z\" fill=\"#000000\" fill-rule=\"evenodd\" fill-opacity=\"1\" /><path clip-path=\"url(#clip560)\" d=\"M3337.2 243.944 L3337.2 247.254 L3312.57 247.254 L3312.57 243.944 L3337.2 243.944 Z\" fill=\"#000000\" fill-rule=\"evenodd\" fill-opacity=\"1\" /><path clip-path=\"url(#clip560)\" d=\"M3342.62 232.138 L3350.26 232.138 L3350.26 205.773 L3341.95 207.439 L3341.95 203.18 L3350.21 201.514 L3354.89 201.514 L3354.89 232.138 L3362.53 232.138 L3362.53 236.074 L3342.62 236.074 L3342.62 232.138 Z\" fill=\"#000000\" fill-rule=\"evenodd\" fill-opacity=\"1\" /><polyline clip-path=\"url(#clip560)\" style=\"stroke:#3da44d; stroke-linecap:butt; stroke-linejoin:round; stroke-width:4; stroke-opacity:1; fill:none\" points=\"\n",
       "  3021.64,270.634 3247.86,270.634 \n",
       "  \"/>\n",
       "<path clip-path=\"url(#clip560)\" d=\"M3289.96 274.974 Q3289.96 279.673 3291.88 282.358 Q3293.82 285.02 3297.2 285.02 Q3300.58 285.02 3302.53 282.358 Q3304.47 279.673 3304.47 274.974 Q3304.47 270.275 3302.53 267.613 Q3300.58 264.928 3297.2 264.928 Q3293.82 264.928 3291.88 267.613 Q3289.96 270.275 3289.96 274.974 M3304.47 284.025 Q3303.13 286.339 3301.07 287.474 Q3299.03 288.585 3296.16 288.585 Q3291.46 288.585 3288.5 284.835 Q3285.56 281.085 3285.56 274.974 Q3285.56 268.863 3288.5 265.113 Q3291.46 261.363 3296.16 261.363 Q3299.03 261.363 3301.07 262.497 Q3303.13 263.608 3304.47 265.923 L3304.47 261.988 L3308.73 261.988 L3308.73 297.775 L3304.47 297.775 L3304.47 284.025 Z\" fill=\"#000000\" fill-rule=\"evenodd\" fill-opacity=\"1\" /><path clip-path=\"url(#clip560)\" d=\"M3337.2 295.784 L3337.2 299.094 L3312.57 299.094 L3312.57 295.784 L3337.2 295.784 Z\" fill=\"#000000\" fill-rule=\"evenodd\" fill-opacity=\"1\" /><path clip-path=\"url(#clip560)\" d=\"M3345.84 283.978 L3362.16 283.978 L3362.16 287.914 L3340.21 287.914 L3340.21 283.978 Q3342.87 281.224 3347.46 276.594 Q3352.06 271.941 3353.25 270.599 Q3355.49 268.076 3356.37 266.34 Q3357.27 264.58 3357.27 262.891 Q3357.27 260.136 3355.33 258.4 Q3353.41 256.664 3350.31 256.664 Q3348.11 256.664 3345.65 257.428 Q3343.22 258.191 3340.44 259.742 L3340.44 255.02 Q3343.27 253.886 3345.72 253.307 Q3348.18 252.729 3350.21 252.729 Q3355.58 252.729 3358.78 255.414 Q3361.97 258.099 3361.97 262.59 Q3361.97 264.719 3361.16 266.641 Q3360.37 268.539 3358.27 271.131 Q3357.69 271.803 3354.59 275.02 Q3351.49 278.215 3345.84 283.978 Z\" fill=\"#000000\" fill-rule=\"evenodd\" fill-opacity=\"1\" /><polyline clip-path=\"url(#clip560)\" style=\"stroke:#c271d2; stroke-linecap:butt; stroke-linejoin:round; stroke-width:4; stroke-opacity:1; fill:none\" points=\"\n",
       "  3021.64,322.474 3247.86,322.474 \n",
       "  \"/>\n",
       "<path clip-path=\"url(#clip560)\" d=\"M3289.96 326.814 Q3289.96 331.513 3291.88 334.198 Q3293.82 336.86 3297.2 336.86 Q3300.58 336.86 3302.53 334.198 Q3304.47 331.513 3304.47 326.814 Q3304.47 322.115 3302.53 319.453 Q3300.58 316.768 3297.2 316.768 Q3293.82 316.768 3291.88 319.453 Q3289.96 322.115 3289.96 326.814 M3304.47 335.865 Q3303.13 338.179 3301.07 339.314 Q3299.03 340.425 3296.16 340.425 Q3291.46 340.425 3288.5 336.675 Q3285.56 332.925 3285.56 326.814 Q3285.56 320.703 3288.5 316.953 Q3291.46 313.203 3296.16 313.203 Q3299.03 313.203 3301.07 314.337 Q3303.13 315.448 3304.47 317.763 L3304.47 313.828 L3308.73 313.828 L3308.73 349.615 L3304.47 349.615 L3304.47 335.865 Z\" fill=\"#000000\" fill-rule=\"evenodd\" fill-opacity=\"1\" /><path clip-path=\"url(#clip560)\" d=\"M3337.2 347.624 L3337.2 350.934 L3312.57 350.934 L3312.57 347.624 L3337.2 347.624 Z\" fill=\"#000000\" fill-rule=\"evenodd\" fill-opacity=\"1\" /><path clip-path=\"url(#clip560)\" d=\"M3355.98 321.119 Q3359.33 321.837 3361.21 324.105 Q3363.11 326.374 3363.11 329.707 Q3363.11 334.823 3359.59 337.624 Q3356.07 340.425 3349.59 340.425 Q3347.41 340.425 3345.1 339.985 Q3342.81 339.568 3340.35 338.712 L3340.35 334.198 Q3342.3 335.332 3344.61 335.911 Q3346.93 336.49 3349.45 336.49 Q3353.85 336.49 3356.14 334.754 Q3358.45 333.017 3358.45 329.707 Q3358.45 326.652 3356.3 324.939 Q3354.17 323.203 3350.35 323.203 L3346.32 323.203 L3346.32 319.36 L3350.54 319.36 Q3353.99 319.36 3355.81 317.994 Q3357.64 316.606 3357.64 314.013 Q3357.64 311.351 3355.75 309.939 Q3353.87 308.504 3350.35 308.504 Q3348.43 308.504 3346.23 308.92 Q3344.03 309.337 3341.39 310.217 L3341.39 306.05 Q3344.06 305.309 3346.37 304.939 Q3348.71 304.569 3350.77 304.569 Q3356.09 304.569 3359.19 306.999 Q3362.3 309.406 3362.3 313.527 Q3362.3 316.397 3360.65 318.388 Q3359.01 320.356 3355.98 321.119 Z\" fill=\"#000000\" fill-rule=\"evenodd\" fill-opacity=\"1\" /><polyline clip-path=\"url(#clip560)\" style=\"stroke:#ac8d18; stroke-linecap:butt; stroke-linejoin:round; stroke-width:4; stroke-opacity:1; fill:none\" points=\"\n",
       "  3021.64,374.314 3247.86,374.314 \n",
       "  \"/>\n",
       "<path clip-path=\"url(#clip560)\" d=\"M3289.96 378.654 Q3289.96 383.353 3291.88 386.038 Q3293.82 388.7 3297.2 388.7 Q3300.58 388.7 3302.53 386.038 Q3304.47 383.353 3304.47 378.654 Q3304.47 373.955 3302.53 371.293 Q3300.58 368.608 3297.2 368.608 Q3293.82 368.608 3291.88 371.293 Q3289.96 373.955 3289.96 378.654 M3304.47 387.705 Q3303.13 390.019 3301.07 391.154 Q3299.03 392.265 3296.16 392.265 Q3291.46 392.265 3288.5 388.515 Q3285.56 384.765 3285.56 378.654 Q3285.56 372.543 3288.5 368.793 Q3291.46 365.043 3296.16 365.043 Q3299.03 365.043 3301.07 366.177 Q3303.13 367.288 3304.47 369.603 L3304.47 365.668 L3308.73 365.668 L3308.73 401.455 L3304.47 401.455 L3304.47 387.705 Z\" fill=\"#000000\" fill-rule=\"evenodd\" fill-opacity=\"1\" /><path clip-path=\"url(#clip560)\" d=\"M3337.2 399.464 L3337.2 402.774 L3312.57 402.774 L3312.57 399.464 L3337.2 399.464 Z\" fill=\"#000000\" fill-rule=\"evenodd\" fill-opacity=\"1\" /><path clip-path=\"url(#clip560)\" d=\"M3354.66 361.108 L3342.85 379.557 L3354.66 379.557 L3354.66 361.108 M3353.43 357.034 L3359.31 357.034 L3359.31 379.557 L3364.24 379.557 L3364.24 383.445 L3359.31 383.445 L3359.31 391.594 L3354.66 391.594 L3354.66 383.445 L3339.06 383.445 L3339.06 378.932 L3353.43 357.034 Z\" fill=\"#000000\" fill-rule=\"evenodd\" fill-opacity=\"1\" /><polyline clip-path=\"url(#clip560)\" style=\"stroke:#00a9ad; stroke-linecap:butt; stroke-linejoin:round; stroke-width:4; stroke-opacity:1; fill:none\" points=\"\n",
       "  3021.64,426.154 3247.86,426.154 \n",
       "  \"/>\n",
       "<path clip-path=\"url(#clip560)\" d=\"M3289.96 430.494 Q3289.96 435.193 3291.88 437.878 Q3293.82 440.54 3297.2 440.54 Q3300.58 440.54 3302.53 437.878 Q3304.47 435.193 3304.47 430.494 Q3304.47 425.795 3302.53 423.133 Q3300.58 420.448 3297.2 420.448 Q3293.82 420.448 3291.88 423.133 Q3289.96 425.795 3289.96 430.494 M3304.47 439.545 Q3303.13 441.859 3301.07 442.994 Q3299.03 444.105 3296.16 444.105 Q3291.46 444.105 3288.5 440.355 Q3285.56 436.605 3285.56 430.494 Q3285.56 424.383 3288.5 420.633 Q3291.46 416.883 3296.16 416.883 Q3299.03 416.883 3301.07 418.017 Q3303.13 419.128 3304.47 421.443 L3304.47 417.508 L3308.73 417.508 L3308.73 453.295 L3304.47 453.295 L3304.47 439.545 Z\" fill=\"#000000\" fill-rule=\"evenodd\" fill-opacity=\"1\" /><path clip-path=\"url(#clip560)\" d=\"M3337.2 451.304 L3337.2 454.614 L3312.57 454.614 L3312.57 451.304 L3337.2 451.304 Z\" fill=\"#000000\" fill-rule=\"evenodd\" fill-opacity=\"1\" /><path clip-path=\"url(#clip560)\" d=\"M3341.86 408.874 L3360.21 408.874 L3360.21 412.809 L3346.14 412.809 L3346.14 421.281 Q3347.16 420.934 3348.18 420.772 Q3349.19 420.586 3350.21 420.586 Q3356 420.586 3359.38 423.758 Q3362.76 426.929 3362.76 432.346 Q3362.76 437.924 3359.29 441.026 Q3355.81 444.105 3349.5 444.105 Q3347.32 444.105 3345.05 443.734 Q3342.81 443.364 3340.4 442.623 L3340.4 437.924 Q3342.48 439.059 3344.7 439.614 Q3346.93 440.17 3349.4 440.17 Q3353.41 440.17 3355.75 438.063 Q3358.08 435.957 3358.08 432.346 Q3358.08 428.735 3355.75 426.628 Q3353.41 424.522 3349.4 424.522 Q3347.53 424.522 3345.65 424.938 Q3343.8 425.355 3341.86 426.235 L3341.86 408.874 Z\" fill=\"#000000\" fill-rule=\"evenodd\" fill-opacity=\"1\" /></svg>\n"
      ]
     },
     "execution_count": 24,
     "metadata": {},
     "output_type": "execute_result"
    }
   ],
   "source": [
    "plot(x, hcat(collect(Q[i][x] for i in 1:p+1)...)\n",
    "    , framestyle=:origin\n",
    "    , label=hcat(collect(\"q_$i\" for i in 0:p)...))"
   ]
  },
  {
   "cell_type": "markdown",
   "id": "a652b732",
   "metadata": {
    "slideshow": {
     "slide_type": "fragment"
    }
   },
   "source": [
    "These polynomials are scaled versions of the [Legendre polynomials](https://en.wikipedia.org/wiki/Legendre_polynomials)"
   ]
  },
  {
   "cell_type": "markdown",
   "id": "61e6977b",
   "metadata": {
    "slideshow": {
     "slide_type": "subslide"
    }
   },
   "source": [
    "## We can orthogonalize nonpolynomials using Gram-Schmidt"
   ]
  },
  {
   "cell_type": "markdown",
   "id": "6e062434",
   "metadata": {},
   "source": [
    "Here we orthogonalize the set $\\{e^x, \\tanh x, \\sin x, \\text{ReLU} x, e^{-x^2}\\}$"
   ]
  },
  {
   "cell_type": "code",
   "execution_count": 25,
   "id": "7a277203",
   "metadata": {},
   "outputs": [
    {
     "data": {
      "image/svg+xml": [
       "<?xml version=\"1.0\" encoding=\"utf-8\"?>\n",
       "<svg xmlns=\"http://www.w3.org/2000/svg\" xmlns:xlink=\"http://www.w3.org/1999/xlink\" width=\"900\" height=\"550\" viewBox=\"0 0 3600 2200\">\n",
       "<defs>\n",
       "  <clipPath id=\"clip600\">\n",
       "    <rect x=\"0\" y=\"0\" width=\"3600\" height=\"2200\"/>\n",
       "  </clipPath>\n",
       "</defs>\n",
       "<path clip-path=\"url(#clip600)\" d=\"\n",
       "M0 2200 L3600 2200 L3600 0 L0 0  Z\n",
       "  \" fill=\"#ffffff\" fill-rule=\"evenodd\" fill-opacity=\"1\"/>\n",
       "<defs>\n",
       "  <clipPath id=\"clip601\">\n",
       "    <rect x=\"720\" y=\"0\" width=\"2521\" height=\"2200\"/>\n",
       "  </clipPath>\n",
       "</defs>\n",
       "<path clip-path=\"url(#clip600)\" d=\"\n",
       "M160.057 2083.33 L3552.76 2083.33 L3552.76 47.2441 L160.057 47.2441  Z\n",
       "  \" fill=\"#ffffff\" fill-rule=\"evenodd\" fill-opacity=\"1\"/>\n",
       "<defs>\n",
       "  <clipPath id=\"clip602\">\n",
       "    <rect x=\"160\" y=\"47\" width=\"3394\" height=\"2037\"/>\n",
       "  </clipPath>\n",
       "</defs>\n",
       "<polyline clip-path=\"url(#clip602)\" style=\"stroke:#000000; stroke-linecap:butt; stroke-linejoin:round; stroke-width:2; stroke-opacity:0.1; fill:none\" points=\"\n",
       "  256.076,2083.33 256.076,47.2441 \n",
       "  \"/>\n",
       "<polyline clip-path=\"url(#clip602)\" style=\"stroke:#000000; stroke-linecap:butt; stroke-linejoin:round; stroke-width:2; stroke-opacity:0.1; fill:none\" points=\"\n",
       "  1056.24,2083.33 1056.24,47.2441 \n",
       "  \"/>\n",
       "<polyline clip-path=\"url(#clip602)\" style=\"stroke:#000000; stroke-linecap:butt; stroke-linejoin:round; stroke-width:2; stroke-opacity:0.1; fill:none\" points=\"\n",
       "  2656.57,2083.33 2656.57,47.2441 \n",
       "  \"/>\n",
       "<polyline clip-path=\"url(#clip602)\" style=\"stroke:#000000; stroke-linecap:butt; stroke-linejoin:round; stroke-width:2; stroke-opacity:0.1; fill:none\" points=\"\n",
       "  3456.74,2083.33 3456.74,47.2441 \n",
       "  \"/>\n",
       "<polyline clip-path=\"url(#clip600)\" style=\"stroke:#000000; stroke-linecap:butt; stroke-linejoin:round; stroke-width:4; stroke-opacity:1; fill:none\" points=\"\n",
       "  160.057,1065.29 3552.76,1065.29 \n",
       "  \"/>\n",
       "<polyline clip-path=\"url(#clip600)\" style=\"stroke:#000000; stroke-linecap:butt; stroke-linejoin:round; stroke-width:4; stroke-opacity:1; fill:none\" points=\"\n",
       "  256.076,1084.18 256.076,1046.39 \n",
       "  \"/>\n",
       "<polyline clip-path=\"url(#clip600)\" style=\"stroke:#000000; stroke-linecap:butt; stroke-linejoin:round; stroke-width:4; stroke-opacity:1; fill:none\" points=\"\n",
       "  1056.24,1084.18 1056.24,1046.39 \n",
       "  \"/>\n",
       "<polyline clip-path=\"url(#clip600)\" style=\"stroke:#000000; stroke-linecap:butt; stroke-linejoin:round; stroke-width:4; stroke-opacity:1; fill:none\" points=\"\n",
       "  2656.57,1084.18 2656.57,1046.39 \n",
       "  \"/>\n",
       "<polyline clip-path=\"url(#clip600)\" style=\"stroke:#000000; stroke-linecap:butt; stroke-linejoin:round; stroke-width:4; stroke-opacity:1; fill:none\" points=\"\n",
       "  3456.74,1084.18 3456.74,1046.39 \n",
       "  \"/>\n",
       "<path clip-path=\"url(#clip600)\" d=\"M202.604 1120.46 L232.28 1120.46 L232.28 1124.39 L202.604 1124.39 L202.604 1120.46 Z\" fill=\"#000000\" fill-rule=\"evenodd\" fill-opacity=\"1\" /><path clip-path=\"url(#clip600)\" d=\"M243.183 1133.35 L250.822 1133.35 L250.822 1106.99 L242.512 1108.65 L242.512 1104.39 L250.776 1102.73 L255.451 1102.73 L255.451 1133.35 L263.09 1133.35 L263.09 1137.29 L243.183 1137.29 L243.183 1133.35 Z\" fill=\"#000000\" fill-rule=\"evenodd\" fill-opacity=\"1\" /><path clip-path=\"url(#clip600)\" d=\"M272.535 1131.41 L277.419 1131.41 L277.419 1137.29 L272.535 1137.29 L272.535 1131.41 Z\" fill=\"#000000\" fill-rule=\"evenodd\" fill-opacity=\"1\" /><path clip-path=\"url(#clip600)\" d=\"M297.604 1105.8 Q293.993 1105.8 292.164 1109.37 Q290.359 1112.91 290.359 1120.04 Q290.359 1127.15 292.164 1130.71 Q293.993 1134.25 297.604 1134.25 Q301.238 1134.25 303.044 1130.71 Q304.872 1127.15 304.872 1120.04 Q304.872 1112.91 303.044 1109.37 Q301.238 1105.8 297.604 1105.8 M297.604 1102.1 Q303.414 1102.1 306.47 1106.71 Q309.548 1111.29 309.548 1120.04 Q309.548 1128.77 306.47 1133.37 Q303.414 1137.96 297.604 1137.96 Q291.794 1137.96 288.715 1133.37 Q285.66 1128.77 285.66 1120.04 Q285.66 1111.29 288.715 1106.71 Q291.794 1102.1 297.604 1102.1 Z\" fill=\"#000000\" fill-rule=\"evenodd\" fill-opacity=\"1\" /><path clip-path=\"url(#clip600)\" d=\"M1003.27 1120.46 L1032.94 1120.46 L1032.94 1124.39 L1003.27 1124.39 L1003.27 1120.46 Z\" fill=\"#000000\" fill-rule=\"evenodd\" fill-opacity=\"1\" /><path clip-path=\"url(#clip600)\" d=\"M1053.04 1105.8 Q1049.42 1105.8 1047.6 1109.37 Q1045.79 1112.91 1045.79 1120.04 Q1045.79 1127.15 1047.6 1130.71 Q1049.42 1134.25 1053.04 1134.25 Q1056.67 1134.25 1058.48 1130.71 Q1060.3 1127.15 1060.3 1120.04 Q1060.3 1112.91 1058.48 1109.37 Q1056.67 1105.8 1053.04 1105.8 M1053.04 1102.1 Q1058.85 1102.1 1061.9 1106.71 Q1064.98 1111.29 1064.98 1120.04 Q1064.98 1128.77 1061.9 1133.37 Q1058.85 1137.96 1053.04 1137.96 Q1047.23 1137.96 1044.15 1133.37 Q1041.09 1128.77 1041.09 1120.04 Q1041.09 1111.29 1044.15 1106.71 Q1047.23 1102.1 1053.04 1102.1 Z\" fill=\"#000000\" fill-rule=\"evenodd\" fill-opacity=\"1\" /><path clip-path=\"url(#clip600)\" d=\"M1073.2 1131.41 L1078.08 1131.41 L1078.08 1137.29 L1073.2 1137.29 L1073.2 1131.41 Z\" fill=\"#000000\" fill-rule=\"evenodd\" fill-opacity=\"1\" /><path clip-path=\"url(#clip600)\" d=\"M1088.31 1102.73 L1106.67 1102.73 L1106.67 1106.66 L1092.6 1106.66 L1092.6 1115.13 Q1093.61 1114.79 1094.63 1114.62 Q1095.65 1114.44 1096.67 1114.44 Q1102.46 1114.44 1105.84 1117.61 Q1109.22 1120.78 1109.22 1126.2 Q1109.22 1131.78 1105.74 1134.88 Q1102.27 1137.96 1095.95 1137.96 Q1093.78 1137.96 1091.51 1137.59 Q1089.26 1137.22 1086.85 1136.48 L1086.85 1131.78 Q1088.94 1132.91 1091.16 1133.47 Q1093.38 1134.02 1095.86 1134.02 Q1099.86 1134.02 1102.2 1131.92 Q1104.54 1129.81 1104.54 1126.2 Q1104.54 1122.59 1102.2 1120.48 Q1099.86 1118.37 1095.86 1118.37 Q1093.98 1118.37 1092.11 1118.79 Q1090.26 1119.21 1088.31 1120.09 L1088.31 1102.73 Z\" fill=\"#000000\" fill-rule=\"evenodd\" fill-opacity=\"1\" /><path clip-path=\"url(#clip600)\" d=\"M2634.45 1105.8 Q2630.84 1105.8 2629.01 1109.37 Q2627.21 1112.91 2627.21 1120.04 Q2627.21 1127.15 2629.01 1130.71 Q2630.84 1134.25 2634.45 1134.25 Q2638.09 1134.25 2639.89 1130.71 Q2641.72 1127.15 2641.72 1120.04 Q2641.72 1112.91 2639.89 1109.37 Q2638.09 1105.8 2634.45 1105.8 M2634.45 1102.1 Q2640.26 1102.1 2643.32 1106.71 Q2646.4 1111.29 2646.4 1120.04 Q2646.4 1128.77 2643.32 1133.37 Q2640.26 1137.96 2634.45 1137.96 Q2628.64 1137.96 2625.56 1133.37 Q2622.51 1128.77 2622.51 1120.04 Q2622.51 1111.29 2625.56 1106.71 Q2628.64 1102.1 2634.45 1102.1 Z\" fill=\"#000000\" fill-rule=\"evenodd\" fill-opacity=\"1\" /><path clip-path=\"url(#clip600)\" d=\"M2654.62 1131.41 L2659.5 1131.41 L2659.5 1137.29 L2654.62 1137.29 L2654.62 1131.41 Z\" fill=\"#000000\" fill-rule=\"evenodd\" fill-opacity=\"1\" /><path clip-path=\"url(#clip600)\" d=\"M2669.73 1102.73 L2688.09 1102.73 L2688.09 1106.66 L2674.01 1106.66 L2674.01 1115.13 Q2675.03 1114.79 2676.05 1114.62 Q2677.07 1114.44 2678.09 1114.44 Q2683.87 1114.44 2687.25 1117.61 Q2690.63 1120.78 2690.63 1126.2 Q2690.63 1131.78 2687.16 1134.88 Q2683.69 1137.96 2677.37 1137.96 Q2675.19 1137.96 2672.93 1137.59 Q2670.68 1137.22 2668.27 1136.48 L2668.27 1131.78 Q2670.36 1132.91 2672.58 1133.47 Q2674.8 1134.02 2677.28 1134.02 Q2681.28 1134.02 2683.62 1131.92 Q2685.96 1129.81 2685.96 1126.2 Q2685.96 1122.59 2683.62 1120.48 Q2681.28 1118.37 2677.28 1118.37 Q2675.4 1118.37 2673.53 1118.79 Q2671.68 1119.21 2669.73 1120.09 L2669.73 1102.73 Z\" fill=\"#000000\" fill-rule=\"evenodd\" fill-opacity=\"1\" /><path clip-path=\"url(#clip600)\" d=\"M3423.89 1133.35 L3431.53 1133.35 L3431.53 1106.99 L3423.22 1108.65 L3423.22 1104.39 L3431.48 1102.73 L3436.16 1102.73 L3436.16 1133.35 L3443.8 1133.35 L3443.8 1137.29 L3423.89 1137.29 L3423.89 1133.35 Z\" fill=\"#000000\" fill-rule=\"evenodd\" fill-opacity=\"1\" /><path clip-path=\"url(#clip600)\" d=\"M3453.24 1131.41 L3458.12 1131.41 L3458.12 1137.29 L3453.24 1137.29 L3453.24 1131.41 Z\" fill=\"#000000\" fill-rule=\"evenodd\" fill-opacity=\"1\" /><path clip-path=\"url(#clip600)\" d=\"M3478.31 1105.8 Q3474.7 1105.8 3472.87 1109.37 Q3471.06 1112.91 3471.06 1120.04 Q3471.06 1127.15 3472.87 1130.71 Q3474.7 1134.25 3478.31 1134.25 Q3481.94 1134.25 3483.75 1130.71 Q3485.58 1127.15 3485.58 1120.04 Q3485.58 1112.91 3483.75 1109.37 Q3481.94 1105.8 3478.31 1105.8 M3478.31 1102.1 Q3484.12 1102.1 3487.18 1106.71 Q3490.25 1111.29 3490.25 1120.04 Q3490.25 1128.77 3487.18 1133.37 Q3484.12 1137.96 3478.31 1137.96 Q3472.5 1137.96 3469.42 1133.37 Q3466.37 1128.77 3466.37 1120.04 Q3466.37 1111.29 3469.42 1106.71 Q3472.5 1102.1 3478.31 1102.1 Z\" fill=\"#000000\" fill-rule=\"evenodd\" fill-opacity=\"1\" /><polyline clip-path=\"url(#clip602)\" style=\"stroke:#000000; stroke-linecap:butt; stroke-linejoin:round; stroke-width:2; stroke-opacity:0.1; fill:none\" points=\"\n",
       "  160.057,2083.33 3552.76,2083.33 \n",
       "  \"/>\n",
       "<polyline clip-path=\"url(#clip602)\" style=\"stroke:#000000; stroke-linecap:butt; stroke-linejoin:round; stroke-width:2; stroke-opacity:0.1; fill:none\" points=\"\n",
       "  160.057,1743.98 3552.76,1743.98 \n",
       "  \"/>\n",
       "<polyline clip-path=\"url(#clip602)\" style=\"stroke:#000000; stroke-linecap:butt; stroke-linejoin:round; stroke-width:2; stroke-opacity:0.1; fill:none\" points=\"\n",
       "  160.057,1404.63 3552.76,1404.63 \n",
       "  \"/>\n",
       "<polyline clip-path=\"url(#clip602)\" style=\"stroke:#000000; stroke-linecap:butt; stroke-linejoin:round; stroke-width:2; stroke-opacity:0.1; fill:none\" points=\"\n",
       "  160.057,725.939 3552.76,725.939 \n",
       "  \"/>\n",
       "<polyline clip-path=\"url(#clip602)\" style=\"stroke:#000000; stroke-linecap:butt; stroke-linejoin:round; stroke-width:2; stroke-opacity:0.1; fill:none\" points=\"\n",
       "  160.057,386.591 3552.76,386.591 \n",
       "  \"/>\n",
       "<polyline clip-path=\"url(#clip602)\" style=\"stroke:#000000; stroke-linecap:butt; stroke-linejoin:round; stroke-width:2; stroke-opacity:0.1; fill:none\" points=\"\n",
       "  160.057,47.2441 3552.76,47.2441 \n",
       "  \"/>\n",
       "<polyline clip-path=\"url(#clip600)\" style=\"stroke:#000000; stroke-linecap:butt; stroke-linejoin:round; stroke-width:4; stroke-opacity:1; fill:none\" points=\"\n",
       "  1856.41,2083.33 1856.41,47.2441 \n",
       "  \"/>\n",
       "<polyline clip-path=\"url(#clip600)\" style=\"stroke:#000000; stroke-linecap:butt; stroke-linejoin:round; stroke-width:4; stroke-opacity:1; fill:none\" points=\"\n",
       "  1837.51,2083.33 1875.3,2083.33 \n",
       "  \"/>\n",
       "<polyline clip-path=\"url(#clip600)\" style=\"stroke:#000000; stroke-linecap:butt; stroke-linejoin:round; stroke-width:4; stroke-opacity:1; fill:none\" points=\"\n",
       "  1837.51,1743.98 1875.3,1743.98 \n",
       "  \"/>\n",
       "<polyline clip-path=\"url(#clip600)\" style=\"stroke:#000000; stroke-linecap:butt; stroke-linejoin:round; stroke-width:4; stroke-opacity:1; fill:none\" points=\"\n",
       "  1837.51,1404.63 1875.3,1404.63 \n",
       "  \"/>\n",
       "<polyline clip-path=\"url(#clip600)\" style=\"stroke:#000000; stroke-linecap:butt; stroke-linejoin:round; stroke-width:4; stroke-opacity:1; fill:none\" points=\"\n",
       "  1837.51,725.939 1875.3,725.939 \n",
       "  \"/>\n",
       "<polyline clip-path=\"url(#clip600)\" style=\"stroke:#000000; stroke-linecap:butt; stroke-linejoin:round; stroke-width:4; stroke-opacity:1; fill:none\" points=\"\n",
       "  1837.51,386.591 1875.3,386.591 \n",
       "  \"/>\n",
       "<polyline clip-path=\"url(#clip600)\" style=\"stroke:#000000; stroke-linecap:butt; stroke-linejoin:round; stroke-width:4; stroke-opacity:1; fill:none\" points=\"\n",
       "  1837.51,47.2441 1875.3,47.2441 \n",
       "  \"/>\n",
       "<path clip-path=\"url(#clip600)\" d=\"M1741.34 2083.78 L1771.02 2083.78 L1771.02 2087.71 L1741.34 2087.71 L1741.34 2083.78 Z\" fill=\"#000000\" fill-rule=\"evenodd\" fill-opacity=\"1\" /><path clip-path=\"url(#clip600)\" d=\"M1795.28 2081.97 Q1798.63 2082.69 1800.51 2084.96 Q1802.41 2087.23 1802.41 2090.56 Q1802.41 2095.68 1798.89 2098.48 Q1795.37 2101.28 1788.89 2101.28 Q1786.71 2101.28 1784.4 2100.84 Q1782.11 2100.42 1779.65 2099.57 L1779.65 2095.05 Q1781.6 2096.19 1783.91 2096.77 Q1786.23 2097.34 1788.75 2097.34 Q1793.15 2097.34 1795.44 2095.61 Q1797.75 2093.87 1797.75 2090.56 Q1797.75 2087.51 1795.6 2085.79 Q1793.47 2084.06 1789.65 2084.06 L1785.62 2084.06 L1785.62 2080.21 L1789.84 2080.21 Q1793.29 2080.21 1795.11 2078.85 Q1796.94 2077.46 1796.94 2074.87 Q1796.94 2072.21 1795.05 2070.79 Q1793.17 2069.36 1789.65 2069.36 Q1787.73 2069.36 1785.53 2069.77 Q1783.33 2070.19 1780.69 2071.07 L1780.69 2066.9 Q1783.36 2066.16 1785.67 2065.79 Q1788.01 2065.42 1790.07 2065.42 Q1795.39 2065.42 1798.49 2067.85 Q1801.6 2070.26 1801.6 2074.38 Q1801.6 2077.25 1799.95 2079.24 Q1798.31 2081.21 1795.28 2081.97 Z\" fill=\"#000000\" fill-rule=\"evenodd\" fill-opacity=\"1\" /><path clip-path=\"url(#clip600)\" d=\"M1742.29 1744.43 L1771.97 1744.43 L1771.97 1748.37 L1742.29 1748.37 L1742.29 1744.43 Z\" fill=\"#000000\" fill-rule=\"evenodd\" fill-opacity=\"1\" /><path clip-path=\"url(#clip600)\" d=\"M1786.09 1757.33 L1802.41 1757.33 L1802.41 1761.26 L1780.46 1761.26 L1780.46 1757.33 Q1783.12 1754.57 1787.71 1749.94 Q1792.31 1745.29 1793.49 1743.95 Q1795.74 1741.42 1796.62 1739.69 Q1797.52 1737.93 1797.52 1736.24 Q1797.52 1733.48 1795.58 1731.75 Q1793.66 1730.01 1790.55 1730.01 Q1788.36 1730.01 1785.9 1730.77 Q1783.47 1731.54 1780.69 1733.09 L1780.69 1728.37 Q1783.52 1727.23 1785.97 1726.65 Q1788.42 1726.08 1790.46 1726.08 Q1795.83 1726.08 1799.03 1728.76 Q1802.22 1731.45 1802.22 1735.94 Q1802.22 1738.07 1801.41 1739.99 Q1800.62 1741.89 1798.52 1744.48 Q1797.94 1745.15 1794.84 1748.37 Q1791.74 1751.56 1786.09 1757.33 Z\" fill=\"#000000\" fill-rule=\"evenodd\" fill-opacity=\"1\" /><path clip-path=\"url(#clip600)\" d=\"M1741.92 1405.08 L1771.6 1405.08 L1771.6 1409.02 L1741.92 1409.02 L1741.92 1405.08 Z\" fill=\"#000000\" fill-rule=\"evenodd\" fill-opacity=\"1\" /><path clip-path=\"url(#clip600)\" d=\"M1782.5 1417.98 L1790.14 1417.98 L1790.14 1391.61 L1781.83 1393.28 L1781.83 1389.02 L1790.09 1387.35 L1794.77 1387.35 L1794.77 1417.98 L1802.41 1417.98 L1802.41 1421.91 L1782.5 1421.91 L1782.5 1417.98 Z\" fill=\"#000000\" fill-rule=\"evenodd\" fill-opacity=\"1\" /><path clip-path=\"url(#clip600)\" d=\"M1782.5 739.284 L1790.14 739.284 L1790.14 712.918 L1781.83 714.585 L1781.83 710.325 L1790.09 708.659 L1794.77 708.659 L1794.77 739.284 L1802.41 739.284 L1802.41 743.219 L1782.5 743.219 L1782.5 739.284 Z\" fill=\"#000000\" fill-rule=\"evenodd\" fill-opacity=\"1\" /><path clip-path=\"url(#clip600)\" d=\"M1786.09 399.936 L1802.41 399.936 L1802.41 403.871 L1780.46 403.871 L1780.46 399.936 Q1783.12 397.182 1787.71 392.552 Q1792.31 387.899 1793.49 386.557 Q1795.74 384.034 1796.62 382.297 Q1797.52 380.538 1797.52 378.848 Q1797.52 376.094 1795.58 374.358 Q1793.66 372.622 1790.55 372.622 Q1788.36 372.622 1785.9 373.385 Q1783.47 374.149 1780.69 375.7 L1780.69 370.978 Q1783.52 369.844 1785.97 369.265 Q1788.42 368.686 1790.46 368.686 Q1795.83 368.686 1799.03 371.372 Q1802.22 374.057 1802.22 378.547 Q1802.22 380.677 1801.41 382.598 Q1800.62 384.496 1798.52 387.089 Q1797.94 387.76 1794.84 390.978 Q1791.74 394.172 1786.09 399.936 Z\" fill=\"#000000\" fill-rule=\"evenodd\" fill-opacity=\"1\" /><path clip-path=\"url(#clip600)\" d=\"M1795.28 45.8899 Q1798.63 46.6075 1800.51 48.876 Q1802.41 51.1445 1802.41 54.4779 Q1802.41 59.5936 1798.89 62.3945 Q1795.37 65.1954 1788.89 65.1954 Q1786.71 65.1954 1784.4 64.7556 Q1782.11 64.3389 1779.65 63.4824 L1779.65 58.9686 Q1781.6 60.1028 1783.91 60.6815 Q1786.23 61.2602 1788.75 61.2602 Q1793.15 61.2602 1795.44 59.5241 Q1797.75 57.788 1797.75 54.4779 Q1797.75 51.4223 1795.6 49.7094 Q1793.47 47.9733 1789.65 47.9733 L1785.62 47.9733 L1785.62 44.1307 L1789.84 44.1307 Q1793.29 44.1307 1795.11 42.765 Q1796.94 41.3761 1796.94 38.7835 Q1796.94 36.1215 1795.05 34.7094 Q1793.17 33.2743 1789.65 33.2743 Q1787.73 33.2743 1785.53 33.6909 Q1783.33 34.1076 1780.69 34.9872 L1780.69 30.8206 Q1783.36 30.0798 1785.67 29.7095 Q1788.01 29.3391 1790.07 29.3391 Q1795.39 29.3391 1798.49 31.7696 Q1801.6 34.177 1801.6 38.2974 Q1801.6 41.1677 1799.95 43.1585 Q1798.31 45.1261 1795.28 45.8899 Z\" fill=\"#000000\" fill-rule=\"evenodd\" fill-opacity=\"1\" /><polyline clip-path=\"url(#clip602)\" style=\"stroke:#009af9; stroke-linecap:butt; stroke-linejoin:round; stroke-width:8; stroke-opacity:1; fill:none\" points=\"\n",
       "  256.076,940.447 272.16,939.186 288.244,937.912 304.328,936.626 320.411,935.326 336.495,934.013 352.579,932.688 368.662,931.348 384.746,929.995 400.83,928.629 \n",
       "  416.914,927.248 432.997,925.854 449.081,924.446 465.165,923.023 481.248,921.586 497.332,920.135 513.416,918.668 529.5,917.187 545.583,915.691 561.667,914.18 \n",
       "  577.751,912.654 593.834,911.112 609.918,909.555 626.002,907.982 642.086,906.393 658.169,904.788 674.253,903.167 690.337,901.529 706.42,899.875 722.504,898.205 \n",
       "  738.588,896.517 754.672,894.812 770.755,893.09 786.839,891.351 802.923,889.594 819.007,887.819 835.09,886.027 851.174,884.216 867.258,882.387 883.341,880.54 \n",
       "  899.425,878.674 915.509,876.789 931.593,874.885 947.676,872.961 963.76,871.019 979.844,869.056 995.927,867.074 1012.01,865.072 1028.09,863.05 1044.18,861.007 \n",
       "  1060.26,858.944 1076.35,856.859 1092.43,854.754 1108.51,852.628 1124.6,850.479 1140.68,848.31 1156.76,846.118 1172.85,843.904 1188.93,841.668 1205.02,839.409 \n",
       "  1221.1,837.128 1237.18,834.823 1253.27,832.495 1269.35,830.144 1285.43,827.769 1301.52,825.37 1317.6,822.946 1333.69,820.498 1349.77,818.026 1365.85,815.528 \n",
       "  1381.94,813.005 1398.02,810.457 1414.1,807.883 1430.19,805.283 1446.27,802.657 1462.36,800.004 1478.44,797.325 1494.52,794.618 1510.61,791.884 1526.69,789.122 \n",
       "  1542.77,786.333 1558.86,783.515 1574.94,780.669 1591.02,777.794 1607.11,774.89 1623.19,771.957 1639.28,768.994 1655.36,766.001 1671.44,762.978 1687.53,759.924 \n",
       "  1703.61,756.84 1719.69,753.724 1735.78,750.577 1751.86,747.399 1767.95,744.188 1784.03,740.944 1800.11,737.668 1816.2,734.359 1832.28,731.016 1848.36,727.64 \n",
       "  1864.45,724.229 1880.53,720.784 1896.62,717.304 1912.7,713.789 1928.78,710.239 1944.87,706.653 1960.95,703.03 1977.03,699.371 1993.12,695.675 2009.2,691.942 \n",
       "  2025.29,688.17 2041.37,684.361 2057.45,680.514 2073.54,676.627 2089.62,672.701 2105.7,668.736 2121.79,664.73 2137.87,660.684 2153.96,656.597 2170.04,652.469 \n",
       "  2186.12,648.299 2202.21,644.087 2218.29,639.833 2234.37,635.535 2250.46,631.195 2266.54,626.81 2282.62,622.381 2298.71,617.907 2314.79,613.388 2330.88,608.824 \n",
       "  2346.96,604.213 2363.04,599.556 2379.13,594.851 2395.21,590.099 2411.29,585.3 2427.38,580.451 2443.46,575.554 2459.55,570.607 2475.63,565.611 2491.71,560.563 \n",
       "  2507.8,555.465 2523.88,550.316 2539.96,545.114 2556.05,539.86 2572.13,534.552 2588.22,529.191 2604.3,523.776 2620.38,518.307 2636.47,512.782 2652.55,507.201 \n",
       "  2668.63,501.564 2684.72,495.87 2700.8,490.118 2716.89,484.308 2732.97,478.44 2749.05,472.512 2765.14,466.525 2781.22,460.477 2797.3,454.367 2813.39,448.197 \n",
       "  2829.47,441.963 2845.55,435.667 2861.64,429.307 2877.72,422.884 2893.81,416.395 2909.89,409.84 2925.97,403.22 2942.06,396.532 2958.14,389.777 2974.22,382.954 \n",
       "  2990.31,376.062 3006.39,369.1 3022.48,362.068 3038.56,354.965 3054.64,347.79 3070.73,340.542 3086.81,333.222 3102.89,325.827 3118.98,318.358 3135.06,310.813 \n",
       "  3151.15,303.192 3167.23,295.495 3183.31,287.719 3199.4,279.865 3215.48,271.931 3231.56,263.918 3247.65,255.823 3263.73,247.647 3279.82,239.388 3295.9,231.046 \n",
       "  3311.98,222.619 3328.07,214.107 3344.15,205.51 3360.23,196.825 3376.32,188.053 3392.4,179.192 3408.48,170.242 3424.57,161.201 3440.65,152.069 3456.74,142.844 \n",
       "  \n",
       "  \"/>\n",
       "<polyline clip-path=\"url(#clip602)\" style=\"stroke:#e26f46; stroke-linecap:butt; stroke-linejoin:round; stroke-width:8; stroke-opacity:1; fill:none\" points=\"\n",
       "  256.076,1323.73 272.16,1322.29 288.244,1320.82 304.328,1319.33 320.411,1317.82 336.495,1316.29 352.579,1314.73 368.662,1313.16 384.746,1311.55 400.83,1309.93 \n",
       "  416.914,1308.28 432.997,1306.6 449.081,1304.9 465.165,1303.18 481.248,1301.44 497.332,1299.66 513.416,1297.87 529.5,1296.05 545.583,1294.2 561.667,1292.33 \n",
       "  577.751,1290.43 593.834,1288.51 609.918,1286.56 626.002,1284.59 642.086,1282.59 658.169,1280.57 674.253,1278.52 690.337,1276.44 706.42,1274.34 722.504,1272.21 \n",
       "  738.588,1270.05 754.672,1267.87 770.755,1265.66 786.839,1263.43 802.923,1261.17 819.007,1258.88 835.09,1256.56 851.174,1254.22 867.258,1251.86 883.341,1249.47 \n",
       "  899.425,1247.05 915.509,1244.6 931.593,1242.13 947.676,1239.63 963.76,1237.11 979.844,1234.56 995.927,1231.99 1012.01,1229.39 1028.09,1226.76 1044.18,1224.11 \n",
       "  1060.26,1221.43 1076.35,1218.73 1092.43,1216.01 1108.51,1213.26 1124.6,1210.48 1140.68,1207.68 1156.76,1204.86 1172.85,1202.02 1188.93,1199.15 1205.02,1196.26 \n",
       "  1221.1,1193.34 1237.18,1190.41 1253.27,1187.45 1269.35,1184.47 1285.43,1181.47 1301.52,1178.45 1317.6,1175.41 1333.69,1172.35 1349.77,1169.27 1365.85,1166.17 \n",
       "  1381.94,1163.05 1398.02,1159.91 1414.1,1156.76 1430.19,1153.59 1446.27,1150.4 1462.36,1147.2 1478.44,1143.98 1494.52,1140.74 1510.61,1137.49 1526.69,1134.23 \n",
       "  1542.77,1130.95 1558.86,1127.66 1574.94,1124.36 1591.02,1121.05 1607.11,1117.73 1623.19,1114.39 1639.28,1111.05 1655.36,1107.69 1671.44,1104.33 1687.53,1100.96 \n",
       "  1703.61,1097.59 1719.69,1094.21 1735.78,1090.82 1751.86,1087.42 1767.95,1084.02 1784.03,1080.62 1800.11,1077.22 1816.2,1073.81 1832.28,1070.4 1848.36,1066.99 \n",
       "  1864.45,1063.58 1880.53,1060.17 1896.62,1056.76 1912.7,1053.35 1928.78,1049.95 1944.87,1046.55 1960.95,1043.15 1977.03,1039.76 1993.12,1036.37 2009.2,1032.98 \n",
       "  2025.29,1029.61 2041.37,1026.24 2057.45,1022.88 2073.54,1019.52 2089.62,1016.18 2105.7,1012.85 2121.79,1009.52 2137.87,1006.21 2153.96,1002.91 2170.04,999.619 \n",
       "  2186.12,996.343 2202.21,993.08 2218.29,989.831 2234.37,986.596 2250.46,983.377 2266.54,980.173 2282.62,976.985 2298.71,973.814 2314.79,970.66 2330.88,967.523 \n",
       "  2346.96,964.405 2363.04,961.305 2379.13,958.225 2395.21,955.163 2411.29,952.122 2427.38,949.101 2443.46,946.101 2459.55,943.121 2475.63,940.164 2491.71,937.228 \n",
       "  2507.8,934.314 2523.88,931.423 2539.96,928.555 2556.05,925.709 2572.13,922.888 2588.22,920.089 2604.3,917.315 2620.38,914.565 2636.47,911.84 2652.55,909.139 \n",
       "  2668.63,906.463 2684.72,903.812 2700.8,901.187 2716.89,898.586 2732.97,896.012 2749.05,893.463 2765.14,890.939 2781.22,888.442 2797.3,885.971 2813.39,883.526 \n",
       "  2829.47,881.107 2845.55,878.714 2861.64,876.347 2877.72,874.007 2893.81,871.694 2909.89,869.406 2925.97,867.145 2942.06,864.911 2958.14,862.702 2974.22,860.52 \n",
       "  2990.31,858.365 3006.39,856.235 3022.48,854.132 3038.56,852.055 3054.64,850.004 3070.73,847.98 3086.81,845.98 3102.89,844.007 3118.98,842.06 3135.06,840.138 \n",
       "  3151.15,838.241 3167.23,836.37 3183.31,834.524 3199.4,832.703 3215.48,830.907 3231.56,829.136 3247.65,827.389 3263.73,825.667 3279.82,823.969 3295.9,822.295 \n",
       "  3311.98,820.645 3328.07,819.019 3344.15,817.417 3360.23,815.837 3376.32,814.281 3392.4,812.748 3408.48,811.238 3424.57,809.75 3440.65,808.284 3456.74,806.841 \n",
       "  \n",
       "  \"/>\n",
       "<polyline clip-path=\"url(#clip602)\" style=\"stroke:#3da44d; stroke-linecap:butt; stroke-linejoin:round; stroke-width:8; stroke-opacity:1; fill:none\" points=\"\n",
       "  256.076,1350.84 272.16,1348.98 288.244,1347.09 304.328,1345.18 320.411,1343.24 336.495,1341.27 352.579,1339.27 368.662,1337.24 384.746,1335.19 400.83,1333.11 \n",
       "  416.914,1331 432.997,1328.87 449.081,1326.7 465.165,1324.52 481.248,1322.3 497.332,1320.06 513.416,1317.8 529.5,1315.51 545.583,1313.19 561.667,1310.85 \n",
       "  577.751,1308.48 593.834,1306.09 609.918,1303.68 626.002,1301.24 642.086,1298.77 658.169,1296.29 674.253,1293.78 690.337,1291.24 706.42,1288.69 722.504,1286.11 \n",
       "  738.588,1283.51 754.672,1280.89 770.755,1278.24 786.839,1275.57 802.923,1272.89 819.007,1270.18 835.09,1267.45 851.174,1264.7 867.258,1261.93 883.341,1259.14 \n",
       "  899.425,1256.33 915.509,1253.5 931.593,1250.66 947.676,1247.79 963.76,1244.91 979.844,1242 995.927,1239.08 1012.01,1236.15 1028.09,1233.19 1044.18,1230.22 \n",
       "  1060.26,1227.23 1076.35,1224.22 1092.43,1221.2 1108.51,1218.17 1124.6,1215.11 1140.68,1212.05 1156.76,1208.96 1172.85,1205.87 1188.93,1202.75 1205.02,1199.63 \n",
       "  1221.1,1196.49 1237.18,1193.34 1253.27,1190.17 1269.35,1187 1285.43,1183.81 1301.52,1180.61 1317.6,1177.39 1333.69,1174.17 1349.77,1170.93 1365.85,1167.69 \n",
       "  1381.94,1164.43 1398.02,1161.16 1414.1,1157.89 1430.19,1154.6 1446.27,1151.31 1462.36,1148 1478.44,1144.69 1494.52,1141.37 1510.61,1138.04 1526.69,1134.71 \n",
       "  1542.77,1131.37 1558.86,1128.02 1574.94,1124.66 1591.02,1121.3 1607.11,1117.94 1623.19,1114.56 1639.28,1111.19 1655.36,1107.81 1671.44,1104.42 1687.53,1101.03 \n",
       "  1703.61,1097.64 1719.69,1094.24 1735.78,1090.84 1751.86,1087.44 1767.95,1084.03 1784.03,1080.63 1800.11,1077.22 1816.2,1073.81 1832.28,1070.4 1848.36,1066.99 \n",
       "  1864.45,1063.58 1880.53,1060.17 1896.62,1056.76 1912.7,1053.35 1928.78,1049.94 1944.87,1046.54 1960.95,1043.13 1977.03,1039.73 1993.12,1036.33 2009.2,1032.94 \n",
       "  2025.29,1029.54 2041.37,1026.15 2057.45,1022.77 2073.54,1019.39 2089.62,1016.01 2105.7,1012.64 2121.79,1009.27 2137.87,1005.91 2153.96,1002.55 2170.04,999.206 \n",
       "  2186.12,995.864 2202.21,992.529 2218.29,989.201 2234.37,985.882 2250.46,982.57 2266.54,979.266 2282.62,975.972 2298.71,972.686 2314.79,969.41 2330.88,966.143 \n",
       "  2346.96,962.886 2363.04,959.64 2379.13,956.404 2395.21,953.18 2411.29,949.966 2427.38,946.765 2443.46,943.575 2459.55,940.398 2475.63,937.233 2491.71,934.081 \n",
       "  2507.8,930.942 2523.88,927.817 2539.96,924.706 2556.05,921.609 2572.13,918.527 2588.22,915.459 2604.3,912.407 2620.38,909.37 2636.47,906.348 2652.55,903.343 \n",
       "  2668.63,900.354 2684.72,897.382 2700.8,894.427 2716.89,891.489 2732.97,888.568 2749.05,885.666 2765.14,882.781 2781.22,879.915 2797.3,877.068 2813.39,874.239 \n",
       "  2829.47,871.43 2845.55,868.641 2861.64,865.871 2877.72,863.122 2893.81,860.393 2909.89,857.685 2925.97,854.997 2942.06,852.331 2958.14,849.687 2974.22,847.064 \n",
       "  2990.31,844.463 3006.39,841.885 3022.48,839.329 3038.56,836.796 3054.64,834.286 3070.73,831.799 3086.81,829.336 3102.89,826.897 3118.98,824.482 3135.06,822.091 \n",
       "  3151.15,819.725 3167.23,817.383 3183.31,815.067 3199.4,812.776 3215.48,810.51 3231.56,808.27 3247.65,806.056 3263.73,803.868 3279.82,801.707 3295.9,799.572 \n",
       "  3311.98,797.464 3328.07,795.383 3344.15,793.33 3360.23,791.304 3376.32,789.305 3392.4,787.335 3408.48,785.392 3424.57,783.478 3440.65,781.592 3456.74,779.735 \n",
       "  \n",
       "  \"/>\n",
       "<polyline clip-path=\"url(#clip602)\" style=\"stroke:#c271d2; stroke-linecap:butt; stroke-linejoin:round; stroke-width:8; stroke-opacity:1; fill:none\" points=\"\n",
       "  256.076,1065.29 272.16,1065.29 288.244,1065.29 304.328,1065.29 320.411,1065.29 336.495,1065.29 352.579,1065.29 368.662,1065.29 384.746,1065.29 400.83,1065.29 \n",
       "  416.914,1065.29 432.997,1065.29 449.081,1065.29 465.165,1065.29 481.248,1065.29 497.332,1065.29 513.416,1065.29 529.5,1065.29 545.583,1065.29 561.667,1065.29 \n",
       "  577.751,1065.29 593.834,1065.29 609.918,1065.29 626.002,1065.29 642.086,1065.29 658.169,1065.29 674.253,1065.29 690.337,1065.29 706.42,1065.29 722.504,1065.29 \n",
       "  738.588,1065.29 754.672,1065.29 770.755,1065.29 786.839,1065.29 802.923,1065.29 819.007,1065.29 835.09,1065.29 851.174,1065.29 867.258,1065.29 883.341,1065.29 \n",
       "  899.425,1065.29 915.509,1065.29 931.593,1065.29 947.676,1065.29 963.76,1065.29 979.844,1065.29 995.927,1065.29 1012.01,1065.29 1028.09,1065.29 1044.18,1065.29 \n",
       "  1060.26,1065.29 1076.35,1065.29 1092.43,1065.29 1108.51,1065.29 1124.6,1065.29 1140.68,1065.29 1156.76,1065.29 1172.85,1065.29 1188.93,1065.29 1205.02,1065.29 \n",
       "  1221.1,1065.29 1237.18,1065.29 1253.27,1065.29 1269.35,1065.29 1285.43,1065.29 1301.52,1065.29 1317.6,1065.29 1333.69,1065.29 1349.77,1065.29 1365.85,1065.29 \n",
       "  1381.94,1065.29 1398.02,1065.29 1414.1,1065.29 1430.19,1065.29 1446.27,1065.29 1462.36,1065.29 1478.44,1065.29 1494.52,1065.29 1510.61,1065.29 1526.69,1065.29 \n",
       "  1542.77,1065.29 1558.86,1065.29 1574.94,1065.29 1591.02,1065.29 1607.11,1065.29 1623.19,1065.29 1639.28,1065.29 1655.36,1065.29 1671.44,1065.29 1687.53,1065.29 \n",
       "  1703.61,1065.29 1719.69,1065.29 1735.78,1065.29 1751.86,1065.29 1767.95,1065.29 1784.03,1065.29 1800.11,1065.29 1816.2,1065.29 1832.28,1065.29 1848.36,1065.29 \n",
       "  1864.45,1063.58 1880.53,1060.17 1896.62,1056.76 1912.7,1053.35 1928.78,1049.94 1944.87,1046.53 1960.95,1043.12 1977.03,1039.71 1993.12,1036.3 2009.2,1032.89 \n",
       "  2025.29,1029.48 2041.37,1026.06 2057.45,1022.65 2073.54,1019.24 2089.62,1015.83 2105.7,1012.42 2121.79,1009.01 2137.87,1005.6 2153.96,1002.19 2170.04,998.781 \n",
       "  2186.12,995.37 2202.21,991.96 2218.29,988.549 2234.37,985.139 2250.46,981.728 2266.54,978.318 2282.62,974.907 2298.71,971.497 2314.79,968.086 2330.88,964.675 \n",
       "  2346.96,961.265 2363.04,957.854 2379.13,954.444 2395.21,951.033 2411.29,947.623 2427.38,944.212 2443.46,940.802 2459.55,937.391 2475.63,933.981 2491.71,930.57 \n",
       "  2507.8,927.16 2523.88,923.749 2539.96,920.339 2556.05,916.928 2572.13,913.518 2588.22,910.107 2604.3,906.697 2620.38,903.286 2636.47,899.875 2652.55,896.465 \n",
       "  2668.63,893.054 2684.72,889.644 2700.8,886.233 2716.89,882.823 2732.97,879.412 2749.05,876.002 2765.14,872.591 2781.22,869.181 2797.3,865.77 2813.39,862.36 \n",
       "  2829.47,858.949 2845.55,855.539 2861.64,852.128 2877.72,848.718 2893.81,845.307 2909.89,841.897 2925.97,838.486 2942.06,835.076 2958.14,831.665 2974.22,828.254 \n",
       "  2990.31,824.844 3006.39,821.433 3022.48,818.023 3038.56,814.612 3054.64,811.202 3070.73,807.791 3086.81,804.381 3102.89,800.97 3118.98,797.56 3135.06,794.149 \n",
       "  3151.15,790.739 3167.23,787.328 3183.31,783.918 3199.4,780.507 3215.48,777.097 3231.56,773.686 3247.65,770.276 3263.73,766.865 3279.82,763.454 3295.9,760.044 \n",
       "  3311.98,756.633 3328.07,753.223 3344.15,749.812 3360.23,746.402 3376.32,742.991 3392.4,739.581 3408.48,736.17 3424.57,732.76 3440.65,729.349 3456.74,725.939 \n",
       "  \n",
       "  \"/>\n",
       "<polyline clip-path=\"url(#clip602)\" style=\"stroke:#ac8d18; stroke-linecap:butt; stroke-linejoin:round; stroke-width:8; stroke-opacity:1; fill:none\" points=\"\n",
       "  256.076,940.447 272.16,937.925 288.244,935.379 304.328,932.808 320.411,930.214 336.495,927.596 352.579,924.957 368.662,922.295 384.746,919.613 400.83,916.91 \n",
       "  416.914,914.188 432.997,911.447 449.081,908.688 465.165,905.911 481.248,903.118 497.332,900.309 513.416,897.486 529.5,894.648 545.583,891.798 561.667,888.936 \n",
       "  577.751,886.063 593.834,883.18 609.918,880.288 626.002,877.387 642.086,874.48 658.169,871.567 674.253,868.65 690.337,865.728 706.42,862.805 722.504,859.879 \n",
       "  738.588,856.954 754.672,854.03 770.755,851.108 786.839,848.189 802.923,845.275 819.007,842.367 835.09,839.466 851.174,836.574 867.258,833.691 883.341,830.82 \n",
       "  899.425,827.961 915.509,825.115 931.593,822.284 947.676,819.47 963.76,816.673 979.844,813.896 995.927,811.138 1012.01,808.403 1028.09,805.69 1044.18,803.002 \n",
       "  1060.26,800.339 1076.35,797.703 1092.43,795.096 1108.51,792.518 1124.6,789.972 1140.68,787.458 1156.76,784.977 1172.85,782.531 1188.93,780.122 1205.02,777.75 \n",
       "  1221.1,775.418 1237.18,773.125 1253.27,770.873 1269.35,768.665 1285.43,766.499 1301.52,764.379 1317.6,762.306 1333.69,760.279 1349.77,758.301 1365.85,756.372 \n",
       "  1381.94,754.494 1398.02,752.668 1414.1,750.895 1430.19,749.176 1446.27,747.511 1462.36,745.902 1478.44,744.35 1494.52,742.855 1510.61,741.419 1526.69,740.042 \n",
       "  1542.77,738.725 1558.86,737.469 1574.94,736.275 1591.02,735.143 1607.11,734.075 1623.19,733.069 1639.28,732.128 1655.36,731.252 1671.44,730.442 1687.53,729.697 \n",
       "  1703.61,729.018 1719.69,728.406 1735.78,727.861 1751.86,727.384 1767.95,726.974 1784.03,726.632 1800.11,726.358 1816.2,726.153 1832.28,726.016 1848.36,725.947 \n",
       "  1864.45,725.947 1880.53,726.016 1896.62,726.153 1912.7,726.358 1928.78,726.632 1944.87,726.974 1960.95,727.384 1977.03,727.861 1993.12,728.406 2009.2,729.018 \n",
       "  2025.29,729.697 2041.37,730.442 2057.45,731.252 2073.54,732.128 2089.62,733.069 2105.7,734.075 2121.79,735.143 2137.87,736.275 2153.96,737.469 2170.04,738.725 \n",
       "  2186.12,740.042 2202.21,741.419 2218.29,742.855 2234.37,744.35 2250.46,745.902 2266.54,747.511 2282.62,749.176 2298.71,750.895 2314.79,752.668 2330.88,754.494 \n",
       "  2346.96,756.372 2363.04,758.301 2379.13,760.279 2395.21,762.306 2411.29,764.379 2427.38,766.499 2443.46,768.665 2459.55,770.873 2475.63,773.125 2491.71,775.418 \n",
       "  2507.8,777.75 2523.88,780.122 2539.96,782.531 2556.05,784.977 2572.13,787.458 2588.22,789.972 2604.3,792.518 2620.38,795.096 2636.47,797.703 2652.55,800.339 \n",
       "  2668.63,803.002 2684.72,805.69 2700.8,808.403 2716.89,811.138 2732.97,813.896 2749.05,816.673 2765.14,819.47 2781.22,822.284 2797.3,825.115 2813.39,827.961 \n",
       "  2829.47,830.82 2845.55,833.691 2861.64,836.574 2877.72,839.466 2893.81,842.367 2909.89,845.275 2925.97,848.189 2942.06,851.108 2958.14,854.03 2974.22,856.954 \n",
       "  2990.31,859.879 3006.39,862.805 3022.48,865.728 3038.56,868.65 3054.64,871.567 3070.73,874.48 3086.81,877.387 3102.89,880.288 3118.98,883.18 3135.06,886.063 \n",
       "  3151.15,888.936 3167.23,891.798 3183.31,894.648 3199.4,897.486 3215.48,900.309 3231.56,903.118 3247.65,905.911 3263.73,908.688 3279.82,911.447 3295.9,914.188 \n",
       "  3311.98,916.91 3328.07,919.613 3344.15,922.295 3360.23,924.957 3376.32,927.596 3392.4,930.214 3408.48,932.808 3424.57,935.379 3440.65,937.925 3456.74,940.447 \n",
       "  \n",
       "  \"/>\n",
       "<path clip-path=\"url(#clip600)\" d=\"\n",
       "M2881.75 426.154 L3439.67 426.154 L3439.67 115.114 L2881.75 115.114  Z\n",
       "  \" fill=\"#ffffff\" fill-rule=\"evenodd\" fill-opacity=\"1\"/>\n",
       "<polyline clip-path=\"url(#clip600)\" style=\"stroke:#000000; stroke-linecap:butt; stroke-linejoin:round; stroke-width:4; stroke-opacity:1; fill:none\" points=\"\n",
       "  2881.75,426.154 3439.67,426.154 3439.67,115.114 2881.75,115.114 2881.75,426.154 \n",
       "  \"/>\n",
       "<polyline clip-path=\"url(#clip600)\" style=\"stroke:#009af9; stroke-linecap:butt; stroke-linejoin:round; stroke-width:4; stroke-opacity:1; fill:none\" points=\"\n",
       "  2919.45,166.954 3145.63,166.954 \n",
       "  \"/>\n",
       "<path clip-path=\"url(#clip600)\" d=\"M3207.35 170.206 L3207.35 172.289 L3187.77 172.289 Q3188.05 176.687 3190.41 179.002 Q3192.79 181.294 3197.03 181.294 Q3199.48 181.294 3201.77 180.692 Q3204.09 180.09 3206.36 178.886 L3206.36 182.914 Q3204.07 183.886 3201.66 184.396 Q3199.25 184.905 3196.77 184.905 Q3190.57 184.905 3186.94 181.294 Q3183.32 177.683 3183.32 171.525 Q3183.32 165.16 3186.75 161.433 Q3190.2 157.683 3196.03 157.683 Q3201.26 157.683 3204.3 161.062 Q3207.35 164.419 3207.35 170.206 M3203.09 168.956 Q3203.05 165.461 3201.13 163.377 Q3199.23 161.294 3196.08 161.294 Q3192.51 161.294 3190.36 163.308 Q3188.23 165.322 3187.91 168.979 L3203.09 168.956 Z\" fill=\"#000000\" fill-rule=\"evenodd\" fill-opacity=\"1\" /><path clip-path=\"url(#clip600)\" d=\"M3228.12 154.257 L3222.21 161.317 L3228.42 168.771 L3225.25 168.771 L3220.5 163.076 L3215.75 168.771 L3212.58 168.771 L3218.93 161.178 L3213.12 154.257 L3216.29 154.257 L3220.62 159.419 L3224.94 154.257 L3228.12 154.257 Z\" fill=\"#000000\" fill-rule=\"evenodd\" fill-opacity=\"1\" /><polyline clip-path=\"url(#clip600)\" style=\"stroke:#e26f46; stroke-linecap:butt; stroke-linejoin:round; stroke-width:4; stroke-opacity:1; fill:none\" points=\"\n",
       "  2919.45,218.794 3145.63,218.794 \n",
       "  \"/>\n",
       "<path clip-path=\"url(#clip600)\" d=\"M3190.73 202.787 L3190.73 210.148 L3199.5 210.148 L3199.5 213.458 L3190.73 213.458 L3190.73 227.532 Q3190.73 230.703 3191.59 231.606 Q3192.47 232.509 3195.13 232.509 L3199.5 232.509 L3199.5 236.074 L3195.13 236.074 Q3190.2 236.074 3188.32 234.245 Q3186.45 232.393 3186.45 227.532 L3186.45 213.458 L3183.32 213.458 L3183.32 210.148 L3186.45 210.148 L3186.45 202.787 L3190.73 202.787 Z\" fill=\"#000000\" fill-rule=\"evenodd\" fill-opacity=\"1\" /><path clip-path=\"url(#clip600)\" d=\"M3216.89 223.041 Q3211.73 223.041 3209.74 224.222 Q3207.75 225.402 3207.75 228.25 Q3207.75 230.518 3209.23 231.861 Q3210.73 233.18 3213.3 233.18 Q3216.84 233.18 3218.97 230.68 Q3221.13 228.157 3221.13 223.99 L3221.13 223.041 L3216.89 223.041 M3225.38 221.282 L3225.38 236.074 L3221.13 236.074 L3221.13 232.138 Q3219.67 234.499 3217.49 235.634 Q3215.32 236.745 3212.17 236.745 Q3208.19 236.745 3205.82 234.523 Q3203.49 232.277 3203.49 228.527 Q3203.49 224.152 3206.4 221.93 Q3209.34 219.708 3215.15 219.708 L3221.13 219.708 L3221.13 219.291 Q3221.13 216.351 3219.18 214.754 Q3217.26 213.134 3213.76 213.134 Q3211.54 213.134 3209.44 213.666 Q3207.33 214.199 3205.38 215.263 L3205.38 211.328 Q3207.72 210.426 3209.92 209.986 Q3212.12 209.523 3214.2 209.523 Q3219.83 209.523 3222.61 212.439 Q3225.38 215.356 3225.38 221.282 Z\" fill=\"#000000\" fill-rule=\"evenodd\" fill-opacity=\"1\" /><path clip-path=\"url(#clip600)\" d=\"M3255.71 220.425 L3255.71 236.074 L3251.45 236.074 L3251.45 220.564 Q3251.45 216.884 3250.01 215.055 Q3248.58 213.226 3245.71 213.226 Q3242.26 213.226 3240.27 215.426 Q3238.28 217.625 3238.28 221.421 L3238.28 236.074 L3234 236.074 L3234 210.148 L3238.28 210.148 L3238.28 214.176 Q3239.81 211.838 3241.87 210.68 Q3243.95 209.523 3246.66 209.523 Q3251.13 209.523 3253.42 212.301 Q3255.71 215.055 3255.71 220.425 Z\" fill=\"#000000\" fill-rule=\"evenodd\" fill-opacity=\"1\" /><path clip-path=\"url(#clip600)\" d=\"M3285.75 220.425 L3285.75 236.074 L3281.5 236.074 L3281.5 220.564 Q3281.5 216.884 3280.06 215.055 Q3278.62 213.226 3275.75 213.226 Q3272.31 213.226 3270.31 215.426 Q3268.32 217.625 3268.32 221.421 L3268.32 236.074 L3264.04 236.074 L3264.04 200.055 L3268.32 200.055 L3268.32 214.176 Q3269.85 211.838 3271.91 210.68 Q3274 209.523 3276.7 209.523 Q3281.17 209.523 3283.46 212.301 Q3285.75 215.055 3285.75 220.425 Z\" fill=\"#000000\" fill-rule=\"evenodd\" fill-opacity=\"1\" /><path clip-path=\"url(#clip600)\" d=\"M3330.87 210.148 L3321.5 222.763 L3331.36 236.074 L3326.33 236.074 L3318.79 225.888 L3311.24 236.074 L3306.22 236.074 L3316.29 222.509 L3307.07 210.148 L3312.1 210.148 L3318.97 219.384 L3325.85 210.148 L3330.87 210.148 Z\" fill=\"#000000\" fill-rule=\"evenodd\" fill-opacity=\"1\" /><polyline clip-path=\"url(#clip600)\" style=\"stroke:#3da44d; stroke-linecap:butt; stroke-linejoin:round; stroke-width:4; stroke-opacity:1; fill:none\" points=\"\n",
       "  2919.45,270.634 3145.63,270.634 \n",
       "  \"/>\n",
       "<path clip-path=\"url(#clip600)\" d=\"M3201.75 262.752 L3201.75 266.779 Q3199.94 265.853 3198 265.391 Q3196.06 264.928 3193.97 264.928 Q3190.8 264.928 3189.2 265.9 Q3187.63 266.872 3187.63 268.816 Q3187.63 270.298 3188.76 271.154 Q3189.9 271.988 3193.32 272.752 L3194.78 273.076 Q3199.32 274.048 3201.22 275.83 Q3203.14 277.59 3203.14 280.761 Q3203.14 284.372 3200.27 286.478 Q3197.42 288.585 3192.42 288.585 Q3190.34 288.585 3188.07 288.168 Q3185.82 287.775 3183.32 286.964 L3183.32 282.566 Q3185.69 283.793 3187.98 284.418 Q3190.27 285.02 3192.51 285.02 Q3195.52 285.02 3197.14 284.002 Q3198.76 282.96 3198.76 281.085 Q3198.76 279.349 3197.58 278.423 Q3196.43 277.497 3192.47 276.64 L3190.99 276.293 Q3187.03 275.46 3185.27 273.747 Q3183.51 272.011 3183.51 269.002 Q3183.51 265.344 3186.1 263.354 Q3188.69 261.363 3193.46 261.363 Q3195.82 261.363 3197.91 261.71 Q3199.99 262.057 3201.75 262.752 Z\" fill=\"#000000\" fill-rule=\"evenodd\" fill-opacity=\"1\" /><path clip-path=\"url(#clip600)\" d=\"M3209.92 261.988 L3214.18 261.988 L3214.18 287.914 L3209.92 287.914 L3209.92 261.988 M3209.92 251.895 L3214.18 251.895 L3214.18 257.289 L3209.92 257.289 L3209.92 251.895 Z\" fill=\"#000000\" fill-rule=\"evenodd\" fill-opacity=\"1\" /><path clip-path=\"url(#clip600)\" d=\"M3244.64 272.265 L3244.64 287.914 L3240.38 287.914 L3240.38 272.404 Q3240.38 268.724 3238.95 266.895 Q3237.51 265.066 3234.64 265.066 Q3231.19 265.066 3229.2 267.266 Q3227.21 269.465 3227.21 273.261 L3227.21 287.914 L3222.93 287.914 L3222.93 261.988 L3227.21 261.988 L3227.21 266.016 Q3228.74 263.678 3230.8 262.52 Q3232.88 261.363 3235.59 261.363 Q3240.06 261.363 3242.35 264.141 Q3244.64 266.895 3244.64 272.265 Z\" fill=\"#000000\" fill-rule=\"evenodd\" fill-opacity=\"1\" /><path clip-path=\"url(#clip600)\" d=\"M3289.76 261.988 L3280.38 274.603 L3290.25 287.914 L3285.22 287.914 L3277.68 277.728 L3270.13 287.914 L3265.11 287.914 L3275.18 274.349 L3265.96 261.988 L3270.99 261.988 L3277.86 271.224 L3284.74 261.988 L3289.76 261.988 Z\" fill=\"#000000\" fill-rule=\"evenodd\" fill-opacity=\"1\" /><polyline clip-path=\"url(#clip600)\" style=\"stroke:#c271d2; stroke-linecap:butt; stroke-linejoin:round; stroke-width:4; stroke-opacity:1; fill:none\" points=\"\n",
       "  2919.45,322.474 3145.63,322.474 \n",
       "  \"/>\n",
       "<path clip-path=\"url(#clip600)\" d=\"M3199.71 323.55 Q3201.22 324.059 3202.63 325.726 Q3204.07 327.393 3205.5 330.309 L3210.25 339.754 L3205.22 339.754 L3200.8 330.888 Q3199.09 327.416 3197.47 326.281 Q3195.87 325.147 3193.09 325.147 L3188 325.147 L3188 339.754 L3183.32 339.754 L3183.32 305.194 L3193.88 305.194 Q3199.81 305.194 3202.72 307.67 Q3205.64 310.147 3205.64 315.147 Q3205.64 318.411 3204.11 320.564 Q3202.61 322.717 3199.71 323.55 M3188 309.036 L3188 321.305 L3193.88 321.305 Q3197.26 321.305 3198.97 319.754 Q3200.71 318.18 3200.71 315.147 Q3200.71 312.115 3198.97 310.587 Q3197.26 309.036 3193.88 309.036 L3188 309.036 Z\" fill=\"#000000\" fill-rule=\"evenodd\" fill-opacity=\"1\" /><path clip-path=\"url(#clip600)\" d=\"M3236.13 325.726 L3236.13 327.809 L3216.54 327.809 Q3216.82 332.207 3219.18 334.522 Q3221.57 336.814 3225.8 336.814 Q3228.25 336.814 3230.55 336.212 Q3232.86 335.61 3235.13 334.406 L3235.13 338.434 Q3232.84 339.406 3230.43 339.916 Q3228.02 340.425 3225.55 340.425 Q3219.34 340.425 3215.71 336.814 Q3212.1 333.203 3212.1 327.045 Q3212.1 320.68 3215.52 316.953 Q3218.97 313.203 3224.81 313.203 Q3230.04 313.203 3233.07 316.582 Q3236.13 319.939 3236.13 325.726 M3231.87 324.476 Q3231.82 320.981 3229.9 318.897 Q3228 316.814 3224.85 316.814 Q3221.29 316.814 3219.13 318.828 Q3217 320.842 3216.68 324.499 L3231.87 324.476 Z\" fill=\"#000000\" fill-rule=\"evenodd\" fill-opacity=\"1\" /><path clip-path=\"url(#clip600)\" d=\"M3243.3 305.194 L3247.98 305.194 L3247.98 335.818 L3264.81 335.818 L3264.81 339.754 L3243.3 339.754 L3243.3 305.194 Z\" fill=\"#000000\" fill-rule=\"evenodd\" fill-opacity=\"1\" /><path clip-path=\"url(#clip600)\" d=\"M3266.82 305.194 L3271.52 305.194 L3271.52 326.189 Q3271.52 331.744 3273.53 334.198 Q3275.55 336.629 3280.06 336.629 Q3284.55 336.629 3286.56 334.198 Q3288.58 331.744 3288.58 326.189 L3288.58 305.194 L3293.28 305.194 L3293.28 326.768 Q3293.28 333.527 3289.92 336.976 Q3286.59 340.425 3280.06 340.425 Q3273.51 340.425 3270.15 336.976 Q3266.82 333.527 3266.82 326.768 L3266.82 305.194 Z\" fill=\"#000000\" fill-rule=\"evenodd\" fill-opacity=\"1\" /><path clip-path=\"url(#clip600)\" d=\"M3338.49 313.828 L3329.11 326.443 L3338.97 339.754 L3333.95 339.754 L3326.4 329.568 L3318.86 339.754 L3313.83 339.754 L3323.9 326.189 L3314.69 313.828 L3319.71 313.828 L3326.59 323.064 L3333.46 313.828 L3338.49 313.828 Z\" fill=\"#000000\" fill-rule=\"evenodd\" fill-opacity=\"1\" /><polyline clip-path=\"url(#clip600)\" style=\"stroke:#ac8d18; stroke-linecap:butt; stroke-linejoin:round; stroke-width:4; stroke-opacity:1; fill:none\" points=\"\n",
       "  2919.45,374.314 3145.63,374.314 \n",
       "  \"/>\n",
       "<path clip-path=\"url(#clip600)\" d=\"M3207.35 377.566 L3207.35 379.649 L3187.77 379.649 Q3188.05 384.047 3190.41 386.362 Q3192.79 388.654 3197.03 388.654 Q3199.48 388.654 3201.77 388.052 Q3204.09 387.45 3206.36 386.246 L3206.36 390.274 Q3204.07 391.246 3201.66 391.756 Q3199.25 392.265 3196.77 392.265 Q3190.57 392.265 3186.94 388.654 Q3183.32 385.043 3183.32 378.885 Q3183.32 372.52 3186.75 368.793 Q3190.2 365.043 3196.03 365.043 Q3201.26 365.043 3204.3 368.422 Q3207.35 371.779 3207.35 377.566 M3203.09 376.316 Q3203.05 372.821 3201.13 370.737 Q3199.23 368.654 3196.08 368.654 Q3192.51 368.654 3190.36 370.668 Q3188.23 372.682 3187.91 376.339 L3203.09 376.316 Z\" fill=\"#000000\" fill-rule=\"evenodd\" fill-opacity=\"1\" /><path clip-path=\"url(#clip600)\" d=\"M3235.06 365.668 L3225.69 378.283 L3235.55 391.594 L3230.52 391.594 L3222.98 381.408 L3215.43 391.594 L3210.41 391.594 L3220.48 378.029 L3211.26 365.668 L3216.29 365.668 L3223.16 374.904 L3230.04 365.668 L3235.06 365.668 Z\" fill=\"#000000\" fill-rule=\"evenodd\" fill-opacity=\"1\" /><path clip-path=\"url(#clip600)\" d=\"M3245.69 387.705 L3245.69 401.455 L3241.4 401.455 L3241.4 365.668 L3245.69 365.668 L3245.69 369.603 Q3247.03 367.288 3249.06 366.177 Q3251.13 365.043 3253.97 365.043 Q3258.69 365.043 3261.63 368.793 Q3264.6 372.543 3264.6 378.654 Q3264.6 384.765 3261.63 388.515 Q3258.69 392.265 3253.97 392.265 Q3251.13 392.265 3249.06 391.154 Q3247.03 390.019 3245.69 387.705 M3260.18 378.654 Q3260.18 373.955 3258.23 371.293 Q3256.31 368.608 3252.93 368.608 Q3249.55 368.608 3247.61 371.293 Q3245.69 373.955 3245.69 378.654 Q3245.69 383.353 3247.61 386.038 Q3249.55 388.7 3252.93 388.7 Q3256.31 388.7 3258.23 386.038 Q3260.18 383.353 3260.18 378.654 Z\" fill=\"#000000\" fill-rule=\"evenodd\" fill-opacity=\"1\" /><path clip-path=\"url(#clip600)\" d=\"M3281.89 355.622 Q3278.79 360.946 3277.28 366.154 Q3275.78 371.362 3275.78 376.709 Q3275.78 382.057 3277.28 387.311 Q3278.81 392.543 3281.89 397.844 L3278.19 397.844 Q3274.71 392.404 3272.98 387.149 Q3271.26 381.895 3271.26 376.709 Q3271.26 371.547 3272.98 366.316 Q3274.69 361.084 3278.19 355.622 L3281.89 355.622 Z\" fill=\"#000000\" fill-rule=\"evenodd\" fill-opacity=\"1\" /><path clip-path=\"url(#clip600)\" d=\"M3288 376.709 L3300.48 376.709 L3300.48 380.506 L3288 380.506 L3288 376.709 Z\" fill=\"#000000\" fill-rule=\"evenodd\" fill-opacity=\"1\" /><path clip-path=\"url(#clip600)\" d=\"M3328.81 365.668 L3319.43 378.283 L3329.3 391.594 L3324.27 391.594 L3316.73 381.408 L3309.18 391.594 L3304.16 391.594 L3314.23 378.029 L3305.01 365.668 L3310.04 365.668 L3316.91 374.904 L3323.79 365.668 L3328.81 365.668 Z\" fill=\"#000000\" fill-rule=\"evenodd\" fill-opacity=\"1\" /><path clip-path=\"url(#clip600)\" d=\"M3337.05 373.492 L3346.87 373.492 L3346.87 376.131 L3333.02 376.131 L3333.02 373.584 Q3333.81 372.867 3335.27 371.571 Q3343.23 364.51 3343.23 362.334 Q3343.23 360.807 3342.03 359.881 Q3340.82 358.932 3338.86 358.932 Q3337.65 358.932 3336.24 359.348 Q3334.83 359.742 3333.16 360.552 L3333.16 357.705 Q3334.94 357.057 3336.47 356.733 Q3338.02 356.409 3339.34 356.409 Q3342.7 356.409 3344.71 357.936 Q3346.73 359.464 3346.73 361.964 Q3346.73 365.182 3339.06 371.756 Q3337.77 372.867 3337.05 373.492 Z\" fill=\"#000000\" fill-rule=\"evenodd\" fill-opacity=\"1\" /><path clip-path=\"url(#clip600)\" d=\"M3353.65 355.622 L3357.35 355.622 Q3360.82 361.084 3362.54 366.316 Q3364.27 371.547 3364.27 376.709 Q3364.27 381.895 3362.54 387.149 Q3360.82 392.404 3357.35 397.844 L3353.65 397.844 Q3356.73 392.543 3358.23 387.311 Q3359.76 382.057 3359.76 376.709 Q3359.76 371.362 3358.23 366.154 Q3356.73 360.946 3353.65 355.622 Z\" fill=\"#000000\" fill-rule=\"evenodd\" fill-opacity=\"1\" /></svg>\n"
      ]
     },
     "execution_count": 25,
     "metadata": {},
     "output_type": "execute_result"
    }
   ],
   "source": [
    "B = map(f -> Func{Float64}(f),[x -> exp(x), x -> tanh(x), x -> sin(x), x -> if (x < 0) 0 else x end, x -> exp(-x^2)]);\n",
    "x = LinRange(-1, 1, 200)\n",
    "plot(x, hcat(collect(B[i][x] for i in 1:5)...), framestyle=:origin, ylim=(-3,3), label=[\"eˣ\" \"tanh x\" \"sin x\" \"ReLU x\" \"exp(-x²)\"])"
   ]
  },
  {
   "cell_type": "code",
   "execution_count": 26,
   "id": "a32d481c",
   "metadata": {
    "slideshow": {
     "slide_type": "subslide"
    }
   },
   "outputs": [],
   "source": [
    "Q, R = mgs_vectors(B);"
   ]
  },
  {
   "cell_type": "code",
   "execution_count": 27,
   "id": "7b4aecad",
   "metadata": {},
   "outputs": [
    {
     "data": {
      "image/svg+xml": [
       "<?xml version=\"1.0\" encoding=\"utf-8\"?>\n",
       "<svg xmlns=\"http://www.w3.org/2000/svg\" xmlns:xlink=\"http://www.w3.org/1999/xlink\" width=\"900\" height=\"550\" viewBox=\"0 0 3600 2200\">\n",
       "<defs>\n",
       "  <clipPath id=\"clip640\">\n",
       "    <rect x=\"0\" y=\"0\" width=\"3600\" height=\"2200\"/>\n",
       "  </clipPath>\n",
       "</defs>\n",
       "<path clip-path=\"url(#clip640)\" d=\"\n",
       "M0 2200 L3600 2200 L3600 0 L0 0  Z\n",
       "  \" fill=\"#ffffff\" fill-rule=\"evenodd\" fill-opacity=\"1\"/>\n",
       "<defs>\n",
       "  <clipPath id=\"clip641\">\n",
       "    <rect x=\"720\" y=\"0\" width=\"2521\" height=\"2200\"/>\n",
       "  </clipPath>\n",
       "</defs>\n",
       "<path clip-path=\"url(#clip640)\" d=\"\n",
       "M160.057 2083.33 L3552.76 2083.33 L3552.76 47.2441 L160.057 47.2441  Z\n",
       "  \" fill=\"#ffffff\" fill-rule=\"evenodd\" fill-opacity=\"1\"/>\n",
       "<defs>\n",
       "  <clipPath id=\"clip642\">\n",
       "    <rect x=\"160\" y=\"47\" width=\"3394\" height=\"2037\"/>\n",
       "  </clipPath>\n",
       "</defs>\n",
       "<polyline clip-path=\"url(#clip642)\" style=\"stroke:#000000; stroke-linecap:butt; stroke-linejoin:round; stroke-width:2; stroke-opacity:0.1; fill:none\" points=\"\n",
       "  256.076,2083.33 256.076,47.2441 \n",
       "  \"/>\n",
       "<polyline clip-path=\"url(#clip642)\" style=\"stroke:#000000; stroke-linecap:butt; stroke-linejoin:round; stroke-width:2; stroke-opacity:0.1; fill:none\" points=\"\n",
       "  1056.24,2083.33 1056.24,47.2441 \n",
       "  \"/>\n",
       "<polyline clip-path=\"url(#clip642)\" style=\"stroke:#000000; stroke-linecap:butt; stroke-linejoin:round; stroke-width:2; stroke-opacity:0.1; fill:none\" points=\"\n",
       "  2656.57,2083.33 2656.57,47.2441 \n",
       "  \"/>\n",
       "<polyline clip-path=\"url(#clip642)\" style=\"stroke:#000000; stroke-linecap:butt; stroke-linejoin:round; stroke-width:2; stroke-opacity:0.1; fill:none\" points=\"\n",
       "  3456.74,2083.33 3456.74,47.2441 \n",
       "  \"/>\n",
       "<polyline clip-path=\"url(#clip640)\" style=\"stroke:#000000; stroke-linecap:butt; stroke-linejoin:round; stroke-width:4; stroke-opacity:1; fill:none\" points=\"\n",
       "  160.057,1065.29 3552.76,1065.29 \n",
       "  \"/>\n",
       "<polyline clip-path=\"url(#clip640)\" style=\"stroke:#000000; stroke-linecap:butt; stroke-linejoin:round; stroke-width:4; stroke-opacity:1; fill:none\" points=\"\n",
       "  256.076,1084.18 256.076,1046.39 \n",
       "  \"/>\n",
       "<polyline clip-path=\"url(#clip640)\" style=\"stroke:#000000; stroke-linecap:butt; stroke-linejoin:round; stroke-width:4; stroke-opacity:1; fill:none\" points=\"\n",
       "  1056.24,1084.18 1056.24,1046.39 \n",
       "  \"/>\n",
       "<polyline clip-path=\"url(#clip640)\" style=\"stroke:#000000; stroke-linecap:butt; stroke-linejoin:round; stroke-width:4; stroke-opacity:1; fill:none\" points=\"\n",
       "  2656.57,1084.18 2656.57,1046.39 \n",
       "  \"/>\n",
       "<polyline clip-path=\"url(#clip640)\" style=\"stroke:#000000; stroke-linecap:butt; stroke-linejoin:round; stroke-width:4; stroke-opacity:1; fill:none\" points=\"\n",
       "  3456.74,1084.18 3456.74,1046.39 \n",
       "  \"/>\n",
       "<path clip-path=\"url(#clip640)\" d=\"M202.604 1120.46 L232.28 1120.46 L232.28 1124.39 L202.604 1124.39 L202.604 1120.46 Z\" fill=\"#000000\" fill-rule=\"evenodd\" fill-opacity=\"1\" /><path clip-path=\"url(#clip640)\" d=\"M243.183 1133.35 L250.822 1133.35 L250.822 1106.99 L242.512 1108.65 L242.512 1104.39 L250.776 1102.73 L255.451 1102.73 L255.451 1133.35 L263.09 1133.35 L263.09 1137.29 L243.183 1137.29 L243.183 1133.35 Z\" fill=\"#000000\" fill-rule=\"evenodd\" fill-opacity=\"1\" /><path clip-path=\"url(#clip640)\" d=\"M272.535 1131.41 L277.419 1131.41 L277.419 1137.29 L272.535 1137.29 L272.535 1131.41 Z\" fill=\"#000000\" fill-rule=\"evenodd\" fill-opacity=\"1\" /><path clip-path=\"url(#clip640)\" d=\"M297.604 1105.8 Q293.993 1105.8 292.164 1109.37 Q290.359 1112.91 290.359 1120.04 Q290.359 1127.15 292.164 1130.71 Q293.993 1134.25 297.604 1134.25 Q301.238 1134.25 303.044 1130.71 Q304.872 1127.15 304.872 1120.04 Q304.872 1112.91 303.044 1109.37 Q301.238 1105.8 297.604 1105.8 M297.604 1102.1 Q303.414 1102.1 306.47 1106.71 Q309.548 1111.29 309.548 1120.04 Q309.548 1128.77 306.47 1133.37 Q303.414 1137.96 297.604 1137.96 Q291.794 1137.96 288.715 1133.37 Q285.66 1128.77 285.66 1120.04 Q285.66 1111.29 288.715 1106.71 Q291.794 1102.1 297.604 1102.1 Z\" fill=\"#000000\" fill-rule=\"evenodd\" fill-opacity=\"1\" /><path clip-path=\"url(#clip640)\" d=\"M1003.27 1120.46 L1032.94 1120.46 L1032.94 1124.39 L1003.27 1124.39 L1003.27 1120.46 Z\" fill=\"#000000\" fill-rule=\"evenodd\" fill-opacity=\"1\" /><path clip-path=\"url(#clip640)\" d=\"M1053.04 1105.8 Q1049.42 1105.8 1047.6 1109.37 Q1045.79 1112.91 1045.79 1120.04 Q1045.79 1127.15 1047.6 1130.71 Q1049.42 1134.25 1053.04 1134.25 Q1056.67 1134.25 1058.48 1130.71 Q1060.3 1127.15 1060.3 1120.04 Q1060.3 1112.91 1058.48 1109.37 Q1056.67 1105.8 1053.04 1105.8 M1053.04 1102.1 Q1058.85 1102.1 1061.9 1106.71 Q1064.98 1111.29 1064.98 1120.04 Q1064.98 1128.77 1061.9 1133.37 Q1058.85 1137.96 1053.04 1137.96 Q1047.23 1137.96 1044.15 1133.37 Q1041.09 1128.77 1041.09 1120.04 Q1041.09 1111.29 1044.15 1106.71 Q1047.23 1102.1 1053.04 1102.1 Z\" fill=\"#000000\" fill-rule=\"evenodd\" fill-opacity=\"1\" /><path clip-path=\"url(#clip640)\" d=\"M1073.2 1131.41 L1078.08 1131.41 L1078.08 1137.29 L1073.2 1137.29 L1073.2 1131.41 Z\" fill=\"#000000\" fill-rule=\"evenodd\" fill-opacity=\"1\" /><path clip-path=\"url(#clip640)\" d=\"M1088.31 1102.73 L1106.67 1102.73 L1106.67 1106.66 L1092.6 1106.66 L1092.6 1115.13 Q1093.61 1114.79 1094.63 1114.62 Q1095.65 1114.44 1096.67 1114.44 Q1102.46 1114.44 1105.84 1117.61 Q1109.22 1120.78 1109.22 1126.2 Q1109.22 1131.78 1105.74 1134.88 Q1102.27 1137.96 1095.95 1137.96 Q1093.78 1137.96 1091.51 1137.59 Q1089.26 1137.22 1086.85 1136.48 L1086.85 1131.78 Q1088.94 1132.91 1091.16 1133.47 Q1093.38 1134.02 1095.86 1134.02 Q1099.86 1134.02 1102.2 1131.92 Q1104.54 1129.81 1104.54 1126.2 Q1104.54 1122.59 1102.2 1120.48 Q1099.86 1118.37 1095.86 1118.37 Q1093.98 1118.37 1092.11 1118.79 Q1090.26 1119.21 1088.31 1120.09 L1088.31 1102.73 Z\" fill=\"#000000\" fill-rule=\"evenodd\" fill-opacity=\"1\" /><path clip-path=\"url(#clip640)\" d=\"M2634.45 1105.8 Q2630.84 1105.8 2629.01 1109.37 Q2627.21 1112.91 2627.21 1120.04 Q2627.21 1127.15 2629.01 1130.71 Q2630.84 1134.25 2634.45 1134.25 Q2638.09 1134.25 2639.89 1130.71 Q2641.72 1127.15 2641.72 1120.04 Q2641.72 1112.91 2639.89 1109.37 Q2638.09 1105.8 2634.45 1105.8 M2634.45 1102.1 Q2640.26 1102.1 2643.32 1106.71 Q2646.4 1111.29 2646.4 1120.04 Q2646.4 1128.77 2643.32 1133.37 Q2640.26 1137.96 2634.45 1137.96 Q2628.64 1137.96 2625.56 1133.37 Q2622.51 1128.77 2622.51 1120.04 Q2622.51 1111.29 2625.56 1106.71 Q2628.64 1102.1 2634.45 1102.1 Z\" fill=\"#000000\" fill-rule=\"evenodd\" fill-opacity=\"1\" /><path clip-path=\"url(#clip640)\" d=\"M2654.62 1131.41 L2659.5 1131.41 L2659.5 1137.29 L2654.62 1137.29 L2654.62 1131.41 Z\" fill=\"#000000\" fill-rule=\"evenodd\" fill-opacity=\"1\" /><path clip-path=\"url(#clip640)\" d=\"M2669.73 1102.73 L2688.09 1102.73 L2688.09 1106.66 L2674.01 1106.66 L2674.01 1115.13 Q2675.03 1114.79 2676.05 1114.62 Q2677.07 1114.44 2678.09 1114.44 Q2683.87 1114.44 2687.25 1117.61 Q2690.63 1120.78 2690.63 1126.2 Q2690.63 1131.78 2687.16 1134.88 Q2683.69 1137.96 2677.37 1137.96 Q2675.19 1137.96 2672.93 1137.59 Q2670.68 1137.22 2668.27 1136.48 L2668.27 1131.78 Q2670.36 1132.91 2672.58 1133.47 Q2674.8 1134.02 2677.28 1134.02 Q2681.28 1134.02 2683.62 1131.92 Q2685.96 1129.81 2685.96 1126.2 Q2685.96 1122.59 2683.62 1120.48 Q2681.28 1118.37 2677.28 1118.37 Q2675.4 1118.37 2673.53 1118.79 Q2671.68 1119.21 2669.73 1120.09 L2669.73 1102.73 Z\" fill=\"#000000\" fill-rule=\"evenodd\" fill-opacity=\"1\" /><path clip-path=\"url(#clip640)\" d=\"M3423.89 1133.35 L3431.53 1133.35 L3431.53 1106.99 L3423.22 1108.65 L3423.22 1104.39 L3431.48 1102.73 L3436.16 1102.73 L3436.16 1133.35 L3443.8 1133.35 L3443.8 1137.29 L3423.89 1137.29 L3423.89 1133.35 Z\" fill=\"#000000\" fill-rule=\"evenodd\" fill-opacity=\"1\" /><path clip-path=\"url(#clip640)\" d=\"M3453.24 1131.41 L3458.12 1131.41 L3458.12 1137.29 L3453.24 1137.29 L3453.24 1131.41 Z\" fill=\"#000000\" fill-rule=\"evenodd\" fill-opacity=\"1\" /><path clip-path=\"url(#clip640)\" d=\"M3478.31 1105.8 Q3474.7 1105.8 3472.87 1109.37 Q3471.06 1112.91 3471.06 1120.04 Q3471.06 1127.15 3472.87 1130.71 Q3474.7 1134.25 3478.31 1134.25 Q3481.94 1134.25 3483.75 1130.71 Q3485.58 1127.15 3485.58 1120.04 Q3485.58 1112.91 3483.75 1109.37 Q3481.94 1105.8 3478.31 1105.8 M3478.31 1102.1 Q3484.12 1102.1 3487.18 1106.71 Q3490.25 1111.29 3490.25 1120.04 Q3490.25 1128.77 3487.18 1133.37 Q3484.12 1137.96 3478.31 1137.96 Q3472.5 1137.96 3469.42 1133.37 Q3466.37 1128.77 3466.37 1120.04 Q3466.37 1111.29 3469.42 1106.71 Q3472.5 1102.1 3478.31 1102.1 Z\" fill=\"#000000\" fill-rule=\"evenodd\" fill-opacity=\"1\" /><polyline clip-path=\"url(#clip642)\" style=\"stroke:#000000; stroke-linecap:butt; stroke-linejoin:round; stroke-width:2; stroke-opacity:0.1; fill:none\" points=\"\n",
       "  160.057,2083.33 3552.76,2083.33 \n",
       "  \"/>\n",
       "<polyline clip-path=\"url(#clip642)\" style=\"stroke:#000000; stroke-linecap:butt; stroke-linejoin:round; stroke-width:2; stroke-opacity:0.1; fill:none\" points=\"\n",
       "  160.057,1743.98 3552.76,1743.98 \n",
       "  \"/>\n",
       "<polyline clip-path=\"url(#clip642)\" style=\"stroke:#000000; stroke-linecap:butt; stroke-linejoin:round; stroke-width:2; stroke-opacity:0.1; fill:none\" points=\"\n",
       "  160.057,1404.63 3552.76,1404.63 \n",
       "  \"/>\n",
       "<polyline clip-path=\"url(#clip642)\" style=\"stroke:#000000; stroke-linecap:butt; stroke-linejoin:round; stroke-width:2; stroke-opacity:0.1; fill:none\" points=\"\n",
       "  160.057,725.939 3552.76,725.939 \n",
       "  \"/>\n",
       "<polyline clip-path=\"url(#clip642)\" style=\"stroke:#000000; stroke-linecap:butt; stroke-linejoin:round; stroke-width:2; stroke-opacity:0.1; fill:none\" points=\"\n",
       "  160.057,386.591 3552.76,386.591 \n",
       "  \"/>\n",
       "<polyline clip-path=\"url(#clip642)\" style=\"stroke:#000000; stroke-linecap:butt; stroke-linejoin:round; stroke-width:2; stroke-opacity:0.1; fill:none\" points=\"\n",
       "  160.057,47.2441 3552.76,47.2441 \n",
       "  \"/>\n",
       "<polyline clip-path=\"url(#clip640)\" style=\"stroke:#000000; stroke-linecap:butt; stroke-linejoin:round; stroke-width:4; stroke-opacity:1; fill:none\" points=\"\n",
       "  1856.41,2083.33 1856.41,47.2441 \n",
       "  \"/>\n",
       "<polyline clip-path=\"url(#clip640)\" style=\"stroke:#000000; stroke-linecap:butt; stroke-linejoin:round; stroke-width:4; stroke-opacity:1; fill:none\" points=\"\n",
       "  1837.51,2083.33 1875.3,2083.33 \n",
       "  \"/>\n",
       "<polyline clip-path=\"url(#clip640)\" style=\"stroke:#000000; stroke-linecap:butt; stroke-linejoin:round; stroke-width:4; stroke-opacity:1; fill:none\" points=\"\n",
       "  1837.51,1743.98 1875.3,1743.98 \n",
       "  \"/>\n",
       "<polyline clip-path=\"url(#clip640)\" style=\"stroke:#000000; stroke-linecap:butt; stroke-linejoin:round; stroke-width:4; stroke-opacity:1; fill:none\" points=\"\n",
       "  1837.51,1404.63 1875.3,1404.63 \n",
       "  \"/>\n",
       "<polyline clip-path=\"url(#clip640)\" style=\"stroke:#000000; stroke-linecap:butt; stroke-linejoin:round; stroke-width:4; stroke-opacity:1; fill:none\" points=\"\n",
       "  1837.51,725.939 1875.3,725.939 \n",
       "  \"/>\n",
       "<polyline clip-path=\"url(#clip640)\" style=\"stroke:#000000; stroke-linecap:butt; stroke-linejoin:round; stroke-width:4; stroke-opacity:1; fill:none\" points=\"\n",
       "  1837.51,386.591 1875.3,386.591 \n",
       "  \"/>\n",
       "<polyline clip-path=\"url(#clip640)\" style=\"stroke:#000000; stroke-linecap:butt; stroke-linejoin:round; stroke-width:4; stroke-opacity:1; fill:none\" points=\"\n",
       "  1837.51,47.2441 1875.3,47.2441 \n",
       "  \"/>\n",
       "<path clip-path=\"url(#clip640)\" d=\"M1741.34 2083.78 L1771.02 2083.78 L1771.02 2087.71 L1741.34 2087.71 L1741.34 2083.78 Z\" fill=\"#000000\" fill-rule=\"evenodd\" fill-opacity=\"1\" /><path clip-path=\"url(#clip640)\" d=\"M1795.28 2081.97 Q1798.63 2082.69 1800.51 2084.96 Q1802.41 2087.23 1802.41 2090.56 Q1802.41 2095.68 1798.89 2098.48 Q1795.37 2101.28 1788.89 2101.28 Q1786.71 2101.28 1784.4 2100.84 Q1782.11 2100.42 1779.65 2099.57 L1779.65 2095.05 Q1781.6 2096.19 1783.91 2096.77 Q1786.23 2097.34 1788.75 2097.34 Q1793.15 2097.34 1795.44 2095.61 Q1797.75 2093.87 1797.75 2090.56 Q1797.75 2087.51 1795.6 2085.79 Q1793.47 2084.06 1789.65 2084.06 L1785.62 2084.06 L1785.62 2080.21 L1789.84 2080.21 Q1793.29 2080.21 1795.11 2078.85 Q1796.94 2077.46 1796.94 2074.87 Q1796.94 2072.21 1795.05 2070.79 Q1793.17 2069.36 1789.65 2069.36 Q1787.73 2069.36 1785.53 2069.77 Q1783.33 2070.19 1780.69 2071.07 L1780.69 2066.9 Q1783.36 2066.16 1785.67 2065.79 Q1788.01 2065.42 1790.07 2065.42 Q1795.39 2065.42 1798.49 2067.85 Q1801.6 2070.26 1801.6 2074.38 Q1801.6 2077.25 1799.95 2079.24 Q1798.31 2081.21 1795.28 2081.97 Z\" fill=\"#000000\" fill-rule=\"evenodd\" fill-opacity=\"1\" /><path clip-path=\"url(#clip640)\" d=\"M1742.29 1744.43 L1771.97 1744.43 L1771.97 1748.37 L1742.29 1748.37 L1742.29 1744.43 Z\" fill=\"#000000\" fill-rule=\"evenodd\" fill-opacity=\"1\" /><path clip-path=\"url(#clip640)\" d=\"M1786.09 1757.33 L1802.41 1757.33 L1802.41 1761.26 L1780.46 1761.26 L1780.46 1757.33 Q1783.12 1754.57 1787.71 1749.94 Q1792.31 1745.29 1793.49 1743.95 Q1795.74 1741.42 1796.62 1739.69 Q1797.52 1737.93 1797.52 1736.24 Q1797.52 1733.48 1795.58 1731.75 Q1793.66 1730.01 1790.55 1730.01 Q1788.36 1730.01 1785.9 1730.77 Q1783.47 1731.54 1780.69 1733.09 L1780.69 1728.37 Q1783.52 1727.23 1785.97 1726.65 Q1788.42 1726.08 1790.46 1726.08 Q1795.83 1726.08 1799.03 1728.76 Q1802.22 1731.45 1802.22 1735.94 Q1802.22 1738.07 1801.41 1739.99 Q1800.62 1741.89 1798.52 1744.48 Q1797.94 1745.15 1794.84 1748.37 Q1791.74 1751.56 1786.09 1757.33 Z\" fill=\"#000000\" fill-rule=\"evenodd\" fill-opacity=\"1\" /><path clip-path=\"url(#clip640)\" d=\"M1741.92 1405.08 L1771.6 1405.08 L1771.6 1409.02 L1741.92 1409.02 L1741.92 1405.08 Z\" fill=\"#000000\" fill-rule=\"evenodd\" fill-opacity=\"1\" /><path clip-path=\"url(#clip640)\" d=\"M1782.5 1417.98 L1790.14 1417.98 L1790.14 1391.61 L1781.83 1393.28 L1781.83 1389.02 L1790.09 1387.35 L1794.77 1387.35 L1794.77 1417.98 L1802.41 1417.98 L1802.41 1421.91 L1782.5 1421.91 L1782.5 1417.98 Z\" fill=\"#000000\" fill-rule=\"evenodd\" fill-opacity=\"1\" /><path clip-path=\"url(#clip640)\" d=\"M1782.5 739.284 L1790.14 739.284 L1790.14 712.918 L1781.83 714.585 L1781.83 710.325 L1790.09 708.659 L1794.77 708.659 L1794.77 739.284 L1802.41 739.284 L1802.41 743.219 L1782.5 743.219 L1782.5 739.284 Z\" fill=\"#000000\" fill-rule=\"evenodd\" fill-opacity=\"1\" /><path clip-path=\"url(#clip640)\" d=\"M1786.09 399.936 L1802.41 399.936 L1802.41 403.871 L1780.46 403.871 L1780.46 399.936 Q1783.12 397.182 1787.71 392.552 Q1792.31 387.899 1793.49 386.557 Q1795.74 384.034 1796.62 382.297 Q1797.52 380.538 1797.52 378.848 Q1797.52 376.094 1795.58 374.358 Q1793.66 372.622 1790.55 372.622 Q1788.36 372.622 1785.9 373.385 Q1783.47 374.149 1780.69 375.7 L1780.69 370.978 Q1783.52 369.844 1785.97 369.265 Q1788.42 368.686 1790.46 368.686 Q1795.83 368.686 1799.03 371.372 Q1802.22 374.057 1802.22 378.547 Q1802.22 380.677 1801.41 382.598 Q1800.62 384.496 1798.52 387.089 Q1797.94 387.76 1794.84 390.978 Q1791.74 394.172 1786.09 399.936 Z\" fill=\"#000000\" fill-rule=\"evenodd\" fill-opacity=\"1\" /><path clip-path=\"url(#clip640)\" d=\"M1795.28 45.8899 Q1798.63 46.6075 1800.51 48.876 Q1802.41 51.1445 1802.41 54.4779 Q1802.41 59.5936 1798.89 62.3945 Q1795.37 65.1954 1788.89 65.1954 Q1786.71 65.1954 1784.4 64.7556 Q1782.11 64.3389 1779.65 63.4824 L1779.65 58.9686 Q1781.6 60.1028 1783.91 60.6815 Q1786.23 61.2602 1788.75 61.2602 Q1793.15 61.2602 1795.44 59.5241 Q1797.75 57.788 1797.75 54.4779 Q1797.75 51.4223 1795.6 49.7094 Q1793.47 47.9733 1789.65 47.9733 L1785.62 47.9733 L1785.62 44.1307 L1789.84 44.1307 Q1793.29 44.1307 1795.11 42.765 Q1796.94 41.3761 1796.94 38.7835 Q1796.94 36.1215 1795.05 34.7094 Q1793.17 33.2743 1789.65 33.2743 Q1787.73 33.2743 1785.53 33.6909 Q1783.33 34.1076 1780.69 34.9872 L1780.69 30.8206 Q1783.36 30.0798 1785.67 29.7095 Q1788.01 29.3391 1790.07 29.3391 Q1795.39 29.3391 1798.49 31.7696 Q1801.6 34.177 1801.6 38.2974 Q1801.6 41.1677 1799.95 43.1585 Q1798.31 45.1261 1795.28 45.8899 Z\" fill=\"#000000\" fill-rule=\"evenodd\" fill-opacity=\"1\" /><polyline clip-path=\"url(#clip642)\" style=\"stroke:#009af9; stroke-linecap:butt; stroke-linejoin:round; stroke-width:8; stroke-opacity:1; fill:none\" points=\"\n",
       "  256.076,999.734 272.16,999.072 288.244,998.403 304.328,997.728 320.411,997.045 336.495,996.356 352.579,995.66 368.662,994.956 384.746,994.246 400.83,993.528 \n",
       "  416.914,992.804 432.997,992.072 449.081,991.332 465.165,990.585 481.248,989.83 497.332,989.068 513.416,988.298 529.5,987.521 545.583,986.735 561.667,985.942 \n",
       "  577.751,985.14 593.834,984.331 609.918,983.513 626.002,982.687 642.086,981.853 658.169,981.01 674.253,980.159 690.337,979.299 706.42,978.43 722.504,977.553 \n",
       "  738.588,976.667 754.672,975.772 770.755,974.868 786.839,973.954 802.923,973.032 819.007,972.1 835.09,971.159 851.174,970.208 867.258,969.247 883.341,968.277 \n",
       "  899.425,967.297 915.509,966.308 931.593,965.308 947.676,964.298 963.76,963.278 979.844,962.248 995.927,961.207 1012.01,960.156 1028.09,959.094 1044.18,958.021 \n",
       "  1060.26,956.937 1076.35,955.843 1092.43,954.738 1108.51,953.621 1124.6,952.493 1140.68,951.354 1156.76,950.203 1172.85,949.04 1188.93,947.866 1205.02,946.68 \n",
       "  1221.1,945.482 1237.18,944.272 1253.27,943.05 1269.35,941.815 1285.43,940.568 1301.52,939.308 1317.6,938.036 1333.69,936.75 1349.77,935.452 1365.85,934.14 \n",
       "  1381.94,932.816 1398.02,931.478 1414.1,930.126 1430.19,928.761 1446.27,927.382 1462.36,925.989 1478.44,924.582 1494.52,923.161 1510.61,921.725 1526.69,920.275 \n",
       "  1542.77,918.81 1558.86,917.331 1574.94,915.836 1591.02,914.327 1607.11,912.802 1623.19,911.261 1639.28,909.706 1655.36,908.134 1671.44,906.547 1687.53,904.943 \n",
       "  1703.61,903.324 1719.69,901.688 1735.78,900.035 1751.86,898.366 1767.95,896.68 1784.03,894.977 1800.11,893.257 1816.2,891.519 1832.28,889.764 1848.36,887.991 \n",
       "  1864.45,886.2 1880.53,884.391 1896.62,882.564 1912.7,880.718 1928.78,878.854 1944.87,876.971 1960.95,875.069 1977.03,873.147 1993.12,871.207 2009.2,869.246 \n",
       "  2025.29,867.266 2041.37,865.266 2057.45,863.245 2073.54,861.205 2089.62,859.143 2105.7,857.061 2121.79,854.958 2137.87,852.833 2153.96,850.687 2170.04,848.52 \n",
       "  2186.12,846.33 2202.21,844.118 2218.29,841.884 2234.37,839.628 2250.46,837.348 2266.54,835.046 2282.62,832.72 2298.71,830.371 2314.79,827.998 2330.88,825.602 \n",
       "  2346.96,823.181 2363.04,820.735 2379.13,818.265 2395.21,815.77 2411.29,813.249 2427.38,810.704 2443.46,808.132 2459.55,805.535 2475.63,802.911 2491.71,800.261 \n",
       "  2507.8,797.584 2523.88,794.88 2539.96,792.148 2556.05,789.389 2572.13,786.603 2588.22,783.788 2604.3,780.944 2620.38,778.072 2636.47,775.171 2652.55,772.241 \n",
       "  2668.63,769.28 2684.72,766.291 2700.8,763.27 2716.89,760.22 2732.97,757.138 2749.05,754.026 2765.14,750.882 2781.22,747.706 2797.3,744.498 2813.39,741.258 \n",
       "  2829.47,737.985 2845.55,734.679 2861.64,731.339 2877.72,727.966 2893.81,724.559 2909.89,721.117 2925.97,717.641 2942.06,714.129 2958.14,710.582 2974.22,707 \n",
       "  2990.31,703.381 3006.39,699.725 3022.48,696.032 3038.56,692.303 3054.64,688.535 3070.73,684.73 3086.81,680.886 3102.89,677.003 3118.98,673.081 3135.06,669.119 \n",
       "  3151.15,665.118 3167.23,661.075 3183.31,656.993 3199.4,652.868 3215.48,648.703 3231.56,644.495 3247.65,640.244 3263.73,635.951 3279.82,631.614 3295.9,627.234 \n",
       "  3311.98,622.809 3328.07,618.34 3344.15,613.825 3360.23,609.265 3376.32,604.659 3392.4,600.006 3408.48,595.306 3424.57,590.559 3440.65,585.764 3456.74,580.92 \n",
       "  \n",
       "  \"/>\n",
       "<polyline clip-path=\"url(#clip642)\" style=\"stroke:#e26f46; stroke-linecap:butt; stroke-linejoin:round; stroke-width:8; stroke-opacity:1; fill:none\" points=\"\n",
       "  256.076,1524.43 272.16,1522.42 288.244,1520.37 304.328,1518.29 320.411,1516.17 336.495,1514.02 352.579,1511.84 368.662,1509.63 384.746,1507.37 400.83,1505.09 \n",
       "  416.914,1502.77 432.997,1500.41 449.081,1498.02 465.165,1495.59 481.248,1493.12 497.332,1490.62 513.416,1488.09 529.5,1485.51 545.583,1482.9 561.667,1480.25 \n",
       "  577.751,1477.57 593.834,1474.85 609.918,1472.09 626.002,1469.29 642.086,1466.45 658.169,1463.58 674.253,1460.66 690.337,1457.71 706.42,1454.73 722.504,1451.7 \n",
       "  738.588,1448.63 754.672,1445.53 770.755,1442.39 786.839,1439.21 802.923,1435.99 819.007,1432.73 835.09,1429.44 851.174,1426.1 867.258,1422.73 883.341,1419.32 \n",
       "  899.425,1415.87 915.509,1412.39 931.593,1408.86 947.676,1405.3 963.76,1401.71 979.844,1398.07 995.927,1394.4 1012.01,1390.69 1028.09,1386.95 1044.18,1383.17 \n",
       "  1060.26,1379.36 1076.35,1375.51 1092.43,1371.63 1108.51,1367.71 1124.6,1363.76 1140.68,1359.77 1156.76,1355.75 1172.85,1351.7 1188.93,1347.62 1205.02,1343.51 \n",
       "  1221.1,1339.37 1237.18,1335.19 1253.27,1330.99 1269.35,1326.76 1285.43,1322.5 1301.52,1318.21 1317.6,1313.9 1333.69,1309.56 1349.77,1305.2 1365.85,1300.81 \n",
       "  1381.94,1296.4 1398.02,1291.96 1414.1,1287.51 1430.19,1283.03 1446.27,1278.53 1462.36,1274.02 1478.44,1269.48 1494.52,1264.93 1510.61,1260.37 1526.69,1255.78 \n",
       "  1542.77,1251.19 1558.86,1246.58 1574.94,1241.96 1591.02,1237.33 1607.11,1232.68 1623.19,1228.03 1639.28,1223.37 1655.36,1218.71 1671.44,1214.04 1687.53,1209.36 \n",
       "  1703.61,1204.69 1719.69,1200.01 1735.78,1195.33 1751.86,1190.65 1767.95,1185.97 1784.03,1181.29 1800.11,1176.62 1816.2,1171.96 1832.28,1167.3 1848.36,1162.65 \n",
       "  1864.45,1158 1880.53,1153.37 1896.62,1148.75 1912.7,1144.14 1928.78,1139.55 1944.87,1134.97 1960.95,1130.41 1977.03,1125.86 1993.12,1121.33 2009.2,1116.83 \n",
       "  2025.29,1112.34 2041.37,1107.88 2057.45,1103.44 2073.54,1099.03 2089.62,1094.64 2105.7,1090.27 2121.79,1085.94 2137.87,1081.64 2153.96,1077.36 2170.04,1073.12 \n",
       "  2186.12,1068.91 2202.21,1064.74 2218.29,1060.59 2234.37,1056.49 2250.46,1052.42 2266.54,1048.39 2282.62,1044.4 2298.71,1040.45 2314.79,1036.53 2330.88,1032.67 \n",
       "  2346.96,1028.84 2363.04,1025.06 2379.13,1021.32 2395.21,1017.62 2411.29,1013.98 2427.38,1010.37 2443.46,1006.82 2459.55,1003.32 2475.63,999.862 2491.71,996.457 \n",
       "  2507.8,993.102 2523.88,989.799 2539.96,986.548 2556.05,983.35 2572.13,980.205 2588.22,977.114 2604.3,974.077 2620.38,971.096 2636.47,968.17 2652.55,965.3 \n",
       "  2668.63,962.486 2684.72,959.73 2700.8,957.031 2716.89,954.391 2732.97,951.808 2749.05,949.285 2765.14,946.82 2781.22,944.415 2797.3,942.07 2813.39,939.785 \n",
       "  2829.47,937.56 2845.55,935.396 2861.64,933.293 2877.72,931.252 2893.81,929.271 2909.89,927.353 2925.97,925.496 2942.06,923.701 2958.14,921.969 2974.22,920.298 \n",
       "  2990.31,918.691 3006.39,917.146 3022.48,915.663 3038.56,914.243 3054.64,912.887 3070.73,911.593 3086.81,910.362 3102.89,909.194 3118.98,908.09 3135.06,907.048 \n",
       "  3151.15,906.07 3167.23,905.154 3183.31,904.302 3199.4,903.513 3215.48,902.787 3231.56,902.124 3247.65,901.524 3263.73,900.988 3279.82,900.514 3295.9,900.103 \n",
       "  3311.98,899.755 3328.07,899.47 3344.15,899.247 3360.23,899.087 3376.32,898.99 3392.4,898.955 3408.48,898.983 3424.57,899.073 3440.65,899.225 3456.74,899.44 \n",
       "  \n",
       "  \"/>\n",
       "<polyline clip-path=\"url(#clip642)\" style=\"stroke:#3da44d; stroke-linecap:butt; stroke-linejoin:round; stroke-width:8; stroke-opacity:1; fill:none\" points=\"\n",
       "  256.076,1578.82 272.16,1561.91 288.244,1544.72 304.328,1527.29 320.411,1509.63 336.495,1491.77 352.579,1473.74 368.662,1455.54 384.746,1437.21 400.83,1418.77 \n",
       "  416.914,1400.24 432.997,1381.63 449.081,1362.99 465.165,1344.31 481.248,1325.63 497.332,1306.97 513.416,1288.35 529.5,1269.79 545.583,1251.31 561.667,1232.94 \n",
       "  577.751,1214.68 593.834,1196.57 609.918,1178.62 626.002,1160.85 642.086,1143.28 658.169,1125.93 674.253,1108.82 690.337,1091.97 706.42,1075.39 722.504,1059.11 \n",
       "  738.588,1043.13 754.672,1027.49 770.755,1012.18 786.839,997.234 802.923,982.661 819.007,968.478 835.09,954.698 851.174,941.335 867.258,928.403 883.341,915.914 \n",
       "  899.425,903.881 915.509,892.315 931.593,881.228 947.676,870.629 963.76,860.53 979.844,850.938 995.927,841.864 1012.01,833.313 1028.09,825.295 1044.18,817.816 \n",
       "  1060.26,810.881 1076.35,804.495 1092.43,798.664 1108.51,793.392 1124.6,788.68 1140.68,784.532 1156.76,780.95 1172.85,777.934 1188.93,775.485 1205.02,773.602 \n",
       "  1221.1,772.283 1237.18,771.528 1253.27,771.333 1269.35,771.694 1285.43,772.608 1301.52,774.07 1317.6,776.073 1333.69,778.612 1349.77,781.68 1365.85,785.268 \n",
       "  1381.94,789.369 1398.02,793.972 1414.1,799.069 1430.19,804.648 1446.27,810.698 1462.36,817.208 1478.44,824.165 1494.52,831.556 1510.61,839.367 1526.69,847.584 \n",
       "  1542.77,856.193 1558.86,865.177 1574.94,874.521 1591.02,884.208 1607.11,894.222 1623.19,904.545 1639.28,915.16 1655.36,926.047 1671.44,937.19 1687.53,948.568 \n",
       "  1703.61,960.163 1719.69,971.955 1735.78,983.924 1751.86,996.05 1767.95,1008.31 1784.03,1020.69 1800.11,1033.17 1816.2,1045.71 1832.28,1058.32 1848.36,1070.95 \n",
       "  1864.45,1083.6 1880.53,1096.24 1896.62,1108.84 1912.7,1121.4 1928.78,1133.88 1944.87,1146.28 1960.95,1158.55 1977.03,1170.69 1993.12,1182.68 2009.2,1194.5 \n",
       "  2025.29,1206.12 2041.37,1217.52 2057.45,1228.69 2073.54,1239.61 2089.62,1250.26 2105.7,1260.62 2121.79,1270.67 2137.87,1280.4 2153.96,1289.79 2170.04,1298.82 \n",
       "  2186.12,1307.48 2202.21,1315.75 2218.29,1323.61 2234.37,1331.06 2250.46,1338.07 2266.54,1344.64 2282.62,1350.76 2298.71,1356.4 2314.79,1361.57 2330.88,1366.24 \n",
       "  2346.96,1370.42 2363.04,1374.08 2379.13,1377.23 2395.21,1379.85 2411.29,1381.94 2427.38,1383.48 2443.46,1384.49 2459.55,1384.94 2475.63,1384.84 2491.71,1384.18 \n",
       "  2507.8,1382.96 2523.88,1381.18 2539.96,1378.84 2556.05,1375.93 2572.13,1372.46 2588.22,1368.42 2604.3,1363.83 2620.38,1358.67 2636.47,1352.96 2652.55,1346.7 \n",
       "  2668.63,1339.89 2684.72,1332.54 2700.8,1324.65 2716.89,1316.24 2732.97,1307.3 2749.05,1297.85 2765.14,1287.89 2781.22,1277.44 2797.3,1266.5 2813.39,1255.09 \n",
       "  2829.47,1243.21 2845.55,1230.88 2861.64,1218.1 2877.72,1204.9 2893.81,1191.29 2909.89,1177.28 2925.97,1162.87 2942.06,1148.1 2958.14,1132.98 2974.22,1117.51 \n",
       "  2990.31,1101.72 3006.39,1085.62 3022.48,1069.23 3038.56,1052.57 3054.64,1035.66 3070.73,1018.51 3086.81,1001.15 3102.89,983.584 3118.98,965.842 3135.06,947.94 \n",
       "  3151.15,929.9 3167.23,911.741 3183.31,893.483 3199.4,875.148 3215.48,856.756 3231.56,838.328 3247.65,819.885 3263.73,801.45 3279.82,783.043 3295.9,764.686 \n",
       "  3311.98,746.402 3328.07,728.212 3344.15,710.138 3360.23,692.203 3376.32,674.429 3392.4,656.837 3408.48,639.451 3424.57,622.293 3440.65,605.385 3456.74,588.749 \n",
       "  \n",
       "  \"/>\n",
       "<polyline clip-path=\"url(#clip642)\" style=\"stroke:#c271d2; stroke-linecap:butt; stroke-linejoin:round; stroke-width:8; stroke-opacity:1; fill:none\" points=\"\n",
       "  256.076,733.651 272.16,738.859 288.244,744.137 304.328,749.486 320.411,754.905 336.495,760.394 352.579,765.952 368.662,771.58 384.746,777.277 400.83,783.042 \n",
       "  416.914,788.876 432.997,794.778 449.081,800.748 465.165,806.785 481.248,812.889 497.332,819.06 513.416,825.297 529.5,831.6 545.583,837.97 561.667,844.404 \n",
       "  577.751,850.904 593.834,857.469 609.918,864.098 626.002,870.792 642.086,877.549 658.169,884.37 674.253,891.254 690.337,898.201 706.42,905.21 722.504,912.281 \n",
       "  738.588,919.415 754.672,926.61 770.755,933.866 786.839,941.183 802.923,948.561 819.007,955.999 835.09,963.496 851.174,971.054 867.258,978.671 883.341,986.347 \n",
       "  899.425,994.081 915.509,1001.87 931.593,1009.72 947.676,1017.63 963.76,1025.6 979.844,1033.62 995.927,1041.7 1012.01,1049.84 1028.09,1058.03 1044.18,1066.28 \n",
       "  1060.26,1074.59 1076.35,1082.95 1092.43,1091.36 1108.51,1099.84 1124.6,1108.36 1140.68,1116.94 1156.76,1125.58 1172.85,1134.26 1188.93,1143.01 1205.02,1151.8 \n",
       "  1221.1,1160.65 1237.18,1169.55 1253.27,1178.51 1269.35,1187.51 1285.43,1196.57 1301.52,1205.69 1317.6,1214.85 1333.69,1224.07 1349.77,1233.33 1365.85,1242.65 \n",
       "  1381.94,1252.02 1398.02,1261.45 1414.1,1270.92 1430.19,1280.44 1446.27,1290.02 1462.36,1299.64 1478.44,1309.32 1494.52,1319.04 1510.61,1328.82 1526.69,1338.65 \n",
       "  1542.77,1348.52 1558.86,1358.45 1574.94,1368.42 1591.02,1378.45 1607.11,1388.52 1623.19,1398.65 1639.28,1408.82 1655.36,1419.05 1671.44,1429.32 1687.53,1439.64 \n",
       "  1703.61,1450.01 1719.69,1460.43 1735.78,1470.9 1751.86,1481.42 1767.95,1491.99 1784.03,1502.6 1800.11,1513.27 1816.2,1523.99 1832.28,1534.75 1848.36,1545.56 \n",
       "  1864.45,1545.56 1880.53,1534.75 1896.62,1523.98 1912.7,1513.26 1928.78,1502.6 1944.87,1491.98 1960.95,1481.41 1977.03,1470.89 1993.12,1460.42 2009.2,1450 \n",
       "  2025.29,1439.62 2041.37,1429.3 2057.45,1419.03 2073.54,1408.81 2089.62,1398.63 2105.7,1388.51 2121.79,1378.43 2137.87,1368.41 2153.96,1358.43 2170.04,1348.51 \n",
       "  2186.12,1338.63 2202.21,1328.81 2218.29,1319.04 2234.37,1309.31 2250.46,1299.64 2266.54,1290.02 2282.62,1280.45 2298.71,1270.92 2314.79,1261.46 2330.88,1252.04 \n",
       "  2346.96,1242.67 2363.04,1233.35 2379.13,1224.09 2395.21,1214.88 2411.29,1205.72 2427.38,1196.61 2443.46,1187.55 2459.55,1178.55 2475.63,1169.6 2491.71,1160.7 \n",
       "  2507.8,1151.85 2523.88,1143.06 2539.96,1134.32 2556.05,1125.63 2572.13,1117 2588.22,1108.42 2604.3,1099.9 2620.38,1091.43 2636.47,1083.01 2652.55,1074.65 \n",
       "  2668.63,1066.34 2684.72,1058.09 2700.8,1049.9 2716.89,1041.76 2732.97,1033.68 2749.05,1025.65 2765.14,1017.68 2781.22,1009.76 2797.3,1001.91 2813.39,994.108 \n",
       "  2829.47,986.367 2845.55,978.684 2861.64,971.06 2877.72,963.494 2893.81,955.987 2909.89,948.54 2925.97,941.153 2942.06,933.826 2958.14,926.56 2974.22,919.355 \n",
       "  2990.31,912.211 3006.39,905.129 3022.48,898.11 3038.56,891.154 3054.64,884.26 3070.73,877.431 3086.81,870.665 3102.89,863.965 3118.98,857.33 3135.06,850.76 \n",
       "  3151.15,844.257 3167.23,837.821 3183.31,831.452 3199.4,825.151 3215.48,818.919 3231.56,812.756 3247.65,806.662 3263.73,800.64 3279.82,794.688 3295.9,788.808 \n",
       "  3311.98,783.001 3328.07,777.267 3344.15,771.607 3360.23,766.022 3376.32,760.512 3392.4,755.078 3408.48,749.721 3424.57,744.442 3440.65,739.242 3456.74,734.121 \n",
       "  \n",
       "  \"/>\n",
       "<polyline clip-path=\"url(#clip642)\" style=\"stroke:#ac8d18; stroke-linecap:butt; stroke-linejoin:round; stroke-width:8; stroke-opacity:1; fill:none\" points=\"\n",
       "  256.076,1473.65 272.16,1458.01 288.244,1442.17 304.328,1426.17 320.411,1410 336.495,1393.69 352.579,1377.25 368.662,1360.69 384.746,1344.04 400.83,1327.31 \n",
       "  416.914,1310.52 432.997,1293.67 449.081,1276.79 465.165,1259.9 481.248,1243.02 497.332,1226.15 513.416,1209.32 529.5,1192.54 545.583,1175.84 561.667,1159.22 \n",
       "  577.751,1142.72 593.834,1126.34 609.918,1110.11 626.002,1094.04 642.086,1078.15 658.169,1062.46 674.253,1046.99 690.337,1031.76 706.42,1016.78 722.504,1002.08 \n",
       "  738.588,987.666 754.672,973.568 770.755,959.8 786.839,946.381 802.923,933.331 819.007,920.666 835.09,908.407 851.174,896.571 867.258,885.177 883.341,874.242 \n",
       "  899.425,863.786 915.509,853.827 931.593,844.381 947.676,835.467 963.76,827.103 979.844,819.306 995.927,812.093 1012.01,805.48 1028.09,799.486 1044.18,794.126 \n",
       "  1060.26,789.416 1076.35,785.374 1092.43,782.013 1108.51,779.351 1124.6,777.401 1140.68,776.18 1156.76,775.701 1172.85,775.979 1188.93,777.027 1205.02,778.859 \n",
       "  1221.1,781.489 1237.18,784.928 1253.27,789.19 1269.35,794.285 1285.43,800.227 1301.52,807.026 1317.6,814.693 1333.69,823.237 1349.77,832.67 1365.85,843 \n",
       "  1381.94,854.236 1398.02,866.387 1414.1,879.462 1430.19,893.466 1446.27,908.409 1462.36,924.296 1478.44,941.134 1494.52,958.929 1510.61,977.685 1526.69,997.407 \n",
       "  1542.77,1018.1 1558.86,1039.77 1574.94,1062.42 1591.02,1086.04 1607.11,1110.65 1623.19,1136.25 1639.28,1162.83 1655.36,1190.41 1671.44,1218.97 1687.53,1248.52 \n",
       "  1703.61,1279.05 1719.69,1310.58 1735.78,1343.09 1751.86,1376.59 1767.95,1411.07 1784.03,1446.54 1800.11,1482.98 1816.2,1520.4 1832.28,1558.78 1848.36,1598.14 \n",
       "  1864.45,1599.43 1880.53,1562.66 1896.62,1526.84 1912.7,1491.97 1928.78,1458.04 1944.87,1425.05 1960.95,1393 1977.03,1361.87 1993.12,1331.66 2009.2,1302.36 \n",
       "  2025.29,1273.96 2041.37,1246.47 2057.45,1219.87 2073.54,1194.15 2089.62,1169.31 2105.7,1145.33 2121.79,1122.22 2137.87,1099.95 2153.96,1078.54 2170.04,1057.95 \n",
       "  2186.12,1038.2 2202.21,1019.26 2218.29,1001.14 2234.37,983.817 2250.46,967.289 2266.54,951.546 2282.62,936.58 2298.71,922.383 2314.79,908.946 2330.88,896.262 \n",
       "  2346.96,884.321 2363.04,873.117 2379.13,862.64 2395.21,852.883 2411.29,843.839 2427.38,835.499 2443.46,827.856 2459.55,820.904 2475.63,814.634 2491.71,809.04 \n",
       "  2507.8,804.116 2523.88,799.854 2539.96,796.249 2556.05,793.294 2572.13,790.984 2588.22,789.313 2604.3,788.276 2620.38,787.868 2636.47,788.083 2652.55,788.919 \n",
       "  2668.63,790.37 2684.72,792.432 2700.8,795.103 2716.89,798.379 2732.97,802.256 2749.05,806.733 2765.14,811.807 2781.22,817.477 2797.3,823.74 2813.39,830.596 \n",
       "  2829.47,838.044 2845.55,846.083 2861.64,854.713 2877.72,863.934 2893.81,873.747 2909.89,884.153 2925.97,895.154 2942.06,906.75 2958.14,918.945 2974.22,931.741 \n",
       "  2990.31,945.139 3006.39,959.145 3022.48,973.761 3038.56,988.992 3054.64,1004.84 3070.73,1021.31 3086.81,1038.42 3102.89,1056.15 3118.98,1074.53 3135.06,1093.55 \n",
       "  3151.15,1113.23 3167.23,1133.57 3183.31,1154.57 3199.4,1176.25 3215.48,1198.62 3231.56,1221.67 3247.65,1245.43 3263.73,1269.9 3279.82,1295.09 3295.9,1321.01 \n",
       "  3311.98,1347.67 3328.07,1375.09 3344.15,1403.26 3360.23,1432.21 3376.32,1461.95 3392.4,1492.48 3408.48,1523.83 3424.57,1555.99 3440.65,1589 3456.74,1622.85 \n",
       "  \n",
       "  \"/>\n",
       "<path clip-path=\"url(#clip640)\" d=\"\n",
       "M2984.02 426.154 L3439.67 426.154 L3439.67 115.114 L2984.02 115.114  Z\n",
       "  \" fill=\"#ffffff\" fill-rule=\"evenodd\" fill-opacity=\"1\"/>\n",
       "<polyline clip-path=\"url(#clip640)\" style=\"stroke:#000000; stroke-linecap:butt; stroke-linejoin:round; stroke-width:4; stroke-opacity:1; fill:none\" points=\"\n",
       "  2984.02,426.154 3439.67,426.154 3439.67,115.114 2984.02,115.114 2984.02,426.154 \n",
       "  \"/>\n",
       "<polyline clip-path=\"url(#clip640)\" style=\"stroke:#009af9; stroke-linecap:butt; stroke-linejoin:round; stroke-width:4; stroke-opacity:1; fill:none\" points=\"\n",
       "  3021.72,166.954 3247.9,166.954 \n",
       "  \"/>\n",
       "<path clip-path=\"url(#clip640)\" d=\"M3289.99 171.294 Q3289.99 175.993 3291.91 178.678 Q3293.86 181.34 3297.24 181.34 Q3300.62 181.34 3302.56 178.678 Q3304.5 175.993 3304.5 171.294 Q3304.5 166.595 3302.56 163.933 Q3300.62 161.248 3297.24 161.248 Q3293.86 161.248 3291.91 163.933 Q3289.99 166.595 3289.99 171.294 M3304.5 180.345 Q3303.16 182.659 3301.1 183.794 Q3299.06 184.905 3296.19 184.905 Q3291.5 184.905 3288.53 181.155 Q3285.59 177.405 3285.59 171.294 Q3285.59 165.183 3288.53 161.433 Q3291.5 157.683 3296.19 157.683 Q3299.06 157.683 3301.1 158.817 Q3303.16 159.928 3304.5 162.243 L3304.5 158.308 L3308.76 158.308 L3308.76 194.095 L3304.5 194.095 L3304.5 180.345 Z\" fill=\"#000000\" fill-rule=\"evenodd\" fill-opacity=\"1\" /><path clip-path=\"url(#clip640)\" d=\"M3337.24 192.104 L3337.24 195.414 L3312.61 195.414 L3312.61 192.104 L3337.24 192.104 Z\" fill=\"#000000\" fill-rule=\"evenodd\" fill-opacity=\"1\" /><path clip-path=\"url(#clip640)\" d=\"M3342.65 180.298 L3350.29 180.298 L3350.29 153.933 L3341.98 155.599 L3341.98 151.34 L3350.24 149.674 L3354.92 149.674 L3354.92 180.298 L3362.56 180.298 L3362.56 184.234 L3342.65 184.234 L3342.65 180.298 Z\" fill=\"#000000\" fill-rule=\"evenodd\" fill-opacity=\"1\" /><polyline clip-path=\"url(#clip640)\" style=\"stroke:#e26f46; stroke-linecap:butt; stroke-linejoin:round; stroke-width:4; stroke-opacity:1; fill:none\" points=\"\n",
       "  3021.72,218.794 3247.9,218.794 \n",
       "  \"/>\n",
       "<path clip-path=\"url(#clip640)\" d=\"M3289.99 223.134 Q3289.99 227.833 3291.91 230.518 Q3293.86 233.18 3297.24 233.18 Q3300.62 233.18 3302.56 230.518 Q3304.5 227.833 3304.5 223.134 Q3304.5 218.435 3302.56 215.773 Q3300.62 213.088 3297.24 213.088 Q3293.86 213.088 3291.91 215.773 Q3289.99 218.435 3289.99 223.134 M3304.5 232.185 Q3303.16 234.499 3301.1 235.634 Q3299.06 236.745 3296.19 236.745 Q3291.5 236.745 3288.53 232.995 Q3285.59 229.245 3285.59 223.134 Q3285.59 217.023 3288.53 213.273 Q3291.5 209.523 3296.19 209.523 Q3299.06 209.523 3301.1 210.657 Q3303.16 211.768 3304.5 214.083 L3304.5 210.148 L3308.76 210.148 L3308.76 245.935 L3304.5 245.935 L3304.5 232.185 Z\" fill=\"#000000\" fill-rule=\"evenodd\" fill-opacity=\"1\" /><path clip-path=\"url(#clip640)\" d=\"M3337.24 243.944 L3337.24 247.254 L3312.61 247.254 L3312.61 243.944 L3337.24 243.944 Z\" fill=\"#000000\" fill-rule=\"evenodd\" fill-opacity=\"1\" /><path clip-path=\"url(#clip640)\" d=\"M3345.87 232.138 L3362.19 232.138 L3362.19 236.074 L3340.24 236.074 L3340.24 232.138 Q3342.91 229.384 3347.49 224.754 Q3352.1 220.101 3353.28 218.759 Q3355.52 216.236 3356.4 214.5 Q3357.31 212.74 3357.31 211.051 Q3357.31 208.296 3355.36 206.56 Q3353.44 204.824 3350.34 204.824 Q3348.14 204.824 3345.68 205.588 Q3343.25 206.351 3340.48 207.902 L3340.48 203.18 Q3343.3 202.046 3345.75 201.467 Q3348.21 200.889 3350.24 200.889 Q3355.62 200.889 3358.81 203.574 Q3362 206.259 3362 210.75 Q3362 212.879 3361.19 214.801 Q3360.41 216.699 3358.3 219.291 Q3357.72 219.963 3354.62 223.18 Q3351.52 226.375 3345.87 232.138 Z\" fill=\"#000000\" fill-rule=\"evenodd\" fill-opacity=\"1\" /><polyline clip-path=\"url(#clip640)\" style=\"stroke:#3da44d; stroke-linecap:butt; stroke-linejoin:round; stroke-width:4; stroke-opacity:1; fill:none\" points=\"\n",
       "  3021.72,270.634 3247.9,270.634 \n",
       "  \"/>\n",
       "<path clip-path=\"url(#clip640)\" d=\"M3289.99 274.974 Q3289.99 279.673 3291.91 282.358 Q3293.86 285.02 3297.24 285.02 Q3300.62 285.02 3302.56 282.358 Q3304.5 279.673 3304.5 274.974 Q3304.5 270.275 3302.56 267.613 Q3300.62 264.928 3297.24 264.928 Q3293.86 264.928 3291.91 267.613 Q3289.99 270.275 3289.99 274.974 M3304.5 284.025 Q3303.16 286.339 3301.1 287.474 Q3299.06 288.585 3296.19 288.585 Q3291.5 288.585 3288.53 284.835 Q3285.59 281.085 3285.59 274.974 Q3285.59 268.863 3288.53 265.113 Q3291.5 261.363 3296.19 261.363 Q3299.06 261.363 3301.1 262.497 Q3303.16 263.608 3304.5 265.923 L3304.5 261.988 L3308.76 261.988 L3308.76 297.775 L3304.5 297.775 L3304.5 284.025 Z\" fill=\"#000000\" fill-rule=\"evenodd\" fill-opacity=\"1\" /><path clip-path=\"url(#clip640)\" d=\"M3337.24 295.784 L3337.24 299.094 L3312.61 299.094 L3312.61 295.784 L3337.24 295.784 Z\" fill=\"#000000\" fill-rule=\"evenodd\" fill-opacity=\"1\" /><path clip-path=\"url(#clip640)\" d=\"M3356.01 269.279 Q3359.37 269.997 3361.24 272.265 Q3363.14 274.534 3363.14 277.867 Q3363.14 282.983 3359.62 285.784 Q3356.1 288.585 3349.62 288.585 Q3347.44 288.585 3345.13 288.145 Q3342.84 287.728 3340.38 286.872 L3340.38 282.358 Q3342.33 283.492 3344.64 284.071 Q3346.96 284.65 3349.48 284.65 Q3353.88 284.65 3356.17 282.914 Q3358.49 281.177 3358.49 277.867 Q3358.49 274.812 3356.33 273.099 Q3354.2 271.363 3350.38 271.363 L3346.36 271.363 L3346.36 267.52 L3350.57 267.52 Q3354.02 267.52 3355.85 266.154 Q3357.68 264.766 3357.68 262.173 Q3357.68 259.511 3355.78 258.099 Q3353.9 256.664 3350.38 256.664 Q3348.46 256.664 3346.26 257.08 Q3344.06 257.497 3341.43 258.377 L3341.43 254.21 Q3344.09 253.469 3346.4 253.099 Q3348.74 252.729 3350.8 252.729 Q3356.12 252.729 3359.23 255.159 Q3362.33 257.566 3362.33 261.687 Q3362.33 264.557 3360.68 266.548 Q3359.04 268.516 3356.01 269.279 Z\" fill=\"#000000\" fill-rule=\"evenodd\" fill-opacity=\"1\" /><polyline clip-path=\"url(#clip640)\" style=\"stroke:#c271d2; stroke-linecap:butt; stroke-linejoin:round; stroke-width:4; stroke-opacity:1; fill:none\" points=\"\n",
       "  3021.72,322.474 3247.9,322.474 \n",
       "  \"/>\n",
       "<path clip-path=\"url(#clip640)\" d=\"M3289.99 326.814 Q3289.99 331.513 3291.91 334.198 Q3293.86 336.86 3297.24 336.86 Q3300.62 336.86 3302.56 334.198 Q3304.5 331.513 3304.5 326.814 Q3304.5 322.115 3302.56 319.453 Q3300.62 316.768 3297.24 316.768 Q3293.86 316.768 3291.91 319.453 Q3289.99 322.115 3289.99 326.814 M3304.5 335.865 Q3303.16 338.179 3301.1 339.314 Q3299.06 340.425 3296.19 340.425 Q3291.5 340.425 3288.53 336.675 Q3285.59 332.925 3285.59 326.814 Q3285.59 320.703 3288.53 316.953 Q3291.5 313.203 3296.19 313.203 Q3299.06 313.203 3301.1 314.337 Q3303.16 315.448 3304.5 317.763 L3304.5 313.828 L3308.76 313.828 L3308.76 349.615 L3304.5 349.615 L3304.5 335.865 Z\" fill=\"#000000\" fill-rule=\"evenodd\" fill-opacity=\"1\" /><path clip-path=\"url(#clip640)\" d=\"M3337.24 347.624 L3337.24 350.934 L3312.61 350.934 L3312.61 347.624 L3337.24 347.624 Z\" fill=\"#000000\" fill-rule=\"evenodd\" fill-opacity=\"1\" /><path clip-path=\"url(#clip640)\" d=\"M3354.69 309.268 L3342.88 327.717 L3354.69 327.717 L3354.69 309.268 M3353.46 305.194 L3359.34 305.194 L3359.34 327.717 L3364.27 327.717 L3364.27 331.605 L3359.34 331.605 L3359.34 339.754 L3354.69 339.754 L3354.69 331.605 L3339.09 331.605 L3339.09 327.092 L3353.46 305.194 Z\" fill=\"#000000\" fill-rule=\"evenodd\" fill-opacity=\"1\" /><polyline clip-path=\"url(#clip640)\" style=\"stroke:#ac8d18; stroke-linecap:butt; stroke-linejoin:round; stroke-width:4; stroke-opacity:1; fill:none\" points=\"\n",
       "  3021.72,374.314 3247.9,374.314 \n",
       "  \"/>\n",
       "<path clip-path=\"url(#clip640)\" d=\"M3289.99 378.654 Q3289.99 383.353 3291.91 386.038 Q3293.86 388.7 3297.24 388.7 Q3300.62 388.7 3302.56 386.038 Q3304.5 383.353 3304.5 378.654 Q3304.5 373.955 3302.56 371.293 Q3300.62 368.608 3297.24 368.608 Q3293.86 368.608 3291.91 371.293 Q3289.99 373.955 3289.99 378.654 M3304.5 387.705 Q3303.16 390.019 3301.1 391.154 Q3299.06 392.265 3296.19 392.265 Q3291.5 392.265 3288.53 388.515 Q3285.59 384.765 3285.59 378.654 Q3285.59 372.543 3288.53 368.793 Q3291.5 365.043 3296.19 365.043 Q3299.06 365.043 3301.1 366.177 Q3303.16 367.288 3304.5 369.603 L3304.5 365.668 L3308.76 365.668 L3308.76 401.455 L3304.5 401.455 L3304.5 387.705 Z\" fill=\"#000000\" fill-rule=\"evenodd\" fill-opacity=\"1\" /><path clip-path=\"url(#clip640)\" d=\"M3337.24 399.464 L3337.24 402.774 L3312.61 402.774 L3312.61 399.464 L3337.24 399.464 Z\" fill=\"#000000\" fill-rule=\"evenodd\" fill-opacity=\"1\" /><path clip-path=\"url(#clip640)\" d=\"M3341.89 357.034 L3360.24 357.034 L3360.24 360.969 L3346.17 360.969 L3346.17 369.441 Q3347.19 369.094 3348.21 368.932 Q3349.23 368.746 3350.24 368.746 Q3356.03 368.746 3359.41 371.918 Q3362.79 375.089 3362.79 380.506 Q3362.79 386.084 3359.32 389.186 Q3355.85 392.265 3349.53 392.265 Q3347.35 392.265 3345.08 391.894 Q3342.84 391.524 3340.43 390.783 L3340.43 386.084 Q3342.51 387.219 3344.74 387.774 Q3346.96 388.33 3349.43 388.33 Q3353.44 388.33 3355.78 386.223 Q3358.12 384.117 3358.12 380.506 Q3358.12 376.895 3355.78 374.788 Q3353.44 372.682 3349.43 372.682 Q3347.56 372.682 3345.68 373.098 Q3343.83 373.515 3341.89 374.395 L3341.89 357.034 Z\" fill=\"#000000\" fill-rule=\"evenodd\" fill-opacity=\"1\" /></svg>\n"
      ]
     },
     "execution_count": 27,
     "metadata": {},
     "output_type": "execute_result"
    }
   ],
   "source": [
    "plot(x, hcat(collect(Q[i][x] for i in 1:5)...), framestyle=:origin, ylim=(-3,3), label=[\"q_1\" \"q_2\" \"q_3\" \"q_4\" \"q_5\"])"
   ]
  },
  {
   "cell_type": "markdown",
   "id": "0de21a35",
   "metadata": {
    "slideshow": {
     "slide_type": "subslide"
    }
   },
   "source": [
    "## Notes on HW2 Problem 7\n",
    "\n",
    "Do not use `QuadGK` to approximate the $L^2$ inner product.  You should select $m$ evenly spaced points $\\{x_i\\}_{i=1}^m$ in $[a,b]$, approximate the function $f(x)$ as the vector $\\hat{f}$ of values $[\\hat{f}_1, \\dots, \\hat{f}_m]$ where $\\hat{f}_i = f(x_i)$, and approximate the inner-product as\n",
    "\n",
    "$$(f,g) \\approx \\frac{(b-a)}{m} \\hat{f}^* \\hat{g}.$$"
   ]
  }
 ],
 "metadata": {
  "@webio": {
   "lastCommId": null,
   "lastKernelId": null
  },
  "celltoolbar": "Slideshow",
  "hide_input": false,
  "kernelspec": {
   "display_name": "Julia 1.7.0",
   "language": "julia",
   "name": "julia-1.7"
  },
  "language_info": {
   "file_extension": ".jl",
   "mimetype": "application/julia",
   "name": "julia",
   "version": "1.7.0"
  }
 },
 "nbformat": 4,
 "nbformat_minor": 5
}
