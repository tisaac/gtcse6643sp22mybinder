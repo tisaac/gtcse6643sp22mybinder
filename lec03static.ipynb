{
 "cells": [
  {
   "cell_type": "code",
   "execution_count": 1,
   "id": "c400ff91",
   "metadata": {
    "hideCode": true,
    "hideOutput": true,
    "slideshow": {
     "slide_type": "slide"
    }
   },
   "outputs": [
    {
     "name": "stderr",
     "output_type": "stream",
     "text": [
      "\u001b[32m\u001b[1m    Updating\u001b[22m\u001b[39m registry at `~/.julia/registries/General.toml`\n",
      "\u001b[32m\u001b[1m   Resolving\u001b[22m\u001b[39m package versions...\n",
      "\u001b[32m\u001b[1m  No Changes\u001b[22m\u001b[39m to `~/srv/rep/22-course-cse6643/mybinder/Project.toml`\n",
      "\u001b[32m\u001b[1m  No Changes\u001b[22m\u001b[39m to `~/srv/rep/22-course-cse6643/mybinder/Manifest.toml`\n"
     ]
    }
   ],
   "source": [
    "import Pkg; Pkg.add([\"Plots\",\"Interact\"]);"
   ]
  },
  {
   "cell_type": "code",
   "execution_count": 2,
   "id": "63b30d6d",
   "metadata": {
    "hideCode": true,
    "hideOutput": true
   },
   "outputs": [],
   "source": [
    "const STATIC_LECTURE = true;"
   ]
  },
  {
   "cell_type": "code",
   "execution_count": 3,
   "id": "1525eb22",
   "metadata": {
    "hideCode": true,
    "hideOutput": true
   },
   "outputs": [
    {
     "data": {
      "text/plain": [
       "draw (generic function with 1 method)"
      ]
     },
     "execution_count": 3,
     "metadata": {},
     "output_type": "execute_result"
    }
   ],
   "source": [
    "function draw(plt)\n",
    "    if STATIC_LECTURE\n",
    "        filename = Base.Filesystem.tempname() * \".png\"\n",
    "        savefig(filename)\n",
    "        return display(\"image/png\", read(filename))\n",
    "    else\n",
    "        return plt\n",
    "    end\n",
    "end"
   ]
  },
  {
   "cell_type": "code",
   "execution_count": 4,
   "id": "0de0cf25",
   "metadata": {
    "hideCode": true,
    "hideOutput": true
   },
   "outputs": [],
   "source": [
    "using Plots; default(label=nothing, l=2, size=(800,500));\n",
    "if !STATIC_LECTURE\n",
    "    using Interact;\n",
    "end"
   ]
  },
  {
   "cell_type": "markdown",
   "id": "06a1dfaa",
   "metadata": {
    "cell_style": "split",
    "slideshow": {
     "slide_type": "slide"
    }
   },
   "source": [
    "(**Follow along: <https://tinyurl.com/gtcse6643lec3>**)\n",
    "\n",
    "### Warmups\n",
    "\n",
    "1. What is the induced 2-norm of a unitary matrix?\n",
    "\n",
    "2. Can you prove the fact below from last lecture?\n",
    "\n",
    "If $D\\in\\mathbb{C}^{m \\times m}$ is diagonal,\n",
    "\n",
    "$$\n",
    "\\|D\\|_p = \\max_{1 \\leq i \\leq m} |d_i|, \\quad 1\\leq p \\leq \\infty.\n",
    "$$\n",
    "\n",
    "Start with the definition of the matrix $p$-norm:\n",
    "\n",
    "$$\n",
    "\\|D\\|_p = \\sup_{\\|x\\|_p = 1} \\| D x \\|_p = \\dots\n",
    "$$"
   ]
  },
  {
   "cell_type": "code",
   "execution_count": 5,
   "id": "c7e403ed",
   "metadata": {
    "cell_style": "split"
   },
   "outputs": [
    {
     "data": {
      "text/plain": [
       "5-element Vector{Float64}:\n",
       "  2.8592902774245985\n",
       "  1.426194262131419\n",
       "  0.4548159611001695\n",
       " -1.2608167894483713\n",
       "  0.5071055695363266"
      ]
     },
     "execution_count": 5,
     "metadata": {},
     "output_type": "execute_result"
    }
   ],
   "source": [
    "using LinearAlgebra\n",
    "\n",
    "m = 5\n",
    "d = randn(m)"
   ]
  },
  {
   "cell_type": "code",
   "execution_count": 6,
   "id": "8862d861",
   "metadata": {
    "cell_style": "split"
   },
   "outputs": [
    {
     "data": {
      "text/plain": [
       "2.8592902774245985"
      ]
     },
     "execution_count": 6,
     "metadata": {},
     "output_type": "execute_result"
    }
   ],
   "source": [
    "D = diagm(d)\n",
    "opnorm(D,1) # in Julia `opnorm` is the induced norm"
   ]
  },
  {
   "cell_type": "code",
   "execution_count": 7,
   "id": "bde1c065",
   "metadata": {
    "cell_style": "split"
   },
   "outputs": [
    {
     "data": {
      "text/plain": [
       "2.8592902774245985"
      ]
     },
     "execution_count": 7,
     "metadata": {},
     "output_type": "execute_result"
    }
   ],
   "source": [
    "opnorm(D,2)"
   ]
  },
  {
   "cell_type": "code",
   "execution_count": 8,
   "id": "2ae456d4",
   "metadata": {
    "cell_style": "split"
   },
   "outputs": [
    {
     "data": {
      "text/plain": [
       "2.8592902774245985"
      ]
     },
     "execution_count": 8,
     "metadata": {},
     "output_type": "execute_result"
    }
   ],
   "source": [
    "opnorm(D,Inf)"
   ]
  },
  {
   "cell_type": "markdown",
   "id": "f79fcf7c",
   "metadata": {
    "slideshow": {
     "slide_type": "slide"
    }
   },
   "source": [
    "# Norms (Part II) and the SVD\n",
    "\n",
    "1. **Cauchy-Schwarz / Hölder Inequalities and Duality**\n",
    "2. **Submultiplicativity**\n",
    "3. **Frobenius Norm and Invariance under Unitary Multiplication**\n",
    "4. **SVD: Geometric Observation**\n",
    "5. **Reduced SVD, Full SVD, and Formal Definition**"
   ]
  },
  {
   "cell_type": "markdown",
   "id": "94cef65c",
   "metadata": {
    "slideshow": {
     "slide_type": "slide"
    }
   },
   "source": [
    "## Review: Induced Matrix Norm\n",
    "\n",
    "Given norms $\\|\\cdot\\|_{(m)}$ and $\\|\\cdot\\|_{(n)}$ on $\\mathbb{C}^m$ and $\\mathbb{C}^n$,\n",
    "\n",
    "$$\n",
    "\\| A \\|_{(m,n)} = \\sup_{\\|x\\|_{(n)} = 1} \\| A x \\|_{(m)} = \\sup_{x \\neq 0} \\frac{\\| A x \\|_{(m)}}{\\| x \\|_{(n)}}.\n",
    "$$\n",
    "\n",
    "If $(m) = (n) = p$, we say $\\| \\cdot \\|_p$."
   ]
  },
  {
   "cell_type": "markdown",
   "id": "6f1aafe4",
   "metadata": {
    "cell_style": "split",
    "slideshow": {
     "slide_type": "fragment"
    }
   },
   "source": [
    "Two cases where $\\| A \\|_{p}$ can be computed directly:\n",
    "\n",
    "1.\n",
    "$$\n",
    "\\| A \\|_1 = \\max_{1\\leq j \\leq n} \\| a_j \\|_1, \\quad a_j\\text{ column of }A.\n",
    "$$\n",
    "\n",
    "2.\n",
    "$$\n",
    "\\| A \\|_\\infty = \\| A^* \\|_1 = \\max_{1 \\leq i \\leq m} \\| a_i^* \\|_1 \\quad a_i^*\\text{ row of }A.\n",
    "$$"
   ]
  },
  {
   "cell_type": "code",
   "execution_count": 9,
   "id": "d1f9047f",
   "metadata": {
    "cell_style": "split"
   },
   "outputs": [
    {
     "data": {
      "text/plain": [
       "3×2 Matrix{Float64}:\n",
       " -1.5076    1.34028\n",
       " -1.16159  -0.394097\n",
       " -0.67967  -1.84294"
      ]
     },
     "execution_count": 9,
     "metadata": {},
     "output_type": "execute_result"
    }
   ],
   "source": [
    "m = 3; n = 2\n",
    "A = randn(m,n)"
   ]
  },
  {
   "cell_type": "code",
   "execution_count": 10,
   "id": "7e21e9bc",
   "metadata": {
    "cell_style": "split"
   },
   "outputs": [
    {
     "data": {
      "text/plain": [
       "2-element Vector{Float64}:\n",
       " 3.3488665115659657\n",
       " 3.5773252430266425"
      ]
     },
     "execution_count": 10,
     "metadata": {},
     "output_type": "execute_result"
    }
   ],
   "source": [
    "norm.([A[:,1],A[:,2]],1)"
   ]
  },
  {
   "cell_type": "code",
   "execution_count": 11,
   "id": "f5d6e0cf",
   "metadata": {
    "cell_style": "split"
   },
   "outputs": [
    {
     "data": {
      "text/plain": [
       "3.5773252430266425"
      ]
     },
     "execution_count": 11,
     "metadata": {},
     "output_type": "execute_result"
    }
   ],
   "source": [
    "opnorm(A,1)"
   ]
  },
  {
   "cell_type": "markdown",
   "id": "54adc8ac",
   "metadata": {
    "slideshow": {
     "slide_type": "subslide"
    }
   },
   "source": [
    "For general $1 < p < \\infty$ (most importantly $p=2$) and general $A$, $\\|A\\|_p$ _cannot be computed exactly in finite steps!_"
   ]
  },
  {
   "cell_type": "markdown",
   "id": "9eeaf353",
   "metadata": {
    "slideshow": {
     "slide_type": "fragment"
    }
   },
   "source": [
    "We still use $\\|A\\|_p$ (particularly $p\\in\\{1,2,\\infty\\}$) all the time because it can be approximated very quickly."
   ]
  },
  {
   "cell_type": "markdown",
   "id": "5c06d565",
   "metadata": {
    "cell_style": "center",
    "slideshow": {
     "slide_type": "slide"
    }
   },
   "source": [
    "## Cauchy-Schwarz and Hölder Inequalities"
   ]
  },
  {
   "cell_type": "markdown",
   "id": "187db28e",
   "metadata": {
    "cell_style": "center",
    "slideshow": {
     "slide_type": "-"
    }
   },
   "source": [
    "If $\\frac{1}{p} + \\frac{1}{q} = 1$, $1 \\leq p, q \\leq \\infty$, the **Hölder inequality** states that\n",
    "\n",
    "$$\n",
    "| x^* y | \\leq \\| x \\|_p \\| y \\|_q, \\quad \\forall x, y \\in\\mathbb{C}^m.\n",
    "$$"
   ]
  },
  {
   "cell_type": "code",
   "execution_count": 12,
   "id": "ae109173",
   "metadata": {
    "cell_style": "split"
   },
   "outputs": [
    {
     "data": {
      "text/plain": [
       "1×2 Matrix{Float64}:\n",
       " 1.41499  3.40967"
      ]
     },
     "execution_count": 12,
     "metadata": {},
     "output_type": "execute_result"
    }
   ],
   "source": [
    "m = 4; p = 1. + rand(); q = 1 / (1 - 1 /p);\n",
    "[p q]"
   ]
  },
  {
   "cell_type": "code",
   "execution_count": 13,
   "id": "098ad327",
   "metadata": {
    "cell_style": "split"
   },
   "outputs": [
    {
     "data": {
      "text/plain": [
       "4×2 Matrix{Float64}:\n",
       " -0.353934  -0.789583\n",
       " -0.807389   0.576983\n",
       "  0.060029  -0.862132\n",
       " -1.38928    0.287545"
      ]
     },
     "execution_count": 13,
     "metadata": {},
     "output_type": "execute_result"
    }
   ],
   "source": [
    "x = randn(m); y = randn(m);\n",
    "[x y]"
   ]
  },
  {
   "cell_type": "code",
   "execution_count": 14,
   "id": "9baaefc9",
   "metadata": {
    "cell_style": "split"
   },
   "outputs": [
    {
     "data": {
      "text/plain": [
       "0.6376223131676308"
      ]
     },
     "execution_count": 14,
     "metadata": {},
     "output_type": "execute_result"
    }
   ],
   "source": [
    "abs(x'*y)"
   ]
  },
  {
   "cell_type": "code",
   "execution_count": 15,
   "id": "b6f6f1b0",
   "metadata": {
    "cell_style": "split"
   },
   "outputs": [
    {
     "data": {
      "text/plain": [
       "1×3 Matrix{Float64}:\n",
       " 1.9538  1.05941  2.06988"
      ]
     },
     "execution_count": 15,
     "metadata": {},
     "output_type": "execute_result"
    }
   ],
   "source": [
    "[norm(x,p) norm(y,q) norm(x,p)*norm(y,q)]"
   ]
  },
  {
   "attachments": {
    "holder.png": {
     "image/png": "[encoded data removed]"
    }
   },
   "cell_type": "markdown",
   "id": "1a6c5611",
   "metadata": {
    "slideshow": {
     "slide_type": "subslide"
    }
   },
   "source": [
    "### Proof, case $p=1$, $q=\\infty$\n",
    "\n",
    "$$\n",
    "\\big|\\sum_{i=1}^m u_i v_i \\big| \\leq \\sum_{i=1}^m |u_i v_i| \\leq \\max_{1\\leq i \\leq m} |v_i| \\sum_{i=1}^m |u_i| = \\|u\\|_1 \\|v\\|_\\infty$$\n",
    "\n",
    "![holder.png](attachment:holder.png)"
   ]
  },
  {
   "attachments": {
    "angle.png": {
     "image/png": "[encoded data removed]"
    }
   },
   "cell_type": "markdown",
   "id": "9e4615d4",
   "metadata": {
    "slideshow": {
     "slide_type": "subslide"
    }
   },
   "source": [
    "## Proof, case $p = q = 2$ (Cauchy-Schwarz)\n",
    "\n",
    "Recall $\\cos \\alpha_{xy} = \\frac{x^*y}{\\|x\\|_2\\|y\\|_2}$:\n",
    "\n",
    "![angle.png](attachment:angle.png)\n",
    "\n",
    "$$\n",
    "|x^*y| = |\\cos \\alpha_{xy}| \\|x\\|_2 \\|y\\|_2 \\leq \\|x\\|_2 \\|y\\|_2.\n",
    "$$"
   ]
  },
  {
   "cell_type": "markdown",
   "id": "fbd837b5",
   "metadata": {
    "slideshow": {
     "slide_type": "subslide"
    }
   },
   "source": [
    "### Proof, general case\n",
    "\n",
    "$$|x^* y| \\leq \\|x\\|_p \\|y\\|_q, \\quad \\frac{1}{p} + \\frac{1}{q} = 1, \\quad x,y\\in\\mathbb{C}^{m}.$$\n",
    "\n",
    "Challenge exercise (Hölder's inequality = [Jensen's inequality](https://en.wikipedia.org/wiki/Jensen%27s_inequality) + [Young's Inequality](https://en.wikipedia.org/wiki/Young%27s_inequality_for_products))"
   ]
  },
  {
   "cell_type": "markdown",
   "id": "e957c88e",
   "metadata": {
    "slideshow": {
     "slide_type": "subslide"
    }
   },
   "source": [
    "### T&B, Example 3.6: The 2-norm of an Outer Product\n",
    "\n",
    "**Claim:** Given $A = uv^*$, $u\\in\\mathbb{C}^m$, $v \\in \\mathbb{C}^n$, $\\|A\\|_2 = \\|u\\|_2 \\|v\\|_2$.\n",
    "\n",
    "_Proof._ First show $\\|A\\|_2 \\leq \\|u\\|_2 \\|v\\|_2$."
   ]
  },
  {
   "cell_type": "markdown",
   "id": "9b7b05be",
   "metadata": {
    "slideshow": {
     "slide_type": "fragment"
    }
   },
   "source": [
    "Expand the definition ...\n",
    "$$\n",
    "\\|A\\|_2 = \\sup_{\\|x\\|_2 = 1} \\|Ax\\|_2 = \\sup_{\\|x\\|_2 = 1} \\|u v^* x\\|_2\n",
    "\\dots$$"
   ]
  },
  {
   "cell_type": "markdown",
   "id": "e145c1af",
   "metadata": {
    "slideshow": {
     "slide_type": "fragment"
    }
   },
   "source": [
    "Using absolute homogeneous scaling of norms ...\n",
    "$$=\\sup_{\\|x\\|_2 = 1} |v^*x| \\|u\\|_2 = \\|u\\|_2 \\sup_{\\|x\\|_2 = 1} |v^* x|\\dots$$"
   ]
  },
  {
   "cell_type": "markdown",
   "id": "61b67a26",
   "metadata": {
    "slideshow": {
     "slide_type": "fragment"
    }
   },
   "source": [
    "... and apply Cauchy-Schwarz\n",
    "$$\n",
    "\\leq \\|u\\|_2 \\sup_{\\|x\\|_2 =1} \\|v\\|_2 \\|x\\|_2 =\\|u\\|_2 \\|v\\|_2.\n",
    "$$"
   ]
  },
  {
   "cell_type": "markdown",
   "id": "ece421b4",
   "metadata": {
    "slideshow": {
     "slide_type": "subslide"
    }
   },
   "source": [
    "To prove equality:\n",
    "\n",
    "$$\\|A v\\|_2 = \\|u v^*v\\|_2 = \\|v\\|_2^2 \\|u\\|_2 \\Rightarrow \\frac{\\|Av\\|_2}{\\|v\\|_2} = \\|v\\|_2 \\|u\\|_2.$$ "
   ]
  },
  {
   "cell_type": "markdown",
   "id": "ac8a2440",
   "metadata": {
    "slideshow": {
     "slide_type": "subslide"
    }
   },
   "source": [
    "### Dual norms\n",
    "\n",
    "If $\\frac{1}{p} + \\frac{1}{q} = 1$,\n",
    "\n",
    "$$\\|x\\|_p = \\frac{\\|x\\|_p \\|y\\|_q}{\\|y\\|_q} \\geq \\frac{|x^* y|}{\\|y\\|_q} \\Rightarrow \\|x\\|_p \\geq \\sup_{y \\neq 0} \\frac{|x^*y|}{\\|y\\|_q}.$$"
   ]
  },
  {
   "cell_type": "markdown",
   "id": "02b1abef",
   "metadata": {
    "slideshow": {
     "slide_type": "fragment"
    }
   },
   "source": [
    "This is in fact an equality. $\\|\\cdot \\|_p$ and $\\|\\cdot \\|_q$ are _dual norms:_\n",
    "\n",
    "$$\\|x\\|_p = \\sup_{\\|y\\|_q = 1} |x^*y|, \\quad \\|y\\|_q = \\sup_{\\|x\\|_p = 1} |y^*x|.$$\n",
    "(Compare HW1, problem 7)"
   ]
  },
  {
   "cell_type": "markdown",
   "id": "0758a605",
   "metadata": {
    "slideshow": {
     "slide_type": "subslide"
    }
   },
   "source": [
    "### Consequence: $\\|A\\|_p = \\|A^*\\|_q$\n",
    "$$\\|A\\|_p = \\sup_{\\|x\\|_p = 1} \\|Ax\\|_p = \\sup_{\\|x\\|_p = 1, \\|y\\|_q = 1} |(Ax)^* y| \\dots$$"
   ]
  },
  {
   "cell_type": "markdown",
   "id": "0a2aa79b",
   "metadata": {
    "slideshow": {
     "slide_type": "fragment"
    }
   },
   "source": [
    "$$ = \\sup_{\\|y\\|_q = 1, \\|x\\|_p = 1} |x^*(A^* y)| = \\sup_{\\|y\\|_q = 1} \\| A^* y\\|_q = \\|A^*\\|_q.$$"
   ]
  },
  {
   "cell_type": "markdown",
   "id": "1974a35a",
   "metadata": {
    "slideshow": {
     "slide_type": "slide"
    }
   },
   "source": [
    "## Induced matrix norms are _submultiplicative_\n",
    "\n",
    "For any induced norm and $x\\neq 0$,\n",
    "\n",
    "$$\\big\\| A \\frac{x}{\\|x\\|}\\big\\| \\leq \\sup_{y\\neq 0} \\big\\| A \\frac{y}{\\|y\\|}\\big\\| =\n",
    "\\sup_{y \\neq 0} \\frac{\\|Ay\\|}{\\|y\\|} = \\|A\\|.$$\n",
    "\n",
    "$$\\Rightarrow \\|Ax\\| \\leq \\|A\\|\\|x\\|, \\quad \\forall x.$$"
   ]
  },
  {
   "cell_type": "markdown",
   "id": "a12f39b1",
   "metadata": {
    "slideshow": {
     "slide_type": "subslide"
    }
   },
   "source": [
    "Now consider the induced norm of the product matrix $AB$:\n",
    "\n",
    "$$\\|(AB)x\\| = \\|A(Bx)\\| \\leq \\|A\\|\\|Bx\\| \\leq \\|A\\|\\|B\\|\\|x\\|, \\quad \\forall x.$$"
   ]
  },
  {
   "cell_type": "markdown",
   "id": "107daa04",
   "metadata": {
    "slideshow": {
     "slide_type": "fragment"
    }
   },
   "source": [
    "$$\\Rightarrow \\frac{\\|(AB)x\\|}{\\|x\\|} \\leq \\|A\\|\\|B\\|, \\quad \\forall x.$$"
   ]
  },
  {
   "cell_type": "markdown",
   "id": "84247b15",
   "metadata": {
    "slideshow": {
     "slide_type": "fragment"
    }
   },
   "source": [
    "$$\\Rightarrow \\|AB\\| = \\sup_{x\\neq 0} \\frac{\\|(AB)x\\|}{\\|x\\|} \\leq \\|A\\|\\|B\\|.$$\n",
    "\n",
    "We say induced matrix norms are _submultiplicative_."
   ]
  },
  {
   "cell_type": "code",
   "execution_count": 16,
   "id": "e81df960",
   "metadata": {
    "slideshow": {
     "slide_type": "fragment"
    }
   },
   "outputs": [
    {
     "data": {
      "text/plain": [
       "1×2 Matrix{Float64}:\n",
       " 11.871  24.2988"
      ]
     },
     "execution_count": 16,
     "metadata": {},
     "output_type": "execute_result"
    }
   ],
   "source": [
    "m = 10; k = 8; n = 5;\n",
    "\n",
    "A = randn(10,8); B = randn(8,5);\n",
    "\n",
    "[opnorm(A*B,2) opnorm(A,2)*opnorm(B,2)]"
   ]
  },
  {
   "cell_type": "markdown",
   "id": "1672e722",
   "metadata": {
    "cell_style": "split",
    "slideshow": {
     "slide_type": "slide"
    }
   },
   "source": [
    "## Frobenius norm\n",
    "\n",
    "Remember, $\\mathbb{C}^{m \\times n}$ is a _vector space:_ not all norms have to be induced norms.\n",
    "\n",
    "A very important norm that is not an induced norm is the **Frobenius norm** $\\|\\cdot \\|_F$:\n",
    "\n",
    "$$\n",
    "\\|A\\|_F = \\left(\\sum_{i=1}^m\\sum_{j=1}^n |a_{ij}|^2\\right)^{1/2}.\n",
    "$$\n",
    "\n",
    "(Think of it as the 2-norm of $A$ unrolled as a vector.)"
   ]
  },
  {
   "cell_type": "code",
   "execution_count": 17,
   "id": "650cb32b",
   "metadata": {
    "cell_style": "split"
   },
   "outputs": [
    {
     "data": {
      "text/plain": [
       "4×3 Matrix{Float64}:\n",
       " 0.697616  0.407475  0.61081\n",
       " 0.516804  0.891743  0.357345\n",
       " 0.836497  0.213546  0.407115\n",
       " 0.291131  0.491414  0.432104"
      ]
     },
     "execution_count": 17,
     "metadata": {},
     "output_type": "execute_result"
    }
   ],
   "source": [
    "A = rand(4,3)"
   ]
  },
  {
   "cell_type": "code",
   "execution_count": 18,
   "id": "9e337ea2",
   "metadata": {
    "cell_style": "split"
   },
   "outputs": [
    {
     "data": {
      "text/plain": [
       "1.9078289365412957"
      ]
     },
     "execution_count": 18,
     "metadata": {},
     "output_type": "execute_result"
    }
   ],
   "source": [
    "norm(A,2) # Frobenius norm (treat A as a vector)"
   ]
  },
  {
   "cell_type": "code",
   "execution_count": 19,
   "id": "e7fd07df",
   "metadata": {
    "cell_style": "split"
   },
   "outputs": [
    {
     "data": {
      "text/plain": [
       "1.9078289365412957"
      ]
     },
     "execution_count": 19,
     "metadata": {},
     "output_type": "execute_result"
    }
   ],
   "source": [
    "norm(reshape(A,(12,)),2)"
   ]
  },
  {
   "cell_type": "code",
   "execution_count": 20,
   "id": "e9d0b116",
   "metadata": {
    "cell_style": "split"
   },
   "outputs": [
    {
     "data": {
      "text/plain": [
       "1.8062205225687522"
      ]
     },
     "execution_count": 20,
     "metadata": {},
     "output_type": "execute_result"
    }
   ],
   "source": [
    "opnorm(A,2) # Induced 2-norm"
   ]
  },
  {
   "cell_type": "markdown",
   "id": "7bf465c3",
   "metadata": {
    "cell_style": "center",
    "slideshow": {
     "slide_type": "subslide"
    }
   },
   "source": [
    "### Frobenius norm is the Frobenius norm of the adjoint\n",
    "\n",
    "$$\n",
    "\\|A\\|_F = \\left(\\sum_{i=1}^m\\sum_{j=1}^n |a_{ij}|^2\\right)^{1/2}\n",
    "=\n",
    "\\left(\\sum_{j=1}^n\\sum_{i=1}^m |\\bar a_{ij}|^2\\right)^{1/2}\n",
    "=\n",
    "\\|A^*\\|_F\n",
    "$$"
   ]
  },
  {
   "cell_type": "code",
   "execution_count": 21,
   "id": "645b83c4",
   "metadata": {
    "cell_style": "center"
   },
   "outputs": [
    {
     "data": {
      "text/plain": [
       "1×2 Matrix{Float64}:\n",
       " 1.90783  1.90783"
      ]
     },
     "execution_count": 21,
     "metadata": {},
     "output_type": "execute_result"
    }
   ],
   "source": [
    "[norm(A, 2) norm(A', 2)]"
   ]
  },
  {
   "cell_type": "markdown",
   "id": "0a7e8bfb",
   "metadata": {
    "slideshow": {
     "slide_type": "subslide"
    }
   },
   "source": [
    "### Frobenius norm = 2-norm of column 2-norms = 2-norm of row 2-norms\n",
    "\n",
    "$$\n",
    "\\|A\\|_F = \\left(\\sum_{j=1}^n \\|a_j\\|_2^2\\right)^{1/2} = \\left(\\sum_{i=1}^m \\|a_i^*\\|_2^2\\right)^{1/2}.\n",
    "$$"
   ]
  },
  {
   "cell_type": "code",
   "execution_count": 22,
   "id": "daa79073",
   "metadata": {},
   "outputs": [
    {
     "data": {
      "text/plain": [
       "1×3 Matrix{Float64}:\n",
       " 1.90783  1.90783  1.90783"
      ]
     },
     "execution_count": 22,
     "metadata": {},
     "output_type": "execute_result"
    }
   ],
   "source": [
    "[norm(A,2) norm([norm.(A[:,j],2) for j = 1:3],2) norm([norm.(A[i,:]) for i = 1:4],2)]"
   ]
  },
  {
   "cell_type": "markdown",
   "id": "4131254d",
   "metadata": {
    "slideshow": {
     "slide_type": "subslide"
    }
   },
   "source": [
    "### Frobenius norm is related to trace\n",
    "\n",
    "Recall that the _trace_ of a square matrix (sum of the diagonal) is also the sum of the eigenvalues of the matrix (repeated with algebraic multiplicity):\n",
    "\n",
    "$$\n",
    "\\mathrm{tr}(A) = \\sum_{i=1}^m a_{ii} = \\sum_{\\lambda \\in \\rho(A)} \\lambda_i \\cdot \\underbrace{\\mu_i}_{\\text{multiplicity of }\\lambda_i}\n",
    "$$"
   ]
  },
  {
   "cell_type": "markdown",
   "id": "da5fb7d1",
   "metadata": {},
   "source": [
    "The Frobenius norm is\n",
    "\n",
    "$$\n",
    "\\|A\\|_F = \\sqrt{\\mathrm{tr}(A^* A)} = \\sqrt{\\mathrm{tr}(AA^*)}.\n",
    "$$"
   ]
  },
  {
   "cell_type": "code",
   "execution_count": 23,
   "id": "edcf8c75",
   "metadata": {},
   "outputs": [
    {
     "data": {
      "text/plain": [
       "1×3 Matrix{Float64}:\n",
       " 1.90783  1.90783  1.90783"
      ]
     },
     "execution_count": 23,
     "metadata": {},
     "output_type": "execute_result"
    }
   ],
   "source": [
    "[norm(A,2) sqrt(tr(A' * A)) sqrt(tr(A * A'))]"
   ]
  },
  {
   "cell_type": "markdown",
   "id": "598f1bb0",
   "metadata": {
    "slideshow": {
     "slide_type": "fragment"
    }
   },
   "source": [
    "(This fact is very useful for proving things about $\\|\\cdot\\|_F$ without\n",
    "expanding the summation.)"
   ]
  },
  {
   "cell_type": "markdown",
   "id": "99dd7428",
   "metadata": {
    "slideshow": {
     "slide_type": "subslide"
    }
   },
   "source": [
    "### The Frobenius norm is also submultiplicative"
   ]
  },
  {
   "cell_type": "markdown",
   "id": "4113d8e3",
   "metadata": {},
   "source": [
    "Let $A\\in \\mathbb{C}^{m \\times k}, B \\in \\mathbb{C}^{k \\times n}$, and let $a_i^*$ be the $i$th row of $A$ and let $b_j$ be the $j$th column of $B$:\n",
    "\n",
    "$$\n",
    "\\|AB\\|_F^2 = \\sum_{i=1}^m \\sum_{j=1}^n |a_i^* b_j|^2\n",
    "$$"
   ]
  },
  {
   "cell_type": "markdown",
   "id": "1d48013f",
   "metadata": {
    "slideshow": {
     "slide_type": "fragment"
    }
   },
   "source": [
    "(apply Cauchy-Schwarz)\n",
    "\n",
    "$$\\leq \\sum_{i=1}^m \\sum_{j=1}^n \\|a_i^*\\|_2^2 \\| b_j \\|_2^2 = \\left(\\sum_{i=1}^m \\|a_i^*\\|_2^2\\right)\n",
    "\\left(\\sum_{j=1}^n \\|b_j\\|_2^2\\right) = \\|A\\|_F^2 \\|B\\|_F^2$$"
   ]
  },
  {
   "cell_type": "markdown",
   "id": "4db6e5ec",
   "metadata": {
    "slideshow": {
     "slide_type": "subslide"
    }
   },
   "source": [
    "### Exercise: Unitary Invariance of Matrix 2-norm and Frobenius Norm\n",
    "\n",
    "**T&B Theorem 3.1:** For any $A\\in \\mathbb{C}^{m \\times n}$ and unitary $Q \\in \\mathbb{C}^{m \\times m}$, we have\n",
    "\n",
    "$$\\|QA\\|_2 = \\|A\\|_2, \\quad \\|QA\\|_F = \\|A\\|_F.$$\n",
    "\n",
    "Hints:\n",
    "\n",
    "1. What is the relationship of a unitary matrix to the _vector_ 2-norm?\n",
    "2. Use the trace definition of the Frobenius norm.\n",
    "\n",
    "_Proof._\n"
   ]
  },
  {
   "cell_type": "markdown",
   "id": "ba1becdd",
   "metadata": {
    "slideshow": {
     "slide_type": "slide"
    }
   },
   "source": [
    "## The Singular Value Decomposition: Geometric Observation\n",
    "\n",
    "When $A \\in \\mathbb{R}^{2 \\times 2}$ is diagonal, the unit circle maps to an _oriented_ ellipse (extrema on the coordinate axis).\n",
    "But even for general $A$, the unit circle seems to map to a tilted ellipse."
   ]
  },
  {
   "cell_type": "code",
   "execution_count": 24,
   "id": "046d27ee",
   "metadata": {
    "hideCode": true,
    "hideOutput": true
   },
   "outputs": [],
   "source": [
    "function plotAx(a11,a12,a21,a22)\n",
    "    θ = LinRange(0, 2π, 200)\n",
    "    Ux = cos.(θ)\n",
    "    Uy = sin.(θ)\n",
    "    A = [[a11;a21] [a12;a22]]\n",
    "    a1 = A[:,1]\n",
    "    a2 = A[:,2]\n",
    "    dplot = plot(Ux, Uy,\n",
    "        aspect_ratio = :equal,\n",
    "        framestyle = :origin,\n",
    "    )\n",
    "    plot!(dplot, [0,1],[0,0],arrow=1,text=[\"\",(\"e₁\", :left)])\n",
    "    plot!(dplot, [0,0],[0,1],arrow=1,text=[\"\",(\"e₂\", :bottom)])\n",
    "    Uxy = [Ux Uy]'\n",
    "    AUxy = A * Uxy\n",
    "    AUx = AUxy[1,:]\n",
    "    AUy = AUxy[2,:]\n",
    "    rplot = plot(AUx, AUy,\n",
    "        aspect_ratio = :equal,\n",
    "        framestyle = :origin,\n",
    "    )\n",
    "    plot!(rplot, [0,a1[1]],[0,a1[2]],arrow=1,text=[\"\",(\"a₁\", :left)])\n",
    "    plot!(rplot, [0,a2[1]],[0,a2[2]],arrow=1,text=[\"\",(\"a₂\", :bottom)])\n",
    "    return plot(dplot,rplot,layout=(1,2))\n",
    "end;"
   ]
  },
  {
   "cell_type": "code",
   "execution_count": 25,
   "id": "096b1b62",
   "metadata": {
    "hideCode": true
   },
   "outputs": [
    {
     "data": {
      "image/png": "[encoded data removed]"
     },
     "metadata": {},
     "output_type": "display_data"
    }
   ],
   "source": [
    "if STATIC_LECTURE\n",
    "    plot1=plotAx(2.,0.0,0.,0.5)\n",
    "    plot2=plotAx(1.,0.5,0.2,0.5)\n",
    "    draw(plot(plot1,plot2,layout=(2,1)))\n",
    "else\n",
    "    a11=widget(-2.0:0.1:2.0, value=-2.0, label=\"a₁₁\")\n",
    "    a12=widget(-2.0:0.1:2.0, value=0.0, label=\"a₁₂\")\n",
    "    a21=widget(-2.0:0.1:2.0, value=0.0, label=\"a₂₁\")\n",
    "    a22=widget(-2.0:0.1:2.0, value=0.5, label=\"a₂₂\")\n",
    "    iplot = map(plotAx,a11,a12,a21,a22)\n",
    "    vbox(hbox(a11,a12),hbox(a21,a22),iplot)\n",
    "end"
   ]
  },
  {
   "cell_type": "markdown",
   "id": "8c53d312",
   "metadata": {
    "slideshow": {
     "slide_type": "subslide"
    }
   },
   "source": [
    "> The image of the unit sphere under any $m \\times n$ matrix is a hyperellipse."
   ]
  },
  {
   "cell_type": "markdown",
   "id": "afa4d2b0",
   "metadata": {
    "slideshow": {
     "slide_type": "subslide"
    }
   },
   "source": [
    "### Plotting preimages of the extrema is revealing\n",
    "\n",
    "The extrema (_principle semiaxes_) of the tilted ellipse are orthogonal (true of any ellipse), but the _preimages_ of the extrema are also orthogonal."
   ]
  },
  {
   "cell_type": "code",
   "execution_count": 26,
   "id": "96c63557",
   "metadata": {
    "hideCode": true,
    "hideOutput": true
   },
   "outputs": [],
   "source": [
    "function plotAx_svd(a11,a12,a21,a22)\n",
    "    θ = LinRange(0, 2π, 200)\n",
    "    Ux = cos.(θ)\n",
    "    Uy = sin.(θ)\n",
    "    A = [[a11;a21] [a12;a22]]\n",
    "    U,Σ,V = svd(A)\n",
    "    a1 = A[:,1]\n",
    "    a2 = A[:,2]\n",
    "    dplot = plot(Ux, Uy,\n",
    "        aspect_ratio = :equal,\n",
    "        framestyle = :origin,\n",
    "    )\n",
    "    plot!(dplot, [0,1],[0,0],arrow=1,text=[\"\",(\"e₁\", :left)])\n",
    "    plot!(dplot, [0,0],[0,1],arrow=1,text=[\"\",(\"e₂\", :bottom)])\n",
    "    plot!(dplot, [0,V[1,1]],[0,V[2,1]],arrow=1,text=[\"\",(\"A⁻¹x₁\", :bottom)])\n",
    "    plot!(dplot, [0,V[1,2]],[0,V[2,2]],arrow=1,text=[\"\",(\"A⁻¹x₂\", :bottom)])\n",
    "    Uxy = [Ux Uy]'\n",
    "    AUxy = A * Uxy\n",
    "    AUx = AUxy[1,:]\n",
    "    AUy = AUxy[2,:]\n",
    "    rplot = plot(AUx, AUy,\n",
    "        aspect_ratio = :equal,\n",
    "        framestyle = :origin,\n",
    "    )\n",
    "    AV = A * V\n",
    "    plot!(rplot, [0,a1[1]],[0,a1[2]],arrow=1,text=[\"\",(\"a₁\", :left)])\n",
    "    plot!(rplot, [0,a2[1]],[0,a2[2]],arrow=1,text=[\"\",(\"a₂\", :bottom)])\n",
    "    plot!(rplot, [0,AV[1,1]],[0,AV[2,1]],arrow=1,text=[\"\",(\"x₁\", :bottom)])\n",
    "    plot!(rplot, [0,AV[1,2]],[0,AV[2,2]],arrow=1,text=[\"\",(\"x₂\", :bottom)])\n",
    "    return plot(dplot,rplot,layout=(1,2))\n",
    "end;"
   ]
  },
  {
   "cell_type": "code",
   "execution_count": 27,
   "id": "022b8be5",
   "metadata": {
    "hideCode": true,
    "scrolled": false
   },
   "outputs": [
    {
     "data": {
      "image/png": "[encoded data removed]"
     },
     "metadata": {},
     "output_type": "display_data"
    }
   ],
   "source": [
    "if STATIC_LECTURE\n",
    "    plot2=plotAx_svd(1.,0.5,0.2,0.4)\n",
    "    draw(plot2)\n",
    "else\n",
    "    a11=widget(-2.0:0.1:2.0, value=1.0, label=\"a₁₁\")\n",
    "    a12=widget(-2.0:0.1:2.0, value=0.5, label=\"a₁₂\")\n",
    "    a21=widget(-2.0:0.1:2.0, value=0.2, label=\"a₂₁\")\n",
    "    a22=widget(-2.0:0.1:2.0, value=0.4, label=\"a₂₂\")\n",
    "    iplot = map(plotAx_svd,a11,a12,a21,a22)\n",
    "    vbox(hbox(a11,a12),hbox(a21,a22),iplot)\n",
    "end"
   ]
  },
  {
   "cell_type": "markdown",
   "id": "e1e57c80",
   "metadata": {
    "slideshow": {
     "slide_type": "subslide"
    }
   },
   "source": [
    "### Relabel $A^{-1} x_i = v_i$"
   ]
  },
  {
   "cell_type": "code",
   "execution_count": 28,
   "id": "9a774bcc",
   "metadata": {
    "hideCode": true,
    "hideOutput": true
   },
   "outputs": [],
   "source": [
    "function plotAx_svd2(a11,a12,a21,a22)\n",
    "    θ = LinRange(0, 2π, 200)\n",
    "    Ux = cos.(θ)\n",
    "    Uy = sin.(θ)\n",
    "    A = [[a11;a21] [a12;a22]]\n",
    "    U,Σ,V = svd(A)\n",
    "    a1 = A[:,1]\n",
    "    a2 = A[:,2]\n",
    "    dplot = plot(Ux, Uy,\n",
    "        aspect_ratio = :equal,\n",
    "        framestyle = :origin,\n",
    "    )\n",
    "    plot!(dplot, [0,V[1,1]],[0,V[2,1]],arrow=1,text=[\"\",(\"v₁\", :bottom)])\n",
    "    plot!(dplot, [0,V[1,2]],[0,V[2,2]],arrow=1,text=[\"\",(\"v₂\", :bottom)])\n",
    "    Uxy = [Ux Uy]'\n",
    "    AUxy = A * Uxy\n",
    "    AUx = AUxy[1,:]\n",
    "    AUy = AUxy[2,:]\n",
    "    rplot = plot(AUx, AUy,\n",
    "        aspect_ratio = :equal,\n",
    "        framestyle = :origin,\n",
    "    )\n",
    "    AV = A * V\n",
    "    plot!(rplot, [0,AV[1,1]],[0,AV[2,1]],arrow=1,text=[\"\",(\"Av₁\", :bottom)])\n",
    "    plot!(rplot, [0,AV[1,2]],[0,AV[2,2]],arrow=1,text=[\"\",(\"Av₂\", :bottom)])\n",
    "    return plot(dplot,rplot,layout=(1,2))\n",
    "end;"
   ]
  },
  {
   "cell_type": "code",
   "execution_count": 29,
   "id": "883e8fbd",
   "metadata": {
    "hideCode": true,
    "scrolled": false
   },
   "outputs": [
    {
     "data": {
      "image/png": "[encoded data removed]"
     },
     "metadata": {},
     "output_type": "display_data"
    }
   ],
   "source": [
    "if STATIC_LECTURE\n",
    "    plot2=plotAx_svd2(1.,0.5,0.2,0.4)\n",
    "    draw(plot2)\n",
    "else\n",
    "    a11=widget(-2.0:0.1:2.0, value=1.0, label=\"a₁₁\")\n",
    "    a12=widget(-2.0:0.1:2.0, value=0.5, label=\"a₁₂\")\n",
    "    a21=widget(-2.0:0.1:2.0, value=0.2, label=\"a₂₁\")\n",
    "    a22=widget(-2.0:0.1:2.0, value=0.4, label=\"a₂₂\")\n",
    "    iplot = map(plotAx_svd2,a11,a12,a21,a22)\n",
    "    vbox(hbox(a11,a12),hbox(a21,a22),iplot)\n",
    "end"
   ]
  },
  {
   "cell_type": "markdown",
   "id": "71080086",
   "metadata": {},
   "source": [
    "- Declare the ratio $\\frac{\\|Av_i\\|_2}{\\|v_i\\|_2}$ to be the _singular value_ $\\sigma_i$.\n",
    "- Declare the normalized vector $\\frac{1}{\\|A v_i\\|_2} A v_i$ to be $u_i$."
   ]
  },
  {
   "cell_type": "markdown",
   "id": "6c97ec41",
   "metadata": {
    "slideshow": {
     "slide_type": "subslide"
    }
   },
   "source": [
    "### $A: v_i \\mapsto \\sigma_i u_i$"
   ]
  },
  {
   "cell_type": "code",
   "execution_count": 30,
   "id": "84798291",
   "metadata": {
    "hideCode": true,
    "hideOutput": true
   },
   "outputs": [],
   "source": [
    "function plotAx_svd3(a11,a12,a21,a22)\n",
    "    θ = LinRange(0, 2π, 200)\n",
    "    Ux = cos.(θ)\n",
    "    Uy = sin.(θ)\n",
    "    A = [[a11;a21] [a12;a22]]\n",
    "    U,Σ,V = svd(A)\n",
    "    a1 = A[:,1]\n",
    "    a2 = A[:,2]\n",
    "    dplot = plot(Ux, Uy,\n",
    "        aspect_ratio = :equal,\n",
    "        framestyle = :origin,\n",
    "    )\n",
    "    plot!(dplot, [0,V[1,1]],[0,V[2,1]],arrow=1,text=[\"\",(\"v₁\", :bottom)])\n",
    "    plot!(dplot, [0,V[1,2]],[0,V[2,2]],arrow=1,text=[\"\",(\"v₂\", :bottom)])\n",
    "    Uxy = [Ux Uy]'\n",
    "    AUxy = A * Uxy\n",
    "    AUx = AUxy[1,:]\n",
    "    AUy = AUxy[2,:]\n",
    "    rplot = plot(AUx, AUy,\n",
    "        aspect_ratio = :equal,\n",
    "        framestyle = :origin,\n",
    "    )\n",
    "    AV = A * V\n",
    "    plot!(rplot, [0,AV[1,1]],[0,AV[2,1]],arrow=1,text=[\"\",(\"σ₁u₁\", :bottom)])\n",
    "    plot!(rplot, [0,AV[1,2]],[0,AV[2,2]],arrow=1,text=[\"\",(\"σ₂u₂\", :bottom)])\n",
    "    return plot(dplot,rplot,layout=(1,2))\n",
    "end;"
   ]
  },
  {
   "cell_type": "code",
   "execution_count": 31,
   "id": "20516536",
   "metadata": {
    "hideCode": true,
    "scrolled": false
   },
   "outputs": [
    {
     "data": {
      "image/png": "[encoded data removed]"
     },
     "metadata": {},
     "output_type": "display_data"
    }
   ],
   "source": [
    "if STATIC_LECTURE\n",
    "    plot2=plotAx_svd3(1.,0.5,0.2,0.4)\n",
    "    draw(plot2)\n",
    "else\n",
    "    a11=widget(-2.0:0.1:2.0, value=1.0, label=\"a₁₁\")\n",
    "    a12=widget(-2.0:0.1:2.0, value=0.5, label=\"a₁₂\")\n",
    "    a21=widget(-2.0:0.1:2.0, value=0.2, label=\"a₂₁\")\n",
    "    a22=widget(-2.0:0.1:2.0, value=0.4, label=\"a₂₂\")\n",
    "    iplot = map(plotAx_svd3,a11,a12,a21,a22)\n",
    "    vbox(hbox(a11,a12),hbox(a21,a22),iplot)\n",
    "end"
   ]
  },
  {
   "cell_type": "markdown",
   "id": "74c6d328",
   "metadata": {},
   "source": [
    "_This defines $A$, and we can do this for any $A$._\n",
    "\n",
    "This is the geometric description of the _singular value decomposition_ of $A$"
   ]
  },
  {
   "cell_type": "markdown",
   "id": "6cf54a39",
   "metadata": {
    "slideshow": {
     "slide_type": "slide"
    }
   },
   "source": [
    "## SVD: Formal definition"
   ]
  },
  {
   "cell_type": "markdown",
   "id": "9fcdbfe9",
   "metadata": {
    "slideshow": {
     "slide_type": "subslide"
    }
   },
   "source": [
    "### Reduced SVD\n",
    "\n",
    "Assume $A \\in \\mathbb{C}^{m \\times n}$. The orthonormal _left singular vectors_ $\\{u_j\\}$ are related to the orthonormal _right singular vectors_ $\\{v_j\\}$ by\n",
    "\n",
    "$$\n",
    "Av_j = \\sigma_j u_j, \\quad 1 \\leq j \\leq n.\n",
    "$$\n",
    "\n",
    "Write this out in matrix form:\n",
    "\n",
    "$$\n",
    "\\begin{bmatrix}\n",
    "& & & & \\\\\n",
    "& & & & \\\\\n",
    "& & & & \\\\\n",
    "& & A & & \\\\\n",
    "& & & & \\\\\n",
    "& & & & \\\\\n",
    "& & & & \\\\\n",
    "\\end{bmatrix}\n",
    "\\left[\n",
    "\\begin{array}{c|c|c|c}\n",
    "& & & \\\\\n",
    "& & & \\\\\n",
    "v_1 & v_2 & \\dots & v_n \\\\\n",
    "& & & \\\\\n",
    "& & & \\\\\n",
    "\\end{array}\n",
    "\\right]\n",
    "=\n",
    "\\left[\n",
    "\\begin{array}{c|c|c|c}\n",
    "& & & \\\\\n",
    "& & & \\\\\n",
    "& & & \\\\\n",
    "u_1 & u_2 & \\dots & u_n \\\\\n",
    "& & & \\\\\n",
    "& & & \\\\\n",
    "& & & \\\\\n",
    "\\end{array}\n",
    "\\right]\n",
    "\\begin{bmatrix}\n",
    "\\sigma_1 & & & \\\\\n",
    "& \\sigma_2 & & \\\\\n",
    "& & \\ddots & \\\\\n",
    "& & & \\sigma_n \\\\\n",
    "\\end{bmatrix}.\n",
    "$$\n",
    "\n",
    "$$\n",
    "A V = \\hat{U}\\hat{\\Sigma}, \\quad V \\in \\mathbb{C}^{n \\times n}, \\hat{U} \\in \\mathbb{C}^{m \\times n}, \\hat{\\Sigma} \\in \\mathbb{R}^{n \\times n} \\text{(diagonal, nonnegative)}.\n",
    "$$"
   ]
  },
  {
   "cell_type": "markdown",
   "id": "3661eab6",
   "metadata": {
    "slideshow": {
     "slide_type": "subslide"
    }
   },
   "source": [
    "$V$ has $n$ orthonormal columns in $\\mathbb{C}^{n}$: it is unitary.  We can muliply both sides on the right by $V^* = V^{-1}$:\n",
    "\n",
    "$$\n",
    "\\begin{bmatrix}\n",
    "& & & & \\\\\n",
    "& & & & \\\\\n",
    "& & & & \\\\\n",
    "& & A & & \\\\\n",
    "& & & & \\\\\n",
    "& & & & \\\\\n",
    "& & & & \\\\\n",
    "\\end{bmatrix}\n",
    "=\n",
    "\\left[\n",
    "\\begin{array}{c|c|c|c}\n",
    "& & & \\\\\n",
    "& & & \\\\\n",
    "& & & \\\\\n",
    "u_1 & u_2 & \\dots & u_n \\\\\n",
    "& & & \\\\\n",
    "& & & \\\\\n",
    "& & & \\\\\n",
    "\\end{array}\n",
    "\\right]\n",
    "\\begin{bmatrix}\n",
    "\\sigma_1 & & & \\\\\n",
    "& \\sigma_2 & & \\\\\n",
    "& & \\ddots & \\\\\n",
    "& & & \\sigma_n \\\\\n",
    "\\end{bmatrix}\n",
    "\\begin{bmatrix}\n",
    "& & v_1^* & & \\\\ \\hline\n",
    "& & v_2^* & & \\\\ \\hline\n",
    "& & \\vdots & & \\\\ \\hline\n",
    "& & v_n^* & & \\\\\n",
    "\\end{bmatrix}.\n",
    "$$\n",
    "\n",
    "\n",
    "$$\n",
    "A = \\hat{U}\\hat{\\Sigma}V^*, \\quad V \\in \\mathbb{C}^{n \\times n}, \\hat{U} \\in \\mathbb{C}^{m \\times n}, \\hat{\\Sigma} \\in \\mathbb{R}^{n \\times n} \\text{(diagonal, nonnegative)}.\n",
    "$$\n",
    "\n",
    "If $m > n$, this is the **reduced SVD**."
   ]
  },
  {
   "cell_type": "markdown",
   "id": "6f267a0a",
   "metadata": {
    "slideshow": {
     "slide_type": "fragment"
    }
   },
   "source": [
    "Note that though columns of $\\hat{U}$ are orthogonal, $\\hat{U}$ is not unitary if $m > n$ (because it is not square)."
   ]
  },
  {
   "cell_type": "markdown",
   "id": "47a1f0f0",
   "metadata": {
    "slideshow": {
     "slide_type": "subslide"
    }
   },
   "source": [
    "### Full SVD\n",
    "\n",
    "If we complement $\\hat{U}$ with additional orthonormal vectors to create an orthonormal basis of $\\mathbb{C}^{m}$,\n",
    "\n",
    "$$\n",
    "\\begin{bmatrix}\n",
    "& & & & \\\\\n",
    "& & & & \\\\\n",
    "& & & & \\\\\n",
    "& & A & & \\\\\n",
    "& & & & \\\\\n",
    "& & & & \\\\\n",
    "& & & & \\\\\n",
    "\\end{bmatrix}\n",
    "=\n",
    "\\left[\n",
    "\\begin{array}{ccc|c|c|c}\n",
    "& & & & & \\\\\n",
    "& & & & & \\\\\n",
    "& & & & & \\\\\n",
    "& \\hat{U}&  & u_{n+1} & \\dots & u_m \\\\\n",
    "& & & & & \\\\\n",
    "& & & & & \\\\\n",
    "& & & & & \\\\\n",
    "\\end{array}\n",
    "\\right]\n",
    "\\begin{bmatrix}\n",
    "\\sigma_1 & & & \\\\\n",
    "& \\sigma_2 & & \\\\\n",
    "& & \\ddots & \\\\\n",
    "& & & \\sigma_n \\\\ \\hline\n",
    "& & & \\\\\n",
    "& & & \\\\\n",
    "& & &\n",
    "\\end{bmatrix}\n",
    "\\begin{bmatrix}\n",
    "& & v_1^* & & \\\\ \\hline\n",
    "& & v_2^* & & \\\\ \\hline\n",
    "& & \\vdots & & \\\\ \\hline\n",
    "& & v_n^* & & \\\\\n",
    "\\end{bmatrix},\n",
    "$$\n",
    "we get the _full SVD_ of $A$,\n",
    "\n",
    "$$\n",
    "A = U \\Sigma V^*, \\quad U \\in \\mathbb{C}^{m \\times m}\\text{ (unitary) },\\quad V\\in\\mathbb{C}^{n \\times n}\\text{ (unitary) },\\quad \\Sigma \\in \\mathbb{R}^{m \\times n}\\text{ (positive, diagonal) }.\n",
    "$$"
   ]
  },
  {
   "cell_type": "markdown",
   "id": "7c649ca2",
   "metadata": {
    "slideshow": {
     "slide_type": "subslide"
    }
   },
   "source": [
    "### The extra vectors\n",
    "\n",
    "The vectors $\\{u_{n+1},\\dots, u_m\\}$ that complete $U$ can be _any_ orthonormal basis of\n",
    "the orthogonal complement of $\\hat{U}$.\n",
    "\n",
    "### Example\n",
    "\n",
    "1. First compute a reduced SVD (and confirm that $A = \\hat{U} \\hat{\\Sigma} V^*$ up to rounding error)."
   ]
  },
  {
   "cell_type": "code",
   "execution_count": 32,
   "id": "a136c530",
   "metadata": {
    "cell_style": "split"
   },
   "outputs": [
    {
     "data": {
      "text/plain": [
       "SVD{Float64, Float64, Matrix{Float64}}\n",
       "U factor:\n",
       "5×3 Matrix{Float64}:\n",
       "  0.233055   0.250821   -0.450305\n",
       "  0.805735   0.335442   -0.0382065\n",
       "  0.386272  -0.0803425   0.0216164\n",
       " -0.317549   0.380734   -0.739435\n",
       " -0.215485   0.82046     0.498533\n",
       "singular values:\n",
       "3-element Vector{Float64}:\n",
       " 4.1281516265970835\n",
       " 1.678063157126389\n",
       " 0.5520629960385777\n",
       "Vt factor:\n",
       "3×3 Matrix{Float64}:\n",
       "  0.181598  -0.891505  -0.415019\n",
       " -0.86418   -0.346077   0.365273\n",
       "  0.469271  -0.292319   0.833267"
      ]
     },
     "execution_count": 32,
     "metadata": {},
     "output_type": "execute_result"
    }
   ],
   "source": [
    "m = 5; n = 3\n",
    "A = randn(5,3)\n",
    "U_hat, sigma_hat, V = svd(A, full=false)"
   ]
  },
  {
   "cell_type": "code",
   "execution_count": 33,
   "id": "01e85762",
   "metadata": {
    "cell_style": "split"
   },
   "outputs": [
    {
     "data": {
      "text/plain": [
       "5×3 Matrix{Float64}:\n",
       " -1.66533e-16   3.33067e-16  -1.66533e-16\n",
       " -6.93889e-17   8.88178e-16  -4.44089e-16\n",
       "  1.11022e-16   0.0          -1.11022e-16\n",
       " -3.33067e-16  -2.22045e-16  -1.66533e-16\n",
       " -6.66134e-16   6.93889e-16   2.22045e-16"
      ]
     },
     "execution_count": 33,
     "metadata": {},
     "output_type": "execute_result"
    }
   ],
   "source": [
    "Sigma_hat = diagm(sigma_hat)\n",
    "U_hat * Sigma_hat * V' - A"
   ]
  },
  {
   "cell_type": "markdown",
   "id": "f360f022",
   "metadata": {
    "slideshow": {
     "slide_type": "subslide"
    }
   },
   "source": [
    "2. Compute a full SVD (and show that the first 3 columns of $U$ are $\\hat{U}$)."
   ]
  },
  {
   "cell_type": "code",
   "execution_count": 34,
   "id": "c9c100a4",
   "metadata": {
    "cell_style": "split"
   },
   "outputs": [
    {
     "data": {
      "text/plain": [
       "SVD{Float64, Float64, Matrix{Float64}}\n",
       "U factor:\n",
       "5×5 Matrix{Float64}:\n",
       "  0.233055   0.250821   -0.450305   -0.785685  -0.250398\n",
       "  0.805735   0.335442   -0.0382065   0.436528  -0.215068\n",
       "  0.386272  -0.0803425   0.0216164  -0.208579   0.894632\n",
       " -0.317549   0.380734   -0.739435    0.363828   0.27399\n",
       " -0.215485   0.82046     0.498533   -0.127542   0.124939\n",
       "singular values:\n",
       "3-element Vector{Float64}:\n",
       " 4.1281516265970835\n",
       " 1.678063157126389\n",
       " 0.5520629960385777\n",
       "Vt factor:\n",
       "3×3 Matrix{Float64}:\n",
       "  0.181598  -0.891505  -0.415019\n",
       " -0.86418   -0.346077   0.365273\n",
       "  0.469271  -0.292319   0.833267"
      ]
     },
     "execution_count": 34,
     "metadata": {},
     "output_type": "execute_result"
    }
   ],
   "source": [
    "U, sigma, V = svd(A, full=true)"
   ]
  },
  {
   "cell_type": "code",
   "execution_count": 35,
   "id": "a67cb90d",
   "metadata": {
    "cell_style": "split"
   },
   "outputs": [
    {
     "data": {
      "text/plain": [
       "5×3 Matrix{Float64}:\n",
       " 0.0  0.0  0.0\n",
       " 0.0  0.0  0.0\n",
       " 0.0  0.0  0.0\n",
       " 0.0  0.0  0.0\n",
       " 0.0  0.0  0.0"
      ]
     },
     "execution_count": 35,
     "metadata": {},
     "output_type": "execute_result"
    }
   ],
   "source": [
    "U[:,1:3] - U_hat[:,1:3]"
   ]
  },
  {
   "cell_type": "code",
   "execution_count": 36,
   "id": "c2f1f18a",
   "metadata": {
    "cell_style": "split"
   },
   "outputs": [
    {
     "data": {
      "text/plain": [
       "3-element Vector{Float64}:\n",
       " 0.0\n",
       " 0.0\n",
       " 0.0"
      ]
     },
     "execution_count": 36,
     "metadata": {},
     "output_type": "execute_result"
    }
   ],
   "source": [
    "sigma - sigma_hat"
   ]
  },
  {
   "cell_type": "code",
   "execution_count": 37,
   "id": "378368e5",
   "metadata": {
    "cell_style": "split"
   },
   "outputs": [
    {
     "data": {
      "text/plain": [
       "5×3 Matrix{Float64}:\n",
       " -1.11022e-16   2.22045e-16  -1.11022e-16\n",
       " -9.71445e-17   8.88178e-16  -4.44089e-16\n",
       "  5.55112e-17   0.0          -1.11022e-16\n",
       " -3.33067e-16  -2.22045e-16  -1.66533e-16\n",
       " -6.66134e-16   7.49401e-16   2.22045e-16"
      ]
     },
     "execution_count": 37,
     "metadata": {},
     "output_type": "execute_result"
    }
   ],
   "source": [
    "Sigma = [diagm(sigma);zeros(2,3)] \n",
    "U * Sigma * V' - A"
   ]
  },
  {
   "cell_type": "markdown",
   "id": "ecfae809",
   "metadata": {
    "slideshow": {
     "slide_type": "subslide"
    }
   },
   "source": [
    "3. Rotate the extra vectors to make $U_{\\text{new}}$ and show that the SVD is unaffected."
   ]
  },
  {
   "cell_type": "code",
   "execution_count": 38,
   "id": "67b70c82",
   "metadata": {
    "cell_style": "split"
   },
   "outputs": [
    {
     "data": {
      "text/plain": [
       "5×5 Matrix{Float64}:\n",
       " 0.0  0.0  0.0   0.0380962  -0.213186\n",
       " 0.0  0.0  0.0   0.071046    0.106232\n",
       " 0.0  0.0  0.0  -0.240108   -0.0234516\n",
       " 0.0  0.0  0.0  -0.058786    0.10417\n",
       " 0.0  0.0  0.0  -0.0369259  -0.0288966"
      ]
     },
     "execution_count": 38,
     "metadata": {},
     "output_type": "execute_result"
    }
   ],
   "source": [
    "U_extra = U[:,4:end]\n",
    "\n",
    "θ = rand()\n",
    "R = [[cos(θ);sin(θ)] [-sin(θ);cos(θ)]]\n",
    "U_extra_new = U_extra * R\n",
    "U_new = [U_hat U_extra_new]\n",
    "U - U_new"
   ]
  },
  {
   "cell_type": "code",
   "execution_count": 39,
   "id": "14fcfa03",
   "metadata": {
    "cell_style": "split"
   },
   "outputs": [
    {
     "data": {
      "text/plain": [
       "5×3 Matrix{Float64}:\n",
       " -1.11022e-16   2.22045e-16  -1.11022e-16\n",
       " -9.71445e-17   8.88178e-16  -4.44089e-16\n",
       "  5.55112e-17   0.0          -1.11022e-16\n",
       " -3.33067e-16  -2.22045e-16  -1.66533e-16\n",
       " -6.66134e-16   7.49401e-16   2.22045e-16"
      ]
     },
     "execution_count": 39,
     "metadata": {},
     "output_type": "execute_result"
    }
   ],
   "source": [
    "U_new * Sigma * V' - A"
   ]
  },
  {
   "cell_type": "markdown",
   "id": "0c4e5d43",
   "metadata": {
    "slideshow": {
     "slide_type": "subslide"
    }
   },
   "source": [
    "### Formal definition\n",
    "\n",
    "A _singular value decomposition_ (SVD) of $A \\in \\mathbb{C}^{m \\times n}$ (do not require $m \\geq n$) is a factorization\n",
    "\n",
    "$$\n",
    "A = U \\Sigma V^*,\\quad U \\in \\mathbb{C}^{m \\times m}\\text{ (unitary) },\\quad V\\in\\mathbb{C}^{n \\times n}\\text{ (unitary) },\\quad \\Sigma \\in \\mathbb{R}^{m \\times n}\\text{ (positive, diagonal) },\n",
    "$$\n",
    "\n",
    "where we further require $\\sigma_1 \\geq \\sigma_2 \\geq \\dots \\geq \\sigma_p \\geq 0$ ($p = \\min\\{m,n\\}$)."
   ]
  },
  {
   "cell_type": "markdown",
   "id": "ead6bdb1",
   "metadata": {
    "slideshow": {
     "slide_type": "subslide"
    }
   },
   "source": [
    "### Existence and Uniqueness\n",
    "\n",
    "**Theorem:** (Slightly modified from T&B Theorem 4.4)\n",
    "\n",
    "Every matrix $A$ has a singular value decomposition.  If $U \\Sigma V^*$ and $\\tilde{U} \\tilde{\\Sigma} \\tilde{V}^*$ are\n",
    "two SVDs of $A$, then $\\Sigma = \\tilde{\\Sigma}.$ If $i \\neq j$, then either\n",
    "\n",
    "1. $u_i^* \\tilde u_j = 0$, or\n",
    "\n",
    "2. $\\sigma_i = \\sigma_j$ (taking $\\sigma_i = 0$ if $i > \\min\\{m,n\\}$).\n",
    "\n",
    "The same is true of the vectors in $V$ and $\\tilde V$."
   ]
  },
  {
   "cell_type": "markdown",
   "id": "35112448",
   "metadata": {
    "slideshow": {
     "slide_type": "subslide"
    }
   },
   "source": [
    "### T&B Exercise 4.4\n",
    "\n",
    "Two matrices $A, B \\in \\mathbb{C}^{m \\times m}$ are _unitarily equivalent_ if $A = Q B Q^*$ for some unitary\n",
    "$Q \\in \\mathbb{C}^{m \\times m}$.  Is it true or false that $A$ and $B$ are unitarily equivalent if and only if they have the same singular values?"
   ]
  }
 ],
 "metadata": {
  "@webio": {
   "lastCommId": null,
   "lastKernelId": null
  },
  "celltoolbar": "Slideshow",
  "hide_input": false,
  "kernelspec": {
   "display_name": "Julia 1.7.0",
   "language": "julia",
   "name": "julia-1.7"
  },
  "language_info": {
   "file_extension": ".jl",
   "mimetype": "application/julia",
   "name": "julia",
   "version": "1.7.0"
  }
 },
 "nbformat": 4,
 "nbformat_minor": 5
}
