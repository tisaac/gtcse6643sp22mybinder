{
 "cells": [
  {
   "cell_type": "code",
   "execution_count": 1,
   "id": "35ba8389",
   "metadata": {},
   "outputs": [
    {
     "name": "stderr",
     "output_type": "stream",
     "text": [
      "\u001b[32m\u001b[1m    Updating\u001b[22m\u001b[39m registry at `~/.julia/registries/General.toml`\n",
      "\u001b[32m\u001b[1m   Resolving\u001b[22m\u001b[39m package versions...\n",
      "\u001b[32m\u001b[1m  No Changes\u001b[22m\u001b[39m to `~/.julia/environments/v1.7/Project.toml`\n",
      "\u001b[32m\u001b[1m  No Changes\u001b[22m\u001b[39m to `~/.julia/environments/v1.7/Manifest.toml`\n"
     ]
    },
    {
     "data": {
      "text/plain": [
       "LogLevel(1)"
      ]
     },
     "execution_count": 1,
     "metadata": {},
     "output_type": "execute_result"
    }
   ],
   "source": [
    "import Pkg; Pkg.add([\"Plots\",\"Interact\"]);\n",
    "import Logging; Logging.disable_logging(Logging.Info)"
   ]
  },
  {
   "cell_type": "code",
   "execution_count": 2,
   "id": "c00a6851",
   "metadata": {},
   "outputs": [],
   "source": [
    "const STATIC_LECTURE = false;"
   ]
  },
  {
   "cell_type": "code",
   "execution_count": 3,
   "id": "935ef3df",
   "metadata": {},
   "outputs": [
    {
     "data": {
      "application/vnd.webio.node+json": {
       "children": [],
       "instanceArgs": {
        "namespace": "html",
        "tag": "div"
       },
       "nodeType": "DOM",
       "props": {},
       "type": "node"
      },
      "text/html": [
       "<div style=\"padding: 1em; background-color: #f8d6da; border: 1px solid #f5c6cb; font-weight: bold;\">\n",
       "<p>The WebIO Jupyter extension was not detected. See the\n",
       "<a href=\"https://juliagizmos.github.io/WebIO.jl/latest/providers/ijulia/\" target=\"_blank\">\n",
       "    WebIO Jupyter integration documentation\n",
       "</a>\n",
       "for more information.\n",
       "</div>\n"
      ],
      "text/plain": [
       "WebIO._IJuliaInit()"
      ]
     },
     "metadata": {
      "application/vnd.webio.node+json": {
       "kernelId": "30afc867-2ec6-497e-8c92-d5c998f15963"
      }
     },
     "output_type": "display_data"
    }
   ],
   "source": [
    "using LinearAlgebra;\n",
    "using Plots; gr(); default(l=5, size=(900,550), label=false);\n",
    "using Printf;\n",
    "using Interact;\n",
    "using SparseArrays;\n",
    "\n",
    "BLAS.set_num_threads(1)\n",
    "\n",
    "if STATIC_LECTURE\n",
    "    default(fmt=:png)\n",
    "    macro manipulate(v)\n",
    "        return :($v; plot!())\n",
    "    end\n",
    "end\n",
    "\n",
    "prettyprint(a) = map(x -> @sprintf(\"%+.2f\", x), a)\n",
    "sciprint(a) = map(x -> @sprintf(\"%+.2e\", x), a)\n",
    "\n",
    "function imshow(x; kwargs...)\n",
    "    return heatmap(x\n",
    "        , aspect_ratio=:equal\n",
    "        , framestyle=:none\n",
    "        , yflip=true\n",
    "        , c=cgrad(:diverging_gwv_55_95_c39_n256, rev=true)\n",
    "        ; kwargs...\n",
    "    )\n",
    "end\n",
    "function imshowlog(x; kwargs...)\n",
    "    return heatmap(max.(log.(abs.(x)), log(eps()))\n",
    "        , aspect_ratio=:equal\n",
    "        , framestyle=:none\n",
    "        , yflip=true\n",
    "        , c=cgrad(:linear_worb_100_25_c53_n256)\n",
    "        ; kwargs...\n",
    "    )\n",
    "end\n",
    "bigspy(x; kwargs...) = spy(x, m=4, c=:diverging_gwv_55_95_c39_n256; kwargs...)\n",
    "p = plot!([0,1],[0,1]);"
   ]
  },
  {
   "cell_type": "markdown",
   "id": "046ff806",
   "metadata": {
    "slideshow": {
     "slide_type": "slide"
    }
   },
   "source": [
    "# The Lanczos Iteration"
   ]
  },
  {
   "cell_type": "code",
   "execution_count": 4,
   "id": "e84c8a81",
   "metadata": {
    "cell_style": "split",
    "slideshow": {
     "slide_type": "subslide"
    }
   },
   "outputs": [
    {
     "data": {
      "text/plain": [
       "arnoldi (generic function with 1 method)"
      ]
     },
     "execution_count": 4,
     "metadata": {},
     "output_type": "execute_result"
    }
   ],
   "source": [
    "function arnoldi(A, b, n)\n",
    "    m = size(A)[1]\n",
    "    @assert n ≤ m\n",
    "    Q = zeros(eltype(A), m, n+1)\n",
    "    H̃ = zeros(eltype(A), n+1, n)\n",
    "    Q[:,1] = b / norm(b)\n",
    "    for j in 1:n\n",
    "        v = A * Q[:,j]\n",
    "        for i in 1:j # modified Gram-Schmidt\n",
    "            # if A is Hermitian\n",
    "            # we know a priori that\n",
    "            # these values are zero if i < j - 1\n",
    "            # H̃[i,j] = H̃[j,i] => reduce the number of\n",
    "            # dot products further: we only need to\n",
    "            # compute a dot product with q[:,j]\n",
    "            H̃[i,j] = Q[:,i]' * v\n",
    "            v -= Q[:,i] * H̃[i,j]\n",
    "        end\n",
    "        H̃[j+1,j] = norm(v)\n",
    "        Q[:,j+1] = v / H̃[j+1,j]\n",
    "    end\n",
    "    return Q, H̃\n",
    "end"
   ]
  },
  {
   "cell_type": "code",
   "execution_count": 14,
   "id": "1bea9368",
   "metadata": {
    "cell_style": "split",
    "slideshow": {
     "slide_type": "subslide"
    }
   },
   "outputs": [
    {
     "data": {
      "text/plain": [
       "lanczos (generic function with 1 method)"
      ]
     },
     "execution_count": 14,
     "metadata": {},
     "output_type": "execute_result"
    }
   ],
   "source": [
    "function lanczos(A, b, n)\n",
    "    m = size(A)[1]\n",
    "    @assert n ≤ m\n",
    "    Q = zeros(eltype(A), m, n+1)\n",
    "    H̃ = zeros(eltype(A), n+1, n) # usually T̃\n",
    "    Q[:,1] = b / norm(b)\n",
    "    for j in 1:n\n",
    "        v = A * Q[:,j]\n",
    "        H̃[j,j] = α = Q[:,j]' * v # α_j = q_j' * A * q_j\n",
    "        if j > 1\n",
    "            β = H̃[j,j-1]\n",
    "            v -= β * Q[:,j-1]\n",
    "        end\n",
    "        v -= α * Q[:,j]\n",
    "        H̃[j+1,j] = β = norm(v)\n",
    "        if j < n\n",
    "            H̃[j,j+1] = β\n",
    "        end\n",
    "        Q[:,j+1] = v / β\n",
    "    end\n",
    "    return Q, H̃\n",
    "end"
   ]
  },
  {
   "cell_type": "code",
   "execution_count": null,
   "id": "c9af2685",
   "metadata": {},
   "outputs": [],
   "source": []
  },
  {
   "cell_type": "code",
   "execution_count": 6,
   "id": "b680ff2b",
   "metadata": {
    "cell_style": "split",
    "slideshow": {
     "slide_type": "subslide"
    }
   },
   "outputs": [],
   "source": [
    "m = 50\n",
    "n = 10\n",
    "A = randn(m,m)\n",
    "A = A + A'\n",
    "b = randn(m)\n",
    "Q, H = arnoldi(A, b, n);"
   ]
  },
  {
   "cell_type": "code",
   "execution_count": 7,
   "id": "0cc37a31",
   "metadata": {
    "cell_style": "split",
    "slideshow": {
     "slide_type": "fragment"
    }
   },
   "outputs": [
    {
     "data": {
      "text/plain": [
       "0.0"
      ]
     },
     "execution_count": 7,
     "metadata": {},
     "output_type": "execute_result"
    }
   ],
   "source": [
    "norm(Q[:,1] - b / norm(b))"
   ]
  },
  {
   "cell_type": "code",
   "execution_count": 8,
   "id": "9bb4bbf8",
   "metadata": {
    "cell_style": "split",
    "slideshow": {
     "slide_type": "fragment"
    }
   },
   "outputs": [
    {
     "data": {
      "text/plain": [
       "0.0"
      ]
     },
     "execution_count": 8,
     "metadata": {},
     "output_type": "execute_result"
    }
   ],
   "source": [
    "norm(H - UpperHessenberg(H))"
   ]
  },
  {
   "cell_type": "code",
   "execution_count": 9,
   "id": "8454cce8",
   "metadata": {
    "cell_style": "split",
    "slideshow": {
     "slide_type": "fragment"
    }
   },
   "outputs": [
    {
     "data": {
      "text/plain": [
       "1.5047356975706993e-15"
      ]
     },
     "execution_count": 9,
     "metadata": {},
     "output_type": "execute_result"
    }
   ],
   "source": [
    "norm(I - Q' * Q)"
   ]
  },
  {
   "cell_type": "code",
   "execution_count": 10,
   "id": "d7df8802",
   "metadata": {
    "slideshow": {
     "slide_type": "fragment"
    }
   },
   "outputs": [
    {
     "data": {
      "text/plain": [
       "1.634001523586601e-16"
      ]
     },
     "execution_count": 10,
     "metadata": {},
     "output_type": "execute_result"
    }
   ],
   "source": [
    "norm(A * Q[:,1:n] - Q * H) / norm(A)"
   ]
  },
  {
   "cell_type": "code",
   "execution_count": 15,
   "id": "1b97f737",
   "metadata": {
    "cell_style": "center",
    "slideshow": {
     "slide_type": "subslide"
    }
   },
   "outputs": [],
   "source": [
    "m = 50\n",
    "n = 10\n",
    "A = randn(m,m)\n",
    "A = A + A'\n",
    "b = randn(m)\n",
    "Q, H = lanczos(A, b, n);"
   ]
  },
  {
   "cell_type": "code",
   "execution_count": 17,
   "id": "cba8c787",
   "metadata": {
    "cell_style": "split",
    "slideshow": {
     "slide_type": "fragment"
    }
   },
   "outputs": [
    {
     "data": {
      "text/plain": [
       "0.0"
      ]
     },
     "execution_count": 17,
     "metadata": {},
     "output_type": "execute_result"
    }
   ],
   "source": [
    "norm(Q[:,1] - b / norm(b))"
   ]
  },
  {
   "cell_type": "code",
   "execution_count": 18,
   "id": "f6158699",
   "metadata": {
    "cell_style": "split",
    "slideshow": {
     "slide_type": "fragment"
    }
   },
   "outputs": [
    {
     "data": {
      "text/plain": [
       "0.0"
      ]
     },
     "execution_count": 18,
     "metadata": {},
     "output_type": "execute_result"
    }
   ],
   "source": [
    "norm(H - UpperHessenberg(H))"
   ]
  },
  {
   "cell_type": "code",
   "execution_count": 19,
   "id": "c0ba90aa",
   "metadata": {
    "cell_style": "split",
    "slideshow": {
     "slide_type": "fragment"
    }
   },
   "outputs": [
    {
     "data": {
      "text/plain": [
       "5.992927814588608e-15"
      ]
     },
     "execution_count": 19,
     "metadata": {},
     "output_type": "execute_result"
    }
   ],
   "source": [
    "norm(I - Q' * Q)"
   ]
  },
  {
   "cell_type": "code",
   "execution_count": 20,
   "id": "226c6224",
   "metadata": {
    "cell_style": "split",
    "slideshow": {
     "slide_type": "fragment"
    }
   },
   "outputs": [
    {
     "data": {
      "text/plain": [
       "1.4755345810416016e-16"
      ]
     },
     "execution_count": 20,
     "metadata": {},
     "output_type": "execute_result"
    }
   ],
   "source": [
    "norm(A * Q[:,1:n] - Q * H) / norm(A)"
   ]
  },
  {
   "cell_type": "code",
   "execution_count": null,
   "id": "a848475e",
   "metadata": {},
   "outputs": [],
   "source": []
  },
  {
   "cell_type": "markdown",
   "id": "c789b2ae",
   "metadata": {
    "slideshow": {
     "slide_type": "subslide"
    }
   },
   "source": [
    "### Summarizing\n",
    "\n",
    "**T&B Theorem 36.1** The matrix $Q_n$ generated by `lanczos(A, b, n-1)` are reduced QR factors of the Krylov matrix,\n",
    "\n",
    "$$\n",
    "Q_n R_n = K_n(A,b).$$\n",
    "\n",
    "The tridiagonal matrix $T_n = (\\tilde{T}_n)_{1:n,1:n}$ is the corresponding projections,\n",
    "\n",
    "$$T_n = Q_n^* A Q_n,$$\n",
    "\n",
    "and the successive iterates are related by\n",
    "\n",
    "$$A Q_n = Q_{n+1} \\tilde T_n.$$"
   ]
  },
  {
   "cell_type": "code",
   "execution_count": 28,
   "id": "405ddb42",
   "metadata": {
    "slideshow": {
     "slide_type": "subslide"
    }
   },
   "outputs": [
    {
     "data": {
      "image/svg+xml": [
       "<?xml version=\"1.0\" encoding=\"utf-8\"?>\n",
       "<svg xmlns=\"http://www.w3.org/2000/svg\" xmlns:xlink=\"http://www.w3.org/1999/xlink\" width=\"900\" height=\"550\" viewBox=\"0 0 3600 2200\">\n",
       "<defs>\n",
       "  <clipPath id=\"clip890\">\n",
       "    <rect x=\"0\" y=\"0\" width=\"3600\" height=\"2200\"/>\n",
       "  </clipPath>\n",
       "</defs>\n",
       "<path clip-path=\"url(#clip890)\" d=\"\n",
       "M0 2200 L3600 2200 L3600 0 L0 0  Z\n",
       "  \" fill=\"#ffffff\" fill-rule=\"evenodd\" fill-opacity=\"1\"/>\n",
       "<defs>\n",
       "  <clipPath id=\"clip891\">\n",
       "    <rect x=\"720\" y=\"0\" width=\"2521\" height=\"2200\"/>\n",
       "  </clipPath>\n",
       "</defs>\n",
       "<path clip-path=\"url(#clip890)\" d=\"\n",
       "M257.582 2024.02 L3552.76 2024.02 L3552.76 118.432 L257.582 118.432  Z\n",
       "  \" fill=\"#ffffff\" fill-rule=\"evenodd\" fill-opacity=\"1\"/>\n",
       "<defs>\n",
       "  <clipPath id=\"clip892\">\n",
       "    <rect x=\"257\" y=\"118\" width=\"3296\" height=\"1907\"/>\n",
       "  </clipPath>\n",
       "</defs>\n",
       "<polyline clip-path=\"url(#clip892)\" style=\"stroke:#000000; stroke-linecap:butt; stroke-linejoin:round; stroke-width:2; stroke-opacity:0.1; fill:none\" points=\"\n",
       "  324.543,2024.02 324.543,118.432 \n",
       "  \"/>\n",
       "<polyline clip-path=\"url(#clip892)\" style=\"stroke:#000000; stroke-linecap:butt; stroke-linejoin:round; stroke-width:2; stroke-opacity:0.1; fill:none\" points=\"\n",
       "  1058.15,2024.02 1058.15,118.432 \n",
       "  \"/>\n",
       "<polyline clip-path=\"url(#clip892)\" style=\"stroke:#000000; stroke-linecap:butt; stroke-linejoin:round; stroke-width:2; stroke-opacity:0.1; fill:none\" points=\"\n",
       "  2525.38,2024.02 2525.38,118.432 \n",
       "  \"/>\n",
       "<polyline clip-path=\"url(#clip892)\" style=\"stroke:#000000; stroke-linecap:butt; stroke-linejoin:round; stroke-width:2; stroke-opacity:0.1; fill:none\" points=\"\n",
       "  3258.99,2024.02 3258.99,118.432 \n",
       "  \"/>\n",
       "<polyline clip-path=\"url(#clip890)\" style=\"stroke:#000000; stroke-linecap:butt; stroke-linejoin:round; stroke-width:4; stroke-opacity:1; fill:none\" points=\"\n",
       "  257.582,1438.03 3552.76,1438.03 \n",
       "  \"/>\n",
       "<polyline clip-path=\"url(#clip890)\" style=\"stroke:#000000; stroke-linecap:butt; stroke-linejoin:round; stroke-width:4; stroke-opacity:1; fill:none\" points=\"\n",
       "  324.543,1456.93 324.543,1419.13 \n",
       "  \"/>\n",
       "<polyline clip-path=\"url(#clip890)\" style=\"stroke:#000000; stroke-linecap:butt; stroke-linejoin:round; stroke-width:4; stroke-opacity:1; fill:none\" points=\"\n",
       "  1058.15,1456.93 1058.15,1419.13 \n",
       "  \"/>\n",
       "<polyline clip-path=\"url(#clip890)\" style=\"stroke:#000000; stroke-linecap:butt; stroke-linejoin:round; stroke-width:4; stroke-opacity:1; fill:none\" points=\"\n",
       "  2525.38,1456.93 2525.38,1419.13 \n",
       "  \"/>\n",
       "<polyline clip-path=\"url(#clip890)\" style=\"stroke:#000000; stroke-linecap:butt; stroke-linejoin:round; stroke-width:4; stroke-opacity:1; fill:none\" points=\"\n",
       "  3258.99,1456.93 3258.99,1419.13 \n",
       "  \"/>\n",
       "<path clip-path=\"url(#clip890)\" d=\"M294.486 1493.2 L324.161 1493.2 L324.161 1497.14 L294.486 1497.14 L294.486 1493.2 Z\" fill=\"#000000\" fill-rule=\"evenodd\" fill-opacity=\"1\" /><path clip-path=\"url(#clip890)\" d=\"M338.282 1506.1 L354.601 1506.1 L354.601 1510.03 L332.657 1510.03 L332.657 1506.1 Q335.319 1503.34 339.902 1498.71 Q344.509 1494.06 345.689 1492.72 Q347.934 1490.19 348.814 1488.46 Q349.717 1486.7 349.717 1485.01 Q349.717 1482.25 347.772 1480.52 Q345.851 1478.78 342.749 1478.78 Q340.55 1478.78 338.097 1479.55 Q335.666 1480.31 332.888 1481.86 L332.888 1477.14 Q335.712 1476 338.166 1475.43 Q340.62 1474.85 342.657 1474.85 Q348.027 1474.85 351.221 1477.53 Q354.416 1480.22 354.416 1484.71 Q354.416 1486.84 353.606 1488.76 Q352.819 1490.66 350.712 1493.25 Q350.133 1493.92 347.032 1497.14 Q343.93 1500.33 338.282 1506.1 Z\" fill=\"#000000\" fill-rule=\"evenodd\" fill-opacity=\"1\" /><path clip-path=\"url(#clip890)\" d=\"M1027.91 1493.2 L1057.59 1493.2 L1057.59 1497.14 L1027.91 1497.14 L1027.91 1493.2 Z\" fill=\"#000000\" fill-rule=\"evenodd\" fill-opacity=\"1\" /><path clip-path=\"url(#clip890)\" d=\"M1068.49 1506.1 L1076.13 1506.1 L1076.13 1479.73 L1067.82 1481.4 L1067.82 1477.14 L1076.08 1475.47 L1080.76 1475.47 L1080.76 1506.1 L1088.4 1506.1 L1088.4 1510.03 L1068.49 1510.03 L1068.49 1506.1 Z\" fill=\"#000000\" fill-rule=\"evenodd\" fill-opacity=\"1\" /><path clip-path=\"url(#clip890)\" d=\"M2515.76 1506.1 L2523.4 1506.1 L2523.4 1479.73 L2515.09 1481.4 L2515.09 1477.14 L2523.35 1475.47 L2528.03 1475.47 L2528.03 1506.1 L2535.66 1506.1 L2535.66 1510.03 L2515.76 1510.03 L2515.76 1506.1 Z\" fill=\"#000000\" fill-rule=\"evenodd\" fill-opacity=\"1\" /><path clip-path=\"url(#clip890)\" d=\"M3253.64 1506.1 L3269.96 1506.1 L3269.96 1510.03 L3248.01 1510.03 L3248.01 1506.1 Q3250.68 1503.34 3255.26 1498.71 Q3259.87 1494.06 3261.05 1492.72 Q3263.29 1490.19 3264.17 1488.46 Q3265.07 1486.7 3265.07 1485.01 Q3265.07 1482.25 3263.13 1480.52 Q3261.21 1478.78 3258.11 1478.78 Q3255.91 1478.78 3253.45 1479.55 Q3251.02 1480.31 3248.25 1481.86 L3248.25 1477.14 Q3251.07 1476 3253.52 1475.43 Q3255.98 1474.85 3258.01 1474.85 Q3263.38 1474.85 3266.58 1477.53 Q3269.77 1480.22 3269.77 1484.71 Q3269.77 1486.84 3268.96 1488.76 Q3268.18 1490.66 3266.07 1493.25 Q3265.49 1493.92 3262.39 1497.14 Q3259.29 1500.33 3253.64 1506.1 Z\" fill=\"#000000\" fill-rule=\"evenodd\" fill-opacity=\"1\" /><path clip-path=\"url(#clip890)\" d=\"M1847.75 2164.6 Q1849.82 2165.3 1851.76 2167.6 Q1853.73 2169.89 1855.71 2173.9 L1862.23 2186.88 L1855.33 2186.88 L1849.25 2174.69 Q1846.89 2169.92 1844.66 2168.36 Q1842.47 2166.8 1838.65 2166.8 L1831.65 2166.8 L1831.65 2186.88 L1825.22 2186.88 L1825.22 2139.36 L1839.73 2139.36 Q1847.88 2139.36 1851.89 2142.77 Q1855.9 2146.18 1855.9 2153.05 Q1855.9 2157.54 1853.8 2160.5 Q1851.73 2163.46 1847.75 2164.6 M1831.65 2144.65 L1831.65 2161.52 L1839.73 2161.52 Q1844.38 2161.52 1846.73 2159.38 Q1849.12 2157.22 1849.12 2153.05 Q1849.12 2148.88 1846.73 2146.78 Q1844.38 2144.65 1839.73 2144.65 L1831.65 2144.65 Z\" fill=\"#000000\" fill-rule=\"evenodd\" fill-opacity=\"1\" /><path clip-path=\"url(#clip890)\" d=\"M1897.82 2167.6 L1897.82 2170.46 L1870.89 2170.46 Q1871.27 2176.51 1874.52 2179.69 Q1877.8 2182.84 1883.62 2182.84 Q1886.99 2182.84 1890.15 2182.01 Q1893.33 2181.19 1896.45 2179.53 L1896.45 2185.07 Q1893.3 2186.41 1889.99 2187.11 Q1886.68 2187.81 1883.27 2187.81 Q1874.74 2187.81 1869.74 2182.84 Q1864.78 2177.88 1864.78 2169.41 Q1864.78 2160.66 1869.49 2155.53 Q1874.23 2150.38 1882.25 2150.38 Q1889.45 2150.38 1893.62 2155.02 Q1897.82 2159.64 1897.82 2167.6 M1891.96 2165.88 Q1891.9 2161.07 1889.25 2158.21 Q1886.64 2155.34 1882.32 2155.34 Q1877.41 2155.34 1874.45 2158.11 Q1871.53 2160.88 1871.08 2165.91 L1891.96 2165.88 Z\" fill=\"#000000\" fill-rule=\"evenodd\" fill-opacity=\"1\" /><path clip-path=\"url(#clip890)\" d=\"M1921.5 2137.42 Q1917.23 2144.74 1915.16 2151.9 Q1913.09 2159.07 1913.09 2166.42 Q1913.09 2173.77 1915.16 2181 Q1917.26 2188.19 1921.5 2195.48 L1916.4 2195.48 Q1911.63 2188 1909.24 2180.77 Q1906.89 2173.55 1906.89 2166.42 Q1906.89 2159.32 1909.24 2152.13 Q1911.6 2144.93 1916.4 2137.42 L1921.5 2137.42 Z\" fill=\"#000000\" fill-rule=\"evenodd\" fill-opacity=\"1\" /><path clip-path=\"url(#clip890)\" d=\"M1962.49 2151.24 L1949.6 2168.58 L1963.16 2186.88 L1956.25 2186.88 L1945.88 2172.88 L1935.5 2186.88 L1928.59 2186.88 L1942.44 2168.23 L1929.77 2151.24 L1936.68 2151.24 L1946.13 2163.94 L1955.59 2151.24 L1962.49 2151.24 Z\" fill=\"#000000\" fill-rule=\"evenodd\" fill-opacity=\"1\" /><path clip-path=\"url(#clip890)\" d=\"M1970.51 2137.42 L1975.61 2137.42 Q1980.38 2144.93 1982.74 2152.13 Q1985.12 2159.32 1985.12 2166.42 Q1985.12 2173.55 1982.74 2180.77 Q1980.38 2188 1975.61 2195.48 L1970.51 2195.48 Q1974.75 2188.19 1976.81 2181 Q1978.92 2173.77 1978.92 2166.42 Q1978.92 2159.07 1976.81 2151.9 Q1974.75 2144.74 1970.51 2137.42 Z\" fill=\"#000000\" fill-rule=\"evenodd\" fill-opacity=\"1\" /><polyline clip-path=\"url(#clip892)\" style=\"stroke:#000000; stroke-linecap:butt; stroke-linejoin:round; stroke-width:2; stroke-opacity:0.1; fill:none\" points=\"\n",
       "  257.582,1804.84 3552.76,1804.84 \n",
       "  \"/>\n",
       "<polyline clip-path=\"url(#clip892)\" style=\"stroke:#000000; stroke-linecap:butt; stroke-linejoin:round; stroke-width:2; stroke-opacity:0.1; fill:none\" points=\"\n",
       "  257.582,1071.23 3552.76,1071.23 \n",
       "  \"/>\n",
       "<polyline clip-path=\"url(#clip892)\" style=\"stroke:#000000; stroke-linecap:butt; stroke-linejoin:round; stroke-width:2; stroke-opacity:0.1; fill:none\" points=\"\n",
       "  257.582,704.421 3552.76,704.421 \n",
       "  \"/>\n",
       "<polyline clip-path=\"url(#clip892)\" style=\"stroke:#000000; stroke-linecap:butt; stroke-linejoin:round; stroke-width:2; stroke-opacity:0.1; fill:none\" points=\"\n",
       "  257.582,337.615 3552.76,337.615 \n",
       "  \"/>\n",
       "<polyline clip-path=\"url(#clip890)\" style=\"stroke:#000000; stroke-linecap:butt; stroke-linejoin:round; stroke-width:4; stroke-opacity:1; fill:none\" points=\"\n",
       "  1791.76,2024.02 1791.76,118.432 \n",
       "  \"/>\n",
       "<polyline clip-path=\"url(#clip890)\" style=\"stroke:#000000; stroke-linecap:butt; stroke-linejoin:round; stroke-width:4; stroke-opacity:1; fill:none\" points=\"\n",
       "  1772.87,1804.84 1810.66,1804.84 \n",
       "  \"/>\n",
       "<polyline clip-path=\"url(#clip890)\" style=\"stroke:#000000; stroke-linecap:butt; stroke-linejoin:round; stroke-width:4; stroke-opacity:1; fill:none\" points=\"\n",
       "  1772.87,1071.23 1810.66,1071.23 \n",
       "  \"/>\n",
       "<polyline clip-path=\"url(#clip890)\" style=\"stroke:#000000; stroke-linecap:butt; stroke-linejoin:round; stroke-width:4; stroke-opacity:1; fill:none\" points=\"\n",
       "  1772.87,704.421 1810.66,704.421 \n",
       "  \"/>\n",
       "<polyline clip-path=\"url(#clip890)\" style=\"stroke:#000000; stroke-linecap:butt; stroke-linejoin:round; stroke-width:4; stroke-opacity:1; fill:none\" points=\"\n",
       "  1772.87,337.615 1810.66,337.615 \n",
       "  \"/>\n",
       "<path clip-path=\"url(#clip890)\" d=\"M1631.82 1805.29 L1661.49 1805.29 L1661.49 1809.22 L1631.82 1809.22 L1631.82 1805.29 Z\" fill=\"#000000\" fill-rule=\"evenodd\" fill-opacity=\"1\" /><path clip-path=\"url(#clip890)\" d=\"M1681.58 1790.64 Q1677.97 1790.64 1676.14 1794.2 Q1674.34 1797.74 1674.34 1804.87 Q1674.34 1811.98 1676.14 1815.54 Q1677.97 1819.08 1681.58 1819.08 Q1685.22 1819.08 1687.02 1815.54 Q1688.85 1811.98 1688.85 1804.87 Q1688.85 1797.74 1687.02 1794.2 Q1685.22 1790.64 1681.58 1790.64 M1681.58 1786.93 Q1687.39 1786.93 1690.45 1791.54 Q1693.53 1796.12 1693.53 1804.87 Q1693.53 1813.6 1690.45 1818.2 Q1687.39 1822.79 1681.58 1822.79 Q1675.77 1822.79 1672.7 1818.2 Q1669.64 1813.6 1669.64 1804.87 Q1669.64 1796.12 1672.7 1791.54 Q1675.77 1786.93 1681.58 1786.93 Z\" fill=\"#000000\" fill-rule=\"evenodd\" fill-opacity=\"1\" /><path clip-path=\"url(#clip890)\" d=\"M1701.75 1816.24 L1706.63 1816.24 L1706.63 1822.12 L1701.75 1822.12 L1701.75 1816.24 Z\" fill=\"#000000\" fill-rule=\"evenodd\" fill-opacity=\"1\" /><path clip-path=\"url(#clip890)\" d=\"M1716.86 1787.56 L1735.22 1787.56 L1735.22 1791.49 L1721.14 1791.49 L1721.14 1799.96 Q1722.16 1799.62 1723.18 1799.45 Q1724.2 1799.27 1725.22 1799.27 Q1731.01 1799.27 1734.39 1802.44 Q1737.76 1805.61 1737.76 1811.03 Q1737.76 1816.61 1734.29 1819.71 Q1730.82 1822.79 1724.5 1822.79 Q1722.32 1822.79 1720.06 1822.42 Q1717.81 1822.05 1715.4 1821.31 L1715.4 1816.61 Q1717.49 1817.74 1719.71 1818.3 Q1721.93 1818.85 1724.41 1818.85 Q1728.41 1818.85 1730.75 1816.75 Q1733.09 1814.64 1733.09 1811.03 Q1733.09 1807.42 1730.75 1805.31 Q1728.41 1803.2 1724.41 1803.2 Q1722.53 1803.2 1720.66 1803.62 Q1718.81 1804.04 1716.86 1804.92 L1716.86 1787.56 Z\" fill=\"#000000\" fill-rule=\"evenodd\" fill-opacity=\"1\" /><path clip-path=\"url(#clip890)\" d=\"M1681.58 1057.02 Q1677.97 1057.02 1676.14 1060.59 Q1674.34 1064.13 1674.34 1071.26 Q1674.34 1078.37 1676.14 1081.93 Q1677.97 1085.47 1681.58 1085.47 Q1685.22 1085.47 1687.02 1081.93 Q1688.85 1078.37 1688.85 1071.26 Q1688.85 1064.13 1687.02 1060.59 Q1685.22 1057.02 1681.58 1057.02 M1681.58 1053.32 Q1687.39 1053.32 1690.45 1057.93 Q1693.53 1062.51 1693.53 1071.26 Q1693.53 1079.99 1690.45 1084.59 Q1687.39 1089.18 1681.58 1089.18 Q1675.77 1089.18 1672.7 1084.59 Q1669.64 1079.99 1669.64 1071.26 Q1669.64 1062.51 1672.7 1057.93 Q1675.77 1053.32 1681.58 1053.32 Z\" fill=\"#000000\" fill-rule=\"evenodd\" fill-opacity=\"1\" /><path clip-path=\"url(#clip890)\" d=\"M1701.75 1082.63 L1706.63 1082.63 L1706.63 1088.51 L1701.75 1088.51 L1701.75 1082.63 Z\" fill=\"#000000\" fill-rule=\"evenodd\" fill-opacity=\"1\" /><path clip-path=\"url(#clip890)\" d=\"M1716.86 1053.95 L1735.22 1053.95 L1735.22 1057.88 L1721.14 1057.88 L1721.14 1066.35 Q1722.16 1066.01 1723.18 1065.84 Q1724.2 1065.66 1725.22 1065.66 Q1731.01 1065.66 1734.39 1068.83 Q1737.76 1072 1737.76 1077.42 Q1737.76 1083 1734.29 1086.1 Q1730.82 1089.18 1724.5 1089.18 Q1722.32 1089.18 1720.06 1088.81 Q1717.81 1088.44 1715.4 1087.7 L1715.4 1083 Q1717.49 1084.13 1719.71 1084.69 Q1721.93 1085.24 1724.41 1085.24 Q1728.41 1085.24 1730.75 1083.14 Q1733.09 1081.03 1733.09 1077.42 Q1733.09 1073.81 1730.75 1071.7 Q1728.41 1069.59 1724.41 1069.59 Q1722.53 1069.59 1720.66 1070.01 Q1718.81 1070.43 1716.86 1071.31 L1716.86 1053.95 Z\" fill=\"#000000\" fill-rule=\"evenodd\" fill-opacity=\"1\" /><path clip-path=\"url(#clip890)\" d=\"M1671.4 717.765 L1679.04 717.765 L1679.04 691.4 L1670.73 693.067 L1670.73 688.807 L1678.99 687.141 L1683.67 687.141 L1683.67 717.765 L1691.31 717.765 L1691.31 721.701 L1671.4 721.701 L1671.4 717.765 Z\" fill=\"#000000\" fill-rule=\"evenodd\" fill-opacity=\"1\" /><path clip-path=\"url(#clip890)\" d=\"M1700.75 715.821 L1705.64 715.821 L1705.64 721.701 L1700.75 721.701 L1700.75 715.821 Z\" fill=\"#000000\" fill-rule=\"evenodd\" fill-opacity=\"1\" /><path clip-path=\"url(#clip890)\" d=\"M1725.82 690.219 Q1722.21 690.219 1720.38 693.784 Q1718.58 697.326 1718.58 704.455 Q1718.58 711.562 1720.38 715.127 Q1722.21 718.668 1725.82 718.668 Q1729.45 718.668 1731.26 715.127 Q1733.09 711.562 1733.09 704.455 Q1733.09 697.326 1731.26 693.784 Q1729.45 690.219 1725.82 690.219 M1725.82 686.516 Q1731.63 686.516 1734.69 691.122 Q1737.76 695.705 1737.76 704.455 Q1737.76 713.182 1734.69 717.789 Q1731.63 722.372 1725.82 722.372 Q1720.01 722.372 1716.93 717.789 Q1713.88 713.182 1713.88 704.455 Q1713.88 695.705 1716.93 691.122 Q1720.01 686.516 1725.82 686.516 Z\" fill=\"#000000\" fill-rule=\"evenodd\" fill-opacity=\"1\" /><path clip-path=\"url(#clip890)\" d=\"M1672.39 350.96 L1680.03 350.96 L1680.03 324.595 L1671.72 326.261 L1671.72 322.002 L1679.99 320.335 L1684.66 320.335 L1684.66 350.96 L1692.3 350.96 L1692.3 354.895 L1672.39 354.895 L1672.39 350.96 Z\" fill=\"#000000\" fill-rule=\"evenodd\" fill-opacity=\"1\" /><path clip-path=\"url(#clip890)\" d=\"M1701.75 349.016 L1706.63 349.016 L1706.63 354.895 L1701.75 354.895 L1701.75 349.016 Z\" fill=\"#000000\" fill-rule=\"evenodd\" fill-opacity=\"1\" /><path clip-path=\"url(#clip890)\" d=\"M1716.86 320.335 L1735.22 320.335 L1735.22 324.27 L1721.14 324.27 L1721.14 332.743 Q1722.16 332.395 1723.18 332.233 Q1724.2 332.048 1725.22 332.048 Q1731.01 332.048 1734.39 335.219 Q1737.76 338.391 1737.76 343.807 Q1737.76 349.386 1734.29 352.488 Q1730.82 355.567 1724.5 355.567 Q1722.32 355.567 1720.06 355.196 Q1717.81 354.826 1715.4 354.085 L1715.4 349.386 Q1717.49 350.52 1719.71 351.076 Q1721.93 351.631 1724.41 351.631 Q1728.41 351.631 1730.75 349.525 Q1733.09 347.418 1733.09 343.807 Q1733.09 340.196 1730.75 338.09 Q1728.41 335.983 1724.41 335.983 Q1722.53 335.983 1720.66 336.4 Q1718.81 336.817 1716.86 337.696 L1716.86 320.335 Z\" fill=\"#000000\" fill-rule=\"evenodd\" fill-opacity=\"1\" /><path clip-path=\"url(#clip890)\" d=\"M-18.1425 1151.31 L-18.1425 1144.88 L29.3775 1144.88 L29.3775 1151.31 L-18.1425 1151.31 Z\" fill=\"#000000\" fill-rule=\"evenodd\" fill-opacity=\"1\" /><path clip-path=\"url(#clip890)\" d=\"M0.572704 1104.58 Q-3.37403 1102.39 -5.25192 1099.33 Q-7.1298 1096.28 -7.1298 1092.14 Q-7.1298 1086.57 -3.21489 1083.54 Q0.66819 1080.52 7.86144 1080.52 L29.3775 1080.52 L29.3775 1086.41 L8.05241 1086.41 Q2.92802 1086.41 0.44539 1088.22 Q-2.03724 1090.04 -2.03724 1093.76 Q-2.03724 1098.31 0.986475 1100.95 Q4.01019 1103.6 9.23007 1103.6 L29.3775 1103.6 L29.3775 1109.48 L8.05241 1109.48 Q2.89619 1109.48 0.44539 1111.3 Q-2.03724 1113.11 -2.03724 1116.9 Q-2.03724 1121.39 1.0183 1124.03 Q4.04201 1126.67 9.23007 1126.67 L29.3775 1126.67 L29.3775 1132.56 L-6.27043 1132.56 L-6.27043 1126.67 L-0.732266 1126.67 Q-4.0106 1124.67 -5.5702 1121.87 Q-7.1298 1119.06 -7.1298 1115.21 Q-7.1298 1111.33 -5.15643 1108.62 Q-3.18306 1105.89 0.572704 1104.58 Z\" fill=\"#000000\" fill-rule=\"evenodd\" fill-opacity=\"1\" /><path clip-path=\"url(#clip890)\" d=\"M-20.084 1054.77 Q-12.7635 1059.04 -5.60203 1061.1 Q1.55939 1063.17 8.91178 1063.17 Q16.2642 1063.17 23.4892 1061.1 Q30.6825 1059 37.9712 1054.77 L37.9712 1059.86 Q30.4915 1064.64 23.2664 1067.02 Q16.0414 1069.38 8.91178 1069.38 Q1.81402 1069.38 -5.37923 1067.02 Q-12.5725 1064.67 -20.084 1059.86 L-20.084 1054.77 Z\" fill=\"#000000\" fill-rule=\"evenodd\" fill-opacity=\"1\" /><path clip-path=\"url(#clip890)\" d=\"M-6.27043 1013.78 L11.0761 1026.67 L29.3775 1013.11 L29.3775 1020.01 L15.373 1030.39 L29.3775 1040.77 L29.3775 1047.67 L10.726 1033.83 L-6.27043 1046.5 L-6.27043 1039.59 L6.42915 1030.14 L-6.27043 1020.68 L-6.27043 1013.78 Z\" fill=\"#000000\" fill-rule=\"evenodd\" fill-opacity=\"1\" /><path clip-path=\"url(#clip890)\" d=\"M-20.084 1005.75 L-20.084 1000.66 Q-12.5725 995.888 -5.37923 993.533 Q1.81402 991.145 8.91178 991.145 Q16.0414 991.145 23.2664 993.533 Q30.4915 995.888 37.9712 1000.66 L37.9712 1005.75 Q30.6825 1001.52 23.4892 999.453 Q16.2642 997.352 8.91178 997.352 Q1.55939 997.352 -5.60203 999.453 Q-12.7635 1001.52 -20.084 1005.75 Z\" fill=\"#000000\" fill-rule=\"evenodd\" fill-opacity=\"1\" /><path clip-path=\"url(#clip890)\" d=\"M1828.57 72.576 L1819.94 72.576 L1843.03 12.096 L1852.3 12.096 L1875.35 72.576 L1866.85 72.576 L1847.65 20.1573 L1828.57 72.576 Z\" fill=\"#000000\" fill-rule=\"evenodd\" fill-opacity=\"1\" /><path clip-path=\"url(#clip890)\" d=\"M1901.77 9.62495 Q1896.34 18.942 1893.7 28.0566 Q1891.07 37.1711 1891.07 46.5287 Q1891.07 55.8863 1893.7 65.0818 Q1896.38 74.2369 1901.77 83.5134 L1895.28 83.5134 Q1889.21 73.9938 1886.17 64.7983 Q1883.17 55.6027 1883.17 46.5287 Q1883.17 37.4952 1886.17 28.3401 Q1889.17 19.1851 1895.28 9.62495 L1901.77 9.62495 Z\" fill=\"#000000\" fill-rule=\"evenodd\" fill-opacity=\"1\" /><path clip-path=\"url(#clip890)\" d=\"M1936.77 20.1573 L1925.67 50.2555 L1947.91 50.2555 L1936.77 20.1573 M1932.15 12.096 L1941.42 12.096 L1964.47 72.576 L1955.97 72.576 L1950.46 57.061 L1923.2 57.061 L1917.69 72.576 L1909.06 72.576 L1932.15 12.096 Z\" fill=\"#000000\" fill-rule=\"evenodd\" fill-opacity=\"1\" /><path clip-path=\"url(#clip890)\" d=\"M1971.81 9.62495 L1978.29 9.62495 Q1984.36 19.1851 1987.36 28.3401 Q1990.4 37.4952 1990.4 46.5287 Q1990.4 55.6027 1987.36 64.7983 Q1984.36 73.9938 1978.29 83.5134 L1971.81 83.5134 Q1977.19 74.2369 1979.83 65.0818 Q1982.5 55.8863 1982.5 46.5287 Q1982.5 37.1711 1979.83 28.0566 Q1977.19 18.942 1971.81 9.62495 Z\" fill=\"#000000\" fill-rule=\"evenodd\" fill-opacity=\"1\" /><line clip-path=\"url(#clip892)\" x1=\"1293.46\" y1=\"1438.03\" x2=\"1277.46\" y2=\"1422.03\" style=\"stroke:#009af9; stroke-width:4.4; stroke-opacity:1\"/>\n",
       "<line clip-path=\"url(#clip892)\" x1=\"1293.46\" y1=\"1438.03\" x2=\"1277.46\" y2=\"1454.03\" style=\"stroke:#009af9; stroke-width:4.4; stroke-opacity:1\"/>\n",
       "<line clip-path=\"url(#clip892)\" x1=\"1293.46\" y1=\"1438.03\" x2=\"1309.46\" y2=\"1454.03\" style=\"stroke:#009af9; stroke-width:4.4; stroke-opacity:1\"/>\n",
       "<line clip-path=\"url(#clip892)\" x1=\"1293.46\" y1=\"1438.03\" x2=\"1309.46\" y2=\"1422.03\" style=\"stroke:#009af9; stroke-width:4.4; stroke-opacity:1\"/>\n",
       "<line clip-path=\"url(#clip892)\" x1=\"379.473\" y1=\"1438.03\" x2=\"363.473\" y2=\"1422.03\" style=\"stroke:#009af9; stroke-width:4.4; stroke-opacity:1\"/>\n",
       "<line clip-path=\"url(#clip892)\" x1=\"379.473\" y1=\"1438.03\" x2=\"363.473\" y2=\"1454.03\" style=\"stroke:#009af9; stroke-width:4.4; stroke-opacity:1\"/>\n",
       "<line clip-path=\"url(#clip892)\" x1=\"379.473\" y1=\"1438.03\" x2=\"395.473\" y2=\"1454.03\" style=\"stroke:#009af9; stroke-width:4.4; stroke-opacity:1\"/>\n",
       "<line clip-path=\"url(#clip892)\" x1=\"379.473\" y1=\"1438.03\" x2=\"395.473\" y2=\"1422.03\" style=\"stroke:#009af9; stroke-width:4.4; stroke-opacity:1\"/>\n",
       "<line clip-path=\"url(#clip892)\" x1=\"921.103\" y1=\"1438.03\" x2=\"905.103\" y2=\"1422.03\" style=\"stroke:#009af9; stroke-width:4.4; stroke-opacity:1\"/>\n",
       "<line clip-path=\"url(#clip892)\" x1=\"921.103\" y1=\"1438.03\" x2=\"905.103\" y2=\"1454.03\" style=\"stroke:#009af9; stroke-width:4.4; stroke-opacity:1\"/>\n",
       "<line clip-path=\"url(#clip892)\" x1=\"921.103\" y1=\"1438.03\" x2=\"937.103\" y2=\"1454.03\" style=\"stroke:#009af9; stroke-width:4.4; stroke-opacity:1\"/>\n",
       "<line clip-path=\"url(#clip892)\" x1=\"921.103\" y1=\"1438.03\" x2=\"937.103\" y2=\"1422.03\" style=\"stroke:#009af9; stroke-width:4.4; stroke-opacity:1\"/>\n",
       "<line clip-path=\"url(#clip892)\" x1=\"1951.83\" y1=\"1438.03\" x2=\"1935.83\" y2=\"1422.03\" style=\"stroke:#009af9; stroke-width:4.4; stroke-opacity:1\"/>\n",
       "<line clip-path=\"url(#clip892)\" x1=\"1951.83\" y1=\"1438.03\" x2=\"1935.83\" y2=\"1454.03\" style=\"stroke:#009af9; stroke-width:4.4; stroke-opacity:1\"/>\n",
       "<line clip-path=\"url(#clip892)\" x1=\"1951.83\" y1=\"1438.03\" x2=\"1967.83\" y2=\"1454.03\" style=\"stroke:#009af9; stroke-width:4.4; stroke-opacity:1\"/>\n",
       "<line clip-path=\"url(#clip892)\" x1=\"1951.83\" y1=\"1438.03\" x2=\"1967.83\" y2=\"1422.03\" style=\"stroke:#009af9; stroke-width:4.4; stroke-opacity:1\"/>\n",
       "<line clip-path=\"url(#clip892)\" x1=\"674.131\" y1=\"1438.03\" x2=\"658.131\" y2=\"1422.03\" style=\"stroke:#009af9; stroke-width:4.4; stroke-opacity:1\"/>\n",
       "<line clip-path=\"url(#clip892)\" x1=\"674.131\" y1=\"1438.03\" x2=\"658.131\" y2=\"1454.03\" style=\"stroke:#009af9; stroke-width:4.4; stroke-opacity:1\"/>\n",
       "<line clip-path=\"url(#clip892)\" x1=\"674.131\" y1=\"1438.03\" x2=\"690.131\" y2=\"1454.03\" style=\"stroke:#009af9; stroke-width:4.4; stroke-opacity:1\"/>\n",
       "<line clip-path=\"url(#clip892)\" x1=\"674.131\" y1=\"1438.03\" x2=\"690.131\" y2=\"1422.03\" style=\"stroke:#009af9; stroke-width:4.4; stroke-opacity:1\"/>\n",
       "<line clip-path=\"url(#clip892)\" x1=\"2398.71\" y1=\"1438.03\" x2=\"2382.71\" y2=\"1422.03\" style=\"stroke:#009af9; stroke-width:4.4; stroke-opacity:1\"/>\n",
       "<line clip-path=\"url(#clip892)\" x1=\"2398.71\" y1=\"1438.03\" x2=\"2382.71\" y2=\"1454.03\" style=\"stroke:#009af9; stroke-width:4.4; stroke-opacity:1\"/>\n",
       "<line clip-path=\"url(#clip892)\" x1=\"2398.71\" y1=\"1438.03\" x2=\"2414.71\" y2=\"1454.03\" style=\"stroke:#009af9; stroke-width:4.4; stroke-opacity:1\"/>\n",
       "<line clip-path=\"url(#clip892)\" x1=\"2398.71\" y1=\"1438.03\" x2=\"2414.71\" y2=\"1422.03\" style=\"stroke:#009af9; stroke-width:4.4; stroke-opacity:1\"/>\n",
       "<line clip-path=\"url(#clip892)\" x1=\"1785.33\" y1=\"1438.03\" x2=\"1769.33\" y2=\"1422.03\" style=\"stroke:#009af9; stroke-width:4.4; stroke-opacity:1\"/>\n",
       "<line clip-path=\"url(#clip892)\" x1=\"1785.33\" y1=\"1438.03\" x2=\"1769.33\" y2=\"1454.03\" style=\"stroke:#009af9; stroke-width:4.4; stroke-opacity:1\"/>\n",
       "<line clip-path=\"url(#clip892)\" x1=\"1785.33\" y1=\"1438.03\" x2=\"1801.33\" y2=\"1454.03\" style=\"stroke:#009af9; stroke-width:4.4; stroke-opacity:1\"/>\n",
       "<line clip-path=\"url(#clip892)\" x1=\"1785.33\" y1=\"1438.03\" x2=\"1801.33\" y2=\"1422.03\" style=\"stroke:#009af9; stroke-width:4.4; stroke-opacity:1\"/>\n",
       "<line clip-path=\"url(#clip892)\" x1=\"2814.53\" y1=\"1438.03\" x2=\"2798.53\" y2=\"1422.03\" style=\"stroke:#009af9; stroke-width:4.4; stroke-opacity:1\"/>\n",
       "<line clip-path=\"url(#clip892)\" x1=\"2814.53\" y1=\"1438.03\" x2=\"2798.53\" y2=\"1454.03\" style=\"stroke:#009af9; stroke-width:4.4; stroke-opacity:1\"/>\n",
       "<line clip-path=\"url(#clip892)\" x1=\"2814.53\" y1=\"1438.03\" x2=\"2830.53\" y2=\"1454.03\" style=\"stroke:#009af9; stroke-width:4.4; stroke-opacity:1\"/>\n",
       "<line clip-path=\"url(#clip892)\" x1=\"2814.53\" y1=\"1438.03\" x2=\"2830.53\" y2=\"1422.03\" style=\"stroke:#009af9; stroke-width:4.4; stroke-opacity:1\"/>\n",
       "<line clip-path=\"url(#clip892)\" x1=\"2632.9\" y1=\"1438.03\" x2=\"2616.9\" y2=\"1422.03\" style=\"stroke:#009af9; stroke-width:4.4; stroke-opacity:1\"/>\n",
       "<line clip-path=\"url(#clip892)\" x1=\"2632.9\" y1=\"1438.03\" x2=\"2616.9\" y2=\"1454.03\" style=\"stroke:#009af9; stroke-width:4.4; stroke-opacity:1\"/>\n",
       "<line clip-path=\"url(#clip892)\" x1=\"2632.9\" y1=\"1438.03\" x2=\"2648.9\" y2=\"1454.03\" style=\"stroke:#009af9; stroke-width:4.4; stroke-opacity:1\"/>\n",
       "<line clip-path=\"url(#clip892)\" x1=\"2632.9\" y1=\"1438.03\" x2=\"2648.9\" y2=\"1422.03\" style=\"stroke:#009af9; stroke-width:4.4; stroke-opacity:1\"/>\n",
       "<line clip-path=\"url(#clip892)\" x1=\"2804.2\" y1=\"1438.03\" x2=\"2788.2\" y2=\"1422.03\" style=\"stroke:#009af9; stroke-width:4.4; stroke-opacity:1\"/>\n",
       "<line clip-path=\"url(#clip892)\" x1=\"2804.2\" y1=\"1438.03\" x2=\"2788.2\" y2=\"1454.03\" style=\"stroke:#009af9; stroke-width:4.4; stroke-opacity:1\"/>\n",
       "<line clip-path=\"url(#clip892)\" x1=\"2804.2\" y1=\"1438.03\" x2=\"2820.2\" y2=\"1454.03\" style=\"stroke:#009af9; stroke-width:4.4; stroke-opacity:1\"/>\n",
       "<line clip-path=\"url(#clip892)\" x1=\"2804.2\" y1=\"1438.03\" x2=\"2820.2\" y2=\"1422.03\" style=\"stroke:#009af9; stroke-width:4.4; stroke-opacity:1\"/>\n",
       "<line clip-path=\"url(#clip892)\" x1=\"2055.69\" y1=\"1438.03\" x2=\"2039.69\" y2=\"1422.03\" style=\"stroke:#009af9; stroke-width:4.4; stroke-opacity:1\"/>\n",
       "<line clip-path=\"url(#clip892)\" x1=\"2055.69\" y1=\"1438.03\" x2=\"2039.69\" y2=\"1454.03\" style=\"stroke:#009af9; stroke-width:4.4; stroke-opacity:1\"/>\n",
       "<line clip-path=\"url(#clip892)\" x1=\"2055.69\" y1=\"1438.03\" x2=\"2071.69\" y2=\"1454.03\" style=\"stroke:#009af9; stroke-width:4.4; stroke-opacity:1\"/>\n",
       "<line clip-path=\"url(#clip892)\" x1=\"2055.69\" y1=\"1438.03\" x2=\"2071.69\" y2=\"1422.03\" style=\"stroke:#009af9; stroke-width:4.4; stroke-opacity:1\"/>\n",
       "<line clip-path=\"url(#clip892)\" x1=\"2393.72\" y1=\"1438.03\" x2=\"2377.72\" y2=\"1422.03\" style=\"stroke:#009af9; stroke-width:4.4; stroke-opacity:1\"/>\n",
       "<line clip-path=\"url(#clip892)\" x1=\"2393.72\" y1=\"1438.03\" x2=\"2377.72\" y2=\"1454.03\" style=\"stroke:#009af9; stroke-width:4.4; stroke-opacity:1\"/>\n",
       "<line clip-path=\"url(#clip892)\" x1=\"2393.72\" y1=\"1438.03\" x2=\"2409.72\" y2=\"1454.03\" style=\"stroke:#009af9; stroke-width:4.4; stroke-opacity:1\"/>\n",
       "<line clip-path=\"url(#clip892)\" x1=\"2393.72\" y1=\"1438.03\" x2=\"2409.72\" y2=\"1422.03\" style=\"stroke:#009af9; stroke-width:4.4; stroke-opacity:1\"/>\n",
       "<line clip-path=\"url(#clip892)\" x1=\"1994.21\" y1=\"1438.03\" x2=\"1978.21\" y2=\"1422.03\" style=\"stroke:#009af9; stroke-width:4.4; stroke-opacity:1\"/>\n",
       "<line clip-path=\"url(#clip892)\" x1=\"1994.21\" y1=\"1438.03\" x2=\"1978.21\" y2=\"1454.03\" style=\"stroke:#009af9; stroke-width:4.4; stroke-opacity:1\"/>\n",
       "<line clip-path=\"url(#clip892)\" x1=\"1994.21\" y1=\"1438.03\" x2=\"2010.21\" y2=\"1454.03\" style=\"stroke:#009af9; stroke-width:4.4; stroke-opacity:1\"/>\n",
       "<line clip-path=\"url(#clip892)\" x1=\"1994.21\" y1=\"1438.03\" x2=\"2010.21\" y2=\"1422.03\" style=\"stroke:#009af9; stroke-width:4.4; stroke-opacity:1\"/>\n",
       "<line clip-path=\"url(#clip892)\" x1=\"2232.88\" y1=\"1438.03\" x2=\"2216.88\" y2=\"1422.03\" style=\"stroke:#009af9; stroke-width:4.4; stroke-opacity:1\"/>\n",
       "<line clip-path=\"url(#clip892)\" x1=\"2232.88\" y1=\"1438.03\" x2=\"2216.88\" y2=\"1454.03\" style=\"stroke:#009af9; stroke-width:4.4; stroke-opacity:1\"/>\n",
       "<line clip-path=\"url(#clip892)\" x1=\"2232.88\" y1=\"1438.03\" x2=\"2248.88\" y2=\"1454.03\" style=\"stroke:#009af9; stroke-width:4.4; stroke-opacity:1\"/>\n",
       "<line clip-path=\"url(#clip892)\" x1=\"2232.88\" y1=\"1438.03\" x2=\"2248.88\" y2=\"1422.03\" style=\"stroke:#009af9; stroke-width:4.4; stroke-opacity:1\"/>\n",
       "<line clip-path=\"url(#clip892)\" x1=\"981.864\" y1=\"1438.03\" x2=\"965.864\" y2=\"1422.03\" style=\"stroke:#009af9; stroke-width:4.4; stroke-opacity:1\"/>\n",
       "<line clip-path=\"url(#clip892)\" x1=\"981.864\" y1=\"1438.03\" x2=\"965.864\" y2=\"1454.03\" style=\"stroke:#009af9; stroke-width:4.4; stroke-opacity:1\"/>\n",
       "<line clip-path=\"url(#clip892)\" x1=\"981.864\" y1=\"1438.03\" x2=\"997.864\" y2=\"1454.03\" style=\"stroke:#009af9; stroke-width:4.4; stroke-opacity:1\"/>\n",
       "<line clip-path=\"url(#clip892)\" x1=\"981.864\" y1=\"1438.03\" x2=\"997.864\" y2=\"1422.03\" style=\"stroke:#009af9; stroke-width:4.4; stroke-opacity:1\"/>\n",
       "<line clip-path=\"url(#clip892)\" x1=\"1786.37\" y1=\"1438.03\" x2=\"1770.37\" y2=\"1422.03\" style=\"stroke:#009af9; stroke-width:4.4; stroke-opacity:1\"/>\n",
       "<line clip-path=\"url(#clip892)\" x1=\"1786.37\" y1=\"1438.03\" x2=\"1770.37\" y2=\"1454.03\" style=\"stroke:#009af9; stroke-width:4.4; stroke-opacity:1\"/>\n",
       "<line clip-path=\"url(#clip892)\" x1=\"1786.37\" y1=\"1438.03\" x2=\"1802.37\" y2=\"1454.03\" style=\"stroke:#009af9; stroke-width:4.4; stroke-opacity:1\"/>\n",
       "<line clip-path=\"url(#clip892)\" x1=\"1786.37\" y1=\"1438.03\" x2=\"1802.37\" y2=\"1422.03\" style=\"stroke:#009af9; stroke-width:4.4; stroke-opacity:1\"/>\n",
       "<line clip-path=\"url(#clip892)\" x1=\"1972.28\" y1=\"1438.03\" x2=\"1956.28\" y2=\"1422.03\" style=\"stroke:#009af9; stroke-width:4.4; stroke-opacity:1\"/>\n",
       "<line clip-path=\"url(#clip892)\" x1=\"1972.28\" y1=\"1438.03\" x2=\"1956.28\" y2=\"1454.03\" style=\"stroke:#009af9; stroke-width:4.4; stroke-opacity:1\"/>\n",
       "<line clip-path=\"url(#clip892)\" x1=\"1972.28\" y1=\"1438.03\" x2=\"1988.28\" y2=\"1454.03\" style=\"stroke:#009af9; stroke-width:4.4; stroke-opacity:1\"/>\n",
       "<line clip-path=\"url(#clip892)\" x1=\"1972.28\" y1=\"1438.03\" x2=\"1988.28\" y2=\"1422.03\" style=\"stroke:#009af9; stroke-width:4.4; stroke-opacity:1\"/>\n",
       "<line clip-path=\"url(#clip892)\" x1=\"2487.64\" y1=\"1438.03\" x2=\"2471.64\" y2=\"1422.03\" style=\"stroke:#009af9; stroke-width:4.4; stroke-opacity:1\"/>\n",
       "<line clip-path=\"url(#clip892)\" x1=\"2487.64\" y1=\"1438.03\" x2=\"2471.64\" y2=\"1454.03\" style=\"stroke:#009af9; stroke-width:4.4; stroke-opacity:1\"/>\n",
       "<line clip-path=\"url(#clip892)\" x1=\"2487.64\" y1=\"1438.03\" x2=\"2503.64\" y2=\"1454.03\" style=\"stroke:#009af9; stroke-width:4.4; stroke-opacity:1\"/>\n",
       "<line clip-path=\"url(#clip892)\" x1=\"2487.64\" y1=\"1438.03\" x2=\"2503.64\" y2=\"1422.03\" style=\"stroke:#009af9; stroke-width:4.4; stroke-opacity:1\"/>\n",
       "<line clip-path=\"url(#clip892)\" x1=\"1757.17\" y1=\"1438.03\" x2=\"1741.17\" y2=\"1422.03\" style=\"stroke:#009af9; stroke-width:4.4; stroke-opacity:1\"/>\n",
       "<line clip-path=\"url(#clip892)\" x1=\"1757.17\" y1=\"1438.03\" x2=\"1741.17\" y2=\"1454.03\" style=\"stroke:#009af9; stroke-width:4.4; stroke-opacity:1\"/>\n",
       "<line clip-path=\"url(#clip892)\" x1=\"1757.17\" y1=\"1438.03\" x2=\"1773.17\" y2=\"1454.03\" style=\"stroke:#009af9; stroke-width:4.4; stroke-opacity:1\"/>\n",
       "<line clip-path=\"url(#clip892)\" x1=\"1757.17\" y1=\"1438.03\" x2=\"1773.17\" y2=\"1422.03\" style=\"stroke:#009af9; stroke-width:4.4; stroke-opacity:1\"/>\n",
       "<line clip-path=\"url(#clip892)\" x1=\"1587.35\" y1=\"1438.03\" x2=\"1571.35\" y2=\"1422.03\" style=\"stroke:#009af9; stroke-width:4.4; stroke-opacity:1\"/>\n",
       "<line clip-path=\"url(#clip892)\" x1=\"1587.35\" y1=\"1438.03\" x2=\"1571.35\" y2=\"1454.03\" style=\"stroke:#009af9; stroke-width:4.4; stroke-opacity:1\"/>\n",
       "<line clip-path=\"url(#clip892)\" x1=\"1587.35\" y1=\"1438.03\" x2=\"1603.35\" y2=\"1454.03\" style=\"stroke:#009af9; stroke-width:4.4; stroke-opacity:1\"/>\n",
       "<line clip-path=\"url(#clip892)\" x1=\"1587.35\" y1=\"1438.03\" x2=\"1603.35\" y2=\"1422.03\" style=\"stroke:#009af9; stroke-width:4.4; stroke-opacity:1\"/>\n",
       "<line clip-path=\"url(#clip892)\" x1=\"2149.27\" y1=\"1438.03\" x2=\"2133.27\" y2=\"1422.03\" style=\"stroke:#009af9; stroke-width:4.4; stroke-opacity:1\"/>\n",
       "<line clip-path=\"url(#clip892)\" x1=\"2149.27\" y1=\"1438.03\" x2=\"2133.27\" y2=\"1454.03\" style=\"stroke:#009af9; stroke-width:4.4; stroke-opacity:1\"/>\n",
       "<line clip-path=\"url(#clip892)\" x1=\"2149.27\" y1=\"1438.03\" x2=\"2165.27\" y2=\"1454.03\" style=\"stroke:#009af9; stroke-width:4.4; stroke-opacity:1\"/>\n",
       "<line clip-path=\"url(#clip892)\" x1=\"2149.27\" y1=\"1438.03\" x2=\"2165.27\" y2=\"1422.03\" style=\"stroke:#009af9; stroke-width:4.4; stroke-opacity:1\"/>\n",
       "<line clip-path=\"url(#clip892)\" x1=\"1128.31\" y1=\"1438.03\" x2=\"1112.31\" y2=\"1422.03\" style=\"stroke:#009af9; stroke-width:4.4; stroke-opacity:1\"/>\n",
       "<line clip-path=\"url(#clip892)\" x1=\"1128.31\" y1=\"1438.03\" x2=\"1112.31\" y2=\"1454.03\" style=\"stroke:#009af9; stroke-width:4.4; stroke-opacity:1\"/>\n",
       "<line clip-path=\"url(#clip892)\" x1=\"1128.31\" y1=\"1438.03\" x2=\"1144.31\" y2=\"1454.03\" style=\"stroke:#009af9; stroke-width:4.4; stroke-opacity:1\"/>\n",
       "<line clip-path=\"url(#clip892)\" x1=\"1128.31\" y1=\"1438.03\" x2=\"1144.31\" y2=\"1422.03\" style=\"stroke:#009af9; stroke-width:4.4; stroke-opacity:1\"/>\n",
       "<line clip-path=\"url(#clip892)\" x1=\"2485.75\" y1=\"1438.03\" x2=\"2469.75\" y2=\"1422.03\" style=\"stroke:#009af9; stroke-width:4.4; stroke-opacity:1\"/>\n",
       "<line clip-path=\"url(#clip892)\" x1=\"2485.75\" y1=\"1438.03\" x2=\"2469.75\" y2=\"1454.03\" style=\"stroke:#009af9; stroke-width:4.4; stroke-opacity:1\"/>\n",
       "<line clip-path=\"url(#clip892)\" x1=\"2485.75\" y1=\"1438.03\" x2=\"2501.75\" y2=\"1454.03\" style=\"stroke:#009af9; stroke-width:4.4; stroke-opacity:1\"/>\n",
       "<line clip-path=\"url(#clip892)\" x1=\"2485.75\" y1=\"1438.03\" x2=\"2501.75\" y2=\"1422.03\" style=\"stroke:#009af9; stroke-width:4.4; stroke-opacity:1\"/>\n",
       "<line clip-path=\"url(#clip892)\" x1=\"2845.38\" y1=\"1438.03\" x2=\"2829.38\" y2=\"1422.03\" style=\"stroke:#009af9; stroke-width:4.4; stroke-opacity:1\"/>\n",
       "<line clip-path=\"url(#clip892)\" x1=\"2845.38\" y1=\"1438.03\" x2=\"2829.38\" y2=\"1454.03\" style=\"stroke:#009af9; stroke-width:4.4; stroke-opacity:1\"/>\n",
       "<line clip-path=\"url(#clip892)\" x1=\"2845.38\" y1=\"1438.03\" x2=\"2861.38\" y2=\"1454.03\" style=\"stroke:#009af9; stroke-width:4.4; stroke-opacity:1\"/>\n",
       "<line clip-path=\"url(#clip892)\" x1=\"2845.38\" y1=\"1438.03\" x2=\"2861.38\" y2=\"1422.03\" style=\"stroke:#009af9; stroke-width:4.4; stroke-opacity:1\"/>\n",
       "<line clip-path=\"url(#clip892)\" x1=\"1490.39\" y1=\"1438.03\" x2=\"1474.39\" y2=\"1422.03\" style=\"stroke:#009af9; stroke-width:4.4; stroke-opacity:1\"/>\n",
       "<line clip-path=\"url(#clip892)\" x1=\"1490.39\" y1=\"1438.03\" x2=\"1474.39\" y2=\"1454.03\" style=\"stroke:#009af9; stroke-width:4.4; stroke-opacity:1\"/>\n",
       "<line clip-path=\"url(#clip892)\" x1=\"1490.39\" y1=\"1438.03\" x2=\"1506.39\" y2=\"1454.03\" style=\"stroke:#009af9; stroke-width:4.4; stroke-opacity:1\"/>\n",
       "<line clip-path=\"url(#clip892)\" x1=\"1490.39\" y1=\"1438.03\" x2=\"1506.39\" y2=\"1422.03\" style=\"stroke:#009af9; stroke-width:4.4; stroke-opacity:1\"/>\n",
       "<line clip-path=\"url(#clip892)\" x1=\"2048.96\" y1=\"1438.03\" x2=\"2032.96\" y2=\"1422.03\" style=\"stroke:#009af9; stroke-width:4.4; stroke-opacity:1\"/>\n",
       "<line clip-path=\"url(#clip892)\" x1=\"2048.96\" y1=\"1438.03\" x2=\"2032.96\" y2=\"1454.03\" style=\"stroke:#009af9; stroke-width:4.4; stroke-opacity:1\"/>\n",
       "<line clip-path=\"url(#clip892)\" x1=\"2048.96\" y1=\"1438.03\" x2=\"2064.96\" y2=\"1454.03\" style=\"stroke:#009af9; stroke-width:4.4; stroke-opacity:1\"/>\n",
       "<line clip-path=\"url(#clip892)\" x1=\"2048.96\" y1=\"1438.03\" x2=\"2064.96\" y2=\"1422.03\" style=\"stroke:#009af9; stroke-width:4.4; stroke-opacity:1\"/>\n",
       "<line clip-path=\"url(#clip892)\" x1=\"1181.89\" y1=\"1438.03\" x2=\"1165.89\" y2=\"1422.03\" style=\"stroke:#009af9; stroke-width:4.4; stroke-opacity:1\"/>\n",
       "<line clip-path=\"url(#clip892)\" x1=\"1181.89\" y1=\"1438.03\" x2=\"1165.89\" y2=\"1454.03\" style=\"stroke:#009af9; stroke-width:4.4; stroke-opacity:1\"/>\n",
       "<line clip-path=\"url(#clip892)\" x1=\"1181.89\" y1=\"1438.03\" x2=\"1197.89\" y2=\"1454.03\" style=\"stroke:#009af9; stroke-width:4.4; stroke-opacity:1\"/>\n",
       "<line clip-path=\"url(#clip892)\" x1=\"1181.89\" y1=\"1438.03\" x2=\"1197.89\" y2=\"1422.03\" style=\"stroke:#009af9; stroke-width:4.4; stroke-opacity:1\"/>\n",
       "<line clip-path=\"url(#clip892)\" x1=\"2258.53\" y1=\"1438.03\" x2=\"2242.53\" y2=\"1422.03\" style=\"stroke:#009af9; stroke-width:4.4; stroke-opacity:1\"/>\n",
       "<line clip-path=\"url(#clip892)\" x1=\"2258.53\" y1=\"1438.03\" x2=\"2242.53\" y2=\"1454.03\" style=\"stroke:#009af9; stroke-width:4.4; stroke-opacity:1\"/>\n",
       "<line clip-path=\"url(#clip892)\" x1=\"2258.53\" y1=\"1438.03\" x2=\"2274.53\" y2=\"1454.03\" style=\"stroke:#009af9; stroke-width:4.4; stroke-opacity:1\"/>\n",
       "<line clip-path=\"url(#clip892)\" x1=\"2258.53\" y1=\"1438.03\" x2=\"2274.53\" y2=\"1422.03\" style=\"stroke:#009af9; stroke-width:4.4; stroke-opacity:1\"/>\n",
       "<line clip-path=\"url(#clip892)\" x1=\"1603.72\" y1=\"1438.03\" x2=\"1587.72\" y2=\"1422.03\" style=\"stroke:#009af9; stroke-width:4.4; stroke-opacity:1\"/>\n",
       "<line clip-path=\"url(#clip892)\" x1=\"1603.72\" y1=\"1438.03\" x2=\"1587.72\" y2=\"1454.03\" style=\"stroke:#009af9; stroke-width:4.4; stroke-opacity:1\"/>\n",
       "<line clip-path=\"url(#clip892)\" x1=\"1603.72\" y1=\"1438.03\" x2=\"1619.72\" y2=\"1454.03\" style=\"stroke:#009af9; stroke-width:4.4; stroke-opacity:1\"/>\n",
       "<line clip-path=\"url(#clip892)\" x1=\"1603.72\" y1=\"1438.03\" x2=\"1619.72\" y2=\"1422.03\" style=\"stroke:#009af9; stroke-width:4.4; stroke-opacity:1\"/>\n",
       "<line clip-path=\"url(#clip892)\" x1=\"519.707\" y1=\"1438.03\" x2=\"503.707\" y2=\"1422.03\" style=\"stroke:#009af9; stroke-width:4.4; stroke-opacity:1\"/>\n",
       "<line clip-path=\"url(#clip892)\" x1=\"519.707\" y1=\"1438.03\" x2=\"503.707\" y2=\"1454.03\" style=\"stroke:#009af9; stroke-width:4.4; stroke-opacity:1\"/>\n",
       "<line clip-path=\"url(#clip892)\" x1=\"519.707\" y1=\"1438.03\" x2=\"535.707\" y2=\"1454.03\" style=\"stroke:#009af9; stroke-width:4.4; stroke-opacity:1\"/>\n",
       "<line clip-path=\"url(#clip892)\" x1=\"519.707\" y1=\"1438.03\" x2=\"535.707\" y2=\"1422.03\" style=\"stroke:#009af9; stroke-width:4.4; stroke-opacity:1\"/>\n",
       "<line clip-path=\"url(#clip892)\" x1=\"1286.03\" y1=\"1438.03\" x2=\"1270.03\" y2=\"1422.03\" style=\"stroke:#009af9; stroke-width:4.4; stroke-opacity:1\"/>\n",
       "<line clip-path=\"url(#clip892)\" x1=\"1286.03\" y1=\"1438.03\" x2=\"1270.03\" y2=\"1454.03\" style=\"stroke:#009af9; stroke-width:4.4; stroke-opacity:1\"/>\n",
       "<line clip-path=\"url(#clip892)\" x1=\"1286.03\" y1=\"1438.03\" x2=\"1302.03\" y2=\"1454.03\" style=\"stroke:#009af9; stroke-width:4.4; stroke-opacity:1\"/>\n",
       "<line clip-path=\"url(#clip892)\" x1=\"1286.03\" y1=\"1438.03\" x2=\"1302.03\" y2=\"1422.03\" style=\"stroke:#009af9; stroke-width:4.4; stroke-opacity:1\"/>\n",
       "<line clip-path=\"url(#clip892)\" x1=\"2224.07\" y1=\"1438.03\" x2=\"2208.07\" y2=\"1422.03\" style=\"stroke:#009af9; stroke-width:4.4; stroke-opacity:1\"/>\n",
       "<line clip-path=\"url(#clip892)\" x1=\"2224.07\" y1=\"1438.03\" x2=\"2208.07\" y2=\"1454.03\" style=\"stroke:#009af9; stroke-width:4.4; stroke-opacity:1\"/>\n",
       "<line clip-path=\"url(#clip892)\" x1=\"2224.07\" y1=\"1438.03\" x2=\"2240.07\" y2=\"1454.03\" style=\"stroke:#009af9; stroke-width:4.4; stroke-opacity:1\"/>\n",
       "<line clip-path=\"url(#clip892)\" x1=\"2224.07\" y1=\"1438.03\" x2=\"2240.07\" y2=\"1422.03\" style=\"stroke:#009af9; stroke-width:4.4; stroke-opacity:1\"/>\n",
       "<line clip-path=\"url(#clip892)\" x1=\"2219.31\" y1=\"1438.03\" x2=\"2203.31\" y2=\"1422.03\" style=\"stroke:#009af9; stroke-width:4.4; stroke-opacity:1\"/>\n",
       "<line clip-path=\"url(#clip892)\" x1=\"2219.31\" y1=\"1438.03\" x2=\"2203.31\" y2=\"1454.03\" style=\"stroke:#009af9; stroke-width:4.4; stroke-opacity:1\"/>\n",
       "<line clip-path=\"url(#clip892)\" x1=\"2219.31\" y1=\"1438.03\" x2=\"2235.31\" y2=\"1454.03\" style=\"stroke:#009af9; stroke-width:4.4; stroke-opacity:1\"/>\n",
       "<line clip-path=\"url(#clip892)\" x1=\"2219.31\" y1=\"1438.03\" x2=\"2235.31\" y2=\"1422.03\" style=\"stroke:#009af9; stroke-width:4.4; stroke-opacity:1\"/>\n",
       "<line clip-path=\"url(#clip892)\" x1=\"2016.42\" y1=\"1438.03\" x2=\"2000.42\" y2=\"1422.03\" style=\"stroke:#009af9; stroke-width:4.4; stroke-opacity:1\"/>\n",
       "<line clip-path=\"url(#clip892)\" x1=\"2016.42\" y1=\"1438.03\" x2=\"2000.42\" y2=\"1454.03\" style=\"stroke:#009af9; stroke-width:4.4; stroke-opacity:1\"/>\n",
       "<line clip-path=\"url(#clip892)\" x1=\"2016.42\" y1=\"1438.03\" x2=\"2032.42\" y2=\"1454.03\" style=\"stroke:#009af9; stroke-width:4.4; stroke-opacity:1\"/>\n",
       "<line clip-path=\"url(#clip892)\" x1=\"2016.42\" y1=\"1438.03\" x2=\"2032.42\" y2=\"1422.03\" style=\"stroke:#009af9; stroke-width:4.4; stroke-opacity:1\"/>\n",
       "<line clip-path=\"url(#clip892)\" x1=\"3001.56\" y1=\"1438.03\" x2=\"2985.56\" y2=\"1422.03\" style=\"stroke:#009af9; stroke-width:4.4; stroke-opacity:1\"/>\n",
       "<line clip-path=\"url(#clip892)\" x1=\"3001.56\" y1=\"1438.03\" x2=\"2985.56\" y2=\"1454.03\" style=\"stroke:#009af9; stroke-width:4.4; stroke-opacity:1\"/>\n",
       "<line clip-path=\"url(#clip892)\" x1=\"3001.56\" y1=\"1438.03\" x2=\"3017.56\" y2=\"1454.03\" style=\"stroke:#009af9; stroke-width:4.4; stroke-opacity:1\"/>\n",
       "<line clip-path=\"url(#clip892)\" x1=\"3001.56\" y1=\"1438.03\" x2=\"3017.56\" y2=\"1422.03\" style=\"stroke:#009af9; stroke-width:4.4; stroke-opacity:1\"/>\n",
       "<line clip-path=\"url(#clip892)\" x1=\"2858.32\" y1=\"1438.03\" x2=\"2842.32\" y2=\"1422.03\" style=\"stroke:#009af9; stroke-width:4.4; stroke-opacity:1\"/>\n",
       "<line clip-path=\"url(#clip892)\" x1=\"2858.32\" y1=\"1438.03\" x2=\"2842.32\" y2=\"1454.03\" style=\"stroke:#009af9; stroke-width:4.4; stroke-opacity:1\"/>\n",
       "<line clip-path=\"url(#clip892)\" x1=\"2858.32\" y1=\"1438.03\" x2=\"2874.32\" y2=\"1454.03\" style=\"stroke:#009af9; stroke-width:4.4; stroke-opacity:1\"/>\n",
       "<line clip-path=\"url(#clip892)\" x1=\"2858.32\" y1=\"1438.03\" x2=\"2874.32\" y2=\"1422.03\" style=\"stroke:#009af9; stroke-width:4.4; stroke-opacity:1\"/>\n",
       "<line clip-path=\"url(#clip892)\" x1=\"3219.74\" y1=\"1438.03\" x2=\"3203.74\" y2=\"1422.03\" style=\"stroke:#009af9; stroke-width:4.4; stroke-opacity:1\"/>\n",
       "<line clip-path=\"url(#clip892)\" x1=\"3219.74\" y1=\"1438.03\" x2=\"3203.74\" y2=\"1454.03\" style=\"stroke:#009af9; stroke-width:4.4; stroke-opacity:1\"/>\n",
       "<line clip-path=\"url(#clip892)\" x1=\"3219.74\" y1=\"1438.03\" x2=\"3235.74\" y2=\"1454.03\" style=\"stroke:#009af9; stroke-width:4.4; stroke-opacity:1\"/>\n",
       "<line clip-path=\"url(#clip892)\" x1=\"3219.74\" y1=\"1438.03\" x2=\"3235.74\" y2=\"1422.03\" style=\"stroke:#009af9; stroke-width:4.4; stroke-opacity:1\"/>\n",
       "<line clip-path=\"url(#clip892)\" x1=\"1552.18\" y1=\"1438.03\" x2=\"1536.18\" y2=\"1422.03\" style=\"stroke:#009af9; stroke-width:4.4; stroke-opacity:1\"/>\n",
       "<line clip-path=\"url(#clip892)\" x1=\"1552.18\" y1=\"1438.03\" x2=\"1536.18\" y2=\"1454.03\" style=\"stroke:#009af9; stroke-width:4.4; stroke-opacity:1\"/>\n",
       "<line clip-path=\"url(#clip892)\" x1=\"1552.18\" y1=\"1438.03\" x2=\"1568.18\" y2=\"1454.03\" style=\"stroke:#009af9; stroke-width:4.4; stroke-opacity:1\"/>\n",
       "<line clip-path=\"url(#clip892)\" x1=\"1552.18\" y1=\"1438.03\" x2=\"1568.18\" y2=\"1422.03\" style=\"stroke:#009af9; stroke-width:4.4; stroke-opacity:1\"/>\n",
       "<line clip-path=\"url(#clip892)\" x1=\"2156.61\" y1=\"1438.03\" x2=\"2140.61\" y2=\"1422.03\" style=\"stroke:#009af9; stroke-width:4.4; stroke-opacity:1\"/>\n",
       "<line clip-path=\"url(#clip892)\" x1=\"2156.61\" y1=\"1438.03\" x2=\"2140.61\" y2=\"1454.03\" style=\"stroke:#009af9; stroke-width:4.4; stroke-opacity:1\"/>\n",
       "<line clip-path=\"url(#clip892)\" x1=\"2156.61\" y1=\"1438.03\" x2=\"2172.61\" y2=\"1454.03\" style=\"stroke:#009af9; stroke-width:4.4; stroke-opacity:1\"/>\n",
       "<line clip-path=\"url(#clip892)\" x1=\"2156.61\" y1=\"1438.03\" x2=\"2172.61\" y2=\"1422.03\" style=\"stroke:#009af9; stroke-width:4.4; stroke-opacity:1\"/>\n",
       "<line clip-path=\"url(#clip892)\" x1=\"3459.5\" y1=\"1438.03\" x2=\"3443.5\" y2=\"1422.03\" style=\"stroke:#009af9; stroke-width:4.4; stroke-opacity:1\"/>\n",
       "<line clip-path=\"url(#clip892)\" x1=\"3459.5\" y1=\"1438.03\" x2=\"3443.5\" y2=\"1454.03\" style=\"stroke:#009af9; stroke-width:4.4; stroke-opacity:1\"/>\n",
       "<line clip-path=\"url(#clip892)\" x1=\"3459.5\" y1=\"1438.03\" x2=\"3475.5\" y2=\"1454.03\" style=\"stroke:#009af9; stroke-width:4.4; stroke-opacity:1\"/>\n",
       "<line clip-path=\"url(#clip892)\" x1=\"3459.5\" y1=\"1438.03\" x2=\"3475.5\" y2=\"1422.03\" style=\"stroke:#009af9; stroke-width:4.4; stroke-opacity:1\"/>\n",
       "<line clip-path=\"url(#clip892)\" x1=\"2765.78\" y1=\"1438.03\" x2=\"2749.78\" y2=\"1422.03\" style=\"stroke:#009af9; stroke-width:4.4; stroke-opacity:1\"/>\n",
       "<line clip-path=\"url(#clip892)\" x1=\"2765.78\" y1=\"1438.03\" x2=\"2749.78\" y2=\"1454.03\" style=\"stroke:#009af9; stroke-width:4.4; stroke-opacity:1\"/>\n",
       "<line clip-path=\"url(#clip892)\" x1=\"2765.78\" y1=\"1438.03\" x2=\"2781.78\" y2=\"1454.03\" style=\"stroke:#009af9; stroke-width:4.4; stroke-opacity:1\"/>\n",
       "<line clip-path=\"url(#clip892)\" x1=\"2765.78\" y1=\"1438.03\" x2=\"2781.78\" y2=\"1422.03\" style=\"stroke:#009af9; stroke-width:4.4; stroke-opacity:1\"/>\n",
       "<line clip-path=\"url(#clip892)\" x1=\"2590.88\" y1=\"1438.03\" x2=\"2574.88\" y2=\"1422.03\" style=\"stroke:#009af9; stroke-width:4.4; stroke-opacity:1\"/>\n",
       "<line clip-path=\"url(#clip892)\" x1=\"2590.88\" y1=\"1438.03\" x2=\"2574.88\" y2=\"1454.03\" style=\"stroke:#009af9; stroke-width:4.4; stroke-opacity:1\"/>\n",
       "<line clip-path=\"url(#clip892)\" x1=\"2590.88\" y1=\"1438.03\" x2=\"2606.88\" y2=\"1454.03\" style=\"stroke:#009af9; stroke-width:4.4; stroke-opacity:1\"/>\n",
       "<line clip-path=\"url(#clip892)\" x1=\"2590.88\" y1=\"1438.03\" x2=\"2606.88\" y2=\"1422.03\" style=\"stroke:#009af9; stroke-width:4.4; stroke-opacity:1\"/>\n",
       "<line clip-path=\"url(#clip892)\" x1=\"1774.59\" y1=\"1438.03\" x2=\"1758.59\" y2=\"1422.03\" style=\"stroke:#009af9; stroke-width:4.4; stroke-opacity:1\"/>\n",
       "<line clip-path=\"url(#clip892)\" x1=\"1774.59\" y1=\"1438.03\" x2=\"1758.59\" y2=\"1454.03\" style=\"stroke:#009af9; stroke-width:4.4; stroke-opacity:1\"/>\n",
       "<line clip-path=\"url(#clip892)\" x1=\"1774.59\" y1=\"1438.03\" x2=\"1790.59\" y2=\"1454.03\" style=\"stroke:#009af9; stroke-width:4.4; stroke-opacity:1\"/>\n",
       "<line clip-path=\"url(#clip892)\" x1=\"1774.59\" y1=\"1438.03\" x2=\"1790.59\" y2=\"1422.03\" style=\"stroke:#009af9; stroke-width:4.4; stroke-opacity:1\"/>\n",
       "<line clip-path=\"url(#clip892)\" x1=\"1957.8\" y1=\"1438.03\" x2=\"1941.8\" y2=\"1422.03\" style=\"stroke:#009af9; stroke-width:4.4; stroke-opacity:1\"/>\n",
       "<line clip-path=\"url(#clip892)\" x1=\"1957.8\" y1=\"1438.03\" x2=\"1941.8\" y2=\"1454.03\" style=\"stroke:#009af9; stroke-width:4.4; stroke-opacity:1\"/>\n",
       "<line clip-path=\"url(#clip892)\" x1=\"1957.8\" y1=\"1438.03\" x2=\"1973.8\" y2=\"1454.03\" style=\"stroke:#009af9; stroke-width:4.4; stroke-opacity:1\"/>\n",
       "<line clip-path=\"url(#clip892)\" x1=\"1957.8\" y1=\"1438.03\" x2=\"1973.8\" y2=\"1422.03\" style=\"stroke:#009af9; stroke-width:4.4; stroke-opacity:1\"/>\n",
       "<line clip-path=\"url(#clip892)\" x1=\"1830.9\" y1=\"1438.03\" x2=\"1814.9\" y2=\"1422.03\" style=\"stroke:#009af9; stroke-width:4.4; stroke-opacity:1\"/>\n",
       "<line clip-path=\"url(#clip892)\" x1=\"1830.9\" y1=\"1438.03\" x2=\"1814.9\" y2=\"1454.03\" style=\"stroke:#009af9; stroke-width:4.4; stroke-opacity:1\"/>\n",
       "<line clip-path=\"url(#clip892)\" x1=\"1830.9\" y1=\"1438.03\" x2=\"1846.9\" y2=\"1454.03\" style=\"stroke:#009af9; stroke-width:4.4; stroke-opacity:1\"/>\n",
       "<line clip-path=\"url(#clip892)\" x1=\"1830.9\" y1=\"1438.03\" x2=\"1846.9\" y2=\"1422.03\" style=\"stroke:#009af9; stroke-width:4.4; stroke-opacity:1\"/>\n",
       "<line clip-path=\"url(#clip892)\" x1=\"1628.21\" y1=\"1438.03\" x2=\"1612.21\" y2=\"1422.03\" style=\"stroke:#009af9; stroke-width:4.4; stroke-opacity:1\"/>\n",
       "<line clip-path=\"url(#clip892)\" x1=\"1628.21\" y1=\"1438.03\" x2=\"1612.21\" y2=\"1454.03\" style=\"stroke:#009af9; stroke-width:4.4; stroke-opacity:1\"/>\n",
       "<line clip-path=\"url(#clip892)\" x1=\"1628.21\" y1=\"1438.03\" x2=\"1644.21\" y2=\"1454.03\" style=\"stroke:#009af9; stroke-width:4.4; stroke-opacity:1\"/>\n",
       "<line clip-path=\"url(#clip892)\" x1=\"1628.21\" y1=\"1438.03\" x2=\"1644.21\" y2=\"1422.03\" style=\"stroke:#009af9; stroke-width:4.4; stroke-opacity:1\"/>\n",
       "<line clip-path=\"url(#clip892)\" x1=\"1120.28\" y1=\"1438.03\" x2=\"1104.28\" y2=\"1422.03\" style=\"stroke:#009af9; stroke-width:4.4; stroke-opacity:1\"/>\n",
       "<line clip-path=\"url(#clip892)\" x1=\"1120.28\" y1=\"1438.03\" x2=\"1104.28\" y2=\"1454.03\" style=\"stroke:#009af9; stroke-width:4.4; stroke-opacity:1\"/>\n",
       "<line clip-path=\"url(#clip892)\" x1=\"1120.28\" y1=\"1438.03\" x2=\"1136.28\" y2=\"1454.03\" style=\"stroke:#009af9; stroke-width:4.4; stroke-opacity:1\"/>\n",
       "<line clip-path=\"url(#clip892)\" x1=\"1120.28\" y1=\"1438.03\" x2=\"1136.28\" y2=\"1422.03\" style=\"stroke:#009af9; stroke-width:4.4; stroke-opacity:1\"/>\n",
       "<line clip-path=\"url(#clip892)\" x1=\"366.105\" y1=\"1438.03\" x2=\"350.105\" y2=\"1422.03\" style=\"stroke:#009af9; stroke-width:4.4; stroke-opacity:1\"/>\n",
       "<line clip-path=\"url(#clip892)\" x1=\"366.105\" y1=\"1438.03\" x2=\"350.105\" y2=\"1454.03\" style=\"stroke:#009af9; stroke-width:4.4; stroke-opacity:1\"/>\n",
       "<line clip-path=\"url(#clip892)\" x1=\"366.105\" y1=\"1438.03\" x2=\"382.105\" y2=\"1454.03\" style=\"stroke:#009af9; stroke-width:4.4; stroke-opacity:1\"/>\n",
       "<line clip-path=\"url(#clip892)\" x1=\"366.105\" y1=\"1438.03\" x2=\"382.105\" y2=\"1422.03\" style=\"stroke:#009af9; stroke-width:4.4; stroke-opacity:1\"/>\n",
       "<line clip-path=\"url(#clip892)\" x1=\"2930.72\" y1=\"1438.03\" x2=\"2914.72\" y2=\"1422.03\" style=\"stroke:#009af9; stroke-width:4.4; stroke-opacity:1\"/>\n",
       "<line clip-path=\"url(#clip892)\" x1=\"2930.72\" y1=\"1438.03\" x2=\"2914.72\" y2=\"1454.03\" style=\"stroke:#009af9; stroke-width:4.4; stroke-opacity:1\"/>\n",
       "<line clip-path=\"url(#clip892)\" x1=\"2930.72\" y1=\"1438.03\" x2=\"2946.72\" y2=\"1454.03\" style=\"stroke:#009af9; stroke-width:4.4; stroke-opacity:1\"/>\n",
       "<line clip-path=\"url(#clip892)\" x1=\"2930.72\" y1=\"1438.03\" x2=\"2946.72\" y2=\"1422.03\" style=\"stroke:#009af9; stroke-width:4.4; stroke-opacity:1\"/>\n",
       "<line clip-path=\"url(#clip892)\" x1=\"603.626\" y1=\"1438.03\" x2=\"587.626\" y2=\"1422.03\" style=\"stroke:#009af9; stroke-width:4.4; stroke-opacity:1\"/>\n",
       "<line clip-path=\"url(#clip892)\" x1=\"603.626\" y1=\"1438.03\" x2=\"587.626\" y2=\"1454.03\" style=\"stroke:#009af9; stroke-width:4.4; stroke-opacity:1\"/>\n",
       "<line clip-path=\"url(#clip892)\" x1=\"603.626\" y1=\"1438.03\" x2=\"619.626\" y2=\"1454.03\" style=\"stroke:#009af9; stroke-width:4.4; stroke-opacity:1\"/>\n",
       "<line clip-path=\"url(#clip892)\" x1=\"603.626\" y1=\"1438.03\" x2=\"619.626\" y2=\"1422.03\" style=\"stroke:#009af9; stroke-width:4.4; stroke-opacity:1\"/>\n",
       "<line clip-path=\"url(#clip892)\" x1=\"1030.85\" y1=\"1438.03\" x2=\"1014.85\" y2=\"1422.03\" style=\"stroke:#009af9; stroke-width:4.4; stroke-opacity:1\"/>\n",
       "<line clip-path=\"url(#clip892)\" x1=\"1030.85\" y1=\"1438.03\" x2=\"1014.85\" y2=\"1454.03\" style=\"stroke:#009af9; stroke-width:4.4; stroke-opacity:1\"/>\n",
       "<line clip-path=\"url(#clip892)\" x1=\"1030.85\" y1=\"1438.03\" x2=\"1046.85\" y2=\"1454.03\" style=\"stroke:#009af9; stroke-width:4.4; stroke-opacity:1\"/>\n",
       "<line clip-path=\"url(#clip892)\" x1=\"1030.85\" y1=\"1438.03\" x2=\"1046.85\" y2=\"1422.03\" style=\"stroke:#009af9; stroke-width:4.4; stroke-opacity:1\"/>\n",
       "<line clip-path=\"url(#clip892)\" x1=\"1693.46\" y1=\"1438.03\" x2=\"1677.46\" y2=\"1422.03\" style=\"stroke:#009af9; stroke-width:4.4; stroke-opacity:1\"/>\n",
       "<line clip-path=\"url(#clip892)\" x1=\"1693.46\" y1=\"1438.03\" x2=\"1677.46\" y2=\"1454.03\" style=\"stroke:#009af9; stroke-width:4.4; stroke-opacity:1\"/>\n",
       "<line clip-path=\"url(#clip892)\" x1=\"1693.46\" y1=\"1438.03\" x2=\"1709.46\" y2=\"1454.03\" style=\"stroke:#009af9; stroke-width:4.4; stroke-opacity:1\"/>\n",
       "<line clip-path=\"url(#clip892)\" x1=\"1693.46\" y1=\"1438.03\" x2=\"1709.46\" y2=\"1422.03\" style=\"stroke:#009af9; stroke-width:4.4; stroke-opacity:1\"/>\n",
       "<line clip-path=\"url(#clip892)\" x1=\"2132.14\" y1=\"1438.03\" x2=\"2116.14\" y2=\"1422.03\" style=\"stroke:#009af9; stroke-width:4.4; stroke-opacity:1\"/>\n",
       "<line clip-path=\"url(#clip892)\" x1=\"2132.14\" y1=\"1438.03\" x2=\"2116.14\" y2=\"1454.03\" style=\"stroke:#009af9; stroke-width:4.4; stroke-opacity:1\"/>\n",
       "<line clip-path=\"url(#clip892)\" x1=\"2132.14\" y1=\"1438.03\" x2=\"2148.14\" y2=\"1454.03\" style=\"stroke:#009af9; stroke-width:4.4; stroke-opacity:1\"/>\n",
       "<line clip-path=\"url(#clip892)\" x1=\"2132.14\" y1=\"1438.03\" x2=\"2148.14\" y2=\"1422.03\" style=\"stroke:#009af9; stroke-width:4.4; stroke-opacity:1\"/>\n",
       "<line clip-path=\"url(#clip892)\" x1=\"854.667\" y1=\"1438.03\" x2=\"838.667\" y2=\"1422.03\" style=\"stroke:#009af9; stroke-width:4.4; stroke-opacity:1\"/>\n",
       "<line clip-path=\"url(#clip892)\" x1=\"854.667\" y1=\"1438.03\" x2=\"838.667\" y2=\"1454.03\" style=\"stroke:#009af9; stroke-width:4.4; stroke-opacity:1\"/>\n",
       "<line clip-path=\"url(#clip892)\" x1=\"854.667\" y1=\"1438.03\" x2=\"870.667\" y2=\"1454.03\" style=\"stroke:#009af9; stroke-width:4.4; stroke-opacity:1\"/>\n",
       "<line clip-path=\"url(#clip892)\" x1=\"854.667\" y1=\"1438.03\" x2=\"870.667\" y2=\"1422.03\" style=\"stroke:#009af9; stroke-width:4.4; stroke-opacity:1\"/>\n",
       "<line clip-path=\"url(#clip892)\" x1=\"1175\" y1=\"1438.03\" x2=\"1159\" y2=\"1422.03\" style=\"stroke:#009af9; stroke-width:4.4; stroke-opacity:1\"/>\n",
       "<line clip-path=\"url(#clip892)\" x1=\"1175\" y1=\"1438.03\" x2=\"1159\" y2=\"1454.03\" style=\"stroke:#009af9; stroke-width:4.4; stroke-opacity:1\"/>\n",
       "<line clip-path=\"url(#clip892)\" x1=\"1175\" y1=\"1438.03\" x2=\"1191\" y2=\"1454.03\" style=\"stroke:#009af9; stroke-width:4.4; stroke-opacity:1\"/>\n",
       "<line clip-path=\"url(#clip892)\" x1=\"1175\" y1=\"1438.03\" x2=\"1191\" y2=\"1422.03\" style=\"stroke:#009af9; stroke-width:4.4; stroke-opacity:1\"/>\n",
       "<line clip-path=\"url(#clip892)\" x1=\"1695.34\" y1=\"1438.03\" x2=\"1679.34\" y2=\"1422.03\" style=\"stroke:#009af9; stroke-width:4.4; stroke-opacity:1\"/>\n",
       "<line clip-path=\"url(#clip892)\" x1=\"1695.34\" y1=\"1438.03\" x2=\"1679.34\" y2=\"1454.03\" style=\"stroke:#009af9; stroke-width:4.4; stroke-opacity:1\"/>\n",
       "<line clip-path=\"url(#clip892)\" x1=\"1695.34\" y1=\"1438.03\" x2=\"1711.34\" y2=\"1454.03\" style=\"stroke:#009af9; stroke-width:4.4; stroke-opacity:1\"/>\n",
       "<line clip-path=\"url(#clip892)\" x1=\"1695.34\" y1=\"1438.03\" x2=\"1711.34\" y2=\"1422.03\" style=\"stroke:#009af9; stroke-width:4.4; stroke-opacity:1\"/>\n",
       "<line clip-path=\"url(#clip892)\" x1=\"2707.92\" y1=\"1438.03\" x2=\"2691.92\" y2=\"1422.03\" style=\"stroke:#009af9; stroke-width:4.4; stroke-opacity:1\"/>\n",
       "<line clip-path=\"url(#clip892)\" x1=\"2707.92\" y1=\"1438.03\" x2=\"2691.92\" y2=\"1454.03\" style=\"stroke:#009af9; stroke-width:4.4; stroke-opacity:1\"/>\n",
       "<line clip-path=\"url(#clip892)\" x1=\"2707.92\" y1=\"1438.03\" x2=\"2723.92\" y2=\"1454.03\" style=\"stroke:#009af9; stroke-width:4.4; stroke-opacity:1\"/>\n",
       "<line clip-path=\"url(#clip892)\" x1=\"2707.92\" y1=\"1438.03\" x2=\"2723.92\" y2=\"1422.03\" style=\"stroke:#009af9; stroke-width:4.4; stroke-opacity:1\"/>\n",
       "<line clip-path=\"url(#clip892)\" x1=\"903.628\" y1=\"1438.03\" x2=\"887.628\" y2=\"1422.03\" style=\"stroke:#009af9; stroke-width:4.4; stroke-opacity:1\"/>\n",
       "<line clip-path=\"url(#clip892)\" x1=\"903.628\" y1=\"1438.03\" x2=\"887.628\" y2=\"1454.03\" style=\"stroke:#009af9; stroke-width:4.4; stroke-opacity:1\"/>\n",
       "<line clip-path=\"url(#clip892)\" x1=\"903.628\" y1=\"1438.03\" x2=\"919.628\" y2=\"1454.03\" style=\"stroke:#009af9; stroke-width:4.4; stroke-opacity:1\"/>\n",
       "<line clip-path=\"url(#clip892)\" x1=\"903.628\" y1=\"1438.03\" x2=\"919.628\" y2=\"1422.03\" style=\"stroke:#009af9; stroke-width:4.4; stroke-opacity:1\"/>\n",
       "<line clip-path=\"url(#clip892)\" x1=\"2026.96\" y1=\"1438.03\" x2=\"2010.96\" y2=\"1422.03\" style=\"stroke:#009af9; stroke-width:4.4; stroke-opacity:1\"/>\n",
       "<line clip-path=\"url(#clip892)\" x1=\"2026.96\" y1=\"1438.03\" x2=\"2010.96\" y2=\"1454.03\" style=\"stroke:#009af9; stroke-width:4.4; stroke-opacity:1\"/>\n",
       "<line clip-path=\"url(#clip892)\" x1=\"2026.96\" y1=\"1438.03\" x2=\"2042.96\" y2=\"1454.03\" style=\"stroke:#009af9; stroke-width:4.4; stroke-opacity:1\"/>\n",
       "<line clip-path=\"url(#clip892)\" x1=\"2026.96\" y1=\"1438.03\" x2=\"2042.96\" y2=\"1422.03\" style=\"stroke:#009af9; stroke-width:4.4; stroke-opacity:1\"/>\n",
       "<line clip-path=\"url(#clip892)\" x1=\"2630.93\" y1=\"1438.03\" x2=\"2614.93\" y2=\"1422.03\" style=\"stroke:#009af9; stroke-width:4.4; stroke-opacity:1\"/>\n",
       "<line clip-path=\"url(#clip892)\" x1=\"2630.93\" y1=\"1438.03\" x2=\"2614.93\" y2=\"1454.03\" style=\"stroke:#009af9; stroke-width:4.4; stroke-opacity:1\"/>\n",
       "<line clip-path=\"url(#clip892)\" x1=\"2630.93\" y1=\"1438.03\" x2=\"2646.93\" y2=\"1454.03\" style=\"stroke:#009af9; stroke-width:4.4; stroke-opacity:1\"/>\n",
       "<line clip-path=\"url(#clip892)\" x1=\"2630.93\" y1=\"1438.03\" x2=\"2646.93\" y2=\"1422.03\" style=\"stroke:#009af9; stroke-width:4.4; stroke-opacity:1\"/>\n",
       "<line clip-path=\"url(#clip892)\" x1=\"1056.42\" y1=\"1438.03\" x2=\"1040.42\" y2=\"1422.03\" style=\"stroke:#009af9; stroke-width:4.4; stroke-opacity:1\"/>\n",
       "<line clip-path=\"url(#clip892)\" x1=\"1056.42\" y1=\"1438.03\" x2=\"1040.42\" y2=\"1454.03\" style=\"stroke:#009af9; stroke-width:4.4; stroke-opacity:1\"/>\n",
       "<line clip-path=\"url(#clip892)\" x1=\"1056.42\" y1=\"1438.03\" x2=\"1072.42\" y2=\"1454.03\" style=\"stroke:#009af9; stroke-width:4.4; stroke-opacity:1\"/>\n",
       "<line clip-path=\"url(#clip892)\" x1=\"1056.42\" y1=\"1438.03\" x2=\"1072.42\" y2=\"1422.03\" style=\"stroke:#009af9; stroke-width:4.4; stroke-opacity:1\"/>\n",
       "<line clip-path=\"url(#clip892)\" x1=\"2338.07\" y1=\"1438.03\" x2=\"2322.07\" y2=\"1422.03\" style=\"stroke:#009af9; stroke-width:4.4; stroke-opacity:1\"/>\n",
       "<line clip-path=\"url(#clip892)\" x1=\"2338.07\" y1=\"1438.03\" x2=\"2322.07\" y2=\"1454.03\" style=\"stroke:#009af9; stroke-width:4.4; stroke-opacity:1\"/>\n",
       "<line clip-path=\"url(#clip892)\" x1=\"2338.07\" y1=\"1438.03\" x2=\"2354.07\" y2=\"1454.03\" style=\"stroke:#009af9; stroke-width:4.4; stroke-opacity:1\"/>\n",
       "<line clip-path=\"url(#clip892)\" x1=\"2338.07\" y1=\"1438.03\" x2=\"2354.07\" y2=\"1422.03\" style=\"stroke:#009af9; stroke-width:4.4; stroke-opacity:1\"/>\n",
       "<line clip-path=\"url(#clip892)\" x1=\"1862.24\" y1=\"1438.03\" x2=\"1846.24\" y2=\"1422.03\" style=\"stroke:#009af9; stroke-width:4.4; stroke-opacity:1\"/>\n",
       "<line clip-path=\"url(#clip892)\" x1=\"1862.24\" y1=\"1438.03\" x2=\"1846.24\" y2=\"1454.03\" style=\"stroke:#009af9; stroke-width:4.4; stroke-opacity:1\"/>\n",
       "<line clip-path=\"url(#clip892)\" x1=\"1862.24\" y1=\"1438.03\" x2=\"1878.24\" y2=\"1454.03\" style=\"stroke:#009af9; stroke-width:4.4; stroke-opacity:1\"/>\n",
       "<line clip-path=\"url(#clip892)\" x1=\"1862.24\" y1=\"1438.03\" x2=\"1878.24\" y2=\"1422.03\" style=\"stroke:#009af9; stroke-width:4.4; stroke-opacity:1\"/>\n",
       "<line clip-path=\"url(#clip892)\" x1=\"1174.79\" y1=\"1438.03\" x2=\"1158.79\" y2=\"1422.03\" style=\"stroke:#009af9; stroke-width:4.4; stroke-opacity:1\"/>\n",
       "<line clip-path=\"url(#clip892)\" x1=\"1174.79\" y1=\"1438.03\" x2=\"1158.79\" y2=\"1454.03\" style=\"stroke:#009af9; stroke-width:4.4; stroke-opacity:1\"/>\n",
       "<line clip-path=\"url(#clip892)\" x1=\"1174.79\" y1=\"1438.03\" x2=\"1190.79\" y2=\"1454.03\" style=\"stroke:#009af9; stroke-width:4.4; stroke-opacity:1\"/>\n",
       "<line clip-path=\"url(#clip892)\" x1=\"1174.79\" y1=\"1438.03\" x2=\"1190.79\" y2=\"1422.03\" style=\"stroke:#009af9; stroke-width:4.4; stroke-opacity:1\"/>\n",
       "<line clip-path=\"url(#clip892)\" x1=\"683.644\" y1=\"1438.03\" x2=\"667.644\" y2=\"1422.03\" style=\"stroke:#009af9; stroke-width:4.4; stroke-opacity:1\"/>\n",
       "<line clip-path=\"url(#clip892)\" x1=\"683.644\" y1=\"1438.03\" x2=\"667.644\" y2=\"1454.03\" style=\"stroke:#009af9; stroke-width:4.4; stroke-opacity:1\"/>\n",
       "<line clip-path=\"url(#clip892)\" x1=\"683.644\" y1=\"1438.03\" x2=\"699.644\" y2=\"1454.03\" style=\"stroke:#009af9; stroke-width:4.4; stroke-opacity:1\"/>\n",
       "<line clip-path=\"url(#clip892)\" x1=\"683.644\" y1=\"1438.03\" x2=\"699.644\" y2=\"1422.03\" style=\"stroke:#009af9; stroke-width:4.4; stroke-opacity:1\"/>\n",
       "<line clip-path=\"url(#clip892)\" x1=\"2009.34\" y1=\"1438.03\" x2=\"1993.34\" y2=\"1422.03\" style=\"stroke:#009af9; stroke-width:4.4; stroke-opacity:1\"/>\n",
       "<line clip-path=\"url(#clip892)\" x1=\"2009.34\" y1=\"1438.03\" x2=\"1993.34\" y2=\"1454.03\" style=\"stroke:#009af9; stroke-width:4.4; stroke-opacity:1\"/>\n",
       "<line clip-path=\"url(#clip892)\" x1=\"2009.34\" y1=\"1438.03\" x2=\"2025.34\" y2=\"1454.03\" style=\"stroke:#009af9; stroke-width:4.4; stroke-opacity:1\"/>\n",
       "<line clip-path=\"url(#clip892)\" x1=\"2009.34\" y1=\"1438.03\" x2=\"2025.34\" y2=\"1422.03\" style=\"stroke:#009af9; stroke-width:4.4; stroke-opacity:1\"/>\n",
       "<line clip-path=\"url(#clip892)\" x1=\"1989.41\" y1=\"1438.03\" x2=\"1973.41\" y2=\"1422.03\" style=\"stroke:#009af9; stroke-width:4.4; stroke-opacity:1\"/>\n",
       "<line clip-path=\"url(#clip892)\" x1=\"1989.41\" y1=\"1438.03\" x2=\"1973.41\" y2=\"1454.03\" style=\"stroke:#009af9; stroke-width:4.4; stroke-opacity:1\"/>\n",
       "<line clip-path=\"url(#clip892)\" x1=\"1989.41\" y1=\"1438.03\" x2=\"2005.41\" y2=\"1454.03\" style=\"stroke:#009af9; stroke-width:4.4; stroke-opacity:1\"/>\n",
       "<line clip-path=\"url(#clip892)\" x1=\"1989.41\" y1=\"1438.03\" x2=\"2005.41\" y2=\"1422.03\" style=\"stroke:#009af9; stroke-width:4.4; stroke-opacity:1\"/>\n",
       "<line clip-path=\"url(#clip892)\" x1=\"1269.81\" y1=\"1438.03\" x2=\"1253.81\" y2=\"1422.03\" style=\"stroke:#009af9; stroke-width:4.4; stroke-opacity:1\"/>\n",
       "<line clip-path=\"url(#clip892)\" x1=\"1269.81\" y1=\"1438.03\" x2=\"1253.81\" y2=\"1454.03\" style=\"stroke:#009af9; stroke-width:4.4; stroke-opacity:1\"/>\n",
       "<line clip-path=\"url(#clip892)\" x1=\"1269.81\" y1=\"1438.03\" x2=\"1285.81\" y2=\"1454.03\" style=\"stroke:#009af9; stroke-width:4.4; stroke-opacity:1\"/>\n",
       "<line clip-path=\"url(#clip892)\" x1=\"1269.81\" y1=\"1438.03\" x2=\"1285.81\" y2=\"1422.03\" style=\"stroke:#009af9; stroke-width:4.4; stroke-opacity:1\"/>\n",
       "<line clip-path=\"url(#clip892)\" x1=\"2046.64\" y1=\"1438.03\" x2=\"2030.64\" y2=\"1422.03\" style=\"stroke:#009af9; stroke-width:4.4; stroke-opacity:1\"/>\n",
       "<line clip-path=\"url(#clip892)\" x1=\"2046.64\" y1=\"1438.03\" x2=\"2030.64\" y2=\"1454.03\" style=\"stroke:#009af9; stroke-width:4.4; stroke-opacity:1\"/>\n",
       "<line clip-path=\"url(#clip892)\" x1=\"2046.64\" y1=\"1438.03\" x2=\"2062.64\" y2=\"1454.03\" style=\"stroke:#009af9; stroke-width:4.4; stroke-opacity:1\"/>\n",
       "<line clip-path=\"url(#clip892)\" x1=\"2046.64\" y1=\"1438.03\" x2=\"2062.64\" y2=\"1422.03\" style=\"stroke:#009af9; stroke-width:4.4; stroke-opacity:1\"/>\n",
       "<line clip-path=\"url(#clip892)\" x1=\"946.568\" y1=\"1438.03\" x2=\"930.568\" y2=\"1422.03\" style=\"stroke:#009af9; stroke-width:4.4; stroke-opacity:1\"/>\n",
       "<line clip-path=\"url(#clip892)\" x1=\"946.568\" y1=\"1438.03\" x2=\"930.568\" y2=\"1454.03\" style=\"stroke:#009af9; stroke-width:4.4; stroke-opacity:1\"/>\n",
       "<line clip-path=\"url(#clip892)\" x1=\"946.568\" y1=\"1438.03\" x2=\"962.568\" y2=\"1454.03\" style=\"stroke:#009af9; stroke-width:4.4; stroke-opacity:1\"/>\n",
       "<line clip-path=\"url(#clip892)\" x1=\"946.568\" y1=\"1438.03\" x2=\"962.568\" y2=\"1422.03\" style=\"stroke:#009af9; stroke-width:4.4; stroke-opacity:1\"/>\n",
       "<line clip-path=\"url(#clip892)\" x1=\"1771.05\" y1=\"1438.03\" x2=\"1755.05\" y2=\"1422.03\" style=\"stroke:#009af9; stroke-width:4.4; stroke-opacity:1\"/>\n",
       "<line clip-path=\"url(#clip892)\" x1=\"1771.05\" y1=\"1438.03\" x2=\"1755.05\" y2=\"1454.03\" style=\"stroke:#009af9; stroke-width:4.4; stroke-opacity:1\"/>\n",
       "<line clip-path=\"url(#clip892)\" x1=\"1771.05\" y1=\"1438.03\" x2=\"1787.05\" y2=\"1454.03\" style=\"stroke:#009af9; stroke-width:4.4; stroke-opacity:1\"/>\n",
       "<line clip-path=\"url(#clip892)\" x1=\"1771.05\" y1=\"1438.03\" x2=\"1787.05\" y2=\"1422.03\" style=\"stroke:#009af9; stroke-width:4.4; stroke-opacity:1\"/>\n",
       "<line clip-path=\"url(#clip892)\" x1=\"2126.51\" y1=\"1438.03\" x2=\"2110.51\" y2=\"1422.03\" style=\"stroke:#009af9; stroke-width:4.4; stroke-opacity:1\"/>\n",
       "<line clip-path=\"url(#clip892)\" x1=\"2126.51\" y1=\"1438.03\" x2=\"2110.51\" y2=\"1454.03\" style=\"stroke:#009af9; stroke-width:4.4; stroke-opacity:1\"/>\n",
       "<line clip-path=\"url(#clip892)\" x1=\"2126.51\" y1=\"1438.03\" x2=\"2142.51\" y2=\"1454.03\" style=\"stroke:#009af9; stroke-width:4.4; stroke-opacity:1\"/>\n",
       "<line clip-path=\"url(#clip892)\" x1=\"2126.51\" y1=\"1438.03\" x2=\"2142.51\" y2=\"1422.03\" style=\"stroke:#009af9; stroke-width:4.4; stroke-opacity:1\"/>\n",
       "<line clip-path=\"url(#clip892)\" x1=\"1155.56\" y1=\"1438.03\" x2=\"1139.56\" y2=\"1422.03\" style=\"stroke:#009af9; stroke-width:4.4; stroke-opacity:1\"/>\n",
       "<line clip-path=\"url(#clip892)\" x1=\"1155.56\" y1=\"1438.03\" x2=\"1139.56\" y2=\"1454.03\" style=\"stroke:#009af9; stroke-width:4.4; stroke-opacity:1\"/>\n",
       "<line clip-path=\"url(#clip892)\" x1=\"1155.56\" y1=\"1438.03\" x2=\"1171.56\" y2=\"1454.03\" style=\"stroke:#009af9; stroke-width:4.4; stroke-opacity:1\"/>\n",
       "<line clip-path=\"url(#clip892)\" x1=\"1155.56\" y1=\"1438.03\" x2=\"1171.56\" y2=\"1422.03\" style=\"stroke:#009af9; stroke-width:4.4; stroke-opacity:1\"/>\n",
       "<line clip-path=\"url(#clip892)\" x1=\"2133.91\" y1=\"1438.03\" x2=\"2117.91\" y2=\"1422.03\" style=\"stroke:#009af9; stroke-width:4.4; stroke-opacity:1\"/>\n",
       "<line clip-path=\"url(#clip892)\" x1=\"2133.91\" y1=\"1438.03\" x2=\"2117.91\" y2=\"1454.03\" style=\"stroke:#009af9; stroke-width:4.4; stroke-opacity:1\"/>\n",
       "<line clip-path=\"url(#clip892)\" x1=\"2133.91\" y1=\"1438.03\" x2=\"2149.91\" y2=\"1454.03\" style=\"stroke:#009af9; stroke-width:4.4; stroke-opacity:1\"/>\n",
       "<line clip-path=\"url(#clip892)\" x1=\"2133.91\" y1=\"1438.03\" x2=\"2149.91\" y2=\"1422.03\" style=\"stroke:#009af9; stroke-width:4.4; stroke-opacity:1\"/>\n",
       "<line clip-path=\"url(#clip892)\" x1=\"1573.13\" y1=\"1438.03\" x2=\"1557.13\" y2=\"1422.03\" style=\"stroke:#009af9; stroke-width:4.4; stroke-opacity:1\"/>\n",
       "<line clip-path=\"url(#clip892)\" x1=\"1573.13\" y1=\"1438.03\" x2=\"1557.13\" y2=\"1454.03\" style=\"stroke:#009af9; stroke-width:4.4; stroke-opacity:1\"/>\n",
       "<line clip-path=\"url(#clip892)\" x1=\"1573.13\" y1=\"1438.03\" x2=\"1589.13\" y2=\"1454.03\" style=\"stroke:#009af9; stroke-width:4.4; stroke-opacity:1\"/>\n",
       "<line clip-path=\"url(#clip892)\" x1=\"1573.13\" y1=\"1438.03\" x2=\"1589.13\" y2=\"1422.03\" style=\"stroke:#009af9; stroke-width:4.4; stroke-opacity:1\"/>\n",
       "<line clip-path=\"url(#clip892)\" x1=\"3008.42\" y1=\"1438.03\" x2=\"2992.42\" y2=\"1422.03\" style=\"stroke:#009af9; stroke-width:4.4; stroke-opacity:1\"/>\n",
       "<line clip-path=\"url(#clip892)\" x1=\"3008.42\" y1=\"1438.03\" x2=\"2992.42\" y2=\"1454.03\" style=\"stroke:#009af9; stroke-width:4.4; stroke-opacity:1\"/>\n",
       "<line clip-path=\"url(#clip892)\" x1=\"3008.42\" y1=\"1438.03\" x2=\"3024.42\" y2=\"1454.03\" style=\"stroke:#009af9; stroke-width:4.4; stroke-opacity:1\"/>\n",
       "<line clip-path=\"url(#clip892)\" x1=\"3008.42\" y1=\"1438.03\" x2=\"3024.42\" y2=\"1422.03\" style=\"stroke:#009af9; stroke-width:4.4; stroke-opacity:1\"/>\n",
       "<line clip-path=\"url(#clip892)\" x1=\"1059.57\" y1=\"1438.03\" x2=\"1043.57\" y2=\"1422.03\" style=\"stroke:#009af9; stroke-width:4.4; stroke-opacity:1\"/>\n",
       "<line clip-path=\"url(#clip892)\" x1=\"1059.57\" y1=\"1438.03\" x2=\"1043.57\" y2=\"1454.03\" style=\"stroke:#009af9; stroke-width:4.4; stroke-opacity:1\"/>\n",
       "<line clip-path=\"url(#clip892)\" x1=\"1059.57\" y1=\"1438.03\" x2=\"1075.57\" y2=\"1454.03\" style=\"stroke:#009af9; stroke-width:4.4; stroke-opacity:1\"/>\n",
       "<line clip-path=\"url(#clip892)\" x1=\"1059.57\" y1=\"1438.03\" x2=\"1075.57\" y2=\"1422.03\" style=\"stroke:#009af9; stroke-width:4.4; stroke-opacity:1\"/>\n",
       "<line clip-path=\"url(#clip892)\" x1=\"1000.5\" y1=\"1438.03\" x2=\"984.501\" y2=\"1422.03\" style=\"stroke:#009af9; stroke-width:4.4; stroke-opacity:1\"/>\n",
       "<line clip-path=\"url(#clip892)\" x1=\"1000.5\" y1=\"1438.03\" x2=\"984.501\" y2=\"1454.03\" style=\"stroke:#009af9; stroke-width:4.4; stroke-opacity:1\"/>\n",
       "<line clip-path=\"url(#clip892)\" x1=\"1000.5\" y1=\"1438.03\" x2=\"1016.5\" y2=\"1454.03\" style=\"stroke:#009af9; stroke-width:4.4; stroke-opacity:1\"/>\n",
       "<line clip-path=\"url(#clip892)\" x1=\"1000.5\" y1=\"1438.03\" x2=\"1016.5\" y2=\"1422.03\" style=\"stroke:#009af9; stroke-width:4.4; stroke-opacity:1\"/>\n",
       "<line clip-path=\"url(#clip892)\" x1=\"1808.91\" y1=\"1438.03\" x2=\"1792.91\" y2=\"1422.03\" style=\"stroke:#009af9; stroke-width:4.4; stroke-opacity:1\"/>\n",
       "<line clip-path=\"url(#clip892)\" x1=\"1808.91\" y1=\"1438.03\" x2=\"1792.91\" y2=\"1454.03\" style=\"stroke:#009af9; stroke-width:4.4; stroke-opacity:1\"/>\n",
       "<line clip-path=\"url(#clip892)\" x1=\"1808.91\" y1=\"1438.03\" x2=\"1824.91\" y2=\"1454.03\" style=\"stroke:#009af9; stroke-width:4.4; stroke-opacity:1\"/>\n",
       "<line clip-path=\"url(#clip892)\" x1=\"1808.91\" y1=\"1438.03\" x2=\"1824.91\" y2=\"1422.03\" style=\"stroke:#009af9; stroke-width:4.4; stroke-opacity:1\"/>\n",
       "<line clip-path=\"url(#clip892)\" x1=\"2433.46\" y1=\"1438.03\" x2=\"2417.46\" y2=\"1422.03\" style=\"stroke:#009af9; stroke-width:4.4; stroke-opacity:1\"/>\n",
       "<line clip-path=\"url(#clip892)\" x1=\"2433.46\" y1=\"1438.03\" x2=\"2417.46\" y2=\"1454.03\" style=\"stroke:#009af9; stroke-width:4.4; stroke-opacity:1\"/>\n",
       "<line clip-path=\"url(#clip892)\" x1=\"2433.46\" y1=\"1438.03\" x2=\"2449.46\" y2=\"1454.03\" style=\"stroke:#009af9; stroke-width:4.4; stroke-opacity:1\"/>\n",
       "<line clip-path=\"url(#clip892)\" x1=\"2433.46\" y1=\"1438.03\" x2=\"2449.46\" y2=\"1422.03\" style=\"stroke:#009af9; stroke-width:4.4; stroke-opacity:1\"/>\n",
       "<line clip-path=\"url(#clip892)\" x1=\"2363.92\" y1=\"1438.03\" x2=\"2347.92\" y2=\"1422.03\" style=\"stroke:#009af9; stroke-width:4.4; stroke-opacity:1\"/>\n",
       "<line clip-path=\"url(#clip892)\" x1=\"2363.92\" y1=\"1438.03\" x2=\"2347.92\" y2=\"1454.03\" style=\"stroke:#009af9; stroke-width:4.4; stroke-opacity:1\"/>\n",
       "<line clip-path=\"url(#clip892)\" x1=\"2363.92\" y1=\"1438.03\" x2=\"2379.92\" y2=\"1454.03\" style=\"stroke:#009af9; stroke-width:4.4; stroke-opacity:1\"/>\n",
       "<line clip-path=\"url(#clip892)\" x1=\"2363.92\" y1=\"1438.03\" x2=\"2379.92\" y2=\"1422.03\" style=\"stroke:#009af9; stroke-width:4.4; stroke-opacity:1\"/>\n",
       "<line clip-path=\"url(#clip892)\" x1=\"2370.22\" y1=\"1438.03\" x2=\"2354.22\" y2=\"1422.03\" style=\"stroke:#009af9; stroke-width:4.4; stroke-opacity:1\"/>\n",
       "<line clip-path=\"url(#clip892)\" x1=\"2370.22\" y1=\"1438.03\" x2=\"2354.22\" y2=\"1454.03\" style=\"stroke:#009af9; stroke-width:4.4; stroke-opacity:1\"/>\n",
       "<line clip-path=\"url(#clip892)\" x1=\"2370.22\" y1=\"1438.03\" x2=\"2386.22\" y2=\"1454.03\" style=\"stroke:#009af9; stroke-width:4.4; stroke-opacity:1\"/>\n",
       "<line clip-path=\"url(#clip892)\" x1=\"2370.22\" y1=\"1438.03\" x2=\"2386.22\" y2=\"1422.03\" style=\"stroke:#009af9; stroke-width:4.4; stroke-opacity:1\"/>\n",
       "<line clip-path=\"url(#clip892)\" x1=\"1959.78\" y1=\"1438.03\" x2=\"1943.78\" y2=\"1422.03\" style=\"stroke:#009af9; stroke-width:4.4; stroke-opacity:1\"/>\n",
       "<line clip-path=\"url(#clip892)\" x1=\"1959.78\" y1=\"1438.03\" x2=\"1943.78\" y2=\"1454.03\" style=\"stroke:#009af9; stroke-width:4.4; stroke-opacity:1\"/>\n",
       "<line clip-path=\"url(#clip892)\" x1=\"1959.78\" y1=\"1438.03\" x2=\"1975.78\" y2=\"1454.03\" style=\"stroke:#009af9; stroke-width:4.4; stroke-opacity:1\"/>\n",
       "<line clip-path=\"url(#clip892)\" x1=\"1959.78\" y1=\"1438.03\" x2=\"1975.78\" y2=\"1422.03\" style=\"stroke:#009af9; stroke-width:4.4; stroke-opacity:1\"/>\n",
       "<line clip-path=\"url(#clip892)\" x1=\"2031.7\" y1=\"1438.03\" x2=\"2015.7\" y2=\"1422.03\" style=\"stroke:#009af9; stroke-width:4.4; stroke-opacity:1\"/>\n",
       "<line clip-path=\"url(#clip892)\" x1=\"2031.7\" y1=\"1438.03\" x2=\"2015.7\" y2=\"1454.03\" style=\"stroke:#009af9; stroke-width:4.4; stroke-opacity:1\"/>\n",
       "<line clip-path=\"url(#clip892)\" x1=\"2031.7\" y1=\"1438.03\" x2=\"2047.7\" y2=\"1454.03\" style=\"stroke:#009af9; stroke-width:4.4; stroke-opacity:1\"/>\n",
       "<line clip-path=\"url(#clip892)\" x1=\"2031.7\" y1=\"1438.03\" x2=\"2047.7\" y2=\"1422.03\" style=\"stroke:#009af9; stroke-width:4.4; stroke-opacity:1\"/>\n",
       "<line clip-path=\"url(#clip892)\" x1=\"2512.34\" y1=\"1438.03\" x2=\"2496.34\" y2=\"1422.03\" style=\"stroke:#009af9; stroke-width:4.4; stroke-opacity:1\"/>\n",
       "<line clip-path=\"url(#clip892)\" x1=\"2512.34\" y1=\"1438.03\" x2=\"2496.34\" y2=\"1454.03\" style=\"stroke:#009af9; stroke-width:4.4; stroke-opacity:1\"/>\n",
       "<line clip-path=\"url(#clip892)\" x1=\"2512.34\" y1=\"1438.03\" x2=\"2528.34\" y2=\"1454.03\" style=\"stroke:#009af9; stroke-width:4.4; stroke-opacity:1\"/>\n",
       "<line clip-path=\"url(#clip892)\" x1=\"2512.34\" y1=\"1438.03\" x2=\"2528.34\" y2=\"1422.03\" style=\"stroke:#009af9; stroke-width:4.4; stroke-opacity:1\"/>\n",
       "<line clip-path=\"url(#clip892)\" x1=\"3307.93\" y1=\"1438.03\" x2=\"3291.93\" y2=\"1422.03\" style=\"stroke:#009af9; stroke-width:4.4; stroke-opacity:1\"/>\n",
       "<line clip-path=\"url(#clip892)\" x1=\"3307.93\" y1=\"1438.03\" x2=\"3291.93\" y2=\"1454.03\" style=\"stroke:#009af9; stroke-width:4.4; stroke-opacity:1\"/>\n",
       "<line clip-path=\"url(#clip892)\" x1=\"3307.93\" y1=\"1438.03\" x2=\"3323.93\" y2=\"1454.03\" style=\"stroke:#009af9; stroke-width:4.4; stroke-opacity:1\"/>\n",
       "<line clip-path=\"url(#clip892)\" x1=\"3307.93\" y1=\"1438.03\" x2=\"3323.93\" y2=\"1422.03\" style=\"stroke:#009af9; stroke-width:4.4; stroke-opacity:1\"/>\n",
       "<line clip-path=\"url(#clip892)\" x1=\"2406.36\" y1=\"1438.03\" x2=\"2390.36\" y2=\"1422.03\" style=\"stroke:#009af9; stroke-width:4.4; stroke-opacity:1\"/>\n",
       "<line clip-path=\"url(#clip892)\" x1=\"2406.36\" y1=\"1438.03\" x2=\"2390.36\" y2=\"1454.03\" style=\"stroke:#009af9; stroke-width:4.4; stroke-opacity:1\"/>\n",
       "<line clip-path=\"url(#clip892)\" x1=\"2406.36\" y1=\"1438.03\" x2=\"2422.36\" y2=\"1454.03\" style=\"stroke:#009af9; stroke-width:4.4; stroke-opacity:1\"/>\n",
       "<line clip-path=\"url(#clip892)\" x1=\"2406.36\" y1=\"1438.03\" x2=\"2422.36\" y2=\"1422.03\" style=\"stroke:#009af9; stroke-width:4.4; stroke-opacity:1\"/>\n",
       "<line clip-path=\"url(#clip892)\" x1=\"350.842\" y1=\"1438.03\" x2=\"334.842\" y2=\"1422.03\" style=\"stroke:#009af9; stroke-width:4.4; stroke-opacity:1\"/>\n",
       "<line clip-path=\"url(#clip892)\" x1=\"350.842\" y1=\"1438.03\" x2=\"334.842\" y2=\"1454.03\" style=\"stroke:#009af9; stroke-width:4.4; stroke-opacity:1\"/>\n",
       "<line clip-path=\"url(#clip892)\" x1=\"350.842\" y1=\"1438.03\" x2=\"366.842\" y2=\"1454.03\" style=\"stroke:#009af9; stroke-width:4.4; stroke-opacity:1\"/>\n",
       "<line clip-path=\"url(#clip892)\" x1=\"350.842\" y1=\"1438.03\" x2=\"366.842\" y2=\"1422.03\" style=\"stroke:#009af9; stroke-width:4.4; stroke-opacity:1\"/>\n",
       "<line clip-path=\"url(#clip892)\" x1=\"1161.07\" y1=\"1438.03\" x2=\"1145.07\" y2=\"1422.03\" style=\"stroke:#009af9; stroke-width:4.4; stroke-opacity:1\"/>\n",
       "<line clip-path=\"url(#clip892)\" x1=\"1161.07\" y1=\"1438.03\" x2=\"1145.07\" y2=\"1454.03\" style=\"stroke:#009af9; stroke-width:4.4; stroke-opacity:1\"/>\n",
       "<line clip-path=\"url(#clip892)\" x1=\"1161.07\" y1=\"1438.03\" x2=\"1177.07\" y2=\"1454.03\" style=\"stroke:#009af9; stroke-width:4.4; stroke-opacity:1\"/>\n",
       "<line clip-path=\"url(#clip892)\" x1=\"1161.07\" y1=\"1438.03\" x2=\"1177.07\" y2=\"1422.03\" style=\"stroke:#009af9; stroke-width:4.4; stroke-opacity:1\"/>\n",
       "<line clip-path=\"url(#clip892)\" x1=\"2512.46\" y1=\"1438.03\" x2=\"2496.46\" y2=\"1422.03\" style=\"stroke:#009af9; stroke-width:4.4; stroke-opacity:1\"/>\n",
       "<line clip-path=\"url(#clip892)\" x1=\"2512.46\" y1=\"1438.03\" x2=\"2496.46\" y2=\"1454.03\" style=\"stroke:#009af9; stroke-width:4.4; stroke-opacity:1\"/>\n",
       "<line clip-path=\"url(#clip892)\" x1=\"2512.46\" y1=\"1438.03\" x2=\"2528.46\" y2=\"1454.03\" style=\"stroke:#009af9; stroke-width:4.4; stroke-opacity:1\"/>\n",
       "<line clip-path=\"url(#clip892)\" x1=\"2512.46\" y1=\"1438.03\" x2=\"2528.46\" y2=\"1422.03\" style=\"stroke:#009af9; stroke-width:4.4; stroke-opacity:1\"/>\n",
       "<line clip-path=\"url(#clip892)\" x1=\"1462.12\" y1=\"1438.03\" x2=\"1446.12\" y2=\"1422.03\" style=\"stroke:#009af9; stroke-width:4.4; stroke-opacity:1\"/>\n",
       "<line clip-path=\"url(#clip892)\" x1=\"1462.12\" y1=\"1438.03\" x2=\"1446.12\" y2=\"1454.03\" style=\"stroke:#009af9; stroke-width:4.4; stroke-opacity:1\"/>\n",
       "<line clip-path=\"url(#clip892)\" x1=\"1462.12\" y1=\"1438.03\" x2=\"1478.12\" y2=\"1454.03\" style=\"stroke:#009af9; stroke-width:4.4; stroke-opacity:1\"/>\n",
       "<line clip-path=\"url(#clip892)\" x1=\"1462.12\" y1=\"1438.03\" x2=\"1478.12\" y2=\"1422.03\" style=\"stroke:#009af9; stroke-width:4.4; stroke-opacity:1\"/>\n",
       "<line clip-path=\"url(#clip892)\" x1=\"1706.3\" y1=\"1438.03\" x2=\"1690.3\" y2=\"1422.03\" style=\"stroke:#009af9; stroke-width:4.4; stroke-opacity:1\"/>\n",
       "<line clip-path=\"url(#clip892)\" x1=\"1706.3\" y1=\"1438.03\" x2=\"1690.3\" y2=\"1454.03\" style=\"stroke:#009af9; stroke-width:4.4; stroke-opacity:1\"/>\n",
       "<line clip-path=\"url(#clip892)\" x1=\"1706.3\" y1=\"1438.03\" x2=\"1722.3\" y2=\"1454.03\" style=\"stroke:#009af9; stroke-width:4.4; stroke-opacity:1\"/>\n",
       "<line clip-path=\"url(#clip892)\" x1=\"1706.3\" y1=\"1438.03\" x2=\"1722.3\" y2=\"1422.03\" style=\"stroke:#009af9; stroke-width:4.4; stroke-opacity:1\"/>\n",
       "<line clip-path=\"url(#clip892)\" x1=\"1629.73\" y1=\"1438.03\" x2=\"1613.73\" y2=\"1422.03\" style=\"stroke:#009af9; stroke-width:4.4; stroke-opacity:1\"/>\n",
       "<line clip-path=\"url(#clip892)\" x1=\"1629.73\" y1=\"1438.03\" x2=\"1613.73\" y2=\"1454.03\" style=\"stroke:#009af9; stroke-width:4.4; stroke-opacity:1\"/>\n",
       "<line clip-path=\"url(#clip892)\" x1=\"1629.73\" y1=\"1438.03\" x2=\"1645.73\" y2=\"1454.03\" style=\"stroke:#009af9; stroke-width:4.4; stroke-opacity:1\"/>\n",
       "<line clip-path=\"url(#clip892)\" x1=\"1629.73\" y1=\"1438.03\" x2=\"1645.73\" y2=\"1422.03\" style=\"stroke:#009af9; stroke-width:4.4; stroke-opacity:1\"/>\n",
       "<line clip-path=\"url(#clip892)\" x1=\"3264.99\" y1=\"1438.03\" x2=\"3248.99\" y2=\"1422.03\" style=\"stroke:#009af9; stroke-width:4.4; stroke-opacity:1\"/>\n",
       "<line clip-path=\"url(#clip892)\" x1=\"3264.99\" y1=\"1438.03\" x2=\"3248.99\" y2=\"1454.03\" style=\"stroke:#009af9; stroke-width:4.4; stroke-opacity:1\"/>\n",
       "<line clip-path=\"url(#clip892)\" x1=\"3264.99\" y1=\"1438.03\" x2=\"3280.99\" y2=\"1454.03\" style=\"stroke:#009af9; stroke-width:4.4; stroke-opacity:1\"/>\n",
       "<line clip-path=\"url(#clip892)\" x1=\"3264.99\" y1=\"1438.03\" x2=\"3280.99\" y2=\"1422.03\" style=\"stroke:#009af9; stroke-width:4.4; stroke-opacity:1\"/>\n",
       "<line clip-path=\"url(#clip892)\" x1=\"933.889\" y1=\"1438.03\" x2=\"917.889\" y2=\"1422.03\" style=\"stroke:#009af9; stroke-width:4.4; stroke-opacity:1\"/>\n",
       "<line clip-path=\"url(#clip892)\" x1=\"933.889\" y1=\"1438.03\" x2=\"917.889\" y2=\"1454.03\" style=\"stroke:#009af9; stroke-width:4.4; stroke-opacity:1\"/>\n",
       "<line clip-path=\"url(#clip892)\" x1=\"933.889\" y1=\"1438.03\" x2=\"949.889\" y2=\"1454.03\" style=\"stroke:#009af9; stroke-width:4.4; stroke-opacity:1\"/>\n",
       "<line clip-path=\"url(#clip892)\" x1=\"933.889\" y1=\"1438.03\" x2=\"949.889\" y2=\"1422.03\" style=\"stroke:#009af9; stroke-width:4.4; stroke-opacity:1\"/>\n",
       "<line clip-path=\"url(#clip892)\" x1=\"2722.77\" y1=\"1438.03\" x2=\"2706.77\" y2=\"1422.03\" style=\"stroke:#009af9; stroke-width:4.4; stroke-opacity:1\"/>\n",
       "<line clip-path=\"url(#clip892)\" x1=\"2722.77\" y1=\"1438.03\" x2=\"2706.77\" y2=\"1454.03\" style=\"stroke:#009af9; stroke-width:4.4; stroke-opacity:1\"/>\n",
       "<line clip-path=\"url(#clip892)\" x1=\"2722.77\" y1=\"1438.03\" x2=\"2738.77\" y2=\"1454.03\" style=\"stroke:#009af9; stroke-width:4.4; stroke-opacity:1\"/>\n",
       "<line clip-path=\"url(#clip892)\" x1=\"2722.77\" y1=\"1438.03\" x2=\"2738.77\" y2=\"1422.03\" style=\"stroke:#009af9; stroke-width:4.4; stroke-opacity:1\"/>\n",
       "<line clip-path=\"url(#clip892)\" x1=\"1411.94\" y1=\"1438.03\" x2=\"1395.94\" y2=\"1422.03\" style=\"stroke:#009af9; stroke-width:4.4; stroke-opacity:1\"/>\n",
       "<line clip-path=\"url(#clip892)\" x1=\"1411.94\" y1=\"1438.03\" x2=\"1395.94\" y2=\"1454.03\" style=\"stroke:#009af9; stroke-width:4.4; stroke-opacity:1\"/>\n",
       "<line clip-path=\"url(#clip892)\" x1=\"1411.94\" y1=\"1438.03\" x2=\"1427.94\" y2=\"1454.03\" style=\"stroke:#009af9; stroke-width:4.4; stroke-opacity:1\"/>\n",
       "<line clip-path=\"url(#clip892)\" x1=\"1411.94\" y1=\"1438.03\" x2=\"1427.94\" y2=\"1422.03\" style=\"stroke:#009af9; stroke-width:4.4; stroke-opacity:1\"/>\n",
       "<line clip-path=\"url(#clip892)\" x1=\"2622.58\" y1=\"1438.03\" x2=\"2606.58\" y2=\"1422.03\" style=\"stroke:#009af9; stroke-width:4.4; stroke-opacity:1\"/>\n",
       "<line clip-path=\"url(#clip892)\" x1=\"2622.58\" y1=\"1438.03\" x2=\"2606.58\" y2=\"1454.03\" style=\"stroke:#009af9; stroke-width:4.4; stroke-opacity:1\"/>\n",
       "<line clip-path=\"url(#clip892)\" x1=\"2622.58\" y1=\"1438.03\" x2=\"2638.58\" y2=\"1454.03\" style=\"stroke:#009af9; stroke-width:4.4; stroke-opacity:1\"/>\n",
       "<line clip-path=\"url(#clip892)\" x1=\"2622.58\" y1=\"1438.03\" x2=\"2638.58\" y2=\"1422.03\" style=\"stroke:#009af9; stroke-width:4.4; stroke-opacity:1\"/>\n",
       "<line clip-path=\"url(#clip892)\" x1=\"2193.6\" y1=\"1438.03\" x2=\"2177.6\" y2=\"1422.03\" style=\"stroke:#009af9; stroke-width:4.4; stroke-opacity:1\"/>\n",
       "<line clip-path=\"url(#clip892)\" x1=\"2193.6\" y1=\"1438.03\" x2=\"2177.6\" y2=\"1454.03\" style=\"stroke:#009af9; stroke-width:4.4; stroke-opacity:1\"/>\n",
       "<line clip-path=\"url(#clip892)\" x1=\"2193.6\" y1=\"1438.03\" x2=\"2209.6\" y2=\"1454.03\" style=\"stroke:#009af9; stroke-width:4.4; stroke-opacity:1\"/>\n",
       "<line clip-path=\"url(#clip892)\" x1=\"2193.6\" y1=\"1438.03\" x2=\"2209.6\" y2=\"1422.03\" style=\"stroke:#009af9; stroke-width:4.4; stroke-opacity:1\"/>\n",
       "<line clip-path=\"url(#clip892)\" x1=\"1854.65\" y1=\"1438.03\" x2=\"1838.65\" y2=\"1422.03\" style=\"stroke:#009af9; stroke-width:4.4; stroke-opacity:1\"/>\n",
       "<line clip-path=\"url(#clip892)\" x1=\"1854.65\" y1=\"1438.03\" x2=\"1838.65\" y2=\"1454.03\" style=\"stroke:#009af9; stroke-width:4.4; stroke-opacity:1\"/>\n",
       "<line clip-path=\"url(#clip892)\" x1=\"1854.65\" y1=\"1438.03\" x2=\"1870.65\" y2=\"1454.03\" style=\"stroke:#009af9; stroke-width:4.4; stroke-opacity:1\"/>\n",
       "<line clip-path=\"url(#clip892)\" x1=\"1854.65\" y1=\"1438.03\" x2=\"1870.65\" y2=\"1422.03\" style=\"stroke:#009af9; stroke-width:4.4; stroke-opacity:1\"/>\n",
       "</svg>\n"
      ]
     },
     "execution_count": 28,
     "metadata": {},
     "output_type": "execute_result"
    }
   ],
   "source": [
    "m = 100\n",
    "Λ = randn(m)\n",
    "p = plot(Complex{Float64}.(Λ), st=:scatter, framestyle=:origin, aspect_ratio = :equal, title = \"Λ(A)\", m=:x)"
   ]
  },
  {
   "cell_type": "code",
   "execution_count": 29,
   "id": "85f63163",
   "metadata": {
    "slideshow": {
     "slide_type": "subslide"
    }
   },
   "outputs": [],
   "source": [
    "Q = qr(randn(Complex{Float64}, m, m)).Q\n",
    "A = Q * Diagonal(Λ) * Q';\n",
    "b = randn(m);"
   ]
  },
  {
   "cell_type": "code",
   "execution_count": 30,
   "id": "bead3891",
   "metadata": {
    "hideCode": true
   },
   "outputs": [
    {
     "data": {
      "text/html": [
       "<img src=\"data:image/gif;base64,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\" />"
      ],
      "text/plain": [
       "Plots.AnimatedGif(\"/home/tisaac/srv/rep/22-course-cse6643/mybinder/arnoldi-normal.gif\")"
      ]
     },
     "execution_count": 30,
     "metadata": {},
     "output_type": "execute_result"
    }
   ],
   "source": [
    "anim = Animation()\n",
    "frame(anim, p)\n",
    "for n in 1:20\n",
    "    q = deepcopy(p)\n",
    "    _, T̃ = lanczos(A, b, n)\n",
    "    Θ = eigvals(T̃[1:n,1:n])\n",
    "    plot!(q, Θ, st=:scatter, c=2, m=:diamond, title = \"Λ(A), Λ(H($n))\")\n",
    "    frame(anim, q)\n",
    "end\n",
    "gif(anim, \"arnoldi-normal.gif\", fps=0.5)"
   ]
  }
 ],
 "metadata": {
  "@webio": {
   "lastCommId": "53da6c191ab64fd2ad9dd8b646e71456",
   "lastKernelId": "30afc867-2ec6-497e-8c92-d5c998f15963"
  },
  "celltoolbar": "Slideshow",
  "hide_input": false,
  "kernelspec": {
   "display_name": "Julia 1.7.2",
   "language": "julia",
   "name": "julia-1.7"
  },
  "language_info": {
   "file_extension": ".jl",
   "mimetype": "application/julia",
   "name": "julia",
   "version": "1.7.2"
  }
 },
 "nbformat": 4,
 "nbformat_minor": 5
}
