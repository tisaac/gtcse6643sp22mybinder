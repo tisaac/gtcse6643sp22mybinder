{
 "cells": [
  {
   "cell_type": "code",
   "execution_count": 1,
   "id": "f12c5dfc",
   "metadata": {},
   "outputs": [
    {
     "name": "stderr",
     "output_type": "stream",
     "text": [
      "\u001b[32m\u001b[1m    Updating\u001b[22m\u001b[39m registry at `~/.julia/registries/General.toml`\n",
      "\u001b[32m\u001b[1m   Resolving\u001b[22m\u001b[39m package versions...\n",
      "\u001b[32m\u001b[1m  No Changes\u001b[22m\u001b[39m to `~/srv/rep/22-course-cse6643/mybinder/Project.toml`\n",
      "\u001b[32m\u001b[1m  No Changes\u001b[22m\u001b[39m to `~/srv/rep/22-course-cse6643/mybinder/Manifest.toml`\n"
     ]
    }
   ],
   "source": [
    "import Pkg; Pkg.add([\"Plots\", \"Interact\"]);"
   ]
  },
  {
   "cell_type": "code",
   "execution_count": 2,
   "id": "7c763c58",
   "metadata": {},
   "outputs": [],
   "source": [
    "const STATIC_LECTURE = false;"
   ]
  },
  {
   "cell_type": "code",
   "execution_count": 3,
   "id": "3d34d2fa",
   "metadata": {},
   "outputs": [
    {
     "data": {
      "text/plain": [
       "draw (generic function with 1 method)"
      ]
     },
     "execution_count": 3,
     "metadata": {},
     "output_type": "execute_result"
    }
   ],
   "source": [
    "function draw(plt)\n",
    "    if STATIC_LECTURE\n",
    "        filename = Base.Filesystem.tempname() * \".png\"\n",
    "        savefig(filename)\n",
    "        return display(\"image/png\", read(filename))\n",
    "    else\n",
    "        return plt\n",
    "    end\n",
    "end"
   ]
  },
  {
   "cell_type": "code",
   "execution_count": 4,
   "id": "8b5acc71",
   "metadata": {},
   "outputs": [
    {
     "data": {
      "application/vnd.webio.node+json": {
       "children": [],
       "instanceArgs": {
        "namespace": "html",
        "tag": "div"
       },
       "nodeType": "DOM",
       "props": {},
       "type": "node"
      },
      "text/html": [
       "<div style=\"padding: 1em; background-color: #f8d6da; border: 1px solid #f5c6cb; font-weight: bold;\">\n",
       "<p>The WebIO Jupyter extension was not detected. See the\n",
       "<a href=\"https://juliagizmos.github.io/WebIO.jl/latest/providers/ijulia/\" target=\"_blank\">\n",
       "    WebIO Jupyter integration documentation\n",
       "</a>\n",
       "for more information.\n",
       "</div>\n"
      ],
      "text/plain": [
       "WebIO._IJuliaInit()"
      ]
     },
     "metadata": {
      "application/vnd.webio.node+json": {
       "kernelId": null
      }
     },
     "output_type": "display_data"
    },
    {
     "data": {
      "text/plain": [
       "imshow (generic function with 2 methods)"
      ]
     },
     "execution_count": 4,
     "metadata": {},
     "output_type": "execute_result"
    }
   ],
   "source": [
    "using LinearAlgebra;\n",
    "using Plots; default(l=2, size=(900,550), label=false);\n",
    "using Interact;\n",
    "\n",
    "imshow(x,_clim=:nothing) = heatmap(x\n",
    "    , aspect_ratio=:equal\n",
    "    , framestyle=:none\n",
    "    , yflip=true\n",
    "    , c=:diverging_gwv_55_95_c39_n256\n",
    "    , clim=if _clim != :nothing\n",
    "          _clim\n",
    "      elseif maximum(abs.(x)) > 1.e-12\n",
    "          (-maximum(abs.(x)),maximum(abs.(x)))\n",
    "      else \n",
    "          (-1,1)\n",
    "      end\n",
    "    , size=(500,500)\n",
    ")"
   ]
  },
  {
   "cell_type": "markdown",
   "id": "877bb843",
   "metadata": {
    "cell_style": "split",
    "slideshow": {
     "slide_type": "slide"
    }
   },
   "source": [
    "### Warmup\n",
    "\n",
    "1. Use julia to compute the QR factorizations of\n",
    "\n",
    "$$\n",
    "A = \\begin{bmatrix}\n",
    "1 & 0 \\\\ 0 & 1 \\\\ 1 & 0\n",
    "\\end{bmatrix},\n",
    "\\quad\n",
    "B = \\begin{bmatrix}\n",
    "1 & 2 \\\\ 0 & 1 \\\\ 1 & 0\n",
    "\\end{bmatrix}.\n",
    "$$\n",
    "\n",
    "2. What is the simplest (smallest) way to represent the orthogonal projector onto $\\mathrm{range}(A)$ or $\\mathrm{range}(B)$?"
   ]
  },
  {
   "cell_type": "code",
   "execution_count": 5,
   "id": "082d78a9",
   "metadata": {
    "cell_style": "split"
   },
   "outputs": [],
   "source": [
    "using LinearAlgebra\n",
    "\n",
    "#A = ...\n",
    "#B = ..."
   ]
  },
  {
   "cell_type": "markdown",
   "id": "15cf47cd",
   "metadata": {
    "slideshow": {
     "slide_type": "slide"
    }
   },
   "source": [
    "# Gram-Schmidt QR Factorizations\n",
    "\n",
    "**1. Testing QR Algorithms**\n",
    "\n",
    "**2. Gram-Schmidt Orthogonalization, QR Existence, Uniqueness, and Usage**\n",
    "\n",
    "**3. Classical Gram-Schmidt**\n",
    "\n",
    "**4. Modified Gram-Schmidt**\n",
    "\n",
    "**5. Operations Count**"
   ]
  },
  {
   "cell_type": "markdown",
   "id": "83189909",
   "metadata": {
    "slideshow": {
     "slide_type": "slide"
    }
   },
   "source": [
    "## Testing QR Algorithms"
   ]
  },
  {
   "cell_type": "markdown",
   "id": "ab688898",
   "metadata": {
    "slideshow": {
     "slide_type": "subslide"
    }
   },
   "source": [
    "### Test driven development\n",
    "\n",
    "How should we test an implementation of the QR factorization?"
   ]
  },
  {
   "cell_type": "markdown",
   "id": "31dfffd6",
   "metadata": {
    "slideshow": {
     "slide_type": "fragment"
    }
   },
   "source": [
    "**Recal: reduced QR factorization**\n",
    "\n",
    "$$ A \\underbrace{=}_{\\text{(test 1)}} \\hat{Q} \\hat{R}, \\quad \\hat{Q} \\in \\mathbb{C}^{m\\times n}\\ \\underbrace{\\text{(orthonormal columns)}}_{\\text{(test 2)}}, \\quad \\hat{R} \\in \\mathbb{C}^{n \\times n} \\underbrace{\\text{(upper triangular)}}_{\\text{(test 3)}}\n",
    "$$"
   ]
  },
  {
   "cell_type": "markdown",
   "id": "58738bd1",
   "metadata": {
    "slideshow": {
     "slide_type": "subslide"
    }
   },
   "source": [
    "### Each test may tolerate some rounding error\n",
    "\n",
    "We want to measure the magnitude of the difference between the computed result and the mathematical truth."
   ]
  },
  {
   "cell_type": "code",
   "execution_count": 6,
   "id": "48c62237",
   "metadata": {},
   "outputs": [
    {
     "data": {
      "text/plain": [
       "reconstruction_error (generic function with 1 method)"
      ]
     },
     "execution_count": 6,
     "metadata": {},
     "output_type": "execute_result"
    }
   ],
   "source": [
    "reconstruction_error(A, Q, R) = norm(A - Q * R, 2)"
   ]
  },
  {
   "cell_type": "markdown",
   "id": "98bcdd8c",
   "metadata": {
    "slideshow": {
     "slide_type": "-"
    }
   },
   "source": [
    "(Note that this is $\\|A - Q R \\|_F$: the Frobenius norm can be directly calculated, so it is most common to use for numerical tests.)"
   ]
  },
  {
   "cell_type": "markdown",
   "id": "9706b206",
   "metadata": {
    "slideshow": {
     "slide_type": "subslide"
    }
   },
   "source": [
    "### Numerical test for orthonormal columns"
   ]
  },
  {
   "cell_type": "markdown",
   "id": "09a61dd1",
   "metadata": {
    "slideshow": {
     "slide_type": "fragment"
    }
   },
   "source": [
    "$$\\hat{Q}^* \\hat{Q} = I \\in \\mathbb{C}^{n \\times n}$$"
   ]
  },
  {
   "cell_type": "code",
   "execution_count": 7,
   "id": "0dc6003c",
   "metadata": {
    "slideshow": {
     "slide_type": "fragment"
    }
   },
   "outputs": [
    {
     "data": {
      "text/plain": [
       "orthonormality_error (generic function with 1 method)"
      ]
     },
     "execution_count": 7,
     "metadata": {},
     "output_type": "execute_result"
    }
   ],
   "source": [
    "orthonormality_error(Q) = norm(I - Q[:,:]' * Q[:,:], 2)"
   ]
  },
  {
   "cell_type": "markdown",
   "id": "c302450e",
   "metadata": {
    "slideshow": {
     "slide_type": "subslide"
    }
   },
   "source": [
    "### Test for upper triangularity\n",
    "\n",
    "$$\\hat{R} = \\mathrm{triu}(\\hat{R})$$"
   ]
  },
  {
   "cell_type": "code",
   "execution_count": 8,
   "id": "1f77d6e4",
   "metadata": {},
   "outputs": [
    {
     "data": {
      "text/plain": [
       "upper_triangularity_error (generic function with 1 method)"
      ]
     },
     "execution_count": 8,
     "metadata": {},
     "output_type": "execute_result"
    }
   ],
   "source": [
    "upper_triangularity_error(R) = norm(R - UpperTriangular(R), 2)"
   ]
  },
  {
   "cell_type": "markdown",
   "id": "2828b1d4",
   "metadata": {
    "slideshow": {
     "slide_type": "subslide"
    }
   },
   "source": [
    "### All together"
   ]
  },
  {
   "cell_type": "code",
   "execution_count": 9,
   "id": "dd8c0c02",
   "metadata": {},
   "outputs": [
    {
     "data": {
      "text/plain": [
       "qr_test (generic function with 4 methods)"
      ]
     },
     "execution_count": 9,
     "metadata": {},
     "output_type": "execute_result"
    }
   ],
   "source": [
    "function qr_test(A, Q, R, recon_tol=1.e-12, ortho_tol=1.e-12, triu_tol=0.0)\n",
    "    recon_err = reconstruction_error(A, Q, R)\n",
    "    ortho_err = orthonormality_error(Q)\n",
    "    triu_err = upper_triangularity_error(R)\n",
    "    println(\"Reconstruction error || A - Q R ||_F = $recon_err\")\n",
    "    println(\"Orthonormality error || I - Q'Q ||_F = $ortho_err\")\n",
    "    println(\"Upper-triangularity error || R - triu(R) ||_F = $triu_err\")\n",
    "    return (recon_err <= recon_tol) && (ortho_err <= ortho_tol) && (triu_err <= triu_tol) \n",
    "end"
   ]
  },
  {
   "cell_type": "markdown",
   "id": "e45b743f",
   "metadata": {
    "slideshow": {
     "slide_type": "subslide"
    }
   },
   "source": [
    "### Test it out on julia's `qr`"
   ]
  },
  {
   "cell_type": "code",
   "execution_count": 10,
   "id": "36c52e98",
   "metadata": {
    "slideshow": {
     "slide_type": "-"
    }
   },
   "outputs": [
    {
     "name": "stdout",
     "output_type": "stream",
     "text": [
      "Reconstruction error || A - Q R ||_F = 3.667070940400631e-14\n",
      "Orthonormality error || I - Q'Q ||_F = 6.7226818207163104e-15\n",
      "Upper-triangularity error || R - triu(R) ||_F = 0.0\n"
     ]
    },
    {
     "data": {
      "text/plain": [
       "true"
      ]
     },
     "execution_count": 10,
     "metadata": {},
     "output_type": "execute_result"
    }
   ],
   "source": [
    "m = 100; n = 50;\n",
    "A = randn(m, n);\n",
    "Q, R = qr(A);\n",
    "qr_test(A, Q, R)"
   ]
  },
  {
   "cell_type": "markdown",
   "id": "0df80c60",
   "metadata": {
    "slideshow": {
     "slide_type": "slide"
    }
   },
   "source": [
    "## Gram-Schmidt Orthogonalization"
   ]
  },
  {
   "cell_type": "markdown",
   "id": "12252539",
   "metadata": {
    "slideshow": {
     "slide_type": "subslide"
    }
   },
   "source": [
    "### Recall the QR factorization written in terms of projectors: the Gram-Schmidt Process"
   ]
  },
  {
   "cell_type": "markdown",
   "id": "eae172bf",
   "metadata": {},
   "source": [
    "- At step $j$:\n",
    "\n",
    "$$\\tilde{q}_j = (I - P_{1:j-1}) a_j$$\n",
    "$$q_j = \\frac{\\tilde{q}_j}{\\|\\tilde q_j\\|}$$\n",
    "$$r_{1:j,j} = \\hat{Q}_{1:j}^* a_j$$"
   ]
  },
  {
   "cell_type": "code",
   "execution_count": 11,
   "id": "b79cd2af",
   "metadata": {},
   "outputs": [
    {
     "data": {
      "text/plain": [
       "qr_projectors (generic function with 1 method)"
      ]
     },
     "execution_count": 11,
     "metadata": {},
     "output_type": "execute_result"
    }
   ],
   "source": [
    "function qr_projectors(A)\n",
    "    m, n = size(A)\n",
    "    Q̂ = zeros(eltype(A), m, n) # <--- use the same datatype (Float32 vs Float64, ℝ vs ℂ)\n",
    "    R̂ = zeros(eltype(A), n, n)\n",
    "    for j in 1:n\n",
    "        Q̂ⱼ₋₁ = Q̂[:,1:j-1]\n",
    "        Pⱼ₋₁ = Q̂ⱼ₋₁ * Q̂ⱼ₋₁'\n",
    "        q̃ⱼ = (I - Pⱼ₋₁) * A[:,j]\n",
    "        Q̂[:,j] = q̃ⱼ / norm(q̃ⱼ)\n",
    "        R̂[1:j,j] = Q̂[:,1:j]' * A[:,j]\n",
    "    end\n",
    "    return Q̂, R̂\n",
    "end"
   ]
  },
  {
   "cell_type": "code",
   "execution_count": 12,
   "id": "c4335826",
   "metadata": {},
   "outputs": [
    {
     "name": "stdout",
     "output_type": "stream",
     "text": [
      "Reconstruction error || A - Q R ||_F = 1.9829454472460686e-14\n",
      "Orthonormality error || I - Q'Q ||_F = 2.4493033304781865e-15\n",
      "Upper-triangularity error || R - triu(R) ||_F = 0.0\n"
     ]
    },
    {
     "data": {
      "text/plain": [
       "true"
      ]
     },
     "execution_count": 12,
     "metadata": {},
     "output_type": "execute_result"
    }
   ],
   "source": [
    "m = 100; n = 50;\n",
    "A = randn(m, n);\n",
    "Q̂, R̂ = qr_projectors(A);\n",
    "qr_test(A, Q̂, R̂)"
   ]
  },
  {
   "cell_type": "markdown",
   "id": "2f1b2b76",
   "metadata": {
    "slideshow": {
     "slide_type": "subslide"
    }
   },
   "source": [
    "### Existence and uniqueness\n",
    "\n",
    "**T&B Theorem 7.1.** Every $A \\in \\mathbb{C}^{m \\times n}$ ($m \\geq n$) has a full $QR$ factorization, hence also a reduced QR factorization.\n",
    "\n",
    "_Proof._ The steps of the algorithm.  There is a need to handle the case when the columns are not linearly independent, but we can just an arbitrary vector $q_j \\perp \\hat{Q}_{1:j-1}$ at that step and the algorithm continues.\n",
    "\n",
    "**T&B Theorem 7.2.** Each $A \\in \\mathbb{C}^{m \\times n}$ ($m \\geq n$) of full rank has a unique reduced QR factorization $A = \\hat{Q} \\hat{R}$ with $r_{jj}$ real and $r_{jj} > 0$.\n",
    "\n",
    "_Proof_.  We will see why when we implement the classical Gram-Schmidt algorithm."
   ]
  },
  {
   "cell_type": "markdown",
   "id": "d4154128",
   "metadata": {
    "slideshow": {
     "slide_type": "subslide"
    }
   },
   "source": [
    "### Usage: solving $Ax = b$\n",
    "\n",
    "$$A x = b \\Leftrightarrow Q R x = b \\quad \\text{(step 1: QR factorization)}$$\n",
    "\n",
    "$$Q R x = b \\Leftrightarrow R x = Q^* b \\quad \\text{(step 2: compute } y = Q^*b\\text{)}$$\n",
    "\n",
    "$$R x = Q^*b \\Leftrightarrow x = R^{-1} Q^*b \\quad \\text{(step 3:  invert triangular matrix, }x = R^{-1}y\\text{)}$$"
   ]
  },
  {
   "cell_type": "code",
   "execution_count": 13,
   "id": "0417e1a7",
   "metadata": {
    "cell_style": "split"
   },
   "outputs": [
    {
     "data": {
      "text/plain": [
       "1.8451714839671516e-13"
      ]
     },
     "execution_count": 13,
     "metadata": {},
     "output_type": "execute_result"
    }
   ],
   "source": [
    "m = 100\n",
    "A = randn(m, m)\n",
    "b = randn(m)\n",
    "Q, R = qr(A)\n",
    "x = R \\ (Q' * b)\n",
    "norm(b - A * x)"
   ]
  },
  {
   "cell_type": "markdown",
   "id": "5d32b171",
   "metadata": {
    "cell_style": "split"
   },
   "source": [
    "This method is more stable but more expensive than the more conventional Gaussian elimination."
   ]
  },
  {
   "cell_type": "markdown",
   "id": "42dbfdf5",
   "metadata": {
    "slideshow": {
     "slide_type": "subslide"
    }
   },
   "source": [
    "### Note on HW2, problem 3\n",
    "\n",
    "($A \\in \\mathbb{C}^{m \\times n}$ ($m \\geq n$) is full rank if and only if $\\hat{R}$ from the reduced QR factoriation has all nonzeros on the diagonal.)\n",
    "\n",
    "What is the determinant of a triangular matrix?"
   ]
  },
  {
   "cell_type": "markdown",
   "id": "53d35357",
   "metadata": {
    "slideshow": {
     "slide_type": "slide"
    }
   },
   "source": [
    "## Classical Gram-Schmidt"
   ]
  },
  {
   "cell_type": "markdown",
   "id": "d8f1baf2",
   "metadata": {
    "slideshow": {
     "slide_type": "subslide"
    }
   },
   "source": [
    "### Slim down the work in the projection\n",
    "\n",
    "$$\\tilde q_j = (I - P_{1:j-1}) a_j = (I - \\hat{Q}_{1:j-1} \\hat{Q}_{1:j-1}^*) a_j = a_j - \\hat{Q}_{1:j-1}(\\hat{Q}_{1:j-1} a_j)$$\n",
    "\n",
    "$O((j-1)m)$ work to compute the projection this ways, as opposed to $O(m^2)$ if using the constructed matrix\n",
    "$(I - P_{1:j-1})$\n",
    "\n",
    "So we will initialize $\\tilde{q}_j^{(0)} = a_j$ and then do\n",
    "\n",
    "$$\\tilde{q}_j = \\tilde{q}_j^{(0)} - \\hat{Q}_{1:j-1}(\\hat{Q}_{1:j-1} \\tilde{q}_j^{(0)}).$$\n",
    "\n",
    "(Only use $A$ to make a copy, try to do most operations _in place_ on $\\hat{Q}$.)"
   ]
  },
  {
   "cell_type": "code",
   "execution_count": 14,
   "id": "c0d46ccc",
   "metadata": {
    "slideshow": {
     "slide_type": "subslide"
    }
   },
   "outputs": [
    {
     "data": {
      "text/plain": [
       "qr_projectors_slim (generic function with 1 method)"
      ]
     },
     "execution_count": 14,
     "metadata": {},
     "output_type": "execute_result"
    }
   ],
   "source": [
    "function qr_projectors_slim(A)\n",
    "    m, n = size(A)\n",
    "    Q̂ = copy(A)\n",
    "    R̂ = zeros(eltype(A), n, n)\n",
    "    for j in 1:n\n",
    "        # Project Q̂[:,1:j-1] component out of Q̂[:,j]\n",
    "        Q̂[:,j] -= Q̂[:,1:j-1] * (Q̂[:,1:j-1]' * Q̂[:,j]) # parentheses to do this matvec first\n",
    "        # Normalize\n",
    "        Q̂[:,j] /= norm(Q̂[:,j])\n",
    "        R̂[1:j,j] = Q̂[:,1:j]' * A[:,j]\n",
    "    end\n",
    "    return Q̂, R̂\n",
    "end"
   ]
  },
  {
   "cell_type": "code",
   "execution_count": 15,
   "id": "4292aa47",
   "metadata": {},
   "outputs": [
    {
     "name": "stdout",
     "output_type": "stream",
     "text": [
      "Reconstruction error || A - Q R ||_F = 1.4365514006866788e-14\n",
      "Orthonormality error || I - Q'Q ||_F = 2.962030262943749e-15\n",
      "Upper-triangularity error || R - triu(R) ||_F = 0.0\n"
     ]
    },
    {
     "data": {
      "text/plain": [
       "true"
      ]
     },
     "execution_count": 15,
     "metadata": {},
     "output_type": "execute_result"
    }
   ],
   "source": [
    "m = 100; n = 50;\n",
    "A = randn(m, n);\n",
    "Q̂, R̂ = qr_projectors_slim(A);\n",
    "qr_test(A, Q̂, R̂)"
   ]
  },
  {
   "cell_type": "markdown",
   "id": "fc496a8f",
   "metadata": {
    "slideshow": {
     "slide_type": "subslide"
    }
   },
   "source": [
    "### Slim down the work in the calculation of $\\hat{R}$"
   ]
  },
  {
   "cell_type": "markdown",
   "id": "2df0765e",
   "metadata": {
    "cell_style": "split"
   },
   "source": [
    "$$ r_{1:j,j} = \\hat{Q}_{1:j}^* a_j = \n",
    "\\begin{bmatrix}\n",
    " \\\\\n",
    "\\hat{Q}_{i:j-1}^* a_j \\\\\n",
    " \\\\ \\hline\n",
    "q_j^* a_j \\\\\n",
    "\\end{bmatrix}\n",
    "$$"
   ]
  },
  {
   "cell_type": "markdown",
   "id": "702fceeb",
   "metadata": {
    "cell_style": "split"
   },
   "source": [
    "- The top of the vector $\\hat{Q}_{i:j-1}^* a_j = \\hat{Q}_{i:j-1}^* \\tilde{q}_j^{(0)}$ was already computed as part of the projector to compute $\\tilde{q}_j$: save and reuse the computation."
   ]
  },
  {
   "cell_type": "markdown",
   "id": "bde446ce",
   "metadata": {
    "cell_style": "split"
   },
   "source": [
    "- The final value is\n",
    "\n",
    "$$\n",
    "q_j^* a_j = \\frac{1}{\\|\\tilde{q}_j\\|} \\tilde{q}_j^* \\tilde{q}_j^{(0)}.\n",
    "$$"
   ]
  },
  {
   "cell_type": "markdown",
   "id": "c1ab52cc",
   "metadata": {
    "cell_style": "center"
   },
   "source": [
    "- We can use the fact that $\\tilde{q}_j^{(0)} = \\tilde{q}_j + P_{1:j-1} \\tilde{q}_j^{(0)}$ to see that we don't need to recompute this quantity:\n",
    "\n",
    "$$\n",
    "\\frac{1}{\\|\\tilde{q}_j\\|} \\tilde{q}_j^* \\tilde{q}_j^{(0)} = \\frac{1}{\\|\\tilde{q}_j\\|}\\tilde{q}_j^*(\\tilde{q}_j + P_{1:j-1} \\tilde{q}_j^{(0)}) = \\frac{1}{\\|\\tilde{q}_j\\|}\\tilde{q}_j^* \\tilde{q}_j = \\|\\tilde{q}_j\\|.\n",
    "$$"
   ]
  },
  {
   "cell_type": "markdown",
   "id": "c328ef68",
   "metadata": {
    "slideshow": {
     "slide_type": "subslide"
    }
   },
   "source": [
    "### Result: the (unstable) Classical Gram-Schmidt algorithm"
   ]
  },
  {
   "cell_type": "code",
   "execution_count": 16,
   "id": "936f168a",
   "metadata": {
    "slideshow": {
     "slide_type": "-"
    }
   },
   "outputs": [
    {
     "data": {
      "text/plain": [
       "qr_classical_gram_schmidt (generic function with 1 method)"
      ]
     },
     "execution_count": 16,
     "metadata": {},
     "output_type": "execute_result"
    }
   ],
   "source": [
    "function qr_classical_gram_schmidt(A)\n",
    "    m, n = size(A)\n",
    "    Q̂ = copy(A)\n",
    "    R̂ = zeros(eltype(A), n, n)\n",
    "    for j in 1:n\n",
    "        # Compute coefficients of aⱼ in Q̂[:,1:j-1] basis\n",
    "        R̂[1:j-1,j] = Q̂[:,1:j-1]' * Q̂[:,j]\n",
    "        # Project Q̂[:,1:j-1] components out of Q̂[:,j]\n",
    "        Q̂[:,j] -= Q̂[:,1:j-1] * R̂[1:j-1,j]\n",
    "        # Normalize\n",
    "        R̂[j,j] = norm(Q̂[:,j])\n",
    "        Q̂[:,j] /= R̂[j,j]\n",
    "    end\n",
    "    return Q̂, R̂\n",
    "end"
   ]
  },
  {
   "cell_type": "code",
   "execution_count": 17,
   "id": "ee7324a5",
   "metadata": {},
   "outputs": [
    {
     "name": "stdout",
     "output_type": "stream",
     "text": [
      "Reconstruction error || A - Q R ||_F = 9.615594908785953e-15\n",
      "Orthonormality error || I - Q'Q ||_F = 2.6004068994506437e-15\n",
      "Upper-triangularity error || R - triu(R) ||_F = 0.0\n"
     ]
    },
    {
     "data": {
      "text/plain": [
       "true"
      ]
     },
     "execution_count": 17,
     "metadata": {},
     "output_type": "execute_result"
    }
   ],
   "source": [
    "m = 100; n = 50;\n",
    "A = randn(m, n);\n",
    "Q̂, R̂ = qr_classical_gram_schmidt(A);\n",
    "qr_test(A, Q̂, R̂)"
   ]
  },
  {
   "cell_type": "markdown",
   "id": "ffe5d8fa",
   "metadata": {},
   "source": [
    "### Classical Gram-Schmidt in action"
   ]
  },
  {
   "cell_type": "code",
   "execution_count": 18,
   "id": "27c9b2dc",
   "metadata": {
    "hideCode": true,
    "slideshow": {
     "slide_type": "subslide"
    }
   },
   "outputs": [
    {
     "name": "stderr",
     "output_type": "stream",
     "text": [
      "┌ Info: Saved animation to \n",
      "│   fn = /home/tisaac/srv/rep/22-course-cse6643/mybinder/tmp.gif\n",
      "└ @ Plots /home/tisaac/.julia/packages/Plots/Xv2qA/src/animation.jl:114\n"
     ]
    },
    {
     "data": {
      "text/html": [
       "<img src=\"data:image/gif;base64,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\" />"
      ],
      "text/plain": [
       "Plots.AnimatedGif(\"/home/tisaac/srv/rep/22-course-cse6643/mybinder/tmp.gif\")"
      ]
     },
     "execution_count": 18,
     "metadata": {},
     "output_type": "execute_result"
    }
   ],
   "source": [
    "m = 10; n = 5;\n",
    "A = randn(m, n)\n",
    "A /= maximum(abs.(A))\n",
    "Q̂ = copy(A)\n",
    "R̂ = zeros(n, n)\n",
    "r_scale = maximum(abs.(qr(A).R))\n",
    "anim = Animation()\n",
    "function step_plot(A,Q̂,R̂,j)\n",
    "    Q_plot = imshow(Q̂,(-1,1))\n",
    "    plot!(Q_plot,title=\"Q\")\n",
    "    ortho_plot = imshow(Q̂' * Q̂,(-1,1))\n",
    "    plot!(ortho_plot,title=\"Q'Q\")\n",
    "    recon_plot = imshow(A - Q̂ * R̂,(-1,1))\n",
    "    plot!(recon_plot,title=\"A - QR\")\n",
    "    R_plot = imshow(R̂,(-r_scale,r_scale))\n",
    "    plot!(R_plot,title=\"R\")\n",
    "    return plot(Q_plot, R_plot, ortho_plot, recon_plot, layout=(1,4), size=(1300,800), plot_title=\"Step $j\")\n",
    "end\n",
    "frame(anim,step_plot(A,Q̂,R̂,0))\n",
    "for j in 1:n\n",
    "    # Compute coefficients of aⱼ in Q̂[:,1:j-1] basis\n",
    "    R̂[1:j-1,j] = Q̂[:,1:j-1]' * Q̂[:,j]\n",
    "    # Project Q̂[:,1:j-1] components out of Q̂[:,j]\n",
    "    Q̂[:,j] -= Q̂[:,1:j-1] * R̂[1:j-1,j]\n",
    "    # Normalize\n",
    "    R̂[j,j] = norm(Q̂[:,j])\n",
    "    Q̂[:,j] /= R̂[j,j]\n",
    "    frame(anim,step_plot(A,Q̂,R̂,j))\n",
    "end\n",
    "frame(anim,step_plot(A,Q̂,R̂,n))\n",
    "gif(anim,fps=0.5)"
   ]
  },
  {
   "cell_type": "markdown",
   "id": "0e0b1a58",
   "metadata": {
    "slideshow": {
     "slide_type": "subslide"
    }
   },
   "source": [
    "### Each step of CGS is a matrix transformation applied to $\\hat{Q}$"
   ]
  },
  {
   "cell_type": "markdown",
   "id": "5accaab3",
   "metadata": {
    "slideshow": {
     "slide_type": "-"
    }
   },
   "source": [
    "```julia\n",
    "        # Project Q̂[:,1:j-1] components out of Q̂[:,j]\n",
    "        Q̂[:,j] -= Q̂[:,1:j-1] * R̂[1:j-1,j]\n",
    "```\n",
    "\n",
    "\"Subtract from column $j$: $r_{1,j} \\cdot$ column 1 and $r_{2,j} \\cdot$ column 2 and ...\"\n",
    "\n",
    "```julia\n",
    "        # Normalize\n",
    "        Q̂[:,j] /= R̂[j,j]\n",
    "```\n",
    "\n",
    "\"Scale column $j$ by $\\|r_{j,j}\\|^{-1}$\"\n",
    "\n",
    "(Remember warmup for lecture 2: each of these transformations is a matrix applied on the _right_)"
   ]
  },
  {
   "cell_type": "markdown",
   "id": "ae8cc31b",
   "metadata": {
    "slideshow": {
     "slide_type": "subslide"
    }
   },
   "source": [
    "### Step $j$: multiply $\\hat{Q}$ by an upper-triangular matrix\n",
    "\n",
    "$$\n",
    "\\begin{bmatrix}\n",
    "    & & & & & & \\\\\n",
    "    & & & & & & \\\\\n",
    "    & & & & & & \\\\\n",
    "    & & & & & & \\\\\n",
    "    & & & \\hat{Q} & & & \\\\\n",
    "    & & & & & & \\\\\n",
    "    & & & & & & \\\\\n",
    "    & & & & & & \\\\\n",
    "    & & & & & & \\\\\n",
    "\\end{bmatrix}\n",
    "\\gets\n",
    "\\begin{bmatrix}\n",
    "    & & & & & & \\\\\n",
    "    & & & & & & \\\\\n",
    "    & & & & & & \\\\\n",
    "    & & & & & & \\\\\n",
    "    & & & \\hat{Q} & & & \\\\\n",
    "    & & & & & & \\\\\n",
    "    & & & & & & \\\\\n",
    "    & & & & & & \\\\\n",
    "    & & & & & & \\\\\n",
    "\\end{bmatrix}\n",
    "\\underbrace{\n",
    "\\begin{bmatrix}\n",
    "   1 & & & -r_{1,j} / r_{jj} & & & \\\\\n",
    "    & \\ddots & & \\vdots & & & \\\\\n",
    "    & & 1 & -r_{j-1,j} / r_{jj} & & & \\\\\n",
    "    & & & 1 / r_{jj} & & & \\\\\n",
    "    & & & & 1 & & \\\\\n",
    "    & & & & & \\ddots & \\\\\n",
    "    & & & & & & 1\n",
    "\\end{bmatrix}\n",
    "}_{Z_j}\n",
    "$$\n",
    "\n",
    "$Z_j$ is an upper-triangular matrix one nonzero column in column $j$."
   ]
  },
  {
   "cell_type": "markdown",
   "id": "6b4820e2",
   "metadata": {
    "slideshow": {
     "slide_type": "subslide"
    }
   },
   "source": [
    "### CGS Constructs $\\hat{Q}$ from $A$ by Triangular Orthogonalization\n",
    "$$\n",
    "\\begin{bmatrix}\n",
    " & & \\\\\n",
    " & & \\\\\n",
    " & A & \\\\\n",
    " & & \\\\\n",
    " & & \\\\\n",
    "\\end{bmatrix}\n",
    "\\underbrace{\n",
    "\\begin{bmatrix}\n",
    "& & \\\\\n",
    "& Z_1 & \\\\\n",
    "& & \\\\\n",
    "\\end{bmatrix}\n",
    "\\begin{bmatrix}\n",
    "& & \\\\\n",
    "& Z_2 & \\\\\n",
    "& & \\\\\n",
    "\\end{bmatrix}\n",
    "\\dots\n",
    "\\begin{bmatrix}\n",
    "& & \\\\\n",
    "& Z_n & \\\\\n",
    "& & \\\\\n",
    "\\end{bmatrix}\n",
    "}_{\\hat{R}^{-1}}\n",
    "=\n",
    "\\begin{bmatrix}\n",
    " & & \\\\\n",
    " & & \\\\\n",
    " & \\hat{Q} & \\\\\n",
    " & & \\\\\n",
    " & & \\\\\n",
    "\\end{bmatrix}\n",
    "$$\n",
    "\n",
    "The product of the $Z_j$'s is $\\hat{R}^{-1}$."
   ]
  },
  {
   "cell_type": "markdown",
   "id": "09e0b9e4",
   "metadata": {
    "slideshow": {
     "slide_type": "subslide"
    }
   },
   "source": [
    "### Classical Gram-Schmidt meets its adversary: the Kahan matrix\n",
    "\n",
    "$$\n",
    "\\begin{bmatrix}\n",
    "& & & & \\\\\n",
    "& & & & \\\\\n",
    "& & M_\\theta & & \\\\\n",
    "& & & & \\\\\n",
    "& & & & \\\\\n",
    "\\end{bmatrix}\n",
    "=\n",
    "\\begin{bmatrix}\n",
    "1 & & & & \\\\\n",
    "& s & & & \\\\\n",
    "& & \\ddots & & \\\\\n",
    "& & & s^{n-2} & \\\\\n",
    "& & & & s^{n-1} \\\\\n",
    "\\end{bmatrix}\n",
    "\\begin{bmatrix}\n",
    "1 & -c & -c & \\dots & -c \\\\\n",
    "& 1 & -c & & -c \\\\\n",
    "& & \\ddots & \\ddots & \\vdots \\\\\n",
    "& & & 1 & -c\\\\\n",
    "& & & & 1 \\\\\n",
    "\\end{bmatrix}\n",
    "$$\n"
   ]
  },
  {
   "cell_type": "code",
   "execution_count": 19,
   "id": "17d6fc54",
   "metadata": {
    "cell_style": "center"
   },
   "outputs": [
    {
     "data": {
      "text/plain": [
       "kahan (generic function with 1 method)"
      ]
     },
     "execution_count": 19,
     "metadata": {},
     "output_type": "execute_result"
    }
   ],
   "source": [
    "function kahan(m, θ)\n",
    "    s = sin(θ)\n",
    "    c = cos(θ)\n",
    "    S = Diagonal(s .^ collect(0:m-1))\n",
    "    K = UnitUpperTriangular(-c * ones(m,m))\n",
    "    return S * K\n",
    "end"
   ]
  },
  {
   "cell_type": "code",
   "execution_count": 20,
   "id": "cc66b47b",
   "metadata": {
    "hideCode": true,
    "slideshow": {
     "slide_type": "subslide"
    }
   },
   "outputs": [
    {
     "data": {
      "image/svg+xml": [
       "<?xml version=\"1.0\" encoding=\"utf-8\"?>\n",
       "<svg xmlns=\"http://www.w3.org/2000/svg\" xmlns:xlink=\"http://www.w3.org/1999/xlink\" width=\"1300\" height=\"800\" viewBox=\"0 0 5200 3200\">\n",
       "<defs>\n",
       "  <clipPath id=\"clip470\">\n",
       "    <rect x=\"0\" y=\"0\" width=\"5200\" height=\"3200\"/>\n",
       "  </clipPath>\n",
       "</defs>\n",
       "<path clip-path=\"url(#clip470)\" d=\"\n",
       "M0 3200 L5200 3200 L5200 0 L0 0  Z\n",
       "  \" fill=\"#ffffff\" fill-rule=\"evenodd\" fill-opacity=\"1\"/>\n",
       "<defs>\n",
       "  <clipPath id=\"clip471\">\n",
       "    <rect x=\"1040\" y=\"0\" width=\"3641\" height=\"3200\"/>\n",
       "  </clipPath>\n",
       "</defs>\n",
       "<path clip-path=\"url(#clip470)\" d=\"\n",
       "M166.959 2567.48 L1166.09 2567.48 L1166.09 624.448 L166.959 624.448  Z\n",
       "  \" fill=\"#ffffff\" fill-rule=\"evenodd\" fill-opacity=\"1\"/>\n",
       "<defs>\n",
       "  <clipPath id=\"clip472\">\n",
       "    <rect x=\"166\" y=\"624\" width=\"1000\" height=\"1944\"/>\n",
       "  </clipPath>\n",
       "</defs>\n",
       "<path clip-path=\"url(#clip470)\" d=\"M592.373 43.8146 L566.568 43.8146 Q567.176 55.9268 569.971 61.0714 Q573.455 67.3908 579.491 67.3908 Q585.567 67.3908 588.929 61.0309 Q591.886 55.4407 592.373 43.8146 M592.251 36.928 Q591.117 25.4235 588.929 21.3726 Q585.445 14.9721 579.491 14.9721 Q573.293 14.9721 570.012 21.2916 Q567.419 26.3957 566.649 36.928 L592.251 36.928 M579.491 8.89579 Q589.213 8.89579 594.763 17.4837 Q600.312 26.0311 600.312 41.1815 Q600.312 56.2914 594.763 64.8793 Q589.213 73.5077 579.491 73.5077 Q569.728 73.5077 564.219 64.8793 Q558.669 56.2914 558.669 41.1815 Q558.669 26.0311 564.219 17.4837 Q569.728 8.89579 579.491 8.89579 Z\" fill=\"#000000\" fill-rule=\"evenodd\" fill-opacity=\"1\" /><path clip-path=\"url(#clip470)\" d=\"M640.011 34.9026 L691.944 34.9026 L691.944 41.7081 L640.011 41.7081 L640.011 34.9026 M640.011 51.4303 L691.944 51.4303 L691.944 58.3168 L640.011 58.3168 L640.011 51.4303 Z\" fill=\"#000000\" fill-rule=\"evenodd\" fill-opacity=\"1\" /><path clip-path=\"url(#clip470)\" d=\"M753.477 17.4837 Q747.158 17.4837 743.957 23.7221 Q740.798 29.92 740.798 42.3968 Q740.798 54.833 743.957 61.0714 Q747.158 67.2693 753.477 67.2693 Q759.837 67.2693 762.997 61.0714 Q766.197 54.833 766.197 42.3968 Q766.197 29.92 762.997 23.7221 Q759.837 17.4837 753.477 17.4837 M753.477 11.0023 Q763.645 11.0023 768.992 19.0636 Q774.38 27.0843 774.38 42.3968 Q774.38 57.6687 768.992 65.73 Q763.645 73.7508 753.477 73.7508 Q743.309 73.7508 737.922 65.73 Q732.574 57.6687 732.574 42.3968 Q732.574 27.0843 737.922 19.0636 Q743.309 11.0023 753.477 11.0023 Z\" fill=\"#000000\" fill-rule=\"evenodd\" fill-opacity=\"1\" /><g clip-path=\"url(#clip472)\">\n",
       "<image width=\"999\" height=\"999\" xlink:href=\"data:image/png;base64,\n",
       "iVBORw0KGgoAAAANSUhEUgAAA+cAAAPnCAYAAABN/j28AAAXnUlEQVR4nO3ZURFAUABEUcQRQg9x\n",
       "tBLI3wtBC9eMcxLs752dz/26Jz7j2NZ6AgAAAC9b6gEAAADwd+IcAAAAYuIcAAAAYuIcAAAAYuIc\n",
       "AAAAYuIcAAAAYuIcAAAAYuIcAAAAYuIcAAAAYuIcAAAAYuIcAAAAYuIcAAAAYuIcAAAAYuIcAAAA\n",
       "YuIcAAAAYuIcAAAAYuIcAAAAYuIcAAAAYuIcAAAAYuIcAAAAYuIcAAAAYuIcAAAAYuIcAAAAYuIc\n",
       "AAAAYuIcAAAAYuIcAAAAYuIcAAAAYuIcAAAAYuIcAAAAYuIcAAAAYuIcAAAAYuIcAAAAYuIcAAAA\n",
       "YuIcAAAAYuIcAAAAYuIcAAAAYuIcAAAAYuIcAAAAYuIcAAAAYuIcAAAAYuIcAAAAYuIcAAAAYuIc\n",
       "AAAAYuIcAAAAYuIcAAAAYuIcAAAAYuIcAAAAYuIcAAAAYuIcAAAAYuIcAAAAYuIcAAAAYuIcAAAA\n",
       "YuIcAAAAYuIcAAAAYuIcAAAAYuIcAAAAYuIcAAAAYuIcAAAAYuIcAAAAYuIcAAAAYuIcAAAAYuIc\n",
       "AAAAYuIcAAAAYuIcAAAAYuIcAAAAYuIcAAAAYuIcAAAAYuIcAAAAYuIcAAAAYuIcAAAAYuIcAAAA\n",
       "YuIcAAAAYuIcAAAAYuIcAAAAYuIcAAAAYuIcAAAAYuIcAAAAYuIcAAAAYuIcAAAAYuIcAAAAYuIc\n",
       "AAAAYuIcAAAAYuIcAAAAYuIcAAAAYuIcAAAAYuIcAAAAYuIcAAAAYuIcAAAAYuIcAAAAYuIcAAAA\n",
       "YuIcAAAAYuIcAAAAYuIcAAAAYuIcAAAAYuIcAAAAYuIcAAAAYuIcAAAAYuIcAAAAYuIcAAAAYvMY\n",
       "465HAAAAwJ95zgEAACAmzgEAACAmzgEAACAmzgEAACAmzgEAACAmzgEAACAmzgEAACAmzgEAACAm\n",
       "zgEAACAmzgEAACAmzgEAACAmzgEAACAmzgEAACAmzgEAACAmzgEAACAmzgEAACAmzgEAACAmzgEA\n",
       "ACAmzgEAACAmzgEAACAmzgEAACAmzgEAACAmzgEAACAmzgEAACAmzgEAACAmzgEAACAmzgEAACAm\n",
       "zgEAACAmzgEAACAmzgEAACAmzgEAACAmzgEAACAmzgEAACAmzgEAACAmzgEAACAmzgEAACAmzgEA\n",
       "ACAmzgEAACAmzgEAACAmzgEAACAmzgEAACAmzgEAACAmzgEAACAmzgEAACAmzgEAACAmzgEAACAm\n",
       "zgEAACAmzgEAACAmzgEAACAmzgEAACAmzgEAACAmzgEAACAmzgEAACAmzgEAACAmzgEAACAmzgEA\n",
       "ACAmzgEAACAmzgEAACAmzgEAACAmzgEAACAmzgEAACAmzgEAACAmzgEAACAmzgEAACAmzgEAACAm\n",
       "zgEAACAmzgEAACAmzgEAACAmzgEAACAmzgEAACAmzgEAACAmzgEAACAmzgEAACAmzgEAACAmzgEA\n",
       "ACAmzgEAACAmzgEAACAmzgEAACAmzgEAACAmzgEAACAmzgEAACAmzgEAACAmzgEAACAmzgEAACAm\n",
       "zgEAACAmzgEAACAmzgEAACAmzgEAACAmzgEAACAmzgEAACAmzgEAACAmzgEAACAmzgEAACAmzgEA\n",
       "ACAmzgEAACAmzgEAACAmzgEAACAmzgEAACAmzgEAACAmzgEAACAmzgEAACAmzgEAACAmzgEAACAm\n",
       "zgEAACAmzgEAACAmzgEAACAmzgEAACAmzgEAACAmzgEAACAmzgEAACAmzgEAACAmzgEAACAmzgEA\n",
       "ACAmzgEAACAmzgEAACAmzgEAACAmzgEAACAmzgEAACAmzgEAACAmzgEAACAmzgEAACAmzgEAACAm\n",
       "zgEAACAmzgEAACAmzgEAACAmzgEAACAmzgEAACAmzgEAACAmzgEAACAmzgEAACAmzgEAACAmzgEA\n",
       "ACAmzgEAACAmzgEAACAmzgEAACAmzgEAACAmzgEAACAmzgEAACAmzgEAACAmzgEAACAmzgEAACAm\n",
       "zgEAACAmzgEAACAmzgEAACAmzgEAACAmzgEAACAmzgEAACAmzgEAACAmzgEAACAmzgEAACAmzgEA\n",
       "ACAmzgEAACAmzgEAACAmzgEAACAmzgEAACAmzgEAACAmzgEAACAmzgEAACAmzgEAACAmzgEAACAm\n",
       "zgEAACAmzgEAACAmzgEAACAmzgEAACAmzgEAACAmzgEAACAmzgEAACAmzgEAACAmzgEAACAmzgEA\n",
       "ACAmzgEAACAmzgEAACAmzgEAACAmzgEAACAmzgEAACAmzgEAACAmzgEAACAmzgEAACAmzgEAACAm\n",
       "zgEAACAmzgEAACAmzgEAACAmzgEAACAmzgEAACAmzgEAACAmzgEAACAmzgEAACAmzgEAACAmzgEA\n",
       "ACAmzgEAACAmzgEAACAmzgEAACAmzgEAACAmzgEAACAmzgEAACAmzgEAACAmzgEAACAmzgEAACAm\n",
       "zgEAACAmzgEAACAmzgEAACAmzgEAACAmzgEAACAmzgEAACAmzgEAACAmzgEAACAmzgEAACAmzgEA\n",
       "ACAmzgEAACAmzgEAACAmzgEAACAmzgEAACAmzgEAACAmzgEAACAmzgEAACAmzgEAACAmzgEAACAm\n",
       "zgEAACAmzgEAACAmzgEAACAmzgEAACAmzgEAACAmzgEAACAmzgEAACAmzgEAACAmzgEAACAmzgEA\n",
       "ACAmzgEAACAmzgEAACAmzgEAACAmzgEAACAmzgEAACAmzgEAACAmzgEAACAmzgEAACAmzgEAACAm\n",
       "zgEAACAmzgEAACAmzgEAACAmzgEAACAmzgEAACAmzgEAACAmzgEAACAmzgEAACAmzgEAACAmzgEA\n",
       "ACAmzgEAACAmzgEAACAmzgEAACAmzgEAACAmzgEAACAmzgEAACAmzgEAACAmzgEAACAmzgEAACAm\n",
       "zgEAACAmzgEAACAmzgEAACAmzgEAACAmzgEAACAmzgEAACAmzgEAACAmzgEAACAmzgEAACAmzgEA\n",
       "ACAmzgEAACAmzgEAACAmzgEAACAmzgEAACAmzgEAACAmzgEAACAmzgEAACAmzgEAACAmzgEAACAm\n",
       "zgEAACAmzgEAACAmzgEAACAmzgEAACAmzgEAACAmzgEAACAmzgEAACAmzgEAACAmzgEAACAmzgEA\n",
       "ACAmzgEAACAmzgEAACAmzgEAACAmzgEAACAmzgEAACAmzgEAACAmzgEAACAmzgEAACAmzgEAACAm\n",
       "zgEAACAmzgEAACAmzgEAACAmzgEAACAmzgEAACAmzgEAACAmzgEAACAmzgEAACAmzgEAACAmzgEA\n",
       "ACAmzgEAACAmzgEAACAmzgEAACAmzgEAACAmzgEAACAmzgEAACAmzgEAACAmzgEAACAmzgEAACAm\n",
       "zgEAACAmzgEAACAmzgEAACAmzgEAACAmzgEAACAmzgEAACAmzgEAACAmzgEAACAmzgEAACAmzgEA\n",
       "ACAmzgEAACAmzgEAACAmzgEAACAmzgEAACAmzgEAACAmzgEAACAmzgEAACAmzgEAACAmzgEAACAm\n",
       "zgEAACAmzgEAACAmzgEAACAmzgEAACAmzgEAACAmzgEAACAmzgEAACAmzgEAACAmzgEAACAmzgEA\n",
       "ACAmzgEAACAmzgEAACAmzgEAACAmzgEAACAmzgEAACAmzgEAACAmzgEAACAmzgEAACAmzgEAACAm\n",
       "zgEAACAmzgEAACAmzgEAACAmzgEAACAmzgEAACAmzgEAACAmzgEAACAmzgEAACAmzgEAACAmzgEA\n",
       "ACAmzgEAACAmzgEAACAmzgEAACAmzgEAACAmzgEAACAmzgEAACAmzgEAACAmzgEAACAmzgEAACAm\n",
       "zgEAACAmzgEAACAmzgEAACAmzgEAACAmzgEAACAmzgEAACAmzgEAACAmzgEAACAmzgEAACAmzgEA\n",
       "ACAmzgEAACAmzgEAACAmzgEAACAmzgEAACAmzgEAACAmzgEAACAmzgEAACAmzgEAACAmzgEAACAm\n",
       "zgEAACAmzgEAACAmzgEAACAmzgEAACAmzgEAACAmzgEAACAmzgEAACAmzgEAACAmzgEAACAmzgEA\n",
       "ACAmzgEAACAmzgEAACAmzgEAACAmzgEAACAmzgEAACAmzgEAACAmzgEAACAmzgEAACAmzgEAACAm\n",
       "zgEAACAmzgEAACAmzgEAACAmzgEAACAmzgEAACAmzgEAACAmzgEAACAmzgEAACAmzgEAACAmzgEA\n",
       "ACAmzgEAACAmzgEAACAmzgEAACAmzgEAACAmzgEAACAmzgEAACAmzgEAACAmzgEAACAmzgEAACAm\n",
       "zgEAACAmzgEAACAmzgEAACAmzgEAACAmzgEAACAmzgEAACAmzgEAACAmzgEAACAmzgEAACAmzgEA\n",
       "ACAmzgEAACAmzgEAACAmzgEAACAmzgEAACAmzgEAACAmzgEAACAmzgEAACAmzgEAACAmzgEAACAm\n",
       "zgEAACAmzgEAACAmzgEAACAmzgEAACAmzgEAACAmzgEAACAmzgEAACAmzgEAACAmzgEAACAmzgEA\n",
       "ACAmzgEAACAmzgEAACAmzgEAACAmzgEAACAmzgEAACAmzgEAACAmzgEAACAmzgEAACAmzgEAACAm\n",
       "zgEAACAmzgEAACAmzgEAACAmzgEAACAmzgEAACAmzgEAACAmzgEAACAmzgEAACAmzgEAACAmzgEA\n",
       "ACAmzgEAACAmzgEAACAmzgEAACAmzgEAACAmzgEAACAmzgEAACAmzgEAACAmzgEAACAmzgEAACAm\n",
       "zgEAACAmzgEAACAmzgEAACAmzgEAACAmzgEAACAmzgEAACAmzgEAACAmzgEAACAmzgEAACAmzgEA\n",
       "ACAmzgEAACAmzgEAACAmzgEAACAmzgEAACAmzgEAACAmzgEAACAmzgEAACAmzgEAACAmzgEAACAm\n",
       "zgEAACAmzgEAACAmzgEAACAmzgEAACAmzgEAACAmzgEAACAmzgEAACAmzgEAACAmzgEAACAmzgEA\n",
       "ACAmzgEAACAmzgEAACAmzgEAACAmzgEAACAmzgEAACAmzgEAACAmzgEAACAmzgEAACAmzgEAACAm\n",
       "zgEAACAmzgEAACAmzgEAACAmzgEAACAmzgEAACAmzgEAACAmzgEAACAmzgEAACAmzgEAACAmzgEA\n",
       "ACAmzgEAACAmzgEAACAmzgEAACAmzgEAACAmzgEAACAmzgEAACAmzgEAACAmzgEAACAmzgEAACAm\n",
       "zgEAACAmzgEAACAmzgEAACAmzgEAACAmzgEAACAmzgEAACAmzgEAACAmzgEAACAmzgEAACAmzgEA\n",
       "ACAmzgEAACAmzgEAACAmzgEAACAmzgEAACAmzgEAACAmzgEAACAmzgEAACAmzgEAACAmzgEAACAm\n",
       "zgEAACAmzgEAACAmzgEAACAmzgEAACAmzgEAACAmzgEAACAmzgEAACAmzgEAACAmzgEAACAmzgEA\n",
       "ACAmzgEAACAmzgEAACAmzgEAACAmzgEAACAmzgEAACAmzgEAACAmzgEAACAmzgEAACAmzgEAACAm\n",
       "zgEAACAmzgEAACAmzgEAACAmzgEAACAmzgEAACAmzgEAACAmzgEAACAmzgEAACAmzgEAACAmzgEA\n",
       "ACAmzgEAACAmzgEAACAmzgEAACAmzgEAACAmzgEAACAmzgEAACAmzgEAACAmzgEAACAmzgEAACAm\n",
       "zgEAACAmzgEAACAmzgEAACAmzgEAACAmzgEAACAmzgEAACAmzgEAACAmzgEAACAmzgEAACAmzgEA\n",
       "ACAmzgEAACAmzgEAACAmzgEAACAmzgEAACAmzgEAACAmzgEAACAmzgEAACAmzgEAACAmzgEAACAm\n",
       "zgEAACAmzgEAACAmzgEAACAmzgEAACAmzgEAACAmzgEAACAmzgEAACAmzgEAACAmzgEAACAmzgEA\n",
       "ACAmzgEAACAmzgEAACAmzgEAACAmzgEAACAmzgEAACAmzgEAACAmzgEAACAmzgEAACAmzgEAACAm\n",
       "zgEAACAmzgEAACAmzgEAACAmzgEAACAmzgEAACAmzgEAACAmzgEAACAmzgEAACAmzgEAACAmzgEA\n",
       "ACAmzgEAACAmzgEAACAmzgEAACAmzgEAACAmzgEAACAmzgEAACAmzgEAACAmzgEAACAmzgEAACAm\n",
       "zgEAACAmzgEAACAmzgEAACAmzgEAACAmzgEAACAmzgEAACAmzgEAACAmzgEAACAmzgEAACAmzgEA\n",
       "ACAmzgEAACAmzgEAACAmzgEAACAmzgEAACAmzgEAACAmzgEAACAmzgEAACAmzgEAACAmzgEAACAm\n",
       "zgEAACAmzgEAACAmzgEAACAmzgEAACAmzgEAACAmzgEAACAmzgEAACAmzgEAACAmzgEAACAmzgEA\n",
       "ACAmzgEAACAmzgEAACAmzgEAACAmzgEAACAmzgEAACAmzgEAACAmzgEAACAmzgEAACAmzgEAACAm\n",
       "zgEAACAmzgEAACAmzgEAACAmzgEAACAmzgEAACAmzgEAACAmzgEAACAmzgEAACAmzgEAACAmzgEA\n",
       "ACAmzgEAACAmzgEAACAmzgEAACAmzgEAACAmzgEAACAmzgEAACAmzgEAACAmzgEAACAmzgEAACAm\n",
       "zgEAACAmzgEAACAmzgEAACAmzgEAACAmzgEAACAmzgEAACAmzgEAACAmzgEAACAmzgEAACAmzgEA\n",
       "ACAmzgEAACAmzgEAACAmzgEAACAmzgEAACAmzgEAACAmzgEAACAmzgEAACAmzgEAACAmzgEAACAm\n",
       "zgEAACAmzgEAACAmzgEAACAmzgEAACAmzgEAACAmzgEAACAmzgEAACAmzgEAACAmzgEAACAmzgEA\n",
       "ACAmzgEAACAmzgEAACAmzgEAACAmzgEAACAmzgEAACAmzgEAACAmzgEAACAmzgEAACAmzgEAACAm\n",
       "zgEAACAmzgEAACAmzgEAACAmzgEAACAmzgEAACAmzgEAACAmzgEAACAmzgEAACAmzgEAACAmzgEA\n",
       "ACAmzgEAACAmzgEAACAmzgEAACAmzgEAACAmzgEAACAmzgEAACAmzgEAACAmzgEAACAmzgEAACAm\n",
       "zgEAACAmzgEAACAmzgEAACAmzgEAACAmzgEAACAmzgEAACAmzgEAACAmzgEAACAmzgEAACAmzgEA\n",
       "ACAmzgEAACAmzgEAACAmzgEAACAmzgEAACAmzgEAACAmzgEAACAmzgEAACAmzgEAACAmzgEAACAm\n",
       "zgEAACAmzgEAACAmzgEAACAmzgEAACAmzgEAACAmzgEAACAmzgEAACAmzgEAACAmzgEAACAmzgEA\n",
       "ACAmzgEAACAmzgEAACAmzgEAACAmzgEAACAmzgEAACAmzgEAACAmzgEAACAmzgEAACAmzgEAACAm\n",
       "zgEAACAmzgEAACAmzgEAACAmzgEAACAmzgEAACAmzgEAACAmzgEAACAmzgEAACAmzgEAACAmzgEA\n",
       "ACAmzgEAACAmzgEAACAmzgEAACAmzgEAACAmzgEAACAmzgEAACAmzgEAACAmzgEAACAmzgEAACAm\n",
       "zgEAACAmzgEAACAmzgEAACAmzgEAACAmzgEAACAmzgEAACAmzgEAACAmzgEAACAmzgEAACAmzgEA\n",
       "ACAmzgEAACAmzgEAACAmzgEAACAmzgEAACAmzgEAACAmzgEAACAmzgEAACAmzgEAACAmzgEAACAm\n",
       "zgEAACAmzgEAACAmzgEAACAmzgEAACAmzgEAACAmzgEAACAmzgEAACAmzgEAACAmzgEAACAmzgEA\n",
       "ACAmzgEAACAmzgEAACAmzgEAACAmzgEAACAmzgEAACAmzgEAACAmzgEAACAmzgEAACAmzgEAACAm\n",
       "zgEAACAmzgEAACAmzgEAACAmzgEAACAmzgEAACAmzgEAACAmzgEAACAmzgEAACAmzgEAACAmzgEA\n",
       "ACAmzgEAACAmzgEAACAmzgEAACAmzgEAACAmzgEAACAmzgEAACAmzgEAACAmzgEAACAmzgEAACAm\n",
       "zgEAACAmzgEAACAmzgEAACAmzgEAACAmzgEAACAmzgEAACAmzgEAACAmzgEAACAmzgEAACAmzgEA\n",
       "ACAmzgEAACAmzgEAACAmzgEAACAmzgEAACAmzgEAACAmzgEAACD2AExXD2qyLznEAAAAAElFTkSu\n",
       "QmCC\n",
       "\" transform=\"translate(167, 1096)\"/>\n",
       "</g>\n",
       "<defs>\n",
       "  <clipPath id=\"clip473\">\n",
       "    <rect x=\"1270\" y=\"624\" width=\"157\" height=\"1944\"/>\n",
       "  </clipPath>\n",
       "</defs>\n",
       "<g clip-path=\"url(#clip473)\">\n",
       "<image width=\"156\" height=\"1943\" xlink:href=\"data:image/png;base64,\n",
       "iVBORw0KGgoAAAANSUhEUgAAAJwAAAeXCAYAAAAl2AwAAAAUmUlEQVR4nO3dsZEkNwAEwcFHO0lL\n",
       "6RDdeIBe1AmXacEKFS1MANjz7z//vQ8if376B/C7CI6U4EgJjpTgSAmOlOBI7Zyf/gn8JhaOlOBI\n",
       "CY6U4EgJjpTgSAmO1D7f4QhZOFKCIyU4UoIjJThSgiO1IzlCciMlOFKCIyU4UoIjJThSgiPleBIp\n",
       "C0dKcKQER0pwpARHSnCkvJ5EysKREhwpwZESHCnBkRIcKcGRmuQoyY2U4EgJjpTgSAmOlOBICY7U\n",
       "jgNxhCwcKcGREhwpwZESHCnBkXJNkJSFIyU4UoIjJThSgiMlOFKCI+UVc1IWjpTgSAmOlOBICY6U\n",
       "4EjtSI6Q3EgJjpTgSAmOlOBICY6U4Eg5nkTKwpESHCnBkRIcKcGREhwpwZHyXBcpC0dKcKQER0pw\n",
       "pARHSnCkJjlKciMlOFKCIyU4UoIjJThSgiO143wSIQtHSnCkBEdKcKQER0pwpLyeRMrCkRIcKcGR\n",
       "EhwpwZESHCnBkfJ6EikLR0pwpARHSnCkBEdKcKQER2pHcoTkRkpwpARHSnCkBEdKcKRcEyRl4UgJ\n",
       "jpTgSAmOlOBICY6U4Ei5JkjKwpESHCnBkRIcKcGREhwpx5NIWThSgiMlOFKCIyU4UoIjJThSjieR\n",
       "snCkBEdKcKQER0pwpARHapKjJDdSgiMlOFKCIyU4UoIjJThSO84nEbJwpARHSnCkBEdKcKQER0pw\n",
       "pDzXRcrCkRIcKcGREhwpwZESHCmvJ5GycKQER0pwpARHSnCkBEdKcKQ810VKbqQER0pwpARHSnCk\n",
       "BEfK8SRSFo6U4EgJjpTgSAmOlOBICY6U15NIWThSgiMlOFKCIyU4UoIjJThSzsORsnCkBEdKcKQE\n",
       "R0pwpARHyvEkUhaOlOBICY6U4EgJjpTgSAmO1M4fH+LoWDhSgiMlOFKCIyU4UoIj5XgSKQtHSnCk\n",
       "BEdKcKQER0pwpARHyutJpCwcKcGREhwpwZESHCnBkRIcKefhSFk4UoIjJThSgiMlOFKCI+V4EikL\n",
       "R0pwpARHSnCkBEdKcKQER2qSoyQ3UoIjJThSgiMlOFKCI+V4EikLR0pwpARHSnCkBEdKcKQER8rr\n",
       "SaQsHCnBkRIcKcGREhwpwZESHCnn4UhZOFKCIyU4UoIjJThSgiO1z3cRQhaOlOBICY6U4EgJjpTg\n",
       "SAmOlONJpCwcKcGREhwpwZESHCnBkfLnbqTkRkpwpARHSnCkBEdKcKQER8rxJFIWjpTgSAmOlOBI\n",
       "CY6U4Ej5czdSFo6U4EgJjpTgSAmOlOBICY6U40mkLBwpwZESHCnBkRIcKcGREhwp5+FIWThSgiMl\n",
       "OFKCIyU4UoIjtSM5QnIjJThSgiMlOFKCIyU4UoIj5XgSKQtHSnCkBEdKcKQER0pwpHY8n0TIwpES\n",
       "HCnBkRIcKcGREhwpwZFyPImUhSMlOFKCIyU4UoIjJThSgiPl3wRJWThSgiMlOFKCIyU4UoIj5XgS\n",
       "KQtHSnCkBEdKcKQER0pwpARHyr8JkpIbKcGREhwpwZESHCnBkXI8iZSFIyU4UoIjJThSgiMlOFKC\n",
       "I+U7HCkLR0pwpARHSnCkBEdKcKQER8or5qQsHCnBkRIcKcGREhwpwZFyPImUhSMlOFKCIyU4UoIj\n",
       "JThSgiPleBIpC0dKcKQER0pwpARHSnCk9vkuQsjCkRIcKcGREhwpwZESHCnBkdqRHCG5kRIcKcGR\n",
       "EhwpwZESHCmvJ5GycKQER0pwpARHSnCkBEdKcKS8nkTKwpESHCnBkRIcKcGREhwpwZFyHo6UhSMl\n",
       "OFKCIyU4UoIjJThSPouQsnCkBEdKcKQER0pwpARHSnCkXBMkZeFICY6U4EgJjpTgSAmO1CRHSW6k\n",
       "BEdKcKQER0pwpARHSnCkHE8iZeFICY6U4EgJjpTgSAmOlOBIea6LlIUjJThSgiMlOFKCIyU4UjvO\n",
       "JxGycKQER0pwpARHSnCkBEdKcKQcTyJl4UgJjpTgSAmOlOBICY6U15NIWThSgiMlOFKCIyU4UoIj\n",
       "JThSjieRsnCkBEdKcKQER0pwpARHSnCkJjlKciMlOFKCIyU4UoIjJThSrgmSsnCkBEdKcKQER0pw\n",
       "pARHSnCkXBMkZeFICY6U4EgJjpTgSAmOlONJpCwcKcGREhwpwZESHCnBkRIcKceTSFk4UoIjJThS\n",
       "giMlOFKCIyU4Ur7DkbJwpARHSnCkBEdKcKQER2pHcoTkRkpwpARHSnCkBEdKcKQER2qf97oIWThS\n",
       "giMlOFKCIyU4UoIj5RVzUhaOlOBICY6U4EgJjpTgSAmOlNeTSFk4UoIjJThSgiMlOFKCI+V4EikL\n",
       "R0pwpARHSnCkBEdKcKQER8rxJFIWjpTgSAmOlOBICY6U4EgJjpTvcKQsHCnBkRIcKcGREhwpwZHa\n",
       "kRwhuZESHCnBkRIcKcGREhwpwZFyPImUhSMlOFKCIyU4UoIjJThSXjEnZeFICY6U4EgJjpTgSAmO\n",
       "lOBIOZ5EysKREhwpwZESHCnBkRIcKcGR8h2OlIUjJThSgiMlOFKCIyU4Uq4JkrJwpARHSnCkBEdK\n",
       "cKQER0pwpPb5EEfIwpESHCnBkRIcKcGREhypHckRkhspwZESHCnBkRIcKcGREhwpryeRsnCkBEdK\n",
       "cKQER0pwpARHSnCkfIcjZeFICY6U4EgJjpTgSAmOlFfMSVk4UoIjJThSgiMlOFKCIyU4Uo4nkbJw\n",
       "pARHSnCkBEdKcKQER8pnEVIWjpTgSAmOlOBICY6U4EgJjpRrgqQsHCnBkRIcKcGREhwpwZGa5CjJ\n",
       "jZTgSAmOlOBICY6U4EgJjpTjSaQsHCnBkRIcKcGREhwpwZESHCnPdZGycKQER0pwpARHSnCkBEfK\n",
       "ZxFSFo6U4EgJjpTgSAmOlOBICY7UjnuChCwcKcGREhwpwZESHCnBkXI8iZSFIyU4UoIjJThSgiMl\n",
       "OFKCI+U7HCkLR0pwpARHSnCkBEdKcKQER2pHcoTkRkpwpARHSnCkBEdKcKQcTyJl4UgJjpTgSAmO\n",
       "lOBICY6U4Ej5DkfKwpESHCnBkRIcKcGREhyp+W83ShaOlOBICY6U4EgJjpTgSAmOlONJpCwcKcGR\n",
       "EhwpwZESHCnBkRIcKd/hSFk4UoIjJThSgiMlOFKCI+WaICkLR0pwpARHSnCkBEdKcKQER2qSoyQ3\n",
       "UoIjJThSgiMlOFKCI+XWFikLR0pwpARHSnCkBEdKcKQER8o1QVIWjpTgSAmOlOBICY6U4EgJjpTz\n",
       "cKQsHCnBkRIcKcGREhwpwZHyWYSUhSMlOFKCIyU4UoIjJThSgiPlOxwpC0dKcKQER0pwpARHSnCk\n",
       "fBYhZeFICY6U4EgJjpTgSAmOlOBI7Tvvp38Dv4iFIyU4UoIjJThSgiMlOFKCIyU4UoIjJThSgiMl\n",
       "OFKCIyU4Uq4JkrJwpARHSnCkBEdKcKQER0pwpFwTJGXhSAmOlOBICY6U4EgJjtS+z2cROhaOlOBI\n",
       "CY6U4EgJjpTgSAmOlGuCpCwcKcGREhwpwZESHCnBkdpzPImQhSMlOFKCIyU4UoIjJThSgiPlmiAp\n",
       "C0dKcKQER0pwpARHSnCkBEdqzyvmhCwcKcGREhwpwZESHCnBkXJNkJSFIyU4UoIjJThSgiMlOFKC\n",
       "I7X3fIejY+FICY6U4EgJjpTgSAmO1L7v/vRv4BexcKQER0pwpARHSnCkBEdKcKRcEyRl4UgJjpTg\n",
       "SAmOlOBICY6U4Ej5DkfKwpESHCnBkRIcKcGREhyp3eeaIB0LR0pwpARHSnCkBEdKcKQER8rxJFIW\n",
       "jpTgSAmOlOBICY6U4EjtOZ5EyMKREhwpwZESHCnBkRIcKcGR2vNvgoQsHCnBkRIcKcGREhwpwZHa\n",
       "e25t0bFwpARHSnCkBEdKcKQER0pwpHYdTyJk4UgJjpTgSAmOlOBICY6U4Eh5rouUhSMlOFKCIyU4\n",
       "UoIjJThSrgmSsnCkBEdKcKQER0pwpARHSnCkvGJOysKREhwpwZESHCnBkRIcqV23tghZOFKCIyU4\n",
       "UoIjJThSgiMlOFKuCZKycKQER0pwpARHSnCkBEdKcKRcEyRl4UgJjpTgSAmOlOBICY6Ua4KkLBwp\n",
       "wZESHCnBkRIcKcGREhwp1wRJWThSgiMlOFKCIyU4UoIj5dYWKQtHSnCkBEdKcKQER0pwpARHyjVB\n",
       "UhaOlOBICY6U4EgJjpTgSAmO1J7vcIQsHCnBkRIcKcGREhwpwZHa+7yeRMfCkRIcKcGREhwpwZES\n",
       "HCnBkXI8iZSFIyU4UoIjJThSgiMlOFJeTyJl4UgJjpTgSAmOlOBICY6U4Ei5JkjKwpESHCnBkRIc\n",
       "KcGREhwpwZFyTZCUhSMlOFKCIyU4UoIjJThSrgmSsnCkBEdKcKQER0pwpARHSnCk9p5rgnQsHCnB\n",
       "kRIcKcGREhwpwZHa+xxPomPhSAmOlOBICY6U4EgJjpTgSLkmSMrCkRIcKcGREhwpwZESHCm3tkhZ\n",
       "OFKCIyU4UoIjJThSgiMlOFKuCZKycKQER0pwpARHSnCkBEdKcKRcEyRl4UgJjpTgSAmOlOBICY6U\n",
       "a4KkLBwpwZESHCnBkRIcKcGREhwp1wRJWThSgiMlOFKCIyU4UoIj5dYWKQtHSnCkBEdKcKQER0pw\n",
       "pARHyjVBUhaOlOBICY6U4EgJjpTgSAmOlGuCpCwcKcGREhwpwZESHCnBkXJNkJSFIyU4UoIjJThS\n",
       "giMlOFKCI+WaICkLR0pwpARHSnCkBEdKcKT2HE8iZOFICY6U4EgJjpTgSAmOlOBI7Xo9iZCFIyU4\n",
       "UoIjJThSgiMlOFKCI+WaICkLR0pwpARHSnCkBEdKcKRcEyRl4UgJjpTgSAmOlOBICY6U4Ei5JkjK\n",
       "wpESHCnBkRIcKcGREhwpt7ZIWThSgiMlOFKCIyU4UoIjJThSrgmSsnCkBEdKcKQER0pwpARHyq0t\n",
       "UhaOlOBICY6U4EgJjpTgSAmOlGuCpCwcKcGREhwpwZESHCnBkRIcKdcESVk4UoIjJThSgiMlOFKC\n",
       "I7XreBIhC0dKcKQER0pwpARHSnCkBEdqz3NdhCwcKcGREhwpwZESHCnBkXJri5SFIyU4UoIjJThS\n",
       "giMlOFKCI+WaICkLR0pwpARHSnCkBEdKcKQER8o1QVIWjpTgSAmOlOBICY6U4Ei5JkjKwpESHCnB\n",
       "kRIcKcGREhwpwZFyTZCUhSMlOFKCIyU4UoIjJThSbm2RsnCkBEdKcKQER0pwpARHSnCkXBMkZeFI\n",
       "CY6U4EgJjpTgSAmOlOBIuSZIysKREhwpwZESHCnBkRIcKdcESVk4UoIjJThSgiMlOFKCIyU4Uq4J\n",
       "krJwpARHSnCkBEdKcKQER8qtLVIWjpTgSAmOlOBICY6U4EgJjpTjSaQsHCnBkRIcKcGREhwpwZES\n",
       "HKm9z3k4OhaOlOBICY6U4EgJjpTgSO06nkTIwpESHCnBkRIcKcGREhwpwZFyTZCUhSMlOFKCIyU4\n",
       "UoIjJThSu25tEbJwpARHSnCkBEdKcKQER0pwpBxPImXhSAmOlOBICY6U4EgJjpTPIqQsHCnBkRIc\n",
       "KcGREhwpwZESHCnXBElZOFKCIyU4UoIjJThSgiMlOFLOw5GycKQER0pwpARHSnCkBEdq12cRQhaO\n",
       "lOBICY6U4EgJjpTgSAmO1N5zTZCOhSMlOFKCIyU4UoIjJThSe5/jSXQsHCnBkRIcKcGREhwpwZES\n",
       "HKldx5MIWThSgiMlOFKCIyU4UoIjJThSXjEnZeFICY6U4EgJjpTgSAmOlGuCpCwcKcGREhwpwZES\n",
       "HCnBkRIcKdcESVk4UoIjJThSgiMlOFKCI+XWFikLR0pwpARHSnCkBEdKcKQER2rXdzhCFo6U4EgJ\n",
       "jpTgSAmOlOBICY7U3ueaIB0LR0pwpARHSnCkBEdKcKQcTyJl4UgJjpTgSAmOlOBICY6U4Eh5rouU\n",
       "hSMlOFKCIyU4UoIjJThSbm2RsnCkBEdKcKQER0pwpARHSnCkXBMkZeFICY6U4EgJjpTgSAmOlFtb\n",
       "pCwcKcGREhwpwZESHCnBkRIcqV3XBAlZOFKCIyU4UoIjJThSgiMlOFLOw5GycKQER0pwpARHSnCk\n",
       "BEfK60mkLBwpwZESHCnBkRIcKcGREhypveeaIB0LR0pwpARHSnCkBEdKcKR2P8eT6Fg4UoIjJThS\n",
       "giMlOFKCIyU4Ul5PImXhSAmOlOBICY6U4EgJjpTgSO26JkjIwpESHCnBkRIcKcGREhypPdcECVk4\n",
       "UoIjJThSgiMlOFKCIyU4Uv5NkJSFIyU4UoIjJThSgiMlOFL+3I2UhSMlOFKCIyU4UoIjJThSgiPl\n",
       "eBIpC0dKcKQER0pwpARHSnCkBEfKc12kLBwpwZESHCnBkRIcKcGR8udupCwcKcGREhwpwZESHCnB\n",
       "kRIcqT3XBAlZOFKCIyU4UoIjJThSgiO169YWIQtHSnCkBEdKcKQER0pwpARHyvEkUhaOlOBICY6U\n",
       "4EgJjpTgSAmOlOe6SFk4UoIjJThSgiMlOFKCI+XP3UhZOFKCIyU4UoIjJThSgiMlOFK7rgkSsnCk\n",
       "BEdKcKQER0pwpARHymcRUhaOlOBICY6U4EgJjpTgSAmOlFfMSVk4UoIjJThSgiMlOFKCI7Xr9SRC\n",
       "Fo6U4EgJjpTgSAmOlOBICY6UP3cjZeFICY6U4EgJjpTgSAmOlOBIuSZIysKREhwpwZESHCnBkRIc\n",
       "KdcESVk4UoIjJThSgiMlOFKCIyU4Uv5NkJSFIyU4UoIjJThSgiMlOFJubZGycKQER0pwpARHSnCk\n",
       "BEdKcKQcTyJl4UgJjpTgSAmOlOBICY6U4Ejtfn9/+jfwi1g4UoIjJThSgiMlOFKCI+V4EikLR0pw\n",
       "pARHSnCkBEdKcKQER8pzXaQsHCnBkRIcKcGREhwpwZHa/XwWoWPhSAmOlOBICY6U4EgJjpTgSO0+\n",
       "ryfRsXCkBEdKcKQER0pwpARHSnCkPNdFysKREhwpwZESHCnBkRIcKceTSFk4UoIjJThSgiMlOFKC\n",
       "IyU4Uruf73B0LBwpwZESHCnBkRIcKcGRcjyJlIUjJThSgiMlOFKCIyU4UoIj5TscKQtHSnCkBEdK\n",
       "cKQER0pwpP4HOvdrFLvYkYEAAAAASUVORK5CYII=\n",
       "\" transform=\"translate(1270, 624)\"/>\n",
       "</g>\n",
       "<path clip-path=\"url(#clip470)\" d=\"M1504.09 2564.3 L1533.77 2564.3 L1533.77 2568.24 L1504.09 2568.24 L1504.09 2564.3 Z\" fill=\"#000000\" fill-rule=\"evenodd\" fill-opacity=\"1\" /><path clip-path=\"url(#clip470)\" d=\"M1544.67 2577.19 L1552.31 2577.19 L1552.31 2550.83 L1544 2552.5 L1544 2548.24 L1552.26 2546.57 L1556.94 2546.57 L1556.94 2577.19 L1564.58 2577.19 L1564.58 2581.13 L1544.67 2581.13 L1544.67 2577.19 Z\" fill=\"#000000\" fill-rule=\"evenodd\" fill-opacity=\"1\" /><path clip-path=\"url(#clip470)\" d=\"M1574.02 2575.25 L1578.9 2575.25 L1578.9 2581.13 L1574.02 2581.13 L1574.02 2575.25 Z\" fill=\"#000000\" fill-rule=\"evenodd\" fill-opacity=\"1\" /><path clip-path=\"url(#clip470)\" d=\"M1599.09 2549.65 Q1595.48 2549.65 1593.65 2553.21 Q1591.84 2556.75 1591.84 2563.88 Q1591.84 2570.99 1593.65 2574.56 Q1595.48 2578.1 1599.09 2578.1 Q1602.72 2578.1 1604.53 2574.56 Q1606.36 2570.99 1606.36 2563.88 Q1606.36 2556.75 1604.53 2553.21 Q1602.72 2549.65 1599.09 2549.65 M1599.09 2545.94 Q1604.9 2545.94 1607.95 2550.55 Q1611.03 2555.13 1611.03 2563.88 Q1611.03 2572.61 1607.95 2577.22 Q1604.9 2581.8 1599.09 2581.8 Q1593.28 2581.8 1590.2 2577.22 Q1587.14 2572.61 1587.14 2563.88 Q1587.14 2555.13 1590.2 2550.55 Q1593.28 2545.94 1599.09 2545.94 Z\" fill=\"#000000\" fill-rule=\"evenodd\" fill-opacity=\"1\" /><path clip-path=\"url(#clip470)\" d=\"M1629.25 2549.65 Q1625.64 2549.65 1623.81 2553.21 Q1622.01 2556.75 1622.01 2563.88 Q1622.01 2570.99 1623.81 2574.56 Q1625.64 2578.1 1629.25 2578.1 Q1632.88 2578.1 1634.69 2574.56 Q1636.52 2570.99 1636.52 2563.88 Q1636.52 2556.75 1634.69 2553.21 Q1632.88 2549.65 1629.25 2549.65 M1629.25 2545.94 Q1635.06 2545.94 1638.12 2550.55 Q1641.19 2555.13 1641.19 2563.88 Q1641.19 2572.61 1638.12 2577.22 Q1635.06 2581.8 1629.25 2581.8 Q1623.44 2581.8 1620.36 2577.22 Q1617.31 2572.61 1617.31 2563.88 Q1617.31 2555.13 1620.36 2550.55 Q1623.44 2545.94 1629.25 2545.94 Z\" fill=\"#000000\" fill-rule=\"evenodd\" fill-opacity=\"1\" /><path clip-path=\"url(#clip470)\" d=\"M1504.09 2321.42 L1533.77 2321.42 L1533.77 2325.36 L1504.09 2325.36 L1504.09 2321.42 Z\" fill=\"#000000\" fill-rule=\"evenodd\" fill-opacity=\"1\" /><path clip-path=\"url(#clip470)\" d=\"M1553.86 2306.77 Q1550.25 2306.77 1548.42 2310.33 Q1546.61 2313.88 1546.61 2321.01 Q1546.61 2328.11 1548.42 2331.68 Q1550.25 2335.22 1553.86 2335.22 Q1557.49 2335.22 1559.3 2331.68 Q1561.13 2328.11 1561.13 2321.01 Q1561.13 2313.88 1559.3 2310.33 Q1557.49 2306.77 1553.86 2306.77 M1553.86 2303.07 Q1559.67 2303.07 1562.72 2307.67 Q1565.8 2312.26 1565.8 2321.01 Q1565.8 2329.73 1562.72 2334.34 Q1559.67 2338.92 1553.86 2338.92 Q1548.05 2338.92 1544.97 2334.34 Q1541.91 2329.73 1541.91 2321.01 Q1541.91 2312.26 1544.97 2307.67 Q1548.05 2303.07 1553.86 2303.07 Z\" fill=\"#000000\" fill-rule=\"evenodd\" fill-opacity=\"1\" /><path clip-path=\"url(#clip470)\" d=\"M1574.02 2332.37 L1578.9 2332.37 L1578.9 2338.25 L1574.02 2338.25 L1574.02 2332.37 Z\" fill=\"#000000\" fill-rule=\"evenodd\" fill-opacity=\"1\" /><path clip-path=\"url(#clip470)\" d=\"M1587.91 2303.69 L1610.13 2303.69 L1610.13 2305.68 L1597.58 2338.25 L1592.7 2338.25 L1604.51 2307.63 L1587.91 2307.63 L1587.91 2303.69 Z\" fill=\"#000000\" fill-rule=\"evenodd\" fill-opacity=\"1\" /><path clip-path=\"url(#clip470)\" d=\"M1619.3 2303.69 L1637.65 2303.69 L1637.65 2307.63 L1623.58 2307.63 L1623.58 2316.1 Q1624.6 2315.75 1625.62 2315.59 Q1626.63 2315.4 1627.65 2315.4 Q1633.44 2315.4 1636.82 2318.57 Q1640.2 2321.75 1640.2 2327.16 Q1640.2 2332.74 1636.73 2335.84 Q1633.26 2338.92 1626.94 2338.92 Q1624.76 2338.92 1622.49 2338.55 Q1620.25 2338.18 1617.84 2337.44 L1617.84 2332.74 Q1619.92 2333.88 1622.14 2334.43 Q1624.37 2334.99 1626.84 2334.99 Q1630.85 2334.99 1633.19 2332.88 Q1635.52 2330.77 1635.52 2327.16 Q1635.52 2323.55 1633.19 2321.45 Q1630.85 2319.34 1626.84 2319.34 Q1624.97 2319.34 1623.09 2319.76 Q1621.24 2320.17 1619.3 2321.05 L1619.3 2303.69 Z\" fill=\"#000000\" fill-rule=\"evenodd\" fill-opacity=\"1\" /><path clip-path=\"url(#clip470)\" d=\"M1504.09 2078.54 L1533.77 2078.54 L1533.77 2082.48 L1504.09 2082.48 L1504.09 2078.54 Z\" fill=\"#000000\" fill-rule=\"evenodd\" fill-opacity=\"1\" /><path clip-path=\"url(#clip470)\" d=\"M1553.86 2063.89 Q1550.25 2063.89 1548.42 2067.46 Q1546.61 2071 1546.61 2078.13 Q1546.61 2085.23 1548.42 2088.8 Q1550.25 2092.34 1553.86 2092.34 Q1557.49 2092.34 1559.3 2088.8 Q1561.13 2085.23 1561.13 2078.13 Q1561.13 2071 1559.3 2067.46 Q1557.49 2063.89 1553.86 2063.89 M1553.86 2060.19 Q1559.67 2060.19 1562.72 2064.79 Q1565.8 2069.38 1565.8 2078.13 Q1565.8 2086.85 1562.72 2091.46 Q1559.67 2096.04 1553.86 2096.04 Q1548.05 2096.04 1544.97 2091.46 Q1541.91 2086.85 1541.91 2078.13 Q1541.91 2069.38 1544.97 2064.79 Q1548.05 2060.19 1553.86 2060.19 Z\" fill=\"#000000\" fill-rule=\"evenodd\" fill-opacity=\"1\" /><path clip-path=\"url(#clip470)\" d=\"M1574.02 2089.49 L1578.9 2089.49 L1578.9 2095.37 L1574.02 2095.37 L1574.02 2089.49 Z\" fill=\"#000000\" fill-rule=\"evenodd\" fill-opacity=\"1\" /><path clip-path=\"url(#clip470)\" d=\"M1589.14 2060.81 L1607.49 2060.81 L1607.49 2064.75 L1593.42 2064.75 L1593.42 2073.22 Q1594.44 2072.87 1595.45 2072.71 Q1596.47 2072.52 1597.49 2072.52 Q1603.28 2072.52 1606.66 2075.7 Q1610.04 2078.87 1610.04 2084.28 Q1610.04 2089.86 1606.57 2092.96 Q1603.09 2096.04 1596.77 2096.04 Q1594.6 2096.04 1592.33 2095.67 Q1590.08 2095.3 1587.68 2094.56 L1587.68 2089.86 Q1589.76 2091 1591.98 2091.55 Q1594.2 2092.11 1596.68 2092.11 Q1600.69 2092.11 1603.02 2090 Q1605.36 2087.9 1605.36 2084.28 Q1605.36 2080.67 1603.02 2078.57 Q1600.69 2076.46 1596.68 2076.46 Q1594.81 2076.46 1592.93 2076.88 Q1591.08 2077.29 1589.14 2078.17 L1589.14 2060.81 Z\" fill=\"#000000\" fill-rule=\"evenodd\" fill-opacity=\"1\" /><path clip-path=\"url(#clip470)\" d=\"M1629.25 2063.89 Q1625.64 2063.89 1623.81 2067.46 Q1622.01 2071 1622.01 2078.13 Q1622.01 2085.23 1623.81 2088.8 Q1625.64 2092.34 1629.25 2092.34 Q1632.88 2092.34 1634.69 2088.8 Q1636.52 2085.23 1636.52 2078.13 Q1636.52 2071 1634.69 2067.46 Q1632.88 2063.89 1629.25 2063.89 M1629.25 2060.19 Q1635.06 2060.19 1638.12 2064.79 Q1641.19 2069.38 1641.19 2078.13 Q1641.19 2086.85 1638.12 2091.46 Q1635.06 2096.04 1629.25 2096.04 Q1623.44 2096.04 1620.36 2091.46 Q1617.31 2086.85 1617.31 2078.13 Q1617.31 2069.38 1620.36 2064.79 Q1623.44 2060.19 1629.25 2060.19 Z\" fill=\"#000000\" fill-rule=\"evenodd\" fill-opacity=\"1\" /><path clip-path=\"url(#clip470)\" d=\"M1504.09 1835.66 L1533.77 1835.66 L1533.77 1839.6 L1504.09 1839.6 L1504.09 1835.66 Z\" fill=\"#000000\" fill-rule=\"evenodd\" fill-opacity=\"1\" /><path clip-path=\"url(#clip470)\" d=\"M1553.86 1821.01 Q1550.25 1821.01 1548.42 1824.58 Q1546.61 1828.12 1546.61 1835.25 Q1546.61 1842.35 1548.42 1845.92 Q1550.25 1849.46 1553.86 1849.46 Q1557.49 1849.46 1559.3 1845.92 Q1561.13 1842.35 1561.13 1835.25 Q1561.13 1828.12 1559.3 1824.58 Q1557.49 1821.01 1553.86 1821.01 M1553.86 1817.31 Q1559.67 1817.31 1562.72 1821.91 Q1565.8 1826.5 1565.8 1835.25 Q1565.8 1843.97 1562.72 1848.58 Q1559.67 1853.16 1553.86 1853.16 Q1548.05 1853.16 1544.97 1848.58 Q1541.91 1843.97 1541.91 1835.25 Q1541.91 1826.5 1544.97 1821.91 Q1548.05 1817.31 1553.86 1817.31 Z\" fill=\"#000000\" fill-rule=\"evenodd\" fill-opacity=\"1\" /><path clip-path=\"url(#clip470)\" d=\"M1574.02 1846.61 L1578.9 1846.61 L1578.9 1852.49 L1574.02 1852.49 L1574.02 1846.61 Z\" fill=\"#000000\" fill-rule=\"evenodd\" fill-opacity=\"1\" /><path clip-path=\"url(#clip470)\" d=\"M1593.12 1848.56 L1609.44 1848.56 L1609.44 1852.49 L1587.49 1852.49 L1587.49 1848.56 Q1590.15 1845.8 1594.74 1841.17 Q1599.34 1836.52 1600.52 1835.18 Q1602.77 1832.66 1603.65 1830.92 Q1604.55 1829.16 1604.55 1827.47 Q1604.55 1824.72 1602.61 1822.98 Q1600.69 1821.24 1597.58 1821.24 Q1595.39 1821.24 1592.93 1822.01 Q1590.5 1822.77 1587.72 1824.32 L1587.72 1819.6 Q1590.55 1818.47 1593 1817.89 Q1595.45 1817.31 1597.49 1817.31 Q1602.86 1817.31 1606.06 1819.99 Q1609.25 1822.68 1609.25 1827.17 Q1609.25 1829.3 1608.44 1831.22 Q1607.65 1833.12 1605.55 1835.71 Q1604.97 1836.38 1601.87 1839.6 Q1598.76 1842.79 1593.12 1848.56 Z\" fill=\"#000000\" fill-rule=\"evenodd\" fill-opacity=\"1\" /><path clip-path=\"url(#clip470)\" d=\"M1619.3 1817.93 L1637.65 1817.93 L1637.65 1821.87 L1623.58 1821.87 L1623.58 1830.34 Q1624.6 1829.99 1625.62 1829.83 Q1626.63 1829.65 1627.65 1829.65 Q1633.44 1829.65 1636.82 1832.82 Q1640.2 1835.99 1640.2 1841.41 Q1640.2 1846.98 1636.73 1850.09 Q1633.26 1853.16 1626.94 1853.16 Q1624.76 1853.16 1622.49 1852.79 Q1620.25 1852.42 1617.84 1851.68 L1617.84 1846.98 Q1619.92 1848.12 1622.14 1848.67 Q1624.37 1849.23 1626.84 1849.23 Q1630.85 1849.23 1633.19 1847.12 Q1635.52 1845.02 1635.52 1841.41 Q1635.52 1837.79 1633.19 1835.69 Q1630.85 1833.58 1626.84 1833.58 Q1624.97 1833.58 1623.09 1834 Q1621.24 1834.41 1619.3 1835.29 L1619.3 1817.93 Z\" fill=\"#000000\" fill-rule=\"evenodd\" fill-opacity=\"1\" /><path clip-path=\"url(#clip470)\" d=\"M1516.03 1578.13 Q1512.42 1578.13 1510.59 1581.7 Q1508.79 1585.24 1508.79 1592.37 Q1508.79 1599.48 1510.59 1603.04 Q1512.42 1606.58 1516.03 1606.58 Q1519.67 1606.58 1521.47 1603.04 Q1523.3 1599.48 1523.3 1592.37 Q1523.3 1585.24 1521.47 1581.7 Q1519.67 1578.13 1516.03 1578.13 M1516.03 1574.43 Q1521.84 1574.43 1524.9 1579.04 Q1527.98 1583.62 1527.98 1592.37 Q1527.98 1601.1 1524.9 1605.7 Q1521.84 1610.29 1516.03 1610.29 Q1510.22 1610.29 1507.14 1605.7 Q1504.09 1601.1 1504.09 1592.37 Q1504.09 1583.62 1507.14 1579.04 Q1510.22 1574.43 1516.03 1574.43 Z\" fill=\"#000000\" fill-rule=\"evenodd\" fill-opacity=\"1\" /><path clip-path=\"url(#clip470)\" d=\"M1516.03 1335.25 Q1512.42 1335.25 1510.59 1338.82 Q1508.79 1342.36 1508.79 1349.49 Q1508.79 1356.6 1510.59 1360.16 Q1512.42 1363.7 1516.03 1363.7 Q1519.67 1363.7 1521.47 1360.16 Q1523.3 1356.6 1523.3 1349.49 Q1523.3 1342.36 1521.47 1338.82 Q1519.67 1335.25 1516.03 1335.25 M1516.03 1331.55 Q1521.84 1331.55 1524.9 1336.16 Q1527.98 1340.74 1527.98 1349.49 Q1527.98 1358.22 1524.9 1362.82 Q1521.84 1367.41 1516.03 1367.41 Q1510.22 1367.41 1507.14 1362.82 Q1504.09 1358.22 1504.09 1349.49 Q1504.09 1340.74 1507.14 1336.16 Q1510.22 1331.55 1516.03 1331.55 Z\" fill=\"#000000\" fill-rule=\"evenodd\" fill-opacity=\"1\" /><path clip-path=\"url(#clip470)\" d=\"M1536.2 1360.86 L1541.08 1360.86 L1541.08 1366.74 L1536.2 1366.74 L1536.2 1360.86 Z\" fill=\"#000000\" fill-rule=\"evenodd\" fill-opacity=\"1\" /><path clip-path=\"url(#clip470)\" d=\"M1555.29 1362.8 L1571.61 1362.8 L1571.61 1366.74 L1549.67 1366.74 L1549.67 1362.8 Q1552.33 1360.05 1556.91 1355.42 Q1561.52 1350.76 1562.7 1349.42 Q1564.95 1346.9 1565.83 1345.16 Q1566.73 1343.4 1566.73 1341.71 Q1566.73 1338.96 1564.78 1337.22 Q1562.86 1335.49 1559.76 1335.49 Q1557.56 1335.49 1555.11 1336.25 Q1552.68 1337.01 1549.9 1338.56 L1549.9 1333.84 Q1552.72 1332.71 1555.18 1332.13 Q1557.63 1331.55 1559.67 1331.55 Q1565.04 1331.55 1568.23 1334.24 Q1571.43 1336.92 1571.43 1341.41 Q1571.43 1343.54 1570.62 1345.46 Q1569.83 1347.36 1567.72 1349.95 Q1567.14 1350.62 1564.04 1353.84 Q1560.94 1357.04 1555.29 1362.8 Z\" fill=\"#000000\" fill-rule=\"evenodd\" fill-opacity=\"1\" /><path clip-path=\"url(#clip470)\" d=\"M1581.47 1332.18 L1599.83 1332.18 L1599.83 1336.11 L1585.76 1336.11 L1585.76 1344.58 Q1586.77 1344.24 1587.79 1344.07 Q1588.81 1343.89 1589.83 1343.89 Q1595.62 1343.89 1599 1347.06 Q1602.38 1350.23 1602.38 1355.65 Q1602.38 1361.23 1598.9 1364.33 Q1595.43 1367.41 1589.11 1367.41 Q1586.94 1367.41 1584.67 1367.04 Q1582.42 1366.67 1580.01 1365.93 L1580.01 1361.23 Q1582.1 1362.36 1584.32 1362.92 Q1586.54 1363.47 1589.02 1363.47 Q1593.02 1363.47 1595.36 1361.37 Q1597.7 1359.26 1597.7 1355.65 Q1597.7 1352.04 1595.36 1349.93 Q1593.02 1347.82 1589.02 1347.82 Q1587.14 1347.82 1585.27 1348.24 Q1583.42 1348.66 1581.47 1349.54 L1581.47 1332.18 Z\" fill=\"#000000\" fill-rule=\"evenodd\" fill-opacity=\"1\" /><path clip-path=\"url(#clip470)\" d=\"M1516.03 1092.38 Q1512.42 1092.38 1510.59 1095.94 Q1508.79 1099.48 1508.79 1106.61 Q1508.79 1113.72 1510.59 1117.28 Q1512.42 1120.82 1516.03 1120.82 Q1519.67 1120.82 1521.47 1117.28 Q1523.3 1113.72 1523.3 1106.61 Q1523.3 1099.48 1521.47 1095.94 Q1519.67 1092.38 1516.03 1092.38 M1516.03 1088.67 Q1521.84 1088.67 1524.9 1093.28 Q1527.98 1097.86 1527.98 1106.61 Q1527.98 1115.34 1524.9 1119.94 Q1521.84 1124.53 1516.03 1124.53 Q1510.22 1124.53 1507.14 1119.94 Q1504.09 1115.34 1504.09 1106.61 Q1504.09 1097.86 1507.14 1093.28 Q1510.22 1088.67 1516.03 1088.67 Z\" fill=\"#000000\" fill-rule=\"evenodd\" fill-opacity=\"1\" /><path clip-path=\"url(#clip470)\" d=\"M1536.2 1117.98 L1541.08 1117.98 L1541.08 1123.86 L1536.2 1123.86 L1536.2 1117.98 Z\" fill=\"#000000\" fill-rule=\"evenodd\" fill-opacity=\"1\" /><path clip-path=\"url(#clip470)\" d=\"M1551.31 1089.3 L1569.67 1089.3 L1569.67 1093.23 L1555.59 1093.23 L1555.59 1101.7 Q1556.61 1101.36 1557.63 1101.19 Q1558.65 1101.01 1559.67 1101.01 Q1565.45 1101.01 1568.83 1104.18 Q1572.21 1107.35 1572.21 1112.77 Q1572.21 1118.35 1568.74 1121.45 Q1565.27 1124.53 1558.95 1124.53 Q1556.77 1124.53 1554.51 1124.16 Q1552.26 1123.79 1549.85 1123.05 L1549.85 1118.35 Q1551.94 1119.48 1554.16 1120.04 Q1556.38 1120.59 1558.86 1120.59 Q1562.86 1120.59 1565.2 1118.49 Q1567.54 1116.38 1567.54 1112.77 Q1567.54 1109.16 1565.2 1107.05 Q1562.86 1104.94 1558.86 1104.94 Q1556.98 1104.94 1555.11 1105.36 Q1553.26 1105.78 1551.31 1106.66 L1551.31 1089.3 Z\" fill=\"#000000\" fill-rule=\"evenodd\" fill-opacity=\"1\" /><path clip-path=\"url(#clip470)\" d=\"M1591.43 1092.38 Q1587.82 1092.38 1585.99 1095.94 Q1584.18 1099.48 1584.18 1106.61 Q1584.18 1113.72 1585.99 1117.28 Q1587.82 1120.82 1591.43 1120.82 Q1595.06 1120.82 1596.87 1117.28 Q1598.7 1113.72 1598.7 1106.61 Q1598.7 1099.48 1596.87 1095.94 Q1595.06 1092.38 1591.43 1092.38 M1591.43 1088.67 Q1597.24 1088.67 1600.29 1093.28 Q1603.37 1097.86 1603.37 1106.61 Q1603.37 1115.34 1600.29 1119.94 Q1597.24 1124.53 1591.43 1124.53 Q1585.62 1124.53 1582.54 1119.94 Q1579.48 1115.34 1579.48 1106.61 Q1579.48 1097.86 1582.54 1093.28 Q1585.62 1088.67 1591.43 1088.67 Z\" fill=\"#000000\" fill-rule=\"evenodd\" fill-opacity=\"1\" /><path clip-path=\"url(#clip470)\" d=\"M1516.03 849.496 Q1512.42 849.496 1510.59 853.061 Q1508.79 856.603 1508.79 863.733 Q1508.79 870.839 1510.59 874.404 Q1512.42 877.945 1516.03 877.945 Q1519.67 877.945 1521.47 874.404 Q1523.3 870.839 1523.3 863.733 Q1523.3 856.603 1521.47 853.061 Q1519.67 849.496 1516.03 849.496 M1516.03 845.793 Q1521.84 845.793 1524.9 850.399 Q1527.98 854.983 1527.98 863.733 Q1527.98 872.459 1524.9 877.066 Q1521.84 881.649 1516.03 881.649 Q1510.22 881.649 1507.14 877.066 Q1504.09 872.459 1504.09 863.733 Q1504.09 854.983 1507.14 850.399 Q1510.22 845.793 1516.03 845.793 Z\" fill=\"#000000\" fill-rule=\"evenodd\" fill-opacity=\"1\" /><path clip-path=\"url(#clip470)\" d=\"M1536.2 875.098 L1541.08 875.098 L1541.08 880.978 L1536.2 880.978 L1536.2 875.098 Z\" fill=\"#000000\" fill-rule=\"evenodd\" fill-opacity=\"1\" /><path clip-path=\"url(#clip470)\" d=\"M1550.08 846.418 L1572.31 846.418 L1572.31 848.409 L1559.76 880.978 L1554.88 880.978 L1566.68 850.353 L1550.08 850.353 L1550.08 846.418 Z\" fill=\"#000000\" fill-rule=\"evenodd\" fill-opacity=\"1\" /><path clip-path=\"url(#clip470)\" d=\"M1581.47 846.418 L1599.83 846.418 L1599.83 850.353 L1585.76 850.353 L1585.76 858.825 Q1586.77 858.478 1587.79 858.316 Q1588.81 858.131 1589.83 858.131 Q1595.62 858.131 1599 861.302 Q1602.38 864.473 1602.38 869.89 Q1602.38 875.469 1598.9 878.57 Q1595.43 881.649 1589.11 881.649 Q1586.94 881.649 1584.67 881.279 Q1582.42 880.908 1580.01 880.168 L1580.01 875.469 Q1582.1 876.603 1584.32 877.158 Q1586.54 877.714 1589.02 877.714 Q1593.02 877.714 1595.36 875.607 Q1597.7 873.501 1597.7 869.89 Q1597.7 866.279 1595.36 864.172 Q1593.02 862.066 1589.02 862.066 Q1587.14 862.066 1585.27 862.483 Q1583.42 862.899 1581.47 863.779 L1581.47 846.418 Z\" fill=\"#000000\" fill-rule=\"evenodd\" fill-opacity=\"1\" /><path clip-path=\"url(#clip470)\" d=\"M1504.76 634.164 L1512.4 634.164 L1512.4 607.798 L1504.09 609.465 L1504.09 605.206 L1512.35 603.539 L1517.03 603.539 L1517.03 634.164 L1524.67 634.164 L1524.67 638.099 L1504.76 638.099 L1504.76 634.164 Z\" fill=\"#000000\" fill-rule=\"evenodd\" fill-opacity=\"1\" /><path clip-path=\"url(#clip470)\" d=\"M1534.11 632.219 L1539 632.219 L1539 638.099 L1534.11 638.099 L1534.11 632.219 Z\" fill=\"#000000\" fill-rule=\"evenodd\" fill-opacity=\"1\" /><path clip-path=\"url(#clip470)\" d=\"M1559.18 606.618 Q1555.57 606.618 1553.74 610.182 Q1551.94 613.724 1551.94 620.854 Q1551.94 627.96 1553.74 631.525 Q1555.57 635.067 1559.18 635.067 Q1562.82 635.067 1564.62 631.525 Q1566.45 627.96 1566.45 620.854 Q1566.45 613.724 1564.62 610.182 Q1562.82 606.618 1559.18 606.618 M1559.18 602.914 Q1564.99 602.914 1568.05 607.52 Q1571.13 612.104 1571.13 620.854 Q1571.13 629.581 1568.05 634.187 Q1564.99 638.77 1559.18 638.77 Q1553.37 638.77 1550.29 634.187 Q1547.24 629.581 1547.24 620.854 Q1547.24 612.104 1550.29 607.52 Q1553.37 602.914 1559.18 602.914 Z\" fill=\"#000000\" fill-rule=\"evenodd\" fill-opacity=\"1\" /><path clip-path=\"url(#clip470)\" d=\"M1589.34 606.618 Q1585.73 606.618 1583.9 610.182 Q1582.1 613.724 1582.1 620.854 Q1582.1 627.96 1583.9 631.525 Q1585.73 635.067 1589.34 635.067 Q1592.98 635.067 1594.78 631.525 Q1596.61 627.96 1596.61 620.854 Q1596.61 613.724 1594.78 610.182 Q1592.98 606.618 1589.34 606.618 M1589.34 602.914 Q1595.15 602.914 1598.21 607.52 Q1601.29 612.104 1601.29 620.854 Q1601.29 629.581 1598.21 634.187 Q1595.15 638.77 1589.34 638.77 Q1583.53 638.77 1580.45 634.187 Q1577.4 629.581 1577.4 620.854 Q1577.4 612.104 1580.45 607.52 Q1583.53 602.914 1589.34 602.914 Z\" fill=\"#000000\" fill-rule=\"evenodd\" fill-opacity=\"1\" /><polyline clip-path=\"url(#clip470)\" style=\"stroke:#000000; stroke-linecap:butt; stroke-linejoin:round; stroke-width:4; stroke-opacity:1; fill:none\" points=\"\n",
       "  1426.09,2567.48 1426.09,2567.48 1478.09,2567.48 1426.09,2567.48 1426.09,2324.6 1478.09,2324.6 1426.09,2324.6 1426.09,2081.72 1478.09,2081.72 1426.09,2081.72 \n",
       "  1426.09,1838.84 1478.09,1838.84 1426.09,1838.84 1426.09,1595.96 1478.09,1595.96 1426.09,1595.96 1426.09,1353.08 1478.09,1353.08 1426.09,1353.08 1426.09,1110.21 \n",
       "  1478.09,1110.21 1426.09,1110.21 1426.09,867.327 1478.09,867.327 1426.09,867.327 1426.09,624.448 1478.09,624.448 1426.09,624.448 \n",
       "  \"/>\n",
       "<path clip-path=\"url(#clip470)\" d=\"\n",
       "M1900.29 2567.48 L2899.42 2567.48 L2899.42 624.448 L1900.29 624.448  Z\n",
       "  \" fill=\"#ffffff\" fill-rule=\"evenodd\" fill-opacity=\"1\"/>\n",
       "<defs>\n",
       "  <clipPath id=\"clip474\">\n",
       "    <rect x=\"1900\" y=\"624\" width=\"1000\" height=\"1944\"/>\n",
       "  </clipPath>\n",
       "</defs>\n",
       "<path clip-path=\"url(#clip470)\" d=\"M2286.33 43.8146 L2260.53 43.8146 Q2261.13 55.9268 2263.93 61.0714 Q2267.41 67.3908 2273.45 67.3908 Q2279.53 67.3908 2282.89 61.0309 Q2285.84 55.4407 2286.33 43.8146 M2286.21 36.928 Q2285.08 25.4235 2282.89 21.3726 Q2279.4 14.9721 2273.45 14.9721 Q2267.25 14.9721 2263.97 21.2916 Q2261.38 26.3957 2260.61 36.928 L2286.21 36.928 M2273.45 8.89579 Q2283.17 8.89579 2288.72 17.4837 Q2294.27 26.0311 2294.27 41.1815 Q2294.27 56.2914 2288.72 64.8793 Q2283.17 73.5077 2273.45 73.5077 Q2263.69 73.5077 2258.18 64.8793 Q2252.63 56.2914 2252.63 41.1815 Q2252.63 26.0311 2258.18 17.4837 Q2263.69 8.89579 2273.45 8.89579 Z\" fill=\"#000000\" fill-rule=\"evenodd\" fill-opacity=\"1\" /><path clip-path=\"url(#clip470)\" d=\"M2333.97 34.9026 L2385.9 34.9026 L2385.9 41.7081 L2333.97 41.7081 L2333.97 34.9026 M2333.97 51.4303 L2385.9 51.4303 L2385.9 58.3168 L2333.97 58.3168 L2333.97 51.4303 Z\" fill=\"#000000\" fill-rule=\"evenodd\" fill-opacity=\"1\" /><path clip-path=\"url(#clip470)\" d=\"M2424.06 27.2059 L2467.53 27.2059 L2467.53 34.6595 L2461.82 34.6595 L2461.82 62.5298 Q2461.82 65.4464 2462.79 66.7427 Q2463.8 67.9985 2466.03 67.9985 Q2466.64 67.9985 2467.53 67.9175 Q2468.42 67.7959 2468.7 67.7554 L2468.7 73.1431 Q2467.28 73.6697 2465.79 73.9128 Q2464.29 74.1559 2462.79 74.1559 Q2457.93 74.1559 2456.06 71.5228 Q2454.2 68.8492 2454.2 61.7196 L2454.2 34.6595 L2437.47 34.6595 L2437.47 72.576 L2429.85 72.576 L2429.85 34.6595 L2424.06 34.6595 L2424.06 27.2059 Z\" fill=\"#000000\" fill-rule=\"evenodd\" fill-opacity=\"1\" /><path clip-path=\"url(#clip470)\" d=\"M2492.08 12.096 L2498.96 12.096 L2477.9 80.2727 L2471.01 80.2727 L2492.08 12.096 Z\" fill=\"#000000\" fill-rule=\"evenodd\" fill-opacity=\"1\" /><path clip-path=\"url(#clip470)\" d=\"M2530.32 19.2256 L2509.66 51.5113 L2530.32 51.5113 L2530.32 19.2256 M2528.17 12.096 L2538.46 12.096 L2538.46 51.5113 L2547.09 51.5113 L2547.09 58.3168 L2538.46 58.3168 L2538.46 72.576 L2530.32 72.576 L2530.32 58.3168 L2503.01 58.3168 L2503.01 50.4176 L2528.17 12.096 Z\" fill=\"#000000\" fill-rule=\"evenodd\" fill-opacity=\"1\" /><g clip-path=\"url(#clip474)\">\n",
       "<image width=\"999\" height=\"999\" xlink:href=\"data:image/png;base64,\n",
       "iVBORw0KGgoAAAANSUhEUgAAA+cAAAPnCAYAAABN/j28AAAYVElEQVR4nO3ZT26NYRyGYR+noprU\n",
       "hKkN2IKFsBCrEesgkViBRIwZkGDy5gyQIv33mTTxzUiauk97rmsFz/C939/04vGn+Rob49WjJ/UE\n",
       "AAAA/rPr9QAAAADYduIcAAAAYuIcAAAAYuIcAAAAYuIcAAAAYuIcAAAAYuIcAAAAYuIcAAAAYuIc\n",
       "AAAAYuIcAAAAYuIcAAAAYuIcAAAAYuIcAAAAYuIcAAAAYuIcAAAAYuIcAAAAYuIcAAAAYuIcAAAA\n",
       "YuIcAAAAYuIcAAAAYuIcAAAAYuIcAAAAYuIcAAAAYuIcAAAAYuIcAAAAYuIcAAAAYuIcAAAAYuIc\n",
       "AAAAYuIcAAAAYuIcAAAAYuIcAAAAYuIcAAAAYuIcAAAAYuIcAAAAYuIcAAAAYuIcAAAAYuIcAAAA\n",
       "YuIcAAAAYuIcAAAAYuIcAAAAYuIcAAAAYuIcAAAAYuIcAAAAYuIcAAAAYuIcAAAAYuIcAAAAYuIc\n",
       "AAAAYuIcAAAAYuIcAAAAYuIcAAAAYuIcAAAAYuIcAAAAYuIcAAAAYuIcAAAAYuIcAAAAYuIcAAAA\n",
       "YuIcAAAAYuIcAAAAYuIcAAAAYuIcAAAAYuIcAAAAYuIcAAAAYuIcAAAAYuIcAAAAYuIcAAAAYuIc\n",
       "AAAAYuIcAAAAYuIcAAAAYuIcAAAAYuIcAAAAYuIcAAAAYuIcAAAAYuIcAAAAYuIcAAAAYuIcAAAA\n",
       "YuIcAAAAYuIcAAAAYuIcAAAAYuIcAAAAYuIcAAAAYuIcAAAAYuIcAAAAYuIcAAAAYuIcAAAAYuIc\n",
       "AAAAYuIcAAAAYuIcAAAAYuIcAAAAYuIcAAAAYuIcAAAAYuIcAAAAYuIcAAAAYuIcAAAAYuIcAAAA\n",
       "YuIcAAAAYuIcAAAAYuIcAAAAYuIcAAAAYuIcAAAAYtMYY65H8MfHZ6f1BBbePHxaTwAAALaAyzkA\n",
       "AADExDkAAADExDkAAADExDkAAADExDkAAADExDkAAADExDkAAADExDkAAADExDkAAADExDkAAADE\n",
       "xDkAAADExDkAAADExDkAAADExDkAAADExDkAAADExDkAAADExDkAAADExDkAAADExDkAAADExDkA\n",
       "AADExDkAAADExDkAAADExDkAAADExDkAAADExDkAAADExDkAAADExDkAAADExDkAAADExDkAAADE\n",
       "xDkAAADExDkAAADExDkAAADExDkAAADExDkAAADExDkAAADExDkAAADExDkAAADExDkAAADExDkA\n",
       "AADExDkAAADExDkAAADExDkAAADExDkAAADExDkAAADExDkAAADExDkAAADExDkAAADExDkAAADE\n",
       "xDkAAADExDkAAADExDkAAADExDkAAADExDkAAADExDkAAADExDkAAADExDkAAADExDkAAADExDkA\n",
       "AADExDkAAADExDkAAADExDkAAADExDkAAADExDkAAADExDkAAADExDkAAADExDkAAADExDkAAADE\n",
       "xDkAAADExDkAAADExDkAAADExDkAAADExDkAAADExDkAAADExDkAAADExDkAAADExDkAAADExDkA\n",
       "AADExDkAAADExDkAAADExDkAAADExDkAAADExDkAAADExDkAAADExDkAAADExDkAAADExDkAAADE\n",
       "xDkAAADExDkAAADExDkAAADExDkAAADExDkAAADExDkAAADExDkAAADExDkAAADExDkAAADExDkA\n",
       "AADExDkAAADExDkAAADExDkAAADEpjHGXI+ATbV+OdUTWHj/4Hk9AQAALoTLOQAAAMTEOQAAAMTE\n",
       "OQAAAMTEOQAAAMTEOQAAAMTEOQAAAMTEOQAAAMTEOQAAAMTEOQAAAMTEOQAAAMTEOQAAAMTEOQAA\n",
       "AMTEOQAAAMTEOQAAAMTEOQAAAMTEOQAAAMTEOQAAAMTEOQAAAMTEOQAAAMTEOQAAAMTEOQAAAMTE\n",
       "OQAAAMTEOQAAAMTEOQAAAMTEOQAAAMTEOQAAAMTEOQAAAMTEOQAAAMTEOQAAAMTEOQAAAMTEOQAA\n",
       "AMTEOQAAAMTEOQAAAMTEOQAAAMTEOQAAAMTEOQAAAMTEOQAAAMTEOQAAAMTEOQAAAMTEOQAAAMTE\n",
       "OQAAAMTEOQAAAMTEOQAAAMTEOQAAAMTEOQAAAMTEOQAAAMTEOQAAAMTEOQAAAMTEOQAAAMTEOQAA\n",
       "AMTEOQAAAMTEOQAAAMTEOQAAAMTEOQAAAMTEOQAAAMTEOQAAAMTEOQAAAMTEOQAAAMTEOQAAAMTE\n",
       "OQAAAMTEOQAAAMTEOQAAAMTEOQAAAMTEOQAAAMTEOQAAAMTEOQAAAMTEOQAAAMTEOQAAAMTEOQAA\n",
       "AMTEOQAAAMTEOQAAAMTEOQAAAMTEOQAAAMTEOQAAAMTEOQAAAMTEOQAAAMTEOQAAAMTEOQAAAMTE\n",
       "OQAAAMTEOQAAAMTEOQAAAMTEOQAAAMTEOQAAAMTEOQAAAMTEOQAAAMTEOQAAAMTEOQAAAMTEOQAA\n",
       "AMTEOQAAAMTEOQAAAMTEOQAAAMTEOQAAAMTEOQAAAMTEOQAAAMTEOQAAAMTEOQAAAMTEOQAAAMTE\n",
       "OQAAAMTEOQAAAMSmMcZcjwD4Fwdv/Sduki/3X9cTAACuDC9dAAAAiIlzAAAAiIlzAAAAiIlzAAAA\n",
       "iIlzAAAAiIlzAAAAiIlzAAAAiIlzAAAAiIlzAAAAiIlzAAAAiIlzAAAAiIlzAAAAiIlzAAAAiIlz\n",
       "AAAAiIlzAAAAiIlzAAAAiIlzAAAAiIlzAAAAiIlzAAAAiIlzAAAAiIlzAAAAiIlzAAAAiIlzAAAA\n",
       "iIlzAAAAiIlzAAAAiIlzAAAAiIlzAAAAiIlzAAAAiIlzAAAAiIlzAAAAiIlzAAAAiIlzAAAAiIlz\n",
       "AAAAiIlzAAAAiIlzAAAAiIlzAAAAiIlzAAAAiIlzAAAAiIlzAAAAiIlzAAAAiIlzAAAAiIlzAAAA\n",
       "iIlzAAAAiIlzAAAAiIlzAAAAiIlzAAAAiIlzAAAAiIlzAAAAiIlzAAAAiIlzAAAAiIlzAAAAiIlz\n",
       "AAAAiIlzAAAAiIlzAAAAiIlzAAAAiIlzAAAAiIlzAAAAiIlzAAAAiIlzAAAAiIlzAAAAiIlzAAAA\n",
       "iIlzAAAAiIlzAAAAiIlzAAAAiIlzAAAAiIlzAAAAiIlzAAAAiIlzAAAAiIlzAAAAiIlzAAAAiIlz\n",
       "AAAAiIlzAAAAiIlzAAAAiIlzAAAAiIlzAAAAiIlzAAAAiIlzAAAAiIlzAAAAiIlzAAAAiIlzAAAA\n",
       "iIlzAAAAiIlzAAAAiIlzAAAAiIlzAAAAiIlzAAAAiIlzAAAAiIlzAAAAiIlzAAAAiIlzAAAAiIlz\n",
       "AAAAiIlzAAAAiIlzAAAAiIlzAAAAiIlzAAAAiIlzAAAAiIlzAAAAiIlzAAAAiIlzAAAAiIlzAAAA\n",
       "iE1jjLkeAcDlc/jhRj2BhfW9d/UEAOAcXM4BAAAgJs4BAAAgJs4BAAAgJs4BAAAgJs4BAAAgJs4B\n",
       "AAAgJs4BAAAgJs4BAAAgJs4BAAAgJs4BAAAgJs4BAAAgJs4BAAAgJs4BAAAgJs4BAAAgJs4BAAAg\n",
       "Js4BAAAgJs4BAAAgJs4BAAAgJs4BAAAgJs4BAAAgJs4BAAAgJs4BAAAgJs4BAAAgJs4BAAAgJs4B\n",
       "AAAgJs4BAAAgJs4BAAAgJs4BAAAgJs4BAAAgJs4BAAAgJs4BAAAgJs4BAAAgJs4BAAAgJs4BAAAg\n",
       "Js4BAAAgJs4BAAAgJs4BAAAgJs4BAAAgJs4BAAAgJs4BAAAgJs4BAAAgJs4BAAAgJs4BAAAgJs4B\n",
       "AAAgJs4BAAAgJs4BAAAgJs4BAAAgJs4BAAAgJs4BAAAgJs4BAAAgJs4BAAAgJs4BAAAgJs4BAAAg\n",
       "Js4BAAAgJs4BAAAgJs4BAAAgJs4BAAAgJs4BAAAgJs4BAAAgJs4BAAAgJs4BAAAgJs4BAAAgJs4B\n",
       "AAAgJs4BAAAgJs4BAAAgJs4BAAAgJs4BAAAgJs4BAAAgJs4BAAAgJs4BAAAgJs4BAAAgJs4BAAAg\n",
       "Js4BAAAgJs4BAAAgJs4BAAAgJs4BAAAgJs4BAAAgJs4BAAAgJs4BAAAgJs4BAAAgJs4BAAAgJs4B\n",
       "AAAgJs4BAAAgJs4BAAAgJs4BAAAgJs4BAAAgJs4BAAAgJs4BAAAgJs4BAAAgJs4BAAAgJs4BAAAg\n",
       "Js4BAAAgJs4BAAAgJs4BAAAgJs4BAAAgJs4BAAAgJs4BAAAgJs4BAAAgJs4BAAAgNo0x5noEAHA+\n",
       "J2NVT2Dh+53P9QQALhmXcwAAAIiJcwAAAIiJcwAAAIiJcwAAAIiJcwAAAIiJcwAAAIiJcwAAAIiJ\n",
       "cwAAAIiJcwAAAIiJcwAAAIiJcwAAAIiJcwAAAIiJcwAAAIiJcwAAAIiJcwAAAIiJcwAAAIiJcwAA\n",
       "AIiJcwAAAIiJcwAAAIiJcwAAAIiJcwAAAIiJcwAAAIiJcwAAAIiJcwAAAIiJcwAAAIiJcwAAAIiJ\n",
       "cwAAAIiJcwAAAIiJcwAAAIiJcwAAAIiJcwAAAIiJcwAAAIiJcwAAAIiJcwAAAIiJcwAAAIiJcwAA\n",
       "AIiJcwAAAIiJcwAAAIiJcwAAAIiJcwAAAIiJcwAAAIiJcwAAAIiJcwAAAIiJcwAAAIiJcwAAAIiJ\n",
       "cwAAAIiJcwAAAIiJcwAAAIiJcwAAAIiJcwAAAIiJcwAAAIiJcwAAAIiJcwAAAIiJcwAAAIiJcwAA\n",
       "AIiJcwAAAIiJcwAAAIiJcwAAAIiJcwAAAIiJcwAAAIiJcwAAAIiJcwAAAIiJcwAAAIiJcwAAAIiJ\n",
       "cwAAAIiJcwAAAIiJcwAAAIiJcwAAAIiJcwAAAIiJcwAAAIiJcwAAAIiJcwAAAIiJcwAAAIiJcwAA\n",
       "AIiJcwAAAIiJcwAAAIiJcwAAAIiJcwAAAIiJcwAAAIiJcwAAAIiJcwAAAIiJcwAAAIiJcwAAAIiJ\n",
       "cwAAAIiJcwAAAIiJcwAAAIiJcwAAAIiJcwAAAIiJcwAAAIiJcwAAAIiJcwAAAIiJcwAAAIiJcwAA\n",
       "AIiJcwAAAIiJcwAAAIiJcwAAAIiJcwAAAIiJcwAAAIiJcwAAAIhNY4y5HgEAcKV8W9ULWPixt64n\n",
       "APyVyzkAAADExDkAAADExDkAAADExDkAAADExDkAAADExDkAAADExDkAAADExDkAAADExDkAAADE\n",
       "xDkAAADExDkAAADExDkAAADExDkAAADExDkAAADExDkAAADExDkAAADExDkAAADExDkAAADExDkA\n",
       "AADExDkAAADExDkAAADExDkAAADExDkAAADExDkAAADExDkAAADExDkAAADExDkAAADExDkAAADE\n",
       "xDkAAADExDkAAADExDkAAADExDkAAADExDkAAADExDkAAADExDkAAADExDkAAADExDkAAADExDkA\n",
       "AADExDkAAADExDkAAADExDkAAADExDkAAADExDkAAADExDkAAADExDkAAADExDkAAADExDkAAADE\n",
       "xDkAAADExDkAAADExDkAAADExDkAAADExDkAAADExDkAAADExDkAAADExDkAAADExDkAAADExDkA\n",
       "AADExDkAAADExDkAAADExDkAAADExDkAAADExDkAAADExDkAAADExDkAAADExDkAAADExDkAAADE\n",
       "xDkAAADExDkAAADExDkAAADExDkAAADExDkAAADExDkAAADExDkAAADExDkAAADExDkAAADExDkA\n",
       "AADExDkAAADExDkAAADExDkAAADExDkAAADExDkAAADExDkAAADExDkAAADExDkAAADExDkAAADE\n",
       "xDkAAADExDkAAADExDkAAADExDkAAADExDkAAADExDkAAADExDkAAADExDkAAADExDkAAADExDkA\n",
       "AADExDkAAADExDkAAADExDkAAADExDkAAADEVvUAAIArZ/+4XsDC3s+79QQWft36Wk+AjeRyDgAA\n",
       "ADFxDgAAADFxDgAAADFxDgAAADFxDgAAADFxDgAAADFxDgAAADFxDgAAADFxDgAAADFxDgAAADFx\n",
       "DgAAADFxDgAAADFxDgAAADFxDgAAADFxDgAAADFxDgAAADFxDgAAADFxDgAAADFxDgAAADFxDgAA\n",
       "ADFxDgAAADFxDgAAADFxDgAAADFxDgAAADFxDgAAADFxDgAAADFxDgAAADFxDgAAADFxDgAAADFx\n",
       "DgAAADFxDgAAADFxDgAAADFxDgAAADFxDgAAADFxDgAAADFxDgAAADFxDgAAADFxDgAAADFxDgAA\n",
       "ADFxDgAAADFxDgAAADFxDgAAADFxDgAAADFxDgAAADFxDgAAADFxDgAAADFxDgAAADFxDgAAADFx\n",
       "DgAAADFxDgAAADFxDgAAADFxDgAAADFxDgAAADFxDgAAADFxDgAAADFxDgAAADFxDgAAADFxDgAA\n",
       "ADFxDgAAADFxDgAAADFxDgAAADFxDgAAADFxDgAAADFxDgAAADFxDgAAADFxDgAAADFxDgAAADFx\n",
       "DgAAADFxDgAAADFxDgAAADFxDgAAADFxDgAAADFxDgAAADFxDgAAADFxDgAAADFxDgAAADFxDgAA\n",
       "ADFxDgAAADFxDgAAADFxDgAAADFxDgAAADFxDgAAADFxDgAAADFxDgAAADFxDgAAADFxDgAAADFx\n",
       "DgAAADFxDgAAADFxDgAAADFxDgAAADFxDgAAADFxDgAAADFxDgAAADFxDgAAADFxDgAAADFxDgAA\n",
       "ADFxDgAAADFxDgAAADFxDgAAALFVPQAAAC7SvHtUT2Bh92i/nsDC4c5BPYEzLucAAAAQE+cAAAAQ\n",
       "E+cAAAAQE+cAAAAQE+cAAAAQE+cAAAAQE+cAAAAQE+cAAAAQE+cAAAAQE+cAAAAQE+cAAAAQE+cA\n",
       "AAAQE+cAAAAQE+cAAAAQE+cAAAAQE+cAAAAQE+cAAAAQE+cAAAAQE+cAAAAQE+cAAAAQE+cAAAAQ\n",
       "E+cAAAAQE+cAAAAQE+cAAAAQE+cAAAAQE+cAAAAQE+cAAAAQE+cAAAAQE+cAAAAQE+cAAAAQE+cA\n",
       "AAAQE+cAAAAQE+cAAAAQE+cAAAAQE+cAAAAQE+cAAAAQE+cAAAAQE+cAAAAQE+cAAAAQE+cAAAAQ\n",
       "E+cAAAAQE+cAAAAQE+cAAAAQE+cAAAAQE+cAAAAQE+cAAAAQE+cAAAAQE+cAAAAQE+cAAAAQE+cA\n",
       "AAAQE+cAAAAQE+cAAAAQE+cAAAAQE+cAAAAQE+cAAAAQE+cAAAAQE+cAAAAQE+cAAAAQE+cAAAAQ\n",
       "E+cAAAAQE+cAAAAQE+cAAAAQE+cAAAAQE+cAAAAQE+cAAAAQE+cAAAAQE+cAAAAQE+cAAAAQE+cA\n",
       "AAAQE+cAAAAQE+cAAAAQE+cAAAAQE+cAAAAQE+cAAAAQE+cAAAAQE+cAAAAQE+cAAAAQE+cAAAAQ\n",
       "E+cAAAAQE+cAAAAQE+cAAAAQE+cAAAAQE+cAAAAQE+cAAAAQE+cAAAAQE+cAAAAQE+cAAAAQE+cA\n",
       "AAAQE+cAAAAQE+cAAAAQE+cAAAAQE+cAAAAQE+cAAAAQE+cAAAAQE+cAAAAQE+cAAAAQE+cAAAAQ\n",
       "E+cAAAAQE+cAAAAQW9UDAACA7XG6c1xPYOHmye16AmdczgEAACAmzgEAACAmzgEAACAmzgEAACAm\n",
       "zgEAACAmzgEAACAmzgEAACAmzgEAACAmzgEAACAmzgEAACAmzgEAACAmzgEAACAmzgEAACAmzgEA\n",
       "ACAmzgEAACAmzgEAACAmzgEAACAmzgEAACAmzgEAACAmzgEAACAmzgEAACAmzgEAACAmzgEAACAm\n",
       "zgEAACAmzgEAACAmzgEAACAmzgEAACAmzgEAACAmzgEAACAmzgEAACAmzgEAACAmzgEAACAmzgEA\n",
       "ACAmzgEAACAmzgEAACAmzgEAACAmzgEAACAmzgEAACAmzgEAACAmzgEAACAmzgEAACAmzgEAACAm\n",
       "zgEAACAmzgEAACAmzgEAACAmzgEAACAmzgEAACAmzgEAACAmzgEAACAmzgEAACAmzgEAACAmzgEA\n",
       "ACAmzgEAACAmzgEAACAmzgEAACAmzgEAACAmzgEAACAmzgEAACAmzgEAACAmzgEAACAmzgEAACAm\n",
       "zgEAACAmzgEAACAmzgEAACAmzgEAACAmzgEAACAmzgEAACAmzgEAACAmzgEAACAmzgEAACAmzgEA\n",
       "ACAmzgEAACAmzgEAACAmzgEAACAmzgEAACAmzgEAACAmzgEAACAmzgEAACAmzgEAACAmzgEAACAm\n",
       "zgEAACAmzgEAACAmzgEAACAmzgEAACAmzgEAACAmzgEAACAmzgEAACAmzgEAACAmzgEAACAmzgEA\n",
       "ACAmzgEAACAmzgEAACAmzgEAACAmzgEAACAmzgEAACAmzgEAACAmzgEAACAmzgEAACD2G4AxRIWk\n",
       "UqgLAAAAAElFTkSuQmCC\n",
       "\" transform=\"translate(1900, 1096)\"/>\n",
       "</g>\n",
       "<defs>\n",
       "  <clipPath id=\"clip475\">\n",
       "    <rect x=\"3003\" y=\"624\" width=\"157\" height=\"1944\"/>\n",
       "  </clipPath>\n",
       "</defs>\n",
       "<g clip-path=\"url(#clip475)\">\n",
       "<image width=\"156\" height=\"1943\" xlink:href=\"data:image/png;base64,\n",
       "iVBORw0KGgoAAAANSUhEUgAAAJwAAAeXCAYAAAAl2AwAAAAUmUlEQVR4nO3dsZEkNwAEwcFHO0lL\n",
       "6RDdeIBe1AmXacEKFS1MANjz7z//vQ8if376B/C7CI6U4EgJjpTgSAmOlOBI7Zyf/gn8JhaOlOBI\n",
       "CY6U4EgJjpTgSAmO1D7f4QhZOFKCIyU4UoIjJThSgiO1IzlCciMlOFKCIyU4UoIjJThSgiPleBIp\n",
       "C0dKcKQER0pwpARHSnCkvJ5EysKREhwpwZESHCnBkRIcKcGRmuQoyY2U4EgJjpTgSAmOlOBICY7U\n",
       "jgNxhCwcKcGREhwpwZESHCnBkXJNkJSFIyU4UoIjJThSgiMlOFKCI+UVc1IWjpTgSAmOlOBICY6U\n",
       "4EjtSI6Q3EgJjpTgSAmOlOBICY6U4Eg5nkTKwpESHCnBkRIcKcGREhwpwZHyXBcpC0dKcKQER0pw\n",
       "pARHSnCkJjlKciMlOFKCIyU4UoIjJThSgiO143wSIQtHSnCkBEdKcKQER0pwpLyeRMrCkRIcKcGR\n",
       "EhwpwZESHCnBkfJ6EikLR0pwpARHSnCkBEdKcKQER2pHcoTkRkpwpARHSnCkBEdKcKRcEyRl4UgJ\n",
       "jpTgSAmOlOBICY6U4Ei5JkjKwpESHCnBkRIcKcGREhwpx5NIWThSgiMlOFKCIyU4UoIjJThSjieR\n",
       "snCkBEdKcKQER0pwpARHapKjJDdSgiMlOFKCIyU4UoIjJThSO84nEbJwpARHSnCkBEdKcKQER0pw\n",
       "pDzXRcrCkRIcKcGREhwpwZESHCmvJ5GycKQER0pwpARHSnCkBEdKcKQ810VKbqQER0pwpARHSnCk\n",
       "BEfK8SRSFo6U4EgJjpTgSAmOlOBICY6U15NIWThSgiMlOFKCIyU4UoIjJThSzsORsnCkBEdKcKQE\n",
       "R0pwpARHyvEkUhaOlOBICY6U4EgJjpTgSAmO1M4fH+LoWDhSgiMlOFKCIyU4UoIj5XgSKQtHSnCk\n",
       "BEdKcKQER0pwpARHyutJpCwcKcGREhwpwZESHCnBkRIcKefhSFk4UoIjJThSgiMlOFKCI+V4EikL\n",
       "R0pwpARHSnCkBEdKcKQER2qSoyQ3UoIjJThSgiMlOFKCI+V4EikLR0pwpARHSnCkBEdKcKQER8rr\n",
       "SaQsHCnBkRIcKcGREhwpwZESHCnn4UhZOFKCIyU4UoIjJThSgiO1z3cRQhaOlOBICY6U4EgJjpTg\n",
       "SAmOlONJpCwcKcGREhwpwZESHCnBkfLnbqTkRkpwpARHSnCkBEdKcKQER8rxJFIWjpTgSAmOlOBI\n",
       "CY6U4Ej5czdSFo6U4EgJjpTgSAmOlOBICY6U40mkLBwpwZESHCnBkRIcKcGREhwp5+FIWThSgiMl\n",
       "OFKCIyU4UoIjtSM5QnIjJThSgiMlOFKCIyU4UoIj5XgSKQtHSnCkBEdKcKQER0pwpHY8n0TIwpES\n",
       "HCnBkRIcKcGREhwpwZFyPImUhSMlOFKCIyU4UoIjJThSgiPl3wRJWThSgiMlOFKCIyU4UoIj5XgS\n",
       "KQtHSnCkBEdKcKQER0pwpARHyr8JkpIbKcGREhwpwZESHCnBkXI8iZSFIyU4UoIjJThSgiMlOFKC\n",
       "I+U7HCkLR0pwpARHSnCkBEdKcKQER8or5qQsHCnBkRIcKcGREhwpwZFyPImUhSMlOFKCIyU4UoIj\n",
       "JThSgiPleBIpC0dKcKQER0pwpARHSnCk9vkuQsjCkRIcKcGREhwpwZESHCnBkdqRHCG5kRIcKcGR\n",
       "EhwpwZESHCmvJ5GycKQER0pwpARHSnCkBEdKcKS8nkTKwpESHCnBkRIcKcGREhwpwZFyHo6UhSMl\n",
       "OFKCIyU4UoIjJThSPouQsnCkBEdKcKQER0pwpARHSnCkXBMkZeFICY6U4EgJjpTgSAmO1CRHSW6k\n",
       "BEdKcKQER0pwpARHSnCkHE8iZeFICY6U4EgJjpTgSAmOlOBIea6LlIUjJThSgiMlOFKCIyU4UjvO\n",
       "JxGycKQER0pwpARHSnCkBEdKcKQcTyJl4UgJjpTgSAmOlOBICY6U15NIWThSgiMlOFKCIyU4UoIj\n",
       "JThSjieRsnCkBEdKcKQER0pwpARHSnCkJjlKciMlOFKCIyU4UoIjJThSrgmSsnCkBEdKcKQER0pw\n",
       "pARHSnCkXBMkZeFICY6U4EgJjpTgSAmOlONJpCwcKcGREhwpwZESHCnBkRIcKceTSFk4UoIjJThS\n",
       "giMlOFKCIyU4Ur7DkbJwpARHSnCkBEdKcKQER2pHcoTkRkpwpARHSnCkBEdKcKQER2qf97oIWThS\n",
       "giMlOFKCIyU4UoIj5RVzUhaOlOBICY6U4EgJjpTgSAmOlNeTSFk4UoIjJThSgiMlOFKCI+V4EikL\n",
       "R0pwpARHSnCkBEdKcKQER8rxJFIWjpTgSAmOlOBICY6U4EgJjpTvcKQsHCnBkRIcKcGREhwpwZHa\n",
       "kRwhuZESHCnBkRIcKcGREhwpwZFyPImUhSMlOFKCIyU4UoIjJThSXjEnZeFICY6U4EgJjpTgSAmO\n",
       "lOBIOZ5EysKREhwpwZESHCnBkRIcKcGR8h2OlIUjJThSgiMlOFKCIyU4Uq4JkrJwpARHSnCkBEdK\n",
       "cKQER0pwpPb5EEfIwpESHCnBkRIcKcGREhypHckRkhspwZESHCnBkRIcKcGREhwpryeRsnCkBEdK\n",
       "cKQER0pwpARHSnCkfIcjZeFICY6U4EgJjpTgSAmOlFfMSVk4UoIjJThSgiMlOFKCIyU4Uo4nkbJw\n",
       "pARHSnCkBEdKcKQER8pnEVIWjpTgSAmOlOBICY6U4EgJjpRrgqQsHCnBkRIcKcGREhwpwZGa5CjJ\n",
       "jZTgSAmOlOBICY6U4EgJjpTjSaQsHCnBkRIcKcGREhwpwZESHCnPdZGycKQER0pwpARHSnCkBEfK\n",
       "ZxFSFo6U4EgJjpTgSAmOlOBICY7UjnuChCwcKcGREhwpwZESHCnBkXI8iZSFIyU4UoIjJThSgiMl\n",
       "OFKCI+U7HCkLR0pwpARHSnCkBEdKcKQER2pHcoTkRkpwpARHSnCkBEdKcKQcTyJl4UgJjpTgSAmO\n",
       "lOBICY6U4Ej5DkfKwpESHCnBkRIcKcGREhyp+W83ShaOlOBICY6U4EgJjpTgSAmOlONJpCwcKcGR\n",
       "EhwpwZESHCnBkRIcKd/hSFk4UoIjJThSgiMlOFKCI+WaICkLR0pwpARHSnCkBEdKcKQER2qSoyQ3\n",
       "UoIjJThSgiMlOFKCI+XWFikLR0pwpARHSnCkBEdKcKQER8o1QVIWjpTgSAmOlOBICY6U4EgJjpTz\n",
       "cKQsHCnBkRIcKcGREhwpwZHyWYSUhSMlOFKCIyU4UoIjJThSgiPlOxwpC0dKcKQER0pwpARHSnCk\n",
       "fBYhZeFICY6U4EgJjpTgSAmOlOBI7Tvvp38Dv4iFIyU4UoIjJThSgiMlOFKCIyU4UoIjJThSgiMl\n",
       "OFKCIyU4Uq4JkrJwpARHSnCkBEdKcKQER0pwpFwTJGXhSAmOlOBICY6U4EgJjtS+z2cROhaOlOBI\n",
       "CY6U4EgJjpTgSAmOlGuCpCwcKcGREhwpwZESHCnBkdpzPImQhSMlOFKCIyU4UoIjJThSgiPlmiAp\n",
       "C0dKcKQER0pwpARHSnCkBEdqzyvmhCwcKcGREhwpwZESHCnBkXJNkJSFIyU4UoIjJThSgiMlOFKC\n",
       "I7X3fIejY+FICY6U4EgJjpTgSAmO1L7v/vRv4BexcKQER0pwpARHSnCkBEdKcKRcEyRl4UgJjpTg\n",
       "SAmOlOBICY6U4Ej5DkfKwpESHCnBkRIcKcGREhyp3eeaIB0LR0pwpARHSnCkBEdKcKQER8rxJFIW\n",
       "jpTgSAmOlOBICY6U4EjtOZ5EyMKREhwpwZESHCnBkRIcKcGR2vNvgoQsHCnBkRIcKcGREhwpwZHa\n",
       "e25t0bFwpARHSnCkBEdKcKQER0pwpHYdTyJk4UgJjpTgSAmOlOBICY6U4Eh5rouUhSMlOFKCIyU4\n",
       "UoIjJThSrgmSsnCkBEdKcKQER0pwpARHSnCkvGJOysKREhwpwZESHCnBkRIcqV23tghZOFKCIyU4\n",
       "UoIjJThSgiMlOFKuCZKycKQER0pwpARHSnCkBEdKcKRcEyRl4UgJjpTgSAmOlOBICY6Ua4KkLBwp\n",
       "wZESHCnBkRIcKcGREhwp1wRJWThSgiMlOFKCIyU4UoIj5dYWKQtHSnCkBEdKcKQER0pwpARHyjVB\n",
       "UhaOlOBICY6U4EgJjpTgSAmO1J7vcIQsHCnBkRIcKcGREhwpwZHa+7yeRMfCkRIcKcGREhwpwZES\n",
       "HCnBkXI8iZSFIyU4UoIjJThSgiMlOFJeTyJl4UgJjpTgSAmOlOBICY6U4Ei5JkjKwpESHCnBkRIc\n",
       "KcGREhwpwZFyTZCUhSMlOFKCIyU4UoIjJThSrgmSsnCkBEdKcKQER0pwpARHSnCk9p5rgnQsHCnB\n",
       "kRIcKcGREhwpwZHa+xxPomPhSAmOlOBICY6U4EgJjpTgSLkmSMrCkRIcKcGREhwpwZESHCm3tkhZ\n",
       "OFKCIyU4UoIjJThSgiMlOFKuCZKycKQER0pwpARHSnCkBEdKcKRcEyRl4UgJjpTgSAmOlOBICY6U\n",
       "a4KkLBwpwZESHCnBkRIcKcGREhwp1wRJWThSgiMlOFKCIyU4UoIj5dYWKQtHSnCkBEdKcKQER0pw\n",
       "pARHyjVBUhaOlOBICY6U4EgJjpTgSAmOlGuCpCwcKcGREhwpwZESHCnBkXJNkJSFIyU4UoIjJThS\n",
       "giMlOFKCI+WaICkLR0pwpARHSnCkBEdKcKT2HE8iZOFICY6U4EgJjpTgSAmOlOBI7Xo9iZCFIyU4\n",
       "UoIjJThSgiMlOFKCI+WaICkLR0pwpARHSnCkBEdKcKRcEyRl4UgJjpTgSAmOlOBICY6U4Ei5JkjK\n",
       "wpESHCnBkRIcKcGREhwpt7ZIWThSgiMlOFKCIyU4UoIjJThSrgmSsnCkBEdKcKQER0pwpARHyq0t\n",
       "UhaOlOBICY6U4EgJjpTgSAmOlGuCpCwcKcGREhwpwZESHCnBkRIcKdcESVk4UoIjJThSgiMlOFKC\n",
       "I7XreBIhC0dKcKQER0pwpARHSnCkBEdqz3NdhCwcKcGREhwpwZESHCnBkXJri5SFIyU4UoIjJThS\n",
       "giMlOFKCI+WaICkLR0pwpARHSnCkBEdKcKQER8o1QVIWjpTgSAmOlOBICY6U4Ei5JkjKwpESHCnB\n",
       "kRIcKcGREhwpwZFyTZCUhSMlOFKCIyU4UoIjJThSbm2RsnCkBEdKcKQER0pwpARHSnCkXBMkZeFI\n",
       "CY6U4EgJjpTgSAmOlOBIuSZIysKREhwpwZESHCnBkRIcKdcESVk4UoIjJThSgiMlOFKCIyU4Uq4J\n",
       "krJwpARHSnCkBEdKcKQER8qtLVIWjpTgSAmOlOBICY6U4EgJjpTjSaQsHCnBkRIcKcGREhwpwZES\n",
       "HKm9z3k4OhaOlOBICY6U4EgJjpTgSO06nkTIwpESHCnBkRIcKcGREhwpwZFyTZCUhSMlOFKCIyU4\n",
       "UoIjJThSu25tEbJwpARHSnCkBEdKcKQER0pwpBxPImXhSAmOlOBICY6U4EgJjpTPIqQsHCnBkRIc\n",
       "KcGREhwpwZESHCnXBElZOFKCIyU4UoIjJThSgiMlOFLOw5GycKQER0pwpARHSnCkBEdq12cRQhaO\n",
       "lOBICY6U4EgJjpTgSAmO1N5zTZCOhSMlOFKCIyU4UoIjJThSe5/jSXQsHCnBkRIcKcGREhwpwZES\n",
       "HKldx5MIWThSgiMlOFKCIyU4UoIjJThSXjEnZeFICY6U4EgJjpTgSAmOlGuCpCwcKcGREhwpwZES\n",
       "HCnBkRIcKdcESVk4UoIjJThSgiMlOFKCI+XWFikLR0pwpARHSnCkBEdKcKQER2rXdzhCFo6U4EgJ\n",
       "jpTgSAmOlOBICY7U3ueaIB0LR0pwpARHSnCkBEdKcKQcTyJl4UgJjpTgSAmOlOBICY6U4Eh5rouU\n",
       "hSMlOFKCIyU4UoIjJThSbm2RsnCkBEdKcKQER0pwpARHSnCkXBMkZeFICY6U4EgJjpTgSAmOlFtb\n",
       "pCwcKcGREhwpwZESHCnBkRIcqV3XBAlZOFKCIyU4UoIjJThSgiMlOFLOw5GycKQER0pwpARHSnCk\n",
       "BEfK60mkLBwpwZESHCnBkRIcKcGREhypveeaIB0LR0pwpARHSnCkBEdKcKR2P8eT6Fg4UoIjJThS\n",
       "giMlOFKCIyU4Ul5PImXhSAmOlOBICY6U4EgJjpTgSO26JkjIwpESHCnBkRIcKcGREhypPdcECVk4\n",
       "UoIjJThSgiMlOFKCIyU4Uv5NkJSFIyU4UoIjJThSgiMlOFL+3I2UhSMlOFKCIyU4UoIjJThSgiPl\n",
       "eBIpC0dKcKQER0pwpARHSnCkBEfKc12kLBwpwZESHCnBkRIcKcGR8udupCwcKcGREhwpwZESHCnB\n",
       "kRIcqT3XBAlZOFKCIyU4UoIjJThSgiO169YWIQtHSnCkBEdKcKQER0pwpARHyvEkUhaOlOBICY6U\n",
       "4EgJjpTgSAmOlOe6SFk4UoIjJThSgiMlOFKCI+XP3UhZOFKCIyU4UoIjJThSgiMlOFK7rgkSsnCk\n",
       "BEdKcKQER0pwpARHymcRUhaOlOBICY6U4EgJjpTgSAmOlFfMSVk4UoIjJThSgiMlOFKCI7Xr9SRC\n",
       "Fo6U4EgJjpTgSAmOlOBICY6UP3cjZeFICY6U4EgJjpTgSAmOlOBIuSZIysKREhwpwZESHCnBkRIc\n",
       "KdcESVk4UoIjJThSgiMlOFKCIyU4Uv5NkJSFIyU4UoIjJThSgiMlOFJubZGycKQER0pwpARHSnCk\n",
       "BEdKcKQcTyJl4UgJjpTgSAmOlOBICY6U4Ejtfn9/+jfwi1g4UoIjJThSgiMlOFKCI+V4EikLR0pw\n",
       "pARHSnCkBEdKcKQER8pzXaQsHCnBkRIcKcGREhwpwZHa/XwWoWPhSAmOlOBICY6U4EgJjpTgSO0+\n",
       "ryfRsXCkBEdKcKQER0pwpARHSnCkPNdFysKREhwpwZESHCnBkRIcKceTSFk4UoIjJThSgiMlOFKC\n",
       "IyU4Uruf73B0LBwpwZESHCnBkRIcKcGRcjyJlIUjJThSgiMlOFKCIyU4UoIj5TscKQtHSnCkBEdK\n",
       "cKQER0pwpP4HOvdrFLvYkYEAAAAASUVORK5CYII=\n",
       "\" transform=\"translate(3003, 624)\"/>\n",
       "</g>\n",
       "<path clip-path=\"url(#clip470)\" d=\"M3237.42 2564.3 L3267.1 2564.3 L3267.1 2568.24 L3237.42 2568.24 L3237.42 2564.3 Z\" fill=\"#000000\" fill-rule=\"evenodd\" fill-opacity=\"1\" /><path clip-path=\"url(#clip470)\" d=\"M3278 2577.19 L3285.64 2577.19 L3285.64 2550.83 L3277.33 2552.5 L3277.33 2548.24 L3285.59 2546.57 L3290.27 2546.57 L3290.27 2577.19 L3297.91 2577.19 L3297.91 2581.13 L3278 2581.13 L3278 2577.19 Z\" fill=\"#000000\" fill-rule=\"evenodd\" fill-opacity=\"1\" /><path clip-path=\"url(#clip470)\" d=\"M3307.35 2575.25 L3312.24 2575.25 L3312.24 2581.13 L3307.35 2581.13 L3307.35 2575.25 Z\" fill=\"#000000\" fill-rule=\"evenodd\" fill-opacity=\"1\" /><path clip-path=\"url(#clip470)\" d=\"M3332.42 2549.65 Q3328.81 2549.65 3326.98 2553.21 Q3325.18 2556.75 3325.18 2563.88 Q3325.18 2570.99 3326.98 2574.56 Q3328.81 2578.1 3332.42 2578.1 Q3336.06 2578.1 3337.86 2574.56 Q3339.69 2570.99 3339.69 2563.88 Q3339.69 2556.75 3337.86 2553.21 Q3336.06 2549.65 3332.42 2549.65 M3332.42 2545.94 Q3338.23 2545.94 3341.29 2550.55 Q3344.37 2555.13 3344.37 2563.88 Q3344.37 2572.61 3341.29 2577.22 Q3338.23 2581.8 3332.42 2581.8 Q3326.61 2581.8 3323.53 2577.22 Q3320.48 2572.61 3320.48 2563.88 Q3320.48 2555.13 3323.53 2550.55 Q3326.61 2545.94 3332.42 2545.94 Z\" fill=\"#000000\" fill-rule=\"evenodd\" fill-opacity=\"1\" /><path clip-path=\"url(#clip470)\" d=\"M3362.58 2549.65 Q3358.97 2549.65 3357.14 2553.21 Q3355.34 2556.75 3355.34 2563.88 Q3355.34 2570.99 3357.14 2574.56 Q3358.97 2578.1 3362.58 2578.1 Q3366.22 2578.1 3368.02 2574.56 Q3369.85 2570.99 3369.85 2563.88 Q3369.85 2556.75 3368.02 2553.21 Q3366.22 2549.65 3362.58 2549.65 M3362.58 2545.94 Q3368.39 2545.94 3371.45 2550.55 Q3374.53 2555.13 3374.53 2563.88 Q3374.53 2572.61 3371.45 2577.22 Q3368.39 2581.8 3362.58 2581.8 Q3356.77 2581.8 3353.7 2577.22 Q3350.64 2572.61 3350.64 2563.88 Q3350.64 2555.13 3353.7 2550.55 Q3356.77 2545.94 3362.58 2545.94 Z\" fill=\"#000000\" fill-rule=\"evenodd\" fill-opacity=\"1\" /><path clip-path=\"url(#clip470)\" d=\"M3237.42 2321.42 L3267.1 2321.42 L3267.1 2325.36 L3237.42 2325.36 L3237.42 2321.42 Z\" fill=\"#000000\" fill-rule=\"evenodd\" fill-opacity=\"1\" /><path clip-path=\"url(#clip470)\" d=\"M3287.19 2306.77 Q3283.58 2306.77 3281.75 2310.33 Q3279.95 2313.88 3279.95 2321.01 Q3279.95 2328.11 3281.75 2331.68 Q3283.58 2335.22 3287.19 2335.22 Q3290.83 2335.22 3292.63 2331.68 Q3294.46 2328.11 3294.46 2321.01 Q3294.46 2313.88 3292.63 2310.33 Q3290.83 2306.77 3287.19 2306.77 M3287.19 2303.07 Q3293 2303.07 3296.06 2307.67 Q3299.14 2312.26 3299.14 2321.01 Q3299.14 2329.73 3296.06 2334.34 Q3293 2338.92 3287.19 2338.92 Q3281.38 2338.92 3278.3 2334.34 Q3275.25 2329.73 3275.25 2321.01 Q3275.25 2312.26 3278.3 2307.67 Q3281.38 2303.07 3287.19 2303.07 Z\" fill=\"#000000\" fill-rule=\"evenodd\" fill-opacity=\"1\" /><path clip-path=\"url(#clip470)\" d=\"M3307.35 2332.37 L3312.24 2332.37 L3312.24 2338.25 L3307.35 2338.25 L3307.35 2332.37 Z\" fill=\"#000000\" fill-rule=\"evenodd\" fill-opacity=\"1\" /><path clip-path=\"url(#clip470)\" d=\"M3321.24 2303.69 L3343.46 2303.69 L3343.46 2305.68 L3330.92 2338.25 L3326.03 2338.25 L3337.84 2307.63 L3321.24 2307.63 L3321.24 2303.69 Z\" fill=\"#000000\" fill-rule=\"evenodd\" fill-opacity=\"1\" /><path clip-path=\"url(#clip470)\" d=\"M3352.63 2303.69 L3370.99 2303.69 L3370.99 2307.63 L3356.91 2307.63 L3356.91 2316.1 Q3357.93 2315.75 3358.95 2315.59 Q3359.97 2315.4 3360.99 2315.4 Q3366.77 2315.4 3370.15 2318.57 Q3373.53 2321.75 3373.53 2327.16 Q3373.53 2332.74 3370.06 2335.84 Q3366.59 2338.92 3360.27 2338.92 Q3358.09 2338.92 3355.82 2338.55 Q3353.58 2338.18 3351.17 2337.44 L3351.17 2332.74 Q3353.26 2333.88 3355.48 2334.43 Q3357.7 2334.99 3360.18 2334.99 Q3364.18 2334.99 3366.52 2332.88 Q3368.86 2330.77 3368.86 2327.16 Q3368.86 2323.55 3366.52 2321.45 Q3364.18 2319.34 3360.18 2319.34 Q3358.3 2319.34 3356.43 2319.76 Q3354.57 2320.17 3352.63 2321.05 L3352.63 2303.69 Z\" fill=\"#000000\" fill-rule=\"evenodd\" fill-opacity=\"1\" /><path clip-path=\"url(#clip470)\" d=\"M3237.42 2078.54 L3267.1 2078.54 L3267.1 2082.48 L3237.42 2082.48 L3237.42 2078.54 Z\" fill=\"#000000\" fill-rule=\"evenodd\" fill-opacity=\"1\" /><path clip-path=\"url(#clip470)\" d=\"M3287.19 2063.89 Q3283.58 2063.89 3281.75 2067.46 Q3279.95 2071 3279.95 2078.13 Q3279.95 2085.23 3281.75 2088.8 Q3283.58 2092.34 3287.19 2092.34 Q3290.83 2092.34 3292.63 2088.8 Q3294.46 2085.23 3294.46 2078.13 Q3294.46 2071 3292.63 2067.46 Q3290.83 2063.89 3287.19 2063.89 M3287.19 2060.19 Q3293 2060.19 3296.06 2064.79 Q3299.14 2069.38 3299.14 2078.13 Q3299.14 2086.85 3296.06 2091.46 Q3293 2096.04 3287.19 2096.04 Q3281.38 2096.04 3278.3 2091.46 Q3275.25 2086.85 3275.25 2078.13 Q3275.25 2069.38 3278.3 2064.79 Q3281.38 2060.19 3287.19 2060.19 Z\" fill=\"#000000\" fill-rule=\"evenodd\" fill-opacity=\"1\" /><path clip-path=\"url(#clip470)\" d=\"M3307.35 2089.49 L3312.24 2089.49 L3312.24 2095.37 L3307.35 2095.37 L3307.35 2089.49 Z\" fill=\"#000000\" fill-rule=\"evenodd\" fill-opacity=\"1\" /><path clip-path=\"url(#clip470)\" d=\"M3322.47 2060.81 L3340.82 2060.81 L3340.82 2064.75 L3326.75 2064.75 L3326.75 2073.22 Q3327.77 2072.87 3328.79 2072.71 Q3329.81 2072.52 3330.82 2072.52 Q3336.61 2072.52 3339.99 2075.7 Q3343.37 2078.87 3343.37 2084.28 Q3343.37 2089.86 3339.9 2092.96 Q3336.43 2096.04 3330.11 2096.04 Q3327.93 2096.04 3325.66 2095.67 Q3323.42 2095.3 3321.01 2094.56 L3321.01 2089.86 Q3323.09 2091 3325.32 2091.55 Q3327.54 2092.11 3330.01 2092.11 Q3334.02 2092.11 3336.36 2090 Q3338.7 2087.9 3338.7 2084.28 Q3338.7 2080.67 3336.36 2078.57 Q3334.02 2076.46 3330.01 2076.46 Q3328.14 2076.46 3326.26 2076.88 Q3324.41 2077.29 3322.47 2078.17 L3322.47 2060.81 Z\" fill=\"#000000\" fill-rule=\"evenodd\" fill-opacity=\"1\" /><path clip-path=\"url(#clip470)\" d=\"M3362.58 2063.89 Q3358.97 2063.89 3357.14 2067.46 Q3355.34 2071 3355.34 2078.13 Q3355.34 2085.23 3357.14 2088.8 Q3358.97 2092.34 3362.58 2092.34 Q3366.22 2092.34 3368.02 2088.8 Q3369.85 2085.23 3369.85 2078.13 Q3369.85 2071 3368.02 2067.46 Q3366.22 2063.89 3362.58 2063.89 M3362.58 2060.19 Q3368.39 2060.19 3371.45 2064.79 Q3374.53 2069.38 3374.53 2078.13 Q3374.53 2086.85 3371.45 2091.46 Q3368.39 2096.04 3362.58 2096.04 Q3356.77 2096.04 3353.7 2091.46 Q3350.64 2086.85 3350.64 2078.13 Q3350.64 2069.38 3353.7 2064.79 Q3356.77 2060.19 3362.58 2060.19 Z\" fill=\"#000000\" fill-rule=\"evenodd\" fill-opacity=\"1\" /><path clip-path=\"url(#clip470)\" d=\"M3237.42 1835.66 L3267.1 1835.66 L3267.1 1839.6 L3237.42 1839.6 L3237.42 1835.66 Z\" fill=\"#000000\" fill-rule=\"evenodd\" fill-opacity=\"1\" /><path clip-path=\"url(#clip470)\" d=\"M3287.19 1821.01 Q3283.58 1821.01 3281.75 1824.58 Q3279.95 1828.12 3279.95 1835.25 Q3279.95 1842.35 3281.75 1845.92 Q3283.58 1849.46 3287.19 1849.46 Q3290.83 1849.46 3292.63 1845.92 Q3294.46 1842.35 3294.46 1835.25 Q3294.46 1828.12 3292.63 1824.58 Q3290.83 1821.01 3287.19 1821.01 M3287.19 1817.31 Q3293 1817.31 3296.06 1821.91 Q3299.14 1826.5 3299.14 1835.25 Q3299.14 1843.97 3296.06 1848.58 Q3293 1853.16 3287.19 1853.16 Q3281.38 1853.16 3278.3 1848.58 Q3275.25 1843.97 3275.25 1835.25 Q3275.25 1826.5 3278.3 1821.91 Q3281.38 1817.31 3287.19 1817.31 Z\" fill=\"#000000\" fill-rule=\"evenodd\" fill-opacity=\"1\" /><path clip-path=\"url(#clip470)\" d=\"M3307.35 1846.61 L3312.24 1846.61 L3312.24 1852.49 L3307.35 1852.49 L3307.35 1846.61 Z\" fill=\"#000000\" fill-rule=\"evenodd\" fill-opacity=\"1\" /><path clip-path=\"url(#clip470)\" d=\"M3326.45 1848.56 L3342.77 1848.56 L3342.77 1852.49 L3320.82 1852.49 L3320.82 1848.56 Q3323.49 1845.8 3328.07 1841.17 Q3332.68 1836.52 3333.86 1835.18 Q3336.1 1832.66 3336.98 1830.92 Q3337.88 1829.16 3337.88 1827.47 Q3337.88 1824.72 3335.94 1822.98 Q3334.02 1821.24 3330.92 1821.24 Q3328.72 1821.24 3326.26 1822.01 Q3323.83 1822.77 3321.06 1824.32 L3321.06 1819.6 Q3323.88 1818.47 3326.33 1817.89 Q3328.79 1817.31 3330.82 1817.31 Q3336.2 1817.31 3339.39 1819.99 Q3342.58 1822.68 3342.58 1827.17 Q3342.58 1829.3 3341.77 1831.22 Q3340.99 1833.12 3338.88 1835.71 Q3338.3 1836.38 3335.2 1839.6 Q3332.1 1842.79 3326.45 1848.56 Z\" fill=\"#000000\" fill-rule=\"evenodd\" fill-opacity=\"1\" /><path clip-path=\"url(#clip470)\" d=\"M3352.63 1817.93 L3370.99 1817.93 L3370.99 1821.87 L3356.91 1821.87 L3356.91 1830.34 Q3357.93 1829.99 3358.95 1829.83 Q3359.97 1829.65 3360.99 1829.65 Q3366.77 1829.65 3370.15 1832.82 Q3373.53 1835.99 3373.53 1841.41 Q3373.53 1846.98 3370.06 1850.09 Q3366.59 1853.16 3360.27 1853.16 Q3358.09 1853.16 3355.82 1852.79 Q3353.58 1852.42 3351.17 1851.68 L3351.17 1846.98 Q3353.26 1848.12 3355.48 1848.67 Q3357.7 1849.23 3360.18 1849.23 Q3364.18 1849.23 3366.52 1847.12 Q3368.86 1845.02 3368.86 1841.41 Q3368.86 1837.79 3366.52 1835.69 Q3364.18 1833.58 3360.18 1833.58 Q3358.3 1833.58 3356.43 1834 Q3354.57 1834.41 3352.63 1835.29 L3352.63 1817.93 Z\" fill=\"#000000\" fill-rule=\"evenodd\" fill-opacity=\"1\" /><path clip-path=\"url(#clip470)\" d=\"M3249.37 1578.13 Q3245.76 1578.13 3243.93 1581.7 Q3242.12 1585.24 3242.12 1592.37 Q3242.12 1599.48 3243.93 1603.04 Q3245.76 1606.58 3249.37 1606.58 Q3253 1606.58 3254.81 1603.04 Q3256.64 1599.48 3256.64 1592.37 Q3256.64 1585.24 3254.81 1581.7 Q3253 1578.13 3249.37 1578.13 M3249.37 1574.43 Q3255.18 1574.43 3258.23 1579.04 Q3261.31 1583.62 3261.31 1592.37 Q3261.31 1601.1 3258.23 1605.7 Q3255.18 1610.29 3249.37 1610.29 Q3243.56 1610.29 3240.48 1605.7 Q3237.42 1601.1 3237.42 1592.37 Q3237.42 1583.62 3240.48 1579.04 Q3243.56 1574.43 3249.37 1574.43 Z\" fill=\"#000000\" fill-rule=\"evenodd\" fill-opacity=\"1\" /><path clip-path=\"url(#clip470)\" d=\"M3249.37 1335.25 Q3245.76 1335.25 3243.93 1338.82 Q3242.12 1342.36 3242.12 1349.49 Q3242.12 1356.6 3243.93 1360.16 Q3245.76 1363.7 3249.37 1363.7 Q3253 1363.7 3254.81 1360.16 Q3256.64 1356.6 3256.64 1349.49 Q3256.64 1342.36 3254.81 1338.82 Q3253 1335.25 3249.37 1335.25 M3249.37 1331.55 Q3255.18 1331.55 3258.23 1336.16 Q3261.31 1340.74 3261.31 1349.49 Q3261.31 1358.22 3258.23 1362.82 Q3255.18 1367.41 3249.37 1367.41 Q3243.56 1367.41 3240.48 1362.82 Q3237.42 1358.22 3237.42 1349.49 Q3237.42 1340.74 3240.48 1336.16 Q3243.56 1331.55 3249.37 1331.55 Z\" fill=\"#000000\" fill-rule=\"evenodd\" fill-opacity=\"1\" /><path clip-path=\"url(#clip470)\" d=\"M3269.53 1360.86 L3274.41 1360.86 L3274.41 1366.74 L3269.53 1366.74 L3269.53 1360.86 Z\" fill=\"#000000\" fill-rule=\"evenodd\" fill-opacity=\"1\" /><path clip-path=\"url(#clip470)\" d=\"M3288.63 1362.8 L3304.95 1362.8 L3304.95 1366.74 L3283 1366.74 L3283 1362.8 Q3285.66 1360.05 3290.25 1355.42 Q3294.85 1350.76 3296.03 1349.42 Q3298.28 1346.9 3299.16 1345.16 Q3300.06 1343.4 3300.06 1341.71 Q3300.06 1338.96 3298.12 1337.22 Q3296.2 1335.49 3293.09 1335.49 Q3290.89 1335.49 3288.44 1336.25 Q3286.01 1337.01 3283.23 1338.56 L3283.23 1333.84 Q3286.06 1332.71 3288.51 1332.13 Q3290.96 1331.55 3293 1331.55 Q3298.37 1331.55 3301.57 1334.24 Q3304.76 1336.92 3304.76 1341.41 Q3304.76 1343.54 3303.95 1345.46 Q3303.16 1347.36 3301.06 1349.95 Q3300.48 1350.62 3297.38 1353.84 Q3294.27 1357.04 3288.63 1362.8 Z\" fill=\"#000000\" fill-rule=\"evenodd\" fill-opacity=\"1\" /><path clip-path=\"url(#clip470)\" d=\"M3314.81 1332.18 L3333.16 1332.18 L3333.16 1336.11 L3319.09 1336.11 L3319.09 1344.58 Q3320.11 1344.24 3321.13 1344.07 Q3322.14 1343.89 3323.16 1343.89 Q3328.95 1343.89 3332.33 1347.06 Q3335.71 1350.23 3335.71 1355.65 Q3335.71 1361.23 3332.24 1364.33 Q3328.76 1367.41 3322.45 1367.41 Q3320.27 1367.41 3318 1367.04 Q3315.76 1366.67 3313.35 1365.93 L3313.35 1361.23 Q3315.43 1362.36 3317.65 1362.92 Q3319.88 1363.47 3322.35 1363.47 Q3326.36 1363.47 3328.7 1361.37 Q3331.03 1359.26 3331.03 1355.65 Q3331.03 1352.04 3328.7 1349.93 Q3326.36 1347.82 3322.35 1347.82 Q3320.48 1347.82 3318.6 1348.24 Q3316.75 1348.66 3314.81 1349.54 L3314.81 1332.18 Z\" fill=\"#000000\" fill-rule=\"evenodd\" fill-opacity=\"1\" /><path clip-path=\"url(#clip470)\" d=\"M3249.37 1092.38 Q3245.76 1092.38 3243.93 1095.94 Q3242.12 1099.48 3242.12 1106.61 Q3242.12 1113.72 3243.93 1117.28 Q3245.76 1120.82 3249.37 1120.82 Q3253 1120.82 3254.81 1117.28 Q3256.64 1113.72 3256.64 1106.61 Q3256.64 1099.48 3254.81 1095.94 Q3253 1092.38 3249.37 1092.38 M3249.37 1088.67 Q3255.18 1088.67 3258.23 1093.28 Q3261.31 1097.86 3261.31 1106.61 Q3261.31 1115.34 3258.23 1119.94 Q3255.18 1124.53 3249.37 1124.53 Q3243.56 1124.53 3240.48 1119.94 Q3237.42 1115.34 3237.42 1106.61 Q3237.42 1097.86 3240.48 1093.28 Q3243.56 1088.67 3249.37 1088.67 Z\" fill=\"#000000\" fill-rule=\"evenodd\" fill-opacity=\"1\" /><path clip-path=\"url(#clip470)\" d=\"M3269.53 1117.98 L3274.41 1117.98 L3274.41 1123.86 L3269.53 1123.86 L3269.53 1117.98 Z\" fill=\"#000000\" fill-rule=\"evenodd\" fill-opacity=\"1\" /><path clip-path=\"url(#clip470)\" d=\"M3284.64 1089.3 L3303 1089.3 L3303 1093.23 L3288.93 1093.23 L3288.93 1101.7 Q3289.95 1101.36 3290.96 1101.19 Q3291.98 1101.01 3293 1101.01 Q3298.79 1101.01 3302.17 1104.18 Q3305.55 1107.35 3305.55 1112.77 Q3305.55 1118.35 3302.08 1121.45 Q3298.6 1124.53 3292.28 1124.53 Q3290.11 1124.53 3287.84 1124.16 Q3285.59 1123.79 3283.19 1123.05 L3283.19 1118.35 Q3285.27 1119.48 3287.49 1120.04 Q3289.71 1120.59 3292.19 1120.59 Q3296.2 1120.59 3298.53 1118.49 Q3300.87 1116.38 3300.87 1112.77 Q3300.87 1109.16 3298.53 1107.05 Q3296.2 1104.94 3292.19 1104.94 Q3290.32 1104.94 3288.44 1105.36 Q3286.59 1105.78 3284.64 1106.66 L3284.64 1089.3 Z\" fill=\"#000000\" fill-rule=\"evenodd\" fill-opacity=\"1\" /><path clip-path=\"url(#clip470)\" d=\"M3324.76 1092.38 Q3321.15 1092.38 3319.32 1095.94 Q3317.51 1099.48 3317.51 1106.61 Q3317.51 1113.72 3319.32 1117.28 Q3321.15 1120.82 3324.76 1120.82 Q3328.39 1120.82 3330.2 1117.28 Q3332.03 1113.72 3332.03 1106.61 Q3332.03 1099.48 3330.2 1095.94 Q3328.39 1092.38 3324.76 1092.38 M3324.76 1088.67 Q3330.57 1088.67 3333.63 1093.28 Q3336.7 1097.86 3336.7 1106.61 Q3336.7 1115.34 3333.63 1119.94 Q3330.57 1124.53 3324.76 1124.53 Q3318.95 1124.53 3315.87 1119.94 Q3312.82 1115.34 3312.82 1106.61 Q3312.82 1097.86 3315.87 1093.28 Q3318.95 1088.67 3324.76 1088.67 Z\" fill=\"#000000\" fill-rule=\"evenodd\" fill-opacity=\"1\" /><path clip-path=\"url(#clip470)\" d=\"M3249.37 849.496 Q3245.76 849.496 3243.93 853.061 Q3242.12 856.603 3242.12 863.733 Q3242.12 870.839 3243.93 874.404 Q3245.76 877.945 3249.37 877.945 Q3253 877.945 3254.81 874.404 Q3256.64 870.839 3256.64 863.733 Q3256.64 856.603 3254.81 853.061 Q3253 849.496 3249.37 849.496 M3249.37 845.793 Q3255.18 845.793 3258.23 850.399 Q3261.31 854.983 3261.31 863.733 Q3261.31 872.459 3258.23 877.066 Q3255.18 881.649 3249.37 881.649 Q3243.56 881.649 3240.48 877.066 Q3237.42 872.459 3237.42 863.733 Q3237.42 854.983 3240.48 850.399 Q3243.56 845.793 3249.37 845.793 Z\" fill=\"#000000\" fill-rule=\"evenodd\" fill-opacity=\"1\" /><path clip-path=\"url(#clip470)\" d=\"M3269.53 875.098 L3274.41 875.098 L3274.41 880.978 L3269.53 880.978 L3269.53 875.098 Z\" fill=\"#000000\" fill-rule=\"evenodd\" fill-opacity=\"1\" /><path clip-path=\"url(#clip470)\" d=\"M3283.42 846.418 L3305.64 846.418 L3305.64 848.409 L3293.09 880.978 L3288.21 880.978 L3300.01 850.353 L3283.42 850.353 L3283.42 846.418 Z\" fill=\"#000000\" fill-rule=\"evenodd\" fill-opacity=\"1\" /><path clip-path=\"url(#clip470)\" d=\"M3314.81 846.418 L3333.16 846.418 L3333.16 850.353 L3319.09 850.353 L3319.09 858.825 Q3320.11 858.478 3321.13 858.316 Q3322.14 858.131 3323.16 858.131 Q3328.95 858.131 3332.33 861.302 Q3335.71 864.473 3335.71 869.89 Q3335.71 875.469 3332.24 878.57 Q3328.76 881.649 3322.45 881.649 Q3320.27 881.649 3318 881.279 Q3315.76 880.908 3313.35 880.168 L3313.35 875.469 Q3315.43 876.603 3317.65 877.158 Q3319.88 877.714 3322.35 877.714 Q3326.36 877.714 3328.7 875.607 Q3331.03 873.501 3331.03 869.89 Q3331.03 866.279 3328.7 864.172 Q3326.36 862.066 3322.35 862.066 Q3320.48 862.066 3318.6 862.483 Q3316.75 862.899 3314.81 863.779 L3314.81 846.418 Z\" fill=\"#000000\" fill-rule=\"evenodd\" fill-opacity=\"1\" /><path clip-path=\"url(#clip470)\" d=\"M3238.09 634.164 L3245.73 634.164 L3245.73 607.798 L3237.42 609.465 L3237.42 605.206 L3245.69 603.539 L3250.36 603.539 L3250.36 634.164 L3258 634.164 L3258 638.099 L3238.09 638.099 L3238.09 634.164 Z\" fill=\"#000000\" fill-rule=\"evenodd\" fill-opacity=\"1\" /><path clip-path=\"url(#clip470)\" d=\"M3267.45 632.219 L3272.33 632.219 L3272.33 638.099 L3267.45 638.099 L3267.45 632.219 Z\" fill=\"#000000\" fill-rule=\"evenodd\" fill-opacity=\"1\" /><path clip-path=\"url(#clip470)\" d=\"M3292.51 606.618 Q3288.9 606.618 3287.08 610.182 Q3285.27 613.724 3285.27 620.854 Q3285.27 627.96 3287.08 631.525 Q3288.9 635.067 3292.51 635.067 Q3296.15 635.067 3297.95 631.525 Q3299.78 627.96 3299.78 620.854 Q3299.78 613.724 3297.95 610.182 Q3296.15 606.618 3292.51 606.618 M3292.51 602.914 Q3298.33 602.914 3301.38 607.52 Q3304.46 612.104 3304.46 620.854 Q3304.46 629.581 3301.38 634.187 Q3298.33 638.77 3292.51 638.77 Q3286.7 638.77 3283.63 634.187 Q3280.57 629.581 3280.57 620.854 Q3280.57 612.104 3283.63 607.52 Q3286.7 602.914 3292.51 602.914 Z\" fill=\"#000000\" fill-rule=\"evenodd\" fill-opacity=\"1\" /><path clip-path=\"url(#clip470)\" d=\"M3322.68 606.618 Q3319.07 606.618 3317.24 610.182 Q3315.43 613.724 3315.43 620.854 Q3315.43 627.96 3317.24 631.525 Q3319.07 635.067 3322.68 635.067 Q3326.31 635.067 3328.12 631.525 Q3329.95 627.96 3329.95 620.854 Q3329.95 613.724 3328.12 610.182 Q3326.31 606.618 3322.68 606.618 M3322.68 602.914 Q3328.49 602.914 3331.54 607.52 Q3334.62 612.104 3334.62 620.854 Q3334.62 629.581 3331.54 634.187 Q3328.49 638.77 3322.68 638.77 Q3316.87 638.77 3313.79 634.187 Q3310.73 629.581 3310.73 620.854 Q3310.73 612.104 3313.79 607.52 Q3316.87 602.914 3322.68 602.914 Z\" fill=\"#000000\" fill-rule=\"evenodd\" fill-opacity=\"1\" /><polyline clip-path=\"url(#clip470)\" style=\"stroke:#000000; stroke-linecap:butt; stroke-linejoin:round; stroke-width:4; stroke-opacity:1; fill:none\" points=\"\n",
       "  3159.42,2567.48 3159.42,2567.48 3211.42,2567.48 3159.42,2567.48 3159.42,2324.6 3211.42,2324.6 3159.42,2324.6 3159.42,2081.72 3211.42,2081.72 3159.42,2081.72 \n",
       "  3159.42,1838.84 3211.42,1838.84 3159.42,1838.84 3159.42,1595.96 3211.42,1595.96 3159.42,1595.96 3159.42,1353.08 3211.42,1353.08 3159.42,1353.08 3159.42,1110.21 \n",
       "  3211.42,1110.21 3159.42,1110.21 3159.42,867.327 3211.42,867.327 3159.42,867.327 3159.42,624.448 3211.42,624.448 3159.42,624.448 \n",
       "  \"/>\n",
       "<path clip-path=\"url(#clip470)\" d=\"\n",
       "M3633.63 2567.48 L4632.76 2567.48 L4632.76 624.448 L3633.63 624.448  Z\n",
       "  \" fill=\"#ffffff\" fill-rule=\"evenodd\" fill-opacity=\"1\"/>\n",
       "<defs>\n",
       "  <clipPath id=\"clip476\">\n",
       "    <rect x=\"3633\" y=\"624\" width=\"1000\" height=\"1944\"/>\n",
       "  </clipPath>\n",
       "</defs>\n",
       "<path clip-path=\"url(#clip470)\" d=\"M4021.49 43.8146 L3995.68 43.8146 Q3996.29 55.9268 3999.09 61.0714 Q4002.57 67.3908 4008.61 67.3908 Q4014.68 67.3908 4018.04 61.0309 Q4021 55.4407 4021.49 43.8146 M4021.37 36.928 Q4020.23 25.4235 4018.04 21.3726 Q4014.56 14.9721 4008.61 14.9721 Q4002.41 14.9721 3999.13 21.2916 Q3996.53 26.3957 3995.76 36.928 L4021.37 36.928 M4008.61 8.89579 Q4018.33 8.89579 4023.88 17.4837 Q4029.43 26.0311 4029.43 41.1815 Q4029.43 56.2914 4023.88 64.8793 Q4018.33 73.5077 4008.61 73.5077 Q3998.84 73.5077 3993.33 64.8793 Q3987.78 56.2914 3987.78 41.1815 Q3987.78 26.0311 3993.33 17.4837 Q3998.84 8.89579 4008.61 8.89579 Z\" fill=\"#000000\" fill-rule=\"evenodd\" fill-opacity=\"1\" /><path clip-path=\"url(#clip470)\" d=\"M4069.13 34.9026 L4121.06 34.9026 L4121.06 41.7081 L4069.13 41.7081 L4069.13 34.9026 M4069.13 51.4303 L4121.06 51.4303 L4121.06 58.3168 L4069.13 58.3168 L4069.13 51.4303 Z\" fill=\"#000000\" fill-rule=\"evenodd\" fill-opacity=\"1\" /><path clip-path=\"url(#clip470)\" d=\"M4159.22 27.2059 L4202.68 27.2059 L4202.68 34.6595 L4196.97 34.6595 L4196.97 62.5298 Q4196.97 65.4464 4197.94 66.7427 Q4198.96 67.9985 4201.19 67.9985 Q4201.79 67.9985 4202.68 67.9175 Q4203.58 67.7959 4203.86 67.7554 L4203.86 73.1431 Q4202.44 73.6697 4200.94 73.9128 Q4199.44 74.1559 4197.94 74.1559 Q4193.08 74.1559 4191.22 71.5228 Q4189.36 68.8492 4189.36 61.7196 L4189.36 34.6595 L4172.63 34.6595 L4172.63 72.576 L4165.01 72.576 L4165.01 34.6595 L4159.22 34.6595 L4159.22 27.2059 Z\" fill=\"#000000\" fill-rule=\"evenodd\" fill-opacity=\"1\" /><path clip-path=\"url(#clip470)\" d=\"M4227.23 12.096 L4234.12 12.096 L4213.05 80.2727 L4206.17 80.2727 L4227.23 12.096 Z\" fill=\"#000000\" fill-rule=\"evenodd\" fill-opacity=\"1\" /><path clip-path=\"url(#clip470)\" d=\"M4250.04 65.6895 L4278.6 65.6895 L4278.6 72.576 L4240.2 72.576 L4240.2 65.6895 Q4244.85 60.8689 4252.87 52.7671 Q4260.94 44.6248 4263 42.2752 Q4266.93 37.8598 4268.47 34.8216 Q4270.05 31.7429 4270.05 28.7857 Q4270.05 23.9651 4266.65 20.927 Q4263.29 17.8888 4257.86 17.8888 Q4254.01 17.8888 4249.72 19.2256 Q4245.46 20.5624 4240.6 23.2765 L4240.6 15.0127 Q4245.54 13.0277 4249.84 12.015 Q4254.13 11.0023 4257.7 11.0023 Q4267.09 11.0023 4272.68 15.7013 Q4278.27 20.4004 4278.27 28.2591 Q4278.27 31.9859 4276.86 35.3482 Q4275.48 38.6699 4271.79 43.2069 Q4270.78 44.3817 4265.35 50.0125 Q4259.92 55.6027 4250.04 65.6895 Z\" fill=\"#000000\" fill-rule=\"evenodd\" fill-opacity=\"1\" /><g clip-path=\"url(#clip476)\">\n",
       "<image width=\"999\" height=\"999\" xlink:href=\"data:image/png;base64,\n",
       "iVBORw0KGgoAAAANSUhEUgAAA+cAAAPnCAYAAABN/j28AAAYJ0lEQVR4nO3ZsW3QABRFUUzjgTwN\n",
       "S3gYT8MS3oLuT+DKNJFwB1KU3IScM8Frr97y88ev+xsfxnas9QQAAADe2fd6AAAAAHx14hwAAABi\n",
       "4hwAAABi4hwAAABi4hwAAABi4hwAAABi4hwAAABi4hwAAABi4hwAAABi4hwAAABi4hwAAABi4hwA\n",
       "AABi4hwAAABi4hwAAABi4hwAAABi4hwAAABi4hwAAABi4hwAAABi4hwAAABi4hwAAABi4hwAAABi\n",
       "4hwAAABi4hwAAABi4hwAAABi4hwAAABi4hwAAABi4hwAAABi4hwAAABi4hwAAABi4hwAAABi4hwA\n",
       "AABi4hwAAABi4hwAAABi4hwAAABi4hwAAABi4hwAAABi4hwAAABi4hwAAABi4hwAAABi4hwAAABi\n",
       "4hwAAABi4hwAAABi4hwAAABi4hwAAABi4hwAAABi4hwAAABi4hwAAABi4hwAAABi4hwAAABi4hwA\n",
       "AABi4hwAAABi4hwAAABi4hwAAABi4hwAAABi4hwAAABi4hwAAABi4hwAAABi4hwAAABi4hwAAABi\n",
       "4hwAAABi4hwAAABi4hwAAABi4hwAAABi4hwAAABi4hwAAABi4hwAAABi4hwAAABi4hwAAABi4hwA\n",
       "AABi4hwAAABi4hwAAABi4hwAAABi4hwAAABi4hwAAABi4hwAAABi4hwAAABi4hwAAABi4hwAAABi\n",
       "4hwAAABi4hwAAABi4hwAAABi4hwAAABi4hwAAABi4hwAAABi4hwAAABi4hwAAABi4hwAAABi4hwA\n",
       "AABi4hwAAABi4hwAAABi4hwAAABi4hwAAABi4hwAAABi4hwAAABi4hwAAABi4hwAAABi4hwAAABi\n",
       "4hwAAABi4hwAAABiy8zc9Qj+OPernsDDdqz1BAAA4AvwnAMAAEBMnAMAAEBMnAMAAEBMnAMAAEBM\n",
       "nAMAAEBMnAMAAEBMnAMAAEBMnAMAAEBMnAMAAEBMnAMAAEBMnAMAAEBMnAMAAEBMnAMAAEBMnAMA\n",
       "AEBMnAMAAEBMnAMAAEBMnAMAAEBMnAMAAEBMnAMAAEBMnAMAAEBMnAMAAEBMnAMAAEBMnAMAAEBM\n",
       "nAMAAEBMnAMAAEBMnAMAAEBMnAMAAEBMnAMAAEBMnAMAAEBMnAMAAEBMnAMAAEBMnAMAAEBMnAMA\n",
       "AEBMnAMAAEBMnAMAAEBMnAMAAEBMnAMAAEBMnAMAAEBMnAMAAEBMnAMAAEBMnAMAAEBMnAMAAEBM\n",
       "nAMAAEBMnAMAAEBMnAMAAEBMnAMAAEBMnAMAAEBMnAMAAEBMnAMAAEBMnAMAAEBMnAMAAEBMnAMA\n",
       "AEBMnAMAAEBMnAMAAEBMnAMAAEBMnAMAAEBMnAMAAEBMnAMAAEBMnAMAAEBMnAMAAEBMnAMAAEBM\n",
       "nAMAAEBMnAMAAEBMnAMAAEBMnAMAAEBMnAMAAEBMnAMAAEBMnAMAAEBMnAMAAEBMnAMAAEBMnAMA\n",
       "AEBMnAMAAEBMnAMAAEBMnAMAAEBMnAMAAEBMnAMAAEBMnAMAAEBMnAMAAEBMnAMAAEBMnAMAAEBM\n",
       "nAMAAEBMnAMAAEBMnAMAAEBMnAMAAEBMnAMAAEBMnAMAAEBMnAMAAEBMnAMAAEBMnAMAAEBMnAMA\n",
       "AEBMnAMAAEBMnAMAAEBMnAMAAEBMnAMAAEBMnAMAAEBMnAMAAEBMnAMAAEBMnAMAAEBMnAMAAEBs\n",
       "mZm7HgEf1blf9QQetmOtJwAAwJvwnAMAAEBMnAMAAEBMnAMAAEBMnAMAAEBMnAMAAEBMnAMAAEBM\n",
       "nAMAAEBMnAMAAEBMnAMAAEBMnAMAAEBMnAMAAEBMnAMAAEBMnAMAAEBMnAMAAEBMnAMAAEBMnAMA\n",
       "AEBMnAMAAEBMnAMAAEBMnAMAAEBMnAMAAEBMnAMAAEBMnAMAAEBMnAMAAEBMnAMAAEBMnAMAAEBM\n",
       "nAMAAEBMnAMAAEBMnAMAAEBMnAMAAEBMnAMAAEBMnAMAAEBMnAMAAEBMnAMAAEBMnAMAAEBMnAMA\n",
       "AEBMnAMAAEBMnAMAAEBMnAMAAEBMnAMAAEBMnAMAAEBMnAMAAEBMnAMAAEBMnAMAAEBMnAMAAEBM\n",
       "nAMAAEBMnAMAAEBMnAMAAEBMnAMAAEBMnAMAAEBMnAMAAEBMnAMAAEBMnAMAAEBMnAMAAEBMnAMA\n",
       "AEBMnAMAAEBMnAMAAEBMnAMAAEBMnAMAAEBMnAMAAEBMnAMAAEBMnAMAAEBMnAMAAEBMnAMAAEBM\n",
       "nAMAAEBMnAMAAEBMnAMAAEBMnAMAAEBMnAMAAEBMnAMAAEBMnAMAAEBMnAMAAEBMnAMAAEBMnAMA\n",
       "AEBMnAMAAEBMnAMAAEBMnAMAAEBMnAMAAEBMnAMAAEBMnAMAAEBMnAMAAEBMnAMAAEBMnAMAAEBM\n",
       "nAMAAEBMnAMAAEBMnAMAAEBMnAMAAEBMnAMAAEBMnAMAAEBMnAMAAEBMnAMAAEBMnAMAAEBMnAMA\n",
       "AEBMnAMAAEBMnAMAAEBMnAMAAEBMnAMAAEBMnAMAAEBMnAMAAEBMnAMAAEBsmZm7HgHwL879qifw\n",
       "sB1rPQEA4L/hOQcAAICYOAcAAICYOAcAAICYOAcAAICYOAcAAICYOAcAAICYOAcAAICYOAcAAICY\n",
       "OAcAAICYOAcAAICYOAcAAICYOAcAAICYOAcAAICYOAcAAICYOAcAAICYOAcAAICYOAcAAICYOAcA\n",
       "AICYOAcAAICYOAcAAICYOAcAAICYOAcAAICYOAcAAICYOAcAAICYOAcAAICYOAcAAICYOAcAAICY\n",
       "OAcAAICYOAcAAICYOAcAAICYOAcAAICYOAcAAICYOAcAAICYOAcAAICYOAcAAICYOAcAAICYOAcA\n",
       "AICYOAcAAICYOAcAAICYOAcAAICYOAcAAICYOAcAAICYOAcAAICYOAcAAICYOAcAAICYOAcAAICY\n",
       "OAcAAICYOAcAAICYOAcAAICYOAcAAICYOAcAAICYOAcAAICYOAcAAICYOAcAAICYOAcAAICYOAcA\n",
       "AICYOAcAAICYOAcAAICYOAcAAICYOAcAAICYOAcAAICYOAcAAICYOAcAAICYOAcAAICYOAcAAICY\n",
       "OAcAAICYOAcAAICYOAcAAICYOAcAAICYOAcAAICYOAcAAICYOAcAAICYOAcAAICYOAcAAICYOAcA\n",
       "AICYOAcAAICYOAcAAICYOAcAAICYOAcAAICYOAcAAICYOAcAAICYOAcAAICYOAcAAICYOAcAAICY\n",
       "OAcAAICYOAcAAICYOAcAAICYOAcAAICYOAcAAICYOAcAAICYOAcAAICYOAcAAICYOAcAAICYOAcA\n",
       "AICYOAcAAICYOAcAAICYOAcAAICYOAcAAICYOAcAAIDYMjN3PQKAz+fcr3oCD9ux1hMAgFfwnAMA\n",
       "AEBMnAMAAEBMnAMAAEBMnAMAAEBMnAMAAEBMnAMAAEBMnAMAAEBMnAMAAEBMnAMAAEBMnAMAAEBM\n",
       "nAMAAEBMnAMAAEBMnAMAAEBMnAMAAEBMnAMAAEBMnAMAAEBMnAMAAEBMnAMAAEBMnAMAAEBMnAMA\n",
       "AEBMnAMAAEBMnAMAAEBMnAMAAEBMnAMAAEBMnAMAAEBMnAMAAEBMnAMAAEBMnAMAAEBMnAMAAEBM\n",
       "nAMAAEBMnAMAAEBMnAMAAEBMnAMAAEBMnAMAAEBMnAMAAEBMnAMAAEBMnAMAAEBMnAMAAEBMnAMA\n",
       "AEBMnAMAAEBMnAMAAEBMnAMAAEBMnAMAAEBMnAMAAEBMnAMAAEBMnAMAAEBMnAMAAEBMnAMAAEBM\n",
       "nAMAAEBMnAMAAEBMnAMAAEBMnAMAAEBMnAMAAEBMnAMAAEBMnAMAAEBMnAMAAEBMnAMAAEBMnAMA\n",
       "AEBMnAMAAEBMnAMAAEBMnAMAAEBMnAMAAEBMnAMAAEBMnAMAAEBMnAMAAEBMnAMAAEBMnAMAAEBM\n",
       "nAMAAEBMnAMAAEBMnAMAAEBMnAMAAEBMnAMAAEBMnAMAAEBMnAMAAEBMnAMAAEBMnAMAAEBMnAMA\n",
       "AEBMnAMAAEBMnAMAAEBMnAMAAEBMnAMAAEBMnAMAAEBMnAMAAEBMnAMAAEBMnAMAAEBMnAMAAEBM\n",
       "nAMAAEBMnAMAAEBMnAMAAEBMnAMAAEBMnAMAAEBMnAMAAEBMnAMAAEBMnAMAAEBMnAMAAEBMnAMA\n",
       "AEBMnAMAAEBMnAMAAEBMnAMAAEBsmZm7HgEAvM65X/UEHrZjrScA8Ml4zgEAACAmzgEAACAmzgEA\n",
       "ACAmzgEAACAmzgEAACAmzgEAACAmzgEAACAmzgEAACAmzgEAACAmzgEAACAmzgEAACAmzgEAACAm\n",
       "zgEAACAmzgEAACAmzgEAACAmzgEAACAmzgEAACAmzgEAACAmzgEAACAmzgEAACAmzgEAACAmzgEA\n",
       "ACAmzgEAACAmzgEAACAmzgEAACAmzgEAACAmzgEAACAmzgEAACAmzgEAACAmzgEAACAmzgEAACAm\n",
       "zgEAACAmzgEAACAmzgEAACAmzgEAACAmzgEAACAmzgEAACAmzgEAACAmzgEAACAmzgEAACAmzgEA\n",
       "ACAmzgEAACAmzgEAACAmzgEAACAmzgEAACAmzgEAACAmzgEAACAmzgEAACAmzgEAACAmzgEAACAm\n",
       "zgEAACAmzgEAACAmzgEAACAmzgEAACAmzgEAACAmzgEAACAmzgEAACAmzgEAACAmzgEAACAmzgEA\n",
       "ACAmzgEAACAmzgEAACAmzgEAACAmzgEAACAmzgEAACAmzgEAACAmzgEAACAmzgEAACAmzgEAACAm\n",
       "zgEAACAmzgEAACAmzgEAACAmzgEAACAmzgEAACAmzgEAACAmzgEAACAmzgEAACAmzgEAACAmzgEA\n",
       "ACAmzgEAACAmzgEAACAmzgEAACAmzgEAACAmzgEAACAmzgEAACAmzgEAACAmzgEAACAmzgEAACAm\n",
       "zgEAACAmzgEAACAmzgEAACAmzgEAACAmzgEAACAmzgEAACAmzgEAACAmzgEAACAmzgEAACAmzgEA\n",
       "ACAmzgEAACC2zMxdjwAA+J+c+1VP4GE71noCwF95zgEAACAmzgEAACAmzgEAACAmzgEAACAmzgEA\n",
       "ACAmzgEAACAmzgEAACAmzgEAACAmzgEAACAmzgEAACAmzgEAACAmzgEAACAmzgEAACAmzgEAACAm\n",
       "zgEAACAmzgEAACAmzgEAACAmzgEAACAmzgEAACAmzgEAACAmzgEAACAmzgEAACAmzgEAACAmzgEA\n",
       "ACAmzgEAACAmzgEAACAmzgEAACAmzgEAACAmzgEAACAmzgEAACAmzgEAACAmzgEAACAmzgEAACAm\n",
       "zgEAACAmzgEAACAmzgEAACAmzgEAACAmzgEAACAmzgEAACAmzgEAACAmzgEAACAmzgEAACAmzgEA\n",
       "ACAmzgEAACAmzgEAACAmzgEAACAmzgEAACAmzgEAACAmzgEAACAmzgEAACAmzgEAACAmzgEAACAm\n",
       "zgEAACAmzgEAACAmzgEAACAmzgEAACAmzgEAACAmzgEAACAmzgEAACAmzgEAACAmzgEAACAmzgEA\n",
       "ACAmzgEAACAmzgEAACAmzgEAACAmzgEAACAmzgEAACAmzgEAACAmzgEAACAmzgEAACAmzgEAACAm\n",
       "zgEAACAmzgEAACAmzgEAACAmzgEAACAmzgEAACAmzgEAACAmzgEAACAmzgEAACAmzgEAACAmzgEA\n",
       "ACAmzgEAACAmzgEAACAmzgEAACAmzgEAACAmzgEAACAmzgEAACAmzgEAACAmzgEAACAmzgEAACAm\n",
       "zgEAACAmzgEAACAmzgEAACAmzgEAACAmzgEAACAmzgEAACAmzgEAACAmzgEAACAmzgEAACC2zMxd\n",
       "jwAAgLdy7lc9gYftWOsJ8CF5zgEAACAmzgEAACAmzgEAACAmzgEAACAmzgEAACAmzgEAACAmzgEA\n",
       "ACAmzgEAACAmzgEAACAmzgEAACAmzgEAACAmzgEAACAmzgEAACAmzgEAACAmzgEAACAmzgEAACAm\n",
       "zgEAACAmzgEAACAmzgEAACAmzgEAACAmzgEAACAmzgEAACAmzgEAACAmzgEAACAmzgEAACAmzgEA\n",
       "ACAmzgEAACAmzgEAACAmzgEAACAmzgEAACAmzgEAACAmzgEAACAmzgEAACAmzgEAACAmzgEAACAm\n",
       "zgEAACAmzgEAACAmzgEAACAmzgEAACAmzgEAACAmzgEAACAmzgEAACAmzgEAACAmzgEAACAmzgEA\n",
       "ACAmzgEAACAmzgEAACAmzgEAACAmzgEAACAmzgEAACAmzgEAACAmzgEAACAmzgEAACAmzgEAACAm\n",
       "zgEAACAmzgEAACAmzgEAACAmzgEAACAmzgEAACAmzgEAACAmzgEAACAmzgEAACAmzgEAACAmzgEA\n",
       "ACAmzgEAACAmzgEAACAmzgEAACAmzgEAACAmzgEAACAmzgEAACAmzgEAACAmzgEAACAmzgEAACAm\n",
       "zgEAACAmzgEAACAmzgEAACAmzgEAACAmzgEAACAmzgEAACAmzgEAACAmzgEAACAmzgEAACAmzgEA\n",
       "ACAmzgEAACAmzgEAACAmzgEAACAmzgEAACAmzgEAACAmzgEAACAmzgEAACAmzgEAACAmzgEAACAm\n",
       "zgEAACAmzgEAACAmzgEAACAmzgEAACAmzgEAACAmzgEAACAmzgEAACC2zMxdjwAAAL6Gc7/qCTxs\n",
       "x1pP4IXnHAAAAGLiHAAAAGLiHAAAAGLiHAAAAGLiHAAAAGLiHAAAAGLiHAAAAGLiHAAAAGLiHAAA\n",
       "AGLiHAAAAGLiHAAAAGLiHAAAAGLiHAAAAGLiHAAAAGLiHAAAAGLiHAAAAGLiHAAAAGLiHAAAAGLi\n",
       "HAAAAGLiHAAAAGLiHAAAAGLiHAAAAGLiHAAAAGLiHAAAAGLiHAAAAGLiHAAAAGLiHAAAAGLiHAAA\n",
       "AGLiHAAAAGLiHAAAAGLiHAAAAGLiHAAAAGLiHAAAAGLiHAAAAGLiHAAAAGLiHAAAAGLiHAAAAGLi\n",
       "HAAAAGLiHAAAAGLiHAAAAGLiHAAAAGLiHAAAAGLiHAAAAGLiHAAAAGLiHAAAAGLiHAAAAGLiHAAA\n",
       "AGLiHAAAAGLiHAAAAGLiHAAAAGLiHAAAAGLiHAAAAGLiHAAAAGLiHAAAAGLiHAAAAGLiHAAAAGLi\n",
       "HAAAAGLiHAAAAGLiHAAAAGLiHAAAAGLiHAAAAGLiHAAAAGLiHAAAAGLiHAAAAGLiHAAAAGLiHAAA\n",
       "AGLiHAAAAGLiHAAAAGLiHAAAAGLiHAAAAGLiHAAAAGLiHAAAAGLiHAAAAGLiHAAAAGLiHAAAAGLi\n",
       "HAAAAGLiHAAAAGLiHAAAAGLiHAAAAGLiHAAAAGLiHAAAAGLiHAAAAGLiHAAAAGLiHAAAAGLiHAAA\n",
       "AGLiHAAAAGLiHAAAAGLiHAAAAGLiHAAAAGLiHAAAAGLiHAAAAGLiHAAAAGLiHAAAAGLiHAAAAGLi\n",
       "HAAAAGLiHAAAAGLiHAAAAGLiHAAAAGLiHAAAAGLLzNz1CAAAAN7fuV/1BF54zgEAACAmzgEAACAm\n",
       "zgEAACAmzgEAACAmzgEAACAmzgEAACAmzgEAACAmzgEAACAmzgEAACAmzgEAACAmzgEAACAmzgEA\n",
       "ACAmzgEAACAmzgEAACAmzgEAACAmzgEAACAmzgEAACAmzgEAACAmzgEAACAmzgEAACAmzgEAACAm\n",
       "zgEAACAmzgEAACAmzgEAACAmzgEAACAmzgEAACAmzgEAACAmzgEAACAmzgEAACAmzgEAACAmzgEA\n",
       "ACAmzgEAACAmzgEAACAmzgEAACAmzgEAACAmzgEAACAmzgEAACAmzgEAACAmzgEAACAmzgEAACAm\n",
       "zgEAACAmzgEAACAmzgEAACAmzgEAACAmzgEAACAmzgEAACAmzgEAACAmzgEAACAmzgEAACAmzgEA\n",
       "ACAmzgEAACAmzgEAACAmzgEAACAmzgEAACAmzgEAACAmzgEAACAmzgEAACAmzgEAACAmzgEAACAm\n",
       "zgEAACAmzgEAACAmzgEAACAmzgEAACAmzgEAACAmzgEAACAmzgEAACAmzgEAACAmzgEAACAmzgEA\n",
       "ACAmzgEAACAmzgEAACAmzgEAACAmzgEAACAmzgEAACAmzgEAACAmzgEAACAmzgEAACAmzgEAACAm\n",
       "zgEAACAmzgEAACAmzgEAACAmzgEAACAmzgEAACAmzgEAACAmzgEAACAmzgEAACAmzgEAACAmzgEA\n",
       "ACAmzgEAACAmzgEAACAmzgEAACAmzgEAACAmzgEAACAmzgEAACAmzgEAACAmzgEAACAmzgEAACAm\n",
       "zgEAACD2G7MfR3k5ggdwAAAAAElFTkSuQmCC\n",
       "\" transform=\"translate(3634, 1096)\"/>\n",
       "</g>\n",
       "<defs>\n",
       "  <clipPath id=\"clip477\">\n",
       "    <rect x=\"4736\" y=\"624\" width=\"157\" height=\"1944\"/>\n",
       "  </clipPath>\n",
       "</defs>\n",
       "<g clip-path=\"url(#clip477)\">\n",
       "<image width=\"156\" height=\"1943\" xlink:href=\"data:image/png;base64,\n",
       "iVBORw0KGgoAAAANSUhEUgAAAJwAAAeXCAYAAAAl2AwAAAAUmUlEQVR4nO3dsZEkNwAEwcFHO0lL\n",
       "6RDdeIBe1AmXacEKFS1MANjz7z//vQ8if376B/C7CI6U4EgJjpTgSAmOlOBI7Zyf/gn8JhaOlOBI\n",
       "CY6U4EgJjpTgSAmO1D7f4QhZOFKCIyU4UoIjJThSgiO1IzlCciMlOFKCIyU4UoIjJThSgiPleBIp\n",
       "C0dKcKQER0pwpARHSnCkvJ5EysKREhwpwZESHCnBkRIcKcGRmuQoyY2U4EgJjpTgSAmOlOBICY7U\n",
       "jgNxhCwcKcGREhwpwZESHCnBkXJNkJSFIyU4UoIjJThSgiMlOFKCI+UVc1IWjpTgSAmOlOBICY6U\n",
       "4EjtSI6Q3EgJjpTgSAmOlOBICY6U4Eg5nkTKwpESHCnBkRIcKcGREhwpwZHyXBcpC0dKcKQER0pw\n",
       "pARHSnCkJjlKciMlOFKCIyU4UoIjJThSgiO143wSIQtHSnCkBEdKcKQER0pwpLyeRMrCkRIcKcGR\n",
       "EhwpwZESHCnBkfJ6EikLR0pwpARHSnCkBEdKcKQER2pHcoTkRkpwpARHSnCkBEdKcKRcEyRl4UgJ\n",
       "jpTgSAmOlOBICY6U4Ei5JkjKwpESHCnBkRIcKcGREhwpx5NIWThSgiMlOFKCIyU4UoIjJThSjieR\n",
       "snCkBEdKcKQER0pwpARHapKjJDdSgiMlOFKCIyU4UoIjJThSO84nEbJwpARHSnCkBEdKcKQER0pw\n",
       "pDzXRcrCkRIcKcGREhwpwZESHCmvJ5GycKQER0pwpARHSnCkBEdKcKQ810VKbqQER0pwpARHSnCk\n",
       "BEfK8SRSFo6U4EgJjpTgSAmOlOBICY6U15NIWThSgiMlOFKCIyU4UoIjJThSzsORsnCkBEdKcKQE\n",
       "R0pwpARHyvEkUhaOlOBICY6U4EgJjpTgSAmO1M4fH+LoWDhSgiMlOFKCIyU4UoIj5XgSKQtHSnCk\n",
       "BEdKcKQER0pwpARHyutJpCwcKcGREhwpwZESHCnBkRIcKefhSFk4UoIjJThSgiMlOFKCI+V4EikL\n",
       "R0pwpARHSnCkBEdKcKQER2qSoyQ3UoIjJThSgiMlOFKCI+V4EikLR0pwpARHSnCkBEdKcKQER8rr\n",
       "SaQsHCnBkRIcKcGREhwpwZESHCnn4UhZOFKCIyU4UoIjJThSgiO1z3cRQhaOlOBICY6U4EgJjpTg\n",
       "SAmOlONJpCwcKcGREhwpwZESHCnBkfLnbqTkRkpwpARHSnCkBEdKcKQER8rxJFIWjpTgSAmOlOBI\n",
       "CY6U4Ej5czdSFo6U4EgJjpTgSAmOlOBICY6U40mkLBwpwZESHCnBkRIcKcGREhwp5+FIWThSgiMl\n",
       "OFKCIyU4UoIjtSM5QnIjJThSgiMlOFKCIyU4UoIj5XgSKQtHSnCkBEdKcKQER0pwpHY8n0TIwpES\n",
       "HCnBkRIcKcGREhwpwZFyPImUhSMlOFKCIyU4UoIjJThSgiPl3wRJWThSgiMlOFKCIyU4UoIj5XgS\n",
       "KQtHSnCkBEdKcKQER0pwpARHyr8JkpIbKcGREhwpwZESHCnBkXI8iZSFIyU4UoIjJThSgiMlOFKC\n",
       "I+U7HCkLR0pwpARHSnCkBEdKcKQER8or5qQsHCnBkRIcKcGREhwpwZFyPImUhSMlOFKCIyU4UoIj\n",
       "JThSgiPleBIpC0dKcKQER0pwpARHSnCk9vkuQsjCkRIcKcGREhwpwZESHCnBkdqRHCG5kRIcKcGR\n",
       "EhwpwZESHCmvJ5GycKQER0pwpARHSnCkBEdKcKS8nkTKwpESHCnBkRIcKcGREhwpwZFyHo6UhSMl\n",
       "OFKCIyU4UoIjJThSPouQsnCkBEdKcKQER0pwpARHSnCkXBMkZeFICY6U4EgJjpTgSAmO1CRHSW6k\n",
       "BEdKcKQER0pwpARHSnCkHE8iZeFICY6U4EgJjpTgSAmOlOBIea6LlIUjJThSgiMlOFKCIyU4UjvO\n",
       "JxGycKQER0pwpARHSnCkBEdKcKQcTyJl4UgJjpTgSAmOlOBICY6U15NIWThSgiMlOFKCIyU4UoIj\n",
       "JThSjieRsnCkBEdKcKQER0pwpARHSnCkJjlKciMlOFKCIyU4UoIjJThSrgmSsnCkBEdKcKQER0pw\n",
       "pARHSnCkXBMkZeFICY6U4EgJjpTgSAmOlONJpCwcKcGREhwpwZESHCnBkRIcKceTSFk4UoIjJThS\n",
       "giMlOFKCIyU4Ur7DkbJwpARHSnCkBEdKcKQER2pHcoTkRkpwpARHSnCkBEdKcKQER2qf97oIWThS\n",
       "giMlOFKCIyU4UoIj5RVzUhaOlOBICY6U4EgJjpTgSAmOlNeTSFk4UoIjJThSgiMlOFKCI+V4EikL\n",
       "R0pwpARHSnCkBEdKcKQER8rxJFIWjpTgSAmOlOBICY6U4EgJjpTvcKQsHCnBkRIcKcGREhwpwZHa\n",
       "kRwhuZESHCnBkRIcKcGREhwpwZFyPImUhSMlOFKCIyU4UoIjJThSXjEnZeFICY6U4EgJjpTgSAmO\n",
       "lOBIOZ5EysKREhwpwZESHCnBkRIcKcGR8h2OlIUjJThSgiMlOFKCIyU4Uq4JkrJwpARHSnCkBEdK\n",
       "cKQER0pwpPb5EEfIwpESHCnBkRIcKcGREhypHckRkhspwZESHCnBkRIcKcGREhwpryeRsnCkBEdK\n",
       "cKQER0pwpARHSnCkfIcjZeFICY6U4EgJjpTgSAmOlFfMSVk4UoIjJThSgiMlOFKCIyU4Uo4nkbJw\n",
       "pARHSnCkBEdKcKQER8pnEVIWjpTgSAmOlOBICY6U4EgJjpRrgqQsHCnBkRIcKcGREhwpwZGa5CjJ\n",
       "jZTgSAmOlOBICY6U4EgJjpTjSaQsHCnBkRIcKcGREhwpwZESHCnPdZGycKQER0pwpARHSnCkBEfK\n",
       "ZxFSFo6U4EgJjpTgSAmOlOBICY7UjnuChCwcKcGREhwpwZESHCnBkXI8iZSFIyU4UoIjJThSgiMl\n",
       "OFKCI+U7HCkLR0pwpARHSnCkBEdKcKQER2pHcoTkRkpwpARHSnCkBEdKcKQcTyJl4UgJjpTgSAmO\n",
       "lOBICY6U4Ej5DkfKwpESHCnBkRIcKcGREhyp+W83ShaOlOBICY6U4EgJjpTgSAmOlONJpCwcKcGR\n",
       "EhwpwZESHCnBkRIcKd/hSFk4UoIjJThSgiMlOFKCI+WaICkLR0pwpARHSnCkBEdKcKQER2qSoyQ3\n",
       "UoIjJThSgiMlOFKCI+XWFikLR0pwpARHSnCkBEdKcKQER8o1QVIWjpTgSAmOlOBICY6U4EgJjpTz\n",
       "cKQsHCnBkRIcKcGREhwpwZHyWYSUhSMlOFKCIyU4UoIjJThSgiPlOxwpC0dKcKQER0pwpARHSnCk\n",
       "fBYhZeFICY6U4EgJjpTgSAmOlOBI7Tvvp38Dv4iFIyU4UoIjJThSgiMlOFKCIyU4UoIjJThSgiMl\n",
       "OFKCIyU4Uq4JkrJwpARHSnCkBEdKcKQER0pwpFwTJGXhSAmOlOBICY6U4EgJjtS+z2cROhaOlOBI\n",
       "CY6U4EgJjpTgSAmOlGuCpCwcKcGREhwpwZESHCnBkdpzPImQhSMlOFKCIyU4UoIjJThSgiPlmiAp\n",
       "C0dKcKQER0pwpARHSnCkBEdqzyvmhCwcKcGREhwpwZESHCnBkXJNkJSFIyU4UoIjJThSgiMlOFKC\n",
       "I7X3fIejY+FICY6U4EgJjpTgSAmO1L7v/vRv4BexcKQER0pwpARHSnCkBEdKcKRcEyRl4UgJjpTg\n",
       "SAmOlOBICY6U4Ej5DkfKwpESHCnBkRIcKcGREhyp3eeaIB0LR0pwpARHSnCkBEdKcKQER8rxJFIW\n",
       "jpTgSAmOlOBICY6U4EjtOZ5EyMKREhwpwZESHCnBkRIcKcGR2vNvgoQsHCnBkRIcKcGREhwpwZHa\n",
       "e25t0bFwpARHSnCkBEdKcKQER0pwpHYdTyJk4UgJjpTgSAmOlOBICY6U4Eh5rouUhSMlOFKCIyU4\n",
       "UoIjJThSrgmSsnCkBEdKcKQER0pwpARHSnCkvGJOysKREhwpwZESHCnBkRIcqV23tghZOFKCIyU4\n",
       "UoIjJThSgiMlOFKuCZKycKQER0pwpARHSnCkBEdKcKRcEyRl4UgJjpTgSAmOlOBICY6Ua4KkLBwp\n",
       "wZESHCnBkRIcKcGREhwp1wRJWThSgiMlOFKCIyU4UoIj5dYWKQtHSnCkBEdKcKQER0pwpARHyjVB\n",
       "UhaOlOBICY6U4EgJjpTgSAmO1J7vcIQsHCnBkRIcKcGREhwpwZHa+7yeRMfCkRIcKcGREhwpwZES\n",
       "HCnBkXI8iZSFIyU4UoIjJThSgiMlOFJeTyJl4UgJjpTgSAmOlOBICY6U4Ei5JkjKwpESHCnBkRIc\n",
       "KcGREhwpwZFyTZCUhSMlOFKCIyU4UoIjJThSrgmSsnCkBEdKcKQER0pwpARHSnCk9p5rgnQsHCnB\n",
       "kRIcKcGREhwpwZHa+xxPomPhSAmOlOBICY6U4EgJjpTgSLkmSMrCkRIcKcGREhwpwZESHCm3tkhZ\n",
       "OFKCIyU4UoIjJThSgiMlOFKuCZKycKQER0pwpARHSnCkBEdKcKRcEyRl4UgJjpTgSAmOlOBICY6U\n",
       "a4KkLBwpwZESHCnBkRIcKcGREhwp1wRJWThSgiMlOFKCIyU4UoIj5dYWKQtHSnCkBEdKcKQER0pw\n",
       "pARHyjVBUhaOlOBICY6U4EgJjpTgSAmOlGuCpCwcKcGREhwpwZESHCnBkXJNkJSFIyU4UoIjJThS\n",
       "giMlOFKCI+WaICkLR0pwpARHSnCkBEdKcKT2HE8iZOFICY6U4EgJjpTgSAmOlOBI7Xo9iZCFIyU4\n",
       "UoIjJThSgiMlOFKCI+WaICkLR0pwpARHSnCkBEdKcKRcEyRl4UgJjpTgSAmOlOBICY6U4Ei5JkjK\n",
       "wpESHCnBkRIcKcGREhwpt7ZIWThSgiMlOFKCIyU4UoIjJThSrgmSsnCkBEdKcKQER0pwpARHyq0t\n",
       "UhaOlOBICY6U4EgJjpTgSAmOlGuCpCwcKcGREhwpwZESHCnBkRIcKdcESVk4UoIjJThSgiMlOFKC\n",
       "I7XreBIhC0dKcKQER0pwpARHSnCkBEdqz3NdhCwcKcGREhwpwZESHCnBkXJri5SFIyU4UoIjJThS\n",
       "giMlOFKCI+WaICkLR0pwpARHSnCkBEdKcKQER8o1QVIWjpTgSAmOlOBICY6U4Ei5JkjKwpESHCnB\n",
       "kRIcKcGREhwpwZFyTZCUhSMlOFKCIyU4UoIjJThSbm2RsnCkBEdKcKQER0pwpARHSnCkXBMkZeFI\n",
       "CY6U4EgJjpTgSAmOlOBIuSZIysKREhwpwZESHCnBkRIcKdcESVk4UoIjJThSgiMlOFKCIyU4Uq4J\n",
       "krJwpARHSnCkBEdKcKQER8qtLVIWjpTgSAmOlOBICY6U4EgJjpTjSaQsHCnBkRIcKcGREhwpwZES\n",
       "HKm9z3k4OhaOlOBICY6U4EgJjpTgSO06nkTIwpESHCnBkRIcKcGREhwpwZFyTZCUhSMlOFKCIyU4\n",
       "UoIjJThSu25tEbJwpARHSnCkBEdKcKQER0pwpBxPImXhSAmOlOBICY6U4EgJjpTPIqQsHCnBkRIc\n",
       "KcGREhwpwZESHCnXBElZOFKCIyU4UoIjJThSgiMlOFLOw5GycKQER0pwpARHSnCkBEdq12cRQhaO\n",
       "lOBICY6U4EgJjpTgSAmO1N5zTZCOhSMlOFKCIyU4UoIjJThSe5/jSXQsHCnBkRIcKcGREhwpwZES\n",
       "HKldx5MIWThSgiMlOFKCIyU4UoIjJThSXjEnZeFICY6U4EgJjpTgSAmOlGuCpCwcKcGREhwpwZES\n",
       "HCnBkRIcKdcESVk4UoIjJThSgiMlOFKCI+XWFikLR0pwpARHSnCkBEdKcKQER2rXdzhCFo6U4EgJ\n",
       "jpTgSAmOlOBICY7U3ueaIB0LR0pwpARHSnCkBEdKcKQcTyJl4UgJjpTgSAmOlOBICY6U4Eh5rouU\n",
       "hSMlOFKCIyU4UoIjJThSbm2RsnCkBEdKcKQER0pwpARHSnCkXBMkZeFICY6U4EgJjpTgSAmOlFtb\n",
       "pCwcKcGREhwpwZESHCnBkRIcqV3XBAlZOFKCIyU4UoIjJThSgiMlOFLOw5GycKQER0pwpARHSnCk\n",
       "BEfK60mkLBwpwZESHCnBkRIcKcGREhypveeaIB0LR0pwpARHSnCkBEdKcKR2P8eT6Fg4UoIjJThS\n",
       "giMlOFKCIyU4Ul5PImXhSAmOlOBICY6U4EgJjpTgSO26JkjIwpESHCnBkRIcKcGREhypPdcECVk4\n",
       "UoIjJThSgiMlOFKCIyU4Uv5NkJSFIyU4UoIjJThSgiMlOFL+3I2UhSMlOFKCIyU4UoIjJThSgiPl\n",
       "eBIpC0dKcKQER0pwpARHSnCkBEfKc12kLBwpwZESHCnBkRIcKcGR8udupCwcKcGREhwpwZESHCnB\n",
       "kRIcqT3XBAlZOFKCIyU4UoIjJThSgiO169YWIQtHSnCkBEdKcKQER0pwpARHyvEkUhaOlOBICY6U\n",
       "4EgJjpTgSAmOlOe6SFk4UoIjJThSgiMlOFKCI+XP3UhZOFKCIyU4UoIjJThSgiMlOFK7rgkSsnCk\n",
       "BEdKcKQER0pwpARHymcRUhaOlOBICY6U4EgJjpTgSAmOlFfMSVk4UoIjJThSgiMlOFKCI7Xr9SRC\n",
       "Fo6U4EgJjpTgSAmOlOBICY6UP3cjZeFICY6U4EgJjpTgSAmOlOBIuSZIysKREhwpwZESHCnBkRIc\n",
       "KdcESVk4UoIjJThSgiMlOFKCIyU4Uv5NkJSFIyU4UoIjJThSgiMlOFJubZGycKQER0pwpARHSnCk\n",
       "BEdKcKQcTyJl4UgJjpTgSAmOlOBICY6U4Ejtfn9/+jfwi1g4UoIjJThSgiMlOFKCI+V4EikLR0pw\n",
       "pARHSnCkBEdKcKQER8pzXaQsHCnBkRIcKcGREhwpwZHa/XwWoWPhSAmOlOBICY6U4EgJjpTgSO0+\n",
       "ryfRsXCkBEdKcKQER0pwpARHSnCkPNdFysKREhwpwZESHCnBkRIcKceTSFk4UoIjJThSgiMlOFKC\n",
       "IyU4Uruf73B0LBwpwZESHCnBkRIcKcGRcjyJlIUjJThSgiMlOFKCIyU4UoIj5TscKQtHSnCkBEdK\n",
       "cKQER0pwpP4HOvdrFLvYkYEAAAAASUVORK5CYII=\n",
       "\" transform=\"translate(4737, 624)\"/>\n",
       "</g>\n",
       "<path clip-path=\"url(#clip470)\" d=\"M4970.76 2564.3 L5000.43 2564.3 L5000.43 2568.24 L4970.76 2568.24 L4970.76 2564.3 Z\" fill=\"#000000\" fill-rule=\"evenodd\" fill-opacity=\"1\" /><path clip-path=\"url(#clip470)\" d=\"M5011.33 2577.19 L5018.97 2577.19 L5018.97 2550.83 L5010.66 2552.5 L5010.66 2548.24 L5018.93 2546.57 L5023.6 2546.57 L5023.6 2577.19 L5031.24 2577.19 L5031.24 2581.13 L5011.33 2581.13 L5011.33 2577.19 Z\" fill=\"#000000\" fill-rule=\"evenodd\" fill-opacity=\"1\" /><path clip-path=\"url(#clip470)\" d=\"M5040.69 2575.25 L5045.57 2575.25 L5045.57 2581.13 L5040.69 2581.13 L5040.69 2575.25 Z\" fill=\"#000000\" fill-rule=\"evenodd\" fill-opacity=\"1\" /><path clip-path=\"url(#clip470)\" d=\"M5065.76 2549.65 Q5062.14 2549.65 5060.32 2553.21 Q5058.51 2556.75 5058.51 2563.88 Q5058.51 2570.99 5060.32 2574.56 Q5062.14 2578.1 5065.76 2578.1 Q5069.39 2578.1 5071.2 2574.56 Q5073.02 2570.99 5073.02 2563.88 Q5073.02 2556.75 5071.2 2553.21 Q5069.39 2549.65 5065.76 2549.65 M5065.76 2545.94 Q5071.57 2545.94 5074.62 2550.55 Q5077.7 2555.13 5077.7 2563.88 Q5077.7 2572.61 5074.62 2577.22 Q5071.57 2581.8 5065.76 2581.8 Q5059.95 2581.8 5056.87 2577.22 Q5053.81 2572.61 5053.81 2563.88 Q5053.81 2555.13 5056.87 2550.55 Q5059.95 2545.94 5065.76 2545.94 Z\" fill=\"#000000\" fill-rule=\"evenodd\" fill-opacity=\"1\" /><path clip-path=\"url(#clip470)\" d=\"M5095.92 2549.65 Q5092.31 2549.65 5090.48 2553.21 Q5088.67 2556.75 5088.67 2563.88 Q5088.67 2570.99 5090.48 2574.56 Q5092.31 2578.1 5095.92 2578.1 Q5099.55 2578.1 5101.36 2574.56 Q5103.19 2570.99 5103.19 2563.88 Q5103.19 2556.75 5101.36 2553.21 Q5099.55 2549.65 5095.92 2549.65 M5095.92 2545.94 Q5101.73 2545.94 5104.78 2550.55 Q5107.86 2555.13 5107.86 2563.88 Q5107.86 2572.61 5104.78 2577.22 Q5101.73 2581.8 5095.92 2581.8 Q5090.11 2581.8 5087.03 2577.22 Q5083.97 2572.61 5083.97 2563.88 Q5083.97 2555.13 5087.03 2550.55 Q5090.11 2545.94 5095.92 2545.94 Z\" fill=\"#000000\" fill-rule=\"evenodd\" fill-opacity=\"1\" /><path clip-path=\"url(#clip470)\" d=\"M4970.76 2321.42 L5000.43 2321.42 L5000.43 2325.36 L4970.76 2325.36 L4970.76 2321.42 Z\" fill=\"#000000\" fill-rule=\"evenodd\" fill-opacity=\"1\" /><path clip-path=\"url(#clip470)\" d=\"M5020.52 2306.77 Q5016.91 2306.77 5015.08 2310.33 Q5013.28 2313.88 5013.28 2321.01 Q5013.28 2328.11 5015.08 2331.68 Q5016.91 2335.22 5020.52 2335.22 Q5024.16 2335.22 5025.96 2331.68 Q5027.79 2328.11 5027.79 2321.01 Q5027.79 2313.88 5025.96 2310.33 Q5024.16 2306.77 5020.52 2306.77 M5020.52 2303.07 Q5026.33 2303.07 5029.39 2307.67 Q5032.47 2312.26 5032.47 2321.01 Q5032.47 2329.73 5029.39 2334.34 Q5026.33 2338.92 5020.52 2338.92 Q5014.71 2338.92 5011.64 2334.34 Q5008.58 2329.73 5008.58 2321.01 Q5008.58 2312.26 5011.64 2307.67 Q5014.71 2303.07 5020.52 2303.07 Z\" fill=\"#000000\" fill-rule=\"evenodd\" fill-opacity=\"1\" /><path clip-path=\"url(#clip470)\" d=\"M5040.69 2332.37 L5045.57 2332.37 L5045.57 2338.25 L5040.69 2338.25 L5040.69 2332.37 Z\" fill=\"#000000\" fill-rule=\"evenodd\" fill-opacity=\"1\" /><path clip-path=\"url(#clip470)\" d=\"M5054.57 2303.69 L5076.8 2303.69 L5076.8 2305.68 L5064.25 2338.25 L5059.37 2338.25 L5071.17 2307.63 L5054.57 2307.63 L5054.57 2303.69 Z\" fill=\"#000000\" fill-rule=\"evenodd\" fill-opacity=\"1\" /><path clip-path=\"url(#clip470)\" d=\"M5085.96 2303.69 L5104.32 2303.69 L5104.32 2307.63 L5090.25 2307.63 L5090.25 2316.1 Q5091.26 2315.75 5092.28 2315.59 Q5093.3 2315.4 5094.32 2315.4 Q5100.11 2315.4 5103.49 2318.57 Q5106.87 2321.75 5106.87 2327.16 Q5106.87 2332.74 5103.39 2335.84 Q5099.92 2338.92 5093.6 2338.92 Q5091.43 2338.92 5089.16 2338.55 Q5086.91 2338.18 5084.51 2337.44 L5084.51 2332.74 Q5086.59 2333.88 5088.81 2334.43 Q5091.03 2334.99 5093.51 2334.99 Q5097.51 2334.99 5099.85 2332.88 Q5102.19 2330.77 5102.19 2327.16 Q5102.19 2323.55 5099.85 2321.45 Q5097.51 2319.34 5093.51 2319.34 Q5091.63 2319.34 5089.76 2319.76 Q5087.91 2320.17 5085.96 2321.05 L5085.96 2303.69 Z\" fill=\"#000000\" fill-rule=\"evenodd\" fill-opacity=\"1\" /><path clip-path=\"url(#clip470)\" d=\"M4970.76 2078.54 L5000.43 2078.54 L5000.43 2082.48 L4970.76 2082.48 L4970.76 2078.54 Z\" fill=\"#000000\" fill-rule=\"evenodd\" fill-opacity=\"1\" /><path clip-path=\"url(#clip470)\" d=\"M5020.52 2063.89 Q5016.91 2063.89 5015.08 2067.46 Q5013.28 2071 5013.28 2078.13 Q5013.28 2085.23 5015.08 2088.8 Q5016.91 2092.34 5020.52 2092.34 Q5024.16 2092.34 5025.96 2088.8 Q5027.79 2085.23 5027.79 2078.13 Q5027.79 2071 5025.96 2067.46 Q5024.16 2063.89 5020.52 2063.89 M5020.52 2060.19 Q5026.33 2060.19 5029.39 2064.79 Q5032.47 2069.38 5032.47 2078.13 Q5032.47 2086.85 5029.39 2091.46 Q5026.33 2096.04 5020.52 2096.04 Q5014.71 2096.04 5011.64 2091.46 Q5008.58 2086.85 5008.58 2078.13 Q5008.58 2069.38 5011.64 2064.79 Q5014.71 2060.19 5020.52 2060.19 Z\" fill=\"#000000\" fill-rule=\"evenodd\" fill-opacity=\"1\" /><path clip-path=\"url(#clip470)\" d=\"M5040.69 2089.49 L5045.57 2089.49 L5045.57 2095.37 L5040.69 2095.37 L5040.69 2089.49 Z\" fill=\"#000000\" fill-rule=\"evenodd\" fill-opacity=\"1\" /><path clip-path=\"url(#clip470)\" d=\"M5055.8 2060.81 L5074.16 2060.81 L5074.16 2064.75 L5060.08 2064.75 L5060.08 2073.22 Q5061.1 2072.87 5062.12 2072.71 Q5063.14 2072.52 5064.16 2072.52 Q5069.95 2072.52 5073.32 2075.7 Q5076.7 2078.87 5076.7 2084.28 Q5076.7 2089.86 5073.23 2092.96 Q5069.76 2096.04 5063.44 2096.04 Q5061.26 2096.04 5059 2095.67 Q5056.75 2095.3 5054.34 2094.56 L5054.34 2089.86 Q5056.43 2091 5058.65 2091.55 Q5060.87 2092.11 5063.35 2092.11 Q5067.35 2092.11 5069.69 2090 Q5072.03 2087.9 5072.03 2084.28 Q5072.03 2080.67 5069.69 2078.57 Q5067.35 2076.46 5063.35 2076.46 Q5061.47 2076.46 5059.6 2076.88 Q5057.75 2077.29 5055.8 2078.17 L5055.8 2060.81 Z\" fill=\"#000000\" fill-rule=\"evenodd\" fill-opacity=\"1\" /><path clip-path=\"url(#clip470)\" d=\"M5095.92 2063.89 Q5092.31 2063.89 5090.48 2067.46 Q5088.67 2071 5088.67 2078.13 Q5088.67 2085.23 5090.48 2088.8 Q5092.31 2092.34 5095.92 2092.34 Q5099.55 2092.34 5101.36 2088.8 Q5103.19 2085.23 5103.19 2078.13 Q5103.19 2071 5101.36 2067.46 Q5099.55 2063.89 5095.92 2063.89 M5095.92 2060.19 Q5101.73 2060.19 5104.78 2064.79 Q5107.86 2069.38 5107.86 2078.13 Q5107.86 2086.85 5104.78 2091.46 Q5101.73 2096.04 5095.92 2096.04 Q5090.11 2096.04 5087.03 2091.46 Q5083.97 2086.85 5083.97 2078.13 Q5083.97 2069.38 5087.03 2064.79 Q5090.11 2060.19 5095.92 2060.19 Z\" fill=\"#000000\" fill-rule=\"evenodd\" fill-opacity=\"1\" /><path clip-path=\"url(#clip470)\" d=\"M4970.76 1835.66 L5000.43 1835.66 L5000.43 1839.6 L4970.76 1839.6 L4970.76 1835.66 Z\" fill=\"#000000\" fill-rule=\"evenodd\" fill-opacity=\"1\" /><path clip-path=\"url(#clip470)\" d=\"M5020.52 1821.01 Q5016.91 1821.01 5015.08 1824.58 Q5013.28 1828.12 5013.28 1835.25 Q5013.28 1842.35 5015.08 1845.92 Q5016.91 1849.46 5020.52 1849.46 Q5024.16 1849.46 5025.96 1845.92 Q5027.79 1842.35 5027.79 1835.25 Q5027.79 1828.12 5025.96 1824.58 Q5024.16 1821.01 5020.52 1821.01 M5020.52 1817.31 Q5026.33 1817.31 5029.39 1821.91 Q5032.47 1826.5 5032.47 1835.25 Q5032.47 1843.97 5029.39 1848.58 Q5026.33 1853.16 5020.52 1853.16 Q5014.71 1853.16 5011.64 1848.58 Q5008.58 1843.97 5008.58 1835.25 Q5008.58 1826.5 5011.64 1821.91 Q5014.71 1817.31 5020.52 1817.31 Z\" fill=\"#000000\" fill-rule=\"evenodd\" fill-opacity=\"1\" /><path clip-path=\"url(#clip470)\" d=\"M5040.69 1846.61 L5045.57 1846.61 L5045.57 1852.49 L5040.69 1852.49 L5040.69 1846.61 Z\" fill=\"#000000\" fill-rule=\"evenodd\" fill-opacity=\"1\" /><path clip-path=\"url(#clip470)\" d=\"M5059.78 1848.56 L5076.1 1848.56 L5076.1 1852.49 L5054.16 1852.49 L5054.16 1848.56 Q5056.82 1845.8 5061.4 1841.17 Q5066.01 1836.52 5067.19 1835.18 Q5069.44 1832.66 5070.32 1830.92 Q5071.22 1829.16 5071.22 1827.47 Q5071.22 1824.72 5069.27 1822.98 Q5067.35 1821.24 5064.25 1821.24 Q5062.05 1821.24 5059.6 1822.01 Q5057.17 1822.77 5054.39 1824.32 L5054.39 1819.6 Q5057.21 1818.47 5059.67 1817.89 Q5062.12 1817.31 5064.16 1817.31 Q5069.53 1817.31 5072.72 1819.99 Q5075.92 1822.68 5075.92 1827.17 Q5075.92 1829.3 5075.11 1831.22 Q5074.32 1833.12 5072.21 1835.71 Q5071.63 1836.38 5068.53 1839.6 Q5065.43 1842.79 5059.78 1848.56 Z\" fill=\"#000000\" fill-rule=\"evenodd\" fill-opacity=\"1\" /><path clip-path=\"url(#clip470)\" d=\"M5085.96 1817.93 L5104.32 1817.93 L5104.32 1821.87 L5090.25 1821.87 L5090.25 1830.34 Q5091.26 1829.99 5092.28 1829.83 Q5093.3 1829.65 5094.32 1829.65 Q5100.11 1829.65 5103.49 1832.82 Q5106.87 1835.99 5106.87 1841.41 Q5106.87 1846.98 5103.39 1850.09 Q5099.92 1853.16 5093.6 1853.16 Q5091.43 1853.16 5089.16 1852.79 Q5086.91 1852.42 5084.51 1851.68 L5084.51 1846.98 Q5086.59 1848.12 5088.81 1848.67 Q5091.03 1849.23 5093.51 1849.23 Q5097.51 1849.23 5099.85 1847.12 Q5102.19 1845.02 5102.19 1841.41 Q5102.19 1837.79 5099.85 1835.69 Q5097.51 1833.58 5093.51 1833.58 Q5091.63 1833.58 5089.76 1834 Q5087.91 1834.41 5085.96 1835.29 L5085.96 1817.93 Z\" fill=\"#000000\" fill-rule=\"evenodd\" fill-opacity=\"1\" /><path clip-path=\"url(#clip470)\" d=\"M4982.7 1578.13 Q4979.09 1578.13 4977.26 1581.7 Q4975.45 1585.24 4975.45 1592.37 Q4975.45 1599.48 4977.26 1603.04 Q4979.09 1606.58 4982.7 1606.58 Q4986.33 1606.58 4988.14 1603.04 Q4989.97 1599.48 4989.97 1592.37 Q4989.97 1585.24 4988.14 1581.7 Q4986.33 1578.13 4982.7 1578.13 M4982.7 1574.43 Q4988.51 1574.43 4991.57 1579.04 Q4994.64 1583.62 4994.64 1592.37 Q4994.64 1601.1 4991.57 1605.7 Q4988.51 1610.29 4982.7 1610.29 Q4976.89 1610.29 4973.81 1605.7 Q4970.76 1601.1 4970.76 1592.37 Q4970.76 1583.62 4973.81 1579.04 Q4976.89 1574.43 4982.7 1574.43 Z\" fill=\"#000000\" fill-rule=\"evenodd\" fill-opacity=\"1\" /><path clip-path=\"url(#clip470)\" d=\"M4982.7 1335.25 Q4979.09 1335.25 4977.26 1338.82 Q4975.45 1342.36 4975.45 1349.49 Q4975.45 1356.6 4977.26 1360.16 Q4979.09 1363.7 4982.7 1363.7 Q4986.33 1363.7 4988.14 1360.16 Q4989.97 1356.6 4989.97 1349.49 Q4989.97 1342.36 4988.14 1338.82 Q4986.33 1335.25 4982.7 1335.25 M4982.7 1331.55 Q4988.51 1331.55 4991.57 1336.16 Q4994.64 1340.74 4994.64 1349.49 Q4994.64 1358.22 4991.57 1362.82 Q4988.51 1367.41 4982.7 1367.41 Q4976.89 1367.41 4973.81 1362.82 Q4970.76 1358.22 4970.76 1349.49 Q4970.76 1340.74 4973.81 1336.16 Q4976.89 1331.55 4982.7 1331.55 Z\" fill=\"#000000\" fill-rule=\"evenodd\" fill-opacity=\"1\" /><path clip-path=\"url(#clip470)\" d=\"M5002.86 1360.86 L5007.75 1360.86 L5007.75 1366.74 L5002.86 1366.74 L5002.86 1360.86 Z\" fill=\"#000000\" fill-rule=\"evenodd\" fill-opacity=\"1\" /><path clip-path=\"url(#clip470)\" d=\"M5021.96 1362.8 L5038.28 1362.8 L5038.28 1366.74 L5016.33 1366.74 L5016.33 1362.8 Q5019 1360.05 5023.58 1355.42 Q5028.19 1350.76 5029.37 1349.42 Q5031.61 1346.9 5032.49 1345.16 Q5033.39 1343.4 5033.39 1341.71 Q5033.39 1338.96 5031.45 1337.22 Q5029.53 1335.49 5026.43 1335.49 Q5024.23 1335.49 5021.77 1336.25 Q5019.34 1337.01 5016.57 1338.56 L5016.57 1333.84 Q5019.39 1332.71 5021.84 1332.13 Q5024.3 1331.55 5026.33 1331.55 Q5031.7 1331.55 5034.9 1334.24 Q5038.09 1336.92 5038.09 1341.41 Q5038.09 1343.54 5037.28 1345.46 Q5036.5 1347.36 5034.39 1349.95 Q5033.81 1350.62 5030.71 1353.84 Q5027.61 1357.04 5021.96 1362.8 Z\" fill=\"#000000\" fill-rule=\"evenodd\" fill-opacity=\"1\" /><path clip-path=\"url(#clip470)\" d=\"M5048.14 1332.18 L5066.5 1332.18 L5066.5 1336.11 L5052.42 1336.11 L5052.42 1344.58 Q5053.44 1344.24 5054.46 1344.07 Q5055.48 1343.89 5056.5 1343.89 Q5062.28 1343.89 5065.66 1347.06 Q5069.04 1350.23 5069.04 1355.65 Q5069.04 1361.23 5065.57 1364.33 Q5062.1 1367.41 5055.78 1367.41 Q5053.6 1367.41 5051.33 1367.04 Q5049.09 1366.67 5046.68 1365.93 L5046.68 1361.23 Q5048.76 1362.36 5050.99 1362.92 Q5053.21 1363.47 5055.69 1363.47 Q5059.69 1363.47 5062.03 1361.37 Q5064.37 1359.26 5064.37 1355.65 Q5064.37 1352.04 5062.03 1349.93 Q5059.69 1347.82 5055.69 1347.82 Q5053.81 1347.82 5051.94 1348.24 Q5050.08 1348.66 5048.14 1349.54 L5048.14 1332.18 Z\" fill=\"#000000\" fill-rule=\"evenodd\" fill-opacity=\"1\" /><path clip-path=\"url(#clip470)\" d=\"M4982.7 1092.38 Q4979.09 1092.38 4977.26 1095.94 Q4975.45 1099.48 4975.45 1106.61 Q4975.45 1113.72 4977.26 1117.28 Q4979.09 1120.82 4982.7 1120.82 Q4986.33 1120.82 4988.14 1117.28 Q4989.97 1113.72 4989.97 1106.61 Q4989.97 1099.48 4988.14 1095.94 Q4986.33 1092.38 4982.7 1092.38 M4982.7 1088.67 Q4988.51 1088.67 4991.57 1093.28 Q4994.64 1097.86 4994.64 1106.61 Q4994.64 1115.34 4991.57 1119.94 Q4988.51 1124.53 4982.7 1124.53 Q4976.89 1124.53 4973.81 1119.94 Q4970.76 1115.34 4970.76 1106.61 Q4970.76 1097.86 4973.81 1093.28 Q4976.89 1088.67 4982.7 1088.67 Z\" fill=\"#000000\" fill-rule=\"evenodd\" fill-opacity=\"1\" /><path clip-path=\"url(#clip470)\" d=\"M5002.86 1117.98 L5007.75 1117.98 L5007.75 1123.86 L5002.86 1123.86 L5002.86 1117.98 Z\" fill=\"#000000\" fill-rule=\"evenodd\" fill-opacity=\"1\" /><path clip-path=\"url(#clip470)\" d=\"M5017.98 1089.3 L5036.33 1089.3 L5036.33 1093.23 L5022.26 1093.23 L5022.26 1101.7 Q5023.28 1101.36 5024.3 1101.19 Q5025.32 1101.01 5026.33 1101.01 Q5032.12 1101.01 5035.5 1104.18 Q5038.88 1107.35 5038.88 1112.77 Q5038.88 1118.35 5035.41 1121.45 Q5031.94 1124.53 5025.62 1124.53 Q5023.44 1124.53 5021.17 1124.16 Q5018.93 1123.79 5016.52 1123.05 L5016.52 1118.35 Q5018.6 1119.48 5020.83 1120.04 Q5023.05 1120.59 5025.52 1120.59 Q5029.53 1120.59 5031.87 1118.49 Q5034.2 1116.38 5034.2 1112.77 Q5034.2 1109.16 5031.87 1107.05 Q5029.53 1104.94 5025.52 1104.94 Q5023.65 1104.94 5021.77 1105.36 Q5019.92 1105.78 5017.98 1106.66 L5017.98 1089.3 Z\" fill=\"#000000\" fill-rule=\"evenodd\" fill-opacity=\"1\" /><path clip-path=\"url(#clip470)\" d=\"M5058.09 1092.38 Q5054.48 1092.38 5052.65 1095.94 Q5050.85 1099.48 5050.85 1106.61 Q5050.85 1113.72 5052.65 1117.28 Q5054.48 1120.82 5058.09 1120.82 Q5061.73 1120.82 5063.53 1117.28 Q5065.36 1113.72 5065.36 1106.61 Q5065.36 1099.48 5063.53 1095.94 Q5061.73 1092.38 5058.09 1092.38 M5058.09 1088.67 Q5063.9 1088.67 5066.96 1093.28 Q5070.04 1097.86 5070.04 1106.61 Q5070.04 1115.34 5066.96 1119.94 Q5063.9 1124.53 5058.09 1124.53 Q5052.28 1124.53 5049.2 1119.94 Q5046.15 1115.34 5046.15 1106.61 Q5046.15 1097.86 5049.2 1093.28 Q5052.28 1088.67 5058.09 1088.67 Z\" fill=\"#000000\" fill-rule=\"evenodd\" fill-opacity=\"1\" /><path clip-path=\"url(#clip470)\" d=\"M4982.7 849.496 Q4979.09 849.496 4977.26 853.061 Q4975.45 856.603 4975.45 863.733 Q4975.45 870.839 4977.26 874.404 Q4979.09 877.945 4982.7 877.945 Q4986.33 877.945 4988.14 874.404 Q4989.97 870.839 4989.97 863.733 Q4989.97 856.603 4988.14 853.061 Q4986.33 849.496 4982.7 849.496 M4982.7 845.793 Q4988.51 845.793 4991.57 850.399 Q4994.64 854.983 4994.64 863.733 Q4994.64 872.459 4991.57 877.066 Q4988.51 881.649 4982.7 881.649 Q4976.89 881.649 4973.81 877.066 Q4970.76 872.459 4970.76 863.733 Q4970.76 854.983 4973.81 850.399 Q4976.89 845.793 4982.7 845.793 Z\" fill=\"#000000\" fill-rule=\"evenodd\" fill-opacity=\"1\" /><path clip-path=\"url(#clip470)\" d=\"M5002.86 875.098 L5007.75 875.098 L5007.75 880.978 L5002.86 880.978 L5002.86 875.098 Z\" fill=\"#000000\" fill-rule=\"evenodd\" fill-opacity=\"1\" /><path clip-path=\"url(#clip470)\" d=\"M5016.75 846.418 L5038.97 846.418 L5038.97 848.409 L5026.43 880.978 L5021.54 880.978 L5033.35 850.353 L5016.75 850.353 L5016.75 846.418 Z\" fill=\"#000000\" fill-rule=\"evenodd\" fill-opacity=\"1\" /><path clip-path=\"url(#clip470)\" d=\"M5048.14 846.418 L5066.5 846.418 L5066.5 850.353 L5052.42 850.353 L5052.42 858.825 Q5053.44 858.478 5054.46 858.316 Q5055.48 858.131 5056.5 858.131 Q5062.28 858.131 5065.66 861.302 Q5069.04 864.473 5069.04 869.89 Q5069.04 875.469 5065.57 878.57 Q5062.1 881.649 5055.78 881.649 Q5053.6 881.649 5051.33 881.279 Q5049.09 880.908 5046.68 880.168 L5046.68 875.469 Q5048.76 876.603 5050.99 877.158 Q5053.21 877.714 5055.69 877.714 Q5059.69 877.714 5062.03 875.607 Q5064.37 873.501 5064.37 869.89 Q5064.37 866.279 5062.03 864.172 Q5059.69 862.066 5055.69 862.066 Q5053.81 862.066 5051.94 862.483 Q5050.08 862.899 5048.14 863.779 L5048.14 846.418 Z\" fill=\"#000000\" fill-rule=\"evenodd\" fill-opacity=\"1\" /><path clip-path=\"url(#clip470)\" d=\"M4971.43 634.164 L4979.07 634.164 L4979.07 607.798 L4970.76 609.465 L4970.76 605.206 L4979.02 603.539 L4983.7 603.539 L4983.7 634.164 L4991.33 634.164 L4991.33 638.099 L4971.43 638.099 L4971.43 634.164 Z\" fill=\"#000000\" fill-rule=\"evenodd\" fill-opacity=\"1\" /><path clip-path=\"url(#clip470)\" d=\"M5000.78 632.219 L5005.66 632.219 L5005.66 638.099 L5000.78 638.099 L5000.78 632.219 Z\" fill=\"#000000\" fill-rule=\"evenodd\" fill-opacity=\"1\" /><path clip-path=\"url(#clip470)\" d=\"M5025.85 606.618 Q5022.24 606.618 5020.41 610.182 Q5018.6 613.724 5018.6 620.854 Q5018.6 627.96 5020.41 631.525 Q5022.24 635.067 5025.85 635.067 Q5029.48 635.067 5031.29 631.525 Q5033.12 627.96 5033.12 620.854 Q5033.12 613.724 5031.29 610.182 Q5029.48 606.618 5025.85 606.618 M5025.85 602.914 Q5031.66 602.914 5034.71 607.52 Q5037.79 612.104 5037.79 620.854 Q5037.79 629.581 5034.71 634.187 Q5031.66 638.77 5025.85 638.77 Q5020.04 638.77 5016.96 634.187 Q5013.9 629.581 5013.9 620.854 Q5013.9 612.104 5016.96 607.52 Q5020.04 602.914 5025.85 602.914 Z\" fill=\"#000000\" fill-rule=\"evenodd\" fill-opacity=\"1\" /><path clip-path=\"url(#clip470)\" d=\"M5056.01 606.618 Q5052.4 606.618 5050.57 610.182 Q5048.76 613.724 5048.76 620.854 Q5048.76 627.96 5050.57 631.525 Q5052.4 635.067 5056.01 635.067 Q5059.64 635.067 5061.45 631.525 Q5063.28 627.96 5063.28 620.854 Q5063.28 613.724 5061.45 610.182 Q5059.64 606.618 5056.01 606.618 M5056.01 602.914 Q5061.82 602.914 5064.88 607.52 Q5067.95 612.104 5067.95 620.854 Q5067.95 629.581 5064.88 634.187 Q5061.82 638.77 5056.01 638.77 Q5050.2 638.77 5047.12 634.187 Q5044.07 629.581 5044.07 620.854 Q5044.07 612.104 5047.12 607.52 Q5050.2 602.914 5056.01 602.914 Z\" fill=\"#000000\" fill-rule=\"evenodd\" fill-opacity=\"1\" /><polyline clip-path=\"url(#clip470)\" style=\"stroke:#000000; stroke-linecap:butt; stroke-linejoin:round; stroke-width:4; stroke-opacity:1; fill:none\" points=\"\n",
       "  4892.76,2567.48 4892.76,2567.48 4944.76,2567.48 4892.76,2567.48 4892.76,2324.6 4944.76,2324.6 4892.76,2324.6 4892.76,2081.72 4944.76,2081.72 4892.76,2081.72 \n",
       "  4892.76,1838.84 4944.76,1838.84 4892.76,1838.84 4892.76,1595.96 4944.76,1595.96 4892.76,1595.96 4892.76,1353.08 4944.76,1353.08 4892.76,1353.08 4892.76,1110.21 \n",
       "  4944.76,1110.21 4892.76,1110.21 4892.76,867.327 4944.76,867.327 4892.76,867.327 4892.76,624.448 4944.76,624.448 4892.76,624.448 \n",
       "  \"/>\n",
       "</svg>\n"
      ]
     },
     "execution_count": 20,
     "metadata": {},
     "output_type": "execute_result"
    }
   ],
   "source": [
    "p0 = imshow(kahan(10,eps())); plot!(p0, title=\"θ = 0\")\n",
    "p4 = imshow(kahan(10,π/4)); plot!(p4, title=\"θ = π/4\")\n",
    "p2 = imshow(kahan(10,π/2)); plot!(p2, title=\"θ = π/2\")\n",
    "draw(plot(p0, p4, p2, layout=(1,3), size=(1300,800)))"
   ]
  },
  {
   "cell_type": "markdown",
   "id": "5bc36718",
   "metadata": {},
   "source": [
    "If $0 < \\theta < \\pi/2$, each column has its largest component in its first entry; the entries get smaller geometrically."
   ]
  },
  {
   "cell_type": "markdown",
   "id": "ba79680f",
   "metadata": {
    "slideshow": {
     "slide_type": "subslide"
    }
   },
   "source": [
    "### CGS on a Kahan matrix vs. CGS on a perturbed Kahan matrix"
   ]
  },
  {
   "cell_type": "code",
   "execution_count": 21,
   "id": "e42ec83a",
   "metadata": {
    "cell_style": "split"
   },
   "outputs": [
    {
     "name": "stdout",
     "output_type": "stream",
     "text": [
      "Reconstruction error || A - Q R ||_F = 0.0\n",
      "Orthonormality error || I - Q'Q ||_F = 0.0\n",
      "Upper-triangularity error || R - triu(R) ||_F = 0.0\n"
     ]
    },
    {
     "data": {
      "text/plain": [
       "true"
      ]
     },
     "execution_count": 21,
     "metadata": {},
     "output_type": "execute_result"
    }
   ],
   "source": [
    "m = 10; θ = π/20\n",
    "M = kahan(m, θ)\n",
    "Q, R = qr_classical_gram_schmidt(M)\n",
    "qr_test(M, Q, R)"
   ]
  },
  {
   "cell_type": "code",
   "execution_count": 22,
   "id": "12c35b45",
   "metadata": {
    "cell_style": "split",
    "scrolled": true
   },
   "outputs": [
    {
     "name": "stdout",
     "output_type": "stream",
     "text": [
      "Reconstruction error || A - Q R ||_F = 0.0\n",
      "Orthonormality error || I - Q'Q ||_F = 1.084717103369114\n",
      "Upper-triangularity error || R - triu(R) ||_F = 0.0\n"
     ]
    },
    {
     "data": {
      "text/plain": [
       "false"
      ]
     },
     "execution_count": 22,
     "metadata": {},
     "output_type": "execute_result"
    }
   ],
   "source": [
    "ϕ = eps(Float64)\n",
    "M_p = copy(M[:,:])\n",
    "rot = [cos(ϕ) sin(ϕ); -sin(ϕ) cos(ϕ)]\n",
    "M_p[1:2,:] = rot * M[1:2,:]\n",
    "Q_p, R_p = qr_classical_gram_schmidt(M_p)\n",
    "qr_test(M_p, Q_p, R_p)"
   ]
  },
  {
   "cell_type": "code",
   "execution_count": 23,
   "id": "65da65df",
   "metadata": {},
   "outputs": [
    {
     "data": {
      "image/svg+xml": [
       "<?xml version=\"1.0\" encoding=\"utf-8\"?>\n",
       "<svg xmlns=\"http://www.w3.org/2000/svg\" xmlns:xlink=\"http://www.w3.org/1999/xlink\" width=\"1300\" height=\"500\" viewBox=\"0 0 5200 2000\">\n",
       "<defs>\n",
       "  <clipPath id=\"clip510\">\n",
       "    <rect x=\"0\" y=\"0\" width=\"5200\" height=\"2000\"/>\n",
       "  </clipPath>\n",
       "</defs>\n",
       "<path clip-path=\"url(#clip510)\" d=\"\n",
       "M0 2000 L5200 2000 L5200 0 L0 0  Z\n",
       "  \" fill=\"#ffffff\" fill-rule=\"evenodd\" fill-opacity=\"1\"/>\n",
       "<defs>\n",
       "  <clipPath id=\"clip511\">\n",
       "    <rect x=\"1040\" y=\"0\" width=\"3641\" height=\"2000\"/>\n",
       "  </clipPath>\n",
       "</defs>\n",
       "<path clip-path=\"url(#clip510)\" d=\"\n",
       "M166.959 1800.6 L4632.76 1800.6 L4632.76 143.709 L166.959 143.709  Z\n",
       "  \" fill=\"#ffffff\" fill-rule=\"evenodd\" fill-opacity=\"1\"/>\n",
       "<defs>\n",
       "  <clipPath id=\"clip512\">\n",
       "    <rect x=\"166\" y=\"143\" width=\"4467\" height=\"1658\"/>\n",
       "  </clipPath>\n",
       "</defs>\n",
       "<g clip-path=\"url(#clip512)\">\n",
       "<image width=\"1657\" height=\"1657\" xlink:href=\"data:image/png;base64,\n",
       "iVBORw0KGgoAAAANSUhEUgAABnkAAAZ5CAYAAACWn3EwAAAgAElEQVR4nOzbQRHCUBQEwSSFGkQg\n",
       "CQ8IRMlTwCkI4JTTZ6q6Fex9aveZOTcAAAAAAABSjtUDAAAAAAAAuE7kAQAAAAAACBJ5AAAAAAAA\n",
       "gkQeAAAAAACAIJEHAAAAAAAgSOQBAAAAAAAIEnkAAAAAAACCRB4AAAAAAIAgkQcAAAAAACBI5AEA\n",
       "AAAAAAgSeQAAAAAAAIJEHgAAAAAAgCCRBwAAAAAAIEjkAQAAAAAACBJ5AAAAAAAAgkQeAAAAAACA\n",
       "IJEHAAAAAAAgSOQBAAAAAAAIEnkAAAAAAACCRB4AAAAAAIAgkQcAAAAAACBI5AEAAAAAAAgSeQAA\n",
       "AAAAAIJEHgAAAAAAgCCRBwAAAAAAIEjkAQAAAAAACBJ5AAAAAAAAgkQeAAAAAACAIJEHAAAAAAAg\n",
       "SOQBAAAAAAAIEnkAAAAAAACCRB4AAAAAAIAgkQcAAAAAACBI5AEAAAAAAAgSeQAAAAAAAIJEHgAA\n",
       "AAAAgCCRBwAAAAAAIEjkAQAAAAAACBJ5AAAAAAAAgkQeAAAAAACAIJEHAAAAAAAgSOQBAAAAAAAI\n",
       "EnkAAAAAAACCRB4AAAAAAIAgkQcAAAAAACBI5AEAAAAAAAgSeQAAAAAAAIJEHgAAAAAAgCCRBwAA\n",
       "AAAAIEjkAQAAAAAACBJ5AAAAAAAAgkQeAAAAAACAIJEHAAAAAAAgSOQBAAAAAAAIEnkAAAAAAACC\n",
       "RB4AAAAAAIAgkQcAAAAAACBI5AEAAAAAAAgSeQAAAAAAAIJEHgAAAAAAgCCRBwAAAAAAIEjkAQAA\n",
       "AAAACBJ5AAAAAAAAgkQeAAAAAACAIJEHAAAAAAAgSOQBAAAAAAAIEnkAAAAAAACCRB4AAAAAAIAg\n",
       "kQcAAAAAACBI5AEAAAAAAAgSeQAAAAAAAIJEHgAAAAAAgCCRBwAAAAAAIEjkAQAAAAAACBJ5AAAA\n",
       "AAAAgkQeAAAAAACAIJEHAAAAAAAgSOQBAAAAAAAIEnkAAAAAAACCRB4AAAAAAIAgkQcAAAAAACBI\n",
       "5AEAAAAAAAgSeQAAAAAAAIJEHgAAAAAAgCCRBwAAAAAAIEjkAQAAAAAACBJ5AAAAAAAAgkQeAAAA\n",
       "AACAIJEHAAAAAAAgSOQBAAAAAAAIEnkAAAAAAACCRB4AAAAAAIAgkQcAAAAAACBI5AEAAAAAAAgS\n",
       "eQAAAAAAAIJEHgAAAAAAgCCRBwAAAAAAIEjkAQAAAAAACBJ5AAAAAAAAgkQeAAAAAACAIJEHAAAA\n",
       "AAAgSOQBAAAAAAAIEnkAAAAAAACCRB4AAAAAAIAgkQcAAAAAACBI5AEAAAAAAAgSeQAAAAAAAIJE\n",
       "HgAAAAAAgCCRBwAAAAAAIEjkAQAAAAAACBJ5AAAAAAAAgkQeAAAAAACAIJEHAAAAAAAgSOQBAAAA\n",
       "AAAIEnkAAAAAAACCRB4AAAAAAIAgkQcAAAAAACBI5AEAAAAAAAgSeQAAAAAAAIJEHgAAAAAAgCCR\n",
       "BwAAAAAAIEjkAQAAAAAACBJ5AAAAAAAAgkQeAAAAAACAIJEHAAAAAAAgSOQBAAAAAAAIEnkAAAAA\n",
       "AACCRB4AAAAAAIAgkQcAAAAAACBI5AEAAAAAAAgSeQAAAAAAAIJEHgAAAAAAgCCRBwAAAAAAIEjk\n",
       "AQAAAAAACBJ5AAAAAAAAgkQeAAAAAACAIJEHAAAAAAAgSOQBAAAAAAAIEnkAAAAAAACCRB4AAAAA\n",
       "AIAgkQcAAAAAACBI5AEAAAAAAAgSeQAAAAAAAIJEHgAAAAAAgCCRBwAAAAAAIEjkAQAAAAAACBJ5\n",
       "AAAAAAAAgkQeAAAAAACAIJEHAAAAAAAgSOQBAAAAAAAIEnkAAAAAAACCRB4AAAAAAIAgkQcAAAAA\n",
       "ACBI5AEAAAAAAAgSeQAAAAAAAIJEHgAAAAAAgCCRBwAAAAAAIEjkAQAAAAAACBJ5AAAAAAAAgkQe\n",
       "AAAAAACAIJEHAAAAAAAgSOQBAAAAAAAIEnkAAAAAAACCRB4AAAAAAIAgkQcAAAAAACDo9n5+Vm+A\n",
       "H6/HffUEAAAAAAD4a548AAAAAAAAQSIPAAAAAABAkMgDAAAAAAAQJPIAAAAAAAAEiTwAAAAAAABB\n",
       "Ig8AAAAAAECQyAMAAAAAABAk8gAAAAAAAASJPAAAAAAAAEEiDwAAAAAAQJDIAwAAAAAAECTyAAAA\n",
       "AAAABIk8AAAAAAAAQSIPAAAAAABAkMgDAAAAAAAQJPIAAAAAAAAEiTwAAAAAAABBIg8AAAAAAECQ\n",
       "yAMAAAAAABAk8gAAAAAAAASJPAAAAAAAAEEiDwAAAAAAQJDIAwAAAAAAECTyAAAAAAAABIk8AAAA\n",
       "AAAAQSIPAAAAAABAkMgDAAAAAAAQJPIAAAAAAAAEiTwAAAAAAABBIg8AAAAAAECQyAMAAAAAABAk\n",
       "8gAAAAAAAASJPAAAAAAAAEEiDwAAAAAAQJDIAwAAAAAAECTyAAAAAAAABIk8AAAAAAAAQSIPAAAA\n",
       "AABAkMgDAAAAAAAQJPIAAAAAAAAEiTwAAAAAAABBIg8AAAAAAECQyAMAAAAAABAk8gAAAAAAAASJ\n",
       "PAAAAAAAAEEiDwAAAAAAQJDIAwAAAAAAECTyAAAAAAAABIk8AAAAAAAAQSIPAAAAAABAkMgDAAAA\n",
       "AAAQJPIAAAAAAAAEiTwAAAAAAABBIg8AAAAAAECQyAMAAAAAABAk8gAAAAAAAASJPAAAAAAAAEEi\n",
       "DwAAAAAAQJDIAwAAAAAAECTyAAAAAAAABIk8AAAAAAAAQSIPAAAAAABAkMgDAAAAAAAQJPIAAAAA\n",
       "AAAEiTwAAAAAAABBIg8AAAAAAECQyAMAAAAAABAk8gAAAAAAAASJPAAAAAAAAEEiDwAAAAAAQJDI\n",
       "AwAAAAAAECTyAAAAAAAABIk8AAAAAAAAQSIPAAAAAABAkMgDAAAAAAAQJPIAAAAAAAAEiTwAAAAA\n",
       "AABBIg8AAAAAAECQyAMAAAAAABAk8gAAAAAAAASJPAAAAAAAAEEiDwAAAAAAQJDIAwAAAAAAECTy\n",
       "AAAAAAAABIk8AAAAAAAAQSIPAAAAAABAkMgDAAAAAAAQJPIAAAAAAAAEiTwAAAAAAABBIg8AAAAA\n",
       "AECQyAMAAAAAABAk8gAAAAAAAASJPAAAAAAAAEEiDwAAAAAAQJDIAwAAAAAAECTyAAAAAAAABIk8\n",
       "AAAAAAAAQSIPAAAAAABAkMgDAAAAAAAQJPIAAAAAAAAEiTwAAAAAAABBIg8AAAAAAECQyAMAAAAA\n",
       "ABAk8gAAAAAAAASJPAAAAAAAAEEiDwAAAAAAQJDIAwAAAAAAECTyAAAAAAAABIk8AAAAAAAAQSIP\n",
       "AAAAAABAkMgDAAAAAAAQJPIAAAAAAAAEiTwAAAAAAABBIg8AAAAAAECQyAMAAAAAABAk8gAAAAAA\n",
       "AASJPAAAAAAAAEEiDwAAAAAAQJDIAwAAAAAAECTyAAAAAAAABIk8AAAAAAAAQSIPAAAAAABAkMgD\n",
       "AAAAAAAQJPIAAAAAAAAEiTwAAAAAAABBIg8AAAAAAECQyAMAAAAAABAk8gAAAAAAAASJPAAAAAAA\n",
       "AEEiDwAAAAAAQJDIAwAAAAAAECTyAAAAAAAABIk8AAAAAAAAQSIPAAAAAABAkMgDAAAAAAAQJPIA\n",
       "AAAAAAAEiTwAAAAAAABBIg8AAAAAAECQyAMAAAAAABAk8gAAAAAAAASJPAAAAAAAAEEiDwAAAAAA\n",
       "QJDIAwAAAAAAECTyAAAAAAAABIk8AAAAAAAAQSIPAAAAAABAkMgDAAAAAAAQJPIAAAAAAAAEiTwA\n",
       "AAAAAABBIg8AAAAAAECQyAMAAAAAABAk8gAAAAAAAASJPAAAAAAAAEEiDwAAAAAAQJDIAwAAAAAA\n",
       "ECTyAAAAAAAABIk8AAAAAAAAQSIPAAAAAABAkMgDAAAAAAAQJPIAAAAAAAAEiTwAAAAAAABBIg8A\n",
       "AAAAAECQyAMAAAAAABAk8gAAAAAAAASJPAAAAAAAAEH7zJyrRwAAAAAAAHCNJw8AAAAAAECQyAMA\n",
       "AAAAABAk8gAAAAAAAASJPAAAAAAAAEEiDwAAAAAAQJDIAwAAAAAAECTyAAAAAAAABIk8AAAAAAAA\n",
       "QSIPAAAAAABAkMgDAAAAAAAQJPIAAAAAAAAEiTwAAAAAAABBIg8AAAAAAECQyAMAAAAAABAk8gAA\n",
       "AAAAAASJPAAAAAAAAEEiDwAAAAAAQJDIAwAAAAAAECTyAAAAAAAABIk8AAAAAAAAQSIPAAAAAABA\n",
       "kMgDAAAAAAAQJPIAAAAAAAAEiTwAAAAAAABBIg8AAAAAAECQyAMAAAAAABAk8gAAAAAAAASJPAAA\n",
       "AAAAAEEiDwAAAAAAQJDIAwAAAAAAECTyAAAAAAAABIk8AAAAAAAAQSIPAAAAAABAkMgDAAAAAAAQ\n",
       "JPIAAAAAAAAEiTwAAAAAAABBIg8AAAAAAECQyAMAAAAAABAk8gAAAAAAAASJPAAAAAAAAEEiDwAA\n",
       "AAAAQJDIAwAAAAAAECTyAAAAAAAABIk8AAAAAAAAQSIPAAAAAABAkMgDAAAAAAAQJPIAAAAAAAAE\n",
       "iTwAAAAAAABBIg8AAAAAAECQyAMAAAAAABAk8gAAAAAAAASJPAAAAAAAAEEiDwAAAAAAQJDIAwAA\n",
       "AAAAECTyAAAAAAAABIk8AAAAAAAAQSIPAAAAAABAkMgDAAAAAAAQJPIAAAAAAAAEiTwAAAAAAABB\n",
       "Ig8AAAAAAECQyAMAAAAAABAk8gAAAAAAAASJPAAAAAAAAEEiDwAAAAAAQJDIAwAAAAAAECTyAAAA\n",
       "AAAABIk8AAAAAAAAQSIPAAAAAABAkMgDAAAAAAAQJPIAAAAAAAAEiTwAAAAAAABBIg8AAAAAAECQ\n",
       "yAMAAAAAABAk8gAAAAAAAASJPAAAAAAAAEEiDwAAAAAAQJDIAwAAAAAAECTyAAAAAAAABIk8AAAA\n",
       "AAAAQSIPAAAAAABAkMgDAAAAAAAQJPIAAAAAAAAEiTwAAAAAAABBIg8AAAAAAECQyAMAAAAAABAk\n",
       "8gAAAAAAAASJPAAAAAAAAEEiDwAAAAAAQJDIAwAAAAAAECTyAAAAAAAABIk8AAAAAAAAQSIPAAAA\n",
       "AABAkMgDAAAAAAAQJPIAAAAAAAAEiTwAAAAAAABBIg8AAAAAAECQyAMAAAAAABAk8gAAAAAAAASJ\n",
       "PAAAAAAAAEEiDwAAAAAAQJDIAwAAAAAAECTyAAAAAAAABIk8AAAAAAAAQSIPAAAAAABAkMgDAAAA\n",
       "AAAQJPIAAAAAAAAEiTwAAAAAAABBIg8AAAAAAECQyAMAAAAAABAk8gAAAAAAAASJPAAAAAAAAEEi\n",
       "DwAAAAAAQJDIAwAAAAAAECTyAAAAAAAABIk8AAAAAAAAQSIPAAAAAABAkMgDAAAAAAAQJPIAAAAA\n",
       "AAAEiTwAAAAAAABBIg8AAAAAAECQyAMAAAAAABAk8gAAAAAAAASJPAAAAAAAAEEiDwAAAAAAQJDI\n",
       "AwAAAAAAECTyAAAAAAAABIk8AAAAAAAAQSIPAAAAAABAkMgDAAAAAAAQJPIAAAAAAAAEiTwAAAAA\n",
       "AABBIg8AAAAAAECQyAMAAAAAABAk8gAAAAAAAASJPAAAAAAAAEEiDwAAAAAAQJDIAwAAAAAAECTy\n",
       "AAAAAAAABIk8AAAAAAAAQSIPAAAAAABAkMgDAAAAAAAQJPIAAAAAAAAEiTwAAAAAAABBIg8AAAAA\n",
       "AECQyAMAAAAAABAk8gAAAAAAAASJPAAAAAAAAEEiDwAAAAAAQJDIAwAAAAAAECTyAAAAAAAABIk8\n",
       "AAAAAAAAQSIPAAAAAABAkMgDAAAAAAAQJPIAAAAAAAAEiTwAAAAAAABBIg8AAAAAAECQyAMAAAAA\n",
       "ABAk8gAAAAAAAASJPAAAAAAAAEEiDwAAAAAAQJDIAwAAAAAAECTyAAAAAAAABIk8AAAAAAAAQSIP\n",
       "AAAAAABAkMgDAAAAAAAQJPIAAAAAAAAEiTwAAAAAAABBIg8AAAAAAECQyAMAAAAAABAk8gAAAAAA\n",
       "AASJPAAAAAAAAEEiDwAAAAAAQJDIAwAAAAAAECTyAAAAAAAABIk8AAAAAAAAQSIPAAAAAABAkMgD\n",
       "AAAAAAAQJPIAAAAAAAAEiTwAAAAAAABBIg8AAAAAAECQyAMAAAAAABAk8gAAAAAAAASJPAAAAAAA\n",
       "AEEiDwAAAAAAQJDIAwAAAAAAECTyAAAAAAAABIk8AAAAAAAAQSIPAAAAAABAkMgDAAAAAAAQJPIA\n",
       "AAAAAAAEiTwAAAAAAABBIg8AAAAAAECQyAMAAAAAABAk8gAAAAAAAASJPAAAAAAAAEEiDwAAAAAA\n",
       "QJDIAwAAAAAAECTyAAAAAAAABIk8AAAAAAAAQSIPAAAAAABAkMgDAAAAAAAQJPIAAAAAAAAEiTwA\n",
       "AAAAAABBIg8AAAAAAECQyAMAAAAAABAk8gAAAAAAAASJPAAAAAAAAEEiDwAAAAAAQJDIAwAAAAAA\n",
       "ECTyAAAAAAAABIk8AAAAAAAAQSIPAAAAAABAkMgDAAAAAAAQJPIAAAAAAAAEiTwAAAAAAABBIg8A\n",
       "AAAAAECQyAMAAAAAABAk8gAAAAAAAASJPAAAAAAAAEEiDwAAAAAAQJDIAwAAAAAAECTyAAAAAAAA\n",
       "BIk8AAAAAAAAQSIPAAAAAABAkMgDAAAAAAAQJPIAAAAAAAAEiTwAAAAAAABBIg8AAAAAAECQyAMA\n",
       "AAAAABAk8gAAAAAAAASJPAAAAAAAAEEiDwAAAAAAQJDIAwAAAAAAECTyAAAAAAAABIk8AAAAAAAA\n",
       "QSIPAAAAAABAkMgDAAAAAAAQJPIAAAAAAAAEiTwAAAAAAABBIg8AAAAAAECQyAMAAAAAABAk8gAA\n",
       "AAAAAASJPAAAAAAAAEEiDwAAAAAAQJDIAwAAAAAAECTyAAAAAAAABIk8AAAAAAAAQSIPAAAAAABA\n",
       "kMgDAAAAAAAQJPIAAAAAAAAEiTwAAAAAAABBIg8AAAAAAECQyAMAAAAAABAk8gAAAAAAAASJPAAA\n",
       "AAAAAEEiDwAAAAAAQJDIAwAAAAAAECTyAAAAAAAABIk8AAAAAAAAQSIPAAAAAABAkMgDAAAAAAAQ\n",
       "JPIAAAAAAAAEiTwAAAAAAABBIg8AAAAAAECQyAMAAAAAABAk8gAAAAAAAASJPAAAAAAAAEEiDwAA\n",
       "AAAAQJDIAwAAAAAAECTyAAAAAAAABIk8AAAAAAAAQSIPAAAAAABAkMgDAAAAAAAQJPIAAAAAAAAE\n",
       "iTwAAAAAAABBIg8AAAAAAECQyAMAAAAAABAk8gAAAAAAAASJPAAAAAAAAEEiDwAAAAAAQJDIAwAA\n",
       "AAAAECTyAAAAAAAABIk8AAAAAAAAQSIPAAAAAABAkMgDAAAAAAAQJPIAAAAAAAAEiTwAAAAAAABB\n",
       "Ig8AAAAAAECQyAMAAAAAABAk8gAAAAAAAASJPAAAAAAAAEEiDwAAAAAAQJDIAwAAAAAAECTyAAAA\n",
       "AAAABIk8AAAAAAAAQSIPAF/27IAEAAAAQND/1+0I9IYAAAAAwJDkAQAAAAAAGJI8AAAAAAAAQ5IH\n",
       "AAAAAABgSPIAAAAAAAAMSR4AAAAAAIAhyQMAAAAAADAkeQAAAAAAAIYkDwAAAAAAwJDkAQAAAAAA\n",
       "GJI8AAAAAAAAQ5IHAAAAAABgSPIAAAAAAAAMSR4AAAAAAIAhyQMAAAAAADAkeQAAAAAAAIYkDwAA\n",
       "AAAAwJDkAQAAAAAAGJI8AAAAAAAAQ5IHAAAAAABgSPIAAAAAAAAMSR4AAAAAAIAhyQMAAAAAADAk\n",
       "eQAAAAAAAIYkDwAAAAAAwJDkAQAAAAAAGJI8AAAAAAAAQ5IHAAAAAABgSPIAAAAAAAAMSR4AAAAA\n",
       "AIAhyQMAAAAAADAkeQAAAAAAAIYkDwAAAAAAwJDkAQAAAAAAGJI8AAAAAAAAQ5IHAAAAAABgSPIA\n",
       "AAAAAAAMSR4AAAAAAIAhyQMAAAAAADAkeQAAAAAAAIYkDwAAAAAAwJDkAQAAAAAAGJI8AAAAAAAA\n",
       "Q5IHAAAAAABgSPIAAAAAAAAMSR4AAAAAAIAhyQMAAAAAADAkeQAAAAAAAIYkDwAAAAAAwJDkAQAA\n",
       "AAAAGJI8AAAAAAAAQ5IHAAAAAABgSPIAAAAAAAAMSR4AAAAAAIAhyQMAAAAAADAkeQAAAAAAAIYk\n",
       "DwAAAAAAwJDkAQAAAAAAGJI8AAAAAAAAQ5IHAAAAAABgSPIAAAAAAAAMSR4AAAAAAIAhyQMAAAAA\n",
       "ADAkeQAAAAAAAIYkDwAAAAAAwJDkAQAAAAAAGJI8AAAAAAAAQ5IHAAAAAABgSPIAAAAAAAAMSR4A\n",
       "AAAAAIAhyQMAAAAAADAkeQAAAAAAAIYkDwAAAAAAwJDkAQAAAAAAGJI8AAAAAAAAQ5IHAAAAAABg\n",
       "SPIAAAAAAAAMSR4AAAAAAIAhyQMAAAAAADAkeQAAAAAAAIYkDwAAAAAAwJDkAQAAAAAAGJI8AAAA\n",
       "AAAAQ5IHAAAAAABgSPIAAAAAAAAMSR4AAAAAAIAhyQMAAAAAADAkeQAAAAAAAIYkDwAAAAAAwJDk\n",
       "AQAAAAAAGJI8AAAAAAAAQ5IHAAAAAABgSPIAAAAAAAAMSR4AAAAAAIAhyQMAAAAAADAkeQAAAAAA\n",
       "AIYkDwAAAAAAwJDkAQAAAAAAGJI8AAAAAAAAQ5IHAAAAAABgSPIAAAAAAAAMSR4AAAAAAIAhyQMA\n",
       "AAAAADAkeQAAAAAAAIYkDwAAAAAAwJDkAQAAAAAAGJI8AAAAAAAAQ5IHAAAAAABgSPIAAAAAAAAM\n",
       "SR4AAAAAAIAhyQMAAAAAADAkeQAAAAAAAIYkDwAAAAAAwJDkAQAAAAAAGJI8AAAAAAAAQ5IHAAAA\n",
       "AABgSPIAAAAAAAAMSR4AAAAAAIAhyQMAAAAAADAkeQAAAAAAAIYkDwAAAAAAwJDkAQAAAAAAGJI8\n",
       "AAAAAAAAQ5IHAAAAAABgSPIAAAAAAAAMSR4AAAAAAIAhyQMAAAAAADAkeQAAAAAAAIYkDwAAAAAA\n",
       "wJDkAQAAAAAAGJI8AAAAAAAAQ5IHAAAAAABgSPIAAAAAAAAMSR4AAAAAAIAhyQMAAAAAADAkeQAA\n",
       "AAAAAIYkDwAAAAAAwJDkAQAAAAAAGJI8AAAAAAAAQ5IHAAAAAABgSPIAAAAAAAAMSR4AAAAAAIAh\n",
       "yQMAAAAAADAkeQAAAAAAAIYkDwAAAAAAwJDkAQAAAAAAGJI8AAAAAAAAQ5IHAAAAAABgSPIAAAAA\n",
       "AAAMSR4AAAAAAIAhyQMAAAAAADAkeQAAAAAAAIYkDwAAAAAAwJDkAQAAAAAAGJI8AAAAAAAAQ5IH\n",
       "AAAAAABgSPIAAAAAAAAMSR4AAAAAAIAhyQMAAAAAADAkeQAAAAAAAIYkDwAAAAAAwJDkAQAAAAAA\n",
       "GJI8AAAAAAAAQ5IHAAAAAABgSPIAAAAAAAAMSR4AAAAAAIAhyQMAAAAAADAkeQAAAAAAAIYkDwAA\n",
       "AAAAwJDkAQAAAAAAGJI8AAAAAAAAQ5IHAAAAAABgSPIAAAAAAAAMSR4AAAAAAIAhyQMAAAAAADAk\n",
       "eQAAAAAAAIYkDwAAAAAAwJDkAQAAAAAAGJI8AAAAAAAAQ5IHAAAAAABgSPIAAAAAAAAMSR4AAAAA\n",
       "AIAhyQMAAAAAADAkeQAAAAAAAIYkDwAAAAAAwJDkAQAAAAAAGJI8AAAAAAAAQ5IHAAAAAABgSPIA\n",
       "AAAAAAAMSR4AAAAAAIAhyQMAAAAAADAkeQAAAAAAAIYkDwAAAAAAwJDkAQAAAAAAGJI8AAAAAAAA\n",
       "Q5IHAAAAAABgSPIAAAAAAAAMSR4AAAAAAIAhyQMAAAAAADAkeQAAAAAAAIYkDwAAAAAAwJDkAQAA\n",
       "AAAAGJI8AAAAAAAAQ5IHAAAAAABgSPIAAAAAAAAMSR4AAAAAAIAhyQMAAAAAADAkeQAAAAAAAIYk\n",
       "DwAAAAAAwJDkAQAAAAAAGJI8AAAAAAAAQ5IHAAAAAABgSPIAAAAAAAAMSR4AAAAAAIAhyQMAAAAA\n",
       "ADAkeQAAAAAAAIYkDwAAAAAAwJDkAQAAAAAAGJI8AAAAAAAAQ5IHAAAAAABgSPIAAAAAAAAMSR4A\n",
       "AAAAAIAhyQMAAAAAADAkeQAAAAAAAIYkDwAAAAAAwJDkAQAAAAAAGJI8AAAAAAAAQ5IHAAAAAABg\n",
       "SPIAAAAAAAAMSR4AAAAAAIAhyQMAAAAAADAkeQAAAAAAAIYkDwAAAAAAwJDkAQAAAAAAGJI8AAAA\n",
       "AAAAQ5IHAAAAAABgSPIAAAAAAAAMSR4AAAAAAIAhyQMAAAAAADAkeQAAAAAAAIYkDwAAAAAAwJDk\n",
       "AQAAAAAAGJI8AAAAAAAAQ5IHAAAAAABgSPIAAAAAAAAMSR4AAAAAAIAhyQMAAAAAADAkeQAAAAAA\n",
       "AIYkDwAAAAAAwJDkAQAAAAAAGJI8AAAAAAAAQ5IHAAAAAABgSPIAAAAAAAAMSR4AAAAAAIAhyQMA\n",
       "AAAAADAkeQAAAAAAAIYkDwAAAAAAwJDkAQAAAAAAGJI8AAAAAAAAQ5IHAAAAAABgSPIAAAAAAAAM\n",
       "SR4AAAAAAIAhyQMAAAAAADAkeQAAAAAAAIYkDwAAAAAAwJDkAQAAAAAAGJI8AAAAAAAAQ5IHAAAA\n",
       "AABgSPIAAAAAAAAMSR4AAAAAAIAhyQMAAAAAADAkeQAAAAAAAIYkDwAAAAAAwJDkAQAAAAAAGJI8\n",
       "AAAAAAAAQ5IHAAAAAABgSPIAAAAAAAAMSR4AAAAAAIAhyQMAAAAAADAkeQAAAAAAAIYkDwAAAAAA\n",
       "wJDkAQAAAAAAGJI8AAAAAAAAQ5IHAAAAAABgSPIAAAAAAAAMSR4AAAAAAIAhyQMAAAAAADAkeQAA\n",
       "AAAAAIYkDwAAAAAAwJDkAQAAAAAAGJI8AAAAAAAAQ5IHAAAAAABgSPIAAAAAAAAMSR4AAAAAAIAh\n",
       "yQMAAAAAADAkeQAAAAAAAIYkDwAAAAAAwJDkAQAAAAAAGJI8AAAAAAAAQ5IHAAAAAABgSPIAAAAA\n",
       "AAAMSR4AAAAAAIAhyQMAAAAAADAkeQAAAFZEB0EAABh9SURBVAAAAIYkDwAAAAAAwJDkAQAAAAAA\n",
       "GJI8AAAAAAAAQ5IHAAAAAABgSPIAAAAAAAAMSR4AAAAAAIAhyQMAAAAAADAkeQAAAAAAAIYkDwAA\n",
       "AAAAwJDkAQAAAAAAGJI8AAAAAAAAQ5IHAAAAAABgSPIAAAAAAAAMSR4AAAAAAIAhyQMAAAAAADAk\n",
       "eQAAAAAAAIYkDwAAAAAAwJDkAQAAAAAAGJI8AAAAAAAAQ5IHAAAAAABgSPIAAAAAAAAMSR4AAAAA\n",
       "AIAhyQMAAAAAADAkeQAAAAAAAIYkDwAAAAAAwJDkAQAAAAAAGJI8AAAAAAAAQ5IHAAAAAABgSPIA\n",
       "AAAAAAAMSR4AAAAAAIAhyQMAAAAAADAkeQAAAAAAAIYkDwAAAAAAwJDkAQAAAAAAGJI8AAAAAAAA\n",
       "Q5IHAAAAAABgSPIAAAAAAAAMSR4AAAAAAIAhyQMAAAAAADAkeQAAAAAAAIYkDwAAAAAAwJDkAQAA\n",
       "AAAAGJI8AAAAAAAAQ5IHAAAAAABgSPIAAAAAAAAMSR4AAAAAAIAhyQMAAAAAADAkeQAAAAAAAIYk\n",
       "DwAAAAAAwJDkAQAAAAAAGJI8AAAAAAAAQ5IHAAAAAABgSPIAAAAAAAAMSR4AAAAAAIAhyQMAAAAA\n",
       "ADAkeQAAAAAAAIYkDwAAAAAAwJDkAQAAAAAAGJI8AAAAAAAAQ5IHAAAAAABgSPIAAAAAAAAMSR4A\n",
       "AAAAAIAhyQMAAAAAADAkeQAAAAAAAIYkDwAAAAAAwJDkAQAAAAAAGJI8AAAAAAAAQ5IHAAAAAABg\n",
       "SPIAAAAAAAAMSR4AAAAAAIAhyQMAAAAAADAkeQAAAAAAAIYkDwAAAAAAwJDkAQAAAAAAGJI8AAAA\n",
       "AAAAQ5IHAAAAAABgSPIAAAAAAAAMSR4AAAAAAIAhyQMAAAAAADAkeQAAAAAAAIYkDwAAAAAAwJDk\n",
       "AQAAAAAAGJI8AAAAAAAAQ5IHAAAAAABgSPIAAAAAAAAMSR4AAAAAAIAhyQMAAAAAADAkeQAAAAAA\n",
       "AIYkDwAAAAAAwJDkAQAAAAAAGJI8AAAAAAAAQ5IHAAAAAABgSPIAAAAAAAAMSR4AAAAAAIAhyQMA\n",
       "AAAAADAkeQAAAAAAAIYkDwAAAAAAwJDkAQAAAAAAGJI8AAAAAAAAQ5IHAAAAAABgSPIAAAAAAAAM\n",
       "SR4AAAAAAIAhyQMAAAAAADAkeQAAAAAAAIYkDwAAAAAAwJDkAQAAAAAAGJI8AAAAAAAAQ5IHAAAA\n",
       "AABgSPIAAAAAAAAMSR4AAAAAAIAhyQMAAAAAADAkeQAAAAAAAIYkDwAAAAAAwJDkAQAAAAAAGJI8\n",
       "AAAAAAAAQ5IHAAAAAABgSPIAAAAAAAAMSR4AAAAAAIAhyQMAAAAAADAkeQAAAAAAAIYkDwAAAAAA\n",
       "wJDkAQAAAAAAGJI8AAAAAAAAQ5IHAAAAAABgSPIAAAAAAAAMSR4AAAAAAIAhyQMAAAAAADAkeQAA\n",
       "AAAAAIYkDwAAAAAAwJDkAQAAAAAAGJI8AAAAAAAAQ5IHAAAAAABgSPIAAAAAAAAMSR4AAAAAAIAh\n",
       "yQMAAAAAADAkeQAAAAAAAIYkDwAAAAAAwJDkAQAAAAAAGJI8AAAAAAAAQ5IHAAAAAABgSPIAAAAA\n",
       "AAAMSR4AAAAAAIAhyQMAAAAAADAkeQAAAAAAAIYkDwAAAAAAwJDkAQAAAAAAGJI8AAAAAAAAQ5IH\n",
       "AAAAAABgSPIAAAAAAAAMSR4AAAAAAIAhyQMAAAAAADAkeQAAAAAAAIYkDwAAAAAAwJDkAQAAAAAA\n",
       "GJI8AAAAAAAAQ5IHAAAAAABgSPIAAAAAAAAMSR4AAAAAAIAhyQMAAAAAADAkeQAAAAAAAIYkDwAA\n",
       "AAAAwJDkAQAAAAAAGJI8AAAAAAAAQ5IHAAAAAABgSPIAAAAAAAAMSR4AAAAAAIAhyQMAAAAAADAk\n",
       "eQAAAAAAAIYkDwAAAAAAwJDkAQAAAAAAGJI8AAAAAAAAQ5IHAAAAAABgSPIAAAAAAAAMSR4AAAAA\n",
       "AIAhyQMAAAAAADAkeQAAAAAAAIYkDwAAAAAAwJDkAQAAAAAAGJI8AAAAAAAAQ5IHAAAAAABgSPIA\n",
       "AAAAAAAMSR4AAAAAAIAhyQMAAAAAADAkeQAAAAAAAIYkDwAAAAAAwJDkAQAAAAAAGJI8AAAAAAAA\n",
       "Q5IHAAAAAABgSPIAAAAAAAAMSR4AAAAAAIAhyQMAAAAAADAkeQAAAAAAAIYkDwAAAAAAwJDkAQAA\n",
       "AAAAGJI8AAAAAAAAQ5IHAAAAAABgSPIAAAAAAAAMSR4AAAAAAIAhyQMAAAAAADAkeQAAAAAAAIYk\n",
       "DwAAAAAAwJDkAQAAAAAAGJI8AAAAAAAAQ5IHAAAAAABgSPIAAAAAAAAMSR4AAAAAAIAhyQMAAAAA\n",
       "ADAkeQAAAAAAAIYkDwAAAAAAwJDkAQAAAAAAGJI8AAAAAAAAQ5IHAAAAAABgSPIAAAAAAAAMSR4A\n",
       "AAAAAIAhyQMAAAAAADAkeQAAAAAAAIYkDwAAAAAAwJDkAQAAAAAAGJI8AAAAAAAAQ5IHAAAAAABg\n",
       "SPIAAAAAAAAMSR4AAAAAAIAhyQMAAAAAADAkeQAAAAAAAIYkDwAAAAAAwJDkAQAAAAAAGJI8AAAA\n",
       "AAAAQ5IHAAAAAABgSPIAAAAAAAAMSR4AAAAAAIAhyQMAAAAAADAkeQAAAAAAAIYkDwAAAAAAwJDk\n",
       "AQAAAAAAGJI8AAAAAAAAQ5IHAAAAAABgSPIAAAAAAAAMSR4AAAAAAIAhyQMAAAAAADAkeQAAAAAA\n",
       "AIYkDwAAAAAAwJDkAQAAAAAAGJI8AAAAAAAAQ5IHAAAAAABgSPIAAAAAAAAMSR4AAAAAAIAhyQMA\n",
       "AAAAADAkeQAAAAAAAIYkDwAAAAAAwJDkAQAAAAAAGJI8AAAAAAAAQ5IHAAAAAABgSPIAAAAAAAAM\n",
       "SR4AAAAAAIAhyQMAAAAAADAkeQAAAAAAAIYkDwAAAAAAwJDkAQAAAAAAGJI8AAAAAAAAQ5IHAAAA\n",
       "AABgSPIAAAAAAAAMSR4AAAAAAIAhyQMAAAAAADAkeQAAAAAAAIYkDwAAAAAAwJDkAQAAAAAAGJI8\n",
       "AAAAAAAAQ5IHAAAAAABgSPIAAAAAAAAMSR4AAAAAAIAhyQMAAAAAADAkeQAAAAAAAIYkDwAAAAAA\n",
       "wJDkAQAAAAAAGJI8AAAAAAAAQ5IHAAAAAABgSPIAAAAAAAAMSR4AAAAAAIAhyQMAAAAAADAkeQAA\n",
       "AAAAAIYkDwAAAAAAwJDkAQAAAAAAGJI8AAAAAAAAQ5IHAAAAAABgSPIAAAAAAAAMSR4AAAAAAIAh\n",
       "yQMAAAAAADAkeQAAAAAAAIYkDwAAAAAAwJDkAQAAAAAAGJI8AAAAAAAAQ5IHAAAAAABgSPIAAAAA\n",
       "AAAMSR4AAAAAAIAhyQMAAAAAADAkeQAAAAAAAIYkDwAAAAAAwJDkAQAAAAAAGJI8AAAAAAAAQ5IH\n",
       "AAAAAABgSPIAAAAAAAAMSR4AAAAAAIAhyQMAAAAAADAkeQAAAAAAAIYkDwAAAAAAwJDkAQAAAAAA\n",
       "GJI8AAAAAAAAQ5IHAAAAAABgSPIAAAAAAAAMSR4AAAAAAIAhyQMAAAAAADAkeQAAAAAAAIYkDwAA\n",
       "AAAAwJDkAQAAAAAAGJI8AAAAAAAAQ5IHAAAAAABgSPIAAAAAAAAMSR4AAAAAAIAhyQMAAAAAADAk\n",
       "eQAAAAAAAIYkDwAAAAAAwJDkAQAAAAAAGJI8AAAAAAAAQ5IHAAAAAABgSPIAAAAAAAAMSR4AAAAA\n",
       "AIAhyQMAUHt2QAIAAAAg6P/rdgR6QwAAAIAhyQMAAAAAADAkeQAAAAAAAIYkDwAAAAAAwJDkAQAA\n",
       "AAAAGJI8AAAAAAAAQ5IHAAAAAABgSPIAAAAAAAAMSR4AAAAAAIAhyQMAAAAAADAkeQAAAAAAAIYk\n",
       "DwAAAAAAwJDkAQAAAAAAGJI8AAAAAAAAQ5IHAAAAAABgSPIAAAAAAAAMSR4AAAAAAIAhyQMAAAAA\n",
       "ADAkeQAAAAAAAIYkDwAAAAAAwJDkAQAAAAAAGJI8AAAAAAAAQ5IHAAAAAABgSPIAAAAAAAAMSR4A\n",
       "AAAAAIAhyQMAAAAAADAkeQAAAAAAAIYkDwAAAAAAwJDkAQAAAAAAGJI8AAAAAAAAQ5IHAAAAAABg\n",
       "SPIAAAAAAAAMSR4AAAAAAIAhyQMAAAAAADAkeQAAAAAAAIYkDwAAAAAAwJDkAQAAAAAAGJI8AAAA\n",
       "AAAAQ5IHAAAAAABgSPIAAAAAAAAMSR4AAAAAAIAhyQMAAAAAADAkeQAAAAAAAIYkDwAAAAAAwJDk\n",
       "AQAAAAAAGJI8AAAAAAAAQ5IHAAAAAABgSPIAAAAAAAAMSR4AAAAAAIAhyQMAAAAAADAkeQAAAAAA\n",
       "AIYkDwAAAAAAwJDkAQAAAAAAGJI8AAAAAAAAQ5IHAAAAAABgSPIAAAAAAAAMSR4AAAAAAIAhyQMA\n",
       "AAAAADAkeQAAAAAAAIYkDwAAAAAAwJDkAQAAAAAAGJI8AAAAAAAAQ5IHAAAAAABgSPIAAAAAAAAM\n",
       "SR4AAAAAAIAhyQMAAAAAADAkeQAAAAAAAIYkDwAAAAAAwJDkAQAAAAAAGJI8AAAAAAAAQ5IHAAAA\n",
       "AABgSPIAAAAAAAAMSR4AAAAAAIAhyQMAAAAAADAkeQAAAAAAAIYkDwAAAAAAwJDkAQAAAAAAGJI8\n",
       "AAAAAAAAQ5IHAAAAAABgSPIAAAAAAAAMSR4AAAAAAIAhyQMAAAAAADAkeQAAAAAAAIYkDwAAAAAA\n",
       "wJDkAQAAAAAAGJI8AAAAAAAAQ5IHAAAAAABgSPIAAAAAAAAMSR4AAAAAAIAhyQMAAAAAADAkeQAA\n",
       "AAAAAIYkDwAAAAAAwJDkAQAAAAAAGJI8AAAAAAAAQ5IHAAAAAABgSPIAAAAAAAAMSR4AAAAAAIAh\n",
       "yQMAAAAAADAkeQAAAAAAAIYkDwAAAAAAwJDkAQAAAAAAGJI8AAAAAAAAQ5IHAAAAAABgSPIAAAAA\n",
       "AAAMSR4AAAAAAIAhyQMAAAAAADAkeQAAAAAAAIYkDwAAAAAAwJDkAQAAAAAAGJI8AAAAAAAAQ5IH\n",
       "AAAAAABgSPIAAAAAAAAMSR4AAAAAAIAhyQMAAAAAADAkeQAAAAAAAIYkDwAAAAAAwJDkAQAAAAAA\n",
       "GJI8AAAAAAAAQ5IHAAAAAABgSPIAAAAAAAAMSR4AAAAAAIAhyQMAAAAAADAkeQAAAAAAAIYkDwAA\n",
       "AAAAwJDkAQAAAAAAGJI8AAAAAAAAQ5IHAAAAAABgSPIAAAAAAAAMSR4AAAAAAIAhyQMAAAAAADAk\n",
       "eQAAAAAAAIYkDwAAAAAAwJDkAQAAAAAAGJI8AAAAAAAAQ5IHAAAAAABgSPIAAAAAAAAMSR4AAAAA\n",
       "AIAhyQMAAAAAADAkeQAAAAAAAIYkDwAAAAAAwJDkAQAAAAAAGJI8AAAAAAAAQ5IHAAAAAABgSPIA\n",
       "AAAAAAAMSR4AAAAAAIAhyQMAAAAAADAkeQAAAAAAAIYkDwAAAAAAwJDkAQAAAAAAGJI8AAAAAAAA\n",
       "Q5IHAAAAAABgSPIAAAAAAAAMSR4AAAAAAIAhyQMAAAAAADAkeQAAAAAAAIYkDwAAAAAAwJDkAQAA\n",
       "AAAAGJI8AAAAAAAAQ5IHAAAAAABgSPIAAAAAAAAMSR4AAAAAAIAhyQMAAAAAADAkeQAAAAAAAIYk\n",
       "DwAAAAAAwJDkAQAAAAAAGJI8AAAAAAAAQ5IHAAAAAABgSPIAAAAAAAAMSR4AAAAAAIAhyQMAAAAA\n",
       "ADAkeQAAAAAAAIYkDwAAAAAAwJDkAQAAAAAAGJI8AAAAAAAAQ5IHAAAAAABgSPIAAAAAAAAMSR4A\n",
       "AAAAAIAhyQMAAAAAADAkeQAAAAAAAIYkDwAAAAAAwJDkAQAAAAAAGJI8AAAAAAAAQ5IHAAAAAABg\n",
       "SPIAAAAAAAAMSR4AAAAAAIAhyQMAAAAAADAkeQAAAAAAAIYkDwAAAAAAwJDkAQAAAAAAGJI8AAAA\n",
       "AAAAQ5IHAAAAAABgSPIAAAAAAAAMSR4AAAAAAIAhyQMAAAAAADAkeQAAAAAAAIYkDwAAAAAAwJDk\n",
       "AQAAAAAAGJI8AAAAAAAAQ5IHAAAAAABgSPIAAAAAAAAMSR4AAAAAAIAhyQMAAAAAADAkeQAAAAAA\n",
       "AIYkDwAAAAAAwJDkAQAAAAAAGJI8AAAAAAAAQ5IHAAAAAABgSPIAAAAAAAAMSR4AAAAAAIAhyQMA\n",
       "AAAAADAkeQAAAAAAAIYkDwAAAAAAwJDkAQAAAAAAGJI8AAAAAAAAQ5IHAAAAAABgSPIAAAAAAAAM\n",
       "SR4AAAAAAIAhyQMAAAAAADAkeQAAAAAAAIYkDwAAAAAAwJDkAQAAAAAAGJI8AAAAAAAAQ5IHAAAA\n",
       "AABgSPIAAAAAAAAMSR4AAAAAAIAhyQMAAAAAADAkeQAAAAAAAIYkDwAAAAAAwJDkAQAAAAAAGJI8\n",
       "AAAAAAAAQ5IHAAAAAABgSPIAAAAAAAAMSR4AAAAAAIAhyQMAAAAAADAkeQAAAAAAAIYkDwAAAAAA\n",
       "wJDkAQAAAAAAGJI8AAAAAAAAQ5IHAAAAAABgSPIAAAAAAAAMSR4AAAAAAIAhyQMAAAAAADAkeQAA\n",
       "AAAAAIYkDwAAAAAAwJDkAQAAAAAAGJI8AAAAAAAAQ5IHAAAAAABgSPIAAAAAAAAMSR4AAAAAAIAh\n",
       "yQMAAAAAADAkeQAAAAAAAIYkDwAAAAAAwJDkAQAAAAAAGJI8AAAAAAAAQ5IHAAAAAABgSPIAAAAA\n",
       "AAAMSR4AAAAAAIAhyQMAAAAAADAkeQAAAAAAAIYkDwAAAAAAwJDkAQAAAAAAGJI8AAAAAAAAQ5IH\n",
       "AAAAAABgSPIAAAAAAAAMSR4AAAAAAIAhyQMAAAAAADAkeQAAAAAAAIYkDwAAAAAAwJDkAQAAAAAA\n",
       "GJI8AAAAAAAAQ5IHAAAAAABgSPIAAAAAAAAMSR4AAAAAAIAhyQMAAAAAADAkeQAAAAAAAIYkDwAA\n",
       "AAAAwJDkAQAAAAAAGJI8AAAAAAAAQ5IHAAAAAABgSPIAAAAAAAAMSR4AAAAAAIAhyQMAAAAAADAk\n",
       "eQAAAAAAAIYkDwAAAAAAwJDkAQAAAAAAGJI8AAAAAAAAQ5IHAAAAAABgSPIAAAAAAAAMSR4AAAAA\n",
       "AIAhyQMAAAAAADAkeQAAAAAAAIYkDwAAAAAAwJDkAQAAAAAAGJI8AAAAAAAAQ5IHAAAAAABgSPIA\n",
       "AAAAAAAMSR4AAAAAAIAhyQMAAAAAADAkeQAAAAAAAIYkDwAAAAAAwJDkAQAAAAAAGJI8AAAAAAAA\n",
       "Q5IHAAAAAABgSPIAAAAAAAAMSR4AAAAAAIAhyQMAAAAAADAkeQAAAAAAAIYkDwAAAAAAwJDkAQAA\n",
       "AAAAGJI8AAAAAAAAQ5IHAAAAAABgSPIAAAAAAAAMSR4AAAAAAIAhyQMAAAAAADAkeQAAAAAAAIYk\n",
       "DwAAAAAAwJDkAQAAAAAAGJI8AAAAAAAAQ5IHAAAAAABgSPIAAAAAAAAMSR4AAAAAAIAhyQMAAAAA\n",
       "ADAkeQAAAAAAAIYkDwAAAAAAwJDkAQAAAAAAGJI8AAAAAAAAQ5IHAAAAAABgSPIAAAAAAAAMSR4A\n",
       "AAAAAIAhyQMAAAAAADAkeQAAAAAAAIYkDwAAAAAAwJDkAQAAAAAAGJI8AAAAAAAAQ5IHAAAAAABg\n",
       "SPIAAAAAAAAMSR4AAAAAAIAhyQMAAAAAADAkeQAAAAAAAIYkDwAAAAAAwJDkAQAAAAAAGJI8AAAA\n",
       "AAAAQ5IHAAAAAABgSPIAAAAAAAAMSR4AAAAAAIAhyQMAAAAAADAkeQAAAAAAAIYkDwAAAAAAwJDk\n",
       "AQAAAAAAGJI8AAAAAAAAQ5IHAAAAAABgSPIAAAAAAAAMSR4AAAAAAIAhyQMAAAAAADAkeQAAAAAA\n",
       "AIYkDwAAAAAAwJDkAQAAAAAAGJI8AAAAAAAAQ5IHAAAAAABgSPIAAAAAAAAMSR4AAAAAAIAhyQMA\n",
       "AAAAADAkeQAAAAAAAIYkDwAAAAAAwJDkAQAAAAAAGJI8AAAAAAAAQ5IHAAAAAABgSPIAAAAAAAAM\n",
       "SR4AAAAAAIAhyQMAAAAAADAkeQAAAAAAAIYkDwAAAAAAwJDkAQAAAAAAGJI8AAAAAAAAQ5IHAAAA\n",
       "AABgSPIAAAAAAAAMSR4AAAAAAIAhyQMAAAAAADAkeQAAAAAAAIYkDwAAAAAAwJDkAQAAAAAAGJI8\n",
       "AAAAAAAAQ5IHAAAAAABgSPIAAAAAAAAMSR4AAAAAAIAhyQMAAAAAADAkeQAAAAAAAIYkDwAAAAAA\n",
       "wJDkAQAAAAAAGJI8AAAAAAAAQ5IHAAAAAABgSPIAAAAAAAAMSR4AAAAAAIAhyQMAAAAAADAkeQAA\n",
       "AAAAAIYkDwAAAAAAwJDkAQAAAAAAGJI8AAAAAAAAQwGBVBeQO1gzZQAAAABJRU5ErkJggg==\n",
       "\" transform=\"translate(1571, 144)\"/>\n",
       "</g>\n",
       "<defs>\n",
       "  <clipPath id=\"clip513\">\n",
       "    <rect x=\"4736\" y=\"143\" width=\"157\" height=\"1658\"/>\n",
       "  </clipPath>\n",
       "</defs>\n",
       "<g clip-path=\"url(#clip513)\">\n",
       "<image width=\"156\" height=\"1657\" xlink:href=\"data:image/png;base64,\n",
       "iVBORw0KGgoAAAANSUhEUgAAAJwAAAZ5CAYAAACv4X1GAAARwUlEQVR4nO3dwXEbMQAEQZxqk3Sk\n",
       "Tshp6OAshg92R6DH1FZRAMjn759/90Dk59N/AN9FcKQER0pwpARHSnCk9jyf/hP4JhaOlOBICY6U\n",
       "4EgJjtSOT6mELBwpwZESHCnBkRIcKcGR2iM5QnIjJThSgiMlOFKCI+XwnpSFIyU4UoIjJThSgiMl\n",
       "OFJe3pOycKQER0pwpARHSnCkJjlKciMlOFKCIyU4UoIjJThSe5zeE7JwpARHSnCkBEdKcKRcMSdl\n",
       "4UgJjpTgSAmOlOBICY6ULyQkZeFICY6U4EgJjpTgSPlxN1JyIyU4UoIjJThSgiMlOFIO70lZOFKC\n",
       "IyU4UoIjJThSXt6TsnCkBEdKcKQER0pwpARHyq8JkpIbKcGREhwpwZESHCk/7kbKwpESHCnBkRIc\n",
       "KcGREhwpL+9JWThSgiMlOFKCIyU4Ul7ek7JwpARHSnCkBEdKcKQER8qvCZKSGynBkRIcKcGREhwp\n",
       "V8xJWThSgiMlOFKCIyU4Uq6Yk7JwpARHSnCkBEdKcKQER8rhPSkLR0pwpARHSnCkBEfK4T0pC0dK\n",
       "cKQER0pwpARHSnCkJjlKciMlOFKCIyU4UoIjtcfpPSELR0pwpARHSnCkBEdKcKS8vCdl4UgJjpTg\n",
       "SAmOlOBIeXlPysKREhwpwZESHCnBkRIcKS/vScmNlOBICY6U4EgJjpTDe1IWjpTgSAmOlOBICY6U\n",
       "4Eh5eU/KwpESHCnBkRIcKcGRcnhPysKREhwpwZESHCnBkRIcKYf3pCwcKcGREhwpwZESHKk9Pz6m\n",
       "0rFwpARHSnCkBEdKcKQER8rhPSkLR0pwpARHSnCkBEfKy3tSFo6U4EgJjpTgSAmOlOBIObwnZeFI\n",
       "CY6U4EgJjpTgSDm8J2XhSAmOlOBICY6U4EgJjtQkR0lupARHSnCkBEdKcKQc3pOycKQER0pwpARH\n",
       "SnCkPIQmZeFICY6U4EgJjpTgSAmOlMN7UhaOlOBICY6U4EgJjtSOj6mELBwpwZESHCnBkRIcKcGR\n",
       "cnhPysKREhwpwZESHCnBkfIt5qTkRkpwpARHSnCkBEdKcKQc3pOycKQER0pwpARHSnCkfG0+KQtH\n",
       "SnCkBEdKcKQER0pwpBzek7JwpARHSnCkBEdKcKQc3pOycKQER0pwpARHSnCkBEdqj+QIyY2U4EgJ\n",
       "jpTgSAmOlMN7UhaOlOBICY6U4EgJjpTgSO3x9J6QhSMlOFKCIyU4UoIj5fCelIUjJThSgiMlOFKC\n",
       "IyU4Ur42n5SFIyU4UoIjJThSgiPl8J6UhSMlOFKCIyU4UoIjJThSvjaflNxICY6U4EgJjpTgSDm8\n",
       "J2XhSAmOlOBICY6U4Ej5lErKwpESHCnBkRIcKcGREhwp3w9HysKREhwpwZESHCnBkXJ4T8rCkRIc\n",
       "KcGREhwpwZESHCmH96QsHCnBkRIcKcGREhypHR9TCVk4UoIjJThSgiMlOFKCI+XH3UjJjZTgSAmO\n",
       "lOBICY6Ul/ekLBwpwZESHCnBkRIcKcGR8vKelIUjJThSgiMlOFKCI+XwnpSFIyU4UoIjJThSgiMl\n",
       "OFL+LULKwpESHCnBkRIcKcGRcsWclIUjJThSgiMlOFKCIyU4UpMcJbmREhwpwZESHCnBkXJ4T8rC\n",
       "kRIcKcGREhwpwZESHCkv70lZOFKCIyU4UoIjJThSe5zeE7JwpARHSnCkBEdKcKQER8rhPSkLR0pw\n",
       "pARHSnCkBEfKy3tSFo6U4EgJjpTgSAmOlOBIObwnZeFICY6U4EgJjpTgSPlxN1JyIyU4UoIjJThS\n",
       "giPlijkpC0dKcKQER0pwpARHSnCkXDEnZeFICY6U4EgJjpTgSDm8J2XhSAmOlOBICY6U4EgJjpTD\n",
       "e1IWjpTgSAmOlOBICY6UT6mkLBwpwZESHCnBkRIcKcGR2iM5QnIjJThSgiMlOFKCI7Xj6T0hC0dK\n",
       "cKQER0pwpARHSnCkfCEhKQtHSnCkBEdKcKQER8rLe1IWjpTgSAmOlOBICY6U4Eg5vCdl4UgJjpTg\n",
       "SAmOlOBIObwnZeFICY6U4EgJjpTgSAmOlH+LkLJwpARHSnCkBEdKcKT8uBspuZESHCnBkRIcKcGR\n",
       "Ehwph/ekLBwpwZESHCnBkRIcKd8PR8rCkRIcKcGREhwpwZESHCmH96QsHCnBkRIcKcGREhwpn1JJ\n",
       "WThSgiMlOFKCIyU4UoIj5U0DKQtHSnCkBEdKcKQER2rHx1RCFo6U4EgJjpTgSAmOlB93IyU3UoIj\n",
       "JThSgiMlOFKCI+XlPSkLR0pwpARHSnCkBEfKp1RSFo6U4EgJjpTgSAmOlOBI+X44UhaOlOBICY6U\n",
       "4EgJjpTDe1IWjpTgSAmOlOBICY6U4Ej5twgpC0dKcKQER0pwpARHyhVzUhaOlOBICY6U4EgJjpTg\n",
       "SE1ylORGSnCkBEdKcKQER8rhPSkLR0pwpARHSnCkBEdKcKS8vCdl4UgJjpTgSAmOlOBI+ZRKysKR\n",
       "EhwpwZESHCnBkRIcqT0eNRCycKQER0pwpARHSnCkHN6TsnCkBEdKcKQER0pwpARHyr9FSFk4UoIj\n",
       "JThSgiMlOFJ7JEdIbqQER0pwpARHSnCkBEfK4T0pC0dKcKQER0pwpARHyqdUUhaOlOBICY6U4EgJ\n",
       "jtR8iTklC0dKcKQER0pwpARHSnCkHN6TsnCkBEdKcKQER0pwpHxKJWXhSAmOlOBICY6U4EgJjpQ3\n",
       "DaQsHCnBkRIcKcGREhypSY6S3EgJjpTgSAmOlOBICY6UNw2kLBwpwZESHCnBkRIcKVfMSVk4UoIj\n",
       "JThSgiMlOFKCI+XwnpSFIyU4UoIjJThSgiPlUyopC0dKcKQER0pwpARHSnCk/FuElIUjJThSgiMl\n",
       "OFKCI+VTKikLR0pwpARHSnCkBEdKcKR2nvvpv4EvYuFICY6U4EgJjpTgSAmOlOBICY6U4EgJjpTg\n",
       "SAmOlDcNpCwcKcGREhwpwZESHClXzElZOFKCIyU4UoIjJThSgiO1c/xbhI6FIyU4UoIjJThSgiPl\n",
       "ijkpC0dKcKQER0pwpARHSnCkdh3eE7JwpARHSnCkBEdKcKRcMSdl4UgJjpTgSAmOlOBI7fp+OEIW\n",
       "jpTgSAmOlOBICY6U4Ei5Yk7KwpESHCnBkRIcKcGR2r0+pdKxcKQER0pwpARHSnCkBEdq57yf/hv4\n",
       "IhaOlOBICY6U4EgJjpQr5qQsHCnBkRIcKcGREhwpwZHybxFSFo6U4EgJjpTgSAmO1N7rijkdC0dK\n",
       "cKQER0pwpARHSnCkHN6TsnCkBEdKcKQER0pwpHYd3hOycKQER0pwpARHSnCkBEdq19fmE7JwpARH\n",
       "SnCkBEdKcKT85j0pC0dKcKQER0pwpARHSnCk9jq8J2ThSAmOlOBICY6U4Eh5eU/KwpESHCnBkRIc\n",
       "KcGREhwpbxpIWThSgiMlOFKCIyU4Ur4fjpSFIyU4UoIjJThSgiMlOFJ7vWkgZOFICY6U4EgJjpTg\n",
       "SLliTsrCkRIcKcGREhwpwZESHClvGkhZOFKCIyU4UoIjJThSrpiTsnCkBEdKcKQER0pwpFwxJ2Xh\n",
       "SAmOlOBICY6U4EgJjpQr5qQsHCnBkRIcKcGREhwpV8xJWThSgiMlOFKCIyU4UoIjtevfIoQsHCnB\n",
       "kRIcKcGREhyp3ePlPR0LR0pwpARHSnCkBEdKcKQc3pOycKQER0pwpARHSnCkvLwnZeFICY6U4EgJ\n",
       "jpTgSAmOlDcNpCwcKcGREhwpwZESHClXzElZOFKCIyU4UoIjJThSgiPlTQMpC0dKcKQER0pwpARH\n",
       "ave6Yk7HwpESHCnBkRIcKcGREhyp3ePwno6FIyU4UoIjJThSgiPlijkpC0dKcKQER0pwpARHSnCk\n",
       "vGkgZeFICY6U4EgJjpTgSLliTsrCkRIcKcGREhwpwZESHClvGkhZOFKCIyU4UoIjJThSrpiTsnCk\n",
       "BEdKcKQER0pwpFwxJ2XhSAmOlOBICY6U4EgJjpQr5qQsHCnBkRIcKcGREhwpV8xJWThSgiMlOFKC\n",
       "IyU4UoIj5U0DKQtHSnCkBEdKcKQER8oVc1IWjpTgSAmOlOBICY6U4Eh500DKwpESHCnBkRIcKcGR\n",
       "2nV4T8jCkRIcKcGREhwpwZESHKm9Xt4TsnCkBEdKcKQER0pwpFwxJ2XhSAmOlOBICY6U4EgJjpQ3\n",
       "DaQsHCnBkRIcKcGREhwpV8xJWThSgiMlOFKCIyU4UoIj5U0DKQtHSnCkBEdKcKQER8oVc1IWjpTg\n",
       "SAmOlOBICY6U4Eh500DKwpESHCnBkRIcKcGRcsWclIUjJThSgiMlOFKCIyU4Ut40kLJwpARHSnCk\n",
       "BEdKcKT2OrwnZOFICY6U4EgJjpTgSAmO1K6X94QsHCnBkRIcKcGREhwpV8xJWThSgiMlOFKCIyU4\n",
       "Uq6Yk7JwpARHSnCkBEdKcKQER8oVc1IWjpTgSAmOlOBICY6UK+akLBwpwZESHCnBkRIcKcGR8qaB\n",
       "lIUjJThSgiMlOFKCI+WKOSkLR0pwpARHSnCkBEdKcKS8aSBl4UgJjpTgSAmOlOBIuWJOysKREhwp\n",
       "wZESHCnBkRIcKW8aSFk4UoIjJThSgiMlOFKumJOycKQER0pwpARHSnCkBEfKmwZSFo6U4EgJjpTg\n",
       "SAmOlMN7UhaOlOBICY6U4EgJjpTgSO0eh/d0LBwpwZESHCnBkRIcqb0O7wlZOFKCIyU4UoIjJThS\n",
       "giPlTQMpC0dKcKQER0pwpARHaq8r5oQsHCnBkRIcKcGREhwpwZFyeE/KwpESHCnBkRIcKcGR8imV\n",
       "lIUjJThSgiMlOFKCIyU4Ut40kLJwpARHSnCkBEdKcKQc3pOycKQER0pwpARHSnCk/LgbKQtHSnCk\n",
       "BEdKcKQER0pwpHavK+Z0LBwpwZESHCnBkRIcqd3j8J6OhSMlOFKCIyU4UoIjJThSex3eE7JwpARH\n",
       "SnCkBEdKcKR8PxwpC0dKcKQER0pwpARHSnCkvGkgZeFICY6U4EgJjpTgSLliTsrCkRIcKcGREhwp\n",
       "wZESHClvGkhZOFKCIyU4UoIjJThSfvOelIUjJThSgiMlOFKCIyU4UrvHmwY6Fo6U4EgJjpTgSAmO\n",
       "lMN7UhaOlOBICY6U4EgJjpTgSHl5T8rCkRIcKcGREhwpwZFyxZyUhSMlOFKCIyU4UoIjJThS3jSQ\n",
       "snCkBEdKcKQER0pwpFwxJ2XhSAmOlOBICY6U4EgJjtRebxoIWThSgiMlOFKCIyU4Ug7vSVk4UoIj\n",
       "JThSgiMlOFIeQpOycKQER0pwpARHSnCkBEdq97piTsfCkRIcKcGREhwpwZHaexze07FwpARHSnCk\n",
       "BEdKcKQER8rLe1IWjpTgSAmOlOBICY7UXlfMCVk4UoIjJThSgiMlOFKCI7XrTQMhC0dKcKQER0pw\n",
       "pARHytfmk7JwpARHSnCkBEdKcKQER8rX5pOycKQER0pwpARHSnCkHN6TsnCkBEdKcKQER0pwpARH\n",
       "yst7UhaOlOBICY6U4EgJjpSvzSdl4UgJjpTgSAmOlOBICY6U37wnZeFICY6U4EgJjpTgSO11xZyQ\n",
       "hSMlOFKCIyU4UoIjJThSDu9JWThSgiMlOFKCIyU4Ul7ek7JwpARHSnCkBEdKcKQER8rX5pOycKQE\n",
       "R0pwpARHSnCk/OY9KQtHSnCkBEdKcKQER0pwpPxbhJSFIyU4UoIjJThSgiPl++FIWThSgiMlOFKC\n",
       "IyU4Un7cjZSFIyU4UoIjJThSgiMlOFK+Np+UhSMlOFKCIyU4UoIj5Yo5KQtHSnCkBEdKcKQER0pw\n",
       "pLxpIGXhSAmOlOBICY6U4Ej5FnNSFo6U4EgJjpTgSAmOlOBIedNAysKREhwpwZESHCnBkXJ4T8rC\n",
       "kRIcKcGREhwpwZESHKm95/fTfwNfxMKREhwpwZESHCnBkXJ4T8rCkRIcKcGREhwpwZESHCkv70lZ\n",
       "OFKCIyU4UoIjJThSftyNlIUjJThSgiMlOFKCIyU4Unuvl/d0LBwpwZESHCnBkRIcKS/vSVk4UoIj\n",
       "JThSgiMlOFKCI+XwnpSFIyU4UoIjJThSgiPlx91IWThSgiMlOFKCIyU4UoIj5fCelIUjJThSgiMl\n",
       "OFKCI+VTKikLR0pwpARHSnCkBEfqP5MaaNh04LtAAAAAAElFTkSuQmCC\n",
       "\" transform=\"translate(4737, 144)\"/>\n",
       "</g>\n",
       "<path clip-path=\"url(#clip510)\" d=\"M4970.76 1715.18 L5000.43 1715.18 L5000.43 1719.11 L4970.76 1719.11 L4970.76 1715.18 Z\" fill=\"#000000\" fill-rule=\"evenodd\" fill-opacity=\"1\" /><path clip-path=\"url(#clip510)\" d=\"M5020.52 1700.53 Q5016.91 1700.53 5015.08 1704.09 Q5013.28 1707.63 5013.28 1714.76 Q5013.28 1721.87 5015.08 1725.43 Q5016.91 1728.97 5020.52 1728.97 Q5024.16 1728.97 5025.96 1725.43 Q5027.79 1721.87 5027.79 1714.76 Q5027.79 1707.63 5025.96 1704.09 Q5024.16 1700.53 5020.52 1700.53 M5020.52 1696.82 Q5026.33 1696.82 5029.39 1701.43 Q5032.47 1706.01 5032.47 1714.76 Q5032.47 1723.49 5029.39 1728.1 Q5026.33 1732.68 5020.52 1732.68 Q5014.71 1732.68 5011.64 1728.1 Q5008.58 1723.49 5008.58 1714.76 Q5008.58 1706.01 5011.64 1701.43 Q5014.71 1696.82 5020.52 1696.82 Z\" fill=\"#000000\" fill-rule=\"evenodd\" fill-opacity=\"1\" /><path clip-path=\"url(#clip510)\" d=\"M5040.69 1726.13 L5045.57 1726.13 L5045.57 1732.01 L5040.69 1732.01 L5040.69 1726.13 Z\" fill=\"#000000\" fill-rule=\"evenodd\" fill-opacity=\"1\" /><path clip-path=\"url(#clip510)\" d=\"M5059.78 1728.07 L5076.1 1728.07 L5076.1 1732.01 L5054.16 1732.01 L5054.16 1728.07 Q5056.82 1725.32 5061.4 1720.69 Q5066.01 1716.04 5067.19 1714.69 Q5069.44 1712.17 5070.32 1710.43 Q5071.22 1708.67 5071.22 1706.98 Q5071.22 1704.23 5069.27 1702.49 Q5067.35 1700.76 5064.25 1700.76 Q5062.05 1700.76 5059.6 1701.52 Q5057.17 1702.29 5054.39 1703.84 L5054.39 1699.11 Q5057.21 1697.98 5059.67 1697.4 Q5062.12 1696.82 5064.16 1696.82 Q5069.53 1696.82 5072.72 1699.51 Q5075.92 1702.19 5075.92 1706.68 Q5075.92 1708.81 5075.11 1710.73 Q5074.32 1712.63 5072.21 1715.22 Q5071.63 1715.9 5068.53 1719.11 Q5065.43 1722.31 5059.78 1728.07 Z\" fill=\"#000000\" fill-rule=\"evenodd\" fill-opacity=\"1\" /><path clip-path=\"url(#clip510)\" d=\"M5085.5 1697.45 L5107.35 1697.45 L5107.35 1701.38 L5090.18 1701.38 L5090.18 1711.61 L5106.63 1711.61 L5106.63 1715.55 L5090.18 1715.55 L5090.18 1728.07 L5107.77 1728.07 L5107.77 1732.01 L5085.5 1732.01 L5085.5 1697.45 Z\" fill=\"#000000\" fill-rule=\"evenodd\" fill-opacity=\"1\" /><path clip-path=\"url(#clip510)\" d=\"M5115.82 1715.18 L5145.5 1715.18 L5145.5 1719.11 L5115.82 1719.11 L5115.82 1715.18 Z\" fill=\"#000000\" fill-rule=\"evenodd\" fill-opacity=\"1\" /><path clip-path=\"url(#clip510)\" d=\"M5156.4 1728.07 L5164.04 1728.07 L5164.04 1701.71 L5155.73 1703.37 L5155.73 1699.11 L5164 1697.45 L5168.67 1697.45 L5168.67 1728.07 L5176.31 1728.07 L5176.31 1732.01 L5156.4 1732.01 L5156.4 1728.07 Z\" fill=\"#000000\" fill-rule=\"evenodd\" fill-opacity=\"1\" /><path clip-path=\"url(#clip510)\" d=\"M5185.8 1697.45 L5204.16 1697.45 L5204.16 1701.38 L5190.08 1701.38 L5190.08 1709.85 Q5191.1 1709.51 5192.12 1709.35 Q5193.14 1709.16 5194.16 1709.16 Q5199.94 1709.16 5203.32 1712.33 Q5206.7 1715.5 5206.7 1720.92 Q5206.7 1726.5 5203.23 1729.6 Q5199.76 1732.68 5193.44 1732.68 Q5191.26 1732.68 5189 1732.31 Q5186.75 1731.94 5184.34 1731.2 L5184.34 1726.5 Q5186.43 1727.63 5188.65 1728.19 Q5190.87 1728.74 5193.35 1728.74 Q5197.35 1728.74 5199.69 1726.64 Q5202.03 1724.53 5202.03 1720.92 Q5202.03 1717.31 5199.69 1715.2 Q5197.35 1713.1 5193.35 1713.1 Q5191.47 1713.1 5189.6 1713.51 Q5187.75 1713.93 5185.8 1714.81 L5185.8 1697.45 Z\" fill=\"#000000\" fill-rule=\"evenodd\" fill-opacity=\"1\" /><path clip-path=\"url(#clip510)\" d=\"M4970.76 1528.63 L5000.43 1528.63 L5000.43 1532.56 L4970.76 1532.56 L4970.76 1528.63 Z\" fill=\"#000000\" fill-rule=\"evenodd\" fill-opacity=\"1\" /><path clip-path=\"url(#clip510)\" d=\"M5020.52 1513.98 Q5016.91 1513.98 5015.08 1517.54 Q5013.28 1521.08 5013.28 1528.21 Q5013.28 1535.32 5015.08 1538.88 Q5016.91 1542.43 5020.52 1542.43 Q5024.16 1542.43 5025.96 1538.88 Q5027.79 1535.32 5027.79 1528.21 Q5027.79 1521.08 5025.96 1517.54 Q5024.16 1513.98 5020.52 1513.98 M5020.52 1510.27 Q5026.33 1510.27 5029.39 1514.88 Q5032.47 1519.46 5032.47 1528.21 Q5032.47 1536.94 5029.39 1541.55 Q5026.33 1546.13 5020.52 1546.13 Q5014.71 1546.13 5011.64 1541.55 Q5008.58 1536.94 5008.58 1528.21 Q5008.58 1519.46 5011.64 1514.88 Q5014.71 1510.27 5020.52 1510.27 Z\" fill=\"#000000\" fill-rule=\"evenodd\" fill-opacity=\"1\" /><path clip-path=\"url(#clip510)\" d=\"M5040.69 1539.58 L5045.57 1539.58 L5045.57 1545.46 L5040.69 1545.46 L5040.69 1539.58 Z\" fill=\"#000000\" fill-rule=\"evenodd\" fill-opacity=\"1\" /><path clip-path=\"url(#clip510)\" d=\"M5056.57 1541.52 L5064.2 1541.52 L5064.2 1515.16 L5055.89 1516.82 L5055.89 1512.56 L5064.16 1510.9 L5068.83 1510.9 L5068.83 1541.52 L5076.47 1541.52 L5076.47 1545.46 L5056.57 1545.46 L5056.57 1541.52 Z\" fill=\"#000000\" fill-rule=\"evenodd\" fill-opacity=\"1\" /><path clip-path=\"url(#clip510)\" d=\"M5085.96 1510.9 L5104.32 1510.9 L5104.32 1514.83 L5090.25 1514.83 L5090.25 1523.3 Q5091.26 1522.96 5092.28 1522.8 Q5093.3 1522.61 5094.32 1522.61 Q5100.11 1522.61 5103.49 1525.78 Q5106.87 1528.95 5106.87 1534.37 Q5106.87 1539.95 5103.39 1543.05 Q5099.92 1546.13 5093.6 1546.13 Q5091.43 1546.13 5089.16 1545.76 Q5086.91 1545.39 5084.51 1544.65 L5084.51 1539.95 Q5086.59 1541.08 5088.81 1541.64 Q5091.03 1542.19 5093.51 1542.19 Q5097.51 1542.19 5099.85 1540.09 Q5102.19 1537.98 5102.19 1534.37 Q5102.19 1530.76 5099.85 1528.65 Q5097.51 1526.55 5093.51 1526.55 Q5091.63 1526.55 5089.76 1526.96 Q5087.91 1527.38 5085.96 1528.26 L5085.96 1510.9 Z\" fill=\"#000000\" fill-rule=\"evenodd\" fill-opacity=\"1\" /><path clip-path=\"url(#clip510)\" d=\"M5115.66 1510.9 L5137.51 1510.9 L5137.51 1514.83 L5120.34 1514.83 L5120.34 1525.06 L5136.8 1525.06 L5136.8 1529 L5120.34 1529 L5120.34 1541.52 L5137.93 1541.52 L5137.93 1545.46 L5115.66 1545.46 L5115.66 1510.9 Z\" fill=\"#000000\" fill-rule=\"evenodd\" fill-opacity=\"1\" /><path clip-path=\"url(#clip510)\" d=\"M5145.99 1528.63 L5175.66 1528.63 L5175.66 1532.56 L5145.99 1532.56 L5145.99 1528.63 Z\" fill=\"#000000\" fill-rule=\"evenodd\" fill-opacity=\"1\" /><path clip-path=\"url(#clip510)\" d=\"M5186.56 1541.52 L5194.2 1541.52 L5194.2 1515.16 L5185.89 1516.82 L5185.89 1512.56 L5194.16 1510.9 L5198.83 1510.9 L5198.83 1541.52 L5206.47 1541.52 L5206.47 1545.46 L5186.56 1545.46 L5186.56 1541.52 Z\" fill=\"#000000\" fill-rule=\"evenodd\" fill-opacity=\"1\" /><path clip-path=\"url(#clip510)\" d=\"M5215.96 1510.9 L5234.32 1510.9 L5234.32 1514.83 L5220.25 1514.83 L5220.25 1523.3 Q5221.26 1522.96 5222.28 1522.8 Q5223.3 1522.61 5224.32 1522.61 Q5230.11 1522.61 5233.49 1525.78 Q5236.87 1528.95 5236.87 1534.37 Q5236.87 1539.95 5233.39 1543.05 Q5229.92 1546.13 5223.6 1546.13 Q5221.43 1546.13 5219.16 1545.76 Q5216.91 1545.39 5214.5 1544.65 L5214.5 1539.95 Q5216.59 1541.08 5218.81 1541.64 Q5221.03 1542.19 5223.51 1542.19 Q5227.51 1542.19 5229.85 1540.09 Q5232.19 1537.98 5232.19 1534.37 Q5232.19 1530.76 5229.85 1528.65 Q5227.51 1526.55 5223.51 1526.55 Q5221.63 1526.55 5219.76 1526.96 Q5217.91 1527.38 5215.96 1528.26 L5215.96 1510.9 Z\" fill=\"#000000\" fill-rule=\"evenodd\" fill-opacity=\"1\" /><path clip-path=\"url(#clip510)\" d=\"M4970.76 1342.08 L5000.43 1342.08 L5000.43 1346.01 L4970.76 1346.01 L4970.76 1342.08 Z\" fill=\"#000000\" fill-rule=\"evenodd\" fill-opacity=\"1\" /><path clip-path=\"url(#clip510)\" d=\"M5020.52 1327.43 Q5016.91 1327.43 5015.08 1330.99 Q5013.28 1334.53 5013.28 1341.66 Q5013.28 1348.77 5015.08 1352.33 Q5016.91 1355.88 5020.52 1355.88 Q5024.16 1355.88 5025.96 1352.33 Q5027.79 1348.77 5027.79 1341.66 Q5027.79 1334.53 5025.96 1330.99 Q5024.16 1327.43 5020.52 1327.43 M5020.52 1323.72 Q5026.33 1323.72 5029.39 1328.33 Q5032.47 1332.91 5032.47 1341.66 Q5032.47 1350.39 5029.39 1355 Q5026.33 1359.58 5020.52 1359.58 Q5014.71 1359.58 5011.64 1355 Q5008.58 1350.39 5008.58 1341.66 Q5008.58 1332.91 5011.64 1328.33 Q5014.71 1323.72 5020.52 1323.72 Z\" fill=\"#000000\" fill-rule=\"evenodd\" fill-opacity=\"1\" /><path clip-path=\"url(#clip510)\" d=\"M5040.69 1353.03 L5045.57 1353.03 L5045.57 1358.91 L5040.69 1358.91 L5040.69 1353.03 Z\" fill=\"#000000\" fill-rule=\"evenodd\" fill-opacity=\"1\" /><path clip-path=\"url(#clip510)\" d=\"M5056.57 1354.97 L5064.2 1354.97 L5064.2 1328.61 L5055.89 1330.27 L5055.89 1326.01 L5064.16 1324.35 L5068.83 1324.35 L5068.83 1354.97 L5076.47 1354.97 L5076.47 1358.91 L5056.57 1358.91 L5056.57 1354.97 Z\" fill=\"#000000\" fill-rule=\"evenodd\" fill-opacity=\"1\" /><path clip-path=\"url(#clip510)\" d=\"M5085.5 1324.35 L5107.35 1324.35 L5107.35 1328.28 L5090.18 1328.28 L5090.18 1338.51 L5106.63 1338.51 L5106.63 1342.45 L5090.18 1342.45 L5090.18 1354.97 L5107.77 1354.97 L5107.77 1358.91 L5085.5 1358.91 L5085.5 1324.35 Z\" fill=\"#000000\" fill-rule=\"evenodd\" fill-opacity=\"1\" /><path clip-path=\"url(#clip510)\" d=\"M5115.82 1342.08 L5145.5 1342.08 L5145.5 1346.01 L5115.82 1346.01 L5115.82 1342.08 Z\" fill=\"#000000\" fill-rule=\"evenodd\" fill-opacity=\"1\" /><path clip-path=\"url(#clip510)\" d=\"M5156.4 1354.97 L5164.04 1354.97 L5164.04 1328.61 L5155.73 1330.27 L5155.73 1326.01 L5164 1324.35 L5168.67 1324.35 L5168.67 1354.97 L5176.31 1354.97 L5176.31 1358.91 L5156.4 1358.91 L5156.4 1354.97 Z\" fill=\"#000000\" fill-rule=\"evenodd\" fill-opacity=\"1\" /><path clip-path=\"url(#clip510)\" d=\"M5185.8 1324.35 L5204.16 1324.35 L5204.16 1328.28 L5190.08 1328.28 L5190.08 1336.75 Q5191.1 1336.41 5192.12 1336.25 Q5193.14 1336.06 5194.16 1336.06 Q5199.94 1336.06 5203.32 1339.23 Q5206.7 1342.4 5206.7 1347.82 Q5206.7 1353.4 5203.23 1356.5 Q5199.76 1359.58 5193.44 1359.58 Q5191.26 1359.58 5189 1359.21 Q5186.75 1358.84 5184.34 1358.1 L5184.34 1353.4 Q5186.43 1354.53 5188.65 1355.09 Q5190.87 1355.64 5193.35 1355.64 Q5197.35 1355.64 5199.69 1353.54 Q5202.03 1351.43 5202.03 1347.82 Q5202.03 1344.21 5199.69 1342.1 Q5197.35 1340 5193.35 1340 Q5191.47 1340 5189.6 1340.41 Q5187.75 1340.83 5185.8 1341.71 L5185.8 1324.35 Z\" fill=\"#000000\" fill-rule=\"evenodd\" fill-opacity=\"1\" /><path clip-path=\"url(#clip510)\" d=\"M4970.76 1155.53 L5000.43 1155.53 L5000.43 1159.46 L4970.76 1159.46 L4970.76 1155.53 Z\" fill=\"#000000\" fill-rule=\"evenodd\" fill-opacity=\"1\" /><path clip-path=\"url(#clip510)\" d=\"M5020.52 1140.88 Q5016.91 1140.88 5015.08 1144.44 Q5013.28 1147.98 5013.28 1155.11 Q5013.28 1162.22 5015.08 1165.78 Q5016.91 1169.33 5020.52 1169.33 Q5024.16 1169.33 5025.96 1165.78 Q5027.79 1162.22 5027.79 1155.11 Q5027.79 1147.98 5025.96 1144.44 Q5024.16 1140.88 5020.52 1140.88 M5020.52 1137.17 Q5026.33 1137.17 5029.39 1141.78 Q5032.47 1146.36 5032.47 1155.11 Q5032.47 1163.84 5029.39 1168.45 Q5026.33 1173.03 5020.52 1173.03 Q5014.71 1173.03 5011.64 1168.45 Q5008.58 1163.84 5008.58 1155.11 Q5008.58 1146.36 5011.64 1141.78 Q5014.71 1137.17 5020.52 1137.17 Z\" fill=\"#000000\" fill-rule=\"evenodd\" fill-opacity=\"1\" /><path clip-path=\"url(#clip510)\" d=\"M5040.69 1166.48 L5045.57 1166.48 L5045.57 1172.36 L5040.69 1172.36 L5040.69 1166.48 Z\" fill=\"#000000\" fill-rule=\"evenodd\" fill-opacity=\"1\" /><path clip-path=\"url(#clip510)\" d=\"M5055.8 1137.8 L5074.16 1137.8 L5074.16 1141.73 L5060.08 1141.73 L5060.08 1150.21 Q5061.1 1149.86 5062.12 1149.7 Q5063.14 1149.51 5064.16 1149.51 Q5069.95 1149.51 5073.32 1152.68 Q5076.7 1155.85 5076.7 1161.27 Q5076.7 1166.85 5073.23 1169.95 Q5069.76 1173.03 5063.44 1173.03 Q5061.26 1173.03 5059 1172.66 Q5056.75 1172.29 5054.34 1171.55 L5054.34 1166.85 Q5056.43 1167.98 5058.65 1168.54 Q5060.87 1169.09 5063.35 1169.09 Q5067.35 1169.09 5069.69 1166.99 Q5072.03 1164.88 5072.03 1161.27 Q5072.03 1157.66 5069.69 1155.55 Q5067.35 1153.45 5063.35 1153.45 Q5061.47 1153.45 5059.6 1153.86 Q5057.75 1154.28 5055.8 1155.16 L5055.8 1137.8 Z\" fill=\"#000000\" fill-rule=\"evenodd\" fill-opacity=\"1\" /><path clip-path=\"url(#clip510)\" d=\"M5085.5 1137.8 L5107.35 1137.8 L5107.35 1141.73 L5090.18 1141.73 L5090.18 1151.96 L5106.63 1151.96 L5106.63 1155.9 L5090.18 1155.9 L5090.18 1168.42 L5107.77 1168.42 L5107.77 1172.36 L5085.5 1172.36 L5085.5 1137.8 Z\" fill=\"#000000\" fill-rule=\"evenodd\" fill-opacity=\"1\" /><path clip-path=\"url(#clip510)\" d=\"M5115.82 1155.53 L5145.5 1155.53 L5145.5 1159.46 L5115.82 1159.46 L5115.82 1155.53 Z\" fill=\"#000000\" fill-rule=\"evenodd\" fill-opacity=\"1\" /><path clip-path=\"url(#clip510)\" d=\"M5156.4 1168.42 L5164.04 1168.42 L5164.04 1142.06 L5155.73 1143.72 L5155.73 1139.46 L5164 1137.8 L5168.67 1137.8 L5168.67 1168.42 L5176.31 1168.42 L5176.31 1172.36 L5156.4 1172.36 L5156.4 1168.42 Z\" fill=\"#000000\" fill-rule=\"evenodd\" fill-opacity=\"1\" /><path clip-path=\"url(#clip510)\" d=\"M5196.33 1153.21 Q5193.19 1153.21 5191.33 1155.37 Q5189.5 1157.52 5189.5 1161.27 Q5189.5 1165 5191.33 1167.17 Q5193.19 1169.33 5196.33 1169.33 Q5199.48 1169.33 5201.31 1167.17 Q5203.16 1165 5203.16 1161.27 Q5203.16 1157.52 5201.31 1155.37 Q5199.48 1153.21 5196.33 1153.21 M5205.62 1138.56 L5205.62 1142.82 Q5203.86 1141.99 5202.05 1141.55 Q5200.27 1141.11 5198.51 1141.11 Q5193.88 1141.11 5191.43 1144.23 Q5189 1147.36 5188.65 1153.68 Q5190.01 1151.66 5192.07 1150.6 Q5194.13 1149.51 5196.61 1149.51 Q5201.82 1149.51 5204.83 1152.68 Q5207.86 1155.83 5207.86 1161.27 Q5207.86 1166.59 5204.71 1169.81 Q5201.56 1173.03 5196.33 1173.03 Q5190.34 1173.03 5187.17 1168.45 Q5184 1163.84 5184 1155.11 Q5184 1146.92 5187.88 1142.06 Q5191.77 1137.17 5198.32 1137.17 Q5200.08 1137.17 5201.87 1137.52 Q5203.67 1137.87 5205.62 1138.56 Z\" fill=\"#000000\" fill-rule=\"evenodd\" fill-opacity=\"1\" /><path clip-path=\"url(#clip510)\" d=\"M4982.7 954.327 Q4979.09 954.327 4977.26 957.891 Q4975.45 961.433 4975.45 968.563 Q4975.45 975.669 4977.26 979.234 Q4979.09 982.776 4982.7 982.776 Q4986.33 982.776 4988.14 979.234 Q4989.97 975.669 4989.97 968.563 Q4989.97 961.433 4988.14 957.891 Q4986.33 954.327 4982.7 954.327 M4982.7 950.623 Q4988.51 950.623 4991.57 955.229 Q4994.64 959.813 4994.64 968.563 Q4994.64 977.289 4991.57 981.896 Q4988.51 986.479 4982.7 986.479 Q4976.89 986.479 4973.81 981.896 Q4970.76 977.289 4970.76 968.563 Q4970.76 959.813 4973.81 955.229 Q4976.89 950.623 4982.7 950.623 Z\" fill=\"#000000\" fill-rule=\"evenodd\" fill-opacity=\"1\" /><path clip-path=\"url(#clip510)\" d=\"M4982.7 767.777 Q4979.09 767.777 4977.26 771.342 Q4975.45 774.883 4975.45 782.013 Q4975.45 789.119 4977.26 792.684 Q4979.09 796.226 4982.7 796.226 Q4986.33 796.226 4988.14 792.684 Q4989.97 789.119 4989.97 782.013 Q4989.97 774.883 4988.14 771.342 Q4986.33 767.777 4982.7 767.777 M4982.7 764.073 Q4988.51 764.073 4991.57 768.68 Q4994.64 773.263 4994.64 782.013 Q4994.64 790.74 4991.57 795.346 Q4988.51 799.929 4982.7 799.929 Q4976.89 799.929 4973.81 795.346 Q4970.76 790.74 4970.76 782.013 Q4970.76 773.263 4973.81 768.68 Q4976.89 764.073 4982.7 764.073 Z\" fill=\"#000000\" fill-rule=\"evenodd\" fill-opacity=\"1\" /><path clip-path=\"url(#clip510)\" d=\"M5002.86 793.379 L5007.75 793.379 L5007.75 799.258 L5002.86 799.258 L5002.86 793.379 Z\" fill=\"#000000\" fill-rule=\"evenodd\" fill-opacity=\"1\" /><path clip-path=\"url(#clip510)\" d=\"M5017.98 764.698 L5036.33 764.698 L5036.33 768.633 L5022.26 768.633 L5022.26 777.105 Q5023.28 776.758 5024.3 776.596 Q5025.32 776.411 5026.33 776.411 Q5032.12 776.411 5035.5 779.582 Q5038.88 782.754 5038.88 788.17 Q5038.88 793.749 5035.41 796.851 Q5031.94 799.929 5025.62 799.929 Q5023.44 799.929 5021.17 799.559 Q5018.93 799.189 5016.52 798.448 L5016.52 793.749 Q5018.6 794.883 5020.83 795.439 Q5023.05 795.994 5025.52 795.994 Q5029.53 795.994 5031.87 793.888 Q5034.2 791.781 5034.2 788.17 Q5034.2 784.559 5031.87 782.453 Q5029.53 780.346 5025.52 780.346 Q5023.65 780.346 5021.77 780.763 Q5019.92 781.18 5017.98 782.059 L5017.98 764.698 Z\" fill=\"#000000\" fill-rule=\"evenodd\" fill-opacity=\"1\" /><path clip-path=\"url(#clip510)\" d=\"M5047.68 764.698 L5069.53 764.698 L5069.53 768.633 L5052.35 768.633 L5052.35 778.865 L5068.81 778.865 L5068.81 782.8 L5052.35 782.8 L5052.35 795.323 L5069.95 795.323 L5069.95 799.258 L5047.68 799.258 L5047.68 764.698 Z\" fill=\"#000000\" fill-rule=\"evenodd\" fill-opacity=\"1\" /><path clip-path=\"url(#clip510)\" d=\"M5078 782.429 L5107.68 782.429 L5107.68 786.365 L5078 786.365 L5078 782.429 Z\" fill=\"#000000\" fill-rule=\"evenodd\" fill-opacity=\"1\" /><path clip-path=\"url(#clip510)\" d=\"M5118.58 795.323 L5126.22 795.323 L5126.22 768.957 L5117.91 770.624 L5117.91 766.365 L5126.17 764.698 L5130.85 764.698 L5130.85 795.323 L5138.49 795.323 L5138.49 799.258 L5118.58 799.258 L5118.58 795.323 Z\" fill=\"#000000\" fill-rule=\"evenodd\" fill-opacity=\"1\" /><path clip-path=\"url(#clip510)\" d=\"M5158.51 780.115 Q5155.36 780.115 5153.51 782.267 Q5151.68 784.42 5151.68 788.17 Q5151.68 791.897 5153.51 794.073 Q5155.36 796.226 5158.51 796.226 Q5161.66 796.226 5163.49 794.073 Q5165.34 791.897 5165.34 788.17 Q5165.34 784.42 5163.49 782.267 Q5161.66 780.115 5158.51 780.115 M5167.79 765.462 L5167.79 769.721 Q5166.03 768.888 5164.23 768.448 Q5162.44 768.008 5160.69 768.008 Q5156.06 768.008 5153.6 771.133 Q5151.17 774.258 5150.82 780.578 Q5152.19 778.564 5154.25 777.499 Q5156.31 776.411 5158.79 776.411 Q5164 776.411 5167 779.582 Q5170.04 782.73 5170.04 788.17 Q5170.04 793.494 5166.89 796.712 Q5163.74 799.929 5158.51 799.929 Q5152.51 799.929 5149.34 795.346 Q5146.17 790.74 5146.17 782.013 Q5146.17 773.818 5150.06 768.957 Q5153.95 764.073 5160.5 764.073 Q5162.26 764.073 5164.04 764.42 Q5165.85 764.768 5167.79 765.462 Z\" fill=\"#000000\" fill-rule=\"evenodd\" fill-opacity=\"1\" /><path clip-path=\"url(#clip510)\" d=\"M4982.7 581.227 Q4979.09 581.227 4977.26 584.792 Q4975.45 588.333 4975.45 595.463 Q4975.45 602.569 4977.26 606.134 Q4979.09 609.676 4982.7 609.676 Q4986.33 609.676 4988.14 606.134 Q4989.97 602.569 4989.97 595.463 Q4989.97 588.333 4988.14 584.792 Q4986.33 581.227 4982.7 581.227 M4982.7 577.523 Q4988.51 577.523 4991.57 582.13 Q4994.64 586.713 4994.64 595.463 Q4994.64 604.19 4991.57 608.796 Q4988.51 613.38 4982.7 613.38 Q4976.89 613.38 4973.81 608.796 Q4970.76 604.19 4970.76 595.463 Q4970.76 586.713 4973.81 582.13 Q4976.89 577.523 4982.7 577.523 Z\" fill=\"#000000\" fill-rule=\"evenodd\" fill-opacity=\"1\" /><path clip-path=\"url(#clip510)\" d=\"M5002.86 606.829 L5007.75 606.829 L5007.75 612.708 L5002.86 612.708 L5002.86 606.829 Z\" fill=\"#000000\" fill-rule=\"evenodd\" fill-opacity=\"1\" /><path clip-path=\"url(#clip510)\" d=\"M5018.74 608.773 L5026.38 608.773 L5026.38 582.408 L5018.07 584.074 L5018.07 579.815 L5026.33 578.148 L5031.01 578.148 L5031.01 608.773 L5038.65 608.773 L5038.65 612.708 L5018.74 612.708 L5018.74 608.773 Z\" fill=\"#000000\" fill-rule=\"evenodd\" fill-opacity=\"1\" /><path clip-path=\"url(#clip510)\" d=\"M5047.68 578.148 L5069.53 578.148 L5069.53 582.083 L5052.35 582.083 L5052.35 592.315 L5068.81 592.315 L5068.81 596.25 L5052.35 596.25 L5052.35 608.773 L5069.95 608.773 L5069.95 612.708 L5047.68 612.708 L5047.68 578.148 Z\" fill=\"#000000\" fill-rule=\"evenodd\" fill-opacity=\"1\" /><path clip-path=\"url(#clip510)\" d=\"M5078 595.88 L5107.68 595.88 L5107.68 599.815 L5078 599.815 L5078 595.88 Z\" fill=\"#000000\" fill-rule=\"evenodd\" fill-opacity=\"1\" /><path clip-path=\"url(#clip510)\" d=\"M5118.58 608.773 L5126.22 608.773 L5126.22 582.408 L5117.91 584.074 L5117.91 579.815 L5126.17 578.148 L5130.85 578.148 L5130.85 608.773 L5138.49 608.773 L5138.49 612.708 L5118.58 612.708 L5118.58 608.773 Z\" fill=\"#000000\" fill-rule=\"evenodd\" fill-opacity=\"1\" /><path clip-path=\"url(#clip510)\" d=\"M5147.98 578.148 L5166.33 578.148 L5166.33 582.083 L5152.26 582.083 L5152.26 590.556 Q5153.28 590.208 5154.3 590.046 Q5155.32 589.861 5156.33 589.861 Q5162.12 589.861 5165.5 593.032 Q5168.88 596.204 5168.88 601.62 Q5168.88 607.199 5165.41 610.301 Q5161.94 613.38 5155.62 613.38 Q5153.44 613.38 5151.17 613.009 Q5148.93 612.639 5146.52 611.898 L5146.52 607.199 Q5148.6 608.333 5150.82 608.889 Q5153.05 609.444 5155.52 609.444 Q5159.53 609.444 5161.87 607.338 Q5164.2 605.231 5164.2 601.62 Q5164.2 598.009 5161.87 595.903 Q5159.53 593.796 5155.52 593.796 Q5153.65 593.796 5151.77 594.213 Q5149.92 594.63 5147.98 595.509 L5147.98 578.148 Z\" fill=\"#000000\" fill-rule=\"evenodd\" fill-opacity=\"1\" /><path clip-path=\"url(#clip510)\" d=\"M4982.7 394.677 Q4979.09 394.677 4977.26 398.242 Q4975.45 401.784 4975.45 408.913 Q4975.45 416.02 4977.26 419.584 Q4979.09 423.126 4982.7 423.126 Q4986.33 423.126 4988.14 419.584 Q4989.97 416.02 4989.97 408.913 Q4989.97 401.784 4988.14 398.242 Q4986.33 394.677 4982.7 394.677 M4982.7 390.973 Q4988.51 390.973 4991.57 395.58 Q4994.64 400.163 4994.64 408.913 Q4994.64 417.64 4991.57 422.246 Q4988.51 426.83 4982.7 426.83 Q4976.89 426.83 4973.81 422.246 Q4970.76 417.64 4970.76 408.913 Q4970.76 400.163 4973.81 395.58 Q4976.89 390.973 4982.7 390.973 Z\" fill=\"#000000\" fill-rule=\"evenodd\" fill-opacity=\"1\" /><path clip-path=\"url(#clip510)\" d=\"M5002.86 420.279 L5007.75 420.279 L5007.75 426.158 L5002.86 426.158 L5002.86 420.279 Z\" fill=\"#000000\" fill-rule=\"evenodd\" fill-opacity=\"1\" /><path clip-path=\"url(#clip510)\" d=\"M5018.74 422.223 L5026.38 422.223 L5026.38 395.858 L5018.07 397.524 L5018.07 393.265 L5026.33 391.598 L5031.01 391.598 L5031.01 422.223 L5038.65 422.223 L5038.65 426.158 L5018.74 426.158 L5018.74 422.223 Z\" fill=\"#000000\" fill-rule=\"evenodd\" fill-opacity=\"1\" /><path clip-path=\"url(#clip510)\" d=\"M5048.14 391.598 L5066.5 391.598 L5066.5 395.534 L5052.42 395.534 L5052.42 404.006 Q5053.44 403.659 5054.46 403.497 Q5055.48 403.311 5056.5 403.311 Q5062.28 403.311 5065.66 406.483 Q5069.04 409.654 5069.04 415.071 Q5069.04 420.649 5065.57 423.751 Q5062.1 426.83 5055.78 426.83 Q5053.6 426.83 5051.33 426.459 Q5049.09 426.089 5046.68 425.348 L5046.68 420.649 Q5048.76 421.783 5050.99 422.339 Q5053.21 422.895 5055.69 422.895 Q5059.69 422.895 5062.03 420.788 Q5064.37 418.682 5064.37 415.071 Q5064.37 411.459 5062.03 409.353 Q5059.69 407.246 5055.69 407.246 Q5053.81 407.246 5051.94 407.663 Q5050.08 408.08 5048.14 408.959 L5048.14 391.598 Z\" fill=\"#000000\" fill-rule=\"evenodd\" fill-opacity=\"1\" /><path clip-path=\"url(#clip510)\" d=\"M5077.84 391.598 L5099.69 391.598 L5099.69 395.534 L5082.51 395.534 L5082.51 405.765 L5098.97 405.765 L5098.97 409.7 L5082.51 409.7 L5082.51 422.223 L5100.11 422.223 L5100.11 426.158 L5077.84 426.158 L5077.84 391.598 Z\" fill=\"#000000\" fill-rule=\"evenodd\" fill-opacity=\"1\" /><path clip-path=\"url(#clip510)\" d=\"M5108.16 409.33 L5137.84 409.33 L5137.84 413.265 L5108.16 413.265 L5108.16 409.33 Z\" fill=\"#000000\" fill-rule=\"evenodd\" fill-opacity=\"1\" /><path clip-path=\"url(#clip510)\" d=\"M5148.74 422.223 L5156.38 422.223 L5156.38 395.858 L5148.07 397.524 L5148.07 393.265 L5156.33 391.598 L5161.01 391.598 L5161.01 422.223 L5168.65 422.223 L5168.65 426.158 L5148.74 426.158 L5148.74 422.223 Z\" fill=\"#000000\" fill-rule=\"evenodd\" fill-opacity=\"1\" /><path clip-path=\"url(#clip510)\" d=\"M5178.14 391.598 L5196.5 391.598 L5196.5 395.534 L5182.42 395.534 L5182.42 404.006 Q5183.44 403.659 5184.46 403.497 Q5185.48 403.311 5186.5 403.311 Q5192.28 403.311 5195.66 406.483 Q5199.04 409.654 5199.04 415.071 Q5199.04 420.649 5195.57 423.751 Q5192.1 426.83 5185.78 426.83 Q5183.6 426.83 5181.33 426.459 Q5179.09 426.089 5176.68 425.348 L5176.68 420.649 Q5178.76 421.783 5180.99 422.339 Q5183.21 422.895 5185.69 422.895 Q5189.69 422.895 5192.03 420.788 Q5194.37 418.682 5194.37 415.071 Q5194.37 411.459 5192.03 409.353 Q5189.69 407.246 5185.69 407.246 Q5183.81 407.246 5181.94 407.663 Q5180.08 408.08 5178.14 408.959 L5178.14 391.598 Z\" fill=\"#000000\" fill-rule=\"evenodd\" fill-opacity=\"1\" /><path clip-path=\"url(#clip510)\" d=\"M4982.7 208.127 Q4979.09 208.127 4977.26 211.692 Q4975.45 215.234 4975.45 222.363 Q4975.45 229.47 4977.26 233.035 Q4979.09 236.576 4982.7 236.576 Q4986.33 236.576 4988.14 233.035 Q4989.97 229.47 4989.97 222.363 Q4989.97 215.234 4988.14 211.692 Q4986.33 208.127 4982.7 208.127 M4982.7 204.424 Q4988.51 204.424 4991.57 209.03 Q4994.64 213.613 4994.64 222.363 Q4994.64 231.09 4991.57 235.697 Q4988.51 240.28 4982.7 240.28 Q4976.89 240.28 4973.81 235.697 Q4970.76 231.09 4970.76 222.363 Q4970.76 213.613 4973.81 209.03 Q4976.89 204.424 4982.7 204.424 Z\" fill=\"#000000\" fill-rule=\"evenodd\" fill-opacity=\"1\" /><path clip-path=\"url(#clip510)\" d=\"M5002.86 233.729 L5007.75 233.729 L5007.75 239.609 L5002.86 239.609 L5002.86 233.729 Z\" fill=\"#000000\" fill-rule=\"evenodd\" fill-opacity=\"1\" /><path clip-path=\"url(#clip510)\" d=\"M5021.96 235.673 L5038.28 235.673 L5038.28 239.609 L5016.33 239.609 L5016.33 235.673 Q5019 232.919 5023.58 228.289 Q5028.19 223.636 5029.37 222.294 Q5031.61 219.771 5032.49 218.035 Q5033.39 216.275 5033.39 214.586 Q5033.39 211.831 5031.45 210.095 Q5029.53 208.359 5026.43 208.359 Q5024.23 208.359 5021.77 209.123 Q5019.34 209.887 5016.57 211.437 L5016.57 206.715 Q5019.39 205.581 5021.84 205.002 Q5024.3 204.424 5026.33 204.424 Q5031.7 204.424 5034.9 207.109 Q5038.09 209.794 5038.09 214.285 Q5038.09 216.414 5037.28 218.336 Q5036.5 220.234 5034.39 222.826 Q5033.81 223.498 5030.71 226.715 Q5027.61 229.91 5021.96 235.673 Z\" fill=\"#000000\" fill-rule=\"evenodd\" fill-opacity=\"1\" /><path clip-path=\"url(#clip510)\" d=\"M5047.68 205.049 L5069.53 205.049 L5069.53 208.984 L5052.35 208.984 L5052.35 219.215 L5068.81 219.215 L5068.81 223.15 L5052.35 223.15 L5052.35 235.673 L5069.95 235.673 L5069.95 239.609 L5047.68 239.609 L5047.68 205.049 Z\" fill=\"#000000\" fill-rule=\"evenodd\" fill-opacity=\"1\" /><path clip-path=\"url(#clip510)\" d=\"M5078 222.78 L5107.68 222.78 L5107.68 226.715 L5078 226.715 L5078 222.78 Z\" fill=\"#000000\" fill-rule=\"evenodd\" fill-opacity=\"1\" /><path clip-path=\"url(#clip510)\" d=\"M5118.58 235.673 L5126.22 235.673 L5126.22 209.308 L5117.91 210.974 L5117.91 206.715 L5126.17 205.049 L5130.85 205.049 L5130.85 235.673 L5138.49 235.673 L5138.49 239.609 L5118.58 239.609 L5118.58 235.673 Z\" fill=\"#000000\" fill-rule=\"evenodd\" fill-opacity=\"1\" /><path clip-path=\"url(#clip510)\" d=\"M5147.98 205.049 L5166.33 205.049 L5166.33 208.984 L5152.26 208.984 L5152.26 217.456 Q5153.28 217.109 5154.3 216.947 Q5155.32 216.761 5156.33 216.761 Q5162.12 216.761 5165.5 219.933 Q5168.88 223.104 5168.88 228.521 Q5168.88 234.099 5165.41 237.201 Q5161.94 240.28 5155.62 240.28 Q5153.44 240.28 5151.17 239.91 Q5148.93 239.539 5146.52 238.798 L5146.52 234.099 Q5148.6 235.234 5150.82 235.789 Q5153.05 236.345 5155.52 236.345 Q5159.53 236.345 5161.87 234.238 Q5164.2 232.132 5164.2 228.521 Q5164.2 224.91 5161.87 222.803 Q5159.53 220.697 5155.52 220.697 Q5153.65 220.697 5151.77 221.113 Q5149.92 221.53 5147.98 222.41 L5147.98 205.049 Z\" fill=\"#000000\" fill-rule=\"evenodd\" fill-opacity=\"1\" /><polyline clip-path=\"url(#clip510)\" style=\"stroke:#000000; stroke-linecap:butt; stroke-linejoin:round; stroke-width:4; stroke-opacity:1; fill:none\" points=\"\n",
       "  4892.76,1800.6 4892.76,1718.36 4944.76,1718.36 4892.76,1718.36 4892.76,1531.81 4944.76,1531.81 4892.76,1531.81 4892.76,1345.26 4944.76,1345.26 4892.76,1345.26 \n",
       "  4892.76,1158.71 4944.76,1158.71 4892.76,1158.71 4892.76,972.157 4944.76,972.157 4892.76,972.157 4892.76,785.607 4944.76,785.607 4892.76,785.607 4892.76,599.057 \n",
       "  4944.76,599.057 4892.76,599.057 4892.76,412.507 4944.76,412.507 4892.76,412.507 4892.76,225.957 4944.76,225.957 4892.76,225.957 4892.76,143.709 \n",
       "  \"/>\n",
       "</svg>\n"
      ]
     },
     "execution_count": 23,
     "metadata": {},
     "output_type": "execute_result"
    }
   ],
   "source": [
    "D = M - M_p; dscale = maximum(abs.(D)); p = imshow(D, (-dscale, dscale)); draw(plot!(p, size=(1300, 500)))"
   ]
  },
  {
   "cell_type": "code",
   "execution_count": 24,
   "id": "78e0dd13",
   "metadata": {
    "hideCode": true,
    "slideshow": {
     "slide_type": "subslide"
    }
   },
   "outputs": [
    {
     "name": "stderr",
     "output_type": "stream",
     "text": [
      "┌ Info: Saved animation to \n",
      "│   fn = /home/tisaac/srv/rep/22-course-cse6643/mybinder/tmp.gif\n",
      "└ @ Plots /home/tisaac/.julia/packages/Plots/Xv2qA/src/animation.jl:114\n"
     ]
    },
    {
     "data": {
      "text/html": [
       "<img src=\"data:image/gif;base64,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\" />"
      ],
      "text/plain": [
       "Plots.AnimatedGif(\"/home/tisaac/srv/rep/22-course-cse6643/mybinder/tmp.gif\")"
      ]
     },
     "execution_count": 24,
     "metadata": {},
     "output_type": "execute_result"
    }
   ],
   "source": [
    "m = 10; n = 10;\n",
    "M = kahan(m, θ)\n",
    "M_p = copy(M[:,:])\n",
    "rot = [cos(ϕ) sin(ϕ); -sin(ϕ) cos(ϕ)]\n",
    "M_p[1:2,:] = rot * M[1:2,:]\n",
    "Q̂ = copy(M_p)\n",
    "R̂ = zeros(n, n)\n",
    "r_scale = maximum(abs.(qr(M_p).R))\n",
    "anim = Animation()\n",
    "function step_plot(A,Q̂,R̂,j)\n",
    "    Q_plot = imshow(Q̂,(-1,1))\n",
    "    plot!(Q_plot,title=\"Q\")\n",
    "    ortho_plot = imshow(Q̂' * Q̂)\n",
    "    plot!(ortho_plot,title=\"Q'Q\")\n",
    "    recon_plot = imshow(M_p - Q̂ * R̂,(-1,1))\n",
    "    plot!(recon_plot,title=\"M_p - QR\")\n",
    "    R_plot = imshow(R̂,(-r_scale,r_scale))\n",
    "    plot!(R_plot,title=\"R\")\n",
    "    return plot(Q_plot, R_plot, ortho_plot, recon_plot, layout=(1,4), size=(1300,800), plot_title=\"Step $j\")\n",
    "end\n",
    "frame(anim,step_plot(M_p,Q̂,R̂,0))\n",
    "for j in 1:n\n",
    "    # Compute coefficients of aⱼ in Q̂[:,1:j-1] basis\n",
    "    R̂[1:j-1,j] = Q̂[:,1:j-1]' * Q̂[:,j]\n",
    "    # Project Q̂[:,1:j-1] components out of Q̂[:,j]\n",
    "    Q̂[:,j] -= Q̂[:,1:j-1] * R̂[1:j-1,j]\n",
    "    # Normalize\n",
    "    R̂[j,j] = norm(Q̂[:,j])\n",
    "    Q̂[:,j] /= R̂[j,j]\n",
    "    frame(anim,step_plot(M_p,Q̂,R̂,j))\n",
    "end\n",
    "frame(anim,step_plot(M_p,Q̂,R̂,n))\n",
    "gif(anim,fps=0.5)"
   ]
  },
  {
   "cell_type": "markdown",
   "id": "fa9d4544",
   "metadata": {
    "slideshow": {
     "slide_type": "subslide"
    }
   },
   "source": [
    "### What happens in the last column of the perturbed Kahan matrix?\n",
    "\n",
    "$$ \\tilde{q}_m \\gets (I - P_{1:m-1}) a_m = a_m - q_1 q_1^* a_m - q_2 q_2^* a_m - \\dots $$"
   ]
  },
  {
   "cell_type": "markdown",
   "id": "78568248",
   "metadata": {
    "slideshow": {
     "slide_type": "fragment"
    }
   },
   "source": [
    "- In exact arithmetic, $\\|\\tilde{q}_m\\|_2$ is very small: $\\sin(\\theta)^{m-1} \\approx 6 \\cdot 10^{-8}$ "
   ]
  },
  {
   "cell_type": "markdown",
   "id": "8304b0ea",
   "metadata": {
    "slideshow": {
     "slide_type": "fragment"
    }
   },
   "source": [
    "- Consider just the first projection:\n",
    "\n",
    "$$s_1 = a_m - q_1 (q_1^* a_m)$$\n",
    "  \n",
    "- In the presence of rounding error, a perturbed vector $\\hat s_1 = s_1 + \\delta_1$ is computed with error $\\delta_1$"
   ]
  },
  {
   "cell_type": "markdown",
   "id": "40b0524e",
   "metadata": {
    "slideshow": {
     "slide_type": "fragment"
    }
   },
   "source": [
    "- Later on in the class we will see that $\\|\\delta_1\\|$ is proportional to $\\epsilon\\|a_m\\|$, where $\\epsilon \\approx 10^{-16}$"
   ]
  },
  {
   "cell_type": "markdown",
   "id": "59ed3ebc",
   "metadata": {
    "slideshow": {
     "slide_type": "subslide"
    }
   },
   "source": [
    "### The accumulation of roundoff errors has swamped the result\n",
    "\n",
    "- There were similar small but growing errors in the previous $q_j$s.  Instead of calculating $\\tilde{q}_m$, we have calculated\n",
    "\n",
    "$$\\tilde{q}_m + \\delta_1 + \\delta_2 + \\dots + \\delta_{m-1}.$$"
   ]
  },
  {
   "cell_type": "markdown",
   "id": "0647c9e2",
   "metadata": {
    "slideshow": {
     "slide_type": "fragment"
    }
   },
   "source": [
    "- The errors are as big as the desired quantity, \n",
    "\n",
    "$$\\|\\tilde{q}_m\\| \\approx \\|\\delta_1 + \\delta_2 + \\dots + \\delta_{m-1}\\|.$$"
   ]
  },
  {
   "cell_type": "markdown",
   "id": "a77012a2",
   "metadata": {
    "slideshow": {
     "slide_type": "fragment"
    }
   },
   "source": [
    "- When we then normalize, $q_m \\gets \\tilde{q}_m / \\|\\tilde{q}_m\\|$, the errors are magnified from $\\sim 10^{-8}$ to $\\sim 10^{0}$: catastrophe!"
   ]
  },
  {
   "cell_type": "code",
   "execution_count": 25,
   "id": "1b5e70a3",
   "metadata": {
    "hideCode": true,
    "scrolled": false,
    "slideshow": {
     "slide_type": "subslide"
    }
   },
   "outputs": [
    {
     "ename": "LoadError",
     "evalue": "UndefVarError: daw not defined",
     "output_type": "error",
     "traceback": [
      "UndefVarError: daw not defined",
      "",
      "Stacktrace:",
      " [1] top-level scope",
      "   @ In[25]:44",
      " [2] eval",
      "   @ ./boot.jl:373 [inlined]",
      " [3] include_string(mapexpr::typeof(REPL.softscope), mod::Module, code::String, filename::String)",
      "   @ Base ./loading.jl:1196"
     ]
    }
   ],
   "source": [
    "ortho_errs_cgs = Float64[]\n",
    "ortho_errs_qr = Float64[]\n",
    "recon_errs_cgs = Float64[]\n",
    "recon_errs_qr = Float64[]\n",
    "range = π ./ (2:.1:20)\n",
    "for θ in range\n",
    "    M = kahan(10, θ)\n",
    "    ϕ = eps(Float64)\n",
    "    M_p = copy(M[:,:])\n",
    "    rot = [cos(ϕ) sin(ϕ); -sin(ϕ) cos(ϕ)]\n",
    "    M_p[1:2,:] = rot * M[1:2,:]\n",
    "    Q_cgs, R_cgs = qr_classical_gram_schmidt(M_p)\n",
    "    Q, R = qr(M_p)\n",
    "    push!(ortho_errs_cgs, orthonormality_error(Q_cgs))\n",
    "    push!(ortho_errs_qr, orthonormality_error(Q[:,:]))\n",
    "    push!(recon_errs_cgs, reconstruction_error(M_p, Q_cgs, R_cgs))\n",
    "    push!(recon_errs_qr, reconstruction_error(M_p, Q, R))\n",
    "end\n",
    "ymin=Inf\n",
    "ymax=0.\n",
    "for series in [ortho_errs_cgs, ortho_errs_qr, recon_errs_cgs, recon_errs_qr]\n",
    "    series[:] = max.(series[:], 0.001*eps())\n",
    "    ymin = min(ymin, minimum(series))\n",
    "    ymax = max(ymax, maximum(series))\n",
    "end\n",
    "ymin *= 0.5\n",
    "ymax *= 2.0\n",
    "p1 = plot( range .^-1, [ortho_errs_cgs recon_errs_cgs]\n",
    "    , yscale=:log10\n",
    "    , label=[\"orthonormality error\" \"reconstruction error\"]\n",
    "    , xlabel=\"Kahan matrix θ⁻¹\"\n",
    "    , title=\"Classical Gram-Schmidt\"\n",
    "    , size=(1300,800)\n",
    "    , ylim=(ymin,ymax)\n",
    ")\n",
    "p2 = plot( range .^-1, [ortho_errs_qr recon_errs_qr]\n",
    "    , yscale=:log10\n",
    "    , label=[\"orthonormality error\" \"reconstruction error\"]\n",
    "    , xlabel=\"Kahan matrix θ⁻¹\"\n",
    "    , title=\"julia QR\"\n",
    "    , size=(1300,800)\n",
    "    , ylim=(ymin,ymax)\n",
    ")\n",
    "daw(plot(p1,p2,layout=(1,2)))"
   ]
  },
  {
   "cell_type": "markdown",
   "id": "5167b904",
   "metadata": {
    "slideshow": {
     "slide_type": "slide"
    }
   },
   "source": [
    "## Modified Gram-Schmidt"
   ]
  },
  {
   "cell_type": "markdown",
   "id": "b96277f7",
   "metadata": {
    "slideshow": {
     "slide_type": "subslide"
    }
   },
   "source": [
    "### Consider projecting out two components of a vector\n",
    "\n",
    "Let $\\hat{Q} = [q_1 | q_2]$, and project out the $\\hat{Q}$ component of vector $v$,\n",
    "\n",
    "$$w \\gets (I - \\hat{Q} \\hat{Q}^*)v$$"
   ]
  },
  {
   "cell_type": "markdown",
   "id": "ed9ee5ac",
   "metadata": {
    "slideshow": {
     "slide_type": "fragment"
    }
   },
   "source": [
    "In exact arithmetic, these are equivalent:"
   ]
  },
  {
   "cell_type": "markdown",
   "id": "80284220",
   "metadata": {
    "cell_style": "split",
    "slideshow": {
     "slide_type": "-"
    }
   },
   "source": [
    "$$w \\gets (I - \\hat{Q}\\hat{Q}^*) v$$\n",
    "\n",
    "AKA:\n",
    "\n",
    "$$\n",
    "\\begin{aligned}\n",
    "w^{(0)} &\\gets v - q_1 (q_1^* v) \\\\\n",
    "w &\\gets w^{(0)} - q_2 (q_2^* v)\n",
    "\\end{aligned}\n",
    "$$"
   ]
  },
  {
   "cell_type": "markdown",
   "id": "586bd38b",
   "metadata": {
    "cell_style": "split"
   },
   "source": [
    "$$ w \\gets (I - q_2 q_2^*) (I - q_1 q_1^*) v $$\n",
    "\n",
    "AKA:\n",
    "\n",
    "$$\n",
    "\\begin{aligned}\n",
    "w^{(0)} &\\gets v - q_1 (q_1^* v)\n",
    "\\\\\n",
    "w &\\gets w^{(0)} - q_2 (q_2^* w^{(0)})\n",
    "\\end{aligned}\n",
    "$$"
   ]
  },
  {
   "cell_type": "markdown",
   "id": "e124667a",
   "metadata": {
    "slideshow": {
     "slide_type": "subslide"
    }
   },
   "source": [
    "### Floating point rounding error scales like the inputs"
   ]
  },
  {
   "cell_type": "markdown",
   "id": "8b8eff7f",
   "metadata": {
    "cell_style": "split",
    "slideshow": {
     "slide_type": "-"
    }
   },
   "source": [
    "$$\n",
    "\\begin{aligned}\n",
    "w^{(0)} &\\gets \\underbrace{v - q_1 (q_1^* v)}_{\\delta_1 \\sim \\epsilon \\|v\\|} \\\\\n",
    "w &\\gets \\underbrace{w^{(0)} - q_2 (q_2^* v)}_{\\delta_2 \\sim \\epsilon \\max\\{\\|w^{(0)}\\|,\\|v\\|\\}}\n",
    "\\end{aligned}\n",
    "$$"
   ]
  },
  {
   "cell_type": "markdown",
   "id": "2fd61533",
   "metadata": {
    "cell_style": "split",
    "slideshow": {
     "slide_type": "-"
    }
   },
   "source": [
    "$$\n",
    "\\begin{aligned}\n",
    "w^{(0)} &\\gets \\underbrace{v - q_1 (q_1^* v)}_{\\delta_1 \\sim \\epsilon \\|v\\|} \\\\\n",
    "w &\\gets \\underbrace{w^{(0)} - q_2 (q_2^* w^{(0)})}_{\\delta_2 \\sim \\epsilon \\|w^{(0)}\\|}\n",
    "\\end{aligned}\n",
    "$$"
   ]
  },
  {
   "cell_type": "markdown",
   "id": "e332ed4f",
   "metadata": {
    "slideshow": {
     "slide_type": "fragment"
    }
   },
   "source": [
    "- The first approach (calculating every projection coefficient $(q_i^*v)$ with the original vector) accumulates a rounding error $\\sim \\epsilon \\|v\\|$ _for each projection_,\n",
    "$\\sim \\epsilon(\\|v\\| + \\|v\\| + \\|v\\| + \\dots)$."
   ]
  },
  {
   "cell_type": "markdown",
   "id": "270ab155",
   "metadata": {
    "slideshow": {
     "slide_type": "fragment"
    }
   },
   "source": [
    "- The second approach (calculating $q_j$'s projection coefficient on the result of the previous projections) accumulates rounding errors $\\sim \\epsilon (\\|v\\| + \\|(I-P_1)v\\| + \\|(I-P_{1:2})v\\| + \\dots)$."
   ]
  },
  {
   "cell_type": "markdown",
   "id": "44208f92",
   "metadata": {
    "slideshow": {
     "slide_type": "fragment"
    }
   },
   "source": [
    "- Orthogonal projection can only make a vector smaller, $\\|v\\| \\geq \\|(I - P_1) v\\| \\geq \\|(I - P_{1:2})v \\| \\geq \\dots$."
   ]
  },
  {
   "cell_type": "markdown",
   "id": "bf078dd4",
   "metadata": {
    "slideshow": {
     "slide_type": "subslide"
    }
   },
   "source": [
    "### Exercise: Modified Gram-Schmidt (forward looking)"
   ]
  },
  {
   "cell_type": "markdown",
   "id": "afe8d4ed",
   "metadata": {
    "cell_style": "split"
   },
   "source": [
    "At step $i$:\n",
    "\n",
    "1. Normalize:\n",
    "\n",
    "$$\n",
    "\\begin{aligned}\n",
    "r_{i,i} &\\gets \\|\\tilde{q}_i\\| \\\\\n",
    "q_j &\\gets \\tilde{q}_i / r_{ii}\n",
    "\\end{aligned}\n",
    "$$\n",
    "\n",
    "2. Project $q_i$ out of all subsequent vectors $j > i$\n",
    "\n",
    "$$\n",
    "\\begin{aligned}\n",
    "r_{i,j} &\\gets q_i^* \\tilde{q}_j \\\\\n",
    "\\tilde{q}_j &\\gets \\tilde{q}_j - r_{i,j} q_i \n",
    "\\end{aligned}\n",
    "$$"
   ]
  },
  {
   "cell_type": "code",
   "execution_count": 26,
   "id": "e1ae8296",
   "metadata": {
    "cell_style": "split"
   },
   "outputs": [
    {
     "name": "stdout",
     "output_type": "stream",
     "text": [
      "Reconstruction error || A - Q R ||_F = 6.46872892925176\n",
      "Orthonormality error || I - Q'Q ||_F = 20.82690045709607\n",
      "Upper-triangularity error || R - triu(R) ||_F = 0.0\n"
     ]
    },
    {
     "data": {
      "text/plain": [
       "false"
      ]
     },
     "execution_count": 26,
     "metadata": {},
     "output_type": "execute_result"
    }
   ],
   "source": [
    "function cg_modified_gram_schmidt(A)\n",
    "    n = size(A)[2]\n",
    "    Q = copy(A)\n",
    "    R = zeros(eltype(A), n, n)\n",
    "    # ...\n",
    "    return Q, R\n",
    "end\n",
    "m = 10; n = 5;\n",
    "A = randn(m,n)\n",
    "Q, R = cg_modified_gram_schmidt(A)\n",
    "qr_test(A, Q, R)"
   ]
  },
  {
   "cell_type": "code",
   "execution_count": 27,
   "id": "c5fd7db0",
   "metadata": {
    "hideCode": true,
    "scrolled": false,
    "slideshow": {
     "slide_type": "subslide"
    }
   },
   "outputs": [
    {
     "data": {
      "image/svg+xml": [
       "<?xml version=\"1.0\" encoding=\"utf-8\"?>\n",
       "<svg xmlns=\"http://www.w3.org/2000/svg\" xmlns:xlink=\"http://www.w3.org/1999/xlink\" width=\"1300\" height=\"800\" viewBox=\"0 0 5200 3200\">\n",
       "<defs>\n",
       "  <clipPath id=\"clip670\">\n",
       "    <rect x=\"0\" y=\"0\" width=\"5200\" height=\"3200\"/>\n",
       "  </clipPath>\n",
       "</defs>\n",
       "<path clip-path=\"url(#clip670)\" d=\"\n",
       "M0 3200 L5200 3200 L5200 0 L0 0  Z\n",
       "  \" fill=\"#ffffff\" fill-rule=\"evenodd\" fill-opacity=\"1\"/>\n",
       "<defs>\n",
       "  <clipPath id=\"clip671\">\n",
       "    <rect x=\"1040\" y=\"0\" width=\"3641\" height=\"3200\"/>\n",
       "  </clipPath>\n",
       "</defs>\n",
       "<path clip-path=\"url(#clip670)\" d=\"\n",
       "M241.607 3013.49 L2552.76 3013.49 L2552.76 118.82 L241.607 118.82  Z\n",
       "  \" fill=\"#ffffff\" fill-rule=\"evenodd\" fill-opacity=\"1\"/>\n",
       "<defs>\n",
       "  <clipPath id=\"clip672\">\n",
       "    <rect x=\"241\" y=\"118\" width=\"2312\" height=\"2896\"/>\n",
       "  </clipPath>\n",
       "</defs>\n",
       "<polyline clip-path=\"url(#clip672)\" style=\"stroke:#000000; stroke-linecap:butt; stroke-linejoin:round; stroke-width:2; stroke-opacity:0.1; fill:none\" points=\"\n",
       "  445.298,3013.49 445.298,118.82 \n",
       "  \"/>\n",
       "<polyline clip-path=\"url(#clip672)\" style=\"stroke:#000000; stroke-linecap:butt; stroke-linejoin:round; stroke-width:2; stroke-opacity:0.1; fill:none\" points=\"\n",
       "  825.837,3013.49 825.837,118.82 \n",
       "  \"/>\n",
       "<polyline clip-path=\"url(#clip672)\" style=\"stroke:#000000; stroke-linecap:butt; stroke-linejoin:round; stroke-width:2; stroke-opacity:0.1; fill:none\" points=\"\n",
       "  1206.38,3013.49 1206.38,118.82 \n",
       "  \"/>\n",
       "<polyline clip-path=\"url(#clip672)\" style=\"stroke:#000000; stroke-linecap:butt; stroke-linejoin:round; stroke-width:2; stroke-opacity:0.1; fill:none\" points=\"\n",
       "  1586.92,3013.49 1586.92,118.82 \n",
       "  \"/>\n",
       "<polyline clip-path=\"url(#clip672)\" style=\"stroke:#000000; stroke-linecap:butt; stroke-linejoin:round; stroke-width:2; stroke-opacity:0.1; fill:none\" points=\"\n",
       "  1967.45,3013.49 1967.45,118.82 \n",
       "  \"/>\n",
       "<polyline clip-path=\"url(#clip672)\" style=\"stroke:#000000; stroke-linecap:butt; stroke-linejoin:round; stroke-width:2; stroke-opacity:0.1; fill:none\" points=\"\n",
       "  2347.99,3013.49 2347.99,118.82 \n",
       "  \"/>\n",
       "<polyline clip-path=\"url(#clip670)\" style=\"stroke:#000000; stroke-linecap:butt; stroke-linejoin:round; stroke-width:4; stroke-opacity:1; fill:none\" points=\"\n",
       "  241.607,3013.49 2552.76,3013.49 \n",
       "  \"/>\n",
       "<polyline clip-path=\"url(#clip670)\" style=\"stroke:#000000; stroke-linecap:butt; stroke-linejoin:round; stroke-width:4; stroke-opacity:1; fill:none\" points=\"\n",
       "  445.298,3013.49 445.298,2994.6 \n",
       "  \"/>\n",
       "<polyline clip-path=\"url(#clip670)\" style=\"stroke:#000000; stroke-linecap:butt; stroke-linejoin:round; stroke-width:4; stroke-opacity:1; fill:none\" points=\"\n",
       "  825.837,3013.49 825.837,2994.6 \n",
       "  \"/>\n",
       "<polyline clip-path=\"url(#clip670)\" style=\"stroke:#000000; stroke-linecap:butt; stroke-linejoin:round; stroke-width:4; stroke-opacity:1; fill:none\" points=\"\n",
       "  1206.38,3013.49 1206.38,2994.6 \n",
       "  \"/>\n",
       "<polyline clip-path=\"url(#clip670)\" style=\"stroke:#000000; stroke-linecap:butt; stroke-linejoin:round; stroke-width:4; stroke-opacity:1; fill:none\" points=\"\n",
       "  1586.92,3013.49 1586.92,2994.6 \n",
       "  \"/>\n",
       "<polyline clip-path=\"url(#clip670)\" style=\"stroke:#000000; stroke-linecap:butt; stroke-linejoin:round; stroke-width:4; stroke-opacity:1; fill:none\" points=\"\n",
       "  1967.45,3013.49 1967.45,2994.6 \n",
       "  \"/>\n",
       "<polyline clip-path=\"url(#clip670)\" style=\"stroke:#000000; stroke-linecap:butt; stroke-linejoin:round; stroke-width:4; stroke-opacity:1; fill:none\" points=\"\n",
       "  2347.99,3013.49 2347.99,2994.6 \n",
       "  \"/>\n",
       "<path clip-path=\"url(#clip670)\" d=\"M435.68 3094.36 L443.319 3094.36 L443.319 3067.99 L435.008 3069.66 L435.008 3065.4 L443.272 3063.73 L447.948 3063.73 L447.948 3094.36 L455.587 3094.36 L455.587 3098.29 L435.68 3098.29 L435.68 3094.36 Z\" fill=\"#000000\" fill-rule=\"evenodd\" fill-opacity=\"1\" /><path clip-path=\"url(#clip670)\" d=\"M820.49 3094.36 L836.809 3094.36 L836.809 3098.29 L814.865 3098.29 L814.865 3094.36 Q817.527 3091.6 822.11 3086.97 Q826.717 3082.32 827.897 3080.98 Q830.142 3078.46 831.022 3076.72 Q831.925 3074.96 831.925 3073.27 Q831.925 3070.52 829.98 3068.78 Q828.059 3067.04 824.957 3067.04 Q822.758 3067.04 820.305 3067.81 Q817.874 3068.57 815.096 3070.12 L815.096 3065.4 Q817.92 3064.27 820.374 3063.69 Q822.828 3063.11 824.865 3063.11 Q830.235 3063.11 833.429 3065.79 Q836.624 3068.48 836.624 3072.97 Q836.624 3075.1 835.814 3077.02 Q835.027 3078.92 832.92 3081.51 Q832.341 3082.18 829.24 3085.4 Q826.138 3088.59 820.49 3094.36 Z\" fill=\"#000000\" fill-rule=\"evenodd\" fill-opacity=\"1\" /><path clip-path=\"url(#clip670)\" d=\"M1210.62 3079.66 Q1213.98 3080.38 1215.86 3082.65 Q1217.75 3084.91 1217.75 3088.25 Q1217.75 3093.36 1214.23 3096.16 Q1210.72 3098.96 1204.23 3098.96 Q1202.06 3098.96 1199.74 3098.53 Q1197.45 3098.11 1195 3097.25 L1195 3092.74 Q1196.94 3093.87 1199.26 3094.45 Q1201.57 3095.03 1204.1 3095.03 Q1208.49 3095.03 1210.79 3093.29 Q1213.1 3091.56 1213.1 3088.25 Q1213.1 3085.19 1210.95 3083.48 Q1208.82 3081.74 1205 3081.74 L1200.97 3081.74 L1200.97 3077.9 L1205.18 3077.9 Q1208.63 3077.9 1210.46 3076.53 Q1212.29 3075.15 1212.29 3072.55 Q1212.29 3069.89 1210.39 3068.48 Q1208.52 3067.04 1205 3067.04 Q1203.08 3067.04 1200.88 3067.46 Q1198.68 3067.88 1196.04 3068.76 L1196.04 3064.59 Q1198.7 3063.85 1201.02 3063.48 Q1203.36 3063.11 1205.42 3063.11 Q1210.74 3063.11 1213.84 3065.54 Q1216.94 3067.95 1216.94 3072.07 Q1216.94 3074.94 1215.3 3076.93 Q1213.66 3078.9 1210.62 3079.66 Z\" fill=\"#000000\" fill-rule=\"evenodd\" fill-opacity=\"1\" /><path clip-path=\"url(#clip670)\" d=\"M1589.92 3067.81 L1578.12 3086.26 L1589.92 3086.26 L1589.92 3067.81 M1588.7 3063.73 L1594.58 3063.73 L1594.58 3086.26 L1599.51 3086.26 L1599.51 3090.15 L1594.58 3090.15 L1594.58 3098.29 L1589.92 3098.29 L1589.92 3090.15 L1574.32 3090.15 L1574.32 3085.63 L1588.7 3063.73 Z\" fill=\"#000000\" fill-rule=\"evenodd\" fill-opacity=\"1\" /><path clip-path=\"url(#clip670)\" d=\"M1957.73 3063.73 L1976.09 3063.73 L1976.09 3067.67 L1962.01 3067.67 L1962.01 3076.14 Q1963.03 3075.79 1964.05 3075.63 Q1965.07 3075.45 1966.09 3075.45 Q1971.88 3075.45 1975.26 3078.62 Q1978.63 3081.79 1978.63 3087.21 Q1978.63 3092.78 1975.16 3095.89 Q1971.69 3098.96 1965.37 3098.96 Q1963.2 3098.96 1960.93 3098.59 Q1958.68 3098.22 1956.27 3097.48 L1956.27 3092.78 Q1958.36 3093.92 1960.58 3094.47 Q1962.8 3095.03 1965.28 3095.03 Q1969.28 3095.03 1971.62 3092.92 Q1973.96 3090.82 1973.96 3087.21 Q1973.96 3083.59 1971.62 3081.49 Q1969.28 3079.38 1965.28 3079.38 Q1963.4 3079.38 1961.53 3079.8 Q1959.68 3080.22 1957.73 3081.09 L1957.73 3063.73 Z\" fill=\"#000000\" fill-rule=\"evenodd\" fill-opacity=\"1\" /><path clip-path=\"url(#clip670)\" d=\"M2348.4 3079.15 Q2345.25 3079.15 2343.4 3081.3 Q2341.57 3083.46 2341.57 3087.21 Q2341.57 3090.93 2343.4 3093.11 Q2345.25 3095.26 2348.4 3095.26 Q2351.55 3095.26 2353.38 3093.11 Q2355.23 3090.93 2355.23 3087.21 Q2355.23 3083.46 2353.38 3081.3 Q2351.55 3079.15 2348.4 3079.15 M2357.68 3064.5 L2357.68 3068.76 Q2355.92 3067.92 2354.12 3067.48 Q2352.33 3067.04 2350.57 3067.04 Q2345.94 3067.04 2343.49 3070.17 Q2341.06 3073.29 2340.71 3079.61 Q2342.08 3077.6 2344.14 3076.53 Q2346.2 3075.45 2348.68 3075.45 Q2353.88 3075.45 2356.89 3078.62 Q2359.93 3081.77 2359.93 3087.21 Q2359.93 3092.53 2356.78 3095.75 Q2353.63 3098.96 2348.4 3098.96 Q2342.4 3098.96 2339.23 3094.38 Q2336.06 3089.78 2336.06 3081.05 Q2336.06 3072.85 2339.95 3067.99 Q2343.84 3063.11 2350.39 3063.11 Q2352.15 3063.11 2353.93 3063.46 Q2355.74 3063.8 2357.68 3064.5 Z\" fill=\"#000000\" fill-rule=\"evenodd\" fill-opacity=\"1\" /><path clip-path=\"url(#clip670)\" d=\"M1122.93 3152.84 L1129.36 3152.84 L1129.36 3172.92 L1150.69 3152.84 L1158.96 3152.84 L1135.38 3174.99 L1160.65 3200.36 L1152.18 3200.36 L1129.36 3177.47 L1129.36 3200.36 L1122.93 3200.36 L1122.93 3152.84 Z\" fill=\"#000000\" fill-rule=\"evenodd\" fill-opacity=\"1\" /><path clip-path=\"url(#clip670)\" d=\"M1180.48 3182.44 Q1173.38 3182.44 1170.64 3184.06 Q1167.9 3185.68 1167.9 3189.6 Q1167.9 3192.72 1169.94 3194.56 Q1172.01 3196.38 1175.54 3196.38 Q1180.41 3196.38 1183.34 3192.94 Q1186.3 3189.47 1186.3 3183.74 L1186.3 3182.44 L1180.48 3182.44 M1192.16 3180.02 L1192.16 3200.36 L1186.3 3200.36 L1186.3 3194.95 Q1184.3 3198.19 1181.3 3199.75 Q1178.31 3201.28 1173.98 3201.28 Q1168.51 3201.28 1165.26 3198.23 Q1162.05 3195.14 1162.05 3189.98 Q1162.05 3183.97 1166.06 3180.91 Q1170.1 3177.85 1178.09 3177.85 L1186.3 3177.85 L1186.3 3177.28 Q1186.3 3173.24 1183.63 3171.04 Q1180.99 3168.82 1176.18 3168.82 Q1173.12 3168.82 1170.23 3169.55 Q1167.33 3170.28 1164.66 3171.74 L1164.66 3166.33 Q1167.87 3165.09 1170.9 3164.49 Q1173.92 3163.85 1176.79 3163.85 Q1184.52 3163.85 1188.34 3167.86 Q1192.16 3171.87 1192.16 3180.02 Z\" fill=\"#000000\" fill-rule=\"evenodd\" fill-opacity=\"1\" /><path clip-path=\"url(#clip670)\" d=\"M1233.85 3178.84 L1233.85 3200.36 L1228 3200.36 L1228 3179.03 Q1228 3173.97 1226.02 3171.46 Q1224.05 3168.94 1220.1 3168.94 Q1215.36 3168.94 1212.62 3171.97 Q1209.89 3174.99 1209.89 3180.21 L1209.89 3200.36 L1204 3200.36 L1204 3150.83 L1209.89 3150.83 L1209.89 3170.25 Q1211.99 3167.03 1214.82 3165.44 Q1217.68 3163.85 1221.41 3163.85 Q1227.55 3163.85 1230.7 3167.67 Q1233.85 3171.46 1233.85 3178.84 Z\" fill=\"#000000\" fill-rule=\"evenodd\" fill-opacity=\"1\" /><path clip-path=\"url(#clip670)\" d=\"M1261.74 3182.44 Q1254.64 3182.44 1251.9 3184.06 Q1249.16 3185.68 1249.16 3189.6 Q1249.16 3192.72 1251.2 3194.56 Q1253.27 3196.38 1256.8 3196.38 Q1261.67 3196.38 1264.6 3192.94 Q1267.56 3189.47 1267.56 3183.74 L1267.56 3182.44 L1261.74 3182.44 M1273.42 3180.02 L1273.42 3200.36 L1267.56 3200.36 L1267.56 3194.95 Q1265.55 3198.19 1262.56 3199.75 Q1259.57 3201.28 1255.24 3201.28 Q1249.77 3201.28 1246.52 3198.23 Q1243.31 3195.14 1243.31 3189.98 Q1243.31 3183.97 1247.32 3180.91 Q1251.36 3177.85 1259.35 3177.85 L1267.56 3177.85 L1267.56 3177.28 Q1267.56 3173.24 1264.89 3171.04 Q1262.24 3168.82 1257.44 3168.82 Q1254.38 3168.82 1251.49 3169.55 Q1248.59 3170.28 1245.92 3171.74 L1245.92 3166.33 Q1249.13 3165.09 1252.15 3164.49 Q1255.18 3163.85 1258.04 3163.85 Q1265.78 3163.85 1269.6 3167.86 Q1273.42 3171.87 1273.42 3180.02 Z\" fill=\"#000000\" fill-rule=\"evenodd\" fill-opacity=\"1\" /><path clip-path=\"url(#clip670)\" d=\"M1315.11 3178.84 L1315.11 3200.36 L1309.26 3200.36 L1309.26 3179.03 Q1309.26 3173.97 1307.28 3171.46 Q1305.31 3168.94 1301.36 3168.94 Q1296.62 3168.94 1293.88 3171.97 Q1291.14 3174.99 1291.14 3180.21 L1291.14 3200.36 L1285.26 3200.36 L1285.26 3164.71 L1291.14 3164.71 L1291.14 3170.25 Q1293.25 3167.03 1296.08 3165.44 Q1298.94 3163.85 1302.67 3163.85 Q1308.81 3163.85 1311.96 3167.67 Q1315.11 3171.46 1315.11 3178.84 Z\" fill=\"#000000\" fill-rule=\"evenodd\" fill-opacity=\"1\" /><path clip-path=\"url(#clip670)\" d=\"M1375.27 3171.55 Q1377.46 3167.61 1380.52 3165.73 Q1383.57 3163.85 1387.71 3163.85 Q1393.28 3163.85 1396.31 3167.77 Q1399.33 3171.65 1399.33 3178.84 L1399.33 3200.36 L1393.44 3200.36 L1393.44 3179.03 Q1393.44 3173.91 1391.63 3171.43 Q1389.81 3168.94 1386.09 3168.94 Q1381.54 3168.94 1378.9 3171.97 Q1376.25 3174.99 1376.25 3180.21 L1376.25 3200.36 L1370.37 3200.36 L1370.37 3179.03 Q1370.37 3173.88 1368.55 3171.43 Q1366.74 3168.94 1362.95 3168.94 Q1358.46 3168.94 1355.82 3172 Q1353.18 3175.02 1353.18 3180.21 L1353.18 3200.36 L1347.29 3200.36 L1347.29 3164.71 L1353.18 3164.71 L1353.18 3170.25 Q1355.18 3166.97 1357.98 3165.41 Q1360.79 3163.85 1364.64 3163.85 Q1368.52 3163.85 1371.23 3165.82 Q1373.96 3167.8 1375.27 3171.55 Z\" fill=\"#000000\" fill-rule=\"evenodd\" fill-opacity=\"1\" /><path clip-path=\"url(#clip670)\" d=\"M1427.21 3182.44 Q1420.11 3182.44 1417.38 3184.06 Q1414.64 3185.68 1414.64 3189.6 Q1414.64 3192.72 1416.68 3194.56 Q1418.75 3196.38 1422.28 3196.38 Q1427.15 3196.38 1430.08 3192.94 Q1433.04 3189.47 1433.04 3183.74 L1433.04 3182.44 L1427.21 3182.44 M1438.89 3180.02 L1438.89 3200.36 L1433.04 3200.36 L1433.04 3194.95 Q1431.03 3198.19 1428.04 3199.75 Q1425.05 3201.28 1420.72 3201.28 Q1415.24 3201.28 1412 3198.23 Q1408.78 3195.14 1408.78 3189.98 Q1408.78 3183.97 1412.79 3180.91 Q1416.84 3177.85 1424.82 3177.85 L1433.04 3177.85 L1433.04 3177.28 Q1433.04 3173.24 1430.36 3171.04 Q1427.72 3168.82 1422.92 3168.82 Q1419.86 3168.82 1416.96 3169.55 Q1414.07 3170.28 1411.39 3171.74 L1411.39 3166.33 Q1414.61 3165.09 1417.63 3164.49 Q1420.66 3163.85 1423.52 3163.85 Q1431.25 3163.85 1435.07 3167.86 Q1438.89 3171.87 1438.89 3180.02 Z\" fill=\"#000000\" fill-rule=\"evenodd\" fill-opacity=\"1\" /><path clip-path=\"url(#clip670)\" d=\"M1456.75 3154.59 L1456.75 3164.71 L1468.81 3164.71 L1468.81 3169.26 L1456.75 3169.26 L1456.75 3188.61 Q1456.75 3192.97 1457.93 3194.21 Q1459.14 3195.46 1462.8 3195.46 L1468.81 3195.46 L1468.81 3200.36 L1462.8 3200.36 Q1456.02 3200.36 1453.44 3197.84 Q1450.86 3195.3 1450.86 3188.61 L1450.86 3169.26 L1446.56 3169.26 L1446.56 3164.71 L1450.86 3164.71 L1450.86 3154.59 L1456.75 3154.59 Z\" fill=\"#000000\" fill-rule=\"evenodd\" fill-opacity=\"1\" /><path clip-path=\"url(#clip670)\" d=\"M1497.17 3170.18 Q1496.18 3169.61 1495.01 3169.36 Q1493.86 3169.07 1492.46 3169.07 Q1487.5 3169.07 1484.82 3172.32 Q1482.18 3175.53 1482.18 3181.58 L1482.18 3200.36 L1476.29 3200.36 L1476.29 3164.71 L1482.18 3164.71 L1482.18 3170.25 Q1484.03 3167 1486.99 3165.44 Q1489.95 3163.85 1494.18 3163.85 Q1494.78 3163.85 1495.52 3163.95 Q1496.25 3164.01 1497.14 3164.17 L1497.17 3170.18 Z\" fill=\"#000000\" fill-rule=\"evenodd\" fill-opacity=\"1\" /><path clip-path=\"url(#clip670)\" d=\"M1503.31 3164.71 L1509.17 3164.71 L1509.17 3200.36 L1503.31 3200.36 L1503.31 3164.71 M1503.31 3150.83 L1509.17 3150.83 L1509.17 3158.25 L1503.31 3158.25 L1503.31 3150.83 Z\" fill=\"#000000\" fill-rule=\"evenodd\" fill-opacity=\"1\" /><path clip-path=\"url(#clip670)\" d=\"M1551.06 3164.71 L1538.17 3182.06 L1551.73 3200.36 L1544.82 3200.36 L1534.44 3186.35 L1524.07 3200.36 L1517.16 3200.36 L1531 3181.71 L1518.34 3164.71 L1525.24 3164.71 L1534.7 3177.41 L1544.15 3164.71 L1551.06 3164.71 Z\" fill=\"#000000\" fill-rule=\"evenodd\" fill-opacity=\"1\" /><path clip-path=\"url(#clip670)\" d=\"M1604.66 3177.76 L1584.38 3177.76 Q1584.86 3187.28 1587.05 3191.32 Q1589.79 3196.28 1594.53 3196.28 Q1599.31 3196.28 1601.95 3191.29 Q1604.27 3186.89 1604.66 3177.76 M1604.56 3172.35 Q1603.67 3163.31 1601.95 3160.13 Q1599.21 3155.1 1594.53 3155.1 Q1589.66 3155.1 1587.09 3160.06 Q1585.05 3164.07 1584.44 3172.35 L1604.56 3172.35 M1594.53 3150.32 Q1602.17 3150.32 1606.53 3157.07 Q1610.89 3163.79 1610.89 3175.69 Q1610.89 3187.56 1606.53 3194.31 Q1602.17 3201.09 1594.53 3201.09 Q1586.86 3201.09 1582.54 3194.31 Q1578.17 3187.56 1578.17 3175.69 Q1578.17 3163.79 1582.54 3157.07 Q1586.86 3150.32 1594.53 3150.32 Z\" fill=\"#000000\" fill-rule=\"evenodd\" fill-opacity=\"1\" /><path clip-path=\"url(#clip670)\" d=\"M1618.82 3166.14 L1644.51 3166.14 L1644.51 3169.17 L1618.82 3169.17 L1618.82 3166.14 Z\" fill=\"#000000\" fill-rule=\"evenodd\" fill-opacity=\"1\" /><path clip-path=\"url(#clip670)\" d=\"M1653.83 3175.6 L1660.32 3175.6 L1660.32 3156.15 L1653.23 3157.45 L1653.23 3153.76 L1660.55 3152.52 L1664.91 3152.52 L1664.91 3175.6 L1671.43 3175.6 L1671.43 3179.1 L1653.83 3179.1 L1653.83 3175.6 Z\" fill=\"#000000\" fill-rule=\"evenodd\" fill-opacity=\"1\" /><polyline clip-path=\"url(#clip672)\" style=\"stroke:#000000; stroke-linecap:butt; stroke-linejoin:round; stroke-width:2; stroke-opacity:0.1; fill:none\" points=\"\n",
       "  241.607,1669.83 2552.76,1669.83 \n",
       "  \"/>\n",
       "<polyline clip-path=\"url(#clip672)\" style=\"stroke:#000000; stroke-linecap:butt; stroke-linejoin:round; stroke-width:2; stroke-opacity:0.1; fill:none\" points=\"\n",
       "  241.607,169.29 2552.76,169.29 \n",
       "  \"/>\n",
       "<polyline clip-path=\"url(#clip670)\" style=\"stroke:#000000; stroke-linecap:butt; stroke-linejoin:round; stroke-width:4; stroke-opacity:1; fill:none\" points=\"\n",
       "  241.607,3013.49 241.607,118.82 \n",
       "  \"/>\n",
       "<polyline clip-path=\"url(#clip670)\" style=\"stroke:#000000; stroke-linecap:butt; stroke-linejoin:round; stroke-width:4; stroke-opacity:1; fill:none\" points=\"\n",
       "  241.607,1669.83 260.505,1669.83 \n",
       "  \"/>\n",
       "<polyline clip-path=\"url(#clip670)\" style=\"stroke:#000000; stroke-linecap:butt; stroke-linejoin:round; stroke-width:4; stroke-opacity:1; fill:none\" points=\"\n",
       "  241.607,169.29 260.505,169.29 \n",
       "  \"/>\n",
       "<path clip-path=\"url(#clip670)\" d=\"M37.6634 1689.62 L45.3023 1689.62 L45.3023 1663.25 L36.9921 1664.92 L36.9921 1660.66 L45.256 1658.99 L49.9319 1658.99 L49.9319 1689.62 L57.5707 1689.62 L57.5707 1693.55 L37.6634 1693.55 L37.6634 1689.62 Z\" fill=\"#000000\" fill-rule=\"evenodd\" fill-opacity=\"1\" /><path clip-path=\"url(#clip670)\" d=\"M77.0151 1662.07 Q73.404 1662.07 71.5753 1665.64 Q69.7697 1669.18 69.7697 1676.31 Q69.7697 1683.41 71.5753 1686.98 Q73.404 1690.52 77.0151 1690.52 Q80.6493 1690.52 82.4548 1686.98 Q84.2835 1683.41 84.2835 1676.31 Q84.2835 1669.18 82.4548 1665.64 Q80.6493 1662.07 77.0151 1662.07 M77.0151 1658.37 Q82.8252 1658.37 85.8808 1662.97 Q88.9594 1667.56 88.9594 1676.31 Q88.9594 1685.03 85.8808 1689.64 Q82.8252 1694.22 77.0151 1694.22 Q71.2049 1694.22 68.1262 1689.64 Q65.0707 1685.03 65.0707 1676.31 Q65.0707 1667.56 68.1262 1662.97 Q71.2049 1658.37 77.0151 1658.37 Z\" fill=\"#000000\" fill-rule=\"evenodd\" fill-opacity=\"1\" /><path clip-path=\"url(#clip670)\" d=\"M88.9594 1652.47 L113.071 1652.47 L113.071 1655.67 L88.9594 1655.67 L88.9594 1652.47 Z\" fill=\"#000000\" fill-rule=\"evenodd\" fill-opacity=\"1\" /><path clip-path=\"url(#clip670)\" d=\"M121.929 1662.95 L128.136 1662.95 L128.136 1641.52 L121.384 1642.88 L121.384 1639.42 L128.098 1638.06 L131.898 1638.06 L131.898 1662.95 L138.104 1662.95 L138.104 1666.14 L121.929 1666.14 L121.929 1662.95 Z\" fill=\"#000000\" fill-rule=\"evenodd\" fill-opacity=\"1\" /><path clip-path=\"url(#clip670)\" d=\"M153.903 1640.56 Q150.969 1640.56 149.483 1643.46 Q148.016 1646.34 148.016 1652.13 Q148.016 1657.9 149.483 1660.8 Q150.969 1663.68 153.903 1663.68 Q156.855 1663.68 158.322 1660.8 Q159.808 1657.9 159.808 1652.13 Q159.808 1646.34 158.322 1643.46 Q156.855 1640.56 153.903 1640.56 M153.903 1637.55 Q158.623 1637.55 161.106 1641.3 Q163.607 1645.02 163.607 1652.13 Q163.607 1659.22 161.106 1662.96 Q158.623 1666.69 153.903 1666.69 Q149.182 1666.69 146.68 1662.96 Q144.198 1659.22 144.198 1652.13 Q144.198 1645.02 146.68 1641.3 Q149.182 1637.55 153.903 1637.55 Z\" fill=\"#000000\" fill-rule=\"evenodd\" fill-opacity=\"1\" /><path clip-path=\"url(#clip670)\" d=\"M92.9018 189.082 L100.541 189.082 L100.541 162.717 L92.2305 164.383 L92.2305 160.124 L100.494 158.457 L105.17 158.457 L105.17 189.082 L112.809 189.082 L112.809 193.017 L92.9018 193.017 L92.9018 189.082 Z\" fill=\"#000000\" fill-rule=\"evenodd\" fill-opacity=\"1\" /><path clip-path=\"url(#clip670)\" d=\"M132.253 161.536 Q128.642 161.536 126.814 165.101 Q125.008 168.643 125.008 175.772 Q125.008 182.879 126.814 186.443 Q128.642 189.985 132.253 189.985 Q135.888 189.985 137.693 186.443 Q139.522 182.879 139.522 175.772 Q139.522 168.643 137.693 165.101 Q135.888 161.536 132.253 161.536 M132.253 157.832 Q138.064 157.832 141.119 162.439 Q144.198 167.022 144.198 175.772 Q144.198 184.499 141.119 189.105 Q138.064 193.689 132.253 193.689 Q126.443 193.689 123.365 189.105 Q120.309 184.499 120.309 175.772 Q120.309 167.022 123.365 162.439 Q126.443 157.832 132.253 157.832 Z\" fill=\"#000000\" fill-rule=\"evenodd\" fill-opacity=\"1\" /><path clip-path=\"url(#clip670)\" d=\"M153.903 140.028 Q150.969 140.028 149.483 142.925 Q148.016 145.802 148.016 151.595 Q148.016 157.369 149.483 160.266 Q150.969 163.143 153.903 163.143 Q156.855 163.143 158.322 160.266 Q159.808 157.369 159.808 151.595 Q159.808 145.802 158.322 142.925 Q156.855 140.028 153.903 140.028 M153.903 137.019 Q158.623 137.019 161.106 140.762 Q163.607 144.486 163.607 151.595 Q163.607 158.686 161.106 162.428 Q158.623 166.152 153.903 166.152 Q149.182 166.152 146.68 162.428 Q144.198 158.686 144.198 151.595 Q144.198 144.486 146.68 140.762 Q149.182 137.019 153.903 137.019 Z\" fill=\"#000000\" fill-rule=\"evenodd\" fill-opacity=\"1\" /><path clip-path=\"url(#clip670)\" d=\"M955.734 16.7545 L955.734 25.383 Q951.602 21.5346 946.903 19.6307 Q942.245 17.7268 936.979 17.7268 Q926.608 17.7268 921.099 24.0867 Q915.59 30.4061 915.59 42.3968 Q915.59 54.3469 921.099 60.7069 Q926.608 67.0263 936.979 67.0263 Q942.245 67.0263 946.903 65.1223 Q951.602 63.2184 955.734 59.3701 L955.734 67.9175 Q951.44 70.8341 946.62 72.2924 Q941.84 73.7508 936.493 73.7508 Q922.76 73.7508 914.861 65.3654 Q906.962 56.9395 906.962 42.3968 Q906.962 27.8135 914.861 19.4281 Q922.76 11.0023 936.493 11.0023 Q941.921 11.0023 946.701 12.4606 Q951.521 13.8784 955.734 16.7545 Z\" fill=\"#000000\" fill-rule=\"evenodd\" fill-opacity=\"1\" /><path clip-path=\"url(#clip670)\" d=\"M968.049 9.54393 L975.503 9.54393 L975.503 72.576 L968.049 72.576 L968.049 9.54393 Z\" fill=\"#000000\" fill-rule=\"evenodd\" fill-opacity=\"1\" /><path clip-path=\"url(#clip670)\" d=\"M1011.72 49.7694 Q1002.68 49.7694 999.201 51.8354 Q995.717 53.9013 995.717 58.8839 Q995.717 62.8538 998.309 65.2034 Q1000.94 67.5124 1005.44 67.5124 Q1011.64 67.5124 1015.36 63.1374 Q1019.13 58.7219 1019.13 51.4303 L1019.13 49.7694 L1011.72 49.7694 M1026.58 46.6907 L1026.58 72.576 L1019.13 72.576 L1019.13 65.6895 Q1016.58 69.8214 1012.77 71.8063 Q1008.96 73.7508 1003.45 73.7508 Q996.487 73.7508 992.355 69.8619 Q988.263 65.9325 988.263 59.3701 Q988.263 51.7138 993.367 47.825 Q998.512 43.9361 1008.68 43.9361 L1019.13 43.9361 L1019.13 43.2069 Q1019.13 38.0623 1015.73 35.2672 Q1012.37 32.4315 1006.25 32.4315 Q1002.36 32.4315 998.674 33.3632 Q994.988 34.295 991.585 36.1584 L991.585 29.2718 Q995.676 27.692 999.525 26.9223 Q1003.37 26.1121 1007.02 26.1121 Q1016.86 26.1121 1021.72 31.2163 Q1026.58 36.3204 1026.58 46.6907 Z\" fill=\"#000000\" fill-rule=\"evenodd\" fill-opacity=\"1\" /><path clip-path=\"url(#clip670)\" d=\"M1070.86 28.5427 L1070.86 35.5912 Q1067.7 33.9709 1064.3 33.1607 Q1060.9 32.3505 1057.25 32.3505 Q1051.7 32.3505 1048.91 34.0519 Q1046.15 35.7533 1046.15 39.156 Q1046.15 41.7486 1048.14 43.2475 Q1050.12 44.7058 1056.12 46.0426 L1058.67 46.6097 Q1066.61 48.3111 1069.93 51.4303 Q1073.29 54.509 1073.29 60.0587 Q1073.29 66.3781 1068.27 70.0644 Q1063.29 73.7508 1054.54 73.7508 Q1050.89 73.7508 1046.92 73.0216 Q1042.99 72.3329 1038.62 70.9151 L1038.62 63.2184 Q1042.75 65.3654 1046.76 66.4591 Q1050.77 67.5124 1054.7 67.5124 Q1059.96 67.5124 1062.8 65.73 Q1065.64 63.9071 1065.64 60.6258 Q1065.64 57.5877 1063.57 55.9673 Q1061.54 54.3469 1054.62 52.8481 L1052.02 52.2405 Q1045.1 50.7821 1042.02 47.7845 Q1038.94 44.7463 1038.94 39.4801 Q1038.94 33.0797 1043.48 29.5959 Q1048.01 26.1121 1056.36 26.1121 Q1060.49 26.1121 1064.14 26.7198 Q1067.78 27.3274 1070.86 28.5427 Z\" fill=\"#000000\" fill-rule=\"evenodd\" fill-opacity=\"1\" /><path clip-path=\"url(#clip670)\" d=\"M1114.08 28.5427 L1114.08 35.5912 Q1110.92 33.9709 1107.52 33.1607 Q1104.12 32.3505 1100.47 32.3505 Q1094.92 32.3505 1092.13 34.0519 Q1089.37 35.7533 1089.37 39.156 Q1089.37 41.7486 1091.36 43.2475 Q1093.34 44.7058 1099.34 46.0426 L1101.89 46.6097 Q1109.83 48.3111 1113.15 51.4303 Q1116.51 54.509 1116.51 60.0587 Q1116.51 66.3781 1111.49 70.0644 Q1106.51 73.7508 1097.76 73.7508 Q1094.11 73.7508 1090.14 73.0216 Q1086.21 72.3329 1081.84 70.9151 L1081.84 63.2184 Q1085.97 65.3654 1089.98 66.4591 Q1093.99 67.5124 1097.92 67.5124 Q1103.19 67.5124 1106.02 65.73 Q1108.86 63.9071 1108.86 60.6258 Q1108.86 57.5877 1106.79 55.9673 Q1104.77 54.3469 1097.84 52.8481 L1095.25 52.2405 Q1088.32 50.7821 1085.24 47.7845 Q1082.16 44.7463 1082.16 39.4801 Q1082.16 33.0797 1086.7 29.5959 Q1091.24 26.1121 1099.58 26.1121 Q1103.71 26.1121 1107.36 26.7198 Q1111.01 27.3274 1114.08 28.5427 Z\" fill=\"#000000\" fill-rule=\"evenodd\" fill-opacity=\"1\" /><path clip-path=\"url(#clip670)\" d=\"M1128.38 27.2059 L1135.84 27.2059 L1135.84 72.576 L1128.38 72.576 L1128.38 27.2059 M1128.38 9.54393 L1135.84 9.54393 L1135.84 18.9825 L1128.38 18.9825 L1128.38 9.54393 Z\" fill=\"#000000\" fill-rule=\"evenodd\" fill-opacity=\"1\" /><path clip-path=\"url(#clip670)\" d=\"M1184.08 28.9478 L1184.08 35.9153 Q1180.92 34.1734 1177.72 33.3227 Q1174.56 32.4315 1171.32 32.4315 Q1164.07 32.4315 1160.06 37.0496 Q1156.05 41.6271 1156.05 49.9314 Q1156.05 58.2358 1160.06 62.8538 Q1164.07 67.4314 1171.32 67.4314 Q1174.56 67.4314 1177.72 66.5807 Q1180.92 65.6895 1184.08 63.9476 L1184.08 70.8341 Q1180.96 72.2924 1177.6 73.0216 Q1174.28 73.7508 1170.51 73.7508 Q1160.26 73.7508 1154.23 67.3098 Q1148.19 60.8689 1148.19 49.9314 Q1148.19 38.832 1154.27 32.472 Q1160.39 26.1121 1171 26.1121 Q1174.44 26.1121 1177.72 26.8413 Q1181.01 27.5299 1184.08 28.9478 Z\" fill=\"#000000\" fill-rule=\"evenodd\" fill-opacity=\"1\" /><path clip-path=\"url(#clip670)\" d=\"M1217.67 49.7694 Q1208.63 49.7694 1205.15 51.8354 Q1201.66 53.9013 1201.66 58.8839 Q1201.66 62.8538 1204.26 65.2034 Q1206.89 67.5124 1211.39 67.5124 Q1217.58 67.5124 1221.31 63.1374 Q1225.08 58.7219 1225.08 51.4303 L1225.08 49.7694 L1217.67 49.7694 M1232.53 46.6907 L1232.53 72.576 L1225.08 72.576 L1225.08 65.6895 Q1222.53 69.8214 1218.72 71.8063 Q1214.91 73.7508 1209.4 73.7508 Q1202.43 73.7508 1198.3 69.8619 Q1194.21 65.9325 1194.21 59.3701 Q1194.21 51.7138 1199.32 47.825 Q1204.46 43.9361 1214.63 43.9361 L1225.08 43.9361 L1225.08 43.2069 Q1225.08 38.0623 1221.68 35.2672 Q1218.31 32.4315 1212.2 32.4315 Q1208.31 32.4315 1204.62 33.3632 Q1200.94 34.295 1197.53 36.1584 L1197.53 29.2718 Q1201.62 27.692 1205.47 26.9223 Q1209.32 26.1121 1212.97 26.1121 Q1222.81 26.1121 1227.67 31.2163 Q1232.53 36.3204 1232.53 46.6907 Z\" fill=\"#000000\" fill-rule=\"evenodd\" fill-opacity=\"1\" /><path clip-path=\"url(#clip670)\" d=\"M1247.89 9.54393 L1255.34 9.54393 L1255.34 72.576 L1247.89 72.576 L1247.89 9.54393 Z\" fill=\"#000000\" fill-rule=\"evenodd\" fill-opacity=\"1\" /><path clip-path=\"url(#clip670)\" d=\"M1338.87 63.9476 L1338.87 47.7034 L1325.5 47.7034 L1325.5 40.9789 L1346.97 40.9789 L1346.97 66.9452 Q1342.23 70.3075 1336.52 72.0494 Q1330.81 73.7508 1324.33 73.7508 Q1310.15 73.7508 1302.13 65.4869 Q1294.15 57.1826 1294.15 42.3968 Q1294.15 27.5705 1302.13 19.3066 Q1310.15 11.0023 1324.33 11.0023 Q1330.24 11.0023 1335.55 12.4606 Q1340.89 13.9189 1345.39 16.7545 L1345.39 25.464 Q1340.85 21.6156 1335.75 19.6712 Q1330.65 17.7268 1325.01 17.7268 Q1313.92 17.7268 1308.33 23.9246 Q1302.78 30.1225 1302.78 42.3968 Q1302.78 54.6305 1308.33 60.8284 Q1313.92 67.0263 1325.01 67.0263 Q1329.35 67.0263 1332.75 66.2971 Q1336.15 65.5274 1338.87 63.9476 Z\" fill=\"#000000\" fill-rule=\"evenodd\" fill-opacity=\"1\" /><path clip-path=\"url(#clip670)\" d=\"M1387.88 34.1734 Q1386.63 33.4443 1385.13 33.1202 Q1383.67 32.7556 1381.89 32.7556 Q1375.57 32.7556 1372.17 36.8875 Q1368.81 40.9789 1368.81 48.6757 L1368.81 72.576 L1361.31 72.576 L1361.31 27.2059 L1368.81 27.2059 L1368.81 34.2544 Q1371.15 30.1225 1374.92 28.1376 Q1378.69 26.1121 1384.08 26.1121 Q1384.85 26.1121 1385.78 26.2337 Q1386.71 26.3147 1387.84 26.5172 L1387.88 34.1734 Z\" fill=\"#000000\" fill-rule=\"evenodd\" fill-opacity=\"1\" /><path clip-path=\"url(#clip670)\" d=\"M1416.32 49.7694 Q1407.29 49.7694 1403.8 51.8354 Q1400.32 53.9013 1400.32 58.8839 Q1400.32 62.8538 1402.91 65.2034 Q1405.55 67.5124 1410.04 67.5124 Q1416.24 67.5124 1419.97 63.1374 Q1423.74 58.7219 1423.74 51.4303 L1423.74 49.7694 L1416.32 49.7694 M1431.19 46.6907 L1431.19 72.576 L1423.74 72.576 L1423.74 65.6895 Q1421.18 69.8214 1417.38 71.8063 Q1413.57 73.7508 1408.06 73.7508 Q1401.09 73.7508 1396.96 69.8619 Q1392.87 65.9325 1392.87 59.3701 Q1392.87 51.7138 1397.97 47.825 Q1403.12 43.9361 1413.28 43.9361 L1423.74 43.9361 L1423.74 43.2069 Q1423.74 38.0623 1420.33 35.2672 Q1416.97 32.4315 1410.85 32.4315 Q1406.96 32.4315 1403.28 33.3632 Q1399.59 34.295 1396.19 36.1584 L1396.19 29.2718 Q1400.28 27.692 1404.13 26.9223 Q1407.98 26.1121 1411.62 26.1121 Q1421.47 26.1121 1426.33 31.2163 Q1431.19 36.3204 1431.19 46.6907 Z\" fill=\"#000000\" fill-rule=\"evenodd\" fill-opacity=\"1\" /><path clip-path=\"url(#clip670)\" d=\"M1481.87 35.9153 Q1484.66 30.8922 1488.55 28.5022 Q1492.44 26.1121 1497.7 26.1121 Q1504.79 26.1121 1508.64 31.0947 Q1512.49 36.0368 1512.49 45.1919 L1512.49 72.576 L1505 72.576 L1505 45.4349 Q1505 38.913 1502.69 35.7533 Q1500.38 32.5936 1495.64 32.5936 Q1489.85 32.5936 1486.48 36.4419 Q1483.12 40.2903 1483.12 46.9338 L1483.12 72.576 L1475.63 72.576 L1475.63 45.4349 Q1475.63 38.8725 1473.32 35.7533 Q1471.01 32.5936 1466.19 32.5936 Q1460.48 32.5936 1457.11 36.4824 Q1453.75 40.3308 1453.75 46.9338 L1453.75 72.576 L1446.26 72.576 L1446.26 27.2059 L1453.75 27.2059 L1453.75 34.2544 Q1456.3 30.082 1459.87 28.0971 Q1463.43 26.1121 1468.34 26.1121 Q1473.28 26.1121 1476.72 28.6237 Q1480.2 31.1352 1481.87 35.9153 Z\" fill=\"#000000\" fill-rule=\"evenodd\" fill-opacity=\"1\" /><path clip-path=\"url(#clip670)\" d=\"M1523.59 46.5287 L1545.42 46.5287 L1545.42 53.1722 L1523.59 53.1722 L1523.59 46.5287 Z\" fill=\"#000000\" fill-rule=\"evenodd\" fill-opacity=\"1\" /><path clip-path=\"url(#clip670)\" d=\"M1593.87 14.0809 L1593.87 22.0612 Q1589.21 19.8332 1585.08 18.7395 Q1580.95 17.6457 1577.1 17.6457 Q1570.42 17.6457 1566.77 20.2383 Q1563.17 22.8309 1563.17 27.611 Q1563.17 31.6214 1565.56 33.6873 Q1567.99 35.7128 1574.71 36.9686 L1579.65 37.9813 Q1588.81 39.7232 1593.14 44.1387 Q1597.52 48.5136 1597.52 55.8863 Q1597.52 64.6767 1591.6 69.2137 Q1585.73 73.7508 1574.35 73.7508 Q1570.05 73.7508 1565.19 72.7785 Q1560.37 71.8063 1555.19 69.9024 L1555.19 61.4765 Q1560.17 64.2716 1564.95 65.6895 Q1569.73 67.1073 1574.35 67.1073 Q1581.36 67.1073 1585.16 64.3527 Q1588.97 61.598 1588.97 56.4939 Q1588.97 52.0379 1586.22 49.5264 Q1583.5 47.0148 1577.26 45.759 L1572.28 44.7868 Q1563.13 42.9639 1559.04 39.075 Q1554.94 35.1862 1554.94 28.2591 Q1554.94 20.2383 1560.57 15.6203 Q1566.25 11.0023 1576.17 11.0023 Q1580.42 11.0023 1584.84 11.7719 Q1589.26 12.5416 1593.87 14.0809 Z\" fill=\"#000000\" fill-rule=\"evenodd\" fill-opacity=\"1\" /><path clip-path=\"url(#clip670)\" d=\"M1642.61 28.9478 L1642.61 35.9153 Q1639.45 34.1734 1636.25 33.3227 Q1633.09 32.4315 1629.85 32.4315 Q1622.59 32.4315 1618.58 37.0496 Q1614.57 41.6271 1614.57 49.9314 Q1614.57 58.2358 1618.58 62.8538 Q1622.59 67.4314 1629.85 67.4314 Q1633.09 67.4314 1636.25 66.5807 Q1639.45 65.6895 1642.61 63.9476 L1642.61 70.8341 Q1639.49 72.2924 1636.12 73.0216 Q1632.8 73.7508 1629.04 73.7508 Q1618.79 73.7508 1612.75 67.3098 Q1606.71 60.8689 1606.71 49.9314 Q1606.71 38.832 1612.79 32.472 Q1618.91 26.1121 1629.52 26.1121 Q1632.96 26.1121 1636.25 26.8413 Q1639.53 27.5299 1642.61 28.9478 Z\" fill=\"#000000\" fill-rule=\"evenodd\" fill-opacity=\"1\" /><path clip-path=\"url(#clip670)\" d=\"M1693.28 45.1919 L1693.28 72.576 L1685.83 72.576 L1685.83 45.4349 Q1685.83 38.994 1683.32 35.7938 Q1680.81 32.5936 1675.78 32.5936 Q1669.75 32.5936 1666.26 36.4419 Q1662.78 40.2903 1662.78 46.9338 L1662.78 72.576 L1655.29 72.576 L1655.29 9.54393 L1662.78 9.54393 L1662.78 34.2544 Q1665.45 30.163 1669.06 28.1376 Q1672.7 26.1121 1677.44 26.1121 Q1685.26 26.1121 1689.27 30.9732 Q1693.28 35.7938 1693.28 45.1919 Z\" fill=\"#000000\" fill-rule=\"evenodd\" fill-opacity=\"1\" /><path clip-path=\"url(#clip670)\" d=\"M1743.47 35.9153 Q1746.27 30.8922 1750.16 28.5022 Q1754.05 26.1121 1759.31 26.1121 Q1766.4 26.1121 1770.25 31.0947 Q1774.1 36.0368 1774.1 45.1919 L1774.1 72.576 L1766.6 72.576 L1766.6 45.4349 Q1766.6 38.913 1764.29 35.7533 Q1761.99 32.5936 1757.25 32.5936 Q1751.45 32.5936 1748.09 36.4419 Q1744.73 40.2903 1744.73 46.9338 L1744.73 72.576 L1737.23 72.576 L1737.23 45.4349 Q1737.23 38.8725 1734.93 35.7533 Q1732.62 32.5936 1727.8 32.5936 Q1722.08 32.5936 1718.72 36.4824 Q1715.36 40.3308 1715.36 46.9338 L1715.36 72.576 L1707.87 72.576 L1707.87 27.2059 L1715.36 27.2059 L1715.36 34.2544 Q1717.91 30.082 1721.48 28.0971 Q1725.04 26.1121 1729.94 26.1121 Q1734.89 26.1121 1738.33 28.6237 Q1741.81 31.1352 1743.47 35.9153 Z\" fill=\"#000000\" fill-rule=\"evenodd\" fill-opacity=\"1\" /><path clip-path=\"url(#clip670)\" d=\"M1788.96 27.2059 L1796.42 27.2059 L1796.42 72.576 L1788.96 72.576 L1788.96 27.2059 M1788.96 9.54393 L1796.42 9.54393 L1796.42 18.9825 L1788.96 18.9825 L1788.96 9.54393 Z\" fill=\"#000000\" fill-rule=\"evenodd\" fill-opacity=\"1\" /><path clip-path=\"url(#clip670)\" d=\"M1841.87 34.0924 L1841.87 9.54393 L1849.32 9.54393 L1849.32 72.576 L1841.87 72.576 L1841.87 65.7705 Q1839.52 69.8214 1835.91 71.8063 Q1832.35 73.7508 1827.33 73.7508 Q1819.1 73.7508 1813.92 67.1883 Q1808.77 60.6258 1808.77 49.9314 Q1808.77 39.2371 1813.92 32.6746 Q1819.1 26.1121 1827.33 26.1121 Q1832.35 26.1121 1835.91 28.0971 Q1839.52 30.0415 1841.87 34.0924 M1816.47 49.9314 Q1816.47 58.1548 1819.83 62.8538 Q1823.24 67.5124 1829.15 67.5124 Q1835.06 67.5124 1838.47 62.8538 Q1841.87 58.1548 1841.87 49.9314 Q1841.87 41.7081 1838.47 37.0496 Q1835.06 32.3505 1829.15 32.3505 Q1823.24 32.3505 1819.83 37.0496 Q1816.47 41.7081 1816.47 49.9314 Z\" fill=\"#000000\" fill-rule=\"evenodd\" fill-opacity=\"1\" /><path clip-path=\"url(#clip670)\" d=\"M1872.05 14.324 L1872.05 27.2059 L1887.4 27.2059 L1887.4 32.9987 L1872.05 32.9987 L1872.05 57.6282 Q1872.05 63.1779 1873.55 64.7578 Q1875.09 66.3376 1879.75 66.3376 L1887.4 66.3376 L1887.4 72.576 L1879.75 72.576 Q1871.12 72.576 1867.84 69.3758 Q1864.55 66.1351 1864.55 57.6282 L1864.55 32.9987 L1859.09 32.9987 L1859.09 27.2059 L1864.55 27.2059 L1864.55 14.324 L1872.05 14.324 Z\" fill=\"#000000\" fill-rule=\"evenodd\" fill-opacity=\"1\" /><polyline clip-path=\"url(#clip672)\" style=\"stroke:#009af9; stroke-linecap:butt; stroke-linejoin:round; stroke-width:8; stroke-opacity:1; fill:none\" points=\"\n",
       "  307.017,2968.32 319.13,2878.55 331.243,2793.86 343.356,2746.22 355.469,2713.53 367.582,2688.92 379.695,2412.64 391.808,2335.97 403.921,2639.47 416.034,2627.61 \n",
       "  428.147,2626.57 440.26,2607.93 452.373,2102.11 464.486,2076.43 476.598,2050.47 488.711,2026.16 500.824,2572.87 512.937,1963.74 525.05,1946.86 537.163,1923.34 \n",
       "  549.276,1885.08 561.389,1863.61 573.502,1841.12 585.615,1816.52 597.728,1784.61 609.841,1763.98 621.954,1740.18 634.067,2602.71 646.18,2607.81 658.293,2613.38 \n",
       "  670.405,2619.49 682.518,2626.26 694.631,2633.85 706.744,2642.46 718.857,2652.43 730.97,2664.23 743.083,2678.7 755.196,2697.37 767.309,2723.72 779.422,2768.83 \n",
       "  791.535,2968.32 803.648,1458.87 815.761,1442.98 827.874,2696.99 839.987,2678.19 852.1,2663.59 864.212,2651.66 876.325,2641.56 888.438,2632.81 900.551,2625.09 \n",
       "  912.664,2618.18 924.777,2611.93 936.89,2606.21 949.003,2600.96 961.116,2596.09 973.229,2591.55 985.342,1224.63 997.455,1211.72 1009.57,1198.62 1021.68,1185.93 \n",
       "  1033.79,1173.38 1045.91,1160.86 1058.02,1148.64 1070.13,1136.55 1082.25,1125 1094.36,1113.18 1106.47,1101.5 1118.58,1087.81 1130.7,1076.29 1142.81,1064.79 \n",
       "  1154.92,1053.64 1167.04,996.729 1179.15,984.818 1191.26,973.842 1203.37,963.023 1215.49,952.359 1227.6,940.931 1239.71,930.469 1251.83,920.13 1263.94,909.899 \n",
       "  1276.05,898.903 1288.17,888.774 1300.28,878.781 1312.39,868.929 1324.5,858.352 1336.62,848.695 1348.73,813.526 1360.84,803.233 1372.96,793.839 1385.07,783.935 \n",
       "  1397.18,774.182 1409.29,765.017 1421.41,755.435 1433.52,746.442 1445.63,737.542 1457.75,728.173 1469.86,719.428 1481.97,710.236 1494.09,701.635 1506.2,693.093 \n",
       "  1518.31,598.818 1530.42,589.174 1542.54,580.339 1554.65,571.436 1566.76,562.678 1578.88,625.214 1590.99,615.042 1603.1,606.858 1615.21,598.739 1627.33,590.673 \n",
       "  1639.44,582.67 1651.55,574.738 1663.67,566.844 1675.78,559.03 1687.89,551.269 1700.01,543.571 1712.12,535.916 1724.23,528.231 1736.34,520.698 1748.46,513.22 \n",
       "  1760.57,505.793 1772.68,498.37 1784.8,491.029 1796.91,483.755 1809.02,476.536 1821.13,469.363 1833.25,462.239 1845.36,455.165 1857.47,448.126 1869.59,441.002 \n",
       "  1881.7,434.061 1893.81,427.163 1905.93,420.322 1918.04,413.523 1930.15,406.771 1942.26,400.064 1954.38,393.384 1966.49,386.737 1978.6,380.155 1990.72,373.612 \n",
       "  2002.83,367.115 2014.94,360.661 2027.05,354.246 2039.17,347.874 2051.28,341.542 2063.39,335.241 2075.51,328.991 2087.62,322.786 2099.73,316.617 2111.84,310.494 \n",
       "  2123.96,304.415 2136.07,298.381 2148.18,292.391 2160.3,286.45 2172.41,280.557 2184.52,274.716 2196.64,268.862 2208.75,263.031 2220.86,257.163 2232.97,251.562 \n",
       "  2245.09,246.031 2257.2,240.559 2269.31,235.187 2281.43,229.907 2293.54,224.728 2305.65,219.658 2317.76,214.707 2329.88,209.884 2341.99,205.202 2354.1,200.677 \n",
       "  2366.22,196.275 2378.33,192.099 2390.44,188.113 2402.56,184.329 2414.67,180.747 2426.78,177.392 2438.89,174.261 2451.01,171.357 2463.12,168.679 2475.23,166.226 \n",
       "  2487.35,163.99 \n",
       "  \"/>\n",
       "<polyline clip-path=\"url(#clip672)\" style=\"stroke:#e26f46; stroke-linecap:butt; stroke-linejoin:round; stroke-width:8; stroke-opacity:1; fill:none\" points=\"\n",
       "  307.017,2968.32 319.13,2968.32 331.243,2968.32 343.356,2968.32 355.469,2968.32 367.582,2968.32 379.695,2585.92 391.808,2533.48 403.921,2968.32 416.034,2968.32 \n",
       "  428.147,2968.32 440.26,2968.32 452.373,2533.48 464.486,2514.32 476.598,2540.75 488.711,2550.12 500.824,2968.32 512.937,2578.65 525.05,2538.77 537.163,2550.12 \n",
       "  549.276,2563.33 561.389,2563.33 573.502,2550.12 585.615,2533.48 597.728,2968.32 609.841,2578.65 621.954,2585.92 634.067,2968.32 646.18,2968.32 658.293,2968.32 \n",
       "  670.405,2968.32 682.518,2968.32 694.631,2968.32 706.744,2968.32 718.857,2968.32 730.97,2968.32 743.083,2968.32 755.196,2968.32 767.309,2968.32 779.422,2968.32 \n",
       "  791.535,2968.32 803.648,2549.45 815.761,2547.51 827.874,2968.32 839.987,2968.32 852.1,2968.32 864.212,2968.32 876.325,2968.32 888.438,2968.32 900.551,2968.32 \n",
       "  912.664,2968.32 924.777,2968.32 936.89,2968.32 949.003,2968.32 961.116,2968.32 973.229,2968.32 985.342,2578.65 997.455,2572.71 1009.57,2607.5 1021.68,2968.32 \n",
       "  1033.79,2766.6 1045.91,2721.43 1058.02,2968.32 1070.13,2968.32 1082.25,2766.6 1094.36,2653.67 1106.47,2668.99 1118.58,2697.84 1130.7,2698.84 1142.81,2585.41 \n",
       "  1154.92,2581.19 1167.04,2649.84 1179.15,2583.94 1191.26,2653.67 1203.37,2668.99 1215.49,2668.99 1227.6,2968.32 1239.71,2674.28 1251.83,2766.6 1263.94,2968.32 \n",
       "  1276.05,2744.02 1288.17,2583.94 1300.28,2759.33 1312.39,2674.16 1324.5,2766.6 1336.62,2674.16 1348.73,2583.82 1360.84,2563.27 1372.96,2562.33 1385.07,2653.61 \n",
       "  1397.18,2653.67 1409.29,2672.42 1421.41,2674.28 1433.52,2766.6 1445.63,2585.92 1457.75,2764.63 1469.86,2744.02 1481.97,2968.32 1494.09,2856.94 1506.2,2676.26 \n",
       "  1518.31,2563.33 1530.42,2674.28 1542.54,2630.58 1554.65,2630.96 1566.76,2719.45 1578.88,2595.29 1590.99,2629.11 1603.1,2809.8 1615.21,2697.84 1627.33,2719.45 \n",
       "  1639.44,2630.84 1651.55,2628.99 1663.67,2668.18 1675.78,2697.84 1687.89,2719.45 1700.01,2811.77 1712.12,2631.09 1724.23,2630.83 1736.34,2630.96 1748.46,2631.09 \n",
       "  1760.57,2631.09 1772.68,2630.96 1784.8,2606.53 1796.91,2607.5 1809.02,2721.43 1821.13,2968.32 1833.25,2719.45 1845.36,2968.32 1857.47,2628.99 1869.59,2719.45 \n",
       "  1881.7,2698.84 1893.81,2721.43 1905.93,2721.4 1918.04,2789.19 1930.15,2789.19 1942.26,2811.77 1954.38,2629.11 1966.49,2698.83 1978.6,2698.83 1990.72,2720.92 \n",
       "  2002.83,2968.32 2014.94,2968.32 2027.05,2947.28 2039.17,2968.32 2051.28,2968.32 2063.39,2631.06 2075.51,2947.28 2087.62,2968.32 2099.73,2698.83 2111.84,2698.59 \n",
       "  2123.96,2834.36 2136.07,2856.94 2148.18,2720.89 2160.3,2834.36 2172.41,2968.32 2184.52,2721.43 2196.64,2968.32 2208.75,2608.49 2220.86,2856.94 2232.97,2968.32 \n",
       "  2245.09,2766.57 2257.2,2766.6 2269.31,2743.01 2281.43,2764.63 2293.54,2968.32 2305.65,2968.32 2317.76,2834.1 2329.88,2743 2341.99,2766.6 2354.1,2968.32 \n",
       "  2366.22,2968.32 2378.33,2968.32 2390.44,2742.04 2402.56,2744.02 2414.67,2630.58 2426.78,2630.58 2438.89,2631.09 2451.01,2630.58 2463.12,2631.09 2475.23,2968.32 \n",
       "  2487.35,2968.32 \n",
       "  \"/>\n",
       "<path clip-path=\"url(#clip670)\" d=\"\n",
       "M1739.64 370.829 L2475.72 370.829 L2475.72 215.309 L1739.64 215.309  Z\n",
       "  \" fill=\"#ffffff\" fill-rule=\"evenodd\" fill-opacity=\"1\"/>\n",
       "<polyline clip-path=\"url(#clip670)\" style=\"stroke:#000000; stroke-linecap:butt; stroke-linejoin:round; stroke-width:4; stroke-opacity:1; fill:none\" points=\"\n",
       "  1739.64,370.829 2475.72,370.829 2475.72,215.309 1739.64,215.309 1739.64,370.829 \n",
       "  \"/>\n",
       "<polyline clip-path=\"url(#clip670)\" style=\"stroke:#009af9; stroke-linecap:butt; stroke-linejoin:round; stroke-width:4; stroke-opacity:1; fill:none\" points=\"\n",
       "  1765.32,267.149 1919.4,267.149 \n",
       "  \"/>\n",
       "<path clip-path=\"url(#clip670)\" d=\"M1956.98 261.489 Q1953.55 261.489 1951.56 264.174 Q1949.57 266.836 1949.57 271.489 Q1949.57 276.142 1951.54 278.827 Q1953.53 281.489 1956.98 281.489 Q1960.38 281.489 1962.37 278.804 Q1964.36 276.119 1964.36 271.489 Q1964.36 266.883 1962.37 264.198 Q1960.38 261.489 1956.98 261.489 M1956.98 257.878 Q1962.53 257.878 1965.7 261.489 Q1968.88 265.1 1968.88 271.489 Q1968.88 277.855 1965.7 281.489 Q1962.53 285.1 1956.98 285.1 Q1951.4 285.1 1948.23 281.489 Q1945.08 277.855 1945.08 271.489 Q1945.08 265.1 1948.23 261.489 Q1951.4 257.878 1956.98 257.878 Z\" fill=\"#000000\" fill-rule=\"evenodd\" fill-opacity=\"1\" /><path clip-path=\"url(#clip670)\" d=\"M1990.96 262.485 Q1990.24 262.068 1989.38 261.883 Q1988.55 261.674 1987.53 261.674 Q1983.92 261.674 1981.98 264.036 Q1980.06 266.373 1980.06 270.772 L1980.06 284.429 L1975.77 284.429 L1975.77 258.503 L1980.06 258.503 L1980.06 262.531 Q1981.4 260.17 1983.55 259.036 Q1985.7 257.878 1988.78 257.878 Q1989.22 257.878 1989.75 257.948 Q1990.29 257.994 1990.94 258.11 L1990.96 262.485 Z\" fill=\"#000000\" fill-rule=\"evenodd\" fill-opacity=\"1\" /><path clip-path=\"url(#clip670)\" d=\"M1999.64 251.142 L1999.64 258.503 L2008.41 258.503 L2008.41 261.813 L1999.64 261.813 L1999.64 275.887 Q1999.64 279.059 2000.5 279.961 Q2001.37 280.864 2004.04 280.864 L2008.41 280.864 L2008.41 284.429 L2004.04 284.429 Q1999.11 284.429 1997.23 282.6 Q1995.36 280.748 1995.36 275.887 L1995.36 261.813 L1992.23 261.813 L1992.23 258.503 L1995.36 258.503 L1995.36 251.142 L1999.64 251.142 Z\" fill=\"#000000\" fill-rule=\"evenodd\" fill-opacity=\"1\" /><path clip-path=\"url(#clip670)\" d=\"M2035.56 268.781 L2035.56 284.429 L2031.31 284.429 L2031.31 268.92 Q2031.31 265.239 2029.87 263.411 Q2028.43 261.582 2025.56 261.582 Q2022.12 261.582 2020.12 263.781 Q2018.13 265.98 2018.13 269.776 L2018.13 284.429 L2013.85 284.429 L2013.85 248.411 L2018.13 248.411 L2018.13 262.531 Q2019.66 260.193 2021.72 259.036 Q2023.81 257.878 2026.51 257.878 Q2030.98 257.878 2033.27 260.656 Q2035.56 263.411 2035.56 268.781 Z\" fill=\"#000000\" fill-rule=\"evenodd\" fill-opacity=\"1\" /><path clip-path=\"url(#clip670)\" d=\"M2054.11 261.489 Q2050.68 261.489 2048.69 264.174 Q2046.7 266.836 2046.7 271.489 Q2046.7 276.142 2048.67 278.827 Q2050.66 281.489 2054.11 281.489 Q2057.51 281.489 2059.5 278.804 Q2061.49 276.119 2061.49 271.489 Q2061.49 266.883 2059.5 264.198 Q2057.51 261.489 2054.11 261.489 M2054.11 257.878 Q2059.66 257.878 2062.83 261.489 Q2066 265.1 2066 271.489 Q2066 277.855 2062.83 281.489 Q2059.66 285.1 2054.11 285.1 Q2048.53 285.1 2045.36 281.489 Q2042.21 277.855 2042.21 271.489 Q2042.21 265.1 2045.36 261.489 Q2048.53 257.878 2054.11 257.878 Z\" fill=\"#000000\" fill-rule=\"evenodd\" fill-opacity=\"1\" /><path clip-path=\"url(#clip670)\" d=\"M2094.62 268.781 L2094.62 284.429 L2090.36 284.429 L2090.36 268.92 Q2090.36 265.239 2088.92 263.411 Q2087.49 261.582 2084.62 261.582 Q2081.17 261.582 2079.18 263.781 Q2077.18 265.98 2077.18 269.776 L2077.18 284.429 L2072.9 284.429 L2072.9 258.503 L2077.18 258.503 L2077.18 262.531 Q2078.71 260.193 2080.77 259.036 Q2082.86 257.878 2085.56 257.878 Q2090.03 257.878 2092.32 260.656 Q2094.62 263.411 2094.62 268.781 Z\" fill=\"#000000\" fill-rule=\"evenodd\" fill-opacity=\"1\" /><path clip-path=\"url(#clip670)\" d=\"M2113.16 261.489 Q2109.73 261.489 2107.74 264.174 Q2105.75 266.836 2105.75 271.489 Q2105.75 276.142 2107.72 278.827 Q2109.71 281.489 2113.16 281.489 Q2116.56 281.489 2118.55 278.804 Q2120.54 276.119 2120.54 271.489 Q2120.54 266.883 2118.55 264.198 Q2116.56 261.489 2113.16 261.489 M2113.16 257.878 Q2118.71 257.878 2121.88 261.489 Q2125.05 265.1 2125.05 271.489 Q2125.05 277.855 2121.88 281.489 Q2118.71 285.1 2113.16 285.1 Q2107.58 285.1 2104.41 281.489 Q2101.26 277.855 2101.26 271.489 Q2101.26 265.1 2104.41 261.489 Q2107.58 257.878 2113.16 257.878 Z\" fill=\"#000000\" fill-rule=\"evenodd\" fill-opacity=\"1\" /><path clip-path=\"url(#clip670)\" d=\"M2147.14 262.485 Q2146.42 262.068 2145.56 261.883 Q2144.73 261.674 2143.71 261.674 Q2140.1 261.674 2138.16 264.036 Q2136.24 266.373 2136.24 270.772 L2136.24 284.429 L2131.95 284.429 L2131.95 258.503 L2136.24 258.503 L2136.24 262.531 Q2137.58 260.17 2139.73 259.036 Q2141.88 257.878 2144.96 257.878 Q2145.4 257.878 2145.93 257.948 Q2146.47 257.994 2147.11 258.11 L2147.14 262.485 Z\" fill=\"#000000\" fill-rule=\"evenodd\" fill-opacity=\"1\" /><path clip-path=\"url(#clip670)\" d=\"M2170.96 263.48 Q2172.55 260.61 2174.78 259.244 Q2177 257.878 2180.01 257.878 Q2184.06 257.878 2186.26 260.725 Q2188.46 263.549 2188.46 268.781 L2188.46 284.429 L2184.17 284.429 L2184.17 268.92 Q2184.17 265.193 2182.86 263.387 Q2181.54 261.582 2178.83 261.582 Q2175.52 261.582 2173.6 263.781 Q2171.67 265.98 2171.67 269.776 L2171.67 284.429 L2167.39 284.429 L2167.39 268.92 Q2167.39 265.17 2166.07 263.387 Q2164.75 261.582 2162 261.582 Q2158.74 261.582 2156.81 263.804 Q2154.89 266.003 2154.89 269.776 L2154.89 284.429 L2150.61 284.429 L2150.61 258.503 L2154.89 258.503 L2154.89 262.531 Q2156.35 260.147 2158.39 259.012 Q2160.42 257.878 2163.23 257.878 Q2166.05 257.878 2168.02 259.313 Q2170.01 260.749 2170.96 263.48 Z\" fill=\"#000000\" fill-rule=\"evenodd\" fill-opacity=\"1\" /><path clip-path=\"url(#clip670)\" d=\"M2208.73 271.397 Q2203.57 271.397 2201.58 272.577 Q2199.59 273.758 2199.59 276.605 Q2199.59 278.873 2201.07 280.216 Q2202.58 281.535 2205.15 281.535 Q2208.69 281.535 2210.82 279.035 Q2212.97 276.512 2212.97 272.346 L2212.97 271.397 L2208.73 271.397 M2217.23 269.637 L2217.23 284.429 L2212.97 284.429 L2212.97 280.494 Q2211.51 282.855 2209.34 283.989 Q2207.16 285.1 2204.01 285.1 Q2200.03 285.1 2197.67 282.878 Q2195.33 280.633 2195.33 276.883 Q2195.33 272.508 2198.25 270.286 Q2201.19 268.063 2207 268.063 L2212.97 268.063 L2212.97 267.647 Q2212.97 264.707 2211.03 263.11 Q2209.11 261.489 2205.61 261.489 Q2203.39 261.489 2201.28 262.022 Q2199.17 262.554 2197.23 263.619 L2197.23 259.684 Q2199.57 258.781 2201.77 258.341 Q2203.97 257.878 2206.05 257.878 Q2211.67 257.878 2214.45 260.795 Q2217.23 263.711 2217.23 269.637 Z\" fill=\"#000000\" fill-rule=\"evenodd\" fill-opacity=\"1\" /><path clip-path=\"url(#clip670)\" d=\"M2226 248.411 L2230.26 248.411 L2230.26 284.429 L2226 284.429 L2226 248.411 Z\" fill=\"#000000\" fill-rule=\"evenodd\" fill-opacity=\"1\" /><path clip-path=\"url(#clip670)\" d=\"M2239.17 258.503 L2243.43 258.503 L2243.43 284.429 L2239.17 284.429 L2239.17 258.503 M2239.17 248.411 L2243.43 248.411 L2243.43 253.804 L2239.17 253.804 L2239.17 248.411 Z\" fill=\"#000000\" fill-rule=\"evenodd\" fill-opacity=\"1\" /><path clip-path=\"url(#clip670)\" d=\"M2256.56 251.142 L2256.56 258.503 L2265.33 258.503 L2265.33 261.813 L2256.56 261.813 L2256.56 275.887 Q2256.56 279.059 2257.42 279.961 Q2258.29 280.864 2260.96 280.864 L2265.33 280.864 L2265.33 284.429 L2260.96 284.429 Q2256.03 284.429 2254.15 282.6 Q2252.28 280.748 2252.28 275.887 L2252.28 261.813 L2249.15 261.813 L2249.15 258.503 L2252.28 258.503 L2252.28 251.142 L2256.56 251.142 Z\" fill=\"#000000\" fill-rule=\"evenodd\" fill-opacity=\"1\" /><path clip-path=\"url(#clip670)\" d=\"M2281.72 286.836 Q2279.92 291.466 2278.2 292.878 Q2276.49 294.29 2273.62 294.29 L2270.22 294.29 L2270.22 290.725 L2272.72 290.725 Q2274.48 290.725 2275.45 289.892 Q2276.42 289.059 2277.6 285.957 L2278.36 284.012 L2267.88 258.503 L2272.39 258.503 L2280.49 278.781 L2288.6 258.503 L2293.11 258.503 L2281.72 286.836 Z\" fill=\"#000000\" fill-rule=\"evenodd\" fill-opacity=\"1\" /><path clip-path=\"url(#clip670)\" d=\"M2336.23 270.401 L2336.23 272.485 L2316.65 272.485 Q2316.93 276.883 2319.29 279.197 Q2321.67 281.489 2325.91 281.489 Q2328.36 281.489 2330.66 280.887 Q2332.97 280.285 2335.24 279.082 L2335.24 283.11 Q2332.95 284.082 2330.54 284.591 Q2328.13 285.1 2325.66 285.1 Q2319.45 285.1 2315.82 281.489 Q2312.21 277.878 2312.21 271.721 Q2312.21 265.355 2315.63 261.628 Q2319.08 257.878 2324.91 257.878 Q2330.15 257.878 2333.18 261.258 Q2336.23 264.614 2336.23 270.401 M2331.98 269.151 Q2331.93 265.656 2330.01 263.573 Q2328.11 261.489 2324.96 261.489 Q2321.4 261.489 2319.24 263.503 Q2317.11 265.517 2316.79 269.174 L2331.98 269.151 Z\" fill=\"#000000\" fill-rule=\"evenodd\" fill-opacity=\"1\" /><path clip-path=\"url(#clip670)\" d=\"M2358.25 262.485 Q2357.53 262.068 2356.67 261.883 Q2355.84 261.674 2354.82 261.674 Q2351.21 261.674 2349.27 264.036 Q2347.35 266.373 2347.35 270.772 L2347.35 284.429 L2343.06 284.429 L2343.06 258.503 L2347.35 258.503 L2347.35 262.531 Q2348.69 260.17 2350.84 259.036 Q2352.99 257.878 2356.07 257.878 Q2356.51 257.878 2357.04 257.948 Q2357.58 257.994 2358.22 258.11 L2358.25 262.485 Z\" fill=\"#000000\" fill-rule=\"evenodd\" fill-opacity=\"1\" /><path clip-path=\"url(#clip670)\" d=\"M2376.91 262.485 Q2376.19 262.068 2375.33 261.883 Q2374.5 261.674 2373.48 261.674 Q2369.87 261.674 2367.92 264.036 Q2366 266.373 2366 270.772 L2366 284.429 L2361.72 284.429 L2361.72 258.503 L2366 258.503 L2366 262.531 Q2367.35 260.17 2369.5 259.036 Q2371.65 257.878 2374.73 257.878 Q2375.17 257.878 2375.7 257.948 Q2376.23 257.994 2376.88 258.11 L2376.91 262.485 Z\" fill=\"#000000\" fill-rule=\"evenodd\" fill-opacity=\"1\" /><path clip-path=\"url(#clip670)\" d=\"M2390.38 261.489 Q2386.95 261.489 2384.96 264.174 Q2382.97 266.836 2382.97 271.489 Q2382.97 276.142 2384.94 278.827 Q2386.93 281.489 2390.38 281.489 Q2393.78 281.489 2395.77 278.804 Q2397.76 276.119 2397.76 271.489 Q2397.76 266.883 2395.77 264.198 Q2393.78 261.489 2390.38 261.489 M2390.38 257.878 Q2395.93 257.878 2399.1 261.489 Q2402.28 265.1 2402.28 271.489 Q2402.28 277.855 2399.1 281.489 Q2395.93 285.1 2390.38 285.1 Q2384.8 285.1 2381.63 281.489 Q2378.48 277.855 2378.48 271.489 Q2378.48 265.1 2381.63 261.489 Q2384.8 257.878 2390.38 257.878 Z\" fill=\"#000000\" fill-rule=\"evenodd\" fill-opacity=\"1\" /><path clip-path=\"url(#clip670)\" d=\"M2424.36 262.485 Q2423.64 262.068 2422.78 261.883 Q2421.95 261.674 2420.93 261.674 Q2417.32 261.674 2415.38 264.036 Q2413.46 266.373 2413.46 270.772 L2413.46 284.429 L2409.17 284.429 L2409.17 258.503 L2413.46 258.503 L2413.46 262.531 Q2414.8 260.17 2416.95 259.036 Q2419.1 257.878 2422.18 257.878 Q2422.62 257.878 2423.16 257.948 Q2423.69 257.994 2424.34 258.11 L2424.36 262.485 Z\" fill=\"#000000\" fill-rule=\"evenodd\" fill-opacity=\"1\" /><polyline clip-path=\"url(#clip670)\" style=\"stroke:#e26f46; stroke-linecap:butt; stroke-linejoin:round; stroke-width:4; stroke-opacity:1; fill:none\" points=\"\n",
       "  1765.32,318.989 1919.4,318.989 \n",
       "  \"/>\n",
       "<path clip-path=\"url(#clip670)\" d=\"M1960.26 314.325 Q1959.55 313.908 1958.69 313.723 Q1957.86 313.514 1956.84 313.514 Q1953.23 313.514 1951.28 315.876 Q1949.36 318.213 1949.36 322.612 L1949.36 336.269 L1945.08 336.269 L1945.08 310.343 L1949.36 310.343 L1949.36 314.371 Q1950.7 312.01 1952.86 310.876 Q1955.01 309.718 1958.09 309.718 Q1958.53 309.718 1959.06 309.788 Q1959.59 309.834 1960.24 309.95 L1960.26 314.325 Z\" fill=\"#000000\" fill-rule=\"evenodd\" fill-opacity=\"1\" /><path clip-path=\"url(#clip670)\" d=\"M1985.87 322.241 L1985.87 324.325 L1966.28 324.325 Q1966.56 328.723 1968.92 331.037 Q1971.31 333.329 1975.54 333.329 Q1978 333.329 1980.29 332.727 Q1982.6 332.125 1984.87 330.922 L1984.87 334.95 Q1982.58 335.922 1980.17 336.431 Q1977.76 336.94 1975.29 336.94 Q1969.08 336.94 1965.45 333.329 Q1961.84 329.718 1961.84 323.561 Q1961.84 317.195 1965.26 313.468 Q1968.71 309.718 1974.55 309.718 Q1979.78 309.718 1982.81 313.098 Q1985.87 316.454 1985.87 322.241 M1981.61 320.991 Q1981.56 317.496 1979.64 315.413 Q1977.74 313.329 1974.59 313.329 Q1971.03 313.329 1968.88 315.343 Q1966.75 317.357 1966.42 321.014 L1981.61 320.991 Z\" fill=\"#000000\" fill-rule=\"evenodd\" fill-opacity=\"1\" /><path clip-path=\"url(#clip670)\" d=\"M2011.51 311.339 L2011.51 315.32 Q2009.71 314.325 2007.88 313.839 Q2006.07 313.329 2004.22 313.329 Q2000.08 313.329 1997.79 315.968 Q1995.5 318.584 1995.5 323.329 Q1995.5 328.075 1997.79 330.713 Q2000.08 333.329 2004.22 333.329 Q2006.07 333.329 2007.88 332.843 Q2009.71 332.334 2011.51 331.338 L2011.51 335.274 Q2009.73 336.107 2007.81 336.524 Q2005.91 336.94 2003.76 336.94 Q1997.9 336.94 1994.45 333.26 Q1991 329.579 1991 323.329 Q1991 316.987 1994.48 313.352 Q1997.97 309.718 2004.04 309.718 Q2006 309.718 2007.88 310.135 Q2009.75 310.528 2011.51 311.339 Z\" fill=\"#000000\" fill-rule=\"evenodd\" fill-opacity=\"1\" /><path clip-path=\"url(#clip670)\" d=\"M2028.97 313.329 Q2025.54 313.329 2023.55 316.014 Q2021.56 318.676 2021.56 323.329 Q2021.56 327.982 2023.53 330.667 Q2025.52 333.329 2028.97 333.329 Q2032.37 333.329 2034.36 330.644 Q2036.35 327.959 2036.35 323.329 Q2036.35 318.723 2034.36 316.038 Q2032.37 313.329 2028.97 313.329 M2028.97 309.718 Q2034.52 309.718 2037.69 313.329 Q2040.87 316.94 2040.87 323.329 Q2040.87 329.695 2037.69 333.329 Q2034.52 336.94 2028.97 336.94 Q2023.39 336.94 2020.22 333.329 Q2017.07 329.695 2017.07 323.329 Q2017.07 316.94 2020.22 313.329 Q2023.39 309.718 2028.97 309.718 Z\" fill=\"#000000\" fill-rule=\"evenodd\" fill-opacity=\"1\" /><path clip-path=\"url(#clip670)\" d=\"M2069.48 320.621 L2069.48 336.269 L2065.22 336.269 L2065.22 320.76 Q2065.22 317.079 2063.78 315.251 Q2062.35 313.422 2059.48 313.422 Q2056.03 313.422 2054.04 315.621 Q2052.05 317.82 2052.05 321.616 L2052.05 336.269 L2047.76 336.269 L2047.76 310.343 L2052.05 310.343 L2052.05 314.371 Q2053.57 312.033 2055.63 310.876 Q2057.72 309.718 2060.43 309.718 Q2064.89 309.718 2067.18 312.496 Q2069.48 315.251 2069.48 320.621 Z\" fill=\"#000000\" fill-rule=\"evenodd\" fill-opacity=\"1\" /><path clip-path=\"url(#clip670)\" d=\"M2094.5 311.107 L2094.5 315.135 Q2092.69 314.209 2090.75 313.746 Q2088.81 313.283 2086.72 313.283 Q2083.55 313.283 2081.95 314.255 Q2080.38 315.227 2080.38 317.172 Q2080.38 318.653 2081.51 319.51 Q2082.65 320.343 2086.07 321.107 L2087.53 321.431 Q2092.07 322.403 2093.97 324.186 Q2095.89 325.945 2095.89 329.116 Q2095.89 332.727 2093.02 334.834 Q2090.17 336.94 2085.17 336.94 Q2083.09 336.94 2080.82 336.524 Q2078.57 336.13 2076.07 335.32 L2076.07 330.922 Q2078.43 332.149 2080.73 332.774 Q2083.02 333.375 2085.26 333.375 Q2088.27 333.375 2089.89 332.357 Q2091.51 331.315 2091.51 329.44 Q2091.51 327.704 2090.33 326.778 Q2089.18 325.852 2085.22 324.996 L2083.74 324.649 Q2079.78 323.815 2078.02 322.102 Q2076.26 320.366 2076.26 317.357 Q2076.26 313.7 2078.85 311.709 Q2081.44 309.718 2086.21 309.718 Q2088.57 309.718 2090.66 310.065 Q2092.74 310.413 2094.5 311.107 Z\" fill=\"#000000\" fill-rule=\"evenodd\" fill-opacity=\"1\" /><path clip-path=\"url(#clip670)\" d=\"M2106.88 302.982 L2106.88 310.343 L2115.66 310.343 L2115.66 313.653 L2106.88 313.653 L2106.88 327.727 Q2106.88 330.899 2107.74 331.801 Q2108.62 332.704 2111.28 332.704 L2115.66 332.704 L2115.66 336.269 L2111.28 336.269 Q2106.35 336.269 2104.48 334.44 Q2102.6 332.588 2102.6 327.727 L2102.6 313.653 L2099.48 313.653 L2099.48 310.343 L2102.6 310.343 L2102.6 302.982 L2106.88 302.982 Z\" fill=\"#000000\" fill-rule=\"evenodd\" fill-opacity=\"1\" /><path clip-path=\"url(#clip670)\" d=\"M2136.28 314.325 Q2135.56 313.908 2134.71 313.723 Q2133.87 313.514 2132.86 313.514 Q2129.24 313.514 2127.3 315.876 Q2125.38 318.213 2125.38 322.612 L2125.38 336.269 L2121.1 336.269 L2121.1 310.343 L2125.38 310.343 L2125.38 314.371 Q2126.72 312.01 2128.87 310.876 Q2131.03 309.718 2134.11 309.718 Q2134.55 309.718 2135.08 309.788 Q2135.61 309.834 2136.26 309.95 L2136.28 314.325 Z\" fill=\"#000000\" fill-rule=\"evenodd\" fill-opacity=\"1\" /><path clip-path=\"url(#clip670)\" d=\"M2140.31 326.038 L2140.31 310.343 L2144.57 310.343 L2144.57 325.875 Q2144.57 329.556 2146 331.408 Q2147.44 333.237 2150.31 333.237 Q2153.76 333.237 2155.75 331.037 Q2157.76 328.838 2157.76 325.042 L2157.76 310.343 L2162.02 310.343 L2162.02 336.269 L2157.76 336.269 L2157.76 332.287 Q2156.21 334.649 2154.15 335.806 Q2152.11 336.94 2149.41 336.94 Q2144.94 336.94 2142.62 334.162 Q2140.31 331.385 2140.31 326.038 M2151.03 309.718 L2151.03 309.718 Z\" fill=\"#000000\" fill-rule=\"evenodd\" fill-opacity=\"1\" /><path clip-path=\"url(#clip670)\" d=\"M2189.45 311.339 L2189.45 315.32 Q2187.65 314.325 2185.82 313.839 Q2184.01 313.329 2182.16 313.329 Q2178.02 313.329 2175.73 315.968 Q2173.43 318.584 2173.43 323.329 Q2173.43 328.075 2175.73 330.713 Q2178.02 333.329 2182.16 333.329 Q2184.01 333.329 2185.82 332.843 Q2187.65 332.334 2189.45 331.338 L2189.45 335.274 Q2187.67 336.107 2185.75 336.524 Q2183.85 336.94 2181.7 336.94 Q2175.84 336.94 2172.39 333.26 Q2168.94 329.579 2168.94 323.329 Q2168.94 316.987 2172.42 313.352 Q2175.91 309.718 2181.98 309.718 Q2183.94 309.718 2185.82 310.135 Q2187.69 310.528 2189.45 311.339 Z\" fill=\"#000000\" fill-rule=\"evenodd\" fill-opacity=\"1\" /><path clip-path=\"url(#clip670)\" d=\"M2201.07 302.982 L2201.07 310.343 L2209.85 310.343 L2209.85 313.653 L2201.07 313.653 L2201.07 327.727 Q2201.07 330.899 2201.93 331.801 Q2202.81 332.704 2205.47 332.704 L2209.85 332.704 L2209.85 336.269 L2205.47 336.269 Q2200.54 336.269 2198.67 334.44 Q2196.79 332.588 2196.79 327.727 L2196.79 313.653 L2193.67 313.653 L2193.67 310.343 L2196.79 310.343 L2196.79 302.982 L2201.07 302.982 Z\" fill=\"#000000\" fill-rule=\"evenodd\" fill-opacity=\"1\" /><path clip-path=\"url(#clip670)\" d=\"M2215.45 310.343 L2219.71 310.343 L2219.71 336.269 L2215.45 336.269 L2215.45 310.343 M2215.45 300.251 L2219.71 300.251 L2219.71 305.644 L2215.45 305.644 L2215.45 300.251 Z\" fill=\"#000000\" fill-rule=\"evenodd\" fill-opacity=\"1\" /><path clip-path=\"url(#clip670)\" d=\"M2238.67 313.329 Q2235.24 313.329 2233.25 316.014 Q2231.26 318.676 2231.26 323.329 Q2231.26 327.982 2233.23 330.667 Q2235.22 333.329 2238.67 333.329 Q2242.07 333.329 2244.06 330.644 Q2246.05 327.959 2246.05 323.329 Q2246.05 318.723 2244.06 316.038 Q2242.07 313.329 2238.67 313.329 M2238.67 309.718 Q2244.22 309.718 2247.39 313.329 Q2250.56 316.94 2250.56 323.329 Q2250.56 329.695 2247.39 333.329 Q2244.22 336.94 2238.67 336.94 Q2233.09 336.94 2229.92 333.329 Q2226.77 329.695 2226.77 323.329 Q2226.77 316.94 2229.92 313.329 Q2233.09 309.718 2238.67 309.718 Z\" fill=\"#000000\" fill-rule=\"evenodd\" fill-opacity=\"1\" /><path clip-path=\"url(#clip670)\" d=\"M2279.17 320.621 L2279.17 336.269 L2274.92 336.269 L2274.92 320.76 Q2274.92 317.079 2273.48 315.251 Q2272.04 313.422 2269.17 313.422 Q2265.73 313.422 2263.73 315.621 Q2261.74 317.82 2261.74 321.616 L2261.74 336.269 L2257.46 336.269 L2257.46 310.343 L2261.74 310.343 L2261.74 314.371 Q2263.27 312.033 2265.33 310.876 Q2267.42 309.718 2270.12 309.718 Q2274.59 309.718 2276.88 312.496 Q2279.17 315.251 2279.17 320.621 Z\" fill=\"#000000\" fill-rule=\"evenodd\" fill-opacity=\"1\" /><path clip-path=\"url(#clip670)\" d=\"M2324.91 322.241 L2324.91 324.325 L2305.33 324.325 Q2305.61 328.723 2307.97 331.037 Q2310.35 333.329 2314.59 333.329 Q2317.04 333.329 2319.34 332.727 Q2321.65 332.125 2323.92 330.922 L2323.92 334.95 Q2321.63 335.922 2319.22 336.431 Q2316.81 336.94 2314.34 336.94 Q2308.13 336.94 2304.5 333.329 Q2300.89 329.718 2300.89 323.561 Q2300.89 317.195 2304.31 313.468 Q2307.76 309.718 2313.6 309.718 Q2318.83 309.718 2321.86 313.098 Q2324.91 316.454 2324.91 322.241 M2320.66 320.991 Q2320.61 317.496 2318.69 315.413 Q2316.79 313.329 2313.64 313.329 Q2310.08 313.329 2307.92 315.343 Q2305.79 317.357 2305.47 321.014 L2320.66 320.991 Z\" fill=\"#000000\" fill-rule=\"evenodd\" fill-opacity=\"1\" /><path clip-path=\"url(#clip670)\" d=\"M2346.93 314.325 Q2346.21 313.908 2345.35 313.723 Q2344.52 313.514 2343.5 313.514 Q2339.89 313.514 2337.95 315.876 Q2336.03 318.213 2336.03 322.612 L2336.03 336.269 L2331.74 336.269 L2331.74 310.343 L2336.03 310.343 L2336.03 314.371 Q2337.37 312.01 2339.52 310.876 Q2341.67 309.718 2344.75 309.718 Q2345.19 309.718 2345.72 309.788 Q2346.26 309.834 2346.91 309.95 L2346.93 314.325 Z\" fill=\"#000000\" fill-rule=\"evenodd\" fill-opacity=\"1\" /><path clip-path=\"url(#clip670)\" d=\"M2365.59 314.325 Q2364.87 313.908 2364.01 313.723 Q2363.18 313.514 2362.16 313.514 Q2358.55 313.514 2356.6 315.876 Q2354.68 318.213 2354.68 322.612 L2354.68 336.269 L2350.4 336.269 L2350.4 310.343 L2354.68 310.343 L2354.68 314.371 Q2356.03 312.01 2358.18 310.876 Q2360.33 309.718 2363.41 309.718 Q2363.85 309.718 2364.38 309.788 Q2364.91 309.834 2365.56 309.95 L2365.59 314.325 Z\" fill=\"#000000\" fill-rule=\"evenodd\" fill-opacity=\"1\" /><path clip-path=\"url(#clip670)\" d=\"M2379.06 313.329 Q2375.63 313.329 2373.64 316.014 Q2371.65 318.676 2371.65 323.329 Q2371.65 327.982 2373.62 330.667 Q2375.61 333.329 2379.06 333.329 Q2382.46 333.329 2384.45 330.644 Q2386.44 327.959 2386.44 323.329 Q2386.44 318.723 2384.45 316.038 Q2382.46 313.329 2379.06 313.329 M2379.06 309.718 Q2384.61 309.718 2387.78 313.329 Q2390.96 316.94 2390.96 323.329 Q2390.96 329.695 2387.78 333.329 Q2384.61 336.94 2379.06 336.94 Q2373.48 336.94 2370.31 333.329 Q2367.16 329.695 2367.16 323.329 Q2367.16 316.94 2370.31 313.329 Q2373.48 309.718 2379.06 309.718 Z\" fill=\"#000000\" fill-rule=\"evenodd\" fill-opacity=\"1\" /><path clip-path=\"url(#clip670)\" d=\"M2413.04 314.325 Q2412.32 313.908 2411.47 313.723 Q2410.63 313.514 2409.61 313.514 Q2406 313.514 2404.06 315.876 Q2402.14 318.213 2402.14 322.612 L2402.14 336.269 L2397.85 336.269 L2397.85 310.343 L2402.14 310.343 L2402.14 314.371 Q2403.48 312.01 2405.63 310.876 Q2407.78 309.718 2410.86 309.718 Q2411.3 309.718 2411.84 309.788 Q2412.37 309.834 2413.02 309.95 L2413.04 314.325 Z\" fill=\"#000000\" fill-rule=\"evenodd\" fill-opacity=\"1\" /><path clip-path=\"url(#clip670)\" d=\"\n",
       "M2841.61 3013.49 L5152.76 3013.49 L5152.76 118.82 L2841.61 118.82  Z\n",
       "  \" fill=\"#ffffff\" fill-rule=\"evenodd\" fill-opacity=\"1\"/>\n",
       "<defs>\n",
       "  <clipPath id=\"clip673\">\n",
       "    <rect x=\"2841\" y=\"118\" width=\"2312\" height=\"2896\"/>\n",
       "  </clipPath>\n",
       "</defs>\n",
       "<polyline clip-path=\"url(#clip673)\" style=\"stroke:#000000; stroke-linecap:butt; stroke-linejoin:round; stroke-width:2; stroke-opacity:0.1; fill:none\" points=\"\n",
       "  3045.3,3013.49 3045.3,118.82 \n",
       "  \"/>\n",
       "<polyline clip-path=\"url(#clip673)\" style=\"stroke:#000000; stroke-linecap:butt; stroke-linejoin:round; stroke-width:2; stroke-opacity:0.1; fill:none\" points=\"\n",
       "  3425.84,3013.49 3425.84,118.82 \n",
       "  \"/>\n",
       "<polyline clip-path=\"url(#clip673)\" style=\"stroke:#000000; stroke-linecap:butt; stroke-linejoin:round; stroke-width:2; stroke-opacity:0.1; fill:none\" points=\"\n",
       "  3806.38,3013.49 3806.38,118.82 \n",
       "  \"/>\n",
       "<polyline clip-path=\"url(#clip673)\" style=\"stroke:#000000; stroke-linecap:butt; stroke-linejoin:round; stroke-width:2; stroke-opacity:0.1; fill:none\" points=\"\n",
       "  4186.92,3013.49 4186.92,118.82 \n",
       "  \"/>\n",
       "<polyline clip-path=\"url(#clip673)\" style=\"stroke:#000000; stroke-linecap:butt; stroke-linejoin:round; stroke-width:2; stroke-opacity:0.1; fill:none\" points=\"\n",
       "  4567.45,3013.49 4567.45,118.82 \n",
       "  \"/>\n",
       "<polyline clip-path=\"url(#clip673)\" style=\"stroke:#000000; stroke-linecap:butt; stroke-linejoin:round; stroke-width:2; stroke-opacity:0.1; fill:none\" points=\"\n",
       "  4947.99,3013.49 4947.99,118.82 \n",
       "  \"/>\n",
       "<polyline clip-path=\"url(#clip670)\" style=\"stroke:#000000; stroke-linecap:butt; stroke-linejoin:round; stroke-width:4; stroke-opacity:1; fill:none\" points=\"\n",
       "  2841.61,3013.49 5152.76,3013.49 \n",
       "  \"/>\n",
       "<polyline clip-path=\"url(#clip670)\" style=\"stroke:#000000; stroke-linecap:butt; stroke-linejoin:round; stroke-width:4; stroke-opacity:1; fill:none\" points=\"\n",
       "  3045.3,3013.49 3045.3,2994.6 \n",
       "  \"/>\n",
       "<polyline clip-path=\"url(#clip670)\" style=\"stroke:#000000; stroke-linecap:butt; stroke-linejoin:round; stroke-width:4; stroke-opacity:1; fill:none\" points=\"\n",
       "  3425.84,3013.49 3425.84,2994.6 \n",
       "  \"/>\n",
       "<polyline clip-path=\"url(#clip670)\" style=\"stroke:#000000; stroke-linecap:butt; stroke-linejoin:round; stroke-width:4; stroke-opacity:1; fill:none\" points=\"\n",
       "  3806.38,3013.49 3806.38,2994.6 \n",
       "  \"/>\n",
       "<polyline clip-path=\"url(#clip670)\" style=\"stroke:#000000; stroke-linecap:butt; stroke-linejoin:round; stroke-width:4; stroke-opacity:1; fill:none\" points=\"\n",
       "  4186.92,3013.49 4186.92,2994.6 \n",
       "  \"/>\n",
       "<polyline clip-path=\"url(#clip670)\" style=\"stroke:#000000; stroke-linecap:butt; stroke-linejoin:round; stroke-width:4; stroke-opacity:1; fill:none\" points=\"\n",
       "  4567.45,3013.49 4567.45,2994.6 \n",
       "  \"/>\n",
       "<polyline clip-path=\"url(#clip670)\" style=\"stroke:#000000; stroke-linecap:butt; stroke-linejoin:round; stroke-width:4; stroke-opacity:1; fill:none\" points=\"\n",
       "  4947.99,3013.49 4947.99,2994.6 \n",
       "  \"/>\n",
       "<path clip-path=\"url(#clip670)\" d=\"M3035.68 3094.36 L3043.32 3094.36 L3043.32 3067.99 L3035.01 3069.66 L3035.01 3065.4 L3043.27 3063.73 L3047.95 3063.73 L3047.95 3094.36 L3055.59 3094.36 L3055.59 3098.29 L3035.68 3098.29 L3035.68 3094.36 Z\" fill=\"#000000\" fill-rule=\"evenodd\" fill-opacity=\"1\" /><path clip-path=\"url(#clip670)\" d=\"M3420.49 3094.36 L3436.81 3094.36 L3436.81 3098.29 L3414.86 3098.29 L3414.86 3094.36 Q3417.53 3091.6 3422.11 3086.97 Q3426.72 3082.32 3427.9 3080.98 Q3430.14 3078.46 3431.02 3076.72 Q3431.92 3074.96 3431.92 3073.27 Q3431.92 3070.52 3429.98 3068.78 Q3428.06 3067.04 3424.96 3067.04 Q3422.76 3067.04 3420.3 3067.81 Q3417.87 3068.57 3415.1 3070.12 L3415.1 3065.4 Q3417.92 3064.27 3420.37 3063.69 Q3422.83 3063.11 3424.86 3063.11 Q3430.24 3063.11 3433.43 3065.79 Q3436.62 3068.48 3436.62 3072.97 Q3436.62 3075.1 3435.81 3077.02 Q3435.03 3078.92 3432.92 3081.51 Q3432.34 3082.18 3429.24 3085.4 Q3426.14 3088.59 3420.49 3094.36 Z\" fill=\"#000000\" fill-rule=\"evenodd\" fill-opacity=\"1\" /><path clip-path=\"url(#clip670)\" d=\"M3810.62 3079.66 Q3813.98 3080.38 3815.86 3082.65 Q3817.75 3084.91 3817.75 3088.25 Q3817.75 3093.36 3814.23 3096.16 Q3810.72 3098.96 3804.23 3098.96 Q3802.06 3098.96 3799.74 3098.53 Q3797.45 3098.11 3795 3097.25 L3795 3092.74 Q3796.94 3093.87 3799.26 3094.45 Q3801.57 3095.03 3804.1 3095.03 Q3808.49 3095.03 3810.79 3093.29 Q3813.1 3091.56 3813.1 3088.25 Q3813.1 3085.19 3810.95 3083.48 Q3808.82 3081.74 3805 3081.74 L3800.97 3081.74 L3800.97 3077.9 L3805.18 3077.9 Q3808.63 3077.9 3810.46 3076.53 Q3812.29 3075.15 3812.29 3072.55 Q3812.29 3069.89 3810.39 3068.48 Q3808.52 3067.04 3805 3067.04 Q3803.08 3067.04 3800.88 3067.46 Q3798.68 3067.88 3796.04 3068.76 L3796.04 3064.59 Q3798.7 3063.85 3801.02 3063.48 Q3803.36 3063.11 3805.42 3063.11 Q3810.74 3063.11 3813.84 3065.54 Q3816.94 3067.95 3816.94 3072.07 Q3816.94 3074.94 3815.3 3076.93 Q3813.66 3078.9 3810.62 3079.66 Z\" fill=\"#000000\" fill-rule=\"evenodd\" fill-opacity=\"1\" /><path clip-path=\"url(#clip670)\" d=\"M4189.92 3067.81 L4178.12 3086.26 L4189.92 3086.26 L4189.92 3067.81 M4188.7 3063.73 L4194.58 3063.73 L4194.58 3086.26 L4199.51 3086.26 L4199.51 3090.15 L4194.58 3090.15 L4194.58 3098.29 L4189.92 3098.29 L4189.92 3090.15 L4174.32 3090.15 L4174.32 3085.63 L4188.7 3063.73 Z\" fill=\"#000000\" fill-rule=\"evenodd\" fill-opacity=\"1\" /><path clip-path=\"url(#clip670)\" d=\"M4557.73 3063.73 L4576.09 3063.73 L4576.09 3067.67 L4562.01 3067.67 L4562.01 3076.14 Q4563.03 3075.79 4564.05 3075.63 Q4565.07 3075.45 4566.09 3075.45 Q4571.88 3075.45 4575.26 3078.62 Q4578.63 3081.79 4578.63 3087.21 Q4578.63 3092.78 4575.16 3095.89 Q4571.69 3098.96 4565.37 3098.96 Q4563.2 3098.96 4560.93 3098.59 Q4558.68 3098.22 4556.27 3097.48 L4556.27 3092.78 Q4558.36 3093.92 4560.58 3094.47 Q4562.8 3095.03 4565.28 3095.03 Q4569.28 3095.03 4571.62 3092.92 Q4573.96 3090.82 4573.96 3087.21 Q4573.96 3083.59 4571.62 3081.49 Q4569.28 3079.38 4565.28 3079.38 Q4563.4 3079.38 4561.53 3079.8 Q4559.68 3080.22 4557.73 3081.09 L4557.73 3063.73 Z\" fill=\"#000000\" fill-rule=\"evenodd\" fill-opacity=\"1\" /><path clip-path=\"url(#clip670)\" d=\"M4948.4 3079.15 Q4945.25 3079.15 4943.4 3081.3 Q4941.57 3083.46 4941.57 3087.21 Q4941.57 3090.93 4943.4 3093.11 Q4945.25 3095.26 4948.4 3095.26 Q4951.55 3095.26 4953.38 3093.11 Q4955.23 3090.93 4955.23 3087.21 Q4955.23 3083.46 4953.38 3081.3 Q4951.55 3079.15 4948.4 3079.15 M4957.68 3064.5 L4957.68 3068.76 Q4955.92 3067.92 4954.12 3067.48 Q4952.33 3067.04 4950.57 3067.04 Q4945.94 3067.04 4943.49 3070.17 Q4941.06 3073.29 4940.71 3079.61 Q4942.08 3077.6 4944.14 3076.53 Q4946.2 3075.45 4948.68 3075.45 Q4953.88 3075.45 4956.89 3078.62 Q4959.93 3081.77 4959.93 3087.21 Q4959.93 3092.53 4956.78 3095.75 Q4953.63 3098.96 4948.4 3098.96 Q4942.4 3098.96 4939.23 3094.38 Q4936.06 3089.78 4936.06 3081.05 Q4936.06 3072.85 4939.95 3067.99 Q4943.84 3063.11 4950.39 3063.11 Q4952.15 3063.11 4953.93 3063.46 Q4955.74 3063.8 4957.68 3064.5 Z\" fill=\"#000000\" fill-rule=\"evenodd\" fill-opacity=\"1\" /><path clip-path=\"url(#clip670)\" d=\"M3722.93 3152.84 L3729.36 3152.84 L3729.36 3172.92 L3750.69 3152.84 L3758.96 3152.84 L3735.38 3174.99 L3760.65 3200.36 L3752.18 3200.36 L3729.36 3177.47 L3729.36 3200.36 L3722.93 3200.36 L3722.93 3152.84 Z\" fill=\"#000000\" fill-rule=\"evenodd\" fill-opacity=\"1\" /><path clip-path=\"url(#clip670)\" d=\"M3780.48 3182.44 Q3773.38 3182.44 3770.64 3184.06 Q3767.9 3185.68 3767.9 3189.6 Q3767.9 3192.72 3769.94 3194.56 Q3772.01 3196.38 3775.54 3196.38 Q3780.41 3196.38 3783.34 3192.94 Q3786.3 3189.47 3786.3 3183.74 L3786.3 3182.44 L3780.48 3182.44 M3792.16 3180.02 L3792.16 3200.36 L3786.3 3200.36 L3786.3 3194.95 Q3784.3 3198.19 3781.3 3199.75 Q3778.31 3201.28 3773.98 3201.28 Q3768.51 3201.28 3765.26 3198.23 Q3762.05 3195.14 3762.05 3189.98 Q3762.05 3183.97 3766.06 3180.91 Q3770.1 3177.85 3778.09 3177.85 L3786.3 3177.85 L3786.3 3177.28 Q3786.3 3173.24 3783.63 3171.04 Q3780.99 3168.82 3776.18 3168.82 Q3773.12 3168.82 3770.23 3169.55 Q3767.33 3170.28 3764.66 3171.74 L3764.66 3166.33 Q3767.87 3165.09 3770.9 3164.49 Q3773.92 3163.85 3776.79 3163.85 Q3784.52 3163.85 3788.34 3167.86 Q3792.16 3171.87 3792.16 3180.02 Z\" fill=\"#000000\" fill-rule=\"evenodd\" fill-opacity=\"1\" /><path clip-path=\"url(#clip670)\" d=\"M3833.85 3178.84 L3833.85 3200.36 L3828 3200.36 L3828 3179.03 Q3828 3173.97 3826.02 3171.46 Q3824.05 3168.94 3820.1 3168.94 Q3815.36 3168.94 3812.62 3171.97 Q3809.89 3174.99 3809.89 3180.21 L3809.89 3200.36 L3804 3200.36 L3804 3150.83 L3809.89 3150.83 L3809.89 3170.25 Q3811.99 3167.03 3814.82 3165.44 Q3817.68 3163.85 3821.41 3163.85 Q3827.55 3163.85 3830.7 3167.67 Q3833.85 3171.46 3833.85 3178.84 Z\" fill=\"#000000\" fill-rule=\"evenodd\" fill-opacity=\"1\" /><path clip-path=\"url(#clip670)\" d=\"M3861.74 3182.44 Q3854.64 3182.44 3851.9 3184.06 Q3849.16 3185.68 3849.16 3189.6 Q3849.16 3192.72 3851.2 3194.56 Q3853.27 3196.38 3856.8 3196.38 Q3861.67 3196.38 3864.6 3192.94 Q3867.56 3189.47 3867.56 3183.74 L3867.56 3182.44 L3861.74 3182.44 M3873.42 3180.02 L3873.42 3200.36 L3867.56 3200.36 L3867.56 3194.95 Q3865.55 3198.19 3862.56 3199.75 Q3859.57 3201.28 3855.24 3201.28 Q3849.77 3201.28 3846.52 3198.23 Q3843.31 3195.14 3843.31 3189.98 Q3843.31 3183.97 3847.32 3180.91 Q3851.36 3177.85 3859.35 3177.85 L3867.56 3177.85 L3867.56 3177.28 Q3867.56 3173.24 3864.89 3171.04 Q3862.24 3168.82 3857.44 3168.82 Q3854.38 3168.82 3851.49 3169.55 Q3848.59 3170.28 3845.92 3171.74 L3845.92 3166.33 Q3849.13 3165.09 3852.15 3164.49 Q3855.18 3163.85 3858.04 3163.85 Q3865.78 3163.85 3869.6 3167.86 Q3873.42 3171.87 3873.42 3180.02 Z\" fill=\"#000000\" fill-rule=\"evenodd\" fill-opacity=\"1\" /><path clip-path=\"url(#clip670)\" d=\"M3915.11 3178.84 L3915.11 3200.36 L3909.26 3200.36 L3909.26 3179.03 Q3909.26 3173.97 3907.28 3171.46 Q3905.31 3168.94 3901.36 3168.94 Q3896.62 3168.94 3893.88 3171.97 Q3891.14 3174.99 3891.14 3180.21 L3891.14 3200.36 L3885.26 3200.36 L3885.26 3164.71 L3891.14 3164.71 L3891.14 3170.25 Q3893.25 3167.03 3896.08 3165.44 Q3898.94 3163.85 3902.67 3163.85 Q3908.81 3163.85 3911.96 3167.67 Q3915.11 3171.46 3915.11 3178.84 Z\" fill=\"#000000\" fill-rule=\"evenodd\" fill-opacity=\"1\" /><path clip-path=\"url(#clip670)\" d=\"M3975.27 3171.55 Q3977.46 3167.61 3980.52 3165.73 Q3983.57 3163.85 3987.71 3163.85 Q3993.28 3163.85 3996.31 3167.77 Q3999.33 3171.65 3999.33 3178.84 L3999.33 3200.36 L3993.44 3200.36 L3993.44 3179.03 Q3993.44 3173.91 3991.63 3171.43 Q3989.81 3168.94 3986.09 3168.94 Q3981.54 3168.94 3978.9 3171.97 Q3976.25 3174.99 3976.25 3180.21 L3976.25 3200.36 L3970.37 3200.36 L3970.37 3179.03 Q3970.37 3173.88 3968.55 3171.43 Q3966.74 3168.94 3962.95 3168.94 Q3958.46 3168.94 3955.82 3172 Q3953.18 3175.02 3953.18 3180.21 L3953.18 3200.36 L3947.29 3200.36 L3947.29 3164.71 L3953.18 3164.71 L3953.18 3170.25 Q3955.18 3166.97 3957.98 3165.41 Q3960.79 3163.85 3964.64 3163.85 Q3968.52 3163.85 3971.23 3165.82 Q3973.96 3167.8 3975.27 3171.55 Z\" fill=\"#000000\" fill-rule=\"evenodd\" fill-opacity=\"1\" /><path clip-path=\"url(#clip670)\" d=\"M4027.21 3182.44 Q4020.11 3182.44 4017.38 3184.06 Q4014.64 3185.68 4014.64 3189.6 Q4014.64 3192.72 4016.68 3194.56 Q4018.75 3196.38 4022.28 3196.38 Q4027.15 3196.38 4030.08 3192.94 Q4033.04 3189.47 4033.04 3183.74 L4033.04 3182.44 L4027.21 3182.44 M4038.89 3180.02 L4038.89 3200.36 L4033.04 3200.36 L4033.04 3194.95 Q4031.03 3198.19 4028.04 3199.75 Q4025.05 3201.28 4020.72 3201.28 Q4015.24 3201.28 4012 3198.23 Q4008.78 3195.14 4008.78 3189.98 Q4008.78 3183.97 4012.79 3180.91 Q4016.84 3177.85 4024.82 3177.85 L4033.04 3177.85 L4033.04 3177.28 Q4033.04 3173.24 4030.36 3171.04 Q4027.72 3168.82 4022.92 3168.82 Q4019.86 3168.82 4016.96 3169.55 Q4014.07 3170.28 4011.39 3171.74 L4011.39 3166.33 Q4014.61 3165.09 4017.63 3164.49 Q4020.66 3163.85 4023.52 3163.85 Q4031.25 3163.85 4035.07 3167.86 Q4038.89 3171.87 4038.89 3180.02 Z\" fill=\"#000000\" fill-rule=\"evenodd\" fill-opacity=\"1\" /><path clip-path=\"url(#clip670)\" d=\"M4056.75 3154.59 L4056.75 3164.71 L4068.81 3164.71 L4068.81 3169.26 L4056.75 3169.26 L4056.75 3188.61 Q4056.75 3192.97 4057.93 3194.21 Q4059.14 3195.46 4062.8 3195.46 L4068.81 3195.46 L4068.81 3200.36 L4062.8 3200.36 Q4056.02 3200.36 4053.44 3197.84 Q4050.86 3195.3 4050.86 3188.61 L4050.86 3169.26 L4046.56 3169.26 L4046.56 3164.71 L4050.86 3164.71 L4050.86 3154.59 L4056.75 3154.59 Z\" fill=\"#000000\" fill-rule=\"evenodd\" fill-opacity=\"1\" /><path clip-path=\"url(#clip670)\" d=\"M4097.17 3170.18 Q4096.18 3169.61 4095.01 3169.36 Q4093.86 3169.07 4092.46 3169.07 Q4087.5 3169.07 4084.82 3172.32 Q4082.18 3175.53 4082.18 3181.58 L4082.18 3200.36 L4076.29 3200.36 L4076.29 3164.71 L4082.18 3164.71 L4082.18 3170.25 Q4084.03 3167 4086.99 3165.44 Q4089.95 3163.85 4094.18 3163.85 Q4094.78 3163.85 4095.52 3163.95 Q4096.25 3164.01 4097.14 3164.17 L4097.17 3170.18 Z\" fill=\"#000000\" fill-rule=\"evenodd\" fill-opacity=\"1\" /><path clip-path=\"url(#clip670)\" d=\"M4103.31 3164.71 L4109.17 3164.71 L4109.17 3200.36 L4103.31 3200.36 L4103.31 3164.71 M4103.31 3150.83 L4109.17 3150.83 L4109.17 3158.25 L4103.31 3158.25 L4103.31 3150.83 Z\" fill=\"#000000\" fill-rule=\"evenodd\" fill-opacity=\"1\" /><path clip-path=\"url(#clip670)\" d=\"M4151.06 3164.71 L4138.17 3182.06 L4151.73 3200.36 L4144.82 3200.36 L4134.44 3186.35 L4124.07 3200.36 L4117.16 3200.36 L4131 3181.71 L4118.34 3164.71 L4125.24 3164.71 L4134.7 3177.41 L4144.15 3164.71 L4151.06 3164.71 Z\" fill=\"#000000\" fill-rule=\"evenodd\" fill-opacity=\"1\" /><path clip-path=\"url(#clip670)\" d=\"M4204.66 3177.76 L4184.38 3177.76 Q4184.86 3187.28 4187.05 3191.32 Q4189.79 3196.28 4194.53 3196.28 Q4199.31 3196.28 4201.95 3191.29 Q4204.27 3186.89 4204.66 3177.76 M4204.56 3172.35 Q4203.67 3163.31 4201.95 3160.13 Q4199.21 3155.1 4194.53 3155.1 Q4189.66 3155.1 4187.09 3160.06 Q4185.05 3164.07 4184.44 3172.35 L4204.56 3172.35 M4194.53 3150.32 Q4202.17 3150.32 4206.53 3157.07 Q4210.89 3163.79 4210.89 3175.69 Q4210.89 3187.56 4206.53 3194.31 Q4202.17 3201.09 4194.53 3201.09 Q4186.86 3201.09 4182.54 3194.31 Q4178.17 3187.56 4178.17 3175.69 Q4178.17 3163.79 4182.54 3157.07 Q4186.86 3150.32 4194.53 3150.32 Z\" fill=\"#000000\" fill-rule=\"evenodd\" fill-opacity=\"1\" /><path clip-path=\"url(#clip670)\" d=\"M4218.82 3166.14 L4244.51 3166.14 L4244.51 3169.17 L4218.82 3169.17 L4218.82 3166.14 Z\" fill=\"#000000\" fill-rule=\"evenodd\" fill-opacity=\"1\" /><path clip-path=\"url(#clip670)\" d=\"M4253.83 3175.6 L4260.32 3175.6 L4260.32 3156.15 L4253.23 3157.45 L4253.23 3153.76 L4260.55 3152.52 L4264.91 3152.52 L4264.91 3175.6 L4271.43 3175.6 L4271.43 3179.1 L4253.83 3179.1 L4253.83 3175.6 Z\" fill=\"#000000\" fill-rule=\"evenodd\" fill-opacity=\"1\" /><polyline clip-path=\"url(#clip673)\" style=\"stroke:#000000; stroke-linecap:butt; stroke-linejoin:round; stroke-width:2; stroke-opacity:0.1; fill:none\" points=\"\n",
       "  2841.61,1669.83 5152.76,1669.83 \n",
       "  \"/>\n",
       "<polyline clip-path=\"url(#clip673)\" style=\"stroke:#000000; stroke-linecap:butt; stroke-linejoin:round; stroke-width:2; stroke-opacity:0.1; fill:none\" points=\"\n",
       "  2841.61,169.29 5152.76,169.29 \n",
       "  \"/>\n",
       "<polyline clip-path=\"url(#clip670)\" style=\"stroke:#000000; stroke-linecap:butt; stroke-linejoin:round; stroke-width:4; stroke-opacity:1; fill:none\" points=\"\n",
       "  2841.61,3013.49 2841.61,118.82 \n",
       "  \"/>\n",
       "<polyline clip-path=\"url(#clip670)\" style=\"stroke:#000000; stroke-linecap:butt; stroke-linejoin:round; stroke-width:4; stroke-opacity:1; fill:none\" points=\"\n",
       "  2841.61,1669.83 2860.51,1669.83 \n",
       "  \"/>\n",
       "<polyline clip-path=\"url(#clip670)\" style=\"stroke:#000000; stroke-linecap:butt; stroke-linejoin:round; stroke-width:4; stroke-opacity:1; fill:none\" points=\"\n",
       "  2841.61,169.29 2860.51,169.29 \n",
       "  \"/>\n",
       "<path clip-path=\"url(#clip670)\" d=\"M2637.66 1689.62 L2645.3 1689.62 L2645.3 1663.25 L2636.99 1664.92 L2636.99 1660.66 L2645.26 1658.99 L2649.93 1658.99 L2649.93 1689.62 L2657.57 1689.62 L2657.57 1693.55 L2637.66 1693.55 L2637.66 1689.62 Z\" fill=\"#000000\" fill-rule=\"evenodd\" fill-opacity=\"1\" /><path clip-path=\"url(#clip670)\" d=\"M2677.02 1662.07 Q2673.4 1662.07 2671.58 1665.64 Q2669.77 1669.18 2669.77 1676.31 Q2669.77 1683.41 2671.58 1686.98 Q2673.4 1690.52 2677.02 1690.52 Q2680.65 1690.52 2682.45 1686.98 Q2684.28 1683.41 2684.28 1676.31 Q2684.28 1669.18 2682.45 1665.64 Q2680.65 1662.07 2677.02 1662.07 M2677.02 1658.37 Q2682.83 1658.37 2685.88 1662.97 Q2688.96 1667.56 2688.96 1676.31 Q2688.96 1685.03 2685.88 1689.64 Q2682.83 1694.22 2677.02 1694.22 Q2671.2 1694.22 2668.13 1689.64 Q2665.07 1685.03 2665.07 1676.31 Q2665.07 1667.56 2668.13 1662.97 Q2671.2 1658.37 2677.02 1658.37 Z\" fill=\"#000000\" fill-rule=\"evenodd\" fill-opacity=\"1\" /><path clip-path=\"url(#clip670)\" d=\"M2688.96 1652.47 L2713.07 1652.47 L2713.07 1655.67 L2688.96 1655.67 L2688.96 1652.47 Z\" fill=\"#000000\" fill-rule=\"evenodd\" fill-opacity=\"1\" /><path clip-path=\"url(#clip670)\" d=\"M2721.93 1662.95 L2728.14 1662.95 L2728.14 1641.52 L2721.38 1642.88 L2721.38 1639.42 L2728.1 1638.06 L2731.9 1638.06 L2731.9 1662.95 L2738.1 1662.95 L2738.1 1666.14 L2721.93 1666.14 L2721.93 1662.95 Z\" fill=\"#000000\" fill-rule=\"evenodd\" fill-opacity=\"1\" /><path clip-path=\"url(#clip670)\" d=\"M2753.9 1640.56 Q2750.97 1640.56 2749.48 1643.46 Q2748.02 1646.34 2748.02 1652.13 Q2748.02 1657.9 2749.48 1660.8 Q2750.97 1663.68 2753.9 1663.68 Q2756.86 1663.68 2758.32 1660.8 Q2759.81 1657.9 2759.81 1652.13 Q2759.81 1646.34 2758.32 1643.46 Q2756.86 1640.56 2753.9 1640.56 M2753.9 1637.55 Q2758.62 1637.55 2761.11 1641.3 Q2763.61 1645.02 2763.61 1652.13 Q2763.61 1659.22 2761.11 1662.96 Q2758.62 1666.69 2753.9 1666.69 Q2749.18 1666.69 2746.68 1662.96 Q2744.2 1659.22 2744.2 1652.13 Q2744.2 1645.02 2746.68 1641.3 Q2749.18 1637.55 2753.9 1637.55 Z\" fill=\"#000000\" fill-rule=\"evenodd\" fill-opacity=\"1\" /><path clip-path=\"url(#clip670)\" d=\"M2692.9 189.082 L2700.54 189.082 L2700.54 162.717 L2692.23 164.383 L2692.23 160.124 L2700.49 158.457 L2705.17 158.457 L2705.17 189.082 L2712.81 189.082 L2712.81 193.017 L2692.9 193.017 L2692.9 189.082 Z\" fill=\"#000000\" fill-rule=\"evenodd\" fill-opacity=\"1\" /><path clip-path=\"url(#clip670)\" d=\"M2732.25 161.536 Q2728.64 161.536 2726.81 165.101 Q2725.01 168.643 2725.01 175.772 Q2725.01 182.879 2726.81 186.443 Q2728.64 189.985 2732.25 189.985 Q2735.89 189.985 2737.69 186.443 Q2739.52 182.879 2739.52 175.772 Q2739.52 168.643 2737.69 165.101 Q2735.89 161.536 2732.25 161.536 M2732.25 157.832 Q2738.06 157.832 2741.12 162.439 Q2744.2 167.022 2744.2 175.772 Q2744.2 184.499 2741.12 189.105 Q2738.06 193.689 2732.25 193.689 Q2726.44 193.689 2723.36 189.105 Q2720.31 184.499 2720.31 175.772 Q2720.31 167.022 2723.36 162.439 Q2726.44 157.832 2732.25 157.832 Z\" fill=\"#000000\" fill-rule=\"evenodd\" fill-opacity=\"1\" /><path clip-path=\"url(#clip670)\" d=\"M2753.9 140.028 Q2750.97 140.028 2749.48 142.925 Q2748.02 145.802 2748.02 151.595 Q2748.02 157.369 2749.48 160.266 Q2750.97 163.143 2753.9 163.143 Q2756.86 163.143 2758.32 160.266 Q2759.81 157.369 2759.81 151.595 Q2759.81 145.802 2758.32 142.925 Q2756.86 140.028 2753.9 140.028 M2753.9 137.019 Q2758.62 137.019 2761.11 140.762 Q2763.61 144.486 2763.61 151.595 Q2763.61 158.686 2761.11 162.428 Q2758.62 166.152 2753.9 166.152 Q2749.18 166.152 2746.68 162.428 Q2744.2 158.686 2744.2 151.595 Q2744.2 144.486 2746.68 140.762 Q2749.18 137.019 2753.9 137.019 Z\" fill=\"#000000\" fill-rule=\"evenodd\" fill-opacity=\"1\" /><path clip-path=\"url(#clip670)\" d=\"M3512.11 12.096 L3524.3 12.096 L3539.73 53.2532 L3555.25 12.096 L3567.44 12.096 L3567.44 72.576 L3559.46 72.576 L3559.46 19.4686 L3543.87 60.9499 L3535.64 60.9499 L3520.05 19.4686 L3520.05 72.576 L3512.11 72.576 L3512.11 12.096 Z\" fill=\"#000000\" fill-rule=\"evenodd\" fill-opacity=\"1\" /><path clip-path=\"url(#clip670)\" d=\"M3600.94 32.4315 Q3594.95 32.4315 3591.46 37.1306 Q3587.98 41.7891 3587.98 49.9314 Q3587.98 58.0738 3591.42 62.7728 Q3594.91 67.4314 3600.94 67.4314 Q3606.9 67.4314 3610.38 62.7323 Q3613.86 58.0333 3613.86 49.9314 Q3613.86 41.8701 3610.38 37.1711 Q3606.9 32.4315 3600.94 32.4315 M3600.94 26.1121 Q3610.66 26.1121 3616.21 32.4315 Q3621.76 38.7509 3621.76 49.9314 Q3621.76 61.0714 3616.21 67.4314 Q3610.66 73.7508 3600.94 73.7508 Q3591.18 73.7508 3585.63 67.4314 Q3580.12 61.0714 3580.12 49.9314 Q3580.12 38.7509 3585.63 32.4315 Q3591.18 26.1121 3600.94 26.1121 Z\" fill=\"#000000\" fill-rule=\"evenodd\" fill-opacity=\"1\" /><path clip-path=\"url(#clip670)\" d=\"M3663.97 34.0924 L3663.97 9.54393 L3671.43 9.54393 L3671.43 72.576 L3663.97 72.576 L3663.97 65.7705 Q3661.63 69.8214 3658.02 71.8063 Q3654.45 73.7508 3649.43 73.7508 Q3641.21 73.7508 3636.02 67.1883 Q3630.88 60.6258 3630.88 49.9314 Q3630.88 39.2371 3636.02 32.6746 Q3641.21 26.1121 3649.43 26.1121 Q3654.45 26.1121 3658.02 28.0971 Q3661.63 30.0415 3663.97 34.0924 M3638.58 49.9314 Q3638.58 58.1548 3641.94 62.8538 Q3645.34 67.5124 3651.25 67.5124 Q3657.17 67.5124 3660.57 62.8538 Q3663.97 58.1548 3663.97 49.9314 Q3663.97 41.7081 3660.57 37.0496 Q3657.17 32.3505 3651.25 32.3505 Q3645.34 32.3505 3641.94 37.0496 Q3638.58 41.7081 3638.58 49.9314 Z\" fill=\"#000000\" fill-rule=\"evenodd\" fill-opacity=\"1\" /><path clip-path=\"url(#clip670)\" d=\"M3686.78 27.2059 L3694.23 27.2059 L3694.23 72.576 L3686.78 72.576 L3686.78 27.2059 M3686.78 9.54393 L3694.23 9.54393 L3694.23 18.9825 L3686.78 18.9825 L3686.78 9.54393 Z\" fill=\"#000000\" fill-rule=\"evenodd\" fill-opacity=\"1\" /><path clip-path=\"url(#clip670)\" d=\"M3732.8 9.54393 L3732.8 15.7418 L3725.67 15.7418 Q3721.66 15.7418 3720.08 17.3622 Q3718.54 18.9825 3718.54 23.1955 L3718.54 27.2059 L3730.81 27.2059 L3730.81 32.9987 L3718.54 32.9987 L3718.54 72.576 L3711.05 72.576 L3711.05 32.9987 L3703.92 32.9987 L3703.92 27.2059 L3711.05 27.2059 L3711.05 24.0462 Q3711.05 16.471 3714.57 13.0277 Q3718.09 9.54393 3725.75 9.54393 L3732.8 9.54393 Z\" fill=\"#000000\" fill-rule=\"evenodd\" fill-opacity=\"1\" /><path clip-path=\"url(#clip670)\" d=\"M3739.04 27.2059 L3746.49 27.2059 L3746.49 72.576 L3739.04 72.576 L3739.04 27.2059 M3739.04 9.54393 L3746.49 9.54393 L3746.49 18.9825 L3739.04 18.9825 L3739.04 9.54393 Z\" fill=\"#000000\" fill-rule=\"evenodd\" fill-opacity=\"1\" /><path clip-path=\"url(#clip670)\" d=\"M3800.9 48.0275 L3800.9 51.6733 L3766.62 51.6733 Q3767.11 59.3701 3771.24 63.421 Q3775.41 67.4314 3782.83 67.4314 Q3787.12 67.4314 3791.13 66.3781 Q3795.18 65.3249 3799.15 63.2184 L3799.15 70.267 Q3795.14 71.9684 3790.93 72.8596 Q3786.72 73.7508 3782.38 73.7508 Q3771.53 73.7508 3765.17 67.4314 Q3758.85 61.1119 3758.85 50.3365 Q3758.85 39.1965 3764.84 32.6746 Q3770.88 26.1121 3781.09 26.1121 Q3790.24 26.1121 3795.55 32.0264 Q3800.9 37.9003 3800.9 48.0275 M3793.44 45.84 Q3793.36 39.7232 3790 36.0774 Q3786.68 32.4315 3781.17 32.4315 Q3774.93 32.4315 3771.16 35.9558 Q3767.43 39.4801 3766.87 45.8805 L3793.44 45.84 Z\" fill=\"#000000\" fill-rule=\"evenodd\" fill-opacity=\"1\" /><path clip-path=\"url(#clip670)\" d=\"M3842.98 34.0924 L3842.98 9.54393 L3850.44 9.54393 L3850.44 72.576 L3842.98 72.576 L3842.98 65.7705 Q3840.63 69.8214 3837.03 71.8063 Q3833.46 73.7508 3828.44 73.7508 Q3820.22 73.7508 3815.03 67.1883 Q3809.89 60.6258 3809.89 49.9314 Q3809.89 39.2371 3815.03 32.6746 Q3820.22 26.1121 3828.44 26.1121 Q3833.46 26.1121 3837.03 28.0971 Q3840.63 30.0415 3842.98 34.0924 M3817.58 49.9314 Q3817.58 58.1548 3820.95 62.8538 Q3824.35 67.5124 3830.26 67.5124 Q3836.18 67.5124 3839.58 62.8538 Q3842.98 58.1548 3842.98 49.9314 Q3842.98 41.7081 3839.58 37.0496 Q3836.18 32.3505 3830.26 32.3505 Q3824.35 32.3505 3820.95 37.0496 Q3817.58 41.7081 3817.58 49.9314 Z\" fill=\"#000000\" fill-rule=\"evenodd\" fill-opacity=\"1\" /><path clip-path=\"url(#clip670)\" d=\"M3933.72 63.9476 L3933.72 47.7034 L3920.36 47.7034 L3920.36 40.9789 L3941.83 40.9789 L3941.83 66.9452 Q3937.09 70.3075 3931.37 72.0494 Q3925.66 73.7508 3919.18 73.7508 Q3905 73.7508 3896.98 65.4869 Q3889 57.1826 3889 42.3968 Q3889 27.5705 3896.98 19.3066 Q3905 11.0023 3919.18 11.0023 Q3925.1 11.0023 3930.4 12.4606 Q3935.75 13.9189 3940.25 16.7545 L3940.25 25.464 Q3935.71 21.6156 3930.61 19.6712 Q3925.5 17.7268 3919.87 17.7268 Q3908.77 17.7268 3903.18 23.9246 Q3897.63 30.1225 3897.63 42.3968 Q3897.63 54.6305 3903.18 60.8284 Q3908.77 67.0263 3919.87 67.0263 Q3924.2 67.0263 3927.61 66.2971 Q3931.01 65.5274 3933.72 63.9476 Z\" fill=\"#000000\" fill-rule=\"evenodd\" fill-opacity=\"1\" /><path clip-path=\"url(#clip670)\" d=\"M3982.74 34.1734 Q3981.48 33.4443 3979.99 33.1202 Q3978.53 32.7556 3976.74 32.7556 Q3970.43 32.7556 3967.02 36.8875 Q3963.66 40.9789 3963.66 48.6757 L3963.66 72.576 L3956.17 72.576 L3956.17 27.2059 L3963.66 27.2059 L3963.66 34.2544 Q3966.01 30.1225 3969.78 28.1376 Q3973.54 26.1121 3978.93 26.1121 Q3979.7 26.1121 3980.63 26.2337 Q3981.57 26.3147 3982.7 26.5172 L3982.74 34.1734 Z\" fill=\"#000000\" fill-rule=\"evenodd\" fill-opacity=\"1\" /><path clip-path=\"url(#clip670)\" d=\"M4011.18 49.7694 Q4002.14 49.7694 3998.66 51.8354 Q3995.18 53.9013 3995.18 58.8839 Q3995.18 62.8538 3997.77 65.2034 Q4000.4 67.5124 4004.9 67.5124 Q4011.1 67.5124 4014.82 63.1374 Q4018.59 58.7219 4018.59 51.4303 L4018.59 49.7694 L4011.18 49.7694 M4026.04 46.6907 L4026.04 72.576 L4018.59 72.576 L4018.59 65.6895 Q4016.04 69.8214 4012.23 71.8063 Q4008.42 73.7508 4002.91 73.7508 Q3995.95 73.7508 3991.81 69.8619 Q3987.72 65.9325 3987.72 59.3701 Q3987.72 51.7138 3992.83 47.825 Q3997.97 43.9361 4008.14 43.9361 L4018.59 43.9361 L4018.59 43.2069 Q4018.59 38.0623 4015.19 35.2672 Q4011.83 32.4315 4005.71 32.4315 Q4001.82 32.4315 3998.13 33.3632 Q3994.45 34.295 3991.04 36.1584 L3991.04 29.2718 Q3995.14 27.692 3998.98 26.9223 Q4002.83 26.1121 4006.48 26.1121 Q4016.32 26.1121 4021.18 31.2163 Q4026.04 36.3204 4026.04 46.6907 Z\" fill=\"#000000\" fill-rule=\"evenodd\" fill-opacity=\"1\" /><path clip-path=\"url(#clip670)\" d=\"M4076.72 35.9153 Q4079.52 30.8922 4083.41 28.5022 Q4087.29 26.1121 4092.56 26.1121 Q4099.65 26.1121 4103.5 31.0947 Q4107.35 36.0368 4107.35 45.1919 L4107.35 72.576 L4099.85 72.576 L4099.85 45.4349 Q4099.85 38.913 4097.54 35.7533 Q4095.23 32.5936 4090.49 32.5936 Q4084.7 32.5936 4081.34 36.4419 Q4077.98 40.2903 4077.98 46.9338 L4077.98 72.576 L4070.48 72.576 L4070.48 45.4349 Q4070.48 38.8725 4068.17 35.7533 Q4065.86 32.5936 4061.04 32.5936 Q4055.33 32.5936 4051.97 36.4824 Q4048.61 40.3308 4048.61 46.9338 L4048.61 72.576 L4041.11 72.576 L4041.11 27.2059 L4048.61 27.2059 L4048.61 34.2544 Q4051.16 30.082 4054.72 28.0971 Q4058.29 26.1121 4063.19 26.1121 Q4068.13 26.1121 4071.58 28.6237 Q4075.06 31.1352 4076.72 35.9153 Z\" fill=\"#000000\" fill-rule=\"evenodd\" fill-opacity=\"1\" /><path clip-path=\"url(#clip670)\" d=\"M4118.45 46.5287 L4140.28 46.5287 L4140.28 53.1722 L4118.45 53.1722 L4118.45 46.5287 Z\" fill=\"#000000\" fill-rule=\"evenodd\" fill-opacity=\"1\" /><path clip-path=\"url(#clip670)\" d=\"M4188.73 14.0809 L4188.73 22.0612 Q4184.07 19.8332 4179.94 18.7395 Q4175.81 17.6457 4171.96 17.6457 Q4165.27 17.6457 4161.63 20.2383 Q4158.02 22.8309 4158.02 27.611 Q4158.02 31.6214 4160.41 33.6873 Q4162.84 35.7128 4169.57 36.9686 L4174.51 37.9813 Q4183.67 39.7232 4188 44.1387 Q4192.37 48.5136 4192.37 55.8863 Q4192.37 64.6767 4186.46 69.2137 Q4180.59 73.7508 4169.2 73.7508 Q4164.91 73.7508 4160.05 72.7785 Q4155.23 71.8063 4150.04 69.9024 L4150.04 61.4765 Q4155.03 64.2716 4159.81 65.6895 Q4164.59 67.1073 4169.2 67.1073 Q4176.21 67.1073 4180.02 64.3527 Q4183.83 61.598 4183.83 56.4939 Q4183.83 52.0379 4181.07 49.5264 Q4178.36 47.0148 4172.12 45.759 L4167.14 44.7868 Q4157.98 42.9639 4153.89 39.075 Q4149.8 35.1862 4149.8 28.2591 Q4149.8 20.2383 4155.43 15.6203 Q4161.1 11.0023 4171.03 11.0023 Q4175.28 11.0023 4179.7 11.7719 Q4184.11 12.5416 4188.73 14.0809 Z\" fill=\"#000000\" fill-rule=\"evenodd\" fill-opacity=\"1\" /><path clip-path=\"url(#clip670)\" d=\"M4237.46 28.9478 L4237.46 35.9153 Q4234.3 34.1734 4231.1 33.3227 Q4227.94 32.4315 4224.7 32.4315 Q4217.45 32.4315 4213.44 37.0496 Q4209.43 41.6271 4209.43 49.9314 Q4209.43 58.2358 4213.44 62.8538 Q4217.45 67.4314 4224.7 67.4314 Q4227.94 67.4314 4231.1 66.5807 Q4234.3 65.6895 4237.46 63.9476 L4237.46 70.8341 Q4234.34 72.2924 4230.98 73.0216 Q4227.66 73.7508 4223.89 73.7508 Q4213.64 73.7508 4207.61 67.3098 Q4201.57 60.8689 4201.57 49.9314 Q4201.57 38.832 4207.65 32.472 Q4213.76 26.1121 4224.38 26.1121 Q4227.82 26.1121 4231.1 26.8413 Q4234.38 27.5299 4237.46 28.9478 Z\" fill=\"#000000\" fill-rule=\"evenodd\" fill-opacity=\"1\" /><path clip-path=\"url(#clip670)\" d=\"M4288.14 45.1919 L4288.14 72.576 L4280.68 72.576 L4280.68 45.4349 Q4280.68 38.994 4278.17 35.7938 Q4275.66 32.5936 4270.64 32.5936 Q4264.6 32.5936 4261.12 36.4419 Q4257.63 40.2903 4257.63 46.9338 L4257.63 72.576 L4250.14 72.576 L4250.14 9.54393 L4257.63 9.54393 L4257.63 34.2544 Q4260.31 30.163 4263.91 28.1376 Q4267.56 26.1121 4272.3 26.1121 Q4280.12 26.1121 4284.13 30.9732 Q4288.14 35.7938 4288.14 45.1919 Z\" fill=\"#000000\" fill-rule=\"evenodd\" fill-opacity=\"1\" /><path clip-path=\"url(#clip670)\" d=\"M4338.33 35.9153 Q4341.12 30.8922 4345.01 28.5022 Q4348.9 26.1121 4354.17 26.1121 Q4361.26 26.1121 4365.11 31.0947 Q4368.95 36.0368 4368.95 45.1919 L4368.95 72.576 L4361.46 72.576 L4361.46 45.4349 Q4361.46 38.913 4359.15 35.7533 Q4356.84 32.5936 4352.1 32.5936 Q4346.31 32.5936 4342.95 36.4419 Q4339.58 40.2903 4339.58 46.9338 L4339.58 72.576 L4332.09 72.576 L4332.09 45.4349 Q4332.09 38.8725 4329.78 35.7533 Q4327.47 32.5936 4322.65 32.5936 Q4316.94 32.5936 4313.58 36.4824 Q4310.22 40.3308 4310.22 46.9338 L4310.22 72.576 L4302.72 72.576 L4302.72 27.2059 L4310.22 27.2059 L4310.22 34.2544 Q4312.77 30.082 4316.33 28.0971 Q4319.9 26.1121 4324.8 26.1121 Q4329.74 26.1121 4333.18 28.6237 Q4336.67 31.1352 4338.33 35.9153 Z\" fill=\"#000000\" fill-rule=\"evenodd\" fill-opacity=\"1\" /><path clip-path=\"url(#clip670)\" d=\"M4383.82 27.2059 L4391.27 27.2059 L4391.27 72.576 L4383.82 72.576 L4383.82 27.2059 M4383.82 9.54393 L4391.27 9.54393 L4391.27 18.9825 L4383.82 18.9825 L4383.82 9.54393 Z\" fill=\"#000000\" fill-rule=\"evenodd\" fill-opacity=\"1\" /><path clip-path=\"url(#clip670)\" d=\"M4436.73 34.0924 L4436.73 9.54393 L4444.18 9.54393 L4444.18 72.576 L4436.73 72.576 L4436.73 65.7705 Q4434.38 69.8214 4430.77 71.8063 Q4427.21 73.7508 4422.18 73.7508 Q4413.96 73.7508 4408.77 67.1883 Q4403.63 60.6258 4403.63 49.9314 Q4403.63 39.2371 4408.77 32.6746 Q4413.96 26.1121 4422.18 26.1121 Q4427.21 26.1121 4430.77 28.0971 Q4434.38 30.0415 4436.73 34.0924 M4411.33 49.9314 Q4411.33 58.1548 4414.69 62.8538 Q4418.09 67.5124 4424.01 67.5124 Q4429.92 67.5124 4433.32 62.8538 Q4436.73 58.1548 4436.73 49.9314 Q4436.73 41.7081 4433.32 37.0496 Q4429.92 32.3505 4424.01 32.3505 Q4418.09 32.3505 4414.69 37.0496 Q4411.33 41.7081 4411.33 49.9314 Z\" fill=\"#000000\" fill-rule=\"evenodd\" fill-opacity=\"1\" /><path clip-path=\"url(#clip670)\" d=\"M4466.9 14.324 L4466.9 27.2059 L4482.26 27.2059 L4482.26 32.9987 L4466.9 32.9987 L4466.9 57.6282 Q4466.9 63.1779 4468.4 64.7578 Q4469.94 66.3376 4474.6 66.3376 L4482.26 66.3376 L4482.26 72.576 L4474.6 72.576 Q4465.97 72.576 4462.69 69.3758 Q4459.41 66.1351 4459.41 57.6282 L4459.41 32.9987 L4453.94 32.9987 L4453.94 27.2059 L4459.41 27.2059 L4459.41 14.324 L4466.9 14.324 Z\" fill=\"#000000\" fill-rule=\"evenodd\" fill-opacity=\"1\" /><polyline clip-path=\"url(#clip673)\" style=\"stroke:#009af9; stroke-linecap:butt; stroke-linejoin:round; stroke-width:8; stroke-opacity:1; fill:none\" points=\"\n",
       "  2907.02,5015.12 2919.13,2695.35 2931.24,2650.99 2943.36,2564.36 2955.47,2645.72 2967.58,2503.36 2979.69,2443.8 2991.81,2400.24 3003.92,2430.63 3016.03,2458.02 \n",
       "  3028.15,2348.55 3040.26,2424.33 3052.37,2363.13 3064.49,2321.09 3076.6,2287.16 3088.71,2257.88 3100.82,2231.67 3112.94,2207.7 3125.05,2191.57 3137.16,2179.33 \n",
       "  3149.28,2167.41 3161.39,2155.8 3173.5,2144.48 3185.61,2133.44 3197.73,2122.66 3209.84,2112.14 3221.95,2101.85 3234.07,2091.8 3246.18,2081.97 3258.29,2072.34 \n",
       "  3270.41,2062.92 3282.52,2053.7 3294.63,2044.66 3306.74,2035.79 3318.86,2027.1 3330.97,2018.58 3343.08,2010.21 3355.2,2001.99 3367.31,1993.93 3379.42,1986 \n",
       "  3391.53,1978.21 3403.65,1970.56 3415.76,1963.03 3427.87,1955.62 3439.99,1948.34 3452.1,1941.17 3464.21,1934.11 3476.33,1927.17 3488.44,1920.32 3500.55,1913.58 \n",
       "  3512.66,1906.94 3524.78,1900.4 3536.89,1893.95 3549,1887.59 3561.12,1881.31 3573.23,1875.13 3585.34,1869.03 3597.45,1863 3609.57,1857.06 3621.68,1851.2 \n",
       "  3633.79,1845.41 3645.91,1839.69 3658.02,1834.04 3670.13,1828.47 3682.25,1822.96 3694.36,1817.52 3706.47,1812.14 3718.58,1806.82 3730.7,1801.57 3742.81,1796.38 \n",
       "  3754.92,1791.25 3767.04,1786.17 3779.15,1781.15 3791.26,1776.18 3803.37,1771.27 3815.49,1766.42 3827.6,1761.61 3839.71,1756.85 3851.83,1752.14 3863.94,1747.49 \n",
       "  3876.05,1742.87 3888.17,1738.31 3900.28,1733.79 3912.39,1729.31 3924.5,1724.88 3936.62,1720.49 3948.73,1716.15 3960.84,1711.84 3972.96,1707.58 3985.07,1703.35 \n",
       "  3997.18,1699.17 4009.29,1695.02 4021.41,1690.91 4033.52,1686.83 4045.63,1682.8 4057.75,1678.8 4069.86,1674.83 4081.97,1670.9 4094.09,1667 4106.2,1663.13 \n",
       "  4118.31,1441.34 4130.42,1436.43 4142.54,1431.56 4154.65,1426.72 4166.76,1421.93 4178.88,2495.58 4190.99,2495.58 4203.1,2495.58 4215.21,2495.58 4227.33,2495.58 \n",
       "  4239.44,2495.58 4251.55,2495.58 4263.67,2495.58 4275.78,2495.58 4287.89,2495.58 4300.01,2495.58 4312.12,2495.58 4324.23,2495.58 4336.34,2495.58 4348.46,2495.58 \n",
       "  4360.57,2495.58 4372.68,2495.58 4384.8,2495.58 4396.91,2495.58 4409.02,2495.58 4421.13,2495.58 4433.25,2495.58 4445.36,2495.58 4457.47,2495.58 4469.59,2495.58 \n",
       "  4481.7,2495.58 4493.81,2495.58 4505.93,2495.58 4518.04,2495.58 4530.15,2495.58 4542.26,2495.58 4554.38,2495.58 4566.49,2495.58 4578.6,2495.58 4590.72,2495.58 \n",
       "  4602.83,2495.58 4614.94,2495.58 4627.05,2495.58 4639.17,2495.58 4651.28,2495.58 4663.39,2495.58 4675.51,2495.58 4687.62,2495.58 4699.73,2495.58 4711.84,2495.58 \n",
       "  4723.96,2495.58 4736.07,2495.58 4748.18,2495.58 4760.3,2495.58 4772.41,2495.58 4784.52,2495.58 4796.64,2495.58 4808.75,2495.58 4820.86,2495.58 4832.97,2495.58 \n",
       "  4845.09,2495.58 4857.2,2495.58 4869.31,2495.58 4881.43,2495.58 4893.54,2495.58 4905.65,2495.58 4917.76,2495.58 4929.88,2495.58 4941.99,2495.58 4954.1,2495.58 \n",
       "  4966.22,2495.58 4978.33,2495.58 4990.44,2495.58 5002.56,2495.58 5014.67,2495.58 5026.78,2495.58 5038.89,2495.58 5051.01,2495.58 5063.12,2495.58 5075.23,2495.58 \n",
       "  5087.35,2495.58 \n",
       "  \"/>\n",
       "<polyline clip-path=\"url(#clip673)\" style=\"stroke:#e26f46; stroke-linecap:butt; stroke-linejoin:round; stroke-width:8; stroke-opacity:1; fill:none\" points=\"\n",
       "  2907.02,2968.32 2919.13,2968.32 2931.24,2968.32 2943.36,2595.29 2955.47,2968.32 2967.58,2540.75 2979.69,2518.16 2991.81,2608.5 3003.92,2536.91 3016.03,2563.33 \n",
       "  3028.15,2504.95 3040.26,2540.75 3052.37,2527.54 3064.49,2518.16 3076.6,2527.54 3088.71,2510.89 3100.82,2491.74 3112.94,2540.75 3125.05,2518.16 3137.16,2527.54 \n",
       "  3149.28,2563.33 3161.39,2563.33 3173.5,2540.75 3185.61,2540.75 3197.73,2540.75 3209.84,2540.75 3221.95,2563.33 3234.07,2563.33 3246.18,2563.33 3258.29,2563.33 \n",
       "  3270.41,2563.33 3282.52,2504.95 3294.63,2510.89 3306.74,2518.16 3318.86,2518.16 3330.97,2527.54 3343.08,2527.54 3355.2,2504.95 3367.31,2510.89 3379.42,2510.89 \n",
       "  3391.53,2510.89 3403.65,2518.16 3415.76,2527.54 3427.87,2510.89 3439.99,2518.16 3452.1,2518.16 3464.21,2499.93 3476.33,2518.16 3488.44,2518.16 3500.55,2518.16 \n",
       "  3512.66,2527.54 3524.78,2527.54 3536.89,2540.75 3549,2563.33 3561.12,2563.33 3573.23,2563.33 3585.34,2563.33 3597.45,2563.33 3609.57,2563.33 3621.68,2563.33 \n",
       "  3633.79,2540.75 3645.91,2518.16 3658.02,2510.89 3670.13,2510.89 3682.25,2518.16 3694.36,2518.16 3706.47,2527.54 3718.58,2527.54 3730.7,2540.75 3742.81,2540.75 \n",
       "  3754.92,2540.75 3767.04,2540.75 3779.15,2540.75 3791.26,2518.16 3803.37,2518.16 3815.49,2518.16 3827.6,2527.54 3839.71,2527.54 3851.83,2540.75 3863.94,2540.75 \n",
       "  3876.05,2540.75 3888.17,2540.75 3900.28,2527.54 3912.39,2527.54 3924.5,2527.54 3936.62,2540.75 3948.73,2540.75 3960.84,2540.75 3972.96,2540.75 3985.07,2540.75 \n",
       "  3997.18,2563.33 4009.29,2563.33 4021.41,2563.33 4033.52,2563.33 4045.63,2563.33 4057.75,2563.33 4069.86,2563.33 4081.97,2563.33 4094.09,2563.33 4106.2,2518.16 \n",
       "  4118.31,2527.54 4130.42,2527.54 4142.54,2510.89 4154.65,2527.54 4166.76,2540.75 4178.88,2968.32 4190.99,2968.32 4203.1,2968.32 4215.21,2968.32 4227.33,2968.32 \n",
       "  4239.44,2968.32 4251.55,2968.32 4263.67,2968.32 4275.78,2968.32 4287.89,2968.32 4300.01,2968.32 4312.12,2968.32 4324.23,2968.32 4336.34,2968.32 4348.46,2968.32 \n",
       "  4360.57,2968.32 4372.68,2968.32 4384.8,2968.32 4396.91,2968.32 4409.02,2968.32 4421.13,2968.32 4433.25,2968.32 4445.36,2968.32 4457.47,2968.32 4469.59,2968.32 \n",
       "  4481.7,2968.32 4493.81,2968.32 4505.93,2968.32 4518.04,2968.32 4530.15,2968.32 4542.26,2968.32 4554.38,2968.32 4566.49,2968.32 4578.6,2968.32 4590.72,2968.32 \n",
       "  4602.83,2968.32 4614.94,2968.32 4627.05,2968.32 4639.17,2968.32 4651.28,2968.32 4663.39,2968.32 4675.51,2968.32 4687.62,2968.32 4699.73,2968.32 4711.84,2968.32 \n",
       "  4723.96,2968.32 4736.07,2968.32 4748.18,2968.32 4760.3,2968.32 4772.41,2968.32 4784.52,2968.32 4796.64,2968.32 4808.75,2968.32 4820.86,2968.32 4832.97,2968.32 \n",
       "  4845.09,2968.32 4857.2,2968.32 4869.31,2968.32 4881.43,2968.32 4893.54,2968.32 4905.65,2968.32 4917.76,2968.32 4929.88,2968.32 4941.99,2968.32 4954.1,2968.32 \n",
       "  4966.22,2968.32 4978.33,2968.32 4990.44,2968.32 5002.56,2968.32 5014.67,2968.32 5026.78,2968.32 5038.89,2968.32 5051.01,2968.32 5063.12,2968.32 5075.23,2968.32 \n",
       "  5087.35,2968.32 \n",
       "  \"/>\n",
       "<path clip-path=\"url(#clip670)\" d=\"\n",
       "M4339.64 370.829 L5075.72 370.829 L5075.72 215.309 L4339.64 215.309  Z\n",
       "  \" fill=\"#ffffff\" fill-rule=\"evenodd\" fill-opacity=\"1\"/>\n",
       "<polyline clip-path=\"url(#clip670)\" style=\"stroke:#000000; stroke-linecap:butt; stroke-linejoin:round; stroke-width:4; stroke-opacity:1; fill:none\" points=\"\n",
       "  4339.64,370.829 5075.72,370.829 5075.72,215.309 4339.64,215.309 4339.64,370.829 \n",
       "  \"/>\n",
       "<polyline clip-path=\"url(#clip670)\" style=\"stroke:#009af9; stroke-linecap:butt; stroke-linejoin:round; stroke-width:4; stroke-opacity:1; fill:none\" points=\"\n",
       "  4365.32,267.149 4519.4,267.149 \n",
       "  \"/>\n",
       "<path clip-path=\"url(#clip670)\" d=\"M4556.98 261.489 Q4553.55 261.489 4551.56 264.174 Q4549.57 266.836 4549.57 271.489 Q4549.57 276.142 4551.54 278.827 Q4553.53 281.489 4556.98 281.489 Q4560.38 281.489 4562.37 278.804 Q4564.36 276.119 4564.36 271.489 Q4564.36 266.883 4562.37 264.198 Q4560.38 261.489 4556.98 261.489 M4556.98 257.878 Q4562.53 257.878 4565.7 261.489 Q4568.88 265.1 4568.88 271.489 Q4568.88 277.855 4565.7 281.489 Q4562.53 285.1 4556.98 285.1 Q4551.4 285.1 4548.23 281.489 Q4545.08 277.855 4545.08 271.489 Q4545.08 265.1 4548.23 261.489 Q4551.4 257.878 4556.98 257.878 Z\" fill=\"#000000\" fill-rule=\"evenodd\" fill-opacity=\"1\" /><path clip-path=\"url(#clip670)\" d=\"M4590.96 262.485 Q4590.24 262.068 4589.38 261.883 Q4588.55 261.674 4587.53 261.674 Q4583.92 261.674 4581.98 264.036 Q4580.06 266.373 4580.06 270.772 L4580.06 284.429 L4575.77 284.429 L4575.77 258.503 L4580.06 258.503 L4580.06 262.531 Q4581.4 260.17 4583.55 259.036 Q4585.7 257.878 4588.78 257.878 Q4589.22 257.878 4589.75 257.948 Q4590.29 257.994 4590.94 258.11 L4590.96 262.485 Z\" fill=\"#000000\" fill-rule=\"evenodd\" fill-opacity=\"1\" /><path clip-path=\"url(#clip670)\" d=\"M4599.64 251.142 L4599.64 258.503 L4608.41 258.503 L4608.41 261.813 L4599.64 261.813 L4599.64 275.887 Q4599.64 279.059 4600.5 279.961 Q4601.37 280.864 4604.04 280.864 L4608.41 280.864 L4608.41 284.429 L4604.04 284.429 Q4599.11 284.429 4597.23 282.6 Q4595.36 280.748 4595.36 275.887 L4595.36 261.813 L4592.23 261.813 L4592.23 258.503 L4595.36 258.503 L4595.36 251.142 L4599.64 251.142 Z\" fill=\"#000000\" fill-rule=\"evenodd\" fill-opacity=\"1\" /><path clip-path=\"url(#clip670)\" d=\"M4635.56 268.781 L4635.56 284.429 L4631.31 284.429 L4631.31 268.92 Q4631.31 265.239 4629.87 263.411 Q4628.43 261.582 4625.56 261.582 Q4622.12 261.582 4620.12 263.781 Q4618.13 265.98 4618.13 269.776 L4618.13 284.429 L4613.85 284.429 L4613.85 248.411 L4618.13 248.411 L4618.13 262.531 Q4619.66 260.193 4621.72 259.036 Q4623.81 257.878 4626.51 257.878 Q4630.98 257.878 4633.27 260.656 Q4635.56 263.411 4635.56 268.781 Z\" fill=\"#000000\" fill-rule=\"evenodd\" fill-opacity=\"1\" /><path clip-path=\"url(#clip670)\" d=\"M4654.11 261.489 Q4650.68 261.489 4648.69 264.174 Q4646.7 266.836 4646.7 271.489 Q4646.7 276.142 4648.67 278.827 Q4650.66 281.489 4654.11 281.489 Q4657.51 281.489 4659.5 278.804 Q4661.49 276.119 4661.49 271.489 Q4661.49 266.883 4659.5 264.198 Q4657.51 261.489 4654.11 261.489 M4654.11 257.878 Q4659.66 257.878 4662.83 261.489 Q4666 265.1 4666 271.489 Q4666 277.855 4662.83 281.489 Q4659.66 285.1 4654.11 285.1 Q4648.53 285.1 4645.36 281.489 Q4642.21 277.855 4642.21 271.489 Q4642.21 265.1 4645.36 261.489 Q4648.53 257.878 4654.11 257.878 Z\" fill=\"#000000\" fill-rule=\"evenodd\" fill-opacity=\"1\" /><path clip-path=\"url(#clip670)\" d=\"M4694.62 268.781 L4694.62 284.429 L4690.36 284.429 L4690.36 268.92 Q4690.36 265.239 4688.92 263.411 Q4687.49 261.582 4684.62 261.582 Q4681.17 261.582 4679.18 263.781 Q4677.18 265.98 4677.18 269.776 L4677.18 284.429 L4672.9 284.429 L4672.9 258.503 L4677.18 258.503 L4677.18 262.531 Q4678.71 260.193 4680.77 259.036 Q4682.86 257.878 4685.56 257.878 Q4690.03 257.878 4692.32 260.656 Q4694.62 263.411 4694.62 268.781 Z\" fill=\"#000000\" fill-rule=\"evenodd\" fill-opacity=\"1\" /><path clip-path=\"url(#clip670)\" d=\"M4713.16 261.489 Q4709.73 261.489 4707.74 264.174 Q4705.75 266.836 4705.75 271.489 Q4705.75 276.142 4707.72 278.827 Q4709.71 281.489 4713.16 281.489 Q4716.56 281.489 4718.55 278.804 Q4720.54 276.119 4720.54 271.489 Q4720.54 266.883 4718.55 264.198 Q4716.56 261.489 4713.16 261.489 M4713.16 257.878 Q4718.71 257.878 4721.88 261.489 Q4725.05 265.1 4725.05 271.489 Q4725.05 277.855 4721.88 281.489 Q4718.71 285.1 4713.16 285.1 Q4707.58 285.1 4704.41 281.489 Q4701.26 277.855 4701.26 271.489 Q4701.26 265.1 4704.41 261.489 Q4707.58 257.878 4713.16 257.878 Z\" fill=\"#000000\" fill-rule=\"evenodd\" fill-opacity=\"1\" /><path clip-path=\"url(#clip670)\" d=\"M4747.14 262.485 Q4746.42 262.068 4745.56 261.883 Q4744.73 261.674 4743.71 261.674 Q4740.1 261.674 4738.16 264.036 Q4736.24 266.373 4736.24 270.772 L4736.24 284.429 L4731.95 284.429 L4731.95 258.503 L4736.24 258.503 L4736.24 262.531 Q4737.58 260.17 4739.73 259.036 Q4741.88 257.878 4744.96 257.878 Q4745.4 257.878 4745.93 257.948 Q4746.47 257.994 4747.11 258.11 L4747.14 262.485 Z\" fill=\"#000000\" fill-rule=\"evenodd\" fill-opacity=\"1\" /><path clip-path=\"url(#clip670)\" d=\"M4770.96 263.48 Q4772.55 260.61 4774.78 259.244 Q4777 257.878 4780.01 257.878 Q4784.06 257.878 4786.26 260.725 Q4788.46 263.549 4788.46 268.781 L4788.46 284.429 L4784.17 284.429 L4784.17 268.92 Q4784.17 265.193 4782.86 263.387 Q4781.54 261.582 4778.83 261.582 Q4775.52 261.582 4773.6 263.781 Q4771.67 265.98 4771.67 269.776 L4771.67 284.429 L4767.39 284.429 L4767.39 268.92 Q4767.39 265.17 4766.07 263.387 Q4764.75 261.582 4762 261.582 Q4758.74 261.582 4756.81 263.804 Q4754.89 266.003 4754.89 269.776 L4754.89 284.429 L4750.61 284.429 L4750.61 258.503 L4754.89 258.503 L4754.89 262.531 Q4756.35 260.147 4758.39 259.012 Q4760.42 257.878 4763.23 257.878 Q4766.05 257.878 4768.02 259.313 Q4770.01 260.749 4770.96 263.48 Z\" fill=\"#000000\" fill-rule=\"evenodd\" fill-opacity=\"1\" /><path clip-path=\"url(#clip670)\" d=\"M4808.73 271.397 Q4803.57 271.397 4801.58 272.577 Q4799.59 273.758 4799.59 276.605 Q4799.59 278.873 4801.07 280.216 Q4802.58 281.535 4805.15 281.535 Q4808.69 281.535 4810.82 279.035 Q4812.97 276.512 4812.97 272.346 L4812.97 271.397 L4808.73 271.397 M4817.23 269.637 L4817.23 284.429 L4812.97 284.429 L4812.97 280.494 Q4811.51 282.855 4809.34 283.989 Q4807.16 285.1 4804.01 285.1 Q4800.03 285.1 4797.67 282.878 Q4795.33 280.633 4795.33 276.883 Q4795.33 272.508 4798.25 270.286 Q4801.19 268.063 4807 268.063 L4812.97 268.063 L4812.97 267.647 Q4812.97 264.707 4811.03 263.11 Q4809.11 261.489 4805.61 261.489 Q4803.39 261.489 4801.28 262.022 Q4799.17 262.554 4797.23 263.619 L4797.23 259.684 Q4799.57 258.781 4801.77 258.341 Q4803.97 257.878 4806.05 257.878 Q4811.67 257.878 4814.45 260.795 Q4817.23 263.711 4817.23 269.637 Z\" fill=\"#000000\" fill-rule=\"evenodd\" fill-opacity=\"1\" /><path clip-path=\"url(#clip670)\" d=\"M4826 248.411 L4830.26 248.411 L4830.26 284.429 L4826 284.429 L4826 248.411 Z\" fill=\"#000000\" fill-rule=\"evenodd\" fill-opacity=\"1\" /><path clip-path=\"url(#clip670)\" d=\"M4839.17 258.503 L4843.43 258.503 L4843.43 284.429 L4839.17 284.429 L4839.17 258.503 M4839.17 248.411 L4843.43 248.411 L4843.43 253.804 L4839.17 253.804 L4839.17 248.411 Z\" fill=\"#000000\" fill-rule=\"evenodd\" fill-opacity=\"1\" /><path clip-path=\"url(#clip670)\" d=\"M4856.56 251.142 L4856.56 258.503 L4865.33 258.503 L4865.33 261.813 L4856.56 261.813 L4856.56 275.887 Q4856.56 279.059 4857.42 279.961 Q4858.29 280.864 4860.96 280.864 L4865.33 280.864 L4865.33 284.429 L4860.96 284.429 Q4856.03 284.429 4854.15 282.6 Q4852.28 280.748 4852.28 275.887 L4852.28 261.813 L4849.15 261.813 L4849.15 258.503 L4852.28 258.503 L4852.28 251.142 L4856.56 251.142 Z\" fill=\"#000000\" fill-rule=\"evenodd\" fill-opacity=\"1\" /><path clip-path=\"url(#clip670)\" d=\"M4881.72 286.836 Q4879.92 291.466 4878.2 292.878 Q4876.49 294.29 4873.62 294.29 L4870.22 294.29 L4870.22 290.725 L4872.72 290.725 Q4874.48 290.725 4875.45 289.892 Q4876.42 289.059 4877.6 285.957 L4878.36 284.012 L4867.88 258.503 L4872.39 258.503 L4880.49 278.781 L4888.6 258.503 L4893.11 258.503 L4881.72 286.836 Z\" fill=\"#000000\" fill-rule=\"evenodd\" fill-opacity=\"1\" /><path clip-path=\"url(#clip670)\" d=\"M4936.23 270.401 L4936.23 272.485 L4916.65 272.485 Q4916.93 276.883 4919.29 279.197 Q4921.67 281.489 4925.91 281.489 Q4928.36 281.489 4930.66 280.887 Q4932.97 280.285 4935.24 279.082 L4935.24 283.11 Q4932.95 284.082 4930.54 284.591 Q4928.13 285.1 4925.66 285.1 Q4919.45 285.1 4915.82 281.489 Q4912.21 277.878 4912.21 271.721 Q4912.21 265.355 4915.63 261.628 Q4919.08 257.878 4924.91 257.878 Q4930.15 257.878 4933.18 261.258 Q4936.23 264.614 4936.23 270.401 M4931.98 269.151 Q4931.93 265.656 4930.01 263.573 Q4928.11 261.489 4924.96 261.489 Q4921.4 261.489 4919.24 263.503 Q4917.11 265.517 4916.79 269.174 L4931.98 269.151 Z\" fill=\"#000000\" fill-rule=\"evenodd\" fill-opacity=\"1\" /><path clip-path=\"url(#clip670)\" d=\"M4958.25 262.485 Q4957.53 262.068 4956.67 261.883 Q4955.84 261.674 4954.82 261.674 Q4951.21 261.674 4949.27 264.036 Q4947.35 266.373 4947.35 270.772 L4947.35 284.429 L4943.06 284.429 L4943.06 258.503 L4947.35 258.503 L4947.35 262.531 Q4948.69 260.17 4950.84 259.036 Q4952.99 257.878 4956.07 257.878 Q4956.51 257.878 4957.04 257.948 Q4957.58 257.994 4958.22 258.11 L4958.25 262.485 Z\" fill=\"#000000\" fill-rule=\"evenodd\" fill-opacity=\"1\" /><path clip-path=\"url(#clip670)\" d=\"M4976.91 262.485 Q4976.19 262.068 4975.33 261.883 Q4974.5 261.674 4973.48 261.674 Q4969.87 261.674 4967.92 264.036 Q4966 266.373 4966 270.772 L4966 284.429 L4961.72 284.429 L4961.72 258.503 L4966 258.503 L4966 262.531 Q4967.35 260.17 4969.5 259.036 Q4971.65 257.878 4974.73 257.878 Q4975.17 257.878 4975.7 257.948 Q4976.23 257.994 4976.88 258.11 L4976.91 262.485 Z\" fill=\"#000000\" fill-rule=\"evenodd\" fill-opacity=\"1\" /><path clip-path=\"url(#clip670)\" d=\"M4990.38 261.489 Q4986.95 261.489 4984.96 264.174 Q4982.97 266.836 4982.97 271.489 Q4982.97 276.142 4984.94 278.827 Q4986.93 281.489 4990.38 281.489 Q4993.78 281.489 4995.77 278.804 Q4997.76 276.119 4997.76 271.489 Q4997.76 266.883 4995.77 264.198 Q4993.78 261.489 4990.38 261.489 M4990.38 257.878 Q4995.93 257.878 4999.1 261.489 Q5002.28 265.1 5002.28 271.489 Q5002.28 277.855 4999.1 281.489 Q4995.93 285.1 4990.38 285.1 Q4984.8 285.1 4981.63 281.489 Q4978.48 277.855 4978.48 271.489 Q4978.48 265.1 4981.63 261.489 Q4984.8 257.878 4990.38 257.878 Z\" fill=\"#000000\" fill-rule=\"evenodd\" fill-opacity=\"1\" /><path clip-path=\"url(#clip670)\" d=\"M5024.36 262.485 Q5023.64 262.068 5022.78 261.883 Q5021.95 261.674 5020.93 261.674 Q5017.32 261.674 5015.38 264.036 Q5013.46 266.373 5013.46 270.772 L5013.46 284.429 L5009.17 284.429 L5009.17 258.503 L5013.46 258.503 L5013.46 262.531 Q5014.8 260.17 5016.95 259.036 Q5019.1 257.878 5022.18 257.878 Q5022.62 257.878 5023.16 257.948 Q5023.69 257.994 5024.34 258.11 L5024.36 262.485 Z\" fill=\"#000000\" fill-rule=\"evenodd\" fill-opacity=\"1\" /><polyline clip-path=\"url(#clip670)\" style=\"stroke:#e26f46; stroke-linecap:butt; stroke-linejoin:round; stroke-width:4; stroke-opacity:1; fill:none\" points=\"\n",
       "  4365.32,318.989 4519.4,318.989 \n",
       "  \"/>\n",
       "<path clip-path=\"url(#clip670)\" d=\"M4560.26 314.325 Q4559.55 313.908 4558.69 313.723 Q4557.86 313.514 4556.84 313.514 Q4553.23 313.514 4551.28 315.876 Q4549.36 318.213 4549.36 322.612 L4549.36 336.269 L4545.08 336.269 L4545.08 310.343 L4549.36 310.343 L4549.36 314.371 Q4550.7 312.01 4552.86 310.876 Q4555.01 309.718 4558.09 309.718 Q4558.53 309.718 4559.06 309.788 Q4559.59 309.834 4560.24 309.95 L4560.26 314.325 Z\" fill=\"#000000\" fill-rule=\"evenodd\" fill-opacity=\"1\" /><path clip-path=\"url(#clip670)\" d=\"M4585.87 322.241 L4585.87 324.325 L4566.28 324.325 Q4566.56 328.723 4568.92 331.037 Q4571.31 333.329 4575.54 333.329 Q4578 333.329 4580.29 332.727 Q4582.6 332.125 4584.87 330.922 L4584.87 334.95 Q4582.58 335.922 4580.17 336.431 Q4577.76 336.94 4575.29 336.94 Q4569.08 336.94 4565.45 333.329 Q4561.84 329.718 4561.84 323.561 Q4561.84 317.195 4565.26 313.468 Q4568.71 309.718 4574.55 309.718 Q4579.78 309.718 4582.81 313.098 Q4585.87 316.454 4585.87 322.241 M4581.61 320.991 Q4581.56 317.496 4579.64 315.413 Q4577.74 313.329 4574.59 313.329 Q4571.03 313.329 4568.88 315.343 Q4566.75 317.357 4566.42 321.014 L4581.61 320.991 Z\" fill=\"#000000\" fill-rule=\"evenodd\" fill-opacity=\"1\" /><path clip-path=\"url(#clip670)\" d=\"M4611.51 311.339 L4611.51 315.32 Q4609.71 314.325 4607.88 313.839 Q4606.07 313.329 4604.22 313.329 Q4600.08 313.329 4597.79 315.968 Q4595.5 318.584 4595.5 323.329 Q4595.5 328.075 4597.79 330.713 Q4600.08 333.329 4604.22 333.329 Q4606.07 333.329 4607.88 332.843 Q4609.71 332.334 4611.51 331.338 L4611.51 335.274 Q4609.73 336.107 4607.81 336.524 Q4605.91 336.94 4603.76 336.94 Q4597.9 336.94 4594.45 333.26 Q4591 329.579 4591 323.329 Q4591 316.987 4594.48 313.352 Q4597.97 309.718 4604.04 309.718 Q4606 309.718 4607.88 310.135 Q4609.75 310.528 4611.51 311.339 Z\" fill=\"#000000\" fill-rule=\"evenodd\" fill-opacity=\"1\" /><path clip-path=\"url(#clip670)\" d=\"M4628.97 313.329 Q4625.54 313.329 4623.55 316.014 Q4621.56 318.676 4621.56 323.329 Q4621.56 327.982 4623.53 330.667 Q4625.52 333.329 4628.97 333.329 Q4632.37 333.329 4634.36 330.644 Q4636.35 327.959 4636.35 323.329 Q4636.35 318.723 4634.36 316.038 Q4632.37 313.329 4628.97 313.329 M4628.97 309.718 Q4634.52 309.718 4637.69 313.329 Q4640.87 316.94 4640.87 323.329 Q4640.87 329.695 4637.69 333.329 Q4634.52 336.94 4628.97 336.94 Q4623.39 336.94 4620.22 333.329 Q4617.07 329.695 4617.07 323.329 Q4617.07 316.94 4620.22 313.329 Q4623.39 309.718 4628.97 309.718 Z\" fill=\"#000000\" fill-rule=\"evenodd\" fill-opacity=\"1\" /><path clip-path=\"url(#clip670)\" d=\"M4669.48 320.621 L4669.48 336.269 L4665.22 336.269 L4665.22 320.76 Q4665.22 317.079 4663.78 315.251 Q4662.35 313.422 4659.48 313.422 Q4656.03 313.422 4654.04 315.621 Q4652.05 317.82 4652.05 321.616 L4652.05 336.269 L4647.76 336.269 L4647.76 310.343 L4652.05 310.343 L4652.05 314.371 Q4653.57 312.033 4655.63 310.876 Q4657.72 309.718 4660.43 309.718 Q4664.89 309.718 4667.18 312.496 Q4669.48 315.251 4669.48 320.621 Z\" fill=\"#000000\" fill-rule=\"evenodd\" fill-opacity=\"1\" /><path clip-path=\"url(#clip670)\" d=\"M4694.5 311.107 L4694.5 315.135 Q4692.69 314.209 4690.75 313.746 Q4688.81 313.283 4686.72 313.283 Q4683.55 313.283 4681.95 314.255 Q4680.38 315.227 4680.38 317.172 Q4680.38 318.653 4681.51 319.51 Q4682.65 320.343 4686.07 321.107 L4687.53 321.431 Q4692.07 322.403 4693.97 324.186 Q4695.89 325.945 4695.89 329.116 Q4695.89 332.727 4693.02 334.834 Q4690.17 336.94 4685.17 336.94 Q4683.09 336.94 4680.82 336.524 Q4678.57 336.13 4676.07 335.32 L4676.07 330.922 Q4678.43 332.149 4680.73 332.774 Q4683.02 333.375 4685.26 333.375 Q4688.27 333.375 4689.89 332.357 Q4691.51 331.315 4691.51 329.44 Q4691.51 327.704 4690.33 326.778 Q4689.18 325.852 4685.22 324.996 L4683.74 324.649 Q4679.78 323.815 4678.02 322.102 Q4676.26 320.366 4676.26 317.357 Q4676.26 313.7 4678.85 311.709 Q4681.44 309.718 4686.21 309.718 Q4688.57 309.718 4690.66 310.065 Q4692.74 310.413 4694.5 311.107 Z\" fill=\"#000000\" fill-rule=\"evenodd\" fill-opacity=\"1\" /><path clip-path=\"url(#clip670)\" d=\"M4706.88 302.982 L4706.88 310.343 L4715.66 310.343 L4715.66 313.653 L4706.88 313.653 L4706.88 327.727 Q4706.88 330.899 4707.74 331.801 Q4708.62 332.704 4711.28 332.704 L4715.66 332.704 L4715.66 336.269 L4711.28 336.269 Q4706.35 336.269 4704.48 334.44 Q4702.6 332.588 4702.6 327.727 L4702.6 313.653 L4699.48 313.653 L4699.48 310.343 L4702.6 310.343 L4702.6 302.982 L4706.88 302.982 Z\" fill=\"#000000\" fill-rule=\"evenodd\" fill-opacity=\"1\" /><path clip-path=\"url(#clip670)\" d=\"M4736.28 314.325 Q4735.56 313.908 4734.71 313.723 Q4733.87 313.514 4732.86 313.514 Q4729.24 313.514 4727.3 315.876 Q4725.38 318.213 4725.38 322.612 L4725.38 336.269 L4721.1 336.269 L4721.1 310.343 L4725.38 310.343 L4725.38 314.371 Q4726.72 312.01 4728.87 310.876 Q4731.03 309.718 4734.11 309.718 Q4734.55 309.718 4735.08 309.788 Q4735.61 309.834 4736.26 309.95 L4736.28 314.325 Z\" fill=\"#000000\" fill-rule=\"evenodd\" fill-opacity=\"1\" /><path clip-path=\"url(#clip670)\" d=\"M4740.31 326.038 L4740.31 310.343 L4744.57 310.343 L4744.57 325.875 Q4744.57 329.556 4746 331.408 Q4747.44 333.237 4750.31 333.237 Q4753.76 333.237 4755.75 331.037 Q4757.76 328.838 4757.76 325.042 L4757.76 310.343 L4762.02 310.343 L4762.02 336.269 L4757.76 336.269 L4757.76 332.287 Q4756.21 334.649 4754.15 335.806 Q4752.11 336.94 4749.41 336.94 Q4744.94 336.94 4742.62 334.162 Q4740.31 331.385 4740.31 326.038 M4751.03 309.718 L4751.03 309.718 Z\" fill=\"#000000\" fill-rule=\"evenodd\" fill-opacity=\"1\" /><path clip-path=\"url(#clip670)\" d=\"M4789.45 311.339 L4789.45 315.32 Q4787.65 314.325 4785.82 313.839 Q4784.01 313.329 4782.16 313.329 Q4778.02 313.329 4775.73 315.968 Q4773.43 318.584 4773.43 323.329 Q4773.43 328.075 4775.73 330.713 Q4778.02 333.329 4782.16 333.329 Q4784.01 333.329 4785.82 332.843 Q4787.65 332.334 4789.45 331.338 L4789.45 335.274 Q4787.67 336.107 4785.75 336.524 Q4783.85 336.94 4781.7 336.94 Q4775.84 336.94 4772.39 333.26 Q4768.94 329.579 4768.94 323.329 Q4768.94 316.987 4772.42 313.352 Q4775.91 309.718 4781.98 309.718 Q4783.94 309.718 4785.82 310.135 Q4787.69 310.528 4789.45 311.339 Z\" fill=\"#000000\" fill-rule=\"evenodd\" fill-opacity=\"1\" /><path clip-path=\"url(#clip670)\" d=\"M4801.07 302.982 L4801.07 310.343 L4809.85 310.343 L4809.85 313.653 L4801.07 313.653 L4801.07 327.727 Q4801.07 330.899 4801.93 331.801 Q4802.81 332.704 4805.47 332.704 L4809.85 332.704 L4809.85 336.269 L4805.47 336.269 Q4800.54 336.269 4798.67 334.44 Q4796.79 332.588 4796.79 327.727 L4796.79 313.653 L4793.67 313.653 L4793.67 310.343 L4796.79 310.343 L4796.79 302.982 L4801.07 302.982 Z\" fill=\"#000000\" fill-rule=\"evenodd\" fill-opacity=\"1\" /><path clip-path=\"url(#clip670)\" d=\"M4815.45 310.343 L4819.71 310.343 L4819.71 336.269 L4815.45 336.269 L4815.45 310.343 M4815.45 300.251 L4819.71 300.251 L4819.71 305.644 L4815.45 305.644 L4815.45 300.251 Z\" fill=\"#000000\" fill-rule=\"evenodd\" fill-opacity=\"1\" /><path clip-path=\"url(#clip670)\" d=\"M4838.67 313.329 Q4835.24 313.329 4833.25 316.014 Q4831.26 318.676 4831.26 323.329 Q4831.26 327.982 4833.23 330.667 Q4835.22 333.329 4838.67 333.329 Q4842.07 333.329 4844.06 330.644 Q4846.05 327.959 4846.05 323.329 Q4846.05 318.723 4844.06 316.038 Q4842.07 313.329 4838.67 313.329 M4838.67 309.718 Q4844.22 309.718 4847.39 313.329 Q4850.56 316.94 4850.56 323.329 Q4850.56 329.695 4847.39 333.329 Q4844.22 336.94 4838.67 336.94 Q4833.09 336.94 4829.92 333.329 Q4826.77 329.695 4826.77 323.329 Q4826.77 316.94 4829.92 313.329 Q4833.09 309.718 4838.67 309.718 Z\" fill=\"#000000\" fill-rule=\"evenodd\" fill-opacity=\"1\" /><path clip-path=\"url(#clip670)\" d=\"M4879.17 320.621 L4879.17 336.269 L4874.92 336.269 L4874.92 320.76 Q4874.92 317.079 4873.48 315.251 Q4872.04 313.422 4869.17 313.422 Q4865.73 313.422 4863.73 315.621 Q4861.74 317.82 4861.74 321.616 L4861.74 336.269 L4857.46 336.269 L4857.46 310.343 L4861.74 310.343 L4861.74 314.371 Q4863.27 312.033 4865.33 310.876 Q4867.42 309.718 4870.12 309.718 Q4874.59 309.718 4876.88 312.496 Q4879.17 315.251 4879.17 320.621 Z\" fill=\"#000000\" fill-rule=\"evenodd\" fill-opacity=\"1\" /><path clip-path=\"url(#clip670)\" d=\"M4924.91 322.241 L4924.91 324.325 L4905.33 324.325 Q4905.61 328.723 4907.97 331.037 Q4910.35 333.329 4914.59 333.329 Q4917.04 333.329 4919.34 332.727 Q4921.65 332.125 4923.92 330.922 L4923.92 334.95 Q4921.63 335.922 4919.22 336.431 Q4916.81 336.94 4914.34 336.94 Q4908.13 336.94 4904.5 333.329 Q4900.89 329.718 4900.89 323.561 Q4900.89 317.195 4904.31 313.468 Q4907.76 309.718 4913.6 309.718 Q4918.83 309.718 4921.86 313.098 Q4924.91 316.454 4924.91 322.241 M4920.66 320.991 Q4920.61 317.496 4918.69 315.413 Q4916.79 313.329 4913.64 313.329 Q4910.08 313.329 4907.92 315.343 Q4905.79 317.357 4905.47 321.014 L4920.66 320.991 Z\" fill=\"#000000\" fill-rule=\"evenodd\" fill-opacity=\"1\" /><path clip-path=\"url(#clip670)\" d=\"M4946.93 314.325 Q4946.21 313.908 4945.35 313.723 Q4944.52 313.514 4943.5 313.514 Q4939.89 313.514 4937.95 315.876 Q4936.03 318.213 4936.03 322.612 L4936.03 336.269 L4931.74 336.269 L4931.74 310.343 L4936.03 310.343 L4936.03 314.371 Q4937.37 312.01 4939.52 310.876 Q4941.67 309.718 4944.75 309.718 Q4945.19 309.718 4945.72 309.788 Q4946.26 309.834 4946.91 309.95 L4946.93 314.325 Z\" fill=\"#000000\" fill-rule=\"evenodd\" fill-opacity=\"1\" /><path clip-path=\"url(#clip670)\" d=\"M4965.59 314.325 Q4964.87 313.908 4964.01 313.723 Q4963.18 313.514 4962.16 313.514 Q4958.55 313.514 4956.6 315.876 Q4954.68 318.213 4954.68 322.612 L4954.68 336.269 L4950.4 336.269 L4950.4 310.343 L4954.68 310.343 L4954.68 314.371 Q4956.03 312.01 4958.18 310.876 Q4960.33 309.718 4963.41 309.718 Q4963.85 309.718 4964.38 309.788 Q4964.91 309.834 4965.56 309.95 L4965.59 314.325 Z\" fill=\"#000000\" fill-rule=\"evenodd\" fill-opacity=\"1\" /><path clip-path=\"url(#clip670)\" d=\"M4979.06 313.329 Q4975.63 313.329 4973.64 316.014 Q4971.65 318.676 4971.65 323.329 Q4971.65 327.982 4973.62 330.667 Q4975.61 333.329 4979.06 333.329 Q4982.46 333.329 4984.45 330.644 Q4986.44 327.959 4986.44 323.329 Q4986.44 318.723 4984.45 316.038 Q4982.46 313.329 4979.06 313.329 M4979.06 309.718 Q4984.61 309.718 4987.78 313.329 Q4990.96 316.94 4990.96 323.329 Q4990.96 329.695 4987.78 333.329 Q4984.61 336.94 4979.06 336.94 Q4973.48 336.94 4970.31 333.329 Q4967.16 329.695 4967.16 323.329 Q4967.16 316.94 4970.31 313.329 Q4973.48 309.718 4979.06 309.718 Z\" fill=\"#000000\" fill-rule=\"evenodd\" fill-opacity=\"1\" /><path clip-path=\"url(#clip670)\" d=\"M5013.04 314.325 Q5012.32 313.908 5011.47 313.723 Q5010.63 313.514 5009.61 313.514 Q5006 313.514 5004.06 315.876 Q5002.14 318.213 5002.14 322.612 L5002.14 336.269 L4997.85 336.269 L4997.85 310.343 L5002.14 310.343 L5002.14 314.371 Q5003.48 312.01 5005.63 310.876 Q5007.78 309.718 5010.86 309.718 Q5011.3 309.718 5011.84 309.788 Q5012.37 309.834 5013.02 309.95 L5013.04 314.325 Z\" fill=\"#000000\" fill-rule=\"evenodd\" fill-opacity=\"1\" /></svg>\n"
      ]
     },
     "execution_count": 27,
     "metadata": {},
     "output_type": "execute_result"
    }
   ],
   "source": [
    "function mgs(A)\n",
    "    m, n = size(A)\n",
    "    Q = copy(A)\n",
    "    R = zeros(eltype(A), n, n)\n",
    "    for i in 1:n\n",
    "        R[i,i] = norm(Q[:,i])\n",
    "        Q[:,i] /= R[i,i]\n",
    "        R[i,i+1:end] = Q[:,i]' * Q[:,i+1:end]\n",
    "        Q[:,i+1:end] -= Q[:,[i]] * R[[i],i+1:end]\n",
    "    end\n",
    "    return Q, R\n",
    "end\n",
    "ortho_errs_mgs = Float64[]\n",
    "recon_errs_mgs = Float64[]\n",
    "for θ in range\n",
    "    M = kahan(10, θ)\n",
    "    ϕ = eps(Float64)\n",
    "    M_p = copy(M[:,:])\n",
    "    rot = [cos(ϕ) sin(ϕ); -sin(ϕ) cos(ϕ)]\n",
    "    M_p[1:2,:] = rot * M[1:2,:]\n",
    "    Q_mgs, R_mgs = mgs(M_p)\n",
    "    push!(ortho_errs_mgs, orthonormality_error(Q_mgs))\n",
    "    push!(recon_errs_mgs, reconstruction_error(M_p, Q_mgs, R_mgs))\n",
    "end\n",
    "ymin=Inf\n",
    "ymax=0.\n",
    "for series in [ortho_errs_cgs, ortho_errs_qr, recon_errs_mgs, recon_errs_mgs]\n",
    "    series[:] = max.(series[:], 0.001*eps())\n",
    "    ymin = min(ymin, minimum(series))\n",
    "    ymax = max(ymax, maximum(series))\n",
    "end\n",
    "ymin *= 0.5\n",
    "ymax *= 2.0\n",
    "p1 = plot( range .^-1, [ortho_errs_cgs recon_errs_cgs]\n",
    "    , yscale=:log10\n",
    "    , label=[\"orthonormality error\" \"reconstruction error\"]\n",
    "    , xlabel=\"Kahan matrix θ⁻¹\"\n",
    "    , title=\"Classical Gram-Schmidt\"\n",
    "    , size=(1300,800)\n",
    "    , ylim=(ymin,ymax)\n",
    ")\n",
    "p2 = plot( range .^-1, [ortho_errs_mgs recon_errs_mgs]\n",
    "    , yscale=:log10\n",
    "    , label=[\"orthonormality error\" \"reconstruction error\"]\n",
    "    , xlabel=\"Kahan matrix θ⁻¹\"\n",
    "    , title=\"Modified Gram-Schmidt\"\n",
    "    , size=(1300,800)\n",
    "    , ylim=(ymin,ymax)\n",
    ")\n",
    "draw(plot(p1,p2,layout=(1,2)))"
   ]
  },
  {
   "cell_type": "markdown",
   "id": "5a4ffffb",
   "metadata": {
    "slideshow": {
     "slide_type": "subslide"
    }
   },
   "source": [
    "### Modified Gram-Schmidt in Action (go back and compare)"
   ]
  },
  {
   "cell_type": "code",
   "execution_count": 28,
   "id": "afe5b4ce",
   "metadata": {
    "hideCode": true,
    "slideshow": {
     "slide_type": "-"
    }
   },
   "outputs": [
    {
     "name": "stderr",
     "output_type": "stream",
     "text": [
      "┌ Info: Saved animation to \n",
      "│   fn = /home/tisaac/srv/rep/22-course-cse6643/mybinder/tmp.gif\n",
      "└ @ Plots /home/tisaac/.julia/packages/Plots/Xv2qA/src/animation.jl:114\n"
     ]
    },
    {
     "data": {
      "text/html": [
       "<img src=\"data:image/gif;base64,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\" />"
      ],
      "text/plain": [
       "Plots.AnimatedGif(\"/home/tisaac/srv/rep/22-course-cse6643/mybinder/tmp.gif\")"
      ]
     },
     "execution_count": 28,
     "metadata": {},
     "output_type": "execute_result"
    }
   ],
   "source": [
    "m = 10; n = 5;\n",
    "A = randn(m, n)\n",
    "A /= maximum(abs.(A))\n",
    "Q̂ = copy(A)\n",
    "R̂ = zeros(n, n)\n",
    "r_scale = maximum(abs.(qr(A).R))\n",
    "anim = Animation()\n",
    "function step_plot(A,Q̂,R̂,j)\n",
    "    Q_plot = imshow(Q̂,(-1,1))\n",
    "    plot!(Q_plot,title=\"Q\")\n",
    "    ortho_plot = imshow(Q̂' * Q̂,(-1,1))\n",
    "    plot!(ortho_plot,title=\"Q'Q\")\n",
    "    recon_plot = imshow(A - Q̂ * R̂,(-1,1))\n",
    "    plot!(recon_plot,title=\"A - QR\")\n",
    "    R_plot = imshow(R̂,(-r_scale,r_scale))\n",
    "    plot!(R_plot,title=\"R\")\n",
    "    return plot(Q_plot, R_plot, ortho_plot, recon_plot, layout=(1,4), size=(1300,800), plot_title=\"Step $j\")\n",
    "end\n",
    "frame(anim,step_plot(A,Q̂,R̂,0))\n",
    "for i in 1:n\n",
    "    R̂[i,i] = norm(Q̂[:,i])\n",
    "    Q̂[:,i] /= R̂[i,i]\n",
    "    R̂[i,i+1:end] = Q̂[:,i]' * Q̂[:,i+1:end]\n",
    "    Q̂[:,i+1:end] -= Q̂[:,[i]] * R̂[[i],i+1:end]\n",
    "    frame(anim,step_plot(A,Q̂,R̂,i))\n",
    "end\n",
    "frame(anim,step_plot(A,Q̂,R̂,n))\n",
    "gif(anim,fps=0.5)"
   ]
  },
  {
   "cell_type": "markdown",
   "id": "2e11f700",
   "metadata": {},
   "source": [
    "### Modified Gram-Schmidt also constructs $\\hat{Q}$ by Triangular Orthogonalization\n",
    "\n",
    "At step $i$:\n",
    "\n",
    "$$\n",
    "\\begin{bmatrix}\n",
    "    & & & & & & \\\\\n",
    "    & & & & & & \\\\\n",
    "    & & & & & & \\\\\n",
    "    & & & & & & \\\\\n",
    "    & & & \\hat{Q} & & & \\\\\n",
    "    & & & & & & \\\\\n",
    "    & & & & & & \\\\\n",
    "    & & & & & & \\\\\n",
    "    & & & & & & \\\\\n",
    "\\end{bmatrix}\n",
    "\\gets\n",
    "\\begin{bmatrix}\n",
    "    & & & & & & \\\\\n",
    "    & & & & & & \\\\\n",
    "    & & & & & & \\\\\n",
    "    & & & & & & \\\\\n",
    "    & & & \\hat{Q} & & & \\\\\n",
    "    & & & & & & \\\\\n",
    "    & & & & & & \\\\\n",
    "    & & & & & & \\\\\n",
    "    & & & & & & \\\\\n",
    "\\end{bmatrix}\n",
    "\\underbrace{\n",
    "\\begin{bmatrix}\n",
    "   1 & & & & & & \\\\\n",
    "    & \\ddots & & & & & \\\\\n",
    "    & & 1 & & & & \\\\\n",
    "    & & & \\frac{1}{r_{ii}} & \\frac{-r_{i,i+1}}{r_{ii}} & \\dots & \\frac{-r_{i,n}}{r_{ii}} \\\\\n",
    "    & & & & 1 & & \\\\\n",
    "    & & & & & \\ddots & \\\\\n",
    "    & & & & & & 1\n",
    "\\end{bmatrix}\n",
    "}_{Z_i}\n",
    "$$\n",
    "\n",
    "$Z_i$ is an upper-triangular matrix with one nonzero row in row $i$.\n"
   ]
  },
  {
   "cell_type": "markdown",
   "id": "40812f45",
   "metadata": {},
   "source": [
    "### Notes on HW2, problem 4\n",
    "\n",
    "You have seen CGS and MGS in this lecture.  It will probably take you more time to construct the plot.\n",
    "The syntax is intentionally similar to MATLAB / matplotlib, but for reference, go to <https://docs.juliaplots.org>."
   ]
  },
  {
   "cell_type": "markdown",
   "id": "c4c4b7ab",
   "metadata": {
    "slideshow": {
     "slide_type": "slide"
    }
   },
   "source": [
    "## Gram-Schmidt Complexity"
   ]
  },
  {
   "cell_type": "markdown",
   "id": "9910b180",
   "metadata": {
    "slideshow": {
     "slide_type": "subslide"
    }
   },
   "source": [
    "### Matrx-Matrix Product Complexity\n",
    "\n",
    "Given matrices $A\\in \\mathbb{C}^{M \\times K}$, $B \\in \\mathbb{C}^{K \\times N}$, and $C \\in \\mathbb{C}^{M \\times N}$, the work $W$ measured in _floating point operations_ (\"flops\") of computing $C \\gets C - AB$ using the standard approach is\n",
    "\n",
    "$$W(C - A \\cdot B) = 2 M N K,$$\n",
    "\n",
    "which is clear from looking at the algorithm written component-wise:\n",
    "\n",
    "```julia\n",
    "for i in 1:M                          # M times ...\n",
    "    for j in 1:N                      # N times ...\n",
    "        for p in 1:K                  # K times ...\n",
    "            C[i,j] -= A[i,p] * B[p,j] # 2 flops per inner loop\n",
    "        end\n",
    "    end\n",
    "end\n",
    "            \n",
    "```"
   ]
  },
  {
   "cell_type": "markdown",
   "id": "e8dfd30c",
   "metadata": {
    "slideshow": {
     "slide_type": "fragment"
    }
   },
   "source": [
    "if we just compute $C \\gets A B$, there is one subtraction less per entry of $C$, so\n",
    "\n",
    "$$W(A \\cdot B) = 2 M N K - M N.$$"
   ]
  },
  {
   "cell_type": "markdown",
   "id": "5cddc96a",
   "metadata": {
    "cell_style": "split",
    "slideshow": {
     "slide_type": "subslide"
    }
   },
   "source": [
    "### Projection Orthogonalization Complexity\n",
    "\n",
    "If $\\hat{Q} \\in \\mathbb{C}^{m \\times j}$ and $a \\in \\mathbb{C}^m$, what is the complexity of\n",
    "\n",
    "$$\\tilde{q} \\gets a - \\hat{Q}(\\hat{Q}^*a)?$$"
   ]
  },
  {
   "cell_type": "markdown",
   "id": "890215fb",
   "metadata": {
    "cell_style": "split",
    "slideshow": {
     "slide_type": "fragment"
    }
   },
   "source": [
    "Rephrase as:\n",
    "\n",
    "$$\n",
    "\\begin{aligned}\n",
    "r &\\gets \\hat{Q}^* a \\\\\n",
    "\\tilde{q} &\\gets a - \\hat{Q}r\n",
    "\\end{aligned}\n",
    "$$"
   ]
  },
  {
   "cell_type": "markdown",
   "id": "29d0fa9b",
   "metadata": {
    "slideshow": {
     "slide_type": "fragment"
    }
   },
   "source": [
    "- First line is like $C \\gets A B$ with $M = j$, $N = 1$, and $K = m$, so $W = 2 M N K - M N = 2jm - j$."
   ]
  },
  {
   "cell_type": "markdown",
   "id": "973bc374",
   "metadata": {
    "slideshow": {
     "slide_type": "fragment"
    }
   },
   "source": [
    "- Second line is like $C \\gets C - AB$ with $M = m$, $N = 1$ and $K = j$, so $W = 2 M N K = 2jm$"
   ]
  },
  {
   "cell_type": "markdown",
   "id": "509780c6",
   "metadata": {
    "slideshow": {
     "slide_type": "fragment"
    }
   },
   "source": [
    "- Total,\n",
    "\n",
    "$$W((I - \\hat{Q}\\hat{Q}^*) a) = 4 jm - j.$$"
   ]
  },
  {
   "cell_type": "code",
   "execution_count": 29,
   "id": "1170afdc",
   "metadata": {
    "cell_style": "split",
    "slideshow": {
     "slide_type": "subslide"
    }
   },
   "outputs": [
    {
     "data": {
      "text/plain": [
       "qr_classical_gram_schmidt (generic function with 1 method)"
      ]
     },
     "execution_count": 29,
     "metadata": {},
     "output_type": "execute_result"
    }
   ],
   "source": [
    "function qr_classical_gram_schmidt(A)\n",
    "    m, n = size(A)\n",
    "    Q̂ = copy(A)\n",
    "    R̂ = zeros(eltype(A), n, n)\n",
    "    for j in 1:n\n",
    "        # Project\n",
    "        R̂[1:j-1,j] = Q̂[:,1:j-1]' * Q̂[:,j] # 2 m j - j\n",
    "        Q̂[:,j] -= Q̂[:,1:j-1] * R̂[1:j-1,j] # 2 m j\n",
    "        # Normalize\n",
    "        R̂[j,j] = norm(Q̂[:,j])             # 2 m\n",
    "        Q̂[:,j] /= R̂[j,j]                  # 1\n",
    "    end\n",
    "    return Q̂, R̂\n",
    "end"
   ]
  },
  {
   "cell_type": "markdown",
   "id": "b1560662",
   "metadata": {
    "cell_style": "split"
   },
   "source": [
    "- Total work in iteration $j$:\n",
    "\n",
    "$$4mj - j + 2 m + 1$$"
   ]
  },
  {
   "cell_type": "markdown",
   "id": "800ce244",
   "metadata": {
    "slideshow": {
     "slide_type": "fragment"
    }
   },
   "source": [
    "- Total (sum for $j = 1, \\dots, n$):\n",
    "\n",
    "$$\n",
    "W(CGS) = \\sum_{j=1}^n 4mj - j + 2m + 1 = \\left\\{(4m - 1) \\sum_{j=1}^n j\\right\\} + \\left\\{(2m + 1) \\sum_{j=1}^n 1\\right\\}.\n",
    "$$"
   ]
  },
  {
   "cell_type": "markdown",
   "id": "fb4839b3",
   "metadata": {
    "slideshow": {
     "slide_type": "fragment"
    }
   },
   "source": [
    "$$W(CGS) = (4m-1)\\frac{1}{2}n(n+1) + (2m + 1)n = 2 m n^2 + \\underbrace{\\dots}_{\\text{(lower order terms)}}.$$"
   ]
  },
  {
   "cell_type": "markdown",
   "id": "cb4b655f",
   "metadata": {
    "slideshow": {
     "slide_type": "subslide"
    }
   },
   "source": [
    "### Summarize using just the leading term\n",
    "\n",
    "$$W(CGS) \\sim 2 mn^2,$$\n",
    "\n",
    "which means\n",
    "\n",
    "$$ \\lim_{\\min\\{m,n\\} \\to \\infty} \\frac{W(CGS)}{2 m n^2} = 1. $$"
   ]
  },
  {
   "cell_type": "markdown",
   "id": "0f8e8917",
   "metadata": {
    "slideshow": {
     "slide_type": "subslide"
    }
   },
   "source": [
    "### Exercise\n",
    "\n",
    "Convince yourself that $W(MGS) = W(CGS) \\sim 2 m n^2.$"
   ]
  },
  {
   "cell_type": "markdown",
   "id": "194378bd",
   "metadata": {
    "slideshow": {
     "slide_type": "subslide"
    }
   },
   "source": [
    "### Caveats on the meaning of work $W$\n",
    "\n",
    "- On a serial computer, runtime $T$ should scale like $W$ for large enough inputs.\n",
    "- $W$ does not count moving data to/from the processor, which is more expensive than arithmetic.\n",
    "- Implementation-dependent leading constants are going to be very important, so its possible to have two algorithms with $W_1 < W_2$ but $T_2 < T_1$.\n",
    "- All computers use parallelism for numerical linear algebra now.  $W$ says nothing about how _concurrent_ (parallelizable) CGS and WGS are, so $W$ alone is not enough to understand the performance of an algorithm."
   ]
  }
 ],
 "metadata": {
  "@webio": {
   "lastCommId": null,
   "lastKernelId": null
  },
  "celltoolbar": "Hide code",
  "hide_input": false,
  "kernelspec": {
   "display_name": "Julia 1.7.0",
   "language": "julia",
   "name": "julia-1.7"
  },
  "language_info": {
   "file_extension": ".jl",
   "mimetype": "application/julia",
   "name": "julia",
   "version": "1.7.0"
  }
 },
 "nbformat": 4,
 "nbformat_minor": 5
}
