{
 "cells": [
  {
   "cell_type": "code",
   "execution_count": 1,
   "id": "f12c5dfc",
   "metadata": {},
   "outputs": [
    {
     "name": "stderr",
     "output_type": "stream",
     "text": [
      "\u001b[32m\u001b[1m    Updating\u001b[22m\u001b[39m registry at `~/.julia/registries/General.toml`\n",
      "\u001b[32m\u001b[1m   Resolving\u001b[22m\u001b[39m package versions...\n",
      "\u001b[32m\u001b[1m  No Changes\u001b[22m\u001b[39m to `~/srv/rep/22-course-cse6643/mybinder/Project.toml`\n",
      "\u001b[32m\u001b[1m  No Changes\u001b[22m\u001b[39m to `~/srv/rep/22-course-cse6643/mybinder/Manifest.toml`\n"
     ]
    }
   ],
   "source": [
    "import Pkg; Pkg.add([\"Plots\", \"Interact\"]);"
   ]
  },
  {
   "cell_type": "code",
   "execution_count": 2,
   "id": "7c763c58",
   "metadata": {},
   "outputs": [],
   "source": [
    "const STATIC_LECTURE = false;"
   ]
  },
  {
   "cell_type": "code",
   "execution_count": 3,
   "id": "3d34d2fa",
   "metadata": {},
   "outputs": [
    {
     "data": {
      "text/plain": [
       "draw (generic function with 1 method)"
      ]
     },
     "execution_count": 3,
     "metadata": {},
     "output_type": "execute_result"
    }
   ],
   "source": [
    "function draw(plt)\n",
    "    if STATIC_LECTURE\n",
    "        filename = Base.Filesystem.tempname() * \".png\"\n",
    "        savefig(filename)\n",
    "        return display(\"image/png\", read(filename))\n",
    "    else\n",
    "        return plt\n",
    "    end\n",
    "end"
   ]
  },
  {
   "cell_type": "code",
   "execution_count": 4,
   "id": "8b5acc71",
   "metadata": {},
   "outputs": [
    {
     "data": {
      "application/vnd.webio.node+json": {
       "children": [],
       "instanceArgs": {
        "namespace": "html",
        "tag": "div"
       },
       "nodeType": "DOM",
       "props": {},
       "type": "node"
      },
      "text/html": [
       "<div style=\"padding: 1em; background-color: #f8d6da; border: 1px solid #f5c6cb; font-weight: bold;\">\n",
       "<p>The WebIO Jupyter extension was not detected. See the\n",
       "<a href=\"https://juliagizmos.github.io/WebIO.jl/latest/providers/ijulia/\" target=\"_blank\">\n",
       "    WebIO Jupyter integration documentation\n",
       "</a>\n",
       "for more information.\n",
       "</div>\n"
      ],
      "text/plain": [
       "WebIO._IJuliaInit()"
      ]
     },
     "metadata": {
      "application/vnd.webio.node+json": {
       "kernelId": null
      }
     },
     "output_type": "display_data"
    },
    {
     "data": {
      "text/plain": [
       "imshow (generic function with 2 methods)"
      ]
     },
     "execution_count": 4,
     "metadata": {},
     "output_type": "execute_result"
    }
   ],
   "source": [
    "using LinearAlgebra;\n",
    "using Plots; default(l=2, size=(900,550), label=false);\n",
    "using Interact;\n",
    "\n",
    "imshow(x,_clim=:nothing) = heatmap(x\n",
    "    , aspect_ratio=:equal\n",
    "    , framestyle=:none\n",
    "    , yflip=true\n",
    "    , c=:diverging_gwv_55_95_c39_n256\n",
    "    , clim=if _clim != :nothing\n",
    "          _clim\n",
    "      elseif maximum(abs.(x)) > 1.e-12\n",
    "          (-maximum(abs.(x)),maximum(abs.(x)))\n",
    "      else \n",
    "          (-1,1)\n",
    "      end\n",
    "    , size=(500,500)\n",
    ")"
   ]
  },
  {
   "cell_type": "markdown",
   "id": "877bb843",
   "metadata": {
    "cell_style": "split",
    "slideshow": {
     "slide_type": "slide"
    }
   },
   "source": [
    "**(follow along: <https://tinyurl.com/gtcse6643lec6>)**\n",
    "\n",
    "### Warmup\n",
    "\n",
    "1. Use julia to compute the QR factorizations of\n",
    "\n",
    "$$\n",
    "A = \\begin{bmatrix}\n",
    "1 & 0 \\\\ 0 & 1 \\\\ 1 & 0\n",
    "\\end{bmatrix},\n",
    "\\quad\n",
    "B = \\begin{bmatrix}\n",
    "1 & 2 \\\\ 0 & 1 \\\\ 1 & 0\n",
    "\\end{bmatrix}.\n",
    "$$\n",
    "\n",
    "2. What is the simplest (smallest) way to represent the orthogonal projector onto $\\mathrm{range}(A)$ or $\\mathrm{range}(B)$?"
   ]
  },
  {
   "cell_type": "code",
   "execution_count": 53,
   "id": "082d78a9",
   "metadata": {
    "cell_style": "split"
   },
   "outputs": [
    {
     "data": {
      "text/plain": [
       "3×3 Matrix{Float64}:\n",
       " 0.833333   0.333333   0.166667\n",
       " 0.333333   0.333333  -0.333333\n",
       " 0.166667  -0.333333   0.833333"
      ]
     },
     "execution_count": 53,
     "metadata": {},
     "output_type": "execute_result"
    }
   ],
   "source": [
    "using LinearAlgebra\n",
    "\n",
    "#A = ...\n",
    "#B = ...\n",
    "B = [[1,0,1] [2,1,0]]\n",
    "Q, R = qr(B)\n",
    "R\n",
    "(I - Q[:,3] * Q[:,3]')"
   ]
  },
  {
   "cell_type": "markdown",
   "id": "f5fbd289",
   "metadata": {
    "cell_style": "split"
   },
   "source": [
    "**vector, matrix, \"column vector\" ($m\\times 1$), \"row vector\" ($1 \\times m$) constructors:**\n",
    "\n",
    "- vector: separate entries with commas: `[1.,2.,3.]`\n",
    "- matrix row-wise: spaces between row entries, semicolons between rows, `[1. 2. 3.; 4. 5. 6.]`\n",
    "- matrix column-wise: spaces between vectors: `[[1.,4.] [2.,5.] [3.,6]]`\n",
    "- $1 \\times m$ matrix; spaces between entries, `[1. 2. 3.]`\n",
    "- $m \\times 1$ matrix; double-semicolon after a vector, `[[1.,2.,3.];;]`"
   ]
  },
  {
   "cell_type": "markdown",
   "id": "15cf47cd",
   "metadata": {
    "slideshow": {
     "slide_type": "slide"
    }
   },
   "source": [
    "# Gram-Schmidt QR Factorizations\n",
    "\n",
    "**1. Testing QR Algorithms**\n",
    "\n",
    "**2. Gram-Schmidt Orthogonalization, QR Existence, Uniqueness, and Usage**\n",
    "\n",
    "**3. Classical Gram-Schmidt**\n",
    "\n",
    "**4. Modified Gram-Schmidt**\n",
    "\n",
    "**5. Operations Count**"
   ]
  },
  {
   "cell_type": "markdown",
   "id": "83189909",
   "metadata": {
    "slideshow": {
     "slide_type": "slide"
    }
   },
   "source": [
    "## Testing QR Algorithms"
   ]
  },
  {
   "cell_type": "markdown",
   "id": "ab688898",
   "metadata": {
    "slideshow": {
     "slide_type": "subslide"
    }
   },
   "source": [
    "### Test driven development\n",
    "\n",
    "How should we test an implementation of the QR factorization?"
   ]
  },
  {
   "cell_type": "markdown",
   "id": "31dfffd6",
   "metadata": {
    "slideshow": {
     "slide_type": "fragment"
    }
   },
   "source": [
    "**Recal: reduced QR factorization**\n",
    "\n",
    "$$ A \\underbrace{=}_{\\text{(test 1)}} \\hat{Q} \\hat{R}, \\quad \\hat{Q} \\in \\mathbb{C}^{m\\times n}\\ \\underbrace{\\text{(orthonormal columns)}}_{\\text{(test 2)}}, \\quad \\hat{R} \\in \\mathbb{C}^{n \\times n} \\underbrace{\\text{(upper triangular)}}_{\\text{(test 3)}}\n",
    "$$"
   ]
  },
  {
   "cell_type": "markdown",
   "id": "58738bd1",
   "metadata": {
    "slideshow": {
     "slide_type": "subslide"
    }
   },
   "source": [
    "### Each test may tolerate some rounding error\n",
    "\n",
    "We want to measure the magnitude of the difference between the computed result and the mathematical truth."
   ]
  },
  {
   "cell_type": "code",
   "execution_count": 6,
   "id": "48c62237",
   "metadata": {},
   "outputs": [
    {
     "data": {
      "text/plain": [
       "reconstruction_error (generic function with 1 method)"
      ]
     },
     "execution_count": 6,
     "metadata": {},
     "output_type": "execute_result"
    }
   ],
   "source": [
    "reconstruction_error(A, Q, R) = norm(A - Q * R, 2)"
   ]
  },
  {
   "cell_type": "markdown",
   "id": "98bcdd8c",
   "metadata": {
    "slideshow": {
     "slide_type": "-"
    }
   },
   "source": [
    "(Note that this is $\\|A - Q R \\|_F$: the Frobenius norm can be directly calculated, so it is most common to use for numerical tests.)"
   ]
  },
  {
   "cell_type": "markdown",
   "id": "9706b206",
   "metadata": {
    "slideshow": {
     "slide_type": "subslide"
    }
   },
   "source": [
    "### Numerical test for orthonormal columns"
   ]
  },
  {
   "cell_type": "markdown",
   "id": "09a61dd1",
   "metadata": {
    "slideshow": {
     "slide_type": "fragment"
    }
   },
   "source": [
    "$$\\hat{Q}^* \\hat{Q} = I \\in \\mathbb{C}^{n \\times n}$$"
   ]
  },
  {
   "cell_type": "code",
   "execution_count": 7,
   "id": "0dc6003c",
   "metadata": {
    "slideshow": {
     "slide_type": "fragment"
    }
   },
   "outputs": [
    {
     "data": {
      "text/plain": [
       "orthonormality_error (generic function with 1 method)"
      ]
     },
     "execution_count": 7,
     "metadata": {},
     "output_type": "execute_result"
    }
   ],
   "source": [
    "orthonormality_error(Q) = norm(I - Q[:,:]' * Q[:,:], 2)"
   ]
  },
  {
   "cell_type": "markdown",
   "id": "c302450e",
   "metadata": {
    "slideshow": {
     "slide_type": "subslide"
    }
   },
   "source": [
    "### Test for upper triangularity\n",
    "\n",
    "$$\\hat{R} = \\mathrm{triu}(\\hat{R})$$"
   ]
  },
  {
   "cell_type": "code",
   "execution_count": 8,
   "id": "1f77d6e4",
   "metadata": {},
   "outputs": [
    {
     "data": {
      "text/plain": [
       "upper_triangularity_error (generic function with 1 method)"
      ]
     },
     "execution_count": 8,
     "metadata": {},
     "output_type": "execute_result"
    }
   ],
   "source": [
    "upper_triangularity_error(R) = norm(R - UpperTriangular(R), 2)"
   ]
  },
  {
   "cell_type": "markdown",
   "id": "2828b1d4",
   "metadata": {
    "slideshow": {
     "slide_type": "subslide"
    }
   },
   "source": [
    "### All together"
   ]
  },
  {
   "cell_type": "code",
   "execution_count": 9,
   "id": "dd8c0c02",
   "metadata": {},
   "outputs": [
    {
     "data": {
      "text/plain": [
       "qr_test (generic function with 4 methods)"
      ]
     },
     "execution_count": 9,
     "metadata": {},
     "output_type": "execute_result"
    }
   ],
   "source": [
    "function qr_test(A, Q, R, recon_tol=1.e-12, ortho_tol=1.e-12, triu_tol=0.0)\n",
    "    recon_err = reconstruction_error(A, Q, R)\n",
    "    ortho_err = orthonormality_error(Q)\n",
    "    triu_err = upper_triangularity_error(R)\n",
    "    println(\"Reconstruction error || A - Q R ||_F = $recon_err\")\n",
    "    println(\"Orthonormality error || I - Q'Q ||_F = $ortho_err\")\n",
    "    println(\"Upper-triangularity error || R - triu(R) ||_F = $triu_err\")\n",
    "    return (recon_err <= recon_tol) && (ortho_err <= ortho_tol) && (triu_err <= triu_tol) \n",
    "end"
   ]
  },
  {
   "cell_type": "markdown",
   "id": "e45b743f",
   "metadata": {
    "slideshow": {
     "slide_type": "subslide"
    }
   },
   "source": [
    "### Test it out on julia's `qr`"
   ]
  },
  {
   "cell_type": "code",
   "execution_count": 60,
   "id": "36c52e98",
   "metadata": {
    "slideshow": {
     "slide_type": "-"
    }
   },
   "outputs": [
    {
     "name": "stdout",
     "output_type": "stream",
     "text": [
      "Reconstruction error || A - Q R ||_F = 3.62544291390759e-14\n",
      "Orthonormality error || I - Q'Q ||_F = 6.191684281259161e-15\n",
      "Upper-triangularity error || R - triu(R) ||_F = 0.0\n"
     ]
    },
    {
     "data": {
      "text/plain": [
       "true"
      ]
     },
     "execution_count": 60,
     "metadata": {},
     "output_type": "execute_result"
    }
   ],
   "source": [
    "m = 100; n = 50;\n",
    "A = randn(m, n);\n",
    "Q, R = qr(A);\n",
    "qr_test(A, Q, R)"
   ]
  },
  {
   "cell_type": "markdown",
   "id": "0df80c60",
   "metadata": {
    "slideshow": {
     "slide_type": "slide"
    }
   },
   "source": [
    "## Gram-Schmidt Orthogonalization"
   ]
  },
  {
   "cell_type": "markdown",
   "id": "12252539",
   "metadata": {
    "slideshow": {
     "slide_type": "subslide"
    }
   },
   "source": [
    "### Recall the QR factorization written in terms of projectors: the Gram-Schmidt Process"
   ]
  },
  {
   "cell_type": "markdown",
   "id": "eae172bf",
   "metadata": {},
   "source": [
    "- At step $j$:\n",
    "\n",
    "$$\\tilde{q}_j = (I - P_{1:j-1}) a_j$$\n",
    "$$q_j = \\frac{\\tilde{q}_j}{\\|\\tilde q_j\\|}$$\n",
    "$$r_{1:j,j} = \\hat{Q}_{1:j}^* a_j$$"
   ]
  },
  {
   "cell_type": "code",
   "execution_count": 11,
   "id": "b79cd2af",
   "metadata": {},
   "outputs": [
    {
     "data": {
      "text/plain": [
       "qr_projectors (generic function with 1 method)"
      ]
     },
     "execution_count": 11,
     "metadata": {},
     "output_type": "execute_result"
    }
   ],
   "source": [
    "function qr_projectors(A)\n",
    "    m, n = size(A)\n",
    "    Q̂ = zeros(eltype(A), m, n) # <--- use the same datatype (Float32 vs Float64, ℝ vs ℂ)\n",
    "    R̂ = zeros(eltype(A), n, n)\n",
    "    for j in 1:n\n",
    "        Q̂ⱼ₋₁ = Q̂[:,1:j-1]\n",
    "        Pⱼ₋₁ = Q̂ⱼ₋₁ * Q̂ⱼ₋₁'\n",
    "        q̃ⱼ = (I - Pⱼ₋₁) * A[:,j]\n",
    "        Q̂[:,j] = q̃ⱼ / norm(q̃ⱼ)\n",
    "        R̂[1:j,j] = Q̂[:,1:j]' * A[:,j]\n",
    "    end\n",
    "    return Q̂, R̂\n",
    "end"
   ]
  },
  {
   "cell_type": "code",
   "execution_count": 61,
   "id": "c4335826",
   "metadata": {},
   "outputs": [
    {
     "name": "stdout",
     "output_type": "stream",
     "text": [
      "Reconstruction error || A - Q R ||_F = 2.0402726873612872e-14\n",
      "Orthonormality error || I - Q'Q ||_F = 2.6409559838499707e-15\n",
      "Upper-triangularity error || R - triu(R) ||_F = 0.0\n"
     ]
    },
    {
     "data": {
      "text/plain": [
       "true"
      ]
     },
     "execution_count": 61,
     "metadata": {},
     "output_type": "execute_result"
    }
   ],
   "source": [
    "m = 100; n = 50;\n",
    "A = randn(m, n);\n",
    "Q̂, R̂ = qr_projectors(A);\n",
    "qr_test(A, Q̂, R̂)"
   ]
  },
  {
   "cell_type": "markdown",
   "id": "2f1b2b76",
   "metadata": {
    "slideshow": {
     "slide_type": "subslide"
    }
   },
   "source": [
    "### Existence and uniqueness\n",
    "\n",
    "**T&B Theorem 7.1.** Every $A \\in \\mathbb{C}^{m \\times n}$ ($m \\geq n$) has a full $QR$ factorization, hence also a reduced QR factorization.\n",
    "\n",
    "_Proof._ The steps of the algorithm.  There is a need to handle the case when the columns are not linearly independent, but we can just an arbitrary vector $q_j \\perp \\hat{Q}_{1:j-1}$ at that step and the algorithm continues.\n",
    "\n",
    "**T&B Theorem 7.2.** Each $A \\in \\mathbb{C}^{m \\times n}$ ($m \\geq n$) of full rank has a unique reduced QR factorization $A = \\hat{Q} \\hat{R}$ with $r_{jj}$ real and $r_{jj} > 0$.\n",
    "\n",
    "_Proof_.  We will see why when we implement the classical Gram-Schmidt algorithm."
   ]
  },
  {
   "cell_type": "markdown",
   "id": "d4154128",
   "metadata": {
    "slideshow": {
     "slide_type": "subslide"
    }
   },
   "source": [
    "### Usage: solving $Ax = b$\n",
    "\n",
    "$$A x = b \\Leftrightarrow Q R x = b \\quad \\text{(step 1: QR factorization)}$$\n",
    "\n",
    "$$Q R x = b \\Leftrightarrow R x = Q^* b \\quad \\text{(step 2: compute } y = Q^*b\\text{)}$$\n",
    "\n",
    "$$R x = Q^*b \\Leftrightarrow x = R^{-1} Q^*b \\quad \\text{(step 3:  invert triangular matrix, }x = R^{-1}y\\text{)}$$"
   ]
  },
  {
   "cell_type": "code",
   "execution_count": 13,
   "id": "0417e1a7",
   "metadata": {
    "cell_style": "split"
   },
   "outputs": [
    {
     "data": {
      "text/plain": [
       "4.388788336792875e-13"
      ]
     },
     "execution_count": 13,
     "metadata": {},
     "output_type": "execute_result"
    }
   ],
   "source": [
    "m = 100\n",
    "A = randn(m, m)\n",
    "b = randn(m)\n",
    "Q, R = qr(A)\n",
    "x = R \\ (Q' * b)\n",
    "norm(b - A * x)"
   ]
  },
  {
   "cell_type": "markdown",
   "id": "5d32b171",
   "metadata": {
    "cell_style": "split"
   },
   "source": [
    "This method is more stable but more expensive than the more conventional Gaussian elimination."
   ]
  },
  {
   "cell_type": "markdown",
   "id": "42dbfdf5",
   "metadata": {
    "slideshow": {
     "slide_type": "subslide"
    }
   },
   "source": [
    "### Note on HW2, problem 3\n",
    "\n",
    "($A \\in \\mathbb{C}^{m \\times n}$ ($m \\geq n$) is full rank if and only if $\\hat{R}$ from the reduced QR factoriation has all nonzeros on the diagonal.)\n",
    "\n",
    "What is the determinant of a triangular matrix?"
   ]
  },
  {
   "cell_type": "markdown",
   "id": "53d35357",
   "metadata": {
    "slideshow": {
     "slide_type": "slide"
    }
   },
   "source": [
    "## Classical Gram-Schmidt"
   ]
  },
  {
   "cell_type": "markdown",
   "id": "d8f1baf2",
   "metadata": {
    "slideshow": {
     "slide_type": "subslide"
    }
   },
   "source": [
    "### Slim down the work in the projection\n",
    "\n",
    "$$\\tilde q_j = (I - P_{1:j-1}) a_j = (I - \\hat{Q}_{1:j-1} \\hat{Q}_{1:j-1}^*) a_j = a_j - \\hat{Q}_{1:j-1}(\\hat{Q}_{1:j-1}^* a_j)$$\n",
    "\n",
    "$O((j-1)m)$ work to compute the projection this ways, as opposed to $O(m^2)$ if using the constructed matrix\n",
    "$(I - P_{1:j-1})$\n",
    "\n",
    "So we will initialize $\\tilde{q}_j^{(0)} = a_j$ and then do\n",
    "\n",
    "$$\\tilde{q}_j = \\tilde{q}_j^{(0)} - \\hat{Q}_{1:j-1}(\\hat{Q}_{1:j-1} \\tilde{q}_j^{(0)}).$$\n",
    "\n",
    "(Only use $A$ to make a copy, try to do most operations _in place_ on $\\hat{Q}$.)"
   ]
  },
  {
   "cell_type": "code",
   "execution_count": 14,
   "id": "c0d46ccc",
   "metadata": {
    "slideshow": {
     "slide_type": "subslide"
    }
   },
   "outputs": [
    {
     "data": {
      "text/plain": [
       "qr_projectors_slim (generic function with 1 method)"
      ]
     },
     "execution_count": 14,
     "metadata": {},
     "output_type": "execute_result"
    }
   ],
   "source": [
    "function qr_projectors_slim(A)\n",
    "    m, n = size(A)\n",
    "    Q̂ = copy(A)\n",
    "    R̂ = zeros(eltype(A), n, n)\n",
    "    for j in 1:n\n",
    "        # Project Q̂[:,1:j-1] component out of Q̂[:,j]\n",
    "        Q̂[:,j] -= Q̂[:,1:j-1] * (Q̂[:,1:j-1]' * Q̂[:,j]) # parentheses to do this matvec first\n",
    "        # Normalize  \n",
    "        Q̂[:,j] /= norm(Q̂[:,j])\n",
    "        R̂[1:j,j] = Q̂[:,1:j]' * A[:,j]\n",
    "    end\n",
    "    return Q̂, R̂\n",
    "end"
   ]
  },
  {
   "cell_type": "code",
   "execution_count": 15,
   "id": "4292aa47",
   "metadata": {},
   "outputs": [
    {
     "name": "stdout",
     "output_type": "stream",
     "text": [
      "Reconstruction error || A - Q R ||_F = 1.4103008033299413e-14\n",
      "Orthonormality error || I - Q'Q ||_F = 2.8165584740012686e-15\n",
      "Upper-triangularity error || R - triu(R) ||_F = 0.0\n"
     ]
    },
    {
     "data": {
      "text/plain": [
       "true"
      ]
     },
     "execution_count": 15,
     "metadata": {},
     "output_type": "execute_result"
    }
   ],
   "source": [
    "m = 100; n = 50;\n",
    "A = randn(m, n);\n",
    "Q̂, R̂ = qr_projectors_slim(A);\n",
    "qr_test(A, Q̂, R̂)"
   ]
  },
  {
   "cell_type": "markdown",
   "id": "fc496a8f",
   "metadata": {
    "slideshow": {
     "slide_type": "subslide"
    }
   },
   "source": [
    "### Slim down the work in the calculation of $\\hat{R}$"
   ]
  },
  {
   "cell_type": "markdown",
   "id": "2df0765e",
   "metadata": {
    "cell_style": "split"
   },
   "source": [
    "$$ r_{1:j,j} = \\hat{Q}_{1:j}^* a_j = \n",
    "\\begin{bmatrix}\n",
    " \\\\\n",
    "\\hat{Q}_{i:j-1}^* a_j \\\\\n",
    " \\\\ \\hline\n",
    "q_j^* a_j \\\\\n",
    "\\end{bmatrix}\n",
    "$$"
   ]
  },
  {
   "cell_type": "markdown",
   "id": "702fceeb",
   "metadata": {
    "cell_style": "split"
   },
   "source": [
    "- The top of the vector $\\hat{Q}_{i:j-1}^* a_j = \\hat{Q}_{i:j-1}^* \\tilde{q}_j^{(0)}$ was already computed as part of the projector to compute $\\tilde{q}_j$: save and reuse the computation."
   ]
  },
  {
   "cell_type": "markdown",
   "id": "bde446ce",
   "metadata": {
    "cell_style": "split"
   },
   "source": [
    "- The final value is\n",
    "\n",
    "$$\n",
    "q_j^* a_j = \\frac{1}{\\|\\tilde{q}_j\\|} \\tilde{q}_j^* \\tilde{q}_j^{(0)}.\n",
    "$$"
   ]
  },
  {
   "cell_type": "markdown",
   "id": "c1ab52cc",
   "metadata": {
    "cell_style": "center"
   },
   "source": [
    "- We can use the fact that $\\tilde{q}_j^{(0)} = \\tilde{q}_j + P_{1:j-1} \\tilde{q}_j^{(0)}$ to see that we don't need to recompute this quantity:\n",
    "\n",
    "$$\n",
    "\\frac{1}{\\|\\tilde{q}_j\\|} \\tilde{q}_j^* \\tilde{q}_j^{(0)} = \\frac{1}{\\|\\tilde{q}_j\\|}\\tilde{q}_j^*(\\tilde{q}_j + P_{1:j-1} \\tilde{q}_j^{(0)}) = \\frac{1}{\\|\\tilde{q}_j\\|}\\tilde{q}_j^* \\tilde{q}_j = \\|\\tilde{q}_j\\|.\n",
    "$$"
   ]
  },
  {
   "cell_type": "markdown",
   "id": "c328ef68",
   "metadata": {
    "slideshow": {
     "slide_type": "subslide"
    }
   },
   "source": [
    "### Result: the (unstable) Classical Gram-Schmidt algorithm"
   ]
  },
  {
   "cell_type": "code",
   "execution_count": 16,
   "id": "936f168a",
   "metadata": {
    "slideshow": {
     "slide_type": "-"
    }
   },
   "outputs": [
    {
     "data": {
      "text/plain": [
       "qr_classical_gram_schmidt (generic function with 1 method)"
      ]
     },
     "execution_count": 16,
     "metadata": {},
     "output_type": "execute_result"
    }
   ],
   "source": [
    "function qr_classical_gram_schmidt(A)\n",
    "    m, n = size(A)\n",
    "    Q̂ = copy(A)\n",
    "    R̂ = zeros(eltype(A), n, n)\n",
    "    for j in 1:n\n",
    "        # Compute coefficients of aⱼ in Q̂[:,1:j-1] basis\n",
    "        R̂[1:j-1,j] = Q̂[:,1:j-1]' * Q̂[:,j]\n",
    "        # Project Q̂[:,1:j-1] components out of Q̂[:,j]\n",
    "        Q̂[:,j] -= Q̂[:,1:j-1] * R̂[1:j-1,j]\n",
    "        # Normalize\n",
    "        R̂[j,j] = norm(Q̂[:,j])\n",
    "        Q̂[:,j] /= R̂[j,j]\n",
    "    end\n",
    "    return Q̂, R̂\n",
    "end"
   ]
  },
  {
   "cell_type": "code",
   "execution_count": 17,
   "id": "ee7324a5",
   "metadata": {},
   "outputs": [
    {
     "name": "stdout",
     "output_type": "stream",
     "text": [
      "Reconstruction error || A - Q R ||_F = 9.50100877647782e-15\n",
      "Orthonormality error || I - Q'Q ||_F = 2.9489178298166906e-15\n",
      "Upper-triangularity error || R - triu(R) ||_F = 0.0\n"
     ]
    },
    {
     "data": {
      "text/plain": [
       "true"
      ]
     },
     "execution_count": 17,
     "metadata": {},
     "output_type": "execute_result"
    }
   ],
   "source": [
    "m = 100; n = 50;\n",
    "A = randn(m, n);\n",
    "Q̂, R̂ = qr_classical_gram_schmidt(A);\n",
    "qr_test(A, Q̂, R̂)"
   ]
  },
  {
   "cell_type": "markdown",
   "id": "ffe5d8fa",
   "metadata": {
    "slideshow": {
     "slide_type": "subslide"
    }
   },
   "source": [
    "### Classical Gram-Schmidt in action"
   ]
  },
  {
   "cell_type": "code",
   "execution_count": 18,
   "id": "27c9b2dc",
   "metadata": {
    "hideCode": true,
    "slideshow": {
     "slide_type": "-"
    }
   },
   "outputs": [
    {
     "name": "stderr",
     "output_type": "stream",
     "text": [
      "┌ Info: Saved animation to \n",
      "│   fn = /home/tisaac/srv/rep/22-course-cse6643/mybinder/tmp.gif\n",
      "└ @ Plots /home/tisaac/.julia/packages/Plots/Xv2qA/src/animation.jl:114\n"
     ]
    },
    {
     "data": {
      "text/html": [
       "<img src=\"data:image/gif;base64,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\" />"
      ],
      "text/plain": [
       "Plots.AnimatedGif(\"/home/tisaac/srv/rep/22-course-cse6643/mybinder/tmp.gif\")"
      ]
     },
     "execution_count": 18,
     "metadata": {},
     "output_type": "execute_result"
    }
   ],
   "source": [
    "m = 10; n = 5;\n",
    "A = randn(m, n)\n",
    "A /= maximum(abs.(A))\n",
    "Q̂ = copy(A)\n",
    "R̂ = zeros(n, n)\n",
    "r_scale = maximum(abs.(qr(A).R))\n",
    "anim = Animation()\n",
    "function step_plot(A,Q̂,R̂,j)\n",
    "    Q_plot = imshow(Q̂,(-1,1))\n",
    "    plot!(Q_plot,title=\"Q\")\n",
    "    ortho_plot = imshow(Q̂' * Q̂,(-1,1))\n",
    "    plot!(ortho_plot,title=\"Q'Q\")\n",
    "    recon_plot = imshow(A - Q̂ * R̂,(-1,1))\n",
    "    plot!(recon_plot,title=\"A - QR\")\n",
    "    R_plot = imshow(R̂,(-r_scale,r_scale))\n",
    "    plot!(R_plot,title=\"R\")\n",
    "    return plot(Q_plot, R_plot, ortho_plot, recon_plot, layout=(1,4), size=(1300,800), plot_title=\"Step $j\")\n",
    "end\n",
    "frame(anim,step_plot(A,Q̂,R̂,0))\n",
    "for j in 1:n\n",
    "    # Compute coefficients of aⱼ in Q̂[:,1:j-1] basis\n",
    "    R̂[1:j-1,j] = Q̂[:,1:j-1]' * Q̂[:,j]\n",
    "    # Project Q̂[:,1:j-1] components out of Q̂[:,j]\n",
    "    Q̂[:,j] -= Q̂[:,1:j-1] * R̂[1:j-1,j]\n",
    "    # Normalize\n",
    "    R̂[j,j] = norm(Q̂[:,j])\n",
    "    Q̂[:,j] /= R̂[j,j]\n",
    "    frame(anim,step_plot(A,Q̂,R̂,j))\n",
    "end\n",
    "frame(anim,step_plot(A,Q̂,R̂,n))\n",
    "gif(anim,fps=0.5)"
   ]
  },
  {
   "cell_type": "markdown",
   "id": "0e0b1a58",
   "metadata": {
    "slideshow": {
     "slide_type": "subslide"
    }
   },
   "source": [
    "### Each step of CGS is a matrix transformation applied to $\\hat{Q}$"
   ]
  },
  {
   "cell_type": "markdown",
   "id": "5accaab3",
   "metadata": {
    "slideshow": {
     "slide_type": "-"
    }
   },
   "source": [
    "```julia\n",
    "        # Project Q̂[:,1:j-1] components out of Q̂[:,j]\n",
    "        Q̂[:,j] -= Q̂[:,1:j-1] * R̂[1:j-1,j]\n",
    "```\n",
    "\n",
    "\"Subtract from column $j$: $r_{1,j} \\cdot$ column 1 and $r_{2,j} \\cdot$ column 2 and ...\"\n",
    "\n",
    "```julia\n",
    "        # Normalize\n",
    "        Q̂[:,j] /= R̂[j,j]\n",
    "```\n",
    "\n",
    "\"Scale column $j$ by $\\|r_{j,j}\\|^{-1}$\"\n",
    "\n",
    "(Remember warmup for lecture 2: each of these transformations is a matrix applied on the _right_)"
   ]
  },
  {
   "cell_type": "markdown",
   "id": "ae8cc31b",
   "metadata": {
    "slideshow": {
     "slide_type": "subslide"
    }
   },
   "source": [
    "### Step $j$: multiply $\\hat{Q}$ by an upper-triangular matrix\n",
    "\n",
    "$$\n",
    "\\begin{bmatrix}\n",
    "    & & & & & & \\\\\n",
    "    & & & & & & \\\\\n",
    "    & & & & & & \\\\\n",
    "    & & & & & & \\\\\n",
    "    & & & \\hat{Q} & & & \\\\\n",
    "    & & & & & & \\\\\n",
    "    & & & & & & \\\\\n",
    "    & & & & & & \\\\\n",
    "    & & & & & & \\\\\n",
    "\\end{bmatrix}\n",
    "\\gets\n",
    "\\begin{bmatrix}\n",
    "    & & & & & & \\\\\n",
    "    & & & & & & \\\\\n",
    "    & & & & & & \\\\\n",
    "    & & & & & & \\\\\n",
    "    & & & \\hat{Q} & & & \\\\\n",
    "    & & & & & & \\\\\n",
    "    & & & & & & \\\\\n",
    "    & & & & & & \\\\\n",
    "    & & & & & & \\\\\n",
    "\\end{bmatrix}\n",
    "\\underbrace{\n",
    "\\begin{bmatrix}\n",
    "   1 & & & -r_{1,j} / r_{jj} & & & \\\\\n",
    "    & \\ddots & & \\vdots & & & \\\\\n",
    "    & & 1 & -r_{j-1,j} / r_{jj} & & & \\\\\n",
    "    & & & 1 / r_{jj} & & & \\\\\n",
    "    & & & & 1 & & \\\\\n",
    "    & & & & & \\ddots & \\\\\n",
    "    & & & & & & 1\n",
    "\\end{bmatrix}\n",
    "}_{Z_j}\n",
    "$$\n",
    "\n",
    "$Z_j$ is an upper-triangular matrix one nonzero column in column $j$."
   ]
  },
  {
   "cell_type": "markdown",
   "id": "6b4820e2",
   "metadata": {
    "slideshow": {
     "slide_type": "subslide"
    }
   },
   "source": [
    "### CGS Constructs $\\hat{Q}$ from $A$ by Triangular Orthogonalization\n",
    "$$\n",
    "\\begin{bmatrix}\n",
    " & & \\\\\n",
    " & & \\\\\n",
    " & A & \\\\\n",
    " & & \\\\\n",
    " & & \\\\\n",
    "\\end{bmatrix}\n",
    "\\underbrace{\n",
    "\\begin{bmatrix}\n",
    "& & \\\\\n",
    "& Z_1 & \\\\\n",
    "& & \\\\\n",
    "\\end{bmatrix}\n",
    "\\begin{bmatrix}\n",
    "& & \\\\\n",
    "& Z_2 & \\\\\n",
    "& & \\\\\n",
    "\\end{bmatrix}\n",
    "\\dots\n",
    "\\begin{bmatrix}\n",
    "& & \\\\\n",
    "& Z_n & \\\\\n",
    "& & \\\\\n",
    "\\end{bmatrix}\n",
    "}_{\\hat{R}^{-1}}\n",
    "=\n",
    "\\begin{bmatrix}\n",
    " & & \\\\\n",
    " & & \\\\\n",
    " & \\hat{Q} & \\\\\n",
    " & & \\\\\n",
    " & & \\\\\n",
    "\\end{bmatrix}\n",
    "$$\n",
    "\n",
    "The product of the $Z_j$'s is $\\hat{R}^{-1}$."
   ]
  },
  {
   "cell_type": "markdown",
   "id": "09e0b9e4",
   "metadata": {
    "slideshow": {
     "slide_type": "subslide"
    }
   },
   "source": [
    "### Classical Gram-Schmidt meets its adversary: the Kahan matrix\n",
    "\n",
    "$$\n",
    "\\begin{bmatrix}\n",
    "& & & & \\\\\n",
    "& & & & \\\\\n",
    "& & M_\\theta & & \\\\\n",
    "& & & & \\\\\n",
    "& & & & \\\\\n",
    "\\end{bmatrix}\n",
    "=\n",
    "\\begin{bmatrix}\n",
    "1 & & & & \\\\\n",
    "& s & & & \\\\\n",
    "& & \\ddots & & \\\\\n",
    "& & & s^{n-2} & \\\\\n",
    "& & & & s^{n-1} \\\\\n",
    "\\end{bmatrix}\n",
    "\\begin{bmatrix}\n",
    "1 & -c & -c & \\dots & -c \\\\\n",
    "& 1 & -c & & -c \\\\\n",
    "& & \\ddots & \\ddots & \\vdots \\\\\n",
    "& & & 1 & -c\\\\\n",
    "& & & & 1 \\\\\n",
    "\\end{bmatrix}\n",
    "$$\n"
   ]
  },
  {
   "cell_type": "code",
   "execution_count": 19,
   "id": "17d6fc54",
   "metadata": {
    "cell_style": "center"
   },
   "outputs": [
    {
     "data": {
      "text/plain": [
       "kahan (generic function with 1 method)"
      ]
     },
     "execution_count": 19,
     "metadata": {},
     "output_type": "execute_result"
    }
   ],
   "source": [
    "function kahan(m, θ)\n",
    "    s = sin(θ)\n",
    "    c = cos(θ)\n",
    "    S = Diagonal(s .^ collect(0:m-1))\n",
    "    K = UnitUpperTriangular(-c * ones(m,m))\n",
    "    return S * K\n",
    "end"
   ]
  },
  {
   "cell_type": "code",
   "execution_count": 20,
   "id": "cc66b47b",
   "metadata": {
    "hideCode": true,
    "slideshow": {
     "slide_type": "subslide"
    }
   },
   "outputs": [
    {
     "data": {
      "image/svg+xml": [
       "<?xml version=\"1.0\" encoding=\"utf-8\"?>\n",
       "<svg xmlns=\"http://www.w3.org/2000/svg\" xmlns:xlink=\"http://www.w3.org/1999/xlink\" width=\"1300\" height=\"800\" viewBox=\"0 0 5200 3200\">\n",
       "<defs>\n",
       "  <clipPath id=\"clip650\">\n",
       "    <rect x=\"0\" y=\"0\" width=\"5200\" height=\"3200\"/>\n",
       "  </clipPath>\n",
       "</defs>\n",
       "<path clip-path=\"url(#clip650)\" d=\"\n",
       "M0 3200 L5200 3200 L5200 0 L0 0  Z\n",
       "  \" fill=\"#ffffff\" fill-rule=\"evenodd\" fill-opacity=\"1\"/>\n",
       "<defs>\n",
       "  <clipPath id=\"clip651\">\n",
       "    <rect x=\"1040\" y=\"0\" width=\"3641\" height=\"3200\"/>\n",
       "  </clipPath>\n",
       "</defs>\n",
       "<path clip-path=\"url(#clip650)\" d=\"\n",
       "M166.959 2567.48 L1166.09 2567.48 L1166.09 624.448 L166.959 624.448  Z\n",
       "  \" fill=\"#ffffff\" fill-rule=\"evenodd\" fill-opacity=\"1\"/>\n",
       "<defs>\n",
       "  <clipPath id=\"clip652\">\n",
       "    <rect x=\"166\" y=\"624\" width=\"1000\" height=\"1944\"/>\n",
       "  </clipPath>\n",
       "</defs>\n",
       "<path clip-path=\"url(#clip650)\" d=\"M592.373 43.8146 L566.568 43.8146 Q567.176 55.9268 569.971 61.0714 Q573.455 67.3908 579.491 67.3908 Q585.567 67.3908 588.929 61.0309 Q591.886 55.4407 592.373 43.8146 M592.251 36.928 Q591.117 25.4235 588.929 21.3726 Q585.445 14.9721 579.491 14.9721 Q573.293 14.9721 570.012 21.2916 Q567.419 26.3957 566.649 36.928 L592.251 36.928 M579.491 8.89579 Q589.213 8.89579 594.763 17.4837 Q600.312 26.0311 600.312 41.1815 Q600.312 56.2914 594.763 64.8793 Q589.213 73.5077 579.491 73.5077 Q569.728 73.5077 564.219 64.8793 Q558.669 56.2914 558.669 41.1815 Q558.669 26.0311 564.219 17.4837 Q569.728 8.89579 579.491 8.89579 Z\" fill=\"#000000\" fill-rule=\"evenodd\" fill-opacity=\"1\" /><path clip-path=\"url(#clip650)\" d=\"M640.011 34.9026 L691.944 34.9026 L691.944 41.7081 L640.011 41.7081 L640.011 34.9026 M640.011 51.4303 L691.944 51.4303 L691.944 58.3168 L640.011 58.3168 L640.011 51.4303 Z\" fill=\"#000000\" fill-rule=\"evenodd\" fill-opacity=\"1\" /><path clip-path=\"url(#clip650)\" d=\"M753.477 17.4837 Q747.158 17.4837 743.957 23.7221 Q740.798 29.92 740.798 42.3968 Q740.798 54.833 743.957 61.0714 Q747.158 67.2693 753.477 67.2693 Q759.837 67.2693 762.997 61.0714 Q766.197 54.833 766.197 42.3968 Q766.197 29.92 762.997 23.7221 Q759.837 17.4837 753.477 17.4837 M753.477 11.0023 Q763.645 11.0023 768.992 19.0636 Q774.38 27.0843 774.38 42.3968 Q774.38 57.6687 768.992 65.73 Q763.645 73.7508 753.477 73.7508 Q743.309 73.7508 737.922 65.73 Q732.574 57.6687 732.574 42.3968 Q732.574 27.0843 737.922 19.0636 Q743.309 11.0023 753.477 11.0023 Z\" fill=\"#000000\" fill-rule=\"evenodd\" fill-opacity=\"1\" /><g clip-path=\"url(#clip652)\">\n",
       "<image width=\"999\" height=\"999\" xlink:href=\"data:image/png;base64,\n",
       "iVBORw0KGgoAAAANSUhEUgAAA+cAAAPnCAYAAABN/j28AAAXnUlEQVR4nO3ZURFAUABEUcQRQg9x\n",
       "tBLI3wtBC9eMcxLs752dz/26Jz7j2NZ6AgAAAC9b6gEAAADwd+IcAAAAYuIcAAAAYuIcAAAAYuIc\n",
       "AAAAYuIcAAAAYuIcAAAAYuIcAAAAYuIcAAAAYuIcAAAAYuIcAAAAYuIcAAAAYuIcAAAAYuIcAAAA\n",
       "YuIcAAAAYuIcAAAAYuIcAAAAYuIcAAAAYuIcAAAAYuIcAAAAYuIcAAAAYuIcAAAAYuIcAAAAYuIc\n",
       "AAAAYuIcAAAAYuIcAAAAYuIcAAAAYuIcAAAAYuIcAAAAYuIcAAAAYuIcAAAAYuIcAAAAYuIcAAAA\n",
       "YuIcAAAAYuIcAAAAYuIcAAAAYuIcAAAAYuIcAAAAYuIcAAAAYuIcAAAAYuIcAAAAYuIcAAAAYuIc\n",
       "AAAAYuIcAAAAYuIcAAAAYuIcAAAAYuIcAAAAYuIcAAAAYuIcAAAAYuIcAAAAYuIcAAAAYuIcAAAA\n",
       "YuIcAAAAYuIcAAAAYuIcAAAAYuIcAAAAYuIcAAAAYuIcAAAAYuIcAAAAYuIcAAAAYuIcAAAAYuIc\n",
       "AAAAYuIcAAAAYuIcAAAAYuIcAAAAYuIcAAAAYuIcAAAAYuIcAAAAYuIcAAAAYuIcAAAAYuIcAAAA\n",
       "YuIcAAAAYuIcAAAAYuIcAAAAYuIcAAAAYuIcAAAAYuIcAAAAYuIcAAAAYuIcAAAAYuIcAAAAYuIc\n",
       "AAAAYuIcAAAAYuIcAAAAYuIcAAAAYuIcAAAAYuIcAAAAYuIcAAAAYuIcAAAAYuIcAAAAYuIcAAAA\n",
       "YuIcAAAAYuIcAAAAYuIcAAAAYuIcAAAAYuIcAAAAYuIcAAAAYuIcAAAAYuIcAAAAYuIcAAAAYvMY\n",
       "465HAAAAwJ95zgEAACAmzgEAACAmzgEAACAmzgEAACAmzgEAACAmzgEAACAmzgEAACAmzgEAACAm\n",
       "zgEAACAmzgEAACAmzgEAACAmzgEAACAmzgEAACAmzgEAACAmzgEAACAmzgEAACAmzgEAACAmzgEA\n",
       "ACAmzgEAACAmzgEAACAmzgEAACAmzgEAACAmzgEAACAmzgEAACAmzgEAACAmzgEAACAmzgEAACAm\n",
       "zgEAACAmzgEAACAmzgEAACAmzgEAACAmzgEAACAmzgEAACAmzgEAACAmzgEAACAmzgEAACAmzgEA\n",
       "ACAmzgEAACAmzgEAACAmzgEAACAmzgEAACAmzgEAACAmzgEAACAmzgEAACAmzgEAACAmzgEAACAm\n",
       "zgEAACAmzgEAACAmzgEAACAmzgEAACAmzgEAACAmzgEAACAmzgEAACAmzgEAACAmzgEAACAmzgEA\n",
       "ACAmzgEAACAmzgEAACAmzgEAACAmzgEAACAmzgEAACAmzgEAACAmzgEAACAmzgEAACAmzgEAACAm\n",
       "zgEAACAmzgEAACAmzgEAACAmzgEAACAmzgEAACAmzgEAACAmzgEAACAmzgEAACAmzgEAACAmzgEA\n",
       "ACAmzgEAACAmzgEAACAmzgEAACAmzgEAACAmzgEAACAmzgEAACAmzgEAACAmzgEAACAmzgEAACAm\n",
       "zgEAACAmzgEAACAmzgEAACAmzgEAACAmzgEAACAmzgEAACAmzgEAACAmzgEAACAmzgEAACAmzgEA\n",
       "ACAmzgEAACAmzgEAACAmzgEAACAmzgEAACAmzgEAACAmzgEAACAmzgEAACAmzgEAACAmzgEAACAm\n",
       "zgEAACAmzgEAACAmzgEAACAmzgEAACAmzgEAACAmzgEAACAmzgEAACAmzgEAACAmzgEAACAmzgEA\n",
       "ACAmzgEAACAmzgEAACAmzgEAACAmzgEAACAmzgEAACAmzgEAACAmzgEAACAmzgEAACAmzgEAACAm\n",
       "zgEAACAmzgEAACAmzgEAACAmzgEAACAmzgEAACAmzgEAACAmzgEAACAmzgEAACAmzgEAACAmzgEA\n",
       "ACAmzgEAACAmzgEAACAmzgEAACAmzgEAACAmzgEAACAmzgEAACAmzgEAACAmzgEAACAmzgEAACAm\n",
       "zgEAACAmzgEAACAmzgEAACAmzgEAACAmzgEAACAmzgEAACAmzgEAACAmzgEAACAmzgEAACAmzgEA\n",
       "ACAmzgEAACAmzgEAACAmzgEAACAmzgEAACAmzgEAACAmzgEAACAmzgEAACAmzgEAACAmzgEAACAm\n",
       "zgEAACAmzgEAACAmzgEAACAmzgEAACAmzgEAACAmzgEAACAmzgEAACAmzgEAACAmzgEAACAmzgEA\n",
       "ACAmzgEAACAmzgEAACAmzgEAACAmzgEAACAmzgEAACAmzgEAACAmzgEAACAmzgEAACAmzgEAACAm\n",
       "zgEAACAmzgEAACAmzgEAACAmzgEAACAmzgEAACAmzgEAACAmzgEAACAmzgEAACAmzgEAACAmzgEA\n",
       "ACAmzgEAACAmzgEAACAmzgEAACAmzgEAACAmzgEAACAmzgEAACAmzgEAACAmzgEAACAmzgEAACAm\n",
       "zgEAACAmzgEAACAmzgEAACAmzgEAACAmzgEAACAmzgEAACAmzgEAACAmzgEAACAmzgEAACAmzgEA\n",
       "ACAmzgEAACAmzgEAACAmzgEAACAmzgEAACAmzgEAACAmzgEAACAmzgEAACAmzgEAACAmzgEAACAm\n",
       "zgEAACAmzgEAACAmzgEAACAmzgEAACAmzgEAACAmzgEAACAmzgEAACAmzgEAACAmzgEAACAmzgEA\n",
       "ACAmzgEAACAmzgEAACAmzgEAACAmzgEAACAmzgEAACAmzgEAACAmzgEAACAmzgEAACAmzgEAACAm\n",
       "zgEAACAmzgEAACAmzgEAACAmzgEAACAmzgEAACAmzgEAACAmzgEAACAmzgEAACAmzgEAACAmzgEA\n",
       "ACAmzgEAACAmzgEAACAmzgEAACAmzgEAACAmzgEAACAmzgEAACAmzgEAACAmzgEAACAmzgEAACAm\n",
       "zgEAACAmzgEAACAmzgEAACAmzgEAACAmzgEAACAmzgEAACAmzgEAACAmzgEAACAmzgEAACAmzgEA\n",
       "ACAmzgEAACAmzgEAACAmzgEAACAmzgEAACAmzgEAACAmzgEAACAmzgEAACAmzgEAACAmzgEAACAm\n",
       "zgEAACAmzgEAACAmzgEAACAmzgEAACAmzgEAACAmzgEAACAmzgEAACAmzgEAACAmzgEAACAmzgEA\n",
       "ACAmzgEAACAmzgEAACAmzgEAACAmzgEAACAmzgEAACAmzgEAACAmzgEAACAmzgEAACAmzgEAACAm\n",
       "zgEAACAmzgEAACAmzgEAACAmzgEAACAmzgEAACAmzgEAACAmzgEAACAmzgEAACAmzgEAACAmzgEA\n",
       "ACAmzgEAACAmzgEAACAmzgEAACAmzgEAACAmzgEAACAmzgEAACAmzgEAACAmzgEAACAmzgEAACAm\n",
       "zgEAACAmzgEAACAmzgEAACAmzgEAACAmzgEAACAmzgEAACAmzgEAACAmzgEAACAmzgEAACAmzgEA\n",
       "ACAmzgEAACAmzgEAACAmzgEAACAmzgEAACAmzgEAACAmzgEAACAmzgEAACAmzgEAACAmzgEAACAm\n",
       "zgEAACAmzgEAACAmzgEAACAmzgEAACAmzgEAACAmzgEAACAmzgEAACAmzgEAACAmzgEAACAmzgEA\n",
       "ACAmzgEAACAmzgEAACAmzgEAACAmzgEAACAmzgEAACAmzgEAACAmzgEAACAmzgEAACAmzgEAACAm\n",
       "zgEAACAmzgEAACAmzgEAACAmzgEAACAmzgEAACAmzgEAACAmzgEAACAmzgEAACAmzgEAACAmzgEA\n",
       "ACAmzgEAACAmzgEAACAmzgEAACAmzgEAACAmzgEAACAmzgEAACAmzgEAACAmzgEAACAmzgEAACAm\n",
       "zgEAACAmzgEAACAmzgEAACAmzgEAACAmzgEAACAmzgEAACAmzgEAACAmzgEAACAmzgEAACAmzgEA\n",
       "ACAmzgEAACAmzgEAACAmzgEAACAmzgEAACAmzgEAACAmzgEAACAmzgEAACAmzgEAACAmzgEAACAm\n",
       "zgEAACAmzgEAACAmzgEAACAmzgEAACAmzgEAACAmzgEAACAmzgEAACAmzgEAACAmzgEAACAmzgEA\n",
       "ACAmzgEAACAmzgEAACAmzgEAACAmzgEAACAmzgEAACAmzgEAACAmzgEAACAmzgEAACAmzgEAACAm\n",
       "zgEAACAmzgEAACAmzgEAACAmzgEAACAmzgEAACAmzgEAACAmzgEAACAmzgEAACAmzgEAACAmzgEA\n",
       "ACAmzgEAACAmzgEAACAmzgEAACAmzgEAACAmzgEAACAmzgEAACAmzgEAACAmzgEAACAmzgEAACAm\n",
       "zgEAACAmzgEAACAmzgEAACAmzgEAACAmzgEAACAmzgEAACAmzgEAACAmzgEAACAmzgEAACAmzgEA\n",
       "ACAmzgEAACAmzgEAACAmzgEAACAmzgEAACAmzgEAACAmzgEAACAmzgEAACAmzgEAACAmzgEAACAm\n",
       "zgEAACAmzgEAACAmzgEAACAmzgEAACAmzgEAACAmzgEAACAmzgEAACAmzgEAACAmzgEAACAmzgEA\n",
       "ACAmzgEAACAmzgEAACAmzgEAACAmzgEAACAmzgEAACAmzgEAACAmzgEAACAmzgEAACAmzgEAACAm\n",
       "zgEAACAmzgEAACAmzgEAACAmzgEAACAmzgEAACAmzgEAACAmzgEAACAmzgEAACAmzgEAACAmzgEA\n",
       "ACAmzgEAACAmzgEAACAmzgEAACAmzgEAACAmzgEAACAmzgEAACAmzgEAACAmzgEAACAmzgEAACAm\n",
       "zgEAACAmzgEAACAmzgEAACAmzgEAACAmzgEAACAmzgEAACAmzgEAACAmzgEAACAmzgEAACAmzgEA\n",
       "ACAmzgEAACAmzgEAACAmzgEAACAmzgEAACAmzgEAACAmzgEAACAmzgEAACAmzgEAACAmzgEAACAm\n",
       "zgEAACAmzgEAACAmzgEAACAmzgEAACAmzgEAACAmzgEAACAmzgEAACAmzgEAACAmzgEAACAmzgEA\n",
       "ACAmzgEAACAmzgEAACAmzgEAACAmzgEAACAmzgEAACAmzgEAACAmzgEAACAmzgEAACAmzgEAACAm\n",
       "zgEAACAmzgEAACAmzgEAACAmzgEAACAmzgEAACAmzgEAACAmzgEAACAmzgEAACAmzgEAACAmzgEA\n",
       "ACAmzgEAACAmzgEAACAmzgEAACAmzgEAACAmzgEAACAmzgEAACAmzgEAACAmzgEAACAmzgEAACAm\n",
       "zgEAACAmzgEAACAmzgEAACAmzgEAACAmzgEAACAmzgEAACAmzgEAACAmzgEAACAmzgEAACAmzgEA\n",
       "ACAmzgEAACAmzgEAACAmzgEAACAmzgEAACAmzgEAACAmzgEAACAmzgEAACAmzgEAACAmzgEAACAm\n",
       "zgEAACAmzgEAACAmzgEAACAmzgEAACAmzgEAACAmzgEAACAmzgEAACAmzgEAACAmzgEAACAmzgEA\n",
       "ACAmzgEAACAmzgEAACAmzgEAACAmzgEAACAmzgEAACAmzgEAACAmzgEAACAmzgEAACAmzgEAACAm\n",
       "zgEAACAmzgEAACAmzgEAACAmzgEAACAmzgEAACAmzgEAACAmzgEAACAmzgEAACAmzgEAACAmzgEA\n",
       "ACAmzgEAACAmzgEAACAmzgEAACAmzgEAACAmzgEAACAmzgEAACAmzgEAACAmzgEAACAmzgEAACAm\n",
       "zgEAACAmzgEAACAmzgEAACAmzgEAACAmzgEAACAmzgEAACAmzgEAACAmzgEAACAmzgEAACAmzgEA\n",
       "ACAmzgEAACAmzgEAACAmzgEAACAmzgEAACAmzgEAACAmzgEAACAmzgEAACAmzgEAACAmzgEAACAm\n",
       "zgEAACAmzgEAACAmzgEAACAmzgEAACAmzgEAACAmzgEAACAmzgEAACAmzgEAACAmzgEAACAmzgEA\n",
       "ACAmzgEAACAmzgEAACAmzgEAACAmzgEAACAmzgEAACAmzgEAACAmzgEAACAmzgEAACAmzgEAACAm\n",
       "zgEAACAmzgEAACAmzgEAACAmzgEAACAmzgEAACAmzgEAACAmzgEAACAmzgEAACAmzgEAACAmzgEA\n",
       "ACAmzgEAACAmzgEAACAmzgEAACAmzgEAACAmzgEAACAmzgEAACAmzgEAACAmzgEAACAmzgEAACAm\n",
       "zgEAACAmzgEAACAmzgEAACAmzgEAACAmzgEAACAmzgEAACAmzgEAACAmzgEAACAmzgEAACAmzgEA\n",
       "ACAmzgEAACAmzgEAACAmzgEAACAmzgEAACAmzgEAACAmzgEAACAmzgEAACAmzgEAACAmzgEAACAm\n",
       "zgEAACAmzgEAACAmzgEAACAmzgEAACAmzgEAACAmzgEAACAmzgEAACAmzgEAACAmzgEAACAmzgEA\n",
       "ACAmzgEAACAmzgEAACAmzgEAACAmzgEAACAmzgEAACAmzgEAACAmzgEAACAmzgEAACAmzgEAACAm\n",
       "zgEAACAmzgEAACAmzgEAACAmzgEAACAmzgEAACAmzgEAACAmzgEAACAmzgEAACAmzgEAACAmzgEA\n",
       "ACAmzgEAACAmzgEAACAmzgEAACAmzgEAACAmzgEAACAmzgEAACAmzgEAACAmzgEAACAmzgEAACAm\n",
       "zgEAACAmzgEAACAmzgEAACAmzgEAACAmzgEAACAmzgEAACAmzgEAACAmzgEAACAmzgEAACAmzgEA\n",
       "ACAmzgEAACAmzgEAACAmzgEAACAmzgEAACAmzgEAACAmzgEAACAmzgEAACAmzgEAACAmzgEAACAm\n",
       "zgEAACAmzgEAACAmzgEAACAmzgEAACAmzgEAACAmzgEAACAmzgEAACAmzgEAACAmzgEAACAmzgEA\n",
       "ACAmzgEAACAmzgEAACAmzgEAACAmzgEAACAmzgEAACAmzgEAACAmzgEAACAmzgEAACAmzgEAACAm\n",
       "zgEAACAmzgEAACAmzgEAACAmzgEAACAmzgEAACAmzgEAACAmzgEAACAmzgEAACAmzgEAACAmzgEA\n",
       "ACAmzgEAACAmzgEAACAmzgEAACAmzgEAACAmzgEAACAmzgEAACAmzgEAACAmzgEAACAmzgEAACAm\n",
       "zgEAACAmzgEAACAmzgEAACAmzgEAACAmzgEAACAmzgEAACAmzgEAACAmzgEAACAmzgEAACAmzgEA\n",
       "ACAmzgEAACAmzgEAACAmzgEAACAmzgEAACAmzgEAACAmzgEAACAmzgEAACAmzgEAACAmzgEAACAm\n",
       "zgEAACAmzgEAACAmzgEAACAmzgEAACAmzgEAACAmzgEAACAmzgEAACAmzgEAACAmzgEAACAmzgEA\n",
       "ACAmzgEAACAmzgEAACAmzgEAACAmzgEAACAmzgEAACAmzgEAACAmzgEAACAmzgEAACAmzgEAACAm\n",
       "zgEAACAmzgEAACAmzgEAACAmzgEAACAmzgEAACAmzgEAACAmzgEAACAmzgEAACAmzgEAACAmzgEA\n",
       "ACAmzgEAACAmzgEAACAmzgEAACAmzgEAACAmzgEAACAmzgEAACAmzgEAACAmzgEAACAmzgEAACAm\n",
       "zgEAACAmzgEAACAmzgEAACAmzgEAACAmzgEAACAmzgEAACAmzgEAACAmzgEAACAmzgEAACAmzgEA\n",
       "ACAmzgEAACAmzgEAACAmzgEAACAmzgEAACAmzgEAACAmzgEAACAmzgEAACAmzgEAACAmzgEAACAm\n",
       "zgEAACAmzgEAACAmzgEAACAmzgEAACAmzgEAACAmzgEAACAmzgEAACAmzgEAACAmzgEAACAmzgEA\n",
       "ACAmzgEAACAmzgEAACAmzgEAACAmzgEAACAmzgEAACAmzgEAACAmzgEAACAmzgEAACAmzgEAACAm\n",
       "zgEAACAmzgEAACAmzgEAACAmzgEAACAmzgEAACAmzgEAACAmzgEAACAmzgEAACAmzgEAACAmzgEA\n",
       "ACAmzgEAACAmzgEAACAmzgEAACAmzgEAACAmzgEAACAmzgEAACAmzgEAACAmzgEAACAmzgEAACAm\n",
       "zgEAACAmzgEAACAmzgEAACAmzgEAACAmzgEAACAmzgEAACAmzgEAACAmzgEAACAmzgEAACAmzgEA\n",
       "ACAmzgEAACAmzgEAACAmzgEAACAmzgEAACAmzgEAACAmzgEAACD2AExXD2qyLznEAAAAAElFTkSu\n",
       "QmCC\n",
       "\" transform=\"translate(167, 1096)\"/>\n",
       "</g>\n",
       "<defs>\n",
       "  <clipPath id=\"clip653\">\n",
       "    <rect x=\"1270\" y=\"624\" width=\"157\" height=\"1944\"/>\n",
       "  </clipPath>\n",
       "</defs>\n",
       "<g clip-path=\"url(#clip653)\">\n",
       "<image width=\"156\" height=\"1943\" xlink:href=\"data:image/png;base64,\n",
       "iVBORw0KGgoAAAANSUhEUgAAAJwAAAeXCAYAAAAl2AwAAAAUmUlEQVR4nO3dsZEkNwAEwcFHO0lL\n",
       "6RDdeIBe1AmXacEKFS1MANjz7z//vQ8if376B/C7CI6U4EgJjpTgSAmOlOBI7Zyf/gn8JhaOlOBI\n",
       "CY6U4EgJjpTgSAmO1D7f4QhZOFKCIyU4UoIjJThSgiO1IzlCciMlOFKCIyU4UoIjJThSgiPleBIp\n",
       "C0dKcKQER0pwpARHSnCkvJ5EysKREhwpwZESHCnBkRIcKcGRmuQoyY2U4EgJjpTgSAmOlOBICY7U\n",
       "jgNxhCwcKcGREhwpwZESHCnBkXJNkJSFIyU4UoIjJThSgiMlOFKCI+UVc1IWjpTgSAmOlOBICY6U\n",
       "4EjtSI6Q3EgJjpTgSAmOlOBICY6U4Eg5nkTKwpESHCnBkRIcKcGREhwpwZHyXBcpC0dKcKQER0pw\n",
       "pARHSnCkJjlKciMlOFKCIyU4UoIjJThSgiO143wSIQtHSnCkBEdKcKQER0pwpLyeRMrCkRIcKcGR\n",
       "EhwpwZESHCnBkfJ6EikLR0pwpARHSnCkBEdKcKQER2pHcoTkRkpwpARHSnCkBEdKcKRcEyRl4UgJ\n",
       "jpTgSAmOlOBICY6U4Ei5JkjKwpESHCnBkRIcKcGREhwpx5NIWThSgiMlOFKCIyU4UoIjJThSjieR\n",
       "snCkBEdKcKQER0pwpARHapKjJDdSgiMlOFKCIyU4UoIjJThSO84nEbJwpARHSnCkBEdKcKQER0pw\n",
       "pDzXRcrCkRIcKcGREhwpwZESHCmvJ5GycKQER0pwpARHSnCkBEdKcKQ810VKbqQER0pwpARHSnCk\n",
       "BEfK8SRSFo6U4EgJjpTgSAmOlOBICY6U15NIWThSgiMlOFKCIyU4UoIjJThSzsORsnCkBEdKcKQE\n",
       "R0pwpARHyvEkUhaOlOBICY6U4EgJjpTgSAmO1M4fH+LoWDhSgiMlOFKCIyU4UoIj5XgSKQtHSnCk\n",
       "BEdKcKQER0pwpARHyutJpCwcKcGREhwpwZESHCnBkRIcKefhSFk4UoIjJThSgiMlOFKCI+V4EikL\n",
       "R0pwpARHSnCkBEdKcKQER2qSoyQ3UoIjJThSgiMlOFKCI+V4EikLR0pwpARHSnCkBEdKcKQER8rr\n",
       "SaQsHCnBkRIcKcGREhwpwZESHCnn4UhZOFKCIyU4UoIjJThSgiO1z3cRQhaOlOBICY6U4EgJjpTg\n",
       "SAmOlONJpCwcKcGREhwpwZESHCnBkfLnbqTkRkpwpARHSnCkBEdKcKQER8rxJFIWjpTgSAmOlOBI\n",
       "CY6U4Ej5czdSFo6U4EgJjpTgSAmOlOBICY6U40mkLBwpwZESHCnBkRIcKcGREhwp5+FIWThSgiMl\n",
       "OFKCIyU4UoIjtSM5QnIjJThSgiMlOFKCIyU4UoIj5XgSKQtHSnCkBEdKcKQER0pwpHY8n0TIwpES\n",
       "HCnBkRIcKcGREhwpwZFyPImUhSMlOFKCIyU4UoIjJThSgiPl3wRJWThSgiMlOFKCIyU4UoIj5XgS\n",
       "KQtHSnCkBEdKcKQER0pwpARHyr8JkpIbKcGREhwpwZESHCnBkXI8iZSFIyU4UoIjJThSgiMlOFKC\n",
       "I+U7HCkLR0pwpARHSnCkBEdKcKQER8or5qQsHCnBkRIcKcGREhwpwZFyPImUhSMlOFKCIyU4UoIj\n",
       "JThSgiPleBIpC0dKcKQER0pwpARHSnCk9vkuQsjCkRIcKcGREhwpwZESHCnBkdqRHCG5kRIcKcGR\n",
       "EhwpwZESHCmvJ5GycKQER0pwpARHSnCkBEdKcKS8nkTKwpESHCnBkRIcKcGREhwpwZFyHo6UhSMl\n",
       "OFKCIyU4UoIjJThSPouQsnCkBEdKcKQER0pwpARHSnCkXBMkZeFICY6U4EgJjpTgSAmO1CRHSW6k\n",
       "BEdKcKQER0pwpARHSnCkHE8iZeFICY6U4EgJjpTgSAmOlOBIea6LlIUjJThSgiMlOFKCIyU4UjvO\n",
       "JxGycKQER0pwpARHSnCkBEdKcKQcTyJl4UgJjpTgSAmOlOBICY6U15NIWThSgiMlOFKCIyU4UoIj\n",
       "JThSjieRsnCkBEdKcKQER0pwpARHSnCkJjlKciMlOFKCIyU4UoIjJThSrgmSsnCkBEdKcKQER0pw\n",
       "pARHSnCkXBMkZeFICY6U4EgJjpTgSAmOlONJpCwcKcGREhwpwZESHCnBkRIcKceTSFk4UoIjJThS\n",
       "giMlOFKCIyU4Ur7DkbJwpARHSnCkBEdKcKQER2pHcoTkRkpwpARHSnCkBEdKcKQER2qf97oIWThS\n",
       "giMlOFKCIyU4UoIj5RVzUhaOlOBICY6U4EgJjpTgSAmOlNeTSFk4UoIjJThSgiMlOFKCI+V4EikL\n",
       "R0pwpARHSnCkBEdKcKQER8rxJFIWjpTgSAmOlOBICY6U4EgJjpTvcKQsHCnBkRIcKcGREhwpwZHa\n",
       "kRwhuZESHCnBkRIcKcGREhwpwZFyPImUhSMlOFKCIyU4UoIjJThSXjEnZeFICY6U4EgJjpTgSAmO\n",
       "lOBIOZ5EysKREhwpwZESHCnBkRIcKcGR8h2OlIUjJThSgiMlOFKCIyU4Uq4JkrJwpARHSnCkBEdK\n",
       "cKQER0pwpPb5EEfIwpESHCnBkRIcKcGREhypHckRkhspwZESHCnBkRIcKcGREhwpryeRsnCkBEdK\n",
       "cKQER0pwpARHSnCkfIcjZeFICY6U4EgJjpTgSAmOlFfMSVk4UoIjJThSgiMlOFKCIyU4Uo4nkbJw\n",
       "pARHSnCkBEdKcKQER8pnEVIWjpTgSAmOlOBICY6U4EgJjpRrgqQsHCnBkRIcKcGREhwpwZGa5CjJ\n",
       "jZTgSAmOlOBICY6U4EgJjpTjSaQsHCnBkRIcKcGREhwpwZESHCnPdZGycKQER0pwpARHSnCkBEfK\n",
       "ZxFSFo6U4EgJjpTgSAmOlOBICY7UjnuChCwcKcGREhwpwZESHCnBkXI8iZSFIyU4UoIjJThSgiMl\n",
       "OFKCI+U7HCkLR0pwpARHSnCkBEdKcKQER2pHcoTkRkpwpARHSnCkBEdKcKQcTyJl4UgJjpTgSAmO\n",
       "lOBICY6U4Ej5DkfKwpESHCnBkRIcKcGREhyp+W83ShaOlOBICY6U4EgJjpTgSAmOlONJpCwcKcGR\n",
       "EhwpwZESHCnBkRIcKd/hSFk4UoIjJThSgiMlOFKCI+WaICkLR0pwpARHSnCkBEdKcKQER2qSoyQ3\n",
       "UoIjJThSgiMlOFKCI+XWFikLR0pwpARHSnCkBEdKcKQER8o1QVIWjpTgSAmOlOBICY6U4EgJjpTz\n",
       "cKQsHCnBkRIcKcGREhwpwZHyWYSUhSMlOFKCIyU4UoIjJThSgiPlOxwpC0dKcKQER0pwpARHSnCk\n",
       "fBYhZeFICY6U4EgJjpTgSAmOlOBI7Tvvp38Dv4iFIyU4UoIjJThSgiMlOFKCIyU4UoIjJThSgiMl\n",
       "OFKCIyU4Uq4JkrJwpARHSnCkBEdKcKQER0pwpFwTJGXhSAmOlOBICY6U4EgJjtS+z2cROhaOlOBI\n",
       "CY6U4EgJjpTgSAmOlGuCpCwcKcGREhwpwZESHCnBkdpzPImQhSMlOFKCIyU4UoIjJThSgiPlmiAp\n",
       "C0dKcKQER0pwpARHSnCkBEdqzyvmhCwcKcGREhwpwZESHCnBkXJNkJSFIyU4UoIjJThSgiMlOFKC\n",
       "I7X3fIejY+FICY6U4EgJjpTgSAmO1L7v/vRv4BexcKQER0pwpARHSnCkBEdKcKRcEyRl4UgJjpTg\n",
       "SAmOlOBICY6U4Ej5DkfKwpESHCnBkRIcKcGREhyp3eeaIB0LR0pwpARHSnCkBEdKcKQER8rxJFIW\n",
       "jpTgSAmOlOBICY6U4EjtOZ5EyMKREhwpwZESHCnBkRIcKcGR2vNvgoQsHCnBkRIcKcGREhwpwZHa\n",
       "e25t0bFwpARHSnCkBEdKcKQER0pwpHYdTyJk4UgJjpTgSAmOlOBICY6U4Eh5rouUhSMlOFKCIyU4\n",
       "UoIjJThSrgmSsnCkBEdKcKQER0pwpARHSnCkvGJOysKREhwpwZESHCnBkRIcqV23tghZOFKCIyU4\n",
       "UoIjJThSgiMlOFKuCZKycKQER0pwpARHSnCkBEdKcKRcEyRl4UgJjpTgSAmOlOBICY6Ua4KkLBwp\n",
       "wZESHCnBkRIcKcGREhwp1wRJWThSgiMlOFKCIyU4UoIj5dYWKQtHSnCkBEdKcKQER0pwpARHyjVB\n",
       "UhaOlOBICY6U4EgJjpTgSAmO1J7vcIQsHCnBkRIcKcGREhwpwZHa+7yeRMfCkRIcKcGREhwpwZES\n",
       "HCnBkXI8iZSFIyU4UoIjJThSgiMlOFJeTyJl4UgJjpTgSAmOlOBICY6U4Ei5JkjKwpESHCnBkRIc\n",
       "KcGREhwpwZFyTZCUhSMlOFKCIyU4UoIjJThSrgmSsnCkBEdKcKQER0pwpARHSnCk9p5rgnQsHCnB\n",
       "kRIcKcGREhwpwZHa+xxPomPhSAmOlOBICY6U4EgJjpTgSLkmSMrCkRIcKcGREhwpwZESHCm3tkhZ\n",
       "OFKCIyU4UoIjJThSgiMlOFKuCZKycKQER0pwpARHSnCkBEdKcKRcEyRl4UgJjpTgSAmOlOBICY6U\n",
       "a4KkLBwpwZESHCnBkRIcKcGREhwp1wRJWThSgiMlOFKCIyU4UoIj5dYWKQtHSnCkBEdKcKQER0pw\n",
       "pARHyjVBUhaOlOBICY6U4EgJjpTgSAmOlGuCpCwcKcGREhwpwZESHCnBkXJNkJSFIyU4UoIjJThS\n",
       "giMlOFKCI+WaICkLR0pwpARHSnCkBEdKcKT2HE8iZOFICY6U4EgJjpTgSAmOlOBI7Xo9iZCFIyU4\n",
       "UoIjJThSgiMlOFKCI+WaICkLR0pwpARHSnCkBEdKcKRcEyRl4UgJjpTgSAmOlOBICY6U4Ei5JkjK\n",
       "wpESHCnBkRIcKcGREhwpt7ZIWThSgiMlOFKCIyU4UoIjJThSrgmSsnCkBEdKcKQER0pwpARHyq0t\n",
       "UhaOlOBICY6U4EgJjpTgSAmOlGuCpCwcKcGREhwpwZESHCnBkRIcKdcESVk4UoIjJThSgiMlOFKC\n",
       "I7XreBIhC0dKcKQER0pwpARHSnCkBEdqz3NdhCwcKcGREhwpwZESHCnBkXJri5SFIyU4UoIjJThS\n",
       "giMlOFKCI+WaICkLR0pwpARHSnCkBEdKcKQER8o1QVIWjpTgSAmOlOBICY6U4Ei5JkjKwpESHCnB\n",
       "kRIcKcGREhwpwZFyTZCUhSMlOFKCIyU4UoIjJThSbm2RsnCkBEdKcKQER0pwpARHSnCkXBMkZeFI\n",
       "CY6U4EgJjpTgSAmOlOBIuSZIysKREhwpwZESHCnBkRIcKdcESVk4UoIjJThSgiMlOFKCIyU4Uq4J\n",
       "krJwpARHSnCkBEdKcKQER8qtLVIWjpTgSAmOlOBICY6U4EgJjpTjSaQsHCnBkRIcKcGREhwpwZES\n",
       "HKm9z3k4OhaOlOBICY6U4EgJjpTgSO06nkTIwpESHCnBkRIcKcGREhwpwZFyTZCUhSMlOFKCIyU4\n",
       "UoIjJThSu25tEbJwpARHSnCkBEdKcKQER0pwpBxPImXhSAmOlOBICY6U4EgJjpTPIqQsHCnBkRIc\n",
       "KcGREhwpwZESHCnXBElZOFKCIyU4UoIjJThSgiMlOFLOw5GycKQER0pwpARHSnCkBEdq12cRQhaO\n",
       "lOBICY6U4EgJjpTgSAmO1N5zTZCOhSMlOFKCIyU4UoIjJThSe5/jSXQsHCnBkRIcKcGREhwpwZES\n",
       "HKldx5MIWThSgiMlOFKCIyU4UoIjJThSXjEnZeFICY6U4EgJjpTgSAmOlGuCpCwcKcGREhwpwZES\n",
       "HCnBkRIcKdcESVk4UoIjJThSgiMlOFKCI+XWFikLR0pwpARHSnCkBEdKcKQER2rXdzhCFo6U4EgJ\n",
       "jpTgSAmOlOBICY7U3ueaIB0LR0pwpARHSnCkBEdKcKQcTyJl4UgJjpTgSAmOlOBICY6U4Eh5rouU\n",
       "hSMlOFKCIyU4UoIjJThSbm2RsnCkBEdKcKQER0pwpARHSnCkXBMkZeFICY6U4EgJjpTgSAmOlFtb\n",
       "pCwcKcGREhwpwZESHCnBkRIcqV3XBAlZOFKCIyU4UoIjJThSgiMlOFLOw5GycKQER0pwpARHSnCk\n",
       "BEfK60mkLBwpwZESHCnBkRIcKcGREhypveeaIB0LR0pwpARHSnCkBEdKcKR2P8eT6Fg4UoIjJThS\n",
       "giMlOFKCIyU4Ul5PImXhSAmOlOBICY6U4EgJjpTgSO26JkjIwpESHCnBkRIcKcGREhypPdcECVk4\n",
       "UoIjJThSgiMlOFKCIyU4Uv5NkJSFIyU4UoIjJThSgiMlOFL+3I2UhSMlOFKCIyU4UoIjJThSgiPl\n",
       "eBIpC0dKcKQER0pwpARHSnCkBEfKc12kLBwpwZESHCnBkRIcKcGR8udupCwcKcGREhwpwZESHCnB\n",
       "kRIcqT3XBAlZOFKCIyU4UoIjJThSgiO169YWIQtHSnCkBEdKcKQER0pwpARHyvEkUhaOlOBICY6U\n",
       "4EgJjpTgSAmOlOe6SFk4UoIjJThSgiMlOFKCI+XP3UhZOFKCIyU4UoIjJThSgiMlOFK7rgkSsnCk\n",
       "BEdKcKQER0pwpARHymcRUhaOlOBICY6U4EgJjpTgSAmOlFfMSVk4UoIjJThSgiMlOFKCI7Xr9SRC\n",
       "Fo6U4EgJjpTgSAmOlOBICY6UP3cjZeFICY6U4EgJjpTgSAmOlOBIuSZIysKREhwpwZESHCnBkRIc\n",
       "KdcESVk4UoIjJThSgiMlOFKCIyU4Uv5NkJSFIyU4UoIjJThSgiMlOFJubZGycKQER0pwpARHSnCk\n",
       "BEdKcKQcTyJl4UgJjpTgSAmOlOBICY6U4Ejtfn9/+jfwi1g4UoIjJThSgiMlOFKCI+V4EikLR0pw\n",
       "pARHSnCkBEdKcKQER8pzXaQsHCnBkRIcKcGREhwpwZHa/XwWoWPhSAmOlOBICY6U4EgJjpTgSO0+\n",
       "ryfRsXCkBEdKcKQER0pwpARHSnCkPNdFysKREhwpwZESHCnBkRIcKceTSFk4UoIjJThSgiMlOFKC\n",
       "IyU4Uruf73B0LBwpwZESHCnBkRIcKcGRcjyJlIUjJThSgiMlOFKCIyU4UoIj5TscKQtHSnCkBEdK\n",
       "cKQER0pwpP4HOvdrFLvYkYEAAAAASUVORK5CYII=\n",
       "\" transform=\"translate(1270, 624)\"/>\n",
       "</g>\n",
       "<path clip-path=\"url(#clip650)\" d=\"M1504.09 2564.3 L1533.77 2564.3 L1533.77 2568.24 L1504.09 2568.24 L1504.09 2564.3 Z\" fill=\"#000000\" fill-rule=\"evenodd\" fill-opacity=\"1\" /><path clip-path=\"url(#clip650)\" d=\"M1544.67 2577.19 L1552.31 2577.19 L1552.31 2550.83 L1544 2552.5 L1544 2548.24 L1552.26 2546.57 L1556.94 2546.57 L1556.94 2577.19 L1564.58 2577.19 L1564.58 2581.13 L1544.67 2581.13 L1544.67 2577.19 Z\" fill=\"#000000\" fill-rule=\"evenodd\" fill-opacity=\"1\" /><path clip-path=\"url(#clip650)\" d=\"M1574.02 2575.25 L1578.9 2575.25 L1578.9 2581.13 L1574.02 2581.13 L1574.02 2575.25 Z\" fill=\"#000000\" fill-rule=\"evenodd\" fill-opacity=\"1\" /><path clip-path=\"url(#clip650)\" d=\"M1599.09 2549.65 Q1595.48 2549.65 1593.65 2553.21 Q1591.84 2556.75 1591.84 2563.88 Q1591.84 2570.99 1593.65 2574.56 Q1595.48 2578.1 1599.09 2578.1 Q1602.72 2578.1 1604.53 2574.56 Q1606.36 2570.99 1606.36 2563.88 Q1606.36 2556.75 1604.53 2553.21 Q1602.72 2549.65 1599.09 2549.65 M1599.09 2545.94 Q1604.9 2545.94 1607.95 2550.55 Q1611.03 2555.13 1611.03 2563.88 Q1611.03 2572.61 1607.95 2577.22 Q1604.9 2581.8 1599.09 2581.8 Q1593.28 2581.8 1590.2 2577.22 Q1587.14 2572.61 1587.14 2563.88 Q1587.14 2555.13 1590.2 2550.55 Q1593.28 2545.94 1599.09 2545.94 Z\" fill=\"#000000\" fill-rule=\"evenodd\" fill-opacity=\"1\" /><path clip-path=\"url(#clip650)\" d=\"M1629.25 2549.65 Q1625.64 2549.65 1623.81 2553.21 Q1622.01 2556.75 1622.01 2563.88 Q1622.01 2570.99 1623.81 2574.56 Q1625.64 2578.1 1629.25 2578.1 Q1632.88 2578.1 1634.69 2574.56 Q1636.52 2570.99 1636.52 2563.88 Q1636.52 2556.75 1634.69 2553.21 Q1632.88 2549.65 1629.25 2549.65 M1629.25 2545.94 Q1635.06 2545.94 1638.12 2550.55 Q1641.19 2555.13 1641.19 2563.88 Q1641.19 2572.61 1638.12 2577.22 Q1635.06 2581.8 1629.25 2581.8 Q1623.44 2581.8 1620.36 2577.22 Q1617.31 2572.61 1617.31 2563.88 Q1617.31 2555.13 1620.36 2550.55 Q1623.44 2545.94 1629.25 2545.94 Z\" fill=\"#000000\" fill-rule=\"evenodd\" fill-opacity=\"1\" /><path clip-path=\"url(#clip650)\" d=\"M1504.09 2321.42 L1533.77 2321.42 L1533.77 2325.36 L1504.09 2325.36 L1504.09 2321.42 Z\" fill=\"#000000\" fill-rule=\"evenodd\" fill-opacity=\"1\" /><path clip-path=\"url(#clip650)\" d=\"M1553.86 2306.77 Q1550.25 2306.77 1548.42 2310.33 Q1546.61 2313.88 1546.61 2321.01 Q1546.61 2328.11 1548.42 2331.68 Q1550.25 2335.22 1553.86 2335.22 Q1557.49 2335.22 1559.3 2331.68 Q1561.13 2328.11 1561.13 2321.01 Q1561.13 2313.88 1559.3 2310.33 Q1557.49 2306.77 1553.86 2306.77 M1553.86 2303.07 Q1559.67 2303.07 1562.72 2307.67 Q1565.8 2312.26 1565.8 2321.01 Q1565.8 2329.73 1562.72 2334.34 Q1559.67 2338.92 1553.86 2338.92 Q1548.05 2338.92 1544.97 2334.34 Q1541.91 2329.73 1541.91 2321.01 Q1541.91 2312.26 1544.97 2307.67 Q1548.05 2303.07 1553.86 2303.07 Z\" fill=\"#000000\" fill-rule=\"evenodd\" fill-opacity=\"1\" /><path clip-path=\"url(#clip650)\" d=\"M1574.02 2332.37 L1578.9 2332.37 L1578.9 2338.25 L1574.02 2338.25 L1574.02 2332.37 Z\" fill=\"#000000\" fill-rule=\"evenodd\" fill-opacity=\"1\" /><path clip-path=\"url(#clip650)\" d=\"M1587.91 2303.69 L1610.13 2303.69 L1610.13 2305.68 L1597.58 2338.25 L1592.7 2338.25 L1604.51 2307.63 L1587.91 2307.63 L1587.91 2303.69 Z\" fill=\"#000000\" fill-rule=\"evenodd\" fill-opacity=\"1\" /><path clip-path=\"url(#clip650)\" d=\"M1619.3 2303.69 L1637.65 2303.69 L1637.65 2307.63 L1623.58 2307.63 L1623.58 2316.1 Q1624.6 2315.75 1625.62 2315.59 Q1626.63 2315.4 1627.65 2315.4 Q1633.44 2315.4 1636.82 2318.57 Q1640.2 2321.75 1640.2 2327.16 Q1640.2 2332.74 1636.73 2335.84 Q1633.26 2338.92 1626.94 2338.92 Q1624.76 2338.92 1622.49 2338.55 Q1620.25 2338.18 1617.84 2337.44 L1617.84 2332.74 Q1619.92 2333.88 1622.14 2334.43 Q1624.37 2334.99 1626.84 2334.99 Q1630.85 2334.99 1633.19 2332.88 Q1635.52 2330.77 1635.52 2327.16 Q1635.52 2323.55 1633.19 2321.45 Q1630.85 2319.34 1626.84 2319.34 Q1624.97 2319.34 1623.09 2319.76 Q1621.24 2320.17 1619.3 2321.05 L1619.3 2303.69 Z\" fill=\"#000000\" fill-rule=\"evenodd\" fill-opacity=\"1\" /><path clip-path=\"url(#clip650)\" d=\"M1504.09 2078.54 L1533.77 2078.54 L1533.77 2082.48 L1504.09 2082.48 L1504.09 2078.54 Z\" fill=\"#000000\" fill-rule=\"evenodd\" fill-opacity=\"1\" /><path clip-path=\"url(#clip650)\" d=\"M1553.86 2063.89 Q1550.25 2063.89 1548.42 2067.46 Q1546.61 2071 1546.61 2078.13 Q1546.61 2085.23 1548.42 2088.8 Q1550.25 2092.34 1553.86 2092.34 Q1557.49 2092.34 1559.3 2088.8 Q1561.13 2085.23 1561.13 2078.13 Q1561.13 2071 1559.3 2067.46 Q1557.49 2063.89 1553.86 2063.89 M1553.86 2060.19 Q1559.67 2060.19 1562.72 2064.79 Q1565.8 2069.38 1565.8 2078.13 Q1565.8 2086.85 1562.72 2091.46 Q1559.67 2096.04 1553.86 2096.04 Q1548.05 2096.04 1544.97 2091.46 Q1541.91 2086.85 1541.91 2078.13 Q1541.91 2069.38 1544.97 2064.79 Q1548.05 2060.19 1553.86 2060.19 Z\" fill=\"#000000\" fill-rule=\"evenodd\" fill-opacity=\"1\" /><path clip-path=\"url(#clip650)\" d=\"M1574.02 2089.49 L1578.9 2089.49 L1578.9 2095.37 L1574.02 2095.37 L1574.02 2089.49 Z\" fill=\"#000000\" fill-rule=\"evenodd\" fill-opacity=\"1\" /><path clip-path=\"url(#clip650)\" d=\"M1589.14 2060.81 L1607.49 2060.81 L1607.49 2064.75 L1593.42 2064.75 L1593.42 2073.22 Q1594.44 2072.87 1595.45 2072.71 Q1596.47 2072.52 1597.49 2072.52 Q1603.28 2072.52 1606.66 2075.7 Q1610.04 2078.87 1610.04 2084.28 Q1610.04 2089.86 1606.57 2092.96 Q1603.09 2096.04 1596.77 2096.04 Q1594.6 2096.04 1592.33 2095.67 Q1590.08 2095.3 1587.68 2094.56 L1587.68 2089.86 Q1589.76 2091 1591.98 2091.55 Q1594.2 2092.11 1596.68 2092.11 Q1600.69 2092.11 1603.02 2090 Q1605.36 2087.9 1605.36 2084.28 Q1605.36 2080.67 1603.02 2078.57 Q1600.69 2076.46 1596.68 2076.46 Q1594.81 2076.46 1592.93 2076.88 Q1591.08 2077.29 1589.14 2078.17 L1589.14 2060.81 Z\" fill=\"#000000\" fill-rule=\"evenodd\" fill-opacity=\"1\" /><path clip-path=\"url(#clip650)\" d=\"M1629.25 2063.89 Q1625.64 2063.89 1623.81 2067.46 Q1622.01 2071 1622.01 2078.13 Q1622.01 2085.23 1623.81 2088.8 Q1625.64 2092.34 1629.25 2092.34 Q1632.88 2092.34 1634.69 2088.8 Q1636.52 2085.23 1636.52 2078.13 Q1636.52 2071 1634.69 2067.46 Q1632.88 2063.89 1629.25 2063.89 M1629.25 2060.19 Q1635.06 2060.19 1638.12 2064.79 Q1641.19 2069.38 1641.19 2078.13 Q1641.19 2086.85 1638.12 2091.46 Q1635.06 2096.04 1629.25 2096.04 Q1623.44 2096.04 1620.36 2091.46 Q1617.31 2086.85 1617.31 2078.13 Q1617.31 2069.38 1620.36 2064.79 Q1623.44 2060.19 1629.25 2060.19 Z\" fill=\"#000000\" fill-rule=\"evenodd\" fill-opacity=\"1\" /><path clip-path=\"url(#clip650)\" d=\"M1504.09 1835.66 L1533.77 1835.66 L1533.77 1839.6 L1504.09 1839.6 L1504.09 1835.66 Z\" fill=\"#000000\" fill-rule=\"evenodd\" fill-opacity=\"1\" /><path clip-path=\"url(#clip650)\" d=\"M1553.86 1821.01 Q1550.25 1821.01 1548.42 1824.58 Q1546.61 1828.12 1546.61 1835.25 Q1546.61 1842.35 1548.42 1845.92 Q1550.25 1849.46 1553.86 1849.46 Q1557.49 1849.46 1559.3 1845.92 Q1561.13 1842.35 1561.13 1835.25 Q1561.13 1828.12 1559.3 1824.58 Q1557.49 1821.01 1553.86 1821.01 M1553.86 1817.31 Q1559.67 1817.31 1562.72 1821.91 Q1565.8 1826.5 1565.8 1835.25 Q1565.8 1843.97 1562.72 1848.58 Q1559.67 1853.16 1553.86 1853.16 Q1548.05 1853.16 1544.97 1848.58 Q1541.91 1843.97 1541.91 1835.25 Q1541.91 1826.5 1544.97 1821.91 Q1548.05 1817.31 1553.86 1817.31 Z\" fill=\"#000000\" fill-rule=\"evenodd\" fill-opacity=\"1\" /><path clip-path=\"url(#clip650)\" d=\"M1574.02 1846.61 L1578.9 1846.61 L1578.9 1852.49 L1574.02 1852.49 L1574.02 1846.61 Z\" fill=\"#000000\" fill-rule=\"evenodd\" fill-opacity=\"1\" /><path clip-path=\"url(#clip650)\" d=\"M1593.12 1848.56 L1609.44 1848.56 L1609.44 1852.49 L1587.49 1852.49 L1587.49 1848.56 Q1590.15 1845.8 1594.74 1841.17 Q1599.34 1836.52 1600.52 1835.18 Q1602.77 1832.66 1603.65 1830.92 Q1604.55 1829.16 1604.55 1827.47 Q1604.55 1824.72 1602.61 1822.98 Q1600.69 1821.24 1597.58 1821.24 Q1595.39 1821.24 1592.93 1822.01 Q1590.5 1822.77 1587.72 1824.32 L1587.72 1819.6 Q1590.55 1818.47 1593 1817.89 Q1595.45 1817.31 1597.49 1817.31 Q1602.86 1817.31 1606.06 1819.99 Q1609.25 1822.68 1609.25 1827.17 Q1609.25 1829.3 1608.44 1831.22 Q1607.65 1833.12 1605.55 1835.71 Q1604.97 1836.38 1601.87 1839.6 Q1598.76 1842.79 1593.12 1848.56 Z\" fill=\"#000000\" fill-rule=\"evenodd\" fill-opacity=\"1\" /><path clip-path=\"url(#clip650)\" d=\"M1619.3 1817.93 L1637.65 1817.93 L1637.65 1821.87 L1623.58 1821.87 L1623.58 1830.34 Q1624.6 1829.99 1625.62 1829.83 Q1626.63 1829.65 1627.65 1829.65 Q1633.44 1829.65 1636.82 1832.82 Q1640.2 1835.99 1640.2 1841.41 Q1640.2 1846.98 1636.73 1850.09 Q1633.26 1853.16 1626.94 1853.16 Q1624.76 1853.16 1622.49 1852.79 Q1620.25 1852.42 1617.84 1851.68 L1617.84 1846.98 Q1619.92 1848.12 1622.14 1848.67 Q1624.37 1849.23 1626.84 1849.23 Q1630.85 1849.23 1633.19 1847.12 Q1635.52 1845.02 1635.52 1841.41 Q1635.52 1837.79 1633.19 1835.69 Q1630.85 1833.58 1626.84 1833.58 Q1624.97 1833.58 1623.09 1834 Q1621.24 1834.41 1619.3 1835.29 L1619.3 1817.93 Z\" fill=\"#000000\" fill-rule=\"evenodd\" fill-opacity=\"1\" /><path clip-path=\"url(#clip650)\" d=\"M1516.03 1578.13 Q1512.42 1578.13 1510.59 1581.7 Q1508.79 1585.24 1508.79 1592.37 Q1508.79 1599.48 1510.59 1603.04 Q1512.42 1606.58 1516.03 1606.58 Q1519.67 1606.58 1521.47 1603.04 Q1523.3 1599.48 1523.3 1592.37 Q1523.3 1585.24 1521.47 1581.7 Q1519.67 1578.13 1516.03 1578.13 M1516.03 1574.43 Q1521.84 1574.43 1524.9 1579.04 Q1527.98 1583.62 1527.98 1592.37 Q1527.98 1601.1 1524.9 1605.7 Q1521.84 1610.29 1516.03 1610.29 Q1510.22 1610.29 1507.14 1605.7 Q1504.09 1601.1 1504.09 1592.37 Q1504.09 1583.62 1507.14 1579.04 Q1510.22 1574.43 1516.03 1574.43 Z\" fill=\"#000000\" fill-rule=\"evenodd\" fill-opacity=\"1\" /><path clip-path=\"url(#clip650)\" d=\"M1516.03 1335.25 Q1512.42 1335.25 1510.59 1338.82 Q1508.79 1342.36 1508.79 1349.49 Q1508.79 1356.6 1510.59 1360.16 Q1512.42 1363.7 1516.03 1363.7 Q1519.67 1363.7 1521.47 1360.16 Q1523.3 1356.6 1523.3 1349.49 Q1523.3 1342.36 1521.47 1338.82 Q1519.67 1335.25 1516.03 1335.25 M1516.03 1331.55 Q1521.84 1331.55 1524.9 1336.16 Q1527.98 1340.74 1527.98 1349.49 Q1527.98 1358.22 1524.9 1362.82 Q1521.84 1367.41 1516.03 1367.41 Q1510.22 1367.41 1507.14 1362.82 Q1504.09 1358.22 1504.09 1349.49 Q1504.09 1340.74 1507.14 1336.16 Q1510.22 1331.55 1516.03 1331.55 Z\" fill=\"#000000\" fill-rule=\"evenodd\" fill-opacity=\"1\" /><path clip-path=\"url(#clip650)\" d=\"M1536.2 1360.86 L1541.08 1360.86 L1541.08 1366.74 L1536.2 1366.74 L1536.2 1360.86 Z\" fill=\"#000000\" fill-rule=\"evenodd\" fill-opacity=\"1\" /><path clip-path=\"url(#clip650)\" d=\"M1555.29 1362.8 L1571.61 1362.8 L1571.61 1366.74 L1549.67 1366.74 L1549.67 1362.8 Q1552.33 1360.05 1556.91 1355.42 Q1561.52 1350.76 1562.7 1349.42 Q1564.95 1346.9 1565.83 1345.16 Q1566.73 1343.4 1566.73 1341.71 Q1566.73 1338.96 1564.78 1337.22 Q1562.86 1335.49 1559.76 1335.49 Q1557.56 1335.49 1555.11 1336.25 Q1552.68 1337.01 1549.9 1338.56 L1549.9 1333.84 Q1552.72 1332.71 1555.18 1332.13 Q1557.63 1331.55 1559.67 1331.55 Q1565.04 1331.55 1568.23 1334.24 Q1571.43 1336.92 1571.43 1341.41 Q1571.43 1343.54 1570.62 1345.46 Q1569.83 1347.36 1567.72 1349.95 Q1567.14 1350.62 1564.04 1353.84 Q1560.94 1357.04 1555.29 1362.8 Z\" fill=\"#000000\" fill-rule=\"evenodd\" fill-opacity=\"1\" /><path clip-path=\"url(#clip650)\" d=\"M1581.47 1332.18 L1599.83 1332.18 L1599.83 1336.11 L1585.76 1336.11 L1585.76 1344.58 Q1586.77 1344.24 1587.79 1344.07 Q1588.81 1343.89 1589.83 1343.89 Q1595.62 1343.89 1599 1347.06 Q1602.38 1350.23 1602.38 1355.65 Q1602.38 1361.23 1598.9 1364.33 Q1595.43 1367.41 1589.11 1367.41 Q1586.94 1367.41 1584.67 1367.04 Q1582.42 1366.67 1580.01 1365.93 L1580.01 1361.23 Q1582.1 1362.36 1584.32 1362.92 Q1586.54 1363.47 1589.02 1363.47 Q1593.02 1363.47 1595.36 1361.37 Q1597.7 1359.26 1597.7 1355.65 Q1597.7 1352.04 1595.36 1349.93 Q1593.02 1347.82 1589.02 1347.82 Q1587.14 1347.82 1585.27 1348.24 Q1583.42 1348.66 1581.47 1349.54 L1581.47 1332.18 Z\" fill=\"#000000\" fill-rule=\"evenodd\" fill-opacity=\"1\" /><path clip-path=\"url(#clip650)\" d=\"M1516.03 1092.38 Q1512.42 1092.38 1510.59 1095.94 Q1508.79 1099.48 1508.79 1106.61 Q1508.79 1113.72 1510.59 1117.28 Q1512.42 1120.82 1516.03 1120.82 Q1519.67 1120.82 1521.47 1117.28 Q1523.3 1113.72 1523.3 1106.61 Q1523.3 1099.48 1521.47 1095.94 Q1519.67 1092.38 1516.03 1092.38 M1516.03 1088.67 Q1521.84 1088.67 1524.9 1093.28 Q1527.98 1097.86 1527.98 1106.61 Q1527.98 1115.34 1524.9 1119.94 Q1521.84 1124.53 1516.03 1124.53 Q1510.22 1124.53 1507.14 1119.94 Q1504.09 1115.34 1504.09 1106.61 Q1504.09 1097.86 1507.14 1093.28 Q1510.22 1088.67 1516.03 1088.67 Z\" fill=\"#000000\" fill-rule=\"evenodd\" fill-opacity=\"1\" /><path clip-path=\"url(#clip650)\" d=\"M1536.2 1117.98 L1541.08 1117.98 L1541.08 1123.86 L1536.2 1123.86 L1536.2 1117.98 Z\" fill=\"#000000\" fill-rule=\"evenodd\" fill-opacity=\"1\" /><path clip-path=\"url(#clip650)\" d=\"M1551.31 1089.3 L1569.67 1089.3 L1569.67 1093.23 L1555.59 1093.23 L1555.59 1101.7 Q1556.61 1101.36 1557.63 1101.19 Q1558.65 1101.01 1559.67 1101.01 Q1565.45 1101.01 1568.83 1104.18 Q1572.21 1107.35 1572.21 1112.77 Q1572.21 1118.35 1568.74 1121.45 Q1565.27 1124.53 1558.95 1124.53 Q1556.77 1124.53 1554.51 1124.16 Q1552.26 1123.79 1549.85 1123.05 L1549.85 1118.35 Q1551.94 1119.48 1554.16 1120.04 Q1556.38 1120.59 1558.86 1120.59 Q1562.86 1120.59 1565.2 1118.49 Q1567.54 1116.38 1567.54 1112.77 Q1567.54 1109.16 1565.2 1107.05 Q1562.86 1104.94 1558.86 1104.94 Q1556.98 1104.94 1555.11 1105.36 Q1553.26 1105.78 1551.31 1106.66 L1551.31 1089.3 Z\" fill=\"#000000\" fill-rule=\"evenodd\" fill-opacity=\"1\" /><path clip-path=\"url(#clip650)\" d=\"M1591.43 1092.38 Q1587.82 1092.38 1585.99 1095.94 Q1584.18 1099.48 1584.18 1106.61 Q1584.18 1113.72 1585.99 1117.28 Q1587.82 1120.82 1591.43 1120.82 Q1595.06 1120.82 1596.87 1117.28 Q1598.7 1113.72 1598.7 1106.61 Q1598.7 1099.48 1596.87 1095.94 Q1595.06 1092.38 1591.43 1092.38 M1591.43 1088.67 Q1597.24 1088.67 1600.29 1093.28 Q1603.37 1097.86 1603.37 1106.61 Q1603.37 1115.34 1600.29 1119.94 Q1597.24 1124.53 1591.43 1124.53 Q1585.62 1124.53 1582.54 1119.94 Q1579.48 1115.34 1579.48 1106.61 Q1579.48 1097.86 1582.54 1093.28 Q1585.62 1088.67 1591.43 1088.67 Z\" fill=\"#000000\" fill-rule=\"evenodd\" fill-opacity=\"1\" /><path clip-path=\"url(#clip650)\" d=\"M1516.03 849.496 Q1512.42 849.496 1510.59 853.061 Q1508.79 856.603 1508.79 863.733 Q1508.79 870.839 1510.59 874.404 Q1512.42 877.945 1516.03 877.945 Q1519.67 877.945 1521.47 874.404 Q1523.3 870.839 1523.3 863.733 Q1523.3 856.603 1521.47 853.061 Q1519.67 849.496 1516.03 849.496 M1516.03 845.793 Q1521.84 845.793 1524.9 850.399 Q1527.98 854.983 1527.98 863.733 Q1527.98 872.459 1524.9 877.066 Q1521.84 881.649 1516.03 881.649 Q1510.22 881.649 1507.14 877.066 Q1504.09 872.459 1504.09 863.733 Q1504.09 854.983 1507.14 850.399 Q1510.22 845.793 1516.03 845.793 Z\" fill=\"#000000\" fill-rule=\"evenodd\" fill-opacity=\"1\" /><path clip-path=\"url(#clip650)\" d=\"M1536.2 875.098 L1541.08 875.098 L1541.08 880.978 L1536.2 880.978 L1536.2 875.098 Z\" fill=\"#000000\" fill-rule=\"evenodd\" fill-opacity=\"1\" /><path clip-path=\"url(#clip650)\" d=\"M1550.08 846.418 L1572.31 846.418 L1572.31 848.409 L1559.76 880.978 L1554.88 880.978 L1566.68 850.353 L1550.08 850.353 L1550.08 846.418 Z\" fill=\"#000000\" fill-rule=\"evenodd\" fill-opacity=\"1\" /><path clip-path=\"url(#clip650)\" d=\"M1581.47 846.418 L1599.83 846.418 L1599.83 850.353 L1585.76 850.353 L1585.76 858.825 Q1586.77 858.478 1587.79 858.316 Q1588.81 858.131 1589.83 858.131 Q1595.62 858.131 1599 861.302 Q1602.38 864.473 1602.38 869.89 Q1602.38 875.469 1598.9 878.57 Q1595.43 881.649 1589.11 881.649 Q1586.94 881.649 1584.67 881.279 Q1582.42 880.908 1580.01 880.168 L1580.01 875.469 Q1582.1 876.603 1584.32 877.158 Q1586.54 877.714 1589.02 877.714 Q1593.02 877.714 1595.36 875.607 Q1597.7 873.501 1597.7 869.89 Q1597.7 866.279 1595.36 864.172 Q1593.02 862.066 1589.02 862.066 Q1587.14 862.066 1585.27 862.483 Q1583.42 862.899 1581.47 863.779 L1581.47 846.418 Z\" fill=\"#000000\" fill-rule=\"evenodd\" fill-opacity=\"1\" /><path clip-path=\"url(#clip650)\" d=\"M1504.76 634.164 L1512.4 634.164 L1512.4 607.798 L1504.09 609.465 L1504.09 605.206 L1512.35 603.539 L1517.03 603.539 L1517.03 634.164 L1524.67 634.164 L1524.67 638.099 L1504.76 638.099 L1504.76 634.164 Z\" fill=\"#000000\" fill-rule=\"evenodd\" fill-opacity=\"1\" /><path clip-path=\"url(#clip650)\" d=\"M1534.11 632.219 L1539 632.219 L1539 638.099 L1534.11 638.099 L1534.11 632.219 Z\" fill=\"#000000\" fill-rule=\"evenodd\" fill-opacity=\"1\" /><path clip-path=\"url(#clip650)\" d=\"M1559.18 606.618 Q1555.57 606.618 1553.74 610.182 Q1551.94 613.724 1551.94 620.854 Q1551.94 627.96 1553.74 631.525 Q1555.57 635.067 1559.18 635.067 Q1562.82 635.067 1564.62 631.525 Q1566.45 627.96 1566.45 620.854 Q1566.45 613.724 1564.62 610.182 Q1562.82 606.618 1559.18 606.618 M1559.18 602.914 Q1564.99 602.914 1568.05 607.52 Q1571.13 612.104 1571.13 620.854 Q1571.13 629.581 1568.05 634.187 Q1564.99 638.77 1559.18 638.77 Q1553.37 638.77 1550.29 634.187 Q1547.24 629.581 1547.24 620.854 Q1547.24 612.104 1550.29 607.52 Q1553.37 602.914 1559.18 602.914 Z\" fill=\"#000000\" fill-rule=\"evenodd\" fill-opacity=\"1\" /><path clip-path=\"url(#clip650)\" d=\"M1589.34 606.618 Q1585.73 606.618 1583.9 610.182 Q1582.1 613.724 1582.1 620.854 Q1582.1 627.96 1583.9 631.525 Q1585.73 635.067 1589.34 635.067 Q1592.98 635.067 1594.78 631.525 Q1596.61 627.96 1596.61 620.854 Q1596.61 613.724 1594.78 610.182 Q1592.98 606.618 1589.34 606.618 M1589.34 602.914 Q1595.15 602.914 1598.21 607.52 Q1601.29 612.104 1601.29 620.854 Q1601.29 629.581 1598.21 634.187 Q1595.15 638.77 1589.34 638.77 Q1583.53 638.77 1580.45 634.187 Q1577.4 629.581 1577.4 620.854 Q1577.4 612.104 1580.45 607.52 Q1583.53 602.914 1589.34 602.914 Z\" fill=\"#000000\" fill-rule=\"evenodd\" fill-opacity=\"1\" /><polyline clip-path=\"url(#clip650)\" style=\"stroke:#000000; stroke-linecap:butt; stroke-linejoin:round; stroke-width:4; stroke-opacity:1; fill:none\" points=\"\n",
       "  1426.09,2567.48 1426.09,2567.48 1478.09,2567.48 1426.09,2567.48 1426.09,2324.6 1478.09,2324.6 1426.09,2324.6 1426.09,2081.72 1478.09,2081.72 1426.09,2081.72 \n",
       "  1426.09,1838.84 1478.09,1838.84 1426.09,1838.84 1426.09,1595.96 1478.09,1595.96 1426.09,1595.96 1426.09,1353.08 1478.09,1353.08 1426.09,1353.08 1426.09,1110.21 \n",
       "  1478.09,1110.21 1426.09,1110.21 1426.09,867.327 1478.09,867.327 1426.09,867.327 1426.09,624.448 1478.09,624.448 1426.09,624.448 \n",
       "  \"/>\n",
       "<path clip-path=\"url(#clip650)\" d=\"\n",
       "M1900.29 2567.48 L2899.42 2567.48 L2899.42 624.448 L1900.29 624.448  Z\n",
       "  \" fill=\"#ffffff\" fill-rule=\"evenodd\" fill-opacity=\"1\"/>\n",
       "<defs>\n",
       "  <clipPath id=\"clip654\">\n",
       "    <rect x=\"1900\" y=\"624\" width=\"1000\" height=\"1944\"/>\n",
       "  </clipPath>\n",
       "</defs>\n",
       "<path clip-path=\"url(#clip650)\" d=\"M2286.33 43.8146 L2260.53 43.8146 Q2261.13 55.9268 2263.93 61.0714 Q2267.41 67.3908 2273.45 67.3908 Q2279.53 67.3908 2282.89 61.0309 Q2285.84 55.4407 2286.33 43.8146 M2286.21 36.928 Q2285.08 25.4235 2282.89 21.3726 Q2279.4 14.9721 2273.45 14.9721 Q2267.25 14.9721 2263.97 21.2916 Q2261.38 26.3957 2260.61 36.928 L2286.21 36.928 M2273.45 8.89579 Q2283.17 8.89579 2288.72 17.4837 Q2294.27 26.0311 2294.27 41.1815 Q2294.27 56.2914 2288.72 64.8793 Q2283.17 73.5077 2273.45 73.5077 Q2263.69 73.5077 2258.18 64.8793 Q2252.63 56.2914 2252.63 41.1815 Q2252.63 26.0311 2258.18 17.4837 Q2263.69 8.89579 2273.45 8.89579 Z\" fill=\"#000000\" fill-rule=\"evenodd\" fill-opacity=\"1\" /><path clip-path=\"url(#clip650)\" d=\"M2333.97 34.9026 L2385.9 34.9026 L2385.9 41.7081 L2333.97 41.7081 L2333.97 34.9026 M2333.97 51.4303 L2385.9 51.4303 L2385.9 58.3168 L2333.97 58.3168 L2333.97 51.4303 Z\" fill=\"#000000\" fill-rule=\"evenodd\" fill-opacity=\"1\" /><path clip-path=\"url(#clip650)\" d=\"M2424.06 27.2059 L2467.53 27.2059 L2467.53 34.6595 L2461.82 34.6595 L2461.82 62.5298 Q2461.82 65.4464 2462.79 66.7427 Q2463.8 67.9985 2466.03 67.9985 Q2466.64 67.9985 2467.53 67.9175 Q2468.42 67.7959 2468.7 67.7554 L2468.7 73.1431 Q2467.28 73.6697 2465.79 73.9128 Q2464.29 74.1559 2462.79 74.1559 Q2457.93 74.1559 2456.06 71.5228 Q2454.2 68.8492 2454.2 61.7196 L2454.2 34.6595 L2437.47 34.6595 L2437.47 72.576 L2429.85 72.576 L2429.85 34.6595 L2424.06 34.6595 L2424.06 27.2059 Z\" fill=\"#000000\" fill-rule=\"evenodd\" fill-opacity=\"1\" /><path clip-path=\"url(#clip650)\" d=\"M2492.08 12.096 L2498.96 12.096 L2477.9 80.2727 L2471.01 80.2727 L2492.08 12.096 Z\" fill=\"#000000\" fill-rule=\"evenodd\" fill-opacity=\"1\" /><path clip-path=\"url(#clip650)\" d=\"M2530.32 19.2256 L2509.66 51.5113 L2530.32 51.5113 L2530.32 19.2256 M2528.17 12.096 L2538.46 12.096 L2538.46 51.5113 L2547.09 51.5113 L2547.09 58.3168 L2538.46 58.3168 L2538.46 72.576 L2530.32 72.576 L2530.32 58.3168 L2503.01 58.3168 L2503.01 50.4176 L2528.17 12.096 Z\" fill=\"#000000\" fill-rule=\"evenodd\" fill-opacity=\"1\" /><g clip-path=\"url(#clip654)\">\n",
       "<image width=\"999\" height=\"999\" xlink:href=\"data:image/png;base64,\n",
       "iVBORw0KGgoAAAANSUhEUgAAA+cAAAPnCAYAAABN/j28AAAYVElEQVR4nO3ZT26NYRyGYR+noprU\n",
       "hKkN2IKFsBCrEesgkViBRIwZkGDy5gyQIv33mTTxzUiauk97rmsFz/C939/04vGn+Rob49WjJ/UE\n",
       "AAAA/rPr9QAAAADYduIcAAAAYuIcAAAAYuIcAAAAYuIcAAAAYuIcAAAAYuIcAAAAYuIcAAAAYuIc\n",
       "AAAAYuIcAAAAYuIcAAAAYuIcAAAAYuIcAAAAYuIcAAAAYuIcAAAAYuIcAAAAYuIcAAAAYuIcAAAA\n",
       "YuIcAAAAYuIcAAAAYuIcAAAAYuIcAAAAYuIcAAAAYuIcAAAAYuIcAAAAYuIcAAAAYuIcAAAAYuIc\n",
       "AAAAYuIcAAAAYuIcAAAAYuIcAAAAYuIcAAAAYuIcAAAAYuIcAAAAYuIcAAAAYuIcAAAAYuIcAAAA\n",
       "YuIcAAAAYuIcAAAAYuIcAAAAYuIcAAAAYuIcAAAAYuIcAAAAYuIcAAAAYuIcAAAAYuIcAAAAYuIc\n",
       "AAAAYuIcAAAAYuIcAAAAYuIcAAAAYuIcAAAAYuIcAAAAYuIcAAAAYuIcAAAAYuIcAAAAYuIcAAAA\n",
       "YuIcAAAAYuIcAAAAYuIcAAAAYuIcAAAAYuIcAAAAYuIcAAAAYuIcAAAAYuIcAAAAYuIcAAAAYuIc\n",
       "AAAAYuIcAAAAYuIcAAAAYuIcAAAAYuIcAAAAYuIcAAAAYuIcAAAAYuIcAAAAYuIcAAAAYuIcAAAA\n",
       "YuIcAAAAYuIcAAAAYuIcAAAAYuIcAAAAYuIcAAAAYuIcAAAAYuIcAAAAYuIcAAAAYuIcAAAAYuIc\n",
       "AAAAYuIcAAAAYuIcAAAAYuIcAAAAYuIcAAAAYuIcAAAAYuIcAAAAYuIcAAAAYuIcAAAAYuIcAAAA\n",
       "YuIcAAAAYuIcAAAAYuIcAAAAYuIcAAAAYuIcAAAAYtMYY65H8MfHZ6f1BBbePHxaTwAAALaAyzkA\n",
       "AADExDkAAADExDkAAADExDkAAADExDkAAADExDkAAADExDkAAADExDkAAADExDkAAADExDkAAADE\n",
       "xDkAAADExDkAAADExDkAAADExDkAAADExDkAAADExDkAAADExDkAAADExDkAAADExDkAAADExDkA\n",
       "AADExDkAAADExDkAAADExDkAAADExDkAAADExDkAAADExDkAAADExDkAAADExDkAAADExDkAAADE\n",
       "xDkAAADExDkAAADExDkAAADExDkAAADExDkAAADExDkAAADExDkAAADExDkAAADExDkAAADExDkA\n",
       "AADExDkAAADExDkAAADExDkAAADExDkAAADExDkAAADExDkAAADExDkAAADExDkAAADExDkAAADE\n",
       "xDkAAADExDkAAADExDkAAADExDkAAADExDkAAADExDkAAADExDkAAADExDkAAADExDkAAADExDkA\n",
       "AADExDkAAADExDkAAADExDkAAADExDkAAADExDkAAADExDkAAADExDkAAADExDkAAADExDkAAADE\n",
       "xDkAAADExDkAAADExDkAAADExDkAAADExDkAAADExDkAAADExDkAAADExDkAAADExDkAAADExDkA\n",
       "AADExDkAAADExDkAAADExDkAAADExDkAAADExDkAAADExDkAAADExDkAAADExDkAAADExDkAAADE\n",
       "xDkAAADExDkAAADExDkAAADExDkAAADExDkAAADExDkAAADExDkAAADExDkAAADExDkAAADExDkA\n",
       "AADExDkAAADExDkAAADExDkAAADEpjHGXI+ATbV+OdUTWHj/4Hk9AQAALoTLOQAAAMTEOQAAAMTE\n",
       "OQAAAMTEOQAAAMTEOQAAAMTEOQAAAMTEOQAAAMTEOQAAAMTEOQAAAMTEOQAAAMTEOQAAAMTEOQAA\n",
       "AMTEOQAAAMTEOQAAAMTEOQAAAMTEOQAAAMTEOQAAAMTEOQAAAMTEOQAAAMTEOQAAAMTEOQAAAMTE\n",
       "OQAAAMTEOQAAAMTEOQAAAMTEOQAAAMTEOQAAAMTEOQAAAMTEOQAAAMTEOQAAAMTEOQAAAMTEOQAA\n",
       "AMTEOQAAAMTEOQAAAMTEOQAAAMTEOQAAAMTEOQAAAMTEOQAAAMTEOQAAAMTEOQAAAMTEOQAAAMTE\n",
       "OQAAAMTEOQAAAMTEOQAAAMTEOQAAAMTEOQAAAMTEOQAAAMTEOQAAAMTEOQAAAMTEOQAAAMTEOQAA\n",
       "AMTEOQAAAMTEOQAAAMTEOQAAAMTEOQAAAMTEOQAAAMTEOQAAAMTEOQAAAMTEOQAAAMTEOQAAAMTE\n",
       "OQAAAMTEOQAAAMTEOQAAAMTEOQAAAMTEOQAAAMTEOQAAAMTEOQAAAMTEOQAAAMTEOQAAAMTEOQAA\n",
       "AMTEOQAAAMTEOQAAAMTEOQAAAMTEOQAAAMTEOQAAAMTEOQAAAMTEOQAAAMTEOQAAAMTEOQAAAMTE\n",
       "OQAAAMTEOQAAAMTEOQAAAMTEOQAAAMTEOQAAAMTEOQAAAMTEOQAAAMTEOQAAAMTEOQAAAMTEOQAA\n",
       "AMTEOQAAAMTEOQAAAMTEOQAAAMTEOQAAAMTEOQAAAMTEOQAAAMTEOQAAAMTEOQAAAMTEOQAAAMTE\n",
       "OQAAAMTEOQAAAMSmMcZcjwD4Fwdv/Sduki/3X9cTAACuDC9dAAAAiIlzAAAAiIlzAAAAiIlzAAAA\n",
       "iIlzAAAAiIlzAAAAiIlzAAAAiIlzAAAAiIlzAAAAiIlzAAAAiIlzAAAAiIlzAAAAiIlzAAAAiIlz\n",
       "AAAAiIlzAAAAiIlzAAAAiIlzAAAAiIlzAAAAiIlzAAAAiIlzAAAAiIlzAAAAiIlzAAAAiIlzAAAA\n",
       "iIlzAAAAiIlzAAAAiIlzAAAAiIlzAAAAiIlzAAAAiIlzAAAAiIlzAAAAiIlzAAAAiIlzAAAAiIlz\n",
       "AAAAiIlzAAAAiIlzAAAAiIlzAAAAiIlzAAAAiIlzAAAAiIlzAAAAiIlzAAAAiIlzAAAAiIlzAAAA\n",
       "iIlzAAAAiIlzAAAAiIlzAAAAiIlzAAAAiIlzAAAAiIlzAAAAiIlzAAAAiIlzAAAAiIlzAAAAiIlz\n",
       "AAAAiIlzAAAAiIlzAAAAiIlzAAAAiIlzAAAAiIlzAAAAiIlzAAAAiIlzAAAAiIlzAAAAiIlzAAAA\n",
       "iIlzAAAAiIlzAAAAiIlzAAAAiIlzAAAAiIlzAAAAiIlzAAAAiIlzAAAAiIlzAAAAiIlzAAAAiIlz\n",
       "AAAAiIlzAAAAiIlzAAAAiIlzAAAAiIlzAAAAiIlzAAAAiIlzAAAAiIlzAAAAiIlzAAAAiIlzAAAA\n",
       "iIlzAAAAiIlzAAAAiIlzAAAAiIlzAAAAiIlzAAAAiIlzAAAAiIlzAAAAiIlzAAAAiIlzAAAAiIlz\n",
       "AAAAiIlzAAAAiIlzAAAAiIlzAAAAiIlzAAAAiIlzAAAAiIlzAAAAiIlzAAAAiIlzAAAAiIlzAAAA\n",
       "iE1jjLkeAcDlc/jhRj2BhfW9d/UEAOAcXM4BAAAgJs4BAAAgJs4BAAAgJs4BAAAgJs4BAAAgJs4B\n",
       "AAAgJs4BAAAgJs4BAAAgJs4BAAAgJs4BAAAgJs4BAAAgJs4BAAAgJs4BAAAgJs4BAAAgJs4BAAAg\n",
       "Js4BAAAgJs4BAAAgJs4BAAAgJs4BAAAgJs4BAAAgJs4BAAAgJs4BAAAgJs4BAAAgJs4BAAAgJs4B\n",
       "AAAgJs4BAAAgJs4BAAAgJs4BAAAgJs4BAAAgJs4BAAAgJs4BAAAgJs4BAAAgJs4BAAAgJs4BAAAg\n",
       "Js4BAAAgJs4BAAAgJs4BAAAgJs4BAAAgJs4BAAAgJs4BAAAgJs4BAAAgJs4BAAAgJs4BAAAgJs4B\n",
       "AAAgJs4BAAAgJs4BAAAgJs4BAAAgJs4BAAAgJs4BAAAgJs4BAAAgJs4BAAAgJs4BAAAgJs4BAAAg\n",
       "Js4BAAAgJs4BAAAgJs4BAAAgJs4BAAAgJs4BAAAgJs4BAAAgJs4BAAAgJs4BAAAgJs4BAAAgJs4B\n",
       "AAAgJs4BAAAgJs4BAAAgJs4BAAAgJs4BAAAgJs4BAAAgJs4BAAAgJs4BAAAgJs4BAAAgJs4BAAAg\n",
       "Js4BAAAgJs4BAAAgJs4BAAAgJs4BAAAgJs4BAAAgJs4BAAAgJs4BAAAgJs4BAAAgJs4BAAAgJs4B\n",
       "AAAgJs4BAAAgJs4BAAAgJs4BAAAgJs4BAAAgJs4BAAAgJs4BAAAgJs4BAAAgJs4BAAAgJs4BAAAg\n",
       "Js4BAAAgJs4BAAAgJs4BAAAgJs4BAAAgJs4BAAAgJs4BAAAgJs4BAAAgJs4BAAAgNo0x5noEAHA+\n",
       "J2NVT2Dh+53P9QQALhmXcwAAAIiJcwAAAIiJcwAAAIiJcwAAAIiJcwAAAIiJcwAAAIiJcwAAAIiJ\n",
       "cwAAAIiJcwAAAIiJcwAAAIiJcwAAAIiJcwAAAIiJcwAAAIiJcwAAAIiJcwAAAIiJcwAAAIiJcwAA\n",
       "AIiJcwAAAIiJcwAAAIiJcwAAAIiJcwAAAIiJcwAAAIiJcwAAAIiJcwAAAIiJcwAAAIiJcwAAAIiJ\n",
       "cwAAAIiJcwAAAIiJcwAAAIiJcwAAAIiJcwAAAIiJcwAAAIiJcwAAAIiJcwAAAIiJcwAAAIiJcwAA\n",
       "AIiJcwAAAIiJcwAAAIiJcwAAAIiJcwAAAIiJcwAAAIiJcwAAAIiJcwAAAIiJcwAAAIiJcwAAAIiJ\n",
       "cwAAAIiJcwAAAIiJcwAAAIiJcwAAAIiJcwAAAIiJcwAAAIiJcwAAAIiJcwAAAIiJcwAAAIiJcwAA\n",
       "AIiJcwAAAIiJcwAAAIiJcwAAAIiJcwAAAIiJcwAAAIiJcwAAAIiJcwAAAIiJcwAAAIiJcwAAAIiJ\n",
       "cwAAAIiJcwAAAIiJcwAAAIiJcwAAAIiJcwAAAIiJcwAAAIiJcwAAAIiJcwAAAIiJcwAAAIiJcwAA\n",
       "AIiJcwAAAIiJcwAAAIiJcwAAAIiJcwAAAIiJcwAAAIiJcwAAAIiJcwAAAIiJcwAAAIiJcwAAAIiJ\n",
       "cwAAAIiJcwAAAIiJcwAAAIiJcwAAAIiJcwAAAIiJcwAAAIiJcwAAAIiJcwAAAIiJcwAAAIiJcwAA\n",
       "AIiJcwAAAIiJcwAAAIiJcwAAAIiJcwAAAIiJcwAAAIiJcwAAAIhNY4y5HgEAcKV8W9ULWPixt64n\n",
       "APyVyzkAAADExDkAAADExDkAAADExDkAAADExDkAAADExDkAAADExDkAAADExDkAAADExDkAAADE\n",
       "xDkAAADExDkAAADExDkAAADExDkAAADExDkAAADExDkAAADExDkAAADExDkAAADExDkAAADExDkA\n",
       "AADExDkAAADExDkAAADExDkAAADExDkAAADExDkAAADExDkAAADExDkAAADExDkAAADExDkAAADE\n",
       "xDkAAADExDkAAADExDkAAADExDkAAADExDkAAADExDkAAADExDkAAADExDkAAADExDkAAADExDkA\n",
       "AADExDkAAADExDkAAADExDkAAADExDkAAADExDkAAADExDkAAADExDkAAADExDkAAADExDkAAADE\n",
       "xDkAAADExDkAAADExDkAAADExDkAAADExDkAAADExDkAAADExDkAAADExDkAAADExDkAAADExDkA\n",
       "AADExDkAAADExDkAAADExDkAAADExDkAAADExDkAAADExDkAAADExDkAAADExDkAAADExDkAAADE\n",
       "xDkAAADExDkAAADExDkAAADExDkAAADExDkAAADExDkAAADExDkAAADExDkAAADExDkAAADExDkA\n",
       "AADExDkAAADExDkAAADExDkAAADExDkAAADExDkAAADExDkAAADExDkAAADExDkAAADExDkAAADE\n",
       "xDkAAADExDkAAADExDkAAADExDkAAADExDkAAADExDkAAADExDkAAADExDkAAADExDkAAADExDkA\n",
       "AADExDkAAADExDkAAADExDkAAADExDkAAADEVvUAAIArZ/+4XsDC3s+79QQWft36Wk+AjeRyDgAA\n",
       "ADFxDgAAADFxDgAAADFxDgAAADFxDgAAADFxDgAAADFxDgAAADFxDgAAADFxDgAAADFxDgAAADFx\n",
       "DgAAADFxDgAAADFxDgAAADFxDgAAADFxDgAAADFxDgAAADFxDgAAADFxDgAAADFxDgAAADFxDgAA\n",
       "ADFxDgAAADFxDgAAADFxDgAAADFxDgAAADFxDgAAADFxDgAAADFxDgAAADFxDgAAADFxDgAAADFx\n",
       "DgAAADFxDgAAADFxDgAAADFxDgAAADFxDgAAADFxDgAAADFxDgAAADFxDgAAADFxDgAAADFxDgAA\n",
       "ADFxDgAAADFxDgAAADFxDgAAADFxDgAAADFxDgAAADFxDgAAADFxDgAAADFxDgAAADFxDgAAADFx\n",
       "DgAAADFxDgAAADFxDgAAADFxDgAAADFxDgAAADFxDgAAADFxDgAAADFxDgAAADFxDgAAADFxDgAA\n",
       "ADFxDgAAADFxDgAAADFxDgAAADFxDgAAADFxDgAAADFxDgAAADFxDgAAADFxDgAAADFxDgAAADFx\n",
       "DgAAADFxDgAAADFxDgAAADFxDgAAADFxDgAAADFxDgAAADFxDgAAADFxDgAAADFxDgAAADFxDgAA\n",
       "ADFxDgAAADFxDgAAADFxDgAAADFxDgAAADFxDgAAADFxDgAAADFxDgAAADFxDgAAADFxDgAAADFx\n",
       "DgAAADFxDgAAADFxDgAAADFxDgAAADFxDgAAADFxDgAAADFxDgAAADFxDgAAADFxDgAAADFxDgAA\n",
       "ADFxDgAAADFxDgAAADFxDgAAALFVPQAAAC7SvHtUT2Bh92i/nsDC4c5BPYEzLucAAAAQE+cAAAAQ\n",
       "E+cAAAAQE+cAAAAQE+cAAAAQE+cAAAAQE+cAAAAQE+cAAAAQE+cAAAAQE+cAAAAQE+cAAAAQE+cA\n",
       "AAAQE+cAAAAQE+cAAAAQE+cAAAAQE+cAAAAQE+cAAAAQE+cAAAAQE+cAAAAQE+cAAAAQE+cAAAAQ\n",
       "E+cAAAAQE+cAAAAQE+cAAAAQE+cAAAAQE+cAAAAQE+cAAAAQE+cAAAAQE+cAAAAQE+cAAAAQE+cA\n",
       "AAAQE+cAAAAQE+cAAAAQE+cAAAAQE+cAAAAQE+cAAAAQE+cAAAAQE+cAAAAQE+cAAAAQE+cAAAAQ\n",
       "E+cAAAAQE+cAAAAQE+cAAAAQE+cAAAAQE+cAAAAQE+cAAAAQE+cAAAAQE+cAAAAQE+cAAAAQE+cA\n",
       "AAAQE+cAAAAQE+cAAAAQE+cAAAAQE+cAAAAQE+cAAAAQE+cAAAAQE+cAAAAQE+cAAAAQE+cAAAAQ\n",
       "E+cAAAAQE+cAAAAQE+cAAAAQE+cAAAAQE+cAAAAQE+cAAAAQE+cAAAAQE+cAAAAQE+cAAAAQE+cA\n",
       "AAAQE+cAAAAQE+cAAAAQE+cAAAAQE+cAAAAQE+cAAAAQE+cAAAAQE+cAAAAQE+cAAAAQE+cAAAAQ\n",
       "E+cAAAAQE+cAAAAQE+cAAAAQE+cAAAAQE+cAAAAQE+cAAAAQE+cAAAAQE+cAAAAQE+cAAAAQE+cA\n",
       "AAAQE+cAAAAQE+cAAAAQE+cAAAAQE+cAAAAQE+cAAAAQE+cAAAAQE+cAAAAQE+cAAAAQE+cAAAAQ\n",
       "E+cAAAAQE+cAAAAQW9UDAACA7XG6c1xPYOHmye16AmdczgEAACAmzgEAACAmzgEAACAmzgEAACAm\n",
       "zgEAACAmzgEAACAmzgEAACAmzgEAACAmzgEAACAmzgEAACAmzgEAACAmzgEAACAmzgEAACAmzgEA\n",
       "ACAmzgEAACAmzgEAACAmzgEAACAmzgEAACAmzgEAACAmzgEAACAmzgEAACAmzgEAACAmzgEAACAm\n",
       "zgEAACAmzgEAACAmzgEAACAmzgEAACAmzgEAACAmzgEAACAmzgEAACAmzgEAACAmzgEAACAmzgEA\n",
       "ACAmzgEAACAmzgEAACAmzgEAACAmzgEAACAmzgEAACAmzgEAACAmzgEAACAmzgEAACAmzgEAACAm\n",
       "zgEAACAmzgEAACAmzgEAACAmzgEAACAmzgEAACAmzgEAACAmzgEAACAmzgEAACAmzgEAACAmzgEA\n",
       "ACAmzgEAACAmzgEAACAmzgEAACAmzgEAACAmzgEAACAmzgEAACAmzgEAACAmzgEAACAmzgEAACAm\n",
       "zgEAACAmzgEAACAmzgEAACAmzgEAACAmzgEAACAmzgEAACAmzgEAACAmzgEAACAmzgEAACAmzgEA\n",
       "ACAmzgEAACAmzgEAACAmzgEAACAmzgEAACAmzgEAACAmzgEAACAmzgEAACAmzgEAACAmzgEAACAm\n",
       "zgEAACAmzgEAACAmzgEAACAmzgEAACAmzgEAACAmzgEAACAmzgEAACAmzgEAACAmzgEAACAmzgEA\n",
       "ACAmzgEAACAmzgEAACAmzgEAACAmzgEAACAmzgEAACAmzgEAACAmzgEAACAmzgEAACD2G4AxRIWk\n",
       "UqgLAAAAAElFTkSuQmCC\n",
       "\" transform=\"translate(1900, 1096)\"/>\n",
       "</g>\n",
       "<defs>\n",
       "  <clipPath id=\"clip655\">\n",
       "    <rect x=\"3003\" y=\"624\" width=\"157\" height=\"1944\"/>\n",
       "  </clipPath>\n",
       "</defs>\n",
       "<g clip-path=\"url(#clip655)\">\n",
       "<image width=\"156\" height=\"1943\" xlink:href=\"data:image/png;base64,\n",
       "iVBORw0KGgoAAAANSUhEUgAAAJwAAAeXCAYAAAAl2AwAAAAUmUlEQVR4nO3dsZEkNwAEwcFHO0lL\n",
       "6RDdeIBe1AmXacEKFS1MANjz7z//vQ8if376B/C7CI6U4EgJjpTgSAmOlOBI7Zyf/gn8JhaOlOBI\n",
       "CY6U4EgJjpTgSAmO1D7f4QhZOFKCIyU4UoIjJThSgiO1IzlCciMlOFKCIyU4UoIjJThSgiPleBIp\n",
       "C0dKcKQER0pwpARHSnCkvJ5EysKREhwpwZESHCnBkRIcKcGRmuQoyY2U4EgJjpTgSAmOlOBICY7U\n",
       "jgNxhCwcKcGREhwpwZESHCnBkXJNkJSFIyU4UoIjJThSgiMlOFKCI+UVc1IWjpTgSAmOlOBICY6U\n",
       "4EjtSI6Q3EgJjpTgSAmOlOBICY6U4Eg5nkTKwpESHCnBkRIcKcGREhwpwZHyXBcpC0dKcKQER0pw\n",
       "pARHSnCkJjlKciMlOFKCIyU4UoIjJThSgiO143wSIQtHSnCkBEdKcKQER0pwpLyeRMrCkRIcKcGR\n",
       "EhwpwZESHCnBkfJ6EikLR0pwpARHSnCkBEdKcKQER2pHcoTkRkpwpARHSnCkBEdKcKRcEyRl4UgJ\n",
       "jpTgSAmOlOBICY6U4Ei5JkjKwpESHCnBkRIcKcGREhwpx5NIWThSgiMlOFKCIyU4UoIjJThSjieR\n",
       "snCkBEdKcKQER0pwpARHapKjJDdSgiMlOFKCIyU4UoIjJThSO84nEbJwpARHSnCkBEdKcKQER0pw\n",
       "pDzXRcrCkRIcKcGREhwpwZESHCmvJ5GycKQER0pwpARHSnCkBEdKcKQ810VKbqQER0pwpARHSnCk\n",
       "BEfK8SRSFo6U4EgJjpTgSAmOlOBICY6U15NIWThSgiMlOFKCIyU4UoIjJThSzsORsnCkBEdKcKQE\n",
       "R0pwpARHyvEkUhaOlOBICY6U4EgJjpTgSAmO1M4fH+LoWDhSgiMlOFKCIyU4UoIj5XgSKQtHSnCk\n",
       "BEdKcKQER0pwpARHyutJpCwcKcGREhwpwZESHCnBkRIcKefhSFk4UoIjJThSgiMlOFKCI+V4EikL\n",
       "R0pwpARHSnCkBEdKcKQER2qSoyQ3UoIjJThSgiMlOFKCI+V4EikLR0pwpARHSnCkBEdKcKQER8rr\n",
       "SaQsHCnBkRIcKcGREhwpwZESHCnn4UhZOFKCIyU4UoIjJThSgiO1z3cRQhaOlOBICY6U4EgJjpTg\n",
       "SAmOlONJpCwcKcGREhwpwZESHCnBkfLnbqTkRkpwpARHSnCkBEdKcKQER8rxJFIWjpTgSAmOlOBI\n",
       "CY6U4Ej5czdSFo6U4EgJjpTgSAmOlOBICY6U40mkLBwpwZESHCnBkRIcKcGREhwp5+FIWThSgiMl\n",
       "OFKCIyU4UoIjtSM5QnIjJThSgiMlOFKCIyU4UoIj5XgSKQtHSnCkBEdKcKQER0pwpHY8n0TIwpES\n",
       "HCnBkRIcKcGREhwpwZFyPImUhSMlOFKCIyU4UoIjJThSgiPl3wRJWThSgiMlOFKCIyU4UoIj5XgS\n",
       "KQtHSnCkBEdKcKQER0pwpARHyr8JkpIbKcGREhwpwZESHCnBkXI8iZSFIyU4UoIjJThSgiMlOFKC\n",
       "I+U7HCkLR0pwpARHSnCkBEdKcKQER8or5qQsHCnBkRIcKcGREhwpwZFyPImUhSMlOFKCIyU4UoIj\n",
       "JThSgiPleBIpC0dKcKQER0pwpARHSnCk9vkuQsjCkRIcKcGREhwpwZESHCnBkdqRHCG5kRIcKcGR\n",
       "EhwpwZESHCmvJ5GycKQER0pwpARHSnCkBEdKcKS8nkTKwpESHCnBkRIcKcGREhwpwZFyHo6UhSMl\n",
       "OFKCIyU4UoIjJThSPouQsnCkBEdKcKQER0pwpARHSnCkXBMkZeFICY6U4EgJjpTgSAmO1CRHSW6k\n",
       "BEdKcKQER0pwpARHSnCkHE8iZeFICY6U4EgJjpTgSAmOlOBIea6LlIUjJThSgiMlOFKCIyU4UjvO\n",
       "JxGycKQER0pwpARHSnCkBEdKcKQcTyJl4UgJjpTgSAmOlOBICY6U15NIWThSgiMlOFKCIyU4UoIj\n",
       "JThSjieRsnCkBEdKcKQER0pwpARHSnCkJjlKciMlOFKCIyU4UoIjJThSrgmSsnCkBEdKcKQER0pw\n",
       "pARHSnCkXBMkZeFICY6U4EgJjpTgSAmOlONJpCwcKcGREhwpwZESHCnBkRIcKceTSFk4UoIjJThS\n",
       "giMlOFKCIyU4Ur7DkbJwpARHSnCkBEdKcKQER2pHcoTkRkpwpARHSnCkBEdKcKQER2qf97oIWThS\n",
       "giMlOFKCIyU4UoIj5RVzUhaOlOBICY6U4EgJjpTgSAmOlNeTSFk4UoIjJThSgiMlOFKCI+V4EikL\n",
       "R0pwpARHSnCkBEdKcKQER8rxJFIWjpTgSAmOlOBICY6U4EgJjpTvcKQsHCnBkRIcKcGREhwpwZHa\n",
       "kRwhuZESHCnBkRIcKcGREhwpwZFyPImUhSMlOFKCIyU4UoIjJThSXjEnZeFICY6U4EgJjpTgSAmO\n",
       "lOBIOZ5EysKREhwpwZESHCnBkRIcKcGR8h2OlIUjJThSgiMlOFKCIyU4Uq4JkrJwpARHSnCkBEdK\n",
       "cKQER0pwpPb5EEfIwpESHCnBkRIcKcGREhypHckRkhspwZESHCnBkRIcKcGREhwpryeRsnCkBEdK\n",
       "cKQER0pwpARHSnCkfIcjZeFICY6U4EgJjpTgSAmOlFfMSVk4UoIjJThSgiMlOFKCIyU4Uo4nkbJw\n",
       "pARHSnCkBEdKcKQER8pnEVIWjpTgSAmOlOBICY6U4EgJjpRrgqQsHCnBkRIcKcGREhwpwZGa5CjJ\n",
       "jZTgSAmOlOBICY6U4EgJjpTjSaQsHCnBkRIcKcGREhwpwZESHCnPdZGycKQER0pwpARHSnCkBEfK\n",
       "ZxFSFo6U4EgJjpTgSAmOlOBICY7UjnuChCwcKcGREhwpwZESHCnBkXI8iZSFIyU4UoIjJThSgiMl\n",
       "OFKCI+U7HCkLR0pwpARHSnCkBEdKcKQER2pHcoTkRkpwpARHSnCkBEdKcKQcTyJl4UgJjpTgSAmO\n",
       "lOBICY6U4Ej5DkfKwpESHCnBkRIcKcGREhyp+W83ShaOlOBICY6U4EgJjpTgSAmOlONJpCwcKcGR\n",
       "EhwpwZESHCnBkRIcKd/hSFk4UoIjJThSgiMlOFKCI+WaICkLR0pwpARHSnCkBEdKcKQER2qSoyQ3\n",
       "UoIjJThSgiMlOFKCI+XWFikLR0pwpARHSnCkBEdKcKQER8o1QVIWjpTgSAmOlOBICY6U4EgJjpTz\n",
       "cKQsHCnBkRIcKcGREhwpwZHyWYSUhSMlOFKCIyU4UoIjJThSgiPlOxwpC0dKcKQER0pwpARHSnCk\n",
       "fBYhZeFICY6U4EgJjpTgSAmOlOBI7Tvvp38Dv4iFIyU4UoIjJThSgiMlOFKCIyU4UoIjJThSgiMl\n",
       "OFKCIyU4Uq4JkrJwpARHSnCkBEdKcKQER0pwpFwTJGXhSAmOlOBICY6U4EgJjtS+z2cROhaOlOBI\n",
       "CY6U4EgJjpTgSAmOlGuCpCwcKcGREhwpwZESHCnBkdpzPImQhSMlOFKCIyU4UoIjJThSgiPlmiAp\n",
       "C0dKcKQER0pwpARHSnCkBEdqzyvmhCwcKcGREhwpwZESHCnBkXJNkJSFIyU4UoIjJThSgiMlOFKC\n",
       "I7X3fIejY+FICY6U4EgJjpTgSAmO1L7v/vRv4BexcKQER0pwpARHSnCkBEdKcKRcEyRl4UgJjpTg\n",
       "SAmOlOBICY6U4Ej5DkfKwpESHCnBkRIcKcGREhyp3eeaIB0LR0pwpARHSnCkBEdKcKQER8rxJFIW\n",
       "jpTgSAmOlOBICY6U4EjtOZ5EyMKREhwpwZESHCnBkRIcKcGR2vNvgoQsHCnBkRIcKcGREhwpwZHa\n",
       "e25t0bFwpARHSnCkBEdKcKQER0pwpHYdTyJk4UgJjpTgSAmOlOBICY6U4Eh5rouUhSMlOFKCIyU4\n",
       "UoIjJThSrgmSsnCkBEdKcKQER0pwpARHSnCkvGJOysKREhwpwZESHCnBkRIcqV23tghZOFKCIyU4\n",
       "UoIjJThSgiMlOFKuCZKycKQER0pwpARHSnCkBEdKcKRcEyRl4UgJjpTgSAmOlOBICY6Ua4KkLBwp\n",
       "wZESHCnBkRIcKcGREhwp1wRJWThSgiMlOFKCIyU4UoIj5dYWKQtHSnCkBEdKcKQER0pwpARHyjVB\n",
       "UhaOlOBICY6U4EgJjpTgSAmO1J7vcIQsHCnBkRIcKcGREhwpwZHa+7yeRMfCkRIcKcGREhwpwZES\n",
       "HCnBkXI8iZSFIyU4UoIjJThSgiMlOFJeTyJl4UgJjpTgSAmOlOBICY6U4Ei5JkjKwpESHCnBkRIc\n",
       "KcGREhwpwZFyTZCUhSMlOFKCIyU4UoIjJThSrgmSsnCkBEdKcKQER0pwpARHSnCk9p5rgnQsHCnB\n",
       "kRIcKcGREhwpwZHa+xxPomPhSAmOlOBICY6U4EgJjpTgSLkmSMrCkRIcKcGREhwpwZESHCm3tkhZ\n",
       "OFKCIyU4UoIjJThSgiMlOFKuCZKycKQER0pwpARHSnCkBEdKcKRcEyRl4UgJjpTgSAmOlOBICY6U\n",
       "a4KkLBwpwZESHCnBkRIcKcGREhwp1wRJWThSgiMlOFKCIyU4UoIj5dYWKQtHSnCkBEdKcKQER0pw\n",
       "pARHyjVBUhaOlOBICY6U4EgJjpTgSAmOlGuCpCwcKcGREhwpwZESHCnBkXJNkJSFIyU4UoIjJThS\n",
       "giMlOFKCI+WaICkLR0pwpARHSnCkBEdKcKT2HE8iZOFICY6U4EgJjpTgSAmOlOBI7Xo9iZCFIyU4\n",
       "UoIjJThSgiMlOFKCI+WaICkLR0pwpARHSnCkBEdKcKRcEyRl4UgJjpTgSAmOlOBICY6U4Ei5JkjK\n",
       "wpESHCnBkRIcKcGREhwpt7ZIWThSgiMlOFKCIyU4UoIjJThSrgmSsnCkBEdKcKQER0pwpARHyq0t\n",
       "UhaOlOBICY6U4EgJjpTgSAmOlGuCpCwcKcGREhwpwZESHCnBkRIcKdcESVk4UoIjJThSgiMlOFKC\n",
       "I7XreBIhC0dKcKQER0pwpARHSnCkBEdqz3NdhCwcKcGREhwpwZESHCnBkXJri5SFIyU4UoIjJThS\n",
       "giMlOFKCI+WaICkLR0pwpARHSnCkBEdKcKQER8o1QVIWjpTgSAmOlOBICY6U4Ei5JkjKwpESHCnB\n",
       "kRIcKcGREhwpwZFyTZCUhSMlOFKCIyU4UoIjJThSbm2RsnCkBEdKcKQER0pwpARHSnCkXBMkZeFI\n",
       "CY6U4EgJjpTgSAmOlOBIuSZIysKREhwpwZESHCnBkRIcKdcESVk4UoIjJThSgiMlOFKCIyU4Uq4J\n",
       "krJwpARHSnCkBEdKcKQER8qtLVIWjpTgSAmOlOBICY6U4EgJjpTjSaQsHCnBkRIcKcGREhwpwZES\n",
       "HKm9z3k4OhaOlOBICY6U4EgJjpTgSO06nkTIwpESHCnBkRIcKcGREhwpwZFyTZCUhSMlOFKCIyU4\n",
       "UoIjJThSu25tEbJwpARHSnCkBEdKcKQER0pwpBxPImXhSAmOlOBICY6U4EgJjpTPIqQsHCnBkRIc\n",
       "KcGREhwpwZESHCnXBElZOFKCIyU4UoIjJThSgiMlOFLOw5GycKQER0pwpARHSnCkBEdq12cRQhaO\n",
       "lOBICY6U4EgJjpTgSAmO1N5zTZCOhSMlOFKCIyU4UoIjJThSe5/jSXQsHCnBkRIcKcGREhwpwZES\n",
       "HKldx5MIWThSgiMlOFKCIyU4UoIjJThSXjEnZeFICY6U4EgJjpTgSAmOlGuCpCwcKcGREhwpwZES\n",
       "HCnBkRIcKdcESVk4UoIjJThSgiMlOFKCI+XWFikLR0pwpARHSnCkBEdKcKQER2rXdzhCFo6U4EgJ\n",
       "jpTgSAmOlOBICY7U3ueaIB0LR0pwpARHSnCkBEdKcKQcTyJl4UgJjpTgSAmOlOBICY6U4Eh5rouU\n",
       "hSMlOFKCIyU4UoIjJThSbm2RsnCkBEdKcKQER0pwpARHSnCkXBMkZeFICY6U4EgJjpTgSAmOlFtb\n",
       "pCwcKcGREhwpwZESHCnBkRIcqV3XBAlZOFKCIyU4UoIjJThSgiMlOFLOw5GycKQER0pwpARHSnCk\n",
       "BEfK60mkLBwpwZESHCnBkRIcKcGREhypveeaIB0LR0pwpARHSnCkBEdKcKR2P8eT6Fg4UoIjJThS\n",
       "giMlOFKCIyU4Ul5PImXhSAmOlOBICY6U4EgJjpTgSO26JkjIwpESHCnBkRIcKcGREhypPdcECVk4\n",
       "UoIjJThSgiMlOFKCIyU4Uv5NkJSFIyU4UoIjJThSgiMlOFL+3I2UhSMlOFKCIyU4UoIjJThSgiPl\n",
       "eBIpC0dKcKQER0pwpARHSnCkBEfKc12kLBwpwZESHCnBkRIcKcGR8udupCwcKcGREhwpwZESHCnB\n",
       "kRIcqT3XBAlZOFKCIyU4UoIjJThSgiO169YWIQtHSnCkBEdKcKQER0pwpARHyvEkUhaOlOBICY6U\n",
       "4EgJjpTgSAmOlOe6SFk4UoIjJThSgiMlOFKCI+XP3UhZOFKCIyU4UoIjJThSgiMlOFK7rgkSsnCk\n",
       "BEdKcKQER0pwpARHymcRUhaOlOBICY6U4EgJjpTgSAmOlFfMSVk4UoIjJThSgiMlOFKCI7Xr9SRC\n",
       "Fo6U4EgJjpTgSAmOlOBICY6UP3cjZeFICY6U4EgJjpTgSAmOlOBIuSZIysKREhwpwZESHCnBkRIc\n",
       "KdcESVk4UoIjJThSgiMlOFKCIyU4Uv5NkJSFIyU4UoIjJThSgiMlOFJubZGycKQER0pwpARHSnCk\n",
       "BEdKcKQcTyJl4UgJjpTgSAmOlOBICY6U4Ejtfn9/+jfwi1g4UoIjJThSgiMlOFKCI+V4EikLR0pw\n",
       "pARHSnCkBEdKcKQER8pzXaQsHCnBkRIcKcGREhwpwZHa/XwWoWPhSAmOlOBICY6U4EgJjpTgSO0+\n",
       "ryfRsXCkBEdKcKQER0pwpARHSnCkPNdFysKREhwpwZESHCnBkRIcKceTSFk4UoIjJThSgiMlOFKC\n",
       "IyU4Uruf73B0LBwpwZESHCnBkRIcKcGRcjyJlIUjJThSgiMlOFKCIyU4UoIj5TscKQtHSnCkBEdK\n",
       "cKQER0pwpP4HOvdrFLvYkYEAAAAASUVORK5CYII=\n",
       "\" transform=\"translate(3003, 624)\"/>\n",
       "</g>\n",
       "<path clip-path=\"url(#clip650)\" d=\"M3237.42 2564.3 L3267.1 2564.3 L3267.1 2568.24 L3237.42 2568.24 L3237.42 2564.3 Z\" fill=\"#000000\" fill-rule=\"evenodd\" fill-opacity=\"1\" /><path clip-path=\"url(#clip650)\" d=\"M3278 2577.19 L3285.64 2577.19 L3285.64 2550.83 L3277.33 2552.5 L3277.33 2548.24 L3285.59 2546.57 L3290.27 2546.57 L3290.27 2577.19 L3297.91 2577.19 L3297.91 2581.13 L3278 2581.13 L3278 2577.19 Z\" fill=\"#000000\" fill-rule=\"evenodd\" fill-opacity=\"1\" /><path clip-path=\"url(#clip650)\" d=\"M3307.35 2575.25 L3312.24 2575.25 L3312.24 2581.13 L3307.35 2581.13 L3307.35 2575.25 Z\" fill=\"#000000\" fill-rule=\"evenodd\" fill-opacity=\"1\" /><path clip-path=\"url(#clip650)\" d=\"M3332.42 2549.65 Q3328.81 2549.65 3326.98 2553.21 Q3325.18 2556.75 3325.18 2563.88 Q3325.18 2570.99 3326.98 2574.56 Q3328.81 2578.1 3332.42 2578.1 Q3336.06 2578.1 3337.86 2574.56 Q3339.69 2570.99 3339.69 2563.88 Q3339.69 2556.75 3337.86 2553.21 Q3336.06 2549.65 3332.42 2549.65 M3332.42 2545.94 Q3338.23 2545.94 3341.29 2550.55 Q3344.37 2555.13 3344.37 2563.88 Q3344.37 2572.61 3341.29 2577.22 Q3338.23 2581.8 3332.42 2581.8 Q3326.61 2581.8 3323.53 2577.22 Q3320.48 2572.61 3320.48 2563.88 Q3320.48 2555.13 3323.53 2550.55 Q3326.61 2545.94 3332.42 2545.94 Z\" fill=\"#000000\" fill-rule=\"evenodd\" fill-opacity=\"1\" /><path clip-path=\"url(#clip650)\" d=\"M3362.58 2549.65 Q3358.97 2549.65 3357.14 2553.21 Q3355.34 2556.75 3355.34 2563.88 Q3355.34 2570.99 3357.14 2574.56 Q3358.97 2578.1 3362.58 2578.1 Q3366.22 2578.1 3368.02 2574.56 Q3369.85 2570.99 3369.85 2563.88 Q3369.85 2556.75 3368.02 2553.21 Q3366.22 2549.65 3362.58 2549.65 M3362.58 2545.94 Q3368.39 2545.94 3371.45 2550.55 Q3374.53 2555.13 3374.53 2563.88 Q3374.53 2572.61 3371.45 2577.22 Q3368.39 2581.8 3362.58 2581.8 Q3356.77 2581.8 3353.7 2577.22 Q3350.64 2572.61 3350.64 2563.88 Q3350.64 2555.13 3353.7 2550.55 Q3356.77 2545.94 3362.58 2545.94 Z\" fill=\"#000000\" fill-rule=\"evenodd\" fill-opacity=\"1\" /><path clip-path=\"url(#clip650)\" d=\"M3237.42 2321.42 L3267.1 2321.42 L3267.1 2325.36 L3237.42 2325.36 L3237.42 2321.42 Z\" fill=\"#000000\" fill-rule=\"evenodd\" fill-opacity=\"1\" /><path clip-path=\"url(#clip650)\" d=\"M3287.19 2306.77 Q3283.58 2306.77 3281.75 2310.33 Q3279.95 2313.88 3279.95 2321.01 Q3279.95 2328.11 3281.75 2331.68 Q3283.58 2335.22 3287.19 2335.22 Q3290.83 2335.22 3292.63 2331.68 Q3294.46 2328.11 3294.46 2321.01 Q3294.46 2313.88 3292.63 2310.33 Q3290.83 2306.77 3287.19 2306.77 M3287.19 2303.07 Q3293 2303.07 3296.06 2307.67 Q3299.14 2312.26 3299.14 2321.01 Q3299.14 2329.73 3296.06 2334.34 Q3293 2338.92 3287.19 2338.92 Q3281.38 2338.92 3278.3 2334.34 Q3275.25 2329.73 3275.25 2321.01 Q3275.25 2312.26 3278.3 2307.67 Q3281.38 2303.07 3287.19 2303.07 Z\" fill=\"#000000\" fill-rule=\"evenodd\" fill-opacity=\"1\" /><path clip-path=\"url(#clip650)\" d=\"M3307.35 2332.37 L3312.24 2332.37 L3312.24 2338.25 L3307.35 2338.25 L3307.35 2332.37 Z\" fill=\"#000000\" fill-rule=\"evenodd\" fill-opacity=\"1\" /><path clip-path=\"url(#clip650)\" d=\"M3321.24 2303.69 L3343.46 2303.69 L3343.46 2305.68 L3330.92 2338.25 L3326.03 2338.25 L3337.84 2307.63 L3321.24 2307.63 L3321.24 2303.69 Z\" fill=\"#000000\" fill-rule=\"evenodd\" fill-opacity=\"1\" /><path clip-path=\"url(#clip650)\" d=\"M3352.63 2303.69 L3370.99 2303.69 L3370.99 2307.63 L3356.91 2307.63 L3356.91 2316.1 Q3357.93 2315.75 3358.95 2315.59 Q3359.97 2315.4 3360.99 2315.4 Q3366.77 2315.4 3370.15 2318.57 Q3373.53 2321.75 3373.53 2327.16 Q3373.53 2332.74 3370.06 2335.84 Q3366.59 2338.92 3360.27 2338.92 Q3358.09 2338.92 3355.82 2338.55 Q3353.58 2338.18 3351.17 2337.44 L3351.17 2332.74 Q3353.26 2333.88 3355.48 2334.43 Q3357.7 2334.99 3360.18 2334.99 Q3364.18 2334.99 3366.52 2332.88 Q3368.86 2330.77 3368.86 2327.16 Q3368.86 2323.55 3366.52 2321.45 Q3364.18 2319.34 3360.18 2319.34 Q3358.3 2319.34 3356.43 2319.76 Q3354.57 2320.17 3352.63 2321.05 L3352.63 2303.69 Z\" fill=\"#000000\" fill-rule=\"evenodd\" fill-opacity=\"1\" /><path clip-path=\"url(#clip650)\" d=\"M3237.42 2078.54 L3267.1 2078.54 L3267.1 2082.48 L3237.42 2082.48 L3237.42 2078.54 Z\" fill=\"#000000\" fill-rule=\"evenodd\" fill-opacity=\"1\" /><path clip-path=\"url(#clip650)\" d=\"M3287.19 2063.89 Q3283.58 2063.89 3281.75 2067.46 Q3279.95 2071 3279.95 2078.13 Q3279.95 2085.23 3281.75 2088.8 Q3283.58 2092.34 3287.19 2092.34 Q3290.83 2092.34 3292.63 2088.8 Q3294.46 2085.23 3294.46 2078.13 Q3294.46 2071 3292.63 2067.46 Q3290.83 2063.89 3287.19 2063.89 M3287.19 2060.19 Q3293 2060.19 3296.06 2064.79 Q3299.14 2069.38 3299.14 2078.13 Q3299.14 2086.85 3296.06 2091.46 Q3293 2096.04 3287.19 2096.04 Q3281.38 2096.04 3278.3 2091.46 Q3275.25 2086.85 3275.25 2078.13 Q3275.25 2069.38 3278.3 2064.79 Q3281.38 2060.19 3287.19 2060.19 Z\" fill=\"#000000\" fill-rule=\"evenodd\" fill-opacity=\"1\" /><path clip-path=\"url(#clip650)\" d=\"M3307.35 2089.49 L3312.24 2089.49 L3312.24 2095.37 L3307.35 2095.37 L3307.35 2089.49 Z\" fill=\"#000000\" fill-rule=\"evenodd\" fill-opacity=\"1\" /><path clip-path=\"url(#clip650)\" d=\"M3322.47 2060.81 L3340.82 2060.81 L3340.82 2064.75 L3326.75 2064.75 L3326.75 2073.22 Q3327.77 2072.87 3328.79 2072.71 Q3329.81 2072.52 3330.82 2072.52 Q3336.61 2072.52 3339.99 2075.7 Q3343.37 2078.87 3343.37 2084.28 Q3343.37 2089.86 3339.9 2092.96 Q3336.43 2096.04 3330.11 2096.04 Q3327.93 2096.04 3325.66 2095.67 Q3323.42 2095.3 3321.01 2094.56 L3321.01 2089.86 Q3323.09 2091 3325.32 2091.55 Q3327.54 2092.11 3330.01 2092.11 Q3334.02 2092.11 3336.36 2090 Q3338.7 2087.9 3338.7 2084.28 Q3338.7 2080.67 3336.36 2078.57 Q3334.02 2076.46 3330.01 2076.46 Q3328.14 2076.46 3326.26 2076.88 Q3324.41 2077.29 3322.47 2078.17 L3322.47 2060.81 Z\" fill=\"#000000\" fill-rule=\"evenodd\" fill-opacity=\"1\" /><path clip-path=\"url(#clip650)\" d=\"M3362.58 2063.89 Q3358.97 2063.89 3357.14 2067.46 Q3355.34 2071 3355.34 2078.13 Q3355.34 2085.23 3357.14 2088.8 Q3358.97 2092.34 3362.58 2092.34 Q3366.22 2092.34 3368.02 2088.8 Q3369.85 2085.23 3369.85 2078.13 Q3369.85 2071 3368.02 2067.46 Q3366.22 2063.89 3362.58 2063.89 M3362.58 2060.19 Q3368.39 2060.19 3371.45 2064.79 Q3374.53 2069.38 3374.53 2078.13 Q3374.53 2086.85 3371.45 2091.46 Q3368.39 2096.04 3362.58 2096.04 Q3356.77 2096.04 3353.7 2091.46 Q3350.64 2086.85 3350.64 2078.13 Q3350.64 2069.38 3353.7 2064.79 Q3356.77 2060.19 3362.58 2060.19 Z\" fill=\"#000000\" fill-rule=\"evenodd\" fill-opacity=\"1\" /><path clip-path=\"url(#clip650)\" d=\"M3237.42 1835.66 L3267.1 1835.66 L3267.1 1839.6 L3237.42 1839.6 L3237.42 1835.66 Z\" fill=\"#000000\" fill-rule=\"evenodd\" fill-opacity=\"1\" /><path clip-path=\"url(#clip650)\" d=\"M3287.19 1821.01 Q3283.58 1821.01 3281.75 1824.58 Q3279.95 1828.12 3279.95 1835.25 Q3279.95 1842.35 3281.75 1845.92 Q3283.58 1849.46 3287.19 1849.46 Q3290.83 1849.46 3292.63 1845.92 Q3294.46 1842.35 3294.46 1835.25 Q3294.46 1828.12 3292.63 1824.58 Q3290.83 1821.01 3287.19 1821.01 M3287.19 1817.31 Q3293 1817.31 3296.06 1821.91 Q3299.14 1826.5 3299.14 1835.25 Q3299.14 1843.97 3296.06 1848.58 Q3293 1853.16 3287.19 1853.16 Q3281.38 1853.16 3278.3 1848.58 Q3275.25 1843.97 3275.25 1835.25 Q3275.25 1826.5 3278.3 1821.91 Q3281.38 1817.31 3287.19 1817.31 Z\" fill=\"#000000\" fill-rule=\"evenodd\" fill-opacity=\"1\" /><path clip-path=\"url(#clip650)\" d=\"M3307.35 1846.61 L3312.24 1846.61 L3312.24 1852.49 L3307.35 1852.49 L3307.35 1846.61 Z\" fill=\"#000000\" fill-rule=\"evenodd\" fill-opacity=\"1\" /><path clip-path=\"url(#clip650)\" d=\"M3326.45 1848.56 L3342.77 1848.56 L3342.77 1852.49 L3320.82 1852.49 L3320.82 1848.56 Q3323.49 1845.8 3328.07 1841.17 Q3332.68 1836.52 3333.86 1835.18 Q3336.1 1832.66 3336.98 1830.92 Q3337.88 1829.16 3337.88 1827.47 Q3337.88 1824.72 3335.94 1822.98 Q3334.02 1821.24 3330.92 1821.24 Q3328.72 1821.24 3326.26 1822.01 Q3323.83 1822.77 3321.06 1824.32 L3321.06 1819.6 Q3323.88 1818.47 3326.33 1817.89 Q3328.79 1817.31 3330.82 1817.31 Q3336.2 1817.31 3339.39 1819.99 Q3342.58 1822.68 3342.58 1827.17 Q3342.58 1829.3 3341.77 1831.22 Q3340.99 1833.12 3338.88 1835.71 Q3338.3 1836.38 3335.2 1839.6 Q3332.1 1842.79 3326.45 1848.56 Z\" fill=\"#000000\" fill-rule=\"evenodd\" fill-opacity=\"1\" /><path clip-path=\"url(#clip650)\" d=\"M3352.63 1817.93 L3370.99 1817.93 L3370.99 1821.87 L3356.91 1821.87 L3356.91 1830.34 Q3357.93 1829.99 3358.95 1829.83 Q3359.97 1829.65 3360.99 1829.65 Q3366.77 1829.65 3370.15 1832.82 Q3373.53 1835.99 3373.53 1841.41 Q3373.53 1846.98 3370.06 1850.09 Q3366.59 1853.16 3360.27 1853.16 Q3358.09 1853.16 3355.82 1852.79 Q3353.58 1852.42 3351.17 1851.68 L3351.17 1846.98 Q3353.26 1848.12 3355.48 1848.67 Q3357.7 1849.23 3360.18 1849.23 Q3364.18 1849.23 3366.52 1847.12 Q3368.86 1845.02 3368.86 1841.41 Q3368.86 1837.79 3366.52 1835.69 Q3364.18 1833.58 3360.18 1833.58 Q3358.3 1833.58 3356.43 1834 Q3354.57 1834.41 3352.63 1835.29 L3352.63 1817.93 Z\" fill=\"#000000\" fill-rule=\"evenodd\" fill-opacity=\"1\" /><path clip-path=\"url(#clip650)\" d=\"M3249.37 1578.13 Q3245.76 1578.13 3243.93 1581.7 Q3242.12 1585.24 3242.12 1592.37 Q3242.12 1599.48 3243.93 1603.04 Q3245.76 1606.58 3249.37 1606.58 Q3253 1606.58 3254.81 1603.04 Q3256.64 1599.48 3256.64 1592.37 Q3256.64 1585.24 3254.81 1581.7 Q3253 1578.13 3249.37 1578.13 M3249.37 1574.43 Q3255.18 1574.43 3258.23 1579.04 Q3261.31 1583.62 3261.31 1592.37 Q3261.31 1601.1 3258.23 1605.7 Q3255.18 1610.29 3249.37 1610.29 Q3243.56 1610.29 3240.48 1605.7 Q3237.42 1601.1 3237.42 1592.37 Q3237.42 1583.62 3240.48 1579.04 Q3243.56 1574.43 3249.37 1574.43 Z\" fill=\"#000000\" fill-rule=\"evenodd\" fill-opacity=\"1\" /><path clip-path=\"url(#clip650)\" d=\"M3249.37 1335.25 Q3245.76 1335.25 3243.93 1338.82 Q3242.12 1342.36 3242.12 1349.49 Q3242.12 1356.6 3243.93 1360.16 Q3245.76 1363.7 3249.37 1363.7 Q3253 1363.7 3254.81 1360.16 Q3256.64 1356.6 3256.64 1349.49 Q3256.64 1342.36 3254.81 1338.82 Q3253 1335.25 3249.37 1335.25 M3249.37 1331.55 Q3255.18 1331.55 3258.23 1336.16 Q3261.31 1340.74 3261.31 1349.49 Q3261.31 1358.22 3258.23 1362.82 Q3255.18 1367.41 3249.37 1367.41 Q3243.56 1367.41 3240.48 1362.82 Q3237.42 1358.22 3237.42 1349.49 Q3237.42 1340.74 3240.48 1336.16 Q3243.56 1331.55 3249.37 1331.55 Z\" fill=\"#000000\" fill-rule=\"evenodd\" fill-opacity=\"1\" /><path clip-path=\"url(#clip650)\" d=\"M3269.53 1360.86 L3274.41 1360.86 L3274.41 1366.74 L3269.53 1366.74 L3269.53 1360.86 Z\" fill=\"#000000\" fill-rule=\"evenodd\" fill-opacity=\"1\" /><path clip-path=\"url(#clip650)\" d=\"M3288.63 1362.8 L3304.95 1362.8 L3304.95 1366.74 L3283 1366.74 L3283 1362.8 Q3285.66 1360.05 3290.25 1355.42 Q3294.85 1350.76 3296.03 1349.42 Q3298.28 1346.9 3299.16 1345.16 Q3300.06 1343.4 3300.06 1341.71 Q3300.06 1338.96 3298.12 1337.22 Q3296.2 1335.49 3293.09 1335.49 Q3290.89 1335.49 3288.44 1336.25 Q3286.01 1337.01 3283.23 1338.56 L3283.23 1333.84 Q3286.06 1332.71 3288.51 1332.13 Q3290.96 1331.55 3293 1331.55 Q3298.37 1331.55 3301.57 1334.24 Q3304.76 1336.92 3304.76 1341.41 Q3304.76 1343.54 3303.95 1345.46 Q3303.16 1347.36 3301.06 1349.95 Q3300.48 1350.62 3297.38 1353.84 Q3294.27 1357.04 3288.63 1362.8 Z\" fill=\"#000000\" fill-rule=\"evenodd\" fill-opacity=\"1\" /><path clip-path=\"url(#clip650)\" d=\"M3314.81 1332.18 L3333.16 1332.18 L3333.16 1336.11 L3319.09 1336.11 L3319.09 1344.58 Q3320.11 1344.24 3321.13 1344.07 Q3322.14 1343.89 3323.16 1343.89 Q3328.95 1343.89 3332.33 1347.06 Q3335.71 1350.23 3335.71 1355.65 Q3335.71 1361.23 3332.24 1364.33 Q3328.76 1367.41 3322.45 1367.41 Q3320.27 1367.41 3318 1367.04 Q3315.76 1366.67 3313.35 1365.93 L3313.35 1361.23 Q3315.43 1362.36 3317.65 1362.92 Q3319.88 1363.47 3322.35 1363.47 Q3326.36 1363.47 3328.7 1361.37 Q3331.03 1359.26 3331.03 1355.65 Q3331.03 1352.04 3328.7 1349.93 Q3326.36 1347.82 3322.35 1347.82 Q3320.48 1347.82 3318.6 1348.24 Q3316.75 1348.66 3314.81 1349.54 L3314.81 1332.18 Z\" fill=\"#000000\" fill-rule=\"evenodd\" fill-opacity=\"1\" /><path clip-path=\"url(#clip650)\" d=\"M3249.37 1092.38 Q3245.76 1092.38 3243.93 1095.94 Q3242.12 1099.48 3242.12 1106.61 Q3242.12 1113.72 3243.93 1117.28 Q3245.76 1120.82 3249.37 1120.82 Q3253 1120.82 3254.81 1117.28 Q3256.64 1113.72 3256.64 1106.61 Q3256.64 1099.48 3254.81 1095.94 Q3253 1092.38 3249.37 1092.38 M3249.37 1088.67 Q3255.18 1088.67 3258.23 1093.28 Q3261.31 1097.86 3261.31 1106.61 Q3261.31 1115.34 3258.23 1119.94 Q3255.18 1124.53 3249.37 1124.53 Q3243.56 1124.53 3240.48 1119.94 Q3237.42 1115.34 3237.42 1106.61 Q3237.42 1097.86 3240.48 1093.28 Q3243.56 1088.67 3249.37 1088.67 Z\" fill=\"#000000\" fill-rule=\"evenodd\" fill-opacity=\"1\" /><path clip-path=\"url(#clip650)\" d=\"M3269.53 1117.98 L3274.41 1117.98 L3274.41 1123.86 L3269.53 1123.86 L3269.53 1117.98 Z\" fill=\"#000000\" fill-rule=\"evenodd\" fill-opacity=\"1\" /><path clip-path=\"url(#clip650)\" d=\"M3284.64 1089.3 L3303 1089.3 L3303 1093.23 L3288.93 1093.23 L3288.93 1101.7 Q3289.95 1101.36 3290.96 1101.19 Q3291.98 1101.01 3293 1101.01 Q3298.79 1101.01 3302.17 1104.18 Q3305.55 1107.35 3305.55 1112.77 Q3305.55 1118.35 3302.08 1121.45 Q3298.6 1124.53 3292.28 1124.53 Q3290.11 1124.53 3287.84 1124.16 Q3285.59 1123.79 3283.19 1123.05 L3283.19 1118.35 Q3285.27 1119.48 3287.49 1120.04 Q3289.71 1120.59 3292.19 1120.59 Q3296.2 1120.59 3298.53 1118.49 Q3300.87 1116.38 3300.87 1112.77 Q3300.87 1109.16 3298.53 1107.05 Q3296.2 1104.94 3292.19 1104.94 Q3290.32 1104.94 3288.44 1105.36 Q3286.59 1105.78 3284.64 1106.66 L3284.64 1089.3 Z\" fill=\"#000000\" fill-rule=\"evenodd\" fill-opacity=\"1\" /><path clip-path=\"url(#clip650)\" d=\"M3324.76 1092.38 Q3321.15 1092.38 3319.32 1095.94 Q3317.51 1099.48 3317.51 1106.61 Q3317.51 1113.72 3319.32 1117.28 Q3321.15 1120.82 3324.76 1120.82 Q3328.39 1120.82 3330.2 1117.28 Q3332.03 1113.72 3332.03 1106.61 Q3332.03 1099.48 3330.2 1095.94 Q3328.39 1092.38 3324.76 1092.38 M3324.76 1088.67 Q3330.57 1088.67 3333.63 1093.28 Q3336.7 1097.86 3336.7 1106.61 Q3336.7 1115.34 3333.63 1119.94 Q3330.57 1124.53 3324.76 1124.53 Q3318.95 1124.53 3315.87 1119.94 Q3312.82 1115.34 3312.82 1106.61 Q3312.82 1097.86 3315.87 1093.28 Q3318.95 1088.67 3324.76 1088.67 Z\" fill=\"#000000\" fill-rule=\"evenodd\" fill-opacity=\"1\" /><path clip-path=\"url(#clip650)\" d=\"M3249.37 849.496 Q3245.76 849.496 3243.93 853.061 Q3242.12 856.603 3242.12 863.733 Q3242.12 870.839 3243.93 874.404 Q3245.76 877.945 3249.37 877.945 Q3253 877.945 3254.81 874.404 Q3256.64 870.839 3256.64 863.733 Q3256.64 856.603 3254.81 853.061 Q3253 849.496 3249.37 849.496 M3249.37 845.793 Q3255.18 845.793 3258.23 850.399 Q3261.31 854.983 3261.31 863.733 Q3261.31 872.459 3258.23 877.066 Q3255.18 881.649 3249.37 881.649 Q3243.56 881.649 3240.48 877.066 Q3237.42 872.459 3237.42 863.733 Q3237.42 854.983 3240.48 850.399 Q3243.56 845.793 3249.37 845.793 Z\" fill=\"#000000\" fill-rule=\"evenodd\" fill-opacity=\"1\" /><path clip-path=\"url(#clip650)\" d=\"M3269.53 875.098 L3274.41 875.098 L3274.41 880.978 L3269.53 880.978 L3269.53 875.098 Z\" fill=\"#000000\" fill-rule=\"evenodd\" fill-opacity=\"1\" /><path clip-path=\"url(#clip650)\" d=\"M3283.42 846.418 L3305.64 846.418 L3305.64 848.409 L3293.09 880.978 L3288.21 880.978 L3300.01 850.353 L3283.42 850.353 L3283.42 846.418 Z\" fill=\"#000000\" fill-rule=\"evenodd\" fill-opacity=\"1\" /><path clip-path=\"url(#clip650)\" d=\"M3314.81 846.418 L3333.16 846.418 L3333.16 850.353 L3319.09 850.353 L3319.09 858.825 Q3320.11 858.478 3321.13 858.316 Q3322.14 858.131 3323.16 858.131 Q3328.95 858.131 3332.33 861.302 Q3335.71 864.473 3335.71 869.89 Q3335.71 875.469 3332.24 878.57 Q3328.76 881.649 3322.45 881.649 Q3320.27 881.649 3318 881.279 Q3315.76 880.908 3313.35 880.168 L3313.35 875.469 Q3315.43 876.603 3317.65 877.158 Q3319.88 877.714 3322.35 877.714 Q3326.36 877.714 3328.7 875.607 Q3331.03 873.501 3331.03 869.89 Q3331.03 866.279 3328.7 864.172 Q3326.36 862.066 3322.35 862.066 Q3320.48 862.066 3318.6 862.483 Q3316.75 862.899 3314.81 863.779 L3314.81 846.418 Z\" fill=\"#000000\" fill-rule=\"evenodd\" fill-opacity=\"1\" /><path clip-path=\"url(#clip650)\" d=\"M3238.09 634.164 L3245.73 634.164 L3245.73 607.798 L3237.42 609.465 L3237.42 605.206 L3245.69 603.539 L3250.36 603.539 L3250.36 634.164 L3258 634.164 L3258 638.099 L3238.09 638.099 L3238.09 634.164 Z\" fill=\"#000000\" fill-rule=\"evenodd\" fill-opacity=\"1\" /><path clip-path=\"url(#clip650)\" d=\"M3267.45 632.219 L3272.33 632.219 L3272.33 638.099 L3267.45 638.099 L3267.45 632.219 Z\" fill=\"#000000\" fill-rule=\"evenodd\" fill-opacity=\"1\" /><path clip-path=\"url(#clip650)\" d=\"M3292.51 606.618 Q3288.9 606.618 3287.08 610.182 Q3285.27 613.724 3285.27 620.854 Q3285.27 627.96 3287.08 631.525 Q3288.9 635.067 3292.51 635.067 Q3296.15 635.067 3297.95 631.525 Q3299.78 627.96 3299.78 620.854 Q3299.78 613.724 3297.95 610.182 Q3296.15 606.618 3292.51 606.618 M3292.51 602.914 Q3298.33 602.914 3301.38 607.52 Q3304.46 612.104 3304.46 620.854 Q3304.46 629.581 3301.38 634.187 Q3298.33 638.77 3292.51 638.77 Q3286.7 638.77 3283.63 634.187 Q3280.57 629.581 3280.57 620.854 Q3280.57 612.104 3283.63 607.52 Q3286.7 602.914 3292.51 602.914 Z\" fill=\"#000000\" fill-rule=\"evenodd\" fill-opacity=\"1\" /><path clip-path=\"url(#clip650)\" d=\"M3322.68 606.618 Q3319.07 606.618 3317.24 610.182 Q3315.43 613.724 3315.43 620.854 Q3315.43 627.96 3317.24 631.525 Q3319.07 635.067 3322.68 635.067 Q3326.31 635.067 3328.12 631.525 Q3329.95 627.96 3329.95 620.854 Q3329.95 613.724 3328.12 610.182 Q3326.31 606.618 3322.68 606.618 M3322.68 602.914 Q3328.49 602.914 3331.54 607.52 Q3334.62 612.104 3334.62 620.854 Q3334.62 629.581 3331.54 634.187 Q3328.49 638.77 3322.68 638.77 Q3316.87 638.77 3313.79 634.187 Q3310.73 629.581 3310.73 620.854 Q3310.73 612.104 3313.79 607.52 Q3316.87 602.914 3322.68 602.914 Z\" fill=\"#000000\" fill-rule=\"evenodd\" fill-opacity=\"1\" /><polyline clip-path=\"url(#clip650)\" style=\"stroke:#000000; stroke-linecap:butt; stroke-linejoin:round; stroke-width:4; stroke-opacity:1; fill:none\" points=\"\n",
       "  3159.42,2567.48 3159.42,2567.48 3211.42,2567.48 3159.42,2567.48 3159.42,2324.6 3211.42,2324.6 3159.42,2324.6 3159.42,2081.72 3211.42,2081.72 3159.42,2081.72 \n",
       "  3159.42,1838.84 3211.42,1838.84 3159.42,1838.84 3159.42,1595.96 3211.42,1595.96 3159.42,1595.96 3159.42,1353.08 3211.42,1353.08 3159.42,1353.08 3159.42,1110.21 \n",
       "  3211.42,1110.21 3159.42,1110.21 3159.42,867.327 3211.42,867.327 3159.42,867.327 3159.42,624.448 3211.42,624.448 3159.42,624.448 \n",
       "  \"/>\n",
       "<path clip-path=\"url(#clip650)\" d=\"\n",
       "M3633.63 2567.48 L4632.76 2567.48 L4632.76 624.448 L3633.63 624.448  Z\n",
       "  \" fill=\"#ffffff\" fill-rule=\"evenodd\" fill-opacity=\"1\"/>\n",
       "<defs>\n",
       "  <clipPath id=\"clip656\">\n",
       "    <rect x=\"3633\" y=\"624\" width=\"1000\" height=\"1944\"/>\n",
       "  </clipPath>\n",
       "</defs>\n",
       "<path clip-path=\"url(#clip650)\" d=\"M4021.49 43.8146 L3995.68 43.8146 Q3996.29 55.9268 3999.09 61.0714 Q4002.57 67.3908 4008.61 67.3908 Q4014.68 67.3908 4018.04 61.0309 Q4021 55.4407 4021.49 43.8146 M4021.37 36.928 Q4020.23 25.4235 4018.04 21.3726 Q4014.56 14.9721 4008.61 14.9721 Q4002.41 14.9721 3999.13 21.2916 Q3996.53 26.3957 3995.76 36.928 L4021.37 36.928 M4008.61 8.89579 Q4018.33 8.89579 4023.88 17.4837 Q4029.43 26.0311 4029.43 41.1815 Q4029.43 56.2914 4023.88 64.8793 Q4018.33 73.5077 4008.61 73.5077 Q3998.84 73.5077 3993.33 64.8793 Q3987.78 56.2914 3987.78 41.1815 Q3987.78 26.0311 3993.33 17.4837 Q3998.84 8.89579 4008.61 8.89579 Z\" fill=\"#000000\" fill-rule=\"evenodd\" fill-opacity=\"1\" /><path clip-path=\"url(#clip650)\" d=\"M4069.13 34.9026 L4121.06 34.9026 L4121.06 41.7081 L4069.13 41.7081 L4069.13 34.9026 M4069.13 51.4303 L4121.06 51.4303 L4121.06 58.3168 L4069.13 58.3168 L4069.13 51.4303 Z\" fill=\"#000000\" fill-rule=\"evenodd\" fill-opacity=\"1\" /><path clip-path=\"url(#clip650)\" d=\"M4159.22 27.2059 L4202.68 27.2059 L4202.68 34.6595 L4196.97 34.6595 L4196.97 62.5298 Q4196.97 65.4464 4197.94 66.7427 Q4198.96 67.9985 4201.19 67.9985 Q4201.79 67.9985 4202.68 67.9175 Q4203.58 67.7959 4203.86 67.7554 L4203.86 73.1431 Q4202.44 73.6697 4200.94 73.9128 Q4199.44 74.1559 4197.94 74.1559 Q4193.08 74.1559 4191.22 71.5228 Q4189.36 68.8492 4189.36 61.7196 L4189.36 34.6595 L4172.63 34.6595 L4172.63 72.576 L4165.01 72.576 L4165.01 34.6595 L4159.22 34.6595 L4159.22 27.2059 Z\" fill=\"#000000\" fill-rule=\"evenodd\" fill-opacity=\"1\" /><path clip-path=\"url(#clip650)\" d=\"M4227.23 12.096 L4234.12 12.096 L4213.05 80.2727 L4206.17 80.2727 L4227.23 12.096 Z\" fill=\"#000000\" fill-rule=\"evenodd\" fill-opacity=\"1\" /><path clip-path=\"url(#clip650)\" d=\"M4250.04 65.6895 L4278.6 65.6895 L4278.6 72.576 L4240.2 72.576 L4240.2 65.6895 Q4244.85 60.8689 4252.87 52.7671 Q4260.94 44.6248 4263 42.2752 Q4266.93 37.8598 4268.47 34.8216 Q4270.05 31.7429 4270.05 28.7857 Q4270.05 23.9651 4266.65 20.927 Q4263.29 17.8888 4257.86 17.8888 Q4254.01 17.8888 4249.72 19.2256 Q4245.46 20.5624 4240.6 23.2765 L4240.6 15.0127 Q4245.54 13.0277 4249.84 12.015 Q4254.13 11.0023 4257.7 11.0023 Q4267.09 11.0023 4272.68 15.7013 Q4278.27 20.4004 4278.27 28.2591 Q4278.27 31.9859 4276.86 35.3482 Q4275.48 38.6699 4271.79 43.2069 Q4270.78 44.3817 4265.35 50.0125 Q4259.92 55.6027 4250.04 65.6895 Z\" fill=\"#000000\" fill-rule=\"evenodd\" fill-opacity=\"1\" /><g clip-path=\"url(#clip656)\">\n",
       "<image width=\"999\" height=\"999\" xlink:href=\"data:image/png;base64,\n",
       "iVBORw0KGgoAAAANSUhEUgAAA+cAAAPnCAYAAABN/j28AAAYJ0lEQVR4nO3ZsW3QABRFUUzjgTwN\n",
       "S3gYT8MS3oLuT+DKNJFwB1KU3IScM8Frr97y88ev+xsfxnas9QQAAADe2fd6AAAAAHx14hwAAABi\n",
       "4hwAAABi4hwAAABi4hwAAABi4hwAAABi4hwAAABi4hwAAABi4hwAAABi4hwAAABi4hwAAABi4hwA\n",
       "AABi4hwAAABi4hwAAABi4hwAAABi4hwAAABi4hwAAABi4hwAAABi4hwAAABi4hwAAABi4hwAAABi\n",
       "4hwAAABi4hwAAABi4hwAAABi4hwAAABi4hwAAABi4hwAAABi4hwAAABi4hwAAABi4hwAAABi4hwA\n",
       "AABi4hwAAABi4hwAAABi4hwAAABi4hwAAABi4hwAAABi4hwAAABi4hwAAABi4hwAAABi4hwAAABi\n",
       "4hwAAABi4hwAAABi4hwAAABi4hwAAABi4hwAAABi4hwAAABi4hwAAABi4hwAAABi4hwAAABi4hwA\n",
       "AABi4hwAAABi4hwAAABi4hwAAABi4hwAAABi4hwAAABi4hwAAABi4hwAAABi4hwAAABi4hwAAABi\n",
       "4hwAAABi4hwAAABi4hwAAABi4hwAAABi4hwAAABi4hwAAABi4hwAAABi4hwAAABi4hwAAABi4hwA\n",
       "AABi4hwAAABi4hwAAABi4hwAAABi4hwAAABi4hwAAABi4hwAAABi4hwAAABi4hwAAABi4hwAAABi\n",
       "4hwAAABi4hwAAABi4hwAAABi4hwAAABi4hwAAABi4hwAAABi4hwAAABi4hwAAABi4hwAAABi4hwA\n",
       "AABi4hwAAABi4hwAAABi4hwAAABi4hwAAABi4hwAAABi4hwAAABi4hwAAABi4hwAAABi4hwAAABi\n",
       "4hwAAABi4hwAAABiy8zc9Qj+OPernsDDdqz1BAAA4AvwnAMAAEBMnAMAAEBMnAMAAEBMnAMAAEBM\n",
       "nAMAAEBMnAMAAEBMnAMAAEBMnAMAAEBMnAMAAEBMnAMAAEBMnAMAAEBMnAMAAEBMnAMAAEBMnAMA\n",
       "AEBMnAMAAEBMnAMAAEBMnAMAAEBMnAMAAEBMnAMAAEBMnAMAAEBMnAMAAEBMnAMAAEBMnAMAAEBM\n",
       "nAMAAEBMnAMAAEBMnAMAAEBMnAMAAEBMnAMAAEBMnAMAAEBMnAMAAEBMnAMAAEBMnAMAAEBMnAMA\n",
       "AEBMnAMAAEBMnAMAAEBMnAMAAEBMnAMAAEBMnAMAAEBMnAMAAEBMnAMAAEBMnAMAAEBMnAMAAEBM\n",
       "nAMAAEBMnAMAAEBMnAMAAEBMnAMAAEBMnAMAAEBMnAMAAEBMnAMAAEBMnAMAAEBMnAMAAEBMnAMA\n",
       "AEBMnAMAAEBMnAMAAEBMnAMAAEBMnAMAAEBMnAMAAEBMnAMAAEBMnAMAAEBMnAMAAEBMnAMAAEBM\n",
       "nAMAAEBMnAMAAEBMnAMAAEBMnAMAAEBMnAMAAEBMnAMAAEBMnAMAAEBMnAMAAEBMnAMAAEBMnAMA\n",
       "AEBMnAMAAEBMnAMAAEBMnAMAAEBMnAMAAEBMnAMAAEBMnAMAAEBMnAMAAEBMnAMAAEBMnAMAAEBM\n",
       "nAMAAEBMnAMAAEBMnAMAAEBMnAMAAEBMnAMAAEBMnAMAAEBMnAMAAEBMnAMAAEBMnAMAAEBMnAMA\n",
       "AEBMnAMAAEBMnAMAAEBMnAMAAEBMnAMAAEBMnAMAAEBMnAMAAEBMnAMAAEBMnAMAAEBMnAMAAEBs\n",
       "mZm7HgEf1blf9QQetmOtJwAAwJvwnAMAAEBMnAMAAEBMnAMAAEBMnAMAAEBMnAMAAEBMnAMAAEBM\n",
       "nAMAAEBMnAMAAEBMnAMAAEBMnAMAAEBMnAMAAEBMnAMAAEBMnAMAAEBMnAMAAEBMnAMAAEBMnAMA\n",
       "AEBMnAMAAEBMnAMAAEBMnAMAAEBMnAMAAEBMnAMAAEBMnAMAAEBMnAMAAEBMnAMAAEBMnAMAAEBM\n",
       "nAMAAEBMnAMAAEBMnAMAAEBMnAMAAEBMnAMAAEBMnAMAAEBMnAMAAEBMnAMAAEBMnAMAAEBMnAMA\n",
       "AEBMnAMAAEBMnAMAAEBMnAMAAEBMnAMAAEBMnAMAAEBMnAMAAEBMnAMAAEBMnAMAAEBMnAMAAEBM\n",
       "nAMAAEBMnAMAAEBMnAMAAEBMnAMAAEBMnAMAAEBMnAMAAEBMnAMAAEBMnAMAAEBMnAMAAEBMnAMA\n",
       "AEBMnAMAAEBMnAMAAEBMnAMAAEBMnAMAAEBMnAMAAEBMnAMAAEBMnAMAAEBMnAMAAEBMnAMAAEBM\n",
       "nAMAAEBMnAMAAEBMnAMAAEBMnAMAAEBMnAMAAEBMnAMAAEBMnAMAAEBMnAMAAEBMnAMAAEBMnAMA\n",
       "AEBMnAMAAEBMnAMAAEBMnAMAAEBMnAMAAEBMnAMAAEBMnAMAAEBMnAMAAEBMnAMAAEBMnAMAAEBM\n",
       "nAMAAEBMnAMAAEBMnAMAAEBMnAMAAEBMnAMAAEBMnAMAAEBMnAMAAEBMnAMAAEBMnAMAAEBMnAMA\n",
       "AEBMnAMAAEBMnAMAAEBMnAMAAEBMnAMAAEBMnAMAAEBMnAMAAEBMnAMAAEBsmZm7HgHwL879qifw\n",
       "sB1rPQEA4L/hOQcAAICYOAcAAICYOAcAAICYOAcAAICYOAcAAICYOAcAAICYOAcAAICYOAcAAICY\n",
       "OAcAAICYOAcAAICYOAcAAICYOAcAAICYOAcAAICYOAcAAICYOAcAAICYOAcAAICYOAcAAICYOAcA\n",
       "AICYOAcAAICYOAcAAICYOAcAAICYOAcAAICYOAcAAICYOAcAAICYOAcAAICYOAcAAICYOAcAAICY\n",
       "OAcAAICYOAcAAICYOAcAAICYOAcAAICYOAcAAICYOAcAAICYOAcAAICYOAcAAICYOAcAAICYOAcA\n",
       "AICYOAcAAICYOAcAAICYOAcAAICYOAcAAICYOAcAAICYOAcAAICYOAcAAICYOAcAAICYOAcAAICY\n",
       "OAcAAICYOAcAAICYOAcAAICYOAcAAICYOAcAAICYOAcAAICYOAcAAICYOAcAAICYOAcAAICYOAcA\n",
       "AICYOAcAAICYOAcAAICYOAcAAICYOAcAAICYOAcAAICYOAcAAICYOAcAAICYOAcAAICYOAcAAICY\n",
       "OAcAAICYOAcAAICYOAcAAICYOAcAAICYOAcAAICYOAcAAICYOAcAAICYOAcAAICYOAcAAICYOAcA\n",
       "AICYOAcAAICYOAcAAICYOAcAAICYOAcAAICYOAcAAICYOAcAAICYOAcAAICYOAcAAICYOAcAAICY\n",
       "OAcAAICYOAcAAICYOAcAAICYOAcAAICYOAcAAICYOAcAAICYOAcAAICYOAcAAICYOAcAAICYOAcA\n",
       "AICYOAcAAICYOAcAAICYOAcAAICYOAcAAICYOAcAAIDYMjN3PQKAz+fcr3oCD9ux1hMAgFfwnAMA\n",
       "AEBMnAMAAEBMnAMAAEBMnAMAAEBMnAMAAEBMnAMAAEBMnAMAAEBMnAMAAEBMnAMAAEBMnAMAAEBM\n",
       "nAMAAEBMnAMAAEBMnAMAAEBMnAMAAEBMnAMAAEBMnAMAAEBMnAMAAEBMnAMAAEBMnAMAAEBMnAMA\n",
       "AEBMnAMAAEBMnAMAAEBMnAMAAEBMnAMAAEBMnAMAAEBMnAMAAEBMnAMAAEBMnAMAAEBMnAMAAEBM\n",
       "nAMAAEBMnAMAAEBMnAMAAEBMnAMAAEBMnAMAAEBMnAMAAEBMnAMAAEBMnAMAAEBMnAMAAEBMnAMA\n",
       "AEBMnAMAAEBMnAMAAEBMnAMAAEBMnAMAAEBMnAMAAEBMnAMAAEBMnAMAAEBMnAMAAEBMnAMAAEBM\n",
       "nAMAAEBMnAMAAEBMnAMAAEBMnAMAAEBMnAMAAEBMnAMAAEBMnAMAAEBMnAMAAEBMnAMAAEBMnAMA\n",
       "AEBMnAMAAEBMnAMAAEBMnAMAAEBMnAMAAEBMnAMAAEBMnAMAAEBMnAMAAEBMnAMAAEBMnAMAAEBM\n",
       "nAMAAEBMnAMAAEBMnAMAAEBMnAMAAEBMnAMAAEBMnAMAAEBMnAMAAEBMnAMAAEBMnAMAAEBMnAMA\n",
       "AEBMnAMAAEBMnAMAAEBMnAMAAEBMnAMAAEBMnAMAAEBMnAMAAEBMnAMAAEBMnAMAAEBMnAMAAEBM\n",
       "nAMAAEBMnAMAAEBMnAMAAEBMnAMAAEBMnAMAAEBMnAMAAEBMnAMAAEBMnAMAAEBMnAMAAEBMnAMA\n",
       "AEBMnAMAAEBMnAMAAEBMnAMAAEBsmZm7HgEAvM65X/UEHrZjrScA8Ml4zgEAACAmzgEAACAmzgEA\n",
       "ACAmzgEAACAmzgEAACAmzgEAACAmzgEAACAmzgEAACAmzgEAACAmzgEAACAmzgEAACAmzgEAACAm\n",
       "zgEAACAmzgEAACAmzgEAACAmzgEAACAmzgEAACAmzgEAACAmzgEAACAmzgEAACAmzgEAACAmzgEA\n",
       "ACAmzgEAACAmzgEAACAmzgEAACAmzgEAACAmzgEAACAmzgEAACAmzgEAACAmzgEAACAmzgEAACAm\n",
       "zgEAACAmzgEAACAmzgEAACAmzgEAACAmzgEAACAmzgEAACAmzgEAACAmzgEAACAmzgEAACAmzgEA\n",
       "ACAmzgEAACAmzgEAACAmzgEAACAmzgEAACAmzgEAACAmzgEAACAmzgEAACAmzgEAACAmzgEAACAm\n",
       "zgEAACAmzgEAACAmzgEAACAmzgEAACAmzgEAACAmzgEAACAmzgEAACAmzgEAACAmzgEAACAmzgEA\n",
       "ACAmzgEAACAmzgEAACAmzgEAACAmzgEAACAmzgEAACAmzgEAACAmzgEAACAmzgEAACAmzgEAACAm\n",
       "zgEAACAmzgEAACAmzgEAACAmzgEAACAmzgEAACAmzgEAACAmzgEAACAmzgEAACAmzgEAACAmzgEA\n",
       "ACAmzgEAACAmzgEAACAmzgEAACAmzgEAACAmzgEAACAmzgEAACAmzgEAACAmzgEAACAmzgEAACAm\n",
       "zgEAACAmzgEAACAmzgEAACAmzgEAACAmzgEAACAmzgEAACAmzgEAACAmzgEAACAmzgEAACAmzgEA\n",
       "ACAmzgEAACC2zMxdjwAA+J+c+1VP4GE71noCwF95zgEAACAmzgEAACAmzgEAACAmzgEAACAmzgEA\n",
       "ACAmzgEAACAmzgEAACAmzgEAACAmzgEAACAmzgEAACAmzgEAACAmzgEAACAmzgEAACAmzgEAACAm\n",
       "zgEAACAmzgEAACAmzgEAACAmzgEAACAmzgEAACAmzgEAACAmzgEAACAmzgEAACAmzgEAACAmzgEA\n",
       "ACAmzgEAACAmzgEAACAmzgEAACAmzgEAACAmzgEAACAmzgEAACAmzgEAACAmzgEAACAmzgEAACAm\n",
       "zgEAACAmzgEAACAmzgEAACAmzgEAACAmzgEAACAmzgEAACAmzgEAACAmzgEAACAmzgEAACAmzgEA\n",
       "ACAmzgEAACAmzgEAACAmzgEAACAmzgEAACAmzgEAACAmzgEAACAmzgEAACAmzgEAACAmzgEAACAm\n",
       "zgEAACAmzgEAACAmzgEAACAmzgEAACAmzgEAACAmzgEAACAmzgEAACAmzgEAACAmzgEAACAmzgEA\n",
       "ACAmzgEAACAmzgEAACAmzgEAACAmzgEAACAmzgEAACAmzgEAACAmzgEAACAmzgEAACAmzgEAACAm\n",
       "zgEAACAmzgEAACAmzgEAACAmzgEAACAmzgEAACAmzgEAACAmzgEAACAmzgEAACAmzgEAACAmzgEA\n",
       "ACAmzgEAACAmzgEAACAmzgEAACAmzgEAACAmzgEAACAmzgEAACAmzgEAACAmzgEAACAmzgEAACAm\n",
       "zgEAACAmzgEAACAmzgEAACAmzgEAACAmzgEAACAmzgEAACAmzgEAACAmzgEAACAmzgEAACC2zMxd\n",
       "jwAAgLdy7lc9gYftWOsJ8CF5zgEAACAmzgEAACAmzgEAACAmzgEAACAmzgEAACAmzgEAACAmzgEA\n",
       "ACAmzgEAACAmzgEAACAmzgEAACAmzgEAACAmzgEAACAmzgEAACAmzgEAACAmzgEAACAmzgEAACAm\n",
       "zgEAACAmzgEAACAmzgEAACAmzgEAACAmzgEAACAmzgEAACAmzgEAACAmzgEAACAmzgEAACAmzgEA\n",
       "ACAmzgEAACAmzgEAACAmzgEAACAmzgEAACAmzgEAACAmzgEAACAmzgEAACAmzgEAACAmzgEAACAm\n",
       "zgEAACAmzgEAACAmzgEAACAmzgEAACAmzgEAACAmzgEAACAmzgEAACAmzgEAACAmzgEAACAmzgEA\n",
       "ACAmzgEAACAmzgEAACAmzgEAACAmzgEAACAmzgEAACAmzgEAACAmzgEAACAmzgEAACAmzgEAACAm\n",
       "zgEAACAmzgEAACAmzgEAACAmzgEAACAmzgEAACAmzgEAACAmzgEAACAmzgEAACAmzgEAACAmzgEA\n",
       "ACAmzgEAACAmzgEAACAmzgEAACAmzgEAACAmzgEAACAmzgEAACAmzgEAACAmzgEAACAmzgEAACAm\n",
       "zgEAACAmzgEAACAmzgEAACAmzgEAACAmzgEAACAmzgEAACAmzgEAACAmzgEAACAmzgEAACAmzgEA\n",
       "ACAmzgEAACAmzgEAACAmzgEAACAmzgEAACAmzgEAACAmzgEAACAmzgEAACAmzgEAACAmzgEAACAm\n",
       "zgEAACAmzgEAACAmzgEAACAmzgEAACAmzgEAACAmzgEAACAmzgEAACC2zMxdjwAAAL6Gc7/qCTxs\n",
       "x1pP4IXnHAAAAGLiHAAAAGLiHAAAAGLiHAAAAGLiHAAAAGLiHAAAAGLiHAAAAGLiHAAAAGLiHAAA\n",
       "AGLiHAAAAGLiHAAAAGLiHAAAAGLiHAAAAGLiHAAAAGLiHAAAAGLiHAAAAGLiHAAAAGLiHAAAAGLi\n",
       "HAAAAGLiHAAAAGLiHAAAAGLiHAAAAGLiHAAAAGLiHAAAAGLiHAAAAGLiHAAAAGLiHAAAAGLiHAAA\n",
       "AGLiHAAAAGLiHAAAAGLiHAAAAGLiHAAAAGLiHAAAAGLiHAAAAGLiHAAAAGLiHAAAAGLiHAAAAGLi\n",
       "HAAAAGLiHAAAAGLiHAAAAGLiHAAAAGLiHAAAAGLiHAAAAGLiHAAAAGLiHAAAAGLiHAAAAGLiHAAA\n",
       "AGLiHAAAAGLiHAAAAGLiHAAAAGLiHAAAAGLiHAAAAGLiHAAAAGLiHAAAAGLiHAAAAGLiHAAAAGLi\n",
       "HAAAAGLiHAAAAGLiHAAAAGLiHAAAAGLiHAAAAGLiHAAAAGLiHAAAAGLiHAAAAGLiHAAAAGLiHAAA\n",
       "AGLiHAAAAGLiHAAAAGLiHAAAAGLiHAAAAGLiHAAAAGLiHAAAAGLiHAAAAGLiHAAAAGLiHAAAAGLi\n",
       "HAAAAGLiHAAAAGLiHAAAAGLiHAAAAGLiHAAAAGLiHAAAAGLiHAAAAGLiHAAAAGLiHAAAAGLiHAAA\n",
       "AGLiHAAAAGLiHAAAAGLiHAAAAGLiHAAAAGLiHAAAAGLiHAAAAGLiHAAAAGLiHAAAAGLiHAAAAGLi\n",
       "HAAAAGLiHAAAAGLiHAAAAGLiHAAAAGLiHAAAAGLLzNz1CAAAAN7fuV/1BF54zgEAACAmzgEAACAm\n",
       "zgEAACAmzgEAACAmzgEAACAmzgEAACAmzgEAACAmzgEAACAmzgEAACAmzgEAACAmzgEAACAmzgEA\n",
       "ACAmzgEAACAmzgEAACAmzgEAACAmzgEAACAmzgEAACAmzgEAACAmzgEAACAmzgEAACAmzgEAACAm\n",
       "zgEAACAmzgEAACAmzgEAACAmzgEAACAmzgEAACAmzgEAACAmzgEAACAmzgEAACAmzgEAACAmzgEA\n",
       "ACAmzgEAACAmzgEAACAmzgEAACAmzgEAACAmzgEAACAmzgEAACAmzgEAACAmzgEAACAmzgEAACAm\n",
       "zgEAACAmzgEAACAmzgEAACAmzgEAACAmzgEAACAmzgEAACAmzgEAACAmzgEAACAmzgEAACAmzgEA\n",
       "ACAmzgEAACAmzgEAACAmzgEAACAmzgEAACAmzgEAACAmzgEAACAmzgEAACAmzgEAACAmzgEAACAm\n",
       "zgEAACAmzgEAACAmzgEAACAmzgEAACAmzgEAACAmzgEAACAmzgEAACAmzgEAACAmzgEAACAmzgEA\n",
       "ACAmzgEAACAmzgEAACAmzgEAACAmzgEAACAmzgEAACAmzgEAACAmzgEAACAmzgEAACAmzgEAACAm\n",
       "zgEAACAmzgEAACAmzgEAACAmzgEAACAmzgEAACAmzgEAACAmzgEAACAmzgEAACAmzgEAACAmzgEA\n",
       "ACAmzgEAACAmzgEAACAmzgEAACAmzgEAACAmzgEAACAmzgEAACAmzgEAACAmzgEAACAmzgEAACAm\n",
       "zgEAACD2G7MfR3k5ggdwAAAAAElFTkSuQmCC\n",
       "\" transform=\"translate(3634, 1096)\"/>\n",
       "</g>\n",
       "<defs>\n",
       "  <clipPath id=\"clip657\">\n",
       "    <rect x=\"4736\" y=\"624\" width=\"157\" height=\"1944\"/>\n",
       "  </clipPath>\n",
       "</defs>\n",
       "<g clip-path=\"url(#clip657)\">\n",
       "<image width=\"156\" height=\"1943\" xlink:href=\"data:image/png;base64,\n",
       "iVBORw0KGgoAAAANSUhEUgAAAJwAAAeXCAYAAAAl2AwAAAAUmUlEQVR4nO3dsZEkNwAEwcFHO0lL\n",
       "6RDdeIBe1AmXacEKFS1MANjz7z//vQ8if376B/C7CI6U4EgJjpTgSAmOlOBI7Zyf/gn8JhaOlOBI\n",
       "CY6U4EgJjpTgSAmO1D7f4QhZOFKCIyU4UoIjJThSgiO1IzlCciMlOFKCIyU4UoIjJThSgiPleBIp\n",
       "C0dKcKQER0pwpARHSnCkvJ5EysKREhwpwZESHCnBkRIcKcGRmuQoyY2U4EgJjpTgSAmOlOBICY7U\n",
       "jgNxhCwcKcGREhwpwZESHCnBkXJNkJSFIyU4UoIjJThSgiMlOFKCI+UVc1IWjpTgSAmOlOBICY6U\n",
       "4EjtSI6Q3EgJjpTgSAmOlOBICY6U4Eg5nkTKwpESHCnBkRIcKcGREhwpwZHyXBcpC0dKcKQER0pw\n",
       "pARHSnCkJjlKciMlOFKCIyU4UoIjJThSgiO143wSIQtHSnCkBEdKcKQER0pwpLyeRMrCkRIcKcGR\n",
       "EhwpwZESHCnBkfJ6EikLR0pwpARHSnCkBEdKcKQER2pHcoTkRkpwpARHSnCkBEdKcKRcEyRl4UgJ\n",
       "jpTgSAmOlOBICY6U4Ei5JkjKwpESHCnBkRIcKcGREhwpx5NIWThSgiMlOFKCIyU4UoIjJThSjieR\n",
       "snCkBEdKcKQER0pwpARHapKjJDdSgiMlOFKCIyU4UoIjJThSO84nEbJwpARHSnCkBEdKcKQER0pw\n",
       "pDzXRcrCkRIcKcGREhwpwZESHCmvJ5GycKQER0pwpARHSnCkBEdKcKQ810VKbqQER0pwpARHSnCk\n",
       "BEfK8SRSFo6U4EgJjpTgSAmOlOBICY6U15NIWThSgiMlOFKCIyU4UoIjJThSzsORsnCkBEdKcKQE\n",
       "R0pwpARHyvEkUhaOlOBICY6U4EgJjpTgSAmO1M4fH+LoWDhSgiMlOFKCIyU4UoIj5XgSKQtHSnCk\n",
       "BEdKcKQER0pwpARHyutJpCwcKcGREhwpwZESHCnBkRIcKefhSFk4UoIjJThSgiMlOFKCI+V4EikL\n",
       "R0pwpARHSnCkBEdKcKQER2qSoyQ3UoIjJThSgiMlOFKCI+V4EikLR0pwpARHSnCkBEdKcKQER8rr\n",
       "SaQsHCnBkRIcKcGREhwpwZESHCnn4UhZOFKCIyU4UoIjJThSgiO1z3cRQhaOlOBICY6U4EgJjpTg\n",
       "SAmOlONJpCwcKcGREhwpwZESHCnBkfLnbqTkRkpwpARHSnCkBEdKcKQER8rxJFIWjpTgSAmOlOBI\n",
       "CY6U4Ej5czdSFo6U4EgJjpTgSAmOlOBICY6U40mkLBwpwZESHCnBkRIcKcGREhwp5+FIWThSgiMl\n",
       "OFKCIyU4UoIjtSM5QnIjJThSgiMlOFKCIyU4UoIj5XgSKQtHSnCkBEdKcKQER0pwpHY8n0TIwpES\n",
       "HCnBkRIcKcGREhwpwZFyPImUhSMlOFKCIyU4UoIjJThSgiPl3wRJWThSgiMlOFKCIyU4UoIj5XgS\n",
       "KQtHSnCkBEdKcKQER0pwpARHyr8JkpIbKcGREhwpwZESHCnBkXI8iZSFIyU4UoIjJThSgiMlOFKC\n",
       "I+U7HCkLR0pwpARHSnCkBEdKcKQER8or5qQsHCnBkRIcKcGREhwpwZFyPImUhSMlOFKCIyU4UoIj\n",
       "JThSgiPleBIpC0dKcKQER0pwpARHSnCk9vkuQsjCkRIcKcGREhwpwZESHCnBkdqRHCG5kRIcKcGR\n",
       "EhwpwZESHCmvJ5GycKQER0pwpARHSnCkBEdKcKS8nkTKwpESHCnBkRIcKcGREhwpwZFyHo6UhSMl\n",
       "OFKCIyU4UoIjJThSPouQsnCkBEdKcKQER0pwpARHSnCkXBMkZeFICY6U4EgJjpTgSAmO1CRHSW6k\n",
       "BEdKcKQER0pwpARHSnCkHE8iZeFICY6U4EgJjpTgSAmOlOBIea6LlIUjJThSgiMlOFKCIyU4UjvO\n",
       "JxGycKQER0pwpARHSnCkBEdKcKQcTyJl4UgJjpTgSAmOlOBICY6U15NIWThSgiMlOFKCIyU4UoIj\n",
       "JThSjieRsnCkBEdKcKQER0pwpARHSnCkJjlKciMlOFKCIyU4UoIjJThSrgmSsnCkBEdKcKQER0pw\n",
       "pARHSnCkXBMkZeFICY6U4EgJjpTgSAmOlONJpCwcKcGREhwpwZESHCnBkRIcKceTSFk4UoIjJThS\n",
       "giMlOFKCIyU4Ur7DkbJwpARHSnCkBEdKcKQER2pHcoTkRkpwpARHSnCkBEdKcKQER2qf97oIWThS\n",
       "giMlOFKCIyU4UoIj5RVzUhaOlOBICY6U4EgJjpTgSAmOlNeTSFk4UoIjJThSgiMlOFKCI+V4EikL\n",
       "R0pwpARHSnCkBEdKcKQER8rxJFIWjpTgSAmOlOBICY6U4EgJjpTvcKQsHCnBkRIcKcGREhwpwZHa\n",
       "kRwhuZESHCnBkRIcKcGREhwpwZFyPImUhSMlOFKCIyU4UoIjJThSXjEnZeFICY6U4EgJjpTgSAmO\n",
       "lOBIOZ5EysKREhwpwZESHCnBkRIcKcGR8h2OlIUjJThSgiMlOFKCIyU4Uq4JkrJwpARHSnCkBEdK\n",
       "cKQER0pwpPb5EEfIwpESHCnBkRIcKcGREhypHckRkhspwZESHCnBkRIcKcGREhwpryeRsnCkBEdK\n",
       "cKQER0pwpARHSnCkfIcjZeFICY6U4EgJjpTgSAmOlFfMSVk4UoIjJThSgiMlOFKCIyU4Uo4nkbJw\n",
       "pARHSnCkBEdKcKQER8pnEVIWjpTgSAmOlOBICY6U4EgJjpRrgqQsHCnBkRIcKcGREhwpwZGa5CjJ\n",
       "jZTgSAmOlOBICY6U4EgJjpTjSaQsHCnBkRIcKcGREhwpwZESHCnPdZGycKQER0pwpARHSnCkBEfK\n",
       "ZxFSFo6U4EgJjpTgSAmOlOBICY7UjnuChCwcKcGREhwpwZESHCnBkXI8iZSFIyU4UoIjJThSgiMl\n",
       "OFKCI+U7HCkLR0pwpARHSnCkBEdKcKQER2pHcoTkRkpwpARHSnCkBEdKcKQcTyJl4UgJjpTgSAmO\n",
       "lOBICY6U4Ej5DkfKwpESHCnBkRIcKcGREhyp+W83ShaOlOBICY6U4EgJjpTgSAmOlONJpCwcKcGR\n",
       "EhwpwZESHCnBkRIcKd/hSFk4UoIjJThSgiMlOFKCI+WaICkLR0pwpARHSnCkBEdKcKQER2qSoyQ3\n",
       "UoIjJThSgiMlOFKCI+XWFikLR0pwpARHSnCkBEdKcKQER8o1QVIWjpTgSAmOlOBICY6U4EgJjpTz\n",
       "cKQsHCnBkRIcKcGREhwpwZHyWYSUhSMlOFKCIyU4UoIjJThSgiPlOxwpC0dKcKQER0pwpARHSnCk\n",
       "fBYhZeFICY6U4EgJjpTgSAmOlOBI7Tvvp38Dv4iFIyU4UoIjJThSgiMlOFKCIyU4UoIjJThSgiMl\n",
       "OFKCIyU4Uq4JkrJwpARHSnCkBEdKcKQER0pwpFwTJGXhSAmOlOBICY6U4EgJjtS+z2cROhaOlOBI\n",
       "CY6U4EgJjpTgSAmOlGuCpCwcKcGREhwpwZESHCnBkdpzPImQhSMlOFKCIyU4UoIjJThSgiPlmiAp\n",
       "C0dKcKQER0pwpARHSnCkBEdqzyvmhCwcKcGREhwpwZESHCnBkXJNkJSFIyU4UoIjJThSgiMlOFKC\n",
       "I7X3fIejY+FICY6U4EgJjpTgSAmO1L7v/vRv4BexcKQER0pwpARHSnCkBEdKcKRcEyRl4UgJjpTg\n",
       "SAmOlOBICY6U4Ej5DkfKwpESHCnBkRIcKcGREhyp3eeaIB0LR0pwpARHSnCkBEdKcKQER8rxJFIW\n",
       "jpTgSAmOlOBICY6U4EjtOZ5EyMKREhwpwZESHCnBkRIcKcGR2vNvgoQsHCnBkRIcKcGREhwpwZHa\n",
       "e25t0bFwpARHSnCkBEdKcKQER0pwpHYdTyJk4UgJjpTgSAmOlOBICY6U4Eh5rouUhSMlOFKCIyU4\n",
       "UoIjJThSrgmSsnCkBEdKcKQER0pwpARHSnCkvGJOysKREhwpwZESHCnBkRIcqV23tghZOFKCIyU4\n",
       "UoIjJThSgiMlOFKuCZKycKQER0pwpARHSnCkBEdKcKRcEyRl4UgJjpTgSAmOlOBICY6Ua4KkLBwp\n",
       "wZESHCnBkRIcKcGREhwp1wRJWThSgiMlOFKCIyU4UoIj5dYWKQtHSnCkBEdKcKQER0pwpARHyjVB\n",
       "UhaOlOBICY6U4EgJjpTgSAmO1J7vcIQsHCnBkRIcKcGREhwpwZHa+7yeRMfCkRIcKcGREhwpwZES\n",
       "HCnBkXI8iZSFIyU4UoIjJThSgiMlOFJeTyJl4UgJjpTgSAmOlOBICY6U4Ei5JkjKwpESHCnBkRIc\n",
       "KcGREhwpwZFyTZCUhSMlOFKCIyU4UoIjJThSrgmSsnCkBEdKcKQER0pwpARHSnCk9p5rgnQsHCnB\n",
       "kRIcKcGREhwpwZHa+xxPomPhSAmOlOBICY6U4EgJjpTgSLkmSMrCkRIcKcGREhwpwZESHCm3tkhZ\n",
       "OFKCIyU4UoIjJThSgiMlOFKuCZKycKQER0pwpARHSnCkBEdKcKRcEyRl4UgJjpTgSAmOlOBICY6U\n",
       "a4KkLBwpwZESHCnBkRIcKcGREhwp1wRJWThSgiMlOFKCIyU4UoIj5dYWKQtHSnCkBEdKcKQER0pw\n",
       "pARHyjVBUhaOlOBICY6U4EgJjpTgSAmOlGuCpCwcKcGREhwpwZESHCnBkXJNkJSFIyU4UoIjJThS\n",
       "giMlOFKCI+WaICkLR0pwpARHSnCkBEdKcKT2HE8iZOFICY6U4EgJjpTgSAmOlOBI7Xo9iZCFIyU4\n",
       "UoIjJThSgiMlOFKCI+WaICkLR0pwpARHSnCkBEdKcKRcEyRl4UgJjpTgSAmOlOBICY6U4Ei5JkjK\n",
       "wpESHCnBkRIcKcGREhwpt7ZIWThSgiMlOFKCIyU4UoIjJThSrgmSsnCkBEdKcKQER0pwpARHyq0t\n",
       "UhaOlOBICY6U4EgJjpTgSAmOlGuCpCwcKcGREhwpwZESHCnBkRIcKdcESVk4UoIjJThSgiMlOFKC\n",
       "I7XreBIhC0dKcKQER0pwpARHSnCkBEdqz3NdhCwcKcGREhwpwZESHCnBkXJri5SFIyU4UoIjJThS\n",
       "giMlOFKCI+WaICkLR0pwpARHSnCkBEdKcKQER8o1QVIWjpTgSAmOlOBICY6U4Ei5JkjKwpESHCnB\n",
       "kRIcKcGREhwpwZFyTZCUhSMlOFKCIyU4UoIjJThSbm2RsnCkBEdKcKQER0pwpARHSnCkXBMkZeFI\n",
       "CY6U4EgJjpTgSAmOlOBIuSZIysKREhwpwZESHCnBkRIcKdcESVk4UoIjJThSgiMlOFKCIyU4Uq4J\n",
       "krJwpARHSnCkBEdKcKQER8qtLVIWjpTgSAmOlOBICY6U4EgJjpTjSaQsHCnBkRIcKcGREhwpwZES\n",
       "HKm9z3k4OhaOlOBICY6U4EgJjpTgSO06nkTIwpESHCnBkRIcKcGREhwpwZFyTZCUhSMlOFKCIyU4\n",
       "UoIjJThSu25tEbJwpARHSnCkBEdKcKQER0pwpBxPImXhSAmOlOBICY6U4EgJjpTPIqQsHCnBkRIc\n",
       "KcGREhwpwZESHCnXBElZOFKCIyU4UoIjJThSgiMlOFLOw5GycKQER0pwpARHSnCkBEdq12cRQhaO\n",
       "lOBICY6U4EgJjpTgSAmO1N5zTZCOhSMlOFKCIyU4UoIjJThSe5/jSXQsHCnBkRIcKcGREhwpwZES\n",
       "HKldx5MIWThSgiMlOFKCIyU4UoIjJThSXjEnZeFICY6U4EgJjpTgSAmOlGuCpCwcKcGREhwpwZES\n",
       "HCnBkRIcKdcESVk4UoIjJThSgiMlOFKCI+XWFikLR0pwpARHSnCkBEdKcKQER2rXdzhCFo6U4EgJ\n",
       "jpTgSAmOlOBICY7U3ueaIB0LR0pwpARHSnCkBEdKcKQcTyJl4UgJjpTgSAmOlOBICY6U4Eh5rouU\n",
       "hSMlOFKCIyU4UoIjJThSbm2RsnCkBEdKcKQER0pwpARHSnCkXBMkZeFICY6U4EgJjpTgSAmOlFtb\n",
       "pCwcKcGREhwpwZESHCnBkRIcqV3XBAlZOFKCIyU4UoIjJThSgiMlOFLOw5GycKQER0pwpARHSnCk\n",
       "BEfK60mkLBwpwZESHCnBkRIcKcGREhypveeaIB0LR0pwpARHSnCkBEdKcKR2P8eT6Fg4UoIjJThS\n",
       "giMlOFKCIyU4Ul5PImXhSAmOlOBICY6U4EgJjpTgSO26JkjIwpESHCnBkRIcKcGREhypPdcECVk4\n",
       "UoIjJThSgiMlOFKCIyU4Uv5NkJSFIyU4UoIjJThSgiMlOFL+3I2UhSMlOFKCIyU4UoIjJThSgiPl\n",
       "eBIpC0dKcKQER0pwpARHSnCkBEfKc12kLBwpwZESHCnBkRIcKcGR8udupCwcKcGREhwpwZESHCnB\n",
       "kRIcqT3XBAlZOFKCIyU4UoIjJThSgiO169YWIQtHSnCkBEdKcKQER0pwpARHyvEkUhaOlOBICY6U\n",
       "4EgJjpTgSAmOlOe6SFk4UoIjJThSgiMlOFKCI+XP3UhZOFKCIyU4UoIjJThSgiMlOFK7rgkSsnCk\n",
       "BEdKcKQER0pwpARHymcRUhaOlOBICY6U4EgJjpTgSAmOlFfMSVk4UoIjJThSgiMlOFKCI7Xr9SRC\n",
       "Fo6U4EgJjpTgSAmOlOBICY6UP3cjZeFICY6U4EgJjpTgSAmOlOBIuSZIysKREhwpwZESHCnBkRIc\n",
       "KdcESVk4UoIjJThSgiMlOFKCIyU4Uv5NkJSFIyU4UoIjJThSgiMlOFJubZGycKQER0pwpARHSnCk\n",
       "BEdKcKQcTyJl4UgJjpTgSAmOlOBICY6U4Ejtfn9/+jfwi1g4UoIjJThSgiMlOFKCI+V4EikLR0pw\n",
       "pARHSnCkBEdKcKQER8pzXaQsHCnBkRIcKcGREhwpwZHa/XwWoWPhSAmOlOBICY6U4EgJjpTgSO0+\n",
       "ryfRsXCkBEdKcKQER0pwpARHSnCkPNdFysKREhwpwZESHCnBkRIcKceTSFk4UoIjJThSgiMlOFKC\n",
       "IyU4Uruf73B0LBwpwZESHCnBkRIcKcGRcjyJlIUjJThSgiMlOFKCIyU4UoIj5TscKQtHSnCkBEdK\n",
       "cKQER0pwpP4HOvdrFLvYkYEAAAAASUVORK5CYII=\n",
       "\" transform=\"translate(4737, 624)\"/>\n",
       "</g>\n",
       "<path clip-path=\"url(#clip650)\" d=\"M4970.76 2564.3 L5000.43 2564.3 L5000.43 2568.24 L4970.76 2568.24 L4970.76 2564.3 Z\" fill=\"#000000\" fill-rule=\"evenodd\" fill-opacity=\"1\" /><path clip-path=\"url(#clip650)\" d=\"M5011.33 2577.19 L5018.97 2577.19 L5018.97 2550.83 L5010.66 2552.5 L5010.66 2548.24 L5018.93 2546.57 L5023.6 2546.57 L5023.6 2577.19 L5031.24 2577.19 L5031.24 2581.13 L5011.33 2581.13 L5011.33 2577.19 Z\" fill=\"#000000\" fill-rule=\"evenodd\" fill-opacity=\"1\" /><path clip-path=\"url(#clip650)\" d=\"M5040.69 2575.25 L5045.57 2575.25 L5045.57 2581.13 L5040.69 2581.13 L5040.69 2575.25 Z\" fill=\"#000000\" fill-rule=\"evenodd\" fill-opacity=\"1\" /><path clip-path=\"url(#clip650)\" d=\"M5065.76 2549.65 Q5062.14 2549.65 5060.32 2553.21 Q5058.51 2556.75 5058.51 2563.88 Q5058.51 2570.99 5060.32 2574.56 Q5062.14 2578.1 5065.76 2578.1 Q5069.39 2578.1 5071.2 2574.56 Q5073.02 2570.99 5073.02 2563.88 Q5073.02 2556.75 5071.2 2553.21 Q5069.39 2549.65 5065.76 2549.65 M5065.76 2545.94 Q5071.57 2545.94 5074.62 2550.55 Q5077.7 2555.13 5077.7 2563.88 Q5077.7 2572.61 5074.62 2577.22 Q5071.57 2581.8 5065.76 2581.8 Q5059.95 2581.8 5056.87 2577.22 Q5053.81 2572.61 5053.81 2563.88 Q5053.81 2555.13 5056.87 2550.55 Q5059.95 2545.94 5065.76 2545.94 Z\" fill=\"#000000\" fill-rule=\"evenodd\" fill-opacity=\"1\" /><path clip-path=\"url(#clip650)\" d=\"M5095.92 2549.65 Q5092.31 2549.65 5090.48 2553.21 Q5088.67 2556.75 5088.67 2563.88 Q5088.67 2570.99 5090.48 2574.56 Q5092.31 2578.1 5095.92 2578.1 Q5099.55 2578.1 5101.36 2574.56 Q5103.19 2570.99 5103.19 2563.88 Q5103.19 2556.75 5101.36 2553.21 Q5099.55 2549.65 5095.92 2549.65 M5095.92 2545.94 Q5101.73 2545.94 5104.78 2550.55 Q5107.86 2555.13 5107.86 2563.88 Q5107.86 2572.61 5104.78 2577.22 Q5101.73 2581.8 5095.92 2581.8 Q5090.11 2581.8 5087.03 2577.22 Q5083.97 2572.61 5083.97 2563.88 Q5083.97 2555.13 5087.03 2550.55 Q5090.11 2545.94 5095.92 2545.94 Z\" fill=\"#000000\" fill-rule=\"evenodd\" fill-opacity=\"1\" /><path clip-path=\"url(#clip650)\" d=\"M4970.76 2321.42 L5000.43 2321.42 L5000.43 2325.36 L4970.76 2325.36 L4970.76 2321.42 Z\" fill=\"#000000\" fill-rule=\"evenodd\" fill-opacity=\"1\" /><path clip-path=\"url(#clip650)\" d=\"M5020.52 2306.77 Q5016.91 2306.77 5015.08 2310.33 Q5013.28 2313.88 5013.28 2321.01 Q5013.28 2328.11 5015.08 2331.68 Q5016.91 2335.22 5020.52 2335.22 Q5024.16 2335.22 5025.96 2331.68 Q5027.79 2328.11 5027.79 2321.01 Q5027.79 2313.88 5025.96 2310.33 Q5024.16 2306.77 5020.52 2306.77 M5020.52 2303.07 Q5026.33 2303.07 5029.39 2307.67 Q5032.47 2312.26 5032.47 2321.01 Q5032.47 2329.73 5029.39 2334.34 Q5026.33 2338.92 5020.52 2338.92 Q5014.71 2338.92 5011.64 2334.34 Q5008.58 2329.73 5008.58 2321.01 Q5008.58 2312.26 5011.64 2307.67 Q5014.71 2303.07 5020.52 2303.07 Z\" fill=\"#000000\" fill-rule=\"evenodd\" fill-opacity=\"1\" /><path clip-path=\"url(#clip650)\" d=\"M5040.69 2332.37 L5045.57 2332.37 L5045.57 2338.25 L5040.69 2338.25 L5040.69 2332.37 Z\" fill=\"#000000\" fill-rule=\"evenodd\" fill-opacity=\"1\" /><path clip-path=\"url(#clip650)\" d=\"M5054.57 2303.69 L5076.8 2303.69 L5076.8 2305.68 L5064.25 2338.25 L5059.37 2338.25 L5071.17 2307.63 L5054.57 2307.63 L5054.57 2303.69 Z\" fill=\"#000000\" fill-rule=\"evenodd\" fill-opacity=\"1\" /><path clip-path=\"url(#clip650)\" d=\"M5085.96 2303.69 L5104.32 2303.69 L5104.32 2307.63 L5090.25 2307.63 L5090.25 2316.1 Q5091.26 2315.75 5092.28 2315.59 Q5093.3 2315.4 5094.32 2315.4 Q5100.11 2315.4 5103.49 2318.57 Q5106.87 2321.75 5106.87 2327.16 Q5106.87 2332.74 5103.39 2335.84 Q5099.92 2338.92 5093.6 2338.92 Q5091.43 2338.92 5089.16 2338.55 Q5086.91 2338.18 5084.51 2337.44 L5084.51 2332.74 Q5086.59 2333.88 5088.81 2334.43 Q5091.03 2334.99 5093.51 2334.99 Q5097.51 2334.99 5099.85 2332.88 Q5102.19 2330.77 5102.19 2327.16 Q5102.19 2323.55 5099.85 2321.45 Q5097.51 2319.34 5093.51 2319.34 Q5091.63 2319.34 5089.76 2319.76 Q5087.91 2320.17 5085.96 2321.05 L5085.96 2303.69 Z\" fill=\"#000000\" fill-rule=\"evenodd\" fill-opacity=\"1\" /><path clip-path=\"url(#clip650)\" d=\"M4970.76 2078.54 L5000.43 2078.54 L5000.43 2082.48 L4970.76 2082.48 L4970.76 2078.54 Z\" fill=\"#000000\" fill-rule=\"evenodd\" fill-opacity=\"1\" /><path clip-path=\"url(#clip650)\" d=\"M5020.52 2063.89 Q5016.91 2063.89 5015.08 2067.46 Q5013.28 2071 5013.28 2078.13 Q5013.28 2085.23 5015.08 2088.8 Q5016.91 2092.34 5020.52 2092.34 Q5024.16 2092.34 5025.96 2088.8 Q5027.79 2085.23 5027.79 2078.13 Q5027.79 2071 5025.96 2067.46 Q5024.16 2063.89 5020.52 2063.89 M5020.52 2060.19 Q5026.33 2060.19 5029.39 2064.79 Q5032.47 2069.38 5032.47 2078.13 Q5032.47 2086.85 5029.39 2091.46 Q5026.33 2096.04 5020.52 2096.04 Q5014.71 2096.04 5011.64 2091.46 Q5008.58 2086.85 5008.58 2078.13 Q5008.58 2069.38 5011.64 2064.79 Q5014.71 2060.19 5020.52 2060.19 Z\" fill=\"#000000\" fill-rule=\"evenodd\" fill-opacity=\"1\" /><path clip-path=\"url(#clip650)\" d=\"M5040.69 2089.49 L5045.57 2089.49 L5045.57 2095.37 L5040.69 2095.37 L5040.69 2089.49 Z\" fill=\"#000000\" fill-rule=\"evenodd\" fill-opacity=\"1\" /><path clip-path=\"url(#clip650)\" d=\"M5055.8 2060.81 L5074.16 2060.81 L5074.16 2064.75 L5060.08 2064.75 L5060.08 2073.22 Q5061.1 2072.87 5062.12 2072.71 Q5063.14 2072.52 5064.16 2072.52 Q5069.95 2072.52 5073.32 2075.7 Q5076.7 2078.87 5076.7 2084.28 Q5076.7 2089.86 5073.23 2092.96 Q5069.76 2096.04 5063.44 2096.04 Q5061.26 2096.04 5059 2095.67 Q5056.75 2095.3 5054.34 2094.56 L5054.34 2089.86 Q5056.43 2091 5058.65 2091.55 Q5060.87 2092.11 5063.35 2092.11 Q5067.35 2092.11 5069.69 2090 Q5072.03 2087.9 5072.03 2084.28 Q5072.03 2080.67 5069.69 2078.57 Q5067.35 2076.46 5063.35 2076.46 Q5061.47 2076.46 5059.6 2076.88 Q5057.75 2077.29 5055.8 2078.17 L5055.8 2060.81 Z\" fill=\"#000000\" fill-rule=\"evenodd\" fill-opacity=\"1\" /><path clip-path=\"url(#clip650)\" d=\"M5095.92 2063.89 Q5092.31 2063.89 5090.48 2067.46 Q5088.67 2071 5088.67 2078.13 Q5088.67 2085.23 5090.48 2088.8 Q5092.31 2092.34 5095.92 2092.34 Q5099.55 2092.34 5101.36 2088.8 Q5103.19 2085.23 5103.19 2078.13 Q5103.19 2071 5101.36 2067.46 Q5099.55 2063.89 5095.92 2063.89 M5095.92 2060.19 Q5101.73 2060.19 5104.78 2064.79 Q5107.86 2069.38 5107.86 2078.13 Q5107.86 2086.85 5104.78 2091.46 Q5101.73 2096.04 5095.92 2096.04 Q5090.11 2096.04 5087.03 2091.46 Q5083.97 2086.85 5083.97 2078.13 Q5083.97 2069.38 5087.03 2064.79 Q5090.11 2060.19 5095.92 2060.19 Z\" fill=\"#000000\" fill-rule=\"evenodd\" fill-opacity=\"1\" /><path clip-path=\"url(#clip650)\" d=\"M4970.76 1835.66 L5000.43 1835.66 L5000.43 1839.6 L4970.76 1839.6 L4970.76 1835.66 Z\" fill=\"#000000\" fill-rule=\"evenodd\" fill-opacity=\"1\" /><path clip-path=\"url(#clip650)\" d=\"M5020.52 1821.01 Q5016.91 1821.01 5015.08 1824.58 Q5013.28 1828.12 5013.28 1835.25 Q5013.28 1842.35 5015.08 1845.92 Q5016.91 1849.46 5020.52 1849.46 Q5024.16 1849.46 5025.96 1845.92 Q5027.79 1842.35 5027.79 1835.25 Q5027.79 1828.12 5025.96 1824.58 Q5024.16 1821.01 5020.52 1821.01 M5020.52 1817.31 Q5026.33 1817.31 5029.39 1821.91 Q5032.47 1826.5 5032.47 1835.25 Q5032.47 1843.97 5029.39 1848.58 Q5026.33 1853.16 5020.52 1853.16 Q5014.71 1853.16 5011.64 1848.58 Q5008.58 1843.97 5008.58 1835.25 Q5008.58 1826.5 5011.64 1821.91 Q5014.71 1817.31 5020.52 1817.31 Z\" fill=\"#000000\" fill-rule=\"evenodd\" fill-opacity=\"1\" /><path clip-path=\"url(#clip650)\" d=\"M5040.69 1846.61 L5045.57 1846.61 L5045.57 1852.49 L5040.69 1852.49 L5040.69 1846.61 Z\" fill=\"#000000\" fill-rule=\"evenodd\" fill-opacity=\"1\" /><path clip-path=\"url(#clip650)\" d=\"M5059.78 1848.56 L5076.1 1848.56 L5076.1 1852.49 L5054.16 1852.49 L5054.16 1848.56 Q5056.82 1845.8 5061.4 1841.17 Q5066.01 1836.52 5067.19 1835.18 Q5069.44 1832.66 5070.32 1830.92 Q5071.22 1829.16 5071.22 1827.47 Q5071.22 1824.72 5069.27 1822.98 Q5067.35 1821.24 5064.25 1821.24 Q5062.05 1821.24 5059.6 1822.01 Q5057.17 1822.77 5054.39 1824.32 L5054.39 1819.6 Q5057.21 1818.47 5059.67 1817.89 Q5062.12 1817.31 5064.16 1817.31 Q5069.53 1817.31 5072.72 1819.99 Q5075.92 1822.68 5075.92 1827.17 Q5075.92 1829.3 5075.11 1831.22 Q5074.32 1833.12 5072.21 1835.71 Q5071.63 1836.38 5068.53 1839.6 Q5065.43 1842.79 5059.78 1848.56 Z\" fill=\"#000000\" fill-rule=\"evenodd\" fill-opacity=\"1\" /><path clip-path=\"url(#clip650)\" d=\"M5085.96 1817.93 L5104.32 1817.93 L5104.32 1821.87 L5090.25 1821.87 L5090.25 1830.34 Q5091.26 1829.99 5092.28 1829.83 Q5093.3 1829.65 5094.32 1829.65 Q5100.11 1829.65 5103.49 1832.82 Q5106.87 1835.99 5106.87 1841.41 Q5106.87 1846.98 5103.39 1850.09 Q5099.92 1853.16 5093.6 1853.16 Q5091.43 1853.16 5089.16 1852.79 Q5086.91 1852.42 5084.51 1851.68 L5084.51 1846.98 Q5086.59 1848.12 5088.81 1848.67 Q5091.03 1849.23 5093.51 1849.23 Q5097.51 1849.23 5099.85 1847.12 Q5102.19 1845.02 5102.19 1841.41 Q5102.19 1837.79 5099.85 1835.69 Q5097.51 1833.58 5093.51 1833.58 Q5091.63 1833.58 5089.76 1834 Q5087.91 1834.41 5085.96 1835.29 L5085.96 1817.93 Z\" fill=\"#000000\" fill-rule=\"evenodd\" fill-opacity=\"1\" /><path clip-path=\"url(#clip650)\" d=\"M4982.7 1578.13 Q4979.09 1578.13 4977.26 1581.7 Q4975.45 1585.24 4975.45 1592.37 Q4975.45 1599.48 4977.26 1603.04 Q4979.09 1606.58 4982.7 1606.58 Q4986.33 1606.58 4988.14 1603.04 Q4989.97 1599.48 4989.97 1592.37 Q4989.97 1585.24 4988.14 1581.7 Q4986.33 1578.13 4982.7 1578.13 M4982.7 1574.43 Q4988.51 1574.43 4991.57 1579.04 Q4994.64 1583.62 4994.64 1592.37 Q4994.64 1601.1 4991.57 1605.7 Q4988.51 1610.29 4982.7 1610.29 Q4976.89 1610.29 4973.81 1605.7 Q4970.76 1601.1 4970.76 1592.37 Q4970.76 1583.62 4973.81 1579.04 Q4976.89 1574.43 4982.7 1574.43 Z\" fill=\"#000000\" fill-rule=\"evenodd\" fill-opacity=\"1\" /><path clip-path=\"url(#clip650)\" d=\"M4982.7 1335.25 Q4979.09 1335.25 4977.26 1338.82 Q4975.45 1342.36 4975.45 1349.49 Q4975.45 1356.6 4977.26 1360.16 Q4979.09 1363.7 4982.7 1363.7 Q4986.33 1363.7 4988.14 1360.16 Q4989.97 1356.6 4989.97 1349.49 Q4989.97 1342.36 4988.14 1338.82 Q4986.33 1335.25 4982.7 1335.25 M4982.7 1331.55 Q4988.51 1331.55 4991.57 1336.16 Q4994.64 1340.74 4994.64 1349.49 Q4994.64 1358.22 4991.57 1362.82 Q4988.51 1367.41 4982.7 1367.41 Q4976.89 1367.41 4973.81 1362.82 Q4970.76 1358.22 4970.76 1349.49 Q4970.76 1340.74 4973.81 1336.16 Q4976.89 1331.55 4982.7 1331.55 Z\" fill=\"#000000\" fill-rule=\"evenodd\" fill-opacity=\"1\" /><path clip-path=\"url(#clip650)\" d=\"M5002.86 1360.86 L5007.75 1360.86 L5007.75 1366.74 L5002.86 1366.74 L5002.86 1360.86 Z\" fill=\"#000000\" fill-rule=\"evenodd\" fill-opacity=\"1\" /><path clip-path=\"url(#clip650)\" d=\"M5021.96 1362.8 L5038.28 1362.8 L5038.28 1366.74 L5016.33 1366.74 L5016.33 1362.8 Q5019 1360.05 5023.58 1355.42 Q5028.19 1350.76 5029.37 1349.42 Q5031.61 1346.9 5032.49 1345.16 Q5033.39 1343.4 5033.39 1341.71 Q5033.39 1338.96 5031.45 1337.22 Q5029.53 1335.49 5026.43 1335.49 Q5024.23 1335.49 5021.77 1336.25 Q5019.34 1337.01 5016.57 1338.56 L5016.57 1333.84 Q5019.39 1332.71 5021.84 1332.13 Q5024.3 1331.55 5026.33 1331.55 Q5031.7 1331.55 5034.9 1334.24 Q5038.09 1336.92 5038.09 1341.41 Q5038.09 1343.54 5037.28 1345.46 Q5036.5 1347.36 5034.39 1349.95 Q5033.81 1350.62 5030.71 1353.84 Q5027.61 1357.04 5021.96 1362.8 Z\" fill=\"#000000\" fill-rule=\"evenodd\" fill-opacity=\"1\" /><path clip-path=\"url(#clip650)\" d=\"M5048.14 1332.18 L5066.5 1332.18 L5066.5 1336.11 L5052.42 1336.11 L5052.42 1344.58 Q5053.44 1344.24 5054.46 1344.07 Q5055.48 1343.89 5056.5 1343.89 Q5062.28 1343.89 5065.66 1347.06 Q5069.04 1350.23 5069.04 1355.65 Q5069.04 1361.23 5065.57 1364.33 Q5062.1 1367.41 5055.78 1367.41 Q5053.6 1367.41 5051.33 1367.04 Q5049.09 1366.67 5046.68 1365.93 L5046.68 1361.23 Q5048.76 1362.36 5050.99 1362.92 Q5053.21 1363.47 5055.69 1363.47 Q5059.69 1363.47 5062.03 1361.37 Q5064.37 1359.26 5064.37 1355.65 Q5064.37 1352.04 5062.03 1349.93 Q5059.69 1347.82 5055.69 1347.82 Q5053.81 1347.82 5051.94 1348.24 Q5050.08 1348.66 5048.14 1349.54 L5048.14 1332.18 Z\" fill=\"#000000\" fill-rule=\"evenodd\" fill-opacity=\"1\" /><path clip-path=\"url(#clip650)\" d=\"M4982.7 1092.38 Q4979.09 1092.38 4977.26 1095.94 Q4975.45 1099.48 4975.45 1106.61 Q4975.45 1113.72 4977.26 1117.28 Q4979.09 1120.82 4982.7 1120.82 Q4986.33 1120.82 4988.14 1117.28 Q4989.97 1113.72 4989.97 1106.61 Q4989.97 1099.48 4988.14 1095.94 Q4986.33 1092.38 4982.7 1092.38 M4982.7 1088.67 Q4988.51 1088.67 4991.57 1093.28 Q4994.64 1097.86 4994.64 1106.61 Q4994.64 1115.34 4991.57 1119.94 Q4988.51 1124.53 4982.7 1124.53 Q4976.89 1124.53 4973.81 1119.94 Q4970.76 1115.34 4970.76 1106.61 Q4970.76 1097.86 4973.81 1093.28 Q4976.89 1088.67 4982.7 1088.67 Z\" fill=\"#000000\" fill-rule=\"evenodd\" fill-opacity=\"1\" /><path clip-path=\"url(#clip650)\" d=\"M5002.86 1117.98 L5007.75 1117.98 L5007.75 1123.86 L5002.86 1123.86 L5002.86 1117.98 Z\" fill=\"#000000\" fill-rule=\"evenodd\" fill-opacity=\"1\" /><path clip-path=\"url(#clip650)\" d=\"M5017.98 1089.3 L5036.33 1089.3 L5036.33 1093.23 L5022.26 1093.23 L5022.26 1101.7 Q5023.28 1101.36 5024.3 1101.19 Q5025.32 1101.01 5026.33 1101.01 Q5032.12 1101.01 5035.5 1104.18 Q5038.88 1107.35 5038.88 1112.77 Q5038.88 1118.35 5035.41 1121.45 Q5031.94 1124.53 5025.62 1124.53 Q5023.44 1124.53 5021.17 1124.16 Q5018.93 1123.79 5016.52 1123.05 L5016.52 1118.35 Q5018.6 1119.48 5020.83 1120.04 Q5023.05 1120.59 5025.52 1120.59 Q5029.53 1120.59 5031.87 1118.49 Q5034.2 1116.38 5034.2 1112.77 Q5034.2 1109.16 5031.87 1107.05 Q5029.53 1104.94 5025.52 1104.94 Q5023.65 1104.94 5021.77 1105.36 Q5019.92 1105.78 5017.98 1106.66 L5017.98 1089.3 Z\" fill=\"#000000\" fill-rule=\"evenodd\" fill-opacity=\"1\" /><path clip-path=\"url(#clip650)\" d=\"M5058.09 1092.38 Q5054.48 1092.38 5052.65 1095.94 Q5050.85 1099.48 5050.85 1106.61 Q5050.85 1113.72 5052.65 1117.28 Q5054.48 1120.82 5058.09 1120.82 Q5061.73 1120.82 5063.53 1117.28 Q5065.36 1113.72 5065.36 1106.61 Q5065.36 1099.48 5063.53 1095.94 Q5061.73 1092.38 5058.09 1092.38 M5058.09 1088.67 Q5063.9 1088.67 5066.96 1093.28 Q5070.04 1097.86 5070.04 1106.61 Q5070.04 1115.34 5066.96 1119.94 Q5063.9 1124.53 5058.09 1124.53 Q5052.28 1124.53 5049.2 1119.94 Q5046.15 1115.34 5046.15 1106.61 Q5046.15 1097.86 5049.2 1093.28 Q5052.28 1088.67 5058.09 1088.67 Z\" fill=\"#000000\" fill-rule=\"evenodd\" fill-opacity=\"1\" /><path clip-path=\"url(#clip650)\" d=\"M4982.7 849.496 Q4979.09 849.496 4977.26 853.061 Q4975.45 856.603 4975.45 863.733 Q4975.45 870.839 4977.26 874.404 Q4979.09 877.945 4982.7 877.945 Q4986.33 877.945 4988.14 874.404 Q4989.97 870.839 4989.97 863.733 Q4989.97 856.603 4988.14 853.061 Q4986.33 849.496 4982.7 849.496 M4982.7 845.793 Q4988.51 845.793 4991.57 850.399 Q4994.64 854.983 4994.64 863.733 Q4994.64 872.459 4991.57 877.066 Q4988.51 881.649 4982.7 881.649 Q4976.89 881.649 4973.81 877.066 Q4970.76 872.459 4970.76 863.733 Q4970.76 854.983 4973.81 850.399 Q4976.89 845.793 4982.7 845.793 Z\" fill=\"#000000\" fill-rule=\"evenodd\" fill-opacity=\"1\" /><path clip-path=\"url(#clip650)\" d=\"M5002.86 875.098 L5007.75 875.098 L5007.75 880.978 L5002.86 880.978 L5002.86 875.098 Z\" fill=\"#000000\" fill-rule=\"evenodd\" fill-opacity=\"1\" /><path clip-path=\"url(#clip650)\" d=\"M5016.75 846.418 L5038.97 846.418 L5038.97 848.409 L5026.43 880.978 L5021.54 880.978 L5033.35 850.353 L5016.75 850.353 L5016.75 846.418 Z\" fill=\"#000000\" fill-rule=\"evenodd\" fill-opacity=\"1\" /><path clip-path=\"url(#clip650)\" d=\"M5048.14 846.418 L5066.5 846.418 L5066.5 850.353 L5052.42 850.353 L5052.42 858.825 Q5053.44 858.478 5054.46 858.316 Q5055.48 858.131 5056.5 858.131 Q5062.28 858.131 5065.66 861.302 Q5069.04 864.473 5069.04 869.89 Q5069.04 875.469 5065.57 878.57 Q5062.1 881.649 5055.78 881.649 Q5053.6 881.649 5051.33 881.279 Q5049.09 880.908 5046.68 880.168 L5046.68 875.469 Q5048.76 876.603 5050.99 877.158 Q5053.21 877.714 5055.69 877.714 Q5059.69 877.714 5062.03 875.607 Q5064.37 873.501 5064.37 869.89 Q5064.37 866.279 5062.03 864.172 Q5059.69 862.066 5055.69 862.066 Q5053.81 862.066 5051.94 862.483 Q5050.08 862.899 5048.14 863.779 L5048.14 846.418 Z\" fill=\"#000000\" fill-rule=\"evenodd\" fill-opacity=\"1\" /><path clip-path=\"url(#clip650)\" d=\"M4971.43 634.164 L4979.07 634.164 L4979.07 607.798 L4970.76 609.465 L4970.76 605.206 L4979.02 603.539 L4983.7 603.539 L4983.7 634.164 L4991.33 634.164 L4991.33 638.099 L4971.43 638.099 L4971.43 634.164 Z\" fill=\"#000000\" fill-rule=\"evenodd\" fill-opacity=\"1\" /><path clip-path=\"url(#clip650)\" d=\"M5000.78 632.219 L5005.66 632.219 L5005.66 638.099 L5000.78 638.099 L5000.78 632.219 Z\" fill=\"#000000\" fill-rule=\"evenodd\" fill-opacity=\"1\" /><path clip-path=\"url(#clip650)\" d=\"M5025.85 606.618 Q5022.24 606.618 5020.41 610.182 Q5018.6 613.724 5018.6 620.854 Q5018.6 627.96 5020.41 631.525 Q5022.24 635.067 5025.85 635.067 Q5029.48 635.067 5031.29 631.525 Q5033.12 627.96 5033.12 620.854 Q5033.12 613.724 5031.29 610.182 Q5029.48 606.618 5025.85 606.618 M5025.85 602.914 Q5031.66 602.914 5034.71 607.52 Q5037.79 612.104 5037.79 620.854 Q5037.79 629.581 5034.71 634.187 Q5031.66 638.77 5025.85 638.77 Q5020.04 638.77 5016.96 634.187 Q5013.9 629.581 5013.9 620.854 Q5013.9 612.104 5016.96 607.52 Q5020.04 602.914 5025.85 602.914 Z\" fill=\"#000000\" fill-rule=\"evenodd\" fill-opacity=\"1\" /><path clip-path=\"url(#clip650)\" d=\"M5056.01 606.618 Q5052.4 606.618 5050.57 610.182 Q5048.76 613.724 5048.76 620.854 Q5048.76 627.96 5050.57 631.525 Q5052.4 635.067 5056.01 635.067 Q5059.64 635.067 5061.45 631.525 Q5063.28 627.96 5063.28 620.854 Q5063.28 613.724 5061.45 610.182 Q5059.64 606.618 5056.01 606.618 M5056.01 602.914 Q5061.82 602.914 5064.88 607.52 Q5067.95 612.104 5067.95 620.854 Q5067.95 629.581 5064.88 634.187 Q5061.82 638.77 5056.01 638.77 Q5050.2 638.77 5047.12 634.187 Q5044.07 629.581 5044.07 620.854 Q5044.07 612.104 5047.12 607.52 Q5050.2 602.914 5056.01 602.914 Z\" fill=\"#000000\" fill-rule=\"evenodd\" fill-opacity=\"1\" /><polyline clip-path=\"url(#clip650)\" style=\"stroke:#000000; stroke-linecap:butt; stroke-linejoin:round; stroke-width:4; stroke-opacity:1; fill:none\" points=\"\n",
       "  4892.76,2567.48 4892.76,2567.48 4944.76,2567.48 4892.76,2567.48 4892.76,2324.6 4944.76,2324.6 4892.76,2324.6 4892.76,2081.72 4944.76,2081.72 4892.76,2081.72 \n",
       "  4892.76,1838.84 4944.76,1838.84 4892.76,1838.84 4892.76,1595.96 4944.76,1595.96 4892.76,1595.96 4892.76,1353.08 4944.76,1353.08 4892.76,1353.08 4892.76,1110.21 \n",
       "  4944.76,1110.21 4892.76,1110.21 4892.76,867.327 4944.76,867.327 4892.76,867.327 4892.76,624.448 4944.76,624.448 4892.76,624.448 \n",
       "  \"/>\n",
       "</svg>\n"
      ]
     },
     "execution_count": 20,
     "metadata": {},
     "output_type": "execute_result"
    }
   ],
   "source": [
    "p0 = imshow(kahan(10,eps())); plot!(p0, title=\"θ = 0\")\n",
    "p4 = imshow(kahan(10,π/4)); plot!(p4, title=\"θ = π/4\")\n",
    "p2 = imshow(kahan(10,π/2)); plot!(p2, title=\"θ = π/2\")\n",
    "draw(plot(p0, p4, p2, layout=(1,3), size=(1300,800)))"
   ]
  },
  {
   "cell_type": "markdown",
   "id": "5bc36718",
   "metadata": {},
   "source": [
    "If $0 < \\theta < \\pi/2$, each column has its largest component in its first entry; the entries get smaller geometrically."
   ]
  },
  {
   "cell_type": "markdown",
   "id": "ba79680f",
   "metadata": {
    "slideshow": {
     "slide_type": "subslide"
    }
   },
   "source": [
    "### CGS on a Kahan matrix vs. CGS on a perturbed Kahan matrix"
   ]
  },
  {
   "cell_type": "code",
   "execution_count": 21,
   "id": "e42ec83a",
   "metadata": {
    "cell_style": "split"
   },
   "outputs": [
    {
     "name": "stdout",
     "output_type": "stream",
     "text": [
      "Reconstruction error || A - Q R ||_F = 0.0\n",
      "Orthonormality error || I - Q'Q ||_F = 0.0\n",
      "Upper-triangularity error || R - triu(R) ||_F = 0.0\n"
     ]
    },
    {
     "data": {
      "text/plain": [
       "true"
      ]
     },
     "execution_count": 21,
     "metadata": {},
     "output_type": "execute_result"
    }
   ],
   "source": [
    "m = 10; θ = π/20\n",
    "M = kahan(m, θ)\n",
    "Q, R = qr_classical_gram_schmidt(M)\n",
    "qr_test(M, Q, R)"
   ]
  },
  {
   "cell_type": "code",
   "execution_count": 22,
   "id": "12c35b45",
   "metadata": {
    "cell_style": "split",
    "scrolled": true
   },
   "outputs": [
    {
     "name": "stdout",
     "output_type": "stream",
     "text": [
      "Reconstruction error || A - Q R ||_F = 0.0\n",
      "Orthonormality error || I - Q'Q ||_F = 1.084717103369114\n",
      "Upper-triangularity error || R - triu(R) ||_F = 0.0\n"
     ]
    },
    {
     "data": {
      "text/plain": [
       "false"
      ]
     },
     "execution_count": 22,
     "metadata": {},
     "output_type": "execute_result"
    }
   ],
   "source": [
    "ϕ = eps(Float64)\n",
    "M_p = copy(M[:,:])\n",
    "rot = [cos(ϕ) sin(ϕ); -sin(ϕ) cos(ϕ)]\n",
    "M_p[1:2,:] = rot * M[1:2,:]\n",
    "Q_p, R_p = qr_classical_gram_schmidt(M_p)\n",
    "qr_test(M_p, Q_p, R_p)"
   ]
  },
  {
   "cell_type": "code",
   "execution_count": 23,
   "id": "65da65df",
   "metadata": {},
   "outputs": [
    {
     "data": {
      "image/svg+xml": [
       "<?xml version=\"1.0\" encoding=\"utf-8\"?>\n",
       "<svg xmlns=\"http://www.w3.org/2000/svg\" xmlns:xlink=\"http://www.w3.org/1999/xlink\" width=\"1300\" height=\"500\" viewBox=\"0 0 5200 2000\">\n",
       "<defs>\n",
       "  <clipPath id=\"clip690\">\n",
       "    <rect x=\"0\" y=\"0\" width=\"5200\" height=\"2000\"/>\n",
       "  </clipPath>\n",
       "</defs>\n",
       "<path clip-path=\"url(#clip690)\" d=\"\n",
       "M0 2000 L5200 2000 L5200 0 L0 0  Z\n",
       "  \" fill=\"#ffffff\" fill-rule=\"evenodd\" fill-opacity=\"1\"/>\n",
       "<defs>\n",
       "  <clipPath id=\"clip691\">\n",
       "    <rect x=\"1040\" y=\"0\" width=\"3641\" height=\"2000\"/>\n",
       "  </clipPath>\n",
       "</defs>\n",
       "<path clip-path=\"url(#clip690)\" d=\"\n",
       "M166.959 1800.6 L4632.76 1800.6 L4632.76 143.709 L166.959 143.709  Z\n",
       "  \" fill=\"#ffffff\" fill-rule=\"evenodd\" fill-opacity=\"1\"/>\n",
       "<defs>\n",
       "  <clipPath id=\"clip692\">\n",
       "    <rect x=\"166\" y=\"143\" width=\"4467\" height=\"1658\"/>\n",
       "  </clipPath>\n",
       "</defs>\n",
       "<g clip-path=\"url(#clip692)\">\n",
       "<image width=\"1657\" height=\"1657\" xlink:href=\"data:image/png;base64,\n",
       "iVBORw0KGgoAAAANSUhEUgAABnkAAAZ5CAYAAACWn3EwAAAgAElEQVR4nOzbQRHCUBQEwSSFGkQg\n",
       "CQ8IRMlTwCkI4JTTZ6q6Fex9aveZOTcAAAAAAABSjtUDAAAAAAAAuE7kAQAAAAAACBJ5AAAAAAAA\n",
       "gkQeAAAAAACAIJEHAAAAAAAgSOQBAAAAAAAIEnkAAAAAAACCRB4AAAAAAIAgkQcAAAAAACBI5AEA\n",
       "AAAAAAgSeQAAAAAAAIJEHgAAAAAAgCCRBwAAAAAAIEjkAQAAAAAACBJ5AAAAAAAAgkQeAAAAAACA\n",
       "IJEHAAAAAAAgSOQBAAAAAAAIEnkAAAAAAACCRB4AAAAAAIAgkQcAAAAAACBI5AEAAAAAAAgSeQAA\n",
       "AAAAAIJEHgAAAAAAgCCRBwAAAAAAIEjkAQAAAAAACBJ5AAAAAAAAgkQeAAAAAACAIJEHAAAAAAAg\n",
       "SOQBAAAAAAAIEnkAAAAAAACCRB4AAAAAAIAgkQcAAAAAACBI5AEAAAAAAAgSeQAAAAAAAIJEHgAA\n",
       "AAAAgCCRBwAAAAAAIEjkAQAAAAAACBJ5AAAAAAAAgkQeAAAAAACAIJEHAAAAAAAgSOQBAAAAAAAI\n",
       "EnkAAAAAAACCRB4AAAAAAIAgkQcAAAAAACBI5AEAAAAAAAgSeQAAAAAAAIJEHgAAAAAAgCCRBwAA\n",
       "AAAAIEjkAQAAAAAACBJ5AAAAAAAAgkQeAAAAAACAIJEHAAAAAAAgSOQBAAAAAAAIEnkAAAAAAACC\n",
       "RB4AAAAAAIAgkQcAAAAAACBI5AEAAAAAAAgSeQAAAAAAAIJEHgAAAAAAgCCRBwAAAAAAIEjkAQAA\n",
       "AAAACBJ5AAAAAAAAgkQeAAAAAACAIJEHAAAAAAAgSOQBAAAAAAAIEnkAAAAAAACCRB4AAAAAAIAg\n",
       "kQcAAAAAACBI5AEAAAAAAAgSeQAAAAAAAIJEHgAAAAAAgCCRBwAAAAAAIEjkAQAAAAAACBJ5AAAA\n",
       "AAAAgkQeAAAAAACAIJEHAAAAAAAgSOQBAAAAAAAIEnkAAAAAAACCRB4AAAAAAIAgkQcAAAAAACBI\n",
       "5AEAAAAAAAgSeQAAAAAAAIJEHgAAAAAAgCCRBwAAAAAAIEjkAQAAAAAACBJ5AAAAAAAAgkQeAAAA\n",
       "AACAIJEHAAAAAAAgSOQBAAAAAAAIEnkAAAAAAACCRB4AAAAAAIAgkQcAAAAAACBI5AEAAAAAAAgS\n",
       "eQAAAAAAAIJEHgAAAAAAgCCRBwAAAAAAIEjkAQAAAAAACBJ5AAAAAAAAgkQeAAAAAACAIJEHAAAA\n",
       "AAAgSOQBAAAAAAAIEnkAAAAAAACCRB4AAAAAAIAgkQcAAAAAACBI5AEAAAAAAAgSeQAAAAAAAIJE\n",
       "HgAAAAAAgCCRBwAAAAAAIEjkAQAAAAAACBJ5AAAAAAAAgkQeAAAAAACAIJEHAAAAAAAgSOQBAAAA\n",
       "AAAIEnkAAAAAAACCRB4AAAAAAIAgkQcAAAAAACBI5AEAAAAAAAgSeQAAAAAAAIJEHgAAAAAAgCCR\n",
       "BwAAAAAAIEjkAQAAAAAACBJ5AAAAAAAAgkQeAAAAAACAIJEHAAAAAAAgSOQBAAAAAAAIEnkAAAAA\n",
       "AACCRB4AAAAAAIAgkQcAAAAAACBI5AEAAAAAAAgSeQAAAAAAAIJEHgAAAAAAgCCRBwAAAAAAIEjk\n",
       "AQAAAAAACBJ5AAAAAAAAgkQeAAAAAACAIJEHAAAAAAAgSOQBAAAAAAAIEnkAAAAAAACCRB4AAAAA\n",
       "AIAgkQcAAAAAACBI5AEAAAAAAAgSeQAAAAAAAIJEHgAAAAAAgCCRBwAAAAAAIEjkAQAAAAAACBJ5\n",
       "AAAAAAAAgkQeAAAAAACAIJEHAAAAAAAgSOQBAAAAAAAIEnkAAAAAAACCRB4AAAAAAIAgkQcAAAAA\n",
       "ACBI5AEAAAAAAAgSeQAAAAAAAIJEHgAAAAAAgCCRBwAAAAAAIEjkAQAAAAAACBJ5AAAAAAAAgkQe\n",
       "AAAAAACAIJEHAAAAAAAgSOQBAAAAAAAIEnkAAAAAAACCRB4AAAAAAIAgkQcAAAAAACDo9n5+Vm+A\n",
       "H6/HffUEAAAAAAD4a548AAAAAAAAQSIPAAAAAABAkMgDAAAAAAAQJPIAAAAAAAAEiTwAAAAAAABB\n",
       "Ig8AAAAAAECQyAMAAAAAABAk8gAAAAAAAASJPAAAAAAAAEEiDwAAAAAAQJDIAwAAAAAAECTyAAAA\n",
       "AAAABIk8AAAAAAAAQSIPAAAAAABAkMgDAAAAAAAQJPIAAAAAAAAEiTwAAAAAAABBIg8AAAAAAECQ\n",
       "yAMAAAAAABAk8gAAAAAAAASJPAAAAAAAAEEiDwAAAAAAQJDIAwAAAAAAECTyAAAAAAAABIk8AAAA\n",
       "AAAAQSIPAAAAAABAkMgDAAAAAAAQJPIAAAAAAAAEiTwAAAAAAABBIg8AAAAAAECQyAMAAAAAABAk\n",
       "8gAAAAAAAASJPAAAAAAAAEEiDwAAAAAAQJDIAwAAAAAAECTyAAAAAAAABIk8AAAAAAAAQSIPAAAA\n",
       "AABAkMgDAAAAAAAQJPIAAAAAAAAEiTwAAAAAAABBIg8AAAAAAECQyAMAAAAAABAk8gAAAAAAAASJ\n",
       "PAAAAAAAAEEiDwAAAAAAQJDIAwAAAAAAECTyAAAAAAAABIk8AAAAAAAAQSIPAAAAAABAkMgDAAAA\n",
       "AAAQJPIAAAAAAAAEiTwAAAAAAABBIg8AAAAAAECQyAMAAAAAABAk8gAAAAAAAASJPAAAAAAAAEEi\n",
       "DwAAAAAAQJDIAwAAAAAAECTyAAAAAAAABIk8AAAAAAAAQSIPAAAAAABAkMgDAAAAAAAQJPIAAAAA\n",
       "AAAEiTwAAAAAAABBIg8AAAAAAECQyAMAAAAAABAk8gAAAAAAAASJPAAAAAAAAEEiDwAAAAAAQJDI\n",
       "AwAAAAAAECTyAAAAAAAABIk8AAAAAAAAQSIPAAAAAABAkMgDAAAAAAAQJPIAAAAAAAAEiTwAAAAA\n",
       "AABBIg8AAAAAAECQyAMAAAAAABAk8gAAAAAAAASJPAAAAAAAAEEiDwAAAAAAQJDIAwAAAAAAECTy\n",
       "AAAAAAAABIk8AAAAAAAAQSIPAAAAAABAkMgDAAAAAAAQJPIAAAAAAAAEiTwAAAAAAABBIg8AAAAA\n",
       "AECQyAMAAAAAABAk8gAAAAAAAASJPAAAAAAAAEEiDwAAAAAAQJDIAwAAAAAAECTyAAAAAAAABIk8\n",
       "AAAAAAAAQSIPAAAAAABAkMgDAAAAAAAQJPIAAAAAAAAEiTwAAAAAAABBIg8AAAAAAECQyAMAAAAA\n",
       "ABAk8gAAAAAAAASJPAAAAAAAAEEiDwAAAAAAQJDIAwAAAAAAECTyAAAAAAAABIk8AAAAAAAAQSIP\n",
       "AAAAAABAkMgDAAAAAAAQJPIAAAAAAAAEiTwAAAAAAABBIg8AAAAAAECQyAMAAAAAABAk8gAAAAAA\n",
       "AASJPAAAAAAAAEEiDwAAAAAAQJDIAwAAAAAAECTyAAAAAAAABIk8AAAAAAAAQSIPAAAAAABAkMgD\n",
       "AAAAAAAQJPIAAAAAAAAEiTwAAAAAAABBIg8AAAAAAECQyAMAAAAAABAk8gAAAAAAAASJPAAAAAAA\n",
       "AEEiDwAAAAAAQJDIAwAAAAAAECTyAAAAAAAABIk8AAAAAAAAQSIPAAAAAABAkMgDAAAAAAAQJPIA\n",
       "AAAAAAAEiTwAAAAAAABBIg8AAAAAAECQyAMAAAAAABAk8gAAAAAAAASJPAAAAAAAAEEiDwAAAAAA\n",
       "QJDIAwAAAAAAECTyAAAAAAAABIk8AAAAAAAAQSIPAAAAAABAkMgDAAAAAAAQJPIAAAAAAAAEiTwA\n",
       "AAAAAABBIg8AAAAAAECQyAMAAAAAABAk8gAAAAAAAASJPAAAAAAAAEEiDwAAAAAAQJDIAwAAAAAA\n",
       "ECTyAAAAAAAABIk8AAAAAAAAQSIPAAAAAABAkMgDAAAAAAAQJPIAAAAAAAAEiTwAAAAAAABBIg8A\n",
       "AAAAAECQyAMAAAAAABAk8gAAAAAAAASJPAAAAAAAAEH7zJyrRwAAAAAAAHCNJw8AAAAAAECQyAMA\n",
       "AAAAABAk8gAAAAAAAASJPAAAAAAAAEEiDwAAAAAAQJDIAwAAAAAAECTyAAAAAAAABIk8AAAAAAAA\n",
       "QSIPAAAAAABAkMgDAAAAAAAQJPIAAAAAAAAEiTwAAAAAAABBIg8AAAAAAECQyAMAAAAAABAk8gAA\n",
       "AAAAAASJPAAAAAAAAEEiDwAAAAAAQJDIAwAAAAAAECTyAAAAAAAABIk8AAAAAAAAQSIPAAAAAABA\n",
       "kMgDAAAAAAAQJPIAAAAAAAAEiTwAAAAAAABBIg8AAAAAAECQyAMAAAAAABAk8gAAAAAAAASJPAAA\n",
       "AAAAAEEiDwAAAAAAQJDIAwAAAAAAECTyAAAAAAAABIk8AAAAAAAAQSIPAAAAAABAkMgDAAAAAAAQ\n",
       "JPIAAAAAAAAEiTwAAAAAAABBIg8AAAAAAECQyAMAAAAAABAk8gAAAAAAAASJPAAAAAAAAEEiDwAA\n",
       "AAAAQJDIAwAAAAAAECTyAAAAAAAABIk8AAAAAAAAQSIPAAAAAABAkMgDAAAAAAAQJPIAAAAAAAAE\n",
       "iTwAAAAAAABBIg8AAAAAAECQyAMAAAAAABAk8gAAAAAAAASJPAAAAAAAAEEiDwAAAAAAQJDIAwAA\n",
       "AAAAECTyAAAAAAAABIk8AAAAAAAAQSIPAAAAAABAkMgDAAAAAAAQJPIAAAAAAAAEiTwAAAAAAABB\n",
       "Ig8AAAAAAECQyAMAAAAAABAk8gAAAAAAAASJPAAAAAAAAEEiDwAAAAAAQJDIAwAAAAAAECTyAAAA\n",
       "AAAABIk8AAAAAAAAQSIPAAAAAABAkMgDAAAAAAAQJPIAAAAAAAAEiTwAAAAAAABBIg8AAAAAAECQ\n",
       "yAMAAAAAABAk8gAAAAAAAASJPAAAAAAAAEEiDwAAAAAAQJDIAwAAAAAAECTyAAAAAAAABIk8AAAA\n",
       "AAAAQSIPAAAAAABAkMgDAAAAAAAQJPIAAAAAAAAEiTwAAAAAAABBIg8AAAAAAECQyAMAAAAAABAk\n",
       "8gAAAAAAAASJPAAAAAAAAEEiDwAAAAAAQJDIAwAAAAAAECTyAAAAAAAABIk8AAAAAAAAQSIPAAAA\n",
       "AABAkMgDAAAAAAAQJPIAAAAAAAAEiTwAAAAAAABBIg8AAAAAAECQyAMAAAAAABAk8gAAAAAAAASJ\n",
       "PAAAAAAAAEEiDwAAAAAAQJDIAwAAAAAAECTyAAAAAAAABIk8AAAAAAAAQSIPAAAAAABAkMgDAAAA\n",
       "AAAQJPIAAAAAAAAEiTwAAAAAAABBIg8AAAAAAECQyAMAAAAAABAk8gAAAAAAAASJPAAAAAAAAEEi\n",
       "DwAAAAAAQJDIAwAAAAAAECTyAAAAAAAABIk8AAAAAAAAQSIPAAAAAABAkMgDAAAAAAAQJPIAAAAA\n",
       "AAAEiTwAAAAAAABBIg8AAAAAAECQyAMAAAAAABAk8gAAAAAAAASJPAAAAAAAAEEiDwAAAAAAQJDI\n",
       "AwAAAAAAECTyAAAAAAAABIk8AAAAAAAAQSIPAAAAAABAkMgDAAAAAAAQJPIAAAAAAAAEiTwAAAAA\n",
       "AABBIg8AAAAAAECQyAMAAAAAABAk8gAAAAAAAASJPAAAAAAAAEEiDwAAAAAAQJDIAwAAAAAAECTy\n",
       "AAAAAAAABIk8AAAAAAAAQSIPAAAAAABAkMgDAAAAAAAQJPIAAAAAAAAEiTwAAAAAAABBIg8AAAAA\n",
       "AECQyAMAAAAAABAk8gAAAAAAAASJPAAAAAAAAEEiDwAAAAAAQJDIAwAAAAAAECTyAAAAAAAABIk8\n",
       "AAAAAAAAQSIPAAAAAABAkMgDAAAAAAAQJPIAAAAAAAAEiTwAAAAAAABBIg8AAAAAAECQyAMAAAAA\n",
       "ABAk8gAAAAAAAASJPAAAAAAAAEEiDwAAAAAAQJDIAwAAAAAAECTyAAAAAAAABIk8AAAAAAAAQSIP\n",
       "AAAAAABAkMgDAAAAAAAQJPIAAAAAAAAEiTwAAAAAAABBIg8AAAAAAECQyAMAAAAAABAk8gAAAAAA\n",
       "AASJPAAAAAAAAEEiDwAAAAAAQJDIAwAAAAAAECTyAAAAAAAABIk8AAAAAAAAQSIPAAAAAABAkMgD\n",
       "AAAAAAAQJPIAAAAAAAAEiTwAAAAAAABBIg8AAAAAAECQyAMAAAAAABAk8gAAAAAAAASJPAAAAAAA\n",
       "AEEiDwAAAAAAQJDIAwAAAAAAECTyAAAAAAAABIk8AAAAAAAAQSIPAAAAAABAkMgDAAAAAAAQJPIA\n",
       "AAAAAAAEiTwAAAAAAABBIg8AAAAAAECQyAMAAAAAABAk8gAAAAAAAASJPAAAAAAAAEEiDwAAAAAA\n",
       "QJDIAwAAAAAAECTyAAAAAAAABIk8AAAAAAAAQSIPAAAAAABAkMgDAAAAAAAQJPIAAAAAAAAEiTwA\n",
       "AAAAAABBIg8AAAAAAECQyAMAAAAAABAk8gAAAAAAAASJPAAAAAAAAEEiDwAAAAAAQJDIAwAAAAAA\n",
       "ECTyAAAAAAAABIk8AAAAAAAAQSIPAAAAAABAkMgDAAAAAAAQJPIAAAAAAAAEiTwAAAAAAABBIg8A\n",
       "AAAAAECQyAMAAAAAABAk8gAAAAAAAASJPAAAAAAAAEEiDwAAAAAAQJDIAwAAAAAAECTyAAAAAAAA\n",
       "BIk8AAAAAAAAQSIPAAAAAABAkMgDAAAAAAAQJPIAAAAAAAAEiTwAAAAAAABBIg8AAAAAAECQyAMA\n",
       "AAAAABAk8gAAAAAAAASJPAAAAAAAAEEiDwAAAAAAQJDIAwAAAAAAECTyAAAAAAAABIk8AAAAAAAA\n",
       "QSIPAAAAAABAkMgDAAAAAAAQJPIAAAAAAAAEiTwAAAAAAABBIg8AAAAAAECQyAMAAAAAABAk8gAA\n",
       "AAAAAASJPAAAAAAAAEEiDwAAAAAAQJDIAwAAAAAAECTyAAAAAAAABIk8AAAAAAAAQSIPAAAAAABA\n",
       "kMgDAAAAAAAQJPIAAAAAAAAEiTwAAAAAAABBIg8AAAAAAECQyAMAAAAAABAk8gAAAAAAAASJPAAA\n",
       "AAAAAEEiDwAAAAAAQJDIAwAAAAAAECTyAAAAAAAABIk8AAAAAAAAQSIPAAAAAABAkMgDAAAAAAAQ\n",
       "JPIAAAAAAAAEiTwAAAAAAABBIg8AAAAAAECQyAMAAAAAABAk8gAAAAAAAASJPAAAAAAAAEEiDwAA\n",
       "AAAAQJDIAwAAAAAAECTyAAAAAAAABIk8AAAAAAAAQSIPAAAAAABAkMgDAAAAAAAQJPIAAAAAAAAE\n",
       "iTwAAAAAAABBIg8AAAAAAECQyAMAAAAAABAk8gAAAAAAAASJPAAAAAAAAEEiDwAAAAAAQJDIAwAA\n",
       "AAAAECTyAAAAAAAABIk8AAAAAAAAQSIPAAAAAABAkMgDAAAAAAAQJPIAAAAAAAAEiTwAAAAAAABB\n",
       "Ig8AAAAAAECQyAMAAAAAABAk8gAAAAAAAASJPAAAAAAAAEEiDwAAAAAAQJDIAwAAAAAAECTyAAAA\n",
       "AAAABIk8AAAAAAAAQSIPAF/27IAEAAAAQND/1+0I9IYAAAAAwJDkAQAAAAAAGJI8AAAAAAAAQ5IH\n",
       "AAAAAABgSPIAAAAAAAAMSR4AAAAAAIAhyQMAAAAAADAkeQAAAAAAAIYkDwAAAAAAwJDkAQAAAAAA\n",
       "GJI8AAAAAAAAQ5IHAAAAAABgSPIAAAAAAAAMSR4AAAAAAIAhyQMAAAAAADAkeQAAAAAAAIYkDwAA\n",
       "AAAAwJDkAQAAAAAAGJI8AAAAAAAAQ5IHAAAAAABgSPIAAAAAAAAMSR4AAAAAAIAhyQMAAAAAADAk\n",
       "eQAAAAAAAIYkDwAAAAAAwJDkAQAAAAAAGJI8AAAAAAAAQ5IHAAAAAABgSPIAAAAAAAAMSR4AAAAA\n",
       "AIAhyQMAAAAAADAkeQAAAAAAAIYkDwAAAAAAwJDkAQAAAAAAGJI8AAAAAAAAQ5IHAAAAAABgSPIA\n",
       "AAAAAAAMSR4AAAAAAIAhyQMAAAAAADAkeQAAAAAAAIYkDwAAAAAAwJDkAQAAAAAAGJI8AAAAAAAA\n",
       "Q5IHAAAAAABgSPIAAAAAAAAMSR4AAAAAAIAhyQMAAAAAADAkeQAAAAAAAIYkDwAAAAAAwJDkAQAA\n",
       "AAAAGJI8AAAAAAAAQ5IHAAAAAABgSPIAAAAAAAAMSR4AAAAAAIAhyQMAAAAAADAkeQAAAAAAAIYk\n",
       "DwAAAAAAwJDkAQAAAAAAGJI8AAAAAAAAQ5IHAAAAAABgSPIAAAAAAAAMSR4AAAAAAIAhyQMAAAAA\n",
       "ADAkeQAAAAAAAIYkDwAAAAAAwJDkAQAAAAAAGJI8AAAAAAAAQ5IHAAAAAABgSPIAAAAAAAAMSR4A\n",
       "AAAAAIAhyQMAAAAAADAkeQAAAAAAAIYkDwAAAAAAwJDkAQAAAAAAGJI8AAAAAAAAQ5IHAAAAAABg\n",
       "SPIAAAAAAAAMSR4AAAAAAIAhyQMAAAAAADAkeQAAAAAAAIYkDwAAAAAAwJDkAQAAAAAAGJI8AAAA\n",
       "AAAAQ5IHAAAAAABgSPIAAAAAAAAMSR4AAAAAAIAhyQMAAAAAADAkeQAAAAAAAIYkDwAAAAAAwJDk\n",
       "AQAAAAAAGJI8AAAAAAAAQ5IHAAAAAABgSPIAAAAAAAAMSR4AAAAAAIAhyQMAAAAAADAkeQAAAAAA\n",
       "AIYkDwAAAAAAwJDkAQAAAAAAGJI8AAAAAAAAQ5IHAAAAAABgSPIAAAAAAAAMSR4AAAAAAIAhyQMA\n",
       "AAAAADAkeQAAAAAAAIYkDwAAAAAAwJDkAQAAAAAAGJI8AAAAAAAAQ5IHAAAAAABgSPIAAAAAAAAM\n",
       "SR4AAAAAAIAhyQMAAAAAADAkeQAAAAAAAIYkDwAAAAAAwJDkAQAAAAAAGJI8AAAAAAAAQ5IHAAAA\n",
       "AABgSPIAAAAAAAAMSR4AAAAAAIAhyQMAAAAAADAkeQAAAAAAAIYkDwAAAAAAwJDkAQAAAAAAGJI8\n",
       "AAAAAAAAQ5IHAAAAAABgSPIAAAAAAAAMSR4AAAAAAIAhyQMAAAAAADAkeQAAAAAAAIYkDwAAAAAA\n",
       "wJDkAQAAAAAAGJI8AAAAAAAAQ5IHAAAAAABgSPIAAAAAAAAMSR4AAAAAAIAhyQMAAAAAADAkeQAA\n",
       "AAAAAIYkDwAAAAAAwJDkAQAAAAAAGJI8AAAAAAAAQ5IHAAAAAABgSPIAAAAAAAAMSR4AAAAAAIAh\n",
       "yQMAAAAAADAkeQAAAAAAAIYkDwAAAAAAwJDkAQAAAAAAGJI8AAAAAAAAQ5IHAAAAAABgSPIAAAAA\n",
       "AAAMSR4AAAAAAIAhyQMAAAAAADAkeQAAAAAAAIYkDwAAAAAAwJDkAQAAAAAAGJI8AAAAAAAAQ5IH\n",
       "AAAAAABgSPIAAAAAAAAMSR4AAAAAAIAhyQMAAAAAADAkeQAAAAAAAIYkDwAAAAAAwJDkAQAAAAAA\n",
       "GJI8AAAAAAAAQ5IHAAAAAABgSPIAAAAAAAAMSR4AAAAAAIAhyQMAAAAAADAkeQAAAAAAAIYkDwAA\n",
       "AAAAwJDkAQAAAAAAGJI8AAAAAAAAQ5IHAAAAAABgSPIAAAAAAAAMSR4AAAAAAIAhyQMAAAAAADAk\n",
       "eQAAAAAAAIYkDwAAAAAAwJDkAQAAAAAAGJI8AAAAAAAAQ5IHAAAAAABgSPIAAAAAAAAMSR4AAAAA\n",
       "AIAhyQMAAAAAADAkeQAAAAAAAIYkDwAAAAAAwJDkAQAAAAAAGJI8AAAAAAAAQ5IHAAAAAABgSPIA\n",
       "AAAAAAAMSR4AAAAAAIAhyQMAAAAAADAkeQAAAAAAAIYkDwAAAAAAwJDkAQAAAAAAGJI8AAAAAAAA\n",
       "Q5IHAAAAAABgSPIAAAAAAAAMSR4AAAAAAIAhyQMAAAAAADAkeQAAAAAAAIYkDwAAAAAAwJDkAQAA\n",
       "AAAAGJI8AAAAAAAAQ5IHAAAAAABgSPIAAAAAAAAMSR4AAAAAAIAhyQMAAAAAADAkeQAAAAAAAIYk\n",
       "DwAAAAAAwJDkAQAAAAAAGJI8AAAAAAAAQ5IHAAAAAABgSPIAAAAAAAAMSR4AAAAAAIAhyQMAAAAA\n",
       "ADAkeQAAAAAAAIYkDwAAAAAAwJDkAQAAAAAAGJI8AAAAAAAAQ5IHAAAAAABgSPIAAAAAAAAMSR4A\n",
       "AAAAAIAhyQMAAAAAADAkeQAAAAAAAIYkDwAAAAAAwJDkAQAAAAAAGJI8AAAAAAAAQ5IHAAAAAABg\n",
       "SPIAAAAAAAAMSR4AAAAAAIAhyQMAAAAAADAkeQAAAAAAAIYkDwAAAAAAwJDkAQAAAAAAGJI8AAAA\n",
       "AAAAQ5IHAAAAAABgSPIAAAAAAAAMSR4AAAAAAIAhyQMAAAAAADAkeQAAAAAAAIYkDwAAAAAAwJDk\n",
       "AQAAAAAAGJI8AAAAAAAAQ5IHAAAAAABgSPIAAAAAAAAMSR4AAAAAAIAhyQMAAAAAADAkeQAAAAAA\n",
       "AIYkDwAAAAAAwJDkAQAAAAAAGJI8AAAAAAAAQ5IHAAAAAABgSPIAAAAAAAAMSR4AAAAAAIAhyQMA\n",
       "AAAAADAkeQAAAAAAAIYkDwAAAAAAwJDkAQAAAAAAGJI8AAAAAAAAQ5IHAAAAAABgSPIAAAAAAAAM\n",
       "SR4AAAAAAIAhyQMAAAAAADAkeQAAAAAAAIYkDwAAAAAAwJDkAQAAAAAAGJI8AAAAAAAAQ5IHAAAA\n",
       "AABgSPIAAAAAAAAMSR4AAAAAAIAhyQMAAAAAADAkeQAAAAAAAIYkDwAAAAAAwJDkAQAAAAAAGJI8\n",
       "AAAAAAAAQ5IHAAAAAABgSPIAAAAAAAAMSR4AAAAAAIAhyQMAAAAAADAkeQAAAAAAAIYkDwAAAAAA\n",
       "wJDkAQAAAAAAGJI8AAAAAAAAQ5IHAAAAAABgSPIAAAAAAAAMSR4AAAAAAIAhyQMAAAAAADAkeQAA\n",
       "AAAAAIYkDwAAAAAAwJDkAQAAAAAAGJI8AAAAAAAAQ5IHAAAAAABgSPIAAAAAAAAMSR4AAAAAAIAh\n",
       "yQMAAAAAADAkeQAAAAAAAIYkDwAAAAAAwJDkAQAAAAAAGJI8AAAAAAAAQ5IHAAAAAABgSPIAAAAA\n",
       "AAAMSR4AAAAAAIAhyQMAAAAAADAkeQAAAFZEB0EAABh9SURBVAAAAIYkDwAAAAAAwJDkAQAAAAAA\n",
       "GJI8AAAAAAAAQ5IHAAAAAABgSPIAAAAAAAAMSR4AAAAAAIAhyQMAAAAAADAkeQAAAAAAAIYkDwAA\n",
       "AAAAwJDkAQAAAAAAGJI8AAAAAAAAQ5IHAAAAAABgSPIAAAAAAAAMSR4AAAAAAIAhyQMAAAAAADAk\n",
       "eQAAAAAAAIYkDwAAAAAAwJDkAQAAAAAAGJI8AAAAAAAAQ5IHAAAAAABgSPIAAAAAAAAMSR4AAAAA\n",
       "AIAhyQMAAAAAADAkeQAAAAAAAIYkDwAAAAAAwJDkAQAAAAAAGJI8AAAAAAAAQ5IHAAAAAABgSPIA\n",
       "AAAAAAAMSR4AAAAAAIAhyQMAAAAAADAkeQAAAAAAAIYkDwAAAAAAwJDkAQAAAAAAGJI8AAAAAAAA\n",
       "Q5IHAAAAAABgSPIAAAAAAAAMSR4AAAAAAIAhyQMAAAAAADAkeQAAAAAAAIYkDwAAAAAAwJDkAQAA\n",
       "AAAAGJI8AAAAAAAAQ5IHAAAAAABgSPIAAAAAAAAMSR4AAAAAAIAhyQMAAAAAADAkeQAAAAAAAIYk\n",
       "DwAAAAAAwJDkAQAAAAAAGJI8AAAAAAAAQ5IHAAAAAABgSPIAAAAAAAAMSR4AAAAAAIAhyQMAAAAA\n",
       "ADAkeQAAAAAAAIYkDwAAAAAAwJDkAQAAAAAAGJI8AAAAAAAAQ5IHAAAAAABgSPIAAAAAAAAMSR4A\n",
       "AAAAAIAhyQMAAAAAADAkeQAAAAAAAIYkDwAAAAAAwJDkAQAAAAAAGJI8AAAAAAAAQ5IHAAAAAABg\n",
       "SPIAAAAAAAAMSR4AAAAAAIAhyQMAAAAAADAkeQAAAAAAAIYkDwAAAAAAwJDkAQAAAAAAGJI8AAAA\n",
       "AAAAQ5IHAAAAAABgSPIAAAAAAAAMSR4AAAAAAIAhyQMAAAAAADAkeQAAAAAAAIYkDwAAAAAAwJDk\n",
       "AQAAAAAAGJI8AAAAAAAAQ5IHAAAAAABgSPIAAAAAAAAMSR4AAAAAAIAhyQMAAAAAADAkeQAAAAAA\n",
       "AIYkDwAAAAAAwJDkAQAAAAAAGJI8AAAAAAAAQ5IHAAAAAABgSPIAAAAAAAAMSR4AAAAAAIAhyQMA\n",
       "AAAAADAkeQAAAAAAAIYkDwAAAAAAwJDkAQAAAAAAGJI8AAAAAAAAQ5IHAAAAAABgSPIAAAAAAAAM\n",
       "SR4AAAAAAIAhyQMAAAAAADAkeQAAAAAAAIYkDwAAAAAAwJDkAQAAAAAAGJI8AAAAAAAAQ5IHAAAA\n",
       "AABgSPIAAAAAAAAMSR4AAAAAAIAhyQMAAAAAADAkeQAAAAAAAIYkDwAAAAAAwJDkAQAAAAAAGJI8\n",
       "AAAAAAAAQ5IHAAAAAABgSPIAAAAAAAAMSR4AAAAAAIAhyQMAAAAAADAkeQAAAAAAAIYkDwAAAAAA\n",
       "wJDkAQAAAAAAGJI8AAAAAAAAQ5IHAAAAAABgSPIAAAAAAAAMSR4AAAAAAIAhyQMAAAAAADAkeQAA\n",
       "AAAAAIYkDwAAAAAAwJDkAQAAAAAAGJI8AAAAAAAAQ5IHAAAAAABgSPIAAAAAAAAMSR4AAAAAAIAh\n",
       "yQMAAAAAADAkeQAAAAAAAIYkDwAAAAAAwJDkAQAAAAAAGJI8AAAAAAAAQ5IHAAAAAABgSPIAAAAA\n",
       "AAAMSR4AAAAAAIAhyQMAAAAAADAkeQAAAAAAAIYkDwAAAAAAwJDkAQAAAAAAGJI8AAAAAAAAQ5IH\n",
       "AAAAAABgSPIAAAAAAAAMSR4AAAAAAIAhyQMAAAAAADAkeQAAAAAAAIYkDwAAAAAAwJDkAQAAAAAA\n",
       "GJI8AAAAAAAAQ5IHAAAAAABgSPIAAAAAAAAMSR4AAAAAAIAhyQMAAAAAADAkeQAAAAAAAIYkDwAA\n",
       "AAAAwJDkAQAAAAAAGJI8AAAAAAAAQ5IHAAAAAABgSPIAAAAAAAAMSR4AAAAAAIAhyQMAAAAAADAk\n",
       "eQAAAAAAAIYkDwAAAAAAwJDkAQAAAAAAGJI8AAAAAAAAQ5IHAAAAAABgSPIAAAAAAAAMSR4AAAAA\n",
       "AIAhyQMAAAAAADAkeQAAAAAAAIYkDwAAAAAAwJDkAQAAAAAAGJI8AAAAAAAAQ5IHAAAAAABgSPIA\n",
       "AAAAAAAMSR4AAAAAAIAhyQMAAAAAADAkeQAAAAAAAIYkDwAAAAAAwJDkAQAAAAAAGJI8AAAAAAAA\n",
       "Q5IHAAAAAABgSPIAAAAAAAAMSR4AAAAAAIAhyQMAAAAAADAkeQAAAAAAAIYkDwAAAAAAwJDkAQAA\n",
       "AAAAGJI8AAAAAAAAQ5IHAAAAAABgSPIAAAAAAAAMSR4AAAAAAIAhyQMAAAAAADAkeQAAAAAAAIYk\n",
       "DwAAAAAAwJDkAQAAAAAAGJI8AAAAAAAAQ5IHAAAAAABgSPIAAAAAAAAMSR4AAAAAAIAhyQMAAAAA\n",
       "ADAkeQAAAAAAAIYkDwAAAAAAwJDkAQAAAAAAGJI8AAAAAAAAQ5IHAAAAAABgSPIAAAAAAAAMSR4A\n",
       "AAAAAIAhyQMAAAAAADAkeQAAAAAAAIYkDwAAAAAAwJDkAQAAAAAAGJI8AAAAAAAAQ5IHAAAAAABg\n",
       "SPIAAAAAAAAMSR4AAAAAAIAhyQMAAAAAADAkeQAAAAAAAIYkDwAAAAAAwJDkAQAAAAAAGJI8AAAA\n",
       "AAAAQ5IHAAAAAABgSPIAAAAAAAAMSR4AAAAAAIAhyQMAAAAAADAkeQAAAAAAAIYkDwAAAAAAwJDk\n",
       "AQAAAAAAGJI8AAAAAAAAQ5IHAAAAAABgSPIAAAAAAAAMSR4AAAAAAIAhyQMAAAAAADAkeQAAAAAA\n",
       "AIYkDwAAAAAAwJDkAQAAAAAAGJI8AAAAAAAAQ5IHAAAAAABgSPIAAAAAAAAMSR4AAAAAAIAhyQMA\n",
       "AAAAADAkeQAAAAAAAIYkDwAAAAAAwJDkAQAAAAAAGJI8AAAAAAAAQ5IHAAAAAABgSPIAAAAAAAAM\n",
       "SR4AAAAAAIAhyQMAAAAAADAkeQAAAAAAAIYkDwAAAAAAwJDkAQAAAAAAGJI8AAAAAAAAQ5IHAAAA\n",
       "AABgSPIAAAAAAAAMSR4AAAAAAIAhyQMAAAAAADAkeQAAAAAAAIYkDwAAAAAAwJDkAQAAAAAAGJI8\n",
       "AAAAAAAAQ5IHAAAAAABgSPIAAAAAAAAMSR4AAAAAAIAhyQMAAAAAADAkeQAAAAAAAIYkDwAAAAAA\n",
       "wJDkAQAAAAAAGJI8AAAAAAAAQ5IHAAAAAABgSPIAAAAAAAAMSR4AAAAAAIAhyQMAAAAAADAkeQAA\n",
       "AAAAAIYkDwAAAAAAwJDkAQAAAAAAGJI8AAAAAAAAQ5IHAAAAAABgSPIAAAAAAAAMSR4AAAAAAIAh\n",
       "yQMAAAAAADAkeQAAAAAAAIYkDwAAAAAAwJDkAQAAAAAAGJI8AAAAAAAAQ5IHAAAAAABgSPIAAAAA\n",
       "AAAMSR4AAAAAAIAhyQMAAAAAADAkeQAAAAAAAIYkDwAAAAAAwJDkAQAAAAAAGJI8AAAAAAAAQ5IH\n",
       "AAAAAABgSPIAAAAAAAAMSR4AAAAAAIAhyQMAAAAAADAkeQAAAAAAAIYkDwAAAAAAwJDkAQAAAAAA\n",
       "GJI8AAAAAAAAQ5IHAAAAAABgSPIAAAAAAAAMSR4AAAAAAIAhyQMAAAAAADAkeQAAAAAAAIYkDwAA\n",
       "AAAAwJDkAQAAAAAAGJI8AAAAAAAAQ5IHAAAAAABgSPIAAAAAAAAMSR4AAAAAAIAhyQMAAAAAADAk\n",
       "eQAAAAAAAIYkDwAAAAAAwJDkAQAAAAAAGJI8AAAAAAAAQ5IHAAAAAABgSPIAAAAAAAAMSR4AAAAA\n",
       "AIAhyQMAUHt2QAIAAAAg6P/rdgR6QwAAAIAhyQMAAAAAADAkeQAAAAAAAIYkDwAAAAAAwJDkAQAA\n",
       "AAAAGJI8AAAAAAAAQ5IHAAAAAABgSPIAAAAAAAAMSR4AAAAAAIAhyQMAAAAAADAkeQAAAAAAAIYk\n",
       "DwAAAAAAwJDkAQAAAAAAGJI8AAAAAAAAQ5IHAAAAAABgSPIAAAAAAAAMSR4AAAAAAIAhyQMAAAAA\n",
       "ADAkeQAAAAAAAIYkDwAAAAAAwJDkAQAAAAAAGJI8AAAAAAAAQ5IHAAAAAABgSPIAAAAAAAAMSR4A\n",
       "AAAAAIAhyQMAAAAAADAkeQAAAAAAAIYkDwAAAAAAwJDkAQAAAAAAGJI8AAAAAAAAQ5IHAAAAAABg\n",
       "SPIAAAAAAAAMSR4AAAAAAIAhyQMAAAAAADAkeQAAAAAAAIYkDwAAAAAAwJDkAQAAAAAAGJI8AAAA\n",
       "AAAAQ5IHAAAAAABgSPIAAAAAAAAMSR4AAAAAAIAhyQMAAAAAADAkeQAAAAAAAIYkDwAAAAAAwJDk\n",
       "AQAAAAAAGJI8AAAAAAAAQ5IHAAAAAABgSPIAAAAAAAAMSR4AAAAAAIAhyQMAAAAAADAkeQAAAAAA\n",
       "AIYkDwAAAAAAwJDkAQAAAAAAGJI8AAAAAAAAQ5IHAAAAAABgSPIAAAAAAAAMSR4AAAAAAIAhyQMA\n",
       "AAAAADAkeQAAAAAAAIYkDwAAAAAAwJDkAQAAAAAAGJI8AAAAAAAAQ5IHAAAAAABgSPIAAAAAAAAM\n",
       "SR4AAAAAAIAhyQMAAAAAADAkeQAAAAAAAIYkDwAAAAAAwJDkAQAAAAAAGJI8AAAAAAAAQ5IHAAAA\n",
       "AABgSPIAAAAAAAAMSR4AAAAAAIAhyQMAAAAAADAkeQAAAAAAAIYkDwAAAAAAwJDkAQAAAAAAGJI8\n",
       "AAAAAAAAQ5IHAAAAAABgSPIAAAAAAAAMSR4AAAAAAIAhyQMAAAAAADAkeQAAAAAAAIYkDwAAAAAA\n",
       "wJDkAQAAAAAAGJI8AAAAAAAAQ5IHAAAAAABgSPIAAAAAAAAMSR4AAAAAAIAhyQMAAAAAADAkeQAA\n",
       "AAAAAIYkDwAAAAAAwJDkAQAAAAAAGJI8AAAAAAAAQ5IHAAAAAABgSPIAAAAAAAAMSR4AAAAAAIAh\n",
       "yQMAAAAAADAkeQAAAAAAAIYkDwAAAAAAwJDkAQAAAAAAGJI8AAAAAAAAQ5IHAAAAAABgSPIAAAAA\n",
       "AAAMSR4AAAAAAIAhyQMAAAAAADAkeQAAAAAAAIYkDwAAAAAAwJDkAQAAAAAAGJI8AAAAAAAAQ5IH\n",
       "AAAAAABgSPIAAAAAAAAMSR4AAAAAAIAhyQMAAAAAADAkeQAAAAAAAIYkDwAAAAAAwJDkAQAAAAAA\n",
       "GJI8AAAAAAAAQ5IHAAAAAABgSPIAAAAAAAAMSR4AAAAAAIAhyQMAAAAAADAkeQAAAAAAAIYkDwAA\n",
       "AAAAwJDkAQAAAAAAGJI8AAAAAAAAQ5IHAAAAAABgSPIAAAAAAAAMSR4AAAAAAIAhyQMAAAAAADAk\n",
       "eQAAAAAAAIYkDwAAAAAAwJDkAQAAAAAAGJI8AAAAAAAAQ5IHAAAAAABgSPIAAAAAAAAMSR4AAAAA\n",
       "AIAhyQMAAAAAADAkeQAAAAAAAIYkDwAAAAAAwJDkAQAAAAAAGJI8AAAAAAAAQ5IHAAAAAABgSPIA\n",
       "AAAAAAAMSR4AAAAAAIAhyQMAAAAAADAkeQAAAAAAAIYkDwAAAAAAwJDkAQAAAAAAGJI8AAAAAAAA\n",
       "Q5IHAAAAAABgSPIAAAAAAAAMSR4AAAAAAIAhyQMAAAAAADAkeQAAAAAAAIYkDwAAAAAAwJDkAQAA\n",
       "AAAAGJI8AAAAAAAAQ5IHAAAAAABgSPIAAAAAAAAMSR4AAAAAAIAhyQMAAAAAADAkeQAAAAAAAIYk\n",
       "DwAAAAAAwJDkAQAAAAAAGJI8AAAAAAAAQ5IHAAAAAABgSPIAAAAAAAAMSR4AAAAAAIAhyQMAAAAA\n",
       "ADAkeQAAAAAAAIYkDwAAAAAAwJDkAQAAAAAAGJI8AAAAAAAAQ5IHAAAAAABgSPIAAAAAAAAMSR4A\n",
       "AAAAAIAhyQMAAAAAADAkeQAAAAAAAIYkDwAAAAAAwJDkAQAAAAAAGJI8AAAAAAAAQ5IHAAAAAABg\n",
       "SPIAAAAAAAAMSR4AAAAAAIAhyQMAAAAAADAkeQAAAAAAAIYkDwAAAAAAwJDkAQAAAAAAGJI8AAAA\n",
       "AAAAQ5IHAAAAAABgSPIAAAAAAAAMSR4AAAAAAIAhyQMAAAAAADAkeQAAAAAAAIYkDwAAAAAAwJDk\n",
       "AQAAAAAAGJI8AAAAAAAAQ5IHAAAAAABgSPIAAAAAAAAMSR4AAAAAAIAhyQMAAAAAADAkeQAAAAAA\n",
       "AIYkDwAAAAAAwJDkAQAAAAAAGJI8AAAAAAAAQ5IHAAAAAABgSPIAAAAAAAAMSR4AAAAAAIAhyQMA\n",
       "AAAAADAkeQAAAAAAAIYkDwAAAAAAwJDkAQAAAAAAGJI8AAAAAAAAQ5IHAAAAAABgSPIAAAAAAAAM\n",
       "SR4AAAAAAIAhyQMAAAAAADAkeQAAAAAAAIYkDwAAAAAAwJDkAQAAAAAAGJI8AAAAAAAAQ5IHAAAA\n",
       "AABgSPIAAAAAAAAMSR4AAAAAAIAhyQMAAAAAADAkeQAAAAAAAIYkDwAAAAAAwJDkAQAAAAAAGJI8\n",
       "AAAAAAAAQ5IHAAAAAABgSPIAAAAAAAAMSR4AAAAAAIAhyQMAAAAAADAkeQAAAAAAAIYkDwAAAAAA\n",
       "wJDkAQAAAAAAGJI8AAAAAAAAQ5IHAAAAAABgSPIAAAAAAAAMSR4AAAAAAIAhyQMAAAAAADAkeQAA\n",
       "AAAAAIYkDwAAAAAAwJDkAQAAAAAAGJI8AAAAAAAAQ5IHAAAAAABgSPIAAAAAAAAMSR4AAAAAAIAh\n",
       "yQMAAAAAADAkeQAAAAAAAIYkDwAAAAAAwJDkAQAAAAAAGJI8AAAAAAAAQ5IHAAAAAABgSPIAAAAA\n",
       "AAAMSR4AAAAAAIAhyQMAAAAAADAkeQAAAAAAAIYkDwAAAAAAwJDkAQAAAAAAGJI8AAAAAAAAQ5IH\n",
       "AAAAAABgSPIAAAAAAAAMSR4AAAAAAIAhyQMAAAAAADAkeQAAAAAAAIYkDwAAAAAAwJDkAQAAAAAA\n",
       "GJI8AAAAAAAAQ5IHAAAAAABgSPIAAAAAAAAMSR4AAAAAAIAhyQMAAAAAADAkeQAAAAAAAIYkDwAA\n",
       "AAAAwJDkAQAAAAAAGJI8AAAAAAAAQ5IHAAAAAABgSPIAAAAAAAAMSR4AAAAAAIAhyQMAAAAAADAk\n",
       "eQAAAAAAAIYkDwAAAAAAwJDkAQAAAAAAGJI8AAAAAAAAQ5IHAAAAAABgSPIAAAAAAAAMSR4AAAAA\n",
       "AIAhyQMAAAAAADAkeQAAAAAAAIYkDwAAAAAAwJDkAQAAAAAAGJI8AAAAAAAAQ5IHAAAAAABgSPIA\n",
       "AAAAAAAMSR4AAAAAAIAhyQMAAAAAADAkeQAAAAAAAIYkDwAAAAAAwJDkAQAAAAAAGJI8AAAAAAAA\n",
       "Q5IHAAAAAABgSPIAAAAAAAAMSR4AAAAAAIAhyQMAAAAAADAkeQAAAAAAAIYkDwAAAAAAwJDkAQAA\n",
       "AAAAGJI8AAAAAAAAQ5IHAAAAAABgSPIAAAAAAAAMSR4AAAAAAIAhyQMAAAAAADAkeQAAAAAAAIYk\n",
       "DwAAAAAAwJDkAQAAAAAAGJI8AAAAAAAAQ5IHAAAAAABgSPIAAAAAAAAMSR4AAAAAAIAhyQMAAAAA\n",
       "ADAkeQAAAAAAAIYkDwAAAAAAwJDkAQAAAAAAGJI8AAAAAAAAQ5IHAAAAAABgSPIAAAAAAAAMSR4A\n",
       "AAAAAIAhyQMAAAAAADAkeQAAAAAAAIYkDwAAAAAAwJDkAQAAAAAAGJI8AAAAAAAAQ5IHAAAAAABg\n",
       "SPIAAAAAAAAMSR4AAAAAAIAhyQMAAAAAADAkeQAAAAAAAIYkDwAAAAAAwJDkAQAAAAAAGJI8AAAA\n",
       "AAAAQ5IHAAAAAABgSPIAAAAAAAAMSR4AAAAAAIAhyQMAAAAAADAkeQAAAAAAAIYkDwAAAAAAwJDk\n",
       "AQAAAAAAGJI8AAAAAAAAQ5IHAAAAAABgSPIAAAAAAAAMSR4AAAAAAIAhyQMAAAAAADAkeQAAAAAA\n",
       "AIYkDwAAAAAAwJDkAQAAAAAAGJI8AAAAAAAAQ5IHAAAAAABgSPIAAAAAAAAMSR4AAAAAAIAhyQMA\n",
       "AAAAADAkeQAAAAAAAIYkDwAAAAAAwJDkAQAAAAAAGJI8AAAAAAAAQ5IHAAAAAABgSPIAAAAAAAAM\n",
       "SR4AAAAAAIAhyQMAAAAAADAkeQAAAAAAAIYkDwAAAAAAwJDkAQAAAAAAGJI8AAAAAAAAQ5IHAAAA\n",
       "AABgSPIAAAAAAAAMSR4AAAAAAIAhyQMAAAAAADAkeQAAAAAAAIYkDwAAAAAAwJDkAQAAAAAAGJI8\n",
       "AAAAAAAAQ5IHAAAAAABgSPIAAAAAAAAMSR4AAAAAAIAhyQMAAAAAADAkeQAAAAAAAIYkDwAAAAAA\n",
       "wJDkAQAAAAAAGJI8AAAAAAAAQ5IHAAAAAABgSPIAAAAAAAAMSR4AAAAAAIAhyQMAAAAAADAkeQAA\n",
       "AAAAAIYkDwAAAAAAwJDkAQAAAAAAGJI8AAAAAAAAQwGBVBeQO1gzZQAAAABJRU5ErkJggg==\n",
       "\" transform=\"translate(1571, 144)\"/>\n",
       "</g>\n",
       "<defs>\n",
       "  <clipPath id=\"clip693\">\n",
       "    <rect x=\"4736\" y=\"143\" width=\"157\" height=\"1658\"/>\n",
       "  </clipPath>\n",
       "</defs>\n",
       "<g clip-path=\"url(#clip693)\">\n",
       "<image width=\"156\" height=\"1657\" xlink:href=\"data:image/png;base64,\n",
       "iVBORw0KGgoAAAANSUhEUgAAAJwAAAZ5CAYAAACv4X1GAAARwUlEQVR4nO3dwXEbMQAEQZxqk3Sk\n",
       "Tshp6OAshg92R6DH1FZRAMjn759/90Dk59N/AN9FcKQER0pwpARHSnCk9jyf/hP4JhaOlOBICY6U\n",
       "4EgJjtSOT6mELBwpwZESHCnBkRIcKcGR2iM5QnIjJThSgiMlOFKCI+XwnpSFIyU4UoIjJThSgiMl\n",
       "OFJe3pOycKQER0pwpARHSnCkJjlKciMlOFKCIyU4UoIjJThSe5zeE7JwpARHSnCkBEdKcKRcMSdl\n",
       "4UgJjpTgSAmOlOBICY6ULyQkZeFICY6U4EgJjpTgSPlxN1JyIyU4UoIjJThSgiMlOFIO70lZOFKC\n",
       "IyU4UoIjJThSXt6TsnCkBEdKcKQER0pwpARHyq8JkpIbKcGREhwpwZESHCk/7kbKwpESHCnBkRIc\n",
       "KcGREhwpL+9JWThSgiMlOFKCIyU4Ul7ek7JwpARHSnCkBEdKcKQER8qvCZKSGynBkRIcKcGREhwp\n",
       "V8xJWThSgiMlOFKCIyU4Uq6Yk7JwpARHSnCkBEdKcKQER8rhPSkLR0pwpARHSnCkBEfK4T0pC0dK\n",
       "cKQER0pwpARHSnCkJjlKciMlOFKCIyU4UoIjtcfpPSELR0pwpARHSnCkBEdKcKS8vCdl4UgJjpTg\n",
       "SAmOlOBIeXlPysKREhwpwZESHCnBkRIcKS/vScmNlOBICY6U4EgJjpTDe1IWjpTgSAmOlOBICY6U\n",
       "4Eh5eU/KwpESHCnBkRIcKcGRcnhPysKREhwpwZESHCnBkRIcKYf3pCwcKcGREhwpwZESHKk9Pz6m\n",
       "0rFwpARHSnCkBEdKcKQER8rhPSkLR0pwpARHSnCkBEfKy3tSFo6U4EgJjpTgSAmOlOBIObwnZeFI\n",
       "CY6U4EgJjpTgSDm8J2XhSAmOlOBICY6U4EgJjtQkR0lupARHSnCkBEdKcKQc3pOycKQER0pwpARH\n",
       "SnCkPIQmZeFICY6U4EgJjpTgSAmOlMN7UhaOlOBICY6U4EgJjtSOj6mELBwpwZESHCnBkRIcKcGR\n",
       "cnhPysKREhwpwZESHCnBkfIt5qTkRkpwpARHSnCkBEdKcKQc3pOycKQER0pwpARHSnCkfG0+KQtH\n",
       "SnCkBEdKcKQER0pwpBzek7JwpARHSnCkBEdKcKQc3pOycKQER0pwpARHSnCkBEdqj+QIyY2U4EgJ\n",
       "jpTgSAmOlMN7UhaOlOBICY6U4EgJjpTgSO3x9J6QhSMlOFKCIyU4UoIj5fCelIUjJThSgiMlOFKC\n",
       "IyU4Ur42n5SFIyU4UoIjJThSgiPl8J6UhSMlOFKCIyU4UoIjJThSvjaflNxICY6U4EgJjpTgSDm8\n",
       "J2XhSAmOlOBICY6U4Ej5lErKwpESHCnBkRIcKcGREhwp3w9HysKREhwpwZESHCnBkXJ4T8rCkRIc\n",
       "KcGREhwpwZESHCmH96QsHCnBkRIcKcGREhypHR9TCVk4UoIjJThSgiMlOFKCI+XH3UjJjZTgSAmO\n",
       "lOBICY6Ul/ekLBwpwZESHCnBkRIcKcGR8vKelIUjJThSgiMlOFKCI+XwnpSFIyU4UoIjJThSgiMl\n",
       "OFL+LULKwpESHCnBkRIcKcGRcsWclIUjJThSgiMlOFKCIyU4UpMcJbmREhwpwZESHCnBkXJ4T8rC\n",
       "kRIcKcGREhwpwZESHCkv70lZOFKCIyU4UoIjJThSe5zeE7JwpARHSnCkBEdKcKQER8rhPSkLR0pw\n",
       "pARHSnCkBEfKy3tSFo6U4EgJjpTgSAmOlOBIObwnZeFICY6U4EgJjpTgSPlxN1JyIyU4UoIjJThS\n",
       "giPlijkpC0dKcKQER0pwpARHSnCkXDEnZeFICY6U4EgJjpTgSDm8J2XhSAmOlOBICY6U4EgJjpTD\n",
       "e1IWjpTgSAmOlOBICY6UT6mkLBwpwZESHCnBkRIcKcGR2iM5QnIjJThSgiMlOFKCI7Xj6T0hC0dK\n",
       "cKQER0pwpARHSnCkfCEhKQtHSnCkBEdKcKQER8rLe1IWjpTgSAmOlOBICY6U4Eg5vCdl4UgJjpTg\n",
       "SAmOlOBIObwnZeFICY6U4EgJjpTgSAmOlH+LkLJwpARHSnCkBEdKcKT8uBspuZESHCnBkRIcKcGR\n",
       "Ehwph/ekLBwpwZESHCnBkRIcKd8PR8rCkRIcKcGREhwpwZESHCmH96QsHCnBkRIcKcGREhwpn1JJ\n",
       "WThSgiMlOFKCIyU4UoIj5U0DKQtHSnCkBEdKcKQER2rHx1RCFo6U4EgJjpTgSAmOlB93IyU3UoIj\n",
       "JThSgiMlOFKCI+XlPSkLR0pwpARHSnCkBEfKp1RSFo6U4EgJjpTgSAmOlOBI+X44UhaOlOBICY6U\n",
       "4EgJjpTDe1IWjpTgSAmOlOBICY6U4Ej5twgpC0dKcKQER0pwpARHyhVzUhaOlOBICY6U4EgJjpTg\n",
       "SE1ylORGSnCkBEdKcKQER8rhPSkLR0pwpARHSnCkBEdKcKS8vCdl4UgJjpTgSAmOlOBI+ZRKysKR\n",
       "EhwpwZESHCnBkRIcqT0eNRCycKQER0pwpARHSnCkHN6TsnCkBEdKcKQER0pwpARHyr9FSFk4UoIj\n",
       "JThSgiMlOFJ7JEdIbqQER0pwpARHSnCkBEfK4T0pC0dKcKQER0pwpARHyqdUUhaOlOBICY6U4EgJ\n",
       "jtR8iTklC0dKcKQER0pwpARHSnCkHN6TsnCkBEdKcKQER0pwpHxKJWXhSAmOlOBICY6U4EgJjpQ3\n",
       "DaQsHCnBkRIcKcGREhypSY6S3EgJjpTgSAmOlOBICY6UNw2kLBwpwZESHCnBkRIcKVfMSVk4UoIj\n",
       "JThSgiMlOFKCI+XwnpSFIyU4UoIjJThSgiPlUyopC0dKcKQER0pwpARHSnCk/FuElIUjJThSgiMl\n",
       "OFKCI+VTKikLR0pwpARHSnCkBEdKcKR2nvvpv4EvYuFICY6U4EgJjpTgSAmOlOBICY6U4EgJjpTg\n",
       "SAmOlDcNpCwcKcGREhwpwZESHClXzElZOFKCIyU4UoIjJThSgiO1c/xbhI6FIyU4UoIjJThSgiPl\n",
       "ijkpC0dKcKQER0pwpARHSnCkdh3eE7JwpARHSnCkBEdKcKRcMSdl4UgJjpTgSAmOlOBI7fp+OEIW\n",
       "jpTgSAmOlOBICY6U4Ei5Yk7KwpESHCnBkRIcKcGR2r0+pdKxcKQER0pwpARHSnCkBEdq57yf/hv4\n",
       "IhaOlOBICY6U4EgJjpQr5qQsHCnBkRIcKcGREhwpwZHybxFSFo6U4EgJjpTgSAmO1N7rijkdC0dK\n",
       "cKQER0pwpARHSnCkHN6TsnCkBEdKcKQER0pwpHYd3hOycKQER0pwpARHSnCkBEdq19fmE7JwpARH\n",
       "SnCkBEdKcKT85j0pC0dKcKQER0pwpARHSnCk9jq8J2ThSAmOlOBICY6U4Eh5eU/KwpESHCnBkRIc\n",
       "KcGREhwpbxpIWThSgiMlOFKCIyU4Ur4fjpSFIyU4UoIjJThSgiMlOFJ7vWkgZOFICY6U4EgJjpTg\n",
       "SLliTsrCkRIcKcGREhwpwZESHClvGkhZOFKCIyU4UoIjJThSrpiTsnCkBEdKcKQER0pwpFwxJ2Xh\n",
       "SAmOlOBICY6U4EgJjpQr5qQsHCnBkRIcKcGREhwpV8xJWThSgiMlOFKCIyU4UoIjtevfIoQsHCnB\n",
       "kRIcKcGREhyp3ePlPR0LR0pwpARHSnCkBEdKcKQc3pOycKQER0pwpARHSnCkvLwnZeFICY6U4EgJ\n",
       "jpTgSAmOlDcNpCwcKcGREhwpwZESHClXzElZOFKCIyU4UoIjJThSgiPlTQMpC0dKcKQER0pwpARH\n",
       "ave6Yk7HwpESHCnBkRIcKcGREhyp3ePwno6FIyU4UoIjJThSgiPlijkpC0dKcKQER0pwpARHSnCk\n",
       "vGkgZeFICY6U4EgJjpTgSLliTsrCkRIcKcGREhwpwZESHClvGkhZOFKCIyU4UoIjJThSrpiTsnCk\n",
       "BEdKcKQER0pwpFwxJ2XhSAmOlOBICY6U4EgJjpQr5qQsHCnBkRIcKcGREhwpV8xJWThSgiMlOFKC\n",
       "IyU4UoIj5U0DKQtHSnCkBEdKcKQER8oVc1IWjpTgSAmOlOBICY6U4Eh500DKwpESHCnBkRIcKcGR\n",
       "2nV4T8jCkRIcKcGREhwpwZESHKm9Xt4TsnCkBEdKcKQER0pwpFwxJ2XhSAmOlOBICY6U4EgJjpQ3\n",
       "DaQsHCnBkRIcKcGREhwpV8xJWThSgiMlOFKCIyU4UoIj5U0DKQtHSnCkBEdKcKQER8oVc1IWjpTg\n",
       "SAmOlOBICY6U4Eh500DKwpESHCnBkRIcKcGRcsWclIUjJThSgiMlOFKCIyU4Ut40kLJwpARHSnCk\n",
       "BEdKcKT2OrwnZOFICY6U4EgJjpTgSAmO1K6X94QsHCnBkRIcKcGREhwpV8xJWThSgiMlOFKCIyU4\n",
       "Uq6Yk7JwpARHSnCkBEdKcKQER8oVc1IWjpTgSAmOlOBICY6UK+akLBwpwZESHCnBkRIcKcGR8qaB\n",
       "lIUjJThSgiMlOFKCI+WKOSkLR0pwpARHSnCkBEdKcKS8aSBl4UgJjpTgSAmOlOBIuWJOysKREhwp\n",
       "wZESHCnBkRIcKW8aSFk4UoIjJThSgiMlOFKumJOycKQER0pwpARHSnCkBEfKmwZSFo6U4EgJjpTg\n",
       "SAmOlMN7UhaOlOBICY6U4EgJjpTgSO0eh/d0LBwpwZESHCnBkRIcqb0O7wlZOFKCIyU4UoIjJThS\n",
       "giPlTQMpC0dKcKQER0pwpARHaq8r5oQsHCnBkRIcKcGREhwpwZFyeE/KwpESHCnBkRIcKcGR8imV\n",
       "lIUjJThSgiMlOFKCIyU4Ut40kLJwpARHSnCkBEdKcKQc3pOycKQER0pwpARHSnCk/LgbKQtHSnCk\n",
       "BEdKcKQER0pwpHavK+Z0LBwpwZESHCnBkRIcqd3j8J6OhSMlOFKCIyU4UoIjJThSex3eE7JwpARH\n",
       "SnCkBEdKcKR8PxwpC0dKcKQER0pwpARHSnCkvGkgZeFICY6U4EgJjpTgSLliTsrCkRIcKcGREhwp\n",
       "wZESHClvGkhZOFKCIyU4UoIjJThSfvOelIUjJThSgiMlOFKCIyU4UrvHmwY6Fo6U4EgJjpTgSAmO\n",
       "lMN7UhaOlOBICY6U4EgJjpTgSHl5T8rCkRIcKcGREhwpwZFyxZyUhSMlOFKCIyU4UoIjJThS3jSQ\n",
       "snCkBEdKcKQER0pwpFwxJ2XhSAmOlOBICY6U4EgJjtRebxoIWThSgiMlOFKCIyU4Ug7vSVk4UoIj\n",
       "JThSgiMlOFIeQpOycKQER0pwpARHSnCkBEdq97piTsfCkRIcKcGREhwpwZHaexze07FwpARHSnCk\n",
       "BEdKcKQER8rLe1IWjpTgSAmOlOBICY7UXlfMCVk4UoIjJThSgiMlOFKCI7XrTQMhC0dKcKQER0pw\n",
       "pARHytfmk7JwpARHSnCkBEdKcKQER8rX5pOycKQER0pwpARHSnCkHN6TsnCkBEdKcKQER0pwpARH\n",
       "yst7UhaOlOBICY6U4EgJjpSvzSdl4UgJjpTgSAmOlOBICY6U37wnZeFICY6U4EgJjpTgSO11xZyQ\n",
       "hSMlOFKCIyU4UoIjJThSDu9JWThSgiMlOFKCIyU4Ul7ek7JwpARHSnCkBEdKcKQER8rX5pOycKQE\n",
       "R0pwpARHSnCk/OY9KQtHSnCkBEdKcKQER0pwpPxbhJSFIyU4UoIjJThSgiPl++FIWThSgiMlOFKC\n",
       "IyU4Un7cjZSFIyU4UoIjJThSgiMlOFK+Np+UhSMlOFKCIyU4UoIj5Yo5KQtHSnCkBEdKcKQER0pw\n",
       "pLxpIGXhSAmOlOBICY6U4Ej5FnNSFo6U4EgJjpTgSAmOlOBIedNAysKREhwpwZESHCnBkXJ4T8rC\n",
       "kRIcKcGREhwpwZESHKm95/fTfwNfxMKREhwpwZESHCnBkXJ4T8rCkRIcKcGREhwpwZESHCkv70lZ\n",
       "OFKCIyU4UoIjJThSftyNlIUjJThSgiMlOFKCIyU4Unuvl/d0LBwpwZESHCnBkRIcKS/vSVk4UoIj\n",
       "JThSgiMlOFKCI+XwnpSFIyU4UoIjJThSgiPlx91IWThSgiMlOFKCIyU4UoIj5fCelIUjJThSgiMl\n",
       "OFKCI+VTKikLR0pwpARHSnCkBEfqP5MaaNh04LtAAAAAAElFTkSuQmCC\n",
       "\" transform=\"translate(4737, 144)\"/>\n",
       "</g>\n",
       "<path clip-path=\"url(#clip690)\" d=\"M4970.76 1715.18 L5000.43 1715.18 L5000.43 1719.11 L4970.76 1719.11 L4970.76 1715.18 Z\" fill=\"#000000\" fill-rule=\"evenodd\" fill-opacity=\"1\" /><path clip-path=\"url(#clip690)\" d=\"M5020.52 1700.53 Q5016.91 1700.53 5015.08 1704.09 Q5013.28 1707.63 5013.28 1714.76 Q5013.28 1721.87 5015.08 1725.43 Q5016.91 1728.97 5020.52 1728.97 Q5024.16 1728.97 5025.96 1725.43 Q5027.79 1721.87 5027.79 1714.76 Q5027.79 1707.63 5025.96 1704.09 Q5024.16 1700.53 5020.52 1700.53 M5020.52 1696.82 Q5026.33 1696.82 5029.39 1701.43 Q5032.47 1706.01 5032.47 1714.76 Q5032.47 1723.49 5029.39 1728.1 Q5026.33 1732.68 5020.52 1732.68 Q5014.71 1732.68 5011.64 1728.1 Q5008.58 1723.49 5008.58 1714.76 Q5008.58 1706.01 5011.64 1701.43 Q5014.71 1696.82 5020.52 1696.82 Z\" fill=\"#000000\" fill-rule=\"evenodd\" fill-opacity=\"1\" /><path clip-path=\"url(#clip690)\" d=\"M5040.69 1726.13 L5045.57 1726.13 L5045.57 1732.01 L5040.69 1732.01 L5040.69 1726.13 Z\" fill=\"#000000\" fill-rule=\"evenodd\" fill-opacity=\"1\" /><path clip-path=\"url(#clip690)\" d=\"M5059.78 1728.07 L5076.1 1728.07 L5076.1 1732.01 L5054.16 1732.01 L5054.16 1728.07 Q5056.82 1725.32 5061.4 1720.69 Q5066.01 1716.04 5067.19 1714.69 Q5069.44 1712.17 5070.32 1710.43 Q5071.22 1708.67 5071.22 1706.98 Q5071.22 1704.23 5069.27 1702.49 Q5067.35 1700.76 5064.25 1700.76 Q5062.05 1700.76 5059.6 1701.52 Q5057.17 1702.29 5054.39 1703.84 L5054.39 1699.11 Q5057.21 1697.98 5059.67 1697.4 Q5062.12 1696.82 5064.16 1696.82 Q5069.53 1696.82 5072.72 1699.51 Q5075.92 1702.19 5075.92 1706.68 Q5075.92 1708.81 5075.11 1710.73 Q5074.32 1712.63 5072.21 1715.22 Q5071.63 1715.9 5068.53 1719.11 Q5065.43 1722.31 5059.78 1728.07 Z\" fill=\"#000000\" fill-rule=\"evenodd\" fill-opacity=\"1\" /><path clip-path=\"url(#clip690)\" d=\"M5085.5 1697.45 L5107.35 1697.45 L5107.35 1701.38 L5090.18 1701.38 L5090.18 1711.61 L5106.63 1711.61 L5106.63 1715.55 L5090.18 1715.55 L5090.18 1728.07 L5107.77 1728.07 L5107.77 1732.01 L5085.5 1732.01 L5085.5 1697.45 Z\" fill=\"#000000\" fill-rule=\"evenodd\" fill-opacity=\"1\" /><path clip-path=\"url(#clip690)\" d=\"M5115.82 1715.18 L5145.5 1715.18 L5145.5 1719.11 L5115.82 1719.11 L5115.82 1715.18 Z\" fill=\"#000000\" fill-rule=\"evenodd\" fill-opacity=\"1\" /><path clip-path=\"url(#clip690)\" d=\"M5156.4 1728.07 L5164.04 1728.07 L5164.04 1701.71 L5155.73 1703.37 L5155.73 1699.11 L5164 1697.45 L5168.67 1697.45 L5168.67 1728.07 L5176.31 1728.07 L5176.31 1732.01 L5156.4 1732.01 L5156.4 1728.07 Z\" fill=\"#000000\" fill-rule=\"evenodd\" fill-opacity=\"1\" /><path clip-path=\"url(#clip690)\" d=\"M5185.8 1697.45 L5204.16 1697.45 L5204.16 1701.38 L5190.08 1701.38 L5190.08 1709.85 Q5191.1 1709.51 5192.12 1709.35 Q5193.14 1709.16 5194.16 1709.16 Q5199.94 1709.16 5203.32 1712.33 Q5206.7 1715.5 5206.7 1720.92 Q5206.7 1726.5 5203.23 1729.6 Q5199.76 1732.68 5193.44 1732.68 Q5191.26 1732.68 5189 1732.31 Q5186.75 1731.94 5184.34 1731.2 L5184.34 1726.5 Q5186.43 1727.63 5188.65 1728.19 Q5190.87 1728.74 5193.35 1728.74 Q5197.35 1728.74 5199.69 1726.64 Q5202.03 1724.53 5202.03 1720.92 Q5202.03 1717.31 5199.69 1715.2 Q5197.35 1713.1 5193.35 1713.1 Q5191.47 1713.1 5189.6 1713.51 Q5187.75 1713.93 5185.8 1714.81 L5185.8 1697.45 Z\" fill=\"#000000\" fill-rule=\"evenodd\" fill-opacity=\"1\" /><path clip-path=\"url(#clip690)\" d=\"M4970.76 1528.63 L5000.43 1528.63 L5000.43 1532.56 L4970.76 1532.56 L4970.76 1528.63 Z\" fill=\"#000000\" fill-rule=\"evenodd\" fill-opacity=\"1\" /><path clip-path=\"url(#clip690)\" d=\"M5020.52 1513.98 Q5016.91 1513.98 5015.08 1517.54 Q5013.28 1521.08 5013.28 1528.21 Q5013.28 1535.32 5015.08 1538.88 Q5016.91 1542.43 5020.52 1542.43 Q5024.16 1542.43 5025.96 1538.88 Q5027.79 1535.32 5027.79 1528.21 Q5027.79 1521.08 5025.96 1517.54 Q5024.16 1513.98 5020.52 1513.98 M5020.52 1510.27 Q5026.33 1510.27 5029.39 1514.88 Q5032.47 1519.46 5032.47 1528.21 Q5032.47 1536.94 5029.39 1541.55 Q5026.33 1546.13 5020.52 1546.13 Q5014.71 1546.13 5011.64 1541.55 Q5008.58 1536.94 5008.58 1528.21 Q5008.58 1519.46 5011.64 1514.88 Q5014.71 1510.27 5020.52 1510.27 Z\" fill=\"#000000\" fill-rule=\"evenodd\" fill-opacity=\"1\" /><path clip-path=\"url(#clip690)\" d=\"M5040.69 1539.58 L5045.57 1539.58 L5045.57 1545.46 L5040.69 1545.46 L5040.69 1539.58 Z\" fill=\"#000000\" fill-rule=\"evenodd\" fill-opacity=\"1\" /><path clip-path=\"url(#clip690)\" d=\"M5056.57 1541.52 L5064.2 1541.52 L5064.2 1515.16 L5055.89 1516.82 L5055.89 1512.56 L5064.16 1510.9 L5068.83 1510.9 L5068.83 1541.52 L5076.47 1541.52 L5076.47 1545.46 L5056.57 1545.46 L5056.57 1541.52 Z\" fill=\"#000000\" fill-rule=\"evenodd\" fill-opacity=\"1\" /><path clip-path=\"url(#clip690)\" d=\"M5085.96 1510.9 L5104.32 1510.9 L5104.32 1514.83 L5090.25 1514.83 L5090.25 1523.3 Q5091.26 1522.96 5092.28 1522.8 Q5093.3 1522.61 5094.32 1522.61 Q5100.11 1522.61 5103.49 1525.78 Q5106.87 1528.95 5106.87 1534.37 Q5106.87 1539.95 5103.39 1543.05 Q5099.92 1546.13 5093.6 1546.13 Q5091.43 1546.13 5089.16 1545.76 Q5086.91 1545.39 5084.51 1544.65 L5084.51 1539.95 Q5086.59 1541.08 5088.81 1541.64 Q5091.03 1542.19 5093.51 1542.19 Q5097.51 1542.19 5099.85 1540.09 Q5102.19 1537.98 5102.19 1534.37 Q5102.19 1530.76 5099.85 1528.65 Q5097.51 1526.55 5093.51 1526.55 Q5091.63 1526.55 5089.76 1526.96 Q5087.91 1527.38 5085.96 1528.26 L5085.96 1510.9 Z\" fill=\"#000000\" fill-rule=\"evenodd\" fill-opacity=\"1\" /><path clip-path=\"url(#clip690)\" d=\"M5115.66 1510.9 L5137.51 1510.9 L5137.51 1514.83 L5120.34 1514.83 L5120.34 1525.06 L5136.8 1525.06 L5136.8 1529 L5120.34 1529 L5120.34 1541.52 L5137.93 1541.52 L5137.93 1545.46 L5115.66 1545.46 L5115.66 1510.9 Z\" fill=\"#000000\" fill-rule=\"evenodd\" fill-opacity=\"1\" /><path clip-path=\"url(#clip690)\" d=\"M5145.99 1528.63 L5175.66 1528.63 L5175.66 1532.56 L5145.99 1532.56 L5145.99 1528.63 Z\" fill=\"#000000\" fill-rule=\"evenodd\" fill-opacity=\"1\" /><path clip-path=\"url(#clip690)\" d=\"M5186.56 1541.52 L5194.2 1541.52 L5194.2 1515.16 L5185.89 1516.82 L5185.89 1512.56 L5194.16 1510.9 L5198.83 1510.9 L5198.83 1541.52 L5206.47 1541.52 L5206.47 1545.46 L5186.56 1545.46 L5186.56 1541.52 Z\" fill=\"#000000\" fill-rule=\"evenodd\" fill-opacity=\"1\" /><path clip-path=\"url(#clip690)\" d=\"M5215.96 1510.9 L5234.32 1510.9 L5234.32 1514.83 L5220.25 1514.83 L5220.25 1523.3 Q5221.26 1522.96 5222.28 1522.8 Q5223.3 1522.61 5224.32 1522.61 Q5230.11 1522.61 5233.49 1525.78 Q5236.87 1528.95 5236.87 1534.37 Q5236.87 1539.95 5233.39 1543.05 Q5229.92 1546.13 5223.6 1546.13 Q5221.43 1546.13 5219.16 1545.76 Q5216.91 1545.39 5214.5 1544.65 L5214.5 1539.95 Q5216.59 1541.08 5218.81 1541.64 Q5221.03 1542.19 5223.51 1542.19 Q5227.51 1542.19 5229.85 1540.09 Q5232.19 1537.98 5232.19 1534.37 Q5232.19 1530.76 5229.85 1528.65 Q5227.51 1526.55 5223.51 1526.55 Q5221.63 1526.55 5219.76 1526.96 Q5217.91 1527.38 5215.96 1528.26 L5215.96 1510.9 Z\" fill=\"#000000\" fill-rule=\"evenodd\" fill-opacity=\"1\" /><path clip-path=\"url(#clip690)\" d=\"M4970.76 1342.08 L5000.43 1342.08 L5000.43 1346.01 L4970.76 1346.01 L4970.76 1342.08 Z\" fill=\"#000000\" fill-rule=\"evenodd\" fill-opacity=\"1\" /><path clip-path=\"url(#clip690)\" d=\"M5020.52 1327.43 Q5016.91 1327.43 5015.08 1330.99 Q5013.28 1334.53 5013.28 1341.66 Q5013.28 1348.77 5015.08 1352.33 Q5016.91 1355.88 5020.52 1355.88 Q5024.16 1355.88 5025.96 1352.33 Q5027.79 1348.77 5027.79 1341.66 Q5027.79 1334.53 5025.96 1330.99 Q5024.16 1327.43 5020.52 1327.43 M5020.52 1323.72 Q5026.33 1323.72 5029.39 1328.33 Q5032.47 1332.91 5032.47 1341.66 Q5032.47 1350.39 5029.39 1355 Q5026.33 1359.58 5020.52 1359.58 Q5014.71 1359.58 5011.64 1355 Q5008.58 1350.39 5008.58 1341.66 Q5008.58 1332.91 5011.64 1328.33 Q5014.71 1323.72 5020.52 1323.72 Z\" fill=\"#000000\" fill-rule=\"evenodd\" fill-opacity=\"1\" /><path clip-path=\"url(#clip690)\" d=\"M5040.69 1353.03 L5045.57 1353.03 L5045.57 1358.91 L5040.69 1358.91 L5040.69 1353.03 Z\" fill=\"#000000\" fill-rule=\"evenodd\" fill-opacity=\"1\" /><path clip-path=\"url(#clip690)\" d=\"M5056.57 1354.97 L5064.2 1354.97 L5064.2 1328.61 L5055.89 1330.27 L5055.89 1326.01 L5064.16 1324.35 L5068.83 1324.35 L5068.83 1354.97 L5076.47 1354.97 L5076.47 1358.91 L5056.57 1358.91 L5056.57 1354.97 Z\" fill=\"#000000\" fill-rule=\"evenodd\" fill-opacity=\"1\" /><path clip-path=\"url(#clip690)\" d=\"M5085.5 1324.35 L5107.35 1324.35 L5107.35 1328.28 L5090.18 1328.28 L5090.18 1338.51 L5106.63 1338.51 L5106.63 1342.45 L5090.18 1342.45 L5090.18 1354.97 L5107.77 1354.97 L5107.77 1358.91 L5085.5 1358.91 L5085.5 1324.35 Z\" fill=\"#000000\" fill-rule=\"evenodd\" fill-opacity=\"1\" /><path clip-path=\"url(#clip690)\" d=\"M5115.82 1342.08 L5145.5 1342.08 L5145.5 1346.01 L5115.82 1346.01 L5115.82 1342.08 Z\" fill=\"#000000\" fill-rule=\"evenodd\" fill-opacity=\"1\" /><path clip-path=\"url(#clip690)\" d=\"M5156.4 1354.97 L5164.04 1354.97 L5164.04 1328.61 L5155.73 1330.27 L5155.73 1326.01 L5164 1324.35 L5168.67 1324.35 L5168.67 1354.97 L5176.31 1354.97 L5176.31 1358.91 L5156.4 1358.91 L5156.4 1354.97 Z\" fill=\"#000000\" fill-rule=\"evenodd\" fill-opacity=\"1\" /><path clip-path=\"url(#clip690)\" d=\"M5185.8 1324.35 L5204.16 1324.35 L5204.16 1328.28 L5190.08 1328.28 L5190.08 1336.75 Q5191.1 1336.41 5192.12 1336.25 Q5193.14 1336.06 5194.16 1336.06 Q5199.94 1336.06 5203.32 1339.23 Q5206.7 1342.4 5206.7 1347.82 Q5206.7 1353.4 5203.23 1356.5 Q5199.76 1359.58 5193.44 1359.58 Q5191.26 1359.58 5189 1359.21 Q5186.75 1358.84 5184.34 1358.1 L5184.34 1353.4 Q5186.43 1354.53 5188.65 1355.09 Q5190.87 1355.64 5193.35 1355.64 Q5197.35 1355.64 5199.69 1353.54 Q5202.03 1351.43 5202.03 1347.82 Q5202.03 1344.21 5199.69 1342.1 Q5197.35 1340 5193.35 1340 Q5191.47 1340 5189.6 1340.41 Q5187.75 1340.83 5185.8 1341.71 L5185.8 1324.35 Z\" fill=\"#000000\" fill-rule=\"evenodd\" fill-opacity=\"1\" /><path clip-path=\"url(#clip690)\" d=\"M4970.76 1155.53 L5000.43 1155.53 L5000.43 1159.46 L4970.76 1159.46 L4970.76 1155.53 Z\" fill=\"#000000\" fill-rule=\"evenodd\" fill-opacity=\"1\" /><path clip-path=\"url(#clip690)\" d=\"M5020.52 1140.88 Q5016.91 1140.88 5015.08 1144.44 Q5013.28 1147.98 5013.28 1155.11 Q5013.28 1162.22 5015.08 1165.78 Q5016.91 1169.33 5020.52 1169.33 Q5024.16 1169.33 5025.96 1165.78 Q5027.79 1162.22 5027.79 1155.11 Q5027.79 1147.98 5025.96 1144.44 Q5024.16 1140.88 5020.52 1140.88 M5020.52 1137.17 Q5026.33 1137.17 5029.39 1141.78 Q5032.47 1146.36 5032.47 1155.11 Q5032.47 1163.84 5029.39 1168.45 Q5026.33 1173.03 5020.52 1173.03 Q5014.71 1173.03 5011.64 1168.45 Q5008.58 1163.84 5008.58 1155.11 Q5008.58 1146.36 5011.64 1141.78 Q5014.71 1137.17 5020.52 1137.17 Z\" fill=\"#000000\" fill-rule=\"evenodd\" fill-opacity=\"1\" /><path clip-path=\"url(#clip690)\" d=\"M5040.69 1166.48 L5045.57 1166.48 L5045.57 1172.36 L5040.69 1172.36 L5040.69 1166.48 Z\" fill=\"#000000\" fill-rule=\"evenodd\" fill-opacity=\"1\" /><path clip-path=\"url(#clip690)\" d=\"M5055.8 1137.8 L5074.16 1137.8 L5074.16 1141.73 L5060.08 1141.73 L5060.08 1150.21 Q5061.1 1149.86 5062.12 1149.7 Q5063.14 1149.51 5064.16 1149.51 Q5069.95 1149.51 5073.32 1152.68 Q5076.7 1155.85 5076.7 1161.27 Q5076.7 1166.85 5073.23 1169.95 Q5069.76 1173.03 5063.44 1173.03 Q5061.26 1173.03 5059 1172.66 Q5056.75 1172.29 5054.34 1171.55 L5054.34 1166.85 Q5056.43 1167.98 5058.65 1168.54 Q5060.87 1169.09 5063.35 1169.09 Q5067.35 1169.09 5069.69 1166.99 Q5072.03 1164.88 5072.03 1161.27 Q5072.03 1157.66 5069.69 1155.55 Q5067.35 1153.45 5063.35 1153.45 Q5061.47 1153.45 5059.6 1153.86 Q5057.75 1154.28 5055.8 1155.16 L5055.8 1137.8 Z\" fill=\"#000000\" fill-rule=\"evenodd\" fill-opacity=\"1\" /><path clip-path=\"url(#clip690)\" d=\"M5085.5 1137.8 L5107.35 1137.8 L5107.35 1141.73 L5090.18 1141.73 L5090.18 1151.96 L5106.63 1151.96 L5106.63 1155.9 L5090.18 1155.9 L5090.18 1168.42 L5107.77 1168.42 L5107.77 1172.36 L5085.5 1172.36 L5085.5 1137.8 Z\" fill=\"#000000\" fill-rule=\"evenodd\" fill-opacity=\"1\" /><path clip-path=\"url(#clip690)\" d=\"M5115.82 1155.53 L5145.5 1155.53 L5145.5 1159.46 L5115.82 1159.46 L5115.82 1155.53 Z\" fill=\"#000000\" fill-rule=\"evenodd\" fill-opacity=\"1\" /><path clip-path=\"url(#clip690)\" d=\"M5156.4 1168.42 L5164.04 1168.42 L5164.04 1142.06 L5155.73 1143.72 L5155.73 1139.46 L5164 1137.8 L5168.67 1137.8 L5168.67 1168.42 L5176.31 1168.42 L5176.31 1172.36 L5156.4 1172.36 L5156.4 1168.42 Z\" fill=\"#000000\" fill-rule=\"evenodd\" fill-opacity=\"1\" /><path clip-path=\"url(#clip690)\" d=\"M5196.33 1153.21 Q5193.19 1153.21 5191.33 1155.37 Q5189.5 1157.52 5189.5 1161.27 Q5189.5 1165 5191.33 1167.17 Q5193.19 1169.33 5196.33 1169.33 Q5199.48 1169.33 5201.31 1167.17 Q5203.16 1165 5203.16 1161.27 Q5203.16 1157.52 5201.31 1155.37 Q5199.48 1153.21 5196.33 1153.21 M5205.62 1138.56 L5205.62 1142.82 Q5203.86 1141.99 5202.05 1141.55 Q5200.27 1141.11 5198.51 1141.11 Q5193.88 1141.11 5191.43 1144.23 Q5189 1147.36 5188.65 1153.68 Q5190.01 1151.66 5192.07 1150.6 Q5194.13 1149.51 5196.61 1149.51 Q5201.82 1149.51 5204.83 1152.68 Q5207.86 1155.83 5207.86 1161.27 Q5207.86 1166.59 5204.71 1169.81 Q5201.56 1173.03 5196.33 1173.03 Q5190.34 1173.03 5187.17 1168.45 Q5184 1163.84 5184 1155.11 Q5184 1146.92 5187.88 1142.06 Q5191.77 1137.17 5198.32 1137.17 Q5200.08 1137.17 5201.87 1137.52 Q5203.67 1137.87 5205.62 1138.56 Z\" fill=\"#000000\" fill-rule=\"evenodd\" fill-opacity=\"1\" /><path clip-path=\"url(#clip690)\" d=\"M4982.7 954.327 Q4979.09 954.327 4977.26 957.891 Q4975.45 961.433 4975.45 968.563 Q4975.45 975.669 4977.26 979.234 Q4979.09 982.776 4982.7 982.776 Q4986.33 982.776 4988.14 979.234 Q4989.97 975.669 4989.97 968.563 Q4989.97 961.433 4988.14 957.891 Q4986.33 954.327 4982.7 954.327 M4982.7 950.623 Q4988.51 950.623 4991.57 955.229 Q4994.64 959.813 4994.64 968.563 Q4994.64 977.289 4991.57 981.896 Q4988.51 986.479 4982.7 986.479 Q4976.89 986.479 4973.81 981.896 Q4970.76 977.289 4970.76 968.563 Q4970.76 959.813 4973.81 955.229 Q4976.89 950.623 4982.7 950.623 Z\" fill=\"#000000\" fill-rule=\"evenodd\" fill-opacity=\"1\" /><path clip-path=\"url(#clip690)\" d=\"M4982.7 767.777 Q4979.09 767.777 4977.26 771.342 Q4975.45 774.883 4975.45 782.013 Q4975.45 789.119 4977.26 792.684 Q4979.09 796.226 4982.7 796.226 Q4986.33 796.226 4988.14 792.684 Q4989.97 789.119 4989.97 782.013 Q4989.97 774.883 4988.14 771.342 Q4986.33 767.777 4982.7 767.777 M4982.7 764.073 Q4988.51 764.073 4991.57 768.68 Q4994.64 773.263 4994.64 782.013 Q4994.64 790.74 4991.57 795.346 Q4988.51 799.929 4982.7 799.929 Q4976.89 799.929 4973.81 795.346 Q4970.76 790.74 4970.76 782.013 Q4970.76 773.263 4973.81 768.68 Q4976.89 764.073 4982.7 764.073 Z\" fill=\"#000000\" fill-rule=\"evenodd\" fill-opacity=\"1\" /><path clip-path=\"url(#clip690)\" d=\"M5002.86 793.379 L5007.75 793.379 L5007.75 799.258 L5002.86 799.258 L5002.86 793.379 Z\" fill=\"#000000\" fill-rule=\"evenodd\" fill-opacity=\"1\" /><path clip-path=\"url(#clip690)\" d=\"M5017.98 764.698 L5036.33 764.698 L5036.33 768.633 L5022.26 768.633 L5022.26 777.105 Q5023.28 776.758 5024.3 776.596 Q5025.32 776.411 5026.33 776.411 Q5032.12 776.411 5035.5 779.582 Q5038.88 782.754 5038.88 788.17 Q5038.88 793.749 5035.41 796.851 Q5031.94 799.929 5025.62 799.929 Q5023.44 799.929 5021.17 799.559 Q5018.93 799.189 5016.52 798.448 L5016.52 793.749 Q5018.6 794.883 5020.83 795.439 Q5023.05 795.994 5025.52 795.994 Q5029.53 795.994 5031.87 793.888 Q5034.2 791.781 5034.2 788.17 Q5034.2 784.559 5031.87 782.453 Q5029.53 780.346 5025.52 780.346 Q5023.65 780.346 5021.77 780.763 Q5019.92 781.18 5017.98 782.059 L5017.98 764.698 Z\" fill=\"#000000\" fill-rule=\"evenodd\" fill-opacity=\"1\" /><path clip-path=\"url(#clip690)\" d=\"M5047.68 764.698 L5069.53 764.698 L5069.53 768.633 L5052.35 768.633 L5052.35 778.865 L5068.81 778.865 L5068.81 782.8 L5052.35 782.8 L5052.35 795.323 L5069.95 795.323 L5069.95 799.258 L5047.68 799.258 L5047.68 764.698 Z\" fill=\"#000000\" fill-rule=\"evenodd\" fill-opacity=\"1\" /><path clip-path=\"url(#clip690)\" d=\"M5078 782.429 L5107.68 782.429 L5107.68 786.365 L5078 786.365 L5078 782.429 Z\" fill=\"#000000\" fill-rule=\"evenodd\" fill-opacity=\"1\" /><path clip-path=\"url(#clip690)\" d=\"M5118.58 795.323 L5126.22 795.323 L5126.22 768.957 L5117.91 770.624 L5117.91 766.365 L5126.17 764.698 L5130.85 764.698 L5130.85 795.323 L5138.49 795.323 L5138.49 799.258 L5118.58 799.258 L5118.58 795.323 Z\" fill=\"#000000\" fill-rule=\"evenodd\" fill-opacity=\"1\" /><path clip-path=\"url(#clip690)\" d=\"M5158.51 780.115 Q5155.36 780.115 5153.51 782.267 Q5151.68 784.42 5151.68 788.17 Q5151.68 791.897 5153.51 794.073 Q5155.36 796.226 5158.51 796.226 Q5161.66 796.226 5163.49 794.073 Q5165.34 791.897 5165.34 788.17 Q5165.34 784.42 5163.49 782.267 Q5161.66 780.115 5158.51 780.115 M5167.79 765.462 L5167.79 769.721 Q5166.03 768.888 5164.23 768.448 Q5162.44 768.008 5160.69 768.008 Q5156.06 768.008 5153.6 771.133 Q5151.17 774.258 5150.82 780.578 Q5152.19 778.564 5154.25 777.499 Q5156.31 776.411 5158.79 776.411 Q5164 776.411 5167 779.582 Q5170.04 782.73 5170.04 788.17 Q5170.04 793.494 5166.89 796.712 Q5163.74 799.929 5158.51 799.929 Q5152.51 799.929 5149.34 795.346 Q5146.17 790.74 5146.17 782.013 Q5146.17 773.818 5150.06 768.957 Q5153.95 764.073 5160.5 764.073 Q5162.26 764.073 5164.04 764.42 Q5165.85 764.768 5167.79 765.462 Z\" fill=\"#000000\" fill-rule=\"evenodd\" fill-opacity=\"1\" /><path clip-path=\"url(#clip690)\" d=\"M4982.7 581.227 Q4979.09 581.227 4977.26 584.792 Q4975.45 588.333 4975.45 595.463 Q4975.45 602.569 4977.26 606.134 Q4979.09 609.676 4982.7 609.676 Q4986.33 609.676 4988.14 606.134 Q4989.97 602.569 4989.97 595.463 Q4989.97 588.333 4988.14 584.792 Q4986.33 581.227 4982.7 581.227 M4982.7 577.523 Q4988.51 577.523 4991.57 582.13 Q4994.64 586.713 4994.64 595.463 Q4994.64 604.19 4991.57 608.796 Q4988.51 613.38 4982.7 613.38 Q4976.89 613.38 4973.81 608.796 Q4970.76 604.19 4970.76 595.463 Q4970.76 586.713 4973.81 582.13 Q4976.89 577.523 4982.7 577.523 Z\" fill=\"#000000\" fill-rule=\"evenodd\" fill-opacity=\"1\" /><path clip-path=\"url(#clip690)\" d=\"M5002.86 606.829 L5007.75 606.829 L5007.75 612.708 L5002.86 612.708 L5002.86 606.829 Z\" fill=\"#000000\" fill-rule=\"evenodd\" fill-opacity=\"1\" /><path clip-path=\"url(#clip690)\" d=\"M5018.74 608.773 L5026.38 608.773 L5026.38 582.408 L5018.07 584.074 L5018.07 579.815 L5026.33 578.148 L5031.01 578.148 L5031.01 608.773 L5038.65 608.773 L5038.65 612.708 L5018.74 612.708 L5018.74 608.773 Z\" fill=\"#000000\" fill-rule=\"evenodd\" fill-opacity=\"1\" /><path clip-path=\"url(#clip690)\" d=\"M5047.68 578.148 L5069.53 578.148 L5069.53 582.083 L5052.35 582.083 L5052.35 592.315 L5068.81 592.315 L5068.81 596.25 L5052.35 596.25 L5052.35 608.773 L5069.95 608.773 L5069.95 612.708 L5047.68 612.708 L5047.68 578.148 Z\" fill=\"#000000\" fill-rule=\"evenodd\" fill-opacity=\"1\" /><path clip-path=\"url(#clip690)\" d=\"M5078 595.88 L5107.68 595.88 L5107.68 599.815 L5078 599.815 L5078 595.88 Z\" fill=\"#000000\" fill-rule=\"evenodd\" fill-opacity=\"1\" /><path clip-path=\"url(#clip690)\" d=\"M5118.58 608.773 L5126.22 608.773 L5126.22 582.408 L5117.91 584.074 L5117.91 579.815 L5126.17 578.148 L5130.85 578.148 L5130.85 608.773 L5138.49 608.773 L5138.49 612.708 L5118.58 612.708 L5118.58 608.773 Z\" fill=\"#000000\" fill-rule=\"evenodd\" fill-opacity=\"1\" /><path clip-path=\"url(#clip690)\" d=\"M5147.98 578.148 L5166.33 578.148 L5166.33 582.083 L5152.26 582.083 L5152.26 590.556 Q5153.28 590.208 5154.3 590.046 Q5155.32 589.861 5156.33 589.861 Q5162.12 589.861 5165.5 593.032 Q5168.88 596.204 5168.88 601.62 Q5168.88 607.199 5165.41 610.301 Q5161.94 613.38 5155.62 613.38 Q5153.44 613.38 5151.17 613.009 Q5148.93 612.639 5146.52 611.898 L5146.52 607.199 Q5148.6 608.333 5150.82 608.889 Q5153.05 609.444 5155.52 609.444 Q5159.53 609.444 5161.87 607.338 Q5164.2 605.231 5164.2 601.62 Q5164.2 598.009 5161.87 595.903 Q5159.53 593.796 5155.52 593.796 Q5153.65 593.796 5151.77 594.213 Q5149.92 594.63 5147.98 595.509 L5147.98 578.148 Z\" fill=\"#000000\" fill-rule=\"evenodd\" fill-opacity=\"1\" /><path clip-path=\"url(#clip690)\" d=\"M4982.7 394.677 Q4979.09 394.677 4977.26 398.242 Q4975.45 401.784 4975.45 408.913 Q4975.45 416.02 4977.26 419.584 Q4979.09 423.126 4982.7 423.126 Q4986.33 423.126 4988.14 419.584 Q4989.97 416.02 4989.97 408.913 Q4989.97 401.784 4988.14 398.242 Q4986.33 394.677 4982.7 394.677 M4982.7 390.973 Q4988.51 390.973 4991.57 395.58 Q4994.64 400.163 4994.64 408.913 Q4994.64 417.64 4991.57 422.246 Q4988.51 426.83 4982.7 426.83 Q4976.89 426.83 4973.81 422.246 Q4970.76 417.64 4970.76 408.913 Q4970.76 400.163 4973.81 395.58 Q4976.89 390.973 4982.7 390.973 Z\" fill=\"#000000\" fill-rule=\"evenodd\" fill-opacity=\"1\" /><path clip-path=\"url(#clip690)\" d=\"M5002.86 420.279 L5007.75 420.279 L5007.75 426.158 L5002.86 426.158 L5002.86 420.279 Z\" fill=\"#000000\" fill-rule=\"evenodd\" fill-opacity=\"1\" /><path clip-path=\"url(#clip690)\" d=\"M5018.74 422.223 L5026.38 422.223 L5026.38 395.858 L5018.07 397.524 L5018.07 393.265 L5026.33 391.598 L5031.01 391.598 L5031.01 422.223 L5038.65 422.223 L5038.65 426.158 L5018.74 426.158 L5018.74 422.223 Z\" fill=\"#000000\" fill-rule=\"evenodd\" fill-opacity=\"1\" /><path clip-path=\"url(#clip690)\" d=\"M5048.14 391.598 L5066.5 391.598 L5066.5 395.534 L5052.42 395.534 L5052.42 404.006 Q5053.44 403.659 5054.46 403.497 Q5055.48 403.311 5056.5 403.311 Q5062.28 403.311 5065.66 406.483 Q5069.04 409.654 5069.04 415.071 Q5069.04 420.649 5065.57 423.751 Q5062.1 426.83 5055.78 426.83 Q5053.6 426.83 5051.33 426.459 Q5049.09 426.089 5046.68 425.348 L5046.68 420.649 Q5048.76 421.783 5050.99 422.339 Q5053.21 422.895 5055.69 422.895 Q5059.69 422.895 5062.03 420.788 Q5064.37 418.682 5064.37 415.071 Q5064.37 411.459 5062.03 409.353 Q5059.69 407.246 5055.69 407.246 Q5053.81 407.246 5051.94 407.663 Q5050.08 408.08 5048.14 408.959 L5048.14 391.598 Z\" fill=\"#000000\" fill-rule=\"evenodd\" fill-opacity=\"1\" /><path clip-path=\"url(#clip690)\" d=\"M5077.84 391.598 L5099.69 391.598 L5099.69 395.534 L5082.51 395.534 L5082.51 405.765 L5098.97 405.765 L5098.97 409.7 L5082.51 409.7 L5082.51 422.223 L5100.11 422.223 L5100.11 426.158 L5077.84 426.158 L5077.84 391.598 Z\" fill=\"#000000\" fill-rule=\"evenodd\" fill-opacity=\"1\" /><path clip-path=\"url(#clip690)\" d=\"M5108.16 409.33 L5137.84 409.33 L5137.84 413.265 L5108.16 413.265 L5108.16 409.33 Z\" fill=\"#000000\" fill-rule=\"evenodd\" fill-opacity=\"1\" /><path clip-path=\"url(#clip690)\" d=\"M5148.74 422.223 L5156.38 422.223 L5156.38 395.858 L5148.07 397.524 L5148.07 393.265 L5156.33 391.598 L5161.01 391.598 L5161.01 422.223 L5168.65 422.223 L5168.65 426.158 L5148.74 426.158 L5148.74 422.223 Z\" fill=\"#000000\" fill-rule=\"evenodd\" fill-opacity=\"1\" /><path clip-path=\"url(#clip690)\" d=\"M5178.14 391.598 L5196.5 391.598 L5196.5 395.534 L5182.42 395.534 L5182.42 404.006 Q5183.44 403.659 5184.46 403.497 Q5185.48 403.311 5186.5 403.311 Q5192.28 403.311 5195.66 406.483 Q5199.04 409.654 5199.04 415.071 Q5199.04 420.649 5195.57 423.751 Q5192.1 426.83 5185.78 426.83 Q5183.6 426.83 5181.33 426.459 Q5179.09 426.089 5176.68 425.348 L5176.68 420.649 Q5178.76 421.783 5180.99 422.339 Q5183.21 422.895 5185.69 422.895 Q5189.69 422.895 5192.03 420.788 Q5194.37 418.682 5194.37 415.071 Q5194.37 411.459 5192.03 409.353 Q5189.69 407.246 5185.69 407.246 Q5183.81 407.246 5181.94 407.663 Q5180.08 408.08 5178.14 408.959 L5178.14 391.598 Z\" fill=\"#000000\" fill-rule=\"evenodd\" fill-opacity=\"1\" /><path clip-path=\"url(#clip690)\" d=\"M4982.7 208.127 Q4979.09 208.127 4977.26 211.692 Q4975.45 215.234 4975.45 222.363 Q4975.45 229.47 4977.26 233.035 Q4979.09 236.576 4982.7 236.576 Q4986.33 236.576 4988.14 233.035 Q4989.97 229.47 4989.97 222.363 Q4989.97 215.234 4988.14 211.692 Q4986.33 208.127 4982.7 208.127 M4982.7 204.424 Q4988.51 204.424 4991.57 209.03 Q4994.64 213.613 4994.64 222.363 Q4994.64 231.09 4991.57 235.697 Q4988.51 240.28 4982.7 240.28 Q4976.89 240.28 4973.81 235.697 Q4970.76 231.09 4970.76 222.363 Q4970.76 213.613 4973.81 209.03 Q4976.89 204.424 4982.7 204.424 Z\" fill=\"#000000\" fill-rule=\"evenodd\" fill-opacity=\"1\" /><path clip-path=\"url(#clip690)\" d=\"M5002.86 233.729 L5007.75 233.729 L5007.75 239.609 L5002.86 239.609 L5002.86 233.729 Z\" fill=\"#000000\" fill-rule=\"evenodd\" fill-opacity=\"1\" /><path clip-path=\"url(#clip690)\" d=\"M5021.96 235.673 L5038.28 235.673 L5038.28 239.609 L5016.33 239.609 L5016.33 235.673 Q5019 232.919 5023.58 228.289 Q5028.19 223.636 5029.37 222.294 Q5031.61 219.771 5032.49 218.035 Q5033.39 216.275 5033.39 214.586 Q5033.39 211.831 5031.45 210.095 Q5029.53 208.359 5026.43 208.359 Q5024.23 208.359 5021.77 209.123 Q5019.34 209.887 5016.57 211.437 L5016.57 206.715 Q5019.39 205.581 5021.84 205.002 Q5024.3 204.424 5026.33 204.424 Q5031.7 204.424 5034.9 207.109 Q5038.09 209.794 5038.09 214.285 Q5038.09 216.414 5037.28 218.336 Q5036.5 220.234 5034.39 222.826 Q5033.81 223.498 5030.71 226.715 Q5027.61 229.91 5021.96 235.673 Z\" fill=\"#000000\" fill-rule=\"evenodd\" fill-opacity=\"1\" /><path clip-path=\"url(#clip690)\" d=\"M5047.68 205.049 L5069.53 205.049 L5069.53 208.984 L5052.35 208.984 L5052.35 219.215 L5068.81 219.215 L5068.81 223.15 L5052.35 223.15 L5052.35 235.673 L5069.95 235.673 L5069.95 239.609 L5047.68 239.609 L5047.68 205.049 Z\" fill=\"#000000\" fill-rule=\"evenodd\" fill-opacity=\"1\" /><path clip-path=\"url(#clip690)\" d=\"M5078 222.78 L5107.68 222.78 L5107.68 226.715 L5078 226.715 L5078 222.78 Z\" fill=\"#000000\" fill-rule=\"evenodd\" fill-opacity=\"1\" /><path clip-path=\"url(#clip690)\" d=\"M5118.58 235.673 L5126.22 235.673 L5126.22 209.308 L5117.91 210.974 L5117.91 206.715 L5126.17 205.049 L5130.85 205.049 L5130.85 235.673 L5138.49 235.673 L5138.49 239.609 L5118.58 239.609 L5118.58 235.673 Z\" fill=\"#000000\" fill-rule=\"evenodd\" fill-opacity=\"1\" /><path clip-path=\"url(#clip690)\" d=\"M5147.98 205.049 L5166.33 205.049 L5166.33 208.984 L5152.26 208.984 L5152.26 217.456 Q5153.28 217.109 5154.3 216.947 Q5155.32 216.761 5156.33 216.761 Q5162.12 216.761 5165.5 219.933 Q5168.88 223.104 5168.88 228.521 Q5168.88 234.099 5165.41 237.201 Q5161.94 240.28 5155.62 240.28 Q5153.44 240.28 5151.17 239.91 Q5148.93 239.539 5146.52 238.798 L5146.52 234.099 Q5148.6 235.234 5150.82 235.789 Q5153.05 236.345 5155.52 236.345 Q5159.53 236.345 5161.87 234.238 Q5164.2 232.132 5164.2 228.521 Q5164.2 224.91 5161.87 222.803 Q5159.53 220.697 5155.52 220.697 Q5153.65 220.697 5151.77 221.113 Q5149.92 221.53 5147.98 222.41 L5147.98 205.049 Z\" fill=\"#000000\" fill-rule=\"evenodd\" fill-opacity=\"1\" /><polyline clip-path=\"url(#clip690)\" style=\"stroke:#000000; stroke-linecap:butt; stroke-linejoin:round; stroke-width:4; stroke-opacity:1; fill:none\" points=\"\n",
       "  4892.76,1800.6 4892.76,1718.36 4944.76,1718.36 4892.76,1718.36 4892.76,1531.81 4944.76,1531.81 4892.76,1531.81 4892.76,1345.26 4944.76,1345.26 4892.76,1345.26 \n",
       "  4892.76,1158.71 4944.76,1158.71 4892.76,1158.71 4892.76,972.157 4944.76,972.157 4892.76,972.157 4892.76,785.607 4944.76,785.607 4892.76,785.607 4892.76,599.057 \n",
       "  4944.76,599.057 4892.76,599.057 4892.76,412.507 4944.76,412.507 4892.76,412.507 4892.76,225.957 4944.76,225.957 4892.76,225.957 4892.76,143.709 \n",
       "  \"/>\n",
       "</svg>\n"
      ]
     },
     "execution_count": 23,
     "metadata": {},
     "output_type": "execute_result"
    }
   ],
   "source": [
    "D = M - M_p; dscale = maximum(abs.(D)); p = imshow(D, (-dscale, dscale)); draw(plot!(p, size=(1300, 500)))"
   ]
  },
  {
   "cell_type": "code",
   "execution_count": 24,
   "id": "78e0dd13",
   "metadata": {
    "hideCode": true,
    "slideshow": {
     "slide_type": "subslide"
    }
   },
   "outputs": [
    {
     "name": "stderr",
     "output_type": "stream",
     "text": [
      "┌ Info: Saved animation to \n",
      "│   fn = /home/tisaac/srv/rep/22-course-cse6643/mybinder/tmp.gif\n",
      "└ @ Plots /home/tisaac/.julia/packages/Plots/Xv2qA/src/animation.jl:114\n"
     ]
    },
    {
     "data": {
      "text/html": [
       "<img src=\"data:image/gif;base64,R0lGODlhFAUgA/cBAAAAAAD/AAMDAwcHBwoKCg0NDRAQEBMTExYWFhwcHCIiIigoKC0tLS9qFjExMTQ0NDV7FziWDzs7OzyYEzyYFD2XFj8/P0CZGkF4KEKaHENDQ0OQIkWbIEh1M0lJSUmcJU1NTU2MMU6eK09PT1BQUFKgMFRUVFV7QlWhM1mjOFtbW1uNQ12kPV2lPF5eXl6qPWCnQGKnQmRkZGSoRWiLVmiqSWlpaWqrS2usTW5ubm+tUHKvVHR0dHWwV3aiXnd3d3eManiyW3l5eXqzXnx8fH21YX5+fn9/f4CAgIC2ZYNJnYODg4OTeYOhcoS4aIW4aoW5a4eHh4ixcoi6bYqKioq7cIxfn46chY69dY9QrI+9dZCQkJC/eJJnpZSUk5S/e5WVlJaWlpdQuJd4o5fBgJmZmZrDg5tUvJzEhZ2No52dnZ61kJ+aoZ/GiaDGi6Fnu6GXpaOjo6PIj6Vbx6ampqdwv6fJk6mpqam4n6pU06qqqqrMl6t+vausq66urq7NnLFk1LGLv7LPoLOzs7TRo7Vv1bWZv7XRpbdZ5Le3t7fTp7hZ5Lhb5Lld5Lle5Lpf5Lph5LrUq7th5bti5bukw7u7u7xk5bx9171n5b2ywL6+vr7Wr79r5cDXssFw5sGL2MHBwcHPuMJy5sLCwsLYtMN25sPDw8V558XZuMXauMZ858bFxseZ2cfIxsiA58jIyMjbvMnJycqE6MrKysuI6Muk2szMzMzdwc2N6c7Ozs+Q6c/exdCU6dG229HgyNKY6tOb6tPP1NPT09Sd6tThzNWh69bizdek69en69fj0NjY2Nmr69qt7Nuw7Nvl1Ny07N217N3d3d3m193n19+67eC/7eDn2uHh4eHo2+LC7eLo3+PH7ePI7uXM7ubP7ubp4+fS7ufo5ufq4+jU7+jW7+nY7+nb7+np6enr6OrR9Orc7+rr6Ovf7+vi7+vq6uvr6uvr6+zl7+zm7uzp7ezq7O3Y9e3r7vHx8PPp9vT09PX19vX29Pj4+Pr7+fz8/P///yH/C05FVFNDQVBFMi4wAwEAAAAh+QQFyAABACwAAAAAFAUgA4cAAAAA/wADAwMHBwcKCgoNDQ0QEBATExMWFhYcHBwiIiIoKCgtLS0vahYxMTE0NDQ1exc4lg87Ozs8mBM8mBQ9lxY/Pz9AmRpBeChCmhxDQ0NDkCJFmyBIdTNJSUlJnCVNTU1NjDFOnitPT09QUFBSoDBUVFRVe0JVoTNZozhbW1tbjUNdpD1dpTxeXl5eqj1gp0Bip0JkZGRkqEVoi1ZoqklpaWlqq0trrE1ubm5vrVByr1R0dHR1sFd2ol53d3d3jGp4slt5eXl6s158fHx9tWF+fn5/f3+AgICAtmWDSZ2Dg4ODk3mDoXKEuGiFuGqFuWuHh4eIsXKIum2KioqKu3CMX5+OnIWOvXWPUKyPvXWQkJCQv3iSZ6WUlJOUv3uVlZSWlpaXULiXeKOXwYCZmZmaw4ObVLycxIWdjaOdnZ2etZCfmqGfxomgxouhZ7uhl6Wjo6OjyI+lW8empqancL+nyZOpqampuJ+qVNOqqqqqzJerfr2rrKuurq6uzZyxZNSxi7+yz6Czs7O00aO1b9W1mb+10aW3WeS3t7e306e4WeS4W+S5XeS5XuS6X+S6YeS61Ku7YeW7YuW7pMO7u7u8ZOW8fde9Z+W9ssC+vr6+1q+/a+XA17LBcObBi9jBwcHBz7jCcubCwsLC2LTDdubDw8PFeefF2bjF2rjGfOfGxcbHmdnHyMbIgOfIyMjI27zJycnKhOjKysrLiOjLpNrMzMzM3cHNjenOzs7PkOnP3sXQlOnRttvR4MjSmOrTm+rTz9TT09PUnerU4czVoevW4s3XpOvXp+vX49DY2NjZq+varezbsOzb5dTctOzdtezd3d3d5tfd59ffuu3gv+3g59rh4eHh6Nviwu3i6N/jx+3jyO7lzO7mz+7m6ePn0u7n6Obn6uPo1O/o1u/p2O/p2+/p6enp6+jq0fTq3O/q6+jr3+/r4u/r6urr6+rr6+vs5e/s5u7s6e3s6uzt2PXt6+7x8fDz6fb09PT19fb19vT4+Pj6+/n8/Pz///8I/wD/CRxIsKDBgwgTKlzIsKHDhxAjSpxIsaLFixgzatzIsaPHjyBDihxJsqTJkyhTqlzJsqXLlzBjypxJs6bNmzhz6tzJs6fPn0CDCh1KtKjRo0iTKl3KtKnTp1CjSp1KtarVq1izat3KtavXoP76uHiwQAIJIpr41RxkwsEDF6C+yp1Lt67du3jz6t3LF2O4BwACCw5sg+CDA4lY+nMxOPCPvpAjS55MubLly5gr+wNsAImwc+dMGUlQeOACAINYLgEwIMw9e1EEAFCTubbt27hz697NuzfDSoErGfR3jeDp1CrdEQDghSARAAn0+Z5Ovbr169iza38ZBQCChe5sKf8AsMWW+WgFr5U5skTPPYPm1ZqiYiSOvYZhABxQO9DeANTbBSjggAQWaOCBkq12wEJlNBYYCQPd44Jsgh2gB0H+BJaLBoMdgJxCJgBggkESAJADgiimqOKKLLbookt+BLaEPwkpU0YCANhQxo7C/cMPYAkYoUccjAnwYYYAPFAAEonQweEAryx0GhEGyQCABi9mqeWWXHbpZYH8nAaAAjLEoQxCxxn0AwAMwEMQFdD1IxCSA7QykD8jJLlQAQBQoSYAC3wp6KCEFmrooV1dU+JgCvBQnHEAEsQPnz3eOV6PSMqQnoYKyUZbQXAmgOiopJZq6qmoutSKEA/8F1gBiZn/FulAoLDGH0EqABDFnIHdYdBpzSGEZBwGbeFdqsgmq+yyzDbLTyVWAlCAO7J+KJAarCmg7bYG/HfiP0hGWZAHADyW0HJbGCQEoM226+678MabYhyBpStQmgR5Ia0G/Pbbb7BICmNQiN8iNN4RBtkAgATyNuzwwxBHPBkCAGh676wC0QEdQ0hWOlCJCCdErgsGkWuxxCinrPLKLCd1Wmn/MACAHwUpExh6CiFp750HANCHQt0pUBA/BgBAbMtIJ6300kxzpIx0BtnM3EDklmGQAwCQnHNgDNA40B0AEPBejbJZiy0B9zWt9tpst600FQj8YIvX/twxngFuCpRDksLY/3PP2JrIZkPe//Tjhwd5IymADFCv0jMPDDGWwCwCaVK0EG5nrvnmnC8LZ2ADKJAAhQV4rMxygkEoUBz/CcCABgygnnhgsRlggcwLQ63QPVgDOt6Vt3Yu/PDEF8+iP6D88ACOrDlARDgGRbOECx5oYARB0djwewEM2KDJnTdXIsF/CQih+0L6GDGeAAtQ4bXx8Mcv//zW8ZPPRf7cP9zNA+kvET9yop8AB0jAAiIISTgzoAIXyMAGHpB/DoygBCdIwdsgsIIYzKAGNygXf5jABOfgoAhHSMISmvCEKEyhClfIwha68IUwjKEMZ0jDGtrwhjjMoQ53yMMe+vCHQAyiEP+HSMQiGvGISEyiEpfIxCY68YlQjKIUp0jFKlrxiljMoha3yMUuevGLYAyjGMdIxjKa8YxoTKMa18hG+flDGasQhv/aaMY3xnGODbGjHOnIMTjukYrwyAHFQDcCgZ0xGoMZwAEsUIb3dTGQPQMdCQw5kFkMAAkFsQcPBskaEOTChnsDgAoMQrTAfA8mmoxkJykpEKmBDgEaaOQQlYGjBOTAC0cAzAAuZEZEDqBfYgLBF2kJHR5sIZesodlAXgGA6w0kGuOxJS51SYcahlJsBdGYKWGijGjeEpkD8NVAbPZLfolpREHMx2lMcD59DcAWvTzWQAZRti7eYzwqOJ+xBvD/SYEw05n/UKeI5hgGAUCJhnsrkdUIogECAOaULREoOwlS0AFQrpUbG4gfZOOxHiIBAA4InkB4sLB4focgJAAA5LhoBJA6Um8AsMAymzmQ1TBApP8g6QMQSh4DMGwg1xCACjgEUYWEwxbUmoUXvADPjNg0gAQh6U//YTNREQQE5Qoijn5mEHj8h5VhRORJB7K3k2mRYsosyDn+c6Z//HMgOBJnJv/TzxjuLQxWaus/VlMJojakO1tIqWBMgFOJ4IiXBfEqAPpZ1YIorGA9tJkAzkcQC0yNjGItSIl2tUVhsIayHwNAGAQSDRVwFZECGJtBOLQzGN7VFACg0r0S4A+//zKkOwlQwCCuAQrAwIwiqMXjQFiLUasOBDCt5WEixpSQx5YxswKxx7oI8CgtDoJdCLHSSgsCHOMaZG+QfeFd/7EA2v4DtlSy7UK6IwBK2sMAAkjgRIAjNIQ4l6oZ/YcmpRXCH4LNAQlZk1nDGhgDGIBPgDJFFzUGYISQdMAC6QObErIurdlVtP/ojnDy+g/1Ag0AwiTI3vxUEQkzIMBZw6gADIxgBqwiiNcNFEL2tl0x+pJfSgIACYR7xRjJ+CAKw5xBllvfg9B4huMNqgryUYCfejgh3RHyQOgFYYHEIg5qiEMcuDpk5s5YpRgt5wOWM1Eg5oI1UB0XeZ4rz3/cI/+lFtaiLcL20uFetiCeHUBh/4HV5LpwvB0mgL4+9WSEALYgy0VnwgbjXYLkec99Lm6EsFplHfqjaEUdiD6K9mLMtvkf+hhdR6/oDz7FxSBMBoC4CnJpAIwa1EUbBZIx/A+NEQCbHQZApg0NAClfq2IIEcYghj2IXc+paK/eNAAUjF/v3gNHzP7h3jxwEGMtoM5fhO6UXcpFhVHbIHC69pexVKwxYZuFgC7lKAVS6IN059tkXbNF9kbugljba40lSIN2CsRr9GwJBdHEctI6Rm3P6TQEx+I1isbZgVRiOdYqSDh6BlCBgGLgPB2tQHJRieq22yDdAQAl4VEAAVSXIhP/BwAmCXLxmY0zvwLpx3gizsOHx1QNmvCDDGQDcJMaBFtd42IilqMBnOtcNg1HiCb4ZAGj71zl1qT1QT5eENwm4A7KGATWwkuRSjDd6bJZuaQL0qAGA1EYHGI0zW386YO7nIu5sKzaG4L2xiQg4RfW+NR1/Vfm5EowMtizROrO6ITnmyAyx9gPr6GHMKzpAGAdoz+icfKBwCMa1PLiNe4QBpIeQK8MYXwY1mWAyMPw8qo1SDiiAVp3Y1gYalCD6S8i+seDtR+UP4g7okE4IuK28nwc42oSAHyGGCsB8m1id/ROEtwmn4pEeIAK0hz8MbLKBdRviBGkL/gjLh8l21dB//erT/7yx1ANYEi/+tVfze+b//3w76IqHSS0V0ShrvHPv/6lyA99+P///zd++zeABFiABniACJiACriADNiADviAEBiBEjiBFFiBFniBGJiBGriBHNiBHviBIBiCIjiCJFiCJniCKJiCKriCLNiCLviCMBiDMjiDNFiDNniDOJiDOriDPNiDPviDQBiEQjiERFiERniESJiESriETNiETviEUBiFUjiFVFiFVniFWJiFWriFXNiFXviFYBiGYjiGZFiGZniGaJiGariGbNiGbviGcBiHcjiHdFiHdniHeJiHeriHfNiHfviHgBiIgjiIhFiIhniIiJiIiriIjNiIjv/4iJAYiZI4iZRYiZZ4iZiYiZq4iZzYiZ74iaAYiqI4iqRYiqZ4iqiYiqq4iqzYiq74irAYi7I4i7RYi7Z4i7iYi7q4i7zYi774i8AYjMI4jMRYjMZ4jMiYjMq4jMzYjM74jNAYjdI4jdRYjdZ4jdiYjdq4jdzYjd74jeAYjuI4juRYjuZ4juiYjuq4juzYju74jvAYj/I4j/RYj/Z4j/iYj/q4j/zYj/74jwAZkAI5kARZkAZ5kAiZkAq5kAzZkA75kBAZkRI5kRRZkRZ5kRiZkRq5kRzZkR75kSAZkiI5kiRZkiZ5kiiZkiq5kizZki75kjAZkzI5kzRZkzZ5kzj/mZM6uZM82ZM++ZNAGZRCOZREWZRGeZRImZRKuZRM2ZRO+ZRQGZVSOZVUWZVWeZVYmZVauZVc2ZVe+ZVgGZZiOZZkWZZmeZZomZZquZZs2ZZu+ZZwGZdyOZd0WZd2eZd4mZd6uZd82Zd++ZeAGZiCOZiEWZiGeZiImZiKuZiM2ZiO+ZiQGZmSOZmUWZmWeZn7GA13EAXPJxCVYANCUF33EAU2cDRbBA+2sGfnMAj49w+zMAhps0VHdW7XMAig5w+jkAg8ZkXX0JoEkXXy9SyVIIBQlAAaACsHoQcIUAY5kABj8wAmoAYMEDJYdE9sdRCacAAkQCYDYQILQAIIcFFY/0RL/8FjdHAAJpAAK8cPEuAAHoB8WgQKB6BICAE3JoAAnwIPC2ABFrAAvZdFCfBqD0BozVEJCSAntmAArcd/udAPAAB6x2U18HAAn2Sg70EF9XZF9yAMiCRc/ZAAiRENBAA9auAAcmIDlSZF56AMprAgXUUAAjMK+/EPSBBiICB2WhSgBqEPAPAoSzAiSLBu/2AA4plFD2oQQTU2KkAlOVAaSbpF1wAAwtWiXiMBtAECnOU4XNSiB0EHZqejDlBNtWZ2OTpqiMQfZcAwNlAwC4B3VnSkBaGlAvEDmkICnOUPAgChvCmlBuGlA6EC1xOmAhGluzlFXApuIfYPVvoPB//AbHKaQfhQD5I6qZRaqZZ6qZgqqUPlL5zKLyOAEDq6KfrjBVjSpHD1aj/kBVGwqqzaqqtqmgUBpwShCWNlBKPkAST2D/xURPpABVTgqsC6doRqEHHAb//gAo/BAOJ0DgAQm0IED78KrK56agVxqAWxBKrzDxYwWgUgLrNQABsEDYuACORaruZ6ruiaruqKCAQwCJXwrvAar5XQaQYRqhiSp3NKMlQQYvwAoxp0DJIQsAI7sARbsAZ7sJKQBwTwAwzbsA7LsH4mELI6TgPgNTYAOTJgLvcAAP2FQbyAsCAbsgYrBnHzsCb7KaJqEAZKNemiARonDAOwQa4gsjQrskr/oAAma7Juaq0EoQZT1abkhRyD8GMY9AyMcLRIm7RKu7RM27RHSwCFuhD2Gg2dNgLXEyY0owwFEEJ6IG4ZVAzrGrZim6554KITMbExhwCnBrRqwG9+4LUYhAtjO7djKwZkChHDmlgDgB5EA09HgE6kukGnQLeEq65KkKgRwbMDIQxQ+w/hMADQ4wIrxQMp6kDQ4LSYm7lN27gRMRYDsAAOcCZU8FO5gAAk4J4BlAMKcJ9rJ0HFoLmwq7llOxFLIGA/IB05sG5UsABqIAPilg+koQYJgLJxG7vGy7SLIAYnFhH+8AMKwwOyNQLmkgMPEAcgQG7+ZgRlgBiCe7zei7SI/3C4EgEPP6ACC2svDgAGAgECHhAHEmAxuVAAVLAFBeCbE3S535u/nAsRymAe5iEdl9cfg2AKjpQLflB8E/S6+eu9sysRqsqqalEJH0IHMoAEhBMOQmADbjpBuLDAx5u8d5tHrWovfnBK/lAGMkAF/qMMPOA9HHQKHmy84Yu4DgEbrPopatBPvSoDYQBVuZADOWC/99sIRFzERnzESJzESkzE+3tEChzDsNvASdTBUKy5ILxEMFzFmTvDSwQNktAIjhDGYjzGZFzGZnzGTWxEx7DEbNzGSSzFSKQLbjzHbcwIdrtEqkDHepzEjCC+SuTFYHzGgjzIaBy1QLTGhJzIiv8Mx0ekC4r8yILcCHesRKoAyZZMxn1Mw0ZEDY0gCY7gyaD8yaIcyqQ8yqb8CKicyo+QxkWEyJf8yoxsRI78ypcsySFcRJVMy5acyUtEDQILCcAczMI8zMRczMXMykR0DKq8zMzczM7czLFcRLrwzNRczczsCJOcRKpgzdxczY3gx0nky5MwzuRczuZ8zuiczpOAzEMEsMb8zvD8ztFMRLogCfF8z/f8CNmMRDOLz/5szI4Azkgkzupc0AZ9zuwsRMdw0Ax90HkwVkj0sQ090ei8z0fkChSd0eQsCQJ9RL5sCSAd0iI90iRd0iZtCQkdRAut0RltCYBgAEsk0SxN0Rb/bUQYPdMTzdGaXETUcNI+/dMmndKHDNRE/dOTMM9DxAtFvdQmXdNF5ApMHdUhzdGfqkQ9LdVYLdQ/hAxYLdWAYLYR3dVR7dREBNVivdRKUNXhjAls3dZu/dZwHddyzdZa7UNcfdZF/dIxjddFTdZDZNZ8/dNp3ctzXdiGLdd13UPIcNiMbdguDdNK9AuW0NiUHdd+LUSyMNmVvdmYYAmDbdWcHdqYkNg8tNiiTdkuDdZH9AunXdlncMtEJAutTdlKkK0DPduUTdo7ZNq4bdhfvUSs3duG/dpLJNvCXdi13cucsNzM3dzO/dzQHd3Lrds6tAzHXdi/HdnXPdfErUTG/73dcJ3cVi3d5F3e0U3dObQM5r3e5Y0J2Z1Ev8De8h3d3Z1EsjDf+N3c4h3O+d3fnIDeOMQM/o3f741E8T3g8l3fSEQLCC7f+41E1dDg8g3gNyTgEm7eBb7aF27eCn5EDL7h5P3gR1QNnsAJJW7iy33iKp7iLI7iLr7iLk7hNmThIB7dGW5EB17j0N3hRvThOv7cIr7JJQ7jRN7iRf7iLS7jNSTgR97kRv7kLn7jRQQMTo7kVl7lnsDjRcTgWA7lXc4JQV5EJO4JZF7mZn7maJ7mau4JSk5DTO7lcH7lUC7lRETlcf7lTa7lRMTld97ncg7mtj3iaz7ohK7mbT5DzP9Q6Ipe6HQ+RFS+6JCe5no+RLgQ6ZZu5mFORGN+6Zd+6DKU6Jxu6Y0uRMMQ6pY+6UJU6aYO6Zk+RNUgCrAe67I+67Re67YO654eQ8xw67ze67VeCKptRMPg68Tu66geRJVe7Mpe660uRK++7NAu67kOQ7se7dDuCaMeRMNu7dD+BrBN6Z7A7cve7EH07OKu7NP+Qs1w7soO7Eu07eze61n+7ake78RO7kBk7vbO6+nuQuu+77ye7UBUDAB/66Vw7ECECwVv66WA7z+UDaUQ8RI/8RRf8RZ/8RHf7y307ws/66Xg7kpE8B3v8d6+RAo/8rLe8IFuRNlwChj/8jBv8Rr/z0LNEPM2H/Mgn0TFcPM8b/GiUPJKhAs9P/QT7/A+BPEuT/RDP/Mr1AxJr/Q8n/NItPNQ3/MI/0O6UPU8fwpKoGhI1PKl8PRa//JMr0JOP/Y2L/VOjPY2D/RJlPVs//Jc7/VH1PKncPd4n/d6v/d83/enUPYpdPZxj/Fqb0TFIPaDT/FuH8eJf/GnYAU7TUR27/eUX/l7D/go5PSWv/mVX/hFdPicH/p7XwqL38iif/p4r/JLNPmof/qYf0LP0Pqo7/nJLPunX/pGxAu2H/qqAPmrrwrAH/zCP/zEX/zGD/yvb0Kxv/ucT/vtzPycj/tFpPvQb/lG30PccPzav/3G/0/h/pB9LvQM3D/+3O/8Ck3+6F/8pyD9RMQL6f/+wm8Fav318F//qoDe/mADByYD1OcFAGFAoIED9/7lGIjg30KGDR0+hBhR4kSKFS1exJhR40aOHT1SfKZK5EiSJU2eRKmq0IGOWx5I8PNQjQmaJlQsXFIzx0eePX3+BBpU6NCIx1IeRXryjQOO/og40KDpIZWaJnYerImE6FauXb1+BduQV1KySE8pMcExXw4HIHI95FF1yUIVNcGExZtX79693Mr+TUkg38Y4C+zlcxDGIT979+wRsbBQBpLG9vhexpxZs8aQgD2PXMkxjoJZiQy8bais0moTHhZqILJ61Wbatf9tXzb6+fNSjkseCItTIJzDXKsrSbCxcMGW1ahvP4ce/edY3YBdWRnBUYYHZVsQ6HP4yviCKAsJ0FktTPp69u0r+nWlKv58+fXp37efH78rwRs1bFlIjQckWiAOyahwL0EFFYSmOutC2+gBNRbKQYaI/Ekgpn80uGNBDz98LjcHy+JtowQqWYiEuSDKp4BZlJsNRBln5Iu6EcmyAoSN7iFAmYUcMBCiaAS4xrwiaUQyya7g06/J/Zx0sj+NFEhkoVZYgggUA8D7RwYDCnBADyXHJJMnaJ5EE8o0XYFQIwLU+yeOASFK5AB+XpPAgxyOLLNPPys6Zk01B72vxIzcAcD/oH+iSAuiMhhgaAELPBDCsj8vxbShXwjlVNAcN7KlAIZs4CEiInQ0zwMQohgsU1f/5MYVWWeltVZbb8VVVgJMsaVXX3+1xUeHDDBlIWEEiMiF5Bay5Rp97iAgxlenVZKaXK/F9tZLsMwoHwCOHESBiEwoNcBBEnEhAXioZRdJZLKFN1tDMTqWoTAig0gCABfaIpFBQGDgznYH/vCXeA/G9VONEkmAoR9cgAhDDRetxA8JNCA44wVjlQVhj2clwIEHRia55AfwbWiBQRYypeGHeHzxIRV+0Lhm9s78+ONCBBioZ58lcMifAeC8g6mH4BkaIgYmtLnp597N2eM3ePa5/+qbGroGAC6pyO4hZQZw5yF+DkDRabNpMzhqhK2guuqey2VoFW5zuMqhRBDo52gBojm778w4VvtgKTNScSEvMH7o0XGJ8LvxvawNHF5ZLjGgMscut5zLhhTQcAkSIHIpov8cJz0sqCOXlwHLV79cYIb6IQA1GepuKK6IFpi4dN2JSht1bK3wgHXW824oHAHW/ccDBB8iN2ICbNk9+qG4kaV6VzrG/nrts+d+e++7Hxyju3MRRoEO/yHhFYYe2JdfYaLxYgDnpKefJ2u7x/97/fPveFuOjNCAP+7BuX/wQwjnYIgDysAQfaAmEfKrXwQ/soz9VZB/FnTFvDDiAgtd4/8ALzqHEATmDwRUaSHuEJYahCNBFm7kFxeEIQazd52uaUQDRviHMAgwHGWs6B9Ig9M/rlEkfywBAa5rYRIpQr3qNdGJT4RiFKVYvfBhBAwMWMDy0Ke+f5xDA8hbiAsWsAAPlE2JZ5TI/WS4xgv6byP58AACDGADf/wjHz0yFgIU9Q97JMAACEgA09A4SIdQMIaHxKAGLxKOB/hxRcoggKISsYA65vEABlDAygi5yYW8kI2f7B4NOaKMBSTgAEyrhMv+UQbELUQTfwRTKzjJSSZO0Za3hGIVZ7nLrlADl7+8pSvcyJHDZOQeYOQlGpcBTGZKUZEYOYfmLAKPPSbzjMD/aGY2myjKjpwDiRTxxzlaZc0zpuN62tSmLsm5TvuhU5vDZGc8ecIMd2bzmfLEJ0awWU9mYief/9wI9WhRvYEWVBYGRehBFZpQhspCnQCF6EN8yU9gwjOiF30IPSn6y3ti9KL73Ogt/elRkjKEG7RAaUpVulKWttSlKH1oSf/py4bWdKE3talFZRpRjdrUpzgFKi06ulN8DiOoR/1pQ0dK1Ium46AvhWpUWRpTprKTGlLFqlR1WlV8MiOrX3VpHYzGVYAOA6xnVelSyZrPk6LVrVRdKy+v6tazbjWu5PQqXcEq1rvm06x6/aoVPtdXeToVsF+FK2EJOdfDapVbisVr/2OxylfIrvOvkoWqYCu7zrZiFqqJ3WwSqYELz77UrqEdZF5L21LKonaXxVitSzXr2l2mI6WkpQVudYvS3eaWt7/1bXBJC1ra1m+0wO1tcpG7XOGetrgtbAZzlStc6S63tc8dJGynu93qUpcWs8XuILmBC/KW17znRW961Ute4oZXd8f1LnfjK13nupd+0Z1vfuW72+vat4Xa7e5+uwte/7YwHetFcILV294C+220CoZwguvb4NI1I8IXTi8t+kth+hUDwx82L4E5TD/bgtjEDB5x06phYhBPOMV9szCLMbzhF5fOwzK+sIhrXLoD4/jCKN4xwaqhCx8rWBefeGyQSf/XDCIXOcE0VnLfjuFkBes4yn07sC60vGUud9nLXwazLoB85WkNmcoIdjGZCcbkM68Xymq22ZTbrF4rw9lmWQ5znvXs5THb+VJD3nOg9YxkP8NY0IcG85sLPbBjINrRXK7zogeG50c7us+SJhOgK41oQmPaZs/YtKMV7elXNTrUh440qV+VjlMj+tKqppGmWz3oJMOaWqCe9Z5Hbes/mTrXeU41r//E6l/r+dXC9lA2ip3nTiN7Wrhe9pd37ewx+TraXe5CDamdKVbzwtvfBne4xT1ucvPi2NtuTzbKvW52j7vZ6L4UNNo973bzYazw/hMy6L1vcgcb3zRKB78FHu7/c/8bOuoe+MDfbXAyyTvhAp82wz2k74fzO9sS71PAK87vgmOcNgjf+LwX7nEaOTzk9b43yWlE8ZOz++IqT5LGW87ujsP8Mtn4xczXPXKbewgaOdc5ue3dcxotI+jlfjnRQRTwnDedF06H+tOlHnWqT73mSscLzqe+9ap3netT5znW2/Pzr3vd7F/nxdDF7iGjn93tZZd60teeoHT8wu53x3ve9b53vtv96nPvitbfPniuhx3w0CE74RXvbbUfvj1th/viqy53x0un7n3HfOb3/vfKCwXnmgd95g3fedpQI/Sn33vaU0762ywD9a/HO+VZb5vLwx72nJ99T7hhe9iP/z73lzE971Hf+N/XhhnCR73si5+ZdADD+c+HfvSlP33qOx/3y+fI55EPet9jHy/B377mie99zBw//JpXPvn10vzqt9/907+++i/CDWD84v33b3/35d9L/Pd/+r8Yv/3LC2bwvwKEvi4YLAHcC/YzQAOMPwWUCPprwALUPwgUCmqYwAIMQAv0CgLMwP5DQA7MCwb8wPt7QBFsCAksQfcbhgpEwZ7AwBV8vw18waHwQBlsvxCsQa9Ih2HwwR8EwiAUwiEkQh88wRpUQRycvhastR28QCVsPxp0wp+4QSiMvmHQwSkkih4swi70wiE8whfkhi8kwy9khSbUQp+ghjJkQ/8ilMI0/IhmaMM5BMIshEOg4EI6pMMwREFuKAY9nEMXvMOLoIY/BEQ2fMNB3Ag5PEQ2tENF5Il0+MNJHAZKtMRKxMRL1MRMHAY+FEE/bMQyPENI/IlCDEUyTERSvAhGPEUvfERV5AhJ5MRNpMVZtMU/9EQOBEVDrMVevEVMHEVY/IhqwMRf9MVjTEVhnIhm4EVjdMZeLIZXVEaMkMRisMZrxMZs1MZt5MZiyEUL9MNuFMdx1MZgnMaNqAZyVEdyTMZzfIhnWMd45EZpdEeKSIdjkMd8xMYxC4ctoAI+YYh70IOB1ANh+QdliAIvQCb1C0d9zEdz1Ih7OJdv+od7+JX/PQoHPwCFStq/dHTIfGzHh3AHP9AEjmQIePgVzbkGPYgFCITHj5THMdC2jLiGPpCW4vkVjlSGOwii/auHYjiGoBTKoSTKojTKozwGILsGBLCBHDgAg1yIr5EBG5CBsmmFAvgBFVAAS5G/HoTJeIRIjIiGBAABCXCAcVqISiAAkpGKfzCFA1ABBkCVjsTHr1THkGyIWTgAE3AADzDJf1ADAyAZYekDuFSAZdm/Z6hLuxxHeqSIQYDLBbAQhzgCBCAZS/ECBFCBBCgPAfxJpATN0DRKIOMBiDmIyWQIZVAIhwCBFRmd/eMG0ZTN0CyGsLyIqfwHf5AAL3CISpiThrAA/wDJhxMRwGqYzeM8ykBYPYvwgPLgh0xyCDVIwIXwBwXogy4qAKgkP2hAzu4cyjGYy4wokB8ygJ78hyOgHTtykRwqAK5Uv3rwzvhMSrS8CAegg4VIBHFJDQOIgzsYDvNAjS1wjf2TRPlETtu0CARoy8PpTQYYBWGoJHsAgP9sSgHMBgNFTrxcCH3Ym4XgAdQMEA0ABYPUIYEBAS1SP+7E0NkEz434Gi4xAR9aiCNwAU3gm4UIF4ZggPORP/hc0dkEMgVdiFwYAIdQBgmQARAogJWR0P8sGgHshh+VTQSliH7o0H/wgwXozQTQAAVYAL6pl4WIgukkvwuV0tBUzo2IBv8AEBgBjU4F0IAEkIB1yc9RSU/vU9EzPcpoJFOL0ARV+lDKZAALOAAQuJMyQJkT9Uw9DU0CkIFHpcqphNRHvVMh/YdcIACJAANxuYcJXQg6WM7lK1BGNUpWIIAoQNVUVVVUFaQNBYAbzdGGGCEX0BEiZQgqCM8yJdWj5APOXNVfzZ2DBIBKYlBZXQh+0IDkiNWDQMwU3dWiRIYxII9fXVUzSktV+gEQLaCFuAcGKI9i/YcR6MwePQZkMNdzRdd0Vdd1ZVdkIAAvKIN4ldd5LYP7dAj7xFH9FBI2/Yfn4ZcBlb9uaNeBJdh1NdUfQNiEVViE5c1haUnARJmHqASFCIf/RFmIbLXQgtXYgg0EBFjYj/2BIAlIAECgfzCCq4EIAfmHWTAAhohRAYSGjZXZdT2GMVAAkF1YTWIIHaokF2CciDiCtOgDSFkICWhV8quHmVXadAUyIbia2TGWweBINXAZE8Chf7CAhu3Kcl1apaVSilgVuhCCDX2ILTAa3FmIBxBZ9cuGrlXaY0jTjWCAIJGABfoHaaKQz9EHA3iRfkAAUIBZt53Zmp1Ji+AHBBiF3KSS3KRIqxCiARgOexiAG+1RwVVaIAuHBFABGUCAGzWAlUECPTGBAtCQXJgjEliAaiK/e7Tcjf3aidASKhCCAygSb1EPIviBMMgB0g2QBAgD/xlQAIrEvrZtXY2NW42gAwTwAuA1CGGwWBsggt8lAC5CggUogxEAGgGkhuLVWJnkCCpQgDIwgQeoI9NYCBNAAjAwgQO4URmQEAtA2R5dBmSY3/ql3/u13/zF3/3V3/kdM3hQAzX4z3+ohLCBBz/YAjoAyGsIgzhQ3dXl3wjuXwmm4NediFjgASK40X7YgnXJhSWwgSjoyUTIgSgIGwud4BSmYBVGhuPViErIgSX4T3vYgjsBhSOwgX9siDvIgS14YO+jBhUW4hXe32gt3IvogxygAkVhYBwlgh4+4dxUgxwIA+LxyWXA4izW4i3m4i72Yiz+RghMByIe4jJGBguux/+HyAYzZmMJduE0roggJuM5ZmHvheOLqIcv1uM99uIwVsAx5uNA3mM0vuOF4AZBRmQvfuNCjoggTuRHzmI7ZuSJyGNItmQ/FsB0sGRIrgU0nGST2uRHXuRPbghHDmVBlmRSfoh6YIZWduVXhuVYluVZbmVMJtBloOVc1mVYXgZCLuRD3uVg1uVRVuV/oAZhRmZZXoYx6NNi/gdWTuZofmVb7kpcluZo7mRnfghgvuZkJmZVPuZuTmZm1maHgGZxRmZqVr90QGdkzuZyNql2FuZvJuVwlmddJmd4Xoh6aIZ73mV1Xl1/1uV31mdu6GeBnmV6/uRqYIaDRmhYzmd95uf/ZqDoirboi8bojNboZgBo72Pnh5ZlgoZngwbpWFboSWZohy5pZohoeJ7ojYbpmMbojsa+dJDpm45pZhDpcjZonPbpjD5pRq6GnyZqi27pcn7poiZqmhZVpS7qndbmnnZqnw7qQh7qqfbpo9bmeniGZ2gGrwbrrxbrsCbrsTbrsn4Gpi6+dOjqs3ZrtH5rt4ZqZ+6GuIbru7brZ6jqO84Gu/ZrvC5rrXbmeoCGrjbsw0bsxFbsxe5qtf49tgbsv5bsuS7muo7sy87rvYbjvsbsznZrwS5mwmbs0SZtxXbs3IPs0lbt0aZsVe6G1YbtxdbsNM6G2LbtwwZtVSbswr5t/9s+7dlLB97ubdhubVLuBuEe7tKGBkMIVVWu7eSG7dwm5XqghmeAhuvG7uzW7u3m7u7+bdYLbuhe7eL+5OMWb9We7Xp87vMebWiQ7k+mbuvu7vmmb++mT2cO7vrW7/0m70k+7v0G8Plmbn1eiGwI8APf7veOnnRghEVw8AeH8AefgAmn8Aq38AvH8AzX8A3n8A738A8HcQz/CepG8BK/7u9OEHuAhxVn8RZ38ReH8RiX8Rmn8Rq38RvH8Rxv8RGXbxMP8P7eHX+I8CGX8BA38iNH8iRXchD/if/28QAf8DPCByIn8iW38ivH8iwXcZ8w8CcPcAXfHQan8gjX8jI38/8z9/ARpwZqgIY1b3M2d/M4h/M5f/M6l/M3R3H3UHEd5/M+9/M/B3RA53EvB3Ag1x0hH3MIR/NFZ3Q0b3JCB/AoV6IpT/Qib/RLx/Qk/4kuh/T6BnPdEfNKX4RMJ/VST3OfoG46v/NVV/VWt3NqyPP22PNAp/Vat/Vbt/ERf/VdZ3Veb3VqMPTSQXRRN/ViN/YK/4ng7vVld/Vel/QkonRiP/ZpL/Wf4AZfx3Zmf3Vq+HQea3Bpp/Zwb/QRr4Y1N/dzR/d0V/d1X/NYZ49Zx/V4l/d573M1Z/d7x/d0r4XVVKJhr3RxB/hFT/Z8J3h8X+7mpp9o//eAZ3gtt/aCh/j/de920gn1hW/4i1/yn8CHN4/4jm/3+5YgeKf3kSf5kl9xe/f4ju8FT6Yff090jId5TfeJdEh5j3/2FlL4l4/5nWdyn+CGmu/4NDjiCKp4nef5o99wcgf6iHf39RB5k4f6qKd1lF/6fA920nH5MUf6rc/wga96gr95Fsp5ref6sqfwh//6fJ94xyl6sjf7std4jk97dm966Xh6qcf7vL9xqp97dV95NMp6Kn97s/f6vl/3sJegsRf8wed6tDd8dV/7xmn7xWd8pFf6cqcGzNf8Nd/8zOf8z/f80Mf8uo+Ou9f700f9HUd10Qf9znf91od9auiFlj2jwK/yyrf8mWf9/91/fd6PfcSPIMW/fdzn+Yfv/eOP/devBqFHo8kffuKPeY33/Good+rP/OrH/uvXfuvn/uynftKHDtNP/fHPezVHft9H/87fd8AXdQeH/uLX/fOX/+Rfc+CvH+Ef8vffeeOn//QHCGrUqgkkOLCgwDEk/jFs6PAhxIgSJ1KsaPEiRovpGC3q6PGjxwkiR5IsafIkypQqV7Js6fLlyYwV62UjWM0mzoE5b+rsyfMnTgL5ZBItavQoUoj24DFt6vQp1KhSp1KtavUq1qxanSZ1WG8nWJ9hgYrtdaAr2rRqjfoD6TYkzLhy59Kt+1JturF6xfIFasjB2sCCBzfE9/at3f/EihczjpmW216ykiNXSwOCMObMSDceBtn4M+jQLdXi03nzNOrUqlezFqr5NWyLS7fSrm37Nm7car+y7u27dy8DsYcTb9i280fRypeLxvv7OfRqf4tTh20YOVzm2rfTVdstOvjV1BRWL4+ZM/ZF3NezH522dM3w8m+6Nm9/7ezc+vfz7391d3zzhWfWfQWidVx67Sm4IEl4BShgdNMZOKFR1yXIIIbsefcghL9lk8YIFIooE3rYZXjidgB2GF59I7pIUX7+yTgjjbWpuCJ0BL64Y0QImogikM2llQ6HOLImIY9JMmThj0E6ydiGRj5nmZJVlojck1kqRlo12Xj5JZj/YYo5JpnZtFjljjHWuCabbTIFYJlxyhlmNTqiuaOPWGq551wOzvmnnEje6SKTevJ5qEsbArqomNWQN+iLV3aGKKUscckopmCeCSmFarr5Kaj6wZkppnZySmGek1a6qmNo0UQqpoKeamChqrJ6q0hqeQMrpiDOKmI/WJUzLLHFFmsMsskquyyzzTr7LLTRSjsttc6Sxiumm/5qn6ehevstVqNiO6ep29rXj0vpdSQJu+26+y688co7L7312nsvvvKKO26csppbnj/CGjvwsNUafDDCCStsbVq78junr//eF+xVBBO8MMYZa5zxtQ/Pqa3ExXULLsklc5VWPdt4HGe5/yEXh25L6i6SL80123wzzvqivHKclADmMsACW3zsxkUbfTSzuvJcZsRAU0exVUMbizTVVXP8npcqZ6M111l7vfXXXYM9NshOvzayyWl/u5vKYrsdNtxjd92y2a/BzJLMOeu9N997w/m23HED3rW/dWsWcMVSE2s1441Tq/Tggkse+IchGj4c1FUpvrjjnXuu7LVti7716NuUfjrpqZte9uWDoa027G6yTXnktEtOd+uD3b1S3n37/jvw8P49ee2R+5w7bIhHvXk5nzvfOeTES2975cjbLbTiz2tvdeiqo2669+GDP/42rFuf1uuxq0+jWuxwI/738cOP+/lp7a5S7//B679/zrOTDz8A/ze+bBSufmlRnuaYt70FHk1X8hPgA0tXPQPqDntSYyAGNXYtbpiugx78IAhDKMLyDaUoUUhAAowAEVOAIAEKsME9GLKEB9DwAU5L3/pyyJ/dcHCEPvzhB+lXkSgw4AF0gIgmVLCAB1ChIT/QABRdALT7pSR//LsiFuvFNiBy0YfcOF5R+MGDBUigEhDxAwnIqIaGuACKGuAB0BBIFeY1L4N2TJhawNHDLvLRgxMkyj1ksAANzAIiavDAIP3QEBC4sYkuy9wcFXjHSVaLNNvgBiYzqclNcrKTnuSG+SQyiAQo4xoKOKJD6BCHayhDAjJgiAxyYAv/W+Tihjq85Zra98ld8rKTQpyIGhYgDE0YIBYPoYIahqkAR2qACJWoxCqmmC51ZbGa1nwXD3upTV6CkShGkIAy+lCAazzkB3RQxiAMoAeGLGALz6yly+Q4FTpSsp7SUss4tqlPTzZNJi4gQTTCcIASNsQGflBGHAgQzX8QgA7PFMYULTg0e1KUYWjBxyX3qdFMhjIiIIgCQ8BggYnQgQGwdKTZcIjLlW5lN93Y6EZ/KZEHrPEfOXilRKJwmX9o4A51oyJKrHjNofIvmzDdZzcz4g8EaIIhJEDCRGxgA3Yu1GnylAo9K6rVZOHzqBrtJ0buMQBlMISmE/EASBlKTrNB/3KektyqVknjVY12FCIKGARDTIGAichAiv+QgQIWAAJT2JKlhhVVWtoxV33KNCIEgOg/6GBDiZAAjjx9gARsEA1pxoyaRP3s/oy6WG7+TCbuAEAM/xEFE0jEHw/wAjslYAEenCOOErUYXLfa1dH2EqwXmYVwGGIDy0JEHwnAK0OhaITUhqytWH1rbu0pV268tLrUva51s4vd7Wr3pQT4hj3scQ/xkne892BuQwxA2H8IQwAS8cMB1lqJVyiDCo8FmkoPq1+p7MYb3P1vdwEM4MY+JB8AWOsgFCARNSTAHgyJQyVAIQMEwOOR00wPaDMMPJcKOMAe7nBSMdLehoRhpP8RQQID+MGQMmhCE2lUcciuGpWsRle6acnnh3Pc4e2mYSFESUQCnOhXiMhAAw3ZgikSYQETN/e2F6uxjS/ajSlTucpWvjKWszxlAhigy17+cpcV4I+HKCARDFnFXiGSCAQUEiIkUKHL8rvfOTdFLe146Y51nONu9AIAfv4zoP88WYcMALJ3KK1D/IAAyD6EATWVGFBPIlQNU/pmHNZznkEc6E372ccNCQcASkgFTzvECwpYq0P4gQAzxtjJA4NylLuC40xjOsBp4PSmc/CQVZxFuLqGyA8egF6G2EMAZG1y4jYH63qSRsvOfnaW6/oQDziyDBKAyCgQAAqJuOAH+KX/M7j/8x7qQrvczibwQxagyH8ggbUPGQQC4AkRDWzBwp3FcKXzbWmUmbvfWQ7xRfxBAHjKgLgNKUMCUE3mdUtMxlCh8bLtiE9/U7zKPS5KOARQW57W+yFGcECFIeKPAcj7X86dMXQjjsFmV7zl0nbIHRQQDng4WrgQHUUB1BCNaKxVD/foxyAIsO04h7voU+lvyyneizQTZQka4Ac87voPMYbjH4kwQCLEG8N8LNQPhbY33jyr77HjC+lJ7zfALyIDFfgjGgao5Tl4oGI1sFnr/zgHZMNQgKq3OtnZU7nEb3x2f1+8KBrw9iwIUHVlEEGGClCGeIey83/4gwgJgDGk/109NcBnkOWDN/fLHfKDAxggB2P+xwO2vQQFsF4BP9NAAQbAgDgU1ui2r/O4vfH5Z3tj6UbRBwm6zIMx5+MAZHXBl0dqDwUQoAAK8CnYeSd2slN/Xu3bfbnTbhF3WID0jlTGQHn6ZRX8QxkJIAABGMDqvi9P2ZxfeVrIgX1oF54o0XAAAg5A+39UQsH/WMCXeZsmIEABEIAEtBmy8cc8LCADNmADogMERqAETiAFVqAFXiAGZqAGbqAFet78aVnoURBGyNntrZSd6d4HYlnvMV1R6APmXQQ/6ANbuQS+yIwN3iAO5qAOyozZpeCVad9F5MPpYYQLmo3D1YYDJiEDcv8gEzahEz4hFKqF/PkgltVfUdzDEAZhP7CVfyihEkIhGIahGDohaXiDGZ4hGqahGq4hG5phCIqgbJRgCTZbG9ahHaqh78HhWkSaSdTgDv4hIAaiIHZE+9yhId4hEOphURwhbXhhEo4hJEaiJKKDWpTDIV4iG1qhIibFydmGIzrgJIaiKDJhGWKiKaLhG25iRJCgHOoQHZ4iJoJDHqoiJ9LgvQwiLuaiLr5FIcKiKSYiLQZcF37iEo6iMR7jBFaiL5qiJgYjUXQiEhLjAiIjNR5jKS7jJaaiMxJbK9reK2KjHcoiC26jTPBhSfjhLqajOv5hL4JjOAIjObbWMEpjNdb/YygqozveYTPGo0VAYyNK4zzYo0BCImmAg0EeJEImpEIuJEMapDZuIyt2o/qUYUNWpEUm5DgEQ6/xY0aYI0mg4zqGpEhiR/tcpEleJDxypEMw4lYAZEAOJExGYVqUw0nWJEPuo0pKhD+2JEDGpE82YUHapFAi5EM6Y0RKJOxQ5FDa5ArmJEZ45EiA5EhOJVUuQvuMw1IKZSYgmlNOBEtqhUv+pFhqoFqYQ1YKJU52pUPsJFj25Fi+ZQWSBlaeZU0WZTAeJVKmjVLSpUVm5EaqpU7aor1UJWFO5VXypUmmpFN+ZVaEJVw+ZgSWJWKaZFoC5j+wZWO6JWQ+plxO5kXa/yUt4mVelkxQemZDzqJlQgRUioRUFqZr5uJhmuZCjsNWpqY89odjbiZcqoU6zKVsKmRlAiZmYkVu6uZYyuU4JKdyLidzNqdzPuc4gKYqiuZogktBQid2ZidzkoNG2mZErOYEtOZrjicg2pl2nqd2KmZOMiZxaqZxiiVvoqd8PmdwquVwXkVxvqdPkgY5zKd/Lqd0biJ1Vqe3IOd/+mc1BJd3rqVg1gt5PqggXueByic51OaCruQ8EqN+HmdasMOEzic5wIHlXChD3KdV5OeGDiR/fuh8BqgiDiiBgoqBsqh2dieJlmiD0guE7ugOmieNnqd6qiR74qd7pqiKduiPnv9nfXaliVYFihppPfInOUwplVaplV4plmYpObioHsJojMrOe4yDlo4pmVrpOKDmhYKnePIom3aGXJYpnJKphd7okJ5okUJplHZonO5plorojZZohn4insIkaZgDHR2qxXApHHrpl7IJaSAqpBKLOQTDOC6omt5im2YqSaZFPESqp84pidapk97poCJj+3hqpMIBqaVpoDpiqQqkWugDOaAqpCqqCDJqo9bIo9LqodrojV7qYGqqsPLie8wqrzIPqF6oqFLFk77qKJ7qsTKPqv7pZa7UO1wrtmartm4rt3art34ruIYrtxZqtDKPrVIQrubqjOxquUpNNigoiQKrgw7/K716BH+2q9Qk64Iu66eIq7/+K8AG7LdCK75azLT+aZOCisAuLMM27LimhT6UgzlMLMVWrMVeLMZmrDmcqwGlq7r6R6FqrMiO7MX6arzm6LzUq8o+Ksm2rMiWg756J7+6icPWrM0CrJ25rM5m7MH+qrXeLNAG7baShjrsrNFWLMfWj8d+7A69x9E+LaVSq7zqqMrSK8s+7c7GrG3ObJsIrdcKrZ0VLdbqbM/G689+Ldo6bKxK7NjqbNKez9IyLWJdVNvq7DbAa5qirLxUrdW+B9vW7chqbWpyLZukreEybNgCLsmWLavi0uE+Ls6+BzuoA+VWruVeLuZmruaqw9ta/0/cyq1uvMfmji7pYu6k/mXetsSa8i2EFmrpvi7pCq5lEu6aQK7thmvYwq7uZi7jWurZ3i7wamusmsPuFq/ldi7yfC7o2gZpTK7xFm/UIqzexgvrCqvrPu/uyi5g0m6NBK/3ZqtaxAP2Fm/vemfC9uv3fm/zju/uIm/uKO/y0sb6su/rRu+vTi+8VK+mXi/9xi5X7uvvpu/thm//vm752ub50qwAB2+sqgM7PDAER7AETzAFVzA7uG/rwG/8akXzWrAHf/AE2+/Jqi6m6i+bdjAIp7AHa69aci+NLDADc6oKz3AFH3BqJnDXwvAAQywN97AEY/DlaPAGh8t7tIMP+/8w+Ekt/r6LCbcpCh/xDLNwV7rwjOjwDqNFPEBxD9uwZeJw4Vox5MYqO7QDGZexGZ8xGqexGrcDEBuOEA+xVZCGEWuxCotw6rLE6jZxYT4xHX+wFC9mAIMx2oZvH6swFwtnIAuy14rxGjeyI6dxG9fNG8MxVahFPozxI2dyIyex9JJwsOpx6xaxJo9yGv/xeiayIgdt+JIyK5vxIdsnKqfyzTJyK7dyJKcUJevle8RDLZMyO3Dy/XryvILyg8pxL5OyKQtpLMtyzRrzMWvyKzPpMjNzw8bqM5PyLddeLltnWuTDNWsyMI8wHpcwMY8nafDyNzdyPCQzR1KxjFDz16r/hT20AzqncxrHAxusqu86LjyDLcTa8yNn87dtM8mcM0CvcTjf8UrkcTmPpEEfNBqv8//K7DT3c8A6M0SfcT5LLUGT5j/HA0iHtEiPNEmXtEnHg0ATXUevTTfT80m/NEyLdDsktKUusbs0NHmec0zvNExrwkRv7UpzM1rYAy/ztFGT9EYjbFCzNFrow1E/9UindMhM8lKHHFp4M1Q/9Uyjbk0LM9XitGuShjxk9VOzMz+6c1VXhViT9VEntc+m9afEKls/tVRLDFUvtSW79FzHNE2br023C1i/plrcw17ztE9TK1rDNX+hT2HvtFubrWK3iVw3dkzX9b/cdVBbMmXD/3RfI/Bfs0tgh/V7zMNmn/Rh/2liR/ZTyHNpn3QcjChkq7auQqw81LZt3zZu57Zu73ZtW7a5YPZKazZvDzdx43Y8dPYNf7YkhPYepwVhFzd0E/dp06ls5xJjz0N0Z3duvzZHVzf70LZ2h/dt+/a2AHdHC7d4hzdyd7FyMzdhDnY8pHd4T3eoevd3D3U8YLd8Rzd3K7V9y0is7nd4k/evmDdBo7eAF/d6C2d7uzdVwneCQzd9K+t/A/h1Rzhx9/dbV3jTNrVLfrgjEvisGPg2W7I8gDiKM2A0cLVfe3XKOrhhOveJpziIy8OEAzCHd3hX2MOM07hLyoOGx3aO50as+v94iqdiPvTBHQzbog753HZFPhg5iC/4RMADHfiBDG7i1L44jIvkYEv5h984RlxDHCRCFsJhanv3YPc4mH9ikMtENKjB0Gm5kz95UuhDm7vkG7qDAoAACSTcdNZ56F51nksjlUeEMiCACmgAAzC5AW353na5lzt3oROjmFvEKhiACzyABpw5BaV5dctzpbs5bGcEfMkAA5AfnQv6bRT5qIc4QWUEEuyUCxhck7O6jXTzq3vhoRPZVP2DBXScHkI69Up6SH75rifhpVeEBjQRP6jbJoK6bCN7sjfgm2PEAvjUPbzdquO6/EIsPYS7uI87uZe7uZ97uL/hA+zfICxAoHv/e0t1M7rPO72be68/hLYxhBcYmSISe/4a+zoOdr0PfL0v+0Tow4ExBA/glB5Ku2p/OcFHfLnPQxzos0UowwDAmAksQbfDe1bEqsSHPLm/IVMxRC4QwLt7PBFftci3/L03BD8AwGb9gx+4e783OMCno8C3fMgbvEREAwDA2BZ4QLSrPAdTOs9LfMUXhSYEmcIzPBx6cZ3HKqgQAA/8ANZnvdb/QFo5RL7/Qy4MQMobvVp386coAwFsvdr/ABg8BMLPfLtrOc7nvC4O9qcM4NpvPSo1hDIAwOnte9GTvbgN9afEgQLkvdYjV0NUgtP/ww9AvQhKvZPHqjtUvuVfPuZn/77mb37lE8ASRAHoh77oR4GwNwQDrBP/NX6XCn4cdzPnvz7saz7ajz7tR8GjpdcrMIQaMFnUzz3d4+Jgx77wx37T1/7o98FD3AMA8J0RqHrDs37rD/U7DD/1a34cLIDxi/76MYQwEMDpuUDj9Tv0lz1a7MM6nD/6p7/6rz/7t//5v+FNKfyQrf74L/ZVuz/+5z/7v3xDjABALPn3z4SRgQcRJlS4kGFDhw8hRhzYb0JFixcvStK4kSPHRR9BhhQ5kmRJkydRplS5sqREiPfWxZQ5k2ZNmzfXaXLgEqGDOAMlqOE5lGhRowP9wVO6lGlTp0+hRpU6lWpVq1exNj2a0P8eTq9fbcYZQbQfAlD//CWotJVtW7b9ssaVO5duXbvw3P7bB5YvXwL5iEYz8OOIAWF5ESeGaO9uY8ePIUvNm69v5ZvKDhRdVSBKDgThFIcWPRFjaYsdUW9kuZp1a9evW7qFaZm2TJ1F+yCg4mIB4NG/8yaNPJx48bh576GrXVts0S0KtoCQ4A949bfGsWfXvjTvPnTfwYcXP558+e9/i0ZDYkSZdfdHGW+XP78xcvP38ZPHbDSXkSXX3guQJ4pMKy211GBLUMEFFbQvvwfxq2SnokwRggq8BMzwIeHo69BDrPKyB8IRy1ODBKMG+cEL3zRsUSG4PoxRRqgmI9FG8dD/c1FHxOKb0UcZHbzRxv12LPKtAg08sCMGmWzSSZKQC0dIGyU00kqjOPxRyw7zgmdKG028UswBtyyTvhq/JDHHMdl0qEcz4SwuyDTzI7LNO19EEiMll3zSzz8TjJLOB6vE09CDsoxTUci6HPTBMA89FMZFKXVsMnHCwVTTTDnd1NNOQf0U0zUjvfPNSlGVCzlRQ22V1VftLLVNAvWsiE+PAM1VV5VWfdXVX30tVNY2E03V2KvyekccdMTx1VlgM0UH0mHZnPTYa6u6tNltue3W22/BbZZUaq88Fdtzneo13HXZ7TZWcq2ktdZbVdvV3ntDQu6bdvllV1h4rSwW3YGV/0q234PBnRZgI60l2GFtEY5423EX1tFch89VV2KE363YRXn1pFcjfEm2t8uNJf7XYxcFxhhbg1FGWOGVW2zY5YzdyuebnXnu2eefgQ56Z4ppFvDim41dVeilmf5ZmMyK/rjW00Qu2WpA9W1aa6ZVjjrAlpFONa91mt3abJ/Fmdnr92wOO+mctfkm7rnlrpvuu+3OG++4iV67uqPdphS5vfUunPDDn/Y7Q5CRFFmSqyF3MlnDKT+8cm0SmVDx98AOfNG80KlcdMvxVnvz39r2XHC4tWnd9ddhj1322bXp+/TQAFcdzsFp79332ImB+vbqGC/Q8ciRXzDZ35n/PfPhrf/rXHczQW/e+tlNhz6x1KffnfXrwXfddu3dyr17LXkPH/zEyR+teNOOT15+15ZXH/zn2xdN+vN/rN7+67OXv+vwb3Vtucf/wDc+ARrFfAQEkmywgcDm+UJ4C8zL+5JEr/ltcDVjk2Dz8GfB4Djwc24RxweZp4axiPCCJFQUcrARQxnOkIY1tOENY6hAFrqkgS7kkmysgUMhDrGGuajgDo+CwT1VjYNNRMnYiBhFIoYQiUfZnw9/2BZxSJGLNyzDiaq4Fe5h8UMw7OIZZ6jDMLqJjFtCThDReEYKrjGJU7MVE52Yx5FAMY5npCIdeXLFNm4nL1vsYxdVCMiijHGQ83n/ozUgGUlJTpKSlbSkNdSoSK400kfJiuElQRnKSRpRk0NRYkbwqEdVLgJ0nxTlKy/5x1JuiJOdNCEscWnJL87SJYysZXaQM41pWGOYxSTmMY2ZTGQuU5nTyCQve/hL4iSrmcy0ZjWxuYsj8rIhp6SaBle5StAJ85rlxOY1pzEIzXHTIYKU5nDyog1zzvOcyZzGLtn5EF++c5qyIWc96UnPZ84ymvx8zNiEKQ2FLpShDXXoQx9Kynw6xJt3BGc49VjIaUCUox2FaDrXOVGFuNOglnKLNjbqUZV69J5gFOlC9lnSg/pzpTXt6EBLWVCZ2gWhKbXpT6UxjV0Y4KUMqegE/+KH0TxqFKhNBWlRF0LSndYlnj5tak1bCtUXTZWQsnHGVZuKU03qlKuqcss6rApWjzrDFtuE6lGTqtQmMlWtK32qVhEi1bIe56R1rakzyrBCvE5kr9hBjjMQm1jFLpaxjXUsYsWqSLIWFllnfexlMdvYW7i1qHBNpVw3WMjMjjazeHjAYBFFWTm5BRukda1jweDSwcZUtVk57Gtxq9jIAnKytZ3K2HIb3Flw9qWevShoQ2vC4OJWGupELVJ8G5m8tHa5r8Unamkb3WzJJhnOSEZ3wetd8YaXvOM1b3mTUQAWDba32n0K6NB7XvnGl76wIK5IjXsr5M7VhOCl73wBHP9f0z4XLe41aVuw8V8FB/i8VzABgbNr4Kgk67sVtvCFMZxhDVd4t3Rsr4S54xZ0bJjEJc5wK+470fzyab8cjKeJYVxiZ/ghpFrVK4i14hZrxJjHGXZGGGSL1wjjOMcGNEaPkWzhDq/xwzguZJKhbF8I2xGpn21x5F4MZSQP+Lk3JnLBdKxlJMcWwl+ey9jEjOQlh7HJIH5ymmOM4inbMa5XxvJJ4RxjGhPYy1/OyzTyDGMHl9nMfG3LOoyRaEUvmtGNdvSjE73mKrZZwoWE9KUx7WhUpDifK1aSneU33UyPOtNcRm2fifxnUq/60WR+7pALjWZWz3rRkkYipQ1cSGL/7JrXvfb1r4EdbGKEgtPs9PSBQJ286Qqb2c0GNh5qDFVUO9kt03D2tZ19hSBrFdZmHpsxsB3uYNt6h7h2r67FnW5eE3vOU6tzsku2bHWrG9p8LrSh2WLteadb24S+d2UPTQxfCJzgAzd4wRF+cIUnXODkZqG5tVvIhU+c4RSn+LCLzc1jIwjekFu2xSsecpDXu8v/BpFbnCFylYN84V7Y9ltNDnC2rMMXNbf5zXGec53vvOYOFyHEoxtPng+d6Dpn96up/O6O3ysv1ij604tO8lPH3Cp5cQbUsb7zfr+a6ts9dNbBjnOfWxDovhV62MN+dOwm3cpLN5mO0R52qQ92/9puRnncwb517HadKqDzxS7+vgvBD57whTf84Q0/9gWWvbZCBzziIR/5w6t9tmw/rtuZXu3AS57zkffF3PFa90q7JRmb7/zpC+8Lvc+W778VMephf3jFC5Dxqo1n7HEveMoL2fL6xTzJ/px73IPexq2XDOmFH/vVC9n4Ezah6ZPP+dnnr/aUne4uboF97Wef+9v3fvfB//1d7J7bvWfx7/H15/CvX/zsdz/xpd18GpHe/e23f/1vcQXBsl7+6TKh4PHv/gSw+6avfaqvsK4vABVQAEOBqJCOztoO/f5E/QawAvEP/opK9HKN/iywA9dP//yt/0JMi26hBE3wBFEwBf9VcAVLsADJ5wD3arpYcAZpUAUbsN3mJQIl8EmsrgZ9sAYx8KU08Nzcwhh+8AhXEAS5TgSZopCQ8AlR0AW1BwbLSgahEAojIeN4aeNQYwffri2c4QqhEA8YwN6YcATZwgjFEAmVcO/OEMxIcA2RUAqhhwq5ygrl0Adv8AHdTQe9kEl6MA99cA1Oq+TeEEPaQg0FkQbbkP/e0Alh4RZgIRIpURItsRIx8RI1MRN97hpUwAFcADTyags84AFU4DD+4RpMYBVNIBHgxQ6nSgYncRNpMRNtsRazUDFmQQISQAXcISHugQccQAFIABVtQQOQUQNMgVy4sE/+EGtQ7halsRb/qTESb4EMFSMRHkABZEAfEuIabIABFEAFAOQfEiEZNaA9qGUII84tiGEa4bEaN7ER3SIOxPEHqAMhlIE3FsAGMEQN0PEemPEQEZEtxGESETIhFXIhGbIhEdLnHiAHlEEGLCAh8sEE/EAYfuAA8EIZCkAPQFIdqQUWd+rPHPIkUZIhI8EB80IfECAMzsEFHgwhooEHZuEaeCAB+OEfKmEBbOEnBZJamhFXnnECSS8lkTIl1yDajiIcCsAPwkEDeCAhVgEJcsETJ0QNLOAnbcEb15Eg88IXknIsG/IKQCAxcsEAQOEaHGALEmIQtkAYlEEDwMgIVGAWfjIfh6Xb/MyE/8jyLxXS4WLBAHZSHwgAFRciAVxRGRDAY0hSpkwSMAFzD/OCDsrwH8JBAM6BIfhBAA6jEgoRYIayXorST/IiGSQTMJcyMaLgLP9hFgiTIaIBAAAjgCKFHYPOLcQyNcmSCV7uKGzABgaiDxagITQBaowgByqGL1PNhFKBN8nS4bTyIB6ADhjiGgYgGv5BGQYABExADfRyWB6zpCITOlMSFQ5BCyOCCFzgIBLgLBYCFArAGyvBACRAA8CTGc3v00rTNI/SPJGSEBPDBQwCLQCgHBUiDhRgINQAAR4ABPoAXnDT7HQTQJHSLBPDAoTiH6JBAMITIZagIv/BCBTgAUhAE//ghTmpTYtSoUVd9EVhNEZldEZbVKxMARRwNEcBpDUPwgOoAKY0QDkxcwsqQQ0U4Ade8RD/jEaZtEljFD3VcyD4wQ+otEr9AEBsQEj/YQH8YCHgQQHKYCCU4Q5y4Q4SIAr0EwIvrz8Z5DSd9E2bFBZWcyjuwUqr1B7+wUcPogBmYSGi4QAGYSBmwQ9yQQ0MwDq/Ukl1E04ZVUZRwTeJIhzslEp3kgHuYCDsAQA2UyEGMxcGQhMSwRa2YABGYSAVlUUbNVVflAAMoFVd9VVbdUETAgTQERmtEww04CCCYqRMAAT6QSE0oQCS9BGrLRVQ4ViRNVmVdVmZtVkPAQCgNVr/pTVaQ3MgLpIVWXEV/kEIZMA9UZQrHEAIFoIOilMo9xPZ2FRyitBYm7Vd3bVZ12Ba5RVag0wVsXUV20MFjgApBEA7v1EBwmAhoiBXE5VY22IX2PVdFfZdmUAA5nVatVRQ73UV8XRXUxEAdjIhhAEBAlUhbKBbhRIsT6pFF7Zk25UAruEe7EFlWXZlV3a9HmIQZPUfEOBbEUUFPCBjE0IZBEBnZWU8DWpJTXZolTU9E0MNCtEeBgBBB+IeHmAqF2IQEiBN+3BN0zVQ1pVotRYV5jQvjGAmhYEAvPIgrmEB3HIhwkACyGVCG88tEHZriRZSEcMFoDYRplZjE0APGEII/1TAVA2WLbQhFUiBFFCBcA23cBH3cBU3cRl3cR2OHxCgS82UOkZhQ2VAA8b2H4RBIPVBBUR0JE813wa3cUl3cU23dNGTJWWjANaCCESUDn4iHyRABVyWOkxhM69BAkB2L8+V4662TYvwdIUXdYeXFLrWLTxSGPzBBdrzH8IgUMNhAYSgdv9BEwRSGRZAIAr2DPNiF0a3eIk3fAlXbvNCExDgGvpBAwp0CbSVMcPAZQciEbwxFhDgJ0I2dLdCGwZ3f/m3f/33fwF4f30uERBAARLgW6nAAzATVq3TCwggAQhAA/wVdP92K6YhgDE4g//3EFTXLfwgAQrgAfxVCJQzF/8U4IRPWFuXwABYVQaCknfV1Pd+V3mCV4NtOIOP1y3K4AAKQAM21QV+VGZRWAGwlAAIAAF+4Fe3lwnz4hZu+IkBmHzzYoULwAR8QwOsswyGWAF2cgQG4IHR1G+596SguIz7d+z8IRyUOCL4IRx8loLHuC0u2IzNmINF440hAo9lZTRHZoZpOBHp2IxzOC/02CEK+TZFti2cOJChWIoRY40l4pAlJZHZAhs64ZIxOZM1eZM5uZMvmQ6HB2j5yeo8uZRNmZPxoDH5MAet1o9ZIy+I4ZRl+ZTX4DKnDn+P4hZmeZc72ZG5jZK3wpJ5eZgzGZRvR5Tfyeo2gZiJWRCiVJP/+PhxXBlr28IXmHmYN2GQ4w+XjeIWlvmad9mXYY6bi0KYwXmXjfl0kFmalHkT3Pmd4Tme5Xme6VkQOrj8Yvj8pvk1wpKe/fmf/7mWzbCCcxmgDfqgN0GcOwuYjwIbEPqh/TmdN2edf6mdIfqi3fkPnlmRonmfYaOfMRqjBdoQCbqbQxqjFbq4GNoosCESNsGlYfqlZTqmaXqmbbqmXVqiFYeia+k0XxqnbzqogRqnUxkHQ8YPPfokwnKohbqpmToSRvqWS7ooYOGnnfqqn/qlUxq/Vrqcs/qrsXoTdNpveJqTTjMS0Dqt1Xqt2bqt3XoTNNqoGwepkzo2Dtat8Tqv//P6Cqo19LqaKGBBrwV7sCOBCfaP+ciZKFqasBnbrcd6bcq6kc66sSk7reN6lY+6letaqd22sis7m22Z7v56KALbsynbsEOQiVnLtCv7sb0msgdpslmbsPFgowGpoze7gzp7tgmbrwc6jtmitHlbsFF7CaeaKKZBEZR7uZm7uZ37uaFbuV07amC7jfLCGKI7u7X7uffAtukIt3N7Jbp3u8lbu6E6tP06sYciFcq7vaGbCVzTDY97KJLbve2buae7aKqbjK77vv27tuXaeOg6vEFivP3bvQ/Bt0kauLeCvQ/cveE7tUXwzx7cvvObZvYbi/q7wsu7uwMcfgacwFnJLf9ugcPLO6pFW715wsFNPLsPIcKNm8GPYhoOocZt/MZxPMd1fMdr/MJXJsN96Lp5fMiJXMcBHLPnWrNFPF9IvMidnMgJQcGlWsaNghSe/Mp3HAh+U6VV3CVoHMvB/MZ93DG7XCKIgRDQPM3VfM3ZvM3dnBDswLvXCLyX3CSa+M3xPM/bXMpTfL55ghT0PNDz/BCAYCblm8qLYhoEfdHffMwrBshdCJYZfdLVPM4/PINkuM7tmi1ugdI9/QuYUghH+889fdIJ3dAdEdGRmxAEodQZ3dEXBtJJSNJb3dUD/cjXLp/5U9M3fStuodZtXc+vINRFim1tzy0APdgDXcslvP///ozVlV3PYR1gZN2BwlIQsD3btX3bub3bvV0Q5EDOw4jOeV0k8gIWvj3d1b3b+Ty9/dwlOmHd5X3dmT3GVRsM5z3fv33ah1XVh8IX9D3gtd0O7vmtercLyx1K3ALdBV7gh/23750t4r3hA77eDz3it8IZBOEPNr7jOf7jPT7kQX7kRX7j+Z1cqp2Arp3kWb7kW77l10CVc71qMz3hC3zhXT7nX17nBUEK+rr4yjwiOmHniZ7nQV4QLD7VMf4onOEPnP7poT7qpX7qqd7pTx6Ol94ofKHqub7rpR7cxb2KyN3mR7wtYMHr0b7rBeHhFzzriwKu0z7upz7pEfvdJaLp/+U+76H+6sUz6CFi6/Ve79cg7JFo7G3+3ANf76WA2CfK2K3PLeA+8eOe7gms8nUE7yU/7vne8l8K8DMf7d2A8Dl/9Kn689Oe7Uk/9d8j8k2f6ylf9WE/NJxhD/bgD2r/9m0/93F/93W/93l/DzY/9ktpF37f942/+JF/8IV/+UMjFZD/+KH/+fdg8Zm/+vMiEqQ/+rV/91/f+r3fJZJh+8U/+4EfZr///CGC+Gl//dm//d3//eF/D0If/elfIpw//vE//90f9eu//wHin8CB/yLtOYgwocKFDBvuATKCoMSJFCtavIgxo8aNHDt6/AgypMiRJDkmc4gyZUMC+Uq6fP8JM6bMmTRr1tylMqfKNQds+vwJNKjQoTZT6TzasMkDokybOn0KdaZBpFQRQoyKNavWrVBPVv3KkqvYsWTLgsT5lSqanmbbun1L1mhapErh2r2Ld+jUuTqv5v0LOPBIr3x1hhWMOLFiibf22LHjODLkyZIrU75smefizZwBk3KMObTl0aL31O2MOrVZRaRbi34N2q/q2bSjJpsMO7dryYdr+/4NtPHj3bpzrwWOPPnMz8OLEx9teqny6dRDsnaO3bId2dW7e7d4+7H48eTLmz//uPf39etvoX8P37xm9vS/k4qPH370+vyrK8oP4Hnc9Uegb8YEiCB56hXIYGruJYj/oBxmsNVghajdByGCTThgYYecHZJhgHIAAYKHJiZ2YIgBLnhii3DdIkeMMs5IY4023ijHGga4yONdneAIZJA2bthjkW4dImSSQpJoZJNkGaNklDiy6GSVTsEoZZYykkGhlV469aOWWhL5ZZlMISlmlkyayWZQUKaZJZVtzvkSlnAqScaOdO4pU5h3Jkkmn4KWRMifSbpBgwmDLjrSm4YKKSejkloEixxuWIrppZpmyummnnbqRp6TjrrRJp+e2mmqqGoaKKmuUkTIqqrOKuuIJb6Kq0TGuCFrr7R2Gmmuklbqa7G0hqqnsLma+quxvbaqrKuxNkutrG3QQEK0uRLD/2u33n4LbrjidhustnzCMm666ob7RZfmTmrquvKqC+27jAoyb77irmnvpNzqC7C35X4UTiXhUBRONApfQ1A0mtzTL3CwtEFxxRZfjHHGGrfR7kyJlCEMRa9UQvIsA/HjhxoMR+zbJhu/DHPG9ZLUT8rRUAQKyZWELFA+dKhxDsu+CRJz0TFjK5M+d6hxsET+6FyJMgPBE0ccEAtNGzFGb73xwB2VcYAHB8QxEQgIKKCABAP9kIAGCGiC9WwTo9EG3XbXjffdeufN995fJPuSCwzYgADZEjnggAYa5CCQPxJIYIMBoMStWiR9X7535pjjPbNI/mgA+QGVTHSABIovIf/QPQuA4MIBUlOOmiCaz7457WggDVM+DHgggwE8D3QPAIprUIZA1yCgggkJBA17Z77UDr3tfXu90T0FvPIPKAfoIxEIakikTAEMl8Fh85zNHX36tP8dkzAF2PNPIgn4czjcBPWxQD//bGGB+ZxZLr0AQq9zIRmEAvjxjzKoTSIHuBlBtqAB+vHABf7bjOzUh8G9XStbMAmDBOhHBEURJHj6I0gOKPgPExihgovxBRpeCMMYynCGNKzhC6mnET8sYCAKGET3tiAMBAokCrfKxwAcyELBpMKGTGwiDaWAgJhQ4Vb+KEAuDkeFQazsHzLggfEA0JIkCiYSTiyjEwkIEhv/MO4f8AAAPBgYh0E07R8a8IJATOEuMeblD2bsYw1x9xIQUEEguSCARII3iEq8USAL8INA6FA+PQLGhX6sZAxxmJEteGAgFigeQUCggAUQIAoCUeNAEmA/SeZliZb0oxnQ0DGY5MAGPPQhQSzgARAQYIX/8MAg/+EPALxOlXghYytd2QQGxIQEpBTIAH7HSBBooABhYKQj/3ENAAiRmHfh4zH9CEiXOMBw5wDA1VKnABBYwADXJIDJshdFbuKFkt/sIwG8UIZ86nOfZTAcQUwwAhAIVKCOJOJANLAFicDvH7kowOS6WEt53oWV9SyjFAjwg4xqdKMZTegIFwDSkC4g/xH/mOVAGuk0gQiDAFdEaOMEMEyJusWYFW2iGZpwAI7q9AffI4gyRBrSK4Kgmf8YwBUJQr9/aGIAQUMpNgHAPZm+xZs1bSINFrBTjtpyIJoAKkiD5gA6CKScC52IGg5APwLY4o7xlKpbfGGGuMp1rnStq13vGlcCyGCvNuCrX7uY1IEkYhCELezN1LDAfzjgDhYZ6j+EIIOBWNGtbkkFXi+LWbtqYZRR6KxnPxsFfzZOGaQtrTIgFgUO/sMA76TIOP/hAiEIJBzmpGxbFJHZ3GKWDD5IAGh/G4Vrnsy0pUWgKf8RPOZR5ACT00A1/xELwNl2LH/QrXXvelUqAPezqf/sGXFJSz8PeFQYA7CIPgBwMwWQ9B99UOZ0ywLX68p3rpjEiDIG0BJ7HLEi/mBA8XRIv1wYIKrvFUsqyIDgBCt4wQxusIPJIIU8jqQV2/vHKhCAwHucUyDwkNw/1CAdEBeYLIp4sIlPzOCbuvcld2AA/VosEHuEcSDRAADDlhCRfyBBhCPmyh5QDGQUh7MkVNjkP4rMYQILZKnck8EandxjsfgiyFR+cH0xQlAPiBDJ91CBGuhAggRAzB8LkIEfHECEKHPlwFVuM4LNAEWZKI4KCvilDSgoDA0YgQjpFIg+FmCCKBxAuGrGSond7GYfRNIl/GAAMxHA2F6mOREgQAL/22j5j3MgwAZGMEAsCq2VHyO6zUMmiT0SIIMjGGAUAvHvh02whBwcoJnh+4GskQhqqEx51G2+8kXysYRARxUU3+sHFVzggiiU9Rw/UEEYApvrp5CC11WOc0z4oQYirPcfrTDFP/TRhyUsYavI9YIRWhvtpxya2kBOpkzuAQYjrGIglbjiPeKAhChMbiDhoMISYprupoia3ULOMUzOsQUk/G4QUguHGoxAhaMKJBqd3WLAm7ILggfZ1xe/kMZRHOGOs2fdH2/wFxQt8vUMvOQM/gINDJ7y6vjiCyy38oxjPh1SfGHnPO+5z38O9KB/IeQ4r84hhI70pAMd5UWnjh2U/w51pb+86dTZRdSvLnSOUz0wOse613lO9K0j5+hf/zoQpCN24Dy97F6fetqBswsusN3rWn/7Xbo+96iH3e60IUTer850vtNm7X+X+q0EP5u4Fx7qdUd8WzrBhchLfvKUr7zlL8+FvTu+M4TAvOc/b/nAb74zdgC96UFPg8OPnjNxP73rL9/41YsF8q+vveQ1L/vEdN72tgfConOfmNLzvvapB/5mbjF828fe+FihffJPj3vm/4UQWnj+6UUvfcDIwfqm10Lxsy8Y5HPf9MsHf1M2oYX0q3/97G+/+9+vBSlI1/x3EQT8749/92Of/naRQ/7/j39Y8H38hxe3AIAHCP9/5UeAQYF+COiA6YcF8reAeGF/D/iAPrBiE/gW/meBCCiAqqeBbXELWECCJWiCJ4iCKaiCJKiAIVgTm7CCMSiDKZgEEuaCYiEIM6iDM4iBN+gWcrCDQZiCVTCAPkgWIyiESWiCLWiEMLEJVYAFUCiFUUiFU2iFVYiFV1gFEtiEZPEHWpiFYQiGY0gDaNeFXOEGYyiGa6iGVXACPHaGW3ELVdCGbGiHVsiEcTgST0iHfeiHfwiIgSiIVVCDesgVXziIiaiIgNiDhqgVabiIkaiIReiIUAELkoiJg5iHlegRfJiJn0iHOMWJWIGIoPiJZTiKUQGJppiJb5iKlsiKoLj/ia+YEZEQi5g4BUVgg7T4E6V4i4vYiLxIFG3wi5JIicIIFJdYjJE4i8hIEZEwBdEojdNIjdVojdeYi7vojDPxB9jojd9ojai4jUHRBuBojt8IBa44jsl4ju2Ijc24jgIBje5Ij9LoA20VjzXRjfVYj8GYjzRRjvxIj+r4jzQBC1CAkAmpkAvJkA3pkAgJj/EYCQ9JkRXJkFOQBPNXkC+xB1NgkR9JkU8gjhspE2jgkSCJkgs5BQRJkjBxkCkJkwoZkesYCU9gkzeJkzmpkzvJk09wjy0pE3sABT1JlEWZk1AwkkDpEmhglE1ZlCsJh0pJEgfplFXJkzM5jorgBFvJ/5Vd6ZVfCZZh+QRDoI1S2RF7EJZpqZZqmZRmKRJosJZxKZfpGJVuCRKwIJd5uZZYuY1aqZd/6ZU+UJZ2mRFoCZiH6QRtSZgeAZeI+ZdPwJKL6RGp4ARJUJmXaZmZiZmbqZmdyZmVyZfOqJWeSZqfWZql+ZOSCRJ7cJqm6ZqtmZhmqJocYQavaZut6ZmROZsaQZm4eZu/mQShiYyKkATFaZzHiZzJqZzLmQRBMJi7KRF2wJzTSZ3KSQO/B50YQQbVyZ3VeQKqlZ0ZkQrdSZ7MKZzCSJzlqZ7GKZjhuRHSuZ7reZ3uqRHbGZ/q+Z30KZ5JUAT86Z/9CaD/KaABSqADyv+f58mLh2CgBcqgC+qg7amfFyGdDUqhDlqh8xmhFrGdFcqhFiqg+ZmhFTGeHUqiHloECEqLh1AEK8qiLeqiLwqjMVoEEBqiE2EHMoqjOQqjGFqjEkEGOgqkOgqiPUoQqRCkRyqjKPqKKoqkTcqiNEqkAnGjTuqkPBql//CjVNqkQ3qlRjoEWoqkSpqKhACmSAqlUSoHZXqkKyCbRPoFahqkXBqlXgqnOiqmo0gIQ6Cne8qnfeqnfwqoQ7ADz+mechCoh4qofloEVhqlX5Coj5qockqkpACplRqod8qJeWqpm7qnPqCRNWqonLqpQcCmVzoQjiqqmyqpPUqpqbqpmFr/iZrqqo8aBDpAqOEZqrP6qIzqproKqatao6QQBMNKrMVqrMeKrMk6rLDqiIKgrM8Krchqq6YqEHIQrdcaraVKrVyArd2arCcAc1EqrN5KrsXKrIborD0QBOrKruvqru0Kr+8qr/GqA58aom4wr/kar/uqr+6qrabKrfwqsP06sOBKrf8grAOrsAQ7r+eqh+nKsAursD3gqQeLrxIbsQz7r1casBmLsfxqsNRKCj1AsiVrsieLsimrsiTrsHEoCCsLszGbsjhwq9npBjKLszFLqm3ao1yQsz+rsicAgpMKtEV7si17hoKwA0ZrtDdQs9DZBkxrtCuAnT2KBVILtDsg/7QH2wlYW7RI24V/sANjS7Zla7Zni7ZpuwM18LS72QZqC7dxi7ZUe7BYILd3K7cdAJ5R2gl467dq24L38AMgIAQbJhBa9Q/usFHeFrZ/67hly7YyYQoPgAAkMEez9QCZm7l6wG2a+wDd5YNv+7iPS7cxMQgMgAAuYLi54LkPwGp+4LkAd4N2O7qOu7UxoQYLkAA5AG3x07pSEwaea7g32Le167gtqAEmUAkgEK4JlE9hMACcGz76BE0+KLbG67c1YK8goQ8HoAb3IAPhyg+2QL6DgF7/UAkLQL62MLwuKLrYe7el+xLXUACDYA8gsEYDkQ/rWwYEADFqYAHrq2Q+iP8FOgC/cqsDehsTs+Bp4fAAvzQQ9rC+SzA//2AEKjAL5Nu7xLsDBnzAcauAK8U997BfFFEJB4BAyoCPZ/gHOuDCLwzDMSzDM0zDOqC9MREH5XMOA3C5BBEF/YO+PGuEaFDDRWzEMyy/LmFQ/2ALBbBNEnFnAqEGe9uFVXDEV2zEO6DAMGEDmKZDFuEBvGQE+RuHm4DFZ1zDCohYA/EAYkURKrBGykAAOcADo8PCaIzHMBy5MEEEKPQPCbBvE7EAhlMJBeAAFuAFG+yCRJzHeZzEJaECvBRMuDYQ+rBqUowADKABomWEVtzIaKzFVDwSFtBT0SAAJSQR11DCRpAAu7P/bU1oxp+Mx1d2DQpjy9GAWocnXhShX0d1DTmgBktwABBshC2sAzggy1c8AwZgD/fQzM/szNF8c//AD3RgzddMBwxzXP/gVBIBCgM2cQznBwqABGfIyMl8xSvAANDMztE8wPaAzdf8Rr4kWeg2EHGwAEmVC1ETB2Nzhp6MzkfcASDQzu38xNgUz9bMPQwQafYAAMpFEEugAQMxCqCgDGFAAKB7g7Ec0EdMAGgD0iEN0m3qAKFk0gtQPF4w0QIhAT0lEV7As37Qtsy3Bzhg0zeN0zmt0zvN0zgwAwJgAEEt1EMd1ECsv8iG1MiGPZB1ShoNW5gmEXewQ11oBj1t1Ve9/9MrAABEzdUGoAKpnNRIfTMqcASNc74TYQFERRBUsNJNOAVYDddXncAD0NVE7UUEkQthjWzw09JfdNACoQBuDMWR1YWbENeH3dMEIAy3zNgLwxFfLBAJ8MoD4QDPBT4C8NchWNOIzdk3PQMzbREi9g/6ZXGp404UMQgJcIZV3dmd/cgksWMqRQB/HQ0DUNoCAQaJZYRv3dqIncCiLBJQ9g8GRBGaAM4T0WxnaNg4cAO9fdgKmA8G4G2VgGEMtVW24L8DcQ304w85IMQauNnOHdcxsL0fYT2D4A88sNJx4NJlkIGawDDK8ABQbYSsLd5YfQPqHBPRUACzwA8qQNhbIP9cRKB6iRA0uaAAau2DvH3fWL3FLwEKCBAN+mAB5WzBrCYQKkDf9usPo3AAgm2Ey93cDW7VLdjPFnAAkfbDAxHFAyHMEpAACyBxRrgHN2DjN47jOa7jO87jNbACK1wSiaAABCABK2MEPzAQJuBJAkEFCQAAu9u+IWgGNcDjVW7lPa7fOIwABQACiyQDHvUPFkBusiYACWAEihyCUHDla87mN/DgL0EFB1AAKhBVHhBp+sAAa5XkBjAACgDmTRgJbS7oVc6E8BALZcUP53QPBx0OrxANaK7ZNSDpk07plW7pl47pNxADoC2ZZIDpnw7qoB4C352hUBDqp47qNfDmURr/Canu6p8Otk24B69O65TOApy+mJ5e67We5aZq6rtO66tOpK0O7LQe6zQ+AzWQ7Muu7M3O7M/u7NEO7TPw4wdLBtMu7dmO7dseAlVbo06w7dou7uE+A8Leo61O7uOu7s9+7D5oBzMA7/Eu7/NO7/Vu7zNw69Z+7/vO7/U+6gcL7v0u8PzeAc177gOP8Pfe7jf47gnv8PGe79R67Q/v8DXQ7QBP8Q9f8AcbCTGQ8Q6/8C7Y8B7/8f0e8ab6BSWP8P9OrUmg8gIfAxtPrR3/8gIf8iFoBzGg8zvP8z3v8z8P9DGwArhOmF8Q9EeP9D9/8S2f9E2f9BgA3CGqCE5P9UF///MaKAcwoPVbz/Vd7/VfD/YwkAJEb5dcEPZnj/Zfv/SmWgRp7/ZpD/UHqwhvT/dhf/UTmPV1r/dbP/YHa/Z7v/drf6VtD/h6H/fUOveFr/d3v4By8AIsAAMtEPmTL/mVT/mXb/mZT/kskALlrZ9mr/mhj/mjL/qSL/hR2valT/qrr/oYYPA1qgiPz/qzr/qZz/gEKActoPu7z/u97/u/D/wsEAJA3rPAb/zHb/zCn4Goj/zN7/ws4Ppy7/zTj/y3z3+5T/3Zz/tiT/ZuyQXaD/4tIPzeHqJFEP7aD/2vL/XnD/7WT3/Yz/7TjwKeT5/fH//THwLLT6RDcP/TDxAYQP/8I1jQ4EGECRUuZNjQ4UOIESVOpFjR4kWMGRcqatHR40eQIUWO7Eggn0aUKVWuZNnS5cuXclLMpFnT5k2cOVOEQADT50+gQYUOhYlF51GkOEMwINrU6VOoUVsOSVo1KYYRUrVu5do1KiGrYXWa9FrW7Fm0FWWKZTuzBYoDaeXOpYvWaNu2S+vu5dt3KFW8bLH6JVzYcEawgdmSPdzY8eODbhSLLREX8mXMhO9OrorhQWbQoeUG4WxVoGjUqbcmLp2UsWrYsYG6QZECRW3ctnXn5r3bN28UISzLJl58ZRXbvZX/Zr58J1Pj0aVbDIJ7+fXmzVGcnt7de0NC1rNjJ7//+/V39Ojb3Gbf3v17+PFvixie3n73KvL174fv+f7/6Xrgb0D+uAPwQNnCI3DB+M5D8MHQ1mNwQvZ4gvBC0fKjkMINHMDwQ8wE3HDCBkwA8UTHFByRQQdRdLGuNkpAQUYaZ7SxRhxv1DHHEuh78Ue+quBxRyKHNBIDD4FUUq4ejCzySSe3G2hJKs0ixEksoSSyxSq7fCrGEsIUc0wyyzTzTOG8VFMqIc908003/VtzzqZ2gPNOPEsokU4+hRIkT0Dd5LJPQlNCI1BExxTBgEIbbanNRBGV01FKNbIz0kClrHRTjP7EFNFBORV1oUN7DFOEU1M1dVVUWVW1VVTTHHXW/4emcPVWWF/V9dYOafWVITtzxXVXYYvtcc9fkz3oT2OHdbZZEQo4SVlq0RDhWmyz1XZbbrsV4YP6qP0VCm/LNZdbJMWldodz2zVXTxPVTVYQd+v1NlR5KTXDXn6z3SDcfEUlt99+0w2YVh0I7hfZg0f9Q+F+8W24z30hrneDniYW2OKLodN404Q5bpfhjyl9WOR2JS5ZTTM++PZll2OGeWaZa6b5239XrhQKm3u+2WegDda5UR2A/vloo0VogIShHf3DaKiRvlnlppds+QOss9Z6a6679jrnqgl1wmuyyy4bgs/C7hMHs9t2+4Ol1e7z6bfr9ppquV282m6+sQY77/81x+67b7QBn5PtwfmO23A16U7cbrwZx5CMDzio/HLLM8d8c8075/yDvyWnMonPPTe9dNQLF71Ktk93HfXXF199yT8sh/321zuPfPYDyeDgd+CDF3544ovnIHTeX0zCeOabJ1715H+8wXnqnZc9ehf3qH5743fHPj3fuRcfeOS//3D58ceH3nwQp09f/OvZx1D798X3Xv7pyMig/u3Lxx9B9PGPehBI0v8uVAMBVi9+BjwQ/RLovPsxkDhfyEAFLXhBDGZQgxvMQAUAJsH7FIGDIyShBgkIwgfVoIQrLGEDsoLCBrJQhhyMIAxT84UL5FCHO+RhD334wwtUgFE2/E//EYB4RCT68IREvM8MkvjEJLqQiffZAxStCMQaTjEzOLxiF3W4gSFq8TtG9KIXlyhG7zixjF2UIhq9U8U1djGLFrmGPQ5yj2j4w41E4UIQK/BHQAZSkIMk5CApEIEPYoQfs9DDtBCSiy34QY8E0QcdvKCMPf7Fj4XkZCcJecaU6MMUepgkQkaxhUQY5B5qCMM1MimUGHhSlrOsQBtVcg9NDGIhidiCKQxyjjKoAR6vDMoeKLBJWiYzkHNECAkSAABNJOQaDFDAAX5QkC0YYAEKyAUxf8IFCoRTnOMkZznNec4KRCCMKDnHABQAgGgkJA4I4MEDptSPB2ggBweohDd9/zKECZxToAM95wRAqZFcuBMA/UhIFBLwAwbYgCD2UAAJbGAAYfgTJi8gaEc9OoEGTCklgxhAAhKgEBswgAcJoAJBooEAGaggAa7UqEv2EFCP5lSgzDxIHISBgGgiRAUSDQcCVvGPaxQgo1GQQE1dAk6dRnWcFYBAxlLij3v0A54I8YcCdJkPBLTiH3dgAEPB0FSnsgSgUmWrQT2GEn7kIxoLRcg9CtDNcBDAlVTQAEF+oIK0suQFFWCrVEEqUpTcgx+aOClCrjGAcPwjFwY4SQ5kQBAVCCGwK7lpYdnKU4QkIKgG6ccAMvoPG+TgH1TwAEHuIQCablYjXIjABGp7W//b5ha3u9Vtb3kbAUS2RKvxPIgyBsAPzBrhHzLgAUGuAQBHyhYjQfBtdX9rXetGAAJvTclcGXqQRDT2HxJQwz804AWCrCKR0p3IC7B7Xfi+NwIhbQljE1IGtP4jAf30KkHoUED2XsQO7yVwfH8L2oOI1rEA0AdBqDCQHEiUIAgYRYAxggXgZljDG+Zwhz2c4XWmZLgIqYR4eXBZD2yBIP4QACYtTJ0Px1jGHd5uS7yLEDXk1wRL+McC/OBcBr/YIi+YcZFnTF+W2BchSIjXPx4Qh38QwBYEAYVVhTwROxhZyx8mwCAq8WUwh7kSRz0ID2yQ2jPnoJ8FUfBBhCGAgoT/wQL/cEFzCdLfK6NlHgOQgQ1k0Oc/+xnQUbijAgx9aDz/Y8QHKXFBTmxeFf+DxS7Oc1n8YYsDAFrTgvZzGNyM6EN306V0PUiOC7LjHv8YqUGutKX9oIBAx3rTd2A0qA0dWYIo+SBHaDJ5ozwLKlu51V5xgQaMfWxkG5tppQ5Ds50taoK02SDwAIAd/7EEE/3gsgQxwJSHXRY1lEHc4ya3uFVdEH9cQ93rvkaDCbJogwhjAJNUgXJdcM1/hAMA9/i2V/gR7nIHfM0F6Qe7143cUX/XIIlQQEEsUF4NePofrwhxv6XyjoBnnMwF0YfB1V1KXRukDHO+cyrxrAcAWxw1/9I2SAJS+Q8QEJoO0FEGAfitctTAGx7D9IfL/8GPBIDiH3FwgB7VkDaci+bGBDkHv+9BAEzCgwDxjMKUjNDkpIMm5Nc4STQGMExhFIDfZyZInbMemkrowQBH0AO/y+ACgkSBAasogwEiC/QlzEIDEj47ZmRAAgB4wATItQHc/1GGBBzB2AThBwNGYIQD6LLvl+GHCTwAABNs2wNEIAgRFoCEB2zbHQm4twGgPXnHXMMEFhiACfDNgDKU/QFLWIBy/6EMA0QYAbFFvWOWoOnIDoLQkqaCBEzwioIoQwUSEALCe+8YP/RBD9PXoy1iURBTRCEOzr9HGaJw+ucbxh/Tn/++qkdx2n8kIgp9KKU7vEAF4ob/MPcgvx7WnAjijj8KL3fuFraAa/kLQAEcQAIsQAM8QARMQAVcQAZsQAd8QAiMQAmcQAqsQAu8QAzMQA3cQA7sQA/8QBAMQREcQRIsQRM8QRRMQRVcQRZsQRd8QRiMQRmcQRqsQRu8QRzMQR3cQR7sQR/8QSAMQiEcQiIsQiM8QiRMQiVcQiZsQid8QiiMQimcQiqsQiu8QizMQi3cQi7sQi/8QjAMQzEcQzIsQzM8QzRMQzVcQzZsQzd8QziMQzmcQzqsQzu8QzzMQz3cQz7sQz/8Q0AMREEcREIsREM8RERMREVcREZsREd8REj/jERJnERKrERLvERMzERN3ERO7ERP/ERQDEVRHEVSLEVTPEVUTEVVXEVWbEVXfEVYjEVZnEVarEVbvEVczEVd3EVe7EVf/EVgDEZhHEZiLEZjPEZkTEZlXEZmbEZnfEZojEZpnEZqrEZrvEZszEZt3EZu7EZv/EZwDEdxHEdyLEdzPEd0TEd1XEd2bEd3fEd4jEd5nEd6rEd7vEd8zEd93Ed+7Ed//EeADEiBHEiCLEiDPEiETEiFXEiGbEiHfEiIjEiJnEiKrEiLvEiMzEiN3EiO7EiP/EiQDEmRHEmSLEmTPEmUTEmVXEmWbEmXfEmYjEmZnEmarEmbvEmczEmd/9xJnuxJn/xJoAxKoRxKoixKozxKpExKpVxKpmxKp3xKqIxKqZxKqqxKq7xKrMxKrdxKruxKr/xKsAxLsRxLsixLszxLtExLtVxLtmxLt3xLuIxLuZxLuqxLu7xLvMxLvdxLvuxLv/xLwAxMwRxMwixMwzxMxExMxVxMxmxMx3xMyIxMyZxMyqxMy7xMzMxMzdxMzuxMz/xM0AxN0RxN0ixN0zxN1ExN1VxN1mxN13xN2IxN2ZxN2qxN27xN3MxN3dxN3uxN3/xN4AxO4RxO4ixO4zxO5ExO5VxO5mxO53xO6IxO6ZxO6qxO67xO7MxO7dxO7uxO7/xO8AxP8RxP8jQsT/M8T/RMT/VcT/ZsT/d8T/iMT/mcT/qsT/u8T/zMT/3cT/7sT//8TwANUAEdUAJFo4AAACH5BAXIAAEALG8BAwCYAmgBAAj/AAMIHEiwoMGDCBMqXMiwocOHECNKnEixokWF/2zlsBDgAQgbd85dHGlQGR0iP7z8I8mypcuXMGPKnEmzps2bOHPq3DnTnw0BBxEQRGIgB0+BQgwQfPBv5dGnUKNKnUq1qtWrWLMm/IckAAAVoK7dy1VGgtCBPwLIeGoiAIEHDAAwbaq1rt27ePPq3cs3Lz+lRgs6Rav26D9TufwFICK3Kd2+kCNLnky5smWqwry2UtgvgIsAJAbaKnjPzxIiZa4ZjDZL5DUwRLZEa+h4JeO5jy/r3s27t+/ffHN5HaUw3EGgAv9tUTpQQA7FyUEE2LIEeQABaRc6Fng7wHbg4MOL/x9PvvzDfAMCaICXUF8ADwEkDCyTnEiAATLU+CFiAMDa6AJ95ccgOQgAwBHaPdbdd+Y16OCDEEZo1z88CFSACV6sAl1Baf1H0Cr3ETeQMAMA8AqABw70jxr3zbaVgnJ5l5uENNZo4404VtRPgQQZABaHhRH0T1s2CGZUkd5JlwA/QjoQQFcvOrXgjDlWaeWVWD54jRceFDAQANkJ1GFB/vQ3iEF0dASgCgYJoV6UUsbIYJZ01mnnnZP9I0wUSgFwB2EeCmSPVwkUhICXCgDoZkFhBLAARjA+IONgeFZq6aWYRnWNUhoAWpBqAMh3EJtJBhAFmgEkGiV3clKZ6auwxv8qK0VrnRXAmATl45VwGEkXGEFUBODkqou1SumsyCar7KwVFspdkCo+uoV20nUq5GefEXtbbct26+23N97jIpkMvCkQGAFIVxCCCdzT63XKEHROAQD0ASld284J7r789tubMgOYkIi73s0CHwB+DFSJW5WcM6hA9yT6QGbJ5WKDHgAGwICL58jHAJMK2WPLyDIAsMDItqjm78ost8xXvAIJkIACBAS4qED+SNrcQMokCoACFjxwFoul8oCAABJIkN4BFCt0BwABQu2Vfy5XbfXVU/2jDBXwpfezC5sVpA8YNlSbKxUPpDeAAibEQfA/0m1xjQpeEmDCuAqBosHefPP/HSzWgAcuuE3/PFzRPwQLFvdIrg7u+OOQZwX3dJFXbvnllU0+Leacd+45Vpp/LvropOP0z6lnlq766qy37vrrsMcu++y012777bjnrvvuvPfu++/ABy/88MQXb/zxyCev/PLMN+/889BHL/301Fdv/fXYZ6/99tx37/334Icv/vjkl2/++einr/767Lfv/vvwxy///PTXb//9+Oev//789+///wAMoAAHSMACGvCACEygAhfIwAY68IEQjKAEJ0jBClrwghjMoAY3yMEOevCDIAyhCEdIwhKa8IQoTKEKV8jCFrrwhTCMoQxnSMMa2vCGOMyhDnfIwx768IdADKIQ/4dIxCIa8YhITKISl8jEJjrxiVCMohSnSMUqWvGKWMyiFrfIxS568YtgDKMYx0jGMprxjGhMoxrXyMY2uvGNcIyjHOdIxzra8Y54zKMe98jHPvrxj4AMpCAHSchCGvKQiEykIhfJyEY68pGQjKQkJ0nJSlrykpjMpCY3yclOevKToAylKEdJylKa8pSoTKUqV8nKVrrylbCMpSxnScta2vKWuMylLnfJy1768pfADKYwh0nMYhrzmMhMpjKXycxmOvOZ0IymNKdJzWpa85rYzKY2t8nNbnrzm+AMpzjHSc5ymvOc6EynOtfJzna6853wjKc850nPetrznvjMpz73yf/PfvrznwANqEAHStCCGvSgCE2oQhfK0IY69KEQjahEJ0rRilr0ohjNqEY3ytGOevSjIA2pSEdK0pKa9KQoTalKV8rSlrr0pTCNqUxnStOa2vSmOM2pTnfK05769KdADapQh0rUohr1qEhNqlKXytSmOvWpUI2qVKdK1apa9apYzapWt8rVrnr1q2ANq1jHStaymvWsaE2rWtfK1ra69a1wjatc50rXutr1rnjNq173yte++vWvgA2sYAdL2MIa9rCITaxiF8vYxjr2sZCNrGQnS9nKWvaymM2sZjfL2c569rOgDa1oR0va0pr2tKhNrWpXW0xMLOK1sI1tbAvrD3hn2Pa2uMWta2XL29fSNrfAve1ueyvb3wYXuMMlLmyNe1zdKre4hK1tc5373OVGd7rUre4imIvd5D6Xu9P1rnLB21zxEpe8xzVvb9EbXPXylr3I1a5vr4td27oXuoOVbn3vO1v61jcgAAAh+QQFyAABACw4AAMA3QPmAQAI/wADCBxIsKDBgwgTKlzIsKHDhxAjSpxIsaLFixgzatzIsaPHjyBDOlT2QwMDBx5kxAknMiK/QTY8LHjgYlDLmzhz6tzJs6fPn0CDCh1KtKjRo0iTdvxnBCEAgmECqPCpqcDTgQAAaLintKvXr2DDih1LtqzZs2jTdo0aAESlAPaEqdEggOCWtj71AGBA5VU0TTKyglBLuLDhw4gTK17MuLFji/8UBDDB8O7gnrkS/fsXYDPTrMIeix5NurTp06hTqw4LT6AfhZx5BJCQa6A/gvoGRQngRZnBa7auBQhXJgCV0BE938uqZrXz59CjS59OvXpYlgH0wD4I4NzAOAgIAv9woY+gjAA/wgzAKuP2Q88BCABobr2+/fv48+vfb9pfeAfYHcQZZQzgJpAXAQjgQnFLJIDXQOcJNEIAifywng0QeZZLVrPw5+GHIIYo4ogkYkSFQASAQIUp/BxkmUHKDADAawNdY0AANgkUIYYD2QSALe9t5gEADpRo5JFIJqnkkqT9c8R6AxVgQo4DvVhQDpMZtBtlOsbHFUEeBMBjQ5tRAcAArTCp5ppstunmmzgRB8IB5rkXgJUD/bNAAMUVpEkAknWpgUF3FejQP3QIAACCcDbq6KOQRuqmMlQ4eGeVD+YJJUIEQBhAhAS9dqNDfsi4hKSopqrqqqxKZ4+Dewr/hKdA/Qj0AEJhdomlnwFsutAg6/3Q6rDEFmvssWMRkaB7s3ZWAIUMncclQXEEYOlClciYA2fIduvtt+CGm9GJAriHYK4EWYBetAHESpCwgy5kinwybCbuvfjmq6+q/CBX0D/qGhrAa7cWFNUBASJ0HgCmEJSPg4wmZIpV7dm778UYZ6yxiPcIAAKNAgnDJRgDhSZAH7YFwE+RC6xCkDI59PmpQAkgd89gCXyJ0CxWSRCLLUBvLPTQRBedms5XPaujnf+gG0B3Al1TpLUSSDDQbl3aINkDFjxLACgLmZmQEEaXbfbZaIsVDRggBGqtCX8WxI8auwagMz9eWE0zCGrY/+PpD/DIQOcAIPibUB/xHkRf2ow37vjjOt1jZ0fnCQv55ZhnrrljlW/u+eegh95V56KXbvrpqHtEeuqst+7661AFQAfstNdu++2456777rz37vvvwAcv/PDEF2/88cgnr/zyzDfv/PPQRy/99NRXb/312Gev/fbcd+/99+CHL/745Jdv/vnop6/++uy37/778Mcv//z012///fjnr//+/Pfv//8ADKAAB0jAAhrwgAhMoAIXyMAGOvCBEIygBCdIwQpa8IIYzKAGN8jBDnrwgyAMoQhHSMISmvCEKEyhClfIwha68IUwjKEMZ0jDGtrwhjjMoQ53yMMe+vCHQAyiEP+HSMQiGvGISEyiEpfIxCY68YlQjKIUp0jFKlrxiljMoha3yMUuevGLYAyjGMdIxjKa8YxoTKMa18jGNrrxjXCMoxznSMc62vGOeMyjHvfIxz768Y+ADKQgB0nIQhrykIhMpCIXychGOvKRkIykJCdJyUpa8pKYzKQmN8nJTnryk6AMpShHScpSmvKUqEylKlfJyla68pWwjKUsZ0nLWtrylrjMpS53ycte+vKXwAymMIdJzGIa85jITKYyl8nMZjrzmdCMpjSnSc1qWvOa2MymNrfJzW5685vgDKc4x0nOcprznOhMpzrXyc52uvOd8IynPOdJz3ra8574zKc+98n/z376858ADahAB0rQghr0oAhNqEIXytCGOvShEI2oRCdK0Ypa9KIYzahGN8rRjnr0oyANqUhHStKSmvSkKE2pSlfK0pa69KUwjalMZ0rTmtr0pjjNqU53ytOe+vSnQA2qUIdK1KIa9ahITapSl8rUpjr1qVCNqlSnStWqWvWqWM2qVrfK1a569atgDatYx0rWspr1rGhNq1rXyta2uvWtcI2rXOdK17ra9a54zate98rXvvr1r4ANrGAHS9jCGvawiE2sYhfL2MY69rGQjaxkJ0vZylr2spjNrGY3y9nOevazoA2taEdL2tKa9rSoTa1qV8va1rr2tbCNrWxnS9va/9r2trjNrW53y9ve+va3wA2ucIdL3OIa97jITa5yl8vc5jr3udCNrnSnS93qWve62M2udrfL3e5697vgDa94x0ve8pr3vOhNr3rXy972uve98I2vfOdL3/ra9774za9+98vf/vr3vwAOsIAHTOACG/jACE6wghfM4AY7+MEQjrCEJ0zhClv4whjOsIY3zOEOe/jDIA6xiAkIjxKb+MQnJuEEVsziFrdYhCiOsYlHKOMa2zjFI3SxjlkM4xvPuMc+DvKPRbjjHQPZxzQWspJVXGQXH/nGSVZykJncZB6HcMlPlnKNqVzlCWR5y1/WMoq5XOUwxzjKYgYzkbu8YjOP2f/NaSZzk+E8ZBCmGco5ZrOXryxkNN/5zWtmM51L7Oc/1xmEet6znfs8aCnLuciNLrShW5NnQfN5yo3GcqC7HOlGL+LToA51qElYjlKb+tSnnuA/NL0QY7j61bCOtaxnTeta2/rWuM61rmn9OiWL+tegJjWqh11qVbNaIbtOtrKXzexm89p1vgb2r4VNbFQbm9EMcba2t83tbfdayNKe9girPexrYzrb3U63utct628HOdyipja5iy3BVWO71ezOt7617W4fw3vU4563qc2N5Ibs++AI13W/b/zvYAdc4OUgOJ7RnfCKW/zVC7dxwz8t73lL3MYOubjIK57xGm98ER3/J/fH1Yzvkbs83yWX8clTXu2VyzjkL8+5umMe45k/XOA2P7PBdU50b0Mb3BunObGDDuiWF/3pyuY5in0uQojTO4L2PrfToc51XEv9xFQPodUjXu9jJ6TraPf60bUuV4WP+Ftuf3u34i73Y9G97sW6O96Hpfe9s6rvflcV4AOPqsETPlKGP/yjEq/4RjG+8W96POTbJPnJr6nylmcS5jOvpM1zHkme/7yRQi96EpG+9CI6PepBpPrVe6j1rt8P7GOfn9nT/j62v319cq/76vC+99P5PfCjI/zhP6f4xl8N8pOfmuUz/zTOf35poi/90VC/+o+5PvYbo/3tL6b73k8M//jDf5jxk78w5j+/WtKvfrSwv/1meT/8ySL/+Yul/vYHC/7z75X9818p/vd/SBGAAmgUBFiARHGACCgUCriAQNGADugTEBiBPDGBFKgTFniBOJGBGtgSHNiBIfGBIPgRIjiCHVGCJrgRKJiCGbGCLHgRLviCFRGDMjgRNFiDEXGDOPgQOriDQ6d2PugYPRiEyJZrRCiERniEjDGESmgQTNiEBPGEUCgQUjiFVQiFV9iEWaiEW3iEXUiEXxiEYeiDY7iDZYiDZ1iDaSiDa/iCbciCb5iCcWiCcziCdQiCd9iBeaiBe3iBfUiBfxiBgeiAg7iAhYiAh1iAiSiAi/h/jRPIf4+Yf5Fof5M4f5UIf5dIPAEBACH5BAXIAAEALEYAAwDdA+YBAAj/AAMIHEiwoMGDCBMqXMiwocOHECNKnEixosWLGDNq3Mixo8ePIENWsiFhgQQQOQbdCxnRH6goJiQIVBGnH8ubOHPq3Mmzp8+fQIMKHUq0qNGjSJMS1TcCwEGZA10E2PIznFODDq4p3cq1q9evYMOKHUu2rNmzaGcGEJAjVjh4s6gwgCqQRAAqP8854OEnVwBQPAYEeJC2sOHDiBMrXsy4sePHFq85pbrQLl6f//4ZLCPQL+TPoEOLHk26tOnTX/0IhKcwXwANAXLYEihM80B3cZAcUcO6oLAAK4VRLRMOYx/UyJMrX868ufPnYI8HKJ4Q1MEFtv39EDyQABXbAhcE//Aj42oAAmDAQ7QaoBX09/Djy59Pvz5pZU5d6EtY3EEAuwLdYZsJARiQAx135CDYZeEJxNYgfqjgVBwS+SNDAAz4Y9+GHHbo4YcghogRCAIhoEIZuag3kGUGxQEAAsoQlAgAA1AXgHgBUDjQDwEcsB9Dg0QRRQ4KALBAjCImqeSSTDbpJGj3mGBeAAnI8BtBLBbkH2UEeTDVQOJJoB4/BwRAR0MuAKAmABZco+KTcMYp55x01gmSMFFIQMBAApQBXpYDneMUkgQtEYAKYAaAhEEE2tBQkEvIoEAAA5xp56WYZqrppnL68woPewowW113FfSKU5MSdMCeXjaohkE8BP9AokOZ9WMEAAIQyumuvPbq66+nxSLYhaQyKJAma8F2UKwNSkfQosoylFlmGAKQA7DYZqvtttx6ZUEAYhZbUC5OubaQeFwOdCGB0k4rUHmtdivvvPTWay9FdlkwYABRFMTPnoMwJJ6jBclk6ELTgiclgPc27PDDEGd6TW8F2VMmwbEFwCxBiEpgk0LiHWAPQbkIEIBnCSVs2zUEANBvxDDHLPPMGw5CgA2a8DNQJYQJgHIYVK7Sm2bRGCCrVgNpokIsib7WmzLigfAmQTz8EIs9mcFDRwIAHEAxzWCHLfbYnwUsEHdo+zmQPQkQhJ1AoyAQngYOFAB3okgQQIAEEpj/rICNCBEbQAF7lrjK1GQnrvjijCtlyxIWJGCyAAvkoOtqVMjgpQvguSMEA04RsIALfujc4CDCeCCYATJ8jZAwREhwgJoDPBAF1og3rvvuvPcOkoa5XySe2RXxY67vyCev/PJKDc/889BHLz1Xzk9v/fXYZ+9R9dp37/334BN0Lcrhl2/++einr/767Lfv/vvwxy///PTXb//9+Oev//789+///wAMoAAHSMACGvCACEygAhfIwAY68IEQjKAEJ0jBClrwghjMoAY3yMEOevCDIAyhCEdIwhKa8IQoTKEKV8jCFrrwhTCMoQxnSMMa2vCGOMyhDnfIwx768IdADKIQ/4dIxCIa8YhITKISl8jEJjrxiVCMohSnSMUqWvGKWMyiFrfIxS568YtgDKMYx0jGMprxjGhMoxrXyMY2uvGNcIyjHOdIxzra8Y54zKMe98jHPvrxj4AMpCAHSchCGvKQiEykIhfJyEY68pGQjKQkJ0nJSlrykpjMpCY3yclOevKToAylKEdJylKa8pSoTKUqV8nKVrrylbCMpSxnScta2vKWuMylLnfJy1768pfADKYwh0nMYhrzmMhMpjKXycxmOvOZ0IymNKdJzWpa85rYzKY2t8nNbnrzm+AMpzjHSc5ymvOc6EynOtfJzna6853wjKc850nPetrznvjMpz73yf/PfvrznwANqEAHStCCGvSgCE2oQhfK0IY69KEQjahEJ0rRilr0ohjNqEY3ytGOevSjIA2pSEdK0pKa9KQoTalKV8rSlrr0pTCNqUxnStOa2vSmOM2pTnfK05769KdADapQh0rUohr1qEhNqlKXytSmOvWpUI2qVKdK1apa9apYzapWt8rVrnr1q2ANq1jHStaymvWsaE2rWtfK1ra69a1wjatc50rXutr1rnjNq173yte++vWvgA2sYAdL2MIa9rCITaxiF8vYxjr2sZCNrGQnS9nKWvaymM2sZjfL2c569rOgDa1oR0va0pr2tKhNrWpXy9rWuva1sI2tbGdL29r/2va2uM2tbnfL29769rfADa5wh0vc4hr3uMhNrnKXy9zmOve50I2udKdL3epa97rYza52t8vd7nr3u+ANr3jHS97ymve86E2vetfL3va6973wja9850vf+tr3vvjNr373y9/++ve/AA6wgAdM4AIb+MAITrCCF8zgBjv4wRCOsIQnTOEKW/jCGM6whjfM4Q57+MMgDrGIR0ziEpv4xChOsYpXzOIWu/jFMI6xjGdM4xrb+MY4zrGOd8zjHvv4x0AOspCHTOQiG/nISE6ykpfM5CY7+clQjrKUpwxEeFj5yljGchUnwOUue9nLU8yymK9MxTGb+cxapuKX19zlMKOZ/8xufrOc4TxFNrM5zm8u85z3vGU7fxnPaNbznuXcZz+3WYp8BvSgzVxoQ09A0YyG9KKz3GhDS1rMgp50pOvsaC5fmtKf1nSl/RxqOkdR04FWc6cfjeg5ZxrVoOZ0p0tt5VfD2tRRXDWrT+1qWg961Hb2ta1v7Too6lrYvk60rB2N7FYTO81TNIa0p01tajeb18/GNRSrze1pXxuK2Ya2FLvd7W8/MdzafiK5uW1uJ6K71lRcd7Xb3cR3F1vd8va2s/Oc7F5HO9/SpjcT7V1FgAd836lG+LMLbnCBL5Hg8W64wjeN7XAzHOAOVyLE/43xiY952Le+eL4znsSNj1viFf9PeMrPvIiWu/zlL6/iPGZO85rX3Ib/MLlC0MHznvv850APutCHTvSiG/3oQo/fnmHOdJfL3OZQnznOdZ4QpFv96ljPutaVPuemN/3pUbf51N/tEK2b/exoxzrX5ex1poM97DQfO7rLnva62/3ua39z22H+drjPQ+4Wb8jdB0/4rOcdzXuPORX9fvMa5pzsgi+85CefdPgtPfEt7zvcAZ9tulP+85Q/PMsxvwjNh53zC4886FdPeNGbmfSlXzzjpe54qiOE9bjHu+W7TnrTRx31xPZ87oe/9d2zvfeynz3wQ6564jvf6q4fM+x9D/Xlw1r4z88+0aMv5uknn/HWRzX/9rVP/p9zP8ven+LsaU/Dx8+9+eWPP8/PL+7RIp3K9bo//uel//13q//+ty0AGIDZMoAECCwGeIC+koAKyCsM2ICc8oAQqCkSOIGYUoEWaCcYmIF0soEcKCce+IFwEoIi6CQkWIJMcoIoqCQquIIi0oIuCCIwGIMeMoM0yCE2eIP2kYM6SB882IPy8YNACB9COITQUYRG6BxImITMsYRMqBxO+ITIEYVSeBpUWIWlcYVYOBpauIWh0YVe+BlgGIaPMYZk2BhmeIaLkYZqmBhs2IaH8YZwWBhyOIdoUYd2aBZ4mIdksYd8KBZ++IdgEYiC6BWEWIhccYiIqBSKuIhI1dGIjmgUkBiJRDGJlCgUlniJQJGJmugTnNiJPPGJoKgTojiKOFGKpsgSqJiKILGKrOgRrviKHBGLsqgRtFiLGHGLuGgRuriLFNGLvigRwBiMEDGMxDh+lXeMZXh0yggZxtiMO8eM0IiG0jiNa1iN1uiG2JiNcbiN3EiH3viNdxiO4qiH5FiOfXiO6AiI6riOg9iO7miI8BiPiTiP9MiI9niPj5iP+iiJ/NiPlfiPAImJAjmQm1iQBumJCJmQobiQDEmKDvmQpxiREqmKFFmRrXiRSRQQAAAh+QQFyAABACxUAAMA3QPmAQAI/wADCBxIsKDBgwgTKlzIsKHDhxAjSpxIsaLFixgzatzIsaPHjyAl8lOj4oFAE0tW+QsZ8Z/Ll4N+/PDDsqbNmzhz6tzJs6fPn0CDCh1KtKjRo0KVLUAYhWCCAMJ6vnQZzoBAG/+Qat3KtavXr2DDih1LtqzZswHyPUWwRRi8cJpyIGg6kABUqVNBADgAACvav4ADCx5MuLDhw4gTWywTYEDUgv3CEbT7+GccADI09HWpuLPnz6BDix5NuvRXGwEeZE14LdeAAHQGXiuoDIyRJYP4FeRnK8A/f5WiHLmjDyI8BAjuWdi82rTz59CjS59OvXpXGQEcND8o5GCOgeH0Ov8FRTAagADXTA5MEOuhCQB9AmjGut26/fv48+vfz9/zFoFq1EfQLI0FYMRAqwgEjwIBLLCEH2qMAMAABApknkAIUFGJGiYZEE1DfgAAgkDzcdbfiSimqOKKLLZokT0ICLRADnfMdhBlBqkgX3EDfaeahed5OBA/JpEgYEHHFXCNSxoE4JeLUEYp5ZRUVumZMAwUxIAR8BSEI0HXCBCAMgXdU8CYQAawREGjACCAOwupAEAYL81n5Z145qnnnnze5E9cDIiJYS6T3UVQHAEoIKAEsKXZXkFnDqLQIABI4E+dTh7Z56acdurpp1PmMwgJ5yWgm0BfDoREAHY5VeB/AVz/eI5BS4GR0D0JOEZQiZqC6uuvwAYrLGhRnEcTqoYOxEMAMSKkR5r5GMQorAchAcAIlWSbrQMiZrvSsOCGK+645GqVj5hrIluZQE1J0GuaZBb0lBoJ8QDAvfjmGwAA0Zbr778ABywwRXbRFcCZhBJUCQAE9JvQhccOZI+YFR4UhwkYZ2wCAgAogPGpA4cs8sgkcyoMyAqfJ6mMAVSy21NGvHuhB9tRAUAC3z7Ea8k89+zzzyjmkMASwnzLTxkHJAryiCAoY889/V4mgBEO6xMHzWkGQMS3ftjlxUJTCfTPzkCXbfbZaH/2HaoKJCBoAgkLpMlrPQ5EhZgDOGABA68R/7DahTYjoMEC55mQM0JTYfpk2ow37vjjXvGTSA4OcMzqA1HcY5AwRLjQZBgE5eLCUwEc4MAPrfx9nj90OCCmAlQcjnji//CgwdeQ56777rzvxA+PFfUDfHmrC+TP8A+Z2PvyzDfv/FEXyv789NRXbz1R0V+v/fbcd+9R9t6HL/745BN0jgm+la/++uy37/778Mcv//z012///fjnr//+/Pfv//8ADKAAB0jAAhrwgAhMoAIXyMAGOvCBEIygBCdIwQpa8IIYzKAGN8jBDnrwgyAMoQhHSMISmvCEKEyhClfIwha68IUwjKEMZ0jDGtrwhjjMoQ53yMMe+vCHQAyiEP+HSMQiGvGISEyiEpfIxCY68YlQjKIUp0jFKlrxiljMoha3yMUuevGLYAyjGMdIxjKa8YxoTKMa18jGNrrxjXCMoxznSMc62vGOeMyjHvfIxz768Y+ADKQgB0nIQhrykIhMpCIXychGOvKRkIykJCdJyUpa8pKYzKQmN8nJTnryk6AMpShHScpSmvKUqEylKlfJyla68pWwjKUsZ0nLWtrylrjMpS53ycte+vKXwAymMIdJzGIa85jITKYyl8nMZjrzmdCMpjSnSc1qWvOa2MymNrfJzW5685vgDKc4x0nOcprznOhMpzrXyc52uvOd8IynPOdJz3ra8574zKc+98n/z376858ADahAB0rQghr0oAhNqEIXytCGOvShEI2oRCdK0Ypa9KIYzahGN8rRjnr0oyANqUhHStKSmvSkKE2pSlfK0pa69KUwjalMZ0rTmtr0pjjNqU53ytOe+vSnQA2qUIdK1KIa9ahITapSl8rUpjr1qVCNqlSnStWqWvWqWM2qVrfK1a569atgDatYx0rWspr1rGhNq1rXyta2uvWtcI2rXOdK17ra9a54zate98rXvvr1r4ANrGAHS9jCGvawiE2sYhfL2MY69rGQjaxkJ0vZylr2spjNrGY3y9nOevazoA2taEdL2tKa9rSoTa1qV8va1rr2tbCNrWxnS9va/9r2trjNrW53y9ve+va3wA2ucIdL3OIa97jITa5yl8vc5jr3udCNrnSnS93qWve62M2udrfL3e5697vgDa94x0ve8pr3vOhNr3rXy972uve98I2vfOdL3/ra9774za9+98vf/vr3vwAOsIAHTOACG/jACE6wghfM4AY7+MEQjrCEJ0zhClv4whjOsIY3zOEOe/jDIA6xiEdM4hKb+MQoTrGKV8ziFrv4xTCOsYxnTOMa2/jGOM6xjnfM4x77+MdADrKQh0zkIhv5yEhOspKXzOQmO/nJUI6ylKdM5Spb+cpYtiI8tszlLndZixMIs5jHPGYsevnMXM4imtfM5i9nkf/McBazmduc5jnT+c51xmKc42xnOqsZz4AG857J3Oc2/xnQdxb0oOV8xUAXGtFrVvSiJ/DoSFca0l6W9KIvfeZDY9rSep50mDmdaVJ/WtODNnWetfxpNqN6z6resqdbXepQizrWXcK1o209aVzPmtartqKoR91oPP8a2Lnm9aaLnWhdG/vNw/a1s5uNRWNY+9rYxra0mY3sYFcx2+C+9rZZ3W1vUzHc4R53Fcvt5mqjO9vqpiK7zT3Fd8Ob24aetp+zaG9t49vV+s63u/ttjHhPcd6y5jfBC/5vUJOb3VpcOMMfLnCKdzviCze4FBGe7CtKXONR5DjGCQ5yKIpc4ST/bziajw3skfe75E88ORbRQfOa29zmMHeizK94857XPOdN3LkVfe5zoDNR6FUkes+NvkSkU1HpN2e6Ep0+RajjXOWdDjjAZ251mks9iVSXYte9jvVaWxzZWhw7Or6OxLBHUe1sP6LboQj3srf77C3PYt3xnnW7YzrtY4+7Eef+xL2v+9l+3/IiFs/4xjd+rv/g+K4X8o7KW/7ymM+85jfP+c57/vOal6DjR894yEse8ZQHvepXz/rWc170pB+96U+/b4a4/va4z33oIxh72cs18rSvuEJ0T/zisx72vS/974Mv/IQY//nQ3z0Ek//45TPf4cOPvvahj3zqz/76fU/9//bHr/vuJ//74L979snPftebv/foT3/Cbd/++q/+/bGPv/wdYv/+fx7/pKd/6cd//leA0vdA1Kd8cQV88kdvBmGAEHh5AOh7C9iA6ud8ERiBE+h4Agh+BJiBBphlZqF6IggwJFiC/nKCKEguKriC4tKCLgguMBiDwjKDNAgsNniDvpKDOvgpPNiDnfKDQLgpQjiEfFKERqgnSJiEeLKETGglTviEVBKFUiglVFiFUHKFWNgiWriFK9KFXpgiYBiGJzKGZMgfZniG+pGGaogfbNiG9vGGcFgdcjiH01GHdhgdeJiHz7GHfGgafviHpBGIgigahFiIoHGIiOgZiriIitbRiI6IGJAYiYYxiZRIGJZ4iYKRiZoIGJzYiWjxiaA4gqA3iv0hiqY4FqiYimGxiqz4Fa74il0Ri7K4FbRYi0hxi7hoFLq4i0TRi74oFMAYjEAxjMToE8Z4jDyRjMqoE8zYjDjxjNBoE9I4jSxRjdYIEtiYjR6xjdzIEd74jRoRjuKIEeRYjhZxjuhIEeq4jhLRju4IEfAYjx/oefT4iKV4j5KYj/pYifzYj5j4jwC5iQI5kJ5YkAYZigiZkKT4fwwZGPP4kAMRkRIZABQpkRf5kBnpQQEBACH5BAXIAAEALGIAAwDdA+YBAAj/AAMIHEiwoMGDCBMqXMiwocOHECNKnEixosWLGDNq3Mixo8ePIAn+W5VDQoAHIHL4gRdSYpgfMGEK/PGqpc2bOHPq3Mmzp8+fQIMKHUq0qNGjSIX2c4FwAUEeAYj8lACgalWBAMok3cq1q9evYMOKHUu2rNmzaAP8yxEAgAxT4ezl8vLA6UAbAaD6pCqjjN+/ytIKHky4sOHDiBMrXszY4r0BAKQW/HeNIF69PanG+ce5c+PPoEOLHk26tOnTYle1DZyQny0TAVQMzFXQ3p0lRtRUFhkY3r9oXoR42c1Qc2fPqJMrX868ufPn0MOOaitMIeuCBgb+i1KA4AAh/rSb/1Tzw/uShsb/qeUcvb379/Djy59vGp6AACDuJdRvIYCGgWoItFYABNgQRx8/FAAAZv+YFIAAMgwyiAxtbVEcAC7YYIIMXoSjHn0ghijiiCSWaCJG/1AYgAEmhDFLeAZdZlAiARRgC0GxCAAAaw1WqB0VBJ6zEFVWVTVAFCcmqeSSTDbppGj8yHDfQAe4UJNleU32nxCTMcWlWiYtAKNA/igAgIUKWQACFXrQYYQCbSHx5Jx01mnnnXje9BsVGnSH1Xl3ZUkQP5CBYpBW/4EZAF4F4QVbQv/ww55A/JAAwADR5Knpppx26mmd/uRyRHcA0CiQjARVBkACBMHZnQMCmv8EZEFIPgApcgLao+Csn/bq66/ABouaMgQEQEKgmAlUHQAJqdgjGAaFEQCsCB1n7T8auPWhsNx26+234Cb1D2x2LSroQOG0lalCPUpGkFT9VXttZyPEtm24+Oar7778SoRXuWyxJVICAATIrknHinSswAfN69mC9/Yr8cQUV5wnPMQNCuejASApm0hsLaDPwQEMkPE1kFUS0T9qVKWyxTDHLPPMIM4ygAuV5COgKf0B8HIAfayoiTv26BfAOQRbcN0/rchgao8n7XaNrbYqRIULo9gj0DVEQOYgzWCHLfbYoc0ykAAJKDCAQAIgORA/5a44G6sAKKDBA9kBELSiQhj/MIAEEqyNwLoJHWEVAQRc5UC6ZDfu+OOQg/WPMHwmsLYACshAW0H3bGGDB8YSdM8SDtw3gAIq3KGzompEY0KxBbiQMUK55OCAggAQYEEZ/ETu++/AB9/TP0ZXRHzD4wm4ekT8jCz889BHL724yU9v/fXYZ099AAZr7/334IfPUY/di2/++einL6ARAWii/vvwxy///PTXb//9+Oev//789+///wAMoAAHSMACGvCACEygAhfIwAY68IEQjKAEJ0jBClrwghjMoAY3yMEOevCDIAyhCEdIwhKa8IQoTKEKV8jCFrrwhTCMoQxnSMMa2vCGOMyhDnfIwx768IdADKIQ/4dIxCIa8YhITKISl8jEJjrxiVCMohSnSMUqWvGKWMyiFrfIxS568YtgDKMYx0jGMprxjGhMoxrXyMY2uvGNcIyjHOdIxzra8Y54zKMe98jHPvrxj4AMpCAHSchCGvKQiEykIhfJyEY68pGQjKQkJ0nJSlrykpjMpCY3yclOevKToAylKEdJylKa8pSoTKUqV8nKVrrylbCMpSxnScta2vKWuMylLnfJy1768pfADKYwh0nMYhrzmMhMpjKXycxmOvOZ0IymNKdJzWpa85rYzKY2t8nNbnrzm+AMpzjHSc5ymvOc6EynOtfJzna6853wjKc850nPetrznvjMpz73yf/PfvrznwANqEAHStCCGvSgCE2oQhfK0IY69KEQjahEJ0rRilr0ohjNqEY3ytGOevSjIA2pSEdK0pKa9KQoTalKV8rSlrr0pTCNqUxnStOa2vSmOM2pTnfK05769KdADapQh0rUohr1qEhNqlKXytSmOvWpUI2qVKdK1apa9apYzapWt8rVrnr1q2ANq1jHStaymvWsaE2rWtfK1ra69a1wjatc50rXutr1rnjNq173yte++vWvgA2sYAdL2MIa9rCITaxiF8vYxjr2sZCNrGQnS9nKWvaymM2sZjfL2c569rOgDa1oR0va0pr2tKhNrWpXy9rWuva1sI2tbGdL29r/2va2uM2tbnfL29769rfADa5wh0vc4hr3uMhNrnKXy9zmOve50I2udKdL3epa97rYza52t8vd7nr3u+ANr3jHS97ymve86E2vetfL3va6973wja9850vf+tr3vvjNr373y9/++ve/AA6wgAdM4AIb+MAITrCCF8zgBjv4wRCOsIQnTOEKW/jCGM6whjfM4Q57+MMgDrGIR0ziEpv4xChOsYpXzOIWu/jFMI6xjGdM4xrb+MY4zrGOd8zjHvv4x0AOspCHTOQiG/nISE6ykpfM5CY7+clQjrKUp0zlKlv5yljOspa3zOUupxEeYA6zmMX8xQmY+cxoRnMXx8zmMHux/81wjjOZvZjmOp95zXJ2M57zzGc9d9HOdt5znt/c50KXGdBpFrScCV1oPh8a0XfmoqEV3Wg4PxrSE6C0pTVd6TFfGtKcZjOjO73pP2PazKH2dKpJ/WlEr9rPWyT1oul86kxLus+jlrWqTX3qV4M517qG9RZrbetY49rXjW41oJEN7GCzhNa9vrWjkT1pXmOa2dQ+dheNwe1ue9vb2Ja2s4WtxW+bu9vhNva4yZ3Fc5873Vpc95y37e5vwzuL8mY3Futtb3HP2t/j/iK/wQ3wUqtb3gIfOLfvjcV8/9qLCl94wdvc7GAnXOEMv6LDn01vjE9c1NmedscHnnErbvziJP//+K4Pvm6U87vkVTw5xCMOcyrKvIvoyLnOd77zmk/x5lzkudB17nMpAn2LQx960aN4dC0mXehLh2LTs/h0nkf9iVPHYtV7rvJ5szzgXtw60buub5M7/Itiz/nVnZj1K6YdHWtvYtut+Pa4M3HuVaw72R++92SHPe12XyLeqaj3rxs83mf/u9gDr8TBT/EdkI+85CXP+CQ6XoqTz3zkK4/Ey0dR85rn/BE9D0XQZ170RiT9E00/edQXUfVOZD3l+15xXX9R9punfcgH7UXcQ971RIR9E33/DuAPUfhMJL7xhYj8JSpf932vNhefb3iK7/7f0/f98oPYfCVSH/Eirz7/mxdB/vKb3/xq/cfGL7/+9oc/hOePf/nT736EN6T++Af5COUvf/rn3+L393//V0L8F3/+J4CsFoAIWH8EWIDol1bqt4Cd5hASyIAk5IAPiFYRWIHSpxAc2H4NiIGLcIAfyHsMUYLd90AiSH4kiIKHlxAumG8hiIEtGIMr54E2CHb7t4I1mIN8txA+6Gwz6IA96IMUGIS2d4E8CIFIeIMw2IQJuIMiWIQ5eIRQWGlDWIBUaINWeIUd6GWI8YVg6C1iOIbcUoZmGCxomIa/soZs2Ctu+IaeEodyyCl0WIeacod4iCd6uId20od+SCeAGIhPMoiE2CSGeIhLkoiKmCSM99iIJvKIkEgikjiJIlKJlggimJiJ87GJnBgfnviJ7xGKotgepFiK0HGKqOgcqriKzNGKrqgcsBiLqDGLtFgf2naLi5iLuuiIvNiLkfiLwEiJwjiMl1iMxqiJyJiMnbiMzAiKzviMoxiN0miK1FiNqXiN2MiK2riNr9iN3iiL4BiOtTiO5IiL73eO1piO6piN7NiO3PiO8PiN8jiP4liP9liO+JiP6GiC/NgctviPYxGQAhkWBFmQX3GQCNkVCrmQW9GQDokUEBmRRjGRFEkUFnmRQpGRGgkUHNmRPvGRIMkTIjmSOlGSJokTKJmSNrGSLBkSLplDAQEAIfkEBcgAAQAscAADAN4D5gEACP8AAwgcSLCgwYMIEypcyLChw4cQI0qcSLGixYsYM2rcyLGjx48W+9FR8SCABBJHQPEDOfHfP39+SDLQEMAUy5s4c+rcybOnz59AgwodSrSo0aNIkyp9eM0BwhwEGQQAFfRfOAkGFyzdyrWr169gw4odS7as2bNoBfaTaiCKMHfnQAlJAHVgggCVgtpbACCBl1zKNC0Zkbaw4cOIEytezLix48cX/QCoadBfwbt5gcoIsOAc5M+gQ4seTbq06dNojQRQ8E+hZwQBwgyMVjBaGSNL/OQr6M9WgH5TqRiJc6/htcmaUCtfzry58+fQo6f9ESBB64RUDqoYeM+EAIIIBl3/D3BvsjAL4DMrXAJgwXjp8OPLn0+/vv3lcSZTsYxQWIADAdQVQHIB5CNVAkv0oYYKAAigXnkCtVVJHFgRkMtCHgAgwz+D2GBCDnrwd9+IJJZo4okopoiRPgoIpIANdETznl14GQSVA8UNxB5rAkE4wIUC+UOTBDMWpAAAR9A0EAAM0Kbik1BGKeWUVIYWzQOTDbTAD+FcViNB9xBAGUH83GUTeZPl8J4ykymjkAEAwCnDIKZsAdsCOVap55589unnnziZ8oMD30VIoECYFZQIAAWIOBAIAWzR42SDGNSiGgoVAAAANgz0jzADAJAdoKSWauqpqPLJTyUM/pdnogR5/xHAAC0SZMAAARAxaQD+FYQeEgol0KA7BP1jgkmpJqvsssw2y1wZk5VBo3oCZWdAQpiiGcA1BkEqhEIO9GVQFAHA5uy56Kar7rpeFRDgtAVh6t5CEJ5JkFOjIsSgVgVJei27AAcs8MAEW3QXDwO1SG0AuTTYpUIQZjsQP+4mohC0BDj6rlQFd+zxxyCjqow+BzUcgMRYxcGbVjYUCeZkD7ynRpy7JeQOAQCozB1sAobs889AB30fEggQkQt//MRxFwJ5biaBMMXVnMh3OeTJjx4arKRtADZorYm7Ryz0jxAAIGDTP/YcS4CTQrft9ttwhwasQAQokEChBtjLsJgDbf8nkBq4DiAVA7gGQLK2VABwgAUMTJa12P14EEDZC3w3QB9xZ6755pyLxY8mPDyAwGQDOGAEsQUpg4QLNJE7kDIyHBmAAQzkAMp1EJ4ziATfJYCE1gq55I8XDAgQpwq9dq788sw37xM/NVfkz+EF5R4k9RC9FL3z3Hfv/fdJWQ/++OSXb/5W4p+v/vrst99R+u7HL//89A+kz7F51q///vz37///AAygAAdIwAIa8IAITKACF8jABjrwgRCMoAQnSMEKWvCCGMygBjfIwQ568IMgDKEIR0jCEprwhChMoQpXyMIWuvCFMIyhDGdIwxra8IY4zKEOd8jDHvrwh0AMohD/h0jEIhrxiEhMohKXyMQmOvGJUIyiFKdIxSpa8YpYzKIWt8jFLnrxi2AMoxjHSMYymvGMaEyjGtfIxja68Y1wjKMc50jHOtrxjnjMox73yMc++vGPgAykIAdJyEIa8pCITKQiF8nIRjrykZCMpCQnSclKWvKSmMykJjfJyU568pOgDKUoR0nKUprylKhMpSpXycpWuvKVsIylLGdJy1ra8pa4zKUud8nLXvryl8AMpjCHScxiGvOYyEymMpfJzGY685nQjKY0p0nNalrzmtjMpja3yc1uevOb4AynOMdJznKa85zoTKc618nOdrrznfCMpzznSc962vOe+MynPvfJ/89++vOfAA2oQAdK0IIa9KAITahCF8rQhjr0oRCNqEQnStGKWvSiGM2oRjfK0Y569KMgDalIR0rSkpr0pChNqUpXytKWuvSlMI2pTGdK05ra9KY4zalOd8rTnvr0p0ANqlCHStSiGvWoSE2qUpfK1KY69alQjapUp0rVqlr1qljNqla3ytWuevWrYA2rWMdK1rKa9axoTata18rWtrr1rXCNq1znSte62vWueM2rXvfK17769a+ADaxgB0vYwhr2sIhNrGIXy9jGOvaxkI2sZCdL2cpa9rKYzaxmN8vZznr2s6ANrWhHS9rSmva0qE2talfL2ta69rWwja1sZ0vb2v/a9ra4za1ud8vb3vr2t8ANrnCHS9ziGve4yE2ucpfL3OY697nQja50p0vd6lr3utjNrna3y93ueve74A2veMdL3vKa97zoTa9618ve9rr3vfCNr3znS9/62ve++M2vfvfL3/76978ADrCAB0zgAhv4wAhOsIIXzOAGO/jBEI6whCdM4Qpb+MIYzrCGN8zhDnv4wyAOsYhHTOISm/jEKE6xilfM4ha7+MUwjrGMZ0zjGtv4xjjOsY53zOMe+/jHQA6ykIdM5CIb+chITrKSl8zkJjv5yVCOspSnTOUqW/nKWM6ylrfM5S57+ctgDrOYx0zmMpv5zGgWLjzWzOY2uzn/jROIs5znPGc0uvnObbYznvfM5zejkc6AlrOe+8zmQRP60Hn+c6ABbWhCNxrRh4bzoun8aD5XGtKWVvSkBX1GTF8a03iW9Kbj/Ok7lxrUiT7jqDltRk93GtWR1vSoT53qMsI61qpe9QRoXehX3zrTuV41r9c8bFCLeta+xrWtfw1sM+p618l2dLSZXesyPrvYxXZ1sJHdakhn29uy3jS2p01tYqPRGOhOt7rVPe5ul9vPZ1y3vNPd7mW/u9pknPe8603Ge8PbjPqWN7/H6G98jzHg6x64GAve63gjnN7k3vO3EZ3Gh0Pc3cruN8PhUXGLG0PhYdw4x8/tcZCDUeQd/7e4yb+IcpKrPOKhhjmzU/7wlXux5Q5/OcalvfN70xzhNu8izs2IjqIb/ehHDzoXh15GpDvd6ErfItPJ+PSnR12LUx9j1Z1+9SxmXYxbR3rXsfj1MIY96TL/t8YZnsazQz3tBg/5xtvudnSM/YplB2Pd7Q73htu74HR3+92tmPcv7n3wVSy8Fw/fd3P3/N2BPzviqaj4LjL+8RJvvLHR+I7Oe/7zn5/8FCvPRdCb3vOilyLpt3j606c+iqvXYutN/3ooxj6Lswd97Z94eyzmPvSan3jGyfh71Adf89o2Y/E7v3sn9v6Ky39H85v4fCtGf/pMrH4Vr398zFM7jdz3vv+pkQ/uM4b/7zxHv885v3zsLzH5aY6//OdP//rb//74z7/+98///vv//2q1CAI4gARYgGb1DyLnbx2RgOvXQwX4gAR4gAwIeRwxgeX2QxCYgRJogTNXgRz4axiYgQ+4gR8IawtYgiboQyI4gmWFgCiIaif4gvCnQytogC0og5u3ETg4gzlUgxF4gztIcR4YhOm3Qz44gCRIhM2WEUpYhDR4hIuQhE04fjo4hZnngFAohVbod0y4hVTIQ1AYhUDohXFXEWSodk94hFrohTF4hiOHhWo4hm7YhmcYgnFIVi7ohm+oEXroeADIGDz4h34SiILIJ4RYiHpyiIhIJYq4iFLn0oiOCCWQGIkqMomUiCKWeIkmkomaSCKc2In38YmgWB+iOIrzUYqmGB+omIrSsYqsCB2u+IrOEYuyyBy0WIvKcYu4eBq6uIul0Yu+OBrAGIyhMYzE+BnGeIyPkYzK2BjM2IyL8YzQmBjSOI2HUY3WWBjYmI1osY3caBbe+I1kEY7iKBbkWI5gcY7o6BXquI5c0Y7uuBTwGI9JMY/0eBT2eI9FkY/6OBT82I9B8Y8A+RMCOZA9UZAGuRMImZA5sZAMeRMO+ZAgEZES6REUWZFDOHwY6Yzlt5HL2JEeyZFCGJKOcZE9FBAAACH5BAXIAAEALH8AAwDdA+YBAAj/AAMIHEiwoMGDCBMqXMiwocOHECNKnEixosWLGDNq3Mixo8ePB/+ZyiEhwAMQOfzYAymx1Y+XMF8G+KGGpc2bOHPq3Mmzp8+fQIMKHUq0qNGjSJM25KcCIQOCOQIg+RkGgFWDAJoq3cq1q9evYMOKHUu2rNmzZ//ZCCBARqtw9HJtcfB0oIwAQn4KK8O3b5kfVgehHUy4sOHDiBMrXsy4MUt7A6Qa/Ffwbt6f/zJTFggYgT/HoEOLHk26tOnTqAmDCgAgmkJ9AUYEcJFLYG2C9u4sMaImXMF/ygKsVOZFCJhrDTVvDuAvAYDLqaNLn069uvXr2NFWYh08obCDCAb+/1tCgOCAIwT/PQgQJ4eAgQOiMNRMcJDV7tnz69/Pv7///9T5FgAJ+SS0UkkeDBSHQP/cRUAOcejBQwHPibceWzYMMogLAgDgxUL0aUYCABYAaOKJKKao4oossvSPCwIdoAIYuXxmkGUGCVbAbQKZIoAA3anH2ocMylfASgkpl9k5kcWxXItQRinllFRWeZo+dxGEgAyxVIbXbyVOlV5T6AUg5AIFNRcAGAop+Q8VABSgT2ZW1mnnnXjmqedP0VChQXkCAUAFQTgSpM8AAKxi0IcgMLheVF5qhZByAi0AgA307anpppx26umm/uRiRAGsaWLXlwQFB0ACBR1QXklmrv+3hUFLBADrpPStYlUsmX7q66/ABivsdcKUZ8Kp0NnGWkJrxRpATQXNeiGum8kAwFO9Dqvtttx2621YstUVQKEDIQcAcm2uJyZBPASgQZt05kPhrNl+a++9+OarL0Z3ibvWD2keAMCC6QZwbHoJtpukZmoAMIA7ZtK578QUV2xxsOegW5A+rEo6VZbircUAPwUTIKBA0SBq6sKZSQDAsZReLPPMNNfM4ioDuFAJbGaCUhIAowxERwAHgAJPAPcIFE54GuD3zyoybOesrQJe44Ct8wFnVSJK2uz112CHnZqiAgmQgAKRsTXoQPqgOVB4As3CKgALWPCAAQIJ5iwRBgz/IIEE7yXgGoj/tJuAPzGLrfjijDdO1j+5+JlAZAIoYAOPA92zhQyNHiyQPUg48N4ACqjQB89CxqEMCeUV4MLJIKqgARiJO2777bjnDpQ/SVv0T++/rUfwPwVOJLHuyCev/PJdpc7889BHLz1Yzk9v/fXYZ29T9dp37/334E+alynhl2/++einr/767Lfv/vvwxy///PTXb//9+Oev//789+///wAMoAAHSMACGvCACEygAhfIwAY68IEQjKAEJ0jBClrwghjMoAY3yMEOevCDIAyhCEdIwhKa8IQoTKEKV8jCFrrwhTCMoQxnSMMa2vCGOMyhDnfIwx768IdADKIQ/4dIxCIa8YhITKISl8jEJjrxiVCMohSnSMUqWvGKWMyiFrfIxS568YtgDKMYx0jGMprxjGhMoxrXyMY2uvGNcIyjHOdIxzra8Y54zKMe98jHPvrxj4AMpCAHSchCGvKQiEykIhfJyEY68pGQjKQkJ0nJSlrykpjMpCY3yclOevKToAylKEdJylKa8pSoTKUqV8nKVrrylbCMpSxnScta2vKWuMylLnfJy1768pfADKYwh0nMYhrzmMhMpjKXycxmOvOZ0IymNKdJzWpa85rYzKY2t8nNbnrzm+AMpzjHSc5ymvOc6EynOtfJzna6853wjKc850nPetrznvjMpz73yf/PfvrznwANqEAHStCCGvSgCE2oQhfK0IY69KEQjahEJ0rRilr0ohjNqEY3ytGOevSjIA2pSEdK0pKa9KQoTalKV8rSlrr0pTCNqUxnStOa2vSmOM2pTnfK05769KdADapQh0rUohr1qEhNqlKXytSmOvWpUI2qVKdK1apa9apYzapWt8rVrnr1q2ANq1jHStaymvWsaE2rWtfK1ra69a1wjatc50rXutr1rnjNq173yte++vWvgA2sYAdL2MIa9rCITaxiF8vYxjr2sZCNrGQnS9nKWvaymM2sZjfL2c569rOgDa1oR0va0pr2tKhNrWpXy9rWuva1sI2tbGdL29r/2va2uM2tbnfL29769rfADa5wh0vc4hr3uMhNrnKXy9zmOve50I2udKdL3epa97rYza52t8vd7nr3u+ANr3jHS97ymve86E2vetfL3va6973wja9850vf+tr3vvjNr373y9/++ve/AA6wgAdM4AIb+MAITrCCF8zgBjv4wRCOsIQnTOEKW/jCGM6whjfM4Q57+MMgDrGIR0ziEpv4xChOsYpXzOIWu/jFMI6xjGdM4xrb+MY4zrGOd8zjHvv4x0AOspCHTOQiG/nISE6ykpfM5CY7+clQjrKUp0zlfcHjyljOcparOIEue/nLX66ilseMZTGT+cxoLjMVwcxmL5s5/81XfjOc5xznNbeZzXJOc57prGc73znMVOTznvl8Zi7/GdBTFHSgCT1nQx+6y4Mmc6QZvWU/P3rSWsY0pY9m6UNrWs2J3jSaHX3pRTfa1KIeM6k9jeo+hzrVqu70nz9d51fDutJTfLSbWz1qXt961bP2taSFnWpg35nWnLb1rWstRV1DmtiZhvamq2iMalv72tdGNrIVPUVse9va2pY2pan9bW+HW9nLJne5sy1uZkdx2dHu9rrZje5Ct5vQ6p63Mc4tRXjjWor6Bve9t03nfM+b3+/2t7uhGPBqIxyKCl/4Exu+74Hfm9sAb/jDnxjxZGc84Bt3YscNvu6QN3HkVP+kuMmZiPIpouPlMI95zFe+xJZLUeY4hznNlWjzKOY85ztPYs+h+HOcBx2JQ39i0WV+9CMm3YlLn7nF6w3rKkZd51Pvd8StfnV0NN2IT29i172e9YQrnOtX/3oRw87EsaudiGxfotvLDvGtU3HuVI913kWN9qi/fYhxV+I7Bk/4whf+70IMfBINz3jCIz6Iikdi4xv/eCBG/oiTZ3zlf3h5I2be8Jv3YeeL+PnD053jdp9i6R1/epGnXoqrH3zoezh6Isb+HbPnYe2HePvc73D3Qux960/++igKf+//Nru/q3h8rZ8a+eOmYvOV72rnw7nK2M++9rfP/e57//vgD7//+MdP/vKb//zoT7/618/+9rv//fCPv/znT//62//+BVmE/vfPf/4T9R8dB3wXEYAFh0P9d4D7938EeHY+sYDXZ4AIeIAK6IDp1oAUaG83FIESOFQAeIFVZ4EeGG82pIH9N4EhOG0geIISJ0Mk6H8cqIIo2BMwCGoj2IL6Z4IzWIAymIM5ZIM3+II5iHE7EYQ96IM4GITVN4Q8CIE2eIRIiIE8QYRM2IJO+IR6F4VLmIFGCIRW2Gs7OINF2IRc2IXD9oUwGIZUOIZkKIJKCIb4pxhC+IYrEodymCJ0WIcncod4CCB6uIf+0Yd+yB+AGIj6MYiEmB2GeIjXkYiKWB2MkNiI0/GIkBgdkjiJqFGJlmgamJiJpLGJnCganviJoBGKotgYpFiKi3GKqJgYqriKh9GKrlgYsBiLgzGLtHgWtniLZZGLujgWvNiLYfGLwPgVwjiMXVGMxrgVyJiMSbGMzHgUzviMRRGN0jgU1FiNQXGN2PgT2riNZpiE3giHOhiOqTiO5MiK5niOr5iOXRQQAAAh+QQFyAABACyNAAMA3QPmAQAI/wADCBxIsKDBgwgTKlzIsKHDhxAjSpxIsaLFixgzatzIsaNHjP78uHgQQMIIIpX0fZz479+5KBoYMPAQBV7LlThz6tzJs6fPn0CDCh1KtKjRo0iTKl2a85wEhDIISjgwSOi/SgYMIlj1j6nXr2DDih1LtqzZs2jTql370N/TAkZyuTtn6ogCFwQdBOgjFJ4BAAsS3bM3SEEABPfYKl7MuLHjx5AjS55MGacmAAGqFvRXUC/foGUACIhGUFgAAHQqq17NurXr17Bjy15MJcCBrgnhBVgQgIotgaQJXlNzBMmdxAVzBeAXYBUVI2qQLyQCmGDLBACizN7Ovbv37+DDi/9XrL0A54RqDnoYmE8G5oEHUhMUECCWh/cBDPhhCAZAAuv//BXHeAQWaOCBCCao4HeaGXHeQcoE8J8NAyUiED9PJUDEHXG4t9d8AhFwRCJ3aADAAKMsFA4BAOwn0D9xAGCAPQvWaOONOOao444f+cOAQAnIEIcyuHX2YUFG7OYOQV74x5xA9AlgCkEmBMBAkQj5QcAAMqihhgsCFFAJj2SWaeaZaKa53TUaFKRADtcY+dlA/ByQ2Wa8aRYAfXgJR98rDCmzAACEWhmcmogmquiijDYqVCxEPDDAQAToGYBnBbVyYj4G4YXEQPQNaGRtCtHB4gMyyOAAAAW46OirsMb/KuussPKjiQz0FRDOQJgSlJoAhhFkwKQ5gBpAigWBEECxCYFCaHot/bOFaMrRau212GarrXh6YEbqpUcOVEYABSS0hbHVEoQXhQndR8KLN5lY5bb01mvvvfie9V+f4M4pEF8IYIkQfZYK1KYQCmFXW7RdGVFdvhBHLPHEFG/0Y1QCkXRHQdFgFuFC9H0rkD8IBCAfQtgdEQDDAfDwcMUwxyzzzNhGIx1B0dB3rkDKemEQSSoIbBB9CzwYgB8n6paQiQ/4E+1yg75L89RUV231jlscwMMs5/mjh2EGnDMQD5fmYo90pkwqw5IjDwLCrlAK5IJKAbxSMrMJ0UGoC/a0/3SOCYQWfPXghBduuGs7BzCAAv8JVICFAymT1UDrCXQHAXsyoIEDkwYA954BRCGAARasWtLNUBG6+AICEEr24bDHLvvsafkzihAkYTYAAz/EWdA1S7iwHsIDRZODApgVwIANlTxInzKaWDApAkLQzZAfGvwlIwiC0+799+CHD1Q/nFrkT/lDB/CxRfpYL/778Mcvf1jPz2///fjnX1b9+vfv//8A1An/AkjAAhrwgAmp0ucQyMAGOvCBEIygBCdIwQpa8IIYzKAGN8jBDnrwgyAMoQhHSMISmvCEKEyhClfIwha68IUwjKEMZ0jDGtrwhjjMoQ53yMMe+vCHQAyiEP+HSMQiGvGISEyiEpfIxCY68YlQjKIUp0jFKlrxiljMoha3yMUuevGLYAyjGMdIxjKa8YxoTKMa18jGNrrxjXCMoxznSMc62vGOeMyjHvfIxz768Y+ADKQgB0nIQhrykIhMpCIXychGOvKRkIykJCdJyUpa8pKYzKQmN8nJTnryk6AMpShHScpSmvKUqEylKlfJyla68pWwjKUsZ0nLWtrylrjMpS53ycte+vKXwAymMIdJzGIa85jITKYyl8nMZjrzmdCMpjSnSc1qWvOa2MymNrfJzW5685vgDKc4x0nOcprznOhMpzrXyc52uvOd8IynPOdJz3ra8574zKc+98n/z376858ADahAB0rQghr0oAhNqEIXytCGOvShEI2oRCdK0Ypa9KIYzahGN8rRjnr0oyANqUhHStKSmvSkKE2pSlfK0pa69KUwjalMZ0rTmtr0pjjNqU53ytOe+vSnQA2qUIdK1KIa9ahITapSl8rUpjr1qVCNqlSnStWqWvWqWM2qVrfK1a569atgDatYx0rWspr1rGhNq1rXyta2uvWtcI2rXOdK17ra9a54zate98rXvvr1r4ANrGAHS9jCGvawiE2sYhfL2MY69rGQjaxkJ0vZylr2spjNrGY3y9nOevazoA2taEdL2tKa9rSoTa1qV8va1rr2tbCNrWxnS9va/9r2trjNrW53y9ve+va3wA2ucIdL3OIa97jITa5yl8vc5jr3udCNrnSnS93qWve62M2udrfL3e5697vgDa94x0ve8pr3vOhNr3rXy972uve98I2vfOdL3/ra9774za9+98vf/vr3vwAOsIAHTOACG/jACE6wghfM4AY7+MEQjrCEJ0zhClv4whjOsIY3zOEOe/jDIA6xiEdM4hKb+MQoTrGKV8ziFrv4xTCOsYxnTOMa2/jGOM6xjnfM4x77+MdADrKQh0zkIhv5yEhOspKXzOQmO/nJUI6ylKdM5Spb+cpYzrKWt8zlLnv5y2AOs5jHTOYym/nMaE6zmtfM5ja7+f/NcI6znOdM5zrb+c54zrOe9zw4ePj5z4AGNB8nQOhCG9rQfAy0ov+c6EU7+tGM3uOhJ13oRkPaz5a+tKYxLWlKTzrTkAb1pkPdaU8jeo+jFvWoHT1oU59aj6lG9ao13WpXE1rVi8b1rAVdalvrOtC/3rXS9GjrSsua1scWdq577epgRxrWymY1s03tbE5DO9qKrrWvk03qa2Ob18Qu9gSqPew8fjvb0/Y0uckd63AXe93cPre2mx1vaXv73OXGozH2ze9+9xve95b3Hv1NcH4D3Nz4fnYeC17wg+Mx4QrXN8P97fA7QtzaC5/4v+u97IB/m48a37jHO45wiIM85Pv/rrgdL57vO6I85RxH98ijfXKUq7yOLK95yG9Ox5wP/OU8n6PP9fhyYwRdjkPPuM1jDmymC1vnGj96HJOOR3RY/epYx7rU4Uj1O2b961ff+hu7bkewg13sbiR7Hc3+dbS3Ue10ZHvW3c5GuM9R7lp3esQtfnE+4j3sesf4w/u+x79bne5rtLscDY8OxKtR8XFkvOPTCHk4Sj7wLV854fV4+Zk33fNPL7zhJ4/Gyr+x8yW/NLs3zcd3uP71sIc96c9oejfG/vavn70Za99G3ONe92XkPRt9f3vgk1H4ayR+7I0/RuSrUfmyx/zqka1H6Ode+phvdx6t73rmi9H5aeT+/zu8H0bwo1H85Aej+c+IfuyDftet5376v7h+M7b//YLnu8n3eP/Ud9v/j8ZnAjiABFiABniACJiACriADNiADviAEBiBEjiBFFiBFniBGJiBGriBHNiBHviBIBiCIjiCJFiCJniCKJiCKriCLNiCLviCMBiDOrEINFiDNmiDXfUPLFd/OcGDVnSDQFiDObiDm+cVPlhFQRiEQ0iECRcWR0hFSQiES8iEAvcVTzhFUXiDU0iF2OaERahGWYiDXKWDXPhxYHGFUhSGQjiGZWiGVviFaaSGNLiFbQh/ZwiHaCSHi0CHdbhqXrh/bKSHfNiHrHeHgLhGgsiGhGiHb3iIYKMoh4O4iP/HFGgYRYm4VWQoidpHiXh4RpeoVZmoidRnhJ0og2uxiaYYHqiYit+xiqzYHa74itsRi7IoG7RYi7Bxi7joGrq4i6zRi76oGsAYjJQxjMQoGcZ4jJCRjMroGMzYjIzxjNCoGNI4jadYiNbYGtWYjWixjdxoFt74jWQRjuIoFuRYjoaoeuhYjNi4jpFxju64FPAYj0kxj/R4FPbYRgEBACH5BAXIAAEALJsAAwDdA+YBAAj/AAMIHEiwoMGDCBMqXMiwocOHECNKnEixosWLGDNq3Mixo0eGMggK+XgRnsAFEmwI+0eypcuXMGPKnEmzps2bOHPq3Mmzp8+fQGG6S6iCoAYDfXCaOlBQwBaWQaNKnUq1qtWrWLNq3cq1q9eH/ywEIEAkwLkAq5AEKDrwQQA6N68xfQAqgDIkAgIMgvq1r9+/gAMLHky4sOHDH1cJ9GOQr0C3cG3mCHDAHsHJC/wh3sy5s+fPoEOLHu3XS4ACmhNaFhhllkBlCSMf1Bcg1sDVCxME4FEwHIAApkgLH068uPHjyJP33TJ2YZyDGgbSzjvQwHOCBNCCKJhUob+8ahCW/1VOvrz58+jTqy9eSeCPfgmjBVAQIKTAQQLhB0BAMK/s5gIZEYAeHgQggCbeCQCAGo79YwAAJKwn4YQUVmjhhRiS5IBDkBm0hEDhEFTGfrQJlF0ACA5U1AK5ASDEPzDC6A4AALiV4Y045qjjjjyOFuJB8hHUIUH+8McYQf8wEMCRzZlQ0DkDAKeQCwAgcE+M/yxBI4s9dunll2CGKaZNswhYEJMBDDlQLgbeY1BII5kYQHgFuRWFQsIQAIAFtvQTDhUCKMjlmIQWauihiBpqg4nXtPUWdwvZ11yKBDm5aEL/9DEAjQoCsIAMNSYq6qiklmqqckd++NijBIV34kFUDP+UnW0FhSTpQTBGw4MECkgQRT5snSrssMQWa+xW9AWr5n2UNZQdmgIVyBumMBqkW6zHZqvtttx2u5FbwUoQwHUDNRqAMAxldyeSutGJUIwFaQKAAOZ6a++9+OZ7rLnrBuAkcwWJ6+RC2SmgH7MB/PguvALl4wAAKjim78QUV2xxhWEEkEMsB/vBYgH1jqRkQa8I5MJZBdV7ogr5CGSLQJdiygMo+vzjjyYPVHmOxBf37PPPQH+WMUIE4DdQkANFt5hBJ6qMkI0LMUXZpgAksFLQWGet9dZeBScBAtQp1O8PBDU66KCynlvXQDy0zFAUEugpwAJIXMn13XjnrTdPbpL/lB26FuXjD897F2744YhH9XfijDfu+ONYLQ755JRXbvlLkl+u+eacd05UAPV6LvropJdu+umop6766qy37vrrsMcu++y012777bjnrvvuvPfu++/ABy/88MQXb/zxyCev/PLMN+/889BHL/301Fdv/fXYZ6/99tx37/334Icv/vjkl2/++einr/767Lfv/vvwxy///PTXb//9+Oev//789+///wAMoAAHSMACGvCACEygAhfIwAY68IEQjKAEJ0jBClrwghjMoAY3yMEOevCDIAyhCEdIwhKa8IQoTKEKV8jCFrrwhTCMoQxnSMMa2vCGOMyhDnfIwx768IdADKIQ/4dIxCIa8YhITKISl8jEJjrxiVCMohSnSMUqWvGKWMyiFrfIxS568YtgDKMYx0jGMprxjGhMoxrXyMY2uvGNcIyjHOdIxzra8Y54zKMe98jHPvrxj4AMpCAHSchCGvKQiEykIhfJyEY68pGQjKQkJ0nJSlrykpjMpCY3yclOevKToAylKEdJylKa8pSoTKUqV8nKVrrylbCMpSxnScta2vKWuMylLnfJy1768pfADKYwh0nMYhrzmMhMpjKXycxmOvOZ0IymNKdJzWpa85rYzKY2t8nNbnrzm+AMpzjHSc5ymvOc6EynOtfJzna6853wjKc850nPetrznvjMpz73yf/PfvrznwANqEAHStCCGvSgCE2oQhfK0IY69KEQjahEJ0rRilr0ohjNqEY3ytGOevSjIA2pSEdK0pKa9KQoTalKV8rSlrr0pTCNqUxnStOa2vSmOM2pTnfK05769KdADapQh0rUohr1qEhNqlKXytSmOvWpUI2qVKdK1apa9apYzapWt8rVrnr1q2ANq1jHStaymvWsaE2rWtfK1ra69a1wjatc50rXutr1rnjNq173yte++vWvgA2sYAdL2MIa9rCITaxiF8vYxjr2sZCNrGQnS9nKWvaymM2sZjfL2c569rOgDa1oR0va0pr2tKhNrWpXy9rWuva1sI2tbGdL29r/2va2uM2tbnfL29769rfADa5wh0vc4hr3uMhNrnKXy9zmOve50I2udKdL3epa97rYza52t8vd7nr3u+ANr3jHS97ymve86E2vetfL3va6973wja9850vf+tr3vvjNr373y9/++ve/AA6wgAdM4AIb+MAITrCCF8zgBjv4wRCO8N7gQeEKW9jCEpyAhjfMYQ5L8MIgrvCHQ0ziEos4gh1O8YZHbGIKs7jFMHYxilWc4heb2MYxvvGMaezhCOYYxzkmcYZ53GMI/tjHQYbxkImsYSCH2MlJxvCOmQzlC1c5yiaZMpGvfGIjY7nES6YykpU85i+DOMxbLrOOvWzmM2uZ/8dcljGb2yxlCDJ5xWoGc57pjGY47/nJfzZzn2kc5yzPmc5yfuCdmxxoKzcayxI0hqQnTWlKF7rQR4ZgpTc96Us/OsqR5vSmPX1oRIda1Jb+dKIdiGhHaxrVqS61kFUd5FPD2hikfmCr6/zAW3ea1piOsa1hnWtW73rVDfS1pIvdwGMjm4HKxjWwaZ3pXiub2Qx0tqGt7WtsL1Dbw0a1txUI7ghGe9wJLDcE0cHudrvb3ehGoLof+O56tzveB5y3A+1tb3wbUN8N5He9/V1AgDNQ4O8mOAENvkCEw3vasm6zBB1+b4jr2tkTpzg6FD5AhitQ4xu3uLGPnXGKc1yAHv9PIMhPHsCUI3DlIm82xiMI84i72eZfLrnDWQ5Alx/wHUAPutCFzvP/+dyAQ0960Ivuv6MXUOlKZ3r/nE5AqCdd6vyj+gCtPnSs70/rAuQ60WOe7ZlDUOxLJ/u3zf5AtAPd6/oDewDd/g6450/uAKS73fGH9//pXe3kZrsD/45zXo981xIk/MXJXHhQR1Dxh1/z4lss4cpb/vKYz7zmN8/5znv+86APvehHT/rSm/70qE+96lfP+ta7/vWwj73sZ0/72tv+9rjPve53z/ve+/73wA++8IdP/JdAXqrH12Dyobp8DDbfqc+3YPSZOn0KVl+p10+826+a/cdv36rdP/v/96sa/raPn6rlH/z5p5r+BrZ/qO9fYPyDOv8E1v+n9//5+pG/fw0u4v8AGIABWE7/oG19dxHXV20OJIAMCIAEaICCJxMJKGwR1IAN+IAQiHg2MYGM90AWyIAYmIGmtoH9dxAK2EAfKIAhKIISR4Jo5xAnyEApOIDkVIAsyGcuKHYwSIEQNIMOWIM3iIM1wYGUV4E+uAgrGISON4QlaBAxuEBHiIRAqIQ5l4Nct4MduIBHmIRU+ITG14QF4YUJFIVc2IVZKIFgSBBiiEBkOIVmWGtWaHVYWIQ9uIVu+IY8SBNEKHla6INliIezxoQv2BBrWHyGUYiGSBqImIiisYiMNAgajviInhGJksgZlFiJiHGJmHiIebiJwqGJnjgYoBiKgTGKpPgXpniKfZGKqugVrIhAAQEAIfkEBcgAAQAsqQADAN0D5gEACP8AAwgcSLCgwYMIEypcyLChw4cQI0qcSLGixYsYM2rcyLHjxGhENDBw4EGGmmv/UqpM6fHhNT9HfhgRuFJlAHhLLDCwsMRey59AgwodSrSo0aNIkypdyrSp06dQo0pVSmUAgKtYAQS4pzKOAQ//CNoUWgZB1gIBaqrMZTZrAmFT48qdS7eu3bt48+rdy7ev34h0rmpIdM2esjgeBHBNqQaAhLADxwYlAmCAAwkACqhNeS+B41z8cmFOoO+v6dOoU6tezbq169ewWzoA4MFf5JTXbAts/FgsS6G5XvELECfzSoJIAiS4N9Ce2Sixo0ufTr269evYs/f1JwBAHN+/A+T/MgLAga3ztvit5JeIipAtcNOqvJbr2k01RqjIly/5YHHN4QmkQABLQCYQEgAsoN2CDDbo4IMQRijhXvxcpQZ4BhaQFVbKqNRHAgFkZcJiKfEAgA1xEJCVCvpsltB//UVz1SwGBvDKVfZNqOOOPPbo449AYqdAgjny95saLgCgQBlMlrGYGt2ZUIYfUXimgT8qmeiAAB7ckchMAaiwWY0EwRjgIFdxRdA9V1US5JtwxinnnHTWiVEZVw3gARWatKgWbwX9c42K3w3kjlmFBmBimLoFoEl3gQZYpnEBhgGAAJJ2d6GdnHbq6aeghiodFSpiRcAIftQEqFiUaeAbGAC4/yqQiQOEY+A/JgCgAob+URoeFQAgIKlZW4hq7LHIJqvsskHBowYJbV1lApaMBdBbZA8AoN9tuQBgwEAmPhDeP42BCF6vANYUYgKSelYss/DGK++89BobjReeAbCEfLyNaxYCCgQcMAIGXNVPiQCYMK4mlzbKH7pGpuRFZZJaVUa9GGes8cYca5fPAgCYG0C/t6r4gAYopyyrev+Y6MK4tlw13G1kCvQfTSvpcVU+NeZzlR8dBy300EQXLRewADA3smPjenbHuQSZKGtkfgBAQKQ1E5fZQcJc1SFBXQOgjNFkl2322WhL1FjSNjN9Kwgn8gpuyIFGAcADWENskD8IBP8QRo0TJ+Bw2oQXbvjhyuZiUEpwi1xJguMGRkA0UM961SAE8TPkvjRnffPiNgTAQKP+MABADoinrvrqrAfJ5R3wDKRMkgBAl9Y1Wqlxjj33YOkPZgpoAtk/0fxABWQmCoDALALls+sB8Azfnz7oLWE1emPPp6IMpekjg9VFti7++OSXD5tbCmgokAosp6TChh3+c44EAiUggQT5/pAlAC6Y7oAFBRtAIsZEkG5t6CrWqskdumMAB2hoAEAznwQnSMEK0uUaZSCBAkqVABIMQi3+iEMOSIAy+6SkH2qwgIoEkAAPlOEc+9uKDcwyAA3YgoAEiYbKdpgDdcUCBCoiAAj/bGHBIhrxiEgsSu8iBZF8DA5hoROIPqh1q4lIqnlJzKIWt8jFqJgoijTrohjHSMYy2uWLeTOjGtfIxjb+BI2Vc6Mc50jHOhYkDibYVBjtyMc++vGPgAykIAdJyEIa8pCITKQiF8nIRjrykZCMpCQnSclKWvKSmMykJjfJyU568pOgDKUoR0nKUprylKhMpSpXycpWuvKVsIylLGdJy1ra8pa4zKUud8nLXvryl8AMpjCHScxiGvOYyEymMpfJzGY685nQjKY0p0nNalrzmtjMpja3yc1uevOb4AynOMdJznKa85zoTKc618nOdrrznfCMpzznSc962vOe+MynPvfJ/89++vOfAA2oQAdK0IIa9KAITahCF8rQhjr0oRCNqEQnStGKWvSiGM2oRjfK0Y569KMgDalIR0rSkpr0pChNqUpXytKWuvSlMI2pTGdK05ra9KY4zalOd8rTnvr0p0ANqlCHStSiGvWoSE2qUpfK1KY69alQjapUp0rVqlr1qljNqla3ytWuevWrYA2rWMdK1rKa9axoTata18rWtrr1rXCNq1znSte62vWueM2rXvfK17769a+ADaxgB0vYwhr2sIhNrGIXy9jGOvaxkI2sZCdL2cpa9rKYzaxmN8vZznr2s6ANrWhHS9rSmva0qE2talfL2ta69rWwja1sZ0vb2v/a9ra4za1ud8vb3vr2t8ANrnCHS9ziGve4yE2ucpfL3OY697nQja50p0vd6lr3utjNrna3y93ueve74A2veMdL3vKa97zoTa9618ve9rr3vfCNr3znS9/62ve++M2vfvfL3/76978ADrCAB0zgAhv4wAhOsIIXzOAGO/jBEI6whCdM4Qpb+MIYzrCGN8zhDnv4wyAOsYhHTOISm/jEKE6xilfM4ha7+MUwjrGMZ0zjGtv4xjjOsY53zOMe+/jHQA6ykIdM5CIb+chITrKSl8zkJjv5yVCOspSnTOUqW/nKWM6ylrfM5S57+ctgDrOYx0zmMpv5zGhOs5rXzOY2u/n/zXCOs5znTOc62/nOeM6znvfM5z77+c+ADrSgB03oQhv60IhOtKIXzehGO/rRkI60pCdN6Upb+tKYzrSmN83pTnv606AOtahHTepSm/rUqE61qlfN6la7+tWwjrWsZ03rWtv61rjOta53zete+/rXwA62sIdN7GIb+9jITrayl83sZjv72dCOtrSnTe1qW/va2M62trfN7W57+9vgDre4x03ucpv73OhOt7rXnW54uPvd8IZ3OydA73rb297tjLe+353vffv73/xm570HXu9+A9zdBj+4whEucIIPPOEAh/jCI95wh+ObnROX+MT9PW+LX3ydGcf4xhXecY/TW+P7/0b5yOVdcZOrPN4vX3nsWu7xmAcc5DL/d8ldLnKS9zzn+t55zX9OcZwDPeg0t7jNGW70o7N8nSYvONF1PnWnC13pVU951oF+dYcvfeZNdzrT1Rn1k28d5meXeTuNwfa2u93tX/96yNf59rq3Pe5pX/na7V53vIdd7HvnO9zzPvZ0ih3tdBf84P/OccJvPPCKN4bf1Xn4p6sz8nd3vNwXDnnFT97wlS88OjHP9s+jM/SiPyfpJa95x8/98qQ3/TlRD3bYY1725qR95wWP+3Lqnp2r7z05f79OdBj/+MhHvvDHSXx1Jv/5x1++OJufTuhDX/rhpD46rf987INT++fkfv/yvf9N8JtT/MpvPeOP3k70R1/9lEd9+92PDvJ70/zlpH/94Q/60M/f/fbXTfhHTvoXgNw0gONUgPx3evLHTgq4fkgHgTn3f+hngNuEgOL0Dhq4gRzIgRaoTRgYTh04ghv4gdkUguBEgiRogtiEgt+kgiPIgtfkgt4Egx0og9ZEg91kgx64gLPXgOvEgyXog7kHhOokhBqIg9Wkg9yEhO+ghNTEhNvkhFA4TVKoTVRIhL5nhOmUhRJoef1Xee3khfHnc1+od+xEhmFYdGV4cOz2hnAYh3I4h3RYh3Z4h3iYh3q4h3zYh374h4AYiII4iIRYiIZ4iIiYiIq4iIzYiI7/WBRq2GKRWE+TuGKVOE+XmGKZGE+beGKd+E6fWGKhOIZIKGOjmIalGGOnGISpCGOreISt+GKv2IWx6GKziE636GG5aE67yGG9SE6/qGHBmIG1KInFWE/akIzKuIzLKGPM+IzKuE/QCI3OOI3MKI3W2Iwxlo3amE/cGI3b+I3agI3fWI3lqE/iOI7heI7eKI7myI3kCI/rKI/tyI4vlo7xmI3vqI/o6I7zyI/1SI/36I8BCZADaY/3hI//aI37hAMO+ZAQCZEyFpEU+ZANWZEUOZEYGZEXuZEWGWMeKZH6FJIfCWMk6ZAdGZIaSZIp6ZErqZIjeZIv6ZIxyZIgKZM1/wmTJomT+XSSODCTG9mSQXmTNtmTPPliPimUGAmUS5mTNLmTRYlPvKALU1mVVHmVUylb/0B7V5gQTpiOSYlQVjmWWKkLWsmVXIgRXymOYXlQZPmWZhlbW4mWYsgRa/mNbWlQcEmWZ0mXh9cRd8mNeVlQe1mWfemXVmeXSAiWR0mYZQmXh4mYXKeYQsiYUemYhZmVcimZibkRgZmNg0lQmXmVkcmZaOiZi8mWjSmaj9mapWmaj0eZPGiZOqmXrcmXmwmbaiebNkibT2mbo/maummGGvGZ1hiaAzWamglbczmcsYmalamal8mawZmbzvl6GWGc04icAqWcccmc1/mcxQmZmni5mgMVEAAAIfkEBcgAAQAsEwUfAwEAAQAACAQAAwQEADs=\" />"
      ],
      "text/plain": [
       "Plots.AnimatedGif(\"/home/tisaac/srv/rep/22-course-cse6643/mybinder/tmp.gif\")"
      ]
     },
     "execution_count": 24,
     "metadata": {},
     "output_type": "execute_result"
    }
   ],
   "source": [
    "m = 10; n = 10;\n",
    "M = kahan(m, θ)\n",
    "M_p = copy(M[:,:])\n",
    "rot = [cos(ϕ) sin(ϕ); -sin(ϕ) cos(ϕ)]\n",
    "M_p[1:2,:] = rot * M[1:2,:]\n",
    "Q̂ = copy(M_p)\n",
    "R̂ = zeros(n, n)\n",
    "r_scale = maximum(abs.(qr(M_p).R))\n",
    "anim = Animation()\n",
    "function step_plot(A,Q̂,R̂,j)\n",
    "    Q_plot = imshow(Q̂,(-1,1))\n",
    "    plot!(Q_plot,title=\"Q\")\n",
    "    ortho_plot = imshow(Q̂' * Q̂)\n",
    "    plot!(ortho_plot,title=\"Q'Q\")\n",
    "    recon_plot = imshow(M_p - Q̂ * R̂,(-1,1))\n",
    "    plot!(recon_plot,title=\"M_p - QR\")\n",
    "    R_plot = imshow(R̂,(-r_scale,r_scale))\n",
    "    plot!(R_plot,title=\"R\")\n",
    "    return plot(Q_plot, R_plot, ortho_plot, recon_plot, layout=(1,4), size=(1300,800), plot_title=\"Step $j\")\n",
    "end\n",
    "frame(anim,step_plot(M_p,Q̂,R̂,0))\n",
    "for j in 1:n\n",
    "    # Compute coefficients of aⱼ in Q̂[:,1:j-1] basis\n",
    "    R̂[1:j-1,j] = Q̂[:,1:j-1]' * Q̂[:,j]\n",
    "    # Project Q̂[:,1:j-1] components out of Q̂[:,j]\n",
    "    Q̂[:,j] -= Q̂[:,1:j-1] * R̂[1:j-1,j]\n",
    "    # Normalize\n",
    "    R̂[j,j] = norm(Q̂[:,j])\n",
    "    Q̂[:,j] /= R̂[j,j]\n",
    "    frame(anim,step_plot(M_p,Q̂,R̂,j))\n",
    "end\n",
    "frame(anim,step_plot(M_p,Q̂,R̂,n))\n",
    "gif(anim,fps=0.5)"
   ]
  },
  {
   "cell_type": "markdown",
   "id": "fa9d4544",
   "metadata": {
    "slideshow": {
     "slide_type": "subslide"
    }
   },
   "source": [
    "### What happens in the last column of the perturbed Kahan matrix?\n",
    "\n",
    "$$ \\tilde{q}_m \\gets (I - P_{1:m-1}) a_m = a_m - q_1 q_1^* a_m - q_2 q_2^* a_m - \\dots $$"
   ]
  },
  {
   "cell_type": "markdown",
   "id": "78568248",
   "metadata": {
    "slideshow": {
     "slide_type": "fragment"
    }
   },
   "source": [
    "- In exact arithmetic, $\\|\\tilde{q}_m\\|_2$ is very small: $\\sin(\\theta)^{m-1} \\approx 6 \\cdot 10^{-8}$ "
   ]
  },
  {
   "cell_type": "markdown",
   "id": "8304b0ea",
   "metadata": {
    "slideshow": {
     "slide_type": "fragment"
    }
   },
   "source": [
    "- Consider just the first projection:\n",
    "\n",
    "$$s_1 = a_m - q_1 (q_1^* a_m)$$\n",
    "  \n",
    "- In the presence of rounding error, a perturbed vector $\\hat s_1 = s_1 + \\delta_1$ is computed with error $\\delta_1$"
   ]
  },
  {
   "cell_type": "markdown",
   "id": "40b0524e",
   "metadata": {
    "slideshow": {
     "slide_type": "fragment"
    }
   },
   "source": [
    "- Later on in the class we will see that $\\|\\delta_1\\|$ is proportional to $\\epsilon\\|a_m\\|$, where $\\epsilon \\approx 10^{-16}$"
   ]
  },
  {
   "cell_type": "markdown",
   "id": "59ed3ebc",
   "metadata": {
    "slideshow": {
     "slide_type": "subslide"
    }
   },
   "source": [
    "### The accumulation of roundoff errors has swamped the result\n",
    "\n",
    "- There were similar small but growing errors in the previous $q_j$s.  Instead of calculating $\\tilde{q}_m$, we have calculated\n",
    "\n",
    "$$\\tilde{q}_m + \\delta_1 + \\delta_2 + \\dots + \\delta_{m-1}.$$"
   ]
  },
  {
   "cell_type": "markdown",
   "id": "0647c9e2",
   "metadata": {
    "slideshow": {
     "slide_type": "fragment"
    }
   },
   "source": [
    "- The errors are as big as the desired quantity, \n",
    "\n",
    "$$\\|\\tilde{q}_m\\| \\approx \\|\\delta_1 + \\delta_2 + \\dots + \\delta_{m-1}\\|.$$"
   ]
  },
  {
   "cell_type": "markdown",
   "id": "a77012a2",
   "metadata": {
    "slideshow": {
     "slide_type": "fragment"
    }
   },
   "source": [
    "- When we then normalize, $q_m \\gets \\tilde{q}_m / \\|\\tilde{q}_m\\|$, the errors are magnified from $\\sim 10^{-8}$ to $\\sim 10^{0}$: catastrophe!"
   ]
  },
  {
   "cell_type": "code",
   "execution_count": 62,
   "id": "1b5e70a3",
   "metadata": {
    "hideCode": true,
    "scrolled": false,
    "slideshow": {
     "slide_type": "subslide"
    }
   },
   "outputs": [
    {
     "data": {
      "image/svg+xml": [
       "<?xml version=\"1.0\" encoding=\"utf-8\"?>\n",
       "<svg xmlns=\"http://www.w3.org/2000/svg\" xmlns:xlink=\"http://www.w3.org/1999/xlink\" width=\"1300\" height=\"800\" viewBox=\"0 0 5200 3200\">\n",
       "<defs>\n",
       "  <clipPath id=\"clip960\">\n",
       "    <rect x=\"0\" y=\"0\" width=\"5200\" height=\"3200\"/>\n",
       "  </clipPath>\n",
       "</defs>\n",
       "<path clip-path=\"url(#clip960)\" d=\"\n",
       "M0 3200 L5200 3200 L5200 0 L0 0  Z\n",
       "  \" fill=\"#ffffff\" fill-rule=\"evenodd\" fill-opacity=\"1\"/>\n",
       "<defs>\n",
       "  <clipPath id=\"clip961\">\n",
       "    <rect x=\"1040\" y=\"0\" width=\"3641\" height=\"3200\"/>\n",
       "  </clipPath>\n",
       "</defs>\n",
       "<path clip-path=\"url(#clip960)\" d=\"\n",
       "M241.607 3013.49 L2552.76 3013.49 L2552.76 118.82 L241.607 118.82  Z\n",
       "  \" fill=\"#ffffff\" fill-rule=\"evenodd\" fill-opacity=\"1\"/>\n",
       "<defs>\n",
       "  <clipPath id=\"clip962\">\n",
       "    <rect x=\"241\" y=\"118\" width=\"2312\" height=\"2896\"/>\n",
       "  </clipPath>\n",
       "</defs>\n",
       "<polyline clip-path=\"url(#clip962)\" style=\"stroke:#000000; stroke-linecap:butt; stroke-linejoin:round; stroke-width:2; stroke-opacity:0.1; fill:none\" points=\"\n",
       "  445.298,3013.49 445.298,118.82 \n",
       "  \"/>\n",
       "<polyline clip-path=\"url(#clip962)\" style=\"stroke:#000000; stroke-linecap:butt; stroke-linejoin:round; stroke-width:2; stroke-opacity:0.1; fill:none\" points=\"\n",
       "  825.837,3013.49 825.837,118.82 \n",
       "  \"/>\n",
       "<polyline clip-path=\"url(#clip962)\" style=\"stroke:#000000; stroke-linecap:butt; stroke-linejoin:round; stroke-width:2; stroke-opacity:0.1; fill:none\" points=\"\n",
       "  1206.38,3013.49 1206.38,118.82 \n",
       "  \"/>\n",
       "<polyline clip-path=\"url(#clip962)\" style=\"stroke:#000000; stroke-linecap:butt; stroke-linejoin:round; stroke-width:2; stroke-opacity:0.1; fill:none\" points=\"\n",
       "  1586.92,3013.49 1586.92,118.82 \n",
       "  \"/>\n",
       "<polyline clip-path=\"url(#clip962)\" style=\"stroke:#000000; stroke-linecap:butt; stroke-linejoin:round; stroke-width:2; stroke-opacity:0.1; fill:none\" points=\"\n",
       "  1967.45,3013.49 1967.45,118.82 \n",
       "  \"/>\n",
       "<polyline clip-path=\"url(#clip962)\" style=\"stroke:#000000; stroke-linecap:butt; stroke-linejoin:round; stroke-width:2; stroke-opacity:0.1; fill:none\" points=\"\n",
       "  2347.99,3013.49 2347.99,118.82 \n",
       "  \"/>\n",
       "<polyline clip-path=\"url(#clip960)\" style=\"stroke:#000000; stroke-linecap:butt; stroke-linejoin:round; stroke-width:4; stroke-opacity:1; fill:none\" points=\"\n",
       "  241.607,3013.49 2552.76,3013.49 \n",
       "  \"/>\n",
       "<polyline clip-path=\"url(#clip960)\" style=\"stroke:#000000; stroke-linecap:butt; stroke-linejoin:round; stroke-width:4; stroke-opacity:1; fill:none\" points=\"\n",
       "  445.298,3013.49 445.298,2994.6 \n",
       "  \"/>\n",
       "<polyline clip-path=\"url(#clip960)\" style=\"stroke:#000000; stroke-linecap:butt; stroke-linejoin:round; stroke-width:4; stroke-opacity:1; fill:none\" points=\"\n",
       "  825.837,3013.49 825.837,2994.6 \n",
       "  \"/>\n",
       "<polyline clip-path=\"url(#clip960)\" style=\"stroke:#000000; stroke-linecap:butt; stroke-linejoin:round; stroke-width:4; stroke-opacity:1; fill:none\" points=\"\n",
       "  1206.38,3013.49 1206.38,2994.6 \n",
       "  \"/>\n",
       "<polyline clip-path=\"url(#clip960)\" style=\"stroke:#000000; stroke-linecap:butt; stroke-linejoin:round; stroke-width:4; stroke-opacity:1; fill:none\" points=\"\n",
       "  1586.92,3013.49 1586.92,2994.6 \n",
       "  \"/>\n",
       "<polyline clip-path=\"url(#clip960)\" style=\"stroke:#000000; stroke-linecap:butt; stroke-linejoin:round; stroke-width:4; stroke-opacity:1; fill:none\" points=\"\n",
       "  1967.45,3013.49 1967.45,2994.6 \n",
       "  \"/>\n",
       "<polyline clip-path=\"url(#clip960)\" style=\"stroke:#000000; stroke-linecap:butt; stroke-linejoin:round; stroke-width:4; stroke-opacity:1; fill:none\" points=\"\n",
       "  2347.99,3013.49 2347.99,2994.6 \n",
       "  \"/>\n",
       "<path clip-path=\"url(#clip960)\" d=\"M435.68 3094.36 L443.319 3094.36 L443.319 3067.99 L435.008 3069.66 L435.008 3065.4 L443.272 3063.73 L447.948 3063.73 L447.948 3094.36 L455.587 3094.36 L455.587 3098.29 L435.68 3098.29 L435.68 3094.36 Z\" fill=\"#000000\" fill-rule=\"evenodd\" fill-opacity=\"1\" /><path clip-path=\"url(#clip960)\" d=\"M820.49 3094.36 L836.809 3094.36 L836.809 3098.29 L814.865 3098.29 L814.865 3094.36 Q817.527 3091.6 822.11 3086.97 Q826.717 3082.32 827.897 3080.98 Q830.142 3078.46 831.022 3076.72 Q831.925 3074.96 831.925 3073.27 Q831.925 3070.52 829.98 3068.78 Q828.059 3067.04 824.957 3067.04 Q822.758 3067.04 820.305 3067.81 Q817.874 3068.57 815.096 3070.12 L815.096 3065.4 Q817.92 3064.27 820.374 3063.69 Q822.828 3063.11 824.865 3063.11 Q830.235 3063.11 833.429 3065.79 Q836.624 3068.48 836.624 3072.97 Q836.624 3075.1 835.814 3077.02 Q835.027 3078.92 832.92 3081.51 Q832.341 3082.18 829.24 3085.4 Q826.138 3088.59 820.49 3094.36 Z\" fill=\"#000000\" fill-rule=\"evenodd\" fill-opacity=\"1\" /><path clip-path=\"url(#clip960)\" d=\"M1210.62 3079.66 Q1213.98 3080.38 1215.86 3082.65 Q1217.75 3084.91 1217.75 3088.25 Q1217.75 3093.36 1214.23 3096.16 Q1210.72 3098.96 1204.23 3098.96 Q1202.06 3098.96 1199.74 3098.53 Q1197.45 3098.11 1195 3097.25 L1195 3092.74 Q1196.94 3093.87 1199.26 3094.45 Q1201.57 3095.03 1204.1 3095.03 Q1208.49 3095.03 1210.79 3093.29 Q1213.1 3091.56 1213.1 3088.25 Q1213.1 3085.19 1210.95 3083.48 Q1208.82 3081.74 1205 3081.74 L1200.97 3081.74 L1200.97 3077.9 L1205.18 3077.9 Q1208.63 3077.9 1210.46 3076.53 Q1212.29 3075.15 1212.29 3072.55 Q1212.29 3069.89 1210.39 3068.48 Q1208.52 3067.04 1205 3067.04 Q1203.08 3067.04 1200.88 3067.46 Q1198.68 3067.88 1196.04 3068.76 L1196.04 3064.59 Q1198.7 3063.85 1201.02 3063.48 Q1203.36 3063.11 1205.42 3063.11 Q1210.74 3063.11 1213.84 3065.54 Q1216.94 3067.95 1216.94 3072.07 Q1216.94 3074.94 1215.3 3076.93 Q1213.66 3078.9 1210.62 3079.66 Z\" fill=\"#000000\" fill-rule=\"evenodd\" fill-opacity=\"1\" /><path clip-path=\"url(#clip960)\" d=\"M1589.92 3067.81 L1578.12 3086.26 L1589.92 3086.26 L1589.92 3067.81 M1588.7 3063.73 L1594.58 3063.73 L1594.58 3086.26 L1599.51 3086.26 L1599.51 3090.15 L1594.58 3090.15 L1594.58 3098.29 L1589.92 3098.29 L1589.92 3090.15 L1574.32 3090.15 L1574.32 3085.63 L1588.7 3063.73 Z\" fill=\"#000000\" fill-rule=\"evenodd\" fill-opacity=\"1\" /><path clip-path=\"url(#clip960)\" d=\"M1957.73 3063.73 L1976.09 3063.73 L1976.09 3067.67 L1962.01 3067.67 L1962.01 3076.14 Q1963.03 3075.79 1964.05 3075.63 Q1965.07 3075.45 1966.09 3075.45 Q1971.88 3075.45 1975.26 3078.62 Q1978.63 3081.79 1978.63 3087.21 Q1978.63 3092.78 1975.16 3095.89 Q1971.69 3098.96 1965.37 3098.96 Q1963.2 3098.96 1960.93 3098.59 Q1958.68 3098.22 1956.27 3097.48 L1956.27 3092.78 Q1958.36 3093.92 1960.58 3094.47 Q1962.8 3095.03 1965.28 3095.03 Q1969.28 3095.03 1971.62 3092.92 Q1973.96 3090.82 1973.96 3087.21 Q1973.96 3083.59 1971.62 3081.49 Q1969.28 3079.38 1965.28 3079.38 Q1963.4 3079.38 1961.53 3079.8 Q1959.68 3080.22 1957.73 3081.09 L1957.73 3063.73 Z\" fill=\"#000000\" fill-rule=\"evenodd\" fill-opacity=\"1\" /><path clip-path=\"url(#clip960)\" d=\"M2348.4 3079.15 Q2345.25 3079.15 2343.4 3081.3 Q2341.57 3083.46 2341.57 3087.21 Q2341.57 3090.93 2343.4 3093.11 Q2345.25 3095.26 2348.4 3095.26 Q2351.55 3095.26 2353.38 3093.11 Q2355.23 3090.93 2355.23 3087.21 Q2355.23 3083.46 2353.38 3081.3 Q2351.55 3079.15 2348.4 3079.15 M2357.68 3064.5 L2357.68 3068.76 Q2355.92 3067.92 2354.12 3067.48 Q2352.33 3067.04 2350.57 3067.04 Q2345.94 3067.04 2343.49 3070.17 Q2341.06 3073.29 2340.71 3079.61 Q2342.08 3077.6 2344.14 3076.53 Q2346.2 3075.45 2348.68 3075.45 Q2353.88 3075.45 2356.89 3078.62 Q2359.93 3081.77 2359.93 3087.21 Q2359.93 3092.53 2356.78 3095.75 Q2353.63 3098.96 2348.4 3098.96 Q2342.4 3098.96 2339.23 3094.38 Q2336.06 3089.78 2336.06 3081.05 Q2336.06 3072.85 2339.95 3067.99 Q2343.84 3063.11 2350.39 3063.11 Q2352.15 3063.11 2353.93 3063.46 Q2355.74 3063.8 2357.68 3064.5 Z\" fill=\"#000000\" fill-rule=\"evenodd\" fill-opacity=\"1\" /><path clip-path=\"url(#clip960)\" d=\"M1122.93 3152.84 L1129.36 3152.84 L1129.36 3172.92 L1150.69 3152.84 L1158.96 3152.84 L1135.38 3174.99 L1160.65 3200.36 L1152.18 3200.36 L1129.36 3177.47 L1129.36 3200.36 L1122.93 3200.36 L1122.93 3152.84 Z\" fill=\"#000000\" fill-rule=\"evenodd\" fill-opacity=\"1\" /><path clip-path=\"url(#clip960)\" d=\"M1180.48 3182.44 Q1173.38 3182.44 1170.64 3184.06 Q1167.9 3185.68 1167.9 3189.6 Q1167.9 3192.72 1169.94 3194.56 Q1172.01 3196.38 1175.54 3196.38 Q1180.41 3196.38 1183.34 3192.94 Q1186.3 3189.47 1186.3 3183.74 L1186.3 3182.44 L1180.48 3182.44 M1192.16 3180.02 L1192.16 3200.36 L1186.3 3200.36 L1186.3 3194.95 Q1184.3 3198.19 1181.3 3199.75 Q1178.31 3201.28 1173.98 3201.28 Q1168.51 3201.28 1165.26 3198.23 Q1162.05 3195.14 1162.05 3189.98 Q1162.05 3183.97 1166.06 3180.91 Q1170.1 3177.85 1178.09 3177.85 L1186.3 3177.85 L1186.3 3177.28 Q1186.3 3173.24 1183.63 3171.04 Q1180.99 3168.82 1176.18 3168.82 Q1173.12 3168.82 1170.23 3169.55 Q1167.33 3170.28 1164.66 3171.74 L1164.66 3166.33 Q1167.87 3165.09 1170.9 3164.49 Q1173.92 3163.85 1176.79 3163.85 Q1184.52 3163.85 1188.34 3167.86 Q1192.16 3171.87 1192.16 3180.02 Z\" fill=\"#000000\" fill-rule=\"evenodd\" fill-opacity=\"1\" /><path clip-path=\"url(#clip960)\" d=\"M1233.85 3178.84 L1233.85 3200.36 L1228 3200.36 L1228 3179.03 Q1228 3173.97 1226.02 3171.46 Q1224.05 3168.94 1220.1 3168.94 Q1215.36 3168.94 1212.62 3171.97 Q1209.89 3174.99 1209.89 3180.21 L1209.89 3200.36 L1204 3200.36 L1204 3150.83 L1209.89 3150.83 L1209.89 3170.25 Q1211.99 3167.03 1214.82 3165.44 Q1217.68 3163.85 1221.41 3163.85 Q1227.55 3163.85 1230.7 3167.67 Q1233.85 3171.46 1233.85 3178.84 Z\" fill=\"#000000\" fill-rule=\"evenodd\" fill-opacity=\"1\" /><path clip-path=\"url(#clip960)\" d=\"M1261.74 3182.44 Q1254.64 3182.44 1251.9 3184.06 Q1249.16 3185.68 1249.16 3189.6 Q1249.16 3192.72 1251.2 3194.56 Q1253.27 3196.38 1256.8 3196.38 Q1261.67 3196.38 1264.6 3192.94 Q1267.56 3189.47 1267.56 3183.74 L1267.56 3182.44 L1261.74 3182.44 M1273.42 3180.02 L1273.42 3200.36 L1267.56 3200.36 L1267.56 3194.95 Q1265.55 3198.19 1262.56 3199.75 Q1259.57 3201.28 1255.24 3201.28 Q1249.77 3201.28 1246.52 3198.23 Q1243.31 3195.14 1243.31 3189.98 Q1243.31 3183.97 1247.32 3180.91 Q1251.36 3177.85 1259.35 3177.85 L1267.56 3177.85 L1267.56 3177.28 Q1267.56 3173.24 1264.89 3171.04 Q1262.24 3168.82 1257.44 3168.82 Q1254.38 3168.82 1251.49 3169.55 Q1248.59 3170.28 1245.92 3171.74 L1245.92 3166.33 Q1249.13 3165.09 1252.15 3164.49 Q1255.18 3163.85 1258.04 3163.85 Q1265.78 3163.85 1269.6 3167.86 Q1273.42 3171.87 1273.42 3180.02 Z\" fill=\"#000000\" fill-rule=\"evenodd\" fill-opacity=\"1\" /><path clip-path=\"url(#clip960)\" d=\"M1315.11 3178.84 L1315.11 3200.36 L1309.26 3200.36 L1309.26 3179.03 Q1309.26 3173.97 1307.28 3171.46 Q1305.31 3168.94 1301.36 3168.94 Q1296.62 3168.94 1293.88 3171.97 Q1291.14 3174.99 1291.14 3180.21 L1291.14 3200.36 L1285.26 3200.36 L1285.26 3164.71 L1291.14 3164.71 L1291.14 3170.25 Q1293.25 3167.03 1296.08 3165.44 Q1298.94 3163.85 1302.67 3163.85 Q1308.81 3163.85 1311.96 3167.67 Q1315.11 3171.46 1315.11 3178.84 Z\" fill=\"#000000\" fill-rule=\"evenodd\" fill-opacity=\"1\" /><path clip-path=\"url(#clip960)\" d=\"M1375.27 3171.55 Q1377.46 3167.61 1380.52 3165.73 Q1383.57 3163.85 1387.71 3163.85 Q1393.28 3163.85 1396.31 3167.77 Q1399.33 3171.65 1399.33 3178.84 L1399.33 3200.36 L1393.44 3200.36 L1393.44 3179.03 Q1393.44 3173.91 1391.63 3171.43 Q1389.81 3168.94 1386.09 3168.94 Q1381.54 3168.94 1378.9 3171.97 Q1376.25 3174.99 1376.25 3180.21 L1376.25 3200.36 L1370.37 3200.36 L1370.37 3179.03 Q1370.37 3173.88 1368.55 3171.43 Q1366.74 3168.94 1362.95 3168.94 Q1358.46 3168.94 1355.82 3172 Q1353.18 3175.02 1353.18 3180.21 L1353.18 3200.36 L1347.29 3200.36 L1347.29 3164.71 L1353.18 3164.71 L1353.18 3170.25 Q1355.18 3166.97 1357.98 3165.41 Q1360.79 3163.85 1364.64 3163.85 Q1368.52 3163.85 1371.23 3165.82 Q1373.96 3167.8 1375.27 3171.55 Z\" fill=\"#000000\" fill-rule=\"evenodd\" fill-opacity=\"1\" /><path clip-path=\"url(#clip960)\" d=\"M1427.21 3182.44 Q1420.11 3182.44 1417.38 3184.06 Q1414.64 3185.68 1414.64 3189.6 Q1414.64 3192.72 1416.68 3194.56 Q1418.75 3196.38 1422.28 3196.38 Q1427.15 3196.38 1430.08 3192.94 Q1433.04 3189.47 1433.04 3183.74 L1433.04 3182.44 L1427.21 3182.44 M1438.89 3180.02 L1438.89 3200.36 L1433.04 3200.36 L1433.04 3194.95 Q1431.03 3198.19 1428.04 3199.75 Q1425.05 3201.28 1420.72 3201.28 Q1415.24 3201.28 1412 3198.23 Q1408.78 3195.14 1408.78 3189.98 Q1408.78 3183.97 1412.79 3180.91 Q1416.84 3177.85 1424.82 3177.85 L1433.04 3177.85 L1433.04 3177.28 Q1433.04 3173.24 1430.36 3171.04 Q1427.72 3168.82 1422.92 3168.82 Q1419.86 3168.82 1416.96 3169.55 Q1414.07 3170.28 1411.39 3171.74 L1411.39 3166.33 Q1414.61 3165.09 1417.63 3164.49 Q1420.66 3163.85 1423.52 3163.85 Q1431.25 3163.85 1435.07 3167.86 Q1438.89 3171.87 1438.89 3180.02 Z\" fill=\"#000000\" fill-rule=\"evenodd\" fill-opacity=\"1\" /><path clip-path=\"url(#clip960)\" d=\"M1456.75 3154.59 L1456.75 3164.71 L1468.81 3164.71 L1468.81 3169.26 L1456.75 3169.26 L1456.75 3188.61 Q1456.75 3192.97 1457.93 3194.21 Q1459.14 3195.46 1462.8 3195.46 L1468.81 3195.46 L1468.81 3200.36 L1462.8 3200.36 Q1456.02 3200.36 1453.44 3197.84 Q1450.86 3195.3 1450.86 3188.61 L1450.86 3169.26 L1446.56 3169.26 L1446.56 3164.71 L1450.86 3164.71 L1450.86 3154.59 L1456.75 3154.59 Z\" fill=\"#000000\" fill-rule=\"evenodd\" fill-opacity=\"1\" /><path clip-path=\"url(#clip960)\" d=\"M1497.17 3170.18 Q1496.18 3169.61 1495.01 3169.36 Q1493.86 3169.07 1492.46 3169.07 Q1487.5 3169.07 1484.82 3172.32 Q1482.18 3175.53 1482.18 3181.58 L1482.18 3200.36 L1476.29 3200.36 L1476.29 3164.71 L1482.18 3164.71 L1482.18 3170.25 Q1484.03 3167 1486.99 3165.44 Q1489.95 3163.85 1494.18 3163.85 Q1494.78 3163.85 1495.52 3163.95 Q1496.25 3164.01 1497.14 3164.17 L1497.17 3170.18 Z\" fill=\"#000000\" fill-rule=\"evenodd\" fill-opacity=\"1\" /><path clip-path=\"url(#clip960)\" d=\"M1503.31 3164.71 L1509.17 3164.71 L1509.17 3200.36 L1503.31 3200.36 L1503.31 3164.71 M1503.31 3150.83 L1509.17 3150.83 L1509.17 3158.25 L1503.31 3158.25 L1503.31 3150.83 Z\" fill=\"#000000\" fill-rule=\"evenodd\" fill-opacity=\"1\" /><path clip-path=\"url(#clip960)\" d=\"M1551.06 3164.71 L1538.17 3182.06 L1551.73 3200.36 L1544.82 3200.36 L1534.44 3186.35 L1524.07 3200.36 L1517.16 3200.36 L1531 3181.71 L1518.34 3164.71 L1525.24 3164.71 L1534.7 3177.41 L1544.15 3164.71 L1551.06 3164.71 Z\" fill=\"#000000\" fill-rule=\"evenodd\" fill-opacity=\"1\" /><path clip-path=\"url(#clip960)\" d=\"M1604.66 3177.76 L1584.38 3177.76 Q1584.86 3187.28 1587.05 3191.32 Q1589.79 3196.28 1594.53 3196.28 Q1599.31 3196.28 1601.95 3191.29 Q1604.27 3186.89 1604.66 3177.76 M1604.56 3172.35 Q1603.67 3163.31 1601.95 3160.13 Q1599.21 3155.1 1594.53 3155.1 Q1589.66 3155.1 1587.09 3160.06 Q1585.05 3164.07 1584.44 3172.35 L1604.56 3172.35 M1594.53 3150.32 Q1602.17 3150.32 1606.53 3157.07 Q1610.89 3163.79 1610.89 3175.69 Q1610.89 3187.56 1606.53 3194.31 Q1602.17 3201.09 1594.53 3201.09 Q1586.86 3201.09 1582.54 3194.31 Q1578.17 3187.56 1578.17 3175.69 Q1578.17 3163.79 1582.54 3157.07 Q1586.86 3150.32 1594.53 3150.32 Z\" fill=\"#000000\" fill-rule=\"evenodd\" fill-opacity=\"1\" /><path clip-path=\"url(#clip960)\" d=\"M1618.82 3166.14 L1644.51 3166.14 L1644.51 3169.17 L1618.82 3169.17 L1618.82 3166.14 Z\" fill=\"#000000\" fill-rule=\"evenodd\" fill-opacity=\"1\" /><path clip-path=\"url(#clip960)\" d=\"M1653.83 3175.6 L1660.32 3175.6 L1660.32 3156.15 L1653.23 3157.45 L1653.23 3153.76 L1660.55 3152.52 L1664.91 3152.52 L1664.91 3175.6 L1671.43 3175.6 L1671.43 3179.1 L1653.83 3179.1 L1653.83 3175.6 Z\" fill=\"#000000\" fill-rule=\"evenodd\" fill-opacity=\"1\" /><polyline clip-path=\"url(#clip962)\" style=\"stroke:#000000; stroke-linecap:butt; stroke-linejoin:round; stroke-width:2; stroke-opacity:0.1; fill:none\" points=\"\n",
       "  241.607,1669.83 2552.76,1669.83 \n",
       "  \"/>\n",
       "<polyline clip-path=\"url(#clip962)\" style=\"stroke:#000000; stroke-linecap:butt; stroke-linejoin:round; stroke-width:2; stroke-opacity:0.1; fill:none\" points=\"\n",
       "  241.607,169.29 2552.76,169.29 \n",
       "  \"/>\n",
       "<polyline clip-path=\"url(#clip960)\" style=\"stroke:#000000; stroke-linecap:butt; stroke-linejoin:round; stroke-width:4; stroke-opacity:1; fill:none\" points=\"\n",
       "  241.607,3013.49 241.607,118.82 \n",
       "  \"/>\n",
       "<polyline clip-path=\"url(#clip960)\" style=\"stroke:#000000; stroke-linecap:butt; stroke-linejoin:round; stroke-width:4; stroke-opacity:1; fill:none\" points=\"\n",
       "  241.607,1669.83 260.505,1669.83 \n",
       "  \"/>\n",
       "<polyline clip-path=\"url(#clip960)\" style=\"stroke:#000000; stroke-linecap:butt; stroke-linejoin:round; stroke-width:4; stroke-opacity:1; fill:none\" points=\"\n",
       "  241.607,169.29 260.505,169.29 \n",
       "  \"/>\n",
       "<path clip-path=\"url(#clip960)\" d=\"M37.6634 1689.62 L45.3023 1689.62 L45.3023 1663.25 L36.9921 1664.92 L36.9921 1660.66 L45.256 1658.99 L49.9319 1658.99 L49.9319 1689.62 L57.5707 1689.62 L57.5707 1693.55 L37.6634 1693.55 L37.6634 1689.62 Z\" fill=\"#000000\" fill-rule=\"evenodd\" fill-opacity=\"1\" /><path clip-path=\"url(#clip960)\" d=\"M77.0151 1662.07 Q73.404 1662.07 71.5753 1665.64 Q69.7697 1669.18 69.7697 1676.31 Q69.7697 1683.41 71.5753 1686.98 Q73.404 1690.52 77.0151 1690.52 Q80.6493 1690.52 82.4548 1686.98 Q84.2835 1683.41 84.2835 1676.31 Q84.2835 1669.18 82.4548 1665.64 Q80.6493 1662.07 77.0151 1662.07 M77.0151 1658.37 Q82.8252 1658.37 85.8808 1662.97 Q88.9594 1667.56 88.9594 1676.31 Q88.9594 1685.03 85.8808 1689.64 Q82.8252 1694.22 77.0151 1694.22 Q71.2049 1694.22 68.1262 1689.64 Q65.0707 1685.03 65.0707 1676.31 Q65.0707 1667.56 68.1262 1662.97 Q71.2049 1658.37 77.0151 1658.37 Z\" fill=\"#000000\" fill-rule=\"evenodd\" fill-opacity=\"1\" /><path clip-path=\"url(#clip960)\" d=\"M88.9594 1652.47 L113.071 1652.47 L113.071 1655.67 L88.9594 1655.67 L88.9594 1652.47 Z\" fill=\"#000000\" fill-rule=\"evenodd\" fill-opacity=\"1\" /><path clip-path=\"url(#clip960)\" d=\"M121.929 1662.95 L128.136 1662.95 L128.136 1641.52 L121.384 1642.88 L121.384 1639.42 L128.098 1638.06 L131.898 1638.06 L131.898 1662.95 L138.104 1662.95 L138.104 1666.14 L121.929 1666.14 L121.929 1662.95 Z\" fill=\"#000000\" fill-rule=\"evenodd\" fill-opacity=\"1\" /><path clip-path=\"url(#clip960)\" d=\"M153.903 1640.56 Q150.969 1640.56 149.483 1643.46 Q148.016 1646.34 148.016 1652.13 Q148.016 1657.9 149.483 1660.8 Q150.969 1663.68 153.903 1663.68 Q156.855 1663.68 158.322 1660.8 Q159.808 1657.9 159.808 1652.13 Q159.808 1646.34 158.322 1643.46 Q156.855 1640.56 153.903 1640.56 M153.903 1637.55 Q158.623 1637.55 161.106 1641.3 Q163.607 1645.02 163.607 1652.13 Q163.607 1659.22 161.106 1662.96 Q158.623 1666.69 153.903 1666.69 Q149.182 1666.69 146.68 1662.96 Q144.198 1659.22 144.198 1652.13 Q144.198 1645.02 146.68 1641.3 Q149.182 1637.55 153.903 1637.55 Z\" fill=\"#000000\" fill-rule=\"evenodd\" fill-opacity=\"1\" /><path clip-path=\"url(#clip960)\" d=\"M92.9018 189.082 L100.541 189.082 L100.541 162.717 L92.2305 164.383 L92.2305 160.124 L100.494 158.457 L105.17 158.457 L105.17 189.082 L112.809 189.082 L112.809 193.017 L92.9018 193.017 L92.9018 189.082 Z\" fill=\"#000000\" fill-rule=\"evenodd\" fill-opacity=\"1\" /><path clip-path=\"url(#clip960)\" d=\"M132.253 161.536 Q128.642 161.536 126.814 165.101 Q125.008 168.643 125.008 175.772 Q125.008 182.879 126.814 186.443 Q128.642 189.985 132.253 189.985 Q135.888 189.985 137.693 186.443 Q139.522 182.879 139.522 175.772 Q139.522 168.643 137.693 165.101 Q135.888 161.536 132.253 161.536 M132.253 157.832 Q138.064 157.832 141.119 162.439 Q144.198 167.022 144.198 175.772 Q144.198 184.499 141.119 189.105 Q138.064 193.689 132.253 193.689 Q126.443 193.689 123.365 189.105 Q120.309 184.499 120.309 175.772 Q120.309 167.022 123.365 162.439 Q126.443 157.832 132.253 157.832 Z\" fill=\"#000000\" fill-rule=\"evenodd\" fill-opacity=\"1\" /><path clip-path=\"url(#clip960)\" d=\"M153.903 140.028 Q150.969 140.028 149.483 142.925 Q148.016 145.802 148.016 151.595 Q148.016 157.369 149.483 160.266 Q150.969 163.143 153.903 163.143 Q156.855 163.143 158.322 160.266 Q159.808 157.369 159.808 151.595 Q159.808 145.802 158.322 142.925 Q156.855 140.028 153.903 140.028 M153.903 137.019 Q158.623 137.019 161.106 140.762 Q163.607 144.486 163.607 151.595 Q163.607 158.686 161.106 162.428 Q158.623 166.152 153.903 166.152 Q149.182 166.152 146.68 162.428 Q144.198 158.686 144.198 151.595 Q144.198 144.486 146.68 140.762 Q149.182 137.019 153.903 137.019 Z\" fill=\"#000000\" fill-rule=\"evenodd\" fill-opacity=\"1\" /><path clip-path=\"url(#clip960)\" d=\"M955.734 16.7545 L955.734 25.383 Q951.602 21.5346 946.903 19.6307 Q942.245 17.7268 936.979 17.7268 Q926.608 17.7268 921.099 24.0867 Q915.59 30.4061 915.59 42.3968 Q915.59 54.3469 921.099 60.7069 Q926.608 67.0263 936.979 67.0263 Q942.245 67.0263 946.903 65.1223 Q951.602 63.2184 955.734 59.3701 L955.734 67.9175 Q951.44 70.8341 946.62 72.2924 Q941.84 73.7508 936.493 73.7508 Q922.76 73.7508 914.861 65.3654 Q906.962 56.9395 906.962 42.3968 Q906.962 27.8135 914.861 19.4281 Q922.76 11.0023 936.493 11.0023 Q941.921 11.0023 946.701 12.4606 Q951.521 13.8784 955.734 16.7545 Z\" fill=\"#000000\" fill-rule=\"evenodd\" fill-opacity=\"1\" /><path clip-path=\"url(#clip960)\" d=\"M968.049 9.54393 L975.503 9.54393 L975.503 72.576 L968.049 72.576 L968.049 9.54393 Z\" fill=\"#000000\" fill-rule=\"evenodd\" fill-opacity=\"1\" /><path clip-path=\"url(#clip960)\" d=\"M1011.72 49.7694 Q1002.68 49.7694 999.201 51.8354 Q995.717 53.9013 995.717 58.8839 Q995.717 62.8538 998.309 65.2034 Q1000.94 67.5124 1005.44 67.5124 Q1011.64 67.5124 1015.36 63.1374 Q1019.13 58.7219 1019.13 51.4303 L1019.13 49.7694 L1011.72 49.7694 M1026.58 46.6907 L1026.58 72.576 L1019.13 72.576 L1019.13 65.6895 Q1016.58 69.8214 1012.77 71.8063 Q1008.96 73.7508 1003.45 73.7508 Q996.487 73.7508 992.355 69.8619 Q988.263 65.9325 988.263 59.3701 Q988.263 51.7138 993.367 47.825 Q998.512 43.9361 1008.68 43.9361 L1019.13 43.9361 L1019.13 43.2069 Q1019.13 38.0623 1015.73 35.2672 Q1012.37 32.4315 1006.25 32.4315 Q1002.36 32.4315 998.674 33.3632 Q994.988 34.295 991.585 36.1584 L991.585 29.2718 Q995.676 27.692 999.525 26.9223 Q1003.37 26.1121 1007.02 26.1121 Q1016.86 26.1121 1021.72 31.2163 Q1026.58 36.3204 1026.58 46.6907 Z\" fill=\"#000000\" fill-rule=\"evenodd\" fill-opacity=\"1\" /><path clip-path=\"url(#clip960)\" d=\"M1070.86 28.5427 L1070.86 35.5912 Q1067.7 33.9709 1064.3 33.1607 Q1060.9 32.3505 1057.25 32.3505 Q1051.7 32.3505 1048.91 34.0519 Q1046.15 35.7533 1046.15 39.156 Q1046.15 41.7486 1048.14 43.2475 Q1050.12 44.7058 1056.12 46.0426 L1058.67 46.6097 Q1066.61 48.3111 1069.93 51.4303 Q1073.29 54.509 1073.29 60.0587 Q1073.29 66.3781 1068.27 70.0644 Q1063.29 73.7508 1054.54 73.7508 Q1050.89 73.7508 1046.92 73.0216 Q1042.99 72.3329 1038.62 70.9151 L1038.62 63.2184 Q1042.75 65.3654 1046.76 66.4591 Q1050.77 67.5124 1054.7 67.5124 Q1059.96 67.5124 1062.8 65.73 Q1065.64 63.9071 1065.64 60.6258 Q1065.64 57.5877 1063.57 55.9673 Q1061.54 54.3469 1054.62 52.8481 L1052.02 52.2405 Q1045.1 50.7821 1042.02 47.7845 Q1038.94 44.7463 1038.94 39.4801 Q1038.94 33.0797 1043.48 29.5959 Q1048.01 26.1121 1056.36 26.1121 Q1060.49 26.1121 1064.14 26.7198 Q1067.78 27.3274 1070.86 28.5427 Z\" fill=\"#000000\" fill-rule=\"evenodd\" fill-opacity=\"1\" /><path clip-path=\"url(#clip960)\" d=\"M1114.08 28.5427 L1114.08 35.5912 Q1110.92 33.9709 1107.52 33.1607 Q1104.12 32.3505 1100.47 32.3505 Q1094.92 32.3505 1092.13 34.0519 Q1089.37 35.7533 1089.37 39.156 Q1089.37 41.7486 1091.36 43.2475 Q1093.34 44.7058 1099.34 46.0426 L1101.89 46.6097 Q1109.83 48.3111 1113.15 51.4303 Q1116.51 54.509 1116.51 60.0587 Q1116.51 66.3781 1111.49 70.0644 Q1106.51 73.7508 1097.76 73.7508 Q1094.11 73.7508 1090.14 73.0216 Q1086.21 72.3329 1081.84 70.9151 L1081.84 63.2184 Q1085.97 65.3654 1089.98 66.4591 Q1093.99 67.5124 1097.92 67.5124 Q1103.19 67.5124 1106.02 65.73 Q1108.86 63.9071 1108.86 60.6258 Q1108.86 57.5877 1106.79 55.9673 Q1104.77 54.3469 1097.84 52.8481 L1095.25 52.2405 Q1088.32 50.7821 1085.24 47.7845 Q1082.16 44.7463 1082.16 39.4801 Q1082.16 33.0797 1086.7 29.5959 Q1091.24 26.1121 1099.58 26.1121 Q1103.71 26.1121 1107.36 26.7198 Q1111.01 27.3274 1114.08 28.5427 Z\" fill=\"#000000\" fill-rule=\"evenodd\" fill-opacity=\"1\" /><path clip-path=\"url(#clip960)\" d=\"M1128.38 27.2059 L1135.84 27.2059 L1135.84 72.576 L1128.38 72.576 L1128.38 27.2059 M1128.38 9.54393 L1135.84 9.54393 L1135.84 18.9825 L1128.38 18.9825 L1128.38 9.54393 Z\" fill=\"#000000\" fill-rule=\"evenodd\" fill-opacity=\"1\" /><path clip-path=\"url(#clip960)\" d=\"M1184.08 28.9478 L1184.08 35.9153 Q1180.92 34.1734 1177.72 33.3227 Q1174.56 32.4315 1171.32 32.4315 Q1164.07 32.4315 1160.06 37.0496 Q1156.05 41.6271 1156.05 49.9314 Q1156.05 58.2358 1160.06 62.8538 Q1164.07 67.4314 1171.32 67.4314 Q1174.56 67.4314 1177.72 66.5807 Q1180.92 65.6895 1184.08 63.9476 L1184.08 70.8341 Q1180.96 72.2924 1177.6 73.0216 Q1174.28 73.7508 1170.51 73.7508 Q1160.26 73.7508 1154.23 67.3098 Q1148.19 60.8689 1148.19 49.9314 Q1148.19 38.832 1154.27 32.472 Q1160.39 26.1121 1171 26.1121 Q1174.44 26.1121 1177.72 26.8413 Q1181.01 27.5299 1184.08 28.9478 Z\" fill=\"#000000\" fill-rule=\"evenodd\" fill-opacity=\"1\" /><path clip-path=\"url(#clip960)\" d=\"M1217.67 49.7694 Q1208.63 49.7694 1205.15 51.8354 Q1201.66 53.9013 1201.66 58.8839 Q1201.66 62.8538 1204.26 65.2034 Q1206.89 67.5124 1211.39 67.5124 Q1217.58 67.5124 1221.31 63.1374 Q1225.08 58.7219 1225.08 51.4303 L1225.08 49.7694 L1217.67 49.7694 M1232.53 46.6907 L1232.53 72.576 L1225.08 72.576 L1225.08 65.6895 Q1222.53 69.8214 1218.72 71.8063 Q1214.91 73.7508 1209.4 73.7508 Q1202.43 73.7508 1198.3 69.8619 Q1194.21 65.9325 1194.21 59.3701 Q1194.21 51.7138 1199.32 47.825 Q1204.46 43.9361 1214.63 43.9361 L1225.08 43.9361 L1225.08 43.2069 Q1225.08 38.0623 1221.68 35.2672 Q1218.31 32.4315 1212.2 32.4315 Q1208.31 32.4315 1204.62 33.3632 Q1200.94 34.295 1197.53 36.1584 L1197.53 29.2718 Q1201.62 27.692 1205.47 26.9223 Q1209.32 26.1121 1212.97 26.1121 Q1222.81 26.1121 1227.67 31.2163 Q1232.53 36.3204 1232.53 46.6907 Z\" fill=\"#000000\" fill-rule=\"evenodd\" fill-opacity=\"1\" /><path clip-path=\"url(#clip960)\" d=\"M1247.89 9.54393 L1255.34 9.54393 L1255.34 72.576 L1247.89 72.576 L1247.89 9.54393 Z\" fill=\"#000000\" fill-rule=\"evenodd\" fill-opacity=\"1\" /><path clip-path=\"url(#clip960)\" d=\"M1338.87 63.9476 L1338.87 47.7034 L1325.5 47.7034 L1325.5 40.9789 L1346.97 40.9789 L1346.97 66.9452 Q1342.23 70.3075 1336.52 72.0494 Q1330.81 73.7508 1324.33 73.7508 Q1310.15 73.7508 1302.13 65.4869 Q1294.15 57.1826 1294.15 42.3968 Q1294.15 27.5705 1302.13 19.3066 Q1310.15 11.0023 1324.33 11.0023 Q1330.24 11.0023 1335.55 12.4606 Q1340.89 13.9189 1345.39 16.7545 L1345.39 25.464 Q1340.85 21.6156 1335.75 19.6712 Q1330.65 17.7268 1325.01 17.7268 Q1313.92 17.7268 1308.33 23.9246 Q1302.78 30.1225 1302.78 42.3968 Q1302.78 54.6305 1308.33 60.8284 Q1313.92 67.0263 1325.01 67.0263 Q1329.35 67.0263 1332.75 66.2971 Q1336.15 65.5274 1338.87 63.9476 Z\" fill=\"#000000\" fill-rule=\"evenodd\" fill-opacity=\"1\" /><path clip-path=\"url(#clip960)\" d=\"M1387.88 34.1734 Q1386.63 33.4443 1385.13 33.1202 Q1383.67 32.7556 1381.89 32.7556 Q1375.57 32.7556 1372.17 36.8875 Q1368.81 40.9789 1368.81 48.6757 L1368.81 72.576 L1361.31 72.576 L1361.31 27.2059 L1368.81 27.2059 L1368.81 34.2544 Q1371.15 30.1225 1374.92 28.1376 Q1378.69 26.1121 1384.08 26.1121 Q1384.85 26.1121 1385.78 26.2337 Q1386.71 26.3147 1387.84 26.5172 L1387.88 34.1734 Z\" fill=\"#000000\" fill-rule=\"evenodd\" fill-opacity=\"1\" /><path clip-path=\"url(#clip960)\" d=\"M1416.32 49.7694 Q1407.29 49.7694 1403.8 51.8354 Q1400.32 53.9013 1400.32 58.8839 Q1400.32 62.8538 1402.91 65.2034 Q1405.55 67.5124 1410.04 67.5124 Q1416.24 67.5124 1419.97 63.1374 Q1423.74 58.7219 1423.74 51.4303 L1423.74 49.7694 L1416.32 49.7694 M1431.19 46.6907 L1431.19 72.576 L1423.74 72.576 L1423.74 65.6895 Q1421.18 69.8214 1417.38 71.8063 Q1413.57 73.7508 1408.06 73.7508 Q1401.09 73.7508 1396.96 69.8619 Q1392.87 65.9325 1392.87 59.3701 Q1392.87 51.7138 1397.97 47.825 Q1403.12 43.9361 1413.28 43.9361 L1423.74 43.9361 L1423.74 43.2069 Q1423.74 38.0623 1420.33 35.2672 Q1416.97 32.4315 1410.85 32.4315 Q1406.96 32.4315 1403.28 33.3632 Q1399.59 34.295 1396.19 36.1584 L1396.19 29.2718 Q1400.28 27.692 1404.13 26.9223 Q1407.98 26.1121 1411.62 26.1121 Q1421.47 26.1121 1426.33 31.2163 Q1431.19 36.3204 1431.19 46.6907 Z\" fill=\"#000000\" fill-rule=\"evenodd\" fill-opacity=\"1\" /><path clip-path=\"url(#clip960)\" d=\"M1481.87 35.9153 Q1484.66 30.8922 1488.55 28.5022 Q1492.44 26.1121 1497.7 26.1121 Q1504.79 26.1121 1508.64 31.0947 Q1512.49 36.0368 1512.49 45.1919 L1512.49 72.576 L1505 72.576 L1505 45.4349 Q1505 38.913 1502.69 35.7533 Q1500.38 32.5936 1495.64 32.5936 Q1489.85 32.5936 1486.48 36.4419 Q1483.12 40.2903 1483.12 46.9338 L1483.12 72.576 L1475.63 72.576 L1475.63 45.4349 Q1475.63 38.8725 1473.32 35.7533 Q1471.01 32.5936 1466.19 32.5936 Q1460.48 32.5936 1457.11 36.4824 Q1453.75 40.3308 1453.75 46.9338 L1453.75 72.576 L1446.26 72.576 L1446.26 27.2059 L1453.75 27.2059 L1453.75 34.2544 Q1456.3 30.082 1459.87 28.0971 Q1463.43 26.1121 1468.34 26.1121 Q1473.28 26.1121 1476.72 28.6237 Q1480.2 31.1352 1481.87 35.9153 Z\" fill=\"#000000\" fill-rule=\"evenodd\" fill-opacity=\"1\" /><path clip-path=\"url(#clip960)\" d=\"M1523.59 46.5287 L1545.42 46.5287 L1545.42 53.1722 L1523.59 53.1722 L1523.59 46.5287 Z\" fill=\"#000000\" fill-rule=\"evenodd\" fill-opacity=\"1\" /><path clip-path=\"url(#clip960)\" d=\"M1593.87 14.0809 L1593.87 22.0612 Q1589.21 19.8332 1585.08 18.7395 Q1580.95 17.6457 1577.1 17.6457 Q1570.42 17.6457 1566.77 20.2383 Q1563.17 22.8309 1563.17 27.611 Q1563.17 31.6214 1565.56 33.6873 Q1567.99 35.7128 1574.71 36.9686 L1579.65 37.9813 Q1588.81 39.7232 1593.14 44.1387 Q1597.52 48.5136 1597.52 55.8863 Q1597.52 64.6767 1591.6 69.2137 Q1585.73 73.7508 1574.35 73.7508 Q1570.05 73.7508 1565.19 72.7785 Q1560.37 71.8063 1555.19 69.9024 L1555.19 61.4765 Q1560.17 64.2716 1564.95 65.6895 Q1569.73 67.1073 1574.35 67.1073 Q1581.36 67.1073 1585.16 64.3527 Q1588.97 61.598 1588.97 56.4939 Q1588.97 52.0379 1586.22 49.5264 Q1583.5 47.0148 1577.26 45.759 L1572.28 44.7868 Q1563.13 42.9639 1559.04 39.075 Q1554.94 35.1862 1554.94 28.2591 Q1554.94 20.2383 1560.57 15.6203 Q1566.25 11.0023 1576.17 11.0023 Q1580.42 11.0023 1584.84 11.7719 Q1589.26 12.5416 1593.87 14.0809 Z\" fill=\"#000000\" fill-rule=\"evenodd\" fill-opacity=\"1\" /><path clip-path=\"url(#clip960)\" d=\"M1642.61 28.9478 L1642.61 35.9153 Q1639.45 34.1734 1636.25 33.3227 Q1633.09 32.4315 1629.85 32.4315 Q1622.59 32.4315 1618.58 37.0496 Q1614.57 41.6271 1614.57 49.9314 Q1614.57 58.2358 1618.58 62.8538 Q1622.59 67.4314 1629.85 67.4314 Q1633.09 67.4314 1636.25 66.5807 Q1639.45 65.6895 1642.61 63.9476 L1642.61 70.8341 Q1639.49 72.2924 1636.12 73.0216 Q1632.8 73.7508 1629.04 73.7508 Q1618.79 73.7508 1612.75 67.3098 Q1606.71 60.8689 1606.71 49.9314 Q1606.71 38.832 1612.79 32.472 Q1618.91 26.1121 1629.52 26.1121 Q1632.96 26.1121 1636.25 26.8413 Q1639.53 27.5299 1642.61 28.9478 Z\" fill=\"#000000\" fill-rule=\"evenodd\" fill-opacity=\"1\" /><path clip-path=\"url(#clip960)\" d=\"M1693.28 45.1919 L1693.28 72.576 L1685.83 72.576 L1685.83 45.4349 Q1685.83 38.994 1683.32 35.7938 Q1680.81 32.5936 1675.78 32.5936 Q1669.75 32.5936 1666.26 36.4419 Q1662.78 40.2903 1662.78 46.9338 L1662.78 72.576 L1655.29 72.576 L1655.29 9.54393 L1662.78 9.54393 L1662.78 34.2544 Q1665.45 30.163 1669.06 28.1376 Q1672.7 26.1121 1677.44 26.1121 Q1685.26 26.1121 1689.27 30.9732 Q1693.28 35.7938 1693.28 45.1919 Z\" fill=\"#000000\" fill-rule=\"evenodd\" fill-opacity=\"1\" /><path clip-path=\"url(#clip960)\" d=\"M1743.47 35.9153 Q1746.27 30.8922 1750.16 28.5022 Q1754.05 26.1121 1759.31 26.1121 Q1766.4 26.1121 1770.25 31.0947 Q1774.1 36.0368 1774.1 45.1919 L1774.1 72.576 L1766.6 72.576 L1766.6 45.4349 Q1766.6 38.913 1764.29 35.7533 Q1761.99 32.5936 1757.25 32.5936 Q1751.45 32.5936 1748.09 36.4419 Q1744.73 40.2903 1744.73 46.9338 L1744.73 72.576 L1737.23 72.576 L1737.23 45.4349 Q1737.23 38.8725 1734.93 35.7533 Q1732.62 32.5936 1727.8 32.5936 Q1722.08 32.5936 1718.72 36.4824 Q1715.36 40.3308 1715.36 46.9338 L1715.36 72.576 L1707.87 72.576 L1707.87 27.2059 L1715.36 27.2059 L1715.36 34.2544 Q1717.91 30.082 1721.48 28.0971 Q1725.04 26.1121 1729.94 26.1121 Q1734.89 26.1121 1738.33 28.6237 Q1741.81 31.1352 1743.47 35.9153 Z\" fill=\"#000000\" fill-rule=\"evenodd\" fill-opacity=\"1\" /><path clip-path=\"url(#clip960)\" d=\"M1788.96 27.2059 L1796.42 27.2059 L1796.42 72.576 L1788.96 72.576 L1788.96 27.2059 M1788.96 9.54393 L1796.42 9.54393 L1796.42 18.9825 L1788.96 18.9825 L1788.96 9.54393 Z\" fill=\"#000000\" fill-rule=\"evenodd\" fill-opacity=\"1\" /><path clip-path=\"url(#clip960)\" d=\"M1841.87 34.0924 L1841.87 9.54393 L1849.32 9.54393 L1849.32 72.576 L1841.87 72.576 L1841.87 65.7705 Q1839.52 69.8214 1835.91 71.8063 Q1832.35 73.7508 1827.33 73.7508 Q1819.1 73.7508 1813.92 67.1883 Q1808.77 60.6258 1808.77 49.9314 Q1808.77 39.2371 1813.92 32.6746 Q1819.1 26.1121 1827.33 26.1121 Q1832.35 26.1121 1835.91 28.0971 Q1839.52 30.0415 1841.87 34.0924 M1816.47 49.9314 Q1816.47 58.1548 1819.83 62.8538 Q1823.24 67.5124 1829.15 67.5124 Q1835.06 67.5124 1838.47 62.8538 Q1841.87 58.1548 1841.87 49.9314 Q1841.87 41.7081 1838.47 37.0496 Q1835.06 32.3505 1829.15 32.3505 Q1823.24 32.3505 1819.83 37.0496 Q1816.47 41.7081 1816.47 49.9314 Z\" fill=\"#000000\" fill-rule=\"evenodd\" fill-opacity=\"1\" /><path clip-path=\"url(#clip960)\" d=\"M1872.05 14.324 L1872.05 27.2059 L1887.4 27.2059 L1887.4 32.9987 L1872.05 32.9987 L1872.05 57.6282 Q1872.05 63.1779 1873.55 64.7578 Q1875.09 66.3376 1879.75 66.3376 L1887.4 66.3376 L1887.4 72.576 L1879.75 72.576 Q1871.12 72.576 1867.84 69.3758 Q1864.55 66.1351 1864.55 57.6282 L1864.55 32.9987 L1859.09 32.9987 L1859.09 27.2059 L1864.55 27.2059 L1864.55 14.324 L1872.05 14.324 Z\" fill=\"#000000\" fill-rule=\"evenodd\" fill-opacity=\"1\" /><polyline clip-path=\"url(#clip962)\" style=\"stroke:#009af9; stroke-linecap:butt; stroke-linejoin:round; stroke-width:8; stroke-opacity:1; fill:none\" points=\"\n",
       "  307.017,2968.32 319.13,2878.55 331.243,2793.86 343.356,2746.22 355.469,2713.53 367.582,2688.92 379.695,2412.64 391.808,2335.97 403.921,2639.47 416.034,2627.61 \n",
       "  428.147,2626.57 440.26,2607.93 452.373,2102.11 464.486,2076.43 476.598,2050.47 488.711,2026.16 500.824,2572.87 512.937,1963.74 525.05,1946.86 537.163,1923.34 \n",
       "  549.276,1885.08 561.389,1863.61 573.502,1841.12 585.615,1816.52 597.728,1784.61 609.841,1763.98 621.954,1740.18 634.067,2602.71 646.18,2607.81 658.293,2613.38 \n",
       "  670.405,2619.49 682.518,2626.26 694.631,2633.85 706.744,2642.46 718.857,2652.43 730.97,2664.23 743.083,2678.7 755.196,2697.37 767.309,2723.72 779.422,2768.83 \n",
       "  791.535,2968.32 803.648,1458.87 815.761,1442.98 827.874,2696.99 839.987,2678.19 852.1,2663.59 864.212,2651.66 876.325,2641.56 888.438,2632.81 900.551,2625.09 \n",
       "  912.664,2618.18 924.777,2611.93 936.89,2606.21 949.003,2600.96 961.116,2596.09 973.229,2591.55 985.342,1224.63 997.455,1211.72 1009.57,1198.62 1021.68,1185.93 \n",
       "  1033.79,1173.38 1045.91,1160.86 1058.02,1148.64 1070.13,1136.55 1082.25,1125 1094.36,1113.18 1106.47,1101.5 1118.58,1087.81 1130.7,1076.29 1142.81,1064.79 \n",
       "  1154.92,1053.64 1167.04,996.729 1179.15,984.818 1191.26,973.842 1203.37,963.023 1215.49,952.359 1227.6,940.931 1239.71,930.469 1251.83,920.13 1263.94,909.899 \n",
       "  1276.05,898.903 1288.17,888.774 1300.28,878.781 1312.39,868.929 1324.5,858.352 1336.62,848.695 1348.73,813.526 1360.84,803.233 1372.96,793.839 1385.07,783.935 \n",
       "  1397.18,774.182 1409.29,765.017 1421.41,755.435 1433.52,746.442 1445.63,737.542 1457.75,728.173 1469.86,719.428 1481.97,710.236 1494.09,701.635 1506.2,693.093 \n",
       "  1518.31,598.818 1530.42,589.174 1542.54,580.339 1554.65,571.436 1566.76,562.678 1578.88,625.214 1590.99,615.042 1603.1,606.858 1615.21,598.739 1627.33,590.673 \n",
       "  1639.44,582.67 1651.55,574.738 1663.67,566.844 1675.78,559.03 1687.89,551.269 1700.01,543.571 1712.12,535.916 1724.23,528.231 1736.34,520.698 1748.46,513.22 \n",
       "  1760.57,505.793 1772.68,498.37 1784.8,491.029 1796.91,483.755 1809.02,476.536 1821.13,469.363 1833.25,462.239 1845.36,455.165 1857.47,448.126 1869.59,441.002 \n",
       "  1881.7,434.061 1893.81,427.163 1905.93,420.322 1918.04,413.523 1930.15,406.771 1942.26,400.064 1954.38,393.384 1966.49,386.737 1978.6,380.155 1990.72,373.612 \n",
       "  2002.83,367.115 2014.94,360.661 2027.05,354.246 2039.17,347.874 2051.28,341.542 2063.39,335.241 2075.51,328.991 2087.62,322.786 2099.73,316.617 2111.84,310.494 \n",
       "  2123.96,304.415 2136.07,298.381 2148.18,292.391 2160.3,286.45 2172.41,280.557 2184.52,274.716 2196.64,268.862 2208.75,263.031 2220.86,257.163 2232.97,251.562 \n",
       "  2245.09,246.031 2257.2,240.559 2269.31,235.187 2281.43,229.907 2293.54,224.728 2305.65,219.658 2317.76,214.707 2329.88,209.884 2341.99,205.202 2354.1,200.677 \n",
       "  2366.22,196.275 2378.33,192.099 2390.44,188.113 2402.56,184.329 2414.67,180.747 2426.78,177.392 2438.89,174.261 2451.01,171.357 2463.12,168.679 2475.23,166.226 \n",
       "  2487.35,163.99 \n",
       "  \"/>\n",
       "<polyline clip-path=\"url(#clip962)\" style=\"stroke:#e26f46; stroke-linecap:butt; stroke-linejoin:round; stroke-width:8; stroke-opacity:1; fill:none\" points=\"\n",
       "  307.017,2968.32 319.13,2968.32 331.243,2968.32 343.356,2968.32 355.469,2968.32 367.582,2968.32 379.695,2585.92 391.808,2533.48 403.921,2968.32 416.034,2968.32 \n",
       "  428.147,2968.32 440.26,2968.32 452.373,2533.48 464.486,2514.32 476.598,2540.75 488.711,2550.12 500.824,2968.32 512.937,2578.65 525.05,2538.77 537.163,2550.12 \n",
       "  549.276,2563.33 561.389,2563.33 573.502,2550.12 585.615,2533.48 597.728,2968.32 609.841,2578.65 621.954,2585.92 634.067,2968.32 646.18,2968.32 658.293,2968.32 \n",
       "  670.405,2968.32 682.518,2968.32 694.631,2968.32 706.744,2968.32 718.857,2968.32 730.97,2968.32 743.083,2968.32 755.196,2968.32 767.309,2968.32 779.422,2968.32 \n",
       "  791.535,2968.32 803.648,2549.45 815.761,2547.51 827.874,2968.32 839.987,2968.32 852.1,2968.32 864.212,2968.32 876.325,2968.32 888.438,2968.32 900.551,2968.32 \n",
       "  912.664,2968.32 924.777,2968.32 936.89,2968.32 949.003,2968.32 961.116,2968.32 973.229,2968.32 985.342,2578.65 997.455,2572.71 1009.57,2607.5 1021.68,2968.32 \n",
       "  1033.79,2766.6 1045.91,2721.43 1058.02,2968.32 1070.13,2968.32 1082.25,2766.6 1094.36,2653.67 1106.47,2668.99 1118.58,2697.84 1130.7,2698.84 1142.81,2585.41 \n",
       "  1154.92,2581.19 1167.04,2649.84 1179.15,2583.94 1191.26,2653.67 1203.37,2668.99 1215.49,2668.99 1227.6,2968.32 1239.71,2674.28 1251.83,2766.6 1263.94,2968.32 \n",
       "  1276.05,2744.02 1288.17,2583.94 1300.28,2759.33 1312.39,2674.16 1324.5,2766.6 1336.62,2674.16 1348.73,2583.82 1360.84,2563.27 1372.96,2562.33 1385.07,2653.61 \n",
       "  1397.18,2653.67 1409.29,2672.42 1421.41,2674.28 1433.52,2766.6 1445.63,2585.92 1457.75,2764.63 1469.86,2744.02 1481.97,2968.32 1494.09,2856.94 1506.2,2676.26 \n",
       "  1518.31,2563.33 1530.42,2674.28 1542.54,2630.58 1554.65,2630.96 1566.76,2719.45 1578.88,2595.29 1590.99,2629.11 1603.1,2809.8 1615.21,2697.84 1627.33,2719.45 \n",
       "  1639.44,2630.84 1651.55,2628.99 1663.67,2668.18 1675.78,2697.84 1687.89,2719.45 1700.01,2811.77 1712.12,2631.09 1724.23,2630.83 1736.34,2630.96 1748.46,2631.09 \n",
       "  1760.57,2631.09 1772.68,2630.96 1784.8,2606.53 1796.91,2607.5 1809.02,2721.43 1821.13,2968.32 1833.25,2719.45 1845.36,2968.32 1857.47,2628.99 1869.59,2719.45 \n",
       "  1881.7,2698.84 1893.81,2721.43 1905.93,2721.4 1918.04,2789.19 1930.15,2789.19 1942.26,2811.77 1954.38,2629.11 1966.49,2698.83 1978.6,2698.83 1990.72,2720.92 \n",
       "  2002.83,2968.32 2014.94,2968.32 2027.05,2947.28 2039.17,2968.32 2051.28,2968.32 2063.39,2631.06 2075.51,2947.28 2087.62,2968.32 2099.73,2698.83 2111.84,2698.59 \n",
       "  2123.96,2834.36 2136.07,2856.94 2148.18,2720.89 2160.3,2834.36 2172.41,2968.32 2184.52,2721.43 2196.64,2968.32 2208.75,2608.49 2220.86,2856.94 2232.97,2968.32 \n",
       "  2245.09,2766.57 2257.2,2766.6 2269.31,2743.01 2281.43,2764.63 2293.54,2968.32 2305.65,2968.32 2317.76,2834.1 2329.88,2743 2341.99,2766.6 2354.1,2968.32 \n",
       "  2366.22,2968.32 2378.33,2968.32 2390.44,2742.04 2402.56,2744.02 2414.67,2630.58 2426.78,2630.58 2438.89,2631.09 2451.01,2630.58 2463.12,2631.09 2475.23,2968.32 \n",
       "  2487.35,2968.32 \n",
       "  \"/>\n",
       "<path clip-path=\"url(#clip960)\" d=\"\n",
       "M1739.64 370.829 L2475.72 370.829 L2475.72 215.309 L1739.64 215.309  Z\n",
       "  \" fill=\"#ffffff\" fill-rule=\"evenodd\" fill-opacity=\"1\"/>\n",
       "<polyline clip-path=\"url(#clip960)\" style=\"stroke:#000000; stroke-linecap:butt; stroke-linejoin:round; stroke-width:4; stroke-opacity:1; fill:none\" points=\"\n",
       "  1739.64,370.829 2475.72,370.829 2475.72,215.309 1739.64,215.309 1739.64,370.829 \n",
       "  \"/>\n",
       "<polyline clip-path=\"url(#clip960)\" style=\"stroke:#009af9; stroke-linecap:butt; stroke-linejoin:round; stroke-width:4; stroke-opacity:1; fill:none\" points=\"\n",
       "  1765.32,267.149 1919.4,267.149 \n",
       "  \"/>\n",
       "<path clip-path=\"url(#clip960)\" d=\"M1956.98 261.489 Q1953.55 261.489 1951.56 264.174 Q1949.57 266.836 1949.57 271.489 Q1949.57 276.142 1951.54 278.827 Q1953.53 281.489 1956.98 281.489 Q1960.38 281.489 1962.37 278.804 Q1964.36 276.119 1964.36 271.489 Q1964.36 266.883 1962.37 264.198 Q1960.38 261.489 1956.98 261.489 M1956.98 257.878 Q1962.53 257.878 1965.7 261.489 Q1968.88 265.1 1968.88 271.489 Q1968.88 277.855 1965.7 281.489 Q1962.53 285.1 1956.98 285.1 Q1951.4 285.1 1948.23 281.489 Q1945.08 277.855 1945.08 271.489 Q1945.08 265.1 1948.23 261.489 Q1951.4 257.878 1956.98 257.878 Z\" fill=\"#000000\" fill-rule=\"evenodd\" fill-opacity=\"1\" /><path clip-path=\"url(#clip960)\" d=\"M1990.96 262.485 Q1990.24 262.068 1989.38 261.883 Q1988.55 261.674 1987.53 261.674 Q1983.92 261.674 1981.98 264.036 Q1980.06 266.373 1980.06 270.772 L1980.06 284.429 L1975.77 284.429 L1975.77 258.503 L1980.06 258.503 L1980.06 262.531 Q1981.4 260.17 1983.55 259.036 Q1985.7 257.878 1988.78 257.878 Q1989.22 257.878 1989.75 257.948 Q1990.29 257.994 1990.94 258.11 L1990.96 262.485 Z\" fill=\"#000000\" fill-rule=\"evenodd\" fill-opacity=\"1\" /><path clip-path=\"url(#clip960)\" d=\"M1999.64 251.142 L1999.64 258.503 L2008.41 258.503 L2008.41 261.813 L1999.64 261.813 L1999.64 275.887 Q1999.64 279.059 2000.5 279.961 Q2001.37 280.864 2004.04 280.864 L2008.41 280.864 L2008.41 284.429 L2004.04 284.429 Q1999.11 284.429 1997.23 282.6 Q1995.36 280.748 1995.36 275.887 L1995.36 261.813 L1992.23 261.813 L1992.23 258.503 L1995.36 258.503 L1995.36 251.142 L1999.64 251.142 Z\" fill=\"#000000\" fill-rule=\"evenodd\" fill-opacity=\"1\" /><path clip-path=\"url(#clip960)\" d=\"M2035.56 268.781 L2035.56 284.429 L2031.31 284.429 L2031.31 268.92 Q2031.31 265.239 2029.87 263.411 Q2028.43 261.582 2025.56 261.582 Q2022.12 261.582 2020.12 263.781 Q2018.13 265.98 2018.13 269.776 L2018.13 284.429 L2013.85 284.429 L2013.85 248.411 L2018.13 248.411 L2018.13 262.531 Q2019.66 260.193 2021.72 259.036 Q2023.81 257.878 2026.51 257.878 Q2030.98 257.878 2033.27 260.656 Q2035.56 263.411 2035.56 268.781 Z\" fill=\"#000000\" fill-rule=\"evenodd\" fill-opacity=\"1\" /><path clip-path=\"url(#clip960)\" d=\"M2054.11 261.489 Q2050.68 261.489 2048.69 264.174 Q2046.7 266.836 2046.7 271.489 Q2046.7 276.142 2048.67 278.827 Q2050.66 281.489 2054.11 281.489 Q2057.51 281.489 2059.5 278.804 Q2061.49 276.119 2061.49 271.489 Q2061.49 266.883 2059.5 264.198 Q2057.51 261.489 2054.11 261.489 M2054.11 257.878 Q2059.66 257.878 2062.83 261.489 Q2066 265.1 2066 271.489 Q2066 277.855 2062.83 281.489 Q2059.66 285.1 2054.11 285.1 Q2048.53 285.1 2045.36 281.489 Q2042.21 277.855 2042.21 271.489 Q2042.21 265.1 2045.36 261.489 Q2048.53 257.878 2054.11 257.878 Z\" fill=\"#000000\" fill-rule=\"evenodd\" fill-opacity=\"1\" /><path clip-path=\"url(#clip960)\" d=\"M2094.62 268.781 L2094.62 284.429 L2090.36 284.429 L2090.36 268.92 Q2090.36 265.239 2088.92 263.411 Q2087.49 261.582 2084.62 261.582 Q2081.17 261.582 2079.18 263.781 Q2077.18 265.98 2077.18 269.776 L2077.18 284.429 L2072.9 284.429 L2072.9 258.503 L2077.18 258.503 L2077.18 262.531 Q2078.71 260.193 2080.77 259.036 Q2082.86 257.878 2085.56 257.878 Q2090.03 257.878 2092.32 260.656 Q2094.62 263.411 2094.62 268.781 Z\" fill=\"#000000\" fill-rule=\"evenodd\" fill-opacity=\"1\" /><path clip-path=\"url(#clip960)\" d=\"M2113.16 261.489 Q2109.73 261.489 2107.74 264.174 Q2105.75 266.836 2105.75 271.489 Q2105.75 276.142 2107.72 278.827 Q2109.71 281.489 2113.16 281.489 Q2116.56 281.489 2118.55 278.804 Q2120.54 276.119 2120.54 271.489 Q2120.54 266.883 2118.55 264.198 Q2116.56 261.489 2113.16 261.489 M2113.16 257.878 Q2118.71 257.878 2121.88 261.489 Q2125.05 265.1 2125.05 271.489 Q2125.05 277.855 2121.88 281.489 Q2118.71 285.1 2113.16 285.1 Q2107.58 285.1 2104.41 281.489 Q2101.26 277.855 2101.26 271.489 Q2101.26 265.1 2104.41 261.489 Q2107.58 257.878 2113.16 257.878 Z\" fill=\"#000000\" fill-rule=\"evenodd\" fill-opacity=\"1\" /><path clip-path=\"url(#clip960)\" d=\"M2147.14 262.485 Q2146.42 262.068 2145.56 261.883 Q2144.73 261.674 2143.71 261.674 Q2140.1 261.674 2138.16 264.036 Q2136.24 266.373 2136.24 270.772 L2136.24 284.429 L2131.95 284.429 L2131.95 258.503 L2136.24 258.503 L2136.24 262.531 Q2137.58 260.17 2139.73 259.036 Q2141.88 257.878 2144.96 257.878 Q2145.4 257.878 2145.93 257.948 Q2146.47 257.994 2147.11 258.11 L2147.14 262.485 Z\" fill=\"#000000\" fill-rule=\"evenodd\" fill-opacity=\"1\" /><path clip-path=\"url(#clip960)\" d=\"M2170.96 263.48 Q2172.55 260.61 2174.78 259.244 Q2177 257.878 2180.01 257.878 Q2184.06 257.878 2186.26 260.725 Q2188.46 263.549 2188.46 268.781 L2188.46 284.429 L2184.17 284.429 L2184.17 268.92 Q2184.17 265.193 2182.86 263.387 Q2181.54 261.582 2178.83 261.582 Q2175.52 261.582 2173.6 263.781 Q2171.67 265.98 2171.67 269.776 L2171.67 284.429 L2167.39 284.429 L2167.39 268.92 Q2167.39 265.17 2166.07 263.387 Q2164.75 261.582 2162 261.582 Q2158.74 261.582 2156.81 263.804 Q2154.89 266.003 2154.89 269.776 L2154.89 284.429 L2150.61 284.429 L2150.61 258.503 L2154.89 258.503 L2154.89 262.531 Q2156.35 260.147 2158.39 259.012 Q2160.42 257.878 2163.23 257.878 Q2166.05 257.878 2168.02 259.313 Q2170.01 260.749 2170.96 263.48 Z\" fill=\"#000000\" fill-rule=\"evenodd\" fill-opacity=\"1\" /><path clip-path=\"url(#clip960)\" d=\"M2208.73 271.397 Q2203.57 271.397 2201.58 272.577 Q2199.59 273.758 2199.59 276.605 Q2199.59 278.873 2201.07 280.216 Q2202.58 281.535 2205.15 281.535 Q2208.69 281.535 2210.82 279.035 Q2212.97 276.512 2212.97 272.346 L2212.97 271.397 L2208.73 271.397 M2217.23 269.637 L2217.23 284.429 L2212.97 284.429 L2212.97 280.494 Q2211.51 282.855 2209.34 283.989 Q2207.16 285.1 2204.01 285.1 Q2200.03 285.1 2197.67 282.878 Q2195.33 280.633 2195.33 276.883 Q2195.33 272.508 2198.25 270.286 Q2201.19 268.063 2207 268.063 L2212.97 268.063 L2212.97 267.647 Q2212.97 264.707 2211.03 263.11 Q2209.11 261.489 2205.61 261.489 Q2203.39 261.489 2201.28 262.022 Q2199.17 262.554 2197.23 263.619 L2197.23 259.684 Q2199.57 258.781 2201.77 258.341 Q2203.97 257.878 2206.05 257.878 Q2211.67 257.878 2214.45 260.795 Q2217.23 263.711 2217.23 269.637 Z\" fill=\"#000000\" fill-rule=\"evenodd\" fill-opacity=\"1\" /><path clip-path=\"url(#clip960)\" d=\"M2226 248.411 L2230.26 248.411 L2230.26 284.429 L2226 284.429 L2226 248.411 Z\" fill=\"#000000\" fill-rule=\"evenodd\" fill-opacity=\"1\" /><path clip-path=\"url(#clip960)\" d=\"M2239.17 258.503 L2243.43 258.503 L2243.43 284.429 L2239.17 284.429 L2239.17 258.503 M2239.17 248.411 L2243.43 248.411 L2243.43 253.804 L2239.17 253.804 L2239.17 248.411 Z\" fill=\"#000000\" fill-rule=\"evenodd\" fill-opacity=\"1\" /><path clip-path=\"url(#clip960)\" d=\"M2256.56 251.142 L2256.56 258.503 L2265.33 258.503 L2265.33 261.813 L2256.56 261.813 L2256.56 275.887 Q2256.56 279.059 2257.42 279.961 Q2258.29 280.864 2260.96 280.864 L2265.33 280.864 L2265.33 284.429 L2260.96 284.429 Q2256.03 284.429 2254.15 282.6 Q2252.28 280.748 2252.28 275.887 L2252.28 261.813 L2249.15 261.813 L2249.15 258.503 L2252.28 258.503 L2252.28 251.142 L2256.56 251.142 Z\" fill=\"#000000\" fill-rule=\"evenodd\" fill-opacity=\"1\" /><path clip-path=\"url(#clip960)\" d=\"M2281.72 286.836 Q2279.92 291.466 2278.2 292.878 Q2276.49 294.29 2273.62 294.29 L2270.22 294.29 L2270.22 290.725 L2272.72 290.725 Q2274.48 290.725 2275.45 289.892 Q2276.42 289.059 2277.6 285.957 L2278.36 284.012 L2267.88 258.503 L2272.39 258.503 L2280.49 278.781 L2288.6 258.503 L2293.11 258.503 L2281.72 286.836 Z\" fill=\"#000000\" fill-rule=\"evenodd\" fill-opacity=\"1\" /><path clip-path=\"url(#clip960)\" d=\"M2336.23 270.401 L2336.23 272.485 L2316.65 272.485 Q2316.93 276.883 2319.29 279.197 Q2321.67 281.489 2325.91 281.489 Q2328.36 281.489 2330.66 280.887 Q2332.97 280.285 2335.24 279.082 L2335.24 283.11 Q2332.95 284.082 2330.54 284.591 Q2328.13 285.1 2325.66 285.1 Q2319.45 285.1 2315.82 281.489 Q2312.21 277.878 2312.21 271.721 Q2312.21 265.355 2315.63 261.628 Q2319.08 257.878 2324.91 257.878 Q2330.15 257.878 2333.18 261.258 Q2336.23 264.614 2336.23 270.401 M2331.98 269.151 Q2331.93 265.656 2330.01 263.573 Q2328.11 261.489 2324.96 261.489 Q2321.4 261.489 2319.24 263.503 Q2317.11 265.517 2316.79 269.174 L2331.98 269.151 Z\" fill=\"#000000\" fill-rule=\"evenodd\" fill-opacity=\"1\" /><path clip-path=\"url(#clip960)\" d=\"M2358.25 262.485 Q2357.53 262.068 2356.67 261.883 Q2355.84 261.674 2354.82 261.674 Q2351.21 261.674 2349.27 264.036 Q2347.35 266.373 2347.35 270.772 L2347.35 284.429 L2343.06 284.429 L2343.06 258.503 L2347.35 258.503 L2347.35 262.531 Q2348.69 260.17 2350.84 259.036 Q2352.99 257.878 2356.07 257.878 Q2356.51 257.878 2357.04 257.948 Q2357.58 257.994 2358.22 258.11 L2358.25 262.485 Z\" fill=\"#000000\" fill-rule=\"evenodd\" fill-opacity=\"1\" /><path clip-path=\"url(#clip960)\" d=\"M2376.91 262.485 Q2376.19 262.068 2375.33 261.883 Q2374.5 261.674 2373.48 261.674 Q2369.87 261.674 2367.92 264.036 Q2366 266.373 2366 270.772 L2366 284.429 L2361.72 284.429 L2361.72 258.503 L2366 258.503 L2366 262.531 Q2367.35 260.17 2369.5 259.036 Q2371.65 257.878 2374.73 257.878 Q2375.17 257.878 2375.7 257.948 Q2376.23 257.994 2376.88 258.11 L2376.91 262.485 Z\" fill=\"#000000\" fill-rule=\"evenodd\" fill-opacity=\"1\" /><path clip-path=\"url(#clip960)\" d=\"M2390.38 261.489 Q2386.95 261.489 2384.96 264.174 Q2382.97 266.836 2382.97 271.489 Q2382.97 276.142 2384.94 278.827 Q2386.93 281.489 2390.38 281.489 Q2393.78 281.489 2395.77 278.804 Q2397.76 276.119 2397.76 271.489 Q2397.76 266.883 2395.77 264.198 Q2393.78 261.489 2390.38 261.489 M2390.38 257.878 Q2395.93 257.878 2399.1 261.489 Q2402.28 265.1 2402.28 271.489 Q2402.28 277.855 2399.1 281.489 Q2395.93 285.1 2390.38 285.1 Q2384.8 285.1 2381.63 281.489 Q2378.48 277.855 2378.48 271.489 Q2378.48 265.1 2381.63 261.489 Q2384.8 257.878 2390.38 257.878 Z\" fill=\"#000000\" fill-rule=\"evenodd\" fill-opacity=\"1\" /><path clip-path=\"url(#clip960)\" d=\"M2424.36 262.485 Q2423.64 262.068 2422.78 261.883 Q2421.95 261.674 2420.93 261.674 Q2417.32 261.674 2415.38 264.036 Q2413.46 266.373 2413.46 270.772 L2413.46 284.429 L2409.17 284.429 L2409.17 258.503 L2413.46 258.503 L2413.46 262.531 Q2414.8 260.17 2416.95 259.036 Q2419.1 257.878 2422.18 257.878 Q2422.62 257.878 2423.16 257.948 Q2423.69 257.994 2424.34 258.11 L2424.36 262.485 Z\" fill=\"#000000\" fill-rule=\"evenodd\" fill-opacity=\"1\" /><polyline clip-path=\"url(#clip960)\" style=\"stroke:#e26f46; stroke-linecap:butt; stroke-linejoin:round; stroke-width:4; stroke-opacity:1; fill:none\" points=\"\n",
       "  1765.32,318.989 1919.4,318.989 \n",
       "  \"/>\n",
       "<path clip-path=\"url(#clip960)\" d=\"M1960.26 314.325 Q1959.55 313.908 1958.69 313.723 Q1957.86 313.514 1956.84 313.514 Q1953.23 313.514 1951.28 315.876 Q1949.36 318.213 1949.36 322.612 L1949.36 336.269 L1945.08 336.269 L1945.08 310.343 L1949.36 310.343 L1949.36 314.371 Q1950.7 312.01 1952.86 310.876 Q1955.01 309.718 1958.09 309.718 Q1958.53 309.718 1959.06 309.788 Q1959.59 309.834 1960.24 309.95 L1960.26 314.325 Z\" fill=\"#000000\" fill-rule=\"evenodd\" fill-opacity=\"1\" /><path clip-path=\"url(#clip960)\" d=\"M1985.87 322.241 L1985.87 324.325 L1966.28 324.325 Q1966.56 328.723 1968.92 331.037 Q1971.31 333.329 1975.54 333.329 Q1978 333.329 1980.29 332.727 Q1982.6 332.125 1984.87 330.922 L1984.87 334.95 Q1982.58 335.922 1980.17 336.431 Q1977.76 336.94 1975.29 336.94 Q1969.08 336.94 1965.45 333.329 Q1961.84 329.718 1961.84 323.561 Q1961.84 317.195 1965.26 313.468 Q1968.71 309.718 1974.55 309.718 Q1979.78 309.718 1982.81 313.098 Q1985.87 316.454 1985.87 322.241 M1981.61 320.991 Q1981.56 317.496 1979.64 315.413 Q1977.74 313.329 1974.59 313.329 Q1971.03 313.329 1968.88 315.343 Q1966.75 317.357 1966.42 321.014 L1981.61 320.991 Z\" fill=\"#000000\" fill-rule=\"evenodd\" fill-opacity=\"1\" /><path clip-path=\"url(#clip960)\" d=\"M2011.51 311.339 L2011.51 315.32 Q2009.71 314.325 2007.88 313.839 Q2006.07 313.329 2004.22 313.329 Q2000.08 313.329 1997.79 315.968 Q1995.5 318.584 1995.5 323.329 Q1995.5 328.075 1997.79 330.713 Q2000.08 333.329 2004.22 333.329 Q2006.07 333.329 2007.88 332.843 Q2009.71 332.334 2011.51 331.338 L2011.51 335.274 Q2009.73 336.107 2007.81 336.524 Q2005.91 336.94 2003.76 336.94 Q1997.9 336.94 1994.45 333.26 Q1991 329.579 1991 323.329 Q1991 316.987 1994.48 313.352 Q1997.97 309.718 2004.04 309.718 Q2006 309.718 2007.88 310.135 Q2009.75 310.528 2011.51 311.339 Z\" fill=\"#000000\" fill-rule=\"evenodd\" fill-opacity=\"1\" /><path clip-path=\"url(#clip960)\" d=\"M2028.97 313.329 Q2025.54 313.329 2023.55 316.014 Q2021.56 318.676 2021.56 323.329 Q2021.56 327.982 2023.53 330.667 Q2025.52 333.329 2028.97 333.329 Q2032.37 333.329 2034.36 330.644 Q2036.35 327.959 2036.35 323.329 Q2036.35 318.723 2034.36 316.038 Q2032.37 313.329 2028.97 313.329 M2028.97 309.718 Q2034.52 309.718 2037.69 313.329 Q2040.87 316.94 2040.87 323.329 Q2040.87 329.695 2037.69 333.329 Q2034.52 336.94 2028.97 336.94 Q2023.39 336.94 2020.22 333.329 Q2017.07 329.695 2017.07 323.329 Q2017.07 316.94 2020.22 313.329 Q2023.39 309.718 2028.97 309.718 Z\" fill=\"#000000\" fill-rule=\"evenodd\" fill-opacity=\"1\" /><path clip-path=\"url(#clip960)\" d=\"M2069.48 320.621 L2069.48 336.269 L2065.22 336.269 L2065.22 320.76 Q2065.22 317.079 2063.78 315.251 Q2062.35 313.422 2059.48 313.422 Q2056.03 313.422 2054.04 315.621 Q2052.05 317.82 2052.05 321.616 L2052.05 336.269 L2047.76 336.269 L2047.76 310.343 L2052.05 310.343 L2052.05 314.371 Q2053.57 312.033 2055.63 310.876 Q2057.72 309.718 2060.43 309.718 Q2064.89 309.718 2067.18 312.496 Q2069.48 315.251 2069.48 320.621 Z\" fill=\"#000000\" fill-rule=\"evenodd\" fill-opacity=\"1\" /><path clip-path=\"url(#clip960)\" d=\"M2094.5 311.107 L2094.5 315.135 Q2092.69 314.209 2090.75 313.746 Q2088.81 313.283 2086.72 313.283 Q2083.55 313.283 2081.95 314.255 Q2080.38 315.227 2080.38 317.172 Q2080.38 318.653 2081.51 319.51 Q2082.65 320.343 2086.07 321.107 L2087.53 321.431 Q2092.07 322.403 2093.97 324.186 Q2095.89 325.945 2095.89 329.116 Q2095.89 332.727 2093.02 334.834 Q2090.17 336.94 2085.17 336.94 Q2083.09 336.94 2080.82 336.524 Q2078.57 336.13 2076.07 335.32 L2076.07 330.922 Q2078.43 332.149 2080.73 332.774 Q2083.02 333.375 2085.26 333.375 Q2088.27 333.375 2089.89 332.357 Q2091.51 331.315 2091.51 329.44 Q2091.51 327.704 2090.33 326.778 Q2089.18 325.852 2085.22 324.996 L2083.74 324.649 Q2079.78 323.815 2078.02 322.102 Q2076.26 320.366 2076.26 317.357 Q2076.26 313.7 2078.85 311.709 Q2081.44 309.718 2086.21 309.718 Q2088.57 309.718 2090.66 310.065 Q2092.74 310.413 2094.5 311.107 Z\" fill=\"#000000\" fill-rule=\"evenodd\" fill-opacity=\"1\" /><path clip-path=\"url(#clip960)\" d=\"M2106.88 302.982 L2106.88 310.343 L2115.66 310.343 L2115.66 313.653 L2106.88 313.653 L2106.88 327.727 Q2106.88 330.899 2107.74 331.801 Q2108.62 332.704 2111.28 332.704 L2115.66 332.704 L2115.66 336.269 L2111.28 336.269 Q2106.35 336.269 2104.48 334.44 Q2102.6 332.588 2102.6 327.727 L2102.6 313.653 L2099.48 313.653 L2099.48 310.343 L2102.6 310.343 L2102.6 302.982 L2106.88 302.982 Z\" fill=\"#000000\" fill-rule=\"evenodd\" fill-opacity=\"1\" /><path clip-path=\"url(#clip960)\" d=\"M2136.28 314.325 Q2135.56 313.908 2134.71 313.723 Q2133.87 313.514 2132.86 313.514 Q2129.24 313.514 2127.3 315.876 Q2125.38 318.213 2125.38 322.612 L2125.38 336.269 L2121.1 336.269 L2121.1 310.343 L2125.38 310.343 L2125.38 314.371 Q2126.72 312.01 2128.87 310.876 Q2131.03 309.718 2134.11 309.718 Q2134.55 309.718 2135.08 309.788 Q2135.61 309.834 2136.26 309.95 L2136.28 314.325 Z\" fill=\"#000000\" fill-rule=\"evenodd\" fill-opacity=\"1\" /><path clip-path=\"url(#clip960)\" d=\"M2140.31 326.038 L2140.31 310.343 L2144.57 310.343 L2144.57 325.875 Q2144.57 329.556 2146 331.408 Q2147.44 333.237 2150.31 333.237 Q2153.76 333.237 2155.75 331.037 Q2157.76 328.838 2157.76 325.042 L2157.76 310.343 L2162.02 310.343 L2162.02 336.269 L2157.76 336.269 L2157.76 332.287 Q2156.21 334.649 2154.15 335.806 Q2152.11 336.94 2149.41 336.94 Q2144.94 336.94 2142.62 334.162 Q2140.31 331.385 2140.31 326.038 M2151.03 309.718 L2151.03 309.718 Z\" fill=\"#000000\" fill-rule=\"evenodd\" fill-opacity=\"1\" /><path clip-path=\"url(#clip960)\" d=\"M2189.45 311.339 L2189.45 315.32 Q2187.65 314.325 2185.82 313.839 Q2184.01 313.329 2182.16 313.329 Q2178.02 313.329 2175.73 315.968 Q2173.43 318.584 2173.43 323.329 Q2173.43 328.075 2175.73 330.713 Q2178.02 333.329 2182.16 333.329 Q2184.01 333.329 2185.82 332.843 Q2187.65 332.334 2189.45 331.338 L2189.45 335.274 Q2187.67 336.107 2185.75 336.524 Q2183.85 336.94 2181.7 336.94 Q2175.84 336.94 2172.39 333.26 Q2168.94 329.579 2168.94 323.329 Q2168.94 316.987 2172.42 313.352 Q2175.91 309.718 2181.98 309.718 Q2183.94 309.718 2185.82 310.135 Q2187.69 310.528 2189.45 311.339 Z\" fill=\"#000000\" fill-rule=\"evenodd\" fill-opacity=\"1\" /><path clip-path=\"url(#clip960)\" d=\"M2201.07 302.982 L2201.07 310.343 L2209.85 310.343 L2209.85 313.653 L2201.07 313.653 L2201.07 327.727 Q2201.07 330.899 2201.93 331.801 Q2202.81 332.704 2205.47 332.704 L2209.85 332.704 L2209.85 336.269 L2205.47 336.269 Q2200.54 336.269 2198.67 334.44 Q2196.79 332.588 2196.79 327.727 L2196.79 313.653 L2193.67 313.653 L2193.67 310.343 L2196.79 310.343 L2196.79 302.982 L2201.07 302.982 Z\" fill=\"#000000\" fill-rule=\"evenodd\" fill-opacity=\"1\" /><path clip-path=\"url(#clip960)\" d=\"M2215.45 310.343 L2219.71 310.343 L2219.71 336.269 L2215.45 336.269 L2215.45 310.343 M2215.45 300.251 L2219.71 300.251 L2219.71 305.644 L2215.45 305.644 L2215.45 300.251 Z\" fill=\"#000000\" fill-rule=\"evenodd\" fill-opacity=\"1\" /><path clip-path=\"url(#clip960)\" d=\"M2238.67 313.329 Q2235.24 313.329 2233.25 316.014 Q2231.26 318.676 2231.26 323.329 Q2231.26 327.982 2233.23 330.667 Q2235.22 333.329 2238.67 333.329 Q2242.07 333.329 2244.06 330.644 Q2246.05 327.959 2246.05 323.329 Q2246.05 318.723 2244.06 316.038 Q2242.07 313.329 2238.67 313.329 M2238.67 309.718 Q2244.22 309.718 2247.39 313.329 Q2250.56 316.94 2250.56 323.329 Q2250.56 329.695 2247.39 333.329 Q2244.22 336.94 2238.67 336.94 Q2233.09 336.94 2229.92 333.329 Q2226.77 329.695 2226.77 323.329 Q2226.77 316.94 2229.92 313.329 Q2233.09 309.718 2238.67 309.718 Z\" fill=\"#000000\" fill-rule=\"evenodd\" fill-opacity=\"1\" /><path clip-path=\"url(#clip960)\" d=\"M2279.17 320.621 L2279.17 336.269 L2274.92 336.269 L2274.92 320.76 Q2274.92 317.079 2273.48 315.251 Q2272.04 313.422 2269.17 313.422 Q2265.73 313.422 2263.73 315.621 Q2261.74 317.82 2261.74 321.616 L2261.74 336.269 L2257.46 336.269 L2257.46 310.343 L2261.74 310.343 L2261.74 314.371 Q2263.27 312.033 2265.33 310.876 Q2267.42 309.718 2270.12 309.718 Q2274.59 309.718 2276.88 312.496 Q2279.17 315.251 2279.17 320.621 Z\" fill=\"#000000\" fill-rule=\"evenodd\" fill-opacity=\"1\" /><path clip-path=\"url(#clip960)\" d=\"M2324.91 322.241 L2324.91 324.325 L2305.33 324.325 Q2305.61 328.723 2307.97 331.037 Q2310.35 333.329 2314.59 333.329 Q2317.04 333.329 2319.34 332.727 Q2321.65 332.125 2323.92 330.922 L2323.92 334.95 Q2321.63 335.922 2319.22 336.431 Q2316.81 336.94 2314.34 336.94 Q2308.13 336.94 2304.5 333.329 Q2300.89 329.718 2300.89 323.561 Q2300.89 317.195 2304.31 313.468 Q2307.76 309.718 2313.6 309.718 Q2318.83 309.718 2321.86 313.098 Q2324.91 316.454 2324.91 322.241 M2320.66 320.991 Q2320.61 317.496 2318.69 315.413 Q2316.79 313.329 2313.64 313.329 Q2310.08 313.329 2307.92 315.343 Q2305.79 317.357 2305.47 321.014 L2320.66 320.991 Z\" fill=\"#000000\" fill-rule=\"evenodd\" fill-opacity=\"1\" /><path clip-path=\"url(#clip960)\" d=\"M2346.93 314.325 Q2346.21 313.908 2345.35 313.723 Q2344.52 313.514 2343.5 313.514 Q2339.89 313.514 2337.95 315.876 Q2336.03 318.213 2336.03 322.612 L2336.03 336.269 L2331.74 336.269 L2331.74 310.343 L2336.03 310.343 L2336.03 314.371 Q2337.37 312.01 2339.52 310.876 Q2341.67 309.718 2344.75 309.718 Q2345.19 309.718 2345.72 309.788 Q2346.26 309.834 2346.91 309.95 L2346.93 314.325 Z\" fill=\"#000000\" fill-rule=\"evenodd\" fill-opacity=\"1\" /><path clip-path=\"url(#clip960)\" d=\"M2365.59 314.325 Q2364.87 313.908 2364.01 313.723 Q2363.18 313.514 2362.16 313.514 Q2358.55 313.514 2356.6 315.876 Q2354.68 318.213 2354.68 322.612 L2354.68 336.269 L2350.4 336.269 L2350.4 310.343 L2354.68 310.343 L2354.68 314.371 Q2356.03 312.01 2358.18 310.876 Q2360.33 309.718 2363.41 309.718 Q2363.85 309.718 2364.38 309.788 Q2364.91 309.834 2365.56 309.95 L2365.59 314.325 Z\" fill=\"#000000\" fill-rule=\"evenodd\" fill-opacity=\"1\" /><path clip-path=\"url(#clip960)\" d=\"M2379.06 313.329 Q2375.63 313.329 2373.64 316.014 Q2371.65 318.676 2371.65 323.329 Q2371.65 327.982 2373.62 330.667 Q2375.61 333.329 2379.06 333.329 Q2382.46 333.329 2384.45 330.644 Q2386.44 327.959 2386.44 323.329 Q2386.44 318.723 2384.45 316.038 Q2382.46 313.329 2379.06 313.329 M2379.06 309.718 Q2384.61 309.718 2387.78 313.329 Q2390.96 316.94 2390.96 323.329 Q2390.96 329.695 2387.78 333.329 Q2384.61 336.94 2379.06 336.94 Q2373.48 336.94 2370.31 333.329 Q2367.16 329.695 2367.16 323.329 Q2367.16 316.94 2370.31 313.329 Q2373.48 309.718 2379.06 309.718 Z\" fill=\"#000000\" fill-rule=\"evenodd\" fill-opacity=\"1\" /><path clip-path=\"url(#clip960)\" d=\"M2413.04 314.325 Q2412.32 313.908 2411.47 313.723 Q2410.63 313.514 2409.61 313.514 Q2406 313.514 2404.06 315.876 Q2402.14 318.213 2402.14 322.612 L2402.14 336.269 L2397.85 336.269 L2397.85 310.343 L2402.14 310.343 L2402.14 314.371 Q2403.48 312.01 2405.63 310.876 Q2407.78 309.718 2410.86 309.718 Q2411.3 309.718 2411.84 309.788 Q2412.37 309.834 2413.02 309.95 L2413.04 314.325 Z\" fill=\"#000000\" fill-rule=\"evenodd\" fill-opacity=\"1\" /><path clip-path=\"url(#clip960)\" d=\"\n",
       "M2841.61 3013.49 L5152.76 3013.49 L5152.76 118.82 L2841.61 118.82  Z\n",
       "  \" fill=\"#ffffff\" fill-rule=\"evenodd\" fill-opacity=\"1\"/>\n",
       "<defs>\n",
       "  <clipPath id=\"clip963\">\n",
       "    <rect x=\"2841\" y=\"118\" width=\"2312\" height=\"2896\"/>\n",
       "  </clipPath>\n",
       "</defs>\n",
       "<polyline clip-path=\"url(#clip963)\" style=\"stroke:#000000; stroke-linecap:butt; stroke-linejoin:round; stroke-width:2; stroke-opacity:0.1; fill:none\" points=\"\n",
       "  3045.3,3013.49 3045.3,118.82 \n",
       "  \"/>\n",
       "<polyline clip-path=\"url(#clip963)\" style=\"stroke:#000000; stroke-linecap:butt; stroke-linejoin:round; stroke-width:2; stroke-opacity:0.1; fill:none\" points=\"\n",
       "  3425.84,3013.49 3425.84,118.82 \n",
       "  \"/>\n",
       "<polyline clip-path=\"url(#clip963)\" style=\"stroke:#000000; stroke-linecap:butt; stroke-linejoin:round; stroke-width:2; stroke-opacity:0.1; fill:none\" points=\"\n",
       "  3806.38,3013.49 3806.38,118.82 \n",
       "  \"/>\n",
       "<polyline clip-path=\"url(#clip963)\" style=\"stroke:#000000; stroke-linecap:butt; stroke-linejoin:round; stroke-width:2; stroke-opacity:0.1; fill:none\" points=\"\n",
       "  4186.92,3013.49 4186.92,118.82 \n",
       "  \"/>\n",
       "<polyline clip-path=\"url(#clip963)\" style=\"stroke:#000000; stroke-linecap:butt; stroke-linejoin:round; stroke-width:2; stroke-opacity:0.1; fill:none\" points=\"\n",
       "  4567.45,3013.49 4567.45,118.82 \n",
       "  \"/>\n",
       "<polyline clip-path=\"url(#clip963)\" style=\"stroke:#000000; stroke-linecap:butt; stroke-linejoin:round; stroke-width:2; stroke-opacity:0.1; fill:none\" points=\"\n",
       "  4947.99,3013.49 4947.99,118.82 \n",
       "  \"/>\n",
       "<polyline clip-path=\"url(#clip960)\" style=\"stroke:#000000; stroke-linecap:butt; stroke-linejoin:round; stroke-width:4; stroke-opacity:1; fill:none\" points=\"\n",
       "  2841.61,3013.49 5152.76,3013.49 \n",
       "  \"/>\n",
       "<polyline clip-path=\"url(#clip960)\" style=\"stroke:#000000; stroke-linecap:butt; stroke-linejoin:round; stroke-width:4; stroke-opacity:1; fill:none\" points=\"\n",
       "  3045.3,3013.49 3045.3,2994.6 \n",
       "  \"/>\n",
       "<polyline clip-path=\"url(#clip960)\" style=\"stroke:#000000; stroke-linecap:butt; stroke-linejoin:round; stroke-width:4; stroke-opacity:1; fill:none\" points=\"\n",
       "  3425.84,3013.49 3425.84,2994.6 \n",
       "  \"/>\n",
       "<polyline clip-path=\"url(#clip960)\" style=\"stroke:#000000; stroke-linecap:butt; stroke-linejoin:round; stroke-width:4; stroke-opacity:1; fill:none\" points=\"\n",
       "  3806.38,3013.49 3806.38,2994.6 \n",
       "  \"/>\n",
       "<polyline clip-path=\"url(#clip960)\" style=\"stroke:#000000; stroke-linecap:butt; stroke-linejoin:round; stroke-width:4; stroke-opacity:1; fill:none\" points=\"\n",
       "  4186.92,3013.49 4186.92,2994.6 \n",
       "  \"/>\n",
       "<polyline clip-path=\"url(#clip960)\" style=\"stroke:#000000; stroke-linecap:butt; stroke-linejoin:round; stroke-width:4; stroke-opacity:1; fill:none\" points=\"\n",
       "  4567.45,3013.49 4567.45,2994.6 \n",
       "  \"/>\n",
       "<polyline clip-path=\"url(#clip960)\" style=\"stroke:#000000; stroke-linecap:butt; stroke-linejoin:round; stroke-width:4; stroke-opacity:1; fill:none\" points=\"\n",
       "  4947.99,3013.49 4947.99,2994.6 \n",
       "  \"/>\n",
       "<path clip-path=\"url(#clip960)\" d=\"M3035.68 3094.36 L3043.32 3094.36 L3043.32 3067.99 L3035.01 3069.66 L3035.01 3065.4 L3043.27 3063.73 L3047.95 3063.73 L3047.95 3094.36 L3055.59 3094.36 L3055.59 3098.29 L3035.68 3098.29 L3035.68 3094.36 Z\" fill=\"#000000\" fill-rule=\"evenodd\" fill-opacity=\"1\" /><path clip-path=\"url(#clip960)\" d=\"M3420.49 3094.36 L3436.81 3094.36 L3436.81 3098.29 L3414.86 3098.29 L3414.86 3094.36 Q3417.53 3091.6 3422.11 3086.97 Q3426.72 3082.32 3427.9 3080.98 Q3430.14 3078.46 3431.02 3076.72 Q3431.92 3074.96 3431.92 3073.27 Q3431.92 3070.52 3429.98 3068.78 Q3428.06 3067.04 3424.96 3067.04 Q3422.76 3067.04 3420.3 3067.81 Q3417.87 3068.57 3415.1 3070.12 L3415.1 3065.4 Q3417.92 3064.27 3420.37 3063.69 Q3422.83 3063.11 3424.86 3063.11 Q3430.24 3063.11 3433.43 3065.79 Q3436.62 3068.48 3436.62 3072.97 Q3436.62 3075.1 3435.81 3077.02 Q3435.03 3078.92 3432.92 3081.51 Q3432.34 3082.18 3429.24 3085.4 Q3426.14 3088.59 3420.49 3094.36 Z\" fill=\"#000000\" fill-rule=\"evenodd\" fill-opacity=\"1\" /><path clip-path=\"url(#clip960)\" d=\"M3810.62 3079.66 Q3813.98 3080.38 3815.86 3082.65 Q3817.75 3084.91 3817.75 3088.25 Q3817.75 3093.36 3814.23 3096.16 Q3810.72 3098.96 3804.23 3098.96 Q3802.06 3098.96 3799.74 3098.53 Q3797.45 3098.11 3795 3097.25 L3795 3092.74 Q3796.94 3093.87 3799.26 3094.45 Q3801.57 3095.03 3804.1 3095.03 Q3808.49 3095.03 3810.79 3093.29 Q3813.1 3091.56 3813.1 3088.25 Q3813.1 3085.19 3810.95 3083.48 Q3808.82 3081.74 3805 3081.74 L3800.97 3081.74 L3800.97 3077.9 L3805.18 3077.9 Q3808.63 3077.9 3810.46 3076.53 Q3812.29 3075.15 3812.29 3072.55 Q3812.29 3069.89 3810.39 3068.48 Q3808.52 3067.04 3805 3067.04 Q3803.08 3067.04 3800.88 3067.46 Q3798.68 3067.88 3796.04 3068.76 L3796.04 3064.59 Q3798.7 3063.85 3801.02 3063.48 Q3803.36 3063.11 3805.42 3063.11 Q3810.74 3063.11 3813.84 3065.54 Q3816.94 3067.95 3816.94 3072.07 Q3816.94 3074.94 3815.3 3076.93 Q3813.66 3078.9 3810.62 3079.66 Z\" fill=\"#000000\" fill-rule=\"evenodd\" fill-opacity=\"1\" /><path clip-path=\"url(#clip960)\" d=\"M4189.92 3067.81 L4178.12 3086.26 L4189.92 3086.26 L4189.92 3067.81 M4188.7 3063.73 L4194.58 3063.73 L4194.58 3086.26 L4199.51 3086.26 L4199.51 3090.15 L4194.58 3090.15 L4194.58 3098.29 L4189.92 3098.29 L4189.92 3090.15 L4174.32 3090.15 L4174.32 3085.63 L4188.7 3063.73 Z\" fill=\"#000000\" fill-rule=\"evenodd\" fill-opacity=\"1\" /><path clip-path=\"url(#clip960)\" d=\"M4557.73 3063.73 L4576.09 3063.73 L4576.09 3067.67 L4562.01 3067.67 L4562.01 3076.14 Q4563.03 3075.79 4564.05 3075.63 Q4565.07 3075.45 4566.09 3075.45 Q4571.88 3075.45 4575.26 3078.62 Q4578.63 3081.79 4578.63 3087.21 Q4578.63 3092.78 4575.16 3095.89 Q4571.69 3098.96 4565.37 3098.96 Q4563.2 3098.96 4560.93 3098.59 Q4558.68 3098.22 4556.27 3097.48 L4556.27 3092.78 Q4558.36 3093.92 4560.58 3094.47 Q4562.8 3095.03 4565.28 3095.03 Q4569.28 3095.03 4571.62 3092.92 Q4573.96 3090.82 4573.96 3087.21 Q4573.96 3083.59 4571.62 3081.49 Q4569.28 3079.38 4565.28 3079.38 Q4563.4 3079.38 4561.53 3079.8 Q4559.68 3080.22 4557.73 3081.09 L4557.73 3063.73 Z\" fill=\"#000000\" fill-rule=\"evenodd\" fill-opacity=\"1\" /><path clip-path=\"url(#clip960)\" d=\"M4948.4 3079.15 Q4945.25 3079.15 4943.4 3081.3 Q4941.57 3083.46 4941.57 3087.21 Q4941.57 3090.93 4943.4 3093.11 Q4945.25 3095.26 4948.4 3095.26 Q4951.55 3095.26 4953.38 3093.11 Q4955.23 3090.93 4955.23 3087.21 Q4955.23 3083.46 4953.38 3081.3 Q4951.55 3079.15 4948.4 3079.15 M4957.68 3064.5 L4957.68 3068.76 Q4955.92 3067.92 4954.12 3067.48 Q4952.33 3067.04 4950.57 3067.04 Q4945.94 3067.04 4943.49 3070.17 Q4941.06 3073.29 4940.71 3079.61 Q4942.08 3077.6 4944.14 3076.53 Q4946.2 3075.45 4948.68 3075.45 Q4953.88 3075.45 4956.89 3078.62 Q4959.93 3081.77 4959.93 3087.21 Q4959.93 3092.53 4956.78 3095.75 Q4953.63 3098.96 4948.4 3098.96 Q4942.4 3098.96 4939.23 3094.38 Q4936.06 3089.78 4936.06 3081.05 Q4936.06 3072.85 4939.95 3067.99 Q4943.84 3063.11 4950.39 3063.11 Q4952.15 3063.11 4953.93 3063.46 Q4955.74 3063.8 4957.68 3064.5 Z\" fill=\"#000000\" fill-rule=\"evenodd\" fill-opacity=\"1\" /><path clip-path=\"url(#clip960)\" d=\"M3722.93 3152.84 L3729.36 3152.84 L3729.36 3172.92 L3750.69 3152.84 L3758.96 3152.84 L3735.38 3174.99 L3760.65 3200.36 L3752.18 3200.36 L3729.36 3177.47 L3729.36 3200.36 L3722.93 3200.36 L3722.93 3152.84 Z\" fill=\"#000000\" fill-rule=\"evenodd\" fill-opacity=\"1\" /><path clip-path=\"url(#clip960)\" d=\"M3780.48 3182.44 Q3773.38 3182.44 3770.64 3184.06 Q3767.9 3185.68 3767.9 3189.6 Q3767.9 3192.72 3769.94 3194.56 Q3772.01 3196.38 3775.54 3196.38 Q3780.41 3196.38 3783.34 3192.94 Q3786.3 3189.47 3786.3 3183.74 L3786.3 3182.44 L3780.48 3182.44 M3792.16 3180.02 L3792.16 3200.36 L3786.3 3200.36 L3786.3 3194.95 Q3784.3 3198.19 3781.3 3199.75 Q3778.31 3201.28 3773.98 3201.28 Q3768.51 3201.28 3765.26 3198.23 Q3762.05 3195.14 3762.05 3189.98 Q3762.05 3183.97 3766.06 3180.91 Q3770.1 3177.85 3778.09 3177.85 L3786.3 3177.85 L3786.3 3177.28 Q3786.3 3173.24 3783.63 3171.04 Q3780.99 3168.82 3776.18 3168.82 Q3773.12 3168.82 3770.23 3169.55 Q3767.33 3170.28 3764.66 3171.74 L3764.66 3166.33 Q3767.87 3165.09 3770.9 3164.49 Q3773.92 3163.85 3776.79 3163.85 Q3784.52 3163.85 3788.34 3167.86 Q3792.16 3171.87 3792.16 3180.02 Z\" fill=\"#000000\" fill-rule=\"evenodd\" fill-opacity=\"1\" /><path clip-path=\"url(#clip960)\" d=\"M3833.85 3178.84 L3833.85 3200.36 L3828 3200.36 L3828 3179.03 Q3828 3173.97 3826.02 3171.46 Q3824.05 3168.94 3820.1 3168.94 Q3815.36 3168.94 3812.62 3171.97 Q3809.89 3174.99 3809.89 3180.21 L3809.89 3200.36 L3804 3200.36 L3804 3150.83 L3809.89 3150.83 L3809.89 3170.25 Q3811.99 3167.03 3814.82 3165.44 Q3817.68 3163.85 3821.41 3163.85 Q3827.55 3163.85 3830.7 3167.67 Q3833.85 3171.46 3833.85 3178.84 Z\" fill=\"#000000\" fill-rule=\"evenodd\" fill-opacity=\"1\" /><path clip-path=\"url(#clip960)\" d=\"M3861.74 3182.44 Q3854.64 3182.44 3851.9 3184.06 Q3849.16 3185.68 3849.16 3189.6 Q3849.16 3192.72 3851.2 3194.56 Q3853.27 3196.38 3856.8 3196.38 Q3861.67 3196.38 3864.6 3192.94 Q3867.56 3189.47 3867.56 3183.74 L3867.56 3182.44 L3861.74 3182.44 M3873.42 3180.02 L3873.42 3200.36 L3867.56 3200.36 L3867.56 3194.95 Q3865.55 3198.19 3862.56 3199.75 Q3859.57 3201.28 3855.24 3201.28 Q3849.77 3201.28 3846.52 3198.23 Q3843.31 3195.14 3843.31 3189.98 Q3843.31 3183.97 3847.32 3180.91 Q3851.36 3177.85 3859.35 3177.85 L3867.56 3177.85 L3867.56 3177.28 Q3867.56 3173.24 3864.89 3171.04 Q3862.24 3168.82 3857.44 3168.82 Q3854.38 3168.82 3851.49 3169.55 Q3848.59 3170.28 3845.92 3171.74 L3845.92 3166.33 Q3849.13 3165.09 3852.15 3164.49 Q3855.18 3163.85 3858.04 3163.85 Q3865.78 3163.85 3869.6 3167.86 Q3873.42 3171.87 3873.42 3180.02 Z\" fill=\"#000000\" fill-rule=\"evenodd\" fill-opacity=\"1\" /><path clip-path=\"url(#clip960)\" d=\"M3915.11 3178.84 L3915.11 3200.36 L3909.26 3200.36 L3909.26 3179.03 Q3909.26 3173.97 3907.28 3171.46 Q3905.31 3168.94 3901.36 3168.94 Q3896.62 3168.94 3893.88 3171.97 Q3891.14 3174.99 3891.14 3180.21 L3891.14 3200.36 L3885.26 3200.36 L3885.26 3164.71 L3891.14 3164.71 L3891.14 3170.25 Q3893.25 3167.03 3896.08 3165.44 Q3898.94 3163.85 3902.67 3163.85 Q3908.81 3163.85 3911.96 3167.67 Q3915.11 3171.46 3915.11 3178.84 Z\" fill=\"#000000\" fill-rule=\"evenodd\" fill-opacity=\"1\" /><path clip-path=\"url(#clip960)\" d=\"M3975.27 3171.55 Q3977.46 3167.61 3980.52 3165.73 Q3983.57 3163.85 3987.71 3163.85 Q3993.28 3163.85 3996.31 3167.77 Q3999.33 3171.65 3999.33 3178.84 L3999.33 3200.36 L3993.44 3200.36 L3993.44 3179.03 Q3993.44 3173.91 3991.63 3171.43 Q3989.81 3168.94 3986.09 3168.94 Q3981.54 3168.94 3978.9 3171.97 Q3976.25 3174.99 3976.25 3180.21 L3976.25 3200.36 L3970.37 3200.36 L3970.37 3179.03 Q3970.37 3173.88 3968.55 3171.43 Q3966.74 3168.94 3962.95 3168.94 Q3958.46 3168.94 3955.82 3172 Q3953.18 3175.02 3953.18 3180.21 L3953.18 3200.36 L3947.29 3200.36 L3947.29 3164.71 L3953.18 3164.71 L3953.18 3170.25 Q3955.18 3166.97 3957.98 3165.41 Q3960.79 3163.85 3964.64 3163.85 Q3968.52 3163.85 3971.23 3165.82 Q3973.96 3167.8 3975.27 3171.55 Z\" fill=\"#000000\" fill-rule=\"evenodd\" fill-opacity=\"1\" /><path clip-path=\"url(#clip960)\" d=\"M4027.21 3182.44 Q4020.11 3182.44 4017.38 3184.06 Q4014.64 3185.68 4014.64 3189.6 Q4014.64 3192.72 4016.68 3194.56 Q4018.75 3196.38 4022.28 3196.38 Q4027.15 3196.38 4030.08 3192.94 Q4033.04 3189.47 4033.04 3183.74 L4033.04 3182.44 L4027.21 3182.44 M4038.89 3180.02 L4038.89 3200.36 L4033.04 3200.36 L4033.04 3194.95 Q4031.03 3198.19 4028.04 3199.75 Q4025.05 3201.28 4020.72 3201.28 Q4015.24 3201.28 4012 3198.23 Q4008.78 3195.14 4008.78 3189.98 Q4008.78 3183.97 4012.79 3180.91 Q4016.84 3177.85 4024.82 3177.85 L4033.04 3177.85 L4033.04 3177.28 Q4033.04 3173.24 4030.36 3171.04 Q4027.72 3168.82 4022.92 3168.82 Q4019.86 3168.82 4016.96 3169.55 Q4014.07 3170.28 4011.39 3171.74 L4011.39 3166.33 Q4014.61 3165.09 4017.63 3164.49 Q4020.66 3163.85 4023.52 3163.85 Q4031.25 3163.85 4035.07 3167.86 Q4038.89 3171.87 4038.89 3180.02 Z\" fill=\"#000000\" fill-rule=\"evenodd\" fill-opacity=\"1\" /><path clip-path=\"url(#clip960)\" d=\"M4056.75 3154.59 L4056.75 3164.71 L4068.81 3164.71 L4068.81 3169.26 L4056.75 3169.26 L4056.75 3188.61 Q4056.75 3192.97 4057.93 3194.21 Q4059.14 3195.46 4062.8 3195.46 L4068.81 3195.46 L4068.81 3200.36 L4062.8 3200.36 Q4056.02 3200.36 4053.44 3197.84 Q4050.86 3195.3 4050.86 3188.61 L4050.86 3169.26 L4046.56 3169.26 L4046.56 3164.71 L4050.86 3164.71 L4050.86 3154.59 L4056.75 3154.59 Z\" fill=\"#000000\" fill-rule=\"evenodd\" fill-opacity=\"1\" /><path clip-path=\"url(#clip960)\" d=\"M4097.17 3170.18 Q4096.18 3169.61 4095.01 3169.36 Q4093.86 3169.07 4092.46 3169.07 Q4087.5 3169.07 4084.82 3172.32 Q4082.18 3175.53 4082.18 3181.58 L4082.18 3200.36 L4076.29 3200.36 L4076.29 3164.71 L4082.18 3164.71 L4082.18 3170.25 Q4084.03 3167 4086.99 3165.44 Q4089.95 3163.85 4094.18 3163.85 Q4094.78 3163.85 4095.52 3163.95 Q4096.25 3164.01 4097.14 3164.17 L4097.17 3170.18 Z\" fill=\"#000000\" fill-rule=\"evenodd\" fill-opacity=\"1\" /><path clip-path=\"url(#clip960)\" d=\"M4103.31 3164.71 L4109.17 3164.71 L4109.17 3200.36 L4103.31 3200.36 L4103.31 3164.71 M4103.31 3150.83 L4109.17 3150.83 L4109.17 3158.25 L4103.31 3158.25 L4103.31 3150.83 Z\" fill=\"#000000\" fill-rule=\"evenodd\" fill-opacity=\"1\" /><path clip-path=\"url(#clip960)\" d=\"M4151.06 3164.71 L4138.17 3182.06 L4151.73 3200.36 L4144.82 3200.36 L4134.44 3186.35 L4124.07 3200.36 L4117.16 3200.36 L4131 3181.71 L4118.34 3164.71 L4125.24 3164.71 L4134.7 3177.41 L4144.15 3164.71 L4151.06 3164.71 Z\" fill=\"#000000\" fill-rule=\"evenodd\" fill-opacity=\"1\" /><path clip-path=\"url(#clip960)\" d=\"M4204.66 3177.76 L4184.38 3177.76 Q4184.86 3187.28 4187.05 3191.32 Q4189.79 3196.28 4194.53 3196.28 Q4199.31 3196.28 4201.95 3191.29 Q4204.27 3186.89 4204.66 3177.76 M4204.56 3172.35 Q4203.67 3163.31 4201.95 3160.13 Q4199.21 3155.1 4194.53 3155.1 Q4189.66 3155.1 4187.09 3160.06 Q4185.05 3164.07 4184.44 3172.35 L4204.56 3172.35 M4194.53 3150.32 Q4202.17 3150.32 4206.53 3157.07 Q4210.89 3163.79 4210.89 3175.69 Q4210.89 3187.56 4206.53 3194.31 Q4202.17 3201.09 4194.53 3201.09 Q4186.86 3201.09 4182.54 3194.31 Q4178.17 3187.56 4178.17 3175.69 Q4178.17 3163.79 4182.54 3157.07 Q4186.86 3150.32 4194.53 3150.32 Z\" fill=\"#000000\" fill-rule=\"evenodd\" fill-opacity=\"1\" /><path clip-path=\"url(#clip960)\" d=\"M4218.82 3166.14 L4244.51 3166.14 L4244.51 3169.17 L4218.82 3169.17 L4218.82 3166.14 Z\" fill=\"#000000\" fill-rule=\"evenodd\" fill-opacity=\"1\" /><path clip-path=\"url(#clip960)\" d=\"M4253.83 3175.6 L4260.32 3175.6 L4260.32 3156.15 L4253.23 3157.45 L4253.23 3153.76 L4260.55 3152.52 L4264.91 3152.52 L4264.91 3175.6 L4271.43 3175.6 L4271.43 3179.1 L4253.83 3179.1 L4253.83 3175.6 Z\" fill=\"#000000\" fill-rule=\"evenodd\" fill-opacity=\"1\" /><polyline clip-path=\"url(#clip963)\" style=\"stroke:#000000; stroke-linecap:butt; stroke-linejoin:round; stroke-width:2; stroke-opacity:0.1; fill:none\" points=\"\n",
       "  2841.61,1669.83 5152.76,1669.83 \n",
       "  \"/>\n",
       "<polyline clip-path=\"url(#clip963)\" style=\"stroke:#000000; stroke-linecap:butt; stroke-linejoin:round; stroke-width:2; stroke-opacity:0.1; fill:none\" points=\"\n",
       "  2841.61,169.29 5152.76,169.29 \n",
       "  \"/>\n",
       "<polyline clip-path=\"url(#clip960)\" style=\"stroke:#000000; stroke-linecap:butt; stroke-linejoin:round; stroke-width:4; stroke-opacity:1; fill:none\" points=\"\n",
       "  2841.61,3013.49 2841.61,118.82 \n",
       "  \"/>\n",
       "<polyline clip-path=\"url(#clip960)\" style=\"stroke:#000000; stroke-linecap:butt; stroke-linejoin:round; stroke-width:4; stroke-opacity:1; fill:none\" points=\"\n",
       "  2841.61,1669.83 2860.51,1669.83 \n",
       "  \"/>\n",
       "<polyline clip-path=\"url(#clip960)\" style=\"stroke:#000000; stroke-linecap:butt; stroke-linejoin:round; stroke-width:4; stroke-opacity:1; fill:none\" points=\"\n",
       "  2841.61,169.29 2860.51,169.29 \n",
       "  \"/>\n",
       "<path clip-path=\"url(#clip960)\" d=\"M2637.66 1689.62 L2645.3 1689.62 L2645.3 1663.25 L2636.99 1664.92 L2636.99 1660.66 L2645.26 1658.99 L2649.93 1658.99 L2649.93 1689.62 L2657.57 1689.62 L2657.57 1693.55 L2637.66 1693.55 L2637.66 1689.62 Z\" fill=\"#000000\" fill-rule=\"evenodd\" fill-opacity=\"1\" /><path clip-path=\"url(#clip960)\" d=\"M2677.02 1662.07 Q2673.4 1662.07 2671.58 1665.64 Q2669.77 1669.18 2669.77 1676.31 Q2669.77 1683.41 2671.58 1686.98 Q2673.4 1690.52 2677.02 1690.52 Q2680.65 1690.52 2682.45 1686.98 Q2684.28 1683.41 2684.28 1676.31 Q2684.28 1669.18 2682.45 1665.64 Q2680.65 1662.07 2677.02 1662.07 M2677.02 1658.37 Q2682.83 1658.37 2685.88 1662.97 Q2688.96 1667.56 2688.96 1676.31 Q2688.96 1685.03 2685.88 1689.64 Q2682.83 1694.22 2677.02 1694.22 Q2671.2 1694.22 2668.13 1689.64 Q2665.07 1685.03 2665.07 1676.31 Q2665.07 1667.56 2668.13 1662.97 Q2671.2 1658.37 2677.02 1658.37 Z\" fill=\"#000000\" fill-rule=\"evenodd\" fill-opacity=\"1\" /><path clip-path=\"url(#clip960)\" d=\"M2688.96 1652.47 L2713.07 1652.47 L2713.07 1655.67 L2688.96 1655.67 L2688.96 1652.47 Z\" fill=\"#000000\" fill-rule=\"evenodd\" fill-opacity=\"1\" /><path clip-path=\"url(#clip960)\" d=\"M2721.93 1662.95 L2728.14 1662.95 L2728.14 1641.52 L2721.38 1642.88 L2721.38 1639.42 L2728.1 1638.06 L2731.9 1638.06 L2731.9 1662.95 L2738.1 1662.95 L2738.1 1666.14 L2721.93 1666.14 L2721.93 1662.95 Z\" fill=\"#000000\" fill-rule=\"evenodd\" fill-opacity=\"1\" /><path clip-path=\"url(#clip960)\" d=\"M2753.9 1640.56 Q2750.97 1640.56 2749.48 1643.46 Q2748.02 1646.34 2748.02 1652.13 Q2748.02 1657.9 2749.48 1660.8 Q2750.97 1663.68 2753.9 1663.68 Q2756.86 1663.68 2758.32 1660.8 Q2759.81 1657.9 2759.81 1652.13 Q2759.81 1646.34 2758.32 1643.46 Q2756.86 1640.56 2753.9 1640.56 M2753.9 1637.55 Q2758.62 1637.55 2761.11 1641.3 Q2763.61 1645.02 2763.61 1652.13 Q2763.61 1659.22 2761.11 1662.96 Q2758.62 1666.69 2753.9 1666.69 Q2749.18 1666.69 2746.68 1662.96 Q2744.2 1659.22 2744.2 1652.13 Q2744.2 1645.02 2746.68 1641.3 Q2749.18 1637.55 2753.9 1637.55 Z\" fill=\"#000000\" fill-rule=\"evenodd\" fill-opacity=\"1\" /><path clip-path=\"url(#clip960)\" d=\"M2692.9 189.082 L2700.54 189.082 L2700.54 162.717 L2692.23 164.383 L2692.23 160.124 L2700.49 158.457 L2705.17 158.457 L2705.17 189.082 L2712.81 189.082 L2712.81 193.017 L2692.9 193.017 L2692.9 189.082 Z\" fill=\"#000000\" fill-rule=\"evenodd\" fill-opacity=\"1\" /><path clip-path=\"url(#clip960)\" d=\"M2732.25 161.536 Q2728.64 161.536 2726.81 165.101 Q2725.01 168.643 2725.01 175.772 Q2725.01 182.879 2726.81 186.443 Q2728.64 189.985 2732.25 189.985 Q2735.89 189.985 2737.69 186.443 Q2739.52 182.879 2739.52 175.772 Q2739.52 168.643 2737.69 165.101 Q2735.89 161.536 2732.25 161.536 M2732.25 157.832 Q2738.06 157.832 2741.12 162.439 Q2744.2 167.022 2744.2 175.772 Q2744.2 184.499 2741.12 189.105 Q2738.06 193.689 2732.25 193.689 Q2726.44 193.689 2723.36 189.105 Q2720.31 184.499 2720.31 175.772 Q2720.31 167.022 2723.36 162.439 Q2726.44 157.832 2732.25 157.832 Z\" fill=\"#000000\" fill-rule=\"evenodd\" fill-opacity=\"1\" /><path clip-path=\"url(#clip960)\" d=\"M2753.9 140.028 Q2750.97 140.028 2749.48 142.925 Q2748.02 145.802 2748.02 151.595 Q2748.02 157.369 2749.48 160.266 Q2750.97 163.143 2753.9 163.143 Q2756.86 163.143 2758.32 160.266 Q2759.81 157.369 2759.81 151.595 Q2759.81 145.802 2758.32 142.925 Q2756.86 140.028 2753.9 140.028 M2753.9 137.019 Q2758.62 137.019 2761.11 140.762 Q2763.61 144.486 2763.61 151.595 Q2763.61 158.686 2761.11 162.428 Q2758.62 166.152 2753.9 166.152 Q2749.18 166.152 2746.68 162.428 Q2744.2 158.686 2744.2 151.595 Q2744.2 144.486 2746.68 140.762 Q2749.18 137.019 2753.9 137.019 Z\" fill=\"#000000\" fill-rule=\"evenodd\" fill-opacity=\"1\" /><path clip-path=\"url(#clip960)\" d=\"M3846 27.2059 L3853.46 27.2059 L3853.46 73.3862 Q3853.46 82.0551 3850.13 85.944 Q3846.85 89.8329 3839.52 89.8329 L3836.68 89.8329 L3836.68 83.5134 L3838.67 83.5134 Q3842.92 83.5134 3844.46 81.5285 Q3846 79.5841 3846 73.3862 L3846 27.2059 M3846 9.54393 L3853.46 9.54393 L3853.46 18.9825 L3846 18.9825 L3846 9.54393 Z\" fill=\"#000000\" fill-rule=\"evenodd\" fill-opacity=\"1\" /><path clip-path=\"url(#clip960)\" d=\"M3868.28 54.671 L3868.28 27.2059 L3875.74 27.2059 L3875.74 54.3874 Q3875.74 60.8284 3878.25 64.0691 Q3880.76 67.2693 3885.78 67.2693 Q3891.82 67.2693 3895.3 63.421 Q3898.83 59.5726 3898.83 52.9291 L3898.83 27.2059 L3906.28 27.2059 L3906.28 72.576 L3898.83 72.576 L3898.83 65.6084 Q3896.11 69.7404 3892.51 71.7658 Q3888.94 73.7508 3884.2 73.7508 Q3876.38 73.7508 3872.33 68.8897 Q3868.28 64.0286 3868.28 54.671 M3887.04 26.1121 L3887.04 26.1121 Z\" fill=\"#000000\" fill-rule=\"evenodd\" fill-opacity=\"1\" /><path clip-path=\"url(#clip960)\" d=\"M3921.63 9.54393 L3929.09 9.54393 L3929.09 72.576 L3921.63 72.576 L3921.63 9.54393 Z\" fill=\"#000000\" fill-rule=\"evenodd\" fill-opacity=\"1\" /><path clip-path=\"url(#clip960)\" d=\"M3944.68 27.2059 L3952.14 27.2059 L3952.14 72.576 L3944.68 72.576 L3944.68 27.2059 M3944.68 9.54393 L3952.14 9.54393 L3952.14 18.9825 L3944.68 18.9825 L3944.68 9.54393 Z\" fill=\"#000000\" fill-rule=\"evenodd\" fill-opacity=\"1\" /><path clip-path=\"url(#clip960)\" d=\"M3988.35 49.7694 Q3979.32 49.7694 3975.83 51.8354 Q3972.35 53.9013 3972.35 58.8839 Q3972.35 62.8538 3974.94 65.2034 Q3977.58 67.5124 3982.07 67.5124 Q3988.27 67.5124 3992 63.1374 Q3995.76 58.7219 3995.76 51.4303 L3995.76 49.7694 L3988.35 49.7694 M4003.22 46.6907 L4003.22 72.576 L3995.76 72.576 L3995.76 65.6895 Q3993.21 69.8214 3989.4 71.8063 Q3985.6 73.7508 3980.09 73.7508 Q3973.12 73.7508 3968.99 69.8619 Q3964.9 65.9325 3964.9 59.3701 Q3964.9 51.7138 3970 47.825 Q3975.14 43.9361 3985.31 43.9361 L3995.76 43.9361 L3995.76 43.2069 Q3995.76 38.0623 3992.36 35.2672 Q3989 32.4315 3982.88 32.4315 Q3978.99 32.4315 3975.31 33.3632 Q3971.62 34.295 3968.22 36.1584 L3968.22 29.2718 Q3972.31 27.692 3976.16 26.9223 Q3980.01 26.1121 3983.65 26.1121 Q3993.5 26.1121 3998.36 31.2163 Q4003.22 36.3204 4003.22 46.6907 Z\" fill=\"#000000\" fill-rule=\"evenodd\" fill-opacity=\"1\" /><path clip-path=\"url(#clip960)\" d=\"M4069.81 17.6457 Q4060.9 17.6457 4055.64 24.2892 Q4050.41 30.9327 4050.41 42.3968 Q4050.41 53.8203 4055.64 60.4638 Q4060.9 67.1073 4069.81 67.1073 Q4078.73 67.1073 4083.91 60.4638 Q4089.14 53.8203 4089.14 42.3968 Q4089.14 30.9327 4083.91 24.2892 Q4078.73 17.6457 4069.81 17.6457 M4081.28 71.4823 L4092.05 83.2704 L4082.17 83.2704 L4073.22 73.5887 Q4071.88 73.6697 4071.15 73.7103 Q4070.46 73.7508 4069.81 73.7508 Q4057.05 73.7508 4049.4 65.2439 Q4041.78 56.6965 4041.78 42.3968 Q4041.78 28.0566 4049.4 19.5497 Q4057.05 11.0023 4069.81 11.0023 Q4082.53 11.0023 4090.15 19.5497 Q4097.77 28.0566 4097.77 42.3968 Q4097.77 52.9291 4093.51 60.4233 Q4089.3 67.9175 4081.28 71.4823 Z\" fill=\"#000000\" fill-rule=\"evenodd\" fill-opacity=\"1\" /><path clip-path=\"url(#clip960)\" d=\"M4139.25 44.2197 Q4141.88 45.1109 4144.35 48.0275 Q4146.86 50.9442 4149.37 56.0483 L4157.68 72.576 L4148.89 72.576 L4141.15 57.061 Q4138.15 50.9847 4135.32 48.9997 Q4132.52 47.0148 4127.66 47.0148 L4118.75 47.0148 L4118.75 72.576 L4110.57 72.576 L4110.57 12.096 L4129.04 12.096 Q4139.41 12.096 4144.51 16.4305 Q4149.62 20.7649 4149.62 29.5149 Q4149.62 35.2267 4146.94 38.994 Q4144.31 42.7613 4139.25 44.2197 M4118.75 18.8205 L4118.75 40.2903 L4129.04 40.2903 Q4134.95 40.2903 4137.95 37.5762 Q4140.99 34.8216 4140.99 29.5149 Q4140.99 24.2082 4137.95 21.5346 Q4134.95 18.8205 4129.04 18.8205 L4118.75 18.8205 Z\" fill=\"#000000\" fill-rule=\"evenodd\" fill-opacity=\"1\" /><polyline clip-path=\"url(#clip963)\" style=\"stroke:#009af9; stroke-linecap:butt; stroke-linejoin:round; stroke-width:8; stroke-opacity:1; fill:none\" points=\"\n",
       "  2907.02,2968.32 2919.13,2968.32 2931.24,2968.32 2943.36,2968.32 2955.47,2968.32 2967.58,2968.32 2979.69,2968.32 2991.81,2968.32 3003.92,2968.32 3016.03,2968.32 \n",
       "  3028.15,2968.32 3040.26,2968.32 3052.37,2968.32 3064.49,2968.32 3076.6,2968.32 3088.71,2968.32 3100.82,2968.32 3112.94,2968.32 3125.05,2968.32 3137.16,2968.32 \n",
       "  3149.28,2968.32 3161.39,2968.32 3173.5,2968.32 3185.61,2968.32 3197.73,2968.32 3209.84,2968.32 3221.95,2968.32 3234.07,2968.32 3246.18,2968.32 3258.29,2968.32 \n",
       "  3270.41,2968.32 3282.52,2968.32 3294.63,2968.32 3306.74,2968.32 3318.86,2968.32 3330.97,2968.32 3343.08,2968.32 3355.2,2968.32 3367.31,2968.32 3379.42,2968.32 \n",
       "  3391.53,2968.32 3403.65,2968.32 3415.76,2968.32 3427.87,2968.32 3439.99,2968.32 3452.1,2968.32 3464.21,2968.32 3476.33,2968.32 3488.44,2968.32 3500.55,2968.32 \n",
       "  3512.66,2968.32 3524.78,2968.32 3536.89,2968.32 3549,2968.32 3561.12,2968.32 3573.23,2968.32 3585.34,2968.32 3597.45,2968.32 3609.57,2968.32 3621.68,2968.32 \n",
       "  3633.79,2968.32 3645.91,2968.32 3658.02,2968.32 3670.13,2968.32 3682.25,2968.32 3694.36,2968.32 3706.47,2968.32 3718.58,2968.32 3730.7,2968.32 3742.81,2968.32 \n",
       "  3754.92,2968.32 3767.04,2968.32 3779.15,2968.32 3791.26,2968.32 3803.37,2968.32 3815.49,2968.32 3827.6,2968.32 3839.71,2968.32 3851.83,2968.32 3863.94,2968.32 \n",
       "  3876.05,2968.32 3888.17,2968.32 3900.28,2968.32 3912.39,2968.32 3924.5,2968.32 3936.62,2968.32 3948.73,2968.32 3960.84,2968.32 3972.96,2968.32 3985.07,2968.32 \n",
       "  3997.18,2968.32 4009.29,2968.32 4021.41,2968.32 4033.52,2968.32 4045.63,2968.32 4057.75,2968.32 4069.86,2968.32 4081.97,2968.32 4094.09,2968.32 4106.2,2968.32 \n",
       "  4118.31,2968.32 4130.42,2968.32 4142.54,2968.32 4154.65,2968.32 4166.76,2968.32 4178.88,2968.32 4190.99,2968.32 4203.1,2968.32 4215.21,2968.32 4227.33,2968.32 \n",
       "  4239.44,2968.32 4251.55,2968.32 4263.67,2968.32 4275.78,2968.32 4287.89,2968.32 4300.01,2968.32 4312.12,2968.32 4324.23,2968.32 4336.34,2968.32 4348.46,2968.32 \n",
       "  4360.57,2968.32 4372.68,2968.32 4384.8,2968.32 4396.91,2968.32 4409.02,2968.32 4421.13,2968.32 4433.25,2968.32 4445.36,2968.32 4457.47,2968.32 4469.59,2968.32 \n",
       "  4481.7,2968.32 4493.81,2968.32 4505.93,2968.32 4518.04,2968.32 4530.15,2968.32 4542.26,2968.32 4554.38,2968.32 4566.49,2968.32 4578.6,2968.32 4590.72,2968.32 \n",
       "  4602.83,2968.32 4614.94,2968.32 4627.05,2968.32 4639.17,2968.32 4651.28,2968.32 4663.39,2968.32 4675.51,2968.32 4687.62,2968.32 4699.73,2968.32 4711.84,2968.32 \n",
       "  4723.96,2968.32 4736.07,2968.32 4748.18,2968.32 4760.3,2968.32 4772.41,2968.32 4784.52,2968.32 4796.64,2968.32 4808.75,2968.32 4820.86,2968.32 4832.97,2968.32 \n",
       "  4845.09,2968.32 4857.2,2968.32 4869.31,2968.32 4881.43,2968.32 4893.54,2968.32 4905.65,2968.32 4917.76,2968.32 4929.88,2968.32 4941.99,2968.32 4954.1,2968.32 \n",
       "  4966.22,2968.32 4978.33,2968.32 4990.44,2968.32 5002.56,2968.32 5014.67,2968.32 5026.78,2968.32 5038.89,2968.32 5051.01,2968.32 5063.12,2968.32 5075.23,2968.32 \n",
       "  5087.35,2968.32 \n",
       "  \"/>\n",
       "<polyline clip-path=\"url(#clip963)\" style=\"stroke:#e26f46; stroke-linecap:butt; stroke-linejoin:round; stroke-width:8; stroke-opacity:1; fill:none\" points=\"\n",
       "  2907.02,2968.32 2919.13,2968.32 2931.24,2968.32 2943.36,2968.32 2955.47,2968.32 2967.58,2968.32 2979.69,2968.32 2991.81,2968.32 3003.92,2968.32 3016.03,2968.32 \n",
       "  3028.15,2536.91 3040.26,2968.32 3052.37,2968.32 3064.49,2968.32 3076.6,2968.32 3088.71,2968.32 3100.82,2968.32 3112.94,2968.32 3125.05,2968.32 3137.16,2968.32 \n",
       "  3149.28,2968.32 3161.39,2968.32 3173.5,2968.32 3185.61,2968.32 3197.73,2968.32 3209.84,2968.32 3221.95,2968.32 3234.07,2968.32 3246.18,2968.32 3258.29,2968.32 \n",
       "  3270.41,2968.32 3282.52,2968.32 3294.63,2968.32 3306.74,2968.32 3318.86,2968.32 3330.97,2968.32 3343.08,2968.32 3355.2,2968.32 3367.31,2968.32 3379.42,2968.32 \n",
       "  3391.53,2518.16 3403.65,2968.32 3415.76,2968.32 3427.87,2968.32 3439.99,2968.32 3452.1,2968.32 3464.21,2968.32 3476.33,2968.32 3488.44,2968.32 3500.55,2968.32 \n",
       "  3512.66,2968.32 3524.78,2968.32 3536.89,2968.32 3549,2968.32 3561.12,2968.32 3573.23,2968.32 3585.34,2968.32 3597.45,2968.32 3609.57,2968.32 3621.68,2968.32 \n",
       "  3633.79,2968.32 3645.91,2968.32 3658.02,2968.32 3670.13,2968.32 3682.25,2968.32 3694.36,2968.32 3706.47,2968.32 3718.58,2968.32 3730.7,2968.32 3742.81,2968.32 \n",
       "  3754.92,2968.32 3767.04,2968.32 3779.15,2968.32 3791.26,2968.32 3803.37,2968.32 3815.49,2968.32 3827.6,2968.32 3839.71,2968.32 3851.83,2968.32 3863.94,2968.32 \n",
       "  3876.05,2968.32 3888.17,2968.32 3900.28,2968.32 3912.39,2968.32 3924.5,2968.32 3936.62,2968.32 3948.73,2968.32 3960.84,2968.32 3972.96,2968.32 3985.07,2968.32 \n",
       "  3997.18,2968.32 4009.29,2968.32 4021.41,2968.32 4033.52,2968.32 4045.63,2968.32 4057.75,2968.32 4069.86,2968.32 4081.97,2968.32 4094.09,2968.32 4106.2,2968.32 \n",
       "  4118.31,2968.32 4130.42,2968.32 4142.54,2968.32 4154.65,2968.32 4166.76,2968.32 4178.88,2968.32 4190.99,2968.32 4203.1,2968.32 4215.21,2968.32 4227.33,2968.32 \n",
       "  4239.44,2968.32 4251.55,2968.32 4263.67,2968.32 4275.78,2968.32 4287.89,2968.32 4300.01,2968.32 4312.12,2968.32 4324.23,2968.32 4336.34,2968.32 4348.46,2968.32 \n",
       "  4360.57,2968.32 4372.68,2968.32 4384.8,2968.32 4396.91,2968.32 4409.02,2968.32 4421.13,2968.32 4433.25,2968.32 4445.36,2968.32 4457.47,2968.32 4469.59,2968.32 \n",
       "  4481.7,2968.32 4493.81,2968.32 4505.93,2968.32 4518.04,2968.32 4530.15,2968.32 4542.26,2968.32 4554.38,2968.32 4566.49,2968.32 4578.6,2968.32 4590.72,2968.32 \n",
       "  4602.83,2968.32 4614.94,2968.32 4627.05,2968.32 4639.17,2968.32 4651.28,2968.32 4663.39,2968.32 4675.51,2968.32 4687.62,2968.32 4699.73,2968.32 4711.84,2968.32 \n",
       "  4723.96,2968.32 4736.07,2968.32 4748.18,2968.32 4760.3,2968.32 4772.41,2968.32 4784.52,2968.32 4796.64,2968.32 4808.75,2968.32 4820.86,2968.32 4832.97,2968.32 \n",
       "  4845.09,2968.32 4857.2,2968.32 4869.31,2968.32 4881.43,2968.32 4893.54,2968.32 4905.65,2968.32 4917.76,2968.32 4929.88,2968.32 4941.99,2968.32 4954.1,2968.32 \n",
       "  4966.22,2968.32 4978.33,2968.32 4990.44,2968.32 5002.56,2968.32 5014.67,2968.32 5026.78,2968.32 5038.89,2968.32 5051.01,2968.32 5063.12,2968.32 5075.23,2968.32 \n",
       "  5087.35,2968.32 \n",
       "  \"/>\n",
       "<path clip-path=\"url(#clip960)\" d=\"\n",
       "M4339.64 370.829 L5075.72 370.829 L5075.72 215.309 L4339.64 215.309  Z\n",
       "  \" fill=\"#ffffff\" fill-rule=\"evenodd\" fill-opacity=\"1\"/>\n",
       "<polyline clip-path=\"url(#clip960)\" style=\"stroke:#000000; stroke-linecap:butt; stroke-linejoin:round; stroke-width:4; stroke-opacity:1; fill:none\" points=\"\n",
       "  4339.64,370.829 5075.72,370.829 5075.72,215.309 4339.64,215.309 4339.64,370.829 \n",
       "  \"/>\n",
       "<polyline clip-path=\"url(#clip960)\" style=\"stroke:#009af9; stroke-linecap:butt; stroke-linejoin:round; stroke-width:4; stroke-opacity:1; fill:none\" points=\"\n",
       "  4365.32,267.149 4519.4,267.149 \n",
       "  \"/>\n",
       "<path clip-path=\"url(#clip960)\" d=\"M4556.98 261.489 Q4553.55 261.489 4551.56 264.174 Q4549.57 266.836 4549.57 271.489 Q4549.57 276.142 4551.54 278.827 Q4553.53 281.489 4556.98 281.489 Q4560.38 281.489 4562.37 278.804 Q4564.36 276.119 4564.36 271.489 Q4564.36 266.883 4562.37 264.198 Q4560.38 261.489 4556.98 261.489 M4556.98 257.878 Q4562.53 257.878 4565.7 261.489 Q4568.88 265.1 4568.88 271.489 Q4568.88 277.855 4565.7 281.489 Q4562.53 285.1 4556.98 285.1 Q4551.4 285.1 4548.23 281.489 Q4545.08 277.855 4545.08 271.489 Q4545.08 265.1 4548.23 261.489 Q4551.4 257.878 4556.98 257.878 Z\" fill=\"#000000\" fill-rule=\"evenodd\" fill-opacity=\"1\" /><path clip-path=\"url(#clip960)\" d=\"M4590.96 262.485 Q4590.24 262.068 4589.38 261.883 Q4588.55 261.674 4587.53 261.674 Q4583.92 261.674 4581.98 264.036 Q4580.06 266.373 4580.06 270.772 L4580.06 284.429 L4575.77 284.429 L4575.77 258.503 L4580.06 258.503 L4580.06 262.531 Q4581.4 260.17 4583.55 259.036 Q4585.7 257.878 4588.78 257.878 Q4589.22 257.878 4589.75 257.948 Q4590.29 257.994 4590.94 258.11 L4590.96 262.485 Z\" fill=\"#000000\" fill-rule=\"evenodd\" fill-opacity=\"1\" /><path clip-path=\"url(#clip960)\" d=\"M4599.64 251.142 L4599.64 258.503 L4608.41 258.503 L4608.41 261.813 L4599.64 261.813 L4599.64 275.887 Q4599.64 279.059 4600.5 279.961 Q4601.37 280.864 4604.04 280.864 L4608.41 280.864 L4608.41 284.429 L4604.04 284.429 Q4599.11 284.429 4597.23 282.6 Q4595.36 280.748 4595.36 275.887 L4595.36 261.813 L4592.23 261.813 L4592.23 258.503 L4595.36 258.503 L4595.36 251.142 L4599.64 251.142 Z\" fill=\"#000000\" fill-rule=\"evenodd\" fill-opacity=\"1\" /><path clip-path=\"url(#clip960)\" d=\"M4635.56 268.781 L4635.56 284.429 L4631.31 284.429 L4631.31 268.92 Q4631.31 265.239 4629.87 263.411 Q4628.43 261.582 4625.56 261.582 Q4622.12 261.582 4620.12 263.781 Q4618.13 265.98 4618.13 269.776 L4618.13 284.429 L4613.85 284.429 L4613.85 248.411 L4618.13 248.411 L4618.13 262.531 Q4619.66 260.193 4621.72 259.036 Q4623.81 257.878 4626.51 257.878 Q4630.98 257.878 4633.27 260.656 Q4635.56 263.411 4635.56 268.781 Z\" fill=\"#000000\" fill-rule=\"evenodd\" fill-opacity=\"1\" /><path clip-path=\"url(#clip960)\" d=\"M4654.11 261.489 Q4650.68 261.489 4648.69 264.174 Q4646.7 266.836 4646.7 271.489 Q4646.7 276.142 4648.67 278.827 Q4650.66 281.489 4654.11 281.489 Q4657.51 281.489 4659.5 278.804 Q4661.49 276.119 4661.49 271.489 Q4661.49 266.883 4659.5 264.198 Q4657.51 261.489 4654.11 261.489 M4654.11 257.878 Q4659.66 257.878 4662.83 261.489 Q4666 265.1 4666 271.489 Q4666 277.855 4662.83 281.489 Q4659.66 285.1 4654.11 285.1 Q4648.53 285.1 4645.36 281.489 Q4642.21 277.855 4642.21 271.489 Q4642.21 265.1 4645.36 261.489 Q4648.53 257.878 4654.11 257.878 Z\" fill=\"#000000\" fill-rule=\"evenodd\" fill-opacity=\"1\" /><path clip-path=\"url(#clip960)\" d=\"M4694.62 268.781 L4694.62 284.429 L4690.36 284.429 L4690.36 268.92 Q4690.36 265.239 4688.92 263.411 Q4687.49 261.582 4684.62 261.582 Q4681.17 261.582 4679.18 263.781 Q4677.18 265.98 4677.18 269.776 L4677.18 284.429 L4672.9 284.429 L4672.9 258.503 L4677.18 258.503 L4677.18 262.531 Q4678.71 260.193 4680.77 259.036 Q4682.86 257.878 4685.56 257.878 Q4690.03 257.878 4692.32 260.656 Q4694.62 263.411 4694.62 268.781 Z\" fill=\"#000000\" fill-rule=\"evenodd\" fill-opacity=\"1\" /><path clip-path=\"url(#clip960)\" d=\"M4713.16 261.489 Q4709.73 261.489 4707.74 264.174 Q4705.75 266.836 4705.75 271.489 Q4705.75 276.142 4707.72 278.827 Q4709.71 281.489 4713.16 281.489 Q4716.56 281.489 4718.55 278.804 Q4720.54 276.119 4720.54 271.489 Q4720.54 266.883 4718.55 264.198 Q4716.56 261.489 4713.16 261.489 M4713.16 257.878 Q4718.71 257.878 4721.88 261.489 Q4725.05 265.1 4725.05 271.489 Q4725.05 277.855 4721.88 281.489 Q4718.71 285.1 4713.16 285.1 Q4707.58 285.1 4704.41 281.489 Q4701.26 277.855 4701.26 271.489 Q4701.26 265.1 4704.41 261.489 Q4707.58 257.878 4713.16 257.878 Z\" fill=\"#000000\" fill-rule=\"evenodd\" fill-opacity=\"1\" /><path clip-path=\"url(#clip960)\" d=\"M4747.14 262.485 Q4746.42 262.068 4745.56 261.883 Q4744.73 261.674 4743.71 261.674 Q4740.1 261.674 4738.16 264.036 Q4736.24 266.373 4736.24 270.772 L4736.24 284.429 L4731.95 284.429 L4731.95 258.503 L4736.24 258.503 L4736.24 262.531 Q4737.58 260.17 4739.73 259.036 Q4741.88 257.878 4744.96 257.878 Q4745.4 257.878 4745.93 257.948 Q4746.47 257.994 4747.11 258.11 L4747.14 262.485 Z\" fill=\"#000000\" fill-rule=\"evenodd\" fill-opacity=\"1\" /><path clip-path=\"url(#clip960)\" d=\"M4770.96 263.48 Q4772.55 260.61 4774.78 259.244 Q4777 257.878 4780.01 257.878 Q4784.06 257.878 4786.26 260.725 Q4788.46 263.549 4788.46 268.781 L4788.46 284.429 L4784.17 284.429 L4784.17 268.92 Q4784.17 265.193 4782.86 263.387 Q4781.54 261.582 4778.83 261.582 Q4775.52 261.582 4773.6 263.781 Q4771.67 265.98 4771.67 269.776 L4771.67 284.429 L4767.39 284.429 L4767.39 268.92 Q4767.39 265.17 4766.07 263.387 Q4764.75 261.582 4762 261.582 Q4758.74 261.582 4756.81 263.804 Q4754.89 266.003 4754.89 269.776 L4754.89 284.429 L4750.61 284.429 L4750.61 258.503 L4754.89 258.503 L4754.89 262.531 Q4756.35 260.147 4758.39 259.012 Q4760.42 257.878 4763.23 257.878 Q4766.05 257.878 4768.02 259.313 Q4770.01 260.749 4770.96 263.48 Z\" fill=\"#000000\" fill-rule=\"evenodd\" fill-opacity=\"1\" /><path clip-path=\"url(#clip960)\" d=\"M4808.73 271.397 Q4803.57 271.397 4801.58 272.577 Q4799.59 273.758 4799.59 276.605 Q4799.59 278.873 4801.07 280.216 Q4802.58 281.535 4805.15 281.535 Q4808.69 281.535 4810.82 279.035 Q4812.97 276.512 4812.97 272.346 L4812.97 271.397 L4808.73 271.397 M4817.23 269.637 L4817.23 284.429 L4812.97 284.429 L4812.97 280.494 Q4811.51 282.855 4809.34 283.989 Q4807.16 285.1 4804.01 285.1 Q4800.03 285.1 4797.67 282.878 Q4795.33 280.633 4795.33 276.883 Q4795.33 272.508 4798.25 270.286 Q4801.19 268.063 4807 268.063 L4812.97 268.063 L4812.97 267.647 Q4812.97 264.707 4811.03 263.11 Q4809.11 261.489 4805.61 261.489 Q4803.39 261.489 4801.28 262.022 Q4799.17 262.554 4797.23 263.619 L4797.23 259.684 Q4799.57 258.781 4801.77 258.341 Q4803.97 257.878 4806.05 257.878 Q4811.67 257.878 4814.45 260.795 Q4817.23 263.711 4817.23 269.637 Z\" fill=\"#000000\" fill-rule=\"evenodd\" fill-opacity=\"1\" /><path clip-path=\"url(#clip960)\" d=\"M4826 248.411 L4830.26 248.411 L4830.26 284.429 L4826 284.429 L4826 248.411 Z\" fill=\"#000000\" fill-rule=\"evenodd\" fill-opacity=\"1\" /><path clip-path=\"url(#clip960)\" d=\"M4839.17 258.503 L4843.43 258.503 L4843.43 284.429 L4839.17 284.429 L4839.17 258.503 M4839.17 248.411 L4843.43 248.411 L4843.43 253.804 L4839.17 253.804 L4839.17 248.411 Z\" fill=\"#000000\" fill-rule=\"evenodd\" fill-opacity=\"1\" /><path clip-path=\"url(#clip960)\" d=\"M4856.56 251.142 L4856.56 258.503 L4865.33 258.503 L4865.33 261.813 L4856.56 261.813 L4856.56 275.887 Q4856.56 279.059 4857.42 279.961 Q4858.29 280.864 4860.96 280.864 L4865.33 280.864 L4865.33 284.429 L4860.96 284.429 Q4856.03 284.429 4854.15 282.6 Q4852.28 280.748 4852.28 275.887 L4852.28 261.813 L4849.15 261.813 L4849.15 258.503 L4852.28 258.503 L4852.28 251.142 L4856.56 251.142 Z\" fill=\"#000000\" fill-rule=\"evenodd\" fill-opacity=\"1\" /><path clip-path=\"url(#clip960)\" d=\"M4881.72 286.836 Q4879.92 291.466 4878.2 292.878 Q4876.49 294.29 4873.62 294.29 L4870.22 294.29 L4870.22 290.725 L4872.72 290.725 Q4874.48 290.725 4875.45 289.892 Q4876.42 289.059 4877.6 285.957 L4878.36 284.012 L4867.88 258.503 L4872.39 258.503 L4880.49 278.781 L4888.6 258.503 L4893.11 258.503 L4881.72 286.836 Z\" fill=\"#000000\" fill-rule=\"evenodd\" fill-opacity=\"1\" /><path clip-path=\"url(#clip960)\" d=\"M4936.23 270.401 L4936.23 272.485 L4916.65 272.485 Q4916.93 276.883 4919.29 279.197 Q4921.67 281.489 4925.91 281.489 Q4928.36 281.489 4930.66 280.887 Q4932.97 280.285 4935.24 279.082 L4935.24 283.11 Q4932.95 284.082 4930.54 284.591 Q4928.13 285.1 4925.66 285.1 Q4919.45 285.1 4915.82 281.489 Q4912.21 277.878 4912.21 271.721 Q4912.21 265.355 4915.63 261.628 Q4919.08 257.878 4924.91 257.878 Q4930.15 257.878 4933.18 261.258 Q4936.23 264.614 4936.23 270.401 M4931.98 269.151 Q4931.93 265.656 4930.01 263.573 Q4928.11 261.489 4924.96 261.489 Q4921.4 261.489 4919.24 263.503 Q4917.11 265.517 4916.79 269.174 L4931.98 269.151 Z\" fill=\"#000000\" fill-rule=\"evenodd\" fill-opacity=\"1\" /><path clip-path=\"url(#clip960)\" d=\"M4958.25 262.485 Q4957.53 262.068 4956.67 261.883 Q4955.84 261.674 4954.82 261.674 Q4951.21 261.674 4949.27 264.036 Q4947.35 266.373 4947.35 270.772 L4947.35 284.429 L4943.06 284.429 L4943.06 258.503 L4947.35 258.503 L4947.35 262.531 Q4948.69 260.17 4950.84 259.036 Q4952.99 257.878 4956.07 257.878 Q4956.51 257.878 4957.04 257.948 Q4957.58 257.994 4958.22 258.11 L4958.25 262.485 Z\" fill=\"#000000\" fill-rule=\"evenodd\" fill-opacity=\"1\" /><path clip-path=\"url(#clip960)\" d=\"M4976.91 262.485 Q4976.19 262.068 4975.33 261.883 Q4974.5 261.674 4973.48 261.674 Q4969.87 261.674 4967.92 264.036 Q4966 266.373 4966 270.772 L4966 284.429 L4961.72 284.429 L4961.72 258.503 L4966 258.503 L4966 262.531 Q4967.35 260.17 4969.5 259.036 Q4971.65 257.878 4974.73 257.878 Q4975.17 257.878 4975.7 257.948 Q4976.23 257.994 4976.88 258.11 L4976.91 262.485 Z\" fill=\"#000000\" fill-rule=\"evenodd\" fill-opacity=\"1\" /><path clip-path=\"url(#clip960)\" d=\"M4990.38 261.489 Q4986.95 261.489 4984.96 264.174 Q4982.97 266.836 4982.97 271.489 Q4982.97 276.142 4984.94 278.827 Q4986.93 281.489 4990.38 281.489 Q4993.78 281.489 4995.77 278.804 Q4997.76 276.119 4997.76 271.489 Q4997.76 266.883 4995.77 264.198 Q4993.78 261.489 4990.38 261.489 M4990.38 257.878 Q4995.93 257.878 4999.1 261.489 Q5002.28 265.1 5002.28 271.489 Q5002.28 277.855 4999.1 281.489 Q4995.93 285.1 4990.38 285.1 Q4984.8 285.1 4981.63 281.489 Q4978.48 277.855 4978.48 271.489 Q4978.48 265.1 4981.63 261.489 Q4984.8 257.878 4990.38 257.878 Z\" fill=\"#000000\" fill-rule=\"evenodd\" fill-opacity=\"1\" /><path clip-path=\"url(#clip960)\" d=\"M5024.36 262.485 Q5023.64 262.068 5022.78 261.883 Q5021.95 261.674 5020.93 261.674 Q5017.32 261.674 5015.38 264.036 Q5013.46 266.373 5013.46 270.772 L5013.46 284.429 L5009.17 284.429 L5009.17 258.503 L5013.46 258.503 L5013.46 262.531 Q5014.8 260.17 5016.95 259.036 Q5019.1 257.878 5022.18 257.878 Q5022.62 257.878 5023.16 257.948 Q5023.69 257.994 5024.34 258.11 L5024.36 262.485 Z\" fill=\"#000000\" fill-rule=\"evenodd\" fill-opacity=\"1\" /><polyline clip-path=\"url(#clip960)\" style=\"stroke:#e26f46; stroke-linecap:butt; stroke-linejoin:round; stroke-width:4; stroke-opacity:1; fill:none\" points=\"\n",
       "  4365.32,318.989 4519.4,318.989 \n",
       "  \"/>\n",
       "<path clip-path=\"url(#clip960)\" d=\"M4560.26 314.325 Q4559.55 313.908 4558.69 313.723 Q4557.86 313.514 4556.84 313.514 Q4553.23 313.514 4551.28 315.876 Q4549.36 318.213 4549.36 322.612 L4549.36 336.269 L4545.08 336.269 L4545.08 310.343 L4549.36 310.343 L4549.36 314.371 Q4550.7 312.01 4552.86 310.876 Q4555.01 309.718 4558.09 309.718 Q4558.53 309.718 4559.06 309.788 Q4559.59 309.834 4560.24 309.95 L4560.26 314.325 Z\" fill=\"#000000\" fill-rule=\"evenodd\" fill-opacity=\"1\" /><path clip-path=\"url(#clip960)\" d=\"M4585.87 322.241 L4585.87 324.325 L4566.28 324.325 Q4566.56 328.723 4568.92 331.037 Q4571.31 333.329 4575.54 333.329 Q4578 333.329 4580.29 332.727 Q4582.6 332.125 4584.87 330.922 L4584.87 334.95 Q4582.58 335.922 4580.17 336.431 Q4577.76 336.94 4575.29 336.94 Q4569.08 336.94 4565.45 333.329 Q4561.84 329.718 4561.84 323.561 Q4561.84 317.195 4565.26 313.468 Q4568.71 309.718 4574.55 309.718 Q4579.78 309.718 4582.81 313.098 Q4585.87 316.454 4585.87 322.241 M4581.61 320.991 Q4581.56 317.496 4579.64 315.413 Q4577.74 313.329 4574.59 313.329 Q4571.03 313.329 4568.88 315.343 Q4566.75 317.357 4566.42 321.014 L4581.61 320.991 Z\" fill=\"#000000\" fill-rule=\"evenodd\" fill-opacity=\"1\" /><path clip-path=\"url(#clip960)\" d=\"M4611.51 311.339 L4611.51 315.32 Q4609.71 314.325 4607.88 313.839 Q4606.07 313.329 4604.22 313.329 Q4600.08 313.329 4597.79 315.968 Q4595.5 318.584 4595.5 323.329 Q4595.5 328.075 4597.79 330.713 Q4600.08 333.329 4604.22 333.329 Q4606.07 333.329 4607.88 332.843 Q4609.71 332.334 4611.51 331.338 L4611.51 335.274 Q4609.73 336.107 4607.81 336.524 Q4605.91 336.94 4603.76 336.94 Q4597.9 336.94 4594.45 333.26 Q4591 329.579 4591 323.329 Q4591 316.987 4594.48 313.352 Q4597.97 309.718 4604.04 309.718 Q4606 309.718 4607.88 310.135 Q4609.75 310.528 4611.51 311.339 Z\" fill=\"#000000\" fill-rule=\"evenodd\" fill-opacity=\"1\" /><path clip-path=\"url(#clip960)\" d=\"M4628.97 313.329 Q4625.54 313.329 4623.55 316.014 Q4621.56 318.676 4621.56 323.329 Q4621.56 327.982 4623.53 330.667 Q4625.52 333.329 4628.97 333.329 Q4632.37 333.329 4634.36 330.644 Q4636.35 327.959 4636.35 323.329 Q4636.35 318.723 4634.36 316.038 Q4632.37 313.329 4628.97 313.329 M4628.97 309.718 Q4634.52 309.718 4637.69 313.329 Q4640.87 316.94 4640.87 323.329 Q4640.87 329.695 4637.69 333.329 Q4634.52 336.94 4628.97 336.94 Q4623.39 336.94 4620.22 333.329 Q4617.07 329.695 4617.07 323.329 Q4617.07 316.94 4620.22 313.329 Q4623.39 309.718 4628.97 309.718 Z\" fill=\"#000000\" fill-rule=\"evenodd\" fill-opacity=\"1\" /><path clip-path=\"url(#clip960)\" d=\"M4669.48 320.621 L4669.48 336.269 L4665.22 336.269 L4665.22 320.76 Q4665.22 317.079 4663.78 315.251 Q4662.35 313.422 4659.48 313.422 Q4656.03 313.422 4654.04 315.621 Q4652.05 317.82 4652.05 321.616 L4652.05 336.269 L4647.76 336.269 L4647.76 310.343 L4652.05 310.343 L4652.05 314.371 Q4653.57 312.033 4655.63 310.876 Q4657.72 309.718 4660.43 309.718 Q4664.89 309.718 4667.18 312.496 Q4669.48 315.251 4669.48 320.621 Z\" fill=\"#000000\" fill-rule=\"evenodd\" fill-opacity=\"1\" /><path clip-path=\"url(#clip960)\" d=\"M4694.5 311.107 L4694.5 315.135 Q4692.69 314.209 4690.75 313.746 Q4688.81 313.283 4686.72 313.283 Q4683.55 313.283 4681.95 314.255 Q4680.38 315.227 4680.38 317.172 Q4680.38 318.653 4681.51 319.51 Q4682.65 320.343 4686.07 321.107 L4687.53 321.431 Q4692.07 322.403 4693.97 324.186 Q4695.89 325.945 4695.89 329.116 Q4695.89 332.727 4693.02 334.834 Q4690.17 336.94 4685.17 336.94 Q4683.09 336.94 4680.82 336.524 Q4678.57 336.13 4676.07 335.32 L4676.07 330.922 Q4678.43 332.149 4680.73 332.774 Q4683.02 333.375 4685.26 333.375 Q4688.27 333.375 4689.89 332.357 Q4691.51 331.315 4691.51 329.44 Q4691.51 327.704 4690.33 326.778 Q4689.18 325.852 4685.22 324.996 L4683.74 324.649 Q4679.78 323.815 4678.02 322.102 Q4676.26 320.366 4676.26 317.357 Q4676.26 313.7 4678.85 311.709 Q4681.44 309.718 4686.21 309.718 Q4688.57 309.718 4690.66 310.065 Q4692.74 310.413 4694.5 311.107 Z\" fill=\"#000000\" fill-rule=\"evenodd\" fill-opacity=\"1\" /><path clip-path=\"url(#clip960)\" d=\"M4706.88 302.982 L4706.88 310.343 L4715.66 310.343 L4715.66 313.653 L4706.88 313.653 L4706.88 327.727 Q4706.88 330.899 4707.74 331.801 Q4708.62 332.704 4711.28 332.704 L4715.66 332.704 L4715.66 336.269 L4711.28 336.269 Q4706.35 336.269 4704.48 334.44 Q4702.6 332.588 4702.6 327.727 L4702.6 313.653 L4699.48 313.653 L4699.48 310.343 L4702.6 310.343 L4702.6 302.982 L4706.88 302.982 Z\" fill=\"#000000\" fill-rule=\"evenodd\" fill-opacity=\"1\" /><path clip-path=\"url(#clip960)\" d=\"M4736.28 314.325 Q4735.56 313.908 4734.71 313.723 Q4733.87 313.514 4732.86 313.514 Q4729.24 313.514 4727.3 315.876 Q4725.38 318.213 4725.38 322.612 L4725.38 336.269 L4721.1 336.269 L4721.1 310.343 L4725.38 310.343 L4725.38 314.371 Q4726.72 312.01 4728.87 310.876 Q4731.03 309.718 4734.11 309.718 Q4734.55 309.718 4735.08 309.788 Q4735.61 309.834 4736.26 309.95 L4736.28 314.325 Z\" fill=\"#000000\" fill-rule=\"evenodd\" fill-opacity=\"1\" /><path clip-path=\"url(#clip960)\" d=\"M4740.31 326.038 L4740.31 310.343 L4744.57 310.343 L4744.57 325.875 Q4744.57 329.556 4746 331.408 Q4747.44 333.237 4750.31 333.237 Q4753.76 333.237 4755.75 331.037 Q4757.76 328.838 4757.76 325.042 L4757.76 310.343 L4762.02 310.343 L4762.02 336.269 L4757.76 336.269 L4757.76 332.287 Q4756.21 334.649 4754.15 335.806 Q4752.11 336.94 4749.41 336.94 Q4744.94 336.94 4742.62 334.162 Q4740.31 331.385 4740.31 326.038 M4751.03 309.718 L4751.03 309.718 Z\" fill=\"#000000\" fill-rule=\"evenodd\" fill-opacity=\"1\" /><path clip-path=\"url(#clip960)\" d=\"M4789.45 311.339 L4789.45 315.32 Q4787.65 314.325 4785.82 313.839 Q4784.01 313.329 4782.16 313.329 Q4778.02 313.329 4775.73 315.968 Q4773.43 318.584 4773.43 323.329 Q4773.43 328.075 4775.73 330.713 Q4778.02 333.329 4782.16 333.329 Q4784.01 333.329 4785.82 332.843 Q4787.65 332.334 4789.45 331.338 L4789.45 335.274 Q4787.67 336.107 4785.75 336.524 Q4783.85 336.94 4781.7 336.94 Q4775.84 336.94 4772.39 333.26 Q4768.94 329.579 4768.94 323.329 Q4768.94 316.987 4772.42 313.352 Q4775.91 309.718 4781.98 309.718 Q4783.94 309.718 4785.82 310.135 Q4787.69 310.528 4789.45 311.339 Z\" fill=\"#000000\" fill-rule=\"evenodd\" fill-opacity=\"1\" /><path clip-path=\"url(#clip960)\" d=\"M4801.07 302.982 L4801.07 310.343 L4809.85 310.343 L4809.85 313.653 L4801.07 313.653 L4801.07 327.727 Q4801.07 330.899 4801.93 331.801 Q4802.81 332.704 4805.47 332.704 L4809.85 332.704 L4809.85 336.269 L4805.47 336.269 Q4800.54 336.269 4798.67 334.44 Q4796.79 332.588 4796.79 327.727 L4796.79 313.653 L4793.67 313.653 L4793.67 310.343 L4796.79 310.343 L4796.79 302.982 L4801.07 302.982 Z\" fill=\"#000000\" fill-rule=\"evenodd\" fill-opacity=\"1\" /><path clip-path=\"url(#clip960)\" d=\"M4815.45 310.343 L4819.71 310.343 L4819.71 336.269 L4815.45 336.269 L4815.45 310.343 M4815.45 300.251 L4819.71 300.251 L4819.71 305.644 L4815.45 305.644 L4815.45 300.251 Z\" fill=\"#000000\" fill-rule=\"evenodd\" fill-opacity=\"1\" /><path clip-path=\"url(#clip960)\" d=\"M4838.67 313.329 Q4835.24 313.329 4833.25 316.014 Q4831.26 318.676 4831.26 323.329 Q4831.26 327.982 4833.23 330.667 Q4835.22 333.329 4838.67 333.329 Q4842.07 333.329 4844.06 330.644 Q4846.05 327.959 4846.05 323.329 Q4846.05 318.723 4844.06 316.038 Q4842.07 313.329 4838.67 313.329 M4838.67 309.718 Q4844.22 309.718 4847.39 313.329 Q4850.56 316.94 4850.56 323.329 Q4850.56 329.695 4847.39 333.329 Q4844.22 336.94 4838.67 336.94 Q4833.09 336.94 4829.92 333.329 Q4826.77 329.695 4826.77 323.329 Q4826.77 316.94 4829.92 313.329 Q4833.09 309.718 4838.67 309.718 Z\" fill=\"#000000\" fill-rule=\"evenodd\" fill-opacity=\"1\" /><path clip-path=\"url(#clip960)\" d=\"M4879.17 320.621 L4879.17 336.269 L4874.92 336.269 L4874.92 320.76 Q4874.92 317.079 4873.48 315.251 Q4872.04 313.422 4869.17 313.422 Q4865.73 313.422 4863.73 315.621 Q4861.74 317.82 4861.74 321.616 L4861.74 336.269 L4857.46 336.269 L4857.46 310.343 L4861.74 310.343 L4861.74 314.371 Q4863.27 312.033 4865.33 310.876 Q4867.42 309.718 4870.12 309.718 Q4874.59 309.718 4876.88 312.496 Q4879.17 315.251 4879.17 320.621 Z\" fill=\"#000000\" fill-rule=\"evenodd\" fill-opacity=\"1\" /><path clip-path=\"url(#clip960)\" d=\"M4924.91 322.241 L4924.91 324.325 L4905.33 324.325 Q4905.61 328.723 4907.97 331.037 Q4910.35 333.329 4914.59 333.329 Q4917.04 333.329 4919.34 332.727 Q4921.65 332.125 4923.92 330.922 L4923.92 334.95 Q4921.63 335.922 4919.22 336.431 Q4916.81 336.94 4914.34 336.94 Q4908.13 336.94 4904.5 333.329 Q4900.89 329.718 4900.89 323.561 Q4900.89 317.195 4904.31 313.468 Q4907.76 309.718 4913.6 309.718 Q4918.83 309.718 4921.86 313.098 Q4924.91 316.454 4924.91 322.241 M4920.66 320.991 Q4920.61 317.496 4918.69 315.413 Q4916.79 313.329 4913.64 313.329 Q4910.08 313.329 4907.92 315.343 Q4905.79 317.357 4905.47 321.014 L4920.66 320.991 Z\" fill=\"#000000\" fill-rule=\"evenodd\" fill-opacity=\"1\" /><path clip-path=\"url(#clip960)\" d=\"M4946.93 314.325 Q4946.21 313.908 4945.35 313.723 Q4944.52 313.514 4943.5 313.514 Q4939.89 313.514 4937.95 315.876 Q4936.03 318.213 4936.03 322.612 L4936.03 336.269 L4931.74 336.269 L4931.74 310.343 L4936.03 310.343 L4936.03 314.371 Q4937.37 312.01 4939.52 310.876 Q4941.67 309.718 4944.75 309.718 Q4945.19 309.718 4945.72 309.788 Q4946.26 309.834 4946.91 309.95 L4946.93 314.325 Z\" fill=\"#000000\" fill-rule=\"evenodd\" fill-opacity=\"1\" /><path clip-path=\"url(#clip960)\" d=\"M4965.59 314.325 Q4964.87 313.908 4964.01 313.723 Q4963.18 313.514 4962.16 313.514 Q4958.55 313.514 4956.6 315.876 Q4954.68 318.213 4954.68 322.612 L4954.68 336.269 L4950.4 336.269 L4950.4 310.343 L4954.68 310.343 L4954.68 314.371 Q4956.03 312.01 4958.18 310.876 Q4960.33 309.718 4963.41 309.718 Q4963.85 309.718 4964.38 309.788 Q4964.91 309.834 4965.56 309.95 L4965.59 314.325 Z\" fill=\"#000000\" fill-rule=\"evenodd\" fill-opacity=\"1\" /><path clip-path=\"url(#clip960)\" d=\"M4979.06 313.329 Q4975.63 313.329 4973.64 316.014 Q4971.65 318.676 4971.65 323.329 Q4971.65 327.982 4973.62 330.667 Q4975.61 333.329 4979.06 333.329 Q4982.46 333.329 4984.45 330.644 Q4986.44 327.959 4986.44 323.329 Q4986.44 318.723 4984.45 316.038 Q4982.46 313.329 4979.06 313.329 M4979.06 309.718 Q4984.61 309.718 4987.78 313.329 Q4990.96 316.94 4990.96 323.329 Q4990.96 329.695 4987.78 333.329 Q4984.61 336.94 4979.06 336.94 Q4973.48 336.94 4970.31 333.329 Q4967.16 329.695 4967.16 323.329 Q4967.16 316.94 4970.31 313.329 Q4973.48 309.718 4979.06 309.718 Z\" fill=\"#000000\" fill-rule=\"evenodd\" fill-opacity=\"1\" /><path clip-path=\"url(#clip960)\" d=\"M5013.04 314.325 Q5012.32 313.908 5011.47 313.723 Q5010.63 313.514 5009.61 313.514 Q5006 313.514 5004.06 315.876 Q5002.14 318.213 5002.14 322.612 L5002.14 336.269 L4997.85 336.269 L4997.85 310.343 L5002.14 310.343 L5002.14 314.371 Q5003.48 312.01 5005.63 310.876 Q5007.78 309.718 5010.86 309.718 Q5011.3 309.718 5011.84 309.788 Q5012.37 309.834 5013.02 309.95 L5013.04 314.325 Z\" fill=\"#000000\" fill-rule=\"evenodd\" fill-opacity=\"1\" /></svg>\n"
      ]
     },
     "execution_count": 62,
     "metadata": {},
     "output_type": "execute_result"
    }
   ],
   "source": [
    "ortho_errs_cgs = Float64[]\n",
    "ortho_errs_qr = Float64[]\n",
    "recon_errs_cgs = Float64[]\n",
    "recon_errs_qr = Float64[]\n",
    "range = π ./ (2:.1:20)\n",
    "for θ in range\n",
    "    M = kahan(10, θ)\n",
    "    ϕ = eps(Float64)\n",
    "    M_p = copy(M[:,:])\n",
    "    rot = [cos(ϕ) sin(ϕ); -sin(ϕ) cos(ϕ)]\n",
    "    M_p[1:2,:] = rot * M[1:2,:]\n",
    "    Q_cgs, R_cgs = qr_classical_gram_schmidt(M_p)\n",
    "    Q, R = qr(M_p)\n",
    "    push!(ortho_errs_cgs, orthonormality_error(Q_cgs))\n",
    "    push!(ortho_errs_qr, orthonormality_error(Q[:,:]))\n",
    "    push!(recon_errs_cgs, reconstruction_error(M_p, Q_cgs, R_cgs))\n",
    "    push!(recon_errs_qr, reconstruction_error(M_p, Q, R))\n",
    "end\n",
    "ymin=Inf\n",
    "ymax=0.\n",
    "for series in [ortho_errs_cgs, ortho_errs_qr, recon_errs_cgs, recon_errs_qr]\n",
    "    series[:] = max.(series[:], 0.001*eps())\n",
    "    ymin = min(ymin, minimum(series))\n",
    "    ymax = max(ymax, maximum(series))\n",
    "end\n",
    "ymin *= 0.5\n",
    "ymax *= 2.0\n",
    "p1 = plot( range .^-1, [ortho_errs_cgs recon_errs_cgs]\n",
    "    , yscale=:log10\n",
    "    , label=[\"orthonormality error\" \"reconstruction error\"]\n",
    "    , xlabel=\"Kahan matrix θ⁻¹\"\n",
    "    , title=\"Classical Gram-Schmidt\"\n",
    "    , size=(1300,800)\n",
    "    , ylim=(ymin,ymax)\n",
    ")\n",
    "p2 = plot( range .^-1, [ortho_errs_qr recon_errs_qr]\n",
    "    , yscale=:log10\n",
    "    , label=[\"orthonormality error\" \"reconstruction error\"]\n",
    "    , xlabel=\"Kahan matrix θ⁻¹\"\n",
    "    , title=\"julia QR\"\n",
    "    , size=(1300,800)\n",
    "    , ylim=(ymin,ymax)\n",
    ")\n",
    "draw(plot(p1,p2,layout=(1,2)))"
   ]
  },
  {
   "cell_type": "markdown",
   "id": "5167b904",
   "metadata": {
    "slideshow": {
     "slide_type": "slide"
    }
   },
   "source": [
    "## Modified Gram-Schmidt"
   ]
  },
  {
   "cell_type": "markdown",
   "id": "b96277f7",
   "metadata": {
    "slideshow": {
     "slide_type": "subslide"
    }
   },
   "source": [
    "### Consider projecting out two components of a vector\n",
    "\n",
    "Let $\\hat{Q} = [q_1 | q_2]$, and project out the $\\hat{Q}$ component of vector $v$,\n",
    "\n",
    "$$w \\gets (I - \\hat{Q} \\hat{Q}^*)v$$"
   ]
  },
  {
   "cell_type": "markdown",
   "id": "ed9ee5ac",
   "metadata": {
    "slideshow": {
     "slide_type": "fragment"
    }
   },
   "source": [
    "In exact arithmetic, these are equivalent:"
   ]
  },
  {
   "cell_type": "markdown",
   "id": "80284220",
   "metadata": {
    "cell_style": "split",
    "slideshow": {
     "slide_type": "-"
    }
   },
   "source": [
    "$$w \\gets (I - \\hat{Q}\\hat{Q}^*) v$$\n",
    "\n",
    "AKA:\n",
    "\n",
    "$$\n",
    "\\begin{aligned}\n",
    "w^{(0)} &\\gets v - q_1 (q_1^* v) \\\\\n",
    "w &\\gets w^{(0)} - q_2 (q_2^* v)\n",
    "\\end{aligned}\n",
    "$$"
   ]
  },
  {
   "cell_type": "markdown",
   "id": "586bd38b",
   "metadata": {
    "cell_style": "split"
   },
   "source": [
    "$$ w \\gets (I - q_2 q_2^*) ((I - q_1 q_1^*) v) $$\n",
    "\n",
    "AKA:\n",
    "\n",
    "$$\n",
    "\\begin{aligned}\n",
    "w^{(0)} &\\gets v - q_1 (q_1^* v)\n",
    "\\\\\n",
    "w &\\gets w^{(0)} - q_2 (q_2^* w^{(0)})\n",
    "\\end{aligned}\n",
    "$$"
   ]
  },
  {
   "cell_type": "markdown",
   "id": "e124667a",
   "metadata": {
    "slideshow": {
     "slide_type": "subslide"
    }
   },
   "source": [
    "### Floating point rounding error scales like the inputs"
   ]
  },
  {
   "cell_type": "markdown",
   "id": "8b8eff7f",
   "metadata": {
    "cell_style": "split",
    "slideshow": {
     "slide_type": "-"
    }
   },
   "source": [
    "$$\n",
    "\\begin{aligned}\n",
    "w^{(0)} &\\gets \\underbrace{v - q_1 (q_1^* v)}_{\\delta_1 \\sim \\epsilon \\|v\\|} \\\\\n",
    "w &\\gets \\underbrace{w^{(0)} - q_2 (q_2^* v)}_{\\delta_2 \\sim \\epsilon \\max\\{\\|w^{(0)}\\|,\\|v\\|\\}}\n",
    "\\end{aligned}\n",
    "$$"
   ]
  },
  {
   "cell_type": "markdown",
   "id": "2fd61533",
   "metadata": {
    "cell_style": "split",
    "slideshow": {
     "slide_type": "-"
    }
   },
   "source": [
    "$$\n",
    "\\begin{aligned}\n",
    "w^{(0)} &\\gets \\underbrace{v - q_1 (q_1^* v)}_{\\delta_1 \\sim \\epsilon \\|v\\|} \\\\\n",
    "w &\\gets \\underbrace{w^{(0)} - q_2 (q_2^* w^{(0)})}_{\\delta_2 \\sim \\epsilon \\|w^{(0)}\\|}\n",
    "\\end{aligned}\n",
    "$$"
   ]
  },
  {
   "cell_type": "markdown",
   "id": "e332ed4f",
   "metadata": {
    "slideshow": {
     "slide_type": "fragment"
    }
   },
   "source": [
    "- The first approach (calculating every projection coefficient $(q_i^*v)$ with the original vector) accumulates a rounding error $\\sim \\epsilon \\|v\\|$ _for each projection_,\n",
    "$\\sim \\epsilon(\\|v\\| + \\|v\\| + \\|v\\| + \\dots)$."
   ]
  },
  {
   "cell_type": "markdown",
   "id": "270ab155",
   "metadata": {
    "slideshow": {
     "slide_type": "fragment"
    }
   },
   "source": [
    "- The second approach (calculating $q_j$'s projection coefficient on the result of the previous projections) accumulates rounding errors $\\sim \\epsilon (\\|v\\| + \\|(I-P_1)v\\| + \\|(I-P_{1:2})v\\| + \\dots)$."
   ]
  },
  {
   "cell_type": "markdown",
   "id": "44208f92",
   "metadata": {
    "slideshow": {
     "slide_type": "fragment"
    }
   },
   "source": [
    "- Orthogonal projection can only make a vector smaller, $\\|v\\| \\geq \\|(I - P_1) v\\| \\geq \\|(I - P_{1:2})v \\| \\geq \\dots$."
   ]
  },
  {
   "cell_type": "markdown",
   "id": "bf078dd4",
   "metadata": {
    "slideshow": {
     "slide_type": "subslide"
    }
   },
   "source": [
    "### Exercise: Modified Gram-Schmidt (forward looking)"
   ]
  },
  {
   "cell_type": "markdown",
   "id": "afe8d4ed",
   "metadata": {
    "cell_style": "split"
   },
   "source": [
    "At step $i$:\n",
    "\n",
    "1. Normalize:\n",
    "\n",
    "$$\n",
    "\\begin{aligned}\n",
    "r_{i,i} &\\gets \\|\\tilde{q}_i\\| \\\\\n",
    "q_j &\\gets \\tilde{q}_i / r_{ii}\n",
    "\\end{aligned}\n",
    "$$\n",
    "\n",
    "2. Project $q_i$ out of all subsequent vectors $j > i$\n",
    "\n",
    "$$\n",
    "\\begin{aligned}\n",
    "r_{i,j} &\\gets q_i^* \\tilde{q}_j \\\\\n",
    "\\tilde{q}_j &\\gets \\tilde{q}_j - r_{i,j} q_i \n",
    "\\end{aligned}\n",
    "$$"
   ]
  },
  {
   "cell_type": "code",
   "execution_count": 65,
   "id": "e1ae8296",
   "metadata": {
    "cell_style": "split"
   },
   "outputs": [
    {
     "name": "stdout",
     "output_type": "stream",
     "text": [
      "Reconstruction error || A - Q R ||_F = 3.5760557644884744e-16\n",
      "Orthonormality error || I - Q'Q ||_F = 4.1279265136313973e-16\n",
      "Upper-triangularity error || R - triu(R) ||_F = 0.0\n"
     ]
    },
    {
     "data": {
      "text/plain": [
       "true"
      ]
     },
     "execution_count": 65,
     "metadata": {},
     "output_type": "execute_result"
    }
   ],
   "source": [
    "function cg_modified_gram_schmidt(A)\n",
    "    n = size(A)[2]\n",
    "    Q = copy(A)\n",
    "    R = zeros(eltype(A), n, n)\n",
    "    for i in 1:n\n",
    "        # precondition: Q[:,i] is orthogonal to prec.\n",
    "        R[i,i] = norm(Q[:,i])\n",
    "        Q[:,i] /= R[i,i]\n",
    "        R[i,i+1:end] = Q[:,i]' * Q[:,i+1:end]\n",
    "        Q[:,i+1:end] -= Q[:,[i]] * R[[i],i+1:end]\n",
    "    end\n",
    "    return Q, R\n",
    "end\n",
    "m = 10; n = 5;\n",
    "A = randn(m,n)\n",
    "Q, R = cg_modified_gram_schmidt(A)\n",
    "qr_test(A, Q, R)"
   ]
  },
  {
   "cell_type": "code",
   "execution_count": 27,
   "id": "c5fd7db0",
   "metadata": {
    "hideCode": true,
    "scrolled": false,
    "slideshow": {
     "slide_type": "subslide"
    }
   },
   "outputs": [
    {
     "data": {
      "image/svg+xml": [
       "<?xml version=\"1.0\" encoding=\"utf-8\"?>\n",
       "<svg xmlns=\"http://www.w3.org/2000/svg\" xmlns:xlink=\"http://www.w3.org/1999/xlink\" width=\"1300\" height=\"800\" viewBox=\"0 0 5200 3200\">\n",
       "<defs>\n",
       "  <clipPath id=\"clip850\">\n",
       "    <rect x=\"0\" y=\"0\" width=\"5200\" height=\"3200\"/>\n",
       "  </clipPath>\n",
       "</defs>\n",
       "<path clip-path=\"url(#clip850)\" d=\"\n",
       "M0 3200 L5200 3200 L5200 0 L0 0  Z\n",
       "  \" fill=\"#ffffff\" fill-rule=\"evenodd\" fill-opacity=\"1\"/>\n",
       "<defs>\n",
       "  <clipPath id=\"clip851\">\n",
       "    <rect x=\"1040\" y=\"0\" width=\"3641\" height=\"3200\"/>\n",
       "  </clipPath>\n",
       "</defs>\n",
       "<path clip-path=\"url(#clip850)\" d=\"\n",
       "M241.607 3013.49 L2552.76 3013.49 L2552.76 118.82 L241.607 118.82  Z\n",
       "  \" fill=\"#ffffff\" fill-rule=\"evenodd\" fill-opacity=\"1\"/>\n",
       "<defs>\n",
       "  <clipPath id=\"clip852\">\n",
       "    <rect x=\"241\" y=\"118\" width=\"2312\" height=\"2896\"/>\n",
       "  </clipPath>\n",
       "</defs>\n",
       "<polyline clip-path=\"url(#clip852)\" style=\"stroke:#000000; stroke-linecap:butt; stroke-linejoin:round; stroke-width:2; stroke-opacity:0.1; fill:none\" points=\"\n",
       "  445.298,3013.49 445.298,118.82 \n",
       "  \"/>\n",
       "<polyline clip-path=\"url(#clip852)\" style=\"stroke:#000000; stroke-linecap:butt; stroke-linejoin:round; stroke-width:2; stroke-opacity:0.1; fill:none\" points=\"\n",
       "  825.837,3013.49 825.837,118.82 \n",
       "  \"/>\n",
       "<polyline clip-path=\"url(#clip852)\" style=\"stroke:#000000; stroke-linecap:butt; stroke-linejoin:round; stroke-width:2; stroke-opacity:0.1; fill:none\" points=\"\n",
       "  1206.38,3013.49 1206.38,118.82 \n",
       "  \"/>\n",
       "<polyline clip-path=\"url(#clip852)\" style=\"stroke:#000000; stroke-linecap:butt; stroke-linejoin:round; stroke-width:2; stroke-opacity:0.1; fill:none\" points=\"\n",
       "  1586.92,3013.49 1586.92,118.82 \n",
       "  \"/>\n",
       "<polyline clip-path=\"url(#clip852)\" style=\"stroke:#000000; stroke-linecap:butt; stroke-linejoin:round; stroke-width:2; stroke-opacity:0.1; fill:none\" points=\"\n",
       "  1967.45,3013.49 1967.45,118.82 \n",
       "  \"/>\n",
       "<polyline clip-path=\"url(#clip852)\" style=\"stroke:#000000; stroke-linecap:butt; stroke-linejoin:round; stroke-width:2; stroke-opacity:0.1; fill:none\" points=\"\n",
       "  2347.99,3013.49 2347.99,118.82 \n",
       "  \"/>\n",
       "<polyline clip-path=\"url(#clip850)\" style=\"stroke:#000000; stroke-linecap:butt; stroke-linejoin:round; stroke-width:4; stroke-opacity:1; fill:none\" points=\"\n",
       "  241.607,3013.49 2552.76,3013.49 \n",
       "  \"/>\n",
       "<polyline clip-path=\"url(#clip850)\" style=\"stroke:#000000; stroke-linecap:butt; stroke-linejoin:round; stroke-width:4; stroke-opacity:1; fill:none\" points=\"\n",
       "  445.298,3013.49 445.298,2994.6 \n",
       "  \"/>\n",
       "<polyline clip-path=\"url(#clip850)\" style=\"stroke:#000000; stroke-linecap:butt; stroke-linejoin:round; stroke-width:4; stroke-opacity:1; fill:none\" points=\"\n",
       "  825.837,3013.49 825.837,2994.6 \n",
       "  \"/>\n",
       "<polyline clip-path=\"url(#clip850)\" style=\"stroke:#000000; stroke-linecap:butt; stroke-linejoin:round; stroke-width:4; stroke-opacity:1; fill:none\" points=\"\n",
       "  1206.38,3013.49 1206.38,2994.6 \n",
       "  \"/>\n",
       "<polyline clip-path=\"url(#clip850)\" style=\"stroke:#000000; stroke-linecap:butt; stroke-linejoin:round; stroke-width:4; stroke-opacity:1; fill:none\" points=\"\n",
       "  1586.92,3013.49 1586.92,2994.6 \n",
       "  \"/>\n",
       "<polyline clip-path=\"url(#clip850)\" style=\"stroke:#000000; stroke-linecap:butt; stroke-linejoin:round; stroke-width:4; stroke-opacity:1; fill:none\" points=\"\n",
       "  1967.45,3013.49 1967.45,2994.6 \n",
       "  \"/>\n",
       "<polyline clip-path=\"url(#clip850)\" style=\"stroke:#000000; stroke-linecap:butt; stroke-linejoin:round; stroke-width:4; stroke-opacity:1; fill:none\" points=\"\n",
       "  2347.99,3013.49 2347.99,2994.6 \n",
       "  \"/>\n",
       "<path clip-path=\"url(#clip850)\" d=\"M435.68 3094.36 L443.319 3094.36 L443.319 3067.99 L435.008 3069.66 L435.008 3065.4 L443.272 3063.73 L447.948 3063.73 L447.948 3094.36 L455.587 3094.36 L455.587 3098.29 L435.68 3098.29 L435.68 3094.36 Z\" fill=\"#000000\" fill-rule=\"evenodd\" fill-opacity=\"1\" /><path clip-path=\"url(#clip850)\" d=\"M820.49 3094.36 L836.809 3094.36 L836.809 3098.29 L814.865 3098.29 L814.865 3094.36 Q817.527 3091.6 822.11 3086.97 Q826.717 3082.32 827.897 3080.98 Q830.142 3078.46 831.022 3076.72 Q831.925 3074.96 831.925 3073.27 Q831.925 3070.52 829.98 3068.78 Q828.059 3067.04 824.957 3067.04 Q822.758 3067.04 820.305 3067.81 Q817.874 3068.57 815.096 3070.12 L815.096 3065.4 Q817.92 3064.27 820.374 3063.69 Q822.828 3063.11 824.865 3063.11 Q830.235 3063.11 833.429 3065.79 Q836.624 3068.48 836.624 3072.97 Q836.624 3075.1 835.814 3077.02 Q835.027 3078.92 832.92 3081.51 Q832.341 3082.18 829.24 3085.4 Q826.138 3088.59 820.49 3094.36 Z\" fill=\"#000000\" fill-rule=\"evenodd\" fill-opacity=\"1\" /><path clip-path=\"url(#clip850)\" d=\"M1210.62 3079.66 Q1213.98 3080.38 1215.86 3082.65 Q1217.75 3084.91 1217.75 3088.25 Q1217.75 3093.36 1214.23 3096.16 Q1210.72 3098.96 1204.23 3098.96 Q1202.06 3098.96 1199.74 3098.53 Q1197.45 3098.11 1195 3097.25 L1195 3092.74 Q1196.94 3093.87 1199.26 3094.45 Q1201.57 3095.03 1204.1 3095.03 Q1208.49 3095.03 1210.79 3093.29 Q1213.1 3091.56 1213.1 3088.25 Q1213.1 3085.19 1210.95 3083.48 Q1208.82 3081.74 1205 3081.74 L1200.97 3081.74 L1200.97 3077.9 L1205.18 3077.9 Q1208.63 3077.9 1210.46 3076.53 Q1212.29 3075.15 1212.29 3072.55 Q1212.29 3069.89 1210.39 3068.48 Q1208.52 3067.04 1205 3067.04 Q1203.08 3067.04 1200.88 3067.46 Q1198.68 3067.88 1196.04 3068.76 L1196.04 3064.59 Q1198.7 3063.85 1201.02 3063.48 Q1203.36 3063.11 1205.42 3063.11 Q1210.74 3063.11 1213.84 3065.54 Q1216.94 3067.95 1216.94 3072.07 Q1216.94 3074.94 1215.3 3076.93 Q1213.66 3078.9 1210.62 3079.66 Z\" fill=\"#000000\" fill-rule=\"evenodd\" fill-opacity=\"1\" /><path clip-path=\"url(#clip850)\" d=\"M1589.92 3067.81 L1578.12 3086.26 L1589.92 3086.26 L1589.92 3067.81 M1588.7 3063.73 L1594.58 3063.73 L1594.58 3086.26 L1599.51 3086.26 L1599.51 3090.15 L1594.58 3090.15 L1594.58 3098.29 L1589.92 3098.29 L1589.92 3090.15 L1574.32 3090.15 L1574.32 3085.63 L1588.7 3063.73 Z\" fill=\"#000000\" fill-rule=\"evenodd\" fill-opacity=\"1\" /><path clip-path=\"url(#clip850)\" d=\"M1957.73 3063.73 L1976.09 3063.73 L1976.09 3067.67 L1962.01 3067.67 L1962.01 3076.14 Q1963.03 3075.79 1964.05 3075.63 Q1965.07 3075.45 1966.09 3075.45 Q1971.88 3075.45 1975.26 3078.62 Q1978.63 3081.79 1978.63 3087.21 Q1978.63 3092.78 1975.16 3095.89 Q1971.69 3098.96 1965.37 3098.96 Q1963.2 3098.96 1960.93 3098.59 Q1958.68 3098.22 1956.27 3097.48 L1956.27 3092.78 Q1958.36 3093.92 1960.58 3094.47 Q1962.8 3095.03 1965.28 3095.03 Q1969.28 3095.03 1971.62 3092.92 Q1973.96 3090.82 1973.96 3087.21 Q1973.96 3083.59 1971.62 3081.49 Q1969.28 3079.38 1965.28 3079.38 Q1963.4 3079.38 1961.53 3079.8 Q1959.68 3080.22 1957.73 3081.09 L1957.73 3063.73 Z\" fill=\"#000000\" fill-rule=\"evenodd\" fill-opacity=\"1\" /><path clip-path=\"url(#clip850)\" d=\"M2348.4 3079.15 Q2345.25 3079.15 2343.4 3081.3 Q2341.57 3083.46 2341.57 3087.21 Q2341.57 3090.93 2343.4 3093.11 Q2345.25 3095.26 2348.4 3095.26 Q2351.55 3095.26 2353.38 3093.11 Q2355.23 3090.93 2355.23 3087.21 Q2355.23 3083.46 2353.38 3081.3 Q2351.55 3079.15 2348.4 3079.15 M2357.68 3064.5 L2357.68 3068.76 Q2355.92 3067.92 2354.12 3067.48 Q2352.33 3067.04 2350.57 3067.04 Q2345.94 3067.04 2343.49 3070.17 Q2341.06 3073.29 2340.71 3079.61 Q2342.08 3077.6 2344.14 3076.53 Q2346.2 3075.45 2348.68 3075.45 Q2353.88 3075.45 2356.89 3078.62 Q2359.93 3081.77 2359.93 3087.21 Q2359.93 3092.53 2356.78 3095.75 Q2353.63 3098.96 2348.4 3098.96 Q2342.4 3098.96 2339.23 3094.38 Q2336.06 3089.78 2336.06 3081.05 Q2336.06 3072.85 2339.95 3067.99 Q2343.84 3063.11 2350.39 3063.11 Q2352.15 3063.11 2353.93 3063.46 Q2355.74 3063.8 2357.68 3064.5 Z\" fill=\"#000000\" fill-rule=\"evenodd\" fill-opacity=\"1\" /><path clip-path=\"url(#clip850)\" d=\"M1122.93 3152.84 L1129.36 3152.84 L1129.36 3172.92 L1150.69 3152.84 L1158.96 3152.84 L1135.38 3174.99 L1160.65 3200.36 L1152.18 3200.36 L1129.36 3177.47 L1129.36 3200.36 L1122.93 3200.36 L1122.93 3152.84 Z\" fill=\"#000000\" fill-rule=\"evenodd\" fill-opacity=\"1\" /><path clip-path=\"url(#clip850)\" d=\"M1180.48 3182.44 Q1173.38 3182.44 1170.64 3184.06 Q1167.9 3185.68 1167.9 3189.6 Q1167.9 3192.72 1169.94 3194.56 Q1172.01 3196.38 1175.54 3196.38 Q1180.41 3196.38 1183.34 3192.94 Q1186.3 3189.47 1186.3 3183.74 L1186.3 3182.44 L1180.48 3182.44 M1192.16 3180.02 L1192.16 3200.36 L1186.3 3200.36 L1186.3 3194.95 Q1184.3 3198.19 1181.3 3199.75 Q1178.31 3201.28 1173.98 3201.28 Q1168.51 3201.28 1165.26 3198.23 Q1162.05 3195.14 1162.05 3189.98 Q1162.05 3183.97 1166.06 3180.91 Q1170.1 3177.85 1178.09 3177.85 L1186.3 3177.85 L1186.3 3177.28 Q1186.3 3173.24 1183.63 3171.04 Q1180.99 3168.82 1176.18 3168.82 Q1173.12 3168.82 1170.23 3169.55 Q1167.33 3170.28 1164.66 3171.74 L1164.66 3166.33 Q1167.87 3165.09 1170.9 3164.49 Q1173.92 3163.85 1176.79 3163.85 Q1184.52 3163.85 1188.34 3167.86 Q1192.16 3171.87 1192.16 3180.02 Z\" fill=\"#000000\" fill-rule=\"evenodd\" fill-opacity=\"1\" /><path clip-path=\"url(#clip850)\" d=\"M1233.85 3178.84 L1233.85 3200.36 L1228 3200.36 L1228 3179.03 Q1228 3173.97 1226.02 3171.46 Q1224.05 3168.94 1220.1 3168.94 Q1215.36 3168.94 1212.62 3171.97 Q1209.89 3174.99 1209.89 3180.21 L1209.89 3200.36 L1204 3200.36 L1204 3150.83 L1209.89 3150.83 L1209.89 3170.25 Q1211.99 3167.03 1214.82 3165.44 Q1217.68 3163.85 1221.41 3163.85 Q1227.55 3163.85 1230.7 3167.67 Q1233.85 3171.46 1233.85 3178.84 Z\" fill=\"#000000\" fill-rule=\"evenodd\" fill-opacity=\"1\" /><path clip-path=\"url(#clip850)\" d=\"M1261.74 3182.44 Q1254.64 3182.44 1251.9 3184.06 Q1249.16 3185.68 1249.16 3189.6 Q1249.16 3192.72 1251.2 3194.56 Q1253.27 3196.38 1256.8 3196.38 Q1261.67 3196.38 1264.6 3192.94 Q1267.56 3189.47 1267.56 3183.74 L1267.56 3182.44 L1261.74 3182.44 M1273.42 3180.02 L1273.42 3200.36 L1267.56 3200.36 L1267.56 3194.95 Q1265.55 3198.19 1262.56 3199.75 Q1259.57 3201.28 1255.24 3201.28 Q1249.77 3201.28 1246.52 3198.23 Q1243.31 3195.14 1243.31 3189.98 Q1243.31 3183.97 1247.32 3180.91 Q1251.36 3177.85 1259.35 3177.85 L1267.56 3177.85 L1267.56 3177.28 Q1267.56 3173.24 1264.89 3171.04 Q1262.24 3168.82 1257.44 3168.82 Q1254.38 3168.82 1251.49 3169.55 Q1248.59 3170.28 1245.92 3171.74 L1245.92 3166.33 Q1249.13 3165.09 1252.15 3164.49 Q1255.18 3163.85 1258.04 3163.85 Q1265.78 3163.85 1269.6 3167.86 Q1273.42 3171.87 1273.42 3180.02 Z\" fill=\"#000000\" fill-rule=\"evenodd\" fill-opacity=\"1\" /><path clip-path=\"url(#clip850)\" d=\"M1315.11 3178.84 L1315.11 3200.36 L1309.26 3200.36 L1309.26 3179.03 Q1309.26 3173.97 1307.28 3171.46 Q1305.31 3168.94 1301.36 3168.94 Q1296.62 3168.94 1293.88 3171.97 Q1291.14 3174.99 1291.14 3180.21 L1291.14 3200.36 L1285.26 3200.36 L1285.26 3164.71 L1291.14 3164.71 L1291.14 3170.25 Q1293.25 3167.03 1296.08 3165.44 Q1298.94 3163.85 1302.67 3163.85 Q1308.81 3163.85 1311.96 3167.67 Q1315.11 3171.46 1315.11 3178.84 Z\" fill=\"#000000\" fill-rule=\"evenodd\" fill-opacity=\"1\" /><path clip-path=\"url(#clip850)\" d=\"M1375.27 3171.55 Q1377.46 3167.61 1380.52 3165.73 Q1383.57 3163.85 1387.71 3163.85 Q1393.28 3163.85 1396.31 3167.77 Q1399.33 3171.65 1399.33 3178.84 L1399.33 3200.36 L1393.44 3200.36 L1393.44 3179.03 Q1393.44 3173.91 1391.63 3171.43 Q1389.81 3168.94 1386.09 3168.94 Q1381.54 3168.94 1378.9 3171.97 Q1376.25 3174.99 1376.25 3180.21 L1376.25 3200.36 L1370.37 3200.36 L1370.37 3179.03 Q1370.37 3173.88 1368.55 3171.43 Q1366.74 3168.94 1362.95 3168.94 Q1358.46 3168.94 1355.82 3172 Q1353.18 3175.02 1353.18 3180.21 L1353.18 3200.36 L1347.29 3200.36 L1347.29 3164.71 L1353.18 3164.71 L1353.18 3170.25 Q1355.18 3166.97 1357.98 3165.41 Q1360.79 3163.85 1364.64 3163.85 Q1368.52 3163.85 1371.23 3165.82 Q1373.96 3167.8 1375.27 3171.55 Z\" fill=\"#000000\" fill-rule=\"evenodd\" fill-opacity=\"1\" /><path clip-path=\"url(#clip850)\" d=\"M1427.21 3182.44 Q1420.11 3182.44 1417.38 3184.06 Q1414.64 3185.68 1414.64 3189.6 Q1414.64 3192.72 1416.68 3194.56 Q1418.75 3196.38 1422.28 3196.38 Q1427.15 3196.38 1430.08 3192.94 Q1433.04 3189.47 1433.04 3183.74 L1433.04 3182.44 L1427.21 3182.44 M1438.89 3180.02 L1438.89 3200.36 L1433.04 3200.36 L1433.04 3194.95 Q1431.03 3198.19 1428.04 3199.75 Q1425.05 3201.28 1420.72 3201.28 Q1415.24 3201.28 1412 3198.23 Q1408.78 3195.14 1408.78 3189.98 Q1408.78 3183.97 1412.79 3180.91 Q1416.84 3177.85 1424.82 3177.85 L1433.04 3177.85 L1433.04 3177.28 Q1433.04 3173.24 1430.36 3171.04 Q1427.72 3168.82 1422.92 3168.82 Q1419.86 3168.82 1416.96 3169.55 Q1414.07 3170.28 1411.39 3171.74 L1411.39 3166.33 Q1414.61 3165.09 1417.63 3164.49 Q1420.66 3163.85 1423.52 3163.85 Q1431.25 3163.85 1435.07 3167.86 Q1438.89 3171.87 1438.89 3180.02 Z\" fill=\"#000000\" fill-rule=\"evenodd\" fill-opacity=\"1\" /><path clip-path=\"url(#clip850)\" d=\"M1456.75 3154.59 L1456.75 3164.71 L1468.81 3164.71 L1468.81 3169.26 L1456.75 3169.26 L1456.75 3188.61 Q1456.75 3192.97 1457.93 3194.21 Q1459.14 3195.46 1462.8 3195.46 L1468.81 3195.46 L1468.81 3200.36 L1462.8 3200.36 Q1456.02 3200.36 1453.44 3197.84 Q1450.86 3195.3 1450.86 3188.61 L1450.86 3169.26 L1446.56 3169.26 L1446.56 3164.71 L1450.86 3164.71 L1450.86 3154.59 L1456.75 3154.59 Z\" fill=\"#000000\" fill-rule=\"evenodd\" fill-opacity=\"1\" /><path clip-path=\"url(#clip850)\" d=\"M1497.17 3170.18 Q1496.18 3169.61 1495.01 3169.36 Q1493.86 3169.07 1492.46 3169.07 Q1487.5 3169.07 1484.82 3172.32 Q1482.18 3175.53 1482.18 3181.58 L1482.18 3200.36 L1476.29 3200.36 L1476.29 3164.71 L1482.18 3164.71 L1482.18 3170.25 Q1484.03 3167 1486.99 3165.44 Q1489.95 3163.85 1494.18 3163.85 Q1494.78 3163.85 1495.52 3163.95 Q1496.25 3164.01 1497.14 3164.17 L1497.17 3170.18 Z\" fill=\"#000000\" fill-rule=\"evenodd\" fill-opacity=\"1\" /><path clip-path=\"url(#clip850)\" d=\"M1503.31 3164.71 L1509.17 3164.71 L1509.17 3200.36 L1503.31 3200.36 L1503.31 3164.71 M1503.31 3150.83 L1509.17 3150.83 L1509.17 3158.25 L1503.31 3158.25 L1503.31 3150.83 Z\" fill=\"#000000\" fill-rule=\"evenodd\" fill-opacity=\"1\" /><path clip-path=\"url(#clip850)\" d=\"M1551.06 3164.71 L1538.17 3182.06 L1551.73 3200.36 L1544.82 3200.36 L1534.44 3186.35 L1524.07 3200.36 L1517.16 3200.36 L1531 3181.71 L1518.34 3164.71 L1525.24 3164.71 L1534.7 3177.41 L1544.15 3164.71 L1551.06 3164.71 Z\" fill=\"#000000\" fill-rule=\"evenodd\" fill-opacity=\"1\" /><path clip-path=\"url(#clip850)\" d=\"M1604.66 3177.76 L1584.38 3177.76 Q1584.86 3187.28 1587.05 3191.32 Q1589.79 3196.28 1594.53 3196.28 Q1599.31 3196.28 1601.95 3191.29 Q1604.27 3186.89 1604.66 3177.76 M1604.56 3172.35 Q1603.67 3163.31 1601.95 3160.13 Q1599.21 3155.1 1594.53 3155.1 Q1589.66 3155.1 1587.09 3160.06 Q1585.05 3164.07 1584.44 3172.35 L1604.56 3172.35 M1594.53 3150.32 Q1602.17 3150.32 1606.53 3157.07 Q1610.89 3163.79 1610.89 3175.69 Q1610.89 3187.56 1606.53 3194.31 Q1602.17 3201.09 1594.53 3201.09 Q1586.86 3201.09 1582.54 3194.31 Q1578.17 3187.56 1578.17 3175.69 Q1578.17 3163.79 1582.54 3157.07 Q1586.86 3150.32 1594.53 3150.32 Z\" fill=\"#000000\" fill-rule=\"evenodd\" fill-opacity=\"1\" /><path clip-path=\"url(#clip850)\" d=\"M1618.82 3166.14 L1644.51 3166.14 L1644.51 3169.17 L1618.82 3169.17 L1618.82 3166.14 Z\" fill=\"#000000\" fill-rule=\"evenodd\" fill-opacity=\"1\" /><path clip-path=\"url(#clip850)\" d=\"M1653.83 3175.6 L1660.32 3175.6 L1660.32 3156.15 L1653.23 3157.45 L1653.23 3153.76 L1660.55 3152.52 L1664.91 3152.52 L1664.91 3175.6 L1671.43 3175.6 L1671.43 3179.1 L1653.83 3179.1 L1653.83 3175.6 Z\" fill=\"#000000\" fill-rule=\"evenodd\" fill-opacity=\"1\" /><polyline clip-path=\"url(#clip852)\" style=\"stroke:#000000; stroke-linecap:butt; stroke-linejoin:round; stroke-width:2; stroke-opacity:0.1; fill:none\" points=\"\n",
       "  241.607,1669.83 2552.76,1669.83 \n",
       "  \"/>\n",
       "<polyline clip-path=\"url(#clip852)\" style=\"stroke:#000000; stroke-linecap:butt; stroke-linejoin:round; stroke-width:2; stroke-opacity:0.1; fill:none\" points=\"\n",
       "  241.607,169.29 2552.76,169.29 \n",
       "  \"/>\n",
       "<polyline clip-path=\"url(#clip850)\" style=\"stroke:#000000; stroke-linecap:butt; stroke-linejoin:round; stroke-width:4; stroke-opacity:1; fill:none\" points=\"\n",
       "  241.607,3013.49 241.607,118.82 \n",
       "  \"/>\n",
       "<polyline clip-path=\"url(#clip850)\" style=\"stroke:#000000; stroke-linecap:butt; stroke-linejoin:round; stroke-width:4; stroke-opacity:1; fill:none\" points=\"\n",
       "  241.607,1669.83 260.505,1669.83 \n",
       "  \"/>\n",
       "<polyline clip-path=\"url(#clip850)\" style=\"stroke:#000000; stroke-linecap:butt; stroke-linejoin:round; stroke-width:4; stroke-opacity:1; fill:none\" points=\"\n",
       "  241.607,169.29 260.505,169.29 \n",
       "  \"/>\n",
       "<path clip-path=\"url(#clip850)\" d=\"M37.6634 1689.62 L45.3023 1689.62 L45.3023 1663.25 L36.9921 1664.92 L36.9921 1660.66 L45.256 1658.99 L49.9319 1658.99 L49.9319 1689.62 L57.5707 1689.62 L57.5707 1693.55 L37.6634 1693.55 L37.6634 1689.62 Z\" fill=\"#000000\" fill-rule=\"evenodd\" fill-opacity=\"1\" /><path clip-path=\"url(#clip850)\" d=\"M77.0151 1662.07 Q73.404 1662.07 71.5753 1665.64 Q69.7697 1669.18 69.7697 1676.31 Q69.7697 1683.41 71.5753 1686.98 Q73.404 1690.52 77.0151 1690.52 Q80.6493 1690.52 82.4548 1686.98 Q84.2835 1683.41 84.2835 1676.31 Q84.2835 1669.18 82.4548 1665.64 Q80.6493 1662.07 77.0151 1662.07 M77.0151 1658.37 Q82.8252 1658.37 85.8808 1662.97 Q88.9594 1667.56 88.9594 1676.31 Q88.9594 1685.03 85.8808 1689.64 Q82.8252 1694.22 77.0151 1694.22 Q71.2049 1694.22 68.1262 1689.64 Q65.0707 1685.03 65.0707 1676.31 Q65.0707 1667.56 68.1262 1662.97 Q71.2049 1658.37 77.0151 1658.37 Z\" fill=\"#000000\" fill-rule=\"evenodd\" fill-opacity=\"1\" /><path clip-path=\"url(#clip850)\" d=\"M88.9594 1652.47 L113.071 1652.47 L113.071 1655.67 L88.9594 1655.67 L88.9594 1652.47 Z\" fill=\"#000000\" fill-rule=\"evenodd\" fill-opacity=\"1\" /><path clip-path=\"url(#clip850)\" d=\"M121.929 1662.95 L128.136 1662.95 L128.136 1641.52 L121.384 1642.88 L121.384 1639.42 L128.098 1638.06 L131.898 1638.06 L131.898 1662.95 L138.104 1662.95 L138.104 1666.14 L121.929 1666.14 L121.929 1662.95 Z\" fill=\"#000000\" fill-rule=\"evenodd\" fill-opacity=\"1\" /><path clip-path=\"url(#clip850)\" d=\"M153.903 1640.56 Q150.969 1640.56 149.483 1643.46 Q148.016 1646.34 148.016 1652.13 Q148.016 1657.9 149.483 1660.8 Q150.969 1663.68 153.903 1663.68 Q156.855 1663.68 158.322 1660.8 Q159.808 1657.9 159.808 1652.13 Q159.808 1646.34 158.322 1643.46 Q156.855 1640.56 153.903 1640.56 M153.903 1637.55 Q158.623 1637.55 161.106 1641.3 Q163.607 1645.02 163.607 1652.13 Q163.607 1659.22 161.106 1662.96 Q158.623 1666.69 153.903 1666.69 Q149.182 1666.69 146.68 1662.96 Q144.198 1659.22 144.198 1652.13 Q144.198 1645.02 146.68 1641.3 Q149.182 1637.55 153.903 1637.55 Z\" fill=\"#000000\" fill-rule=\"evenodd\" fill-opacity=\"1\" /><path clip-path=\"url(#clip850)\" d=\"M92.9018 189.082 L100.541 189.082 L100.541 162.717 L92.2305 164.383 L92.2305 160.124 L100.494 158.457 L105.17 158.457 L105.17 189.082 L112.809 189.082 L112.809 193.017 L92.9018 193.017 L92.9018 189.082 Z\" fill=\"#000000\" fill-rule=\"evenodd\" fill-opacity=\"1\" /><path clip-path=\"url(#clip850)\" d=\"M132.253 161.536 Q128.642 161.536 126.814 165.101 Q125.008 168.643 125.008 175.772 Q125.008 182.879 126.814 186.443 Q128.642 189.985 132.253 189.985 Q135.888 189.985 137.693 186.443 Q139.522 182.879 139.522 175.772 Q139.522 168.643 137.693 165.101 Q135.888 161.536 132.253 161.536 M132.253 157.832 Q138.064 157.832 141.119 162.439 Q144.198 167.022 144.198 175.772 Q144.198 184.499 141.119 189.105 Q138.064 193.689 132.253 193.689 Q126.443 193.689 123.365 189.105 Q120.309 184.499 120.309 175.772 Q120.309 167.022 123.365 162.439 Q126.443 157.832 132.253 157.832 Z\" fill=\"#000000\" fill-rule=\"evenodd\" fill-opacity=\"1\" /><path clip-path=\"url(#clip850)\" d=\"M153.903 140.028 Q150.969 140.028 149.483 142.925 Q148.016 145.802 148.016 151.595 Q148.016 157.369 149.483 160.266 Q150.969 163.143 153.903 163.143 Q156.855 163.143 158.322 160.266 Q159.808 157.369 159.808 151.595 Q159.808 145.802 158.322 142.925 Q156.855 140.028 153.903 140.028 M153.903 137.019 Q158.623 137.019 161.106 140.762 Q163.607 144.486 163.607 151.595 Q163.607 158.686 161.106 162.428 Q158.623 166.152 153.903 166.152 Q149.182 166.152 146.68 162.428 Q144.198 158.686 144.198 151.595 Q144.198 144.486 146.68 140.762 Q149.182 137.019 153.903 137.019 Z\" fill=\"#000000\" fill-rule=\"evenodd\" fill-opacity=\"1\" /><path clip-path=\"url(#clip850)\" d=\"M955.734 16.7545 L955.734 25.383 Q951.602 21.5346 946.903 19.6307 Q942.245 17.7268 936.979 17.7268 Q926.608 17.7268 921.099 24.0867 Q915.59 30.4061 915.59 42.3968 Q915.59 54.3469 921.099 60.7069 Q926.608 67.0263 936.979 67.0263 Q942.245 67.0263 946.903 65.1223 Q951.602 63.2184 955.734 59.3701 L955.734 67.9175 Q951.44 70.8341 946.62 72.2924 Q941.84 73.7508 936.493 73.7508 Q922.76 73.7508 914.861 65.3654 Q906.962 56.9395 906.962 42.3968 Q906.962 27.8135 914.861 19.4281 Q922.76 11.0023 936.493 11.0023 Q941.921 11.0023 946.701 12.4606 Q951.521 13.8784 955.734 16.7545 Z\" fill=\"#000000\" fill-rule=\"evenodd\" fill-opacity=\"1\" /><path clip-path=\"url(#clip850)\" d=\"M968.049 9.54393 L975.503 9.54393 L975.503 72.576 L968.049 72.576 L968.049 9.54393 Z\" fill=\"#000000\" fill-rule=\"evenodd\" fill-opacity=\"1\" /><path clip-path=\"url(#clip850)\" d=\"M1011.72 49.7694 Q1002.68 49.7694 999.201 51.8354 Q995.717 53.9013 995.717 58.8839 Q995.717 62.8538 998.309 65.2034 Q1000.94 67.5124 1005.44 67.5124 Q1011.64 67.5124 1015.36 63.1374 Q1019.13 58.7219 1019.13 51.4303 L1019.13 49.7694 L1011.72 49.7694 M1026.58 46.6907 L1026.58 72.576 L1019.13 72.576 L1019.13 65.6895 Q1016.58 69.8214 1012.77 71.8063 Q1008.96 73.7508 1003.45 73.7508 Q996.487 73.7508 992.355 69.8619 Q988.263 65.9325 988.263 59.3701 Q988.263 51.7138 993.367 47.825 Q998.512 43.9361 1008.68 43.9361 L1019.13 43.9361 L1019.13 43.2069 Q1019.13 38.0623 1015.73 35.2672 Q1012.37 32.4315 1006.25 32.4315 Q1002.36 32.4315 998.674 33.3632 Q994.988 34.295 991.585 36.1584 L991.585 29.2718 Q995.676 27.692 999.525 26.9223 Q1003.37 26.1121 1007.02 26.1121 Q1016.86 26.1121 1021.72 31.2163 Q1026.58 36.3204 1026.58 46.6907 Z\" fill=\"#000000\" fill-rule=\"evenodd\" fill-opacity=\"1\" /><path clip-path=\"url(#clip850)\" d=\"M1070.86 28.5427 L1070.86 35.5912 Q1067.7 33.9709 1064.3 33.1607 Q1060.9 32.3505 1057.25 32.3505 Q1051.7 32.3505 1048.91 34.0519 Q1046.15 35.7533 1046.15 39.156 Q1046.15 41.7486 1048.14 43.2475 Q1050.12 44.7058 1056.12 46.0426 L1058.67 46.6097 Q1066.61 48.3111 1069.93 51.4303 Q1073.29 54.509 1073.29 60.0587 Q1073.29 66.3781 1068.27 70.0644 Q1063.29 73.7508 1054.54 73.7508 Q1050.89 73.7508 1046.92 73.0216 Q1042.99 72.3329 1038.62 70.9151 L1038.62 63.2184 Q1042.75 65.3654 1046.76 66.4591 Q1050.77 67.5124 1054.7 67.5124 Q1059.96 67.5124 1062.8 65.73 Q1065.64 63.9071 1065.64 60.6258 Q1065.64 57.5877 1063.57 55.9673 Q1061.54 54.3469 1054.62 52.8481 L1052.02 52.2405 Q1045.1 50.7821 1042.02 47.7845 Q1038.94 44.7463 1038.94 39.4801 Q1038.94 33.0797 1043.48 29.5959 Q1048.01 26.1121 1056.36 26.1121 Q1060.49 26.1121 1064.14 26.7198 Q1067.78 27.3274 1070.86 28.5427 Z\" fill=\"#000000\" fill-rule=\"evenodd\" fill-opacity=\"1\" /><path clip-path=\"url(#clip850)\" d=\"M1114.08 28.5427 L1114.08 35.5912 Q1110.92 33.9709 1107.52 33.1607 Q1104.12 32.3505 1100.47 32.3505 Q1094.92 32.3505 1092.13 34.0519 Q1089.37 35.7533 1089.37 39.156 Q1089.37 41.7486 1091.36 43.2475 Q1093.34 44.7058 1099.34 46.0426 L1101.89 46.6097 Q1109.83 48.3111 1113.15 51.4303 Q1116.51 54.509 1116.51 60.0587 Q1116.51 66.3781 1111.49 70.0644 Q1106.51 73.7508 1097.76 73.7508 Q1094.11 73.7508 1090.14 73.0216 Q1086.21 72.3329 1081.84 70.9151 L1081.84 63.2184 Q1085.97 65.3654 1089.98 66.4591 Q1093.99 67.5124 1097.92 67.5124 Q1103.19 67.5124 1106.02 65.73 Q1108.86 63.9071 1108.86 60.6258 Q1108.86 57.5877 1106.79 55.9673 Q1104.77 54.3469 1097.84 52.8481 L1095.25 52.2405 Q1088.32 50.7821 1085.24 47.7845 Q1082.16 44.7463 1082.16 39.4801 Q1082.16 33.0797 1086.7 29.5959 Q1091.24 26.1121 1099.58 26.1121 Q1103.71 26.1121 1107.36 26.7198 Q1111.01 27.3274 1114.08 28.5427 Z\" fill=\"#000000\" fill-rule=\"evenodd\" fill-opacity=\"1\" /><path clip-path=\"url(#clip850)\" d=\"M1128.38 27.2059 L1135.84 27.2059 L1135.84 72.576 L1128.38 72.576 L1128.38 27.2059 M1128.38 9.54393 L1135.84 9.54393 L1135.84 18.9825 L1128.38 18.9825 L1128.38 9.54393 Z\" fill=\"#000000\" fill-rule=\"evenodd\" fill-opacity=\"1\" /><path clip-path=\"url(#clip850)\" d=\"M1184.08 28.9478 L1184.08 35.9153 Q1180.92 34.1734 1177.72 33.3227 Q1174.56 32.4315 1171.32 32.4315 Q1164.07 32.4315 1160.06 37.0496 Q1156.05 41.6271 1156.05 49.9314 Q1156.05 58.2358 1160.06 62.8538 Q1164.07 67.4314 1171.32 67.4314 Q1174.56 67.4314 1177.72 66.5807 Q1180.92 65.6895 1184.08 63.9476 L1184.08 70.8341 Q1180.96 72.2924 1177.6 73.0216 Q1174.28 73.7508 1170.51 73.7508 Q1160.26 73.7508 1154.23 67.3098 Q1148.19 60.8689 1148.19 49.9314 Q1148.19 38.832 1154.27 32.472 Q1160.39 26.1121 1171 26.1121 Q1174.44 26.1121 1177.72 26.8413 Q1181.01 27.5299 1184.08 28.9478 Z\" fill=\"#000000\" fill-rule=\"evenodd\" fill-opacity=\"1\" /><path clip-path=\"url(#clip850)\" d=\"M1217.67 49.7694 Q1208.63 49.7694 1205.15 51.8354 Q1201.66 53.9013 1201.66 58.8839 Q1201.66 62.8538 1204.26 65.2034 Q1206.89 67.5124 1211.39 67.5124 Q1217.58 67.5124 1221.31 63.1374 Q1225.08 58.7219 1225.08 51.4303 L1225.08 49.7694 L1217.67 49.7694 M1232.53 46.6907 L1232.53 72.576 L1225.08 72.576 L1225.08 65.6895 Q1222.53 69.8214 1218.72 71.8063 Q1214.91 73.7508 1209.4 73.7508 Q1202.43 73.7508 1198.3 69.8619 Q1194.21 65.9325 1194.21 59.3701 Q1194.21 51.7138 1199.32 47.825 Q1204.46 43.9361 1214.63 43.9361 L1225.08 43.9361 L1225.08 43.2069 Q1225.08 38.0623 1221.68 35.2672 Q1218.31 32.4315 1212.2 32.4315 Q1208.31 32.4315 1204.62 33.3632 Q1200.94 34.295 1197.53 36.1584 L1197.53 29.2718 Q1201.62 27.692 1205.47 26.9223 Q1209.32 26.1121 1212.97 26.1121 Q1222.81 26.1121 1227.67 31.2163 Q1232.53 36.3204 1232.53 46.6907 Z\" fill=\"#000000\" fill-rule=\"evenodd\" fill-opacity=\"1\" /><path clip-path=\"url(#clip850)\" d=\"M1247.89 9.54393 L1255.34 9.54393 L1255.34 72.576 L1247.89 72.576 L1247.89 9.54393 Z\" fill=\"#000000\" fill-rule=\"evenodd\" fill-opacity=\"1\" /><path clip-path=\"url(#clip850)\" d=\"M1338.87 63.9476 L1338.87 47.7034 L1325.5 47.7034 L1325.5 40.9789 L1346.97 40.9789 L1346.97 66.9452 Q1342.23 70.3075 1336.52 72.0494 Q1330.81 73.7508 1324.33 73.7508 Q1310.15 73.7508 1302.13 65.4869 Q1294.15 57.1826 1294.15 42.3968 Q1294.15 27.5705 1302.13 19.3066 Q1310.15 11.0023 1324.33 11.0023 Q1330.24 11.0023 1335.55 12.4606 Q1340.89 13.9189 1345.39 16.7545 L1345.39 25.464 Q1340.85 21.6156 1335.75 19.6712 Q1330.65 17.7268 1325.01 17.7268 Q1313.92 17.7268 1308.33 23.9246 Q1302.78 30.1225 1302.78 42.3968 Q1302.78 54.6305 1308.33 60.8284 Q1313.92 67.0263 1325.01 67.0263 Q1329.35 67.0263 1332.75 66.2971 Q1336.15 65.5274 1338.87 63.9476 Z\" fill=\"#000000\" fill-rule=\"evenodd\" fill-opacity=\"1\" /><path clip-path=\"url(#clip850)\" d=\"M1387.88 34.1734 Q1386.63 33.4443 1385.13 33.1202 Q1383.67 32.7556 1381.89 32.7556 Q1375.57 32.7556 1372.17 36.8875 Q1368.81 40.9789 1368.81 48.6757 L1368.81 72.576 L1361.31 72.576 L1361.31 27.2059 L1368.81 27.2059 L1368.81 34.2544 Q1371.15 30.1225 1374.92 28.1376 Q1378.69 26.1121 1384.08 26.1121 Q1384.85 26.1121 1385.78 26.2337 Q1386.71 26.3147 1387.84 26.5172 L1387.88 34.1734 Z\" fill=\"#000000\" fill-rule=\"evenodd\" fill-opacity=\"1\" /><path clip-path=\"url(#clip850)\" d=\"M1416.32 49.7694 Q1407.29 49.7694 1403.8 51.8354 Q1400.32 53.9013 1400.32 58.8839 Q1400.32 62.8538 1402.91 65.2034 Q1405.55 67.5124 1410.04 67.5124 Q1416.24 67.5124 1419.97 63.1374 Q1423.74 58.7219 1423.74 51.4303 L1423.74 49.7694 L1416.32 49.7694 M1431.19 46.6907 L1431.19 72.576 L1423.74 72.576 L1423.74 65.6895 Q1421.18 69.8214 1417.38 71.8063 Q1413.57 73.7508 1408.06 73.7508 Q1401.09 73.7508 1396.96 69.8619 Q1392.87 65.9325 1392.87 59.3701 Q1392.87 51.7138 1397.97 47.825 Q1403.12 43.9361 1413.28 43.9361 L1423.74 43.9361 L1423.74 43.2069 Q1423.74 38.0623 1420.33 35.2672 Q1416.97 32.4315 1410.85 32.4315 Q1406.96 32.4315 1403.28 33.3632 Q1399.59 34.295 1396.19 36.1584 L1396.19 29.2718 Q1400.28 27.692 1404.13 26.9223 Q1407.98 26.1121 1411.62 26.1121 Q1421.47 26.1121 1426.33 31.2163 Q1431.19 36.3204 1431.19 46.6907 Z\" fill=\"#000000\" fill-rule=\"evenodd\" fill-opacity=\"1\" /><path clip-path=\"url(#clip850)\" d=\"M1481.87 35.9153 Q1484.66 30.8922 1488.55 28.5022 Q1492.44 26.1121 1497.7 26.1121 Q1504.79 26.1121 1508.64 31.0947 Q1512.49 36.0368 1512.49 45.1919 L1512.49 72.576 L1505 72.576 L1505 45.4349 Q1505 38.913 1502.69 35.7533 Q1500.38 32.5936 1495.64 32.5936 Q1489.85 32.5936 1486.48 36.4419 Q1483.12 40.2903 1483.12 46.9338 L1483.12 72.576 L1475.63 72.576 L1475.63 45.4349 Q1475.63 38.8725 1473.32 35.7533 Q1471.01 32.5936 1466.19 32.5936 Q1460.48 32.5936 1457.11 36.4824 Q1453.75 40.3308 1453.75 46.9338 L1453.75 72.576 L1446.26 72.576 L1446.26 27.2059 L1453.75 27.2059 L1453.75 34.2544 Q1456.3 30.082 1459.87 28.0971 Q1463.43 26.1121 1468.34 26.1121 Q1473.28 26.1121 1476.72 28.6237 Q1480.2 31.1352 1481.87 35.9153 Z\" fill=\"#000000\" fill-rule=\"evenodd\" fill-opacity=\"1\" /><path clip-path=\"url(#clip850)\" d=\"M1523.59 46.5287 L1545.42 46.5287 L1545.42 53.1722 L1523.59 53.1722 L1523.59 46.5287 Z\" fill=\"#000000\" fill-rule=\"evenodd\" fill-opacity=\"1\" /><path clip-path=\"url(#clip850)\" d=\"M1593.87 14.0809 L1593.87 22.0612 Q1589.21 19.8332 1585.08 18.7395 Q1580.95 17.6457 1577.1 17.6457 Q1570.42 17.6457 1566.77 20.2383 Q1563.17 22.8309 1563.17 27.611 Q1563.17 31.6214 1565.56 33.6873 Q1567.99 35.7128 1574.71 36.9686 L1579.65 37.9813 Q1588.81 39.7232 1593.14 44.1387 Q1597.52 48.5136 1597.52 55.8863 Q1597.52 64.6767 1591.6 69.2137 Q1585.73 73.7508 1574.35 73.7508 Q1570.05 73.7508 1565.19 72.7785 Q1560.37 71.8063 1555.19 69.9024 L1555.19 61.4765 Q1560.17 64.2716 1564.95 65.6895 Q1569.73 67.1073 1574.35 67.1073 Q1581.36 67.1073 1585.16 64.3527 Q1588.97 61.598 1588.97 56.4939 Q1588.97 52.0379 1586.22 49.5264 Q1583.5 47.0148 1577.26 45.759 L1572.28 44.7868 Q1563.13 42.9639 1559.04 39.075 Q1554.94 35.1862 1554.94 28.2591 Q1554.94 20.2383 1560.57 15.6203 Q1566.25 11.0023 1576.17 11.0023 Q1580.42 11.0023 1584.84 11.7719 Q1589.26 12.5416 1593.87 14.0809 Z\" fill=\"#000000\" fill-rule=\"evenodd\" fill-opacity=\"1\" /><path clip-path=\"url(#clip850)\" d=\"M1642.61 28.9478 L1642.61 35.9153 Q1639.45 34.1734 1636.25 33.3227 Q1633.09 32.4315 1629.85 32.4315 Q1622.59 32.4315 1618.58 37.0496 Q1614.57 41.6271 1614.57 49.9314 Q1614.57 58.2358 1618.58 62.8538 Q1622.59 67.4314 1629.85 67.4314 Q1633.09 67.4314 1636.25 66.5807 Q1639.45 65.6895 1642.61 63.9476 L1642.61 70.8341 Q1639.49 72.2924 1636.12 73.0216 Q1632.8 73.7508 1629.04 73.7508 Q1618.79 73.7508 1612.75 67.3098 Q1606.71 60.8689 1606.71 49.9314 Q1606.71 38.832 1612.79 32.472 Q1618.91 26.1121 1629.52 26.1121 Q1632.96 26.1121 1636.25 26.8413 Q1639.53 27.5299 1642.61 28.9478 Z\" fill=\"#000000\" fill-rule=\"evenodd\" fill-opacity=\"1\" /><path clip-path=\"url(#clip850)\" d=\"M1693.28 45.1919 L1693.28 72.576 L1685.83 72.576 L1685.83 45.4349 Q1685.83 38.994 1683.32 35.7938 Q1680.81 32.5936 1675.78 32.5936 Q1669.75 32.5936 1666.26 36.4419 Q1662.78 40.2903 1662.78 46.9338 L1662.78 72.576 L1655.29 72.576 L1655.29 9.54393 L1662.78 9.54393 L1662.78 34.2544 Q1665.45 30.163 1669.06 28.1376 Q1672.7 26.1121 1677.44 26.1121 Q1685.26 26.1121 1689.27 30.9732 Q1693.28 35.7938 1693.28 45.1919 Z\" fill=\"#000000\" fill-rule=\"evenodd\" fill-opacity=\"1\" /><path clip-path=\"url(#clip850)\" d=\"M1743.47 35.9153 Q1746.27 30.8922 1750.16 28.5022 Q1754.05 26.1121 1759.31 26.1121 Q1766.4 26.1121 1770.25 31.0947 Q1774.1 36.0368 1774.1 45.1919 L1774.1 72.576 L1766.6 72.576 L1766.6 45.4349 Q1766.6 38.913 1764.29 35.7533 Q1761.99 32.5936 1757.25 32.5936 Q1751.45 32.5936 1748.09 36.4419 Q1744.73 40.2903 1744.73 46.9338 L1744.73 72.576 L1737.23 72.576 L1737.23 45.4349 Q1737.23 38.8725 1734.93 35.7533 Q1732.62 32.5936 1727.8 32.5936 Q1722.08 32.5936 1718.72 36.4824 Q1715.36 40.3308 1715.36 46.9338 L1715.36 72.576 L1707.87 72.576 L1707.87 27.2059 L1715.36 27.2059 L1715.36 34.2544 Q1717.91 30.082 1721.48 28.0971 Q1725.04 26.1121 1729.94 26.1121 Q1734.89 26.1121 1738.33 28.6237 Q1741.81 31.1352 1743.47 35.9153 Z\" fill=\"#000000\" fill-rule=\"evenodd\" fill-opacity=\"1\" /><path clip-path=\"url(#clip850)\" d=\"M1788.96 27.2059 L1796.42 27.2059 L1796.42 72.576 L1788.96 72.576 L1788.96 27.2059 M1788.96 9.54393 L1796.42 9.54393 L1796.42 18.9825 L1788.96 18.9825 L1788.96 9.54393 Z\" fill=\"#000000\" fill-rule=\"evenodd\" fill-opacity=\"1\" /><path clip-path=\"url(#clip850)\" d=\"M1841.87 34.0924 L1841.87 9.54393 L1849.32 9.54393 L1849.32 72.576 L1841.87 72.576 L1841.87 65.7705 Q1839.52 69.8214 1835.91 71.8063 Q1832.35 73.7508 1827.33 73.7508 Q1819.1 73.7508 1813.92 67.1883 Q1808.77 60.6258 1808.77 49.9314 Q1808.77 39.2371 1813.92 32.6746 Q1819.1 26.1121 1827.33 26.1121 Q1832.35 26.1121 1835.91 28.0971 Q1839.52 30.0415 1841.87 34.0924 M1816.47 49.9314 Q1816.47 58.1548 1819.83 62.8538 Q1823.24 67.5124 1829.15 67.5124 Q1835.06 67.5124 1838.47 62.8538 Q1841.87 58.1548 1841.87 49.9314 Q1841.87 41.7081 1838.47 37.0496 Q1835.06 32.3505 1829.15 32.3505 Q1823.24 32.3505 1819.83 37.0496 Q1816.47 41.7081 1816.47 49.9314 Z\" fill=\"#000000\" fill-rule=\"evenodd\" fill-opacity=\"1\" /><path clip-path=\"url(#clip850)\" d=\"M1872.05 14.324 L1872.05 27.2059 L1887.4 27.2059 L1887.4 32.9987 L1872.05 32.9987 L1872.05 57.6282 Q1872.05 63.1779 1873.55 64.7578 Q1875.09 66.3376 1879.75 66.3376 L1887.4 66.3376 L1887.4 72.576 L1879.75 72.576 Q1871.12 72.576 1867.84 69.3758 Q1864.55 66.1351 1864.55 57.6282 L1864.55 32.9987 L1859.09 32.9987 L1859.09 27.2059 L1864.55 27.2059 L1864.55 14.324 L1872.05 14.324 Z\" fill=\"#000000\" fill-rule=\"evenodd\" fill-opacity=\"1\" /><polyline clip-path=\"url(#clip852)\" style=\"stroke:#009af9; stroke-linecap:butt; stroke-linejoin:round; stroke-width:8; stroke-opacity:1; fill:none\" points=\"\n",
       "  307.017,2968.32 319.13,2878.55 331.243,2793.86 343.356,2746.22 355.469,2713.53 367.582,2688.92 379.695,2412.64 391.808,2335.97 403.921,2639.47 416.034,2627.61 \n",
       "  428.147,2626.57 440.26,2607.93 452.373,2102.11 464.486,2076.43 476.598,2050.47 488.711,2026.16 500.824,2572.87 512.937,1963.74 525.05,1946.86 537.163,1923.34 \n",
       "  549.276,1885.08 561.389,1863.61 573.502,1841.12 585.615,1816.52 597.728,1784.61 609.841,1763.98 621.954,1740.18 634.067,2602.71 646.18,2607.81 658.293,2613.38 \n",
       "  670.405,2619.49 682.518,2626.26 694.631,2633.85 706.744,2642.46 718.857,2652.43 730.97,2664.23 743.083,2678.7 755.196,2697.37 767.309,2723.72 779.422,2768.83 \n",
       "  791.535,2968.32 803.648,1458.87 815.761,1442.98 827.874,2696.99 839.987,2678.19 852.1,2663.59 864.212,2651.66 876.325,2641.56 888.438,2632.81 900.551,2625.09 \n",
       "  912.664,2618.18 924.777,2611.93 936.89,2606.21 949.003,2600.96 961.116,2596.09 973.229,2591.55 985.342,1224.63 997.455,1211.72 1009.57,1198.62 1021.68,1185.93 \n",
       "  1033.79,1173.38 1045.91,1160.86 1058.02,1148.64 1070.13,1136.55 1082.25,1125 1094.36,1113.18 1106.47,1101.5 1118.58,1087.81 1130.7,1076.29 1142.81,1064.79 \n",
       "  1154.92,1053.64 1167.04,996.729 1179.15,984.818 1191.26,973.842 1203.37,963.023 1215.49,952.359 1227.6,940.931 1239.71,930.469 1251.83,920.13 1263.94,909.899 \n",
       "  1276.05,898.903 1288.17,888.774 1300.28,878.781 1312.39,868.929 1324.5,858.352 1336.62,848.695 1348.73,813.526 1360.84,803.233 1372.96,793.839 1385.07,783.935 \n",
       "  1397.18,774.182 1409.29,765.017 1421.41,755.435 1433.52,746.442 1445.63,737.542 1457.75,728.173 1469.86,719.428 1481.97,710.236 1494.09,701.635 1506.2,693.093 \n",
       "  1518.31,598.818 1530.42,589.174 1542.54,580.339 1554.65,571.436 1566.76,562.678 1578.88,625.214 1590.99,615.042 1603.1,606.858 1615.21,598.739 1627.33,590.673 \n",
       "  1639.44,582.67 1651.55,574.738 1663.67,566.844 1675.78,559.03 1687.89,551.269 1700.01,543.571 1712.12,535.916 1724.23,528.231 1736.34,520.698 1748.46,513.22 \n",
       "  1760.57,505.793 1772.68,498.37 1784.8,491.029 1796.91,483.755 1809.02,476.536 1821.13,469.363 1833.25,462.239 1845.36,455.165 1857.47,448.126 1869.59,441.002 \n",
       "  1881.7,434.061 1893.81,427.163 1905.93,420.322 1918.04,413.523 1930.15,406.771 1942.26,400.064 1954.38,393.384 1966.49,386.737 1978.6,380.155 1990.72,373.612 \n",
       "  2002.83,367.115 2014.94,360.661 2027.05,354.246 2039.17,347.874 2051.28,341.542 2063.39,335.241 2075.51,328.991 2087.62,322.786 2099.73,316.617 2111.84,310.494 \n",
       "  2123.96,304.415 2136.07,298.381 2148.18,292.391 2160.3,286.45 2172.41,280.557 2184.52,274.716 2196.64,268.862 2208.75,263.031 2220.86,257.163 2232.97,251.562 \n",
       "  2245.09,246.031 2257.2,240.559 2269.31,235.187 2281.43,229.907 2293.54,224.728 2305.65,219.658 2317.76,214.707 2329.88,209.884 2341.99,205.202 2354.1,200.677 \n",
       "  2366.22,196.275 2378.33,192.099 2390.44,188.113 2402.56,184.329 2414.67,180.747 2426.78,177.392 2438.89,174.261 2451.01,171.357 2463.12,168.679 2475.23,166.226 \n",
       "  2487.35,163.99 \n",
       "  \"/>\n",
       "<polyline clip-path=\"url(#clip852)\" style=\"stroke:#e26f46; stroke-linecap:butt; stroke-linejoin:round; stroke-width:8; stroke-opacity:1; fill:none\" points=\"\n",
       "  307.017,2968.32 319.13,2968.32 331.243,2968.32 343.356,2968.32 355.469,2968.32 367.582,2968.32 379.695,2585.92 391.808,2533.48 403.921,2968.32 416.034,2968.32 \n",
       "  428.147,2968.32 440.26,2968.32 452.373,2533.48 464.486,2514.32 476.598,2540.75 488.711,2550.12 500.824,2968.32 512.937,2578.65 525.05,2538.77 537.163,2550.12 \n",
       "  549.276,2563.33 561.389,2563.33 573.502,2550.12 585.615,2533.48 597.728,2968.32 609.841,2578.65 621.954,2585.92 634.067,2968.32 646.18,2968.32 658.293,2968.32 \n",
       "  670.405,2968.32 682.518,2968.32 694.631,2968.32 706.744,2968.32 718.857,2968.32 730.97,2968.32 743.083,2968.32 755.196,2968.32 767.309,2968.32 779.422,2968.32 \n",
       "  791.535,2968.32 803.648,2549.45 815.761,2547.51 827.874,2968.32 839.987,2968.32 852.1,2968.32 864.212,2968.32 876.325,2968.32 888.438,2968.32 900.551,2968.32 \n",
       "  912.664,2968.32 924.777,2968.32 936.89,2968.32 949.003,2968.32 961.116,2968.32 973.229,2968.32 985.342,2578.65 997.455,2572.71 1009.57,2607.5 1021.68,2968.32 \n",
       "  1033.79,2766.6 1045.91,2721.43 1058.02,2968.32 1070.13,2968.32 1082.25,2766.6 1094.36,2653.67 1106.47,2668.99 1118.58,2697.84 1130.7,2698.84 1142.81,2585.41 \n",
       "  1154.92,2581.19 1167.04,2649.84 1179.15,2583.94 1191.26,2653.67 1203.37,2668.99 1215.49,2668.99 1227.6,2968.32 1239.71,2674.28 1251.83,2766.6 1263.94,2968.32 \n",
       "  1276.05,2744.02 1288.17,2583.94 1300.28,2759.33 1312.39,2674.16 1324.5,2766.6 1336.62,2674.16 1348.73,2583.82 1360.84,2563.27 1372.96,2562.33 1385.07,2653.61 \n",
       "  1397.18,2653.67 1409.29,2672.42 1421.41,2674.28 1433.52,2766.6 1445.63,2585.92 1457.75,2764.63 1469.86,2744.02 1481.97,2968.32 1494.09,2856.94 1506.2,2676.26 \n",
       "  1518.31,2563.33 1530.42,2674.28 1542.54,2630.58 1554.65,2630.96 1566.76,2719.45 1578.88,2595.29 1590.99,2629.11 1603.1,2809.8 1615.21,2697.84 1627.33,2719.45 \n",
       "  1639.44,2630.84 1651.55,2628.99 1663.67,2668.18 1675.78,2697.84 1687.89,2719.45 1700.01,2811.77 1712.12,2631.09 1724.23,2630.83 1736.34,2630.96 1748.46,2631.09 \n",
       "  1760.57,2631.09 1772.68,2630.96 1784.8,2606.53 1796.91,2607.5 1809.02,2721.43 1821.13,2968.32 1833.25,2719.45 1845.36,2968.32 1857.47,2628.99 1869.59,2719.45 \n",
       "  1881.7,2698.84 1893.81,2721.43 1905.93,2721.4 1918.04,2789.19 1930.15,2789.19 1942.26,2811.77 1954.38,2629.11 1966.49,2698.83 1978.6,2698.83 1990.72,2720.92 \n",
       "  2002.83,2968.32 2014.94,2968.32 2027.05,2947.28 2039.17,2968.32 2051.28,2968.32 2063.39,2631.06 2075.51,2947.28 2087.62,2968.32 2099.73,2698.83 2111.84,2698.59 \n",
       "  2123.96,2834.36 2136.07,2856.94 2148.18,2720.89 2160.3,2834.36 2172.41,2968.32 2184.52,2721.43 2196.64,2968.32 2208.75,2608.49 2220.86,2856.94 2232.97,2968.32 \n",
       "  2245.09,2766.57 2257.2,2766.6 2269.31,2743.01 2281.43,2764.63 2293.54,2968.32 2305.65,2968.32 2317.76,2834.1 2329.88,2743 2341.99,2766.6 2354.1,2968.32 \n",
       "  2366.22,2968.32 2378.33,2968.32 2390.44,2742.04 2402.56,2744.02 2414.67,2630.58 2426.78,2630.58 2438.89,2631.09 2451.01,2630.58 2463.12,2631.09 2475.23,2968.32 \n",
       "  2487.35,2968.32 \n",
       "  \"/>\n",
       "<path clip-path=\"url(#clip850)\" d=\"\n",
       "M1739.64 370.829 L2475.72 370.829 L2475.72 215.309 L1739.64 215.309  Z\n",
       "  \" fill=\"#ffffff\" fill-rule=\"evenodd\" fill-opacity=\"1\"/>\n",
       "<polyline clip-path=\"url(#clip850)\" style=\"stroke:#000000; stroke-linecap:butt; stroke-linejoin:round; stroke-width:4; stroke-opacity:1; fill:none\" points=\"\n",
       "  1739.64,370.829 2475.72,370.829 2475.72,215.309 1739.64,215.309 1739.64,370.829 \n",
       "  \"/>\n",
       "<polyline clip-path=\"url(#clip850)\" style=\"stroke:#009af9; stroke-linecap:butt; stroke-linejoin:round; stroke-width:4; stroke-opacity:1; fill:none\" points=\"\n",
       "  1765.32,267.149 1919.4,267.149 \n",
       "  \"/>\n",
       "<path clip-path=\"url(#clip850)\" d=\"M1956.98 261.489 Q1953.55 261.489 1951.56 264.174 Q1949.57 266.836 1949.57 271.489 Q1949.57 276.142 1951.54 278.827 Q1953.53 281.489 1956.98 281.489 Q1960.38 281.489 1962.37 278.804 Q1964.36 276.119 1964.36 271.489 Q1964.36 266.883 1962.37 264.198 Q1960.38 261.489 1956.98 261.489 M1956.98 257.878 Q1962.53 257.878 1965.7 261.489 Q1968.88 265.1 1968.88 271.489 Q1968.88 277.855 1965.7 281.489 Q1962.53 285.1 1956.98 285.1 Q1951.4 285.1 1948.23 281.489 Q1945.08 277.855 1945.08 271.489 Q1945.08 265.1 1948.23 261.489 Q1951.4 257.878 1956.98 257.878 Z\" fill=\"#000000\" fill-rule=\"evenodd\" fill-opacity=\"1\" /><path clip-path=\"url(#clip850)\" d=\"M1990.96 262.485 Q1990.24 262.068 1989.38 261.883 Q1988.55 261.674 1987.53 261.674 Q1983.92 261.674 1981.98 264.036 Q1980.06 266.373 1980.06 270.772 L1980.06 284.429 L1975.77 284.429 L1975.77 258.503 L1980.06 258.503 L1980.06 262.531 Q1981.4 260.17 1983.55 259.036 Q1985.7 257.878 1988.78 257.878 Q1989.22 257.878 1989.75 257.948 Q1990.29 257.994 1990.94 258.11 L1990.96 262.485 Z\" fill=\"#000000\" fill-rule=\"evenodd\" fill-opacity=\"1\" /><path clip-path=\"url(#clip850)\" d=\"M1999.64 251.142 L1999.64 258.503 L2008.41 258.503 L2008.41 261.813 L1999.64 261.813 L1999.64 275.887 Q1999.64 279.059 2000.5 279.961 Q2001.37 280.864 2004.04 280.864 L2008.41 280.864 L2008.41 284.429 L2004.04 284.429 Q1999.11 284.429 1997.23 282.6 Q1995.36 280.748 1995.36 275.887 L1995.36 261.813 L1992.23 261.813 L1992.23 258.503 L1995.36 258.503 L1995.36 251.142 L1999.64 251.142 Z\" fill=\"#000000\" fill-rule=\"evenodd\" fill-opacity=\"1\" /><path clip-path=\"url(#clip850)\" d=\"M2035.56 268.781 L2035.56 284.429 L2031.31 284.429 L2031.31 268.92 Q2031.31 265.239 2029.87 263.411 Q2028.43 261.582 2025.56 261.582 Q2022.12 261.582 2020.12 263.781 Q2018.13 265.98 2018.13 269.776 L2018.13 284.429 L2013.85 284.429 L2013.85 248.411 L2018.13 248.411 L2018.13 262.531 Q2019.66 260.193 2021.72 259.036 Q2023.81 257.878 2026.51 257.878 Q2030.98 257.878 2033.27 260.656 Q2035.56 263.411 2035.56 268.781 Z\" fill=\"#000000\" fill-rule=\"evenodd\" fill-opacity=\"1\" /><path clip-path=\"url(#clip850)\" d=\"M2054.11 261.489 Q2050.68 261.489 2048.69 264.174 Q2046.7 266.836 2046.7 271.489 Q2046.7 276.142 2048.67 278.827 Q2050.66 281.489 2054.11 281.489 Q2057.51 281.489 2059.5 278.804 Q2061.49 276.119 2061.49 271.489 Q2061.49 266.883 2059.5 264.198 Q2057.51 261.489 2054.11 261.489 M2054.11 257.878 Q2059.66 257.878 2062.83 261.489 Q2066 265.1 2066 271.489 Q2066 277.855 2062.83 281.489 Q2059.66 285.1 2054.11 285.1 Q2048.53 285.1 2045.36 281.489 Q2042.21 277.855 2042.21 271.489 Q2042.21 265.1 2045.36 261.489 Q2048.53 257.878 2054.11 257.878 Z\" fill=\"#000000\" fill-rule=\"evenodd\" fill-opacity=\"1\" /><path clip-path=\"url(#clip850)\" d=\"M2094.62 268.781 L2094.62 284.429 L2090.36 284.429 L2090.36 268.92 Q2090.36 265.239 2088.92 263.411 Q2087.49 261.582 2084.62 261.582 Q2081.17 261.582 2079.18 263.781 Q2077.18 265.98 2077.18 269.776 L2077.18 284.429 L2072.9 284.429 L2072.9 258.503 L2077.18 258.503 L2077.18 262.531 Q2078.71 260.193 2080.77 259.036 Q2082.86 257.878 2085.56 257.878 Q2090.03 257.878 2092.32 260.656 Q2094.62 263.411 2094.62 268.781 Z\" fill=\"#000000\" fill-rule=\"evenodd\" fill-opacity=\"1\" /><path clip-path=\"url(#clip850)\" d=\"M2113.16 261.489 Q2109.73 261.489 2107.74 264.174 Q2105.75 266.836 2105.75 271.489 Q2105.75 276.142 2107.72 278.827 Q2109.71 281.489 2113.16 281.489 Q2116.56 281.489 2118.55 278.804 Q2120.54 276.119 2120.54 271.489 Q2120.54 266.883 2118.55 264.198 Q2116.56 261.489 2113.16 261.489 M2113.16 257.878 Q2118.71 257.878 2121.88 261.489 Q2125.05 265.1 2125.05 271.489 Q2125.05 277.855 2121.88 281.489 Q2118.71 285.1 2113.16 285.1 Q2107.58 285.1 2104.41 281.489 Q2101.26 277.855 2101.26 271.489 Q2101.26 265.1 2104.41 261.489 Q2107.58 257.878 2113.16 257.878 Z\" fill=\"#000000\" fill-rule=\"evenodd\" fill-opacity=\"1\" /><path clip-path=\"url(#clip850)\" d=\"M2147.14 262.485 Q2146.42 262.068 2145.56 261.883 Q2144.73 261.674 2143.71 261.674 Q2140.1 261.674 2138.16 264.036 Q2136.24 266.373 2136.24 270.772 L2136.24 284.429 L2131.95 284.429 L2131.95 258.503 L2136.24 258.503 L2136.24 262.531 Q2137.58 260.17 2139.73 259.036 Q2141.88 257.878 2144.96 257.878 Q2145.4 257.878 2145.93 257.948 Q2146.47 257.994 2147.11 258.11 L2147.14 262.485 Z\" fill=\"#000000\" fill-rule=\"evenodd\" fill-opacity=\"1\" /><path clip-path=\"url(#clip850)\" d=\"M2170.96 263.48 Q2172.55 260.61 2174.78 259.244 Q2177 257.878 2180.01 257.878 Q2184.06 257.878 2186.26 260.725 Q2188.46 263.549 2188.46 268.781 L2188.46 284.429 L2184.17 284.429 L2184.17 268.92 Q2184.17 265.193 2182.86 263.387 Q2181.54 261.582 2178.83 261.582 Q2175.52 261.582 2173.6 263.781 Q2171.67 265.98 2171.67 269.776 L2171.67 284.429 L2167.39 284.429 L2167.39 268.92 Q2167.39 265.17 2166.07 263.387 Q2164.75 261.582 2162 261.582 Q2158.74 261.582 2156.81 263.804 Q2154.89 266.003 2154.89 269.776 L2154.89 284.429 L2150.61 284.429 L2150.61 258.503 L2154.89 258.503 L2154.89 262.531 Q2156.35 260.147 2158.39 259.012 Q2160.42 257.878 2163.23 257.878 Q2166.05 257.878 2168.02 259.313 Q2170.01 260.749 2170.96 263.48 Z\" fill=\"#000000\" fill-rule=\"evenodd\" fill-opacity=\"1\" /><path clip-path=\"url(#clip850)\" d=\"M2208.73 271.397 Q2203.57 271.397 2201.58 272.577 Q2199.59 273.758 2199.59 276.605 Q2199.59 278.873 2201.07 280.216 Q2202.58 281.535 2205.15 281.535 Q2208.69 281.535 2210.82 279.035 Q2212.97 276.512 2212.97 272.346 L2212.97 271.397 L2208.73 271.397 M2217.23 269.637 L2217.23 284.429 L2212.97 284.429 L2212.97 280.494 Q2211.51 282.855 2209.34 283.989 Q2207.16 285.1 2204.01 285.1 Q2200.03 285.1 2197.67 282.878 Q2195.33 280.633 2195.33 276.883 Q2195.33 272.508 2198.25 270.286 Q2201.19 268.063 2207 268.063 L2212.97 268.063 L2212.97 267.647 Q2212.97 264.707 2211.03 263.11 Q2209.11 261.489 2205.61 261.489 Q2203.39 261.489 2201.28 262.022 Q2199.17 262.554 2197.23 263.619 L2197.23 259.684 Q2199.57 258.781 2201.77 258.341 Q2203.97 257.878 2206.05 257.878 Q2211.67 257.878 2214.45 260.795 Q2217.23 263.711 2217.23 269.637 Z\" fill=\"#000000\" fill-rule=\"evenodd\" fill-opacity=\"1\" /><path clip-path=\"url(#clip850)\" d=\"M2226 248.411 L2230.26 248.411 L2230.26 284.429 L2226 284.429 L2226 248.411 Z\" fill=\"#000000\" fill-rule=\"evenodd\" fill-opacity=\"1\" /><path clip-path=\"url(#clip850)\" d=\"M2239.17 258.503 L2243.43 258.503 L2243.43 284.429 L2239.17 284.429 L2239.17 258.503 M2239.17 248.411 L2243.43 248.411 L2243.43 253.804 L2239.17 253.804 L2239.17 248.411 Z\" fill=\"#000000\" fill-rule=\"evenodd\" fill-opacity=\"1\" /><path clip-path=\"url(#clip850)\" d=\"M2256.56 251.142 L2256.56 258.503 L2265.33 258.503 L2265.33 261.813 L2256.56 261.813 L2256.56 275.887 Q2256.56 279.059 2257.42 279.961 Q2258.29 280.864 2260.96 280.864 L2265.33 280.864 L2265.33 284.429 L2260.96 284.429 Q2256.03 284.429 2254.15 282.6 Q2252.28 280.748 2252.28 275.887 L2252.28 261.813 L2249.15 261.813 L2249.15 258.503 L2252.28 258.503 L2252.28 251.142 L2256.56 251.142 Z\" fill=\"#000000\" fill-rule=\"evenodd\" fill-opacity=\"1\" /><path clip-path=\"url(#clip850)\" d=\"M2281.72 286.836 Q2279.92 291.466 2278.2 292.878 Q2276.49 294.29 2273.62 294.29 L2270.22 294.29 L2270.22 290.725 L2272.72 290.725 Q2274.48 290.725 2275.45 289.892 Q2276.42 289.059 2277.6 285.957 L2278.36 284.012 L2267.88 258.503 L2272.39 258.503 L2280.49 278.781 L2288.6 258.503 L2293.11 258.503 L2281.72 286.836 Z\" fill=\"#000000\" fill-rule=\"evenodd\" fill-opacity=\"1\" /><path clip-path=\"url(#clip850)\" d=\"M2336.23 270.401 L2336.23 272.485 L2316.65 272.485 Q2316.93 276.883 2319.29 279.197 Q2321.67 281.489 2325.91 281.489 Q2328.36 281.489 2330.66 280.887 Q2332.97 280.285 2335.24 279.082 L2335.24 283.11 Q2332.95 284.082 2330.54 284.591 Q2328.13 285.1 2325.66 285.1 Q2319.45 285.1 2315.82 281.489 Q2312.21 277.878 2312.21 271.721 Q2312.21 265.355 2315.63 261.628 Q2319.08 257.878 2324.91 257.878 Q2330.15 257.878 2333.18 261.258 Q2336.23 264.614 2336.23 270.401 M2331.98 269.151 Q2331.93 265.656 2330.01 263.573 Q2328.11 261.489 2324.96 261.489 Q2321.4 261.489 2319.24 263.503 Q2317.11 265.517 2316.79 269.174 L2331.98 269.151 Z\" fill=\"#000000\" fill-rule=\"evenodd\" fill-opacity=\"1\" /><path clip-path=\"url(#clip850)\" d=\"M2358.25 262.485 Q2357.53 262.068 2356.67 261.883 Q2355.84 261.674 2354.82 261.674 Q2351.21 261.674 2349.27 264.036 Q2347.35 266.373 2347.35 270.772 L2347.35 284.429 L2343.06 284.429 L2343.06 258.503 L2347.35 258.503 L2347.35 262.531 Q2348.69 260.17 2350.84 259.036 Q2352.99 257.878 2356.07 257.878 Q2356.51 257.878 2357.04 257.948 Q2357.58 257.994 2358.22 258.11 L2358.25 262.485 Z\" fill=\"#000000\" fill-rule=\"evenodd\" fill-opacity=\"1\" /><path clip-path=\"url(#clip850)\" d=\"M2376.91 262.485 Q2376.19 262.068 2375.33 261.883 Q2374.5 261.674 2373.48 261.674 Q2369.87 261.674 2367.92 264.036 Q2366 266.373 2366 270.772 L2366 284.429 L2361.72 284.429 L2361.72 258.503 L2366 258.503 L2366 262.531 Q2367.35 260.17 2369.5 259.036 Q2371.65 257.878 2374.73 257.878 Q2375.17 257.878 2375.7 257.948 Q2376.23 257.994 2376.88 258.11 L2376.91 262.485 Z\" fill=\"#000000\" fill-rule=\"evenodd\" fill-opacity=\"1\" /><path clip-path=\"url(#clip850)\" d=\"M2390.38 261.489 Q2386.95 261.489 2384.96 264.174 Q2382.97 266.836 2382.97 271.489 Q2382.97 276.142 2384.94 278.827 Q2386.93 281.489 2390.38 281.489 Q2393.78 281.489 2395.77 278.804 Q2397.76 276.119 2397.76 271.489 Q2397.76 266.883 2395.77 264.198 Q2393.78 261.489 2390.38 261.489 M2390.38 257.878 Q2395.93 257.878 2399.1 261.489 Q2402.28 265.1 2402.28 271.489 Q2402.28 277.855 2399.1 281.489 Q2395.93 285.1 2390.38 285.1 Q2384.8 285.1 2381.63 281.489 Q2378.48 277.855 2378.48 271.489 Q2378.48 265.1 2381.63 261.489 Q2384.8 257.878 2390.38 257.878 Z\" fill=\"#000000\" fill-rule=\"evenodd\" fill-opacity=\"1\" /><path clip-path=\"url(#clip850)\" d=\"M2424.36 262.485 Q2423.64 262.068 2422.78 261.883 Q2421.95 261.674 2420.93 261.674 Q2417.32 261.674 2415.38 264.036 Q2413.46 266.373 2413.46 270.772 L2413.46 284.429 L2409.17 284.429 L2409.17 258.503 L2413.46 258.503 L2413.46 262.531 Q2414.8 260.17 2416.95 259.036 Q2419.1 257.878 2422.18 257.878 Q2422.62 257.878 2423.16 257.948 Q2423.69 257.994 2424.34 258.11 L2424.36 262.485 Z\" fill=\"#000000\" fill-rule=\"evenodd\" fill-opacity=\"1\" /><polyline clip-path=\"url(#clip850)\" style=\"stroke:#e26f46; stroke-linecap:butt; stroke-linejoin:round; stroke-width:4; stroke-opacity:1; fill:none\" points=\"\n",
       "  1765.32,318.989 1919.4,318.989 \n",
       "  \"/>\n",
       "<path clip-path=\"url(#clip850)\" d=\"M1960.26 314.325 Q1959.55 313.908 1958.69 313.723 Q1957.86 313.514 1956.84 313.514 Q1953.23 313.514 1951.28 315.876 Q1949.36 318.213 1949.36 322.612 L1949.36 336.269 L1945.08 336.269 L1945.08 310.343 L1949.36 310.343 L1949.36 314.371 Q1950.7 312.01 1952.86 310.876 Q1955.01 309.718 1958.09 309.718 Q1958.53 309.718 1959.06 309.788 Q1959.59 309.834 1960.24 309.95 L1960.26 314.325 Z\" fill=\"#000000\" fill-rule=\"evenodd\" fill-opacity=\"1\" /><path clip-path=\"url(#clip850)\" d=\"M1985.87 322.241 L1985.87 324.325 L1966.28 324.325 Q1966.56 328.723 1968.92 331.037 Q1971.31 333.329 1975.54 333.329 Q1978 333.329 1980.29 332.727 Q1982.6 332.125 1984.87 330.922 L1984.87 334.95 Q1982.58 335.922 1980.17 336.431 Q1977.76 336.94 1975.29 336.94 Q1969.08 336.94 1965.45 333.329 Q1961.84 329.718 1961.84 323.561 Q1961.84 317.195 1965.26 313.468 Q1968.71 309.718 1974.55 309.718 Q1979.78 309.718 1982.81 313.098 Q1985.87 316.454 1985.87 322.241 M1981.61 320.991 Q1981.56 317.496 1979.64 315.413 Q1977.74 313.329 1974.59 313.329 Q1971.03 313.329 1968.88 315.343 Q1966.75 317.357 1966.42 321.014 L1981.61 320.991 Z\" fill=\"#000000\" fill-rule=\"evenodd\" fill-opacity=\"1\" /><path clip-path=\"url(#clip850)\" d=\"M2011.51 311.339 L2011.51 315.32 Q2009.71 314.325 2007.88 313.839 Q2006.07 313.329 2004.22 313.329 Q2000.08 313.329 1997.79 315.968 Q1995.5 318.584 1995.5 323.329 Q1995.5 328.075 1997.79 330.713 Q2000.08 333.329 2004.22 333.329 Q2006.07 333.329 2007.88 332.843 Q2009.71 332.334 2011.51 331.338 L2011.51 335.274 Q2009.73 336.107 2007.81 336.524 Q2005.91 336.94 2003.76 336.94 Q1997.9 336.94 1994.45 333.26 Q1991 329.579 1991 323.329 Q1991 316.987 1994.48 313.352 Q1997.97 309.718 2004.04 309.718 Q2006 309.718 2007.88 310.135 Q2009.75 310.528 2011.51 311.339 Z\" fill=\"#000000\" fill-rule=\"evenodd\" fill-opacity=\"1\" /><path clip-path=\"url(#clip850)\" d=\"M2028.97 313.329 Q2025.54 313.329 2023.55 316.014 Q2021.56 318.676 2021.56 323.329 Q2021.56 327.982 2023.53 330.667 Q2025.52 333.329 2028.97 333.329 Q2032.37 333.329 2034.36 330.644 Q2036.35 327.959 2036.35 323.329 Q2036.35 318.723 2034.36 316.038 Q2032.37 313.329 2028.97 313.329 M2028.97 309.718 Q2034.52 309.718 2037.69 313.329 Q2040.87 316.94 2040.87 323.329 Q2040.87 329.695 2037.69 333.329 Q2034.52 336.94 2028.97 336.94 Q2023.39 336.94 2020.22 333.329 Q2017.07 329.695 2017.07 323.329 Q2017.07 316.94 2020.22 313.329 Q2023.39 309.718 2028.97 309.718 Z\" fill=\"#000000\" fill-rule=\"evenodd\" fill-opacity=\"1\" /><path clip-path=\"url(#clip850)\" d=\"M2069.48 320.621 L2069.48 336.269 L2065.22 336.269 L2065.22 320.76 Q2065.22 317.079 2063.78 315.251 Q2062.35 313.422 2059.48 313.422 Q2056.03 313.422 2054.04 315.621 Q2052.05 317.82 2052.05 321.616 L2052.05 336.269 L2047.76 336.269 L2047.76 310.343 L2052.05 310.343 L2052.05 314.371 Q2053.57 312.033 2055.63 310.876 Q2057.72 309.718 2060.43 309.718 Q2064.89 309.718 2067.18 312.496 Q2069.48 315.251 2069.48 320.621 Z\" fill=\"#000000\" fill-rule=\"evenodd\" fill-opacity=\"1\" /><path clip-path=\"url(#clip850)\" d=\"M2094.5 311.107 L2094.5 315.135 Q2092.69 314.209 2090.75 313.746 Q2088.81 313.283 2086.72 313.283 Q2083.55 313.283 2081.95 314.255 Q2080.38 315.227 2080.38 317.172 Q2080.38 318.653 2081.51 319.51 Q2082.65 320.343 2086.07 321.107 L2087.53 321.431 Q2092.07 322.403 2093.97 324.186 Q2095.89 325.945 2095.89 329.116 Q2095.89 332.727 2093.02 334.834 Q2090.17 336.94 2085.17 336.94 Q2083.09 336.94 2080.82 336.524 Q2078.57 336.13 2076.07 335.32 L2076.07 330.922 Q2078.43 332.149 2080.73 332.774 Q2083.02 333.375 2085.26 333.375 Q2088.27 333.375 2089.89 332.357 Q2091.51 331.315 2091.51 329.44 Q2091.51 327.704 2090.33 326.778 Q2089.18 325.852 2085.22 324.996 L2083.74 324.649 Q2079.78 323.815 2078.02 322.102 Q2076.26 320.366 2076.26 317.357 Q2076.26 313.7 2078.85 311.709 Q2081.44 309.718 2086.21 309.718 Q2088.57 309.718 2090.66 310.065 Q2092.74 310.413 2094.5 311.107 Z\" fill=\"#000000\" fill-rule=\"evenodd\" fill-opacity=\"1\" /><path clip-path=\"url(#clip850)\" d=\"M2106.88 302.982 L2106.88 310.343 L2115.66 310.343 L2115.66 313.653 L2106.88 313.653 L2106.88 327.727 Q2106.88 330.899 2107.74 331.801 Q2108.62 332.704 2111.28 332.704 L2115.66 332.704 L2115.66 336.269 L2111.28 336.269 Q2106.35 336.269 2104.48 334.44 Q2102.6 332.588 2102.6 327.727 L2102.6 313.653 L2099.48 313.653 L2099.48 310.343 L2102.6 310.343 L2102.6 302.982 L2106.88 302.982 Z\" fill=\"#000000\" fill-rule=\"evenodd\" fill-opacity=\"1\" /><path clip-path=\"url(#clip850)\" d=\"M2136.28 314.325 Q2135.56 313.908 2134.71 313.723 Q2133.87 313.514 2132.86 313.514 Q2129.24 313.514 2127.3 315.876 Q2125.38 318.213 2125.38 322.612 L2125.38 336.269 L2121.1 336.269 L2121.1 310.343 L2125.38 310.343 L2125.38 314.371 Q2126.72 312.01 2128.87 310.876 Q2131.03 309.718 2134.11 309.718 Q2134.55 309.718 2135.08 309.788 Q2135.61 309.834 2136.26 309.95 L2136.28 314.325 Z\" fill=\"#000000\" fill-rule=\"evenodd\" fill-opacity=\"1\" /><path clip-path=\"url(#clip850)\" d=\"M2140.31 326.038 L2140.31 310.343 L2144.57 310.343 L2144.57 325.875 Q2144.57 329.556 2146 331.408 Q2147.44 333.237 2150.31 333.237 Q2153.76 333.237 2155.75 331.037 Q2157.76 328.838 2157.76 325.042 L2157.76 310.343 L2162.02 310.343 L2162.02 336.269 L2157.76 336.269 L2157.76 332.287 Q2156.21 334.649 2154.15 335.806 Q2152.11 336.94 2149.41 336.94 Q2144.94 336.94 2142.62 334.162 Q2140.31 331.385 2140.31 326.038 M2151.03 309.718 L2151.03 309.718 Z\" fill=\"#000000\" fill-rule=\"evenodd\" fill-opacity=\"1\" /><path clip-path=\"url(#clip850)\" d=\"M2189.45 311.339 L2189.45 315.32 Q2187.65 314.325 2185.82 313.839 Q2184.01 313.329 2182.16 313.329 Q2178.02 313.329 2175.73 315.968 Q2173.43 318.584 2173.43 323.329 Q2173.43 328.075 2175.73 330.713 Q2178.02 333.329 2182.16 333.329 Q2184.01 333.329 2185.82 332.843 Q2187.65 332.334 2189.45 331.338 L2189.45 335.274 Q2187.67 336.107 2185.75 336.524 Q2183.85 336.94 2181.7 336.94 Q2175.84 336.94 2172.39 333.26 Q2168.94 329.579 2168.94 323.329 Q2168.94 316.987 2172.42 313.352 Q2175.91 309.718 2181.98 309.718 Q2183.94 309.718 2185.82 310.135 Q2187.69 310.528 2189.45 311.339 Z\" fill=\"#000000\" fill-rule=\"evenodd\" fill-opacity=\"1\" /><path clip-path=\"url(#clip850)\" d=\"M2201.07 302.982 L2201.07 310.343 L2209.85 310.343 L2209.85 313.653 L2201.07 313.653 L2201.07 327.727 Q2201.07 330.899 2201.93 331.801 Q2202.81 332.704 2205.47 332.704 L2209.85 332.704 L2209.85 336.269 L2205.47 336.269 Q2200.54 336.269 2198.67 334.44 Q2196.79 332.588 2196.79 327.727 L2196.79 313.653 L2193.67 313.653 L2193.67 310.343 L2196.79 310.343 L2196.79 302.982 L2201.07 302.982 Z\" fill=\"#000000\" fill-rule=\"evenodd\" fill-opacity=\"1\" /><path clip-path=\"url(#clip850)\" d=\"M2215.45 310.343 L2219.71 310.343 L2219.71 336.269 L2215.45 336.269 L2215.45 310.343 M2215.45 300.251 L2219.71 300.251 L2219.71 305.644 L2215.45 305.644 L2215.45 300.251 Z\" fill=\"#000000\" fill-rule=\"evenodd\" fill-opacity=\"1\" /><path clip-path=\"url(#clip850)\" d=\"M2238.67 313.329 Q2235.24 313.329 2233.25 316.014 Q2231.26 318.676 2231.26 323.329 Q2231.26 327.982 2233.23 330.667 Q2235.22 333.329 2238.67 333.329 Q2242.07 333.329 2244.06 330.644 Q2246.05 327.959 2246.05 323.329 Q2246.05 318.723 2244.06 316.038 Q2242.07 313.329 2238.67 313.329 M2238.67 309.718 Q2244.22 309.718 2247.39 313.329 Q2250.56 316.94 2250.56 323.329 Q2250.56 329.695 2247.39 333.329 Q2244.22 336.94 2238.67 336.94 Q2233.09 336.94 2229.92 333.329 Q2226.77 329.695 2226.77 323.329 Q2226.77 316.94 2229.92 313.329 Q2233.09 309.718 2238.67 309.718 Z\" fill=\"#000000\" fill-rule=\"evenodd\" fill-opacity=\"1\" /><path clip-path=\"url(#clip850)\" d=\"M2279.17 320.621 L2279.17 336.269 L2274.92 336.269 L2274.92 320.76 Q2274.92 317.079 2273.48 315.251 Q2272.04 313.422 2269.17 313.422 Q2265.73 313.422 2263.73 315.621 Q2261.74 317.82 2261.74 321.616 L2261.74 336.269 L2257.46 336.269 L2257.46 310.343 L2261.74 310.343 L2261.74 314.371 Q2263.27 312.033 2265.33 310.876 Q2267.42 309.718 2270.12 309.718 Q2274.59 309.718 2276.88 312.496 Q2279.17 315.251 2279.17 320.621 Z\" fill=\"#000000\" fill-rule=\"evenodd\" fill-opacity=\"1\" /><path clip-path=\"url(#clip850)\" d=\"M2324.91 322.241 L2324.91 324.325 L2305.33 324.325 Q2305.61 328.723 2307.97 331.037 Q2310.35 333.329 2314.59 333.329 Q2317.04 333.329 2319.34 332.727 Q2321.65 332.125 2323.92 330.922 L2323.92 334.95 Q2321.63 335.922 2319.22 336.431 Q2316.81 336.94 2314.34 336.94 Q2308.13 336.94 2304.5 333.329 Q2300.89 329.718 2300.89 323.561 Q2300.89 317.195 2304.31 313.468 Q2307.76 309.718 2313.6 309.718 Q2318.83 309.718 2321.86 313.098 Q2324.91 316.454 2324.91 322.241 M2320.66 320.991 Q2320.61 317.496 2318.69 315.413 Q2316.79 313.329 2313.64 313.329 Q2310.08 313.329 2307.92 315.343 Q2305.79 317.357 2305.47 321.014 L2320.66 320.991 Z\" fill=\"#000000\" fill-rule=\"evenodd\" fill-opacity=\"1\" /><path clip-path=\"url(#clip850)\" d=\"M2346.93 314.325 Q2346.21 313.908 2345.35 313.723 Q2344.52 313.514 2343.5 313.514 Q2339.89 313.514 2337.95 315.876 Q2336.03 318.213 2336.03 322.612 L2336.03 336.269 L2331.74 336.269 L2331.74 310.343 L2336.03 310.343 L2336.03 314.371 Q2337.37 312.01 2339.52 310.876 Q2341.67 309.718 2344.75 309.718 Q2345.19 309.718 2345.72 309.788 Q2346.26 309.834 2346.91 309.95 L2346.93 314.325 Z\" fill=\"#000000\" fill-rule=\"evenodd\" fill-opacity=\"1\" /><path clip-path=\"url(#clip850)\" d=\"M2365.59 314.325 Q2364.87 313.908 2364.01 313.723 Q2363.18 313.514 2362.16 313.514 Q2358.55 313.514 2356.6 315.876 Q2354.68 318.213 2354.68 322.612 L2354.68 336.269 L2350.4 336.269 L2350.4 310.343 L2354.68 310.343 L2354.68 314.371 Q2356.03 312.01 2358.18 310.876 Q2360.33 309.718 2363.41 309.718 Q2363.85 309.718 2364.38 309.788 Q2364.91 309.834 2365.56 309.95 L2365.59 314.325 Z\" fill=\"#000000\" fill-rule=\"evenodd\" fill-opacity=\"1\" /><path clip-path=\"url(#clip850)\" d=\"M2379.06 313.329 Q2375.63 313.329 2373.64 316.014 Q2371.65 318.676 2371.65 323.329 Q2371.65 327.982 2373.62 330.667 Q2375.61 333.329 2379.06 333.329 Q2382.46 333.329 2384.45 330.644 Q2386.44 327.959 2386.44 323.329 Q2386.44 318.723 2384.45 316.038 Q2382.46 313.329 2379.06 313.329 M2379.06 309.718 Q2384.61 309.718 2387.78 313.329 Q2390.96 316.94 2390.96 323.329 Q2390.96 329.695 2387.78 333.329 Q2384.61 336.94 2379.06 336.94 Q2373.48 336.94 2370.31 333.329 Q2367.16 329.695 2367.16 323.329 Q2367.16 316.94 2370.31 313.329 Q2373.48 309.718 2379.06 309.718 Z\" fill=\"#000000\" fill-rule=\"evenodd\" fill-opacity=\"1\" /><path clip-path=\"url(#clip850)\" d=\"M2413.04 314.325 Q2412.32 313.908 2411.47 313.723 Q2410.63 313.514 2409.61 313.514 Q2406 313.514 2404.06 315.876 Q2402.14 318.213 2402.14 322.612 L2402.14 336.269 L2397.85 336.269 L2397.85 310.343 L2402.14 310.343 L2402.14 314.371 Q2403.48 312.01 2405.63 310.876 Q2407.78 309.718 2410.86 309.718 Q2411.3 309.718 2411.84 309.788 Q2412.37 309.834 2413.02 309.95 L2413.04 314.325 Z\" fill=\"#000000\" fill-rule=\"evenodd\" fill-opacity=\"1\" /><path clip-path=\"url(#clip850)\" d=\"\n",
       "M2841.61 3013.49 L5152.76 3013.49 L5152.76 118.82 L2841.61 118.82  Z\n",
       "  \" fill=\"#ffffff\" fill-rule=\"evenodd\" fill-opacity=\"1\"/>\n",
       "<defs>\n",
       "  <clipPath id=\"clip853\">\n",
       "    <rect x=\"2841\" y=\"118\" width=\"2312\" height=\"2896\"/>\n",
       "  </clipPath>\n",
       "</defs>\n",
       "<polyline clip-path=\"url(#clip853)\" style=\"stroke:#000000; stroke-linecap:butt; stroke-linejoin:round; stroke-width:2; stroke-opacity:0.1; fill:none\" points=\"\n",
       "  3045.3,3013.49 3045.3,118.82 \n",
       "  \"/>\n",
       "<polyline clip-path=\"url(#clip853)\" style=\"stroke:#000000; stroke-linecap:butt; stroke-linejoin:round; stroke-width:2; stroke-opacity:0.1; fill:none\" points=\"\n",
       "  3425.84,3013.49 3425.84,118.82 \n",
       "  \"/>\n",
       "<polyline clip-path=\"url(#clip853)\" style=\"stroke:#000000; stroke-linecap:butt; stroke-linejoin:round; stroke-width:2; stroke-opacity:0.1; fill:none\" points=\"\n",
       "  3806.38,3013.49 3806.38,118.82 \n",
       "  \"/>\n",
       "<polyline clip-path=\"url(#clip853)\" style=\"stroke:#000000; stroke-linecap:butt; stroke-linejoin:round; stroke-width:2; stroke-opacity:0.1; fill:none\" points=\"\n",
       "  4186.92,3013.49 4186.92,118.82 \n",
       "  \"/>\n",
       "<polyline clip-path=\"url(#clip853)\" style=\"stroke:#000000; stroke-linecap:butt; stroke-linejoin:round; stroke-width:2; stroke-opacity:0.1; fill:none\" points=\"\n",
       "  4567.45,3013.49 4567.45,118.82 \n",
       "  \"/>\n",
       "<polyline clip-path=\"url(#clip853)\" style=\"stroke:#000000; stroke-linecap:butt; stroke-linejoin:round; stroke-width:2; stroke-opacity:0.1; fill:none\" points=\"\n",
       "  4947.99,3013.49 4947.99,118.82 \n",
       "  \"/>\n",
       "<polyline clip-path=\"url(#clip850)\" style=\"stroke:#000000; stroke-linecap:butt; stroke-linejoin:round; stroke-width:4; stroke-opacity:1; fill:none\" points=\"\n",
       "  2841.61,3013.49 5152.76,3013.49 \n",
       "  \"/>\n",
       "<polyline clip-path=\"url(#clip850)\" style=\"stroke:#000000; stroke-linecap:butt; stroke-linejoin:round; stroke-width:4; stroke-opacity:1; fill:none\" points=\"\n",
       "  3045.3,3013.49 3045.3,2994.6 \n",
       "  \"/>\n",
       "<polyline clip-path=\"url(#clip850)\" style=\"stroke:#000000; stroke-linecap:butt; stroke-linejoin:round; stroke-width:4; stroke-opacity:1; fill:none\" points=\"\n",
       "  3425.84,3013.49 3425.84,2994.6 \n",
       "  \"/>\n",
       "<polyline clip-path=\"url(#clip850)\" style=\"stroke:#000000; stroke-linecap:butt; stroke-linejoin:round; stroke-width:4; stroke-opacity:1; fill:none\" points=\"\n",
       "  3806.38,3013.49 3806.38,2994.6 \n",
       "  \"/>\n",
       "<polyline clip-path=\"url(#clip850)\" style=\"stroke:#000000; stroke-linecap:butt; stroke-linejoin:round; stroke-width:4; stroke-opacity:1; fill:none\" points=\"\n",
       "  4186.92,3013.49 4186.92,2994.6 \n",
       "  \"/>\n",
       "<polyline clip-path=\"url(#clip850)\" style=\"stroke:#000000; stroke-linecap:butt; stroke-linejoin:round; stroke-width:4; stroke-opacity:1; fill:none\" points=\"\n",
       "  4567.45,3013.49 4567.45,2994.6 \n",
       "  \"/>\n",
       "<polyline clip-path=\"url(#clip850)\" style=\"stroke:#000000; stroke-linecap:butt; stroke-linejoin:round; stroke-width:4; stroke-opacity:1; fill:none\" points=\"\n",
       "  4947.99,3013.49 4947.99,2994.6 \n",
       "  \"/>\n",
       "<path clip-path=\"url(#clip850)\" d=\"M3035.68 3094.36 L3043.32 3094.36 L3043.32 3067.99 L3035.01 3069.66 L3035.01 3065.4 L3043.27 3063.73 L3047.95 3063.73 L3047.95 3094.36 L3055.59 3094.36 L3055.59 3098.29 L3035.68 3098.29 L3035.68 3094.36 Z\" fill=\"#000000\" fill-rule=\"evenodd\" fill-opacity=\"1\" /><path clip-path=\"url(#clip850)\" d=\"M3420.49 3094.36 L3436.81 3094.36 L3436.81 3098.29 L3414.86 3098.29 L3414.86 3094.36 Q3417.53 3091.6 3422.11 3086.97 Q3426.72 3082.32 3427.9 3080.98 Q3430.14 3078.46 3431.02 3076.72 Q3431.92 3074.96 3431.92 3073.27 Q3431.92 3070.52 3429.98 3068.78 Q3428.06 3067.04 3424.96 3067.04 Q3422.76 3067.04 3420.3 3067.81 Q3417.87 3068.57 3415.1 3070.12 L3415.1 3065.4 Q3417.92 3064.27 3420.37 3063.69 Q3422.83 3063.11 3424.86 3063.11 Q3430.24 3063.11 3433.43 3065.79 Q3436.62 3068.48 3436.62 3072.97 Q3436.62 3075.1 3435.81 3077.02 Q3435.03 3078.92 3432.92 3081.51 Q3432.34 3082.18 3429.24 3085.4 Q3426.14 3088.59 3420.49 3094.36 Z\" fill=\"#000000\" fill-rule=\"evenodd\" fill-opacity=\"1\" /><path clip-path=\"url(#clip850)\" d=\"M3810.62 3079.66 Q3813.98 3080.38 3815.86 3082.65 Q3817.75 3084.91 3817.75 3088.25 Q3817.75 3093.36 3814.23 3096.16 Q3810.72 3098.96 3804.23 3098.96 Q3802.06 3098.96 3799.74 3098.53 Q3797.45 3098.11 3795 3097.25 L3795 3092.74 Q3796.94 3093.87 3799.26 3094.45 Q3801.57 3095.03 3804.1 3095.03 Q3808.49 3095.03 3810.79 3093.29 Q3813.1 3091.56 3813.1 3088.25 Q3813.1 3085.19 3810.95 3083.48 Q3808.82 3081.74 3805 3081.74 L3800.97 3081.74 L3800.97 3077.9 L3805.18 3077.9 Q3808.63 3077.9 3810.46 3076.53 Q3812.29 3075.15 3812.29 3072.55 Q3812.29 3069.89 3810.39 3068.48 Q3808.52 3067.04 3805 3067.04 Q3803.08 3067.04 3800.88 3067.46 Q3798.68 3067.88 3796.04 3068.76 L3796.04 3064.59 Q3798.7 3063.85 3801.02 3063.48 Q3803.36 3063.11 3805.42 3063.11 Q3810.74 3063.11 3813.84 3065.54 Q3816.94 3067.95 3816.94 3072.07 Q3816.94 3074.94 3815.3 3076.93 Q3813.66 3078.9 3810.62 3079.66 Z\" fill=\"#000000\" fill-rule=\"evenodd\" fill-opacity=\"1\" /><path clip-path=\"url(#clip850)\" d=\"M4189.92 3067.81 L4178.12 3086.26 L4189.92 3086.26 L4189.92 3067.81 M4188.7 3063.73 L4194.58 3063.73 L4194.58 3086.26 L4199.51 3086.26 L4199.51 3090.15 L4194.58 3090.15 L4194.58 3098.29 L4189.92 3098.29 L4189.92 3090.15 L4174.32 3090.15 L4174.32 3085.63 L4188.7 3063.73 Z\" fill=\"#000000\" fill-rule=\"evenodd\" fill-opacity=\"1\" /><path clip-path=\"url(#clip850)\" d=\"M4557.73 3063.73 L4576.09 3063.73 L4576.09 3067.67 L4562.01 3067.67 L4562.01 3076.14 Q4563.03 3075.79 4564.05 3075.63 Q4565.07 3075.45 4566.09 3075.45 Q4571.88 3075.45 4575.26 3078.62 Q4578.63 3081.79 4578.63 3087.21 Q4578.63 3092.78 4575.16 3095.89 Q4571.69 3098.96 4565.37 3098.96 Q4563.2 3098.96 4560.93 3098.59 Q4558.68 3098.22 4556.27 3097.48 L4556.27 3092.78 Q4558.36 3093.92 4560.58 3094.47 Q4562.8 3095.03 4565.28 3095.03 Q4569.28 3095.03 4571.62 3092.92 Q4573.96 3090.82 4573.96 3087.21 Q4573.96 3083.59 4571.62 3081.49 Q4569.28 3079.38 4565.28 3079.38 Q4563.4 3079.38 4561.53 3079.8 Q4559.68 3080.22 4557.73 3081.09 L4557.73 3063.73 Z\" fill=\"#000000\" fill-rule=\"evenodd\" fill-opacity=\"1\" /><path clip-path=\"url(#clip850)\" d=\"M4948.4 3079.15 Q4945.25 3079.15 4943.4 3081.3 Q4941.57 3083.46 4941.57 3087.21 Q4941.57 3090.93 4943.4 3093.11 Q4945.25 3095.26 4948.4 3095.26 Q4951.55 3095.26 4953.38 3093.11 Q4955.23 3090.93 4955.23 3087.21 Q4955.23 3083.46 4953.38 3081.3 Q4951.55 3079.15 4948.4 3079.15 M4957.68 3064.5 L4957.68 3068.76 Q4955.92 3067.92 4954.12 3067.48 Q4952.33 3067.04 4950.57 3067.04 Q4945.94 3067.04 4943.49 3070.17 Q4941.06 3073.29 4940.71 3079.61 Q4942.08 3077.6 4944.14 3076.53 Q4946.2 3075.45 4948.68 3075.45 Q4953.88 3075.45 4956.89 3078.62 Q4959.93 3081.77 4959.93 3087.21 Q4959.93 3092.53 4956.78 3095.75 Q4953.63 3098.96 4948.4 3098.96 Q4942.4 3098.96 4939.23 3094.38 Q4936.06 3089.78 4936.06 3081.05 Q4936.06 3072.85 4939.95 3067.99 Q4943.84 3063.11 4950.39 3063.11 Q4952.15 3063.11 4953.93 3063.46 Q4955.74 3063.8 4957.68 3064.5 Z\" fill=\"#000000\" fill-rule=\"evenodd\" fill-opacity=\"1\" /><path clip-path=\"url(#clip850)\" d=\"M3722.93 3152.84 L3729.36 3152.84 L3729.36 3172.92 L3750.69 3152.84 L3758.96 3152.84 L3735.38 3174.99 L3760.65 3200.36 L3752.18 3200.36 L3729.36 3177.47 L3729.36 3200.36 L3722.93 3200.36 L3722.93 3152.84 Z\" fill=\"#000000\" fill-rule=\"evenodd\" fill-opacity=\"1\" /><path clip-path=\"url(#clip850)\" d=\"M3780.48 3182.44 Q3773.38 3182.44 3770.64 3184.06 Q3767.9 3185.68 3767.9 3189.6 Q3767.9 3192.72 3769.94 3194.56 Q3772.01 3196.38 3775.54 3196.38 Q3780.41 3196.38 3783.34 3192.94 Q3786.3 3189.47 3786.3 3183.74 L3786.3 3182.44 L3780.48 3182.44 M3792.16 3180.02 L3792.16 3200.36 L3786.3 3200.36 L3786.3 3194.95 Q3784.3 3198.19 3781.3 3199.75 Q3778.31 3201.28 3773.98 3201.28 Q3768.51 3201.28 3765.26 3198.23 Q3762.05 3195.14 3762.05 3189.98 Q3762.05 3183.97 3766.06 3180.91 Q3770.1 3177.85 3778.09 3177.85 L3786.3 3177.85 L3786.3 3177.28 Q3786.3 3173.24 3783.63 3171.04 Q3780.99 3168.82 3776.18 3168.82 Q3773.12 3168.82 3770.23 3169.55 Q3767.33 3170.28 3764.66 3171.74 L3764.66 3166.33 Q3767.87 3165.09 3770.9 3164.49 Q3773.92 3163.85 3776.79 3163.85 Q3784.52 3163.85 3788.34 3167.86 Q3792.16 3171.87 3792.16 3180.02 Z\" fill=\"#000000\" fill-rule=\"evenodd\" fill-opacity=\"1\" /><path clip-path=\"url(#clip850)\" d=\"M3833.85 3178.84 L3833.85 3200.36 L3828 3200.36 L3828 3179.03 Q3828 3173.97 3826.02 3171.46 Q3824.05 3168.94 3820.1 3168.94 Q3815.36 3168.94 3812.62 3171.97 Q3809.89 3174.99 3809.89 3180.21 L3809.89 3200.36 L3804 3200.36 L3804 3150.83 L3809.89 3150.83 L3809.89 3170.25 Q3811.99 3167.03 3814.82 3165.44 Q3817.68 3163.85 3821.41 3163.85 Q3827.55 3163.85 3830.7 3167.67 Q3833.85 3171.46 3833.85 3178.84 Z\" fill=\"#000000\" fill-rule=\"evenodd\" fill-opacity=\"1\" /><path clip-path=\"url(#clip850)\" d=\"M3861.74 3182.44 Q3854.64 3182.44 3851.9 3184.06 Q3849.16 3185.68 3849.16 3189.6 Q3849.16 3192.72 3851.2 3194.56 Q3853.27 3196.38 3856.8 3196.38 Q3861.67 3196.38 3864.6 3192.94 Q3867.56 3189.47 3867.56 3183.74 L3867.56 3182.44 L3861.74 3182.44 M3873.42 3180.02 L3873.42 3200.36 L3867.56 3200.36 L3867.56 3194.95 Q3865.55 3198.19 3862.56 3199.75 Q3859.57 3201.28 3855.24 3201.28 Q3849.77 3201.28 3846.52 3198.23 Q3843.31 3195.14 3843.31 3189.98 Q3843.31 3183.97 3847.32 3180.91 Q3851.36 3177.85 3859.35 3177.85 L3867.56 3177.85 L3867.56 3177.28 Q3867.56 3173.24 3864.89 3171.04 Q3862.24 3168.82 3857.44 3168.82 Q3854.38 3168.82 3851.49 3169.55 Q3848.59 3170.28 3845.92 3171.74 L3845.92 3166.33 Q3849.13 3165.09 3852.15 3164.49 Q3855.18 3163.85 3858.04 3163.85 Q3865.78 3163.85 3869.6 3167.86 Q3873.42 3171.87 3873.42 3180.02 Z\" fill=\"#000000\" fill-rule=\"evenodd\" fill-opacity=\"1\" /><path clip-path=\"url(#clip850)\" d=\"M3915.11 3178.84 L3915.11 3200.36 L3909.26 3200.36 L3909.26 3179.03 Q3909.26 3173.97 3907.28 3171.46 Q3905.31 3168.94 3901.36 3168.94 Q3896.62 3168.94 3893.88 3171.97 Q3891.14 3174.99 3891.14 3180.21 L3891.14 3200.36 L3885.26 3200.36 L3885.26 3164.71 L3891.14 3164.71 L3891.14 3170.25 Q3893.25 3167.03 3896.08 3165.44 Q3898.94 3163.85 3902.67 3163.85 Q3908.81 3163.85 3911.96 3167.67 Q3915.11 3171.46 3915.11 3178.84 Z\" fill=\"#000000\" fill-rule=\"evenodd\" fill-opacity=\"1\" /><path clip-path=\"url(#clip850)\" d=\"M3975.27 3171.55 Q3977.46 3167.61 3980.52 3165.73 Q3983.57 3163.85 3987.71 3163.85 Q3993.28 3163.85 3996.31 3167.77 Q3999.33 3171.65 3999.33 3178.84 L3999.33 3200.36 L3993.44 3200.36 L3993.44 3179.03 Q3993.44 3173.91 3991.63 3171.43 Q3989.81 3168.94 3986.09 3168.94 Q3981.54 3168.94 3978.9 3171.97 Q3976.25 3174.99 3976.25 3180.21 L3976.25 3200.36 L3970.37 3200.36 L3970.37 3179.03 Q3970.37 3173.88 3968.55 3171.43 Q3966.74 3168.94 3962.95 3168.94 Q3958.46 3168.94 3955.82 3172 Q3953.18 3175.02 3953.18 3180.21 L3953.18 3200.36 L3947.29 3200.36 L3947.29 3164.71 L3953.18 3164.71 L3953.18 3170.25 Q3955.18 3166.97 3957.98 3165.41 Q3960.79 3163.85 3964.64 3163.85 Q3968.52 3163.85 3971.23 3165.82 Q3973.96 3167.8 3975.27 3171.55 Z\" fill=\"#000000\" fill-rule=\"evenodd\" fill-opacity=\"1\" /><path clip-path=\"url(#clip850)\" d=\"M4027.21 3182.44 Q4020.11 3182.44 4017.38 3184.06 Q4014.64 3185.68 4014.64 3189.6 Q4014.64 3192.72 4016.68 3194.56 Q4018.75 3196.38 4022.28 3196.38 Q4027.15 3196.38 4030.08 3192.94 Q4033.04 3189.47 4033.04 3183.74 L4033.04 3182.44 L4027.21 3182.44 M4038.89 3180.02 L4038.89 3200.36 L4033.04 3200.36 L4033.04 3194.95 Q4031.03 3198.19 4028.04 3199.75 Q4025.05 3201.28 4020.72 3201.28 Q4015.24 3201.28 4012 3198.23 Q4008.78 3195.14 4008.78 3189.98 Q4008.78 3183.97 4012.79 3180.91 Q4016.84 3177.85 4024.82 3177.85 L4033.04 3177.85 L4033.04 3177.28 Q4033.04 3173.24 4030.36 3171.04 Q4027.72 3168.82 4022.92 3168.82 Q4019.86 3168.82 4016.96 3169.55 Q4014.07 3170.28 4011.39 3171.74 L4011.39 3166.33 Q4014.61 3165.09 4017.63 3164.49 Q4020.66 3163.85 4023.52 3163.85 Q4031.25 3163.85 4035.07 3167.86 Q4038.89 3171.87 4038.89 3180.02 Z\" fill=\"#000000\" fill-rule=\"evenodd\" fill-opacity=\"1\" /><path clip-path=\"url(#clip850)\" d=\"M4056.75 3154.59 L4056.75 3164.71 L4068.81 3164.71 L4068.81 3169.26 L4056.75 3169.26 L4056.75 3188.61 Q4056.75 3192.97 4057.93 3194.21 Q4059.14 3195.46 4062.8 3195.46 L4068.81 3195.46 L4068.81 3200.36 L4062.8 3200.36 Q4056.02 3200.36 4053.44 3197.84 Q4050.86 3195.3 4050.86 3188.61 L4050.86 3169.26 L4046.56 3169.26 L4046.56 3164.71 L4050.86 3164.71 L4050.86 3154.59 L4056.75 3154.59 Z\" fill=\"#000000\" fill-rule=\"evenodd\" fill-opacity=\"1\" /><path clip-path=\"url(#clip850)\" d=\"M4097.17 3170.18 Q4096.18 3169.61 4095.01 3169.36 Q4093.86 3169.07 4092.46 3169.07 Q4087.5 3169.07 4084.82 3172.32 Q4082.18 3175.53 4082.18 3181.58 L4082.18 3200.36 L4076.29 3200.36 L4076.29 3164.71 L4082.18 3164.71 L4082.18 3170.25 Q4084.03 3167 4086.99 3165.44 Q4089.95 3163.85 4094.18 3163.85 Q4094.78 3163.85 4095.52 3163.95 Q4096.25 3164.01 4097.14 3164.17 L4097.17 3170.18 Z\" fill=\"#000000\" fill-rule=\"evenodd\" fill-opacity=\"1\" /><path clip-path=\"url(#clip850)\" d=\"M4103.31 3164.71 L4109.17 3164.71 L4109.17 3200.36 L4103.31 3200.36 L4103.31 3164.71 M4103.31 3150.83 L4109.17 3150.83 L4109.17 3158.25 L4103.31 3158.25 L4103.31 3150.83 Z\" fill=\"#000000\" fill-rule=\"evenodd\" fill-opacity=\"1\" /><path clip-path=\"url(#clip850)\" d=\"M4151.06 3164.71 L4138.17 3182.06 L4151.73 3200.36 L4144.82 3200.36 L4134.44 3186.35 L4124.07 3200.36 L4117.16 3200.36 L4131 3181.71 L4118.34 3164.71 L4125.24 3164.71 L4134.7 3177.41 L4144.15 3164.71 L4151.06 3164.71 Z\" fill=\"#000000\" fill-rule=\"evenodd\" fill-opacity=\"1\" /><path clip-path=\"url(#clip850)\" d=\"M4204.66 3177.76 L4184.38 3177.76 Q4184.86 3187.28 4187.05 3191.32 Q4189.79 3196.28 4194.53 3196.28 Q4199.31 3196.28 4201.95 3191.29 Q4204.27 3186.89 4204.66 3177.76 M4204.56 3172.35 Q4203.67 3163.31 4201.95 3160.13 Q4199.21 3155.1 4194.53 3155.1 Q4189.66 3155.1 4187.09 3160.06 Q4185.05 3164.07 4184.44 3172.35 L4204.56 3172.35 M4194.53 3150.32 Q4202.17 3150.32 4206.53 3157.07 Q4210.89 3163.79 4210.89 3175.69 Q4210.89 3187.56 4206.53 3194.31 Q4202.17 3201.09 4194.53 3201.09 Q4186.86 3201.09 4182.54 3194.31 Q4178.17 3187.56 4178.17 3175.69 Q4178.17 3163.79 4182.54 3157.07 Q4186.86 3150.32 4194.53 3150.32 Z\" fill=\"#000000\" fill-rule=\"evenodd\" fill-opacity=\"1\" /><path clip-path=\"url(#clip850)\" d=\"M4218.82 3166.14 L4244.51 3166.14 L4244.51 3169.17 L4218.82 3169.17 L4218.82 3166.14 Z\" fill=\"#000000\" fill-rule=\"evenodd\" fill-opacity=\"1\" /><path clip-path=\"url(#clip850)\" d=\"M4253.83 3175.6 L4260.32 3175.6 L4260.32 3156.15 L4253.23 3157.45 L4253.23 3153.76 L4260.55 3152.52 L4264.91 3152.52 L4264.91 3175.6 L4271.43 3175.6 L4271.43 3179.1 L4253.83 3179.1 L4253.83 3175.6 Z\" fill=\"#000000\" fill-rule=\"evenodd\" fill-opacity=\"1\" /><polyline clip-path=\"url(#clip853)\" style=\"stroke:#000000; stroke-linecap:butt; stroke-linejoin:round; stroke-width:2; stroke-opacity:0.1; fill:none\" points=\"\n",
       "  2841.61,1669.83 5152.76,1669.83 \n",
       "  \"/>\n",
       "<polyline clip-path=\"url(#clip853)\" style=\"stroke:#000000; stroke-linecap:butt; stroke-linejoin:round; stroke-width:2; stroke-opacity:0.1; fill:none\" points=\"\n",
       "  2841.61,169.29 5152.76,169.29 \n",
       "  \"/>\n",
       "<polyline clip-path=\"url(#clip850)\" style=\"stroke:#000000; stroke-linecap:butt; stroke-linejoin:round; stroke-width:4; stroke-opacity:1; fill:none\" points=\"\n",
       "  2841.61,3013.49 2841.61,118.82 \n",
       "  \"/>\n",
       "<polyline clip-path=\"url(#clip850)\" style=\"stroke:#000000; stroke-linecap:butt; stroke-linejoin:round; stroke-width:4; stroke-opacity:1; fill:none\" points=\"\n",
       "  2841.61,1669.83 2860.51,1669.83 \n",
       "  \"/>\n",
       "<polyline clip-path=\"url(#clip850)\" style=\"stroke:#000000; stroke-linecap:butt; stroke-linejoin:round; stroke-width:4; stroke-opacity:1; fill:none\" points=\"\n",
       "  2841.61,169.29 2860.51,169.29 \n",
       "  \"/>\n",
       "<path clip-path=\"url(#clip850)\" d=\"M2637.66 1689.62 L2645.3 1689.62 L2645.3 1663.25 L2636.99 1664.92 L2636.99 1660.66 L2645.26 1658.99 L2649.93 1658.99 L2649.93 1689.62 L2657.57 1689.62 L2657.57 1693.55 L2637.66 1693.55 L2637.66 1689.62 Z\" fill=\"#000000\" fill-rule=\"evenodd\" fill-opacity=\"1\" /><path clip-path=\"url(#clip850)\" d=\"M2677.02 1662.07 Q2673.4 1662.07 2671.58 1665.64 Q2669.77 1669.18 2669.77 1676.31 Q2669.77 1683.41 2671.58 1686.98 Q2673.4 1690.52 2677.02 1690.52 Q2680.65 1690.52 2682.45 1686.98 Q2684.28 1683.41 2684.28 1676.31 Q2684.28 1669.18 2682.45 1665.64 Q2680.65 1662.07 2677.02 1662.07 M2677.02 1658.37 Q2682.83 1658.37 2685.88 1662.97 Q2688.96 1667.56 2688.96 1676.31 Q2688.96 1685.03 2685.88 1689.64 Q2682.83 1694.22 2677.02 1694.22 Q2671.2 1694.22 2668.13 1689.64 Q2665.07 1685.03 2665.07 1676.31 Q2665.07 1667.56 2668.13 1662.97 Q2671.2 1658.37 2677.02 1658.37 Z\" fill=\"#000000\" fill-rule=\"evenodd\" fill-opacity=\"1\" /><path clip-path=\"url(#clip850)\" d=\"M2688.96 1652.47 L2713.07 1652.47 L2713.07 1655.67 L2688.96 1655.67 L2688.96 1652.47 Z\" fill=\"#000000\" fill-rule=\"evenodd\" fill-opacity=\"1\" /><path clip-path=\"url(#clip850)\" d=\"M2721.93 1662.95 L2728.14 1662.95 L2728.14 1641.52 L2721.38 1642.88 L2721.38 1639.42 L2728.1 1638.06 L2731.9 1638.06 L2731.9 1662.95 L2738.1 1662.95 L2738.1 1666.14 L2721.93 1666.14 L2721.93 1662.95 Z\" fill=\"#000000\" fill-rule=\"evenodd\" fill-opacity=\"1\" /><path clip-path=\"url(#clip850)\" d=\"M2753.9 1640.56 Q2750.97 1640.56 2749.48 1643.46 Q2748.02 1646.34 2748.02 1652.13 Q2748.02 1657.9 2749.48 1660.8 Q2750.97 1663.68 2753.9 1663.68 Q2756.86 1663.68 2758.32 1660.8 Q2759.81 1657.9 2759.81 1652.13 Q2759.81 1646.34 2758.32 1643.46 Q2756.86 1640.56 2753.9 1640.56 M2753.9 1637.55 Q2758.62 1637.55 2761.11 1641.3 Q2763.61 1645.02 2763.61 1652.13 Q2763.61 1659.22 2761.11 1662.96 Q2758.62 1666.69 2753.9 1666.69 Q2749.18 1666.69 2746.68 1662.96 Q2744.2 1659.22 2744.2 1652.13 Q2744.2 1645.02 2746.68 1641.3 Q2749.18 1637.55 2753.9 1637.55 Z\" fill=\"#000000\" fill-rule=\"evenodd\" fill-opacity=\"1\" /><path clip-path=\"url(#clip850)\" d=\"M2692.9 189.082 L2700.54 189.082 L2700.54 162.717 L2692.23 164.383 L2692.23 160.124 L2700.49 158.457 L2705.17 158.457 L2705.17 189.082 L2712.81 189.082 L2712.81 193.017 L2692.9 193.017 L2692.9 189.082 Z\" fill=\"#000000\" fill-rule=\"evenodd\" fill-opacity=\"1\" /><path clip-path=\"url(#clip850)\" d=\"M2732.25 161.536 Q2728.64 161.536 2726.81 165.101 Q2725.01 168.643 2725.01 175.772 Q2725.01 182.879 2726.81 186.443 Q2728.64 189.985 2732.25 189.985 Q2735.89 189.985 2737.69 186.443 Q2739.52 182.879 2739.52 175.772 Q2739.52 168.643 2737.69 165.101 Q2735.89 161.536 2732.25 161.536 M2732.25 157.832 Q2738.06 157.832 2741.12 162.439 Q2744.2 167.022 2744.2 175.772 Q2744.2 184.499 2741.12 189.105 Q2738.06 193.689 2732.25 193.689 Q2726.44 193.689 2723.36 189.105 Q2720.31 184.499 2720.31 175.772 Q2720.31 167.022 2723.36 162.439 Q2726.44 157.832 2732.25 157.832 Z\" fill=\"#000000\" fill-rule=\"evenodd\" fill-opacity=\"1\" /><path clip-path=\"url(#clip850)\" d=\"M2753.9 140.028 Q2750.97 140.028 2749.48 142.925 Q2748.02 145.802 2748.02 151.595 Q2748.02 157.369 2749.48 160.266 Q2750.97 163.143 2753.9 163.143 Q2756.86 163.143 2758.32 160.266 Q2759.81 157.369 2759.81 151.595 Q2759.81 145.802 2758.32 142.925 Q2756.86 140.028 2753.9 140.028 M2753.9 137.019 Q2758.62 137.019 2761.11 140.762 Q2763.61 144.486 2763.61 151.595 Q2763.61 158.686 2761.11 162.428 Q2758.62 166.152 2753.9 166.152 Q2749.18 166.152 2746.68 162.428 Q2744.2 158.686 2744.2 151.595 Q2744.2 144.486 2746.68 140.762 Q2749.18 137.019 2753.9 137.019 Z\" fill=\"#000000\" fill-rule=\"evenodd\" fill-opacity=\"1\" /><path clip-path=\"url(#clip850)\" d=\"M3512.11 12.096 L3524.3 12.096 L3539.73 53.2532 L3555.25 12.096 L3567.44 12.096 L3567.44 72.576 L3559.46 72.576 L3559.46 19.4686 L3543.87 60.9499 L3535.64 60.9499 L3520.05 19.4686 L3520.05 72.576 L3512.11 72.576 L3512.11 12.096 Z\" fill=\"#000000\" fill-rule=\"evenodd\" fill-opacity=\"1\" /><path clip-path=\"url(#clip850)\" d=\"M3600.94 32.4315 Q3594.95 32.4315 3591.46 37.1306 Q3587.98 41.7891 3587.98 49.9314 Q3587.98 58.0738 3591.42 62.7728 Q3594.91 67.4314 3600.94 67.4314 Q3606.9 67.4314 3610.38 62.7323 Q3613.86 58.0333 3613.86 49.9314 Q3613.86 41.8701 3610.38 37.1711 Q3606.9 32.4315 3600.94 32.4315 M3600.94 26.1121 Q3610.66 26.1121 3616.21 32.4315 Q3621.76 38.7509 3621.76 49.9314 Q3621.76 61.0714 3616.21 67.4314 Q3610.66 73.7508 3600.94 73.7508 Q3591.18 73.7508 3585.63 67.4314 Q3580.12 61.0714 3580.12 49.9314 Q3580.12 38.7509 3585.63 32.4315 Q3591.18 26.1121 3600.94 26.1121 Z\" fill=\"#000000\" fill-rule=\"evenodd\" fill-opacity=\"1\" /><path clip-path=\"url(#clip850)\" d=\"M3663.97 34.0924 L3663.97 9.54393 L3671.43 9.54393 L3671.43 72.576 L3663.97 72.576 L3663.97 65.7705 Q3661.63 69.8214 3658.02 71.8063 Q3654.45 73.7508 3649.43 73.7508 Q3641.21 73.7508 3636.02 67.1883 Q3630.88 60.6258 3630.88 49.9314 Q3630.88 39.2371 3636.02 32.6746 Q3641.21 26.1121 3649.43 26.1121 Q3654.45 26.1121 3658.02 28.0971 Q3661.63 30.0415 3663.97 34.0924 M3638.58 49.9314 Q3638.58 58.1548 3641.94 62.8538 Q3645.34 67.5124 3651.25 67.5124 Q3657.17 67.5124 3660.57 62.8538 Q3663.97 58.1548 3663.97 49.9314 Q3663.97 41.7081 3660.57 37.0496 Q3657.17 32.3505 3651.25 32.3505 Q3645.34 32.3505 3641.94 37.0496 Q3638.58 41.7081 3638.58 49.9314 Z\" fill=\"#000000\" fill-rule=\"evenodd\" fill-opacity=\"1\" /><path clip-path=\"url(#clip850)\" d=\"M3686.78 27.2059 L3694.23 27.2059 L3694.23 72.576 L3686.78 72.576 L3686.78 27.2059 M3686.78 9.54393 L3694.23 9.54393 L3694.23 18.9825 L3686.78 18.9825 L3686.78 9.54393 Z\" fill=\"#000000\" fill-rule=\"evenodd\" fill-opacity=\"1\" /><path clip-path=\"url(#clip850)\" d=\"M3732.8 9.54393 L3732.8 15.7418 L3725.67 15.7418 Q3721.66 15.7418 3720.08 17.3622 Q3718.54 18.9825 3718.54 23.1955 L3718.54 27.2059 L3730.81 27.2059 L3730.81 32.9987 L3718.54 32.9987 L3718.54 72.576 L3711.05 72.576 L3711.05 32.9987 L3703.92 32.9987 L3703.92 27.2059 L3711.05 27.2059 L3711.05 24.0462 Q3711.05 16.471 3714.57 13.0277 Q3718.09 9.54393 3725.75 9.54393 L3732.8 9.54393 Z\" fill=\"#000000\" fill-rule=\"evenodd\" fill-opacity=\"1\" /><path clip-path=\"url(#clip850)\" d=\"M3739.04 27.2059 L3746.49 27.2059 L3746.49 72.576 L3739.04 72.576 L3739.04 27.2059 M3739.04 9.54393 L3746.49 9.54393 L3746.49 18.9825 L3739.04 18.9825 L3739.04 9.54393 Z\" fill=\"#000000\" fill-rule=\"evenodd\" fill-opacity=\"1\" /><path clip-path=\"url(#clip850)\" d=\"M3800.9 48.0275 L3800.9 51.6733 L3766.62 51.6733 Q3767.11 59.3701 3771.24 63.421 Q3775.41 67.4314 3782.83 67.4314 Q3787.12 67.4314 3791.13 66.3781 Q3795.18 65.3249 3799.15 63.2184 L3799.15 70.267 Q3795.14 71.9684 3790.93 72.8596 Q3786.72 73.7508 3782.38 73.7508 Q3771.53 73.7508 3765.17 67.4314 Q3758.85 61.1119 3758.85 50.3365 Q3758.85 39.1965 3764.84 32.6746 Q3770.88 26.1121 3781.09 26.1121 Q3790.24 26.1121 3795.55 32.0264 Q3800.9 37.9003 3800.9 48.0275 M3793.44 45.84 Q3793.36 39.7232 3790 36.0774 Q3786.68 32.4315 3781.17 32.4315 Q3774.93 32.4315 3771.16 35.9558 Q3767.43 39.4801 3766.87 45.8805 L3793.44 45.84 Z\" fill=\"#000000\" fill-rule=\"evenodd\" fill-opacity=\"1\" /><path clip-path=\"url(#clip850)\" d=\"M3842.98 34.0924 L3842.98 9.54393 L3850.44 9.54393 L3850.44 72.576 L3842.98 72.576 L3842.98 65.7705 Q3840.63 69.8214 3837.03 71.8063 Q3833.46 73.7508 3828.44 73.7508 Q3820.22 73.7508 3815.03 67.1883 Q3809.89 60.6258 3809.89 49.9314 Q3809.89 39.2371 3815.03 32.6746 Q3820.22 26.1121 3828.44 26.1121 Q3833.46 26.1121 3837.03 28.0971 Q3840.63 30.0415 3842.98 34.0924 M3817.58 49.9314 Q3817.58 58.1548 3820.95 62.8538 Q3824.35 67.5124 3830.26 67.5124 Q3836.18 67.5124 3839.58 62.8538 Q3842.98 58.1548 3842.98 49.9314 Q3842.98 41.7081 3839.58 37.0496 Q3836.18 32.3505 3830.26 32.3505 Q3824.35 32.3505 3820.95 37.0496 Q3817.58 41.7081 3817.58 49.9314 Z\" fill=\"#000000\" fill-rule=\"evenodd\" fill-opacity=\"1\" /><path clip-path=\"url(#clip850)\" d=\"M3933.72 63.9476 L3933.72 47.7034 L3920.36 47.7034 L3920.36 40.9789 L3941.83 40.9789 L3941.83 66.9452 Q3937.09 70.3075 3931.37 72.0494 Q3925.66 73.7508 3919.18 73.7508 Q3905 73.7508 3896.98 65.4869 Q3889 57.1826 3889 42.3968 Q3889 27.5705 3896.98 19.3066 Q3905 11.0023 3919.18 11.0023 Q3925.1 11.0023 3930.4 12.4606 Q3935.75 13.9189 3940.25 16.7545 L3940.25 25.464 Q3935.71 21.6156 3930.61 19.6712 Q3925.5 17.7268 3919.87 17.7268 Q3908.77 17.7268 3903.18 23.9246 Q3897.63 30.1225 3897.63 42.3968 Q3897.63 54.6305 3903.18 60.8284 Q3908.77 67.0263 3919.87 67.0263 Q3924.2 67.0263 3927.61 66.2971 Q3931.01 65.5274 3933.72 63.9476 Z\" fill=\"#000000\" fill-rule=\"evenodd\" fill-opacity=\"1\" /><path clip-path=\"url(#clip850)\" d=\"M3982.74 34.1734 Q3981.48 33.4443 3979.99 33.1202 Q3978.53 32.7556 3976.74 32.7556 Q3970.43 32.7556 3967.02 36.8875 Q3963.66 40.9789 3963.66 48.6757 L3963.66 72.576 L3956.17 72.576 L3956.17 27.2059 L3963.66 27.2059 L3963.66 34.2544 Q3966.01 30.1225 3969.78 28.1376 Q3973.54 26.1121 3978.93 26.1121 Q3979.7 26.1121 3980.63 26.2337 Q3981.57 26.3147 3982.7 26.5172 L3982.74 34.1734 Z\" fill=\"#000000\" fill-rule=\"evenodd\" fill-opacity=\"1\" /><path clip-path=\"url(#clip850)\" d=\"M4011.18 49.7694 Q4002.14 49.7694 3998.66 51.8354 Q3995.18 53.9013 3995.18 58.8839 Q3995.18 62.8538 3997.77 65.2034 Q4000.4 67.5124 4004.9 67.5124 Q4011.1 67.5124 4014.82 63.1374 Q4018.59 58.7219 4018.59 51.4303 L4018.59 49.7694 L4011.18 49.7694 M4026.04 46.6907 L4026.04 72.576 L4018.59 72.576 L4018.59 65.6895 Q4016.04 69.8214 4012.23 71.8063 Q4008.42 73.7508 4002.91 73.7508 Q3995.95 73.7508 3991.81 69.8619 Q3987.72 65.9325 3987.72 59.3701 Q3987.72 51.7138 3992.83 47.825 Q3997.97 43.9361 4008.14 43.9361 L4018.59 43.9361 L4018.59 43.2069 Q4018.59 38.0623 4015.19 35.2672 Q4011.83 32.4315 4005.71 32.4315 Q4001.82 32.4315 3998.13 33.3632 Q3994.45 34.295 3991.04 36.1584 L3991.04 29.2718 Q3995.14 27.692 3998.98 26.9223 Q4002.83 26.1121 4006.48 26.1121 Q4016.32 26.1121 4021.18 31.2163 Q4026.04 36.3204 4026.04 46.6907 Z\" fill=\"#000000\" fill-rule=\"evenodd\" fill-opacity=\"1\" /><path clip-path=\"url(#clip850)\" d=\"M4076.72 35.9153 Q4079.52 30.8922 4083.41 28.5022 Q4087.29 26.1121 4092.56 26.1121 Q4099.65 26.1121 4103.5 31.0947 Q4107.35 36.0368 4107.35 45.1919 L4107.35 72.576 L4099.85 72.576 L4099.85 45.4349 Q4099.85 38.913 4097.54 35.7533 Q4095.23 32.5936 4090.49 32.5936 Q4084.7 32.5936 4081.34 36.4419 Q4077.98 40.2903 4077.98 46.9338 L4077.98 72.576 L4070.48 72.576 L4070.48 45.4349 Q4070.48 38.8725 4068.17 35.7533 Q4065.86 32.5936 4061.04 32.5936 Q4055.33 32.5936 4051.97 36.4824 Q4048.61 40.3308 4048.61 46.9338 L4048.61 72.576 L4041.11 72.576 L4041.11 27.2059 L4048.61 27.2059 L4048.61 34.2544 Q4051.16 30.082 4054.72 28.0971 Q4058.29 26.1121 4063.19 26.1121 Q4068.13 26.1121 4071.58 28.6237 Q4075.06 31.1352 4076.72 35.9153 Z\" fill=\"#000000\" fill-rule=\"evenodd\" fill-opacity=\"1\" /><path clip-path=\"url(#clip850)\" d=\"M4118.45 46.5287 L4140.28 46.5287 L4140.28 53.1722 L4118.45 53.1722 L4118.45 46.5287 Z\" fill=\"#000000\" fill-rule=\"evenodd\" fill-opacity=\"1\" /><path clip-path=\"url(#clip850)\" d=\"M4188.73 14.0809 L4188.73 22.0612 Q4184.07 19.8332 4179.94 18.7395 Q4175.81 17.6457 4171.96 17.6457 Q4165.27 17.6457 4161.63 20.2383 Q4158.02 22.8309 4158.02 27.611 Q4158.02 31.6214 4160.41 33.6873 Q4162.84 35.7128 4169.57 36.9686 L4174.51 37.9813 Q4183.67 39.7232 4188 44.1387 Q4192.37 48.5136 4192.37 55.8863 Q4192.37 64.6767 4186.46 69.2137 Q4180.59 73.7508 4169.2 73.7508 Q4164.91 73.7508 4160.05 72.7785 Q4155.23 71.8063 4150.04 69.9024 L4150.04 61.4765 Q4155.03 64.2716 4159.81 65.6895 Q4164.59 67.1073 4169.2 67.1073 Q4176.21 67.1073 4180.02 64.3527 Q4183.83 61.598 4183.83 56.4939 Q4183.83 52.0379 4181.07 49.5264 Q4178.36 47.0148 4172.12 45.759 L4167.14 44.7868 Q4157.98 42.9639 4153.89 39.075 Q4149.8 35.1862 4149.8 28.2591 Q4149.8 20.2383 4155.43 15.6203 Q4161.1 11.0023 4171.03 11.0023 Q4175.28 11.0023 4179.7 11.7719 Q4184.11 12.5416 4188.73 14.0809 Z\" fill=\"#000000\" fill-rule=\"evenodd\" fill-opacity=\"1\" /><path clip-path=\"url(#clip850)\" d=\"M4237.46 28.9478 L4237.46 35.9153 Q4234.3 34.1734 4231.1 33.3227 Q4227.94 32.4315 4224.7 32.4315 Q4217.45 32.4315 4213.44 37.0496 Q4209.43 41.6271 4209.43 49.9314 Q4209.43 58.2358 4213.44 62.8538 Q4217.45 67.4314 4224.7 67.4314 Q4227.94 67.4314 4231.1 66.5807 Q4234.3 65.6895 4237.46 63.9476 L4237.46 70.8341 Q4234.34 72.2924 4230.98 73.0216 Q4227.66 73.7508 4223.89 73.7508 Q4213.64 73.7508 4207.61 67.3098 Q4201.57 60.8689 4201.57 49.9314 Q4201.57 38.832 4207.65 32.472 Q4213.76 26.1121 4224.38 26.1121 Q4227.82 26.1121 4231.1 26.8413 Q4234.38 27.5299 4237.46 28.9478 Z\" fill=\"#000000\" fill-rule=\"evenodd\" fill-opacity=\"1\" /><path clip-path=\"url(#clip850)\" d=\"M4288.14 45.1919 L4288.14 72.576 L4280.68 72.576 L4280.68 45.4349 Q4280.68 38.994 4278.17 35.7938 Q4275.66 32.5936 4270.64 32.5936 Q4264.6 32.5936 4261.12 36.4419 Q4257.63 40.2903 4257.63 46.9338 L4257.63 72.576 L4250.14 72.576 L4250.14 9.54393 L4257.63 9.54393 L4257.63 34.2544 Q4260.31 30.163 4263.91 28.1376 Q4267.56 26.1121 4272.3 26.1121 Q4280.12 26.1121 4284.13 30.9732 Q4288.14 35.7938 4288.14 45.1919 Z\" fill=\"#000000\" fill-rule=\"evenodd\" fill-opacity=\"1\" /><path clip-path=\"url(#clip850)\" d=\"M4338.33 35.9153 Q4341.12 30.8922 4345.01 28.5022 Q4348.9 26.1121 4354.17 26.1121 Q4361.26 26.1121 4365.11 31.0947 Q4368.95 36.0368 4368.95 45.1919 L4368.95 72.576 L4361.46 72.576 L4361.46 45.4349 Q4361.46 38.913 4359.15 35.7533 Q4356.84 32.5936 4352.1 32.5936 Q4346.31 32.5936 4342.95 36.4419 Q4339.58 40.2903 4339.58 46.9338 L4339.58 72.576 L4332.09 72.576 L4332.09 45.4349 Q4332.09 38.8725 4329.78 35.7533 Q4327.47 32.5936 4322.65 32.5936 Q4316.94 32.5936 4313.58 36.4824 Q4310.22 40.3308 4310.22 46.9338 L4310.22 72.576 L4302.72 72.576 L4302.72 27.2059 L4310.22 27.2059 L4310.22 34.2544 Q4312.77 30.082 4316.33 28.0971 Q4319.9 26.1121 4324.8 26.1121 Q4329.74 26.1121 4333.18 28.6237 Q4336.67 31.1352 4338.33 35.9153 Z\" fill=\"#000000\" fill-rule=\"evenodd\" fill-opacity=\"1\" /><path clip-path=\"url(#clip850)\" d=\"M4383.82 27.2059 L4391.27 27.2059 L4391.27 72.576 L4383.82 72.576 L4383.82 27.2059 M4383.82 9.54393 L4391.27 9.54393 L4391.27 18.9825 L4383.82 18.9825 L4383.82 9.54393 Z\" fill=\"#000000\" fill-rule=\"evenodd\" fill-opacity=\"1\" /><path clip-path=\"url(#clip850)\" d=\"M4436.73 34.0924 L4436.73 9.54393 L4444.18 9.54393 L4444.18 72.576 L4436.73 72.576 L4436.73 65.7705 Q4434.38 69.8214 4430.77 71.8063 Q4427.21 73.7508 4422.18 73.7508 Q4413.96 73.7508 4408.77 67.1883 Q4403.63 60.6258 4403.63 49.9314 Q4403.63 39.2371 4408.77 32.6746 Q4413.96 26.1121 4422.18 26.1121 Q4427.21 26.1121 4430.77 28.0971 Q4434.38 30.0415 4436.73 34.0924 M4411.33 49.9314 Q4411.33 58.1548 4414.69 62.8538 Q4418.09 67.5124 4424.01 67.5124 Q4429.92 67.5124 4433.32 62.8538 Q4436.73 58.1548 4436.73 49.9314 Q4436.73 41.7081 4433.32 37.0496 Q4429.92 32.3505 4424.01 32.3505 Q4418.09 32.3505 4414.69 37.0496 Q4411.33 41.7081 4411.33 49.9314 Z\" fill=\"#000000\" fill-rule=\"evenodd\" fill-opacity=\"1\" /><path clip-path=\"url(#clip850)\" d=\"M4466.9 14.324 L4466.9 27.2059 L4482.26 27.2059 L4482.26 32.9987 L4466.9 32.9987 L4466.9 57.6282 Q4466.9 63.1779 4468.4 64.7578 Q4469.94 66.3376 4474.6 66.3376 L4482.26 66.3376 L4482.26 72.576 L4474.6 72.576 Q4465.97 72.576 4462.69 69.3758 Q4459.41 66.1351 4459.41 57.6282 L4459.41 32.9987 L4453.94 32.9987 L4453.94 27.2059 L4459.41 27.2059 L4459.41 14.324 L4466.9 14.324 Z\" fill=\"#000000\" fill-rule=\"evenodd\" fill-opacity=\"1\" /><polyline clip-path=\"url(#clip853)\" style=\"stroke:#009af9; stroke-linecap:butt; stroke-linejoin:round; stroke-width:8; stroke-opacity:1; fill:none\" points=\"\n",
       "  2907.02,5015.12 2919.13,2695.35 2931.24,2650.99 2943.36,2564.36 2955.47,2645.72 2967.58,2503.36 2979.69,2443.8 2991.81,2400.24 3003.92,2430.63 3016.03,2458.02 \n",
       "  3028.15,2348.55 3040.26,2424.33 3052.37,2363.13 3064.49,2321.09 3076.6,2287.16 3088.71,2257.88 3100.82,2231.67 3112.94,2207.7 3125.05,2191.57 3137.16,2179.33 \n",
       "  3149.28,2167.41 3161.39,2155.8 3173.5,2144.48 3185.61,2133.44 3197.73,2122.66 3209.84,2112.14 3221.95,2101.85 3234.07,2091.8 3246.18,2081.97 3258.29,2072.34 \n",
       "  3270.41,2062.92 3282.52,2053.7 3294.63,2044.66 3306.74,2035.79 3318.86,2027.1 3330.97,2018.58 3343.08,2010.21 3355.2,2001.99 3367.31,1993.93 3379.42,1986 \n",
       "  3391.53,1978.21 3403.65,1970.56 3415.76,1963.03 3427.87,1955.62 3439.99,1948.34 3452.1,1941.17 3464.21,1934.11 3476.33,1927.17 3488.44,1920.32 3500.55,1913.58 \n",
       "  3512.66,1906.94 3524.78,1900.4 3536.89,1893.95 3549,1887.59 3561.12,1881.31 3573.23,1875.13 3585.34,1869.03 3597.45,1863 3609.57,1857.06 3621.68,1851.2 \n",
       "  3633.79,1845.41 3645.91,1839.69 3658.02,1834.04 3670.13,1828.47 3682.25,1822.96 3694.36,1817.52 3706.47,1812.14 3718.58,1806.82 3730.7,1801.57 3742.81,1796.38 \n",
       "  3754.92,1791.25 3767.04,1786.17 3779.15,1781.15 3791.26,1776.18 3803.37,1771.27 3815.49,1766.42 3827.6,1761.61 3839.71,1756.85 3851.83,1752.14 3863.94,1747.49 \n",
       "  3876.05,1742.87 3888.17,1738.31 3900.28,1733.79 3912.39,1729.31 3924.5,1724.88 3936.62,1720.49 3948.73,1716.15 3960.84,1711.84 3972.96,1707.58 3985.07,1703.35 \n",
       "  3997.18,1699.17 4009.29,1695.02 4021.41,1690.91 4033.52,1686.83 4045.63,1682.8 4057.75,1678.8 4069.86,1674.83 4081.97,1670.9 4094.09,1667 4106.2,1663.13 \n",
       "  4118.31,1441.34 4130.42,1436.43 4142.54,1431.56 4154.65,1426.72 4166.76,1421.93 4178.88,2495.58 4190.99,2495.58 4203.1,2495.58 4215.21,2495.58 4227.33,2495.58 \n",
       "  4239.44,2495.58 4251.55,2495.58 4263.67,2495.58 4275.78,2495.58 4287.89,2495.58 4300.01,2495.58 4312.12,2495.58 4324.23,2495.58 4336.34,2495.58 4348.46,2495.58 \n",
       "  4360.57,2495.58 4372.68,2495.58 4384.8,2495.58 4396.91,2495.58 4409.02,2495.58 4421.13,2495.58 4433.25,2495.58 4445.36,2495.58 4457.47,2495.58 4469.59,2495.58 \n",
       "  4481.7,2495.58 4493.81,2495.58 4505.93,2495.58 4518.04,2495.58 4530.15,2495.58 4542.26,2495.58 4554.38,2495.58 4566.49,2495.58 4578.6,2495.58 4590.72,2495.58 \n",
       "  4602.83,2495.58 4614.94,2495.58 4627.05,2495.58 4639.17,2495.58 4651.28,2495.58 4663.39,2495.58 4675.51,2495.58 4687.62,2495.58 4699.73,2495.58 4711.84,2495.58 \n",
       "  4723.96,2495.58 4736.07,2495.58 4748.18,2495.58 4760.3,2495.58 4772.41,2495.58 4784.52,2495.58 4796.64,2495.58 4808.75,2495.58 4820.86,2495.58 4832.97,2495.58 \n",
       "  4845.09,2495.58 4857.2,2495.58 4869.31,2495.58 4881.43,2495.58 4893.54,2495.58 4905.65,2495.58 4917.76,2495.58 4929.88,2495.58 4941.99,2495.58 4954.1,2495.58 \n",
       "  4966.22,2495.58 4978.33,2495.58 4990.44,2495.58 5002.56,2495.58 5014.67,2495.58 5026.78,2495.58 5038.89,2495.58 5051.01,2495.58 5063.12,2495.58 5075.23,2495.58 \n",
       "  5087.35,2495.58 \n",
       "  \"/>\n",
       "<polyline clip-path=\"url(#clip853)\" style=\"stroke:#e26f46; stroke-linecap:butt; stroke-linejoin:round; stroke-width:8; stroke-opacity:1; fill:none\" points=\"\n",
       "  2907.02,2968.32 2919.13,2968.32 2931.24,2968.32 2943.36,2595.29 2955.47,2968.32 2967.58,2540.75 2979.69,2518.16 2991.81,2608.5 3003.92,2536.91 3016.03,2563.33 \n",
       "  3028.15,2504.95 3040.26,2540.75 3052.37,2527.54 3064.49,2518.16 3076.6,2527.54 3088.71,2510.89 3100.82,2491.74 3112.94,2540.75 3125.05,2518.16 3137.16,2527.54 \n",
       "  3149.28,2563.33 3161.39,2563.33 3173.5,2540.75 3185.61,2540.75 3197.73,2540.75 3209.84,2540.75 3221.95,2563.33 3234.07,2563.33 3246.18,2563.33 3258.29,2563.33 \n",
       "  3270.41,2563.33 3282.52,2504.95 3294.63,2510.89 3306.74,2518.16 3318.86,2518.16 3330.97,2527.54 3343.08,2527.54 3355.2,2504.95 3367.31,2510.89 3379.42,2510.89 \n",
       "  3391.53,2510.89 3403.65,2518.16 3415.76,2527.54 3427.87,2510.89 3439.99,2518.16 3452.1,2518.16 3464.21,2499.93 3476.33,2518.16 3488.44,2518.16 3500.55,2518.16 \n",
       "  3512.66,2527.54 3524.78,2527.54 3536.89,2540.75 3549,2563.33 3561.12,2563.33 3573.23,2563.33 3585.34,2563.33 3597.45,2563.33 3609.57,2563.33 3621.68,2563.33 \n",
       "  3633.79,2540.75 3645.91,2518.16 3658.02,2510.89 3670.13,2510.89 3682.25,2518.16 3694.36,2518.16 3706.47,2527.54 3718.58,2527.54 3730.7,2540.75 3742.81,2540.75 \n",
       "  3754.92,2540.75 3767.04,2540.75 3779.15,2540.75 3791.26,2518.16 3803.37,2518.16 3815.49,2518.16 3827.6,2527.54 3839.71,2527.54 3851.83,2540.75 3863.94,2540.75 \n",
       "  3876.05,2540.75 3888.17,2540.75 3900.28,2527.54 3912.39,2527.54 3924.5,2527.54 3936.62,2540.75 3948.73,2540.75 3960.84,2540.75 3972.96,2540.75 3985.07,2540.75 \n",
       "  3997.18,2563.33 4009.29,2563.33 4021.41,2563.33 4033.52,2563.33 4045.63,2563.33 4057.75,2563.33 4069.86,2563.33 4081.97,2563.33 4094.09,2563.33 4106.2,2518.16 \n",
       "  4118.31,2527.54 4130.42,2527.54 4142.54,2510.89 4154.65,2527.54 4166.76,2540.75 4178.88,2968.32 4190.99,2968.32 4203.1,2968.32 4215.21,2968.32 4227.33,2968.32 \n",
       "  4239.44,2968.32 4251.55,2968.32 4263.67,2968.32 4275.78,2968.32 4287.89,2968.32 4300.01,2968.32 4312.12,2968.32 4324.23,2968.32 4336.34,2968.32 4348.46,2968.32 \n",
       "  4360.57,2968.32 4372.68,2968.32 4384.8,2968.32 4396.91,2968.32 4409.02,2968.32 4421.13,2968.32 4433.25,2968.32 4445.36,2968.32 4457.47,2968.32 4469.59,2968.32 \n",
       "  4481.7,2968.32 4493.81,2968.32 4505.93,2968.32 4518.04,2968.32 4530.15,2968.32 4542.26,2968.32 4554.38,2968.32 4566.49,2968.32 4578.6,2968.32 4590.72,2968.32 \n",
       "  4602.83,2968.32 4614.94,2968.32 4627.05,2968.32 4639.17,2968.32 4651.28,2968.32 4663.39,2968.32 4675.51,2968.32 4687.62,2968.32 4699.73,2968.32 4711.84,2968.32 \n",
       "  4723.96,2968.32 4736.07,2968.32 4748.18,2968.32 4760.3,2968.32 4772.41,2968.32 4784.52,2968.32 4796.64,2968.32 4808.75,2968.32 4820.86,2968.32 4832.97,2968.32 \n",
       "  4845.09,2968.32 4857.2,2968.32 4869.31,2968.32 4881.43,2968.32 4893.54,2968.32 4905.65,2968.32 4917.76,2968.32 4929.88,2968.32 4941.99,2968.32 4954.1,2968.32 \n",
       "  4966.22,2968.32 4978.33,2968.32 4990.44,2968.32 5002.56,2968.32 5014.67,2968.32 5026.78,2968.32 5038.89,2968.32 5051.01,2968.32 5063.12,2968.32 5075.23,2968.32 \n",
       "  5087.35,2968.32 \n",
       "  \"/>\n",
       "<path clip-path=\"url(#clip850)\" d=\"\n",
       "M4339.64 370.829 L5075.72 370.829 L5075.72 215.309 L4339.64 215.309  Z\n",
       "  \" fill=\"#ffffff\" fill-rule=\"evenodd\" fill-opacity=\"1\"/>\n",
       "<polyline clip-path=\"url(#clip850)\" style=\"stroke:#000000; stroke-linecap:butt; stroke-linejoin:round; stroke-width:4; stroke-opacity:1; fill:none\" points=\"\n",
       "  4339.64,370.829 5075.72,370.829 5075.72,215.309 4339.64,215.309 4339.64,370.829 \n",
       "  \"/>\n",
       "<polyline clip-path=\"url(#clip850)\" style=\"stroke:#009af9; stroke-linecap:butt; stroke-linejoin:round; stroke-width:4; stroke-opacity:1; fill:none\" points=\"\n",
       "  4365.32,267.149 4519.4,267.149 \n",
       "  \"/>\n",
       "<path clip-path=\"url(#clip850)\" d=\"M4556.98 261.489 Q4553.55 261.489 4551.56 264.174 Q4549.57 266.836 4549.57 271.489 Q4549.57 276.142 4551.54 278.827 Q4553.53 281.489 4556.98 281.489 Q4560.38 281.489 4562.37 278.804 Q4564.36 276.119 4564.36 271.489 Q4564.36 266.883 4562.37 264.198 Q4560.38 261.489 4556.98 261.489 M4556.98 257.878 Q4562.53 257.878 4565.7 261.489 Q4568.88 265.1 4568.88 271.489 Q4568.88 277.855 4565.7 281.489 Q4562.53 285.1 4556.98 285.1 Q4551.4 285.1 4548.23 281.489 Q4545.08 277.855 4545.08 271.489 Q4545.08 265.1 4548.23 261.489 Q4551.4 257.878 4556.98 257.878 Z\" fill=\"#000000\" fill-rule=\"evenodd\" fill-opacity=\"1\" /><path clip-path=\"url(#clip850)\" d=\"M4590.96 262.485 Q4590.24 262.068 4589.38 261.883 Q4588.55 261.674 4587.53 261.674 Q4583.92 261.674 4581.98 264.036 Q4580.06 266.373 4580.06 270.772 L4580.06 284.429 L4575.77 284.429 L4575.77 258.503 L4580.06 258.503 L4580.06 262.531 Q4581.4 260.17 4583.55 259.036 Q4585.7 257.878 4588.78 257.878 Q4589.22 257.878 4589.75 257.948 Q4590.29 257.994 4590.94 258.11 L4590.96 262.485 Z\" fill=\"#000000\" fill-rule=\"evenodd\" fill-opacity=\"1\" /><path clip-path=\"url(#clip850)\" d=\"M4599.64 251.142 L4599.64 258.503 L4608.41 258.503 L4608.41 261.813 L4599.64 261.813 L4599.64 275.887 Q4599.64 279.059 4600.5 279.961 Q4601.37 280.864 4604.04 280.864 L4608.41 280.864 L4608.41 284.429 L4604.04 284.429 Q4599.11 284.429 4597.23 282.6 Q4595.36 280.748 4595.36 275.887 L4595.36 261.813 L4592.23 261.813 L4592.23 258.503 L4595.36 258.503 L4595.36 251.142 L4599.64 251.142 Z\" fill=\"#000000\" fill-rule=\"evenodd\" fill-opacity=\"1\" /><path clip-path=\"url(#clip850)\" d=\"M4635.56 268.781 L4635.56 284.429 L4631.31 284.429 L4631.31 268.92 Q4631.31 265.239 4629.87 263.411 Q4628.43 261.582 4625.56 261.582 Q4622.12 261.582 4620.12 263.781 Q4618.13 265.98 4618.13 269.776 L4618.13 284.429 L4613.85 284.429 L4613.85 248.411 L4618.13 248.411 L4618.13 262.531 Q4619.66 260.193 4621.72 259.036 Q4623.81 257.878 4626.51 257.878 Q4630.98 257.878 4633.27 260.656 Q4635.56 263.411 4635.56 268.781 Z\" fill=\"#000000\" fill-rule=\"evenodd\" fill-opacity=\"1\" /><path clip-path=\"url(#clip850)\" d=\"M4654.11 261.489 Q4650.68 261.489 4648.69 264.174 Q4646.7 266.836 4646.7 271.489 Q4646.7 276.142 4648.67 278.827 Q4650.66 281.489 4654.11 281.489 Q4657.51 281.489 4659.5 278.804 Q4661.49 276.119 4661.49 271.489 Q4661.49 266.883 4659.5 264.198 Q4657.51 261.489 4654.11 261.489 M4654.11 257.878 Q4659.66 257.878 4662.83 261.489 Q4666 265.1 4666 271.489 Q4666 277.855 4662.83 281.489 Q4659.66 285.1 4654.11 285.1 Q4648.53 285.1 4645.36 281.489 Q4642.21 277.855 4642.21 271.489 Q4642.21 265.1 4645.36 261.489 Q4648.53 257.878 4654.11 257.878 Z\" fill=\"#000000\" fill-rule=\"evenodd\" fill-opacity=\"1\" /><path clip-path=\"url(#clip850)\" d=\"M4694.62 268.781 L4694.62 284.429 L4690.36 284.429 L4690.36 268.92 Q4690.36 265.239 4688.92 263.411 Q4687.49 261.582 4684.62 261.582 Q4681.17 261.582 4679.18 263.781 Q4677.18 265.98 4677.18 269.776 L4677.18 284.429 L4672.9 284.429 L4672.9 258.503 L4677.18 258.503 L4677.18 262.531 Q4678.71 260.193 4680.77 259.036 Q4682.86 257.878 4685.56 257.878 Q4690.03 257.878 4692.32 260.656 Q4694.62 263.411 4694.62 268.781 Z\" fill=\"#000000\" fill-rule=\"evenodd\" fill-opacity=\"1\" /><path clip-path=\"url(#clip850)\" d=\"M4713.16 261.489 Q4709.73 261.489 4707.74 264.174 Q4705.75 266.836 4705.75 271.489 Q4705.75 276.142 4707.72 278.827 Q4709.71 281.489 4713.16 281.489 Q4716.56 281.489 4718.55 278.804 Q4720.54 276.119 4720.54 271.489 Q4720.54 266.883 4718.55 264.198 Q4716.56 261.489 4713.16 261.489 M4713.16 257.878 Q4718.71 257.878 4721.88 261.489 Q4725.05 265.1 4725.05 271.489 Q4725.05 277.855 4721.88 281.489 Q4718.71 285.1 4713.16 285.1 Q4707.58 285.1 4704.41 281.489 Q4701.26 277.855 4701.26 271.489 Q4701.26 265.1 4704.41 261.489 Q4707.58 257.878 4713.16 257.878 Z\" fill=\"#000000\" fill-rule=\"evenodd\" fill-opacity=\"1\" /><path clip-path=\"url(#clip850)\" d=\"M4747.14 262.485 Q4746.42 262.068 4745.56 261.883 Q4744.73 261.674 4743.71 261.674 Q4740.1 261.674 4738.16 264.036 Q4736.24 266.373 4736.24 270.772 L4736.24 284.429 L4731.95 284.429 L4731.95 258.503 L4736.24 258.503 L4736.24 262.531 Q4737.58 260.17 4739.73 259.036 Q4741.88 257.878 4744.96 257.878 Q4745.4 257.878 4745.93 257.948 Q4746.47 257.994 4747.11 258.11 L4747.14 262.485 Z\" fill=\"#000000\" fill-rule=\"evenodd\" fill-opacity=\"1\" /><path clip-path=\"url(#clip850)\" d=\"M4770.96 263.48 Q4772.55 260.61 4774.78 259.244 Q4777 257.878 4780.01 257.878 Q4784.06 257.878 4786.26 260.725 Q4788.46 263.549 4788.46 268.781 L4788.46 284.429 L4784.17 284.429 L4784.17 268.92 Q4784.17 265.193 4782.86 263.387 Q4781.54 261.582 4778.83 261.582 Q4775.52 261.582 4773.6 263.781 Q4771.67 265.98 4771.67 269.776 L4771.67 284.429 L4767.39 284.429 L4767.39 268.92 Q4767.39 265.17 4766.07 263.387 Q4764.75 261.582 4762 261.582 Q4758.74 261.582 4756.81 263.804 Q4754.89 266.003 4754.89 269.776 L4754.89 284.429 L4750.61 284.429 L4750.61 258.503 L4754.89 258.503 L4754.89 262.531 Q4756.35 260.147 4758.39 259.012 Q4760.42 257.878 4763.23 257.878 Q4766.05 257.878 4768.02 259.313 Q4770.01 260.749 4770.96 263.48 Z\" fill=\"#000000\" fill-rule=\"evenodd\" fill-opacity=\"1\" /><path clip-path=\"url(#clip850)\" d=\"M4808.73 271.397 Q4803.57 271.397 4801.58 272.577 Q4799.59 273.758 4799.59 276.605 Q4799.59 278.873 4801.07 280.216 Q4802.58 281.535 4805.15 281.535 Q4808.69 281.535 4810.82 279.035 Q4812.97 276.512 4812.97 272.346 L4812.97 271.397 L4808.73 271.397 M4817.23 269.637 L4817.23 284.429 L4812.97 284.429 L4812.97 280.494 Q4811.51 282.855 4809.34 283.989 Q4807.16 285.1 4804.01 285.1 Q4800.03 285.1 4797.67 282.878 Q4795.33 280.633 4795.33 276.883 Q4795.33 272.508 4798.25 270.286 Q4801.19 268.063 4807 268.063 L4812.97 268.063 L4812.97 267.647 Q4812.97 264.707 4811.03 263.11 Q4809.11 261.489 4805.61 261.489 Q4803.39 261.489 4801.28 262.022 Q4799.17 262.554 4797.23 263.619 L4797.23 259.684 Q4799.57 258.781 4801.77 258.341 Q4803.97 257.878 4806.05 257.878 Q4811.67 257.878 4814.45 260.795 Q4817.23 263.711 4817.23 269.637 Z\" fill=\"#000000\" fill-rule=\"evenodd\" fill-opacity=\"1\" /><path clip-path=\"url(#clip850)\" d=\"M4826 248.411 L4830.26 248.411 L4830.26 284.429 L4826 284.429 L4826 248.411 Z\" fill=\"#000000\" fill-rule=\"evenodd\" fill-opacity=\"1\" /><path clip-path=\"url(#clip850)\" d=\"M4839.17 258.503 L4843.43 258.503 L4843.43 284.429 L4839.17 284.429 L4839.17 258.503 M4839.17 248.411 L4843.43 248.411 L4843.43 253.804 L4839.17 253.804 L4839.17 248.411 Z\" fill=\"#000000\" fill-rule=\"evenodd\" fill-opacity=\"1\" /><path clip-path=\"url(#clip850)\" d=\"M4856.56 251.142 L4856.56 258.503 L4865.33 258.503 L4865.33 261.813 L4856.56 261.813 L4856.56 275.887 Q4856.56 279.059 4857.42 279.961 Q4858.29 280.864 4860.96 280.864 L4865.33 280.864 L4865.33 284.429 L4860.96 284.429 Q4856.03 284.429 4854.15 282.6 Q4852.28 280.748 4852.28 275.887 L4852.28 261.813 L4849.15 261.813 L4849.15 258.503 L4852.28 258.503 L4852.28 251.142 L4856.56 251.142 Z\" fill=\"#000000\" fill-rule=\"evenodd\" fill-opacity=\"1\" /><path clip-path=\"url(#clip850)\" d=\"M4881.72 286.836 Q4879.92 291.466 4878.2 292.878 Q4876.49 294.29 4873.62 294.29 L4870.22 294.29 L4870.22 290.725 L4872.72 290.725 Q4874.48 290.725 4875.45 289.892 Q4876.42 289.059 4877.6 285.957 L4878.36 284.012 L4867.88 258.503 L4872.39 258.503 L4880.49 278.781 L4888.6 258.503 L4893.11 258.503 L4881.72 286.836 Z\" fill=\"#000000\" fill-rule=\"evenodd\" fill-opacity=\"1\" /><path clip-path=\"url(#clip850)\" d=\"M4936.23 270.401 L4936.23 272.485 L4916.65 272.485 Q4916.93 276.883 4919.29 279.197 Q4921.67 281.489 4925.91 281.489 Q4928.36 281.489 4930.66 280.887 Q4932.97 280.285 4935.24 279.082 L4935.24 283.11 Q4932.95 284.082 4930.54 284.591 Q4928.13 285.1 4925.66 285.1 Q4919.45 285.1 4915.82 281.489 Q4912.21 277.878 4912.21 271.721 Q4912.21 265.355 4915.63 261.628 Q4919.08 257.878 4924.91 257.878 Q4930.15 257.878 4933.18 261.258 Q4936.23 264.614 4936.23 270.401 M4931.98 269.151 Q4931.93 265.656 4930.01 263.573 Q4928.11 261.489 4924.96 261.489 Q4921.4 261.489 4919.24 263.503 Q4917.11 265.517 4916.79 269.174 L4931.98 269.151 Z\" fill=\"#000000\" fill-rule=\"evenodd\" fill-opacity=\"1\" /><path clip-path=\"url(#clip850)\" d=\"M4958.25 262.485 Q4957.53 262.068 4956.67 261.883 Q4955.84 261.674 4954.82 261.674 Q4951.21 261.674 4949.27 264.036 Q4947.35 266.373 4947.35 270.772 L4947.35 284.429 L4943.06 284.429 L4943.06 258.503 L4947.35 258.503 L4947.35 262.531 Q4948.69 260.17 4950.84 259.036 Q4952.99 257.878 4956.07 257.878 Q4956.51 257.878 4957.04 257.948 Q4957.58 257.994 4958.22 258.11 L4958.25 262.485 Z\" fill=\"#000000\" fill-rule=\"evenodd\" fill-opacity=\"1\" /><path clip-path=\"url(#clip850)\" d=\"M4976.91 262.485 Q4976.19 262.068 4975.33 261.883 Q4974.5 261.674 4973.48 261.674 Q4969.87 261.674 4967.92 264.036 Q4966 266.373 4966 270.772 L4966 284.429 L4961.72 284.429 L4961.72 258.503 L4966 258.503 L4966 262.531 Q4967.35 260.17 4969.5 259.036 Q4971.65 257.878 4974.73 257.878 Q4975.17 257.878 4975.7 257.948 Q4976.23 257.994 4976.88 258.11 L4976.91 262.485 Z\" fill=\"#000000\" fill-rule=\"evenodd\" fill-opacity=\"1\" /><path clip-path=\"url(#clip850)\" d=\"M4990.38 261.489 Q4986.95 261.489 4984.96 264.174 Q4982.97 266.836 4982.97 271.489 Q4982.97 276.142 4984.94 278.827 Q4986.93 281.489 4990.38 281.489 Q4993.78 281.489 4995.77 278.804 Q4997.76 276.119 4997.76 271.489 Q4997.76 266.883 4995.77 264.198 Q4993.78 261.489 4990.38 261.489 M4990.38 257.878 Q4995.93 257.878 4999.1 261.489 Q5002.28 265.1 5002.28 271.489 Q5002.28 277.855 4999.1 281.489 Q4995.93 285.1 4990.38 285.1 Q4984.8 285.1 4981.63 281.489 Q4978.48 277.855 4978.48 271.489 Q4978.48 265.1 4981.63 261.489 Q4984.8 257.878 4990.38 257.878 Z\" fill=\"#000000\" fill-rule=\"evenodd\" fill-opacity=\"1\" /><path clip-path=\"url(#clip850)\" d=\"M5024.36 262.485 Q5023.64 262.068 5022.78 261.883 Q5021.95 261.674 5020.93 261.674 Q5017.32 261.674 5015.38 264.036 Q5013.46 266.373 5013.46 270.772 L5013.46 284.429 L5009.17 284.429 L5009.17 258.503 L5013.46 258.503 L5013.46 262.531 Q5014.8 260.17 5016.95 259.036 Q5019.1 257.878 5022.18 257.878 Q5022.62 257.878 5023.16 257.948 Q5023.69 257.994 5024.34 258.11 L5024.36 262.485 Z\" fill=\"#000000\" fill-rule=\"evenodd\" fill-opacity=\"1\" /><polyline clip-path=\"url(#clip850)\" style=\"stroke:#e26f46; stroke-linecap:butt; stroke-linejoin:round; stroke-width:4; stroke-opacity:1; fill:none\" points=\"\n",
       "  4365.32,318.989 4519.4,318.989 \n",
       "  \"/>\n",
       "<path clip-path=\"url(#clip850)\" d=\"M4560.26 314.325 Q4559.55 313.908 4558.69 313.723 Q4557.86 313.514 4556.84 313.514 Q4553.23 313.514 4551.28 315.876 Q4549.36 318.213 4549.36 322.612 L4549.36 336.269 L4545.08 336.269 L4545.08 310.343 L4549.36 310.343 L4549.36 314.371 Q4550.7 312.01 4552.86 310.876 Q4555.01 309.718 4558.09 309.718 Q4558.53 309.718 4559.06 309.788 Q4559.59 309.834 4560.24 309.95 L4560.26 314.325 Z\" fill=\"#000000\" fill-rule=\"evenodd\" fill-opacity=\"1\" /><path clip-path=\"url(#clip850)\" d=\"M4585.87 322.241 L4585.87 324.325 L4566.28 324.325 Q4566.56 328.723 4568.92 331.037 Q4571.31 333.329 4575.54 333.329 Q4578 333.329 4580.29 332.727 Q4582.6 332.125 4584.87 330.922 L4584.87 334.95 Q4582.58 335.922 4580.17 336.431 Q4577.76 336.94 4575.29 336.94 Q4569.08 336.94 4565.45 333.329 Q4561.84 329.718 4561.84 323.561 Q4561.84 317.195 4565.26 313.468 Q4568.71 309.718 4574.55 309.718 Q4579.78 309.718 4582.81 313.098 Q4585.87 316.454 4585.87 322.241 M4581.61 320.991 Q4581.56 317.496 4579.64 315.413 Q4577.74 313.329 4574.59 313.329 Q4571.03 313.329 4568.88 315.343 Q4566.75 317.357 4566.42 321.014 L4581.61 320.991 Z\" fill=\"#000000\" fill-rule=\"evenodd\" fill-opacity=\"1\" /><path clip-path=\"url(#clip850)\" d=\"M4611.51 311.339 L4611.51 315.32 Q4609.71 314.325 4607.88 313.839 Q4606.07 313.329 4604.22 313.329 Q4600.08 313.329 4597.79 315.968 Q4595.5 318.584 4595.5 323.329 Q4595.5 328.075 4597.79 330.713 Q4600.08 333.329 4604.22 333.329 Q4606.07 333.329 4607.88 332.843 Q4609.71 332.334 4611.51 331.338 L4611.51 335.274 Q4609.73 336.107 4607.81 336.524 Q4605.91 336.94 4603.76 336.94 Q4597.9 336.94 4594.45 333.26 Q4591 329.579 4591 323.329 Q4591 316.987 4594.48 313.352 Q4597.97 309.718 4604.04 309.718 Q4606 309.718 4607.88 310.135 Q4609.75 310.528 4611.51 311.339 Z\" fill=\"#000000\" fill-rule=\"evenodd\" fill-opacity=\"1\" /><path clip-path=\"url(#clip850)\" d=\"M4628.97 313.329 Q4625.54 313.329 4623.55 316.014 Q4621.56 318.676 4621.56 323.329 Q4621.56 327.982 4623.53 330.667 Q4625.52 333.329 4628.97 333.329 Q4632.37 333.329 4634.36 330.644 Q4636.35 327.959 4636.35 323.329 Q4636.35 318.723 4634.36 316.038 Q4632.37 313.329 4628.97 313.329 M4628.97 309.718 Q4634.52 309.718 4637.69 313.329 Q4640.87 316.94 4640.87 323.329 Q4640.87 329.695 4637.69 333.329 Q4634.52 336.94 4628.97 336.94 Q4623.39 336.94 4620.22 333.329 Q4617.07 329.695 4617.07 323.329 Q4617.07 316.94 4620.22 313.329 Q4623.39 309.718 4628.97 309.718 Z\" fill=\"#000000\" fill-rule=\"evenodd\" fill-opacity=\"1\" /><path clip-path=\"url(#clip850)\" d=\"M4669.48 320.621 L4669.48 336.269 L4665.22 336.269 L4665.22 320.76 Q4665.22 317.079 4663.78 315.251 Q4662.35 313.422 4659.48 313.422 Q4656.03 313.422 4654.04 315.621 Q4652.05 317.82 4652.05 321.616 L4652.05 336.269 L4647.76 336.269 L4647.76 310.343 L4652.05 310.343 L4652.05 314.371 Q4653.57 312.033 4655.63 310.876 Q4657.72 309.718 4660.43 309.718 Q4664.89 309.718 4667.18 312.496 Q4669.48 315.251 4669.48 320.621 Z\" fill=\"#000000\" fill-rule=\"evenodd\" fill-opacity=\"1\" /><path clip-path=\"url(#clip850)\" d=\"M4694.5 311.107 L4694.5 315.135 Q4692.69 314.209 4690.75 313.746 Q4688.81 313.283 4686.72 313.283 Q4683.55 313.283 4681.95 314.255 Q4680.38 315.227 4680.38 317.172 Q4680.38 318.653 4681.51 319.51 Q4682.65 320.343 4686.07 321.107 L4687.53 321.431 Q4692.07 322.403 4693.97 324.186 Q4695.89 325.945 4695.89 329.116 Q4695.89 332.727 4693.02 334.834 Q4690.17 336.94 4685.17 336.94 Q4683.09 336.94 4680.82 336.524 Q4678.57 336.13 4676.07 335.32 L4676.07 330.922 Q4678.43 332.149 4680.73 332.774 Q4683.02 333.375 4685.26 333.375 Q4688.27 333.375 4689.89 332.357 Q4691.51 331.315 4691.51 329.44 Q4691.51 327.704 4690.33 326.778 Q4689.18 325.852 4685.22 324.996 L4683.74 324.649 Q4679.78 323.815 4678.02 322.102 Q4676.26 320.366 4676.26 317.357 Q4676.26 313.7 4678.85 311.709 Q4681.44 309.718 4686.21 309.718 Q4688.57 309.718 4690.66 310.065 Q4692.74 310.413 4694.5 311.107 Z\" fill=\"#000000\" fill-rule=\"evenodd\" fill-opacity=\"1\" /><path clip-path=\"url(#clip850)\" d=\"M4706.88 302.982 L4706.88 310.343 L4715.66 310.343 L4715.66 313.653 L4706.88 313.653 L4706.88 327.727 Q4706.88 330.899 4707.74 331.801 Q4708.62 332.704 4711.28 332.704 L4715.66 332.704 L4715.66 336.269 L4711.28 336.269 Q4706.35 336.269 4704.48 334.44 Q4702.6 332.588 4702.6 327.727 L4702.6 313.653 L4699.48 313.653 L4699.48 310.343 L4702.6 310.343 L4702.6 302.982 L4706.88 302.982 Z\" fill=\"#000000\" fill-rule=\"evenodd\" fill-opacity=\"1\" /><path clip-path=\"url(#clip850)\" d=\"M4736.28 314.325 Q4735.56 313.908 4734.71 313.723 Q4733.87 313.514 4732.86 313.514 Q4729.24 313.514 4727.3 315.876 Q4725.38 318.213 4725.38 322.612 L4725.38 336.269 L4721.1 336.269 L4721.1 310.343 L4725.38 310.343 L4725.38 314.371 Q4726.72 312.01 4728.87 310.876 Q4731.03 309.718 4734.11 309.718 Q4734.55 309.718 4735.08 309.788 Q4735.61 309.834 4736.26 309.95 L4736.28 314.325 Z\" fill=\"#000000\" fill-rule=\"evenodd\" fill-opacity=\"1\" /><path clip-path=\"url(#clip850)\" d=\"M4740.31 326.038 L4740.31 310.343 L4744.57 310.343 L4744.57 325.875 Q4744.57 329.556 4746 331.408 Q4747.44 333.237 4750.31 333.237 Q4753.76 333.237 4755.75 331.037 Q4757.76 328.838 4757.76 325.042 L4757.76 310.343 L4762.02 310.343 L4762.02 336.269 L4757.76 336.269 L4757.76 332.287 Q4756.21 334.649 4754.15 335.806 Q4752.11 336.94 4749.41 336.94 Q4744.94 336.94 4742.62 334.162 Q4740.31 331.385 4740.31 326.038 M4751.03 309.718 L4751.03 309.718 Z\" fill=\"#000000\" fill-rule=\"evenodd\" fill-opacity=\"1\" /><path clip-path=\"url(#clip850)\" d=\"M4789.45 311.339 L4789.45 315.32 Q4787.65 314.325 4785.82 313.839 Q4784.01 313.329 4782.16 313.329 Q4778.02 313.329 4775.73 315.968 Q4773.43 318.584 4773.43 323.329 Q4773.43 328.075 4775.73 330.713 Q4778.02 333.329 4782.16 333.329 Q4784.01 333.329 4785.82 332.843 Q4787.65 332.334 4789.45 331.338 L4789.45 335.274 Q4787.67 336.107 4785.75 336.524 Q4783.85 336.94 4781.7 336.94 Q4775.84 336.94 4772.39 333.26 Q4768.94 329.579 4768.94 323.329 Q4768.94 316.987 4772.42 313.352 Q4775.91 309.718 4781.98 309.718 Q4783.94 309.718 4785.82 310.135 Q4787.69 310.528 4789.45 311.339 Z\" fill=\"#000000\" fill-rule=\"evenodd\" fill-opacity=\"1\" /><path clip-path=\"url(#clip850)\" d=\"M4801.07 302.982 L4801.07 310.343 L4809.85 310.343 L4809.85 313.653 L4801.07 313.653 L4801.07 327.727 Q4801.07 330.899 4801.93 331.801 Q4802.81 332.704 4805.47 332.704 L4809.85 332.704 L4809.85 336.269 L4805.47 336.269 Q4800.54 336.269 4798.67 334.44 Q4796.79 332.588 4796.79 327.727 L4796.79 313.653 L4793.67 313.653 L4793.67 310.343 L4796.79 310.343 L4796.79 302.982 L4801.07 302.982 Z\" fill=\"#000000\" fill-rule=\"evenodd\" fill-opacity=\"1\" /><path clip-path=\"url(#clip850)\" d=\"M4815.45 310.343 L4819.71 310.343 L4819.71 336.269 L4815.45 336.269 L4815.45 310.343 M4815.45 300.251 L4819.71 300.251 L4819.71 305.644 L4815.45 305.644 L4815.45 300.251 Z\" fill=\"#000000\" fill-rule=\"evenodd\" fill-opacity=\"1\" /><path clip-path=\"url(#clip850)\" d=\"M4838.67 313.329 Q4835.24 313.329 4833.25 316.014 Q4831.26 318.676 4831.26 323.329 Q4831.26 327.982 4833.23 330.667 Q4835.22 333.329 4838.67 333.329 Q4842.07 333.329 4844.06 330.644 Q4846.05 327.959 4846.05 323.329 Q4846.05 318.723 4844.06 316.038 Q4842.07 313.329 4838.67 313.329 M4838.67 309.718 Q4844.22 309.718 4847.39 313.329 Q4850.56 316.94 4850.56 323.329 Q4850.56 329.695 4847.39 333.329 Q4844.22 336.94 4838.67 336.94 Q4833.09 336.94 4829.92 333.329 Q4826.77 329.695 4826.77 323.329 Q4826.77 316.94 4829.92 313.329 Q4833.09 309.718 4838.67 309.718 Z\" fill=\"#000000\" fill-rule=\"evenodd\" fill-opacity=\"1\" /><path clip-path=\"url(#clip850)\" d=\"M4879.17 320.621 L4879.17 336.269 L4874.92 336.269 L4874.92 320.76 Q4874.92 317.079 4873.48 315.251 Q4872.04 313.422 4869.17 313.422 Q4865.73 313.422 4863.73 315.621 Q4861.74 317.82 4861.74 321.616 L4861.74 336.269 L4857.46 336.269 L4857.46 310.343 L4861.74 310.343 L4861.74 314.371 Q4863.27 312.033 4865.33 310.876 Q4867.42 309.718 4870.12 309.718 Q4874.59 309.718 4876.88 312.496 Q4879.17 315.251 4879.17 320.621 Z\" fill=\"#000000\" fill-rule=\"evenodd\" fill-opacity=\"1\" /><path clip-path=\"url(#clip850)\" d=\"M4924.91 322.241 L4924.91 324.325 L4905.33 324.325 Q4905.61 328.723 4907.97 331.037 Q4910.35 333.329 4914.59 333.329 Q4917.04 333.329 4919.34 332.727 Q4921.65 332.125 4923.92 330.922 L4923.92 334.95 Q4921.63 335.922 4919.22 336.431 Q4916.81 336.94 4914.34 336.94 Q4908.13 336.94 4904.5 333.329 Q4900.89 329.718 4900.89 323.561 Q4900.89 317.195 4904.31 313.468 Q4907.76 309.718 4913.6 309.718 Q4918.83 309.718 4921.86 313.098 Q4924.91 316.454 4924.91 322.241 M4920.66 320.991 Q4920.61 317.496 4918.69 315.413 Q4916.79 313.329 4913.64 313.329 Q4910.08 313.329 4907.92 315.343 Q4905.79 317.357 4905.47 321.014 L4920.66 320.991 Z\" fill=\"#000000\" fill-rule=\"evenodd\" fill-opacity=\"1\" /><path clip-path=\"url(#clip850)\" d=\"M4946.93 314.325 Q4946.21 313.908 4945.35 313.723 Q4944.52 313.514 4943.5 313.514 Q4939.89 313.514 4937.95 315.876 Q4936.03 318.213 4936.03 322.612 L4936.03 336.269 L4931.74 336.269 L4931.74 310.343 L4936.03 310.343 L4936.03 314.371 Q4937.37 312.01 4939.52 310.876 Q4941.67 309.718 4944.75 309.718 Q4945.19 309.718 4945.72 309.788 Q4946.26 309.834 4946.91 309.95 L4946.93 314.325 Z\" fill=\"#000000\" fill-rule=\"evenodd\" fill-opacity=\"1\" /><path clip-path=\"url(#clip850)\" d=\"M4965.59 314.325 Q4964.87 313.908 4964.01 313.723 Q4963.18 313.514 4962.16 313.514 Q4958.55 313.514 4956.6 315.876 Q4954.68 318.213 4954.68 322.612 L4954.68 336.269 L4950.4 336.269 L4950.4 310.343 L4954.68 310.343 L4954.68 314.371 Q4956.03 312.01 4958.18 310.876 Q4960.33 309.718 4963.41 309.718 Q4963.85 309.718 4964.38 309.788 Q4964.91 309.834 4965.56 309.95 L4965.59 314.325 Z\" fill=\"#000000\" fill-rule=\"evenodd\" fill-opacity=\"1\" /><path clip-path=\"url(#clip850)\" d=\"M4979.06 313.329 Q4975.63 313.329 4973.64 316.014 Q4971.65 318.676 4971.65 323.329 Q4971.65 327.982 4973.62 330.667 Q4975.61 333.329 4979.06 333.329 Q4982.46 333.329 4984.45 330.644 Q4986.44 327.959 4986.44 323.329 Q4986.44 318.723 4984.45 316.038 Q4982.46 313.329 4979.06 313.329 M4979.06 309.718 Q4984.61 309.718 4987.78 313.329 Q4990.96 316.94 4990.96 323.329 Q4990.96 329.695 4987.78 333.329 Q4984.61 336.94 4979.06 336.94 Q4973.48 336.94 4970.31 333.329 Q4967.16 329.695 4967.16 323.329 Q4967.16 316.94 4970.31 313.329 Q4973.48 309.718 4979.06 309.718 Z\" fill=\"#000000\" fill-rule=\"evenodd\" fill-opacity=\"1\" /><path clip-path=\"url(#clip850)\" d=\"M5013.04 314.325 Q5012.32 313.908 5011.47 313.723 Q5010.63 313.514 5009.61 313.514 Q5006 313.514 5004.06 315.876 Q5002.14 318.213 5002.14 322.612 L5002.14 336.269 L4997.85 336.269 L4997.85 310.343 L5002.14 310.343 L5002.14 314.371 Q5003.48 312.01 5005.63 310.876 Q5007.78 309.718 5010.86 309.718 Q5011.3 309.718 5011.84 309.788 Q5012.37 309.834 5013.02 309.95 L5013.04 314.325 Z\" fill=\"#000000\" fill-rule=\"evenodd\" fill-opacity=\"1\" /></svg>\n"
      ]
     },
     "execution_count": 27,
     "metadata": {},
     "output_type": "execute_result"
    }
   ],
   "source": [
    "function mgs(A)\n",
    "    m, n = size(A)\n",
    "    Q = copy(A)\n",
    "    R = zeros(eltype(A), n, n)\n",
    "    for i in 1:n\n",
    "        R[i,i] = norm(Q[:,i])\n",
    "        Q[:,i] /= R[i,i]\n",
    "        R[i,i+1:end] = Q[:,i]' * Q[:,i+1:end]\n",
    "        Q[:,i+1:end] -= Q[:,[i]] * R[[i],i+1:end]\n",
    "    end\n",
    "    return Q, R\n",
    "end\n",
    "ortho_errs_mgs = Float64[]\n",
    "recon_errs_mgs = Float64[]\n",
    "for θ in range\n",
    "    M = kahan(10, θ)\n",
    "    ϕ = eps(Float64)\n",
    "    M_p = copy(M[:,:])\n",
    "    rot = [cos(ϕ) sin(ϕ); -sin(ϕ) cos(ϕ)]\n",
    "    M_p[1:2,:] = rot * M[1:2,:]\n",
    "    Q_mgs, R_mgs = mgs(M_p)\n",
    "    push!(ortho_errs_mgs, orthonormality_error(Q_mgs))\n",
    "    push!(recon_errs_mgs, reconstruction_error(M_p, Q_mgs, R_mgs))\n",
    "end\n",
    "ymin=Inf\n",
    "ymax=0.\n",
    "for series in [ortho_errs_cgs, ortho_errs_qr, recon_errs_mgs, recon_errs_mgs]\n",
    "    series[:] = max.(series[:], 0.001*eps())\n",
    "    ymin = min(ymin, minimum(series))\n",
    "    ymax = max(ymax, maximum(series))\n",
    "end\n",
    "ymin *= 0.5\n",
    "ymax *= 2.0\n",
    "p1 = plot( range .^-1, [ortho_errs_cgs recon_errs_cgs]\n",
    "    , yscale=:log10\n",
    "    , label=[\"orthonormality error\" \"reconstruction error\"]\n",
    "    , xlabel=\"Kahan matrix θ⁻¹\"\n",
    "    , title=\"Classical Gram-Schmidt\"\n",
    "    , size=(1300,800)\n",
    "    , ylim=(ymin,ymax)\n",
    ")\n",
    "p2 = plot( range .^-1, [ortho_errs_mgs recon_errs_mgs]\n",
    "    , yscale=:log10\n",
    "    , label=[\"orthonormality error\" \"reconstruction error\"]\n",
    "    , xlabel=\"Kahan matrix θ⁻¹\"\n",
    "    , title=\"Modified Gram-Schmidt\"\n",
    "    , size=(1300,800)\n",
    "    , ylim=(ymin,ymax)\n",
    ")\n",
    "draw(plot(p1,p2,layout=(1,2)))"
   ]
  },
  {
   "cell_type": "markdown",
   "id": "5a4ffffb",
   "metadata": {
    "slideshow": {
     "slide_type": "subslide"
    }
   },
   "source": [
    "### Modified Gram-Schmidt in Action (go back and compare)"
   ]
  },
  {
   "cell_type": "code",
   "execution_count": 28,
   "id": "afe5b4ce",
   "metadata": {
    "hideCode": true,
    "slideshow": {
     "slide_type": "-"
    }
   },
   "outputs": [
    {
     "name": "stderr",
     "output_type": "stream",
     "text": [
      "┌ Info: Saved animation to \n",
      "│   fn = /home/tisaac/srv/rep/22-course-cse6643/mybinder/tmp.gif\n",
      "└ @ Plots /home/tisaac/.julia/packages/Plots/Xv2qA/src/animation.jl:114\n"
     ]
    },
    {
     "data": {
      "text/html": [
       "<img src=\"data:image/gif;base64,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\" />"
      ],
      "text/plain": [
       "Plots.AnimatedGif(\"/home/tisaac/srv/rep/22-course-cse6643/mybinder/tmp.gif\")"
      ]
     },
     "execution_count": 28,
     "metadata": {},
     "output_type": "execute_result"
    }
   ],
   "source": [
    "m = 10; n = 5;\n",
    "A = randn(m, n)\n",
    "A /= maximum(abs.(A))\n",
    "Q̂ = copy(A)\n",
    "R̂ = zeros(n, n)\n",
    "r_scale = maximum(abs.(qr(A).R))\n",
    "anim = Animation()\n",
    "function step_plot(A,Q̂,R̂,j)\n",
    "    Q_plot = imshow(Q̂,(-1,1))\n",
    "    plot!(Q_plot,title=\"Q\")\n",
    "    ortho_plot = imshow(Q̂' * Q̂,(-1,1))\n",
    "    plot!(ortho_plot,title=\"Q'Q\")\n",
    "    recon_plot = imshow(A - Q̂ * R̂,(-1,1))\n",
    "    plot!(recon_plot,title=\"A - QR\")\n",
    "    R_plot = imshow(R̂,(-r_scale,r_scale))\n",
    "    plot!(R_plot,title=\"R\")\n",
    "    return plot(Q_plot, R_plot, ortho_plot, recon_plot, layout=(1,4), size=(1300,800), plot_title=\"Step $j\")\n",
    "end\n",
    "frame(anim,step_plot(A,Q̂,R̂,0))\n",
    "for i in 1:n\n",
    "    R̂[i,i] = norm(Q̂[:,i])\n",
    "    Q̂[:,i] /= R̂[i,i]\n",
    "    R̂[i,i+1:end] = Q̂[:,i]' * Q̂[:,i+1:end]\n",
    "    Q̂[:,i+1:end] -= Q̂[:,[i]] * R̂[[i],i+1:end]\n",
    "    frame(anim,step_plot(A,Q̂,R̂,i))\n",
    "end\n",
    "frame(anim,step_plot(A,Q̂,R̂,n))\n",
    "gif(anim,fps=0.5)"
   ]
  },
  {
   "cell_type": "markdown",
   "id": "2e11f700",
   "metadata": {
    "slideshow": {
     "slide_type": "subslide"
    }
   },
   "source": [
    "### Modified Gram-Schmidt also constructs $\\hat{Q}$ by Triangular Orthogonalization\n",
    "\n",
    "At step $i$:\n",
    "\n",
    "$$\n",
    "\\begin{bmatrix}\n",
    "    & & & & & & \\\\\n",
    "    & & & & & & \\\\\n",
    "    & & & & & & \\\\\n",
    "    & & & & & & \\\\\n",
    "    & & & \\hat{Q} & & & \\\\\n",
    "    & & & & & & \\\\\n",
    "    & & & & & & \\\\\n",
    "    & & & & & & \\\\\n",
    "    & & & & & & \\\\\n",
    "\\end{bmatrix}\n",
    "\\gets\n",
    "\\begin{bmatrix}\n",
    "    & & & & & & \\\\\n",
    "    & & & & & & \\\\\n",
    "    & & & & & & \\\\\n",
    "    & & & & & & \\\\\n",
    "    & & & \\hat{Q} & & & \\\\\n",
    "    & & & & & & \\\\\n",
    "    & & & & & & \\\\\n",
    "    & & & & & & \\\\\n",
    "    & & & & & & \\\\\n",
    "\\end{bmatrix}\n",
    "\\underbrace{\n",
    "\\begin{bmatrix}\n",
    "   1 & & & & & & \\\\\n",
    "    & \\ddots & & & & & \\\\\n",
    "    & & 1 & & & & \\\\\n",
    "    & & & \\frac{1}{r_{ii}} & \\frac{-r_{i,i+1}}{r_{ii}} & \\dots & \\frac{-r_{i,n}}{r_{ii}} \\\\\n",
    "    & & & & 1 & & \\\\\n",
    "    & & & & & \\ddots & \\\\\n",
    "    & & & & & & 1\n",
    "\\end{bmatrix}\n",
    "}_{Z_i}\n",
    "$$\n",
    "\n",
    "$Z_i$ is an upper-triangular matrix with one nonzero row in row $i$.\n"
   ]
  },
  {
   "cell_type": "markdown",
   "id": "40812f45",
   "metadata": {
    "slideshow": {
     "slide_type": "subslide"
    }
   },
   "source": [
    "### Notes on HW2, problem 4\n",
    "\n",
    "You have seen CGS and MGS in this lecture.  It will probably take you more time to construct the plot.\n",
    "The syntax is intentionally similar to MATLAB / matplotlib, but for reference, go to <https://docs.juliaplots.org>."
   ]
  },
  {
   "cell_type": "markdown",
   "id": "c4c4b7ab",
   "metadata": {
    "slideshow": {
     "slide_type": "slide"
    }
   },
   "source": [
    "## Gram-Schmidt Complexity"
   ]
  },
  {
   "cell_type": "markdown",
   "id": "9910b180",
   "metadata": {
    "slideshow": {
     "slide_type": "subslide"
    }
   },
   "source": [
    "### Matrx-Matrix Product Complexity\n",
    "\n",
    "Given matrices $A\\in \\mathbb{C}^{M \\times K}$, $B \\in \\mathbb{C}^{K \\times N}$, and $C \\in \\mathbb{C}^{M \\times N}$, the work $W$ measured in _floating point operations_ (\"flops\") of computing $C \\gets C - AB$ using the standard approach is\n",
    "\n",
    "$$W(C - A \\cdot B) = 2 M N K,$$\n",
    "\n",
    "which is clear from looking at the algorithm written component-wise:\n",
    "\n",
    "```julia\n",
    "for i in 1:M                          # M times ...\n",
    "    for j in 1:N                      # N times ...\n",
    "        for p in 1:K                  # K times ...\n",
    "            C[i,j] -= A[i,p] * B[p,j] # 2 flops per inner loop\n",
    "        end\n",
    "    end\n",
    "end\n",
    "            \n",
    "```"
   ]
  },
  {
   "cell_type": "markdown",
   "id": "e8dfd30c",
   "metadata": {
    "slideshow": {
     "slide_type": "fragment"
    }
   },
   "source": [
    "if we just compute $C \\gets A B$, there is one subtraction less per entry of $C$, so\n",
    "\n",
    "$$W(A \\cdot B) = 2 M N K - M N.$$"
   ]
  },
  {
   "cell_type": "markdown",
   "id": "5cddc96a",
   "metadata": {
    "cell_style": "split",
    "slideshow": {
     "slide_type": "subslide"
    }
   },
   "source": [
    "### Projection Orthogonalization Complexity\n",
    "\n",
    "If $\\hat{Q} \\in \\mathbb{C}^{m \\times j}$ and $a \\in \\mathbb{C}^m$, what is the complexity of\n",
    "\n",
    "$$\\tilde{q} \\gets a - \\hat{Q}(\\hat{Q}^*a)?$$"
   ]
  },
  {
   "cell_type": "markdown",
   "id": "890215fb",
   "metadata": {
    "cell_style": "split",
    "slideshow": {
     "slide_type": "fragment"
    }
   },
   "source": [
    "Rephrase as:\n",
    "\n",
    "$$\n",
    "\\begin{aligned}\n",
    "r &\\gets \\hat{Q}^* a \\\\\n",
    "\\tilde{q} &\\gets a - \\hat{Q}r\n",
    "\\end{aligned}\n",
    "$$"
   ]
  },
  {
   "cell_type": "markdown",
   "id": "29d0fa9b",
   "metadata": {
    "slideshow": {
     "slide_type": "fragment"
    }
   },
   "source": [
    "- First line is like $C \\gets A B$ with $M = j$, $N = 1$, and $K = m$, so $W = 2 M N K - M N = 2jm - j$."
   ]
  },
  {
   "cell_type": "markdown",
   "id": "973bc374",
   "metadata": {
    "slideshow": {
     "slide_type": "fragment"
    }
   },
   "source": [
    "- Second line is like $C \\gets C - AB$ with $M = m$, $N = 1$ and $K = j$, so $W = 2 M N K = 2jm$"
   ]
  },
  {
   "cell_type": "markdown",
   "id": "509780c6",
   "metadata": {
    "slideshow": {
     "slide_type": "fragment"
    }
   },
   "source": [
    "- Total,\n",
    "\n",
    "$$W((I - \\hat{Q}\\hat{Q}^*) a) = 4 jm - j.$$"
   ]
  },
  {
   "cell_type": "code",
   "execution_count": 66,
   "id": "1170afdc",
   "metadata": {
    "cell_style": "split",
    "slideshow": {
     "slide_type": "subslide"
    }
   },
   "outputs": [
    {
     "data": {
      "text/plain": [
       "qr_classical_gram_schmidt (generic function with 1 method)"
      ]
     },
     "execution_count": 66,
     "metadata": {},
     "output_type": "execute_result"
    }
   ],
   "source": [
    "function qr_classical_gram_schmidt(A)\n",
    "    m, n = size(A)\n",
    "    Q̂ = copy(A)\n",
    "    R̂ = zeros(eltype(A), n, n)\n",
    "    for j in 1:n\n",
    "        # Project\n",
    "        R̂[1:j-1,j] = Q̂[:,1:j-1]' * Q̂[:,j] # 2 m j - j\n",
    "        Q̂[:,j] -= Q̂[:,1:j-1] * R̂[1:j-1,j] # 2 m j\n",
    "        # Normalize\n",
    "        R̂[j,j] = norm(Q̂[:,j])             # 2 m\n",
    "        Q̂[:,j] /= R̂[j,j]                  # m\n",
    "    end\n",
    "    return Q̂, R̂\n",
    "end"
   ]
  },
  {
   "cell_type": "markdown",
   "id": "b1560662",
   "metadata": {
    "cell_style": "split"
   },
   "source": [
    "- Total work in iteration $j$:\n",
    "\n",
    "$$4mj - j + 3 m$$"
   ]
  },
  {
   "cell_type": "markdown",
   "id": "800ce244",
   "metadata": {
    "slideshow": {
     "slide_type": "fragment"
    }
   },
   "source": [
    "- Total (sum for $j = 1, \\dots, n$):\n",
    "\n",
    "$$\n",
    "W(CGS) = \\sum_{j=1}^n 4mj - j + 3m = \\left\\{(4m - 1) \\sum_{j=1}^n j\\right\\} + \\left\\{3m \\sum_{j=1}^n 1\\right\\}.\n",
    "$$"
   ]
  },
  {
   "cell_type": "markdown",
   "id": "fb4839b3",
   "metadata": {
    "slideshow": {
     "slide_type": "fragment"
    }
   },
   "source": [
    "$$W(CGS) = (4m-1)\\frac{1}{2}n(n+1) + 3mn = 2 m n^2 + \\underbrace{\\dots}_{\\text{(lower order terms)}}.$$"
   ]
  },
  {
   "cell_type": "markdown",
   "id": "cb4b655f",
   "metadata": {
    "slideshow": {
     "slide_type": "subslide"
    }
   },
   "source": [
    "### Summarize using just the leading term\n",
    "\n",
    "$$W(CGS) \\sim 2 mn^2,$$\n",
    "\n",
    "which means\n",
    "\n",
    "$$ \\lim_{\\min\\{m,n\\} \\to \\infty} \\frac{W(CGS)}{2 m n^2} = 1. $$"
   ]
  },
  {
   "cell_type": "markdown",
   "id": "0f8e8917",
   "metadata": {
    "slideshow": {
     "slide_type": "subslide"
    }
   },
   "source": [
    "### Exercise\n",
    "\n",
    "Convince yourself that $W(MGS) = W(CGS) \\sim 2 m n^2.$"
   ]
  },
  {
   "cell_type": "markdown",
   "id": "194378bd",
   "metadata": {
    "slideshow": {
     "slide_type": "subslide"
    }
   },
   "source": [
    "### Caveats on the meaning of work $W$\n",
    "\n",
    "- On a serial computer, runtime $T$ should scale like $W$ for large enough inputs.\n",
    "- $W$ does not count moving data to/from the processor, which is more expensive than arithmetic.\n",
    "- Implementation-dependent leading constants are going to be very important, so its possible to have two algorithms with $W_1 < W_2$ but $T_2 < T_1$.\n",
    "- All computers use parallelism for numerical linear algebra now.  $W$ says nothing about how _concurrent_ (parallelizable) CGS and WGS are, so $W$ alone is not enough to understand the performance of an algorithm."
   ]
  }
 ],
 "metadata": {
  "@webio": {
   "lastCommId": null,
   "lastKernelId": null
  },
  "celltoolbar": "Slideshow",
  "hide_input": false,
  "kernelspec": {
   "display_name": "Julia 1.7.0",
   "language": "julia",
   "name": "julia-1.7"
  },
  "language_info": {
   "file_extension": ".jl",
   "mimetype": "application/julia",
   "name": "julia",
   "version": "1.7.0"
  }
 },
 "nbformat": 4,
 "nbformat_minor": 5
}
