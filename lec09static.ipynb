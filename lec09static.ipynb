{
 "cells": [
  {
   "cell_type": "code",
   "execution_count": 1,
   "id": "76bda0cc",
   "metadata": {},
   "outputs": [
    {
     "name": "stderr",
     "output_type": "stream",
     "text": [
      "\u001b[32m\u001b[1m    Updating\u001b[22m\u001b[39m registry at `~/.julia/registries/General.toml`\n",
      "\u001b[32m\u001b[1m   Resolving\u001b[22m\u001b[39m package versions...\n",
      "\u001b[32m\u001b[1m  No Changes\u001b[22m\u001b[39m to `~/srv/rep/22-course-cse6643/mybinder/Project.toml`\n",
      "\u001b[32m\u001b[1m  No Changes\u001b[22m\u001b[39m to `~/srv/rep/22-course-cse6643/mybinder/Manifest.toml`\n"
     ]
    },
    {
     "data": {
      "text/plain": [
       "LogLevel(1)"
      ]
     },
     "execution_count": 1,
     "metadata": {},
     "output_type": "execute_result"
    }
   ],
   "source": [
    "import Pkg; Pkg.add([\"Plots\", \"Interact\", \"Polynomials\"]);\n",
    "import Logging; Logging.disable_logging(Logging.Info)"
   ]
  },
  {
   "cell_type": "code",
   "execution_count": 2,
   "id": "a602cc2e",
   "metadata": {},
   "outputs": [],
   "source": [
    "const STATIC_LECTURE = true;"
   ]
  },
  {
   "cell_type": "code",
   "execution_count": 3,
   "id": "907e83dc",
   "metadata": {},
   "outputs": [
    {
     "data": {
      "text/plain": [
       "imshow (generic function with 1 method)"
      ]
     },
     "execution_count": 3,
     "metadata": {},
     "output_type": "execute_result"
    }
   ],
   "source": [
    "using LinearAlgebra;\n",
    "using Plots; default(l=5, size=(900,550), label=false);\n",
    "using Printf;\n",
    "\n",
    "if STATIC_LECTURE\n",
    "    default(fmt=:png)\n",
    "end\n",
    "\n",
    "prettyprint(a) = map(x -> @sprintf(\"%+.2f\", x), v)\n",
    "\n",
    "function imshow(x; kwargs...)\n",
    "    return heatmap(x\n",
    "        , aspect_ratio=:equal\n",
    "        , framestyle=:none\n",
    "        , yflip=true\n",
    "        , c=:diverging_gwv_55_95_c39_n256\n",
    "        ; kwargs...\n",
    "    )\n",
    "end"
   ]
  },
  {
   "cell_type": "markdown",
   "id": "1e319c1e",
   "metadata": {
    "slideshow": {
     "slide_type": "slide"
    }
   },
   "source": [
    "### Warmup\n",
    "\n",
    "Let $P \\in \\mathbb{C}^{m \\times m}$ be given, and let $P = \\hat{U} \\hat{\\Sigma} \\hat V^*$ be an SVD of $P$\n",
    "containing just the nonzero singular values.\n",
    "\n",
    "True or False?\n",
    "\n",
    "$$\\|P\\|_2 = 1 \\quad\\Leftrightarrow\\quad \\| \\hat{\\Sigma} \\|_2 = 1 \\quad\\Leftrightarrow\\quad \\Sigma = I \\quad\\Leftrightarrow\\quad\n",
    "P = \\hat{U} \\hat{V}^*.$$"
   ]
  },
  {
   "cell_type": "markdown",
   "id": "786e62b2",
   "metadata": {
    "slideshow": {
     "slide_type": "slide"
    }
   },
   "source": [
    "# Conditioning and Condition Number\n",
    "\n",
    "**1. Condition of a problem**\n",
    "\n",
    "**2. Condition of Matrix-Vector Multiplication**\n",
    "\n",
    "**3. Condition of a System of Equations**"
   ]
  },
  {
   "cell_type": "markdown",
   "id": "7c9d2f34",
   "metadata": {
    "slideshow": {
     "slide_type": "slide"
    }
   },
   "source": [
    "> _Conditioning_ pertains to the perturbation behavior of a mathematical problem."
   ]
  },
  {
   "cell_type": "markdown",
   "id": "7a4504fc",
   "metadata": {
    "slideshow": {
     "slide_type": "fragment"
    }
   },
   "source": [
    "> _Stability_ pertains to the perturbation behavior of an algorithm used to solve that problem on a computer."
   ]
  },
  {
   "cell_type": "markdown",
   "id": "97365618",
   "metadata": {
    "cell_style": "center",
    "slideshow": {
     "slide_type": "slide"
    }
   },
   "source": [
    "## Condition of a problem\n",
    "\n",
    "Many problems we consider are functions between normed vector spaces:\n",
    "\n",
    "$$f: X \\to Y$$"
   ]
  },
  {
   "cell_type": "markdown",
   "id": "29844090",
   "metadata": {
    "slideshow": {
     "slide_type": "fragment"
    }
   },
   "source": [
    "$$X = \\text{ data}$$"
   ]
  },
  {
   "cell_type": "markdown",
   "id": "9022a809",
   "metadata": {
    "slideshow": {
     "slide_type": "fragment"
    }
   },
   "source": [
    "$$Y = \\text{ solutions}$$"
   ]
  },
  {
   "cell_type": "markdown",
   "id": "14a140f5",
   "metadata": {
    "slideshow": {
     "slide_type": "subslide"
    }
   },
   "source": [
    "Many (most) problems behave differently for different datapoints (_problem instances_) $x$:\n",
    "    \n",
    "    "
   ]
  },
  {
   "cell_type": "markdown",
   "id": "c32f4adc",
   "metadata": {
    "cell_style": "center",
    "slideshow": {
     "slide_type": "fragment"
    }
   },
   "source": [
    "- A rubber band that stretches under one load snaps under another"
   ]
  },
  {
   "cell_type": "markdown",
   "id": "3b90539e",
   "metadata": {
    "cell_style": "split",
    "slideshow": {
     "slide_type": "fragment"
    }
   },
   "source": [
    "- Linear operations $C \\gets A B$ or $x \\gets A^{-1}y$ are the exception: linearity $\\Rightarrow$ scale invariance $\\Rightarrow$ all problem instances have (roughly) similar behavior."
   ]
  },
  {
   "cell_type": "markdown",
   "id": "378d3723",
   "metadata": {
    "slideshow": {
     "slide_type": "subslide"
    }
   },
   "source": [
    "### [Hadamard's Well-posed problem](https://en.wikipedia.org/wiki/Well-posed_problem)\n",
    "\n",
    "> 1) A solution exists\n",
    ">\n",
    "> 2) The solution is unique\n",
    ">\n",
    "> **3) The solution's behaviour changes continuously with the data.**\n"
   ]
  },
  {
   "cell_type": "markdown",
   "id": "6aa8039f",
   "metadata": {
    "cell_style": "center",
    "slideshow": {
     "slide_type": "subslide"
    }
   },
   "source": [
    "### Example: chaotic attractors\n",
    "\n",
    "- Data $x$: initial conditions\n",
    "- Solution $y$: state at fixed time $T$"
   ]
  },
  {
   "cell_type": "code",
   "execution_count": null,
   "id": "891ca292",
   "metadata": {
    "cell_style": "split",
    "hideCode": true
   },
   "outputs": [],
   "source": [
    "# https://github.com/JuliaPlots/ExamplePlots.jl/blob/master/notebooks/scratch/lorenz.ipynb\n",
    "\n",
    "# initialize the attractor\n",
    "n = 3000\n",
    "dt = 0.02\n",
    "σ, ρ, β = 10., 28., 8/3\n",
    "x, y, z = 1., 1., 1.\n",
    "X, Y, Z = [x], [y], [z]\n",
    "\n",
    "# initialize a Plots animation\n",
    "anim = Animation()\n",
    "\n",
    "# process n steps\n",
    "for i=1:n\n",
    "    dx = σ*(y - x);      x += dt * dx; push!(X,x)\n",
    "    dy = x*(ρ - z) - y;  y += dt * dy; push!(Y,y)\n",
    "    dz = x*y - β*z;      z += dt * dz; push!(Z,z)\n",
    "    \n",
    "    # plot and save to the animation\n",
    "    if mod1(i,10) == 1\n",
    "        frame(anim, plot3d(X,Y,Z))\n",
    "    end\n",
    "end\n",
    "\n",
    "# build an animated gif\n",
    "gif(anim)"
   ]
  },
  {
   "cell_type": "markdown",
   "id": "cd24dc36",
   "metadata": {
    "cell_style": "split",
    "slideshow": {
     "slide_type": "fragment"
    }
   },
   "source": [
    "1. A solution exists? ✅"
   ]
  },
  {
   "cell_type": "markdown",
   "id": "4bd241dc",
   "metadata": {
    "cell_style": "split",
    "slideshow": {
     "slide_type": "fragment"
    }
   },
   "source": [
    "2. The solution is unique? ✅"
   ]
  },
  {
   "cell_type": "markdown",
   "id": "3d529c84",
   "metadata": {
    "cell_style": "split",
    "slideshow": {
     "slide_type": "fragment"
    }
   },
   "source": [
    "3. The solution $f: X \\to Y$ is continuous? 😕\n",
    "\n",
    "- Technically yes\n",
    "- But for a late time $T$, exponentially fine resolution is required to $\\|f(x + \\delta x) - f(x)\\|$ to be close to $x$."
   ]
  },
  {
   "cell_type": "markdown",
   "id": "519a8058",
   "metadata": {
    "slideshow": {
     "slide_type": "subslide"
    }
   },
   "source": [
    "### Instead of the binary ({continuous, discontinuous}), we have the spectrum of _condititioning_ (sensitivity)\n",
    "\n",
    "- A _well-conditioned_ problem: small perturbations of $x$ lead to only small changes in $f(x)$"
   ]
  },
  {
   "cell_type": "markdown",
   "id": "cfc82247",
   "metadata": {
    "slideshow": {
     "slide_type": "fragment"
    }
   },
   "source": [
    "- An _ill-conditioned_ problem: small perturbations of $x$ lead to a large change in $f(x)$."
   ]
  },
  {
   "cell_type": "markdown",
   "id": "321c26ae",
   "metadata": {
    "slideshow": {
     "slide_type": "fragment"
    }
   },
   "source": [
    "- Small? Large?"
   ]
  },
  {
   "cell_type": "markdown",
   "id": "ecfeae6a",
   "metadata": {
    "slideshow": {
     "slide_type": "subslide"
    }
   },
   "source": [
    "### Absolute Condition Number $\\hat{\\kappa}$\n",
    "\n",
    "- $\\delta x$: small perturbation of $x$"
   ]
  },
  {
   "cell_type": "markdown",
   "id": "79b24518",
   "metadata": {
    "slideshow": {
     "slide_type": "fragment"
    }
   },
   "source": [
    "- Define\n",
    "\n",
    "$$\\delta f = f(x + \\delta x) - f(x)$$"
   ]
  },
  {
   "cell_type": "markdown",
   "id": "4325d0f5",
   "metadata": {
    "cell_style": "center",
    "slideshow": {
     "slide_type": "fragment"
    }
   },
   "source": [
    "- The _absolute condition number_\n",
    "\n",
    "$$\\hat\\kappa(x) = \\lim_{\\delta \\to 0} \\sup_{\\|\\delta x\\| \\leq \\delta} \\frac{\\|\\delta f\\|}{\\|\\delta x\\|}$$"
   ]
  },
  {
   "cell_type": "markdown",
   "id": "f9de21bb",
   "metadata": {
    "cell_style": "split",
    "slideshow": {
     "slide_type": "fragment"
    }
   },
   "source": [
    "(Compare derivative: $\\lim_{\\epsilon \\to 0} \\frac{f(x + \\epsilon\\delta x) - f(x)}{\\epsilon}$)"
   ]
  },
  {
   "cell_type": "markdown",
   "id": "f328d934",
   "metadata": {
    "cell_style": "split",
    "slideshow": {
     "slide_type": "fragment"
    }
   },
   "source": [
    "(Compare Lipschitz constant: $\\frac{\\|\\delta f\\|}{\\|\\delta x\\|} \\leq L_x$ )"
   ]
  },
  {
   "cell_type": "markdown",
   "id": "9a46ad82",
   "metadata": {
    "slideshow": {
     "slide_type": "subslide"
    }
   },
   "source": [
    "### Case: $f$ differentiable\n",
    "\n",
    "$$f(x + \\delta x) = f(x) + \\underbrace{J(x)}_{\\text{Jacobian}}\\delta x + o(\\|\\delta x\\|), \\quad J(x)\\in \\mathbb{C}^{m \\times n}.$$"
   ]
  },
  {
   "cell_type": "markdown",
   "id": "c7ac4518",
   "metadata": {
    "slideshow": {
     "slide_type": "fragment"
    }
   },
   "source": [
    "**Exercise.**\n",
    "\n",
    "$$\\|\\hat{\\kappa}(x)\\| = \\|J(x)\\|.$$"
   ]
  },
  {
   "cell_type": "markdown",
   "id": "cdf9c11f",
   "metadata": {
    "slideshow": {
     "slide_type": "subslide"
    }
   },
   "source": [
    "### Relative Condition Number $\\kappa$"
   ]
  },
  {
   "cell_type": "markdown",
   "id": "50cda4c5",
   "metadata": {
    "cell_style": "split"
   },
   "source": [
    "$$\\kappa(x) = \\lim_{\\delta \\to 0} \\sup_{\\|\\delta x\\| \\leq \\delta} \\frac{\\left(\\frac{\\|\\delta f\\|}{\\|f \\|}\\right)}{\\left(\\frac{\\|\\delta x\\|}{\\|x\\|}\\right)}$$"
   ]
  },
  {
   "cell_type": "markdown",
   "id": "39d78d09",
   "metadata": {
    "cell_style": "split"
   },
   "source": [
    "$$\\kappa(x) = \\frac{\\|J(x)\\|}{\\left(\\frac{\\|f(x)\\|}{\\|x\\|}\\right)}, \\quad\\text{(}f\\text{ differentiable)}$$"
   ]
  },
  {
   "cell_type": "markdown",
   "id": "cb37fbe8",
   "metadata": {
    "slideshow": {
     "slide_type": "fragment"
    }
   },
   "source": [
    "- Think change of units:\n",
    "\n",
    "  - Does a problem become more challenging if we switch $Y$ from km to m?\n",
    "  - Does a problem become harder if we switch $X$ from days to years? "
   ]
  },
  {
   "cell_type": "markdown",
   "id": "1c53120d",
   "metadata": {
    "slideshow": {
     "slide_type": "subslide"
    }
   },
   "source": [
    "### In this class we focus on $\\kappa$ (relative), not $\\hat\\kappa$ (absolute)\n",
    "\n",
    "- When we are comparing conditioning (problem) to stability (algorithm), the most important scale of $\\delta$s we care about is rounding error, and rounding errors are relative"
   ]
  },
  {
   "cell_type": "markdown",
   "id": "8e64a44e",
   "metadata": {
    "hideCode": false,
    "slideshow": {
     "slide_type": "subslide"
    }
   },
   "source": [
    "### Examples"
   ]
  },
  {
   "cell_type": "markdown",
   "id": "7f9f1a7a",
   "metadata": {
    "cell_style": "split"
   },
   "source": [
    "$$f: x \\to x / 2$$\n",
    "\n",
    "$\\kappa(x)?$"
   ]
  },
  {
   "cell_type": "markdown",
   "id": "5fe6f646",
   "metadata": {
    "cell_style": "split"
   },
   "source": [
    "$$f: x \\to \\sqrt{x}$$\n",
    "\n",
    "$\\kappa(x)$?"
   ]
  },
  {
   "cell_type": "markdown",
   "id": "50ba756b",
   "metadata": {
    "hideCode": false,
    "slideshow": {
     "slide_type": "subslide"
    }
   },
   "source": [
    "### Example: cancellation\n",
    "\n",
    "$$f(x) = x_1 - x_2.$$\n",
    "\n",
    "$\\kappa(x)?$"
   ]
  },
  {
   "cell_type": "markdown",
   "id": "8521a4a2",
   "metadata": {},
   "source": [
    "### Example: polynomial roots from coefficients\n",
    "\n",
    "- Data: coefficients of a polynomial\n",
    "- Solution: roots\n",
    "\n",
    "Consider data\n",
    "\n",
    "$$x^2 + 2x + 1 = (x-1)^2.$$"
   ]
  },
  {
   "cell_type": "code",
   "execution_count": null,
   "id": "c1ce7d83",
   "metadata": {
    "cell_style": "split"
   },
   "outputs": [],
   "source": [
    "using Polynomials\n",
    "\n",
    "err = 1.e-1\n",
    "p1, p2 = roots(Polynomial([1.0 - err, -2.0, 1.0]))"
   ]
  },
  {
   "cell_type": "code",
   "execution_count": null,
   "id": "306178cf",
   "metadata": {
    "cell_style": "split"
   },
   "outputs": [],
   "source": [
    "df = norm([p1, p2] - [1.0, 1.0])\n",
    "fnorm = norm([p1, p2])\n",
    "dx = err\n",
    "xnorm = norm([1.0, -2.0, 1.0])\n",
    "\n",
    "(df / fnorm) / (dx / xnorm)"
   ]
  },
  {
   "cell_type": "code",
   "execution_count": null,
   "id": "ad92e75f",
   "metadata": {
    "slideshow": {
     "slide_type": "subslide"
    }
   },
   "outputs": [],
   "source": [
    "p = fromroots(collect(1.0:1.0:20.0) ./ 20.)"
   ]
  },
  {
   "cell_type": "code",
   "execution_count": null,
   "id": "59c1bcf9",
   "metadata": {},
   "outputs": [],
   "source": [
    "r = roots(p)\n",
    "plt = plot(real(r), imag(r), st=:scatter, ylim=(-0.3,0.3), framestyle=:origin)"
   ]
  },
  {
   "cell_type": "code",
   "execution_count": null,
   "id": "630f3040",
   "metadata": {
    "slideshow": {
     "slide_type": "subslide"
    }
   },
   "outputs": [],
   "source": [
    "for i = 1:100\n",
    "    newr = roots(Polynomial(coeffs(p).*(1. .+ randn(21).*1.e-10)))\n",
    "    plot!(plt,newr, st=:scatter, m=:+)\n",
    "end\n",
    "plot(plt)"
   ]
  },
  {
   "cell_type": "markdown",
   "id": "be653424",
   "metadata": {},
   "source": [
    "### Example: eigenvalues"
   ]
  },
  {
   "cell_type": "code",
   "execution_count": null,
   "id": "187d1127",
   "metadata": {
    "cell_style": "split"
   },
   "outputs": [],
   "source": [
    "A = [[1.0, 0.0] [1000.0, 1.0]]\n",
    "Ap = copy(A); Ap[2,1] = 0.001\n",
    "display(A)\n",
    "display(Ap)"
   ]
  },
  {
   "cell_type": "code",
   "execution_count": null,
   "id": "38307f85",
   "metadata": {
    "cell_style": "split"
   },
   "outputs": [],
   "source": [
    "eigvals(Ap)"
   ]
  },
  {
   "cell_type": "code",
   "execution_count": null,
   "id": "7e35294f",
   "metadata": {
    "cell_style": "split"
   },
   "outputs": [],
   "source": [
    "eigvals(A)"
   ]
  },
  {
   "cell_type": "markdown",
   "id": "3a3b3a19",
   "metadata": {
    "slideshow": {
     "slide_type": "slide"
    }
   },
   "source": [
    "## Condition of Matrix-Vector Multiplication"
   ]
  },
  {
   "cell_type": "markdown",
   "id": "02e353a0",
   "metadata": {
    "slideshow": {
     "slide_type": "subslide"
    }
   },
   "source": [
    "- data: $x \\in \\mathbb{C}^{n}$\n",
    "- solution: $Ax \\in \\mathbb{C}^m$"
   ]
  },
  {
   "cell_type": "markdown",
   "id": "0fb41f5f",
   "metadata": {},
   "source": [
    "$$\\kappa = \\sup_{\\delta x}\\frac{\\left(\\frac{\\|A(x + \\delta x) - Ax\\|}{\\|Ax\\|}\\right)}{\\left(\\frac{\\|\\delta x\\|}{\\|x\\|}\\right) }= \\sup_{\\delta x}\\frac{\\left(\\frac{\\|A\\delta x\\|}{\\|Ax\\|}\\right)}{\\left(\\frac{\\|\\delta x\\|}{\\|x\\|}\\right)}= \\sup_{\\delta x}\\frac{\\left(\\frac{\\|A\\delta x\\|}{\\|\\delta x\\|}\\right)}{\\left(\\frac{\\|Ax\\|}{\\|x\\|}\\right)} = \\frac{\\sup_{\\delta x}\\|A\\delta x\\| / \\|\\delta x\\|}{\\|A x\\| / \\|x\\|}=\n",
    "\\frac{\\|A\\|}{\\|Ax\\|/\\|x\\|}=\\|A\\|\\frac{\\|x\\|}{\\|Ax\\|}$$"
   ]
  },
  {
   "cell_type": "markdown",
   "id": "f981bc11",
   "metadata": {
    "slideshow": {
     "slide_type": "subslide"
    }
   },
   "source": [
    "### Condition number for a Matrix-Vector Multiplication,  Nonsingular $A$\n",
    "\n",
    "Use\n",
    "\n",
    "$$\\|x\\| = \\|A^{-1} Ax\\| \\leq \\|A^{-1}\\|\\|Ax\\|$$\n",
    "\n",
    "$$\\kappa = \\|A\\|\\frac{\\|x\\|}{\\|Ax\\|} \\leq \\|A\\|\\|A^{-1}\\|$$\n",
    "\n",
    "Is this tight: is there $x$ such that $\\kappa = \\|A\\|\\|A^{-1}\\|?$"
   ]
  },
  {
   "cell_type": "markdown",
   "id": "669dcbcc",
   "metadata": {
    "slideshow": {
     "slide_type": "subslide"
    }
   },
   "source": [
    "### Mathematically, $x \\gets A^{-1}b$ is just multiplication by $A^{-1}$\n",
    "\n",
    "So we have shown\n",
    "\n",
    "**T&B Theorem 12.1.**\n",
    "\n",
    "The condition number of computing $b \\gets Ax$ with respect to perturbations in $x$ is\n",
    "\n",
    "$$\\kappa = \\|A\\|\\frac{\\|x\\|}{\\|Ax\\|} \\leq \\|A\\| \\|A^{-1}\\|.$$\n",
    "\n",
    "The condition number of computing $x \\gets A^{-1}b$ with respect to perturbations in $b$ is\n",
    "\n",
    "$$\\kappa = \\|A^{-1}\\|\\frac{\\|b\\|}{\\|x\\|} \\leq \\|A\\| \\|A^{-1}\\|.$$"
   ]
  },
  {
   "cell_type": "markdown",
   "id": "b87d4d5d",
   "metadata": {
    "slideshow": {
     "slide_type": "fragment"
    }
   },
   "source": [
    "If $\\|\\cdot\\| = \\|\\cdot\\|_2$, equality holds if $x$ is the last right singular vector (associated with $\\sigma_m$),\n",
    "or if $b$ is the first left singular vector (associated with $\\sigma_1$)."
   ]
  },
  {
   "cell_type": "markdown",
   "id": "5a983366",
   "metadata": {
    "slideshow": {
     "slide_type": "subslide"
    }
   },
   "source": [
    "### Generalizing to the pseudoinverse\n",
    "\n",
    "If $A\\in\\mathbb{C}^{m \\times n}$ is rank $n$, the 2-norm condition number of multiplying by $A$ or $A^+$ is\n",
    "\n",
    "$$\n",
    "\\kappa(A) = \\kappa_2(A) = \\frac{\\sigma_1}{\\sigma_n}.\n",
    "$$"
   ]
  },
  {
   "cell_type": "markdown",
   "id": "afd46ea7",
   "metadata": {
    "slideshow": {
     "slide_type": "slide"
    }
   },
   "source": [
    "## Condition of a System of Equations\n",
    "\n",
    "Change what is considered data in $x \\gets A^{-1} b$.\n",
    "\n",
    "- data: $A$\n",
    "- solution: $b$"
   ]
  },
  {
   "cell_type": "markdown",
   "id": "8eea90e4",
   "metadata": {
    "slideshow": {
     "slide_type": "subslide"
    }
   },
   "source": [
    "### Implicit perturbation conditions\n",
    "\n",
    "Suppose $A$ is invertible and $Ax = b$.  The perturbation of $x$ with respect to $A$ is an _implicit_ condition:\n",
    "\n",
    "$$(A + \\delta A)(x + \\delta x) = b.$$\n",
    "\n",
    "$$Ax + A\\delta x + (\\delta A) x + \\underbrace{(\\delta A) \\delta x}_{\\text{drop double infinitesimals}} = b.$$\n",
    "\n",
    "$$A\\delta x + (\\delta A) x = 0.$$\n",
    "\n",
    "$$\\delta x = -A^{-1} (\\delta A) x.$$"
   ]
  },
  {
   "cell_type": "markdown",
   "id": "bb1bf02d",
   "metadata": {
    "slideshow": {
     "slide_type": "subslide"
    }
   },
   "source": [
    "### Equation into condition form\n",
    "\n",
    "$\\delta x = -A^{-1} (\\delta A) x$, so\n",
    "\n",
    "$$\\frac{\\|\\delta x\\| / \\|x\\|}{\\|\\delta A\\|/\\|A\\|} \\leq \\frac{\\|A^{-1}\\| \\|\\delta A\\|}{\\|\\delta A\\|/\\|A\\|} = \\|A\\|\\|A^{-1}\\| = \\kappa(A).$$"
   ]
  },
  {
   "cell_type": "markdown",
   "id": "d33a2238",
   "metadata": {
    "slideshow": {
     "slide_type": "fragment"
    }
   },
   "source": [
    "**T&B Theorem 12.2.** The condition number of $x \\gets Ab$ with respect to perturbations in $A$ is\n",
    "\n",
    "$$\\kappa = \\|A\\|\\|A^{-1}\\| = \\kappa(A).$$"
   ]
  },
  {
   "cell_type": "markdown",
   "id": "06fc631d",
   "metadata": {
    "slideshow": {
     "slide_type": "slide"
    }
   },
   "source": [
    "> If a problem $Ax = b$ contains an ill-conditioned matrix $A$, one may always expect to \"lose $\\log_{10} \\kappa(A)$ digits\" in computing the solution, except under very special circumstances."
   ]
  },
  {
   "cell_type": "markdown",
   "id": "0d021ddf",
   "metadata": {},
   "source": [
    "### Exercise\n",
    "\n",
    "**T&B Exercise 12.1.**  Suppose $A$ is a $202 \\times 202$ matrix with $\\|A\\|_2 = 100$ and $\\|A\\|_F = 101.$ Give the sharpest possible lower-bound on the 2-norm condition number $\\kappa(A).$"
   ]
  }
 ],
 "metadata": {
  "@webio": {
   "lastCommId": null,
   "lastKernelId": null
  },
  "celltoolbar": "Slideshow",
  "hide_input": false,
  "kernelspec": {
   "display_name": "Julia 1.7.0",
   "language": "julia",
   "name": "julia-1.7"
  },
  "language_info": {
   "file_extension": ".jl",
   "mimetype": "application/julia",
   "name": "julia",
   "version": "1.7.0"
  }
 },
 "nbformat": 4,
 "nbformat_minor": 5
}
