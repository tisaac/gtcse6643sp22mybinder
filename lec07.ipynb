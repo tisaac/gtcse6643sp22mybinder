{
 "cells": [
  {
   "cell_type": "code",
   "execution_count": 1,
   "id": "22c3320f",
   "metadata": {},
   "outputs": [
    {
     "name": "stderr",
     "output_type": "stream",
     "text": [
      "\u001b[32m\u001b[1m    Updating\u001b[22m\u001b[39m registry at `~/.julia/registries/General.toml`\n",
      "\u001b[32m\u001b[1m   Resolving\u001b[22m\u001b[39m package versions...\n",
      "\u001b[32m\u001b[1m  No Changes\u001b[22m\u001b[39m to `~/srv/rep/22-course-cse6643/mybinder/Project.toml`\n",
      "\u001b[32m\u001b[1m  No Changes\u001b[22m\u001b[39m to `~/srv/rep/22-course-cse6643/mybinder/Manifest.toml`\n"
     ]
    },
    {
     "data": {
      "text/plain": [
       "LogLevel(1)"
      ]
     },
     "execution_count": 1,
     "metadata": {},
     "output_type": "execute_result"
    }
   ],
   "source": [
    "import Pkg; Pkg.add([\"Plots\", \"Interact\"]);\n",
    "import Logging; Logging.disable_logging(Logging.Info)"
   ]
  },
  {
   "cell_type": "code",
   "execution_count": 2,
   "id": "8f0eae62",
   "metadata": {},
   "outputs": [],
   "source": [
    "const STATIC_LECTURE = false;"
   ]
  },
  {
   "cell_type": "code",
   "execution_count": 3,
   "id": "ed67d067",
   "metadata": {},
   "outputs": [
    {
     "data": {
      "text/plain": [
       "draw (generic function with 1 method)"
      ]
     },
     "execution_count": 3,
     "metadata": {},
     "output_type": "execute_result"
    }
   ],
   "source": [
    "function draw(plt)\n",
    "    if STATIC_LECTURE\n",
    "        filename = Base.Filesystem.tempname() * \".png\"\n",
    "        savefig(filename)\n",
    "        return display(\"image/png\", read(filename))\n",
    "    else\n",
    "        return plt\n",
    "    end\n",
    "end"
   ]
  },
  {
   "cell_type": "code",
   "execution_count": 4,
   "id": "3ac47923",
   "metadata": {},
   "outputs": [
    {
     "data": {
      "application/vnd.webio.node+json": {
       "children": [],
       "instanceArgs": {
        "namespace": "html",
        "tag": "div"
       },
       "nodeType": "DOM",
       "props": {},
       "type": "node"
      },
      "text/html": [
       "<div style=\"padding: 1em; background-color: #f8d6da; border: 1px solid #f5c6cb; font-weight: bold;\">\n",
       "<p>The WebIO Jupyter extension was not detected. See the\n",
       "<a href=\"https://juliagizmos.github.io/WebIO.jl/latest/providers/ijulia/\" target=\"_blank\">\n",
       "    WebIO Jupyter integration documentation\n",
       "</a>\n",
       "for more information.\n",
       "</div>\n"
      ],
      "text/plain": [
       "WebIO._IJuliaInit()"
      ]
     },
     "metadata": {
      "application/vnd.webio.node+json": {
       "kernelId": null
      }
     },
     "output_type": "display_data"
    },
    {
     "data": {
      "text/plain": [
       "imshow (generic function with 2 methods)"
      ]
     },
     "execution_count": 4,
     "metadata": {},
     "output_type": "execute_result"
    }
   ],
   "source": [
    "using LinearAlgebra;\n",
    "using Plots; default(l=2, size=(900,550), label=false);\n",
    "using Interact;\n",
    "\n",
    "imshow(x, _clim=:nothing) = heatmap(x\n",
    "    , aspect_ratio=:equal\n",
    "    , framestyle=:none\n",
    "    , yflip=true\n",
    "    , c=:diverging_gwv_55_95_c39_n256\n",
    "    , clim=if _clim != :nothing\n",
    "          _clim\n",
    "      elseif maximum(abs.(x)) > 1.e-12\n",
    "          (-maximum(abs.(x)),maximum(abs.(x)))\n",
    "      else \n",
    "          (-1,1)\n",
    "      end\n",
    "    , size=(500,500)\n",
    ")"
   ]
  },
  {
   "cell_type": "markdown",
   "id": "384d2ca1",
   "metadata": {
    "slideshow": {
     "slide_type": "slide"
    }
   },
   "source": [
    "### Warmup (T&B Exercise 7.3)\n",
    "\n",
    "Let $A$ be an $m \\times m$ matrix, and let $a_j$ be its $j$th column.  Give an algebraic proof of _Hadamard's inequality_:\n",
    "\n",
    "$$|\\det A| \\leq \\prod_{j=1}^m \\| a_j \\|_2.$$\n",
    "\n",
    "Also give a geometric interpretation of this result, making use of the fact that the determinant equals the volume of a parallelipiped.\n",
    "\n",
    "Hints:\n",
    "\n",
    "- $|\\det A| = |\\det (QR)| = |\\det(Q)| |\\det(R)|$\n",
    "- How does $|r_{jj}|$ compare to $\\|a_j\\|_2$?"
   ]
  },
  {
   "cell_type": "markdown",
   "id": "de60574f",
   "metadata": {
    "slideshow": {
     "slide_type": "slide"
    }
   },
   "source": [
    "## Review"
   ]
  },
  {
   "cell_type": "markdown",
   "id": "3dd88613",
   "metadata": {
    "slideshow": {
     "slide_type": "subslide"
    }
   },
   "source": [
    "### Classical Gram-Schmidt vs. Modified Gram-Schmidt"
   ]
  },
  {
   "cell_type": "code",
   "execution_count": 5,
   "id": "eb1d293b",
   "metadata": {
    "cell_style": "split"
   },
   "outputs": [],
   "source": [
    "function cgs(A)\n",
    "    _, n = size(A); Q = copy(A);\n",
    "    R = zeros(eltype(A), n, n)\n",
    "    for j in 1:n\n",
    "        R[1:j-1,j] = Q[:,1:j-1]' * Q[:,j]\n",
    "        Q[:,j] -= Q[:,1:j-1] * R[1:j-1,j]\n",
    "        R[j,j] = norm(Q[:,j])\n",
    "        Q[:,j] /= R[j,j]\n",
    "    end\n",
    "    return Q, R\n",
    "end;"
   ]
  },
  {
   "cell_type": "code",
   "execution_count": 6,
   "id": "a618b080",
   "metadata": {
    "cell_style": "split"
   },
   "outputs": [],
   "source": [
    "function mgs(A)\n",
    "    _, n = size(A); Q = copy(A);\n",
    "    R = zeros(eltype(A), n, n)\n",
    "    for i in 1:n\n",
    "        R[i,i] = norm(Q[:,i])\n",
    "        Q[:,i] /= R[i,i]\n",
    "        R[i,i+1:n] = Q[:,i]' * Q[:,i+1:n]\n",
    "        Q[:,i+1:n] -= Q[:,[i]] * R[[i],i+1:n]\n",
    "    end\n",
    "    return Q, R\n",
    "end;"
   ]
  },
  {
   "cell_type": "code",
   "execution_count": 7,
   "id": "78c5a0cc",
   "metadata": {
    "cell_style": "split",
    "hideCode": true
   },
   "outputs": [
    {
     "data": {
      "text/html": [
       "<img src=\"data:image/gif;base64,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\" />"
      ],
      "text/plain": [
       "Plots.AnimatedGif(\"/home/tisaac/srv/rep/22-course-cse6643/mybinder/tmp.gif\")"
      ]
     },
     "execution_count": 7,
     "metadata": {},
     "output_type": "execute_result"
    }
   ],
   "source": [
    "m = 7; n = 5;\n",
    "Q = ones(m,n);\n",
    "err = ones(n,n);\n",
    "anim = Animation()\n",
    "function q_frame!(Q, E, anim)\n",
    "    qplot = imshow(Q)\n",
    "    plot!(qplot, colorbar=:legend, legend=false, title=\"Q\")\n",
    "    eplot = imshow(E)\n",
    "    plot!(eplot, colorbar=:legend, legend=false, title=\"||I-Q'Q||\")\n",
    "    p = plot(qplot, eplot, layout=(1,2))\n",
    "    frame(anim, p)\n",
    "end\n",
    "q_frame!(Q, err, anim)\n",
    "for j in 1:n\n",
    "    Q[:,j] .= -1.0+0.01\n",
    "    err[1:j,1:j] .= 0\n",
    "    q_frame!(Q, err, anim)\n",
    "end\n",
    "q_frame!(Q, err, anim)\n",
    "gif(anim, fps=0.5)"
   ]
  },
  {
   "cell_type": "code",
   "execution_count": 8,
   "id": "f724f666",
   "metadata": {
    "cell_style": "split",
    "hideCode": true
   },
   "outputs": [
    {
     "data": {
      "text/html": [
       "<img src=\"data:image/gif;base64,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\" />"
      ],
      "text/plain": [
       "Plots.AnimatedGif(\"/home/tisaac/srv/rep/22-course-cse6643/mybinder/tmp.gif\")"
      ]
     },
     "execution_count": 8,
     "metadata": {},
     "output_type": "execute_result"
    }
   ],
   "source": [
    "Q = ones(m,n);\n",
    "err = ones(n,n);\n",
    "anim = Animation()\n",
    "q_frame!(Q, err, anim)\n",
    "for j in 1:n\n",
    "    Q[:,j] .= -1+0.02\n",
    "    Q[:,j+1:n] .= 1.0\n",
    "    Q[(mod(j,2)+1):2:end,j+1:n] .-= 0.1 \n",
    "    err[j,:] .= 0\n",
    "    err[:,j] .= 0\n",
    "    q_frame!(Q, err, anim)\n",
    "end\n",
    "q_frame!(Q, err, anim)\n",
    "gif(anim, fps=0.5)"
   ]
  },
  {
   "cell_type": "markdown",
   "id": "02fbfebc",
   "metadata": {
    "hideCode": false,
    "slideshow": {
     "slide_type": "subslide"
    }
   },
   "source": [
    "### Both algorithms construct $\\hat{Q}$ by a sequence of triangular factorizations $Z_i$"
   ]
  },
  {
   "cell_type": "code",
   "execution_count": 9,
   "id": "726eef61",
   "metadata": {
    "cell_style": "split",
    "hideCode": true
   },
   "outputs": [
    {
     "data": {
      "text/plain": [
       "\"Classical Gram-Schmidt\""
      ]
     },
     "metadata": {},
     "output_type": "display_data"
    },
    {
     "data": {
      "text/html": [
       "<img src=\"data:image/gif;base64,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\" />"
      ],
      "text/plain": [
       "Plots.AnimatedGif(\"/home/tisaac/srv/rep/22-course-cse6643/mybinder/tmp.gif\")"
      ]
     },
     "execution_count": 9,
     "metadata": {},
     "output_type": "execute_result"
    }
   ],
   "source": [
    "m = 7; n = 5;\n",
    "Q = ones(m,n);\n",
    "U = -0.5*Matrix(1.0*I,n,n);\n",
    "anim = Animation();\n",
    "function u_frame!(Q, U, anim)\n",
    "    qplot = imshow(Q)\n",
    "    plot!(qplot, colorbar=:legend, legend=false, title=\"Q\")\n",
    "    eplot = imshow(U, (-1,1))\n",
    "    plot!(eplot, colorbar=:legend, legend=false, title=\"Zᵢ\")\n",
    "    p = plot(qplot, eplot, layout=(1,2))\n",
    "    frame(anim, p)\n",
    "end\n",
    "u_frame!(Q, U, anim)\n",
    "for j in 1:n\n",
    "    Q[:,j] .= -1.0+0.01\n",
    "    U[:,:] = -0.5*Matrix(1.0*I,n,n)\n",
    "    U[j,j] = 1.0\n",
    "    U[1:j-1,j] .= -1.0\n",
    "    u_frame!(Q, U, anim)\n",
    "end\n",
    "u_frame!(Q, U, anim)\n",
    "display(\"Classical Gram-Schmidt\")\n",
    "gif(anim, fps=0.5)"
   ]
  },
  {
   "cell_type": "code",
   "execution_count": 10,
   "id": "75acdb08",
   "metadata": {
    "cell_style": "split",
    "hideCode": true
   },
   "outputs": [
    {
     "data": {
      "text/plain": [
       "\"Modified Gram-Schmidt\""
      ]
     },
     "metadata": {},
     "output_type": "display_data"
    },
    {
     "data": {
      "text/html": [
       "<img src=\"data:image/gif;base64,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\" />"
      ],
      "text/plain": [
       "Plots.AnimatedGif(\"/home/tisaac/srv/rep/22-course-cse6643/mybinder/tmp.gif\")"
      ]
     },
     "execution_count": 10,
     "metadata": {},
     "output_type": "execute_result"
    }
   ],
   "source": [
    "m = 7; n = 5;\n",
    "Q = ones(m,n);\n",
    "U = -0.5*Matrix(1.0*I,n,n);\n",
    "anim = Animation();\n",
    "u_frame!(Q, U, anim)\n",
    "for j in 1:n\n",
    "    Q[:,j:end] .= 1.0\n",
    "    Q[:,j] .= -1.0+0.01\n",
    "    Q[(mod(j,2)+1):2:end,j+1:end] .-= 0.1\n",
    "    U[:,:] = -0.5*Matrix(1.0*I,n,n)\n",
    "    U[j,j] = 1.0\n",
    "    U[j,j+1:n] .= -1.0\n",
    "    u_frame!(Q, U, anim)\n",
    "end\n",
    "u_frame!(Q, U, anim)\n",
    "display(\"Modified Gram-Schmidt\")\n",
    "gif(anim, fps=0.5)"
   ]
  },
  {
   "cell_type": "markdown",
   "id": "7377c41a",
   "metadata": {
    "slideshow": {
     "slide_type": "subslide"
    }
   },
   "source": [
    "### CGS is unstable; MGS is better but not as good as `qr`"
   ]
  },
  {
   "cell_type": "code",
   "execution_count": 11,
   "id": "8fda5818",
   "metadata": {
    "hideCode": true,
    "slideshow": {
     "slide_type": "-"
    }
   },
   "outputs": [
    {
     "data": {
      "image/svg+xml": [
       "<?xml version=\"1.0\" encoding=\"utf-8\"?>\n",
       "<svg xmlns=\"http://www.w3.org/2000/svg\" xmlns:xlink=\"http://www.w3.org/1999/xlink\" width=\"1300\" height=\"800\" viewBox=\"0 0 5200 3200\">\n",
       "<defs>\n",
       "  <clipPath id=\"clip690\">\n",
       "    <rect x=\"0\" y=\"0\" width=\"5200\" height=\"3200\"/>\n",
       "  </clipPath>\n",
       "</defs>\n",
       "<path clip-path=\"url(#clip690)\" d=\"\n",
       "M0 3200 L5200 3200 L5200 0 L0 0  Z\n",
       "  \" fill=\"#ffffff\" fill-rule=\"evenodd\" fill-opacity=\"1\"/>\n",
       "<defs>\n",
       "  <clipPath id=\"clip691\">\n",
       "    <rect x=\"1040\" y=\"0\" width=\"3641\" height=\"3200\"/>\n",
       "  </clipPath>\n",
       "</defs>\n",
       "<path clip-path=\"url(#clip690)\" d=\"\n",
       "M241.607 3013.49 L2552.76 3013.49 L2552.76 118.82 L241.607 118.82  Z\n",
       "  \" fill=\"#ffffff\" fill-rule=\"evenodd\" fill-opacity=\"1\"/>\n",
       "<defs>\n",
       "  <clipPath id=\"clip692\">\n",
       "    <rect x=\"241\" y=\"118\" width=\"2312\" height=\"2896\"/>\n",
       "  </clipPath>\n",
       "</defs>\n",
       "<polyline clip-path=\"url(#clip692)\" style=\"stroke:#000000; stroke-linecap:butt; stroke-linejoin:round; stroke-width:2; stroke-opacity:0.1; fill:none\" points=\"\n",
       "  445.298,3013.49 445.298,118.82 \n",
       "  \"/>\n",
       "<polyline clip-path=\"url(#clip692)\" style=\"stroke:#000000; stroke-linecap:butt; stroke-linejoin:round; stroke-width:2; stroke-opacity:0.1; fill:none\" points=\"\n",
       "  825.837,3013.49 825.837,118.82 \n",
       "  \"/>\n",
       "<polyline clip-path=\"url(#clip692)\" style=\"stroke:#000000; stroke-linecap:butt; stroke-linejoin:round; stroke-width:2; stroke-opacity:0.1; fill:none\" points=\"\n",
       "  1206.38,3013.49 1206.38,118.82 \n",
       "  \"/>\n",
       "<polyline clip-path=\"url(#clip692)\" style=\"stroke:#000000; stroke-linecap:butt; stroke-linejoin:round; stroke-width:2; stroke-opacity:0.1; fill:none\" points=\"\n",
       "  1586.92,3013.49 1586.92,118.82 \n",
       "  \"/>\n",
       "<polyline clip-path=\"url(#clip692)\" style=\"stroke:#000000; stroke-linecap:butt; stroke-linejoin:round; stroke-width:2; stroke-opacity:0.1; fill:none\" points=\"\n",
       "  1967.45,3013.49 1967.45,118.82 \n",
       "  \"/>\n",
       "<polyline clip-path=\"url(#clip692)\" style=\"stroke:#000000; stroke-linecap:butt; stroke-linejoin:round; stroke-width:2; stroke-opacity:0.1; fill:none\" points=\"\n",
       "  2347.99,3013.49 2347.99,118.82 \n",
       "  \"/>\n",
       "<polyline clip-path=\"url(#clip690)\" style=\"stroke:#000000; stroke-linecap:butt; stroke-linejoin:round; stroke-width:4; stroke-opacity:1; fill:none\" points=\"\n",
       "  241.607,3013.49 2552.76,3013.49 \n",
       "  \"/>\n",
       "<polyline clip-path=\"url(#clip690)\" style=\"stroke:#000000; stroke-linecap:butt; stroke-linejoin:round; stroke-width:4; stroke-opacity:1; fill:none\" points=\"\n",
       "  445.298,3013.49 445.298,2994.6 \n",
       "  \"/>\n",
       "<polyline clip-path=\"url(#clip690)\" style=\"stroke:#000000; stroke-linecap:butt; stroke-linejoin:round; stroke-width:4; stroke-opacity:1; fill:none\" points=\"\n",
       "  825.837,3013.49 825.837,2994.6 \n",
       "  \"/>\n",
       "<polyline clip-path=\"url(#clip690)\" style=\"stroke:#000000; stroke-linecap:butt; stroke-linejoin:round; stroke-width:4; stroke-opacity:1; fill:none\" points=\"\n",
       "  1206.38,3013.49 1206.38,2994.6 \n",
       "  \"/>\n",
       "<polyline clip-path=\"url(#clip690)\" style=\"stroke:#000000; stroke-linecap:butt; stroke-linejoin:round; stroke-width:4; stroke-opacity:1; fill:none\" points=\"\n",
       "  1586.92,3013.49 1586.92,2994.6 \n",
       "  \"/>\n",
       "<polyline clip-path=\"url(#clip690)\" style=\"stroke:#000000; stroke-linecap:butt; stroke-linejoin:round; stroke-width:4; stroke-opacity:1; fill:none\" points=\"\n",
       "  1967.45,3013.49 1967.45,2994.6 \n",
       "  \"/>\n",
       "<polyline clip-path=\"url(#clip690)\" style=\"stroke:#000000; stroke-linecap:butt; stroke-linejoin:round; stroke-width:4; stroke-opacity:1; fill:none\" points=\"\n",
       "  2347.99,3013.49 2347.99,2994.6 \n",
       "  \"/>\n",
       "<path clip-path=\"url(#clip690)\" d=\"M435.68 3094.36 L443.319 3094.36 L443.319 3067.99 L435.008 3069.66 L435.008 3065.4 L443.272 3063.73 L447.948 3063.73 L447.948 3094.36 L455.587 3094.36 L455.587 3098.29 L435.68 3098.29 L435.68 3094.36 Z\" fill=\"#000000\" fill-rule=\"evenodd\" fill-opacity=\"1\" /><path clip-path=\"url(#clip690)\" d=\"M820.49 3094.36 L836.809 3094.36 L836.809 3098.29 L814.865 3098.29 L814.865 3094.36 Q817.527 3091.6 822.11 3086.97 Q826.717 3082.32 827.897 3080.98 Q830.142 3078.46 831.022 3076.72 Q831.925 3074.96 831.925 3073.27 Q831.925 3070.52 829.98 3068.78 Q828.059 3067.04 824.957 3067.04 Q822.758 3067.04 820.305 3067.81 Q817.874 3068.57 815.096 3070.12 L815.096 3065.4 Q817.92 3064.27 820.374 3063.69 Q822.828 3063.11 824.865 3063.11 Q830.235 3063.11 833.429 3065.79 Q836.624 3068.48 836.624 3072.97 Q836.624 3075.1 835.814 3077.02 Q835.027 3078.92 832.92 3081.51 Q832.341 3082.18 829.24 3085.4 Q826.138 3088.59 820.49 3094.36 Z\" fill=\"#000000\" fill-rule=\"evenodd\" fill-opacity=\"1\" /><path clip-path=\"url(#clip690)\" d=\"M1210.62 3079.66 Q1213.98 3080.38 1215.86 3082.65 Q1217.75 3084.91 1217.75 3088.25 Q1217.75 3093.36 1214.23 3096.16 Q1210.72 3098.96 1204.23 3098.96 Q1202.06 3098.96 1199.74 3098.53 Q1197.45 3098.11 1195 3097.25 L1195 3092.74 Q1196.94 3093.87 1199.26 3094.45 Q1201.57 3095.03 1204.1 3095.03 Q1208.49 3095.03 1210.79 3093.29 Q1213.1 3091.56 1213.1 3088.25 Q1213.1 3085.19 1210.95 3083.48 Q1208.82 3081.74 1205 3081.74 L1200.97 3081.74 L1200.97 3077.9 L1205.18 3077.9 Q1208.63 3077.9 1210.46 3076.53 Q1212.29 3075.15 1212.29 3072.55 Q1212.29 3069.89 1210.39 3068.48 Q1208.52 3067.04 1205 3067.04 Q1203.08 3067.04 1200.88 3067.46 Q1198.68 3067.88 1196.04 3068.76 L1196.04 3064.59 Q1198.7 3063.85 1201.02 3063.48 Q1203.36 3063.11 1205.42 3063.11 Q1210.74 3063.11 1213.84 3065.54 Q1216.94 3067.95 1216.94 3072.07 Q1216.94 3074.94 1215.3 3076.93 Q1213.66 3078.9 1210.62 3079.66 Z\" fill=\"#000000\" fill-rule=\"evenodd\" fill-opacity=\"1\" /><path clip-path=\"url(#clip690)\" d=\"M1589.92 3067.81 L1578.12 3086.26 L1589.92 3086.26 L1589.92 3067.81 M1588.7 3063.73 L1594.58 3063.73 L1594.58 3086.26 L1599.51 3086.26 L1599.51 3090.15 L1594.58 3090.15 L1594.58 3098.29 L1589.92 3098.29 L1589.92 3090.15 L1574.32 3090.15 L1574.32 3085.63 L1588.7 3063.73 Z\" fill=\"#000000\" fill-rule=\"evenodd\" fill-opacity=\"1\" /><path clip-path=\"url(#clip690)\" d=\"M1957.73 3063.73 L1976.09 3063.73 L1976.09 3067.67 L1962.01 3067.67 L1962.01 3076.14 Q1963.03 3075.79 1964.05 3075.63 Q1965.07 3075.45 1966.09 3075.45 Q1971.88 3075.45 1975.26 3078.62 Q1978.63 3081.79 1978.63 3087.21 Q1978.63 3092.78 1975.16 3095.89 Q1971.69 3098.96 1965.37 3098.96 Q1963.2 3098.96 1960.93 3098.59 Q1958.68 3098.22 1956.27 3097.48 L1956.27 3092.78 Q1958.36 3093.92 1960.58 3094.47 Q1962.8 3095.03 1965.28 3095.03 Q1969.28 3095.03 1971.62 3092.92 Q1973.96 3090.82 1973.96 3087.21 Q1973.96 3083.59 1971.62 3081.49 Q1969.28 3079.38 1965.28 3079.38 Q1963.4 3079.38 1961.53 3079.8 Q1959.68 3080.22 1957.73 3081.09 L1957.73 3063.73 Z\" fill=\"#000000\" fill-rule=\"evenodd\" fill-opacity=\"1\" /><path clip-path=\"url(#clip690)\" d=\"M2348.4 3079.15 Q2345.25 3079.15 2343.4 3081.3 Q2341.57 3083.46 2341.57 3087.21 Q2341.57 3090.93 2343.4 3093.11 Q2345.25 3095.26 2348.4 3095.26 Q2351.55 3095.26 2353.38 3093.11 Q2355.23 3090.93 2355.23 3087.21 Q2355.23 3083.46 2353.38 3081.3 Q2351.55 3079.15 2348.4 3079.15 M2357.68 3064.5 L2357.68 3068.76 Q2355.92 3067.92 2354.12 3067.48 Q2352.33 3067.04 2350.57 3067.04 Q2345.94 3067.04 2343.49 3070.17 Q2341.06 3073.29 2340.71 3079.61 Q2342.08 3077.6 2344.14 3076.53 Q2346.2 3075.45 2348.68 3075.45 Q2353.88 3075.45 2356.89 3078.62 Q2359.93 3081.77 2359.93 3087.21 Q2359.93 3092.53 2356.78 3095.75 Q2353.63 3098.96 2348.4 3098.96 Q2342.4 3098.96 2339.23 3094.38 Q2336.06 3089.78 2336.06 3081.05 Q2336.06 3072.85 2339.95 3067.99 Q2343.84 3063.11 2350.39 3063.11 Q2352.15 3063.11 2353.93 3063.46 Q2355.74 3063.8 2357.68 3064.5 Z\" fill=\"#000000\" fill-rule=\"evenodd\" fill-opacity=\"1\" /><path clip-path=\"url(#clip690)\" d=\"M1122.93 3152.84 L1129.36 3152.84 L1129.36 3172.92 L1150.69 3152.84 L1158.96 3152.84 L1135.38 3174.99 L1160.65 3200.36 L1152.18 3200.36 L1129.36 3177.47 L1129.36 3200.36 L1122.93 3200.36 L1122.93 3152.84 Z\" fill=\"#000000\" fill-rule=\"evenodd\" fill-opacity=\"1\" /><path clip-path=\"url(#clip690)\" d=\"M1180.48 3182.44 Q1173.38 3182.44 1170.64 3184.06 Q1167.9 3185.68 1167.9 3189.6 Q1167.9 3192.72 1169.94 3194.56 Q1172.01 3196.38 1175.54 3196.38 Q1180.41 3196.38 1183.34 3192.94 Q1186.3 3189.47 1186.3 3183.74 L1186.3 3182.44 L1180.48 3182.44 M1192.16 3180.02 L1192.16 3200.36 L1186.3 3200.36 L1186.3 3194.95 Q1184.3 3198.19 1181.3 3199.75 Q1178.31 3201.28 1173.98 3201.28 Q1168.51 3201.28 1165.26 3198.23 Q1162.05 3195.14 1162.05 3189.98 Q1162.05 3183.97 1166.06 3180.91 Q1170.1 3177.85 1178.09 3177.85 L1186.3 3177.85 L1186.3 3177.28 Q1186.3 3173.24 1183.63 3171.04 Q1180.99 3168.82 1176.18 3168.82 Q1173.12 3168.82 1170.23 3169.55 Q1167.33 3170.28 1164.66 3171.74 L1164.66 3166.33 Q1167.87 3165.09 1170.9 3164.49 Q1173.92 3163.85 1176.79 3163.85 Q1184.52 3163.85 1188.34 3167.86 Q1192.16 3171.87 1192.16 3180.02 Z\" fill=\"#000000\" fill-rule=\"evenodd\" fill-opacity=\"1\" /><path clip-path=\"url(#clip690)\" d=\"M1233.85 3178.84 L1233.85 3200.36 L1228 3200.36 L1228 3179.03 Q1228 3173.97 1226.02 3171.46 Q1224.05 3168.94 1220.1 3168.94 Q1215.36 3168.94 1212.62 3171.97 Q1209.89 3174.99 1209.89 3180.21 L1209.89 3200.36 L1204 3200.36 L1204 3150.83 L1209.89 3150.83 L1209.89 3170.25 Q1211.99 3167.03 1214.82 3165.44 Q1217.68 3163.85 1221.41 3163.85 Q1227.55 3163.85 1230.7 3167.67 Q1233.85 3171.46 1233.85 3178.84 Z\" fill=\"#000000\" fill-rule=\"evenodd\" fill-opacity=\"1\" /><path clip-path=\"url(#clip690)\" d=\"M1261.74 3182.44 Q1254.64 3182.44 1251.9 3184.06 Q1249.16 3185.68 1249.16 3189.6 Q1249.16 3192.72 1251.2 3194.56 Q1253.27 3196.38 1256.8 3196.38 Q1261.67 3196.38 1264.6 3192.94 Q1267.56 3189.47 1267.56 3183.74 L1267.56 3182.44 L1261.74 3182.44 M1273.42 3180.02 L1273.42 3200.36 L1267.56 3200.36 L1267.56 3194.95 Q1265.55 3198.19 1262.56 3199.75 Q1259.57 3201.28 1255.24 3201.28 Q1249.77 3201.28 1246.52 3198.23 Q1243.31 3195.14 1243.31 3189.98 Q1243.31 3183.97 1247.32 3180.91 Q1251.36 3177.85 1259.35 3177.85 L1267.56 3177.85 L1267.56 3177.28 Q1267.56 3173.24 1264.89 3171.04 Q1262.24 3168.82 1257.44 3168.82 Q1254.38 3168.82 1251.49 3169.55 Q1248.59 3170.28 1245.92 3171.74 L1245.92 3166.33 Q1249.13 3165.09 1252.15 3164.49 Q1255.18 3163.85 1258.04 3163.85 Q1265.78 3163.85 1269.6 3167.86 Q1273.42 3171.87 1273.42 3180.02 Z\" fill=\"#000000\" fill-rule=\"evenodd\" fill-opacity=\"1\" /><path clip-path=\"url(#clip690)\" d=\"M1315.11 3178.84 L1315.11 3200.36 L1309.26 3200.36 L1309.26 3179.03 Q1309.26 3173.97 1307.28 3171.46 Q1305.31 3168.94 1301.36 3168.94 Q1296.62 3168.94 1293.88 3171.97 Q1291.14 3174.99 1291.14 3180.21 L1291.14 3200.36 L1285.26 3200.36 L1285.26 3164.71 L1291.14 3164.71 L1291.14 3170.25 Q1293.25 3167.03 1296.08 3165.44 Q1298.94 3163.85 1302.67 3163.85 Q1308.81 3163.85 1311.96 3167.67 Q1315.11 3171.46 1315.11 3178.84 Z\" fill=\"#000000\" fill-rule=\"evenodd\" fill-opacity=\"1\" /><path clip-path=\"url(#clip690)\" d=\"M1375.27 3171.55 Q1377.46 3167.61 1380.52 3165.73 Q1383.57 3163.85 1387.71 3163.85 Q1393.28 3163.85 1396.31 3167.77 Q1399.33 3171.65 1399.33 3178.84 L1399.33 3200.36 L1393.44 3200.36 L1393.44 3179.03 Q1393.44 3173.91 1391.63 3171.43 Q1389.81 3168.94 1386.09 3168.94 Q1381.54 3168.94 1378.9 3171.97 Q1376.25 3174.99 1376.25 3180.21 L1376.25 3200.36 L1370.37 3200.36 L1370.37 3179.03 Q1370.37 3173.88 1368.55 3171.43 Q1366.74 3168.94 1362.95 3168.94 Q1358.46 3168.94 1355.82 3172 Q1353.18 3175.02 1353.18 3180.21 L1353.18 3200.36 L1347.29 3200.36 L1347.29 3164.71 L1353.18 3164.71 L1353.18 3170.25 Q1355.18 3166.97 1357.98 3165.41 Q1360.79 3163.85 1364.64 3163.85 Q1368.52 3163.85 1371.23 3165.82 Q1373.96 3167.8 1375.27 3171.55 Z\" fill=\"#000000\" fill-rule=\"evenodd\" fill-opacity=\"1\" /><path clip-path=\"url(#clip690)\" d=\"M1427.21 3182.44 Q1420.11 3182.44 1417.38 3184.06 Q1414.64 3185.68 1414.64 3189.6 Q1414.64 3192.72 1416.68 3194.56 Q1418.75 3196.38 1422.28 3196.38 Q1427.15 3196.38 1430.08 3192.94 Q1433.04 3189.47 1433.04 3183.74 L1433.04 3182.44 L1427.21 3182.44 M1438.89 3180.02 L1438.89 3200.36 L1433.04 3200.36 L1433.04 3194.95 Q1431.03 3198.19 1428.04 3199.75 Q1425.05 3201.28 1420.72 3201.28 Q1415.24 3201.28 1412 3198.23 Q1408.78 3195.14 1408.78 3189.98 Q1408.78 3183.97 1412.79 3180.91 Q1416.84 3177.85 1424.82 3177.85 L1433.04 3177.85 L1433.04 3177.28 Q1433.04 3173.24 1430.36 3171.04 Q1427.72 3168.82 1422.92 3168.82 Q1419.86 3168.82 1416.96 3169.55 Q1414.07 3170.28 1411.39 3171.74 L1411.39 3166.33 Q1414.61 3165.09 1417.63 3164.49 Q1420.66 3163.85 1423.52 3163.85 Q1431.25 3163.85 1435.07 3167.86 Q1438.89 3171.87 1438.89 3180.02 Z\" fill=\"#000000\" fill-rule=\"evenodd\" fill-opacity=\"1\" /><path clip-path=\"url(#clip690)\" d=\"M1456.75 3154.59 L1456.75 3164.71 L1468.81 3164.71 L1468.81 3169.26 L1456.75 3169.26 L1456.75 3188.61 Q1456.75 3192.97 1457.93 3194.21 Q1459.14 3195.46 1462.8 3195.46 L1468.81 3195.46 L1468.81 3200.36 L1462.8 3200.36 Q1456.02 3200.36 1453.44 3197.84 Q1450.86 3195.3 1450.86 3188.61 L1450.86 3169.26 L1446.56 3169.26 L1446.56 3164.71 L1450.86 3164.71 L1450.86 3154.59 L1456.75 3154.59 Z\" fill=\"#000000\" fill-rule=\"evenodd\" fill-opacity=\"1\" /><path clip-path=\"url(#clip690)\" d=\"M1497.17 3170.18 Q1496.18 3169.61 1495.01 3169.36 Q1493.86 3169.07 1492.46 3169.07 Q1487.5 3169.07 1484.82 3172.32 Q1482.18 3175.53 1482.18 3181.58 L1482.18 3200.36 L1476.29 3200.36 L1476.29 3164.71 L1482.18 3164.71 L1482.18 3170.25 Q1484.03 3167 1486.99 3165.44 Q1489.95 3163.85 1494.18 3163.85 Q1494.78 3163.85 1495.52 3163.95 Q1496.25 3164.01 1497.14 3164.17 L1497.17 3170.18 Z\" fill=\"#000000\" fill-rule=\"evenodd\" fill-opacity=\"1\" /><path clip-path=\"url(#clip690)\" d=\"M1503.31 3164.71 L1509.17 3164.71 L1509.17 3200.36 L1503.31 3200.36 L1503.31 3164.71 M1503.31 3150.83 L1509.17 3150.83 L1509.17 3158.25 L1503.31 3158.25 L1503.31 3150.83 Z\" fill=\"#000000\" fill-rule=\"evenodd\" fill-opacity=\"1\" /><path clip-path=\"url(#clip690)\" d=\"M1551.06 3164.71 L1538.17 3182.06 L1551.73 3200.36 L1544.82 3200.36 L1534.44 3186.35 L1524.07 3200.36 L1517.16 3200.36 L1531 3181.71 L1518.34 3164.71 L1525.24 3164.71 L1534.7 3177.41 L1544.15 3164.71 L1551.06 3164.71 Z\" fill=\"#000000\" fill-rule=\"evenodd\" fill-opacity=\"1\" /><path clip-path=\"url(#clip690)\" d=\"M1604.66 3177.76 L1584.38 3177.76 Q1584.86 3187.28 1587.05 3191.32 Q1589.79 3196.28 1594.53 3196.28 Q1599.31 3196.28 1601.95 3191.29 Q1604.27 3186.89 1604.66 3177.76 M1604.56 3172.35 Q1603.67 3163.31 1601.95 3160.13 Q1599.21 3155.1 1594.53 3155.1 Q1589.66 3155.1 1587.09 3160.06 Q1585.05 3164.07 1584.44 3172.35 L1604.56 3172.35 M1594.53 3150.32 Q1602.17 3150.32 1606.53 3157.07 Q1610.89 3163.79 1610.89 3175.69 Q1610.89 3187.56 1606.53 3194.31 Q1602.17 3201.09 1594.53 3201.09 Q1586.86 3201.09 1582.54 3194.31 Q1578.17 3187.56 1578.17 3175.69 Q1578.17 3163.79 1582.54 3157.07 Q1586.86 3150.32 1594.53 3150.32 Z\" fill=\"#000000\" fill-rule=\"evenodd\" fill-opacity=\"1\" /><path clip-path=\"url(#clip690)\" d=\"M1618.82 3166.14 L1644.51 3166.14 L1644.51 3169.17 L1618.82 3169.17 L1618.82 3166.14 Z\" fill=\"#000000\" fill-rule=\"evenodd\" fill-opacity=\"1\" /><path clip-path=\"url(#clip690)\" d=\"M1653.83 3175.6 L1660.32 3175.6 L1660.32 3156.15 L1653.23 3157.45 L1653.23 3153.76 L1660.55 3152.52 L1664.91 3152.52 L1664.91 3175.6 L1671.43 3175.6 L1671.43 3179.1 L1653.83 3179.1 L1653.83 3175.6 Z\" fill=\"#000000\" fill-rule=\"evenodd\" fill-opacity=\"1\" /><polyline clip-path=\"url(#clip692)\" style=\"stroke:#000000; stroke-linecap:butt; stroke-linejoin:round; stroke-width:2; stroke-opacity:0.1; fill:none\" points=\"\n",
       "  241.607,1669.83 2552.76,1669.83 \n",
       "  \"/>\n",
       "<polyline clip-path=\"url(#clip692)\" style=\"stroke:#000000; stroke-linecap:butt; stroke-linejoin:round; stroke-width:2; stroke-opacity:0.1; fill:none\" points=\"\n",
       "  241.607,169.29 2552.76,169.29 \n",
       "  \"/>\n",
       "<polyline clip-path=\"url(#clip690)\" style=\"stroke:#000000; stroke-linecap:butt; stroke-linejoin:round; stroke-width:4; stroke-opacity:1; fill:none\" points=\"\n",
       "  241.607,3013.49 241.607,118.82 \n",
       "  \"/>\n",
       "<polyline clip-path=\"url(#clip690)\" style=\"stroke:#000000; stroke-linecap:butt; stroke-linejoin:round; stroke-width:4; stroke-opacity:1; fill:none\" points=\"\n",
       "  241.607,1669.83 260.505,1669.83 \n",
       "  \"/>\n",
       "<polyline clip-path=\"url(#clip690)\" style=\"stroke:#000000; stroke-linecap:butt; stroke-linejoin:round; stroke-width:4; stroke-opacity:1; fill:none\" points=\"\n",
       "  241.607,169.29 260.505,169.29 \n",
       "  \"/>\n",
       "<path clip-path=\"url(#clip690)\" d=\"M37.6634 1689.62 L45.3023 1689.62 L45.3023 1663.25 L36.9921 1664.92 L36.9921 1660.66 L45.256 1658.99 L49.9319 1658.99 L49.9319 1689.62 L57.5707 1689.62 L57.5707 1693.55 L37.6634 1693.55 L37.6634 1689.62 Z\" fill=\"#000000\" fill-rule=\"evenodd\" fill-opacity=\"1\" /><path clip-path=\"url(#clip690)\" d=\"M77.0151 1662.07 Q73.404 1662.07 71.5753 1665.64 Q69.7697 1669.18 69.7697 1676.31 Q69.7697 1683.41 71.5753 1686.98 Q73.404 1690.52 77.0151 1690.52 Q80.6493 1690.52 82.4548 1686.98 Q84.2835 1683.41 84.2835 1676.31 Q84.2835 1669.18 82.4548 1665.64 Q80.6493 1662.07 77.0151 1662.07 M77.0151 1658.37 Q82.8252 1658.37 85.8808 1662.97 Q88.9594 1667.56 88.9594 1676.31 Q88.9594 1685.03 85.8808 1689.64 Q82.8252 1694.22 77.0151 1694.22 Q71.2049 1694.22 68.1262 1689.64 Q65.0707 1685.03 65.0707 1676.31 Q65.0707 1667.56 68.1262 1662.97 Q71.2049 1658.37 77.0151 1658.37 Z\" fill=\"#000000\" fill-rule=\"evenodd\" fill-opacity=\"1\" /><path clip-path=\"url(#clip690)\" d=\"M88.9594 1652.47 L113.071 1652.47 L113.071 1655.67 L88.9594 1655.67 L88.9594 1652.47 Z\" fill=\"#000000\" fill-rule=\"evenodd\" fill-opacity=\"1\" /><path clip-path=\"url(#clip690)\" d=\"M121.929 1662.95 L128.136 1662.95 L128.136 1641.52 L121.384 1642.88 L121.384 1639.42 L128.098 1638.06 L131.898 1638.06 L131.898 1662.95 L138.104 1662.95 L138.104 1666.14 L121.929 1666.14 L121.929 1662.95 Z\" fill=\"#000000\" fill-rule=\"evenodd\" fill-opacity=\"1\" /><path clip-path=\"url(#clip690)\" d=\"M153.903 1640.56 Q150.969 1640.56 149.483 1643.46 Q148.016 1646.34 148.016 1652.13 Q148.016 1657.9 149.483 1660.8 Q150.969 1663.68 153.903 1663.68 Q156.855 1663.68 158.322 1660.8 Q159.808 1657.9 159.808 1652.13 Q159.808 1646.34 158.322 1643.46 Q156.855 1640.56 153.903 1640.56 M153.903 1637.55 Q158.623 1637.55 161.106 1641.3 Q163.607 1645.02 163.607 1652.13 Q163.607 1659.22 161.106 1662.96 Q158.623 1666.69 153.903 1666.69 Q149.182 1666.69 146.68 1662.96 Q144.198 1659.22 144.198 1652.13 Q144.198 1645.02 146.68 1641.3 Q149.182 1637.55 153.903 1637.55 Z\" fill=\"#000000\" fill-rule=\"evenodd\" fill-opacity=\"1\" /><path clip-path=\"url(#clip690)\" d=\"M92.9018 189.082 L100.541 189.082 L100.541 162.717 L92.2305 164.383 L92.2305 160.124 L100.494 158.457 L105.17 158.457 L105.17 189.082 L112.809 189.082 L112.809 193.017 L92.9018 193.017 L92.9018 189.082 Z\" fill=\"#000000\" fill-rule=\"evenodd\" fill-opacity=\"1\" /><path clip-path=\"url(#clip690)\" d=\"M132.253 161.536 Q128.642 161.536 126.814 165.101 Q125.008 168.643 125.008 175.772 Q125.008 182.879 126.814 186.443 Q128.642 189.985 132.253 189.985 Q135.888 189.985 137.693 186.443 Q139.522 182.879 139.522 175.772 Q139.522 168.643 137.693 165.101 Q135.888 161.536 132.253 161.536 M132.253 157.832 Q138.064 157.832 141.119 162.439 Q144.198 167.022 144.198 175.772 Q144.198 184.499 141.119 189.105 Q138.064 193.689 132.253 193.689 Q126.443 193.689 123.365 189.105 Q120.309 184.499 120.309 175.772 Q120.309 167.022 123.365 162.439 Q126.443 157.832 132.253 157.832 Z\" fill=\"#000000\" fill-rule=\"evenodd\" fill-opacity=\"1\" /><path clip-path=\"url(#clip690)\" d=\"M153.903 140.028 Q150.969 140.028 149.483 142.925 Q148.016 145.802 148.016 151.595 Q148.016 157.369 149.483 160.266 Q150.969 163.143 153.903 163.143 Q156.855 163.143 158.322 160.266 Q159.808 157.369 159.808 151.595 Q159.808 145.802 158.322 142.925 Q156.855 140.028 153.903 140.028 M153.903 137.019 Q158.623 137.019 161.106 140.762 Q163.607 144.486 163.607 151.595 Q163.607 158.686 161.106 162.428 Q158.623 166.152 153.903 166.152 Q149.182 166.152 146.68 162.428 Q144.198 158.686 144.198 151.595 Q144.198 144.486 146.68 140.762 Q149.182 137.019 153.903 137.019 Z\" fill=\"#000000\" fill-rule=\"evenodd\" fill-opacity=\"1\" /><path clip-path=\"url(#clip690)\" d=\"M955.734 16.7545 L955.734 25.383 Q951.602 21.5346 946.903 19.6307 Q942.245 17.7268 936.979 17.7268 Q926.608 17.7268 921.099 24.0867 Q915.59 30.4061 915.59 42.3968 Q915.59 54.3469 921.099 60.7069 Q926.608 67.0263 936.979 67.0263 Q942.245 67.0263 946.903 65.1223 Q951.602 63.2184 955.734 59.3701 L955.734 67.9175 Q951.44 70.8341 946.62 72.2924 Q941.84 73.7508 936.493 73.7508 Q922.76 73.7508 914.861 65.3654 Q906.962 56.9395 906.962 42.3968 Q906.962 27.8135 914.861 19.4281 Q922.76 11.0023 936.493 11.0023 Q941.921 11.0023 946.701 12.4606 Q951.521 13.8784 955.734 16.7545 Z\" fill=\"#000000\" fill-rule=\"evenodd\" fill-opacity=\"1\" /><path clip-path=\"url(#clip690)\" d=\"M968.049 9.54393 L975.503 9.54393 L975.503 72.576 L968.049 72.576 L968.049 9.54393 Z\" fill=\"#000000\" fill-rule=\"evenodd\" fill-opacity=\"1\" /><path clip-path=\"url(#clip690)\" d=\"M1011.72 49.7694 Q1002.68 49.7694 999.201 51.8354 Q995.717 53.9013 995.717 58.8839 Q995.717 62.8538 998.309 65.2034 Q1000.94 67.5124 1005.44 67.5124 Q1011.64 67.5124 1015.36 63.1374 Q1019.13 58.7219 1019.13 51.4303 L1019.13 49.7694 L1011.72 49.7694 M1026.58 46.6907 L1026.58 72.576 L1019.13 72.576 L1019.13 65.6895 Q1016.58 69.8214 1012.77 71.8063 Q1008.96 73.7508 1003.45 73.7508 Q996.487 73.7508 992.355 69.8619 Q988.263 65.9325 988.263 59.3701 Q988.263 51.7138 993.367 47.825 Q998.512 43.9361 1008.68 43.9361 L1019.13 43.9361 L1019.13 43.2069 Q1019.13 38.0623 1015.73 35.2672 Q1012.37 32.4315 1006.25 32.4315 Q1002.36 32.4315 998.674 33.3632 Q994.988 34.295 991.585 36.1584 L991.585 29.2718 Q995.676 27.692 999.525 26.9223 Q1003.37 26.1121 1007.02 26.1121 Q1016.86 26.1121 1021.72 31.2163 Q1026.58 36.3204 1026.58 46.6907 Z\" fill=\"#000000\" fill-rule=\"evenodd\" fill-opacity=\"1\" /><path clip-path=\"url(#clip690)\" d=\"M1070.86 28.5427 L1070.86 35.5912 Q1067.7 33.9709 1064.3 33.1607 Q1060.9 32.3505 1057.25 32.3505 Q1051.7 32.3505 1048.91 34.0519 Q1046.15 35.7533 1046.15 39.156 Q1046.15 41.7486 1048.14 43.2475 Q1050.12 44.7058 1056.12 46.0426 L1058.67 46.6097 Q1066.61 48.3111 1069.93 51.4303 Q1073.29 54.509 1073.29 60.0587 Q1073.29 66.3781 1068.27 70.0644 Q1063.29 73.7508 1054.54 73.7508 Q1050.89 73.7508 1046.92 73.0216 Q1042.99 72.3329 1038.62 70.9151 L1038.62 63.2184 Q1042.75 65.3654 1046.76 66.4591 Q1050.77 67.5124 1054.7 67.5124 Q1059.96 67.5124 1062.8 65.73 Q1065.64 63.9071 1065.64 60.6258 Q1065.64 57.5877 1063.57 55.9673 Q1061.54 54.3469 1054.62 52.8481 L1052.02 52.2405 Q1045.1 50.7821 1042.02 47.7845 Q1038.94 44.7463 1038.94 39.4801 Q1038.94 33.0797 1043.48 29.5959 Q1048.01 26.1121 1056.36 26.1121 Q1060.49 26.1121 1064.14 26.7198 Q1067.78 27.3274 1070.86 28.5427 Z\" fill=\"#000000\" fill-rule=\"evenodd\" fill-opacity=\"1\" /><path clip-path=\"url(#clip690)\" d=\"M1114.08 28.5427 L1114.08 35.5912 Q1110.92 33.9709 1107.52 33.1607 Q1104.12 32.3505 1100.47 32.3505 Q1094.92 32.3505 1092.13 34.0519 Q1089.37 35.7533 1089.37 39.156 Q1089.37 41.7486 1091.36 43.2475 Q1093.34 44.7058 1099.34 46.0426 L1101.89 46.6097 Q1109.83 48.3111 1113.15 51.4303 Q1116.51 54.509 1116.51 60.0587 Q1116.51 66.3781 1111.49 70.0644 Q1106.51 73.7508 1097.76 73.7508 Q1094.11 73.7508 1090.14 73.0216 Q1086.21 72.3329 1081.84 70.9151 L1081.84 63.2184 Q1085.97 65.3654 1089.98 66.4591 Q1093.99 67.5124 1097.92 67.5124 Q1103.19 67.5124 1106.02 65.73 Q1108.86 63.9071 1108.86 60.6258 Q1108.86 57.5877 1106.79 55.9673 Q1104.77 54.3469 1097.84 52.8481 L1095.25 52.2405 Q1088.32 50.7821 1085.24 47.7845 Q1082.16 44.7463 1082.16 39.4801 Q1082.16 33.0797 1086.7 29.5959 Q1091.24 26.1121 1099.58 26.1121 Q1103.71 26.1121 1107.36 26.7198 Q1111.01 27.3274 1114.08 28.5427 Z\" fill=\"#000000\" fill-rule=\"evenodd\" fill-opacity=\"1\" /><path clip-path=\"url(#clip690)\" d=\"M1128.38 27.2059 L1135.84 27.2059 L1135.84 72.576 L1128.38 72.576 L1128.38 27.2059 M1128.38 9.54393 L1135.84 9.54393 L1135.84 18.9825 L1128.38 18.9825 L1128.38 9.54393 Z\" fill=\"#000000\" fill-rule=\"evenodd\" fill-opacity=\"1\" /><path clip-path=\"url(#clip690)\" d=\"M1184.08 28.9478 L1184.08 35.9153 Q1180.92 34.1734 1177.72 33.3227 Q1174.56 32.4315 1171.32 32.4315 Q1164.07 32.4315 1160.06 37.0496 Q1156.05 41.6271 1156.05 49.9314 Q1156.05 58.2358 1160.06 62.8538 Q1164.07 67.4314 1171.32 67.4314 Q1174.56 67.4314 1177.72 66.5807 Q1180.92 65.6895 1184.08 63.9476 L1184.08 70.8341 Q1180.96 72.2924 1177.6 73.0216 Q1174.28 73.7508 1170.51 73.7508 Q1160.26 73.7508 1154.23 67.3098 Q1148.19 60.8689 1148.19 49.9314 Q1148.19 38.832 1154.27 32.472 Q1160.39 26.1121 1171 26.1121 Q1174.44 26.1121 1177.72 26.8413 Q1181.01 27.5299 1184.08 28.9478 Z\" fill=\"#000000\" fill-rule=\"evenodd\" fill-opacity=\"1\" /><path clip-path=\"url(#clip690)\" d=\"M1217.67 49.7694 Q1208.63 49.7694 1205.15 51.8354 Q1201.66 53.9013 1201.66 58.8839 Q1201.66 62.8538 1204.26 65.2034 Q1206.89 67.5124 1211.39 67.5124 Q1217.58 67.5124 1221.31 63.1374 Q1225.08 58.7219 1225.08 51.4303 L1225.08 49.7694 L1217.67 49.7694 M1232.53 46.6907 L1232.53 72.576 L1225.08 72.576 L1225.08 65.6895 Q1222.53 69.8214 1218.72 71.8063 Q1214.91 73.7508 1209.4 73.7508 Q1202.43 73.7508 1198.3 69.8619 Q1194.21 65.9325 1194.21 59.3701 Q1194.21 51.7138 1199.32 47.825 Q1204.46 43.9361 1214.63 43.9361 L1225.08 43.9361 L1225.08 43.2069 Q1225.08 38.0623 1221.68 35.2672 Q1218.31 32.4315 1212.2 32.4315 Q1208.31 32.4315 1204.62 33.3632 Q1200.94 34.295 1197.53 36.1584 L1197.53 29.2718 Q1201.62 27.692 1205.47 26.9223 Q1209.32 26.1121 1212.97 26.1121 Q1222.81 26.1121 1227.67 31.2163 Q1232.53 36.3204 1232.53 46.6907 Z\" fill=\"#000000\" fill-rule=\"evenodd\" fill-opacity=\"1\" /><path clip-path=\"url(#clip690)\" d=\"M1247.89 9.54393 L1255.34 9.54393 L1255.34 72.576 L1247.89 72.576 L1247.89 9.54393 Z\" fill=\"#000000\" fill-rule=\"evenodd\" fill-opacity=\"1\" /><path clip-path=\"url(#clip690)\" d=\"M1338.87 63.9476 L1338.87 47.7034 L1325.5 47.7034 L1325.5 40.9789 L1346.97 40.9789 L1346.97 66.9452 Q1342.23 70.3075 1336.52 72.0494 Q1330.81 73.7508 1324.33 73.7508 Q1310.15 73.7508 1302.13 65.4869 Q1294.15 57.1826 1294.15 42.3968 Q1294.15 27.5705 1302.13 19.3066 Q1310.15 11.0023 1324.33 11.0023 Q1330.24 11.0023 1335.55 12.4606 Q1340.89 13.9189 1345.39 16.7545 L1345.39 25.464 Q1340.85 21.6156 1335.75 19.6712 Q1330.65 17.7268 1325.01 17.7268 Q1313.92 17.7268 1308.33 23.9246 Q1302.78 30.1225 1302.78 42.3968 Q1302.78 54.6305 1308.33 60.8284 Q1313.92 67.0263 1325.01 67.0263 Q1329.35 67.0263 1332.75 66.2971 Q1336.15 65.5274 1338.87 63.9476 Z\" fill=\"#000000\" fill-rule=\"evenodd\" fill-opacity=\"1\" /><path clip-path=\"url(#clip690)\" d=\"M1387.88 34.1734 Q1386.63 33.4443 1385.13 33.1202 Q1383.67 32.7556 1381.89 32.7556 Q1375.57 32.7556 1372.17 36.8875 Q1368.81 40.9789 1368.81 48.6757 L1368.81 72.576 L1361.31 72.576 L1361.31 27.2059 L1368.81 27.2059 L1368.81 34.2544 Q1371.15 30.1225 1374.92 28.1376 Q1378.69 26.1121 1384.08 26.1121 Q1384.85 26.1121 1385.78 26.2337 Q1386.71 26.3147 1387.84 26.5172 L1387.88 34.1734 Z\" fill=\"#000000\" fill-rule=\"evenodd\" fill-opacity=\"1\" /><path clip-path=\"url(#clip690)\" d=\"M1416.32 49.7694 Q1407.29 49.7694 1403.8 51.8354 Q1400.32 53.9013 1400.32 58.8839 Q1400.32 62.8538 1402.91 65.2034 Q1405.55 67.5124 1410.04 67.5124 Q1416.24 67.5124 1419.97 63.1374 Q1423.74 58.7219 1423.74 51.4303 L1423.74 49.7694 L1416.32 49.7694 M1431.19 46.6907 L1431.19 72.576 L1423.74 72.576 L1423.74 65.6895 Q1421.18 69.8214 1417.38 71.8063 Q1413.57 73.7508 1408.06 73.7508 Q1401.09 73.7508 1396.96 69.8619 Q1392.87 65.9325 1392.87 59.3701 Q1392.87 51.7138 1397.97 47.825 Q1403.12 43.9361 1413.28 43.9361 L1423.74 43.9361 L1423.74 43.2069 Q1423.74 38.0623 1420.33 35.2672 Q1416.97 32.4315 1410.85 32.4315 Q1406.96 32.4315 1403.28 33.3632 Q1399.59 34.295 1396.19 36.1584 L1396.19 29.2718 Q1400.28 27.692 1404.13 26.9223 Q1407.98 26.1121 1411.62 26.1121 Q1421.47 26.1121 1426.33 31.2163 Q1431.19 36.3204 1431.19 46.6907 Z\" fill=\"#000000\" fill-rule=\"evenodd\" fill-opacity=\"1\" /><path clip-path=\"url(#clip690)\" d=\"M1481.87 35.9153 Q1484.66 30.8922 1488.55 28.5022 Q1492.44 26.1121 1497.7 26.1121 Q1504.79 26.1121 1508.64 31.0947 Q1512.49 36.0368 1512.49 45.1919 L1512.49 72.576 L1505 72.576 L1505 45.4349 Q1505 38.913 1502.69 35.7533 Q1500.38 32.5936 1495.64 32.5936 Q1489.85 32.5936 1486.48 36.4419 Q1483.12 40.2903 1483.12 46.9338 L1483.12 72.576 L1475.63 72.576 L1475.63 45.4349 Q1475.63 38.8725 1473.32 35.7533 Q1471.01 32.5936 1466.19 32.5936 Q1460.48 32.5936 1457.11 36.4824 Q1453.75 40.3308 1453.75 46.9338 L1453.75 72.576 L1446.26 72.576 L1446.26 27.2059 L1453.75 27.2059 L1453.75 34.2544 Q1456.3 30.082 1459.87 28.0971 Q1463.43 26.1121 1468.34 26.1121 Q1473.28 26.1121 1476.72 28.6237 Q1480.2 31.1352 1481.87 35.9153 Z\" fill=\"#000000\" fill-rule=\"evenodd\" fill-opacity=\"1\" /><path clip-path=\"url(#clip690)\" d=\"M1523.59 46.5287 L1545.42 46.5287 L1545.42 53.1722 L1523.59 53.1722 L1523.59 46.5287 Z\" fill=\"#000000\" fill-rule=\"evenodd\" fill-opacity=\"1\" /><path clip-path=\"url(#clip690)\" d=\"M1593.87 14.0809 L1593.87 22.0612 Q1589.21 19.8332 1585.08 18.7395 Q1580.95 17.6457 1577.1 17.6457 Q1570.42 17.6457 1566.77 20.2383 Q1563.17 22.8309 1563.17 27.611 Q1563.17 31.6214 1565.56 33.6873 Q1567.99 35.7128 1574.71 36.9686 L1579.65 37.9813 Q1588.81 39.7232 1593.14 44.1387 Q1597.52 48.5136 1597.52 55.8863 Q1597.52 64.6767 1591.6 69.2137 Q1585.73 73.7508 1574.35 73.7508 Q1570.05 73.7508 1565.19 72.7785 Q1560.37 71.8063 1555.19 69.9024 L1555.19 61.4765 Q1560.17 64.2716 1564.95 65.6895 Q1569.73 67.1073 1574.35 67.1073 Q1581.36 67.1073 1585.16 64.3527 Q1588.97 61.598 1588.97 56.4939 Q1588.97 52.0379 1586.22 49.5264 Q1583.5 47.0148 1577.26 45.759 L1572.28 44.7868 Q1563.13 42.9639 1559.04 39.075 Q1554.94 35.1862 1554.94 28.2591 Q1554.94 20.2383 1560.57 15.6203 Q1566.25 11.0023 1576.17 11.0023 Q1580.42 11.0023 1584.84 11.7719 Q1589.26 12.5416 1593.87 14.0809 Z\" fill=\"#000000\" fill-rule=\"evenodd\" fill-opacity=\"1\" /><path clip-path=\"url(#clip690)\" d=\"M1642.61 28.9478 L1642.61 35.9153 Q1639.45 34.1734 1636.25 33.3227 Q1633.09 32.4315 1629.85 32.4315 Q1622.59 32.4315 1618.58 37.0496 Q1614.57 41.6271 1614.57 49.9314 Q1614.57 58.2358 1618.58 62.8538 Q1622.59 67.4314 1629.85 67.4314 Q1633.09 67.4314 1636.25 66.5807 Q1639.45 65.6895 1642.61 63.9476 L1642.61 70.8341 Q1639.49 72.2924 1636.12 73.0216 Q1632.8 73.7508 1629.04 73.7508 Q1618.79 73.7508 1612.75 67.3098 Q1606.71 60.8689 1606.71 49.9314 Q1606.71 38.832 1612.79 32.472 Q1618.91 26.1121 1629.52 26.1121 Q1632.96 26.1121 1636.25 26.8413 Q1639.53 27.5299 1642.61 28.9478 Z\" fill=\"#000000\" fill-rule=\"evenodd\" fill-opacity=\"1\" /><path clip-path=\"url(#clip690)\" d=\"M1693.28 45.1919 L1693.28 72.576 L1685.83 72.576 L1685.83 45.4349 Q1685.83 38.994 1683.32 35.7938 Q1680.81 32.5936 1675.78 32.5936 Q1669.75 32.5936 1666.26 36.4419 Q1662.78 40.2903 1662.78 46.9338 L1662.78 72.576 L1655.29 72.576 L1655.29 9.54393 L1662.78 9.54393 L1662.78 34.2544 Q1665.45 30.163 1669.06 28.1376 Q1672.7 26.1121 1677.44 26.1121 Q1685.26 26.1121 1689.27 30.9732 Q1693.28 35.7938 1693.28 45.1919 Z\" fill=\"#000000\" fill-rule=\"evenodd\" fill-opacity=\"1\" /><path clip-path=\"url(#clip690)\" d=\"M1743.47 35.9153 Q1746.27 30.8922 1750.16 28.5022 Q1754.05 26.1121 1759.31 26.1121 Q1766.4 26.1121 1770.25 31.0947 Q1774.1 36.0368 1774.1 45.1919 L1774.1 72.576 L1766.6 72.576 L1766.6 45.4349 Q1766.6 38.913 1764.29 35.7533 Q1761.99 32.5936 1757.25 32.5936 Q1751.45 32.5936 1748.09 36.4419 Q1744.73 40.2903 1744.73 46.9338 L1744.73 72.576 L1737.23 72.576 L1737.23 45.4349 Q1737.23 38.8725 1734.93 35.7533 Q1732.62 32.5936 1727.8 32.5936 Q1722.08 32.5936 1718.72 36.4824 Q1715.36 40.3308 1715.36 46.9338 L1715.36 72.576 L1707.87 72.576 L1707.87 27.2059 L1715.36 27.2059 L1715.36 34.2544 Q1717.91 30.082 1721.48 28.0971 Q1725.04 26.1121 1729.94 26.1121 Q1734.89 26.1121 1738.33 28.6237 Q1741.81 31.1352 1743.47 35.9153 Z\" fill=\"#000000\" fill-rule=\"evenodd\" fill-opacity=\"1\" /><path clip-path=\"url(#clip690)\" d=\"M1788.96 27.2059 L1796.42 27.2059 L1796.42 72.576 L1788.96 72.576 L1788.96 27.2059 M1788.96 9.54393 L1796.42 9.54393 L1796.42 18.9825 L1788.96 18.9825 L1788.96 9.54393 Z\" fill=\"#000000\" fill-rule=\"evenodd\" fill-opacity=\"1\" /><path clip-path=\"url(#clip690)\" d=\"M1841.87 34.0924 L1841.87 9.54393 L1849.32 9.54393 L1849.32 72.576 L1841.87 72.576 L1841.87 65.7705 Q1839.52 69.8214 1835.91 71.8063 Q1832.35 73.7508 1827.33 73.7508 Q1819.1 73.7508 1813.92 67.1883 Q1808.77 60.6258 1808.77 49.9314 Q1808.77 39.2371 1813.92 32.6746 Q1819.1 26.1121 1827.33 26.1121 Q1832.35 26.1121 1835.91 28.0971 Q1839.52 30.0415 1841.87 34.0924 M1816.47 49.9314 Q1816.47 58.1548 1819.83 62.8538 Q1823.24 67.5124 1829.15 67.5124 Q1835.06 67.5124 1838.47 62.8538 Q1841.87 58.1548 1841.87 49.9314 Q1841.87 41.7081 1838.47 37.0496 Q1835.06 32.3505 1829.15 32.3505 Q1823.24 32.3505 1819.83 37.0496 Q1816.47 41.7081 1816.47 49.9314 Z\" fill=\"#000000\" fill-rule=\"evenodd\" fill-opacity=\"1\" /><path clip-path=\"url(#clip690)\" d=\"M1872.05 14.324 L1872.05 27.2059 L1887.4 27.2059 L1887.4 32.9987 L1872.05 32.9987 L1872.05 57.6282 Q1872.05 63.1779 1873.55 64.7578 Q1875.09 66.3376 1879.75 66.3376 L1887.4 66.3376 L1887.4 72.576 L1879.75 72.576 Q1871.12 72.576 1867.84 69.3758 Q1864.55 66.1351 1864.55 57.6282 L1864.55 32.9987 L1859.09 32.9987 L1859.09 27.2059 L1864.55 27.2059 L1864.55 14.324 L1872.05 14.324 Z\" fill=\"#000000\" fill-rule=\"evenodd\" fill-opacity=\"1\" /><polyline clip-path=\"url(#clip692)\" style=\"stroke:#009af9; stroke-linecap:butt; stroke-linejoin:round; stroke-width:8; stroke-opacity:1; fill:none\" points=\"\n",
       "  307.017,2968.32 319.13,2878.55 331.243,2793.86 343.356,2746.22 355.469,2713.53 367.582,2688.92 379.695,2412.64 391.808,2335.97 403.921,2639.47 416.034,2627.61 \n",
       "  428.147,2626.57 440.26,2607.93 452.373,2102.11 464.486,2076.43 476.598,2050.47 488.711,2026.16 500.824,2572.87 512.937,1963.74 525.05,1946.86 537.163,1923.34 \n",
       "  549.276,1885.08 561.389,1863.61 573.502,1841.12 585.615,1816.52 597.728,1784.61 609.841,1763.98 621.954,1740.18 634.067,2602.71 646.18,2607.81 658.293,2613.38 \n",
       "  670.405,2619.49 682.518,2626.26 694.631,2633.85 706.744,2642.46 718.857,2652.43 730.97,2664.23 743.083,2678.7 755.196,2697.37 767.309,2723.72 779.422,2768.83 \n",
       "  791.535,2968.32 803.648,1458.87 815.761,1442.98 827.874,2696.99 839.987,2678.19 852.1,2663.59 864.212,2651.66 876.325,2641.56 888.438,2632.81 900.551,2625.09 \n",
       "  912.664,2618.18 924.777,2611.93 936.89,2606.21 949.003,2600.96 961.116,2596.09 973.229,2591.55 985.342,1224.63 997.455,1211.72 1009.57,1198.62 1021.68,1185.93 \n",
       "  1033.79,1173.38 1045.91,1160.86 1058.02,1148.64 1070.13,1136.55 1082.25,1125 1094.36,1113.18 1106.47,1101.5 1118.58,1087.81 1130.7,1076.29 1142.81,1064.79 \n",
       "  1154.92,1053.64 1167.04,996.729 1179.15,984.818 1191.26,973.842 1203.37,963.023 1215.49,952.359 1227.6,940.931 1239.71,930.469 1251.83,920.13 1263.94,909.899 \n",
       "  1276.05,898.903 1288.17,888.774 1300.28,878.781 1312.39,868.929 1324.5,858.352 1336.62,848.695 1348.73,813.526 1360.84,803.233 1372.96,793.839 1385.07,783.935 \n",
       "  1397.18,774.182 1409.29,765.017 1421.41,755.435 1433.52,746.442 1445.63,737.542 1457.75,728.173 1469.86,719.428 1481.97,710.236 1494.09,701.635 1506.2,693.093 \n",
       "  1518.31,598.818 1530.42,589.174 1542.54,580.339 1554.65,571.436 1566.76,562.678 1578.88,625.214 1590.99,615.042 1603.1,606.858 1615.21,598.739 1627.33,590.673 \n",
       "  1639.44,582.67 1651.55,574.738 1663.67,566.844 1675.78,559.03 1687.89,551.269 1700.01,543.571 1712.12,535.916 1724.23,528.231 1736.34,520.698 1748.46,513.22 \n",
       "  1760.57,505.793 1772.68,498.37 1784.8,491.029 1796.91,483.755 1809.02,476.536 1821.13,469.363 1833.25,462.239 1845.36,455.165 1857.47,448.126 1869.59,441.002 \n",
       "  1881.7,434.061 1893.81,427.163 1905.93,420.322 1918.04,413.523 1930.15,406.771 1942.26,400.064 1954.38,393.384 1966.49,386.737 1978.6,380.155 1990.72,373.612 \n",
       "  2002.83,367.115 2014.94,360.661 2027.05,354.246 2039.17,347.874 2051.28,341.542 2063.39,335.241 2075.51,328.991 2087.62,322.786 2099.73,316.617 2111.84,310.494 \n",
       "  2123.96,304.415 2136.07,298.381 2148.18,292.391 2160.3,286.45 2172.41,280.557 2184.52,274.716 2196.64,268.862 2208.75,263.031 2220.86,257.163 2232.97,251.562 \n",
       "  2245.09,246.031 2257.2,240.559 2269.31,235.187 2281.43,229.907 2293.54,224.728 2305.65,219.658 2317.76,214.707 2329.88,209.884 2341.99,205.202 2354.1,200.677 \n",
       "  2366.22,196.275 2378.33,192.099 2390.44,188.113 2402.56,184.329 2414.67,180.747 2426.78,177.392 2438.89,174.261 2451.01,171.357 2463.12,168.679 2475.23,166.226 \n",
       "  2487.35,163.99 \n",
       "  \"/>\n",
       "<polyline clip-path=\"url(#clip692)\" style=\"stroke:#e26f46; stroke-linecap:butt; stroke-linejoin:round; stroke-width:8; stroke-opacity:1; fill:none\" points=\"\n",
       "  307.017,2968.32 319.13,2968.32 331.243,2968.32 343.356,2968.32 355.469,2968.32 367.582,2968.32 379.695,2585.92 391.808,2533.48 403.921,2968.32 416.034,2968.32 \n",
       "  428.147,2968.32 440.26,2968.32 452.373,2533.48 464.486,2514.32 476.598,2540.75 488.711,2550.12 500.824,2968.32 512.937,2578.65 525.05,2538.77 537.163,2550.12 \n",
       "  549.276,2563.33 561.389,2563.33 573.502,2550.12 585.615,2533.48 597.728,2968.32 609.841,2578.65 621.954,2585.92 634.067,2968.32 646.18,2968.32 658.293,2968.32 \n",
       "  670.405,2968.32 682.518,2968.32 694.631,2968.32 706.744,2968.32 718.857,2968.32 730.97,2968.32 743.083,2968.32 755.196,2968.32 767.309,2968.32 779.422,2968.32 \n",
       "  791.535,2968.32 803.648,2549.45 815.761,2547.51 827.874,2968.32 839.987,2968.32 852.1,2968.32 864.212,2968.32 876.325,2968.32 888.438,2968.32 900.551,2968.32 \n",
       "  912.664,2968.32 924.777,2968.32 936.89,2968.32 949.003,2968.32 961.116,2968.32 973.229,2968.32 985.342,2578.65 997.455,2572.71 1009.57,2607.5 1021.68,2968.32 \n",
       "  1033.79,2766.6 1045.91,2721.43 1058.02,2968.32 1070.13,2968.32 1082.25,2766.6 1094.36,2653.67 1106.47,2668.99 1118.58,2697.84 1130.7,2698.84 1142.81,2585.41 \n",
       "  1154.92,2581.19 1167.04,2649.84 1179.15,2583.94 1191.26,2653.67 1203.37,2668.99 1215.49,2668.99 1227.6,2968.32 1239.71,2674.28 1251.83,2766.6 1263.94,2968.32 \n",
       "  1276.05,2744.02 1288.17,2583.94 1300.28,2759.33 1312.39,2674.16 1324.5,2766.6 1336.62,2674.16 1348.73,2583.82 1360.84,2563.27 1372.96,2562.33 1385.07,2653.61 \n",
       "  1397.18,2653.67 1409.29,2672.42 1421.41,2674.28 1433.52,2766.6 1445.63,2585.92 1457.75,2764.63 1469.86,2744.02 1481.97,2968.32 1494.09,2856.94 1506.2,2676.26 \n",
       "  1518.31,2563.33 1530.42,2674.28 1542.54,2630.58 1554.65,2630.96 1566.76,2719.45 1578.88,2595.29 1590.99,2629.11 1603.1,2809.8 1615.21,2697.84 1627.33,2719.45 \n",
       "  1639.44,2630.84 1651.55,2628.99 1663.67,2668.18 1675.78,2697.84 1687.89,2719.45 1700.01,2811.77 1712.12,2631.09 1724.23,2630.83 1736.34,2630.96 1748.46,2631.09 \n",
       "  1760.57,2631.09 1772.68,2630.96 1784.8,2606.53 1796.91,2607.5 1809.02,2721.43 1821.13,2968.32 1833.25,2719.45 1845.36,2968.32 1857.47,2628.99 1869.59,2719.45 \n",
       "  1881.7,2698.84 1893.81,2721.43 1905.93,2721.4 1918.04,2789.19 1930.15,2789.19 1942.26,2811.77 1954.38,2629.11 1966.49,2698.83 1978.6,2698.83 1990.72,2720.92 \n",
       "  2002.83,2968.32 2014.94,2968.32 2027.05,2947.28 2039.17,2968.32 2051.28,2968.32 2063.39,2631.06 2075.51,2947.28 2087.62,2968.32 2099.73,2698.83 2111.84,2698.59 \n",
       "  2123.96,2834.36 2136.07,2856.94 2148.18,2720.89 2160.3,2834.36 2172.41,2968.32 2184.52,2721.43 2196.64,2968.32 2208.75,2608.49 2220.86,2856.94 2232.97,2968.32 \n",
       "  2245.09,2766.57 2257.2,2766.6 2269.31,2743.01 2281.43,2764.63 2293.54,2968.32 2305.65,2968.32 2317.76,2834.1 2329.88,2743 2341.99,2766.6 2354.1,2968.32 \n",
       "  2366.22,2968.32 2378.33,2968.32 2390.44,2742.04 2402.56,2744.02 2414.67,2630.58 2426.78,2630.58 2438.89,2631.09 2451.01,2630.58 2463.12,2631.09 2475.23,2968.32 \n",
       "  2487.35,2968.32 \n",
       "  \"/>\n",
       "<path clip-path=\"url(#clip690)\" d=\"\n",
       "M1739.64 370.829 L2475.72 370.829 L2475.72 215.309 L1739.64 215.309  Z\n",
       "  \" fill=\"#ffffff\" fill-rule=\"evenodd\" fill-opacity=\"1\"/>\n",
       "<polyline clip-path=\"url(#clip690)\" style=\"stroke:#000000; stroke-linecap:butt; stroke-linejoin:round; stroke-width:4; stroke-opacity:1; fill:none\" points=\"\n",
       "  1739.64,370.829 2475.72,370.829 2475.72,215.309 1739.64,215.309 1739.64,370.829 \n",
       "  \"/>\n",
       "<polyline clip-path=\"url(#clip690)\" style=\"stroke:#009af9; stroke-linecap:butt; stroke-linejoin:round; stroke-width:4; stroke-opacity:1; fill:none\" points=\"\n",
       "  1765.32,267.149 1919.4,267.149 \n",
       "  \"/>\n",
       "<path clip-path=\"url(#clip690)\" d=\"M1956.98 261.489 Q1953.55 261.489 1951.56 264.174 Q1949.57 266.836 1949.57 271.489 Q1949.57 276.142 1951.54 278.827 Q1953.53 281.489 1956.98 281.489 Q1960.38 281.489 1962.37 278.804 Q1964.36 276.119 1964.36 271.489 Q1964.36 266.883 1962.37 264.198 Q1960.38 261.489 1956.98 261.489 M1956.98 257.878 Q1962.53 257.878 1965.7 261.489 Q1968.88 265.1 1968.88 271.489 Q1968.88 277.855 1965.7 281.489 Q1962.53 285.1 1956.98 285.1 Q1951.4 285.1 1948.23 281.489 Q1945.08 277.855 1945.08 271.489 Q1945.08 265.1 1948.23 261.489 Q1951.4 257.878 1956.98 257.878 Z\" fill=\"#000000\" fill-rule=\"evenodd\" fill-opacity=\"1\" /><path clip-path=\"url(#clip690)\" d=\"M1990.96 262.485 Q1990.24 262.068 1989.38 261.883 Q1988.55 261.674 1987.53 261.674 Q1983.92 261.674 1981.98 264.036 Q1980.06 266.373 1980.06 270.772 L1980.06 284.429 L1975.77 284.429 L1975.77 258.503 L1980.06 258.503 L1980.06 262.531 Q1981.4 260.17 1983.55 259.036 Q1985.7 257.878 1988.78 257.878 Q1989.22 257.878 1989.75 257.948 Q1990.29 257.994 1990.94 258.11 L1990.96 262.485 Z\" fill=\"#000000\" fill-rule=\"evenodd\" fill-opacity=\"1\" /><path clip-path=\"url(#clip690)\" d=\"M1999.64 251.142 L1999.64 258.503 L2008.41 258.503 L2008.41 261.813 L1999.64 261.813 L1999.64 275.887 Q1999.64 279.059 2000.5 279.961 Q2001.37 280.864 2004.04 280.864 L2008.41 280.864 L2008.41 284.429 L2004.04 284.429 Q1999.11 284.429 1997.23 282.6 Q1995.36 280.748 1995.36 275.887 L1995.36 261.813 L1992.23 261.813 L1992.23 258.503 L1995.36 258.503 L1995.36 251.142 L1999.64 251.142 Z\" fill=\"#000000\" fill-rule=\"evenodd\" fill-opacity=\"1\" /><path clip-path=\"url(#clip690)\" d=\"M2035.56 268.781 L2035.56 284.429 L2031.31 284.429 L2031.31 268.92 Q2031.31 265.239 2029.87 263.411 Q2028.43 261.582 2025.56 261.582 Q2022.12 261.582 2020.12 263.781 Q2018.13 265.98 2018.13 269.776 L2018.13 284.429 L2013.85 284.429 L2013.85 248.411 L2018.13 248.411 L2018.13 262.531 Q2019.66 260.193 2021.72 259.036 Q2023.81 257.878 2026.51 257.878 Q2030.98 257.878 2033.27 260.656 Q2035.56 263.411 2035.56 268.781 Z\" fill=\"#000000\" fill-rule=\"evenodd\" fill-opacity=\"1\" /><path clip-path=\"url(#clip690)\" d=\"M2054.11 261.489 Q2050.68 261.489 2048.69 264.174 Q2046.7 266.836 2046.7 271.489 Q2046.7 276.142 2048.67 278.827 Q2050.66 281.489 2054.11 281.489 Q2057.51 281.489 2059.5 278.804 Q2061.49 276.119 2061.49 271.489 Q2061.49 266.883 2059.5 264.198 Q2057.51 261.489 2054.11 261.489 M2054.11 257.878 Q2059.66 257.878 2062.83 261.489 Q2066 265.1 2066 271.489 Q2066 277.855 2062.83 281.489 Q2059.66 285.1 2054.11 285.1 Q2048.53 285.1 2045.36 281.489 Q2042.21 277.855 2042.21 271.489 Q2042.21 265.1 2045.36 261.489 Q2048.53 257.878 2054.11 257.878 Z\" fill=\"#000000\" fill-rule=\"evenodd\" fill-opacity=\"1\" /><path clip-path=\"url(#clip690)\" d=\"M2094.62 268.781 L2094.62 284.429 L2090.36 284.429 L2090.36 268.92 Q2090.36 265.239 2088.92 263.411 Q2087.49 261.582 2084.62 261.582 Q2081.17 261.582 2079.18 263.781 Q2077.18 265.98 2077.18 269.776 L2077.18 284.429 L2072.9 284.429 L2072.9 258.503 L2077.18 258.503 L2077.18 262.531 Q2078.71 260.193 2080.77 259.036 Q2082.86 257.878 2085.56 257.878 Q2090.03 257.878 2092.32 260.656 Q2094.62 263.411 2094.62 268.781 Z\" fill=\"#000000\" fill-rule=\"evenodd\" fill-opacity=\"1\" /><path clip-path=\"url(#clip690)\" d=\"M2113.16 261.489 Q2109.73 261.489 2107.74 264.174 Q2105.75 266.836 2105.75 271.489 Q2105.75 276.142 2107.72 278.827 Q2109.71 281.489 2113.16 281.489 Q2116.56 281.489 2118.55 278.804 Q2120.54 276.119 2120.54 271.489 Q2120.54 266.883 2118.55 264.198 Q2116.56 261.489 2113.16 261.489 M2113.16 257.878 Q2118.71 257.878 2121.88 261.489 Q2125.05 265.1 2125.05 271.489 Q2125.05 277.855 2121.88 281.489 Q2118.71 285.1 2113.16 285.1 Q2107.58 285.1 2104.41 281.489 Q2101.26 277.855 2101.26 271.489 Q2101.26 265.1 2104.41 261.489 Q2107.58 257.878 2113.16 257.878 Z\" fill=\"#000000\" fill-rule=\"evenodd\" fill-opacity=\"1\" /><path clip-path=\"url(#clip690)\" d=\"M2147.14 262.485 Q2146.42 262.068 2145.56 261.883 Q2144.73 261.674 2143.71 261.674 Q2140.1 261.674 2138.16 264.036 Q2136.24 266.373 2136.24 270.772 L2136.24 284.429 L2131.95 284.429 L2131.95 258.503 L2136.24 258.503 L2136.24 262.531 Q2137.58 260.17 2139.73 259.036 Q2141.88 257.878 2144.96 257.878 Q2145.4 257.878 2145.93 257.948 Q2146.47 257.994 2147.11 258.11 L2147.14 262.485 Z\" fill=\"#000000\" fill-rule=\"evenodd\" fill-opacity=\"1\" /><path clip-path=\"url(#clip690)\" d=\"M2170.96 263.48 Q2172.55 260.61 2174.78 259.244 Q2177 257.878 2180.01 257.878 Q2184.06 257.878 2186.26 260.725 Q2188.46 263.549 2188.46 268.781 L2188.46 284.429 L2184.17 284.429 L2184.17 268.92 Q2184.17 265.193 2182.86 263.387 Q2181.54 261.582 2178.83 261.582 Q2175.52 261.582 2173.6 263.781 Q2171.67 265.98 2171.67 269.776 L2171.67 284.429 L2167.39 284.429 L2167.39 268.92 Q2167.39 265.17 2166.07 263.387 Q2164.75 261.582 2162 261.582 Q2158.74 261.582 2156.81 263.804 Q2154.89 266.003 2154.89 269.776 L2154.89 284.429 L2150.61 284.429 L2150.61 258.503 L2154.89 258.503 L2154.89 262.531 Q2156.35 260.147 2158.39 259.012 Q2160.42 257.878 2163.23 257.878 Q2166.05 257.878 2168.02 259.313 Q2170.01 260.749 2170.96 263.48 Z\" fill=\"#000000\" fill-rule=\"evenodd\" fill-opacity=\"1\" /><path clip-path=\"url(#clip690)\" d=\"M2208.73 271.397 Q2203.57 271.397 2201.58 272.577 Q2199.59 273.758 2199.59 276.605 Q2199.59 278.873 2201.07 280.216 Q2202.58 281.535 2205.15 281.535 Q2208.69 281.535 2210.82 279.035 Q2212.97 276.512 2212.97 272.346 L2212.97 271.397 L2208.73 271.397 M2217.23 269.637 L2217.23 284.429 L2212.97 284.429 L2212.97 280.494 Q2211.51 282.855 2209.34 283.989 Q2207.16 285.1 2204.01 285.1 Q2200.03 285.1 2197.67 282.878 Q2195.33 280.633 2195.33 276.883 Q2195.33 272.508 2198.25 270.286 Q2201.19 268.063 2207 268.063 L2212.97 268.063 L2212.97 267.647 Q2212.97 264.707 2211.03 263.11 Q2209.11 261.489 2205.61 261.489 Q2203.39 261.489 2201.28 262.022 Q2199.17 262.554 2197.23 263.619 L2197.23 259.684 Q2199.57 258.781 2201.77 258.341 Q2203.97 257.878 2206.05 257.878 Q2211.67 257.878 2214.45 260.795 Q2217.23 263.711 2217.23 269.637 Z\" fill=\"#000000\" fill-rule=\"evenodd\" fill-opacity=\"1\" /><path clip-path=\"url(#clip690)\" d=\"M2226 248.411 L2230.26 248.411 L2230.26 284.429 L2226 284.429 L2226 248.411 Z\" fill=\"#000000\" fill-rule=\"evenodd\" fill-opacity=\"1\" /><path clip-path=\"url(#clip690)\" d=\"M2239.17 258.503 L2243.43 258.503 L2243.43 284.429 L2239.17 284.429 L2239.17 258.503 M2239.17 248.411 L2243.43 248.411 L2243.43 253.804 L2239.17 253.804 L2239.17 248.411 Z\" fill=\"#000000\" fill-rule=\"evenodd\" fill-opacity=\"1\" /><path clip-path=\"url(#clip690)\" d=\"M2256.56 251.142 L2256.56 258.503 L2265.33 258.503 L2265.33 261.813 L2256.56 261.813 L2256.56 275.887 Q2256.56 279.059 2257.42 279.961 Q2258.29 280.864 2260.96 280.864 L2265.33 280.864 L2265.33 284.429 L2260.96 284.429 Q2256.03 284.429 2254.15 282.6 Q2252.28 280.748 2252.28 275.887 L2252.28 261.813 L2249.15 261.813 L2249.15 258.503 L2252.28 258.503 L2252.28 251.142 L2256.56 251.142 Z\" fill=\"#000000\" fill-rule=\"evenodd\" fill-opacity=\"1\" /><path clip-path=\"url(#clip690)\" d=\"M2281.72 286.836 Q2279.92 291.466 2278.2 292.878 Q2276.49 294.29 2273.62 294.29 L2270.22 294.29 L2270.22 290.725 L2272.72 290.725 Q2274.48 290.725 2275.45 289.892 Q2276.42 289.059 2277.6 285.957 L2278.36 284.012 L2267.88 258.503 L2272.39 258.503 L2280.49 278.781 L2288.6 258.503 L2293.11 258.503 L2281.72 286.836 Z\" fill=\"#000000\" fill-rule=\"evenodd\" fill-opacity=\"1\" /><path clip-path=\"url(#clip690)\" d=\"M2336.23 270.401 L2336.23 272.485 L2316.65 272.485 Q2316.93 276.883 2319.29 279.197 Q2321.67 281.489 2325.91 281.489 Q2328.36 281.489 2330.66 280.887 Q2332.97 280.285 2335.24 279.082 L2335.24 283.11 Q2332.95 284.082 2330.54 284.591 Q2328.13 285.1 2325.66 285.1 Q2319.45 285.1 2315.82 281.489 Q2312.21 277.878 2312.21 271.721 Q2312.21 265.355 2315.63 261.628 Q2319.08 257.878 2324.91 257.878 Q2330.15 257.878 2333.18 261.258 Q2336.23 264.614 2336.23 270.401 M2331.98 269.151 Q2331.93 265.656 2330.01 263.573 Q2328.11 261.489 2324.96 261.489 Q2321.4 261.489 2319.24 263.503 Q2317.11 265.517 2316.79 269.174 L2331.98 269.151 Z\" fill=\"#000000\" fill-rule=\"evenodd\" fill-opacity=\"1\" /><path clip-path=\"url(#clip690)\" d=\"M2358.25 262.485 Q2357.53 262.068 2356.67 261.883 Q2355.84 261.674 2354.82 261.674 Q2351.21 261.674 2349.27 264.036 Q2347.35 266.373 2347.35 270.772 L2347.35 284.429 L2343.06 284.429 L2343.06 258.503 L2347.35 258.503 L2347.35 262.531 Q2348.69 260.17 2350.84 259.036 Q2352.99 257.878 2356.07 257.878 Q2356.51 257.878 2357.04 257.948 Q2357.58 257.994 2358.22 258.11 L2358.25 262.485 Z\" fill=\"#000000\" fill-rule=\"evenodd\" fill-opacity=\"1\" /><path clip-path=\"url(#clip690)\" d=\"M2376.91 262.485 Q2376.19 262.068 2375.33 261.883 Q2374.5 261.674 2373.48 261.674 Q2369.87 261.674 2367.92 264.036 Q2366 266.373 2366 270.772 L2366 284.429 L2361.72 284.429 L2361.72 258.503 L2366 258.503 L2366 262.531 Q2367.35 260.17 2369.5 259.036 Q2371.65 257.878 2374.73 257.878 Q2375.17 257.878 2375.7 257.948 Q2376.23 257.994 2376.88 258.11 L2376.91 262.485 Z\" fill=\"#000000\" fill-rule=\"evenodd\" fill-opacity=\"1\" /><path clip-path=\"url(#clip690)\" d=\"M2390.38 261.489 Q2386.95 261.489 2384.96 264.174 Q2382.97 266.836 2382.97 271.489 Q2382.97 276.142 2384.94 278.827 Q2386.93 281.489 2390.38 281.489 Q2393.78 281.489 2395.77 278.804 Q2397.76 276.119 2397.76 271.489 Q2397.76 266.883 2395.77 264.198 Q2393.78 261.489 2390.38 261.489 M2390.38 257.878 Q2395.93 257.878 2399.1 261.489 Q2402.28 265.1 2402.28 271.489 Q2402.28 277.855 2399.1 281.489 Q2395.93 285.1 2390.38 285.1 Q2384.8 285.1 2381.63 281.489 Q2378.48 277.855 2378.48 271.489 Q2378.48 265.1 2381.63 261.489 Q2384.8 257.878 2390.38 257.878 Z\" fill=\"#000000\" fill-rule=\"evenodd\" fill-opacity=\"1\" /><path clip-path=\"url(#clip690)\" d=\"M2424.36 262.485 Q2423.64 262.068 2422.78 261.883 Q2421.95 261.674 2420.93 261.674 Q2417.32 261.674 2415.38 264.036 Q2413.46 266.373 2413.46 270.772 L2413.46 284.429 L2409.17 284.429 L2409.17 258.503 L2413.46 258.503 L2413.46 262.531 Q2414.8 260.17 2416.95 259.036 Q2419.1 257.878 2422.18 257.878 Q2422.62 257.878 2423.16 257.948 Q2423.69 257.994 2424.34 258.11 L2424.36 262.485 Z\" fill=\"#000000\" fill-rule=\"evenodd\" fill-opacity=\"1\" /><polyline clip-path=\"url(#clip690)\" style=\"stroke:#e26f46; stroke-linecap:butt; stroke-linejoin:round; stroke-width:4; stroke-opacity:1; fill:none\" points=\"\n",
       "  1765.32,318.989 1919.4,318.989 \n",
       "  \"/>\n",
       "<path clip-path=\"url(#clip690)\" d=\"M1960.26 314.325 Q1959.55 313.908 1958.69 313.723 Q1957.86 313.514 1956.84 313.514 Q1953.23 313.514 1951.28 315.876 Q1949.36 318.213 1949.36 322.612 L1949.36 336.269 L1945.08 336.269 L1945.08 310.343 L1949.36 310.343 L1949.36 314.371 Q1950.7 312.01 1952.86 310.876 Q1955.01 309.718 1958.09 309.718 Q1958.53 309.718 1959.06 309.788 Q1959.59 309.834 1960.24 309.95 L1960.26 314.325 Z\" fill=\"#000000\" fill-rule=\"evenodd\" fill-opacity=\"1\" /><path clip-path=\"url(#clip690)\" d=\"M1985.87 322.241 L1985.87 324.325 L1966.28 324.325 Q1966.56 328.723 1968.92 331.037 Q1971.31 333.329 1975.54 333.329 Q1978 333.329 1980.29 332.727 Q1982.6 332.125 1984.87 330.922 L1984.87 334.95 Q1982.58 335.922 1980.17 336.431 Q1977.76 336.94 1975.29 336.94 Q1969.08 336.94 1965.45 333.329 Q1961.84 329.718 1961.84 323.561 Q1961.84 317.195 1965.26 313.468 Q1968.71 309.718 1974.55 309.718 Q1979.78 309.718 1982.81 313.098 Q1985.87 316.454 1985.87 322.241 M1981.61 320.991 Q1981.56 317.496 1979.64 315.413 Q1977.74 313.329 1974.59 313.329 Q1971.03 313.329 1968.88 315.343 Q1966.75 317.357 1966.42 321.014 L1981.61 320.991 Z\" fill=\"#000000\" fill-rule=\"evenodd\" fill-opacity=\"1\" /><path clip-path=\"url(#clip690)\" d=\"M2011.51 311.339 L2011.51 315.32 Q2009.71 314.325 2007.88 313.839 Q2006.07 313.329 2004.22 313.329 Q2000.08 313.329 1997.79 315.968 Q1995.5 318.584 1995.5 323.329 Q1995.5 328.075 1997.79 330.713 Q2000.08 333.329 2004.22 333.329 Q2006.07 333.329 2007.88 332.843 Q2009.71 332.334 2011.51 331.338 L2011.51 335.274 Q2009.73 336.107 2007.81 336.524 Q2005.91 336.94 2003.76 336.94 Q1997.9 336.94 1994.45 333.26 Q1991 329.579 1991 323.329 Q1991 316.987 1994.48 313.352 Q1997.97 309.718 2004.04 309.718 Q2006 309.718 2007.88 310.135 Q2009.75 310.528 2011.51 311.339 Z\" fill=\"#000000\" fill-rule=\"evenodd\" fill-opacity=\"1\" /><path clip-path=\"url(#clip690)\" d=\"M2028.97 313.329 Q2025.54 313.329 2023.55 316.014 Q2021.56 318.676 2021.56 323.329 Q2021.56 327.982 2023.53 330.667 Q2025.52 333.329 2028.97 333.329 Q2032.37 333.329 2034.36 330.644 Q2036.35 327.959 2036.35 323.329 Q2036.35 318.723 2034.36 316.038 Q2032.37 313.329 2028.97 313.329 M2028.97 309.718 Q2034.52 309.718 2037.69 313.329 Q2040.87 316.94 2040.87 323.329 Q2040.87 329.695 2037.69 333.329 Q2034.52 336.94 2028.97 336.94 Q2023.39 336.94 2020.22 333.329 Q2017.07 329.695 2017.07 323.329 Q2017.07 316.94 2020.22 313.329 Q2023.39 309.718 2028.97 309.718 Z\" fill=\"#000000\" fill-rule=\"evenodd\" fill-opacity=\"1\" /><path clip-path=\"url(#clip690)\" d=\"M2069.48 320.621 L2069.48 336.269 L2065.22 336.269 L2065.22 320.76 Q2065.22 317.079 2063.78 315.251 Q2062.35 313.422 2059.48 313.422 Q2056.03 313.422 2054.04 315.621 Q2052.05 317.82 2052.05 321.616 L2052.05 336.269 L2047.76 336.269 L2047.76 310.343 L2052.05 310.343 L2052.05 314.371 Q2053.57 312.033 2055.63 310.876 Q2057.72 309.718 2060.43 309.718 Q2064.89 309.718 2067.18 312.496 Q2069.48 315.251 2069.48 320.621 Z\" fill=\"#000000\" fill-rule=\"evenodd\" fill-opacity=\"1\" /><path clip-path=\"url(#clip690)\" d=\"M2094.5 311.107 L2094.5 315.135 Q2092.69 314.209 2090.75 313.746 Q2088.81 313.283 2086.72 313.283 Q2083.55 313.283 2081.95 314.255 Q2080.38 315.227 2080.38 317.172 Q2080.38 318.653 2081.51 319.51 Q2082.65 320.343 2086.07 321.107 L2087.53 321.431 Q2092.07 322.403 2093.97 324.186 Q2095.89 325.945 2095.89 329.116 Q2095.89 332.727 2093.02 334.834 Q2090.17 336.94 2085.17 336.94 Q2083.09 336.94 2080.82 336.524 Q2078.57 336.13 2076.07 335.32 L2076.07 330.922 Q2078.43 332.149 2080.73 332.774 Q2083.02 333.375 2085.26 333.375 Q2088.27 333.375 2089.89 332.357 Q2091.51 331.315 2091.51 329.44 Q2091.51 327.704 2090.33 326.778 Q2089.18 325.852 2085.22 324.996 L2083.74 324.649 Q2079.78 323.815 2078.02 322.102 Q2076.26 320.366 2076.26 317.357 Q2076.26 313.7 2078.85 311.709 Q2081.44 309.718 2086.21 309.718 Q2088.57 309.718 2090.66 310.065 Q2092.74 310.413 2094.5 311.107 Z\" fill=\"#000000\" fill-rule=\"evenodd\" fill-opacity=\"1\" /><path clip-path=\"url(#clip690)\" d=\"M2106.88 302.982 L2106.88 310.343 L2115.66 310.343 L2115.66 313.653 L2106.88 313.653 L2106.88 327.727 Q2106.88 330.899 2107.74 331.801 Q2108.62 332.704 2111.28 332.704 L2115.66 332.704 L2115.66 336.269 L2111.28 336.269 Q2106.35 336.269 2104.48 334.44 Q2102.6 332.588 2102.6 327.727 L2102.6 313.653 L2099.48 313.653 L2099.48 310.343 L2102.6 310.343 L2102.6 302.982 L2106.88 302.982 Z\" fill=\"#000000\" fill-rule=\"evenodd\" fill-opacity=\"1\" /><path clip-path=\"url(#clip690)\" d=\"M2136.28 314.325 Q2135.56 313.908 2134.71 313.723 Q2133.87 313.514 2132.86 313.514 Q2129.24 313.514 2127.3 315.876 Q2125.38 318.213 2125.38 322.612 L2125.38 336.269 L2121.1 336.269 L2121.1 310.343 L2125.38 310.343 L2125.38 314.371 Q2126.72 312.01 2128.87 310.876 Q2131.03 309.718 2134.11 309.718 Q2134.55 309.718 2135.08 309.788 Q2135.61 309.834 2136.26 309.95 L2136.28 314.325 Z\" fill=\"#000000\" fill-rule=\"evenodd\" fill-opacity=\"1\" /><path clip-path=\"url(#clip690)\" d=\"M2140.31 326.038 L2140.31 310.343 L2144.57 310.343 L2144.57 325.875 Q2144.57 329.556 2146 331.408 Q2147.44 333.237 2150.31 333.237 Q2153.76 333.237 2155.75 331.037 Q2157.76 328.838 2157.76 325.042 L2157.76 310.343 L2162.02 310.343 L2162.02 336.269 L2157.76 336.269 L2157.76 332.287 Q2156.21 334.649 2154.15 335.806 Q2152.11 336.94 2149.41 336.94 Q2144.94 336.94 2142.62 334.162 Q2140.31 331.385 2140.31 326.038 M2151.03 309.718 L2151.03 309.718 Z\" fill=\"#000000\" fill-rule=\"evenodd\" fill-opacity=\"1\" /><path clip-path=\"url(#clip690)\" d=\"M2189.45 311.339 L2189.45 315.32 Q2187.65 314.325 2185.82 313.839 Q2184.01 313.329 2182.16 313.329 Q2178.02 313.329 2175.73 315.968 Q2173.43 318.584 2173.43 323.329 Q2173.43 328.075 2175.73 330.713 Q2178.02 333.329 2182.16 333.329 Q2184.01 333.329 2185.82 332.843 Q2187.65 332.334 2189.45 331.338 L2189.45 335.274 Q2187.67 336.107 2185.75 336.524 Q2183.85 336.94 2181.7 336.94 Q2175.84 336.94 2172.39 333.26 Q2168.94 329.579 2168.94 323.329 Q2168.94 316.987 2172.42 313.352 Q2175.91 309.718 2181.98 309.718 Q2183.94 309.718 2185.82 310.135 Q2187.69 310.528 2189.45 311.339 Z\" fill=\"#000000\" fill-rule=\"evenodd\" fill-opacity=\"1\" /><path clip-path=\"url(#clip690)\" d=\"M2201.07 302.982 L2201.07 310.343 L2209.85 310.343 L2209.85 313.653 L2201.07 313.653 L2201.07 327.727 Q2201.07 330.899 2201.93 331.801 Q2202.81 332.704 2205.47 332.704 L2209.85 332.704 L2209.85 336.269 L2205.47 336.269 Q2200.54 336.269 2198.67 334.44 Q2196.79 332.588 2196.79 327.727 L2196.79 313.653 L2193.67 313.653 L2193.67 310.343 L2196.79 310.343 L2196.79 302.982 L2201.07 302.982 Z\" fill=\"#000000\" fill-rule=\"evenodd\" fill-opacity=\"1\" /><path clip-path=\"url(#clip690)\" d=\"M2215.45 310.343 L2219.71 310.343 L2219.71 336.269 L2215.45 336.269 L2215.45 310.343 M2215.45 300.251 L2219.71 300.251 L2219.71 305.644 L2215.45 305.644 L2215.45 300.251 Z\" fill=\"#000000\" fill-rule=\"evenodd\" fill-opacity=\"1\" /><path clip-path=\"url(#clip690)\" d=\"M2238.67 313.329 Q2235.24 313.329 2233.25 316.014 Q2231.26 318.676 2231.26 323.329 Q2231.26 327.982 2233.23 330.667 Q2235.22 333.329 2238.67 333.329 Q2242.07 333.329 2244.06 330.644 Q2246.05 327.959 2246.05 323.329 Q2246.05 318.723 2244.06 316.038 Q2242.07 313.329 2238.67 313.329 M2238.67 309.718 Q2244.22 309.718 2247.39 313.329 Q2250.56 316.94 2250.56 323.329 Q2250.56 329.695 2247.39 333.329 Q2244.22 336.94 2238.67 336.94 Q2233.09 336.94 2229.92 333.329 Q2226.77 329.695 2226.77 323.329 Q2226.77 316.94 2229.92 313.329 Q2233.09 309.718 2238.67 309.718 Z\" fill=\"#000000\" fill-rule=\"evenodd\" fill-opacity=\"1\" /><path clip-path=\"url(#clip690)\" d=\"M2279.17 320.621 L2279.17 336.269 L2274.92 336.269 L2274.92 320.76 Q2274.92 317.079 2273.48 315.251 Q2272.04 313.422 2269.17 313.422 Q2265.73 313.422 2263.73 315.621 Q2261.74 317.82 2261.74 321.616 L2261.74 336.269 L2257.46 336.269 L2257.46 310.343 L2261.74 310.343 L2261.74 314.371 Q2263.27 312.033 2265.33 310.876 Q2267.42 309.718 2270.12 309.718 Q2274.59 309.718 2276.88 312.496 Q2279.17 315.251 2279.17 320.621 Z\" fill=\"#000000\" fill-rule=\"evenodd\" fill-opacity=\"1\" /><path clip-path=\"url(#clip690)\" d=\"M2324.91 322.241 L2324.91 324.325 L2305.33 324.325 Q2305.61 328.723 2307.97 331.037 Q2310.35 333.329 2314.59 333.329 Q2317.04 333.329 2319.34 332.727 Q2321.65 332.125 2323.92 330.922 L2323.92 334.95 Q2321.63 335.922 2319.22 336.431 Q2316.81 336.94 2314.34 336.94 Q2308.13 336.94 2304.5 333.329 Q2300.89 329.718 2300.89 323.561 Q2300.89 317.195 2304.31 313.468 Q2307.76 309.718 2313.6 309.718 Q2318.83 309.718 2321.86 313.098 Q2324.91 316.454 2324.91 322.241 M2320.66 320.991 Q2320.61 317.496 2318.69 315.413 Q2316.79 313.329 2313.64 313.329 Q2310.08 313.329 2307.92 315.343 Q2305.79 317.357 2305.47 321.014 L2320.66 320.991 Z\" fill=\"#000000\" fill-rule=\"evenodd\" fill-opacity=\"1\" /><path clip-path=\"url(#clip690)\" d=\"M2346.93 314.325 Q2346.21 313.908 2345.35 313.723 Q2344.52 313.514 2343.5 313.514 Q2339.89 313.514 2337.95 315.876 Q2336.03 318.213 2336.03 322.612 L2336.03 336.269 L2331.74 336.269 L2331.74 310.343 L2336.03 310.343 L2336.03 314.371 Q2337.37 312.01 2339.52 310.876 Q2341.67 309.718 2344.75 309.718 Q2345.19 309.718 2345.72 309.788 Q2346.26 309.834 2346.91 309.95 L2346.93 314.325 Z\" fill=\"#000000\" fill-rule=\"evenodd\" fill-opacity=\"1\" /><path clip-path=\"url(#clip690)\" d=\"M2365.59 314.325 Q2364.87 313.908 2364.01 313.723 Q2363.18 313.514 2362.16 313.514 Q2358.55 313.514 2356.6 315.876 Q2354.68 318.213 2354.68 322.612 L2354.68 336.269 L2350.4 336.269 L2350.4 310.343 L2354.68 310.343 L2354.68 314.371 Q2356.03 312.01 2358.18 310.876 Q2360.33 309.718 2363.41 309.718 Q2363.85 309.718 2364.38 309.788 Q2364.91 309.834 2365.56 309.95 L2365.59 314.325 Z\" fill=\"#000000\" fill-rule=\"evenodd\" fill-opacity=\"1\" /><path clip-path=\"url(#clip690)\" d=\"M2379.06 313.329 Q2375.63 313.329 2373.64 316.014 Q2371.65 318.676 2371.65 323.329 Q2371.65 327.982 2373.62 330.667 Q2375.61 333.329 2379.06 333.329 Q2382.46 333.329 2384.45 330.644 Q2386.44 327.959 2386.44 323.329 Q2386.44 318.723 2384.45 316.038 Q2382.46 313.329 2379.06 313.329 M2379.06 309.718 Q2384.61 309.718 2387.78 313.329 Q2390.96 316.94 2390.96 323.329 Q2390.96 329.695 2387.78 333.329 Q2384.61 336.94 2379.06 336.94 Q2373.48 336.94 2370.31 333.329 Q2367.16 329.695 2367.16 323.329 Q2367.16 316.94 2370.31 313.329 Q2373.48 309.718 2379.06 309.718 Z\" fill=\"#000000\" fill-rule=\"evenodd\" fill-opacity=\"1\" /><path clip-path=\"url(#clip690)\" d=\"M2413.04 314.325 Q2412.32 313.908 2411.47 313.723 Q2410.63 313.514 2409.61 313.514 Q2406 313.514 2404.06 315.876 Q2402.14 318.213 2402.14 322.612 L2402.14 336.269 L2397.85 336.269 L2397.85 310.343 L2402.14 310.343 L2402.14 314.371 Q2403.48 312.01 2405.63 310.876 Q2407.78 309.718 2410.86 309.718 Q2411.3 309.718 2411.84 309.788 Q2412.37 309.834 2413.02 309.95 L2413.04 314.325 Z\" fill=\"#000000\" fill-rule=\"evenodd\" fill-opacity=\"1\" /><path clip-path=\"url(#clip690)\" d=\"\n",
       "M2841.61 3013.49 L5152.76 3013.49 L5152.76 118.82 L2841.61 118.82  Z\n",
       "  \" fill=\"#ffffff\" fill-rule=\"evenodd\" fill-opacity=\"1\"/>\n",
       "<defs>\n",
       "  <clipPath id=\"clip693\">\n",
       "    <rect x=\"2841\" y=\"118\" width=\"2312\" height=\"2896\"/>\n",
       "  </clipPath>\n",
       "</defs>\n",
       "<polyline clip-path=\"url(#clip693)\" style=\"stroke:#000000; stroke-linecap:butt; stroke-linejoin:round; stroke-width:2; stroke-opacity:0.1; fill:none\" points=\"\n",
       "  3045.3,3013.49 3045.3,118.82 \n",
       "  \"/>\n",
       "<polyline clip-path=\"url(#clip693)\" style=\"stroke:#000000; stroke-linecap:butt; stroke-linejoin:round; stroke-width:2; stroke-opacity:0.1; fill:none\" points=\"\n",
       "  3425.84,3013.49 3425.84,118.82 \n",
       "  \"/>\n",
       "<polyline clip-path=\"url(#clip693)\" style=\"stroke:#000000; stroke-linecap:butt; stroke-linejoin:round; stroke-width:2; stroke-opacity:0.1; fill:none\" points=\"\n",
       "  3806.38,3013.49 3806.38,118.82 \n",
       "  \"/>\n",
       "<polyline clip-path=\"url(#clip693)\" style=\"stroke:#000000; stroke-linecap:butt; stroke-linejoin:round; stroke-width:2; stroke-opacity:0.1; fill:none\" points=\"\n",
       "  4186.92,3013.49 4186.92,118.82 \n",
       "  \"/>\n",
       "<polyline clip-path=\"url(#clip693)\" style=\"stroke:#000000; stroke-linecap:butt; stroke-linejoin:round; stroke-width:2; stroke-opacity:0.1; fill:none\" points=\"\n",
       "  4567.45,3013.49 4567.45,118.82 \n",
       "  \"/>\n",
       "<polyline clip-path=\"url(#clip693)\" style=\"stroke:#000000; stroke-linecap:butt; stroke-linejoin:round; stroke-width:2; stroke-opacity:0.1; fill:none\" points=\"\n",
       "  4947.99,3013.49 4947.99,118.82 \n",
       "  \"/>\n",
       "<polyline clip-path=\"url(#clip690)\" style=\"stroke:#000000; stroke-linecap:butt; stroke-linejoin:round; stroke-width:4; stroke-opacity:1; fill:none\" points=\"\n",
       "  2841.61,3013.49 5152.76,3013.49 \n",
       "  \"/>\n",
       "<polyline clip-path=\"url(#clip690)\" style=\"stroke:#000000; stroke-linecap:butt; stroke-linejoin:round; stroke-width:4; stroke-opacity:1; fill:none\" points=\"\n",
       "  3045.3,3013.49 3045.3,2994.6 \n",
       "  \"/>\n",
       "<polyline clip-path=\"url(#clip690)\" style=\"stroke:#000000; stroke-linecap:butt; stroke-linejoin:round; stroke-width:4; stroke-opacity:1; fill:none\" points=\"\n",
       "  3425.84,3013.49 3425.84,2994.6 \n",
       "  \"/>\n",
       "<polyline clip-path=\"url(#clip690)\" style=\"stroke:#000000; stroke-linecap:butt; stroke-linejoin:round; stroke-width:4; stroke-opacity:1; fill:none\" points=\"\n",
       "  3806.38,3013.49 3806.38,2994.6 \n",
       "  \"/>\n",
       "<polyline clip-path=\"url(#clip690)\" style=\"stroke:#000000; stroke-linecap:butt; stroke-linejoin:round; stroke-width:4; stroke-opacity:1; fill:none\" points=\"\n",
       "  4186.92,3013.49 4186.92,2994.6 \n",
       "  \"/>\n",
       "<polyline clip-path=\"url(#clip690)\" style=\"stroke:#000000; stroke-linecap:butt; stroke-linejoin:round; stroke-width:4; stroke-opacity:1; fill:none\" points=\"\n",
       "  4567.45,3013.49 4567.45,2994.6 \n",
       "  \"/>\n",
       "<polyline clip-path=\"url(#clip690)\" style=\"stroke:#000000; stroke-linecap:butt; stroke-linejoin:round; stroke-width:4; stroke-opacity:1; fill:none\" points=\"\n",
       "  4947.99,3013.49 4947.99,2994.6 \n",
       "  \"/>\n",
       "<path clip-path=\"url(#clip690)\" d=\"M3035.68 3094.36 L3043.32 3094.36 L3043.32 3067.99 L3035.01 3069.66 L3035.01 3065.4 L3043.27 3063.73 L3047.95 3063.73 L3047.95 3094.36 L3055.59 3094.36 L3055.59 3098.29 L3035.68 3098.29 L3035.68 3094.36 Z\" fill=\"#000000\" fill-rule=\"evenodd\" fill-opacity=\"1\" /><path clip-path=\"url(#clip690)\" d=\"M3420.49 3094.36 L3436.81 3094.36 L3436.81 3098.29 L3414.86 3098.29 L3414.86 3094.36 Q3417.53 3091.6 3422.11 3086.97 Q3426.72 3082.32 3427.9 3080.98 Q3430.14 3078.46 3431.02 3076.72 Q3431.92 3074.96 3431.92 3073.27 Q3431.92 3070.52 3429.98 3068.78 Q3428.06 3067.04 3424.96 3067.04 Q3422.76 3067.04 3420.3 3067.81 Q3417.87 3068.57 3415.1 3070.12 L3415.1 3065.4 Q3417.92 3064.27 3420.37 3063.69 Q3422.83 3063.11 3424.86 3063.11 Q3430.24 3063.11 3433.43 3065.79 Q3436.62 3068.48 3436.62 3072.97 Q3436.62 3075.1 3435.81 3077.02 Q3435.03 3078.92 3432.92 3081.51 Q3432.34 3082.18 3429.24 3085.4 Q3426.14 3088.59 3420.49 3094.36 Z\" fill=\"#000000\" fill-rule=\"evenodd\" fill-opacity=\"1\" /><path clip-path=\"url(#clip690)\" d=\"M3810.62 3079.66 Q3813.98 3080.38 3815.86 3082.65 Q3817.75 3084.91 3817.75 3088.25 Q3817.75 3093.36 3814.23 3096.16 Q3810.72 3098.96 3804.23 3098.96 Q3802.06 3098.96 3799.74 3098.53 Q3797.45 3098.11 3795 3097.25 L3795 3092.74 Q3796.94 3093.87 3799.26 3094.45 Q3801.57 3095.03 3804.1 3095.03 Q3808.49 3095.03 3810.79 3093.29 Q3813.1 3091.56 3813.1 3088.25 Q3813.1 3085.19 3810.95 3083.48 Q3808.82 3081.74 3805 3081.74 L3800.97 3081.74 L3800.97 3077.9 L3805.18 3077.9 Q3808.63 3077.9 3810.46 3076.53 Q3812.29 3075.15 3812.29 3072.55 Q3812.29 3069.89 3810.39 3068.48 Q3808.52 3067.04 3805 3067.04 Q3803.08 3067.04 3800.88 3067.46 Q3798.68 3067.88 3796.04 3068.76 L3796.04 3064.59 Q3798.7 3063.85 3801.02 3063.48 Q3803.36 3063.11 3805.42 3063.11 Q3810.74 3063.11 3813.84 3065.54 Q3816.94 3067.95 3816.94 3072.07 Q3816.94 3074.94 3815.3 3076.93 Q3813.66 3078.9 3810.62 3079.66 Z\" fill=\"#000000\" fill-rule=\"evenodd\" fill-opacity=\"1\" /><path clip-path=\"url(#clip690)\" d=\"M4189.92 3067.81 L4178.12 3086.26 L4189.92 3086.26 L4189.92 3067.81 M4188.7 3063.73 L4194.58 3063.73 L4194.58 3086.26 L4199.51 3086.26 L4199.51 3090.15 L4194.58 3090.15 L4194.58 3098.29 L4189.92 3098.29 L4189.92 3090.15 L4174.32 3090.15 L4174.32 3085.63 L4188.7 3063.73 Z\" fill=\"#000000\" fill-rule=\"evenodd\" fill-opacity=\"1\" /><path clip-path=\"url(#clip690)\" d=\"M4557.73 3063.73 L4576.09 3063.73 L4576.09 3067.67 L4562.01 3067.67 L4562.01 3076.14 Q4563.03 3075.79 4564.05 3075.63 Q4565.07 3075.45 4566.09 3075.45 Q4571.88 3075.45 4575.26 3078.62 Q4578.63 3081.79 4578.63 3087.21 Q4578.63 3092.78 4575.16 3095.89 Q4571.69 3098.96 4565.37 3098.96 Q4563.2 3098.96 4560.93 3098.59 Q4558.68 3098.22 4556.27 3097.48 L4556.27 3092.78 Q4558.36 3093.92 4560.58 3094.47 Q4562.8 3095.03 4565.28 3095.03 Q4569.28 3095.03 4571.62 3092.92 Q4573.96 3090.82 4573.96 3087.21 Q4573.96 3083.59 4571.62 3081.49 Q4569.28 3079.38 4565.28 3079.38 Q4563.4 3079.38 4561.53 3079.8 Q4559.68 3080.22 4557.73 3081.09 L4557.73 3063.73 Z\" fill=\"#000000\" fill-rule=\"evenodd\" fill-opacity=\"1\" /><path clip-path=\"url(#clip690)\" d=\"M4948.4 3079.15 Q4945.25 3079.15 4943.4 3081.3 Q4941.57 3083.46 4941.57 3087.21 Q4941.57 3090.93 4943.4 3093.11 Q4945.25 3095.26 4948.4 3095.26 Q4951.55 3095.26 4953.38 3093.11 Q4955.23 3090.93 4955.23 3087.21 Q4955.23 3083.46 4953.38 3081.3 Q4951.55 3079.15 4948.4 3079.15 M4957.68 3064.5 L4957.68 3068.76 Q4955.92 3067.92 4954.12 3067.48 Q4952.33 3067.04 4950.57 3067.04 Q4945.94 3067.04 4943.49 3070.17 Q4941.06 3073.29 4940.71 3079.61 Q4942.08 3077.6 4944.14 3076.53 Q4946.2 3075.45 4948.68 3075.45 Q4953.88 3075.45 4956.89 3078.62 Q4959.93 3081.77 4959.93 3087.21 Q4959.93 3092.53 4956.78 3095.75 Q4953.63 3098.96 4948.4 3098.96 Q4942.4 3098.96 4939.23 3094.38 Q4936.06 3089.78 4936.06 3081.05 Q4936.06 3072.85 4939.95 3067.99 Q4943.84 3063.11 4950.39 3063.11 Q4952.15 3063.11 4953.93 3063.46 Q4955.74 3063.8 4957.68 3064.5 Z\" fill=\"#000000\" fill-rule=\"evenodd\" fill-opacity=\"1\" /><path clip-path=\"url(#clip690)\" d=\"M3722.93 3152.84 L3729.36 3152.84 L3729.36 3172.92 L3750.69 3152.84 L3758.96 3152.84 L3735.38 3174.99 L3760.65 3200.36 L3752.18 3200.36 L3729.36 3177.47 L3729.36 3200.36 L3722.93 3200.36 L3722.93 3152.84 Z\" fill=\"#000000\" fill-rule=\"evenodd\" fill-opacity=\"1\" /><path clip-path=\"url(#clip690)\" d=\"M3780.48 3182.44 Q3773.38 3182.44 3770.64 3184.06 Q3767.9 3185.68 3767.9 3189.6 Q3767.9 3192.72 3769.94 3194.56 Q3772.01 3196.38 3775.54 3196.38 Q3780.41 3196.38 3783.34 3192.94 Q3786.3 3189.47 3786.3 3183.74 L3786.3 3182.44 L3780.48 3182.44 M3792.16 3180.02 L3792.16 3200.36 L3786.3 3200.36 L3786.3 3194.95 Q3784.3 3198.19 3781.3 3199.75 Q3778.31 3201.28 3773.98 3201.28 Q3768.51 3201.28 3765.26 3198.23 Q3762.05 3195.14 3762.05 3189.98 Q3762.05 3183.97 3766.06 3180.91 Q3770.1 3177.85 3778.09 3177.85 L3786.3 3177.85 L3786.3 3177.28 Q3786.3 3173.24 3783.63 3171.04 Q3780.99 3168.82 3776.18 3168.82 Q3773.12 3168.82 3770.23 3169.55 Q3767.33 3170.28 3764.66 3171.74 L3764.66 3166.33 Q3767.87 3165.09 3770.9 3164.49 Q3773.92 3163.85 3776.79 3163.85 Q3784.52 3163.85 3788.34 3167.86 Q3792.16 3171.87 3792.16 3180.02 Z\" fill=\"#000000\" fill-rule=\"evenodd\" fill-opacity=\"1\" /><path clip-path=\"url(#clip690)\" d=\"M3833.85 3178.84 L3833.85 3200.36 L3828 3200.36 L3828 3179.03 Q3828 3173.97 3826.02 3171.46 Q3824.05 3168.94 3820.1 3168.94 Q3815.36 3168.94 3812.62 3171.97 Q3809.89 3174.99 3809.89 3180.21 L3809.89 3200.36 L3804 3200.36 L3804 3150.83 L3809.89 3150.83 L3809.89 3170.25 Q3811.99 3167.03 3814.82 3165.44 Q3817.68 3163.85 3821.41 3163.85 Q3827.55 3163.85 3830.7 3167.67 Q3833.85 3171.46 3833.85 3178.84 Z\" fill=\"#000000\" fill-rule=\"evenodd\" fill-opacity=\"1\" /><path clip-path=\"url(#clip690)\" d=\"M3861.74 3182.44 Q3854.64 3182.44 3851.9 3184.06 Q3849.16 3185.68 3849.16 3189.6 Q3849.16 3192.72 3851.2 3194.56 Q3853.27 3196.38 3856.8 3196.38 Q3861.67 3196.38 3864.6 3192.94 Q3867.56 3189.47 3867.56 3183.74 L3867.56 3182.44 L3861.74 3182.44 M3873.42 3180.02 L3873.42 3200.36 L3867.56 3200.36 L3867.56 3194.95 Q3865.55 3198.19 3862.56 3199.75 Q3859.57 3201.28 3855.24 3201.28 Q3849.77 3201.28 3846.52 3198.23 Q3843.31 3195.14 3843.31 3189.98 Q3843.31 3183.97 3847.32 3180.91 Q3851.36 3177.85 3859.35 3177.85 L3867.56 3177.85 L3867.56 3177.28 Q3867.56 3173.24 3864.89 3171.04 Q3862.24 3168.82 3857.44 3168.82 Q3854.38 3168.82 3851.49 3169.55 Q3848.59 3170.28 3845.92 3171.74 L3845.92 3166.33 Q3849.13 3165.09 3852.15 3164.49 Q3855.18 3163.85 3858.04 3163.85 Q3865.78 3163.85 3869.6 3167.86 Q3873.42 3171.87 3873.42 3180.02 Z\" fill=\"#000000\" fill-rule=\"evenodd\" fill-opacity=\"1\" /><path clip-path=\"url(#clip690)\" d=\"M3915.11 3178.84 L3915.11 3200.36 L3909.26 3200.36 L3909.26 3179.03 Q3909.26 3173.97 3907.28 3171.46 Q3905.31 3168.94 3901.36 3168.94 Q3896.62 3168.94 3893.88 3171.97 Q3891.14 3174.99 3891.14 3180.21 L3891.14 3200.36 L3885.26 3200.36 L3885.26 3164.71 L3891.14 3164.71 L3891.14 3170.25 Q3893.25 3167.03 3896.08 3165.44 Q3898.94 3163.85 3902.67 3163.85 Q3908.81 3163.85 3911.96 3167.67 Q3915.11 3171.46 3915.11 3178.84 Z\" fill=\"#000000\" fill-rule=\"evenodd\" fill-opacity=\"1\" /><path clip-path=\"url(#clip690)\" d=\"M3975.27 3171.55 Q3977.46 3167.61 3980.52 3165.73 Q3983.57 3163.85 3987.71 3163.85 Q3993.28 3163.85 3996.31 3167.77 Q3999.33 3171.65 3999.33 3178.84 L3999.33 3200.36 L3993.44 3200.36 L3993.44 3179.03 Q3993.44 3173.91 3991.63 3171.43 Q3989.81 3168.94 3986.09 3168.94 Q3981.54 3168.94 3978.9 3171.97 Q3976.25 3174.99 3976.25 3180.21 L3976.25 3200.36 L3970.37 3200.36 L3970.37 3179.03 Q3970.37 3173.88 3968.55 3171.43 Q3966.74 3168.94 3962.95 3168.94 Q3958.46 3168.94 3955.82 3172 Q3953.18 3175.02 3953.18 3180.21 L3953.18 3200.36 L3947.29 3200.36 L3947.29 3164.71 L3953.18 3164.71 L3953.18 3170.25 Q3955.18 3166.97 3957.98 3165.41 Q3960.79 3163.85 3964.64 3163.85 Q3968.52 3163.85 3971.23 3165.82 Q3973.96 3167.8 3975.27 3171.55 Z\" fill=\"#000000\" fill-rule=\"evenodd\" fill-opacity=\"1\" /><path clip-path=\"url(#clip690)\" d=\"M4027.21 3182.44 Q4020.11 3182.44 4017.38 3184.06 Q4014.64 3185.68 4014.64 3189.6 Q4014.64 3192.72 4016.68 3194.56 Q4018.75 3196.38 4022.28 3196.38 Q4027.15 3196.38 4030.08 3192.94 Q4033.04 3189.47 4033.04 3183.74 L4033.04 3182.44 L4027.21 3182.44 M4038.89 3180.02 L4038.89 3200.36 L4033.04 3200.36 L4033.04 3194.95 Q4031.03 3198.19 4028.04 3199.75 Q4025.05 3201.28 4020.72 3201.28 Q4015.24 3201.28 4012 3198.23 Q4008.78 3195.14 4008.78 3189.98 Q4008.78 3183.97 4012.79 3180.91 Q4016.84 3177.85 4024.82 3177.85 L4033.04 3177.85 L4033.04 3177.28 Q4033.04 3173.24 4030.36 3171.04 Q4027.72 3168.82 4022.92 3168.82 Q4019.86 3168.82 4016.96 3169.55 Q4014.07 3170.28 4011.39 3171.74 L4011.39 3166.33 Q4014.61 3165.09 4017.63 3164.49 Q4020.66 3163.85 4023.52 3163.85 Q4031.25 3163.85 4035.07 3167.86 Q4038.89 3171.87 4038.89 3180.02 Z\" fill=\"#000000\" fill-rule=\"evenodd\" fill-opacity=\"1\" /><path clip-path=\"url(#clip690)\" d=\"M4056.75 3154.59 L4056.75 3164.71 L4068.81 3164.71 L4068.81 3169.26 L4056.75 3169.26 L4056.75 3188.61 Q4056.75 3192.97 4057.93 3194.21 Q4059.14 3195.46 4062.8 3195.46 L4068.81 3195.46 L4068.81 3200.36 L4062.8 3200.36 Q4056.02 3200.36 4053.44 3197.84 Q4050.86 3195.3 4050.86 3188.61 L4050.86 3169.26 L4046.56 3169.26 L4046.56 3164.71 L4050.86 3164.71 L4050.86 3154.59 L4056.75 3154.59 Z\" fill=\"#000000\" fill-rule=\"evenodd\" fill-opacity=\"1\" /><path clip-path=\"url(#clip690)\" d=\"M4097.17 3170.18 Q4096.18 3169.61 4095.01 3169.36 Q4093.86 3169.07 4092.46 3169.07 Q4087.5 3169.07 4084.82 3172.32 Q4082.18 3175.53 4082.18 3181.58 L4082.18 3200.36 L4076.29 3200.36 L4076.29 3164.71 L4082.18 3164.71 L4082.18 3170.25 Q4084.03 3167 4086.99 3165.44 Q4089.95 3163.85 4094.18 3163.85 Q4094.78 3163.85 4095.52 3163.95 Q4096.25 3164.01 4097.14 3164.17 L4097.17 3170.18 Z\" fill=\"#000000\" fill-rule=\"evenodd\" fill-opacity=\"1\" /><path clip-path=\"url(#clip690)\" d=\"M4103.31 3164.71 L4109.17 3164.71 L4109.17 3200.36 L4103.31 3200.36 L4103.31 3164.71 M4103.31 3150.83 L4109.17 3150.83 L4109.17 3158.25 L4103.31 3158.25 L4103.31 3150.83 Z\" fill=\"#000000\" fill-rule=\"evenodd\" fill-opacity=\"1\" /><path clip-path=\"url(#clip690)\" d=\"M4151.06 3164.71 L4138.17 3182.06 L4151.73 3200.36 L4144.82 3200.36 L4134.44 3186.35 L4124.07 3200.36 L4117.16 3200.36 L4131 3181.71 L4118.34 3164.71 L4125.24 3164.71 L4134.7 3177.41 L4144.15 3164.71 L4151.06 3164.71 Z\" fill=\"#000000\" fill-rule=\"evenodd\" fill-opacity=\"1\" /><path clip-path=\"url(#clip690)\" d=\"M4204.66 3177.76 L4184.38 3177.76 Q4184.86 3187.28 4187.05 3191.32 Q4189.79 3196.28 4194.53 3196.28 Q4199.31 3196.28 4201.95 3191.29 Q4204.27 3186.89 4204.66 3177.76 M4204.56 3172.35 Q4203.67 3163.31 4201.95 3160.13 Q4199.21 3155.1 4194.53 3155.1 Q4189.66 3155.1 4187.09 3160.06 Q4185.05 3164.07 4184.44 3172.35 L4204.56 3172.35 M4194.53 3150.32 Q4202.17 3150.32 4206.53 3157.07 Q4210.89 3163.79 4210.89 3175.69 Q4210.89 3187.56 4206.53 3194.31 Q4202.17 3201.09 4194.53 3201.09 Q4186.86 3201.09 4182.54 3194.31 Q4178.17 3187.56 4178.17 3175.69 Q4178.17 3163.79 4182.54 3157.07 Q4186.86 3150.32 4194.53 3150.32 Z\" fill=\"#000000\" fill-rule=\"evenodd\" fill-opacity=\"1\" /><path clip-path=\"url(#clip690)\" d=\"M4218.82 3166.14 L4244.51 3166.14 L4244.51 3169.17 L4218.82 3169.17 L4218.82 3166.14 Z\" fill=\"#000000\" fill-rule=\"evenodd\" fill-opacity=\"1\" /><path clip-path=\"url(#clip690)\" d=\"M4253.83 3175.6 L4260.32 3175.6 L4260.32 3156.15 L4253.23 3157.45 L4253.23 3153.76 L4260.55 3152.52 L4264.91 3152.52 L4264.91 3175.6 L4271.43 3175.6 L4271.43 3179.1 L4253.83 3179.1 L4253.83 3175.6 Z\" fill=\"#000000\" fill-rule=\"evenodd\" fill-opacity=\"1\" /><polyline clip-path=\"url(#clip693)\" style=\"stroke:#000000; stroke-linecap:butt; stroke-linejoin:round; stroke-width:2; stroke-opacity:0.1; fill:none\" points=\"\n",
       "  2841.61,1669.83 5152.76,1669.83 \n",
       "  \"/>\n",
       "<polyline clip-path=\"url(#clip693)\" style=\"stroke:#000000; stroke-linecap:butt; stroke-linejoin:round; stroke-width:2; stroke-opacity:0.1; fill:none\" points=\"\n",
       "  2841.61,169.29 5152.76,169.29 \n",
       "  \"/>\n",
       "<polyline clip-path=\"url(#clip690)\" style=\"stroke:#000000; stroke-linecap:butt; stroke-linejoin:round; stroke-width:4; stroke-opacity:1; fill:none\" points=\"\n",
       "  2841.61,3013.49 2841.61,118.82 \n",
       "  \"/>\n",
       "<polyline clip-path=\"url(#clip690)\" style=\"stroke:#000000; stroke-linecap:butt; stroke-linejoin:round; stroke-width:4; stroke-opacity:1; fill:none\" points=\"\n",
       "  2841.61,1669.83 2860.51,1669.83 \n",
       "  \"/>\n",
       "<polyline clip-path=\"url(#clip690)\" style=\"stroke:#000000; stroke-linecap:butt; stroke-linejoin:round; stroke-width:4; stroke-opacity:1; fill:none\" points=\"\n",
       "  2841.61,169.29 2860.51,169.29 \n",
       "  \"/>\n",
       "<path clip-path=\"url(#clip690)\" d=\"M2637.66 1689.62 L2645.3 1689.62 L2645.3 1663.25 L2636.99 1664.92 L2636.99 1660.66 L2645.26 1658.99 L2649.93 1658.99 L2649.93 1689.62 L2657.57 1689.62 L2657.57 1693.55 L2637.66 1693.55 L2637.66 1689.62 Z\" fill=\"#000000\" fill-rule=\"evenodd\" fill-opacity=\"1\" /><path clip-path=\"url(#clip690)\" d=\"M2677.02 1662.07 Q2673.4 1662.07 2671.58 1665.64 Q2669.77 1669.18 2669.77 1676.31 Q2669.77 1683.41 2671.58 1686.98 Q2673.4 1690.52 2677.02 1690.52 Q2680.65 1690.52 2682.45 1686.98 Q2684.28 1683.41 2684.28 1676.31 Q2684.28 1669.18 2682.45 1665.64 Q2680.65 1662.07 2677.02 1662.07 M2677.02 1658.37 Q2682.83 1658.37 2685.88 1662.97 Q2688.96 1667.56 2688.96 1676.31 Q2688.96 1685.03 2685.88 1689.64 Q2682.83 1694.22 2677.02 1694.22 Q2671.2 1694.22 2668.13 1689.64 Q2665.07 1685.03 2665.07 1676.31 Q2665.07 1667.56 2668.13 1662.97 Q2671.2 1658.37 2677.02 1658.37 Z\" fill=\"#000000\" fill-rule=\"evenodd\" fill-opacity=\"1\" /><path clip-path=\"url(#clip690)\" d=\"M2688.96 1652.47 L2713.07 1652.47 L2713.07 1655.67 L2688.96 1655.67 L2688.96 1652.47 Z\" fill=\"#000000\" fill-rule=\"evenodd\" fill-opacity=\"1\" /><path clip-path=\"url(#clip690)\" d=\"M2721.93 1662.95 L2728.14 1662.95 L2728.14 1641.52 L2721.38 1642.88 L2721.38 1639.42 L2728.1 1638.06 L2731.9 1638.06 L2731.9 1662.95 L2738.1 1662.95 L2738.1 1666.14 L2721.93 1666.14 L2721.93 1662.95 Z\" fill=\"#000000\" fill-rule=\"evenodd\" fill-opacity=\"1\" /><path clip-path=\"url(#clip690)\" d=\"M2753.9 1640.56 Q2750.97 1640.56 2749.48 1643.46 Q2748.02 1646.34 2748.02 1652.13 Q2748.02 1657.9 2749.48 1660.8 Q2750.97 1663.68 2753.9 1663.68 Q2756.86 1663.68 2758.32 1660.8 Q2759.81 1657.9 2759.81 1652.13 Q2759.81 1646.34 2758.32 1643.46 Q2756.86 1640.56 2753.9 1640.56 M2753.9 1637.55 Q2758.62 1637.55 2761.11 1641.3 Q2763.61 1645.02 2763.61 1652.13 Q2763.61 1659.22 2761.11 1662.96 Q2758.62 1666.69 2753.9 1666.69 Q2749.18 1666.69 2746.68 1662.96 Q2744.2 1659.22 2744.2 1652.13 Q2744.2 1645.02 2746.68 1641.3 Q2749.18 1637.55 2753.9 1637.55 Z\" fill=\"#000000\" fill-rule=\"evenodd\" fill-opacity=\"1\" /><path clip-path=\"url(#clip690)\" d=\"M2692.9 189.082 L2700.54 189.082 L2700.54 162.717 L2692.23 164.383 L2692.23 160.124 L2700.49 158.457 L2705.17 158.457 L2705.17 189.082 L2712.81 189.082 L2712.81 193.017 L2692.9 193.017 L2692.9 189.082 Z\" fill=\"#000000\" fill-rule=\"evenodd\" fill-opacity=\"1\" /><path clip-path=\"url(#clip690)\" d=\"M2732.25 161.536 Q2728.64 161.536 2726.81 165.101 Q2725.01 168.643 2725.01 175.772 Q2725.01 182.879 2726.81 186.443 Q2728.64 189.985 2732.25 189.985 Q2735.89 189.985 2737.69 186.443 Q2739.52 182.879 2739.52 175.772 Q2739.52 168.643 2737.69 165.101 Q2735.89 161.536 2732.25 161.536 M2732.25 157.832 Q2738.06 157.832 2741.12 162.439 Q2744.2 167.022 2744.2 175.772 Q2744.2 184.499 2741.12 189.105 Q2738.06 193.689 2732.25 193.689 Q2726.44 193.689 2723.36 189.105 Q2720.31 184.499 2720.31 175.772 Q2720.31 167.022 2723.36 162.439 Q2726.44 157.832 2732.25 157.832 Z\" fill=\"#000000\" fill-rule=\"evenodd\" fill-opacity=\"1\" /><path clip-path=\"url(#clip690)\" d=\"M2753.9 140.028 Q2750.97 140.028 2749.48 142.925 Q2748.02 145.802 2748.02 151.595 Q2748.02 157.369 2749.48 160.266 Q2750.97 163.143 2753.9 163.143 Q2756.86 163.143 2758.32 160.266 Q2759.81 157.369 2759.81 151.595 Q2759.81 145.802 2758.32 142.925 Q2756.86 140.028 2753.9 140.028 M2753.9 137.019 Q2758.62 137.019 2761.11 140.762 Q2763.61 144.486 2763.61 151.595 Q2763.61 158.686 2761.11 162.428 Q2758.62 166.152 2753.9 166.152 Q2749.18 166.152 2746.68 162.428 Q2744.2 158.686 2744.2 151.595 Q2744.2 144.486 2746.68 140.762 Q2749.18 137.019 2753.9 137.019 Z\" fill=\"#000000\" fill-rule=\"evenodd\" fill-opacity=\"1\" /><path clip-path=\"url(#clip690)\" d=\"M3512.11 12.096 L3524.3 12.096 L3539.73 53.2532 L3555.25 12.096 L3567.44 12.096 L3567.44 72.576 L3559.46 72.576 L3559.46 19.4686 L3543.87 60.9499 L3535.64 60.9499 L3520.05 19.4686 L3520.05 72.576 L3512.11 72.576 L3512.11 12.096 Z\" fill=\"#000000\" fill-rule=\"evenodd\" fill-opacity=\"1\" /><path clip-path=\"url(#clip690)\" d=\"M3600.94 32.4315 Q3594.95 32.4315 3591.46 37.1306 Q3587.98 41.7891 3587.98 49.9314 Q3587.98 58.0738 3591.42 62.7728 Q3594.91 67.4314 3600.94 67.4314 Q3606.9 67.4314 3610.38 62.7323 Q3613.86 58.0333 3613.86 49.9314 Q3613.86 41.8701 3610.38 37.1711 Q3606.9 32.4315 3600.94 32.4315 M3600.94 26.1121 Q3610.66 26.1121 3616.21 32.4315 Q3621.76 38.7509 3621.76 49.9314 Q3621.76 61.0714 3616.21 67.4314 Q3610.66 73.7508 3600.94 73.7508 Q3591.18 73.7508 3585.63 67.4314 Q3580.12 61.0714 3580.12 49.9314 Q3580.12 38.7509 3585.63 32.4315 Q3591.18 26.1121 3600.94 26.1121 Z\" fill=\"#000000\" fill-rule=\"evenodd\" fill-opacity=\"1\" /><path clip-path=\"url(#clip690)\" d=\"M3663.97 34.0924 L3663.97 9.54393 L3671.43 9.54393 L3671.43 72.576 L3663.97 72.576 L3663.97 65.7705 Q3661.63 69.8214 3658.02 71.8063 Q3654.45 73.7508 3649.43 73.7508 Q3641.21 73.7508 3636.02 67.1883 Q3630.88 60.6258 3630.88 49.9314 Q3630.88 39.2371 3636.02 32.6746 Q3641.21 26.1121 3649.43 26.1121 Q3654.45 26.1121 3658.02 28.0971 Q3661.63 30.0415 3663.97 34.0924 M3638.58 49.9314 Q3638.58 58.1548 3641.94 62.8538 Q3645.34 67.5124 3651.25 67.5124 Q3657.17 67.5124 3660.57 62.8538 Q3663.97 58.1548 3663.97 49.9314 Q3663.97 41.7081 3660.57 37.0496 Q3657.17 32.3505 3651.25 32.3505 Q3645.34 32.3505 3641.94 37.0496 Q3638.58 41.7081 3638.58 49.9314 Z\" fill=\"#000000\" fill-rule=\"evenodd\" fill-opacity=\"1\" /><path clip-path=\"url(#clip690)\" d=\"M3686.78 27.2059 L3694.23 27.2059 L3694.23 72.576 L3686.78 72.576 L3686.78 27.2059 M3686.78 9.54393 L3694.23 9.54393 L3694.23 18.9825 L3686.78 18.9825 L3686.78 9.54393 Z\" fill=\"#000000\" fill-rule=\"evenodd\" fill-opacity=\"1\" /><path clip-path=\"url(#clip690)\" d=\"M3732.8 9.54393 L3732.8 15.7418 L3725.67 15.7418 Q3721.66 15.7418 3720.08 17.3622 Q3718.54 18.9825 3718.54 23.1955 L3718.54 27.2059 L3730.81 27.2059 L3730.81 32.9987 L3718.54 32.9987 L3718.54 72.576 L3711.05 72.576 L3711.05 32.9987 L3703.92 32.9987 L3703.92 27.2059 L3711.05 27.2059 L3711.05 24.0462 Q3711.05 16.471 3714.57 13.0277 Q3718.09 9.54393 3725.75 9.54393 L3732.8 9.54393 Z\" fill=\"#000000\" fill-rule=\"evenodd\" fill-opacity=\"1\" /><path clip-path=\"url(#clip690)\" d=\"M3739.04 27.2059 L3746.49 27.2059 L3746.49 72.576 L3739.04 72.576 L3739.04 27.2059 M3739.04 9.54393 L3746.49 9.54393 L3746.49 18.9825 L3739.04 18.9825 L3739.04 9.54393 Z\" fill=\"#000000\" fill-rule=\"evenodd\" fill-opacity=\"1\" /><path clip-path=\"url(#clip690)\" d=\"M3800.9 48.0275 L3800.9 51.6733 L3766.62 51.6733 Q3767.11 59.3701 3771.24 63.421 Q3775.41 67.4314 3782.83 67.4314 Q3787.12 67.4314 3791.13 66.3781 Q3795.18 65.3249 3799.15 63.2184 L3799.15 70.267 Q3795.14 71.9684 3790.93 72.8596 Q3786.72 73.7508 3782.38 73.7508 Q3771.53 73.7508 3765.17 67.4314 Q3758.85 61.1119 3758.85 50.3365 Q3758.85 39.1965 3764.84 32.6746 Q3770.88 26.1121 3781.09 26.1121 Q3790.24 26.1121 3795.55 32.0264 Q3800.9 37.9003 3800.9 48.0275 M3793.44 45.84 Q3793.36 39.7232 3790 36.0774 Q3786.68 32.4315 3781.17 32.4315 Q3774.93 32.4315 3771.16 35.9558 Q3767.43 39.4801 3766.87 45.8805 L3793.44 45.84 Z\" fill=\"#000000\" fill-rule=\"evenodd\" fill-opacity=\"1\" /><path clip-path=\"url(#clip690)\" d=\"M3842.98 34.0924 L3842.98 9.54393 L3850.44 9.54393 L3850.44 72.576 L3842.98 72.576 L3842.98 65.7705 Q3840.63 69.8214 3837.03 71.8063 Q3833.46 73.7508 3828.44 73.7508 Q3820.22 73.7508 3815.03 67.1883 Q3809.89 60.6258 3809.89 49.9314 Q3809.89 39.2371 3815.03 32.6746 Q3820.22 26.1121 3828.44 26.1121 Q3833.46 26.1121 3837.03 28.0971 Q3840.63 30.0415 3842.98 34.0924 M3817.58 49.9314 Q3817.58 58.1548 3820.95 62.8538 Q3824.35 67.5124 3830.26 67.5124 Q3836.18 67.5124 3839.58 62.8538 Q3842.98 58.1548 3842.98 49.9314 Q3842.98 41.7081 3839.58 37.0496 Q3836.18 32.3505 3830.26 32.3505 Q3824.35 32.3505 3820.95 37.0496 Q3817.58 41.7081 3817.58 49.9314 Z\" fill=\"#000000\" fill-rule=\"evenodd\" fill-opacity=\"1\" /><path clip-path=\"url(#clip690)\" d=\"M3933.72 63.9476 L3933.72 47.7034 L3920.36 47.7034 L3920.36 40.9789 L3941.83 40.9789 L3941.83 66.9452 Q3937.09 70.3075 3931.37 72.0494 Q3925.66 73.7508 3919.18 73.7508 Q3905 73.7508 3896.98 65.4869 Q3889 57.1826 3889 42.3968 Q3889 27.5705 3896.98 19.3066 Q3905 11.0023 3919.18 11.0023 Q3925.1 11.0023 3930.4 12.4606 Q3935.75 13.9189 3940.25 16.7545 L3940.25 25.464 Q3935.71 21.6156 3930.61 19.6712 Q3925.5 17.7268 3919.87 17.7268 Q3908.77 17.7268 3903.18 23.9246 Q3897.63 30.1225 3897.63 42.3968 Q3897.63 54.6305 3903.18 60.8284 Q3908.77 67.0263 3919.87 67.0263 Q3924.2 67.0263 3927.61 66.2971 Q3931.01 65.5274 3933.72 63.9476 Z\" fill=\"#000000\" fill-rule=\"evenodd\" fill-opacity=\"1\" /><path clip-path=\"url(#clip690)\" d=\"M3982.74 34.1734 Q3981.48 33.4443 3979.99 33.1202 Q3978.53 32.7556 3976.74 32.7556 Q3970.43 32.7556 3967.02 36.8875 Q3963.66 40.9789 3963.66 48.6757 L3963.66 72.576 L3956.17 72.576 L3956.17 27.2059 L3963.66 27.2059 L3963.66 34.2544 Q3966.01 30.1225 3969.78 28.1376 Q3973.54 26.1121 3978.93 26.1121 Q3979.7 26.1121 3980.63 26.2337 Q3981.57 26.3147 3982.7 26.5172 L3982.74 34.1734 Z\" fill=\"#000000\" fill-rule=\"evenodd\" fill-opacity=\"1\" /><path clip-path=\"url(#clip690)\" d=\"M4011.18 49.7694 Q4002.14 49.7694 3998.66 51.8354 Q3995.18 53.9013 3995.18 58.8839 Q3995.18 62.8538 3997.77 65.2034 Q4000.4 67.5124 4004.9 67.5124 Q4011.1 67.5124 4014.82 63.1374 Q4018.59 58.7219 4018.59 51.4303 L4018.59 49.7694 L4011.18 49.7694 M4026.04 46.6907 L4026.04 72.576 L4018.59 72.576 L4018.59 65.6895 Q4016.04 69.8214 4012.23 71.8063 Q4008.42 73.7508 4002.91 73.7508 Q3995.95 73.7508 3991.81 69.8619 Q3987.72 65.9325 3987.72 59.3701 Q3987.72 51.7138 3992.83 47.825 Q3997.97 43.9361 4008.14 43.9361 L4018.59 43.9361 L4018.59 43.2069 Q4018.59 38.0623 4015.19 35.2672 Q4011.83 32.4315 4005.71 32.4315 Q4001.82 32.4315 3998.13 33.3632 Q3994.45 34.295 3991.04 36.1584 L3991.04 29.2718 Q3995.14 27.692 3998.98 26.9223 Q4002.83 26.1121 4006.48 26.1121 Q4016.32 26.1121 4021.18 31.2163 Q4026.04 36.3204 4026.04 46.6907 Z\" fill=\"#000000\" fill-rule=\"evenodd\" fill-opacity=\"1\" /><path clip-path=\"url(#clip690)\" d=\"M4076.72 35.9153 Q4079.52 30.8922 4083.41 28.5022 Q4087.29 26.1121 4092.56 26.1121 Q4099.65 26.1121 4103.5 31.0947 Q4107.35 36.0368 4107.35 45.1919 L4107.35 72.576 L4099.85 72.576 L4099.85 45.4349 Q4099.85 38.913 4097.54 35.7533 Q4095.23 32.5936 4090.49 32.5936 Q4084.7 32.5936 4081.34 36.4419 Q4077.98 40.2903 4077.98 46.9338 L4077.98 72.576 L4070.48 72.576 L4070.48 45.4349 Q4070.48 38.8725 4068.17 35.7533 Q4065.86 32.5936 4061.04 32.5936 Q4055.33 32.5936 4051.97 36.4824 Q4048.61 40.3308 4048.61 46.9338 L4048.61 72.576 L4041.11 72.576 L4041.11 27.2059 L4048.61 27.2059 L4048.61 34.2544 Q4051.16 30.082 4054.72 28.0971 Q4058.29 26.1121 4063.19 26.1121 Q4068.13 26.1121 4071.58 28.6237 Q4075.06 31.1352 4076.72 35.9153 Z\" fill=\"#000000\" fill-rule=\"evenodd\" fill-opacity=\"1\" /><path clip-path=\"url(#clip690)\" d=\"M4118.45 46.5287 L4140.28 46.5287 L4140.28 53.1722 L4118.45 53.1722 L4118.45 46.5287 Z\" fill=\"#000000\" fill-rule=\"evenodd\" fill-opacity=\"1\" /><path clip-path=\"url(#clip690)\" d=\"M4188.73 14.0809 L4188.73 22.0612 Q4184.07 19.8332 4179.94 18.7395 Q4175.81 17.6457 4171.96 17.6457 Q4165.27 17.6457 4161.63 20.2383 Q4158.02 22.8309 4158.02 27.611 Q4158.02 31.6214 4160.41 33.6873 Q4162.84 35.7128 4169.57 36.9686 L4174.51 37.9813 Q4183.67 39.7232 4188 44.1387 Q4192.37 48.5136 4192.37 55.8863 Q4192.37 64.6767 4186.46 69.2137 Q4180.59 73.7508 4169.2 73.7508 Q4164.91 73.7508 4160.05 72.7785 Q4155.23 71.8063 4150.04 69.9024 L4150.04 61.4765 Q4155.03 64.2716 4159.81 65.6895 Q4164.59 67.1073 4169.2 67.1073 Q4176.21 67.1073 4180.02 64.3527 Q4183.83 61.598 4183.83 56.4939 Q4183.83 52.0379 4181.07 49.5264 Q4178.36 47.0148 4172.12 45.759 L4167.14 44.7868 Q4157.98 42.9639 4153.89 39.075 Q4149.8 35.1862 4149.8 28.2591 Q4149.8 20.2383 4155.43 15.6203 Q4161.1 11.0023 4171.03 11.0023 Q4175.28 11.0023 4179.7 11.7719 Q4184.11 12.5416 4188.73 14.0809 Z\" fill=\"#000000\" fill-rule=\"evenodd\" fill-opacity=\"1\" /><path clip-path=\"url(#clip690)\" d=\"M4237.46 28.9478 L4237.46 35.9153 Q4234.3 34.1734 4231.1 33.3227 Q4227.94 32.4315 4224.7 32.4315 Q4217.45 32.4315 4213.44 37.0496 Q4209.43 41.6271 4209.43 49.9314 Q4209.43 58.2358 4213.44 62.8538 Q4217.45 67.4314 4224.7 67.4314 Q4227.94 67.4314 4231.1 66.5807 Q4234.3 65.6895 4237.46 63.9476 L4237.46 70.8341 Q4234.34 72.2924 4230.98 73.0216 Q4227.66 73.7508 4223.89 73.7508 Q4213.64 73.7508 4207.61 67.3098 Q4201.57 60.8689 4201.57 49.9314 Q4201.57 38.832 4207.65 32.472 Q4213.76 26.1121 4224.38 26.1121 Q4227.82 26.1121 4231.1 26.8413 Q4234.38 27.5299 4237.46 28.9478 Z\" fill=\"#000000\" fill-rule=\"evenodd\" fill-opacity=\"1\" /><path clip-path=\"url(#clip690)\" d=\"M4288.14 45.1919 L4288.14 72.576 L4280.68 72.576 L4280.68 45.4349 Q4280.68 38.994 4278.17 35.7938 Q4275.66 32.5936 4270.64 32.5936 Q4264.6 32.5936 4261.12 36.4419 Q4257.63 40.2903 4257.63 46.9338 L4257.63 72.576 L4250.14 72.576 L4250.14 9.54393 L4257.63 9.54393 L4257.63 34.2544 Q4260.31 30.163 4263.91 28.1376 Q4267.56 26.1121 4272.3 26.1121 Q4280.12 26.1121 4284.13 30.9732 Q4288.14 35.7938 4288.14 45.1919 Z\" fill=\"#000000\" fill-rule=\"evenodd\" fill-opacity=\"1\" /><path clip-path=\"url(#clip690)\" d=\"M4338.33 35.9153 Q4341.12 30.8922 4345.01 28.5022 Q4348.9 26.1121 4354.17 26.1121 Q4361.26 26.1121 4365.11 31.0947 Q4368.95 36.0368 4368.95 45.1919 L4368.95 72.576 L4361.46 72.576 L4361.46 45.4349 Q4361.46 38.913 4359.15 35.7533 Q4356.84 32.5936 4352.1 32.5936 Q4346.31 32.5936 4342.95 36.4419 Q4339.58 40.2903 4339.58 46.9338 L4339.58 72.576 L4332.09 72.576 L4332.09 45.4349 Q4332.09 38.8725 4329.78 35.7533 Q4327.47 32.5936 4322.65 32.5936 Q4316.94 32.5936 4313.58 36.4824 Q4310.22 40.3308 4310.22 46.9338 L4310.22 72.576 L4302.72 72.576 L4302.72 27.2059 L4310.22 27.2059 L4310.22 34.2544 Q4312.77 30.082 4316.33 28.0971 Q4319.9 26.1121 4324.8 26.1121 Q4329.74 26.1121 4333.18 28.6237 Q4336.67 31.1352 4338.33 35.9153 Z\" fill=\"#000000\" fill-rule=\"evenodd\" fill-opacity=\"1\" /><path clip-path=\"url(#clip690)\" d=\"M4383.82 27.2059 L4391.27 27.2059 L4391.27 72.576 L4383.82 72.576 L4383.82 27.2059 M4383.82 9.54393 L4391.27 9.54393 L4391.27 18.9825 L4383.82 18.9825 L4383.82 9.54393 Z\" fill=\"#000000\" fill-rule=\"evenodd\" fill-opacity=\"1\" /><path clip-path=\"url(#clip690)\" d=\"M4436.73 34.0924 L4436.73 9.54393 L4444.18 9.54393 L4444.18 72.576 L4436.73 72.576 L4436.73 65.7705 Q4434.38 69.8214 4430.77 71.8063 Q4427.21 73.7508 4422.18 73.7508 Q4413.96 73.7508 4408.77 67.1883 Q4403.63 60.6258 4403.63 49.9314 Q4403.63 39.2371 4408.77 32.6746 Q4413.96 26.1121 4422.18 26.1121 Q4427.21 26.1121 4430.77 28.0971 Q4434.38 30.0415 4436.73 34.0924 M4411.33 49.9314 Q4411.33 58.1548 4414.69 62.8538 Q4418.09 67.5124 4424.01 67.5124 Q4429.92 67.5124 4433.32 62.8538 Q4436.73 58.1548 4436.73 49.9314 Q4436.73 41.7081 4433.32 37.0496 Q4429.92 32.3505 4424.01 32.3505 Q4418.09 32.3505 4414.69 37.0496 Q4411.33 41.7081 4411.33 49.9314 Z\" fill=\"#000000\" fill-rule=\"evenodd\" fill-opacity=\"1\" /><path clip-path=\"url(#clip690)\" d=\"M4466.9 14.324 L4466.9 27.2059 L4482.26 27.2059 L4482.26 32.9987 L4466.9 32.9987 L4466.9 57.6282 Q4466.9 63.1779 4468.4 64.7578 Q4469.94 66.3376 4474.6 66.3376 L4482.26 66.3376 L4482.26 72.576 L4474.6 72.576 Q4465.97 72.576 4462.69 69.3758 Q4459.41 66.1351 4459.41 57.6282 L4459.41 32.9987 L4453.94 32.9987 L4453.94 27.2059 L4459.41 27.2059 L4459.41 14.324 L4466.9 14.324 Z\" fill=\"#000000\" fill-rule=\"evenodd\" fill-opacity=\"1\" /><polyline clip-path=\"url(#clip693)\" style=\"stroke:#009af9; stroke-linecap:butt; stroke-linejoin:round; stroke-width:8; stroke-opacity:1; fill:none\" points=\"\n",
       "  2907.02,2968.32 2919.13,2695.35 2931.24,2650.99 2943.36,2564.36 2955.47,2645.72 2967.58,2503.36 2979.69,2443.8 2991.81,2400.24 3003.92,2430.63 3016.03,2458.02 \n",
       "  3028.15,2348.55 3040.26,2424.33 3052.37,2363.13 3064.49,2321.09 3076.6,2287.16 3088.71,2257.88 3100.82,2231.67 3112.94,2207.7 3125.05,2191.57 3137.16,2179.33 \n",
       "  3149.28,2167.41 3161.39,2155.8 3173.5,2144.48 3185.61,2133.44 3197.73,2122.66 3209.84,2112.14 3221.95,2101.85 3234.07,2091.8 3246.18,2081.97 3258.29,2072.34 \n",
       "  3270.41,2062.92 3282.52,2053.7 3294.63,2044.66 3306.74,2035.79 3318.86,2027.1 3330.97,2018.58 3343.08,2010.21 3355.2,2001.99 3367.31,1993.93 3379.42,1986 \n",
       "  3391.53,1978.21 3403.65,1970.56 3415.76,1963.03 3427.87,1955.62 3439.99,1948.34 3452.1,1941.17 3464.21,1934.11 3476.33,1927.17 3488.44,1920.32 3500.55,1913.58 \n",
       "  3512.66,1906.94 3524.78,1900.4 3536.89,1893.95 3549,1887.59 3561.12,1881.31 3573.23,1875.13 3585.34,1869.03 3597.45,1863 3609.57,1857.06 3621.68,1851.2 \n",
       "  3633.79,1845.41 3645.91,1839.69 3658.02,1834.04 3670.13,1828.47 3682.25,1822.96 3694.36,1817.52 3706.47,1812.14 3718.58,1806.82 3730.7,1801.57 3742.81,1796.38 \n",
       "  3754.92,1791.25 3767.04,1786.17 3779.15,1781.15 3791.26,1776.18 3803.37,1771.27 3815.49,1766.42 3827.6,1761.61 3839.71,1756.85 3851.83,1752.14 3863.94,1747.49 \n",
       "  3876.05,1742.87 3888.17,1738.31 3900.28,1733.79 3912.39,1729.31 3924.5,1724.88 3936.62,1720.49 3948.73,1716.15 3960.84,1711.84 3972.96,1707.58 3985.07,1703.35 \n",
       "  3997.18,1699.17 4009.29,1695.02 4021.41,1690.91 4033.52,1686.83 4045.63,1682.8 4057.75,1678.8 4069.86,1674.83 4081.97,1670.9 4094.09,1667 4106.2,1663.13 \n",
       "  4118.31,1441.34 4130.42,1436.43 4142.54,1431.56 4154.65,1426.72 4166.76,1421.93 4178.88,2495.58 4190.99,2495.58 4203.1,2495.58 4215.21,2495.58 4227.33,2495.58 \n",
       "  4239.44,2495.58 4251.55,2495.58 4263.67,2495.58 4275.78,2495.58 4287.89,2495.58 4300.01,2495.58 4312.12,2495.58 4324.23,2495.58 4336.34,2495.58 4348.46,2495.58 \n",
       "  4360.57,2495.58 4372.68,2495.58 4384.8,2495.58 4396.91,2495.58 4409.02,2495.58 4421.13,2495.58 4433.25,2495.58 4445.36,2495.58 4457.47,2495.58 4469.59,2495.58 \n",
       "  4481.7,2495.58 4493.81,2495.58 4505.93,2495.58 4518.04,2495.58 4530.15,2495.58 4542.26,2495.58 4554.38,2495.58 4566.49,2495.58 4578.6,2495.58 4590.72,2495.58 \n",
       "  4602.83,2495.58 4614.94,2495.58 4627.05,2495.58 4639.17,2495.58 4651.28,2495.58 4663.39,2495.58 4675.51,2495.58 4687.62,2495.58 4699.73,2495.58 4711.84,2495.58 \n",
       "  4723.96,2495.58 4736.07,2495.58 4748.18,2495.58 4760.3,2495.58 4772.41,2495.58 4784.52,2495.58 4796.64,2495.58 4808.75,2495.58 4820.86,2495.58 4832.97,2495.58 \n",
       "  4845.09,2495.58 4857.2,2495.58 4869.31,2495.58 4881.43,2495.58 4893.54,2495.58 4905.65,2495.58 4917.76,2495.58 4929.88,2495.58 4941.99,2495.58 4954.1,2495.58 \n",
       "  4966.22,2495.58 4978.33,2495.58 4990.44,2495.58 5002.56,2495.58 5014.67,2495.58 5026.78,2495.58 5038.89,2495.58 5051.01,2495.58 5063.12,2495.58 5075.23,2495.58 \n",
       "  5087.35,2495.58 \n",
       "  \"/>\n",
       "<polyline clip-path=\"url(#clip693)\" style=\"stroke:#e26f46; stroke-linecap:butt; stroke-linejoin:round; stroke-width:8; stroke-opacity:1; fill:none\" points=\"\n",
       "  2907.02,2968.32 2919.13,2968.32 2931.24,2968.32 2943.36,2595.29 2955.47,2968.32 2967.58,2540.75 2979.69,2518.16 2991.81,2608.5 3003.92,2536.91 3016.03,2563.33 \n",
       "  3028.15,2504.95 3040.26,2540.75 3052.37,2527.54 3064.49,2518.16 3076.6,2527.54 3088.71,2510.89 3100.82,2491.74 3112.94,2540.75 3125.05,2518.16 3137.16,2527.54 \n",
       "  3149.28,2563.33 3161.39,2563.33 3173.5,2540.75 3185.61,2540.75 3197.73,2540.75 3209.84,2540.75 3221.95,2563.33 3234.07,2563.33 3246.18,2563.33 3258.29,2563.33 \n",
       "  3270.41,2563.33 3282.52,2504.95 3294.63,2510.89 3306.74,2518.16 3318.86,2518.16 3330.97,2527.54 3343.08,2527.54 3355.2,2504.95 3367.31,2510.89 3379.42,2510.89 \n",
       "  3391.53,2510.89 3403.65,2518.16 3415.76,2527.54 3427.87,2510.89 3439.99,2518.16 3452.1,2518.16 3464.21,2499.93 3476.33,2518.16 3488.44,2518.16 3500.55,2518.16 \n",
       "  3512.66,2527.54 3524.78,2527.54 3536.89,2540.75 3549,2563.33 3561.12,2563.33 3573.23,2563.33 3585.34,2563.33 3597.45,2563.33 3609.57,2563.33 3621.68,2563.33 \n",
       "  3633.79,2540.75 3645.91,2518.16 3658.02,2510.89 3670.13,2510.89 3682.25,2518.16 3694.36,2518.16 3706.47,2527.54 3718.58,2527.54 3730.7,2540.75 3742.81,2540.75 \n",
       "  3754.92,2540.75 3767.04,2540.75 3779.15,2540.75 3791.26,2518.16 3803.37,2518.16 3815.49,2518.16 3827.6,2527.54 3839.71,2527.54 3851.83,2540.75 3863.94,2540.75 \n",
       "  3876.05,2540.75 3888.17,2540.75 3900.28,2527.54 3912.39,2527.54 3924.5,2527.54 3936.62,2540.75 3948.73,2540.75 3960.84,2540.75 3972.96,2540.75 3985.07,2540.75 \n",
       "  3997.18,2563.33 4009.29,2563.33 4021.41,2563.33 4033.52,2563.33 4045.63,2563.33 4057.75,2563.33 4069.86,2563.33 4081.97,2563.33 4094.09,2563.33 4106.2,2518.16 \n",
       "  4118.31,2527.54 4130.42,2527.54 4142.54,2510.89 4154.65,2527.54 4166.76,2540.75 4178.88,2968.32 4190.99,2968.32 4203.1,2968.32 4215.21,2968.32 4227.33,2968.32 \n",
       "  4239.44,2968.32 4251.55,2968.32 4263.67,2968.32 4275.78,2968.32 4287.89,2968.32 4300.01,2968.32 4312.12,2968.32 4324.23,2968.32 4336.34,2968.32 4348.46,2968.32 \n",
       "  4360.57,2968.32 4372.68,2968.32 4384.8,2968.32 4396.91,2968.32 4409.02,2968.32 4421.13,2968.32 4433.25,2968.32 4445.36,2968.32 4457.47,2968.32 4469.59,2968.32 \n",
       "  4481.7,2968.32 4493.81,2968.32 4505.93,2968.32 4518.04,2968.32 4530.15,2968.32 4542.26,2968.32 4554.38,2968.32 4566.49,2968.32 4578.6,2968.32 4590.72,2968.32 \n",
       "  4602.83,2968.32 4614.94,2968.32 4627.05,2968.32 4639.17,2968.32 4651.28,2968.32 4663.39,2968.32 4675.51,2968.32 4687.62,2968.32 4699.73,2968.32 4711.84,2968.32 \n",
       "  4723.96,2968.32 4736.07,2968.32 4748.18,2968.32 4760.3,2968.32 4772.41,2968.32 4784.52,2968.32 4796.64,2968.32 4808.75,2968.32 4820.86,2968.32 4832.97,2968.32 \n",
       "  4845.09,2968.32 4857.2,2968.32 4869.31,2968.32 4881.43,2968.32 4893.54,2968.32 4905.65,2968.32 4917.76,2968.32 4929.88,2968.32 4941.99,2968.32 4954.1,2968.32 \n",
       "  4966.22,2968.32 4978.33,2968.32 4990.44,2968.32 5002.56,2968.32 5014.67,2968.32 5026.78,2968.32 5038.89,2968.32 5051.01,2968.32 5063.12,2968.32 5075.23,2968.32 \n",
       "  5087.35,2968.32 \n",
       "  \"/>\n",
       "<path clip-path=\"url(#clip690)\" d=\"\n",
       "M4339.64 370.829 L5075.72 370.829 L5075.72 215.309 L4339.64 215.309  Z\n",
       "  \" fill=\"#ffffff\" fill-rule=\"evenodd\" fill-opacity=\"1\"/>\n",
       "<polyline clip-path=\"url(#clip690)\" style=\"stroke:#000000; stroke-linecap:butt; stroke-linejoin:round; stroke-width:4; stroke-opacity:1; fill:none\" points=\"\n",
       "  4339.64,370.829 5075.72,370.829 5075.72,215.309 4339.64,215.309 4339.64,370.829 \n",
       "  \"/>\n",
       "<polyline clip-path=\"url(#clip690)\" style=\"stroke:#009af9; stroke-linecap:butt; stroke-linejoin:round; stroke-width:4; stroke-opacity:1; fill:none\" points=\"\n",
       "  4365.32,267.149 4519.4,267.149 \n",
       "  \"/>\n",
       "<path clip-path=\"url(#clip690)\" d=\"M4556.98 261.489 Q4553.55 261.489 4551.56 264.174 Q4549.57 266.836 4549.57 271.489 Q4549.57 276.142 4551.54 278.827 Q4553.53 281.489 4556.98 281.489 Q4560.38 281.489 4562.37 278.804 Q4564.36 276.119 4564.36 271.489 Q4564.36 266.883 4562.37 264.198 Q4560.38 261.489 4556.98 261.489 M4556.98 257.878 Q4562.53 257.878 4565.7 261.489 Q4568.88 265.1 4568.88 271.489 Q4568.88 277.855 4565.7 281.489 Q4562.53 285.1 4556.98 285.1 Q4551.4 285.1 4548.23 281.489 Q4545.08 277.855 4545.08 271.489 Q4545.08 265.1 4548.23 261.489 Q4551.4 257.878 4556.98 257.878 Z\" fill=\"#000000\" fill-rule=\"evenodd\" fill-opacity=\"1\" /><path clip-path=\"url(#clip690)\" d=\"M4590.96 262.485 Q4590.24 262.068 4589.38 261.883 Q4588.55 261.674 4587.53 261.674 Q4583.92 261.674 4581.98 264.036 Q4580.06 266.373 4580.06 270.772 L4580.06 284.429 L4575.77 284.429 L4575.77 258.503 L4580.06 258.503 L4580.06 262.531 Q4581.4 260.17 4583.55 259.036 Q4585.7 257.878 4588.78 257.878 Q4589.22 257.878 4589.75 257.948 Q4590.29 257.994 4590.94 258.11 L4590.96 262.485 Z\" fill=\"#000000\" fill-rule=\"evenodd\" fill-opacity=\"1\" /><path clip-path=\"url(#clip690)\" d=\"M4599.64 251.142 L4599.64 258.503 L4608.41 258.503 L4608.41 261.813 L4599.64 261.813 L4599.64 275.887 Q4599.64 279.059 4600.5 279.961 Q4601.37 280.864 4604.04 280.864 L4608.41 280.864 L4608.41 284.429 L4604.04 284.429 Q4599.11 284.429 4597.23 282.6 Q4595.36 280.748 4595.36 275.887 L4595.36 261.813 L4592.23 261.813 L4592.23 258.503 L4595.36 258.503 L4595.36 251.142 L4599.64 251.142 Z\" fill=\"#000000\" fill-rule=\"evenodd\" fill-opacity=\"1\" /><path clip-path=\"url(#clip690)\" d=\"M4635.56 268.781 L4635.56 284.429 L4631.31 284.429 L4631.31 268.92 Q4631.31 265.239 4629.87 263.411 Q4628.43 261.582 4625.56 261.582 Q4622.12 261.582 4620.12 263.781 Q4618.13 265.98 4618.13 269.776 L4618.13 284.429 L4613.85 284.429 L4613.85 248.411 L4618.13 248.411 L4618.13 262.531 Q4619.66 260.193 4621.72 259.036 Q4623.81 257.878 4626.51 257.878 Q4630.98 257.878 4633.27 260.656 Q4635.56 263.411 4635.56 268.781 Z\" fill=\"#000000\" fill-rule=\"evenodd\" fill-opacity=\"1\" /><path clip-path=\"url(#clip690)\" d=\"M4654.11 261.489 Q4650.68 261.489 4648.69 264.174 Q4646.7 266.836 4646.7 271.489 Q4646.7 276.142 4648.67 278.827 Q4650.66 281.489 4654.11 281.489 Q4657.51 281.489 4659.5 278.804 Q4661.49 276.119 4661.49 271.489 Q4661.49 266.883 4659.5 264.198 Q4657.51 261.489 4654.11 261.489 M4654.11 257.878 Q4659.66 257.878 4662.83 261.489 Q4666 265.1 4666 271.489 Q4666 277.855 4662.83 281.489 Q4659.66 285.1 4654.11 285.1 Q4648.53 285.1 4645.36 281.489 Q4642.21 277.855 4642.21 271.489 Q4642.21 265.1 4645.36 261.489 Q4648.53 257.878 4654.11 257.878 Z\" fill=\"#000000\" fill-rule=\"evenodd\" fill-opacity=\"1\" /><path clip-path=\"url(#clip690)\" d=\"M4694.62 268.781 L4694.62 284.429 L4690.36 284.429 L4690.36 268.92 Q4690.36 265.239 4688.92 263.411 Q4687.49 261.582 4684.62 261.582 Q4681.17 261.582 4679.18 263.781 Q4677.18 265.98 4677.18 269.776 L4677.18 284.429 L4672.9 284.429 L4672.9 258.503 L4677.18 258.503 L4677.18 262.531 Q4678.71 260.193 4680.77 259.036 Q4682.86 257.878 4685.56 257.878 Q4690.03 257.878 4692.32 260.656 Q4694.62 263.411 4694.62 268.781 Z\" fill=\"#000000\" fill-rule=\"evenodd\" fill-opacity=\"1\" /><path clip-path=\"url(#clip690)\" d=\"M4713.16 261.489 Q4709.73 261.489 4707.74 264.174 Q4705.75 266.836 4705.75 271.489 Q4705.75 276.142 4707.72 278.827 Q4709.71 281.489 4713.16 281.489 Q4716.56 281.489 4718.55 278.804 Q4720.54 276.119 4720.54 271.489 Q4720.54 266.883 4718.55 264.198 Q4716.56 261.489 4713.16 261.489 M4713.16 257.878 Q4718.71 257.878 4721.88 261.489 Q4725.05 265.1 4725.05 271.489 Q4725.05 277.855 4721.88 281.489 Q4718.71 285.1 4713.16 285.1 Q4707.58 285.1 4704.41 281.489 Q4701.26 277.855 4701.26 271.489 Q4701.26 265.1 4704.41 261.489 Q4707.58 257.878 4713.16 257.878 Z\" fill=\"#000000\" fill-rule=\"evenodd\" fill-opacity=\"1\" /><path clip-path=\"url(#clip690)\" d=\"M4747.14 262.485 Q4746.42 262.068 4745.56 261.883 Q4744.73 261.674 4743.71 261.674 Q4740.1 261.674 4738.16 264.036 Q4736.24 266.373 4736.24 270.772 L4736.24 284.429 L4731.95 284.429 L4731.95 258.503 L4736.24 258.503 L4736.24 262.531 Q4737.58 260.17 4739.73 259.036 Q4741.88 257.878 4744.96 257.878 Q4745.4 257.878 4745.93 257.948 Q4746.47 257.994 4747.11 258.11 L4747.14 262.485 Z\" fill=\"#000000\" fill-rule=\"evenodd\" fill-opacity=\"1\" /><path clip-path=\"url(#clip690)\" d=\"M4770.96 263.48 Q4772.55 260.61 4774.78 259.244 Q4777 257.878 4780.01 257.878 Q4784.06 257.878 4786.26 260.725 Q4788.46 263.549 4788.46 268.781 L4788.46 284.429 L4784.17 284.429 L4784.17 268.92 Q4784.17 265.193 4782.86 263.387 Q4781.54 261.582 4778.83 261.582 Q4775.52 261.582 4773.6 263.781 Q4771.67 265.98 4771.67 269.776 L4771.67 284.429 L4767.39 284.429 L4767.39 268.92 Q4767.39 265.17 4766.07 263.387 Q4764.75 261.582 4762 261.582 Q4758.74 261.582 4756.81 263.804 Q4754.89 266.003 4754.89 269.776 L4754.89 284.429 L4750.61 284.429 L4750.61 258.503 L4754.89 258.503 L4754.89 262.531 Q4756.35 260.147 4758.39 259.012 Q4760.42 257.878 4763.23 257.878 Q4766.05 257.878 4768.02 259.313 Q4770.01 260.749 4770.96 263.48 Z\" fill=\"#000000\" fill-rule=\"evenodd\" fill-opacity=\"1\" /><path clip-path=\"url(#clip690)\" d=\"M4808.73 271.397 Q4803.57 271.397 4801.58 272.577 Q4799.59 273.758 4799.59 276.605 Q4799.59 278.873 4801.07 280.216 Q4802.58 281.535 4805.15 281.535 Q4808.69 281.535 4810.82 279.035 Q4812.97 276.512 4812.97 272.346 L4812.97 271.397 L4808.73 271.397 M4817.23 269.637 L4817.23 284.429 L4812.97 284.429 L4812.97 280.494 Q4811.51 282.855 4809.34 283.989 Q4807.16 285.1 4804.01 285.1 Q4800.03 285.1 4797.67 282.878 Q4795.33 280.633 4795.33 276.883 Q4795.33 272.508 4798.25 270.286 Q4801.19 268.063 4807 268.063 L4812.97 268.063 L4812.97 267.647 Q4812.97 264.707 4811.03 263.11 Q4809.11 261.489 4805.61 261.489 Q4803.39 261.489 4801.28 262.022 Q4799.17 262.554 4797.23 263.619 L4797.23 259.684 Q4799.57 258.781 4801.77 258.341 Q4803.97 257.878 4806.05 257.878 Q4811.67 257.878 4814.45 260.795 Q4817.23 263.711 4817.23 269.637 Z\" fill=\"#000000\" fill-rule=\"evenodd\" fill-opacity=\"1\" /><path clip-path=\"url(#clip690)\" d=\"M4826 248.411 L4830.26 248.411 L4830.26 284.429 L4826 284.429 L4826 248.411 Z\" fill=\"#000000\" fill-rule=\"evenodd\" fill-opacity=\"1\" /><path clip-path=\"url(#clip690)\" d=\"M4839.17 258.503 L4843.43 258.503 L4843.43 284.429 L4839.17 284.429 L4839.17 258.503 M4839.17 248.411 L4843.43 248.411 L4843.43 253.804 L4839.17 253.804 L4839.17 248.411 Z\" fill=\"#000000\" fill-rule=\"evenodd\" fill-opacity=\"1\" /><path clip-path=\"url(#clip690)\" d=\"M4856.56 251.142 L4856.56 258.503 L4865.33 258.503 L4865.33 261.813 L4856.56 261.813 L4856.56 275.887 Q4856.56 279.059 4857.42 279.961 Q4858.29 280.864 4860.96 280.864 L4865.33 280.864 L4865.33 284.429 L4860.96 284.429 Q4856.03 284.429 4854.15 282.6 Q4852.28 280.748 4852.28 275.887 L4852.28 261.813 L4849.15 261.813 L4849.15 258.503 L4852.28 258.503 L4852.28 251.142 L4856.56 251.142 Z\" fill=\"#000000\" fill-rule=\"evenodd\" fill-opacity=\"1\" /><path clip-path=\"url(#clip690)\" d=\"M4881.72 286.836 Q4879.92 291.466 4878.2 292.878 Q4876.49 294.29 4873.62 294.29 L4870.22 294.29 L4870.22 290.725 L4872.72 290.725 Q4874.48 290.725 4875.45 289.892 Q4876.42 289.059 4877.6 285.957 L4878.36 284.012 L4867.88 258.503 L4872.39 258.503 L4880.49 278.781 L4888.6 258.503 L4893.11 258.503 L4881.72 286.836 Z\" fill=\"#000000\" fill-rule=\"evenodd\" fill-opacity=\"1\" /><path clip-path=\"url(#clip690)\" d=\"M4936.23 270.401 L4936.23 272.485 L4916.65 272.485 Q4916.93 276.883 4919.29 279.197 Q4921.67 281.489 4925.91 281.489 Q4928.36 281.489 4930.66 280.887 Q4932.97 280.285 4935.24 279.082 L4935.24 283.11 Q4932.95 284.082 4930.54 284.591 Q4928.13 285.1 4925.66 285.1 Q4919.45 285.1 4915.82 281.489 Q4912.21 277.878 4912.21 271.721 Q4912.21 265.355 4915.63 261.628 Q4919.08 257.878 4924.91 257.878 Q4930.15 257.878 4933.18 261.258 Q4936.23 264.614 4936.23 270.401 M4931.98 269.151 Q4931.93 265.656 4930.01 263.573 Q4928.11 261.489 4924.96 261.489 Q4921.4 261.489 4919.24 263.503 Q4917.11 265.517 4916.79 269.174 L4931.98 269.151 Z\" fill=\"#000000\" fill-rule=\"evenodd\" fill-opacity=\"1\" /><path clip-path=\"url(#clip690)\" d=\"M4958.25 262.485 Q4957.53 262.068 4956.67 261.883 Q4955.84 261.674 4954.82 261.674 Q4951.21 261.674 4949.27 264.036 Q4947.35 266.373 4947.35 270.772 L4947.35 284.429 L4943.06 284.429 L4943.06 258.503 L4947.35 258.503 L4947.35 262.531 Q4948.69 260.17 4950.84 259.036 Q4952.99 257.878 4956.07 257.878 Q4956.51 257.878 4957.04 257.948 Q4957.58 257.994 4958.22 258.11 L4958.25 262.485 Z\" fill=\"#000000\" fill-rule=\"evenodd\" fill-opacity=\"1\" /><path clip-path=\"url(#clip690)\" d=\"M4976.91 262.485 Q4976.19 262.068 4975.33 261.883 Q4974.5 261.674 4973.48 261.674 Q4969.87 261.674 4967.92 264.036 Q4966 266.373 4966 270.772 L4966 284.429 L4961.72 284.429 L4961.72 258.503 L4966 258.503 L4966 262.531 Q4967.35 260.17 4969.5 259.036 Q4971.65 257.878 4974.73 257.878 Q4975.17 257.878 4975.7 257.948 Q4976.23 257.994 4976.88 258.11 L4976.91 262.485 Z\" fill=\"#000000\" fill-rule=\"evenodd\" fill-opacity=\"1\" /><path clip-path=\"url(#clip690)\" d=\"M4990.38 261.489 Q4986.95 261.489 4984.96 264.174 Q4982.97 266.836 4982.97 271.489 Q4982.97 276.142 4984.94 278.827 Q4986.93 281.489 4990.38 281.489 Q4993.78 281.489 4995.77 278.804 Q4997.76 276.119 4997.76 271.489 Q4997.76 266.883 4995.77 264.198 Q4993.78 261.489 4990.38 261.489 M4990.38 257.878 Q4995.93 257.878 4999.1 261.489 Q5002.28 265.1 5002.28 271.489 Q5002.28 277.855 4999.1 281.489 Q4995.93 285.1 4990.38 285.1 Q4984.8 285.1 4981.63 281.489 Q4978.48 277.855 4978.48 271.489 Q4978.48 265.1 4981.63 261.489 Q4984.8 257.878 4990.38 257.878 Z\" fill=\"#000000\" fill-rule=\"evenodd\" fill-opacity=\"1\" /><path clip-path=\"url(#clip690)\" d=\"M5024.36 262.485 Q5023.64 262.068 5022.78 261.883 Q5021.95 261.674 5020.93 261.674 Q5017.32 261.674 5015.38 264.036 Q5013.46 266.373 5013.46 270.772 L5013.46 284.429 L5009.17 284.429 L5009.17 258.503 L5013.46 258.503 L5013.46 262.531 Q5014.8 260.17 5016.95 259.036 Q5019.1 257.878 5022.18 257.878 Q5022.62 257.878 5023.16 257.948 Q5023.69 257.994 5024.34 258.11 L5024.36 262.485 Z\" fill=\"#000000\" fill-rule=\"evenodd\" fill-opacity=\"1\" /><polyline clip-path=\"url(#clip690)\" style=\"stroke:#e26f46; stroke-linecap:butt; stroke-linejoin:round; stroke-width:4; stroke-opacity:1; fill:none\" points=\"\n",
       "  4365.32,318.989 4519.4,318.989 \n",
       "  \"/>\n",
       "<path clip-path=\"url(#clip690)\" d=\"M4560.26 314.325 Q4559.55 313.908 4558.69 313.723 Q4557.86 313.514 4556.84 313.514 Q4553.23 313.514 4551.28 315.876 Q4549.36 318.213 4549.36 322.612 L4549.36 336.269 L4545.08 336.269 L4545.08 310.343 L4549.36 310.343 L4549.36 314.371 Q4550.7 312.01 4552.86 310.876 Q4555.01 309.718 4558.09 309.718 Q4558.53 309.718 4559.06 309.788 Q4559.59 309.834 4560.24 309.95 L4560.26 314.325 Z\" fill=\"#000000\" fill-rule=\"evenodd\" fill-opacity=\"1\" /><path clip-path=\"url(#clip690)\" d=\"M4585.87 322.241 L4585.87 324.325 L4566.28 324.325 Q4566.56 328.723 4568.92 331.037 Q4571.31 333.329 4575.54 333.329 Q4578 333.329 4580.29 332.727 Q4582.6 332.125 4584.87 330.922 L4584.87 334.95 Q4582.58 335.922 4580.17 336.431 Q4577.76 336.94 4575.29 336.94 Q4569.08 336.94 4565.45 333.329 Q4561.84 329.718 4561.84 323.561 Q4561.84 317.195 4565.26 313.468 Q4568.71 309.718 4574.55 309.718 Q4579.78 309.718 4582.81 313.098 Q4585.87 316.454 4585.87 322.241 M4581.61 320.991 Q4581.56 317.496 4579.64 315.413 Q4577.74 313.329 4574.59 313.329 Q4571.03 313.329 4568.88 315.343 Q4566.75 317.357 4566.42 321.014 L4581.61 320.991 Z\" fill=\"#000000\" fill-rule=\"evenodd\" fill-opacity=\"1\" /><path clip-path=\"url(#clip690)\" d=\"M4611.51 311.339 L4611.51 315.32 Q4609.71 314.325 4607.88 313.839 Q4606.07 313.329 4604.22 313.329 Q4600.08 313.329 4597.79 315.968 Q4595.5 318.584 4595.5 323.329 Q4595.5 328.075 4597.79 330.713 Q4600.08 333.329 4604.22 333.329 Q4606.07 333.329 4607.88 332.843 Q4609.71 332.334 4611.51 331.338 L4611.51 335.274 Q4609.73 336.107 4607.81 336.524 Q4605.91 336.94 4603.76 336.94 Q4597.9 336.94 4594.45 333.26 Q4591 329.579 4591 323.329 Q4591 316.987 4594.48 313.352 Q4597.97 309.718 4604.04 309.718 Q4606 309.718 4607.88 310.135 Q4609.75 310.528 4611.51 311.339 Z\" fill=\"#000000\" fill-rule=\"evenodd\" fill-opacity=\"1\" /><path clip-path=\"url(#clip690)\" d=\"M4628.97 313.329 Q4625.54 313.329 4623.55 316.014 Q4621.56 318.676 4621.56 323.329 Q4621.56 327.982 4623.53 330.667 Q4625.52 333.329 4628.97 333.329 Q4632.37 333.329 4634.36 330.644 Q4636.35 327.959 4636.35 323.329 Q4636.35 318.723 4634.36 316.038 Q4632.37 313.329 4628.97 313.329 M4628.97 309.718 Q4634.52 309.718 4637.69 313.329 Q4640.87 316.94 4640.87 323.329 Q4640.87 329.695 4637.69 333.329 Q4634.52 336.94 4628.97 336.94 Q4623.39 336.94 4620.22 333.329 Q4617.07 329.695 4617.07 323.329 Q4617.07 316.94 4620.22 313.329 Q4623.39 309.718 4628.97 309.718 Z\" fill=\"#000000\" fill-rule=\"evenodd\" fill-opacity=\"1\" /><path clip-path=\"url(#clip690)\" d=\"M4669.48 320.621 L4669.48 336.269 L4665.22 336.269 L4665.22 320.76 Q4665.22 317.079 4663.78 315.251 Q4662.35 313.422 4659.48 313.422 Q4656.03 313.422 4654.04 315.621 Q4652.05 317.82 4652.05 321.616 L4652.05 336.269 L4647.76 336.269 L4647.76 310.343 L4652.05 310.343 L4652.05 314.371 Q4653.57 312.033 4655.63 310.876 Q4657.72 309.718 4660.43 309.718 Q4664.89 309.718 4667.18 312.496 Q4669.48 315.251 4669.48 320.621 Z\" fill=\"#000000\" fill-rule=\"evenodd\" fill-opacity=\"1\" /><path clip-path=\"url(#clip690)\" d=\"M4694.5 311.107 L4694.5 315.135 Q4692.69 314.209 4690.75 313.746 Q4688.81 313.283 4686.72 313.283 Q4683.55 313.283 4681.95 314.255 Q4680.38 315.227 4680.38 317.172 Q4680.38 318.653 4681.51 319.51 Q4682.65 320.343 4686.07 321.107 L4687.53 321.431 Q4692.07 322.403 4693.97 324.186 Q4695.89 325.945 4695.89 329.116 Q4695.89 332.727 4693.02 334.834 Q4690.17 336.94 4685.17 336.94 Q4683.09 336.94 4680.82 336.524 Q4678.57 336.13 4676.07 335.32 L4676.07 330.922 Q4678.43 332.149 4680.73 332.774 Q4683.02 333.375 4685.26 333.375 Q4688.27 333.375 4689.89 332.357 Q4691.51 331.315 4691.51 329.44 Q4691.51 327.704 4690.33 326.778 Q4689.18 325.852 4685.22 324.996 L4683.74 324.649 Q4679.78 323.815 4678.02 322.102 Q4676.26 320.366 4676.26 317.357 Q4676.26 313.7 4678.85 311.709 Q4681.44 309.718 4686.21 309.718 Q4688.57 309.718 4690.66 310.065 Q4692.74 310.413 4694.5 311.107 Z\" fill=\"#000000\" fill-rule=\"evenodd\" fill-opacity=\"1\" /><path clip-path=\"url(#clip690)\" d=\"M4706.88 302.982 L4706.88 310.343 L4715.66 310.343 L4715.66 313.653 L4706.88 313.653 L4706.88 327.727 Q4706.88 330.899 4707.74 331.801 Q4708.62 332.704 4711.28 332.704 L4715.66 332.704 L4715.66 336.269 L4711.28 336.269 Q4706.35 336.269 4704.48 334.44 Q4702.6 332.588 4702.6 327.727 L4702.6 313.653 L4699.48 313.653 L4699.48 310.343 L4702.6 310.343 L4702.6 302.982 L4706.88 302.982 Z\" fill=\"#000000\" fill-rule=\"evenodd\" fill-opacity=\"1\" /><path clip-path=\"url(#clip690)\" d=\"M4736.28 314.325 Q4735.56 313.908 4734.71 313.723 Q4733.87 313.514 4732.86 313.514 Q4729.24 313.514 4727.3 315.876 Q4725.38 318.213 4725.38 322.612 L4725.38 336.269 L4721.1 336.269 L4721.1 310.343 L4725.38 310.343 L4725.38 314.371 Q4726.72 312.01 4728.87 310.876 Q4731.03 309.718 4734.11 309.718 Q4734.55 309.718 4735.08 309.788 Q4735.61 309.834 4736.26 309.95 L4736.28 314.325 Z\" fill=\"#000000\" fill-rule=\"evenodd\" fill-opacity=\"1\" /><path clip-path=\"url(#clip690)\" d=\"M4740.31 326.038 L4740.31 310.343 L4744.57 310.343 L4744.57 325.875 Q4744.57 329.556 4746 331.408 Q4747.44 333.237 4750.31 333.237 Q4753.76 333.237 4755.75 331.037 Q4757.76 328.838 4757.76 325.042 L4757.76 310.343 L4762.02 310.343 L4762.02 336.269 L4757.76 336.269 L4757.76 332.287 Q4756.21 334.649 4754.15 335.806 Q4752.11 336.94 4749.41 336.94 Q4744.94 336.94 4742.62 334.162 Q4740.31 331.385 4740.31 326.038 M4751.03 309.718 L4751.03 309.718 Z\" fill=\"#000000\" fill-rule=\"evenodd\" fill-opacity=\"1\" /><path clip-path=\"url(#clip690)\" d=\"M4789.45 311.339 L4789.45 315.32 Q4787.65 314.325 4785.82 313.839 Q4784.01 313.329 4782.16 313.329 Q4778.02 313.329 4775.73 315.968 Q4773.43 318.584 4773.43 323.329 Q4773.43 328.075 4775.73 330.713 Q4778.02 333.329 4782.16 333.329 Q4784.01 333.329 4785.82 332.843 Q4787.65 332.334 4789.45 331.338 L4789.45 335.274 Q4787.67 336.107 4785.75 336.524 Q4783.85 336.94 4781.7 336.94 Q4775.84 336.94 4772.39 333.26 Q4768.94 329.579 4768.94 323.329 Q4768.94 316.987 4772.42 313.352 Q4775.91 309.718 4781.98 309.718 Q4783.94 309.718 4785.82 310.135 Q4787.69 310.528 4789.45 311.339 Z\" fill=\"#000000\" fill-rule=\"evenodd\" fill-opacity=\"1\" /><path clip-path=\"url(#clip690)\" d=\"M4801.07 302.982 L4801.07 310.343 L4809.85 310.343 L4809.85 313.653 L4801.07 313.653 L4801.07 327.727 Q4801.07 330.899 4801.93 331.801 Q4802.81 332.704 4805.47 332.704 L4809.85 332.704 L4809.85 336.269 L4805.47 336.269 Q4800.54 336.269 4798.67 334.44 Q4796.79 332.588 4796.79 327.727 L4796.79 313.653 L4793.67 313.653 L4793.67 310.343 L4796.79 310.343 L4796.79 302.982 L4801.07 302.982 Z\" fill=\"#000000\" fill-rule=\"evenodd\" fill-opacity=\"1\" /><path clip-path=\"url(#clip690)\" d=\"M4815.45 310.343 L4819.71 310.343 L4819.71 336.269 L4815.45 336.269 L4815.45 310.343 M4815.45 300.251 L4819.71 300.251 L4819.71 305.644 L4815.45 305.644 L4815.45 300.251 Z\" fill=\"#000000\" fill-rule=\"evenodd\" fill-opacity=\"1\" /><path clip-path=\"url(#clip690)\" d=\"M4838.67 313.329 Q4835.24 313.329 4833.25 316.014 Q4831.26 318.676 4831.26 323.329 Q4831.26 327.982 4833.23 330.667 Q4835.22 333.329 4838.67 333.329 Q4842.07 333.329 4844.06 330.644 Q4846.05 327.959 4846.05 323.329 Q4846.05 318.723 4844.06 316.038 Q4842.07 313.329 4838.67 313.329 M4838.67 309.718 Q4844.22 309.718 4847.39 313.329 Q4850.56 316.94 4850.56 323.329 Q4850.56 329.695 4847.39 333.329 Q4844.22 336.94 4838.67 336.94 Q4833.09 336.94 4829.92 333.329 Q4826.77 329.695 4826.77 323.329 Q4826.77 316.94 4829.92 313.329 Q4833.09 309.718 4838.67 309.718 Z\" fill=\"#000000\" fill-rule=\"evenodd\" fill-opacity=\"1\" /><path clip-path=\"url(#clip690)\" d=\"M4879.17 320.621 L4879.17 336.269 L4874.92 336.269 L4874.92 320.76 Q4874.92 317.079 4873.48 315.251 Q4872.04 313.422 4869.17 313.422 Q4865.73 313.422 4863.73 315.621 Q4861.74 317.82 4861.74 321.616 L4861.74 336.269 L4857.46 336.269 L4857.46 310.343 L4861.74 310.343 L4861.74 314.371 Q4863.27 312.033 4865.33 310.876 Q4867.42 309.718 4870.12 309.718 Q4874.59 309.718 4876.88 312.496 Q4879.17 315.251 4879.17 320.621 Z\" fill=\"#000000\" fill-rule=\"evenodd\" fill-opacity=\"1\" /><path clip-path=\"url(#clip690)\" d=\"M4924.91 322.241 L4924.91 324.325 L4905.33 324.325 Q4905.61 328.723 4907.97 331.037 Q4910.35 333.329 4914.59 333.329 Q4917.04 333.329 4919.34 332.727 Q4921.65 332.125 4923.92 330.922 L4923.92 334.95 Q4921.63 335.922 4919.22 336.431 Q4916.81 336.94 4914.34 336.94 Q4908.13 336.94 4904.5 333.329 Q4900.89 329.718 4900.89 323.561 Q4900.89 317.195 4904.31 313.468 Q4907.76 309.718 4913.6 309.718 Q4918.83 309.718 4921.86 313.098 Q4924.91 316.454 4924.91 322.241 M4920.66 320.991 Q4920.61 317.496 4918.69 315.413 Q4916.79 313.329 4913.64 313.329 Q4910.08 313.329 4907.92 315.343 Q4905.79 317.357 4905.47 321.014 L4920.66 320.991 Z\" fill=\"#000000\" fill-rule=\"evenodd\" fill-opacity=\"1\" /><path clip-path=\"url(#clip690)\" d=\"M4946.93 314.325 Q4946.21 313.908 4945.35 313.723 Q4944.52 313.514 4943.5 313.514 Q4939.89 313.514 4937.95 315.876 Q4936.03 318.213 4936.03 322.612 L4936.03 336.269 L4931.74 336.269 L4931.74 310.343 L4936.03 310.343 L4936.03 314.371 Q4937.37 312.01 4939.52 310.876 Q4941.67 309.718 4944.75 309.718 Q4945.19 309.718 4945.72 309.788 Q4946.26 309.834 4946.91 309.95 L4946.93 314.325 Z\" fill=\"#000000\" fill-rule=\"evenodd\" fill-opacity=\"1\" /><path clip-path=\"url(#clip690)\" d=\"M4965.59 314.325 Q4964.87 313.908 4964.01 313.723 Q4963.18 313.514 4962.16 313.514 Q4958.55 313.514 4956.6 315.876 Q4954.68 318.213 4954.68 322.612 L4954.68 336.269 L4950.4 336.269 L4950.4 310.343 L4954.68 310.343 L4954.68 314.371 Q4956.03 312.01 4958.18 310.876 Q4960.33 309.718 4963.41 309.718 Q4963.85 309.718 4964.38 309.788 Q4964.91 309.834 4965.56 309.95 L4965.59 314.325 Z\" fill=\"#000000\" fill-rule=\"evenodd\" fill-opacity=\"1\" /><path clip-path=\"url(#clip690)\" d=\"M4979.06 313.329 Q4975.63 313.329 4973.64 316.014 Q4971.65 318.676 4971.65 323.329 Q4971.65 327.982 4973.62 330.667 Q4975.61 333.329 4979.06 333.329 Q4982.46 333.329 4984.45 330.644 Q4986.44 327.959 4986.44 323.329 Q4986.44 318.723 4984.45 316.038 Q4982.46 313.329 4979.06 313.329 M4979.06 309.718 Q4984.61 309.718 4987.78 313.329 Q4990.96 316.94 4990.96 323.329 Q4990.96 329.695 4987.78 333.329 Q4984.61 336.94 4979.06 336.94 Q4973.48 336.94 4970.31 333.329 Q4967.16 329.695 4967.16 323.329 Q4967.16 316.94 4970.31 313.329 Q4973.48 309.718 4979.06 309.718 Z\" fill=\"#000000\" fill-rule=\"evenodd\" fill-opacity=\"1\" /><path clip-path=\"url(#clip690)\" d=\"M5013.04 314.325 Q5012.32 313.908 5011.47 313.723 Q5010.63 313.514 5009.61 313.514 Q5006 313.514 5004.06 315.876 Q5002.14 318.213 5002.14 322.612 L5002.14 336.269 L4997.85 336.269 L4997.85 310.343 L5002.14 310.343 L5002.14 314.371 Q5003.48 312.01 5005.63 310.876 Q5007.78 309.718 5010.86 309.718 Q5011.3 309.718 5011.84 309.788 Q5012.37 309.834 5013.02 309.95 L5013.04 314.325 Z\" fill=\"#000000\" fill-rule=\"evenodd\" fill-opacity=\"1\" /></svg>\n"
      ]
     },
     "execution_count": 11,
     "metadata": {},
     "output_type": "execute_result"
    }
   ],
   "source": [
    "function kahan(m, θ)\n",
    "    s = sin(θ)\n",
    "    c = cos(θ)\n",
    "    S = Diagonal(s .^ collect(0:m-1))\n",
    "    K = UnitUpperTriangular(-c * ones(m,m))\n",
    "    return S * K\n",
    "end\n",
    "orthonormality_error(Q) = norm(I - Q[:,:]' * Q[:,:], 2)\n",
    "reconstruction_error(A, Q, R) = norm(A - Q * R, 2)\n",
    "ortho_errs_cgs = Float64[]\n",
    "recon_errs_cgs = Float64[]\n",
    "ortho_errs_mgs = Float64[]\n",
    "recon_errs_mgs = Float64[]\n",
    "rang = π ./ (2:.1:20)\n",
    "for θ in rang\n",
    "    M = kahan(10, θ)\n",
    "    ϕ = eps(Float64)\n",
    "    M_p = copy(M[:,:])\n",
    "    rot = [cos(ϕ) sin(ϕ); -sin(ϕ) cos(ϕ)]\n",
    "    M_p[1:2,:] = rot * M[1:2,:]\n",
    "    Q_cgs, R_cgs = cgs(M_p)\n",
    "    Q_mgs, R_mgs = mgs(M_p)\n",
    "    push!(ortho_errs_cgs, orthonormality_error(Q_cgs))\n",
    "    push!(recon_errs_cgs, reconstruction_error(M_p, Q_cgs, R_cgs))\n",
    "    push!(ortho_errs_mgs, orthonormality_error(Q_mgs))\n",
    "    push!(recon_errs_mgs, reconstruction_error(M_p, Q_mgs, R_mgs))\n",
    "end\n",
    "ymin=Inf\n",
    "ymax=0.\n",
    "for series in [ortho_errs_cgs, ortho_errs_mgs, recon_errs_cgs, recon_errs_mgs]\n",
    "    series[:] = max.(series[:], 0.001*eps())\n",
    "    ymin = min(ymin, minimum(series))\n",
    "    ymax = max(ymax, maximum(series))\n",
    "end\n",
    "ymin *= 0.5\n",
    "ymax *= 2.0\n",
    "p1 = plot( rang .^-1, [ortho_errs_cgs recon_errs_cgs]\n",
    "    , yscale=:log10\n",
    "    , label=[\"orthonormality error\" \"reconstruction error\"]\n",
    "    , xlabel=\"Kahan matrix θ⁻¹\"\n",
    "    , title=\"Classical Gram-Schmidt\"\n",
    "    , size=(1300,800)\n",
    "    , ylim=(ymin,ymax)\n",
    ")\n",
    "p2 = plot( rang .^-1, [ortho_errs_mgs recon_errs_mgs]\n",
    "    , yscale=:log10\n",
    "    , label=[\"orthonormality error\" \"reconstruction error\"]\n",
    "    , xlabel=\"Kahan matrix θ⁻¹\"\n",
    "    , title=\"Modified Gram-Schmidt\"\n",
    "    , size=(1300,800)\n",
    "    , ylim=(ymin,ymax)\n",
    ")\n",
    "draw(plot(p1,p2,layout=(1,2)))"
   ]
  },
  {
   "cell_type": "markdown",
   "id": "2d902aa5",
   "metadata": {
    "slideshow": {
     "slide_type": "subslide"
    }
   },
   "source": [
    "### Rounding errors affect the orthogonality error\n",
    "\n",
    "If we start with $\\hat{R}^{(0)} = I$ and $\\hat{Q}^{(0)} = A$, step $i$ is like\n",
    "\n",
    "$$\n",
    "A = \\hat{Q}^{(i-1)} \\hat{R}^{(i-1)} = \\hat{Q}^{(i-1)} Z_{i} Z_{i}^{-1} \\hat{R}^{(i-1)} = \\underbrace{(\\hat{Q}^{(i-1)} Z_{i})}_{\\hat{Q}^{(i)}} \\underbrace{(Z_i^{-1} \\hat{R}^{(i-1)})}_{\\hat{R}^{(i)}}.$$"
   ]
  },
  {
   "cell_type": "markdown",
   "id": "bbd6b7e0",
   "metadata": {
    "cell_style": "split",
    "slideshow": {
     "slide_type": "-"
    }
   },
   "source": [
    "- We saw last time that rounding errors have the biggest effect when\n",
    "\n",
    "$$|r_{ii}| \\ll \\max_j |r_{ji}|$$\n",
    "\n",
    "- When this happens\n",
    "\n",
    "$$\\underbrace{\\|Z_i\\|_2 \\|Z_i^{-1}\\|_2}_{\\text{(condition number of } Z_i\\text{)}} \\gg 1$$"
   ]
  },
  {
   "cell_type": "markdown",
   "id": "a6144796",
   "metadata": {
    "cell_style": "split",
    "slideshow": {
     "slide_type": "-"
    }
   },
   "source": [
    "- **Matrices with large condition numbers blow-up rounding errors**"
   ]
  },
  {
   "cell_type": "markdown",
   "id": "5e2f018c",
   "metadata": {
    "slideshow": {
     "slide_type": "subslide"
    }
   },
   "source": [
    "**Exercise:**  What type of matrix $Y$ has\n",
    "\n",
    "$$\\|Y\\|_2 \\|Y^{-1}\\|_2 = 1?$$"
   ]
  },
  {
   "cell_type": "markdown",
   "id": "81b406db",
   "metadata": {
    "slideshow": {
     "slide_type": "subslide"
    }
   },
   "source": [
    "### Householder QR: produce a _full QR factorization_ by  _unitary transformations_ to $R$"
   ]
  },
  {
   "cell_type": "markdown",
   "id": "5c5a2461",
   "metadata": {
    "cell_style": "center"
   },
   "source": [
    "- Start with $Q^{(0)} = I$ and $R^{(0)} = A$\n",
    "\n",
    "- At step $i$: $\\quad \\quad A = Q^{(i-1)} R^{(i-1)} = Q^{(i-1)} U_i^{-1} U_i R^{(i-1)} = \\underbrace{(Q^{(i-1)} U_{i-1}^*)}_{Q^{(i)}} \\underbrace{(U_{i-1} R^{(i-1)})}_{R^{(i)}}$"
   ]
  },
  {
   "cell_type": "code",
   "execution_count": 12,
   "id": "d44deead",
   "metadata": {
    "cell_style": "split",
    "hideCode": true
   },
   "outputs": [
    {
     "data": {
      "text/html": [
       "<img src=\"data:image/gif;base64,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\" />"
      ],
      "text/plain": [
       "Plots.AnimatedGif(\"/home/tisaac/srv/rep/22-course-cse6643/mybinder/tmp.gif\")"
      ]
     },
     "execution_count": 12,
     "metadata": {},
     "output_type": "execute_result"
    }
   ],
   "source": [
    "m = 7; n = 5;\n",
    "R = ones(m,n);\n",
    "E = zeros(n,n);\n",
    "anim = Animation();\n",
    "function h_frame!(R, E, anim)\n",
    "    rplot = imshow(R)\n",
    "    plot!(rplot, colorbar=:legend, legend=false, title=\"R\")\n",
    "    eplot = imshow(E, (-1,1))\n",
    "    plot!(eplot, colorbar=:legend, legend=false, title=\"||I-Q'Q||\")\n",
    "    p = plot(rplot, eplot, layout=(1,2), plot_title=\"Householder QR\")\n",
    "    frame(anim, p)\n",
    "end\n",
    "h_frame!(R, E, anim)\n",
    "for j in 1:n\n",
    "    R[:] = ones(m,n)\n",
    "    R[j:2:end,:] .-= 0.1\n",
    "    R[1:j,:] .= -1.0 + 0.01\n",
    "    for i in 1:j\n",
    "        R[i+1:end,i] .= 0.\n",
    "    end\n",
    "    h_frame!(R, E, anim)\n",
    "end\n",
    "h_frame!(R, E, anim)\n",
    "gif(anim, fps=0.5)"
   ]
  },
  {
   "cell_type": "markdown",
   "id": "949ea4e4",
   "metadata": {
    "cell_style": "split"
   },
   "source": [
    "- $I - Q^{(i)*} Q^{(i)} = 0\\ $ **at each step** because $Q^{(i)} = Q^{(i-1)} U_i$, and\n",
    "\n",
    "$$\\text{unitary} \\cdot \\text{unitary} = \\text{unitary}$$"
   ]
  },
  {
   "cell_type": "markdown",
   "id": "e0230174",
   "metadata": {
    "slideshow": {
     "slide_type": "subslide"
    }
   },
   "source": [
    "> Gram-Schmidt: triangular orthogonalization\n",
    ">\n",
    "> Householder: orthogonal triangularization"
   ]
  },
  {
   "cell_type": "markdown",
   "id": "295c0c6c",
   "metadata": {
    "slideshow": {
     "slide_type": "slide"
    }
   },
   "source": [
    "## Householder QR: how it's done"
   ]
  },
  {
   "cell_type": "markdown",
   "id": "a187c64a",
   "metadata": {
    "slideshow": {
     "slide_type": "subslide"
    }
   },
   "source": [
    "### Consider the first step\n",
    "\n",
    "$$R^{(1)} \\gets U_1 R^{(0)}$$\n",
    "\n",
    "- Action on the left $\\Rightarrow$ acts on the rows $\\Rightarrow$ same action applied to each column"
   ]
  },
  {
   "cell_type": "code",
   "execution_count": 13,
   "id": "27ba731f",
   "metadata": {
    "cell_style": "split",
    "hideCode": true
   },
   "outputs": [
    {
     "data": {
      "image/svg+xml": [
       "<?xml version=\"1.0\" encoding=\"utf-8\"?>\n",
       "<svg xmlns=\"http://www.w3.org/2000/svg\" xmlns:xlink=\"http://www.w3.org/1999/xlink\" width=\"500\" height=\"500\" viewBox=\"0 0 2000 2000\">\n",
       "<defs>\n",
       "  <clipPath id=\"clip800\">\n",
       "    <rect x=\"0\" y=\"0\" width=\"2000\" height=\"2000\"/>\n",
       "  </clipPath>\n",
       "</defs>\n",
       "<path clip-path=\"url(#clip800)\" d=\"\n",
       "M0 2000 L2000 2000 L2000 0 L0 0  Z\n",
       "  \" fill=\"#ffffff\" fill-rule=\"evenodd\" fill-opacity=\"1\"/>\n",
       "<defs>\n",
       "  <clipPath id=\"clip801\">\n",
       "    <rect x=\"400\" y=\"200\" width=\"1401\" height=\"1401\"/>\n",
       "  </clipPath>\n",
       "</defs>\n",
       "<path clip-path=\"url(#clip800)\" d=\"\n",
       "M108.177 1865.17 L967.092 1865.17 L967.092 147.244 L108.177 147.244  Z\n",
       "  \" fill=\"#ffffff\" fill-rule=\"evenodd\" fill-opacity=\"1\"/>\n",
       "<defs>\n",
       "  <clipPath id=\"clip802\">\n",
       "    <rect x=\"108\" y=\"147\" width=\"860\" height=\"1719\"/>\n",
       "  </clipPath>\n",
       "</defs>\n",
       "<g clip-path=\"url(#clip802)\">\n",
       "<image width=\"859\" height=\"1202\" xlink:href=\"data:image/png;base64,\n",
       "iVBORw0KGgoAAAANSUhEUgAAA1sAAASyCAYAAABA0PHBAAAaAklEQVR4nOzXQQ2AMADAwDGXc4og\n",
       "fDATa0jInYJ+e93reQcAAABHza8DAAAA/shsAQAABMwWAABAwGwBAAAEzBYAAEDAbAEAAATMFgAA\n",
       "QMBsAQAABMwWAABAwGwBAAAEzBYAAEDAbAEAAATMFgAAQMBsAQAABMwWAABAwGwBAAAEzBYAAEDA\n",
       "bAEAAATMFgAAQMBsAQAABMwWAABAwGwBAAAEzBYAAEDAbAEAAATMFgAAQMBsAQAABMwWAABAwGwB\n",
       "AAAEzBYAAEDAbAEAAATMFgAAQMBsAQAABMwWAABAwGwBAAAEzBYAAEDAbAEAAATMFgAAQMBsAQAA\n",
       "BMwWAABAwGwBAAAEzBYAAEDAbAEAAATMFgAAQMBsAQAABMwWAABAwGwBAAAEzBYAAEDAbAEAAATM\n",
       "FgAAQMBsAQAABMwWAABAwGwBAAAEzBYAAEDAbAEAAATMFgAAQMBsAQAABMwWAABAwGwBAAAEzBYA\n",
       "AEDAbAEAAATMFgAAQMBsAQAABMwWAABAwGwBAAAEzBYAAEDAbAEAAATMFgAAQMBsAQAABMwWAABA\n",
       "wGwBAAAEzBYAAEDAbAEAAATMFgAAQMBsAQAABMwWAABAwGwBAAAEzBYAAEDAbAEAAATMFgAAQMBs\n",
       "AQAABMwWAABAwGwBAAAEzBYAAEDAbAEAAATMFgAAQMBsAQAABMwWAABAwGwBAAAEzBYAAEDAbAEA\n",
       "AATMFgAAQMBsAQAABMwWAABAwGwBAAAEzBYAAEDAbAEAAATMFgAAQMBsAQAABMwWAABAwGwBAAAE\n",
       "zBYAAEDAbAEAAATMFgAAQMBsAQAABMwWAABAwGwBAAAEzBYAAEDAbAEAAATMFgAAQMBsAQAABMwW\n",
       "AABAwGwBAAAEzBYAAEDAbAEAAATMFgAAQMBsAQAABMwWAABAwGwBAAAEzBYAAEDAbAEAAATMFgAA\n",
       "QMBsAQAABMwWAABAwGwBAAAEzBYAAEDAbAEAAATMFgAAQMBsAQAABMwWAABAwGwBAAAEzBYAAEDA\n",
       "bAEAAATMFgAAQMBsAQAABMwWAABAwGwBAAAEzBYAAEDAbAEAAATMFgAAQMBsAQAABMwWAABAwGwB\n",
       "AAAEzBYAAEDAbAEAAATMFgAAQMBsAQAABMwWAABAwGwBAAAEzBYAAEDAbAEAAATMFgAAQMBsAQAA\n",
       "BMwWAABAwGwBAAAEzBYAAEDAbAEAAATMFgAAQMBsAQAABMwWAABAwGwBAAAEzBYAAEDAbAEAAATM\n",
       "FgAAQMBsAQAABMwWAABAwGwBAAAEzBYAAEDAbAEAAATMFgAAQMBsAQAABMwWAABAwGwBAAAEzBYA\n",
       "AEDAbAEAAATMFgAAQMBsAQAABMwWAABAwGwBAAAEzBYAAEDAbAEAAATMFgAAQMBsAQAABMwWAABA\n",
       "wGwBAAAEzBYAAEDAbAEAAATMFgAAQMBsAQAABMwWAABAwGwBAAAEzBYAAEDAbAEAAATMFgAAQMBs\n",
       "AQAABMwWAABAwGwBAAAEzBYAAEDAbAEAAATMFgAAQMBsAQAABMwWAABAwGwBAAAEzBYAAEDAbAEA\n",
       "AATMFgAAQMBsAQAABMwWAABAwGwBAAAEzBYAAEDAbAEAAATMFgAAQMBsAQAABMwWAABAwGwBAAAE\n",
       "zBYAAEDAbAEAAATMFgAAQMBsAQAABMwWAABAwGwBAAAEzBYAAEDAbAEAAATMFgAAQMBsAQAABMwW\n",
       "AABAwGwBAAAEzBYAAEDAbAEAAATMFgAAQMBsAQAABMwWAABAwGwBAAAEzBYAAEDAbAEAAATMFgAA\n",
       "QMBsAQAABMwWAABAwGwBAAAEzBYAAEDAbAEAAATMFgAAQMBsAQAABMwWAABAwGwBAAAEzBYAAEDA\n",
       "bAEAAATMFgAAQMBsAQAABMwWAABAwGwBAAAEzBYAAEDAbAEAAATMFgAAQMBsAQAABMwWAABAwGwB\n",
       "AAAEzBYAAEDAbAEAAATMFgAAQMBsAQAABMwWAABAwGwBAAAEzBYAAEDAbAEAAATMFgAAQMBsAQAA\n",
       "BMwWAABAwGwBAAAEzBYAAEDAbAEAAATMFgAAQMBsAQAABMwWAABAwGwBAAAEzBYAAEDAbAEAAATM\n",
       "FgAAQMBsAQAABMwWAABAwGwBAAAEzBYAAEDAbAEAAATMFgAAQMBsAQAABMwWAABAwGwBAAAEzBYA\n",
       "AEDAbAEAAATMFgAAQMBsAQAABMwWAABAwGwBAAAEzBYAAEDAbAEAAATMFgAAQMBsAQAABMwWAABA\n",
       "wGwBAAAEzBYAAEDAbAEAAATMFgAAQMBsAQAABMwWAABAwGwBAAAEzBYAAEDAbAEAAATMFgAAQMBs\n",
       "AQAABMwWAABAwGwBAAAEzBYAAEDAbAEAAATMFgAAQMBsAQAABMwWAABAwGwBAAAEzBYAAEDAbAEA\n",
       "AATMFgAAQMBsAQAABMwWAABAwGwBAAAEzBYAAEDAbAEAAATMFgAAQMBsAQAABMwWAABAwGwBAAAE\n",
       "zBYAAEDAbAEAAATMFgAAQMBsAQAABMwWAABAwGwBAAAEzBYAAEDAbAEAAATMFgAAQMBsAQAABMwW\n",
       "AABAwGwBAAAEzBYAAEDAbAEAAATMFgAAQMBsAQAABMwWAABAwGwBAAAEzBYAAEDAbAEAAATMFgAA\n",
       "QMBsAQAABMwWAABAwGwBAAAEzBYAAEDAbAEAAATMFgAAQMBsAQAABMwWAABAwGwBAAAEzBYAAEDA\n",
       "bAEAAATMFgAAQMBsAQAABMwWAABAwGwBAAAEzBYAAEDAbAEAAATMFgAAQMBsAQAABMwWAABAwGwB\n",
       "AAAEzBYAAEDAbAEAAATMFgAAQMBsAQAABMwWAABAwGwBAAAEzBYAAEDAbAEAAATMFgAAQMBsAQAA\n",
       "BMwWAABAwGwBAAAEzBYAAEDAbAEAAATMFgAAQMBsAQAABMwWAABAwGwBAAAEzBYAAEDAbAEAAATM\n",
       "FgAAQMBsAQAABMwWAABAwGwBAAAEzBYAAEDAbAEAAATMFgAAQMBsAQAABMwWAABAwGwBAAAEzBYA\n",
       "AEDAbAEAAATMFgAAQMBsAQAABMwWAABAwGwBAAAEzBYAAEDAbAEAAATMFgAAQMBsAQAABMwWAABA\n",
       "wGwBAAAEzBYAAEDAbAEAAATMFgAAQMBsAQAABMwWAABAwGwBAAAEzBYAAEDAbAEAAATMFgAAQMBs\n",
       "AQAABMwWAABAwGwBAAAEzBYAAEDAbAEAAATMFgAAQMBsAQAABMwWAABAwGwBAAAEzBYAAEDAbAEA\n",
       "AATMFgAAQMBsAQAABMwWAABAwGwBAAAEzBYAAEDAbAEAAATMFgAAQMBsAQAABMwWAABAwGwBAAAE\n",
       "zBYAAEDAbAEAAATMFgAAQMBsAQAABMwWAABAwGwBAAAEzBYAAEDAbAEAAATMFgAAQMBsAQAABMwW\n",
       "AABAwGwBAAAEzBYAAEDAbAEAAATMFgAAQMBsAQAABMwWAABAwGwBAAAEzBYAAEDAbAEAAATMFgAA\n",
       "QMBsAQAABMwWAABAwGwBAAAEzBYAAEDAbAEAAATMFgAAQMBsAQAABMwWAABAwGwBAAAEzBYAAEDA\n",
       "bAEAAATMFgAAQMBsAQAABMwWAABAwGwBAAAEzBYAAEDAbAEAAATMFgAAQMBsAQAABMwWAABAwGwB\n",
       "AAAEzBYAAEDAbAEAAATMFgAAQMBsAQAABMwWAABAwGwBAAAEzBYAAEDAbAEAAATMFgAAQMBsAQAA\n",
       "BMwWAABAwGwBAAAEzBYAAEDAbAEAAATMFgAAQMBsAQAABMwWAABAwGwBAAAEzBYAAEDAbAEAAATM\n",
       "FgAAQMBsAQAABMwWAABAwGwBAAAEzBYAAEDAbAEAAATMFgAAQMBsAQAABMwWAABAwGwBAAAEzBYA\n",
       "AEDAbAEAAATMFgAAQMBsAQAABMwWAABAwGwBAAAEzBYAAEDAbAEAAATMFgAAQMBsAQAABMwWAABA\n",
       "wGwBAAAEzBYAAEDAbAEAAATMFgAAQMBsAQAABMwWAABAwGwBAAAEzBYAAEDAbAEAAATMFgAAQMBs\n",
       "AQAABMwWAABAwGwBAAAEzBYAAEDAbAEAAATMFgAAQMBsAQAABMwWAABAwGwBAAAEzBYAAEDAbAEA\n",
       "AATMFgAAQMBsAQAABMwWAABAwGwBAAAEzBYAAEDAbAEAAATMFgAAQMBsAQAABMwWAABAwGwBAAAE\n",
       "zBYAAEDAbAEAAATMFgAAQMBsAQAABMwWAABAwGwBAAAEzBYAAEDAbAEAAATMFgAAQMBsAQAABMwW\n",
       "AABAwGwBAAAEzBYAAEDAbAEAAATMFgAAQMBsAQAABMwWAABAwGwBAAAEzBYAAEDAbAEAAATMFgAA\n",
       "QMBsAQAABMwWAABAwGwBAAAEzBYAAEDAbAEAAATMFgAAQMBsAQAABMwWAABAwGwBAAAEzBYAAEDA\n",
       "bAEAAATMFgAAQMBsAQAABMwWAABAwGwBAAAEzBYAAEDAbAEAAATMFgAAQMBsAQAABMwWAABAwGwB\n",
       "AAAEzBYAAEDAbAEAAATMFgAAQMBsAQAABMwWAABAwGwBAAAEzBYAAEDAbAEAAATMFgAAQMBsAQAA\n",
       "BMwWAABAwGwBAAAEzBYAAEDAbAEAAATMFgAAQMBsAQAABMwWAABAwGwBAAAEzBYAAEDAbAEAAATM\n",
       "FgAAQMBsAQAABMwWAABAwGwBAAAEzBYAAEDAbAEAAATMFgAAQMBsAQAABMwWAABAwGwBAAAEzBYA\n",
       "AEDAbAEAAATMFgAAQMBsAQAABMwWAABAwGwBAAAEzBYAAEDAbAEAAATMFgAAQMBsAQAABMwWAABA\n",
       "wGwBAAAEzBYAAEDAbAEAAATMFgAAQMBsAQAABMwWAABAwGwBAAAEzBYAAEDAbAEAAATMFgAAQMBs\n",
       "AQAABMwWAABAwGwBAAAEzBYAAEDAbAEAAATMFgAAQMBsAQAABMwWAABAwGwBAAAEzBYAAEDAbAEA\n",
       "AATMFgAAQMBsAQAABMwWAABAwGwBAAAEzBYAAEDAbAEAAATMFgAAQMBsAQAABMwWAABAwGwBAAAE\n",
       "zBYAAEDAbAEAAATMFgAAQMBsAQAABMwWAABAwGwBAAAEzBYAAEDAbAEAAATMFgAAQMBsAQAABMwW\n",
       "AABAwGwBAAAEzBYAAEDAbAEAAATMFgAAQMBsAQAABMwWAABAwGwBAAAEzBYAAEDAbAEAAATMFgAA\n",
       "QMBsAQAABMwWAABAwGwBAAAEzBYAAEDAbAEAAATMFgAAQMBsAQAABMwWAABAwGwBAAAEzBYAAEDA\n",
       "bAEAAATMFgAAQMBsAQAABMwWAABAwGwBAAAEzBYAAEDAbAEAAATMFgAAQMBsAQAABMwWAABAwGwB\n",
       "AAAEzBYAAEDAbAEAAATMFgAAQMBsAQAABMwWAABAwGwBAAAEzBYAAEDAbAEAAATMFgAAQMBsAQAA\n",
       "BMwWAABAwGwBAAAEzBYAAEDAbAEAAATMFgAAQMBsAQAABMwWAABAwGwBAAAEzBYAAEDAbAEAAATM\n",
       "FgAAQMBsAQAABMwWAABAwGwBAAAEzBYAAEDAbAEAAATMFgAAQMBsAQAABMwWAABAwGwBAAAEzBYA\n",
       "AEDAbAEAAATMFgAAQMBsAQAABMwWAABAwGwBAAAEzBYAAEDAbAEAAATMFgAAQMBsAQAABMwWAABA\n",
       "wGwBAAAEzBYAAEDAbAEAAATMFgAAQMBsAQAABMwWAABAwGwBAAAEzBYAAEDAbAEAAATMFgAAQMBs\n",
       "AQAABMwWAABAwGwBAAAEzBYAAEDAbAEAAATMFgAAQMBsAQAABMwWAABAwGwBAAAEzBYAAEDAbAEA\n",
       "AATMFgAAQMBsAQAABMwWAABAwGwBAAAEzBYAAEDAbAEAAATMFgAAQMBsAQAABMwWAABAwGwBAAAE\n",
       "zBYAAEDAbAEAAATMFgAAQMBsAQAABMwWAABAwGwBAAAEzBYAAEDAbAEAAATMFgAAQMBsAQAABMwW\n",
       "AABAwGwBAAAEzBYAAEDAbAEAAATMFgAAQMBsAQAABMwWAABAwGwBAAAEzBYAAEDAbAEAAATMFgAA\n",
       "QMBsAQAABMwWAABAwGwBAAAEzBYAAEDAbAEAAATMFgAAQMBsAQAABMwWAABAwGwBAAAEzBYAAEDA\n",
       "bAEAAATMFgAAQMBsAQAABMwWAABAwGwBAAAEzBYAAEDAbAEAAATMFgAAQMBsAQAABMwWAABAwGwB\n",
       "AAAEzBYAAEDAbAEAAATMFgAAQMBsAQAABMwWAABAwGwBAAAEzBYAAEDAbAEAAATMFgAAQMBsAQAA\n",
       "BMwWAABAwGwBAAAEzBYAAEDAbAEAAATMFgAAQMBsAQAABMwWAABAwGwBAAAEzBYAAEDAbAEAAATM\n",
       "FgAAQMBsAQAABMwWAABAwGwBAAAEzBYAAEDAbAEAAATMFgAAQMBsAQAABMwWAABAwGwBAAAEzBYA\n",
       "AEDAbAEAAATMFgAAQMBsAQAABMwWAABAwGwBAAAEzBYAAEDAbAEAAATMFgAAQMBsAQAABMwWAABA\n",
       "wGwBAAAEzBYAAEDAbAEAAATMFgAAQMBsAQAABMwWAABAwGwBAAAEzBYAAEDAbAEAAATMFgAAQMBs\n",
       "AQAABMwWAABAwGwBAAAEzBYAAEDAbAEAAATMFgAAQMBsAQAABMwWAABAwGwBAAAEzBYAAEDAbAEA\n",
       "AATMFgAAQMBsAQAABMwWAABAwGwBAAAEzBYAAEDAbAEAAATMFgAAQMBsAQAABMwWAABAwGwBAAAE\n",
       "zBYAAEDAbAEAAATMFgAAQMBsAQAABMwWAABAwGwBAAAEzBYAAEDAbAEAAATMFgAAQMBsAQAABMwW\n",
       "AABAwGwBAAAEzBYAAEDAbAEAAATMFgAAQMBsAQAABMwWAABAwGwBAAAEzBYAAEDAbAEAAATMFgAA\n",
       "QMBsAQAABMwWAABAwGwBAAAEzBYAAEDAbAEAAATMFgAAQMBsAQAABMwWAABAwGwBAAAEzBYAAEDA\n",
       "bAEAAATMFgAAQMBsAQAABMwWAABAwGwBAAAEzBYAAEDAbAEAAATMFgAAQMBsAQAABMwWAABAwGwB\n",
       "AAAEzBYAAEDAbAEAAATMFgAAQMBsAQAABMwWAABAwGwBAAAEzBYAAEDAbAEAAATMFgAAQMBsAQAA\n",
       "BMwWAABAwGwBAAAEzBYAAEDAbAEAAATMFgAAQMBsAQAABMwWAABAwGwBAAAEzBYAAEDAbAEAAATM\n",
       "FgAAQMBsAQAABMwWAABAwGwBAAAEzBYAAEDAbAEAAATMFgAAQMBsAQAABMwWAABAwGwBAAAEzBYA\n",
       "AEDAbAEAAATMFgAAQMBsAQAABMwWAABAwGwBAAAEzBYAAEDAbAEAAATMFgAAQMBsAQAABMwWAABA\n",
       "wGwBAAAEzBYAAEDAbAEAAATMFgAAQMBsAQAABMwWAABAwGwBAAAEzBYAAEDAbAEAAATMFgAAQMBs\n",
       "AQAABMwWAABAwGwBAAAEzBYAAEDAbAEAAATMFgAAQMBsAQAABMwWAABAwGwBAAAEzBYAAEDAbAEA\n",
       "AATMFgAAQMBsAQAABMwWAABAwGwBAAAEzBYAAEDAbAEAAATMFgAAQMBsAQAABMwWAABAwGwBAAAE\n",
       "zBYAAEDAbAEAAATMFgAAQMBsAQAABMwWAABAwGwBAAAEzBYAAEDAbAEAAATMFgAAQMBsAQAABMwW\n",
       "AABAwGwBAAAEzBYAAEDAbAEAAATMFgAAQMBsAQAABMwWAABAwGwBAAAEzBYAAEDAbAEAAATMFgAA\n",
       "QMBsAQAABMwWAABAwGwBAAAEzBYAAEDAbAEAAATMFgAAQMBsAQAABMwWAABAwGwBAAAEzBYAAEDA\n",
       "bAEAAATMFgAAQMBsAQAABMwWAABAwGwBAAAEzBYAAEDAbAEAAATMFgAAQMBsAQAABMwWAABAwGwB\n",
       "AAAEzBYAAEDAbAEAAATMFgAAQMBsAQAABMwWAABAwGwBAAAEzBYAAEDAbAEAAATMFgAAQMBsAQAA\n",
       "BMwWAABAwGwBAAAEzBYAAEDAbAEAAATMFgAAQMBsAQAABMwWAABAwGwBAAAEzBYAAEDAbAEAAATM\n",
       "FgAAQMBsAQAABMwWAABAwGwBAAAEzBYAAEDAbAEAAATMFgAAQMBsAQAABMwWAABAwGwBAAAEzBYA\n",
       "AEDAbAEAAATMFgAAQMBsAQAABMwWAABAwGwBAAAEzBYAAEDAbAEAAATMFgAAQMBsAQAABMwWAABA\n",
       "wGwBAAAEzBYAAEDAbAEAAATMFgAAQMBsAQAABMwWAABAwGwBAAAEzBYAAEDAbAEAAATMFgAAQMBs\n",
       "AQAABMwWAABAwGwBAAAEzBYAAEDAbAEAAATMFgAAQMBsAQAABMwWAABAwGwBAAAEzBYAAEDAbAEA\n",
       "AATMFgAAQMBsAQAABMwWAABAwGwBAAAEzBYAAEDAbAEAAATMFgAAQMBsAQAABMwWAABAwGwBAAAE\n",
       "zBYAAEDAbAEAAATMFgAAQMBsAQAABMwWAABAwGwBAAAEzBYAAEDAbAEAAATMFgAAQMBsAQAABMwW\n",
       "AABAwGwBAAAEzBYAAEDAbAEAAATMFgAAQMBsAQAABMwWAABAwGwBAAAEzBYAAEDAbAEAAATMFgAA\n",
       "QMBsAQAABMwWAABAwGwBAAAEzBYAAEDAbAEAAATMFgAAQMBsAQAABMwWAABAwGwBAAAEzBYAAEDA\n",
       "bAEAAATMFgAAQMBsAQAABMwWAABAwGwBAAAEzBYAAEDAbAEAAATMFgAAQMBsAQAABMwWAABAwGwB\n",
       "AAAEzBYAALv9OhYAAAAAGORvPYp9ZREwkC0AAICBbAEAAAxkCwAAYCBbAAAAA9kCAAAYyBYAAMBA\n",
       "tgAAAAayBQAAMJAtAACAgWwBAAAMZAsAAGAgWwAAAAPZAgAAGMgWAADAQLYAAAAGsgUAADCQLQAA\n",
       "gIFsAQAADGQLAABgIFsAAAAD2QIAABjIFgAAwEC2AAAABrIFAAAwkC0AAICBbAEAAAxkCwAAYCBb\n",
       "AAAAA9kCAAAYyBYAAMBAtgAAAAayBQAAMAgmNAxYZfQTRAAAAABJRU5ErkJggg==\n",
       "\" transform=\"translate(108, 405)\"/>\n",
       "</g>\n",
       "<path clip-path=\"url(#clip800)\" d=\"\n",
       "M1122.51 1865.17 L1952.76 1865.17 L1952.76 147.244 L1122.51 147.244  Z\n",
       "  \" fill=\"#ffffff\" fill-rule=\"evenodd\" fill-opacity=\"1\"/>\n",
       "<defs>\n",
       "  <clipPath id=\"clip803\">\n",
       "    <rect x=\"1122\" y=\"147\" width=\"831\" height=\"1719\"/>\n",
       "  </clipPath>\n",
       "</defs>\n",
       "<g clip-path=\"url(#clip803)\">\n",
       "<image width=\"830\" height=\"1162\" xlink:href=\"data:image/png;base64,\n",
       "iVBORw0KGgoAAAANSUhEUgAAAz4AAASKCAYAAACfN7s1AAAYx0lEQVR4nO3ZsWnDABRF0TgI3Bk8\n",
       "jqfLGFksW6hQLQxy+qDS4cPlnAle+S//8vi+vT4AAADCPqcHAAAA/DfhAwAA5AkfAAAgT/gAAAB5\n",
       "wgcAAMgTPgAAQJ7wAQAA8oQPAACQJ3wAAIA84QMAAOQJHwAAIE/4AAAAecIHAADIEz4AAECe8AEA\n",
       "APKEDwAAkCd8AACAPOEDAADkCR8AACBP+AAAAHnCBwAAyBM+AABAnvABAADyhA8AAJAnfAAAgDzh\n",
       "AwAA5AkfAAAgT/gAAAB5wgcAAMgTPgAAQJ7wAQAA8oQPAACQJ3wAAIA84QMAAOQJHwAAIE/4AAAA\n",
       "ecIHAADIEz4AAECe8AEAAPKEDwAAkCd8AACAPOEDAADkCR8AACBP+AAAAHnCBwAAyBM+AABAnvAB\n",
       "AADyhA8AAJAnfAAAgDzhAwAA5AkfAAAgT/gAAAB5wgcAAMgTPgAAQJ7wAQAA8oQPAACQJ3wAAIA8\n",
       "4QMAAOQJHwAAIE/4AAAAecIHAADIEz4AAECe8AEAAPKEDwAAkCd8AACAPOEDAADkCR8AACBP+AAA\n",
       "AHnCBwAAyBM+AABAnvABAADyhA8AAJAnfAAAgDzhAwAA5AkfAAAgT/gAAAB5wgcAAMgTPgAAQJ7w\n",
       "AQAA8oQPAACQJ3wAAIA84QMAAOQJHwAAIE/4AAAAecIHAADIEz4AAECe8AEAAPKEDwAAkCd8AACA\n",
       "POEDAADkCR8AACBP+AAAAHnCBwAAyBM+AABAnvABAADyhA8AAJAnfAAAgDzhAwAA5AkfAAAgT/gA\n",
       "AAB5wgcAAMgTPgAAQJ7wAQAA8oQPAACQJ3wAAIA84QMAAOQJHwAAIE/4AAAAecIHAADIEz4AAECe\n",
       "8AEAAPKEDwAAkCd8AACAPOEDAADkCR8AACBP+AAAAHnCBwAAyBM+AABAnvABAADyhA8AAJAnfAAA\n",
       "gDzhAwAA5AkfAAAgT/gAAAB5wgcAAMgTPgAAQJ7wAQAA8oQPAACQJ3wAAIA84QMAAOQJHwAAIE/4\n",
       "AAAAecIHAADIEz4AAECe8AEAAPKEDwAAkCd8AACAPOEDAADkCR8AACBP+AAAAHnCBwAAyBM+AABA\n",
       "nvABAADyhA8AAJAnfAAAgDzhAwAA5AkfAAAgT/gAAAB5wgcAAMgTPgAAQJ7wAQAA8oQPAACQJ3wA\n",
       "AIA84QMAAOQJHwAAIE/4AAAAecIHAADIEz4AAECe8AEAAPKEDwAAkCd8AACAPOEDAADkCR8AACBP\n",
       "+AAAAHnCBwAAyBM+AABAnvABAADyLuu6vqZHwF8/X8/pCQAAhPj4AAAAecIHAADIEz4AAECe8AEA\n",
       "APKEDwAAkCd8AACAPOEDAADkCR8AACBP+AAAAHnCBwAAyBM+AABAnvABAADyhA8AAJAnfAAAgDzh\n",
       "AwAA5AkfAAAgT/gAAAB5wgcAAMgTPgAAQJ7wAQAA8oQPAACQJ3wAAIA84QMAAOQJHwAAIE/4AAAA\n",
       "ecIHAADIEz4AAECe8AEAAPKEDwAAkCd8AACAPOEDAADkCR8AACBP+AAAAHnCBwAAyBM+AABAnvAB\n",
       "AADyhA8AAJAnfAAAgDzhAwAA5AkfAAAgT/gAAAB5wgcAAMgTPgAAQJ7wAQAA8oQPAACQJ3wAAIA8\n",
       "4QMAAOQJHwAAIE/4AAAAecIHAADIEz4AAECe8AEAAPKEDwAAkCd8AACAPOEDAADkCR8AACBP+AAA\n",
       "AHnCBwAAyBM+AABAnvABAADyhA8AAJAnfAAAgDzhAwAA5AkfAAAgT/gAAAB5wgcAAMgTPgAAQJ7w\n",
       "AQAA8oQPAACQJ3wAAIA84QMAAOQJHwAAIE/4AAAAecIHAADIEz4AAECe8AEAAPKEDwAAkCd8AACA\n",
       "POEDAADkCR8AACBP+AAAAHnCBwAAyBM+AABAnvABAADyhA8AAJAnfAAAgDzhAwAA5AkfAAAgT/gA\n",
       "AAB5wgcAAMgTPgAAQJ7wAQAA8oQPAACQJ3wAAIA84QMAAOQJHwAAIE/4AAAAecIHAADIEz4AAECe\n",
       "8AEAAPKEDwAAkCd8AACAPOEDAADkCR8AACBP+AAAAHnCBwAAyBM+AABAnvABAADyhA8AAJAnfAAA\n",
       "gDzhAwAA5AkfAAAgT/gAAAB5wgcAAMgTPgAAQJ7wAQAA8oQPAACQJ3wAAIA84QMAAOQJHwAAIE/4\n",
       "AAAAecIHAADIEz4AAECe8AEAAPKEDwAAkCd8AACAPOEDAADkCR8AACBP+AAAAHnCBwAAyBM+AABA\n",
       "nvABAADyhA8AAJAnfAAAgDzhAwAA5AkfAAAgT/gAAAB5wgcAAMgTPgAAQJ7wAQAA8oQPAACQJ3wA\n",
       "AIA84QMAAOQJHwAAIE/4AAAAecIHAADIEz4AAECe8AEAAPKEDwAAkCd8AACAPOEDAADkCR8AACBP\n",
       "+AAAAHnCBwAAyBM+AABAnvABAADyhA8AAJAnfAAAgDzhAwAA5AkfAAAgT/gAAAB5wgcAAMgTPgAA\n",
       "QJ7wAQAA8pbpAXBm347pCQAAhPj4AAAAecIHAADIEz4AAECe8AEAAPKEDwAAkCd8AACAPOEDAADk\n",
       "CR8AACBP+AAAAHnCBwAAyBM+AABAnvABAADyhA8AAJAnfAAAgDzhAwAA5AkfAAAgT/gAAAB5wgcA\n",
       "AMgTPgAAQJ7wAQAA8oQPAACQJ3wAAIA84QMAAOQJHwAAIE/4AAAAecIHAADIEz4AAECe8AEAAPKE\n",
       "DwAAkCd8AACAPOEDAADkCR8AACBP+AAAAHnCBwAAyBM+AABAnvABAADyhA8AAJAnfAAAgDzhAwAA\n",
       "5AkfAAAgT/gAAAB5wgcAAMgTPgAAQJ7wAQAA8oQPAACQJ3wAAIA84QMAAOQJHwAAIE/4AAAAecIH\n",
       "AADIEz4AAECe8AEAAPKEDwAAkCd8AACAPOEDAADkCR8AACBP+AAAAHnCBwAAyBM+AABAnvABAADy\n",
       "hA8AAJAnfAAAgDzhAwAA5AkfAAAgT/gAAAB5wgcAAMgTPgAAQJ7wAQAA8oQPAACQJ3wAAIA84QMA\n",
       "AOQJHwAAIE/4AAAAecIHAADIEz4AAECe8AEAAPKEDwAAkCd8AACAPOEDAADkCR8AACBP+AAAAHnC\n",
       "BwAAyBM+AABAnvABAADyhA8AAJAnfAAAgDzhAwAA5AkfAAAgT/gAAAB5wgcAAMgTPgAAQJ7wAQAA\n",
       "8oQPAACQJ3wAAIA84QMAAOQJHwAAIE/4AAAAecIHAADIEz4AAECe8AEAAPKEDwAAkCd8AACAPOED\n",
       "AADkCR8AACBP+AAAAHnCBwAAyBM+AABAnvABAADyhA8AAJAnfAAAgDzhAwAA5AkfAAAgT/gAAAB5\n",
       "wgcAAMgTPgAAQJ7wAQAA8oQPAACQJ3wAAIA84QMAAOQJHwAAIE/4AAAAecIHAADIEz4AAECe8AEA\n",
       "APKEDwAAkCd8AACAPOEDAADkCR8AACBP+AAAAHnCBwAAyBM+AABAnvABAADyhA8AAJAnfAAAgDzh\n",
       "AwAA5AkfAAAgT/gAAAB5wgcAAMgTPgAAQJ7wAQAA8oQPAACQJ3wAAIA84QMAAOQJHwAAIE/4AAAA\n",
       "ecIHAADIEz4AAECe8AEAAPKEDwAAkCd8AACAPOEDAADkCR8AACBP+AAAAHnCBwAAyBM+AABAnvAB\n",
       "AADyhA8AAJAnfAAAgDzhAwAA5AkfAAAgT/gAAAB5wgcAAMgTPgAAQJ7wAQAA8pbpAXDmetfkAAC8\n",
       "j+sSAADIEz4AAECe8AEAAPKEDwAAkCd8AACAPOEDAADkCR8AACBP+AAAAHnCBwAAyBM+AABAnvAB\n",
       "AADyhA8AAJAnfAAAgDzhAwAA5AkfAAAgT/gAAAB5wgcAAMgTPgAAQJ7wAQAA8oQPAACQJ3wAAIA8\n",
       "4QMAAOQJHwAAIE/4AAAAecIHAADIEz4AAECe8AEAAPKEDwAAkCd8AACAPOEDAADkCR8AACBP+AAA\n",
       "AHnCBwAAyBM+AABAnvABAADyhA8AAJAnfAAAgDzhAwAA5AkfAAAgT/gAAAB5wgcAAMgTPgAAQJ7w\n",
       "AQAA8oQPAACQJ3wAAIA84QMAAOQJHwAAIE/4AAAAecIHAADIEz4AAECe8AEAAPKEDwAAkCd8AACA\n",
       "POEDAADkCR8AACBP+AAAAHnCBwAAyBM+AABAnvABAADyhA8AAJAnfAAAgDzhAwAA5AkfAAAgT/gA\n",
       "AAB5wgcAAMgTPgAAQJ7wAQAA8oQPAACQJ3wAAIA84QMAAOQJHwAAIE/4AAAAecIHAADIEz4AAECe\n",
       "8AEAAPKEDwAAkCd8AACAPOEDAADkCR8AACBP+AAAAHnCBwAAyBM+AABAnvABAADyhA8AAJAnfAAA\n",
       "gDzhAwAA5AkfAAAgT/gAAAB5wgcAAMgTPgAAQJ7wAQAA8oQPAACQJ3wAAIA84QMAAOQJHwAAIE/4\n",
       "AAAAecIHAADIEz4AAECe8AEAAPKEDwAAkCd8AACAPOEDAADkCR8AACBP+AAAAHnCBwAAyBM+AABA\n",
       "nvABAADyhA8AAJAnfAAAgDzhAwAA5AkfAAAgT/gAAAB5wgcAAMgTPgAAQJ7wAQAA8oQPAACQJ3wA\n",
       "AIA84QMAAOQJHwAAIE/4AAAAecIHAADIEz4AAECe8AEAAPKEDwAAkCd8AACAPOEDAADkCR8AACBP\n",
       "+AAAAHnCBwAAyBM+AABAnvABAADyhA8AAJAnfAAAgDzhAwAA5AkfAAAgT/gAAAB5wgcAAMgTPgAA\n",
       "QJ7wAQAA8oQPAACQJ3wAAIA84QMAAOQJHwAAIE/4AAAAecIHAADIEz4AAECe8AEAAPKEDwAAkCd8\n",
       "AACAPOEDAADkCR8AACBP+AAAAHnCBwAAyBM+AABAnvABAADyhA8AAJAnfAAAgDzhAwAA5AkfAAAg\n",
       "T/gAAAB5wgcAAMgTPgAAQJ7wAQAA8oQPAACQJ3wAAIA84QMAAOQt0wPgzL4d0xMAAAjx8QEAAPKE\n",
       "DwAAkCd8AACAPOEDAADkCR8AACBP+AAAAHnCBwAAyBM+AABAnvABAADyhA8AAJAnfAAAgDzhAwAA\n",
       "5AkfAAAgT/gAAAB5wgcAAMgTPgAAQJ7wAQAA8oQPAACQJ3wAAIA84QMAAOQJHwAAIE/4AAAAecIH\n",
       "AADIEz4AAECe8AEAAPKEDwAAkCd8AACAPOEDAADkCR8AACBP+AAAAHnCBwAAyBM+AABAnvABAADy\n",
       "hA8AAJAnfAAAgDzhAwAA5AkfAAAgT/gAAAB5wgcAAMgTPgAAQJ7wAQAA8oQPAACQJ3wAAIA84QMA\n",
       "AOQJHwAAIE/4AAAAecIHAADIEz4AAECe8AEAAPKEDwAAkCd8AACAPOEDAADkCR8AACBP+AAAAHnC\n",
       "BwAAyBM+AABAnvABAADyhA8AAJAnfAAAgDzhAwAA5AkfAAAgT/gAAAB5wgcAAMgTPgAAQJ7wAQAA\n",
       "8oQPAACQJ3wAAIA84QMAAOQJHwAAIE/4AAAAecIHAADIEz4AAECe8AEAAPKEDwAAkCd8AACAPOED\n",
       "AADkCR8AACBP+AAAAHnCBwAAyBM+AABAnvABAADyhA8AAJAnfAAAgDzhAwAA5AkfAAAgT/gAAAB5\n",
       "wgcAAMgTPgAAQJ7wAQAA8oQPAACQJ3wAAIA84QMAAOQJHwAAIE/4AAAAecIHAADIEz4AAECe8AEA\n",
       "APKEDwAAkCd8AACAPOEDAADkCR8AACBP+AAAAHnCBwAAyBM+AABAnvABAADyhA8AAJAnfAAAgDzh\n",
       "AwAA5AkfAAAgT/gAAAB5wgcAAMgTPgAAQJ7wAQAA8oQPAACQJ3wAAIA84QMAAOQJHwAAIE/4AAAA\n",
       "ecIHAADIEz4AAECe8AEAAPKEDwAAkCd8AACAPOEDAADkCR8AACBP+AAAAHnCBwAAyBM+AABAnvAB\n",
       "AADyhA8AAJAnfAAAgDzhAwAA5AkfAAAgT/gAAAB5wgcAAMgTPgAAQJ7wAQAA8oQPAACQJ3wAAIA8\n",
       "4QMAAOQJHwAAIE/4AAAAecIHAADIEz4AAECe8AEAAPKEDwAAkCd8AACAPOEDAADkCR8AACBP+AAA\n",
       "AHnCBwAAyBM+AABAnvABAADyhA8AAJAnfAAAgDzhAwAA5AkfAAAgT/gAAAB5wgcAAMgTPgAAQJ7w\n",
       "AQAA8oQPAACQJ3wAAIA84QMAAOQt0wPgzPWuyQEAeB/XJQAAkCd8AACAPOEDAADkCR8AACBP+AAA\n",
       "AHnCBwAAyBM+AABAnvABAADyhA8AAJAnfAAAgDzhAwAA5AkfAAAgT/gAAAB5wgcAAMgTPgAAQJ7w\n",
       "AQAA8oQPAACQJ3wAAIA84QMAAOQJHwAAIE/4AAAAecIHAADIEz4AAECe8AEAAPKEDwAAkCd8AACA\n",
       "POEDAADkCR8AACBP+AAAAHnCBwAAyBM+AABAnvABAADyhA8AAJAnfAAAgDzhAwAA5AkfAAAgT/gA\n",
       "AAB5wgcAAMgTPgAAQJ7wAQAA8oQPAACQJ3wAAIA84QMAAOQJHwAAIE/4AAAAecIHAADIEz4AAECe\n",
       "8AEAAPKEDwAAkCd8AACAPOEDAADkCR8AACBP+AAAAHnCBwAAyBM+AABAnvABAADyhA8AAJAnfAAA\n",
       "gDzhAwAA5AkfAAAgT/gAAAB5wgcAAMgTPgAAQJ7wAQAA8oQPAACQJ3wAAIA84QMAAOQJHwAAIE/4\n",
       "AAAAecIHAADIEz4AAECe8AEAAPKEDwAAkCd8AACAPOEDAADkCR8AACBP+AAAAHnCBwAAyBM+AABA\n",
       "nvABAADyhA8AAJAnfAAAgDzhAwAA5AkfAAAgT/gAAAB5wgcAAMgTPgAAQJ7wAQAA8oQPAACQJ3wA\n",
       "AIA84QMAAOQJHwAAIE/4AAAAecIHAADIEz4AAECe8AEAAPKEDwAAkCd8AACAPOEDAADkCR8AACBP\n",
       "+AAAAHnCBwAAyBM+AABAnvABAADyhA8AAJAnfAAAgDzhAwAA5AkfAAAgT/gAAAB5wgcAAMgTPgAA\n",
       "QJ7wAQAA8oQPAACQJ3wAAIA84QMAAOQJHwAAIE/4AAAAecIHAADIEz4AAECe8AEAAPKEDwAAkCd8\n",
       "AACAPOEDAADkCR8AACBP+AAAAHnCBwAAyBM+AABAnvABAADyhA8AAJAnfAAAgDzhAwAA5AkfAAAg\n",
       "T/gAAAB5wgcAAMgTPgAAQJ7wAQAA8oQPAACQJ3wAAIA84QMAAOQJHwAAIE/4AAAAecIHAADIEz4A\n",
       "AECe8AEAAPKEDwAAkCd8AACAPOEDAADkCR8AACBP+AAAAHnCBwAAyBM+AABAnvABAADyhA8AAJAn\n",
       "fAAAgDzhAwAA5AkfAAAgT/gAAAB5wgcAAMgTPgAAQJ7wAQAA8oQPAACQJ3wAAIA84QMAAOQJHwAA\n",
       "IG+ZHgBn9u2YngAAQIiPDwAAkCd8AACAPOEDAADkCR8AACBP+AAAAHnCBwAAyBM+AABAnvABAADy\n",
       "hA8AAJAnfAAAgDzhAwAA5AkfAAAgT/gAAAB5wgcAAMgTPgAAQJ7wAQAA8oQPAACQJ3wAAIA84QMA\n",
       "AOQJHwAAIE/4AAAAecIHAADIEz4AAECe8AEAAPKEDwAAkCd8AACAPOEDAADkCR8AACBP+AAAAHnC\n",
       "BwAAyBM+AABAnvABAADyhA8AAJAnfAAAgDzhAwAA5AkfAAAgT/gAAAB5wgcAAMgTPgAAQJ7wAQAA\n",
       "8oQPAACQJ3wAAIA84QMAAOQJHwAAIE/4AAAAecIHAADIEz4AAECe8AEAAPKEDwAAkCd8AACAPOED\n",
       "AADkCR8AACBP+AAAAHnCBwAAyBM+AABAnvABAADyhA8AAJAnfAAAgDzhAwAA5AkfAAAgT/gAAAB5\n",
       "wgcAAMgTPgAAQJ7wAQAA8oQPAACQJ3wAAIA84QMAAOQJHwAAIE/4AAAAecIHAADIEz4AAECe8AEA\n",
       "APKEDwAAkCd8AACAPOEDAADkCR8AACBP+AAAAHnCBwAAyBM+AABAnvABAADyhA8AAJAnfAAAgDzh\n",
       "AwAA5AkfAAAgT/gAAAB5wgcAAMgTPgAAQJ7wAQAA8oQPAACQJ3wAAIA84QMAAOQJHwAAIE/4AAAA\n",
       "ecIHAADIEz4AAECe8AEAAPKEDwAAkCd8AACAPOEDAADkCR8AACBP+AAAAHnCBwAAyBM+AABAnvAB\n",
       "AADyhA8AAJAnfAAAgDzhAwAA5AkfAAAgT/gAAAB5wgcAAMgTPgAAQJ7wAQAA8oQPAACQJ3wAAIA8\n",
       "4QMAAOQJHwAAIE/4AAAAecIHAADIEz4AAECe8AEAAPKEDwAAkCd8AACAPOEDAADkCR8AACBP+AAA\n",
       "AHnCBwAAyBM+AABAnvABAADyhA8AAJAnfAAAgDzhAwAA5AkfAAAgT/gAAAB5wgcAAMgTPgAAQJ7w\n",
       "AQAA8oQPAACQJ3wAAIA84QMAAOQJHwAAIE/4AAAAecIHAADIEz4AAECe8AEAAPKEDwAAkCd8AACA\n",
       "POEDAADkCR8AACBP+AAAAHnCBwAAyBM+AABAnvABAADyhA8AAJAnfAAAgDzhAwAA5AkfAAAgT/gA\n",
       "AAB5wgcAAMgTPgAAQJ7wAQAA8oQPAACQJ3wAAIA84QMAAOQJHwAAIE/4AAAAecIHAADI+wXwVRnu\n",
       "DBWWggAAAABJRU5ErkJggg==\n",
       "\" transform=\"translate(1123, 425)\"/>\n",
       "</g>\n",
       "<path clip-path=\"url(#clip800)\" d=\"\n",
       "M136.85 100 L1952.76 100 L1952.76 0 L136.85 0  Z\n",
       "  \" fill=\"#ffffff\" fill-rule=\"evenodd\" fill-opacity=\"1\"/>\n",
       "<defs>\n",
       "  <clipPath id=\"clip804\">\n",
       "    <rect x=\"136\" y=\"0\" width=\"1817\" height=\"101\"/>\n",
       "  </clipPath>\n",
       "</defs>\n",
       "<path clip-path=\"url(#clip800)\" d=\"M532.954 50.5368 Q535.963 51.5553 538.787 54.8886 Q541.658 58.2219 544.528 64.0552 L554.019 82.944 L543.972 82.944 L535.13 65.2126 Q531.704 58.2682 528.463 55.9997 Q525.269 53.7312 519.713 53.7312 L509.528 53.7312 L509.528 82.944 L500.176 82.944 L500.176 13.824 L521.287 13.824 Q533.139 13.824 538.972 18.7777 Q544.806 23.7314 544.806 33.7313 Q544.806 40.259 541.75 44.5646 Q538.741 48.8701 532.954 50.5368 M509.528 21.5091 L509.528 46.046 L521.287 46.046 Q528.047 46.046 531.472 42.9442 Q534.945 39.7961 534.945 33.7313 Q534.945 27.6665 531.472 24.611 Q528.047 21.5091 521.287 21.5091 L509.528 21.5091 Z\" fill=\"#000000\" fill-rule=\"evenodd\" fill-opacity=\"1\" /><path clip-path=\"url(#clip800)\" d=\"M575.269 11.7407 Q571.38 17.7129 569.482 23.5462 Q567.583 29.3795 567.583 35.3517 Q567.583 41.3239 569.482 47.2035 Q571.38 53.083 575.269 59.0089 L570.593 59.0089 Q566.241 52.9442 564.065 47.0183 Q561.889 41.1387 561.889 35.3517 Q561.889 29.5647 564.065 23.6851 Q566.195 17.8518 570.593 11.7407 L575.269 11.7407 Z\" fill=\"#000000\" fill-rule=\"evenodd\" fill-opacity=\"1\" /><path clip-path=\"url(#clip800)\" d=\"M606.426 20.6758 Q604.111 16.6944 599.435 16.6944 Q594.759 16.6944 592.444 20.6758 Q590.083 24.6573 590.083 32.6202 Q590.083 40.6294 592.444 44.6109 Q594.759 48.5923 599.435 48.5923 Q604.111 48.5923 606.426 44.6109 Q608.787 40.6294 608.787 32.6202 Q608.787 24.6573 606.426 20.6758 M599.435 12.574 Q606.889 12.574 610.824 17.7129 Q614.759 22.8517 614.759 32.6202 Q614.759 42.435 610.824 47.5738 Q606.889 52.7127 599.435 52.7127 Q591.935 52.7127 588 47.5738 Q584.065 42.435 584.065 32.6202 Q584.065 22.8517 588 17.7129 Q591.935 12.574 599.435 12.574 Z\" fill=\"#000000\" fill-rule=\"evenodd\" fill-opacity=\"1\" /><path clip-path=\"url(#clip800)\" d=\"M622.815 11.7407 L627.49 11.7407 Q631.889 17.8518 634.065 23.6851 Q636.194 29.5647 636.194 35.3517 Q636.194 41.1387 634.065 47.0183 Q631.889 52.9442 627.49 59.0089 L622.815 59.0089 Q626.703 53.083 628.602 47.2035 Q630.546 41.3239 630.546 35.3517 Q630.546 29.3795 628.602 23.5462 Q626.703 17.7129 622.815 11.7407 Z\" fill=\"#000000\" fill-rule=\"evenodd\" fill-opacity=\"1\" /><path clip-path=\"url(#clip800)\" d=\"M1063.92 58.083 L1068.78 53.2219 L1063.92 48.3609 L1008.41 48.3609 L1008.41 42.8053 L1058.37 42.8053 L1054.06 38.4998 L1059.62 32.9443 L1077.81 51.1386 L1077.81 55.3053 L1059.62 73.4996 L1054.06 67.9441 L1058.37 63.6385 L1008.41 63.6385 L1008.41 58.083 L1063.92 58.083 Z\" fill=\"#000000\" fill-rule=\"evenodd\" fill-opacity=\"1\" /><path clip-path=\"url(#clip800)\" d=\"M1486.19 50.5368 Q1489.2 51.5553 1492.02 54.8886 Q1494.89 58.2219 1497.76 64.0552 L1507.25 82.944 L1497.21 82.944 L1488.37 65.2126 Q1484.94 58.2682 1481.7 55.9997 Q1478.5 53.7312 1472.95 53.7312 L1462.76 53.7312 L1462.76 82.944 L1453.41 82.944 L1453.41 13.824 L1474.52 13.824 Q1486.37 13.824 1492.21 18.7777 Q1498.04 23.7314 1498.04 33.7313 Q1498.04 40.259 1494.99 44.5646 Q1491.98 48.8701 1486.19 50.5368 M1462.76 21.5091 L1462.76 46.046 L1474.52 46.046 Q1481.28 46.046 1484.71 42.9442 Q1488.18 39.7961 1488.18 33.7313 Q1488.18 27.6665 1484.71 24.611 Q1481.28 21.5091 1474.52 21.5091 L1462.76 21.5091 Z\" fill=\"#000000\" fill-rule=\"evenodd\" fill-opacity=\"1\" /><path clip-path=\"url(#clip800)\" d=\"M1528.5 11.7407 Q1524.62 17.7129 1522.72 23.5462 Q1520.82 29.3795 1520.82 35.3517 Q1520.82 41.3239 1522.72 47.2035 Q1524.62 53.083 1528.5 59.0089 L1523.83 59.0089 Q1519.48 52.9442 1517.3 47.0183 Q1515.12 41.1387 1515.12 35.3517 Q1515.12 29.5647 1517.3 23.6851 Q1519.43 17.8518 1523.83 11.7407 L1528.5 11.7407 Z\" fill=\"#000000\" fill-rule=\"evenodd\" fill-opacity=\"1\" /><path clip-path=\"url(#clip800)\" d=\"M1540.49 46.9257 L1549.94 46.9257 L1549.94 18.6388 L1539.62 20.5369 L1539.62 15.1666 L1550.26 13.361 L1556.61 13.361 L1556.61 46.9257 L1566.1 46.9257 L1566.1 52.0182 L1540.49 52.0182 L1540.49 46.9257 Z\" fill=\"#000000\" fill-rule=\"evenodd\" fill-opacity=\"1\" /><path clip-path=\"url(#clip800)\" d=\"M1576.05 11.7407 L1580.73 11.7407 Q1585.12 17.8518 1587.3 23.6851 Q1589.43 29.5647 1589.43 35.3517 Q1589.43 41.1387 1587.3 47.0183 Q1585.12 52.9442 1580.73 59.0089 L1576.05 59.0089 Q1579.94 53.083 1581.84 47.2035 Q1583.78 41.3239 1583.78 35.3517 Q1583.78 29.3795 1581.84 23.5462 Q1579.94 17.7129 1576.05 11.7407 Z\" fill=\"#000000\" fill-rule=\"evenodd\" fill-opacity=\"1\" /></svg>\n"
      ]
     },
     "execution_count": 13,
     "metadata": {},
     "output_type": "execute_result"
    }
   ],
   "source": [
    "m = 7; n = 5;\n",
    "R0 = ones(m, n);\n",
    "R1 = ones(m, n);\n",
    "R1[2:2:end,:] .-= 0.1;\n",
    "R1[1,:] .= -1;\n",
    "R1[2:end,1] .= 0;\n",
    "plot(imshow(R0), imshow(R1), colorbar=false, layout=(1,2), plot_title =\"R⁽⁰⁾            ⇒            R⁽¹⁾\")"
   ]
  },
  {
   "cell_type": "markdown",
   "id": "049c92cc",
   "metadata": {
    "cell_style": "split",
    "slideshow": {
     "slide_type": "-"
    }
   },
   "source": [
    "- We want an action such that\n",
    "\n",
    "$$U_1 \\underbrace{r_1^{(0)}}_{a_1} = \\alpha e_1$$"
   ]
  },
  {
   "cell_type": "markdown",
   "id": "2094101d",
   "metadata": {
    "slideshow": {
     "slide_type": "subslide"
    }
   },
   "source": [
    "If\n",
    "\n",
    "$$\n",
    "U_1 r_1^{(0)} = \\alpha e_1,\n",
    "$$\n",
    "\n",
    "what can $\\alpha$ be?\n",
    "\n",
    "(Hint: unitary transformations preserve the 2-norm)"
   ]
  },
  {
   "cell_type": "markdown",
   "id": "b2a9b970",
   "metadata": {
    "slideshow": {
     "slide_type": "fragment"
    }
   },
   "source": [
    "$$ \\|\\alpha e_1\\|_2 = \\| U_1 r_1^{(0)} \\|_2 = \\| r_1^{(0)} \\|_2$$\n",
    "\n",
    "$$ \\|\\alpha e_1 \\|_2 = |\\alpha| \\|e_1\\|_2 = |\\alpha|$$\n",
    "\n",
    "$$ \\Rightarrow |\\alpha| = \\| r_1^{(0)} \\|_2 $$"
   ]
  },
  {
   "cell_type": "markdown",
   "id": "358dbc9e",
   "metadata": {
    "slideshow": {
     "slide_type": "subslide"
    }
   },
   "source": [
    "### Geometrically\n",
    "\n",
    "In $\\mathbb{R}$, there are only two possibilities:"
   ]
  },
  {
   "attachments": {
    "householder2.svg": {
     "image/svg+xml": [
      "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"
     ]
    }
   },
   "cell_type": "markdown",
   "id": "cceb040d",
   "metadata": {
    "cell_style": "split"
   },
   "source": [
    "![householder2.svg](attachment:householder2.svg)"
   ]
  },
  {
   "attachments": {
    "householder1.svg": {
     "image/svg+xml": [
      "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"
     ]
    }
   },
   "cell_type": "markdown",
   "id": "109b4efa",
   "metadata": {
    "cell_style": "split"
   },
   "source": [
    "![householder1.svg](attachment:householder1.svg)"
   ]
  },
  {
   "cell_type": "markdown",
   "id": "090ddf03",
   "metadata": {
    "slideshow": {
     "slide_type": "subslide"
    }
   },
   "source": [
    "### The simplest unitary matrix that maps $a_1$ into $\\mathrm{span}\\{e_1\\}$ is a _Householder reflector_\n",
    "\n",
    "First defined algebraically:"
   ]
  },
  {
   "cell_type": "markdown",
   "id": "efd6fe4c",
   "metadata": {
    "cell_style": "split",
    "slideshow": {
     "slide_type": "-"
    }
   },
   "source": [
    "$$\n",
    "\\begin{aligned}\n",
    "\\phi &= \\mathrm{sign}(a_{11}) & [(\\phi e_1)^* a_1 = |a_{11}|]\n",
    "\\\\\n",
    "\\tilde{u}_1 &= \\frac{\\overbrace{-\\phi \\|a_1\\| e_1}^{\\text{target}} - a_1}{2} & \\text{[half the difference]} \\\\\n",
    "\\tilde{v}_1 &= \\frac{-\\phi \\|a_1\\| e_1 + a_1}{2} & \\text{[midpoint]} \\\\\n",
    "u_1 &= \\frac{\\tilde{u}_1}{\\|\\tilde{u}_1\\|} \\\\\n",
    "U_1 &= I - 2 u_1 u_1^*\n",
    "\\end{aligned}\n",
    "$$"
   ]
  },
  {
   "cell_type": "markdown",
   "id": "12aa70d7",
   "metadata": {
    "cell_style": "split",
    "slideshow": {
     "slide_type": "fragment"
    }
   },
   "source": [
    "- $\\tilde{v}_1 + \\tilde{u}_1 = -\\phi \\|a_1\\| e_1$\n",
    "\n",
    "- $\\tilde{v}_1 - \\tilde{u}_1 = a_1$"
   ]
  },
  {
   "cell_type": "markdown",
   "id": "2f6bc38d",
   "metadata": {
    "cell_style": "split",
    "slideshow": {
     "slide_type": "fragment"
    }
   },
   "source": [
    "- $\\tilde{u}_1$ and $\\tilde{v}_1$ are orthogonal: $\\tilde{u}_1^* \\tilde{v}_1$ =\n",
    "\n",
    "$$\\begin{gather}\n",
    "\\frac{1}{4}(\\|a_1\\|^2 \\underbrace{(\\phi e_1)^*(\\phi e_1)}_{1} \\\\ - \\|a_1\\| \\underbrace{(\\phi e_1)^* a_1}_{|a_{11}|}  + \\|a_1\\| \\underbrace{a_1^*(\\phi e_1)}_{|a_{11}|}\\\\  - a_1^* a_1) \\\\ = 0\\end{gather}$$"
   ]
  },
  {
   "cell_type": "markdown",
   "id": "82674a0f",
   "metadata": {
    "slideshow": {
     "slide_type": "subslide"
    }
   },
   "source": [
    "### Claim: $U_1$ is unitary and $U_1 a_1 = - \\phi \\|a_1\\|e_1$\n",
    "\n",
    "_Proof._"
   ]
  },
  {
   "cell_type": "markdown",
   "id": "aa7b7ea5",
   "metadata": {
    "cell_style": "split",
    "slideshow": {
     "slide_type": "-"
    }
   },
   "source": [
    "$$\n",
    "\\begin{aligned}\n",
    "\\phi &= \\mathrm{sign}(a_{11}) & [(\\phi e_1)^* a_1 = |a_{11}|]\n",
    "\\\\\n",
    "\\tilde{u}_1 &= \\frac{-\\phi \\|a_1\\| e_1 - a_1}{2} \\\\\n",
    "\\tilde{v}_1 &= \\frac{-\\phi \\|a_1\\| e_1 + a_1}{2} \\\\\n",
    "u_1 &= \\frac{\\tilde{u}_1}{\\|\\tilde{u}_1\\|} \\\\\n",
    "U_1 &= I - 2 u_1 u_1^*\n",
    "\\end{aligned}\n",
    "$$"
   ]
  },
  {
   "cell_type": "markdown",
   "id": "3efe0252",
   "metadata": {
    "cell_style": "split",
    "slideshow": {
     "slide_type": "fragment"
    }
   },
   "source": [
    "- $U_1$ is unitary because it is equal to $(I - 2P_1)$ where $P_1$ is the orthogonal projector onto $\\mathrm{span}\\{u_1\\}$."
   ]
  },
  {
   "cell_type": "markdown",
   "id": "6fd25d44",
   "metadata": {
    "cell_style": "split",
    "slideshow": {
     "slide_type": "fragment"
    }
   },
   "source": [
    "- $U_1 \\tilde{u}_1 = (I - 2P_1) \\tilde{u}_1 = \\tilde{u}_1 - 2 \\underbrace{P_1 \\tilde{u}_1}_{\\tilde{u}_1} = - \\tilde{u}_1$\n",
    "- $U_1 \\tilde{v}_1 = (I - 2P_1) \\tilde{v}_1\n",
    "= \\tilde{v}_1 - 2 \\underbrace{P_1 \\tilde{v}_1}_{0} = \\tilde{v}_1$"
   ]
  },
  {
   "cell_type": "markdown",
   "id": "db48f3fd",
   "metadata": {
    "slideshow": {
     "slide_type": "fragment"
    }
   },
   "source": [
    "$$\\Rightarrow U_1 a_1 = U_1 (\\tilde v_1 - \\tilde u_1) = \\tilde v_1 + \\tilde u_1 = -\\phi \\|a_1\\|e_1$$"
   ]
  },
  {
   "attachments": {
    "householder4.svg": {
     "image/svg+xml": [
      "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"
     ]
    }
   },
   "cell_type": "markdown",
   "id": "b9ae7fe7",
   "metadata": {
    "slideshow": {
     "slide_type": "subslide"
    }
   },
   "source": [
    "### Geometrically\n",
    "\n",
    "![householder4.svg](attachment:householder4.svg)"
   ]
  },
  {
   "cell_type": "markdown",
   "id": "a31c9eca",
   "metadata": {
    "slideshow": {
     "slide_type": "subslide"
    }
   },
   "source": [
    "### Exercise (T&B Exercise 10.1)\n",
    "\n",
    "Determine the (a) eigenvalues, (b) determinant, and (c) singular values of a Householder reflector.\n",
    "\n"
   ]
  },
  {
   "cell_type": "markdown",
   "id": "ba69529f",
   "metadata": {
    "slideshow": {
     "slide_type": "subslide"
    }
   },
   "source": [
    "### In action"
   ]
  },
  {
   "cell_type": "code",
   "execution_count": 14,
   "id": "bb015476",
   "metadata": {
    "cell_style": "split"
   },
   "outputs": [
    {
     "data": {
      "text/plain": [
       "householder_vector (generic function with 1 method)"
      ]
     },
     "execution_count": 14,
     "metadata": {},
     "output_type": "execute_result"
    }
   ],
   "source": [
    "function householder_vector(x)\n",
    "    \"\"\"\n",
    "    Compute the vector of the Householder\n",
    "    reflector that sends x to a multiple of\n",
    "    e₁\n",
    "    \"\"\"\n",
    "    u = copy(x)\n",
    "    xnorm = norm(x)\n",
    "    phi = sign(u[1])\n",
    "    u[1] += phi * xnorm # u = x + sign(x₁)||x|| e₁\n",
    "    unorm = norm(u)\n",
    "    u /= unorm\n",
    "    return u\n",
    "end"
   ]
  },
  {
   "cell_type": "code",
   "execution_count": 15,
   "id": "7d634232",
   "metadata": {
    "cell_style": "split"
   },
   "outputs": [
    {
     "data": {
      "text/plain": [
       "householder_reflect (generic function with 1 method)"
      ]
     },
     "execution_count": 15,
     "metadata": {},
     "output_type": "execute_result"
    }
   ],
   "source": [
    "function householder_reflect(u,v)\n",
    "    \"\"\"\n",
    "    Apply the Householder reflector defined by\n",
    "    u to v\n",
    "    \"\"\"\n",
    "    return v - 2*u*(u'*v)\n",
    "end"
   ]
  },
  {
   "cell_type": "code",
   "execution_count": 16,
   "id": "fde5806e",
   "metadata": {
    "cell_style": "split"
   },
   "outputs": [
    {
     "data": {
      "text/plain": [
       "householder_reflect_left (generic function with 1 method)"
      ]
     },
     "execution_count": 16,
     "metadata": {},
     "output_type": "execute_result"
    }
   ],
   "source": [
    "function householder_reflect_left(vstar,u)\n",
    "    \"\"\"\n",
    "    Apply the Householder reflector defined by\n",
    "    u to row vector vstar\n",
    "    \"\"\"\n",
    "    return vstar - 2*(vstar*u)*u'\n",
    "end"
   ]
  },
  {
   "cell_type": "markdown",
   "id": "1346f733",
   "metadata": {
    "slideshow": {
     "slide_type": "subslide"
    }
   },
   "source": [
    "### Why $x \\mapsto - \\mathrm{sign}(x_1)\\|x\\|_2 e_1$ and not $x \\mapsto \\mathrm{sign}(x_1)\\|x\\|_2 e_1$?"
   ]
  },
  {
   "cell_type": "code",
   "execution_count": 17,
   "id": "aa4401e7",
   "metadata": {
    "cell_style": "split"
   },
   "outputs": [],
   "source": [
    "function householder_vector(x)\n",
    "    u = copy(x)\n",
    "    xnorm = norm(x)\n",
    "    phi = sign(u[1])\n",
    "    u[1] += phi * xnorm #  |u[1]| ≥  |x[1]|\n",
    "    unorm = norm(u)     # || u || ≥ || x ||\n",
    "    u /= unorm # errors in denominator here\n",
    "    return u\n",
    "end;"
   ]
  },
  {
   "cell_type": "code",
   "execution_count": 18,
   "id": "5cdc602b",
   "metadata": {
    "cell_style": "split",
    "hideCode": false,
    "slideshow": {
     "slide_type": "-"
    }
   },
   "outputs": [],
   "source": [
    "function householder_vector_unstable(x)\n",
    "    u = copy(x)\n",
    "    xnorm = norm(x)\n",
    "    phi = sign(u[1])\n",
    "    u[1] -= phi * xnorm #  |u[1]| ≤  |x[1]|\n",
    "    unorm = norm(u)     # || u || ≤ || x ||\n",
    "    u /= unorm # errors in denominator here\n",
    "    return u\n",
    "end;"
   ]
  },
  {
   "cell_type": "markdown",
   "id": "50a4b203",
   "metadata": {},
   "source": [
    "Suppose we have made a previous error and in place of $x_1$ we have $x_1 + \\delta$:\n",
    "\n",
    "$$u_1 \\gets (x_1+\\delta) + \\mathrm{sign}(x_1) \\|x\\|; \\quad \\check u_1 \\gets (x_1 + \\delta) - \\mathrm{sign}(x_1) \\|x\\|.$$\n",
    "\n",
    "In either case we have a $|\\delta|$ error in $u_1$ or $\\check u_1$, but it is a larger _relative error_ for $\\check u_1$ than $u_1$:\n",
    "\n",
    "$$ \\frac{|\\delta|}{\\underbrace{|u_1|}_{|x_1| + \\|x\\|}} \\leq \\frac{|\\delta|}{\\underbrace{|\\check u_1|}_{|x_1| - \\|x\\|}} $$\n",
    "\n",
    "This matters when we normalize by $\\|u\\|$ on line 7."
   ]
  },
  {
   "cell_type": "markdown",
   "id": "caea152d",
   "metadata": {
    "slideshow": {
     "slide_type": "subslide"
    }
   },
   "source": [
    "### From step 1 to step $j$"
   ]
  },
  {
   "cell_type": "code",
   "execution_count": 19,
   "id": "f1248041",
   "metadata": {
    "cell_style": "split",
    "hideCode": true,
    "slideshow": {
     "slide_type": "-"
    }
   },
   "outputs": [
    {
     "data": {
      "image/svg+xml": [
       "<?xml version=\"1.0\" encoding=\"utf-8\"?>\n",
       "<svg xmlns=\"http://www.w3.org/2000/svg\" xmlns:xlink=\"http://www.w3.org/1999/xlink\" width=\"500\" height=\"500\" viewBox=\"0 0 2000 2000\">\n",
       "<defs>\n",
       "  <clipPath id=\"clip840\">\n",
       "    <rect x=\"0\" y=\"0\" width=\"2000\" height=\"2000\"/>\n",
       "  </clipPath>\n",
       "</defs>\n",
       "<path clip-path=\"url(#clip840)\" d=\"\n",
       "M0 2000 L2000 2000 L2000 0 L0 0  Z\n",
       "  \" fill=\"#ffffff\" fill-rule=\"evenodd\" fill-opacity=\"1\"/>\n",
       "<defs>\n",
       "  <clipPath id=\"clip841\">\n",
       "    <rect x=\"400\" y=\"200\" width=\"1401\" height=\"1401\"/>\n",
       "  </clipPath>\n",
       "</defs>\n",
       "<path clip-path=\"url(#clip840)\" d=\"\n",
       "M108.177 1865.17 L967.092 1865.17 L967.092 147.244 L108.177 147.244  Z\n",
       "  \" fill=\"#ffffff\" fill-rule=\"evenodd\" fill-opacity=\"1\"/>\n",
       "<defs>\n",
       "  <clipPath id=\"clip842\">\n",
       "    <rect x=\"108\" y=\"147\" width=\"860\" height=\"1719\"/>\n",
       "  </clipPath>\n",
       "</defs>\n",
       "<g clip-path=\"url(#clip842)\">\n",
       "<image width=\"859\" height=\"1202\" xlink:href=\"data:image/png;base64,\n",
       "iVBORw0KGgoAAAANSUhEUgAAA1sAAASyCAYAAABA0PHBAAAaS0lEQVR4nOzZsU3DUBSGUYwspQ5L\n",
       "MARLMAnzsASjMImL1G5iVkjBpys550zwl+97d/n4fjteAAAA+Fev0wMAAADOSGwBAAAExBYAAEBA\n",
       "bAEAAATEFgAAQEBsAQAABMQWAABAQGwBAAAExBYAAEBAbAEAAATEFgAAQEBsAQAABMQWAABAQGwB\n",
       "AAAExBYAAEBAbAEAAATEFgAAQEBsAQAABMQWAABAQGwBAAAExBYAAEBAbAEAAATEFgAAQEBsAQAA\n",
       "BMQWAABAQGwBAAAExBYAAEBAbAEAAATEFgAAQEBsAQAABMQWAABAQGwBAAAExBYAAEBAbAEAAATE\n",
       "FgAAQEBsAQAABMQWAABAQGwBAAAExBYAAEBAbAEAAATEFgAAQEBsAQAABMQWAABAQGwBAAAExBYA\n",
       "AEBAbAEAAATEFgAAQEBsAQAABMQWAABAQGwBAAAExBYAAEBAbAEAAATEFgAAQEBsAQAABMQWAABA\n",
       "QGwBAAAExBYAAEBAbAEAAATEFgAAQEBsAQAABMQWAABAQGwBAAAExBYAAEBAbAEAAATEFgAAQEBs\n",
       "AQAABMQWAABAQGwBAAAExBYAAEBAbAEAAATEFgAAQEBsAQAABMQWAABAQGwBAAAExBYAAEBAbAEA\n",
       "AATEFgAAQEBsAQAABMQWAABAQGwBAAAExBYAAEBAbAEAAATEFgAAQEBsAQAABMQWAABAQGwBAAAE\n",
       "xBYAAEBAbAEAAATEFgAAQEBsAQAABMQWAABAQGwBAAAExBYAAEBAbAEAAATEFgAAQEBsAQAABMQW\n",
       "AABAQGwBAAAExBYAAEBAbAEAAATEFgAAQEBsAQAABMQWAABAQGwBAAAExBYAAEBAbAEAAATEFgAA\n",
       "QEBsAQAABMQWAABAQGwBAAAExBYAAEBAbAEAAATEFgAAQEBsAQAABMQWAABAQGwBAAAExBYAAEBA\n",
       "bAEAAATEFgAAQEBsAQAABMQWAABAQGwBAAAExBYAAEBAbAEAAATEFgAAQEBsAQAABMQWAABAQGwB\n",
       "AAAExBYAAEBAbAEAAATEFgAAQEBsAQAABMQWAABAQGwBAAAExBYAAEBAbAEAAATEFgAAQEBsAQAA\n",
       "BMQWAABAQGwBAAAExBYAAEBAbAEAAATEFgAAQEBsAQAABMQWAABAQGwBAAAExBYAAEBAbAEAAATE\n",
       "FgAAQEBsAQAABMQWAABAQGwBAAAExBYAAEBAbAEAAATEFgAAQEBsAQAABMQWAABAQGwBAAAExBYA\n",
       "AEBAbAEAAATEFgAAQEBsAQAABMQWAABAQGwBAAAExBYAAEBAbAEAAATEFgAAQEBsAQAABMQWAABA\n",
       "QGwBAAAExBYAAEBAbAEAAATEFgAAQGDZtu2YHgGP+vx5n54AAAAPcdkCAAAIiC0AAICA2AIAAAiI\n",
       "LQAAgIDYAgAACIgtAACAgNgCAAAIiC0AAICA2AIAAAiILQAAgIDYAgAACIgtAACAgNgCAAAIiC0A\n",
       "AICA2AIAAAiILQAAgIDYAgAACIgtAACAgNgCAAAIiC0AAICA2AIAAAiILQAAgIDYAgAACIgtAACA\n",
       "gNgCAAAIiC0AAICA2AIAAAiILQAAgIDYAgAACIgtAACAgNgCAAAIiC0AAICA2AIAAAiILQAAgIDY\n",
       "AgAACIgtAACAgNgCAAAIiC0AAICA2AIAAAiILQAAgIDYAgAACIgtAACAgNgCAAAIiC0AAICA2AIA\n",
       "AAiILQAAgIDYAgAACIgtAACAgNgCAAAIiC0AAICA2AIAAAiILQAAgIDYAgAACIgtAACAgNgCAAAI\n",
       "iC0AAICA2AIAAAiILQAAgIDYAgAACIgtAACAgNgCAAAIiC0AAICA2AIAAAiILQAAgIDYAgAACIgt\n",
       "AACAgNgCAAAIiC0AAICA2AIAAAiILQAAgIDYAgAACIgtAACAgNgCAAAIiC0AAICA2AIAAAiILQAA\n",
       "gIDYAgAACIgtAACAgNgCAAAIiC0AAICA2AIAAAiILQAAgIDYAgAACIgtAACAgNgCAAAIiC0AAICA\n",
       "2AIAAAiILQAAgIDYAgAACIgtAACAgNgCAAAIiC0AAICA2AIAAAiILQAAgIDYAgAACIgtAACAgNgC\n",
       "AAAIiC0AAICA2AIAAAiILQAAgIDYAgAACIgtAACAgNgCAAAIiC0AAICA2AIAAAiILQAAgIDYAgAA\n",
       "CIgtAACAgNgCAAAIiC0AAICA2AIAAAiILQAAgIDYAgAACIgtAACAgNgCAAAIiC0AAICA2AIAAAiI\n",
       "LQAAgIDYAgAACIgtAACAgNgCAAAIiC0AAICA2AIAAAiILQAAgIDYAgAACIgtAACAgNgCAAAIiC0A\n",
       "AICA2AIAAAiILQAAgIDYAgAACIgtAACAgNgCAAAIiC0AAICA2AIAAAiILQAAgIDYAgAACIgtAACA\n",
       "gNgCAAAIiC0AAICA2AIAAAiILQAAgIDYAgAACIgtAACAgNgCAAAIiC0AAICA2AIAAAiILQAAgIDY\n",
       "AgAACIgtAACAgNgCAAAIiC0AAICA2AIAAAiILQAAgIDYAgAACIgtAACAgNgCAAAIiC0AAICA2AIA\n",
       "AAiILQAAgIDYAgAACIgtAACAgNgCAAAIiC0AAICA2AIAAAiILQAAgIDYAgAACIgtAACAgNgCAAAI\n",
       "LNu2HdMjAM7o92ufngAADHLZAgAACIgtAACAgNgCAAAIiC0AAICA2AIAAAiILQAAgIDYAgAACIgt\n",
       "AACAgNgCAAAIiC0AAICA2AIAAAiILQAAgIDYAgAACIgtAACAgNgCAAAIiC0AAICA2AIAAAiILQAA\n",
       "gIDYAgAACIgtAACAgNgCAAAIiC0AAICA2AIAAAiILQAAgIDYAgAACIgtAACAgNgCAAAIiC0AAICA\n",
       "2AIAAAiILQAAgIDYAgAACIgtAACAgNgCAAAIiC0AAICA2AIAAAiILQAAgIDYAgAACIgtAACAgNgC\n",
       "AAAIiC0AAICA2AIAAAiILQAAgIDYAgAACIgtAACAgNgCAAAIiC0AAICA2AIAAAiILQAAgIDYAgAA\n",
       "CIgtAACAgNgCAAAIiC0AAICA2AIAAAiILQAAgIDYAgAACIgtAACAgNgCAAAIiC0AAICA2AIAAAiI\n",
       "LQAAgIDYAgAACIgtAACAgNgCAAAIiC0AAICA2AIAAAiILQAAgIDYAgAACIgtAACAgNgCAAAIiC0A\n",
       "AICA2AIAAAiILQAAgIDYAgAACIgtAACAgNgCAAAIiC0AAICA2AIAAAiILQAAgIDYAgAACIgtAACA\n",
       "gNgCAAAIiC0AAICA2AIAAAiILQAAgIDYAgAACIgtAACAgNgCAAAIiC0AAICA2AIAAAiILQAAgIDY\n",
       "AgAACIgtAACAgNgCAAAIiC0AAICA2AIAAAiILQAAgIDYAgAACIgtAACAgNgCAAAIiC0AAICA2AIA\n",
       "AAiILQAAgIDYAgAACIgtAACAgNgCAAAIiC0AAICA2AIAAAiILQAAgIDYAgAACIgtAACAgNgCAAAI\n",
       "iC0AAICA2AIAAAiILQAAgIDYAgAACIgtAACAgNgCAAAIiC0AAICA2AIAAAiILQAAgIDYAgAACIgt\n",
       "AACAgNgCAAAIiC0AAICA2AIAAAiILQAAgIDYAgAACIgtAACAgNgCAAAIiC0AAICA2AIAAAiILQAA\n",
       "gIDYAgAACIgtAACAgNgCAAAIiC0AAICA2AIAAAiILQAAgIDYAgAACIgtAACAgNgCAAAIiC0AAICA\n",
       "2AIAAAiILQAAgIDYAgAACIgtAACAgNgCAAAIiC0AAICA2AIAAAiILQAAgIDYAgAACIgtAACAgNgC\n",
       "AAAIiC0AAICA2AIAAAiILQAAgIDYAgAACIgtAACAgNgCAAAIiC0AAICA2AIAAAiILQAAgIDYAgAA\n",
       "CIgtAACAgNgCAAAIiC0AAICA2AIAAAiILQAAgIDYAgAACIgtAACAwDo9AOCsLlf/WQDwzLwEAAAA\n",
       "AmILAAAgILYAAAACYgsAACAgtgAAAAJiCwAAICC2AAAAAmILAAAgILYAAAACYgsAACAgtgAAAAJi\n",
       "CwAAICC2AAAAAmILAAAgILYAAAACYgsAACAgtgAAAAJiCwAAICC2AAAAAmILAAAgILYAAAACYgsA\n",
       "ACAgtgAAAAJiCwAAICC2AAAAAmILAAAgILYAAAACYgsAACAgtgAAAAJiCwAAICC2AAAAAmILAAAg\n",
       "ILYAAAACYgsAACAgtgAAAAJiCwAAICC2AAAAAmILAAAgILYAAAACYgsAACAgtgAAAAJiCwAAICC2\n",
       "AAAAAmILAAAgILYAAAACYgsAACAgtgAAAAJiCwAAICC2AAAAAmILAAAgILYAAAACYgsAACAgtgAA\n",
       "AAJiCwAAICC2AAAAAmILAAAgILYAAAACYgsAACAgtgAAAAJiCwAAICC2AAAAAmILAAAgILYAAAAC\n",
       "YgsAACAgtgAAAAJiCwAAICC2AAAAAmILAAAgILYAAAACYgsAACAgtgAAAAJiCwAAICC2AAAAAmIL\n",
       "AAAgILYAAAACYgsAACAgtgAAAAJiCwAAICC2AAAAAmILAAAgILYAAAACYgsAACAgtgAAAAJiCwAA\n",
       "ICC2AAAAAmILAAAgILYAAAACYgsAACAgtgAAAAJiCwAAICC2AAAAAmILAAAgILYAAAACYgsAACAg\n",
       "tgAAAAJiCwAAICC2AAAAAmILAAAgILYAAAACYgsAACAgtgAAAAJiCwAAICC2AAAAAmILAAAgILYA\n",
       "AAACYgsAACAgtgAAAAJiCwAAICC2AAAAAmILAAAgILYAAAACYgsAACAgtgAAAAJiCwAAICC2AAAA\n",
       "AmILAAAgILYAAAACYgsAACAgtgAAAAJiCwAAICC2AAAAAmILAAAgILYAAAACYgsAACAgtgAAAAJi\n",
       "CwAAICC2AAAAAmILAAAgILYAAAACYgsAACAgtgAAAAJiCwAAICC2AAAAAmILAAAgILYAAAACYgsA\n",
       "ACAgtgAAAAJiCwAAICC2AAAAAmILAAAgILYAAAACYgsAACAgtgAAAAJiCwAAICC2AAAAAmILAAAg\n",
       "ILYAAAACYgsAACAgtgAAAAJiCwAAICC2AAAAAmILAAAgILYAAAACYgsAACAgtgAAAAJiCwAAICC2\n",
       "AAAAAmILAAAgILYAAAACYgsAACAgtgAAAAJiCwAAICC2AAAAAmILAAAgILYAAAACYgsAACAgtgAA\n",
       "AAJiCwAAICC2AAAAAmILAAAgILYAAAACYgsAACCwTg8AOKv9dp+eAAAMctkCAAAIiC0AAICA2AIA\n",
       "AAiILQAAgIDYAgAACIgtAACAgNgCAAAIiC0AAICA2AIAAAiILQAAgIDYAgAACIgtAACAgNgCAAAI\n",
       "iC0AAICA2AIAAAiILQAAgIDYAgAACIgtAACAgNgCAAAIiC0AAICA2AIAAAiILQAAgIDYAgAACIgt\n",
       "AACAgNgCAAAIiC0AAICA2AIAAAiILQAAgIDYAgAACIgtAACAgNgCAAAIiC0AAICA2AIAAAiILQAA\n",
       "gIDYAgAACIgtAACAgNgCAAAIiC0AAICA2AIAAAiILQAAgIDYAgAACIgtAACAgNgCAAAIiC0AAICA\n",
       "2AIAAAiILQAAgIDYAgAACIgtAACAgNgCAAAIiC0AAICA2AIAAAiILQAAgIDYAgAACIgtAACAgNgC\n",
       "AAAIiC0AAICA2AIAAAiILQAAgIDYAgAACIgtAACAgNgCAAAIiC0AAICA2AIAAAiILQAAgIDYAgAA\n",
       "CIgtAACAgNgCAAAIiC0AAICA2AIAAAiILQAAgIDYAgAACIgtAACAgNgCAAAIiC0AAICA2AIAAAiI\n",
       "LQAAgIDYAgAACIgtAACAgNgCAAAIiC0AAICA2AIAAAiILQAAgIDYAgAACIgtAACAgNgCAAAIiC0A\n",
       "AICA2AIAAAiILQAAgIDYAgAACIgtAACAgNgCAAAIiC0AAICA2AIAAAiILQAAgIDYAgAACIgtAACA\n",
       "gNgCAAAIiC0AAICA2AIAAAiILQAAgIDYAgAACIgtAACAgNgCAAAIiC0AAICA2AIAAAiILQAAgIDY\n",
       "AgAACIgtAACAgNgCAAAIiC0AAICA2AIAAAiILQAAgIDYAgAACIgtAACAgNgCAAAIiC0AAICA2AIA\n",
       "AAiILQAAgIDYAgAACIgtAACAgNgCAAAIiC0AAICA2AIAAAiILQAAgIDYAgAACIgtAACAgNgCAAAI\n",
       "iC0AAICA2AIAAAiILQAAgIDYAgAACIgtAACAgNgCAAAIiC0AAICA2AIAAAiILQAAgIDYAgAACIgt\n",
       "AACAgNgCAAAIiC0AAICA2AIAAAiILQAAgIDYAgAACIgtAACAgNgCAAAIiC0AAICA2AIAAAiILQAA\n",
       "gIDYAgAACIgtAACAgNgCAAAIiC0AAICA2AIAAAiILQAAgIDYAgAACIgtAACAgNgCAAAIiC0AAICA\n",
       "2AIAAAiILQAAgIDYAgAACIgtAACAgNgCAAAIiC0AAICA2AIAAAiILQAAgIDYAgAACIgtAACAgNgC\n",
       "AAAIiC0AAIDAOj0A4KwuV/9ZAPDMvAQAAAACYgsAACAgtgAAAAJiCwAAICC2AAAAAmILAAAgILYA\n",
       "AAACYgsAACAgtgAAAAJiCwAAICC2AAAAAmILAAAgILYAAAACYgsAACAgtgAAAAJiCwAAICC2AAAA\n",
       "AmILAAAgILYAAAACYgsAACAgtgAAAAJiCwAAICC2AAAAAmILAAAgILYAAAACYgsAACAgtgAAAAJi\n",
       "CwAAICC2AAAAAmILAAAgILYAAAACYgsAACAgtgAAAAJiCwAAICC2AAAAAmILAAAgILYAAAACYgsA\n",
       "ACAgtgAAAAJiCwAAICC2AAAAAmILAAAgILYAAAACYgsAACAgtgAAAAJiCwAAICC2AAAAAmILAAAg\n",
       "ILYAAAACYgsAACAgtgAAAAJiCwAAICC2AAAAAmILAAAgILYAAAACYgsAACAgtgAAAAJiCwAAICC2\n",
       "AAAAAmILAAAgILYAAAACYgsAACAgtgAAAAJiCwAAICC2AAAAAmILAAAgILYAAAACYgsAACAgtgAA\n",
       "AAJiCwAAICC2AAAAAmILAAAgILYAAAACYgsAACAgtgAAAAJiCwAAICC2AAAAAmILAAAgILYAAAAC\n",
       "YgsAACAgtgAAAAJiCwAAICC2AAAAAmILAAAgILYAAAACYgsAACAgtgAAAAJiCwAAICC2AAAAAmIL\n",
       "AAAgILYAAAACYgsAACAgtgAAAAJiCwAAICC2AAAAAmILAAAgILYAAAACYgsAACAgtgAAAAJiCwAA\n",
       "ICC2AAAAAmILAAAgILYAAAACYgsAACAgtgAAAAJiCwAAICC2AAAAAmILAAAgILYAAAACYgsAACAg\n",
       "tgAAAAJiCwAAICC2AAAAAmILAAAgILYAAAACYgsAACAgtgAAAAJiCwAAICC2AAAAAmILAAAgILYA\n",
       "AAACYgsAACAgtgAAAAJiCwAAICC2AAAAAmILAAAgILYAAAACYgsAACAgtgAAAAJiCwAAICC2AAAA\n",
       "AmILAAAgILYAAAACYgsAACAgtgAAAAJiCwAAICC2AAAAAmILAAAgILYAAAACYgsAACAgtgAAAAJi\n",
       "CwAAICC2AAAAAmILAAAgILYAAAACYgsAACAgtgAAAAJiCwAAICC2AAAAAmILAAAgILYAAAACYgsA\n",
       "ACAgtgAAAAJiCwAAICC2AAAAAmILAAAgILYAAAACYgsAACAgtgAAAAJiCwAAICC2AAAAAmILAAAg\n",
       "ILYAAAACYgsAACAgtgAAAAJiCwAAICC2AAAAAmILAAAgILYAAAAC6/QAgLPab/fpCQDAIJctAACA\n",
       "gNgCAAAIiC0AAICA2AIAAAiILQAAgIDYAgAACIgtAACAgNgCAAAIiC0AAICA2AIAAAiILQAAgIDY\n",
       "AgAACIgtAACAgNgCAAAIiC0AAICA2AIAAAiILQAAgIDYAgAACIgtAACAgNgCAAAIiC0AAICA2AIA\n",
       "AAiILQAAgIDYAgAACIgtAACAgNgCAAAIiC0AAICA2AIAAAiILQAAgIDYAgAACIgtAACAgNgCAAAI\n",
       "iC0AAICA2AIAAAiILQAAgIDYAgAACIgtAACAgNgCAAAIiC0AAICA2AIAAAiILQAAgIDYAgAACIgt\n",
       "AACAgNgCAAAIiC0AAICA2AIAAAiILQAAgIDYAgAACIgtAACAgNgCAAAIiC0AAICA2AIAAAiILQAA\n",
       "gIDYAgAACIgtAACAgNgCAAAIiC0AAICA2AIAAAiILQAAgIDYAgAACIgtAACAgNgCAAAIiC0AAICA\n",
       "2AIAAAiILQAAgIDYAgAACIgtAACAgNgCAAAIiC0AAICA2AIAAAiILQAAgIDYAgAACIgtAACAgNgC\n",
       "AAAIiC0AAICA2AIAAAiILQAAgIDYAgAACIgtAACAgNgCAAAIiC0AAICA2AIAAAiILQAAgIDYAgAA\n",
       "CIgtAACAgNgCAAAIiC0AAICA2AIAAAiILQAAgIDYAgAACIgtAACAgNgCAAAIiC0AAICA2AIAAAiI\n",
       "LQAAgIDYAgAACIgtAACAgNgCAAAIiC0AAICA2AIAAAiILQAAgIDYAgAACIgtAACAgNgCAAAIiC0A\n",
       "AICA2AIAAAiILQAAgIDYAgAACIgtAACAgNgCAAAIiC0AAICA2AIAAAiILQAAgIDYAgAACIgtAACA\n",
       "gNgCAAAIiC0AAICA2AIAAAiILQAAgIDYAgAACIgtAACAgNgCAAAIiC0AAICA2AIAAAiILQAAgIDY\n",
       "AgAACIgtAACAgNgCAAAIiC0AAICA2AIAAAiILQAAgIDYAgAACIgtAACAgNgCAAAIiC0AAICA2AIA\n",
       "AAiILQAAgIDYgr/261gAAAAAYJC/9Sj2lUUAADCQLQAAgIFsAQAADGQLAABgIFsAAAAD2QIAABjI\n",
       "FgAAwEC2AAAABrIFAAAwkC0AAICBbAEAAAxkCwAAYCBbAAAAA9kCAAAYyBYAAMBAtgAAAAayBQAA\n",
       "MJAtAACAgWwBAAAMZAsAAGAgWwAAAAPZAgAAGMgWAADAQLYAAAAGsgUAADCQLQAAgIFsAQAADGQL\n",
       "AABgIFsAAAAD2QIAABjIFgAAwEC2AAAABrIFAAAwkC0AAICBbAEAAAwCdO4cJjIhKi8AAAAASUVO\n",
       "RK5CYII=\n",
       "\" transform=\"translate(108, 405)\"/>\n",
       "</g>\n",
       "<path clip-path=\"url(#clip840)\" d=\"\n",
       "M1122.51 1865.17 L1952.76 1865.17 L1952.76 147.244 L1122.51 147.244  Z\n",
       "  \" fill=\"#ffffff\" fill-rule=\"evenodd\" fill-opacity=\"1\"/>\n",
       "<defs>\n",
       "  <clipPath id=\"clip843\">\n",
       "    <rect x=\"1122\" y=\"147\" width=\"831\" height=\"1719\"/>\n",
       "  </clipPath>\n",
       "</defs>\n",
       "<g clip-path=\"url(#clip843)\">\n",
       "<image width=\"830\" height=\"1162\" xlink:href=\"data:image/png;base64,\n",
       "iVBORw0KGgoAAAANSUhEUgAAAz4AAASKCAYAAACfN7s1AAAY10lEQVR4nO3ZsWkDQRRFUa9ZUCw3\n",
       "oSLUhCpxPW5CpbiSCRwr8Sp3JBbMsJdzKnjRwJ2/XL8+tjcAAICw99kDAAAA/pvwAQAA8oQPAACQ\n",
       "J3wAAIA84QMAAOQJHwAAIE/4AAAAecIHAADIEz4AAECe8AEAAPKEDwAAkCd8AACAPOEDAADkCR8A\n",
       "ACBP+AAAAHnCBwAAyBM+AABAnvABAADyhA8AAJAnfAAAgDzhAwAA5AkfAAAgT/gAAAB5wgcAAMgT\n",
       "PgAAQJ7wAQAA8oQPAACQJ3wAAIA84QMAAOQJHwAAIE/4AAAAecIHAADIEz4AAECe8AEAAPKEDwAA\n",
       "kCd8AACAPOEDAADkCR8AACBP+AAAAHnCBwAAyBM+AABAnvABAADyhA8AAJAnfAAAgDzhAwAA5Akf\n",
       "AAAgT/gAAAB5wgcAAMgTPgAAQJ7wAQAA8oQPAACQJ3wAAIA84QMAAOQJHwAAIE/4AAAAecIHAADI\n",
       "Ez4AAECe8AEAAPKEDwAAkCd8AACAPOEDAADkCR8AACBP+AAAAHnCBwAAyBM+AABAnvABAADyhA8A\n",
       "AJAnfAAAgDzhAwAA5AkfAAAgT/gAAAB5wgcAAMgTPgAAQJ7wAQAA8oQPAACQJ3wAAIA84QMAAOQJ\n",
       "HwAAIE/4AAAAecIHAADIEz4AAECe8AEAAPKEDwAAkCd8AACAPOEDAADkCR8AACBP+AAAAHnCBwAA\n",
       "yBM+AABAnvABAADyhA8AAJAnfAAAgDzhAwAA5AkfAAAgT/gAAAB5wgcAAMgTPgAAQJ7wAQAA8oQP\n",
       "AACQJ3wAAIA84QMAAOQJHwAAIE/4AAAAecIHAADIEz4AAECe8AEAAPKEDwAAkCd8AACAPOEDAADk\n",
       "CR8AACBP+AAAAHnCBwAAyBM+AABAnvABAADyhA8AAJAnfAAAgDzhAwAA5AkfAAAgT/gAAAB5wgcA\n",
       "AMgTPgAAQJ7wAQAA8oQPAACQJ3wAAIA84QMAAOQJHwAAIE/4AAAAecIHAADIEz4AAECe8AEAAPKE\n",
       "DwAAkCd8AACAPOEDAADkCR8AACBP+AAAAHnCBwAAyBM+AABAnvABAADyhA8AAJAnfAAAgDzhAwAA\n",
       "5AkfAAAgT/gAAAB5wgcAAMgTPgAAQJ7wAQAA8oQPAACQJ3wAAIA84QMAAOQJHwAAIE/4AAAAecIH\n",
       "AADIEz4AAECe8AEAAPKEDwAAkCd8AACAPOEDAADkCR8AACBP+AAAAHnCBwAAyBM+AABAnvABAADy\n",
       "hA8AAJAnfAAAgDzhAwAA5AkfAAAgT/gAAAB5yxhjmz0C/rrdL7MnAAAQ4uIDAADkCR8AACBP+AAA\n",
       "AHnCBwAAyBM+AABAnvABAADyhA8AAJAnfAAAgDzhAwAA5AkfAAAgT/gAAAB5wgcAAMgTPgAAQJ7w\n",
       "AQAA8oQPAACQJ3wAAIA84QMAAOQJHwAAIE/4AAAAecIHAADIEz4AAECe8AEAAPKEDwAAkCd8AACA\n",
       "POEDAADkCR8AACBP+AAAAHnCBwAAyBM+AABAnvABAADyhA8AAJAnfAAAgDzhAwAA5AkfAAAgT/gA\n",
       "AAB5wgcAAMgTPgAAQJ7wAQAA8oQPAACQJ3wAAIA84QMAAOQJHwAAIE/4AAAAecIHAADIEz4AAECe\n",
       "8AEAAPKEDwAAkCd8AACAPOEDAADkCR8AACBP+AAAAHnCBwAAyBM+AABAnvABAADyhA8AAJAnfAAA\n",
       "gDzhAwAA5AkfAAAgT/gAAAB5wgcAAMgTPgAAQJ7wAQAA8oQPAACQJ3wAAIA84QMAAOQJHwAAIE/4\n",
       "AAAAecIHAADIEz4AAECe8AEAAPKEDwAAkCd8AACAPOEDAADkCR8AACBP+AAAAHnCBwAAyBM+AABA\n",
       "nvABAADyhA8AAJAnfAAAgDzhAwAA5AkfAAAgT/gAAAB5wgcAAMgTPgAAQJ7wAQAA8oQPAACQJ3wA\n",
       "AIA84QMAAOQJHwAAIE/4AAAAecIHAADIEz4AAECe8AEAAPKEDwAAkCd8AACAPOEDAADkCR8AACBP\n",
       "+AAAAHnCBwAAyBM+AABAnvABAADyhA8AAJAnfAAAgDzhAwAA5AkfAAAgT/gAAAB5wgcAAMgTPgAA\n",
       "QJ7wAQAA8oQPAACQJ3wAAIA84QMAAOQJHwAAIE/4AAAAecIHAADIEz4AAECe8AEAAPKEDwAAkCd8\n",
       "AACAPOEDAADkCR8AACBP+AAAAHnCBwAAyBM+AABAnvABAADyhA8AAJAnfAAAgDzhAwAA5AkfAAAg\n",
       "T/gAAAB5wgcAAMgTPgAAQJ7wAQAA8oQPAACQJ3wAAIA84QMAAOQJHwAAIE/4AAAAecIHAADIEz4A\n",
       "AECe8AEAAPKEDwAAkCd8AACAPOEDAADkCR8AACBP+AAAAHnCBwAAyBM+AABAnvABAADyhA8AAJAn\n",
       "fAAAgDzhAwAA5AkfAAAgT/gAAAB5wgcAAMgTPgAAQJ7wAQAA8oQPAACQJ3wAAIA84QMAAOQJHwAA\n",
       "IE/4AAAAecIHAADIW8YY2+wRAEdwu19mTwAAdnLxAQAA8oQPAACQJ3wAAIA84QMAAOQJHwAAIE/4\n",
       "AAAAecIHAADIEz4AAECe8AEAAPKEDwAAkCd8AACAPOEDAADkCR8AACBP+AAAAHnCBwAAyBM+AABA\n",
       "nvABAADyhA8AAJAnfAAAgDzhAwAA5AkfAAAgT/gAAAB5wgcAAMgTPgAAQJ7wAQAA8oQPAACQJ3wA\n",
       "AIA84QMAAOQJHwAAIE/4AAAAecIHAADIEz4AAECe8AEAAPKEDwAAkCd8AACAPOEDAADkCR8AACBP\n",
       "+AAAAHnCBwAAyBM+AABAnvABAADyhA8AAJAnfAAAgDzhAwAA5AkfAAAgT/gAAAB5wgcAAMgTPgAA\n",
       "QJ7wAQAA8oQPAACQJ3wAAIA84QMAAOQJHwAAIE/4AAAAecIHAADIEz4AAECe8AEAAPKEDwAAkCd8\n",
       "AACAPOEDAADkCR8AACBP+AAAAHnCBwAAyBM+AABAnvABAADyhA8AAJAnfAAAgDzhAwAA5AkfAAAg\n",
       "T/gAAAB5wgcAAMgTPgAAQJ7wAQAA8oQPAACQJ3wAAIA84QMAAOQJHwAAIE/4AAAAecIHAADIEz4A\n",
       "AECe8AEAAPKEDwAAkCd8AACAPOEDAADkCR8AACBP+AAAAHnCBwAAyBM+AABAnvABAADyhA8AAJAn\n",
       "fAAAgDzhAwAA5AkfAAAgT/gAAAB5wgcAAMgTPgAAQJ7wAQAA8oQPAACQJ3wAAIA84QMAAOQJHwAA\n",
       "IE/4AAAAecIHAADIEz4AAECe8AEAAPKEDwAAkCd8AACAPOEDAADkCR8AACBP+AAAAHnCBwAAyBM+\n",
       "AABAnvABAADyhA8AAJAnfAAAgDzhAwAA5AkfAAAgT/gAAAB5wgcAAMgTPgAAQJ7wAQAA8oQPAACQ\n",
       "J3wAAIA84QMAAOQJHwAAIE/4AAAAecIHAADIEz4AAECe8AEAAPKEDwAAkCd8AACAPOEDAADkCR8A\n",
       "ACBP+AAAAHnCBwAAyBM+AABAnvABAADyhA8AAJAnfAAAgDzhAwAA5AkfAAAgT/gAAAB5wgcAAMgT\n",
       "PgAAQJ7wAQAA8oQPAACQJ3wAAIA84QMAAOQJHwAAIE/4AAAAecIHAADIEz4AAECe8AEAAPKEDwAA\n",
       "kCd8AACAPOEDAADkCR8AACBP+AAAAHnCBwAAyBM+AABAnvABAADyhA8AAJAnfAAAgDzhAwAA5C1j\n",
       "jG32CABgn+/Px+wJAIfg4gMAAOQJHwAAIE/4AAAAecIHAADIEz4AAECe8AEAAPKEDwAAkCd8AACA\n",
       "POEDAADkCR8AACBP+AAAAHnCBwAAyBM+AABAnvABAADyhA8AAJAnfAAAgDzhAwAA5AkfAAAgT/gA\n",
       "AAB5wgcAAMgTPgAAQJ7wAQAA8oQPAACQJ3wAAIA84QMAAOQJHwAAIE/4AAAAecIHAADIEz4AAECe\n",
       "8AEAAPKEDwAAkCd8AACAPOEDAADkCR8AACBP+AAAAHnCBwAAyBM+AABAnvABAADyhA8AAJAnfAAA\n",
       "gDzhAwAA5AkfAAAgT/gAAAB5wgcAAMgTPgAAQJ7wAQAA8oQPAACQJ3wAAIA84QMAAOQJHwAAIE/4\n",
       "AAAAecIHAADIEz4AAECe8AEAAPKEDwAAkCd8AACAPOEDAADkCR8AACBP+AAAAHnCBwAAyBM+AABA\n",
       "nvABAADyhA8AAJAnfAAAgDzhAwAA5AkfAAAgT/gAAAB5wgcAAMgTPgAAQJ7wAQAA8oQPAACQJ3wA\n",
       "AIA84QMAAOQJHwAAIE/4AAAAecIHAADIEz4AAECe8AEAAPKEDwAAkCd8AACAPOEDAADkCR8AACBP\n",
       "+AAAAHnCBwAAyBM+AABAnvABAADyhA8AAJAnfAAAgDzhAwAA5AkfAAAgT/gAAAB5wgcAAMgTPgAA\n",
       "QJ7wAQAA8oQPAACQJ3wAAIA84QMAAOQJHwAAIE/4AAAAecIHAADIEz4AAECe8AEAAPKEDwAAkCd8\n",
       "AACAPOEDAADkCR8AACBP+AAAAHnCBwAAyBM+AABAnvABAADyhA8AAJAnfAAAgDzhAwAA5AkfAAAg\n",
       "T/gAAAB5wgcAAMgTPgAAQJ7wAQAA8oQPAACQJ3wAAIA84QMAAOQJHwAAIE/4AAAAecIHAADIEz4A\n",
       "AECe8AEAAPKEDwAAkCd8AACAPOEDAADkCR8AACBP+AAAAHnCBwAAyBM+AABAnvABAADyhA8AAJAn\n",
       "fAAAgDzhAwAA5AkfAAAgT/gAAAB5wgcAAMgTPgAAQJ7wAQAA8oQPAACQJ3wAAIA84QMAAOQJHwAA\n",
       "IE/4AAAAecIHAADIEz4AAECe8AEAAPKEDwAAkCd8AACAPOEDAADkCR8AACBP+AAAAHnCBwAAyBM+\n",
       "AABAnvABAADyhA8AAJAnfAAAgDzhAwAA5AkfAAAgT/gAAAB5wgcAAMgTPgAAQJ7wAQAA8tbZAwCA\n",
       "/U5nf5gAr/BaAgAAecIHAADIEz4AAECe8AEAAPKEDwAAkCd8AACAPOEDAADkCR8AACBP+AAAAHnC\n",
       "BwAAyBM+AABAnvABAADyhA8AAJAnfAAAgDzhAwAA5AkfAAAgT/gAAAB5wgcAAMgTPgAAQJ7wAQAA\n",
       "8oQPAACQJ3wAAIA84QMAAOQJHwAAIE/4AAAAecIHAADIEz4AAECe8AEAAPKEDwAAkCd8AACAPOED\n",
       "AADkCR8AACBP+AAAAHnCBwAAyBM+AABAnvABAADyhA8AAJAnfAAAgDzhAwAA5AkfAAAgT/gAAAB5\n",
       "wgcAAMgTPgAAQJ7wAQAA8oQPAACQJ3wAAIA84QMAAOQJHwAAIE/4AAAAecIHAADIEz4AAECe8AEA\n",
       "APKEDwAAkCd8AACAPOEDAADkCR8AACBP+AAAAHnCBwAAyBM+AABAnvABAADyhA8AAJAnfAAAgDzh\n",
       "AwAA5AkfAAAgT/gAAAB5wgcAAMgTPgAAQJ7wAQAA8oQPAACQJ3wAAIA84QMAAOQJHwAAIE/4AAAA\n",
       "ecIHAADIEz4AAECe8AEAAPKEDwAAkCd8AACAPOEDAADkCR8AACBP+AAAAHnCBwAAyBM+AABAnvAB\n",
       "AADyhA8AAJAnfAAAgDzhAwAA5AkfAAAgT/gAAAB5wgcAAMgTPgAAQJ7wAQAA8oQPAACQJ3wAAIA8\n",
       "4QMAAOQJHwAAIE/4AAAAecIHAADIEz4AAECe8AEAAPKEDwAAkCd8AACAPOEDAADkCR8AACBP+AAA\n",
       "AHnCBwAAyBM+AABAnvABAADyhA8AAJAnfAAAgDzhAwAA5AkfAAAgT/gAAAB5wgcAAMgTPgAAQJ7w\n",
       "AQAA8oQPAACQJ3wAAIA84QMAAOQJHwAAIE/4AAAAecIHAADIEz4AAECe8AEAAPKEDwAAkCd8AACA\n",
       "POEDAADkCR8AACBP+AAAAHnCBwAAyBM+AABAnvABAADyhA8AAJAnfAAAgDzhAwAA5AkfAAAgT/gA\n",
       "AAB5wgcAAMgTPgAAQJ7wAQAA8oQPAACQJ3wAAIA84QMAAOQJHwAAIE/4AAAAecIHAADIEz4AAECe\n",
       "8AEAAPKEDwAAkCd8AACAPOEDAADkCR8AACBP+AAAAHnCBwAAyBM+AABAnvABAADyhA8AAJAnfAAA\n",
       "gDzhAwAA5AkfAAAgT/gAAAB5wgcAAMgTPgAAQJ7wAQAA8tbZAwCA/R4/v7MnAByCiw8AAJAnfAAA\n",
       "gDzhAwAA5AkfAAAgT/gAAAB5wgcAAMgTPgAAQJ7wAQAA8oQPAACQJ3wAAIA84QMAAOQJHwAAIE/4\n",
       "AAAAecIHAADIEz4AAECe8AEAAPKEDwAAkCd8AACAPOEDAADkCR8AACBP+AAAAHnCBwAAyBM+AABA\n",
       "nvABAADyhA8AAJAnfAAAgDzhAwAA5AkfAAAgT/gAAAB5wgcAAMgTPgAAQJ7wAQAA8oQPAACQJ3wA\n",
       "AIA84QMAAOQJHwAAIE/4AAAAecIHAADIEz4AAECe8AEAAPKEDwAAkCd8AACAPOEDAADkCR8AACBP\n",
       "+AAAAHnCBwAAyBM+AABAnvABAADyhA8AAJAnfAAAgDzhAwAA5AkfAAAgT/gAAAB5wgcAAMgTPgAA\n",
       "QJ7wAQAA8oQPAACQJ3wAAIA84QMAAOQJHwAAIE/4AAAAecIHAADIEz4AAECe8AEAAPKEDwAAkCd8\n",
       "AACAPOEDAADkCR8AACBP+AAAAHnCBwAAyBM+AABAnvABAADyhA8AAJAnfAAAgDzhAwAA5AkfAAAg\n",
       "T/gAAAB5wgcAAMgTPgAAQJ7wAQAA8oQPAACQJ3wAAIA84QMAAOQJHwAAIE/4AAAAecIHAADIEz4A\n",
       "AECe8AEAAPKEDwAAkCd8AACAPOEDAADkCR8AACBP+AAAAHnCBwAAyBM+AABAnvABAADyhA8AAJAn\n",
       "fAAAgDzhAwAA5AkfAAAgT/gAAAB5wgcAAMgTPgAAQJ7wAQAA8oQPAACQJ3wAAIA84QMAAOQJHwAA\n",
       "IE/4AAAAecIHAADIEz4AAECe8AEAAPKEDwAAkCd8AACAPOEDAADkCR8AACBP+AAAAHnCBwAAyBM+\n",
       "AABAnvABAADyhA8AAJAnfAAAgDzhAwAA5AkfAAAgT/gAAAB5wgcAAMgTPgAAQJ7wAQAA8oQPAACQ\n",
       "J3wAAIA84QMAAOQJHwAAIE/4AAAAecIHAADIEz4AAECe8AEAAPKEDwAAkCd8AACAPOEDAADkCR8A\n",
       "ACBP+AAAAHnCBwAAyBM+AABAnvABAADyhA8AAJAnfAAAgDzhAwAA5AkfAAAgT/gAAAB5wgcAAMgT\n",
       "PgAAQJ7wAQAA8oQPAACQJ3wAAIA84QMAAOQJHwAAIE/4AAAAecIHAADIEz4AAECe8AEAAPKEDwAA\n",
       "kCd8AACAPOEDAADkCR8AACBvnT0AANjvdPaHCfAKryUAAJAnfAAAgDzhAwAA5AkfAAAgT/gAAAB5\n",
       "wgcAAMgTPgAAQJ7wAQAA8oQPAACQJ3wAAIA84QMAAOQJHwAAIE/4AAAAecIHAADIEz4AAECe8AEA\n",
       "APKEDwAAkCd8AACAPOEDAADkCR8AACBP+AAAAHnCBwAAyBM+AABAnvABAADyhA8AAJAnfAAAgDzh\n",
       "AwAA5AkfAAAgT/gAAAB5wgcAAMgTPgAAQJ7wAQAA8oQPAACQJ3wAAIA84QMAAOQJHwAAIE/4AAAA\n",
       "ecIHAADIEz4AAECe8AEAAPKEDwAAkCd8AACAPOEDAADkCR8AACBP+AAAAHnCBwAAyBM+AABAnvAB\n",
       "AADyhA8AAJAnfAAAgDzhAwAA5AkfAAAgT/gAAAB5wgcAAMgTPgAAQJ7wAQAA8oQPAACQJ3wAAIA8\n",
       "4QMAAOQJHwAAIE/4AAAAecIHAADIEz4AAECe8AEAAPKEDwAAkCd8AACAPOEDAADkCR8AACBP+AAA\n",
       "AHnCBwAAyBM+AABAnvABAADyhA8AAJAnfAAAgDzhAwAA5AkfAAAgT/gAAAB5wgcAAMgTPgAAQJ7w\n",
       "AQAA8oQPAACQJ3wAAIA84QMAAOQJHwAAIE/4AAAAecIHAADIEz4AAECe8AEAAPKEDwAAkCd8AACA\n",
       "POEDAADkCR8AACBP+AAAAHnCBwAAyBM+AABAnvABAADyhA8AAJAnfAAAgDzhAwAA5AkfAAAgT/gA\n",
       "AAB5wgcAAMgTPgAAQJ7wAQAA8oQPAACQJ3wAAIA84QMAAOQJHwAAIE/4AAAAecIHAADIEz4AAECe\n",
       "8AEAAPKEDwAAkCd8AACAPOEDAADkCR8AACBP+AAAAHnCBwAAyBM+AABAnvABAADyhA8AAJAnfAAA\n",
       "gDzhAwAA5AkfAAAgT/gAAAB5wgcAAMgTPgAAQJ7wAQAA8oQPAACQJ3wAAIA84QMAAOQJHwAAIE/4\n",
       "AAAAecIHAADIEz4AAECe8AEAAPKEDwAAkCd8AACAPOEDAADkCR8AACBP+AAAAHnCBwAAyBM+AABA\n",
       "nvABAADyhA8AAJAnfAAAgDzhAwAA5AkfAAAgT/gAAAB5wgcAAMgTPgAAQJ7wAQAA8oQPAACQJ3wA\n",
       "AIA84QMAAOQJHwAAIE/4AAAAecIHAADIEz4AAECe8AEAAPKEDwAAkCd8AACAPOEDAADkCR8AACBP\n",
       "+AAAAHnCBwAAyHsCGCkd0cP6Ac4AAAAASUVORK5CYII=\n",
       "\" transform=\"translate(1123, 425)\"/>\n",
       "</g>\n",
       "<path clip-path=\"url(#clip840)\" d=\"\n",
       "M136.85 100 L1952.76 100 L1952.76 0 L136.85 0  Z\n",
       "  \" fill=\"#ffffff\" fill-rule=\"evenodd\" fill-opacity=\"1\"/>\n",
       "<defs>\n",
       "  <clipPath id=\"clip844\">\n",
       "    <rect x=\"136\" y=\"0\" width=\"1817\" height=\"101\"/>\n",
       "  </clipPath>\n",
       "</defs>\n",
       "<path clip-path=\"url(#clip840)\" d=\"M510.361 50.5368 Q513.371 51.5553 516.195 54.8886 Q519.065 58.2219 521.935 64.0552 L531.426 82.944 L521.38 82.944 L512.537 65.2126 Q509.111 58.2682 505.871 55.9997 Q502.676 53.7312 497.121 53.7312 L486.936 53.7312 L486.936 82.944 L477.584 82.944 L477.584 13.824 L498.695 13.824 Q510.547 13.824 516.38 18.7777 Q522.213 23.7314 522.213 33.7313 Q522.213 40.259 519.158 44.5646 Q516.148 48.8701 510.361 50.5368 M486.936 21.5091 L486.936 46.046 L498.695 46.046 Q505.454 46.046 508.88 42.9442 Q512.352 39.7961 512.352 33.7313 Q512.352 27.6665 508.88 24.611 Q505.454 21.5091 498.695 21.5091 L486.936 21.5091 Z\" fill=\"#000000\" fill-rule=\"evenodd\" fill-opacity=\"1\" /><path clip-path=\"url(#clip840)\" d=\"M552.676 11.7407 Q548.787 17.7129 546.889 23.5462 Q544.991 29.3795 544.991 35.3517 Q544.991 41.3239 546.889 47.2035 Q548.787 53.083 552.676 59.0089 L548 59.0089 Q543.648 52.9442 541.472 47.0183 Q539.297 41.1387 539.297 35.3517 Q539.297 29.5647 541.472 23.6851 Q543.602 17.8518 548 11.7407 L552.676 11.7407 Z\" fill=\"#000000\" fill-rule=\"evenodd\" fill-opacity=\"1\" /><path clip-path=\"url(#clip840)\" d=\"M563.093 22.9906 L568.463 22.9906 L568.463 52.5275 Q568.463 58.083 566.056 60.583 Q563.695 63.083 558.417 63.083 L556.38 63.083 L556.38 59.0089 L557.815 59.0089 Q560.87 59.0089 561.982 57.7589 Q563.093 56.509 563.093 52.5275 L563.093 22.9906 M563.093 11.6944 L568.463 11.6944 L568.463 17.7129 L563.093 17.7129 L563.093 11.6944 Z\" fill=\"#000000\" fill-rule=\"evenodd\" fill-opacity=\"1\" /><path clip-path=\"url(#clip840)\" d=\"M580.361 33.1757 L617.722 33.1757 L617.722 37.5739 L580.361 37.5739 L580.361 33.1757 Z\" fill=\"#000000\" fill-rule=\"evenodd\" fill-opacity=\"1\" /><path clip-path=\"url(#clip840)\" d=\"M631.287 46.9257 L640.731 46.9257 L640.731 18.6388 L630.407 20.5369 L630.407 15.1666 L641.055 13.361 L647.398 13.361 L647.398 46.9257 L656.888 46.9257 L656.888 52.0182 L631.287 52.0182 L631.287 46.9257 Z\" fill=\"#000000\" fill-rule=\"evenodd\" fill-opacity=\"1\" /><path clip-path=\"url(#clip840)\" d=\"M666.842 11.7407 L671.518 11.7407 Q675.916 17.8518 678.092 23.6851 Q680.222 29.5647 680.222 35.3517 Q680.222 41.1387 678.092 47.0183 Q675.916 52.9442 671.518 59.0089 L666.842 59.0089 Q670.731 53.083 672.629 47.2035 Q674.574 41.3239 674.574 35.3517 Q674.574 29.3795 672.629 23.5462 Q670.731 17.7129 666.842 11.7407 Z\" fill=\"#000000\" fill-rule=\"evenodd\" fill-opacity=\"1\" /><path clip-path=\"url(#clip840)\" d=\"M1107.95 58.083 L1112.81 53.2219 L1107.95 48.3609 L1052.44 48.3609 L1052.44 42.8053 L1102.4 42.8053 L1098.09 38.4998 L1103.65 32.9443 L1121.84 51.1386 L1121.84 55.3053 L1103.65 73.4996 L1098.09 67.9441 L1102.4 63.6385 L1052.44 63.6385 L1052.44 58.083 L1107.95 58.083 Z\" fill=\"#000000\" fill-rule=\"evenodd\" fill-opacity=\"1\" /><path clip-path=\"url(#clip840)\" d=\"M1530.22 50.5368 Q1533.23 51.5553 1536.05 54.8886 Q1538.92 58.2219 1541.79 64.0552 L1551.28 82.944 L1541.24 82.944 L1532.39 65.2126 Q1528.97 58.2682 1525.73 55.9997 Q1522.53 53.7312 1516.98 53.7312 L1506.79 53.7312 L1506.79 82.944 L1497.44 82.944 L1497.44 13.824 L1518.55 13.824 Q1530.4 13.824 1536.24 18.7777 Q1542.07 23.7314 1542.07 33.7313 Q1542.07 40.259 1539.01 44.5646 Q1536 48.8701 1530.22 50.5368 M1506.79 21.5091 L1506.79 46.046 L1518.55 46.046 Q1525.31 46.046 1528.74 42.9442 Q1532.21 39.7961 1532.21 33.7313 Q1532.21 27.6665 1528.74 24.611 Q1525.31 21.5091 1518.55 21.5091 L1506.79 21.5091 Z\" fill=\"#000000\" fill-rule=\"evenodd\" fill-opacity=\"1\" /><path clip-path=\"url(#clip840)\" d=\"M1572.53 11.7407 Q1568.64 17.7129 1566.74 23.5462 Q1564.85 29.3795 1564.85 35.3517 Q1564.85 41.3239 1566.74 47.2035 Q1568.64 53.083 1572.53 59.0089 L1567.86 59.0089 Q1563.5 52.9442 1561.33 47.0183 Q1559.15 41.1387 1559.15 35.3517 Q1559.15 29.5647 1561.33 23.6851 Q1563.46 17.8518 1567.86 11.7407 L1572.53 11.7407 Z\" fill=\"#000000\" fill-rule=\"evenodd\" fill-opacity=\"1\" /><path clip-path=\"url(#clip840)\" d=\"M1582.95 22.9906 L1588.32 22.9906 L1588.32 52.5275 Q1588.32 58.083 1585.91 60.583 Q1583.55 63.083 1578.27 63.083 L1576.24 63.083 L1576.24 59.0089 L1577.67 59.0089 Q1580.73 59.0089 1581.84 57.7589 Q1582.95 56.509 1582.95 52.5275 L1582.95 22.9906 M1582.95 11.6944 L1588.32 11.6944 L1588.32 17.7129 L1582.95 17.7129 L1582.95 11.6944 Z\" fill=\"#000000\" fill-rule=\"evenodd\" fill-opacity=\"1\" /><path clip-path=\"url(#clip840)\" d=\"M1598.64 11.7407 L1603.32 11.7407 Q1607.72 17.8518 1609.89 23.6851 Q1612.02 29.5647 1612.02 35.3517 Q1612.02 41.1387 1609.89 47.0183 Q1607.72 52.9442 1603.32 59.0089 L1598.64 59.0089 Q1602.53 53.083 1604.43 47.2035 Q1606.37 41.3239 1606.37 35.3517 Q1606.37 29.3795 1604.43 23.5462 Q1602.53 17.7129 1598.64 11.7407 Z\" fill=\"#000000\" fill-rule=\"evenodd\" fill-opacity=\"1\" /></svg>\n"
      ]
     },
     "execution_count": 19,
     "metadata": {},
     "output_type": "execute_result"
    }
   ],
   "source": [
    "m = 7; n = 5; j = 2;\n",
    "R = ones(m,n)\n",
    "R[j:2:end,:] .-= 0.1\n",
    "R[1:j,:] .= -1.0 + 0.01\n",
    "for i in 1:j\n",
    "    R[i+1:end,i] .= 0.\n",
    "end\n",
    "Rj = copy(R);\n",
    "j += 1\n",
    "R = ones(m,n)\n",
    "R[j:2:end,:] .-= 0.1\n",
    "R[1:j,:] .= -1.0 + 0.01\n",
    "for i in 1:j\n",
    "    R[i+1:end,i] .= 0.\n",
    "end\n",
    "Rjp1 = copy(R)\n",
    "plot(imshow(Rj), imshow(Rjp1), colorbar=false, layout=(1,2), plot_title =\"R⁽ʲ⁻¹⁾            ⇒            R⁽ʲ⁾\")"
   ]
  },
  {
   "cell_type": "markdown",
   "id": "489d0ea7",
   "metadata": {
    "cell_style": "split",
    "slideshow": {
     "slide_type": "-"
    }
   },
   "source": [
    "- Let $x^{(j)}$ be the _tail_ of column $j$,\n",
    "\n",
    "$$x^{(j)} = r_{j:m}^{(j-1)} \\in \\mathbb{C}^{m-(j-1)}$$\n",
    "\n",
    "- Compute the Householder vector $u^{(j)}$ for $x^{(j)}$ that makes the unitary matrix\n",
    "$\\tilde{U}_j$\n",
    "\n",
    "- Make $U_J$ by putting $\\tilde{U}_j$ on lower diagonal block"
   ]
  },
  {
   "cell_type": "markdown",
   "id": "8a65cab7",
   "metadata": {
    "cell_style": "center",
    "slideshow": {
     "slide_type": "subslide"
    }
   },
   "source": [
    "\n",
    "$$\n",
    "\\begin{bmatrix}\n",
    "& & & & & & \\\\\n",
    "& & & & & & \\\\\n",
    "& & & & & & \\\\\n",
    "& & & U_j & & & \\\\\n",
    "& & & & & & \\\\\n",
    "& & & & & & \\\\\n",
    "& & & & & & \\\\\n",
    "\\end{bmatrix}\n",
    "=\n",
    "\\left[\n",
    "\\begin{array}{cccc|ccc}\n",
    "1 & & & & & & \\\\\n",
    "& 1 & & & & & \\\\\n",
    "& & \\ddots & & & & \\\\\n",
    "& & & 1 & & & \\\\ \\hline\n",
    "& & & & & & \\\\\n",
    "& & & & & \\tilde{U}_j & \\\\\n",
    "& & & & & & \\\\\n",
    "\\end{array}\n",
    "\\right]\n",
    "$$"
   ]
  },
  {
   "cell_type": "markdown",
   "id": "5fc402eb",
   "metadata": {
    "slideshow": {
     "slide_type": "subslide"
    }
   },
   "source": [
    "### All together"
   ]
  },
  {
   "cell_type": "code",
   "execution_count": 20,
   "id": "17e19a01",
   "metadata": {},
   "outputs": [
    {
     "data": {
      "text/plain": [
       "householder_literal (generic function with 1 method)"
      ]
     },
     "execution_count": 20,
     "metadata": {},
     "output_type": "execute_result"
    }
   ],
   "source": [
    "function householder_literal(A)\n",
    "    m, n = size(A)\n",
    "    Q = Matrix{eltype(A)}(I, m, m)\n",
    "    R = copy(A)\n",
    "    for i = 1:n\n",
    "        x = R[i:m,i]\n",
    "        u = householder_vector(x)\n",
    "        R[i:m,i:n] = householder_reflect(u, R[i:m,i:n]) # apply reflector to trailing rows of R to make r_i upper\n",
    "        R[i+1:m,i] .= 0\n",
    "        Q[:,i:m] = householder_reflect_left(Q[:,i:m], u) # apply reflector to trailing columns of Q to multiply in U_i\n",
    "    end\n",
    "    return Q, R\n",
    "end"
   ]
  },
  {
   "cell_type": "markdown",
   "id": "f24af7d2",
   "metadata": {
    "slideshow": {
     "slide_type": "subslide"
    }
   },
   "source": [
    "### Recall our tests from last time"
   ]
  },
  {
   "cell_type": "code",
   "execution_count": 21,
   "id": "5fb90892",
   "metadata": {
    "slideshow": {
     "slide_type": "-"
    }
   },
   "outputs": [
    {
     "data": {
      "text/plain": [
       "qr_test (generic function with 4 methods)"
      ]
     },
     "execution_count": 21,
     "metadata": {},
     "output_type": "execute_result"
    }
   ],
   "source": [
    "reconstruction_error(A, Q, R) = norm(A - Q * R, 2)\n",
    "orthonormality_error(Q) = norm(I - Q[:,:]' * Q[:,:], 2)\n",
    "upper_triangularity_error(R) = norm(R - UpperTriangular(R), 2)\n",
    "function qr_test(A, Q, R, recon_tol=1.e-12, ortho_tol=1.e-12, triu_tol=0.0)\n",
    "    m, n = size(A)\n",
    "    p = min(m,n)\n",
    "    recon_err = reconstruction_error(A, Q, R)\n",
    "    ortho_err = orthonormality_error(Q)\n",
    "    triu_err = upper_triangularity_error(R[1:p,1:p])\n",
    "    println(\"Reconstruction error || A - Q R ||_F = $recon_err\")\n",
    "    println(\"Orthonormality error || I - Q'Q ||_F = $ortho_err\")\n",
    "    println(\"Upper-triangularity error || R - triu(R) ||_F = $triu_err\")\n",
    "    return (recon_err <= recon_tol) && (ortho_err <= ortho_tol) && (triu_err <= triu_tol) \n",
    "end"
   ]
  },
  {
   "cell_type": "code",
   "execution_count": 22,
   "id": "739c4a22",
   "metadata": {
    "cell_style": "center",
    "slideshow": {
     "slide_type": "-"
    }
   },
   "outputs": [
    {
     "name": "stdout",
     "output_type": "stream",
     "text": [
      "Reconstruction error || A - Q R ||_F = 1.4841177781909822e-15\n",
      "Orthonormality error || I - Q'Q ||_F = 7.203899111307078e-16\n",
      "Upper-triangularity error || R - triu(R) ||_F = 0.0\n"
     ]
    },
    {
     "data": {
      "text/plain": [
       "true"
      ]
     },
     "execution_count": 22,
     "metadata": {},
     "output_type": "execute_result"
    }
   ],
   "source": [
    "m = 7; n = 5;\n",
    "A = randn(m, n)\n",
    "Q, R = householder_literal(A);\n",
    "qr_test(A, Q, R)"
   ]
  },
  {
   "cell_type": "markdown",
   "id": "e9acbdc2",
   "metadata": {
    "slideshow": {
     "slide_type": "subslide"
    }
   },
   "source": [
    "### `householder_literal` is on par with `qr`"
   ]
  },
  {
   "cell_type": "code",
   "execution_count": 23,
   "id": "7c052c93",
   "metadata": {
    "hideCode": true,
    "slideshow": {
     "slide_type": "-"
    }
   },
   "outputs": [
    {
     "data": {
      "image/svg+xml": [
       "<?xml version=\"1.0\" encoding=\"utf-8\"?>\n",
       "<svg xmlns=\"http://www.w3.org/2000/svg\" xmlns:xlink=\"http://www.w3.org/1999/xlink\" width=\"1300\" height=\"800\" viewBox=\"0 0 5200 3200\">\n",
       "<defs>\n",
       "  <clipPath id=\"clip880\">\n",
       "    <rect x=\"0\" y=\"0\" width=\"5200\" height=\"3200\"/>\n",
       "  </clipPath>\n",
       "</defs>\n",
       "<path clip-path=\"url(#clip880)\" d=\"\n",
       "M0 3200 L5200 3200 L5200 0 L0 0  Z\n",
       "  \" fill=\"#ffffff\" fill-rule=\"evenodd\" fill-opacity=\"1\"/>\n",
       "<defs>\n",
       "  <clipPath id=\"clip881\">\n",
       "    <rect x=\"1040\" y=\"0\" width=\"3641\" height=\"3200\"/>\n",
       "  </clipPath>\n",
       "</defs>\n",
       "<path clip-path=\"url(#clip880)\" d=\"\n",
       "M241.607 3013.49 L2552.76 3013.49 L2552.76 118.82 L241.607 118.82  Z\n",
       "  \" fill=\"#ffffff\" fill-rule=\"evenodd\" fill-opacity=\"1\"/>\n",
       "<defs>\n",
       "  <clipPath id=\"clip882\">\n",
       "    <rect x=\"241\" y=\"118\" width=\"2312\" height=\"2896\"/>\n",
       "  </clipPath>\n",
       "</defs>\n",
       "<polyline clip-path=\"url(#clip882)\" style=\"stroke:#000000; stroke-linecap:butt; stroke-linejoin:round; stroke-width:2; stroke-opacity:0.1; fill:none\" points=\"\n",
       "  445.298,3013.49 445.298,118.82 \n",
       "  \"/>\n",
       "<polyline clip-path=\"url(#clip882)\" style=\"stroke:#000000; stroke-linecap:butt; stroke-linejoin:round; stroke-width:2; stroke-opacity:0.1; fill:none\" points=\"\n",
       "  825.837,3013.49 825.837,118.82 \n",
       "  \"/>\n",
       "<polyline clip-path=\"url(#clip882)\" style=\"stroke:#000000; stroke-linecap:butt; stroke-linejoin:round; stroke-width:2; stroke-opacity:0.1; fill:none\" points=\"\n",
       "  1206.38,3013.49 1206.38,118.82 \n",
       "  \"/>\n",
       "<polyline clip-path=\"url(#clip882)\" style=\"stroke:#000000; stroke-linecap:butt; stroke-linejoin:round; stroke-width:2; stroke-opacity:0.1; fill:none\" points=\"\n",
       "  1586.92,3013.49 1586.92,118.82 \n",
       "  \"/>\n",
       "<polyline clip-path=\"url(#clip882)\" style=\"stroke:#000000; stroke-linecap:butt; stroke-linejoin:round; stroke-width:2; stroke-opacity:0.1; fill:none\" points=\"\n",
       "  1967.45,3013.49 1967.45,118.82 \n",
       "  \"/>\n",
       "<polyline clip-path=\"url(#clip882)\" style=\"stroke:#000000; stroke-linecap:butt; stroke-linejoin:round; stroke-width:2; stroke-opacity:0.1; fill:none\" points=\"\n",
       "  2347.99,3013.49 2347.99,118.82 \n",
       "  \"/>\n",
       "<polyline clip-path=\"url(#clip880)\" style=\"stroke:#000000; stroke-linecap:butt; stroke-linejoin:round; stroke-width:4; stroke-opacity:1; fill:none\" points=\"\n",
       "  241.607,3013.49 2552.76,3013.49 \n",
       "  \"/>\n",
       "<polyline clip-path=\"url(#clip880)\" style=\"stroke:#000000; stroke-linecap:butt; stroke-linejoin:round; stroke-width:4; stroke-opacity:1; fill:none\" points=\"\n",
       "  445.298,3013.49 445.298,2994.6 \n",
       "  \"/>\n",
       "<polyline clip-path=\"url(#clip880)\" style=\"stroke:#000000; stroke-linecap:butt; stroke-linejoin:round; stroke-width:4; stroke-opacity:1; fill:none\" points=\"\n",
       "  825.837,3013.49 825.837,2994.6 \n",
       "  \"/>\n",
       "<polyline clip-path=\"url(#clip880)\" style=\"stroke:#000000; stroke-linecap:butt; stroke-linejoin:round; stroke-width:4; stroke-opacity:1; fill:none\" points=\"\n",
       "  1206.38,3013.49 1206.38,2994.6 \n",
       "  \"/>\n",
       "<polyline clip-path=\"url(#clip880)\" style=\"stroke:#000000; stroke-linecap:butt; stroke-linejoin:round; stroke-width:4; stroke-opacity:1; fill:none\" points=\"\n",
       "  1586.92,3013.49 1586.92,2994.6 \n",
       "  \"/>\n",
       "<polyline clip-path=\"url(#clip880)\" style=\"stroke:#000000; stroke-linecap:butt; stroke-linejoin:round; stroke-width:4; stroke-opacity:1; fill:none\" points=\"\n",
       "  1967.45,3013.49 1967.45,2994.6 \n",
       "  \"/>\n",
       "<polyline clip-path=\"url(#clip880)\" style=\"stroke:#000000; stroke-linecap:butt; stroke-linejoin:round; stroke-width:4; stroke-opacity:1; fill:none\" points=\"\n",
       "  2347.99,3013.49 2347.99,2994.6 \n",
       "  \"/>\n",
       "<path clip-path=\"url(#clip880)\" d=\"M435.68 3094.36 L443.319 3094.36 L443.319 3067.99 L435.008 3069.66 L435.008 3065.4 L443.272 3063.73 L447.948 3063.73 L447.948 3094.36 L455.587 3094.36 L455.587 3098.29 L435.68 3098.29 L435.68 3094.36 Z\" fill=\"#000000\" fill-rule=\"evenodd\" fill-opacity=\"1\" /><path clip-path=\"url(#clip880)\" d=\"M820.49 3094.36 L836.809 3094.36 L836.809 3098.29 L814.865 3098.29 L814.865 3094.36 Q817.527 3091.6 822.11 3086.97 Q826.717 3082.32 827.897 3080.98 Q830.142 3078.46 831.022 3076.72 Q831.925 3074.96 831.925 3073.27 Q831.925 3070.52 829.98 3068.78 Q828.059 3067.04 824.957 3067.04 Q822.758 3067.04 820.305 3067.81 Q817.874 3068.57 815.096 3070.12 L815.096 3065.4 Q817.92 3064.27 820.374 3063.69 Q822.828 3063.11 824.865 3063.11 Q830.235 3063.11 833.429 3065.79 Q836.624 3068.48 836.624 3072.97 Q836.624 3075.1 835.814 3077.02 Q835.027 3078.92 832.92 3081.51 Q832.341 3082.18 829.24 3085.4 Q826.138 3088.59 820.49 3094.36 Z\" fill=\"#000000\" fill-rule=\"evenodd\" fill-opacity=\"1\" /><path clip-path=\"url(#clip880)\" d=\"M1210.62 3079.66 Q1213.98 3080.38 1215.86 3082.65 Q1217.75 3084.91 1217.75 3088.25 Q1217.75 3093.36 1214.23 3096.16 Q1210.72 3098.96 1204.23 3098.96 Q1202.06 3098.96 1199.74 3098.53 Q1197.45 3098.11 1195 3097.25 L1195 3092.74 Q1196.94 3093.87 1199.26 3094.45 Q1201.57 3095.03 1204.1 3095.03 Q1208.49 3095.03 1210.79 3093.29 Q1213.1 3091.56 1213.1 3088.25 Q1213.1 3085.19 1210.95 3083.48 Q1208.82 3081.74 1205 3081.74 L1200.97 3081.74 L1200.97 3077.9 L1205.18 3077.9 Q1208.63 3077.9 1210.46 3076.53 Q1212.29 3075.15 1212.29 3072.55 Q1212.29 3069.89 1210.39 3068.48 Q1208.52 3067.04 1205 3067.04 Q1203.08 3067.04 1200.88 3067.46 Q1198.68 3067.88 1196.04 3068.76 L1196.04 3064.59 Q1198.7 3063.85 1201.02 3063.48 Q1203.36 3063.11 1205.42 3063.11 Q1210.74 3063.11 1213.84 3065.54 Q1216.94 3067.95 1216.94 3072.07 Q1216.94 3074.94 1215.3 3076.93 Q1213.66 3078.9 1210.62 3079.66 Z\" fill=\"#000000\" fill-rule=\"evenodd\" fill-opacity=\"1\" /><path clip-path=\"url(#clip880)\" d=\"M1589.92 3067.81 L1578.12 3086.26 L1589.92 3086.26 L1589.92 3067.81 M1588.7 3063.73 L1594.58 3063.73 L1594.58 3086.26 L1599.51 3086.26 L1599.51 3090.15 L1594.58 3090.15 L1594.58 3098.29 L1589.92 3098.29 L1589.92 3090.15 L1574.32 3090.15 L1574.32 3085.63 L1588.7 3063.73 Z\" fill=\"#000000\" fill-rule=\"evenodd\" fill-opacity=\"1\" /><path clip-path=\"url(#clip880)\" d=\"M1957.73 3063.73 L1976.09 3063.73 L1976.09 3067.67 L1962.01 3067.67 L1962.01 3076.14 Q1963.03 3075.79 1964.05 3075.63 Q1965.07 3075.45 1966.09 3075.45 Q1971.88 3075.45 1975.26 3078.62 Q1978.63 3081.79 1978.63 3087.21 Q1978.63 3092.78 1975.16 3095.89 Q1971.69 3098.96 1965.37 3098.96 Q1963.2 3098.96 1960.93 3098.59 Q1958.68 3098.22 1956.27 3097.48 L1956.27 3092.78 Q1958.36 3093.92 1960.58 3094.47 Q1962.8 3095.03 1965.28 3095.03 Q1969.28 3095.03 1971.62 3092.92 Q1973.96 3090.82 1973.96 3087.21 Q1973.96 3083.59 1971.62 3081.49 Q1969.28 3079.38 1965.28 3079.38 Q1963.4 3079.38 1961.53 3079.8 Q1959.68 3080.22 1957.73 3081.09 L1957.73 3063.73 Z\" fill=\"#000000\" fill-rule=\"evenodd\" fill-opacity=\"1\" /><path clip-path=\"url(#clip880)\" d=\"M2348.4 3079.15 Q2345.25 3079.15 2343.4 3081.3 Q2341.57 3083.46 2341.57 3087.21 Q2341.57 3090.93 2343.4 3093.11 Q2345.25 3095.26 2348.4 3095.26 Q2351.55 3095.26 2353.38 3093.11 Q2355.23 3090.93 2355.23 3087.21 Q2355.23 3083.46 2353.38 3081.3 Q2351.55 3079.15 2348.4 3079.15 M2357.68 3064.5 L2357.68 3068.76 Q2355.92 3067.92 2354.12 3067.48 Q2352.33 3067.04 2350.57 3067.04 Q2345.94 3067.04 2343.49 3070.17 Q2341.06 3073.29 2340.71 3079.61 Q2342.08 3077.6 2344.14 3076.53 Q2346.2 3075.45 2348.68 3075.45 Q2353.88 3075.45 2356.89 3078.62 Q2359.93 3081.77 2359.93 3087.21 Q2359.93 3092.53 2356.78 3095.75 Q2353.63 3098.96 2348.4 3098.96 Q2342.4 3098.96 2339.23 3094.38 Q2336.06 3089.78 2336.06 3081.05 Q2336.06 3072.85 2339.95 3067.99 Q2343.84 3063.11 2350.39 3063.11 Q2352.15 3063.11 2353.93 3063.46 Q2355.74 3063.8 2357.68 3064.5 Z\" fill=\"#000000\" fill-rule=\"evenodd\" fill-opacity=\"1\" /><path clip-path=\"url(#clip880)\" d=\"M1122.93 3152.84 L1129.36 3152.84 L1129.36 3172.92 L1150.69 3152.84 L1158.96 3152.84 L1135.38 3174.99 L1160.65 3200.36 L1152.18 3200.36 L1129.36 3177.47 L1129.36 3200.36 L1122.93 3200.36 L1122.93 3152.84 Z\" fill=\"#000000\" fill-rule=\"evenodd\" fill-opacity=\"1\" /><path clip-path=\"url(#clip880)\" d=\"M1180.48 3182.44 Q1173.38 3182.44 1170.64 3184.06 Q1167.9 3185.68 1167.9 3189.6 Q1167.9 3192.72 1169.94 3194.56 Q1172.01 3196.38 1175.54 3196.38 Q1180.41 3196.38 1183.34 3192.94 Q1186.3 3189.47 1186.3 3183.74 L1186.3 3182.44 L1180.48 3182.44 M1192.16 3180.02 L1192.16 3200.36 L1186.3 3200.36 L1186.3 3194.95 Q1184.3 3198.19 1181.3 3199.75 Q1178.31 3201.28 1173.98 3201.28 Q1168.51 3201.28 1165.26 3198.23 Q1162.05 3195.14 1162.05 3189.98 Q1162.05 3183.97 1166.06 3180.91 Q1170.1 3177.85 1178.09 3177.85 L1186.3 3177.85 L1186.3 3177.28 Q1186.3 3173.24 1183.63 3171.04 Q1180.99 3168.82 1176.18 3168.82 Q1173.12 3168.82 1170.23 3169.55 Q1167.33 3170.28 1164.66 3171.74 L1164.66 3166.33 Q1167.87 3165.09 1170.9 3164.49 Q1173.92 3163.85 1176.79 3163.85 Q1184.52 3163.85 1188.34 3167.86 Q1192.16 3171.87 1192.16 3180.02 Z\" fill=\"#000000\" fill-rule=\"evenodd\" fill-opacity=\"1\" /><path clip-path=\"url(#clip880)\" d=\"M1233.85 3178.84 L1233.85 3200.36 L1228 3200.36 L1228 3179.03 Q1228 3173.97 1226.02 3171.46 Q1224.05 3168.94 1220.1 3168.94 Q1215.36 3168.94 1212.62 3171.97 Q1209.89 3174.99 1209.89 3180.21 L1209.89 3200.36 L1204 3200.36 L1204 3150.83 L1209.89 3150.83 L1209.89 3170.25 Q1211.99 3167.03 1214.82 3165.44 Q1217.68 3163.85 1221.41 3163.85 Q1227.55 3163.85 1230.7 3167.67 Q1233.85 3171.46 1233.85 3178.84 Z\" fill=\"#000000\" fill-rule=\"evenodd\" fill-opacity=\"1\" /><path clip-path=\"url(#clip880)\" d=\"M1261.74 3182.44 Q1254.64 3182.44 1251.9 3184.06 Q1249.16 3185.68 1249.16 3189.6 Q1249.16 3192.72 1251.2 3194.56 Q1253.27 3196.38 1256.8 3196.38 Q1261.67 3196.38 1264.6 3192.94 Q1267.56 3189.47 1267.56 3183.74 L1267.56 3182.44 L1261.74 3182.44 M1273.42 3180.02 L1273.42 3200.36 L1267.56 3200.36 L1267.56 3194.95 Q1265.55 3198.19 1262.56 3199.75 Q1259.57 3201.28 1255.24 3201.28 Q1249.77 3201.28 1246.52 3198.23 Q1243.31 3195.14 1243.31 3189.98 Q1243.31 3183.97 1247.32 3180.91 Q1251.36 3177.85 1259.35 3177.85 L1267.56 3177.85 L1267.56 3177.28 Q1267.56 3173.24 1264.89 3171.04 Q1262.24 3168.82 1257.44 3168.82 Q1254.38 3168.82 1251.49 3169.55 Q1248.59 3170.28 1245.92 3171.74 L1245.92 3166.33 Q1249.13 3165.09 1252.15 3164.49 Q1255.18 3163.85 1258.04 3163.85 Q1265.78 3163.85 1269.6 3167.86 Q1273.42 3171.87 1273.42 3180.02 Z\" fill=\"#000000\" fill-rule=\"evenodd\" fill-opacity=\"1\" /><path clip-path=\"url(#clip880)\" d=\"M1315.11 3178.84 L1315.11 3200.36 L1309.26 3200.36 L1309.26 3179.03 Q1309.26 3173.97 1307.28 3171.46 Q1305.31 3168.94 1301.36 3168.94 Q1296.62 3168.94 1293.88 3171.97 Q1291.14 3174.99 1291.14 3180.21 L1291.14 3200.36 L1285.26 3200.36 L1285.26 3164.71 L1291.14 3164.71 L1291.14 3170.25 Q1293.25 3167.03 1296.08 3165.44 Q1298.94 3163.85 1302.67 3163.85 Q1308.81 3163.85 1311.96 3167.67 Q1315.11 3171.46 1315.11 3178.84 Z\" fill=\"#000000\" fill-rule=\"evenodd\" fill-opacity=\"1\" /><path clip-path=\"url(#clip880)\" d=\"M1375.27 3171.55 Q1377.46 3167.61 1380.52 3165.73 Q1383.57 3163.85 1387.71 3163.85 Q1393.28 3163.85 1396.31 3167.77 Q1399.33 3171.65 1399.33 3178.84 L1399.33 3200.36 L1393.44 3200.36 L1393.44 3179.03 Q1393.44 3173.91 1391.63 3171.43 Q1389.81 3168.94 1386.09 3168.94 Q1381.54 3168.94 1378.9 3171.97 Q1376.25 3174.99 1376.25 3180.21 L1376.25 3200.36 L1370.37 3200.36 L1370.37 3179.03 Q1370.37 3173.88 1368.55 3171.43 Q1366.74 3168.94 1362.95 3168.94 Q1358.46 3168.94 1355.82 3172 Q1353.18 3175.02 1353.18 3180.21 L1353.18 3200.36 L1347.29 3200.36 L1347.29 3164.71 L1353.18 3164.71 L1353.18 3170.25 Q1355.18 3166.97 1357.98 3165.41 Q1360.79 3163.85 1364.64 3163.85 Q1368.52 3163.85 1371.23 3165.82 Q1373.96 3167.8 1375.27 3171.55 Z\" fill=\"#000000\" fill-rule=\"evenodd\" fill-opacity=\"1\" /><path clip-path=\"url(#clip880)\" d=\"M1427.21 3182.44 Q1420.11 3182.44 1417.38 3184.06 Q1414.64 3185.68 1414.64 3189.6 Q1414.64 3192.72 1416.68 3194.56 Q1418.75 3196.38 1422.28 3196.38 Q1427.15 3196.38 1430.08 3192.94 Q1433.04 3189.47 1433.04 3183.74 L1433.04 3182.44 L1427.21 3182.44 M1438.89 3180.02 L1438.89 3200.36 L1433.04 3200.36 L1433.04 3194.95 Q1431.03 3198.19 1428.04 3199.75 Q1425.05 3201.28 1420.72 3201.28 Q1415.24 3201.28 1412 3198.23 Q1408.78 3195.14 1408.78 3189.98 Q1408.78 3183.97 1412.79 3180.91 Q1416.84 3177.85 1424.82 3177.85 L1433.04 3177.85 L1433.04 3177.28 Q1433.04 3173.24 1430.36 3171.04 Q1427.72 3168.82 1422.92 3168.82 Q1419.86 3168.82 1416.96 3169.55 Q1414.07 3170.28 1411.39 3171.74 L1411.39 3166.33 Q1414.61 3165.09 1417.63 3164.49 Q1420.66 3163.85 1423.52 3163.85 Q1431.25 3163.85 1435.07 3167.86 Q1438.89 3171.87 1438.89 3180.02 Z\" fill=\"#000000\" fill-rule=\"evenodd\" fill-opacity=\"1\" /><path clip-path=\"url(#clip880)\" d=\"M1456.75 3154.59 L1456.75 3164.71 L1468.81 3164.71 L1468.81 3169.26 L1456.75 3169.26 L1456.75 3188.61 Q1456.75 3192.97 1457.93 3194.21 Q1459.14 3195.46 1462.8 3195.46 L1468.81 3195.46 L1468.81 3200.36 L1462.8 3200.36 Q1456.02 3200.36 1453.44 3197.84 Q1450.86 3195.3 1450.86 3188.61 L1450.86 3169.26 L1446.56 3169.26 L1446.56 3164.71 L1450.86 3164.71 L1450.86 3154.59 L1456.75 3154.59 Z\" fill=\"#000000\" fill-rule=\"evenodd\" fill-opacity=\"1\" /><path clip-path=\"url(#clip880)\" d=\"M1497.17 3170.18 Q1496.18 3169.61 1495.01 3169.36 Q1493.86 3169.07 1492.46 3169.07 Q1487.5 3169.07 1484.82 3172.32 Q1482.18 3175.53 1482.18 3181.58 L1482.18 3200.36 L1476.29 3200.36 L1476.29 3164.71 L1482.18 3164.71 L1482.18 3170.25 Q1484.03 3167 1486.99 3165.44 Q1489.95 3163.85 1494.18 3163.85 Q1494.78 3163.85 1495.52 3163.95 Q1496.25 3164.01 1497.14 3164.17 L1497.17 3170.18 Z\" fill=\"#000000\" fill-rule=\"evenodd\" fill-opacity=\"1\" /><path clip-path=\"url(#clip880)\" d=\"M1503.31 3164.71 L1509.17 3164.71 L1509.17 3200.36 L1503.31 3200.36 L1503.31 3164.71 M1503.31 3150.83 L1509.17 3150.83 L1509.17 3158.25 L1503.31 3158.25 L1503.31 3150.83 Z\" fill=\"#000000\" fill-rule=\"evenodd\" fill-opacity=\"1\" /><path clip-path=\"url(#clip880)\" d=\"M1551.06 3164.71 L1538.17 3182.06 L1551.73 3200.36 L1544.82 3200.36 L1534.44 3186.35 L1524.07 3200.36 L1517.16 3200.36 L1531 3181.71 L1518.34 3164.71 L1525.24 3164.71 L1534.7 3177.41 L1544.15 3164.71 L1551.06 3164.71 Z\" fill=\"#000000\" fill-rule=\"evenodd\" fill-opacity=\"1\" /><path clip-path=\"url(#clip880)\" d=\"M1604.66 3177.76 L1584.38 3177.76 Q1584.86 3187.28 1587.05 3191.32 Q1589.79 3196.28 1594.53 3196.28 Q1599.31 3196.28 1601.95 3191.29 Q1604.27 3186.89 1604.66 3177.76 M1604.56 3172.35 Q1603.67 3163.31 1601.95 3160.13 Q1599.21 3155.1 1594.53 3155.1 Q1589.66 3155.1 1587.09 3160.06 Q1585.05 3164.07 1584.44 3172.35 L1604.56 3172.35 M1594.53 3150.32 Q1602.17 3150.32 1606.53 3157.07 Q1610.89 3163.79 1610.89 3175.69 Q1610.89 3187.56 1606.53 3194.31 Q1602.17 3201.09 1594.53 3201.09 Q1586.86 3201.09 1582.54 3194.31 Q1578.17 3187.56 1578.17 3175.69 Q1578.17 3163.79 1582.54 3157.07 Q1586.86 3150.32 1594.53 3150.32 Z\" fill=\"#000000\" fill-rule=\"evenodd\" fill-opacity=\"1\" /><path clip-path=\"url(#clip880)\" d=\"M1618.82 3166.14 L1644.51 3166.14 L1644.51 3169.17 L1618.82 3169.17 L1618.82 3166.14 Z\" fill=\"#000000\" fill-rule=\"evenodd\" fill-opacity=\"1\" /><path clip-path=\"url(#clip880)\" d=\"M1653.83 3175.6 L1660.32 3175.6 L1660.32 3156.15 L1653.23 3157.45 L1653.23 3153.76 L1660.55 3152.52 L1664.91 3152.52 L1664.91 3175.6 L1671.43 3175.6 L1671.43 3179.1 L1653.83 3179.1 L1653.83 3175.6 Z\" fill=\"#000000\" fill-rule=\"evenodd\" fill-opacity=\"1\" /><polyline clip-path=\"url(#clip882)\" style=\"stroke:#000000; stroke-linecap:butt; stroke-linejoin:round; stroke-width:2; stroke-opacity:0.1; fill:none\" points=\"\n",
       "  241.607,1752.19 2552.76,1752.19 \n",
       "  \"/>\n",
       "<polyline clip-path=\"url(#clip882)\" style=\"stroke:#000000; stroke-linecap:butt; stroke-linejoin:round; stroke-width:2; stroke-opacity:0.1; fill:none\" points=\"\n",
       "  241.607,166.552 2552.76,166.552 \n",
       "  \"/>\n",
       "<polyline clip-path=\"url(#clip880)\" style=\"stroke:#000000; stroke-linecap:butt; stroke-linejoin:round; stroke-width:4; stroke-opacity:1; fill:none\" points=\"\n",
       "  241.607,3013.49 241.607,118.82 \n",
       "  \"/>\n",
       "<polyline clip-path=\"url(#clip880)\" style=\"stroke:#000000; stroke-linecap:butt; stroke-linejoin:round; stroke-width:4; stroke-opacity:1; fill:none\" points=\"\n",
       "  241.607,1752.19 260.505,1752.19 \n",
       "  \"/>\n",
       "<polyline clip-path=\"url(#clip880)\" style=\"stroke:#000000; stroke-linecap:butt; stroke-linejoin:round; stroke-width:4; stroke-opacity:1; fill:none\" points=\"\n",
       "  241.607,166.552 260.505,166.552 \n",
       "  \"/>\n",
       "<path clip-path=\"url(#clip880)\" d=\"M37.6634 1771.98 L45.3023 1771.98 L45.3023 1745.61 L36.9921 1747.28 L36.9921 1743.02 L45.256 1741.35 L49.9319 1741.35 L49.9319 1771.98 L57.5707 1771.98 L57.5707 1775.91 L37.6634 1775.91 L37.6634 1771.98 Z\" fill=\"#000000\" fill-rule=\"evenodd\" fill-opacity=\"1\" /><path clip-path=\"url(#clip880)\" d=\"M77.0151 1744.43 Q73.404 1744.43 71.5753 1748 Q69.7697 1751.54 69.7697 1758.67 Q69.7697 1765.78 71.5753 1769.34 Q73.404 1772.88 77.0151 1772.88 Q80.6493 1772.88 82.4548 1769.34 Q84.2835 1765.78 84.2835 1758.67 Q84.2835 1751.54 82.4548 1748 Q80.6493 1744.43 77.0151 1744.43 M77.0151 1740.73 Q82.8252 1740.73 85.8808 1745.34 Q88.9594 1749.92 88.9594 1758.67 Q88.9594 1767.4 85.8808 1772 Q82.8252 1776.59 77.0151 1776.59 Q71.2049 1776.59 68.1262 1772 Q65.0707 1767.4 65.0707 1758.67 Q65.0707 1749.92 68.1262 1745.34 Q71.2049 1740.73 77.0151 1740.73 Z\" fill=\"#000000\" fill-rule=\"evenodd\" fill-opacity=\"1\" /><path clip-path=\"url(#clip880)\" d=\"M88.9594 1734.83 L113.071 1734.83 L113.071 1738.03 L88.9594 1738.03 L88.9594 1734.83 Z\" fill=\"#000000\" fill-rule=\"evenodd\" fill-opacity=\"1\" /><path clip-path=\"url(#clip880)\" d=\"M121.929 1745.31 L128.136 1745.31 L128.136 1723.88 L121.384 1725.24 L121.384 1721.78 L128.098 1720.42 L131.898 1720.42 L131.898 1745.31 L138.104 1745.31 L138.104 1748.5 L121.929 1748.5 L121.929 1745.31 Z\" fill=\"#000000\" fill-rule=\"evenodd\" fill-opacity=\"1\" /><path clip-path=\"url(#clip880)\" d=\"M153.903 1722.93 Q150.969 1722.93 149.483 1725.82 Q148.016 1728.7 148.016 1734.49 Q148.016 1740.27 149.483 1743.16 Q150.969 1746.04 153.903 1746.04 Q156.855 1746.04 158.322 1743.16 Q159.808 1740.27 159.808 1734.49 Q159.808 1728.7 158.322 1725.82 Q156.855 1722.93 153.903 1722.93 M153.903 1719.92 Q158.623 1719.92 161.106 1723.66 Q163.607 1727.38 163.607 1734.49 Q163.607 1741.58 161.106 1745.33 Q158.623 1749.05 153.903 1749.05 Q149.182 1749.05 146.68 1745.33 Q144.198 1741.58 144.198 1734.49 Q144.198 1727.38 146.68 1723.66 Q149.182 1719.92 153.903 1719.92 Z\" fill=\"#000000\" fill-rule=\"evenodd\" fill-opacity=\"1\" /><path clip-path=\"url(#clip880)\" d=\"M92.9018 186.345 L100.541 186.345 L100.541 159.979 L92.2305 161.646 L92.2305 157.386 L100.494 155.72 L105.17 155.72 L105.17 186.345 L112.809 186.345 L112.809 190.28 L92.9018 190.28 L92.9018 186.345 Z\" fill=\"#000000\" fill-rule=\"evenodd\" fill-opacity=\"1\" /><path clip-path=\"url(#clip880)\" d=\"M132.253 158.798 Q128.642 158.798 126.814 162.363 Q125.008 165.905 125.008 173.034 Q125.008 180.141 126.814 183.706 Q128.642 187.247 132.253 187.247 Q135.888 187.247 137.693 183.706 Q139.522 180.141 139.522 173.034 Q139.522 165.905 137.693 162.363 Q135.888 158.798 132.253 158.798 M132.253 155.095 Q138.064 155.095 141.119 159.701 Q144.198 164.285 144.198 173.034 Q144.198 181.761 141.119 186.368 Q138.064 190.951 132.253 190.951 Q126.443 190.951 123.365 186.368 Q120.309 181.761 120.309 173.034 Q120.309 164.285 123.365 159.701 Q126.443 155.095 132.253 155.095 Z\" fill=\"#000000\" fill-rule=\"evenodd\" fill-opacity=\"1\" /><path clip-path=\"url(#clip880)\" d=\"M153.903 137.291 Q150.969 137.291 149.483 140.187 Q148.016 143.065 148.016 148.858 Q148.016 154.632 149.483 157.528 Q150.969 160.406 153.903 160.406 Q156.855 160.406 158.322 157.528 Q159.808 154.632 159.808 148.858 Q159.808 143.065 158.322 140.187 Q156.855 137.291 153.903 137.291 M153.903 134.282 Q158.623 134.282 161.106 138.024 Q163.607 141.748 163.607 148.858 Q163.607 155.948 161.106 159.691 Q158.623 163.415 153.903 163.415 Q149.182 163.415 146.68 159.691 Q144.198 155.948 144.198 148.858 Q144.198 141.748 146.68 138.024 Q149.182 134.282 153.903 134.282 Z\" fill=\"#000000\" fill-rule=\"evenodd\" fill-opacity=\"1\" /><path clip-path=\"url(#clip880)\" d=\"M1046.07 45.1919 L1046.07 72.576 L1038.62 72.576 L1038.62 45.4349 Q1038.62 38.994 1036.1 35.7938 Q1033.59 32.5936 1028.57 32.5936 Q1022.53 32.5936 1019.05 36.4419 Q1015.57 40.2903 1015.57 46.9338 L1015.57 72.576 L1008.07 72.576 L1008.07 9.54393 L1015.57 9.54393 L1015.57 34.2544 Q1018.24 30.163 1021.85 28.1376 Q1025.49 26.1121 1030.23 26.1121 Q1038.05 26.1121 1042.06 30.9732 Q1046.07 35.7938 1046.07 45.1919 Z\" fill=\"#000000\" fill-rule=\"evenodd\" fill-opacity=\"1\" /><path clip-path=\"url(#clip880)\" d=\"M1078.52 32.4315 Q1072.52 32.4315 1069.04 37.1306 Q1065.55 41.7891 1065.55 49.9314 Q1065.55 58.0738 1069 62.7728 Q1072.48 67.4314 1078.52 67.4314 Q1084.47 67.4314 1087.96 62.7323 Q1091.44 58.0333 1091.44 49.9314 Q1091.44 41.8701 1087.96 37.1711 Q1084.47 32.4315 1078.52 32.4315 M1078.52 26.1121 Q1088.24 26.1121 1093.79 32.4315 Q1099.34 38.7509 1099.34 49.9314 Q1099.34 61.0714 1093.79 67.4314 Q1088.24 73.7508 1078.52 73.7508 Q1068.75 73.7508 1063.2 67.4314 Q1057.7 61.0714 1057.7 49.9314 Q1057.7 38.7509 1063.2 32.4315 Q1068.75 26.1121 1078.52 26.1121 Z\" fill=\"#000000\" fill-rule=\"evenodd\" fill-opacity=\"1\" /><path clip-path=\"url(#clip880)\" d=\"M1110.92 54.671 L1110.92 27.2059 L1118.38 27.2059 L1118.38 54.3874 Q1118.38 60.8284 1120.89 64.0691 Q1123.4 67.2693 1128.42 67.2693 Q1134.46 67.2693 1137.94 63.421 Q1141.47 59.5726 1141.47 52.9291 L1141.47 27.2059 L1148.92 27.2059 L1148.92 72.576 L1141.47 72.576 L1141.47 65.6084 Q1138.75 69.7404 1135.15 71.7658 Q1131.58 73.7508 1126.84 73.7508 Q1119.03 73.7508 1114.98 68.8897 Q1110.92 64.0286 1110.92 54.671 M1129.68 26.1121 L1129.68 26.1121 Z\" fill=\"#000000\" fill-rule=\"evenodd\" fill-opacity=\"1\" /><path clip-path=\"url(#clip880)\" d=\"M1193.2 28.5427 L1193.2 35.5912 Q1190.04 33.9709 1186.64 33.1607 Q1183.23 32.3505 1179.59 32.3505 Q1174.04 32.3505 1171.24 34.0519 Q1168.49 35.7533 1168.49 39.156 Q1168.49 41.7486 1170.47 43.2475 Q1172.46 44.7058 1178.45 46.0426 L1181.01 46.6097 Q1188.94 48.3111 1192.27 51.4303 Q1195.63 54.509 1195.63 60.0587 Q1195.63 66.3781 1190.61 70.0644 Q1185.62 73.7508 1176.87 73.7508 Q1173.23 73.7508 1169.26 73.0216 Q1165.33 72.3329 1160.95 70.9151 L1160.95 63.2184 Q1165.09 65.3654 1169.1 66.4591 Q1173.11 67.5124 1177.04 67.5124 Q1182.3 67.5124 1185.14 65.73 Q1187.97 63.9071 1187.97 60.6258 Q1187.97 57.5877 1185.91 55.9673 Q1183.88 54.3469 1176.95 52.8481 L1174.36 52.2405 Q1167.43 50.7821 1164.36 47.7845 Q1161.28 44.7463 1161.28 39.4801 Q1161.28 33.0797 1165.81 29.5959 Q1170.35 26.1121 1178.7 26.1121 Q1182.83 26.1121 1186.47 26.7198 Q1190.12 27.3274 1193.2 28.5427 Z\" fill=\"#000000\" fill-rule=\"evenodd\" fill-opacity=\"1\" /><path clip-path=\"url(#clip880)\" d=\"M1246.31 48.0275 L1246.31 51.6733 L1212.04 51.6733 Q1212.52 59.3701 1216.65 63.421 Q1220.83 67.4314 1228.24 67.4314 Q1232.53 67.4314 1236.54 66.3781 Q1240.59 65.3249 1244.56 63.2184 L1244.56 70.267 Q1240.55 71.9684 1236.34 72.8596 Q1232.13 73.7508 1227.79 73.7508 Q1216.94 73.7508 1210.58 67.4314 Q1204.26 61.1119 1204.26 50.3365 Q1204.26 39.1965 1210.25 32.6746 Q1216.29 26.1121 1226.5 26.1121 Q1235.65 26.1121 1240.96 32.0264 Q1246.31 37.9003 1246.31 48.0275 M1238.85 45.84 Q1238.77 39.7232 1235.41 36.0774 Q1232.09 32.4315 1226.58 32.4315 Q1220.34 32.4315 1216.57 35.9558 Q1212.85 39.4801 1212.28 45.8805 L1238.85 45.84 Z\" fill=\"#000000\" fill-rule=\"evenodd\" fill-opacity=\"1\" /><path clip-path=\"url(#clip880)\" d=\"M1296.25 45.1919 L1296.25 72.576 L1288.8 72.576 L1288.8 45.4349 Q1288.8 38.994 1286.29 35.7938 Q1283.78 32.5936 1278.75 32.5936 Q1272.72 32.5936 1269.23 36.4419 Q1265.75 40.2903 1265.75 46.9338 L1265.75 72.576 L1258.26 72.576 L1258.26 9.54393 L1265.75 9.54393 L1265.75 34.2544 Q1268.42 30.163 1272.03 28.1376 Q1275.67 26.1121 1280.41 26.1121 Q1288.23 26.1121 1292.24 30.9732 Q1296.25 35.7938 1296.25 45.1919 Z\" fill=\"#000000\" fill-rule=\"evenodd\" fill-opacity=\"1\" /><path clip-path=\"url(#clip880)\" d=\"M1328.7 32.4315 Q1322.71 32.4315 1319.22 37.1306 Q1315.74 41.7891 1315.74 49.9314 Q1315.74 58.0738 1319.18 62.7728 Q1322.67 67.4314 1328.7 67.4314 Q1334.66 67.4314 1338.14 62.7323 Q1341.62 58.0333 1341.62 49.9314 Q1341.62 41.8701 1338.14 37.1711 Q1334.66 32.4315 1328.7 32.4315 M1328.7 26.1121 Q1338.42 26.1121 1343.97 32.4315 Q1349.52 38.7509 1349.52 49.9314 Q1349.52 61.0714 1343.97 67.4314 Q1338.42 73.7508 1328.7 73.7508 Q1318.94 73.7508 1313.39 67.4314 Q1307.88 61.0714 1307.88 49.9314 Q1307.88 38.7509 1313.39 32.4315 Q1318.94 26.1121 1328.7 26.1121 Z\" fill=\"#000000\" fill-rule=\"evenodd\" fill-opacity=\"1\" /><path clip-path=\"url(#clip880)\" d=\"M1361.88 9.54393 L1369.33 9.54393 L1369.33 72.576 L1361.88 72.576 L1361.88 9.54393 Z\" fill=\"#000000\" fill-rule=\"evenodd\" fill-opacity=\"1\" /><path clip-path=\"url(#clip880)\" d=\"M1414.78 34.0924 L1414.78 9.54393 L1422.24 9.54393 L1422.24 72.576 L1414.78 72.576 L1414.78 65.7705 Q1412.43 69.8214 1408.83 71.8063 Q1405.26 73.7508 1400.24 73.7508 Q1392.02 73.7508 1386.83 67.1883 Q1381.69 60.6258 1381.69 49.9314 Q1381.69 39.2371 1386.83 32.6746 Q1392.02 26.1121 1400.24 26.1121 Q1405.26 26.1121 1408.83 28.0971 Q1412.43 30.0415 1414.78 34.0924 M1389.38 49.9314 Q1389.38 58.1548 1392.75 62.8538 Q1396.15 67.5124 1402.06 67.5124 Q1407.98 67.5124 1411.38 62.8538 Q1414.78 58.1548 1414.78 49.9314 Q1414.78 41.7081 1411.38 37.0496 Q1407.98 32.3505 1402.06 32.3505 Q1396.15 32.3505 1392.75 37.0496 Q1389.38 41.7081 1389.38 49.9314 Z\" fill=\"#000000\" fill-rule=\"evenodd\" fill-opacity=\"1\" /><path clip-path=\"url(#clip880)\" d=\"M1476.4 48.0275 L1476.4 51.6733 L1442.13 51.6733 Q1442.61 59.3701 1446.74 63.421 Q1450.92 67.4314 1458.33 67.4314 Q1462.62 67.4314 1466.63 66.3781 Q1470.69 65.3249 1474.66 63.2184 L1474.66 70.267 Q1470.64 71.9684 1466.43 72.8596 Q1462.22 73.7508 1457.88 73.7508 Q1447.03 73.7508 1440.67 67.4314 Q1434.35 61.1119 1434.35 50.3365 Q1434.35 39.1965 1440.34 32.6746 Q1446.38 26.1121 1456.59 26.1121 Q1465.74 26.1121 1471.05 32.0264 Q1476.4 37.9003 1476.4 48.0275 M1468.94 45.84 Q1468.86 39.7232 1465.5 36.0774 Q1462.18 32.4315 1456.67 32.4315 Q1450.43 32.4315 1446.66 35.9558 Q1442.94 39.4801 1442.37 45.8805 L1468.94 45.84 Z\" fill=\"#000000\" fill-rule=\"evenodd\" fill-opacity=\"1\" /><path clip-path=\"url(#clip880)\" d=\"M1514.92 34.1734 Q1513.67 33.4443 1512.17 33.1202 Q1510.71 32.7556 1508.93 32.7556 Q1502.61 32.7556 1499.2 36.8875 Q1495.84 40.9789 1495.84 48.6757 L1495.84 72.576 L1488.35 72.576 L1488.35 27.2059 L1495.84 27.2059 L1495.84 34.2544 Q1498.19 30.1225 1501.96 28.1376 Q1505.73 26.1121 1511.11 26.1121 Q1511.88 26.1121 1512.81 26.2337 Q1513.75 26.3147 1514.88 26.5172 L1514.92 34.1734 Z\" fill=\"#000000\" fill-rule=\"evenodd\" fill-opacity=\"1\" /><path clip-path=\"url(#clip880)\" d=\"M1557.21 86.3491 L1557.21 92.1419 L1514.11 92.1419 L1514.11 86.3491 L1557.21 86.3491 Z\" fill=\"#000000\" fill-rule=\"evenodd\" fill-opacity=\"1\" /><path clip-path=\"url(#clip880)\" d=\"M1564.22 9.54393 L1571.67 9.54393 L1571.67 72.576 L1564.22 72.576 L1564.22 9.54393 Z\" fill=\"#000000\" fill-rule=\"evenodd\" fill-opacity=\"1\" /><path clip-path=\"url(#clip880)\" d=\"M1587.27 27.2059 L1594.72 27.2059 L1594.72 72.576 L1587.27 72.576 L1587.27 27.2059 M1587.27 9.54393 L1594.72 9.54393 L1594.72 18.9825 L1587.27 18.9825 L1587.27 9.54393 Z\" fill=\"#000000\" fill-rule=\"evenodd\" fill-opacity=\"1\" /><path clip-path=\"url(#clip880)\" d=\"M1617.69 14.324 L1617.69 27.2059 L1633.05 27.2059 L1633.05 32.9987 L1617.69 32.9987 L1617.69 57.6282 Q1617.69 63.1779 1619.19 64.7578 Q1620.73 66.3376 1625.39 66.3376 L1633.05 66.3376 L1633.05 72.576 L1625.39 72.576 Q1616.76 72.576 1613.48 69.3758 Q1610.2 66.1351 1610.2 57.6282 L1610.2 32.9987 L1604.73 32.9987 L1604.73 27.2059 L1610.2 27.2059 L1610.2 14.324 L1617.69 14.324 Z\" fill=\"#000000\" fill-rule=\"evenodd\" fill-opacity=\"1\" /><path clip-path=\"url(#clip880)\" d=\"M1681.66 48.0275 L1681.66 51.6733 L1647.39 51.6733 Q1647.87 59.3701 1652 63.421 Q1656.18 67.4314 1663.59 67.4314 Q1667.88 67.4314 1671.89 66.3781 Q1675.94 65.3249 1679.91 63.2184 L1679.91 70.267 Q1675.9 71.9684 1671.69 72.8596 Q1667.48 73.7508 1663.14 73.7508 Q1652.29 73.7508 1645.93 67.4314 Q1639.61 61.1119 1639.61 50.3365 Q1639.61 39.1965 1645.6 32.6746 Q1651.64 26.1121 1661.85 26.1121 Q1671 26.1121 1676.31 32.0264 Q1681.66 37.9003 1681.66 48.0275 M1674.2 45.84 Q1674.12 39.7232 1670.76 36.0774 Q1667.44 32.4315 1661.93 32.4315 Q1655.69 32.4315 1651.92 35.9558 Q1648.2 39.4801 1647.63 45.8805 L1674.2 45.84 Z\" fill=\"#000000\" fill-rule=\"evenodd\" fill-opacity=\"1\" /><path clip-path=\"url(#clip880)\" d=\"M1720.18 34.1734 Q1718.92 33.4443 1717.43 33.1202 Q1715.97 32.7556 1714.19 32.7556 Q1707.87 32.7556 1704.46 36.8875 Q1701.1 40.9789 1701.1 48.6757 L1701.1 72.576 L1693.61 72.576 L1693.61 27.2059 L1701.1 27.2059 L1701.1 34.2544 Q1703.45 30.1225 1707.22 28.1376 Q1710.98 26.1121 1716.37 26.1121 Q1717.14 26.1121 1718.07 26.2337 Q1719.01 26.3147 1720.14 26.5172 L1720.18 34.1734 Z\" fill=\"#000000\" fill-rule=\"evenodd\" fill-opacity=\"1\" /><path clip-path=\"url(#clip880)\" d=\"M1748.62 49.7694 Q1739.58 49.7694 1736.1 51.8354 Q1732.62 53.9013 1732.62 58.8839 Q1732.62 62.8538 1735.21 65.2034 Q1737.84 67.5124 1742.34 67.5124 Q1748.54 67.5124 1752.26 63.1374 Q1756.03 58.7219 1756.03 51.4303 L1756.03 49.7694 L1748.62 49.7694 M1763.48 46.6907 L1763.48 72.576 L1756.03 72.576 L1756.03 65.6895 Q1753.48 69.8214 1749.67 71.8063 Q1745.86 73.7508 1740.35 73.7508 Q1733.39 73.7508 1729.25 69.8619 Q1725.16 65.9325 1725.16 59.3701 Q1725.16 51.7138 1730.27 47.825 Q1735.41 43.9361 1745.58 43.9361 L1756.03 43.9361 L1756.03 43.2069 Q1756.03 38.0623 1752.63 35.2672 Q1749.27 32.4315 1743.15 32.4315 Q1739.26 32.4315 1735.57 33.3632 Q1731.89 34.295 1728.48 36.1584 L1728.48 29.2718 Q1732.58 27.692 1736.42 26.9223 Q1740.27 26.1121 1743.92 26.1121 Q1753.76 26.1121 1758.62 31.2163 Q1763.48 36.3204 1763.48 46.6907 Z\" fill=\"#000000\" fill-rule=\"evenodd\" fill-opacity=\"1\" /><path clip-path=\"url(#clip880)\" d=\"M1778.84 9.54393 L1786.29 9.54393 L1786.29 72.576 L1778.84 72.576 L1778.84 9.54393 Z\" fill=\"#000000\" fill-rule=\"evenodd\" fill-opacity=\"1\" /><polyline clip-path=\"url(#clip882)\" style=\"stroke:#009af9; stroke-linecap:butt; stroke-linejoin:round; stroke-width:8; stroke-opacity:1; fill:none\" points=\"\n",
       "  307.017,2965.76 319.13,2965.76 331.243,2965.76 343.356,2965.76 355.469,2965.76 367.582,2965.76 379.695,2965.76 391.808,2965.76 403.921,2965.76 416.034,2965.76 \n",
       "  428.147,2965.76 440.26,2965.76 452.373,2965.76 464.486,2965.76 476.598,2965.76 488.711,2965.76 500.824,2965.76 512.937,2965.76 525.05,2965.76 537.163,2965.76 \n",
       "  549.276,2965.76 561.389,2965.76 573.502,2965.76 585.615,2965.76 597.728,2965.76 609.841,2965.76 621.954,2965.76 634.067,2965.76 646.18,2965.76 658.293,2965.76 \n",
       "  670.405,2965.76 682.518,2965.76 694.631,2965.76 706.744,2965.76 718.857,2965.76 730.97,2965.76 743.083,2965.76 755.196,2965.76 767.309,2965.76 779.422,2965.76 \n",
       "  791.535,2965.76 803.648,2965.76 815.761,2965.76 827.874,2965.76 839.987,2965.76 852.1,2965.76 864.212,2965.76 876.325,2965.76 888.438,2965.76 900.551,2965.76 \n",
       "  912.664,2965.76 924.777,2965.76 936.89,2965.76 949.003,2965.76 961.116,2965.76 973.229,2965.76 985.342,2965.76 997.455,2965.76 1009.57,2965.76 1021.68,2965.76 \n",
       "  1033.79,2965.76 1045.91,2965.76 1058.02,2965.76 1070.13,2965.76 1082.25,2965.76 1094.36,2965.76 1106.47,2965.76 1118.58,2965.76 1130.7,2965.76 1142.81,2965.76 \n",
       "  1154.92,2965.76 1167.04,2965.76 1179.15,2965.76 1191.26,2965.76 1203.37,2965.76 1215.49,2965.76 1227.6,2965.76 1239.71,2965.76 1251.83,2965.76 1263.94,2965.76 \n",
       "  1276.05,2965.76 1288.17,2965.76 1300.28,2965.76 1312.39,2965.76 1324.5,2965.76 1336.62,2965.76 1348.73,2965.76 1360.84,2965.76 1372.96,2965.76 1385.07,2965.76 \n",
       "  1397.18,2965.76 1409.29,2965.76 1421.41,2965.76 1433.52,2965.76 1445.63,2965.76 1457.75,2965.76 1469.86,2965.76 1481.97,2965.76 1494.09,2965.76 1506.2,2965.76 \n",
       "  1518.31,2965.76 1530.42,2965.76 1542.54,2965.76 1554.65,2965.76 1566.76,2965.76 1578.88,2965.76 1590.99,2965.76 1603.1,2965.76 1615.21,2965.76 1627.33,2965.76 \n",
       "  1639.44,2965.76 1651.55,2965.76 1663.67,2965.76 1675.78,2965.76 1687.89,2965.76 1700.01,2965.76 1712.12,2965.76 1724.23,2965.76 1736.34,2965.76 1748.46,2965.76 \n",
       "  1760.57,2965.76 1772.68,2965.76 1784.8,2965.76 1796.91,2965.76 1809.02,2965.76 1821.13,2965.76 1833.25,2965.76 1845.36,2965.76 1857.47,2965.76 1869.59,2965.76 \n",
       "  1881.7,2965.76 1893.81,2965.76 1905.93,2965.76 1918.04,2965.76 1930.15,2965.76 1942.26,2965.76 1954.38,2965.76 1966.49,2965.76 1978.6,2965.76 1990.72,2965.76 \n",
       "  2002.83,2965.76 2014.94,2965.76 2027.05,2965.76 2039.17,2965.76 2051.28,2965.76 2063.39,2965.76 2075.51,2965.76 2087.62,2965.76 2099.73,2965.76 2111.84,2965.76 \n",
       "  2123.96,2965.76 2136.07,2965.76 2148.18,2965.76 2160.3,2965.76 2172.41,2965.76 2184.52,2965.76 2196.64,2965.76 2208.75,2965.76 2220.86,2965.76 2232.97,2965.76 \n",
       "  2245.09,2965.76 2257.2,2965.76 2269.31,2965.76 2281.43,2965.76 2293.54,2965.76 2305.65,2965.76 2317.76,2965.76 2329.88,2965.76 2341.99,2965.76 2354.1,2965.76 \n",
       "  2366.22,2965.76 2378.33,2965.76 2390.44,2965.76 2402.56,2965.76 2414.67,2965.76 2426.78,2965.76 2438.89,2965.76 2451.01,2965.76 2463.12,2965.76 2475.23,2965.76 \n",
       "  2487.35,2965.76 \n",
       "  \"/>\n",
       "<polyline clip-path=\"url(#clip882)\" style=\"stroke:#e26f46; stroke-linecap:butt; stroke-linejoin:round; stroke-width:8; stroke-opacity:1; fill:none\" points=\"\n",
       "  307.017,2965.76 319.13,2767.97 331.243,2720.23 343.356,2965.76 355.469,2672.5 367.582,2672.5 379.695,2672.5 391.808,2672.5 403.921,2965.76 416.034,2965.76 \n",
       "  428.147,2620.71 440.26,2624.77 452.373,2624.77 464.486,2624.77 476.598,2624.77 488.711,2624.77 500.824,2624.77 512.937,2624.77 525.05,2620.71 537.163,2620.71 \n",
       "  549.276,2620.71 561.389,2620.71 573.502,2620.71 585.615,2620.71 597.728,2620.71 609.841,2620.71 621.954,2620.71 634.067,2620.71 646.18,2620.71 658.293,2620.71 \n",
       "  670.405,2620.71 682.518,2620.71 694.631,2620.71 706.744,2620.71 718.857,2620.71 730.97,2620.71 743.083,2620.71 755.196,2620.71 767.309,2620.71 779.422,2620.71 \n",
       "  791.535,2620.71 803.648,2620.71 815.761,2620.71 827.874,2620.71 839.987,2620.71 852.1,2620.71 864.212,2620.71 876.325,2620.71 888.438,2620.71 900.551,2620.71 \n",
       "  912.664,2620.71 924.777,2620.71 936.89,2620.71 949.003,2620.71 961.116,2620.71 973.229,2620.71 985.342,2620.71 997.455,2620.71 1009.57,2620.71 1021.68,2620.71 \n",
       "  1033.79,2620.71 1045.91,2620.71 1058.02,2620.71 1070.13,2620.71 1082.25,2620.71 1094.36,2620.71 1106.47,2620.71 1118.58,2620.71 1130.7,2620.71 1142.81,2620.71 \n",
       "  1154.92,2620.71 1167.04,2620.71 1179.15,2620.71 1191.26,2620.71 1203.37,2620.71 1215.49,2620.71 1227.6,2620.71 1239.71,2620.71 1251.83,2620.71 1263.94,2620.71 \n",
       "  1276.05,2620.71 1288.17,2620.71 1300.28,2620.71 1312.39,2620.71 1324.5,2620.71 1336.62,2620.71 1348.73,2620.71 1360.84,2620.71 1372.96,2620.71 1385.07,2620.71 \n",
       "  1397.18,2620.71 1409.29,2620.71 1421.41,2620.71 1433.52,2620.71 1445.63,2620.71 1457.75,2620.71 1469.86,2620.71 1481.97,2620.71 1494.09,2620.71 1506.2,2620.71 \n",
       "  1518.31,2696.37 1530.42,2696.37 1542.54,2696.37 1554.65,2696.37 1566.76,2696.37 1578.88,2965.76 1590.99,2965.76 1603.1,2965.76 1615.21,2965.76 1627.33,2965.76 \n",
       "  1639.44,2965.76 1651.55,2965.76 1663.67,2965.76 1675.78,2965.76 1687.89,2965.76 1700.01,2965.76 1712.12,2965.76 1724.23,2965.76 1736.34,2965.76 1748.46,2965.76 \n",
       "  1760.57,2965.76 1772.68,2965.76 1784.8,2965.76 1796.91,2965.76 1809.02,2965.76 1821.13,2965.76 1833.25,2965.76 1845.36,2965.76 1857.47,2965.76 1869.59,2965.76 \n",
       "  1881.7,2965.76 1893.81,2965.76 1905.93,2965.76 1918.04,2965.76 1930.15,2965.76 1942.26,2965.76 1954.38,2965.76 1966.49,2965.76 1978.6,2965.76 1990.72,2965.76 \n",
       "  2002.83,2965.76 2014.94,2965.76 2027.05,2965.76 2039.17,2965.76 2051.28,2965.76 2063.39,2965.76 2075.51,2965.76 2087.62,2965.76 2099.73,2965.76 2111.84,2965.76 \n",
       "  2123.96,2965.76 2136.07,2965.76 2148.18,2965.76 2160.3,2965.76 2172.41,2965.76 2184.52,2965.76 2196.64,2965.76 2208.75,2965.76 2220.86,2965.76 2232.97,2965.76 \n",
       "  2245.09,2965.76 2257.2,2965.76 2269.31,2965.76 2281.43,2965.76 2293.54,2965.76 2305.65,2965.76 2317.76,2965.76 2329.88,2965.76 2341.99,2965.76 2354.1,2965.76 \n",
       "  2366.22,2965.76 2378.33,2965.76 2390.44,2965.76 2402.56,2965.76 2414.67,2965.76 2426.78,2965.76 2438.89,2965.76 2451.01,2965.76 2463.12,2965.76 2475.23,2965.76 \n",
       "  2487.35,2965.76 \n",
       "  \"/>\n",
       "<path clip-path=\"url(#clip880)\" d=\"\n",
       "M1739.64 370.829 L2475.72 370.829 L2475.72 215.309 L1739.64 215.309  Z\n",
       "  \" fill=\"#ffffff\" fill-rule=\"evenodd\" fill-opacity=\"1\"/>\n",
       "<polyline clip-path=\"url(#clip880)\" style=\"stroke:#000000; stroke-linecap:butt; stroke-linejoin:round; stroke-width:4; stroke-opacity:1; fill:none\" points=\"\n",
       "  1739.64,370.829 2475.72,370.829 2475.72,215.309 1739.64,215.309 1739.64,370.829 \n",
       "  \"/>\n",
       "<polyline clip-path=\"url(#clip880)\" style=\"stroke:#009af9; stroke-linecap:butt; stroke-linejoin:round; stroke-width:4; stroke-opacity:1; fill:none\" points=\"\n",
       "  1765.32,267.149 1919.4,267.149 \n",
       "  \"/>\n",
       "<path clip-path=\"url(#clip880)\" d=\"M1956.98 261.489 Q1953.55 261.489 1951.56 264.174 Q1949.57 266.836 1949.57 271.489 Q1949.57 276.142 1951.54 278.827 Q1953.53 281.489 1956.98 281.489 Q1960.38 281.489 1962.37 278.804 Q1964.36 276.119 1964.36 271.489 Q1964.36 266.883 1962.37 264.198 Q1960.38 261.489 1956.98 261.489 M1956.98 257.878 Q1962.53 257.878 1965.7 261.489 Q1968.88 265.1 1968.88 271.489 Q1968.88 277.855 1965.7 281.489 Q1962.53 285.1 1956.98 285.1 Q1951.4 285.1 1948.23 281.489 Q1945.08 277.855 1945.08 271.489 Q1945.08 265.1 1948.23 261.489 Q1951.4 257.878 1956.98 257.878 Z\" fill=\"#000000\" fill-rule=\"evenodd\" fill-opacity=\"1\" /><path clip-path=\"url(#clip880)\" d=\"M1990.96 262.485 Q1990.24 262.068 1989.38 261.883 Q1988.55 261.674 1987.53 261.674 Q1983.92 261.674 1981.98 264.036 Q1980.06 266.373 1980.06 270.772 L1980.06 284.429 L1975.77 284.429 L1975.77 258.503 L1980.06 258.503 L1980.06 262.531 Q1981.4 260.17 1983.55 259.036 Q1985.7 257.878 1988.78 257.878 Q1989.22 257.878 1989.75 257.948 Q1990.29 257.994 1990.94 258.11 L1990.96 262.485 Z\" fill=\"#000000\" fill-rule=\"evenodd\" fill-opacity=\"1\" /><path clip-path=\"url(#clip880)\" d=\"M1999.64 251.142 L1999.64 258.503 L2008.41 258.503 L2008.41 261.813 L1999.64 261.813 L1999.64 275.887 Q1999.64 279.059 2000.5 279.961 Q2001.37 280.864 2004.04 280.864 L2008.41 280.864 L2008.41 284.429 L2004.04 284.429 Q1999.11 284.429 1997.23 282.6 Q1995.36 280.748 1995.36 275.887 L1995.36 261.813 L1992.23 261.813 L1992.23 258.503 L1995.36 258.503 L1995.36 251.142 L1999.64 251.142 Z\" fill=\"#000000\" fill-rule=\"evenodd\" fill-opacity=\"1\" /><path clip-path=\"url(#clip880)\" d=\"M2035.56 268.781 L2035.56 284.429 L2031.31 284.429 L2031.31 268.92 Q2031.31 265.239 2029.87 263.411 Q2028.43 261.582 2025.56 261.582 Q2022.12 261.582 2020.12 263.781 Q2018.13 265.98 2018.13 269.776 L2018.13 284.429 L2013.85 284.429 L2013.85 248.411 L2018.13 248.411 L2018.13 262.531 Q2019.66 260.193 2021.72 259.036 Q2023.81 257.878 2026.51 257.878 Q2030.98 257.878 2033.27 260.656 Q2035.56 263.411 2035.56 268.781 Z\" fill=\"#000000\" fill-rule=\"evenodd\" fill-opacity=\"1\" /><path clip-path=\"url(#clip880)\" d=\"M2054.11 261.489 Q2050.68 261.489 2048.69 264.174 Q2046.7 266.836 2046.7 271.489 Q2046.7 276.142 2048.67 278.827 Q2050.66 281.489 2054.11 281.489 Q2057.51 281.489 2059.5 278.804 Q2061.49 276.119 2061.49 271.489 Q2061.49 266.883 2059.5 264.198 Q2057.51 261.489 2054.11 261.489 M2054.11 257.878 Q2059.66 257.878 2062.83 261.489 Q2066 265.1 2066 271.489 Q2066 277.855 2062.83 281.489 Q2059.66 285.1 2054.11 285.1 Q2048.53 285.1 2045.36 281.489 Q2042.21 277.855 2042.21 271.489 Q2042.21 265.1 2045.36 261.489 Q2048.53 257.878 2054.11 257.878 Z\" fill=\"#000000\" fill-rule=\"evenodd\" fill-opacity=\"1\" /><path clip-path=\"url(#clip880)\" d=\"M2094.62 268.781 L2094.62 284.429 L2090.36 284.429 L2090.36 268.92 Q2090.36 265.239 2088.92 263.411 Q2087.49 261.582 2084.62 261.582 Q2081.17 261.582 2079.18 263.781 Q2077.18 265.98 2077.18 269.776 L2077.18 284.429 L2072.9 284.429 L2072.9 258.503 L2077.18 258.503 L2077.18 262.531 Q2078.71 260.193 2080.77 259.036 Q2082.86 257.878 2085.56 257.878 Q2090.03 257.878 2092.32 260.656 Q2094.62 263.411 2094.62 268.781 Z\" fill=\"#000000\" fill-rule=\"evenodd\" fill-opacity=\"1\" /><path clip-path=\"url(#clip880)\" d=\"M2113.16 261.489 Q2109.73 261.489 2107.74 264.174 Q2105.75 266.836 2105.75 271.489 Q2105.75 276.142 2107.72 278.827 Q2109.71 281.489 2113.16 281.489 Q2116.56 281.489 2118.55 278.804 Q2120.54 276.119 2120.54 271.489 Q2120.54 266.883 2118.55 264.198 Q2116.56 261.489 2113.16 261.489 M2113.16 257.878 Q2118.71 257.878 2121.88 261.489 Q2125.05 265.1 2125.05 271.489 Q2125.05 277.855 2121.88 281.489 Q2118.71 285.1 2113.16 285.1 Q2107.58 285.1 2104.41 281.489 Q2101.26 277.855 2101.26 271.489 Q2101.26 265.1 2104.41 261.489 Q2107.58 257.878 2113.16 257.878 Z\" fill=\"#000000\" fill-rule=\"evenodd\" fill-opacity=\"1\" /><path clip-path=\"url(#clip880)\" d=\"M2147.14 262.485 Q2146.42 262.068 2145.56 261.883 Q2144.73 261.674 2143.71 261.674 Q2140.1 261.674 2138.16 264.036 Q2136.24 266.373 2136.24 270.772 L2136.24 284.429 L2131.95 284.429 L2131.95 258.503 L2136.24 258.503 L2136.24 262.531 Q2137.58 260.17 2139.73 259.036 Q2141.88 257.878 2144.96 257.878 Q2145.4 257.878 2145.93 257.948 Q2146.47 257.994 2147.11 258.11 L2147.14 262.485 Z\" fill=\"#000000\" fill-rule=\"evenodd\" fill-opacity=\"1\" /><path clip-path=\"url(#clip880)\" d=\"M2170.96 263.48 Q2172.55 260.61 2174.78 259.244 Q2177 257.878 2180.01 257.878 Q2184.06 257.878 2186.26 260.725 Q2188.46 263.549 2188.46 268.781 L2188.46 284.429 L2184.17 284.429 L2184.17 268.92 Q2184.17 265.193 2182.86 263.387 Q2181.54 261.582 2178.83 261.582 Q2175.52 261.582 2173.6 263.781 Q2171.67 265.98 2171.67 269.776 L2171.67 284.429 L2167.39 284.429 L2167.39 268.92 Q2167.39 265.17 2166.07 263.387 Q2164.75 261.582 2162 261.582 Q2158.74 261.582 2156.81 263.804 Q2154.89 266.003 2154.89 269.776 L2154.89 284.429 L2150.61 284.429 L2150.61 258.503 L2154.89 258.503 L2154.89 262.531 Q2156.35 260.147 2158.39 259.012 Q2160.42 257.878 2163.23 257.878 Q2166.05 257.878 2168.02 259.313 Q2170.01 260.749 2170.96 263.48 Z\" fill=\"#000000\" fill-rule=\"evenodd\" fill-opacity=\"1\" /><path clip-path=\"url(#clip880)\" d=\"M2208.73 271.397 Q2203.57 271.397 2201.58 272.577 Q2199.59 273.758 2199.59 276.605 Q2199.59 278.873 2201.07 280.216 Q2202.58 281.535 2205.15 281.535 Q2208.69 281.535 2210.82 279.035 Q2212.97 276.512 2212.97 272.346 L2212.97 271.397 L2208.73 271.397 M2217.23 269.637 L2217.23 284.429 L2212.97 284.429 L2212.97 280.494 Q2211.51 282.855 2209.34 283.989 Q2207.16 285.1 2204.01 285.1 Q2200.03 285.1 2197.67 282.878 Q2195.33 280.633 2195.33 276.883 Q2195.33 272.508 2198.25 270.286 Q2201.19 268.063 2207 268.063 L2212.97 268.063 L2212.97 267.647 Q2212.97 264.707 2211.03 263.11 Q2209.11 261.489 2205.61 261.489 Q2203.39 261.489 2201.28 262.022 Q2199.17 262.554 2197.23 263.619 L2197.23 259.684 Q2199.57 258.781 2201.77 258.341 Q2203.97 257.878 2206.05 257.878 Q2211.67 257.878 2214.45 260.795 Q2217.23 263.711 2217.23 269.637 Z\" fill=\"#000000\" fill-rule=\"evenodd\" fill-opacity=\"1\" /><path clip-path=\"url(#clip880)\" d=\"M2226 248.411 L2230.26 248.411 L2230.26 284.429 L2226 284.429 L2226 248.411 Z\" fill=\"#000000\" fill-rule=\"evenodd\" fill-opacity=\"1\" /><path clip-path=\"url(#clip880)\" d=\"M2239.17 258.503 L2243.43 258.503 L2243.43 284.429 L2239.17 284.429 L2239.17 258.503 M2239.17 248.411 L2243.43 248.411 L2243.43 253.804 L2239.17 253.804 L2239.17 248.411 Z\" fill=\"#000000\" fill-rule=\"evenodd\" fill-opacity=\"1\" /><path clip-path=\"url(#clip880)\" d=\"M2256.56 251.142 L2256.56 258.503 L2265.33 258.503 L2265.33 261.813 L2256.56 261.813 L2256.56 275.887 Q2256.56 279.059 2257.42 279.961 Q2258.29 280.864 2260.96 280.864 L2265.33 280.864 L2265.33 284.429 L2260.96 284.429 Q2256.03 284.429 2254.15 282.6 Q2252.28 280.748 2252.28 275.887 L2252.28 261.813 L2249.15 261.813 L2249.15 258.503 L2252.28 258.503 L2252.28 251.142 L2256.56 251.142 Z\" fill=\"#000000\" fill-rule=\"evenodd\" fill-opacity=\"1\" /><path clip-path=\"url(#clip880)\" d=\"M2281.72 286.836 Q2279.92 291.466 2278.2 292.878 Q2276.49 294.29 2273.62 294.29 L2270.22 294.29 L2270.22 290.725 L2272.72 290.725 Q2274.48 290.725 2275.45 289.892 Q2276.42 289.059 2277.6 285.957 L2278.36 284.012 L2267.88 258.503 L2272.39 258.503 L2280.49 278.781 L2288.6 258.503 L2293.11 258.503 L2281.72 286.836 Z\" fill=\"#000000\" fill-rule=\"evenodd\" fill-opacity=\"1\" /><path clip-path=\"url(#clip880)\" d=\"M2336.23 270.401 L2336.23 272.485 L2316.65 272.485 Q2316.93 276.883 2319.29 279.197 Q2321.67 281.489 2325.91 281.489 Q2328.36 281.489 2330.66 280.887 Q2332.97 280.285 2335.24 279.082 L2335.24 283.11 Q2332.95 284.082 2330.54 284.591 Q2328.13 285.1 2325.66 285.1 Q2319.45 285.1 2315.82 281.489 Q2312.21 277.878 2312.21 271.721 Q2312.21 265.355 2315.63 261.628 Q2319.08 257.878 2324.91 257.878 Q2330.15 257.878 2333.18 261.258 Q2336.23 264.614 2336.23 270.401 M2331.98 269.151 Q2331.93 265.656 2330.01 263.573 Q2328.11 261.489 2324.96 261.489 Q2321.4 261.489 2319.24 263.503 Q2317.11 265.517 2316.79 269.174 L2331.98 269.151 Z\" fill=\"#000000\" fill-rule=\"evenodd\" fill-opacity=\"1\" /><path clip-path=\"url(#clip880)\" d=\"M2358.25 262.485 Q2357.53 262.068 2356.67 261.883 Q2355.84 261.674 2354.82 261.674 Q2351.21 261.674 2349.27 264.036 Q2347.35 266.373 2347.35 270.772 L2347.35 284.429 L2343.06 284.429 L2343.06 258.503 L2347.35 258.503 L2347.35 262.531 Q2348.69 260.17 2350.84 259.036 Q2352.99 257.878 2356.07 257.878 Q2356.51 257.878 2357.04 257.948 Q2357.58 257.994 2358.22 258.11 L2358.25 262.485 Z\" fill=\"#000000\" fill-rule=\"evenodd\" fill-opacity=\"1\" /><path clip-path=\"url(#clip880)\" d=\"M2376.91 262.485 Q2376.19 262.068 2375.33 261.883 Q2374.5 261.674 2373.48 261.674 Q2369.87 261.674 2367.92 264.036 Q2366 266.373 2366 270.772 L2366 284.429 L2361.72 284.429 L2361.72 258.503 L2366 258.503 L2366 262.531 Q2367.35 260.17 2369.5 259.036 Q2371.65 257.878 2374.73 257.878 Q2375.17 257.878 2375.7 257.948 Q2376.23 257.994 2376.88 258.11 L2376.91 262.485 Z\" fill=\"#000000\" fill-rule=\"evenodd\" fill-opacity=\"1\" /><path clip-path=\"url(#clip880)\" d=\"M2390.38 261.489 Q2386.95 261.489 2384.96 264.174 Q2382.97 266.836 2382.97 271.489 Q2382.97 276.142 2384.94 278.827 Q2386.93 281.489 2390.38 281.489 Q2393.78 281.489 2395.77 278.804 Q2397.76 276.119 2397.76 271.489 Q2397.76 266.883 2395.77 264.198 Q2393.78 261.489 2390.38 261.489 M2390.38 257.878 Q2395.93 257.878 2399.1 261.489 Q2402.28 265.1 2402.28 271.489 Q2402.28 277.855 2399.1 281.489 Q2395.93 285.1 2390.38 285.1 Q2384.8 285.1 2381.63 281.489 Q2378.48 277.855 2378.48 271.489 Q2378.48 265.1 2381.63 261.489 Q2384.8 257.878 2390.38 257.878 Z\" fill=\"#000000\" fill-rule=\"evenodd\" fill-opacity=\"1\" /><path clip-path=\"url(#clip880)\" d=\"M2424.36 262.485 Q2423.64 262.068 2422.78 261.883 Q2421.95 261.674 2420.93 261.674 Q2417.32 261.674 2415.38 264.036 Q2413.46 266.373 2413.46 270.772 L2413.46 284.429 L2409.17 284.429 L2409.17 258.503 L2413.46 258.503 L2413.46 262.531 Q2414.8 260.17 2416.95 259.036 Q2419.1 257.878 2422.18 257.878 Q2422.62 257.878 2423.16 257.948 Q2423.69 257.994 2424.34 258.11 L2424.36 262.485 Z\" fill=\"#000000\" fill-rule=\"evenodd\" fill-opacity=\"1\" /><polyline clip-path=\"url(#clip880)\" style=\"stroke:#e26f46; stroke-linecap:butt; stroke-linejoin:round; stroke-width:4; stroke-opacity:1; fill:none\" points=\"\n",
       "  1765.32,318.989 1919.4,318.989 \n",
       "  \"/>\n",
       "<path clip-path=\"url(#clip880)\" d=\"M1960.26 314.325 Q1959.55 313.908 1958.69 313.723 Q1957.86 313.514 1956.84 313.514 Q1953.23 313.514 1951.28 315.876 Q1949.36 318.213 1949.36 322.612 L1949.36 336.269 L1945.08 336.269 L1945.08 310.343 L1949.36 310.343 L1949.36 314.371 Q1950.7 312.01 1952.86 310.876 Q1955.01 309.718 1958.09 309.718 Q1958.53 309.718 1959.06 309.788 Q1959.59 309.834 1960.24 309.95 L1960.26 314.325 Z\" fill=\"#000000\" fill-rule=\"evenodd\" fill-opacity=\"1\" /><path clip-path=\"url(#clip880)\" d=\"M1985.87 322.241 L1985.87 324.325 L1966.28 324.325 Q1966.56 328.723 1968.92 331.037 Q1971.31 333.329 1975.54 333.329 Q1978 333.329 1980.29 332.727 Q1982.6 332.125 1984.87 330.922 L1984.87 334.95 Q1982.58 335.922 1980.17 336.431 Q1977.76 336.94 1975.29 336.94 Q1969.08 336.94 1965.45 333.329 Q1961.84 329.718 1961.84 323.561 Q1961.84 317.195 1965.26 313.468 Q1968.71 309.718 1974.55 309.718 Q1979.78 309.718 1982.81 313.098 Q1985.87 316.454 1985.87 322.241 M1981.61 320.991 Q1981.56 317.496 1979.64 315.413 Q1977.74 313.329 1974.59 313.329 Q1971.03 313.329 1968.88 315.343 Q1966.75 317.357 1966.42 321.014 L1981.61 320.991 Z\" fill=\"#000000\" fill-rule=\"evenodd\" fill-opacity=\"1\" /><path clip-path=\"url(#clip880)\" d=\"M2011.51 311.339 L2011.51 315.32 Q2009.71 314.325 2007.88 313.839 Q2006.07 313.329 2004.22 313.329 Q2000.08 313.329 1997.79 315.968 Q1995.5 318.584 1995.5 323.329 Q1995.5 328.075 1997.79 330.713 Q2000.08 333.329 2004.22 333.329 Q2006.07 333.329 2007.88 332.843 Q2009.71 332.334 2011.51 331.338 L2011.51 335.274 Q2009.73 336.107 2007.81 336.524 Q2005.91 336.94 2003.76 336.94 Q1997.9 336.94 1994.45 333.26 Q1991 329.579 1991 323.329 Q1991 316.987 1994.48 313.352 Q1997.97 309.718 2004.04 309.718 Q2006 309.718 2007.88 310.135 Q2009.75 310.528 2011.51 311.339 Z\" fill=\"#000000\" fill-rule=\"evenodd\" fill-opacity=\"1\" /><path clip-path=\"url(#clip880)\" d=\"M2028.97 313.329 Q2025.54 313.329 2023.55 316.014 Q2021.56 318.676 2021.56 323.329 Q2021.56 327.982 2023.53 330.667 Q2025.52 333.329 2028.97 333.329 Q2032.37 333.329 2034.36 330.644 Q2036.35 327.959 2036.35 323.329 Q2036.35 318.723 2034.36 316.038 Q2032.37 313.329 2028.97 313.329 M2028.97 309.718 Q2034.52 309.718 2037.69 313.329 Q2040.87 316.94 2040.87 323.329 Q2040.87 329.695 2037.69 333.329 Q2034.52 336.94 2028.97 336.94 Q2023.39 336.94 2020.22 333.329 Q2017.07 329.695 2017.07 323.329 Q2017.07 316.94 2020.22 313.329 Q2023.39 309.718 2028.97 309.718 Z\" fill=\"#000000\" fill-rule=\"evenodd\" fill-opacity=\"1\" /><path clip-path=\"url(#clip880)\" d=\"M2069.48 320.621 L2069.48 336.269 L2065.22 336.269 L2065.22 320.76 Q2065.22 317.079 2063.78 315.251 Q2062.35 313.422 2059.48 313.422 Q2056.03 313.422 2054.04 315.621 Q2052.05 317.82 2052.05 321.616 L2052.05 336.269 L2047.76 336.269 L2047.76 310.343 L2052.05 310.343 L2052.05 314.371 Q2053.57 312.033 2055.63 310.876 Q2057.72 309.718 2060.43 309.718 Q2064.89 309.718 2067.18 312.496 Q2069.48 315.251 2069.48 320.621 Z\" fill=\"#000000\" fill-rule=\"evenodd\" fill-opacity=\"1\" /><path clip-path=\"url(#clip880)\" d=\"M2094.5 311.107 L2094.5 315.135 Q2092.69 314.209 2090.75 313.746 Q2088.81 313.283 2086.72 313.283 Q2083.55 313.283 2081.95 314.255 Q2080.38 315.227 2080.38 317.172 Q2080.38 318.653 2081.51 319.51 Q2082.65 320.343 2086.07 321.107 L2087.53 321.431 Q2092.07 322.403 2093.97 324.186 Q2095.89 325.945 2095.89 329.116 Q2095.89 332.727 2093.02 334.834 Q2090.17 336.94 2085.17 336.94 Q2083.09 336.94 2080.82 336.524 Q2078.57 336.13 2076.07 335.32 L2076.07 330.922 Q2078.43 332.149 2080.73 332.774 Q2083.02 333.375 2085.26 333.375 Q2088.27 333.375 2089.89 332.357 Q2091.51 331.315 2091.51 329.44 Q2091.51 327.704 2090.33 326.778 Q2089.18 325.852 2085.22 324.996 L2083.74 324.649 Q2079.78 323.815 2078.02 322.102 Q2076.26 320.366 2076.26 317.357 Q2076.26 313.7 2078.85 311.709 Q2081.44 309.718 2086.21 309.718 Q2088.57 309.718 2090.66 310.065 Q2092.74 310.413 2094.5 311.107 Z\" fill=\"#000000\" fill-rule=\"evenodd\" fill-opacity=\"1\" /><path clip-path=\"url(#clip880)\" d=\"M2106.88 302.982 L2106.88 310.343 L2115.66 310.343 L2115.66 313.653 L2106.88 313.653 L2106.88 327.727 Q2106.88 330.899 2107.74 331.801 Q2108.62 332.704 2111.28 332.704 L2115.66 332.704 L2115.66 336.269 L2111.28 336.269 Q2106.35 336.269 2104.48 334.44 Q2102.6 332.588 2102.6 327.727 L2102.6 313.653 L2099.48 313.653 L2099.48 310.343 L2102.6 310.343 L2102.6 302.982 L2106.88 302.982 Z\" fill=\"#000000\" fill-rule=\"evenodd\" fill-opacity=\"1\" /><path clip-path=\"url(#clip880)\" d=\"M2136.28 314.325 Q2135.56 313.908 2134.71 313.723 Q2133.87 313.514 2132.86 313.514 Q2129.24 313.514 2127.3 315.876 Q2125.38 318.213 2125.38 322.612 L2125.38 336.269 L2121.1 336.269 L2121.1 310.343 L2125.38 310.343 L2125.38 314.371 Q2126.72 312.01 2128.87 310.876 Q2131.03 309.718 2134.11 309.718 Q2134.55 309.718 2135.08 309.788 Q2135.61 309.834 2136.26 309.95 L2136.28 314.325 Z\" fill=\"#000000\" fill-rule=\"evenodd\" fill-opacity=\"1\" /><path clip-path=\"url(#clip880)\" d=\"M2140.31 326.038 L2140.31 310.343 L2144.57 310.343 L2144.57 325.875 Q2144.57 329.556 2146 331.408 Q2147.44 333.237 2150.31 333.237 Q2153.76 333.237 2155.75 331.037 Q2157.76 328.838 2157.76 325.042 L2157.76 310.343 L2162.02 310.343 L2162.02 336.269 L2157.76 336.269 L2157.76 332.287 Q2156.21 334.649 2154.15 335.806 Q2152.11 336.94 2149.41 336.94 Q2144.94 336.94 2142.62 334.162 Q2140.31 331.385 2140.31 326.038 M2151.03 309.718 L2151.03 309.718 Z\" fill=\"#000000\" fill-rule=\"evenodd\" fill-opacity=\"1\" /><path clip-path=\"url(#clip880)\" d=\"M2189.45 311.339 L2189.45 315.32 Q2187.65 314.325 2185.82 313.839 Q2184.01 313.329 2182.16 313.329 Q2178.02 313.329 2175.73 315.968 Q2173.43 318.584 2173.43 323.329 Q2173.43 328.075 2175.73 330.713 Q2178.02 333.329 2182.16 333.329 Q2184.01 333.329 2185.82 332.843 Q2187.65 332.334 2189.45 331.338 L2189.45 335.274 Q2187.67 336.107 2185.75 336.524 Q2183.85 336.94 2181.7 336.94 Q2175.84 336.94 2172.39 333.26 Q2168.94 329.579 2168.94 323.329 Q2168.94 316.987 2172.42 313.352 Q2175.91 309.718 2181.98 309.718 Q2183.94 309.718 2185.82 310.135 Q2187.69 310.528 2189.45 311.339 Z\" fill=\"#000000\" fill-rule=\"evenodd\" fill-opacity=\"1\" /><path clip-path=\"url(#clip880)\" d=\"M2201.07 302.982 L2201.07 310.343 L2209.85 310.343 L2209.85 313.653 L2201.07 313.653 L2201.07 327.727 Q2201.07 330.899 2201.93 331.801 Q2202.81 332.704 2205.47 332.704 L2209.85 332.704 L2209.85 336.269 L2205.47 336.269 Q2200.54 336.269 2198.67 334.44 Q2196.79 332.588 2196.79 327.727 L2196.79 313.653 L2193.67 313.653 L2193.67 310.343 L2196.79 310.343 L2196.79 302.982 L2201.07 302.982 Z\" fill=\"#000000\" fill-rule=\"evenodd\" fill-opacity=\"1\" /><path clip-path=\"url(#clip880)\" d=\"M2215.45 310.343 L2219.71 310.343 L2219.71 336.269 L2215.45 336.269 L2215.45 310.343 M2215.45 300.251 L2219.71 300.251 L2219.71 305.644 L2215.45 305.644 L2215.45 300.251 Z\" fill=\"#000000\" fill-rule=\"evenodd\" fill-opacity=\"1\" /><path clip-path=\"url(#clip880)\" d=\"M2238.67 313.329 Q2235.24 313.329 2233.25 316.014 Q2231.26 318.676 2231.26 323.329 Q2231.26 327.982 2233.23 330.667 Q2235.22 333.329 2238.67 333.329 Q2242.07 333.329 2244.06 330.644 Q2246.05 327.959 2246.05 323.329 Q2246.05 318.723 2244.06 316.038 Q2242.07 313.329 2238.67 313.329 M2238.67 309.718 Q2244.22 309.718 2247.39 313.329 Q2250.56 316.94 2250.56 323.329 Q2250.56 329.695 2247.39 333.329 Q2244.22 336.94 2238.67 336.94 Q2233.09 336.94 2229.92 333.329 Q2226.77 329.695 2226.77 323.329 Q2226.77 316.94 2229.92 313.329 Q2233.09 309.718 2238.67 309.718 Z\" fill=\"#000000\" fill-rule=\"evenodd\" fill-opacity=\"1\" /><path clip-path=\"url(#clip880)\" d=\"M2279.17 320.621 L2279.17 336.269 L2274.92 336.269 L2274.92 320.76 Q2274.92 317.079 2273.48 315.251 Q2272.04 313.422 2269.17 313.422 Q2265.73 313.422 2263.73 315.621 Q2261.74 317.82 2261.74 321.616 L2261.74 336.269 L2257.46 336.269 L2257.46 310.343 L2261.74 310.343 L2261.74 314.371 Q2263.27 312.033 2265.33 310.876 Q2267.42 309.718 2270.12 309.718 Q2274.59 309.718 2276.88 312.496 Q2279.17 315.251 2279.17 320.621 Z\" fill=\"#000000\" fill-rule=\"evenodd\" fill-opacity=\"1\" /><path clip-path=\"url(#clip880)\" d=\"M2324.91 322.241 L2324.91 324.325 L2305.33 324.325 Q2305.61 328.723 2307.97 331.037 Q2310.35 333.329 2314.59 333.329 Q2317.04 333.329 2319.34 332.727 Q2321.65 332.125 2323.92 330.922 L2323.92 334.95 Q2321.63 335.922 2319.22 336.431 Q2316.81 336.94 2314.34 336.94 Q2308.13 336.94 2304.5 333.329 Q2300.89 329.718 2300.89 323.561 Q2300.89 317.195 2304.31 313.468 Q2307.76 309.718 2313.6 309.718 Q2318.83 309.718 2321.86 313.098 Q2324.91 316.454 2324.91 322.241 M2320.66 320.991 Q2320.61 317.496 2318.69 315.413 Q2316.79 313.329 2313.64 313.329 Q2310.08 313.329 2307.92 315.343 Q2305.79 317.357 2305.47 321.014 L2320.66 320.991 Z\" fill=\"#000000\" fill-rule=\"evenodd\" fill-opacity=\"1\" /><path clip-path=\"url(#clip880)\" d=\"M2346.93 314.325 Q2346.21 313.908 2345.35 313.723 Q2344.52 313.514 2343.5 313.514 Q2339.89 313.514 2337.95 315.876 Q2336.03 318.213 2336.03 322.612 L2336.03 336.269 L2331.74 336.269 L2331.74 310.343 L2336.03 310.343 L2336.03 314.371 Q2337.37 312.01 2339.52 310.876 Q2341.67 309.718 2344.75 309.718 Q2345.19 309.718 2345.72 309.788 Q2346.26 309.834 2346.91 309.95 L2346.93 314.325 Z\" fill=\"#000000\" fill-rule=\"evenodd\" fill-opacity=\"1\" /><path clip-path=\"url(#clip880)\" d=\"M2365.59 314.325 Q2364.87 313.908 2364.01 313.723 Q2363.18 313.514 2362.16 313.514 Q2358.55 313.514 2356.6 315.876 Q2354.68 318.213 2354.68 322.612 L2354.68 336.269 L2350.4 336.269 L2350.4 310.343 L2354.68 310.343 L2354.68 314.371 Q2356.03 312.01 2358.18 310.876 Q2360.33 309.718 2363.41 309.718 Q2363.85 309.718 2364.38 309.788 Q2364.91 309.834 2365.56 309.95 L2365.59 314.325 Z\" fill=\"#000000\" fill-rule=\"evenodd\" fill-opacity=\"1\" /><path clip-path=\"url(#clip880)\" d=\"M2379.06 313.329 Q2375.63 313.329 2373.64 316.014 Q2371.65 318.676 2371.65 323.329 Q2371.65 327.982 2373.62 330.667 Q2375.61 333.329 2379.06 333.329 Q2382.46 333.329 2384.45 330.644 Q2386.44 327.959 2386.44 323.329 Q2386.44 318.723 2384.45 316.038 Q2382.46 313.329 2379.06 313.329 M2379.06 309.718 Q2384.61 309.718 2387.78 313.329 Q2390.96 316.94 2390.96 323.329 Q2390.96 329.695 2387.78 333.329 Q2384.61 336.94 2379.06 336.94 Q2373.48 336.94 2370.31 333.329 Q2367.16 329.695 2367.16 323.329 Q2367.16 316.94 2370.31 313.329 Q2373.48 309.718 2379.06 309.718 Z\" fill=\"#000000\" fill-rule=\"evenodd\" fill-opacity=\"1\" /><path clip-path=\"url(#clip880)\" d=\"M2413.04 314.325 Q2412.32 313.908 2411.47 313.723 Q2410.63 313.514 2409.61 313.514 Q2406 313.514 2404.06 315.876 Q2402.14 318.213 2402.14 322.612 L2402.14 336.269 L2397.85 336.269 L2397.85 310.343 L2402.14 310.343 L2402.14 314.371 Q2403.48 312.01 2405.63 310.876 Q2407.78 309.718 2410.86 309.718 Q2411.3 309.718 2411.84 309.788 Q2412.37 309.834 2413.02 309.95 L2413.04 314.325 Z\" fill=\"#000000\" fill-rule=\"evenodd\" fill-opacity=\"1\" /><path clip-path=\"url(#clip880)\" d=\"\n",
       "M2841.61 3013.49 L5152.76 3013.49 L5152.76 118.82 L2841.61 118.82  Z\n",
       "  \" fill=\"#ffffff\" fill-rule=\"evenodd\" fill-opacity=\"1\"/>\n",
       "<defs>\n",
       "  <clipPath id=\"clip883\">\n",
       "    <rect x=\"2841\" y=\"118\" width=\"2312\" height=\"2896\"/>\n",
       "  </clipPath>\n",
       "</defs>\n",
       "<polyline clip-path=\"url(#clip883)\" style=\"stroke:#000000; stroke-linecap:butt; stroke-linejoin:round; stroke-width:2; stroke-opacity:0.1; fill:none\" points=\"\n",
       "  3045.3,3013.49 3045.3,118.82 \n",
       "  \"/>\n",
       "<polyline clip-path=\"url(#clip883)\" style=\"stroke:#000000; stroke-linecap:butt; stroke-linejoin:round; stroke-width:2; stroke-opacity:0.1; fill:none\" points=\"\n",
       "  3425.84,3013.49 3425.84,118.82 \n",
       "  \"/>\n",
       "<polyline clip-path=\"url(#clip883)\" style=\"stroke:#000000; stroke-linecap:butt; stroke-linejoin:round; stroke-width:2; stroke-opacity:0.1; fill:none\" points=\"\n",
       "  3806.38,3013.49 3806.38,118.82 \n",
       "  \"/>\n",
       "<polyline clip-path=\"url(#clip883)\" style=\"stroke:#000000; stroke-linecap:butt; stroke-linejoin:round; stroke-width:2; stroke-opacity:0.1; fill:none\" points=\"\n",
       "  4186.92,3013.49 4186.92,118.82 \n",
       "  \"/>\n",
       "<polyline clip-path=\"url(#clip883)\" style=\"stroke:#000000; stroke-linecap:butt; stroke-linejoin:round; stroke-width:2; stroke-opacity:0.1; fill:none\" points=\"\n",
       "  4567.45,3013.49 4567.45,118.82 \n",
       "  \"/>\n",
       "<polyline clip-path=\"url(#clip883)\" style=\"stroke:#000000; stroke-linecap:butt; stroke-linejoin:round; stroke-width:2; stroke-opacity:0.1; fill:none\" points=\"\n",
       "  4947.99,3013.49 4947.99,118.82 \n",
       "  \"/>\n",
       "<polyline clip-path=\"url(#clip880)\" style=\"stroke:#000000; stroke-linecap:butt; stroke-linejoin:round; stroke-width:4; stroke-opacity:1; fill:none\" points=\"\n",
       "  2841.61,3013.49 5152.76,3013.49 \n",
       "  \"/>\n",
       "<polyline clip-path=\"url(#clip880)\" style=\"stroke:#000000; stroke-linecap:butt; stroke-linejoin:round; stroke-width:4; stroke-opacity:1; fill:none\" points=\"\n",
       "  3045.3,3013.49 3045.3,2994.6 \n",
       "  \"/>\n",
       "<polyline clip-path=\"url(#clip880)\" style=\"stroke:#000000; stroke-linecap:butt; stroke-linejoin:round; stroke-width:4; stroke-opacity:1; fill:none\" points=\"\n",
       "  3425.84,3013.49 3425.84,2994.6 \n",
       "  \"/>\n",
       "<polyline clip-path=\"url(#clip880)\" style=\"stroke:#000000; stroke-linecap:butt; stroke-linejoin:round; stroke-width:4; stroke-opacity:1; fill:none\" points=\"\n",
       "  3806.38,3013.49 3806.38,2994.6 \n",
       "  \"/>\n",
       "<polyline clip-path=\"url(#clip880)\" style=\"stroke:#000000; stroke-linecap:butt; stroke-linejoin:round; stroke-width:4; stroke-opacity:1; fill:none\" points=\"\n",
       "  4186.92,3013.49 4186.92,2994.6 \n",
       "  \"/>\n",
       "<polyline clip-path=\"url(#clip880)\" style=\"stroke:#000000; stroke-linecap:butt; stroke-linejoin:round; stroke-width:4; stroke-opacity:1; fill:none\" points=\"\n",
       "  4567.45,3013.49 4567.45,2994.6 \n",
       "  \"/>\n",
       "<polyline clip-path=\"url(#clip880)\" style=\"stroke:#000000; stroke-linecap:butt; stroke-linejoin:round; stroke-width:4; stroke-opacity:1; fill:none\" points=\"\n",
       "  4947.99,3013.49 4947.99,2994.6 \n",
       "  \"/>\n",
       "<path clip-path=\"url(#clip880)\" d=\"M3035.68 3094.36 L3043.32 3094.36 L3043.32 3067.99 L3035.01 3069.66 L3035.01 3065.4 L3043.27 3063.73 L3047.95 3063.73 L3047.95 3094.36 L3055.59 3094.36 L3055.59 3098.29 L3035.68 3098.29 L3035.68 3094.36 Z\" fill=\"#000000\" fill-rule=\"evenodd\" fill-opacity=\"1\" /><path clip-path=\"url(#clip880)\" d=\"M3420.49 3094.36 L3436.81 3094.36 L3436.81 3098.29 L3414.86 3098.29 L3414.86 3094.36 Q3417.53 3091.6 3422.11 3086.97 Q3426.72 3082.32 3427.9 3080.98 Q3430.14 3078.46 3431.02 3076.72 Q3431.92 3074.96 3431.92 3073.27 Q3431.92 3070.52 3429.98 3068.78 Q3428.06 3067.04 3424.96 3067.04 Q3422.76 3067.04 3420.3 3067.81 Q3417.87 3068.57 3415.1 3070.12 L3415.1 3065.4 Q3417.92 3064.27 3420.37 3063.69 Q3422.83 3063.11 3424.86 3063.11 Q3430.24 3063.11 3433.43 3065.79 Q3436.62 3068.48 3436.62 3072.97 Q3436.62 3075.1 3435.81 3077.02 Q3435.03 3078.92 3432.92 3081.51 Q3432.34 3082.18 3429.24 3085.4 Q3426.14 3088.59 3420.49 3094.36 Z\" fill=\"#000000\" fill-rule=\"evenodd\" fill-opacity=\"1\" /><path clip-path=\"url(#clip880)\" d=\"M3810.62 3079.66 Q3813.98 3080.38 3815.86 3082.65 Q3817.75 3084.91 3817.75 3088.25 Q3817.75 3093.36 3814.23 3096.16 Q3810.72 3098.96 3804.23 3098.96 Q3802.06 3098.96 3799.74 3098.53 Q3797.45 3098.11 3795 3097.25 L3795 3092.74 Q3796.94 3093.87 3799.26 3094.45 Q3801.57 3095.03 3804.1 3095.03 Q3808.49 3095.03 3810.79 3093.29 Q3813.1 3091.56 3813.1 3088.25 Q3813.1 3085.19 3810.95 3083.48 Q3808.82 3081.74 3805 3081.74 L3800.97 3081.74 L3800.97 3077.9 L3805.18 3077.9 Q3808.63 3077.9 3810.46 3076.53 Q3812.29 3075.15 3812.29 3072.55 Q3812.29 3069.89 3810.39 3068.48 Q3808.52 3067.04 3805 3067.04 Q3803.08 3067.04 3800.88 3067.46 Q3798.68 3067.88 3796.04 3068.76 L3796.04 3064.59 Q3798.7 3063.85 3801.02 3063.48 Q3803.36 3063.11 3805.42 3063.11 Q3810.74 3063.11 3813.84 3065.54 Q3816.94 3067.95 3816.94 3072.07 Q3816.94 3074.94 3815.3 3076.93 Q3813.66 3078.9 3810.62 3079.66 Z\" fill=\"#000000\" fill-rule=\"evenodd\" fill-opacity=\"1\" /><path clip-path=\"url(#clip880)\" d=\"M4189.92 3067.81 L4178.12 3086.26 L4189.92 3086.26 L4189.92 3067.81 M4188.7 3063.73 L4194.58 3063.73 L4194.58 3086.26 L4199.51 3086.26 L4199.51 3090.15 L4194.58 3090.15 L4194.58 3098.29 L4189.92 3098.29 L4189.92 3090.15 L4174.32 3090.15 L4174.32 3085.63 L4188.7 3063.73 Z\" fill=\"#000000\" fill-rule=\"evenodd\" fill-opacity=\"1\" /><path clip-path=\"url(#clip880)\" d=\"M4557.73 3063.73 L4576.09 3063.73 L4576.09 3067.67 L4562.01 3067.67 L4562.01 3076.14 Q4563.03 3075.79 4564.05 3075.63 Q4565.07 3075.45 4566.09 3075.45 Q4571.88 3075.45 4575.26 3078.62 Q4578.63 3081.79 4578.63 3087.21 Q4578.63 3092.78 4575.16 3095.89 Q4571.69 3098.96 4565.37 3098.96 Q4563.2 3098.96 4560.93 3098.59 Q4558.68 3098.22 4556.27 3097.48 L4556.27 3092.78 Q4558.36 3093.92 4560.58 3094.47 Q4562.8 3095.03 4565.28 3095.03 Q4569.28 3095.03 4571.62 3092.92 Q4573.96 3090.82 4573.96 3087.21 Q4573.96 3083.59 4571.62 3081.49 Q4569.28 3079.38 4565.28 3079.38 Q4563.4 3079.38 4561.53 3079.8 Q4559.68 3080.22 4557.73 3081.09 L4557.73 3063.73 Z\" fill=\"#000000\" fill-rule=\"evenodd\" fill-opacity=\"1\" /><path clip-path=\"url(#clip880)\" d=\"M4948.4 3079.15 Q4945.25 3079.15 4943.4 3081.3 Q4941.57 3083.46 4941.57 3087.21 Q4941.57 3090.93 4943.4 3093.11 Q4945.25 3095.26 4948.4 3095.26 Q4951.55 3095.26 4953.38 3093.11 Q4955.23 3090.93 4955.23 3087.21 Q4955.23 3083.46 4953.38 3081.3 Q4951.55 3079.15 4948.4 3079.15 M4957.68 3064.5 L4957.68 3068.76 Q4955.92 3067.92 4954.12 3067.48 Q4952.33 3067.04 4950.57 3067.04 Q4945.94 3067.04 4943.49 3070.17 Q4941.06 3073.29 4940.71 3079.61 Q4942.08 3077.6 4944.14 3076.53 Q4946.2 3075.45 4948.68 3075.45 Q4953.88 3075.45 4956.89 3078.62 Q4959.93 3081.77 4959.93 3087.21 Q4959.93 3092.53 4956.78 3095.75 Q4953.63 3098.96 4948.4 3098.96 Q4942.4 3098.96 4939.23 3094.38 Q4936.06 3089.78 4936.06 3081.05 Q4936.06 3072.85 4939.95 3067.99 Q4943.84 3063.11 4950.39 3063.11 Q4952.15 3063.11 4953.93 3063.46 Q4955.74 3063.8 4957.68 3064.5 Z\" fill=\"#000000\" fill-rule=\"evenodd\" fill-opacity=\"1\" /><path clip-path=\"url(#clip880)\" d=\"M3722.93 3152.84 L3729.36 3152.84 L3729.36 3172.92 L3750.69 3152.84 L3758.96 3152.84 L3735.38 3174.99 L3760.65 3200.36 L3752.18 3200.36 L3729.36 3177.47 L3729.36 3200.36 L3722.93 3200.36 L3722.93 3152.84 Z\" fill=\"#000000\" fill-rule=\"evenodd\" fill-opacity=\"1\" /><path clip-path=\"url(#clip880)\" d=\"M3780.48 3182.44 Q3773.38 3182.44 3770.64 3184.06 Q3767.9 3185.68 3767.9 3189.6 Q3767.9 3192.72 3769.94 3194.56 Q3772.01 3196.38 3775.54 3196.38 Q3780.41 3196.38 3783.34 3192.94 Q3786.3 3189.47 3786.3 3183.74 L3786.3 3182.44 L3780.48 3182.44 M3792.16 3180.02 L3792.16 3200.36 L3786.3 3200.36 L3786.3 3194.95 Q3784.3 3198.19 3781.3 3199.75 Q3778.31 3201.28 3773.98 3201.28 Q3768.51 3201.28 3765.26 3198.23 Q3762.05 3195.14 3762.05 3189.98 Q3762.05 3183.97 3766.06 3180.91 Q3770.1 3177.85 3778.09 3177.85 L3786.3 3177.85 L3786.3 3177.28 Q3786.3 3173.24 3783.63 3171.04 Q3780.99 3168.82 3776.18 3168.82 Q3773.12 3168.82 3770.23 3169.55 Q3767.33 3170.28 3764.66 3171.74 L3764.66 3166.33 Q3767.87 3165.09 3770.9 3164.49 Q3773.92 3163.85 3776.79 3163.85 Q3784.52 3163.85 3788.34 3167.86 Q3792.16 3171.87 3792.16 3180.02 Z\" fill=\"#000000\" fill-rule=\"evenodd\" fill-opacity=\"1\" /><path clip-path=\"url(#clip880)\" d=\"M3833.85 3178.84 L3833.85 3200.36 L3828 3200.36 L3828 3179.03 Q3828 3173.97 3826.02 3171.46 Q3824.05 3168.94 3820.1 3168.94 Q3815.36 3168.94 3812.62 3171.97 Q3809.89 3174.99 3809.89 3180.21 L3809.89 3200.36 L3804 3200.36 L3804 3150.83 L3809.89 3150.83 L3809.89 3170.25 Q3811.99 3167.03 3814.82 3165.44 Q3817.68 3163.85 3821.41 3163.85 Q3827.55 3163.85 3830.7 3167.67 Q3833.85 3171.46 3833.85 3178.84 Z\" fill=\"#000000\" fill-rule=\"evenodd\" fill-opacity=\"1\" /><path clip-path=\"url(#clip880)\" d=\"M3861.74 3182.44 Q3854.64 3182.44 3851.9 3184.06 Q3849.16 3185.68 3849.16 3189.6 Q3849.16 3192.72 3851.2 3194.56 Q3853.27 3196.38 3856.8 3196.38 Q3861.67 3196.38 3864.6 3192.94 Q3867.56 3189.47 3867.56 3183.74 L3867.56 3182.44 L3861.74 3182.44 M3873.42 3180.02 L3873.42 3200.36 L3867.56 3200.36 L3867.56 3194.95 Q3865.55 3198.19 3862.56 3199.75 Q3859.57 3201.28 3855.24 3201.28 Q3849.77 3201.28 3846.52 3198.23 Q3843.31 3195.14 3843.31 3189.98 Q3843.31 3183.97 3847.32 3180.91 Q3851.36 3177.85 3859.35 3177.85 L3867.56 3177.85 L3867.56 3177.28 Q3867.56 3173.24 3864.89 3171.04 Q3862.24 3168.82 3857.44 3168.82 Q3854.38 3168.82 3851.49 3169.55 Q3848.59 3170.28 3845.92 3171.74 L3845.92 3166.33 Q3849.13 3165.09 3852.15 3164.49 Q3855.18 3163.85 3858.04 3163.85 Q3865.78 3163.85 3869.6 3167.86 Q3873.42 3171.87 3873.42 3180.02 Z\" fill=\"#000000\" fill-rule=\"evenodd\" fill-opacity=\"1\" /><path clip-path=\"url(#clip880)\" d=\"M3915.11 3178.84 L3915.11 3200.36 L3909.26 3200.36 L3909.26 3179.03 Q3909.26 3173.97 3907.28 3171.46 Q3905.31 3168.94 3901.36 3168.94 Q3896.62 3168.94 3893.88 3171.97 Q3891.14 3174.99 3891.14 3180.21 L3891.14 3200.36 L3885.26 3200.36 L3885.26 3164.71 L3891.14 3164.71 L3891.14 3170.25 Q3893.25 3167.03 3896.08 3165.44 Q3898.94 3163.85 3902.67 3163.85 Q3908.81 3163.85 3911.96 3167.67 Q3915.11 3171.46 3915.11 3178.84 Z\" fill=\"#000000\" fill-rule=\"evenodd\" fill-opacity=\"1\" /><path clip-path=\"url(#clip880)\" d=\"M3975.27 3171.55 Q3977.46 3167.61 3980.52 3165.73 Q3983.57 3163.85 3987.71 3163.85 Q3993.28 3163.85 3996.31 3167.77 Q3999.33 3171.65 3999.33 3178.84 L3999.33 3200.36 L3993.44 3200.36 L3993.44 3179.03 Q3993.44 3173.91 3991.63 3171.43 Q3989.81 3168.94 3986.09 3168.94 Q3981.54 3168.94 3978.9 3171.97 Q3976.25 3174.99 3976.25 3180.21 L3976.25 3200.36 L3970.37 3200.36 L3970.37 3179.03 Q3970.37 3173.88 3968.55 3171.43 Q3966.74 3168.94 3962.95 3168.94 Q3958.46 3168.94 3955.82 3172 Q3953.18 3175.02 3953.18 3180.21 L3953.18 3200.36 L3947.29 3200.36 L3947.29 3164.71 L3953.18 3164.71 L3953.18 3170.25 Q3955.18 3166.97 3957.98 3165.41 Q3960.79 3163.85 3964.64 3163.85 Q3968.52 3163.85 3971.23 3165.82 Q3973.96 3167.8 3975.27 3171.55 Z\" fill=\"#000000\" fill-rule=\"evenodd\" fill-opacity=\"1\" /><path clip-path=\"url(#clip880)\" d=\"M4027.21 3182.44 Q4020.11 3182.44 4017.38 3184.06 Q4014.64 3185.68 4014.64 3189.6 Q4014.64 3192.72 4016.68 3194.56 Q4018.75 3196.38 4022.28 3196.38 Q4027.15 3196.38 4030.08 3192.94 Q4033.04 3189.47 4033.04 3183.74 L4033.04 3182.44 L4027.21 3182.44 M4038.89 3180.02 L4038.89 3200.36 L4033.04 3200.36 L4033.04 3194.95 Q4031.03 3198.19 4028.04 3199.75 Q4025.05 3201.28 4020.72 3201.28 Q4015.24 3201.28 4012 3198.23 Q4008.78 3195.14 4008.78 3189.98 Q4008.78 3183.97 4012.79 3180.91 Q4016.84 3177.85 4024.82 3177.85 L4033.04 3177.85 L4033.04 3177.28 Q4033.04 3173.24 4030.36 3171.04 Q4027.72 3168.82 4022.92 3168.82 Q4019.86 3168.82 4016.96 3169.55 Q4014.07 3170.28 4011.39 3171.74 L4011.39 3166.33 Q4014.61 3165.09 4017.63 3164.49 Q4020.66 3163.85 4023.52 3163.85 Q4031.25 3163.85 4035.07 3167.86 Q4038.89 3171.87 4038.89 3180.02 Z\" fill=\"#000000\" fill-rule=\"evenodd\" fill-opacity=\"1\" /><path clip-path=\"url(#clip880)\" d=\"M4056.75 3154.59 L4056.75 3164.71 L4068.81 3164.71 L4068.81 3169.26 L4056.75 3169.26 L4056.75 3188.61 Q4056.75 3192.97 4057.93 3194.21 Q4059.14 3195.46 4062.8 3195.46 L4068.81 3195.46 L4068.81 3200.36 L4062.8 3200.36 Q4056.02 3200.36 4053.44 3197.84 Q4050.86 3195.3 4050.86 3188.61 L4050.86 3169.26 L4046.56 3169.26 L4046.56 3164.71 L4050.86 3164.71 L4050.86 3154.59 L4056.75 3154.59 Z\" fill=\"#000000\" fill-rule=\"evenodd\" fill-opacity=\"1\" /><path clip-path=\"url(#clip880)\" d=\"M4097.17 3170.18 Q4096.18 3169.61 4095.01 3169.36 Q4093.86 3169.07 4092.46 3169.07 Q4087.5 3169.07 4084.82 3172.32 Q4082.18 3175.53 4082.18 3181.58 L4082.18 3200.36 L4076.29 3200.36 L4076.29 3164.71 L4082.18 3164.71 L4082.18 3170.25 Q4084.03 3167 4086.99 3165.44 Q4089.95 3163.85 4094.18 3163.85 Q4094.78 3163.85 4095.52 3163.95 Q4096.25 3164.01 4097.14 3164.17 L4097.17 3170.18 Z\" fill=\"#000000\" fill-rule=\"evenodd\" fill-opacity=\"1\" /><path clip-path=\"url(#clip880)\" d=\"M4103.31 3164.71 L4109.17 3164.71 L4109.17 3200.36 L4103.31 3200.36 L4103.31 3164.71 M4103.31 3150.83 L4109.17 3150.83 L4109.17 3158.25 L4103.31 3158.25 L4103.31 3150.83 Z\" fill=\"#000000\" fill-rule=\"evenodd\" fill-opacity=\"1\" /><path clip-path=\"url(#clip880)\" d=\"M4151.06 3164.71 L4138.17 3182.06 L4151.73 3200.36 L4144.82 3200.36 L4134.44 3186.35 L4124.07 3200.36 L4117.16 3200.36 L4131 3181.71 L4118.34 3164.71 L4125.24 3164.71 L4134.7 3177.41 L4144.15 3164.71 L4151.06 3164.71 Z\" fill=\"#000000\" fill-rule=\"evenodd\" fill-opacity=\"1\" /><path clip-path=\"url(#clip880)\" d=\"M4204.66 3177.76 L4184.38 3177.76 Q4184.86 3187.28 4187.05 3191.32 Q4189.79 3196.28 4194.53 3196.28 Q4199.31 3196.28 4201.95 3191.29 Q4204.27 3186.89 4204.66 3177.76 M4204.56 3172.35 Q4203.67 3163.31 4201.95 3160.13 Q4199.21 3155.1 4194.53 3155.1 Q4189.66 3155.1 4187.09 3160.06 Q4185.05 3164.07 4184.44 3172.35 L4204.56 3172.35 M4194.53 3150.32 Q4202.17 3150.32 4206.53 3157.07 Q4210.89 3163.79 4210.89 3175.69 Q4210.89 3187.56 4206.53 3194.31 Q4202.17 3201.09 4194.53 3201.09 Q4186.86 3201.09 4182.54 3194.31 Q4178.17 3187.56 4178.17 3175.69 Q4178.17 3163.79 4182.54 3157.07 Q4186.86 3150.32 4194.53 3150.32 Z\" fill=\"#000000\" fill-rule=\"evenodd\" fill-opacity=\"1\" /><path clip-path=\"url(#clip880)\" d=\"M4218.82 3166.14 L4244.51 3166.14 L4244.51 3169.17 L4218.82 3169.17 L4218.82 3166.14 Z\" fill=\"#000000\" fill-rule=\"evenodd\" fill-opacity=\"1\" /><path clip-path=\"url(#clip880)\" d=\"M4253.83 3175.6 L4260.32 3175.6 L4260.32 3156.15 L4253.23 3157.45 L4253.23 3153.76 L4260.55 3152.52 L4264.91 3152.52 L4264.91 3175.6 L4271.43 3175.6 L4271.43 3179.1 L4253.83 3179.1 L4253.83 3175.6 Z\" fill=\"#000000\" fill-rule=\"evenodd\" fill-opacity=\"1\" /><polyline clip-path=\"url(#clip883)\" style=\"stroke:#000000; stroke-linecap:butt; stroke-linejoin:round; stroke-width:2; stroke-opacity:0.1; fill:none\" points=\"\n",
       "  2841.61,1752.19 5152.76,1752.19 \n",
       "  \"/>\n",
       "<polyline clip-path=\"url(#clip883)\" style=\"stroke:#000000; stroke-linecap:butt; stroke-linejoin:round; stroke-width:2; stroke-opacity:0.1; fill:none\" points=\"\n",
       "  2841.61,166.552 5152.76,166.552 \n",
       "  \"/>\n",
       "<polyline clip-path=\"url(#clip880)\" style=\"stroke:#000000; stroke-linecap:butt; stroke-linejoin:round; stroke-width:4; stroke-opacity:1; fill:none\" points=\"\n",
       "  2841.61,3013.49 2841.61,118.82 \n",
       "  \"/>\n",
       "<polyline clip-path=\"url(#clip880)\" style=\"stroke:#000000; stroke-linecap:butt; stroke-linejoin:round; stroke-width:4; stroke-opacity:1; fill:none\" points=\"\n",
       "  2841.61,1752.19 2860.51,1752.19 \n",
       "  \"/>\n",
       "<polyline clip-path=\"url(#clip880)\" style=\"stroke:#000000; stroke-linecap:butt; stroke-linejoin:round; stroke-width:4; stroke-opacity:1; fill:none\" points=\"\n",
       "  2841.61,166.552 2860.51,166.552 \n",
       "  \"/>\n",
       "<path clip-path=\"url(#clip880)\" d=\"M2637.66 1771.98 L2645.3 1771.98 L2645.3 1745.61 L2636.99 1747.28 L2636.99 1743.02 L2645.26 1741.35 L2649.93 1741.35 L2649.93 1771.98 L2657.57 1771.98 L2657.57 1775.91 L2637.66 1775.91 L2637.66 1771.98 Z\" fill=\"#000000\" fill-rule=\"evenodd\" fill-opacity=\"1\" /><path clip-path=\"url(#clip880)\" d=\"M2677.02 1744.43 Q2673.4 1744.43 2671.58 1748 Q2669.77 1751.54 2669.77 1758.67 Q2669.77 1765.78 2671.58 1769.34 Q2673.4 1772.88 2677.02 1772.88 Q2680.65 1772.88 2682.45 1769.34 Q2684.28 1765.78 2684.28 1758.67 Q2684.28 1751.54 2682.45 1748 Q2680.65 1744.43 2677.02 1744.43 M2677.02 1740.73 Q2682.83 1740.73 2685.88 1745.34 Q2688.96 1749.92 2688.96 1758.67 Q2688.96 1767.4 2685.88 1772 Q2682.83 1776.59 2677.02 1776.59 Q2671.2 1776.59 2668.13 1772 Q2665.07 1767.4 2665.07 1758.67 Q2665.07 1749.92 2668.13 1745.34 Q2671.2 1740.73 2677.02 1740.73 Z\" fill=\"#000000\" fill-rule=\"evenodd\" fill-opacity=\"1\" /><path clip-path=\"url(#clip880)\" d=\"M2688.96 1734.83 L2713.07 1734.83 L2713.07 1738.03 L2688.96 1738.03 L2688.96 1734.83 Z\" fill=\"#000000\" fill-rule=\"evenodd\" fill-opacity=\"1\" /><path clip-path=\"url(#clip880)\" d=\"M2721.93 1745.31 L2728.14 1745.31 L2728.14 1723.88 L2721.38 1725.24 L2721.38 1721.78 L2728.1 1720.42 L2731.9 1720.42 L2731.9 1745.31 L2738.1 1745.31 L2738.1 1748.5 L2721.93 1748.5 L2721.93 1745.31 Z\" fill=\"#000000\" fill-rule=\"evenodd\" fill-opacity=\"1\" /><path clip-path=\"url(#clip880)\" d=\"M2753.9 1722.93 Q2750.97 1722.93 2749.48 1725.82 Q2748.02 1728.7 2748.02 1734.49 Q2748.02 1740.27 2749.48 1743.16 Q2750.97 1746.04 2753.9 1746.04 Q2756.86 1746.04 2758.32 1743.16 Q2759.81 1740.27 2759.81 1734.49 Q2759.81 1728.7 2758.32 1725.82 Q2756.86 1722.93 2753.9 1722.93 M2753.9 1719.92 Q2758.62 1719.92 2761.11 1723.66 Q2763.61 1727.38 2763.61 1734.49 Q2763.61 1741.58 2761.11 1745.33 Q2758.62 1749.05 2753.9 1749.05 Q2749.18 1749.05 2746.68 1745.33 Q2744.2 1741.58 2744.2 1734.49 Q2744.2 1727.38 2746.68 1723.66 Q2749.18 1719.92 2753.9 1719.92 Z\" fill=\"#000000\" fill-rule=\"evenodd\" fill-opacity=\"1\" /><path clip-path=\"url(#clip880)\" d=\"M2692.9 186.345 L2700.54 186.345 L2700.54 159.979 L2692.23 161.646 L2692.23 157.386 L2700.49 155.72 L2705.17 155.72 L2705.17 186.345 L2712.81 186.345 L2712.81 190.28 L2692.9 190.28 L2692.9 186.345 Z\" fill=\"#000000\" fill-rule=\"evenodd\" fill-opacity=\"1\" /><path clip-path=\"url(#clip880)\" d=\"M2732.25 158.798 Q2728.64 158.798 2726.81 162.363 Q2725.01 165.905 2725.01 173.034 Q2725.01 180.141 2726.81 183.706 Q2728.64 187.247 2732.25 187.247 Q2735.89 187.247 2737.69 183.706 Q2739.52 180.141 2739.52 173.034 Q2739.52 165.905 2737.69 162.363 Q2735.89 158.798 2732.25 158.798 M2732.25 155.095 Q2738.06 155.095 2741.12 159.701 Q2744.2 164.285 2744.2 173.034 Q2744.2 181.761 2741.12 186.368 Q2738.06 190.951 2732.25 190.951 Q2726.44 190.951 2723.36 186.368 Q2720.31 181.761 2720.31 173.034 Q2720.31 164.285 2723.36 159.701 Q2726.44 155.095 2732.25 155.095 Z\" fill=\"#000000\" fill-rule=\"evenodd\" fill-opacity=\"1\" /><path clip-path=\"url(#clip880)\" d=\"M2753.9 137.291 Q2750.97 137.291 2749.48 140.187 Q2748.02 143.065 2748.02 148.858 Q2748.02 154.632 2749.48 157.528 Q2750.97 160.406 2753.9 160.406 Q2756.86 160.406 2758.32 157.528 Q2759.81 154.632 2759.81 148.858 Q2759.81 143.065 2758.32 140.187 Q2756.86 137.291 2753.9 137.291 M2753.9 134.282 Q2758.62 134.282 2761.11 138.024 Q2763.61 141.748 2763.61 148.858 Q2763.61 155.948 2761.11 159.691 Q2758.62 163.415 2753.9 163.415 Q2749.18 163.415 2746.68 159.691 Q2744.2 155.948 2744.2 148.858 Q2744.2 141.748 2746.68 138.024 Q2749.18 134.282 2753.9 134.282 Z\" fill=\"#000000\" fill-rule=\"evenodd\" fill-opacity=\"1\" /><path clip-path=\"url(#clip880)\" d=\"M3862.89 27.2059 L3870.35 27.2059 L3870.35 73.3862 Q3870.35 82.0551 3867.03 85.944 Q3863.74 89.8329 3856.41 89.8329 L3853.58 89.8329 L3853.58 83.5134 L3855.56 83.5134 Q3859.82 83.5134 3861.35 81.5285 Q3862.89 79.5841 3862.89 73.3862 L3862.89 27.2059 M3862.89 9.54393 L3870.35 9.54393 L3870.35 18.9825 L3862.89 18.9825 L3862.89 9.54393 Z\" fill=\"#000000\" fill-rule=\"evenodd\" fill-opacity=\"1\" /><path clip-path=\"url(#clip880)\" d=\"M3885.17 54.671 L3885.17 27.2059 L3892.63 27.2059 L3892.63 54.3874 Q3892.63 60.8284 3895.14 64.0691 Q3897.65 67.2693 3902.67 67.2693 Q3908.71 67.2693 3912.19 63.421 Q3915.72 59.5726 3915.72 52.9291 L3915.72 27.2059 L3923.17 27.2059 L3923.17 72.576 L3915.72 72.576 L3915.72 65.6084 Q3913 69.7404 3909.4 71.7658 Q3905.83 73.7508 3901.09 73.7508 Q3893.28 73.7508 3889.23 68.8897 Q3885.17 64.0286 3885.17 54.671 M3903.93 26.1121 L3903.93 26.1121 Z\" fill=\"#000000\" fill-rule=\"evenodd\" fill-opacity=\"1\" /><path clip-path=\"url(#clip880)\" d=\"M3938.52 9.54393 L3945.98 9.54393 L3945.98 72.576 L3938.52 72.576 L3938.52 9.54393 Z\" fill=\"#000000\" fill-rule=\"evenodd\" fill-opacity=\"1\" /><path clip-path=\"url(#clip880)\" d=\"M3961.57 27.2059 L3969.03 27.2059 L3969.03 72.576 L3961.57 72.576 L3961.57 27.2059 M3961.57 9.54393 L3969.03 9.54393 L3969.03 18.9825 L3961.57 18.9825 L3961.57 9.54393 Z\" fill=\"#000000\" fill-rule=\"evenodd\" fill-opacity=\"1\" /><path clip-path=\"url(#clip880)\" d=\"M4005.24 49.7694 Q3996.21 49.7694 3992.73 51.8354 Q3989.24 53.9013 3989.24 58.8839 Q3989.24 62.8538 3991.83 65.2034 Q3994.47 67.5124 3998.96 67.5124 Q4005.16 67.5124 4008.89 63.1374 Q4012.66 58.7219 4012.66 51.4303 L4012.66 49.7694 L4005.24 49.7694 M4020.11 46.6907 L4020.11 72.576 L4012.66 72.576 L4012.66 65.6895 Q4010.1 69.8214 4006.3 71.8063 Q4002.49 73.7508 3996.98 73.7508 Q3990.01 73.7508 3985.88 69.8619 Q3981.79 65.9325 3981.79 59.3701 Q3981.79 51.7138 3986.89 47.825 Q3992.04 43.9361 4002.2 43.9361 L4012.66 43.9361 L4012.66 43.2069 Q4012.66 38.0623 4009.25 35.2672 Q4005.89 32.4315 3999.77 32.4315 Q3995.89 32.4315 3992.2 33.3632 Q3988.51 34.295 3985.11 36.1584 L3985.11 29.2718 Q3989.2 27.692 3993.05 26.9223 Q3996.9 26.1121 4000.54 26.1121 Q4010.39 26.1121 4015.25 31.2163 Q4020.11 36.3204 4020.11 46.6907 Z\" fill=\"#000000\" fill-rule=\"evenodd\" fill-opacity=\"1\" /><path clip-path=\"url(#clip880)\" d=\"M4066.29 49.9314 Q4066.29 58.1548 4069.65 62.8538 Q4073.06 67.5124 4078.97 67.5124 Q4084.88 67.5124 4088.29 62.8538 Q4091.69 58.1548 4091.69 49.9314 Q4091.69 41.7081 4088.29 37.0496 Q4084.88 32.3505 4078.97 32.3505 Q4073.06 32.3505 4069.65 37.0496 Q4066.29 41.7081 4066.29 49.9314 M4091.69 65.7705 Q4089.34 69.8214 4085.73 71.8063 Q4082.17 73.7508 4077.15 73.7508 Q4068.92 73.7508 4063.74 67.1883 Q4058.59 60.6258 4058.59 49.9314 Q4058.59 39.2371 4063.74 32.6746 Q4068.92 26.1121 4077.15 26.1121 Q4082.17 26.1121 4085.73 28.0971 Q4089.34 30.0415 4091.69 34.0924 L4091.69 27.2059 L4099.14 27.2059 L4099.14 89.8329 L4091.69 89.8329 L4091.69 65.7705 Z\" fill=\"#000000\" fill-rule=\"evenodd\" fill-opacity=\"1\" /><path clip-path=\"url(#clip880)\" d=\"M4140.79 34.1734 Q4139.53 33.4443 4138.03 33.1202 Q4136.57 32.7556 4134.79 32.7556 Q4128.47 32.7556 4125.07 36.8875 Q4121.71 40.9789 4121.71 48.6757 L4121.71 72.576 L4114.21 72.576 L4114.21 27.2059 L4121.71 27.2059 L4121.71 34.2544 Q4124.06 30.1225 4127.82 28.1376 Q4131.59 26.1121 4136.98 26.1121 Q4137.75 26.1121 4138.68 26.2337 Q4139.61 26.3147 4140.75 26.5172 L4140.79 34.1734 Z\" fill=\"#000000\" fill-rule=\"evenodd\" fill-opacity=\"1\" /><polyline clip-path=\"url(#clip883)\" style=\"stroke:#009af9; stroke-linecap:butt; stroke-linejoin:round; stroke-width:8; stroke-opacity:1; fill:none\" points=\"\n",
       "  2907.02,2965.76 2919.13,2965.76 2931.24,2965.76 2943.36,2965.76 2955.47,2965.76 2967.58,2965.76 2979.69,2965.76 2991.81,2965.76 3003.92,2965.76 3016.03,2965.76 \n",
       "  3028.15,2965.76 3040.26,2965.76 3052.37,2965.76 3064.49,2965.76 3076.6,2965.76 3088.71,2965.76 3100.82,2965.76 3112.94,2965.76 3125.05,2965.76 3137.16,2965.76 \n",
       "  3149.28,2965.76 3161.39,2965.76 3173.5,2965.76 3185.61,2965.76 3197.73,2965.76 3209.84,2965.76 3221.95,2965.76 3234.07,2965.76 3246.18,2965.76 3258.29,2965.76 \n",
       "  3270.41,2965.76 3282.52,2965.76 3294.63,2965.76 3306.74,2965.76 3318.86,2965.76 3330.97,2965.76 3343.08,2965.76 3355.2,2965.76 3367.31,2965.76 3379.42,2965.76 \n",
       "  3391.53,2965.76 3403.65,2965.76 3415.76,2965.76 3427.87,2965.76 3439.99,2965.76 3452.1,2965.76 3464.21,2965.76 3476.33,2965.76 3488.44,2965.76 3500.55,2965.76 \n",
       "  3512.66,2965.76 3524.78,2965.76 3536.89,2965.76 3549,2965.76 3561.12,2965.76 3573.23,2965.76 3585.34,2965.76 3597.45,2965.76 3609.57,2965.76 3621.68,2965.76 \n",
       "  3633.79,2965.76 3645.91,2965.76 3658.02,2965.76 3670.13,2965.76 3682.25,2965.76 3694.36,2965.76 3706.47,2965.76 3718.58,2965.76 3730.7,2965.76 3742.81,2965.76 \n",
       "  3754.92,2965.76 3767.04,2965.76 3779.15,2965.76 3791.26,2965.76 3803.37,2965.76 3815.49,2965.76 3827.6,2965.76 3839.71,2965.76 3851.83,2965.76 3863.94,2965.76 \n",
       "  3876.05,2965.76 3888.17,2965.76 3900.28,2965.76 3912.39,2965.76 3924.5,2965.76 3936.62,2965.76 3948.73,2965.76 3960.84,2965.76 3972.96,2965.76 3985.07,2965.76 \n",
       "  3997.18,2965.76 4009.29,2965.76 4021.41,2965.76 4033.52,2965.76 4045.63,2965.76 4057.75,2965.76 4069.86,2965.76 4081.97,2965.76 4094.09,2965.76 4106.2,2965.76 \n",
       "  4118.31,2965.76 4130.42,2965.76 4142.54,2965.76 4154.65,2965.76 4166.76,2965.76 4178.88,2965.76 4190.99,2965.76 4203.1,2965.76 4215.21,2965.76 4227.33,2965.76 \n",
       "  4239.44,2965.76 4251.55,2965.76 4263.67,2965.76 4275.78,2965.76 4287.89,2965.76 4300.01,2965.76 4312.12,2965.76 4324.23,2965.76 4336.34,2965.76 4348.46,2965.76 \n",
       "  4360.57,2965.76 4372.68,2965.76 4384.8,2965.76 4396.91,2965.76 4409.02,2965.76 4421.13,2965.76 4433.25,2965.76 4445.36,2965.76 4457.47,2965.76 4469.59,2965.76 \n",
       "  4481.7,2965.76 4493.81,2965.76 4505.93,2965.76 4518.04,2965.76 4530.15,2965.76 4542.26,2965.76 4554.38,2965.76 4566.49,2965.76 4578.6,2965.76 4590.72,2965.76 \n",
       "  4602.83,2965.76 4614.94,2965.76 4627.05,2965.76 4639.17,2965.76 4651.28,2965.76 4663.39,2965.76 4675.51,2965.76 4687.62,2965.76 4699.73,2965.76 4711.84,2965.76 \n",
       "  4723.96,2965.76 4736.07,2965.76 4748.18,2965.76 4760.3,2965.76 4772.41,2965.76 4784.52,2965.76 4796.64,2965.76 4808.75,2965.76 4820.86,2965.76 4832.97,2965.76 \n",
       "  4845.09,2965.76 4857.2,2965.76 4869.31,2965.76 4881.43,2965.76 4893.54,2965.76 4905.65,2965.76 4917.76,2965.76 4929.88,2965.76 4941.99,2965.76 4954.1,2965.76 \n",
       "  4966.22,2965.76 4978.33,2965.76 4990.44,2965.76 5002.56,2965.76 5014.67,2965.76 5026.78,2965.76 5038.89,2965.76 5051.01,2965.76 5063.12,2965.76 5075.23,2965.76 \n",
       "  5087.35,2965.76 \n",
       "  \"/>\n",
       "<polyline clip-path=\"url(#clip883)\" style=\"stroke:#e26f46; stroke-linecap:butt; stroke-linejoin:round; stroke-width:8; stroke-opacity:1; fill:none\" points=\"\n",
       "  2907.02,2965.76 2919.13,2965.76 2931.24,2965.76 2943.36,2965.76 2955.47,2965.76 2967.58,2965.76 2979.69,2965.76 2991.81,2965.76 3003.92,2965.76 3016.03,2965.76 \n",
       "  3028.15,2668.45 3040.26,2965.76 3052.37,2965.76 3064.49,2965.76 3076.6,2965.76 3088.71,2965.76 3100.82,2965.76 3112.94,2965.76 3125.05,2965.76 3137.16,2965.76 \n",
       "  3149.28,2965.76 3161.39,2965.76 3173.5,2965.76 3185.61,2965.76 3197.73,2965.76 3209.84,2965.76 3221.95,2965.76 3234.07,2965.76 3246.18,2965.76 3258.29,2965.76 \n",
       "  3270.41,2965.76 3282.52,2965.76 3294.63,2965.76 3306.74,2965.76 3318.86,2965.76 3330.97,2965.76 3343.08,2965.76 3355.2,2965.76 3367.31,2965.76 3379.42,2965.76 \n",
       "  3391.53,2648.63 3403.65,2965.76 3415.76,2965.76 3427.87,2965.76 3439.99,2965.76 3452.1,2965.76 3464.21,2965.76 3476.33,2965.76 3488.44,2965.76 3500.55,2965.76 \n",
       "  3512.66,2965.76 3524.78,2965.76 3536.89,2965.76 3549,2965.76 3561.12,2965.76 3573.23,2965.76 3585.34,2965.76 3597.45,2965.76 3609.57,2965.76 3621.68,2965.76 \n",
       "  3633.79,2965.76 3645.91,2965.76 3658.02,2965.76 3670.13,2965.76 3682.25,2965.76 3694.36,2965.76 3706.47,2965.76 3718.58,2965.76 3730.7,2965.76 3742.81,2965.76 \n",
       "  3754.92,2965.76 3767.04,2965.76 3779.15,2965.76 3791.26,2965.76 3803.37,2965.76 3815.49,2965.76 3827.6,2965.76 3839.71,2965.76 3851.83,2965.76 3863.94,2965.76 \n",
       "  3876.05,2965.76 3888.17,2965.76 3900.28,2965.76 3912.39,2965.76 3924.5,2965.76 3936.62,2965.76 3948.73,2965.76 3960.84,2965.76 3972.96,2965.76 3985.07,2965.76 \n",
       "  3997.18,2965.76 4009.29,2965.76 4021.41,2965.76 4033.52,2965.76 4045.63,2965.76 4057.75,2965.76 4069.86,2965.76 4081.97,2965.76 4094.09,2965.76 4106.2,2965.76 \n",
       "  4118.31,2965.76 4130.42,2965.76 4142.54,2965.76 4154.65,2965.76 4166.76,2965.76 4178.88,2965.76 4190.99,2965.76 4203.1,2965.76 4215.21,2965.76 4227.33,2965.76 \n",
       "  4239.44,2965.76 4251.55,2965.76 4263.67,2965.76 4275.78,2965.76 4287.89,2965.76 4300.01,2965.76 4312.12,2965.76 4324.23,2965.76 4336.34,2965.76 4348.46,2965.76 \n",
       "  4360.57,2965.76 4372.68,2965.76 4384.8,2965.76 4396.91,2965.76 4409.02,2965.76 4421.13,2965.76 4433.25,2965.76 4445.36,2965.76 4457.47,2965.76 4469.59,2965.76 \n",
       "  4481.7,2965.76 4493.81,2965.76 4505.93,2965.76 4518.04,2965.76 4530.15,2965.76 4542.26,2965.76 4554.38,2965.76 4566.49,2965.76 4578.6,2965.76 4590.72,2965.76 \n",
       "  4602.83,2965.76 4614.94,2965.76 4627.05,2965.76 4639.17,2965.76 4651.28,2965.76 4663.39,2965.76 4675.51,2965.76 4687.62,2965.76 4699.73,2965.76 4711.84,2965.76 \n",
       "  4723.96,2965.76 4736.07,2965.76 4748.18,2965.76 4760.3,2965.76 4772.41,2965.76 4784.52,2965.76 4796.64,2965.76 4808.75,2965.76 4820.86,2965.76 4832.97,2965.76 \n",
       "  4845.09,2965.76 4857.2,2965.76 4869.31,2965.76 4881.43,2965.76 4893.54,2965.76 4905.65,2965.76 4917.76,2965.76 4929.88,2965.76 4941.99,2965.76 4954.1,2965.76 \n",
       "  4966.22,2965.76 4978.33,2965.76 4990.44,2965.76 5002.56,2965.76 5014.67,2965.76 5026.78,2965.76 5038.89,2965.76 5051.01,2965.76 5063.12,2965.76 5075.23,2965.76 \n",
       "  5087.35,2965.76 \n",
       "  \"/>\n",
       "<path clip-path=\"url(#clip880)\" d=\"\n",
       "M4339.64 370.829 L5075.72 370.829 L5075.72 215.309 L4339.64 215.309  Z\n",
       "  \" fill=\"#ffffff\" fill-rule=\"evenodd\" fill-opacity=\"1\"/>\n",
       "<polyline clip-path=\"url(#clip880)\" style=\"stroke:#000000; stroke-linecap:butt; stroke-linejoin:round; stroke-width:4; stroke-opacity:1; fill:none\" points=\"\n",
       "  4339.64,370.829 5075.72,370.829 5075.72,215.309 4339.64,215.309 4339.64,370.829 \n",
       "  \"/>\n",
       "<polyline clip-path=\"url(#clip880)\" style=\"stroke:#009af9; stroke-linecap:butt; stroke-linejoin:round; stroke-width:4; stroke-opacity:1; fill:none\" points=\"\n",
       "  4365.32,267.149 4519.4,267.149 \n",
       "  \"/>\n",
       "<path clip-path=\"url(#clip880)\" d=\"M4556.98 261.489 Q4553.55 261.489 4551.56 264.174 Q4549.57 266.836 4549.57 271.489 Q4549.57 276.142 4551.54 278.827 Q4553.53 281.489 4556.98 281.489 Q4560.38 281.489 4562.37 278.804 Q4564.36 276.119 4564.36 271.489 Q4564.36 266.883 4562.37 264.198 Q4560.38 261.489 4556.98 261.489 M4556.98 257.878 Q4562.53 257.878 4565.7 261.489 Q4568.88 265.1 4568.88 271.489 Q4568.88 277.855 4565.7 281.489 Q4562.53 285.1 4556.98 285.1 Q4551.4 285.1 4548.23 281.489 Q4545.08 277.855 4545.08 271.489 Q4545.08 265.1 4548.23 261.489 Q4551.4 257.878 4556.98 257.878 Z\" fill=\"#000000\" fill-rule=\"evenodd\" fill-opacity=\"1\" /><path clip-path=\"url(#clip880)\" d=\"M4590.96 262.485 Q4590.24 262.068 4589.38 261.883 Q4588.55 261.674 4587.53 261.674 Q4583.92 261.674 4581.98 264.036 Q4580.06 266.373 4580.06 270.772 L4580.06 284.429 L4575.77 284.429 L4575.77 258.503 L4580.06 258.503 L4580.06 262.531 Q4581.4 260.17 4583.55 259.036 Q4585.7 257.878 4588.78 257.878 Q4589.22 257.878 4589.75 257.948 Q4590.29 257.994 4590.94 258.11 L4590.96 262.485 Z\" fill=\"#000000\" fill-rule=\"evenodd\" fill-opacity=\"1\" /><path clip-path=\"url(#clip880)\" d=\"M4599.64 251.142 L4599.64 258.503 L4608.41 258.503 L4608.41 261.813 L4599.64 261.813 L4599.64 275.887 Q4599.64 279.059 4600.5 279.961 Q4601.37 280.864 4604.04 280.864 L4608.41 280.864 L4608.41 284.429 L4604.04 284.429 Q4599.11 284.429 4597.23 282.6 Q4595.36 280.748 4595.36 275.887 L4595.36 261.813 L4592.23 261.813 L4592.23 258.503 L4595.36 258.503 L4595.36 251.142 L4599.64 251.142 Z\" fill=\"#000000\" fill-rule=\"evenodd\" fill-opacity=\"1\" /><path clip-path=\"url(#clip880)\" d=\"M4635.56 268.781 L4635.56 284.429 L4631.31 284.429 L4631.31 268.92 Q4631.31 265.239 4629.87 263.411 Q4628.43 261.582 4625.56 261.582 Q4622.12 261.582 4620.12 263.781 Q4618.13 265.98 4618.13 269.776 L4618.13 284.429 L4613.85 284.429 L4613.85 248.411 L4618.13 248.411 L4618.13 262.531 Q4619.66 260.193 4621.72 259.036 Q4623.81 257.878 4626.51 257.878 Q4630.98 257.878 4633.27 260.656 Q4635.56 263.411 4635.56 268.781 Z\" fill=\"#000000\" fill-rule=\"evenodd\" fill-opacity=\"1\" /><path clip-path=\"url(#clip880)\" d=\"M4654.11 261.489 Q4650.68 261.489 4648.69 264.174 Q4646.7 266.836 4646.7 271.489 Q4646.7 276.142 4648.67 278.827 Q4650.66 281.489 4654.11 281.489 Q4657.51 281.489 4659.5 278.804 Q4661.49 276.119 4661.49 271.489 Q4661.49 266.883 4659.5 264.198 Q4657.51 261.489 4654.11 261.489 M4654.11 257.878 Q4659.66 257.878 4662.83 261.489 Q4666 265.1 4666 271.489 Q4666 277.855 4662.83 281.489 Q4659.66 285.1 4654.11 285.1 Q4648.53 285.1 4645.36 281.489 Q4642.21 277.855 4642.21 271.489 Q4642.21 265.1 4645.36 261.489 Q4648.53 257.878 4654.11 257.878 Z\" fill=\"#000000\" fill-rule=\"evenodd\" fill-opacity=\"1\" /><path clip-path=\"url(#clip880)\" d=\"M4694.62 268.781 L4694.62 284.429 L4690.36 284.429 L4690.36 268.92 Q4690.36 265.239 4688.92 263.411 Q4687.49 261.582 4684.62 261.582 Q4681.17 261.582 4679.18 263.781 Q4677.18 265.98 4677.18 269.776 L4677.18 284.429 L4672.9 284.429 L4672.9 258.503 L4677.18 258.503 L4677.18 262.531 Q4678.71 260.193 4680.77 259.036 Q4682.86 257.878 4685.56 257.878 Q4690.03 257.878 4692.32 260.656 Q4694.62 263.411 4694.62 268.781 Z\" fill=\"#000000\" fill-rule=\"evenodd\" fill-opacity=\"1\" /><path clip-path=\"url(#clip880)\" d=\"M4713.16 261.489 Q4709.73 261.489 4707.74 264.174 Q4705.75 266.836 4705.75 271.489 Q4705.75 276.142 4707.72 278.827 Q4709.71 281.489 4713.16 281.489 Q4716.56 281.489 4718.55 278.804 Q4720.54 276.119 4720.54 271.489 Q4720.54 266.883 4718.55 264.198 Q4716.56 261.489 4713.16 261.489 M4713.16 257.878 Q4718.71 257.878 4721.88 261.489 Q4725.05 265.1 4725.05 271.489 Q4725.05 277.855 4721.88 281.489 Q4718.71 285.1 4713.16 285.1 Q4707.58 285.1 4704.41 281.489 Q4701.26 277.855 4701.26 271.489 Q4701.26 265.1 4704.41 261.489 Q4707.58 257.878 4713.16 257.878 Z\" fill=\"#000000\" fill-rule=\"evenodd\" fill-opacity=\"1\" /><path clip-path=\"url(#clip880)\" d=\"M4747.14 262.485 Q4746.42 262.068 4745.56 261.883 Q4744.73 261.674 4743.71 261.674 Q4740.1 261.674 4738.16 264.036 Q4736.24 266.373 4736.24 270.772 L4736.24 284.429 L4731.95 284.429 L4731.95 258.503 L4736.24 258.503 L4736.24 262.531 Q4737.58 260.17 4739.73 259.036 Q4741.88 257.878 4744.96 257.878 Q4745.4 257.878 4745.93 257.948 Q4746.47 257.994 4747.11 258.11 L4747.14 262.485 Z\" fill=\"#000000\" fill-rule=\"evenodd\" fill-opacity=\"1\" /><path clip-path=\"url(#clip880)\" d=\"M4770.96 263.48 Q4772.55 260.61 4774.78 259.244 Q4777 257.878 4780.01 257.878 Q4784.06 257.878 4786.26 260.725 Q4788.46 263.549 4788.46 268.781 L4788.46 284.429 L4784.17 284.429 L4784.17 268.92 Q4784.17 265.193 4782.86 263.387 Q4781.54 261.582 4778.83 261.582 Q4775.52 261.582 4773.6 263.781 Q4771.67 265.98 4771.67 269.776 L4771.67 284.429 L4767.39 284.429 L4767.39 268.92 Q4767.39 265.17 4766.07 263.387 Q4764.75 261.582 4762 261.582 Q4758.74 261.582 4756.81 263.804 Q4754.89 266.003 4754.89 269.776 L4754.89 284.429 L4750.61 284.429 L4750.61 258.503 L4754.89 258.503 L4754.89 262.531 Q4756.35 260.147 4758.39 259.012 Q4760.42 257.878 4763.23 257.878 Q4766.05 257.878 4768.02 259.313 Q4770.01 260.749 4770.96 263.48 Z\" fill=\"#000000\" fill-rule=\"evenodd\" fill-opacity=\"1\" /><path clip-path=\"url(#clip880)\" d=\"M4808.73 271.397 Q4803.57 271.397 4801.58 272.577 Q4799.59 273.758 4799.59 276.605 Q4799.59 278.873 4801.07 280.216 Q4802.58 281.535 4805.15 281.535 Q4808.69 281.535 4810.82 279.035 Q4812.97 276.512 4812.97 272.346 L4812.97 271.397 L4808.73 271.397 M4817.23 269.637 L4817.23 284.429 L4812.97 284.429 L4812.97 280.494 Q4811.51 282.855 4809.34 283.989 Q4807.16 285.1 4804.01 285.1 Q4800.03 285.1 4797.67 282.878 Q4795.33 280.633 4795.33 276.883 Q4795.33 272.508 4798.25 270.286 Q4801.19 268.063 4807 268.063 L4812.97 268.063 L4812.97 267.647 Q4812.97 264.707 4811.03 263.11 Q4809.11 261.489 4805.61 261.489 Q4803.39 261.489 4801.28 262.022 Q4799.17 262.554 4797.23 263.619 L4797.23 259.684 Q4799.57 258.781 4801.77 258.341 Q4803.97 257.878 4806.05 257.878 Q4811.67 257.878 4814.45 260.795 Q4817.23 263.711 4817.23 269.637 Z\" fill=\"#000000\" fill-rule=\"evenodd\" fill-opacity=\"1\" /><path clip-path=\"url(#clip880)\" d=\"M4826 248.411 L4830.26 248.411 L4830.26 284.429 L4826 284.429 L4826 248.411 Z\" fill=\"#000000\" fill-rule=\"evenodd\" fill-opacity=\"1\" /><path clip-path=\"url(#clip880)\" d=\"M4839.17 258.503 L4843.43 258.503 L4843.43 284.429 L4839.17 284.429 L4839.17 258.503 M4839.17 248.411 L4843.43 248.411 L4843.43 253.804 L4839.17 253.804 L4839.17 248.411 Z\" fill=\"#000000\" fill-rule=\"evenodd\" fill-opacity=\"1\" /><path clip-path=\"url(#clip880)\" d=\"M4856.56 251.142 L4856.56 258.503 L4865.33 258.503 L4865.33 261.813 L4856.56 261.813 L4856.56 275.887 Q4856.56 279.059 4857.42 279.961 Q4858.29 280.864 4860.96 280.864 L4865.33 280.864 L4865.33 284.429 L4860.96 284.429 Q4856.03 284.429 4854.15 282.6 Q4852.28 280.748 4852.28 275.887 L4852.28 261.813 L4849.15 261.813 L4849.15 258.503 L4852.28 258.503 L4852.28 251.142 L4856.56 251.142 Z\" fill=\"#000000\" fill-rule=\"evenodd\" fill-opacity=\"1\" /><path clip-path=\"url(#clip880)\" d=\"M4881.72 286.836 Q4879.92 291.466 4878.2 292.878 Q4876.49 294.29 4873.62 294.29 L4870.22 294.29 L4870.22 290.725 L4872.72 290.725 Q4874.48 290.725 4875.45 289.892 Q4876.42 289.059 4877.6 285.957 L4878.36 284.012 L4867.88 258.503 L4872.39 258.503 L4880.49 278.781 L4888.6 258.503 L4893.11 258.503 L4881.72 286.836 Z\" fill=\"#000000\" fill-rule=\"evenodd\" fill-opacity=\"1\" /><path clip-path=\"url(#clip880)\" d=\"M4936.23 270.401 L4936.23 272.485 L4916.65 272.485 Q4916.93 276.883 4919.29 279.197 Q4921.67 281.489 4925.91 281.489 Q4928.36 281.489 4930.66 280.887 Q4932.97 280.285 4935.24 279.082 L4935.24 283.11 Q4932.95 284.082 4930.54 284.591 Q4928.13 285.1 4925.66 285.1 Q4919.45 285.1 4915.82 281.489 Q4912.21 277.878 4912.21 271.721 Q4912.21 265.355 4915.63 261.628 Q4919.08 257.878 4924.91 257.878 Q4930.15 257.878 4933.18 261.258 Q4936.23 264.614 4936.23 270.401 M4931.98 269.151 Q4931.93 265.656 4930.01 263.573 Q4928.11 261.489 4924.96 261.489 Q4921.4 261.489 4919.24 263.503 Q4917.11 265.517 4916.79 269.174 L4931.98 269.151 Z\" fill=\"#000000\" fill-rule=\"evenodd\" fill-opacity=\"1\" /><path clip-path=\"url(#clip880)\" d=\"M4958.25 262.485 Q4957.53 262.068 4956.67 261.883 Q4955.84 261.674 4954.82 261.674 Q4951.21 261.674 4949.27 264.036 Q4947.35 266.373 4947.35 270.772 L4947.35 284.429 L4943.06 284.429 L4943.06 258.503 L4947.35 258.503 L4947.35 262.531 Q4948.69 260.17 4950.84 259.036 Q4952.99 257.878 4956.07 257.878 Q4956.51 257.878 4957.04 257.948 Q4957.58 257.994 4958.22 258.11 L4958.25 262.485 Z\" fill=\"#000000\" fill-rule=\"evenodd\" fill-opacity=\"1\" /><path clip-path=\"url(#clip880)\" d=\"M4976.91 262.485 Q4976.19 262.068 4975.33 261.883 Q4974.5 261.674 4973.48 261.674 Q4969.87 261.674 4967.92 264.036 Q4966 266.373 4966 270.772 L4966 284.429 L4961.72 284.429 L4961.72 258.503 L4966 258.503 L4966 262.531 Q4967.35 260.17 4969.5 259.036 Q4971.65 257.878 4974.73 257.878 Q4975.17 257.878 4975.7 257.948 Q4976.23 257.994 4976.88 258.11 L4976.91 262.485 Z\" fill=\"#000000\" fill-rule=\"evenodd\" fill-opacity=\"1\" /><path clip-path=\"url(#clip880)\" d=\"M4990.38 261.489 Q4986.95 261.489 4984.96 264.174 Q4982.97 266.836 4982.97 271.489 Q4982.97 276.142 4984.94 278.827 Q4986.93 281.489 4990.38 281.489 Q4993.78 281.489 4995.77 278.804 Q4997.76 276.119 4997.76 271.489 Q4997.76 266.883 4995.77 264.198 Q4993.78 261.489 4990.38 261.489 M4990.38 257.878 Q4995.93 257.878 4999.1 261.489 Q5002.28 265.1 5002.28 271.489 Q5002.28 277.855 4999.1 281.489 Q4995.93 285.1 4990.38 285.1 Q4984.8 285.1 4981.63 281.489 Q4978.48 277.855 4978.48 271.489 Q4978.48 265.1 4981.63 261.489 Q4984.8 257.878 4990.38 257.878 Z\" fill=\"#000000\" fill-rule=\"evenodd\" fill-opacity=\"1\" /><path clip-path=\"url(#clip880)\" d=\"M5024.36 262.485 Q5023.64 262.068 5022.78 261.883 Q5021.95 261.674 5020.93 261.674 Q5017.32 261.674 5015.38 264.036 Q5013.46 266.373 5013.46 270.772 L5013.46 284.429 L5009.17 284.429 L5009.17 258.503 L5013.46 258.503 L5013.46 262.531 Q5014.8 260.17 5016.95 259.036 Q5019.1 257.878 5022.18 257.878 Q5022.62 257.878 5023.16 257.948 Q5023.69 257.994 5024.34 258.11 L5024.36 262.485 Z\" fill=\"#000000\" fill-rule=\"evenodd\" fill-opacity=\"1\" /><polyline clip-path=\"url(#clip880)\" style=\"stroke:#e26f46; stroke-linecap:butt; stroke-linejoin:round; stroke-width:4; stroke-opacity:1; fill:none\" points=\"\n",
       "  4365.32,318.989 4519.4,318.989 \n",
       "  \"/>\n",
       "<path clip-path=\"url(#clip880)\" d=\"M4560.26 314.325 Q4559.55 313.908 4558.69 313.723 Q4557.86 313.514 4556.84 313.514 Q4553.23 313.514 4551.28 315.876 Q4549.36 318.213 4549.36 322.612 L4549.36 336.269 L4545.08 336.269 L4545.08 310.343 L4549.36 310.343 L4549.36 314.371 Q4550.7 312.01 4552.86 310.876 Q4555.01 309.718 4558.09 309.718 Q4558.53 309.718 4559.06 309.788 Q4559.59 309.834 4560.24 309.95 L4560.26 314.325 Z\" fill=\"#000000\" fill-rule=\"evenodd\" fill-opacity=\"1\" /><path clip-path=\"url(#clip880)\" d=\"M4585.87 322.241 L4585.87 324.325 L4566.28 324.325 Q4566.56 328.723 4568.92 331.037 Q4571.31 333.329 4575.54 333.329 Q4578 333.329 4580.29 332.727 Q4582.6 332.125 4584.87 330.922 L4584.87 334.95 Q4582.58 335.922 4580.17 336.431 Q4577.76 336.94 4575.29 336.94 Q4569.08 336.94 4565.45 333.329 Q4561.84 329.718 4561.84 323.561 Q4561.84 317.195 4565.26 313.468 Q4568.71 309.718 4574.55 309.718 Q4579.78 309.718 4582.81 313.098 Q4585.87 316.454 4585.87 322.241 M4581.61 320.991 Q4581.56 317.496 4579.64 315.413 Q4577.74 313.329 4574.59 313.329 Q4571.03 313.329 4568.88 315.343 Q4566.75 317.357 4566.42 321.014 L4581.61 320.991 Z\" fill=\"#000000\" fill-rule=\"evenodd\" fill-opacity=\"1\" /><path clip-path=\"url(#clip880)\" d=\"M4611.51 311.339 L4611.51 315.32 Q4609.71 314.325 4607.88 313.839 Q4606.07 313.329 4604.22 313.329 Q4600.08 313.329 4597.79 315.968 Q4595.5 318.584 4595.5 323.329 Q4595.5 328.075 4597.79 330.713 Q4600.08 333.329 4604.22 333.329 Q4606.07 333.329 4607.88 332.843 Q4609.71 332.334 4611.51 331.338 L4611.51 335.274 Q4609.73 336.107 4607.81 336.524 Q4605.91 336.94 4603.76 336.94 Q4597.9 336.94 4594.45 333.26 Q4591 329.579 4591 323.329 Q4591 316.987 4594.48 313.352 Q4597.97 309.718 4604.04 309.718 Q4606 309.718 4607.88 310.135 Q4609.75 310.528 4611.51 311.339 Z\" fill=\"#000000\" fill-rule=\"evenodd\" fill-opacity=\"1\" /><path clip-path=\"url(#clip880)\" d=\"M4628.97 313.329 Q4625.54 313.329 4623.55 316.014 Q4621.56 318.676 4621.56 323.329 Q4621.56 327.982 4623.53 330.667 Q4625.52 333.329 4628.97 333.329 Q4632.37 333.329 4634.36 330.644 Q4636.35 327.959 4636.35 323.329 Q4636.35 318.723 4634.36 316.038 Q4632.37 313.329 4628.97 313.329 M4628.97 309.718 Q4634.52 309.718 4637.69 313.329 Q4640.87 316.94 4640.87 323.329 Q4640.87 329.695 4637.69 333.329 Q4634.52 336.94 4628.97 336.94 Q4623.39 336.94 4620.22 333.329 Q4617.07 329.695 4617.07 323.329 Q4617.07 316.94 4620.22 313.329 Q4623.39 309.718 4628.97 309.718 Z\" fill=\"#000000\" fill-rule=\"evenodd\" fill-opacity=\"1\" /><path clip-path=\"url(#clip880)\" d=\"M4669.48 320.621 L4669.48 336.269 L4665.22 336.269 L4665.22 320.76 Q4665.22 317.079 4663.78 315.251 Q4662.35 313.422 4659.48 313.422 Q4656.03 313.422 4654.04 315.621 Q4652.05 317.82 4652.05 321.616 L4652.05 336.269 L4647.76 336.269 L4647.76 310.343 L4652.05 310.343 L4652.05 314.371 Q4653.57 312.033 4655.63 310.876 Q4657.72 309.718 4660.43 309.718 Q4664.89 309.718 4667.18 312.496 Q4669.48 315.251 4669.48 320.621 Z\" fill=\"#000000\" fill-rule=\"evenodd\" fill-opacity=\"1\" /><path clip-path=\"url(#clip880)\" d=\"M4694.5 311.107 L4694.5 315.135 Q4692.69 314.209 4690.75 313.746 Q4688.81 313.283 4686.72 313.283 Q4683.55 313.283 4681.95 314.255 Q4680.38 315.227 4680.38 317.172 Q4680.38 318.653 4681.51 319.51 Q4682.65 320.343 4686.07 321.107 L4687.53 321.431 Q4692.07 322.403 4693.97 324.186 Q4695.89 325.945 4695.89 329.116 Q4695.89 332.727 4693.02 334.834 Q4690.17 336.94 4685.17 336.94 Q4683.09 336.94 4680.82 336.524 Q4678.57 336.13 4676.07 335.32 L4676.07 330.922 Q4678.43 332.149 4680.73 332.774 Q4683.02 333.375 4685.26 333.375 Q4688.27 333.375 4689.89 332.357 Q4691.51 331.315 4691.51 329.44 Q4691.51 327.704 4690.33 326.778 Q4689.18 325.852 4685.22 324.996 L4683.74 324.649 Q4679.78 323.815 4678.02 322.102 Q4676.26 320.366 4676.26 317.357 Q4676.26 313.7 4678.85 311.709 Q4681.44 309.718 4686.21 309.718 Q4688.57 309.718 4690.66 310.065 Q4692.74 310.413 4694.5 311.107 Z\" fill=\"#000000\" fill-rule=\"evenodd\" fill-opacity=\"1\" /><path clip-path=\"url(#clip880)\" d=\"M4706.88 302.982 L4706.88 310.343 L4715.66 310.343 L4715.66 313.653 L4706.88 313.653 L4706.88 327.727 Q4706.88 330.899 4707.74 331.801 Q4708.62 332.704 4711.28 332.704 L4715.66 332.704 L4715.66 336.269 L4711.28 336.269 Q4706.35 336.269 4704.48 334.44 Q4702.6 332.588 4702.6 327.727 L4702.6 313.653 L4699.48 313.653 L4699.48 310.343 L4702.6 310.343 L4702.6 302.982 L4706.88 302.982 Z\" fill=\"#000000\" fill-rule=\"evenodd\" fill-opacity=\"1\" /><path clip-path=\"url(#clip880)\" d=\"M4736.28 314.325 Q4735.56 313.908 4734.71 313.723 Q4733.87 313.514 4732.86 313.514 Q4729.24 313.514 4727.3 315.876 Q4725.38 318.213 4725.38 322.612 L4725.38 336.269 L4721.1 336.269 L4721.1 310.343 L4725.38 310.343 L4725.38 314.371 Q4726.72 312.01 4728.87 310.876 Q4731.03 309.718 4734.11 309.718 Q4734.55 309.718 4735.08 309.788 Q4735.61 309.834 4736.26 309.95 L4736.28 314.325 Z\" fill=\"#000000\" fill-rule=\"evenodd\" fill-opacity=\"1\" /><path clip-path=\"url(#clip880)\" d=\"M4740.31 326.038 L4740.31 310.343 L4744.57 310.343 L4744.57 325.875 Q4744.57 329.556 4746 331.408 Q4747.44 333.237 4750.31 333.237 Q4753.76 333.237 4755.75 331.037 Q4757.76 328.838 4757.76 325.042 L4757.76 310.343 L4762.02 310.343 L4762.02 336.269 L4757.76 336.269 L4757.76 332.287 Q4756.21 334.649 4754.15 335.806 Q4752.11 336.94 4749.41 336.94 Q4744.94 336.94 4742.62 334.162 Q4740.31 331.385 4740.31 326.038 M4751.03 309.718 L4751.03 309.718 Z\" fill=\"#000000\" fill-rule=\"evenodd\" fill-opacity=\"1\" /><path clip-path=\"url(#clip880)\" d=\"M4789.45 311.339 L4789.45 315.32 Q4787.65 314.325 4785.82 313.839 Q4784.01 313.329 4782.16 313.329 Q4778.02 313.329 4775.73 315.968 Q4773.43 318.584 4773.43 323.329 Q4773.43 328.075 4775.73 330.713 Q4778.02 333.329 4782.16 333.329 Q4784.01 333.329 4785.82 332.843 Q4787.65 332.334 4789.45 331.338 L4789.45 335.274 Q4787.67 336.107 4785.75 336.524 Q4783.85 336.94 4781.7 336.94 Q4775.84 336.94 4772.39 333.26 Q4768.94 329.579 4768.94 323.329 Q4768.94 316.987 4772.42 313.352 Q4775.91 309.718 4781.98 309.718 Q4783.94 309.718 4785.82 310.135 Q4787.69 310.528 4789.45 311.339 Z\" fill=\"#000000\" fill-rule=\"evenodd\" fill-opacity=\"1\" /><path clip-path=\"url(#clip880)\" d=\"M4801.07 302.982 L4801.07 310.343 L4809.85 310.343 L4809.85 313.653 L4801.07 313.653 L4801.07 327.727 Q4801.07 330.899 4801.93 331.801 Q4802.81 332.704 4805.47 332.704 L4809.85 332.704 L4809.85 336.269 L4805.47 336.269 Q4800.54 336.269 4798.67 334.44 Q4796.79 332.588 4796.79 327.727 L4796.79 313.653 L4793.67 313.653 L4793.67 310.343 L4796.79 310.343 L4796.79 302.982 L4801.07 302.982 Z\" fill=\"#000000\" fill-rule=\"evenodd\" fill-opacity=\"1\" /><path clip-path=\"url(#clip880)\" d=\"M4815.45 310.343 L4819.71 310.343 L4819.71 336.269 L4815.45 336.269 L4815.45 310.343 M4815.45 300.251 L4819.71 300.251 L4819.71 305.644 L4815.45 305.644 L4815.45 300.251 Z\" fill=\"#000000\" fill-rule=\"evenodd\" fill-opacity=\"1\" /><path clip-path=\"url(#clip880)\" d=\"M4838.67 313.329 Q4835.24 313.329 4833.25 316.014 Q4831.26 318.676 4831.26 323.329 Q4831.26 327.982 4833.23 330.667 Q4835.22 333.329 4838.67 333.329 Q4842.07 333.329 4844.06 330.644 Q4846.05 327.959 4846.05 323.329 Q4846.05 318.723 4844.06 316.038 Q4842.07 313.329 4838.67 313.329 M4838.67 309.718 Q4844.22 309.718 4847.39 313.329 Q4850.56 316.94 4850.56 323.329 Q4850.56 329.695 4847.39 333.329 Q4844.22 336.94 4838.67 336.94 Q4833.09 336.94 4829.92 333.329 Q4826.77 329.695 4826.77 323.329 Q4826.77 316.94 4829.92 313.329 Q4833.09 309.718 4838.67 309.718 Z\" fill=\"#000000\" fill-rule=\"evenodd\" fill-opacity=\"1\" /><path clip-path=\"url(#clip880)\" d=\"M4879.17 320.621 L4879.17 336.269 L4874.92 336.269 L4874.92 320.76 Q4874.92 317.079 4873.48 315.251 Q4872.04 313.422 4869.17 313.422 Q4865.73 313.422 4863.73 315.621 Q4861.74 317.82 4861.74 321.616 L4861.74 336.269 L4857.46 336.269 L4857.46 310.343 L4861.74 310.343 L4861.74 314.371 Q4863.27 312.033 4865.33 310.876 Q4867.42 309.718 4870.12 309.718 Q4874.59 309.718 4876.88 312.496 Q4879.17 315.251 4879.17 320.621 Z\" fill=\"#000000\" fill-rule=\"evenodd\" fill-opacity=\"1\" /><path clip-path=\"url(#clip880)\" d=\"M4924.91 322.241 L4924.91 324.325 L4905.33 324.325 Q4905.61 328.723 4907.97 331.037 Q4910.35 333.329 4914.59 333.329 Q4917.04 333.329 4919.34 332.727 Q4921.65 332.125 4923.92 330.922 L4923.92 334.95 Q4921.63 335.922 4919.22 336.431 Q4916.81 336.94 4914.34 336.94 Q4908.13 336.94 4904.5 333.329 Q4900.89 329.718 4900.89 323.561 Q4900.89 317.195 4904.31 313.468 Q4907.76 309.718 4913.6 309.718 Q4918.83 309.718 4921.86 313.098 Q4924.91 316.454 4924.91 322.241 M4920.66 320.991 Q4920.61 317.496 4918.69 315.413 Q4916.79 313.329 4913.64 313.329 Q4910.08 313.329 4907.92 315.343 Q4905.79 317.357 4905.47 321.014 L4920.66 320.991 Z\" fill=\"#000000\" fill-rule=\"evenodd\" fill-opacity=\"1\" /><path clip-path=\"url(#clip880)\" d=\"M4946.93 314.325 Q4946.21 313.908 4945.35 313.723 Q4944.52 313.514 4943.5 313.514 Q4939.89 313.514 4937.95 315.876 Q4936.03 318.213 4936.03 322.612 L4936.03 336.269 L4931.74 336.269 L4931.74 310.343 L4936.03 310.343 L4936.03 314.371 Q4937.37 312.01 4939.52 310.876 Q4941.67 309.718 4944.75 309.718 Q4945.19 309.718 4945.72 309.788 Q4946.26 309.834 4946.91 309.95 L4946.93 314.325 Z\" fill=\"#000000\" fill-rule=\"evenodd\" fill-opacity=\"1\" /><path clip-path=\"url(#clip880)\" d=\"M4965.59 314.325 Q4964.87 313.908 4964.01 313.723 Q4963.18 313.514 4962.16 313.514 Q4958.55 313.514 4956.6 315.876 Q4954.68 318.213 4954.68 322.612 L4954.68 336.269 L4950.4 336.269 L4950.4 310.343 L4954.68 310.343 L4954.68 314.371 Q4956.03 312.01 4958.18 310.876 Q4960.33 309.718 4963.41 309.718 Q4963.85 309.718 4964.38 309.788 Q4964.91 309.834 4965.56 309.95 L4965.59 314.325 Z\" fill=\"#000000\" fill-rule=\"evenodd\" fill-opacity=\"1\" /><path clip-path=\"url(#clip880)\" d=\"M4979.06 313.329 Q4975.63 313.329 4973.64 316.014 Q4971.65 318.676 4971.65 323.329 Q4971.65 327.982 4973.62 330.667 Q4975.61 333.329 4979.06 333.329 Q4982.46 333.329 4984.45 330.644 Q4986.44 327.959 4986.44 323.329 Q4986.44 318.723 4984.45 316.038 Q4982.46 313.329 4979.06 313.329 M4979.06 309.718 Q4984.61 309.718 4987.78 313.329 Q4990.96 316.94 4990.96 323.329 Q4990.96 329.695 4987.78 333.329 Q4984.61 336.94 4979.06 336.94 Q4973.48 336.94 4970.31 333.329 Q4967.16 329.695 4967.16 323.329 Q4967.16 316.94 4970.31 313.329 Q4973.48 309.718 4979.06 309.718 Z\" fill=\"#000000\" fill-rule=\"evenodd\" fill-opacity=\"1\" /><path clip-path=\"url(#clip880)\" d=\"M5013.04 314.325 Q5012.32 313.908 5011.47 313.723 Q5010.63 313.514 5009.61 313.514 Q5006 313.514 5004.06 315.876 Q5002.14 318.213 5002.14 322.612 L5002.14 336.269 L4997.85 336.269 L4997.85 310.343 L5002.14 310.343 L5002.14 314.371 Q5003.48 312.01 5005.63 310.876 Q5007.78 309.718 5010.86 309.718 Q5011.3 309.718 5011.84 309.788 Q5012.37 309.834 5013.02 309.95 L5013.04 314.325 Z\" fill=\"#000000\" fill-rule=\"evenodd\" fill-opacity=\"1\" /></svg>\n"
      ]
     },
     "execution_count": 23,
     "metadata": {},
     "output_type": "execute_result"
    }
   ],
   "source": [
    "ortho_errs_hh = Float64[]\n",
    "recon_errs_hh = Float64[]\n",
    "ortho_errs_qr = Float64[]\n",
    "recon_errs_qr = Float64[]\n",
    "rang = π ./ (2:.1:20)\n",
    "for θ in rang\n",
    "    M = kahan(10, θ)\n",
    "    ϕ = eps(Float64)\n",
    "    M_p = copy(M[:,:])\n",
    "    rot = [cos(ϕ) sin(ϕ); -sin(ϕ) cos(ϕ)]\n",
    "    M_p[1:2,:] = rot * M[1:2,:]\n",
    "    Q_hh, R_hh = householder_literal(M_p)\n",
    "    Q_qr, R_qr = qr(M_p)\n",
    "    push!(ortho_errs_hh, orthonormality_error(Q_hh))\n",
    "    push!(recon_errs_hh, reconstruction_error(M_p, Q_hh, R_hh))\n",
    "    push!(ortho_errs_qr, orthonormality_error(Q_qr))\n",
    "    push!(recon_errs_qr, reconstruction_error(M_p, Q_qr, R_qr))\n",
    "end\n",
    "ymin=Inf\n",
    "ymax=0.\n",
    "for series in [ortho_errs_hh, ortho_errs_hh, recon_errs_qr, recon_errs_qr]\n",
    "    series[:] = max.(series[:], 0.001*eps())\n",
    "    ymin = min(ymin, minimum(series))\n",
    "    ymax = max(ymax, maximum(series))\n",
    "end\n",
    "ylo = eps()*0.01\n",
    "ymin = max(ymin, ylo)\n",
    "ymin *= 0.5\n",
    "ymax *= 2.0\n",
    "p1 = plot( rang .^-1, [max.(ylo,ortho_errs_hh) max.(ylo,recon_errs_hh)]\n",
    "    , yscale=:log10\n",
    "    , label=[\"orthonormality error\" \"reconstruction error\"]\n",
    "    , xlabel=\"Kahan matrix θ⁻¹\"\n",
    "    , title=\"householder_literal\"\n",
    "    , size=(1300,800)\n",
    "    , ylim=(ymin,2.0)\n",
    ")\n",
    "p2 = plot( rang .^-1, [max.(ylo,ortho_errs_qr) max.(ylo,recon_errs_qr)]\n",
    "    , yscale=:log10\n",
    "    , label=[\"orthonormality error\" \"reconstruction error\"]\n",
    "    , xlabel=\"Kahan matrix θ⁻¹\"\n",
    "    , title=\"julia qr\"\n",
    "    , size=(1300,800)\n",
    "    , ylim=(ymin,2.0)\n",
    ")\n",
    "draw(plot(p1,p2,layout=(1,2)))"
   ]
  },
  {
   "cell_type": "markdown",
   "id": "6d91f54d",
   "metadata": {
    "slideshow": {
     "slide_type": "slide"
    }
   },
   "source": [
    "## Householder QR performance"
   ]
  },
  {
   "cell_type": "markdown",
   "id": "101270e6",
   "metadata": {
    "slideshow": {
     "slide_type": "subslide"
    }
   },
   "source": [
    "### Work of applying one reflector\n",
    "\n",
    "- The work of applying\n",
    "\n",
    "  $$v \\gets v - 2 u (u^*v) = v - u (2*(u^*v))$$\n",
    "\n",
    "  is just one more flop than the work of applying a projection\n",
    "\n",
    "  $$v \\gets v - u (u^* v).$$\n",
    "  \n",
    "  This is $4 m$ flops if $u \\in \\mathbb{C}^m$."
   ]
  },
  {
   "cell_type": "markdown",
   "id": "6588089c",
   "metadata": {
    "slideshow": {
     "slide_type": "fragment"
    }
   },
   "source": [
    "- If we apply the reflector to a matrix $A \\in \\mathbb{C}^{m \\times k}$, the work is $4mk$."
   ]
  },
  {
   "cell_type": "code",
   "execution_count": 20,
   "id": "7fd6e8db",
   "metadata": {
    "slideshow": {
     "slide_type": "subslide"
    }
   },
   "outputs": [
    {
     "data": {
      "text/plain": [
       "householder_literal (generic function with 1 method)"
      ]
     },
     "execution_count": 20,
     "metadata": {},
     "output_type": "execute_result"
    }
   ],
   "source": [
    "function householder_literal(A)\n",
    "    m, n = size(A)\n",
    "    Q = Matrix{eltype(A)}(I, m, m)\n",
    "    R = copy(A)\n",
    "    for i = 1:n\n",
    "        x = R[i:m,i]                                     # x has length (m - (i-1))\n",
    "        u = householder_vector(x)                        # O(m - (i-1)) (lower order term)\n",
    "        R[i:m,i:n] = householder_reflect(u, R[i:m,i:n])  # length: (m - (i-1)); # vectors: (n - (i-1)) ⇒ 4(m-(i-1))(n-(i-1))\n",
    "        R[i+1:m,i] .= 0                                  # ignore\n",
    "        Q[:,i:m] = householder_reflect_left(Q[:,i:m], u) # length: (m - (i-1)); # vectors: m ⇒ 4(m-(i-1))m\n",
    "    end\n",
    "    return Q, R\n",
    "end"
   ]
  },
  {
   "cell_type": "markdown",
   "id": "ba99985d",
   "metadata": {},
   "source": [
    "- Work applying reflectors to $R$:\n",
    "\n",
    "  $$\\sum_{i=1}^n 4(m-(i-1))(n-(i-1)) = \\text{(change of variable)} \\sum_{k=1}^n 4(k + (m-n))k$$\n",
    "  $$ = \\frac{4}{3} n^3 + 2 (m - n) n^2 + \\text{lower order terms} = 2 mn^2 -\\frac{2}{3} n^3 + \\text{l.o.t.}$$"
   ]
  },
  {
   "cell_type": "markdown",
   "id": "8495dd5a",
   "metadata": {
    "slideshow": {
     "slide_type": "fragment"
    }
   },
   "source": [
    "- Work building $Q$: $\\sum_{i=1}^n 4 m(m -(i-1)) = 4m \\sum_{k=1}^n k + (m-n) = 4m^2 n - 2mn^2 + \\text{l.o.t.}$ "
   ]
  },
  {
   "cell_type": "markdown",
   "id": "4ae527f7",
   "metadata": {
    "slideshow": {
     "slide_type": "subslide"
    }
   },
   "source": [
    "### Building $Q$ ($O(m^2n)$) is more expensive than builiding $R$ ($O(mn^2)$), so avoid it\n",
    "\n",
    "- Collect the reflectors $\\{u_1, \\dots, u_n\\}$ (total cost of constructing all these: $O(mn)$)\n",
    "\n",
    "- The vectors are often stored in the _lower trapezoidal part_ of a 2D array $U$\n",
    "\n",
    "- $U_i$s were accumulated into $Q$ on the right,\n",
    "\n",
    "  $$Q = U_1 \\cdot U_2 \\cdot \\cdots \\cdot U_n,$$\n",
    "  \n",
    "  so apply the reflectors in reverse order to apply $Q$,\n",
    "  \n",
    "  $$Qv = U_1 (U_2 ( \\cdots ( U_n v ) \\cdots )).$$"
   ]
  },
  {
   "cell_type": "code",
   "execution_count": 25,
   "id": "0b42c948",
   "metadata": {
    "cell_style": "center"
   },
   "outputs": [
    {
     "data": {
      "text/plain": [
       "apply_Q (generic function with 1 method)"
      ]
     },
     "execution_count": 25,
     "metadata": {},
     "output_type": "execute_result"
    }
   ],
   "source": [
    "function apply_Q(U, v)\n",
    "    m, n = size(U)\n",
    "    y = copy(v)\n",
    "    for i in n:-1:1\n",
    "        y[i:end] -= U[i:end,i] * (2 * (U[i:end,i]' * y[i:end]))\n",
    "    end\n",
    "    return y\n",
    "end"
   ]
  },
  {
   "cell_type": "markdown",
   "id": "9a3d5aaf",
   "metadata": {
    "slideshow": {
     "slide_type": "subslide"
    }
   },
   "source": [
    "- To apply $Q^*$,\n",
    "\n",
    "  $$Q^* = U_n^* \\cdot U_{n-1}^* \\cdot \\cdots \\cdot U_1^*.$$\n",
    "  \n",
    "- But reflectors are hermitian, so to apply $Q^*$ apply reflectors in original order,\n",
    "\n",
    "  $$Q^* v = U_n(U_{n-1}(\\cdots(U_1 v) \\cdots )).$$"
   ]
  },
  {
   "cell_type": "code",
   "execution_count": 26,
   "id": "8c80abba",
   "metadata": {
    "cell_style": "center"
   },
   "outputs": [
    {
     "data": {
      "text/plain": [
       "apply_Qstar (generic function with 1 method)"
      ]
     },
     "execution_count": 26,
     "metadata": {},
     "output_type": "execute_result"
    }
   ],
   "source": [
    "function apply_Qstar(U, v)\n",
    "    m, n = size(U)\n",
    "    y = copy(v)\n",
    "    for i in 1:n\n",
    "        y[i:end] -= U[i:end,i] * (2 * (U[i:end,i]' * y[i:end]))\n",
    "    end\n",
    "    return y\n",
    "end"
   ]
  },
  {
   "cell_type": "markdown",
   "id": "a9ad58d3",
   "metadata": {
    "slideshow": {
     "slide_type": "subslide"
    }
   },
   "source": [
    "### Non-literal Householder QR: return reflectors $U$ with $R$"
   ]
  },
  {
   "cell_type": "code",
   "execution_count": 28,
   "id": "5804b2b7",
   "metadata": {},
   "outputs": [
    {
     "data": {
      "text/plain": [
       "householder_qr (generic function with 1 method)"
      ]
     },
     "execution_count": 28,
     "metadata": {},
     "output_type": "execute_result"
    }
   ],
   "source": [
    "function householder_qr(A)\n",
    "    m, n = size(A)\n",
    "    U = zeros(eltype(A), m, n)\n",
    "    R = copy(A)\n",
    "    for i = 1:n\n",
    "        U[i:m,i] = householder_vector(R[i:m,i])\n",
    "        R[i:m,i:n] = householder_reflect(U[i:m,i], R[i:m,i:n])\n",
    "        R[i+1:m,i] .= 0\n",
    "    end\n",
    "    return U, R\n",
    "end"
   ]
  },
  {
   "cell_type": "code",
   "execution_count": 30,
   "id": "b3f04648",
   "metadata": {
    "cell_style": "center",
    "slideshow": {
     "slide_type": "subslide"
    }
   },
   "outputs": [
    {
     "data": {
      "text/plain": [
       "0.0"
      ]
     },
     "execution_count": 30,
     "metadata": {},
     "output_type": "execute_result"
    }
   ],
   "source": [
    "m = 100; n = 50;\n",
    "A = randn(m, n);\n",
    "Q, R_lit = householder_literal(A)\n",
    "U, R_hh = householder_qr(A)\n",
    "norm(R_lit - R_hh, 2)"
   ]
  },
  {
   "cell_type": "code",
   "execution_count": 31,
   "id": "ac766f02",
   "metadata": {
    "cell_style": "split"
   },
   "outputs": [
    {
     "data": {
      "text/plain": [
       "5.724600349716601e-15"
      ]
     },
     "execution_count": 31,
     "metadata": {},
     "output_type": "execute_result"
    }
   ],
   "source": [
    "v = randn(m)\n",
    "Qv_lit = Q * v\n",
    "Qv_hh = apply_Q(U,v)\n",
    "norm(Qv_lit - Qv_hh, 2)"
   ]
  },
  {
   "cell_type": "code",
   "execution_count": 32,
   "id": "4ce2d28d",
   "metadata": {
    "cell_style": "split"
   },
   "outputs": [
    {
     "data": {
      "text/plain": [
       "6.0032621696324895e-15"
      ]
     },
     "execution_count": 32,
     "metadata": {},
     "output_type": "execute_result"
    }
   ],
   "source": [
    "Qstarv_lit = Q' * v\n",
    "Qstarv_hh = apply_Qstar(U,v)\n",
    "norm(Qstarv_lit - Qstarv_hh, 2)"
   ]
  },
  {
   "cell_type": "markdown",
   "id": "9895b27d",
   "metadata": {
    "slideshow": {
     "slide_type": "subslide"
    }
   },
   "source": [
    "### `householder_qr` is very close to `qr`\n",
    "\n",
    "- The `LinearAlgebra.QRCompactWY` type of `qr().Q` is essentially the matrix $U$ containing the reflectors\n",
    "\n",
    "- The [LAPACK `*geqrf` fortran routines](http://netlib.org/lapack/lapack-3.1.1/html/dgeqrf.f.html) that higher-level languages call also are essentially Householder QR, but they pack (most of) $U$ and $R$ into the same output array:"
   ]
  },
  {
   "cell_type": "code",
   "execution_count": 35,
   "id": "49872eba",
   "metadata": {
    "hideCode": true
   },
   "outputs": [
    {
     "data": {
      "image/svg+xml": [
       "<?xml version=\"1.0\" encoding=\"utf-8\"?>\n",
       "<svg xmlns=\"http://www.w3.org/2000/svg\" xmlns:xlink=\"http://www.w3.org/1999/xlink\" width=\"500\" height=\"500\" viewBox=\"0 0 2000 2000\">\n",
       "<defs>\n",
       "  <clipPath id=\"clip920\">\n",
       "    <rect x=\"0\" y=\"0\" width=\"2000\" height=\"2000\"/>\n",
       "  </clipPath>\n",
       "</defs>\n",
       "<path clip-path=\"url(#clip920)\" d=\"\n",
       "M0 2000 L2000 2000 L2000 0 L0 0  Z\n",
       "  \" fill=\"#ffffff\" fill-rule=\"evenodd\" fill-opacity=\"1\"/>\n",
       "<defs>\n",
       "  <clipPath id=\"clip921\">\n",
       "    <rect x=\"400\" y=\"200\" width=\"1401\" height=\"1401\"/>\n",
       "  </clipPath>\n",
       "</defs>\n",
       "<path clip-path=\"url(#clip920)\" d=\"\n",
       "M108.177 1865.17 L1952.76 1865.17 L1952.76 153.712 L108.177 153.712  Z\n",
       "  \" fill=\"#ffffff\" fill-rule=\"evenodd\" fill-opacity=\"1\"/>\n",
       "<defs>\n",
       "  <clipPath id=\"clip922\">\n",
       "    <rect x=\"108\" y=\"153\" width=\"1846\" height=\"1712\"/>\n",
       "  </clipPath>\n",
       "</defs>\n",
       "<path clip-path=\"url(#clip920)\" d=\"M32.9921 12.096 L41.175 12.096 L41.175 65.6895 L70.625 65.6895 L70.625 72.576 L32.9921 72.576 L32.9921 12.096 Z\" fill=\"#000000\" fill-rule=\"evenodd\" fill-opacity=\"1\" /><path clip-path=\"url(#clip920)\" d=\"M101.331 20.1573 L90.2314 50.2555 L112.471 50.2555 L101.331 20.1573 M96.7129 12.096 L105.989 12.096 L129.039 72.576 L120.532 72.576 L115.023 57.061 L87.7604 57.061 L82.2511 72.576 L73.6227 72.576 L96.7129 12.096 Z\" fill=\"#000000\" fill-rule=\"evenodd\" fill-opacity=\"1\" /><path clip-path=\"url(#clip920)\" d=\"M146.053 18.8205 L146.053 41.5461 L156.342 41.5461 Q162.054 41.5461 165.173 38.5889 Q168.292 35.6318 168.292 30.163 Q168.292 24.7348 165.173 21.7777 Q162.054 18.8205 156.342 18.8205 L146.053 18.8205 M137.87 12.096 L156.342 12.096 Q166.51 12.096 171.695 16.714 Q176.921 21.2916 176.921 30.163 Q176.921 39.1155 171.695 43.6931 Q166.51 48.2706 156.342 48.2706 L146.053 48.2706 L146.053 72.576 L137.87 72.576 L137.87 12.096 Z\" fill=\"#000000\" fill-rule=\"evenodd\" fill-opacity=\"1\" /><path clip-path=\"url(#clip920)\" d=\"M202.806 20.1573 L191.707 50.2555 L213.946 50.2555 L202.806 20.1573 M198.188 12.096 L207.465 12.096 L230.514 72.576 L222.007 72.576 L216.498 57.061 L189.236 57.061 L183.726 72.576 L175.098 72.576 L198.188 12.096 Z\" fill=\"#000000\" fill-rule=\"evenodd\" fill-opacity=\"1\" /><path clip-path=\"url(#clip920)\" d=\"M283.176 16.7545 L283.176 25.383 Q279.044 21.5346 274.345 19.6307 Q269.686 17.7268 264.42 17.7268 Q254.05 17.7268 248.541 24.0867 Q243.032 30.4061 243.032 42.3968 Q243.032 54.3469 248.541 60.7069 Q254.05 67.0263 264.42 67.0263 Q269.686 67.0263 274.345 65.1223 Q279.044 63.2184 283.176 59.3701 L283.176 67.9175 Q278.882 70.8341 274.061 72.2924 Q269.281 73.7508 263.934 73.7508 Q250.202 73.7508 242.302 65.3654 Q234.403 56.9395 234.403 42.3968 Q234.403 27.8135 242.302 19.4281 Q250.202 11.0023 263.934 11.0023 Q269.362 11.0023 274.142 12.4606 Q278.963 13.8784 283.176 16.7545 Z\" fill=\"#000000\" fill-rule=\"evenodd\" fill-opacity=\"1\" /><path clip-path=\"url(#clip920)\" d=\"M295.815 12.096 L303.998 12.096 L303.998 37.6572 L331.139 12.096 L341.671 12.096 L311.654 40.2903 L343.818 72.576 L333.043 72.576 L303.998 43.45 L303.998 72.576 L295.815 72.576 L295.815 12.096 Z\" fill=\"#000000\" fill-rule=\"evenodd\" fill-opacity=\"1\" /><path clip-path=\"url(#clip920)\" d=\"M407.458 22.0612 L392.915 29.92 L407.458 37.8192 L405.108 41.7891 L391.497 33.5658 L391.497 48.8377 L386.879 48.8377 L386.879 33.5658 L373.268 41.7891 L370.919 37.8192 L385.461 29.92 L370.919 22.0612 L373.268 18.0508 L386.879 26.2742 L386.879 11.0023 L391.497 11.0023 L391.497 26.2742 L405.108 18.0508 L407.458 22.0612 Z\" fill=\"#000000\" fill-rule=\"evenodd\" fill-opacity=\"1\" /><path clip-path=\"url(#clip920)\" d=\"M459.309 63.9476 L459.309 47.7034 L445.941 47.7034 L445.941 40.9789 L467.411 40.9789 L467.411 66.9452 Q462.672 70.3075 456.96 72.0494 Q451.248 73.7508 444.767 73.7508 Q430.588 73.7508 422.568 65.4869 Q414.587 57.1826 414.587 42.3968 Q414.587 27.5705 422.568 19.3066 Q430.588 11.0023 444.767 11.0023 Q450.681 11.0023 455.988 12.4606 Q461.335 13.9189 465.831 16.7545 L465.831 25.464 Q461.294 21.6156 456.19 19.6712 Q451.086 17.7268 445.455 17.7268 Q434.356 17.7268 428.765 23.9246 Q423.216 30.1225 423.216 42.3968 Q423.216 54.6305 428.765 60.8284 Q434.356 67.0263 445.455 67.0263 Q449.79 67.0263 453.192 66.2971 Q456.595 65.5274 459.309 63.9476 Z\" fill=\"#000000\" fill-rule=\"evenodd\" fill-opacity=\"1\" /><path clip-path=\"url(#clip920)\" d=\"M482.359 12.096 L520.599 12.096 L520.599 18.9825 L490.542 18.9825 L490.542 36.8875 L519.344 36.8875 L519.344 43.7741 L490.542 43.7741 L490.542 65.6895 L521.329 65.6895 L521.329 72.576 L482.359 72.576 L482.359 12.096 Z\" fill=\"#000000\" fill-rule=\"evenodd\" fill-opacity=\"1\" /><path clip-path=\"url(#clip920)\" d=\"M559.326 17.6457 Q550.414 17.6457 545.148 24.2892 Q539.922 30.9327 539.922 42.3968 Q539.922 53.8203 545.148 60.4638 Q550.414 67.1073 559.326 67.1073 Q568.238 67.1073 573.423 60.4638 Q578.649 53.8203 578.649 42.3968 Q578.649 30.9327 573.423 24.2892 Q568.238 17.6457 559.326 17.6457 M570.79 71.4823 L581.566 83.2704 L571.681 83.2704 L562.729 73.5887 Q561.392 73.6697 560.663 73.7103 Q559.974 73.7508 559.326 73.7508 Q546.566 73.7508 538.91 65.2439 Q531.294 56.6965 531.294 42.3968 Q531.294 28.0566 538.91 19.5497 Q546.566 11.0023 559.326 11.0023 Q572.046 11.0023 579.662 19.5497 Q587.277 28.0566 587.277 42.3968 Q587.277 52.9291 583.024 60.4233 Q578.811 67.9175 570.79 71.4823 Z\" fill=\"#000000\" fill-rule=\"evenodd\" fill-opacity=\"1\" /><path clip-path=\"url(#clip920)\" d=\"M628.759 44.2197 Q631.392 45.1109 633.863 48.0275 Q636.374 50.9442 638.886 56.0483 L647.19 72.576 L638.4 72.576 L630.663 57.061 Q627.665 50.9847 624.829 48.9997 Q622.034 47.0148 617.173 47.0148 L608.261 47.0148 L608.261 72.576 L600.078 72.576 L600.078 12.096 L618.55 12.096 Q628.921 12.096 634.025 16.4305 Q639.129 20.7649 639.129 29.5149 Q639.129 35.2267 636.455 38.994 Q633.822 42.7613 628.759 44.2197 M608.261 18.8205 L608.261 40.2903 L618.55 40.2903 Q624.465 40.2903 627.462 37.5762 Q630.501 34.8216 630.501 29.5149 Q630.501 24.2082 627.462 21.5346 Q624.465 18.8205 618.55 18.8205 L608.261 18.8205 Z\" fill=\"#000000\" fill-rule=\"evenodd\" fill-opacity=\"1\" /><path clip-path=\"url(#clip920)\" d=\"M657.723 12.096 L692.479 12.096 L692.479 18.9825 L665.905 18.9825 L665.905 36.8065 L689.887 36.8065 L689.887 43.6931 L665.905 43.6931 L665.905 72.576 L657.723 72.576 L657.723 12.096 Z\" fill=\"#000000\" fill-rule=\"evenodd\" fill-opacity=\"1\" /><path clip-path=\"url(#clip920)\" d=\"M760.494 44.2197 Q763.127 45.1109 765.598 48.0275 Q768.11 50.9442 770.621 56.0483 L778.926 72.576 L770.135 72.576 L762.398 57.061 Q759.4 50.9847 756.565 48.9997 Q753.77 47.0148 748.908 47.0148 L739.996 47.0148 L739.996 72.576 L731.814 72.576 L731.814 12.096 L750.286 12.096 Q760.656 12.096 765.76 16.4305 Q770.864 20.7649 770.864 29.5149 Q770.864 35.2267 768.191 38.994 Q765.558 42.7613 760.494 44.2197 M739.996 18.8205 L739.996 40.2903 L750.286 40.2903 Q756.2 40.2903 759.198 37.5762 Q762.236 34.8216 762.236 29.5149 Q762.236 24.2082 759.198 21.5346 Q756.2 18.8205 750.286 18.8205 L739.996 18.8205 Z\" fill=\"#000000\" fill-rule=\"evenodd\" fill-opacity=\"1\" /><path clip-path=\"url(#clip920)\" d=\"M833.41 9.62495 Q827.982 18.942 825.349 28.0566 Q822.716 37.1711 822.716 46.5287 Q822.716 55.8863 825.349 65.0818 Q828.023 74.2369 833.41 83.5134 L826.929 83.5134 Q820.853 73.9938 817.814 64.7983 Q814.817 55.6027 814.817 46.5287 Q814.817 37.4952 817.814 28.3401 Q820.812 19.1851 826.929 9.62495 L833.41 9.62495 Z\" fill=\"#000000\" fill-rule=\"evenodd\" fill-opacity=\"1\" /><path clip-path=\"url(#clip920)\" d=\"M847.102 54.671 L847.102 27.2059 L854.556 27.2059 L854.556 54.3874 Q854.556 60.8284 857.068 64.0691 Q859.579 67.2693 864.602 67.2693 Q870.638 67.2693 874.122 63.421 Q877.646 59.5726 877.646 52.9291 L877.646 27.2059 L885.1 27.2059 L885.1 72.576 L877.646 72.576 L877.646 65.6084 Q874.932 69.7404 871.327 71.7658 Q867.762 73.7508 863.022 73.7508 Q855.204 73.7508 851.153 68.8897 Q847.102 64.0286 847.102 54.671 M865.858 26.1121 L865.858 26.1121 Z\" fill=\"#000000\" fill-rule=\"evenodd\" fill-opacity=\"1\" /><path clip-path=\"url(#clip920)\" d=\"M907.663 65.7705 L907.663 89.8329 L900.169 89.8329 L900.169 27.2059 L907.663 27.2059 L907.663 34.0924 Q910.013 30.0415 913.578 28.0971 Q917.183 26.1121 922.166 26.1121 Q930.429 26.1121 935.574 32.6746 Q940.759 39.2371 940.759 49.9314 Q940.759 60.6258 935.574 67.1883 Q930.429 73.7508 922.166 73.7508 Q917.183 73.7508 913.578 71.8063 Q910.013 69.8214 907.663 65.7705 M933.022 49.9314 Q933.022 41.7081 929.619 37.0496 Q926.257 32.3505 920.343 32.3505 Q914.428 32.3505 911.026 37.0496 Q907.663 41.7081 907.663 49.9314 Q907.663 58.1548 911.026 62.8538 Q914.428 67.5124 920.343 67.5124 Q926.257 67.5124 929.619 62.8538 Q933.022 58.1548 933.022 49.9314 Z\" fill=\"#000000\" fill-rule=\"evenodd\" fill-opacity=\"1\" /><path clip-path=\"url(#clip920)\" d=\"M960.325 65.7705 L960.325 89.8329 L952.831 89.8329 L952.831 27.2059 L960.325 27.2059 L960.325 34.0924 Q962.675 30.0415 966.239 28.0971 Q969.845 26.1121 974.827 26.1121 Q983.091 26.1121 988.236 32.6746 Q993.421 39.2371 993.421 49.9314 Q993.421 60.6258 988.236 67.1883 Q983.091 73.7508 974.827 73.7508 Q969.845 73.7508 966.239 71.8063 Q962.675 69.8214 960.325 65.7705 M985.684 49.9314 Q985.684 41.7081 982.281 37.0496 Q978.919 32.3505 973.004 32.3505 Q967.09 32.3505 963.687 37.0496 Q960.325 41.7081 960.325 49.9314 Q960.325 58.1548 963.687 62.8538 Q967.09 67.5124 973.004 67.5124 Q978.919 67.5124 982.281 62.8538 Q985.684 58.1548 985.684 49.9314 Z\" fill=\"#000000\" fill-rule=\"evenodd\" fill-opacity=\"1\" /><path clip-path=\"url(#clip920)\" d=\"M1044.58 48.0275 L1044.58 51.6733 L1010.31 51.6733 Q1010.8 59.3701 1014.93 63.421 Q1019.1 67.4314 1026.52 67.4314 Q1030.81 67.4314 1034.82 66.3781 Q1038.87 65.3249 1042.84 63.2184 L1042.84 70.267 Q1038.83 71.9684 1034.62 72.8596 Q1030.41 73.7508 1026.07 73.7508 Q1015.21 73.7508 1008.85 67.4314 Q1002.54 61.1119 1002.54 50.3365 Q1002.54 39.1965 1008.53 32.6746 Q1014.57 26.1121 1024.78 26.1121 Q1033.93 26.1121 1039.24 32.0264 Q1044.58 37.9003 1044.58 48.0275 M1037.13 45.84 Q1037.05 39.7232 1033.69 36.0774 Q1030.37 32.4315 1024.86 32.4315 Q1018.62 32.4315 1014.85 35.9558 Q1011.12 39.4801 1010.56 45.8805 L1037.13 45.84 Z\" fill=\"#000000\" fill-rule=\"evenodd\" fill-opacity=\"1\" /><path clip-path=\"url(#clip920)\" d=\"M1083.11 34.1734 Q1081.85 33.4443 1080.35 33.1202 Q1078.9 32.7556 1077.11 32.7556 Q1070.79 32.7556 1067.39 36.8875 Q1064.03 40.9789 1064.03 48.6757 L1064.03 72.576 L1056.53 72.576 L1056.53 27.2059 L1064.03 27.2059 L1064.03 34.2544 Q1066.38 30.1225 1070.15 28.1376 Q1073.91 26.1121 1079.3 26.1121 Q1080.07 26.1121 1081 26.2337 Q1081.93 26.3147 1083.07 26.5172 L1083.11 34.1734 Z\" fill=\"#000000\" fill-rule=\"evenodd\" fill-opacity=\"1\" /><path clip-path=\"url(#clip920)\" d=\"M1089.75 9.62495 L1096.23 9.62495 Q1102.31 19.1851 1105.31 28.3401 Q1108.35 37.4952 1108.35 46.5287 Q1108.35 55.6027 1105.31 64.7983 Q1102.31 73.9938 1096.23 83.5134 L1089.75 83.5134 Q1095.14 74.2369 1097.77 65.0818 Q1100.45 55.8863 1100.45 46.5287 Q1100.45 37.1711 1097.77 28.0566 Q1095.14 18.942 1089.75 9.62495 Z\" fill=\"#000000\" fill-rule=\"evenodd\" fill-opacity=\"1\" /><path clip-path=\"url(#clip920)\" d=\"M1170.28 49.7694 Q1161.25 49.7694 1157.77 51.8354 Q1154.28 53.9013 1154.28 58.8839 Q1154.28 62.8538 1156.88 65.2034 Q1159.51 67.5124 1164 67.5124 Q1170.2 67.5124 1173.93 63.1374 Q1177.7 58.7219 1177.7 51.4303 L1177.7 49.7694 L1170.28 49.7694 M1185.15 46.6907 L1185.15 72.576 L1177.7 72.576 L1177.7 65.6895 Q1175.14 69.8214 1171.34 71.8063 Q1167.53 73.7508 1162.02 73.7508 Q1155.05 73.7508 1150.92 69.8619 Q1146.83 65.9325 1146.83 59.3701 Q1146.83 51.7138 1151.93 47.825 Q1157.08 43.9361 1167.25 43.9361 L1177.7 43.9361 L1177.7 43.2069 Q1177.7 38.0623 1174.29 35.2672 Q1170.93 32.4315 1164.81 32.4315 Q1160.93 32.4315 1157.24 33.3632 Q1153.55 34.295 1150.15 36.1584 L1150.15 29.2718 Q1154.24 27.692 1158.09 26.9223 Q1161.94 26.1121 1165.58 26.1121 Q1175.43 26.1121 1180.29 31.2163 Q1185.15 36.3204 1185.15 46.6907 Z\" fill=\"#000000\" fill-rule=\"evenodd\" fill-opacity=\"1\" /><path clip-path=\"url(#clip920)\" d=\"M1238.22 45.1919 L1238.22 72.576 L1230.76 72.576 L1230.76 45.4349 Q1230.76 38.994 1228.25 35.7938 Q1225.74 32.5936 1220.72 32.5936 Q1214.68 32.5936 1211.2 36.4419 Q1207.71 40.2903 1207.71 46.9338 L1207.71 72.576 L1200.22 72.576 L1200.22 27.2059 L1207.71 27.2059 L1207.71 34.2544 Q1210.39 30.163 1213.99 28.1376 Q1217.64 26.1121 1222.38 26.1121 Q1230.2 26.1121 1234.21 30.9732 Q1238.22 35.7938 1238.22 45.1919 Z\" fill=\"#000000\" fill-rule=\"evenodd\" fill-opacity=\"1\" /><path clip-path=\"url(#clip920)\" d=\"M1282.94 34.0924 L1282.94 9.54393 L1290.39 9.54393 L1290.39 72.576 L1282.94 72.576 L1282.94 65.7705 Q1280.59 69.8214 1276.98 71.8063 Q1273.42 73.7508 1268.4 73.7508 Q1260.17 73.7508 1254.99 67.1883 Q1249.84 60.6258 1249.84 49.9314 Q1249.84 39.2371 1254.99 32.6746 Q1260.17 26.1121 1268.4 26.1121 Q1273.42 26.1121 1276.98 28.0971 Q1280.59 30.0415 1282.94 34.0924 M1257.54 49.9314 Q1257.54 58.1548 1260.9 62.8538 Q1264.3 67.5124 1270.22 67.5124 Q1276.13 67.5124 1279.54 62.8538 Q1282.94 58.1548 1282.94 49.9314 Q1282.94 41.7081 1279.54 37.0496 Q1276.13 32.3505 1270.22 32.3505 Q1264.3 32.3505 1260.9 37.0496 Q1257.54 41.7081 1257.54 49.9314 Z\" fill=\"#000000\" fill-rule=\"evenodd\" fill-opacity=\"1\" /><path clip-path=\"url(#clip920)\" d=\"M1358.41 34.1734 Q1357.15 33.4443 1355.65 33.1202 Q1354.19 32.7556 1352.41 32.7556 Q1346.09 32.7556 1342.69 36.8875 Q1339.33 40.9789 1339.33 48.6757 L1339.33 72.576 L1331.83 72.576 L1331.83 27.2059 L1339.33 27.2059 L1339.33 34.2544 Q1341.68 30.1225 1345.44 28.1376 Q1349.21 26.1121 1354.6 26.1121 Q1355.37 26.1121 1356.3 26.2337 Q1357.23 26.3147 1358.37 26.5172 L1358.41 34.1734 Z\" fill=\"#000000\" fill-rule=\"evenodd\" fill-opacity=\"1\" /><path clip-path=\"url(#clip920)\" d=\"M1403.21 48.0275 L1403.21 51.6733 L1368.94 51.6733 Q1369.43 59.3701 1373.56 63.421 Q1377.73 67.4314 1385.14 67.4314 Q1389.44 67.4314 1393.45 66.3781 Q1397.5 65.3249 1401.47 63.2184 L1401.47 70.267 Q1397.46 71.9684 1393.25 72.8596 Q1389.03 73.7508 1384.7 73.7508 Q1373.84 73.7508 1367.48 67.4314 Q1361.16 61.1119 1361.16 50.3365 Q1361.16 39.1965 1367.16 32.6746 Q1373.19 26.1121 1383.4 26.1121 Q1392.56 26.1121 1397.86 32.0264 Q1403.21 37.9003 1403.21 48.0275 M1395.76 45.84 Q1395.68 39.7232 1392.31 36.0774 Q1388.99 32.4315 1383.48 32.4315 Q1377.24 32.4315 1373.48 35.9558 Q1369.75 39.4801 1369.18 45.8805 L1395.76 45.84 Z\" fill=\"#000000\" fill-rule=\"evenodd\" fill-opacity=\"1\" /><path clip-path=\"url(#clip920)\" d=\"M1438.41 9.54393 L1438.41 15.7418 L1431.28 15.7418 Q1427.27 15.7418 1425.69 17.3622 Q1424.15 18.9825 1424.15 23.1955 L1424.15 27.2059 L1436.43 27.2059 L1436.43 32.9987 L1424.15 32.9987 L1424.15 72.576 L1416.66 72.576 L1416.66 32.9987 L1409.53 32.9987 L1409.53 27.2059 L1416.66 27.2059 L1416.66 24.0462 Q1416.66 16.471 1420.18 13.0277 Q1423.71 9.54393 1431.36 9.54393 L1438.41 9.54393 Z\" fill=\"#000000\" fill-rule=\"evenodd\" fill-opacity=\"1\" /><path clip-path=\"url(#clip920)\" d=\"M1444.65 9.54393 L1452.1 9.54393 L1452.1 72.576 L1444.65 72.576 L1444.65 9.54393 Z\" fill=\"#000000\" fill-rule=\"evenodd\" fill-opacity=\"1\" /><path clip-path=\"url(#clip920)\" d=\"M1506.51 48.0275 L1506.51 51.6733 L1472.24 51.6733 Q1472.72 59.3701 1476.86 63.421 Q1481.03 67.4314 1488.44 67.4314 Q1492.74 67.4314 1496.75 66.3781 Q1500.8 65.3249 1504.77 63.2184 L1504.77 70.267 Q1500.76 71.9684 1496.54 72.8596 Q1492.33 73.7508 1488 73.7508 Q1477.14 73.7508 1470.78 67.4314 Q1464.46 61.1119 1464.46 50.3365 Q1464.46 39.1965 1470.46 32.6746 Q1476.49 26.1121 1486.7 26.1121 Q1495.85 26.1121 1501.16 32.0264 Q1506.51 37.9003 1506.51 48.0275 M1499.05 45.84 Q1498.97 39.7232 1495.61 36.0774 Q1492.29 32.4315 1486.78 32.4315 Q1480.54 32.4315 1476.77 35.9558 Q1473.05 39.4801 1472.48 45.8805 L1499.05 45.84 Z\" fill=\"#000000\" fill-rule=\"evenodd\" fill-opacity=\"1\" /><path clip-path=\"url(#clip920)\" d=\"M1551.39 28.9478 L1551.39 35.9153 Q1548.23 34.1734 1545.03 33.3227 Q1541.87 32.4315 1538.63 32.4315 Q1531.38 32.4315 1527.37 37.0496 Q1523.36 41.6271 1523.36 49.9314 Q1523.36 58.2358 1527.37 62.8538 Q1531.38 67.4314 1538.63 67.4314 Q1541.87 67.4314 1545.03 66.5807 Q1548.23 65.6895 1551.39 63.9476 L1551.39 70.8341 Q1548.27 72.2924 1544.91 73.0216 Q1541.59 73.7508 1537.82 73.7508 Q1527.57 73.7508 1521.54 67.3098 Q1515.5 60.8689 1515.5 49.9314 Q1515.5 38.832 1521.58 32.472 Q1527.69 26.1121 1538.31 26.1121 Q1541.75 26.1121 1545.03 26.8413 Q1548.31 27.5299 1551.39 28.9478 Z\" fill=\"#000000\" fill-rule=\"evenodd\" fill-opacity=\"1\" /><path clip-path=\"url(#clip920)\" d=\"M1571.73 14.324 L1571.73 27.2059 L1587.08 27.2059 L1587.08 32.9987 L1571.73 32.9987 L1571.73 57.6282 Q1571.73 63.1779 1573.23 64.7578 Q1574.77 66.3376 1579.42 66.3376 L1587.08 66.3376 L1587.08 72.576 L1579.42 72.576 Q1570.8 72.576 1567.52 69.3758 Q1564.23 66.1351 1564.23 57.6282 L1564.23 32.9987 L1558.77 32.9987 L1558.77 27.2059 L1564.23 27.2059 L1564.23 14.324 L1571.73 14.324 Z\" fill=\"#000000\" fill-rule=\"evenodd\" fill-opacity=\"1\" /><path clip-path=\"url(#clip920)\" d=\"M1614.47 32.4315 Q1608.47 32.4315 1604.99 37.1306 Q1601.5 41.7891 1601.5 49.9314 Q1601.5 58.0738 1604.95 62.7728 Q1608.43 67.4314 1614.47 67.4314 Q1620.42 67.4314 1623.9 62.7323 Q1627.39 58.0333 1627.39 49.9314 Q1627.39 41.8701 1623.9 37.1711 Q1620.42 32.4315 1614.47 32.4315 M1614.47 26.1121 Q1624.19 26.1121 1629.74 32.4315 Q1635.29 38.7509 1635.29 49.9314 Q1635.29 61.0714 1629.74 67.4314 Q1624.19 73.7508 1614.47 73.7508 Q1604.7 73.7508 1599.15 67.4314 Q1593.64 61.0714 1593.64 49.9314 Q1593.64 38.7509 1599.15 32.4315 Q1604.7 26.1121 1614.47 26.1121 Z\" fill=\"#000000\" fill-rule=\"evenodd\" fill-opacity=\"1\" /><path clip-path=\"url(#clip920)\" d=\"M1673.93 34.1734 Q1672.68 33.4443 1671.18 33.1202 Q1669.72 32.7556 1667.94 32.7556 Q1661.62 32.7556 1658.21 36.8875 Q1654.85 40.9789 1654.85 48.6757 L1654.85 72.576 L1647.36 72.576 L1647.36 27.2059 L1654.85 27.2059 L1654.85 34.2544 Q1657.2 30.1225 1660.97 28.1376 Q1664.74 26.1121 1670.12 26.1121 Q1670.89 26.1121 1671.83 26.2337 Q1672.76 26.3147 1673.89 26.5172 L1673.93 34.1734 Z\" fill=\"#000000\" fill-rule=\"evenodd\" fill-opacity=\"1\" /><path clip-path=\"url(#clip920)\" d=\"M1710.67 28.5427 L1710.67 35.5912 Q1707.51 33.9709 1704.11 33.1607 Q1700.71 32.3505 1697.06 32.3505 Q1691.51 32.3505 1688.72 34.0519 Q1685.96 35.7533 1685.96 39.156 Q1685.96 41.7486 1687.95 43.2475 Q1689.93 44.7058 1695.93 46.0426 L1698.48 46.6097 Q1706.42 48.3111 1709.74 51.4303 Q1713.1 54.509 1713.1 60.0587 Q1713.1 66.3781 1708.08 70.0644 Q1703.1 73.7508 1694.35 73.7508 Q1690.7 73.7508 1686.73 73.0216 Q1682.8 72.3329 1678.43 70.9151 L1678.43 63.2184 Q1682.56 65.3654 1686.57 66.4591 Q1690.58 67.5124 1694.51 67.5124 Q1699.78 67.5124 1702.61 65.73 Q1705.45 63.9071 1705.45 60.6258 Q1705.45 57.5877 1703.38 55.9673 Q1701.36 54.3469 1694.43 52.8481 L1691.84 52.2405 Q1684.91 50.7821 1681.83 47.7845 Q1678.75 44.7463 1678.75 39.4801 Q1678.75 33.0797 1683.29 29.5959 Q1687.83 26.1121 1696.17 26.1121 Q1700.3 26.1121 1703.95 26.7198 Q1707.6 27.3274 1710.67 28.5427 Z\" fill=\"#000000\" fill-rule=\"evenodd\" fill-opacity=\"1\" /><path clip-path=\"url(#clip920)\" d=\"M1769.25 9.62495 Q1763.82 18.942 1761.19 28.0566 Q1758.56 37.1711 1758.56 46.5287 Q1758.56 55.8863 1761.19 65.0818 Q1763.86 74.2369 1769.25 83.5134 L1762.77 83.5134 Q1756.69 73.9938 1753.65 64.7983 Q1750.66 55.6027 1750.66 46.5287 Q1750.66 37.4952 1753.65 28.3401 Q1756.65 19.1851 1762.77 9.62495 L1769.25 9.62495 Z\" fill=\"#000000\" fill-rule=\"evenodd\" fill-opacity=\"1\" /><path clip-path=\"url(#clip920)\" d=\"M1783.71 9.54393 L1791.17 9.54393 L1791.17 72.576 L1783.71 72.576 L1783.71 9.54393 Z\" fill=\"#000000\" fill-rule=\"evenodd\" fill-opacity=\"1\" /><path clip-path=\"url(#clip920)\" d=\"M1824.34 32.4315 Q1818.35 32.4315 1814.86 37.1306 Q1811.38 41.7891 1811.38 49.9314 Q1811.38 58.0738 1814.82 62.7728 Q1818.31 67.4314 1824.34 67.4314 Q1830.3 67.4314 1833.78 62.7323 Q1837.26 58.0333 1837.26 49.9314 Q1837.26 41.8701 1833.78 37.1711 Q1830.3 32.4315 1824.34 32.4315 M1824.34 26.1121 Q1834.06 26.1121 1839.61 32.4315 Q1845.16 38.7509 1845.16 49.9314 Q1845.16 61.0714 1839.61 67.4314 Q1834.06 73.7508 1824.34 73.7508 Q1814.58 73.7508 1809.03 67.4314 Q1803.52 61.0714 1803.52 49.9314 Q1803.52 38.7509 1809.03 32.4315 Q1814.58 26.1121 1824.34 26.1121 Z\" fill=\"#000000\" fill-rule=\"evenodd\" fill-opacity=\"1\" /><path clip-path=\"url(#clip920)\" d=\"M1853.18 27.2059 L1860.64 27.2059 L1869.96 62.6108 L1879.23 27.2059 L1888.02 27.2059 L1897.34 62.6108 L1906.62 27.2059 L1914.07 27.2059 L1902.2 72.576 L1893.41 72.576 L1883.65 35.3887 L1873.84 72.576 L1865.05 72.576 L1853.18 27.2059 Z\" fill=\"#000000\" fill-rule=\"evenodd\" fill-opacity=\"1\" /><path clip-path=\"url(#clip920)\" d=\"M1964.18 48.0275 L1964.18 51.6733 L1929.91 51.6733 Q1930.4 59.3701 1934.53 63.421 Q1938.7 67.4314 1946.11 67.4314 Q1950.41 67.4314 1954.42 66.3781 Q1958.47 65.3249 1962.44 63.2184 L1962.44 70.267 Q1958.43 71.9684 1954.21 72.8596 Q1950 73.7508 1945.67 73.7508 Q1934.81 73.7508 1928.45 67.4314 Q1922.13 61.1119 1922.13 50.3365 Q1922.13 39.1965 1928.13 32.6746 Q1934.16 26.1121 1944.37 26.1121 Q1953.53 26.1121 1958.83 32.0264 Q1964.18 37.9003 1964.18 48.0275 M1956.73 45.84 Q1956.65 39.7232 1953.28 36.0774 Q1949.96 32.4315 1944.45 32.4315 Q1938.21 32.4315 1934.45 35.9558 Q1930.72 39.4801 1930.15 45.8805 L1956.73 45.84 Z\" fill=\"#000000\" fill-rule=\"evenodd\" fill-opacity=\"1\" /><path clip-path=\"url(#clip920)\" d=\"M2002.7 34.1734 Q2001.45 33.4443 1999.95 33.1202 Q1998.49 32.7556 1996.71 32.7556 Q1990.39 32.7556 1986.99 36.8875 Q1983.62 40.9789 1983.62 48.6757 L1983.62 72.576 L1976.13 72.576 L1976.13 27.2059 L1983.62 27.2059 L1983.62 34.2544 Q1985.97 30.1225 1989.74 28.1376 Q1993.51 26.1121 1998.9 26.1121 Q1999.67 26.1121 2000.6 26.2337 Q2001.53 26.3147 2002.66 26.5172 L2002.7 34.1734 Z\" fill=\"#000000\" fill-rule=\"evenodd\" fill-opacity=\"1\" /><path clip-path=\"url(#clip920)\" d=\"M2009.35 9.62495 L2015.83 9.62495 Q2021.91 19.1851 2024.9 28.3401 Q2027.94 37.4952 2027.94 46.5287 Q2027.94 55.6027 2024.9 64.7983 Q2021.91 73.9938 2015.83 83.5134 L2009.35 83.5134 Q2014.73 74.2369 2017.37 65.0818 Q2020.04 55.8863 2020.04 46.5287 Q2020.04 37.1711 2017.37 28.0566 Q2014.73 18.942 2009.35 9.62495 Z\" fill=\"#000000\" fill-rule=\"evenodd\" fill-opacity=\"1\" /><g clip-path=\"url(#clip922)\">\n",
       "<image width=\"1222\" height=\"1711\" xlink:href=\"data:image/png;base64,\n",
       "iVBORw0KGgoAAAANSUhEUgAABMYAAAavCAYAAAB1aed3AAAgAElEQVR4nOzaQRGCUABFUTEAfYhi\n",
       "GmJQxTUhSGAP3OvWmT9yz0nw1nfe9Hy8zhsAAAAAxNxHDwAAAACAEYQxAAAAAJKEMQAAAACShDEA\n",
       "AAAAkoQxAAAAAJKEMQAAAACShDEAAAAAkoQxAAAAAJKEMQAAAACShDEAAAAAkoQxAAAAAJKEMQAA\n",
       "AACShDEAAAAAkoQxAAAAAJKEMQAAAACShDEAAAAAkoQxAAAAAJKEMQAAAACShDEAAAAAkoQxAAAA\n",
       "AJKEMQAAAACShDEAAAAAkoQxAAAAAJKEMQAAAACShDEAAAAAkoQxAAAAAJKEMQAAAACShDEAAAAA\n",
       "koQxAAAAAJKEMQAAAACShDEAAAAAkoQxAAAAAJKEMQAAAACShDEAAAAAkoQxAAAAAJKEMQAAAACS\n",
       "hDEAAAAAkoQxAAAAAJKEMQAAAACShDEAAAAAkoQxAAAAAJKEMQAAAACShDEAAAAAkoQxAAAAAJKE\n",
       "MQAAAACShDEAAAAAkoQxAAAAAJKEMQAAAACShDEAAAAAkoQxAAAAAJKEMQAAAACShDEAAAAAkoQx\n",
       "AAAAAJKEMQAAAACShDEAAAAAkoQxAAAAAJKEMQAAAACShDEAAAAAkoQxAAAAAJKEMQAAAACShDEA\n",
       "AAAAkoQxAAAAAJKEMQAAAACShDEAAAAAkoQxAAAAAJKEMQAAAACShDEAAAAAkoQxAAAAAJKEMQAA\n",
       "AACShDEAAAAAkoQxAAAAAJKEMQAAAACShDEAAAAAkoQxAAAAAJKEMQAAAACShDEAAAAAkoQxAAAA\n",
       "AJKEMQAAAACShDEAAAAAkoQxAAAAAJKEMQAAAACShDEAAAAAkoQxAAAAAJKEMQAAAACShDEAAAAA\n",
       "koQxAAAAAJKEMQAAAACShDEAAAAAkoQxAAAAAJKEMQAAAACShDEAAAAAkoQxAAAAAJKEMQAAAACS\n",
       "hDEAAAAAkoQxAAAAAJKEMQAAAACShDEAAAAAkoQxAAAAAJKEMQAAAACShDEAAAAAkoQxAAAAAJKE\n",
       "MQAAAACShDEAAAAAkoQxAAAAAJKEMQAAAACShDEAAAAAkoQxAAAAAJKEMQAAAACShDEAAAAAkoQx\n",
       "AAAAAJKEMQAAAACShDEAAAAAkoQxAAAAAJKEMQAAAACShDEAAAAAkoQxAAAAAJKEMQAAAACShDEA\n",
       "AAAAkoQxAAAAAJKEMQAAAACShDEAAAAAkoQxAAAAAJKEMQAAAACShDEAAAAAkoQxAAAAAJKEMQAA\n",
       "AACShDEAAAAAkoQxAAAAAJKEMQAAAACShDEAAAAAkoQxAAAAAJKEMQAAAACShDEAAAAAkoQxAAAA\n",
       "AJKEMQAAAACShDEAAAAAkoQxAAAAAJKEMQAAAACShDEAAAAAkoQxAAAAAJKEMQAAAACShDEAAAAA\n",
       "koQxAAAAAJKEMQAAAACShDEAAAAAkoQxAAAAAJKEMQAAAACShDEAAAAAkoQxAAAAAJKEMQAAAACS\n",
       "hDEAAAAAkoQxAAAAAJKEMQAAAACShDEAAAAAkoQxAAAAAJKEMQAAAACShDEAAAAAkoQxAAAAAJKE\n",
       "MQAAAACShDEAAAAAkoQxAAAAAJKEMQAAAACShDEAAAAAkoQxAAAAAJKEMQAAAACShDEAAAAAkoQx\n",
       "AAAAAJKEMQAAAACShDEAAAAAkoQxAAAAAJKEMQAAAACShDEAAAAAkoQxAAAAAJKEMQAAAACShDEA\n",
       "AAAAkoQxAAAAAJKEMQAAAACShDEAAAAAkoQxAAAAAJKEMQAAAACShDEAAAAAkoQxAAAAAJKEMQAA\n",
       "AACShDEAAAAAkoQxAAAAAJKEMQAAAACShDEAAAAAkoQxAAAAAJKEMQAAAACShDEAAAAAkoQxAAAA\n",
       "AJKEMQAAAACShDEAAAAAkoQxAAAAAJKEMQAAAACShDEAAAAAkoQxAAAAAJKEMQAAAACShDEAAAAA\n",
       "koQxAAAAAJKEMQAAAACShDEAAAAAkoQxAAAAAJKEMQAAAACShDEAAAAAkoQxAAAAAJKEMQAAAACS\n",
       "hDEAAAAAkoQxAAAAAJKEMQAAAACShDEAAAAAkoQxAAAAAJKEMQAAAACShDEAAAAAkoQxAAAAAJKE\n",
       "MQAAAACShDEAAAAAkoQxAAAAAJKEMQAAAACShDEAAAAAkoQxAAAAAJKEMQAAAACShDEAAAAAkoQx\n",
       "AAAAAJKEMQAAAACShDEAAAAAkoQxAAAAAJKEMQAAAACShDEAAAAAkoQxAAAAAJKEMQAAAACShDEA\n",
       "AAAAkoQxAAAAAJKEMQAAAACShDEAAAAAkoQxAAAAAJKEMQAAAACShDEAAAAAkoQxAAAAAJKEMQAA\n",
       "AACShDEAAAAAkoQxAAAAAJKEMQAAAACShDEAAAAAkoQxAAAAAJKEMQAAAACSpmWbz9EjgN9Z92P0\n",
       "BAAAAPgLHmMAAAAAJAljAAAAACQJYwAAAAAkCWMAAAAAJAljAAAAACQJYwAAAAAkCWMAAAAAJAlj\n",
       "AAAAACQJYwAAAAAkCWMAAAAAJAljAAAAACQJYwAAAAAkCWMAAAAAJAljAAAAACQJYwAAAAAkCWMA\n",
       "AAAAJAljAAAAACQJYwAAAAAkCWMAAAAAJAljAAAAACQJYwAAAAAkCWMAAAAAJAljAAAAACQJYwAA\n",
       "AAAkCWMAAAAAJAljAAAAACQJYwAAAAAkCWMAAAAAJAljAAAAACQJYwAAAAAkCWMAAAAAJAljAAAA\n",
       "ACQJYwAAAAAkCWMAAAAAJAljAAAAACQJYwAAAAAkCWMAAAAAJAljAAAAACQJYwAAAAAkCWMAAAAA\n",
       "JAljAAAAACQJYwAAAAAkCWMAAAAAJAljAAAAACQJYwAAAAAkCWMAAAAAJAljAAAAACQJYwAAAAAk\n",
       "CWMAAAAAJAljAAAAACQJYwAAAAAkCWMAAAAAJAljAAAAACQJYwAAAAAkCWMAAAAAJAljAAAAACQJ\n",
       "YwAAAAAkCWMAAAAAJAljAAAAACQJYwAAAAAkCWMAAAAAJAljAAAAACQJYwAAAAAkCWMAAAAAJAlj\n",
       "AAAAACQJYwAAAAAkCWMAAAAAJAljAAAAACQJYwAAAAAkCWMAAAAAJAljAAAAACQJYwAAAAAkCWMA\n",
       "AAAAJAljAAAAACQJYwAAAAAkCWMAAAAAJAljAAAAACQJYwAAAAAkCWMAAAAAJAljAAAAACQJYwAA\n",
       "AAAkCWMAAAAAJAljAAAAACQJYwAAAAAkCWMAAAAAJAljAAAAACQJYwAAAAAkCWMAAAAAJAljAAAA\n",
       "ACQJYwAAAAAkCWMAAAAAJAljAAAAACQJYwAAAAAkCWMAAAAAJAljAAAAACQJYwAAAAAkCWMAAAAA\n",
       "JAljAAAAACQJYwAAAAAkCWMAAAAAJAljAAAAACQJYwAAAAAkCWMAAAAAJAljAAAAACQJYwAAAAAk\n",
       "CWMAAAAAJAljAAAAACQJYwAAAAAkCWMAAAAAJAljAAAAACQJYwAAAAAkCWMAAAAAJAljAAAAACQJ\n",
       "YwAAAAAkCWMAAAAAJAljAAAAACQJYwAAAAAkCWMAAAAAJAljAAAAACQJYwAAAAAkCWMAAAAAJAlj\n",
       "AAAAACQJYwAAAAAkCWMAAAAAJAljAAAAACQJYwAAAAAkCWMAAAAAJAljAAAAACQJYwAAAAAkCWMA\n",
       "AAAAJAljAAAAACQJYwAAAAAkCWMAAAAAJAljAAAAACQJYwAAAAAkCWMAAAAAJAljAAAAACQJYwAA\n",
       "AAAkCWMAAAAAJAljAAAAACQJYwAAAAAkCWMAAAAAJAljAAAAACQJYwAAAAAkCWMAAAAAJAljAAAA\n",
       "ACQJYwAAAAAkCWMAAAAAJAljAAAAACQJYwAAAAAkCWMAAAAAJAljAAAAACQJYwAAAAAkCWMAAAAA\n",
       "JAljAAAAACQJYwAAAAAkCWMAAAAAJAljAAAAACQJYwAAAAAkCWMAAAAAJAljAAAAACQJYwAAAAAk\n",
       "CWMAAAAAJAljAAAAACQJYwAAAAAkCWMAAAAAJAljAAAAACQJYwAAAAAkCWMAAAAAJAljAAAAACQJ\n",
       "YwAAAAAkCWMAAAAAJAljAAAAACQJYwAAAAAkCWMAAAAAJAljAAAAACQJYwAAAAAkCWMAAAAAJAlj\n",
       "AAAAACQJYwAAAAAkCWMAAAAAJAljAAAAACQJYwAAAAAkCWMAAAAAJAljAAAAACQJYwAAAAAkCWMA\n",
       "AAAAJAljAAAAACQJYwAAAAAkCWMAAAAAJAljAAAAACQJYwAAAAAkCWMAAAAAJAljAAAAACQJYwAA\n",
       "AAAkCWMAAAAAJAljAAAAACQJYwAAAAAkCWMAAAAAJAljAAAAACQJYwAAAAAkCWMAAAAAJAljAAAA\n",
       "ACQJYwAAAAAkCWMAAAAAJAljAAAAACQJYwAAAAAkCWMAAAAAJAljAAAAACQJYwAAAAAkCWMAAAAA\n",
       "JAljAAAAACQJYwAAAAAkCWMAAAAAJAljAAAAACQJYwAAAAAkCWMAAAAAJAljAAAAACQJYwAAAAAk\n",
       "CWMAAAAAJAljAAAAACQJYwAAAAAkCWMAAAAAJAljAAAAACQJYwAAAAAkCWMAAAAAJAljAAAAACQJ\n",
       "YwAAAAAkCWMAAAAAJAljAAAAACQJYwAAAAAkCWMAAAAAJAljAAAAACQJYwAAAAAkCWMAAAAAJAlj\n",
       "AAAAACQJYwAAAAAkCWMAAAAAJAljAAAAACQJYwAAAAAkCWMAAAAAJAljAAAAACRNyzafo0cAAN/W\n",
       "/Rg9AQAALs1jDAAAAIAkYQwAAACAJGEMAAAAgCRhDAAAAIAkYQwAAACAJGEMAAAAgCRhDAAAAIAk\n",
       "YQwAAACAJGEMAAAAgCRhDAAAAIAkYQwAAACAJGEMAAAAgCRhDAAAAIAkYQwAAACAJGEMAAAAgCRh\n",
       "DAAAAIAkYQwAAACAJGEMAAAAgCRhDAAAAIAkYQwAAACAJGEMAAAAgCRhDAAAAIAkYQwAAACAJGEM\n",
       "AAAAgCRhDAAAAIAkYQwAAACAJGEMAAAAgCRhDAAAAIAkYQwAAACAJGEMAAAAgCRhDAAAAIAkYQwA\n",
       "AACAJGEMAAAAgCRhDAAAAIAkYQwAAACAJGEMAAAAgCRhDAAAAIAkYQwAAACAJGEMAAAAgCRhDAAA\n",
       "AIAkYQwAAACAJGEMAAAAgCRhDAAAAIAkYQwAAACAJGEMAAAAgCRhDAAAAIAkYQwAAACAJGEMAAAA\n",
       "gCRhDAAAAIAkYQwAAACAJGEMAAAAgCRhDAAAAIAkYQwAAACAJGEMAAAAgCRhDAAAAIAkYQwAAACA\n",
       "JGEMAAAAgCRhDAAAAIAkYQwAAACAJGEMAAAAgCRhDAAAAIAkYQwAAACAJGEMAAAAgCRhDAAAAIAk\n",
       "YQwAAACAJGEMAAAAgCRhDAAAAIAkYQwAAACAJGEMAAAAgCRhDAAAAIAkYQwAAACAJGEMAAAAgCRh\n",
       "DAAAAIAkYQwAAACAJGEMAAAAgCRhDAAAAIAkYQwAAACAJGEMAAAAgCRhDAAAAIAkYQwAAACAJGEM\n",
       "AAAAgCRhDAAAAIAkYQwAAACAJGEMAAAAgCRhDAAAAIAkYQwAAACAJGEMAAAAgCRhDAAAAIAkYQwA\n",
       "AACAJGEMAAAAgCRhDAAAAIAkYQwAAACAJGEMAAAAgCRhDAAAAIAkYQwAAACAJGEMAAAAgCRhDAAA\n",
       "AIAkYQwAAACAJGEMAAAAgCRhDAAAAIAkYQwAAACAJGEMAAAAgCRhDAAAAIAkYQwAAACAJGEMAAAA\n",
       "gCRhDAAAAIAkYQwAAACAJGEMAAAAgCRhDAAAAIAkYQwAAACAJGEMAAAAgCRhDAAAAIAkYQwAAACA\n",
       "JGEMAAAAgCRhDAAAAIAkYQwAAACAJGEMAAAAgCRhDAAAAIAkYQwAAACAJGEMAAAAgCRhDAAAAIAk\n",
       "YQwAAACAJGEMAAAAgCRhDAAAAIAkYQwAAACAJGEMAAAAgCRhDAAAAIAkYQwAAACAJGEMAAAAgCRh\n",
       "DAAAAIAkYQwAAACAJGEMAAAAgCRhDAAAAIAkYQwAAACAJGEMAAAAgCRhDAAAAIAkYQwAAACAJGEM\n",
       "AAAAgCRhDAAAAIAkYQwAAACAJGEMAAAAgCRhDAAAAIAkYQwAAACAJGEMAAAAgCRhDAAAAIAkYQwA\n",
       "AACAJGEMAAAAgCRhDAAAAIAkYQwAAACAJGEMAAAAgCRhDAAAAIAkYQwAAACAJGEMAAAAgCRhDAAA\n",
       "AIAkYQwAAACAJGEMAAAAgCRhDAAAAIAkYQwAAACAJGEMAAAAgCRhDAAAAIAkYQwAAACAJGEMAAAA\n",
       "gCRhDAAAAIAkYQwAAACAJGEMAAAAgCRhDAAAAIAkYQwAAACAJGEMAAAAgCRhDAAAAIAkYQwAAACA\n",
       "JGEMAAAAgCRhDAAAAIAkYQwAAACAJGEMAAAAgCRhDAAAAIAkYQwAAACAJGEMAAAAgCRhDAAAAIAk\n",
       "YQwAAACAJGEMAAAAgCRhDAAAAIAkYQwAAACAJGEMAAAAgCRhDAAAAIAkYQwAAACAJGEMAAAAgCRh\n",
       "DAAAAIAkYQwAAACAJGEMAAAAgCRhDAAAAIAkYQwAAACAJGEMAAAAgCRhDAAAAIAkYQwAAACAJGEM\n",
       "AAAAgCRhDAAAAIAkYQwAAACAJGEMAAAAgCRhDAAAAIAkYQwAAACAJGEMAAAAgCRhDAAAAIAkYQwA\n",
       "AACAJGEMAAAAgCRhDAAAAIAkYQwAAACAJGEMAAAAgCRhDAAAAIAkYQwAAACAJGEMAAAAgCRhDAAA\n",
       "AIAkYQwAAACAJGEMAAAAgCRhDAAAAIAkYQwAAACAJGEMAAAAgCRhDAAAAIAkYQwAAACAJGEMAAAA\n",
       "gCRhDAAAAIAkYQwAAACAJGEMAAAAgCRhDAAAAIAkYQwAAACAJGEMAAAAgCRhDAAAAIAkYQwAAACA\n",
       "JGEMAAAAgCRhDAAAAIAkYQwAAACAJGEMAAAAgCRhDAAAAIAkYQwAAACAJGEMAAAAgCRhDAAAAIAk\n",
       "YQwAAACAJGEMAAAAgCRhDAAAAIAkYQwAAACAJGEMAAAAgCRhDAAAAIAkYQwAAACApGnZ5nP0CAAA\n",
       "uLp1P0ZPAAA+eIwBAAAAkCSMAQAAAJAkjAEAAACQJIwBAAAAkCSMAQAAAJAkjAEAAACQJIwBAAAA\n",
       "kCSMAQAAAJAkjAEAAACQJIwBAAAAkCSMAQAAAJAkjAEAAACQJIwBAAAAkCSMAQAAAJAkjAEAAACQ\n",
       "JIwBAAAAkCSMAQAAAJAkjAEAAACQJIwBAAAAkCSMAQAAAJAkjAEAAACQJIwBAAAAkCSMAQAAAJAk\n",
       "jAEAAACQJIwBAAAAkCSMAQAAAJAkjAEAAACQJIwBAAAAkCSMAQAAAJAkjAEAAACQJIwBAAAAkCSM\n",
       "AQAAAJAkjAEAAACQJIwBAAAAkCSMAQAAAJAkjAEAAACQJIwBAAAAkCSMAQAAAJAkjAEAAACQJIwB\n",
       "AAAAkCSMAQAAAJAkjAEAAACQJIwBAAAAkCSMAQAAAJAkjAEAAACQJIwBAAAAkCSMAQAAAJAkjAEA\n",
       "AACQJIwBAAAAkCSMAQAAAJAkjAEAAACQJIwBAAAAkCSMAQAAAJAkjAEAAACQJIwBAAAAkCSMAQAA\n",
       "AJAkjAEAAACQJIwBAAAAkCSMAQAAAJAkjAEAAACQJIwBAAAAkCSMAQAAAJAkjAEAAACQJIwBAAAA\n",
       "kCSMAQAAAJAkjAEAAACQJIwBAAAAkCSMAQAAAJAkjAEAAACQJIwBAAAAkCSMAQAAAJAkjAEAAACQ\n",
       "JIwBAAAAkCSMAQAAAJAkjAEAAACQJIwBAAAAkCSMAQAAAJAkjAEAAACQJIwBAAAAkCSMAQAAAJAk\n",
       "jAEAAACQJIwBAAAAkCSMAQAAAJAkjAEAAACQJIwBAAAAkCSMAQAAAJAkjAEAAACQJIwBAAAAkCSM\n",
       "AQAAAJAkjAEAAACQJIwBAAAAkCSMAQAAAJAkjAEAAACQJIwBAAAAkCSMAQAAAJAkjAEAAACQJIwB\n",
       "AAAAkCSMAQAAAJAkjAEAAACQJIwBAAAAkCSMAQAAAJAkjAEAAACQJIwBAAAAkCSMAQAAAJAkjAEA\n",
       "AACQJIwBAAAAkCSMAQAAAJAkjAEAAACQJIwBAAAAkCSMAQAAAJAkjAEAAACQJIwBAAAAkCSMAQAA\n",
       "AJAkjAEAAACQJIwBAAAAkCSMAQAAAJAkjAEAAACQJIwBAAAAkCSMAQAAAJAkjAEAAACQJIwBAAAA\n",
       "kCSMAQAAAJAkjAEAAACQJIwBAAAAkCSMAQAAAJAkjAEAAACQJIwBvNu1gxoAYQAIgqkB/KAOGfWD\n",
       "COyACUJDdkbBvTcHAABAkjAGAAAAQJIwBgAAAECSMAYAAABAkjAGAAAAQJIwBgAAAECSMAYAAABA\n",
       "kjAGAAAAQJIwBgAAAECSMAYAAABAkjAGAAAAQJIwBgAAAECSMAYAAABAkjAGAAAAQJIwBgAAAECS\n",
       "MAYAAABAkjAGAAAAQJIwBgAAAECSMAYAAABAkjAGAAAAQJIwBgAAAECSMAYAAABAkjAGAAAAQJIw\n",
       "BgAAAECSMAYAAABAkjAGAAAAQJIwBgAAAECSMAYAAABAkjAGAAAAQJIwBgAAAECSMAYAAABAkjAG\n",
       "AAAAQJIwBgAAAECSMAYAAABAkjAGAAAAQJIwBgAAAECSMAYAAABAkjAGAAAAQJIwBgAAAECSMAYA\n",
       "AABAkjAGAAAAQJIwBgAAAECSMAYAAABAkjAGAAAAQJIwBgAAAECSMAYAAABAkjAGAAAAQJIwBgAA\n",
       "AECSMAYAAABAkjAGAAAAQJIwBgAAAECSMAYAAABAkjAGAAAAQJIwBgAAAECSMAYAAABAkjAGAAAA\n",
       "QJIwBgAAAECSMAYAAABAkjAGAAAAQJIwBgAAAECSMAYAAABAkjAGAAAAQJIwBgAAAECSMAYAAABA\n",
       "kjAGAAAAQJIwBgAAAECSMAYAAABAkjAGAAAAQJIwBgAAAECSMAYAAABAkjAGAAAAQJIwBgAAAECS\n",
       "MAYAAABAkjAGAAAAQJIwBgAAAECSMAYAAABAkjAGAAAAQJIwBgAAAECSMAYAAABAkjAGAAAAQJIw\n",
       "BgAAAECSMAYAAABAkjAGAAAAQJIwBgAAAECSMAYAAABAkjAGAAAAQJIwBgAAAECSMAYAAABAkjAG\n",
       "AAAAQJIwBgAAAECSMAYAAABAkjAGAAAAQJIwBgAAAECSMAYAAABAkjAGAAAAQJIwBgAAAECSMAYA\n",
       "AABAkjAGAAAAQJIwBgAAAECSMAYAAABAkjAGAAAAQJIwBgAAAECSMAYAAABAkjAGAAAAQJIwBgAA\n",
       "AECSMAYAAABAkjAGAAAAQJIwBgAAAECSMAYAAABAkjAGAAAAQJIwBgAAAECSMAYAAABAkjAGAAAA\n",
       "QJIwBgAAAECSMAYAAABAkjAGAAAAQJIwBgAAAECSMAYAAABAkjAGAAAAQNLY53avHgEAAAB/cZzX\n",
       "6gnASzzGAAAAAEgSxgAAAABIEsYAAAAASBLGAAAAAEgSxgAAAABIEsYAAAAASBLGAAAAAEgSxgAA\n",
       "AABIEsYAAAAASBLGAAAAAEgSxgAAAABIEsYAAAAASBLGAAAAAEgSxgAAAABIEsYAAAAASBLGAAAA\n",
       "AEgSxgAAAABIEsYAAAAASBLGAAAAAEgSxgAAAABIEsYAAAAASBLGAAAAAEgSxgAAAABIEsYAAAAA\n",
       "SBLGAAAAAEgSxgAAAABIEsYAAAAASBLGAAAAAEgSxgAAAABIEsYAAAAASBLGAAAAAEgSxgAAAABI\n",
       "EsYAAAAASBLGAAAAAEgSxgAAAABIEsYAAAAASBLGAAAAAEgSxgAAAABIEsYAAAAASBLGAAAAAEgS\n",
       "xgAAAABIEsYAAAAASBLGAAAAAEgSxgAAAABIEsYAAAAASBLGAAAAAEgSxgAAAABIEsYAAAAASBLG\n",
       "AAAAAEgSxgAAAABIEsYAAAAASBLGAAAAAEgSxgAAAABIEsYAAAAASBLGAAAAAEgSxgAAAABIEsYA\n",
       "AAAASBLGAAAAAEgSxgAAAABIEsYAAAAASBLGAAAAAEgSxgAAAABIEsYAAAAASBLGAAAAAEgSxgAA\n",
       "AABIEsYAAAAASBLGAAAAAEgSxgAAAABIEsYAAAAASBLGAAAAAEgSxgAAAABIEsYAAAAASBLGAAAA\n",
       "AEgSxgAAAABIEsYAAAAASBLGAAAAAEgSxgAAAABIEsYAAAAASBLGAAAAAEgSxgAAAABIEsYAAAAA\n",
       "SBLGAAAAAEgSxgAAAABIEsYAAAAASBLGAAAAAEgSxgAAAABIEsYAAAAASBLGAAAAAEgSxgAAAABI\n",
       "EsYAAAAASBLGAAAAAEgSxgAAAABIEsYAAAAASBLGAAAAAEgSxgAAAABIEsYAAAAASBLGAAAAAEgS\n",
       "xgAAAABIEsYAAAAASBLGAAAAAEgSxgAAAABIEsYAAAAASBLGAAAAAEgSxgAAAABIEsYAAAAASBLG\n",
       "AAAAAEgSxgAAAABIEsYAAAAASBLGAAAAAEgSxgAAAABIEsYAAAAASBLGAAAAAEgSxgAAAABIEsYA\n",
       "AAAASBLGAAAAAEgSxgAAAABIEsYAAAAASBLGAAAAAEgSxgAAAABIEsYAAAAASBLGAAAAAEgSxgAA\n",
       "AABIEsYAAAAASBLGAAAAAEgSxgAAAABIEsYAAAAASBLGAAAAAEgSxgAAAABIEsYAAAAASBLGAAAA\n",
       "AEgSxgAAAABIEsYAAAAASBLGAAAAAEgSxgAAAABIEsYAAAAASBLGAAAAAEgSxgAAAABIEsYAAAAA\n",
       "SBLGAAAAAEgSxgAAAABIEsYAAAAASBLGAAAAAEgSxgAAAABIEsYAAAAASBLGAAAAAEgSxgAAAABI\n",
       "EsYAAAAASBLGAAAAAEgSxgAAAABIEsYAAAAASBLGAAAAAEgSxgAAAABIEsYAAAAASBLGAAAAAEgS\n",
       "xgAAAABIEsYAAAAASBLGAAAAAEgSxgAAAABIEsYAAAAASBLGAAAAAEgSxgAAAABIEsYAAAAASBLG\n",
       "AAAAAEgSxgAAAABIEsYAAAAASBLGAAAAAEgSxgAAAABIEsYAAAAASBLGAAAAAEgSxgAAAABIEsYA\n",
       "AAAASBLGAAAAAEgSxgAAAABIEsYAAAAASOYE31UAAA9FSURBVBLGAAAAAEgSxgAAAABIEsYAAAAA\n",
       "SBLGAAAAAEgSxgAAAABIEsYAAAAASBLGAAAAAEgSxgAAAABIEsYAAAAASBLGAAAAAEgSxgAAAABI\n",
       "EsYAAAAASBLGAAAAAEgSxgAAAABIEsYAAAAASBLGAAAAAEgSxgAAAABIEsYAAAAASBLGAAAAAEgS\n",
       "xgAAAABIEsYAAAAASBLGAAAAAEgSxgAAAABIEsYAAAAASBLGAAAAAEgSxgAAAABIEsYAAAAASBLG\n",
       "AAAAAEgSxgAAAABIEsYAAAAASBLGAAAAAEgSxgAAAABIEsYAAAAASBLGAAAAAEgSxgAAAABIEsYA\n",
       "AAAASBLGAAAAAEgSxgAAAABIEsYAAAAASBLGAAAAAEgSxgAAAABIEsYAAAAASBLGAAAAAEgSxgAA\n",
       "AABIEsYAAAAASBLGAAAAAEgSxgAAAABIEsYAAAAASBLGAAAAAEgSxgAAAABIEsYAAAAASBLGAAAA\n",
       "AEgSxgAAAABIEsYAAAAASBLGAAAAAEgSxgAAAABIEsYAAAAASBLGAAAAAEgSxgAAAABIEsYAAAAA\n",
       "SBLGAAAAAEgSxgAAAABIEsYAAAAASBLGAAAAAEgSxgAAAABIEsYAAAAASBLGAAAAAEgSxgAAAABI\n",
       "Gvvc7tUjAAAAAOBrHmMAAAAAJAljAAAAACQJYwAAAAAkCWMAAAAAJAljAAAAACQJYwAAAAAkCWMA\n",
       "AAAAJAljAAAAACQJYwAAAAAkCWMAAAAAJAljAAAAACQJYwAAAAAkCWMAAAAAJAljAAAAACQJYwAA\n",
       "AAAkCWMAAAAAJAljAAAAACQJYwAAAAAkCWMAAAAAJAljAAAAACQJYwAAAAAkCWMAAAAAJAljAAAA\n",
       "ACQJYwAAAAAkCWMAAAAAJAljAAAAACQJYwAAAAAkCWMAAAAAJAljAAAAACQJYwAAAAAkCWMAAAAA\n",
       "JAljAAAAACQJYwAAAAAkCWMAAAAAJAljAAAAACQJYwAAAAAkCWMAAAAAJAljAAAAACQJYwAAAAAk\n",
       "CWMAAAAAJAljAAAAACQJYwAAAAAkCWMAAAAAJAljAAAAACQJYwAAAAAkCWMAAAAAJAljAAAAACQJ\n",
       "YwAAAAAkCWMAAAAAJAljAAAAACQJYwAAAAAkCWMAAAAAJAljAAAAACQJYwAAAAAkCWMAAAAAJAlj\n",
       "AAAAACQJYwAAAAAkCWMAAAAAJAljAAAAACQJYwAAAAAkCWMAAAAAJAljAAAAACQJYwAAAAAkCWMA\n",
       "AAAAJAljAAAAACQJYwAAAAAkCWMAAAAAJAljAAAAACQJYwAAAAAkCWMAAAAAJAljAAAAACQJYwAA\n",
       "AAAkCWMAAAAAJAljAAAAACQJYwAAAAAkCWMAAAAAJAljAAAAACQJYwAAAAAkCWMAAAAAJAljAAAA\n",
       "ACQJYwAAAAAkCWMAAAAAJAljAAAAACQJYwAAAAAkCWMAAAAAJAljAAAAACQJYwAAAAAkCWMAAAAA\n",
       "JAljAAAAACQJYwAAAAAkCWMAAAAAJAljAAAAACQJYwAAAAAkCWMAAAAAJAljAAAAACQJYwAAAAAk\n",
       "CWMAAAAAJAljAAAAACQJYwAAAAAkCWMAAAAAJAljAAAAACQJYwAAAAAkCWMAAAAAJAljAAAAACQJ\n",
       "YwAAAAAkCWMAAAAAJAljAAAAACQJYwAAAAAkCWMAAAAAJAljAAAAACQJYwAAAAAkCWMAAAAAJAlj\n",
       "AAAAACQJYwAAAAAkCWMAAAAAJAljAAAAACQJYwAAAAAkCWMAAAAAJAljAAAAACQJYwAAAAAkCWMA\n",
       "AAAAJAljAAAAACQJYwAAAAAkCWMAAAAAJAljAAAAACQJYwAAAAAkCWMAAAAAJAljAAAAACQJYwAA\n",
       "AAAkCWMAAAAAJAljAAAAACQJYwAAAAAkCWMAAAAAJAljAAAAACQJYwAAAAAkCWMAAAAAJAljAAAA\n",
       "ACQJYwAAAAAkCWMAAAAAJAljAAAAACQJYwAAAAAkCWMAAAAAJAljAAAAACQJYwAAAAAkCWMAAAAA\n",
       "JAljAAAAACQJYwAAAAAkCWMAAAAAJAljAAAAACQJYwAAAAAkCWMAAAAAJAljAAAAACQJYwAAAAAk\n",
       "CWMAAAAAJAljAAAAACQJYwAAAAAkCWMAAAAAJAljAAAAACQJYwAAAAAkCWMAAAAAJAljAAAAACQJ\n",
       "YwAAAAAkCWMAAAAAJAljAAAAACQJYwAAAAAkCWMAAAAAJAljAAAAACQJYwAAAAAkCWMAAAAAJAlj\n",
       "AAAAACQJYwAAAAAkCWMAAAAAJAljAAAAACQJYwAAAAAkCWMAAAAAJAljAAAAACQJYwAAAAAkCWMA\n",
       "AAAAJAljAAAAACQJYwAAAAAkCWMAAAAAJAljAAAAACQJYwAAAAAkCWMAAAAAJAljAAAAACQJYwAA\n",
       "AAAkCWMAAAAAJAljAAAAACQJYwAAAAAkCWMAAAAAJAljAAAAACQJYwAAAAAkCWMAAAAAJAljAAAA\n",
       "ACQJYwAAAAAkCWMAAAAAJAljAAAAACQJYwAAAAAkCWMAAAAAJAljAAAAACQJYwAAAAAkCWMAAAAA\n",
       "JAljAAAAACQJYwAAAAAkCWMAAAAAJAljAAAAACQJYwAAAAAkCWMAAAAAJAljAAAAACQJYwAAAAAk\n",
       "CWMAAAAAJAljAAAAACQJYwAAAAAkCWMAAAAAJAljAAAAACQJYwAAAAAkCWMAAAAAJAljAAAAACQJ\n",
       "YwAAAAAkCWMAAAAAJAljAAAAACQJYwAAAAAkCWMAAAAAJAljAAAAACQJYwAAAAAkCWMAAAAAJAlj\n",
       "AAAAACQJYwAAAAAkCWMAAAAAJAljAAAAACQJYwAAAAAkCWMAAAAAJAljAAAAACQJYwAAAAAkCWMA\n",
       "AAAAJAljAAAAACQJYwAAAAAkCWMAAAAAJAljAAAAACQJYwAAAAAkCWMAAAAAJAljAAAAACQJYwAA\n",
       "AAAkCWMAAAAAJAljAAAAACQJYwAAAAAkCWMAAAAAJAljAAAAACQJYwAAAAAkCWMAAAAAJAljAAAA\n",
       "ACQJYwAAAAAkCWMAAAAAJAljAAAAACQJYwAAAAAkCWMAAAAAJAljAAAAACQJYwAAAAAkCWMAAAAA\n",
       "JAljAAAAACQJYwAAAAAkCWMAAAAAJAljAAAAACQJYwAAAAAkCWMAAAAAJAljAAAAACQJYwAAAAAk\n",
       "CWMAAAAAJAljAAAAACQJYwAAAAAkCWMAAAAAJAljAAAAACQJYwAAAAAkCWMAAAAAJAljAAAAACQJ\n",
       "YwAAAAAkCWMAAAAAJAljAAAAACQJYwAAAAAkCWMAAAAAJAljAAAAACQJYwAAAAAkCWMAAAAAJAlj\n",
       "AAAAACQJYwAAAAAkCWMAAAAAJAljAAAAACQJYwAAAAAkCWMAAAAAJAljAAAAACQJYwAAAAAkCWMA\n",
       "AAAAJAljAAAAACQJYwAAAAAkCWMAAAAAJAljAAAAACQJYwAAAAAkCWMAAAAAJAljAAAAACQJYwAA\n",
       "AAAkCWMAAAAAJAljAAAAACQJYwAAAAAkCWMAAAAAJAljAAAAACQJYwAAAAAkCWMAAAAAJAljAAAA\n",
       "ACQJYwAAAAAkCWMAAAAAJAljAAAAACQJYwAAAAAkCWMAAAAAJAljAAAAACQJYwAAAAAkCWMAAAAA\n",
       "JAljAAAAACQJYwAAAAAkCWMAAAAAJAljAAAAACQJYwAAAAAkCWMAAAAAJAljAAAAACQJYwAAAAAk\n",
       "CWMAAAAAJAljAAAAACQJYwAAAAAkCWMAAAAAJAljAAAAACQJYwAAAAAkCWMAAAAAJAljAAAAACQJ\n",
       "YwAAAAAkCWMAAAAAJAljAAAAACQJYwAAAAAkCWMAAAAAJAljAAAAACQJYwAAAAAkCWMAAAAAJAlj\n",
       "AAAAACQJYwAAAAAkCWMAAAAAJAljAAAAACQJYwAAAAAkCWMAAAAAJAljAAAAACQJYwAAAAAkCWMA\n",
       "AAAAJAljAAAAACQJYwAAAAAkCWMAAAAAJAljAAAAACQJYwAAAAAkCWMAAAAAJAljAAAAACQJYwAA\n",
       "AAAkCWMAAAAAJAljAAAAACQJYwAAAAAkCWMAAAAAJAljAAAAACQJYwAAAAAkCWMAAAAAJAljAAAA\n",
       "ACQJYwAAAAAkCWMAAAAAJAljAAAAACQJYwAAAAAkCWMAAAAAJAljAAAAACQJYwAAAAAkCWMAAAAA\n",
       "JAljAAAAACQJYwAAAAAkCWMAAAAAJAljAAAAACQJYwAAAAAkCWMAAAAAJAljAAAAACQJYwAAAAAk\n",
       "CWMAAAAAJAljAAAAACQJYwAAAAAkCWMAAAAAJAljAAAAACQJYwAAAAAkCWMAAAAAJAljAAAAACQJ\n",
       "YwAAAAAkCWMAAAAAJAljAAAAACQJYwAAAAAkCWMAAAAAJAljAAAAACQJYwAAAAAkCWMAAAAAJAlj\n",
       "AAAAACQJYwAAAAAkCWMAAAAAJAljAAAAACQJYwAAAAAkCWMAAAAAJAljAAAAACQJYwAAAAAkCWMA\n",
       "AAAAJAljAAAAACQJYwAAAAAkCWMAAAAAJAljAAAAACQJYwAAAAAkCWMAAAAAJAljAAAAACQJYwAA\n",
       "AAAkCWMAAAAAJAljAAAAACQJYwAAAAAkCWMAAAAAJAljAAAAACQJYwAAAAAkCWMAAAAAJAljAAAA\n",
       "ACQJYwAAAAAkCWMAAAAAJAljAAAAACQJYwAAAAAkCWMAAAAAJAljAAAAACQJYwAAAAAkCWMAAAAA\n",
       "JAljAAAAACQJYwAAAAAkCWMAAAAAJAljAAAAACQJYwAAAAAkCWMAAAAAJAljAAAAACQJYwAAAAAk\n",
       "CWMAAAAAJAljAAAAACQJYwAAAAAkCWMAAAAAJAljAAAAACQJYwAAAAAkCWMAAAAAJAljAAAAACQJ\n",
       "YwAAAAAkCWMAAAAAJAljAAAAACQJYwAAAAAkCWMAAAAAJAljAAAAACQJYwAAAAAkCWMAAAAAJAlj\n",
       "AAAAACQJYwAAAAAkCWMAAAAAJAljAAAAACQJYwAAAAAkCWMAAAAAJAljAAAAACQJYwAAAAAkCWMA\n",
       "AAAAJAljAAAAACQJYwAAAAAkCWMAAAAAJAljAAAAACQJYwAAAAAkCWMAAAAAJAljAAAAACQJYwAA\n",
       "AAAkCWMAAAAAJAljAAAAACQJYwAAAAAkCWMAAAAAJAljAAAAACQJYwAAAAAkCWMAAAAAJAljAAAA\n",
       "ACQJYwAAAAAkCWMAAAAAJAljAAAAACQJYwAAAAAkCWMAAAAAJAljAAAAACQJYwAAAAAkCWMAAAAA\n",
       "JAljAAAAACQ9kRoh+sKiHA4AAAAASUVORK5CYII=\n",
       "\" transform=\"translate(419, 154)\"/>\n",
       "</g>\n",
       "</svg>\n"
      ]
     },
     "execution_count": 35,
     "metadata": {},
     "output_type": "execute_result"
    }
   ],
   "source": [
    "m = 7; n = 5;\n",
    "A = ones(m,n)\n",
    "for i = 1:n\n",
    "    A[i+1:end,i] .= -1.0\n",
    "end\n",
    "p = imshow(A)\n",
    "plot!(p, colorbar=false, title = \"LAPACK *GEQRF R (upper) and reflectors (lower)\")"
   ]
  },
  {
   "cell_type": "markdown",
   "id": "7c8b6cb5",
   "metadata": {
    "slideshow": {
     "slide_type": "subslide"
    }
   },
   "source": [
    "### Notes on HW2, problem 5\n",
    "\n",
    "The point is to see that for some triangular matrices the singular values are very different from the diagonal values, using the example of a particular _Toeplitz_ (constant diagonals) matrix.\n",
    "\n",
    "- Part (a): straightforward given previous work on triangular matrices in lectures and homework 1.\n",
    "- Part (b): guess that $A^{-1}$ is _also_ Toeplitz; determine what each diagonal must be; check that it is the inverse.\n",
    "- Part (c): How does $\\|A^{-1}\\|_2$ relate to the smallest singular value of $A$? Consider $\\|A^{-1} e_k\\|_2$ for different choices of $k$."
   ]
  }
 ],
 "metadata": {
  "@webio": {
   "lastCommId": null,
   "lastKernelId": null
  },
  "celltoolbar": "Slideshow",
  "hide_input": false,
  "kernelspec": {
   "display_name": "Julia 1.7.0",
   "language": "julia",
   "name": "julia-1.7"
  },
  "language_info": {
   "file_extension": ".jl",
   "mimetype": "application/julia",
   "name": "julia",
   "version": "1.7.0"
  }
 },
 "nbformat": 4,
 "nbformat_minor": 5
}
