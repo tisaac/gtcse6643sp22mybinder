{
 "cells": [
  {
   "cell_type": "code",
   "execution_count": 1,
   "id": "22c3320f",
   "metadata": {},
   "outputs": [
    {
     "name": "stderr",
     "output_type": "stream",
     "text": [
      "\u001b[32m\u001b[1m    Updating\u001b[22m\u001b[39m registry at `~/.julia/registries/General.toml`\n",
      "\u001b[32m\u001b[1m   Resolving\u001b[22m\u001b[39m package versions...\n",
      "\u001b[32m\u001b[1m  No Changes\u001b[22m\u001b[39m to `~/srv/rep/22-course-cse6643/mybinder/Project.toml`\n",
      "\u001b[32m\u001b[1m  No Changes\u001b[22m\u001b[39m to `~/srv/rep/22-course-cse6643/mybinder/Manifest.toml`\n"
     ]
    },
    {
     "data": {
      "text/plain": [
       "LogLevel(1)"
      ]
     },
     "execution_count": 1,
     "metadata": {},
     "output_type": "execute_result"
    }
   ],
   "source": [
    "import Pkg; Pkg.add(\"Plots\");\n",
    "import Logging; Logging.disable_logging(Logging.Info)"
   ]
  },
  {
   "cell_type": "code",
   "execution_count": 2,
   "id": "8f0eae62",
   "metadata": {},
   "outputs": [],
   "source": [
    "const STATIC_LECTURE = true;"
   ]
  },
  {
   "cell_type": "code",
   "execution_count": 3,
   "id": "ed67d067",
   "metadata": {},
   "outputs": [
    {
     "data": {
      "text/plain": [
       "draw (generic function with 1 method)"
      ]
     },
     "execution_count": 3,
     "metadata": {},
     "output_type": "execute_result"
    }
   ],
   "source": [
    "function draw(plt)\n",
    "    if STATIC_LECTURE\n",
    "        filename = Base.Filesystem.tempname() * \".png\"\n",
    "        savefig(filename)\n",
    "        return display(\"image/png\", read(filename))\n",
    "    else\n",
    "        return plt\n",
    "    end\n",
    "end"
   ]
  },
  {
   "cell_type": "code",
   "execution_count": 4,
   "id": "3ac47923",
   "metadata": {},
   "outputs": [
    {
     "data": {
      "text/plain": [
       "imshow (generic function with 2 methods)"
      ]
     },
     "execution_count": 4,
     "metadata": {},
     "output_type": "execute_result"
    }
   ],
   "source": [
    "using LinearAlgebra;\n",
    "using Plots; default(l=2, size=(900,550), label=false);\n",
    "\n",
    "imshow(x, _clim=:nothing) = heatmap(x\n",
    "    , aspect_ratio=:equal\n",
    "    , framestyle=:none\n",
    "    , yflip=true\n",
    "    , c=:diverging_gwv_55_95_c39_n256\n",
    "    , clim=if _clim != :nothing\n",
    "          _clim\n",
    "      elseif maximum(abs.(x)) > 1.e-12\n",
    "          (-maximum(abs.(x)),maximum(abs.(x)))\n",
    "      else \n",
    "          (-1,1)\n",
    "      end\n",
    "    , size=(500,500)\n",
    ")"
   ]
  },
  {
   "cell_type": "markdown",
   "id": "384d2ca1",
   "metadata": {
    "slideshow": {
     "slide_type": "slide"
    }
   },
   "source": [
    "### Warmup (T&B Exercise 7.3)\n",
    "\n",
    "Let $A$ be an $m \\times m$ matrix, and let $a_j$ be its $j$th column.  Give an algebraic proof of _Hadamard's inequality_:\n",
    "\n",
    "$$|\\det A| \\leq \\prod_{j=1}^m \\| a_j \\|_2.$$\n",
    "\n",
    "Also give a geometric interpretation of this result, making use of the fact that the determinant equals the volume of a parallelipiped.\n",
    "\n",
    "Hints:\n",
    "\n",
    "- $|\\det A| = |\\det (QR)| = |\\det(Q)| |\\det(R)|$\n",
    "- How does $|r_{jj}|$ compare to $\\|a_j\\|_2$?"
   ]
  },
  {
   "cell_type": "markdown",
   "id": "de60574f",
   "metadata": {
    "slideshow": {
     "slide_type": "slide"
    }
   },
   "source": [
    "## Review"
   ]
  },
  {
   "cell_type": "markdown",
   "id": "3dd88613",
   "metadata": {
    "slideshow": {
     "slide_type": "subslide"
    }
   },
   "source": [
    "### Classical Gram-Schmidt vs. Modified Gram-Schmidt"
   ]
  },
  {
   "cell_type": "code",
   "execution_count": 5,
   "id": "eb1d293b",
   "metadata": {
    "cell_style": "split"
   },
   "outputs": [],
   "source": [
    "function cgs(A)\n",
    "    _, n = size(A); Q = copy(A);\n",
    "    R = zeros(eltype(A), n, n)\n",
    "    for j in 1:n\n",
    "        R[1:j-1,j] = Q[:,1:j-1]' * Q[:,j]\n",
    "        Q[:,j] -= Q[:,1:j-1] * R[1:j-1,j]\n",
    "        R[j,j] = norm(Q[:,j])\n",
    "        Q[:,j] /= R[j,j]\n",
    "    end\n",
    "    return Q, R\n",
    "end;"
   ]
  },
  {
   "cell_type": "code",
   "execution_count": 6,
   "id": "a618b080",
   "metadata": {
    "cell_style": "split"
   },
   "outputs": [],
   "source": [
    "function mgs(A)\n",
    "    _, n = size(A); Q = copy(A);\n",
    "    R = zeros(eltype(A), n, n)\n",
    "    for i in 1:n\n",
    "        R[i,i] = norm(Q[:,i])\n",
    "        Q[:,i] /= R[i,i]\n",
    "        R[i,i+1:n] = Q[:,i]' * Q[:,i+1:n]\n",
    "        Q[:,i+1:n] -= Q[:,[i]] * R[[i],i+1:n]\n",
    "    end\n",
    "    return Q, R\n",
    "end;"
   ]
  },
  {
   "cell_type": "code",
   "execution_count": 7,
   "id": "78c5a0cc",
   "metadata": {
    "cell_style": "split",
    "hideCode": true
   },
   "outputs": [
    {
     "data": {
      "text/html": [
       "<img src=\"data:image/gif;base64,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\" />"
      ],
      "text/plain": [
       "Plots.AnimatedGif(\"/home/tisaac/srv/rep/22-course-cse6643/mybinder/tmp.gif\")"
      ]
     },
     "execution_count": 7,
     "metadata": {},
     "output_type": "execute_result"
    }
   ],
   "source": [
    "m = 7; n = 5;\n",
    "Q = ones(m,n);\n",
    "err = ones(n,n);\n",
    "anim = Animation()\n",
    "function q_frame!(Q, E, anim)\n",
    "    qplot = imshow(Q)\n",
    "    plot!(qplot, colorbar=:legend, legend=false, title=\"Q\")\n",
    "    eplot = imshow(E)\n",
    "    plot!(eplot, colorbar=:legend, legend=false, title=\"||I-Q'Q||\")\n",
    "    p = plot(qplot, eplot, layout=(1,2))\n",
    "    frame(anim, p)\n",
    "end\n",
    "q_frame!(Q, err, anim)\n",
    "for j in 1:n\n",
    "    Q[:,j] .= -1.0+0.01\n",
    "    err[1:j,1:j] .= 0\n",
    "    q_frame!(Q, err, anim)\n",
    "end\n",
    "q_frame!(Q, err, anim)\n",
    "gif(anim, fps=0.5)"
   ]
  },
  {
   "cell_type": "code",
   "execution_count": 8,
   "id": "f724f666",
   "metadata": {
    "cell_style": "split",
    "hideCode": true
   },
   "outputs": [
    {
     "data": {
      "text/html": [
       "<img src=\"data:image/gif;base64,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\" />"
      ],
      "text/plain": [
       "Plots.AnimatedGif(\"/home/tisaac/srv/rep/22-course-cse6643/mybinder/tmp.gif\")"
      ]
     },
     "execution_count": 8,
     "metadata": {},
     "output_type": "execute_result"
    }
   ],
   "source": [
    "Q = ones(m,n);\n",
    "err = ones(n,n);\n",
    "anim = Animation()\n",
    "q_frame!(Q, err, anim)\n",
    "for j in 1:n\n",
    "    Q[:,j] .= -1+0.02\n",
    "    Q[:,j+1:n] .= 1.0\n",
    "    Q[(mod(j,2)+1):2:end,j+1:n] .-= 0.1 \n",
    "    err[j,:] .= 0\n",
    "    err[:,j] .= 0\n",
    "    q_frame!(Q, err, anim)\n",
    "end\n",
    "q_frame!(Q, err, anim)\n",
    "gif(anim, fps=0.5)"
   ]
  },
  {
   "cell_type": "markdown",
   "id": "02fbfebc",
   "metadata": {
    "hideCode": false,
    "slideshow": {
     "slide_type": "subslide"
    }
   },
   "source": [
    "### Both algorithms construct $\\hat{Q}$ by a sequence of triangular factorizations $Z_i$"
   ]
  },
  {
   "cell_type": "code",
   "execution_count": 9,
   "id": "726eef61",
   "metadata": {
    "cell_style": "split",
    "hideCode": true
   },
   "outputs": [
    {
     "data": {
      "text/plain": [
       "\"Classical Gram-Schmidt\""
      ]
     },
     "metadata": {},
     "output_type": "display_data"
    },
    {
     "data": {
      "text/html": [
       "<img src=\"data:image/gif;base64,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\" />"
      ],
      "text/plain": [
       "Plots.AnimatedGif(\"/home/tisaac/srv/rep/22-course-cse6643/mybinder/tmp.gif\")"
      ]
     },
     "execution_count": 9,
     "metadata": {},
     "output_type": "execute_result"
    }
   ],
   "source": [
    "m = 7; n = 5;\n",
    "Q = ones(m,n);\n",
    "U = -0.5*Matrix(1.0*I,n,n);\n",
    "anim = Animation();\n",
    "function u_frame!(Q, U, anim)\n",
    "    qplot = imshow(Q)\n",
    "    plot!(qplot, colorbar=:legend, legend=false, title=\"Q\")\n",
    "    eplot = imshow(U, (-1,1))\n",
    "    plot!(eplot, colorbar=:legend, legend=false, title=\"Zᵢ\")\n",
    "    p = plot(qplot, eplot, layout=(1,2))\n",
    "    frame(anim, p)\n",
    "end\n",
    "u_frame!(Q, U, anim)\n",
    "for j in 1:n\n",
    "    Q[:,j] .= -1.0+0.01\n",
    "    U[:,:] = -0.5*Matrix(1.0*I,n,n)\n",
    "    U[j,j] = 1.0\n",
    "    U[1:j-1,j] .= -1.0\n",
    "    u_frame!(Q, U, anim)\n",
    "end\n",
    "u_frame!(Q, U, anim)\n",
    "display(\"Classical Gram-Schmidt\")\n",
    "gif(anim, fps=0.5)"
   ]
  },
  {
   "cell_type": "code",
   "execution_count": 10,
   "id": "75acdb08",
   "metadata": {
    "cell_style": "split",
    "hideCode": true
   },
   "outputs": [
    {
     "data": {
      "text/plain": [
       "\"Modified Gram-Schmidt\""
      ]
     },
     "metadata": {},
     "output_type": "display_data"
    },
    {
     "data": {
      "text/html": [
       "<img src=\"data:image/gif;base64,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\" />"
      ],
      "text/plain": [
       "Plots.AnimatedGif(\"/home/tisaac/srv/rep/22-course-cse6643/mybinder/tmp.gif\")"
      ]
     },
     "execution_count": 10,
     "metadata": {},
     "output_type": "execute_result"
    }
   ],
   "source": [
    "m = 7; n = 5;\n",
    "Q = ones(m,n);\n",
    "U = -0.5*Matrix(1.0*I,n,n);\n",
    "anim = Animation();\n",
    "u_frame!(Q, U, anim)\n",
    "for j in 1:n\n",
    "    Q[:,j:end] .= 1.0\n",
    "    Q[:,j] .= -1.0+0.01\n",
    "    Q[(mod(j,2)+1):2:end,j+1:end] .-= 0.1\n",
    "    U[:,:] = -0.5*Matrix(1.0*I,n,n)\n",
    "    U[j,j] = 1.0\n",
    "    U[j,j+1:n] .= -1.0\n",
    "    u_frame!(Q, U, anim)\n",
    "end\n",
    "u_frame!(Q, U, anim)\n",
    "display(\"Modified Gram-Schmidt\")\n",
    "gif(anim, fps=0.5)"
   ]
  },
  {
   "cell_type": "markdown",
   "id": "7377c41a",
   "metadata": {
    "slideshow": {
     "slide_type": "subslide"
    }
   },
   "source": [
    "### CGS is unstable; MGS is better but not as good as `qr`"
   ]
  },
  {
   "cell_type": "code",
   "execution_count": 11,
   "id": "8fda5818",
   "metadata": {
    "hideCode": true,
    "slideshow": {
     "slide_type": "-"
    }
   },
   "outputs": [
    {
     "data": {
      "image/png": "[encoded data removed]"
     },
     "metadata": {},
     "output_type": "display_data"
    }
   ],
   "source": [
    "function kahan(m, θ)\n",
    "    s = sin(θ)\n",
    "    c = cos(θ)\n",
    "    S = Diagonal(s .^ collect(0:m-1))\n",
    "    K = UnitUpperTriangular(-c * ones(m,m))\n",
    "    return S * K\n",
    "end\n",
    "orthonormality_error(Q) = norm(I - Q[:,:]' * Q[:,:], 2)\n",
    "reconstruction_error(A, Q, R) = norm(A - Q * R, 2)\n",
    "ortho_errs_cgs = Float64[]\n",
    "recon_errs_cgs = Float64[]\n",
    "ortho_errs_mgs = Float64[]\n",
    "recon_errs_mgs = Float64[]\n",
    "rang = π ./ (2:.1:20)\n",
    "for θ in rang\n",
    "    M = kahan(10, θ)\n",
    "    ϕ = eps(Float64)\n",
    "    M_p = copy(M[:,:])\n",
    "    rot = [cos(ϕ) sin(ϕ); -sin(ϕ) cos(ϕ)]\n",
    "    M_p[1:2,:] = rot * M[1:2,:]\n",
    "    Q_cgs, R_cgs = cgs(M_p)\n",
    "    Q_mgs, R_mgs = mgs(M_p)\n",
    "    push!(ortho_errs_cgs, orthonormality_error(Q_cgs))\n",
    "    push!(recon_errs_cgs, reconstruction_error(M_p, Q_cgs, R_cgs))\n",
    "    push!(ortho_errs_mgs, orthonormality_error(Q_mgs))\n",
    "    push!(recon_errs_mgs, reconstruction_error(M_p, Q_mgs, R_mgs))\n",
    "end\n",
    "ymin=Inf\n",
    "ymax=0.\n",
    "for series in [ortho_errs_cgs, ortho_errs_mgs, recon_errs_cgs, recon_errs_mgs]\n",
    "    series[:] = max.(series[:], 0.001*eps())\n",
    "    ymin = min(ymin, minimum(series))\n",
    "    ymax = max(ymax, maximum(series))\n",
    "end\n",
    "ymin *= 0.5\n",
    "ymax *= 2.0\n",
    "p1 = plot( rang .^-1, [ortho_errs_cgs recon_errs_cgs]\n",
    "    , yscale=:log10\n",
    "    , label=[\"orthonormality error\" \"reconstruction error\"]\n",
    "    , xlabel=\"Kahan matrix θ⁻¹\"\n",
    "    , title=\"Classical Gram-Schmidt\"\n",
    "    , size=(1300,800)\n",
    "    , ylim=(ymin,ymax)\n",
    ")\n",
    "p2 = plot( rang .^-1, [ortho_errs_mgs recon_errs_mgs]\n",
    "    , yscale=:log10\n",
    "    , label=[\"orthonormality error\" \"reconstruction error\"]\n",
    "    , xlabel=\"Kahan matrix θ⁻¹\"\n",
    "    , title=\"Modified Gram-Schmidt\"\n",
    "    , size=(1300,800)\n",
    "    , ylim=(ymin,ymax)\n",
    ")\n",
    "draw(plot(p1,p2,layout=(1,2)))"
   ]
  },
  {
   "cell_type": "markdown",
   "id": "2d902aa5",
   "metadata": {
    "slideshow": {
     "slide_type": "subslide"
    }
   },
   "source": [
    "### Rounding errors affect the orthogonality error\n",
    "\n",
    "If we start with $\\hat{R}^{(0)} = I$ and $\\hat{Q}^{(0)} = A$, step $i$ is like\n",
    "\n",
    "$$\n",
    "A = \\hat{Q}^{(i-1)} \\hat{R}^{(i-1)} = \\hat{Q}^{(i-1)} Z_{i} Z_{i}^{-1} \\hat{R}^{(i-1)} = \\underbrace{(\\hat{Q}^{(i-1)} Z_{i})}_{\\hat{Q}^{(i)}} \\underbrace{(Z_i^{-1} \\hat{R}^{(i-1)})}_{\\hat{R}^{(i)}}.$$"
   ]
  },
  {
   "cell_type": "markdown",
   "id": "bbd6b7e0",
   "metadata": {
    "cell_style": "split",
    "slideshow": {
     "slide_type": "-"
    }
   },
   "source": [
    "- We saw last time that rounding errors have the biggest effect when\n",
    "\n",
    "$$|r_{ii}| \\ll \\max_j |r_{ji}|$$\n",
    "\n",
    "- When this happens\n",
    "\n",
    "$$\\underbrace{\\|Z_i\\|_2 \\|Z_i^{-1}\\|_2}_{\\text{(condition number of } Z_i\\text{)}} \\gg 1$$"
   ]
  },
  {
   "cell_type": "markdown",
   "id": "a6144796",
   "metadata": {
    "cell_style": "split",
    "slideshow": {
     "slide_type": "-"
    }
   },
   "source": [
    "- **Matrices with large condition numbers blow-up rounding errors**"
   ]
  },
  {
   "cell_type": "markdown",
   "id": "5e2f018c",
   "metadata": {
    "slideshow": {
     "slide_type": "subslide"
    }
   },
   "source": [
    "**Exercise:**  What type of matrix $Y$ has\n",
    "\n",
    "$$\\|Y\\|_2 \\|Y^{-1}\\|_2 = 1?$$"
   ]
  },
  {
   "cell_type": "markdown",
   "id": "81b406db",
   "metadata": {
    "slideshow": {
     "slide_type": "subslide"
    }
   },
   "source": [
    "### Householder QR: produce a _full QR factorization_ by  _unitary transformations_ to $R$"
   ]
  },
  {
   "cell_type": "markdown",
   "id": "5c5a2461",
   "metadata": {
    "cell_style": "center"
   },
   "source": [
    "- Start with $Q^{(0)} = I$ and $R^{(0)} = A$\n",
    "\n",
    "- At step $i$: $\\quad \\quad A = Q^{(i-1)} R^{(i-1)} = Q^{(i-1)} U_i^{-1} U_i R^{(i-1)} = \\underbrace{(Q^{(i-1)} U_{i-1}^*)}_{Q^{(i)}} \\underbrace{(U_{i-1} R^{(i-1)})}_{R^{(i)}}$"
   ]
  },
  {
   "cell_type": "code",
   "execution_count": 12,
   "id": "d44deead",
   "metadata": {
    "cell_style": "split",
    "hideCode": true
   },
   "outputs": [
    {
     "data": {
      "text/html": [
       "<img src=\"data:image/gif;base64,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\" />"
      ],
      "text/plain": [
       "Plots.AnimatedGif(\"/home/tisaac/srv/rep/22-course-cse6643/mybinder/tmp.gif\")"
      ]
     },
     "execution_count": 12,
     "metadata": {},
     "output_type": "execute_result"
    }
   ],
   "source": [
    "m = 7; n = 5;\n",
    "R = ones(m,n);\n",
    "E = zeros(n,n);\n",
    "anim = Animation();\n",
    "function h_frame!(R, E, anim)\n",
    "    rplot = imshow(R)\n",
    "    plot!(rplot, colorbar=:legend, legend=false, title=\"R\")\n",
    "    eplot = imshow(E, (-1,1))\n",
    "    plot!(eplot, colorbar=:legend, legend=false, title=\"||I-Q'Q||\")\n",
    "    p = plot(rplot, eplot, layout=(1,2), plot_title=\"Householder QR\")\n",
    "    frame(anim, p)\n",
    "end\n",
    "h_frame!(R, E, anim)\n",
    "for j in 1:n\n",
    "    R[:] = ones(m,n)\n",
    "    R[j:2:end,:] .-= 0.1\n",
    "    R[1:j,:] .= -1.0 + 0.01\n",
    "    for i in 1:j\n",
    "        R[i+1:end,i] .= 0.\n",
    "    end\n",
    "    h_frame!(R, E, anim)\n",
    "end\n",
    "h_frame!(R, E, anim)\n",
    "gif(anim, fps=0.5)"
   ]
  },
  {
   "cell_type": "markdown",
   "id": "949ea4e4",
   "metadata": {
    "cell_style": "split"
   },
   "source": [
    "- $I - Q^{(i)*} Q^{(i)} = 0\\ $ **at each step** because $Q^{(i)} = Q^{(i-1)} U_i$, and\n",
    "\n",
    "$$\\text{unitary} \\cdot \\text{unitary} = \\text{unitary}$$"
   ]
  },
  {
   "cell_type": "markdown",
   "id": "e0230174",
   "metadata": {
    "slideshow": {
     "slide_type": "subslide"
    }
   },
   "source": [
    "> Gram-Schmidt: triangular orthogonalization\n",
    ">\n",
    "> Householder: orthogonal triangularization"
   ]
  },
  {
   "cell_type": "markdown",
   "id": "295c0c6c",
   "metadata": {
    "slideshow": {
     "slide_type": "slide"
    }
   },
   "source": [
    "## Householder QR: how it's done"
   ]
  },
  {
   "cell_type": "markdown",
   "id": "a187c64a",
   "metadata": {
    "slideshow": {
     "slide_type": "subslide"
    }
   },
   "source": [
    "### Consider the first step\n",
    "\n",
    "$$R^{(1)} \\gets U_1 R^{(0)}$$\n",
    "\n",
    "- Action on the left $\\Rightarrow$ acts on the rows $\\Rightarrow$ same action applied to each column"
   ]
  },
  {
   "cell_type": "code",
   "execution_count": 13,
   "id": "27ba731f",
   "metadata": {
    "cell_style": "split",
    "hideCode": true
   },
   "outputs": [
    {
     "data": {
      "image/svg+xml": [
       "<?xml version=\"1.0\" encoding=\"utf-8\"?>\n",
       "<svg xmlns=\"http://www.w3.org/2000/svg\" xmlns:xlink=\"http://www.w3.org/1999/xlink\" width=\"500\" height=\"500\" viewBox=\"0 0 2000 2000\">\n",
       "<defs>\n",
       "  <clipPath id=\"clip450\">\n",
       "    <rect x=\"0\" y=\"0\" width=\"2000\" height=\"2000\"/>\n",
       "  </clipPath>\n",
       "</defs>\n",
       "<path clip-path=\"url(#clip450)\" d=\"\n",
       "M0 2000 L2000 2000 L2000 0 L0 0  Z\n",
       "  \" fill=\"#ffffff\" fill-rule=\"evenodd\" fill-opacity=\"1\"/>\n",
       "<defs>\n",
       "  <clipPath id=\"clip451\">\n",
       "    <rect x=\"400\" y=\"200\" width=\"1401\" height=\"1401\"/>\n",
       "  </clipPath>\n",
       "</defs>\n",
       "<path clip-path=\"url(#clip450)\" d=\"\n",
       "M108.177 1865.17 L967.092 1865.17 L967.092 147.244 L108.177 147.244  Z\n",
       "  \" fill=\"#ffffff\" fill-rule=\"evenodd\" fill-opacity=\"1\"/>\n",
       "<defs>\n",
       "  <clipPath id=\"clip452\">\n",
       "    <rect x=\"108\" y=\"147\" width=\"860\" height=\"1719\"/>\n",
       "  </clipPath>\n",
       "</defs>\n",
       "<g clip-path=\"url(#clip452)\">\n",
       "<image width=\"859\" height=\"1202\" xlink:href=\"data:image/png;base64,\n",
       "iVBORw0KGgoAAAANSUhEUgAAA1sAAASyCAYAAABA0PHBAAAaAklEQVR4nOzXQQ2AMADAwDGXc4og\n",
       "fDATa0jInYJ+e93reQcAAABHza8DAAAA/shsAQAABMwWAABAwGwBAAAEzBYAAEDAbAEAAATMFgAA\n",
       "QMBsAQAABMwWAABAwGwBAAAEzBYAAEDAbAEAAATMFgAAQMBsAQAABMwWAABAwGwBAAAEzBYAAEDA\n",
       "bAEAAATMFgAAQMBsAQAABMwWAABAwGwBAAAEzBYAAEDAbAEAAATMFgAAQMBsAQAABMwWAABAwGwB\n",
       "AAAEzBYAAEDAbAEAAATMFgAAQMBsAQAABMwWAABAwGwBAAAEzBYAAEDAbAEAAATMFgAAQMBsAQAA\n",
       "BMwWAABAwGwBAAAEzBYAAEDAbAEAAATMFgAAQMBsAQAABMwWAABAwGwBAAAEzBYAAEDAbAEAAATM\n",
       "FgAAQMBsAQAABMwWAABAwGwBAAAEzBYAAEDAbAEAAATMFgAAQMBsAQAABMwWAABAwGwBAAAEzBYA\n",
       "AEDAbAEAAATMFgAAQMBsAQAABMwWAABAwGwBAAAEzBYAAEDAbAEAAATMFgAAQMBsAQAABMwWAABA\n",
       "wGwBAAAEzBYAAEDAbAEAAATMFgAAQMBsAQAABMwWAABAwGwBAAAEzBYAAEDAbAEAAATMFgAAQMBs\n",
       "AQAABMwWAABAwGwBAAAEzBYAAEDAbAEAAATMFgAAQMBsAQAABMwWAABAwGwBAAAEzBYAAEDAbAEA\n",
       "AATMFgAAQMBsAQAABMwWAABAwGwBAAAEzBYAAEDAbAEAAATMFgAAQMBsAQAABMwWAABAwGwBAAAE\n",
       "zBYAAEDAbAEAAATMFgAAQMBsAQAABMwWAABAwGwBAAAEzBYAAEDAbAEAAATMFgAAQMBsAQAABMwW\n",
       "AABAwGwBAAAEzBYAAEDAbAEAAATMFgAAQMBsAQAABMwWAABAwGwBAAAEzBYAAEDAbAEAAATMFgAA\n",
       "QMBsAQAABMwWAABAwGwBAAAEzBYAAEDAbAEAAATMFgAAQMBsAQAABMwWAABAwGwBAAAEzBYAAEDA\n",
       "bAEAAATMFgAAQMBsAQAABMwWAABAwGwBAAAEzBYAAEDAbAEAAATMFgAAQMBsAQAABMwWAABAwGwB\n",
       "AAAEzBYAAEDAbAEAAATMFgAAQMBsAQAABMwWAABAwGwBAAAEzBYAAEDAbAEAAATMFgAAQMBsAQAA\n",
       "BMwWAABAwGwBAAAEzBYAAEDAbAEAAATMFgAAQMBsAQAABMwWAABAwGwBAAAEzBYAAEDAbAEAAATM\n",
       "FgAAQMBsAQAABMwWAABAwGwBAAAEzBYAAEDAbAEAAATMFgAAQMBsAQAABMwWAABAwGwBAAAEzBYA\n",
       "AEDAbAEAAATMFgAAQMBsAQAABMwWAABAwGwBAAAEzBYAAEDAbAEAAATMFgAAQMBsAQAABMwWAABA\n",
       "wGwBAAAEzBYAAEDAbAEAAATMFgAAQMBsAQAABMwWAABAwGwBAAAEzBYAAEDAbAEAAATMFgAAQMBs\n",
       "AQAABMwWAABAwGwBAAAEzBYAAEDAbAEAAATMFgAAQMBsAQAABMwWAABAwGwBAAAEzBYAAEDAbAEA\n",
       "AATMFgAAQMBsAQAABMwWAABAwGwBAAAEzBYAAEDAbAEAAATMFgAAQMBsAQAABMwWAABAwGwBAAAE\n",
       "zBYAAEDAbAEAAATMFgAAQMBsAQAABMwWAABAwGwBAAAEzBYAAEDAbAEAAATMFgAAQMBsAQAABMwW\n",
       "AABAwGwBAAAEzBYAAEDAbAEAAATMFgAAQMBsAQAABMwWAABAwGwBAAAEzBYAAEDAbAEAAATMFgAA\n",
       "QMBsAQAABMwWAABAwGwBAAAEzBYAAEDAbAEAAATMFgAAQMBsAQAABMwWAABAwGwBAAAEzBYAAEDA\n",
       "bAEAAATMFgAAQMBsAQAABMwWAABAwGwBAAAEzBYAAEDAbAEAAATMFgAAQMBsAQAABMwWAABAwGwB\n",
       "AAAEzBYAAEDAbAEAAATMFgAAQMBsAQAABMwWAABAwGwBAAAEzBYAAEDAbAEAAATMFgAAQMBsAQAA\n",
       "BMwWAABAwGwBAAAEzBYAAEDAbAEAAATMFgAAQMBsAQAABMwWAABAwGwBAAAEzBYAAEDAbAEAAATM\n",
       "FgAAQMBsAQAABMwWAABAwGwBAAAEzBYAAEDAbAEAAATMFgAAQMBsAQAABMwWAABAwGwBAAAEzBYA\n",
       "AEDAbAEAAATMFgAAQMBsAQAABMwWAABAwGwBAAAEzBYAAEDAbAEAAATMFgAAQMBsAQAABMwWAABA\n",
       "wGwBAAAEzBYAAEDAbAEAAATMFgAAQMBsAQAABMwWAABAwGwBAAAEzBYAAEDAbAEAAATMFgAAQMBs\n",
       "AQAABMwWAABAwGwBAAAEzBYAAEDAbAEAAATMFgAAQMBsAQAABMwWAABAwGwBAAAEzBYAAEDAbAEA\n",
       "AATMFgAAQMBsAQAABMwWAABAwGwBAAAEzBYAAEDAbAEAAATMFgAAQMBsAQAABMwWAABAwGwBAAAE\n",
       "zBYAAEDAbAEAAATMFgAAQMBsAQAABMwWAABAwGwBAAAEzBYAAEDAbAEAAATMFgAAQMBsAQAABMwW\n",
       "AABAwGwBAAAEzBYAAEDAbAEAAATMFgAAQMBsAQAABMwWAABAwGwBAAAEzBYAAEDAbAEAAATMFgAA\n",
       "QMBsAQAABMwWAABAwGwBAAAEzBYAAEDAbAEAAATMFgAAQMBsAQAABMwWAABAwGwBAAAEzBYAAEDA\n",
       "bAEAAATMFgAAQMBsAQAABMwWAABAwGwBAAAEzBYAAEDAbAEAAATMFgAAQMBsAQAABMwWAABAwGwB\n",
       "AAAEzBYAAEDAbAEAAATMFgAAQMBsAQAABMwWAABAwGwBAAAEzBYAAEDAbAEAAATMFgAAQMBsAQAA\n",
       "BMwWAABAwGwBAAAEzBYAAEDAbAEAAATMFgAAQMBsAQAABMwWAABAwGwBAAAEzBYAAEDAbAEAAATM\n",
       "FgAAQMBsAQAABMwWAABAwGwBAAAEzBYAAEDAbAEAAATMFgAAQMBsAQAABMwWAABAwGwBAAAEzBYA\n",
       "AEDAbAEAAATMFgAAQMBsAQAABMwWAABAwGwBAAAEzBYAAEDAbAEAAATMFgAAQMBsAQAABMwWAABA\n",
       "wGwBAAAEzBYAAEDAbAEAAATMFgAAQMBsAQAABMwWAABAwGwBAAAEzBYAAEDAbAEAAATMFgAAQMBs\n",
       "AQAABMwWAABAwGwBAAAEzBYAAEDAbAEAAATMFgAAQMBsAQAABMwWAABAwGwBAAAEzBYAAEDAbAEA\n",
       "AATMFgAAQMBsAQAABMwWAABAwGwBAAAEzBYAAEDAbAEAAATMFgAAQMBsAQAABMwWAABAwGwBAAAE\n",
       "zBYAAEDAbAEAAATMFgAAQMBsAQAABMwWAABAwGwBAAAEzBYAAEDAbAEAAATMFgAAQMBsAQAABMwW\n",
       "AABAwGwBAAAEzBYAAEDAbAEAAATMFgAAQMBsAQAABMwWAABAwGwBAAAEzBYAAEDAbAEAAATMFgAA\n",
       "QMBsAQAABMwWAABAwGwBAAAEzBYAAEDAbAEAAATMFgAAQMBsAQAABMwWAABAwGwBAAAEzBYAAEDA\n",
       "bAEAAATMFgAAQMBsAQAABMwWAABAwGwBAAAEzBYAAEDAbAEAAATMFgAAQMBsAQAABMwWAABAwGwB\n",
       "AAAEzBYAAEDAbAEAAATMFgAAQMBsAQAABMwWAABAwGwBAAAEzBYAAEDAbAEAAATMFgAAQMBsAQAA\n",
       "BMwWAABAwGwBAAAEzBYAAEDAbAEAAATMFgAAQMBsAQAABMwWAABAwGwBAAAEzBYAAEDAbAEAAATM\n",
       "FgAAQMBsAQAABMwWAABAwGwBAAAEzBYAAEDAbAEAAATMFgAAQMBsAQAABMwWAABAwGwBAAAEzBYA\n",
       "AEDAbAEAAATMFgAAQMBsAQAABMwWAABAwGwBAAAEzBYAAEDAbAEAAATMFgAAQMBsAQAABMwWAABA\n",
       "wGwBAAAEzBYAAEDAbAEAAATMFgAAQMBsAQAABMwWAABAwGwBAAAEzBYAAEDAbAEAAATMFgAAQMBs\n",
       "AQAABMwWAABAwGwBAAAEzBYAAEDAbAEAAATMFgAAQMBsAQAABMwWAABAwGwBAAAEzBYAAEDAbAEA\n",
       "AATMFgAAQMBsAQAABMwWAABAwGwBAAAEzBYAAEDAbAEAAATMFgAAQMBsAQAABMwWAABAwGwBAAAE\n",
       "zBYAAEDAbAEAAATMFgAAQMBsAQAABMwWAABAwGwBAAAEzBYAAEDAbAEAAATMFgAAQMBsAQAABMwW\n",
       "AABAwGwBAAAEzBYAAEDAbAEAAATMFgAAQMBsAQAABMwWAABAwGwBAAAEzBYAAEDAbAEAAATMFgAA\n",
       "QMBsAQAABMwWAABAwGwBAAAEzBYAAEDAbAEAAATMFgAAQMBsAQAABMwWAABAwGwBAAAEzBYAAEDA\n",
       "bAEAAATMFgAAQMBsAQAABMwWAABAwGwBAAAEzBYAAEDAbAEAAATMFgAAQMBsAQAABMwWAABAwGwB\n",
       "AAAEzBYAAEDAbAEAAATMFgAAQMBsAQAABMwWAABAwGwBAAAEzBYAAEDAbAEAAATMFgAAQMBsAQAA\n",
       "BMwWAABAwGwBAAAEzBYAAEDAbAEAAATMFgAAQMBsAQAABMwWAABAwGwBAAAEzBYAAEDAbAEAAATM\n",
       "FgAAQMBsAQAABMwWAABAwGwBAAAEzBYAAEDAbAEAAATMFgAAQMBsAQAABMwWAABAwGwBAAAEzBYA\n",
       "AEDAbAEAAATMFgAAQMBsAQAABMwWAABAwGwBAAAEzBYAAEDAbAEAAATMFgAAQMBsAQAABMwWAABA\n",
       "wGwBAAAEzBYAAEDAbAEAAATMFgAAQMBsAQAABMwWAABAwGwBAAAEzBYAAEDAbAEAAATMFgAAQMBs\n",
       "AQAABMwWAABAwGwBAAAEzBYAAEDAbAEAAATMFgAAQMBsAQAABMwWAABAwGwBAAAEzBYAAEDAbAEA\n",
       "AATMFgAAQMBsAQAABMwWAABAwGwBAAAEzBYAAEDAbAEAAATMFgAAQMBsAQAABMwWAABAwGwBAAAE\n",
       "zBYAAEDAbAEAAATMFgAAQMBsAQAABMwWAABAwGwBAAAEzBYAAEDAbAEAAATMFgAAQMBsAQAABMwW\n",
       "AABAwGwBAAAEzBYAAEDAbAEAAATMFgAAQMBsAQAABMwWAABAwGwBAAAEzBYAAEDAbAEAAATMFgAA\n",
       "QMBsAQAABMwWAABAwGwBAAAEzBYAAEDAbAEAAATMFgAAQMBsAQAABMwWAABAwGwBAAAEzBYAAEDA\n",
       "bAEAAATMFgAAQMBsAQAABMwWAABAwGwBAAAEzBYAAEDAbAEAAATMFgAAQMBsAQAABMwWAABAwGwB\n",
       "AAAEzBYAAEDAbAEAAATMFgAAQMBsAQAABMwWAABAwGwBAAAEzBYAAEDAbAEAAATMFgAAQMBsAQAA\n",
       "BMwWAABAwGwBAAAEzBYAAEDAbAEAAATMFgAAQMBsAQAABMwWAABAwGwBAAAEzBYAAEDAbAEAAATM\n",
       "FgAAQMBsAQAABMwWAABAwGwBAAAEzBYAAEDAbAEAAATMFgAAQMBsAQAABMwWAABAwGwBAAAEzBYA\n",
       "AEDAbAEAAATMFgAAQMBsAQAABMwWAABAwGwBAAAEzBYAAEDAbAEAAATMFgAAQMBsAQAABMwWAABA\n",
       "wGwBAAAEzBYAAEDAbAEAAATMFgAAQMBsAQAABMwWAABAwGwBAAAEzBYAAEDAbAEAAATMFgAAQMBs\n",
       "AQAABMwWAABAwGwBAAAEzBYAAEDAbAEAAATMFgAAQMBsAQAABMwWAABAwGwBAAAEzBYAAEDAbAEA\n",
       "AATMFgAAQMBsAQAABMwWAABAwGwBAAAEzBYAAEDAbAEAAATMFgAAQMBsAQAABMwWAABAwGwBAAAE\n",
       "zBYAAEDAbAEAAATMFgAAQMBsAQAABMwWAABAwGwBAAAEzBYAAEDAbAEAAATMFgAAQMBsAQAABMwW\n",
       "AABAwGwBAAAEzBYAAEDAbAEAAATMFgAAQMBsAQAABMwWAABAwGwBAAAEzBYAAEDAbAEAAATMFgAA\n",
       "QMBsAQAABMwWAABAwGwBAAAEzBYAAEDAbAEAAATMFgAAQMBsAQAABMwWAABAwGwBAAAEzBYAAEDA\n",
       "bAEAAATMFgAAQMBsAQAABMwWAABAwGwBAAAEzBYAAEDAbAEAAATMFgAAQMBsAQAABMwWAABAwGwB\n",
       "AAAEzBYAAEDAbAEAAATMFgAAQMBsAQAABMwWAABAwGwBAAAEzBYAAEDAbAEAAATMFgAAQMBsAQAA\n",
       "BMwWAABAwGwBAAAEzBYAAEDAbAEAAATMFgAAQMBsAQAABMwWAABAwGwBAAAEzBYAAEDAbAEAAATM\n",
       "FgAAQMBsAQAABMwWAABAwGwBAAAEzBYAAEDAbAEAAATMFgAAQMBsAQAABMwWAABAwGwBAAAEzBYA\n",
       "AEDAbAEAAATMFgAAQMBsAQAABMwWAABAwGwBAAAEzBYAAEDAbAEAAATMFgAAQMBsAQAABMwWAABA\n",
       "wGwBAAAEzBYAAEDAbAEAAATMFgAAQMBsAQAABMwWAABAwGwBAAAEzBYAAEDAbAEAAATMFgAAQMBs\n",
       "AQAABMwWAABAwGwBAAAEzBYAAEDAbAEAAATMFgAAQMBsAQAABMwWAABAwGwBAAAEzBYAAEDAbAEA\n",
       "AATMFgAAQMBsAQAABMwWAABAwGwBAAAEzBYAAEDAbAEAAATMFgAAQMBsAQAABMwWAABAwGwBAAAE\n",
       "zBYAAEDAbAEAAATMFgAAQMBsAQAABMwWAABAwGwBAAAEzBYAAEDAbAEAAATMFgAAQMBsAQAABMwW\n",
       "AABAwGwBAAAEzBYAAEDAbAEAAATMFgAAQMBsAQAABMwWAABAwGwBAAAEzBYAAEDAbAEAAATMFgAA\n",
       "QMBsAQAABMwWAABAwGwBAAAEzBYAAEDAbAEAAATMFgAAQMBsAQAABMwWAABAwGwBAAAEzBYAAEDA\n",
       "bAEAAATMFgAAQMBsAQAABMwWAABAwGwBAAAEzBYAAEDAbAEAAATMFgAAQMBsAQAABMwWAABAwGwB\n",
       "AAAEzBYAAEDAbAEAAATMFgAAQMBsAQAABMwWAABAwGwBAAAEzBYAAEDAbAEAAATMFgAAQMBsAQAA\n",
       "BMwWAABAwGwBAAAEzBYAAEDAbAEAAATMFgAAQMBsAQAABMwWAABAwGwBAAAEzBYAAEDAbAEAAATM\n",
       "FgAAQMBsAQAABMwWAABAwGwBAAAEzBYAAEDAbAEAAATMFgAAQMBsAQAABMwWAABAwGwBAAAEzBYA\n",
       "AEDAbAEAAATMFgAAQMBsAQAABMwWAABAwGwBAAAEzBYAAEDAbAEAAATMFgAAQMBsAQAABMwWAABA\n",
       "wGwBAAAEzBYAAEDAbAEAAATMFgAAQMBsAQAABMwWAABAwGwBAAAEzBYAAEDAbAEAAATMFgAAQMBs\n",
       "AQAABMwWAABAwGwBAAAEzBYAAEDAbAEAAATMFgAAQMBsAQAABMwWAABAwGwBAAAEzBYAAEDAbAEA\n",
       "AATMFgAAQMBsAQAABMwWAABAwGwBAAAEzBYAAEDAbAEAAATMFgAAQMBsAQAABMwWAABAwGwBAAAE\n",
       "zBYAAEDAbAEAAATMFgAAQMBsAQAABMwWAABAwGwBAAAEzBYAAEDAbAEAAATMFgAAQMBsAQAABMwW\n",
       "AABAwGwBAAAEzBYAAEDAbAEAAATMFgAAQMBsAQAABMwWAABAwGwBAAAEzBYAAEDAbAEAAATMFgAA\n",
       "QMBsAQAABMwWAABAwGwBAAAEzBYAAEDAbAEAAATMFgAAQMBsAQAABMwWAABAwGwBAAAEzBYAAEDA\n",
       "bAEAAATMFgAAQMBsAQAABMwWAABAwGwBAAAEzBYAAEDAbAEAAATMFgAAQMBsAQAABMwWAABAwGwB\n",
       "AAAEzBYAAEDAbAEAAATMFgAAQMBsAQAABMwWAABAwGwBAAAEzBYAAEDAbAEAAATMFgAAQMBsAQAA\n",
       "BMwWAABAwGwBAAAEzBYAAEDAbAEAAATMFgAAQMBsAQAABMwWAABAwGwBAAAEzBYAAEDAbAEAAATM\n",
       "FgAAQMBsAQAABMwWAABAwGwBAAAEzBYAAEDAbAEAAATMFgAAQMBsAQAABMwWAABAwGwBAAAEzBYA\n",
       "AEDAbAEAAATMFgAAQMBsAQAABMwWAABAwGwBAAAEzBYAAEDAbAEAAATMFgAAQMBsAQAABMwWAABA\n",
       "wGwBAAAEzBYAAEDAbAEAAATMFgAAQMBsAQAABMwWAABAwGwBAAAEzBYAAEDAbAEAAATMFgAAQMBs\n",
       "AQAABMwWAABAwGwBAAAEzBYAAEDAbAEAAATMFgAAQMBsAQAABMwWAABAwGwBAAAEzBYAAEDAbAEA\n",
       "AATMFgAAQMBsAQAABMwWAABAwGwBAAAEzBYAAEDAbAEAAATMFgAAQMBsAQAABMwWAABAwGwBAAAE\n",
       "zBYAAEDAbAEAAATMFgAAQMBsAQAABMwWAABAwGwBAAAEzBYAAEDAbAEAAATMFgAAQMBsAQAABMwW\n",
       "AABAwGwBAAAEzBYAAEDAbAEAAATMFgAAQMBsAQAABMwWAABAwGwBAAAEzBYAAEDAbAEAAATMFgAA\n",
       "QMBsAQAABMwWAABAwGwBAAAEzBYAAEDAbAEAAATMFgAAQMBsAQAABMwWAABAwGwBAAAEzBYAAEDA\n",
       "bAEAAATMFgAAQMBsAQAABMwWAABAwGwBAAAEzBYAAEDAbAEAAATMFgAAQMBsAQAABMwWAABAwGwB\n",
       "AAAEzBYAALv9OhYAAAAAGORvPYp9ZREwkC0AAICBbAEAAAxkCwAAYCBbAAAAA9kCAAAYyBYAAMBA\n",
       "tgAAAAayBQAAMJAtAACAgWwBAAAMZAsAAGAgWwAAAAPZAgAAGMgWAADAQLYAAAAGsgUAADCQLQAA\n",
       "gIFsAQAADGQLAABgIFsAAAAD2QIAABjIFgAAwEC2AAAABrIFAAAwkC0AAICBbAEAAAxkCwAAYCBb\n",
       "AAAAA9kCAAAYyBYAAMBAtgAAAAayBQAAMAgmNAxYZfQTRAAAAABJRU5ErkJggg==\n",
       "\" transform=\"translate(108, 405)\"/>\n",
       "</g>\n",
       "<path clip-path=\"url(#clip450)\" d=\"\n",
       "M1122.51 1865.17 L1952.76 1865.17 L1952.76 147.244 L1122.51 147.244  Z\n",
       "  \" fill=\"#ffffff\" fill-rule=\"evenodd\" fill-opacity=\"1\"/>\n",
       "<defs>\n",
       "  <clipPath id=\"clip453\">\n",
       "    <rect x=\"1122\" y=\"147\" width=\"831\" height=\"1719\"/>\n",
       "  </clipPath>\n",
       "</defs>\n",
       "<g clip-path=\"url(#clip453)\">\n",
       "<image width=\"830\" height=\"1162\" xlink:href=\"data:image/png;base64,\n",
       "iVBORw0KGgoAAAANSUhEUgAAAz4AAASKCAYAAACfN7s1AAAYx0lEQVR4nO3ZsWnDABRF0TgI3Bk8\n",
       "jqfLGFksW6hQLQxy+qDS4cPlnAle+S//8vi+vT4AAADCPqcHAAAA/DfhAwAA5AkfAAAgT/gAAAB5\n",
       "wgcAAMgTPgAAQJ7wAQAA8oQPAACQJ3wAAIA84QMAAOQJHwAAIE/4AAAAecIHAADIEz4AAECe8AEA\n",
       "APKEDwAAkCd8AACAPOEDAADkCR8AACBP+AAAAHnCBwAAyBM+AABAnvABAADyhA8AAJAnfAAAgDzh\n",
       "AwAA5AkfAAAgT/gAAAB5wgcAAMgTPgAAQJ7wAQAA8oQPAACQJ3wAAIA84QMAAOQJHwAAIE/4AAAA\n",
       "ecIHAADIEz4AAECe8AEAAPKEDwAAkCd8AACAPOEDAADkCR8AACBP+AAAAHnCBwAAyBM+AABAnvAB\n",
       "AADyhA8AAJAnfAAAgDzhAwAA5AkfAAAgT/gAAAB5wgcAAMgTPgAAQJ7wAQAA8oQPAACQJ3wAAIA8\n",
       "4QMAAOQJHwAAIE/4AAAAecIHAADIEz4AAECe8AEAAPKEDwAAkCd8AACAPOEDAADkCR8AACBP+AAA\n",
       "AHnCBwAAyBM+AABAnvABAADyhA8AAJAnfAAAgDzhAwAA5AkfAAAgT/gAAAB5wgcAAMgTPgAAQJ7w\n",
       "AQAA8oQPAACQJ3wAAIA84QMAAOQJHwAAIE/4AAAAecIHAADIEz4AAECe8AEAAPKEDwAAkCd8AACA\n",
       "POEDAADkCR8AACBP+AAAAHnCBwAAyBM+AABAnvABAADyhA8AAJAnfAAAgDzhAwAA5AkfAAAgT/gA\n",
       "AAB5wgcAAMgTPgAAQJ7wAQAA8oQPAACQJ3wAAIA84QMAAOQJHwAAIE/4AAAAecIHAADIEz4AAECe\n",
       "8AEAAPKEDwAAkCd8AACAPOEDAADkCR8AACBP+AAAAHnCBwAAyBM+AABAnvABAADyhA8AAJAnfAAA\n",
       "gDzhAwAA5AkfAAAgT/gAAAB5wgcAAMgTPgAAQJ7wAQAA8oQPAACQJ3wAAIA84QMAAOQJHwAAIE/4\n",
       "AAAAecIHAADIEz4AAECe8AEAAPKEDwAAkCd8AACAPOEDAADkCR8AACBP+AAAAHnCBwAAyBM+AABA\n",
       "nvABAADyhA8AAJAnfAAAgDzhAwAA5AkfAAAgT/gAAAB5wgcAAMgTPgAAQJ7wAQAA8oQPAACQJ3wA\n",
       "AIA84QMAAOQJHwAAIE/4AAAAecIHAADIEz4AAECe8AEAAPKEDwAAkCd8AACAPOEDAADkCR8AACBP\n",
       "+AAAAHnCBwAAyBM+AABAnvABAADyLuu6vqZHwF8/X8/pCQAAhPj4AAAAecIHAADIEz4AAECe8AEA\n",
       "APKEDwAAkCd8AACAPOEDAADkCR8AACBP+AAAAHnCBwAAyBM+AABAnvABAADyhA8AAJAnfAAAgDzh\n",
       "AwAA5AkfAAAgT/gAAAB5wgcAAMgTPgAAQJ7wAQAA8oQPAACQJ3wAAIA84QMAAOQJHwAAIE/4AAAA\n",
       "ecIHAADIEz4AAECe8AEAAPKEDwAAkCd8AACAPOEDAADkCR8AACBP+AAAAHnCBwAAyBM+AABAnvAB\n",
       "AADyhA8AAJAnfAAAgDzhAwAA5AkfAAAgT/gAAAB5wgcAAMgTPgAAQJ7wAQAA8oQPAACQJ3wAAIA8\n",
       "4QMAAOQJHwAAIE/4AAAAecIHAADIEz4AAECe8AEAAPKEDwAAkCd8AACAPOEDAADkCR8AACBP+AAA\n",
       "AHnCBwAAyBM+AABAnvABAADyhA8AAJAnfAAAgDzhAwAA5AkfAAAgT/gAAAB5wgcAAMgTPgAAQJ7w\n",
       "AQAA8oQPAACQJ3wAAIA84QMAAOQJHwAAIE/4AAAAecIHAADIEz4AAECe8AEAAPKEDwAAkCd8AACA\n",
       "POEDAADkCR8AACBP+AAAAHnCBwAAyBM+AABAnvABAADyhA8AAJAnfAAAgDzhAwAA5AkfAAAgT/gA\n",
       "AAB5wgcAAMgTPgAAQJ7wAQAA8oQPAACQJ3wAAIA84QMAAOQJHwAAIE/4AAAAecIHAADIEz4AAECe\n",
       "8AEAAPKEDwAAkCd8AACAPOEDAADkCR8AACBP+AAAAHnCBwAAyBM+AABAnvABAADyhA8AAJAnfAAA\n",
       "gDzhAwAA5AkfAAAgT/gAAAB5wgcAAMgTPgAAQJ7wAQAA8oQPAACQJ3wAAIA84QMAAOQJHwAAIE/4\n",
       "AAAAecIHAADIEz4AAECe8AEAAPKEDwAAkCd8AACAPOEDAADkCR8AACBP+AAAAHnCBwAAyBM+AABA\n",
       "nvABAADyhA8AAJAnfAAAgDzhAwAA5AkfAAAgT/gAAAB5wgcAAMgTPgAAQJ7wAQAA8oQPAACQJ3wA\n",
       "AIA84QMAAOQJHwAAIE/4AAAAecIHAADIEz4AAECe8AEAAPKEDwAAkCd8AACAPOEDAADkCR8AACBP\n",
       "+AAAAHnCBwAAyBM+AABAnvABAADyhA8AAJAnfAAAgDzhAwAA5AkfAAAgT/gAAAB5wgcAAMgTPgAA\n",
       "QJ7wAQAA8pbpAXBm347pCQAAhPj4AAAAecIHAADIEz4AAECe8AEAAPKEDwAAkCd8AACAPOEDAADk\n",
       "CR8AACBP+AAAAHnCBwAAyBM+AABAnvABAADyhA8AAJAnfAAAgDzhAwAA5AkfAAAgT/gAAAB5wgcA\n",
       "AMgTPgAAQJ7wAQAA8oQPAACQJ3wAAIA84QMAAOQJHwAAIE/4AAAAecIHAADIEz4AAECe8AEAAPKE\n",
       "DwAAkCd8AACAPOEDAADkCR8AACBP+AAAAHnCBwAAyBM+AABAnvABAADyhA8AAJAnfAAAgDzhAwAA\n",
       "5AkfAAAgT/gAAAB5wgcAAMgTPgAAQJ7wAQAA8oQPAACQJ3wAAIA84QMAAOQJHwAAIE/4AAAAecIH\n",
       "AADIEz4AAECe8AEAAPKEDwAAkCd8AACAPOEDAADkCR8AACBP+AAAAHnCBwAAyBM+AABAnvABAADy\n",
       "hA8AAJAnfAAAgDzhAwAA5AkfAAAgT/gAAAB5wgcAAMgTPgAAQJ7wAQAA8oQPAACQJ3wAAIA84QMA\n",
       "AOQJHwAAIE/4AAAAecIHAADIEz4AAECe8AEAAPKEDwAAkCd8AACAPOEDAADkCR8AACBP+AAAAHnC\n",
       "BwAAyBM+AABAnvABAADyhA8AAJAnfAAAgDzhAwAA5AkfAAAgT/gAAAB5wgcAAMgTPgAAQJ7wAQAA\n",
       "8oQPAACQJ3wAAIA84QMAAOQJHwAAIE/4AAAAecIHAADIEz4AAECe8AEAAPKEDwAAkCd8AACAPOED\n",
       "AADkCR8AACBP+AAAAHnCBwAAyBM+AABAnvABAADyhA8AAJAnfAAAgDzhAwAA5AkfAAAgT/gAAAB5\n",
       "wgcAAMgTPgAAQJ7wAQAA8oQPAACQJ3wAAIA84QMAAOQJHwAAIE/4AAAAecIHAADIEz4AAECe8AEA\n",
       "APKEDwAAkCd8AACAPOEDAADkCR8AACBP+AAAAHnCBwAAyBM+AABAnvABAADyhA8AAJAnfAAAgDzh\n",
       "AwAA5AkfAAAgT/gAAAB5wgcAAMgTPgAAQJ7wAQAA8oQPAACQJ3wAAIA84QMAAOQJHwAAIE/4AAAA\n",
       "ecIHAADIEz4AAECe8AEAAPKEDwAAkCd8AACAPOEDAADkCR8AACBP+AAAAHnCBwAAyBM+AABAnvAB\n",
       "AADyhA8AAJAnfAAAgDzhAwAA5AkfAAAgT/gAAAB5wgcAAMgTPgAAQJ7wAQAA8pbpAXDmetfkAAC8\n",
       "j+sSAADIEz4AAECe8AEAAPKEDwAAkCd8AACAPOEDAADkCR8AACBP+AAAAHnCBwAAyBM+AABAnvAB\n",
       "AADyhA8AAJAnfAAAgDzhAwAA5AkfAAAgT/gAAAB5wgcAAMgTPgAAQJ7wAQAA8oQPAACQJ3wAAIA8\n",
       "4QMAAOQJHwAAIE/4AAAAecIHAADIEz4AAECe8AEAAPKEDwAAkCd8AACAPOEDAADkCR8AACBP+AAA\n",
       "AHnCBwAAyBM+AABAnvABAADyhA8AAJAnfAAAgDzhAwAA5AkfAAAgT/gAAAB5wgcAAMgTPgAAQJ7w\n",
       "AQAA8oQPAACQJ3wAAIA84QMAAOQJHwAAIE/4AAAAecIHAADIEz4AAECe8AEAAPKEDwAAkCd8AACA\n",
       "POEDAADkCR8AACBP+AAAAHnCBwAAyBM+AABAnvABAADyhA8AAJAnfAAAgDzhAwAA5AkfAAAgT/gA\n",
       "AAB5wgcAAMgTPgAAQJ7wAQAA8oQPAACQJ3wAAIA84QMAAOQJHwAAIE/4AAAAecIHAADIEz4AAECe\n",
       "8AEAAPKEDwAAkCd8AACAPOEDAADkCR8AACBP+AAAAHnCBwAAyBM+AABAnvABAADyhA8AAJAnfAAA\n",
       "gDzhAwAA5AkfAAAgT/gAAAB5wgcAAMgTPgAAQJ7wAQAA8oQPAACQJ3wAAIA84QMAAOQJHwAAIE/4\n",
       "AAAAecIHAADIEz4AAECe8AEAAPKEDwAAkCd8AACAPOEDAADkCR8AACBP+AAAAHnCBwAAyBM+AABA\n",
       "nvABAADyhA8AAJAnfAAAgDzhAwAA5AkfAAAgT/gAAAB5wgcAAMgTPgAAQJ7wAQAA8oQPAACQJ3wA\n",
       "AIA84QMAAOQJHwAAIE/4AAAAecIHAADIEz4AAECe8AEAAPKEDwAAkCd8AACAPOEDAADkCR8AACBP\n",
       "+AAAAHnCBwAAyBM+AABAnvABAADyhA8AAJAnfAAAgDzhAwAA5AkfAAAgT/gAAAB5wgcAAMgTPgAA\n",
       "QJ7wAQAA8oQPAACQJ3wAAIA84QMAAOQJHwAAIE/4AAAAecIHAADIEz4AAECe8AEAAPKEDwAAkCd8\n",
       "AACAPOEDAADkCR8AACBP+AAAAHnCBwAAyBM+AABAnvABAADyhA8AAJAnfAAAgDzhAwAA5AkfAAAg\n",
       "T/gAAAB5wgcAAMgTPgAAQJ7wAQAA8oQPAACQJ3wAAIA84QMAAOQt0wPgzL4d0xMAAAjx8QEAAPKE\n",
       "DwAAkCd8AACAPOEDAADkCR8AACBP+AAAAHnCBwAAyBM+AABAnvABAADyhA8AAJAnfAAAgDzhAwAA\n",
       "5AkfAAAgT/gAAAB5wgcAAMgTPgAAQJ7wAQAA8oQPAACQJ3wAAIA84QMAAOQJHwAAIE/4AAAAecIH\n",
       "AADIEz4AAECe8AEAAPKEDwAAkCd8AACAPOEDAADkCR8AACBP+AAAAHnCBwAAyBM+AABAnvABAADy\n",
       "hA8AAJAnfAAAgDzhAwAA5AkfAAAgT/gAAAB5wgcAAMgTPgAAQJ7wAQAA8oQPAACQJ3wAAIA84QMA\n",
       "AOQJHwAAIE/4AAAAecIHAADIEz4AAECe8AEAAPKEDwAAkCd8AACAPOEDAADkCR8AACBP+AAAAHnC\n",
       "BwAAyBM+AABAnvABAADyhA8AAJAnfAAAgDzhAwAA5AkfAAAgT/gAAAB5wgcAAMgTPgAAQJ7wAQAA\n",
       "8oQPAACQJ3wAAIA84QMAAOQJHwAAIE/4AAAAecIHAADIEz4AAECe8AEAAPKEDwAAkCd8AACAPOED\n",
       "AADkCR8AACBP+AAAAHnCBwAAyBM+AABAnvABAADyhA8AAJAnfAAAgDzhAwAA5AkfAAAgT/gAAAB5\n",
       "wgcAAMgTPgAAQJ7wAQAA8oQPAACQJ3wAAIA84QMAAOQJHwAAIE/4AAAAecIHAADIEz4AAECe8AEA\n",
       "APKEDwAAkCd8AACAPOEDAADkCR8AACBP+AAAAHnCBwAAyBM+AABAnvABAADyhA8AAJAnfAAAgDzh\n",
       "AwAA5AkfAAAgT/gAAAB5wgcAAMgTPgAAQJ7wAQAA8oQPAACQJ3wAAIA84QMAAOQJHwAAIE/4AAAA\n",
       "ecIHAADIEz4AAECe8AEAAPKEDwAAkCd8AACAPOEDAADkCR8AACBP+AAAAHnCBwAAyBM+AABAnvAB\n",
       "AADyhA8AAJAnfAAAgDzhAwAA5AkfAAAgT/gAAAB5wgcAAMgTPgAAQJ7wAQAA8oQPAACQJ3wAAIA8\n",
       "4QMAAOQJHwAAIE/4AAAAecIHAADIEz4AAECe8AEAAPKEDwAAkCd8AACAPOEDAADkCR8AACBP+AAA\n",
       "AHnCBwAAyBM+AABAnvABAADyhA8AAJAnfAAAgDzhAwAA5AkfAAAgT/gAAAB5wgcAAMgTPgAAQJ7w\n",
       "AQAA8oQPAACQJ3wAAIA84QMAAOQt0wPgzPWuyQEAeB/XJQAAkCd8AACAPOEDAADkCR8AACBP+AAA\n",
       "AHnCBwAAyBM+AABAnvABAADyhA8AAJAnfAAAgDzhAwAA5AkfAAAgT/gAAAB5wgcAAMgTPgAAQJ7w\n",
       "AQAA8oQPAACQJ3wAAIA84QMAAOQJHwAAIE/4AAAAecIHAADIEz4AAECe8AEAAPKEDwAAkCd8AACA\n",
       "POEDAADkCR8AACBP+AAAAHnCBwAAyBM+AABAnvABAADyhA8AAJAnfAAAgDzhAwAA5AkfAAAgT/gA\n",
       "AAB5wgcAAMgTPgAAQJ7wAQAA8oQPAACQJ3wAAIA84QMAAOQJHwAAIE/4AAAAecIHAADIEz4AAECe\n",
       "8AEAAPKEDwAAkCd8AACAPOEDAADkCR8AACBP+AAAAHnCBwAAyBM+AABAnvABAADyhA8AAJAnfAAA\n",
       "gDzhAwAA5AkfAAAgT/gAAAB5wgcAAMgTPgAAQJ7wAQAA8oQPAACQJ3wAAIA84QMAAOQJHwAAIE/4\n",
       "AAAAecIHAADIEz4AAECe8AEAAPKEDwAAkCd8AACAPOEDAADkCR8AACBP+AAAAHnCBwAAyBM+AABA\n",
       "nvABAADyhA8AAJAnfAAAgDzhAwAA5AkfAAAgT/gAAAB5wgcAAMgTPgAAQJ7wAQAA8oQPAACQJ3wA\n",
       "AIA84QMAAOQJHwAAIE/4AAAAecIHAADIEz4AAECe8AEAAPKEDwAAkCd8AACAPOEDAADkCR8AACBP\n",
       "+AAAAHnCBwAAyBM+AABAnvABAADyhA8AAJAnfAAAgDzhAwAA5AkfAAAgT/gAAAB5wgcAAMgTPgAA\n",
       "QJ7wAQAA8oQPAACQJ3wAAIA84QMAAOQJHwAAIE/4AAAAecIHAADIEz4AAECe8AEAAPKEDwAAkCd8\n",
       "AACAPOEDAADkCR8AACBP+AAAAHnCBwAAyBM+AABAnvABAADyhA8AAJAnfAAAgDzhAwAA5AkfAAAg\n",
       "T/gAAAB5wgcAAMgTPgAAQJ7wAQAA8oQPAACQJ3wAAIA84QMAAOQJHwAAIE/4AAAAecIHAADIEz4A\n",
       "AECe8AEAAPKEDwAAkCd8AACAPOEDAADkCR8AACBP+AAAAHnCBwAAyBM+AABAnvABAADyhA8AAJAn\n",
       "fAAAgDzhAwAA5AkfAAAgT/gAAAB5wgcAAMgTPgAAQJ7wAQAA8oQPAACQJ3wAAIA84QMAAOQJHwAA\n",
       "IG+ZHgBn9u2YngAAQIiPDwAAkCd8AACAPOEDAADkCR8AACBP+AAAAHnCBwAAyBM+AABAnvABAADy\n",
       "hA8AAJAnfAAAgDzhAwAA5AkfAAAgT/gAAAB5wgcAAMgTPgAAQJ7wAQAA8oQPAACQJ3wAAIA84QMA\n",
       "AOQJHwAAIE/4AAAAecIHAADIEz4AAECe8AEAAPKEDwAAkCd8AACAPOEDAADkCR8AACBP+AAAAHnC\n",
       "BwAAyBM+AABAnvABAADyhA8AAJAnfAAAgDzhAwAA5AkfAAAgT/gAAAB5wgcAAMgTPgAAQJ7wAQAA\n",
       "8oQPAACQJ3wAAIA84QMAAOQJHwAAIE/4AAAAecIHAADIEz4AAECe8AEAAPKEDwAAkCd8AACAPOED\n",
       "AADkCR8AACBP+AAAAHnCBwAAyBM+AABAnvABAADyhA8AAJAnfAAAgDzhAwAA5AkfAAAgT/gAAAB5\n",
       "wgcAAMgTPgAAQJ7wAQAA8oQPAACQJ3wAAIA84QMAAOQJHwAAIE/4AAAAecIHAADIEz4AAECe8AEA\n",
       "APKEDwAAkCd8AACAPOEDAADkCR8AACBP+AAAAHnCBwAAyBM+AABAnvABAADyhA8AAJAnfAAAgDzh\n",
       "AwAA5AkfAAAgT/gAAAB5wgcAAMgTPgAAQJ7wAQAA8oQPAACQJ3wAAIA84QMAAOQJHwAAIE/4AAAA\n",
       "ecIHAADIEz4AAECe8AEAAPKEDwAAkCd8AACAPOEDAADkCR8AACBP+AAAAHnCBwAAyBM+AABAnvAB\n",
       "AADyhA8AAJAnfAAAgDzhAwAA5AkfAAAgT/gAAAB5wgcAAMgTPgAAQJ7wAQAA8oQPAACQJ3wAAIA8\n",
       "4QMAAOQJHwAAIE/4AAAAecIHAADIEz4AAECe8AEAAPKEDwAAkCd8AACAPOEDAADkCR8AACBP+AAA\n",
       "AHnCBwAAyBM+AABAnvABAADyhA8AAJAnfAAAgDzhAwAA5AkfAAAgT/gAAAB5wgcAAMgTPgAAQJ7w\n",
       "AQAA8oQPAACQJ3wAAIA84QMAAOQJHwAAIE/4AAAAecIHAADIEz4AAECe8AEAAPKEDwAAkCd8AACA\n",
       "POEDAADkCR8AACBP+AAAAHnCBwAAyBM+AABAnvABAADyhA8AAJAnfAAAgDzhAwAA5AkfAAAgT/gA\n",
       "AAB5wgcAAMgTPgAAQJ7wAQAA8oQPAACQJ3wAAIA84QMAAOQJHwAAIE/4AAAAecIHAADI+wXwVRnu\n",
       "DBWWggAAAABJRU5ErkJggg==\n",
       "\" transform=\"translate(1123, 425)\"/>\n",
       "</g>\n",
       "<path clip-path=\"url(#clip450)\" d=\"\n",
       "M136.85 100 L1952.76 100 L1952.76 0 L136.85 0  Z\n",
       "  \" fill=\"#ffffff\" fill-rule=\"evenodd\" fill-opacity=\"1\"/>\n",
       "<defs>\n",
       "  <clipPath id=\"clip454\">\n",
       "    <rect x=\"136\" y=\"0\" width=\"1817\" height=\"101\"/>\n",
       "  </clipPath>\n",
       "</defs>\n",
       "<path clip-path=\"url(#clip450)\" d=\"M532.954 50.5368 Q535.963 51.5553 538.787 54.8886 Q541.658 58.2219 544.528 64.0552 L554.019 82.944 L543.972 82.944 L535.13 65.2126 Q531.704 58.2682 528.463 55.9997 Q525.269 53.7312 519.713 53.7312 L509.528 53.7312 L509.528 82.944 L500.176 82.944 L500.176 13.824 L521.287 13.824 Q533.139 13.824 538.972 18.7777 Q544.806 23.7314 544.806 33.7313 Q544.806 40.259 541.75 44.5646 Q538.741 48.8701 532.954 50.5368 M509.528 21.5091 L509.528 46.046 L521.287 46.046 Q528.047 46.046 531.472 42.9442 Q534.945 39.7961 534.945 33.7313 Q534.945 27.6665 531.472 24.611 Q528.047 21.5091 521.287 21.5091 L509.528 21.5091 Z\" fill=\"#000000\" fill-rule=\"evenodd\" fill-opacity=\"1\" /><path clip-path=\"url(#clip450)\" d=\"M575.269 11.7407 Q571.38 17.7129 569.482 23.5462 Q567.583 29.3795 567.583 35.3517 Q567.583 41.3239 569.482 47.2035 Q571.38 53.083 575.269 59.0089 L570.593 59.0089 Q566.241 52.9442 564.065 47.0183 Q561.889 41.1387 561.889 35.3517 Q561.889 29.5647 564.065 23.6851 Q566.195 17.8518 570.593 11.7407 L575.269 11.7407 Z\" fill=\"#000000\" fill-rule=\"evenodd\" fill-opacity=\"1\" /><path clip-path=\"url(#clip450)\" d=\"M606.426 20.6758 Q604.111 16.6944 599.435 16.6944 Q594.759 16.6944 592.444 20.6758 Q590.083 24.6573 590.083 32.6202 Q590.083 40.6294 592.444 44.6109 Q594.759 48.5923 599.435 48.5923 Q604.111 48.5923 606.426 44.6109 Q608.787 40.6294 608.787 32.6202 Q608.787 24.6573 606.426 20.6758 M599.435 12.574 Q606.889 12.574 610.824 17.7129 Q614.759 22.8517 614.759 32.6202 Q614.759 42.435 610.824 47.5738 Q606.889 52.7127 599.435 52.7127 Q591.935 52.7127 588 47.5738 Q584.065 42.435 584.065 32.6202 Q584.065 22.8517 588 17.7129 Q591.935 12.574 599.435 12.574 Z\" fill=\"#000000\" fill-rule=\"evenodd\" fill-opacity=\"1\" /><path clip-path=\"url(#clip450)\" d=\"M622.815 11.7407 L627.49 11.7407 Q631.889 17.8518 634.065 23.6851 Q636.194 29.5647 636.194 35.3517 Q636.194 41.1387 634.065 47.0183 Q631.889 52.9442 627.49 59.0089 L622.815 59.0089 Q626.703 53.083 628.602 47.2035 Q630.546 41.3239 630.546 35.3517 Q630.546 29.3795 628.602 23.5462 Q626.703 17.7129 622.815 11.7407 Z\" fill=\"#000000\" fill-rule=\"evenodd\" fill-opacity=\"1\" /><path clip-path=\"url(#clip450)\" d=\"M1063.92 58.083 L1068.78 53.2219 L1063.92 48.3609 L1008.41 48.3609 L1008.41 42.8053 L1058.37 42.8053 L1054.06 38.4998 L1059.62 32.9443 L1077.81 51.1386 L1077.81 55.3053 L1059.62 73.4996 L1054.06 67.9441 L1058.37 63.6385 L1008.41 63.6385 L1008.41 58.083 L1063.92 58.083 Z\" fill=\"#000000\" fill-rule=\"evenodd\" fill-opacity=\"1\" /><path clip-path=\"url(#clip450)\" d=\"M1486.19 50.5368 Q1489.2 51.5553 1492.02 54.8886 Q1494.89 58.2219 1497.76 64.0552 L1507.25 82.944 L1497.21 82.944 L1488.37 65.2126 Q1484.94 58.2682 1481.7 55.9997 Q1478.5 53.7312 1472.95 53.7312 L1462.76 53.7312 L1462.76 82.944 L1453.41 82.944 L1453.41 13.824 L1474.52 13.824 Q1486.37 13.824 1492.21 18.7777 Q1498.04 23.7314 1498.04 33.7313 Q1498.04 40.259 1494.99 44.5646 Q1491.98 48.8701 1486.19 50.5368 M1462.76 21.5091 L1462.76 46.046 L1474.52 46.046 Q1481.28 46.046 1484.71 42.9442 Q1488.18 39.7961 1488.18 33.7313 Q1488.18 27.6665 1484.71 24.611 Q1481.28 21.5091 1474.52 21.5091 L1462.76 21.5091 Z\" fill=\"#000000\" fill-rule=\"evenodd\" fill-opacity=\"1\" /><path clip-path=\"url(#clip450)\" d=\"M1528.5 11.7407 Q1524.62 17.7129 1522.72 23.5462 Q1520.82 29.3795 1520.82 35.3517 Q1520.82 41.3239 1522.72 47.2035 Q1524.62 53.083 1528.5 59.0089 L1523.83 59.0089 Q1519.48 52.9442 1517.3 47.0183 Q1515.12 41.1387 1515.12 35.3517 Q1515.12 29.5647 1517.3 23.6851 Q1519.43 17.8518 1523.83 11.7407 L1528.5 11.7407 Z\" fill=\"#000000\" fill-rule=\"evenodd\" fill-opacity=\"1\" /><path clip-path=\"url(#clip450)\" d=\"M1540.49 46.9257 L1549.94 46.9257 L1549.94 18.6388 L1539.62 20.5369 L1539.62 15.1666 L1550.26 13.361 L1556.61 13.361 L1556.61 46.9257 L1566.1 46.9257 L1566.1 52.0182 L1540.49 52.0182 L1540.49 46.9257 Z\" fill=\"#000000\" fill-rule=\"evenodd\" fill-opacity=\"1\" /><path clip-path=\"url(#clip450)\" d=\"M1576.05 11.7407 L1580.73 11.7407 Q1585.12 17.8518 1587.3 23.6851 Q1589.43 29.5647 1589.43 35.3517 Q1589.43 41.1387 1587.3 47.0183 Q1585.12 52.9442 1580.73 59.0089 L1576.05 59.0089 Q1579.94 53.083 1581.84 47.2035 Q1583.78 41.3239 1583.78 35.3517 Q1583.78 29.3795 1581.84 23.5462 Q1579.94 17.7129 1576.05 11.7407 Z\" fill=\"#000000\" fill-rule=\"evenodd\" fill-opacity=\"1\" /></svg>\n"
      ]
     },
     "execution_count": 13,
     "metadata": {},
     "output_type": "execute_result"
    }
   ],
   "source": [
    "m = 7; n = 5;\n",
    "R0 = ones(m, n);\n",
    "R1 = ones(m, n);\n",
    "R1[2:2:end,:] .-= 0.1;\n",
    "R1[1,:] .= -1;\n",
    "R1[2:end,1] .= 0;\n",
    "plot(imshow(R0), imshow(R1), colorbar=false, layout=(1,2), plot_title =\"R⁽⁰⁾            ⇒            R⁽¹⁾\")"
   ]
  },
  {
   "cell_type": "markdown",
   "id": "049c92cc",
   "metadata": {
    "cell_style": "split",
    "slideshow": {
     "slide_type": "-"
    }
   },
   "source": [
    "- We want an action such that\n",
    "\n",
    "$$U_1 \\underbrace{r_1^{(0)}}_{a_1} = \\alpha e_1$$"
   ]
  },
  {
   "cell_type": "markdown",
   "id": "2094101d",
   "metadata": {
    "slideshow": {
     "slide_type": "subslide"
    }
   },
   "source": [
    "If\n",
    "\n",
    "$$\n",
    "U_1 r_1^{(0)} = \\alpha e_1,\n",
    "$$\n",
    "\n",
    "what can $\\alpha$ be?\n",
    "\n",
    "(Hint: unitary transformations preserve the 2-norm)"
   ]
  },
  {
   "cell_type": "markdown",
   "id": "b2a9b970",
   "metadata": {
    "slideshow": {
     "slide_type": "fragment"
    }
   },
   "source": [
    "$$ \\|\\alpha e_1\\|_2 = \\| U_1 r_1^{(0)} \\|_2 = \\| r_1^{(0)} \\|_2$$\n",
    "\n",
    "$$ \\|\\alpha e_1 \\|_2 = |\\alpha| \\|e_1\\|_2 = |\\alpha|$$\n",
    "\n",
    "$$ \\Rightarrow |\\alpha| = \\| r_1^{(0)} \\|_2 $$"
   ]
  },
  {
   "cell_type": "markdown",
   "id": "358dbc9e",
   "metadata": {
    "slideshow": {
     "slide_type": "subslide"
    }
   },
   "source": [
    "### Geometrically\n",
    "\n",
    "In $\\mathbb{R}$, there are only two possibilities:"
   ]
  },
  {
   "attachments": {
    "householder2.png": {
     "image/png": "[encoded data removed]"
    }
   },
   "cell_type": "markdown",
   "id": "cceb040d",
   "metadata": {
    "cell_style": "split"
   },
   "source": [
    "![householder2.png](attachment:householder2.png)"
   ]
  },
  {
   "attachments": {
    "householder1.png": {
     "image/png": "[encoded data removed]"
    }
   },
   "cell_type": "markdown",
   "id": "109b4efa",
   "metadata": {
    "cell_style": "split"
   },
   "source": [
    "![householder1.png](attachment:householder1.png)"
   ]
  },
  {
   "cell_type": "markdown",
   "id": "090ddf03",
   "metadata": {
    "slideshow": {
     "slide_type": "subslide"
    }
   },
   "source": [
    "### The simplest unitary matrix that maps $a_1$ into $\\mathrm{span}\\{e_1\\}$ is a _Householder reflector_\n",
    "\n",
    "First defined algebraically:"
   ]
  },
  {
   "cell_type": "markdown",
   "id": "efd6fe4c",
   "metadata": {
    "cell_style": "split",
    "slideshow": {
     "slide_type": "-"
    }
   },
   "source": [
    "$$\n",
    "\\begin{aligned}\n",
    "\\phi &= \\mathrm{sign}(a_{11}) & [(\\phi e_1)^* a_1 = |a_{11}|]\n",
    "\\\\\n",
    "\\tilde{u}_1 &= \\frac{\\overbrace{-\\phi \\|a_1\\| e_1}^{\\text{target}} - a_1}{2} & \\text{[half the difference]} \\\\\n",
    "\\tilde{v}_1 &= \\frac{-\\phi \\|a_1\\| e_1 + a_1}{2} & \\text{[midpoint]} \\\\\n",
    "u_1 &= \\frac{\\tilde{u}_1}{\\|\\tilde{u}_1\\|} \\\\\n",
    "U_1 &= I - 2 u_1 u_1^*\n",
    "\\end{aligned}\n",
    "$$"
   ]
  },
  {
   "cell_type": "markdown",
   "id": "12aa70d7",
   "metadata": {
    "cell_style": "split",
    "slideshow": {
     "slide_type": "fragment"
    }
   },
   "source": [
    "- $\\tilde{v}_1 + \\tilde{u}_1 = -\\phi \\|a_1\\| e_1$\n",
    "\n",
    "- $\\tilde{v}_1 - \\tilde{u}_1 = a_1$"
   ]
  },
  {
   "cell_type": "markdown",
   "id": "2f6bc38d",
   "metadata": {
    "cell_style": "split",
    "slideshow": {
     "slide_type": "fragment"
    }
   },
   "source": [
    "- $\\tilde{u}_1$ and $\\tilde{v}_1$ are orthogonal: $\\tilde{u}_1^* \\tilde{v}_1$ =\n",
    "\n",
    "$$\\begin{gather}\n",
    "\\frac{1}{4}(\\|a_1\\|^2 \\underbrace{(\\phi e_1)^*(\\phi e_1)}_{1} \\\\ - \\|a_1\\| \\underbrace{(\\phi e_1)^* a_1}_{|a_{11}|}  + \\|a_1\\| \\underbrace{a_1^*(\\phi e_1)}_{|a_{11}|}\\\\  - a_1^* a_1) \\\\ = 0\\end{gather}$$"
   ]
  },
  {
   "cell_type": "markdown",
   "id": "82674a0f",
   "metadata": {
    "slideshow": {
     "slide_type": "subslide"
    }
   },
   "source": [
    "### Claim: $U_1$ is unitary and $U_1 a_1 = - \\phi \\|a_1\\|e_1$\n",
    "\n",
    "_Proof._"
   ]
  },
  {
   "cell_type": "markdown",
   "id": "aa7b7ea5",
   "metadata": {
    "cell_style": "split",
    "slideshow": {
     "slide_type": "-"
    }
   },
   "source": [
    "$$\n",
    "\\begin{aligned}\n",
    "\\phi &= \\mathrm{sign}(a_{11}) & [(\\phi e_1)^* a_1 = |a_{11}|]\n",
    "\\\\\n",
    "\\tilde{u}_1 &= \\frac{-\\phi \\|a_1\\| e_1 - a_1}{2} \\\\\n",
    "\\tilde{v}_1 &= \\frac{-\\phi \\|a_1\\| e_1 + a_1}{2} \\\\\n",
    "u_1 &= \\frac{\\tilde{u}_1}{\\|\\tilde{u}_1\\|} \\\\\n",
    "U_1 &= I - 2 u_1 u_1^*\n",
    "\\end{aligned}\n",
    "$$"
   ]
  },
  {
   "cell_type": "markdown",
   "id": "3efe0252",
   "metadata": {
    "cell_style": "split",
    "slideshow": {
     "slide_type": "fragment"
    }
   },
   "source": [
    "- $U_1$ is unitary because it is equal to $(I - 2P_1)$ where $P_1$ is the orthogonal projector onto $\\mathrm{span}\\{u_1\\}$."
   ]
  },
  {
   "cell_type": "markdown",
   "id": "6fd25d44",
   "metadata": {
    "cell_style": "split",
    "slideshow": {
     "slide_type": "fragment"
    }
   },
   "source": [
    "- $U_1 \\tilde{u}_1 = (I - 2P_1) \\tilde{u}_1 = \\tilde{u}_1 - 2 \\underbrace{P_1 \\tilde{u}_1}_{\\tilde{u}_1} = - \\tilde{u}_1$\n",
    "- $U_1 \\tilde{v}_1 = (I - 2P_1) \\tilde{v}_1\n",
    "= \\tilde{v}_1 - 2 \\underbrace{P_1 \\tilde{v}_1}_{0} = \\tilde{v}_1$"
   ]
  },
  {
   "cell_type": "markdown",
   "id": "db48f3fd",
   "metadata": {
    "slideshow": {
     "slide_type": "fragment"
    }
   },
   "source": [
    "$$\\Rightarrow U_1 a_1 = U_1 (\\tilde v_1 - \\tilde u_1) = \\tilde v_1 + \\tilde u_1 = -\\phi \\|a_1\\|e_1$$"
   ]
  },
  {
   "attachments": {
    "householder4.png": {
     "image/png": "[encoded data removed]"
    }
   },
   "cell_type": "markdown",
   "id": "b9ae7fe7",
   "metadata": {
    "slideshow": {
     "slide_type": "subslide"
    }
   },
   "source": [
    "### Geometrically\n",
    "\n",
    "![householder4.png](attachment:householder4.png)"
   ]
  },
  {
   "cell_type": "markdown",
   "id": "a31c9eca",
   "metadata": {
    "slideshow": {
     "slide_type": "subslide"
    }
   },
   "source": [
    "### Exercise (T&B Exercise 10.1)\n",
    "\n",
    "Determine the (a) eigenvalues, (b) determinant, and (c) singular values of a Householder reflector.\n",
    "\n"
   ]
  },
  {
   "cell_type": "markdown",
   "id": "ba69529f",
   "metadata": {
    "slideshow": {
     "slide_type": "subslide"
    }
   },
   "source": [
    "### In action"
   ]
  },
  {
   "cell_type": "code",
   "execution_count": 14,
   "id": "bb015476",
   "metadata": {
    "cell_style": "split"
   },
   "outputs": [
    {
     "data": {
      "text/plain": [
       "householder_vector (generic function with 1 method)"
      ]
     },
     "execution_count": 14,
     "metadata": {},
     "output_type": "execute_result"
    }
   ],
   "source": [
    "function householder_vector(x)\n",
    "    \"\"\"\n",
    "    Compute the vector of the Householder\n",
    "    reflector that sends x to a multiple of\n",
    "    e₁\n",
    "    \"\"\"\n",
    "    u = copy(x)\n",
    "    xnorm = norm(x)\n",
    "    phi = sign(u[1])\n",
    "    u[1] += phi * xnorm # u = x + sign(x₁)||x|| e₁\n",
    "    unorm = norm(u)\n",
    "    u /= unorm\n",
    "    return u\n",
    "end"
   ]
  },
  {
   "cell_type": "code",
   "execution_count": 15,
   "id": "7d634232",
   "metadata": {
    "cell_style": "split"
   },
   "outputs": [
    {
     "data": {
      "text/plain": [
       "householder_reflect (generic function with 1 method)"
      ]
     },
     "execution_count": 15,
     "metadata": {},
     "output_type": "execute_result"
    }
   ],
   "source": [
    "function householder_reflect(u,v)\n",
    "    \"\"\"\n",
    "    Apply the Householder reflector defined by\n",
    "    u to v\n",
    "    \"\"\"\n",
    "    return v - 2*u*(u'*v)\n",
    "end"
   ]
  },
  {
   "cell_type": "code",
   "execution_count": 16,
   "id": "fde5806e",
   "metadata": {
    "cell_style": "split"
   },
   "outputs": [
    {
     "data": {
      "text/plain": [
       "householder_reflect_left (generic function with 1 method)"
      ]
     },
     "execution_count": 16,
     "metadata": {},
     "output_type": "execute_result"
    }
   ],
   "source": [
    "function householder_reflect_left(vstar,u)\n",
    "    \"\"\"\n",
    "    Apply the Householder reflector defined by\n",
    "    u to row vector vstar\n",
    "    \"\"\"\n",
    "    return vstar - 2*(vstar*u)*u'\n",
    "end"
   ]
  },
  {
   "cell_type": "markdown",
   "id": "1346f733",
   "metadata": {
    "slideshow": {
     "slide_type": "subslide"
    }
   },
   "source": [
    "### Why $x \\mapsto - \\mathrm{sign}(x_1)\\|x\\|_2 e_1$ and not $x \\mapsto \\mathrm{sign}(x_1)\\|x\\|_2 e_1$?"
   ]
  },
  {
   "cell_type": "code",
   "execution_count": 17,
   "id": "aa4401e7",
   "metadata": {
    "cell_style": "split"
   },
   "outputs": [],
   "source": [
    "function householder_vector(x)\n",
    "    u = copy(x)\n",
    "    xnorm = norm(x)\n",
    "    phi = sign(u[1])\n",
    "    u[1] += phi * xnorm #  |u[1]| ≥  |x[1]|\n",
    "    unorm = norm(u)     # || u || ≥ || x ||\n",
    "    u /= unorm # errors in denominator here\n",
    "    return u\n",
    "end;"
   ]
  },
  {
   "cell_type": "code",
   "execution_count": 18,
   "id": "5cdc602b",
   "metadata": {
    "cell_style": "split",
    "hideCode": false,
    "slideshow": {
     "slide_type": "-"
    }
   },
   "outputs": [],
   "source": [
    "function householder_vector_unstable(x)\n",
    "    u = copy(x)\n",
    "    xnorm = norm(x)\n",
    "    phi = sign(u[1])\n",
    "    u[1] -= phi * xnorm #  |u[1]| ≤  |x[1]|\n",
    "    unorm = norm(u)     # || u || ≤ || x ||\n",
    "    u /= unorm # errors in denominator here\n",
    "    return u\n",
    "end;"
   ]
  },
  {
   "cell_type": "markdown",
   "id": "50a4b203",
   "metadata": {},
   "source": [
    "Suppose we have made a previous error and in place of $x_1$ we have $x_1 + \\delta$:\n",
    "\n",
    "$$u_1 \\gets (x_1+\\delta) + \\mathrm{sign}(x_1) \\|x\\|; \\quad \\check u_1 \\gets (x_1 + \\delta) - \\mathrm{sign}(x_1) \\|x\\|.$$\n",
    "\n",
    "In either case we have a $|\\delta|$ error in $u_1$ or $\\check u_1$, but it is a larger _relative error_ for $\\check u_1$ than $u_1$:\n",
    "\n",
    "$$ \\frac{|\\delta|}{\\underbrace{|u_1|}_{|x_1| + \\|x\\|}} \\leq \\frac{|\\delta|}{\\underbrace{|\\check u_1|}_{|x_1| - \\|x\\|}} $$\n",
    "\n",
    "This matters when we normalize by $\\|u\\|$ on line 7."
   ]
  },
  {
   "cell_type": "markdown",
   "id": "caea152d",
   "metadata": {
    "slideshow": {
     "slide_type": "subslide"
    }
   },
   "source": [
    "### From step 1 to step $j$"
   ]
  },
  {
   "cell_type": "code",
   "execution_count": 19,
   "id": "f1248041",
   "metadata": {
    "cell_style": "split",
    "hideCode": true,
    "slideshow": {
     "slide_type": "-"
    }
   },
   "outputs": [
    {
     "data": {
      "image/svg+xml": [
       "<?xml version=\"1.0\" encoding=\"utf-8\"?>\n",
       "<svg xmlns=\"http://www.w3.org/2000/svg\" xmlns:xlink=\"http://www.w3.org/1999/xlink\" width=\"500\" height=\"500\" viewBox=\"0 0 2000 2000\">\n",
       "<defs>\n",
       "  <clipPath id=\"clip490\">\n",
       "    <rect x=\"0\" y=\"0\" width=\"2000\" height=\"2000\"/>\n",
       "  </clipPath>\n",
       "</defs>\n",
       "<path clip-path=\"url(#clip490)\" d=\"\n",
       "M0 2000 L2000 2000 L2000 0 L0 0  Z\n",
       "  \" fill=\"#ffffff\" fill-rule=\"evenodd\" fill-opacity=\"1\"/>\n",
       "<defs>\n",
       "  <clipPath id=\"clip491\">\n",
       "    <rect x=\"400\" y=\"200\" width=\"1401\" height=\"1401\"/>\n",
       "  </clipPath>\n",
       "</defs>\n",
       "<path clip-path=\"url(#clip490)\" d=\"\n",
       "M108.177 1865.17 L967.092 1865.17 L967.092 147.244 L108.177 147.244  Z\n",
       "  \" fill=\"#ffffff\" fill-rule=\"evenodd\" fill-opacity=\"1\"/>\n",
       "<defs>\n",
       "  <clipPath id=\"clip492\">\n",
       "    <rect x=\"108\" y=\"147\" width=\"860\" height=\"1719\"/>\n",
       "  </clipPath>\n",
       "</defs>\n",
       "<g clip-path=\"url(#clip492)\">\n",
       "<image width=\"859\" height=\"1202\" xlink:href=\"data:image/png;base64,\n",
       "iVBORw0KGgoAAAANSUhEUgAAA1sAAASyCAYAAABA0PHBAAAaS0lEQVR4nOzZsU3DUBSGUYwspQ5L\n",
       "MARLMAnzsASjMImL1G5iVkjBpys550zwl+97d/n4fjteAAAA+Fev0wMAAADOSGwBAAAExBYAAEBA\n",
       "bAEAAATEFgAAQEBsAQAABMQWAABAQGwBAAAExBYAAEBAbAEAAATEFgAAQEBsAQAABMQWAABAQGwB\n",
       "AAAExBYAAEBAbAEAAATEFgAAQEBsAQAABMQWAABAQGwBAAAExBYAAEBAbAEAAATEFgAAQEBsAQAA\n",
       "BMQWAABAQGwBAAAExBYAAEBAbAEAAATEFgAAQEBsAQAABMQWAABAQGwBAAAExBYAAEBAbAEAAATE\n",
       "FgAAQEBsAQAABMQWAABAQGwBAAAExBYAAEBAbAEAAATEFgAAQEBsAQAABMQWAABAQGwBAAAExBYA\n",
       "AEBAbAEAAATEFgAAQEBsAQAABMQWAABAQGwBAAAExBYAAEBAbAEAAATEFgAAQEBsAQAABMQWAABA\n",
       "QGwBAAAExBYAAEBAbAEAAATEFgAAQEBsAQAABMQWAABAQGwBAAAExBYAAEBAbAEAAATEFgAAQEBs\n",
       "AQAABMQWAABAQGwBAAAExBYAAEBAbAEAAATEFgAAQEBsAQAABMQWAABAQGwBAAAExBYAAEBAbAEA\n",
       "AATEFgAAQEBsAQAABMQWAABAQGwBAAAExBYAAEBAbAEAAATEFgAAQEBsAQAABMQWAABAQGwBAAAE\n",
       "xBYAAEBAbAEAAATEFgAAQEBsAQAABMQWAABAQGwBAAAExBYAAEBAbAEAAATEFgAAQEBsAQAABMQW\n",
       "AABAQGwBAAAExBYAAEBAbAEAAATEFgAAQEBsAQAABMQWAABAQGwBAAAExBYAAEBAbAEAAATEFgAA\n",
       "QEBsAQAABMQWAABAQGwBAAAExBYAAEBAbAEAAATEFgAAQEBsAQAABMQWAABAQGwBAAAExBYAAEBA\n",
       "bAEAAATEFgAAQEBsAQAABMQWAABAQGwBAAAExBYAAEBAbAEAAATEFgAAQEBsAQAABMQWAABAQGwB\n",
       "AAAExBYAAEBAbAEAAATEFgAAQEBsAQAABMQWAABAQGwBAAAExBYAAEBAbAEAAATEFgAAQEBsAQAA\n",
       "BMQWAABAQGwBAAAExBYAAEBAbAEAAATEFgAAQEBsAQAABMQWAABAQGwBAAAExBYAAEBAbAEAAATE\n",
       "FgAAQEBsAQAABMQWAABAQGwBAAAExBYAAEBAbAEAAATEFgAAQEBsAQAABMQWAABAQGwBAAAExBYA\n",
       "AEBAbAEAAATEFgAAQEBsAQAABMQWAABAQGwBAAAExBYAAEBAbAEAAATEFgAAQEBsAQAABMQWAABA\n",
       "QGwBAAAExBYAAEBAbAEAAATEFgAAQGDZtu2YHgGP+vx5n54AAAAPcdkCAAAIiC0AAICA2AIAAAiI\n",
       "LQAAgIDYAgAACIgtAACAgNgCAAAIiC0AAICA2AIAAAiILQAAgIDYAgAACIgtAACAgNgCAAAIiC0A\n",
       "AICA2AIAAAiILQAAgIDYAgAACIgtAACAgNgCAAAIiC0AAICA2AIAAAiILQAAgIDYAgAACIgtAACA\n",
       "gNgCAAAIiC0AAICA2AIAAAiILQAAgIDYAgAACIgtAACAgNgCAAAIiC0AAICA2AIAAAiILQAAgIDY\n",
       "AgAACIgtAACAgNgCAAAIiC0AAICA2AIAAAiILQAAgIDYAgAACIgtAACAgNgCAAAIiC0AAICA2AIA\n",
       "AAiILQAAgIDYAgAACIgtAACAgNgCAAAIiC0AAICA2AIAAAiILQAAgIDYAgAACIgtAACAgNgCAAAI\n",
       "iC0AAICA2AIAAAiILQAAgIDYAgAACIgtAACAgNgCAAAIiC0AAICA2AIAAAiILQAAgIDYAgAACIgt\n",
       "AACAgNgCAAAIiC0AAICA2AIAAAiILQAAgIDYAgAACIgtAACAgNgCAAAIiC0AAICA2AIAAAiILQAA\n",
       "gIDYAgAACIgtAACAgNgCAAAIiC0AAICA2AIAAAiILQAAgIDYAgAACIgtAACAgNgCAAAIiC0AAICA\n",
       "2AIAAAiILQAAgIDYAgAACIgtAACAgNgCAAAIiC0AAICA2AIAAAiILQAAgIDYAgAACIgtAACAgNgC\n",
       "AAAIiC0AAICA2AIAAAiILQAAgIDYAgAACIgtAACAgNgCAAAIiC0AAICA2AIAAAiILQAAgIDYAgAA\n",
       "CIgtAACAgNgCAAAIiC0AAICA2AIAAAiILQAAgIDYAgAACIgtAACAgNgCAAAIiC0AAICA2AIAAAiI\n",
       "LQAAgIDYAgAACIgtAACAgNgCAAAIiC0AAICA2AIAAAiILQAAgIDYAgAACIgtAACAgNgCAAAIiC0A\n",
       "AICA2AIAAAiILQAAgIDYAgAACIgtAACAgNgCAAAIiC0AAICA2AIAAAiILQAAgIDYAgAACIgtAACA\n",
       "gNgCAAAIiC0AAICA2AIAAAiILQAAgIDYAgAACIgtAACAgNgCAAAIiC0AAICA2AIAAAiILQAAgIDY\n",
       "AgAACIgtAACAgNgCAAAIiC0AAICA2AIAAAiILQAAgIDYAgAACIgtAACAgNgCAAAIiC0AAICA2AIA\n",
       "AAiILQAAgIDYAgAACIgtAACAgNgCAAAIiC0AAICA2AIAAAiILQAAgIDYAgAACIgtAACAgNgCAAAI\n",
       "LNu2HdMjAM7o92ufngAADHLZAgAACIgtAACAgNgCAAAIiC0AAICA2AIAAAiILQAAgIDYAgAACIgt\n",
       "AACAgNgCAAAIiC0AAICA2AIAAAiILQAAgIDYAgAACIgtAACAgNgCAAAIiC0AAICA2AIAAAiILQAA\n",
       "gIDYAgAACIgtAACAgNgCAAAIiC0AAICA2AIAAAiILQAAgIDYAgAACIgtAACAgNgCAAAIiC0AAICA\n",
       "2AIAAAiILQAAgIDYAgAACIgtAACAgNgCAAAIiC0AAICA2AIAAAiILQAAgIDYAgAACIgtAACAgNgC\n",
       "AAAIiC0AAICA2AIAAAiILQAAgIDYAgAACIgtAACAgNgCAAAIiC0AAICA2AIAAAiILQAAgIDYAgAA\n",
       "CIgtAACAgNgCAAAIiC0AAICA2AIAAAiILQAAgIDYAgAACIgtAACAgNgCAAAIiC0AAICA2AIAAAiI\n",
       "LQAAgIDYAgAACIgtAACAgNgCAAAIiC0AAICA2AIAAAiILQAAgIDYAgAACIgtAACAgNgCAAAIiC0A\n",
       "AICA2AIAAAiILQAAgIDYAgAACIgtAACAgNgCAAAIiC0AAICA2AIAAAiILQAAgIDYAgAACIgtAACA\n",
       "gNgCAAAIiC0AAICA2AIAAAiILQAAgIDYAgAACIgtAACAgNgCAAAIiC0AAICA2AIAAAiILQAAgIDY\n",
       "AgAACIgtAACAgNgCAAAIiC0AAICA2AIAAAiILQAAgIDYAgAACIgtAACAgNgCAAAIiC0AAICA2AIA\n",
       "AAiILQAAgIDYAgAACIgtAACAgNgCAAAIiC0AAICA2AIAAAiILQAAgIDYAgAACIgtAACAgNgCAAAI\n",
       "iC0AAICA2AIAAAiILQAAgIDYAgAACIgtAACAgNgCAAAIiC0AAICA2AIAAAiILQAAgIDYAgAACIgt\n",
       "AACAgNgCAAAIiC0AAICA2AIAAAiILQAAgIDYAgAACIgtAACAgNgCAAAIiC0AAICA2AIAAAiILQAA\n",
       "gIDYAgAACIgtAACAgNgCAAAIiC0AAICA2AIAAAiILQAAgIDYAgAACIgtAACAgNgCAAAIiC0AAICA\n",
       "2AIAAAiILQAAgIDYAgAACIgtAACAgNgCAAAIiC0AAICA2AIAAAiILQAAgIDYAgAACIgtAACAgNgC\n",
       "AAAIiC0AAICA2AIAAAiILQAAgIDYAgAACIgtAACAgNgCAAAIiC0AAICA2AIAAAiILQAAgIDYAgAA\n",
       "CIgtAACAgNgCAAAIiC0AAICA2AIAAAiILQAAgIDYAgAACIgtAACAwDo9AOCsLlf/WQDwzLwEAAAA\n",
       "AmILAAAgILYAAAACYgsAACAgtgAAAAJiCwAAICC2AAAAAmILAAAgILYAAAACYgsAACAgtgAAAAJi\n",
       "CwAAICC2AAAAAmILAAAgILYAAAACYgsAACAgtgAAAAJiCwAAICC2AAAAAmILAAAgILYAAAACYgsA\n",
       "ACAgtgAAAAJiCwAAICC2AAAAAmILAAAgILYAAAACYgsAACAgtgAAAAJiCwAAICC2AAAAAmILAAAg\n",
       "ILYAAAACYgsAACAgtgAAAAJiCwAAICC2AAAAAmILAAAgILYAAAACYgsAACAgtgAAAAJiCwAAICC2\n",
       "AAAAAmILAAAgILYAAAACYgsAACAgtgAAAAJiCwAAICC2AAAAAmILAAAgILYAAAACYgsAACAgtgAA\n",
       "AAJiCwAAICC2AAAAAmILAAAgILYAAAACYgsAACAgtgAAAAJiCwAAICC2AAAAAmILAAAgILYAAAAC\n",
       "YgsAACAgtgAAAAJiCwAAICC2AAAAAmILAAAgILYAAAACYgsAACAgtgAAAAJiCwAAICC2AAAAAmIL\n",
       "AAAgILYAAAACYgsAACAgtgAAAAJiCwAAICC2AAAAAmILAAAgILYAAAACYgsAACAgtgAAAAJiCwAA\n",
       "ICC2AAAAAmILAAAgILYAAAACYgsAACAgtgAAAAJiCwAAICC2AAAAAmILAAAgILYAAAACYgsAACAg\n",
       "tgAAAAJiCwAAICC2AAAAAmILAAAgILYAAAACYgsAACAgtgAAAAJiCwAAICC2AAAAAmILAAAgILYA\n",
       "AAACYgsAACAgtgAAAAJiCwAAICC2AAAAAmILAAAgILYAAAACYgsAACAgtgAAAAJiCwAAICC2AAAA\n",
       "AmILAAAgILYAAAACYgsAACAgtgAAAAJiCwAAICC2AAAAAmILAAAgILYAAAACYgsAACAgtgAAAAJi\n",
       "CwAAICC2AAAAAmILAAAgILYAAAACYgsAACAgtgAAAAJiCwAAICC2AAAAAmILAAAgILYAAAACYgsA\n",
       "ACAgtgAAAAJiCwAAICC2AAAAAmILAAAgILYAAAACYgsAACAgtgAAAAJiCwAAICC2AAAAAmILAAAg\n",
       "ILYAAAACYgsAACAgtgAAAAJiCwAAICC2AAAAAmILAAAgILYAAAACYgsAACAgtgAAAAJiCwAAICC2\n",
       "AAAAAmILAAAgILYAAAACYgsAACAgtgAAAAJiCwAAICC2AAAAAmILAAAgILYAAAACYgsAACAgtgAA\n",
       "AAJiCwAAICC2AAAAAmILAAAgILYAAAACYgsAACCwTg8AOKv9dp+eAAAMctkCAAAIiC0AAICA2AIA\n",
       "AAiILQAAgIDYAgAACIgtAACAgNgCAAAIiC0AAICA2AIAAAiILQAAgIDYAgAACIgtAACAgNgCAAAI\n",
       "iC0AAICA2AIAAAiILQAAgIDYAgAACIgtAACAgNgCAAAIiC0AAICA2AIAAAiILQAAgIDYAgAACIgt\n",
       "AACAgNgCAAAIiC0AAICA2AIAAAiILQAAgIDYAgAACIgtAACAgNgCAAAIiC0AAICA2AIAAAiILQAA\n",
       "gIDYAgAACIgtAACAgNgCAAAIiC0AAICA2AIAAAiILQAAgIDYAgAACIgtAACAgNgCAAAIiC0AAICA\n",
       "2AIAAAiILQAAgIDYAgAACIgtAACAgNgCAAAIiC0AAICA2AIAAAiILQAAgIDYAgAACIgtAACAgNgC\n",
       "AAAIiC0AAICA2AIAAAiILQAAgIDYAgAACIgtAACAgNgCAAAIiC0AAICA2AIAAAiILQAAgIDYAgAA\n",
       "CIgtAACAgNgCAAAIiC0AAICA2AIAAAiILQAAgIDYAgAACIgtAACAgNgCAAAIiC0AAICA2AIAAAiI\n",
       "LQAAgIDYAgAACIgtAACAgNgCAAAIiC0AAICA2AIAAAiILQAAgIDYAgAACIgtAACAgNgCAAAIiC0A\n",
       "AICA2AIAAAiILQAAgIDYAgAACIgtAACAgNgCAAAIiC0AAICA2AIAAAiILQAAgIDYAgAACIgtAACA\n",
       "gNgCAAAIiC0AAICA2AIAAAiILQAAgIDYAgAACIgtAACAgNgCAAAIiC0AAICA2AIAAAiILQAAgIDY\n",
       "AgAACIgtAACAgNgCAAAIiC0AAICA2AIAAAiILQAAgIDYAgAACIgtAACAgNgCAAAIiC0AAICA2AIA\n",
       "AAiILQAAgIDYAgAACIgtAACAgNgCAAAIiC0AAICA2AIAAAiILQAAgIDYAgAACIgtAACAgNgCAAAI\n",
       "iC0AAICA2AIAAAiILQAAgIDYAgAACIgtAACAgNgCAAAIiC0AAICA2AIAAAiILQAAgIDYAgAACIgt\n",
       "AACAgNgCAAAIiC0AAICA2AIAAAiILQAAgIDYAgAACIgtAACAgNgCAAAIiC0AAICA2AIAAAiILQAA\n",
       "gIDYAgAACIgtAACAgNgCAAAIiC0AAICA2AIAAAiILQAAgIDYAgAACIgtAACAgNgCAAAIiC0AAICA\n",
       "2AIAAAiILQAAgIDYAgAACIgtAACAgNgCAAAIiC0AAICA2AIAAAiILQAAgIDYAgAACIgtAACAgNgC\n",
       "AAAIiC0AAIDAOj0A4KwuV/9ZAPDMvAQAAAACYgsAACAgtgAAAAJiCwAAICC2AAAAAmILAAAgILYA\n",
       "AAACYgsAACAgtgAAAAJiCwAAICC2AAAAAmILAAAgILYAAAACYgsAACAgtgAAAAJiCwAAICC2AAAA\n",
       "AmILAAAgILYAAAACYgsAACAgtgAAAAJiCwAAICC2AAAAAmILAAAgILYAAAACYgsAACAgtgAAAAJi\n",
       "CwAAICC2AAAAAmILAAAgILYAAAACYgsAACAgtgAAAAJiCwAAICC2AAAAAmILAAAgILYAAAACYgsA\n",
       "ACAgtgAAAAJiCwAAICC2AAAAAmILAAAgILYAAAACYgsAACAgtgAAAAJiCwAAICC2AAAAAmILAAAg\n",
       "ILYAAAACYgsAACAgtgAAAAJiCwAAICC2AAAAAmILAAAgILYAAAACYgsAACAgtgAAAAJiCwAAICC2\n",
       "AAAAAmILAAAgILYAAAACYgsAACAgtgAAAAJiCwAAICC2AAAAAmILAAAgILYAAAACYgsAACAgtgAA\n",
       "AAJiCwAAICC2AAAAAmILAAAgILYAAAACYgsAACAgtgAAAAJiCwAAICC2AAAAAmILAAAgILYAAAAC\n",
       "YgsAACAgtgAAAAJiCwAAICC2AAAAAmILAAAgILYAAAACYgsAACAgtgAAAAJiCwAAICC2AAAAAmIL\n",
       "AAAgILYAAAACYgsAACAgtgAAAAJiCwAAICC2AAAAAmILAAAgILYAAAACYgsAACAgtgAAAAJiCwAA\n",
       "ICC2AAAAAmILAAAgILYAAAACYgsAACAgtgAAAAJiCwAAICC2AAAAAmILAAAgILYAAAACYgsAACAg\n",
       "tgAAAAJiCwAAICC2AAAAAmILAAAgILYAAAACYgsAACAgtgAAAAJiCwAAICC2AAAAAmILAAAgILYA\n",
       "AAACYgsAACAgtgAAAAJiCwAAICC2AAAAAmILAAAgILYAAAACYgsAACAgtgAAAAJiCwAAICC2AAAA\n",
       "AmILAAAgILYAAAACYgsAACAgtgAAAAJiCwAAICC2AAAAAmILAAAgILYAAAACYgsAACAgtgAAAAJi\n",
       "CwAAICC2AAAAAmILAAAgILYAAAACYgsAACAgtgAAAAJiCwAAICC2AAAAAmILAAAgILYAAAACYgsA\n",
       "ACAgtgAAAAJiCwAAICC2AAAAAmILAAAgILYAAAACYgsAACAgtgAAAAJiCwAAICC2AAAAAmILAAAg\n",
       "ILYAAAACYgsAACAgtgAAAAJiCwAAICC2AAAAAmILAAAgILYAAAAC6/QAgLPab/fpCQDAIJctAACA\n",
       "gNgCAAAIiC0AAICA2AIAAAiILQAAgIDYAgAACIgtAACAgNgCAAAIiC0AAICA2AIAAAiILQAAgIDY\n",
       "AgAACIgtAACAgNgCAAAIiC0AAICA2AIAAAiILQAAgIDYAgAACIgtAACAgNgCAAAIiC0AAICA2AIA\n",
       "AAiILQAAgIDYAgAACIgtAACAgNgCAAAIiC0AAICA2AIAAAiILQAAgIDYAgAACIgtAACAgNgCAAAI\n",
       "iC0AAICA2AIAAAiILQAAgIDYAgAACIgtAACAgNgCAAAIiC0AAICA2AIAAAiILQAAgIDYAgAACIgt\n",
       "AACAgNgCAAAIiC0AAICA2AIAAAiILQAAgIDYAgAACIgtAACAgNgCAAAIiC0AAICA2AIAAAiILQAA\n",
       "gIDYAgAACIgtAACAgNgCAAAIiC0AAICA2AIAAAiILQAAgIDYAgAACIgtAACAgNgCAAAIiC0AAICA\n",
       "2AIAAAiILQAAgIDYAgAACIgtAACAgNgCAAAIiC0AAICA2AIAAAiILQAAgIDYAgAACIgtAACAgNgC\n",
       "AAAIiC0AAICA2AIAAAiILQAAgIDYAgAACIgtAACAgNgCAAAIiC0AAICA2AIAAAiILQAAgIDYAgAA\n",
       "CIgtAACAgNgCAAAIiC0AAICA2AIAAAiILQAAgIDYAgAACIgtAACAgNgCAAAIiC0AAICA2AIAAAiI\n",
       "LQAAgIDYAgAACIgtAACAgNgCAAAIiC0AAICA2AIAAAiILQAAgIDYAgAACIgtAACAgNgCAAAIiC0A\n",
       "AICA2AIAAAiILQAAgIDYAgAACIgtAACAgNgCAAAIiC0AAICA2AIAAAiILQAAgIDYAgAACIgtAACA\n",
       "gNgCAAAIiC0AAICA2AIAAAiILQAAgIDYAgAACIgtAACAgNgCAAAIiC0AAICA2AIAAAiILQAAgIDY\n",
       "AgAACIgtAACAgNgCAAAIiC0AAICA2AIAAAiILQAAgIDYAgAACIgtAACAgNgCAAAIiC0AAICA2AIA\n",
       "AAiILQAAgIDYgr/261gAAAAAYJC/9Sj2lUUAADCQLQAAgIFsAQAADGQLAABgIFsAAAAD2QIAABjI\n",
       "FgAAwEC2AAAABrIFAAAwkC0AAICBbAEAAAxkCwAAYCBbAAAAA9kCAAAYyBYAAMBAtgAAAAayBQAA\n",
       "MJAtAACAgWwBAAAMZAsAAGAgWwAAAAPZAgAAGMgWAADAQLYAAAAGsgUAADCQLQAAgIFsAQAADGQL\n",
       "AABgIFsAAAAD2QIAABjIFgAAwEC2AAAABrIFAAAwkC0AAICBbAEAAAwCdO4cJjIhKi8AAAAASUVO\n",
       "RK5CYII=\n",
       "\" transform=\"translate(108, 405)\"/>\n",
       "</g>\n",
       "<path clip-path=\"url(#clip490)\" d=\"\n",
       "M1122.51 1865.17 L1952.76 1865.17 L1952.76 147.244 L1122.51 147.244  Z\n",
       "  \" fill=\"#ffffff\" fill-rule=\"evenodd\" fill-opacity=\"1\"/>\n",
       "<defs>\n",
       "  <clipPath id=\"clip493\">\n",
       "    <rect x=\"1122\" y=\"147\" width=\"831\" height=\"1719\"/>\n",
       "  </clipPath>\n",
       "</defs>\n",
       "<g clip-path=\"url(#clip493)\">\n",
       "<image width=\"830\" height=\"1162\" xlink:href=\"data:image/png;base64,\n",
       "iVBORw0KGgoAAAANSUhEUgAAAz4AAASKCAYAAACfN7s1AAAY10lEQVR4nO3ZsWkDQRRFUa9ZUCw3\n",
       "oSLUhCpxPW5CpbiSCRwr8Sp3JBbMsJdzKnjRwJ2/XL8+tjcAAICw99kDAAAA/pvwAQAA8oQPAACQ\n",
       "J3wAAIA84QMAAOQJHwAAIE/4AAAAecIHAADIEz4AAECe8AEAAPKEDwAAkCd8AACAPOEDAADkCR8A\n",
       "ACBP+AAAAHnCBwAAyBM+AABAnvABAADyhA8AAJAnfAAAgDzhAwAA5AkfAAAgT/gAAAB5wgcAAMgT\n",
       "PgAAQJ7wAQAA8oQPAACQJ3wAAIA84QMAAOQJHwAAIE/4AAAAecIHAADIEz4AAECe8AEAAPKEDwAA\n",
       "kCd8AACAPOEDAADkCR8AACBP+AAAAHnCBwAAyBM+AABAnvABAADyhA8AAJAnfAAAgDzhAwAA5Akf\n",
       "AAAgT/gAAAB5wgcAAMgTPgAAQJ7wAQAA8oQPAACQJ3wAAIA84QMAAOQJHwAAIE/4AAAAecIHAADI\n",
       "Ez4AAECe8AEAAPKEDwAAkCd8AACAPOEDAADkCR8AACBP+AAAAHnCBwAAyBM+AABAnvABAADyhA8A\n",
       "AJAnfAAAgDzhAwAA5AkfAAAgT/gAAAB5wgcAAMgTPgAAQJ7wAQAA8oQPAACQJ3wAAIA84QMAAOQJ\n",
       "HwAAIE/4AAAAecIHAADIEz4AAECe8AEAAPKEDwAAkCd8AACAPOEDAADkCR8AACBP+AAAAHnCBwAA\n",
       "yBM+AABAnvABAADyhA8AAJAnfAAAgDzhAwAA5AkfAAAgT/gAAAB5wgcAAMgTPgAAQJ7wAQAA8oQP\n",
       "AACQJ3wAAIA84QMAAOQJHwAAIE/4AAAAecIHAADIEz4AAECe8AEAAPKEDwAAkCd8AACAPOEDAADk\n",
       "CR8AACBP+AAAAHnCBwAAyBM+AABAnvABAADyhA8AAJAnfAAAgDzhAwAA5AkfAAAgT/gAAAB5wgcA\n",
       "AMgTPgAAQJ7wAQAA8oQPAACQJ3wAAIA84QMAAOQJHwAAIE/4AAAAecIHAADIEz4AAECe8AEAAPKE\n",
       "DwAAkCd8AACAPOEDAADkCR8AACBP+AAAAHnCBwAAyBM+AABAnvABAADyhA8AAJAnfAAAgDzhAwAA\n",
       "5AkfAAAgT/gAAAB5wgcAAMgTPgAAQJ7wAQAA8oQPAACQJ3wAAIA84QMAAOQJHwAAIE/4AAAAecIH\n",
       "AADIEz4AAECe8AEAAPKEDwAAkCd8AACAPOEDAADkCR8AACBP+AAAAHnCBwAAyBM+AABAnvABAADy\n",
       "hA8AAJAnfAAAgDzhAwAA5AkfAAAgT/gAAAB5yxhjmz0C/rrdL7MnAAAQ4uIDAADkCR8AACBP+AAA\n",
       "AHnCBwAAyBM+AABAnvABAADyhA8AAJAnfAAAgDzhAwAA5AkfAAAgT/gAAAB5wgcAAMgTPgAAQJ7w\n",
       "AQAA8oQPAACQJ3wAAIA84QMAAOQJHwAAIE/4AAAAecIHAADIEz4AAECe8AEAAPKEDwAAkCd8AACA\n",
       "POEDAADkCR8AACBP+AAAAHnCBwAAyBM+AABAnvABAADyhA8AAJAnfAAAgDzhAwAA5AkfAAAgT/gA\n",
       "AAB5wgcAAMgTPgAAQJ7wAQAA8oQPAACQJ3wAAIA84QMAAOQJHwAAIE/4AAAAecIHAADIEz4AAECe\n",
       "8AEAAPKEDwAAkCd8AACAPOEDAADkCR8AACBP+AAAAHnCBwAAyBM+AABAnvABAADyhA8AAJAnfAAA\n",
       "gDzhAwAA5AkfAAAgT/gAAAB5wgcAAMgTPgAAQJ7wAQAA8oQPAACQJ3wAAIA84QMAAOQJHwAAIE/4\n",
       "AAAAecIHAADIEz4AAECe8AEAAPKEDwAAkCd8AACAPOEDAADkCR8AACBP+AAAAHnCBwAAyBM+AABA\n",
       "nvABAADyhA8AAJAnfAAAgDzhAwAA5AkfAAAgT/gAAAB5wgcAAMgTPgAAQJ7wAQAA8oQPAACQJ3wA\n",
       "AIA84QMAAOQJHwAAIE/4AAAAecIHAADIEz4AAECe8AEAAPKEDwAAkCd8AACAPOEDAADkCR8AACBP\n",
       "+AAAAHnCBwAAyBM+AABAnvABAADyhA8AAJAnfAAAgDzhAwAA5AkfAAAgT/gAAAB5wgcAAMgTPgAA\n",
       "QJ7wAQAA8oQPAACQJ3wAAIA84QMAAOQJHwAAIE/4AAAAecIHAADIEz4AAECe8AEAAPKEDwAAkCd8\n",
       "AACAPOEDAADkCR8AACBP+AAAAHnCBwAAyBM+AABAnvABAADyhA8AAJAnfAAAgDzhAwAA5AkfAAAg\n",
       "T/gAAAB5wgcAAMgTPgAAQJ7wAQAA8oQPAACQJ3wAAIA84QMAAOQJHwAAIE/4AAAAecIHAADIEz4A\n",
       "AECe8AEAAPKEDwAAkCd8AACAPOEDAADkCR8AACBP+AAAAHnCBwAAyBM+AABAnvABAADyhA8AAJAn\n",
       "fAAAgDzhAwAA5AkfAAAgT/gAAAB5wgcAAMgTPgAAQJ7wAQAA8oQPAACQJ3wAAIA84QMAAOQJHwAA\n",
       "IE/4AAAAecIHAADIW8YY2+wRAEdwu19mTwAAdnLxAQAA8oQPAACQJ3wAAIA84QMAAOQJHwAAIE/4\n",
       "AAAAecIHAADIEz4AAECe8AEAAPKEDwAAkCd8AACAPOEDAADkCR8AACBP+AAAAHnCBwAAyBM+AABA\n",
       "nvABAADyhA8AAJAnfAAAgDzhAwAA5AkfAAAgT/gAAAB5wgcAAMgTPgAAQJ7wAQAA8oQPAACQJ3wA\n",
       "AIA84QMAAOQJHwAAIE/4AAAAecIHAADIEz4AAECe8AEAAPKEDwAAkCd8AACAPOEDAADkCR8AACBP\n",
       "+AAAAHnCBwAAyBM+AABAnvABAADyhA8AAJAnfAAAgDzhAwAA5AkfAAAgT/gAAAB5wgcAAMgTPgAA\n",
       "QJ7wAQAA8oQPAACQJ3wAAIA84QMAAOQJHwAAIE/4AAAAecIHAADIEz4AAECe8AEAAPKEDwAAkCd8\n",
       "AACAPOEDAADkCR8AACBP+AAAAHnCBwAAyBM+AABAnvABAADyhA8AAJAnfAAAgDzhAwAA5AkfAAAg\n",
       "T/gAAAB5wgcAAMgTPgAAQJ7wAQAA8oQPAACQJ3wAAIA84QMAAOQJHwAAIE/4AAAAecIHAADIEz4A\n",
       "AECe8AEAAPKEDwAAkCd8AACAPOEDAADkCR8AACBP+AAAAHnCBwAAyBM+AABAnvABAADyhA8AAJAn\n",
       "fAAAgDzhAwAA5AkfAAAgT/gAAAB5wgcAAMgTPgAAQJ7wAQAA8oQPAACQJ3wAAIA84QMAAOQJHwAA\n",
       "IE/4AAAAecIHAADIEz4AAECe8AEAAPKEDwAAkCd8AACAPOEDAADkCR8AACBP+AAAAHnCBwAAyBM+\n",
       "AABAnvABAADyhA8AAJAnfAAAgDzhAwAA5AkfAAAgT/gAAAB5wgcAAMgTPgAAQJ7wAQAA8oQPAACQ\n",
       "J3wAAIA84QMAAOQJHwAAIE/4AAAAecIHAADIEz4AAECe8AEAAPKEDwAAkCd8AACAPOEDAADkCR8A\n",
       "ACBP+AAAAHnCBwAAyBM+AABAnvABAADyhA8AAJAnfAAAgDzhAwAA5AkfAAAgT/gAAAB5wgcAAMgT\n",
       "PgAAQJ7wAQAA8oQPAACQJ3wAAIA84QMAAOQJHwAAIE/4AAAAecIHAADIEz4AAECe8AEAAPKEDwAA\n",
       "kCd8AACAPOEDAADkCR8AACBP+AAAAHnCBwAAyBM+AABAnvABAADyhA8AAJAnfAAAgDzhAwAA5C1j\n",
       "jG32CABgn+/Px+wJAIfg4gMAAOQJHwAAIE/4AAAAecIHAADIEz4AAECe8AEAAPKEDwAAkCd8AACA\n",
       "POEDAADkCR8AACBP+AAAAHnCBwAAyBM+AABAnvABAADyhA8AAJAnfAAAgDzhAwAA5AkfAAAgT/gA\n",
       "AAB5wgcAAMgTPgAAQJ7wAQAA8oQPAACQJ3wAAIA84QMAAOQJHwAAIE/4AAAAecIHAADIEz4AAECe\n",
       "8AEAAPKEDwAAkCd8AACAPOEDAADkCR8AACBP+AAAAHnCBwAAyBM+AABAnvABAADyhA8AAJAnfAAA\n",
       "gDzhAwAA5AkfAAAgT/gAAAB5wgcAAMgTPgAAQJ7wAQAA8oQPAACQJ3wAAIA84QMAAOQJHwAAIE/4\n",
       "AAAAecIHAADIEz4AAECe8AEAAPKEDwAAkCd8AACAPOEDAADkCR8AACBP+AAAAHnCBwAAyBM+AABA\n",
       "nvABAADyhA8AAJAnfAAAgDzhAwAA5AkfAAAgT/gAAAB5wgcAAMgTPgAAQJ7wAQAA8oQPAACQJ3wA\n",
       "AIA84QMAAOQJHwAAIE/4AAAAecIHAADIEz4AAECe8AEAAPKEDwAAkCd8AACAPOEDAADkCR8AACBP\n",
       "+AAAAHnCBwAAyBM+AABAnvABAADyhA8AAJAnfAAAgDzhAwAA5AkfAAAgT/gAAAB5wgcAAMgTPgAA\n",
       "QJ7wAQAA8oQPAACQJ3wAAIA84QMAAOQJHwAAIE/4AAAAecIHAADIEz4AAECe8AEAAPKEDwAAkCd8\n",
       "AACAPOEDAADkCR8AACBP+AAAAHnCBwAAyBM+AABAnvABAADyhA8AAJAnfAAAgDzhAwAA5AkfAAAg\n",
       "T/gAAAB5wgcAAMgTPgAAQJ7wAQAA8oQPAACQJ3wAAIA84QMAAOQJHwAAIE/4AAAAecIHAADIEz4A\n",
       "AECe8AEAAPKEDwAAkCd8AACAPOEDAADkCR8AACBP+AAAAHnCBwAAyBM+AABAnvABAADyhA8AAJAn\n",
       "fAAAgDzhAwAA5AkfAAAgT/gAAAB5wgcAAMgTPgAAQJ7wAQAA8oQPAACQJ3wAAIA84QMAAOQJHwAA\n",
       "IE/4AAAAecIHAADIEz4AAECe8AEAAPKEDwAAkCd8AACAPOEDAADkCR8AACBP+AAAAHnCBwAAyBM+\n",
       "AABAnvABAADyhA8AAJAnfAAAgDzhAwAA5AkfAAAgT/gAAAB5wgcAAMgTPgAAQJ7wAQAA8tbZAwCA\n",
       "/U5nf5gAr/BaAgAAecIHAADIEz4AAECe8AEAAPKEDwAAkCd8AACAPOEDAADkCR8AACBP+AAAAHnC\n",
       "BwAAyBM+AABAnvABAADyhA8AAJAnfAAAgDzhAwAA5AkfAAAgT/gAAAB5wgcAAMgTPgAAQJ7wAQAA\n",
       "8oQPAACQJ3wAAIA84QMAAOQJHwAAIE/4AAAAecIHAADIEz4AAECe8AEAAPKEDwAAkCd8AACAPOED\n",
       "AADkCR8AACBP+AAAAHnCBwAAyBM+AABAnvABAADyhA8AAJAnfAAAgDzhAwAA5AkfAAAgT/gAAAB5\n",
       "wgcAAMgTPgAAQJ7wAQAA8oQPAACQJ3wAAIA84QMAAOQJHwAAIE/4AAAAecIHAADIEz4AAECe8AEA\n",
       "APKEDwAAkCd8AACAPOEDAADkCR8AACBP+AAAAHnCBwAAyBM+AABAnvABAADyhA8AAJAnfAAAgDzh\n",
       "AwAA5AkfAAAgT/gAAAB5wgcAAMgTPgAAQJ7wAQAA8oQPAACQJ3wAAIA84QMAAOQJHwAAIE/4AAAA\n",
       "ecIHAADIEz4AAECe8AEAAPKEDwAAkCd8AACAPOEDAADkCR8AACBP+AAAAHnCBwAAyBM+AABAnvAB\n",
       "AADyhA8AAJAnfAAAgDzhAwAA5AkfAAAgT/gAAAB5wgcAAMgTPgAAQJ7wAQAA8oQPAACQJ3wAAIA8\n",
       "4QMAAOQJHwAAIE/4AAAAecIHAADIEz4AAECe8AEAAPKEDwAAkCd8AACAPOEDAADkCR8AACBP+AAA\n",
       "AHnCBwAAyBM+AABAnvABAADyhA8AAJAnfAAAgDzhAwAA5AkfAAAgT/gAAAB5wgcAAMgTPgAAQJ7w\n",
       "AQAA8oQPAACQJ3wAAIA84QMAAOQJHwAAIE/4AAAAecIHAADIEz4AAECe8AEAAPKEDwAAkCd8AACA\n",
       "POEDAADkCR8AACBP+AAAAHnCBwAAyBM+AABAnvABAADyhA8AAJAnfAAAgDzhAwAA5AkfAAAgT/gA\n",
       "AAB5wgcAAMgTPgAAQJ7wAQAA8oQPAACQJ3wAAIA84QMAAOQJHwAAIE/4AAAAecIHAADIEz4AAECe\n",
       "8AEAAPKEDwAAkCd8AACAPOEDAADkCR8AACBP+AAAAHnCBwAAyBM+AABAnvABAADyhA8AAJAnfAAA\n",
       "gDzhAwAA5AkfAAAgT/gAAAB5wgcAAMgTPgAAQJ7wAQAA8tbZAwCA/R4/v7MnAByCiw8AAJAnfAAA\n",
       "gDzhAwAA5AkfAAAgT/gAAAB5wgcAAMgTPgAAQJ7wAQAA8oQPAACQJ3wAAIA84QMAAOQJHwAAIE/4\n",
       "AAAAecIHAADIEz4AAECe8AEAAPKEDwAAkCd8AACAPOEDAADkCR8AACBP+AAAAHnCBwAAyBM+AABA\n",
       "nvABAADyhA8AAJAnfAAAgDzhAwAA5AkfAAAgT/gAAAB5wgcAAMgTPgAAQJ7wAQAA8oQPAACQJ3wA\n",
       "AIA84QMAAOQJHwAAIE/4AAAAecIHAADIEz4AAECe8AEAAPKEDwAAkCd8AACAPOEDAADkCR8AACBP\n",
       "+AAAAHnCBwAAyBM+AABAnvABAADyhA8AAJAnfAAAgDzhAwAA5AkfAAAgT/gAAAB5wgcAAMgTPgAA\n",
       "QJ7wAQAA8oQPAACQJ3wAAIA84QMAAOQJHwAAIE/4AAAAecIHAADIEz4AAECe8AEAAPKEDwAAkCd8\n",
       "AACAPOEDAADkCR8AACBP+AAAAHnCBwAAyBM+AABAnvABAADyhA8AAJAnfAAAgDzhAwAA5AkfAAAg\n",
       "T/gAAAB5wgcAAMgTPgAAQJ7wAQAA8oQPAACQJ3wAAIA84QMAAOQJHwAAIE/4AAAAecIHAADIEz4A\n",
       "AECe8AEAAPKEDwAAkCd8AACAPOEDAADkCR8AACBP+AAAAHnCBwAAyBM+AABAnvABAADyhA8AAJAn\n",
       "fAAAgDzhAwAA5AkfAAAgT/gAAAB5wgcAAMgTPgAAQJ7wAQAA8oQPAACQJ3wAAIA84QMAAOQJHwAA\n",
       "IE/4AAAAecIHAADIEz4AAECe8AEAAPKEDwAAkCd8AACAPOEDAADkCR8AACBP+AAAAHnCBwAAyBM+\n",
       "AABAnvABAADyhA8AAJAnfAAAgDzhAwAA5AkfAAAgT/gAAAB5wgcAAMgTPgAAQJ7wAQAA8oQPAACQ\n",
       "J3wAAIA84QMAAOQJHwAAIE/4AAAAecIHAADIEz4AAECe8AEAAPKEDwAAkCd8AACAPOEDAADkCR8A\n",
       "ACBP+AAAAHnCBwAAyBM+AABAnvABAADyhA8AAJAnfAAAgDzhAwAA5AkfAAAgT/gAAAB5wgcAAMgT\n",
       "PgAAQJ7wAQAA8oQPAACQJ3wAAIA84QMAAOQJHwAAIE/4AAAAecIHAADIEz4AAECe8AEAAPKEDwAA\n",
       "kCd8AACAPOEDAADkCR8AACBvnT0AANjvdPaHCfAKryUAAJAnfAAAgDzhAwAA5AkfAAAgT/gAAAB5\n",
       "wgcAAMgTPgAAQJ7wAQAA8oQPAACQJ3wAAIA84QMAAOQJHwAAIE/4AAAAecIHAADIEz4AAECe8AEA\n",
       "APKEDwAAkCd8AACAPOEDAADkCR8AACBP+AAAAHnCBwAAyBM+AABAnvABAADyhA8AAJAnfAAAgDzh\n",
       "AwAA5AkfAAAgT/gAAAB5wgcAAMgTPgAAQJ7wAQAA8oQPAACQJ3wAAIA84QMAAOQJHwAAIE/4AAAA\n",
       "ecIHAADIEz4AAECe8AEAAPKEDwAAkCd8AACAPOEDAADkCR8AACBP+AAAAHnCBwAAyBM+AABAnvAB\n",
       "AADyhA8AAJAnfAAAgDzhAwAA5AkfAAAgT/gAAAB5wgcAAMgTPgAAQJ7wAQAA8oQPAACQJ3wAAIA8\n",
       "4QMAAOQJHwAAIE/4AAAAecIHAADIEz4AAECe8AEAAPKEDwAAkCd8AACAPOEDAADkCR8AACBP+AAA\n",
       "AHnCBwAAyBM+AABAnvABAADyhA8AAJAnfAAAgDzhAwAA5AkfAAAgT/gAAAB5wgcAAMgTPgAAQJ7w\n",
       "AQAA8oQPAACQJ3wAAIA84QMAAOQJHwAAIE/4AAAAecIHAADIEz4AAECe8AEAAPKEDwAAkCd8AACA\n",
       "POEDAADkCR8AACBP+AAAAHnCBwAAyBM+AABAnvABAADyhA8AAJAnfAAAgDzhAwAA5AkfAAAgT/gA\n",
       "AAB5wgcAAMgTPgAAQJ7wAQAA8oQPAACQJ3wAAIA84QMAAOQJHwAAIE/4AAAAecIHAADIEz4AAECe\n",
       "8AEAAPKEDwAAkCd8AACAPOEDAADkCR8AACBP+AAAAHnCBwAAyBM+AABAnvABAADyhA8AAJAnfAAA\n",
       "gDzhAwAA5AkfAAAgT/gAAAB5wgcAAMgTPgAAQJ7wAQAA8oQPAACQJ3wAAIA84QMAAOQJHwAAIE/4\n",
       "AAAAecIHAADIEz4AAECe8AEAAPKEDwAAkCd8AACAPOEDAADkCR8AACBP+AAAAHnCBwAAyBM+AABA\n",
       "nvABAADyhA8AAJAnfAAAgDzhAwAA5AkfAAAgT/gAAAB5wgcAAMgTPgAAQJ7wAQAA8oQPAACQJ3wA\n",
       "AIA84QMAAOQJHwAAIE/4AAAAecIHAADIEz4AAECe8AEAAPKEDwAAkCd8AACAPOEDAADkCR8AACBP\n",
       "+AAAAHnCBwAAyHsCGCkd0cP6Ac4AAAAASUVORK5CYII=\n",
       "\" transform=\"translate(1123, 425)\"/>\n",
       "</g>\n",
       "<path clip-path=\"url(#clip490)\" d=\"\n",
       "M136.85 100 L1952.76 100 L1952.76 0 L136.85 0  Z\n",
       "  \" fill=\"#ffffff\" fill-rule=\"evenodd\" fill-opacity=\"1\"/>\n",
       "<defs>\n",
       "  <clipPath id=\"clip494\">\n",
       "    <rect x=\"136\" y=\"0\" width=\"1817\" height=\"101\"/>\n",
       "  </clipPath>\n",
       "</defs>\n",
       "<path clip-path=\"url(#clip490)\" d=\"M510.361 50.5368 Q513.371 51.5553 516.195 54.8886 Q519.065 58.2219 521.935 64.0552 L531.426 82.944 L521.38 82.944 L512.537 65.2126 Q509.111 58.2682 505.871 55.9997 Q502.676 53.7312 497.121 53.7312 L486.936 53.7312 L486.936 82.944 L477.584 82.944 L477.584 13.824 L498.695 13.824 Q510.547 13.824 516.38 18.7777 Q522.213 23.7314 522.213 33.7313 Q522.213 40.259 519.158 44.5646 Q516.148 48.8701 510.361 50.5368 M486.936 21.5091 L486.936 46.046 L498.695 46.046 Q505.454 46.046 508.88 42.9442 Q512.352 39.7961 512.352 33.7313 Q512.352 27.6665 508.88 24.611 Q505.454 21.5091 498.695 21.5091 L486.936 21.5091 Z\" fill=\"#000000\" fill-rule=\"evenodd\" fill-opacity=\"1\" /><path clip-path=\"url(#clip490)\" d=\"M552.676 11.7407 Q548.787 17.7129 546.889 23.5462 Q544.991 29.3795 544.991 35.3517 Q544.991 41.3239 546.889 47.2035 Q548.787 53.083 552.676 59.0089 L548 59.0089 Q543.648 52.9442 541.472 47.0183 Q539.297 41.1387 539.297 35.3517 Q539.297 29.5647 541.472 23.6851 Q543.602 17.8518 548 11.7407 L552.676 11.7407 Z\" fill=\"#000000\" fill-rule=\"evenodd\" fill-opacity=\"1\" /><path clip-path=\"url(#clip490)\" d=\"M563.093 22.9906 L568.463 22.9906 L568.463 52.5275 Q568.463 58.083 566.056 60.583 Q563.695 63.083 558.417 63.083 L556.38 63.083 L556.38 59.0089 L557.815 59.0089 Q560.87 59.0089 561.982 57.7589 Q563.093 56.509 563.093 52.5275 L563.093 22.9906 M563.093 11.6944 L568.463 11.6944 L568.463 17.7129 L563.093 17.7129 L563.093 11.6944 Z\" fill=\"#000000\" fill-rule=\"evenodd\" fill-opacity=\"1\" /><path clip-path=\"url(#clip490)\" d=\"M580.361 33.1757 L617.722 33.1757 L617.722 37.5739 L580.361 37.5739 L580.361 33.1757 Z\" fill=\"#000000\" fill-rule=\"evenodd\" fill-opacity=\"1\" /><path clip-path=\"url(#clip490)\" d=\"M631.287 46.9257 L640.731 46.9257 L640.731 18.6388 L630.407 20.5369 L630.407 15.1666 L641.055 13.361 L647.398 13.361 L647.398 46.9257 L656.888 46.9257 L656.888 52.0182 L631.287 52.0182 L631.287 46.9257 Z\" fill=\"#000000\" fill-rule=\"evenodd\" fill-opacity=\"1\" /><path clip-path=\"url(#clip490)\" d=\"M666.842 11.7407 L671.518 11.7407 Q675.916 17.8518 678.092 23.6851 Q680.222 29.5647 680.222 35.3517 Q680.222 41.1387 678.092 47.0183 Q675.916 52.9442 671.518 59.0089 L666.842 59.0089 Q670.731 53.083 672.629 47.2035 Q674.574 41.3239 674.574 35.3517 Q674.574 29.3795 672.629 23.5462 Q670.731 17.7129 666.842 11.7407 Z\" fill=\"#000000\" fill-rule=\"evenodd\" fill-opacity=\"1\" /><path clip-path=\"url(#clip490)\" d=\"M1107.95 58.083 L1112.81 53.2219 L1107.95 48.3609 L1052.44 48.3609 L1052.44 42.8053 L1102.4 42.8053 L1098.09 38.4998 L1103.65 32.9443 L1121.84 51.1386 L1121.84 55.3053 L1103.65 73.4996 L1098.09 67.9441 L1102.4 63.6385 L1052.44 63.6385 L1052.44 58.083 L1107.95 58.083 Z\" fill=\"#000000\" fill-rule=\"evenodd\" fill-opacity=\"1\" /><path clip-path=\"url(#clip490)\" d=\"M1530.22 50.5368 Q1533.23 51.5553 1536.05 54.8886 Q1538.92 58.2219 1541.79 64.0552 L1551.28 82.944 L1541.24 82.944 L1532.39 65.2126 Q1528.97 58.2682 1525.73 55.9997 Q1522.53 53.7312 1516.98 53.7312 L1506.79 53.7312 L1506.79 82.944 L1497.44 82.944 L1497.44 13.824 L1518.55 13.824 Q1530.4 13.824 1536.24 18.7777 Q1542.07 23.7314 1542.07 33.7313 Q1542.07 40.259 1539.01 44.5646 Q1536 48.8701 1530.22 50.5368 M1506.79 21.5091 L1506.79 46.046 L1518.55 46.046 Q1525.31 46.046 1528.74 42.9442 Q1532.21 39.7961 1532.21 33.7313 Q1532.21 27.6665 1528.74 24.611 Q1525.31 21.5091 1518.55 21.5091 L1506.79 21.5091 Z\" fill=\"#000000\" fill-rule=\"evenodd\" fill-opacity=\"1\" /><path clip-path=\"url(#clip490)\" d=\"M1572.53 11.7407 Q1568.64 17.7129 1566.74 23.5462 Q1564.85 29.3795 1564.85 35.3517 Q1564.85 41.3239 1566.74 47.2035 Q1568.64 53.083 1572.53 59.0089 L1567.86 59.0089 Q1563.5 52.9442 1561.33 47.0183 Q1559.15 41.1387 1559.15 35.3517 Q1559.15 29.5647 1561.33 23.6851 Q1563.46 17.8518 1567.86 11.7407 L1572.53 11.7407 Z\" fill=\"#000000\" fill-rule=\"evenodd\" fill-opacity=\"1\" /><path clip-path=\"url(#clip490)\" d=\"M1582.95 22.9906 L1588.32 22.9906 L1588.32 52.5275 Q1588.32 58.083 1585.91 60.583 Q1583.55 63.083 1578.27 63.083 L1576.24 63.083 L1576.24 59.0089 L1577.67 59.0089 Q1580.73 59.0089 1581.84 57.7589 Q1582.95 56.509 1582.95 52.5275 L1582.95 22.9906 M1582.95 11.6944 L1588.32 11.6944 L1588.32 17.7129 L1582.95 17.7129 L1582.95 11.6944 Z\" fill=\"#000000\" fill-rule=\"evenodd\" fill-opacity=\"1\" /><path clip-path=\"url(#clip490)\" d=\"M1598.64 11.7407 L1603.32 11.7407 Q1607.72 17.8518 1609.89 23.6851 Q1612.02 29.5647 1612.02 35.3517 Q1612.02 41.1387 1609.89 47.0183 Q1607.72 52.9442 1603.32 59.0089 L1598.64 59.0089 Q1602.53 53.083 1604.43 47.2035 Q1606.37 41.3239 1606.37 35.3517 Q1606.37 29.3795 1604.43 23.5462 Q1602.53 17.7129 1598.64 11.7407 Z\" fill=\"#000000\" fill-rule=\"evenodd\" fill-opacity=\"1\" /></svg>\n"
      ]
     },
     "execution_count": 19,
     "metadata": {},
     "output_type": "execute_result"
    }
   ],
   "source": [
    "m = 7; n = 5; j = 2;\n",
    "R = ones(m,n)\n",
    "R[j:2:end,:] .-= 0.1\n",
    "R[1:j,:] .= -1.0 + 0.01\n",
    "for i in 1:j\n",
    "    R[i+1:end,i] .= 0.\n",
    "end\n",
    "Rj = copy(R);\n",
    "j += 1\n",
    "R = ones(m,n)\n",
    "R[j:2:end,:] .-= 0.1\n",
    "R[1:j,:] .= -1.0 + 0.01\n",
    "for i in 1:j\n",
    "    R[i+1:end,i] .= 0.\n",
    "end\n",
    "Rjp1 = copy(R)\n",
    "plot(imshow(Rj), imshow(Rjp1), colorbar=false, layout=(1,2), plot_title =\"R⁽ʲ⁻¹⁾            ⇒            R⁽ʲ⁾\")"
   ]
  },
  {
   "cell_type": "markdown",
   "id": "489d0ea7",
   "metadata": {
    "cell_style": "split",
    "slideshow": {
     "slide_type": "-"
    }
   },
   "source": [
    "- Let $x^{(j)}$ be the _tail_ of column $j$,\n",
    "\n",
    "$$x^{(j)} = r_{j:m}^{(j-1)} \\in \\mathbb{C}^{m-(j-1)}$$\n",
    "\n",
    "- Compute the Householder vector $u^{(j)}$ for $x^{(j)}$ that makes the unitary matrix\n",
    "$\\tilde{U}_j$\n",
    "\n",
    "- Make $U_J$ by putting $\\tilde{U}_j$ on lower diagonal block"
   ]
  },
  {
   "cell_type": "markdown",
   "id": "8a65cab7",
   "metadata": {
    "cell_style": "center",
    "slideshow": {
     "slide_type": "subslide"
    }
   },
   "source": [
    "\n",
    "$$\n",
    "\\begin{bmatrix}\n",
    "& & & & & & \\\\\n",
    "& & & & & & \\\\\n",
    "& & & & & & \\\\\n",
    "& & & U_j & & & \\\\\n",
    "& & & & & & \\\\\n",
    "& & & & & & \\\\\n",
    "& & & & & & \\\\\n",
    "\\end{bmatrix}\n",
    "=\n",
    "\\left[\n",
    "\\begin{array}{cccc|ccc}\n",
    "1 & & & & & & \\\\\n",
    "& 1 & & & & & \\\\\n",
    "& & \\ddots & & & & \\\\\n",
    "& & & 1 & & & \\\\ \\hline\n",
    "& & & & & & \\\\\n",
    "& & & & & \\tilde{U}_j & \\\\\n",
    "& & & & & & \\\\\n",
    "\\end{array}\n",
    "\\right]\n",
    "$$"
   ]
  },
  {
   "cell_type": "markdown",
   "id": "5fc402eb",
   "metadata": {
    "slideshow": {
     "slide_type": "subslide"
    }
   },
   "source": [
    "### All together"
   ]
  },
  {
   "cell_type": "code",
   "execution_count": 20,
   "id": "17e19a01",
   "metadata": {},
   "outputs": [
    {
     "data": {
      "text/plain": [
       "householder_literal (generic function with 1 method)"
      ]
     },
     "execution_count": 20,
     "metadata": {},
     "output_type": "execute_result"
    }
   ],
   "source": [
    "function householder_literal(A)\n",
    "    m, n = size(A)\n",
    "    Q = Matrix{eltype(A)}(I, m, m)\n",
    "    R = copy(A)\n",
    "    for i = 1:n\n",
    "        x = R[i:m,i]\n",
    "        u = householder_vector(x)\n",
    "        R[i:m,i:n] = householder_reflect(u, R[i:m,i:n]) # apply reflector to trailing rows of R to make r_i upper\n",
    "        R[i+1:m,i] .= 0\n",
    "        Q[:,i:m] = householder_reflect_left(Q[:,i:m], u) # apply reflector to trailing columns of Q to multiply in U_i\n",
    "    end\n",
    "    return Q, R\n",
    "end"
   ]
  },
  {
   "cell_type": "markdown",
   "id": "f24af7d2",
   "metadata": {
    "slideshow": {
     "slide_type": "subslide"
    }
   },
   "source": [
    "### Recall our tests from last time"
   ]
  },
  {
   "cell_type": "code",
   "execution_count": 21,
   "id": "5fb90892",
   "metadata": {
    "slideshow": {
     "slide_type": "-"
    }
   },
   "outputs": [
    {
     "data": {
      "text/plain": [
       "qr_test (generic function with 4 methods)"
      ]
     },
     "execution_count": 21,
     "metadata": {},
     "output_type": "execute_result"
    }
   ],
   "source": [
    "reconstruction_error(A, Q, R) = norm(A - Q * R, 2)\n",
    "orthonormality_error(Q) = norm(I - Q[:,:]' * Q[:,:], 2)\n",
    "upper_triangularity_error(R) = norm(R - UpperTriangular(R), 2)\n",
    "function qr_test(A, Q, R, recon_tol=1.e-12, ortho_tol=1.e-12, triu_tol=0.0)\n",
    "    m, n = size(A)\n",
    "    p = min(m,n)\n",
    "    recon_err = reconstruction_error(A, Q, R)\n",
    "    ortho_err = orthonormality_error(Q)\n",
    "    triu_err = upper_triangularity_error(R[1:p,1:p])\n",
    "    println(\"Reconstruction error || A - Q R ||_F = $recon_err\")\n",
    "    println(\"Orthonormality error || I - Q'Q ||_F = $ortho_err\")\n",
    "    println(\"Upper-triangularity error || R - triu(R) ||_F = $triu_err\")\n",
    "    return (recon_err <= recon_tol) && (ortho_err <= ortho_tol) && (triu_err <= triu_tol) \n",
    "end"
   ]
  },
  {
   "cell_type": "code",
   "execution_count": 22,
   "id": "739c4a22",
   "metadata": {
    "cell_style": "center",
    "slideshow": {
     "slide_type": "-"
    }
   },
   "outputs": [
    {
     "name": "stdout",
     "output_type": "stream",
     "text": [
      "Reconstruction error || A - Q R ||_F = 2.612696276923717e-15\n",
      "Orthonormality error || I - Q'Q ||_F = 1.2434828975151222e-15\n",
      "Upper-triangularity error || R - triu(R) ||_F = 0.0\n"
     ]
    },
    {
     "data": {
      "text/plain": [
       "true"
      ]
     },
     "execution_count": 22,
     "metadata": {},
     "output_type": "execute_result"
    }
   ],
   "source": [
    "m = 7; n = 5;\n",
    "A = randn(m, n)\n",
    "Q, R = householder_literal(A);\n",
    "qr_test(A, Q, R)"
   ]
  },
  {
   "cell_type": "markdown",
   "id": "e9acbdc2",
   "metadata": {
    "slideshow": {
     "slide_type": "subslide"
    }
   },
   "source": [
    "### `householder_literal` is on par with `qr`"
   ]
  },
  {
   "cell_type": "code",
   "execution_count": 23,
   "id": "7c052c93",
   "metadata": {
    "hideCode": true,
    "slideshow": {
     "slide_type": "-"
    }
   },
   "outputs": [
    {
     "data": {
      "image/png": "[encoded data removed]"
     },
     "metadata": {},
     "output_type": "display_data"
    }
   ],
   "source": [
    "ortho_errs_hh = Float64[]\n",
    "recon_errs_hh = Float64[]\n",
    "ortho_errs_qr = Float64[]\n",
    "recon_errs_qr = Float64[]\n",
    "rang = π ./ (2:.1:20)\n",
    "for θ in rang\n",
    "    M = kahan(10, θ)\n",
    "    ϕ = eps(Float64)\n",
    "    M_p = copy(M[:,:])\n",
    "    rot = [cos(ϕ) sin(ϕ); -sin(ϕ) cos(ϕ)]\n",
    "    M_p[1:2,:] = rot * M[1:2,:]\n",
    "    Q_hh, R_hh = householder_literal(M_p)\n",
    "    Q_qr, R_qr = qr(M_p)\n",
    "    push!(ortho_errs_hh, orthonormality_error(Q_hh))\n",
    "    push!(recon_errs_hh, reconstruction_error(M_p, Q_hh, R_hh))\n",
    "    push!(ortho_errs_qr, orthonormality_error(Q_qr))\n",
    "    push!(recon_errs_qr, reconstruction_error(M_p, Q_qr, R_qr))\n",
    "end\n",
    "ymin=Inf\n",
    "ymax=0.\n",
    "for series in [ortho_errs_hh, ortho_errs_hh, recon_errs_qr, recon_errs_qr]\n",
    "    series[:] = max.(series[:], 0.001*eps())\n",
    "    ymin = min(ymin, minimum(series))\n",
    "    ymax = max(ymax, maximum(series))\n",
    "end\n",
    "ylo = eps()*0.01\n",
    "ymin = max(ymin, ylo)\n",
    "ymin *= 0.5\n",
    "ymax *= 2.0\n",
    "p1 = plot( rang .^-1, [max.(ylo,ortho_errs_hh) max.(ylo,recon_errs_hh)]\n",
    "    , yscale=:log10\n",
    "    , label=[\"orthonormality error\" \"reconstruction error\"]\n",
    "    , xlabel=\"Kahan matrix θ⁻¹\"\n",
    "    , title=\"householder_literal\"\n",
    "    , size=(1300,800)\n",
    "    , ylim=(ymin,2.0)\n",
    ")\n",
    "p2 = plot( rang .^-1, [max.(ylo,ortho_errs_qr) max.(ylo,recon_errs_qr)]\n",
    "    , yscale=:log10\n",
    "    , label=[\"orthonormality error\" \"reconstruction error\"]\n",
    "    , xlabel=\"Kahan matrix θ⁻¹\"\n",
    "    , title=\"julia qr\"\n",
    "    , size=(1300,800)\n",
    "    , ylim=(ymin,2.0)\n",
    ")\n",
    "draw(plot(p1,p2,layout=(1,2)))"
   ]
  },
  {
   "cell_type": "markdown",
   "id": "6d91f54d",
   "metadata": {
    "slideshow": {
     "slide_type": "slide"
    }
   },
   "source": [
    "## Householder QR performance"
   ]
  },
  {
   "cell_type": "markdown",
   "id": "101270e6",
   "metadata": {
    "slideshow": {
     "slide_type": "subslide"
    }
   },
   "source": [
    "### Work of applying one reflector\n",
    "\n",
    "- The work of applying\n",
    "\n",
    "  $$v \\gets v - 2 u (u^*v) = v - u (2*(u^*v))$$\n",
    "\n",
    "  is just one more flop than the work of applying a projection\n",
    "\n",
    "  $$v \\gets v - u (u^* v).$$\n",
    "  \n",
    "  This is $4 m$ flops if $u \\in \\mathbb{C}^m$."
   ]
  },
  {
   "cell_type": "markdown",
   "id": "6588089c",
   "metadata": {
    "slideshow": {
     "slide_type": "fragment"
    }
   },
   "source": [
    "- If we apply the reflector to a matrix $A \\in \\mathbb{C}^{m \\times k}$, the work is $4mk$."
   ]
  },
  {
   "cell_type": "code",
   "execution_count": 24,
   "id": "7fd6e8db",
   "metadata": {
    "slideshow": {
     "slide_type": "subslide"
    }
   },
   "outputs": [
    {
     "data": {
      "text/plain": [
       "householder_literal (generic function with 1 method)"
      ]
     },
     "execution_count": 24,
     "metadata": {},
     "output_type": "execute_result"
    }
   ],
   "source": [
    "function householder_literal(A)\n",
    "    m, n = size(A)\n",
    "    Q = Matrix{eltype(A)}(I, m, m)\n",
    "    R = copy(A)\n",
    "    for i = 1:n\n",
    "        x = R[i:m,i]                                     # x has length (m - (i-1))\n",
    "        u = householder_vector(x)                        # O(m - (i-1)) (lower order term)\n",
    "        R[i:m,i:n] = householder_reflect(u, R[i:m,i:n])  # length: (m - (i-1)); # vectors: (n - (i-1)) ⇒ 4(m-(i-1))(n-(i-1))\n",
    "        R[i+1:m,i] .= 0                                  # ignore\n",
    "        Q[:,i:m] = householder_reflect_left(Q[:,i:m], u) # length: (m - (i-1)); # vectors: m ⇒ 4(m-(i-1))m\n",
    "    end\n",
    "    return Q, R\n",
    "end"
   ]
  },
  {
   "cell_type": "markdown",
   "id": "ba99985d",
   "metadata": {},
   "source": [
    "- Work applying reflectors to $R$:\n",
    "\n",
    "  $$\\sum_{i=1}^n 4(m-(i-1))(n-(i-1)) = \\text{(change of variable)} \\sum_{k=1}^n 4(k + (m-n))k$$\n",
    "  $$ = \\frac{4}{3} n^3 + 2 (m - n) n^2 + \\text{lower order terms} = 2 mn^2 -\\frac{2}{3} n^3 + \\text{l.o.t.}$$"
   ]
  },
  {
   "cell_type": "markdown",
   "id": "8495dd5a",
   "metadata": {
    "slideshow": {
     "slide_type": "fragment"
    }
   },
   "source": [
    "- Work building $Q$: $\\sum_{i=1}^n 4 m(m -(i-1)) = 4m \\sum_{k=1}^n k + (m-n) = 4m^2 n - 2mn^2 + \\text{l.o.t.}$ "
   ]
  },
  {
   "cell_type": "markdown",
   "id": "4ae527f7",
   "metadata": {
    "slideshow": {
     "slide_type": "subslide"
    }
   },
   "source": [
    "### Building $Q$ ($O(m^2n)$) is more expensive than builiding $R$ ($O(mn^2)$), so avoid it\n",
    "\n",
    "- Collect the reflectors $\\{u_1, \\dots, u_n\\}$ (total cost of constructing all these: $O(mn)$)\n",
    "\n",
    "- The vectors are often stored in the _lower trapezoidal part_ of a 2D array $U$\n",
    "\n",
    "- $U_i$s were accumulated into $Q$ on the right,\n",
    "\n",
    "  $$Q = U_1 \\cdot U_2 \\cdot \\cdots \\cdot U_n,$$\n",
    "  \n",
    "  so apply the reflectors in reverse order to apply $Q$,\n",
    "  \n",
    "  $$Qv = U_1 (U_2 ( \\cdots ( U_n v ) \\cdots )).$$"
   ]
  },
  {
   "cell_type": "code",
   "execution_count": 25,
   "id": "0b42c948",
   "metadata": {
    "cell_style": "center"
   },
   "outputs": [
    {
     "data": {
      "text/plain": [
       "apply_Q (generic function with 1 method)"
      ]
     },
     "execution_count": 25,
     "metadata": {},
     "output_type": "execute_result"
    }
   ],
   "source": [
    "function apply_Q(U, v)\n",
    "    m, n = size(U)\n",
    "    y = copy(v)\n",
    "    for i in n:-1:1\n",
    "        y[i:end] -= U[i:end,i] * (2 * (U[i:end,i]' * y[i:end]))\n",
    "    end\n",
    "    return y\n",
    "end"
   ]
  },
  {
   "cell_type": "markdown",
   "id": "9a3d5aaf",
   "metadata": {
    "slideshow": {
     "slide_type": "subslide"
    }
   },
   "source": [
    "- To apply $Q^*$,\n",
    "\n",
    "  $$Q^* = U_n^* \\cdot U_{n-1}^* \\cdot \\cdots \\cdot U_1^*.$$\n",
    "  \n",
    "- But reflectors are hermitian, so to apply $Q^*$ apply reflectors in original order,\n",
    "\n",
    "  $$Q^* v = U_n(U_{n-1}(\\cdots(U_1 v) \\cdots )).$$"
   ]
  },
  {
   "cell_type": "code",
   "execution_count": 26,
   "id": "8c80abba",
   "metadata": {
    "cell_style": "center"
   },
   "outputs": [
    {
     "data": {
      "text/plain": [
       "apply_Qstar (generic function with 1 method)"
      ]
     },
     "execution_count": 26,
     "metadata": {},
     "output_type": "execute_result"
    }
   ],
   "source": [
    "function apply_Qstar(U, v)\n",
    "    m, n = size(U)\n",
    "    y = copy(v)\n",
    "    for i in 1:n\n",
    "        y[i:end] -= U[i:end,i] * (2 * (U[i:end,i]' * y[i:end]))\n",
    "    end\n",
    "    return y\n",
    "end"
   ]
  },
  {
   "cell_type": "markdown",
   "id": "a9ad58d3",
   "metadata": {
    "slideshow": {
     "slide_type": "subslide"
    }
   },
   "source": [
    "### Non-literal Householder QR: return reflectors $U$ with $R$"
   ]
  },
  {
   "cell_type": "code",
   "execution_count": 27,
   "id": "5804b2b7",
   "metadata": {},
   "outputs": [
    {
     "data": {
      "text/plain": [
       "householder_qr (generic function with 1 method)"
      ]
     },
     "execution_count": 27,
     "metadata": {},
     "output_type": "execute_result"
    }
   ],
   "source": [
    "function householder_qr(A)\n",
    "    m, n = size(A)\n",
    "    U = zeros(eltype(A), m, n)\n",
    "    R = copy(A)\n",
    "    for i = 1:n\n",
    "        U[i:m,i] = householder_vector(R[i:m,i])\n",
    "        R[i:m,i:n] = householder_reflect(U[i:m,i], R[i:m,i:n])\n",
    "        R[i+1:m,i] .= 0\n",
    "    end\n",
    "    return U, R\n",
    "end"
   ]
  },
  {
   "cell_type": "code",
   "execution_count": 28,
   "id": "b3f04648",
   "metadata": {
    "cell_style": "center",
    "slideshow": {
     "slide_type": "subslide"
    }
   },
   "outputs": [
    {
     "data": {
      "text/plain": [
       "0.0"
      ]
     },
     "execution_count": 28,
     "metadata": {},
     "output_type": "execute_result"
    }
   ],
   "source": [
    "m = 100; n = 50;\n",
    "A = randn(m, n);\n",
    "Q, R_lit = householder_literal(A)\n",
    "U, R_hh = householder_qr(A)\n",
    "norm(R_lit - R_hh, 2)"
   ]
  },
  {
   "cell_type": "code",
   "execution_count": 29,
   "id": "ac766f02",
   "metadata": {
    "cell_style": "split"
   },
   "outputs": [
    {
     "data": {
      "text/plain": [
       "6.49046272732731e-15"
      ]
     },
     "execution_count": 29,
     "metadata": {},
     "output_type": "execute_result"
    }
   ],
   "source": [
    "v = randn(m)\n",
    "Qv_lit = Q * v\n",
    "Qv_hh = apply_Q(U,v)\n",
    "norm(Qv_lit - Qv_hh, 2)"
   ]
  },
  {
   "cell_type": "code",
   "execution_count": 30,
   "id": "4ce2d28d",
   "metadata": {
    "cell_style": "split"
   },
   "outputs": [
    {
     "data": {
      "text/plain": [
       "5.899549451546023e-15"
      ]
     },
     "execution_count": 30,
     "metadata": {},
     "output_type": "execute_result"
    }
   ],
   "source": [
    "Qstarv_lit = Q' * v\n",
    "Qstarv_hh = apply_Qstar(U,v)\n",
    "norm(Qstarv_lit - Qstarv_hh, 2)"
   ]
  },
  {
   "cell_type": "markdown",
   "id": "9895b27d",
   "metadata": {
    "slideshow": {
     "slide_type": "subslide"
    }
   },
   "source": [
    "### `householder_qr` is very close to `qr`\n",
    "\n",
    "- The `LinearAlgebra.QRCompactWY` type of `qr().Q` is essentially the matrix $U$ containing the reflectors\n",
    "\n",
    "- The [LAPACK `*geqrf` fortran routines](http://netlib.org/lapack/lapack-3.1.1/html/dgeqrf.f.html) that higher-level languages call also are essentially Householder QR, but they pack (most of) $U$ and $R$ into the same output array:"
   ]
  },
  {
   "cell_type": "code",
   "execution_count": 31,
   "id": "49872eba",
   "metadata": {
    "hideCode": true
   },
   "outputs": [
    {
     "data": {
      "image/svg+xml": [
       "<?xml version=\"1.0\" encoding=\"utf-8\"?>\n",
       "<svg xmlns=\"http://www.w3.org/2000/svg\" xmlns:xlink=\"http://www.w3.org/1999/xlink\" width=\"500\" height=\"500\" viewBox=\"0 0 2000 2000\">\n",
       "<defs>\n",
       "  <clipPath id=\"clip540\">\n",
       "    <rect x=\"0\" y=\"0\" width=\"2000\" height=\"2000\"/>\n",
       "  </clipPath>\n",
       "</defs>\n",
       "<path clip-path=\"url(#clip540)\" d=\"\n",
       "M0 2000 L2000 2000 L2000 0 L0 0  Z\n",
       "  \" fill=\"#ffffff\" fill-rule=\"evenodd\" fill-opacity=\"1\"/>\n",
       "<defs>\n",
       "  <clipPath id=\"clip541\">\n",
       "    <rect x=\"400\" y=\"200\" width=\"1401\" height=\"1401\"/>\n",
       "  </clipPath>\n",
       "</defs>\n",
       "<path clip-path=\"url(#clip540)\" d=\"\n",
       "M108.177 1865.17 L1952.76 1865.17 L1952.76 153.712 L108.177 153.712  Z\n",
       "  \" fill=\"#ffffff\" fill-rule=\"evenodd\" fill-opacity=\"1\"/>\n",
       "<defs>\n",
       "  <clipPath id=\"clip542\">\n",
       "    <rect x=\"108\" y=\"153\" width=\"1846\" height=\"1712\"/>\n",
       "  </clipPath>\n",
       "</defs>\n",
       "<path clip-path=\"url(#clip540)\" d=\"M32.9921 12.096 L41.175 12.096 L41.175 65.6895 L70.625 65.6895 L70.625 72.576 L32.9921 72.576 L32.9921 12.096 Z\" fill=\"#000000\" fill-rule=\"evenodd\" fill-opacity=\"1\" /><path clip-path=\"url(#clip540)\" d=\"M101.331 20.1573 L90.2314 50.2555 L112.471 50.2555 L101.331 20.1573 M96.7129 12.096 L105.989 12.096 L129.039 72.576 L120.532 72.576 L115.023 57.061 L87.7604 57.061 L82.2511 72.576 L73.6227 72.576 L96.7129 12.096 Z\" fill=\"#000000\" fill-rule=\"evenodd\" fill-opacity=\"1\" /><path clip-path=\"url(#clip540)\" d=\"M146.053 18.8205 L146.053 41.5461 L156.342 41.5461 Q162.054 41.5461 165.173 38.5889 Q168.292 35.6318 168.292 30.163 Q168.292 24.7348 165.173 21.7777 Q162.054 18.8205 156.342 18.8205 L146.053 18.8205 M137.87 12.096 L156.342 12.096 Q166.51 12.096 171.695 16.714 Q176.921 21.2916 176.921 30.163 Q176.921 39.1155 171.695 43.6931 Q166.51 48.2706 156.342 48.2706 L146.053 48.2706 L146.053 72.576 L137.87 72.576 L137.87 12.096 Z\" fill=\"#000000\" fill-rule=\"evenodd\" fill-opacity=\"1\" /><path clip-path=\"url(#clip540)\" d=\"M202.806 20.1573 L191.707 50.2555 L213.946 50.2555 L202.806 20.1573 M198.188 12.096 L207.465 12.096 L230.514 72.576 L222.007 72.576 L216.498 57.061 L189.236 57.061 L183.726 72.576 L175.098 72.576 L198.188 12.096 Z\" fill=\"#000000\" fill-rule=\"evenodd\" fill-opacity=\"1\" /><path clip-path=\"url(#clip540)\" d=\"M283.176 16.7545 L283.176 25.383 Q279.044 21.5346 274.345 19.6307 Q269.686 17.7268 264.42 17.7268 Q254.05 17.7268 248.541 24.0867 Q243.032 30.4061 243.032 42.3968 Q243.032 54.3469 248.541 60.7069 Q254.05 67.0263 264.42 67.0263 Q269.686 67.0263 274.345 65.1223 Q279.044 63.2184 283.176 59.3701 L283.176 67.9175 Q278.882 70.8341 274.061 72.2924 Q269.281 73.7508 263.934 73.7508 Q250.202 73.7508 242.302 65.3654 Q234.403 56.9395 234.403 42.3968 Q234.403 27.8135 242.302 19.4281 Q250.202 11.0023 263.934 11.0023 Q269.362 11.0023 274.142 12.4606 Q278.963 13.8784 283.176 16.7545 Z\" fill=\"#000000\" fill-rule=\"evenodd\" fill-opacity=\"1\" /><path clip-path=\"url(#clip540)\" d=\"M295.815 12.096 L303.998 12.096 L303.998 37.6572 L331.139 12.096 L341.671 12.096 L311.654 40.2903 L343.818 72.576 L333.043 72.576 L303.998 43.45 L303.998 72.576 L295.815 72.576 L295.815 12.096 Z\" fill=\"#000000\" fill-rule=\"evenodd\" fill-opacity=\"1\" /><path clip-path=\"url(#clip540)\" d=\"M407.458 22.0612 L392.915 29.92 L407.458 37.8192 L405.108 41.7891 L391.497 33.5658 L391.497 48.8377 L386.879 48.8377 L386.879 33.5658 L373.268 41.7891 L370.919 37.8192 L385.461 29.92 L370.919 22.0612 L373.268 18.0508 L386.879 26.2742 L386.879 11.0023 L391.497 11.0023 L391.497 26.2742 L405.108 18.0508 L407.458 22.0612 Z\" fill=\"#000000\" fill-rule=\"evenodd\" fill-opacity=\"1\" /><path clip-path=\"url(#clip540)\" d=\"M459.309 63.9476 L459.309 47.7034 L445.941 47.7034 L445.941 40.9789 L467.411 40.9789 L467.411 66.9452 Q462.672 70.3075 456.96 72.0494 Q451.248 73.7508 444.767 73.7508 Q430.588 73.7508 422.568 65.4869 Q414.587 57.1826 414.587 42.3968 Q414.587 27.5705 422.568 19.3066 Q430.588 11.0023 444.767 11.0023 Q450.681 11.0023 455.988 12.4606 Q461.335 13.9189 465.831 16.7545 L465.831 25.464 Q461.294 21.6156 456.19 19.6712 Q451.086 17.7268 445.455 17.7268 Q434.356 17.7268 428.765 23.9246 Q423.216 30.1225 423.216 42.3968 Q423.216 54.6305 428.765 60.8284 Q434.356 67.0263 445.455 67.0263 Q449.79 67.0263 453.192 66.2971 Q456.595 65.5274 459.309 63.9476 Z\" fill=\"#000000\" fill-rule=\"evenodd\" fill-opacity=\"1\" /><path clip-path=\"url(#clip540)\" d=\"M482.359 12.096 L520.599 12.096 L520.599 18.9825 L490.542 18.9825 L490.542 36.8875 L519.344 36.8875 L519.344 43.7741 L490.542 43.7741 L490.542 65.6895 L521.329 65.6895 L521.329 72.576 L482.359 72.576 L482.359 12.096 Z\" fill=\"#000000\" fill-rule=\"evenodd\" fill-opacity=\"1\" /><path clip-path=\"url(#clip540)\" d=\"M559.326 17.6457 Q550.414 17.6457 545.148 24.2892 Q539.922 30.9327 539.922 42.3968 Q539.922 53.8203 545.148 60.4638 Q550.414 67.1073 559.326 67.1073 Q568.238 67.1073 573.423 60.4638 Q578.649 53.8203 578.649 42.3968 Q578.649 30.9327 573.423 24.2892 Q568.238 17.6457 559.326 17.6457 M570.79 71.4823 L581.566 83.2704 L571.681 83.2704 L562.729 73.5887 Q561.392 73.6697 560.663 73.7103 Q559.974 73.7508 559.326 73.7508 Q546.566 73.7508 538.91 65.2439 Q531.294 56.6965 531.294 42.3968 Q531.294 28.0566 538.91 19.5497 Q546.566 11.0023 559.326 11.0023 Q572.046 11.0023 579.662 19.5497 Q587.277 28.0566 587.277 42.3968 Q587.277 52.9291 583.024 60.4233 Q578.811 67.9175 570.79 71.4823 Z\" fill=\"#000000\" fill-rule=\"evenodd\" fill-opacity=\"1\" /><path clip-path=\"url(#clip540)\" d=\"M628.759 44.2197 Q631.392 45.1109 633.863 48.0275 Q636.374 50.9442 638.886 56.0483 L647.19 72.576 L638.4 72.576 L630.663 57.061 Q627.665 50.9847 624.829 48.9997 Q622.034 47.0148 617.173 47.0148 L608.261 47.0148 L608.261 72.576 L600.078 72.576 L600.078 12.096 L618.55 12.096 Q628.921 12.096 634.025 16.4305 Q639.129 20.7649 639.129 29.5149 Q639.129 35.2267 636.455 38.994 Q633.822 42.7613 628.759 44.2197 M608.261 18.8205 L608.261 40.2903 L618.55 40.2903 Q624.465 40.2903 627.462 37.5762 Q630.501 34.8216 630.501 29.5149 Q630.501 24.2082 627.462 21.5346 Q624.465 18.8205 618.55 18.8205 L608.261 18.8205 Z\" fill=\"#000000\" fill-rule=\"evenodd\" fill-opacity=\"1\" /><path clip-path=\"url(#clip540)\" d=\"M657.723 12.096 L692.479 12.096 L692.479 18.9825 L665.905 18.9825 L665.905 36.8065 L689.887 36.8065 L689.887 43.6931 L665.905 43.6931 L665.905 72.576 L657.723 72.576 L657.723 12.096 Z\" fill=\"#000000\" fill-rule=\"evenodd\" fill-opacity=\"1\" /><path clip-path=\"url(#clip540)\" d=\"M760.494 44.2197 Q763.127 45.1109 765.598 48.0275 Q768.11 50.9442 770.621 56.0483 L778.926 72.576 L770.135 72.576 L762.398 57.061 Q759.4 50.9847 756.565 48.9997 Q753.77 47.0148 748.908 47.0148 L739.996 47.0148 L739.996 72.576 L731.814 72.576 L731.814 12.096 L750.286 12.096 Q760.656 12.096 765.76 16.4305 Q770.864 20.7649 770.864 29.5149 Q770.864 35.2267 768.191 38.994 Q765.558 42.7613 760.494 44.2197 M739.996 18.8205 L739.996 40.2903 L750.286 40.2903 Q756.2 40.2903 759.198 37.5762 Q762.236 34.8216 762.236 29.5149 Q762.236 24.2082 759.198 21.5346 Q756.2 18.8205 750.286 18.8205 L739.996 18.8205 Z\" fill=\"#000000\" fill-rule=\"evenodd\" fill-opacity=\"1\" /><path clip-path=\"url(#clip540)\" d=\"M833.41 9.62495 Q827.982 18.942 825.349 28.0566 Q822.716 37.1711 822.716 46.5287 Q822.716 55.8863 825.349 65.0818 Q828.023 74.2369 833.41 83.5134 L826.929 83.5134 Q820.853 73.9938 817.814 64.7983 Q814.817 55.6027 814.817 46.5287 Q814.817 37.4952 817.814 28.3401 Q820.812 19.1851 826.929 9.62495 L833.41 9.62495 Z\" fill=\"#000000\" fill-rule=\"evenodd\" fill-opacity=\"1\" /><path clip-path=\"url(#clip540)\" d=\"M847.102 54.671 L847.102 27.2059 L854.556 27.2059 L854.556 54.3874 Q854.556 60.8284 857.068 64.0691 Q859.579 67.2693 864.602 67.2693 Q870.638 67.2693 874.122 63.421 Q877.646 59.5726 877.646 52.9291 L877.646 27.2059 L885.1 27.2059 L885.1 72.576 L877.646 72.576 L877.646 65.6084 Q874.932 69.7404 871.327 71.7658 Q867.762 73.7508 863.022 73.7508 Q855.204 73.7508 851.153 68.8897 Q847.102 64.0286 847.102 54.671 M865.858 26.1121 L865.858 26.1121 Z\" fill=\"#000000\" fill-rule=\"evenodd\" fill-opacity=\"1\" /><path clip-path=\"url(#clip540)\" d=\"M907.663 65.7705 L907.663 89.8329 L900.169 89.8329 L900.169 27.2059 L907.663 27.2059 L907.663 34.0924 Q910.013 30.0415 913.578 28.0971 Q917.183 26.1121 922.166 26.1121 Q930.429 26.1121 935.574 32.6746 Q940.759 39.2371 940.759 49.9314 Q940.759 60.6258 935.574 67.1883 Q930.429 73.7508 922.166 73.7508 Q917.183 73.7508 913.578 71.8063 Q910.013 69.8214 907.663 65.7705 M933.022 49.9314 Q933.022 41.7081 929.619 37.0496 Q926.257 32.3505 920.343 32.3505 Q914.428 32.3505 911.026 37.0496 Q907.663 41.7081 907.663 49.9314 Q907.663 58.1548 911.026 62.8538 Q914.428 67.5124 920.343 67.5124 Q926.257 67.5124 929.619 62.8538 Q933.022 58.1548 933.022 49.9314 Z\" fill=\"#000000\" fill-rule=\"evenodd\" fill-opacity=\"1\" /><path clip-path=\"url(#clip540)\" d=\"M960.325 65.7705 L960.325 89.8329 L952.831 89.8329 L952.831 27.2059 L960.325 27.2059 L960.325 34.0924 Q962.675 30.0415 966.239 28.0971 Q969.845 26.1121 974.827 26.1121 Q983.091 26.1121 988.236 32.6746 Q993.421 39.2371 993.421 49.9314 Q993.421 60.6258 988.236 67.1883 Q983.091 73.7508 974.827 73.7508 Q969.845 73.7508 966.239 71.8063 Q962.675 69.8214 960.325 65.7705 M985.684 49.9314 Q985.684 41.7081 982.281 37.0496 Q978.919 32.3505 973.004 32.3505 Q967.09 32.3505 963.687 37.0496 Q960.325 41.7081 960.325 49.9314 Q960.325 58.1548 963.687 62.8538 Q967.09 67.5124 973.004 67.5124 Q978.919 67.5124 982.281 62.8538 Q985.684 58.1548 985.684 49.9314 Z\" fill=\"#000000\" fill-rule=\"evenodd\" fill-opacity=\"1\" /><path clip-path=\"url(#clip540)\" d=\"M1044.58 48.0275 L1044.58 51.6733 L1010.31 51.6733 Q1010.8 59.3701 1014.93 63.421 Q1019.1 67.4314 1026.52 67.4314 Q1030.81 67.4314 1034.82 66.3781 Q1038.87 65.3249 1042.84 63.2184 L1042.84 70.267 Q1038.83 71.9684 1034.62 72.8596 Q1030.41 73.7508 1026.07 73.7508 Q1015.21 73.7508 1008.85 67.4314 Q1002.54 61.1119 1002.54 50.3365 Q1002.54 39.1965 1008.53 32.6746 Q1014.57 26.1121 1024.78 26.1121 Q1033.93 26.1121 1039.24 32.0264 Q1044.58 37.9003 1044.58 48.0275 M1037.13 45.84 Q1037.05 39.7232 1033.69 36.0774 Q1030.37 32.4315 1024.86 32.4315 Q1018.62 32.4315 1014.85 35.9558 Q1011.12 39.4801 1010.56 45.8805 L1037.13 45.84 Z\" fill=\"#000000\" fill-rule=\"evenodd\" fill-opacity=\"1\" /><path clip-path=\"url(#clip540)\" d=\"M1083.11 34.1734 Q1081.85 33.4443 1080.35 33.1202 Q1078.9 32.7556 1077.11 32.7556 Q1070.79 32.7556 1067.39 36.8875 Q1064.03 40.9789 1064.03 48.6757 L1064.03 72.576 L1056.53 72.576 L1056.53 27.2059 L1064.03 27.2059 L1064.03 34.2544 Q1066.38 30.1225 1070.15 28.1376 Q1073.91 26.1121 1079.3 26.1121 Q1080.07 26.1121 1081 26.2337 Q1081.93 26.3147 1083.07 26.5172 L1083.11 34.1734 Z\" fill=\"#000000\" fill-rule=\"evenodd\" fill-opacity=\"1\" /><path clip-path=\"url(#clip540)\" d=\"M1089.75 9.62495 L1096.23 9.62495 Q1102.31 19.1851 1105.31 28.3401 Q1108.35 37.4952 1108.35 46.5287 Q1108.35 55.6027 1105.31 64.7983 Q1102.31 73.9938 1096.23 83.5134 L1089.75 83.5134 Q1095.14 74.2369 1097.77 65.0818 Q1100.45 55.8863 1100.45 46.5287 Q1100.45 37.1711 1097.77 28.0566 Q1095.14 18.942 1089.75 9.62495 Z\" fill=\"#000000\" fill-rule=\"evenodd\" fill-opacity=\"1\" /><path clip-path=\"url(#clip540)\" d=\"M1170.28 49.7694 Q1161.25 49.7694 1157.77 51.8354 Q1154.28 53.9013 1154.28 58.8839 Q1154.28 62.8538 1156.88 65.2034 Q1159.51 67.5124 1164 67.5124 Q1170.2 67.5124 1173.93 63.1374 Q1177.7 58.7219 1177.7 51.4303 L1177.7 49.7694 L1170.28 49.7694 M1185.15 46.6907 L1185.15 72.576 L1177.7 72.576 L1177.7 65.6895 Q1175.14 69.8214 1171.34 71.8063 Q1167.53 73.7508 1162.02 73.7508 Q1155.05 73.7508 1150.92 69.8619 Q1146.83 65.9325 1146.83 59.3701 Q1146.83 51.7138 1151.93 47.825 Q1157.08 43.9361 1167.25 43.9361 L1177.7 43.9361 L1177.7 43.2069 Q1177.7 38.0623 1174.29 35.2672 Q1170.93 32.4315 1164.81 32.4315 Q1160.93 32.4315 1157.24 33.3632 Q1153.55 34.295 1150.15 36.1584 L1150.15 29.2718 Q1154.24 27.692 1158.09 26.9223 Q1161.94 26.1121 1165.58 26.1121 Q1175.43 26.1121 1180.29 31.2163 Q1185.15 36.3204 1185.15 46.6907 Z\" fill=\"#000000\" fill-rule=\"evenodd\" fill-opacity=\"1\" /><path clip-path=\"url(#clip540)\" d=\"M1238.22 45.1919 L1238.22 72.576 L1230.76 72.576 L1230.76 45.4349 Q1230.76 38.994 1228.25 35.7938 Q1225.74 32.5936 1220.72 32.5936 Q1214.68 32.5936 1211.2 36.4419 Q1207.71 40.2903 1207.71 46.9338 L1207.71 72.576 L1200.22 72.576 L1200.22 27.2059 L1207.71 27.2059 L1207.71 34.2544 Q1210.39 30.163 1213.99 28.1376 Q1217.64 26.1121 1222.38 26.1121 Q1230.2 26.1121 1234.21 30.9732 Q1238.22 35.7938 1238.22 45.1919 Z\" fill=\"#000000\" fill-rule=\"evenodd\" fill-opacity=\"1\" /><path clip-path=\"url(#clip540)\" d=\"M1282.94 34.0924 L1282.94 9.54393 L1290.39 9.54393 L1290.39 72.576 L1282.94 72.576 L1282.94 65.7705 Q1280.59 69.8214 1276.98 71.8063 Q1273.42 73.7508 1268.4 73.7508 Q1260.17 73.7508 1254.99 67.1883 Q1249.84 60.6258 1249.84 49.9314 Q1249.84 39.2371 1254.99 32.6746 Q1260.17 26.1121 1268.4 26.1121 Q1273.42 26.1121 1276.98 28.0971 Q1280.59 30.0415 1282.94 34.0924 M1257.54 49.9314 Q1257.54 58.1548 1260.9 62.8538 Q1264.3 67.5124 1270.22 67.5124 Q1276.13 67.5124 1279.54 62.8538 Q1282.94 58.1548 1282.94 49.9314 Q1282.94 41.7081 1279.54 37.0496 Q1276.13 32.3505 1270.22 32.3505 Q1264.3 32.3505 1260.9 37.0496 Q1257.54 41.7081 1257.54 49.9314 Z\" fill=\"#000000\" fill-rule=\"evenodd\" fill-opacity=\"1\" /><path clip-path=\"url(#clip540)\" d=\"M1358.41 34.1734 Q1357.15 33.4443 1355.65 33.1202 Q1354.19 32.7556 1352.41 32.7556 Q1346.09 32.7556 1342.69 36.8875 Q1339.33 40.9789 1339.33 48.6757 L1339.33 72.576 L1331.83 72.576 L1331.83 27.2059 L1339.33 27.2059 L1339.33 34.2544 Q1341.68 30.1225 1345.44 28.1376 Q1349.21 26.1121 1354.6 26.1121 Q1355.37 26.1121 1356.3 26.2337 Q1357.23 26.3147 1358.37 26.5172 L1358.41 34.1734 Z\" fill=\"#000000\" fill-rule=\"evenodd\" fill-opacity=\"1\" /><path clip-path=\"url(#clip540)\" d=\"M1403.21 48.0275 L1403.21 51.6733 L1368.94 51.6733 Q1369.43 59.3701 1373.56 63.421 Q1377.73 67.4314 1385.14 67.4314 Q1389.44 67.4314 1393.45 66.3781 Q1397.5 65.3249 1401.47 63.2184 L1401.47 70.267 Q1397.46 71.9684 1393.25 72.8596 Q1389.03 73.7508 1384.7 73.7508 Q1373.84 73.7508 1367.48 67.4314 Q1361.16 61.1119 1361.16 50.3365 Q1361.16 39.1965 1367.16 32.6746 Q1373.19 26.1121 1383.4 26.1121 Q1392.56 26.1121 1397.86 32.0264 Q1403.21 37.9003 1403.21 48.0275 M1395.76 45.84 Q1395.68 39.7232 1392.31 36.0774 Q1388.99 32.4315 1383.48 32.4315 Q1377.24 32.4315 1373.48 35.9558 Q1369.75 39.4801 1369.18 45.8805 L1395.76 45.84 Z\" fill=\"#000000\" fill-rule=\"evenodd\" fill-opacity=\"1\" /><path clip-path=\"url(#clip540)\" d=\"M1438.41 9.54393 L1438.41 15.7418 L1431.28 15.7418 Q1427.27 15.7418 1425.69 17.3622 Q1424.15 18.9825 1424.15 23.1955 L1424.15 27.2059 L1436.43 27.2059 L1436.43 32.9987 L1424.15 32.9987 L1424.15 72.576 L1416.66 72.576 L1416.66 32.9987 L1409.53 32.9987 L1409.53 27.2059 L1416.66 27.2059 L1416.66 24.0462 Q1416.66 16.471 1420.18 13.0277 Q1423.71 9.54393 1431.36 9.54393 L1438.41 9.54393 Z\" fill=\"#000000\" fill-rule=\"evenodd\" fill-opacity=\"1\" /><path clip-path=\"url(#clip540)\" d=\"M1444.65 9.54393 L1452.1 9.54393 L1452.1 72.576 L1444.65 72.576 L1444.65 9.54393 Z\" fill=\"#000000\" fill-rule=\"evenodd\" fill-opacity=\"1\" /><path clip-path=\"url(#clip540)\" d=\"M1506.51 48.0275 L1506.51 51.6733 L1472.24 51.6733 Q1472.72 59.3701 1476.86 63.421 Q1481.03 67.4314 1488.44 67.4314 Q1492.74 67.4314 1496.75 66.3781 Q1500.8 65.3249 1504.77 63.2184 L1504.77 70.267 Q1500.76 71.9684 1496.54 72.8596 Q1492.33 73.7508 1488 73.7508 Q1477.14 73.7508 1470.78 67.4314 Q1464.46 61.1119 1464.46 50.3365 Q1464.46 39.1965 1470.46 32.6746 Q1476.49 26.1121 1486.7 26.1121 Q1495.85 26.1121 1501.16 32.0264 Q1506.51 37.9003 1506.51 48.0275 M1499.05 45.84 Q1498.97 39.7232 1495.61 36.0774 Q1492.29 32.4315 1486.78 32.4315 Q1480.54 32.4315 1476.77 35.9558 Q1473.05 39.4801 1472.48 45.8805 L1499.05 45.84 Z\" fill=\"#000000\" fill-rule=\"evenodd\" fill-opacity=\"1\" /><path clip-path=\"url(#clip540)\" d=\"M1551.39 28.9478 L1551.39 35.9153 Q1548.23 34.1734 1545.03 33.3227 Q1541.87 32.4315 1538.63 32.4315 Q1531.38 32.4315 1527.37 37.0496 Q1523.36 41.6271 1523.36 49.9314 Q1523.36 58.2358 1527.37 62.8538 Q1531.38 67.4314 1538.63 67.4314 Q1541.87 67.4314 1545.03 66.5807 Q1548.23 65.6895 1551.39 63.9476 L1551.39 70.8341 Q1548.27 72.2924 1544.91 73.0216 Q1541.59 73.7508 1537.82 73.7508 Q1527.57 73.7508 1521.54 67.3098 Q1515.5 60.8689 1515.5 49.9314 Q1515.5 38.832 1521.58 32.472 Q1527.69 26.1121 1538.31 26.1121 Q1541.75 26.1121 1545.03 26.8413 Q1548.31 27.5299 1551.39 28.9478 Z\" fill=\"#000000\" fill-rule=\"evenodd\" fill-opacity=\"1\" /><path clip-path=\"url(#clip540)\" d=\"M1571.73 14.324 L1571.73 27.2059 L1587.08 27.2059 L1587.08 32.9987 L1571.73 32.9987 L1571.73 57.6282 Q1571.73 63.1779 1573.23 64.7578 Q1574.77 66.3376 1579.42 66.3376 L1587.08 66.3376 L1587.08 72.576 L1579.42 72.576 Q1570.8 72.576 1567.52 69.3758 Q1564.23 66.1351 1564.23 57.6282 L1564.23 32.9987 L1558.77 32.9987 L1558.77 27.2059 L1564.23 27.2059 L1564.23 14.324 L1571.73 14.324 Z\" fill=\"#000000\" fill-rule=\"evenodd\" fill-opacity=\"1\" /><path clip-path=\"url(#clip540)\" d=\"M1614.47 32.4315 Q1608.47 32.4315 1604.99 37.1306 Q1601.5 41.7891 1601.5 49.9314 Q1601.5 58.0738 1604.95 62.7728 Q1608.43 67.4314 1614.47 67.4314 Q1620.42 67.4314 1623.9 62.7323 Q1627.39 58.0333 1627.39 49.9314 Q1627.39 41.8701 1623.9 37.1711 Q1620.42 32.4315 1614.47 32.4315 M1614.47 26.1121 Q1624.19 26.1121 1629.74 32.4315 Q1635.29 38.7509 1635.29 49.9314 Q1635.29 61.0714 1629.74 67.4314 Q1624.19 73.7508 1614.47 73.7508 Q1604.7 73.7508 1599.15 67.4314 Q1593.64 61.0714 1593.64 49.9314 Q1593.64 38.7509 1599.15 32.4315 Q1604.7 26.1121 1614.47 26.1121 Z\" fill=\"#000000\" fill-rule=\"evenodd\" fill-opacity=\"1\" /><path clip-path=\"url(#clip540)\" d=\"M1673.93 34.1734 Q1672.68 33.4443 1671.18 33.1202 Q1669.72 32.7556 1667.94 32.7556 Q1661.62 32.7556 1658.21 36.8875 Q1654.85 40.9789 1654.85 48.6757 L1654.85 72.576 L1647.36 72.576 L1647.36 27.2059 L1654.85 27.2059 L1654.85 34.2544 Q1657.2 30.1225 1660.97 28.1376 Q1664.74 26.1121 1670.12 26.1121 Q1670.89 26.1121 1671.83 26.2337 Q1672.76 26.3147 1673.89 26.5172 L1673.93 34.1734 Z\" fill=\"#000000\" fill-rule=\"evenodd\" fill-opacity=\"1\" /><path clip-path=\"url(#clip540)\" d=\"M1710.67 28.5427 L1710.67 35.5912 Q1707.51 33.9709 1704.11 33.1607 Q1700.71 32.3505 1697.06 32.3505 Q1691.51 32.3505 1688.72 34.0519 Q1685.96 35.7533 1685.96 39.156 Q1685.96 41.7486 1687.95 43.2475 Q1689.93 44.7058 1695.93 46.0426 L1698.48 46.6097 Q1706.42 48.3111 1709.74 51.4303 Q1713.1 54.509 1713.1 60.0587 Q1713.1 66.3781 1708.08 70.0644 Q1703.1 73.7508 1694.35 73.7508 Q1690.7 73.7508 1686.73 73.0216 Q1682.8 72.3329 1678.43 70.9151 L1678.43 63.2184 Q1682.56 65.3654 1686.57 66.4591 Q1690.58 67.5124 1694.51 67.5124 Q1699.78 67.5124 1702.61 65.73 Q1705.45 63.9071 1705.45 60.6258 Q1705.45 57.5877 1703.38 55.9673 Q1701.36 54.3469 1694.43 52.8481 L1691.84 52.2405 Q1684.91 50.7821 1681.83 47.7845 Q1678.75 44.7463 1678.75 39.4801 Q1678.75 33.0797 1683.29 29.5959 Q1687.83 26.1121 1696.17 26.1121 Q1700.3 26.1121 1703.95 26.7198 Q1707.6 27.3274 1710.67 28.5427 Z\" fill=\"#000000\" fill-rule=\"evenodd\" fill-opacity=\"1\" /><path clip-path=\"url(#clip540)\" d=\"M1769.25 9.62495 Q1763.82 18.942 1761.19 28.0566 Q1758.56 37.1711 1758.56 46.5287 Q1758.56 55.8863 1761.19 65.0818 Q1763.86 74.2369 1769.25 83.5134 L1762.77 83.5134 Q1756.69 73.9938 1753.65 64.7983 Q1750.66 55.6027 1750.66 46.5287 Q1750.66 37.4952 1753.65 28.3401 Q1756.65 19.1851 1762.77 9.62495 L1769.25 9.62495 Z\" fill=\"#000000\" fill-rule=\"evenodd\" fill-opacity=\"1\" /><path clip-path=\"url(#clip540)\" d=\"M1783.71 9.54393 L1791.17 9.54393 L1791.17 72.576 L1783.71 72.576 L1783.71 9.54393 Z\" fill=\"#000000\" fill-rule=\"evenodd\" fill-opacity=\"1\" /><path clip-path=\"url(#clip540)\" d=\"M1824.34 32.4315 Q1818.35 32.4315 1814.86 37.1306 Q1811.38 41.7891 1811.38 49.9314 Q1811.38 58.0738 1814.82 62.7728 Q1818.31 67.4314 1824.34 67.4314 Q1830.3 67.4314 1833.78 62.7323 Q1837.26 58.0333 1837.26 49.9314 Q1837.26 41.8701 1833.78 37.1711 Q1830.3 32.4315 1824.34 32.4315 M1824.34 26.1121 Q1834.06 26.1121 1839.61 32.4315 Q1845.16 38.7509 1845.16 49.9314 Q1845.16 61.0714 1839.61 67.4314 Q1834.06 73.7508 1824.34 73.7508 Q1814.58 73.7508 1809.03 67.4314 Q1803.52 61.0714 1803.52 49.9314 Q1803.52 38.7509 1809.03 32.4315 Q1814.58 26.1121 1824.34 26.1121 Z\" fill=\"#000000\" fill-rule=\"evenodd\" fill-opacity=\"1\" /><path clip-path=\"url(#clip540)\" d=\"M1853.18 27.2059 L1860.64 27.2059 L1869.96 62.6108 L1879.23 27.2059 L1888.02 27.2059 L1897.34 62.6108 L1906.62 27.2059 L1914.07 27.2059 L1902.2 72.576 L1893.41 72.576 L1883.65 35.3887 L1873.84 72.576 L1865.05 72.576 L1853.18 27.2059 Z\" fill=\"#000000\" fill-rule=\"evenodd\" fill-opacity=\"1\" /><path clip-path=\"url(#clip540)\" d=\"M1964.18 48.0275 L1964.18 51.6733 L1929.91 51.6733 Q1930.4 59.3701 1934.53 63.421 Q1938.7 67.4314 1946.11 67.4314 Q1950.41 67.4314 1954.42 66.3781 Q1958.47 65.3249 1962.44 63.2184 L1962.44 70.267 Q1958.43 71.9684 1954.21 72.8596 Q1950 73.7508 1945.67 73.7508 Q1934.81 73.7508 1928.45 67.4314 Q1922.13 61.1119 1922.13 50.3365 Q1922.13 39.1965 1928.13 32.6746 Q1934.16 26.1121 1944.37 26.1121 Q1953.53 26.1121 1958.83 32.0264 Q1964.18 37.9003 1964.18 48.0275 M1956.73 45.84 Q1956.65 39.7232 1953.28 36.0774 Q1949.96 32.4315 1944.45 32.4315 Q1938.21 32.4315 1934.45 35.9558 Q1930.72 39.4801 1930.15 45.8805 L1956.73 45.84 Z\" fill=\"#000000\" fill-rule=\"evenodd\" fill-opacity=\"1\" /><path clip-path=\"url(#clip540)\" d=\"M2002.7 34.1734 Q2001.45 33.4443 1999.95 33.1202 Q1998.49 32.7556 1996.71 32.7556 Q1990.39 32.7556 1986.99 36.8875 Q1983.62 40.9789 1983.62 48.6757 L1983.62 72.576 L1976.13 72.576 L1976.13 27.2059 L1983.62 27.2059 L1983.62 34.2544 Q1985.97 30.1225 1989.74 28.1376 Q1993.51 26.1121 1998.9 26.1121 Q1999.67 26.1121 2000.6 26.2337 Q2001.53 26.3147 2002.66 26.5172 L2002.7 34.1734 Z\" fill=\"#000000\" fill-rule=\"evenodd\" fill-opacity=\"1\" /><path clip-path=\"url(#clip540)\" d=\"M2009.35 9.62495 L2015.83 9.62495 Q2021.91 19.1851 2024.9 28.3401 Q2027.94 37.4952 2027.94 46.5287 Q2027.94 55.6027 2024.9 64.7983 Q2021.91 73.9938 2015.83 83.5134 L2009.35 83.5134 Q2014.73 74.2369 2017.37 65.0818 Q2020.04 55.8863 2020.04 46.5287 Q2020.04 37.1711 2017.37 28.0566 Q2014.73 18.942 2009.35 9.62495 Z\" fill=\"#000000\" fill-rule=\"evenodd\" fill-opacity=\"1\" /><g clip-path=\"url(#clip542)\">\n",
       "<image width=\"1222\" height=\"1711\" xlink:href=\"data:image/png;base64,\n",
       "iVBORw0KGgoAAAANSUhEUgAABMYAAAavCAYAAAB1aed3AAAgAElEQVR4nOzaQRGCUABFUTEAfYhi\n",
       "GmJQxTUhSGAP3OvWmT9yz0nw1nfe9Hy8zhsAAAAAxNxHDwAAAACAEYQxAAAAAJKEMQAAAACShDEA\n",
       "AAAAkoQxAAAAAJKEMQAAAACShDEAAAAAkoQxAAAAAJKEMQAAAACShDEAAAAAkoQxAAAAAJKEMQAA\n",
       "AACShDEAAAAAkoQxAAAAAJKEMQAAAACShDEAAAAAkoQxAAAAAJKEMQAAAACShDEAAAAAkoQxAAAA\n",
       "AJKEMQAAAACShDEAAAAAkoQxAAAAAJKEMQAAAACShDEAAAAAkoQxAAAAAJKEMQAAAACShDEAAAAA\n",
       "koQxAAAAAJKEMQAAAACShDEAAAAAkoQxAAAAAJKEMQAAAACShDEAAAAAkoQxAAAAAJKEMQAAAACS\n",
       "hDEAAAAAkoQxAAAAAJKEMQAAAACShDEAAAAAkoQxAAAAAJKEMQAAAACShDEAAAAAkoQxAAAAAJKE\n",
       "MQAAAACShDEAAAAAkoQxAAAAAJKEMQAAAACShDEAAAAAkoQxAAAAAJKEMQAAAACShDEAAAAAkoQx\n",
       "AAAAAJKEMQAAAACShDEAAAAAkoQxAAAAAJKEMQAAAACShDEAAAAAkoQxAAAAAJKEMQAAAACShDEA\n",
       "AAAAkoQxAAAAAJKEMQAAAACShDEAAAAAkoQxAAAAAJKEMQAAAACShDEAAAAAkoQxAAAAAJKEMQAA\n",
       "AACShDEAAAAAkoQxAAAAAJKEMQAAAACShDEAAAAAkoQxAAAAAJKEMQAAAACShDEAAAAAkoQxAAAA\n",
       "AJKEMQAAAACShDEAAAAAkoQxAAAAAJKEMQAAAACShDEAAAAAkoQxAAAAAJKEMQAAAACShDEAAAAA\n",
       "koQxAAAAAJKEMQAAAACShDEAAAAAkoQxAAAAAJKEMQAAAACShDEAAAAAkoQxAAAAAJKEMQAAAACS\n",
       "hDEAAAAAkoQxAAAAAJKEMQAAAACShDEAAAAAkoQxAAAAAJKEMQAAAACShDEAAAAAkoQxAAAAAJKE\n",
       "MQAAAACShDEAAAAAkoQxAAAAAJKEMQAAAACShDEAAAAAkoQxAAAAAJKEMQAAAACShDEAAAAAkoQx\n",
       "AAAAAJKEMQAAAACShDEAAAAAkoQxAAAAAJKEMQAAAACShDEAAAAAkoQxAAAAAJKEMQAAAACShDEA\n",
       "AAAAkoQxAAAAAJKEMQAAAACShDEAAAAAkoQxAAAAAJKEMQAAAACShDEAAAAAkoQxAAAAAJKEMQAA\n",
       "AACShDEAAAAAkoQxAAAAAJKEMQAAAACShDEAAAAAkoQxAAAAAJKEMQAAAACShDEAAAAAkoQxAAAA\n",
       "AJKEMQAAAACShDEAAAAAkoQxAAAAAJKEMQAAAACShDEAAAAAkoQxAAAAAJKEMQAAAACShDEAAAAA\n",
       "koQxAAAAAJKEMQAAAACShDEAAAAAkoQxAAAAAJKEMQAAAACShDEAAAAAkoQxAAAAAJKEMQAAAACS\n",
       "hDEAAAAAkoQxAAAAAJKEMQAAAACShDEAAAAAkoQxAAAAAJKEMQAAAACShDEAAAAAkoQxAAAAAJKE\n",
       "MQAAAACShDEAAAAAkoQxAAAAAJKEMQAAAACShDEAAAAAkoQxAAAAAJKEMQAAAACShDEAAAAAkoQx\n",
       "AAAAAJKEMQAAAACShDEAAAAAkoQxAAAAAJKEMQAAAACShDEAAAAAkoQxAAAAAJKEMQAAAACShDEA\n",
       "AAAAkoQxAAAAAJKEMQAAAACShDEAAAAAkoQxAAAAAJKEMQAAAACShDEAAAAAkoQxAAAAAJKEMQAA\n",
       "AACShDEAAAAAkoQxAAAAAJKEMQAAAACShDEAAAAAkoQxAAAAAJKEMQAAAACShDEAAAAAkoQxAAAA\n",
       "AJKEMQAAAACShDEAAAAAkoQxAAAAAJKEMQAAAACShDEAAAAAkoQxAAAAAJKEMQAAAACShDEAAAAA\n",
       "koQxAAAAAJKEMQAAAACShDEAAAAAkoQxAAAAAJKEMQAAAACShDEAAAAAkoQxAAAAAJKEMQAAAACS\n",
       "hDEAAAAAkoQxAAAAAJKEMQAAAACShDEAAAAAkoQxAAAAAJKEMQAAAACShDEAAAAAkoQxAAAAAJKE\n",
       "MQAAAACShDEAAAAAkoQxAAAAAJKEMQAAAACShDEAAAAAkoQxAAAAAJKEMQAAAACShDEAAAAAkoQx\n",
       "AAAAAJKEMQAAAACShDEAAAAAkoQxAAAAAJKEMQAAAACShDEAAAAAkoQxAAAAAJKEMQAAAACShDEA\n",
       "AAAAkoQxAAAAAJKEMQAAAACShDEAAAAAkoQxAAAAAJKEMQAAAACShDEAAAAAkoQxAAAAAJKEMQAA\n",
       "AACShDEAAAAAkoQxAAAAAJKEMQAAAACShDEAAAAAkoQxAAAAAJKEMQAAAACSpmWbz9EjgN9Z92P0\n",
       "BAAAAPgLHmMAAAAAJAljAAAAACQJYwAAAAAkCWMAAAAAJAljAAAAACQJYwAAAAAkCWMAAAAAJAlj\n",
       "AAAAACQJYwAAAAAkCWMAAAAAJAljAAAAACQJYwAAAAAkCWMAAAAAJAljAAAAACQJYwAAAAAkCWMA\n",
       "AAAAJAljAAAAACQJYwAAAAAkCWMAAAAAJAljAAAAACQJYwAAAAAkCWMAAAAAJAljAAAAACQJYwAA\n",
       "AAAkCWMAAAAAJAljAAAAACQJYwAAAAAkCWMAAAAAJAljAAAAACQJYwAAAAAkCWMAAAAAJAljAAAA\n",
       "ACQJYwAAAAAkCWMAAAAAJAljAAAAACQJYwAAAAAkCWMAAAAAJAljAAAAACQJYwAAAAAkCWMAAAAA\n",
       "JAljAAAAACQJYwAAAAAkCWMAAAAAJAljAAAAACQJYwAAAAAkCWMAAAAAJAljAAAAACQJYwAAAAAk\n",
       "CWMAAAAAJAljAAAAACQJYwAAAAAkCWMAAAAAJAljAAAAACQJYwAAAAAkCWMAAAAAJAljAAAAACQJ\n",
       "YwAAAAAkCWMAAAAAJAljAAAAACQJYwAAAAAkCWMAAAAAJAljAAAAACQJYwAAAAAkCWMAAAAAJAlj\n",
       "AAAAACQJYwAAAAAkCWMAAAAAJAljAAAAACQJYwAAAAAkCWMAAAAAJAljAAAAACQJYwAAAAAkCWMA\n",
       "AAAAJAljAAAAACQJYwAAAAAkCWMAAAAAJAljAAAAACQJYwAAAAAkCWMAAAAAJAljAAAAACQJYwAA\n",
       "AAAkCWMAAAAAJAljAAAAACQJYwAAAAAkCWMAAAAAJAljAAAAACQJYwAAAAAkCWMAAAAAJAljAAAA\n",
       "ACQJYwAAAAAkCWMAAAAAJAljAAAAACQJYwAAAAAkCWMAAAAAJAljAAAAACQJYwAAAAAkCWMAAAAA\n",
       "JAljAAAAACQJYwAAAAAkCWMAAAAAJAljAAAAACQJYwAAAAAkCWMAAAAAJAljAAAAACQJYwAAAAAk\n",
       "CWMAAAAAJAljAAAAACQJYwAAAAAkCWMAAAAAJAljAAAAACQJYwAAAAAkCWMAAAAAJAljAAAAACQJ\n",
       "YwAAAAAkCWMAAAAAJAljAAAAACQJYwAAAAAkCWMAAAAAJAljAAAAACQJYwAAAAAkCWMAAAAAJAlj\n",
       "AAAAACQJYwAAAAAkCWMAAAAAJAljAAAAACQJYwAAAAAkCWMAAAAAJAljAAAAACQJYwAAAAAkCWMA\n",
       "AAAAJAljAAAAACQJYwAAAAAkCWMAAAAAJAljAAAAACQJYwAAAAAkCWMAAAAAJAljAAAAACQJYwAA\n",
       "AAAkCWMAAAAAJAljAAAAACQJYwAAAAAkCWMAAAAAJAljAAAAACQJYwAAAAAkCWMAAAAAJAljAAAA\n",
       "ACQJYwAAAAAkCWMAAAAAJAljAAAAACQJYwAAAAAkCWMAAAAAJAljAAAAACQJYwAAAAAkCWMAAAAA\n",
       "JAljAAAAACQJYwAAAAAkCWMAAAAAJAljAAAAACQJYwAAAAAkCWMAAAAAJAljAAAAACQJYwAAAAAk\n",
       "CWMAAAAAJAljAAAAACQJYwAAAAAkCWMAAAAAJAljAAAAACQJYwAAAAAkCWMAAAAAJAljAAAAACQJ\n",
       "YwAAAAAkCWMAAAAAJAljAAAAACQJYwAAAAAkCWMAAAAAJAljAAAAACQJYwAAAAAkCWMAAAAAJAlj\n",
       "AAAAACQJYwAAAAAkCWMAAAAAJAljAAAAACQJYwAAAAAkCWMAAAAAJAljAAAAACQJYwAAAAAkCWMA\n",
       "AAAAJAljAAAAACQJYwAAAAAkCWMAAAAAJAljAAAAACQJYwAAAAAkCWMAAAAAJAljAAAAACQJYwAA\n",
       "AAAkCWMAAAAAJAljAAAAACQJYwAAAAAkCWMAAAAAJAljAAAAACQJYwAAAAAkCWMAAAAAJAljAAAA\n",
       "ACQJYwAAAAAkCWMAAAAAJAljAAAAACQJYwAAAAAkCWMAAAAAJAljAAAAACQJYwAAAAAkCWMAAAAA\n",
       "JAljAAAAACQJYwAAAAAkCWMAAAAAJAljAAAAACQJYwAAAAAkCWMAAAAAJAljAAAAACQJYwAAAAAk\n",
       "CWMAAAAAJAljAAAAACQJYwAAAAAkCWMAAAAAJAljAAAAACQJYwAAAAAkCWMAAAAAJAljAAAAACQJ\n",
       "YwAAAAAkCWMAAAAAJAljAAAAACQJYwAAAAAkCWMAAAAAJAljAAAAACQJYwAAAAAkCWMAAAAAJAlj\n",
       "AAAAACQJYwAAAAAkCWMAAAAAJAljAAAAACQJYwAAAAAkCWMAAAAAJAljAAAAACRNyzafo0cAAN/W\n",
       "/Rg9AQAALs1jDAAAAIAkYQwAAACAJGEMAAAAgCRhDAAAAIAkYQwAAACAJGEMAAAAgCRhDAAAAIAk\n",
       "YQwAAACAJGEMAAAAgCRhDAAAAIAkYQwAAACAJGEMAAAAgCRhDAAAAIAkYQwAAACAJGEMAAAAgCRh\n",
       "DAAAAIAkYQwAAACAJGEMAAAAgCRhDAAAAIAkYQwAAACAJGEMAAAAgCRhDAAAAIAkYQwAAACAJGEM\n",
       "AAAAgCRhDAAAAIAkYQwAAACAJGEMAAAAgCRhDAAAAIAkYQwAAACAJGEMAAAAgCRhDAAAAIAkYQwA\n",
       "AACAJGEMAAAAgCRhDAAAAIAkYQwAAACAJGEMAAAAgCRhDAAAAIAkYQwAAACAJGEMAAAAgCRhDAAA\n",
       "AIAkYQwAAACAJGEMAAAAgCRhDAAAAIAkYQwAAACAJGEMAAAAgCRhDAAAAIAkYQwAAACAJGEMAAAA\n",
       "gCRhDAAAAIAkYQwAAACAJGEMAAAAgCRhDAAAAIAkYQwAAACAJGEMAAAAgCRhDAAAAIAkYQwAAACA\n",
       "JGEMAAAAgCRhDAAAAIAkYQwAAACAJGEMAAAAgCRhDAAAAIAkYQwAAACAJGEMAAAAgCRhDAAAAIAk\n",
       "YQwAAACAJGEMAAAAgCRhDAAAAIAkYQwAAACAJGEMAAAAgCRhDAAAAIAkYQwAAACAJGEMAAAAgCRh\n",
       "DAAAAIAkYQwAAACAJGEMAAAAgCRhDAAAAIAkYQwAAACAJGEMAAAAgCRhDAAAAIAkYQwAAACAJGEM\n",
       "AAAAgCRhDAAAAIAkYQwAAACAJGEMAAAAgCRhDAAAAIAkYQwAAACAJGEMAAAAgCRhDAAAAIAkYQwA\n",
       "AACAJGEMAAAAgCRhDAAAAIAkYQwAAACAJGEMAAAAgCRhDAAAAIAkYQwAAACAJGEMAAAAgCRhDAAA\n",
       "AIAkYQwAAACAJGEMAAAAgCRhDAAAAIAkYQwAAACAJGEMAAAAgCRhDAAAAIAkYQwAAACAJGEMAAAA\n",
       "gCRhDAAAAIAkYQwAAACAJGEMAAAAgCRhDAAAAIAkYQwAAACAJGEMAAAAgCRhDAAAAIAkYQwAAACA\n",
       "JGEMAAAAgCRhDAAAAIAkYQwAAACAJGEMAAAAgCRhDAAAAIAkYQwAAACAJGEMAAAAgCRhDAAAAIAk\n",
       "YQwAAACAJGEMAAAAgCRhDAAAAIAkYQwAAACAJGEMAAAAgCRhDAAAAIAkYQwAAACAJGEMAAAAgCRh\n",
       "DAAAAIAkYQwAAACAJGEMAAAAgCRhDAAAAIAkYQwAAACAJGEMAAAAgCRhDAAAAIAkYQwAAACAJGEM\n",
       "AAAAgCRhDAAAAIAkYQwAAACAJGEMAAAAgCRhDAAAAIAkYQwAAACAJGEMAAAAgCRhDAAAAIAkYQwA\n",
       "AACAJGEMAAAAgCRhDAAAAIAkYQwAAACAJGEMAAAAgCRhDAAAAIAkYQwAAACAJGEMAAAAgCRhDAAA\n",
       "AIAkYQwAAACAJGEMAAAAgCRhDAAAAIAkYQwAAACAJGEMAAAAgCRhDAAAAIAkYQwAAACAJGEMAAAA\n",
       "gCRhDAAAAIAkYQwAAACAJGEMAAAAgCRhDAAAAIAkYQwAAACAJGEMAAAAgCRhDAAAAIAkYQwAAACA\n",
       "JGEMAAAAgCRhDAAAAIAkYQwAAACAJGEMAAAAgCRhDAAAAIAkYQwAAACAJGEMAAAAgCRhDAAAAIAk\n",
       "YQwAAACAJGEMAAAAgCRhDAAAAIAkYQwAAACAJGEMAAAAgCRhDAAAAIAkYQwAAACAJGEMAAAAgCRh\n",
       "DAAAAIAkYQwAAACAJGEMAAAAgCRhDAAAAIAkYQwAAACAJGEMAAAAgCRhDAAAAIAkYQwAAACAJGEM\n",
       "AAAAgCRhDAAAAIAkYQwAAACAJGEMAAAAgCRhDAAAAIAkYQwAAACAJGEMAAAAgCRhDAAAAIAkYQwA\n",
       "AACAJGEMAAAAgCRhDAAAAIAkYQwAAACAJGEMAAAAgCRhDAAAAIAkYQwAAACAJGEMAAAAgCRhDAAA\n",
       "AIAkYQwAAACAJGEMAAAAgCRhDAAAAIAkYQwAAACAJGEMAAAAgCRhDAAAAIAkYQwAAACAJGEMAAAA\n",
       "gCRhDAAAAIAkYQwAAACAJGEMAAAAgCRhDAAAAIAkYQwAAACAJGEMAAAAgCRhDAAAAIAkYQwAAACA\n",
       "JGEMAAAAgCRhDAAAAIAkYQwAAACAJGEMAAAAgCRhDAAAAIAkYQwAAACAJGEMAAAAgCRhDAAAAIAk\n",
       "YQwAAACAJGEMAAAAgCRhDAAAAIAkYQwAAACAJGEMAAAAgCRhDAAAAIAkYQwAAACApGnZ5nP0CAAA\n",
       "uLp1P0ZPAAA+eIwBAAAAkCSMAQAAAJAkjAEAAACQJIwBAAAAkCSMAQAAAJAkjAEAAACQJIwBAAAA\n",
       "kCSMAQAAAJAkjAEAAACQJIwBAAAAkCSMAQAAAJAkjAEAAACQJIwBAAAAkCSMAQAAAJAkjAEAAACQ\n",
       "JIwBAAAAkCSMAQAAAJAkjAEAAACQJIwBAAAAkCSMAQAAAJAkjAEAAACQJIwBAAAAkCSMAQAAAJAk\n",
       "jAEAAACQJIwBAAAAkCSMAQAAAJAkjAEAAACQJIwBAAAAkCSMAQAAAJAkjAEAAACQJIwBAAAAkCSM\n",
       "AQAAAJAkjAEAAACQJIwBAAAAkCSMAQAAAJAkjAEAAACQJIwBAAAAkCSMAQAAAJAkjAEAAACQJIwB\n",
       "AAAAkCSMAQAAAJAkjAEAAACQJIwBAAAAkCSMAQAAAJAkjAEAAACQJIwBAAAAkCSMAQAAAJAkjAEA\n",
       "AACQJIwBAAAAkCSMAQAAAJAkjAEAAACQJIwBAAAAkCSMAQAAAJAkjAEAAACQJIwBAAAAkCSMAQAA\n",
       "AJAkjAEAAACQJIwBAAAAkCSMAQAAAJAkjAEAAACQJIwBAAAAkCSMAQAAAJAkjAEAAACQJIwBAAAA\n",
       "kCSMAQAAAJAkjAEAAACQJIwBAAAAkCSMAQAAAJAkjAEAAACQJIwBAAAAkCSMAQAAAJAkjAEAAACQ\n",
       "JIwBAAAAkCSMAQAAAJAkjAEAAACQJIwBAAAAkCSMAQAAAJAkjAEAAACQJIwBAAAAkCSMAQAAAJAk\n",
       "jAEAAACQJIwBAAAAkCSMAQAAAJAkjAEAAACQJIwBAAAAkCSMAQAAAJAkjAEAAACQJIwBAAAAkCSM\n",
       "AQAAAJAkjAEAAACQJIwBAAAAkCSMAQAAAJAkjAEAAACQJIwBAAAAkCSMAQAAAJAkjAEAAACQJIwB\n",
       "AAAAkCSMAQAAAJAkjAEAAACQJIwBAAAAkCSMAQAAAJAkjAEAAACQJIwBAAAAkCSMAQAAAJAkjAEA\n",
       "AACQJIwBAAAAkCSMAQAAAJAkjAEAAACQJIwBAAAAkCSMAQAAAJAkjAEAAACQJIwBAAAAkCSMAQAA\n",
       "AJAkjAEAAACQJIwBAAAAkCSMAQAAAJAkjAEAAACQJIwBAAAAkCSMAQAAAJAkjAEAAACQJIwBAAAA\n",
       "kCSMAQAAAJAkjAEAAACQJIwBAAAAkCSMAQAAAJAkjAEAAACQJIwBvNu1gxoAYQAIgqkB/KAOGfWD\n",
       "COyACUJDdkbBvTcHAABAkjAGAAAAQJIwBgAAAECSMAYAAABAkjAGAAAAQJIwBgAAAECSMAYAAABA\n",
       "kjAGAAAAQJIwBgAAAECSMAYAAABAkjAGAAAAQJIwBgAAAECSMAYAAABAkjAGAAAAQJIwBgAAAECS\n",
       "MAYAAABAkjAGAAAAQJIwBgAAAECSMAYAAABAkjAGAAAAQJIwBgAAAECSMAYAAABAkjAGAAAAQJIw\n",
       "BgAAAECSMAYAAABAkjAGAAAAQJIwBgAAAECSMAYAAABAkjAGAAAAQJIwBgAAAECSMAYAAABAkjAG\n",
       "AAAAQJIwBgAAAECSMAYAAABAkjAGAAAAQJIwBgAAAECSMAYAAABAkjAGAAAAQJIwBgAAAECSMAYA\n",
       "AABAkjAGAAAAQJIwBgAAAECSMAYAAABAkjAGAAAAQJIwBgAAAECSMAYAAABAkjAGAAAAQJIwBgAA\n",
       "AECSMAYAAABAkjAGAAAAQJIwBgAAAECSMAYAAABAkjAGAAAAQJIwBgAAAECSMAYAAABAkjAGAAAA\n",
       "QJIwBgAAAECSMAYAAABAkjAGAAAAQJIwBgAAAECSMAYAAABAkjAGAAAAQJIwBgAAAECSMAYAAABA\n",
       "kjAGAAAAQJIwBgAAAECSMAYAAABAkjAGAAAAQJIwBgAAAECSMAYAAABAkjAGAAAAQJIwBgAAAECS\n",
       "MAYAAABAkjAGAAAAQJIwBgAAAECSMAYAAABAkjAGAAAAQJIwBgAAAECSMAYAAABAkjAGAAAAQJIw\n",
       "BgAAAECSMAYAAABAkjAGAAAAQJIwBgAAAECSMAYAAABAkjAGAAAAQJIwBgAAAECSMAYAAABAkjAG\n",
       "AAAAQJIwBgAAAECSMAYAAABAkjAGAAAAQJIwBgAAAECSMAYAAABAkjAGAAAAQJIwBgAAAECSMAYA\n",
       "AABAkjAGAAAAQJIwBgAAAECSMAYAAABAkjAGAAAAQJIwBgAAAECSMAYAAABAkjAGAAAAQJIwBgAA\n",
       "AECSMAYAAABAkjAGAAAAQJIwBgAAAECSMAYAAABAkjAGAAAAQJIwBgAAAECSMAYAAABAkjAGAAAA\n",
       "QJIwBgAAAECSMAYAAABAkjAGAAAAQJIwBgAAAECSMAYAAABAkjAGAAAAQNLY53avHgEAAAB/cZzX\n",
       "6gnASzzGAAAAAEgSxgAAAABIEsYAAAAASBLGAAAAAEgSxgAAAABIEsYAAAAASBLGAAAAAEgSxgAA\n",
       "AABIEsYAAAAASBLGAAAAAEgSxgAAAABIEsYAAAAASBLGAAAAAEgSxgAAAABIEsYAAAAASBLGAAAA\n",
       "AEgSxgAAAABIEsYAAAAASBLGAAAAAEgSxgAAAABIEsYAAAAASBLGAAAAAEgSxgAAAABIEsYAAAAA\n",
       "SBLGAAAAAEgSxgAAAABIEsYAAAAASBLGAAAAAEgSxgAAAABIEsYAAAAASBLGAAAAAEgSxgAAAABI\n",
       "EsYAAAAASBLGAAAAAEgSxgAAAABIEsYAAAAASBLGAAAAAEgSxgAAAABIEsYAAAAASBLGAAAAAEgS\n",
       "xgAAAABIEsYAAAAASBLGAAAAAEgSxgAAAABIEsYAAAAASBLGAAAAAEgSxgAAAABIEsYAAAAASBLG\n",
       "AAAAAEgSxgAAAABIEsYAAAAASBLGAAAAAEgSxgAAAABIEsYAAAAASBLGAAAAAEgSxgAAAABIEsYA\n",
       "AAAASBLGAAAAAEgSxgAAAABIEsYAAAAASBLGAAAAAEgSxgAAAABIEsYAAAAASBLGAAAAAEgSxgAA\n",
       "AABIEsYAAAAASBLGAAAAAEgSxgAAAABIEsYAAAAASBLGAAAAAEgSxgAAAABIEsYAAAAASBLGAAAA\n",
       "AEgSxgAAAABIEsYAAAAASBLGAAAAAEgSxgAAAABIEsYAAAAASBLGAAAAAEgSxgAAAABIEsYAAAAA\n",
       "SBLGAAAAAEgSxgAAAABIEsYAAAAASBLGAAAAAEgSxgAAAABIEsYAAAAASBLGAAAAAEgSxgAAAABI\n",
       "EsYAAAAASBLGAAAAAEgSxgAAAABIEsYAAAAASBLGAAAAAEgSxgAAAABIEsYAAAAASBLGAAAAAEgS\n",
       "xgAAAABIEsYAAAAASBLGAAAAAEgSxgAAAABIEsYAAAAASBLGAAAAAEgSxgAAAABIEsYAAAAASBLG\n",
       "AAAAAEgSxgAAAABIEsYAAAAASBLGAAAAAEgSxgAAAABIEsYAAAAASBLGAAAAAEgSxgAAAABIEsYA\n",
       "AAAASBLGAAAAAEgSxgAAAABIEsYAAAAASBLGAAAAAEgSxgAAAABIEsYAAAAASBLGAAAAAEgSxgAA\n",
       "AABIEsYAAAAASBLGAAAAAEgSxgAAAABIEsYAAAAASBLGAAAAAEgSxgAAAABIEsYAAAAASBLGAAAA\n",
       "AEgSxgAAAABIEsYAAAAASBLGAAAAAEgSxgAAAABIEsYAAAAASBLGAAAAAEgSxgAAAABIEsYAAAAA\n",
       "SBLGAAAAAEgSxgAAAABIEsYAAAAASBLGAAAAAEgSxgAAAABIEsYAAAAASBLGAAAAAEgSxgAAAABI\n",
       "EsYAAAAASBLGAAAAAEgSxgAAAABIEsYAAAAASBLGAAAAAEgSxgAAAABIEsYAAAAASBLGAAAAAEgS\n",
       "xgAAAABIEsYAAAAASBLGAAAAAEgSxgAAAABIEsYAAAAASBLGAAAAAEgSxgAAAABIEsYAAAAASBLG\n",
       "AAAAAEgSxgAAAABIEsYAAAAASBLGAAAAAEgSxgAAAABIEsYAAAAASBLGAAAAAEgSxgAAAABIEsYA\n",
       "AAAASBLGAAAAAEgSxgAAAABIEsYAAAAASOYE31UAAA9FSURBVBLGAAAAAEgSxgAAAABIEsYAAAAA\n",
       "SBLGAAAAAEgSxgAAAABIEsYAAAAASBLGAAAAAEgSxgAAAABIEsYAAAAASBLGAAAAAEgSxgAAAABI\n",
       "EsYAAAAASBLGAAAAAEgSxgAAAABIEsYAAAAASBLGAAAAAEgSxgAAAABIEsYAAAAASBLGAAAAAEgS\n",
       "xgAAAABIEsYAAAAASBLGAAAAAEgSxgAAAABIEsYAAAAASBLGAAAAAEgSxgAAAABIEsYAAAAASBLG\n",
       "AAAAAEgSxgAAAABIEsYAAAAASBLGAAAAAEgSxgAAAABIEsYAAAAASBLGAAAAAEgSxgAAAABIEsYA\n",
       "AAAASBLGAAAAAEgSxgAAAABIEsYAAAAASBLGAAAAAEgSxgAAAABIEsYAAAAASBLGAAAAAEgSxgAA\n",
       "AABIEsYAAAAASBLGAAAAAEgSxgAAAABIEsYAAAAASBLGAAAAAEgSxgAAAABIEsYAAAAASBLGAAAA\n",
       "AEgSxgAAAABIEsYAAAAASBLGAAAAAEgSxgAAAABIEsYAAAAASBLGAAAAAEgSxgAAAABIEsYAAAAA\n",
       "SBLGAAAAAEgSxgAAAABIEsYAAAAASBLGAAAAAEgSxgAAAABIEsYAAAAASBLGAAAAAEgSxgAAAABI\n",
       "Gvvc7tUjAAAAAOBrHmMAAAAAJAljAAAAACQJYwAAAAAkCWMAAAAAJAljAAAAACQJYwAAAAAkCWMA\n",
       "AAAAJAljAAAAACQJYwAAAAAkCWMAAAAAJAljAAAAACQJYwAAAAAkCWMAAAAAJAljAAAAACQJYwAA\n",
       "AAAkCWMAAAAAJAljAAAAACQJYwAAAAAkCWMAAAAAJAljAAAAACQJYwAAAAAkCWMAAAAAJAljAAAA\n",
       "ACQJYwAAAAAkCWMAAAAAJAljAAAAACQJYwAAAAAkCWMAAAAAJAljAAAAACQJYwAAAAAkCWMAAAAA\n",
       "JAljAAAAACQJYwAAAAAkCWMAAAAAJAljAAAAACQJYwAAAAAkCWMAAAAAJAljAAAAACQJYwAAAAAk\n",
       "CWMAAAAAJAljAAAAACQJYwAAAAAkCWMAAAAAJAljAAAAACQJYwAAAAAkCWMAAAAAJAljAAAAACQJ\n",
       "YwAAAAAkCWMAAAAAJAljAAAAACQJYwAAAAAkCWMAAAAAJAljAAAAACQJYwAAAAAkCWMAAAAAJAlj\n",
       "AAAAACQJYwAAAAAkCWMAAAAAJAljAAAAACQJYwAAAAAkCWMAAAAAJAljAAAAACQJYwAAAAAkCWMA\n",
       "AAAAJAljAAAAACQJYwAAAAAkCWMAAAAAJAljAAAAACQJYwAAAAAkCWMAAAAAJAljAAAAACQJYwAA\n",
       "AAAkCWMAAAAAJAljAAAAACQJYwAAAAAkCWMAAAAAJAljAAAAACQJYwAAAAAkCWMAAAAAJAljAAAA\n",
       "ACQJYwAAAAAkCWMAAAAAJAljAAAAACQJYwAAAAAkCWMAAAAAJAljAAAAACQJYwAAAAAkCWMAAAAA\n",
       "JAljAAAAACQJYwAAAAAkCWMAAAAAJAljAAAAACQJYwAAAAAkCWMAAAAAJAljAAAAACQJYwAAAAAk\n",
       "CWMAAAAAJAljAAAAACQJYwAAAAAkCWMAAAAAJAljAAAAACQJYwAAAAAkCWMAAAAAJAljAAAAACQJ\n",
       "YwAAAAAkCWMAAAAAJAljAAAAACQJYwAAAAAkCWMAAAAAJAljAAAAACQJYwAAAAAkCWMAAAAAJAlj\n",
       "AAAAACQJYwAAAAAkCWMAAAAAJAljAAAAACQJYwAAAAAkCWMAAAAAJAljAAAAACQJYwAAAAAkCWMA\n",
       "AAAAJAljAAAAACQJYwAAAAAkCWMAAAAAJAljAAAAACQJYwAAAAAkCWMAAAAAJAljAAAAACQJYwAA\n",
       "AAAkCWMAAAAAJAljAAAAACQJYwAAAAAkCWMAAAAAJAljAAAAACQJYwAAAAAkCWMAAAAAJAljAAAA\n",
       "ACQJYwAAAAAkCWMAAAAAJAljAAAAACQJYwAAAAAkCWMAAAAAJAljAAAAACQJYwAAAAAkCWMAAAAA\n",
       "JAljAAAAACQJYwAAAAAkCWMAAAAAJAljAAAAACQJYwAAAAAkCWMAAAAAJAljAAAAACQJYwAAAAAk\n",
       "CWMAAAAAJAljAAAAACQJYwAAAAAkCWMAAAAAJAljAAAAACQJYwAAAAAkCWMAAAAAJAljAAAAACQJ\n",
       "YwAAAAAkCWMAAAAAJAljAAAAACQJYwAAAAAkCWMAAAAAJAljAAAAACQJYwAAAAAkCWMAAAAAJAlj\n",
       "AAAAACQJYwAAAAAkCWMAAAAAJAljAAAAACQJYwAAAAAkCWMAAAAAJAljAAAAACQJYwAAAAAkCWMA\n",
       "AAAAJAljAAAAACQJYwAAAAAkCWMAAAAAJAljAAAAACQJYwAAAAAkCWMAAAAAJAljAAAAACQJYwAA\n",
       "AAAkCWMAAAAAJAljAAAAACQJYwAAAAAkCWMAAAAAJAljAAAAACQJYwAAAAAkCWMAAAAAJAljAAAA\n",
       "ACQJYwAAAAAkCWMAAAAAJAljAAAAACQJYwAAAAAkCWMAAAAAJAljAAAAACQJYwAAAAAkCWMAAAAA\n",
       "JAljAAAAACQJYwAAAAAkCWMAAAAAJAljAAAAACQJYwAAAAAkCWMAAAAAJAljAAAAACQJYwAAAAAk\n",
       "CWMAAAAAJAljAAAAACQJYwAAAAAkCWMAAAAAJAljAAAAACQJYwAAAAAkCWMAAAAAJAljAAAAACQJ\n",
       "YwAAAAAkCWMAAAAAJAljAAAAACQJYwAAAAAkCWMAAAAAJAljAAAAACQJYwAAAAAkCWMAAAAAJAlj\n",
       "AAAAACQJYwAAAAAkCWMAAAAAJAljAAAAACQJYwAAAAAkCWMAAAAAJAljAAAAACQJYwAAAAAkCWMA\n",
       "AAAAJAljAAAAACQJYwAAAAAkCWMAAAAAJAljAAAAACQJYwAAAAAkCWMAAAAAJAljAAAAACQJYwAA\n",
       "AAAkCWMAAAAAJAljAAAAACQJYwAAAAAkCWMAAAAAJAljAAAAACQJYwAAAAAkCWMAAAAAJAljAAAA\n",
       "ACQJYwAAAAAkCWMAAAAAJAljAAAAACQJYwAAAAAkCWMAAAAAJAljAAAAACQJYwAAAAAkCWMAAAAA\n",
       "JAljAAAAACQJYwAAAAAkCWMAAAAAJAljAAAAACQJYwAAAAAkCWMAAAAAJAljAAAAACQJYwAAAAAk\n",
       "CWMAAAAAJAljAAAAACQJYwAAAAAkCWMAAAAAJAljAAAAACQJYwAAAAAkCWMAAAAAJAljAAAAACQJ\n",
       "YwAAAAAkCWMAAAAAJAljAAAAACQJYwAAAAAkCWMAAAAAJAljAAAAACQJYwAAAAAkCWMAAAAAJAlj\n",
       "AAAAACQJYwAAAAAkCWMAAAAAJAljAAAAACQJYwAAAAAkCWMAAAAAJAljAAAAACQJYwAAAAAkCWMA\n",
       "AAAAJAljAAAAACQJYwAAAAAkCWMAAAAAJAljAAAAACQJYwAAAAAkCWMAAAAAJAljAAAAACQJYwAA\n",
       "AAAkCWMAAAAAJAljAAAAACQJYwAAAAAkCWMAAAAAJAljAAAAACQJYwAAAAAkCWMAAAAAJAljAAAA\n",
       "ACQJYwAAAAAkCWMAAAAAJAljAAAAACQJYwAAAAAkCWMAAAAAJAljAAAAACQJYwAAAAAkCWMAAAAA\n",
       "JAljAAAAACQJYwAAAAAkCWMAAAAAJAljAAAAACQJYwAAAAAkCWMAAAAAJAljAAAAACQJYwAAAAAk\n",
       "CWMAAAAAJAljAAAAACQJYwAAAAAkCWMAAAAAJAljAAAAACQJYwAAAAAkCWMAAAAAJAljAAAAACQJ\n",
       "YwAAAAAkCWMAAAAAJAljAAAAACQJYwAAAAAkCWMAAAAAJAljAAAAACQJYwAAAAAkCWMAAAAAJAlj\n",
       "AAAAACQJYwAAAAAkCWMAAAAAJAljAAAAACQJYwAAAAAkCWMAAAAAJAljAAAAACQJYwAAAAAkCWMA\n",
       "AAAAJAljAAAAACQJYwAAAAAkCWMAAAAAJAljAAAAACQJYwAAAAAkCWMAAAAAJAljAAAAACQJYwAA\n",
       "AAAkCWMAAAAAJAljAAAAACQJYwAAAAAkCWMAAAAAJAljAAAAACQJYwAAAAAkCWMAAAAAJAljAAAA\n",
       "ACQJYwAAAAAkCWMAAAAAJAljAAAAACQJYwAAAAAkCWMAAAAAJAljAAAAACQJYwAAAAAkCWMAAAAA\n",
       "JAljAAAAACQJYwAAAAAkCWMAAAAAJAljAAAAACQJYwAAAAAkCWMAAAAAJAljAAAAACQJYwAAAAAk\n",
       "CWMAAAAAJAljAAAAACQJYwAAAAAkCWMAAAAAJAljAAAAACQJYwAAAAAkCWMAAAAAJAljAAAAACQJ\n",
       "YwAAAAAkCWMAAAAAJAljAAAAACQJYwAAAAAkCWMAAAAAJAljAAAAACQJYwAAAAAkCWMAAAAAJAlj\n",
       "AAAAACQJYwAAAAAkCWMAAAAAJAljAAAAACQJYwAAAAAkCWMAAAAAJAljAAAAACQJYwAAAAAkCWMA\n",
       "AAAAJAljAAAAACQJYwAAAAAkCWMAAAAAJAljAAAAACQJYwAAAAAkCWMAAAAAJAljAAAAACQJYwAA\n",
       "AAAkCWMAAAAAJAljAAAAACQJYwAAAAAkCWMAAAAAJAljAAAAACQJYwAAAAAkCWMAAAAAJAljAAAA\n",
       "ACQJYwAAAAAkCWMAAAAAJAljAAAAACQJYwAAAAAkCWMAAAAAJAljAAAAACQJYwAAAAAkCWMAAAAA\n",
       "JAljAAAAACQJYwAAAAAkCWMAAAAAJAljAAAAACQJYwAAAAAkCWMAAAAAJAljAAAAACQJYwAAAAAk\n",
       "CWMAAAAAJAljAAAAACQJYwAAAAAkCWMAAAAAJAljAAAAACQJYwAAAAAkCWMAAAAAJAljAAAAACQJ\n",
       "YwAAAAAkCWMAAAAAJAljAAAAACQJYwAAAAAkCWMAAAAAJAljAAAAACQJYwAAAAAkCWMAAAAAJAlj\n",
       "AAAAACQJYwAAAAAkCWMAAAAAJAljAAAAACQJYwAAAAAkCWMAAAAAJAljAAAAACQJYwAAAAAkCWMA\n",
       "AAAAJAljAAAAACQJYwAAAAAkCWMAAAAAJAljAAAAACQJYwAAAAAkCWMAAAAAJAljAAAAACQJYwAA\n",
       "AAAkCWMAAAAAJAljAAAAACQJYwAAAAAkCWMAAAAAJAljAAAAACQJYwAAAAAkCWMAAAAAJAljAAAA\n",
       "ACQJYwAAAAAkCWMAAAAAJAljAAAAACQJYwAAAAAkCWMAAAAAJAljAAAAACQJYwAAAAAkCWMAAAAA\n",
       "JAljAAAAACQ9kRoh+sKiHA4AAAAASUVORK5CYII=\n",
       "\" transform=\"translate(419, 154)\"/>\n",
       "</g>\n",
       "</svg>\n"
      ]
     },
     "execution_count": 31,
     "metadata": {},
     "output_type": "execute_result"
    }
   ],
   "source": [
    "m = 7; n = 5;\n",
    "A = ones(m,n)\n",
    "for i = 1:n\n",
    "    A[i+1:end,i] .= -1.0\n",
    "end\n",
    "p = imshow(A)\n",
    "plot!(p, colorbar=false, title = \"LAPACK *GEQRF R (upper) and reflectors (lower)\")"
   ]
  },
  {
   "cell_type": "markdown",
   "id": "7c8b6cb5",
   "metadata": {
    "slideshow": {
     "slide_type": "subslide"
    }
   },
   "source": [
    "### Notes on HW2, problem 5\n",
    "\n",
    "The point is to see that for some triangular matrices the singular values are very different from the diagonal values, using the example of a particular _Toeplitz_ (constant diagonals) matrix.\n",
    "\n",
    "- Part (a): straightforward given previous work on triangular matrices in lectures and homework 1.\n",
    "- Part (b): guess that $A^{-1}$ is _also_ Toeplitz; determine what each diagonal must be; check that it is the inverse.\n",
    "- Part (c): How does $\\|A^{-1}\\|_2$ relate to the smallest singular value of $A$? Consider $\\|A^{-1} e_k\\|_2$ for different choices of $k$."
   ]
  }
 ],
 "metadata": {
  "@webio": {
   "lastCommId": null,
   "lastKernelId": null
  },
  "celltoolbar": "Attachments",
  "hide_input": false,
  "kernelspec": {
   "display_name": "Julia 1.7.0",
   "language": "julia",
   "name": "julia-1.7"
  },
  "language_info": {
   "file_extension": ".jl",
   "mimetype": "application/julia",
   "name": "julia",
   "version": "1.7.0"
  }
 },
 "nbformat": 4,
 "nbformat_minor": 5
}
