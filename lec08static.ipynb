{
 "cells": [
  {
   "cell_type": "code",
   "execution_count": 1,
   "metadata": {},
   "outputs": [
    {
     "name": "stderr",
     "output_type": "stream",
     "text": [
      "\u001b[32m\u001b[1m    Updating\u001b[22m\u001b[39m registry at `~/.julia/registries/General.toml`\n",
      "\u001b[32m\u001b[1m   Resolving\u001b[22m\u001b[39m package versions...\n",
      "\u001b[32m\u001b[1m  No Changes\u001b[22m\u001b[39m to `~/srv/rep/22-course-cse6643/mybinder/Project.toml`\n",
      "\u001b[32m\u001b[1m  No Changes\u001b[22m\u001b[39m to `~/srv/rep/22-course-cse6643/mybinder/Manifest.toml`\n"
     ]
    },
    {
     "data": {
      "text/plain": [
       "LogLevel(1)"
      ]
     },
     "execution_count": 1,
     "metadata": {},
     "output_type": "execute_result"
    }
   ],
   "source": [
    "import Pkg; Pkg.add([\"Plots\", \"Interact\", \"Polyhedra\", \"GLPK\"]);\n",
    "import Logging; Logging.disable_logging(Logging.Info)"
   ]
  },
  {
   "cell_type": "code",
   "execution_count": 2,
   "metadata": {},
   "outputs": [],
   "source": [
    "const STATIC_LECTURE = true;"
   ]
  },
  {
   "cell_type": "code",
   "execution_count": 3,
   "metadata": {},
   "outputs": [
    {
     "data": {
      "text/plain": [
       "draw (generic function with 1 method)"
      ]
     },
     "execution_count": 3,
     "metadata": {},
     "output_type": "execute_result"
    }
   ],
   "source": [
    "function draw(plt)\n",
    "    if STATIC_LECTURE\n",
    "        filename = Base.Filesystem.tempname() * \".png\"\n",
    "        savefig(filename)\n",
    "        return display(\"image/png\", read(filename))\n",
    "    else\n",
    "        return plt\n",
    "    end\n",
    "end"
   ]
  },
  {
   "cell_type": "code",
   "execution_count": 4,
   "metadata": {},
   "outputs": [
    {
     "data": {
      "application/vnd.webio.node+json": {
       "children": [],
       "instanceArgs": {
        "namespace": "html",
        "tag": "div"
       },
       "nodeType": "DOM",
       "props": {},
       "type": "node"
      },
      "text/html": [
       "<div style=\"padding: 1em; background-color: #f8d6da; border: 1px solid #f5c6cb; font-weight: bold;\">\n",
       "<p>The WebIO Jupyter extension was not detected. See the\n",
       "<a href=\"https://juliagizmos.github.io/WebIO.jl/latest/providers/ijulia/\" target=\"_blank\">\n",
       "    WebIO Jupyter integration documentation\n",
       "</a>\n",
       "for more information.\n",
       "</div>\n"
      ],
      "text/plain": [
       "WebIO._IJuliaInit()"
      ]
     },
     "metadata": {
      "application/vnd.webio.node+json": {
       "kernelId": "95335d85-b5ff-4959-99a8-549a2e164bd2"
      }
     },
     "output_type": "display_data"
    },
    {
     "data": {
      "text/plain": [
       "imshow (generic function with 1 method)"
      ]
     },
     "execution_count": 4,
     "metadata": {},
     "output_type": "execute_result"
    }
   ],
   "source": [
    "using LinearAlgebra;\n",
    "using Plots; plotlyjs(); default(l=5, size=(900,550), label=false);\n",
    "using Interact;\n",
    "using Polyhedra;\n",
    "using Printf;\n",
    "\n",
    "import GLPK\n",
    "lib = DefaultLibrary{Float64}(GLPK.Optimizer)\n",
    "\n",
    "prettyprint(a) = map(x -> @sprintf(\"%+.2f\", x), v)\n",
    "\n",
    "function imshow(x; kwargs...)\n",
    "    return heatmap(x\n",
    "        , aspect_ratio=:equal\n",
    "        , framestyle=:none\n",
    "        , yflip=true\n",
    "        , c=:diverging_gwv_55_95_c39_n256\n",
    "        ; kwargs...\n",
    "    )\n",
    "end"
   ]
  },
  {
   "cell_type": "markdown",
   "metadata": {
    "slideshow": {
     "slide_type": "slide"
    }
   },
   "source": [
    "**(Follow along: <https://tinyurl.com/gtcse6643lec8>)**\n",
    "\n",
    "### Warmup\n",
    "\n",
    "- Look over HW2 and prepare questions for office hours / piazza"
   ]
  },
  {
   "cell_type": "markdown",
   "metadata": {
    "slideshow": {
     "slide_type": "slide"
    }
   },
   "source": [
    "# Parallelism, Least Squares Problems\n",
    "\n",
    "**1. Parallelism and QR**\n",
    "\n",
    "**2. Least Squares Problems**\n",
    "\n",
    "**3. Orthogonal Projection and the Normal Equations**\n",
    "\n",
    "**4. The Pseudoinverse**\n",
    "\n",
    "**5. Solving the Least Squares Problem**"
   ]
  },
  {
   "cell_type": "markdown",
   "metadata": {
    "slideshow": {
     "slide_type": "slide"
    }
   },
   "source": [
    "## Parallelism and QR"
   ]
  },
  {
   "cell_type": "markdown",
   "metadata": {
    "slideshow": {
     "slide_type": "subslide"
    }
   },
   "source": [
    "### A summary comparison of algorithms\n",
    "\n",
    "| algorithm | acts on | stability | behavior | cost |\n",
    "| :-: | :-: | :-: | :-: | :-: |\n",
    "| classical Gram-Schmidt | $$Q$$ | ❌ | left-looking | $$\\sim 2mn^2$$ |\n",
    "| modified Gram-Schmidt | $$Q$$ | ⚠️ | right-looking | $$\\sim 2mn^2$$ |\n",
    "| Householder QR | $$R$$ | ✅ | down-looking | $$\\sim 2mn^2 - \\textstyle{\\frac{2}{3}}n^3$$ |"
   ]
  },
  {
   "cell_type": "markdown",
   "metadata": {
    "slideshow": {
     "slide_type": "subslide"
    }
   },
   "source": [
    "### The missing column(s)?\n",
    "\n",
    "| algorithm | acts on | stability | behavior | cost | **_parallelism_** |\n",
    "| :-: | :-: | :-: | :-: | :-: | :-: |\n",
    "| classical Gram-Schmidt | $$Q$$ | ❌ | left-looking | $$\\sim 2mn^2$$ | **?** |\n",
    "| modified Gram-Schmidt | $$Q$$ | ⚠️ | right-looking | $$\\sim 2mn^2$$ | **?** |\n",
    "| Householder QR | $$R$$ | ✅ | down-looking | $$\\sim 2mn^2 - \\textstyle{\\frac{2}{3}}n^3$$ | **?** |"
   ]
  },
  {
   "cell_type": "markdown",
   "metadata": {
    "slideshow": {
     "slide_type": "subslide"
    }
   },
   "source": [
    "### The importance of parallelism\n",
    "\n",
    "- Most of the performance of modern computers is tied up in their ability to do multiple things **in parallel**\n",
    "- The work (flops) is sometimes overshadowed by the cost of **moving data (communicating)** between the parallel parts of the machine"
   ]
  },
  {
   "cell_type": "markdown",
   "metadata": {
    "slideshow": {
     "slide_type": "subslide"
    }
   },
   "source": [
    "### Concurrency\n",
    "\n",
    "- Roughly speaking, the **concurrency** of an algorithm is how much it exploits the paralleism of a computer:\n",
    "\n",
    "  - High concurrency $\\Rightarrow$ adding parallelism will make the implementation faster\n",
    "  \n",
    "  - Low concurrency $\\Rightarrow$ adding parallelism does not speed up the calculation"
   ]
  },
  {
   "cell_type": "markdown",
   "metadata": {
    "cell_style": "split",
    "slideshow": {
     "slide_type": "subslide"
    }
   },
   "source": [
    "### A simple model of parallelism for today: factoring lots of distributed data"
   ]
  },
  {
   "cell_type": "markdown",
   "metadata": {
    "cell_style": "split",
    "slideshow": {
     "slide_type": "-"
    }
   },
   "source": [
    "$$\n",
    "\\begin{aligned}\n",
    "&\\begin{bmatrix} \\hline\n",
    "\\\\\n",
    "A_1 \\\\\n",
    "\\\\ \\hline\n",
    "\\end{bmatrix}\n",
    "&&\\begin{bmatrix} \\hline\n",
    "\\\\\n",
    "Q_1 \\\\\n",
    "\\\\ \\hline\n",
    "\\end{bmatrix}\n",
    "\\begin{bmatrix}\\hline \\strut R \\\\ \\hline\n",
    "\\end{bmatrix}\n",
    "\\\\\n",
    "&\\begin{bmatrix} \\hline\n",
    "\\\\\n",
    "A_2 \\\\\n",
    "\\\\ \\hline\n",
    "\\end{bmatrix}\n",
    "&&\\begin{bmatrix} \\hline\n",
    "\\\\\n",
    "Q_2 \\\\\n",
    "\\\\ \\hline\n",
    "\\end{bmatrix}\n",
    "\\begin{bmatrix}\\hline \\strut R \\\\ \\hline\n",
    "\\end{bmatrix}\\\\\n",
    "&\\quad \\vdots \\quad \\quad \\quad=& &\\quad \\vdots\\\\\n",
    "&\\begin{bmatrix} \\hline\n",
    "\\\\\n",
    "A_p \\\\\n",
    "\\\\ \\hline\n",
    "\\end{bmatrix}\n",
    "&&\\begin{bmatrix} \\hline\n",
    "\\\\\n",
    "Q_p \\\\\n",
    "\\\\ \\hline\n",
    "\\end{bmatrix}\n",
    "\\begin{bmatrix}\\hline \\strut R \\\\ \\hline\n",
    "\\end{bmatrix}\n",
    "\\end{aligned}\n",
    "$$"
   ]
  },
  {
   "cell_type": "markdown",
   "metadata": {
    "cell_style": "split"
   },
   "source": [
    "- $m \\gg n$, so each _processor_ has a portion of each column of $A$ and $Q$\n",
    "\n",
    "- Copies of $R$ are small and can be duplicated for each processor\n",
    "\n",
    "- We want to count **rounds of communication**: one round of communication for each matrix matrix product $A B$ where _both_ $A$ and $B$ have an $m$ dimension:\n",
    "\n",
    "  - $Q \\cdot R$, $Q \\in \\mathbb{C}^{m\\times n}$, $R \\in \\mathbb{C}^{n\\times n}$: 0 rounds\n",
    "  \n",
    "  - $Q^* Q$, $Q \\in \\mathbb{C}^{m \\times n}$: 1 round\n",
    "  \n",
    "  - $Q y$, $Q \\in \\mathbb{C}^{m \\times n}$, $y \\in \\mathbb{C}^n$: 0 rounds\n",
    "  - $v^*w$, $v, w \\in \\mathbb{C}^m$: 1 round"
   ]
  },
  {
   "cell_type": "markdown",
   "metadata": {
    "slideshow": {
     "slide_type": "subslide"
    }
   },
   "source": [
    "### Rounds of communication in CGS / MGS?"
   ]
  },
  {
   "cell_type": "code",
   "execution_count": 5,
   "metadata": {
    "cell_style": "split"
   },
   "outputs": [],
   "source": [
    "function cgs(A)\n",
    "    m, n = size(A); Q = copy(A); R = zeros(n, n);\n",
    "    for j = 1:n\n",
    "        R[1:j-1,j] = Q[:,1:j-1]' * Q[:,j] # 1\n",
    "        Q[:,j] -= Q[:,1:j-1] * R[1:j-1,j] # 0\n",
    "        R[j,j] = norm(Q[:,j])             # 1\n",
    "        Q[:,j] /= R[j,j]                  # 0\n",
    "    end\n",
    "    return Q, R\n",
    "end;"
   ]
  },
  {
   "cell_type": "code",
   "execution_count": 6,
   "metadata": {
    "cell_style": "split"
   },
   "outputs": [],
   "source": [
    "function mgs(A)\n",
    "    m, n = size(A); Q = copy(A); R = zeros(n, n);\n",
    "    for i = 1:n\n",
    "        R[i,i] = norm(Q[:,i])             # 1\n",
    "        Q[:,i] /= R[i,i]                  # 0\n",
    "        R[i,i+1:n] = Q[:,i]' * Q[:,i+1:n] # 1\n",
    "        Q[:,j] -= Q[:,[i]] * R[[i],i+1:n] # 0\n",
    "    end\n",
    "    return Q, R\n",
    "end;"
   ]
  },
  {
   "cell_type": "markdown",
   "metadata": {},
   "source": [
    "- Each of classical and modified Gram-Schmidt has two round of communication per iteration\n",
    "\n",
    "$$\\Rightarrow 2n \\text{ rounds of communication}$$"
   ]
  },
  {
   "cell_type": "markdown",
   "metadata": {
    "slideshow": {
     "slide_type": "subslide"
    }
   },
   "source": [
    "### Rounds of communication in Householder?\n",
    "\n",
    "(products subvectors of $m$-vectors will incur a round of communication, even if the length is $m - (i-1) < m$."
   ]
  },
  {
   "cell_type": "code",
   "execution_count": 7,
   "metadata": {
    "cell_style": "split"
   },
   "outputs": [],
   "source": [
    "function householder_vector(x)\n",
    "    u = copy(x)\n",
    "    xnorm_tail = norm(x[2:end])           # 1 (broadcast x[1] in the same communication)\n",
    "    xnorm = (xnorm_tail^2 + conj(u[1])*u[1])^(1/2) # 0\n",
    "    phi = sign(u[1])                      # 0\n",
    "    u[1] += phi * xnorm                   # 0\n",
    "    unorm = (xnorm_tail^2 + u[1]^2)^(1/2) # 0\n",
    "    u /= unorm                            # 0\n",
    "    return u\n",
    "end;"
   ]
  },
  {
   "cell_type": "code",
   "execution_count": 8,
   "metadata": {
    "cell_style": "split"
   },
   "outputs": [
    {
     "data": {
      "text/plain": [
       "householder_reflect (generic function with 1 method)"
      ]
     },
     "execution_count": 8,
     "metadata": {},
     "output_type": "execute_result"
    }
   ],
   "source": [
    "function householder_reflect(u,v)\n",
    "    return v - 2*u*(u'*v) # 1\n",
    "end"
   ]
  },
  {
   "cell_type": "code",
   "execution_count": 9,
   "metadata": {
    "cell_style": "split"
   },
   "outputs": [
    {
     "data": {
      "text/plain": [
       "householder_reflect_left (generic function with 1 method)"
      ]
     },
     "execution_count": 9,
     "metadata": {},
     "output_type": "execute_result"
    }
   ],
   "source": [
    "function householder_reflect_left(vstar,u)\n",
    "    return vstar - 2*(vstar*u)*u' # 1\n",
    "end"
   ]
  },
  {
   "cell_type": "code",
   "execution_count": 10,
   "metadata": {},
   "outputs": [
    {
     "data": {
      "text/plain": [
       "householder_qr (generic function with 1 method)"
      ]
     },
     "execution_count": 10,
     "metadata": {},
     "output_type": "execute_result"
    }
   ],
   "source": [
    "function householder_qr(A)\n",
    "    m, n = size(A)\n",
    "    U = zeros(eltype(A), m, n)\n",
    "    R = copy(A)\n",
    "    for i = 1:n\n",
    "        U[i:m,i] = householder_vector(R[i:m,i])                # 1\n",
    "        R[i:m,i:n] = householder_reflect(U[i:m,i], R[i:m,i:n]) # 1\n",
    "        R[i+1:m,i] .= 0\n",
    "    end\n",
    "    return U, R\n",
    "end"
   ]
  },
  {
   "cell_type": "markdown",
   "metadata": {},
   "source": [
    "$$\\Rightarrow 2n \\text{ rounds of communication}$$"
   ]
  },
  {
   "cell_type": "markdown",
   "metadata": {
    "slideshow": {
     "slide_type": "subslide"
    }
   },
   "source": [
    "| algorithm | acts on | stability | behavior | cost | comm. rounds |\n",
    "| :-: | :-: | :-: | :-: | :-: | :-: |\n",
    "| classical Gram-Schmidt | $$Q$$ | ❌ | left-looking | $$\\sim 2mn^2$$ | $$2n$$ |\n",
    "| modified Gram-Schmidt | $$Q$$ | ⚠️ | right-looking | $$\\sim 2mn^2$$ | $$2n$$ |\n",
    "| Householder QR | $$R$$ | ✅ | down-looking | $$\\sim 2mn^2 - \\textstyle{\\frac{2}{3}}n^3$$ | $$2n$$ |"
   ]
  },
  {
   "cell_type": "markdown",
   "metadata": {
    "slideshow": {
     "slide_type": "subslide"
    }
   },
   "source": [
    "### Online variant\n",
    "\n",
    "How much communication is required if a new vector $v$ must be orthogonalized after the others have already been orthogonalized?"
   ]
  },
  {
   "cell_type": "markdown",
   "metadata": {
    "cell_style": "split",
    "slideshow": {
     "slide_type": "-"
    }
   },
   "source": [
    "$$\n",
    "\\begin{aligned}\n",
    "&\\begin{bmatrix} \\hline\n",
    "& & \\\\\n",
    "& Q_1 & \\\\\n",
    "\\\\ \\hline\n",
    "\\end{bmatrix}\n",
    "\\begin{bmatrix}\\hline \\strut R \\\\ \\hline\n",
    "\\end{bmatrix},\n",
    "\\begin{bmatrix} \\hline\n",
    "\\\\\n",
    "v_{1}\\\\\n",
    "\\\\ \\hline\n",
    "\\end{bmatrix}\n",
    "\\\\\n",
    "&\\begin{bmatrix} \\hline\n",
    "& & \\\\\n",
    "& Q_2 & \\\\\n",
    "& & \\\\ \\hline\n",
    "\\end{bmatrix}\n",
    "\\begin{bmatrix}\\hline \\strut R \\\\ \\hline\n",
    "\\end{bmatrix},\\begin{bmatrix} \\hline\n",
    "\\\\\n",
    "v_{2}\\\\\n",
    "\\\\ \\hline\n",
    "\\end{bmatrix}\\\\\n",
    "&\\quad \\vdots\\\\\n",
    "&\\begin{bmatrix} \\hline\n",
    "& & \\\\\n",
    "& Q_p &  \\\\\n",
    "& & \\\\ \\hline\n",
    "\\end{bmatrix}\n",
    "\\begin{bmatrix}\\hline \\strut R \\\\ \\hline\n",
    "\\end{bmatrix},\\begin{bmatrix} \\hline\n",
    "\\\\\n",
    "v_{p}\\\\\n",
    "\\\\ \\hline\n",
    "\\end{bmatrix}\n",
    "\\end{aligned}\n",
    "$$"
   ]
  },
  {
   "cell_type": "markdown",
   "metadata": {
    "cell_style": "split",
    "slideshow": {
     "slide_type": "-"
    }
   },
   "source": [
    "$$\n",
    "\\begin{aligned}\n",
    "&\\left[\\begin{array}{ccc|c} \\hline\n",
    "& & & \\\\\n",
    "& Q_1 & & q_1 \\\\\n",
    "& & & \\\\ \\hline\n",
    "\\end{array}\n",
    "\\right]\n",
    "\\begin{bmatrix}\\hline \\strut \\tilde{R} \\\\ \\hline\n",
    "\\end{bmatrix}\n",
    "\\\\\n",
    "&\\left[\\begin{array}{ccc|c} \\hline\n",
    "& & & \\\\\n",
    "& Q_p & & q_p \\\\\n",
    "& & & \\\\ \\hline\n",
    "\\end{array}\n",
    "\\right]\n",
    "\\begin{bmatrix}\\hline \\strut \\tilde{R} \\\\ \\hline\n",
    "\\end{bmatrix}\\\\\n",
    "&\\quad \\vdots\\\\\n",
    "&\\left[\\begin{array}{ccc|c} \\hline\n",
    "& & & \\\\\n",
    "& Q_p & & q_p \\\\\n",
    "& & & \\\\ \\hline\n",
    "\\end{array}\n",
    "\\right]\n",
    "\\begin{bmatrix}\\hline \\strut \\tilde{R} \\\\ \\hline\n",
    "\\end{bmatrix}\n",
    "\\end{aligned}\n",
    "$$"
   ]
  },
  {
   "cell_type": "markdown",
   "metadata": {
    "slideshow": {
     "slide_type": "subslide"
    }
   },
   "source": [
    "### Classical Gram-Schmidt vs. Modified Gram-Schmidt, online communication"
   ]
  },
  {
   "cell_type": "code",
   "execution_count": 11,
   "metadata": {
    "cell_style": "split"
   },
   "outputs": [
    {
     "data": {
      "text/plain": [
       "cgs_new_vec! (generic function with 1 method)"
      ]
     },
     "execution_count": 11,
     "metadata": {},
     "output_type": "execute_result"
    }
   ],
   "source": [
    "function cgs_new_vec!(Q,R,v)\n",
    "    # store the orthogonalization of v as the last\n",
    "    # columns of Q and R\n",
    "    R[1:end-1,end] = Q[:,1:end-1]' * v           # 1\n",
    "    Q[:,end] = v - Q[:,1:end-1] * R[1:end-1,end] # 0\n",
    "    R[end,end] = norm(Q[:,end])                  # 1\n",
    "    Q[:,end] /= R[end,end]                       # 0\n",
    "end"
   ]
  },
  {
   "cell_type": "code",
   "execution_count": 12,
   "metadata": {
    "cell_style": "split"
   },
   "outputs": [
    {
     "data": {
      "text/plain": [
       "mgs_new_vec! (generic function with 1 method)"
      ]
     },
     "execution_count": 12,
     "metadata": {},
     "output_type": "execute_result"
    }
   ],
   "source": [
    "function mgs_new_vec!(Q,R,v)\n",
    "    # store the orthogonalization of v as the last\n",
    "    # columns of Q and R\n",
    "    Q[:,end] = v\n",
    "    for i = 1:size(Q)[2]-1\n",
    "        R[i,end] = Q[:,i]' * Q[:,end] # 1\n",
    "        Q[:,end] -= Q[:,i] * R[i,end] # 0\n",
    "    end\n",
    "    R[end,end] = norm(Q[:,end]) # 1\n",
    "    Q[:,end] /= R[end,end]      # 0\n",
    "end"
   ]
  },
  {
   "cell_type": "markdown",
   "metadata": {},
   "source": [
    "- Classical Gram-Schmidt: 2 rounds of communication for column $k$ $\\Rightarrow$ $2n$ total"
   ]
  },
  {
   "cell_type": "markdown",
   "metadata": {},
   "source": [
    "- Modified Gram-Schmidt: $k$ rounds of communication for column $k$ $\\Rightarrow$ $(1/2)n^2$ total"
   ]
  },
  {
   "cell_type": "markdown",
   "metadata": {
    "slideshow": {
     "slide_type": "fragment"
    }
   },
   "source": [
    "- Householder QR: $k$ rounds of communication for column $k$  $\\Rightarrow$ $(1/2)n^2$ total"
   ]
  },
  {
   "cell_type": "markdown",
   "metadata": {
    "slideshow": {
     "slide_type": "subslide"
    }
   },
   "source": [
    "| algorithm | acts on | stability | behavior | cost | static comm. rounds | online comm. rounds |\n",
    "| :-: | :-: | :-: | :-: | :-: | :-: | :-: |\n",
    "| classical Gram-Schmidt | $$Q$$ | ❌ | left-looking | $$\\sim 2mn^2$$ | $$2n$$ | $$2n$$ |\n",
    "| modified Gram-Schmidt | $$Q$$ | ⚠️ | right-looking | $$\\sim 2mn^2$$ | $$2n$$ | $$\\sim\\textstyle\\frac{1}{2}n^2$$ |\n",
    "| Householder QR | $$R$$ | ✅ | down-looking | $$\\sim 2mn^2 - \\textstyle{\\frac{2}{3}}n^3$$ | $$2n$$ | $$\\sim\\textstyle\\frac{1}{2}n^2$$ |\n",
    "\n",
    "- Classical Gram-Schmidt is widely used in online parallel orthogonalization.  It's stability deficiencies can be overcome using the same idea as HW2, Problem 8."
   ]
  },
  {
   "cell_type": "markdown",
   "metadata": {
    "slideshow": {
     "slide_type": "subslide"
    }
   },
   "source": [
    "### Tall Skinny QR <https://arxiv.org/abs/0806.2159>\n",
    "\n",
    "Consider just 2 processors:\n",
    "\n",
    "1. Each processor does a QR factorization on its portion of the columns of $A$:\n",
    "\n",
    "   $$\\begin{aligned}\n",
    "   A_1 &= \\tilde{Q}_1 \\hat{R}_1, \\\\\n",
    "   A_2 &= \\tilde{Q}_2 \\hat{R}_2. \\\\\n",
    "   \\end{aligned}$$\n",
    "   \n",
    "   These separate equations can be restated as one matrix equation,\n",
    "   \n",
    "   $$\n",
    "   A = \\begin{bmatrix} A_1 \\\\ \\hline A_2 \\end{bmatrix} = \n",
    "   \\underbrace{\\left[\\begin{array}{c|c} \\tilde{Q}_1 & \\\\ \\hline & \\tilde{Q}_2 \\end{array}\\right]}_{\\text{orthonormal columns}} \\begin{bmatrix} \\hat{R}_1 \\\\ \\hline \\hat{R}_2 \\end{bmatrix}.\n",
    "   $$\n",
    "   "
   ]
  },
  {
   "cell_type": "markdown",
   "metadata": {
    "slideshow": {
     "slide_type": "subslide"
    }
   },
   "source": [
    "2. The processors exchange $\\hat{R}_1$ and $\\hat{R}_2$ with each other (1 round of communiciation) and each does a duplicate QR factorization of the vertical stack:\n",
    "\n",
    "   $$\\begin{bmatrix} \\hat{R}_1 \\\\ \\hline \\hat{R}_2 \\end{bmatrix} = \\tilde{U} \\hat{R} = \n",
    "   \\begin{bmatrix} \\tilde{U}_1  \\\\ \\hline \\tilde{U}_2 \\end{bmatrix} \\hat{R}$$\n",
    "   \n",
    "3. Each process can form its portion of the columns of $\\hat{Q}$:\n",
    "\n",
    "   $$A = \\begin{bmatrix} A_1 \\\\ \\hline A_2 \\end{bmatrix} = \\left[\\begin{array}{c|c} \\tilde{Q}_1 & \\\\ \\hline & \\tilde{Q}_2 \\end{array}\\right] \\begin{bmatrix} \\hat{R}_1 \\\\ \\hline \\hat{R}_2 \\end{bmatrix} =\n",
    "   \\left[\\begin{array}{c|c} \\tilde{Q}_1 & \\\\ \\hline & \\tilde{Q}_2 \\end{array}\\right]\\begin{bmatrix} \\tilde{U}_1  \\\\ \\hline \\tilde{U}_2 \\end{bmatrix} \\hat{R} =\n",
    "   \\begin{bmatrix} \\tilde{Q}_1\\tilde{U}_1  \\\\ \\hline \\tilde{Q}_2 \\tilde{U}_2 \\end{bmatrix} \\hat{R}.$$"
   ]
  },
  {
   "cell_type": "markdown",
   "metadata": {
    "slideshow": {
     "slide_type": "subslide"
    }
   },
   "source": [
    "### Tall Skinny QR is recursive\n",
    "\n",
    "We can generalize this idea to halve the number of processes in each iteration for a total of\n",
    "\n",
    "$$\\log p\\text{ round of communication}$$"
   ]
  },
  {
   "cell_type": "markdown",
   "metadata": {
    "slideshow": {
     "slide_type": "subslide"
    }
   },
   "source": [
    "| algorithm | acts on | stability | behavior | cost | static comm. rounds | online comm. rounds |\n",
    "| :-: | :-: | :-: | :-: | :-: | :-: | :-: |\n",
    "| classical Gram-Schmidt | $$Q$$ | ❌ | left-looking | $$\\sim 2mn^2$$ | $$2n$$ | $$2n$$ |\n",
    "| modified Gram-Schmidt | $$Q$$ | ⚠️ | right-looking | $$\\sim 2mn^2$$ | $$2n$$ | $$\\sim\\textstyle\\frac{1}{2}n^2$$ |\n",
    "| Householder QR | $$R$$ | ✅ | down-looking | $$\\sim 2mn^2 - \\textstyle{\\frac{2}{3}}n^3$$ | $$2n$$ | $$\\sim\\textstyle\\frac{1}{2}n^2$$ |\n",
    "| Tall Skinny QR (TSQR) | $$R$$ | ✅ | recursive | $$\\sim 2mn^2 + \\textstyle{\\frac{2}{3}}n^3 p \\log p$$ | $$\\log p$$ | $$-$$ |\n",
    "| Cholesky QR | $$A^*A$$ | ❌ | Cholesky | $$\\sim 2mn^2 + \\textstyle{\\frac{1}{3}}n^3p$$ | $$1$$ | $$n$$ |"
   ]
  },
  {
   "cell_type": "markdown",
   "metadata": {},
   "source": [
    "- There are tradeoffs in stability, work, and parallelism: different situations call for different QRs"
   ]
  },
  {
   "cell_type": "markdown",
   "metadata": {
    "slideshow": {
     "slide_type": "slide"
    }
   },
   "source": [
    "## Least Squares Problems"
   ]
  },
  {
   "cell_type": "markdown",
   "metadata": {
    "slideshow": {
     "slide_type": "subslide"
    }
   },
   "source": [
    "### The problem\n",
    "\n",
    "The linear problem\n",
    "\n",
    "$$A x= b, \\quad x\\in \\mathbb{C}^n, b \\in \\mathbb{C}^m, m > n,$$\n",
    "\n",
    "is _overdetermined:_ in the general case ($b \\not \\in \\mathrm{range}(A)$), there is no solution."
   ]
  },
  {
   "cell_type": "markdown",
   "metadata": {
    "slideshow": {
     "slide_type": "subslide"
    }
   },
   "source": [
    "### The residual\n",
    "\n",
    "Restated: for a particular $x$, the _residual_ vector, \n",
    "\n",
    "$$r = b - A x \\in \\mathbb{C}^m,$$\n",
    "\n",
    "is not zero if $b \\not \\in \\mathrm{range}(A)$."
   ]
  },
  {
   "cell_type": "markdown",
   "metadata": {
    "slideshow": {
     "slide_type": "subslide"
    }
   },
   "source": [
    "### Residual visualized"
   ]
  },
  {
   "cell_type": "code",
   "execution_count": 13,
   "metadata": {
    "hideCode": true,
    "slideshow": {
     "slide_type": "-"
    }
   },
   "outputs": [
    {
     "data": {
      "image/png": "[encoded data removed]"
     },
     "metadata": {},
     "output_type": "display_data"
    }
   ],
   "source": [
    "plotlyjs();\n",
    "function plot_residual(A,x,b)\n",
    "    corners = Float64[[-1,-1,-1] [ 1,-1,-1] [-1, 1,-1] [ 1, 1,-1] [-1,-1, 1] [ 1,-1, 1] [-1, 1, 1] [ 1, 1, 1]];\n",
    "    cube = polyhedron(vrep(corners'), lib)\n",
    "    triangle = [[2.0, 0.0] [-1.0, sqrt(3.)] [-1.0, -sqrt(3)]]*4\n",
    "    Ax = A * x\n",
    "    Q, R = qr(A, ColumnNorm())\n",
    "    scale = maximum(abs.([b Ax]))\n",
    "    if scale == 0\n",
    "        scale = 1\n",
    "    end\n",
    "    scale *= 1.1\n",
    "    p = plot(b[[1]], b[[2]], b[[3]]\n",
    "        , m=:o\n",
    "        , lim=(-scale, scale)\n",
    "        , size=(1000,1000)\n",
    "        , colorbar=:legend\n",
    "        , label=\"b\"\n",
    "        , hover=\"b:<br>$(@sprintf(\"%+.2f\", b[1]))<br>$(@sprintf(\"%+.2f\", b[2]))<br>$(@sprintf(\"%+.2f\", b[3]))\"\n",
    "    )\n",
    "    plot!(p,Ax[[1]], Ax[[2]], Ax[[3]]\n",
    "        , m=:square\n",
    "        , label=\"Ax\"\n",
    "        , hover=\"x:<br>$(@sprintf(\"%+.2f\", x[1]))<br>$(@sprintf(\"%+.2f\", x[2]))<br>Ax:<br>$(@sprintf(\"%+.2f\", Ax[1]))<br>$(@sprintf(\"%+.2f\", Ax[2]))<br>$(@sprintf(\"%+.2f\", Ax[3]))\"\n",
    "    )\n",
    "    plot!(p,[Ax[1],b[1]],[Ax[2],b[2]],[Ax[3],b[3]]\n",
    "        , label=\"r = b - Ax\"\n",
    "        , hover=\"r:<br>$(@sprintf(\"%+.2f\", b[1] - Ax[1]))<br>$(@sprintf(\"%+.2f\", b[2] - Ax[2]))<br>$(@sprintf(\"%+.2f\", b[3] - Ax[3]))\"\n",
    "        )\n",
    "    if (abs(R[1,1]) != 0.0)\n",
    "        if abs(R[2,2]) > eps() * 100. * abs(R[1,1])\n",
    "            # plot plane \n",
    "            Qtrivert = Q[:,1:2]*triangle\n",
    "            Qtri = polyhedron(vrep((Q[:,1:2]*triangle)'), lib)\n",
    "            isect = hcat(points(vrep(intersect(cube, Qtri)))...)*scale\n",
    "            plot!(p,isect[1,:],isect[2,:],isect[3,:],st=:mesh3d\n",
    "                , l = 0\n",
    "                , fillalpha=0.5\n",
    "                , label=\"range(A)\"\n",
    "                )\n",
    "            q1 = A[:,1]\n",
    "            q1max = maximum(abs.(q1))\n",
    "            q1 *= scale / q1max\n",
    "            plot!(p,[-q1[1], q1[1]],[-q1[2],q1[2]],[-q1[3],q1[3]]\n",
    "                , label = \"a₁\"\n",
    "                , hover=\"a₁:<br>$(@sprintf(\"%+.2f\", A[1,1]))<br>$(@sprintf(\"%+.2f\", A[2,1]))<br>$(@sprintf(\"%+.2f\", A[3,1]))\"\n",
    "            )\n",
    "            q2 = A[:,2]\n",
    "            q2max = maximum(abs.(q2))\n",
    "            q2 *= scale / q2max\n",
    "            plot!(p,[-q2[1], q2[1]],[-q2[2],q2[2]],[-q2[3],q2[3]]\n",
    "                , label = \"a₂\"\n",
    "                , hover=\"a₂:<br>$(@sprintf(\"%+.2f\", A[1,2]))<br>$(@sprintf(\"%+.2f\", A[2,2]))<br>$(@sprintf(\"%+.2f\", A[3,2]))\"\n",
    "            )\n",
    "        else\n",
    "            # plot line\n",
    "            q = Q[:,1]\n",
    "            qmax = maximum(abs.(q))\n",
    "            q *= scale / qmax\n",
    "            plot!(p,[-q[1], q[1]],[-q[2],q[2]],[-q[3],q[3]]\n",
    "            )\n",
    "        end\n",
    "    end\n",
    "    return p\n",
    "end;\n",
    "draw(plot_residual(randn(3,2), randn(2), randn(3)))"
   ]
  },
  {
   "cell_type": "markdown",
   "metadata": {
    "slideshow": {
     "slide_type": "subslide"
    }
   },
   "source": [
    "### Residual minimization\n",
    "\n",
    "If $Ax \\neq b$, we settle for the $x$ that makes the residual the smallest."
   ]
  },
  {
   "cell_type": "markdown",
   "metadata": {
    "slideshow": {
     "slide_type": "fragment"
    }
   },
   "source": [
    "- \"Smallest\" implies a choice of norm.  As elsewhere, the Euclidean / 2-norm is our default choice.  The least squares problem:\n",
    "\n",
    "$$\\mathrm{minimize}_{x\\in \\mathbb{C}^n}\\ \\| Ax - b \\|_2$$"
   ]
  },
  {
   "cell_type": "markdown",
   "metadata": {
    "slideshow": {
     "slide_type": "fragment"
    }
   },
   "source": [
    "- We more often see the equivalent minimization problem (hence the name _least squares_):\n",
    "\n",
    "$$\\mathrm{minimize}_{x \\in \\mathbb{C}^n}\\ {\\textstyle\\frac 1 2} \\| A x - b \\|_2^2.$$"
   ]
  },
  {
   "cell_type": "code",
   "execution_count": 14,
   "metadata": {
    "hideCode": true,
    "slideshow": {
     "slide_type": "-"
    }
   },
   "outputs": [
    {
     "data": {
      "image/png": "[encoded data removed]"
     },
     "metadata": {},
     "output_type": "display_data"
    }
   ],
   "source": [
    "function plot_smallest_residual(A,b)\n",
    "    corners = Float64[[-1,-1,-1] [ 1,-1,-1] [-1, 1,-1] [ 1, 1,-1] [-1,-1, 1] [ 1,-1, 1] [-1, 1, 1] [ 1, 1, 1]];\n",
    "    cube = polyhedron(vrep(corners'), lib)\n",
    "    triangle = [[2.0, 0.0] [-1.0, sqrt(3.)] [-1.0, -sqrt(3)]]*4\n",
    "    x = A \\ b\n",
    "    Ax = A * x\n",
    "    scale = maximum(abs.([b Ax]))\n",
    "    if scale == 0\n",
    "        scale = 1\n",
    "    end\n",
    "    scale *= 1.1\n",
    "    p = plot(b[[1]], b[[2]], b[[3]]\n",
    "        , m=:o\n",
    "        , lim=(-scale, scale)\n",
    "        , size=(1000,1000)\n",
    "        , colorbar=:legend\n",
    "        , label=\"b\"\n",
    "        , hover=\"b:<br>$(@sprintf(\"%+.2f\", b[1]))<br>$(@sprintf(\"%+.2f\", b[2]))<br>$(@sprintf(\"%+.2f\", b[3]))\"\n",
    "    )\n",
    "    plot!(p,Ax[[1]], Ax[[2]], Ax[[3]]\n",
    "        , m=:square\n",
    "        , label=\"Ax\"\n",
    "        , hover=\"x:<br>$(@sprintf(\"%+.2f\", x[1]))<br>$(@sprintf(\"%+.2f\", x[2]))<br>Ax:<br>$(@sprintf(\"%+.2f\", Ax[1]))<br>$(@sprintf(\"%+.2f\", Ax[2]))<br>$(@sprintf(\"%+.2f\", Ax[3]))\"\n",
    "    )\n",
    "    plot!(p,[Ax[1],b[1]],[Ax[2],b[2]],[Ax[3],b[3]]\n",
    "        , label=\"r = b - Ax\"\n",
    "        , hover=\"r:<br>$(@sprintf(\"%+.2f\", b[1] - Ax[1]))<br>$(@sprintf(\"%+.2f\", b[2] - Ax[2]))<br>$(@sprintf(\"%+.2f\", b[3] - Ax[3]))\"\n",
    "        )\n",
    "    Q, R = qr(A, ColumnNorm())\n",
    "    if (abs(R[1,1]) != 0.0)\n",
    "        if abs(R[2,2]) > eps() * 100. * abs(R[1,1])\n",
    "            # plot plane \n",
    "            Qtrivert = Q[:,1:2]*triangle\n",
    "            Qtri = polyhedron(vrep((Q[:,1:2]*triangle)'), lib)\n",
    "            isect = hcat(points(vrep(intersect(cube, Qtri)))...)*scale\n",
    "            plot!(p,isect[1,:],isect[2,:],isect[3,:],st=:mesh3d\n",
    "                , l = 0\n",
    "                , fillalpha=0.5\n",
    "                , label=\"range(A)\"\n",
    "                )\n",
    "            q1 = A[:,1]\n",
    "            q1max = maximum(abs.(q1))\n",
    "            q1 *= scale / q1max\n",
    "            plot!(p,[-q1[1], q1[1]],[-q1[2],q1[2]],[-q1[3],q1[3]]\n",
    "                , label = \"a₁\"\n",
    "                , hover=\"a₁:<br>$(@sprintf(\"%+.2f\", A[1,1]))<br>$(@sprintf(\"%+.2f\", A[2,1]))<br>$(@sprintf(\"%+.2f\", A[3,1]))\"\n",
    "            )\n",
    "            q2 = A[:,2]\n",
    "            q2max = maximum(abs.(q2))\n",
    "            q2 *= scale / q2max\n",
    "            plot!(p,[-q2[1], q2[1]],[-q2[2],q2[2]],[-q2[3],q2[3]]\n",
    "                , label = \"a₂\"\n",
    "                , hover=\"a₂:<br>$(@sprintf(\"%+.2f\", A[1,2]))<br>$(@sprintf(\"%+.2f\", A[2,2]))<br>$(@sprintf(\"%+.2f\", A[3,2]))\"\n",
    "            )\n",
    "        else\n",
    "            # plot line\n",
    "            q = Q[:,1]\n",
    "            qmax = maximum(abs.(q))\n",
    "            q *= scale / qmax\n",
    "            plot!(p,[-q[1], q[1]],[-q[2],q[2]],[-q[3],q[3]]\n",
    "            )\n",
    "        end\n",
    "    end\n",
    "    #plot!(p, corners[1,:], corners[2,:], corners[3,:], l=:none)\n",
    "    return p\n",
    "end;\n",
    "draw(plot_smallest_residual(randn(3,2), randn(3)))"
   ]
  },
  {
   "cell_type": "markdown",
   "metadata": {
    "slideshow": {
     "slide_type": "subslide"
    }
   },
   "source": [
    "### Example: polynomial interpolation (degree $n-1$ through $n$ points) can be a bad fit "
   ]
  },
  {
   "cell_type": "code",
   "execution_count": 21,
   "metadata": {
    "cell_style": "split",
    "hideCode": false
   },
   "outputs": [
    {
     "data": {
      "text/plain": [
       "\"||V||₂ ||V⁻¹||₂ = 1.6e+03\""
      ]
     },
     "metadata": {},
     "output_type": "display_data"
    },
    {
     "data": {
      "image/png": "[encoded data removed]"
     },
     "metadata": {},
     "output_type": "display_data"
    }
   ],
   "source": [
    "gr();\n",
    "agnesi(x) = 1 ./ (1 .+ 25 * x .^ 2)\n",
    "for n = 9\n",
    "    p = n - 1\n",
    "    x = LinRange(-1.0,1.0,p+1)\n",
    "    y = agnesi(x)\n",
    "    pows = 0:p\n",
    "    V = hcat([ x .^ q for q in pows]...)\n",
    "    c = V \\ y\n",
    "    xfull = LinRange(-1.0,1.0,200)\n",
    "    yfull = map(x -> c' * (x .^ pows), xfull)\n",
    "    display(\"||V||₂ ||V⁻¹||₂ = $(@sprintf(\"%.1e\",cond(V)))\")\n",
    "    p = plot(xfull, agnesi(xfull))\n",
    "    plot!(p, xfull, yfull, ylim=(-2,2))\n",
    "    plot!(p, x, y, l = 0, m = :o)\n",
    "    draw(p)\n",
    "    #vbox(txt, p)\n",
    "end"
   ]
  },
  {
   "cell_type": "markdown",
   "metadata": {
    "cell_style": "split"
   },
   "source": [
    "Recall the Vandermonde matrix equation that solves for coefficients from interpolation values\n",
    "\n",
    "$$\n",
    "\\underbrace{\n",
    "\\begin{bmatrix}\n",
    "1 & x_1 & x_1^2 & & x_1^{n-1} \\\\\n",
    "1 & x_2 & x_2^2 & \\dots &x_2^{n-1} \\\\\n",
    "1 & x_3 & x_3^2 & & x_3^{n-1} \\\\\n",
    "  & \\vdots & & & \\vdots \\\\\n",
    "1 & x_n & x_n^2 & & x_n^{n-1}\n",
    "\\end{bmatrix}\n",
    "}_{V}\n",
    "\\begin{bmatrix}\n",
    "c_0 \\\\ c_1 \\\\ c_2 \\\\ \\vdots \\\\ c_{n-1}\n",
    "\\end{bmatrix}\n",
    "=\n",
    "\\begin{bmatrix}\n",
    "y_0 \\\\ y_1 \\\\ y_2 \\\\ \\vdots \\\\ y_{n-1}\n",
    "\\end{bmatrix}\n",
    "$$"
   ]
  },
  {
   "cell_type": "markdown",
   "metadata": {
    "slideshow": {
     "slide_type": "subslide"
    }
   },
   "source": [
    "### Polynomial least-squares (degree $n-1$ through $m>n$ points) is more stable"
   ]
  },
  {
   "cell_type": "code",
   "execution_count": 16,
   "metadata": {
    "cell_style": "split",
    "hideCode": false
   },
   "outputs": [
    {
     "data": {
      "text/plain": [
       "\"||V||₂ ||V⁺||₂ = 5.3e+02\""
      ]
     },
     "metadata": {},
     "output_type": "display_data"
    },
    {
     "data": {
      "image/png": "[encoded data removed]"
     },
     "metadata": {},
     "output_type": "display_data"
    }
   ],
   "source": [
    "gr();\n",
    "agnesi(x) = 1 ./ (1 .+ 25 * x .^ 2)\n",
    "for n = 9, m = 21\n",
    "    p = n - 1\n",
    "    x = LinRange(-1.0,1.0,m)\n",
    "    y = agnesi(x)\n",
    "    pows = 0:p\n",
    "    V = hcat([ x .^ q for q in pows]...)\n",
    "    c = V \\ y\n",
    "    xfull = LinRange(-1.0,1.0,200)\n",
    "    yfull = map(x -> c' * (x .^ pows), xfull)\n",
    "    display(\"||V||₂ ||V⁺||₂ = $(@sprintf(\"%.1e\",cond(V)))\")\n",
    "    p = plot(xfull, agnesi(xfull))\n",
    "    plot!(p, xfull, yfull, ylim=(-2,2))\n",
    "    plot!(p, x, y, l = 0, m = :o)\n",
    "    draw(p)\n",
    "    #vbox(txt, p)\n",
    "end"
   ]
  },
  {
   "cell_type": "markdown",
   "metadata": {
    "cell_style": "split",
    "slideshow": {
     "slide_type": "subslide"
    }
   },
   "source": [
    "$$\\mathrm{minimize}_{p \\in \\mathcal{P}^{n-1}}\\ {\\textstyle\\frac 1 2} \\sum_{i=1}^m |p(x_i) - y_i|^2$$\n",
    "\n",
    "In terms of solving for the coefficients:\n",
    "\n",
    "$$\\mathrm{minimize}_{c \\in \\mathbb{C}^n}\\ \n",
    "{\\textstyle\\frac 1 2} \\| V c - y \\|_2^2$$\n",
    "\n"
   ]
  },
  {
   "cell_type": "markdown",
   "metadata": {
    "slideshow": {
     "slide_type": "subslide"
    }
   },
   "source": [
    "### Least-squares over evenly spaced appoints approximately minimizes the $L^2$ inner product\n",
    "\n",
    "If $\\{x_i\\}$ are evenly spaced throughout $[a, b]$, then (roughly speaking)\n",
    "\n",
    "$$\n",
    "\\lim_{m \\to \\infty} \\frac{1}{m} \\sum_{i=1}^m |f(x_i) - g(x_i)|^2 = \\| f - g \\|_{L^2[a,b]}^2.\n",
    "$$\n",
    "\n",
    "Make the equivalent of $V$ for the given basis functions and solve for the coefficients as a least-squares problem."
   ]
  },
  {
   "cell_type": "markdown",
   "metadata": {
    "slideshow": {
     "slide_type": "slide"
    }
   },
   "source": [
    "## Orthogonal Projection and Normal Equations"
   ]
  },
  {
   "cell_type": "markdown",
   "metadata": {
    "slideshow": {
     "slide_type": "subslide"
    }
   },
   "source": [
    "### Go back and look at the first 3D residual plot\n",
    "\n",
    "Your visual intuition is that $Ax$ can't be the closest to $b$ if $r$ is oblique to the plane of $\\mathrm{range}(A)$."
   ]
  },
  {
   "cell_type": "markdown",
   "metadata": {
    "slideshow": {
     "slide_type": "fragment"
    }
   },
   "source": [
    "Translated into math, the best choice of $x$ has\n",
    "\n",
    "$$r \\perp \\mathrm{range}(A) \\quad \\Leftrightarrow \\quad A^*r = 0.$$"
   ]
  },
  {
   "cell_type": "markdown",
   "metadata": {
    "slideshow": {
     "slide_type": "subslide"
    }
   },
   "source": [
    "**T&B Theorem 11.1.** Let $A \\in \\mathbb{C}^{m \\times n}$ ($m \\geq n$) and $b \\in \\mathbb{C}^m$ be given.\n",
    "\n",
    "$$x = \\arg\\min_{\\hat x} {\\textstyle\\frac 1 2}\\|b - A\\hat x\\|_2^2 \\quad \\stackrel{i}{\\Leftrightarrow} \\quad A^*\\underbrace{r}_{b - A x} = 0 \\quad \\stackrel{ii}{\\Leftrightarrow} \\quad \\underbrace{A^*A x = A^*b}_{\\text{normal equations}} \\quad \\stackrel{iii}{\\Leftrightarrow} \\quad \\underbrace{Pb = Ax}_{P = \\text{orth. proj. onto }\\mathrm{range}(A)}$$\n",
    "\n",
    "_Proof._ (just _i_, others follow from definitions)."
   ]
  },
  {
   "cell_type": "markdown",
   "metadata": {
    "slideshow": {
     "slide_type": "fragment"
    }
   },
   "source": [
    "_i._ ($\\Rightarrow$) We can write $r = r_{\\parallel} + r_{\\perp},$ an orthogonal decompostion with $A^* r_{\\perp} = 0$ and $r_{\\parallel} = Ay \\in \\mathrm{range}(A)$:\n",
    "\n",
    "$$\n",
    "\\|b - A(x + y)\\|_2^2 = \\|r - r_\\parallel\\|_2^2 = \\|r\\|_2^2 - \\|r_\\parallel\\|_2^2.$$\n",
    "\n",
    "By the assumption that $\\|r\\|_2$ is minimal $\\|r_\\parallel\\|_2 = 0 \\Rightarrow r_\\parallel = 0.$\n",
    "\n",
    "($\\Leftarrow$) For every $z$ in $\\mathbb{C}^n$,\n",
    "\n",
    "$$\\|b - Az \\|_2^2 = \\|r - A(z-x)\\|_2^2 = \\|r\\|_2^2 + \\|A(z-x)\\|_2^2 \\geq \\|r\\|_2^2.$$"
   ]
  },
  {
   "cell_type": "markdown",
   "metadata": {
    "slideshow": {
     "slide_type": "subslide"
    }
   },
   "source": [
    "### This equivalence is important\n",
    "\n",
    "$$\\underbrace{A^*A x = A^*b}_{\\text{normal equations}} \\quad \\Leftrightarrow \\quad \\underbrace{Pb = Ax}_{P = \\text{orth. proj. onto }\\mathrm{range}(A)}$$"
   ]
  },
  {
   "cell_type": "markdown",
   "metadata": {
    "slideshow": {
     "slide_type": "slide"
    }
   },
   "source": [
    "## The Pseudoinverse"
   ]
  },
  {
   "cell_type": "markdown",
   "metadata": {
    "slideshow": {
     "slide_type": "subslide"
    }
   },
   "source": [
    "### If we assume the normal equations are solvable\n",
    "\n",
    "The matrix that maps $b \\to x$ is the _pseudoinverse_ $A^+\\in \\mathbb{C}^{n \\times m}$,\n",
    "\n",
    "$$\n",
    "x = \\underbrace{(A^* A)^{-1} A^*}_{\\text{pseudoinverse }A^+} b.\n",
    "$$\n",
    "\n",
    "$$A^+ A = (A^* A)^{-1} (A^* A) = I$$"
   ]
  },
  {
   "cell_type": "markdown",
   "metadata": {
    "slideshow": {
     "slide_type": "subslide"
    }
   },
   "source": [
    "### Recall a fact about projectors\n",
    "\n",
    "Given $A$ full rank,\n",
    "\n",
    "$$P = A (A^* A)^{-1} A^*$$\n",
    "\n",
    "is the orthogonal projector onto $\\mathrm{range}(A)$ (we did not have to construct an orthonormal basis of $\\mathrm{range}(A)$ to build the projector)."
   ]
  },
  {
   "cell_type": "markdown",
   "metadata": {
    "slideshow": {
     "slide_type": "fragment"
    }
   },
   "source": [
    "But this is\n",
    "\n",
    "$$P = A A^+.$$"
   ]
  },
  {
   "cell_type": "markdown",
   "metadata": {
    "slideshow": {
     "slide_type": "subslide"
    }
   },
   "source": [
    "### The pseudoinverse and the SVD\n",
    "\n",
    "Let $\\hat{U} \\hat{\\Sigma} V^*$ be the reduced SVD of $A$ (full rank, $\\hat{\\Sigma}$ invertible):\n",
    "\n",
    "$$\n",
    "\\begin{aligned}A^+ &= (A^*A)^{-1} A^*\n",
    "\\\\&= (V \\hat{\\Sigma}^* \\hat{U}^* \\hat{U}\\hat{\\Sigma} V^*)^{-1} V \\hat\\Sigma \\hat U^*\n",
    "\\\\&= (V \\hat{\\Sigma}^2 V^*)^{-1} V \\hat\\Sigma \\hat{U}^*\n",
    "\\\\&= V \\hat{\\Sigma}^{-2} V^* V \\hat\\Sigma \\hat{U}^*\n",
    "\\\\&= V \\hat{\\Sigma}^{-1} \\hat{U}^*.\n",
    "\\end{aligned}\n",
    "$$"
   ]
  },
  {
   "cell_type": "markdown",
   "metadata": {
    "slideshow": {
     "slide_type": "subslide"
    }
   },
   "source": [
    "### Exercise\n",
    "\n",
    "**T&B Exercise 11.1.** Suppose the $m \\times n$ matrix $A$ has the form\n",
    "\n",
    "$$A = \\begin{bmatrix} A_1 \\\\ A_2 \\end{bmatrix},$$\n",
    "\n",
    "where $A_1$ is a nonsingular matrix of dimension $n \\times n$ and $A_2$ is an arbitrary matrix of dimension $(m-n) \\times n$.  Prove that\n",
    "\n",
    "$$(1 / \\sigma_{\\min}(A))\\leq (1 / \\sigma_{\\min} (A_1)).$$\n",
    "\n",
    "_Hint._\n",
    "\n",
    "1. From the previous slide, every singular value of $A^+$ is the reciprocal of a singular value of $A$.\n",
    "2. $\\sigma_{\\min}(A)^2 = \\min_{\\|x\\|_2 = 1} \\|Ax\\|_2^2 = \\|A_1 x\\|_2^2 + \\|A_2 x\\|_2^2$.\n",
    "3. $\\sigma_{\\min}(A_1)^2 = \\min_{\\|x\\|_2 = 1} \\|A_1 x\\|_2^2.$"
   ]
  },
  {
   "cell_type": "markdown",
   "metadata": {
    "slideshow": {
     "slide_type": "slide"
    }
   },
   "source": [
    "## Solving the Least Squares Problem"
   ]
  },
  {
   "cell_type": "markdown",
   "metadata": {
    "cell_style": "split",
    "slideshow": {
     "slide_type": "subslide"
    }
   },
   "source": [
    "### Method 0: backslash\n",
    "\n",
    "- Algorithm?\n",
    "- Work?\n",
    "- Stability?\n",
    "- Parallelism?"
   ]
  },
  {
   "cell_type": "code",
   "execution_count": 17,
   "metadata": {
    "cell_style": "split"
   },
   "outputs": [
    {
     "data": {
      "text/plain": [
       "1.8452387626045089e-13"
      ]
     },
     "execution_count": 17,
     "metadata": {},
     "output_type": "execute_result"
    }
   ],
   "source": [
    "m = 1000; n = 50;\n",
    "\n",
    "A = randn(m, n); b = randn(m);\n",
    "\n",
    "x_backslash = A \\ b\n",
    "\n",
    "orthogonality_error(A,x,b) = norm(A'*(b - A*x),2)\n",
    "orthogonality_error(A, x_backslash, b)"
   ]
  },
  {
   "cell_type": "markdown",
   "metadata": {
    "cell_style": "split",
    "slideshow": {
     "slide_type": "subslide"
    }
   },
   "source": [
    "### Method 1: Cholesky factorization of $A^*A$ in normal equations\n",
    "\n",
    "If $A$ is full rank, $A^*A$ has a Cholesky factorization, $A^*A = LL^*$, $L$ lower triangular and invertible.\n",
    "\n",
    "1. Compute $A^*A$ (symmetry saves work, $\\sim mn^2$)\n",
    "2. Compute Cholesky factorization $LL^* = A^*A$, ($\\sim \\frac{1}{3}n^3$)\n",
    "3. Compute $z = A^* b$ ($\\sim 2mn$)\n",
    "4. Solve $Lw = z$ ($\\sim n^2$)\n",
    "5. Solve $L^*x = w$ ($\\sim n^2$)\n",
    "\n",
    "Total work $\\sim mn^2 + \\frac{1}{3}n^3$."
   ]
  },
  {
   "cell_type": "code",
   "execution_count": 18,
   "metadata": {
    "cell_style": "split"
   },
   "outputs": [
    {
     "data": {
      "text/plain": [
       "1.5962401177184377e-13"
      ]
     },
     "execution_count": 18,
     "metadata": {},
     "output_type": "execute_result"
    }
   ],
   "source": [
    "K = A'*A\n",
    "L = cholesky(K).L\n",
    "z = A'*b\n",
    "w = L \\ z\n",
    "x_cholesky = L' \\ w\n",
    "\n",
    "orthogonality_error(A, x_cholesky, b)"
   ]
  },
  {
   "cell_type": "markdown",
   "metadata": {
    "cell_style": "split",
    "slideshow": {
     "slide_type": "subslide"
    }
   },
   "source": [
    "### Method 2: QR Factorization of $A$\n",
    "\n",
    "1. Compute reduced QR factorization $A = \\hat{Q}\\hat{R}$ (most work efficient we've seen is Householder, $\\sim 2mn^2 - \\frac{2}{3}n^3$)\n",
    "2. Compute $z = \\hat Q^*b$ ($\\sim 4mn - 2n^2$ with Householder reflectors)\n",
    "3. Solve $\\hat{R}x = z$ ($\\sim n^2$)\n",
    "\n",
    "Total work $\\sim 2mn^2 - \\frac{2}{3}n^3$"
   ]
  },
  {
   "cell_type": "code",
   "execution_count": 19,
   "metadata": {
    "cell_style": "split"
   },
   "outputs": [
    {
     "data": {
      "text/plain": [
       "1.8077103907520088e-13"
      ]
     },
     "execution_count": 19,
     "metadata": {},
     "output_type": "execute_result"
    }
   ],
   "source": [
    "Q, R = qr(A)\n",
    "z = (Q'*b)[1:n]\n",
    "x_qr = R \\ z\n",
    "# note: norm((Q'*b)[n+1:m]) = ||r||_2\n",
    "\n",
    "orthogonality_error(A, x_qr, b)"
   ]
  },
  {
   "cell_type": "markdown",
   "metadata": {
    "cell_style": "split",
    "slideshow": {
     "slide_type": "subslide"
    }
   },
   "source": [
    "### Method 3: SVD of $A$\n",
    "\n",
    "1. Compute the reduced SVD $A = \\hat{U} \\hat \\Sigma V^*$ (approx $\\sim 2mn^2 + 11n^3$)\n",
    "2. Compute $z = \\hat U^* b$ ($\\sim 2mn$)\n",
    "3. Solve $\\hat \\Sigma w = z$ ($\\sim n$)\n",
    "4. Compute $x = V w$ ($\\sim 2n^2$)\n",
    "\n",
    "Total work $\\sim 2mn^2 + 11n^3$"
   ]
  },
  {
   "cell_type": "code",
   "execution_count": 20,
   "metadata": {
    "cell_style": "split"
   },
   "outputs": [
    {
     "data": {
      "text/plain": [
       "5.062259078795485e-13"
      ]
     },
     "execution_count": 20,
     "metadata": {},
     "output_type": "execute_result"
    }
   ],
   "source": [
    "U, σ , V = svd(A) # reduced by default\n",
    "z = U'*b\n",
    "w = z ./ σ\n",
    "x_svd = V * w\n",
    "\n",
    "orthogonality_error(A, x_svd, b)"
   ]
  },
  {
   "cell_type": "markdown",
   "metadata": {
    "slideshow": {
     "slide_type": "subslide"
    }
   },
   "source": [
    "### Comparison\n",
    "\n",
    "| algorithm | work | stability | parallelism |\n",
    "| :-: | :-: | :-: | :-: |\n",
    "| Cholesky | $$\\sim mn^2 + {\\textstyle\\frac{1}{3}}n^3$$ | ❌? | best |\n",
    "| QR | $$\\sim 2mn^2 - {\\textstyle\\frac{2}{3}{n^3}}$$ | ✅? | good--better |\n",
    "| SVD | $$\\sim 2mn^2 + 11n^3$$ | ✅✅? | bad--good |"
   ]
  },
  {
   "cell_type": "markdown",
   "metadata": {
    "slideshow": {
     "slide_type": "fragment"
    }
   },
   "source": [
    "The next section of our class is making the stability of these algorithms _quantifiable_."
   ]
  }
 ],
 "metadata": {
  "@webio": {
   "lastCommId": "0bc4475871a7400d834414f38b1d433c",
   "lastKernelId": "95335d85-b5ff-4959-99a8-549a2e164bd2"
  },
  "celltoolbar": "Hide code",
  "hide_input": false,
  "kernelspec": {
   "display_name": "Julia 1.7.0",
   "language": "julia",
   "name": "julia-1.7"
  },
  "language_info": {
   "file_extension": ".jl",
   "mimetype": "application/julia",
   "name": "julia",
   "version": "1.7.0"
  }
 },
 "nbformat": 4,
 "nbformat_minor": 4
}
