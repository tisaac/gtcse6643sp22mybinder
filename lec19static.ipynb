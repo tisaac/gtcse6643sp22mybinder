{
 "cells": [
  {
   "cell_type": "code",
   "execution_count": null,
   "id": "876faccc",
   "metadata": {},
   "outputs": [],
   "source": [
    "import Pkg; Pkg.add([\"Plots\", \"Polynomials\"]);\n",
    "import Logging; Logging.disable_logging(Logging.Info)"
   ]
  },
  {
   "cell_type": "code",
   "execution_count": null,
   "id": "9c7abb63",
   "metadata": {},
   "outputs": [],
   "source": [
    "const STATIC_LECTURE = true;"
   ]
  },
  {
   "cell_type": "code",
   "execution_count": null,
   "id": "7bb9daa2",
   "metadata": {},
   "outputs": [],
   "source": [
    "using LinearAlgebra;\n",
    "using Plots; default(l=5, size=(900,550), label=false);\n",
    "using Printf;\n",
    "using Polynomials;\n",
    "\n",
    "BLAS.set_num_threads(1)\n",
    "\n",
    "if STATIC_LECTURE\n",
    "    default(fmt=:png)\n",
    "end\n",
    "\n",
    "prettyprint(a) = map(x -> @sprintf(\"%+.2f\", x), a)\n",
    "sciprint(a) = map(x -> @sprintf(\"%+.2e\", x), a)\n",
    "\n",
    "function imshow(x; kwargs...)\n",
    "    return heatmap(x\n",
    "        , aspect_ratio=:equal\n",
    "        , framestyle=:none\n",
    "        , yflip=true\n",
    "        , c=cgrad(:diverging_gwv_55_95_c39_n256, rev=true)\n",
    "        ; kwargs...\n",
    "    )\n",
    "end\n",
    "bigspy(x; kwargs...) = spy(x, m=4, c=:diverging_gwv_55_95_c39_n256; kwargs...)\n",
    "p = plot!([0,1],[0,1]);"
   ]
  },
  {
   "cell_type": "markdown",
   "id": "cd348e28",
   "metadata": {
    "slideshow": {
     "slide_type": "slide"
    }
   },
   "source": [
    "### Warmup\n",
    "\n",
    "Give $2 \\times 2$ examples of:\n",
    "\n",
    "- A nondegenerate matrix\n",
    "- A degenerate matrix\n",
    "- A normal matrix\n",
    "- A matrix with real entries and complex eigenvalues"
   ]
  },
  {
   "cell_type": "markdown",
   "id": "07d9c42b",
   "metadata": {
    "slideshow": {
     "slide_type": "slide"
    }
   },
   "source": [
    "# Overview of Eigenvalue Algorithms"
   ]
  },
  {
   "cell_type": "markdown",
   "id": "2f096fe5",
   "metadata": {
    "slideshow": {
     "slide_type": "slide"
    }
   },
   "source": [
    "## Review"
   ]
  },
  {
   "cell_type": "markdown",
   "id": "6af354d2",
   "metadata": {
    "slideshow": {
     "slide_type": "subslide"
    }
   },
   "source": [
    "- **Eigenvalues / eigenvectors:** There is $x \\neq 0$ such that $A x = \\lambda x$ $\\Leftrightarrow$ $\\lambda$ is a root of $p_A(z) = \\det(z I - A)$\n",
    "  - Fundamental theorem of algebra $\\Rightarrow$ $A \\in \\mathbb{C}^{m \\times m}$ has $m$ eigenvalues counting with **algebraic multiplicity**"
   ]
  },
  {
   "cell_type": "markdown",
   "id": "73caff84",
   "metadata": {
    "slideshow": {
     "slide_type": "fragment"
    }
   },
   "source": [
    "- **Eigenspace** is subspace $E_\\lambda$ such tha $A x = \\lambda x$ for all $x \\in E_\\lambda$\n",
    "  - $\\mathrm{dim}(E_\\lambda)$ is the **geometric multiplicity**"
   ]
  },
  {
   "cell_type": "markdown",
   "id": "56b30413",
   "metadata": {
    "slideshow": {
     "slide_type": "fragment"
    }
   },
   "source": [
    "- geometric multiplicity of $\\lambda$ $\\leq$ algebraic multiplicity of $\\lambda$\n",
    "  - if strictly less $\\lambda$ and $A$ are defective"
   ]
  },
  {
   "cell_type": "markdown",
   "id": "595057a2",
   "metadata": {
    "slideshow": {
     "slide_type": "slide"
    }
   },
   "source": [
    "- $A$ is not defective $\\Leftrightarrow$ $A$ has an **eigenvalue decomposition,**\n",
    "\n",
    "$$A = X \\Lambda X^{-1}, \\quad \\Lambda \\text{ diagonal}.$$"
   ]
  },
  {
   "cell_type": "markdown",
   "id": "905b4e9e",
   "metadata": {
    "slideshow": {
     "slide_type": "fragment"
    }
   },
   "source": [
    "  - Furthermore $X = Q$ is unitary $\\Leftrightarrow$ $A$ is **normal**, $$A A^* = A^* A \\quad\\Leftrightarrow\\quad\n",
    "  A = Q \\Lambda Q^*$$"
   ]
  },
  {
   "cell_type": "markdown",
   "id": "d4d17b36",
   "metadata": {
    "slideshow": {
     "slide_type": "fragment"
    }
   },
   "source": [
    "- Every square matrix $A \\in \\mathbb{C}^{m \\times m}$ has a **Schur factorization**,\n",
    "  $$ A = Q T Q^*, \\quad T \\text{ upper triangular}.$$\n",
    "  - Eigenvalues are on the diagonal of $T$\n",
    "  - Schur factorization is complex even if $A$ is real"
   ]
  },
  {
   "cell_type": "markdown",
   "id": "69d75ffd",
   "metadata": {
    "slideshow": {
     "slide_type": "subslide"
    }
   },
   "source": [
    "- Defining the **companion matrix** C_p of $p(z) = z^m + a_{m-1} z^{m-1} + \\cdots + z_0$,\n",
    "$$\n",
    "C_p = \\begin{bmatrix}\n",
    "& & & & & -a_0 \\\\\n",
    "1 & & & & & -a_1 \\\\\n",
    "& 1 & & & & -a_2 \\\\\n",
    "& & 1 &  & & \\vdots \\\\\n",
    "& & & \\ddots & & -a_{m-2} \\\\\n",
    "& & & & 1 & -a_{m-1}\n",
    "\\end{bmatrix}$$\n",
    "the roots of $p$ are the eigenvalues of $A$.\n",
    "  "
   ]
  },
  {
   "cell_type": "code",
   "execution_count": null,
   "id": "25e2bb10",
   "metadata": {
    "cell_style": "split",
    "slideshow": {
     "slide_type": "subslide"
    }
   },
   "outputs": [],
   "source": [
    "function roots_by_companion(a)\n",
    "    \"\"\"\n",
    "    a = (a₀, a₁, …, aₘ₋₁)\n",
    "    \"\"\"\n",
    "    m = length(a)\n",
    "    C = zeros(eltype(a),m,m)\n",
    "    C[:,m] = -a\n",
    "    for i in 2:m\n",
    "        C[i,i-1] = 1\n",
    "    end\n",
    "    return eigvals(C)\n",
    "end"
   ]
  },
  {
   "cell_type": "code",
   "execution_count": null,
   "id": "f1e15506",
   "metadata": {
    "cell_style": "split",
    "scrolled": false
   },
   "outputs": [],
   "source": [
    "m = 10\n",
    "as = randn(Complex{Float64},m)\n",
    "p = Polynomial([as;1])\n",
    "direct = roots(p)\n",
    "comp = roots_by_companion(as)\n",
    "plot(real.([direct comp]), imag.([direct comp])\n",
    "    , aspect_ratio = :equal\n",
    "    , st = scatter\n",
    "    , m = [:x :+]\n",
    "    , framestyle = :origin\n",
    "    , size = (450,450)\n",
    "    )"
   ]
  },
  {
   "cell_type": "markdown",
   "id": "5f58bea1",
   "metadata": {
    "slideshow": {
     "slide_type": "subslide"
    }
   },
   "source": [
    "  - $\\Rightarrow$ an **eigenvalue algorithm** is a **root finding algorithm**\n",
    "  - $\\Rightarrow$ an **eigenvalue algorithm must be iterative**"
   ]
  },
  {
   "cell_type": "markdown",
   "id": "7ebf42cb",
   "metadata": {
    "slideshow": {
     "slide_type": "slide"
    }
   },
   "source": [
    "## Example of an iterative eigenvalue algorithm: Power Iteration"
   ]
  },
  {
   "cell_type": "code",
   "execution_count": null,
   "id": "0b0d489d",
   "metadata": {
    "cell_style": "split",
    "slideshow": {
     "slide_type": "subslide"
    }
   },
   "outputs": [],
   "source": [
    "m = 10\n",
    "Λ = Diagonal(collect(1:m))\n",
    "X = randn(m, m)\n",
    "A = (X * Λ) / X\n",
    "scale = maximum(abs.(A))\n",
    "imshow(A, clim=(-scale,scale))"
   ]
  },
  {
   "cell_type": "code",
   "execution_count": null,
   "id": "333f9849",
   "metadata": {
    "cell_style": "split"
   },
   "outputs": [],
   "source": [
    "x_init = randn(m)\n",
    "x_init /= norm(x)"
   ]
  },
  {
   "cell_type": "code",
   "execution_count": null,
   "id": "11e5ed0f",
   "metadata": {
    "slideshow": {
     "slide_type": "subslide"
    }
   },
   "outputs": [],
   "source": [
    "x = copy(x_init)\n",
    "n_iter = 10\n",
    "for i in 1:n_iter\n",
    "    Ax = A * x\n",
    "    λ = norm(Ax)\n",
    "    display(λ)\n",
    "    x = Ax / λ\n",
    "end"
   ]
  },
  {
   "cell_type": "code",
   "execution_count": null,
   "id": "aafef322",
   "metadata": {
    "slideshow": {
     "slide_type": "subslide"
    }
   },
   "outputs": [],
   "source": [
    "x = copy(x_init)\n",
    "n_iter = 100\n",
    "c = zeros(m, n_iter+1)\n",
    "for i in 1:n_iter\n",
    "    c[:,i] = X \\ x\n",
    "    Ax = A * x\n",
    "    λ = norm(Ax)\n",
    "    x = Ax / λ\n",
    "end\n",
    "c[:,end] = X \\ x\n",
    "plot(1:(n_iter+1), abs.(c)', yscale=:log10, labels=[\"λ = $j\" for i in 1:1, j in 1:m])"
   ]
  },
  {
   "cell_type": "code",
   "execution_count": null,
   "id": "e3e1b897",
   "metadata": {},
   "outputs": [],
   "source": [
    "c_init = ones(m)\n",
    "c_init[m] = 1.e-3\n",
    "x_init = X * c_init\n",
    "x = x_init / norm(x_init)\n",
    "n_iter = 100\n",
    "c = zeros(m, n_iter+1)\n",
    "for i in 1:n_iter\n",
    "    c[:,i] = X \\ x\n",
    "    Ax = A * x\n",
    "    λ = norm(Ax)\n",
    "    x = Ax / λ\n",
    "end\n",
    "c[:,end] = X \\ x\n",
    "plot(1:(n_iter+1), abs.(c)', yscale=:log10, labels=[\"λ = $j\" for i in 1:1, j in 1:m])"
   ]
  },
  {
   "cell_type": "markdown",
   "id": "836df52b",
   "metadata": {
    "slideshow": {
     "slide_type": "subslide"
    }
   },
   "source": [
    "- What about a matrix with real entries and complex eigenvalues?"
   ]
  },
  {
   "cell_type": "code",
   "execution_count": null,
   "id": "086ad5e8",
   "metadata": {
    "cell_style": "split",
    "slideshow": {
     "slide_type": "-"
    }
   },
   "outputs": [],
   "source": [
    "m = 10\n",
    "Λ = diagm(collect(1.0:m))\n",
    "Λ[m-1:m,m-1:m] = m * [[1.0,1.0] [-1.0,1.0]] / sqrt(2)\n",
    "X = randn(m, m)\n",
    "A = (X * Λ) / X\n",
    "scale = maximum(abs.(A))\n",
    "imshow(A, clim=(-scale,scale))"
   ]
  },
  {
   "cell_type": "code",
   "execution_count": null,
   "id": "f0d62143",
   "metadata": {
    "cell_style": "split"
   },
   "outputs": [],
   "source": [
    "eigvals(A)"
   ]
  },
  {
   "cell_type": "code",
   "execution_count": null,
   "id": "ad79b92c",
   "metadata": {
    "slideshow": {
     "slide_type": "skip"
    }
   },
   "outputs": [],
   "source": []
  },
  {
   "cell_type": "code",
   "execution_count": null,
   "id": "63efe0b5",
   "metadata": {
    "cell_style": "split",
    "slideshow": {
     "slide_type": "subslide"
    }
   },
   "outputs": [],
   "source": [
    "x = randn(m)\n",
    "x /= norm(x)\n",
    "n_iter = 10\n",
    "for i in 1:n_iter\n",
    "    j = argmax(abs.(x))\n",
    "    Ax = A * x\n",
    "    λ = Ax[j] / x[j]\n",
    "    display(λ)\n",
    "    x = Ax / λ\n",
    "end"
   ]
  },
  {
   "cell_type": "code",
   "execution_count": null,
   "id": "a0e3205f",
   "metadata": {
    "cell_style": "split",
    "slideshow": {
     "slide_type": "subslide"
    }
   },
   "outputs": [],
   "source": [
    "x = randn(Complex{Float64}, m)\n",
    "x /= norm(x)\n",
    "n_iter = 10\n",
    "for i in 1:n_iter\n",
    "    j = argmax(abs.(x))\n",
    "    Ax = A * x\n",
    "    λ = Ax[j] / x[j]\n",
    "    display(λ)\n",
    "    x = Ax / norm(Ax)\n",
    "end"
   ]
  },
  {
   "cell_type": "code",
   "execution_count": null,
   "id": "5b7e2500",
   "metadata": {},
   "outputs": [],
   "source": [
    "c_init = ones(m)\n",
    "c_init[m] = 1.e-3\n",
    "x_init = X * c_init\n",
    "x = x_init / norm(x_init)\n",
    "n_iter = 100\n",
    "c = zeros(m, n_iter+1)\n",
    "for i in 1:n_iter\n",
    "    c[:,i] = X \\ x\n",
    "    Ax = A * x\n",
    "    x = Ax / norm(Ax)\n",
    "end\n",
    "c[:,end] = X \\ x\n",
    "plot(1:(n_iter+1), abs.(c)', yscale=:log10, labels=[\"$j\" for i in 1:1, j in 1:m])"
   ]
  },
  {
   "cell_type": "markdown",
   "id": "078e477e",
   "metadata": {
    "slideshow": {
     "slide_type": "subslide"
    }
   },
   "source": [
    "> The best general purpose eigenvalaue algorithms are [...] the computation of an eigenvalue-revealing factorization of $A$, where the eigenvalues appear as entries of one of the factors."
   ]
  },
  {
   "cell_type": "markdown",
   "id": "c298dd3e",
   "metadata": {
    "slideshow": {
     "slide_type": "slide"
    }
   },
   "source": [
    "## Schur factorization and Diagonalization"
   ]
  },
  {
   "cell_type": "markdown",
   "id": "a3332c58",
   "metadata": {
    "slideshow": {
     "slide_type": "subslide"
    }
   },
   "source": [
    "We compute a Schur factorization $A = QTQ^*$ by transforming $A$ by a sequence of elementary unitary similarity transformations $X \\mapsto Q_j^* X Q_j$.  We want\n",
    "\n",
    "$$\n",
    "\\underbrace{Q_j^* \\cdots Q_2^* Q_1^*}_{Q^*} A \\underbrace{Q_1 Q_2 \\cdots Q_j}_{Q}\n",
    "$$\n",
    "\n",
    "to converge rapidly to an upper triangular matrix $T$ as $j \\to \\infty$."
   ]
  },
  {
   "cell_type": "markdown",
   "id": "ea4f1d67",
   "metadata": {
    "slideshow": {
     "slide_type": "fragment"
    }
   },
   "source": [
    "**Claim.** If $A$ is a normal matrix, $T$ is diagonal."
   ]
  },
  {
   "cell_type": "markdown",
   "id": "48cd84f0",
   "metadata": {
    "slideshow": {
     "slide_type": "subslide"
    }
   },
   "source": [
    "### Two phases of eigenvalue computations\n",
    "\n",
    "1. A direct method is applied to produce an **upper Hessenberg matrix** (a matrix with zeros below the main diagonal)\n",
    "\n",
    "$$\n",
    "H = \\begin{bmatrix}\n",
    "\\times & \\times & \\times & \\times & \\times \\\\\n",
    "\\times & \\times & \\times & \\times & \\times \\\\\n",
    "& \\times & \\times & \\times & \\times \\\\\n",
    "& & \\times & \\times & \\times \\\\\n",
    "& & & \\times & \\times \\\\\n",
    "\\end{bmatrix}\n",
    "$$"
   ]
  },
  {
   "cell_type": "markdown",
   "id": "bd9a9f7a",
   "metadata": {},
   "source": [
    "2. An iteration is appled to generate a (formally infinite) sequence of Hessenberg matrices that converges to a triangular form."
   ]
  },
  {
   "cell_type": "markdown",
   "id": "67b93ab1",
   "metadata": {
    "slideshow": {
     "slide_type": "subslide"
    }
   },
   "source": [
    "### $A$ is nonhermitian\n",
    "\n",
    "$$\n",
    "\\underbrace{\\begin{bmatrix}\n",
    "\\times & \\times & \\times & \\times & \\times \\\\\n",
    "\\times & \\times & \\times & \\times & \\times \\\\\n",
    "\\times & \\times & \\times & \\times & \\times \\\\\n",
    "\\times & \\times & \\times & \\times & \\times \\\\\n",
    "\\times & \\times & \\times & \\times & \\times \\\\\n",
    "\\end{bmatrix}}_{A}\n",
    "\\quad\n",
    "\\stackrel{\\text{Phase 1}}{\\longrightarrow}\n",
    "\\quad\n",
    "\\underbrace{\\begin{bmatrix}\n",
    "\\times & \\times & \\times & \\times & \\times \\\\\n",
    "\\times & \\times & \\times & \\times & \\times \\\\\n",
    "& \\times & \\times & \\times & \\times \\\\\n",
    "& & \\times & \\times & \\times \\\\\n",
    "& & & \\times & \\times \\\\\n",
    "\\end{bmatrix}}_{H}\n",
    "\\quad\n",
    "\\stackrel{\\text{Phase 2}}{\\longrightarrow}\n",
    "\\quad\n",
    "\\underbrace{\\begin{bmatrix}\n",
    "\\times & \\times & \\times & \\times & \\times \\\\\n",
    "& \\times & \\times & \\times & \\times \\\\\n",
    "& & \\times & \\times & \\times \\\\\n",
    "& & & \\times & \\times \\\\\n",
    "& & & & \\times \\\\\n",
    "\\end{bmatrix}}_{T}\n",
    "$$"
   ]
  },
  {
   "cell_type": "markdown",
   "id": "930617d1",
   "metadata": {},
   "source": [
    "- Phase 1: $O(m^3)$ operations\n",
    "- Phase 2: $O(m^2)$ operations **per iteration** ($O(m^3)$ if we did not do phase 1)"
   ]
  },
  {
   "cell_type": "markdown",
   "id": "b3161f8d",
   "metadata": {
    "slideshow": {
     "slide_type": "subslide"
    }
   },
   "source": [
    "### $A$ is hermitian\n",
    "\n",
    "$$\n",
    "\\underbrace{\\begin{bmatrix}\n",
    "\\times & \\times & \\times & \\times & \\times \\\\\n",
    "\\times & \\times & \\times & \\times & \\times \\\\\n",
    "\\times & \\times & \\times & \\times & \\times \\\\\n",
    "\\times & \\times & \\times & \\times & \\times \\\\\n",
    "\\times & \\times & \\times & \\times & \\times \\\\\n",
    "\\end{bmatrix}}_{A}\n",
    "\\quad\n",
    "\\stackrel{\\text{Phase 1}}{\\longrightarrow}\n",
    "\\quad\n",
    "\\underbrace{\\begin{bmatrix}\n",
    "\\times & \\times & & & \\\\\n",
    "\\times & \\times & \\times & & \\\\\n",
    "& \\times & \\times & \\times & \\\\\n",
    "& & \\times & \\times & \\times \\\\\n",
    "& & & \\times & \\times \\\\\n",
    "\\end{bmatrix}}_{T}\n",
    "\\quad\n",
    "\\stackrel{\\text{Phase 2}}{\\longrightarrow}\n",
    "\\quad\n",
    "\\underbrace{\\begin{bmatrix}\n",
    "\\times &  &  &  & \\\\\n",
    "& \\times & & & \\\\\n",
    "& & \\times & & \\\\\n",
    "& & & \\times & \\\\\n",
    "& & & & \\times \\\\\n",
    "\\end{bmatrix}}_{D}\n",
    "$$"
   ]
  },
  {
   "cell_type": "markdown",
   "id": "a471e5af",
   "metadata": {},
   "source": [
    "- Phase 1: $O(m^3)$ operations\n",
    "- Phase 2: $O(m)$ operations **per iteration** ($O(m^3)$ if we did not do phase 1)"
   ]
  },
  {
   "cell_type": "markdown",
   "id": "af915fd8",
   "metadata": {
    "slideshow": {
     "slide_type": "subslide"
    }
   },
   "source": [
    "### Exercise\n",
    "\n",
    "**T&B Exercise 25.1.** \n",
    "\n",
    "- Let $A \\in \\mathbb{C}^{m \\times m}$ be tridiagonal and Hermitian, with all its sub- and superdiagonal entries nonzero.  Prove that the eigenvalues of $A$ are distinct.\n",
    "\n",
    "- Let $A$ be upper-Hessenberg, with all its subdigonal entries nonzero.  Give an example that shows that the eigenvalues of $A$ are not necessarily distinct."
   ]
  },
  {
   "cell_type": "markdown",
   "id": "adc81110",
   "metadata": {
    "slideshow": {
     "slide_type": "slide"
    }
   },
   "source": [
    "## Reduction to Hessenberg or Tridiagonal Form"
   ]
  },
  {
   "cell_type": "markdown",
   "id": "6d22bccd",
   "metadata": {
    "slideshow": {
     "slide_type": "subslide"
    }
   },
   "source": [
    "### A Bad Idea\n",
    "\n",
    "We cannot be too greedy when trying to make the matrix triangular"
   ]
  },
  {
   "cell_type": "markdown",
   "id": "a0853124",
   "metadata": {
    "cell_style": "split",
    "slideshow": {
     "slide_type": "fragment"
    }
   },
   "source": [
    "$$\n",
    "\\underbrace{\\begin{bmatrix}\n",
    "\\circ & \\circ & \\circ & \\circ & \\circ \\\\\n",
    "\\circ & \\circ & \\circ & \\circ & \\circ \\\\\n",
    "\\circ & \\circ & \\circ & \\circ & \\circ \\\\\n",
    "\\circ & \\circ & \\circ & \\circ & \\circ \\\\\n",
    "\\circ & \\circ & \\circ & \\circ & \\circ\n",
    "\\end{bmatrix}}_{A}\n",
    "\\quad\n",
    "\\stackrel{Q_1^*}{\\longrightarrow}\n",
    "\\quad\n",
    "\\underbrace{\\begin{bmatrix}\n",
    "\\bullet & \\bullet & \\bullet & \\bullet & \\bullet \\\\\n",
    " & \\bullet & \\bullet & \\bullet & \\bullet \\\\\n",
    "  & \\bullet & \\bullet & \\bullet & \\bullet \\\\\n",
    "   & \\bullet & \\bullet & \\bullet & \\bullet \\\\\n",
    "    & \\bullet & \\bullet & \\bullet & \\bullet\n",
    "\\end{bmatrix}}_{Q_1^* A}\n",
    "\\quad\n",
    "$$"
   ]
  },
  {
   "cell_type": "markdown",
   "id": "86993887",
   "metadata": {
    "cell_style": "split",
    "slideshow": {
     "slide_type": "fragment"
    }
   },
   "source": [
    "$$\n",
    "\\underbrace{\\begin{bmatrix}\n",
    "\\circ & \\circ & \\circ & \\circ & \\circ \\\\\n",
    " & \\circ & \\circ & \\circ & \\circ \\\\\n",
    " & \\circ & \\circ & \\circ & \\circ \\\\\n",
    " & \\circ & \\circ & \\circ & \\circ \\\\\n",
    " & \\circ & \\circ & \\circ & \\circ\n",
    "\\end{bmatrix}}_{Q_1^* A}\n",
    "\\quad\n",
    "\\stackrel{Q_1}{\\longrightarrow}\n",
    "\\quad\n",
    "\\underbrace{\\begin{bmatrix}\n",
    "\\bullet & \\bullet & \\bullet & \\bullet & \\bullet \\\\\n",
    "\\bullet & \\bullet & \\bullet & \\bullet & \\bullet \\\\\n",
    "\\bullet & \\bullet & \\bullet & \\bullet & \\bullet \\\\\n",
    "\\bullet & \\bullet & \\bullet & \\bullet & \\bullet \\\\\n",
    "\\bullet & \\bullet & \\bullet & \\bullet & \\bullet\n",
    "\\end{bmatrix}}_{Q_1^* A Q_1}\n",
    "\\quad\n",
    "$$"
   ]
  },
  {
   "cell_type": "code",
   "execution_count": null,
   "id": "e79bd886",
   "metadata": {
    "cell_style": "split",
    "slideshow": {
     "slide_type": "subslide"
    }
   },
   "outputs": [],
   "source": [
    "m = 5\n",
    "A = randn(m,m)\n",
    "scale = maximum(abs.(A))\n",
    "imshow(A, clim=(-scale, scale), size=(450,450))"
   ]
  },
  {
   "cell_type": "code",
   "execution_count": null,
   "id": "533774d7",
   "metadata": {
    "cell_style": "split",
    "slideshow": {
     "slide_type": "fragment"
    }
   },
   "outputs": [],
   "source": [
    "q = A[:,1]\n",
    "z = copy(q)\n",
    "z[1] += sign(q[1]) * norm(q)\n",
    "Q = I - 2. * z * z' / (z' * z)\n",
    "QA = Q' * A\n",
    "imshow(QA, clim=(-scale,scale), size=(450,450))"
   ]
  },
  {
   "cell_type": "code",
   "execution_count": null,
   "id": "654ef21f",
   "metadata": {
    "cell_style": "split",
    "slideshow": {
     "slide_type": "subslide"
    }
   },
   "outputs": [],
   "source": [
    "QAQ = QA * Q\n",
    "imshow(QAQ, clim=(-scale,scale), size=(450,450))"
   ]
  },
  {
   "cell_type": "markdown",
   "id": "502319cf",
   "metadata": {
    "cell_style": "split",
    "slideshow": {
     "slide_type": "fragment"
    }
   },
   "source": [
    "- This had to fail: otherwise we would have a direct computation of eigenvalues"
   ]
  },
  {
   "cell_type": "markdown",
   "id": "d1611ada",
   "metadata": {},
   "source": [
    "### A Good Idea"
   ]
  },
  {
   "cell_type": "markdown",
   "id": "9d3162c1",
   "metadata": {
    "cell_style": "split",
    "slideshow": {
     "slide_type": "fragment"
    }
   },
   "source": [
    "$$\n",
    "\\underbrace{\\begin{bmatrix}\n",
    "\\circ & \\circ & \\circ & \\circ & \\circ \\\\\n",
    "\\circ & \\circ & \\circ & \\circ & \\circ \\\\\n",
    "\\circ & \\circ & \\circ & \\circ & \\circ \\\\\n",
    "\\circ & \\circ & \\circ & \\circ & \\circ \\\\\n",
    "\\circ & \\circ & \\circ & \\circ & \\circ\n",
    "\\end{bmatrix}}_{A}\n",
    "\\quad\n",
    "\\stackrel{Q_1^*}{\\longrightarrow}\n",
    "\\quad\n",
    "\\underbrace{\\begin{bmatrix}\n",
    "\\circ & \\circ & \\circ & \\circ & \\circ \\\\\n",
    "\\bullet & \\bullet & \\bullet & \\bullet & \\bullet \\\\\n",
    " & \\bullet & \\bullet & \\bullet & \\bullet \\\\\n",
    "  & \\bullet & \\bullet & \\bullet & \\bullet \\\\\n",
    "   & \\bullet & \\bullet & \\bullet & \\bullet\n",
    "\\end{bmatrix}}_{Q_1^* A}\n",
    "\\quad\n",
    "$$"
   ]
  },
  {
   "cell_type": "markdown",
   "id": "f3c79864",
   "metadata": {
    "cell_style": "split",
    "slideshow": {
     "slide_type": "fragment"
    }
   },
   "source": [
    "$$\n",
    "\\underbrace{\\begin{bmatrix}\n",
    "\\circ & \\circ & \\circ & \\circ & \\circ \\\\\n",
    "\\circ & \\circ & \\circ & \\circ & \\circ \\\\\n",
    " & \\circ & \\circ & \\circ & \\circ \\\\\n",
    " & \\circ & \\circ & \\circ & \\circ \\\\\n",
    " & \\circ & \\circ & \\circ & \\circ\n",
    "\\end{bmatrix}}_{Q_1^* A}\n",
    "\\quad\n",
    "\\stackrel{Q_1}{\\longrightarrow}\n",
    "\\quad\n",
    "\\underbrace{\\begin{bmatrix}\n",
    "\\circ & \\bullet & \\bullet & \\bullet & \\bullet \\\\\n",
    "\\circ & \\bullet & \\bullet & \\bullet & \\bullet \\\\\n",
    "& \\bullet & \\bullet & \\bullet & \\bullet \\\\\n",
    "& \\bullet & \\bullet & \\bullet & \\bullet \\\\\n",
    "& \\bullet & \\bullet & \\bullet & \\bullet\n",
    "\\end{bmatrix}}_{Q_1^* A Q_1}\n",
    "\\quad\n",
    "$$"
   ]
  },
  {
   "cell_type": "code",
   "execution_count": null,
   "id": "cfc388ea",
   "metadata": {
    "cell_style": "split",
    "slideshow": {
     "slide_type": "subslide"
    }
   },
   "outputs": [],
   "source": [
    "q = A[2:end,1]\n",
    "z = copy(q)\n",
    "z[1] += sign(q[1]) * norm(q)\n",
    "Q = I - 2. * z * z' / (z' * z)\n",
    "display(size(Q))\n",
    "QA = [A[[1],:]; Q' * A[2:end,:]]\n",
    "imshow(QA, clim=(-scale,scale), size=(450,450))"
   ]
  },
  {
   "cell_type": "code",
   "execution_count": null,
   "id": "0290c7b4",
   "metadata": {
    "cell_style": "split",
    "slideshow": {
     "slide_type": "fragment"
    }
   },
   "outputs": [],
   "source": [
    "QAQ = [QA[:,1] QA[:,2:end] * Q]\n",
    "imshow(QAQ, clim=(-scale,scale), size=(450,450))"
   ]
  },
  {
   "cell_type": "markdown",
   "id": "50728f07",
   "metadata": {
    "cell_style": "split",
    "slideshow": {
     "slide_type": "subslide"
    }
   },
   "source": [
    "$$\n",
    "\\underbrace{\\begin{bmatrix}\n",
    "\\circ & \\circ & \\circ & \\circ & \\circ \\\\\n",
    "\\circ & \\circ & \\circ & \\circ & \\circ \\\\\n",
    "& \\circ & \\circ & \\circ & \\circ \\\\\n",
    "& \\circ & \\circ & \\circ & \\circ \\\\\n",
    "& \\circ & \\circ & \\circ & \\circ\n",
    "\\end{bmatrix}}_{Q_1^* A Q_1}\n",
    "\\quad\n",
    "\\stackrel{Q_2^*}{\\longrightarrow}\n",
    "\\quad\n",
    "\\underbrace{\\begin{bmatrix}\n",
    "\\circ & \\circ & \\circ & \\circ & \\circ \\\\\n",
    "\\circ & \\circ & \\circ & \\circ & \\circ \\\\\n",
    " & \\bullet & \\bullet & \\bullet & \\bullet \\\\\n",
    "  & & \\bullet & \\bullet & \\bullet \\\\\n",
    "   & & \\bullet & \\bullet & \\bullet\n",
    "\\end{bmatrix}}_{Q_2^* Q_1^* A Q_1}\n",
    "\\quad\n",
    "\\stackrel{Q_2}{\\longrightarrow}\n",
    "\\quad\n",
    "\\underbrace{\\begin{bmatrix}\n",
    "\\circ & \\circ & \\bullet & \\bullet & \\bullet \\\\\n",
    "\\circ & \\circ & \\bullet & \\bullet & \\bullet \\\\\n",
    "& \\circ & \\bullet & \\bullet & \\bullet \\\\\n",
    "& & \\bullet & \\bullet & \\bullet \\\\\n",
    "& & \\bullet & \\bullet & \\bullet\n",
    "\\end{bmatrix}}_{Q_2^* Q_1^* A Q_1 Q_2}\n",
    "$$"
   ]
  },
  {
   "cell_type": "code",
   "execution_count": null,
   "id": "683aa42d",
   "metadata": {
    "slideshow": {
     "slide_type": "subslide"
    }
   },
   "outputs": [],
   "source": [
    "function householder_to_hessenberg(A)\n",
    "    m = size(A)[1]\n",
    "    Q = Matrix(one(eltype(A))*I,m,m)\n",
    "    H = copy(A)\n",
    "    for k in 1:m-2\n",
    "        x = H[k+1:m,k]\n",
    "        vₖ = copy(x)\n",
    "        vₖ[1] += norm(x) * sign(x[1])\n",
    "        vₖ /= norm(vₖ)\n",
    "        H[k+1:m,k:m] -= 2 * vₖ * (vₖ' * H[k+1:m,k:m]) # Qₖ' on left\n",
    "        H[1:m,k+1:m] -= 2 * (H[1:m,k+1:m] * vₖ) * vₖ' # Qₖ on right\n",
    "        Q[:,k+1:m] = Q[:,k+1:m] * (I - 2 * vₖ * vₖ')\n",
    "    end\n",
    "    return Q, H\n",
    "end"
   ]
  },
  {
   "cell_type": "code",
   "execution_count": null,
   "id": "8b812d95",
   "metadata": {
    "cell_style": "split",
    "slideshow": {
     "slide_type": "subslide"
    }
   },
   "outputs": [],
   "source": [
    "A = randn(m,m)\n",
    "scale = maximum(abs.(A))\n",
    "imshow(A, clim=(-scale, scale), size=(450,450))"
   ]
  },
  {
   "cell_type": "code",
   "execution_count": null,
   "id": "a98cd457",
   "metadata": {
    "cell_style": "split"
   },
   "outputs": [],
   "source": [
    "Q, H = householder_to_hessenberg(A)\n",
    "display(norm(Q * H * Q' - A))\n",
    "imshow(H, clim=(-scale, scale), size=(450,450))"
   ]
  },
  {
   "cell_type": "markdown",
   "id": "8dae9834",
   "metadata": {
    "slideshow": {
     "slide_type": "subslide"
    }
   },
   "source": [
    "### Operation Count"
   ]
  },
  {
   "cell_type": "code",
   "execution_count": null,
   "id": "53962f76",
   "metadata": {
    "slideshow": {
     "slide_type": "-"
    }
   },
   "outputs": [],
   "source": [
    "function householder_to_hessenberg(A)\n",
    "    m = size(A)[1]\n",
    "    Q = Matrix(one(eltype(A))*I,m,m)\n",
    "    H = copy(A)\n",
    "    for k in 1:m-2\n",
    "        x = H[k+1:m,k]\n",
    "        vₖ = copy(x)\n",
    "        vₖ[1] += norm(x) * sign(x[1])\n",
    "        vₖ /= norm(vₖ)\n",
    "        H[k+1:m,k:m] -= 2 * vₖ * (vₖ' * H[k+1:m,k:m]) # ~ 4 (m-k) (m-k-1)\n",
    "        H[1:m,k+1:m] -= 2 * (H[1:m,k+1:m] * vₖ) * vₖ' # ~ 4 m (m-k)\n",
    "        Q[:,k+1:m] = Q[:,k+1:m] * (I - 2 * vₖ * vₖ')\n",
    "    end\n",
    "    return Q, H\n",
    "end"
   ]
  },
  {
   "cell_type": "markdown",
   "id": "0a41ed87",
   "metadata": {
    "slideshow": {
     "slide_type": "fragment"
    }
   },
   "source": [
    "- Line 10: $\\sum_{k=1}^{m-2} 4(m-k)(m-k-1) \\sim 4 \\int_0^m k^2\\ dk = \\frac{4}{3} m^3.$"
   ]
  },
  {
   "cell_type": "markdown",
   "id": "74bf876e",
   "metadata": {
    "slideshow": {
     "slide_type": "fragment"
    }
   },
   "source": [
    "- Line 11: $\\sum_{k=1}^{m-2} 4 m (m-k) \\sim 4 m \\int_0^m k\\ dk = 2 m^3$"
   ]
  },
  {
   "cell_type": "markdown",
   "id": "740d57d5",
   "metadata": {
    "slideshow": {
     "slide_type": "fragment"
    }
   },
   "source": [
    "- $\\Rightarrow \\frac{10}{3} m^3$ flops"
   ]
  },
  {
   "cell_type": "markdown",
   "id": "9806f216",
   "metadata": {
    "slideshow": {
     "slide_type": "slide"
    }
   },
   "source": [
    "### The Hermitian Case: Reduction to Tridiagonal Form"
   ]
  },
  {
   "cell_type": "code",
   "execution_count": null,
   "id": "a8fbffa8",
   "metadata": {
    "slideshow": {
     "slide_type": "subslide"
    }
   },
   "outputs": [],
   "source": [
    "function householder_to_triangular(A)\n",
    "    m = size(A)[1]\n",
    "    Q = Matrix(one(eltype(A))*I,m,m)\n",
    "    H = copy(A)\n",
    "    for k in 1:m-2\n",
    "        x = H[k+1:m,k]\n",
    "        vₖ = copy(x)\n",
    "        vₖ[1] += norm(x) * sign(x[1])\n",
    "        vₖ /= norm(vₖ)\n",
    "        H[k+1:m,k:m] -= 2 * vₖ * (vₖ' * H[k+1:m,k:m]) # Qₖ' on left\n",
    "        H[k:m,k+1:m] -= 2 * (H[k:m,k+1:m] * vₖ) * vₖ' # Qₖ on right\n",
    "        Q[:,k+1:m] = Q[:,k+1:m] * (I - 2 * vₖ * vₖ')\n",
    "    end\n",
    "    return Q, H\n",
    "end"
   ]
  },
  {
   "cell_type": "code",
   "execution_count": null,
   "id": "13376f30",
   "metadata": {
    "cell_style": "split",
    "slideshow": {
     "slide_type": "subslide"
    }
   },
   "outputs": [],
   "source": [
    "A = randn(m,m)\n",
    "A = A + A'\n",
    "scale = maximum(abs.(A))\n",
    "imshow(A, clim=(-scale, scale), size=(450,450))"
   ]
  },
  {
   "cell_type": "code",
   "execution_count": null,
   "id": "ed43e997",
   "metadata": {
    "cell_style": "split",
    "scrolled": false
   },
   "outputs": [],
   "source": [
    "Q, H = householder_to_triangular(A)\n",
    "display(norm(Q * H * Q' - A))\n",
    "imshow(H, clim=(-scale, scale), size=(450,450))"
   ]
  },
  {
   "cell_type": "code",
   "execution_count": null,
   "id": "8738ff46",
   "metadata": {
    "slideshow": {
     "slide_type": "subslide"
    }
   },
   "outputs": [],
   "source": [
    "function householder_to_triangular(A)\n",
    "    m = size(A)[1]\n",
    "    Q = Matrix(one(eltype(A))*I,m,m)\n",
    "    H = copy(A)\n",
    "    for k in 1:m-2\n",
    "        x = H[k+1:m,k]\n",
    "        vₖ = copy(x)\n",
    "        vₖ[1] += norm(x) * sign(x[1])\n",
    "        vₖ /= norm(vₖ)\n",
    "        H[k+1:m,k:m] -= 2 * vₖ * (vₖ' * H[k+1:m,k:m]) # 4 (m-k)(m-k-1)\n",
    "        H[k:m,k+1:m] -= 2 * (H[k:m,k+1:m] * vₖ) * vₖ' # 4 (m-k-1)(m-k)\n",
    "        Q[:,k+1:m] = Q[:,k+1:m] * (I - 2 * vₖ * vₖ')\n",
    "    end\n",
    "    return Q, H\n",
    "end"
   ]
  },
  {
   "cell_type": "markdown",
   "id": "4f52bfea",
   "metadata": {
    "slideshow": {
     "slide_type": "subslide"
    }
   },
   "source": [
    "### Operation Count"
   ]
  },
  {
   "cell_type": "markdown",
   "id": "91d0e896",
   "metadata": {},
   "source": [
    "- $\\sim 2 \\frac{4}{3} m^3 = \\frac{8}{3} m^3$, but this doesn't take advantage of symmetry\n",
    "- This can be exploited to reduce by half the number of updated entries, $\\frac{4}{3}m^3$ work"
   ]
  },
  {
   "cell_type": "markdown",
   "id": "3f65f5eb",
   "metadata": {
    "slideshow": {
     "slide_type": "subslide"
    }
   },
   "source": [
    "### Stability"
   ]
  },
  {
   "cell_type": "markdown",
   "id": "687db723",
   "metadata": {},
   "source": [
    "**Theorem 26.1.** Let the Hessenberg reduction $A = QHQ^*$ of a matrix $A \\in C^{m \\times m}$ be computed by `householder_to_hessenberg` on a computer satisfying the floating point axioms, and let the computed factors $\\tilde{Q}$ and $\\tilde{H}$ be computed factors, with $\\tilde{Q}$ the exact product of exactly unitary Householder reflectors from computed $\\tilde{v}_k$.  Then\n",
    "\n",
    "$$\n",
    "\\tilde{Q} \\tilde{H} \\tilde{Q}^* = A + \\delta A, \\quad \\frac{\\|\\delta A\\|}{\\|A\\|} = O(\\epsilon_{\\text{machine}})\n",
    "$$\n",
    "\n",
    "for some $\\delta A$."
   ]
  }
 ],
 "metadata": {
  "@webio": {
   "lastCommId": null,
   "lastKernelId": null
  },
  "celltoolbar": "Slideshow",
  "hide_input": false,
  "kernelspec": {
   "display_name": "Julia 1.7.0",
   "language": "julia",
   "name": "julia-1.7"
  },
  "language_info": {
   "file_extension": ".jl",
   "mimetype": "application/julia",
   "name": "julia",
   "version": "1.7.0"
  }
 },
 "nbformat": 4,
 "nbformat_minor": 5
}
